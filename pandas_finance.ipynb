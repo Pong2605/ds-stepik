{
 "cells": [
  {
   "cell_type": "code",
   "execution_count": 1,
   "metadata": {},
   "outputs": [],
   "source": [
    "import pandas as pd\n",
    "import numpy as np"
   ]
  },
  {
   "cell_type": "markdown",
   "metadata": {},
   "source": [
    "# 1.1 Структура данных Series"
   ]
  },
  {
   "cell_type": "code",
   "execution_count": 2,
   "metadata": {},
   "outputs": [
    {
     "data": {
      "text/plain": [
       "ММК             52.5\n",
       "Северсталь    1386.2\n",
       "dtype: float64"
      ]
     },
     "execution_count": 2,
     "metadata": {},
     "output_type": "execute_result"
    }
   ],
   "source": [
    "shares = {'ММК': 52.50, 'Северсталь': 1386.20, 'НЛМК': 214.20} \n",
    "\n",
    "ser = pd.Series(shares, index=['ММК', 'Северсталь'])\n",
    "\n",
    "ser"
   ]
  },
  {
   "cell_type": "code",
   "execution_count": 3,
   "metadata": {},
   "outputs": [
    {
     "data": {
      "text/plain": [
       "0    0\n",
       "1    0\n",
       "2    0\n",
       "3    0\n",
       "4    0\n",
       "dtype: int64"
      ]
     },
     "execution_count": 3,
     "metadata": {},
     "output_type": "execute_result"
    }
   ],
   "source": [
    "ser = pd.Series(data=0, index=range(5))\n",
    "\n",
    "ser"
   ]
  },
  {
   "cell_type": "code",
   "execution_count": 4,
   "metadata": {},
   "outputs": [
    {
     "name": "stdout",
     "output_type": "stream",
     "text": [
      "a    1\n",
      "b    2\n",
      "c    3\n",
      "d    4\n",
      "e    5\n",
      "f    6\n",
      "g    7\n",
      "dtype: int64\n"
     ]
    }
   ],
   "source": [
    "from string import ascii_lowercase\n",
    "\n",
    "ser = pd.Series(range(1, 8), list(ascii_lowercase[0:7]))\n",
    "\n",
    "print(ser)"
   ]
  },
  {
   "cell_type": "code",
   "execution_count": 5,
   "metadata": {},
   "outputs": [
    {
     "data": {
      "text/plain": [
       "['a', 'b', 'c', 'd', 'e', 'f', 'g']"
      ]
     },
     "execution_count": 5,
     "metadata": {},
     "output_type": "execute_result"
    }
   ],
   "source": [
    "[chr(c) for c in range(ord('a'), ord('g') + 1)]"
   ]
  },
  {
   "cell_type": "code",
   "execution_count": 6,
   "metadata": {},
   "outputs": [
    {
     "data": {
      "text/plain": [
       "Moody's             США\n",
       "Fitch Ratings       США\n",
       "Эксперт РА       Россия\n",
       "dtype: object"
      ]
     },
     "execution_count": 6,
     "metadata": {},
     "output_type": "execute_result"
    }
   ],
   "source": [
    "d = {\"Moody's\": \"США\", \"Standard & Poor's\": \"США\", \"Fitch Ratings\": \"США\",\n",
    "     \"АКРА\": \"Россия\", \"Эксперт РА\": \"Россия\", \"НРА\": \"Россия\"}\n",
    "srs = pd.Series(d)\n",
    "# Продолжите написание кода здесь\n",
    "\n",
    "srs[::2]"
   ]
  },
  {
   "cell_type": "code",
   "execution_count": 7,
   "metadata": {},
   "outputs": [
    {
     "data": {
      "text/plain": [
       "BANE                ПАО АНК \"Башнефть\"\n",
       "LKOH                      ПАО \"ЛУКОЙЛ\"\n",
       "NVTK                     ПАО \"НОВАТЭК\"\n",
       "ROSN                ПАО \"НК \"Роснефть\"\n",
       "TATN     ПАО \"Татнефть\" им. В.Д.Шашина\n",
       "TRNFL                 ПАО \"Транснефть\"\n",
       "GAZP                     ПАО \"Газпром\"\n",
       "SIBN               ПАО \"Газпром нефть\"\n",
       "SNGS              ПАО \"Сургутнефтегаз\"\n",
       "dtype: object"
      ]
     },
     "execution_count": 7,
     "metadata": {},
     "output_type": "execute_result"
    }
   ],
   "source": [
    "d = {'BANE': 'ПАО АНК \"Башнефть\"', 'LKOH': 'ПАО \"ЛУКОЙЛ\"', \n",
    "     'NVTK': 'ПАО \"НОВАТЭК\"', 'ROSN': 'ПАО \"НК \"Роснефть\"',\n",
    "     'TATN': 'ПАО \"Татнефть\" им. В.Д.Шашина', 'TRNFL': 'ПАО \"Транснефть\"'}\n",
    "srs = pd.Series(d)\n",
    "# Продолжите написание кода здесь\n",
    "\n",
    "tickers = ['GAZP', 'SIBN', 'SNGS']\n",
    "stocks = ['ПАО \"Газпром\"', 'ПАО \"Газпром нефть\"', 'ПАО \"Сургутнефтегаз\"']\n",
    "\n",
    "for i in range(len(tickers)):\n",
    "    srs[tickers[i]] = stocks[i]\n",
    "\n",
    "srs"
   ]
  },
  {
   "cell_type": "code",
   "execution_count": 8,
   "metadata": {},
   "outputs": [
    {
     "data": {
      "text/plain": [
       "BANE                ПАО АНК \"Башнефть\"\n",
       "LKOH                      ПАО \"ЛУКОЙЛ\"\n",
       "NVTK                     ПАО \"НОВАТЭК\"\n",
       "ROSN                ПАО \"НК \"Роснефть\"\n",
       "TATN     ПАО \"Татнефть\" им. В.Д.Шашина\n",
       "TRNFL                 ПАО \"Транснефть\"\n",
       "GAZP                     ПАО \"Газпром\"\n",
       "SIBN               ПАО \"Газпром нефть\"\n",
       "SNGS              ПАО \"Сургутнефтегаз\"\n",
       "dtype: object"
      ]
     },
     "execution_count": 8,
     "metadata": {},
     "output_type": "execute_result"
    }
   ],
   "source": [
    "d.update({'GAZP': 'ПАО \"Газпром\"', 'SIBN': 'ПАО \"Газпром нефть\"', 'SNGS': 'ПАО \"Сургутнефтегаз\"'})\n",
    "srs = pd.Series(d)\n",
    "srs"
   ]
  },
  {
   "cell_type": "code",
   "execution_count": 9,
   "metadata": {},
   "outputs": [
    {
     "data": {
      "text/plain": [
       "BSPB        ПАО \"Банк \"Санкт-Петербург\"\n",
       "CBOM    ПАО \"МОСКОВСКИЙ КРЕДИТНЫЙ БАНК\"\n",
       "ROSB                        ПАО РОСБАНК\n",
       "SBER                       ПАО Сбербанк\n",
       "USBN                 ПАО \"БАНК УРАЛСИБ\"\n",
       "VTBR                     Банк ВТБ (ПАО)\n",
       "dtype: object"
      ]
     },
     "execution_count": 9,
     "metadata": {},
     "output_type": "execute_result"
    }
   ],
   "source": [
    "# Поменяйте местами колонки индексов и значений.\n",
    "d = {'BSPB': 'ПАО \"Банк \"Санкт-Петербург\"', 'CBOM': 'ПАО \"МОСКОВСКИЙ КРЕДИТНЫЙ БАНК\"', \n",
    "     'ROSB': 'ПАО РОСБАНК', 'SBER': 'ПАО Сбербанк',\n",
    "     'USBN': 'ПАО \"БАНК УРАЛСИБ\"', 'VTBR': 'Банк ВТБ (ПАО)'}\n",
    "srs = pd.Series(d)\n",
    "srs"
   ]
  },
  {
   "cell_type": "code",
   "execution_count": 10,
   "metadata": {},
   "outputs": [
    {
     "data": {
      "text/plain": [
       "ПАО \"Банк \"Санкт-Петербург\"        BSPB\n",
       "ПАО \"МОСКОВСКИЙ КРЕДИТНЫЙ БАНК\"    CBOM\n",
       "ПАО РОСБАНК                        ROSB\n",
       "ПАО Сбербанк                       SBER\n",
       "ПАО \"БАНК УРАЛСИБ\"                 USBN\n",
       "Банк ВТБ (ПАО)                     VTBR\n",
       "dtype: object"
      ]
     },
     "execution_count": 10,
     "metadata": {},
     "output_type": "execute_result"
    }
   ],
   "source": [
    "pd.Series(srs.index.values, index=srs)"
   ]
  },
  {
   "cell_type": "code",
   "execution_count": 11,
   "metadata": {},
   "outputs": [
    {
     "data": {
      "text/plain": [
       "AMEZ         ПАО \"Ашинский метзавод\"\n",
       "CHMF                ПАО \"Северсталь\"\n",
       "CHMK                       ПАО \"ЧМК\"\n",
       "GMKN    ПАО \"ГМК \"Норильский никель\"\n",
       "MAGN                       ПАО \"ММК\"\n",
       "MTLR                     ПАО \"Мечел\"\n",
       "NLMK                      ПАО \"НЛМК\"\n",
       "RUAL                МКПАО \"ОК РУСАЛ\"\n",
       "TRMK                       ПАО \"ТМК\"\n",
       "dtype: object"
      ]
     },
     "execution_count": 11,
     "metadata": {},
     "output_type": "execute_result"
    }
   ],
   "source": [
    "# Удалите из серии каждое чётное значение.\n",
    "d = {'AMEZ': 'ПАО \"Ашинский метзавод\"', 'CHMF': 'ПАО \"Северсталь\"', \n",
    "     'CHMK': 'ПАО \"ЧМК\"', 'GMKN': 'ПАО \"ГМК \"Норильский никель\"',\n",
    "     'MAGN': 'ПАО \"ММК\"', 'MTLR': 'ПАО \"Мечел\"',\n",
    "     'NLMK': 'ПАО \"НЛМК\"', 'RUAL': 'МКПАО \"ОК РУСАЛ\"',\n",
    "     'TRMK': 'ПАО \"ТМК\"'}\n",
    "srs = pd.Series(d)\n",
    "srs"
   ]
  },
  {
   "cell_type": "code",
   "execution_count": 12,
   "metadata": {},
   "outputs": [
    {
     "name": "stdout",
     "output_type": "stream",
     "text": [
      "AMEZ    ПАО \"Ашинский метзавод\"\n",
      "CHMK                  ПАО \"ЧМК\"\n",
      "MAGN                  ПАО \"ММК\"\n",
      "NLMK                 ПАО \"НЛМК\"\n",
      "TRMK                  ПАО \"ТМК\"\n",
      "dtype: object\n",
      "AMEZ    ПАО \"Ашинский метзавод\"\n",
      "CHMK                  ПАО \"ЧМК\"\n",
      "MAGN                  ПАО \"ММК\"\n",
      "NLMK                 ПАО \"НЛМК\"\n",
      "TRMK                  ПАО \"ТМК\"\n",
      "dtype: object\n"
     ]
    }
   ],
   "source": [
    "print(srs.drop(srs[1::2].index))\n",
    "print(srs.drop(srs.index[1::2]))"
   ]
  },
  {
   "cell_type": "code",
   "execution_count": 15,
   "metadata": {},
   "outputs": [
    {
     "data": {
      "text/plain": [
       "2022    702011\n",
       "2021    889358\n",
       "2020    752179\n",
       "Name: Валовая прибыль, в млн рублей, dtype: int64"
      ]
     },
     "execution_count": 15,
     "metadata": {},
     "output_type": "execute_result"
    }
   ],
   "source": [
    "d1 = {'2022': 1184477, '2021': 1316948, '2020': 1116969}\n",
    "srs1 = pd.Series(d1, name='Выручка, в млн рублей')\n",
    "d2 = {'2022': 426329, '2021': 372728, '2020': 324308}\n",
    "srs2 = pd.Series(d2, name='Себестоимость реализованных металлов, в млн рублей')\n",
    "d3 = {'2022': 56137, '2021': 54862, '2020': 40482}\n",
    "srs3 = pd.Series(d3, name='Себестоимость прочей реализации, в млн рублей')\n",
    "# Продолжите написание кода здесь\n",
    "srs = pd.Series(srs1.sub(srs2 + srs3), name = 'Валовая прибыль, в млн рублей')\n",
    "srs"
   ]
  },
  {
   "cell_type": "code",
   "execution_count": null,
   "metadata": {},
   "outputs": [],
   "source": [
    "# P/E = Капитализация / Чистая прибыль\n",
    "\n",
    "# P/E является самым популярным мультипликатором, который сравнивает стоимость компании с главным итогом деятельности - чистой прибылью. \n",
    "# В классическом варианте для сравнения берутся капитализация за последний торговый день года и чистая прибыль за этот год.\n",
    "# По сути, отношений цены к чистой прибыли показывает сумму в рублях, которую инвестор может инвестировать в компанию, чтобы получить один рубль прибыли этой компании.\n",
    "# При сравнении двух компаний P/E показывает, насколько рубль чистой прибыли одной компании оценивается инвесторами выше, чем рубль чистой прибыли другой. \n",
    "# При прочих равных условиях интереснее та компания, у которой значение P/E меньше, а значит есть вероятность того, что она недооценена и ее акции могут расти быстрее."
   ]
  },
  {
   "cell_type": "code",
   "execution_count": 16,
   "metadata": {},
   "outputs": [
    {
     "name": "stdout",
     "output_type": "stream",
     "text": [
      "ПАО \"Россети\"     54210000000\n",
      "ПАО \"РусГидро\"    19325000000\n",
      "ПАО \"Юнипро\"      21267722000\n",
      "Name: Чистая прибыль за 2022 год, руб., dtype: int64\n",
      "\n",
      "ПАО \"Россети\"     1.108449e+11\n",
      "ПАО \"РусГидро\"    3.332006e+11\n",
      "ПАО \"Юнипро\"      8.486356e+10\n",
      "Name: Капитализация на конец 2022 года, в млн рублей, dtype: float64\n",
      "\n",
      "ПАО \"Россети\"      2.0\n",
      "ПАО \"РусГидро\"    17.2\n",
      "ПАО \"Юнипро\"       4.0\n",
      "Name: P/E 2022 год, dtype: float64\n"
     ]
    }
   ],
   "source": [
    "\n",
    "d1 = {'ПАО \"Россети\"': 54_210_000_000, 'ПАО \"РусГидро\"': 19_325_000_000, \n",
    "      'ПАО \"Юнипро\"': 21_267_722_000}\n",
    "srs1 = pd.Series(d1, name='Чистая прибыль за 2022 год, руб.')\n",
    "d2 = {'ПАО \"Россети\"': 110_844_896_493.56, 'ПАО \"РусГидро\"': 333_200_635_086.47, \n",
    "      'ПАО \"Юнипро\"': 84_863_558_471.17}\n",
    "srs2 = pd.Series(d2, name='Капитализация на конец 2022 года, в млн рублей')\n",
    "# Продолжите написание кода здесь\n",
    "\n",
    "srs = pd.Series(srs2.div(srs1).round(1), name='P/E 2022 год')\n",
    "\n",
    "print(srs1, srs2, srs, sep='\\n\\n')"
   ]
  },
  {
   "cell_type": "code",
   "execution_count": null,
   "metadata": {},
   "outputs": [],
   "source": []
  }
 ],
 "metadata": {
  "kernelspec": {
   "display_name": "base",
   "language": "python",
   "name": "python3"
  },
  "language_info": {
   "codemirror_mode": {
    "name": "ipython",
    "version": 3
   },
   "file_extension": ".py",
   "mimetype": "text/x-python",
   "name": "python",
   "nbconvert_exporter": "python",
   "pygments_lexer": "ipython3",
   "version": "3.11.7"
  }
 },
 "nbformat": 4,
 "nbformat_minor": 2
}
