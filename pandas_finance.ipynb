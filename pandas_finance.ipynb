{
 "cells": [
  {
   "cell_type": "code",
   "execution_count": 1,
   "metadata": {},
   "outputs": [],
   "source": [
    "import pandas as pd\n",
    "import numpy as np"
   ]
  },
  {
   "cell_type": "markdown",
   "metadata": {},
   "source": [
    "# 1.1 Структура данных Series"
   ]
  },
  {
   "cell_type": "code",
   "execution_count": 47,
   "metadata": {},
   "outputs": [
    {
     "data": {
      "text/plain": [
       "ММК             52.5\n",
       "Северсталь    1386.2\n",
       "dtype: float64"
      ]
     },
     "execution_count": 47,
     "metadata": {},
     "output_type": "execute_result"
    }
   ],
   "source": [
    "shares = {'ММК': 52.50, 'Северсталь': 1386.20, 'НЛМК': 214.20} \n",
    "\n",
    "ser = pd.Series(shares, index=['ММК', 'Северсталь'])\n",
    "\n",
    "ser"
   ]
  },
  {
   "cell_type": "code",
   "execution_count": 52,
   "metadata": {},
   "outputs": [
    {
     "data": {
      "text/plain": [
       "0    0\n",
       "1    0\n",
       "2    0\n",
       "3    0\n",
       "4    0\n",
       "dtype: int64"
      ]
     },
     "execution_count": 52,
     "metadata": {},
     "output_type": "execute_result"
    }
   ],
   "source": [
    "ser = pd.Series(data=0, index=range(5))\n",
    "\n",
    "ser"
   ]
  },
  {
   "cell_type": "code",
   "execution_count": 54,
   "metadata": {},
   "outputs": [
    {
     "name": "stdout",
     "output_type": "stream",
     "text": [
      "a    1\n",
      "b    2\n",
      "c    3\n",
      "d    4\n",
      "e    5\n",
      "f    6\n",
      "g    7\n",
      "dtype: int64\n"
     ]
    }
   ],
   "source": [
    "from string import ascii_lowercase\n",
    "\n",
    "ser = pd.Series(range(1, 8), list(ascii_lowercase[0:7]))\n",
    "\n",
    "print(ser)"
   ]
  },
  {
   "cell_type": "code",
   "execution_count": 57,
   "metadata": {},
   "outputs": [
    {
     "data": {
      "text/plain": [
       "['a', 'b', 'c', 'd', 'e', 'f', 'g']"
      ]
     },
     "execution_count": 57,
     "metadata": {},
     "output_type": "execute_result"
    }
   ],
   "source": [
    "[chr(c) for c in range(ord('a'), ord('g') + 1)]"
   ]
  },
  {
   "cell_type": "code",
   "execution_count": 88,
   "metadata": {},
   "outputs": [
    {
     "data": {
      "text/plain": [
       "Moody's             США\n",
       "Fitch Ratings       США\n",
       "Эксперт РА       Россия\n",
       "dtype: object"
      ]
     },
     "execution_count": 88,
     "metadata": {},
     "output_type": "execute_result"
    }
   ],
   "source": [
    "d = {\"Moody's\": \"США\", \"Standard & Poor's\": \"США\", \"Fitch Ratings\": \"США\",\n",
    "     \"АКРА\": \"Россия\", \"Эксперт РА\": \"Россия\", \"НРА\": \"Россия\"}\n",
    "srs = pd.Series(d)\n",
    "# Продолжите написание кода здесь\n",
    "\n",
    "srs[::2]"
   ]
  },
  {
   "cell_type": "code",
   "execution_count": 99,
   "metadata": {},
   "outputs": [
    {
     "data": {
      "text/plain": [
       "BANE                ПАО АНК \"Башнефть\"\n",
       "LKOH                      ПАО \"ЛУКОЙЛ\"\n",
       "NVTK                     ПАО \"НОВАТЭК\"\n",
       "ROSN                ПАО \"НК \"Роснефть\"\n",
       "TATN     ПАО \"Татнефть\" им. В.Д.Шашина\n",
       "TRNFL                 ПАО \"Транснефть\"\n",
       "GAZP                     ПАО \"Газпром\"\n",
       "SIBN               ПАО \"Газпром нефть\"\n",
       "SNGS              ПАО \"Сургутнефтегаз\"\n",
       "dtype: object"
      ]
     },
     "execution_count": 99,
     "metadata": {},
     "output_type": "execute_result"
    }
   ],
   "source": [
    "d = {'BANE': 'ПАО АНК \"Башнефть\"', 'LKOH': 'ПАО \"ЛУКОЙЛ\"', \n",
    "     'NVTK': 'ПАО \"НОВАТЭК\"', 'ROSN': 'ПАО \"НК \"Роснефть\"',\n",
    "     'TATN': 'ПАО \"Татнефть\" им. В.Д.Шашина', 'TRNFL': 'ПАО \"Транснефть\"'}\n",
    "srs = pd.Series(d)\n",
    "# Продолжите написание кода здесь\n",
    "\n",
    "tickers = ['GAZP', 'SIBN', 'SNGS']\n",
    "stocks = ['ПАО \"Газпром\"', 'ПАО \"Газпром нефть\"', 'ПАО \"Сургутнефтегаз\"']\n",
    "\n",
    "for i in range(len(tickers)):\n",
    "    srs[tickers[i]] = stocks[i]\n",
    "\n",
    "srs"
   ]
  },
  {
   "cell_type": "code",
   "execution_count": 100,
   "metadata": {},
   "outputs": [
    {
     "data": {
      "text/plain": [
       "BANE                ПАО АНК \"Башнефть\"\n",
       "LKOH                      ПАО \"ЛУКОЙЛ\"\n",
       "NVTK                     ПАО \"НОВАТЭК\"\n",
       "ROSN                ПАО \"НК \"Роснефть\"\n",
       "TATN     ПАО \"Татнефть\" им. В.Д.Шашина\n",
       "TRNFL                 ПАО \"Транснефть\"\n",
       "GAZP                     ПАО \"Газпром\"\n",
       "SIBN               ПАО \"Газпром нефть\"\n",
       "SNGS              ПАО \"Сургутнефтегаз\"\n",
       "dtype: object"
      ]
     },
     "execution_count": 100,
     "metadata": {},
     "output_type": "execute_result"
    }
   ],
   "source": [
    "d.update({'GAZP': 'ПАО \"Газпром\"', 'SIBN': 'ПАО \"Газпром нефть\"', 'SNGS': 'ПАО \"Сургутнефтегаз\"'})\n",
    "srs = pd.Series(d)\n",
    "srs"
   ]
  },
  {
   "cell_type": "code",
   "execution_count": 142,
   "metadata": {},
   "outputs": [
    {
     "data": {
      "text/plain": [
       "BSPB        ПАО \"Банк \"Санкт-Петербург\"\n",
       "CBOM    ПАО \"МОСКОВСКИЙ КРЕДИТНЫЙ БАНК\"\n",
       "ROSB                        ПАО РОСБАНК\n",
       "SBER                       ПАО Сбербанк\n",
       "USBN                 ПАО \"БАНК УРАЛСИБ\"\n",
       "VTBR                     Банк ВТБ (ПАО)\n",
       "dtype: object"
      ]
     },
     "execution_count": 142,
     "metadata": {},
     "output_type": "execute_result"
    }
   ],
   "source": [
    "# Поменяйте местами колонки индексов и значений.\n",
    "d = {'BSPB': 'ПАО \"Банк \"Санкт-Петербург\"', 'CBOM': 'ПАО \"МОСКОВСКИЙ КРЕДИТНЫЙ БАНК\"', \n",
    "     'ROSB': 'ПАО РОСБАНК', 'SBER': 'ПАО Сбербанк',\n",
    "     'USBN': 'ПАО \"БАНК УРАЛСИБ\"', 'VTBR': 'Банк ВТБ (ПАО)'}\n",
    "srs = pd.Series(d)\n",
    "srs"
   ]
  },
  {
   "cell_type": "code",
   "execution_count": 143,
   "metadata": {},
   "outputs": [
    {
     "data": {
      "text/plain": [
       "ПАО \"Банк \"Санкт-Петербург\"        BSPB\n",
       "ПАО \"МОСКОВСКИЙ КРЕДИТНЫЙ БАНК\"    CBOM\n",
       "ПАО РОСБАНК                        ROSB\n",
       "ПАО Сбербанк                       SBER\n",
       "ПАО \"БАНК УРАЛСИБ\"                 USBN\n",
       "Банк ВТБ (ПАО)                     VTBR\n",
       "dtype: object"
      ]
     },
     "execution_count": 143,
     "metadata": {},
     "output_type": "execute_result"
    }
   ],
   "source": [
    "pd.Series(srs.index.values, index=srs)"
   ]
  },
  {
   "cell_type": "code",
   "execution_count": 156,
   "metadata": {},
   "outputs": [
    {
     "data": {
      "text/plain": [
       "AMEZ         ПАО \"Ашинский метзавод\"\n",
       "CHMF                ПАО \"Северсталь\"\n",
       "CHMK                       ПАО \"ЧМК\"\n",
       "GMKN    ПАО \"ГМК \"Норильский никель\"\n",
       "MAGN                       ПАО \"ММК\"\n",
       "MTLR                     ПАО \"Мечел\"\n",
       "NLMK                      ПАО \"НЛМК\"\n",
       "RUAL                МКПАО \"ОК РУСАЛ\"\n",
       "TRMK                       ПАО \"ТМК\"\n",
       "dtype: object"
      ]
     },
     "execution_count": 156,
     "metadata": {},
     "output_type": "execute_result"
    }
   ],
   "source": [
    "# Удалите из серии каждое чётное значение.\n",
    "d = {'AMEZ': 'ПАО \"Ашинский метзавод\"', 'CHMF': 'ПАО \"Северсталь\"', \n",
    "     'CHMK': 'ПАО \"ЧМК\"', 'GMKN': 'ПАО \"ГМК \"Норильский никель\"',\n",
    "     'MAGN': 'ПАО \"ММК\"', 'MTLR': 'ПАО \"Мечел\"',\n",
    "     'NLMK': 'ПАО \"НЛМК\"', 'RUAL': 'МКПАО \"ОК РУСАЛ\"',\n",
    "     'TRMK': 'ПАО \"ТМК\"'}\n",
    "srs = pd.Series(d)\n",
    "srs"
   ]
  },
  {
   "cell_type": "code",
   "execution_count": 158,
   "metadata": {},
   "outputs": [
    {
     "name": "stdout",
     "output_type": "stream",
     "text": [
      "AMEZ    ПАО \"Ашинский метзавод\"\n",
      "CHMK                  ПАО \"ЧМК\"\n",
      "MAGN                  ПАО \"ММК\"\n",
      "NLMK                 ПАО \"НЛМК\"\n",
      "TRMK                  ПАО \"ТМК\"\n",
      "dtype: object\n",
      "AMEZ    ПАО \"Ашинский метзавод\"\n",
      "CHMK                  ПАО \"ЧМК\"\n",
      "MAGN                  ПАО \"ММК\"\n",
      "NLMK                 ПАО \"НЛМК\"\n",
      "TRMK                  ПАО \"ТМК\"\n",
      "dtype: object\n"
     ]
    }
   ],
   "source": [
    "print(srs.drop(srs[1::2].index))\n",
    "print(srs.drop(srs.index[1::2]))"
   ]
  },
  {
   "cell_type": "code",
   "execution_count": null,
   "metadata": {},
   "outputs": [],
   "source": []
  }
 ],
 "metadata": {
  "kernelspec": {
   "display_name": "base",
   "language": "python",
   "name": "python3"
  },
  "language_info": {
   "codemirror_mode": {
    "name": "ipython",
    "version": 3
   },
   "file_extension": ".py",
   "mimetype": "text/x-python",
   "name": "python",
   "nbconvert_exporter": "python",
   "pygments_lexer": "ipython3",
   "version": "3.11.7"
  }
 },
 "nbformat": 4,
 "nbformat_minor": 2
}
