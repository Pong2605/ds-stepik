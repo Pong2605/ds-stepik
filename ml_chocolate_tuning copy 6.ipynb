{
 "cells": [
  {
   "cell_type": "markdown",
   "id": "9a21014b",
   "metadata": {},
   "source": [
    "<h1><b>Задача по предсказанию рейтинга шоколада"
   ]
  },
  {
   "cell_type": "markdown",
   "id": "d1ba85e3",
   "metadata": {},
   "source": [
    "<h3><b>Никнейм на Kaggle: "
   ]
  },
  {
   "cell_type": "markdown",
   "id": "e919e9b0",
   "metadata": {},
   "source": [
    "# Описание задачи"
   ]
  },
  {
   "cell_type": "code",
   "execution_count": 413,
   "id": "4b4ef540",
   "metadata": {},
   "outputs": [],
   "source": [
    "# Даны характеристики шоколадок и по ним нужно предсказать их рейтинг.\n",
    "\n",
    "# Описание данных\n",
    "# Company - компания производитель\n",
    "# Specific Bean Origin - географический регион происхождения\n",
    "# REF - параметр, определяющий момент внесения записи в базу данных (чем выше значение, тем \"свежее\" запись)\n",
    "# Review - дата публикации отзыва\n",
    "# Cocoa Percent - процентное содержание какао\n",
    "# Company Location - страна производитель\n",
    "# Rating - экспертный рейтинг\n",
    "# Bean Type - используемый сорт какао-бобов, если таковой имеется\n",
    "# Broad Bean Origin - географический регион происхождения какао-бобов\n",
    "\n",
    "# Файлы с данными\n",
    "# choco_train.csv - тренировочные данные\n",
    "# choco_test_new.csv - тестовые данные\n",
    "# choco_sample_submission.csv - пример submission"
   ]
  },
  {
   "cell_type": "markdown",
   "id": "b8029c27",
   "metadata": {},
   "source": [
    "# Импорт библиотек, константы"
   ]
  },
  {
   "cell_type": "code",
   "execution_count": 414,
   "id": "6a56350b",
   "metadata": {},
   "outputs": [],
   "source": [
    "import pandas as pd\n",
    "import numpy as np\n",
    "import matplotlib.pyplot as plt\n",
    "import seaborn as sns"
   ]
  },
  {
   "cell_type": "code",
   "execution_count": 415,
   "id": "eff28139",
   "metadata": {},
   "outputs": [],
   "source": [
    "import warnings\n",
    "warnings.filterwarnings(\"ignore\")"
   ]
  },
  {
   "cell_type": "code",
   "execution_count": 416,
   "id": "78bc245d",
   "metadata": {},
   "outputs": [],
   "source": [
    "from sklearn.preprocessing import MinMaxScaler, StandardScaler, PolynomialFeatures\n",
    "from category_encoders.ordinal import OrdinalEncoder\n",
    "from category_encoders.one_hot import OneHotEncoder\n",
    "from category_encoders.target_encoder import TargetEncoder\n",
    "from category_encoders.leave_one_out import LeaveOneOutEncoder"
   ]
  },
  {
   "cell_type": "code",
   "execution_count": 417,
   "id": "88a7517d",
   "metadata": {},
   "outputs": [],
   "source": [
    "from sklearn.linear_model import LinearRegression\n",
    "from sklearn.ensemble import RandomForestRegressor\n",
    "from catboost import CatBoostRegressor\n",
    "from xgboost import XGBRegressor\n",
    "from lightgbm import LGBMRanker, LGBMRegressor\n",
    "from sklearn.ensemble import GradientBoostingRegressor\n",
    "from sklearn.ensemble import StackingRegressor\n",
    "import optuna"
   ]
  },
  {
   "cell_type": "code",
   "execution_count": 418,
   "id": "55bbc4a3",
   "metadata": {},
   "outputs": [],
   "source": [
    "import association_metrics as am\n",
    "from sklearn.model_selection import cross_val_score, train_test_split\n",
    "from sklearn.metrics import mean_absolute_percentage_error as MAPE, mean_absolute_error as MAE, r2_score, mean_squared_error as MSE\n",
    "from scipy import stats\n",
    "\n",
    "from sklearn.pipeline import Pipeline"
   ]
  },
  {
   "cell_type": "code",
   "execution_count": 419,
   "id": "2db69993",
   "metadata": {},
   "outputs": [],
   "source": [
    "RANDOM_STATE = 42"
   ]
  },
  {
   "cell_type": "markdown",
   "id": "cac6aeca",
   "metadata": {},
   "source": [
    "# Загрузка данных"
   ]
  },
  {
   "cell_type": "code",
   "execution_count": 420,
   "id": "3c6962e2",
   "metadata": {},
   "outputs": [],
   "source": [
    "TRAIN = \"https://raw.githubusercontent.com/evgpat/edu_stepik_practical_ml/main/datasets/chocolate_train.csv\"\n",
    "TEST = \"https://raw.githubusercontent.com/evgpat/edu_stepik_practical_ml/main/datasets/chocolate_test_new.csv\"\n",
    "# TRAIN = 'data\\chocolate-rating\\chocolate_train.csv'\n",
    "# TEST = 'data\\chocolate-rating\\chocolate_test_new.csv'"
   ]
  },
  {
   "cell_type": "code",
   "execution_count": 421,
   "id": "1237b99e",
   "metadata": {},
   "outputs": [],
   "source": [
    "train_df = pd.read_csv(TRAIN)"
   ]
  },
  {
   "cell_type": "code",
   "execution_count": 422,
   "id": "531072c9",
   "metadata": {},
   "outputs": [],
   "source": [
    "test_df = pd.read_csv(TEST)"
   ]
  },
  {
   "cell_type": "markdown",
   "id": "5e49e9c7",
   "metadata": {},
   "source": [
    "# Обзор данных"
   ]
  },
  {
   "cell_type": "code",
   "execution_count": 423,
   "id": "8ab59cf6",
   "metadata": {},
   "outputs": [
    {
     "data": {
      "text/html": [
       "<div>\n",
       "<style scoped>\n",
       "    .dataframe tbody tr th:only-of-type {\n",
       "        vertical-align: middle;\n",
       "    }\n",
       "\n",
       "    .dataframe tbody tr th {\n",
       "        vertical-align: top;\n",
       "    }\n",
       "\n",
       "    .dataframe thead th {\n",
       "        text-align: right;\n",
       "    }\n",
       "</style>\n",
       "<table border=\"1\" class=\"dataframe\">\n",
       "  <thead>\n",
       "    <tr style=\"text-align: right;\">\n",
       "      <th></th>\n",
       "      <th>Company</th>\n",
       "      <th>Specific Bean Origin</th>\n",
       "      <th>REF</th>\n",
       "      <th>Review</th>\n",
       "      <th>Cocoa Percent</th>\n",
       "      <th>Company Location</th>\n",
       "      <th>Rating</th>\n",
       "      <th>Bean Type</th>\n",
       "      <th>Broad Bean Origin</th>\n",
       "    </tr>\n",
       "  </thead>\n",
       "  <tbody>\n",
       "    <tr>\n",
       "      <th>0</th>\n",
       "      <td>Willie's Cacao</td>\n",
       "      <td>Rio Caribe</td>\n",
       "      <td>457</td>\n",
       "      <td>2009</td>\n",
       "      <td>72%</td>\n",
       "      <td>U.K.</td>\n",
       "      <td>3.25</td>\n",
       "      <td>Trinitario</td>\n",
       "      <td>Venezuela</td>\n",
       "    </tr>\n",
       "    <tr>\n",
       "      <th>1</th>\n",
       "      <td>Beschle (Felchlin)</td>\n",
       "      <td>Ocumare, Premier Cru, Quizas No. 2</td>\n",
       "      <td>508</td>\n",
       "      <td>2010</td>\n",
       "      <td>72%</td>\n",
       "      <td>Switzerland</td>\n",
       "      <td>3.50</td>\n",
       "      <td></td>\n",
       "      <td>Venezuela</td>\n",
       "    </tr>\n",
       "    <tr>\n",
       "      <th>2</th>\n",
       "      <td>Dark Forest</td>\n",
       "      <td>Tanzania</td>\n",
       "      <td>1554</td>\n",
       "      <td>2015</td>\n",
       "      <td>70%</td>\n",
       "      <td>U.S.A.</td>\n",
       "      <td>3.00</td>\n",
       "      <td></td>\n",
       "      <td>Tanzania</td>\n",
       "    </tr>\n",
       "    <tr>\n",
       "      <th>3</th>\n",
       "      <td>Brasstown aka It's Chocolate</td>\n",
       "      <td>Cooproagro</td>\n",
       "      <td>1125</td>\n",
       "      <td>2013</td>\n",
       "      <td>72%</td>\n",
       "      <td>U.S.A.</td>\n",
       "      <td>3.00</td>\n",
       "      <td>Trinitario</td>\n",
       "      <td>Dominican Republic</td>\n",
       "    </tr>\n",
       "    <tr>\n",
       "      <th>4</th>\n",
       "      <td>Pralus</td>\n",
       "      <td>Java, Indonesie</td>\n",
       "      <td>32</td>\n",
       "      <td>2006</td>\n",
       "      <td>75%</td>\n",
       "      <td>France</td>\n",
       "      <td>3.50</td>\n",
       "      <td>Criollo</td>\n",
       "      <td>Indonesia</td>\n",
       "    </tr>\n",
       "  </tbody>\n",
       "</table>\n",
       "</div>"
      ],
      "text/plain": [
       "                        Company                Specific Bean Origin   REF  \\\n",
       "0                Willie's Cacao                          Rio Caribe   457   \n",
       "1            Beschle (Felchlin)  Ocumare, Premier Cru, Quizas No. 2   508   \n",
       "2                   Dark Forest                            Tanzania  1554   \n",
       "3  Brasstown aka It's Chocolate                          Cooproagro  1125   \n",
       "4                        Pralus                     Java, Indonesie    32   \n",
       "\n",
       "   Review Cocoa Percent Company Location  Rating   Bean Type  \\\n",
       "0    2009           72%             U.K.    3.25  Trinitario   \n",
       "1    2010           72%      Switzerland    3.50               \n",
       "2    2015           70%           U.S.A.    3.00               \n",
       "3    2013           72%           U.S.A.    3.00  Trinitario   \n",
       "4    2006           75%           France    3.50     Criollo   \n",
       "\n",
       "    Broad Bean Origin  \n",
       "0           Venezuela  \n",
       "1           Venezuela  \n",
       "2            Tanzania  \n",
       "3  Dominican Republic  \n",
       "4           Indonesia  "
      ]
     },
     "execution_count": 423,
     "metadata": {},
     "output_type": "execute_result"
    }
   ],
   "source": [
    "train_df.head()"
   ]
  },
  {
   "cell_type": "code",
   "execution_count": 424,
   "id": "007b54e4",
   "metadata": {},
   "outputs": [
    {
     "data": {
      "text/plain": [
       "(1255, 9)"
      ]
     },
     "execution_count": 424,
     "metadata": {},
     "output_type": "execute_result"
    }
   ],
   "source": [
    "train_df.shape"
   ]
  },
  {
   "cell_type": "code",
   "execution_count": 425,
   "id": "a1144077",
   "metadata": {},
   "outputs": [
    {
     "name": "stdout",
     "output_type": "stream",
     "text": [
      "<class 'pandas.core.frame.DataFrame'>\n",
      "RangeIndex: 1255 entries, 0 to 1254\n",
      "Data columns (total 9 columns):\n",
      " #   Column                Non-Null Count  Dtype  \n",
      "---  ------                --------------  -----  \n",
      " 0   Company               1255 non-null   object \n",
      " 1   Specific Bean Origin  1255 non-null   object \n",
      " 2   REF                   1255 non-null   int64  \n",
      " 3   Review                1255 non-null   int64  \n",
      " 4   Cocoa Percent         1255 non-null   object \n",
      " 5   Company Location      1255 non-null   object \n",
      " 6   Rating                1255 non-null   float64\n",
      " 7   Bean Type             1254 non-null   object \n",
      " 8   Broad Bean Origin     1254 non-null   object \n",
      "dtypes: float64(1), int64(2), object(6)\n",
      "memory usage: 88.4+ KB\n"
     ]
    }
   ],
   "source": [
    "train_df.info()"
   ]
  },
  {
   "cell_type": "code",
   "execution_count": 426,
   "id": "2b4002c3",
   "metadata": {},
   "outputs": [],
   "source": [
    "numeric_cols = train_df.select_dtypes(exclude='object').columns\n",
    "cat_cols = train_df.select_dtypes(include='object').columns"
   ]
  },
  {
   "cell_type": "code",
   "execution_count": 427,
   "id": "bc161760",
   "metadata": {},
   "outputs": [
    {
     "data": {
      "text/html": [
       "<div>\n",
       "<style scoped>\n",
       "    .dataframe tbody tr th:only-of-type {\n",
       "        vertical-align: middle;\n",
       "    }\n",
       "\n",
       "    .dataframe tbody tr th {\n",
       "        vertical-align: top;\n",
       "    }\n",
       "\n",
       "    .dataframe thead th {\n",
       "        text-align: right;\n",
       "    }\n",
       "</style>\n",
       "<table border=\"1\" class=\"dataframe\">\n",
       "  <thead>\n",
       "    <tr style=\"text-align: right;\">\n",
       "      <th></th>\n",
       "      <th>REF</th>\n",
       "      <th>Review</th>\n",
       "      <th>Rating</th>\n",
       "    </tr>\n",
       "  </thead>\n",
       "  <tbody>\n",
       "    <tr>\n",
       "      <th>count</th>\n",
       "      <td>1255.000000</td>\n",
       "      <td>1255.000000</td>\n",
       "      <td>1255.000000</td>\n",
       "    </tr>\n",
       "    <tr>\n",
       "      <th>mean</th>\n",
       "      <td>1045.152191</td>\n",
       "      <td>2012.382470</td>\n",
       "      <td>3.176494</td>\n",
       "    </tr>\n",
       "    <tr>\n",
       "      <th>std</th>\n",
       "      <td>551.284249</td>\n",
       "      <td>2.922499</td>\n",
       "      <td>0.478948</td>\n",
       "    </tr>\n",
       "    <tr>\n",
       "      <th>min</th>\n",
       "      <td>5.000000</td>\n",
       "      <td>2006.000000</td>\n",
       "      <td>1.000000</td>\n",
       "    </tr>\n",
       "    <tr>\n",
       "      <th>25%</th>\n",
       "      <td>593.000000</td>\n",
       "      <td>2010.000000</td>\n",
       "      <td>2.750000</td>\n",
       "    </tr>\n",
       "    <tr>\n",
       "      <th>50%</th>\n",
       "      <td>1077.000000</td>\n",
       "      <td>2013.000000</td>\n",
       "      <td>3.250000</td>\n",
       "    </tr>\n",
       "    <tr>\n",
       "      <th>75%</th>\n",
       "      <td>1514.000000</td>\n",
       "      <td>2015.000000</td>\n",
       "      <td>3.500000</td>\n",
       "    </tr>\n",
       "    <tr>\n",
       "      <th>max</th>\n",
       "      <td>1952.000000</td>\n",
       "      <td>2017.000000</td>\n",
       "      <td>5.000000</td>\n",
       "    </tr>\n",
       "  </tbody>\n",
       "</table>\n",
       "</div>"
      ],
      "text/plain": [
       "               REF       Review       Rating\n",
       "count  1255.000000  1255.000000  1255.000000\n",
       "mean   1045.152191  2012.382470     3.176494\n",
       "std     551.284249     2.922499     0.478948\n",
       "min       5.000000  2006.000000     1.000000\n",
       "25%     593.000000  2010.000000     2.750000\n",
       "50%    1077.000000  2013.000000     3.250000\n",
       "75%    1514.000000  2015.000000     3.500000\n",
       "max    1952.000000  2017.000000     5.000000"
      ]
     },
     "execution_count": 427,
     "metadata": {},
     "output_type": "execute_result"
    }
   ],
   "source": [
    "train_df.describe()"
   ]
  },
  {
   "cell_type": "code",
   "execution_count": 428,
   "id": "ca38a517",
   "metadata": {},
   "outputs": [
    {
     "data": {
      "text/html": [
       "<div>\n",
       "<style scoped>\n",
       "    .dataframe tbody tr th:only-of-type {\n",
       "        vertical-align: middle;\n",
       "    }\n",
       "\n",
       "    .dataframe tbody tr th {\n",
       "        vertical-align: top;\n",
       "    }\n",
       "\n",
       "    .dataframe thead th {\n",
       "        text-align: right;\n",
       "    }\n",
       "</style>\n",
       "<table border=\"1\" class=\"dataframe\">\n",
       "  <thead>\n",
       "    <tr style=\"text-align: right;\">\n",
       "      <th></th>\n",
       "      <th>Company</th>\n",
       "      <th>Specific Bean Origin</th>\n",
       "      <th>Cocoa Percent</th>\n",
       "      <th>Company Location</th>\n",
       "      <th>Bean Type</th>\n",
       "      <th>Broad Bean Origin</th>\n",
       "    </tr>\n",
       "  </thead>\n",
       "  <tbody>\n",
       "    <tr>\n",
       "      <th>count</th>\n",
       "      <td>1255</td>\n",
       "      <td>1255</td>\n",
       "      <td>1255</td>\n",
       "      <td>1255</td>\n",
       "      <td>1254</td>\n",
       "      <td>1254</td>\n",
       "    </tr>\n",
       "    <tr>\n",
       "      <th>unique</th>\n",
       "      <td>376</td>\n",
       "      <td>762</td>\n",
       "      <td>40</td>\n",
       "      <td>58</td>\n",
       "      <td>38</td>\n",
       "      <td>84</td>\n",
       "    </tr>\n",
       "    <tr>\n",
       "      <th>top</th>\n",
       "      <td>Soma</td>\n",
       "      <td>Madagascar</td>\n",
       "      <td>70%</td>\n",
       "      <td>U.S.A.</td>\n",
       "      <td></td>\n",
       "      <td>Venezuela</td>\n",
       "    </tr>\n",
       "    <tr>\n",
       "      <th>freq</th>\n",
       "      <td>35</td>\n",
       "      <td>39</td>\n",
       "      <td>461</td>\n",
       "      <td>521</td>\n",
       "      <td>628</td>\n",
       "      <td>144</td>\n",
       "    </tr>\n",
       "  </tbody>\n",
       "</table>\n",
       "</div>"
      ],
      "text/plain": [
       "       Company Specific Bean Origin Cocoa Percent Company Location Bean Type  \\\n",
       "count     1255                 1255          1255             1255      1254   \n",
       "unique     376                  762            40               58        38   \n",
       "top       Soma           Madagascar           70%           U.S.A.             \n",
       "freq        35                   39           461              521       628   \n",
       "\n",
       "       Broad Bean Origin  \n",
       "count               1254  \n",
       "unique                84  \n",
       "top            Venezuela  \n",
       "freq                 144  "
      ]
     },
     "execution_count": 428,
     "metadata": {},
     "output_type": "execute_result"
    }
   ],
   "source": [
    "train_df[cat_cols].describe()"
   ]
  },
  {
   "cell_type": "code",
   "execution_count": 429,
   "id": "a2908211",
   "metadata": {},
   "outputs": [
    {
     "data": {
      "text/plain": [
       "'\\xa0'"
      ]
     },
     "execution_count": 429,
     "metadata": {},
     "output_type": "execute_result"
    }
   ],
   "source": [
    "train_df['Bean Type'].describe().top"
   ]
  },
  {
   "cell_type": "code",
   "execution_count": 430,
   "id": "22e708c1",
   "metadata": {},
   "outputs": [
    {
     "data": {
      "text/plain": [
       "Company                   0\n",
       "Specific Bean Origin      0\n",
       "REF                       0\n",
       "Review                    0\n",
       "Cocoa Percent             0\n",
       "Company Location          0\n",
       "Rating                    0\n",
       "Bean Type               628\n",
       "Broad Bean Origin        55\n",
       "dtype: int64"
      ]
     },
     "execution_count": 430,
     "metadata": {},
     "output_type": "execute_result"
    }
   ],
   "source": [
    "(train_df == '\\xa0').sum()"
   ]
  },
  {
   "cell_type": "code",
   "execution_count": 431,
   "id": "0895f1ee",
   "metadata": {},
   "outputs": [
    {
     "data": {
      "text/plain": [
       "762"
      ]
     },
     "execution_count": 431,
     "metadata": {},
     "output_type": "execute_result"
    }
   ],
   "source": [
    "train_df['Specific Bean Origin'].nunique()"
   ]
  },
  {
   "cell_type": "code",
   "execution_count": 432,
   "id": "487896ce",
   "metadata": {},
   "outputs": [
    {
     "data": {
      "image/png": "[encoded data removed]",
      "text/plain": [
       "<Figure size 640x480 with 1 Axes>"
      ]
     },
     "metadata": {},
     "output_type": "display_data"
    }
   ],
   "source": [
    "plt.hist(train_df['Rating'], bins=12)\n",
    "plt.title('Распределение целевой переменной')\n",
    "plt.xlabel('Rating')\n",
    "plt.ylabel('Quantity')\n",
    "plt.show();"
   ]
  },
  {
   "cell_type": "code",
   "execution_count": 433,
   "id": "b441b4c6",
   "metadata": {},
   "outputs": [],
   "source": [
    "test_df = train_df[['Company', 'Rating']].groupby('Rating').agg({'Company': 'count'}).sort_values('Rating')"
   ]
  },
  {
   "cell_type": "code",
   "execution_count": 434,
   "id": "fca58dc5",
   "metadata": {},
   "outputs": [
    {
     "data": {
      "image/png": "[encoded data removed]",
      "text/plain": [
       "<Figure size 640x480 with 1 Axes>"
      ]
     },
     "metadata": {},
     "output_type": "display_data"
    }
   ],
   "source": [
    "plt.plot(test_df)\n",
    "plt.title('Распределение целевой переменной')\n",
    "plt.xlabel('Rating')\n",
    "plt.ylabel('Quantity')\n",
    "plt.show();"
   ]
  },
  {
   "cell_type": "markdown",
   "id": "f4691f14",
   "metadata": {},
   "source": [
    "Промежуточный вывод: <br>"
   ]
  },
  {
   "cell_type": "markdown",
   "id": "fb071ce5",
   "metadata": {},
   "source": [
    "# Обработка пропусков и выбросов"
   ]
  },
  {
   "cell_type": "markdown",
   "id": "379dee7a",
   "metadata": {},
   "source": [
    "## Обработка пропусков"
   ]
  },
  {
   "cell_type": "code",
   "execution_count": 435,
   "id": "83f65905",
   "metadata": {},
   "outputs": [],
   "source": [
    "train_df = train_df.replace('\\xa0', np.NaN)"
   ]
  },
  {
   "cell_type": "code",
   "execution_count": 436,
   "id": "48639f68",
   "metadata": {},
   "outputs": [],
   "source": [
    "train_df['Bean Type'] = train_df['Bean Type'].fillna('Other')\n",
    "train_df['Broad Bean Origin'] = train_df['Broad Bean Origin'].fillna('Other')"
   ]
  },
  {
   "cell_type": "code",
   "execution_count": 437,
   "id": "596324b4",
   "metadata": {},
   "outputs": [
    {
     "data": {
      "text/html": [
       "<div>\n",
       "<style scoped>\n",
       "    .dataframe tbody tr th:only-of-type {\n",
       "        vertical-align: middle;\n",
       "    }\n",
       "\n",
       "    .dataframe tbody tr th {\n",
       "        vertical-align: top;\n",
       "    }\n",
       "\n",
       "    .dataframe thead th {\n",
       "        text-align: right;\n",
       "    }\n",
       "</style>\n",
       "<table border=\"1\" class=\"dataframe\">\n",
       "  <thead>\n",
       "    <tr style=\"text-align: right;\">\n",
       "      <th></th>\n",
       "      <th>Company</th>\n",
       "      <th>Specific Bean Origin</th>\n",
       "      <th>Cocoa Percent</th>\n",
       "      <th>Company Location</th>\n",
       "      <th>Bean Type</th>\n",
       "      <th>Broad Bean Origin</th>\n",
       "    </tr>\n",
       "  </thead>\n",
       "  <tbody>\n",
       "    <tr>\n",
       "      <th>count</th>\n",
       "      <td>1255</td>\n",
       "      <td>1255</td>\n",
       "      <td>1255</td>\n",
       "      <td>1255</td>\n",
       "      <td>1255</td>\n",
       "      <td>1255</td>\n",
       "    </tr>\n",
       "    <tr>\n",
       "      <th>unique</th>\n",
       "      <td>376</td>\n",
       "      <td>762</td>\n",
       "      <td>40</td>\n",
       "      <td>58</td>\n",
       "      <td>38</td>\n",
       "      <td>84</td>\n",
       "    </tr>\n",
       "    <tr>\n",
       "      <th>top</th>\n",
       "      <td>Soma</td>\n",
       "      <td>Madagascar</td>\n",
       "      <td>70%</td>\n",
       "      <td>U.S.A.</td>\n",
       "      <td>Other</td>\n",
       "      <td>Venezuela</td>\n",
       "    </tr>\n",
       "    <tr>\n",
       "      <th>freq</th>\n",
       "      <td>35</td>\n",
       "      <td>39</td>\n",
       "      <td>461</td>\n",
       "      <td>521</td>\n",
       "      <td>629</td>\n",
       "      <td>144</td>\n",
       "    </tr>\n",
       "  </tbody>\n",
       "</table>\n",
       "</div>"
      ],
      "text/plain": [
       "       Company Specific Bean Origin Cocoa Percent Company Location Bean Type  \\\n",
       "count     1255                 1255          1255             1255      1255   \n",
       "unique     376                  762            40               58        38   \n",
       "top       Soma           Madagascar           70%           U.S.A.     Other   \n",
       "freq        35                   39           461              521       629   \n",
       "\n",
       "       Broad Bean Origin  \n",
       "count               1255  \n",
       "unique                84  \n",
       "top            Venezuela  \n",
       "freq                 144  "
      ]
     },
     "execution_count": 437,
     "metadata": {},
     "output_type": "execute_result"
    }
   ],
   "source": [
    "train_df[cat_cols].describe()"
   ]
  },
  {
   "cell_type": "code",
   "execution_count": 438,
   "id": "6b4f686c",
   "metadata": {},
   "outputs": [
    {
     "data": {
      "text/plain": [
       "Company                 0\n",
       "Specific Bean Origin    0\n",
       "REF                     0\n",
       "Review                  0\n",
       "Cocoa Percent           0\n",
       "Company Location        0\n",
       "Rating                  0\n",
       "Bean Type               0\n",
       "Broad Bean Origin       0\n",
       "dtype: int64"
      ]
     },
     "execution_count": 438,
     "metadata": {},
     "output_type": "execute_result"
    }
   ],
   "source": [
    "train_df.isna().sum()"
   ]
  },
  {
   "cell_type": "markdown",
   "id": "5e5d0dfd",
   "metadata": {},
   "source": [
    "## Обработка выбросов"
   ]
  },
  {
   "cell_type": "markdown",
   "id": "01a0d480",
   "metadata": {},
   "source": [
    "# Построение новых признаков"
   ]
  },
  {
   "cell_type": "code",
   "execution_count": 439,
   "id": "1a0d304f",
   "metadata": {},
   "outputs": [
    {
     "data": {
      "text/html": [
       "<div>\n",
       "<style scoped>\n",
       "    .dataframe tbody tr th:only-of-type {\n",
       "        vertical-align: middle;\n",
       "    }\n",
       "\n",
       "    .dataframe tbody tr th {\n",
       "        vertical-align: top;\n",
       "    }\n",
       "\n",
       "    .dataframe thead th {\n",
       "        text-align: right;\n",
       "    }\n",
       "</style>\n",
       "<table border=\"1\" class=\"dataframe\">\n",
       "  <thead>\n",
       "    <tr style=\"text-align: right;\">\n",
       "      <th></th>\n",
       "      <th>Company</th>\n",
       "      <th>Specific Bean Origin</th>\n",
       "      <th>REF</th>\n",
       "      <th>Review</th>\n",
       "      <th>Cocoa Percent</th>\n",
       "      <th>Company Location</th>\n",
       "      <th>Rating</th>\n",
       "      <th>Bean Type</th>\n",
       "      <th>Broad Bean Origin</th>\n",
       "    </tr>\n",
       "  </thead>\n",
       "  <tbody>\n",
       "    <tr>\n",
       "      <th>0</th>\n",
       "      <td>Willie's Cacao</td>\n",
       "      <td>Rio Caribe</td>\n",
       "      <td>457</td>\n",
       "      <td>2009</td>\n",
       "      <td>72%</td>\n",
       "      <td>U.K.</td>\n",
       "      <td>3.25</td>\n",
       "      <td>Trinitario</td>\n",
       "      <td>Venezuela</td>\n",
       "    </tr>\n",
       "    <tr>\n",
       "      <th>1</th>\n",
       "      <td>Beschle (Felchlin)</td>\n",
       "      <td>Ocumare, Premier Cru, Quizas No. 2</td>\n",
       "      <td>508</td>\n",
       "      <td>2010</td>\n",
       "      <td>72%</td>\n",
       "      <td>Switzerland</td>\n",
       "      <td>3.50</td>\n",
       "      <td>Other</td>\n",
       "      <td>Venezuela</td>\n",
       "    </tr>\n",
       "    <tr>\n",
       "      <th>2</th>\n",
       "      <td>Dark Forest</td>\n",
       "      <td>Tanzania</td>\n",
       "      <td>1554</td>\n",
       "      <td>2015</td>\n",
       "      <td>70%</td>\n",
       "      <td>U.S.A.</td>\n",
       "      <td>3.00</td>\n",
       "      <td>Other</td>\n",
       "      <td>Tanzania</td>\n",
       "    </tr>\n",
       "    <tr>\n",
       "      <th>3</th>\n",
       "      <td>Brasstown aka It's Chocolate</td>\n",
       "      <td>Cooproagro</td>\n",
       "      <td>1125</td>\n",
       "      <td>2013</td>\n",
       "      <td>72%</td>\n",
       "      <td>U.S.A.</td>\n",
       "      <td>3.00</td>\n",
       "      <td>Trinitario</td>\n",
       "      <td>Dominican Republic</td>\n",
       "    </tr>\n",
       "    <tr>\n",
       "      <th>4</th>\n",
       "      <td>Pralus</td>\n",
       "      <td>Java, Indonesie</td>\n",
       "      <td>32</td>\n",
       "      <td>2006</td>\n",
       "      <td>75%</td>\n",
       "      <td>France</td>\n",
       "      <td>3.50</td>\n",
       "      <td>Criollo</td>\n",
       "      <td>Indonesia</td>\n",
       "    </tr>\n",
       "  </tbody>\n",
       "</table>\n",
       "</div>"
      ],
      "text/plain": [
       "                        Company                Specific Bean Origin   REF  \\\n",
       "0                Willie's Cacao                          Rio Caribe   457   \n",
       "1            Beschle (Felchlin)  Ocumare, Premier Cru, Quizas No. 2   508   \n",
       "2                   Dark Forest                            Tanzania  1554   \n",
       "3  Brasstown aka It's Chocolate                          Cooproagro  1125   \n",
       "4                        Pralus                     Java, Indonesie    32   \n",
       "\n",
       "   Review Cocoa Percent Company Location  Rating   Bean Type  \\\n",
       "0    2009           72%             U.K.    3.25  Trinitario   \n",
       "1    2010           72%      Switzerland    3.50       Other   \n",
       "2    2015           70%           U.S.A.    3.00       Other   \n",
       "3    2013           72%           U.S.A.    3.00  Trinitario   \n",
       "4    2006           75%           France    3.50     Criollo   \n",
       "\n",
       "    Broad Bean Origin  \n",
       "0           Venezuela  \n",
       "1           Venezuela  \n",
       "2            Tanzania  \n",
       "3  Dominican Republic  \n",
       "4           Indonesia  "
      ]
     },
     "execution_count": 439,
     "metadata": {},
     "output_type": "execute_result"
    }
   ],
   "source": [
    "train_df.head()"
   ]
  },
  {
   "cell_type": "code",
   "execution_count": 440,
   "id": "195a48df",
   "metadata": {},
   "outputs": [],
   "source": [
    "# arr = sorted(pd.cut(train_df['REF'], 12).unique())"
   ]
  },
  {
   "cell_type": "code",
   "execution_count": 441,
   "id": "11118d05",
   "metadata": {},
   "outputs": [],
   "source": [
    "# train_df['REF'] = pd.cut(train_df['REF'], 12, labels=range(12))"
   ]
  },
  {
   "cell_type": "code",
   "execution_count": 442,
   "id": "de279880",
   "metadata": {},
   "outputs": [
    {
     "data": {
      "text/html": [
       "<div>\n",
       "<style scoped>\n",
       "    .dataframe tbody tr th:only-of-type {\n",
       "        vertical-align: middle;\n",
       "    }\n",
       "\n",
       "    .dataframe tbody tr th {\n",
       "        vertical-align: top;\n",
       "    }\n",
       "\n",
       "    .dataframe thead th {\n",
       "        text-align: right;\n",
       "    }\n",
       "</style>\n",
       "<table border=\"1\" class=\"dataframe\">\n",
       "  <thead>\n",
       "    <tr style=\"text-align: right;\">\n",
       "      <th></th>\n",
       "      <th>Company</th>\n",
       "      <th>Specific Bean Origin</th>\n",
       "      <th>REF</th>\n",
       "      <th>Review</th>\n",
       "      <th>Cocoa Percent</th>\n",
       "      <th>Company Location</th>\n",
       "      <th>Rating</th>\n",
       "      <th>Bean Type</th>\n",
       "      <th>Broad Bean Origin</th>\n",
       "    </tr>\n",
       "  </thead>\n",
       "  <tbody>\n",
       "    <tr>\n",
       "      <th>0</th>\n",
       "      <td>Willie's Cacao</td>\n",
       "      <td>Rio Caribe</td>\n",
       "      <td>457</td>\n",
       "      <td>2009</td>\n",
       "      <td>72%</td>\n",
       "      <td>U.K.</td>\n",
       "      <td>3.25</td>\n",
       "      <td>Trinitario</td>\n",
       "      <td>Venezuela</td>\n",
       "    </tr>\n",
       "    <tr>\n",
       "      <th>1</th>\n",
       "      <td>Beschle (Felchlin)</td>\n",
       "      <td>Ocumare, Premier Cru, Quizas No. 2</td>\n",
       "      <td>508</td>\n",
       "      <td>2010</td>\n",
       "      <td>72%</td>\n",
       "      <td>Switzerland</td>\n",
       "      <td>3.50</td>\n",
       "      <td>Other</td>\n",
       "      <td>Venezuela</td>\n",
       "    </tr>\n",
       "    <tr>\n",
       "      <th>2</th>\n",
       "      <td>Dark Forest</td>\n",
       "      <td>Tanzania</td>\n",
       "      <td>1554</td>\n",
       "      <td>2015</td>\n",
       "      <td>70%</td>\n",
       "      <td>U.S.A.</td>\n",
       "      <td>3.00</td>\n",
       "      <td>Other</td>\n",
       "      <td>Tanzania</td>\n",
       "    </tr>\n",
       "    <tr>\n",
       "      <th>3</th>\n",
       "      <td>Brasstown aka It's Chocolate</td>\n",
       "      <td>Cooproagro</td>\n",
       "      <td>1125</td>\n",
       "      <td>2013</td>\n",
       "      <td>72%</td>\n",
       "      <td>U.S.A.</td>\n",
       "      <td>3.00</td>\n",
       "      <td>Trinitario</td>\n",
       "      <td>Dominican Republic</td>\n",
       "    </tr>\n",
       "    <tr>\n",
       "      <th>4</th>\n",
       "      <td>Pralus</td>\n",
       "      <td>Java, Indonesie</td>\n",
       "      <td>32</td>\n",
       "      <td>2006</td>\n",
       "      <td>75%</td>\n",
       "      <td>France</td>\n",
       "      <td>3.50</td>\n",
       "      <td>Criollo</td>\n",
       "      <td>Indonesia</td>\n",
       "    </tr>\n",
       "  </tbody>\n",
       "</table>\n",
       "</div>"
      ],
      "text/plain": [
       "                        Company                Specific Bean Origin   REF  \\\n",
       "0                Willie's Cacao                          Rio Caribe   457   \n",
       "1            Beschle (Felchlin)  Ocumare, Premier Cru, Quizas No. 2   508   \n",
       "2                   Dark Forest                            Tanzania  1554   \n",
       "3  Brasstown aka It's Chocolate                          Cooproagro  1125   \n",
       "4                        Pralus                     Java, Indonesie    32   \n",
       "\n",
       "   Review Cocoa Percent Company Location  Rating   Bean Type  \\\n",
       "0    2009           72%             U.K.    3.25  Trinitario   \n",
       "1    2010           72%      Switzerland    3.50       Other   \n",
       "2    2015           70%           U.S.A.    3.00       Other   \n",
       "3    2013           72%           U.S.A.    3.00  Trinitario   \n",
       "4    2006           75%           France    3.50     Criollo   \n",
       "\n",
       "    Broad Bean Origin  \n",
       "0           Venezuela  \n",
       "1           Venezuela  \n",
       "2            Tanzania  \n",
       "3  Dominican Republic  \n",
       "4           Indonesia  "
      ]
     },
     "execution_count": 442,
     "metadata": {},
     "output_type": "execute_result"
    }
   ],
   "source": [
    "train_df.head()"
   ]
  },
  {
   "cell_type": "code",
   "execution_count": 443,
   "id": "41adc52e",
   "metadata": {},
   "outputs": [
    {
     "data": {
      "text/html": [
       "<div>\n",
       "<style scoped>\n",
       "    .dataframe tbody tr th:only-of-type {\n",
       "        vertical-align: middle;\n",
       "    }\n",
       "\n",
       "    .dataframe tbody tr th {\n",
       "        vertical-align: top;\n",
       "    }\n",
       "\n",
       "    .dataframe thead th {\n",
       "        text-align: right;\n",
       "    }\n",
       "</style>\n",
       "<table border=\"1\" class=\"dataframe\">\n",
       "  <thead>\n",
       "    <tr style=\"text-align: right;\">\n",
       "      <th></th>\n",
       "      <th>Company</th>\n",
       "      <th>Specific Bean Origin</th>\n",
       "      <th>Cocoa Percent</th>\n",
       "      <th>Company Location</th>\n",
       "      <th>Bean Type</th>\n",
       "      <th>Broad Bean Origin</th>\n",
       "      <th>Rating_cat</th>\n",
       "    </tr>\n",
       "  </thead>\n",
       "  <tbody>\n",
       "    <tr>\n",
       "      <th>Company</th>\n",
       "      <td>1.000000</td>\n",
       "      <td>0.771074</td>\n",
       "      <td>0.631564</td>\n",
       "      <td>0.999651</td>\n",
       "      <td>0.616841</td>\n",
       "      <td>0.603604</td>\n",
       "      <td>0.592212</td>\n",
       "    </tr>\n",
       "    <tr>\n",
       "      <th>Specific Bean Origin</th>\n",
       "      <td>0.771074</td>\n",
       "      <td>1.000000</td>\n",
       "      <td>0.772975</td>\n",
       "      <td>0.808500</td>\n",
       "      <td>0.907956</td>\n",
       "      <td>0.983377</td>\n",
       "      <td>0.758291</td>\n",
       "    </tr>\n",
       "    <tr>\n",
       "      <th>Cocoa Percent</th>\n",
       "      <td>0.631564</td>\n",
       "      <td>0.772975</td>\n",
       "      <td>1.000000</td>\n",
       "      <td>0.243803</td>\n",
       "      <td>0.158703</td>\n",
       "      <td>0.266313</td>\n",
       "      <td>0.238551</td>\n",
       "    </tr>\n",
       "    <tr>\n",
       "      <th>Company Location</th>\n",
       "      <td>0.999651</td>\n",
       "      <td>0.808500</td>\n",
       "      <td>0.243803</td>\n",
       "      <td>1.000000</td>\n",
       "      <td>0.291616</td>\n",
       "      <td>0.383218</td>\n",
       "      <td>0.227523</td>\n",
       "    </tr>\n",
       "    <tr>\n",
       "      <th>Bean Type</th>\n",
       "      <td>0.616841</td>\n",
       "      <td>0.907956</td>\n",
       "      <td>0.158703</td>\n",
       "      <td>0.291616</td>\n",
       "      <td>1.000000</td>\n",
       "      <td>0.388127</td>\n",
       "      <td>0.157569</td>\n",
       "    </tr>\n",
       "    <tr>\n",
       "      <th>Broad Bean Origin</th>\n",
       "      <td>0.603604</td>\n",
       "      <td>0.983377</td>\n",
       "      <td>0.266313</td>\n",
       "      <td>0.383218</td>\n",
       "      <td>0.388127</td>\n",
       "      <td>1.000000</td>\n",
       "      <td>0.237473</td>\n",
       "    </tr>\n",
       "    <tr>\n",
       "      <th>Rating_cat</th>\n",
       "      <td>0.592212</td>\n",
       "      <td>0.758291</td>\n",
       "      <td>0.238551</td>\n",
       "      <td>0.227523</td>\n",
       "      <td>0.157569</td>\n",
       "      <td>0.237473</td>\n",
       "      <td>1.000000</td>\n",
       "    </tr>\n",
       "  </tbody>\n",
       "</table>\n",
       "</div>"
      ],
      "text/plain": [
       "                       Company  Specific Bean Origin  Cocoa Percent  \\\n",
       "Company               1.000000              0.771074       0.631564   \n",
       "Specific Bean Origin  0.771074              1.000000       0.772975   \n",
       "Cocoa Percent         0.631564              0.772975       1.000000   \n",
       "Company Location      0.999651              0.808500       0.243803   \n",
       "Bean Type             0.616841              0.907956       0.158703   \n",
       "Broad Bean Origin     0.603604              0.983377       0.266313   \n",
       "Rating_cat            0.592212              0.758291       0.238551   \n",
       "\n",
       "                      Company Location  Bean Type  Broad Bean Origin  \\\n",
       "Company                       0.999651   0.616841           0.603604   \n",
       "Specific Bean Origin          0.808500   0.907956           0.983377   \n",
       "Cocoa Percent                 0.243803   0.158703           0.266313   \n",
       "Company Location              1.000000   0.291616           0.383218   \n",
       "Bean Type                     0.291616   1.000000           0.388127   \n",
       "Broad Bean Origin             0.383218   0.388127           1.000000   \n",
       "Rating_cat                    0.227523   0.157569           0.237473   \n",
       "\n",
       "                      Rating_cat  \n",
       "Company                 0.592212  \n",
       "Specific Bean Origin    0.758291  \n",
       "Cocoa Percent           0.238551  \n",
       "Company Location        0.227523  \n",
       "Bean Type               0.157569  \n",
       "Broad Bean Origin       0.237473  \n",
       "Rating_cat              1.000000  "
      ]
     },
     "execution_count": 443,
     "metadata": {},
     "output_type": "execute_result"
    }
   ],
   "source": [
    "cat_cols = train_df.select_dtypes(include='object').columns\n",
    "\n",
    "train_df[cat_cols] = train_df[cat_cols].astype('category')\n",
    "train_df['Rating_cat'] = train_df['Rating'].astype('category')\n",
    "cramersv = am.CramersV(train_df)\n",
    "cat_cor = cramersv.fit()\n",
    "cat_cor"
   ]
  },
  {
   "cell_type": "markdown",
   "id": "3c137bf9",
   "metadata": {},
   "source": [
    "Заполнение пропусков в колонках 'Bean Type' и 'Broad Bean Origin' <br> на самое часто встречающееся значения соответсвующих столбцов <br> при группировке с наиболее коррелируемыми столбцами"
   ]
  },
  {
   "cell_type": "code",
   "execution_count": 444,
   "id": "519817e7",
   "metadata": {},
   "outputs": [],
   "source": [
    "train_df_clean = train_df.copy()"
   ]
  },
  {
   "cell_type": "code",
   "execution_count": 445,
   "id": "5ed36e78",
   "metadata": {},
   "outputs": [
    {
     "data": {
      "text/html": [
       "<div>\n",
       "<style scoped>\n",
       "    .dataframe tbody tr th:only-of-type {\n",
       "        vertical-align: middle;\n",
       "    }\n",
       "\n",
       "    .dataframe tbody tr th {\n",
       "        vertical-align: top;\n",
       "    }\n",
       "\n",
       "    .dataframe thead th {\n",
       "        text-align: right;\n",
       "    }\n",
       "</style>\n",
       "<table border=\"1\" class=\"dataframe\">\n",
       "  <thead>\n",
       "    <tr style=\"text-align: right;\">\n",
       "      <th></th>\n",
       "      <th>Company</th>\n",
       "      <th>Specific Bean Origin</th>\n",
       "      <th>REF</th>\n",
       "      <th>Review</th>\n",
       "      <th>Cocoa Percent</th>\n",
       "      <th>Company Location</th>\n",
       "      <th>Rating</th>\n",
       "      <th>Bean Type</th>\n",
       "      <th>Broad Bean Origin</th>\n",
       "      <th>Rating_cat</th>\n",
       "    </tr>\n",
       "  </thead>\n",
       "  <tbody>\n",
       "    <tr>\n",
       "      <th>0</th>\n",
       "      <td>Willie's Cacao</td>\n",
       "      <td>Rio Caribe</td>\n",
       "      <td>457</td>\n",
       "      <td>2009</td>\n",
       "      <td>72%</td>\n",
       "      <td>U.K.</td>\n",
       "      <td>3.25</td>\n",
       "      <td>Trinitario</td>\n",
       "      <td>Venezuela</td>\n",
       "      <td>3.25</td>\n",
       "    </tr>\n",
       "    <tr>\n",
       "      <th>1</th>\n",
       "      <td>Beschle (Felchlin)</td>\n",
       "      <td>Ocumare, Premier Cru, Quizas No. 2</td>\n",
       "      <td>508</td>\n",
       "      <td>2010</td>\n",
       "      <td>72%</td>\n",
       "      <td>Switzerland</td>\n",
       "      <td>3.50</td>\n",
       "      <td>Other</td>\n",
       "      <td>Venezuela</td>\n",
       "      <td>3.50</td>\n",
       "    </tr>\n",
       "    <tr>\n",
       "      <th>2</th>\n",
       "      <td>Dark Forest</td>\n",
       "      <td>Tanzania</td>\n",
       "      <td>1554</td>\n",
       "      <td>2015</td>\n",
       "      <td>70%</td>\n",
       "      <td>U.S.A.</td>\n",
       "      <td>3.00</td>\n",
       "      <td>Other</td>\n",
       "      <td>Tanzania</td>\n",
       "      <td>3.00</td>\n",
       "    </tr>\n",
       "    <tr>\n",
       "      <th>3</th>\n",
       "      <td>Brasstown aka It's Chocolate</td>\n",
       "      <td>Cooproagro</td>\n",
       "      <td>1125</td>\n",
       "      <td>2013</td>\n",
       "      <td>72%</td>\n",
       "      <td>U.S.A.</td>\n",
       "      <td>3.00</td>\n",
       "      <td>Trinitario</td>\n",
       "      <td>Dominican Republic</td>\n",
       "      <td>3.00</td>\n",
       "    </tr>\n",
       "    <tr>\n",
       "      <th>4</th>\n",
       "      <td>Pralus</td>\n",
       "      <td>Java, Indonesie</td>\n",
       "      <td>32</td>\n",
       "      <td>2006</td>\n",
       "      <td>75%</td>\n",
       "      <td>France</td>\n",
       "      <td>3.50</td>\n",
       "      <td>Criollo</td>\n",
       "      <td>Indonesia</td>\n",
       "      <td>3.50</td>\n",
       "    </tr>\n",
       "  </tbody>\n",
       "</table>\n",
       "</div>"
      ],
      "text/plain": [
       "                        Company                Specific Bean Origin   REF  \\\n",
       "0                Willie's Cacao                          Rio Caribe   457   \n",
       "1            Beschle (Felchlin)  Ocumare, Premier Cru, Quizas No. 2   508   \n",
       "2                   Dark Forest                            Tanzania  1554   \n",
       "3  Brasstown aka It's Chocolate                          Cooproagro  1125   \n",
       "4                        Pralus                     Java, Indonesie    32   \n",
       "\n",
       "   Review Cocoa Percent Company Location  Rating   Bean Type  \\\n",
       "0    2009           72%             U.K.    3.25  Trinitario   \n",
       "1    2010           72%      Switzerland    3.50       Other   \n",
       "2    2015           70%           U.S.A.    3.00       Other   \n",
       "3    2013           72%           U.S.A.    3.00  Trinitario   \n",
       "4    2006           75%           France    3.50     Criollo   \n",
       "\n",
       "    Broad Bean Origin Rating_cat  \n",
       "0           Venezuela       3.25  \n",
       "1           Venezuela       3.50  \n",
       "2            Tanzania       3.00  \n",
       "3  Dominican Republic       3.00  \n",
       "4           Indonesia       3.50  "
      ]
     },
     "execution_count": 445,
     "metadata": {},
     "output_type": "execute_result"
    }
   ],
   "source": [
    "train_df_clean.head()"
   ]
  },
  {
   "cell_type": "code",
   "execution_count": 446,
   "id": "c804ffa7",
   "metadata": {},
   "outputs": [
    {
     "data": {
      "text/plain": [
       "Company                 376\n",
       "Specific Bean Origin    762\n",
       "REF                     433\n",
       "Review                   12\n",
       "Cocoa Percent            40\n",
       "Company Location         58\n",
       "Rating                   13\n",
       "Bean Type                38\n",
       "Broad Bean Origin        84\n",
       "Rating_cat               13\n",
       "dtype: int64"
      ]
     },
     "execution_count": 446,
     "metadata": {},
     "output_type": "execute_result"
    }
   ],
   "source": [
    "train_df_clean.nunique()"
   ]
  },
  {
   "cell_type": "code",
   "execution_count": 447,
   "id": "9aba4e47",
   "metadata": {},
   "outputs": [],
   "source": [
    "train_df_clean['Rating'] = train_df['Rating']\n",
    "train_df_clean['Cocoa Percent'] = train_df_clean['Cocoa Percent'].apply(lambda x: x.rstrip(' %')).astype(np.float32)"
   ]
  },
  {
   "cell_type": "code",
   "execution_count": 448,
   "id": "b6f9c8e3",
   "metadata": {},
   "outputs": [
    {
     "data": {
      "text/html": [
       "<div>\n",
       "<style scoped>\n",
       "    .dataframe tbody tr th:only-of-type {\n",
       "        vertical-align: middle;\n",
       "    }\n",
       "\n",
       "    .dataframe tbody tr th {\n",
       "        vertical-align: top;\n",
       "    }\n",
       "\n",
       "    .dataframe thead th {\n",
       "        text-align: right;\n",
       "    }\n",
       "</style>\n",
       "<table border=\"1\" class=\"dataframe\">\n",
       "  <thead>\n",
       "    <tr style=\"text-align: right;\">\n",
       "      <th></th>\n",
       "      <th>REF</th>\n",
       "      <th>Review</th>\n",
       "      <th>Cocoa Percent</th>\n",
       "      <th>Rating</th>\n",
       "    </tr>\n",
       "  </thead>\n",
       "  <tbody>\n",
       "    <tr>\n",
       "      <th>REF</th>\n",
       "      <td>1.000000</td>\n",
       "      <td>0.984938</td>\n",
       "      <td>0.045015</td>\n",
       "      <td>0.112792</td>\n",
       "    </tr>\n",
       "    <tr>\n",
       "      <th>Review</th>\n",
       "      <td>0.984938</td>\n",
       "      <td>1.000000</td>\n",
       "      <td>0.045322</td>\n",
       "      <td>0.111826</td>\n",
       "    </tr>\n",
       "    <tr>\n",
       "      <th>Cocoa Percent</th>\n",
       "      <td>0.045015</td>\n",
       "      <td>0.045322</td>\n",
       "      <td>1.000000</td>\n",
       "      <td>-0.172411</td>\n",
       "    </tr>\n",
       "    <tr>\n",
       "      <th>Rating</th>\n",
       "      <td>0.112792</td>\n",
       "      <td>0.111826</td>\n",
       "      <td>-0.172411</td>\n",
       "      <td>1.000000</td>\n",
       "    </tr>\n",
       "  </tbody>\n",
       "</table>\n",
       "</div>"
      ],
      "text/plain": [
       "                    REF    Review  Cocoa Percent    Rating\n",
       "REF            1.000000  0.984938       0.045015  0.112792\n",
       "Review         0.984938  1.000000       0.045322  0.111826\n",
       "Cocoa Percent  0.045015  0.045322       1.000000 -0.172411\n",
       "Rating         0.112792  0.111826      -0.172411  1.000000"
      ]
     },
     "execution_count": 448,
     "metadata": {},
     "output_type": "execute_result"
    }
   ],
   "source": [
    "numeric_corr = train_df_clean.corr(numeric_only=True)\n",
    "numeric_corr"
   ]
  },
  {
   "cell_type": "markdown",
   "id": "db786be8",
   "metadata": {},
   "source": [
    "# Отбор признаков"
   ]
  },
  {
   "cell_type": "code",
   "execution_count": 449,
   "id": "5ddceaa1",
   "metadata": {},
   "outputs": [
    {
     "data": {
      "image/png": "[encoded data removed]",
      "text/plain": [
       "<Figure size 640x480 with 2 Axes>"
      ]
     },
     "metadata": {},
     "output_type": "display_data"
    }
   ],
   "source": [
    "sns.heatmap(numeric_corr, cmap='Blues', annot=True)\n",
    "plt.show();"
   ]
  },
  {
   "cell_type": "code",
   "execution_count": 450,
   "id": "04cfb02c",
   "metadata": {},
   "outputs": [
    {
     "data": {
      "text/html": [
       "<div>\n",
       "<style scoped>\n",
       "    .dataframe tbody tr th:only-of-type {\n",
       "        vertical-align: middle;\n",
       "    }\n",
       "\n",
       "    .dataframe tbody tr th {\n",
       "        vertical-align: top;\n",
       "    }\n",
       "\n",
       "    .dataframe thead th {\n",
       "        text-align: right;\n",
       "    }\n",
       "</style>\n",
       "<table border=\"1\" class=\"dataframe\">\n",
       "  <thead>\n",
       "    <tr style=\"text-align: right;\">\n",
       "      <th></th>\n",
       "      <th>Company</th>\n",
       "      <th>Specific Bean Origin</th>\n",
       "      <th>Cocoa Percent</th>\n",
       "      <th>Company Location</th>\n",
       "      <th>Bean Type</th>\n",
       "      <th>Broad Bean Origin</th>\n",
       "      <th>Rating_cat</th>\n",
       "    </tr>\n",
       "  </thead>\n",
       "  <tbody>\n",
       "    <tr>\n",
       "      <th>Company</th>\n",
       "      <td>1.000000</td>\n",
       "      <td>0.771074</td>\n",
       "      <td>0.631564</td>\n",
       "      <td>0.999651</td>\n",
       "      <td>0.616841</td>\n",
       "      <td>0.603604</td>\n",
       "      <td>0.592212</td>\n",
       "    </tr>\n",
       "    <tr>\n",
       "      <th>Specific Bean Origin</th>\n",
       "      <td>0.771074</td>\n",
       "      <td>1.000000</td>\n",
       "      <td>0.772975</td>\n",
       "      <td>0.808500</td>\n",
       "      <td>0.907956</td>\n",
       "      <td>0.983377</td>\n",
       "      <td>0.758291</td>\n",
       "    </tr>\n",
       "    <tr>\n",
       "      <th>Cocoa Percent</th>\n",
       "      <td>0.631564</td>\n",
       "      <td>0.772975</td>\n",
       "      <td>1.000000</td>\n",
       "      <td>0.243803</td>\n",
       "      <td>0.158703</td>\n",
       "      <td>0.266313</td>\n",
       "      <td>0.238551</td>\n",
       "    </tr>\n",
       "    <tr>\n",
       "      <th>Company Location</th>\n",
       "      <td>0.999651</td>\n",
       "      <td>0.808500</td>\n",
       "      <td>0.243803</td>\n",
       "      <td>1.000000</td>\n",
       "      <td>0.291616</td>\n",
       "      <td>0.383218</td>\n",
       "      <td>0.227523</td>\n",
       "    </tr>\n",
       "    <tr>\n",
       "      <th>Bean Type</th>\n",
       "      <td>0.616841</td>\n",
       "      <td>0.907956</td>\n",
       "      <td>0.158703</td>\n",
       "      <td>0.291616</td>\n",
       "      <td>1.000000</td>\n",
       "      <td>0.388127</td>\n",
       "      <td>0.157569</td>\n",
       "    </tr>\n",
       "    <tr>\n",
       "      <th>Broad Bean Origin</th>\n",
       "      <td>0.603604</td>\n",
       "      <td>0.983377</td>\n",
       "      <td>0.266313</td>\n",
       "      <td>0.383218</td>\n",
       "      <td>0.388127</td>\n",
       "      <td>1.000000</td>\n",
       "      <td>0.237473</td>\n",
       "    </tr>\n",
       "    <tr>\n",
       "      <th>Rating_cat</th>\n",
       "      <td>0.592212</td>\n",
       "      <td>0.758291</td>\n",
       "      <td>0.238551</td>\n",
       "      <td>0.227523</td>\n",
       "      <td>0.157569</td>\n",
       "      <td>0.237473</td>\n",
       "      <td>1.000000</td>\n",
       "    </tr>\n",
       "  </tbody>\n",
       "</table>\n",
       "</div>"
      ],
      "text/plain": [
       "                       Company  Specific Bean Origin  Cocoa Percent  \\\n",
       "Company               1.000000              0.771074       0.631564   \n",
       "Specific Bean Origin  0.771074              1.000000       0.772975   \n",
       "Cocoa Percent         0.631564              0.772975       1.000000   \n",
       "Company Location      0.999651              0.808500       0.243803   \n",
       "Bean Type             0.616841              0.907956       0.158703   \n",
       "Broad Bean Origin     0.603604              0.983377       0.266313   \n",
       "Rating_cat            0.592212              0.758291       0.238551   \n",
       "\n",
       "                      Company Location  Bean Type  Broad Bean Origin  \\\n",
       "Company                       0.999651   0.616841           0.603604   \n",
       "Specific Bean Origin          0.808500   0.907956           0.983377   \n",
       "Cocoa Percent                 0.243803   0.158703           0.266313   \n",
       "Company Location              1.000000   0.291616           0.383218   \n",
       "Bean Type                     0.291616   1.000000           0.388127   \n",
       "Broad Bean Origin             0.383218   0.388127           1.000000   \n",
       "Rating_cat                    0.227523   0.157569           0.237473   \n",
       "\n",
       "                      Rating_cat  \n",
       "Company                 0.592212  \n",
       "Specific Bean Origin    0.758291  \n",
       "Cocoa Percent           0.238551  \n",
       "Company Location        0.227523  \n",
       "Bean Type               0.157569  \n",
       "Broad Bean Origin       0.237473  \n",
       "Rating_cat              1.000000  "
      ]
     },
     "execution_count": 450,
     "metadata": {},
     "output_type": "execute_result"
    }
   ],
   "source": [
    "cat_cor"
   ]
  },
  {
   "cell_type": "code",
   "execution_count": 451,
   "id": "c3ed4f80",
   "metadata": {},
   "outputs": [
    {
     "data": {
      "text/plain": [
       "0              U.K.\n",
       "1       Switzerland\n",
       "2            U.S.A.\n",
       "3            U.S.A.\n",
       "4            France\n",
       "           ...     \n",
       "1250           U.K.\n",
       "1251           Peru\n",
       "1252         U.S.A.\n",
       "1253         U.S.A.\n",
       "1254         U.S.A.\n",
       "Name: Company Location, Length: 1255, dtype: category\n",
       "Categories (58, object): ['Amsterdam', 'Argentina', 'Australia', 'Austria', ..., 'U.S.A.', 'Venezuela', 'Vietnam', 'Wales']"
      ]
     },
     "execution_count": 451,
     "metadata": {},
     "output_type": "execute_result"
    }
   ],
   "source": [
    "train_df['Company Location']"
   ]
  },
  {
   "cell_type": "code",
   "execution_count": 452,
   "id": "ec51f6ed",
   "metadata": {},
   "outputs": [],
   "source": [
    "train_df_clean = train_df_clean.apply(lambda x: x.astype('category') if x.dtype == 'object' else x)"
   ]
  },
  {
   "cell_type": "code",
   "execution_count": 453,
   "id": "de819598",
   "metadata": {},
   "outputs": [
    {
     "data": {
      "text/html": [
       "<div>\n",
       "<style scoped>\n",
       "    .dataframe tbody tr th:only-of-type {\n",
       "        vertical-align: middle;\n",
       "    }\n",
       "\n",
       "    .dataframe tbody tr th {\n",
       "        vertical-align: top;\n",
       "    }\n",
       "\n",
       "    .dataframe thead th {\n",
       "        text-align: right;\n",
       "    }\n",
       "</style>\n",
       "<table border=\"1\" class=\"dataframe\">\n",
       "  <thead>\n",
       "    <tr style=\"text-align: right;\">\n",
       "      <th></th>\n",
       "      <th>Company</th>\n",
       "      <th>Specific Bean Origin</th>\n",
       "      <th>REF</th>\n",
       "      <th>Review</th>\n",
       "      <th>Cocoa Percent</th>\n",
       "      <th>Company Location</th>\n",
       "      <th>Rating</th>\n",
       "      <th>Bean Type</th>\n",
       "      <th>Broad Bean Origin</th>\n",
       "      <th>Rating_cat</th>\n",
       "    </tr>\n",
       "  </thead>\n",
       "  <tbody>\n",
       "    <tr>\n",
       "      <th>0</th>\n",
       "      <td>Willie's Cacao</td>\n",
       "      <td>Rio Caribe</td>\n",
       "      <td>457</td>\n",
       "      <td>2009</td>\n",
       "      <td>72%</td>\n",
       "      <td>U.K.</td>\n",
       "      <td>3.25</td>\n",
       "      <td>Trinitario</td>\n",
       "      <td>Venezuela</td>\n",
       "      <td>3.25</td>\n",
       "    </tr>\n",
       "    <tr>\n",
       "      <th>1</th>\n",
       "      <td>Beschle (Felchlin)</td>\n",
       "      <td>Ocumare, Premier Cru, Quizas No. 2</td>\n",
       "      <td>508</td>\n",
       "      <td>2010</td>\n",
       "      <td>72%</td>\n",
       "      <td>Switzerland</td>\n",
       "      <td>3.50</td>\n",
       "      <td>Other</td>\n",
       "      <td>Venezuela</td>\n",
       "      <td>3.50</td>\n",
       "    </tr>\n",
       "    <tr>\n",
       "      <th>2</th>\n",
       "      <td>Dark Forest</td>\n",
       "      <td>Tanzania</td>\n",
       "      <td>1554</td>\n",
       "      <td>2015</td>\n",
       "      <td>70%</td>\n",
       "      <td>U.S.A.</td>\n",
       "      <td>3.00</td>\n",
       "      <td>Other</td>\n",
       "      <td>Tanzania</td>\n",
       "      <td>3.00</td>\n",
       "    </tr>\n",
       "    <tr>\n",
       "      <th>3</th>\n",
       "      <td>Brasstown aka It's Chocolate</td>\n",
       "      <td>Cooproagro</td>\n",
       "      <td>1125</td>\n",
       "      <td>2013</td>\n",
       "      <td>72%</td>\n",
       "      <td>U.S.A.</td>\n",
       "      <td>3.00</td>\n",
       "      <td>Trinitario</td>\n",
       "      <td>Dominican Republic</td>\n",
       "      <td>3.00</td>\n",
       "    </tr>\n",
       "    <tr>\n",
       "      <th>4</th>\n",
       "      <td>Pralus</td>\n",
       "      <td>Java, Indonesie</td>\n",
       "      <td>32</td>\n",
       "      <td>2006</td>\n",
       "      <td>75%</td>\n",
       "      <td>France</td>\n",
       "      <td>3.50</td>\n",
       "      <td>Criollo</td>\n",
       "      <td>Indonesia</td>\n",
       "      <td>3.50</td>\n",
       "    </tr>\n",
       "  </tbody>\n",
       "</table>\n",
       "</div>"
      ],
      "text/plain": [
       "                        Company                Specific Bean Origin   REF  \\\n",
       "0                Willie's Cacao                          Rio Caribe   457   \n",
       "1            Beschle (Felchlin)  Ocumare, Premier Cru, Quizas No. 2   508   \n",
       "2                   Dark Forest                            Tanzania  1554   \n",
       "3  Brasstown aka It's Chocolate                          Cooproagro  1125   \n",
       "4                        Pralus                     Java, Indonesie    32   \n",
       "\n",
       "   Review Cocoa Percent Company Location  Rating   Bean Type  \\\n",
       "0    2009           72%             U.K.    3.25  Trinitario   \n",
       "1    2010           72%      Switzerland    3.50       Other   \n",
       "2    2015           70%           U.S.A.    3.00       Other   \n",
       "3    2013           72%           U.S.A.    3.00  Trinitario   \n",
       "4    2006           75%           France    3.50     Criollo   \n",
       "\n",
       "    Broad Bean Origin Rating_cat  \n",
       "0           Venezuela       3.25  \n",
       "1           Venezuela       3.50  \n",
       "2            Tanzania       3.00  \n",
       "3  Dominican Republic       3.00  \n",
       "4           Indonesia       3.50  "
      ]
     },
     "execution_count": 453,
     "metadata": {},
     "output_type": "execute_result"
    }
   ],
   "source": [
    "train_df.head()"
   ]
  },
  {
   "cell_type": "code",
   "execution_count": 454,
   "id": "1f5cbccb",
   "metadata": {},
   "outputs": [
    {
     "data": {
      "text/plain": [
       "Company                 376\n",
       "Specific Bean Origin    762\n",
       "REF                     433\n",
       "Review                   12\n",
       "Cocoa Percent            40\n",
       "Company Location         58\n",
       "Rating                   13\n",
       "Bean Type                38\n",
       "Broad Bean Origin        84\n",
       "Rating_cat               13\n",
       "dtype: int64"
      ]
     },
     "execution_count": 454,
     "metadata": {},
     "output_type": "execute_result"
    }
   ],
   "source": [
    "train_df_clean.nunique()"
   ]
  },
  {
   "cell_type": "code",
   "execution_count": 455,
   "id": "a5e9a23f",
   "metadata": {},
   "outputs": [
    {
     "data": {
      "image/png": "[encoded data removed]",
      "text/plain": [
       "<Figure size 640x480 with 2 Axes>"
      ]
     },
     "metadata": {},
     "output_type": "display_data"
    }
   ],
   "source": [
    "sns.heatmap(cat_cor, cmap='Blues', annot=True)\n",
    "plt.show();"
   ]
  },
  {
   "cell_type": "code",
   "execution_count": 456,
   "id": "27a93408",
   "metadata": {},
   "outputs": [
    {
     "data": {
      "text/html": [
       "<div>\n",
       "<style scoped>\n",
       "    .dataframe tbody tr th:only-of-type {\n",
       "        vertical-align: middle;\n",
       "    }\n",
       "\n",
       "    .dataframe tbody tr th {\n",
       "        vertical-align: top;\n",
       "    }\n",
       "\n",
       "    .dataframe thead th {\n",
       "        text-align: right;\n",
       "    }\n",
       "</style>\n",
       "<table border=\"1\" class=\"dataframe\">\n",
       "  <thead>\n",
       "    <tr style=\"text-align: right;\">\n",
       "      <th></th>\n",
       "      <th>Company</th>\n",
       "      <th>REF</th>\n",
       "      <th>Cocoa Percent</th>\n",
       "      <th>Company Location</th>\n",
       "      <th>Rating</th>\n",
       "      <th>Bean Type</th>\n",
       "      <th>Broad Bean Origin</th>\n",
       "    </tr>\n",
       "  </thead>\n",
       "  <tbody>\n",
       "    <tr>\n",
       "      <th>0</th>\n",
       "      <td>Willie's Cacao</td>\n",
       "      <td>457</td>\n",
       "      <td>72.0</td>\n",
       "      <td>U.K.</td>\n",
       "      <td>3.25</td>\n",
       "      <td>Trinitario</td>\n",
       "      <td>Venezuela</td>\n",
       "    </tr>\n",
       "    <tr>\n",
       "      <th>1</th>\n",
       "      <td>Beschle (Felchlin)</td>\n",
       "      <td>508</td>\n",
       "      <td>72.0</td>\n",
       "      <td>Switzerland</td>\n",
       "      <td>3.50</td>\n",
       "      <td>Other</td>\n",
       "      <td>Venezuela</td>\n",
       "    </tr>\n",
       "    <tr>\n",
       "      <th>2</th>\n",
       "      <td>Dark Forest</td>\n",
       "      <td>1554</td>\n",
       "      <td>70.0</td>\n",
       "      <td>U.S.A.</td>\n",
       "      <td>3.00</td>\n",
       "      <td>Other</td>\n",
       "      <td>Tanzania</td>\n",
       "    </tr>\n",
       "    <tr>\n",
       "      <th>3</th>\n",
       "      <td>Brasstown aka It's Chocolate</td>\n",
       "      <td>1125</td>\n",
       "      <td>72.0</td>\n",
       "      <td>U.S.A.</td>\n",
       "      <td>3.00</td>\n",
       "      <td>Trinitario</td>\n",
       "      <td>Dominican Republic</td>\n",
       "    </tr>\n",
       "    <tr>\n",
       "      <th>4</th>\n",
       "      <td>Pralus</td>\n",
       "      <td>32</td>\n",
       "      <td>75.0</td>\n",
       "      <td>France</td>\n",
       "      <td>3.50</td>\n",
       "      <td>Criollo</td>\n",
       "      <td>Indonesia</td>\n",
       "    </tr>\n",
       "  </tbody>\n",
       "</table>\n",
       "</div>"
      ],
      "text/plain": [
       "                        Company   REF  Cocoa Percent Company Location  Rating  \\\n",
       "0                Willie's Cacao   457           72.0             U.K.    3.25   \n",
       "1            Beschle (Felchlin)   508           72.0      Switzerland    3.50   \n",
       "2                   Dark Forest  1554           70.0           U.S.A.    3.00   \n",
       "3  Brasstown aka It's Chocolate  1125           72.0           U.S.A.    3.00   \n",
       "4                        Pralus    32           75.0           France    3.50   \n",
       "\n",
       "    Bean Type   Broad Bean Origin  \n",
       "0  Trinitario           Venezuela  \n",
       "1       Other           Venezuela  \n",
       "2       Other            Tanzania  \n",
       "3  Trinitario  Dominican Republic  \n",
       "4     Criollo           Indonesia  "
      ]
     },
     "execution_count": 456,
     "metadata": {},
     "output_type": "execute_result"
    }
   ],
   "source": [
    "drop_cols = ['Specific Bean Origin', 'Review', 'Rating_cat']\n",
    "train_df_clean = train_df_clean.drop(drop_cols, axis=1)\n",
    "train_df_clean.head()"
   ]
  },
  {
   "cell_type": "code",
   "execution_count": 457,
   "id": "de325b05",
   "metadata": {},
   "outputs": [
    {
     "data": {
      "text/html": [
       "<div>\n",
       "<style scoped>\n",
       "    .dataframe tbody tr th:only-of-type {\n",
       "        vertical-align: middle;\n",
       "    }\n",
       "\n",
       "    .dataframe tbody tr th {\n",
       "        vertical-align: top;\n",
       "    }\n",
       "\n",
       "    .dataframe thead th {\n",
       "        text-align: right;\n",
       "    }\n",
       "</style>\n",
       "<table border=\"1\" class=\"dataframe\">\n",
       "  <thead>\n",
       "    <tr style=\"text-align: right;\">\n",
       "      <th></th>\n",
       "      <th>Company</th>\n",
       "      <th>REF</th>\n",
       "      <th>Cocoa Percent</th>\n",
       "      <th>Company Location</th>\n",
       "      <th>Rating</th>\n",
       "      <th>Bean Type</th>\n",
       "      <th>Broad Bean Origin</th>\n",
       "    </tr>\n",
       "  </thead>\n",
       "  <tbody>\n",
       "    <tr>\n",
       "      <th>0</th>\n",
       "      <td>Willie's Cacao</td>\n",
       "      <td>457</td>\n",
       "      <td>72.0</td>\n",
       "      <td>U.K.</td>\n",
       "      <td>3.25</td>\n",
       "      <td>Trinitario</td>\n",
       "      <td>Venezuela</td>\n",
       "    </tr>\n",
       "    <tr>\n",
       "      <th>1</th>\n",
       "      <td>Beschle (Felchlin)</td>\n",
       "      <td>508</td>\n",
       "      <td>72.0</td>\n",
       "      <td>Switzerland</td>\n",
       "      <td>3.50</td>\n",
       "      <td>Other</td>\n",
       "      <td>Venezuela</td>\n",
       "    </tr>\n",
       "    <tr>\n",
       "      <th>2</th>\n",
       "      <td>Dark Forest</td>\n",
       "      <td>1554</td>\n",
       "      <td>70.0</td>\n",
       "      <td>U.S.A.</td>\n",
       "      <td>3.00</td>\n",
       "      <td>Other</td>\n",
       "      <td>Tanzania</td>\n",
       "    </tr>\n",
       "    <tr>\n",
       "      <th>3</th>\n",
       "      <td>Brasstown aka It's Chocolate</td>\n",
       "      <td>1125</td>\n",
       "      <td>72.0</td>\n",
       "      <td>U.S.A.</td>\n",
       "      <td>3.00</td>\n",
       "      <td>Trinitario</td>\n",
       "      <td>Dominican Republic</td>\n",
       "    </tr>\n",
       "    <tr>\n",
       "      <th>4</th>\n",
       "      <td>Pralus</td>\n",
       "      <td>32</td>\n",
       "      <td>75.0</td>\n",
       "      <td>France</td>\n",
       "      <td>3.50</td>\n",
       "      <td>Criollo</td>\n",
       "      <td>Indonesia</td>\n",
       "    </tr>\n",
       "  </tbody>\n",
       "</table>\n",
       "</div>"
      ],
      "text/plain": [
       "                        Company   REF  Cocoa Percent Company Location  Rating  \\\n",
       "0                Willie's Cacao   457           72.0             U.K.    3.25   \n",
       "1            Beschle (Felchlin)   508           72.0      Switzerland    3.50   \n",
       "2                   Dark Forest  1554           70.0           U.S.A.    3.00   \n",
       "3  Brasstown aka It's Chocolate  1125           72.0           U.S.A.    3.00   \n",
       "4                        Pralus    32           75.0           France    3.50   \n",
       "\n",
       "    Bean Type   Broad Bean Origin  \n",
       "0  Trinitario           Venezuela  \n",
       "1       Other           Venezuela  \n",
       "2       Other            Tanzania  \n",
       "3  Trinitario  Dominican Republic  \n",
       "4     Criollo           Indonesia  "
      ]
     },
     "execution_count": 457,
     "metadata": {},
     "output_type": "execute_result"
    }
   ],
   "source": [
    "train_df_clean.head()"
   ]
  },
  {
   "cell_type": "markdown",
   "id": "d28634f5",
   "metadata": {},
   "source": [
    "# Построение модели"
   ]
  },
  {
   "cell_type": "code",
   "execution_count": 458,
   "id": "273a24d8",
   "metadata": {},
   "outputs": [],
   "source": [
    "X = train_df_clean.drop('Rating', axis=1)\n",
    "y = train_df_clean['Rating']\n",
    "\n",
    "# X_train, X_val, y_train, y_val = train_test_split(X, y, test_size=0.25, random_state=RANDOM_STATE)"
   ]
  },
  {
   "cell_type": "code",
   "execution_count": 459,
   "id": "f61f6a81",
   "metadata": {},
   "outputs": [],
   "source": [
    "# train_df_clean.dtypes"
   ]
  },
  {
   "cell_type": "code",
   "execution_count": 460,
   "id": "e14235f9",
   "metadata": {},
   "outputs": [],
   "source": [
    "# cat_features = [i for i, col in enumerate(X_train.columns) if X_train[col].dtype.name in ['category', 'object']]\n",
    "\n",
    "# for col in X_train.drop(X_train.columns[cat_features], axis=1):\n",
    "#     print(col)\n",
    "#     sns.boxplot(X_train[col])\n",
    "#     plt.show()\n",
    "# print('Target')\n",
    "# sns.boxplot(y)\n",
    "# plt.show()"
   ]
  },
  {
   "cell_type": "code",
   "execution_count": 461,
   "id": "5c75ced9",
   "metadata": {},
   "outputs": [],
   "source": [
    "# val_vscore_arr = []\n",
    "# for RANDOM_STATE in range(50, 251, 50):\n",
    "#     X_train, X_val, y_train, y_val = train_test_split(X, y, test_size=0.25, random_state=RANDOM_STATE)\n",
    "#     cat_features = [i for i, col in enumerate(X_train.columns) if X_train[col].dtype.name in ['category', 'object']]\n",
    "#     model = CatBoostRegressor(cat_features=cat_features)\n",
    "#     model.fit(X_train, y_train, verbose=False)\n",
    "#     print(model.score(X_train, y_train))\n",
    "#     pred = model.predict(X_val)\n",
    "#     val_score = r2_score(y_val, pred)\n",
    "#     val_vscore_arr.append(val_score)\n",
    "\n",
    "#     print(val_score)\n",
    "#     print()\n",
    "# print(np.mean(val_vscore_arr))"
   ]
  },
  {
   "cell_type": "code",
   "execution_count": 462,
   "id": "ca168617",
   "metadata": {},
   "outputs": [],
   "source": [
    "# pd.DataFrame({'feature_names': model.feature_names_, 'feature_importances': model.feature_importances_}).sort_values('feature_importances', ascending=False)"
   ]
  },
  {
   "cell_type": "code",
   "execution_count": 463,
   "id": "6ed14110",
   "metadata": {},
   "outputs": [],
   "source": [
    "X_train, X_val, y_train, y_val = train_test_split(X, y, test_size=0.25, random_state=RANDOM_STATE)"
   ]
  },
  {
   "cell_type": "code",
   "execution_count": 464,
   "id": "10583831",
   "metadata": {},
   "outputs": [
    {
     "name": "stderr",
     "output_type": "stream",
     "text": [
      "[I 2025-05-10 09:49:26,028] A new study created in memory with name: no-name-44a67231-51e5-4037-a8a7-512506d1167a\n",
      "[I 2025-05-10 09:49:30,399] Trial 0 finished with value: 0.10370806224879052 and parameters: {'learning_rate': 0.015774234967006803, 'n_estimators': 115, 'depth': 3}. Best is trial 0 with value: 0.10370806224879052.\n",
      "[I 2025-05-10 09:59:18,882] Trial 1 finished with value: 0.08052309805150575 and parameters: {'learning_rate': 0.04840391209888569, 'n_estimators': 1100, 'depth': 14}. Best is trial 0 with value: 0.10370806224879052.\n",
      "[I 2025-05-10 10:00:07,666] Trial 2 finished with value: 0.1385880684737502 and parameters: {'learning_rate': 0.014756180340673906, 'n_estimators': 984, 'depth': 8}. Best is trial 2 with value: 0.1385880684737502.\n",
      "[I 2025-05-10 10:00:39,529] Trial 3 finished with value: 0.12547000190878385 and parameters: {'learning_rate': 0.033124387192937206, 'n_estimators': 450, 'depth': 9}. Best is trial 2 with value: 0.1385880684737502.\n",
      "[I 2025-05-10 10:00:40,233] Trial 4 finished with value: 0.1322704740570835 and parameters: {'learning_rate': 0.07422401088711583, 'n_estimators': 56, 'depth': 2}. Best is trial 2 with value: 0.1385880684737502.\n",
      "[I 2025-05-10 10:05:20,642] Trial 5 finished with value: 0.09238816092351228 and parameters: {'learning_rate': 0.02385196212004769, 'n_estimators': 947, 'depth': 13}. Best is trial 2 with value: 0.1385880684737502.\n",
      "[I 2025-05-10 10:06:45,517] Trial 6 finished with value: 0.08743376659654278 and parameters: {'learning_rate': 0.03830860232763023, 'n_estimators': 1132, 'depth': 11}. Best is trial 2 with value: 0.1385880684737502.\n",
      "[I 2025-05-10 10:18:27,576] Trial 7 finished with value: 0.06590544494489736 and parameters: {'learning_rate': 0.051986267661274975, 'n_estimators': 610, 'depth': 15}. Best is trial 2 with value: 0.1385880684737502.\n",
      "[I 2025-05-10 10:32:18,598] Trial 8 finished with value: 0.09250378782213038 and parameters: {'learning_rate': 0.017021479727712892, 'n_estimators': 1054, 'depth': 14}. Best is trial 2 with value: 0.1385880684737502.\n",
      "[I 2025-05-10 10:32:29,873] Trial 9 finished with value: 0.11512368855244122 and parameters: {'learning_rate': 0.187932538615818, 'n_estimators': 726, 'depth': 3}. Best is trial 2 with value: 0.1385880684737502.\n",
      "[I 2025-05-10 10:33:36,336] Trial 10 finished with value: 0.1450559327320765 and parameters: {'learning_rate': 0.01062976814945433, 'n_estimators': 1473, 'depth': 7}. Best is trial 10 with value: 0.1450559327320765.\n",
      "[I 2025-05-10 10:34:46,205] Trial 11 finished with value: 0.147842611517093 and parameters: {'learning_rate': 0.010325178267426752, 'n_estimators': 1483, 'depth': 7}. Best is trial 11 with value: 0.147842611517093.\n",
      "[I 2025-05-10 10:35:45,314] Trial 12 finished with value: 0.15027472732040237 and parameters: {'learning_rate': 0.010066416015804821, 'n_estimators': 1496, 'depth': 7}. Best is trial 12 with value: 0.15027472732040237.\n",
      "[I 2025-05-10 10:36:34,422] Trial 13 finished with value: 0.15574660720776803 and parameters: {'learning_rate': 0.010019450287877605, 'n_estimators': 1493, 'depth': 6}. Best is trial 13 with value: 0.15574660720776803.\n",
      "[I 2025-05-10 10:36:59,483] Trial 14 finished with value: 0.08851620169904466 and parameters: {'learning_rate': 0.09860136216536838, 'n_estimators': 1278, 'depth': 5}. Best is trial 13 with value: 0.15574660720776803.\n"
     ]
    },
    {
     "name": "stdout",
     "output_type": "stream",
     "text": [
      "FrozenTrial(number=13, state=1, values=[0.15574660720776803], datetime_start=datetime.datetime(2025, 5, 10, 10, 35, 45, 314790), datetime_complete=datetime.datetime(2025, 5, 10, 10, 36, 34, 422740), params={'learning_rate': 0.010019450287877605, 'n_estimators': 1493, 'depth': 6}, user_attrs={}, system_attrs={}, intermediate_values={}, distributions={'learning_rate': FloatDistribution(high=0.3, log=True, low=0.01, step=None), 'n_estimators': IntDistribution(high=1500, log=False, low=10, step=1), 'depth': IntDistribution(high=16, log=False, low=2, step=1)}, trial_id=13, value=None)\n"
     ]
    }
   ],
   "source": [
    "cat_features = [i for i, col in enumerate(X_train.columns) if X_train[col].dtype.name in ['category', 'object']]\n",
    "\n",
    "def objective(trial):\n",
    "    params = {\n",
    "        'learning_rate': trial.suggest_float('learning_rate', 0.01, 0.3, log=True),\n",
    "        'n_estimators': trial.suggest_int('n_estimators', 10, 1500),\n",
    "        'max_depth': trial.suggest_int('depth', 2, 16),\n",
    "        'verbose': 0,\n",
    "        'early_stopping_rounds': 50\n",
    "    }\n",
    "\n",
    "    estimator = CatBoostRegressor(**params, cat_features=cat_features)\n",
    "    estimator.fit(X_train, y_train, eval_set=(X_val, y_val), verbose=False)\n",
    "    return cross_val_score(estimator, X_train, y_train, cv=3, scoring='r2', n_jobs=5).mean()\n",
    "\n",
    "study = optuna.create_study(direction=\"maximize\")\n",
    "study.optimize(objective, n_trials=15)\n",
    "print(study.best_trial)"
   ]
  },
  {
   "cell_type": "code",
   "execution_count": 465,
   "id": "ddbdabde",
   "metadata": {},
   "outputs": [
    {
     "data": {
      "text/plain": [
       "0.2353777702953349"
      ]
     },
     "execution_count": 465,
     "metadata": {},
     "output_type": "execute_result"
    }
   ],
   "source": [
    "hyper_param_model = CatBoostRegressor(**study.best_params, cat_features=cat_features, verbose=False)\n",
    "hyper_param_model.fit(X_train, y_train)\n",
    "new_pred = hyper_param_model.predict(X_val)\n",
    "r2_score(y_val, new_pred)\n",
    "# 0.22796892470738905"
   ]
  },
  {
   "cell_type": "code",
   "execution_count": 466,
   "id": "dfce682b",
   "metadata": {},
   "outputs": [
    {
     "data": {
      "text/plain": [
       "0.4955717401819244"
      ]
     },
     "execution_count": 466,
     "metadata": {},
     "output_type": "execute_result"
    }
   ],
   "source": [
    "cb_train_pred = hyper_param_model.predict(X_train)\n",
    "r2_score(y_train, cb_train_pred)\n",
    "# 0.3794773884333069"
   ]
  },
  {
   "cell_type": "code",
   "execution_count": 467,
   "id": "dd95fbe3",
   "metadata": {},
   "outputs": [
    {
     "data": {
      "text/plain": [
       "0.4955717401819244"
      ]
     },
     "execution_count": 467,
     "metadata": {},
     "output_type": "execute_result"
    }
   ],
   "source": [
    "hyper_param_model.score(X_train, y_train)\n",
    "# 0.3794773884333069"
   ]
  },
  {
   "cell_type": "code",
   "execution_count": null,
   "id": "25344430",
   "metadata": {},
   "outputs": [],
   "source": []
  },
  {
   "cell_type": "code",
   "execution_count": 468,
   "id": "7c3b441e",
   "metadata": {},
   "outputs": [],
   "source": [
    "cat_cols = X_train.select_dtypes(include='category').columns\n",
    "\n",
    "X_train[cat_cols] = X_train[cat_cols].astype('object')\n",
    "X_val[cat_cols] = X_val[cat_cols].astype('object')"
   ]
  },
  {
   "cell_type": "code",
   "execution_count": 469,
   "id": "89ebf470",
   "metadata": {},
   "outputs": [
    {
     "name": "stdout",
     "output_type": "stream",
     "text": [
      "1 0.1055544803624765\n",
      "2 0.08546446738419022\n",
      "3 0.11066000375161023\n",
      "4 0.08546446738419056\n",
      "5 0.10555448036247628\n",
      "6 0.11066000375161011\n",
      "7 0.12665427893858094\n",
      "8 0.12665427893858094\n",
      "9 0.09107245921804674\n"
     ]
    }
   ],
   "source": [
    "p1 = Pipeline([\n",
    "    ('encoder_',TargetEncoder(cols=cat_cols)),\n",
    "    ('scaler_', StandardScaler()),\n",
    "    ('model_', LinearRegression())\n",
    "    ])\n",
    "\n",
    "p2 = Pipeline([\n",
    "    ('encoder_',TargetEncoder(cols=cat_cols, smoothing=1)),\n",
    "    ('scaler_', StandardScaler()),\n",
    "    ('model_', LinearRegression())\n",
    "    ])\n",
    "\n",
    "p3 = Pipeline([\n",
    "    ('encoder_',TargetEncoder(cols=cat_cols, smoothing=100)),\n",
    "    ('scaler_', StandardScaler()),\n",
    "    ('model_', LinearRegression())\n",
    "    ])\n",
    "\n",
    "p4 = Pipeline([\n",
    "    ('encoder_',TargetEncoder(cols=cat_cols, smoothing=1)),\n",
    "    ('scaler_', MinMaxScaler()),\n",
    "    ('model_', LinearRegression())\n",
    "    ])\n",
    "\n",
    "p5 = Pipeline([\n",
    "    ('encoder_',TargetEncoder(cols=cat_cols, smoothing=10)),\n",
    "    ('scaler_', MinMaxScaler()),\n",
    "    ('model_', LinearRegression())\n",
    "    ])\n",
    "\n",
    "p6 = Pipeline([\n",
    "    ('encoder_',TargetEncoder(cols=cat_cols, smoothing=100)),\n",
    "    ('scaler_', MinMaxScaler()),\n",
    "    ('model_', LinearRegression())\n",
    "    ])\n",
    "\n",
    "p7 = Pipeline([\n",
    "    ('encoder_',LeaveOneOutEncoder(cols=cat_cols)),\n",
    "    ('scaler_', StandardScaler()),\n",
    "    ('model_', LinearRegression())\n",
    "    ])\n",
    "\n",
    "p8 = Pipeline([\n",
    "    ('encoder_',LeaveOneOutEncoder(cols=cat_cols)),\n",
    "    ('scaler_', MinMaxScaler()),\n",
    "    ('model_', LinearRegression())\n",
    "    ])\n",
    "\n",
    "p9 = Pipeline([\n",
    "    ('encoder_',TargetEncoder(cols=cat_cols)),\n",
    "    ('scaler_', StandardScaler()),\n",
    "    ('model_', RandomForestRegressor(n_jobs=-1))\n",
    "    ])\n",
    "\n",
    "for i, p in enumerate([p1,p2,p3,p4,p5,p6,p7,p8,p9]):\n",
    "    p.fit(X_train, y_train)\n",
    "    pred = p.predict(X_val)\n",
    "    print(i + 1, r2_score(y_val, pred))"
   ]
  },
  {
   "cell_type": "code",
   "execution_count": 572,
   "id": "e0ac0e5b",
   "metadata": {},
   "outputs": [],
   "source": [
    "from sklearn.model_selection import GridSearchCV\n",
    "rf = RandomForestRegressor(random_state=RANDOM_STATE)\n",
    "\n",
    "params = {'n_estimators': np.arange(6, 12), \n",
    "          'max_depth': np.arange(2, 16)}\n",
    "\n",
    "gd = GridSearchCV(rf, param_grid=params, cv=3, scoring='r2')\n"
   ]
  },
  {
   "cell_type": "code",
   "execution_count": 574,
   "id": "90fbd735",
   "metadata": {},
   "outputs": [
    {
     "name": "stdout",
     "output_type": "stream",
     "text": [
      "1 0.05759855986746443\n",
      "2 0.15915684744064917\n",
      "3 0.06973161966005437\n",
      "4 0.20886996796981872\n",
      "5 0.07991582446014789\n",
      "6 0.06973161966005437\n",
      "7 0.001575260649701371\n",
      "8 0.001575260649701371\n"
     ]
    }
   ],
   "source": [
    "p11 = Pipeline([\n",
    "    ('encoder_',TargetEncoder(cols=cat_cols)),\n",
    "    # ('scaler_', StandardScaler()),\n",
    "    ('model_', gd)\n",
    "    ])\n",
    "\n",
    "p12 = Pipeline([\n",
    "    ('encoder_',TargetEncoder(cols=cat_cols, smoothing=1)),\n",
    "    # ('scaler_', StandardScaler()),\n",
    "    ('model_', gd)\n",
    "    ])\n",
    "\n",
    "p13 = Pipeline([\n",
    "    ('encoder_',TargetEncoder(cols=cat_cols, smoothing=100)),\n",
    "    # ('scaler_', StandardScaler()),\n",
    "    ('model_', RandomForestRegressor(n_estimators=12, max_depth=9, random_state=42))\n",
    "    ])\n",
    "\n",
    "p14 = Pipeline([\n",
    "    ('encoder_',TargetEncoder(cols=cat_cols, smoothing=1)),\n",
    "    # ('scaler_', MinMaxScaler()),\n",
    "    ('model_', RandomForestRegressor(n_estimators=12, max_depth=9, random_state=42))\n",
    "    ])\n",
    "\n",
    "p15 = Pipeline([\n",
    "    ('encoder_',TargetEncoder(cols=cat_cols, smoothing=10)),\n",
    "    # ('scaler_', MinMaxScaler()),\n",
    "    ('model_', RandomForestRegressor(n_estimators=12, max_depth=9, random_state=42))\n",
    "    ])\n",
    "\n",
    "p16 = Pipeline([\n",
    "    ('encoder_',TargetEncoder(cols=cat_cols, smoothing=100)),\n",
    "    # ('scaler_', MinMaxScaler()),\n",
    "    ('model_', RandomForestRegressor(n_estimators=12, max_depth=9, random_state=42))\n",
    "    ])\n",
    "\n",
    "p17 = Pipeline([\n",
    "    ('encoder_',LeaveOneOutEncoder(cols=cat_cols)),\n",
    "    # ('scaler_', StandardScaler()),\n",
    "    ('model_', RandomForestRegressor(n_estimators=12, max_depth=9, random_state=42))\n",
    "    ])\n",
    "\n",
    "p18 = Pipeline([\n",
    "    ('encoder_',LeaveOneOutEncoder(cols=cat_cols)),\n",
    "    # ('scaler_', MinMaxScaler()),\n",
    "    ('model_', RandomForestRegressor(n_estimators=12, max_depth=9, random_state=42))\n",
    "    ])\n",
    "\n",
    "for i, p in enumerate([p11,p12,p13,p14,p15,p16,p17,p18]):\n",
    "    p.fit(X_train, y_train)\n",
    "    pred = p.predict(X_val)\n",
    "    print(i + 1, r2_score(y_val, pred))"
   ]
  },
  {
   "cell_type": "code",
   "execution_count": 576,
   "id": "3b544975",
   "metadata": {},
   "outputs": [
    {
     "data": {
      "text/plain": [
       "0.2373439708724857"
      ]
     },
     "execution_count": 576,
     "metadata": {},
     "output_type": "execute_result"
    }
   ],
   "source": [
    "lr_pred = p12.predict(X_val)\n",
    "\n",
    "final_pred = 0.8 * new_pred + 0.2 * lr_pred\n",
    "\n",
    "r2_score(y_val, final_pred)"
   ]
  },
  {
   "cell_type": "code",
   "execution_count": 577,
   "id": "456ef316",
   "metadata": {},
   "outputs": [
    {
     "data": {
      "text/plain": [
       "0.2353777702953349"
      ]
     },
     "execution_count": 577,
     "metadata": {},
     "output_type": "execute_result"
    }
   ],
   "source": [
    "r2_score(y_val, new_pred)"
   ]
  },
  {
   "cell_type": "code",
   "execution_count": 548,
   "id": "9177417c",
   "metadata": {},
   "outputs": [],
   "source": [
    "test_df = pd.read_csv(TEST)"
   ]
  },
  {
   "cell_type": "code",
   "execution_count": 549,
   "id": "e06c0daf",
   "metadata": {},
   "outputs": [],
   "source": [
    "test_df = test_df.replace('\\xa0', np.NaN)"
   ]
  },
  {
   "cell_type": "code",
   "execution_count": 550,
   "id": "d94bc09b",
   "metadata": {},
   "outputs": [
    {
     "data": {
      "text/plain": [
       "Company                   0\n",
       "Specific Bean Origin      0\n",
       "REF                       0\n",
       "Review                    0\n",
       "Cocoa Percent             0\n",
       "Company Location          0\n",
       "Bean Type               259\n",
       "Broad Bean Origin        18\n",
       "dtype: int64"
      ]
     },
     "execution_count": 550,
     "metadata": {},
     "output_type": "execute_result"
    }
   ],
   "source": [
    "test_df.isna().sum()"
   ]
  },
  {
   "cell_type": "code",
   "execution_count": 551,
   "id": "76ebb392",
   "metadata": {},
   "outputs": [
    {
     "data": {
      "text/html": [
       "<div>\n",
       "<style scoped>\n",
       "    .dataframe tbody tr th:only-of-type {\n",
       "        vertical-align: middle;\n",
       "    }\n",
       "\n",
       "    .dataframe tbody tr th {\n",
       "        vertical-align: top;\n",
       "    }\n",
       "\n",
       "    .dataframe thead th {\n",
       "        text-align: right;\n",
       "    }\n",
       "</style>\n",
       "<table border=\"1\" class=\"dataframe\">\n",
       "  <thead>\n",
       "    <tr style=\"text-align: right;\">\n",
       "      <th></th>\n",
       "      <th>Company</th>\n",
       "      <th>Specific Bean Origin</th>\n",
       "      <th>REF</th>\n",
       "      <th>Review</th>\n",
       "      <th>Cocoa Percent</th>\n",
       "      <th>Company Location</th>\n",
       "      <th>Bean Type</th>\n",
       "      <th>Broad Bean Origin</th>\n",
       "    </tr>\n",
       "  </thead>\n",
       "  <tbody>\n",
       "    <tr>\n",
       "      <th>0</th>\n",
       "      <td>Ohiyo</td>\n",
       "      <td>San Juan Estate, Gran Couva</td>\n",
       "      <td>1594</td>\n",
       "      <td>2015</td>\n",
       "      <td>70%</td>\n",
       "      <td>U.S.A.</td>\n",
       "      <td>Trinitario</td>\n",
       "      <td>Trinidad</td>\n",
       "    </tr>\n",
       "    <tr>\n",
       "      <th>1</th>\n",
       "      <td>Blanxart</td>\n",
       "      <td>Organic Dark</td>\n",
       "      <td>322</td>\n",
       "      <td>2009</td>\n",
       "      <td>72%</td>\n",
       "      <td>Spain</td>\n",
       "      <td>NaN</td>\n",
       "      <td>NaN</td>\n",
       "    </tr>\n",
       "    <tr>\n",
       "      <th>2</th>\n",
       "      <td>Brazen</td>\n",
       "      <td>Maya Mountain</td>\n",
       "      <td>1518</td>\n",
       "      <td>2015</td>\n",
       "      <td>80%</td>\n",
       "      <td>U.S.A.</td>\n",
       "      <td>Trinitario</td>\n",
       "      <td>Belize</td>\n",
       "    </tr>\n",
       "    <tr>\n",
       "      <th>3</th>\n",
       "      <td>Patric</td>\n",
       "      <td>Madagascar</td>\n",
       "      <td>439</td>\n",
       "      <td>2009</td>\n",
       "      <td>67%</td>\n",
       "      <td>U.S.A.</td>\n",
       "      <td>Trinitario</td>\n",
       "      <td>Madagascar</td>\n",
       "    </tr>\n",
       "    <tr>\n",
       "      <th>4</th>\n",
       "      <td>Potomac</td>\n",
       "      <td>Upala, Batch 12</td>\n",
       "      <td>607</td>\n",
       "      <td>2010</td>\n",
       "      <td>82%</td>\n",
       "      <td>U.S.A.</td>\n",
       "      <td>Matina</td>\n",
       "      <td>Costa Rica</td>\n",
       "    </tr>\n",
       "  </tbody>\n",
       "</table>\n",
       "</div>"
      ],
      "text/plain": [
       "    Company         Specific Bean Origin   REF  Review Cocoa Percent  \\\n",
       "0     Ohiyo  San Juan Estate, Gran Couva  1594    2015           70%   \n",
       "1  Blanxart                 Organic Dark   322    2009           72%   \n",
       "2    Brazen                Maya Mountain  1518    2015           80%   \n",
       "3    Patric                   Madagascar   439    2009           67%   \n",
       "4   Potomac              Upala, Batch 12   607    2010           82%   \n",
       "\n",
       "  Company Location   Bean Type Broad Bean Origin  \n",
       "0           U.S.A.  Trinitario          Trinidad  \n",
       "1            Spain         NaN               NaN  \n",
       "2           U.S.A.  Trinitario            Belize  \n",
       "3           U.S.A.  Trinitario        Madagascar  \n",
       "4           U.S.A.      Matina        Costa Rica  "
      ]
     },
     "execution_count": 551,
     "metadata": {},
     "output_type": "execute_result"
    }
   ],
   "source": [
    "test_df.head()"
   ]
  },
  {
   "cell_type": "code",
   "execution_count": 552,
   "id": "439f9997",
   "metadata": {},
   "outputs": [
    {
     "name": "stdout",
     "output_type": "stream",
     "text": [
      "<class 'pandas.core.frame.DataFrame'>\n",
      "RangeIndex: 540 entries, 0 to 539\n",
      "Data columns (total 8 columns):\n",
      " #   Column                Non-Null Count  Dtype \n",
      "---  ------                --------------  ----- \n",
      " 0   Company               540 non-null    object\n",
      " 1   Specific Bean Origin  540 non-null    object\n",
      " 2   REF                   540 non-null    int64 \n",
      " 3   Review                540 non-null    int64 \n",
      " 4   Cocoa Percent         540 non-null    object\n",
      " 5   Company Location      540 non-null    object\n",
      " 6   Bean Type             281 non-null    object\n",
      " 7   Broad Bean Origin     522 non-null    object\n",
      "dtypes: int64(2), object(6)\n",
      "memory usage: 33.9+ KB\n"
     ]
    }
   ],
   "source": [
    "test_df.info()"
   ]
  },
  {
   "cell_type": "code",
   "execution_count": 553,
   "id": "c5e31a5f",
   "metadata": {},
   "outputs": [],
   "source": [
    "test_df['Cocoa Percent'] = test_df['Cocoa Percent'].apply(lambda x: x.rstrip(' %')).astype(np.float32)"
   ]
  },
  {
   "cell_type": "code",
   "execution_count": 554,
   "id": "d2f826b1",
   "metadata": {},
   "outputs": [],
   "source": [
    "test_df_clean = test_df.copy()\n",
    "test_df_clean['Bean Type'] = test_df_clean['Bean Type'].fillna('Other')\n",
    "test_df_clean['Broad Bean Origin'] = test_df_clean['Broad Bean Origin'].fillna('Other')"
   ]
  },
  {
   "cell_type": "code",
   "execution_count": 555,
   "id": "d659e86d",
   "metadata": {},
   "outputs": [
    {
     "data": {
      "text/plain": [
       "Company                   0\n",
       "Specific Bean Origin      0\n",
       "REF                       0\n",
       "Review                    0\n",
       "Cocoa Percent             0\n",
       "Company Location          0\n",
       "Bean Type               259\n",
       "Broad Bean Origin        18\n",
       "dtype: int64"
      ]
     },
     "execution_count": 555,
     "metadata": {},
     "output_type": "execute_result"
    }
   ],
   "source": [
    "test_df.isna().sum()"
   ]
  },
  {
   "cell_type": "code",
   "execution_count": 556,
   "id": "ff85aa56",
   "metadata": {},
   "outputs": [],
   "source": [
    "# def REF_transform(x):\n",
    "#     for n, inerval in enumerate(arr, 1):\n",
    "#         if x in inerval:\n",
    "#             return n"
   ]
  },
  {
   "cell_type": "code",
   "execution_count": 557,
   "id": "6c8617d6",
   "metadata": {},
   "outputs": [],
   "source": [
    "# test_df_clean['REF'] = test_df_clean['REF'].apply(REF_transform)"
   ]
  },
  {
   "cell_type": "code",
   "execution_count": 558,
   "id": "1b242322",
   "metadata": {},
   "outputs": [
    {
     "data": {
      "text/html": [
       "<div>\n",
       "<style scoped>\n",
       "    .dataframe tbody tr th:only-of-type {\n",
       "        vertical-align: middle;\n",
       "    }\n",
       "\n",
       "    .dataframe tbody tr th {\n",
       "        vertical-align: top;\n",
       "    }\n",
       "\n",
       "    .dataframe thead th {\n",
       "        text-align: right;\n",
       "    }\n",
       "</style>\n",
       "<table border=\"1\" class=\"dataframe\">\n",
       "  <thead>\n",
       "    <tr style=\"text-align: right;\">\n",
       "      <th></th>\n",
       "      <th>Company</th>\n",
       "      <th>Specific Bean Origin</th>\n",
       "      <th>REF</th>\n",
       "      <th>Review</th>\n",
       "      <th>Cocoa Percent</th>\n",
       "      <th>Company Location</th>\n",
       "      <th>Bean Type</th>\n",
       "      <th>Broad Bean Origin</th>\n",
       "    </tr>\n",
       "  </thead>\n",
       "  <tbody>\n",
       "    <tr>\n",
       "      <th>0</th>\n",
       "      <td>Ohiyo</td>\n",
       "      <td>San Juan Estate, Gran Couva</td>\n",
       "      <td>1594</td>\n",
       "      <td>2015</td>\n",
       "      <td>70.0</td>\n",
       "      <td>U.S.A.</td>\n",
       "      <td>Trinitario</td>\n",
       "      <td>Trinidad</td>\n",
       "    </tr>\n",
       "    <tr>\n",
       "      <th>1</th>\n",
       "      <td>Blanxart</td>\n",
       "      <td>Organic Dark</td>\n",
       "      <td>322</td>\n",
       "      <td>2009</td>\n",
       "      <td>72.0</td>\n",
       "      <td>Spain</td>\n",
       "      <td>Other</td>\n",
       "      <td>Other</td>\n",
       "    </tr>\n",
       "    <tr>\n",
       "      <th>2</th>\n",
       "      <td>Brazen</td>\n",
       "      <td>Maya Mountain</td>\n",
       "      <td>1518</td>\n",
       "      <td>2015</td>\n",
       "      <td>80.0</td>\n",
       "      <td>U.S.A.</td>\n",
       "      <td>Trinitario</td>\n",
       "      <td>Belize</td>\n",
       "    </tr>\n",
       "    <tr>\n",
       "      <th>3</th>\n",
       "      <td>Patric</td>\n",
       "      <td>Madagascar</td>\n",
       "      <td>439</td>\n",
       "      <td>2009</td>\n",
       "      <td>67.0</td>\n",
       "      <td>U.S.A.</td>\n",
       "      <td>Trinitario</td>\n",
       "      <td>Madagascar</td>\n",
       "    </tr>\n",
       "    <tr>\n",
       "      <th>4</th>\n",
       "      <td>Potomac</td>\n",
       "      <td>Upala, Batch 12</td>\n",
       "      <td>607</td>\n",
       "      <td>2010</td>\n",
       "      <td>82.0</td>\n",
       "      <td>U.S.A.</td>\n",
       "      <td>Matina</td>\n",
       "      <td>Costa Rica</td>\n",
       "    </tr>\n",
       "  </tbody>\n",
       "</table>\n",
       "</div>"
      ],
      "text/plain": [
       "    Company         Specific Bean Origin   REF  Review  Cocoa Percent  \\\n",
       "0     Ohiyo  San Juan Estate, Gran Couva  1594    2015           70.0   \n",
       "1  Blanxart                 Organic Dark   322    2009           72.0   \n",
       "2    Brazen                Maya Mountain  1518    2015           80.0   \n",
       "3    Patric                   Madagascar   439    2009           67.0   \n",
       "4   Potomac              Upala, Batch 12   607    2010           82.0   \n",
       "\n",
       "  Company Location   Bean Type Broad Bean Origin  \n",
       "0           U.S.A.  Trinitario          Trinidad  \n",
       "1            Spain       Other             Other  \n",
       "2           U.S.A.  Trinitario            Belize  \n",
       "3           U.S.A.  Trinitario        Madagascar  \n",
       "4           U.S.A.      Matina        Costa Rica  "
      ]
     },
     "execution_count": 558,
     "metadata": {},
     "output_type": "execute_result"
    }
   ],
   "source": [
    "test_df_clean.head()"
   ]
  },
  {
   "cell_type": "code",
   "execution_count": 559,
   "id": "6ba72682",
   "metadata": {},
   "outputs": [
    {
     "data": {
      "text/plain": [
       "Company                 244\n",
       "Specific Bean Origin    385\n",
       "REF                     338\n",
       "Review                   12\n",
       "Cocoa Percent            38\n",
       "Company Location         42\n",
       "Bean Type                20\n",
       "Broad Bean Origin        60\n",
       "dtype: int64"
      ]
     },
     "execution_count": 559,
     "metadata": {},
     "output_type": "execute_result"
    }
   ],
   "source": [
    "test_df_clean.nunique()"
   ]
  },
  {
   "cell_type": "code",
   "execution_count": 560,
   "id": "86345aca",
   "metadata": {},
   "outputs": [
    {
     "data": {
      "text/html": [
       "<div>\n",
       "<style scoped>\n",
       "    .dataframe tbody tr th:only-of-type {\n",
       "        vertical-align: middle;\n",
       "    }\n",
       "\n",
       "    .dataframe tbody tr th {\n",
       "        vertical-align: top;\n",
       "    }\n",
       "\n",
       "    .dataframe thead th {\n",
       "        text-align: right;\n",
       "    }\n",
       "</style>\n",
       "<table border=\"1\" class=\"dataframe\">\n",
       "  <thead>\n",
       "    <tr style=\"text-align: right;\">\n",
       "      <th></th>\n",
       "      <th>Company</th>\n",
       "      <th>REF</th>\n",
       "      <th>Cocoa Percent</th>\n",
       "      <th>Company Location</th>\n",
       "      <th>Bean Type</th>\n",
       "      <th>Broad Bean Origin</th>\n",
       "    </tr>\n",
       "  </thead>\n",
       "  <tbody>\n",
       "    <tr>\n",
       "      <th>0</th>\n",
       "      <td>Ohiyo</td>\n",
       "      <td>1594</td>\n",
       "      <td>70.0</td>\n",
       "      <td>U.S.A.</td>\n",
       "      <td>Trinitario</td>\n",
       "      <td>Trinidad</td>\n",
       "    </tr>\n",
       "    <tr>\n",
       "      <th>1</th>\n",
       "      <td>Blanxart</td>\n",
       "      <td>322</td>\n",
       "      <td>72.0</td>\n",
       "      <td>Spain</td>\n",
       "      <td>Other</td>\n",
       "      <td>Other</td>\n",
       "    </tr>\n",
       "    <tr>\n",
       "      <th>2</th>\n",
       "      <td>Brazen</td>\n",
       "      <td>1518</td>\n",
       "      <td>80.0</td>\n",
       "      <td>U.S.A.</td>\n",
       "      <td>Trinitario</td>\n",
       "      <td>Belize</td>\n",
       "    </tr>\n",
       "    <tr>\n",
       "      <th>3</th>\n",
       "      <td>Patric</td>\n",
       "      <td>439</td>\n",
       "      <td>67.0</td>\n",
       "      <td>U.S.A.</td>\n",
       "      <td>Trinitario</td>\n",
       "      <td>Madagascar</td>\n",
       "    </tr>\n",
       "    <tr>\n",
       "      <th>4</th>\n",
       "      <td>Potomac</td>\n",
       "      <td>607</td>\n",
       "      <td>82.0</td>\n",
       "      <td>U.S.A.</td>\n",
       "      <td>Matina</td>\n",
       "      <td>Costa Rica</td>\n",
       "    </tr>\n",
       "  </tbody>\n",
       "</table>\n",
       "</div>"
      ],
      "text/plain": [
       "    Company   REF  Cocoa Percent Company Location   Bean Type  \\\n",
       "0     Ohiyo  1594           70.0           U.S.A.  Trinitario   \n",
       "1  Blanxart   322           72.0            Spain       Other   \n",
       "2    Brazen  1518           80.0           U.S.A.  Trinitario   \n",
       "3    Patric   439           67.0           U.S.A.  Trinitario   \n",
       "4   Potomac   607           82.0           U.S.A.      Matina   \n",
       "\n",
       "  Broad Bean Origin  \n",
       "0          Trinidad  \n",
       "1             Other  \n",
       "2            Belize  \n",
       "3        Madagascar  \n",
       "4        Costa Rica  "
      ]
     },
     "execution_count": 560,
     "metadata": {},
     "output_type": "execute_result"
    }
   ],
   "source": [
    "drop_cols = ['Specific Bean Origin', 'Review']\n",
    "test_df_clean = test_df_clean.drop(drop_cols, axis=1)\n",
    "test_df_clean.head()"
   ]
  },
  {
   "cell_type": "code",
   "execution_count": 561,
   "id": "c3dba434",
   "metadata": {},
   "outputs": [],
   "source": [
    "test_df_clean = test_df_clean.apply(lambda x: x.astype('category') if x.dtype == 'object' else x)"
   ]
  },
  {
   "cell_type": "code",
   "execution_count": null,
   "id": "f0a3fa70",
   "metadata": {},
   "outputs": [],
   "source": [
    "y_pred = hyper_param_model.predict(test_df_clean)\n",
    "lr_pred = p12.predict(test_df_clean)\n",
    "final_pred = 0.7 * y_pred + 0.3 * lr_pred"
   ]
  },
  {
   "cell_type": "code",
   "execution_count": 564,
   "id": "fc3eb16f",
   "metadata": {},
   "outputs": [],
   "source": [
    "cleaned_test_df = pd.DataFrame()\n",
    "cleaned_test_df['id'] = np.arange(len(test_df))\n",
    "cleaned_test_df['Rating'] = final_pred\n",
    "\n",
    "cleaned_test_df[['id','Rating']].to_csv(\"choko_submission7.csv\", index=False)"
   ]
  },
  {
   "cell_type": "code",
   "execution_count": 565,
   "id": "3c6f62ac",
   "metadata": {},
   "outputs": [],
   "source": [
    "cleaned_test_df = pd.DataFrame()\n",
    "cleaned_test_df['id'] = np.arange(len(test_df))\n",
    "cleaned_test_df['Rating'] = final_pred\n",
    "\n",
    "cleaned_test_df[['id','Rating']].to_csv(\"choko_submission7.csv\", index=False)"
   ]
  },
  {
   "cell_type": "code",
   "execution_count": null,
   "id": "f4661ea0",
   "metadata": {},
   "outputs": [],
   "source": []
  },
  {
   "cell_type": "code",
   "execution_count": null,
   "id": "ef95b8b7",
   "metadata": {},
   "outputs": [],
   "source": []
  },
  {
   "cell_type": "code",
   "execution_count": null,
   "id": "f9f41d13",
   "metadata": {},
   "outputs": [],
   "source": []
  }
 ],
 "metadata": {
  "kernelspec": {
   "display_name": "base",
   "language": "python",
   "name": "python3"
  },
  "language_info": {
   "codemirror_mode": {
    "name": "ipython",
    "version": 3
   },
   "file_extension": ".py",
   "mimetype": "text/x-python",
   "name": "python",
   "nbconvert_exporter": "python",
   "pygments_lexer": "ipython3",
   "version": "3.12.3"
  }
 },
 "nbformat": 4,
 "nbformat_minor": 5
}
