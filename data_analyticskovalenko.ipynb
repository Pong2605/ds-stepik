{
 "cells": [
  {
   "cell_type": "code",
   "execution_count": 2,
   "id": "5d2270b8",
   "metadata": {},
   "outputs": [
    {
     "data": {
      "text/html": [
       "<div>\n",
       "<style scoped>\n",
       "    .dataframe tbody tr th:only-of-type {\n",
       "        vertical-align: middle;\n",
       "    }\n",
       "\n",
       "    .dataframe tbody tr th {\n",
       "        vertical-align: top;\n",
       "    }\n",
       "\n",
       "    .dataframe thead th {\n",
       "        text-align: right;\n",
       "    }\n",
       "</style>\n",
       "<table border=\"1\" class=\"dataframe\">\n",
       "  <thead>\n",
       "    <tr style=\"text-align: right;\">\n",
       "      <th></th>\n",
       "      <th>Дата</th>\n",
       "      <th>Наименование товара</th>\n",
       "      <th>Количество</th>\n",
       "      <th>Цена</th>\n",
       "    </tr>\n",
       "  </thead>\n",
       "  <tbody>\n",
       "    <tr>\n",
       "      <th>0</th>\n",
       "      <td>01.01.2024</td>\n",
       "      <td>Плюшевый медведь</td>\n",
       "      <td>12</td>\n",
       "      <td>250</td>\n",
       "    </tr>\n",
       "    <tr>\n",
       "      <th>1</th>\n",
       "      <td>12.01.2024</td>\n",
       "      <td>Конструктор Lego</td>\n",
       "      <td>7</td>\n",
       "      <td>780</td>\n",
       "    </tr>\n",
       "    <tr>\n",
       "      <th>2</th>\n",
       "      <td>21.04.2024</td>\n",
       "      <td>Настольная игра</td>\n",
       "      <td>11</td>\n",
       "      <td>345</td>\n",
       "    </tr>\n",
       "    <tr>\n",
       "      <th>3</th>\n",
       "      <td>13.11.2023</td>\n",
       "      <td>Игровая приставка</td>\n",
       "      <td>3</td>\n",
       "      <td>5200</td>\n",
       "    </tr>\n",
       "  </tbody>\n",
       "</table>\n",
       "</div>"
      ],
      "text/plain": [
       "         Дата Наименование товара  Количество  Цена\n",
       "0  01.01.2024    Плюшевый медведь          12   250\n",
       "1  12.01.2024    Конструктор Lego           7   780\n",
       "2  21.04.2024     Настольная игра          11   345\n",
       "3  13.11.2023   Игровая приставка           3  5200"
      ]
     },
     "execution_count": 2,
     "metadata": {},
     "output_type": "execute_result"
    }
   ],
   "source": [
    "import pandas as pd\n",
    "\n",
    "data = {\n",
    "    'Дата': ['01.01.2024', '12.01.2024', '21.04.2024', '13.11.2023'],\n",
    "    'Наименование товара': ['Плюшевый медведь', 'Конструктор Lego', 'Настольная игра', 'Игровая приставка'],\n",
    "    'Количество': [12, 7, 11, 3],\n",
    "    'Цена': [250, 780, 345, 5200]\n",
    "}\n",
    "\n",
    "df = pd.DataFrame(data=data)\n",
    "df.head()"
   ]
  },
  {
   "cell_type": "code",
   "execution_count": 12,
   "id": "528078b5",
   "metadata": {},
   "outputs": [
    {
     "name": "stdout",
     "output_type": "stream",
     "text": [
      "Общая выручка за квартал : 27855. \n",
      "Наиболее продаваемый товар (по количеству проданных единиц) : Плюшевый медведь.\n"
     ]
    }
   ],
   "source": [
    "revenue = sum(df['Количество'] * df['Цена'])\n",
    "most_popular = df.loc[df['Количество'].idxmax(), 'Наименование товара']\n",
    "\n",
    "print(f'''Общая выручка за квартал : {revenue}. \n",
    "Наиболее продаваемый товар (по количеству проданных единиц) : {most_popular}.''')"
   ]
  },
  {
   "cell_type": "code",
   "execution_count": null,
   "id": "3891e5e8",
   "metadata": {},
   "outputs": [],
   "source": []
  }
 ],
 "metadata": {
  "kernelspec": {
   "display_name": "base",
   "language": "python",
   "name": "python3"
  },
  "language_info": {
   "codemirror_mode": {
    "name": "ipython",
    "version": 3
   },
   "file_extension": ".py",
   "mimetype": "text/x-python",
   "name": "python",
   "nbconvert_exporter": "python",
   "pygments_lexer": "ipython3",
   "version": "3.12.3"
  }
 },
 "nbformat": 4,
 "nbformat_minor": 5
}
