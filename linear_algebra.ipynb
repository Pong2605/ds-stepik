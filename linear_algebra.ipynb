{
 "cells": [
  {
   "cell_type": "markdown",
   "metadata": {},
   "source": [
    "# Импорты"
   ]
  },
  {
   "cell_type": "code",
   "execution_count": 2,
   "metadata": {},
   "outputs": [],
   "source": [
    "import numpy as np\n",
    "import math"
   ]
  },
  {
   "cell_type": "markdown",
   "metadata": {},
   "source": [
    "# 2.2 Линейные операции над матрицами"
   ]
  },
  {
   "cell_type": "code",
   "execution_count": 2,
   "metadata": {},
   "outputs": [
    {
     "data": {
      "text/plain": [
       "6.0"
      ]
     },
     "execution_count": 2,
     "metadata": {},
     "output_type": "execute_result"
    }
   ],
   "source": [
    "A = np.matrix([[-2, 4, 0],\n",
    "               [2, -5, 3],\n",
    "               [2, 0, 6]])\n",
    "\n",
    "B = np.matrix([[-2, -4, 6],\n",
    "               [1, 0, 3],\n",
    "               [1, 2, -5]])\n",
    "\n",
    "C = 1 / 2 * A + 2 * B - np.eye(A.shape[0])\n",
    "np.sum(C)"
   ]
  },
  {
   "cell_type": "markdown",
   "metadata": {},
   "source": [
    "# 2.3 Линейные операции над векторами"
   ]
  },
  {
   "cell_type": "code",
   "execution_count": 3,
   "metadata": {},
   "outputs": [
    {
     "name": "stdout",
     "output_type": "stream",
     "text": [
      "True\n"
     ]
    }
   ],
   "source": [
    "# Проверка коллинеарности\n",
    "\n",
    "# a, b = [np.fromstring(input(), sep=' ', dtype=np.int16) for _ in range(2)]\n",
    "\n",
    "a, b = '1 2 3', '2 4 6'\n",
    "\n",
    "a, b = [np.fromstring(i, sep=' ', dtype=np.int16) for i in [a, b]]\n",
    "\n",
    "print(sum(np.cross(a, b)) == 0)"
   ]
  },
  {
   "cell_type": "code",
   "execution_count": 4,
   "metadata": {},
   "outputs": [
    {
     "name": "stdout",
     "output_type": "stream",
     "text": [
      "3.67 -4.33 1.67\n",
      "4.33 -3.67 1.33\n"
     ]
    }
   ],
   "source": [
    "import numpy as np\n",
    "\n",
    "# Отрезок AB имел координаты: A(3; −5; 2) и B(5; −3; 1). \n",
    "# Тогда нужно было использовать формулу для нахождения точек, \n",
    "# делящих отрезок на заданное отношение (на k = 3).\n",
    "\n",
    "a = np.array([3, -5, 2], dtype=float)\n",
    "b = np.array([5, -3, 1], dtype=float)\n",
    "k = 3\n",
    "\n",
    "step = (b - a) / k\n",
    "print(*np.round(a + step, 2))\n",
    "print(*np.round(a + step * 2, 2))"
   ]
  },
  {
   "cell_type": "markdown",
   "metadata": {},
   "source": [
    "# 2.3 Нелинейные операции над матрицами"
   ]
  },
  {
   "cell_type": "code",
   "execution_count": 5,
   "metadata": {},
   "outputs": [
    {
     "data": {
      "text/plain": [
       "matrix([[2, 7],\n",
       "        [4, 5],\n",
       "        [6, 1]])"
      ]
     },
     "execution_count": 5,
     "metadata": {},
     "output_type": "execute_result"
    }
   ],
   "source": [
    "# Транспонирование\n",
    "\n",
    "A = np.matrix([[2, 4, 6],\n",
    "              [7, 5 ,1]])\n",
    "\n",
    "A.T"
   ]
  },
  {
   "cell_type": "code",
   "execution_count": 6,
   "metadata": {},
   "outputs": [
    {
     "data": {
      "text/plain": [
       "matrix([[-1,  2,  6],\n",
       "        [ 4, 19, 21]])"
      ]
     },
     "execution_count": 6,
     "metadata": {},
     "output_type": "execute_result"
    }
   ],
   "source": [
    "# Умножение матриц\n",
    "\n",
    "A = np.matrix([[1, 0, -1],\n",
    "               [2, 4, 3]])\n",
    "\n",
    "B = np.matrix([[1, 5, 7],\n",
    "               [-1, 0, 1],\n",
    "               [2, 3, 1]])\n",
    "\n",
    "A @ B"
   ]
  },
  {
   "cell_type": "code",
   "execution_count": 7,
   "metadata": {},
   "outputs": [
    {
     "data": {
      "text/plain": [
       "matrix([[3],\n",
       "        [4],\n",
       "        [2]])"
      ]
     },
     "metadata": {},
     "output_type": "display_data"
    },
    {
     "data": {
      "text/plain": [
       "matrix([[ 5, -2,  3]])"
      ]
     },
     "metadata": {},
     "output_type": "display_data"
    },
    {
     "name": "stdout",
     "output_type": "stream",
     "text": [
      "67\n"
     ]
    }
   ],
   "source": [
    "# В ответе запишите сумму всех элементов обеих матриц AB и BA.\n",
    "\n",
    "A = np.matrix([3, 4, 2]).reshape(3, 1)\n",
    "B = np.matrix([5, -2, 3])\n",
    "\n",
    "display(A, B)\n",
    "\n",
    "print(np.sum(A @ B) + np.sum(B @ A))"
   ]
  },
  {
   "cell_type": "markdown",
   "metadata": {},
   "source": [
    "# 2.4 Линейная зависимость векторов. Проекции вектора, базис"
   ]
  },
  {
   "cell_type": "code",
   "execution_count": null,
   "metadata": {},
   "outputs": [],
   "source": []
  },
  {
   "cell_type": "code",
   "execution_count": null,
   "metadata": {},
   "outputs": [],
   "source": []
  },
  {
   "cell_type": "code",
   "execution_count": null,
   "metadata": {},
   "outputs": [],
   "source": []
  },
  {
   "cell_type": "markdown",
   "metadata": {},
   "source": [
    "# 2.4  Определители"
   ]
  },
  {
   "cell_type": "code",
   "execution_count": 8,
   "metadata": {},
   "outputs": [
    {
     "data": {
      "text/plain": [
       "matrix([[2, 1, 1],\n",
       "        [2, 2, 3],\n",
       "        [2, 2, 1]])"
      ]
     },
     "metadata": {},
     "output_type": "display_data"
    },
    {
     "data": {
      "text/plain": [
       "matrix([[2, 2, 3],\n",
       "        [2, 1, 1],\n",
       "        [2, 2, 1]])"
      ]
     },
     "metadata": {},
     "output_type": "display_data"
    },
    {
     "name": "stdout",
     "output_type": "stream",
     "text": [
      "-4.0\n",
      "4.0\n"
     ]
    },
    {
     "data": {
      "text/plain": [
       "matrix([[6, 2, 3],\n",
       "        [6, 1, 1],\n",
       "        [6, 2, 1]])"
      ]
     },
     "metadata": {},
     "output_type": "display_data"
    },
    {
     "name": "stdout",
     "output_type": "stream",
     "text": [
      "12.0\n"
     ]
    },
    {
     "data": {
      "text/plain": [
       "matrix([[2, 6, 3],\n",
       "        [1, 6, 1],\n",
       "        [2, 6, 1]])"
      ]
     },
     "metadata": {},
     "output_type": "display_data"
    },
    {
     "name": "stdout",
     "output_type": "stream",
     "text": [
      "-12.0\n"
     ]
    }
   ],
   "source": [
    "# Что будет, если сначала в определителе порядка n поменять местами две строки, \n",
    "# потом умножить первый столбец на 3 и поменять его местами со вторым столбцом?\n",
    "\n",
    "A = np.matrix([[2, 1, 1],\n",
    "               [2, 2, 3],\n",
    "               [2, 2, 1]])\n",
    "\n",
    "\n",
    "\n",
    "B = A.copy()\n",
    "B[[0, 1], :] = B[[1, 0], :] # если поменять местами две строки или два столбца, то определитель изменит знак\n",
    "\n",
    "display(A, B)\n",
    "print(np.linalg.det(A))\n",
    "print(np.linalg.det(B))\n",
    "\n",
    "B[:, 0] *= 3 # если умножить столбец или строку на число n, то определитель увеличится в n раз\n",
    "display(B)\n",
    "print(np.linalg.det(B))\n",
    "\n",
    "B[:, [0, 1]] = B[:, [1, 0]]\n",
    "display(B)\n",
    "print(np.linalg.det(B))\n",
    "\n",
    "# Значение определителя увеличится в 3 раз"
   ]
  },
  {
   "cell_type": "code",
   "execution_count": 9,
   "metadata": {},
   "outputs": [
    {
     "name": "stdout",
     "output_type": "stream",
     "text": [
      "0.0\n"
     ]
    }
   ],
   "source": [
    "# Линейная зависимость двух строк или двух столбцов = определитель равен 0\n",
    "\n",
    "A = np.matrix([[2, 3, 4],\n",
    "               [8, 12, 16],\n",
    "               [56, 2, 21]])\n",
    "\n",
    "# Первая и вторая строка линейно зависимы\n",
    "\n",
    "print(np.round(np.linalg.det(A)))"
   ]
  },
  {
   "cell_type": "code",
   "execution_count": 10,
   "metadata": {},
   "outputs": [
    {
     "name": "stdout",
     "output_type": "stream",
     "text": [
      "0.0\n"
     ]
    }
   ],
   "source": [
    "# Найти x, при которых определитель будет равен 0\n",
    "\n",
    "x = -6\n",
    "\n",
    "A = np.matrix([[5, -3, x],\n",
    "               [1, 1, -2],\n",
    "               [2, x+2, -1]])\n",
    "\n",
    "\n",
    "print(np.round(np.linalg.det(A)))"
   ]
  },
  {
   "cell_type": "code",
   "execution_count": 11,
   "metadata": {},
   "outputs": [
    {
     "name": "stdout",
     "output_type": "stream",
     "text": [
      "x**2 + 10*x + 24\n",
      "[-6, -4]\n"
     ]
    }
   ],
   "source": [
    "from sympy import symbols, Symbol, solve, simplify, Matrix\n",
    "\n",
    "x = Symbol('x')\n",
    "\n",
    "expr = 5 * 1 * (-1) + (-3) * (-2) * 2 + x * 1 * (x+2) - (x * 1 * 2 + 1 * (-3) * (-1) + (x+2) * (-2) * 5)\n",
    "\n",
    "simplify_expr = simplify(expr)\n",
    "print(simplify_expr)\n",
    "\n",
    "result = solve(simplify_expr)\n",
    "print(result)"
   ]
  },
  {
   "cell_type": "code",
   "execution_count": 12,
   "metadata": {},
   "outputs": [
    {
     "name": "stdout",
     "output_type": "stream",
     "text": [
      "[-6, -4]\n"
     ]
    }
   ],
   "source": [
    "x = Symbol('x')\n",
    "A = Matrix([[5, -3, x],\n",
    "            [1, 1, -2],\n",
    "            [2, x+2, -1]])\n",
    "det = A.det()\n",
    "\n",
    "print(solve(det))"
   ]
  },
  {
   "cell_type": "code",
   "execution_count": 13,
   "metadata": {},
   "outputs": [
    {
     "name": "stdout",
     "output_type": "stream",
     "text": [
      "0\n",
      "0\n"
     ]
    }
   ],
   "source": [
    "print(expr.subs({x: -4}))\n",
    "print(expr.subs({x: -6}))"
   ]
  },
  {
   "cell_type": "markdown",
   "metadata": {},
   "source": [
    "# 2.5 Обратная матрица"
   ]
  },
  {
   "cell_type": "code",
   "execution_count": 14,
   "metadata": {},
   "outputs": [],
   "source": [
    "# A^(-1) * A == A * A^(-1) = E"
   ]
  },
  {
   "cell_type": "code",
   "execution_count": 15,
   "metadata": {},
   "outputs": [
    {
     "name": "stdout",
     "output_type": "stream",
     "text": [
      "1.0\n"
     ]
    },
    {
     "data": {
      "text/plain": [
       "array([[ 2., -5.],\n",
       "       [-1.,  3.]])"
      ]
     },
     "execution_count": 15,
     "metadata": {},
     "output_type": "execute_result"
    }
   ],
   "source": [
    "# Обратная матрица\n",
    "\n",
    "A = np.matrix([[3, 5],\n",
    "               [1, 2]])\n",
    "\n",
    "print(np.round(np.linalg.det(A)))\n",
    "\n",
    "E = np.eye(A.shape[0])\n",
    "\n",
    "\n",
    "\n",
    "A_inv = np.linalg.solve(A, E)\n",
    "A_inv"
   ]
  },
  {
   "cell_type": "code",
   "execution_count": 16,
   "metadata": {},
   "outputs": [
    {
     "name": "stdout",
     "output_type": "stream",
     "text": [
      "3.0\n"
     ]
    },
    {
     "data": {
      "text/plain": [
       "array([[-3.33333333, -3.        ,  4.66666667],\n",
       "       [ 4.33333333,  4.        , -5.66666667],\n",
       "       [-1.33333333, -1.        ,  1.66666667]])"
      ]
     },
     "execution_count": 16,
     "metadata": {},
     "output_type": "execute_result"
    }
   ],
   "source": [
    "# Обратная матрица\n",
    "\n",
    "A = np.matrix([[3, 1, -5],\n",
    "               [1, 2, 4],\n",
    "               [3, 2, -1]])\n",
    "\n",
    "print(np.round(np.linalg.det(A)))\n",
    "\n",
    "E = np.eye(A.shape[0])\n",
    "\n",
    "A_inv = np.linalg.solve(A, E)\n",
    "A_inv"
   ]
  },
  {
   "cell_type": "code",
   "execution_count": 17,
   "metadata": {},
   "outputs": [
    {
     "data": {
      "text/plain": [
       "matrix([[-13., -16.],\n",
       "        [  8.,  10.]])"
      ]
     },
     "execution_count": 17,
     "metadata": {},
     "output_type": "execute_result"
    }
   ],
   "source": [
    "# Найти X\n",
    "# A * X = Y\n",
    "\n",
    "A = np.matrix([[3, 5],\n",
    "               [1, 2]])\n",
    "\n",
    "Y = np.matrix([[1, 2],\n",
    "               [3, 4]])\n",
    "\n",
    "X = np.linalg.solve(A, Y)\n",
    "X"
   ]
  },
  {
   "cell_type": "code",
   "execution_count": 18,
   "metadata": {},
   "outputs": [
    {
     "data": {
      "text/plain": [
       "array([[ 2., -5.],\n",
       "       [-1.,  3.]])"
      ]
     },
     "metadata": {},
     "output_type": "display_data"
    },
    {
     "data": {
      "text/plain": [
       "matrix([[-13., -16.],\n",
       "        [  8.,  10.]])"
      ]
     },
     "execution_count": 18,
     "metadata": {},
     "output_type": "execute_result"
    }
   ],
   "source": [
    "E = np.eye(A.shape[0])\n",
    "A_inv = np.linalg.solve(A, E)\n",
    "display(A_inv)\n",
    "\n",
    "X = A_inv @ Y\n",
    "X"
   ]
  },
  {
   "cell_type": "code",
   "execution_count": 19,
   "metadata": {},
   "outputs": [
    {
     "data": {
      "text/plain": [
       "array([[-0.46666667,  0.2       , -0.86666667,  2.73333333],\n",
       "       [-0.86666667, -0.2       ,  0.53333333, -1.06666667],\n",
       "       [ 1.2       ,  0.2       , -0.2       ,  0.4       ],\n",
       "       [-0.2       , -0.2       ,  0.2       , -0.4       ]])"
      ]
     },
     "metadata": {},
     "output_type": "display_data"
    },
    {
     "data": {
      "text/plain": [
       "0.2"
      ]
     },
     "execution_count": 19,
     "metadata": {},
     "output_type": "execute_result"
    }
   ],
   "source": [
    "# Найти элемент, расположенный в третьей строке и втором столбце обратной матрицы к матрице A\n",
    "\n",
    "A = np.array([[0,0,1,1], [0,3,1,-7],[2,7,6,1],[1,2,2,1]])\n",
    "E = np.eye(A.shape[0])\n",
    "\n",
    "A_inv = np.linalg.solve(A, E)\n",
    "display(A_inv)\n",
    "\n",
    "A_inv[2, 1]"
   ]
  },
  {
   "cell_type": "code",
   "execution_count": 20,
   "metadata": {},
   "outputs": [
    {
     "data": {
      "text/plain": [
       "array([[-0.46666667,  0.2       , -0.86666667,  2.73333333],\n",
       "       [-0.86666667, -0.2       ,  0.53333333, -1.06666667],\n",
       "       [ 1.2       ,  0.2       , -0.2       ,  0.4       ],\n",
       "       [-0.2       , -0.2       ,  0.2       , -0.4       ]])"
      ]
     },
     "metadata": {},
     "output_type": "display_data"
    },
    {
     "data": {
      "text/plain": [
       "0.2"
      ]
     },
     "execution_count": 20,
     "metadata": {},
     "output_type": "execute_result"
    }
   ],
   "source": [
    "A = np.array([[0,0,1,1], [0,3,1,-7],[2,7,6,1],[1,2,2,1]]) \n",
    "A_inv = np.linalg.inv(A)\n",
    "display(A_inv)\n",
    "\n",
    "A_inv[2, 1]"
   ]
  },
  {
   "cell_type": "code",
   "execution_count": 21,
   "metadata": {},
   "outputs": [
    {
     "data": {
      "text/plain": [
       "array([[1., 2.],\n",
       "       [3., 4.]])"
      ]
     },
     "metadata": {},
     "output_type": "display_data"
    },
    {
     "name": "stdout",
     "output_type": "stream",
     "text": [
      "10.0\n"
     ]
    }
   ],
   "source": [
    "# Решить матричное уравнение\n",
    "# В ответе укажите сумму элементов матрицы-решения.\n",
    "# A*X*B=Y\n",
    "\n",
    "# A*X* * B*B_inv = Y*B_inv\n",
    "# A * X * E = Y_2\n",
    "\n",
    "# A * X = Y_2\n",
    "# A_inv * A * X = A_inv * Y_2\n",
    "# E * X = A_inv * Y_2\n",
    "# X = A_inv * Y_2\n",
    "\n",
    "A = np.array([[3, -1], \n",
    "              [5, -2]]) \n",
    "\n",
    "B = np.array([[5, 6], \n",
    "              [7, 8]])\n",
    "\n",
    "Y = np.array([[14, 16], \n",
    "              [9, 10]])\n",
    "\n",
    "# B_inv = np.linalg.solve(B, np.eye(B.shape[0]))\n",
    "B_inv = np.linalg.inv(B)\n",
    "\n",
    "Y_2 = Y @ B_inv\n",
    "\n",
    "X = np.round(np.linalg.solve(A, Y_2))\n",
    "display(X)\n",
    "\n",
    "print(np.sum(X))"
   ]
  },
  {
   "cell_type": "code",
   "execution_count": 22,
   "metadata": {},
   "outputs": [
    {
     "name": "stdout",
     "output_type": "stream",
     "text": [
      "10.000000000000018\n"
     ]
    }
   ],
   "source": [
    "a = np.array([[3,-1], [5,-2]]) \n",
    "b = np.array([[14,16], [9,10]]) \n",
    "c = np.array([[5,6], [7,8]]) \n",
    "c_inv = np.linalg.inv(c)\n",
    "b = np.dot(b, c_inv)\n",
    "\n",
    "# A*x=B\n",
    "a_inv = np.linalg.inv(a)\n",
    "x = np.dot(a_inv, b)\n",
    "\n",
    "print(x.sum())"
   ]
  },
  {
   "cell_type": "code",
   "execution_count": 23,
   "metadata": {},
   "outputs": [
    {
     "data": {
      "text/plain": [
       "3"
      ]
     },
     "execution_count": 23,
     "metadata": {},
     "output_type": "execute_result"
    }
   ],
   "source": [
    "# Найти ранг матрицы\n",
    "\n",
    "A = np.array([[1, 1, 2, 3, -1], \n",
    "              [2, -1, 0, -4, -5], \n",
    "              [-1, -1, 0, -3, -2], \n",
    "              [6, 3, 4, 8, -3]]) \n",
    "\n",
    "rank = np.linalg.matrix_rank(A) \n",
    "rank"
   ]
  },
  {
   "cell_type": "markdown",
   "metadata": {},
   "source": [
    "# 2.6 Задачи"
   ]
  },
  {
   "cell_type": "code",
   "execution_count": 24,
   "metadata": {},
   "outputs": [],
   "source": [
    "# Исходные данные\n",
    "\n",
    "A = np.matrix([[1,2,3], \n",
    "              [4,2,1], \n",
    "              [1,0,1]])\n",
    "\n",
    "B = np.matrix([[1,2,1], \n",
    "              [1,-1,2], \n",
    "              [1,2,1]])\n",
    "\n",
    "C = np.matrix([[2,2], \n",
    "               [1,4]]) \n",
    "\n",
    "D = np.matrix([[3,1],\n",
    "               [2,1],\n",
    "               [-1,2]])\n",
    "\n",
    "G = np.matrix([[1,1,2,3],\n",
    "               [4,2,1,3],\n",
    "               [2,1,2,3],\n",
    "               [1,2,5,4]])"
   ]
  },
  {
   "cell_type": "code",
   "execution_count": 25,
   "metadata": {},
   "outputs": [
    {
     "data": {
      "text/plain": [
       "matrix([[ -6,  -6],\n",
       "        [ -3, -12]])"
      ]
     },
     "metadata": {},
     "output_type": "display_data"
    },
    {
     "data": {
      "text/plain": [
       "-27"
      ]
     },
     "execution_count": 25,
     "metadata": {},
     "output_type": "execute_result"
    }
   ],
   "source": [
    "# 1. Найти -ЗС.\n",
    "# Укажите сумму элементов полученной матрицы.\n",
    "\n",
    "\n",
    "Q = -3 * C\n",
    "display(Q)\n",
    "\n",
    "np.sum(Q)"
   ]
  },
  {
   "cell_type": "code",
   "execution_count": 26,
   "metadata": {},
   "outputs": [
    {
     "data": {
      "text/plain": [
       "matrix([[-2.,  2., -1.],\n",
       "        [-2., -7.,  3.],\n",
       "        [ 1.,  4., -2.]])"
      ]
     },
     "metadata": {},
     "output_type": "display_data"
    },
    {
     "data": {
      "text/plain": [
       "-11.0"
      ]
     },
     "execution_count": 26,
     "metadata": {},
     "output_type": "execute_result"
    }
   ],
   "source": [
    "# 2. Найти -A + 2B - 3Е.\n",
    "# Укажите сумму элементов главной диагонали полученной матрицы.\n",
    "\n",
    "# E = np.identity(B.shape[0])\n",
    "\n",
    "Q = -A + 2 * B - 3 * np.eye(B.shape[0])\n",
    "display(Q)\n",
    "\n",
    "np.trace(Q)"
   ]
  },
  {
   "cell_type": "code",
   "execution_count": 27,
   "metadata": {},
   "outputs": [
    {
     "name": "stdout",
     "output_type": "stream",
     "text": [
      "A * B = True\n",
      "A * C = False\n",
      "A * D = True\n",
      "A * G = False\n",
      "B * A = True\n",
      "B * C = False\n",
      "B * D = True\n",
      "B * G = False\n",
      "C * A = False\n",
      "C * B = False\n",
      "C * D = False\n",
      "C * G = False\n",
      "D * A = False\n",
      "D * B = False\n",
      "D * C = True\n",
      "D * G = False\n",
      "G * A = False\n",
      "G * B = False\n",
      "G * C = False\n",
      "G * D = False\n",
      "\n",
      "A * B = True\n",
      "A * D = True\n",
      "B * A = True\n",
      "B * D = True\n",
      "D * C = True\n"
     ]
    }
   ],
   "source": [
    "# 3. Найти все возможные парные произведения матриц: A, B, С, D, G.\n",
    "\n",
    "lst = [A, B, C, D, G]\n",
    "\n",
    "d = {k: v for k, v in zip(range(len(lst)), 'A, B, C, D, G'.split(', '))}\n",
    "\n",
    "for i in range(len(lst)):\n",
    "    for j in range(len(lst)):\n",
    "        if i != j:\n",
    "            print(d[i], '*' ,d[j], '=',  lst[i].shape[1] == lst[j].shape[0])\n",
    "\n",
    "print()\n",
    "\n",
    "for i in range(len(lst)):\n",
    "    for j in range(len(lst)):\n",
    "        if i != j and lst[i].shape[1] == lst[j].shape[0]:\n",
    "            print(d[i], '*' ,d[j], '=',  lst[i].shape[1] == lst[j].shape[0])"
   ]
  },
  {
   "cell_type": "code",
   "execution_count": 28,
   "metadata": {},
   "outputs": [
    {
     "data": {
      "text/plain": [
       "matrix([[6, 6, 8],\n",
       "        [7, 8, 9],\n",
       "        [2, 4, 2]])"
      ]
     },
     "metadata": {},
     "output_type": "display_data"
    },
    {
     "data": {
      "text/plain": [
       "matrix([[ 4,  9],\n",
       "        [15,  8],\n",
       "        [ 2,  3]])"
      ]
     },
     "metadata": {},
     "output_type": "display_data"
    },
    {
     "data": {
      "text/plain": [
       "matrix([[10,  6,  6],\n",
       "        [-1,  0,  4],\n",
       "        [10,  6,  6]])"
      ]
     },
     "metadata": {},
     "output_type": "display_data"
    },
    {
     "data": {
      "text/plain": [
       "matrix([[ 6,  5],\n",
       "        [-1,  4],\n",
       "        [ 6,  5]])"
      ]
     },
     "metadata": {},
     "output_type": "display_data"
    },
    {
     "data": {
      "text/plain": [
       "matrix([[ 7, 10],\n",
       "        [ 5,  8],\n",
       "        [ 0,  6]])"
      ]
     },
     "metadata": {},
     "output_type": "display_data"
    },
    {
     "name": "stdout",
     "output_type": "stream",
     "text": [
      "[6, 9, 6, 5, 10]\n"
     ]
    },
    {
     "data": {
      "text/plain": [
       "36"
      ]
     },
     "execution_count": 28,
     "metadata": {},
     "output_type": "execute_result"
    }
   ],
   "source": [
    "# Укажите сумму элементов, стоящих в первой строке и втором столбце, всех результирующих матриц, \n",
    "# полученных в результате парных произведений исходных матриц, которые существуют.\n",
    "\n",
    "lst = [A, B, C, D, G]\n",
    "total_arr = []\n",
    "\n",
    "for i in range(len(lst)):\n",
    "    for j in range(len(lst)):\n",
    "        if i != j and lst[i].shape[1] == lst[j].shape[0]:\n",
    "            Q = np.dot(lst[i], lst[j])\n",
    "            display(Q)\n",
    "            total_arr.append(Q[0, 1])\n",
    "\n",
    "print(total_arr)\n",
    "sum(total_arr)"
   ]
  },
  {
   "cell_type": "code",
   "execution_count": 29,
   "metadata": {},
   "outputs": [
    {
     "data": {
      "text/plain": [
       "matrix([[1, 4, 1],\n",
       "        [2, 2, 0],\n",
       "        [3, 1, 1]])"
      ]
     },
     "metadata": {},
     "output_type": "display_data"
    },
    {
     "data": {
      "text/plain": [
       "2"
      ]
     },
     "execution_count": 29,
     "metadata": {},
     "output_type": "execute_result"
    }
   ],
   "source": [
    "# 4. Найти А_T.\n",
    "# Укажите элемент результирующей матрицы, стоящий во второй строке и первом столбце.\n",
    "\n",
    "A_T = np.transpose(A)\n",
    "display(A_T)\n",
    "\n",
    "A_T[1, 0]"
   ]
  },
  {
   "cell_type": "code",
   "execution_count": 30,
   "metadata": {},
   "outputs": [
    {
     "data": {
      "text/plain": [
       "matrix([[1, 4, 2, 1],\n",
       "        [1, 2, 1, 2],\n",
       "        [2, 1, 2, 5],\n",
       "        [3, 3, 3, 4]])"
      ]
     },
     "metadata": {},
     "output_type": "display_data"
    },
    {
     "data": {
      "text/plain": [
       "1"
      ]
     },
     "execution_count": 30,
     "metadata": {},
     "output_type": "execute_result"
    }
   ],
   "source": [
    "# 5. Найти D_T.\n",
    "# Укажите элемент результирующей матрицы, стоящий во второй строке и первом столбце.\n",
    "\n",
    "G_T = np.transpose(G)\n",
    "display(G_T)\n",
    "\n",
    "G_T[1, 0]"
   ]
  },
  {
   "cell_type": "code",
   "execution_count": 31,
   "metadata": {},
   "outputs": [
    {
     "name": "stdout",
     "output_type": "stream",
     "text": [
      "6.0\n",
      "-10.0\n",
      "9.0\n"
     ]
    }
   ],
   "source": [
    "# 6. Найти det С.\n",
    "# 7. Найти det А.\n",
    "# 8. Найти det G\n",
    "\n",
    "for i in [C, A, G]:\n",
    "    print(np.round(np.linalg.det(i)))"
   ]
  },
  {
   "cell_type": "code",
   "execution_count": 32,
   "metadata": {},
   "outputs": [
    {
     "data": {
      "text/plain": [
       "matrix([[-0.2,  0.2,  0.4],\n",
       "        [ 0.3,  0.2, -1.1],\n",
       "        [ 0.2, -0.2,  0.6]])"
      ]
     },
     "metadata": {},
     "output_type": "display_data"
    },
    {
     "data": {
      "text/plain": [
       "array([[-0.2,  0.2,  0.4],\n",
       "       [ 0.3,  0.2, -1.1],\n",
       "       [ 0.2, -0.2,  0.6]])"
      ]
     },
     "metadata": {},
     "output_type": "display_data"
    },
    {
     "data": {
      "text/plain": [
       "0.4"
      ]
     },
     "execution_count": 32,
     "metadata": {},
     "output_type": "execute_result"
    }
   ],
   "source": [
    "# 9. Найти А_inv.\n",
    "# Укажите сумму элементов полученной матрицы\n",
    "A_inv = np.linalg.inv(A)\n",
    "display(A_inv)\n",
    "\n",
    "A_inv = np.linalg.solve(A, np.identity(A.shape[0]))\n",
    "display(A_inv)\n",
    "\n",
    "np.sum(A_inv)"
   ]
  },
  {
   "cell_type": "code",
   "execution_count": 33,
   "metadata": {},
   "outputs": [
    {
     "data": {
      "text/plain": [
       "matrix([[ 1.00000000e+00,  5.55111512e-17, -2.22044605e-16],\n",
       "        [-5.55111512e-17,  1.00000000e+00,  0.00000000e+00],\n",
       "        [ 0.00000000e+00, -5.55111512e-17,  1.00000000e+00]])"
      ]
     },
     "metadata": {},
     "output_type": "display_data"
    },
    {
     "data": {
      "text/plain": [
       "3.0"
      ]
     },
     "execution_count": 33,
     "metadata": {},
     "output_type": "execute_result"
    }
   ],
   "source": [
    "# 10. Найти A @ А_inv непосредственным перемножением матриц.\n",
    "# Укажите сумму элементов полученной матрицы\n",
    "Q = A @ A_inv\n",
    "display(Q)\n",
    "\n",
    "np.sum(Q)"
   ]
  },
  {
   "cell_type": "markdown",
   "metadata": {},
   "source": [
    "# 3 Системы линейных алгебраических уравнений (СЛАУ)"
   ]
  },
  {
   "cell_type": "code",
   "execution_count": 34,
   "metadata": {},
   "outputs": [
    {
     "data": {
      "text/plain": [
       "matrix([[2, 2, 1],\n",
       "        [3, 3, 1]])"
      ]
     },
     "execution_count": 34,
     "metadata": {},
     "output_type": "execute_result"
    }
   ],
   "source": [
    "# Добавление столбца в матрицу\n",
    "\n",
    "A = np.matrix([[2, 2],\n",
    "               [3, 3]])\n",
    "\n",
    "B = np.matrix([[1],\n",
    "               [1]])\n",
    "\n",
    "np.c_[A, B]"
   ]
  },
  {
   "cell_type": "code",
   "execution_count": 35,
   "metadata": {},
   "outputs": [
    {
     "data": {
      "text/plain": [
       "2"
      ]
     },
     "execution_count": 35,
     "metadata": {},
     "output_type": "execute_result"
    }
   ],
   "source": [
    "# Сколько решений системы с тремя неизвестными?\n",
    "\n",
    "A = np.matrix([[2, 3, -1],\n",
    "               [1, 1, 1]])\n",
    "\n",
    "np.linalg.matrix_rank(A)\n",
    "\n",
    "# Бесконечное множество, так как ранг матрица не равен числу неизвестных"
   ]
  },
  {
   "cell_type": "code",
   "execution_count": 36,
   "metadata": {},
   "outputs": [
    {
     "data": {
      "text/plain": [
       "array([ 1., -1.,  2.])"
      ]
     },
     "execution_count": 36,
     "metadata": {},
     "output_type": "execute_result"
    }
   ],
   "source": [
    "# Решить систему линейных алгебраических уравнений\n",
    "\n",
    "\n",
    "A = np.array([[4, 2, -1], \n",
    "              [1, 2, 1], \n",
    "              [0, 1, -1]])\n",
    "\n",
    "B = np.array([0, 1, -3])\n",
    "np.linalg.solve(A, B)"
   ]
  },
  {
   "cell_type": "code",
   "execution_count": 37,
   "metadata": {},
   "outputs": [
    {
     "name": "stdout",
     "output_type": "stream",
     "text": [
      "[1.02081592e+17 5.10407958e+16]\n"
     ]
    }
   ],
   "source": [
    "# Решить систему линейных алгебраических уравнений\n",
    "\n",
    "A = np.array([[3, -6], \n",
    "              [1, -2]])\n",
    "\n",
    "B = np.array([5, -4])\n",
    "\n",
    "try:\n",
    "    print(np.linalg.solve(A, B))\n",
    "except np.linalg.LinAlgError as ex:\n",
    "    print(ex)"
   ]
  },
  {
   "cell_type": "code",
   "execution_count": 38,
   "metadata": {},
   "outputs": [
    {
     "name": "stdout",
     "output_type": "stream",
     "text": [
      "[]\n"
     ]
    }
   ],
   "source": [
    "import sympy as sp\n",
    "\n",
    "x, y = sp.symbols('x y')\n",
    "\n",
    "equations = [\n",
    "    sp.Eq(3 * x - 6*y,  5),\n",
    "    sp.Eq(    x - 2*y, -4)\n",
    "    ]\n",
    "\n",
    "print(sp.solve(equations))"
   ]
  },
  {
   "cell_type": "code",
   "execution_count": 39,
   "metadata": {},
   "outputs": [
    {
     "name": "stdout",
     "output_type": "stream",
     "text": [
      "-2.0\n"
     ]
    }
   ],
   "source": [
    "# Решить СЛАУ\n",
    "\n",
    "A = np.array([[2, 3, 11,5], \n",
    "              [0, 0, 2, -2], \n",
    "              [3, 3, 9, 5], \n",
    "              [2,1,3,2]]) \n",
    "\n",
    "b = np.array([2, 4, -2,-3]) \n",
    "\n",
    "print(sum(np.linalg.solve(A, b)))"
   ]
  },
  {
   "cell_type": "code",
   "execution_count": 40,
   "metadata": {},
   "outputs": [
    {
     "name": "stdout",
     "output_type": "stream",
     "text": [
      "-4.0\n"
     ]
    }
   ],
   "source": [
    "A = np.array([[1, 4, -1], [0, 5, 4], [3, -2, 5]]) \n",
    "b = np.array([6, -20, -22]) \n",
    "print(sum(np.linalg.solve(A, b)))"
   ]
  },
  {
   "cell_type": "code",
   "execution_count": 41,
   "metadata": {},
   "outputs": [
    {
     "name": "stdout",
     "output_type": "stream",
     "text": [
      "2\n",
      "3\n"
     ]
    }
   ],
   "source": [
    "A = np.array([[4, -9, 5], [7, -4, 1], [3, 5, -4]]) \n",
    "b = np.array([1, 11, 5])\n",
    "\n",
    "print(np.linalg.matrix_rank(A))\n",
    "print(np.linalg.matrix_rank(np.c_[A, b]))"
   ]
  },
  {
   "cell_type": "code",
   "execution_count": 42,
   "metadata": {},
   "outputs": [
    {
     "name": "stdout",
     "output_type": "stream",
     "text": [
      "3\n",
      "3\n",
      "0.0\n"
     ]
    }
   ],
   "source": [
    "A = np.array([[1, 7, -3], [3, -5, 1], [1, 4, -2]]) \n",
    "b = np.array([0, 0, 0])\n",
    "\n",
    "print(np.linalg.matrix_rank(A))\n",
    "print(np.linalg.matrix_rank(np.c_[A, b]))\n",
    "\n",
    "print(sum(np.linalg.solve(A, b)))"
   ]
  },
  {
   "cell_type": "code",
   "execution_count": 43,
   "metadata": {},
   "outputs": [
    {
     "name": "stdout",
     "output_type": "stream",
     "text": [
      "2\n",
      "2\n",
      "Singular matrix\n"
     ]
    }
   ],
   "source": [
    "A = np.array([[3, -2, 1], [3, 3, -5], [6, 1, -4]]) \n",
    "b = np.array([0, 0, 0])\n",
    "\n",
    "print(np.linalg.matrix_rank(A))\n",
    "print(np.linalg.matrix_rank(np.c_[A, b]))\n",
    "\n",
    "try:\n",
    "    print(sum(np.linalg.solve(A, b)))\n",
    "\n",
    "except np.linalg.LinAlgError as ex:\n",
    "    print(ex)\n",
    "    \n",
    "# СЛАУ имеет бесконечное множество решений"
   ]
  },
  {
   "cell_type": "code",
   "execution_count": 3,
   "metadata": {},
   "outputs": [
    {
     "name": "stdout",
     "output_type": "stream",
     "text": [
      "3\n",
      "Last 2 dimensions of the array must be square\n"
     ]
    }
   ],
   "source": [
    "A = np.array([[-1,0,-1,-2,2],\n",
    "              [2,-1,1,-2,2],\n",
    "              [1,-2,0,-1,-1]])\n",
    "b = np.array([2,1,2,1,1])\n",
    "\n",
    "print(np.linalg.matrix_rank(A))\n",
    "# print(np.linalg.matrix_rank(np.c_[A, b]))\n",
    "\n",
    "try:\n",
    "    print(sum(np.linalg.solve(A, b)))\n",
    "\n",
    "except np.linalg.LinAlgError as ex:\n",
    "    print(ex)"
   ]
  },
  {
   "cell_type": "code",
   "execution_count": null,
   "metadata": {},
   "outputs": [],
   "source": []
  },
  {
   "cell_type": "markdown",
   "metadata": {},
   "source": [
    "# Tail"
   ]
  },
  {
   "cell_type": "code",
   "execution_count": 2,
   "metadata": {},
   "outputs": [
    {
     "data": {
      "text/plain": [
       "[-2, -1, 1, 2]"
      ]
     },
     "execution_count": 2,
     "metadata": {},
     "output_type": "execute_result"
    }
   ],
   "source": [
    "non_zero = filter(None, [-2, -1, 0, 1, 2])\n",
    "list(non_zero)"
   ]
  },
  {
   "cell_type": "code",
   "execution_count": null,
   "metadata": {},
   "outputs": [],
   "source": []
  },
  {
   "cell_type": "code",
   "execution_count": null,
   "metadata": {},
   "outputs": [],
   "source": []
  },
  {
   "cell_type": "code",
   "execution_count": null,
   "metadata": {},
   "outputs": [],
   "source": []
  },
  {
   "cell_type": "code",
   "execution_count": null,
   "metadata": {},
   "outputs": [],
   "source": []
  },
  {
   "cell_type": "code",
   "execution_count": null,
   "metadata": {},
   "outputs": [],
   "source": []
  },
  {
   "cell_type": "code",
   "execution_count": null,
   "metadata": {},
   "outputs": [],
   "source": []
  },
  {
   "cell_type": "code",
   "execution_count": null,
   "metadata": {},
   "outputs": [],
   "source": []
  }
 ],
 "metadata": {
  "kernelspec": {
   "display_name": "ml",
   "language": "python",
   "name": "python3"
  },
  "language_info": {
   "codemirror_mode": {
    "name": "ipython",
    "version": 3
   },
   "file_extension": ".py",
   "mimetype": "text/x-python",
   "name": "python",
   "nbconvert_exporter": "python",
   "pygments_lexer": "ipython3",
   "version": "3.12.3"
  }
 },
 "nbformat": 4,
 "nbformat_minor": 2
}
