{
 "cells": [
  {
   "cell_type": "code",
   "execution_count": 26,
   "id": "f76f3272",
   "metadata": {},
   "outputs": [],
   "source": [
    "import pandas as pd\n",
    "import numpy as np\n",
    "from matplotlib import pyplot as plt\n",
    "import seaborn as sns\n",
    "from scipy import stats as sts"
   ]
  },
  {
   "cell_type": "code",
   "execution_count": 2,
   "id": "235204f3",
   "metadata": {},
   "outputs": [
    {
     "data": {
      "text/html": [
       "<div>\n",
       "<style scoped>\n",
       "    .dataframe tbody tr th:only-of-type {\n",
       "        vertical-align: middle;\n",
       "    }\n",
       "\n",
       "    .dataframe tbody tr th {\n",
       "        vertical-align: top;\n",
       "    }\n",
       "\n",
       "    .dataframe thead th {\n",
       "        text-align: right;\n",
       "    }\n",
       "</style>\n",
       "<table border=\"1\" class=\"dataframe\">\n",
       "  <thead>\n",
       "    <tr style=\"text-align: right;\">\n",
       "      <th></th>\n",
       "      <th>class1</th>\n",
       "      <th>class2</th>\n",
       "    </tr>\n",
       "  </thead>\n",
       "  <tbody>\n",
       "    <tr>\n",
       "      <th>min</th>\n",
       "      <td>30.0</td>\n",
       "      <td>33.0</td>\n",
       "    </tr>\n",
       "    <tr>\n",
       "      <th>max</th>\n",
       "      <td>98.0</td>\n",
       "      <td>97.0</td>\n",
       "    </tr>\n",
       "    <tr>\n",
       "      <th>mean</th>\n",
       "      <td>60.7</td>\n",
       "      <td>59.5</td>\n",
       "    </tr>\n",
       "    <tr>\n",
       "      <th>50%</th>\n",
       "      <td>58.5</td>\n",
       "      <td>59.5</td>\n",
       "    </tr>\n",
       "  </tbody>\n",
       "</table>\n",
       "</div>"
      ],
      "text/plain": [
       "      class1  class2\n",
       "min     30.0    33.0\n",
       "max     98.0    97.0\n",
       "mean    60.7    59.5\n",
       "50%     58.5    59.5"
      ]
     },
     "execution_count": 2,
     "metadata": {},
     "output_type": "execute_result"
    }
   ],
   "source": [
    "np.random.seed(5)\n",
    "\n",
    "# Предположим, что есть 2 класса с баллами ЕГЭ по математике.\n",
    "class1 = np.random.randint(30, 100, 30)  #выборка с целыми числами от 30 до 100\n",
    "class2 = np.random.randint(30, 100, 30)  #выборка с целыми числами от 30 до 100\n",
    "\n",
    "pd.DataFrame({'class1': class1, 'class2': class2}).describe().loc[['min', 'max', 'mean', '50%']]"
   ]
  },
  {
   "cell_type": "code",
   "execution_count": 3,
   "id": "8542d170",
   "metadata": {},
   "outputs": [
    {
     "data": {
      "image/png": "[encoded data removed]",
      "text/plain": [
       "<Figure size 640x480 with 1 Axes>"
      ]
     },
     "metadata": {},
     "output_type": "display_data"
    }
   ],
   "source": [
    "# Постройте гистограмму с 5-ю бинами для class1.\n",
    "plt.hist(class2, bins=10)\n",
    "plt.show();"
   ]
  },
  {
   "cell_type": "code",
   "execution_count": 4,
   "id": "175fe1e9",
   "metadata": {},
   "outputs": [
    {
     "data": {
      "text/plain": [
       "57"
      ]
     },
     "execution_count": 4,
     "metadata": {},
     "output_type": "execute_result"
    }
   ],
   "source": [
    "# Любым способом посчитайте для каждой уникальной оценки (для каждого балла) \n",
    "# из списка class1 кол-во повторений. \n",
    "# Какой балл повторяется чаще всего.\n",
    "\n",
    "pd.DataFrame(class1).value_counts().idxmax()[0]"
   ]
  },
  {
   "cell_type": "code",
   "execution_count": 5,
   "id": "34f7001d",
   "metadata": {},
   "outputs": [
    {
     "data": {
      "text/plain": [
       "57"
      ]
     },
     "execution_count": 5,
     "metadata": {},
     "output_type": "execute_result"
    }
   ],
   "source": [
    "values, counts = np.unique(class1, return_counts=True)\n",
    "\n",
    "values[counts.argmax()]"
   ]
  },
  {
   "cell_type": "code",
   "execution_count": 6,
   "id": "685a07d7",
   "metadata": {},
   "outputs": [
    {
     "data": {
      "image/png": "[encoded data removed]",
      "text/plain": [
       "<Figure size 640x480 with 1 Axes>"
      ]
     },
     "metadata": {},
     "output_type": "display_data"
    }
   ],
   "source": [
    "# Постройте 2 boxplot, выберите верные утверждения.\n",
    "\n",
    "visual_df = pd.DataFrame({'class1': class1, 'class2': class2})\n",
    "\n",
    "sns.boxplot(visual_df, orient='h')\n",
    "plt.show()"
   ]
  },
  {
   "cell_type": "code",
   "execution_count": 7,
   "id": "8c742c8a",
   "metadata": {},
   "outputs": [
    {
     "data": {
      "text/plain": [
       "92.0"
      ]
     },
     "execution_count": 7,
     "metadata": {},
     "output_type": "execute_result"
    }
   ],
   "source": [
    "# Объедините 2 класса (два одномерных массива) в один с помощью метода np.concatenate(). \n",
    "# Найдите балл, ниже которого попадают баллы 90% учеников.\n",
    "# Иначе говоря, найдите значение, которое соответствует 90-му перцентилю (0.9 квантилю).\n",
    "\n",
    "final_class = np.concatenate([class1, class2], axis=0)\n",
    "np.quantile(final_class, .9)"
   ]
  },
  {
   "cell_type": "code",
   "execution_count": 8,
   "id": "15a35cdf",
   "metadata": {},
   "outputs": [
    {
     "data": {
      "text/plain": [
       "92.0"
      ]
     },
     "execution_count": 8,
     "metadata": {},
     "output_type": "execute_result"
    }
   ],
   "source": [
    "np.quantile([class1, class2], .9)"
   ]
  },
  {
   "cell_type": "code",
   "execution_count": 9,
   "id": "d2220b68",
   "metadata": {},
   "outputs": [
    {
     "data": {
      "text/plain": [
       "470.94"
      ]
     },
     "execution_count": 9,
     "metadata": {},
     "output_type": "execute_result"
    }
   ],
   "source": [
    "# Посчитайте дисперсию для class1. Округлите ответ до двух знаков после запятой.\n",
    "np.var(class1).round(2)\n",
    "np.mean(np.square(class1 - np.mean(class1))).round(2)"
   ]
  },
  {
   "cell_type": "code",
   "execution_count": 10,
   "id": "829e1394",
   "metadata": {},
   "outputs": [
    {
     "data": {
      "text/plain": [
       "21.7"
      ]
     },
     "execution_count": 10,
     "metadata": {},
     "output_type": "execute_result"
    }
   ],
   "source": [
    "# Посчитайте стандартное отклонение для class1. Округлите ответ до одного знака после запятой.\n",
    "np.std(class1).round(1)"
   ]
  },
  {
   "cell_type": "code",
   "execution_count": 11,
   "id": "6476df91",
   "metadata": {},
   "outputs": [
    {
     "data": {
      "text/plain": [
       "2500.0"
      ]
     },
     "execution_count": 11,
     "metadata": {},
     "output_type": "execute_result"
    }
   ],
   "source": [
    "# Компания по продаже косметики разыгрывает сертификаты номиналом 2 000 рублей, 3 000 рублей и 5 000 рублей. \n",
    "# Сертификаты будут разыграны случайно среди топ 20 клиентов, которые принесли компании наибольшую выручку в прошлом месяце.\n",
    "\n",
    "sertificates = [3000, 3000, 5000, 5000, 2000, 2000, 2000, 2000, 2000, 2000, 2000, 2000, 2000, 2000, 2000, 2000, 2000, 2000, 3000, 3000]\n",
    "\n",
    "# Посчитайте среднее.\n",
    "\n",
    "s_mean = np.mean(sertificates)\n",
    "s_mean"
   ]
  },
  {
   "cell_type": "code",
   "execution_count": 12,
   "id": "7ac4d888",
   "metadata": {},
   "outputs": [
    {
     "data": {
      "text/plain": [
       "0.7"
      ]
     },
     "execution_count": 12,
     "metadata": {},
     "output_type": "execute_result"
    }
   ],
   "source": [
    "# Какова вероятность, что рандомный клиент получит сертификат номиналом 2 000 рублей?\n",
    "# Ответ запишите в виде доли. Например 0.4\n",
    "\n",
    "sertificates.count(2000) / len(sertificates)"
   ]
  },
  {
   "cell_type": "code",
   "execution_count": 13,
   "id": "0898cdfc",
   "metadata": {},
   "outputs": [
    {
     "data": {
      "text/plain": [
       "0.3"
      ]
     },
     "execution_count": 13,
     "metadata": {},
     "output_type": "execute_result"
    }
   ],
   "source": [
    "# Какова вероятность, что рандомный клиент получит сертификат номиналом 3 000 или 5 000 рублей?\n",
    "# Ответ запишите в виде доли. Например 0.4\n",
    "\n",
    "(sertificates.count(3000) + sertificates.count(5000)) / len(sertificates)"
   ]
  },
  {
   "cell_type": "code",
   "execution_count": 14,
   "id": "c224309c",
   "metadata": {},
   "outputs": [
    {
     "data": {
      "text/plain": [
       "2500.0"
      ]
     },
     "execution_count": 14,
     "metadata": {},
     "output_type": "execute_result"
    }
   ],
   "source": [
    "# Посчитайте матожидание.\n",
    "\n",
    "np.sum([sertificates.count(i) * i / len(sertificates) for i in np.unique(sertificates)])"
   ]
  },
  {
   "cell_type": "code",
   "execution_count": 24,
   "id": "9a75bd12",
   "metadata": {},
   "outputs": [
    {
     "data": {
      "text/plain": [
       "(array([0.15555556, 0.05555556, 0.1       , 0.17777778, 0.12222222,\n",
       "        0.1       , 0.13333333, 0.14444444, 0.06666667, 0.05555556]),\n",
       " array([0. , 0.9, 1.8, 2.7, 3.6, 4.5, 5.4, 6.3, 7.2, 8.1, 9. ]),\n",
       " <BarContainer object of 10 artists>)"
      ]
     },
     "execution_count": 24,
     "metadata": {},
     "output_type": "execute_result"
    },
    {
     "data": {
      "image/png": "[encoded data removed]",
      "text/plain": [
       "<Figure size 640x480 with 1 Axes>"
      ]
     },
     "metadata": {},
     "output_type": "display_data"
    }
   ],
   "source": [
    "X = np.random.randint(0, 10, 100)\n",
    "plt.hist(X, density=True)"
   ]
  },
  {
   "cell_type": "code",
   "execution_count": null,
   "id": "4a04e78a",
   "metadata": {},
   "outputs": [
    {
     "data": {
      "image/png": "[encoded data removed]",
      "text/plain": [
       "<Figure size 640x480 with 1 Axes>"
      ]
     },
     "metadata": {},
     "output_type": "display_data"
    }
   ],
   "source": [
    "np.random.seed(0)\n",
    "X = sts.uniform.rvs(0, 20, 100_000)\n",
    "X = [np.round(i,2) for i in X]\n",
    "plt.hist(X, bins=10)\n",
    "plt.grid()"
   ]
  },
  {
   "cell_type": "code",
   "execution_count": null,
   "id": "e70fbfc5",
   "metadata": {},
   "outputs": [],
   "source": []
  }
 ],
 "metadata": {
  "kernelspec": {
   "display_name": "base",
   "language": "python",
   "name": "python3"
  },
  "language_info": {
   "codemirror_mode": {
    "name": "ipython",
    "version": 3
   },
   "file_extension": ".py",
   "mimetype": "text/x-python",
   "name": "python",
   "nbconvert_exporter": "python",
   "pygments_lexer": "ipython3",
   "version": "3.12.3"
  }
 },
 "nbformat": 4,
 "nbformat_minor": 5
}
