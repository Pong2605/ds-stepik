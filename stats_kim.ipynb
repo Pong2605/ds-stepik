{
 "cells": [
  {
   "cell_type": "code",
   "execution_count": 12,
   "id": "f76f3272",
   "metadata": {},
   "outputs": [],
   "source": [
    "import pandas as pd\n",
    "import numpy as np\n",
    "from matplotlib import pyplot as plt\n",
    "import seaborn as sns\n",
    "from scipy import stats as sts"
   ]
  },
  {
   "cell_type": "code",
   "execution_count": 13,
   "id": "235204f3",
   "metadata": {},
   "outputs": [
    {
     "data": {
      "text/html": [
       "<div>\n",
       "<style scoped>\n",
       "    .dataframe tbody tr th:only-of-type {\n",
       "        vertical-align: middle;\n",
       "    }\n",
       "\n",
       "    .dataframe tbody tr th {\n",
       "        vertical-align: top;\n",
       "    }\n",
       "\n",
       "    .dataframe thead th {\n",
       "        text-align: right;\n",
       "    }\n",
       "</style>\n",
       "<table border=\"1\" class=\"dataframe\">\n",
       "  <thead>\n",
       "    <tr style=\"text-align: right;\">\n",
       "      <th></th>\n",
       "      <th>class1</th>\n",
       "      <th>class2</th>\n",
       "    </tr>\n",
       "  </thead>\n",
       "  <tbody>\n",
       "    <tr>\n",
       "      <th>min</th>\n",
       "      <td>30.0</td>\n",
       "      <td>33.0</td>\n",
       "    </tr>\n",
       "    <tr>\n",
       "      <th>max</th>\n",
       "      <td>98.0</td>\n",
       "      <td>97.0</td>\n",
       "    </tr>\n",
       "    <tr>\n",
       "      <th>mean</th>\n",
       "      <td>60.7</td>\n",
       "      <td>59.5</td>\n",
       "    </tr>\n",
       "    <tr>\n",
       "      <th>50%</th>\n",
       "      <td>58.5</td>\n",
       "      <td>59.5</td>\n",
       "    </tr>\n",
       "  </tbody>\n",
       "</table>\n",
       "</div>"
      ],
      "text/plain": [
       "      class1  class2\n",
       "min     30.0    33.0\n",
       "max     98.0    97.0\n",
       "mean    60.7    59.5\n",
       "50%     58.5    59.5"
      ]
     },
     "execution_count": 13,
     "metadata": {},
     "output_type": "execute_result"
    }
   ],
   "source": [
    "np.random.seed(5)\n",
    "\n",
    "# Предположим, что есть 2 класса с баллами ЕГЭ по математике.\n",
    "class1 = np.random.randint(30, 100, 30)  #выборка с целыми числами от 30 до 100\n",
    "class2 = np.random.randint(30, 100, 30)  #выборка с целыми числами от 30 до 100\n",
    "\n",
    "pd.DataFrame({'class1': class1, 'class2': class2}).describe().loc[['min', 'max', 'mean', '50%']]"
   ]
  },
  {
   "cell_type": "code",
   "execution_count": 14,
   "id": "8542d170",
   "metadata": {},
   "outputs": [
    {
     "data": {
      "image/png": "[encoded data removed]",
      "text/plain": [
       "<Figure size 640x480 with 1 Axes>"
      ]
     },
     "metadata": {},
     "output_type": "display_data"
    }
   ],
   "source": [
    "# Постройте гистограмму с 5-ю бинами для class1.\n",
    "plt.hist(class2, bins=10)\n",
    "plt.show();"
   ]
  },
  {
   "cell_type": "code",
   "execution_count": 15,
   "id": "175fe1e9",
   "metadata": {},
   "outputs": [
    {
     "data": {
      "text/plain": [
       "57"
      ]
     },
     "execution_count": 15,
     "metadata": {},
     "output_type": "execute_result"
    }
   ],
   "source": [
    "# Любым способом посчитайте для каждой уникальной оценки (для каждого балла) \n",
    "# из списка class1 кол-во повторений. \n",
    "# Какой балл повторяется чаще всего.\n",
    "\n",
    "pd.DataFrame(class1).value_counts().idxmax()[0]"
   ]
  },
  {
   "cell_type": "code",
   "execution_count": 16,
   "id": "34f7001d",
   "metadata": {},
   "outputs": [
    {
     "data": {
      "text/plain": [
       "57"
      ]
     },
     "execution_count": 16,
     "metadata": {},
     "output_type": "execute_result"
    }
   ],
   "source": [
    "values, counts = np.unique(class1, return_counts=True)\n",
    "\n",
    "values[counts.argmax()]"
   ]
  },
  {
   "cell_type": "code",
   "execution_count": 17,
   "id": "685a07d7",
   "metadata": {},
   "outputs": [
    {
     "data": {
      "image/png": "[encoded data removed]",
      "text/plain": [
       "<Figure size 640x480 with 1 Axes>"
      ]
     },
     "metadata": {},
     "output_type": "display_data"
    }
   ],
   "source": [
    "# Постройте 2 boxplot, выберите верные утверждения.\n",
    "\n",
    "visual_df = pd.DataFrame({'class1': class1, 'class2': class2})\n",
    "\n",
    "sns.boxplot(visual_df, orient='h')\n",
    "plt.show()"
   ]
  },
  {
   "cell_type": "code",
   "execution_count": 18,
   "id": "8c742c8a",
   "metadata": {},
   "outputs": [
    {
     "data": {
      "text/plain": [
       "92.0"
      ]
     },
     "execution_count": 18,
     "metadata": {},
     "output_type": "execute_result"
    }
   ],
   "source": [
    "# Объедините 2 класса (два одномерных массива) в один с помощью метода np.concatenate(). \n",
    "# Найдите балл, ниже которого попадают баллы 90% учеников.\n",
    "# Иначе говоря, найдите значение, которое соответствует 90-му перцентилю (0.9 квантилю).\n",
    "\n",
    "final_class = np.concatenate([class1, class2], axis=0)\n",
    "np.quantile(final_class, .9)"
   ]
  },
  {
   "cell_type": "code",
   "execution_count": 19,
   "id": "15a35cdf",
   "metadata": {},
   "outputs": [
    {
     "data": {
      "text/plain": [
       "92.0"
      ]
     },
     "execution_count": 19,
     "metadata": {},
     "output_type": "execute_result"
    }
   ],
   "source": [
    "np.quantile([class1, class2], .9)"
   ]
  },
  {
   "cell_type": "code",
   "execution_count": 20,
   "id": "d2220b68",
   "metadata": {},
   "outputs": [
    {
     "data": {
      "text/plain": [
       "470.94"
      ]
     },
     "execution_count": 20,
     "metadata": {},
     "output_type": "execute_result"
    }
   ],
   "source": [
    "# Посчитайте дисперсию для class1. Округлите ответ до двух знаков после запятой.\n",
    "np.var(class1).round(2)\n",
    "np.mean(np.square(class1 - np.mean(class1))).round(2)"
   ]
  },
  {
   "cell_type": "code",
   "execution_count": 21,
   "id": "829e1394",
   "metadata": {},
   "outputs": [
    {
     "data": {
      "text/plain": [
       "21.7"
      ]
     },
     "execution_count": 21,
     "metadata": {},
     "output_type": "execute_result"
    }
   ],
   "source": [
    "# Посчитайте стандартное отклонение для class1. Округлите ответ до одного знака после запятой.\n",
    "np.std(class1).round(1)"
   ]
  },
  {
   "cell_type": "code",
   "execution_count": 22,
   "id": "6476df91",
   "metadata": {},
   "outputs": [
    {
     "data": {
      "text/plain": [
       "2500.0"
      ]
     },
     "execution_count": 22,
     "metadata": {},
     "output_type": "execute_result"
    }
   ],
   "source": [
    "# Компания по продаже косметики разыгрывает сертификаты номиналом 2 000 рублей, 3 000 рублей и 5 000 рублей. \n",
    "# Сертификаты будут разыграны случайно среди топ 20 клиентов, которые принесли компании наибольшую выручку в прошлом месяце.\n",
    "\n",
    "sertificates = [3000, 3000, 5000, 5000, 2000, 2000, 2000, 2000, 2000, 2000, 2000, 2000, 2000, 2000, 2000, 2000, 2000, 2000, 3000, 3000]\n",
    "\n",
    "# Посчитайте среднее.\n",
    "\n",
    "s_mean = np.mean(sertificates)\n",
    "s_mean"
   ]
  },
  {
   "cell_type": "code",
   "execution_count": 23,
   "id": "7ac4d888",
   "metadata": {},
   "outputs": [
    {
     "data": {
      "text/plain": [
       "0.7"
      ]
     },
     "execution_count": 23,
     "metadata": {},
     "output_type": "execute_result"
    }
   ],
   "source": [
    "# Какова вероятность, что рандомный клиент получит сертификат номиналом 2 000 рублей?\n",
    "# Ответ запишите в виде доли. Например 0.4\n",
    "\n",
    "sertificates.count(2000) / len(sertificates)"
   ]
  },
  {
   "cell_type": "code",
   "execution_count": 24,
   "id": "0898cdfc",
   "metadata": {},
   "outputs": [
    {
     "data": {
      "text/plain": [
       "0.3"
      ]
     },
     "execution_count": 24,
     "metadata": {},
     "output_type": "execute_result"
    }
   ],
   "source": [
    "# Какова вероятность, что рандомный клиент получит сертификат номиналом 3 000 или 5 000 рублей?\n",
    "# Ответ запишите в виде доли. Например 0.4\n",
    "\n",
    "(sertificates.count(3000) + sertificates.count(5000)) / len(sertificates)"
   ]
  },
  {
   "cell_type": "code",
   "execution_count": 25,
   "id": "c224309c",
   "metadata": {},
   "outputs": [
    {
     "data": {
      "text/plain": [
       "2500.0"
      ]
     },
     "execution_count": 25,
     "metadata": {},
     "output_type": "execute_result"
    }
   ],
   "source": [
    "# Посчитайте матожидание.\n",
    "\n",
    "np.sum([sertificates.count(i) * i / len(sertificates) for i in np.unique(sertificates)])"
   ]
  },
  {
   "cell_type": "code",
   "execution_count": 26,
   "id": "9a75bd12",
   "metadata": {},
   "outputs": [
    {
     "data": {
      "text/plain": [
       "(array([0.12222222, 0.13333333, 0.15555556, 0.08888889, 0.14444444,\n",
       "        0.06666667, 0.1       , 0.08888889, 0.11111111, 0.1       ]),\n",
       " array([0. , 0.9, 1.8, 2.7, 3.6, 4.5, 5.4, 6.3, 7.2, 8.1, 9. ]),\n",
       " <BarContainer object of 10 artists>)"
      ]
     },
     "execution_count": 26,
     "metadata": {},
     "output_type": "execute_result"
    },
    {
     "data": {
      "image/png": "[encoded data removed]",
      "text/plain": [
       "<Figure size 640x480 with 1 Axes>"
      ]
     },
     "metadata": {},
     "output_type": "display_data"
    }
   ],
   "source": [
    "X = np.random.randint(0, 10, 100)\n",
    "plt.hist(X, density=True)"
   ]
  },
  {
   "cell_type": "code",
   "execution_count": 27,
   "id": "4a04e78a",
   "metadata": {},
   "outputs": [
    {
     "data": {
      "image/png": "[encoded data removed]",
      "text/plain": [
       "<Figure size 640x480 with 1 Axes>"
      ]
     },
     "metadata": {},
     "output_type": "display_data"
    }
   ],
   "source": [
    "np.random.seed(0)\n",
    "X = sts.uniform.rvs(0, 20, 100_000)\n",
    "X = [np.round(i,2) for i in X]\n",
    "plt.hist(X, bins=10)\n",
    "plt.grid()"
   ]
  },
  {
   "cell_type": "code",
   "execution_count": 28,
   "id": "9e111fba",
   "metadata": {},
   "outputs": [
    {
     "data": {
      "text/plain": [
       "0.024997895148220435"
      ]
     },
     "execution_count": 28,
     "metadata": {},
     "output_type": "execute_result"
    }
   ],
   "source": [
    "from scipy import stats as sts\n",
    "\n",
    "mu = 0 #среднее \n",
    "std = 1 #стандартное отклонение\n",
    "norm_rv = sts.norm(0, 1) #нормальное стандартное распределение\n",
    "\n",
    "# Скопируйте и запустите код выше. \n",
    "# С помощью функции  .cdf() посчитайте вероятность того, что случайная величина Х примет значение меньше, чем -1.96. \n",
    "# Ответ округлите до 3-х знаков после запятой.\n",
    "\n",
    "norm_rv.cdf(-1.96)"
   ]
  },
  {
   "cell_type": "code",
   "execution_count": 29,
   "id": "7ca74f5b",
   "metadata": {},
   "outputs": [
    {
     "data": {
      "image/png": "[encoded data removed]",
      "text/plain": [
       "<Figure size 640x480 with 1 Axes>"
      ]
     },
     "metadata": {},
     "output_type": "display_data"
    }
   ],
   "source": [
    "x = np.linspace(-4, 4)\n",
    "pdf = norm_rv.pdf(x)\n",
    "plt.plot(x, pdf)\n",
    "plt.fill_between(x, pdf, where=(x >= -4) & (x <= -1.96))\n",
    "plt.show();"
   ]
  },
  {
   "cell_type": "code",
   "execution_count": 30,
   "id": "120829d4",
   "metadata": {},
   "outputs": [
    {
     "data": {
      "image/png": "[encoded data removed]",
      "text/plain": [
       "<Figure size 640x480 with 1 Axes>"
      ]
     },
     "metadata": {},
     "output_type": "display_data"
    }
   ],
   "source": [
    "# Скопируйте и запустите код выше. \n",
    "# С помощью функции  .cdf() посчитайте вероятность того, что случайная величина Х примет значение меньше, чем 1.96. \n",
    "# Ответ округлите до 3-х знаков после запятой.\n",
    "\n",
    "x = np.linspace(-4, 4)\n",
    "pdf = norm_rv.pdf(x)\n",
    "plt.plot(x, pdf)\n",
    "plt.fill_between(x, pdf, where=(x <= 1.96) & (x >= -4))\n",
    "plt.show();"
   ]
  },
  {
   "cell_type": "code",
   "execution_count": 31,
   "id": "431dce6c",
   "metadata": {},
   "outputs": [
    {
     "data": {
      "text/plain": [
       "0.9750021048517795"
      ]
     },
     "execution_count": 31,
     "metadata": {},
     "output_type": "execute_result"
    }
   ],
   "source": [
    "norm_rv.cdf(1.96)"
   ]
  },
  {
   "cell_type": "code",
   "execution_count": 32,
   "id": "6f53e49c",
   "metadata": {},
   "outputs": [
    {
     "data": {
      "image/png": "[encoded data removed]",
      "text/plain": [
       "<Figure size 640x480 with 1 Axes>"
      ]
     },
     "metadata": {},
     "output_type": "display_data"
    }
   ],
   "source": [
    "# С помощью функции  .cdf() посчитайте вероятность того, что случайная величина Х \n",
    "# примет значение больше -1.96 и меньше 1.96. \n",
    "# Ответ округлите до 2-х знаков после запятой.\n",
    "\n",
    "x = np.linspace(-4, 4)\n",
    "pdf = norm_rv.pdf(x)\n",
    "plt.plot(x, pdf)\n",
    "plt.fill_between(x, pdf, where=(x <= 1.96) & (x >= -1.96))\n",
    "plt.show();"
   ]
  },
  {
   "cell_type": "code",
   "execution_count": 33,
   "id": "94bfa670",
   "metadata": {},
   "outputs": [
    {
     "data": {
      "text/plain": [
       "0.950004209703559"
      ]
     },
     "execution_count": 33,
     "metadata": {},
     "output_type": "execute_result"
    }
   ],
   "source": [
    "norm_rv.cdf(1.96) - norm_rv.cdf(-1.96)"
   ]
  },
  {
   "cell_type": "code",
   "execution_count": 34,
   "id": "59054d5a",
   "metadata": {},
   "outputs": [],
   "source": [
    "# Зададим уровень значимости α = 0.05.\n",
    "\n",
    "# Cгенерируйте выборку sample. Код ниже.\n",
    "\n",
    "import numpy as np\n",
    "from scipy import stats as sts\n",
    "\n",
    "np.random.seed(0)\n",
    "mu = 30\n",
    "sigma = 10\n",
    "norm_rv = sts.norm(loc=mu, scale=sigma)\n",
    "sample = norm_rv.rvs(size=500)"
   ]
  },
  {
   "cell_type": "code",
   "execution_count": 35,
   "id": "30165b7c",
   "metadata": {},
   "outputs": [
    {
     "data": {
      "text/plain": [
       "0.4472135954999579"
      ]
     },
     "execution_count": 35,
     "metadata": {},
     "output_type": "execute_result"
    }
   ],
   "source": [
    "SE = sigma / (500**0.5)\n",
    "SE"
   ]
  },
  {
   "cell_type": "code",
   "execution_count": 36,
   "id": "92ff7baa",
   "metadata": {},
   "outputs": [
    {
     "data": {
      "text/plain": [
       "-2.80301047628695"
      ]
     },
     "execution_count": 36,
     "metadata": {},
     "output_type": "execute_result"
    }
   ],
   "source": [
    "mu = 31\n",
    "z = (sample.mean() - mu) / SE\n",
    "z"
   ]
  },
  {
   "cell_type": "code",
   "execution_count": 42,
   "id": "7d9a29d8",
   "metadata": {},
   "outputs": [],
   "source": [
    "mu = 0 #среднее \n",
    "std = 1 #стандартное отклонение\n",
    "norm_rv = sts.norm(0, 1) #нормальное стандартное распределение"
   ]
  },
  {
   "cell_type": "code",
   "execution_count": 45,
   "id": "ff977b4f",
   "metadata": {},
   "outputs": [
    {
     "data": {
      "text/plain": [
       "0.9901199684844586"
      ]
     },
     "execution_count": 45,
     "metadata": {},
     "output_type": "execute_result"
    }
   ],
   "source": [
    "(norm_rv.cdf(2.58) - norm_rv.cdf(-2.58))"
   ]
  },
  {
   "cell_type": "code",
   "execution_count": 54,
   "id": "83ee2192",
   "metadata": {},
   "outputs": [],
   "source": [
    "# Задача:\n",
    "# У нас есть выборка sample.\n",
    "# Есть предположение, что среднее генеральной совокупности равно 31.\n",
    "# Необходимо проверить действительно ли среднее генеральной совокупности равно 31 по выборке.\n",
    "# Стандартное отклонение генеральной совокупности нам тоже не известно.\n",
    "\n",
    "# Сгенерируйте выборку sample:\n",
    "\n",
    "import numpy as np\n",
    "from scipy import stats as sts\n",
    "\n",
    "np.random.seed(0)\n",
    "mu = 30\n",
    "sigma = 10\n",
    "norm_rv = sts.norm(loc=mu, scale=sigma)\n",
    "sample = norm_rv.rvs(size=500)"
   ]
  },
  {
   "cell_type": "code",
   "execution_count": 58,
   "id": "b095c168",
   "metadata": {},
   "outputs": [
    {
     "data": {
      "text/plain": [
       "(29.746455606675664, 9.981567773429258)"
      ]
     },
     "execution_count": 58,
     "metadata": {},
     "output_type": "execute_result"
    }
   ],
   "source": [
    "m = sample.mean()\n",
    "std = sample.std()\n",
    "m, std"
   ]
  },
  {
   "cell_type": "code",
   "execution_count": 56,
   "id": "bb004339",
   "metadata": {},
   "outputs": [
    {
     "data": {
      "text/plain": [
       "0.4463892812681808"
      ]
     },
     "execution_count": 56,
     "metadata": {},
     "output_type": "execute_result"
    }
   ],
   "source": [
    "ESE = std / len(sample)**0.5\n",
    "ESE"
   ]
  },
  {
   "cell_type": "code",
   "execution_count": 62,
   "id": "7cd5420a",
   "metadata": {},
   "outputs": [
    {
     "data": {
      "text/plain": [
       "-2.808186589433886"
      ]
     },
     "execution_count": 62,
     "metadata": {},
     "output_type": "execute_result"
    }
   ],
   "source": [
    "t = (m - 31) / ESE\n",
    "t"
   ]
  },
  {
   "cell_type": "code",
   "execution_count": 64,
   "id": "ddfd718e",
   "metadata": {},
   "outputs": [
    {
     "data": {
      "text/plain": [
       "0.005221988377647773"
      ]
     },
     "execution_count": 64,
     "metadata": {},
     "output_type": "execute_result"
    }
   ],
   "source": [
    "t_stat, p_value = sts.ttest_1samp(sample, 31)\n",
    "p_value"
   ]
  },
  {
   "cell_type": "code",
   "execution_count": 65,
   "id": "047cf576",
   "metadata": {},
   "outputs": [],
   "source": [
    "# Вы работаете в крупной фармацевтической компании, которая разрабатывает медицинские препараты. \n",
    "# Ученные вашей компании разработали пластырь, который помогает бороться с курением. \n",
    "# Они утверждают, что препарат действует моментально - нужно наклеить пластырь, и желание выкурить сигарету моментально снизится.\n",
    "\n",
    "# Ученные отобрали 400 курильщиков. \n",
    "# Рандомно разделили их на контрольную и тестовую группу по 200 человек в каждой. \n",
    "# Тестовая группа в течение недели носила пластырь, а контрольная группа нет. \n",
    "\n",
    "# Необходимо проверить эффективен ли пластырь.\n",
    "\n",
    "# Сгенерируйте 2 выборки. Каждое значение в выборках - это количество выкуренных сигарет за неделю (период проведения эксперимента).\n",
    "\n",
    "import numpy as np\n",
    "from scipy import stats as sts\n",
    "\n",
    "np.random.seed(0)\n",
    "test = [np.random.randint(30,140) for i in range(200)]\n",
    "control = [np.random.randint(30,140) for i in range(200)]"
   ]
  },
  {
   "cell_type": "code",
   "execution_count": 66,
   "id": "4dbb74e4",
   "metadata": {},
   "outputs": [
    {
     "data": {
      "text/plain": [
       "398"
      ]
     },
     "execution_count": 66,
     "metadata": {},
     "output_type": "execute_result"
    }
   ],
   "source": [
    "f = len(test) + len(control) - 2\n",
    "f"
   ]
  },
  {
   "cell_type": "code",
   "execution_count": 69,
   "id": "a32bd14e",
   "metadata": {},
   "outputs": [
    {
     "data": {
      "text/plain": [
       "0.831112326758055"
      ]
     },
     "execution_count": 69,
     "metadata": {},
     "output_type": "execute_result"
    }
   ],
   "source": [
    "t_stat, p_value = sts.ttest_ind(test, control)\n",
    "p_value"
   ]
  },
  {
   "cell_type": "code",
   "execution_count": 10,
   "id": "197c1c79",
   "metadata": {},
   "outputs": [
    {
     "data": {
      "text/plain": [
       "(2.1940567562600117, 0.028231329563203986)"
      ]
     },
     "execution_count": 10,
     "metadata": {},
     "output_type": "execute_result"
    }
   ],
   "source": [
    "# Анализируя А/Б тест с смс про бонусы, вы нашли зависимость - чем больше бонусов у покупателя, тем выше отклик на коммуникацию.\n",
    "# Давайте также возьмем покупателей, у которых последняя покупка была от 3 до 2 месяцев назад. Но из них отберем покупателей, у которых на балансе более 30 бонусов.\n",
    "\n",
    "# Сгенерируйте 2 выборки. Каждое значение в выборке - это успех (совершил покупку в период проведения А/Б теста) и неудача.\n",
    "\n",
    "import numpy as np\n",
    "from statsmodels.stats.proportion import proportions_ztest\n",
    "\n",
    "p_test = 0.14  #Доля вернувшихся из тех, кто получил смс\n",
    "p_control = 0.10  #Доля вернувшихся из тех, кто не получил смс\n",
    "\n",
    "# Сгенерируем данные\n",
    "np.random.seed(2)\n",
    "test_group = np.random.choice([0, 1], size=1000, p=[1-p_test, p_test])\n",
    "control_group = np.random.choice([0, 1], size=1000, p=[1-p_control, p_control])\n",
    "\n",
    "# Посчитайте p-value. Округлите ответ до 3-х знаков после запятой.\n",
    "\n",
    "z_stat, p_value = proportions_ztest([np.sum(test_group), np.sum(control_group)], [len(test_group), len(control_group)])\n",
    "z_stat, p_value"
   ]
  },
  {
   "cell_type": "code",
   "execution_count": null,
   "id": "a76489f7",
   "metadata": {},
   "outputs": [],
   "source": [
    "# Вернемся к тесту с оттоком. К покупателям с последней покупкой от 3-х до 2-х месяцев назад, \n",
    "# у которых на балансе выше 30 бонусов. До этого мы контролировали только ошибку первого рода.\n",
    "\n",
    "# Вы знаете конверсию без отправки смс:\n",
    "p_control = 0.10  #Доля вернувшихся из тех, кто не получил смс\n",
    "\n",
    "# Вы знаете MDE и конверсию после отправки смс:\n",
    "p_test = 0.14  # Доля вернувшихся из тех, кто получил смс\n",
    "\n",
    "\n",
    "\n",
    "from scipy import stats as sts\n",
    "\n",
    "a = 0.05 #уровень значимости альфа, ошибка первого рода\n",
    "b = 0.2 #ошибка второго рода\n",
    "p_1 = 0.10 #конверсия или среднее\n",
    "p_2 = 0.14 #конверсия с учетом MDE\n",
    "\n",
    "# Посчитайте необходимый размер одной выборки, для того чтобы контролировать ошибку первого и второго рода. \n",
    "# альфа = 0.05, бета = 0.2. Ответ округлите."
   ]
  },
  {
   "cell_type": "code",
   "execution_count": 17,
   "id": "1d26698f",
   "metadata": {},
   "outputs": [
    {
     "name": "stdout",
     "output_type": "stream",
     "text": [
      "False\n"
     ]
    }
   ],
   "source": [
    "x = 6\n",
    "y = 7\n",
    "print(x == y)"
   ]
  },
  {
   "cell_type": "code",
   "execution_count": null,
   "id": "5d9e7fb0",
   "metadata": {},
   "outputs": [],
   "source": []
  }
 ],
 "metadata": {
  "kernelspec": {
   "display_name": "base",
   "language": "python",
   "name": "python3"
  },
  "language_info": {
   "codemirror_mode": {
    "name": "ipython",
    "version": 3
   },
   "file_extension": ".py",
   "mimetype": "text/x-python",
   "name": "python",
   "nbconvert_exporter": "python",
   "pygments_lexer": "ipython3",
   "version": "3.12.3"
  }
 },
 "nbformat": 4,
 "nbformat_minor": 5
}
