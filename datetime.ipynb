{
 "cells": [
  {
   "cell_type": "code",
   "execution_count": 52,
   "metadata": {},
   "outputs": [],
   "source": [
    "import pandas as pd\n",
    "import datetime"
   ]
  },
  {
   "cell_type": "code",
   "execution_count": 53,
   "metadata": {},
   "outputs": [
    {
     "name": "stdout",
     "output_type": "stream",
     "text": [
      "2000-09-17\n",
      "<class 'datetime.date'>\n"
     ]
    }
   ],
   "source": [
    "d= datetime.date(2000,9,17)\n",
    "print(d)\n",
    "print(type(d))"
   ]
  },
  {
   "cell_type": "code",
   "execution_count": 54,
   "metadata": {},
   "outputs": [
    {
     "name": "stdout",
     "output_type": "stream",
     "text": [
      "2023\n",
      "10\n",
      "4\n",
      "15\n",
      "30\n",
      "2\n",
      "4\n"
     ]
    }
   ],
   "source": [
    "# Creating a Timestamp object\n",
    "timestamp = pd.Timestamp('2023-10-04 15:30:00')\n",
    "# Extracting the year from the Timestamp\n",
    "year = timestamp.year\n",
    "# Printing the extracted year\n",
    "print(year)\n",
    "# Extracting the month from the Timestamp\n",
    "month = timestamp.month\n",
    "# Printing the extracted month\n",
    "print(month)\n",
    "# Extracting the day from the Timestamp\n",
    "day = timestamp.day\n",
    "# Printing the extracted day\n",
    "print(day)\n",
    "# Extracting the hour from the Timestamp\n",
    "hour = timestamp.hour\n",
    "# Printing the extracted hour\n",
    "print(hour)\n",
    "# Extracting the minute from the Timestamp\n",
    "minute = timestamp.minute\n",
    "# Printing the extracted minute\n",
    "print(minute)\n",
    "# Extracting the weekday from the Timestamp\n",
    "weekday = timestamp.weekday()\n",
    "# Printing the extracted weekday\n",
    "print(weekday)\n",
    "# Extracting the quarter from the Timestamp\n",
    "quarter = timestamp.quarter\n",
    "# Printing the extracted quarter\n",
    "print(quarter)"
   ]
  },
  {
   "cell_type": "code",
   "execution_count": 55,
   "metadata": {},
   "outputs": [
    {
     "name": "stdout",
     "output_type": "stream",
     "text": [
      "2026-01-14 15:30:00\n"
     ]
    }
   ],
   "source": [
    "# Creating a date offset object\n",
    "date_offset = pd.DateOffset(years=2, months=3, days=10)\n",
    "# Adding the date offset to a Timestamp\n",
    "new_timestamp = timestamp + date_offset\n",
    "# Printing the new Timestamp\n",
    "print(new_timestamp)"
   ]
  },
  {
   "cell_type": "code",
   "execution_count": 56,
   "metadata": {},
   "outputs": [
    {
     "data": {
      "text/plain": [
       "datetime.date(2024, 10, 4)"
      ]
     },
     "execution_count": 56,
     "metadata": {},
     "output_type": "execute_result"
    }
   ],
   "source": [
    "datetime.date.today()"
   ]
  },
  {
   "cell_type": "code",
   "execution_count": 57,
   "metadata": {},
   "outputs": [
    {
     "data": {
      "text/plain": [
       "datetime.datetime(2024, 10, 4, 17, 18, 10, 820462)"
      ]
     },
     "execution_count": 57,
     "metadata": {},
     "output_type": "execute_result"
    }
   ],
   "source": [
    "datetime.datetime.now()"
   ]
  },
  {
   "cell_type": "code",
   "execution_count": 58,
   "metadata": {},
   "outputs": [
    {
     "name": "stdout",
     "output_type": "stream",
     "text": [
      "04/10/2024 17:18:10\n"
     ]
    }
   ],
   "source": [
    "today = datetime.datetime.today() \n",
    "print( today.strftime(\"%d/%m/%Y %H:%M:%S\") )"
   ]
  },
  {
   "cell_type": "code",
   "execution_count": 59,
   "metadata": {},
   "outputs": [
    {
     "name": "stdout",
     "output_type": "stream",
     "text": [
      "1592\n",
      "62290\n"
     ]
    }
   ],
   "source": [
    "now = datetime.datetime.now()\n",
    "then = datetime.datetime(2020, 5, 26)\n",
    "# Кол-во времени между датами.\n",
    "delta = now - then\n",
    "print(delta.days)\n",
    "print(delta.seconds)"
   ]
  },
  {
   "cell_type": "code",
   "execution_count": 67,
   "metadata": {},
   "outputs": [
    {
     "name": "stdout",
     "output_type": "stream",
     "text": [
      "38225.0 18.0 10.868501007556915\n"
     ]
    }
   ],
   "source": [
    "total_seconds = delta.total_seconds()\n",
    "hours = total_seconds // 3600\n",
    "minutes = (total_seconds % 3600) // 60\n",
    "seconds = total_seconds % 60\n",
    "print(hours, minutes, seconds)"
   ]
  },
  {
   "cell_type": "code",
   "execution_count": 71,
   "metadata": {},
   "outputs": [
    {
     "name": "stdout",
     "output_type": "stream",
     "text": [
      "Slept for 1 seconds\n",
      "Slept for 1 seconds\n",
      "Slept for 1 seconds\n"
     ]
    }
   ],
   "source": [
    "import time\n",
    " \n",
    "for x in range(3):\n",
    "    time.sleep(1)\n",
    "    print(\"Slept for 1 seconds\")"
   ]
  },
  {
   "cell_type": "code",
   "execution_count": 72,
   "metadata": {},
   "outputs": [
    {
     "name": "stdout",
     "output_type": "stream",
     "text": [
      "2024-10-04-17.26.03\n"
     ]
    }
   ],
   "source": [
    "a = time.strftime(\"%Y-%m-%d-%H.%M.%S\", time.localtime())\n",
    "print(a)"
   ]
  },
  {
   "cell_type": "code",
   "execution_count": null,
   "metadata": {},
   "outputs": [],
   "source": []
  }
 ],
 "metadata": {
  "kernelspec": {
   "display_name": "base",
   "language": "python",
   "name": "python3"
  },
  "language_info": {
   "codemirror_mode": {
    "name": "ipython",
    "version": 3
   },
   "file_extension": ".py",
   "mimetype": "text/x-python",
   "name": "python",
   "nbconvert_exporter": "python",
   "pygments_lexer": "ipython3",
   "version": "3.11.10"
  }
 },
 "nbformat": 4,
 "nbformat_minor": 2
}
