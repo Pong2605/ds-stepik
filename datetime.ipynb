{
 "cells": [
  {
   "cell_type": "code",
   "execution_count": 1,
   "metadata": {},
   "outputs": [],
   "source": [
    "import pandas as pd\n",
    "import datetime"
   ]
  },
  {
   "cell_type": "code",
   "execution_count": 2,
   "metadata": {},
   "outputs": [
    {
     "name": "stdout",
     "output_type": "stream",
     "text": [
      "2000-09-17\n",
      "<class 'datetime.date'>\n"
     ]
    }
   ],
   "source": [
    "d= datetime.date(2000,9,17)\n",
    "print(d)\n",
    "print(type(d))"
   ]
  },
  {
   "cell_type": "code",
   "execution_count": 3,
   "metadata": {},
   "outputs": [
    {
     "name": "stdout",
     "output_type": "stream",
     "text": [
      "2023\n",
      "10\n",
      "4\n",
      "15\n",
      "30\n",
      "2\n",
      "4\n"
     ]
    }
   ],
   "source": [
    "# Creating a Timestamp object\n",
    "timestamp = pd.Timestamp('2023-10-04 15:30:00')\n",
    "# Extracting the year from the Timestamp\n",
    "year = timestamp.year\n",
    "# Printing the extracted year\n",
    "print(year)\n",
    "# Extracting the month from the Timestamp\n",
    "month = timestamp.month\n",
    "# Printing the extracted month\n",
    "print(month)\n",
    "# Extracting the day from the Timestamp\n",
    "day = timestamp.day\n",
    "# Printing the extracted day\n",
    "print(day)\n",
    "# Extracting the hour from the Timestamp\n",
    "hour = timestamp.hour\n",
    "# Printing the extracted hour\n",
    "print(hour)\n",
    "# Extracting the minute from the Timestamp\n",
    "minute = timestamp.minute\n",
    "# Printing the extracted minute\n",
    "print(minute)\n",
    "# Extracting the weekday from the Timestamp\n",
    "weekday = timestamp.weekday()\n",
    "# Printing the extracted weekday\n",
    "print(weekday)\n",
    "# Extracting the quarter from the Timestamp\n",
    "quarter = timestamp.quarter\n",
    "# Printing the extracted quarter\n",
    "print(quarter)"
   ]
  },
  {
   "cell_type": "code",
   "execution_count": 4,
   "metadata": {},
   "outputs": [
    {
     "name": "stdout",
     "output_type": "stream",
     "text": [
      "2026-01-14 15:30:00\n"
     ]
    }
   ],
   "source": [
    "# Creating a date offset object\n",
    "date_offset = pd.DateOffset(years=2, months=3, days=10)\n",
    "# Adding the date offset to a Timestamp\n",
    "new_timestamp = timestamp + date_offset\n",
    "# Printing the new Timestamp\n",
    "print(new_timestamp)"
   ]
  },
  {
   "cell_type": "code",
   "execution_count": 5,
   "metadata": {},
   "outputs": [
    {
     "data": {
      "text/plain": [
       "datetime.date(2025, 1, 26)"
      ]
     },
     "execution_count": 5,
     "metadata": {},
     "output_type": "execute_result"
    }
   ],
   "source": [
    "datetime.date.today()"
   ]
  },
  {
   "cell_type": "code",
   "execution_count": 6,
   "metadata": {},
   "outputs": [
    {
     "data": {
      "text/plain": [
       "datetime.datetime(2025, 1, 26, 21, 18, 59, 983595)"
      ]
     },
     "execution_count": 6,
     "metadata": {},
     "output_type": "execute_result"
    }
   ],
   "source": [
    "datetime.datetime.now()"
   ]
  },
  {
   "cell_type": "code",
   "execution_count": 7,
   "metadata": {},
   "outputs": [
    {
     "name": "stdout",
     "output_type": "stream",
     "text": [
      "26/01/2025 21:18:59\n"
     ]
    }
   ],
   "source": [
    "today = datetime.datetime.today() \n",
    "print(today.strftime(\"%d/%m/%Y %H:%M:%S\"))"
   ]
  },
  {
   "cell_type": "code",
   "execution_count": 8,
   "metadata": {},
   "outputs": [
    {
     "name": "stdout",
     "output_type": "stream",
     "text": [
      "1706\n",
      "76740\n"
     ]
    }
   ],
   "source": [
    "now = datetime.datetime.now()\n",
    "then = datetime.datetime(2020, 5, 26)\n",
    "# Кол-во времени между датами.\n",
    "delta = now - then\n",
    "print(delta.days)\n",
    "print(delta.seconds)"
   ]
  },
  {
   "cell_type": "code",
   "execution_count": 9,
   "metadata": {},
   "outputs": [
    {
     "name": "stdout",
     "output_type": "stream",
     "text": [
      "40965.0 19.0 0.005971997976303101\n"
     ]
    }
   ],
   "source": [
    "total_seconds = delta.total_seconds()\n",
    "hours = total_seconds // 3600\n",
    "minutes = (total_seconds % 3600) // 60\n",
    "seconds = total_seconds % 60\n",
    "print(hours, minutes, seconds)"
   ]
  },
  {
   "cell_type": "code",
   "execution_count": 10,
   "metadata": {},
   "outputs": [
    {
     "name": "stdout",
     "output_type": "stream",
     "text": [
      "Slept for 1 seconds\n",
      "Slept for 1 seconds\n",
      "Slept for 1 seconds\n"
     ]
    }
   ],
   "source": [
    "import time\n",
    " \n",
    "for x in range(3):\n",
    "    time.sleep(1)\n",
    "    print(\"Slept for 1 seconds\")"
   ]
  },
  {
   "cell_type": "code",
   "execution_count": 11,
   "metadata": {},
   "outputs": [
    {
     "name": "stdout",
     "output_type": "stream",
     "text": [
      "2025-01-26-21.19.03\n"
     ]
    }
   ],
   "source": [
    "a = time.strftime(\"%Y-%m-%d-%H.%M.%S\", time.localtime())\n",
    "print(a)"
   ]
  },
  {
   "cell_type": "code",
   "execution_count": 3,
   "metadata": {},
   "outputs": [
    {
     "data": {
      "text/html": [
       "<div>\n",
       "<style scoped>\n",
       "    .dataframe tbody tr th:only-of-type {\n",
       "        vertical-align: middle;\n",
       "    }\n",
       "\n",
       "    .dataframe tbody tr th {\n",
       "        vertical-align: top;\n",
       "    }\n",
       "\n",
       "    .dataframe thead th {\n",
       "        text-align: right;\n",
       "    }\n",
       "</style>\n",
       "<table border=\"1\" class=\"dataframe\">\n",
       "  <thead>\n",
       "    <tr style=\"text-align: right;\">\n",
       "      <th></th>\n",
       "      <th>IE_ID</th>\n",
       "    </tr>\n",
       "    <tr>\n",
       "      <th>IP_PROP5562</th>\n",
       "      <th></th>\n",
       "    </tr>\n",
       "  </thead>\n",
       "  <tbody>\n",
       "    <tr>\n",
       "      <th>2019-08-29</th>\n",
       "      <td>8</td>\n",
       "    </tr>\n",
       "    <tr>\n",
       "      <th>2019-08-30</th>\n",
       "      <td>8</td>\n",
       "    </tr>\n",
       "    <tr>\n",
       "      <th>2019-08-31</th>\n",
       "      <td>1</td>\n",
       "    </tr>\n",
       "    <tr>\n",
       "      <th>2019-09-01</th>\n",
       "      <td>0</td>\n",
       "    </tr>\n",
       "    <tr>\n",
       "      <th>2019-09-02</th>\n",
       "      <td>12</td>\n",
       "    </tr>\n",
       "    <tr>\n",
       "      <th>...</th>\n",
       "      <td>...</td>\n",
       "    </tr>\n",
       "    <tr>\n",
       "      <th>2019-11-04</th>\n",
       "      <td>36</td>\n",
       "    </tr>\n",
       "    <tr>\n",
       "      <th>2019-11-05</th>\n",
       "      <td>103</td>\n",
       "    </tr>\n",
       "    <tr>\n",
       "      <th>2019-11-06</th>\n",
       "      <td>106</td>\n",
       "    </tr>\n",
       "    <tr>\n",
       "      <th>2019-11-07</th>\n",
       "      <td>102</td>\n",
       "    </tr>\n",
       "    <tr>\n",
       "      <th>2019-11-08</th>\n",
       "      <td>77</td>\n",
       "    </tr>\n",
       "  </tbody>\n",
       "</table>\n",
       "<p>72 rows × 1 columns</p>\n",
       "</div>"
      ],
      "text/plain": [
       "             IE_ID\n",
       "IP_PROP5562       \n",
       "2019-08-29       8\n",
       "2019-08-30       8\n",
       "2019-08-31       1\n",
       "2019-09-01       0\n",
       "2019-09-02      12\n",
       "...            ...\n",
       "2019-11-04      36\n",
       "2019-11-05     103\n",
       "2019-11-06     106\n",
       "2019-11-07     102\n",
       "2019-11-08      77\n",
       "\n",
       "[72 rows x 1 columns]"
      ]
     },
     "metadata": {},
     "output_type": "display_data"
    },
    {
     "data": {
      "image/png": "[encoded data removed]",
      "text/plain": [
       "<Figure size 1500x300 with 1 Axes>"
      ]
     },
     "metadata": {},
     "output_type": "display_data"
    }
   ],
   "source": [
    "import pandas as pd\n",
    "import matplotlib.pyplot as plt\n",
    "import matplotlib\n",
    "# matplotlib.use('TkAgg') # вывод в отдельном окне\n",
    "\n",
    "\n",
    "# Способ 2 через  df.resample('1d'). Пропусков не будет, будут дни с 0, несмотря на отсутсвтие событий !!!\n",
    "df = pd.read_csv('data/export.csv', sep=';')\n",
    "\n",
    "# Преобразуем строковую_дату_время в дату_время методом пандас\n",
    "df['IP_PROP5562'] = pd.to_datetime(df['IP_PROP5562'], format='%d.%m.%Y %H:%M:%S')\n",
    "\n",
    "# Устанавливаем поле как индекс\n",
    "df.set_index('IP_PROP5562', inplace=True)  # inplace=True !!! или создавать новый датафрейм, иначе не работало\n",
    "\n",
    "# Пересобираем/считаем по дате с интервалом 1 день. Поле индекс_дата_время цепляется автоматом.\n",
    "res_df = df.resample('1d').count()\n",
    "\n",
    "res_df.plot(kind='bar', figsize=(15, 3))\n",
    "display(res_df)\n",
    "plt.plot(res_df)\n",
    "plt.show(block=True)\n",
    "plt.close()"
   ]
  },
  {
   "cell_type": "code",
   "execution_count": null,
   "metadata": {},
   "outputs": [],
   "source": []
  }
 ],
 "metadata": {
  "kernelspec": {
   "display_name": "base",
   "language": "python",
   "name": "python3"
  },
  "language_info": {
   "codemirror_mode": {
    "name": "ipython",
    "version": 3
   },
   "file_extension": ".py",
   "mimetype": "text/x-python",
   "name": "python",
   "nbconvert_exporter": "python",
   "pygments_lexer": "ipython3",
   "version": "3.11.11"
  }
 },
 "nbformat": 4,
 "nbformat_minor": 2
}
