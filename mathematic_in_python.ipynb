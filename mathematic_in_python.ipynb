{
 "cells": [
  {
   "cell_type": "code",
   "execution_count": 1,
   "metadata": {},
   "outputs": [],
   "source": [
    "import math\n",
    "import numpy as np"
   ]
  },
  {
   "cell_type": "code",
   "execution_count": 2,
   "metadata": {},
   "outputs": [
    {
     "data": {
      "text/plain": [
       "array([ 2, -6,  3])"
      ]
     },
     "execution_count": 2,
     "metadata": {},
     "output_type": "execute_result"
    }
   ],
   "source": [
    "# Даны 2 вектора\n",
    "# Найти 2 * a - 3 * b:\n",
    "a = np.array([1, 0, 3])\n",
    "b = np.array([0, 2, 1])\n",
    "2 * a - 3 * b"
   ]
  },
  {
   "cell_type": "code",
   "execution_count": 3,
   "metadata": {},
   "outputs": [
    {
     "data": {
      "text/plain": [
       "0.008333333333333333"
      ]
     },
     "execution_count": 3,
     "metadata": {},
     "output_type": "execute_result"
    }
   ],
   "source": [
    "# Пятитомное собрание сочинений расположено на полке в случайном порядке. \n",
    "# Какова вероятность того, что книги стоят слева направо в порядке нумерации томов (от 1 до 5)?\n",
    "\n",
    "1 / np.prod(range(1, 6))"
   ]
  },
  {
   "cell_type": "code",
   "execution_count": 4,
   "metadata": {},
   "outputs": [
    {
     "data": {
      "text/plain": [
       "0.8499999999999999"
      ]
     },
     "execution_count": 4,
     "metadata": {},
     "output_type": "execute_result"
    }
   ],
   "source": [
    "# В пирамиде 5 винтовок, три из которых снабжены оптическим прицелом.\n",
    "\n",
    "# Вероятность того, что стрелок поразит мишень при выстреле из винтовки с оптическим прицелом, равна 0,95;\n",
    "# для винтовки без оптического прицела эта вероятность равна 0,7.\n",
    "# Найти вероятность того, что мишень будет поражена, если стрелок производит один выстрел из наудачу взятой винтовки.\n",
    "\n",
    "Pa = 0.95\n",
    "Pb = 0.7\n",
    "\n",
    "a = 3 / 5\n",
    "b = 2 / 5\n",
    "\n",
    "Pa * a + Pb * b"
   ]
  },
  {
   "cell_type": "code",
   "execution_count": 5,
   "metadata": {},
   "outputs": [
    {
     "name": "stdout",
     "output_type": "stream",
     "text": [
      "3.1622776601683795\n",
      "3.1622776601683795\n"
     ]
    }
   ],
   "source": [
    "# Измерение некой величины дало результаты:\n",
    "# 1, 5, 2, 7, 1, 9, 3, 8, 5, 9\n",
    "# Рассчитайте стандартное (среднеквадратическое) отклонение данных выборочных значений.\n",
    "# Не забудьте о необходимости нормировать дисперсию и стандартное отклонение для выборочных (экспериментальных, а не теоретических) значений на степень свободы.\n",
    "\n",
    "a = np.array([1, 5, 2, 7, 1, 9, 3, 8, 5, 9])\n",
    "n = len(a)\n",
    "\n",
    "Sx = np.sqrt(sum(np.square(a - a.mean())) / (n - 1))\n",
    "print(Sx)\n",
    "\n",
    "Sx = np.std(a, ddof=1)\n",
    "print(Sx)"
   ]
  },
  {
   "cell_type": "code",
   "execution_count": 6,
   "metadata": {},
   "outputs": [
    {
     "name": "stdout",
     "output_type": "stream",
     "text": [
      "0.8600000000000001\n",
      "0.372093023255814\n"
     ]
    }
   ],
   "source": [
    "# На склад поступило 2 партии изделий:\n",
    "# первая – 4000 штук,\n",
    "# вторая – 6000 штук.\n",
    "# Средний процент нестандартных изделий в первой партии составляет 20%, а во второй – 10%. \n",
    "# Наудачу взятое со склада изделие оказалось стандартным. \n",
    "# Найти вероятность того, что оно из первой партии.\n",
    "\n",
    "P1 = 4000 / (4000 + 6000)\n",
    "P2 = 6000 / (4000 + 6000)\n",
    "\n",
    "P1_pos = 0.8\n",
    "P2_pos = 0.9\n",
    "\n",
    "P_pos = P1_pos * P1 + P2_pos * P2 # - полная вероятность того, что деталь окажется стандартной без учета принадлежности к конкретной партии\n",
    "print(P_pos)\n",
    "\n",
    "P_pos_1 = P1_pos * P1 / P_pos\n",
    "print(P_pos_1)"
   ]
  },
  {
   "cell_type": "markdown",
   "metadata": {},
   "source": [
    "# 2.2 Математические операции"
   ]
  },
  {
   "cell_type": "code",
   "execution_count": 7,
   "metadata": {},
   "outputs": [
    {
     "name": "stdout",
     "output_type": "stream",
     "text": [
      "15\n",
      "10.825317547305483\n"
     ]
    }
   ],
   "source": [
    "# Даны длины 3 сторон треугольника (каждая с новой строки).\n",
    "\n",
    "a, b, c = 5, 5, 5\n",
    "\n",
    "P = a + b + c # Периметр\n",
    "p = P / 2     # Полупериметр\n",
    "\n",
    "S = (p * (p - a) * (p - b) * (p - c)) ** 0.5 # Формула Герона\n",
    "\n",
    "print(P)\n",
    "print(S)"
   ]
  },
  {
   "cell_type": "code",
   "execution_count": 16,
   "metadata": {},
   "outputs": [
    {
     "name": "stdout",
     "output_type": "stream",
     "text": [
      "11\n",
      "11.4\n",
      "11.375\n"
     ]
    }
   ],
   "source": [
    "# Даны длины 2 диагоналей ромба (каждая с новой строки).\n",
    "# Значения могут быть дробными.\n",
    "\n",
    "# Найдите площадь ромба S. В качестве ответа запишите (каждое с новой строки) следующие значения:\n",
    "# S, приведённое к целочисленному типу\n",
    "# S, округлённое до 1 знака после запятой с помощью функции  round()\n",
    "# S, точное значение без округления\n",
    "\n",
    "a, b = 3.5, 6.5\n",
    "\n",
    "\n",
    "\n",
    "S = a * b / 2\n",
    "\n",
    "print(int(S))\n",
    "print(round(S, 1))\n",
    "print(S)"
   ]
  },
  {
   "cell_type": "code",
   "execution_count": 27,
   "metadata": {},
   "outputs": [
    {
     "name": "stdout",
     "output_type": "stream",
     "text": [
      "34414\n"
     ]
    }
   ],
   "source": [
    "# Нарисован правильный шестиугольник со стороной a.\n",
    "\n",
    "# К 5 сторонам этого шестиугольника снаружи дорисовали по правильному треугольнику.\n",
    "\n",
    "a = 85\n",
    "\n",
    "S3 = ((a * a) * 3 ** 0.5) / 4\n",
    "S6 = (3 * 3 ** 0.5 * (a * a)) / 2\n",
    "\n",
    "S = S6 + 5 * S3\n",
    "print(round(S))"
   ]
  },
  {
   "cell_type": "code",
   "execution_count": 30,
   "metadata": {},
   "outputs": [
    {
     "name": "stdout",
     "output_type": "stream",
     "text": [
      "400\n"
     ]
    }
   ],
   "source": [
    "# На плоскости нарисован правильный шестиугольник с длиной стороны a.\n",
    "\n",
    "# У 3 сторон шестиугольника нарисовали по квадрату с длиной стороны, равной стороне шестиугольника.\n",
    "\n",
    "# Оставшиеся 3 стороны разделили пополам, после чего нарисовали по равностороннему треугольнику, касающемуся каждого из получившихся половинных отрезков.\n",
    "\n",
    "a = 8\n",
    "\n",
    "b = a / 2\n",
    "S3 = ((b * b) * 3 ** 0.5) / 4\n",
    "S4 = a * a\n",
    "S6 = (3 * 3 ** 0.5 * (a * a)) / 2\n",
    "\n",
    "S = S6 + 3 * S4 + 6 * S3\n",
    "print(round(S))"
   ]
  },
  {
   "cell_type": "code",
   "execution_count": 45,
   "metadata": {},
   "outputs": [
    {
     "name": "stdout",
     "output_type": "stream",
     "text": [
      "82.58\n",
      "61.3\n"
     ]
    }
   ],
   "source": [
    "a = 2\n",
    "\n",
    "\n",
    "S = 3 * a ** 2 * (5 * (5 + 2 * 5 ** 0.5)) ** 0.5\n",
    "V = a ** 3 / 4 * (15 + 7 * 5 ** 0.5)\n",
    "\n",
    "print(round(S, 2))\n",
    "print(round(V, 2))"
   ]
  },
  {
   "cell_type": "code",
   "execution_count": 46,
   "metadata": {},
   "outputs": [
    {
     "name": "stdout",
     "output_type": "stream",
     "text": [
      "2 2 2 2\n"
     ]
    }
   ],
   "source": [
    "L, v1, v2, vm = [int(input()) for _ in range(4)]\n",
    "\n",
    "print(L, v1, v2, vm)"
   ]
  },
  {
   "cell_type": "code",
   "execution_count": 47,
   "metadata": {},
   "outputs": [],
   "source": [
    "i = 0\n",
    "while i <= 10:\n",
    "    i = i + 1\n",
    "    if i > 7:\n",
    "        i = i + 2"
   ]
  },
  {
   "cell_type": "code",
   "execution_count": 48,
   "metadata": {},
   "outputs": [
    {
     "data": {
      "text/plain": [
       "13"
      ]
     },
     "execution_count": 48,
     "metadata": {},
     "output_type": "execute_result"
    }
   ],
   "source": [
    "i"
   ]
  },
  {
   "cell_type": "code",
   "execution_count": null,
   "metadata": {},
   "outputs": [],
   "source": []
  }
 ],
 "metadata": {
  "kernelspec": {
   "display_name": "base",
   "language": "python",
   "name": "python3"
  },
  "language_info": {
   "codemirror_mode": {
    "name": "ipython",
    "version": 3
   },
   "file_extension": ".py",
   "mimetype": "text/x-python",
   "name": "python",
   "nbconvert_exporter": "python",
   "pygments_lexer": "ipython3",
   "version": "3.11.11"
  }
 },
 "nbformat": 4,
 "nbformat_minor": 2
}
