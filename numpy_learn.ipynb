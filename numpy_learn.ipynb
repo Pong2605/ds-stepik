{
 "cells": [
  {
   "cell_type": "code",
   "execution_count": 65,
   "metadata": {},
   "outputs": [],
   "source": [
    "import numpy as np"
   ]
  },
  {
   "cell_type": "code",
   "execution_count": 66,
   "metadata": {},
   "outputs": [
    {
     "name": "stdout",
     "output_type": "stream",
     "text": [
      "[-5.         -3.88888889 -2.77777778 -1.66666667 -0.55555556  0.55555556\n",
      "  1.66666667  2.77777778  3.88888889  5.        ]\n"
     ]
    }
   ],
   "source": [
    "print(np.linspace(-5, 5, 10))"
   ]
  },
  {
   "cell_type": "code",
   "execution_count": 67,
   "metadata": {},
   "outputs": [
    {
     "name": "stdout",
     "output_type": "stream",
     "text": [
      "[3 6 9]\n",
      "[3 6 9]\n"
     ]
    }
   ],
   "source": [
    "# a, b = map(int, input().split())\n",
    "a, b = 2, 9\n",
    "arr = np.array(list(i for i in range(a, b + 1) if i % 3 == 0))\n",
    "print(arr)\n",
    "arr = np.arange(a, b + 1)\n",
    "arr = arr[arr % 3 == 0]\n",
    "print(arr)"
   ]
  },
  {
   "cell_type": "code",
   "execution_count": 68,
   "metadata": {},
   "outputs": [
    {
     "data": {
      "text/plain": [
       "array([0.85888927, 0.37271115, 0.55512878, 0.95565655, 0.7366696 ,\n",
       "       0.81620514])"
      ]
     },
     "execution_count": 68,
     "metadata": {},
     "output_type": "execute_result"
    }
   ],
   "source": [
    "np.random.seed(32)\n",
    "# n = int(input())\n",
    "n = 6\n",
    "arr = np.random.rand(n)\n",
    "arr"
   ]
  },
  {
   "cell_type": "code",
   "execution_count": 69,
   "metadata": {},
   "outputs": [
    {
     "name": "stdout",
     "output_type": "stream",
     "text": [
      "[2, 3, 5]\n"
     ]
    }
   ],
   "source": [
    "n = 3\n",
    "arr = []\n",
    "for i in range(0, n + 100): \n",
    "    if i > 1: \n",
    "        for j in range(2, i):\n",
    "            if(i % j) == 0: \n",
    "                break \n",
    "        else:\n",
    "            if len(arr) < n:\n",
    "                arr.append(i)\n",
    "print(arr)"
   ]
  },
  {
   "cell_type": "code",
   "execution_count": 70,
   "metadata": {},
   "outputs": [
    {
     "name": "stdout",
     "output_type": "stream",
     "text": [
      "[2, 3, 5, 7, 11, 13, 17, 19, 23, 29]\n"
     ]
    }
   ],
   "source": [
    "n = 10\n",
    "i = 2\n",
    "arr = []\n",
    "while len(arr) < n:\n",
    "    for j in range(2, i):\n",
    "        if(i % j) == 0: \n",
    "                break\n",
    "    else:\n",
    "         arr.append(i)\n",
    "    i += 1\n",
    "print(arr)"
   ]
  },
  {
   "cell_type": "code",
   "execution_count": 71,
   "metadata": {},
   "outputs": [
    {
     "data": {
      "text/plain": [
       "array([-0.2])"
      ]
     },
     "execution_count": 71,
     "metadata": {},
     "output_type": "execute_result"
    }
   ],
   "source": [
    "# a, b = map(float, input().split())\n",
    "a, b = 0.22, 2.0\n",
    "\n",
    "np.round(np.arange(-1*a, a+0.001, b), 1)"
   ]
  },
  {
   "cell_type": "code",
   "execution_count": 72,
   "metadata": {},
   "outputs": [
    {
     "data": {
      "text/plain": [
       "array([0.        , 0.78539816, 1.57079633, 2.35619449, 3.14159265])"
      ]
     },
     "execution_count": 72,
     "metadata": {},
     "output_type": "execute_result"
    }
   ],
   "source": [
    "b = 5\n",
    "arr = np.linspace(0, np.pi, b)\n",
    "arr"
   ]
  },
  {
   "cell_type": "code",
   "execution_count": 73,
   "metadata": {},
   "outputs": [
    {
     "name": "stdout",
     "output_type": "stream",
     "text": [
      "object\n",
      "4\n",
      "(4,)\n"
     ]
    }
   ],
   "source": [
    "import numpy as np\n",
    "arr=np.array([1, 2, '3', {'key1':66}])\n",
    "\n",
    "print(arr.dtype)\n",
    "print(arr.size)\n",
    "print(arr.shape)"
   ]
  },
  {
   "cell_type": "code",
   "execution_count": 74,
   "metadata": {},
   "outputs": [
    {
     "data": {
      "text/plain": [
       "(3, 4, 2)"
      ]
     },
     "execution_count": 74,
     "metadata": {},
     "output_type": "execute_result"
    }
   ],
   "source": [
    "# 3, 4, 2\n",
    "arr = np.array([[[1, 2], [3, 4], [5, 6], [7, 8]],\n",
    "\n",
    "                [[9, 10], [11, 12], [13, 14], [15, 16]],\n",
    "                \n",
    "                [[17, 18], [19, 20], [21, 22], [23, 24]]])\n",
    "arr.shape"
   ]
  },
  {
   "cell_type": "code",
   "execution_count": 75,
   "metadata": {},
   "outputs": [
    {
     "data": {
      "text/plain": [
       "(256, 256, 3)"
      ]
     },
     "execution_count": 75,
     "metadata": {},
     "output_type": "execute_result"
    }
   ],
   "source": [
    "arr = np.empty([256, 256, 3])\n",
    "arr.shape"
   ]
  },
  {
   "cell_type": "code",
   "execution_count": 76,
   "metadata": {},
   "outputs": [
    {
     "name": "stdout",
     "output_type": "stream",
     "text": [
      "(256, 256, 1) (256, 256, 1) (256, 256, 1)\n"
     ]
    }
   ],
   "source": [
    "arr1, arr2, arr3 = np.array_split(arr, 3, axis=2)\n",
    "print(arr1.shape, arr2.shape, arr3.shape)"
   ]
  },
  {
   "cell_type": "code",
   "execution_count": 77,
   "metadata": {},
   "outputs": [
    {
     "data": {
      "text/plain": [
       "(3, 256, 256)"
      ]
     },
     "execution_count": 77,
     "metadata": {},
     "output_type": "execute_result"
    }
   ],
   "source": [
    "arr1 = np.squeeze(arr1)\n",
    "arr2 = np.squeeze(arr2)\n",
    "arr3 = np.squeeze(arr3)\n",
    "\n",
    "arr1 = np.expand_dims(arr1, axis=0)\n",
    "arr2 = np.expand_dims(arr2, axis=0)\n",
    "arr3 = np.expand_dims(arr3, axis=0)\n",
    "\n",
    "np.concatenate([arr1, arr2, arr3]).shape"
   ]
  },
  {
   "cell_type": "markdown",
   "metadata": {},
   "source": [
    "# 1.5 Добавление и удаление элементов."
   ]
  },
  {
   "cell_type": "code",
   "execution_count": 78,
   "metadata": {},
   "outputs": [
    {
     "name": "stdout",
     "output_type": "stream",
     "text": [
      "Размер data: (1000, 28, 28)\n",
      "Размер arr1: (50, 28, 28)\n",
      "Размер arr2: (28, 28)\n"
     ]
    }
   ],
   "source": [
    "data = np.empty([1000, 28, 28])\n",
    "arr1 = np.empty([50, 28, 28])\n",
    "arr2 = np.empty([28, 28])\n",
    "\n",
    "print(f'Размер data: {data.shape}')\n",
    "print(f'Размер arr1: {arr1.shape}')\n",
    "print(f'Размер arr2: {arr2.shape}')"
   ]
  },
  {
   "cell_type": "code",
   "execution_count": 79,
   "metadata": {},
   "outputs": [
    {
     "name": "stdout",
     "output_type": "stream",
     "text": [
      "Размер new_data1: (823200,)\n",
      "Размер new_data2: (1050, 28, 28)\n",
      "Размер new_data3: (50, 28, 56)\n",
      "Размер new_data4: (1001, 28, 28)\n"
     ]
    }
   ],
   "source": [
    "# Добавление элементов\n",
    "\n",
    "new_data1 = np.append(data, arr1) # - одномерный массив\n",
    "new_data2 = np.append(data, arr1, axis=0) # - многомерный, объединенрие по нулевой оси\n",
    "new_data3 = np.append(arr1, arr1, axis=2) # - многомерный, объединенрие по второй оси\n",
    "new_data4 = np.append(data, arr2[np.newaxis], axis=0) # - добавление одного элемента с предварительным добавлением оси\n",
    "\n",
    "print(f'Размер new_data1: {new_data1.shape}')\n",
    "print(f'Размер new_data2: {new_data2.shape}')\n",
    "print(f'Размер new_data3: {new_data3.shape}')\n",
    "print(f'Размер new_data4: {new_data4.shape}')"
   ]
  },
  {
   "cell_type": "code",
   "execution_count": 80,
   "metadata": {},
   "outputs": [
    {
     "name": "stdout",
     "output_type": "stream",
     "text": [
      "(1001, 28, 28)\n",
      "(1000, 28, 28)\n"
     ]
    }
   ],
   "source": [
    "# Удаление элементов по индексу\n",
    "\n",
    "print(new_data4.shape)\n",
    "\n",
    "new_data4 = np.delete(new_data4, 1000, axis=0)\n",
    "\n",
    "print(new_data4.shape)"
   ]
  },
  {
   "cell_type": "code",
   "execution_count": 81,
   "metadata": {},
   "outputs": [
    {
     "data": {
      "text/plain": [
       "(15, 28, 28)"
      ]
     },
     "execution_count": 81,
     "metadata": {},
     "output_type": "execute_result"
    }
   ],
   "source": [
    "# В программе созданы два массива с картинками 28 на 28 пикселей. \n",
    "# Массивы записаны в переменные arr_1 и arr_2. \n",
    "# Массив arr_1 имеет размер (10, 28, 28), а массив arr_2 имеет размер (5, 28, 28). \n",
    "# К картинкам из arr_1 добавьте картинки из arr_2.\n",
    "\n",
    "# Результат запишите в переменную new_arr.\n",
    "\n",
    "arr_1 = np.empty([10, 28, 28])\n",
    "arr_2 = np.empty([5, 28, 28])\n",
    "\n",
    "new_arr = np.append(arr_1, arr_2, axis=0)\n",
    "\n",
    "new_arr.shape"
   ]
  },
  {
   "cell_type": "code",
   "execution_count": 82,
   "metadata": {},
   "outputs": [
    {
     "data": {
      "text/plain": [
       "(11, 28, 28)"
      ]
     },
     "execution_count": 82,
     "metadata": {},
     "output_type": "execute_result"
    }
   ],
   "source": [
    "# В программе созданы два массива и записаны в переменные arr_1 и arr_2. \n",
    "# Массив arr_1 имеет размер (10, 28, 28), 10 картинок 28 на 28 пикселей. \n",
    "# Массив arr_2 имеет размер (28, 28), содержит одну картинку. \n",
    "# К картинкам из arr_1 добавьте картинку arr_2.\n",
    "\n",
    "# Результат запишите в переменную new_arr.\n",
    "\n",
    "arr_1 = np.empty([10, 28, 28])\n",
    "arr_2 = np.empty([28, 28])\n",
    "\n",
    "new_arr = np.append(arr_1, arr_2[np.newaxis], axis=0)\n",
    "\n",
    "new_arr.shape"
   ]
  },
  {
   "cell_type": "code",
   "execution_count": 83,
   "metadata": {},
   "outputs": [
    {
     "data": {
      "text/plain": [
       "(10, 28, 28, 3)"
      ]
     },
     "execution_count": 83,
     "metadata": {},
     "output_type": "execute_result"
    }
   ],
   "source": [
    "# В программе созданы два массива и записаны в переменные arr_1 и arr_2. \n",
    "# Массив arr_1 имеет размер (10, 28, 28, 2), 10 картинок 28 на 28 пикселей с двумя цветовыми каналами G и B. \n",
    "# Массив arr_2 имеет размер (10, 28, 28, 1), 10 картинок 28 на 28 пикселей с одним цветовым каналом R. \n",
    "# Добавьте один массив к другому так, чтобы получить 10 картинок с тремя цветовыми каналами RGB.\n",
    "\n",
    "# Результат запишите в переменную new_arr.\n",
    "\n",
    "arr_1 = np.empty([10, 28, 28, 2])\n",
    "arr_2 = np.empty([10, 28, 28, 1])\n",
    "\n",
    "new_arr = np.append(arr_2, arr_1, axis=3) # - arr_2 + arr_1, потому что RGB (не GBR)\n",
    "\n",
    "new_arr.shape"
   ]
  },
  {
   "cell_type": "code",
   "execution_count": 84,
   "metadata": {},
   "outputs": [
    {
     "name": "stdout",
     "output_type": "stream",
     "text": [
      "(10, 28, 28)\n",
      "(9, 28, 28)\n"
     ]
    }
   ],
   "source": [
    "# В программе создан массив записан в переменную arr. Удалите последний элемент на нулевой оси.\n",
    "\n",
    "# Результат запишите в переменную new_arr.\n",
    "\n",
    "arr = np.empty([10, 28, 28])\n",
    "\n",
    "print(arr.shape)\n",
    "\n",
    "new_arr = np.delete(arr, -1, axis=0)\n",
    "\n",
    "print(new_arr.shape)"
   ]
  },
  {
   "cell_type": "code",
   "execution_count": 85,
   "metadata": {},
   "outputs": [
    {
     "name": "stdout",
     "output_type": "stream",
     "text": [
      "(10, 28, 28)\n",
      "(10, 28, 25)\n"
     ]
    }
   ],
   "source": [
    "# В программе создан массив записан в переменную arr. Удалите элементы с индексами 1, 3, 5 на последней оси.\n",
    "\n",
    "# Результат запишите в переменную new_arr.\n",
    "\n",
    "arr = np.empty([10, 28, 28])\n",
    "\n",
    "print(arr.shape)\n",
    "\n",
    "new_arr = np.delete(arr, [1, 3, 5], axis=-1)\n",
    "\n",
    "print(new_arr.shape)"
   ]
  },
  {
   "cell_type": "code",
   "execution_count": 86,
   "metadata": {},
   "outputs": [
    {
     "name": "stdout",
     "output_type": "stream",
     "text": [
      "(10, 28, 25)\n"
     ]
    }
   ],
   "source": [
    "delete_items = (1, 3, 5)\n",
    "new_arr = np.delete(arr=arr, obj=delete_items, axis=arr.ndim - 1)\n",
    "\n",
    "print(new_arr.shape)"
   ]
  },
  {
   "cell_type": "code",
   "execution_count": 87,
   "metadata": {},
   "outputs": [
    {
     "name": "stdout",
     "output_type": "stream",
     "text": [
      "Размер картинки (28, 28)\n"
     ]
    }
   ],
   "source": [
    "img = np.random.randint(0, 255, 28*28).reshape([28, 28]) # - генерация картинки 28 на 28 пикселей\n",
    "print(f'Размер картинки {img.shape}')"
   ]
  },
  {
   "cell_type": "code",
   "execution_count": 88,
   "metadata": {},
   "outputs": [
    {
     "name": "stdout",
     "output_type": "stream",
     "text": [
      "(110, 28, 28)\n"
     ]
    }
   ],
   "source": [
    "# Множественное добавление картинок в массив картинок\n",
    "\n",
    "# Копирует каждый раз существующий массив, выделяя память на него, и добавляет к нему новый элемент (долго)\n",
    "\n",
    "arr = np.empty([100, 28, 28]) # - имеется массив 100 картинок\n",
    "\n",
    "for i in range(10):\n",
    "    img = np.random.randint(0, 255, 28*28).reshape([28, 28])\n",
    "    arr = np.append(arr, img[np.newaxis], axis=0)\n",
    "\n",
    "print(arr.shape)"
   ]
  },
  {
   "cell_type": "code",
   "execution_count": 89,
   "metadata": {},
   "outputs": [
    {
     "name": "stdout",
     "output_type": "stream",
     "text": [
      "(110, 28, 28)\n"
     ]
    }
   ],
   "source": [
    "# Множественное добавление картинок в массив картинок\n",
    "\n",
    "# Изменяет существующий массив (быстрее)\n",
    "\n",
    "arr = np.empty([100, 28, 28]) # - имеется массив 100 картинок\n",
    "arr.resize([100 + 10, 28, 28]) # - расширение массива (10 элементов заполняется нулями)\n",
    "\n",
    "for i in range(10):\n",
    "    img = np.random.randint(0, 255, 28*28).reshape([28, 28])\n",
    "    arr[100 + i] = img\n",
    "\n",
    "print(arr.shape)"
   ]
  },
  {
   "cell_type": "markdown",
   "metadata": {},
   "source": [
    "# 1.6 Индексация и срезы."
   ]
  },
  {
   "cell_type": "code",
   "execution_count": 90,
   "metadata": {},
   "outputs": [
    {
     "name": "stdout",
     "output_type": "stream",
     "text": [
      "(10, 28, 28)\n",
      "(28, 28)\n"
     ]
    }
   ],
   "source": [
    "# В программе создан массив с наборам картинок и записан в переменную arr. \n",
    "# Размер массива (10, 28, 28), 10 картинок 28 на 28 пикселей​​. \n",
    "\n",
    "# Картинку с индексом 5 запишите в переменную img.\n",
    "\n",
    "arr = np.arange(7840).reshape(10, 28 ,28)\n",
    "\n",
    "print(arr.shape)\n",
    "\n",
    "img = arr[5]\n",
    "\n",
    "print(img.shape)"
   ]
  },
  {
   "cell_type": "code",
   "execution_count": 91,
   "metadata": {},
   "outputs": [
    {
     "name": "stdout",
     "output_type": "stream",
     "text": [
      "(10, 3)\n",
      "12\n"
     ]
    }
   ],
   "source": [
    "# В программе создан массив содержащий координаты точек и записан в переменную coord. \n",
    "# Размер массива (10, 3), 10 точек с тремя координатами X, Y, Z​​. \n",
    "# Получите значение координаты X у точки с индексом 4.\n",
    "\n",
    "# Результат запишите в переменную coord_X.\n",
    "\n",
    "coord = np.arange(30).reshape(10, 3)\n",
    "\n",
    "print(coord.shape)\n",
    "\n",
    "coord_X = coord[4, 0]\n",
    "\n",
    "print(coord_X)"
   ]
  },
  {
   "cell_type": "code",
   "execution_count": 92,
   "metadata": {},
   "outputs": [
    {
     "name": "stdout",
     "output_type": "stream",
     "text": [
      "(100, 28, 28)\n",
      "(10, 28, 28)\n"
     ]
    }
   ],
   "source": [
    "# В программе создан массив с наборам картинок и записан в переменную img. \n",
    "# Размер массива (100, 28, 28), 100 картинок 28 на 28 пикселей​​. \n",
    "# Получите изображения с индексами с 1 по 10 включительно. \n",
    "\n",
    "# Результат запишите в переменную new_img.\n",
    "\n",
    "img = np.arange(100 * 28 * 28).reshape(100, 28, 28)\n",
    "\n",
    "print(img.shape)\n",
    "\n",
    "new_img = img[1:11, :, :]\n",
    "new_img = img[1:11]\n",
    "\n",
    "print(new_img.shape)"
   ]
  },
  {
   "cell_type": "code",
   "execution_count": 93,
   "metadata": {},
   "outputs": [
    {
     "name": "stdout",
     "output_type": "stream",
     "text": [
      "(100, 28, 28)\n",
      "(17, 28, 28)\n"
     ]
    }
   ],
   "source": [
    "# В программе создан массив с наборам картинок и записан в переменную img. \n",
    "# Размер массива (100, 28, 28), 100 картинок 28 на 28 пикселей​​. \n",
    "# Получите изображения с индексами с 1 по 50 включительно, с шагом 3. \n",
    "\n",
    "# Результат запишите в переменную new_img.\n",
    "\n",
    "img = np.arange(100 * 28 * 28).reshape(100, 28, 28)\n",
    "\n",
    "print(img.shape)\n",
    "\n",
    "new_img = img[1:51:3]\n",
    "\n",
    "print(new_img.shape)"
   ]
  },
  {
   "cell_type": "code",
   "execution_count": 94,
   "metadata": {},
   "outputs": [],
   "source": [
    "# В программе создан массив с наборам картинок и записан в переменную img. \n",
    "# Размер массива (100, 28, 28), 100 картинок 28 на 28 пикселей​​. \n",
    "# Разделите массив на четыре равные части, по 25 картинок в каждом.\n",
    "\n",
    "# Результат запишите в переменные img_1, img_2, img_3, img_4.\n",
    "\n",
    "img = np.arange(100 * 28 * 28).reshape(100, 28, 28)\n",
    "\n",
    "img_1 = img[:25]\n",
    "img_2 = img[25:50]\n",
    "img_3 = img[50:75]\n",
    "img_4 = img[75:100]\n",
    "\n",
    "img_1, img_2, img_3, img_4 = [img[i: i + 25] for i in range(0, 76, 25)]\n",
    "\n",
    "img_1, img_2, img_3, img_4 = np.array_split(img, 4)"
   ]
  },
  {
   "cell_type": "code",
   "execution_count": 96,
   "metadata": {},
   "outputs": [],
   "source": [
    "# В программе создан массив с картинкой и записан в переменную img. \n",
    "# Размер массива (256, 256, 3), картинка 256 на 256 пикселей​​ с тремя цветовыми каналами RGB. \n",
    "# Получите фрагмент картинки с размерами по высоте начиная с индекса 10 до 100 включительно, \n",
    "# по ширине начиная с индекса 50 до 110 включительно. \n",
    "\n",
    "# Нулевая ось - высота\\строки.\n",
    "# Первая ось - ширина\\столбцы.\n",
    "\n",
    "# Фрагмент картинки запишите в переменную new_img.\n",
    "\n",
    "img = np.arange(256 * 256 * 3).reshape(256, 256, 3)\n",
    "\n",
    "new_img = img[10:101, 50:111]"
   ]
  },
  {
   "cell_type": "code",
   "execution_count": 99,
   "metadata": {},
   "outputs": [
    {
     "name": "stdout",
     "output_type": "stream",
     "text": [
      "(50, 100, 3)\n",
      "(50, 100, 3)\n"
     ]
    }
   ],
   "source": [
    "# В программе создан массив с картинкой и записан в переменную img. \n",
    "# Размер массива (256, 256, 3), картинка 256 на 256 пикселей​​ с тремя цветовыми каналами RGB. \n",
    "# Получите фрагмент картинки высотой 50 пикселей и шириной 100 пикселей, \n",
    "# начиная с пикселя индекс которого 10 по высоте и 20 по ширине.\n",
    "\n",
    "# Нулевая ось - высота\\строки.\n",
    "# Первая ось - ширина\\столбцы.\n",
    "\n",
    "# Фрагмент картинки запишите в переменную new_img.\n",
    "\n",
    "img = np.arange(256 * 256 * 3).reshape(256, 256, 3)\n",
    "\n",
    "new_img = img[:50, :100]\n",
    "print(new_img.shape)\n",
    "\n",
    "new_img = img[10:60, 20:120]\n",
    "print(new_img.shape)"
   ]
  },
  {
   "cell_type": "code",
   "execution_count": 104,
   "metadata": {},
   "outputs": [
    {
     "name": "stdout",
     "output_type": "stream",
     "text": [
      "(50, 100, 2)\n",
      "(50, 100, 2)\n"
     ]
    }
   ],
   "source": [
    "# В программе создан массив с картинкой и записан в переменную img. \n",
    "# Размер массива (256, 256, 3), картинка 256 на 256 пикселей​​ с тремя цветовыми каналами RGB. \n",
    "# Получите фрагмент картинки высотой 50 пикселей, шириной 100 пикселей, \n",
    "# начиная с пикселя индекс которого 100 по высоте и 50 по ширине, только R и B цветовые каналы.\n",
    "\n",
    "# Нулевая ось - высота\\строки.\n",
    "# Первая ось - ширина\\столбцы.\n",
    "\n",
    "# Фрагмент картинки запишите в переменную new_img.\n",
    "\n",
    "img = np.arange(256 * 256 * 3).reshape(256, 256, 3)\n",
    "\n",
    "new_img = img[100: 100+50, 50: 50+100, [0, 2]]\n",
    "print(new_img.shape)\n",
    "\n",
    "new_img = img[100: 100+50, 50: 50+100, [True, False, True]]\n",
    "print(new_img.shape)\n"
   ]
  },
  {
   "cell_type": "code",
   "execution_count": 125,
   "metadata": {},
   "outputs": [
    {
     "name": "stdout",
     "output_type": "stream",
     "text": [
      "[[0 0 0 0 0]\n",
      " [0 0 0 0 0]\n",
      " [0 0 0 0 0]\n",
      " [0 0 0 0 0]\n",
      " [0 0 0 0 0]]\n",
      "\n",
      "[[1 0 1 0 1]\n",
      " [1 0 1 0 1]\n",
      " [1 0 1 0 1]\n",
      " [1 0 1 0 1]\n",
      " [1 0 1 0 1]]\n",
      "\n",
      "[[0 0 0 0 0]\n",
      " [0 0 0 0 0]\n",
      " [0 0 0 0 0]\n",
      " [0 0 0 0 0]\n",
      " [0 0 0 0 0]]\n"
     ]
    }
   ],
   "source": [
    "# Создайте массив размером (5, 5) состоящий из нулей и типом данных int8. \n",
    "# Строки массива заполните единицами с шагом в два.\n",
    "\n",
    "# Результат запишите в переменную new_arr.\n",
    "\n",
    "arr = np.zeros([5, 5], dtype='int8')\n",
    "print(arr)\n",
    "\n",
    "print()\n",
    "\n",
    "new_arr = arr.copy()\n",
    "new_arr[:, ::2] = 1\n",
    "print(new_arr)\n",
    "\n",
    "print()\n",
    "\n",
    "print(arr)"
   ]
  },
  {
   "cell_type": "code",
   "execution_count": 128,
   "metadata": {},
   "outputs": [
    {
     "name": "stdout",
     "output_type": "stream",
     "text": [
      "[[0 0 0 0 0]\n",
      " [0 0 0 0 0]\n",
      " [0 0 0 0 0]\n",
      " [0 0 0 0 0]\n",
      " [0 0 0 0 0]]\n",
      "\n",
      "[[0 1 0 1 0]\n",
      " [0 1 0 1 0]\n",
      " [0 1 0 1 0]\n",
      " [0 1 0 1 0]\n",
      " [0 1 0 1 0]]\n"
     ]
    }
   ],
   "source": [
    "# Создайте массив размером (5, 5) состоящий из нулей и типом данных int8. \n",
    "# Элементы строк заполните единицами начиная с индекса 1 и с шагом в два.\n",
    "\n",
    "# Результат запишите в переменную new_arr.\n",
    "\n",
    "arr = np.zeros([5, 5], dtype='int8')\n",
    "print(arr)\n",
    "\n",
    "print()\n",
    "\n",
    "new_arr = arr.copy()\n",
    "new_arr[:, 1::2] = 1\n",
    "print(new_arr)"
   ]
  },
  {
   "cell_type": "code",
   "execution_count": 144,
   "metadata": {},
   "outputs": [
    {
     "name": "stdout",
     "output_type": "stream",
     "text": [
      "[1 1 1 1 1 1 1 1 1 1 1 1 1 1 1 1 1 1 1 1 1 1 1 1 1]\n",
      "\n",
      "[[0 1 0 1 0]\n",
      " [1 0 1 0 1]\n",
      " [0 1 0 1 0]\n",
      " [1 0 1 0 1]\n",
      " [0 1 0 1 0]]\n"
     ]
    }
   ],
   "source": [
    "# Создайте массив размером (5, 5) состоящий из единиц и типом данных int8. \n",
    "# Элементы массива заполните нулями в шахматном порядке.\n",
    "\n",
    "arr = np.ones([5, 5], dtype='int8').ravel()\n",
    "print(arr)\n",
    "\n",
    "print()\n",
    "\n",
    "new_arr = arr.copy()\n",
    "new_arr[::2] = 0\n",
    "new_arr = new_arr.reshape(5, 5)\n",
    "\n",
    "print(new_arr)"
   ]
  },
  {
   "cell_type": "code",
   "execution_count": 145,
   "metadata": {},
   "outputs": [
    {
     "name": "stdout",
     "output_type": "stream",
     "text": [
      "[[1 1 1 1 1]\n",
      " [1 1 1 1 1]\n",
      " [1 1 1 1 1]\n",
      " [1 1 1 1 1]\n",
      " [1 1 1 1 1]]\n",
      "\n",
      "[[0 1 0 1 0]\n",
      " [1 1 1 1 1]\n",
      " [0 1 0 1 0]\n",
      " [1 1 1 1 1]\n",
      " [0 1 0 1 0]]\n",
      "\n",
      "[[0 1 0 1 0]\n",
      " [1 0 1 0 1]\n",
      " [0 1 0 1 0]\n",
      " [1 0 1 0 1]\n",
      " [0 1 0 1 0]]\n",
      "\n"
     ]
    }
   ],
   "source": [
    "new_arr = np.ones([5, 5], dtype=np.int8)\n",
    "print(new_arr)\n",
    "print()\n",
    "\n",
    "new_arr[::2, ::2] = 0\n",
    "print(new_arr)\n",
    "print()\n",
    "\n",
    "new_arr[1::2, 1::2] = 0\n",
    "print(new_arr)\n",
    "print()"
   ]
  },
  {
   "cell_type": "code",
   "execution_count": 170,
   "metadata": {},
   "outputs": [
    {
     "name": "stdout",
     "output_type": "stream",
     "text": [
      "[[ 9 41 84 30 61]\n",
      " [60 60 16 36 44]\n",
      " [27 42 89 51 83]\n",
      " [37 87 66 38 12]\n",
      " [ 3 69 24 88 70]]\n",
      "\n",
      "[[0 0 0 0 0 0 0]\n",
      " [0 0 0 0 0 0 0]\n",
      " [0 0 0 0 0 0 0]\n",
      " [0 0 0 0 0 0 0]\n",
      " [0 0 0 0 0 0 0]\n",
      " [0 0 0 0 0 0 0]\n",
      " [0 0 0 0 0 0 0]]\n"
     ]
    }
   ],
   "source": [
    "# В программе создан массив размером (5, 5) с типом данных np.int8 и записан в переменную arr. \n",
    "# Получите массив с внешним отступом в один элемент заполненный нулями.\n",
    "\n",
    "arr = np.random.randint(1, 100, 5 * 5, dtype='int8').reshape(5, 5)\n",
    "print(arr)\n",
    "print()\n",
    "\n",
    "new_arr = np.zeros(np.array(arr.shape) + (2, 2), dtype='int8')\n",
    "print(new_arr)"
   ]
  },
  {
   "cell_type": "code",
   "execution_count": 173,
   "metadata": {},
   "outputs": [
    {
     "data": {
      "text/plain": [
       "array([[ 0,  0,  0,  0,  0,  0,  0],\n",
       "       [ 0,  9, 41, 84, 30, 61,  0],\n",
       "       [ 0, 60, 60, 16, 36, 44,  0],\n",
       "       [ 0, 27, 42, 89, 51, 83,  0],\n",
       "       [ 0, 37, 87, 66, 38, 12,  0],\n",
       "       [ 0,  3, 69, 24, 88, 70,  0],\n",
       "       [ 0,  0,  0,  0,  0,  0,  0]], dtype=int8)"
      ]
     },
     "execution_count": 173,
     "metadata": {},
     "output_type": "execute_result"
    }
   ],
   "source": [
    "new_arr[1:len(new_arr) - 1, 1: len(new_arr) - 1] = arr\n",
    "new_arr"
   ]
  },
  {
   "cell_type": "code",
   "execution_count": 174,
   "metadata": {},
   "outputs": [
    {
     "data": {
      "text/plain": [
       "array([[ 0,  0,  0,  0,  0,  0,  0],\n",
       "       [ 0,  9, 41, 84, 30, 61,  0],\n",
       "       [ 0, 60, 60, 16, 36, 44,  0],\n",
       "       [ 0, 27, 42, 89, 51, 83,  0],\n",
       "       [ 0, 37, 87, 66, 38, 12,  0],\n",
       "       [ 0,  3, 69, 24, 88, 70,  0],\n",
       "       [ 0,  0,  0,  0,  0,  0,  0]], dtype=int8)"
      ]
     },
     "execution_count": 174,
     "metadata": {},
     "output_type": "execute_result"
    }
   ],
   "source": [
    "new_arr = np.pad(arr, pad_width=1, mode='constant', constant_values=0)\n",
    "new_arr"
   ]
  },
  {
   "cell_type": "code",
   "execution_count": 183,
   "metadata": {},
   "outputs": [
    {
     "name": "stdout",
     "output_type": "stream",
     "text": [
      "[[48 52 63 62 46 84 42 74 86 10]\n",
      " [61 45 52 26 23 41  8 30 15 87]\n",
      " [23 14 77 93 77 32 29 43  4 92]\n",
      " [36 57 11 92 47 65 49  5  4  1]\n",
      " [34 32 83 66 45 64 49 33 16 64]\n",
      " [ 2 90 99 65 92 35 99 13 87 30]\n",
      " [83 90 25  7 10  9 47 29 94 58]\n",
      " [37 23 66  1 54 40 39 78 61 71]\n",
      " [33 23 45 14 75 81 60 50 90  2]\n",
      " [ 3 61 36 18 28 68 62 94 14 99]]\n",
      "\n"
     ]
    },
    {
     "data": {
      "text/plain": [
       "array([[48, 52, 63, 62, 46, 84, 42, 74, 86, 10],\n",
       "       [61, 45, 52, 26,  0,  0,  0,  0, 15, 87],\n",
       "       [23, 14, 77, 93,  0,  0,  0,  0,  4, 92],\n",
       "       [36, 57, 11, 92,  0,  0,  0,  0,  4,  1],\n",
       "       [34, 32, 83, 66,  0,  0,  0,  0, 16, 64],\n",
       "       [ 2, 90, 99, 65,  0,  0,  0,  0, 87, 30],\n",
       "       [83, 90, 25,  7,  0,  0,  0,  0, 94, 58],\n",
       "       [37, 23, 66,  1, 54, 40, 39, 78, 61, 71],\n",
       "       [33, 23, 45, 14, 75, 81, 60, 50, 90,  2],\n",
       "       [ 3, 61, 36, 18, 28, 68, 62, 94, 14, 99]], dtype=int8)"
      ]
     },
     "execution_count": 183,
     "metadata": {},
     "output_type": "execute_result"
    }
   ],
   "source": [
    "# В программе создан массив размером (10, 10) с типом данных np.int8 и записан в переменную arr. \n",
    "# Получите массив с внутренним отступом заполненном нулями. \n",
    "# Сверху отступ в одну строку, снизу три строки, справа две, а слева четыре.\n",
    "\n",
    "arr = np.random.randint(1, 100, 10 * 10, dtype='int8').reshape(10, 10)\n",
    "print(arr)\n",
    "print()\n",
    "\n",
    "new_arr = arr.copy()\n",
    "\n",
    "new_arr[1] = 0\n",
    "\n",
    "new_arr[1, :4, 8:10] = 0       #Здесь  [выбираю вторую строку,       беру с 0 по 3 элементы,         беру с 8 по 9 элементы]\n",
    "new_arr[2, :4, 8:10] = 0\n",
    "new_arr[3, :4, 8:10] = 0\n",
    "new_arr[4, :4, 8:10] = 0\n",
    "new_arr[5, :4, 8:10] = 0\n",
    "new_arr[6, :4, 8:10] = 0\n",
    "\n",
    "new_arr[0, :10] = 0\n",
    "new_arr[7, :10] = 0\n",
    "new_arr[8, :10] = 0\n",
    "new_arr[9, :10] = 0\n",
    "\n",
    "arr = new_arr\n",
    "print(new_arr)"
   ]
  },
  {
   "cell_type": "code",
   "execution_count": 202,
   "metadata": {},
   "outputs": [
    {
     "name": "stdout",
     "output_type": "stream",
     "text": [
      "[[47 22 73 27 72 35 48 96 55 16]\n",
      " [25 88 64 14 24 88 20 86 39 63]\n",
      " [35 25 93 75 86 86 80 15 41 11]\n",
      " [81  4 85 91 79 99 33  6 28 12]\n",
      " [11 71 71 68 49 33 19 93 43 78]\n",
      " [45 43 48 45 35 50 88 85 65 37]\n",
      " [76 27 38  2 62 38 72 49 58  8]\n",
      " [68 62 40 74 52 61 80 51  9 63]\n",
      " [96  1 83 97 37 17 45 48 76 39]\n",
      " [10 55 70 36 81  5 87 67 63 76]]\n",
      "\n"
     ]
    },
    {
     "data": {
      "text/plain": [
       "array([[ 0,  0,  0,  0,  0,  0,  0,  0,  0,  0],\n",
       "       [ 0,  0,  0,  0, 24, 88, 20, 86,  0,  0],\n",
       "       [ 0,  0,  0,  0, 86, 86, 80, 15,  0,  0],\n",
       "       [ 0,  0,  0,  0, 79, 99, 33,  6,  0,  0],\n",
       "       [ 0,  0,  0,  0, 49, 33, 19, 93,  0,  0],\n",
       "       [ 0,  0,  0,  0, 35, 50, 88, 85,  0,  0],\n",
       "       [ 0,  0,  0,  0, 62, 38, 72, 49,  0,  0],\n",
       "       [ 0,  0,  0,  0,  0,  0,  0,  0,  0,  0],\n",
       "       [ 0,  0,  0,  0,  0,  0,  0,  0,  0,  0],\n",
       "       [ 0,  0,  0,  0,  0,  0,  0,  0,  0,  0]], dtype=int8)"
      ]
     },
     "execution_count": 202,
     "metadata": {},
     "output_type": "execute_result"
    }
   ],
   "source": [
    "arr = np.random.randint(1, 100, 10 * 10, dtype='int8').reshape(10, 10)\n",
    "print(arr)\n",
    "print()\n",
    "\n",
    "new_arr = arr.copy()\n",
    "\n",
    "new_arr[0] = 0\n",
    "new_arr[-3:] = 0\n",
    "new_arr[:, :4] = 0\n",
    "new_arr[:, -2:] = 0\n",
    "\n",
    "new_arr"
   ]
  },
  {
   "cell_type": "code",
   "execution_count": 203,
   "metadata": {},
   "outputs": [
    {
     "data": {
      "text/plain": [
       "array([[ 0,  0,  0,  0,  0,  0,  0,  0,  0,  0],\n",
       "       [ 0,  0,  0,  0, 24, 88, 20, 86,  0,  0],\n",
       "       [ 0,  0,  0,  0, 86, 86, 80, 15,  0,  0],\n",
       "       [ 0,  0,  0,  0, 79, 99, 33,  6,  0,  0],\n",
       "       [ 0,  0,  0,  0, 49, 33, 19, 93,  0,  0],\n",
       "       [ 0,  0,  0,  0, 35, 50, 88, 85,  0,  0],\n",
       "       [ 0,  0,  0,  0, 62, 38, 72, 49,  0,  0],\n",
       "       [ 0,  0,  0,  0,  0,  0,  0,  0,  0,  0],\n",
       "       [ 0,  0,  0,  0,  0,  0,  0,  0,  0,  0],\n",
       "       [ 0,  0,  0,  0,  0,  0,  0,  0,  0,  0]], dtype=int8)"
      ]
     },
     "execution_count": 203,
     "metadata": {},
     "output_type": "execute_result"
    }
   ],
   "source": [
    "new_arr = np.zeros((10,10), dtype=np.int8)\n",
    "new_arr[1:7,4:8] = arr[1:7,4:8]\n",
    "new_arr"
   ]
  },
  {
   "cell_type": "code",
   "execution_count": 205,
   "metadata": {},
   "outputs": [
    {
     "data": {
      "text/plain": [
       "array([[ 0,  0,  0,  0,  0,  0,  0,  0,  0,  0],\n",
       "       [ 0,  0,  0,  0, 24, 88, 20, 86,  0,  0],\n",
       "       [ 0,  0,  0,  0, 86, 86, 80, 15,  0,  0],\n",
       "       [ 0,  0,  0,  0, 79, 99, 33,  6,  0,  0],\n",
       "       [ 0,  0,  0,  0, 49, 33, 19, 93,  0,  0],\n",
       "       [ 0,  0,  0,  0, 35, 50, 88, 85,  0,  0],\n",
       "       [ 0,  0,  0,  0, 62, 38, 72, 49,  0,  0],\n",
       "       [ 0,  0,  0,  0,  0,  0,  0,  0,  0,  0],\n",
       "       [ 0,  0,  0,  0,  0,  0,  0,  0,  0,  0],\n",
       "       [ 0,  0,  0,  0,  0,  0,  0,  0,  0,  0]], dtype=int8)"
      ]
     },
     "execution_count": 205,
     "metadata": {},
     "output_type": "execute_result"
    }
   ],
   "source": [
    "new_arr = np.zeros_like(arr)\n",
    "top, right, bottom, left = 1, 2, 3, 4\n",
    "new_arr[top:-bottom, left:-right] = arr[top:-bottom, left:-right]\n",
    "new_arr"
   ]
  },
  {
   "cell_type": "code",
   "execution_count": 226,
   "metadata": {},
   "outputs": [
    {
     "data": {
      "text/plain": [
       "array([['x_1', 'y_1'],\n",
       "       ['x_2', 'y_2'],\n",
       "       ['x_3', 'y_3']], dtype='<U32')"
      ]
     },
     "execution_count": 226,
     "metadata": {},
     "output_type": "execute_result"
    }
   ],
   "source": [
    "# В программе создан массив и записан в переменную arr\n",
    "# С помощью списочной индексации получите массив:\n",
    "# array(['x_1', 'y_1', 'x_2', 'y_2', 'x_3', 'y_3'])\n",
    "\n",
    "arr = np.array(['x_1', 'x_2', 'y_3', 'x_3', 'y_2', 'y_1'])\n",
    "new_arr = np.empty(0)\n",
    "\n",
    "for i in range(len(arr) // 2):\n",
    "    new_arr = np.append(new_arr, arr[[i, -i - 1]])\n",
    "new_arr[-1], new_arr[-2] = new_arr[-2], new_arr[-1]\n",
    "new_arr.shape = (3, 2)\n",
    "new_arr"
   ]
  },
  {
   "cell_type": "code",
   "execution_count": 227,
   "metadata": {},
   "outputs": [
    {
     "data": {
      "text/plain": [
       "array([['x_1', 'y_1'],\n",
       "       ['x_2', 'y_2'],\n",
       "       ['x_3', 'y_3']], dtype='<U3')"
      ]
     },
     "execution_count": 227,
     "metadata": {},
     "output_type": "execute_result"
    }
   ],
   "source": [
    "arr = np.array(['x_1', 'x_2', 'y_3', 'x_3', 'y_2', 'y_1'])\n",
    "new_arr = arr[np.array([0, 5, 1, 4, 3, 2])]\n",
    "new_arr = new_arr.reshape(3,2)\n",
    "new_arr"
   ]
  },
  {
   "cell_type": "markdown",
   "metadata": {},
   "source": [
    "# 2.1 Математические операции. Транслирование массивов."
   ]
  },
  {
   "cell_type": "code",
   "execution_count": 238,
   "metadata": {},
   "outputs": [
    {
     "data": {
      "text/plain": [
       "array([[1, 2],\n",
       "       [0, 1],\n",
       "       [0, 0],\n",
       "       [1, 1],\n",
       "       [4, 1]])"
      ]
     },
     "metadata": {},
     "output_type": "display_data"
    },
    {
     "data": {
      "text/plain": [
       "array([[0, 0],\n",
       "       [2, 2],\n",
       "       [2, 3],\n",
       "       [3, 1],\n",
       "       [2, 2]])"
      ]
     },
     "metadata": {},
     "output_type": "display_data"
    },
    {
     "data": {
      "text/plain": [
       "array([[1, 2],\n",
       "       [2, 3],\n",
       "       [2, 3],\n",
       "       [4, 2],\n",
       "       [6, 3]])"
      ]
     },
     "metadata": {},
     "output_type": "display_data"
    }
   ],
   "source": [
    "arr1 = np.random.randint(0, 5, 10).reshape(5, 2)\n",
    "arr2 = np.random.randint(0, 5, 10).reshape(5, 2)\n",
    "\n",
    "display(arr1, arr2)\n",
    "display(arr1 + arr2)"
   ]
  },
  {
   "cell_type": "code",
   "execution_count": 241,
   "metadata": {},
   "outputs": [
    {
     "name": "stdout",
     "output_type": "stream",
     "text": [
      "[ 1  2  3  4  5  6  7  8  9 10]\n",
      "[ 10  20  30  40  50  60  70  80  90 100]\n"
     ]
    }
   ],
   "source": [
    "# В программе создан массив и записан в переменную arr. Умножьте массив на 10.\n",
    "\n",
    "arr = np.arange(1, 11)\n",
    "print(arr)\n",
    "\n",
    "new_arr = arr * 10\n",
    "print(new_arr)"
   ]
  },
  {
   "cell_type": "code",
   "execution_count": null,
   "metadata": {},
   "outputs": [],
   "source": [
    "# Даны размеры массивов. Какие из указанных массивов, благодаря транслированию, можно считать согласованными?\n",
    "\n",
    "# (3, 2) - (2)                      +\n",
    "# (4, 1, 8) - (4, 2)                -\n",
    "# (16, 28, 28, 3) - (28, 28, 1)     +\n",
    "# (2, 3, 4) - (1, 4)                +\n",
    "# (5, 3, 7) - (3, 7)                +\n",
    "# (10, 5) - (1)                     +"
   ]
  },
  {
   "cell_type": "code",
   "execution_count": 262,
   "metadata": {},
   "outputs": [
    {
     "name": "stdout",
     "output_type": "stream",
     "text": [
      "(5, 3, 7)\n",
      "(5,)\n",
      "(5, 3, 7)\n"
     ]
    }
   ],
   "source": [
    "# В программе созданы два массива и записаны в переменные arr_1 и arr_2. \n",
    "# Массив arr_1 имеет размер (5, 3, 7), а массив arr_2 имеет размер (5). \n",
    "# Умножьте массив arr_1 на arr_2.\n",
    "\n",
    "arr1 = np.empty(5 * 3 * 7).reshape(5, 3, 7)\n",
    "arr2 = np.empty(5)\n",
    "print(arr1.shape)\n",
    "print(arr2.shape)\n",
    "\n",
    "new_arr = arr1 * arr2[:, np.newaxis, np.newaxis]\n",
    "print(new_arr.shape)"
   ]
  },
  {
   "cell_type": "code",
   "execution_count": 259,
   "metadata": {},
   "outputs": [
    {
     "name": "stdout",
     "output_type": "stream",
     "text": [
      "(5, 3, 7)\n",
      "(5,)\n",
      "(5, 3, 7)\n"
     ]
    }
   ],
   "source": [
    "arr1 = np.empty(5 * 3 * 7).reshape(5, 3, 7)\n",
    "arr2 = np.empty(5)\n",
    "print(arr1.shape)\n",
    "print(arr2.shape)\n",
    "\n",
    "arr2.shape = (5, 1, 1)\n",
    "new_arr = arr1 * arr2\n",
    "print(new_arr.shape)"
   ]
  },
  {
   "cell_type": "code",
   "execution_count": 264,
   "metadata": {},
   "outputs": [
    {
     "name": "stdout",
     "output_type": "stream",
     "text": [
      "(5, 3, 7)\n",
      "(7,)\n",
      "(5, 3, 7)\n"
     ]
    }
   ],
   "source": [
    "# В программе созданы два массива и записаны в переменные arr_1 и arr_2. \n",
    "# Массив arr_1 имеет размер (5, 3, 7), а массив arr_2 имеет размер (7). \n",
    "# Прибавьте  к массиву arr_1 массив arr_2.\n",
    "\n",
    "arr1 = np.empty(5 * 3 * 7).reshape(5, 3, 7)\n",
    "arr2 = np.empty(7)\n",
    "print(arr1.shape)\n",
    "print(arr2.shape)\n",
    "\n",
    "arr2.shape = (1, 1, 7)\n",
    "new_arr = arr1 + arr2\n",
    "print(new_arr.shape)"
   ]
  },
  {
   "cell_type": "code",
   "execution_count": 268,
   "metadata": {},
   "outputs": [
    {
     "name": "stdout",
     "output_type": "stream",
     "text": [
      "(5, 3, 7)\n",
      "(5, 7)\n",
      "(5, 3, 7)\n"
     ]
    }
   ],
   "source": [
    "# В программе созданы два массива и записаны в переменные arr_1 и arr_2. \n",
    "# Массив arr_1 имеет размер (5, 3, 7), а массив arr_2 имеет размер (5, 7). \n",
    "# Поделите массив arr_1 на arr_2.\n",
    "\n",
    "arr1 = np.empty(5 * 3 * 7).reshape(5, 3, 7)\n",
    "arr2 = np.empty(5 * 7).reshape(5, 7)\n",
    "print(arr1.shape)\n",
    "print(arr2.shape)\n",
    "\n",
    "new_arr = np.divide(arr1, arr2[:, np.newaxis, :])\n",
    "print(new_arr.shape)"
   ]
  },
  {
   "cell_type": "code",
   "execution_count": 276,
   "metadata": {},
   "outputs": [
    {
     "name": "stdout",
     "output_type": "stream",
     "text": [
      "(6, 4, 3)\n",
      "(4,)\n",
      "(6, 4, 3)\n"
     ]
    }
   ],
   "source": [
    "# В программе созданы два массива и записаны в переменные arr_1 и arr_2. \n",
    "# Массив arr_1 имеет размер (6, 4, 3), а массив arr_2 имеет размер (4). \n",
    "# Умножьте массив arr_1 на arr_2.\n",
    "\n",
    "arr1 = np.empty(6 * 4 * 3).reshape(6, 4, 3)\n",
    "arr2 = np.empty(4)\n",
    "print(arr1.shape)\n",
    "print(arr2.shape)\n",
    "\n",
    "new_arr = arr1 * arr2[:, np.newaxis]\n",
    "print(new_arr.shape)"
   ]
  },
  {
   "cell_type": "code",
   "execution_count": 284,
   "metadata": {},
   "outputs": [
    {
     "name": "stdout",
     "output_type": "stream",
     "text": [
      "(6, 4, 3)\n",
      "(6, 4)\n",
      "(6, 4, 3)\n",
      "(6, 4, 3)\n"
     ]
    }
   ],
   "source": [
    "# В программе созданы два массива и записаны в переменные arr_1 и arr_2. \n",
    "# Массив arr_1 имеет размер (6, 4, 3), а массив arr_2 имеет размер (6, 4). \n",
    "# Умножьте массив arr_1 на arr_2.\n",
    "\n",
    "arr1 = np.empty(6 * 4 * 3).reshape(6, 4, 3)\n",
    "arr2 = np.empty(6 * 4).reshape(6, 4)\n",
    "print(arr1.shape)\n",
    "print(arr2.shape)\n",
    "\n",
    "new_arr = arr1 * arr2[:, :, np.newaxis]\n",
    "print(new_arr.shape)\n",
    "\n",
    "new_arr = arr1 * np.expand_dims(arr2, axis=-1)\n",
    "print(new_arr.shape)"
   ]
  },
  {
   "cell_type": "code",
   "execution_count": 290,
   "metadata": {},
   "outputs": [
    {
     "name": "stdout",
     "output_type": "stream",
     "text": [
      "(5, 3)\n",
      "(4, 2)\n",
      "(5, 3, 4, 2)\n"
     ]
    }
   ],
   "source": [
    "# В программе созданы два массива и записаны в переменные arr_1 и arr_2. \n",
    "# Массив arr_1 имеет размер (5, 3), а массив arr_2 имеет размер (4, 2). \n",
    "# Прибавьте к массиву arr_1 массив arr_2.\n",
    "\n",
    "arr1 = np.empty(5 * 3).reshape(5, 3)\n",
    "arr2 = np.empty(4 * 2).reshape(4, 2)\n",
    "print(arr1.shape)\n",
    "print(arr2.shape)\n",
    "\n",
    "new_arr = arr1[:, :, np.newaxis, np.newaxis] + arr2\n",
    "print(new_arr.shape)"
   ]
  },
  {
   "cell_type": "code",
   "execution_count": 292,
   "metadata": {},
   "outputs": [
    {
     "name": "stdout",
     "output_type": "stream",
     "text": [
      "(10, 2)\n",
      "(10,)\n",
      "(10, 2)\n"
     ]
    }
   ],
   "source": [
    "# В программе создан массив размером (10, 2) и записан в переменную arr. \n",
    "# Массив содержит 10 точек с двумя координатами x и y. Массив loss имеет размер (10), содержит погрешность в измерениях координат для каждой точки. \n",
    "# Из координат в массиве arr вычтите погрешность.\n",
    "\n",
    "arr = np.empty(10 * 2).reshape(10, 2)\n",
    "loss = np.empty(10)\n",
    "print(arr.shape)\n",
    "print(loss.shape)\n",
    "\n",
    "new_arr = arr - loss[:, np.newaxis]\n",
    "print(new_arr.shape)"
   ]
  },
  {
   "cell_type": "code",
   "execution_count": 301,
   "metadata": {},
   "outputs": [
    {
     "name": "stdout",
     "output_type": "stream",
     "text": [
      "(10, 3)\n",
      "(10,)\n",
      "(10, 3)\n"
     ]
    }
   ],
   "source": [
    "# В программе создан массив размером (5, 3) и записан в переменную arr. \n",
    "# Массив содержит 10 точек с тремя координатами x, y и z. Массив loss имеет размер (5), содержит погрешность в измерениях координаты y. \n",
    "# В массиве arr исправьте значение координаты y вычев из нее погрешность.\n",
    "\n",
    "arr = np.arange(1, 16).reshape(5, 3)\n",
    "loss = np.arange(5)\n",
    "display(arr, loss)\n",
    "\n",
    "arr[:, 1] = arr[:, 1] - loss\n",
    "display(arr)"
   ]
  },
  {
   "cell_type": "code",
   "execution_count": 327,
   "metadata": {},
   "outputs": [
    {
     "data": {
      "text/plain": [
       "array([[[ 0,  1],\n",
       "        [ 2,  3],\n",
       "        [ 4,  5]],\n",
       "\n",
       "       [[ 6,  7],\n",
       "        [ 8,  9],\n",
       "        [10, 11]]])"
      ]
     },
     "metadata": {},
     "output_type": "display_data"
    },
    {
     "data": {
      "text/plain": [
       "array([2, 2, 2])"
      ]
     },
     "metadata": {},
     "output_type": "display_data"
    },
    {
     "data": {
      "text/plain": [
       "array([[[-2, -1],\n",
       "        [ 0,  1],\n",
       "        [ 2,  3]],\n",
       "\n",
       "       [[ 4,  5],\n",
       "        [ 6,  7],\n",
       "        [ 8,  9]]])"
      ]
     },
     "metadata": {},
     "output_type": "display_data"
    }
   ],
   "source": [
    "# В программе создан массив размером (10, 4, 2) и записан в переменную arr. \n",
    "# Массив содержит 10 наблюдений, в которых четырьмя разными методами измерялись координаты x и y. \n",
    "# Массив loss имеет размер (4), содержит погрешность в измерениях каждого метода. \n",
    "# В массиве arr исправьте значение координат вычев из них погрешность.\n",
    "\n",
    "arr = np.arange(2 * 3 * 2).reshape(2, 3, 2)\n",
    "loss = np.array([2, 2, 2])\n",
    "display(arr, loss)\n",
    "\n",
    "new_arr = arr - loss[np.newaxis, :, np.newaxis]\n",
    "display(new_arr)"
   ]
  },
  {
   "cell_type": "code",
   "execution_count": 383,
   "metadata": {},
   "outputs": [
    {
     "name": "stdout",
     "output_type": "stream",
     "text": [
      "(16, 3, 3)\n",
      "(64, 3, 3)\n",
      "(64, 16, 3, 3)\n"
     ]
    },
    {
     "name": "stderr",
     "output_type": "stream",
     "text": [
      "C:\\Users\\kuche\\AppData\\Local\\Temp\\ipykernel_3416\\961295144.py:11: RuntimeWarning: overflow encountered in multiply\n",
      "  new_arr = arr[np.newaxis, :, :, :] * kernels[:, np.newaxis, :, :]\n"
     ]
    }
   ],
   "source": [
    "# Создан массив с размером (16, 28, 28), 16 картинок 28 на 28 пикселей в градации серого. \n",
    "# В массиве взят срез по первой и второй оси и записан в переменную arr. \n",
    "# Срез имеет размер (16, 3, 3). \n",
    "# Умножьте срез на массив kernels с размером (64, 3, 3), 64 ядра размером 3 на 3 пикселя.\n",
    "\n",
    "arr = np.empty(16 * 3 * 3).reshape(16, 3, 3)\n",
    "print(arr.shape)\n",
    "kernels = np.empty(64 * 3 * 3).reshape(64, 3, 3)\n",
    "print(kernels.shape)\n",
    "\n",
    "new_arr = arr[np.newaxis, :, :, :] * kernels[:, np.newaxis, :, :]\n",
    "print(new_arr.shape)"
   ]
  },
  {
   "cell_type": "code",
   "execution_count": 392,
   "metadata": {},
   "outputs": [
    {
     "name": "stdout",
     "output_type": "stream",
     "text": [
      "(16, 3, 3, 3)\n",
      "(32, 3, 3)\n",
      "(32, 16, 3, 3, 3)\n"
     ]
    },
    {
     "name": "stderr",
     "output_type": "stream",
     "text": [
      "C:\\Users\\kuche\\AppData\\Local\\Temp\\ipykernel_3416\\4209547986.py:11: RuntimeWarning: overflow encountered in multiply\n",
      "  new_arr = arr[np.newaxis, :, :, :, :] * kernels[ :, np.newaxis, np.newaxis, :, :]\n"
     ]
    }
   ],
   "source": [
    "# Создан массив с размером (16, 28, 28, 3), 16 картинок 28 на 28 пикселей с тремя цветовыми каналами RGB. \n",
    "# В массиве взят срез по первой и второй оси и записан в переменную arr. \n",
    "# Срез имеет размер (16, 3, 3, 3). \n",
    "# Умножьте срез на массив kernels с размером (32, 3, 3), 32 ядра размером 3 на 3 пикселя.\n",
    "\n",
    "arr = np.empty(16 * 3 * 3 * 3).reshape(16, 3, 3, 3)\n",
    "print(arr.shape)\n",
    "kernels = np.empty(32 * 3 * 3).reshape(32, 3, 3)\n",
    "print(kernels.shape)\n",
    "\n",
    "new_arr = arr[np.newaxis, :, :, :, :] * kernels[ :, np.newaxis, np.newaxis, :, :]\n",
    "print(new_arr.shape)"
   ]
  },
  {
   "cell_type": "code",
   "execution_count": 395,
   "metadata": {},
   "outputs": [
    {
     "name": "stdout",
     "output_type": "stream",
     "text": [
      "(16, 3, 3, 3)\n",
      "(32, 3, 3)\n",
      "(16, 32, 3, 3, 3)\n"
     ]
    }
   ],
   "source": [
    "arr = np.empty(16 * 3 * 3 * 3).reshape(16, 3, 3, 3)\n",
    "print(arr.shape)\n",
    "kernels = np.empty(32 * 3 * 3).reshape(32, 3, 3)\n",
    "print(kernels.shape)\n",
    "\n",
    "arr = arr.reshape(16, 1, 3, 3, 3)\n",
    "kernels = kernels.reshape(1, 32, 3, 3, 1)\n",
    "\n",
    "new_arr = arr * kernels\n",
    "print(new_arr.shape)"
   ]
  },
  {
   "cell_type": "code",
   "execution_count": null,
   "metadata": {},
   "outputs": [],
   "source": []
  }
 ],
 "metadata": {
  "kernelspec": {
   "display_name": "base",
   "language": "python",
   "name": "python3"
  },
  "language_info": {
   "codemirror_mode": {
    "name": "ipython",
    "version": 3
   },
   "file_extension": ".py",
   "mimetype": "text/x-python",
   "name": "python",
   "nbconvert_exporter": "python",
   "pygments_lexer": "ipython3",
   "version": "3.11.10"
  }
 },
 "nbformat": 4,
 "nbformat_minor": 2
}
