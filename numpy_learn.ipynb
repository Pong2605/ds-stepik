{
 "cells": [
  {
   "cell_type": "code",
   "execution_count": 2,
   "metadata": {},
   "outputs": [],
   "source": [
    "import numpy as np"
   ]
  },
  {
   "cell_type": "code",
   "execution_count": 3,
   "metadata": {},
   "outputs": [
    {
     "name": "stdout",
     "output_type": "stream",
     "text": [
      "[-5.         -3.88888889 -2.77777778 -1.66666667 -0.55555556  0.55555556\n",
      "  1.66666667  2.77777778  3.88888889  5.        ]\n"
     ]
    }
   ],
   "source": [
    "print(np.linspace(-5, 5, 10))"
   ]
  },
  {
   "cell_type": "code",
   "execution_count": 4,
   "metadata": {},
   "outputs": [
    {
     "name": "stdout",
     "output_type": "stream",
     "text": [
      "[3 6 9]\n",
      "[3 6 9]\n"
     ]
    }
   ],
   "source": [
    "# a, b = map(int, input().split())\n",
    "a, b = 2, 9\n",
    "arr = np.array(list(i for i in range(a, b + 1) if i % 3 == 0))\n",
    "print(arr)\n",
    "arr = np.arange(a, b + 1)\n",
    "arr = arr[arr % 3 == 0]\n",
    "print(arr)"
   ]
  },
  {
   "cell_type": "code",
   "execution_count": 5,
   "metadata": {},
   "outputs": [
    {
     "data": {
      "text/plain": [
       "array([0.85888927, 0.37271115, 0.55512878, 0.95565655, 0.7366696 ,\n",
       "       0.81620514])"
      ]
     },
     "execution_count": 5,
     "metadata": {},
     "output_type": "execute_result"
    }
   ],
   "source": [
    "np.random.seed(32)\n",
    "# n = int(input())\n",
    "n = 6\n",
    "arr = np.random.rand(n)\n",
    "arr"
   ]
  },
  {
   "cell_type": "code",
   "execution_count": 6,
   "metadata": {},
   "outputs": [
    {
     "name": "stdout",
     "output_type": "stream",
     "text": [
      "[2, 3, 5]\n"
     ]
    }
   ],
   "source": [
    "n = 3\n",
    "arr = []\n",
    "for i in range(0, n + 100): \n",
    "    if i > 1: \n",
    "        for j in range(2, i):\n",
    "            if(i % j) == 0: \n",
    "                break \n",
    "        else:\n",
    "            if len(arr) < n:\n",
    "                arr.append(i)\n",
    "print(arr)"
   ]
  },
  {
   "cell_type": "code",
   "execution_count": 7,
   "metadata": {},
   "outputs": [
    {
     "name": "stdout",
     "output_type": "stream",
     "text": [
      "[2, 3, 5, 7, 11, 13, 17, 19, 23, 29]\n"
     ]
    }
   ],
   "source": [
    "n = 10\n",
    "i = 2\n",
    "arr = []\n",
    "while len(arr) < n:\n",
    "    for j in range(2, i):\n",
    "        if(i % j) == 0: \n",
    "                break\n",
    "    else:\n",
    "         arr.append(i)\n",
    "    i += 1\n",
    "print(arr)"
   ]
  },
  {
   "cell_type": "code",
   "execution_count": 8,
   "metadata": {},
   "outputs": [
    {
     "data": {
      "text/plain": [
       "array([-0.2])"
      ]
     },
     "execution_count": 8,
     "metadata": {},
     "output_type": "execute_result"
    }
   ],
   "source": [
    "# a, b = map(float, input().split())\n",
    "a, b = 0.22, 2.0\n",
    "\n",
    "np.round(np.arange(-1*a, a+0.001, b), 1)"
   ]
  },
  {
   "cell_type": "code",
   "execution_count": 9,
   "metadata": {},
   "outputs": [
    {
     "data": {
      "text/plain": [
       "array([0.        , 0.78539816, 1.57079633, 2.35619449, 3.14159265])"
      ]
     },
     "execution_count": 9,
     "metadata": {},
     "output_type": "execute_result"
    }
   ],
   "source": [
    "b = 5\n",
    "arr = np.linspace(0, np.pi, b)\n",
    "arr"
   ]
  },
  {
   "cell_type": "code",
   "execution_count": 10,
   "metadata": {},
   "outputs": [
    {
     "name": "stdout",
     "output_type": "stream",
     "text": [
      "object\n",
      "4\n",
      "(4,)\n"
     ]
    }
   ],
   "source": [
    "import numpy as np\n",
    "arr=np.array([1, 2, '3', {'key1':66}])\n",
    "\n",
    "print(arr.dtype)\n",
    "print(arr.size)\n",
    "print(arr.shape)"
   ]
  },
  {
   "cell_type": "code",
   "execution_count": 11,
   "metadata": {},
   "outputs": [
    {
     "data": {
      "text/plain": [
       "(3, 4, 2)"
      ]
     },
     "execution_count": 11,
     "metadata": {},
     "output_type": "execute_result"
    }
   ],
   "source": [
    "# 3, 4, 2\n",
    "arr = np.array([[[1, 2], [3, 4], [5, 6], [7, 8]],\n",
    "\n",
    "                [[9, 10], [11, 12], [13, 14], [15, 16]],\n",
    "                \n",
    "                [[17, 18], [19, 20], [21, 22], [23, 24]]])\n",
    "arr.shape"
   ]
  },
  {
   "cell_type": "code",
   "execution_count": 12,
   "metadata": {},
   "outputs": [
    {
     "data": {
      "text/plain": [
       "(256, 256, 3)"
      ]
     },
     "execution_count": 12,
     "metadata": {},
     "output_type": "execute_result"
    }
   ],
   "source": [
    "arr = np.empty([256, 256, 3])\n",
    "arr.shape"
   ]
  },
  {
   "cell_type": "code",
   "execution_count": 13,
   "metadata": {},
   "outputs": [
    {
     "name": "stdout",
     "output_type": "stream",
     "text": [
      "(256, 256, 1) (256, 256, 1) (256, 256, 1)\n"
     ]
    }
   ],
   "source": [
    "arr1, arr2, arr3 = np.array_split(arr, 3, axis=2)\n",
    "print(arr1.shape, arr2.shape, arr3.shape)"
   ]
  },
  {
   "cell_type": "code",
   "execution_count": 14,
   "metadata": {},
   "outputs": [
    {
     "data": {
      "text/plain": [
       "(3, 256, 256)"
      ]
     },
     "execution_count": 14,
     "metadata": {},
     "output_type": "execute_result"
    }
   ],
   "source": [
    "arr1 = np.squeeze(arr1)\n",
    "arr2 = np.squeeze(arr2)\n",
    "arr3 = np.squeeze(arr3)\n",
    "\n",
    "arr1 = np.expand_dims(arr1, axis=0)\n",
    "arr2 = np.expand_dims(arr2, axis=0)\n",
    "arr3 = np.expand_dims(arr3, axis=0)\n",
    "\n",
    "np.concatenate([arr1, arr2, arr3]).shape"
   ]
  },
  {
   "cell_type": "markdown",
   "metadata": {},
   "source": [
    "# 1.5 Добавление и удаление элементов."
   ]
  },
  {
   "cell_type": "code",
   "execution_count": 19,
   "metadata": {},
   "outputs": [
    {
     "name": "stdout",
     "output_type": "stream",
     "text": [
      "Размер data: (1000, 28, 28)\n",
      "Размер arr1: (50, 28, 28)\n",
      "Размер arr2: (28, 28)\n"
     ]
    }
   ],
   "source": [
    "data = np.empty([1000, 28, 28])\n",
    "arr1 = np.empty([50, 28, 28])\n",
    "arr2 = np.empty([28, 28])\n",
    "\n",
    "print(f'Размер data: {data.shape}')\n",
    "print(f'Размер arr1: {arr1.shape}')\n",
    "print(f'Размер arr2: {arr2.shape}')"
   ]
  },
  {
   "cell_type": "code",
   "execution_count": 26,
   "metadata": {},
   "outputs": [
    {
     "name": "stdout",
     "output_type": "stream",
     "text": [
      "Размер new_data1: (823200,)\n",
      "Размер new_data2: (1050, 28, 28)\n",
      "Размер new_data3: (50, 28, 56)\n",
      "Размер new_data4: (1001, 28, 28)\n"
     ]
    }
   ],
   "source": [
    "# Добавление элементов\n",
    "\n",
    "new_data1 = np.append(data, arr1) # - одномерный массив\n",
    "new_data2 = np.append(data, arr1, axis=0) # - многомерный, объединенрие по нулевой оси\n",
    "new_data3 = np.append(arr1, arr1, axis=2) # - многомерный, объединенрие по второй оси\n",
    "new_data4 = np.append(data, arr2[np.newaxis], axis=0) # - добавление одного элемента с предварительным добавлением оси\n",
    "\n",
    "print(f'Размер new_data1: {new_data1.shape}')\n",
    "print(f'Размер new_data2: {new_data2.shape}')\n",
    "print(f'Размер new_data3: {new_data3.shape}')\n",
    "print(f'Размер new_data4: {new_data4.shape}')"
   ]
  },
  {
   "cell_type": "code",
   "execution_count": 27,
   "metadata": {},
   "outputs": [
    {
     "name": "stdout",
     "output_type": "stream",
     "text": [
      "(1001, 28, 28)\n",
      "(1000, 28, 28)\n"
     ]
    }
   ],
   "source": [
    "# Удаление элементов по индексу\n",
    "\n",
    "print(new_data4.shape)\n",
    "\n",
    "new_data4 = np.delete(new_data4, 1000, axis=0)\n",
    "\n",
    "print(new_data4.shape)"
   ]
  },
  {
   "cell_type": "code",
   "execution_count": null,
   "metadata": {},
   "outputs": [],
   "source": []
  },
  {
   "cell_type": "code",
   "execution_count": null,
   "metadata": {},
   "outputs": [],
   "source": []
  },
  {
   "cell_type": "code",
   "execution_count": null,
   "metadata": {},
   "outputs": [],
   "source": []
  },
  {
   "cell_type": "code",
   "execution_count": 28,
   "metadata": {},
   "outputs": [
    {
     "data": {
      "text/plain": [
       "(15, 28, 28)"
      ]
     },
     "execution_count": 28,
     "metadata": {},
     "output_type": "execute_result"
    }
   ],
   "source": [
    "# В программе созданы два массива с картинками 28 на 28 пикселей. \n",
    "# Массивы записаны в переменные arr_1 и arr_2. \n",
    "# Массив arr_1 имеет размер (10, 28, 28), а массив arr_2 имеет размер (5, 28, 28). \n",
    "# К картинкам из arr_1 добавьте картинки из arr_2.\n",
    "\n",
    "# Результат запишите в переменную new_arr.\n",
    "\n",
    "arr_1 = np.empty([10, 28, 28])\n",
    "arr_2 = np.empty([5, 28, 28])\n",
    "\n",
    "new_arr = np.append(arr_1, arr_2, axis=0)\n",
    "\n",
    "new_arr.shape"
   ]
  },
  {
   "cell_type": "code",
   "execution_count": 29,
   "metadata": {},
   "outputs": [
    {
     "data": {
      "text/plain": [
       "(11, 28, 28)"
      ]
     },
     "execution_count": 29,
     "metadata": {},
     "output_type": "execute_result"
    }
   ],
   "source": [
    "# В программе созданы два массива и записаны в переменные arr_1 и arr_2. \n",
    "# Массив arr_1 имеет размер (10, 28, 28), 10 картинок 28 на 28 пикселей. \n",
    "# Массив arr_2 имеет размер (28, 28), содержит одну картинку. \n",
    "# К картинкам из arr_1 добавьте картинку arr_2.\n",
    "\n",
    "# Результат запишите в переменную new_arr.\n",
    "\n",
    "arr_1 = np.empty([10, 28, 28])\n",
    "arr_2 = np.empty([28, 28])\n",
    "\n",
    "new_arr = np.append(arr_1, arr_2[np.newaxis], axis=0)\n",
    "\n",
    "new_arr.shape"
   ]
  },
  {
   "cell_type": "code",
   "execution_count": 31,
   "metadata": {},
   "outputs": [
    {
     "data": {
      "text/plain": [
       "(10, 28, 28, 3)"
      ]
     },
     "execution_count": 31,
     "metadata": {},
     "output_type": "execute_result"
    }
   ],
   "source": [
    "# В программе созданы два массива и записаны в переменные arr_1 и arr_2. \n",
    "# Массив arr_1 имеет размер (10, 28, 28, 2), 10 картинок 28 на 28 пикселей с двумя цветовыми каналами G и B. \n",
    "# Массив arr_2 имеет размер (10, 28, 28, 1), 10 картинок 28 на 28 пикселей с одним цветовым каналом R. \n",
    "# Добавьте один массив к другому так, чтобы получить 10 картинок с тремя цветовыми каналами RGB.\n",
    "\n",
    "# Результат запишите в переменную new_arr.\n",
    "\n",
    "arr_1 = np.empty([10, 28, 28, 2])\n",
    "arr_2 = np.empty([10, 28, 28, 1])\n",
    "\n",
    "new_arr = np.append(arr_2, arr_1, axis=3) # - arr_2 + arr_1, потому что RGB (не GBR)\n",
    "\n",
    "new_arr.shape"
   ]
  },
  {
   "cell_type": "code",
   "execution_count": null,
   "metadata": {},
   "outputs": [],
   "source": []
  }
 ],
 "metadata": {
  "kernelspec": {
   "display_name": "base",
   "language": "python",
   "name": "python3"
  },
  "language_info": {
   "codemirror_mode": {
    "name": "ipython",
    "version": 3
   },
   "file_extension": ".py",
   "mimetype": "text/x-python",
   "name": "python",
   "nbconvert_exporter": "python",
   "pygments_lexer": "ipython3",
   "version": "3.11.10"
  }
 },
 "nbformat": 4,
 "nbformat_minor": 2
}
