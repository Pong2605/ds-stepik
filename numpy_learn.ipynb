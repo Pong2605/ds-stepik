{
 "cells": [
  {
   "cell_type": "code",
   "execution_count": 5,
   "metadata": {},
   "outputs": [],
   "source": [
    "import numpy as np"
   ]
  },
  {
   "cell_type": "code",
   "execution_count": 6,
   "metadata": {},
   "outputs": [
    {
     "name": "stdout",
     "output_type": "stream",
     "text": [
      "[-5.         -3.88888889 -2.77777778 -1.66666667 -0.55555556  0.55555556\n",
      "  1.66666667  2.77777778  3.88888889  5.        ]\n"
     ]
    }
   ],
   "source": [
    "print(np.linspace(-5, 5, 10))"
   ]
  },
  {
   "cell_type": "code",
   "execution_count": 7,
   "metadata": {},
   "outputs": [
    {
     "name": "stdout",
     "output_type": "stream",
     "text": [
      "[3 6 9]\n",
      "[3 6 9]\n"
     ]
    }
   ],
   "source": [
    "# a, b = map(int, input().split())\n",
    "a, b = 2, 9\n",
    "arr = np.array(list(i for i in range(a, b + 1) if i % 3 == 0))\n",
    "print(arr)\n",
    "arr = np.arange(a, b + 1)\n",
    "arr = arr[arr % 3 == 0]\n",
    "print(arr)"
   ]
  },
  {
   "cell_type": "code",
   "execution_count": 8,
   "metadata": {},
   "outputs": [
    {
     "data": {
      "text/plain": [
       "array([0.85888927, 0.37271115, 0.55512878, 0.95565655, 0.7366696 ,\n",
       "       0.81620514])"
      ]
     },
     "execution_count": 8,
     "metadata": {},
     "output_type": "execute_result"
    }
   ],
   "source": [
    "np.random.seed(32)\n",
    "# n = int(input())\n",
    "n = 6\n",
    "arr = np.random.rand(n)\n",
    "arr"
   ]
  },
  {
   "cell_type": "code",
   "execution_count": 9,
   "metadata": {},
   "outputs": [
    {
     "name": "stdout",
     "output_type": "stream",
     "text": [
      "[2, 3, 5]\n"
     ]
    }
   ],
   "source": [
    "n = 3\n",
    "arr = []\n",
    "for i in range(0, n + 100): \n",
    "    if i > 1: \n",
    "        for j in range(2, i):\n",
    "            if(i % j) == 0: \n",
    "                break \n",
    "        else:\n",
    "            if len(arr) < n:\n",
    "                arr.append(i)\n",
    "print(arr)"
   ]
  },
  {
   "cell_type": "code",
   "execution_count": 16,
   "metadata": {},
   "outputs": [
    {
     "name": "stdout",
     "output_type": "stream",
     "text": [
      "[2, 3, 5, 7, 11, 13, 17, 19, 23, 29]\n"
     ]
    }
   ],
   "source": [
    "n = 10\n",
    "i = 2\n",
    "arr = []\n",
    "while len(arr) < n:\n",
    "    for j in range(2, i):\n",
    "        if(i % j) == 0: \n",
    "                break\n",
    "    else:\n",
    "         arr.append(i)\n",
    "    i += 1\n",
    "print(arr)"
   ]
  },
  {
   "cell_type": "code",
   "execution_count": 21,
   "metadata": {},
   "outputs": [
    {
     "data": {
      "text/plain": [
       "array([-1. , -0.9, -0.8, -0.7, -0.6, -0.5, -0.4, -0.3, -0.2, -0.1, -0. ,\n",
       "        0.1,  0.2,  0.3,  0.4,  0.5,  0.6,  0.7,  0.8,  0.9,  1. ])"
      ]
     },
     "execution_count": 21,
     "metadata": {},
     "output_type": "execute_result"
    }
   ],
   "source": [
    "a, b = map(float, input().split())\n",
    "\n",
    "np.round(np.arange(-1*a, a+0.001, b), 1)"
   ]
  },
  {
   "cell_type": "code",
   "execution_count": 22,
   "metadata": {},
   "outputs": [
    {
     "data": {
      "text/plain": [
       "array([0.        , 0.78539816, 1.57079633, 2.35619449, 3.14159265])"
      ]
     },
     "execution_count": 22,
     "metadata": {},
     "output_type": "execute_result"
    }
   ],
   "source": [
    "b = 5\n",
    "arr = np.linspace(0, np.pi, b)\n",
    "arr"
   ]
  },
  {
   "cell_type": "code",
   "execution_count": 26,
   "metadata": {},
   "outputs": [
    {
     "name": "stdout",
     "output_type": "stream",
     "text": [
      "object\n",
      "4\n",
      "(4,)\n"
     ]
    }
   ],
   "source": [
    "import numpy as np\n",
    "arr=np.array([1, 2, '3', {'key1':66}])\n",
    "\n",
    "print(arr.dtype)\n",
    "print(arr.size)\n",
    "print(arr.shape)"
   ]
  },
  {
   "cell_type": "code",
   "execution_count": null,
   "metadata": {},
   "outputs": [],
   "source": []
  }
 ],
 "metadata": {
  "kernelspec": {
   "display_name": "base",
   "language": "python",
   "name": "python3"
  },
  "language_info": {
   "codemirror_mode": {
    "name": "ipython",
    "version": 3
   },
   "file_extension": ".py",
   "mimetype": "text/x-python",
   "name": "python",
   "nbconvert_exporter": "python",
   "pygments_lexer": "ipython3",
   "version": "3.11.10"
  }
 },
 "nbformat": 4,
 "nbformat_minor": 2
}
