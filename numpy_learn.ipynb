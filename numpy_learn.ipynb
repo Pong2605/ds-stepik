{
 "cells": [
  {
   "cell_type": "code",
   "execution_count": 83,
   "metadata": {},
   "outputs": [],
   "source": [
    "import numpy as np"
   ]
  },
  {
   "cell_type": "code",
   "execution_count": 84,
   "metadata": {},
   "outputs": [
    {
     "name": "stdout",
     "output_type": "stream",
     "text": [
      "[-5.         -3.88888889 -2.77777778 -1.66666667 -0.55555556  0.55555556\n",
      "  1.66666667  2.77777778  3.88888889  5.        ]\n"
     ]
    }
   ],
   "source": [
    "print(np.linspace(-5, 5, 10))"
   ]
  },
  {
   "cell_type": "code",
   "execution_count": 85,
   "metadata": {},
   "outputs": [
    {
     "name": "stdout",
     "output_type": "stream",
     "text": [
      "[3 6 9]\n",
      "[3 6 9]\n"
     ]
    }
   ],
   "source": [
    "# a, b = map(int, input().split())\n",
    "a, b = 2, 9\n",
    "arr = np.array(list(i for i in range(a, b + 1) if i % 3 == 0))\n",
    "print(arr)\n",
    "arr = np.arange(a, b + 1)\n",
    "arr = arr[arr % 3 == 0]\n",
    "print(arr)"
   ]
  },
  {
   "cell_type": "code",
   "execution_count": 86,
   "metadata": {},
   "outputs": [
    {
     "data": {
      "text/plain": [
       "array([0.85888927, 0.37271115, 0.55512878, 0.95565655, 0.7366696 ,\n",
       "       0.81620514])"
      ]
     },
     "execution_count": 86,
     "metadata": {},
     "output_type": "execute_result"
    }
   ],
   "source": [
    "np.random.seed(32)\n",
    "# n = int(input())\n",
    "n = 6\n",
    "arr = np.random.rand(n)\n",
    "arr"
   ]
  },
  {
   "cell_type": "code",
   "execution_count": 87,
   "metadata": {},
   "outputs": [
    {
     "name": "stdout",
     "output_type": "stream",
     "text": [
      "[2, 3, 5]\n"
     ]
    }
   ],
   "source": [
    "n = 3\n",
    "arr = []\n",
    "for i in range(0, n + 100): \n",
    "    if i > 1: \n",
    "        for j in range(2, i):\n",
    "            if(i % j) == 0: \n",
    "                break \n",
    "        else:\n",
    "            if len(arr) < n:\n",
    "                arr.append(i)\n",
    "print(arr)"
   ]
  },
  {
   "cell_type": "code",
   "execution_count": 88,
   "metadata": {},
   "outputs": [
    {
     "name": "stdout",
     "output_type": "stream",
     "text": [
      "[2, 3, 5, 7, 11, 13, 17, 19, 23, 29]\n"
     ]
    }
   ],
   "source": [
    "n = 10\n",
    "i = 2\n",
    "arr = []\n",
    "while len(arr) < n:\n",
    "    for j in range(2, i):\n",
    "        if(i % j) == 0: \n",
    "                break\n",
    "    else:\n",
    "         arr.append(i)\n",
    "    i += 1\n",
    "print(arr)"
   ]
  },
  {
   "cell_type": "code",
   "execution_count": 89,
   "metadata": {},
   "outputs": [
    {
     "data": {
      "text/plain": [
       "array([-0.2])"
      ]
     },
     "execution_count": 89,
     "metadata": {},
     "output_type": "execute_result"
    }
   ],
   "source": [
    "# a, b = map(float, input().split())\n",
    "a, b = 0.22, 2.0\n",
    "\n",
    "np.round(np.arange(-1*a, a+0.001, b), 1)"
   ]
  },
  {
   "cell_type": "code",
   "execution_count": 90,
   "metadata": {},
   "outputs": [
    {
     "data": {
      "text/plain": [
       "array([0.        , 0.78539816, 1.57079633, 2.35619449, 3.14159265])"
      ]
     },
     "execution_count": 90,
     "metadata": {},
     "output_type": "execute_result"
    }
   ],
   "source": [
    "b = 5\n",
    "arr = np.linspace(0, np.pi, b)\n",
    "arr"
   ]
  },
  {
   "cell_type": "code",
   "execution_count": 91,
   "metadata": {},
   "outputs": [
    {
     "name": "stdout",
     "output_type": "stream",
     "text": [
      "object\n",
      "4\n",
      "(4,)\n"
     ]
    }
   ],
   "source": [
    "import numpy as np\n",
    "arr=np.array([1, 2, '3', {'key1':66}])\n",
    "\n",
    "print(arr.dtype)\n",
    "print(arr.size)\n",
    "print(arr.shape)"
   ]
  },
  {
   "cell_type": "code",
   "execution_count": 92,
   "metadata": {},
   "outputs": [
    {
     "data": {
      "text/plain": [
       "(3, 4, 2)"
      ]
     },
     "execution_count": 92,
     "metadata": {},
     "output_type": "execute_result"
    }
   ],
   "source": [
    "# 3, 4, 2\n",
    "arr = np.array([[[1, 2], [3, 4], [5, 6], [7, 8]],\n",
    "\n",
    "                [[9, 10], [11, 12], [13, 14], [15, 16]],\n",
    "                \n",
    "                [[17, 18], [19, 20], [21, 22], [23, 24]]])\n",
    "arr.shape"
   ]
  },
  {
   "cell_type": "code",
   "execution_count": 93,
   "metadata": {},
   "outputs": [
    {
     "data": {
      "text/plain": [
       "(256, 256, 3)"
      ]
     },
     "execution_count": 93,
     "metadata": {},
     "output_type": "execute_result"
    }
   ],
   "source": [
    "arr = np.empty([256, 256, 3])\n",
    "arr.shape"
   ]
  },
  {
   "cell_type": "code",
   "execution_count": 94,
   "metadata": {},
   "outputs": [
    {
     "name": "stdout",
     "output_type": "stream",
     "text": [
      "(256, 256, 1) (256, 256, 1) (256, 256, 1)\n"
     ]
    }
   ],
   "source": [
    "arr1, arr2, arr3 = np.array_split(arr, 3, axis=2)\n",
    "print(arr1.shape, arr2.shape, arr3.shape)"
   ]
  },
  {
   "cell_type": "code",
   "execution_count": 95,
   "metadata": {},
   "outputs": [
    {
     "data": {
      "text/plain": [
       "(3, 256, 256)"
      ]
     },
     "execution_count": 95,
     "metadata": {},
     "output_type": "execute_result"
    }
   ],
   "source": [
    "arr1 = np.squeeze(arr1)\n",
    "arr2 = np.squeeze(arr2)\n",
    "arr3 = np.squeeze(arr3)\n",
    "\n",
    "arr1 = np.expand_dims(arr1, axis=0)\n",
    "arr2 = np.expand_dims(arr2, axis=0)\n",
    "arr3 = np.expand_dims(arr3, axis=0)\n",
    "\n",
    "np.concatenate([arr1, arr2, arr3]).shape"
   ]
  },
  {
   "cell_type": "markdown",
   "metadata": {},
   "source": [
    "# 1.5 Добавление и удаление элементов."
   ]
  },
  {
   "cell_type": "code",
   "execution_count": 96,
   "metadata": {},
   "outputs": [
    {
     "name": "stdout",
     "output_type": "stream",
     "text": [
      "Размер data: (1000, 28, 28)\n",
      "Размер arr1: (50, 28, 28)\n",
      "Размер arr2: (28, 28)\n"
     ]
    }
   ],
   "source": [
    "data = np.empty([1000, 28, 28])\n",
    "arr1 = np.empty([50, 28, 28])\n",
    "arr2 = np.empty([28, 28])\n",
    "\n",
    "print(f'Размер data: {data.shape}')\n",
    "print(f'Размер arr1: {arr1.shape}')\n",
    "print(f'Размер arr2: {arr2.shape}')"
   ]
  },
  {
   "cell_type": "code",
   "execution_count": 97,
   "metadata": {},
   "outputs": [
    {
     "name": "stdout",
     "output_type": "stream",
     "text": [
      "Размер new_data1: (823200,)\n",
      "Размер new_data2: (1050, 28, 28)\n",
      "Размер new_data3: (50, 28, 56)\n",
      "Размер new_data4: (1001, 28, 28)\n"
     ]
    }
   ],
   "source": [
    "# Добавление элементов\n",
    "\n",
    "new_data1 = np.append(data, arr1) # - одномерный массив\n",
    "new_data2 = np.append(data, arr1, axis=0) # - многомерный, объединенрие по нулевой оси\n",
    "new_data3 = np.append(arr1, arr1, axis=2) # - многомерный, объединенрие по второй оси\n",
    "new_data4 = np.append(data, arr2[np.newaxis], axis=0) # - добавление одного элемента с предварительным добавлением оси\n",
    "\n",
    "print(f'Размер new_data1: {new_data1.shape}')\n",
    "print(f'Размер new_data2: {new_data2.shape}')\n",
    "print(f'Размер new_data3: {new_data3.shape}')\n",
    "print(f'Размер new_data4: {new_data4.shape}')"
   ]
  },
  {
   "cell_type": "code",
   "execution_count": 98,
   "metadata": {},
   "outputs": [
    {
     "name": "stdout",
     "output_type": "stream",
     "text": [
      "(1001, 28, 28)\n",
      "(1000, 28, 28)\n"
     ]
    }
   ],
   "source": [
    "# Удаление элементов по индексу\n",
    "\n",
    "print(new_data4.shape)\n",
    "\n",
    "new_data4 = np.delete(new_data4, 1000, axis=0)\n",
    "\n",
    "print(new_data4.shape)"
   ]
  },
  {
   "cell_type": "code",
   "execution_count": 99,
   "metadata": {},
   "outputs": [
    {
     "data": {
      "text/plain": [
       "(15, 28, 28)"
      ]
     },
     "execution_count": 99,
     "metadata": {},
     "output_type": "execute_result"
    }
   ],
   "source": [
    "# В программе созданы два массива с картинками 28 на 28 пикселей. \n",
    "# Массивы записаны в переменные arr_1 и arr_2. \n",
    "# Массив arr_1 имеет размер (10, 28, 28), а массив arr_2 имеет размер (5, 28, 28). \n",
    "# К картинкам из arr_1 добавьте картинки из arr_2.\n",
    "\n",
    "# Результат запишите в переменную new_arr.\n",
    "\n",
    "arr_1 = np.empty([10, 28, 28])\n",
    "arr_2 = np.empty([5, 28, 28])\n",
    "\n",
    "new_arr = np.append(arr_1, arr_2, axis=0)\n",
    "\n",
    "new_arr.shape"
   ]
  },
  {
   "cell_type": "code",
   "execution_count": 100,
   "metadata": {},
   "outputs": [
    {
     "data": {
      "text/plain": [
       "(11, 28, 28)"
      ]
     },
     "execution_count": 100,
     "metadata": {},
     "output_type": "execute_result"
    }
   ],
   "source": [
    "# В программе созданы два массива и записаны в переменные arr_1 и arr_2. \n",
    "# Массив arr_1 имеет размер (10, 28, 28), 10 картинок 28 на 28 пикселей. \n",
    "# Массив arr_2 имеет размер (28, 28), содержит одну картинку. \n",
    "# К картинкам из arr_1 добавьте картинку arr_2.\n",
    "\n",
    "# Результат запишите в переменную new_arr.\n",
    "\n",
    "arr_1 = np.empty([10, 28, 28])\n",
    "arr_2 = np.empty([28, 28])\n",
    "\n",
    "new_arr = np.append(arr_1, arr_2[np.newaxis], axis=0)\n",
    "\n",
    "new_arr.shape"
   ]
  },
  {
   "cell_type": "code",
   "execution_count": 101,
   "metadata": {},
   "outputs": [
    {
     "data": {
      "text/plain": [
       "(10, 28, 28, 3)"
      ]
     },
     "execution_count": 101,
     "metadata": {},
     "output_type": "execute_result"
    }
   ],
   "source": [
    "# В программе созданы два массива и записаны в переменные arr_1 и arr_2. \n",
    "# Массив arr_1 имеет размер (10, 28, 28, 2), 10 картинок 28 на 28 пикселей с двумя цветовыми каналами G и B. \n",
    "# Массив arr_2 имеет размер (10, 28, 28, 1), 10 картинок 28 на 28 пикселей с одним цветовым каналом R. \n",
    "# Добавьте один массив к другому так, чтобы получить 10 картинок с тремя цветовыми каналами RGB.\n",
    "\n",
    "# Результат запишите в переменную new_arr.\n",
    "\n",
    "arr_1 = np.empty([10, 28, 28, 2])\n",
    "arr_2 = np.empty([10, 28, 28, 1])\n",
    "\n",
    "new_arr = np.append(arr_2, arr_1, axis=3) # - arr_2 + arr_1, потому что RGB (не GBR)\n",
    "\n",
    "new_arr.shape"
   ]
  },
  {
   "cell_type": "code",
   "execution_count": 102,
   "metadata": {},
   "outputs": [
    {
     "name": "stdout",
     "output_type": "stream",
     "text": [
      "(10, 28, 28)\n",
      "(9, 28, 28)\n"
     ]
    }
   ],
   "source": [
    "# В программе создан массив записан в переменную arr. Удалите последний элемент на нулевой оси.\n",
    "\n",
    "# Результат запишите в переменную new_arr.\n",
    "\n",
    "arr = np.empty([10, 28, 28])\n",
    "\n",
    "print(arr.shape)\n",
    "\n",
    "new_arr = np.delete(arr, -1, axis=0)\n",
    "\n",
    "print(new_arr.shape)"
   ]
  },
  {
   "cell_type": "code",
   "execution_count": 103,
   "metadata": {},
   "outputs": [
    {
     "name": "stdout",
     "output_type": "stream",
     "text": [
      "(10, 28, 28)\n",
      "(10, 28, 25)\n"
     ]
    }
   ],
   "source": [
    "# В программе создан массив записан в переменную arr. Удалите элементы с индексами 1, 3, 5 на последней оси.\n",
    "\n",
    "# Результат запишите в переменную new_arr.\n",
    "\n",
    "arr = np.empty([10, 28, 28])\n",
    "\n",
    "print(arr.shape)\n",
    "\n",
    "new_arr = np.delete(arr, [1, 3, 5], axis=-1)\n",
    "\n",
    "print(new_arr.shape)"
   ]
  },
  {
   "cell_type": "code",
   "execution_count": 104,
   "metadata": {},
   "outputs": [
    {
     "name": "stdout",
     "output_type": "stream",
     "text": [
      "(10, 28, 25)\n"
     ]
    }
   ],
   "source": [
    "delete_items = (1, 3, 5)\n",
    "new_arr = np.delete(arr=arr, obj=delete_items, axis=arr.ndim - 1)\n",
    "\n",
    "print(new_arr.shape)"
   ]
  },
  {
   "cell_type": "code",
   "execution_count": 105,
   "metadata": {},
   "outputs": [
    {
     "name": "stdout",
     "output_type": "stream",
     "text": [
      "Размер картинки (28, 28)\n"
     ]
    }
   ],
   "source": [
    "img = np.random.randint(0, 255, 28*28).reshape([28, 28]) # - генерация картинки 28 на 28 пикселей\n",
    "print(f'Размер картинки {img.shape}')"
   ]
  },
  {
   "cell_type": "code",
   "execution_count": 106,
   "metadata": {},
   "outputs": [
    {
     "name": "stdout",
     "output_type": "stream",
     "text": [
      "(110, 28, 28)\n"
     ]
    }
   ],
   "source": [
    "# Множественное добавление картинок в массив картинок\n",
    "\n",
    "# Копирует каждый раз существующий массив, выделяя память на него, и добавляет к нему новый элемент (долго)\n",
    "\n",
    "arr = np.empty([100, 28, 28]) # - имеется массив 100 картинок\n",
    "\n",
    "for i in range(10):\n",
    "    img = np.random.randint(0, 255, 28*28).reshape([28, 28])\n",
    "    arr = np.append(arr, img[np.newaxis], axis=0)\n",
    "\n",
    "print(arr.shape)"
   ]
  },
  {
   "cell_type": "code",
   "execution_count": 107,
   "metadata": {},
   "outputs": [
    {
     "name": "stdout",
     "output_type": "stream",
     "text": [
      "(110, 28, 28)\n"
     ]
    }
   ],
   "source": [
    "# Множественное добавление картинок в массив картинок\n",
    "\n",
    "# Изменяет существующий массив (быстрее)\n",
    "\n",
    "arr = np.empty([100, 28, 28]) # - имеется массив 100 картинок\n",
    "arr.resize([100 + 10, 28, 28]) # - расширение массива (10 элементов заполняется нулями)\n",
    "\n",
    "for i in range(10):\n",
    "    img = np.random.randint(0, 255, 28*28).reshape([28, 28])\n",
    "    arr[100 + i] = img\n",
    "\n",
    "print(arr.shape)"
   ]
  },
  {
   "cell_type": "markdown",
   "metadata": {},
   "source": [
    "# 1.6 Индексация и срезы."
   ]
  },
  {
   "cell_type": "code",
   "execution_count": 108,
   "metadata": {},
   "outputs": [
    {
     "name": "stdout",
     "output_type": "stream",
     "text": [
      "(10, 28, 28)\n",
      "(28, 28)\n"
     ]
    }
   ],
   "source": [
    "# В программе создан массив с наборам картинок и записан в переменную arr. \n",
    "# Размер массива (10, 28, 28), 10 картинок 28 на 28 пикселей​​. \n",
    "\n",
    "# Картинку с индексом 5 запишите в переменную img.\n",
    "\n",
    "arr = np.arange(7840).reshape(10, 28 ,28)\n",
    "\n",
    "print(arr.shape)\n",
    "\n",
    "img = arr[5]\n",
    "\n",
    "print(img.shape)"
   ]
  },
  {
   "cell_type": "code",
   "execution_count": 109,
   "metadata": {},
   "outputs": [
    {
     "name": "stdout",
     "output_type": "stream",
     "text": [
      "(10, 3)\n",
      "12\n"
     ]
    }
   ],
   "source": [
    "# В программе создан массив содержащий координаты точек и записан в переменную coord. \n",
    "# Размер массива (10, 3), 10 точек с тремя координатами X, Y, Z​​. \n",
    "# Получите значение координаты X у точки с индексом 4.\n",
    "\n",
    "# Результат запишите в переменную coord_X.\n",
    "\n",
    "coord = np.arange(30).reshape(10, 3)\n",
    "\n",
    "print(coord.shape)\n",
    "\n",
    "coord_X = coord[4, 0]\n",
    "\n",
    "print(coord_X)"
   ]
  },
  {
   "cell_type": "code",
   "execution_count": 110,
   "metadata": {},
   "outputs": [
    {
     "name": "stdout",
     "output_type": "stream",
     "text": [
      "(100, 28, 28)\n",
      "(10, 28, 28)\n"
     ]
    }
   ],
   "source": [
    "# В программе создан массив с наборам картинок и записан в переменную img. \n",
    "# Размер массива (100, 28, 28), 100 картинок 28 на 28 пикселей​​. \n",
    "# Получите изображения с индексами с 1 по 10 включительно. \n",
    "\n",
    "# Результат запишите в переменную new_img.\n",
    "\n",
    "img = np.arange(100 * 28 * 28).reshape(100, 28, 28)\n",
    "\n",
    "print(img.shape)\n",
    "\n",
    "new_img = img[1:11, :, :]\n",
    "new_img = img[1:11]\n",
    "\n",
    "print(new_img.shape)"
   ]
  },
  {
   "cell_type": "code",
   "execution_count": 111,
   "metadata": {},
   "outputs": [
    {
     "name": "stdout",
     "output_type": "stream",
     "text": [
      "(100, 28, 28)\n",
      "(17, 28, 28)\n"
     ]
    }
   ],
   "source": [
    "# В программе создан массив с наборам картинок и записан в переменную img. \n",
    "# Размер массива (100, 28, 28), 100 картинок 28 на 28 пикселей​​. \n",
    "# Получите изображения с индексами с 1 по 50 включительно, с шагом 3. \n",
    "\n",
    "# Результат запишите в переменную new_img.\n",
    "\n",
    "img = np.arange(100 * 28 * 28).reshape(100, 28, 28)\n",
    "\n",
    "print(img.shape)\n",
    "\n",
    "new_img = img[1:51:3]\n",
    "\n",
    "print(new_img.shape)"
   ]
  },
  {
   "cell_type": "code",
   "execution_count": 112,
   "metadata": {},
   "outputs": [],
   "source": [
    "# В программе создан массив с наборам картинок и записан в переменную img. \n",
    "# Размер массива (100, 28, 28), 100 картинок 28 на 28 пикселей​​. \n",
    "# Разделите массив на четыре равные части, по 25 картинок в каждом.\n",
    "\n",
    "# Результат запишите в переменные img_1, img_2, img_3, img_4.\n",
    "\n",
    "img = np.arange(100 * 28 * 28).reshape(100, 28, 28)\n",
    "\n",
    "img_1 = img[:25]\n",
    "img_2 = img[25:50]\n",
    "img_3 = img[50:75]\n",
    "img_4 = img[75:100]\n",
    "\n",
    "img_1, img_2, img_3, img_4 = [img[i: i + 25] for i in range(0, 76, 25)]\n",
    "\n",
    "img_1, img_2, img_3, img_4 = np.array_split(img, 4)"
   ]
  },
  {
   "cell_type": "code",
   "execution_count": 113,
   "metadata": {},
   "outputs": [],
   "source": [
    "# В программе создан массив с картинкой и записан в переменную img. \n",
    "# Размер массива (256, 256, 3), картинка 256 на 256 пикселей​​ с тремя цветовыми каналами RGB. \n",
    "# Получите фрагмент картинки с размерами по высоте начиная с индекса 10 до 100 включительно, \n",
    "# по ширине начиная с индекса 50 до 110 включительно. \n",
    "\n",
    "# Нулевая ось - высота\\строки.\n",
    "# Первая ось - ширина\\столбцы.\n",
    "\n",
    "# Фрагмент картинки запишите в переменную new_img.\n",
    "\n",
    "img = np.arange(256 * 256 * 3).reshape(256, 256, 3)\n",
    "\n",
    "new_img = img[10:101, 50:111]"
   ]
  },
  {
   "cell_type": "code",
   "execution_count": 114,
   "metadata": {},
   "outputs": [
    {
     "name": "stdout",
     "output_type": "stream",
     "text": [
      "(50, 100, 3)\n",
      "(50, 100, 3)\n"
     ]
    }
   ],
   "source": [
    "# В программе создан массив с картинкой и записан в переменную img. \n",
    "# Размер массива (256, 256, 3), картинка 256 на 256 пикселей​​ с тремя цветовыми каналами RGB. \n",
    "# Получите фрагмент картинки высотой 50 пикселей и шириной 100 пикселей, \n",
    "# начиная с пикселя индекс которого 10 по высоте и 20 по ширине.\n",
    "\n",
    "# Нулевая ось - высота\\строки.\n",
    "# Первая ось - ширина\\столбцы.\n",
    "\n",
    "# Фрагмент картинки запишите в переменную new_img.\n",
    "\n",
    "img = np.arange(256 * 256 * 3).reshape(256, 256, 3)\n",
    "\n",
    "new_img = img[:50, :100]\n",
    "print(new_img.shape)\n",
    "\n",
    "new_img = img[10:60, 20:120]\n",
    "print(new_img.shape)"
   ]
  },
  {
   "cell_type": "code",
   "execution_count": 115,
   "metadata": {},
   "outputs": [
    {
     "name": "stdout",
     "output_type": "stream",
     "text": [
      "(50, 100, 2)\n",
      "(50, 100, 2)\n"
     ]
    }
   ],
   "source": [
    "# В программе создан массив с картинкой и записан в переменную img. \n",
    "# Размер массива (256, 256, 3), картинка 256 на 256 пикселей​​ с тремя цветовыми каналами RGB. \n",
    "# Получите фрагмент картинки высотой 50 пикселей, шириной 100 пикселей, \n",
    "# начиная с пикселя индекс которого 100 по высоте и 50 по ширине, только R и B цветовые каналы.\n",
    "\n",
    "# Нулевая ось - высота\\строки.\n",
    "# Первая ось - ширина\\столбцы.\n",
    "\n",
    "# Фрагмент картинки запишите в переменную new_img.\n",
    "\n",
    "img = np.arange(256 * 256 * 3).reshape(256, 256, 3)\n",
    "\n",
    "new_img = img[100: 100+50, 50: 50+100, [0, 2]]\n",
    "print(new_img.shape)\n",
    "\n",
    "new_img = img[100: 100+50, 50: 50+100, [True, False, True]]\n",
    "print(new_img.shape)\n"
   ]
  },
  {
   "cell_type": "code",
   "execution_count": 116,
   "metadata": {},
   "outputs": [
    {
     "name": "stdout",
     "output_type": "stream",
     "text": [
      "[[0 0 0 0 0]\n",
      " [0 0 0 0 0]\n",
      " [0 0 0 0 0]\n",
      " [0 0 0 0 0]\n",
      " [0 0 0 0 0]]\n",
      "\n",
      "[[1 0 1 0 1]\n",
      " [1 0 1 0 1]\n",
      " [1 0 1 0 1]\n",
      " [1 0 1 0 1]\n",
      " [1 0 1 0 1]]\n",
      "\n",
      "[[0 0 0 0 0]\n",
      " [0 0 0 0 0]\n",
      " [0 0 0 0 0]\n",
      " [0 0 0 0 0]\n",
      " [0 0 0 0 0]]\n"
     ]
    }
   ],
   "source": [
    "# Создайте массив размером (5, 5) состоящий из нулей и типом данных int8. \n",
    "# Строки массива заполните единицами с шагом в два.\n",
    "\n",
    "# Результат запишите в переменную new_arr.\n",
    "\n",
    "arr = np.zeros([5, 5], dtype='int8')\n",
    "print(arr)\n",
    "\n",
    "print()\n",
    "\n",
    "new_arr = arr.copy()\n",
    "new_arr[:, ::2] = 1\n",
    "print(new_arr)\n",
    "\n",
    "print()\n",
    "\n",
    "print(arr)"
   ]
  },
  {
   "cell_type": "code",
   "execution_count": 117,
   "metadata": {},
   "outputs": [
    {
     "name": "stdout",
     "output_type": "stream",
     "text": [
      "[[0 0 0 0 0]\n",
      " [0 0 0 0 0]\n",
      " [0 0 0 0 0]\n",
      " [0 0 0 0 0]\n",
      " [0 0 0 0 0]]\n",
      "\n",
      "[[0 1 0 1 0]\n",
      " [0 1 0 1 0]\n",
      " [0 1 0 1 0]\n",
      " [0 1 0 1 0]\n",
      " [0 1 0 1 0]]\n"
     ]
    }
   ],
   "source": [
    "# Создайте массив размером (5, 5) состоящий из нулей и типом данных int8. \n",
    "# Элементы строк заполните единицами начиная с индекса 1 и с шагом в два.\n",
    "\n",
    "# Результат запишите в переменную new_arr.\n",
    "\n",
    "arr = np.zeros([5, 5], dtype='int8')\n",
    "print(arr)\n",
    "\n",
    "print()\n",
    "\n",
    "new_arr = arr.copy()\n",
    "new_arr[:, 1::2] = 1\n",
    "print(new_arr)"
   ]
  },
  {
   "cell_type": "code",
   "execution_count": 118,
   "metadata": {},
   "outputs": [
    {
     "name": "stdout",
     "output_type": "stream",
     "text": [
      "[1 1 1 1 1 1 1 1 1 1 1 1 1 1 1 1 1 1 1 1 1 1 1 1 1]\n",
      "\n",
      "[[0 1 0 1 0]\n",
      " [1 0 1 0 1]\n",
      " [0 1 0 1 0]\n",
      " [1 0 1 0 1]\n",
      " [0 1 0 1 0]]\n"
     ]
    }
   ],
   "source": [
    "# Создайте массив размером (5, 5) состоящий из единиц и типом данных int8. \n",
    "# Элементы массива заполните нулями в шахматном порядке.\n",
    "\n",
    "arr = np.ones([5, 5], dtype='int8').ravel()\n",
    "print(arr)\n",
    "\n",
    "print()\n",
    "\n",
    "new_arr = arr.copy()\n",
    "new_arr[::2] = 0\n",
    "new_arr = new_arr.reshape(5, 5)\n",
    "\n",
    "print(new_arr)"
   ]
  },
  {
   "cell_type": "code",
   "execution_count": 119,
   "metadata": {},
   "outputs": [
    {
     "name": "stdout",
     "output_type": "stream",
     "text": [
      "[[1 1 1 1 1]\n",
      " [1 1 1 1 1]\n",
      " [1 1 1 1 1]\n",
      " [1 1 1 1 1]\n",
      " [1 1 1 1 1]]\n",
      "\n",
      "[[0 1 0 1 0]\n",
      " [1 1 1 1 1]\n",
      " [0 1 0 1 0]\n",
      " [1 1 1 1 1]\n",
      " [0 1 0 1 0]]\n",
      "\n",
      "[[0 1 0 1 0]\n",
      " [1 0 1 0 1]\n",
      " [0 1 0 1 0]\n",
      " [1 0 1 0 1]\n",
      " [0 1 0 1 0]]\n",
      "\n"
     ]
    }
   ],
   "source": [
    "new_arr = np.ones([5, 5], dtype=np.int8)\n",
    "print(new_arr)\n",
    "print()\n",
    "\n",
    "new_arr[::2, ::2] = 0\n",
    "print(new_arr)\n",
    "print()\n",
    "\n",
    "new_arr[1::2, 1::2] = 0\n",
    "print(new_arr)\n",
    "print()"
   ]
  },
  {
   "cell_type": "code",
   "execution_count": 120,
   "metadata": {},
   "outputs": [
    {
     "name": "stdout",
     "output_type": "stream",
     "text": [
      "[[22  4 90 52 27]\n",
      " [55 32 23 64  7]\n",
      " [83 81 93 67 38]\n",
      " [45 31 26 88 89]\n",
      " [94 52 62 60 94]]\n",
      "\n",
      "[[0 0 0 0 0 0 0]\n",
      " [0 0 0 0 0 0 0]\n",
      " [0 0 0 0 0 0 0]\n",
      " [0 0 0 0 0 0 0]\n",
      " [0 0 0 0 0 0 0]\n",
      " [0 0 0 0 0 0 0]\n",
      " [0 0 0 0 0 0 0]]\n"
     ]
    }
   ],
   "source": [
    "# В программе создан массив размером (5, 5) с типом данных np.int8 и записан в переменную arr. \n",
    "# Получите массив с внешним отступом в один элемент заполненный нулями.\n",
    "\n",
    "arr = np.random.randint(1, 100, 5 * 5, dtype='int8').reshape(5, 5)\n",
    "print(arr)\n",
    "print()\n",
    "\n",
    "new_arr = np.zeros(np.array(arr.shape) + (2, 2), dtype='int8')\n",
    "print(new_arr)"
   ]
  },
  {
   "cell_type": "code",
   "execution_count": 121,
   "metadata": {},
   "outputs": [
    {
     "data": {
      "text/plain": [
       "array([[ 0,  0,  0,  0,  0,  0,  0],\n",
       "       [ 0, 22,  4, 90, 52, 27,  0],\n",
       "       [ 0, 55, 32, 23, 64,  7,  0],\n",
       "       [ 0, 83, 81, 93, 67, 38,  0],\n",
       "       [ 0, 45, 31, 26, 88, 89,  0],\n",
       "       [ 0, 94, 52, 62, 60, 94,  0],\n",
       "       [ 0,  0,  0,  0,  0,  0,  0]], dtype=int8)"
      ]
     },
     "execution_count": 121,
     "metadata": {},
     "output_type": "execute_result"
    }
   ],
   "source": [
    "new_arr[1:len(new_arr) - 1, 1: len(new_arr) - 1] = arr\n",
    "new_arr"
   ]
  },
  {
   "cell_type": "code",
   "execution_count": 122,
   "metadata": {},
   "outputs": [
    {
     "data": {
      "text/plain": [
       "array([[ 0,  0,  0,  0,  0,  0,  0],\n",
       "       [ 0, 22,  4, 90, 52, 27,  0],\n",
       "       [ 0, 55, 32, 23, 64,  7,  0],\n",
       "       [ 0, 83, 81, 93, 67, 38,  0],\n",
       "       [ 0, 45, 31, 26, 88, 89,  0],\n",
       "       [ 0, 94, 52, 62, 60, 94,  0],\n",
       "       [ 0,  0,  0,  0,  0,  0,  0]], dtype=int8)"
      ]
     },
     "execution_count": 122,
     "metadata": {},
     "output_type": "execute_result"
    }
   ],
   "source": [
    "new_arr = np.pad(arr, pad_width=1, mode='constant', constant_values=0)\n",
    "new_arr"
   ]
  },
  {
   "cell_type": "code",
   "execution_count": 123,
   "metadata": {},
   "outputs": [
    {
     "name": "stdout",
     "output_type": "stream",
     "text": [
      "[[ 9 58 30 54 12 60 46 37 53 22]\n",
      " [90 91  1  6 34 58 97 92 13 61]\n",
      " [22 28 13 61 34 63 57 92  3 57]\n",
      " [65 92  5 99 76 18 48 30  6 88]\n",
      " [52 69 32 74 74 10 70 59  6  3]\n",
      " [24 69 59 12 44 91 80 33 92 87]\n",
      " [18  1 37 40 76 64 98 94 16 50]\n",
      " [67 16 40  3 41 71 77 34 11 17]\n",
      " [25  6 16 73 71 15 30 96 86 26]\n",
      " [89 58 74  6  3 85 15 91 28 10]]\n",
      "\n"
     ]
    },
    {
     "data": {
      "text/plain": [
       "array([[ 0,  0,  0,  0,  0,  0,  0,  0,  0,  0],\n",
       "       [ 0,  0,  0,  0, 34, 58, 97, 92,  0,  0],\n",
       "       [ 0,  0,  0,  0, 34, 63, 57, 92,  0,  0],\n",
       "       [ 0,  0,  0,  0, 76, 18, 48, 30,  0,  0],\n",
       "       [ 0,  0,  0,  0, 74, 10, 70, 59,  0,  0],\n",
       "       [ 0,  0,  0,  0, 44, 91, 80, 33,  0,  0],\n",
       "       [ 0,  0,  0,  0, 76, 64, 98, 94,  0,  0],\n",
       "       [ 0,  0,  0,  0,  0,  0,  0,  0,  0,  0],\n",
       "       [ 0,  0,  0,  0,  0,  0,  0,  0,  0,  0],\n",
       "       [ 0,  0,  0,  0,  0,  0,  0,  0,  0,  0]], dtype=int8)"
      ]
     },
     "execution_count": 123,
     "metadata": {},
     "output_type": "execute_result"
    }
   ],
   "source": [
    "arr = np.random.randint(1, 100, 10 * 10, dtype='int8').reshape(10, 10)\n",
    "print(arr)\n",
    "print()\n",
    "\n",
    "new_arr = arr.copy()\n",
    "\n",
    "new_arr[0] = 0\n",
    "new_arr[-3:] = 0\n",
    "new_arr[:, :4] = 0\n",
    "new_arr[:, -2:] = 0\n",
    "\n",
    "new_arr"
   ]
  },
  {
   "cell_type": "code",
   "execution_count": 124,
   "metadata": {},
   "outputs": [
    {
     "data": {
      "text/plain": [
       "array([[ 0,  0,  0,  0,  0,  0,  0,  0,  0,  0],\n",
       "       [ 0,  0,  0,  0, 34, 58, 97, 92,  0,  0],\n",
       "       [ 0,  0,  0,  0, 34, 63, 57, 92,  0,  0],\n",
       "       [ 0,  0,  0,  0, 76, 18, 48, 30,  0,  0],\n",
       "       [ 0,  0,  0,  0, 74, 10, 70, 59,  0,  0],\n",
       "       [ 0,  0,  0,  0, 44, 91, 80, 33,  0,  0],\n",
       "       [ 0,  0,  0,  0, 76, 64, 98, 94,  0,  0],\n",
       "       [ 0,  0,  0,  0,  0,  0,  0,  0,  0,  0],\n",
       "       [ 0,  0,  0,  0,  0,  0,  0,  0,  0,  0],\n",
       "       [ 0,  0,  0,  0,  0,  0,  0,  0,  0,  0]], dtype=int8)"
      ]
     },
     "execution_count": 124,
     "metadata": {},
     "output_type": "execute_result"
    }
   ],
   "source": [
    "new_arr = np.zeros((10,10), dtype=np.int8)\n",
    "new_arr[1:7,4:8] = arr[1:7,4:8]\n",
    "new_arr"
   ]
  },
  {
   "cell_type": "code",
   "execution_count": 125,
   "metadata": {},
   "outputs": [
    {
     "data": {
      "text/plain": [
       "array([[ 0,  0,  0,  0,  0,  0,  0,  0,  0,  0],\n",
       "       [ 0,  0,  0,  0, 34, 58, 97, 92,  0,  0],\n",
       "       [ 0,  0,  0,  0, 34, 63, 57, 92,  0,  0],\n",
       "       [ 0,  0,  0,  0, 76, 18, 48, 30,  0,  0],\n",
       "       [ 0,  0,  0,  0, 74, 10, 70, 59,  0,  0],\n",
       "       [ 0,  0,  0,  0, 44, 91, 80, 33,  0,  0],\n",
       "       [ 0,  0,  0,  0, 76, 64, 98, 94,  0,  0],\n",
       "       [ 0,  0,  0,  0,  0,  0,  0,  0,  0,  0],\n",
       "       [ 0,  0,  0,  0,  0,  0,  0,  0,  0,  0],\n",
       "       [ 0,  0,  0,  0,  0,  0,  0,  0,  0,  0]], dtype=int8)"
      ]
     },
     "execution_count": 125,
     "metadata": {},
     "output_type": "execute_result"
    }
   ],
   "source": [
    "new_arr = np.zeros_like(arr)\n",
    "top, right, bottom, left = 1, 2, 3, 4\n",
    "new_arr[top:-bottom, left:-right] = arr[top:-bottom, left:-right]\n",
    "new_arr"
   ]
  },
  {
   "cell_type": "code",
   "execution_count": 126,
   "metadata": {},
   "outputs": [
    {
     "data": {
      "text/plain": [
       "array([['x_1', 'y_1'],\n",
       "       ['x_2', 'y_2'],\n",
       "       ['x_3', 'y_3']], dtype='<U32')"
      ]
     },
     "execution_count": 126,
     "metadata": {},
     "output_type": "execute_result"
    }
   ],
   "source": [
    "# В программе создан массив и записан в переменную arr\n",
    "# С помощью списочной индексации получите массив:\n",
    "# array(['x_1', 'y_1', 'x_2', 'y_2', 'x_3', 'y_3'])\n",
    "\n",
    "arr = np.array(['x_1', 'x_2', 'y_3', 'x_3', 'y_2', 'y_1'])\n",
    "new_arr = np.empty(0)\n",
    "\n",
    "for i in range(len(arr) // 2):\n",
    "    new_arr = np.append(new_arr, arr[[i, -i - 1]])\n",
    "new_arr[-1], new_arr[-2] = new_arr[-2], new_arr[-1]\n",
    "new_arr.shape = (3, 2)\n",
    "new_arr"
   ]
  },
  {
   "cell_type": "code",
   "execution_count": 127,
   "metadata": {},
   "outputs": [
    {
     "data": {
      "text/plain": [
       "array([['x_1', 'y_1'],\n",
       "       ['x_2', 'y_2'],\n",
       "       ['x_3', 'y_3']], dtype='<U3')"
      ]
     },
     "execution_count": 127,
     "metadata": {},
     "output_type": "execute_result"
    }
   ],
   "source": [
    "arr = np.array(['x_1', 'x_2', 'y_3', 'x_3', 'y_2', 'y_1'])\n",
    "new_arr = arr[np.array([0, 5, 1, 4, 3, 2])]\n",
    "new_arr = new_arr.reshape(3,2)\n",
    "new_arr"
   ]
  },
  {
   "cell_type": "markdown",
   "metadata": {},
   "source": [
    "# 2.1 Математические операции. Транслирование массивов."
   ]
  },
  {
   "cell_type": "code",
   "execution_count": 128,
   "metadata": {},
   "outputs": [
    {
     "data": {
      "text/plain": [
       "array([[4, 0],\n",
       "       [3, 2],\n",
       "       [3, 4],\n",
       "       [4, 3],\n",
       "       [1, 2]])"
      ]
     },
     "metadata": {},
     "output_type": "display_data"
    },
    {
     "data": {
      "text/plain": [
       "array([[4, 4],\n",
       "       [4, 2],\n",
       "       [4, 0],\n",
       "       [1, 2],\n",
       "       [2, 2]])"
      ]
     },
     "metadata": {},
     "output_type": "display_data"
    },
    {
     "data": {
      "text/plain": [
       "array([[8, 4],\n",
       "       [7, 4],\n",
       "       [7, 4],\n",
       "       [5, 5],\n",
       "       [3, 4]])"
      ]
     },
     "metadata": {},
     "output_type": "display_data"
    }
   ],
   "source": [
    "arr1 = np.random.randint(0, 5, 10).reshape(5, 2)\n",
    "arr2 = np.random.randint(0, 5, 10).reshape(5, 2)\n",
    "\n",
    "display(arr1, arr2)\n",
    "display(arr1 + arr2)"
   ]
  },
  {
   "cell_type": "code",
   "execution_count": 129,
   "metadata": {},
   "outputs": [
    {
     "name": "stdout",
     "output_type": "stream",
     "text": [
      "[ 1  2  3  4  5  6  7  8  9 10]\n",
      "[ 10  20  30  40  50  60  70  80  90 100]\n"
     ]
    }
   ],
   "source": [
    "# В программе создан массив и записан в переменную arr. Умножьте массив на 10.\n",
    "\n",
    "arr = np.arange(1, 11)\n",
    "print(arr)\n",
    "\n",
    "new_arr = arr * 10\n",
    "print(new_arr)"
   ]
  },
  {
   "cell_type": "code",
   "execution_count": 130,
   "metadata": {},
   "outputs": [],
   "source": [
    "# Даны размеры массивов. Какие из указанных массивов, благодаря транслированию, можно считать согласованными?\n",
    "\n",
    "# (3, 2) - (2)                      +\n",
    "# (4, 1, 8) - (4, 2)                -\n",
    "# (16, 28, 28, 3) - (28, 28, 1)     +\n",
    "# (2, 3, 4) - (1, 4)                +\n",
    "# (5, 3, 7) - (3, 7)                +\n",
    "# (10, 5) - (1)                     +"
   ]
  },
  {
   "cell_type": "code",
   "execution_count": 131,
   "metadata": {},
   "outputs": [
    {
     "name": "stdout",
     "output_type": "stream",
     "text": [
      "(5, 3, 7)\n",
      "(5,)\n",
      "(5, 3, 7)\n"
     ]
    }
   ],
   "source": [
    "# В программе созданы два массива и записаны в переменные arr_1 и arr_2. \n",
    "# Массив arr_1 имеет размер (5, 3, 7), а массив arr_2 имеет размер (5). \n",
    "# Умножьте массив arr_1 на arr_2.\n",
    "\n",
    "arr1 = np.empty(5 * 3 * 7).reshape(5, 3, 7)\n",
    "arr2 = np.empty(5)\n",
    "print(arr1.shape)\n",
    "print(arr2.shape)\n",
    "\n",
    "new_arr = arr1 * arr2[:, np.newaxis, np.newaxis]\n",
    "print(new_arr.shape)"
   ]
  },
  {
   "cell_type": "code",
   "execution_count": 132,
   "metadata": {},
   "outputs": [
    {
     "name": "stdout",
     "output_type": "stream",
     "text": [
      "(5, 3, 7)\n",
      "(5,)\n",
      "(5, 3, 7)\n"
     ]
    }
   ],
   "source": [
    "arr1 = np.empty(5 * 3 * 7).reshape(5, 3, 7)\n",
    "arr2 = np.empty(5)\n",
    "print(arr1.shape)\n",
    "print(arr2.shape)\n",
    "\n",
    "arr2.shape = (5, 1, 1)\n",
    "new_arr = arr1 * arr2\n",
    "print(new_arr.shape)"
   ]
  },
  {
   "cell_type": "code",
   "execution_count": 133,
   "metadata": {},
   "outputs": [
    {
     "name": "stdout",
     "output_type": "stream",
     "text": [
      "(5, 3, 7)\n",
      "(7,)\n",
      "(5, 3, 7)\n"
     ]
    }
   ],
   "source": [
    "# В программе созданы два массива и записаны в переменные arr_1 и arr_2. \n",
    "# Массив arr_1 имеет размер (5, 3, 7), а массив arr_2 имеет размер (7). \n",
    "# Прибавьте  к массиву arr_1 массив arr_2.\n",
    "\n",
    "arr1 = np.empty(5 * 3 * 7).reshape(5, 3, 7)\n",
    "arr2 = np.empty(7)\n",
    "print(arr1.shape)\n",
    "print(arr2.shape)\n",
    "\n",
    "arr2.shape = (1, 1, 7)\n",
    "new_arr = arr1 + arr2\n",
    "print(new_arr.shape)"
   ]
  },
  {
   "cell_type": "code",
   "execution_count": 134,
   "metadata": {},
   "outputs": [
    {
     "name": "stdout",
     "output_type": "stream",
     "text": [
      "(5, 3, 7)\n",
      "(5, 7)\n",
      "(5, 3, 7)\n"
     ]
    }
   ],
   "source": [
    "# В программе созданы два массива и записаны в переменные arr_1 и arr_2. \n",
    "# Массив arr_1 имеет размер (5, 3, 7), а массив arr_2 имеет размер (5, 7). \n",
    "# Поделите массив arr_1 на arr_2.\n",
    "\n",
    "arr1 = np.empty(5 * 3 * 7).reshape(5, 3, 7)\n",
    "arr2 = np.empty(5 * 7).reshape(5, 7)\n",
    "print(arr1.shape)\n",
    "print(arr2.shape)\n",
    "\n",
    "new_arr = np.divide(arr1, arr2[:, np.newaxis, :])\n",
    "print(new_arr.shape)"
   ]
  },
  {
   "cell_type": "code",
   "execution_count": 135,
   "metadata": {},
   "outputs": [
    {
     "name": "stdout",
     "output_type": "stream",
     "text": [
      "(6, 4, 3)\n",
      "(4,)\n",
      "(6, 4, 3)\n"
     ]
    }
   ],
   "source": [
    "# В программе созданы два массива и записаны в переменные arr_1 и arr_2. \n",
    "# Массив arr_1 имеет размер (6, 4, 3), а массив arr_2 имеет размер (4). \n",
    "# Умножьте массив arr_1 на arr_2.\n",
    "\n",
    "arr1 = np.empty(6 * 4 * 3).reshape(6, 4, 3)\n",
    "arr2 = np.empty(4)\n",
    "print(arr1.shape)\n",
    "print(arr2.shape)\n",
    "\n",
    "new_arr = arr1 * arr2[:, np.newaxis]\n",
    "print(new_arr.shape)"
   ]
  },
  {
   "cell_type": "code",
   "execution_count": 136,
   "metadata": {},
   "outputs": [
    {
     "name": "stdout",
     "output_type": "stream",
     "text": [
      "(6, 4, 3)\n",
      "(6, 4)\n",
      "(6, 4, 3)\n",
      "(6, 4, 3)\n"
     ]
    }
   ],
   "source": [
    "# В программе созданы два массива и записаны в переменные arr_1 и arr_2. \n",
    "# Массив arr_1 имеет размер (6, 4, 3), а массив arr_2 имеет размер (6, 4). \n",
    "# Умножьте массив arr_1 на arr_2.\n",
    "\n",
    "arr1 = np.empty(6 * 4 * 3).reshape(6, 4, 3)\n",
    "arr2 = np.empty(6 * 4).reshape(6, 4)\n",
    "print(arr1.shape)\n",
    "print(arr2.shape)\n",
    "\n",
    "new_arr = arr1 * arr2[:, :, np.newaxis]\n",
    "print(new_arr.shape)\n",
    "\n",
    "new_arr = arr1 * np.expand_dims(arr2, axis=-1)\n",
    "print(new_arr.shape)"
   ]
  },
  {
   "cell_type": "code",
   "execution_count": 137,
   "metadata": {},
   "outputs": [
    {
     "name": "stdout",
     "output_type": "stream",
     "text": [
      "(5, 3)\n",
      "(4, 2)\n",
      "(5, 3, 4, 2)\n"
     ]
    }
   ],
   "source": [
    "# В программе созданы два массива и записаны в переменные arr_1 и arr_2. \n",
    "# Массив arr_1 имеет размер (5, 3), а массив arr_2 имеет размер (4, 2). \n",
    "# Прибавьте к массиву arr_1 массив arr_2.\n",
    "\n",
    "arr1 = np.empty(5 * 3).reshape(5, 3)\n",
    "arr2 = np.empty(4 * 2).reshape(4, 2)\n",
    "print(arr1.shape)\n",
    "print(arr2.shape)\n",
    "\n",
    "new_arr = arr1[:, :, np.newaxis, np.newaxis] + arr2\n",
    "print(new_arr.shape)"
   ]
  },
  {
   "cell_type": "code",
   "execution_count": 138,
   "metadata": {},
   "outputs": [
    {
     "name": "stdout",
     "output_type": "stream",
     "text": [
      "(10, 2)\n",
      "(10,)\n",
      "(10, 2)\n"
     ]
    }
   ],
   "source": [
    "# В программе создан массив размером (10, 2) и записан в переменную arr. \n",
    "# Массив содержит 10 точек с двумя координатами x и y. Массив loss имеет размер (10), содержит погрешность в измерениях координат для каждой точки. \n",
    "# Из координат в массиве arr вычтите погрешность.\n",
    "\n",
    "arr = np.empty(10 * 2).reshape(10, 2)\n",
    "loss = np.empty(10)\n",
    "print(arr.shape)\n",
    "print(loss.shape)\n",
    "\n",
    "new_arr = arr - loss[:, np.newaxis]\n",
    "print(new_arr.shape)"
   ]
  },
  {
   "cell_type": "code",
   "execution_count": 139,
   "metadata": {},
   "outputs": [
    {
     "data": {
      "text/plain": [
       "array([[ 1,  2,  3],\n",
       "       [ 4,  5,  6],\n",
       "       [ 7,  8,  9],\n",
       "       [10, 11, 12],\n",
       "       [13, 14, 15]])"
      ]
     },
     "metadata": {},
     "output_type": "display_data"
    },
    {
     "data": {
      "text/plain": [
       "array([0, 1, 2, 3, 4])"
      ]
     },
     "metadata": {},
     "output_type": "display_data"
    },
    {
     "data": {
      "text/plain": [
       "array([[ 1,  2,  3],\n",
       "       [ 4,  4,  6],\n",
       "       [ 7,  6,  9],\n",
       "       [10,  8, 12],\n",
       "       [13, 10, 15]])"
      ]
     },
     "metadata": {},
     "output_type": "display_data"
    }
   ],
   "source": [
    "# В программе создан массив размером (5, 3) и записан в переменную arr. \n",
    "# Массив содержит 10 точек с тремя координатами x, y и z. Массив loss имеет размер (5), содержит погрешность в измерениях координаты y. \n",
    "# В массиве arr исправьте значение координаты y вычев из нее погрешность.\n",
    "\n",
    "arr = np.arange(1, 16).reshape(5, 3)\n",
    "loss = np.arange(5)\n",
    "display(arr, loss)\n",
    "\n",
    "arr[:, 1] = arr[:, 1] - loss\n",
    "display(arr)"
   ]
  },
  {
   "cell_type": "code",
   "execution_count": 140,
   "metadata": {},
   "outputs": [
    {
     "data": {
      "text/plain": [
       "array([[[ 0,  1],\n",
       "        [ 2,  3],\n",
       "        [ 4,  5]],\n",
       "\n",
       "       [[ 6,  7],\n",
       "        [ 8,  9],\n",
       "        [10, 11]]])"
      ]
     },
     "metadata": {},
     "output_type": "display_data"
    },
    {
     "data": {
      "text/plain": [
       "array([2, 2, 2])"
      ]
     },
     "metadata": {},
     "output_type": "display_data"
    },
    {
     "data": {
      "text/plain": [
       "array([[[-2, -1],\n",
       "        [ 0,  1],\n",
       "        [ 2,  3]],\n",
       "\n",
       "       [[ 4,  5],\n",
       "        [ 6,  7],\n",
       "        [ 8,  9]]])"
      ]
     },
     "metadata": {},
     "output_type": "display_data"
    }
   ],
   "source": [
    "# В программе создан массив размером (10, 4, 2) и записан в переменную arr. \n",
    "# Массив содержит 10 наблюдений, в которых четырьмя разными методами измерялись координаты x и y. \n",
    "# Массив loss имеет размер (4), содержит погрешность в измерениях каждого метода. \n",
    "# В массиве arr исправьте значение координат вычев из них погрешность.\n",
    "\n",
    "arr = np.arange(2 * 3 * 2).reshape(2, 3, 2)\n",
    "loss = np.array([2, 2, 2])\n",
    "display(arr, loss)\n",
    "\n",
    "new_arr = arr - loss[np.newaxis, :, np.newaxis]\n",
    "display(new_arr)"
   ]
  },
  {
   "cell_type": "code",
   "execution_count": 141,
   "metadata": {},
   "outputs": [
    {
     "name": "stdout",
     "output_type": "stream",
     "text": [
      "(16, 3, 3)\n",
      "(64, 3, 3)\n",
      "(64, 16, 3, 3)\n"
     ]
    }
   ],
   "source": [
    "# Создан массив с размером (16, 28, 28), 16 картинок 28 на 28 пикселей в градации серого. \n",
    "# В массиве взят срез по первой и второй оси и записан в переменную arr. \n",
    "# Срез имеет размер (16, 3, 3). \n",
    "# Умножьте срез на массив kernels с размером (64, 3, 3), 64 ядра размером 3 на 3 пикселя.\n",
    "\n",
    "arr = np.empty(16 * 3 * 3).reshape(16, 3, 3)\n",
    "print(arr.shape)\n",
    "kernels = np.empty(64 * 3 * 3).reshape(64, 3, 3)\n",
    "print(kernels.shape)\n",
    "\n",
    "new_arr = arr[np.newaxis, :, :, :] * kernels[:, np.newaxis, :, :]\n",
    "print(new_arr.shape)"
   ]
  },
  {
   "cell_type": "code",
   "execution_count": 142,
   "metadata": {},
   "outputs": [
    {
     "name": "stdout",
     "output_type": "stream",
     "text": [
      "(16, 3, 3, 3)\n",
      "(32, 3, 3)\n",
      "(32, 16, 3, 3, 3)\n"
     ]
    }
   ],
   "source": [
    "# Создан массив с размером (16, 28, 28, 3), 16 картинок 28 на 28 пикселей с тремя цветовыми каналами RGB. \n",
    "# В массиве взят срез по первой и второй оси и записан в переменную arr. \n",
    "# Срез имеет размер (16, 3, 3, 3). \n",
    "# Умножьте срез на массив kernels с размером (32, 3, 3), 32 ядра размером 3 на 3 пикселя.\n",
    "\n",
    "arr = np.empty(16 * 3 * 3 * 3).reshape(16, 3, 3, 3)\n",
    "print(arr.shape)\n",
    "kernels = np.empty(32 * 3 * 3).reshape(32, 3, 3)\n",
    "print(kernels.shape)\n",
    "\n",
    "new_arr = arr[np.newaxis, :, :, :, :] * kernels[ :, np.newaxis, np.newaxis, :, :]\n",
    "print(new_arr.shape)"
   ]
  },
  {
   "cell_type": "code",
   "execution_count": 143,
   "metadata": {},
   "outputs": [
    {
     "name": "stdout",
     "output_type": "stream",
     "text": [
      "(16, 3, 3, 3)\n",
      "(32, 3, 3)\n",
      "(16, 32, 3, 3, 3)\n"
     ]
    },
    {
     "name": "stderr",
     "output_type": "stream",
     "text": [
      "C:\\Users\\kuche\\AppData\\Local\\Temp\\ipykernel_13472\\986492731.py:9: RuntimeWarning: overflow encountered in multiply\n",
      "  new_arr = arr * kernels\n"
     ]
    }
   ],
   "source": [
    "arr = np.empty(16 * 3 * 3 * 3).reshape(16, 3, 3, 3)\n",
    "print(arr.shape)\n",
    "kernels = np.empty(32 * 3 * 3).reshape(32, 3, 3)\n",
    "print(kernels.shape)\n",
    "\n",
    "arr = arr.reshape(16, 1, 3, 3, 3)\n",
    "kernels = kernels.reshape(1, 32, 3, 3, 1)\n",
    "\n",
    "new_arr = arr * kernels\n",
    "print(new_arr.shape)"
   ]
  },
  {
   "cell_type": "markdown",
   "metadata": {},
   "source": [
    "# 2.2 Математические функции."
   ]
  },
  {
   "cell_type": "code",
   "execution_count": 144,
   "metadata": {},
   "outputs": [
    {
     "data": {
      "text/plain": [
       "array([[[ 2,  3],\n",
       "        [ 4,  5],\n",
       "        [ 6,  7]],\n",
       "\n",
       "       [[ 8,  9],\n",
       "        [10, 11],\n",
       "        [12, 13]],\n",
       "\n",
       "       [[14, 15],\n",
       "        [16, 17],\n",
       "        [18, 19]]])"
      ]
     },
     "execution_count": 144,
     "metadata": {},
     "output_type": "execute_result"
    }
   ],
   "source": [
    "arr = np.arange(2, 20).reshape([3, 3, 2])\n",
    "arr"
   ]
  },
  {
   "cell_type": "code",
   "execution_count": 145,
   "metadata": {},
   "outputs": [
    {
     "name": "stdout",
     "output_type": "stream",
     "text": [
      "2\n",
      "19\n",
      "189\n",
      "10.5\n",
      "5.188127472091127\n"
     ]
    }
   ],
   "source": [
    "# Методы\n",
    "\n",
    "print(arr.min())\n",
    "print(arr.max())\n",
    "print(arr.sum())\n",
    "print(arr.mean())\n",
    "print(arr.std())"
   ]
  },
  {
   "cell_type": "code",
   "execution_count": 146,
   "metadata": {},
   "outputs": [
    {
     "name": "stdout",
     "output_type": "stream",
     "text": [
      "[[[ 2  3]\n",
      "  [ 4  5]\n",
      "  [ 6  7]]\n",
      "\n",
      " [[ 8  9]\n",
      "  [10 11]\n",
      "  [12 13]]\n",
      "\n",
      " [[14 15]\n",
      "  [16 17]\n",
      "  [18 19]]]\n",
      "\n",
      "19\n",
      "[[[0.69314718 1.09861229]\n",
      "  [1.38629436 1.60943791]\n",
      "  [1.79175947 1.94591015]]\n",
      "\n",
      " [[2.07944154 2.19722458]\n",
      "  [2.30258509 2.39789527]\n",
      "  [2.48490665 2.56494936]]\n",
      "\n",
      " [[2.63905733 2.7080502 ]\n",
      "  [2.77258872 2.83321334]\n",
      "  [2.89037176 2.94443898]]]\n",
      "178482300.96318725\n"
     ]
    }
   ],
   "source": [
    "# Функции\n",
    "\n",
    "print(np.abs(arr))\n",
    "print()\n",
    "print(np.max(arr))\n",
    "print(np.log(arr))\n",
    "# print(np.exp(arr))\n",
    "print(np.max(np.exp(arr)))"
   ]
  },
  {
   "cell_type": "code",
   "execution_count": 147,
   "metadata": {},
   "outputs": [
    {
     "name": "stdout",
     "output_type": "stream",
     "text": [
      "[[[ 0.90929743  0.14112001]\n",
      "  [-0.7568025  -0.95892427]\n",
      "  [-0.2794155   0.6569866 ]]\n",
      "\n",
      " [[ 0.98935825  0.41211849]\n",
      "  [-0.54402111 -0.99999021]\n",
      "  [-0.53657292  0.42016704]]\n",
      "\n",
      " [[ 0.99060736  0.65028784]\n",
      "  [-0.28790332 -0.96139749]\n",
      "  [-0.75098725  0.14987721]]]\n",
      "[[[-0.41614684 -0.9899925 ]\n",
      "  [-0.65364362  0.28366219]\n",
      "  [ 0.96017029  0.75390225]]\n",
      "\n",
      " [[-0.14550003 -0.91113026]\n",
      "  [-0.83907153  0.0044257 ]\n",
      "  [ 0.84385396  0.90744678]]\n",
      "\n",
      " [[ 0.13673722 -0.75968791]\n",
      "  [-0.95765948 -0.27516334]\n",
      "  [ 0.66031671  0.98870462]]]\n",
      "[[[1.10714872 1.24904577]\n",
      "  [1.32581766 1.37340077]\n",
      "  [1.40564765 1.42889927]]\n",
      "\n",
      " [[1.44644133 1.46013911]\n",
      "  [1.47112767 1.48013644]\n",
      "  [1.48765509 1.49402444]]\n",
      "\n",
      " [[1.49948886 1.50422816]\n",
      "  [1.50837752 1.5120405 ]\n",
      "  [1.51529782 1.51821327]]]\n"
     ]
    }
   ],
   "source": [
    "print(np.sin(arr))\n",
    "print(np.cos(arr))\n",
    "print(np.arctan(arr))"
   ]
  },
  {
   "cell_type": "code",
   "execution_count": 148,
   "metadata": {},
   "outputs": [
    {
     "data": {
      "text/plain": [
       "array([[[ 2,  3],\n",
       "        [ 4,  5],\n",
       "        [ 6,  7]],\n",
       "\n",
       "       [[ 8,  9],\n",
       "        [10, 11],\n",
       "        [12, 13]],\n",
       "\n",
       "       [[14, 15],\n",
       "        [16, 17],\n",
       "        [18, 19]]])"
      ]
     },
     "execution_count": 148,
     "metadata": {},
     "output_type": "execute_result"
    }
   ],
   "source": [
    "arr = np.arange(2, 20).reshape([3, 3, 2])\n",
    "arr"
   ]
  },
  {
   "cell_type": "code",
   "execution_count": 149,
   "metadata": {},
   "outputs": [
    {
     "name": "stdout",
     "output_type": "stream",
     "text": [
      "[[24 27]\n",
      " [30 33]\n",
      " [36 39]]\n",
      "\n",
      "[[12 15]\n",
      " [30 33]\n",
      " [48 51]]\n",
      "\n",
      "[[ 5  9 13]\n",
      " [17 21 25]\n",
      " [29 33 37]]\n"
     ]
    }
   ],
   "source": [
    "print(np.sum(arr, axis=0))\n",
    "print()\n",
    "print(np.sum(arr, axis=1))\n",
    "print()\n",
    "print(np.sum(arr, axis=2))"
   ]
  },
  {
   "cell_type": "code",
   "execution_count": 150,
   "metadata": {},
   "outputs": [
    {
     "name": "stdout",
     "output_type": "stream",
     "text": [
      "[1 2 3 4]\n",
      "3\n",
      "3\n"
     ]
    }
   ],
   "source": [
    "# В программе создан одномерный массив и записан в переменную arr. \n",
    "# Получите индекс максимального и минимального значения в массиве.\n",
    "\n",
    "# Результат запишите в переменные arr_argmax, arr_argmin соответственно.\n",
    "\n",
    "arr = np.arange(1, 5)\n",
    "print(arr)\n",
    "\n",
    "print(np.argmax(arr))\n",
    "print(*np.where(arr == 4)[0])"
   ]
  },
  {
   "cell_type": "code",
   "execution_count": 151,
   "metadata": {},
   "outputs": [
    {
     "data": {
      "text/plain": [
       "4"
      ]
     },
     "execution_count": 151,
     "metadata": {},
     "output_type": "execute_result"
    }
   ],
   "source": [
    "# В программе создан одномерный массив и записан в переменную arr. Найдите значение в массиве ближайшее к числу 10\n",
    "\n",
    "# Результат запишите в переменную value.\n",
    "\n",
    "value = arr[np.argmin(np.abs(arr - 10))]\n",
    "value"
   ]
  },
  {
   "cell_type": "code",
   "execution_count": 152,
   "metadata": {},
   "outputs": [
    {
     "data": {
      "text/plain": [
       "array([[[ 0,  1],\n",
       "        [ 2,  3],\n",
       "        [ 4,  5],\n",
       "        [ 6,  7]],\n",
       "\n",
       "       [[ 8,  9],\n",
       "        [10, 11],\n",
       "        [12, 13],\n",
       "        [14, 15]],\n",
       "\n",
       "       [[16, 17],\n",
       "        [18, 19],\n",
       "        [20, 21],\n",
       "        [22, 23]],\n",
       "\n",
       "       [[24, 25],\n",
       "        [26, 27],\n",
       "        [28, 29],\n",
       "        [30, 31]],\n",
       "\n",
       "       [[32, 33],\n",
       "        [34, 35],\n",
       "        [36, 37],\n",
       "        [38, 39]]])"
      ]
     },
     "metadata": {},
     "output_type": "display_data"
    },
    {
     "data": {
      "text/plain": [
       "array([19., 20.])"
      ]
     },
     "execution_count": 152,
     "metadata": {},
     "output_type": "execute_result"
    }
   ],
   "source": [
    "# На пяти фотографиях лиц определенны координаты четырех точек \n",
    "# Первая точка - внешний уголок правого глаза, вторая точка - внешний уголок левого глаза, \n",
    "# третья точка - переносица, четвёртая точка - кончик носа. \n",
    "# Все данные записаны в массив coord с размером (5, 4, 2). \n",
    "# Определите среднее значение координат x и y в массиве.\n",
    "\n",
    "coord = np.arange(5 * 4 * 2).reshape([5, 4, 2])\n",
    "\n",
    "display(coord)\n",
    "\n",
    "mean_coord = np.mean(coord, axis=(0, 1))\n",
    "mean_coord"
   ]
  },
  {
   "cell_type": "code",
   "execution_count": 153,
   "metadata": {},
   "outputs": [
    {
     "data": {
      "text/plain": [
       "array([[16., 17.],\n",
       "       [18., 19.],\n",
       "       [20., 21.],\n",
       "       [22., 23.]])"
      ]
     },
     "execution_count": 153,
     "metadata": {},
     "output_type": "execute_result"
    }
   ],
   "source": [
    "# На пяти фотографиях лиц определенны координаты четырех точек. \n",
    "# Первая точка - внешний уголок правого глаза, вторая точка - внешний уголок левого глаза, \n",
    "# третья точка - переносица, четвёртая точка - кончик носа. \n",
    "# Все данные записаны в массив coord с размером (5, 4, 2). \n",
    "# Определите среднее значение координат x и y для каждой фотографии в массиве.\n",
    "\n",
    "coord = np.arange(5 * 4 * 2).reshape([5, 4, 2])\n",
    "\n",
    "mean_coord = np.mean(coord, axis=0)\n",
    "mean_coord"
   ]
  },
  {
   "cell_type": "code",
   "execution_count": 154,
   "metadata": {},
   "outputs": [
    {
     "data": {
      "text/plain": [
       "array([[16., 17.],\n",
       "       [18., 19.],\n",
       "       [20., 21.],\n",
       "       [22., 23.]])"
      ]
     },
     "execution_count": 154,
     "metadata": {},
     "output_type": "execute_result"
    }
   ],
   "source": [
    "# На пяти фотографиях лиц определенны координаты четырех точек. \n",
    "# Первая точка - внешний уголок правого глаза, вторая точка - внешний уголок левого глаза, \n",
    "# третья точка - переносица, четвёртая точка - кончик носа. \n",
    "# Все данные записаны в массив coord с размером (5, 4, 2). \n",
    "# Определите среднее значение координат x и y для каждой точки.\n",
    "\n",
    "coord = np.arange(5 * 4 * 2).reshape([5, 4, 2])\n",
    "\n",
    "mean_coord = np.mean(coord, axis=0)\n",
    "mean_coord"
   ]
  },
  {
   "cell_type": "code",
   "execution_count": 155,
   "metadata": {},
   "outputs": [
    {
     "name": "stdout",
     "output_type": "stream",
     "text": [
      "(100, 28, 28, 3)\n",
      "[117598.5 117599.5 117600.5] [67896.39165118 67896.39165118 67896.39165118]\n"
     ]
    }
   ],
   "source": [
    "# Набор данных состоящий из 100 картинок 28 на 28 пикселей с 3-мя цветовыми каналами RGB записан в массив img \n",
    "# и имеет размер(100, 28, 28, 3). \n",
    "# Определите среднее значение и стандартное отклонение (std) для каждого цветового канала по всему массиву.\n",
    "\n",
    "# Результат запишите в переменные mean_img и std_img соответственно.\n",
    "\n",
    "img = np.arange(100 * 28 * 28 * 3).reshape([100, 28, 28, 3])\n",
    "print(img.shape)\n",
    "\n",
    "mean_img = np.mean(img, axis=(0, 1, 2))\n",
    "std_img = np.std(img, axis=(0, 1, 2))\n",
    "\n",
    "print(mean_img, std_img)"
   ]
  },
  {
   "cell_type": "code",
   "execution_count": 156,
   "metadata": {},
   "outputs": [
    {
     "name": "stdout",
     "output_type": "stream",
     "text": [
      "(100, 28, 28, 3)\n",
      "(100, 3) (100, 3)\n"
     ]
    }
   ],
   "source": [
    "# Набор данных состоящий из 100 картинок 28 на 28 пикселей с 3-мя цветовыми каналами RGB записан в массив img \n",
    "# и имеет размер(100, 28, 28, 3). \n",
    "# Определите среднее значение и стандартное отклонение (std) каждого цветового канала для каждой картинки.\n",
    "\n",
    "# Результат запишите в переменные mean_img и std_img соответственно.\n",
    "\n",
    "img = np.arange(100 * 28 * 28 * 3).reshape([100, 28, 28, 3])\n",
    "print(img.shape)\n",
    "\n",
    "mean_img = np.mean(img, axis=(1, 2))\n",
    "std_img = np.std(img, axis=(1, 2))\n",
    "\n",
    "print(mean_img.shape, std_img.shape)"
   ]
  },
  {
   "cell_type": "code",
   "execution_count": 157,
   "metadata": {},
   "outputs": [
    {
     "name": "stdout",
     "output_type": "stream",
     "text": [
      "(100, 28, 28, 3)\n",
      "(28, 28, 3) (28, 28, 3)\n"
     ]
    }
   ],
   "source": [
    "# Набор данных состоящий из 100 картинок 28 на 28 пикселей с 3-мя цветовыми каналами RGB записан в массив img \n",
    "# и имеет размер(100, 28, 28, 3). \n",
    "# Определите среднее значение и стандартное отклонение (std) каждого цветового канала для каждого пикселя.\n",
    "\n",
    "# Результат запишите в переменные mean_img и std_img соответственно. Размер массивов должен быть (28, 28, 3).\n",
    "\n",
    "img = np.arange(100 * 28 * 28 * 3).reshape([100, 28, 28, 3])\n",
    "print(img.shape)\n",
    "\n",
    "mean_img = np.mean(img, axis=0)\n",
    "std_img = np.std(img, axis=0)\n",
    "\n",
    "print(mean_img.shape, std_img.shape)"
   ]
  },
  {
   "cell_type": "code",
   "execution_count": 158,
   "metadata": {},
   "outputs": [
    {
     "name": "stdout",
     "output_type": "stream",
     "text": [
      "[0 1 2 3 4 5 6 7 8 9]\n",
      "[7 1 9 3 6]\n"
     ]
    }
   ],
   "source": [
    "# В программе создан массив и записан в переменную arr. Сформируйте массив с пятью элементами рандомно взятых из массива arr.\n",
    "\n",
    "# Результат запишите в переменные new_arr.\n",
    "\n",
    "arr = np.arange(10)\n",
    "print(arr)\n",
    "\n",
    "new_arr = np.random.choice(arr, 5)\n",
    "print(new_arr)"
   ]
  },
  {
   "cell_type": "code",
   "execution_count": 159,
   "metadata": {},
   "outputs": [
    {
     "name": "stdout",
     "output_type": "stream",
     "text": [
      "[0 1 2 3 4 5 6 7 8 9]\n",
      "[7 1 9 2 8 0 3 4 5 6]\n"
     ]
    }
   ],
   "source": [
    "# В программе создан массив и записан в переменную arr. \n",
    "# Перемешайте элементы на нулевой оси.\n",
    "\n",
    "arr = np.arange(10)\n",
    "print(arr)\n",
    "\n",
    "np.random.shuffle(arr)\n",
    "print(arr)"
   ]
  },
  {
   "cell_type": "markdown",
   "metadata": {},
   "source": [
    "# 2.3 Операции сравнения."
   ]
  },
  {
   "cell_type": "code",
   "execution_count": 160,
   "metadata": {},
   "outputs": [
    {
     "name": "stdout",
     "output_type": "stream",
     "text": [
      "[[[False False False]\n",
      "  [False False False]\n",
      "  [False False False]\n",
      "  [False False False]\n",
      "  [False False False]\n",
      "  [False False False]\n",
      "  [False False False]]\n",
      "\n",
      " [[False False False]\n",
      "  [False False False]\n",
      "  [False False False]\n",
      "  [False False False]\n",
      "  [False False False]\n",
      "  [False False False]\n",
      "  [False False False]]]\n"
     ]
    }
   ],
   "source": [
    "# В программе созданы два массива и записаны в переменные arr_1 и arr_2. \n",
    "# Массив arr_1 имеет размер (2, 7, 3), а массив arr_2 имеет размер (2, 7). \n",
    "# Сравните массив arr_1 с arr_2, операция сравнения <.\n",
    "\n",
    "arr_1 = np.arange(2 * 7 * 3).reshape(2, 7, 3)\n",
    "arr_2 = np.arange(2 * 7).reshape(2, 7)\n",
    "\n",
    "new_arr = arr_1 < arr_2[:, :, np.newaxis]\n",
    "print(new_arr)"
   ]
  },
  {
   "cell_type": "code",
   "execution_count": 161,
   "metadata": {},
   "outputs": [
    {
     "name": "stdout",
     "output_type": "stream",
     "text": [
      "[[[False False False]\n",
      "  [False False False]\n",
      "  [False False False]\n",
      "  [False False False]\n",
      "  [False False False]\n",
      "  [False False False]\n",
      "  [False False False]]\n",
      "\n",
      " [[False False False]\n",
      "  [False False False]\n",
      "  [False False False]\n",
      "  [False False False]\n",
      "  [False False False]\n",
      "  [False False False]\n",
      "  [False False False]]]\n"
     ]
    }
   ],
   "source": [
    "# В программе созданы два массива и записаны в переменные arr_1 и arr_2. \n",
    "# Массив arr_1 имеет размер (2, 7, 3), а массив arr_2 имеет размер (1, 7). \n",
    "# Сравните массив arr_1 с arr_2, операция сравнения <.\n",
    "\n",
    "arr_1 = np.arange(2 * 7 * 3).reshape(2, 7, 3)\n",
    "arr_2 = np.arange(7).reshape(1, 7)\n",
    "\n",
    "new_arr = arr_1 < arr_2[:, :, np.newaxis]\n",
    "print(new_arr)"
   ]
  },
  {
   "cell_type": "code",
   "execution_count": 162,
   "metadata": {},
   "outputs": [
    {
     "name": "stdout",
     "output_type": "stream",
     "text": [
      "[[[False False False]\n",
      "  [ True  True  True]\n",
      "  [ True  True  True]\n",
      "  [ True  True  True]\n",
      "  [ True  True  True]\n",
      "  [ True  True  True]\n",
      "  [ True  True  True]]\n",
      "\n",
      " [[ True  True  True]\n",
      "  [ True  True  True]\n",
      "  [ True  True  True]\n",
      "  [ True  True  True]\n",
      "  [ True  True  True]\n",
      "  [ True  True  True]\n",
      "  [ True  True  True]]]\n"
     ]
    }
   ],
   "source": [
    "# В программе созданы два массива и записаны в переменные arr_1 и arr_2. \n",
    "# Массив arr_1 имеет размер (2, 7, 3), а массив arr_2 имеет размер (2, 3). \n",
    "# Сравните массив arr_1 с arr_2, операция сравнения <.\n",
    "\n",
    "arr_1 = np.arange(2 * 7 * 3).reshape(2, 7, 3)\n",
    "arr_2 = np.arange(2 * 3).reshape(2, 3)\n",
    "\n",
    "new_arr = arr_1 != arr_2[:, np.newaxis, :]\n",
    "print(new_arr)"
   ]
  },
  {
   "cell_type": "code",
   "execution_count": 164,
   "metadata": {},
   "outputs": [
    {
     "data": {
      "text/plain": [
       "array([ True,  True,  True,  True])"
      ]
     },
     "execution_count": 164,
     "metadata": {},
     "output_type": "execute_result"
    }
   ],
   "source": [
    "# В программе созданы два массива и записаны в переменные arr_1 и arr_2. Проверьте массивы на равенство.\n",
    "\n",
    "arr_1 = np.array([1, 3, 5, 6])\n",
    "arr_2 = np.array([1, 3, 5, 6])\n",
    "\n",
    "arr_equal = arr_1 == arr_2\n",
    "arr_equal"
   ]
  },
  {
   "cell_type": "code",
   "execution_count": 166,
   "metadata": {},
   "outputs": [
    {
     "data": {
      "text/plain": [
       "True"
      ]
     },
     "execution_count": 166,
     "metadata": {},
     "output_type": "execute_result"
    }
   ],
   "source": [
    "arr_equal = np.array_equal(arr_1, arr_2)\n",
    "arr_equal"
   ]
  },
  {
   "cell_type": "markdown",
   "metadata": {},
   "source": [
    "# 2.4 Матрицы и вектора."
   ]
  },
  {
   "cell_type": "code",
   "execution_count": 168,
   "metadata": {},
   "outputs": [
    {
     "data": {
      "text/plain": [
       "array([1, 2, 3, 4, 5])"
      ]
     },
     "metadata": {},
     "output_type": "display_data"
    },
    {
     "data": {
      "text/plain": [
       "array([2, 3, 4, 5, 6])"
      ]
     },
     "metadata": {},
     "output_type": "display_data"
    },
    {
     "data": {
      "text/plain": [
       "array([[6, 3, 7],\n",
       "       [4, 6, 9],\n",
       "       [2, 6, 7]])"
      ]
     },
     "metadata": {},
     "output_type": "display_data"
    },
    {
     "data": {
      "text/plain": [
       "array([[4, 3, 7],\n",
       "       [7, 2, 5],\n",
       "       [4, 1, 7]])"
      ]
     },
     "metadata": {},
     "output_type": "display_data"
    }
   ],
   "source": [
    "np.random.seed(42)\n",
    "\n",
    "vector_1 = np.array([1, 2, 3, 4, 5])\n",
    "vector_2 = np.array([2, 3, 4, 5, 6])\n",
    "\n",
    "matrix_1 = np.random.randint(10, size=[3, 3])\n",
    "matrix_2 = np.random.randint(10, size=[3, 3])\n",
    "\n",
    "display(vector_1, vector_2)\n",
    "display(matrix_1, matrix_2)"
   ]
  },
  {
   "cell_type": "code",
   "execution_count": 170,
   "metadata": {},
   "outputs": [
    {
     "name": "stdout",
     "output_type": "stream",
     "text": [
      "70\n",
      "70\n",
      "70\n"
     ]
    }
   ],
   "source": [
    "# Умножение векторов\n",
    "\n",
    "# Скалярное произведение\n",
    "\n",
    "print(np.dot(vector_1, vector_2))\n",
    "print(vector_1 @ vector_2)\n",
    "print(np.inner(vector_1, vector_2))"
   ]
  },
  {
   "cell_type": "code",
   "execution_count": 172,
   "metadata": {},
   "outputs": [
    {
     "name": "stdout",
     "output_type": "stream",
     "text": [
      "[[ 2  3  4  5  6]\n",
      " [ 4  6  8 10 12]\n",
      " [ 6  9 12 15 18]\n",
      " [ 8 12 16 20 24]\n",
      " [10 15 20 25 30]]\n"
     ]
    }
   ],
   "source": [
    "# Внешнее произведение\n",
    "\n",
    "# Каждый эдемент первого ветора умножается на строку второго вектра, образуя новую строку\n",
    "\n",
    "print(np.outer(vector_1, vector_2))"
   ]
  },
  {
   "cell_type": "code",
   "execution_count": 174,
   "metadata": {},
   "outputs": [
    {
     "data": {
      "text/plain": [
       "array([[ 73,  31, 106],\n",
       "       [ 94,  33, 121],\n",
       "       [ 78,  25,  93]])"
      ]
     },
     "metadata": {},
     "output_type": "display_data"
    },
    {
     "data": {
      "text/plain": [
       "array([[ 73,  31, 106],\n",
       "       [ 94,  33, 121],\n",
       "       [ 78,  25,  93]])"
      ]
     },
     "metadata": {},
     "output_type": "display_data"
    },
    {
     "data": {
      "text/plain": [
       "array([[ 73,  31, 106],\n",
       "       [ 94,  33, 121],\n",
       "       [ 78,  25,  93]])"
      ]
     },
     "metadata": {},
     "output_type": "display_data"
    }
   ],
   "source": [
    "# Умножение матриц\n",
    "\n",
    "# Строка первой матрицы умножается на столбец второй матрицы\n",
    "\n",
    "display(np.dot(matrix_1, matrix_2))\n",
    "display(matrix_1 @ matrix_2)\n",
    "display(np.matmul(matrix_1, matrix_2))"
   ]
  },
  {
   "cell_type": "code",
   "execution_count": 175,
   "metadata": {},
   "outputs": [
    {
     "data": {
      "text/plain": [
       "array([1, 2, 3])"
      ]
     },
     "metadata": {},
     "output_type": "display_data"
    },
    {
     "data": {
      "text/plain": [
       "array([2, 3, 4, 5])"
      ]
     },
     "metadata": {},
     "output_type": "display_data"
    },
    {
     "data": {
      "text/plain": [
       "array([[5, 1, 4],\n",
       "       [0, 9, 5],\n",
       "       [8, 0, 9],\n",
       "       [2, 6, 3]])"
      ]
     },
     "metadata": {},
     "output_type": "display_data"
    }
   ],
   "source": [
    "vec_1 = np.array([1, 2, 3])\n",
    "vec_2 = np.array([2, 3, 4, 5])\n",
    "\n",
    "mat = np.random.randint(10, size=[4, 3])\n",
    "\n",
    "display(vec_1, vec_2)\n",
    "display(mat)"
   ]
  },
  {
   "cell_type": "code",
   "execution_count": 180,
   "metadata": {},
   "outputs": [
    {
     "data": {
      "text/plain": [
       "array([52, 59, 74])"
      ]
     },
     "metadata": {},
     "output_type": "display_data"
    },
    {
     "data": {
      "text/plain": [
       "array([52, 59, 74])"
      ]
     },
     "metadata": {},
     "output_type": "display_data"
    }
   ],
   "source": [
    "# Умножение матрицы на вектро\n",
    "\n",
    "# Вектор-строка умножается на столбец матрицы\n",
    "\n",
    "display(np.dot(vec_2, mat))\n",
    "display(vec_2 @ mat)"
   ]
  },
  {
   "cell_type": "code",
   "execution_count": 182,
   "metadata": {},
   "outputs": [
    {
     "data": {
      "text/plain": [
       "array([[19],\n",
       "       [33],\n",
       "       [35],\n",
       "       [23]])"
      ]
     },
     "metadata": {},
     "output_type": "display_data"
    },
    {
     "data": {
      "text/plain": [
       "array([[19],\n",
       "       [33],\n",
       "       [35],\n",
       "       [23]])"
      ]
     },
     "metadata": {},
     "output_type": "display_data"
    }
   ],
   "source": [
    "display(np.dot(mat, vec_1[:, np.newaxis]))\n",
    "display(mat @ vec_1[:, np.newaxis])"
   ]
  },
  {
   "cell_type": "code",
   "execution_count": 186,
   "metadata": {},
   "outputs": [
    {
     "name": "stdout",
     "output_type": "stream",
     "text": [
      "3\n",
      "23\n",
      "156.99999999999994\n"
     ]
    },
    {
     "data": {
      "text/plain": [
       "EigResult(eigenvalues=array([ 1.45967618, 13.67503457,  7.86528925]), eigenvectors=array([[ 0.61773255, -0.37068144, -0.03137554],\n",
       "       [ 0.43459076, -0.67840834, -0.97472235],\n",
       "       [-0.65539101, -0.63431648,  0.22120559]]))"
      ]
     },
     "metadata": {},
     "output_type": "display_data"
    },
    {
     "data": {
      "text/plain": [
       "array([[ 0.51592357, -0.05732484, -0.19745223],\n",
       "       [ 0.25477707,  0.08280255, -0.15923567],\n",
       "       [-0.45859873,  0.05095541,  0.2866242 ]])"
      ]
     },
     "metadata": {},
     "output_type": "display_data"
    },
    {
     "data": {
      "text/plain": [
       "SVDResult(U=array([[-0.38091271, -0.24347434,  0.56272178, -0.69207655],\n",
       "       [-0.49356808,  0.69609481, -0.41731837, -0.3125507 ],\n",
       "       [-0.6831247 , -0.56940578, -0.35641648,  0.28650481],\n",
       "       [-0.38031134,  0.36324829,  0.61818838,  0.58417215]]), S=array([15.61506165,  9.7495324 ,  1.76535201]), Vh=array([[-0.52066293, -0.45500258, -0.72241453],\n",
       "       [-0.51757573,  0.84115508, -0.15675936],\n",
       "       [ 0.67898857,  0.29228544, -0.67345656]]))"
      ]
     },
     "metadata": {},
     "output_type": "display_data"
    }
   ],
   "source": [
    "print(np.linalg.matrix_rank(mat)) # - ранг матрицы\n",
    "print(np.trace(mat))              # - след матрицы\n",
    "print(np.linalg.det(mat[:3]))     # - определитель матрицы\n",
    "display(np.linalg.eig(mat[:3]))   # - собственные значения и собственные вектора матрицы\n",
    "display(np.linalg.inv(mat[:3]))   # - обратная матрица\n",
    "display(np.linalg.svd(mat))       # - сингулярное разложение"
   ]
  },
  {
   "cell_type": "code",
   "execution_count": 188,
   "metadata": {},
   "outputs": [
    {
     "data": {
      "text/plain": [
       "array([[1., 0., 0., 0.],\n",
       "       [0., 1., 0., 0.],\n",
       "       [0., 0., 1., 0.],\n",
       "       [0., 0., 0., 1.]])"
      ]
     },
     "execution_count": 188,
     "metadata": {},
     "output_type": "execute_result"
    }
   ],
   "source": [
    "# Создайте единичную матрицу размером (4, 4).\n",
    "\n",
    "mat_I = np.eye(4)\n",
    "mat_I"
   ]
  },
  {
   "cell_type": "code",
   "execution_count": 189,
   "metadata": {},
   "outputs": [
    {
     "data": {
      "text/plain": [
       "array([[ 1,  0,  0,  0,  0,  0,  0,  0,  0,  0],\n",
       "       [ 0,  2,  0,  0,  0,  0,  0,  0,  0,  0],\n",
       "       [ 0,  0,  3,  0,  0,  0,  0,  0,  0,  0],\n",
       "       [ 0,  0,  0,  4,  0,  0,  0,  0,  0,  0],\n",
       "       [ 0,  0,  0,  0,  5,  0,  0,  0,  0,  0],\n",
       "       [ 0,  0,  0,  0,  0,  6,  0,  0,  0,  0],\n",
       "       [ 0,  0,  0,  0,  0,  0,  7,  0,  0,  0],\n",
       "       [ 0,  0,  0,  0,  0,  0,  0,  8,  0,  0],\n",
       "       [ 0,  0,  0,  0,  0,  0,  0,  0,  9,  0],\n",
       "       [ 0,  0,  0,  0,  0,  0,  0,  0,  0, 10]])"
      ]
     },
     "execution_count": 189,
     "metadata": {},
     "output_type": "execute_result"
    }
   ],
   "source": [
    "# Создайте матрицу на главной диагонали которой лежат числа от 1 до 10 включительно.\n",
    "\n",
    "mat_diag = np.diag(np.arange(1, 11))\n",
    "mat_diag"
   ]
  },
  {
   "cell_type": "code",
   "execution_count": 214,
   "metadata": {},
   "outputs": [
    {
     "data": {
      "text/plain": [
       "array([[0, 1, 2],\n",
       "       [0, 1, 2],\n",
       "       [0, 1, 2]])"
      ]
     },
     "execution_count": 214,
     "metadata": {},
     "output_type": "execute_result"
    }
   ],
   "source": [
    "# Создайте матрицу размером (3, 3) все строки которой одинаковые и состоят из значений от 0 до 3\n",
    "\n",
    "mat_A = np.full([3, 3], np.arange(0, 3))\n",
    "mat_A"
   ]
  },
  {
   "cell_type": "code",
   "execution_count": 216,
   "metadata": {},
   "outputs": [
    {
     "data": {
      "text/plain": [
       "array([[0, 2, 4, 6, 8],\n",
       "       [0, 2, 4, 6, 8],\n",
       "       [0, 2, 4, 6, 8],\n",
       "       [0, 2, 4, 6, 8],\n",
       "       [0, 2, 4, 6, 8]])"
      ]
     },
     "execution_count": 216,
     "metadata": {},
     "output_type": "execute_result"
    }
   ],
   "source": [
    "# Создайте матрицу размером (5, 5) все строки которой одинаковые и состоят из значений от 0 до 10 с шагом 2\n",
    "\n",
    "mat_A = np.full([5, 5], np.arange(0, 10, 2))\n",
    "mat_A"
   ]
  },
  {
   "cell_type": "code",
   "execution_count": 221,
   "metadata": {},
   "outputs": [
    {
     "data": {
      "text/plain": [
       "array([[0, 0, 0, 0, 0],\n",
       "       [2, 2, 2, 2, 2],\n",
       "       [4, 4, 4, 4, 4],\n",
       "       [6, 6, 6, 6, 6],\n",
       "       [8, 8, 8, 8, 8]])"
      ]
     },
     "execution_count": 221,
     "metadata": {},
     "output_type": "execute_result"
    }
   ],
   "source": [
    "# Создайте матрицу размером (5, 5) все столбцы которой одинаковые и состоят из значений от 0 до 10 с шагом 2\n",
    "\n",
    "mat_A = np.full([5, 5], np.arange(0, 10, 2))\n",
    "np.transpose(mat_A)"
   ]
  },
  {
   "cell_type": "code",
   "execution_count": 222,
   "metadata": {},
   "outputs": [
    {
     "data": {
      "text/plain": [
       "array([[0, 0, 0, 0, 0],\n",
       "       [2, 2, 2, 2, 2],\n",
       "       [4, 4, 4, 4, 4],\n",
       "       [6, 6, 6, 6, 6],\n",
       "       [8, 8, 8, 8, 8]])"
      ]
     },
     "execution_count": 222,
     "metadata": {},
     "output_type": "execute_result"
    }
   ],
   "source": [
    "mat_A = (np.full([5, 5], np.arange(0, 10, 2))).T\n",
    "mat_A"
   ]
  },
  {
   "cell_type": "code",
   "execution_count": 231,
   "metadata": {},
   "outputs": [
    {
     "data": {
      "text/plain": [
       "array([[6, 3, 7],\n",
       "       [4, 6, 9],\n",
       "       [2, 6, 7],\n",
       "       [4, 3, 7]])"
      ]
     },
     "metadata": {},
     "output_type": "display_data"
    },
    {
     "name": "stdout",
     "output_type": "stream",
     "text": [
      "[5.33333333 6.33333333 5.         4.66666667]\n"
     ]
    },
    {
     "data": {
      "text/plain": [
       "array([[ 0.66666667, -2.33333333,  1.66666667],\n",
       "       [-2.33333333, -0.33333333,  2.66666667],\n",
       "       [-3.        ,  1.        ,  2.        ],\n",
       "       [-0.66666667, -1.66666667,  2.33333333]])"
      ]
     },
     "execution_count": 231,
     "metadata": {},
     "output_type": "execute_result"
    }
   ],
   "source": [
    "# В программе создана матрица и записана в переменную mat_A. Из каждой строки массива вычтите среднее значение в этой строке.\n",
    "\n",
    "np.random.seed(42)\n",
    "\n",
    "mat = np.random.randint(10, size=[4, 3])\n",
    "display(mat)\n",
    "\n",
    "print(np.mean(mat, axis=1))\n",
    "\n",
    "mat - np.mean(mat, axis=1)[:, np.newaxis]"
   ]
  },
  {
   "cell_type": "code",
   "execution_count": 233,
   "metadata": {},
   "outputs": [
    {
     "data": {
      "text/plain": [
       "array([[ -7,  -4,  -8],\n",
       "       [ -5,  -7, -10],\n",
       "       [ -3,  -7,  -8],\n",
       "       [ -5,  -4,  -8]])"
      ]
     },
     "execution_count": 233,
     "metadata": {},
     "output_type": "execute_result"
    }
   ],
   "source": [
    "np.invert(mat)"
   ]
  },
  {
   "cell_type": "code",
   "execution_count": null,
   "metadata": {},
   "outputs": [],
   "source": [
    "# Среднеквадратическая ошибка (MSE).\n",
    "\n",
    "# Даны матрица с наблюдениями, вектор с ответами и вектор с весовыми коэффициентами и записаны в переменные X, y и w соответственно. \n",
    "# Рассчитайте среднеквадратическую ошибку по формуле\n",
    "\n",
    "# loss = ((y - X @ w)**2).mean(axis=0)"
   ]
  }
 ],
 "metadata": {
  "kernelspec": {
   "display_name": "base",
   "language": "python",
   "name": "python3"
  },
  "language_info": {
   "codemirror_mode": {
    "name": "ipython",
    "version": 3
   },
   "file_extension": ".py",
   "mimetype": "text/x-python",
   "name": "python",
   "nbconvert_exporter": "python",
   "pygments_lexer": "ipython3",
   "version": "3.11.11"
  }
 },
 "nbformat": 4,
 "nbformat_minor": 2
}
