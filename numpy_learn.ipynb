{
 "cells": [
  {
   "cell_type": "code",
   "execution_count": 1,
   "metadata": {},
   "outputs": [],
   "source": [
    "import numpy as np"
   ]
  },
  {
   "cell_type": "code",
   "execution_count": 2,
   "metadata": {},
   "outputs": [
    {
     "name": "stdout",
     "output_type": "stream",
     "text": [
      "[-5.         -3.88888889 -2.77777778 -1.66666667 -0.55555556  0.55555556\n",
      "  1.66666667  2.77777778  3.88888889  5.        ]\n"
     ]
    }
   ],
   "source": [
    "print(np.linspace(-5, 5, 10))"
   ]
  },
  {
   "cell_type": "code",
   "execution_count": 3,
   "metadata": {},
   "outputs": [
    {
     "name": "stdout",
     "output_type": "stream",
     "text": [
      "[3 6 9]\n",
      "[3 6 9]\n"
     ]
    }
   ],
   "source": [
    "# a, b = map(int, input().split())\n",
    "a, b = 2, 9\n",
    "arr = np.array(list(i for i in range(a, b + 1) if i % 3 == 0))\n",
    "print(arr)\n",
    "arr = np.arange(a, b + 1)\n",
    "arr = arr[arr % 3 == 0]\n",
    "print(arr)"
   ]
  },
  {
   "cell_type": "code",
   "execution_count": 4,
   "metadata": {},
   "outputs": [
    {
     "data": {
      "text/plain": [
       "array([0.85888927, 0.37271115, 0.55512878, 0.95565655, 0.7366696 ,\n",
       "       0.81620514])"
      ]
     },
     "execution_count": 4,
     "metadata": {},
     "output_type": "execute_result"
    }
   ],
   "source": [
    "np.random.seed(32)\n",
    "# n = int(input())\n",
    "n = 6\n",
    "arr = np.random.rand(n)\n",
    "arr"
   ]
  },
  {
   "cell_type": "code",
   "execution_count": 5,
   "metadata": {},
   "outputs": [
    {
     "name": "stdout",
     "output_type": "stream",
     "text": [
      "[2, 3, 5]\n"
     ]
    }
   ],
   "source": [
    "n = 3\n",
    "arr = []\n",
    "for i in range(0, n + 100): \n",
    "    if i > 1: \n",
    "        for j in range(2, i):\n",
    "            if(i % j) == 0: \n",
    "                break \n",
    "        else:\n",
    "            if len(arr) < n:\n",
    "                arr.append(i)\n",
    "print(arr)"
   ]
  },
  {
   "cell_type": "code",
   "execution_count": 6,
   "metadata": {},
   "outputs": [
    {
     "name": "stdout",
     "output_type": "stream",
     "text": [
      "[2, 3, 5, 7, 11, 13, 17, 19, 23, 29]\n"
     ]
    }
   ],
   "source": [
    "n = 10\n",
    "i = 2\n",
    "arr = []\n",
    "while len(arr) < n:\n",
    "    for j in range(2, i):\n",
    "        if(i % j) == 0: \n",
    "                break\n",
    "    else:\n",
    "         arr.append(i)\n",
    "    i += 1\n",
    "print(arr)"
   ]
  },
  {
   "cell_type": "code",
   "execution_count": 7,
   "metadata": {},
   "outputs": [
    {
     "data": {
      "text/plain": [
       "array([-0.2])"
      ]
     },
     "execution_count": 7,
     "metadata": {},
     "output_type": "execute_result"
    }
   ],
   "source": [
    "# a, b = map(float, input().split())\n",
    "a, b = 0.22, 2.0\n",
    "\n",
    "np.round(np.arange(-1*a, a+0.001, b), 1)"
   ]
  },
  {
   "cell_type": "code",
   "execution_count": 8,
   "metadata": {},
   "outputs": [
    {
     "data": {
      "text/plain": [
       "array([0.        , 0.78539816, 1.57079633, 2.35619449, 3.14159265])"
      ]
     },
     "execution_count": 8,
     "metadata": {},
     "output_type": "execute_result"
    }
   ],
   "source": [
    "b = 5\n",
    "arr = np.linspace(0, np.pi, b)\n",
    "arr"
   ]
  },
  {
   "cell_type": "code",
   "execution_count": 9,
   "metadata": {},
   "outputs": [
    {
     "name": "stdout",
     "output_type": "stream",
     "text": [
      "object\n",
      "4\n",
      "(4,)\n"
     ]
    }
   ],
   "source": [
    "import numpy as np\n",
    "arr=np.array([1, 2, '3', {'key1':66}])\n",
    "\n",
    "print(arr.dtype)\n",
    "print(arr.size)\n",
    "print(arr.shape)"
   ]
  },
  {
   "cell_type": "code",
   "execution_count": 10,
   "metadata": {},
   "outputs": [
    {
     "data": {
      "text/plain": [
       "(3, 4, 2)"
      ]
     },
     "execution_count": 10,
     "metadata": {},
     "output_type": "execute_result"
    }
   ],
   "source": [
    "# 3, 4, 2\n",
    "arr = np.array([[[1, 2], [3, 4], [5, 6], [7, 8]],\n",
    "\n",
    "                [[9, 10], [11, 12], [13, 14], [15, 16]],\n",
    "                \n",
    "                [[17, 18], [19, 20], [21, 22], [23, 24]]])\n",
    "arr.shape"
   ]
  },
  {
   "cell_type": "code",
   "execution_count": 11,
   "metadata": {},
   "outputs": [
    {
     "data": {
      "text/plain": [
       "(256, 256, 3)"
      ]
     },
     "execution_count": 11,
     "metadata": {},
     "output_type": "execute_result"
    }
   ],
   "source": [
    "arr = np.empty([256, 256, 3])\n",
    "arr.shape"
   ]
  },
  {
   "cell_type": "code",
   "execution_count": 12,
   "metadata": {},
   "outputs": [
    {
     "name": "stdout",
     "output_type": "stream",
     "text": [
      "(256, 256, 1) (256, 256, 1) (256, 256, 1)\n"
     ]
    }
   ],
   "source": [
    "arr1, arr2, arr3 = np.array_split(arr, 3, axis=2)\n",
    "print(arr1.shape, arr2.shape, arr3.shape)"
   ]
  },
  {
   "cell_type": "code",
   "execution_count": 13,
   "metadata": {},
   "outputs": [
    {
     "data": {
      "text/plain": [
       "(3, 256, 256)"
      ]
     },
     "execution_count": 13,
     "metadata": {},
     "output_type": "execute_result"
    }
   ],
   "source": [
    "arr1 = np.squeeze(arr1)\n",
    "arr2 = np.squeeze(arr2)\n",
    "arr3 = np.squeeze(arr3)\n",
    "\n",
    "arr1 = np.expand_dims(arr1, axis=0)\n",
    "arr2 = np.expand_dims(arr2, axis=0)\n",
    "arr3 = np.expand_dims(arr3, axis=0)\n",
    "\n",
    "np.concatenate([arr1, arr2, arr3]).shape"
   ]
  },
  {
   "cell_type": "markdown",
   "metadata": {},
   "source": [
    "# 1.5 Добавление и удаление элементов."
   ]
  },
  {
   "cell_type": "code",
   "execution_count": 14,
   "metadata": {},
   "outputs": [
    {
     "name": "stdout",
     "output_type": "stream",
     "text": [
      "Размер data: (1000, 28, 28)\n",
      "Размер arr1: (50, 28, 28)\n",
      "Размер arr2: (28, 28)\n"
     ]
    }
   ],
   "source": [
    "data = np.empty([1000, 28, 28])\n",
    "arr1 = np.empty([50, 28, 28])\n",
    "arr2 = np.empty([28, 28])\n",
    "\n",
    "print(f'Размер data: {data.shape}')\n",
    "print(f'Размер arr1: {arr1.shape}')\n",
    "print(f'Размер arr2: {arr2.shape}')"
   ]
  },
  {
   "cell_type": "code",
   "execution_count": 15,
   "metadata": {},
   "outputs": [
    {
     "name": "stdout",
     "output_type": "stream",
     "text": [
      "Размер new_data1: (823200,)\n",
      "Размер new_data2: (1050, 28, 28)\n",
      "Размер new_data3: (50, 28, 56)\n",
      "Размер new_data4: (1001, 28, 28)\n"
     ]
    }
   ],
   "source": [
    "# Добавление элементов\n",
    "\n",
    "new_data1 = np.append(data, arr1) # - одномерный массив\n",
    "new_data2 = np.append(data, arr1, axis=0) # - многомерный, объединенрие по нулевой оси\n",
    "new_data3 = np.append(arr1, arr1, axis=2) # - многомерный, объединенрие по второй оси\n",
    "new_data4 = np.append(data, arr2[np.newaxis], axis=0) # - добавление одного элемента с предварительным добавлением оси\n",
    "\n",
    "print(f'Размер new_data1: {new_data1.shape}')\n",
    "print(f'Размер new_data2: {new_data2.shape}')\n",
    "print(f'Размер new_data3: {new_data3.shape}')\n",
    "print(f'Размер new_data4: {new_data4.shape}')"
   ]
  },
  {
   "cell_type": "code",
   "execution_count": 16,
   "metadata": {},
   "outputs": [
    {
     "name": "stdout",
     "output_type": "stream",
     "text": [
      "(1001, 28, 28)\n",
      "(1000, 28, 28)\n"
     ]
    }
   ],
   "source": [
    "# Удаление элементов по индексу\n",
    "\n",
    "print(new_data4.shape)\n",
    "\n",
    "new_data4 = np.delete(new_data4, 1000, axis=0)\n",
    "\n",
    "print(new_data4.shape)"
   ]
  },
  {
   "cell_type": "code",
   "execution_count": 17,
   "metadata": {},
   "outputs": [
    {
     "data": {
      "text/plain": [
       "(15, 28, 28)"
      ]
     },
     "execution_count": 17,
     "metadata": {},
     "output_type": "execute_result"
    }
   ],
   "source": [
    "# В программе созданы два массива с картинками 28 на 28 пикселей. \n",
    "# Массивы записаны в переменные arr_1 и arr_2. \n",
    "# Массив arr_1 имеет размер (10, 28, 28), а массив arr_2 имеет размер (5, 28, 28). \n",
    "# К картинкам из arr_1 добавьте картинки из arr_2.\n",
    "\n",
    "# Результат запишите в переменную new_arr.\n",
    "\n",
    "arr_1 = np.empty([10, 28, 28])\n",
    "arr_2 = np.empty([5, 28, 28])\n",
    "\n",
    "new_arr = np.append(arr_1, arr_2, axis=0)\n",
    "\n",
    "new_arr.shape"
   ]
  },
  {
   "cell_type": "code",
   "execution_count": 18,
   "metadata": {},
   "outputs": [
    {
     "data": {
      "text/plain": [
       "(11, 28, 28)"
      ]
     },
     "execution_count": 18,
     "metadata": {},
     "output_type": "execute_result"
    }
   ],
   "source": [
    "# В программе созданы два массива и записаны в переменные arr_1 и arr_2. \n",
    "# Массив arr_1 имеет размер (10, 28, 28), 10 картинок 28 на 28 пикселей. \n",
    "# Массив arr_2 имеет размер (28, 28), содержит одну картинку. \n",
    "# К картинкам из arr_1 добавьте картинку arr_2.\n",
    "\n",
    "# Результат запишите в переменную new_arr.\n",
    "\n",
    "arr_1 = np.empty([10, 28, 28])\n",
    "arr_2 = np.empty([28, 28])\n",
    "\n",
    "new_arr = np.append(arr_1, arr_2[np.newaxis], axis=0)\n",
    "\n",
    "new_arr.shape"
   ]
  },
  {
   "cell_type": "code",
   "execution_count": 19,
   "metadata": {},
   "outputs": [
    {
     "data": {
      "text/plain": [
       "(10, 28, 28, 3)"
      ]
     },
     "execution_count": 19,
     "metadata": {},
     "output_type": "execute_result"
    }
   ],
   "source": [
    "# В программе созданы два массива и записаны в переменные arr_1 и arr_2. \n",
    "# Массив arr_1 имеет размер (10, 28, 28, 2), 10 картинок 28 на 28 пикселей с двумя цветовыми каналами G и B. \n",
    "# Массив arr_2 имеет размер (10, 28, 28, 1), 10 картинок 28 на 28 пикселей с одним цветовым каналом R. \n",
    "# Добавьте один массив к другому так, чтобы получить 10 картинок с тремя цветовыми каналами RGB.\n",
    "\n",
    "# Результат запишите в переменную new_arr.\n",
    "\n",
    "arr_1 = np.empty([10, 28, 28, 2])\n",
    "arr_2 = np.empty([10, 28, 28, 1])\n",
    "\n",
    "new_arr = np.append(arr_2, arr_1, axis=3) # - arr_2 + arr_1, потому что RGB (не GBR)\n",
    "\n",
    "new_arr.shape"
   ]
  },
  {
   "cell_type": "code",
   "execution_count": 20,
   "metadata": {},
   "outputs": [
    {
     "name": "stdout",
     "output_type": "stream",
     "text": [
      "(10, 28, 28)\n",
      "(9, 28, 28)\n"
     ]
    }
   ],
   "source": [
    "# В программе создан массив записан в переменную arr. Удалите последний элемент на нулевой оси.\n",
    "\n",
    "# Результат запишите в переменную new_arr.\n",
    "\n",
    "arr = np.empty([10, 28, 28])\n",
    "\n",
    "print(arr.shape)\n",
    "\n",
    "new_arr = np.delete(arr, -1, axis=0)\n",
    "\n",
    "print(new_arr.shape)"
   ]
  },
  {
   "cell_type": "code",
   "execution_count": 21,
   "metadata": {},
   "outputs": [
    {
     "name": "stdout",
     "output_type": "stream",
     "text": [
      "(10, 28, 28)\n",
      "(10, 28, 25)\n"
     ]
    }
   ],
   "source": [
    "# В программе создан массив записан в переменную arr. Удалите элементы с индексами 1, 3, 5 на последней оси.\n",
    "\n",
    "# Результат запишите в переменную new_arr.\n",
    "\n",
    "arr = np.empty([10, 28, 28])\n",
    "\n",
    "print(arr.shape)\n",
    "\n",
    "new_arr = np.delete(arr, [1, 3, 5], axis=-1)\n",
    "\n",
    "print(new_arr.shape)"
   ]
  },
  {
   "cell_type": "code",
   "execution_count": 22,
   "metadata": {},
   "outputs": [
    {
     "name": "stdout",
     "output_type": "stream",
     "text": [
      "(10, 28, 25)\n"
     ]
    }
   ],
   "source": [
    "delete_items = (1, 3, 5)\n",
    "new_arr = np.delete(arr=arr, obj=delete_items, axis=arr.ndim - 1)\n",
    "\n",
    "print(new_arr.shape)"
   ]
  },
  {
   "cell_type": "code",
   "execution_count": 23,
   "metadata": {},
   "outputs": [
    {
     "name": "stdout",
     "output_type": "stream",
     "text": [
      "Размер картинки (28, 28)\n"
     ]
    }
   ],
   "source": [
    "img = np.random.randint(0, 255, 28*28).reshape([28, 28]) # - генерация картинки 28 на 28 пикселей\n",
    "print(f'Размер картинки {img.shape}')"
   ]
  },
  {
   "cell_type": "code",
   "execution_count": 24,
   "metadata": {},
   "outputs": [
    {
     "name": "stdout",
     "output_type": "stream",
     "text": [
      "(110, 28, 28)\n"
     ]
    }
   ],
   "source": [
    "# Множественное добавление картинок в массив картинок\n",
    "\n",
    "# Копирует каждый раз существующий массив, выделяя память на него, и добавляет к нему новый элемент (долго)\n",
    "\n",
    "arr = np.empty([100, 28, 28]) # - имеется массив 100 картинок\n",
    "\n",
    "for i in range(10):\n",
    "    img = np.random.randint(0, 255, 28*28).reshape([28, 28])\n",
    "    arr = np.append(arr, img[np.newaxis], axis=0)\n",
    "\n",
    "print(arr.shape)"
   ]
  },
  {
   "cell_type": "code",
   "execution_count": 25,
   "metadata": {},
   "outputs": [
    {
     "name": "stdout",
     "output_type": "stream",
     "text": [
      "(110, 28, 28)\n"
     ]
    }
   ],
   "source": [
    "# Множественное добавление картинок в массив картинок\n",
    "\n",
    "# Изменяет существующий массив (быстрее)\n",
    "\n",
    "arr = np.empty([100, 28, 28]) # - имеется массив 100 картинок\n",
    "arr.resize([100 + 10, 28, 28]) # - расширение массива (10 элементов заполняется нулями)\n",
    "\n",
    "for i in range(10):\n",
    "    img = np.random.randint(0, 255, 28*28).reshape([28, 28])\n",
    "    arr[100 + i] = img\n",
    "\n",
    "print(arr.shape)"
   ]
  },
  {
   "cell_type": "markdown",
   "metadata": {},
   "source": [
    "# 1.6 Индексация и срезы."
   ]
  },
  {
   "cell_type": "code",
   "execution_count": 26,
   "metadata": {},
   "outputs": [
    {
     "name": "stdout",
     "output_type": "stream",
     "text": [
      "(10, 28, 28)\n",
      "(28, 28)\n"
     ]
    }
   ],
   "source": [
    "# В программе создан массив с наборам картинок и записан в переменную arr. \n",
    "# Размер массива (10, 28, 28), 10 картинок 28 на 28 пикселей​​. \n",
    "\n",
    "# Картинку с индексом 5 запишите в переменную img.\n",
    "\n",
    "arr = np.arange(7840).reshape(10, 28 ,28)\n",
    "\n",
    "print(arr.shape)\n",
    "\n",
    "img = arr[5]\n",
    "\n",
    "print(img.shape)"
   ]
  },
  {
   "cell_type": "code",
   "execution_count": 27,
   "metadata": {},
   "outputs": [
    {
     "name": "stdout",
     "output_type": "stream",
     "text": [
      "(10, 3)\n",
      "12\n"
     ]
    }
   ],
   "source": [
    "# В программе создан массив содержащий координаты точек и записан в переменную coord. \n",
    "# Размер массива (10, 3), 10 точек с тремя координатами X, Y, Z​​. \n",
    "# Получите значение координаты X у точки с индексом 4.\n",
    "\n",
    "# Результат запишите в переменную coord_X.\n",
    "\n",
    "coord = np.arange(30).reshape(10, 3)\n",
    "\n",
    "print(coord.shape)\n",
    "\n",
    "coord_X = coord[4, 0]\n",
    "\n",
    "print(coord_X)"
   ]
  },
  {
   "cell_type": "code",
   "execution_count": 28,
   "metadata": {},
   "outputs": [
    {
     "name": "stdout",
     "output_type": "stream",
     "text": [
      "(100, 28, 28)\n",
      "(10, 28, 28)\n"
     ]
    }
   ],
   "source": [
    "# В программе создан массив с наборам картинок и записан в переменную img. \n",
    "# Размер массива (100, 28, 28), 100 картинок 28 на 28 пикселей​​. \n",
    "# Получите изображения с индексами с 1 по 10 включительно. \n",
    "\n",
    "# Результат запишите в переменную new_img.\n",
    "\n",
    "img = np.arange(100 * 28 * 28).reshape(100, 28, 28)\n",
    "\n",
    "print(img.shape)\n",
    "\n",
    "new_img = img[1:11, :, :]\n",
    "new_img = img[1:11]\n",
    "\n",
    "print(new_img.shape)"
   ]
  },
  {
   "cell_type": "code",
   "execution_count": 29,
   "metadata": {},
   "outputs": [
    {
     "name": "stdout",
     "output_type": "stream",
     "text": [
      "(100, 28, 28)\n",
      "(17, 28, 28)\n"
     ]
    }
   ],
   "source": [
    "# В программе создан массив с наборам картинок и записан в переменную img. \n",
    "# Размер массива (100, 28, 28), 100 картинок 28 на 28 пикселей​​. \n",
    "# Получите изображения с индексами с 1 по 50 включительно, с шагом 3. \n",
    "\n",
    "# Результат запишите в переменную new_img.\n",
    "\n",
    "img = np.arange(100 * 28 * 28).reshape(100, 28, 28)\n",
    "\n",
    "print(img.shape)\n",
    "\n",
    "new_img = img[1:51:3]\n",
    "\n",
    "print(new_img.shape)"
   ]
  },
  {
   "cell_type": "code",
   "execution_count": 30,
   "metadata": {},
   "outputs": [],
   "source": [
    "# В программе создан массив с наборам картинок и записан в переменную img. \n",
    "# Размер массива (100, 28, 28), 100 картинок 28 на 28 пикселей​​. \n",
    "# Разделите массив на четыре равные части, по 25 картинок в каждом.\n",
    "\n",
    "# Результат запишите в переменные img_1, img_2, img_3, img_4.\n",
    "\n",
    "img = np.arange(100 * 28 * 28).reshape(100, 28, 28)\n",
    "\n",
    "img_1 = img[:25]\n",
    "img_2 = img[25:50]\n",
    "img_3 = img[50:75]\n",
    "img_4 = img[75:100]\n",
    "\n",
    "img_1, img_2, img_3, img_4 = [img[i: i + 25] for i in range(0, 76, 25)]\n",
    "\n",
    "img_1, img_2, img_3, img_4 = np.array_split(img, 4)"
   ]
  },
  {
   "cell_type": "code",
   "execution_count": 31,
   "metadata": {},
   "outputs": [],
   "source": [
    "# В программе создан массив с картинкой и записан в переменную img. \n",
    "# Размер массива (256, 256, 3), картинка 256 на 256 пикселей​​ с тремя цветовыми каналами RGB. \n",
    "# Получите фрагмент картинки с размерами по высоте начиная с индекса 10 до 100 включительно, \n",
    "# по ширине начиная с индекса 50 до 110 включительно. \n",
    "\n",
    "# Нулевая ось - высота\\строки.\n",
    "# Первая ось - ширина\\столбцы.\n",
    "\n",
    "# Фрагмент картинки запишите в переменную new_img.\n",
    "\n",
    "img = np.arange(256 * 256 * 3).reshape(256, 256, 3)\n",
    "\n",
    "new_img = img[10:101, 50:111]"
   ]
  },
  {
   "cell_type": "code",
   "execution_count": 32,
   "metadata": {},
   "outputs": [
    {
     "name": "stdout",
     "output_type": "stream",
     "text": [
      "(50, 100, 3)\n",
      "(50, 100, 3)\n"
     ]
    }
   ],
   "source": [
    "# В программе создан массив с картинкой и записан в переменную img. \n",
    "# Размер массива (256, 256, 3), картинка 256 на 256 пикселей​​ с тремя цветовыми каналами RGB. \n",
    "# Получите фрагмент картинки высотой 50 пикселей и шириной 100 пикселей, \n",
    "# начиная с пикселя индекс которого 10 по высоте и 20 по ширине.\n",
    "\n",
    "# Нулевая ось - высота\\строки.\n",
    "# Первая ось - ширина\\столбцы.\n",
    "\n",
    "# Фрагмент картинки запишите в переменную new_img.\n",
    "\n",
    "img = np.arange(256 * 256 * 3).reshape(256, 256, 3)\n",
    "\n",
    "new_img = img[:50, :100]\n",
    "print(new_img.shape)\n",
    "\n",
    "new_img = img[10:60, 20:120]\n",
    "print(new_img.shape)"
   ]
  },
  {
   "cell_type": "code",
   "execution_count": 33,
   "metadata": {},
   "outputs": [
    {
     "name": "stdout",
     "output_type": "stream",
     "text": [
      "(50, 100, 2)\n",
      "(50, 100, 2)\n"
     ]
    }
   ],
   "source": [
    "# В программе создан массив с картинкой и записан в переменную img. \n",
    "# Размер массива (256, 256, 3), картинка 256 на 256 пикселей​​ с тремя цветовыми каналами RGB. \n",
    "# Получите фрагмент картинки высотой 50 пикселей, шириной 100 пикселей, \n",
    "# начиная с пикселя индекс которого 100 по высоте и 50 по ширине, только R и B цветовые каналы.\n",
    "\n",
    "# Нулевая ось - высота\\строки.\n",
    "# Первая ось - ширина\\столбцы.\n",
    "\n",
    "# Фрагмент картинки запишите в переменную new_img.\n",
    "\n",
    "img = np.arange(256 * 256 * 3).reshape(256, 256, 3)\n",
    "\n",
    "new_img = img[100: 100+50, 50: 50+100, [0, 2]]\n",
    "print(new_img.shape)\n",
    "\n",
    "new_img = img[100: 100+50, 50: 50+100, [True, False, True]]\n",
    "print(new_img.shape)\n"
   ]
  },
  {
   "cell_type": "code",
   "execution_count": 34,
   "metadata": {},
   "outputs": [
    {
     "name": "stdout",
     "output_type": "stream",
     "text": [
      "[[0 0 0 0 0]\n",
      " [0 0 0 0 0]\n",
      " [0 0 0 0 0]\n",
      " [0 0 0 0 0]\n",
      " [0 0 0 0 0]]\n",
      "\n",
      "[[1 0 1 0 1]\n",
      " [1 0 1 0 1]\n",
      " [1 0 1 0 1]\n",
      " [1 0 1 0 1]\n",
      " [1 0 1 0 1]]\n",
      "\n",
      "[[0 0 0 0 0]\n",
      " [0 0 0 0 0]\n",
      " [0 0 0 0 0]\n",
      " [0 0 0 0 0]\n",
      " [0 0 0 0 0]]\n"
     ]
    }
   ],
   "source": [
    "# Создайте массив размером (5, 5) состоящий из нулей и типом данных int8. \n",
    "# Строки массива заполните единицами с шагом в два.\n",
    "\n",
    "# Результат запишите в переменную new_arr.\n",
    "\n",
    "arr = np.zeros([5, 5], dtype='int8')\n",
    "print(arr)\n",
    "\n",
    "print()\n",
    "\n",
    "new_arr = arr.copy()\n",
    "new_arr[:, ::2] = 1\n",
    "print(new_arr)\n",
    "\n",
    "print()\n",
    "\n",
    "print(arr)"
   ]
  },
  {
   "cell_type": "code",
   "execution_count": 35,
   "metadata": {},
   "outputs": [
    {
     "name": "stdout",
     "output_type": "stream",
     "text": [
      "[[0 0 0 0 0]\n",
      " [0 0 0 0 0]\n",
      " [0 0 0 0 0]\n",
      " [0 0 0 0 0]\n",
      " [0 0 0 0 0]]\n",
      "\n",
      "[[0 1 0 1 0]\n",
      " [0 1 0 1 0]\n",
      " [0 1 0 1 0]\n",
      " [0 1 0 1 0]\n",
      " [0 1 0 1 0]]\n"
     ]
    }
   ],
   "source": [
    "# Создайте массив размером (5, 5) состоящий из нулей и типом данных int8. \n",
    "# Элементы строк заполните единицами начиная с индекса 1 и с шагом в два.\n",
    "\n",
    "# Результат запишите в переменную new_arr.\n",
    "\n",
    "arr = np.zeros([5, 5], dtype='int8')\n",
    "print(arr)\n",
    "\n",
    "print()\n",
    "\n",
    "new_arr = arr.copy()\n",
    "new_arr[:, 1::2] = 1\n",
    "print(new_arr)"
   ]
  },
  {
   "cell_type": "code",
   "execution_count": 36,
   "metadata": {},
   "outputs": [
    {
     "name": "stdout",
     "output_type": "stream",
     "text": [
      "[1 1 1 1 1 1 1 1 1 1 1 1 1 1 1 1 1 1 1 1 1 1 1 1 1]\n",
      "\n",
      "[[0 1 0 1 0]\n",
      " [1 0 1 0 1]\n",
      " [0 1 0 1 0]\n",
      " [1 0 1 0 1]\n",
      " [0 1 0 1 0]]\n"
     ]
    }
   ],
   "source": [
    "# Создайте массив размером (5, 5) состоящий из единиц и типом данных int8. \n",
    "# Элементы массива заполните нулями в шахматном порядке.\n",
    "\n",
    "arr = np.ones([5, 5], dtype='int8').ravel()\n",
    "print(arr)\n",
    "\n",
    "print()\n",
    "\n",
    "new_arr = arr.copy()\n",
    "new_arr[::2] = 0\n",
    "new_arr = new_arr.reshape(5, 5)\n",
    "\n",
    "print(new_arr)"
   ]
  },
  {
   "cell_type": "code",
   "execution_count": 37,
   "metadata": {},
   "outputs": [
    {
     "name": "stdout",
     "output_type": "stream",
     "text": [
      "[[1 1 1 1 1]\n",
      " [1 1 1 1 1]\n",
      " [1 1 1 1 1]\n",
      " [1 1 1 1 1]\n",
      " [1 1 1 1 1]]\n",
      "\n",
      "[[0 1 0 1 0]\n",
      " [1 1 1 1 1]\n",
      " [0 1 0 1 0]\n",
      " [1 1 1 1 1]\n",
      " [0 1 0 1 0]]\n",
      "\n",
      "[[0 1 0 1 0]\n",
      " [1 0 1 0 1]\n",
      " [0 1 0 1 0]\n",
      " [1 0 1 0 1]\n",
      " [0 1 0 1 0]]\n",
      "\n"
     ]
    }
   ],
   "source": [
    "new_arr = np.ones([5, 5], dtype=np.int8)\n",
    "print(new_arr)\n",
    "print()\n",
    "\n",
    "new_arr[::2, ::2] = 0\n",
    "print(new_arr)\n",
    "print()\n",
    "\n",
    "new_arr[1::2, 1::2] = 0\n",
    "print(new_arr)\n",
    "print()"
   ]
  },
  {
   "cell_type": "code",
   "execution_count": 38,
   "metadata": {},
   "outputs": [
    {
     "name": "stdout",
     "output_type": "stream",
     "text": [
      "[[22  4 90 52 27]\n",
      " [55 32 23 64  7]\n",
      " [83 81 93 67 38]\n",
      " [45 31 26 88 89]\n",
      " [94 52 62 60 94]]\n",
      "\n",
      "[[0 0 0 0 0 0 0]\n",
      " [0 0 0 0 0 0 0]\n",
      " [0 0 0 0 0 0 0]\n",
      " [0 0 0 0 0 0 0]\n",
      " [0 0 0 0 0 0 0]\n",
      " [0 0 0 0 0 0 0]\n",
      " [0 0 0 0 0 0 0]]\n"
     ]
    }
   ],
   "source": [
    "# В программе создан массив размером (5, 5) с типом данных np.int8 и записан в переменную arr. \n",
    "# Получите массив с внешним отступом в один элемент заполненный нулями.\n",
    "\n",
    "arr = np.random.randint(1, 100, 5 * 5, dtype='int8').reshape(5, 5)\n",
    "print(arr)\n",
    "print()\n",
    "\n",
    "new_arr = np.zeros(np.array(arr.shape) + (2, 2), dtype='int8')\n",
    "print(new_arr)"
   ]
  },
  {
   "cell_type": "code",
   "execution_count": 39,
   "metadata": {},
   "outputs": [
    {
     "data": {
      "text/plain": [
       "array([[ 0,  0,  0,  0,  0,  0,  0],\n",
       "       [ 0, 22,  4, 90, 52, 27,  0],\n",
       "       [ 0, 55, 32, 23, 64,  7,  0],\n",
       "       [ 0, 83, 81, 93, 67, 38,  0],\n",
       "       [ 0, 45, 31, 26, 88, 89,  0],\n",
       "       [ 0, 94, 52, 62, 60, 94,  0],\n",
       "       [ 0,  0,  0,  0,  0,  0,  0]], dtype=int8)"
      ]
     },
     "execution_count": 39,
     "metadata": {},
     "output_type": "execute_result"
    }
   ],
   "source": [
    "new_arr[1:len(new_arr) - 1, 1: len(new_arr) - 1] = arr\n",
    "new_arr"
   ]
  },
  {
   "cell_type": "code",
   "execution_count": 40,
   "metadata": {},
   "outputs": [
    {
     "data": {
      "text/plain": [
       "array([[ 0,  0,  0,  0,  0,  0,  0],\n",
       "       [ 0, 22,  4, 90, 52, 27,  0],\n",
       "       [ 0, 55, 32, 23, 64,  7,  0],\n",
       "       [ 0, 83, 81, 93, 67, 38,  0],\n",
       "       [ 0, 45, 31, 26, 88, 89,  0],\n",
       "       [ 0, 94, 52, 62, 60, 94,  0],\n",
       "       [ 0,  0,  0,  0,  0,  0,  0]], dtype=int8)"
      ]
     },
     "execution_count": 40,
     "metadata": {},
     "output_type": "execute_result"
    }
   ],
   "source": [
    "new_arr = np.pad(arr, pad_width=1, mode='constant', constant_values=0)\n",
    "new_arr"
   ]
  },
  {
   "cell_type": "code",
   "execution_count": 41,
   "metadata": {},
   "outputs": [
    {
     "name": "stdout",
     "output_type": "stream",
     "text": [
      "[[ 9 58 30 54 12 60 46 37 53 22]\n",
      " [90 91  1  6 34 58 97 92 13 61]\n",
      " [22 28 13 61 34 63 57 92  3 57]\n",
      " [65 92  5 99 76 18 48 30  6 88]\n",
      " [52 69 32 74 74 10 70 59  6  3]\n",
      " [24 69 59 12 44 91 80 33 92 87]\n",
      " [18  1 37 40 76 64 98 94 16 50]\n",
      " [67 16 40  3 41 71 77 34 11 17]\n",
      " [25  6 16 73 71 15 30 96 86 26]\n",
      " [89 58 74  6  3 85 15 91 28 10]]\n",
      "\n"
     ]
    },
    {
     "data": {
      "text/plain": [
       "array([[ 0,  0,  0,  0,  0,  0,  0,  0,  0,  0],\n",
       "       [ 0,  0,  0,  0, 34, 58, 97, 92,  0,  0],\n",
       "       [ 0,  0,  0,  0, 34, 63, 57, 92,  0,  0],\n",
       "       [ 0,  0,  0,  0, 76, 18, 48, 30,  0,  0],\n",
       "       [ 0,  0,  0,  0, 74, 10, 70, 59,  0,  0],\n",
       "       [ 0,  0,  0,  0, 44, 91, 80, 33,  0,  0],\n",
       "       [ 0,  0,  0,  0, 76, 64, 98, 94,  0,  0],\n",
       "       [ 0,  0,  0,  0,  0,  0,  0,  0,  0,  0],\n",
       "       [ 0,  0,  0,  0,  0,  0,  0,  0,  0,  0],\n",
       "       [ 0,  0,  0,  0,  0,  0,  0,  0,  0,  0]], dtype=int8)"
      ]
     },
     "execution_count": 41,
     "metadata": {},
     "output_type": "execute_result"
    }
   ],
   "source": [
    "arr = np.random.randint(1, 100, 10 * 10, dtype='int8').reshape(10, 10)\n",
    "print(arr)\n",
    "print()\n",
    "\n",
    "new_arr = arr.copy()\n",
    "\n",
    "new_arr[0] = 0\n",
    "new_arr[-3:] = 0\n",
    "new_arr[:, :4] = 0\n",
    "new_arr[:, -2:] = 0\n",
    "\n",
    "new_arr"
   ]
  },
  {
   "cell_type": "code",
   "execution_count": 42,
   "metadata": {},
   "outputs": [
    {
     "data": {
      "text/plain": [
       "array([[ 0,  0,  0,  0,  0,  0,  0,  0,  0,  0],\n",
       "       [ 0,  0,  0,  0, 34, 58, 97, 92,  0,  0],\n",
       "       [ 0,  0,  0,  0, 34, 63, 57, 92,  0,  0],\n",
       "       [ 0,  0,  0,  0, 76, 18, 48, 30,  0,  0],\n",
       "       [ 0,  0,  0,  0, 74, 10, 70, 59,  0,  0],\n",
       "       [ 0,  0,  0,  0, 44, 91, 80, 33,  0,  0],\n",
       "       [ 0,  0,  0,  0, 76, 64, 98, 94,  0,  0],\n",
       "       [ 0,  0,  0,  0,  0,  0,  0,  0,  0,  0],\n",
       "       [ 0,  0,  0,  0,  0,  0,  0,  0,  0,  0],\n",
       "       [ 0,  0,  0,  0,  0,  0,  0,  0,  0,  0]], dtype=int8)"
      ]
     },
     "execution_count": 42,
     "metadata": {},
     "output_type": "execute_result"
    }
   ],
   "source": [
    "new_arr = np.zeros((10,10), dtype=np.int8)\n",
    "new_arr[1:7,4:8] = arr[1:7,4:8]\n",
    "new_arr"
   ]
  },
  {
   "cell_type": "code",
   "execution_count": 43,
   "metadata": {},
   "outputs": [
    {
     "data": {
      "text/plain": [
       "array([[ 0,  0,  0,  0,  0,  0,  0,  0,  0,  0],\n",
       "       [ 0,  0,  0,  0, 34, 58, 97, 92,  0,  0],\n",
       "       [ 0,  0,  0,  0, 34, 63, 57, 92,  0,  0],\n",
       "       [ 0,  0,  0,  0, 76, 18, 48, 30,  0,  0],\n",
       "       [ 0,  0,  0,  0, 74, 10, 70, 59,  0,  0],\n",
       "       [ 0,  0,  0,  0, 44, 91, 80, 33,  0,  0],\n",
       "       [ 0,  0,  0,  0, 76, 64, 98, 94,  0,  0],\n",
       "       [ 0,  0,  0,  0,  0,  0,  0,  0,  0,  0],\n",
       "       [ 0,  0,  0,  0,  0,  0,  0,  0,  0,  0],\n",
       "       [ 0,  0,  0,  0,  0,  0,  0,  0,  0,  0]], dtype=int8)"
      ]
     },
     "execution_count": 43,
     "metadata": {},
     "output_type": "execute_result"
    }
   ],
   "source": [
    "new_arr = np.zeros_like(arr)\n",
    "top, right, bottom, left = 1, 2, 3, 4\n",
    "new_arr[top:-bottom, left:-right] = arr[top:-bottom, left:-right]\n",
    "new_arr"
   ]
  },
  {
   "cell_type": "code",
   "execution_count": 44,
   "metadata": {},
   "outputs": [
    {
     "data": {
      "text/plain": [
       "array([['x_1', 'y_1'],\n",
       "       ['x_2', 'y_2'],\n",
       "       ['x_3', 'y_3']], dtype='<U32')"
      ]
     },
     "execution_count": 44,
     "metadata": {},
     "output_type": "execute_result"
    }
   ],
   "source": [
    "# В программе создан массив и записан в переменную arr\n",
    "# С помощью списочной индексации получите массив:\n",
    "# array(['x_1', 'y_1', 'x_2', 'y_2', 'x_3', 'y_3'])\n",
    "\n",
    "arr = np.array(['x_1', 'x_2', 'y_3', 'x_3', 'y_2', 'y_1'])\n",
    "new_arr = np.empty(0)\n",
    "\n",
    "for i in range(len(arr) // 2):\n",
    "    new_arr = np.append(new_arr, arr[[i, -i - 1]])\n",
    "new_arr[-1], new_arr[-2] = new_arr[-2], new_arr[-1]\n",
    "new_arr.shape = (3, 2)\n",
    "new_arr"
   ]
  },
  {
   "cell_type": "code",
   "execution_count": 45,
   "metadata": {},
   "outputs": [
    {
     "data": {
      "text/plain": [
       "array([['x_1', 'y_1'],\n",
       "       ['x_2', 'y_2'],\n",
       "       ['x_3', 'y_3']], dtype='<U3')"
      ]
     },
     "execution_count": 45,
     "metadata": {},
     "output_type": "execute_result"
    }
   ],
   "source": [
    "arr = np.array(['x_1', 'x_2', 'y_3', 'x_3', 'y_2', 'y_1'])\n",
    "new_arr = arr[np.array([0, 5, 1, 4, 3, 2])]\n",
    "new_arr = new_arr.reshape(3,2)\n",
    "new_arr"
   ]
  },
  {
   "cell_type": "markdown",
   "metadata": {},
   "source": [
    "# 2.1 Математические операции. Транслирование массивов."
   ]
  },
  {
   "cell_type": "code",
   "execution_count": 46,
   "metadata": {},
   "outputs": [
    {
     "data": {
      "text/plain": [
       "array([[4, 0],\n",
       "       [3, 2],\n",
       "       [3, 4],\n",
       "       [4, 3],\n",
       "       [1, 2]])"
      ]
     },
     "metadata": {},
     "output_type": "display_data"
    },
    {
     "data": {
      "text/plain": [
       "array([[4, 4],\n",
       "       [4, 2],\n",
       "       [4, 0],\n",
       "       [1, 2],\n",
       "       [2, 2]])"
      ]
     },
     "metadata": {},
     "output_type": "display_data"
    },
    {
     "data": {
      "text/plain": [
       "array([[8, 4],\n",
       "       [7, 4],\n",
       "       [7, 4],\n",
       "       [5, 5],\n",
       "       [3, 4]])"
      ]
     },
     "metadata": {},
     "output_type": "display_data"
    }
   ],
   "source": [
    "arr1 = np.random.randint(0, 5, 10).reshape(5, 2)\n",
    "arr2 = np.random.randint(0, 5, 10).reshape(5, 2)\n",
    "\n",
    "display(arr1, arr2)\n",
    "display(arr1 + arr2)"
   ]
  },
  {
   "cell_type": "code",
   "execution_count": 47,
   "metadata": {},
   "outputs": [
    {
     "name": "stdout",
     "output_type": "stream",
     "text": [
      "[ 1  2  3  4  5  6  7  8  9 10]\n",
      "[ 10  20  30  40  50  60  70  80  90 100]\n"
     ]
    }
   ],
   "source": [
    "# В программе создан массив и записан в переменную arr. Умножьте массив на 10.\n",
    "\n",
    "arr = np.arange(1, 11)\n",
    "print(arr)\n",
    "\n",
    "new_arr = arr * 10\n",
    "print(new_arr)"
   ]
  },
  {
   "cell_type": "code",
   "execution_count": 48,
   "metadata": {},
   "outputs": [],
   "source": [
    "# Даны размеры массивов. Какие из указанных массивов, благодаря транслированию, можно считать согласованными?\n",
    "\n",
    "# (3, 2) - (2)                      +\n",
    "# (4, 1, 8) - (4, 2)                -\n",
    "# (16, 28, 28, 3) - (28, 28, 1)     +\n",
    "# (2, 3, 4) - (1, 4)                +\n",
    "# (5, 3, 7) - (3, 7)                +\n",
    "# (10, 5) - (1)                     +"
   ]
  },
  {
   "cell_type": "code",
   "execution_count": 49,
   "metadata": {},
   "outputs": [
    {
     "name": "stdout",
     "output_type": "stream",
     "text": [
      "(5, 3, 7)\n",
      "(5,)\n",
      "(5, 3, 7)\n"
     ]
    }
   ],
   "source": [
    "# В программе созданы два массива и записаны в переменные arr_1 и arr_2. \n",
    "# Массив arr_1 имеет размер (5, 3, 7), а массив arr_2 имеет размер (5). \n",
    "# Умножьте массив arr_1 на arr_2.\n",
    "\n",
    "arr1 = np.empty(5 * 3 * 7).reshape(5, 3, 7)\n",
    "arr2 = np.empty(5)\n",
    "print(arr1.shape)\n",
    "print(arr2.shape)\n",
    "\n",
    "new_arr = arr1 * arr2[:, np.newaxis, np.newaxis]\n",
    "print(new_arr.shape)"
   ]
  },
  {
   "cell_type": "code",
   "execution_count": 50,
   "metadata": {},
   "outputs": [
    {
     "name": "stdout",
     "output_type": "stream",
     "text": [
      "(5, 3, 7)\n",
      "(5,)\n",
      "(5, 3, 7)\n"
     ]
    }
   ],
   "source": [
    "arr1 = np.empty(5 * 3 * 7).reshape(5, 3, 7)\n",
    "arr2 = np.empty(5)\n",
    "print(arr1.shape)\n",
    "print(arr2.shape)\n",
    "\n",
    "arr2.shape = (5, 1, 1)\n",
    "new_arr = arr1 * arr2\n",
    "print(new_arr.shape)"
   ]
  },
  {
   "cell_type": "code",
   "execution_count": 51,
   "metadata": {},
   "outputs": [
    {
     "name": "stdout",
     "output_type": "stream",
     "text": [
      "(5, 3, 7)\n",
      "(7,)\n",
      "(5, 3, 7)\n"
     ]
    }
   ],
   "source": [
    "# В программе созданы два массива и записаны в переменные arr_1 и arr_2. \n",
    "# Массив arr_1 имеет размер (5, 3, 7), а массив arr_2 имеет размер (7). \n",
    "# Прибавьте  к массиву arr_1 массив arr_2.\n",
    "\n",
    "arr1 = np.empty(5 * 3 * 7).reshape(5, 3, 7)\n",
    "arr2 = np.empty(7)\n",
    "print(arr1.shape)\n",
    "print(arr2.shape)\n",
    "\n",
    "arr2.shape = (1, 1, 7)\n",
    "new_arr = arr1 + arr2\n",
    "print(new_arr.shape)"
   ]
  },
  {
   "cell_type": "code",
   "execution_count": 52,
   "metadata": {},
   "outputs": [
    {
     "name": "stdout",
     "output_type": "stream",
     "text": [
      "(5, 3, 7)\n",
      "(5, 7)\n",
      "(5, 3, 7)\n"
     ]
    }
   ],
   "source": [
    "# В программе созданы два массива и записаны в переменные arr_1 и arr_2. \n",
    "# Массив arr_1 имеет размер (5, 3, 7), а массив arr_2 имеет размер (5, 7). \n",
    "# Поделите массив arr_1 на arr_2.\n",
    "\n",
    "arr1 = np.empty(5 * 3 * 7).reshape(5, 3, 7)\n",
    "arr2 = np.empty(5 * 7).reshape(5, 7)\n",
    "print(arr1.shape)\n",
    "print(arr2.shape)\n",
    "\n",
    "new_arr = np.divide(arr1, arr2[:, np.newaxis, :])\n",
    "print(new_arr.shape)"
   ]
  },
  {
   "cell_type": "code",
   "execution_count": 53,
   "metadata": {},
   "outputs": [
    {
     "name": "stdout",
     "output_type": "stream",
     "text": [
      "(6, 4, 3)\n",
      "(4,)\n",
      "(6, 4, 3)\n"
     ]
    }
   ],
   "source": [
    "# В программе созданы два массива и записаны в переменные arr_1 и arr_2. \n",
    "# Массив arr_1 имеет размер (6, 4, 3), а массив arr_2 имеет размер (4). \n",
    "# Умножьте массив arr_1 на arr_2.\n",
    "\n",
    "arr1 = np.empty(6 * 4 * 3).reshape(6, 4, 3)\n",
    "arr2 = np.empty(4)\n",
    "print(arr1.shape)\n",
    "print(arr2.shape)\n",
    "\n",
    "new_arr = arr1 * arr2[:, np.newaxis]\n",
    "print(new_arr.shape)"
   ]
  },
  {
   "cell_type": "code",
   "execution_count": 54,
   "metadata": {},
   "outputs": [
    {
     "name": "stdout",
     "output_type": "stream",
     "text": [
      "(6, 4, 3)\n",
      "(6, 4)\n",
      "(6, 4, 3)\n",
      "(6, 4, 3)\n"
     ]
    }
   ],
   "source": [
    "# В программе созданы два массива и записаны в переменные arr_1 и arr_2. \n",
    "# Массив arr_1 имеет размер (6, 4, 3), а массив arr_2 имеет размер (6, 4). \n",
    "# Умножьте массив arr_1 на arr_2.\n",
    "\n",
    "arr1 = np.empty(6 * 4 * 3).reshape(6, 4, 3)\n",
    "arr2 = np.empty(6 * 4).reshape(6, 4)\n",
    "print(arr1.shape)\n",
    "print(arr2.shape)\n",
    "\n",
    "new_arr = arr1 * arr2[:, :, np.newaxis]\n",
    "print(new_arr.shape)\n",
    "\n",
    "new_arr = arr1 * np.expand_dims(arr2, axis=-1)\n",
    "print(new_arr.shape)"
   ]
  },
  {
   "cell_type": "code",
   "execution_count": 55,
   "metadata": {},
   "outputs": [
    {
     "name": "stdout",
     "output_type": "stream",
     "text": [
      "(5, 3)\n",
      "(4, 2)\n",
      "(5, 3, 4, 2)\n"
     ]
    }
   ],
   "source": [
    "# В программе созданы два массива и записаны в переменные arr_1 и arr_2. \n",
    "# Массив arr_1 имеет размер (5, 3), а массив arr_2 имеет размер (4, 2). \n",
    "# Прибавьте к массиву arr_1 массив arr_2.\n",
    "\n",
    "arr1 = np.empty(5 * 3).reshape(5, 3)\n",
    "arr2 = np.empty(4 * 2).reshape(4, 2)\n",
    "print(arr1.shape)\n",
    "print(arr2.shape)\n",
    "\n",
    "new_arr = arr1[:, :, np.newaxis, np.newaxis] + arr2\n",
    "print(new_arr.shape)"
   ]
  },
  {
   "cell_type": "code",
   "execution_count": 56,
   "metadata": {},
   "outputs": [
    {
     "name": "stdout",
     "output_type": "stream",
     "text": [
      "(10, 2)\n",
      "(10,)\n",
      "(10, 2)\n"
     ]
    }
   ],
   "source": [
    "# В программе создан массив размером (10, 2) и записан в переменную arr. \n",
    "# Массив содержит 10 точек с двумя координатами x и y. Массив loss имеет размер (10), содержит погрешность в измерениях координат для каждой точки. \n",
    "# Из координат в массиве arr вычтите погрешность.\n",
    "\n",
    "arr = np.empty(10 * 2).reshape(10, 2)\n",
    "loss = np.empty(10)\n",
    "print(arr.shape)\n",
    "print(loss.shape)\n",
    "\n",
    "new_arr = arr - loss[:, np.newaxis]\n",
    "print(new_arr.shape)"
   ]
  },
  {
   "cell_type": "code",
   "execution_count": 57,
   "metadata": {},
   "outputs": [
    {
     "data": {
      "text/plain": [
       "array([[ 1,  2,  3],\n",
       "       [ 4,  5,  6],\n",
       "       [ 7,  8,  9],\n",
       "       [10, 11, 12],\n",
       "       [13, 14, 15]])"
      ]
     },
     "metadata": {},
     "output_type": "display_data"
    },
    {
     "data": {
      "text/plain": [
       "array([0, 1, 2, 3, 4])"
      ]
     },
     "metadata": {},
     "output_type": "display_data"
    },
    {
     "data": {
      "text/plain": [
       "array([[ 1,  2,  3],\n",
       "       [ 4,  4,  6],\n",
       "       [ 7,  6,  9],\n",
       "       [10,  8, 12],\n",
       "       [13, 10, 15]])"
      ]
     },
     "metadata": {},
     "output_type": "display_data"
    }
   ],
   "source": [
    "# В программе создан массив размером (5, 3) и записан в переменную arr. \n",
    "# Массив содержит 10 точек с тремя координатами x, y и z. Массив loss имеет размер (5), содержит погрешность в измерениях координаты y. \n",
    "# В массиве arr исправьте значение координаты y вычев из нее погрешность.\n",
    "\n",
    "arr = np.arange(1, 16).reshape(5, 3)\n",
    "loss = np.arange(5)\n",
    "display(arr, loss)\n",
    "\n",
    "arr[:, 1] = arr[:, 1] - loss\n",
    "display(arr)"
   ]
  },
  {
   "cell_type": "code",
   "execution_count": 58,
   "metadata": {},
   "outputs": [
    {
     "data": {
      "text/plain": [
       "array([[[ 0,  1],\n",
       "        [ 2,  3],\n",
       "        [ 4,  5]],\n",
       "\n",
       "       [[ 6,  7],\n",
       "        [ 8,  9],\n",
       "        [10, 11]]])"
      ]
     },
     "metadata": {},
     "output_type": "display_data"
    },
    {
     "data": {
      "text/plain": [
       "array([2, 2, 2])"
      ]
     },
     "metadata": {},
     "output_type": "display_data"
    },
    {
     "data": {
      "text/plain": [
       "array([[[-2, -1],\n",
       "        [ 0,  1],\n",
       "        [ 2,  3]],\n",
       "\n",
       "       [[ 4,  5],\n",
       "        [ 6,  7],\n",
       "        [ 8,  9]]])"
      ]
     },
     "metadata": {},
     "output_type": "display_data"
    }
   ],
   "source": [
    "# В программе создан массив размером (10, 4, 2) и записан в переменную arr. \n",
    "# Массив содержит 10 наблюдений, в которых четырьмя разными методами измерялись координаты x и y. \n",
    "# Массив loss имеет размер (4), содержит погрешность в измерениях каждого метода. \n",
    "# В массиве arr исправьте значение координат вычев из них погрешность.\n",
    "\n",
    "arr = np.arange(2 * 3 * 2).reshape(2, 3, 2)\n",
    "loss = np.array([2, 2, 2])\n",
    "display(arr, loss)\n",
    "\n",
    "new_arr = arr - loss[np.newaxis, :, np.newaxis]\n",
    "display(new_arr)"
   ]
  },
  {
   "cell_type": "code",
   "execution_count": 59,
   "metadata": {},
   "outputs": [
    {
     "name": "stdout",
     "output_type": "stream",
     "text": [
      "(16, 3, 3)\n",
      "(64, 3, 3)\n",
      "(64, 16, 3, 3)\n"
     ]
    }
   ],
   "source": [
    "# Создан массив с размером (16, 28, 28), 16 картинок 28 на 28 пикселей в градации серого. \n",
    "# В массиве взят срез по первой и второй оси и записан в переменную arr. \n",
    "# Срез имеет размер (16, 3, 3). \n",
    "# Умножьте срез на массив kernels с размером (64, 3, 3), 64 ядра размером 3 на 3 пикселя.\n",
    "\n",
    "arr = np.empty(16 * 3 * 3).reshape(16, 3, 3)\n",
    "print(arr.shape)\n",
    "kernels = np.empty(64 * 3 * 3).reshape(64, 3, 3)\n",
    "print(kernels.shape)\n",
    "\n",
    "new_arr = arr[np.newaxis, :, :, :] * kernels[:, np.newaxis, :, :]\n",
    "print(new_arr.shape)"
   ]
  },
  {
   "cell_type": "code",
   "execution_count": 60,
   "metadata": {},
   "outputs": [
    {
     "name": "stdout",
     "output_type": "stream",
     "text": [
      "(16, 3, 3, 3)\n",
      "(32, 3, 3)\n",
      "(32, 16, 3, 3, 3)\n"
     ]
    }
   ],
   "source": [
    "# Создан массив с размером (16, 28, 28, 3), 16 картинок 28 на 28 пикселей с тремя цветовыми каналами RGB. \n",
    "# В массиве взят срез по первой и второй оси и записан в переменную arr. \n",
    "# Срез имеет размер (16, 3, 3, 3). \n",
    "# Умножьте срез на массив kernels с размером (32, 3, 3), 32 ядра размером 3 на 3 пикселя.\n",
    "\n",
    "arr = np.empty(16 * 3 * 3 * 3).reshape(16, 3, 3, 3)\n",
    "print(arr.shape)\n",
    "kernels = np.empty(32 * 3 * 3).reshape(32, 3, 3)\n",
    "print(kernels.shape)\n",
    "\n",
    "new_arr = arr[np.newaxis, :, :, :, :] * kernels[ :, np.newaxis, np.newaxis, :, :]\n",
    "print(new_arr.shape)"
   ]
  },
  {
   "cell_type": "code",
   "execution_count": 61,
   "metadata": {},
   "outputs": [
    {
     "name": "stdout",
     "output_type": "stream",
     "text": [
      "(16, 3, 3, 3)\n",
      "(32, 3, 3)\n",
      "(16, 32, 3, 3, 3)\n"
     ]
    },
    {
     "name": "stderr",
     "output_type": "stream",
     "text": [
      "C:\\Users\\kuche\\AppData\\Local\\Temp\\ipykernel_11540\\986492731.py:9: RuntimeWarning: overflow encountered in multiply\n",
      "  new_arr = arr * kernels\n"
     ]
    }
   ],
   "source": [
    "arr = np.empty(16 * 3 * 3 * 3).reshape(16, 3, 3, 3)\n",
    "print(arr.shape)\n",
    "kernels = np.empty(32 * 3 * 3).reshape(32, 3, 3)\n",
    "print(kernels.shape)\n",
    "\n",
    "arr = arr.reshape(16, 1, 3, 3, 3)\n",
    "kernels = kernels.reshape(1, 32, 3, 3, 1)\n",
    "\n",
    "new_arr = arr * kernels\n",
    "print(new_arr.shape)"
   ]
  },
  {
   "cell_type": "markdown",
   "metadata": {},
   "source": [
    "# 2.2 Математические функции."
   ]
  },
  {
   "cell_type": "code",
   "execution_count": 62,
   "metadata": {},
   "outputs": [
    {
     "data": {
      "text/plain": [
       "array([[[ 2,  3],\n",
       "        [ 4,  5],\n",
       "        [ 6,  7]],\n",
       "\n",
       "       [[ 8,  9],\n",
       "        [10, 11],\n",
       "        [12, 13]],\n",
       "\n",
       "       [[14, 15],\n",
       "        [16, 17],\n",
       "        [18, 19]]])"
      ]
     },
     "execution_count": 62,
     "metadata": {},
     "output_type": "execute_result"
    }
   ],
   "source": [
    "arr = np.arange(2, 20).reshape([3, 3, 2])\n",
    "arr"
   ]
  },
  {
   "cell_type": "code",
   "execution_count": 63,
   "metadata": {},
   "outputs": [
    {
     "name": "stdout",
     "output_type": "stream",
     "text": [
      "2\n",
      "19\n",
      "189\n",
      "10.5\n",
      "5.188127472091127\n"
     ]
    }
   ],
   "source": [
    "# Методы\n",
    "\n",
    "print(arr.min())\n",
    "print(arr.max())\n",
    "print(arr.sum())\n",
    "print(arr.mean())\n",
    "print(arr.std())"
   ]
  },
  {
   "cell_type": "code",
   "execution_count": 64,
   "metadata": {},
   "outputs": [
    {
     "name": "stdout",
     "output_type": "stream",
     "text": [
      "[[[ 2  3]\n",
      "  [ 4  5]\n",
      "  [ 6  7]]\n",
      "\n",
      " [[ 8  9]\n",
      "  [10 11]\n",
      "  [12 13]]\n",
      "\n",
      " [[14 15]\n",
      "  [16 17]\n",
      "  [18 19]]]\n",
      "\n",
      "19\n",
      "[[[0.69314718 1.09861229]\n",
      "  [1.38629436 1.60943791]\n",
      "  [1.79175947 1.94591015]]\n",
      "\n",
      " [[2.07944154 2.19722458]\n",
      "  [2.30258509 2.39789527]\n",
      "  [2.48490665 2.56494936]]\n",
      "\n",
      " [[2.63905733 2.7080502 ]\n",
      "  [2.77258872 2.83321334]\n",
      "  [2.89037176 2.94443898]]]\n",
      "178482300.96318725\n"
     ]
    }
   ],
   "source": [
    "# Функции\n",
    "\n",
    "print(np.abs(arr))\n",
    "print()\n",
    "print(np.max(arr))\n",
    "print(np.log(arr))\n",
    "# print(np.exp(arr))\n",
    "print(np.max(np.exp(arr)))"
   ]
  },
  {
   "cell_type": "code",
   "execution_count": 65,
   "metadata": {},
   "outputs": [
    {
     "name": "stdout",
     "output_type": "stream",
     "text": [
      "[[[ 0.90929743  0.14112001]\n",
      "  [-0.7568025  -0.95892427]\n",
      "  [-0.2794155   0.6569866 ]]\n",
      "\n",
      " [[ 0.98935825  0.41211849]\n",
      "  [-0.54402111 -0.99999021]\n",
      "  [-0.53657292  0.42016704]]\n",
      "\n",
      " [[ 0.99060736  0.65028784]\n",
      "  [-0.28790332 -0.96139749]\n",
      "  [-0.75098725  0.14987721]]]\n",
      "[[[-0.41614684 -0.9899925 ]\n",
      "  [-0.65364362  0.28366219]\n",
      "  [ 0.96017029  0.75390225]]\n",
      "\n",
      " [[-0.14550003 -0.91113026]\n",
      "  [-0.83907153  0.0044257 ]\n",
      "  [ 0.84385396  0.90744678]]\n",
      "\n",
      " [[ 0.13673722 -0.75968791]\n",
      "  [-0.95765948 -0.27516334]\n",
      "  [ 0.66031671  0.98870462]]]\n",
      "[[[1.10714872 1.24904577]\n",
      "  [1.32581766 1.37340077]\n",
      "  [1.40564765 1.42889927]]\n",
      "\n",
      " [[1.44644133 1.46013911]\n",
      "  [1.47112767 1.48013644]\n",
      "  [1.48765509 1.49402444]]\n",
      "\n",
      " [[1.49948886 1.50422816]\n",
      "  [1.50837752 1.5120405 ]\n",
      "  [1.51529782 1.51821327]]]\n"
     ]
    }
   ],
   "source": [
    "print(np.sin(arr))\n",
    "print(np.cos(arr))\n",
    "print(np.arctan(arr))"
   ]
  },
  {
   "cell_type": "code",
   "execution_count": 66,
   "metadata": {},
   "outputs": [
    {
     "data": {
      "text/plain": [
       "array([[[ 2,  3],\n",
       "        [ 4,  5],\n",
       "        [ 6,  7]],\n",
       "\n",
       "       [[ 8,  9],\n",
       "        [10, 11],\n",
       "        [12, 13]],\n",
       "\n",
       "       [[14, 15],\n",
       "        [16, 17],\n",
       "        [18, 19]]])"
      ]
     },
     "execution_count": 66,
     "metadata": {},
     "output_type": "execute_result"
    }
   ],
   "source": [
    "arr = np.arange(2, 20).reshape([3, 3, 2])\n",
    "arr"
   ]
  },
  {
   "cell_type": "code",
   "execution_count": 67,
   "metadata": {},
   "outputs": [
    {
     "name": "stdout",
     "output_type": "stream",
     "text": [
      "[[24 27]\n",
      " [30 33]\n",
      " [36 39]]\n",
      "\n",
      "[[12 15]\n",
      " [30 33]\n",
      " [48 51]]\n",
      "\n",
      "[[ 5  9 13]\n",
      " [17 21 25]\n",
      " [29 33 37]]\n"
     ]
    }
   ],
   "source": [
    "print(np.sum(arr, axis=0))\n",
    "print()\n",
    "print(np.sum(arr, axis=1))\n",
    "print()\n",
    "print(np.sum(arr, axis=2))"
   ]
  },
  {
   "cell_type": "code",
   "execution_count": 68,
   "metadata": {},
   "outputs": [
    {
     "name": "stdout",
     "output_type": "stream",
     "text": [
      "[1 2 3 4]\n",
      "3\n",
      "3\n"
     ]
    }
   ],
   "source": [
    "# В программе создан одномерный массив и записан в переменную arr. \n",
    "# Получите индекс максимального и минимального значения в массиве.\n",
    "\n",
    "# Результат запишите в переменные arr_argmax, arr_argmin соответственно.\n",
    "\n",
    "arr = np.arange(1, 5)\n",
    "print(arr)\n",
    "\n",
    "print(np.argmax(arr))\n",
    "print(*np.where(arr == 4)[0])"
   ]
  },
  {
   "cell_type": "code",
   "execution_count": 69,
   "metadata": {},
   "outputs": [
    {
     "data": {
      "text/plain": [
       "4"
      ]
     },
     "execution_count": 69,
     "metadata": {},
     "output_type": "execute_result"
    }
   ],
   "source": [
    "# В программе создан одномерный массив и записан в переменную arr. Найдите значение в массиве ближайшее к числу 10\n",
    "\n",
    "# Результат запишите в переменную value.\n",
    "\n",
    "value = arr[np.argmin(np.abs(arr - 10))]\n",
    "value"
   ]
  },
  {
   "cell_type": "code",
   "execution_count": 70,
   "metadata": {},
   "outputs": [
    {
     "data": {
      "text/plain": [
       "array([[[ 0,  1],\n",
       "        [ 2,  3],\n",
       "        [ 4,  5],\n",
       "        [ 6,  7]],\n",
       "\n",
       "       [[ 8,  9],\n",
       "        [10, 11],\n",
       "        [12, 13],\n",
       "        [14, 15]],\n",
       "\n",
       "       [[16, 17],\n",
       "        [18, 19],\n",
       "        [20, 21],\n",
       "        [22, 23]],\n",
       "\n",
       "       [[24, 25],\n",
       "        [26, 27],\n",
       "        [28, 29],\n",
       "        [30, 31]],\n",
       "\n",
       "       [[32, 33],\n",
       "        [34, 35],\n",
       "        [36, 37],\n",
       "        [38, 39]]])"
      ]
     },
     "metadata": {},
     "output_type": "display_data"
    },
    {
     "data": {
      "text/plain": [
       "array([19., 20.])"
      ]
     },
     "execution_count": 70,
     "metadata": {},
     "output_type": "execute_result"
    }
   ],
   "source": [
    "# На пяти фотографиях лиц определенны координаты четырех точек \n",
    "# Первая точка - внешний уголок правого глаза, вторая точка - внешний уголок левого глаза, \n",
    "# третья точка - переносица, четвёртая точка - кончик носа. \n",
    "# Все данные записаны в массив coord с размером (5, 4, 2). \n",
    "# Определите среднее значение координат x и y в массиве.\n",
    "\n",
    "coord = np.arange(5 * 4 * 2).reshape([5, 4, 2])\n",
    "\n",
    "display(coord)\n",
    "\n",
    "mean_coord = np.mean(coord, axis=(0, 1))\n",
    "mean_coord"
   ]
  },
  {
   "cell_type": "code",
   "execution_count": 71,
   "metadata": {},
   "outputs": [
    {
     "data": {
      "text/plain": [
       "array([[16., 17.],\n",
       "       [18., 19.],\n",
       "       [20., 21.],\n",
       "       [22., 23.]])"
      ]
     },
     "execution_count": 71,
     "metadata": {},
     "output_type": "execute_result"
    }
   ],
   "source": [
    "# На пяти фотографиях лиц определенны координаты четырех точек. \n",
    "# Первая точка - внешний уголок правого глаза, вторая точка - внешний уголок левого глаза, \n",
    "# третья точка - переносица, четвёртая точка - кончик носа. \n",
    "# Все данные записаны в массив coord с размером (5, 4, 2). \n",
    "# Определите среднее значение координат x и y для каждой фотографии в массиве.\n",
    "\n",
    "coord = np.arange(5 * 4 * 2).reshape([5, 4, 2])\n",
    "\n",
    "mean_coord = np.mean(coord, axis=0)\n",
    "mean_coord"
   ]
  },
  {
   "cell_type": "code",
   "execution_count": 72,
   "metadata": {},
   "outputs": [
    {
     "data": {
      "text/plain": [
       "array([[16., 17.],\n",
       "       [18., 19.],\n",
       "       [20., 21.],\n",
       "       [22., 23.]])"
      ]
     },
     "execution_count": 72,
     "metadata": {},
     "output_type": "execute_result"
    }
   ],
   "source": [
    "# На пяти фотографиях лиц определенны координаты четырех точек. \n",
    "# Первая точка - внешний уголок правого глаза, вторая точка - внешний уголок левого глаза, \n",
    "# третья точка - переносица, четвёртая точка - кончик носа. \n",
    "# Все данные записаны в массив coord с размером (5, 4, 2). \n",
    "# Определите среднее значение координат x и y для каждой точки.\n",
    "\n",
    "coord = np.arange(5 * 4 * 2).reshape([5, 4, 2])\n",
    "\n",
    "mean_coord = np.mean(coord, axis=0)\n",
    "mean_coord"
   ]
  },
  {
   "cell_type": "code",
   "execution_count": 73,
   "metadata": {},
   "outputs": [
    {
     "name": "stdout",
     "output_type": "stream",
     "text": [
      "(100, 28, 28, 3)\n",
      "[117598.5 117599.5 117600.5] [67896.39165118 67896.39165118 67896.39165118]\n"
     ]
    }
   ],
   "source": [
    "# Набор данных состоящий из 100 картинок 28 на 28 пикселей с 3-мя цветовыми каналами RGB записан в массив img \n",
    "# и имеет размер(100, 28, 28, 3). \n",
    "# Определите среднее значение и стандартное отклонение (std) для каждого цветового канала по всему массиву.\n",
    "\n",
    "# Результат запишите в переменные mean_img и std_img соответственно.\n",
    "\n",
    "img = np.arange(100 * 28 * 28 * 3).reshape([100, 28, 28, 3])\n",
    "print(img.shape)\n",
    "\n",
    "mean_img = np.mean(img, axis=(0, 1, 2))\n",
    "std_img = np.std(img, axis=(0, 1, 2))\n",
    "\n",
    "print(mean_img, std_img)"
   ]
  },
  {
   "cell_type": "code",
   "execution_count": 74,
   "metadata": {},
   "outputs": [
    {
     "name": "stdout",
     "output_type": "stream",
     "text": [
      "(100, 28, 28, 3)\n",
      "(100, 3) (100, 3)\n"
     ]
    }
   ],
   "source": [
    "# Набор данных состоящий из 100 картинок 28 на 28 пикселей с 3-мя цветовыми каналами RGB записан в массив img \n",
    "# и имеет размер(100, 28, 28, 3). \n",
    "# Определите среднее значение и стандартное отклонение (std) каждого цветового канала для каждой картинки.\n",
    "\n",
    "# Результат запишите в переменные mean_img и std_img соответственно.\n",
    "\n",
    "img = np.arange(100 * 28 * 28 * 3).reshape([100, 28, 28, 3])\n",
    "print(img.shape)\n",
    "\n",
    "mean_img = np.mean(img, axis=(1, 2))\n",
    "std_img = np.std(img, axis=(1, 2))\n",
    "\n",
    "print(mean_img.shape, std_img.shape)"
   ]
  },
  {
   "cell_type": "code",
   "execution_count": 75,
   "metadata": {},
   "outputs": [
    {
     "name": "stdout",
     "output_type": "stream",
     "text": [
      "(100, 28, 28, 3)\n",
      "(28, 28, 3) (28, 28, 3)\n"
     ]
    }
   ],
   "source": [
    "# Набор данных состоящий из 100 картинок 28 на 28 пикселей с 3-мя цветовыми каналами RGB записан в массив img \n",
    "# и имеет размер(100, 28, 28, 3). \n",
    "# Определите среднее значение и стандартное отклонение (std) каждого цветового канала для каждого пикселя.\n",
    "\n",
    "# Результат запишите в переменные mean_img и std_img соответственно. Размер массивов должен быть (28, 28, 3).\n",
    "\n",
    "img = np.arange(100 * 28 * 28 * 3).reshape([100, 28, 28, 3])\n",
    "print(img.shape)\n",
    "\n",
    "mean_img = np.mean(img, axis=0)\n",
    "std_img = np.std(img, axis=0)\n",
    "\n",
    "print(mean_img.shape, std_img.shape)"
   ]
  },
  {
   "cell_type": "code",
   "execution_count": 76,
   "metadata": {},
   "outputs": [
    {
     "name": "stdout",
     "output_type": "stream",
     "text": [
      "[0 1 2 3 4 5 6 7 8 9]\n",
      "[7 1 9 3 6]\n"
     ]
    }
   ],
   "source": [
    "# В программе создан массив и записан в переменную arr. Сформируйте массив с пятью элементами рандомно взятых из массива arr.\n",
    "\n",
    "# Результат запишите в переменные new_arr.\n",
    "\n",
    "arr = np.arange(10)\n",
    "print(arr)\n",
    "\n",
    "new_arr = np.random.choice(arr, 5)\n",
    "print(new_arr)"
   ]
  },
  {
   "cell_type": "code",
   "execution_count": 77,
   "metadata": {},
   "outputs": [
    {
     "name": "stdout",
     "output_type": "stream",
     "text": [
      "[0 1 2 3 4 5 6 7 8 9]\n",
      "[7 1 9 2 8 0 3 4 5 6]\n"
     ]
    }
   ],
   "source": [
    "# В программе создан массив и записан в переменную arr. \n",
    "# Перемешайте элементы на нулевой оси.\n",
    "\n",
    "arr = np.arange(10)\n",
    "print(arr)\n",
    "\n",
    "np.random.shuffle(arr)\n",
    "print(arr)"
   ]
  },
  {
   "cell_type": "markdown",
   "metadata": {},
   "source": [
    "# 2.3 Операции сравнения."
   ]
  },
  {
   "cell_type": "code",
   "execution_count": 78,
   "metadata": {},
   "outputs": [
    {
     "name": "stdout",
     "output_type": "stream",
     "text": [
      "[[[False False False]\n",
      "  [False False False]\n",
      "  [False False False]\n",
      "  [False False False]\n",
      "  [False False False]\n",
      "  [False False False]\n",
      "  [False False False]]\n",
      "\n",
      " [[False False False]\n",
      "  [False False False]\n",
      "  [False False False]\n",
      "  [False False False]\n",
      "  [False False False]\n",
      "  [False False False]\n",
      "  [False False False]]]\n"
     ]
    }
   ],
   "source": [
    "# В программе созданы два массива и записаны в переменные arr_1 и arr_2. \n",
    "# Массив arr_1 имеет размер (2, 7, 3), а массив arr_2 имеет размер (2, 7). \n",
    "# Сравните массив arr_1 с arr_2, операция сравнения <.\n",
    "\n",
    "arr_1 = np.arange(2 * 7 * 3).reshape(2, 7, 3)\n",
    "arr_2 = np.arange(2 * 7).reshape(2, 7)\n",
    "\n",
    "new_arr = arr_1 < arr_2[:, :, np.newaxis]\n",
    "print(new_arr)"
   ]
  },
  {
   "cell_type": "code",
   "execution_count": 79,
   "metadata": {},
   "outputs": [
    {
     "name": "stdout",
     "output_type": "stream",
     "text": [
      "[[[False False False]\n",
      "  [False False False]\n",
      "  [False False False]\n",
      "  [False False False]\n",
      "  [False False False]\n",
      "  [False False False]\n",
      "  [False False False]]\n",
      "\n",
      " [[False False False]\n",
      "  [False False False]\n",
      "  [False False False]\n",
      "  [False False False]\n",
      "  [False False False]\n",
      "  [False False False]\n",
      "  [False False False]]]\n"
     ]
    }
   ],
   "source": [
    "# В программе созданы два массива и записаны в переменные arr_1 и arr_2. \n",
    "# Массив arr_1 имеет размер (2, 7, 3), а массив arr_2 имеет размер (1, 7). \n",
    "# Сравните массив arr_1 с arr_2, операция сравнения <.\n",
    "\n",
    "arr_1 = np.arange(2 * 7 * 3).reshape(2, 7, 3)\n",
    "arr_2 = np.arange(7).reshape(1, 7)\n",
    "\n",
    "new_arr = arr_1 < arr_2[:, :, np.newaxis]\n",
    "print(new_arr)"
   ]
  },
  {
   "cell_type": "code",
   "execution_count": 80,
   "metadata": {},
   "outputs": [
    {
     "name": "stdout",
     "output_type": "stream",
     "text": [
      "[[[False False False]\n",
      "  [ True  True  True]\n",
      "  [ True  True  True]\n",
      "  [ True  True  True]\n",
      "  [ True  True  True]\n",
      "  [ True  True  True]\n",
      "  [ True  True  True]]\n",
      "\n",
      " [[ True  True  True]\n",
      "  [ True  True  True]\n",
      "  [ True  True  True]\n",
      "  [ True  True  True]\n",
      "  [ True  True  True]\n",
      "  [ True  True  True]\n",
      "  [ True  True  True]]]\n"
     ]
    }
   ],
   "source": [
    "# В программе созданы два массива и записаны в переменные arr_1 и arr_2. \n",
    "# Массив arr_1 имеет размер (2, 7, 3), а массив arr_2 имеет размер (2, 3). \n",
    "# Сравните массив arr_1 с arr_2, операция сравнения <.\n",
    "\n",
    "arr_1 = np.arange(2 * 7 * 3).reshape(2, 7, 3)\n",
    "arr_2 = np.arange(2 * 3).reshape(2, 3)\n",
    "\n",
    "new_arr = arr_1 != arr_2[:, np.newaxis, :]\n",
    "print(new_arr)"
   ]
  },
  {
   "cell_type": "code",
   "execution_count": 81,
   "metadata": {},
   "outputs": [
    {
     "data": {
      "text/plain": [
       "array([ True,  True,  True,  True])"
      ]
     },
     "execution_count": 81,
     "metadata": {},
     "output_type": "execute_result"
    }
   ],
   "source": [
    "# В программе созданы два массива и записаны в переменные arr_1 и arr_2. Проверьте массивы на равенство.\n",
    "\n",
    "arr_1 = np.array([1, 3, 5, 6])\n",
    "arr_2 = np.array([1, 3, 5, 6])\n",
    "\n",
    "arr_equal = arr_1 == arr_2\n",
    "arr_equal"
   ]
  },
  {
   "cell_type": "code",
   "execution_count": 82,
   "metadata": {},
   "outputs": [
    {
     "data": {
      "text/plain": [
       "True"
      ]
     },
     "execution_count": 82,
     "metadata": {},
     "output_type": "execute_result"
    }
   ],
   "source": [
    "arr_equal = np.array_equal(arr_1, arr_2)\n",
    "arr_equal"
   ]
  },
  {
   "cell_type": "markdown",
   "metadata": {},
   "source": [
    "# 2.4 Матрицы и вектора."
   ]
  },
  {
   "cell_type": "code",
   "execution_count": 83,
   "metadata": {},
   "outputs": [
    {
     "data": {
      "text/plain": [
       "array([1, 2, 3, 4, 5])"
      ]
     },
     "metadata": {},
     "output_type": "display_data"
    },
    {
     "data": {
      "text/plain": [
       "array([2, 3, 4, 5, 6])"
      ]
     },
     "metadata": {},
     "output_type": "display_data"
    },
    {
     "data": {
      "text/plain": [
       "array([[6, 3, 7],\n",
       "       [4, 6, 9],\n",
       "       [2, 6, 7]])"
      ]
     },
     "metadata": {},
     "output_type": "display_data"
    },
    {
     "data": {
      "text/plain": [
       "array([[4, 3, 7],\n",
       "       [7, 2, 5],\n",
       "       [4, 1, 7]])"
      ]
     },
     "metadata": {},
     "output_type": "display_data"
    }
   ],
   "source": [
    "np.random.seed(42)\n",
    "\n",
    "vector_1 = np.array([1, 2, 3, 4, 5])\n",
    "vector_2 = np.array([2, 3, 4, 5, 6])\n",
    "\n",
    "matrix_1 = np.random.randint(10, size=[3, 3])\n",
    "matrix_2 = np.random.randint(10, size=[3, 3])\n",
    "\n",
    "display(vector_1, vector_2)\n",
    "display(matrix_1, matrix_2)"
   ]
  },
  {
   "cell_type": "code",
   "execution_count": 84,
   "metadata": {},
   "outputs": [
    {
     "name": "stdout",
     "output_type": "stream",
     "text": [
      "70\n",
      "70\n",
      "70\n"
     ]
    }
   ],
   "source": [
    "# Умножение векторов\n",
    "\n",
    "# Скалярное произведение\n",
    "\n",
    "print(np.dot(vector_1, vector_2))\n",
    "print(vector_1 @ vector_2)\n",
    "print(np.inner(vector_1, vector_2))"
   ]
  },
  {
   "cell_type": "code",
   "execution_count": 85,
   "metadata": {},
   "outputs": [
    {
     "name": "stdout",
     "output_type": "stream",
     "text": [
      "[[ 2  3  4  5  6]\n",
      " [ 4  6  8 10 12]\n",
      " [ 6  9 12 15 18]\n",
      " [ 8 12 16 20 24]\n",
      " [10 15 20 25 30]]\n"
     ]
    }
   ],
   "source": [
    "# Внешнее произведение\n",
    "\n",
    "# Каждый эдемент первого ветора умножается на строку второго вектра, образуя новую строку\n",
    "\n",
    "print(np.outer(vector_1, vector_2))"
   ]
  },
  {
   "cell_type": "code",
   "execution_count": 86,
   "metadata": {},
   "outputs": [
    {
     "data": {
      "text/plain": [
       "array([[ 73,  31, 106],\n",
       "       [ 94,  33, 121],\n",
       "       [ 78,  25,  93]])"
      ]
     },
     "metadata": {},
     "output_type": "display_data"
    },
    {
     "data": {
      "text/plain": [
       "array([[ 73,  31, 106],\n",
       "       [ 94,  33, 121],\n",
       "       [ 78,  25,  93]])"
      ]
     },
     "metadata": {},
     "output_type": "display_data"
    },
    {
     "data": {
      "text/plain": [
       "array([[ 73,  31, 106],\n",
       "       [ 94,  33, 121],\n",
       "       [ 78,  25,  93]])"
      ]
     },
     "metadata": {},
     "output_type": "display_data"
    }
   ],
   "source": [
    "# Умножение матриц\n",
    "\n",
    "# Строка первой матрицы умножается на столбец второй матрицы\n",
    "\n",
    "display(np.dot(matrix_1, matrix_2))\n",
    "display(matrix_1 @ matrix_2)\n",
    "display(np.matmul(matrix_1, matrix_2))"
   ]
  },
  {
   "cell_type": "code",
   "execution_count": 87,
   "metadata": {},
   "outputs": [
    {
     "data": {
      "text/plain": [
       "array([1, 2, 3])"
      ]
     },
     "metadata": {},
     "output_type": "display_data"
    },
    {
     "data": {
      "text/plain": [
       "array([2, 3, 4, 5])"
      ]
     },
     "metadata": {},
     "output_type": "display_data"
    },
    {
     "data": {
      "text/plain": [
       "array([[5, 1, 4],\n",
       "       [0, 9, 5],\n",
       "       [8, 0, 9],\n",
       "       [2, 6, 3]])"
      ]
     },
     "metadata": {},
     "output_type": "display_data"
    }
   ],
   "source": [
    "vec_1 = np.array([1, 2, 3])\n",
    "vec_2 = np.array([2, 3, 4, 5])\n",
    "\n",
    "mat = np.random.randint(10, size=[4, 3])\n",
    "\n",
    "display(vec_1, vec_2)\n",
    "display(mat)"
   ]
  },
  {
   "cell_type": "code",
   "execution_count": 88,
   "metadata": {},
   "outputs": [
    {
     "data": {
      "text/plain": [
       "array([52, 59, 74])"
      ]
     },
     "metadata": {},
     "output_type": "display_data"
    },
    {
     "data": {
      "text/plain": [
       "array([52, 59, 74])"
      ]
     },
     "metadata": {},
     "output_type": "display_data"
    }
   ],
   "source": [
    "# Умножение матрицы на вектро\n",
    "\n",
    "# Вектор-строка умножается на столбец матрицы\n",
    "\n",
    "display(np.dot(vec_2, mat))\n",
    "display(vec_2 @ mat)"
   ]
  },
  {
   "cell_type": "code",
   "execution_count": 89,
   "metadata": {},
   "outputs": [
    {
     "data": {
      "text/plain": [
       "array([[19],\n",
       "       [33],\n",
       "       [35],\n",
       "       [23]])"
      ]
     },
     "metadata": {},
     "output_type": "display_data"
    },
    {
     "data": {
      "text/plain": [
       "array([[19],\n",
       "       [33],\n",
       "       [35],\n",
       "       [23]])"
      ]
     },
     "metadata": {},
     "output_type": "display_data"
    }
   ],
   "source": [
    "display(np.dot(mat, vec_1[:, np.newaxis]))\n",
    "display(mat @ vec_1[:, np.newaxis])"
   ]
  },
  {
   "cell_type": "code",
   "execution_count": 90,
   "metadata": {},
   "outputs": [
    {
     "name": "stdout",
     "output_type": "stream",
     "text": [
      "3\n",
      "23\n",
      "156.99999999999994\n"
     ]
    },
    {
     "data": {
      "text/plain": [
       "EigResult(eigenvalues=array([ 1.45967618, 13.67503457,  7.86528925]), eigenvectors=array([[ 0.61773255, -0.37068144, -0.03137554],\n",
       "       [ 0.43459076, -0.67840834, -0.97472235],\n",
       "       [-0.65539101, -0.63431648,  0.22120559]]))"
      ]
     },
     "metadata": {},
     "output_type": "display_data"
    },
    {
     "data": {
      "text/plain": [
       "array([[ 0.51592357, -0.05732484, -0.19745223],\n",
       "       [ 0.25477707,  0.08280255, -0.15923567],\n",
       "       [-0.45859873,  0.05095541,  0.2866242 ]])"
      ]
     },
     "metadata": {},
     "output_type": "display_data"
    },
    {
     "data": {
      "text/plain": [
       "SVDResult(U=array([[-0.38091271, -0.24347434,  0.56272178, -0.69207655],\n",
       "       [-0.49356808,  0.69609481, -0.41731837, -0.3125507 ],\n",
       "       [-0.6831247 , -0.56940578, -0.35641648,  0.28650481],\n",
       "       [-0.38031134,  0.36324829,  0.61818838,  0.58417215]]), S=array([15.61506165,  9.7495324 ,  1.76535201]), Vh=array([[-0.52066293, -0.45500258, -0.72241453],\n",
       "       [-0.51757573,  0.84115508, -0.15675936],\n",
       "       [ 0.67898857,  0.29228544, -0.67345656]]))"
      ]
     },
     "metadata": {},
     "output_type": "display_data"
    }
   ],
   "source": [
    "print(np.linalg.matrix_rank(mat)) # - ранг матрицы\n",
    "print(np.trace(mat))              # - след матрицы\n",
    "print(np.linalg.det(mat[:3]))     # - определитель матрицы\n",
    "display(np.linalg.eig(mat[:3]))   # - собственные значения и собственные вектора матрицы\n",
    "display(np.linalg.inv(mat[:3]))   # - обратная матрица\n",
    "display(np.linalg.svd(mat))       # - сингулярное разложение"
   ]
  },
  {
   "cell_type": "code",
   "execution_count": 91,
   "metadata": {},
   "outputs": [
    {
     "data": {
      "text/plain": [
       "array([[1., 0., 0., 0.],\n",
       "       [0., 1., 0., 0.],\n",
       "       [0., 0., 1., 0.],\n",
       "       [0., 0., 0., 1.]])"
      ]
     },
     "execution_count": 91,
     "metadata": {},
     "output_type": "execute_result"
    }
   ],
   "source": [
    "# Создайте единичную матрицу размером (4, 4).\n",
    "\n",
    "mat_I = np.eye(4)\n",
    "mat_I"
   ]
  },
  {
   "cell_type": "code",
   "execution_count": 92,
   "metadata": {},
   "outputs": [
    {
     "data": {
      "text/plain": [
       "array([[ 1,  0,  0,  0,  0,  0,  0,  0,  0,  0],\n",
       "       [ 0,  2,  0,  0,  0,  0,  0,  0,  0,  0],\n",
       "       [ 0,  0,  3,  0,  0,  0,  0,  0,  0,  0],\n",
       "       [ 0,  0,  0,  4,  0,  0,  0,  0,  0,  0],\n",
       "       [ 0,  0,  0,  0,  5,  0,  0,  0,  0,  0],\n",
       "       [ 0,  0,  0,  0,  0,  6,  0,  0,  0,  0],\n",
       "       [ 0,  0,  0,  0,  0,  0,  7,  0,  0,  0],\n",
       "       [ 0,  0,  0,  0,  0,  0,  0,  8,  0,  0],\n",
       "       [ 0,  0,  0,  0,  0,  0,  0,  0,  9,  0],\n",
       "       [ 0,  0,  0,  0,  0,  0,  0,  0,  0, 10]])"
      ]
     },
     "execution_count": 92,
     "metadata": {},
     "output_type": "execute_result"
    }
   ],
   "source": [
    "# Создайте матрицу на главной диагонали которой лежат числа от 1 до 10 включительно.\n",
    "\n",
    "mat_diag = np.diag(np.arange(1, 11))\n",
    "mat_diag"
   ]
  },
  {
   "cell_type": "code",
   "execution_count": 93,
   "metadata": {},
   "outputs": [
    {
     "data": {
      "text/plain": [
       "array([[0, 1, 2],\n",
       "       [0, 1, 2],\n",
       "       [0, 1, 2]])"
      ]
     },
     "execution_count": 93,
     "metadata": {},
     "output_type": "execute_result"
    }
   ],
   "source": [
    "# Создайте матрицу размером (3, 3) все строки которой одинаковые и состоят из значений от 0 до 3\n",
    "\n",
    "mat_A = np.full([3, 3], np.arange(0, 3))\n",
    "mat_A"
   ]
  },
  {
   "cell_type": "code",
   "execution_count": 94,
   "metadata": {},
   "outputs": [
    {
     "data": {
      "text/plain": [
       "array([[0, 2, 4, 6, 8],\n",
       "       [0, 2, 4, 6, 8],\n",
       "       [0, 2, 4, 6, 8],\n",
       "       [0, 2, 4, 6, 8],\n",
       "       [0, 2, 4, 6, 8]])"
      ]
     },
     "execution_count": 94,
     "metadata": {},
     "output_type": "execute_result"
    }
   ],
   "source": [
    "# Создайте матрицу размером (5, 5) все строки которой одинаковые и состоят из значений от 0 до 10 с шагом 2\n",
    "\n",
    "mat_A = np.full([5, 5], np.arange(0, 10, 2))\n",
    "mat_A"
   ]
  },
  {
   "cell_type": "code",
   "execution_count": 95,
   "metadata": {},
   "outputs": [
    {
     "data": {
      "text/plain": [
       "array([[0, 0, 0, 0, 0],\n",
       "       [2, 2, 2, 2, 2],\n",
       "       [4, 4, 4, 4, 4],\n",
       "       [6, 6, 6, 6, 6],\n",
       "       [8, 8, 8, 8, 8]])"
      ]
     },
     "execution_count": 95,
     "metadata": {},
     "output_type": "execute_result"
    }
   ],
   "source": [
    "# Создайте матрицу размером (5, 5) все столбцы которой одинаковые и состоят из значений от 0 до 10 с шагом 2\n",
    "\n",
    "mat_A = np.full([5, 5], np.arange(0, 10, 2))\n",
    "np.transpose(mat_A)"
   ]
  },
  {
   "cell_type": "code",
   "execution_count": 96,
   "metadata": {},
   "outputs": [
    {
     "data": {
      "text/plain": [
       "array([[0, 0, 0, 0, 0],\n",
       "       [2, 2, 2, 2, 2],\n",
       "       [4, 4, 4, 4, 4],\n",
       "       [6, 6, 6, 6, 6],\n",
       "       [8, 8, 8, 8, 8]])"
      ]
     },
     "execution_count": 96,
     "metadata": {},
     "output_type": "execute_result"
    }
   ],
   "source": [
    "mat_A = (np.full([5, 5], np.arange(0, 10, 2))).T\n",
    "mat_A"
   ]
  },
  {
   "cell_type": "code",
   "execution_count": 97,
   "metadata": {},
   "outputs": [
    {
     "data": {
      "text/plain": [
       "array([[6, 3, 7],\n",
       "       [4, 6, 9],\n",
       "       [2, 6, 7],\n",
       "       [4, 3, 7]])"
      ]
     },
     "metadata": {},
     "output_type": "display_data"
    },
    {
     "name": "stdout",
     "output_type": "stream",
     "text": [
      "[5.33333333 6.33333333 5.         4.66666667]\n"
     ]
    },
    {
     "data": {
      "text/plain": [
       "array([[ 0.66666667, -2.33333333,  1.66666667],\n",
       "       [-2.33333333, -0.33333333,  2.66666667],\n",
       "       [-3.        ,  1.        ,  2.        ],\n",
       "       [-0.66666667, -1.66666667,  2.33333333]])"
      ]
     },
     "execution_count": 97,
     "metadata": {},
     "output_type": "execute_result"
    }
   ],
   "source": [
    "# В программе создана матрица и записана в переменную mat_A. Из каждой строки массива вычтите среднее значение в этой строке.\n",
    "\n",
    "np.random.seed(42)\n",
    "\n",
    "mat = np.random.randint(10, size=[4, 3])\n",
    "display(mat)\n",
    "\n",
    "print(np.mean(mat, axis=1))\n",
    "\n",
    "mat - np.mean(mat, axis=1)[:, np.newaxis]"
   ]
  },
  {
   "cell_type": "code",
   "execution_count": 98,
   "metadata": {},
   "outputs": [
    {
     "data": {
      "text/plain": [
       "array([[ -7,  -4,  -8],\n",
       "       [ -5,  -7, -10],\n",
       "       [ -3,  -7,  -8],\n",
       "       [ -5,  -4,  -8]])"
      ]
     },
     "execution_count": 98,
     "metadata": {},
     "output_type": "execute_result"
    }
   ],
   "source": [
    "np.invert(mat)"
   ]
  },
  {
   "cell_type": "markdown",
   "metadata": {},
   "source": [
    "# 1.7 Индексация по булевым значениям"
   ]
  },
  {
   "cell_type": "code",
   "execution_count": 99,
   "metadata": {},
   "outputs": [
    {
     "name": "stdout",
     "output_type": "stream",
     "text": [
      "[['Вера' '21' 'F' '3' '4.8']]\n"
     ]
    }
   ],
   "source": [
    "# Дан массив data, содержащий информацию о студентах: имя, возраст, пол, курс и средний балл. \n",
    "# Найдите имена, средние баллы и другую информацию студентов, \n",
    "# которые старше 20 лет, женского пола и учатся на третьем курсе.\n",
    "\n",
    "data = np.array([\n",
    "    ['Анна', 19, 'F', 1, 4.5],\n",
    "    ['Борис', 21, 'M', 2, 3.7],\n",
    "    ['Вера', 21, 'F', 3, 4.8],\n",
    "    ['Глеб', 22, 'M', 4, 3.9],\n",
    "    ['Дарья', 18, 'F', 1, 4.2],\n",
    "    ['Егор', 23, 'M', 3, 4.1],\n",
    "    ['Жанна', 21, 'F', 2, 4.6],\n",
    "    ['Захар', 19, 'M', 1, 4.0]\n",
    "])\n",
    "\n",
    "mask = (np.int16(data[:, 1]) > 20) & (data[:, 2] == 'F') & (np.int16(data[:, 3]) == 3)\n",
    "\n",
    "result = data[mask]\n",
    "\n",
    "print(result)"
   ]
  },
  {
   "cell_type": "markdown",
   "metadata": {},
   "source": [
    "# 1.8 Транспонирование массивов"
   ]
  },
  {
   "cell_type": "code",
   "execution_count": 100,
   "metadata": {},
   "outputs": [
    {
     "name": "stdout",
     "output_type": "stream",
     "text": [
      "Исходный массив:\n",
      "[[1 2 3]\n",
      " [4 5 6]]\n",
      "\n",
      "Транспонированный массив:\n",
      "[[1 4]\n",
      " [2 5]\n",
      " [3 6]]\n"
     ]
    }
   ],
   "source": [
    "# 1. T (транспонирование): \n",
    "# Метод T используется для транспонирования массива, меняя местами строки и столбцы.\n",
    "# numpy.ndarray.T\n",
    "\n",
    "arr = np.array([[1, 2, 3], [4, 5, 6]])\n",
    "transposed_arr = arr.T\n",
    "print(\"Исходный массив:\")\n",
    "print(arr)\n",
    "print(\"\\nТранспонированный массив:\")\n",
    "print(transposed_arr)"
   ]
  },
  {
   "cell_type": "code",
   "execution_count": 101,
   "metadata": {},
   "outputs": [
    {
     "name": "stdout",
     "output_type": "stream",
     "text": [
      "Первый массив:\n",
      "[[1 2]\n",
      " [3 4]]\n",
      "\n",
      "Второй массив:\n",
      "[[5 6]\n",
      " [7 8]]\n",
      "\n",
      "Результат умножения:\n",
      "[[19 22]\n",
      " [43 50]]\n"
     ]
    }
   ],
   "source": [
    "# 2. dot (умножение матриц):\n",
    "# Метод dot используется для вычисления скалярного произведения векторов или матричного умножения (если массивы являются двумерными, то выполняется матричное умножение, однако в этом случае предпочтительно использовать matmul или @)\n",
    "\n",
    "# numpy.dot(a, b, out=None)\n",
    "\n",
    "# a, b: Входные массивы.\n",
    "# out: Опциональный аргумент для указания массива, в который будет записан результат.\n",
    "\n",
    "arr1 = np.array([[1, 2], [3, 4]])\n",
    "arr2 = np.array([[5, 6], [7, 8]])\n",
    "result = np.dot(arr1, arr2)\n",
    "print(\"Первый массив:\")\n",
    "print(arr1) \n",
    "print(\"\\nВторой массив:\")\n",
    "print(arr2) \n",
    "print(\"\\nРезультат умножения:\")\n",
    "print(result)"
   ]
  },
  {
   "cell_type": "code",
   "execution_count": 102,
   "metadata": {},
   "outputs": [
    {
     "name": "stdout",
     "output_type": "stream",
     "text": [
      "Исходный массив:\n",
      "[[1 2 3]\n",
      " [4 5 6]\n",
      " [7 8 9]]\n",
      "\n",
      "Массив после изменения формы:\n",
      "[[1 2 3 4 5 6 7 8 9]]\n"
     ]
    }
   ],
   "source": [
    "# 3. reshape (изменение формы):\n",
    "# Метод reshape используется для изменения формы массива.\n",
    "\n",
    "# numpy.reshape(a, newshape, order='C')\n",
    "\n",
    "# a: Входной массив.\n",
    "# newshape: Новая форма (количество строк и столбцов).\n",
    "# order: Порядок расположения элементов в массиве. По умолчанию 'C' (порядок C-стайл, сначала строки).\n",
    "\n",
    "arr = np.array([[1, 2, 3], [4, 5, 6], [7, 8, 9]])\n",
    "reshaped_arr = np.reshape(arr, (1, 9))\n",
    "print(\"Исходный массив:\")\n",
    "print(arr)\n",
    "print(\"\\nМассив после изменения формы:\")\n",
    "print(reshaped_arr)"
   ]
  },
  {
   "cell_type": "code",
   "execution_count": 103,
   "metadata": {},
   "outputs": [
    {
     "name": "stdout",
     "output_type": "stream",
     "text": [
      "Исходный массив:\n",
      "[[1 2 3]\n",
      " [4 5 6]]\n",
      "\n",
      "Транспонированный массив:\n",
      "[[1 4]\n",
      " [2 5]\n",
      " [3 6]]\n"
     ]
    }
   ],
   "source": [
    "# 4. transpose (транспонирование):\n",
    "# Метод transpose используется для транспонирования массива, позволяя указать порядок осей.\n",
    "\n",
    "# numpy.transpose(arr, axes=None)\n",
    "\n",
    "# arr: Входной массив.\n",
    "# axes: Последовательность осей. По умолчанию - None, что означает, что оси будут изменены местами.\n",
    "\n",
    "arr = np.array([[1, 2, 3], [4, 5, 6]])\n",
    "transposed_arr = np.transpose(arr, (1, 0))\n",
    "print(\"Исходный массив:\")\n",
    "print(arr)\n",
    "print(\"\\nТранспонированный массив:\")\n",
    "print(transposed_arr)"
   ]
  },
  {
   "cell_type": "code",
   "execution_count": 104,
   "metadata": {},
   "outputs": [
    {
     "name": "stdout",
     "output_type": "stream",
     "text": [
      "Исходный массив:\n",
      "[[1 2 3]\n",
      " [4 5 6]]\n",
      "\n",
      "Массив после обмена осями:\n",
      "[[1 4]\n",
      " [2 5]\n",
      " [3 6]]\n"
     ]
    }
   ],
   "source": [
    "# 5. swapaxes (обмен осями):\n",
    "# Метод swapaxes используется для обмена осями массива, меняя местами указанные оси.\n",
    "\n",
    "# numpy.swapaxes(arr, axis1, axis2)\n",
    "\n",
    "# arr: Входной массив.\n",
    "# axis1: Ось, которую нужно поменять местами с axis2.\n",
    "# axis2: Ось, которую нужно поменять местами с axis1.\n",
    "\n",
    "arr = np.array([[1, 2, 3], [4, 5, 6]])\n",
    "swapped_arr = np.swapaxes(arr, 0, 1)\n",
    "print(\"Исходный массив:\")\n",
    "print(arr)\n",
    "print(\"\\nМассив после обмена осями:\")\n",
    "print(swapped_arr)"
   ]
  },
  {
   "cell_type": "code",
   "execution_count": 105,
   "metadata": {},
   "outputs": [
    {
     "name": "stdout",
     "output_type": "stream",
     "text": [
      "Матрица A после транспонирования строк с первым элементом больше 3:\n",
      "[[ 1  2  3  4]\n",
      " [ 5  9 13 17]\n",
      " [ 6 10 14 18]\n",
      " [ 7 11 15 19]\n",
      " [ 8 12 16 20]]\n"
     ]
    }
   ],
   "source": [
    "# Транспонировать только те строки, у которых первый элемент больше 3.\n",
    "\n",
    "# Заданная матрица A\n",
    "A = np.array([[1, 2, 3, 4],\n",
    "              [5, 6, 7, 8],\n",
    "              [9, 10, 11, 12],\n",
    "              [13, 14, 15, 16],\n",
    "              [17, 18, 19, 20]])\n",
    "\n",
    "condition = A[:, 0] > 3\n",
    "\n",
    "A[condition] = np.transpose(A[condition])\n",
    "\n",
    "print(\"Матрица A после транспонирования строк с первым элементом больше 3:\")\n",
    "print(A)"
   ]
  },
  {
   "cell_type": "markdown",
   "metadata": {},
   "source": [
    "# 2.1 Унарные универсальные функции"
   ]
  },
  {
   "cell_type": "code",
   "execution_count": 106,
   "metadata": {},
   "outputs": [],
   "source": [
    "# Унарные универсальные функции в NumPy представляют собой функции, \n",
    "# которые выполняют операции над отдельными элементами массивов. \n",
    "# Они называются \"унарными\", потому что они оперируют только над одним операндом."
   ]
  },
  {
   "cell_type": "code",
   "execution_count": 107,
   "metadata": {},
   "outputs": [
    {
     "name": "stdout",
     "output_type": "stream",
     "text": [
      "[1 2 3 4]\n",
      "[1.5 2.5 3.5 4.5]\n"
     ]
    }
   ],
   "source": [
    "# abs и fabs: Вычисляет абсолютное значение элементов массива. \n",
    "# Для работы с числами с плавающей запятой в NumPy обычно используется функция numpy.fabs.\n",
    "\n",
    "\n",
    "# Пример с numpy.abs\n",
    "array1 = np.array([-1, -2, -3, -4])\n",
    "abs_values1 = np.abs(array1)\n",
    "print(abs_values1)\n",
    "\n",
    "# Пример с numpy.fabs\n",
    "array2 = np.array([-1.5, -2.5, -3.5, -4.5])\n",
    "abs_values2 = np.fabs(array2)\n",
    "print(abs_values2)"
   ]
  },
  {
   "cell_type": "code",
   "execution_count": 108,
   "metadata": {},
   "outputs": [
    {
     "name": "stdout",
     "output_type": "stream",
     "text": [
      "[2. 3. 4. 5.]\n",
      "[ 4  9 16]\n"
     ]
    }
   ],
   "source": [
    "# sqrt: Вычисляет квадратный корень из каждого элемента массива.\n",
    "\n",
    "array = np.array([4, 9, 16, 25])\n",
    "sqrt_values = np.sqrt(array)\n",
    "print(sqrt_values)\n",
    "\n",
    "# square:  Возводит каждый элемент массива в квадрат.\n",
    "\n",
    "arr_square = np.square(np.array([2, 3, 4]))\n",
    "print(arr_square)"
   ]
  },
  {
   "cell_type": "code",
   "execution_count": 109,
   "metadata": {},
   "outputs": [
    {
     "name": "stdout",
     "output_type": "stream",
     "text": [
      "[ 2.71828183  7.3890561  20.08553692]\n"
     ]
    }
   ],
   "source": [
    "# exp: Вычисляет экспоненту для каждого элемента массива (e^x).\n",
    "\n",
    "arr_exp = np.exp(np.array([1, 2, 3]))\n",
    "print(arr_exp)\n",
    "\n",
    "# log, log10, log2, log1p: Вычисляют натуральный логарифм (log_e), логарифм по основанию 10, логарифм по основанию 2, и log(1 + x), соответственно.\n",
    "# Синтаксис: numpy.log(x), numpy.log10(x), numpy.log2(x), numpy.log1p(x)"
   ]
  },
  {
   "cell_type": "code",
   "execution_count": 110,
   "metadata": {},
   "outputs": [
    {
     "name": "stdout",
     "output_type": "stream",
     "text": [
      "[-1  0  1]\n"
     ]
    }
   ],
   "source": [
    "# sign: Определяет знак каждого элемента: 1 (положительное), 0 (ноль), или –1 (отрицательное).\n",
    "\n",
    "arr_sign = np.sign(np.array([-5, 0, 5]))\n",
    "print(arr_sign)"
   ]
  },
  {
   "cell_type": "code",
   "execution_count": 111,
   "metadata": {},
   "outputs": [
    {
     "name": "stdout",
     "output_type": "stream",
     "text": [
      "[2. 3. 4.]\n",
      "[1. 3. 3.]\n"
     ]
    }
   ],
   "source": [
    "# ceil: Вычисляет наименьшее целое число, не меньшее каждого элемента массива (округление по верхней границе).\n",
    "\n",
    "arr_ceil = np.ceil(np.array([1.2, 2.7, 3.1]))\n",
    "print(arr_ceil)\n",
    "\n",
    "# floor: Вычисляет наибольшее целое число, не большее каждого элемента массива (округление по нижней границе).\n",
    "# Синтаксис: numpy.floor(x)\n",
    "\n",
    "\n",
    "# rint: Округляет элементы массива до ближайшего целого числа, сохраняя тип данных.\n",
    "arr_rint = np.rint(np.array([1.2, 2.7, 3.1]))\n",
    "print(arr_rint)"
   ]
  },
  {
   "cell_type": "code",
   "execution_count": 112,
   "metadata": {},
   "outputs": [
    {
     "name": "stdout",
     "output_type": "stream",
     "text": [
      "(array([0.2, 0.7, 0.1]), array([1., 2., 3.]))\n"
     ]
    }
   ],
   "source": [
    "# modf: Возвращает дробную и целую части каждого элемента массива в двух отдельных массивах.\n",
    "\n",
    "arr_modf = np.modf(np.array([1.2, 2.7, 3.1]))\n",
    "print(arr_modf)"
   ]
  },
  {
   "cell_type": "code",
   "execution_count": 113,
   "metadata": {},
   "outputs": [
    {
     "name": "stdout",
     "output_type": "stream",
     "text": [
      "[False  True False  True False]\n"
     ]
    }
   ],
   "source": [
    "# isin: Используется для проверки наличия элементов одного массива в другом. \n",
    "# Она возвращает булев массив той же формы, что и входные массивы, указывающий, \n",
    "# где элементы из первого массива присутствуют во втором массиве.\n",
    "arr1= np.array([1, 2, 3, 4, 5])\n",
    "arr2 = np.array([2, 4, 6])\n",
    "result = np.isin(arr1, arr2)\n",
    "print(result)"
   ]
  },
  {
   "cell_type": "code",
   "execution_count": 114,
   "metadata": {},
   "outputs": [
    {
     "name": "stdout",
     "output_type": "stream",
     "text": [
      "isNaN: [False  True False False False]\n"
     ]
    }
   ],
   "source": [
    "# isnan: Возвращает булев массив, показывающий, является ли каждый элемент NaN (Not a Number).\n",
    "arr = np.array([1.0, np.nan, np.inf, -np.inf, 5.0])\n",
    "nan_mask = np.isnan(arr)\n",
    "print(\"isNaN:\", nan_mask)"
   ]
  },
  {
   "cell_type": "code",
   "execution_count": 115,
   "metadata": {},
   "outputs": [
    {
     "name": "stdout",
     "output_type": "stream",
     "text": [
      "isfinite: [ True False False False  True]\n",
      "isinf: [False False  True  True False]\n"
     ]
    }
   ],
   "source": [
    "# isfinite, isinf: Возвращают булев массив, указывающий, является ли каждый элемент конечным числом или бесконечностью.\n",
    "# Проверка на конечность (не NaN и не бесконечность)\n",
    "arr = np.array([1.0, np.nan, np.inf, -np.inf, 5.0])\n",
    "finite_mask = np.isfinite(arr)\n",
    "print(\"isfinite:\", finite_mask)\n",
    "# Вывод: isfinite: [ True False False False True]  \n",
    "\n",
    "# Проверка на бесконечность\n",
    "arr = np.array([1.0, np.nan, np.inf, -np.inf, 5.0])\n",
    "inf_mask = np.isinf(arr)\n",
    "print(\"isinf:\", inf_mask)\n",
    "# Вывод: isinf: [False False True True False]"
   ]
  },
  {
   "cell_type": "code",
   "execution_count": 116,
   "metadata": {},
   "outputs": [
    {
     "name": "stdout",
     "output_type": "stream",
     "text": [
      "Дробная часть: [ 0.5 -0.7  0.2]\n",
      "Целая часть: [ 2. -3.  4.]\n"
     ]
    }
   ],
   "source": [
    "# Найдите дробную и целую часть массива.\n",
    "\n",
    "array = np.array([2.5, -3.7, 4.2])\n",
    "\n",
    "fractional_part, integer_part = np.modf(array)\n",
    "\n",
    "print(f'Дробная часть: {fractional_part}')\n",
    "print(f'Целая часть: {integer_part}')"
   ]
  },
  {
   "cell_type": "markdown",
   "metadata": {},
   "source": [
    "# 2.2 Бинарные функции."
   ]
  },
  {
   "cell_type": "code",
   "execution_count": 117,
   "metadata": {},
   "outputs": [],
   "source": [
    "# Бинарные функции (Binary Universal Functions (ufuncs)) представляют собой функции, которые выполняют операции над парами элементов входных массивов"
   ]
  },
  {
   "cell_type": "markdown",
   "metadata": {},
   "source": [
    "## Арифметические операции"
   ]
  },
  {
   "cell_type": "code",
   "execution_count": 118,
   "metadata": {},
   "outputs": [
    {
     "name": "stdout",
     "output_type": "stream",
     "text": [
      "Первый массив: [1 2 3]\n",
      "Второй массив: [4 5 6]\n",
      "Результат сложения: [5 7 9]\n"
     ]
    }
   ],
   "source": [
    "# add:\n",
    "\n",
    "# Описание: Выполняет поэлементное сложение двух массивов.\n",
    "# Синтаксис: result = np.add(array1, array2)\n",
    "# array1 и array2: Массивы для сложения. Они должны иметь одинаковую форму.\n",
    "\n",
    "array1 = np.array([1, 2, 3])\n",
    "array2 = np.array([4, 5, 6])\n",
    "result = np.add(array1, array2)\n",
    "print(\"Первый массив:\", array1)\n",
    "print(\"Второй массив:\", array2)\n",
    "print(\"Результат сложения:\", result)"
   ]
  },
  {
   "cell_type": "code",
   "execution_count": 119,
   "metadata": {},
   "outputs": [
    {
     "name": "stdout",
     "output_type": "stream",
     "text": [
      "Первый массив: [7 8 9]\n",
      "Второй массив: [4 5 6]\n",
      "Результат вычитания: [3 3 3]\n"
     ]
    }
   ],
   "source": [
    "# subtract:\n",
    "\n",
    "# Описание: Выполняет поэлементное вычитание второго массива из первого.\n",
    "# Синтаксис: result = np.subtract(array1, array2)\n",
    "# array1 и array2: Массивы для вычитания. Они должны иметь одинаковую форму.\n",
    "\n",
    "array1 = np.array([7, 8, 9])\n",
    "array2 = np.array([4, 5, 6])\n",
    "result = np.subtract(array1, array2)\n",
    "print(\"Первый массив:\", array1)\n",
    "print(\"Второй массив:\", array2)\n",
    "print(\"Результат вычитания:\", result)"
   ]
  },
  {
   "cell_type": "code",
   "execution_count": 120,
   "metadata": {},
   "outputs": [
    {
     "name": "stdout",
     "output_type": "stream",
     "text": [
      "Первый массив: [2 3 4]\n",
      "Второй массив: [5 6 7]\n",
      "Результат умножения: [10 18 28]\n"
     ]
    }
   ],
   "source": [
    "# multiply:\n",
    "\n",
    "# Описание: Выполняет поэлементное умножение двух массивов.\n",
    "# Синтаксис: result = np.multiply(array1, array2)\n",
    "# array1 и array2: Массивы для умножения. Они должны иметь одинаковую форму.\n",
    "\n",
    "array1 = np.array([2, 3, 4])\n",
    "array2 = np.array([5, 6, 7])\n",
    "result = np.multiply(array1, array2)\n",
    "print(\"Первый массив:\", array1)\n",
    "print(\"Второй массив:\", array2)\n",
    "print(\"Результат умножения:\", result)"
   ]
  },
  {
   "cell_type": "code",
   "execution_count": 121,
   "metadata": {},
   "outputs": [
    {
     "name": "stdout",
     "output_type": "stream",
     "text": [
      "Первый массив: [10 20 30]\n",
      "Второй массив: [2 3 5]\n",
      "Результат деления: [5.         6.66666667 6.        ]\n",
      "Результат целочисленного деления: [5 6 6]\n"
     ]
    }
   ],
   "source": [
    "# divide и floor_divide:\n",
    "\n",
    "# Описание: divide выполняет поэлементное деление первого массива на второй. \n",
    "# floor_divide также округляет результат вниз, возвращая только целую часть.\n",
    "# Синтаксис: result_divide = np.divide(array1, array2) \n",
    "# result_floor_divide = np.floor_divide(array1, array2)\n",
    "# array1 и array2: Массивы для деления. Они должны иметь одинаковую форму.\n",
    "\n",
    "array1 = np.array([10, 20, 30])\n",
    "array2 = np.array([2, 3, 5])\n",
    "\n",
    "# Используем функцию divide() для деления массивов\n",
    "result_divide = np.divide(array1, array2)\n",
    "\n",
    "# Используем функцию floor_divide() для целочисленного деления массивов\n",
    "result_floor_divide = np.floor_divide(array1, array2)\n",
    "\n",
    "print(\"Первый массив:\", array1)\n",
    "print(\"Второй массив:\", array2)\n",
    "print(\"Результат деления:\", result_divide)\n",
    "print(\"Результат целочисленного деления:\", result_floor_divide)"
   ]
  },
  {
   "cell_type": "code",
   "execution_count": 122,
   "metadata": {},
   "outputs": [
    {
     "name": "stdout",
     "output_type": "stream",
     "text": [
      "Исходный массив: [2 3 4]\n",
      "Результат возведения в степень: [ 8 27 64]\n",
      "\n",
      "Исходный массив: [2 3 4]\n",
      "Результат возведения в степень: [32  9  4]\n"
     ]
    }
   ],
   "source": [
    "# power:\n",
    "\n",
    "# Описание: Возводит элементы первого массива в степени, указанные во втором массиве.\n",
    "# Синтаксис: result = np.power(array1, array2)\n",
    "# array1 и array2: Массивы для возведения в степень. Они должны иметь одинаковую форму.\n",
    "\n",
    "array = np.array([2, 3, 4])\n",
    "result = np.power(array, 3)  \n",
    "print(\"Исходный массив:\", array)\n",
    "print(\"Результат возведения в степень:\", result)\n",
    "\n",
    "print()\n",
    "\n",
    "array = np.array([2, 3, 4])\n",
    "degrees = np.array([5, 2, 1])\n",
    "result = np.power(array, degrees)  \n",
    "print(\"Исходный массив:\", array)\n",
    "print(\"Результат возведения в степень:\", result)"
   ]
  },
  {
   "cell_type": "code",
   "execution_count": 123,
   "metadata": {},
   "outputs": [
    {
     "name": "stdout",
     "output_type": "stream",
     "text": [
      "Первый массив: [2 7 5]\n",
      "Второй массив: [ 8  3 10]\n",
      "Результат maximum(): [ 8  7 10]\n",
      "\n",
      "Первый массив: [2 7 5]\n",
      "Второй массив: [ 8  3 10]\n",
      "Результат maximum(): [ 8  7 10]\n"
     ]
    }
   ],
   "source": [
    "# maximum и fmax:\n",
    "\n",
    "# Описание: maximum возвращает поэлементный максимум двух массивов. \n",
    "# fmax также возвращает максимум, игнорируя значения NaN.\n",
    "\n",
    "# Синтаксис: result_maximum = np.maximum(array1, array2) result_fmax = np.fmax(array1, array2)\n",
    "# array1 и array2: Массивы для сравнения. Они должны иметь одинаковую форму.\n",
    "\n",
    "array1 = np.array([2, 7, 5])\n",
    "array2 = np.array([8, 3, 10])\n",
    "result_maximum = np.maximum(array1, array2)\n",
    "print(\"Первый массив:\", array1)\n",
    "print(\"Второй массив:\", array2)\n",
    "print(\"Результат maximum():\", result_maximum)\n",
    "\n",
    "print()\n",
    "\n",
    "result_fmax = np.fmax(array1, array2)\n",
    "print(\"Первый массив:\", array1)\n",
    "print(\"Второй массив:\", array2)\n",
    "print(\"Результат maximum():\", result_fmax)"
   ]
  },
  {
   "cell_type": "code",
   "execution_count": 124,
   "metadata": {},
   "outputs": [
    {
     "name": "stdout",
     "output_type": "stream",
     "text": [
      "Первый массив: [2 7 5]\n",
      "Второй массив: [ 8  3 10]\n",
      "Результат minimum(): [2 3 5]\n",
      "\n",
      "Первый массив: [2 7 5]\n",
      "Второй массив: [ 8  3 10]\n",
      "Результат maximum(): [2 3 5]\n"
     ]
    }
   ],
   "source": [
    "# minimum и fmin:\n",
    "\n",
    "# Описание: minimum возвращает поэлементный минимум двух массивов. \n",
    "# fmin также возвращает минимум, игнорируя значения NaN.\n",
    "\n",
    "# Синтаксис: result_minimum = np.minimum(array1, array2) result_fmin = np.fmin(array1, array2)\n",
    "# array1 и array2: Массивы для сравнения. Они должны иметь одинаковую форму.\n",
    "\n",
    "array1 = np.array([2, 7, 5])\n",
    "array2 = np.array([8, 3, 10])\n",
    "result_minimum = np.minimum(array1, array2)\n",
    "print(\"Первый массив:\", array1)\n",
    "print(\"Второй массив:\", array2)\n",
    "print(\"Результат minimum():\", result_minimum)\n",
    "\n",
    "print()\n",
    "\n",
    "result_fmin = np.fmin(array1, array2)\n",
    "print(\"Первый массив:\", array1)\n",
    "print(\"Второй массив:\", array2)\n",
    "print(\"Результат maximum():\", result_fmin)"
   ]
  },
  {
   "cell_type": "code",
   "execution_count": 125,
   "metadata": {},
   "outputs": [
    {
     "name": "stdout",
     "output_type": "stream",
     "text": [
      "Первый массив: [10 21 34]\n",
      "Второй массив: [3 7 8]\n",
      "Результат mod(): [1 0 2]\n"
     ]
    }
   ],
   "source": [
    "# mod:\n",
    "\n",
    "# Описание: Вычисляет остаток от деления элементов первого массива на соответствующие элементы второго массива (либо заданнаго числа). \n",
    "# Синтаксис: result = np.mod(array1, array2)\n",
    "# array1 и array2: Массивы для выполнения операции взятия остатка. Они должны иметь одинаковую форму.\n",
    "\n",
    "array1 = np.array([10, 21, 34])\n",
    "array2 = np.array([3, 7, 8])\n",
    "result = np.mod(array1, array2)\n",
    "print(\"Первый массив:\", array1)\n",
    "print(\"Второй массив:\", array2)\n",
    "print(\"Результат mod():\", result)"
   ]
  },
  {
   "cell_type": "code",
   "execution_count": 126,
   "metadata": {},
   "outputs": [
    {
     "name": "stdout",
     "output_type": "stream",
     "text": [
      "Первый массив: [-1.5  2.7 -3.1]\n",
      "Второй массив: [ 1. -1.  1.]\n",
      "Результат copysign(): [ 1.5 -2.7  3.1]\n"
     ]
    }
   ],
   "source": [
    "# copysign:\n",
    "\n",
    "# Описание: Копирует знак значения из второго массива в значения первого массива.\n",
    "# Синтаксис: result = np.copysign(array1, array2) \n",
    "# array1 и array2: Массивы, знаки которых нужно скопировать. Они должны иметь одинаковую форму.\n",
    "\n",
    "array1 = np.array([-1.5, 2.7, -3.1])\n",
    "array2 = np.array([1.0, -1.0, 1.0])\n",
    "result = np.copysign(array1, array2)\n",
    "print(\"Первый массив:\", array1)\n",
    "print(\"Второй массив:\", array2)\n",
    "print(\"Результат copysign():\", result)"
   ]
  },
  {
   "cell_type": "markdown",
   "metadata": {},
   "source": [
    "## Поэлементное сравнение:"
   ]
  },
  {
   "cell_type": "code",
   "execution_count": 127,
   "metadata": {},
   "outputs": [
    {
     "name": "stdout",
     "output_type": "stream",
     "text": [
      "Первый массив: [1 2 3]\n",
      "Второй массив: [2 2 2]\n",
      "Результат Greater: [False False  True]\n",
      "\n",
      "Первый массив: [1 2 3]\n",
      "Второй массив: [2 2 2]\n",
      "Результат Greater Equal: [False  True  True]\n"
     ]
    }
   ],
   "source": [
    "# Greater (np.greater)\n",
    "\n",
    "# Описание: Сравнивает каждый элемент двух массивов поэлементно и возвращает булев массив той же формы, где каждый элемент равен True, \n",
    "# если соответствующий элемент в x больше соответствующего элемента в y, и False в противном случае.\n",
    "# Синтаксис: np.greater(x, y)\n",
    "# x и y - массивы для сравнения.\n",
    "\n",
    "x = np.array([1, 2, 3])\n",
    "y = np.array([2, 2, 2])\n",
    "result = np.greater(x, y)\n",
    "print(\"Первый массив:\", x)\n",
    "print(\"Второй массив:\", y)\n",
    "print(\"Результат Greater:\", result)\n",
    "\n",
    "print()\n",
    "\n",
    "# Greater Equal (np.greater_equal)\n",
    "\n",
    "# Описание: Сравнивает каждый элемент двух массивов поэлементно и возвращает булев массив, где каждый элемент равен True, \n",
    "# если соответствующий элемент в x больше или равен соответствующему элементу в y, и False в противном случае.\n",
    "# Синтаксис: np.greater_equal(x, y)\n",
    "# x и y - массивы для сравнения.\n",
    "\n",
    "x = np.array([1, 2, 3])\n",
    "y = np.array([2, 2, 2])\n",
    "result = np.greater_equal(x, y)\n",
    "print(\"Первый массив:\", x)\n",
    "print(\"Второй массив:\", y)\n",
    "print(\"Результат Greater Equal:\", result)"
   ]
  },
  {
   "cell_type": "code",
   "execution_count": 128,
   "metadata": {},
   "outputs": [
    {
     "name": "stdout",
     "output_type": "stream",
     "text": [
      "Первый массив: [1 2 3]\n",
      "Второй массив: [2 2 2]\n",
      "Результат Less: [ True False False]\n",
      "\n",
      "Первый массив: [1 2 3]\n",
      "Второй массив: [2 2 2]\n",
      "Результат Less Equal: [ True  True False]\n"
     ]
    }
   ],
   "source": [
    "# Less (np.less)\n",
    "\n",
    "# Описание: Сравнивает каждый элемент двух массивов поэлементно и возвращает булев массив, где каждый элемент равен True, \n",
    "# если соответствующий элемент в x меньше соответствующего элемента в y, и False в противном случае.\n",
    "# Синтаксис: np.less(x, y)\n",
    "\n",
    "x = np.array([1, 2, 3])\n",
    "y = np.array([2, 2, 2])\n",
    "result = np.less(x, y)\n",
    "print(\"Первый массив:\", x)\n",
    "print(\"Второй массив:\", y)\n",
    "print(\"Результат Less:\", result)\n",
    "\n",
    "print()\n",
    "\n",
    "# Less Equal (np.less_equal)\n",
    "\n",
    "# Описание: Сравнивает каждый элемент двух массивов поэлементно и возвращает булев массив, где каждый элемент равен True, \n",
    "# если соответствующий элемент в x меньше или равен соответствующему элементу в y, и False в противном случае.\n",
    "# Синтаксис: np.less_equal(x, y)\n",
    "\n",
    "x = np.array([1, 2, 3])\n",
    "y = np.array([2, 2, 2])\n",
    "result = np.less_equal(x, y)\n",
    "print(\"Первый массив:\", x)\n",
    "print(\"Второй массив:\", y)\n",
    "print(\"Результат Less Equal:\", result)"
   ]
  },
  {
   "cell_type": "code",
   "execution_count": 129,
   "metadata": {},
   "outputs": [
    {
     "name": "stdout",
     "output_type": "stream",
     "text": [
      "Первый массив: [1 2 3]\n",
      "Второй массив: [2 2 2]\n",
      "Результат Equal: [False  True False]\n",
      "\n",
      "Первый массив: [1 2 3]\n",
      "Второй массив: [2 2 2]\n",
      "Результат Not Equal: [ True False  True]\n"
     ]
    }
   ],
   "source": [
    "# Equal (np.equal)\n",
    "\n",
    "# Описание: Сравнивает каждый элемент двух массивов поэлементно и возвращает булев массив, где каждый элемент равен True, \n",
    "# если соответствующий элемент в x равен соответствующему элементу в y, и False в противном случае.\n",
    "# Синтаксис: np.equal(x, y)\n",
    "\n",
    "x = np.array([1, 2, 3])\n",
    "y = np.array([2, 2, 2])\n",
    "result = np.equal(x, y)\n",
    "print(\"Первый массив:\", x)\n",
    "print(\"Второй массив:\", y)\n",
    "print(\"Результат Equal:\", result)\n",
    "\n",
    "print()\n",
    "\n",
    "# Not Equal (np.not_equal)\n",
    "\n",
    "# Описание: Сравнивает каждый элемент двух массивов поэлементно и возвращает булев массив, где каждый элемент равен True, \n",
    "# если соответствующий элемент в x не равен соответствующему элементу в y, и False в противном случае.\n",
    "# Синтаксис: np.not_equal(x, y)\n",
    "\n",
    "x = np.array([1, 2, 3])\n",
    "y = np.array([2, 2, 2])\n",
    "result = np.not_equal(x, y)\n",
    "print(\"Первый массив:\", x)\n",
    "print(\"Второй массив:\", y)\n",
    "print(\"Результат Not Equal:\", result)"
   ]
  },
  {
   "cell_type": "markdown",
   "metadata": {},
   "source": [
    "## Логические операции:"
   ]
  },
  {
   "cell_type": "code",
   "execution_count": 130,
   "metadata": {},
   "outputs": [
    {
     "name": "stdout",
     "output_type": "stream",
     "text": [
      "Первый массив: [ True  True False]\n",
      "Второй массив: [ True False False]\n",
      "Результат Logical AND: [ True False False]\n",
      "\n",
      "Первый массив: [ True  True False]\n",
      "Второй массив: [ True False False]\n",
      "Результат Logical OR: [ True  True False]\n"
     ]
    }
   ],
   "source": [
    "# Logical AND (np.logical_and)\n",
    "\n",
    "# Описание: Выполняет поэлементную логическую операцию И между элементами двух массивов и возвращает булев массив, где каждый элемент равен True, \n",
    "# если оба соответствующих элемента входных массивов равны True, и False в противном случае.\n",
    "# Синтаксис: np.logical_and(x, y)\n",
    "\n",
    "x = np.array([True, True, False])\n",
    "y = np.array([True, False, False])\n",
    "result = np.logical_and(x, y)\n",
    "print(\"Первый массив:\", x)\n",
    "print(\"Второй массив:\", y)\n",
    "print(\"Результат Logical AND:\", result)\n",
    "\n",
    "print()\n",
    "\n",
    "# Logical OR (np.logical_or)\n",
    "\n",
    "# Описание: Выполняет поэлементную логическую операцию ИЛИ между элементами двух массивов и возвращает булев массив, где каждый элемент равен True, \n",
    "# если хотя бы один из соответствующих элементов входных массивов равен True, и False в противном случае.\n",
    "# Синтаксис: np.logical_or(x, y)\n",
    "\n",
    "x = np.array([True, True, False])\n",
    "y = np.array([True, False, False])\n",
    "result = np.logical_or(x, y)\n",
    "print(\"Первый массив:\", x)\n",
    "print(\"Второй массив:\", y)\n",
    "print(\"Результат Logical OR:\", result)"
   ]
  },
  {
   "cell_type": "code",
   "execution_count": 131,
   "metadata": {},
   "outputs": [
    {
     "name": "stdout",
     "output_type": "stream",
     "text": [
      "Первый массив: [ True  True False]\n",
      "Второй массив: [ True False False]\n",
      "Результат Logical XOR: [False  True False]\n",
      "\n",
      "Первый массив: [ True False  True]\n",
      "Второй массив: [ True False False]\n",
      "Результат Logical_not: [False  True False]\n"
     ]
    }
   ],
   "source": [
    "# Logical XOR (np.logical_xor)\n",
    "\n",
    "# Описание: Выполняет поэлементную логическую операцию \"исключающее ИЛИ\" между элементами двух массивов и возвращает булев массив, \n",
    "# где каждый элемент равен True, если ровно один из соответствующих элементов входных массивов равен True, и False в противном случае.\n",
    "# Синтаксис: np.logical_xor(x, y)\n",
    "\n",
    "x = np.array([True, True, False])\n",
    "y = np.array([True, False, False])\n",
    "result = np.logical_xor(x, y)\n",
    "print(\"Первый массив:\", x)\n",
    "print(\"Второй массив:\", y)\n",
    "print(\"Результат Logical XOR:\", result)\n",
    "\n",
    "print()\n",
    "\n",
    "# Logical_not (np.logical_not)\n",
    "\n",
    "# Описание: np.logical_not выполняет поэлементную логическую операцию НЕ (logical NOT) для массивов и возвращает булев массив, \n",
    "# где каждый элемент равен True, если соответствующий элемент входного массива равен False, и наоборот.\n",
    "# Синтаксис: np.logical_not(x)\n",
    "\n",
    "x = np.array([True, False, True])\n",
    "result = np.logical_not(x)\n",
    "print(\"Первый массив:\", x)\n",
    "print(\"Второй массив:\", y)\n",
    "print(\"Результат Logical_not:\", result)"
   ]
  },
  {
   "cell_type": "code",
   "execution_count": 132,
   "metadata": {},
   "outputs": [
    {
     "name": "stdout",
     "output_type": "stream",
     "text": [
      "[15 42 10 29]\n"
     ]
    }
   ],
   "source": [
    "# У вас есть массив чисел secret_codes, представляющих собой последовательность некоторых секретных кодов. \n",
    "# К сожалению, не все коды были переданы вам, а только часть provided_codes. Вам нужно определить, какие коды вам не предоставили.\n",
    "\n",
    "secret_codes = np.array([15, 23, 7, 42, 18, 10, 7, 29])\n",
    "provided_codes = np.array([23, 7, 18, 7])\n",
    "\n",
    "res = secret_codes[~np.in1d(secret_codes, provided_codes)]\n",
    "res = secret_codes[~np.isin(secret_codes, provided_codes)]\n",
    "print(res)"
   ]
  },
  {
   "cell_type": "code",
   "execution_count": 133,
   "metadata": {},
   "outputs": [
    {
     "name": "stdout",
     "output_type": "stream",
     "text": [
      "Четные числа: [2 5 2 2 5 2 5]\n"
     ]
    }
   ],
   "source": [
    "numbers = np.array([2, 5, 8, 12, 15, 20, 23])\n",
    "\n",
    "even_numbers = numbers[numbers % 2 * True]\n",
    "\n",
    "print(f'Четные числа: {even_numbers}')"
   ]
  },
  {
   "cell_type": "code",
   "execution_count": 134,
   "metadata": {},
   "outputs": [
    {
     "data": {
      "text/plain": [
       "array([0, 1, 0, 0, 1, 0, 1], dtype=int32)"
      ]
     },
     "execution_count": 134,
     "metadata": {},
     "output_type": "execute_result"
    }
   ],
   "source": [
    "(numbers % 2 *True)"
   ]
  },
  {
   "cell_type": "markdown",
   "metadata": {},
   "source": [
    "# 3.1 Запись логических условий в виде операций с массивами"
   ]
  },
  {
   "cell_type": "code",
   "execution_count": 135,
   "metadata": {},
   "outputs": [],
   "source": [
    "# np.where — это функция библиотеки NumPy в Python, \n",
    "# предназначенная для выполнения условного элементарного поэлементного выбора значений из двух массивов \n",
    "# в зависимости от заданного условия. \n",
    "# Она имеет несколько форм синтаксиса, основные из которых выглядят следующим образом:\n",
    "\n",
    "# numpy.where(condition[x, y])\n",
    "\n",
    "# condition: Логическое выражение или массив булевых значений. Если condition равно True, то соответствующее значение из x выбирается, в противном случае - из y.\n",
    "# x: Значение или массив, используемый при условии True.\n",
    "# y: Значение или массив, используемый при условии False."
   ]
  },
  {
   "cell_type": "code",
   "execution_count": 136,
   "metadata": {},
   "outputs": [
    {
     "name": "stdout",
     "output_type": "stream",
     "text": [
      "['трое и меньше' 'трое и меньше' 'трое и меньше' 'больше трех'\n",
      " 'больше трех']\n",
      "\n",
      "['нечетное' 'четное' 'нечетное' 'четное' 'нечетное']\n",
      "\n",
      "(array([2, 3, 4], dtype=int64),)\n"
     ]
    }
   ],
   "source": [
    "# Простой выбор между двумя значениями:\n",
    "\n",
    "x = np.array([1, 2, 3, 4, 5])\n",
    "y = np.where(x > 3, 'больше трех', 'трое и меньше')\n",
    "print(y)\n",
    "\n",
    "print()\n",
    "\n",
    "# Замена значений в массиве:\n",
    "\n",
    "import numpy as np\n",
    "x = np.array([1, 2, 3, 4, 5])\n",
    "y = np.where(x % 2 == 0, 'четное', 'нечетное')\n",
    "print(y)\n",
    "\n",
    "print()\n",
    "\n",
    "# Использование без явного указания y:\n",
    "\n",
    "import numpy as np\n",
    "x = np.array([1, 2, 3, 4, 5])\n",
    "y = np.where(x > 2)\n",
    "print(y)"
   ]
  },
  {
   "cell_type": "code",
   "execution_count": 137,
   "metadata": {},
   "outputs": [
    {
     "name": "stdout",
     "output_type": "stream",
     "text": [
      "[4 5 3]\n"
     ]
    }
   ],
   "source": [
    "# Пример использования\n",
    "\n",
    "x = np.array([1, 2, 3])\n",
    "y = np.array([4, 5, 6])\n",
    "z = np.where(x > 2, x, y)\n",
    "\n",
    "print(z)"
   ]
  },
  {
   "cell_type": "code",
   "execution_count": 138,
   "metadata": {},
   "outputs": [
    {
     "name": "stdout",
     "output_type": "stream",
     "text": [
      "Исходный массив:\n",
      "[-1  2 -3  4 -5]\n",
      "Модифицированный массив:\n",
      "[0 2 0 4 0]\n"
     ]
    }
   ],
   "source": [
    "# Замените все отрицательные значения в массиве arr на 0.\n",
    "\n",
    "arr = np.array([-1, 2, -3, 4, -5])\n",
    "\n",
    "modified_arr = np.where(arr < 0, 0, arr)\n",
    "\n",
    "print(\"Исходный массив:\")\n",
    "print(arr)\n",
    "print(\"Модифицированный массив:\")\n",
    "print(modified_arr)"
   ]
  },
  {
   "cell_type": "code",
   "execution_count": 139,
   "metadata": {},
   "outputs": [
    {
     "name": "stdout",
     "output_type": "stream",
     "text": [
      "Массив arr:\n",
      "[3 8 1 6 0 7]\n",
      "Итоговый массив:\n",
      "['B' 'A' 'B' 'A' 'C' 'A']\n"
     ]
    }
   ],
   "source": [
    "# Создайте новый массив,  который содержит 'A' для элементов больше 5, 'B' для элементов от 1 до 5 включительно и 'C' в противном случае.\n",
    "\n",
    "arr = np.array([3, 8, 1, 6, 0, 7])\n",
    "\n",
    "result_arr = np.where(arr > 5, 'A', np.where(arr < 1, 'C', 'B'))\n",
    "\n",
    "print(\"Массив arr:\")\n",
    "print(arr)\n",
    "print(\"Итоговый массив:\")\n",
    "print(result_arr)"
   ]
  },
  {
   "cell_type": "code",
   "execution_count": 140,
   "metadata": {},
   "outputs": [
    {
     "name": "stdout",
     "output_type": "stream",
     "text": [
      "Массив arr:\n",
      "[ 2  6  9 12 15]\n",
      "Модифицированный массив:\n",
      "[ 2 -1  9 -1 15]\n"
     ]
    }
   ],
   "source": [
    "# Замените все значения, которые делятся и на 2, и на 3, на значение  -1.\n",
    "\n",
    "arr = np.array([2, 6, 9, 12, 15])\n",
    "\n",
    "modified_arr = np.where((arr % 3 == 0) & (arr % 2 == 0), -1, arr)\n",
    "\n",
    "print(\"Массив arr:\")\n",
    "print(arr)\n",
    "print(\"Модифицированный массив:\")\n",
    "print(modified_arr)"
   ]
  },
  {
   "cell_type": "code",
   "execution_count": 141,
   "metadata": {},
   "outputs": [
    {
     "name": "stdout",
     "output_type": "stream",
     "text": [
      "Массив arr:\n",
      "[-2  3  5 -4  6  1]\n",
      "Выбранные значения:\n",
      "[-2  0  5 -4  0  0]\n"
     ]
    }
   ],
   "source": [
    "# Выберите значения, которые нечетные и больше 3 или четные и меньше 0. Остальные значения замените на ноль.\n",
    "\n",
    "arr = np.array([-2, 3, 5, -4, 6, 1])\n",
    "\n",
    "selected_values = np.where(((arr > 3) & (arr % 2 != 0)) | ((arr < 0) & (arr % 2 == 0)), arr, 0)\n",
    "\n",
    "print(\"Массив arr:\")\n",
    "print(arr)\n",
    "print(\"Выбранные значения:\")\n",
    "print(selected_values)"
   ]
  },
  {
   "cell_type": "markdown",
   "metadata": {},
   "source": [
    "# 3.2 Математические и статистические операции с массивами"
   ]
  },
  {
   "cell_type": "code",
   "execution_count": 142,
   "metadata": {},
   "outputs": [],
   "source": [
    "# Математические и статистические операции с массивами в библиотеке NumPy включают в себя различные функции, \n",
    "# позволяющие проводить вычисления с элементами массивов. \n",
    "# Эти операции обеспечивают мощные инструменты для анализа данных, научных вычислений и многих других приложений"
   ]
  },
  {
   "cell_type": "code",
   "execution_count": 143,
   "metadata": {},
   "outputs": [],
   "source": [
    "# sum:\n",
    "\n",
    "# Описание: Вычисляет сумму элементов массива.\n",
    "# Синтаксис: numpy.sum(a, axis=None, dtype=None, keepdims=<no value>, initial=<no value>, where=<no value>)\n",
    "# a: Входной массив.\n",
    "# axis: Опциональный параметр, указывающий ось или оси, по которым производится суммирование. По умолчанию суммирует все элементы массива.\n",
    "# dtype: Опциональный параметр, указывающий желаемый тип данных результата.\n",
    "# keepdims: Опциональный параметр, указывающий, следует ли сохранять размерности в выводе. Если True, то размерности сохраняются.\n",
    "# initial: Опциональный параметр, указывающий начальное значение для суммирования.\n",
    "# where: Опциональный параметр, который определяет условие, при котором элементы участвуют в операции.\n",
    "\n",
    "# mean:\n",
    "\n",
    "# Описание: Вычисляет среднее значение элементов массива.\n",
    "# Синтаксис: numpy.mean(a, axis=None, dtype=None, keepdims=<no value>, where=<no value>)\n",
    "# Параметры аналогичны sum.\n",
    "\n",
    "# median()\n",
    "\n",
    "# Описание: Метод numpy.median() используется для вычисления медианы значений в массиве. \n",
    "# Медиана - это значение, которое делит упорядоченный массив пополам, то есть половина значений меньше медианы, а другая половина больше.\n",
    "# Синтаксис:numpy.median(a, axis=None, out=None, overwrite_input=False, keepdims=False)\n",
    "# a: Входной массив, для которого вы хотите вычислить медиану.\n",
    "# axis: Опциональный параметр, указывающий ось или оси, вдоль которых необходимо вычислить медиану. По умолчанию (axis=None), \n",
    "# медиана вычисляется по всем элементам массива.\n",
    "# out: Опциональный параметр. Если указан, результат будет записан в этот массив. В противном случае будет создан новый массив.\n",
    "# overwrite_input: Опциональный параметр. Если True, разрешено использовать данные входного массива a для хранения результата. \n",
    "# Если False, результат будет храниться в новом массиве. По умолчанию (overwrite_input=False), не изменяет входной массив.\n",
    "# keepdims: Опциональный параметр. Если True, размеры осей, вдоль которых вычисляется медиана, будут сохранены в выводе. \n",
    "# Если False, размерности этих осей будут удалены из вывода. По умолчанию (keepdims=False), размерности уменьшаются.\n"
   ]
  },
  {
   "cell_type": "code",
   "execution_count": 144,
   "metadata": {},
   "outputs": [],
   "source": [
    "# std (Standard Deviation):\n",
    "\n",
    "# Описание: Вычисляет стандартное отклонение элементов массива.\n",
    "# Синтаксис: numpy.std(a, axis=None, dtype=None, ddof=0, keepdims=<no value>, where=<no value>)\n",
    "# a: Входной массив.\n",
    "# axis: Опциональный параметр, указывающий ось или оси, по которым производится вычисление стандартного отклонения. По умолчанию вычисляется по всем элементам массива.\n",
    "# dtype: Опциональный параметр, указывающий желаемый тип данных результата.\n",
    "# ddof: Опциональный параметр, степень свободы для коррекции. По умолчанию 0.\n",
    "# keepdims: Опциональный параметр, указывающий, следует ли сохранять размерности в выводе.\n",
    "# where: Опциональный параметр, который определяет условие, при котором элементы участвуют в операции.\n",
    "\n",
    "# var (Variance):\n",
    "\n",
    "# Описание: Вычисляет дисперсию элементов массива.\n",
    "# Синтаксис: numpy.var(a, axis=None, dtype=None, ddof=0, keepdims=<no value>, where=<no value>)\n",
    "# Параметры аналогичны std."
   ]
  },
  {
   "cell_type": "code",
   "execution_count": 145,
   "metadata": {},
   "outputs": [],
   "source": [
    "# min:\n",
    "\n",
    "# Описание: Возвращает минимальное значение в массиве.\n",
    "# Синтаксис: numpy.min(a, axis=None, out=None, keepdims=<no value>, initial=<no value>, where=<no value>)\n",
    "# a: Входной массив.\n",
    "# axis: Опциональный параметр, указывающий ось или оси, по которым производится поиск минимального значения. По умолчанию по всем элементам массива.\n",
    "# out: Опциональный параметр, массив, в который будет сохранен результат. Если не указан, создается новый массив.\n",
    "# keepdims: Опциональный параметр, указывающий, следует ли сохранять размерности в выводе.\n",
    "# initial: Опциональный параметр, указывающий начальное значение для поиска минимального значения.\n",
    "# where: Опциональный параметр, который определяет условие, при котором элементы участвуют в операции.\n",
    "\n",
    "# max:\n",
    "\n",
    "# Описание: Возвращает максимальное значение в массиве.\n",
    "# Синтаксис: numpy.max(a, axis=None, out=None, keepdims=<no value>, initial=<no value>, where=<no value>)\n",
    "# Параметры аналогичны min."
   ]
  },
  {
   "cell_type": "code",
   "execution_count": 146,
   "metadata": {},
   "outputs": [],
   "source": [
    "# argmin:\n",
    "\n",
    "# Описание: Возвращает индекс минимального значения в массиве.\n",
    "# Синтаксис: numpy.argmin(a, axis=None, out=None, keepdims=<no value>, initial=<no value>, where=<no value>)\n",
    "# Параметры аналогичны min.\n",
    "\n",
    "# argmax:\n",
    "\n",
    "# Описание: Возвращает индекс максимального значения в массиве.\n",
    "# Синтаксис: numpy.argmax(a, axis=None, out=None, keepdims=<no value>, initial=<no value>, where=<no value>)\n",
    "# Параметры аналогичны min."
   ]
  },
  {
   "cell_type": "code",
   "execution_count": 147,
   "metadata": {},
   "outputs": [],
   "source": [
    "# cumsum:\n",
    "\n",
    "# Описание: Возвращает кумулятивные суммы элементов массива.\n",
    "\n",
    "# Для массива [a, b, c, d, ...], кумулятивная сумма будет [a, a+b, a+b+c, a+b+c+d, ...].\n",
    "# Таким образом, каждый элемент кумулятивной суммы представляет собой сумму всех предыдущих элементов и самого элемента на данной позиции.\n",
    "\n",
    "# Синтаксис: numpy.cumsum(a, axis=None, dtype=None, out=None)\n",
    "# a: Входной массив, элементы которого будут складываться по указанной оси.\n",
    "# axis: Опциональный параметр, указывающий ось или оси, по которым производится кумулятивная сумма. По умолчанию операция выполняется над плоским массивом.\n",
    "# dtype: Опциональный параметр, указывающий желаемый тип данных результата.\n",
    "# out: Опциональный параметр, массив, в который будет сохранен результат. Если не указан, создается новый массив.\n",
    "\n",
    "# cumprod:\n",
    "\n",
    "# Описание: Возвращает кумулятивные произведения элементов массива.\n",
    "\n",
    "# Для массива [a, b, c, d, ...], кумулятивное произведение будет [a, a*b, a*b*c, a*b*c*d, ...].\n",
    "# Таким образом, каждый элемент кумулятивного произведения представляет собой произведение всех предыдущих элементов и самого элемента на данной позиции.\n",
    "\n",
    "# Синтаксис: numpy.cumprod(a, axis=None, dtype=None, out=None)\n",
    "# a: Входной массив, элементы которого будут перемножаться по указанной оси.\n",
    "# axis: Опциональный параметр, указывающий ось или оси, по которым производится кумулятивное произведение. По умолчанию операция выполняется над плоским массивом.\n",
    "# dtype: Опциональный параметр, указывающий желаемый тип данных результата.\n",
    "# out: Опциональный параметр, массив, в который будет сохранен результат. Если не указан, создается новый массив."
   ]
  },
  {
   "cell_type": "code",
   "execution_count": 148,
   "metadata": {},
   "outputs": [
    {
     "name": "stdout",
     "output_type": "stream",
     "text": [
      "Массив данных: [ 3  8  2 10  5  7  1]\n",
      "Разница между максимальным и минимальным значениями: 9\n"
     ]
    }
   ],
   "source": [
    "# np.ptp (Peak-to-Peak):\n",
    "\n",
    "# Описание: ptp возвращает размах (peak-to-peak) значений в массиве, то есть разницу между максимальным и минимальным значениями.\n",
    "\n",
    "# Синтаксис: numpy.ptp(a, axis=None, out=None)\n",
    "# a: Входной массив.\n",
    "# axis: Опциональный параметр, указывающий ось или оси, по которым вычисляется размах. По умолчанию вычисляется размах по всем элементам массива.\n",
    "# out: Опциональный параметр, массив, в который будет сохранен результат. Если не указан, создается новый массив.\n",
    "\n",
    "data = np.array([3, 8, 2, 10, 5, 7, 1])\n",
    "range_of_data = np.ptp(data)\n",
    "print(f\"Массив данных: {data}\")\n",
    "print(f\"Разница между максимальным и минимальным значениями: {range_of_data}\")"
   ]
  },
  {
   "cell_type": "code",
   "execution_count": 149,
   "metadata": {},
   "outputs": [
    {
     "name": "stdout",
     "output_type": "stream",
     "text": [
      "Исходный массив: [1 4 7 2 9]\n",
      "Разности между соседними элементами: [ 3  3 -5  7]\n"
     ]
    }
   ],
   "source": [
    "# np.diff:\n",
    "\n",
    "# Описание: diff вычисляет разности между соседними элементами массива. \n",
    "# Этот метод особенно полезен при анализе изменений во временных рядах данных.\n",
    "\n",
    "# Синтаксис: numpy.diff(a, n=1, axis=-1, prepend=<no value>, append=<no value>)\n",
    "# a: Входной массив.\n",
    "# n: Опциональный параметр, количество разностей. По умолчанию 1.\n",
    "# axis: Опциональный параметр, указывающий ось или оси, по которым производится операция. По умолчанию -1 (последняя ось).\n",
    "# prepend: Опциональный параметр, добавляет значения перед массивом.\n",
    "# append: Опциональный параметр, добавляет значения после массива.\n",
    "\n",
    "arr = np.array([1, 4, 7, 2, 9])\n",
    "diff_arr = np.diff(arr)\n",
    "print(\"Исходный массив:\", arr)\n",
    "print(\"Разности между соседними элементами:\", diff_arr)"
   ]
  },
  {
   "cell_type": "code",
   "execution_count": 150,
   "metadata": {},
   "outputs": [
    {
     "name": "stdout",
     "output_type": "stream",
     "text": [
      "Массив данных: [1 2 2 3 4 4 4]\n",
      "Количество вхождений каждого значения: [0 1 2 1 3]\n"
     ]
    }
   ],
   "source": [
    "# np.bincount(arr) - это метод библиотеки NumPy, предназначенный для подсчета частоты встречаемости каждого неотрицательного целого числа в массиве. \n",
    "# Массив может содержать только неотрицательные целые числа. \n",
    "\n",
    "# arr: Одномерный массив неотрицательных целых чисел. Обязательный параметр.\n",
    "\n",
    "data = np.array([1, 2, 2, 3, 4, 4, 4])\n",
    "bin_counts = np.bincount(data)\n",
    "print(f\"Массив данных: {data}\")\n",
    "print(f\"Количество вхождений каждого значения: {bin_counts}\")"
   ]
  },
  {
   "cell_type": "code",
   "execution_count": 151,
   "metadata": {},
   "outputs": [
    {
     "name": "stdout",
     "output_type": "stream",
     "text": [
      "Изменения цен за день: [ 5  5 -8 -4 17  5]\n",
      "Лучший день: суббота\n",
      "Худший день: четверг\n"
     ]
    }
   ],
   "source": [
    "# Представим, что у вас есть данные о ежедневных изменениях стоимости акций компании. \n",
    "# Найдите изменение цен за каждый день, а также дни с минимальным и максимальным изменением. \n",
    "\n",
    "stock_prices = np.array([50, 55, 60, 52, 48, 65, 70])\n",
    "days = np.array(['понедельник', 'вторник', 'среда', 'четверг', 'пятница', 'суббота', 'воскресенье'])\n",
    "\n",
    "daily_returns = np.diff(stock_prices)\n",
    "best_day = days[np.argmax(daily_returns) + 1]\n",
    "worst_day = days[np.argmin(daily_returns) + 1]\n",
    "\n",
    "print(f\"Изменения цен за день: {daily_returns}\")\n",
    "print(f\"Лучший день: {best_day}\")\n",
    "print(f\"Худший день: {worst_day}\")"
   ]
  },
  {
   "cell_type": "code",
   "execution_count": 152,
   "metadata": {},
   "outputs": [
    {
     "name": "stdout",
     "output_type": "stream",
     "text": [
      "Размах температур: 30\n",
      "Индекс самого холодного дня: 10\n",
      "Индекс самого теплого дня: 6\n"
     ]
    }
   ],
   "source": [
    "# Представим, что у вас есть данные о температуре воздуха в течение года. \n",
    "# Найди размах температур, а также индексы минимальной и максимальной температуры.\n",
    "\n",
    "temperature_data = np.array([20, 22, 25, 18, 30, 28, 35, 22, 15, 10, 5, 12])\n",
    "\n",
    "temperature_range = np.ptp(temperature_data)\n",
    "coldest_day = np.argmin(temperature_data)\n",
    "hottest_day =  np.argmax(temperature_data)\n",
    "\n",
    "print(f\"Размах температур: {temperature_range}\")\n",
    "print(f\"Индекс самого холодного дня: {coldest_day}\")\n",
    "print(f\"Индекс самого теплого дня: {hottest_day}\")"
   ]
  },
  {
   "cell_type": "code",
   "execution_count": 153,
   "metadata": {},
   "outputs": [
    {
     "name": "stdout",
     "output_type": "stream",
     "text": [
      "Медиана доходов: 82.5\n",
      "Инвесторы, заработавшие выше медианы: [ 85  90 100 120 150]\n",
      "Инвесторы, заработавшие ниже медианы: [40 55 60 75 80]\n",
      "Разброс доходов для инвесторов, заработавших выше медианы: 65\n"
     ]
    }
   ],
   "source": [
    "# Заданные данные (доходы инвесторов в тысячах долларов)\n",
    "income_data = np.array([40, 55, 60, 75, 80, 85, 90, 100, 120, 150])\n",
    "\n",
    "median_income = np.median(income_data)\n",
    "\n",
    "above_median = income_data[income_data > median_income]\n",
    "below_median = income_data[income_data < median_income]\n",
    "\n",
    "income_range_above_median = np.ptp(above_median)\n",
    "\n",
    "print(\"Медиана доходов:\", median_income)\n",
    "print(\"Инвесторы, заработавшие выше медианы:\", above_median)\n",
    "print(\"Инвесторы, заработавшие ниже медианы:\", below_median)\n",
    "print(\"Разброс доходов для инвесторов, заработавших выше медианы:\", income_range_above_median)"
   ]
  },
  {
   "cell_type": "code",
   "execution_count": 154,
   "metadata": {},
   "outputs": [
    {
     "name": "stdout",
     "output_type": "stream",
     "text": [
      "Средняя стоимость акций каждой компании: [120.71 121.43 120.86]\n",
      "Индекс самой волатильной компании: 2\n",
      "Индекс дня с наибольшим изменением в стоимости акций: 3\n"
     ]
    }
   ],
   "source": [
    "# Найдите среднюю стоимость акций каждой компании за все дни. \n",
    "# Затем определите компанию с максимальной волатильностью (наибольшим размахом цен). \n",
    "# И под конец, найдите день с наибольшим общим изменением в стоимости акций всех компаний.\n",
    "\n",
    "# Цены акций для 3 компаний(каждый столбец - отдельная компания)\n",
    "stock_prices = np.array([\n",
    "    [110, 112, 108],\n",
    "    [115, 118, 120],\n",
    "    [108, 110, 105],\n",
    "    [122, 121, 124],\n",
    "    [128, 130, 125],\n",
    "    [133, 132, 134],\n",
    "    [129, 127, 130]\n",
    "])\n",
    "\n",
    "average_prices = np.round(np.mean(stock_prices, axis=0), 2)\n",
    "\n",
    "volatility = np.ptp(stock_prices, axis=0)\n",
    "most_volatile_company = np.argmax(volatility)\n",
    "\n",
    "total_daily_change = np.sum(np.abs(np.diff(stock_prices, axis=0)), axis=1)\n",
    "day_with_max_change = np.argmax(total_daily_change) + 1\n",
    "\n",
    "print(\"Средняя стоимость акций каждой компании:\", average_prices) \n",
    "print(\"Индекс самой волатильной компании:\", most_volatile_company) \n",
    "print(\"Индекс дня с наибольшим изменением в стоимости акций:\", day_with_max_change)"
   ]
  },
  {
   "cell_type": "code",
   "execution_count": 155,
   "metadata": {},
   "outputs": [
    {
     "name": "stdout",
     "output_type": "stream",
     "text": [
      "Средний возраст пациентов: 36.7\n",
      "Пациент с самым высоким уровнем холестерина: [ 45 220 130]\n",
      "Пациент с самым низким давлением: [ 35 190 110]\n"
     ]
    }
   ],
   "source": [
    "# Найдите средний возраст пациентов. Определите пациента с самым высоким уровнем холестерина и самым низким давлением.\n",
    "\n",
    "# Заданные данные (1-й столбец: возраст, 2-й столбец: уровень холестерина, 3-й столбец: давление)\n",
    "medical_data = np.array([\n",
    "    [30, 200, 120],\n",
    "    [45, 220, 130],\n",
    "    [35, 190, 110]\n",
    "])\n",
    "\n",
    "average_age = np.round(np.mean(medical_data[:, 0]), 1)\n",
    "max_cholesterol_patient = medical_data[np.argmax(medical_data[:, 1])]\n",
    "min_pressure_patient = medical_data[np.argmin(medical_data[:, 2])]\n",
    "\n",
    "print(f\"Средний возраст пациентов: {average_age}\")\n",
    "print(\"Пациент с самым высоким уровнем холестерина:\", max_cholesterol_patient) # Показатели пациента с самым высоким уровнем холестерина\n",
    "print(\"Пациент с самым низким давлением:\", min_pressure_patient) # Показатели пациента с самым низким давлением"
   ]
  },
  {
   "cell_type": "code",
   "execution_count": 156,
   "metadata": {},
   "outputs": [
    {
     "name": "stdout",
     "output_type": "stream",
     "text": [
      "Средний балл за каждую задачу: [4.3 3.7 3.3]\n",
      "Индекс cтудента с наивысшим средним баллом: 2\n",
      "Индекс задачи с наименьшей дисперсией баллов: 2\n"
     ]
    }
   ],
   "source": [
    "# Дан массив student_scores, с оценками студентов(каждая строка один студент). \n",
    "# Найдите средний балл за каждую задачу. \n",
    "# Определите студента с наивысшим средним баллом. Найдите задачу с наименьшей дисперсией баллов.\n",
    "\n",
    "student_scores = np.array([\n",
    "    [5, 4, 3],  # Оценки первого студента за три задачи\n",
    "    [3, 2, 4],  # Оценки второго студента за три задачи\n",
    "    [5, 5, 3]   # Оценки третьего студента за три задачи\n",
    "])\n",
    "\n",
    "average_scores = np.round(np.mean(student_scores, axis=0), 1)\n",
    "highest_avg_student = np.argmax(np.mean(student_scores, axis=1))\n",
    "min_variability_task = np.argmin(np.var(student_scores, axis=0))\n",
    "\n",
    "print(\"Средний балл за каждую задачу:\", average_scores)\n",
    "print(\"Индекс cтудента с наивысшим средним баллом:\", highest_avg_student)\n",
    "print(\"Индекс задачи с наименьшей дисперсией баллов:\", min_variability_task)"
   ]
  },
  {
   "cell_type": "code",
   "execution_count": 157,
   "metadata": {},
   "outputs": [
    {
     "name": "stdout",
     "output_type": "stream",
     "text": [
      "Наиболее часто встречающееся число: 4\n",
      "Количество вхождений: 5\n"
     ]
    }
   ],
   "source": [
    "# Напишите функцию most_frequent_number(arr), которая находит наиболее часто встречающее число и количество его вхождений\n",
    "\n",
    "def most_frequent_number(arr):\n",
    "    bin_counts = np.bincount(arr)\n",
    "    most_frequent_index = np.argmax(bin_counts)\n",
    "    # occurrences =  np.sum(arr == most_frequent_index)\n",
    "    occurrences = bin_counts[most_frequent_index]\n",
    "    return most_frequent_index, occurrences\n",
    "\n",
    "arr = np.array([1, 2, 3, 1, 2, 1, 4, 4, 4, 4, 5, 4, 3, 3])\n",
    "result_number, result_occurrences = most_frequent_number(arr)\n",
    "\n",
    "print(f\"Наиболее часто встречающееся число: {result_number}\")\n",
    "print(f\"Количество вхождений: {result_occurrences}\")"
   ]
  },
  {
   "cell_type": "markdown",
   "metadata": {},
   "source": [
    "# 3.3 Сортировка и другие операции"
   ]
  },
  {
   "cell_type": "code",
   "execution_count": 158,
   "metadata": {},
   "outputs": [],
   "source": [
    "# Эти функции также являются частью библиотеки NumPy и предоставляют операции для работы с множествами или уникальными элементами массивов"
   ]
  },
  {
   "cell_type": "code",
   "execution_count": 159,
   "metadata": {},
   "outputs": [],
   "source": [
    "# np.sort\n",
    "# (a, axis=-1, kind=None, order=None)  -  выполняет сортировку элементов массива.\n",
    "\n",
    "# a: Исходный массив, который нужно отсортировать.\n",
    "# axis: Опциональный параметр, указывающий ось, по которой нужно провести сортировку. По умолчанию -1, что означает сортировку по последней оси.\n",
    "# kind: Опциональный параметр, определяющий алгоритм сортировки. Может принимать значения 'quicksort', 'mergesort', 'heapsort' или None. По умолчанию используется 'quicksort'.\n",
    "# order: Опциональный параметр, применяется при сортировке структурированных массивов. Может содержать названия полей и направления сортировки для каждого поля.\n",
    "\n",
    "\n",
    "# np.unique\n",
    "# (arr, return_index=False, return_inverse=False, return_counts=False, axis=None) - это функция, которая возвращает уникальные элементы массива. \n",
    "\n",
    "# return_index: Если True, то также возвращает массив индексов первого вхождения уникальных элементов.\n",
    "# return_inverse: Если True, то также возвращает массив, который при использовании как индекс восстанавливает исходный массив.\n",
    "# return_counts: Если True, то также возвращает массив, содержащий количество вхождений каждого уникального элемента.\n",
    "# axis: Опциональный параметр, указывающий ось, по которой нужно найти уникальные элементы. Если не указан, поиск производится по всему массиву."
   ]
  },
  {
   "cell_type": "code",
   "execution_count": 160,
   "metadata": {},
   "outputs": [],
   "source": [
    "# np.intersect1d\n",
    "# (arr1, arr2, assume_unique=False, return_indices=False)\n",
    "\n",
    "# Возвращает отсортированный массив уникальных элементов, общих для двух входных массивов.\n",
    "# assume_unique: Если True, то предполагает, что входные массивы уже уникальны, что ускоряет выполнение.\n",
    "# return_indices: Если True, то также возвращает индексы элементов в каждом из входных массивов.\n",
    "\n",
    "\n",
    "# np.union1d\n",
    "# (arr1, arr2)\n",
    "\n",
    "# Возвращает отсортированный массив уникальных элементов, объединенных из двух входных массивов."
   ]
  },
  {
   "cell_type": "code",
   "execution_count": 161,
   "metadata": {},
   "outputs": [],
   "source": [
    "# np.in1d\n",
    "# (arr1, arr2, assume_unique=False, invert=False)\n",
    "\n",
    "# Возвращает булев массив той же формы, что и arr1, указывающий, содержатся ли элементы arr1 в arr2.\n",
    "# assume_unique: Если True, то предполагает, что arr1 и arr2 уже уникальны.\n",
    "# invert: Если True, то инвертирует результат, то есть возвращает, содержатся ли элементы arr1 не в arr2."
   ]
  },
  {
   "cell_type": "code",
   "execution_count": 162,
   "metadata": {},
   "outputs": [],
   "source": [
    "# np.setdiff1d\n",
    "# (arr1, arr2, assume_unique=False)\n",
    "\n",
    "# Возвращает уникальные элементы, которые есть в arr1, но отсутствуют в arr2.\n",
    "# assume_unique: Если True, то предполагает, что arr1 и arr2 уже уникальны."
   ]
  },
  {
   "cell_type": "code",
   "execution_count": 163,
   "metadata": {},
   "outputs": [],
   "source": [
    "# np.setxor1d\n",
    "# (arr1, arr2, assume_unique=False)\n",
    "\n",
    "# Возвращает уникальные элементы, которые есть в одном из массивов, но отсутствуют в обоих.\n",
    "# assume_unique: Если True, то предполагает, что arr1 и arr2 уже уникальны."
   ]
  },
  {
   "cell_type": "code",
   "execution_count": null,
   "metadata": {},
   "outputs": [],
   "source": [
    "# np.delete\n",
    "# (arrr, obj, axis=None) - это функция библиотеки NumPy, которая используется для удаления элементов из массива. \n",
    "# Она может использоваться для удаления как отдельных элементов, так и целых строк или столбцов в многомерных массивах. \n",
    "\n",
    "# arr: Одномерный массив неотрицательных целых чисел. Обязательный параметр.\n",
    "# arr: Исходный массив.\n",
    "# obj: Объект, который нужно удалить. Это может быть индекс, срез или последовательность индексов/срезов. Функция возвращает новый массив с удаленными элементами. Исходный массив не изменяется.\n",
    "# axis: Опциональный параметр, указывающий ось, по которой нужно удалить элементы. Если axis не указан, функция работает с плоским массивом."
   ]
  },
  {
   "cell_type": "code",
   "execution_count": 165,
   "metadata": {},
   "outputs": [
    {
     "name": "stdout",
     "output_type": "stream",
     "text": [
      "Исходный массив структур:\n",
      "[(b'John', 28) (b'Sam', 22) (b'Smith', 25) (b'Jones', 30)]\n",
      "\n",
      "Сортировка по полю 'name':\n",
      "[(b'John', 28) (b'Jones', 30) (b'Sam', 22) (b'Smith', 25)]\n",
      "\n",
      "Сортировка по полю 'age' в порядке возрастания:\n",
      "[(b'Sam', 22) (b'Smith', 25) (b'John', 28) (b'Jones', 30)]\n",
      "\n",
      "Сортировка по полю 'age' в порядке убывания:\n",
      "[(b'Jones', 30) (b'John', 28) (b'Smith', 25) (b'Sam', 22)]\n"
     ]
    }
   ],
   "source": [
    "# Отсортируйте массив array тремя способами:\n",
    "\n",
    "# По имени в алфавитном порядке\n",
    "# По возрасту в порядке возрастания\n",
    "# По возрасту в порядке убывания\n",
    "\n",
    "people = np.array([('John', 28), \n",
    "                   ('Sam', 22), \n",
    "                   ('Smith', 25), \n",
    "                   ('Jones', 30)], \n",
    "            dtype=[('name', 'S10'), ('age', int)]) # определение структуры данных для массива,\n",
    "                                                   # где каждый элемент имеет поле \n",
    "                                                   # \"name\" типа str длиной до\n",
    "                                                   # 10 символов ('S10') и поле \"age\" типа int\n",
    "\n",
    "sorted_people_by_name = np.sort(people, order='name')\n",
    "sorted_people_by_age = np.sort(people, order='age')\n",
    "sorted_people_by_age_desc = np.sort(people, order='age')[::-1]\n",
    "\n",
    "print(\"Исходный массив структур:\")\n",
    "print(people)\n",
    "print(\"\\nСортировка по полю 'name':\")\n",
    "print(sorted_people_by_name)\n",
    "print(\"\\nСортировка по полю 'age' в порядке возрастания:\")\n",
    "print(sorted_people_by_age)\n",
    "print(\"\\nСортировка по полю 'age' в порядке убывания:\")\n",
    "print(sorted_people_by_age_desc)"
   ]
  },
  {
   "cell_type": "code",
   "execution_count": 166,
   "metadata": {},
   "outputs": [
    {
     "name": "stdout",
     "output_type": "stream",
     "text": [
      "Уникальные элементы: [1 2 3 4 5 6 7]\n",
      "Индексы вхождения уникальных элементов: [3 1 0 2 4 6 8]\n",
      "Наименьший элемент: 1\n",
      "Наибольший элемент: 7\n"
     ]
    }
   ],
   "source": [
    "# Найдите уникальные элементы, а также их индексы в порядке их появления, а затем выведите наименьший и наибольший элементы .\n",
    "\n",
    "arr = np.array([3, 2, 4, 1, 5, 2, 6, 4, 7])\n",
    "\n",
    "unique_elements = np.unique(arr, return_index=True, return_inverse=False)\n",
    "\n",
    "min_element = np.min(arr)\n",
    "max_element = np.max(arr)\n",
    "\n",
    "print(\"Уникальные элементы:\", unique_elements[0])\n",
    "print(\"Индексы вхождения уникальных элементов:\", unique_elements[1])\n",
    "print(\"Наименьший элемент:\", min_element)\n",
    "print(\"Наибольший элемент:\", max_element)"
   ]
  },
  {
   "cell_type": "code",
   "execution_count": 172,
   "metadata": {},
   "outputs": [
    {
     "name": "stdout",
     "output_type": "stream",
     "text": [
      "Объединение уникальных элементов: [1 2 3 4 5 6 7]\n",
      "Маска для вхождения в arr1: [ True  True  True  True  True False False]\n",
      "Маска для вхождения в arr2: [False False  True  True  True  True  True]\n",
      "Маска для общих элементов: [False False  True  True  True False False]\n",
      "Элементы, встречающиеся и в arr1, и в arr2: [3 4 5]\n"
     ]
    }
   ],
   "source": [
    "# У вас есть два массива целых чисел, arr1 и arr2. \n",
    "# Ваша задача - найти и вывести объединение уникальных элементов обоих массивов, а также определить те числа, которые встречаются и в arr1, и в arr2.\n",
    "\n",
    "arr1 = np.array([1, 2, 3, 4, 5])\n",
    "arr2 = np.array([3, 4, 5, 6, 7])\n",
    "\n",
    "unique_arr1 = np.unique(arr1)\n",
    "unique_arr2 = np.unique(arr2)\n",
    "\n",
    "union = np.union1d(unique_arr1, unique_arr2)\n",
    "\n",
    "in_arr1_mask = np.isin(union, arr1)\n",
    "in_arr2_mask = np.isin(union, arr2)\n",
    "\n",
    "common_elements_mask = np.logical_and(in_arr1_mask, in_arr2_mask)\n",
    "common_elements = union[common_elements_mask]\n",
    "\n",
    "print(\"Объединение уникальных элементов:\", union)\n",
    "print(\"Маска для вхождения в arr1:\", in_arr1_mask)\n",
    "print(\"Маска для вхождения в arr2:\", in_arr2_mask)\n",
    "print(\"Маска для общих элементов:\", common_elements_mask)\n",
    "print(\"Элементы, встречающиеся и в arr1, и в arr2:\", common_elements)"
   ]
  },
  {
   "cell_type": "code",
   "execution_count": 210,
   "metadata": {},
   "outputs": [
    {
     "name": "stdout",
     "output_type": "stream",
     "text": [
      "Исходный массив: [3 2 4 1 5 2 6 4 7]\n",
      "Уникальные элементы: [1 2 3 4 5 6 7]\n",
      "Массив после удаления элементов больше 4 : [1 2 3 4]\n"
     ]
    }
   ],
   "source": [
    "# Найдите уникальные элементы массива. \n",
    "# Затем удалите из этого массива все уникальные элементы, которые больше заданного порога.\n",
    "\n",
    "arr = np.array([3, 2, 4, 1, 5, 2, 6, 4, 7])\n",
    "threshold = 4  # порог для удаления элементов\n",
    "\n",
    "unique_elements = np.unique(arr) # нахождение уникальных элементов массива\n",
    "indices_to_remove = np.where(unique_elements > threshold) # нахождение индексов элементов, превышающих порог\n",
    "filtered_arr = np.delete(unique_elements, indices_to_remove) # удаление элементов массива arr, превышающих порог\n",
    "\n",
    "print(\"Исходный массив:\", arr)\n",
    "print(\"Уникальные элементы:\", unique_elements)\n",
    "print(\"Массив после удаления элементов больше\", threshold, \":\", filtered_arr)"
   ]
  },
  {
   "cell_type": "code",
   "execution_count": 217,
   "metadata": {},
   "outputs": [
    {
     "name": "stdout",
     "output_type": "stream",
     "text": [
      "Исходный массив: [3 2 4 1 5 2 6 4 7]\n",
      "Массив после удаления элементов, встречающихся более одного раза: [3 1 5 6 7]\n"
     ]
    }
   ],
   "source": [
    "# Удалите из массива arr все элементы, которые встречаются более одного раза.\n",
    "\n",
    "arr = np.array([3, 2, 4, 1, 5, 2, 6, 4, 7])\n",
    "\n",
    "unique_elements, counts = np.unique(arr, return_counts=True)\n",
    "elements_to_remove = unique_elements[counts > 1]\n",
    "\n",
    "filtered_arr = np.delete(arr, np.where(np.isin(arr, elements_to_remove)))\n",
    "\n",
    "print(\"Исходный массив:\", arr)\n",
    "print(\"Массив после удаления элементов, встречающихся более одного раза:\", filtered_arr)"
   ]
  },
  {
   "cell_type": "markdown",
   "metadata": {},
   "source": [
    "# 3.4 Генерация псевдослучайных чисел в Numpy"
   ]
  },
  {
   "cell_type": "code",
   "execution_count": null,
   "metadata": {},
   "outputs": [],
   "source": [
    "# В NumPy генерация псевдослучайных чисел выполняется с использованием модуля numpy.random. \n",
    "# Этот модуль полезен в различных задачах, таких как создание случайных массивов, \n",
    "# симуляция случайных процессов и другие приложения, где требуется использование случайности."
   ]
  },
  {
   "cell_type": "code",
   "execution_count": 218,
   "metadata": {},
   "outputs": [
    {
     "name": "stdout",
     "output_type": "stream",
     "text": [
      "Случайные числа: [0.37454012 0.95071431 0.73199394 0.59865848 0.15601864]\n",
      "Случайные числа после установки зерна: [0.37454012 0.95071431 0.73199394 0.59865848 0.15601864]\n"
     ]
    }
   ],
   "source": [
    "# seed:\n",
    "\n",
    "# Описание: Инициализирует генератор псевдослучайных чисел. Установка зерна (seed) позволяет получать одинаковую последовательность случайных чисел при каждом запуске программы. Это полезно, например, при отладке, чтобы результаты были воспроизводимы.\n",
    "# Синтаксис:\n",
    "# numpy.random.seed(seed)\n",
    "\n",
    "# seed: Начальное значение для генератора случайных чисел. Если seed не указан, используется системное время.\n",
    "\n",
    "# Установка зерна для воспроизводимости результатов\n",
    "np.random.seed(42)\n",
    "\n",
    "# Генерация случайных чисел\n",
    "random_numbers = np.random.rand(5)\n",
    "print(\"Случайные числа:\", random_numbers)\n",
    "\n",
    "# При повторном запуске программы результаты будут такими же, как и в первый раз\n",
    "np.random.seed(42)\n",
    "random_numbers_again = np.random.rand(5)\n",
    "print(\"Случайные числа после установки зерна:\", random_numbers_again)"
   ]
  },
  {
   "cell_type": "code",
   "execution_count": null,
   "metadata": {},
   "outputs": [
    {
     "name": "stdout",
     "output_type": "stream",
     "text": [
      "Случайный массив:\n",
      "[[0.15599452 0.05808361 0.86617615]\n",
      " [0.60111501 0.70807258 0.02058449]]\n"
     ]
    }
   ],
   "source": [
    "# rand:\n",
    "\n",
    "# Описание: Генерирует равномерно распределенные случайные числа в диапазоне [0.0, 1.0). \n",
    "# Каждый элемент в массиве будет случайным числом в интервале от 0.0 (включительно) до 1.0 (исключительно). \n",
    "# Если вам нужны случайные числа из другого распределения, такого как нормальное (гауссовское), \n",
    "# вы можете использовать numpy.random.randn для генерации чисел с нормальным распределением.\n",
    "\n",
    "# Синтаксис:\n",
    "# numpy.random.rand(d0, d1, ..., dn)\n",
    "\n",
    "# d0, d1, ..., dn: Размеры возвращаемого массива.\n",
    "\n",
    "# Генерация массива случайных чисел размером 2x3\n",
    "random_array = np.random.rand(2, 3)\n",
    "\n",
    "print(\"Случайный массив:\")\n",
    "print(random_array)"
   ]
  },
  {
   "cell_type": "code",
   "execution_count": 222,
   "metadata": {},
   "outputs": [
    {
     "name": "stdout",
     "output_type": "stream",
     "text": [
      "Случайный массив из стандартного нормального распределения:\n",
      "[[-0.60025385  0.94743982  0.291034  ]\n",
      " [-0.63555974 -1.02155219 -0.16175539]]\n"
     ]
    }
   ],
   "source": [
    "# randn:\n",
    "\n",
    "# Описание: Генерирует числа из стандартного нормального распределения (среднее 0, стандартное отклонение 1).\n",
    "\n",
    "# Синтаксис:\n",
    "# numpy.random.randn(d0, d1, ..., dn)\n",
    "\n",
    "# d0, d1, ..., dn: Размеры возвращаемого массива.\n",
    "\n",
    "# Генерация массива случайных чисел размером 2x3 из стандартного нормального распределения\n",
    "random_array = np.random.randn(2, 3)\n",
    "\n",
    "print(\"Случайный массив из стандартного нормального распределения:\")\n",
    "print(random_array)"
   ]
  },
  {
   "cell_type": "code",
   "execution_count": 223,
   "metadata": {},
   "outputs": [
    {
     "name": "stdout",
     "output_type": "stream",
     "text": [
      "Случайный массив целых чисел:\n",
      "[[8 3 1]\n",
      " [4 2 8]\n",
      " [4 2 6]]\n"
     ]
    }
   ],
   "source": [
    "# randint:\n",
    "\n",
    "# Описание: Генерирует случайные целые числа из дискретного равномерного распределения в указанном диапазоне.\n",
    "\n",
    "# Синтаксис:\n",
    "# numpy.random.randint(low, high=None, size=None, dtype='l')\n",
    "\n",
    "# low: Нижняя граница диапазона.\n",
    "# high: Верхняя граница диапазона (не включается).\n",
    "# size: Форма возвращаемого массива.\n",
    "# dtype: Тип данных возвращаемого массива.\n",
    "\n",
    "# Генерация массива случайных целых чисел в диапазоне от 1 до 10 (10 не включено) размером 3x3\n",
    "random_integers = np.random.randint(1, 10, size=(3, 3))\n",
    "\n",
    "print(\"Случайный массив целых чисел:\")\n",
    "print(random_integers)"
   ]
  },
  {
   "cell_type": "code",
   "execution_count": null,
   "metadata": {},
   "outputs": [
    {
     "name": "stdout",
     "output_type": "stream",
     "text": [
      "Случайный массив чисел с плавающей точкой:\n",
      "[[0.20794166 0.56770033 0.03131329]\n",
      " [0.84228477 0.44975413 0.39515024]\n",
      " [0.92665887 0.727272   0.32654077]]\n"
     ]
    }
   ],
   "source": [
    "# random_sample:\n",
    "\n",
    "# Описание: Генерирует случайные числа с плавающей точкой из равномерного распределения в интервале от 0.0 до 1.0 - [0.0, 1.0)\n",
    "\n",
    "# Синтаксис:\n",
    "# numpy.random.random_sample(size=None) (или numpy.random.random(size=None)):\n",
    "\n",
    "# size: Форма возвращаемого массива.\n",
    "\n",
    "# Генерация массива случайных чисел с плавающей точкой размером 3x3\n",
    "random_floats = np.random.random_sample(size=(3, 3))\n",
    "\n",
    "print(\"Случайный массив чисел с плавающей точкой:\")\n",
    "print(random_floats)"
   ]
  },
  {
   "cell_type": "code",
   "execution_count": 225,
   "metadata": {},
   "outputs": [
    {
     "name": "stdout",
     "output_type": "stream",
     "text": [
      "Случайный выбор из массива: ['banana' 'cherry' 'date']\n"
     ]
    }
   ],
   "source": [
    "# choice:\n",
    "\n",
    "# Описание: Случайным образом выбирает элементы из заданного массива или последовательности. \n",
    "# Может принимать на вход массив, последовательность или число, и возвращает случайный выбор из переданных значений.\n",
    "\n",
    "# Синтаксис:\n",
    "# numpy.random.choice(a, size=None, replace=True, p=None)\n",
    "\n",
    "# a: Входной массив или последовательность.\n",
    "# size: Форма возвращаемого массива.\n",
    "# replace: Булево значение, указывающее, следует ли выполнять выборку с заменой.\n",
    "# p: Вероятности соответствующих элементов в a.\n",
    "\n",
    "# Создание массива и выбор случайных элементов из него\n",
    "choices = np.random.choice(['apple', 'banana', 'cherry', 'date'], size=3)\n",
    "\n",
    "print(\"Случайный выбор из массива:\", choices)"
   ]
  },
  {
   "cell_type": "code",
   "execution_count": 227,
   "metadata": {},
   "outputs": [
    {
     "name": "stdout",
     "output_type": "stream",
     "text": [
      "Случайные целые числа: [8 7 4 1 4]\n"
     ]
    }
   ],
   "source": [
    "# integers:\n",
    "\n",
    "# Описание: Генерирует случайные целые числа из указанного диапазона.\n",
    "\n",
    "# Синтаксис:\n",
    "# numpy.random.integers(low, high=None, size=None, dtype=int)\n",
    "\n",
    "# low: Нижняя граница диапазона.\n",
    "# high: Верхняя граница диапазона (не включается).\n",
    "# size: Форма возвращаемого массива.\n",
    "# dtype: Тип данных возвращаемого массива.\n",
    "\n",
    "# Генерация случайных целых чисел в диапазоне [0, 10)\n",
    "random_integers = np.random.choice(10, size=5)\n",
    "\n",
    "print(\"Случайные целые числа:\", random_integers)"
   ]
  },
  {
   "cell_type": "code",
   "execution_count": 228,
   "metadata": {},
   "outputs": [
    {
     "name": "stdout",
     "output_type": "stream",
     "text": [
      "Исходный массив: [1 2 3 4 5]\n",
      "Перемешанный массив: [5 3 4 1 2]\n"
     ]
    }
   ],
   "source": [
    "# permutation:\n",
    "\n",
    "# Описание: Возвращает случайную перестановку последовательности или перестановку диапазона.\n",
    "\n",
    "# Синтаксис:\n",
    "# numpy.random.permutation(x)\n",
    "\n",
    "# x: Последовательность (массив), которую нужно переставить.\n",
    "\n",
    "# Создание массива\n",
    "arr = np.array([1, 2, 3, 4, 5])\n",
    "\n",
    "# Перестановка элементов массива\n",
    "shuffled_arr = np.random.permutation(arr)\n",
    "\n",
    "print(\"Исходный массив:\", arr)\n",
    "print(\"Перемешанный массив:\", shuffled_arr)"
   ]
  },
  {
   "cell_type": "code",
   "execution_count": 229,
   "metadata": {},
   "outputs": [
    {
     "name": "stdout",
     "output_type": "stream",
     "text": [
      "Перемешанный массив: [2 4 1 3 5]\n"
     ]
    }
   ],
   "source": [
    "# shuffle:\n",
    "\n",
    "# Описание: Производит случайную перестановку элементов последовательности на месте (не создает новую последовательность).\n",
    "\n",
    "# Синтаксис:\n",
    "# numpy.random.shuffle(x)\n",
    "\n",
    "# x: Последовательность (массив), которую нужно переставить.\n",
    "\n",
    "# Создание массива\n",
    "arr = np.array([1, 2, 3, 4, 5])\n",
    "\n",
    "# Перемешивание элементов массива на месте\n",
    "np.random.shuffle(arr)\n",
    "\n",
    "print(\"Перемешанный массив:\", arr)"
   ]
  },
  {
   "cell_type": "markdown",
   "metadata": {},
   "source": [
    "## Генерация случайных данных с различными распределениями"
   ]
  },
  {
   "cell_type": "code",
   "execution_count": 239,
   "metadata": {},
   "outputs": [
    {
     "name": "stdout",
     "output_type": "stream",
     "text": [
      "Случайный массив чисел с плавающей точкой:\n",
      "[[0.93563499 0.78534065 0.66898825]\n",
      " [0.58068662 0.37228277 0.94013344]\n",
      " [0.97366384 0.28392097 0.30536386]]\n"
     ]
    }
   ],
   "source": [
    "# random_sample :\n",
    "\n",
    "# Описание: Генерирует случайные числа с плавающей точкой из равномерного распределения в интервале от 0.0 до 1.0.\n",
    "\n",
    "# Синтаксис:\n",
    "# numpy.random.random_sample(size=None) (или numpy.random.random(size=None)):\n",
    "\n",
    "# size: Форма возвращаемого массива.\n",
    "\n",
    "# Генерация массива случайных чисел с плавающей точкой размером 3x3\n",
    "random_floats = np.random.random_sample(size=(3, 3))\n",
    "\n",
    "print(\"Случайный массив чисел с плавающей точкой:\")\n",
    "print(random_floats)"
   ]
  },
  {
   "cell_type": "code",
   "execution_count": 230,
   "metadata": {},
   "outputs": [
    {
     "name": "stdout",
     "output_type": "stream",
     "text": [
      "Случайные числа из равномерного распределения: [0.01563641 0.42340148 0.39488152 0.29348817 0.01407982]\n"
     ]
    }
   ],
   "source": [
    "# uniform:\n",
    "\n",
    "# Описание: Генерирует случайные числа из равномерного распределения на указанном интервале.\n",
    "\n",
    "# Синтаксис:\n",
    "# numpy.random.uniform(low=0.0, high=1.0, size=None)\n",
    "\n",
    "# low: Нижняя граница интервала.\n",
    "# high: Верхняя граница интервала.\n",
    "# size: Форма возвращаемого массива.\n",
    "\n",
    "# Генерация 5 случайных чисел в интервале [0, 1)\n",
    "random_numbers = np.random.uniform(low=0.0, high=1.0, size=5)\n",
    "\n",
    "print(\"Случайные числа из равномерного распределения:\", random_numbers)"
   ]
  },
  {
   "cell_type": "code",
   "execution_count": 231,
   "metadata": {},
   "outputs": [
    {
     "name": "stdout",
     "output_type": "stream",
     "text": [
      "Случайные числа из стандартного нормального распределения: [ 0.63630511 -0.90672067  0.47604259  1.30366127  0.21158701]\n"
     ]
    }
   ],
   "source": [
    "# standard_normal:\n",
    "\n",
    "# Описание: Генерирует случайные числа из стандартного нормального распределения (среднее 0, стандартное отклонение 1).\n",
    "\n",
    "# Синтаксис:\n",
    "# numpy.random.standard_normal(size=None)\n",
    "\n",
    "# size: Форма возвращаемого массива.\n",
    "\n",
    "# Генерация 5 случайных чисел из стандартного нормального распределения\n",
    "random_numbers = np.random.standard_normal(size=5)\n",
    "\n",
    "print(\"Случайные числа из стандартного нормального распределения:\", random_numbers)"
   ]
  },
  {
   "cell_type": "code",
   "execution_count": 232,
   "metadata": {},
   "outputs": [
    {
     "name": "stdout",
     "output_type": "stream",
     "text": [
      "Случайные числа из биномиального распределения: [7 7 5 3 4]\n"
     ]
    }
   ],
   "source": [
    "# binomial:\n",
    "\n",
    "# Описание: Генерирует случайные числа из биномиального распределения. \n",
    "# Биномиальное распределение моделирует количество успехов в серии независимых бинарных экспериментов, \n",
    "# где каждый эксперимент имеет два возможных исхода (успех или неудача).\n",
    "\n",
    "# Синтаксис:\n",
    "# numpy.random.binomial(n, p, size=None)\n",
    "\n",
    "# n: Количество испытаний.\n",
    "# p: Вероятность успеха в каждом испытании.\n",
    "# size: Форма возвращаемого массива.\n",
    "\n",
    "# Генерация 5 случайных чисел из биномиального распределения\n",
    "# с параметрами n (количество экспериментов) и p (вероятность успеха)\n",
    "binomial_numbers = np.random.binomial(n=10, p=0.5, size=5)\n",
    "\n",
    "print(\"Случайные числа из биномиального распределения:\", binomial_numbers)"
   ]
  },
  {
   "cell_type": "code",
   "execution_count": 233,
   "metadata": {},
   "outputs": [
    {
     "name": "stdout",
     "output_type": "stream",
     "text": [
      "Случайные числа из нормального распределения: [ 0.59704465  1.21217234  1.2334968  -1.57415529  0.63795294]\n"
     ]
    }
   ],
   "source": [
    "# normal:\n",
    "\n",
    "# Описание: Генерирует случайные числа из нормального (гауссова) распределения.\n",
    "\n",
    "# Синтаксис:\n",
    "# numpy.random.normal(loc=0.0, scale=1.0, size=None)\n",
    "\n",
    "# loc: Среднее значение распределения.\n",
    "# scale: Стандартное отклонение распределения.\n",
    "# size: Форма возвращаемого массива.\n",
    "\n",
    "# Генерация 5 случайных чисел из нормального распределения\n",
    "# со средним значением 0 и стандартным отклонением 1\n",
    "random_numbers = np.random.normal(loc=0, scale=1, size=5)\n",
    "\n",
    "print(\"Случайные числа из нормального распределения:\", random_numbers)"
   ]
  },
  {
   "cell_type": "code",
   "execution_count": 234,
   "metadata": {},
   "outputs": [
    {
     "name": "stdout",
     "output_type": "stream",
     "text": [
      "Сгенерированные случайные числа из бета-распределения:\n",
      "[0.54206088 0.45576536 0.31985712 0.3777077  0.11739454 0.54434102\n",
      " 0.44793979 0.0981224  0.25273158 0.06105195]\n"
     ]
    }
   ],
   "source": [
    "# beta:\n",
    "\n",
    "# Описание: Генерирует случайные числа из бета-распределения. \n",
    "# Бета-распределение является непрерывным распределением на интервале [0, 1].\n",
    "\n",
    "# Синтаксис:\n",
    "# numpy.random.beta(a, b, size=None)\n",
    "\n",
    "# a: Параметр формы 1.\n",
    "# b: Параметр формы 2.\n",
    "# size: Форма возвращаемого массива.\n",
    "\n",
    "# Параметры альфа и бета для бета-распределения\n",
    "alpha = 2\n",
    "beta = 5\n",
    "\n",
    "# Генерация 10 случайных чисел из бета-распределения\n",
    "beta_numbers = np.random.beta(alpha, beta, size=10)\n",
    "\n",
    "# Вывод результатов\n",
    "print(\"Сгенерированные случайные числа из бета-распределения:\")\n",
    "print(beta_numbers)"
   ]
  },
  {
   "cell_type": "code",
   "execution_count": 236,
   "metadata": {},
   "outputs": [
    {
     "name": "stdout",
     "output_type": "stream",
     "text": [
      "Сгенерированные случайные числа из распределения хи-квадрат с k=3:\n",
      "[10.7933604   6.13396863  4.28523489  1.23521771  6.07765441  1.5890751\n",
      "  9.50003111  2.51265752  4.25387117  0.82237992]\n"
     ]
    }
   ],
   "source": [
    "# chisquare:\n",
    "\n",
    "# Описание: Генерирует случайные числа из хи-квадрат распределения.\n",
    "\n",
    "# Синтаксис:\n",
    "# numpy.random.chisquare(df, size=None)\n",
    "\n",
    "# df: Число степеней свободы.\n",
    "# size: Форма возвращаемого массива.\n",
    "\n",
    "# Параметр k (степени свободы) для распределения хи-квадрат\n",
    "k = 3\n",
    "\n",
    "# Генерация 10 случайных чисел из распределения хи-квадрат\n",
    "chisquare_numbers = np.random.chisquare(k, size=10)\n",
    "\n",
    "# Вывод результатов\n",
    "print(f\"Сгенерированные случайные числа из распределения хи-квадрат с k={k}:\")\n",
    "print(chisquare_numbers)"
   ]
  },
  {
   "cell_type": "code",
   "execution_count": 238,
   "metadata": {},
   "outputs": [
    {
     "name": "stdout",
     "output_type": "stream",
     "text": [
      "Сгенерированные случайные числа из гамма-распределения с shape=2 и scale=2:\n",
      "[4.56508669 1.60468756 5.40535917 1.96487984 2.15813807 3.49819127\n",
      " 4.8034233  6.49656745 1.27058517 6.32034577]\n"
     ]
    }
   ],
   "source": [
    "# gamma:\n",
    "\n",
    "# Описание: Генерирует случайные числа из гамма-распределения.\n",
    "\n",
    "# Синтаксис:\n",
    "# numpy.random.gamma(shape, scale=1.0, size=None)\n",
    "\n",
    "# shape: Параметр формы.\n",
    "# scale: Масштабный параметр.\n",
    "# size: Форма возвращаемого массива.\n",
    "\n",
    "# Параметры формы и масштаба для гамма-распределения\n",
    "shape = 2\n",
    "scale = 2\n",
    "\n",
    "# Генерация 10 случайных чисел из гамма-распределения\n",
    "gamma_numbers = np.random.gamma(shape, scale, size=10)\n",
    "\n",
    "# Вывод результатов\n",
    "print(f\"Сгенерированные случайные числа из гамма-распределения с shape={shape} и scale={scale}:\")\n",
    "print(gamma_numbers)"
   ]
  }
 ],
 "metadata": {
  "kernelspec": {
   "display_name": "base",
   "language": "python",
   "name": "python3"
  },
  "language_info": {
   "codemirror_mode": {
    "name": "ipython",
    "version": 3
   },
   "file_extension": ".py",
   "mimetype": "text/x-python",
   "name": "python",
   "nbconvert_exporter": "python",
   "pygments_lexer": "ipython3",
   "version": "3.12.7"
  }
 },
 "nbformat": 4,
 "nbformat_minor": 2
}
