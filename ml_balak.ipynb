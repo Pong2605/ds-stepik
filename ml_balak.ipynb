{
 "cells": [
  {
   "cell_type": "code",
   "execution_count": null,
   "metadata": {},
   "outputs": [],
   "source": [
    "# Среднеквадратическая ошибка (MSE).\n",
    "\n",
    "# Даны матрица с наблюдениями, вектор с ответами и вектор с весовыми коэффициентами и записаны в переменные X, y и w соответственно. \n",
    "# Рассчитайте среднеквадратическую ошибку по формуле\n",
    "\n",
    "# loss = ((y - X @ w)**2).mean(axis=0)"
   ]
  },
  {
   "cell_type": "code",
   "execution_count": 1,
   "metadata": {},
   "outputs": [],
   "source": [
    "import numpy as np"
   ]
  },
  {
   "cell_type": "code",
   "execution_count": 25,
   "metadata": {},
   "outputs": [
    {
     "data": {
      "text/plain": [
       "array([[ 1.00000000e+00, -1.00000000e+00],\n",
       "       [ 1.00000000e+00, -9.00000000e-01],\n",
       "       [ 1.00000000e+00, -8.00000000e-01],\n",
       "       [ 1.00000000e+00, -7.00000000e-01],\n",
       "       [ 1.00000000e+00, -6.00000000e-01],\n",
       "       [ 1.00000000e+00, -5.00000000e-01],\n",
       "       [ 1.00000000e+00, -4.00000000e-01],\n",
       "       [ 1.00000000e+00, -3.00000000e-01],\n",
       "       [ 1.00000000e+00, -2.00000000e-01],\n",
       "       [ 1.00000000e+00, -1.00000000e-01],\n",
       "       [ 1.00000000e+00, -2.22044605e-16],\n",
       "       [ 1.00000000e+00,  1.00000000e-01],\n",
       "       [ 1.00000000e+00,  2.00000000e-01],\n",
       "       [ 1.00000000e+00,  3.00000000e-01],\n",
       "       [ 1.00000000e+00,  4.00000000e-01],\n",
       "       [ 1.00000000e+00,  5.00000000e-01],\n",
       "       [ 1.00000000e+00,  6.00000000e-01],\n",
       "       [ 1.00000000e+00,  7.00000000e-01],\n",
       "       [ 1.00000000e+00,  8.00000000e-01],\n",
       "       [ 1.00000000e+00,  9.00000000e-01]])"
      ]
     },
     "execution_count": 25,
     "metadata": {},
     "output_type": "execute_result"
    }
   ],
   "source": [
    "# необходимо вычислить коэффициенты w модели: a(x,w)=w0 + w1 * x\n",
    "\n",
    "np.random.seed(0) # псевдослучайные числа образуют одну и ту же последовательность (при каждом запуске)\n",
    "x = np.arange(-1.0, 1.0, 0.1) # аргумент [-1; 1] с шагом 0,1\n",
    "\n",
    "\n",
    "model_a = lambda xx, ww: (ww[0] + ww[1] * xx) # модель\n",
    "Y = -5.2 + 0.7 * x + np.random.normal(0, 0.1, len(x)) # вектор целевых значений\n",
    "\n",
    "# здесь продолжайте программу\n",
    "X = x.reshape(len(x), 1)\n",
    "X = np.c_[np.ones(X.shape[0]), X]\n",
    "X"
   ]
  },
  {
   "cell_type": "code",
   "execution_count": 26,
   "metadata": {},
   "outputs": [
    {
     "data": {
      "text/plain": [
       "array([[ 1.00000000e+00,  1.00000000e+00,  1.00000000e+00,\n",
       "         1.00000000e+00,  1.00000000e+00,  1.00000000e+00,\n",
       "         1.00000000e+00,  1.00000000e+00,  1.00000000e+00,\n",
       "         1.00000000e+00,  1.00000000e+00,  1.00000000e+00,\n",
       "         1.00000000e+00,  1.00000000e+00,  1.00000000e+00,\n",
       "         1.00000000e+00,  1.00000000e+00,  1.00000000e+00,\n",
       "         1.00000000e+00,  1.00000000e+00],\n",
       "       [-1.00000000e+00, -9.00000000e-01, -8.00000000e-01,\n",
       "        -7.00000000e-01, -6.00000000e-01, -5.00000000e-01,\n",
       "        -4.00000000e-01, -3.00000000e-01, -2.00000000e-01,\n",
       "        -1.00000000e-01, -2.22044605e-16,  1.00000000e-01,\n",
       "         2.00000000e-01,  3.00000000e-01,  4.00000000e-01,\n",
       "         5.00000000e-01,  6.00000000e-01,  7.00000000e-01,\n",
       "         8.00000000e-01,  9.00000000e-01]])"
      ]
     },
     "execution_count": 26,
     "metadata": {},
     "output_type": "execute_result"
    }
   ],
   "source": [
    "X_T = np.transpose(X)\n",
    "X_T"
   ]
  },
  {
   "cell_type": "code",
   "execution_count": 30,
   "metadata": {},
   "outputs": [
    {
     "data": {
      "text/plain": [
       "array([[20. , -1. ],\n",
       "       [-1. ,  6.7]])"
      ]
     },
     "execution_count": 30,
     "metadata": {},
     "output_type": "execute_result"
    }
   ],
   "source": [
    "X_T_X = X_T @ X\n",
    "X_T_X"
   ]
  },
  {
   "cell_type": "code",
   "execution_count": 31,
   "metadata": {},
   "outputs": [
    {
     "data": {
      "text/plain": [
       "array([[0.05037594, 0.0075188 ],\n",
       "       [0.0075188 , 0.15037594]])"
      ]
     },
     "execution_count": 31,
     "metadata": {},
     "output_type": "execute_result"
    }
   ],
   "source": [
    "X_T_X_inv = np.linalg.inv(X_T_X)\n",
    "X_T_X_inv"
   ]
  },
  {
   "cell_type": "code",
   "execution_count": 32,
   "metadata": {},
   "outputs": [
    {
     "data": {
      "text/plain": [
       "array([-103.56133081,    9.43503749])"
      ]
     },
     "execution_count": 32,
     "metadata": {},
     "output_type": "execute_result"
    }
   ],
   "source": [
    "X_T_y = X_T @ Y\n",
    "X_T_y"
   ]
  },
  {
   "cell_type": "code",
   "execution_count": 33,
   "metadata": {},
   "outputs": [
    {
     "data": {
      "text/plain": [
       "array([-5.14605924,  0.64014601])"
      ]
     },
     "execution_count": 33,
     "metadata": {},
     "output_type": "execute_result"
    }
   ],
   "source": [
    "X_T_y @ X_T_X_inv"
   ]
  },
  {
   "cell_type": "code",
   "execution_count": null,
   "metadata": {},
   "outputs": [],
   "source": []
  }
 ],
 "metadata": {
  "kernelspec": {
   "display_name": "base",
   "language": "python",
   "name": "python3"
  },
  "language_info": {
   "codemirror_mode": {
    "name": "ipython",
    "version": 3
   },
   "file_extension": ".py",
   "mimetype": "text/x-python",
   "name": "python",
   "nbconvert_exporter": "python",
   "pygments_lexer": "ipython3",
   "version": "3.12.7"
  }
 },
 "nbformat": 4,
 "nbformat_minor": 2
}
