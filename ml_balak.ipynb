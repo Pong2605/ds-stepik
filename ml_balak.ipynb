{
 "cells": [
  {
   "cell_type": "code",
   "execution_count": null,
   "metadata": {},
   "outputs": [],
   "source": [
    "# Среднеквадратическая ошибка (MSE).\n",
    "\n",
    "# Даны матрица с наблюдениями, вектор с ответами и вектор с весовыми коэффициентами и записаны в переменные X, y и w соответственно. \n",
    "# Рассчитайте среднеквадратическую ошибку по формуле\n",
    "\n",
    "# loss = ((y - X @ w)**2).mean(axis=0)"
   ]
  },
  {
   "cell_type": "code",
   "execution_count": null,
   "metadata": {},
   "outputs": [],
   "source": []
  }
 ],
 "metadata": {
  "kernelspec": {
   "display_name": "base",
   "language": "python",
   "name": "python3"
  },
  "language_info": {
   "name": "python",
   "version": "3.12.0"
  }
 },
 "nbformat": 4,
 "nbformat_minor": 2
}
