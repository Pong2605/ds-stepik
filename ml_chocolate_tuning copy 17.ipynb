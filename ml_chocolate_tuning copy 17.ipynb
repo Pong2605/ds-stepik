{
 "cells": [
  {
   "cell_type": "markdown",
   "id": "9a21014b",
   "metadata": {},
   "source": [
    "<h1><b>Задача по предсказанию рейтинга шоколада"
   ]
  },
  {
   "cell_type": "markdown",
   "id": "d1ba85e3",
   "metadata": {},
   "source": [
    "<h3><b>Никнейм на Kaggle: "
   ]
  },
  {
   "cell_type": "markdown",
   "id": "e919e9b0",
   "metadata": {},
   "source": [
    "# Описание задачи"
   ]
  },
  {
   "cell_type": "code",
   "execution_count": 1,
   "id": "4b4ef540",
   "metadata": {},
   "outputs": [],
   "source": [
    "# Даны характеристики шоколадок и по ним нужно предсказать их рейтинг.\n",
    "\n",
    "# Описание данных\n",
    "# Company - компания производитель\n",
    "# Specific Bean Origin - географический регион происхождения\n",
    "# REF - параметр, определяющий момент внесения записи в базу данных (чем выше значение, тем \"свежее\" запись)\n",
    "# Review - дата публикации отзыва\n",
    "# Cocoa Percent - процентное содержание какао\n",
    "# Company Location - страна производитель\n",
    "# Rating - экспертный рейтинг\n",
    "# Bean Type - используемый сорт какао-бобов, если таковой имеется\n",
    "# Broad Bean Origin - географический регион происхождения какао-бобов\n",
    "\n",
    "# Файлы с данными\n",
    "# choco_train.csv - тренировочные данные\n",
    "# choco_test_new.csv - тестовые данные\n",
    "# choco_sample_submission.csv - пример submission"
   ]
  },
  {
   "cell_type": "markdown",
   "id": "b8029c27",
   "metadata": {},
   "source": [
    "# Импорт библиотек, константы"
   ]
  },
  {
   "cell_type": "code",
   "execution_count": 2,
   "id": "6a56350b",
   "metadata": {},
   "outputs": [],
   "source": [
    "import pandas as pd\n",
    "import numpy as np\n",
    "import matplotlib.pyplot as plt\n",
    "import seaborn as sns"
   ]
  },
  {
   "cell_type": "code",
   "execution_count": 3,
   "id": "eff28139",
   "metadata": {},
   "outputs": [],
   "source": [
    "import warnings\n",
    "warnings.filterwarnings(\"ignore\")"
   ]
  },
  {
   "cell_type": "code",
   "execution_count": 4,
   "id": "78bc245d",
   "metadata": {},
   "outputs": [],
   "source": [
    "from sklearn.preprocessing import MinMaxScaler, StandardScaler, PolynomialFeatures\n",
    "from category_encoders.ordinal import OrdinalEncoder\n",
    "from category_encoders.one_hot import OneHotEncoder\n",
    "from category_encoders.target_encoder import TargetEncoder\n",
    "from category_encoders.leave_one_out import LeaveOneOutEncoder"
   ]
  },
  {
   "cell_type": "code",
   "execution_count": 5,
   "id": "88a7517d",
   "metadata": {},
   "outputs": [],
   "source": [
    "from sklearn.linear_model import LinearRegression\n",
    "from sklearn.ensemble import RandomForestRegressor\n",
    "from catboost import CatBoostRegressor\n",
    "from xgboost import XGBRegressor\n",
    "from lightgbm import LGBMRanker, LGBMRegressor\n",
    "from sklearn.ensemble import GradientBoostingRegressor\n",
    "from sklearn.ensemble import StackingRegressor\n",
    "import optuna"
   ]
  },
  {
   "cell_type": "code",
   "execution_count": 6,
   "id": "55bbc4a3",
   "metadata": {},
   "outputs": [],
   "source": [
    "import association_metrics as am\n",
    "from sklearn.model_selection import cross_val_score, train_test_split\n",
    "from sklearn.metrics import mean_absolute_percentage_error as MAPE, mean_absolute_error as MAE, r2_score, mean_squared_error as MSE\n",
    "from scipy import stats\n",
    "\n",
    "from sklearn.pipeline import Pipeline"
   ]
  },
  {
   "cell_type": "code",
   "execution_count": 7,
   "id": "2db69993",
   "metadata": {},
   "outputs": [],
   "source": [
    "RANDOM_STATE = 42"
   ]
  },
  {
   "cell_type": "markdown",
   "id": "bd1674e8",
   "metadata": {},
   "source": [
    "# Загрузка данных"
   ]
  },
  {
   "cell_type": "code",
   "execution_count": 45,
   "id": "8ea52aa1",
   "metadata": {},
   "outputs": [],
   "source": [
    "# TRAIN = \"https://raw.githubusercontent.com/evgpat/edu_stepik_practical_ml/main/datasets/chocolate_train.csv\"\n",
    "# TEST = \"https://raw.githubusercontent.com/evgpat/edu_stepik_practical_ml/main/datasets/chocolate_test_new.csv\"\n",
    "TRAIN = 'data\\chocolate-rating\\chocolate_train.csv'\n",
    "TEST = 'data\\chocolate-rating\\chocolate_test_new.csv'"
   ]
  },
  {
   "cell_type": "code",
   "execution_count": 46,
   "id": "11811db4",
   "metadata": {},
   "outputs": [],
   "source": [
    "train_df = pd.read_csv(TRAIN)"
   ]
  },
  {
   "cell_type": "code",
   "execution_count": 47,
   "id": "96aa66cf",
   "metadata": {},
   "outputs": [],
   "source": [
    "test_df = pd.read_csv(TEST)"
   ]
  },
  {
   "cell_type": "code",
   "execution_count": 48,
   "id": "ce37f6d1",
   "metadata": {},
   "outputs": [
    {
     "data": {
      "text/plain": [
       "'\\xa0'"
      ]
     },
     "execution_count": 48,
     "metadata": {},
     "output_type": "execute_result"
    }
   ],
   "source": [
    "train_df['Bean Type'].value_counts().index[0]"
   ]
  },
  {
   "cell_type": "code",
   "execution_count": 49,
   "id": "d99760c4",
   "metadata": {},
   "outputs": [],
   "source": [
    "train_df = train_df.replace('\\xa0', np.NaN)\n",
    "test_df = test_df.replace('\\xa0', np.NaN)"
   ]
  },
  {
   "cell_type": "markdown",
   "id": "37b1b133",
   "metadata": {},
   "source": [
    "# Обзор данных"
   ]
  },
  {
   "cell_type": "markdown",
   "id": "28d31ec6",
   "metadata": {},
   "source": [
    "Описание данных\n",
    "* Company - компания производитель\n",
    "* Specific Bean Origin - географический регион происхождения\n",
    "* REF - параметр, определяющий момент внесения записи в базу данных (чем выше значение, тем \"свежее\" запись)\n",
    "* Review - дата публикации отзыва\n",
    "* Cocoa Percent - процентное содержание какао\n",
    "* Company Location - страна производитель\n",
    "* Rating - экспертный рейтинг\n",
    "* Bean Type - используемый сорт какао-бобов, если таковой имеется\n",
    "* Broad Bean Origin - географический регион происхождения какао-бобов"
   ]
  },
  {
   "cell_type": "code",
   "execution_count": 50,
   "id": "94a85a6a",
   "metadata": {},
   "outputs": [
    {
     "data": {
      "text/html": [
       "<div>\n",
       "<style scoped>\n",
       "    .dataframe tbody tr th:only-of-type {\n",
       "        vertical-align: middle;\n",
       "    }\n",
       "\n",
       "    .dataframe tbody tr th {\n",
       "        vertical-align: top;\n",
       "    }\n",
       "\n",
       "    .dataframe thead th {\n",
       "        text-align: right;\n",
       "    }\n",
       "</style>\n",
       "<table border=\"1\" class=\"dataframe\">\n",
       "  <thead>\n",
       "    <tr style=\"text-align: right;\">\n",
       "      <th></th>\n",
       "      <th>Company</th>\n",
       "      <th>Specific Bean Origin</th>\n",
       "      <th>REF</th>\n",
       "      <th>Review</th>\n",
       "      <th>Cocoa Percent</th>\n",
       "      <th>Company Location</th>\n",
       "      <th>Rating</th>\n",
       "      <th>Bean Type</th>\n",
       "      <th>Broad Bean Origin</th>\n",
       "    </tr>\n",
       "  </thead>\n",
       "  <tbody>\n",
       "    <tr>\n",
       "      <th>0</th>\n",
       "      <td>Willie's Cacao</td>\n",
       "      <td>Rio Caribe</td>\n",
       "      <td>457</td>\n",
       "      <td>2009</td>\n",
       "      <td>72%</td>\n",
       "      <td>U.K.</td>\n",
       "      <td>3.25</td>\n",
       "      <td>Trinitario</td>\n",
       "      <td>Venezuela</td>\n",
       "    </tr>\n",
       "    <tr>\n",
       "      <th>1</th>\n",
       "      <td>Beschle (Felchlin)</td>\n",
       "      <td>Ocumare, Premier Cru, Quizas No. 2</td>\n",
       "      <td>508</td>\n",
       "      <td>2010</td>\n",
       "      <td>72%</td>\n",
       "      <td>Switzerland</td>\n",
       "      <td>3.50</td>\n",
       "      <td>NaN</td>\n",
       "      <td>Venezuela</td>\n",
       "    </tr>\n",
       "    <tr>\n",
       "      <th>2</th>\n",
       "      <td>Dark Forest</td>\n",
       "      <td>Tanzania</td>\n",
       "      <td>1554</td>\n",
       "      <td>2015</td>\n",
       "      <td>70%</td>\n",
       "      <td>U.S.A.</td>\n",
       "      <td>3.00</td>\n",
       "      <td>NaN</td>\n",
       "      <td>Tanzania</td>\n",
       "    </tr>\n",
       "    <tr>\n",
       "      <th>3</th>\n",
       "      <td>Brasstown aka It's Chocolate</td>\n",
       "      <td>Cooproagro</td>\n",
       "      <td>1125</td>\n",
       "      <td>2013</td>\n",
       "      <td>72%</td>\n",
       "      <td>U.S.A.</td>\n",
       "      <td>3.00</td>\n",
       "      <td>Trinitario</td>\n",
       "      <td>Dominican Republic</td>\n",
       "    </tr>\n",
       "    <tr>\n",
       "      <th>4</th>\n",
       "      <td>Pralus</td>\n",
       "      <td>Java, Indonesie</td>\n",
       "      <td>32</td>\n",
       "      <td>2006</td>\n",
       "      <td>75%</td>\n",
       "      <td>France</td>\n",
       "      <td>3.50</td>\n",
       "      <td>Criollo</td>\n",
       "      <td>Indonesia</td>\n",
       "    </tr>\n",
       "  </tbody>\n",
       "</table>\n",
       "</div>"
      ],
      "text/plain": [
       "                        Company                Specific Bean Origin   REF  \\\n",
       "0                Willie's Cacao                          Rio Caribe   457   \n",
       "1            Beschle (Felchlin)  Ocumare, Premier Cru, Quizas No. 2   508   \n",
       "2                   Dark Forest                            Tanzania  1554   \n",
       "3  Brasstown aka It's Chocolate                          Cooproagro  1125   \n",
       "4                        Pralus                     Java, Indonesie    32   \n",
       "\n",
       "   Review Cocoa Percent Company Location  Rating   Bean Type  \\\n",
       "0    2009           72%             U.K.    3.25  Trinitario   \n",
       "1    2010           72%      Switzerland    3.50         NaN   \n",
       "2    2015           70%           U.S.A.    3.00         NaN   \n",
       "3    2013           72%           U.S.A.    3.00  Trinitario   \n",
       "4    2006           75%           France    3.50     Criollo   \n",
       "\n",
       "    Broad Bean Origin  \n",
       "0           Venezuela  \n",
       "1           Venezuela  \n",
       "2            Tanzania  \n",
       "3  Dominican Republic  \n",
       "4           Indonesia  "
      ]
     },
     "execution_count": 50,
     "metadata": {},
     "output_type": "execute_result"
    }
   ],
   "source": [
    "train_df.head()"
   ]
  },
  {
   "cell_type": "code",
   "execution_count": 51,
   "id": "72bbaad8",
   "metadata": {},
   "outputs": [
    {
     "data": {
      "text/plain": [
       "Company                 376\n",
       "Specific Bean Origin    762\n",
       "REF                     433\n",
       "Review                   12\n",
       "Cocoa Percent            40\n",
       "Company Location         58\n",
       "Rating                   13\n",
       "Bean Type                37\n",
       "Broad Bean Origin        83\n",
       "dtype: int64"
      ]
     },
     "execution_count": 51,
     "metadata": {},
     "output_type": "execute_result"
    }
   ],
   "source": [
    "train_df.nunique()"
   ]
  },
  {
   "cell_type": "code",
   "execution_count": 52,
   "id": "174f3932",
   "metadata": {},
   "outputs": [
    {
     "data": {
      "text/html": [
       "<div>\n",
       "<style scoped>\n",
       "    .dataframe tbody tr th:only-of-type {\n",
       "        vertical-align: middle;\n",
       "    }\n",
       "\n",
       "    .dataframe tbody tr th {\n",
       "        vertical-align: top;\n",
       "    }\n",
       "\n",
       "    .dataframe thead th {\n",
       "        text-align: right;\n",
       "    }\n",
       "</style>\n",
       "<table border=\"1\" class=\"dataframe\">\n",
       "  <thead>\n",
       "    <tr style=\"text-align: right;\">\n",
       "      <th></th>\n",
       "      <th>Company</th>\n",
       "      <th>Specific Bean Origin</th>\n",
       "      <th>REF</th>\n",
       "      <th>Review</th>\n",
       "      <th>Cocoa Percent</th>\n",
       "      <th>Company Location</th>\n",
       "      <th>Bean Type</th>\n",
       "      <th>Broad Bean Origin</th>\n",
       "    </tr>\n",
       "  </thead>\n",
       "  <tbody>\n",
       "    <tr>\n",
       "      <th>0</th>\n",
       "      <td>Ohiyo</td>\n",
       "      <td>San Juan Estate, Gran Couva</td>\n",
       "      <td>1594</td>\n",
       "      <td>2015</td>\n",
       "      <td>70%</td>\n",
       "      <td>U.S.A.</td>\n",
       "      <td>Trinitario</td>\n",
       "      <td>Trinidad</td>\n",
       "    </tr>\n",
       "    <tr>\n",
       "      <th>1</th>\n",
       "      <td>Blanxart</td>\n",
       "      <td>Organic Dark</td>\n",
       "      <td>322</td>\n",
       "      <td>2009</td>\n",
       "      <td>72%</td>\n",
       "      <td>Spain</td>\n",
       "      <td>NaN</td>\n",
       "      <td>NaN</td>\n",
       "    </tr>\n",
       "    <tr>\n",
       "      <th>2</th>\n",
       "      <td>Brazen</td>\n",
       "      <td>Maya Mountain</td>\n",
       "      <td>1518</td>\n",
       "      <td>2015</td>\n",
       "      <td>80%</td>\n",
       "      <td>U.S.A.</td>\n",
       "      <td>Trinitario</td>\n",
       "      <td>Belize</td>\n",
       "    </tr>\n",
       "    <tr>\n",
       "      <th>3</th>\n",
       "      <td>Patric</td>\n",
       "      <td>Madagascar</td>\n",
       "      <td>439</td>\n",
       "      <td>2009</td>\n",
       "      <td>67%</td>\n",
       "      <td>U.S.A.</td>\n",
       "      <td>Trinitario</td>\n",
       "      <td>Madagascar</td>\n",
       "    </tr>\n",
       "    <tr>\n",
       "      <th>4</th>\n",
       "      <td>Potomac</td>\n",
       "      <td>Upala, Batch 12</td>\n",
       "      <td>607</td>\n",
       "      <td>2010</td>\n",
       "      <td>82%</td>\n",
       "      <td>U.S.A.</td>\n",
       "      <td>Matina</td>\n",
       "      <td>Costa Rica</td>\n",
       "    </tr>\n",
       "  </tbody>\n",
       "</table>\n",
       "</div>"
      ],
      "text/plain": [
       "    Company         Specific Bean Origin   REF  Review Cocoa Percent  \\\n",
       "0     Ohiyo  San Juan Estate, Gran Couva  1594    2015           70%   \n",
       "1  Blanxart                 Organic Dark   322    2009           72%   \n",
       "2    Brazen                Maya Mountain  1518    2015           80%   \n",
       "3    Patric                   Madagascar   439    2009           67%   \n",
       "4   Potomac              Upala, Batch 12   607    2010           82%   \n",
       "\n",
       "  Company Location   Bean Type Broad Bean Origin  \n",
       "0           U.S.A.  Trinitario          Trinidad  \n",
       "1            Spain         NaN               NaN  \n",
       "2           U.S.A.  Trinitario            Belize  \n",
       "3           U.S.A.  Trinitario        Madagascar  \n",
       "4           U.S.A.      Matina        Costa Rica  "
      ]
     },
     "execution_count": 52,
     "metadata": {},
     "output_type": "execute_result"
    }
   ],
   "source": [
    "test_df.head()"
   ]
  },
  {
   "cell_type": "code",
   "execution_count": 53,
   "id": "88fef9a4",
   "metadata": {},
   "outputs": [
    {
     "data": {
      "text/plain": [
       "Company                 244\n",
       "Specific Bean Origin    385\n",
       "REF                     338\n",
       "Review                   12\n",
       "Cocoa Percent            38\n",
       "Company Location         42\n",
       "Bean Type                19\n",
       "Broad Bean Origin        59\n",
       "dtype: int64"
      ]
     },
     "execution_count": 53,
     "metadata": {},
     "output_type": "execute_result"
    }
   ],
   "source": [
    "test_df.nunique()"
   ]
  },
  {
   "cell_type": "code",
   "execution_count": 54,
   "id": "cffb0a1b",
   "metadata": {},
   "outputs": [],
   "source": [
    "df_concat = pd.concat([train_df, test_df], axis=0)"
   ]
  },
  {
   "cell_type": "code",
   "execution_count": 55,
   "id": "65a8b848",
   "metadata": {},
   "outputs": [],
   "source": [
    "cols_temp = ['Company', 'Specific Bean Origin', 'Cocoa Percent',\n",
    "       'Company Location', 'Bean Type', 'Broad Bean Origin']"
   ]
  },
  {
   "cell_type": "code",
   "execution_count": 56,
   "id": "1c344412",
   "metadata": {},
   "outputs": [],
   "source": [
    "from association_metrics import CramersV\n",
    "\n",
    "cramer_df = df_concat[cols_temp]\n",
    "cramer_df = cramer_df.astype('category')\n",
    "\n",
    "cramer = CramersV(cramer_df)\n",
    "cramer = cramer.fit()"
   ]
  },
  {
   "cell_type": "code",
   "execution_count": 57,
   "id": "a46d6968",
   "metadata": {},
   "outputs": [
    {
     "data": {
      "image/png": "[encoded data removed]",
      "text/plain": [
       "<Figure size 640x480 with 2 Axes>"
      ]
     },
     "metadata": {},
     "output_type": "display_data"
    }
   ],
   "source": [
    "import seaborn as sns\n",
    "\n",
    "sns.heatmap(cramer, cmap='Blues', annot=True);"
   ]
  },
  {
   "cell_type": "code",
   "execution_count": 58,
   "id": "24424118",
   "metadata": {},
   "outputs": [],
   "source": [
    "def select_top3_corr_cols(col_in):\n",
    "    select_df = cramer[col_in].sort_values(ascending=False)\n",
    "    return select_df[1:4].index.to_list()"
   ]
  },
  {
   "cell_type": "code",
   "execution_count": 59,
   "id": "bd6eb3cf",
   "metadata": {},
   "outputs": [],
   "source": [
    "def get_temp_df(col_in, col_on):\n",
    "    temp_df = df_concat.groupby(col_on)[col_in] \\\n",
    "                        .agg(lambda x: np.random.choice(x.mode()) if len(x.mode()) > 0 else np.NaN) \\\n",
    "                        .dropna().reset_index()\n",
    "    return temp_df"
   ]
  },
  {
   "cell_type": "code",
   "execution_count": 60,
   "id": "10175fe5",
   "metadata": {},
   "outputs": [],
   "source": [
    "def fill_rows(row, col_on, temp_df):\n",
    "    for variants, category in temp_df.values:\n",
    "        if row[col_on] == variants:\n",
    "            return category\n",
    "    return np.NaN"
   ]
  },
  {
   "cell_type": "code",
   "execution_count": 61,
   "id": "9a4ba064",
   "metadata": {},
   "outputs": [
    {
     "data": {
      "text/plain": [
       "Company                   0\n",
       "Specific Bean Origin      0\n",
       "REF                       0\n",
       "Review                    0\n",
       "Cocoa Percent             0\n",
       "Company Location          0\n",
       "Rating                    0\n",
       "Bean Type               629\n",
       "Broad Bean Origin        56\n",
       "dtype: int64"
      ]
     },
     "execution_count": 61,
     "metadata": {},
     "output_type": "execute_result"
    }
   ],
   "source": [
    "train_df.isna().sum()"
   ]
  },
  {
   "cell_type": "code",
   "execution_count": 62,
   "id": "08bd1c4e",
   "metadata": {},
   "outputs": [],
   "source": [
    "def prepared_df(df, col_in):\n",
    "    selected_cols = select_top3_corr_cols(col_in)\n",
    "    print(selected_cols)\n",
    "    for col_on in selected_cols:\n",
    "        temp_df = get_temp_df(col_in, col_on)\n",
    "        df[col_in] = df.apply(lambda row: fill_rows(row, col_on, temp_df) if row[col_in] is np.NaN else row[col_in], axis=1)\n",
    "        df[col_in] = df[col_in].fillna('Other')"
   ]
  },
  {
   "cell_type": "code",
   "execution_count": 63,
   "id": "ad6358e8",
   "metadata": {},
   "outputs": [
    {
     "name": "stdout",
     "output_type": "stream",
     "text": [
      "['Specific Bean Origin', 'Company', 'Broad Bean Origin']\n",
      "['Specific Bean Origin', 'Company', 'Bean Type']\n",
      "['Specific Bean Origin', 'Company', 'Broad Bean Origin']\n",
      "['Specific Bean Origin', 'Company', 'Bean Type']\n"
     ]
    }
   ],
   "source": [
    "cols_in = ['Bean Type', 'Broad Bean Origin']\n",
    "\n",
    "for col_in in cols_in:\n",
    "    prepared_df(train_df, col_in)\n",
    "\n",
    "for col_in in cols_in:\n",
    "    prepared_df(test_df, col_in)"
   ]
  },
  {
   "cell_type": "code",
   "execution_count": 64,
   "id": "58ca51c6",
   "metadata": {},
   "outputs": [
    {
     "data": {
      "text/plain": [
       "Company                 0\n",
       "Specific Bean Origin    0\n",
       "REF                     0\n",
       "Review                  0\n",
       "Cocoa Percent           0\n",
       "Company Location        0\n",
       "Rating                  0\n",
       "Bean Type               0\n",
       "Broad Bean Origin       0\n",
       "dtype: int64"
      ]
     },
     "execution_count": 64,
     "metadata": {},
     "output_type": "execute_result"
    }
   ],
   "source": [
    "train_df.isna().sum()"
   ]
  },
  {
   "cell_type": "code",
   "execution_count": 65,
   "id": "d0cc06cc",
   "metadata": {},
   "outputs": [],
   "source": [
    "train_df = train_df.replace('\\xa0', np.NaN)\n",
    "train_df['Cocoa Percent'] = train_df['Cocoa Percent'].str.rstrip('%').astype(np.float16)\n",
    "train_df['Review'] = train_df['Review'].astype('object')\n",
    "\n",
    "test_df = test_df.replace('\\xa0', np.NaN)\n",
    "test_df['Cocoa Percent'] = test_df['Cocoa Percent'].str.rstrip('%').astype(np.float16)\n",
    "test_df['Review'] = test_df['Review'].astype('object')"
   ]
  },
  {
   "cell_type": "code",
   "execution_count": 66,
   "id": "b703fd89",
   "metadata": {},
   "outputs": [],
   "source": [
    "# Словарь маппинга для разновидностей какао сорта\n",
    "cacao_map = {\n",
    "'Criollo': ['Criollo', 'Criollo (Porcelana)', 'Criollo (Amarru)', 'Criollo (Ocumare 77)', 'Criollo (Ocumare 67)',\n",
    "'Criollo (Ocumare 61)', 'Criollo (Ocumare)', 'Criollo (Wild)', 'Criollo, +'],\n",
    "'Trinitario': ['Trinitario', 'Trinitario (Amelonado)', 'Trinitario, TCGA', 'Trinitario (85% Criollo)'],\n",
    "'Forastero': ['Forastero', 'Forastero (Arriba)', 'Forastero (Arriba) ASS', 'Forastero (Arriba) ASSS',\n",
    "'Forastero (Nacional)', 'Forastero (Parazinho)', 'Forastero (Catongo)', 'Forastero (Amelonado)'],\n",
    "'Nacional': ['Nacional', 'Nacional (Arriba)'],\n",
    "'Amazonian': ['Amazon', 'Amazon mix', 'Amazon, ICS'],\n",
    "'Blend': ['Criollo, Trinitario', 'Trinitario, Criollo', 'Trinitario, Forastero', 'Forastero, Trinitario',\n",
    "'Trinitario, Nacional', 'Criollo, Forastero', 'Blend-Forastero,Criollo', 'Blend']\n",
    "}\n",
    "\n",
    "# Функция для маппинга типов какао\n",
    "def map_cacao_type(value):\n",
    "    for category, variants in cacao_map.items():\n",
    "        if value in variants:\n",
    "            return category\n",
    "    return value"
   ]
  },
  {
   "cell_type": "code",
   "execution_count": 67,
   "id": "c3384976",
   "metadata": {},
   "outputs": [],
   "source": [
    "train_df['Bean Type'] = train_df['Bean Type'].apply(map_cacao_type)\n",
    "test_df['Bean Type'] = test_df['Bean Type'].apply(map_cacao_type)"
   ]
  },
  {
   "cell_type": "code",
   "execution_count": 68,
   "id": "dbef6119",
   "metadata": {},
   "outputs": [
    {
     "data": {
      "text/html": [
       "<div>\n",
       "<style scoped>\n",
       "    .dataframe tbody tr th:only-of-type {\n",
       "        vertical-align: middle;\n",
       "    }\n",
       "\n",
       "    .dataframe tbody tr th {\n",
       "        vertical-align: top;\n",
       "    }\n",
       "\n",
       "    .dataframe thead th {\n",
       "        text-align: right;\n",
       "    }\n",
       "</style>\n",
       "<table border=\"1\" class=\"dataframe\">\n",
       "  <thead>\n",
       "    <tr style=\"text-align: right;\">\n",
       "      <th></th>\n",
       "      <th>Company</th>\n",
       "      <th>Specific Bean Origin</th>\n",
       "      <th>REF</th>\n",
       "      <th>Review</th>\n",
       "      <th>Cocoa Percent</th>\n",
       "      <th>Company Location</th>\n",
       "      <th>Rating</th>\n",
       "      <th>Bean Type</th>\n",
       "      <th>Broad Bean Origin</th>\n",
       "    </tr>\n",
       "  </thead>\n",
       "  <tbody>\n",
       "    <tr>\n",
       "      <th>0</th>\n",
       "      <td>Willie's Cacao</td>\n",
       "      <td>Rio Caribe</td>\n",
       "      <td>457</td>\n",
       "      <td>2009</td>\n",
       "      <td>72.0</td>\n",
       "      <td>U.K.</td>\n",
       "      <td>3.25</td>\n",
       "      <td>Trinitario</td>\n",
       "      <td>Venezuela</td>\n",
       "    </tr>\n",
       "    <tr>\n",
       "      <th>1</th>\n",
       "      <td>Beschle (Felchlin)</td>\n",
       "      <td>Ocumare, Premier Cru, Quizas No. 2</td>\n",
       "      <td>508</td>\n",
       "      <td>2010</td>\n",
       "      <td>72.0</td>\n",
       "      <td>Switzerland</td>\n",
       "      <td>3.50</td>\n",
       "      <td>Other</td>\n",
       "      <td>Venezuela</td>\n",
       "    </tr>\n",
       "    <tr>\n",
       "      <th>2</th>\n",
       "      <td>Dark Forest</td>\n",
       "      <td>Tanzania</td>\n",
       "      <td>1554</td>\n",
       "      <td>2015</td>\n",
       "      <td>70.0</td>\n",
       "      <td>U.S.A.</td>\n",
       "      <td>3.00</td>\n",
       "      <td>Criollo</td>\n",
       "      <td>Tanzania</td>\n",
       "    </tr>\n",
       "    <tr>\n",
       "      <th>3</th>\n",
       "      <td>Brasstown aka It's Chocolate</td>\n",
       "      <td>Cooproagro</td>\n",
       "      <td>1125</td>\n",
       "      <td>2013</td>\n",
       "      <td>72.0</td>\n",
       "      <td>U.S.A.</td>\n",
       "      <td>3.00</td>\n",
       "      <td>Trinitario</td>\n",
       "      <td>Dominican Republic</td>\n",
       "    </tr>\n",
       "    <tr>\n",
       "      <th>4</th>\n",
       "      <td>Pralus</td>\n",
       "      <td>Java, Indonesie</td>\n",
       "      <td>32</td>\n",
       "      <td>2006</td>\n",
       "      <td>75.0</td>\n",
       "      <td>France</td>\n",
       "      <td>3.50</td>\n",
       "      <td>Criollo</td>\n",
       "      <td>Indonesia</td>\n",
       "    </tr>\n",
       "  </tbody>\n",
       "</table>\n",
       "</div>"
      ],
      "text/plain": [
       "                        Company                Specific Bean Origin   REF  \\\n",
       "0                Willie's Cacao                          Rio Caribe   457   \n",
       "1            Beschle (Felchlin)  Ocumare, Premier Cru, Quizas No. 2   508   \n",
       "2                   Dark Forest                            Tanzania  1554   \n",
       "3  Brasstown aka It's Chocolate                          Cooproagro  1125   \n",
       "4                        Pralus                     Java, Indonesie    32   \n",
       "\n",
       "  Review  Cocoa Percent Company Location  Rating   Bean Type  \\\n",
       "0   2009           72.0             U.K.    3.25  Trinitario   \n",
       "1   2010           72.0      Switzerland    3.50       Other   \n",
       "2   2015           70.0           U.S.A.    3.00     Criollo   \n",
       "3   2013           72.0           U.S.A.    3.00  Trinitario   \n",
       "4   2006           75.0           France    3.50     Criollo   \n",
       "\n",
       "    Broad Bean Origin  \n",
       "0           Venezuela  \n",
       "1           Venezuela  \n",
       "2            Tanzania  \n",
       "3  Dominican Republic  \n",
       "4           Indonesia  "
      ]
     },
     "execution_count": 68,
     "metadata": {},
     "output_type": "execute_result"
    }
   ],
   "source": [
    "train_df.head()"
   ]
  },
  {
   "cell_type": "code",
   "execution_count": 69,
   "id": "949c0d7f",
   "metadata": {},
   "outputs": [
    {
     "data": {
      "text/plain": [
       "Company                  object\n",
       "Specific Bean Origin     object\n",
       "REF                       int64\n",
       "Review                   object\n",
       "Cocoa Percent           float16\n",
       "Company Location         object\n",
       "Rating                  float64\n",
       "Bean Type                object\n",
       "Broad Bean Origin        object\n",
       "dtype: object"
      ]
     },
     "execution_count": 69,
     "metadata": {},
     "output_type": "execute_result"
    }
   ],
   "source": [
    "train_df.dtypes"
   ]
  },
  {
   "cell_type": "markdown",
   "id": "2391a43a",
   "metadata": {},
   "source": []
  },
  {
   "cell_type": "code",
   "execution_count": 70,
   "id": "b13808eb",
   "metadata": {},
   "outputs": [],
   "source": [
    "['Company', 'Specific Bean Origin', 'REF', 'Review', 'Cocoa Percent',\n",
    "'Company Location', 'Bean Type', 'Broad Bean Origin']\n",
    "\n",
    "cols = ['Company', 'Specific Bean Origin', 'REF', 'Review', 'Cocoa Percent',\n",
    "'Company Location', 'Bean Type', 'Broad Bean Origin']"
   ]
  },
  {
   "cell_type": "code",
   "execution_count": 71,
   "id": "07b8637a",
   "metadata": {},
   "outputs": [],
   "source": [
    "X = train_df[cols]\n",
    "target = train_df['Rating']\n",
    "test = test_df[cols]"
   ]
  },
  {
   "cell_type": "code",
   "execution_count": 72,
   "id": "f185521f",
   "metadata": {},
   "outputs": [],
   "source": [
    "mm_scaler = MinMaxScaler()\n",
    "scaler = StandardScaler()\n",
    "\n",
    "X['REF'] = mm_scaler.fit_transform(X[['REF']])  \n",
    "test['REF'] = mm_scaler.transform(test[['REF']])"
   ]
  },
  {
   "cell_type": "code",
   "execution_count": 73,
   "id": "8f1d3f6e",
   "metadata": {},
   "outputs": [],
   "source": [
    "mm_scaler = MinMaxScaler()\n",
    "\n",
    "X['Cocoa Percent'] = mm_scaler.fit_transform(X[['Cocoa Percent']])  \n",
    "test['Cocoa Percent'] = mm_scaler.transform(test[['Cocoa Percent']])"
   ]
  },
  {
   "cell_type": "code",
   "execution_count": 74,
   "id": "4486724c",
   "metadata": {},
   "outputs": [],
   "source": [
    "# label_enc = LabelEncoder()\n",
    "# temp_df = pd.concat([X, test], axis=0)\n",
    "# label_enc.fit(temp_df['Bean Type'])\n",
    "# X['Bean Type'] = label_enc.transform(X['Bean Type'])  \n",
    "# test['Bean Type'] = label_enc.transform(cleaned_test['Bean Type'])"
   ]
  },
  {
   "cell_type": "code",
   "execution_count": 75,
   "id": "0f8a3221",
   "metadata": {},
   "outputs": [
    {
     "data": {
      "text/html": [
       "<div>\n",
       "<style scoped>\n",
       "    .dataframe tbody tr th:only-of-type {\n",
       "        vertical-align: middle;\n",
       "    }\n",
       "\n",
       "    .dataframe tbody tr th {\n",
       "        vertical-align: top;\n",
       "    }\n",
       "\n",
       "    .dataframe thead th {\n",
       "        text-align: right;\n",
       "    }\n",
       "</style>\n",
       "<table border=\"1\" class=\"dataframe\">\n",
       "  <thead>\n",
       "    <tr style=\"text-align: right;\">\n",
       "      <th></th>\n",
       "      <th>Company</th>\n",
       "      <th>Specific Bean Origin</th>\n",
       "      <th>REF</th>\n",
       "      <th>Review</th>\n",
       "      <th>Cocoa Percent</th>\n",
       "      <th>Company Location</th>\n",
       "      <th>Bean Type</th>\n",
       "      <th>Broad Bean Origin</th>\n",
       "    </tr>\n",
       "  </thead>\n",
       "  <tbody>\n",
       "    <tr>\n",
       "      <th>0</th>\n",
       "      <td>Willie's Cacao</td>\n",
       "      <td>Rio Caribe</td>\n",
       "      <td>0.232152</td>\n",
       "      <td>2009</td>\n",
       "      <td>0.481934</td>\n",
       "      <td>U.K.</td>\n",
       "      <td>Trinitario</td>\n",
       "      <td>Venezuela</td>\n",
       "    </tr>\n",
       "    <tr>\n",
       "      <th>1</th>\n",
       "      <td>Beschle (Felchlin)</td>\n",
       "      <td>Ocumare, Premier Cru, Quizas No. 2</td>\n",
       "      <td>0.258346</td>\n",
       "      <td>2010</td>\n",
       "      <td>0.481934</td>\n",
       "      <td>Switzerland</td>\n",
       "      <td>Other</td>\n",
       "      <td>Venezuela</td>\n",
       "    </tr>\n",
       "    <tr>\n",
       "      <th>2</th>\n",
       "      <td>Dark Forest</td>\n",
       "      <td>Tanzania</td>\n",
       "      <td>0.795583</td>\n",
       "      <td>2015</td>\n",
       "      <td>0.444824</td>\n",
       "      <td>U.S.A.</td>\n",
       "      <td>Criollo</td>\n",
       "      <td>Tanzania</td>\n",
       "    </tr>\n",
       "    <tr>\n",
       "      <th>3</th>\n",
       "      <td>Brasstown aka It's Chocolate</td>\n",
       "      <td>Cooproagro</td>\n",
       "      <td>0.575244</td>\n",
       "      <td>2013</td>\n",
       "      <td>0.481934</td>\n",
       "      <td>U.S.A.</td>\n",
       "      <td>Trinitario</td>\n",
       "      <td>Dominican Republic</td>\n",
       "    </tr>\n",
       "    <tr>\n",
       "      <th>4</th>\n",
       "      <td>Pralus</td>\n",
       "      <td>Java, Indonesie</td>\n",
       "      <td>0.013867</td>\n",
       "      <td>2006</td>\n",
       "      <td>0.537598</td>\n",
       "      <td>France</td>\n",
       "      <td>Criollo</td>\n",
       "      <td>Indonesia</td>\n",
       "    </tr>\n",
       "    <tr>\n",
       "      <th>...</th>\n",
       "      <td>...</td>\n",
       "      <td>...</td>\n",
       "      <td>...</td>\n",
       "      <td>...</td>\n",
       "      <td>...</td>\n",
       "      <td>...</td>\n",
       "      <td>...</td>\n",
       "      <td>...</td>\n",
       "    </tr>\n",
       "    <tr>\n",
       "      <th>1250</th>\n",
       "      <td>Artisan du Chocolat</td>\n",
       "      <td>Madagascar</td>\n",
       "      <td>0.183873</td>\n",
       "      <td>2009</td>\n",
       "      <td>0.630371</td>\n",
       "      <td>U.K.</td>\n",
       "      <td>Blend</td>\n",
       "      <td>Madagascar</td>\n",
       "    </tr>\n",
       "    <tr>\n",
       "      <th>1251</th>\n",
       "      <td>Marana</td>\n",
       "      <td>Cusco</td>\n",
       "      <td>0.965074</td>\n",
       "      <td>2016</td>\n",
       "      <td>0.444824</td>\n",
       "      <td>Peru</td>\n",
       "      <td>Other</td>\n",
       "      <td>Peru</td>\n",
       "    </tr>\n",
       "    <tr>\n",
       "      <th>1252</th>\n",
       "      <td>Arete</td>\n",
       "      <td>Nacional</td>\n",
       "      <td>0.785311</td>\n",
       "      <td>2015</td>\n",
       "      <td>0.407715</td>\n",
       "      <td>U.S.A.</td>\n",
       "      <td>Forastero</td>\n",
       "      <td>Peru</td>\n",
       "    </tr>\n",
       "    <tr>\n",
       "      <th>1253</th>\n",
       "      <td>Fresco</td>\n",
       "      <td>Conacado, #212, LR, SC</td>\n",
       "      <td>0.327170</td>\n",
       "      <td>2011</td>\n",
       "      <td>0.481934</td>\n",
       "      <td>U.S.A.</td>\n",
       "      <td>Other</td>\n",
       "      <td>Dominican Republic</td>\n",
       "    </tr>\n",
       "    <tr>\n",
       "      <th>1254</th>\n",
       "      <td>Zak's</td>\n",
       "      <td>Madagascar, Batch 2</td>\n",
       "      <td>0.807910</td>\n",
       "      <td>2015</td>\n",
       "      <td>0.444824</td>\n",
       "      <td>U.S.A.</td>\n",
       "      <td>Trinitario</td>\n",
       "      <td>Madagascar</td>\n",
       "    </tr>\n",
       "  </tbody>\n",
       "</table>\n",
       "<p>1255 rows × 8 columns</p>\n",
       "</div>"
      ],
      "text/plain": [
       "                           Company                Specific Bean Origin  \\\n",
       "0                   Willie's Cacao                          Rio Caribe   \n",
       "1               Beschle (Felchlin)  Ocumare, Premier Cru, Quizas No. 2   \n",
       "2                      Dark Forest                            Tanzania   \n",
       "3     Brasstown aka It's Chocolate                          Cooproagro   \n",
       "4                           Pralus                     Java, Indonesie   \n",
       "...                            ...                                 ...   \n",
       "1250           Artisan du Chocolat                          Madagascar   \n",
       "1251                        Marana                               Cusco   \n",
       "1252                         Arete                            Nacional   \n",
       "1253                        Fresco              Conacado, #212, LR, SC   \n",
       "1254                         Zak's                 Madagascar, Batch 2   \n",
       "\n",
       "           REF Review  Cocoa Percent Company Location   Bean Type  \\\n",
       "0     0.232152   2009       0.481934             U.K.  Trinitario   \n",
       "1     0.258346   2010       0.481934      Switzerland       Other   \n",
       "2     0.795583   2015       0.444824           U.S.A.     Criollo   \n",
       "3     0.575244   2013       0.481934           U.S.A.  Trinitario   \n",
       "4     0.013867   2006       0.537598           France     Criollo   \n",
       "...        ...    ...            ...              ...         ...   \n",
       "1250  0.183873   2009       0.630371             U.K.       Blend   \n",
       "1251  0.965074   2016       0.444824             Peru       Other   \n",
       "1252  0.785311   2015       0.407715           U.S.A.   Forastero   \n",
       "1253  0.327170   2011       0.481934           U.S.A.       Other   \n",
       "1254  0.807910   2015       0.444824           U.S.A.  Trinitario   \n",
       "\n",
       "       Broad Bean Origin  \n",
       "0              Venezuela  \n",
       "1              Venezuela  \n",
       "2               Tanzania  \n",
       "3     Dominican Republic  \n",
       "4              Indonesia  \n",
       "...                  ...  \n",
       "1250          Madagascar  \n",
       "1251                Peru  \n",
       "1252                Peru  \n",
       "1253  Dominican Republic  \n",
       "1254          Madagascar  \n",
       "\n",
       "[1255 rows x 8 columns]"
      ]
     },
     "execution_count": 75,
     "metadata": {},
     "output_type": "execute_result"
    }
   ],
   "source": [
    "X"
   ]
  },
  {
   "cell_type": "code",
   "execution_count": 76,
   "id": "a20f7d22",
   "metadata": {},
   "outputs": [
    {
     "data": {
      "text/plain": [
       "Company                  object\n",
       "Specific Bean Origin     object\n",
       "REF                     float64\n",
       "Review                   object\n",
       "Cocoa Percent           float16\n",
       "Company Location         object\n",
       "Bean Type                object\n",
       "Broad Bean Origin        object\n",
       "dtype: object"
      ]
     },
     "execution_count": 76,
     "metadata": {},
     "output_type": "execute_result"
    }
   ],
   "source": [
    "X.dtypes"
   ]
  },
  {
   "cell_type": "code",
   "execution_count": 77,
   "id": "dd4cb619",
   "metadata": {},
   "outputs": [],
   "source": [
    "cat_features = [i for i, col in enumerate(X.columns) if X[col].dtype.name in ['category', 'object']]"
   ]
  },
  {
   "cell_type": "markdown",
   "id": "4ef28dfc",
   "metadata": {},
   "source": [
    "## Обучение и подбор гиперпараметров"
   ]
  },
  {
   "cell_type": "code",
   "execution_count": 78,
   "id": "86db538e",
   "metadata": {},
   "outputs": [
    {
     "name": "stderr",
     "output_type": "stream",
     "text": [
      "[I 2025-05-12 11:20:56,692] A new study created in memory with name: no-name-52800a5b-b5ff-4e39-b6a2-0febb2750f25\n",
      "[I 2025-05-12 11:21:18,443] Trial 2 finished with value: 0.18340933897942316 and parameters: {'learning_rate': 0.0069235289398980856, 'n_estimators': 1224, 'l2_leaf_reg': 9.131082688526364, 'random_strength': 3.6783319524930347, 'bagging_temperature': 0.5139548177005273}. Best is trial 2 with value: 0.18340933897942316.\n",
      "[I 2025-05-12 11:21:20,648] Trial 4 finished with value: 0.18551935053418578 and parameters: {'learning_rate': 0.00493979072793721, 'n_estimators': 1293, 'l2_leaf_reg': 9.67719810465064, 'random_strength': 1.1239424840529877, 'bagging_temperature': 0.8668655002620825}. Best is trial 4 with value: 0.18551935053418578.\n",
      "[I 2025-05-12 11:21:24,028] Trial 0 finished with value: 0.20034623496239642 and parameters: {'learning_rate': 0.009087639468753116, 'n_estimators': 1492, 'l2_leaf_reg': 6.828753601957062, 'random_strength': 4.731354059173162, 'bagging_temperature': 0.604295929709945}. Best is trial 0 with value: 0.20034623496239642.\n",
      "[I 2025-05-12 11:21:33,172] Trial 1 finished with value: 0.17879114649773012 and parameters: {'learning_rate': 0.05298745998412271, 'n_estimators': 1916, 'l2_leaf_reg': 5.841616468136883, 'random_strength': 9.59463374296432, 'bagging_temperature': 0.18947862376654612}. Best is trial 0 with value: 0.20034623496239642.\n",
      "[I 2025-05-12 11:21:43,736] Trial 6 finished with value: 0.09238570947611453 and parameters: {'learning_rate': 0.0013574842316480887, 'n_estimators': 1342, 'l2_leaf_reg': 8.016185473110859, 'random_strength': 4.575542604845521, 'bagging_temperature': 0.476968642170044}. Best is trial 0 with value: 0.20034623496239642.\n",
      "[I 2025-05-12 11:21:52,116] Trial 5 finished with value: 0.2016536270655813 and parameters: {'learning_rate': 0.03265779968542237, 'n_estimators': 1756, 'l2_leaf_reg': 7.5188266980009795, 'random_strength': 5.3141034945846854, 'bagging_temperature': 0.6454525497163266}. Best is trial 5 with value: 0.2016536270655813.\n",
      "[I 2025-05-12 11:21:56,741] Trial 3 finished with value: 0.1473153419150189 and parameters: {'learning_rate': 0.12113459134855915, 'n_estimators': 1991, 'l2_leaf_reg': 7.834303115168884, 'random_strength': 9.840504078568861, 'bagging_temperature': 0.06928070136029563}. Best is trial 5 with value: 0.2016536270655813.\n",
      "[I 2025-05-12 11:22:00,690] Trial 7 finished with value: 0.20241598301492456 and parameters: {'learning_rate': 0.030786959329849935, 'n_estimators': 1955, 'l2_leaf_reg': 8.156310552383957, 'random_strength': 5.018736076629578, 'bagging_temperature': 0.03306864025009104}. Best is trial 7 with value: 0.20241598301492456.\n",
      "[I 2025-05-12 11:22:07,368] Trial 10 finished with value: 0.1365170593137316 and parameters: {'learning_rate': 0.131544561148419, 'n_estimators': 1300, 'l2_leaf_reg': 6.946029287081261, 'random_strength': 8.845494540691815, 'bagging_temperature': 0.6037146242867047}. Best is trial 7 with value: 0.20241598301492456.\n",
      "[I 2025-05-12 11:22:17,012] Trial 12 finished with value: 0.2040368265884961 and parameters: {'learning_rate': 0.009302737066169043, 'n_estimators': 1877, 'l2_leaf_reg': 3.1178731294725677, 'random_strength': 9.941076053330638, 'bagging_temperature': 0.19501732895262835}. Best is trial 12 with value: 0.2040368265884961.\n",
      "[I 2025-05-12 11:22:22,196] Trial 14 finished with value: 0.19907722577436904 and parameters: {'learning_rate': 0.019026283797178745, 'n_estimators': 1294, 'l2_leaf_reg': 7.291907924473627, 'random_strength': 5.03960631693065, 'bagging_temperature': 0.6652398068891546}. Best is trial 12 with value: 0.2040368265884961.\n",
      "[I 2025-05-12 11:22:22,981] Trial 9 finished with value: 0.17789165798793402 and parameters: {'learning_rate': 0.06438334490032874, 'n_estimators': 1405, 'l2_leaf_reg': 8.57369057385576, 'random_strength': 9.949640983802793, 'bagging_temperature': 0.0025015338381625396}. Best is trial 12 with value: 0.2040368265884961.\n",
      "[I 2025-05-12 11:22:27,278] Trial 11 finished with value: 0.17871463904234666 and parameters: {'learning_rate': 0.07443719554960841, 'n_estimators': 1230, 'l2_leaf_reg': 1.2822417225697742, 'random_strength': 9.57040288403071, 'bagging_temperature': 0.3155128916857066}. Best is trial 12 with value: 0.2040368265884961.\n",
      "[I 2025-05-12 11:22:29,086] Trial 13 finished with value: 0.13885828095706162 and parameters: {'learning_rate': 0.15554734142572227, 'n_estimators': 1476, 'l2_leaf_reg': 3.51980127950236, 'random_strength': 2.666749032755953, 'bagging_temperature': 0.08864829322691092}. Best is trial 12 with value: 0.2040368265884961.\n",
      "[I 2025-05-12 11:22:34,876] Trial 15 finished with value: 0.14144746276278267 and parameters: {'learning_rate': 0.19495522881927027, 'n_estimators': 1413, 'l2_leaf_reg': 7.388300532047559, 'random_strength': 3.094747533694174, 'bagging_temperature': 0.43038373560612864}. Best is trial 12 with value: 0.2040368265884961.\n",
      "[I 2025-05-12 11:22:39,632] Trial 8 finished with value: 0.20158232595374204 and parameters: {'learning_rate': 0.019945973632984924, 'n_estimators': 1961, 'l2_leaf_reg': 4.107407211374413, 'random_strength': 1.0759857937281947, 'bagging_temperature': 0.5401727250980599}. Best is trial 12 with value: 0.2040368265884961.\n",
      "[I 2025-05-12 11:22:48,784] Trial 16 finished with value: 0.19730960950477092 and parameters: {'learning_rate': 0.04547573903145594, 'n_estimators': 1734, 'l2_leaf_reg': 8.05328725645399, 'random_strength': 6.201344493222157, 'bagging_temperature': 0.47640565734913043}. Best is trial 12 with value: 0.2040368265884961.\n",
      "[I 2025-05-12 11:22:49,618] Trial 17 finished with value: 0.19377853043004498 and parameters: {'learning_rate': 0.006595321374550893, 'n_estimators': 1446, 'l2_leaf_reg': 7.817072007780418, 'random_strength': 0.5730511956180462, 'bagging_temperature': 0.6833126636433419}. Best is trial 12 with value: 0.2040368265884961.\n",
      "[I 2025-05-12 11:22:51,424] Trial 19 finished with value: 0.20448721798029026 and parameters: {'learning_rate': 0.016588456819543542, 'n_estimators': 1257, 'l2_leaf_reg': 8.776529169461798, 'random_strength': 2.9587721218763017, 'bagging_temperature': 0.47295991051675446}. Best is trial 19 with value: 0.20448721798029026.\n",
      "[I 2025-05-12 11:22:55,215] Trial 18 finished with value: 0.1950133086557204 and parameters: {'learning_rate': 0.04423488263281098, 'n_estimators': 1622, 'l2_leaf_reg': 6.607726306387992, 'random_strength': 8.56186696317203, 'bagging_temperature': 0.3361403518068201}. Best is trial 19 with value: 0.20448721798029026.\n",
      "[I 2025-05-12 11:22:59,467] Trial 20 finished with value: 0.07640297859314467 and parameters: {'learning_rate': 0.0010625872606452778, 'n_estimators': 1390, 'l2_leaf_reg': 9.996228420299058, 'random_strength': 5.055325823007168, 'bagging_temperature': 0.2759564244970887}. Best is trial 19 with value: 0.20448721798029026.\n",
      "[I 2025-05-12 11:23:14,419] Trial 21 finished with value: 0.17320323637047028 and parameters: {'learning_rate': 0.004622909300028889, 'n_estimators': 1744, 'l2_leaf_reg': 9.204766457484414, 'random_strength': 4.541885317927735, 'bagging_temperature': 0.9313371290824182}. Best is trial 19 with value: 0.20448721798029026.\n",
      "[I 2025-05-12 11:23:16,870] Trial 24 finished with value: 0.20323229133084122 and parameters: {'learning_rate': 0.016212412522185738, 'n_estimators': 1322, 'l2_leaf_reg': 4.407782590968557, 'random_strength': 9.591685713796107, 'bagging_temperature': 0.023897302298901746}. Best is trial 19 with value: 0.20448721798029026.\n",
      "[I 2025-05-12 11:23:16,946] Trial 23 finished with value: 0.19275701373988105 and parameters: {'learning_rate': 0.04088417282929509, 'n_estimators': 1439, 'l2_leaf_reg': 5.814045177694253, 'random_strength': 9.128430766161806, 'bagging_temperature': 0.8695154826496765}. Best is trial 19 with value: 0.20448721798029026.\n",
      "[I 2025-05-12 11:23:23,451] Trial 22 finished with value: 0.20284879872100267 and parameters: {'learning_rate': 0.015726676752544605, 'n_estimators': 1877, 'l2_leaf_reg': 4.547883045147026, 'random_strength': 6.371113634795411, 'bagging_temperature': 0.22592894475750336}. Best is trial 19 with value: 0.20448721798029026.\n",
      "[I 2025-05-12 11:23:27,040] Trial 25 finished with value: 0.10551001607832593 and parameters: {'learning_rate': 0.0014985968943392878, 'n_estimators': 1718, 'l2_leaf_reg': 2.4355157344286087, 'random_strength': 7.010597450122223, 'bagging_temperature': 0.2460649068694843}. Best is trial 19 with value: 0.20448721798029026.\n",
      "[I 2025-05-12 11:23:40,722] Trial 26 finished with value: 0.1306022493922293 and parameters: {'learning_rate': 0.0022798509667917247, 'n_estimators': 1805, 'l2_leaf_reg': 2.6039485817910197, 'random_strength': 7.281075087756632, 'bagging_temperature': 0.25526330290318533}. Best is trial 19 with value: 0.20448721798029026.\n",
      "[I 2025-05-12 11:23:44,206] Trial 27 finished with value: 0.14359397781364266 and parameters: {'learning_rate': 0.0030428253473306324, 'n_estimators': 1755, 'l2_leaf_reg': 2.9175011639535553, 'random_strength': 7.1700151473033795, 'bagging_temperature': 0.2691527255236888}. Best is trial 19 with value: 0.20448721798029026.\n",
      "[I 2025-05-12 11:23:46,644] Trial 28 finished with value: 0.14218816461131892 and parameters: {'learning_rate': 0.002996859451869895, 'n_estimators': 1768, 'l2_leaf_reg': 3.1629285042860755, 'random_strength': 7.384479881105547, 'bagging_temperature': 0.25983751077327194}. Best is trial 19 with value: 0.20448721798029026.\n",
      "[I 2025-05-12 11:23:51,877] Trial 29 finished with value: 0.13243061379294915 and parameters: {'learning_rate': 0.002513554647968709, 'n_estimators': 1758, 'l2_leaf_reg': 3.860117746443759, 'random_strength': 7.115811805259696, 'bagging_temperature': 0.26160616627209604}. Best is trial 19 with value: 0.20448721798029026.\n",
      "[I 2025-05-12 11:23:53,628] Trial 30 finished with value: 0.14086094010865302 and parameters: {'learning_rate': 0.002904466721557936, 'n_estimators': 1791, 'l2_leaf_reg': 3.7921952504806304, 'random_strength': 7.349717216260213, 'bagging_temperature': 0.1916138854624575}. Best is trial 19 with value: 0.20448721798029026.\n",
      "[I 2025-05-12 11:24:08,791] Trial 31 finished with value: 0.15339737658162658 and parameters: {'learning_rate': 0.003485091222559755, 'n_estimators': 1806, 'l2_leaf_reg': 2.9054331976968664, 'random_strength': 7.223157573098679, 'bagging_temperature': 0.2430642984700525}. Best is trial 19 with value: 0.20448721798029026.\n",
      "[I 2025-05-12 11:24:14,218] Trial 32 finished with value: 0.14949486045640517 and parameters: {'learning_rate': 0.003272145657776526, 'n_estimators': 1814, 'l2_leaf_reg': 2.292370273932182, 'random_strength': 7.746019560084869, 'bagging_temperature': 0.24396235712681258}. Best is trial 19 with value: 0.20448721798029026.\n",
      "[I 2025-05-12 11:24:17,470] Trial 33 finished with value: 0.1597823639431822 and parameters: {'learning_rate': 0.003613339486354637, 'n_estimators': 1853, 'l2_leaf_reg': 1.9817429272068647, 'random_strength': 7.158565199875397, 'bagging_temperature': 0.2456657985368272}. Best is trial 19 with value: 0.20448721798029026.\n",
      "[I 2025-05-12 11:24:17,859] Trial 34 finished with value: 0.11614757022389828 and parameters: {'learning_rate': 0.0019247571660873557, 'n_estimators': 1621, 'l2_leaf_reg': 2.232446385415713, 'random_strength': 7.337355481347389, 'bagging_temperature': 0.2995431680245289}. Best is trial 19 with value: 0.20448721798029026.\n",
      "[I 2025-05-12 11:24:24,065] Trial 35 finished with value: 0.14941499826742674 and parameters: {'learning_rate': 0.003285616599661764, 'n_estimators': 1849, 'l2_leaf_reg': 3.7024726107850108, 'random_strength': 7.243476637267227, 'bagging_temperature': 0.2169114206211662}. Best is trial 19 with value: 0.20448721798029026.\n",
      "[I 2025-05-12 11:24:32,183] Trial 36 finished with value: 0.14982697977535875 and parameters: {'learning_rate': 0.003235825319151149, 'n_estimators': 1857, 'l2_leaf_reg': 3.970945799867694, 'random_strength': 7.532780765164558, 'bagging_temperature': 0.16104674405797992}. Best is trial 19 with value: 0.20448721798029026.\n",
      "[I 2025-05-12 11:24:45,633] Trial 38 finished with value: 0.13164270292546643 and parameters: {'learning_rate': 0.002505894108021912, 'n_estimators': 1841, 'l2_leaf_reg': 4.242457733450359, 'random_strength': 7.686317425388487, 'bagging_temperature': 0.1796405437966644}. Best is trial 19 with value: 0.20448721798029026.\n",
      "[I 2025-05-12 11:24:47,644] Trial 39 finished with value: 0.20364189337009184 and parameters: {'learning_rate': 0.012418013049204701, 'n_estimators': 1573, 'l2_leaf_reg': 3.891524162572167, 'random_strength': 7.617885375536467, 'bagging_temperature': 0.17723810548323962}. Best is trial 19 with value: 0.20448721798029026.\n",
      "[I 2025-05-12 11:24:48,431] Trial 37 finished with value: 0.20874441876893343 and parameters: {'learning_rate': 0.011840167688568833, 'n_estimators': 1865, 'l2_leaf_reg': 4.472485571158341, 'random_strength': 7.242807166987052, 'bagging_temperature': 0.224325786190086}. Best is trial 37 with value: 0.20874441876893343.\n",
      "[I 2025-05-12 11:24:51,409] Trial 40 finished with value: 0.12778191217069268 and parameters: {'learning_rate': 0.0024659393345053313, 'n_estimators': 1655, 'l2_leaf_reg': 2.479003814720078, 'random_strength': 7.823968882662408, 'bagging_temperature': 0.1467132248667668}. Best is trial 37 with value: 0.20874441876893343.\n",
      "[I 2025-05-12 11:24:55,074] Trial 41 finished with value: 0.13458854423121336 and parameters: {'learning_rate': 0.0030155451861440296, 'n_estimators': 1564, 'l2_leaf_reg': 3.1554891149910103, 'random_strength': 7.960162256335208, 'bagging_temperature': 0.12864082347322242}. Best is trial 37 with value: 0.20874441876893343.\n",
      "[I 2025-05-12 11:25:14,409] Trial 43 finished with value: 0.20358654975045676 and parameters: {'learning_rate': 0.01100214303455568, 'n_estimators': 1539, 'l2_leaf_reg': 4.618668048882968, 'random_strength': 8.377696731354728, 'bagging_temperature': 0.12191843740482243}. Best is trial 37 with value: 0.20874441876893343.\n",
      "[I 2025-05-12 11:25:14,563] Trial 42 finished with value: 0.2042820602188413 and parameters: {'learning_rate': 0.011071205497885756, 'n_estimators': 1554, 'l2_leaf_reg': 4.449185987051626, 'random_strength': 7.984275389219675, 'bagging_temperature': 0.14570340838429036}. Best is trial 37 with value: 0.20874441876893343.\n",
      "[I 2025-05-12 11:25:16,915] Trial 44 finished with value: 0.2060657422358523 and parameters: {'learning_rate': 0.01066368090936585, 'n_estimators': 1599, 'l2_leaf_reg': 4.975095258488853, 'random_strength': 8.220717969540914, 'bagging_temperature': 0.13125734826828148}. Best is trial 37 with value: 0.20874441876893343.\n",
      "[I 2025-05-12 11:25:18,738] Trial 45 finished with value: 0.20388564735476752 and parameters: {'learning_rate': 0.011105973063380997, 'n_estimators': 1541, 'l2_leaf_reg': 4.869765510222692, 'random_strength': 8.189577160282594, 'bagging_temperature': 0.14608466299067782}. Best is trial 37 with value: 0.20874441876893343.\n",
      "[I 2025-05-12 11:25:20,909] Trial 46 finished with value: 0.20281670153649903 and parameters: {'learning_rate': 0.012870477018531523, 'n_estimators': 1550, 'l2_leaf_reg': 5.00642169354926, 'random_strength': 8.07525046059423, 'bagging_temperature': 0.1204968800428871}. Best is trial 37 with value: 0.20874441876893343.\n",
      "[I 2025-05-12 11:25:40,244] Trial 47 finished with value: 0.20260254432635474 and parameters: {'learning_rate': 0.011925978712213438, 'n_estimators': 1550, 'l2_leaf_reg': 4.871373291129528, 'random_strength': 8.265262086451992, 'bagging_temperature': 0.15030503604890244}. Best is trial 37 with value: 0.20874441876893343.\n",
      "[I 2025-05-12 11:25:41,641] Trial 51 finished with value: 0.2015838293381708 and parameters: {'learning_rate': 0.011321385551685393, 'n_estimators': 1202, 'l2_leaf_reg': 4.433020051658308, 'random_strength': 8.15093882058212, 'bagging_temperature': 0.12583165371984406}. Best is trial 37 with value: 0.20874441876893343.\n",
      "[I 2025-05-12 11:25:43,479] Trial 49 finished with value: 0.2049848236294349 and parameters: {'learning_rate': 0.012089090254111203, 'n_estimators': 1535, 'l2_leaf_reg': 4.814913743159373, 'random_strength': 8.476237149398651, 'bagging_temperature': 0.11185276248662365}. Best is trial 37 with value: 0.20874441876893343.\n",
      "[I 2025-05-12 11:25:50,941] Trial 48 finished with value: 0.2048971705988424 and parameters: {'learning_rate': 0.011399243194918524, 'n_estimators': 1877, 'l2_leaf_reg': 4.843333610945146, 'random_strength': 2.031616011491811, 'bagging_temperature': 0.13368899911603405}. Best is trial 37 with value: 0.20874441876893343.\n",
      "[I 2025-05-12 11:25:51,463] Trial 50 finished with value: 0.20160547599006282 and parameters: {'learning_rate': 0.010151538193540133, 'n_estimators': 1879, 'l2_leaf_reg': 4.804296392063357, 'random_strength': 8.484515617077928, 'bagging_temperature': 0.12099225227675599}. Best is trial 37 with value: 0.20874441876893343.\n",
      "[I 2025-05-12 11:25:58,130] Trial 52 finished with value: 0.20167818188297745 and parameters: {'learning_rate': 0.011545119337929689, 'n_estimators': 1540, 'l2_leaf_reg': 4.849239887882626, 'random_strength': 8.31442773177848, 'bagging_temperature': 0.1247562718504096}. Best is trial 37 with value: 0.20874441876893343.\n",
      "[I 2025-05-12 11:26:11,062] Trial 53 finished with value: 0.20645496728529175 and parameters: {'learning_rate': 0.010571183828401371, 'n_estimators': 1554, 'l2_leaf_reg': 4.7745654800923125, 'random_strength': 2.289735821084161, 'bagging_temperature': 0.3942980292259489}. Best is trial 37 with value: 0.20874441876893343.\n",
      "[I 2025-05-12 11:26:12,514] Trial 54 finished with value: 0.20492669101660718 and parameters: {'learning_rate': 0.010930999463482492, 'n_estimators': 1553, 'l2_leaf_reg': 5.031939786356615, 'random_strength': 8.342170504477355, 'bagging_temperature': 0.1279979059780284}. Best is trial 37 with value: 0.20874441876893343.\n",
      "[I 2025-05-12 11:26:18,804] Trial 56 finished with value: 0.2033374743368933 and parameters: {'learning_rate': 0.010200887637383391, 'n_estimators': 1526, 'l2_leaf_reg': 5.116666444185711, 'random_strength': 8.399006414053249, 'bagging_temperature': 0.12397343452435562}. Best is trial 37 with value: 0.20874441876893343.\n",
      "[I 2025-05-12 11:26:19,950] Trial 55 finished with value: 0.20390667919918073 and parameters: {'learning_rate': 0.010871276099135485, 'n_estimators': 1539, 'l2_leaf_reg': 4.981837995224524, 'random_strength': 2.0101312545454153, 'bagging_temperature': 0.38004587659585065}. Best is trial 37 with value: 0.20874441876893343.\n",
      "[I 2025-05-12 11:26:20,241] Trial 57 finished with value: 0.20115990541143916 and parameters: {'learning_rate': 0.010457087407113066, 'n_estimators': 1535, 'l2_leaf_reg': 4.898285316615921, 'random_strength': 8.478401564928314, 'bagging_temperature': 0.3693327625924431}. Best is trial 37 with value: 0.20874441876893343.\n",
      "[I 2025-05-12 11:26:40,500] Trial 58 finished with value: 0.2025717666849581 and parameters: {'learning_rate': 0.010710323339740487, 'n_estimators': 1677, 'l2_leaf_reg': 5.093732781562176, 'random_strength': 8.393250867816144, 'bagging_temperature': 0.3922305488984759}. Best is trial 37 with value: 0.20874441876893343.\n",
      "[I 2025-05-12 11:26:42,074] Trial 59 finished with value: 0.20548732179764154 and parameters: {'learning_rate': 0.010520806747237795, 'n_estimators': 1675, 'l2_leaf_reg': 4.969435557170606, 'random_strength': 6.006595450221242, 'bagging_temperature': 0.3876223754489866}. Best is trial 37 with value: 0.20874441876893343.\n",
      "[I 2025-05-12 11:26:49,442] Trial 60 finished with value: 0.2024201370386066 and parameters: {'learning_rate': 0.008026218213965888, 'n_estimators': 1676, 'l2_leaf_reg': 5.468140472559345, 'random_strength': 2.037578311283499, 'bagging_temperature': 0.39957639624438424}. Best is trial 37 with value: 0.20874441876893343.\n",
      "[I 2025-05-12 11:26:50,705] Trial 61 finished with value: 0.2004024209866615 and parameters: {'learning_rate': 0.007336184958048039, 'n_estimators': 1685, 'l2_leaf_reg': 6.248675729780941, 'random_strength': 1.8319759316266482, 'bagging_temperature': 0.3757212152763134}. Best is trial 37 with value: 0.20874441876893343.\n",
      "[I 2025-05-12 11:26:52,018] Trial 62 finished with value: 0.20096621035247672 and parameters: {'learning_rate': 0.0073058296166333475, 'n_estimators': 1691, 'l2_leaf_reg': 5.433718447635362, 'random_strength': 1.7616448062929404, 'bagging_temperature': 0.38434727945395813}. Best is trial 37 with value: 0.20874441876893343.\n",
      "[I 2025-05-12 11:27:13,929] Trial 64 finished with value: 0.1995935416185706 and parameters: {'learning_rate': 0.024062315989288388, 'n_estimators': 1689, 'l2_leaf_reg': 5.588280348156049, 'random_strength': 1.861898069466753, 'bagging_temperature': 0.3578921964991806}. Best is trial 37 with value: 0.20874441876893343.\n",
      "[I 2025-05-12 11:27:14,854] Trial 63 finished with value: 0.20094307981401585 and parameters: {'learning_rate': 0.007684681875001677, 'n_estimators': 1957, 'l2_leaf_reg': 5.3659177138680905, 'random_strength': 6.462715798661008, 'bagging_temperature': 0.366079394741521}. Best is trial 37 with value: 0.20874441876893343.\n",
      "[I 2025-05-12 11:27:15,584] Trial 65 finished with value: 0.20242479820005696 and parameters: {'learning_rate': 0.02529947459440239, 'n_estimators': 1681, 'l2_leaf_reg': 5.45367242226895, 'random_strength': 1.8104259293375136, 'bagging_temperature': 0.3815093653078322}. Best is trial 37 with value: 0.20874441876893343.\n",
      "[I 2025-05-12 11:27:22,770] Trial 66 finished with value: 0.20311995711265393 and parameters: {'learning_rate': 0.007224979015090581, 'n_estimators': 1691, 'l2_leaf_reg': 5.5326370906217885, 'random_strength': 1.8619164817682947, 'bagging_temperature': 0.35881318781300975}. Best is trial 37 with value: 0.20874441876893343.\n",
      "[I 2025-05-12 11:27:23,683] Trial 67 finished with value: 0.20360214108177643 and parameters: {'learning_rate': 0.007161005925907182, 'n_estimators': 1696, 'l2_leaf_reg': 5.500755248763865, 'random_strength': 2.085746166934712, 'bagging_temperature': 0.05887315965967263}. Best is trial 37 with value: 0.20874441876893343.\n",
      "[I 2025-05-12 11:27:35,947] Trial 68 finished with value: 0.20067609073426296 and parameters: {'learning_rate': 0.007278193337438222, 'n_estimators': 1692, 'l2_leaf_reg': 6.31673133367874, 'random_strength': 1.782462243112294, 'bagging_temperature': 0.06470359322112931}. Best is trial 37 with value: 0.20874441876893343.\n",
      "[I 2025-05-12 11:27:42,937] Trial 70 finished with value: 0.19782943407661424 and parameters: {'learning_rate': 0.0074720878216862205, 'n_estimators': 1499, 'l2_leaf_reg': 5.485449542204441, 'random_strength': 2.2902608946897565, 'bagging_temperature': 0.3629368810353146}. Best is trial 37 with value: 0.20874441876893343.\n",
      "[I 2025-05-12 11:27:45,480] Trial 69 finished with value: 0.20070218119217073 and parameters: {'learning_rate': 0.006922147531934531, 'n_estimators': 1698, 'l2_leaf_reg': 5.462528276336584, 'random_strength': 2.203509792401777, 'bagging_temperature': 0.3664084880579517}. Best is trial 37 with value: 0.20874441876893343.\n",
      "[I 2025-05-12 11:27:52,920] Trial 71 finished with value: 0.2022235822248838 and parameters: {'learning_rate': 0.00703612100917813, 'n_estimators': 1688, 'l2_leaf_reg': 5.545732234716154, 'random_strength': 1.9954870362100168, 'bagging_temperature': 0.36962822633832315}. Best is trial 37 with value: 0.20874441876893343.\n",
      "[I 2025-05-12 11:27:54,907] Trial 72 finished with value: 0.205010899059847 and parameters: {'learning_rate': 0.007980610482188458, 'n_estimators': 1674, 'l2_leaf_reg': 5.476258342529366, 'random_strength': 1.5116456689651714, 'bagging_temperature': 0.0663731149516975}. Best is trial 37 with value: 0.20874441876893343.\n",
      "[I 2025-05-12 11:27:57,662] Trial 73 finished with value: 0.2008615866681975 and parameters: {'learning_rate': 0.007487931711014348, 'n_estimators': 1680, 'l2_leaf_reg': 5.473175263894072, 'random_strength': 1.669325392733028, 'bagging_temperature': 0.06240091342278664}. Best is trial 37 with value: 0.20874441876893343.\n",
      "[I 2025-05-12 11:28:07,637] Trial 74 finished with value: 0.1957162312579378 and parameters: {'learning_rate': 0.007475460658851161, 'n_estimators': 1486, 'l2_leaf_reg': 6.28577264238291, 'random_strength': 9.123685723652772, 'bagging_temperature': 0.06707917623229814}. Best is trial 37 with value: 0.20874441876893343.\n",
      "[I 2025-05-12 11:28:11,197] Trial 75 finished with value: 0.2067869051820321 and parameters: {'learning_rate': 0.024152892008873827, 'n_estimators': 1489, 'l2_leaf_reg': 6.373655769712682, 'random_strength': 6.412190664070881, 'bagging_temperature': 0.060704240941442805}. Best is trial 37 with value: 0.20874441876893343.\n",
      "[I 2025-05-12 11:28:17,886] Trial 76 finished with value: 0.1952279294139085 and parameters: {'learning_rate': 0.006885868833521081, 'n_estimators': 1494, 'l2_leaf_reg': 6.353633986229061, 'random_strength': 6.028449401575742, 'bagging_temperature': 0.06287689700767687}. Best is trial 37 with value: 0.20874441876893343.\n",
      "[I 2025-05-12 11:28:30,076] Trial 77 finished with value: 0.2013939156809518 and parameters: {'learning_rate': 0.023466508475874434, 'n_estimators': 1942, 'l2_leaf_reg': 5.489955964405251, 'random_strength': 6.481509934997981, 'bagging_temperature': 0.05498231032648708}. Best is trial 37 with value: 0.20874441876893343.\n",
      "[I 2025-05-12 11:28:31,778] Trial 78 finished with value: 0.20292683001579304 and parameters: {'learning_rate': 0.02176424473116366, 'n_estimators': 1927, 'l2_leaf_reg': 5.978928756557794, 'random_strength': 6.581053342456306, 'bagging_temperature': 0.5319810517706789}. Best is trial 37 with value: 0.20874441876893343.\n",
      "[I 2025-05-12 11:28:36,124] Trial 80 finished with value: 0.1770456577256927 and parameters: {'learning_rate': 0.00569908563166086, 'n_estimators': 1498, 'l2_leaf_reg': 5.902583470345787, 'random_strength': 5.698600577803743, 'bagging_temperature': 0.04832340869692234}. Best is trial 37 with value: 0.20874441876893343.\n",
      "[I 2025-05-12 11:28:37,220] Trial 81 finished with value: 0.1714224849948537 and parameters: {'learning_rate': 0.005434759916795418, 'n_estimators': 1490, 'l2_leaf_reg': 6.134365663012972, 'random_strength': 5.697286590207898, 'bagging_temperature': 0.07208173534634543}. Best is trial 37 with value: 0.20874441876893343.\n",
      "[I 2025-05-12 11:28:39,932] Trial 79 finished with value: 0.182833692342082 and parameters: {'learning_rate': 0.004781423546852395, 'n_estimators': 1924, 'l2_leaf_reg': 5.823428053511095, 'random_strength': 6.555079436739602, 'bagging_temperature': 0.05626230915156795}. Best is trial 37 with value: 0.20874441876893343.\n",
      "[I 2025-05-12 11:28:58,264] Trial 82 finished with value: 0.1781078077269056 and parameters: {'learning_rate': 0.004844177820925023, 'n_estimators': 1605, 'l2_leaf_reg': 6.088927501503779, 'random_strength': 3.9270861669719004, 'bagging_temperature': 0.04548493116504737}. Best is trial 37 with value: 0.20874441876893343.\n",
      "[I 2025-05-12 11:28:58,939] Trial 84 finished with value: 0.18481554693938504 and parameters: {'learning_rate': 0.006059051178002322, 'n_estimators': 1498, 'l2_leaf_reg': 5.940597082411671, 'random_strength': 5.672175155638397, 'bagging_temperature': 0.5710161369080076}. Best is trial 37 with value: 0.20874441876893343.\n",
      "[I 2025-05-12 11:29:01,916] Trial 83 finished with value: 0.19079151557301757 and parameters: {'learning_rate': 0.005444543780885123, 'n_estimators': 1597, 'l2_leaf_reg': 6.005270385971671, 'random_strength': 0.006842044641596434, 'bagging_temperature': 0.07381676284719371}. Best is trial 37 with value: 0.20874441876893343.\n",
      "[I 2025-05-12 11:29:11,462] Trial 85 finished with value: 0.20321919737240857 and parameters: {'learning_rate': 0.014273534492425985, 'n_estimators': 1909, 'l2_leaf_reg': 5.904869810952938, 'random_strength': 5.659630717963385, 'bagging_temperature': 0.08783898633122864}. Best is trial 37 with value: 0.20874441876893343.\n",
      "[I 2025-05-12 11:29:12,855] Trial 86 finished with value: 0.19891021106328846 and parameters: {'learning_rate': 0.005479597887558481, 'n_estimators': 1992, 'l2_leaf_reg': 6.134456350695997, 'random_strength': 3.6241754202005785, 'bagging_temperature': 0.5528556818254363}. Best is trial 37 with value: 0.20874441876893343.\n",
      "[I 2025-05-12 11:29:28,316] Trial 89 finished with value: 0.17377189138032537 and parameters: {'learning_rate': 0.005574457059731667, 'n_estimators': 1609, 'l2_leaf_reg': 6.114880122685042, 'random_strength': 9.043415639075922, 'bagging_temperature': 0.003869462346846278}. Best is trial 37 with value: 0.20874441876893343.\n",
      "[I 2025-05-12 11:29:29,447] Trial 88 finished with value: 0.19547653756127412 and parameters: {'learning_rate': 0.005622145978110709, 'n_estimators': 1596, 'l2_leaf_reg': 5.9585272230077635, 'random_strength': 0.24566129804696635, 'bagging_temperature': 0.08587493695838946}. Best is trial 37 with value: 0.20874441876893343.\n",
      "[I 2025-05-12 11:29:33,613] Trial 87 finished with value: 0.19824024314653696 and parameters: {'learning_rate': 0.005383546962826582, 'n_estimators': 1996, 'l2_leaf_reg': 5.987445388643094, 'random_strength': 3.510528401733593, 'bagging_temperature': 0.5223345888567881}. Best is trial 37 with value: 0.20874441876893343.\n",
      "[I 2025-05-12 11:29:39,867] Trial 91 finished with value: 0.18798162126900309 and parameters: {'learning_rate': 0.0059401838854243405, 'n_estimators': 1594, 'l2_leaf_reg': 6.801528327433821, 'random_strength': 5.659507906600296, 'bagging_temperature': 0.002668121753187841}. Best is trial 37 with value: 0.20874441876893343.\n",
      "[I 2025-05-12 11:29:41,097] Trial 90 finished with value: 0.19049249181196562 and parameters: {'learning_rate': 0.005482703061492945, 'n_estimators': 1591, 'l2_leaf_reg': 6.037352241654429, 'random_strength': 0.02542692438931482, 'bagging_temperature': 0.0005599739381058344}. Best is trial 37 with value: 0.20874441876893343.\n",
      "[I 2025-05-12 11:29:50,684] Trial 92 finished with value: 0.18527695147046838 and parameters: {'learning_rate': 0.0054890265721614295, 'n_estimators': 1598, 'l2_leaf_reg': 5.877916430709879, 'random_strength': 4.037819324943081, 'bagging_temperature': 0.0003191079770632349}. Best is trial 37 with value: 0.20874441876893343.\n",
      "[I 2025-05-12 11:29:55,455] Trial 93 finished with value: 0.1753544561776407 and parameters: {'learning_rate': 0.005206867287556743, 'n_estimators': 1597, 'l2_leaf_reg': 5.963079294304713, 'random_strength': 5.770576034126593, 'bagging_temperature': 0.01583571014557994}. Best is trial 37 with value: 0.20874441876893343.\n",
      "[I 2025-05-12 11:30:00,343] Trial 94 finished with value: 0.1926281668882315 and parameters: {'learning_rate': 0.0048374763447505955, 'n_estimators': 1608, 'l2_leaf_reg': 7.0280698681260745, 'random_strength': 0.3702142536887494, 'bagging_temperature': 0.011484850543898965}. Best is trial 37 with value: 0.20874441876893343.\n",
      "[I 2025-05-12 11:30:08,698] Trial 95 finished with value: 0.21303466845192442 and parameters: {'learning_rate': 0.014935444283666624, 'n_estimators': 1600, 'l2_leaf_reg': 4.110271134761201, 'random_strength': 0.6702736303430439, 'bagging_temperature': 0.004849773950467012}. Best is trial 95 with value: 0.21303466845192442.\n",
      "[I 2025-05-12 11:30:14,273] Trial 97 finished with value: 0.20374417935740816 and parameters: {'learning_rate': 0.014524670940014034, 'n_estimators': 1595, 'l2_leaf_reg': 6.7119292774838115, 'random_strength': 1.2208708498328806, 'bagging_temperature': 0.009986223753341641}. Best is trial 95 with value: 0.21303466845192442.\n",
      "[I 2025-05-12 11:30:17,728] Trial 96 finished with value: 0.20263378648287447 and parameters: {'learning_rate': 0.015086677648716563, 'n_estimators': 1989, 'l2_leaf_reg': 6.803165231706753, 'random_strength': 0.8760274398011798, 'bagging_temperature': 0.0938355959456365}. Best is trial 95 with value: 0.21303466845192442.\n",
      "[I 2025-05-12 11:30:24,757] Trial 98 finished with value: 0.20671596313864402 and parameters: {'learning_rate': 0.018302872119134565, 'n_estimators': 1585, 'l2_leaf_reg': 4.148865948355841, 'random_strength': 0.3702516976549006, 'bagging_temperature': 0.0004978940932607312}. Best is trial 95 with value: 0.21303466845192442.\n",
      "[I 2025-05-12 11:30:30,170] Trial 99 finished with value: 0.20009548942061642 and parameters: {'learning_rate': 0.014060533403540142, 'n_estimators': 1582, 'l2_leaf_reg': 4.23282789706881, 'random_strength': 1.159876366834542, 'bagging_temperature': 0.013067995764254423}. Best is trial 95 with value: 0.21303466845192442.\n",
      "[I 2025-05-12 11:30:35,613] Trial 100 finished with value: 0.20314254025725806 and parameters: {'learning_rate': 0.013899530461668752, 'n_estimators': 1640, 'l2_leaf_reg': 7.04822026724976, 'random_strength': 1.4402370165833247, 'bagging_temperature': 0.014323911766014677}. Best is trial 95 with value: 0.21303466845192442.\n",
      "[I 2025-05-12 11:30:38,439] Trial 101 finished with value: 0.1984390573287236 and parameters: {'learning_rate': 0.008741651086031858, 'n_estimators': 1437, 'l2_leaf_reg': 6.8575992112012285, 'random_strength': 1.148689154494103, 'bagging_temperature': 0.011555211533847275}. Best is trial 95 with value: 0.21303466845192442.\n",
      "[I 2025-05-12 11:30:44,604] Trial 102 finished with value: 0.20673301713246553 and parameters: {'learning_rate': 0.017829506026577444, 'n_estimators': 1448, 'l2_leaf_reg': 3.4639180383942807, 'random_strength': 1.2838190851410922, 'bagging_temperature': 0.0032411011596572975}. Best is trial 95 with value: 0.21303466845192442.\n",
      "[I 2025-05-12 11:30:50,992] Trial 103 finished with value: 0.20288612398644176 and parameters: {'learning_rate': 0.008801752020219225, 'n_estimators': 1455, 'l2_leaf_reg': 4.637713460839547, 'random_strength': 0.9598117514378924, 'bagging_temperature': 0.44236830199848515}. Best is trial 95 with value: 0.21303466845192442.\n",
      "[I 2025-05-12 11:31:00,445] Trial 105 finished with value: 0.20480524718122275 and parameters: {'learning_rate': 0.017057638458403034, 'n_estimators': 1456, 'l2_leaf_reg': 4.1911206913070576, 'random_strength': 1.3735028914036602, 'bagging_temperature': 0.21405251293680297}. Best is trial 95 with value: 0.21303466845192442.\n",
      "[I 2025-05-12 11:31:00,845] Trial 106 finished with value: 0.2003436918982828 and parameters: {'learning_rate': 0.01674767131950808, 'n_estimators': 1242, 'l2_leaf_reg': 8.864663310246982, 'random_strength': 1.3680272300011898, 'bagging_temperature': 0.48763713000651504}. Best is trial 95 with value: 0.21303466845192442.\n",
      "[I 2025-05-12 11:31:02,167] Trial 104 finished with value: 0.20091093386637707 and parameters: {'learning_rate': 0.008822857283619845, 'n_estimators': 1649, 'l2_leaf_reg': 6.960319507762231, 'random_strength': 1.1876643679711307, 'bagging_temperature': 0.20866962418669854}. Best is trial 95 with value: 0.21303466845192442.\n",
      "[I 2025-05-12 11:31:07,515] Trial 107 finished with value: 0.20104244998574994 and parameters: {'learning_rate': 0.01722922353930309, 'n_estimators': 1258, 'l2_leaf_reg': 8.693861995263282, 'random_strength': 1.0488202980092143, 'bagging_temperature': 0.4773550373181775}. Best is trial 95 with value: 0.21303466845192442.\n",
      "[I 2025-05-12 11:31:18,755] Trial 108 finished with value: 0.20458749628477682 and parameters: {'learning_rate': 0.018250959508346494, 'n_estimators': 1646, 'l2_leaf_reg': 4.166024314995198, 'random_strength': 1.224200389908472, 'bagging_temperature': 0.4867345794460751}. Best is trial 95 with value: 0.21303466845192442.\n",
      "[I 2025-05-12 11:31:26,427] Trial 109 finished with value: 0.20369507351382463 and parameters: {'learning_rate': 0.018187198420983493, 'n_estimators': 1643, 'l2_leaf_reg': 8.565254950600027, 'random_strength': 1.0974649946608817, 'bagging_temperature': 0.4536057460625239}. Best is trial 95 with value: 0.21303466845192442.\n",
      "[I 2025-05-12 11:31:29,588] Trial 110 finished with value: 0.20478075088479922 and parameters: {'learning_rate': 0.01792284708907321, 'n_estimators': 1643, 'l2_leaf_reg': 4.183091890541304, 'random_strength': 1.3493593287757029, 'bagging_temperature': 0.46116425825750673}. Best is trial 95 with value: 0.21303466845192442.\n",
      "[I 2025-05-12 11:31:31,302] Trial 111 finished with value: 0.20381506563117235 and parameters: {'learning_rate': 0.008786845850251574, 'n_estimators': 1656, 'l2_leaf_reg': 4.639022751283677, 'random_strength': 1.064399646317277, 'bagging_temperature': 0.4391542605995851}. Best is trial 95 with value: 0.21303466845192442.\n",
      "[I 2025-05-12 11:31:34,230] Trial 112 finished with value: 0.2078342526014185 and parameters: {'learning_rate': 0.0087742555255656, 'n_estimators': 1640, 'l2_leaf_reg': 3.483093610520001, 'random_strength': 0.9068600215922821, 'bagging_temperature': 0.29712473207866313}. Best is trial 95 with value: 0.21303466845192442.\n",
      "[I 2025-05-12 11:31:46,099] Trial 113 finished with value: 0.20428076428155528 and parameters: {'learning_rate': 0.008833401736450051, 'n_estimators': 1649, 'l2_leaf_reg': 4.141767859872489, 'random_strength': 1.42969411177379, 'bagging_temperature': 0.4419266793595973}. Best is trial 95 with value: 0.21303466845192442.\n",
      "[I 2025-05-12 11:31:54,731] Trial 114 finished with value: 0.20186273211544048 and parameters: {'learning_rate': 0.00906264597003005, 'n_estimators': 1643, 'l2_leaf_reg': 4.191421154637963, 'random_strength': 6.877642082502806, 'bagging_temperature': 0.19837386935016132}. Best is trial 95 with value: 0.21303466845192442.\n",
      "[I 2025-05-12 11:31:59,109] Trial 116 finished with value: 0.20603901730185223 and parameters: {'learning_rate': 0.01775250009718223, 'n_estimators': 1455, 'l2_leaf_reg': 3.38047499200417, 'random_strength': 0.6852726323636515, 'bagging_temperature': 0.21184224990028777}. Best is trial 95 with value: 0.21303466845192442.\n",
      "[I 2025-05-12 11:32:00,528] Trial 115 finished with value: 0.19711596319052596 and parameters: {'learning_rate': 0.019049187722624997, 'n_estimators': 1640, 'l2_leaf_reg': 5.239788945282789, 'random_strength': 6.770216227419482, 'bagging_temperature': 0.2074249175674576}. Best is trial 95 with value: 0.21303466845192442.\n",
      "[I 2025-05-12 11:32:01,705] Trial 117 finished with value: 0.20211778341945208 and parameters: {'learning_rate': 0.018050617695139597, 'n_estimators': 1518, 'l2_leaf_reg': 4.638604321293555, 'random_strength': 6.842647288005544, 'bagging_temperature': 0.21233190351835246}. Best is trial 95 with value: 0.21303466845192442.\n",
      "[I 2025-05-12 11:32:14,155] Trial 118 finished with value: 0.20929835422187215 and parameters: {'learning_rate': 0.019059498432133004, 'n_estimators': 1467, 'l2_leaf_reg': 3.4587471079856624, 'random_strength': 0.7816332969582591, 'bagging_temperature': 0.19694632874625445}. Best is trial 95 with value: 0.21303466845192442.\n",
      "[I 2025-05-12 11:32:17,193] Trial 119 finished with value: 0.20784484141347945 and parameters: {'learning_rate': 0.01769531740587335, 'n_estimators': 1384, 'l2_leaf_reg': 3.470616647917534, 'random_strength': 6.78357424643107, 'bagging_temperature': 0.7311867312436441}. Best is trial 95 with value: 0.21303466845192442.\n",
      "[I 2025-05-12 11:32:25,490] Trial 120 finished with value: 0.20524600879883695 and parameters: {'learning_rate': 0.019658088844409605, 'n_estimators': 1514, 'l2_leaf_reg': 3.516169262609662, 'random_strength': 6.806253457487841, 'bagging_temperature': 0.10500730709305617}. Best is trial 95 with value: 0.21303466845192442.\n",
      "[I 2025-05-12 11:32:25,631] Trial 121 finished with value: 0.20043839097087687 and parameters: {'learning_rate': 0.029964356887089514, 'n_estimators': 1381, 'l2_leaf_reg': 3.4756386241001795, 'random_strength': 0.7301180827241707, 'bagging_temperature': 0.09807329761753862}. Best is trial 95 with value: 0.21303466845192442.\n",
      "[I 2025-05-12 11:32:28,579] Trial 122 finished with value: 0.2018220648017832 and parameters: {'learning_rate': 0.01918569366856882, 'n_estimators': 1516, 'l2_leaf_reg': 3.625777057677867, 'random_strength': 6.82688179679701, 'bagging_temperature': 0.10356901582546407}. Best is trial 95 with value: 0.21303466845192442.\n",
      "[I 2025-05-12 11:32:30,514] Trial 123 finished with value: 0.19808373198363183 and parameters: {'learning_rate': 0.03266718260853808, 'n_estimators': 1398, 'l2_leaf_reg': 3.374937255201411, 'random_strength': 8.630106555487211, 'bagging_temperature': 0.2941849817033334}. Best is trial 95 with value: 0.21303466845192442.\n",
      "[I 2025-05-12 11:32:39,639] Trial 124 finished with value: 0.19803674201034935 and parameters: {'learning_rate': 0.029339286799822444, 'n_estimators': 1368, 'l2_leaf_reg': 3.6534730044808343, 'random_strength': 6.834398878010577, 'bagging_temperature': 0.29672965431203213}. Best is trial 95 with value: 0.21303466845192442.\n",
      "[I 2025-05-12 11:32:49,413] Trial 125 finished with value: 0.2023504081112689 and parameters: {'learning_rate': 0.03239016638298863, 'n_estimators': 1381, 'l2_leaf_reg': 3.4997420918602846, 'random_strength': 0.665174847340088, 'bagging_temperature': 0.10611824321419933}. Best is trial 95 with value: 0.21303466845192442.\n",
      "[I 2025-05-12 11:32:49,583] Trial 126 finished with value: 0.2054587128612326 and parameters: {'learning_rate': 0.012537130901697124, 'n_estimators': 1368, 'l2_leaf_reg': 3.4268913660597824, 'random_strength': 6.902612698504032, 'bagging_temperature': 0.10154886941668143}. Best is trial 95 with value: 0.21303466845192442.\n",
      "[I 2025-05-12 11:32:56,408] Trial 127 finished with value: 0.2038375358889901 and parameters: {'learning_rate': 0.02956579672939248, 'n_estimators': 1520, 'l2_leaf_reg': 3.5576057929611613, 'random_strength': 2.509478491585821, 'bagging_temperature': 0.03355150011167811}. Best is trial 95 with value: 0.21303466845192442.\n",
      "[I 2025-05-12 11:32:57,612] Trial 128 finished with value: 0.2023612364446781 and parameters: {'learning_rate': 0.0294872888955602, 'n_estimators': 1512, 'l2_leaf_reg': 3.460789603294263, 'random_strength': 0.6308715461883481, 'bagging_temperature': 0.2837810195635986}. Best is trial 95 with value: 0.21303466845192442.\n",
      "[I 2025-05-12 11:33:06,938] Trial 129 finished with value: 0.21051515926140815 and parameters: {'learning_rate': 0.02693185614070786, 'n_estimators': 1522, 'l2_leaf_reg': 3.3856358924615972, 'random_strength': 5.30023754823178, 'bagging_temperature': 0.29746967211073844}. Best is trial 95 with value: 0.21303466845192442.\n",
      "[I 2025-05-12 11:33:16,176] Trial 131 finished with value: 0.2061662566891109 and parameters: {'learning_rate': 0.02973011883276123, 'n_estimators': 1411, 'l2_leaf_reg': 3.5201305084623757, 'random_strength': 0.7002865301778638, 'bagging_temperature': 0.29688824197915853}. Best is trial 95 with value: 0.21303466845192442.\n",
      "[I 2025-05-12 11:33:16,915] Trial 130 finished with value: 0.20486626765155527 and parameters: {'learning_rate': 0.013043974778097421, 'n_estimators': 1519, 'l2_leaf_reg': 5.209547341259031, 'random_strength': 0.8390442439925292, 'bagging_temperature': 0.29316999908065877}. Best is trial 95 with value: 0.21303466845192442.\n",
      "[I 2025-05-12 11:33:20,741] Trial 132 finished with value: 0.20724473688748382 and parameters: {'learning_rate': 0.020936372171797925, 'n_estimators': 1373, 'l2_leaf_reg': 3.526569188654931, 'random_strength': 0.682687327380376, 'bagging_temperature': 0.16906195688877507}. Best is trial 95 with value: 0.21303466845192442.\n",
      "[I 2025-05-12 11:33:22,570] Trial 133 finished with value: 0.20731966236983704 and parameters: {'learning_rate': 0.021371282641598384, 'n_estimators': 1367, 'l2_leaf_reg': 3.654272021056316, 'random_strength': 0.689091823499252, 'bagging_temperature': 0.29748378276043064}. Best is trial 95 with value: 0.21303466845192442.\n",
      "[I 2025-05-12 11:33:32,081] Trial 134 finished with value: 0.20373032585954864 and parameters: {'learning_rate': 0.03129867824658657, 'n_estimators': 1371, 'l2_leaf_reg': 3.436999622597026, 'random_strength': 0.7633143245049661, 'bagging_temperature': 0.2978742516673775}. Best is trial 95 with value: 0.21303466845192442.\n",
      "[I 2025-05-12 11:33:38,410] Trial 135 finished with value: 0.206685115188061 and parameters: {'learning_rate': 0.02939314937997812, 'n_estimators': 1377, 'l2_leaf_reg': 3.4680189603449465, 'random_strength': 0.661640162547263, 'bagging_temperature': 0.3036764449335652}. Best is trial 95 with value: 0.21303466845192442.\n",
      "[I 2025-05-12 11:33:42,587] Trial 136 finished with value: 0.20546631527942558 and parameters: {'learning_rate': 0.029902573879277777, 'n_estimators': 1376, 'l2_leaf_reg': 3.4076599419828764, 'random_strength': 0.7139111078428078, 'bagging_temperature': 0.2872092616459835}. Best is trial 95 with value: 0.21303466845192442.\n",
      "[I 2025-05-12 11:33:47,747] Trial 137 finished with value: 0.2067824158472572 and parameters: {'learning_rate': 0.026167193312135427, 'n_estimators': 1418, 'l2_leaf_reg': 3.4030451910930077, 'random_strength': 0.4189191838135371, 'bagging_temperature': 0.736883589174297}. Best is trial 95 with value: 0.21303466845192442.\n",
      "[I 2025-05-12 11:33:49,697] Trial 138 finished with value: 0.2030072846729426 and parameters: {'learning_rate': 0.03321803655130184, 'n_estimators': 1412, 'l2_leaf_reg': 3.487177800394472, 'random_strength': 0.5670797353174903, 'bagging_temperature': 0.7596183887827384}. Best is trial 95 with value: 0.21303466845192442.\n",
      "[I 2025-05-12 11:33:52,281] Trial 139 finished with value: 0.20927316727530054 and parameters: {'learning_rate': 0.021513303129848886, 'n_estimators': 1469, 'l2_leaf_reg': 2.9803922104753475, 'random_strength': 0.6042267994074161, 'bagging_temperature': 0.7325959524220172}. Best is trial 95 with value: 0.21303466845192442.\n",
      "[I 2025-05-12 11:34:00,957] Trial 140 finished with value: 0.20809473484551108 and parameters: {'learning_rate': 0.021570306956037545, 'n_estimators': 1411, 'l2_leaf_reg': 2.967249489081826, 'random_strength': 0.5748098542282203, 'bagging_temperature': 0.16868715916517119}. Best is trial 95 with value: 0.21303466845192442.\n",
      "[I 2025-05-12 11:34:09,590] Trial 141 finished with value: 0.203988311034664 and parameters: {'learning_rate': 0.02125532360169379, 'n_estimators': 1466, 'l2_leaf_reg': 2.90252718321769, 'random_strength': 6.055171140449265, 'bagging_temperature': 0.7260142061552634}. Best is trial 95 with value: 0.21303466845192442.\n",
      "[I 2025-05-12 11:34:11,889] Trial 142 finished with value: 0.20514070298515139 and parameters: {'learning_rate': 0.022094738383973692, 'n_estimators': 1422, 'l2_leaf_reg': 2.8066589611576247, 'random_strength': 0.38475994464130014, 'bagging_temperature': 0.8562739778788447}. Best is trial 95 with value: 0.21303466845192442.\n",
      "[I 2025-05-12 11:34:15,727] Trial 143 finished with value: 0.20877421314423938 and parameters: {'learning_rate': 0.01263245670460203, 'n_estimators': 1419, 'l2_leaf_reg': 2.9308428347725775, 'random_strength': 0.5010373027952146, 'bagging_temperature': 0.7348525598910788}. Best is trial 95 with value: 0.21303466845192442.\n",
      "[I 2025-05-12 11:34:19,146] Trial 144 finished with value: 0.205836426603396 and parameters: {'learning_rate': 0.02234418307414381, 'n_estimators': 1468, 'l2_leaf_reg': 3.0369726079175177, 'random_strength': 6.20785544408078, 'bagging_temperature': 0.3197515816676241}. Best is trial 95 with value: 0.21303466845192442.\n",
      "[I 2025-05-12 11:34:27,240] Trial 145 finished with value: 0.20258558609018795 and parameters: {'learning_rate': 0.022005285877298452, 'n_estimators': 1474, 'l2_leaf_reg': 2.6790957422956994, 'random_strength': 5.322029688812098, 'bagging_temperature': 0.32539147960806236}. Best is trial 95 with value: 0.21303466845192442.\n",
      "[I 2025-05-12 11:34:36,654] Trial 146 finished with value: 0.1961684025820021 and parameters: {'learning_rate': 0.03786960542029194, 'n_estimators': 1419, 'l2_leaf_reg': 2.8660702605256203, 'random_strength': 0.3508409612963528, 'bagging_temperature': 0.7973958758345492}. Best is trial 95 with value: 0.21303466845192442.\n",
      "[I 2025-05-12 11:34:36,887] Trial 147 finished with value: 0.20062504418320018 and parameters: {'learning_rate': 0.02200761984795051, 'n_estimators': 1431, 'l2_leaf_reg': 3.9412304026811436, 'random_strength': 5.301298323083816, 'bagging_temperature': 0.7203135037201122}. Best is trial 95 with value: 0.21303466845192442.\n",
      "[I 2025-05-12 11:34:41,911] Trial 148 finished with value: 0.2034728901935335 and parameters: {'learning_rate': 0.0386579526056725, 'n_estimators': 1409, 'l2_leaf_reg': 3.2318680696988817, 'random_strength': 0.3820814019090457, 'bagging_temperature': 0.3282968552659905}. Best is trial 95 with value: 0.21303466845192442.\n",
      "[I 2025-05-12 11:34:43,669] Trial 149 finished with value: 0.20154793393734535 and parameters: {'learning_rate': 0.037798814136336525, 'n_estimators': 1416, 'l2_leaf_reg': 2.8401787893536152, 'random_strength': 0.35289271745242634, 'bagging_temperature': 0.31832413716118924}. Best is trial 95 with value: 0.21303466845192442.\n"
     ]
    }
   ],
   "source": [
    "def objective_catboost(trial):\n",
    "    max_depth = 4 #trial.suggest_int(\"max_depth\", 3, 5)\n",
    "    learning_rate = trial.suggest_float(\"learning_rate\", 0.001, 0.2, log=True)\n",
    "    n_estimators = trial.suggest_int(\"n_estimators\", 1200, 2000)\n",
    "    l2_leaf_reg = trial.suggest_float(\"l2_leaf_reg\", 1, 10)\n",
    "    random_strength = trial.suggest_float(\"random_strength\", 0, 10)\n",
    "    bagging_temperature = trial.suggest_float(\"bagging_temperature\", 0, 1)\n",
    "    # border_count = trial.suggest_int(\"border_count\", 32, 255)\n",
    "\n",
    "    model = CatBoostRegressor(\n",
    "        cat_features=cat_features,\n",
    "        max_depth=max_depth,\n",
    "        learning_rate=learning_rate,\n",
    "        n_estimators=n_estimators,\n",
    "        l2_leaf_reg=l2_leaf_reg,\n",
    "        random_strength=random_strength,\n",
    "        bagging_temperature=bagging_temperature,\n",
    "        # border_count=border_count,\n",
    "        silent=True\n",
    "    )\n",
    "\n",
    "    score = cross_val_score(model, X, target, cv=3, scoring=\"r2\", n_jobs=-1).mean()\n",
    "    return score\n",
    "\n",
    "study = optuna.create_study(direction=\"maximize\")\n",
    "study.optimize(objective_catboost, n_trials=150, n_jobs=-1)"
   ]
  },
  {
   "cell_type": "markdown",
   "id": "42a7b43f",
   "metadata": {},
   "source": []
  },
  {
   "cell_type": "code",
   "execution_count": 79,
   "id": "1572aa6a",
   "metadata": {},
   "outputs": [
    {
     "data": {
      "text/plain": [
       "<catboost.core.CatBoostRegressor at 0x1b657f77370>"
      ]
     },
     "execution_count": 79,
     "metadata": {},
     "output_type": "execute_result"
    }
   ],
   "source": [
    "params = study.best_params\n",
    "model = CatBoostRegressor(\n",
    "        cat_features=cat_features,\n",
    "        max_depth=4,\n",
    "        learning_rate=params['learning_rate'],\n",
    "        n_estimators=params['n_estimators'],\n",
    "        l2_leaf_reg=params['l2_leaf_reg'],\n",
    "        random_strength=params['random_strength'],\n",
    "        bagging_temperature=params['bagging_temperature'],\n",
    "        # border_count=params['border_count'],\n",
    "        silent=True\n",
    "    )\n",
    "model.fit(X, target)"
   ]
  },
  {
   "cell_type": "code",
   "execution_count": 80,
   "id": "bab41b9c",
   "metadata": {},
   "outputs": [],
   "source": [
    "pred = model.predict(test)"
   ]
  },
  {
   "cell_type": "code",
   "execution_count": 81,
   "id": "da40b592",
   "metadata": {},
   "outputs": [],
   "source": [
    "test = test.copy()\n",
    "result = pd.DataFrame()\n",
    "result['id'] = np.arange(len(test))\n",
    "result['Rating'] = pred\n",
    "\n",
    "result[['id','Rating']].to_csv(\"choko_submission_18.csv\", index=False)"
   ]
  },
  {
   "cell_type": "code",
   "execution_count": null,
   "id": "9625a9a2",
   "metadata": {},
   "outputs": [],
   "source": []
  }
 ],
 "metadata": {
  "kernelspec": {
   "display_name": "chocolate",
   "language": "python",
   "name": "python3"
  },
  "language_info": {
   "codemirror_mode": {
    "name": "ipython",
    "version": 3
   },
   "file_extension": ".py",
   "mimetype": "text/x-python",
   "name": "python",
   "nbconvert_exporter": "python",
   "pygments_lexer": "ipython3",
   "version": "3.9.22"
  }
 },
 "nbformat": 4,
 "nbformat_minor": 5
}
