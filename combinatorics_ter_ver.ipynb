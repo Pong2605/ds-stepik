{
 "cells": [
  {
   "cell_type": "markdown",
   "id": "9dae8bef",
   "metadata": {},
   "source": [
    "# Импорты"
   ]
  },
  {
   "cell_type": "code",
   "execution_count": 2,
   "id": "0f0e3f97",
   "metadata": {},
   "outputs": [],
   "source": [
    "import pandas as pd\n",
    "import numpy as np\n",
    "import sympy as sp\n",
    "import matplotlib.pyplot as plt\n",
    "import seaborn as sns"
   ]
  },
  {
   "cell_type": "markdown",
   "id": "a5249131",
   "metadata": {},
   "source": [
    "# 5  Комбинаторика"
   ]
  },
  {
   "cell_type": "markdown",
   "id": "b9be0e6b",
   "metadata": {},
   "source": [
    "## 5.1 Правило сложения и правило умножения. Основные формулы"
   ]
  },
  {
   "cell_type": "code",
   "execution_count": 3,
   "id": "58113959",
   "metadata": {},
   "outputs": [],
   "source": [
    "# Выбор упорядоченных элементов\n",
    "\n",
    "def ank(k, n):\n",
    "    A_n_k = sp.factorial(n) \\\n",
    "        / sp.factorial(n - k)\n",
    "    return A_n_k"
   ]
  },
  {
   "cell_type": "code",
   "execution_count": 4,
   "id": "3265a16a",
   "metadata": {},
   "outputs": [],
   "source": [
    "# Выбор неупорядоченных элементов\n",
    "\n",
    "def cnk(k, n):\n",
    "    C_n_k = sp.factorial(n) \\\n",
    "        / (sp.factorial(k) * sp.factorial(n - k))\n",
    "    return C_n_k"
   ]
  },
  {
   "cell_type": "code",
   "execution_count": 5,
   "id": "d5787492",
   "metadata": {},
   "outputs": [
    {
     "data": {
      "text/latex": [
       "$\\displaystyle 10$"
      ],
      "text/plain": [
       "10"
      ]
     },
     "execution_count": 5,
     "metadata": {},
     "output_type": "execute_result"
    }
   ],
   "source": [
    "# У мамы 2 яблока и 3 груши. Каждый день в течение 5 дней подряд она выдает по одному фрукту.\n",
    "\n",
    "# Сколькими способами это может быть сделано?\n",
    "\n",
    "ank(5, 5) / (ank(3, 3) * ank(2, 2))"
   ]
  },
  {
   "cell_type": "code",
   "execution_count": 6,
   "id": "de9a373d",
   "metadata": {},
   "outputs": [
    {
     "name": "stdout",
     "output_type": "stream",
     "text": [
      "11880\n"
     ]
    },
    {
     "data": {
      "text/latex": [
       "$\\displaystyle 11880$"
      ],
      "text/plain": [
       "11880"
      ]
     },
     "execution_count": 6,
     "metadata": {},
     "output_type": "execute_result"
    }
   ],
   "source": [
    "# В некоторой газете 12 страниц. Необходимо на страницах этой газеты поместить четыре фотографии.\n",
    "\n",
    "# Сколькими способами можно это сделать, если ни одна страница газеты не должна содержать более одной фотографии?\n",
    "\n",
    "print(12 * 11 * 10 * 9)\n",
    "\n",
    "ank(4, 12)"
   ]
  },
  {
   "cell_type": "code",
   "execution_count": 7,
   "id": "f09d031f",
   "metadata": {},
   "outputs": [
    {
     "name": "stdout",
     "output_type": "stream",
     "text": [
      "1596\n",
      "120\n",
      "\n",
      "630\n",
      "756\n",
      "210\n",
      "1596\n"
     ]
    }
   ],
   "source": [
    "# Из трех математиков и десяти экономистов нужно составить комиссию, \n",
    "# в состав которой войдет семь человек. \n",
    "# При этом в ней должен участвовать хотя бы один математик.\n",
    "\n",
    "# Сколькими способами может быть составлена комиссия?\n",
    "\n",
    "q = cnk(7, 13) # всего вариантов создания комиссий\n",
    "w = cnk(7, 10) # всего вариантов создания комиссий только из экономистов\n",
    "\n",
    "print(q - w)\n",
    "print(w)\n",
    "print()\n",
    "\n",
    "# 1) Один математик, шесть экономистов\n",
    "a = cnk(6, 10) * cnk(1, 3)\n",
    "print(a)\n",
    "\n",
    "# 2) Два математика, пять экономистов\n",
    "b = cnk(5, 10) * cnk(2, 3)\n",
    "print(b)\n",
    "\n",
    "# 3) Три математика, четыре экономиста\n",
    "c = cnk(4, 10) * cnk(3, 3)\n",
    "print(c)\n",
    "\n",
    "print(a + b + c)"
   ]
  },
  {
   "cell_type": "code",
   "execution_count": 8,
   "id": "0520ff03",
   "metadata": {},
   "outputs": [
    {
     "name": "stdout",
     "output_type": "stream",
     "text": [
      "60480\n"
     ]
    },
    {
     "data": {
      "text/latex": [
       "$\\displaystyle 60480$"
      ],
      "text/plain": [
       "60480"
      ]
     },
     "execution_count": 8,
     "metadata": {},
     "output_type": "execute_result"
    }
   ],
   "source": [
    "# Сколько существует шестизначных чисел, состоящих из ненулевых попарно различных цифр?\n",
    "\n",
    "print(9 * 8 * 7 * 6 * 5 * 4)\n",
    "\n",
    "ank(6, 9)"
   ]
  },
  {
   "cell_type": "code",
   "execution_count": 9,
   "id": "a9a13e04",
   "metadata": {},
   "outputs": [
    {
     "data": {
      "text/latex": [
       "$\\displaystyle 246$"
      ],
      "text/plain": [
       "246"
      ]
     },
     "execution_count": 9,
     "metadata": {},
     "output_type": "execute_result"
    }
   ],
   "source": [
    "# В группе 9 человек.\n",
    "\n",
    "# Сколько можно образовать разных подгрупп при условии, что в подгруппу входит не менее 2 человек?\n",
    "# Количество подгрупп в каждом разбиении ровно две.\n",
    "\n",
    "cnk(2, 9) + cnk(3, 9) + cnk(4, 9)"
   ]
  },
  {
   "cell_type": "code",
   "execution_count": 10,
   "id": "acb7ded2",
   "metadata": {},
   "outputs": [
    {
     "data": {
      "text/latex": [
       "$\\displaystyle 56$"
      ],
      "text/plain": [
       "56"
      ]
     },
     "execution_count": 10,
     "metadata": {},
     "output_type": "execute_result"
    }
   ],
   "source": [
    "# Для участия в команде тренер отбирает 5 мальчиков из 10.\n",
    "\n",
    "# Сколькими способами он может сформировать команду, если 2 определенных мальчика должны войти в команду?\n",
    "\n",
    "cnk(2, 2) * cnk(3, 8)"
   ]
  },
  {
   "cell_type": "code",
   "execution_count": 11,
   "id": "ebcb2307",
   "metadata": {},
   "outputs": [
    {
     "data": {
      "text/plain": [
       "26"
      ]
     },
     "execution_count": 11,
     "metadata": {},
     "output_type": "execute_result"
    }
   ],
   "source": [
    "# В классе 14 девочек и 12 мальчиков.\n",
    "\n",
    "# Сколькими способами можно выбрать ученика из этого класса?\n",
    "\n",
    "14 + 12"
   ]
  },
  {
   "cell_type": "code",
   "execution_count": 12,
   "id": "87845454",
   "metadata": {},
   "outputs": [
    {
     "name": "stdout",
     "output_type": "stream",
     "text": [
      "105\n"
     ]
    },
    {
     "data": {
      "text/latex": [
       "$\\displaystyle 105$"
      ],
      "text/plain": [
       "105"
      ]
     },
     "execution_count": 12,
     "metadata": {},
     "output_type": "execute_result"
    }
   ],
   "source": [
    "# В шахматном турнире принимали участие 15 шахматистов, причем каждый из них сыграл только одну партию с каждым из остальных.\n",
    "\n",
    "# Сколько всего партий было сыграно в этом турнире?\n",
    "\n",
    "n = 15\n",
    "\n",
    "print(int(n * (n - 1) / 2))\n",
    "\n",
    "cnk(2, 15)"
   ]
  },
  {
   "cell_type": "code",
   "execution_count": 13,
   "id": "744bea62",
   "metadata": {},
   "outputs": [
    {
     "name": "stdout",
     "output_type": "stream",
     "text": [
      "8455\n",
      "8455\n"
     ]
    }
   ],
   "source": [
    "# Сколькими способами можно распределить 4 билета в театр среди 20 студентов группы, \n",
    "# если каждый студент может получить не более 2-х билетов, и все билеты считаются равнозначными?\n",
    "\n",
    "a = cnk(4, 20) # по одному билету (4 студента)\n",
    "b = cnk(2, 20) # по два билета (2 студента)\n",
    "c = cnk(3, 20) * cnk(1, 3) # два билета и по одному (3 студента) и из трех студентов, кому достанется 3 бтлета\n",
    "\n",
    "print(a + b + c)\n",
    "\n",
    "# четыре студента получили по одному билету\n",
    "a = cnk(4, 20)\n",
    "\n",
    "# два студента получили по два билета\n",
    "b = cnk(2, 20)\n",
    "\n",
    "# два студента получили по одному билету, один - два билета\n",
    "# (количество сочетаний студентов, которые получили по одному билету. \n",
    "# Затем умножаем на количество оставшихся 18 студентов из которых один получит сразу два билета)\n",
    "c = cnk(2, 20) * cnk(1, 18)\n",
    "\n",
    "print(a + b + c)"
   ]
  },
  {
   "cell_type": "code",
   "execution_count": 14,
   "id": "ca3b6ef1",
   "metadata": {},
   "outputs": [
    {
     "data": {
      "text/latex": [
       "$\\displaystyle 43320$"
      ],
      "text/plain": [
       "43320"
      ]
     },
     "execution_count": 14,
     "metadata": {},
     "output_type": "execute_result"
    }
   ],
   "source": [
    "# Сколькими способами можно распределить 2 билета в театр и 2 билета на концерт среди 20 студентов группы, \n",
    "# если каждый студент может получить не более 2-х билетов, и билеты на одно мероприятие считаются равнозначными?\n",
    "\n",
    "# Два студента получили по билету на концерт И два других студента - по билету в театр (ИЛИ один студент получил сразу два билета)\n",
    "# выбираем из 18 студентов, т.к. не можем вручить больше двух билетов, а у нас уже есть два студента с билетом и у них будет уже три. \n",
    "# Поэтому этих студентов исключаем\n",
    "a = cnk(2,20)*(cnk(2,20)+cnk(1,18))\n",
    "\n",
    "# Один студент получил два билета на концерт И два других студента - по билету в театр (ИЛИ один - два билета)\n",
    "b = cnk(1,20)*(cnk(2,19)+cnk(1,19))\n",
    "\n",
    "a + b"
   ]
  },
  {
   "cell_type": "markdown",
   "id": "41c029bb",
   "metadata": {},
   "source": [
    "## 5.2 Перестановки с повторениями"
   ]
  },
  {
   "cell_type": "code",
   "execution_count": 15,
   "id": "422a1b8e",
   "metadata": {},
   "outputs": [],
   "source": [
    "# Размещения с повторениями\n",
    "\n",
    "def amk(m, n):\n",
    "    A_m_k = n ** m\n",
    "    return A_m_k"
   ]
  },
  {
   "cell_type": "code",
   "execution_count": 16,
   "id": "deb09e6f",
   "metadata": {},
   "outputs": [],
   "source": [
    "# Сочетания с повторениями\n",
    "\n",
    "def cmk(m, n):\n",
    "    C_m_k = sp.factorial(n + m - 1) \\\n",
    "        / (sp.factorial(m) * sp.factorial(n - 1))\n",
    "    return C_m_k"
   ]
  },
  {
   "cell_type": "code",
   "execution_count": 17,
   "id": "1de0c898",
   "metadata": {},
   "outputs": [
    {
     "data": {
      "text/plain": [
       "243"
      ]
     },
     "execution_count": 17,
     "metadata": {},
     "output_type": "execute_result"
    }
   ],
   "source": [
    "# У мальчика остались от набора для настольной игры штампы с цифрами 1, 3 и 7. \n",
    "# Он решил с помощью этих штампов нанести на все книги пятизначные номера – составить каталог.\n",
    "\n",
    "# Сколько различных пятизначных номеров может составить мальчик?\n",
    "\n",
    "n = 5\n",
    "m = 3\n",
    "amk(5, 3)"
   ]
  },
  {
   "cell_type": "code",
   "execution_count": 18,
   "id": "919d1f95",
   "metadata": {},
   "outputs": [
    {
     "data": {
      "text/latex": [
       "$\\displaystyle 3876$"
      ],
      "text/plain": [
       "3876"
      ]
     },
     "execution_count": 18,
     "metadata": {},
     "output_type": "execute_result"
    }
   ],
   "source": [
    "# В технической библиотеке имеются книги по математике, физике, химии и т. д., \n",
    "# всего по 16 разделам науки. \n",
    "# Поступил заказ на очередные 4 книги.\n",
    "\n",
    "# Сколько существует вариантов такого заказа?\n",
    "\n",
    "n = 16\n",
    "k = 4\n",
    "\n",
    "cnk(k, n + (k - 1))"
   ]
  },
  {
   "cell_type": "code",
   "execution_count": 19,
   "id": "aca31b25",
   "metadata": {},
   "outputs": [
    {
     "data": {
      "text/latex": [
       "$\\displaystyle 8855$"
      ],
      "text/plain": [
       "8855"
      ]
     },
     "execution_count": 19,
     "metadata": {},
     "output_type": "execute_result"
    }
   ],
   "source": [
    "# Девятнадцать депутатов Городского Собрания выбирают Председателя из пяти кандидатов. \n",
    "# Каждый голосует ровно за одного из них. \n",
    "# После голосования составляется протокол заседания, \n",
    "# в котором указывается лишь количество голосов за каждого кандидата \n",
    "# (без указания, кто за кого  проголосовал).\n",
    "\n",
    "# Сколько различных протоколов может получиться?\n",
    "\n",
    "n = 19\n",
    "k = 5\n",
    "\n",
    "cnk(n, n + (k - 1))"
   ]
  },
  {
   "cell_type": "code",
   "execution_count": 20,
   "id": "5fe6bd0e",
   "metadata": {},
   "outputs": [
    {
     "data": {
      "text/latex": [
       "$\\displaystyle 251$"
      ],
      "text/plain": [
       "251"
      ]
     },
     "execution_count": 20,
     "metadata": {},
     "output_type": "execute_result"
    }
   ],
   "source": [
    "# Сколько всего чисел (не больше 100000) можно составить из цифр 1, 2, 3, 4 и 5 \n",
    "# в каждом из которых цифры расположены в неубывающем порядке?\n",
    "\n",
    "n = 5\n",
    "\n",
    "total = 0\n",
    "\n",
    "for k in range(1, 6):\n",
    "    total += cnk(n - 1, n + (k - 1))\n",
    "\n",
    "total"
   ]
  },
  {
   "cell_type": "markdown",
   "id": "692a8e13",
   "metadata": {},
   "source": [
    "## 5.3 Формула включений-исключений"
   ]
  },
  {
   "cell_type": "code",
   "execution_count": 21,
   "id": "a4932611",
   "metadata": {},
   "outputs": [
    {
     "data": {
      "text/plain": [
       "30"
      ]
     },
     "execution_count": 21,
     "metadata": {},
     "output_type": "execute_result"
    }
   ],
   "source": [
    "# Каждый студент группы побывал в театре или в кино. В театр сходили 22 человека. В кино были 15 человек. И в театре, и в кино были 7 человек.\n",
    "\n",
    "# Сколько студентов в группе?\n",
    "\n",
    "t = 22\n",
    "k = 15\n",
    "tk = 7\n",
    "\n",
    "t + k - tk"
   ]
  },
  {
   "cell_type": "code",
   "execution_count": 22,
   "id": "c8291bf0",
   "metadata": {},
   "outputs": [
    {
     "name": "stdout",
     "output_type": "stream",
     "text": [
      "2\n",
      "6\n"
     ]
    }
   ],
   "source": [
    "# На одной из кафедр университета работают 13 человек, причем каждый из них знает хотя бы один иностранный язык. \n",
    "# Десять человек знают английский, \n",
    "# семеро - немецкий, \n",
    "# шестеро - французский, \n",
    "# пятеро знают английский и немецкий , \n",
    "# четверо - английский и французский, \n",
    "# трое - немецкий и французский.\n",
    "\n",
    "# Выяснить:\n",
    "\n",
    "# сколько человек знают все три языка?\n",
    "# сколько человек знают ровно два языка? \n",
    "# В качестве ответа укажите сумму значений, полученных для 1 и anf пунктов.\n",
    "\n",
    "t = 13\n",
    "a = 10\n",
    "n = 7\n",
    "f = 6\n",
    "an = 5\n",
    "af = 4\n",
    "nf = 3\n",
    "\n",
    "anf = 13 - 10 - 7 - 6 + 5 + 4 + 3\n",
    "print(anf)\n",
    "\n",
    "Nanf = (an - anf) + (af - anf) + (nf - anf)\n",
    "print(Nanf)"
   ]
  },
  {
   "cell_type": "code",
   "execution_count": 23,
   "id": "30c732dc",
   "metadata": {},
   "outputs": [
    {
     "name": "stdout",
     "output_type": "stream",
     "text": [
      "20\n",
      "60\n",
      "70\n"
     ]
    },
    {
     "data": {
      "text/plain": [
       "150"
      ]
     },
     "execution_count": 23,
     "metadata": {},
     "output_type": "execute_result"
    }
   ],
   "source": [
    "# При обследовании читательских вкусов студентов оказалось, \n",
    "# что 60 % студентов читают журнал А, \n",
    "# 50 % - журнал В, \n",
    "# 50 % - журнал С, \n",
    "# 30 % - журналы А и В, \n",
    "# 20 % - журналы В и С, \n",
    "# 40 % - журналы А и С, \n",
    "# 10 % - журналы А, В и С.\n",
    "\n",
    "# Выяснить, сколько процентов студентов:\n",
    "\n",
    "# не читает ни одного из журналов?\n",
    "# читает в точности два журнала?\n",
    "# читает не менее двух журналов?\n",
    "\n",
    "# В качестве ответа укажите сумму значений (в процентах), полученных для 1, 2 и 3 пунктов.\n",
    "\n",
    "A = 60\n",
    "B = 50\n",
    "C = 50\n",
    "AB = 30\n",
    "BC = 20\n",
    "AC = 40\n",
    "ABC = 10\n",
    "\n",
    "N = 100 - (A + B + C - AB - BC - AC + ABC)\n",
    "print(N)\n",
    "\n",
    "N2 = (AB - ABC) + (BC - ABC) + (AC - ABC)\n",
    "print(N2)\n",
    "\n",
    "N1_2 = 100 - N - ABC\n",
    "print(N1_2)\n",
    "\n",
    "N + N2 + N1_2"
   ]
  },
  {
   "cell_type": "markdown",
   "id": "82396314",
   "metadata": {},
   "source": [
    "## 5.4  Задания"
   ]
  },
  {
   "cell_type": "code",
   "execution_count": 24,
   "id": "fab23665",
   "metadata": {},
   "outputs": [
    {
     "data": {
      "text/latex": [
       "$\\displaystyle 1680$"
      ],
      "text/plain": [
       "1680"
      ]
     },
     "execution_count": 24,
     "metadata": {},
     "output_type": "execute_result"
    }
   ],
   "source": [
    "# Предприятие может предоставить работу по одной специальности 4 женщинами, \n",
    "# по другой - 6 мужчинам, по третьей - 3 работникам независимо от пола.\n",
    "\n",
    "# Сколькими способами можно заполнить вакантные места, если имеются 14 претендентов: 6 женщин и 8 мужчин?\n",
    "\n",
    "cnk(4, 6) * cnk(6, 8) * cnk(3, 4)"
   ]
  },
  {
   "cell_type": "code",
   "execution_count": 25,
   "id": "170df4bd",
   "metadata": {},
   "outputs": [
    {
     "data": {
      "text/plain": [
       "209"
      ]
     },
     "execution_count": 25,
     "metadata": {},
     "output_type": "execute_result"
    }
   ],
   "source": [
    "# В книжном магазине есть 7 экземпляров романа Достоевского «Идиот», \n",
    "# 4 экземпляра его же романа «Братья Карамазовы» и 5 экземпляров «Преступление и наказание». \n",
    "# Кроме того есть 5 томов, содержащих романы «Идиот» и «Преступление и наказание», \n",
    "# и 7 томов, содержащих «Преступление и наказание» и «Братья Карамазовы».\n",
    "\n",
    "# Сколькими способами можно сделать покупку, содержащую по одному экземпляру каждого из романов?\n",
    "\n",
    "7 * 4 * 5 + 5 * 4 + 7 * 7"
   ]
  },
  {
   "cell_type": "code",
   "execution_count": 26,
   "id": "449798ff",
   "metadata": {},
   "outputs": [
    {
     "name": "stdout",
     "output_type": "stream",
     "text": [
      "{2: 6, 3: 5}\n",
      "15552\n"
     ]
    },
    {
     "data": {
      "text/plain": [
       "42"
      ]
     },
     "execution_count": 26,
     "metadata": {},
     "output_type": "execute_result"
    }
   ],
   "source": [
    "# Сколько различных натуральных делителей имеет число 15552?\n",
    "\n",
    "# Разложение на простые множители\n",
    "\n",
    "n = 15552\n",
    "\n",
    "stepeni = dict()\n",
    "\n",
    "for i in range(2, 20):\n",
    "    if n > 1:\n",
    "        cnt_stepeni = 0\n",
    "        while n % i == 0:\n",
    "            cnt_stepeni += 1\n",
    "            n //= i\n",
    "        stepeni[i] = cnt_stepeni\n",
    "print(stepeni)\n",
    "\n",
    "print(2**6 * 3**5)\n",
    "\n",
    "7 * 6"
   ]
  },
  {
   "cell_type": "code",
   "execution_count": 27,
   "id": "c1f2b728",
   "metadata": {},
   "outputs": [
    {
     "data": {
      "text/latex": [
       "$\\displaystyle 17280$"
      ],
      "text/plain": [
       "17280"
      ]
     },
     "execution_count": 27,
     "metadata": {},
     "output_type": "execute_result"
    }
   ],
   "source": [
    "# Сколькими способами можно расставить девять различных книг на полке, чтобы определенные четыре книги стояли рядом?\n",
    "\n",
    "sp.factorial(4) * sp.factorial(6)"
   ]
  },
  {
   "cell_type": "code",
   "execution_count": 28,
   "id": "2cb8c03c",
   "metadata": {},
   "outputs": [
    {
     "name": "stdout",
     "output_type": "stream",
     "text": [
      "Всего букв: 9\n",
      "{'и': 4, 'с': 3}\n"
     ]
    },
    {
     "data": {
      "text/latex": [
       "$\\displaystyle 2520$"
      ],
      "text/plain": [
       "2520"
      ]
     },
     "execution_count": 28,
     "metadata": {},
     "output_type": "execute_result"
    }
   ],
   "source": [
    "# Сколько разных буквосочетаний (перестановок букв в исходном слове) можно сделать из букв слова «Миссисипи»?\n",
    "\n",
    "s = 'Миссисипи'\n",
    "n = len(s)\n",
    "print(f'Всего букв: {n}')\n",
    "\n",
    "repeated_letters = dict()\n",
    "\n",
    "for i in set(s):\n",
    "    cnt = s.count(i)\n",
    "    if cnt > 1:\n",
    "        repeated_letters[i] = cnt\n",
    "\n",
    "print(repeated_letters)\n",
    "\n",
    "sp.factorial(n) / (sp.factorial(4) * sp.factorial(3))"
   ]
  },
  {
   "cell_type": "code",
   "execution_count": 29,
   "id": "4015d29a",
   "metadata": {},
   "outputs": [
    {
     "name": "stdout",
     "output_type": "stream",
     "text": [
      "2 - 10\n",
      "4 - 8\n",
      "6 - 6\n"
     ]
    },
    {
     "data": {
      "text/latex": [
       "$\\displaystyle 2046$"
      ],
      "text/plain": [
       "2046"
      ]
     },
     "execution_count": 29,
     "metadata": {},
     "output_type": "execute_result"
    }
   ],
   "source": [
    "# В классе 12 учеников.\n",
    "\n",
    "# Сколькими способами их можно разбить на две группы (первую и вторую), состоящие из четного числа человек?\n",
    "\n",
    "n = 12\n",
    "\n",
    "for i in range(2, n // 2 + 1):\n",
    "    if i % 2 == 0:\n",
    "        print(i, '-', n - i)\n",
    "\n",
    "(cnk(2, 12) + cnk(4, 12) + cnk(6, 12)) * 2 - cnk(6, 12)\n",
    "\n",
    "# Минус cnk(6, 12), так как группы 6 - 6 одинаковые и дублирование не нужно"
   ]
  },
  {
   "cell_type": "code",
   "execution_count": 30,
   "id": "52958f58",
   "metadata": {},
   "outputs": [
    {
     "data": {
      "text/latex": [
       "$\\displaystyle 1120$"
      ],
      "text/plain": [
       "1120"
      ]
     },
     "execution_count": 30,
     "metadata": {},
     "output_type": "execute_result"
    }
   ],
   "source": [
    "# Сколькими способами тренер может скомплектовать хоккейную команду, \n",
    "# состоящую из одного вратаря, \n",
    "# двух защитников и \n",
    "# трех нападающих, \n",
    "# если в его распоряжении есть 2 вратаря, 5 защитников и 8 нападающих?\n",
    "\n",
    "cnk(1, 2) * cnk(2, 5) * cnk(3, 8)"
   ]
  },
  {
   "cell_type": "code",
   "execution_count": 31,
   "id": "ecd92850",
   "metadata": {},
   "outputs": [
    {
     "data": {
      "text/latex": [
       "$\\displaystyle 2100$"
      ],
      "text/plain": [
       "2100"
      ]
     },
     "execution_count": 31,
     "metadata": {},
     "output_type": "execute_result"
    }
   ],
   "source": [
    "# Имеется 10 белых и 5 черных шаров.\n",
    "\n",
    "# Сколькими способами можно выбрать 7 шаров, чтобы среди них были 3 черных?\n",
    "\n",
    "cnk(3, 5) * cnk(4, 10)"
   ]
  },
  {
   "cell_type": "code",
   "execution_count": 32,
   "id": "b4c201ae",
   "metadata": {},
   "outputs": [
    {
     "data": {
      "text/latex": [
       "$\\displaystyle 15120$"
      ],
      "text/plain": [
       "15120"
      ]
     },
     "execution_count": 32,
     "metadata": {},
     "output_type": "execute_result"
    }
   ],
   "source": [
    "# Десять команд участвуют в розыгрыше первенства по футболу, лучшие из которых занимают 1-е, 2-е и 3-е место. \n",
    "# Две команды, занявшие последние места, не будут участвовать в следующем таком же первенстве.\n",
    "\n",
    "# Сколько разных вариантов результата первенства может быть, \n",
    "# если учитывать только положение первых трех и последних двух команд?\n",
    "\n",
    "# Комментарий: результат первенства здесь - это распределение команд по первым трем местам, \n",
    "# а также знание о том, какие команды выбывают (их порядок - последнее или предпоследнее место - не важен).\n",
    "\n",
    "ank(3, 10) * cnk(2, 7)"
   ]
  },
  {
   "cell_type": "code",
   "execution_count": 33,
   "id": "cea1eca6",
   "metadata": {},
   "outputs": [
    {
     "name": "stdout",
     "output_type": "stream",
     "text": [
      "36\n",
      "36\n"
     ]
    }
   ],
   "source": [
    "# Сколько существует перестановок букв слова «конус», в которых буквы к, о, н стоят рядом?\n",
    "\n",
    "a1 = (sp.factorial(3) * sp.factorial(2)) * 3\n",
    "print(a1)\n",
    "\n",
    "a2 = sp.factorial(3) * sp.factorial(3)\n",
    "print(a2)"
   ]
  },
  {
   "cell_type": "code",
   "execution_count": 34,
   "id": "e0998ca2",
   "metadata": {},
   "outputs": [
    {
     "data": {
      "text/latex": [
       "$\\displaystyle 2940$"
      ],
      "text/plain": [
       "2940"
      ]
     },
     "execution_count": 34,
     "metadata": {},
     "output_type": "execute_result"
    }
   ],
   "source": [
    "# У Васи есть 7 книг по математике, а у Вани – девять. Все 16 книг разные.\n",
    "\n",
    "# Сколькими способами они смогут обменяться тремя книгами (то есть, дать три книги в обмен на три книги)?\n",
    "\n",
    "cnk(3, 7) * cnk(3, 9)"
   ]
  },
  {
   "cell_type": "code",
   "execution_count": 35,
   "id": "f22d8e1c",
   "metadata": {},
   "outputs": [
    {
     "name": "stdout",
     "output_type": "stream",
     "text": [
      "8\n"
     ]
    },
    {
     "data": {
      "text/latex": [
       "$\\displaystyle 336$"
      ],
      "text/plain": [
       "336"
      ]
     },
     "execution_count": 35,
     "metadata": {},
     "output_type": "execute_result"
    }
   ],
   "source": [
    "# Дано слово ЛОГАРИФМ. \n",
    "# Сколько существует способов поменять местами буквы в этом слове так, \n",
    "# чтобы в полученном буквосочетании согласные были упорядочены по алфавиту слева направо?\n",
    "\n",
    "print(len('ЛОГАРИФМ'))\n",
    "\n",
    "cnk(5, 8) * sp.factorial(3)"
   ]
  },
  {
   "cell_type": "code",
   "execution_count": 36,
   "id": "5593177c",
   "metadata": {},
   "outputs": [
    {
     "data": {
      "text/latex": [
       "$\\displaystyle 75600$"
      ],
      "text/plain": [
       "75600"
      ]
     },
     "execution_count": 36,
     "metadata": {},
     "output_type": "execute_result"
    }
   ],
   "source": [
    "# В наличии есть все семь книг про Гарри Поттера.\n",
    "\n",
    "# Сколькими способами можно расставить эти семь томов на три различные книжные полки так, чтобы на каждой полке стояла хотя бы одна книга?\n",
    "# (Расстановки, которые отличаются порядком книг на полке, считаются различными.)\n",
    "\n",
    "n = 7\n",
    "k = 3\n",
    "\n",
    "cnk(k - 1, n - 1) * sp.factorial(7)"
   ]
  },
  {
   "cell_type": "markdown",
   "id": "9ea00a66",
   "metadata": {},
   "source": [
    "## 5.5  Задания*"
   ]
  },
  {
   "cell_type": "code",
   "execution_count": 37,
   "id": "eb8abd6d",
   "metadata": {},
   "outputs": [
    {
     "name": "stdout",
     "output_type": "stream",
     "text": [
      "1200\n",
      "2970\n"
     ]
    },
    {
     "data": {
      "text/latex": [
       "$\\displaystyle 4170$"
      ],
      "text/plain": [
       "4170"
      ]
     },
     "execution_count": 37,
     "metadata": {},
     "output_type": "execute_result"
    }
   ],
   "source": [
    "# На некоторой прямой произвольным образом отмечены 10 точек, а на параллельной ей прямой – 12 точек.\n",
    "\n",
    "# Сколько существует треугольников и четырехугольников с вершинами в этих точках?\n",
    "\n",
    "# Количество возоможных точек на одной прямой * количество возможных точек на другой прямой. \n",
    "# Отдельно для треугольника и прямоугольника, потом суммируем\n",
    "\n",
    "tr = 10 * cnk(2, 12) + 12 * cnk(2, 10)\n",
    "print(tr)\n",
    "\n",
    "quad = cnk(2, 12) * cnk(2, 10)\n",
    "print(quad)\n",
    "\n",
    "tr + quad"
   ]
  },
  {
   "cell_type": "code",
   "execution_count": 38,
   "id": "b13c6641",
   "metadata": {},
   "outputs": [
    {
     "data": {
      "text/latex": [
       "$\\displaystyle 720$"
      ],
      "text/plain": [
       "720"
      ]
     },
     "execution_count": 38,
     "metadata": {},
     "output_type": "execute_result"
    }
   ],
   "source": [
    "# Семь девушек водят хоровод.\n",
    "\n",
    "# Сколькими различными способами они могут встать вкруг?\n",
    "\n",
    "sp.factorial(7 - 1)"
   ]
  },
  {
   "cell_type": "code",
   "execution_count": 39,
   "id": "70466aa7",
   "metadata": {},
   "outputs": [
    {
     "data": {
      "text/latex": [
       "$\\displaystyle 2880$"
      ],
      "text/plain": [
       "2880"
      ]
     },
     "execution_count": 39,
     "metadata": {},
     "output_type": "execute_result"
    }
   ],
   "source": [
    "# Сколько существует способов рассадить за круглый стол 5 юношей и 5 девушек так, чтобы они чередовались?\n",
    "# Будем счиать, что \"рассадки\", отличающиеся поворотом, - одинаковые.\n",
    "\n",
    "a = sp.factorial(5) # рассадка юношей\n",
    "b = sp.factorial(5) # рассадка девушек\n",
    "\n",
    "a * b / 5 # деление 5, так как для каждого произвольного варианта существует пять аналогичных ему, которые эквивалентны вращению"
   ]
  },
  {
   "cell_type": "code",
   "execution_count": 40,
   "id": "c45bd2cc",
   "metadata": {},
   "outputs": [
    {
     "data": {
      "text/latex": [
       "$\\displaystyle 210$"
      ],
      "text/plain": [
       "210"
      ]
     },
     "execution_count": 40,
     "metadata": {},
     "output_type": "execute_result"
    }
   ],
   "source": [
    "# Тест по английскому языку сдавали 10 абитуриентов. \n",
    "# Известно, что любые пять абитуриентов ответили вместе на все вопросы, \n",
    "# а любые четыре абитуриента ответили вместе не на все вопросы.\n",
    "\n",
    "# При каком наименьшем количестве вопросов теста такое могло случиться?\n",
    "\n",
    "cnk(4, 10)"
   ]
  },
  {
   "cell_type": "code",
   "execution_count": 41,
   "id": "28f60323",
   "metadata": {},
   "outputs": [
    {
     "data": {
      "text/latex": [
       "$\\displaystyle 44$"
      ],
      "text/plain": [
       "44"
      ]
     },
     "execution_count": 41,
     "metadata": {},
     "output_type": "execute_result"
    }
   ],
   "source": [
    "# Пять человек подбросили в воздух свои шляпы. \n",
    "# Шляпы вернулись этим же людям (по одной — каждому), но в произвольном порядке.\n",
    "\n",
    "# Сколько существует таких возможностей, чтобы никто из них не получил своей шляпы обратно?\n",
    "\n",
    "sp.factorial(5) - 5 * 24 + 10* 6 - 10*2 + 5*1 - 1"
   ]
  },
  {
   "cell_type": "code",
   "execution_count": 42,
   "id": "1302db3f",
   "metadata": {},
   "outputs": [
    {
     "data": {
      "text/latex": [
       "$\\displaystyle 23426$"
      ],
      "text/plain": [
       "23426"
      ]
     },
     "execution_count": 42,
     "metadata": {},
     "output_type": "execute_result"
    }
   ],
   "source": [
    "# Старуха Шапокляк решила обзавестись коллекцией из 50 саквояжей. \n",
    "# В магазине ей на выбор предложили оранжевые, зелёные, фиолетовые и голубые саквояжи.\n",
    "\n",
    "# Сколькими способами она может сделать покупку?\n",
    "# Саквояжи одного цвета считаются идентичными.\n",
    "\n",
    "n = 50\n",
    "k = 4\n",
    "\n",
    "cnk(k - 1, n + (k - 1))"
   ]
  },
  {
   "cell_type": "code",
   "execution_count": 43,
   "id": "f4bc8541",
   "metadata": {},
   "outputs": [],
   "source": [
    "# Класс из 20 учеников разделён на две половины так, \n",
    "# что каждый школьник из первой половины дружит ровно с шестью одноклассниками, \n",
    "# а каждый школьник из второй половины дружит ровно с четырьмя одноклассниками.\n",
    "\n",
    "# Найдите число таких различных компаний из трёх учеников, \n",
    "# что в них либо все школьники дружат друг с другом, \n",
    "# либо каждый не дружит ни с одним из двух оставшихся.\n",
    "\n",
    "t = cnk(3, 20) # всего учеников\n"
   ]
  },
  {
   "cell_type": "markdown",
   "id": "a985557b",
   "metadata": {},
   "source": [
    "# 6  Теория вероятностей"
   ]
  },
  {
   "cell_type": "markdown",
   "id": "c1e2d6b5",
   "metadata": {},
   "source": [
    "## 6.1 Условная и полная вероятность. Формула Байеса"
   ]
  },
  {
   "cell_type": "code",
   "execution_count": 44,
   "id": "0374b14a",
   "metadata": {},
   "outputs": [
    {
     "data": {
      "text/plain": [
       "0.73"
      ]
     },
     "execution_count": 44,
     "metadata": {},
     "output_type": "execute_result"
    }
   ],
   "source": [
    "# Есть четыре кубика с цифрами на гранях 1, 2, ..., 6 \n",
    "# и одна правильная пирамида с цифрами на гранях 1, 2, 3, 4.\n",
    "# Наугад выбрали предмет и бросили. Выпала цифра 4.\n",
    "\n",
    "# Какова вероятность того, что взяли кубик?\n",
    "# Ответ округлите до сотых.\n",
    "\n",
    "P_H1 = 4 / 5 # вероятность выбрать кубик из пяти предметов\n",
    "P_H2 = 1 / 5 # вероятность выбрать пирамида из пяти предметов\n",
    "P_A_H1 = 1 / 6 # вероятность выбросить цифру 4 при условии, что кидаем кубик\n",
    "P_A_H2 =  1 / 4 # вероятность выбросить цифру 4 при условии, что кидаем пирамиду\n",
    "P_A = P_H1 * P_A_H1 + P_H2 * P_A_H2 # Полная вероятность выбросить цифру 4\n",
    "\n",
    "# P_H1_A * P_A = P_A_H1 * P_H1 - формула Байеса\n",
    "\n",
    "P_H1_A = (P_A_H1 * P_H1) / P_A\n",
    "round(P_H1_A, 2)"
   ]
  },
  {
   "cell_type": "code",
   "execution_count": 45,
   "id": "70f67172",
   "metadata": {},
   "outputs": [
    {
     "data": {
      "text/plain": [
       "0.32"
      ]
     },
     "execution_count": 45,
     "metadata": {},
     "output_type": "execute_result"
    }
   ],
   "source": [
    "# Из четырех человек А, Б, В, Г один (А) получил правдивую информацию, \n",
    "# которую в виде сигнала ДА или НЕТ сообщает второму (Б), \n",
    "# второй - третьему (В), третий - четвертому (Г), \n",
    "# а последний сообщает результат полученной информации таким же образом, как и все другие. \n",
    "# Известно, что каждый из них верно повторяет услышанное только в одном случае из трех.\n",
    "\n",
    "# Какова вероятность, что первый из этих лгунов сказал правду, если четвертый сказал правду?\n",
    "# Ответ округлите до сотых.\n",
    "\n",
    "P_H1 = 1 / 3 # вероятность, что А сказал \"да\"\n",
    "P_H2 = 1 - P_H1 # вероятность, что А сказал \"нет\"\n",
    "\n",
    "# Событие C - Г сказал \"да\"\n",
    "\n",
    "# БВГ сказали \"да\" \n",
    "# + Б сказал \"да\", а ВГ сказали \"нет\" \n",
    "# + В сказал \"да\", а БГ сказали \"нет\" \n",
    "# + Г сказал \"да\", а БВ сказали \"нет\". \n",
    "\n",
    "# При всех этих случаях Г передаст истинную информацию, которую изначально передали А \n",
    "# при условии, что А не солгал.\n",
    "\n",
    "P_C_H1 = P_H1**3 + P_H1 * P_H2**2 + P_H1 * P_H2**2 + P_H1 * P_H2**2\n",
    "\n",
    "# БВ сказали \"да\", а Г сказал \"нет\" + \n",
    "# БГ сказали \"да\", В сказал \"нет\" + \n",
    "# ВГ сказали \"да\", Б сказал \"нет\" + \n",
    "# БВГ сказали \"нет\". \n",
    "# При всех этих случаях Г передаст истинную информацию, которую изначально передали А \n",
    "# при условии, что А солгал.\n",
    "\n",
    "# При всех этих случаях Г передаст истинную информацию, которую изначально передали А \n",
    "# при условии, что А не солгал.\n",
    "\n",
    "P_C_H2 = P_H1**2 * P_H2 + P_H1**2 * P_H2 + P_H1**2 * P_H2 + P_H2**3\n",
    "\n",
    "\n",
    "# Полная вероятность, что на выходе получили \"да\"\n",
    "P_C = P_H1 * P_C_H1 + P_H2 * P_C_H2\n",
    "\n",
    "P_H1_C = (P_C_H1 * P_H1) / P_C\n",
    "round(P_H1_C, 2)"
   ]
  },
  {
   "cell_type": "code",
   "execution_count": 46,
   "id": "8ae3a437",
   "metadata": {},
   "outputs": [
    {
     "data": {
      "text/plain": [
       "0.85"
      ]
     },
     "execution_count": 46,
     "metadata": {},
     "output_type": "execute_result"
    }
   ],
   "source": [
    "# В пирамиде 5 винтовок, три из которых снабжены оптическим прицелом. \n",
    "# Вероятность того, что стрелок поразит мишень при выстреле из винтовки с оптическим прицелом, равна 0,95; \n",
    "# для винтовки без оптического прицела эта вероятность равна 0,7.\n",
    "\n",
    "# Найти вероятность того, что мишень будет поражена, если стрелок производит один выстрел из наудачу взятой винтовки.\n",
    "\n",
    "P_H1 = 3 / 5 # вероятность взять винтовку с оптическим прицелом\n",
    "P_H2 = 2 / 5 # вероятность взять винтовку без оптического прицела\n",
    "P_A_H1 = 0.95 # вероятность поразить мишень при выстреле из винтовки с оптическим прицелом\n",
    "P_A_H2 = 0.7 # вероятность поразить мишень при выстреле из винтовки без оптического прицела\n",
    "\n",
    "P_A = P_H1 * P_A_H1 + P_H2 * P_A_H2\n",
    "round(P_A, 2)"
   ]
  },
  {
   "cell_type": "code",
   "execution_count": 47,
   "id": "452a5df1",
   "metadata": {},
   "outputs": [
    {
     "data": {
      "text/plain": [
       "0.16"
      ]
     },
     "execution_count": 47,
     "metadata": {},
     "output_type": "execute_result"
    }
   ],
   "source": [
    "# В студенческой группе 3 человека имеют высокий уровень подготовки, \n",
    "# 19 человек – средний и 3 – низкий. \n",
    "# Вероятности успешной сдачи экзамена для данных студентов соответственно равны: 0,95; 0,7 и 0,4. \n",
    "# Известно, что некоторый студент сдал экзамен.\n",
    "\n",
    "# Какова вероятность того, что: он был подготовлен очень хорошо?\n",
    "# Ответ округлите до сотых.\n",
    "\n",
    "a = 3\n",
    "b = 19\n",
    "c = 3\n",
    "\n",
    "N = a + b + c\n",
    "\n",
    "P_H1 = a / N # вероятность человека из группы a\n",
    "P_H2 = b / N # вероятность человека из группы b\n",
    "P_H3 = c / N # вероятность человека из группы c\n",
    "P_A_H1 = 0.95 # вероятность сдать экзамен человеку из группы a\n",
    "P_A_H2 = 0.7 # вероятность сдать экзамен человеку из группы b\n",
    "P_A_H3 = 0.4 # вероятность сдать экзамен человеку из группы c\n",
    "P_A = P_H1 * P_A_H1 + P_H2 * P_A_H2 + P_H3 * P_A_H3 # Полная вероятность сдать экзамен\n",
    "\n",
    "# P_H1_A * P_A = P_A_H1 * P_H1 - формула Байеса\n",
    "\n",
    "P_H1_A = (P_A_H1 * P_H1) / P_A\n",
    "round(P_H1_A, 2)"
   ]
  },
  {
   "cell_type": "code",
   "execution_count": 48,
   "id": "8824a176",
   "metadata": {},
   "outputs": [
    {
     "data": {
      "text/plain": [
       "0.77"
      ]
     },
     "execution_count": 48,
     "metadata": {},
     "output_type": "execute_result"
    }
   ],
   "source": [
    "# В студенческой группе 3 человека имеют высокий уровень подготовки, 19 человек – средний и 3 – низкий. \n",
    "# Вероятности успешной сдачи экзамена для данных студентов соответственно равны: 0,95; 0,7 и 0,4. \n",
    "# Известно, что некоторый студент сдал экзамен.\n",
    "\n",
    "# Какова вероятность того, что: он был подготовлен средне?\n",
    "# Ответ округлите до сотых.\n",
    "\n",
    "P_H2_A = (P_A_H2 * P_H2) / P_A\n",
    "round(P_H2_A, 2)"
   ]
  },
  {
   "attachments": {
    "image.png": {
     "image/png": "[encoded data removed]"
    }
   },
   "cell_type": "markdown",
   "id": "33acbe19",
   "metadata": {},
   "source": [
    "На рисунке изображена схема дорог.\n",
    "Найти вероятность того, что турист, вышедший из пункта А, попадет в пункт В, <br>\n",
    "если на развилке он наугад выбирает любую дорогу (кроме обратной, разумеется).\n",
    "\n",
    "![image.png](attachment:image.png)"
   ]
  },
  {
   "cell_type": "code",
   "execution_count": 49,
   "id": "0fec5a9b",
   "metadata": {},
   "outputs": [
    {
     "data": {
      "text/plain": [
       "0.458"
      ]
     },
     "execution_count": 49,
     "metadata": {},
     "output_type": "execute_result"
    }
   ],
   "source": [
    "P_H1 = 1 / 4\n",
    "P_H2 = 1 / 4\n",
    "P_H3 = 1 / 4\n",
    "P_H4 = 1 / 4\n",
    "P_A_H1 = 0\n",
    "P_A_H2 = 1 / 2\n",
    "P_A_H3 = 1\n",
    "P_A_H4 = 1 / 3\n",
    "\n",
    "P_A = P_H1 * P_A_H1 + P_H2 * P_A_H2 + P_H3 * P_A_H3 + P_H4 * P_A_H4\n",
    "round(P_A, 3)"
   ]
  },
  {
   "cell_type": "code",
   "execution_count": 50,
   "id": "be03bd8b",
   "metadata": {},
   "outputs": [
    {
     "name": "stdout",
     "output_type": "stream",
     "text": [
      "0.5\n",
      "0.5\n",
      "0.67\n",
      "0.33\n",
      "0.25\n"
     ]
    }
   ],
   "source": [
    "# Властелин, разгневавшись на мудреца, приказал отрубить тому голову. \n",
    "# Но затем дал мудрецу возможность попытаться спастись. \n",
    "# Итак, властелин взял 2 белых и 2 черных шара и предложил мудрецу распределить их по своему усмотрению по двум одинаковым урнам. \n",
    "# После чего, палач сначала наугад выберет одну из урн, а затем также наугад, не глядя, вытащит из неё один шар. \n",
    "# Мудрец будет помилован, если вытянутый шар оказался белым.\n",
    "\n",
    "# Какую стратегию распределения шаров по урнам должен выбрать мудрец, чтобы быть помилованным? \n",
    "# Какова максимальная вероятность спастись мудрецу? \n",
    "\n",
    "# Ответ округлите до сотых.\n",
    "\n",
    "P_H1 = P_H2 = 1 / 2\n",
    "\n",
    "# 1) В первой урне 2 б, а во второй 2 ч.\n",
    "P_A_1 = P_H1 = P_H2\n",
    "print(round(P_A_1, 2))\n",
    "\n",
    "# 2) В первой и во второй урнах по 1 б и 1 ч.\n",
    "P_A_H1 = P_A_H2 = 1 / 2\n",
    "P_A_2 = P_H1 * P_A_H1 + P_H2 * P_A_H2\n",
    "print(round(P_A_2, 2))\n",
    "\n",
    "# 3) В первой урне 1 б, а во второй 1 б и 2 ч.\n",
    "P_A_H1 = 1\n",
    "P_A_H2 = 1 / 3\n",
    "P_A_3 = P_H1 * P_A_H1 + P_H2 * P_A_H2\n",
    "print(round(P_A_3, 2))\n",
    "\n",
    "# 4) В первой урне 1 ч, а во второй 2 б и 1 ч.\n",
    "P_A_H1 = 0\n",
    "P_A_H2 = 2 / 3\n",
    "P_A_4 = P_H1 * P_A_H1 + P_H2 * P_A_H2\n",
    "print(round(P_A_4, 2))\n",
    "\n",
    "# 5) Первая урна пустая, во второй урне 2 б и 2 ч.\n",
    "P_A_H1 = 0\n",
    "P_A_H2 = 1 / 2\n",
    "P_A_5 = P_H1 * P_A_H1 + P_H2 * P_A_H2\n",
    "print(round(P_A_5, 2))"
   ]
  },
  {
   "cell_type": "code",
   "execution_count": 51,
   "id": "f002e30a",
   "metadata": {},
   "outputs": [
    {
     "data": {
      "text/plain": [
       "0.42"
      ]
     },
     "execution_count": 51,
     "metadata": {},
     "output_type": "execute_result"
    }
   ],
   "source": [
    "# Из двенадцати лотерейных билетов пять выигрышных. Билеты вытягиваются по одному без возвращения.\n",
    "\n",
    "# Какова вероятность того, что во второй раз вытянут выигрышный билет?\n",
    "# Ответ округлите до сотых.\n",
    "\n",
    "P_H1 = 5 /12\n",
    "P_H2 = 7 /12\n",
    "\n",
    "P_A_H1 = 4 / 11\n",
    "P_A_H2 = 5 / 11\n",
    "\n",
    "P_A = P_H1 * P_A_H1 + P_H2 * P_A_H2\n",
    "round(P_A, 2)"
   ]
  },
  {
   "cell_type": "code",
   "execution_count": 52,
   "id": "fde557a7",
   "metadata": {},
   "outputs": [
    {
     "data": {
      "text/plain": [
       "0.31"
      ]
     },
     "execution_count": 52,
     "metadata": {},
     "output_type": "execute_result"
    }
   ],
   "source": [
    "# Задача В салоне связи было проведено исследование продаж розовых телефонов. \n",
    "# Выяснилось, что посетители женщины этот телефон покупают в 55% случаях, \n",
    "# мужчины – в 5% случаях и дети – в 15% случаях. \n",
    "# Среди посетителей салона 50% женщин, 40% мужчин и 10% детей.\n",
    "\n",
    "# Найти вероятность того, что случайный покупатель приобретет этот товар.\n",
    "\n",
    "a = 50\n",
    "b = 40\n",
    "c = 10\n",
    "\n",
    "N = a + b + c\n",
    "\n",
    "P_H1 = a / N # вероятность того, что человек - женщина\n",
    "P_H2 = b / N # вероятность того, что человек - мужчина\n",
    "P_H3 = c / N # вероятность того, что человек - ребенок\n",
    "P_A_H1 = 0.55 # вероятность того, что женщина купит телефон \n",
    "P_A_H2 = 0.05 # вероятность того, что мужчина купит телефон \n",
    "P_A_H3 = 0.15 # вероятность того, что ребенок купит телефон \n",
    "P_A = P_H1 * P_A_H1 + P_H2 * P_A_H2 + P_H3 * P_A_H3 # Полная вероятность сдать экзамен\n",
    "\n",
    "P_A = P_H1 * P_A_H1 + P_H2 * P_A_H2 + P_H3 * P_A_H3\n",
    "round(P_A, 2)"
   ]
  },
  {
   "cell_type": "code",
   "execution_count": 53,
   "id": "623b3a79",
   "metadata": {},
   "outputs": [
    {
     "data": {
      "text/plain": [
       "0.06"
      ]
     },
     "execution_count": 53,
     "metadata": {},
     "output_type": "execute_result"
    }
   ],
   "source": [
    "# При обследовании больного имеется подозрение на одно из двух заболеваний H1 и H2. \n",
    "# Их вероятности в имеющихся условиях равны 0.6, 0.4.\n",
    "# Для уточнения диагноза назначается обследование, результатом которого будет отрицательная или положительная реакция. \n",
    "# В случае болезни H1 вероятность положительной реакции равна 0.9, а в случае H2 — 0.5. \n",
    "# Обследования были проведены дважды и оба раза реакция оказалась отрицательной.\n",
    "\n",
    "# Найдите вероятность заболевания H1 . \n",
    "# Ответ округлите до сотых.\n",
    "\n",
    "P_H1 = 0.6 # вероятность болезни 1\n",
    "P_H2 = 0.4 # вероятность болезни 2\n",
    "P_A_H1 = 0.1**2 # вероятность 2 раза получить отрицательную реакцию болезни 1\n",
    "P_A_H2 = 0.5**2 # вероятность 2 раза получить отрицательную реакцию болезни 2\n",
    "P_A = P_H1 * P_A_H1 + P_H2 * P_A_H2 # Полная вероятность получить отрицательную реакцию\n",
    "\n",
    "# P_H1_A * P_A = P_A_H1 * P_H1 - формула Байеса\n",
    "\n",
    "P_H1_A = (P_A_H1 * P_H1) / P_A\n",
    "round(P_H1_A, 2)"
   ]
  },
  {
   "cell_type": "markdown",
   "id": "61e030d0",
   "metadata": {},
   "source": [
    "## 6.2  Схема Бернулли"
   ]
  },
  {
   "cell_type": "code",
   "execution_count": 54,
   "id": "7423113f",
   "metadata": {},
   "outputs": [
    {
     "data": {
      "text/latex": [
       "$\\displaystyle 0.3125$"
      ],
      "text/plain": [
       "0.312500000000000"
      ]
     },
     "execution_count": 54,
     "metadata": {},
     "output_type": "execute_result"
    }
   ],
   "source": [
    "# Пусть монета брошена 5 раз. Требуется найти вероятность того, что выпало ровно 3 орла.\n",
    "\n",
    "# Ответ введите без округлений.\n",
    "\n",
    "p = 0.5\n",
    "n = 5\n",
    "k = 3\n",
    "q = 1 - p\n",
    "\n",
    "cnk(k, n) * p**k * q**(n-k)"
   ]
  },
  {
   "cell_type": "code",
   "execution_count": 55,
   "id": "9d00cfbf",
   "metadata": {},
   "outputs": [
    {
     "name": "stdout",
     "output_type": "stream",
     "text": [
      "6 6\n",
      "12 11\n",
      "18 16\n",
      "[0.665102023319616, 0.618667373732309, 0.597345685947723]\n"
     ]
    }
   ],
   "source": [
    "# В 1693 году Джоном Смитом был поставлен следующий вопрос: \n",
    "# одинаковы ли шансы на успех у трех человек, если первому надо получить хотя бы одну шестерку при бросании игральной кости 6 раз, \n",
    "# второму - не менее двух шестерок при 12 бросаниях, \n",
    "# а третьему - не менее трех шестерок при 18 бросаниях.\n",
    "\n",
    "N = [6, 12, 18]\n",
    "res_list = []\n",
    "\n",
    "for i in N:\n",
    "    n = i\n",
    "    k = n - n / 6 + 1\n",
    "    p = 5 / 6\n",
    "    q = 1 - p\n",
    "    print(n, int(k))\n",
    "\n",
    "    res = cnk(k, n) * p**k * q**(n-k)\n",
    "\n",
    "    if i == 12 or i == 18:\n",
    "        k += 1\n",
    "        res += cnk(k, n) * p**k * q**(n-k)\n",
    "\n",
    "        if i == 18:\n",
    "            k += 1\n",
    "            res += cnk(k, n) * p**k * q**(n-k)\n",
    "\n",
    "    res = 1 - res\n",
    "    res_list.append(res)\n",
    "\n",
    "print(res_list)"
   ]
  },
  {
   "cell_type": "code",
   "execution_count": 56,
   "id": "fdcb4159",
   "metadata": {},
   "outputs": [
    {
     "name": "stdout",
     "output_type": "stream",
     "text": [
      "0 0.198\n",
      "1 0.395\n",
      "2 0.296\n",
      "3 0.099\n"
     ]
    }
   ],
   "source": [
    "# При некоторых условиях стрельбы вероятность p попадания в цель при одном выстреле равна 1 / 3.\n",
    "# Произведено n=4 выстрела.\n",
    "\n",
    "# Каково наивероятнейшее число попаданий в цель? \n",
    "\n",
    "n = 4\n",
    "p = 1 / 3\n",
    "q = 1 - p\n",
    "K = 4\n",
    "\n",
    "k_res_list = []\n",
    "\n",
    "for k in range(K):\n",
    "    print(k, round(cnk(k, n) * p**k * q**(n-k), 3))"
   ]
  },
  {
   "cell_type": "markdown",
   "id": "bcc5d54d",
   "metadata": {},
   "source": [
    "## 6.3 Матожидание и дисперсия"
   ]
  },
  {
   "cell_type": "code",
   "execution_count": 57,
   "id": "a60e1792",
   "metadata": {},
   "outputs": [
    {
     "data": {
      "text/plain": [
       "1.0"
      ]
     },
     "execution_count": 57,
     "metadata": {},
     "output_type": "execute_result"
    }
   ],
   "source": [
    "# У дежурной в гостинице доска с 50 ключами. \n",
    "# Каждый ключ имеет номер и висит на своём крючке с таким же номером. \n",
    "# Однажды доска упала и все ключи рассыпались. \n",
    "# Дежурная собрала ключи, но в спешке развесила их в случайном порядке.\n",
    "\n",
    "# Каково математическое ожидание числа ключей, которые оказались на своих местах?\n",
    "\n",
    "n = 50\n",
    "\n",
    "P_T = 1 / n # вероятность повесить ключ правильно\n",
    "P_F = (n - 1) / n # вероятность повесить ключ неправильно\n",
    "\n",
    "(1 * P_T + 0 * P_F) * n"
   ]
  },
  {
   "cell_type": "code",
   "execution_count": 58,
   "id": "79c352a1",
   "metadata": {},
   "outputs": [
    {
     "data": {
      "text/plain": [
       "25000.0"
      ]
     },
     "execution_count": 58,
     "metadata": {},
     "output_type": "execute_result"
    }
   ],
   "source": [
    "# Издатель решил издать новую книгу. Продавать книгу он собирается за 280 руб., \n",
    "# из которых 200 получит он сам, 50 - книжный магазин и 30 - автор. \n",
    "# В таблице дана информация о затратах на издание книги и вероятности продажи определённого числа экземпляров книги.\n",
    "\n",
    "# Найдите матожидание прибыли.\n",
    "\n",
    "# Число проданных экземпляров\tВероятность\t    Затраты\n",
    "#           500\t                    0,20\t     225000\n",
    "#           1000\t                0,40\t     250000\n",
    "#           2000\t                0,25\t     300000\n",
    "#           3000\t                0,10\t     350000\n",
    "#           4000\t                0,05\t     400000\n",
    "\n",
    "n_list = np.array([500, 1000, 2000, 3000, 4000])\n",
    "P_list = np.array([0.20, 0.40, 0.25, 0.10, 0.05])\n",
    "q_list = np.array([225000, 250000, 300000, 350000, 400000])\n",
    "\n",
    "M = np.sum((n_list * 200 - q_list) * P_list)\n",
    "M"
   ]
  },
  {
   "cell_type": "code",
   "execution_count": 59,
   "id": "60940afb",
   "metadata": {},
   "outputs": [
    {
     "data": {
      "text/plain": [
       "1.2"
      ]
     },
     "execution_count": 59,
     "metadata": {},
     "output_type": "execute_result"
    }
   ],
   "source": [
    "# Определить математическое ожидание случайной величины x числа попаданий при трёх выстрелах, \n",
    "# если вероятность попадания при каждом выстреле p=0.4\n",
    "\n",
    "round(3 * 0.4, 2)"
   ]
  },
  {
   "cell_type": "code",
   "execution_count": 60,
   "id": "df1ea9d9",
   "metadata": {},
   "outputs": [
    {
     "name": "stdout",
     "output_type": "stream",
     "text": [
      "Вероятности х1 х2 = 3/10 7/10\n",
      "21.0\n"
     ]
    }
   ],
   "source": [
    "# Известно, что дискретная случайная величина X принимает лишь два значения: -3 и 7. \n",
    "# Кроме того, известно математическое ожидание: E(X) = 4.\n",
    "\n",
    "# Найти дисперсию дискретной случайной величины.\n",
    "\n",
    "E = 4\n",
    "x1 = -3\n",
    "x2 = 7\n",
    "\n",
    "p = sp.Symbol('p')\n",
    "expr = x1 * p + x2 * (1 - p) - E\n",
    "p = sp.solve(expr, p)[0]\n",
    "\n",
    "p1 = p\n",
    "p2 = 1 - p\n",
    "print('Вероятности х1 х2 =', p1, p2)\n",
    "\n",
    "D = (x1 - E)**2 * p1 + (x2 - E)**2 * p2\n",
    "print(float(D))"
   ]
  },
  {
   "cell_type": "code",
   "execution_count": 61,
   "id": "07caed99",
   "metadata": {},
   "outputs": [
    {
     "name": "stdout",
     "output_type": "stream",
     "text": [
      "9/5\n",
      "14/25\n",
      "2.36\n"
     ]
    }
   ],
   "source": [
    "# В урне 6 белых и 4 чёрных шара. \n",
    "# Из урны вынимают 3 шара. \n",
    "# Число белых шаров среди вынутых шаров является дискретной случайной величиной X.\n",
    "\n",
    "# Найти математическое ожидание и дисперсию этой случайной величины.\n",
    "# В ответ запишите их сумму.\n",
    "\n",
    "# Гипергеометрическая вероятность\n",
    "\n",
    "p0 = cnk(0, 6) * cnk(3, 4) / cnk(3, 10) \n",
    "p1 = cnk(1, 6) * cnk(2, 4) / cnk(3, 10) \n",
    "p2 = cnk(2, 6) * cnk(1, 4) / cnk(3, 10) \n",
    "p3 = cnk(3, 6) * cnk(0, 4) / cnk(3, 10) \n",
    "\n",
    "X = np.array([0, 1, 2, 3])\n",
    "P = np.array([p0, p1, p2, p3])\n",
    "M = np.sum(X * P)\n",
    "print(M)\n",
    "D = np.sum((X - M)**2 * P)\n",
    "print(D)\n",
    "print(float(M + D))"
   ]
  },
  {
   "attachments": {
    "image.png": {
     "image/png": "[encoded data removed]"
    }
   },
   "cell_type": "markdown",
   "id": "d1fb8a4f",
   "metadata": {},
   "source": [
    "Дана функция распределения вероятностей непрерывной случайной величины: <br><br>\n",
    "![image.png](attachment:image.png)\n",
    "\n",
    "Найдите математическое ожидание и дисперсию непрерывной случайной величины. <br>\n",
    "В ответ запишите их сумму. Ответ округлите до сотых."
   ]
  },
  {
   "cell_type": "code",
   "execution_count": 62,
   "id": "71b58a7b",
   "metadata": {},
   "outputs": [
    {
     "data": {
      "text/plain": [
       "'Функция распределения вероятности'"
      ]
     },
     "metadata": {},
     "output_type": "display_data"
    },
    {
     "data": {
      "text/latex": [
       "$\\displaystyle \\sin^{2}{\\left(\\frac{3 x}{2} \\right)}$"
      ],
      "text/plain": [
       "sin(3*x/2)**2"
      ]
     },
     "metadata": {},
     "output_type": "display_data"
    },
    {
     "data": {
      "text/plain": [
       "'Функция плотности вероятности'"
      ]
     },
     "metadata": {},
     "output_type": "display_data"
    },
    {
     "data": {
      "text/latex": [
       "$\\displaystyle 3 \\sin{\\left(\\frac{3 x}{2} \\right)} \\cos{\\left(\\frac{3 x}{2} \\right)}$"
      ],
      "text/plain": [
       "3*sin(3*x/2)*cos(3*x/2)"
      ]
     },
     "metadata": {},
     "output_type": "display_data"
    },
    {
     "name": "stdout",
     "output_type": "stream",
     "text": [
      "Математическое ожидание = pi/6\n",
      "Дисперсия = -2/9 + pi**2/36\n",
      "Ответ: 0.58\n"
     ]
    }
   ],
   "source": [
    "# f(x) = F'(x)\n",
    "# M(x) = integrate(x * f(x))\n",
    "# D(x) = integrate((x - M(x)) * f(x)) \n",
    "\n",
    "x = sp.Symbol('x')\n",
    "F = sp.sin(3*x/2)**2\n",
    "display('Функция распределения вероятности', F)\n",
    "\n",
    "f = sp.diff(F,x)\n",
    "display('Функция плотности вероятности', f)\n",
    "\n",
    "M = sp.integrate(x * f, (x, 0, sp.pi/3))\n",
    "print(f'Математическое ожидание = {M}')\n",
    "\n",
    "D = sp.integrate((x - M)**2 * f, (x, 0, sp.pi/3))\n",
    "print(f'Дисперсия = {D}')\n",
    "\n",
    "print('Ответ: {}'.format(round(M + D,2)))"
   ]
  },
  {
   "attachments": {
    "image-2.png": {
     "image/png": "[encoded data removed]"
    },
    "image.png": {
     "image/png": "[encoded data removed]"
    }
   },
   "cell_type": "markdown",
   "id": "856a5cb8",
   "metadata": {},
   "source": [
    "У инвестора есть 4 альтернативных проекта инвестиций. <br>\n",
    "В таблице обобщены данные об ожидаемой прибыли в этих проектах с соответствующей вероятностью. <br><br>\n",
    "![image.png](attachment:image.png) <br><br>\n",
    "![image-2.png](attachment:image-2.png) <br><br>\n",
    "Если инвестор вкладывает деньги долгосрочно, то все варианты примерно одинаково прибыльны. <br>\n",
    "При этом, чем выше стандартное отклонение, тем больше риск."
   ]
  },
  {
   "attachments": {
    "image.png": {
     "image/png": "[encoded data removed]"
    }
   },
   "cell_type": "markdown",
   "id": "b5acf22f",
   "metadata": {},
   "source": [
    "![image.png](attachment:image.png)"
   ]
  },
  {
   "cell_type": "code",
   "execution_count": 63,
   "id": "da3e439e",
   "metadata": {},
   "outputs": [
    {
     "data": {
      "text/latex": [
       "$\\displaystyle - a + 5 b - 1.9$"
      ],
      "text/plain": [
       "-a + 5*b - 1.9"
      ]
     },
     "metadata": {},
     "output_type": "display_data"
    },
    {
     "name": "stdout",
     "output_type": "stream",
     "text": [
      "0.5\n"
     ]
    }
   ],
   "source": [
    "a, b = sp.symbols('a b')\n",
    "\n",
    "X = np.array([-6, -1, 2, 5, 10])\n",
    "P = np.array([0.1, a, 0.2, b, 0.2])\n",
    "M = np.sum(X * P) - 3.7\n",
    "display(M)\n",
    "sp.solve(M, [a, b])\n",
    "\n",
    "print(1 - (0.1 + 0.2 + 0.2))"
   ]
  },
  {
   "attachments": {
    "image.png": {
     "image/png": "[encoded data removed]"
    }
   },
   "cell_type": "markdown",
   "id": "ff42a614",
   "metadata": {},
   "source": [
    "![image.png](attachment:image.png)"
   ]
  },
  {
   "cell_type": "code",
   "execution_count": 75,
   "id": "a54562ae",
   "metadata": {},
   "outputs": [
    {
     "data": {
      "text/latex": [
       "$\\displaystyle - 4 a + 5 b - 1.9$"
      ],
      "text/plain": [
       "-4*a + 5*b - 1.9"
      ]
     },
     "metadata": {},
     "output_type": "display_data"
    },
    {
     "name": "stdout",
     "output_type": "stream",
     "text": [
      "0.5\n"
     ]
    }
   ],
   "source": [
    "a, b = sp.symbols('a b')\n",
    "\n",
    "X = np.array([-6, -4, 2, 5, 10])\n",
    "P = np.array([0.1, a, 0.2, b, 0.2])\n",
    "M = np.sum(X * P) - 3.7\n",
    "display(M)\n",
    "sp.solve(M, [a, b])\n",
    "\n",
    "print(1 - (0.1 + 0.2 + 0.2))"
   ]
  },
  {
   "cell_type": "code",
   "execution_count": 77,
   "id": "942c1881",
   "metadata": {},
   "outputs": [
    {
     "data": {
      "text/plain": [
       "33.17"
      ]
     },
     "metadata": {},
     "output_type": "display_data"
    },
    {
     "name": "stdout",
     "output_type": "stream",
     "text": [
      "38.929340239992776\n"
     ]
    }
   ],
   "source": [
    "X = np.array([-6, -4, 2, 5, 10])\n",
    "P = np.array([0.1, 0.25, 0.2, 0.25, 0.2])\n",
    "M = 3.7\n",
    "\n",
    "D = np.sum((X - M)**2 * P)\n",
    "display(D)\n",
    "\n",
    "print(D + np.sqrt(D))"
   ]
  },
  {
   "cell_type": "code",
   "execution_count": 78,
   "id": "0264ebf1",
   "metadata": {},
   "outputs": [
    {
     "data": {
      "text/plain": [
       "20.959999999999997"
      ]
     },
     "metadata": {},
     "output_type": "display_data"
    },
    {
     "name": "stdout",
     "output_type": "stream",
     "text": [
      "25.538209256903837\n"
     ]
    }
   ],
   "source": [
    "X = np.array([-6, -4, 2, 5, 10])\n",
    "P = np.array([0.1, 0.25, 0.2, 0.25, 0.2])\n",
    "M = 3.7\n",
    "\n",
    "D = np.sum(X**2 * P) - M**2\n",
    "display(D)\n",
    "\n",
    "print(D + np.sqrt(D))"
   ]
  },
  {
   "cell_type": "code",
   "execution_count": 66,
   "id": "c0bdce06",
   "metadata": {},
   "outputs": [],
   "source": [
    "# Случайная величина X имеет биномиальное распределение.\n",
    "# C математическим ожиданием M(X)=2.4 и дисперсией D(X)=0.96.\n",
    "# Найти вероятность события X<3.\n",
    "\n",
    "# M(X)=n*p\n",
    "# D(X)=n*p*q"
   ]
  },
  {
   "cell_type": "code",
   "execution_count": 67,
   "id": "f41e8d5b",
   "metadata": {},
   "outputs": [
    {
     "data": {
      "text/plain": [
       "'Функция плотности вероятности'"
      ]
     },
     "metadata": {},
     "output_type": "display_data"
    },
    {
     "data": {
      "text/plain": [
       "0"
      ]
     },
     "metadata": {},
     "output_type": "display_data"
    },
    {
     "name": "stdout",
     "output_type": "stream",
     "text": [
      "Математическое ожидание = 0\n",
      "Дисперсия = 0\n",
      "Ответ: 0\n"
     ]
    }
   ],
   "source": [
    "# Дана непрерывная случайная величина. \n",
    "# Её плотность вероятности f(x) = c при 0 <= x <= 10\n",
    "\n",
    "\n",
    "# Найти её математическое ожидание и дисперсию.\n",
    "# В ответ записать их разность округленную до сотых.\n",
    "\n",
    "# f(x) = F'(x)\n",
    "# M(x) = integrate(x * f(x))\n",
    "# D(x) = integrate((x - M(x)) * f(x)) \n",
    "\n",
    "x, c = sp.symbols('x c')\n",
    "\n",
    "f = 0\n",
    "display('Функция плотности вероятности', f)\n",
    "\n",
    "M = sp.integrate(x * f, (x, 0, 10))\n",
    "print(f'Математическое ожидание = {M}')\n",
    "\n",
    "D = sp.integrate((x - M)**2 * f, (x, 0, 10))\n",
    "print(f'Дисперсия = {D}')\n",
    "\n",
    "print('Ответ: {}'.format(round(M + D,2)))"
   ]
  },
  {
   "cell_type": "code",
   "execution_count": 68,
   "id": "070522bf",
   "metadata": {},
   "outputs": [
    {
     "data": {
      "text/plain": [
       "1.0"
      ]
     },
     "execution_count": 68,
     "metadata": {},
     "output_type": "execute_result"
    }
   ],
   "source": [
    "11 / 36 + 25 / 36"
   ]
  },
  {
   "cell_type": "markdown",
   "id": "47b2ca1d",
   "metadata": {},
   "source": [
    "## 6.4 Геометрическая интерпретация вероятности"
   ]
  },
  {
   "cell_type": "code",
   "execution_count": 69,
   "id": "bacec249",
   "metadata": {},
   "outputs": [
    {
     "data": {
      "text/plain": [
       "0.4"
      ]
     },
     "execution_count": 69,
     "metadata": {},
     "output_type": "execute_result"
    }
   ],
   "source": [
    "# Метровую ленту случайным образом разрезают ножницами.\n",
    "# Найти вероятность того, что длина обрезка составит не менее 80 см.\n",
    "\n",
    "# Чтобы получить обрезок длиной 80 см, надо отрезать не более 20 см с одного из краёв. \n",
    "# По сути ножницы должны попасть в отрезок в 20 см с одной стороны ленты или 20 см с другой:\n",
    "\n",
    "# P(80 <= X)\n",
    "\n",
    "P = (20 + 20) / 100\n",
    "P"
   ]
  },
  {
   "cell_type": "markdown",
   "id": "3cfda8fb",
   "metadata": {},
   "source": [
    "# Задачи"
   ]
  },
  {
   "cell_type": "code",
   "execution_count": 70,
   "id": "2a35bea7",
   "metadata": {},
   "outputs": [
    {
     "data": {
      "text/latex": [
       "$\\displaystyle \\frac{e^{\\sqrt{x}}}{\\sqrt{x}}$"
      ],
      "text/plain": [
       "exp(sqrt(x))/sqrt(x)"
      ]
     },
     "metadata": {},
     "output_type": "display_data"
    },
    {
     "data": {
      "text/latex": [
       "$\\displaystyle -2 + 2 e$"
      ],
      "text/plain": [
       "-2 + 2*E"
      ]
     },
     "execution_count": 70,
     "metadata": {},
     "output_type": "execute_result"
    }
   ],
   "source": [
    "# Определенный интеграл:\n",
    "\n",
    "x = sp.Symbol('x')\n",
    "\n",
    "f = sp.exp(sp.sqrt(x))/sp.sqrt(x)\n",
    "display(f)\n",
    "\n",
    "res = sp.integrate(f, (x, 0, 1))\n",
    "res"
   ]
  },
  {
   "cell_type": "code",
   "execution_count": 71,
   "id": "5f2efab7",
   "metadata": {},
   "outputs": [
    {
     "data": {
      "text/latex": [
       "$\\displaystyle \\lim_{x \\to 0^+} \\cos^{\\frac{\\log{\\left(2 \\right)}}{\\log{\\left(\\cos{\\left(x^{2} \\right)} \\right)}}}{\\left(\\log{\\left(\\cos{\\left(2 x \\right)} \\right)} \\right)}$"
      ],
      "text/plain": [
       "Limit(cos(log(cos(2*x)))**(log(2)/log(cos(x**2))), x, 0, dir='+')"
      ]
     },
     "metadata": {},
     "output_type": "display_data"
    },
    {
     "data": {
      "text/latex": [
       "$\\displaystyle 16$"
      ],
      "text/plain": [
       "16"
      ]
     },
     "metadata": {},
     "output_type": "display_data"
    }
   ],
   "source": [
    "x = sp.Symbol('x')\n",
    "\n",
    "f = sp.cos(sp.log(sp.cos(2 * x)))**(sp.log(2) / (sp.log(sp.cos(x**2))))\n",
    "ex = sp.Limit(f,x,0)\n",
    "display(ex)\n",
    "\n",
    "f_lim = ex.doit()\n",
    "display(f_lim)"
   ]
  },
  {
   "cell_type": "code",
   "execution_count": 81,
   "id": "94c92b32",
   "metadata": {},
   "outputs": [
    {
     "data": {
      "text/plain": [
       "[2, -1, 0]"
      ]
     },
     "execution_count": 81,
     "metadata": {},
     "output_type": "execute_result"
    }
   ],
   "source": [
    "# Найдите собственные значения матрицы\n",
    "\n",
    "A = sp.Matrix([[1,1,1],\n",
    "               [1,-2,-1],\n",
    "               [0,3,2]])\n",
    "\n",
    "list(A.eigenvals().keys())"
   ]
  },
  {
   "cell_type": "code",
   "execution_count": 85,
   "id": "ea50bb9e",
   "metadata": {},
   "outputs": [
    {
     "data": {
      "text/plain": [
       "-0.64"
      ]
     },
     "execution_count": 85,
     "metadata": {},
     "output_type": "execute_result"
    }
   ],
   "source": [
    "# Найдите cosα, где α - угол между векторами {0, −4, 3} и {3, 4, 0}.\n",
    "\n",
    "# Ответ округлите до сотых.\n",
    "\n",
    "# a' @ b' = |a'| * |b'| * cosa\n",
    "\n",
    "a = np.array([0, -4, 3])\n",
    "b = np.array([3, 4, 0])\n",
    "\n",
    "a_mod = np.sqrt(np.sum(a**2))\n",
    "b_mod = np.sqrt(np.sum(b**2))\n",
    "\n",
    "cosa = (a @ b) / (a_mod * b_mod)\n",
    "cosa"
   ]
  },
  {
   "cell_type": "code",
   "execution_count": 86,
   "id": "7dd6053c",
   "metadata": {},
   "outputs": [
    {
     "data": {
      "text/plain": [
       "2730"
      ]
     },
     "execution_count": 86,
     "metadata": {},
     "output_type": "execute_result"
    }
   ],
   "source": [
    "# В магазине представлено 15 видов цветов. \n",
    "# Вася хочет подарить на 8 марта цветок маме, сестре и подруге Маше. \n",
    "# Всем этим женщинам он хочет подарить по одному цветку, но все цветки - разных видов. \n",
    "# Сначала Вася выбирает цветок маме. Из оставшихся - выбирает цветок сестре. Из оставшихся видов - подруге.\n",
    "\n",
    "# Сколькими способами Вася может сделать свой выбор?\n",
    "\n",
    "15 * 14 * 13"
   ]
  },
  {
   "cell_type": "code",
   "execution_count": 87,
   "id": "978e0928",
   "metadata": {},
   "outputs": [
    {
     "data": {
      "text/plain": [
       "33"
      ]
     },
     "execution_count": 87,
     "metadata": {},
     "output_type": "execute_result"
    }
   ],
   "source": [
    "# На лето учащимся школы было задано прочитать два произведения: «Преступление и наказание» и «Отцы и дети». \n",
    "# Всего учащихся 65, и каждый из них прочел хотя бы одно из этих произведений. \n",
    "# Известно, что «Преступление и наказание» прочли 47 человек, оба произведения прочли 15 человек.\n",
    "\n",
    "# Сколько человек прочли «Отцы и дети»?\n",
    "\n",
    "n = 65\n",
    "pn = 47\n",
    "pn_od = 15\n",
    "od = n - pn + pn_od\n",
    "od"
   ]
  },
  {
   "cell_type": "code",
   "execution_count": 88,
   "id": "a780f8ec",
   "metadata": {},
   "outputs": [
    {
     "data": {
      "text/plain": [
       "0.11"
      ]
     },
     "execution_count": 88,
     "metadata": {},
     "output_type": "execute_result"
    }
   ],
   "source": [
    "# На столе лежит две монеты: \n",
    "# одна обыкновенная, а другая «счастливая» — орел на ней выпадает с вероятностью 1. \n",
    "# Наугад выбираются одна монета и подбрасывается три раза. \n",
    "# Какова вероятность, что эта монета обыкновенная, если все три раза выпал орел?\n",
    "\n",
    "# Запишите ответ в виде десятичной дроби, округлив её до двух знаков после точки.\n",
    "\n",
    "P_H1 = P_H2 = 0.5\n",
    "P_A_H1 = 1\n",
    "P_A_H2 = 0.5 * 0.5 * 0.5\n",
    "\n",
    "P_A = P_H1 * P_A_H1 + P_H2 * P_A_H2 # Полная вероятность выбросить цифру 4\n",
    "\n",
    "# P_H1_A * P_A = P_A_H1 * P_H1 - формула Байеса\n",
    "\n",
    "P_A_H2 = (P_A_H2 * P_H2) / P_A\n",
    "round(P_A_H2, 2)"
   ]
  },
  {
   "cell_type": "code",
   "execution_count": 90,
   "id": "1f6e7304",
   "metadata": {},
   "outputs": [
    {
     "data": {
      "text/latex": [
       "$\\displaystyle 0.17$"
      ],
      "text/plain": [
       "0.17"
      ]
     },
     "execution_count": 90,
     "metadata": {},
     "output_type": "execute_result"
    }
   ],
   "source": [
    "# Из корзины, в которой лежит 4 черных и 6 белых шаров, по очереди достают 3 шара в случайном порядке.\n",
    "\n",
    "# Какова вероятность, что все три вынутых шара белые?\n",
    "# Ответ округлите до сотых.\n",
    "\n",
    "p3 = cnk(3, 6) * cnk(0, 4) / cnk(3, 10) \n",
    "round(p3, 2)"
   ]
  },
  {
   "attachments": {
    "image.png": {
     "image/png": "[encoded data removed]"
    }
   },
   "cell_type": "markdown",
   "id": "3f6ffaf8",
   "metadata": {},
   "source": [
    "![image.png](attachment:image.png)"
   ]
  },
  {
   "cell_type": "code",
   "execution_count": 93,
   "id": "b94d3c54",
   "metadata": {},
   "outputs": [
    {
     "data": {
      "text/plain": [
       "6"
      ]
     },
     "execution_count": 93,
     "metadata": {},
     "output_type": "execute_result"
    }
   ],
   "source": [
    "A = [3, -2, 4, -1, 6, 5, 0, 3, -1, 1]\n",
    "n = len(A)\n",
    "for i in range(n-1):\n",
    "    if A[i] > A[i+1]:\n",
    "        A[i] += A[i+1]\n",
    "        A[i+1] = A[i] - A[i+1]\n",
    "        A[i] += A[i] - A[i+1]\n",
    "\n",
    "A[-1]"
   ]
  },
  {
   "attachments": {
    "image.png": {
     "image/png": "[encoded data removed]"
    }
   },
   "cell_type": "markdown",
   "id": "2adcd0df",
   "metadata": {},
   "source": [
    "![image.png](attachment:image.png)"
   ]
  },
  {
   "cell_type": "code",
   "execution_count": 107,
   "id": "adb6b783",
   "metadata": {},
   "outputs": [
    {
     "data": {
      "text/plain": [
       "array([2048, -1, 0], dtype=object)"
      ]
     },
     "execution_count": 107,
     "metadata": {},
     "output_type": "execute_result"
    }
   ],
   "source": [
    "A = sp.Matrix([[1, 1, 1],\n",
    "               [1,-2,-1],\n",
    "               [0, 3, 2]])\n",
    "\n",
    "# Собственные значения матрицы\n",
    "eigs = np.array(list(A.eigenvals().keys()))\n",
    "eigs**11"
   ]
  },
  {
   "attachments": {
    "image.png": {
     "image/png": "[encoded data removed]"
    }
   },
   "cell_type": "markdown",
   "id": "24b35c65",
   "metadata": {},
   "source": [
    "![image.png](attachment:image.png)"
   ]
  },
  {
   "attachments": {
    "image.png": {
     "image/png": "[encoded data removed]"
    }
   },
   "cell_type": "markdown",
   "id": "cbe3a860",
   "metadata": {},
   "source": [
    "![image.png](attachment:image.png)"
   ]
  },
  {
   "cell_type": "code",
   "execution_count": 108,
   "id": "29406f53",
   "metadata": {},
   "outputs": [
    {
     "data": {
      "text/plain": [
       "0.19047619047619047"
      ]
     },
     "execution_count": 108,
     "metadata": {},
     "output_type": "execute_result"
    }
   ],
   "source": [
    "A = np.array([2, -1, 2,])\n",
    "B = np.array([6, 2, -3,])\n",
    "\n",
    "cosa = np.sum(A * B) / (np.sqrt(np.sum(A**2)) * np.sqrt(np.sum(B**2)))\n",
    "cosa"
   ]
  },
  {
   "cell_type": "code",
   "execution_count": 110,
   "id": "5941637c",
   "metadata": {},
   "outputs": [],
   "source": [
    "# В магазине представлено 15 видов цветов, из которых ровно 4 — виды роз. \n",
    "# Покупатель хочет собрать букет из 7 цветков, в котором есть хоть одна роза, \n",
    "# а суммарно ровно 4 вида цветов.\n",
    "\n",
    "# Сколькими способами он может это сделать?\n",
    "# Цветы одного вида считаются одинаковыми."
   ]
  },
  {
   "cell_type": "code",
   "execution_count": 121,
   "id": "f4cb1c3b",
   "metadata": {},
   "outputs": [
    {
     "data": {
      "text/plain": [
       "52"
      ]
     },
     "execution_count": 121,
     "metadata": {},
     "output_type": "execute_result"
    }
   ],
   "source": [
    "# На лето 200 учащимся школы было задано прочитать три произведения: \n",
    "# «Война и мир», «Преступление и наказание» и «Отцы и дети». \n",
    "# Известно, что ровно 150 учеников прочитали «Войну и мир», \n",
    "# ровно 134 — «Преступление и наказание» и ровно 168 — «Отцы и дети».\n",
    "\n",
    "# Какое наименьшее число учащихся могло прочесть все три произведения?\n",
    "\n",
    "n = 200\n",
    "v = 150\n",
    "p = 134\n",
    "o = 168\n",
    "\n",
    "v_ = n - v\n",
    "p_ = n - p\n",
    "o_ = n - o\n",
    "\n",
    "n - v_ - p_ - o_"
   ]
  },
  {
   "cell_type": "code",
   "execution_count": 125,
   "id": "e3c0c57e",
   "metadata": {},
   "outputs": [],
   "source": [
    "# Из корзины, в которой лежит 4 черных и 6 белых шаров, по очереди достают 3 шара в случайном порядке.\n",
    "# Из корзины достали еще три шара.\n",
    "\n",
    "# Найдите математическое ожидание числа белых шаров среди всех шести вынутых."
   ]
  },
  {
   "cell_type": "code",
   "execution_count": null,
   "id": "273a1161",
   "metadata": {},
   "outputs": [
    {
     "name": "stdout",
     "output_type": "stream",
     "text": [
      "18\n"
     ]
    }
   ],
   "source": [
    "def alg(k):\n",
    "    c = 1\n",
    "    A = [0] * k\n",
    "\n",
    "    for i in range(2, int(k**0.5 + 1)):\n",
    "        if k % 2 == 0:\n",
    "            a = i\n",
    "            b = k // a\n",
    "            if (a % 3 == 0) and (A[a] == 0):\n",
    "                c = c * i\n",
    "                A[a] = 1\n",
    "            if (b % 3 == 0) and (A[b] == 0):\n",
    "                c = c * b\n",
    "                A[b] = 1\n",
    "\n",
    "    return c\n",
    "\n",
    "for x in range(1, 1000000):\n",
    "    a = alg(x)\n",
    "    if a == 162:\n",
    "        print(x)\n",
    "        break"
   ]
  },
  {
   "cell_type": "code",
   "execution_count": null,
   "id": "44ec5555",
   "metadata": {},
   "outputs": [
    {
     "data": {
      "text/plain": [
       "8"
      ]
     },
     "metadata": {},
     "output_type": "display_data"
    }
   ],
   "source": [
    "import numpy as np\n",
    "A = np.zeros([5, 5])\n",
    "\n",
    "for n in range(5):\n",
    "\tfor k in range(5):\n",
    "\t\tA[n,k] = (n + 1) * (k +1)\n",
    "\t\t\n",
    "np.greater(A, 10).sum()"
   ]
  },
  {
   "cell_type": "code",
   "execution_count": null,
   "id": "35d00e50",
   "metadata": {},
   "outputs": [
    {
     "data": {
      "text/plain": [
       "129"
      ]
     },
     "metadata": {},
     "output_type": "display_data"
    }
   ],
   "source": [
    "A = '5\t43\t20\t7\t13\t7\t20\t13\t2\t33\t15\t5'\n",
    "A = list(map(int, A.split()))\n",
    "\n",
    "s = 0\n",
    "for i in range(1, 12):\n",
    "    if (A[i-1] / A[i] < 2):\n",
    "        s += A[i]\n",
    "    else:\n",
    "        A[i] = A[i] * i\n",
    "s"
   ]
  },
  {
   "attachments": {
    "image.png": {
     "image/png": "[encoded data removed]"
    }
   },
   "cell_type": "markdown",
   "id": "7c6caa92",
   "metadata": {},
   "source": [
    "![image.png](attachment:image.png)"
   ]
  },
  {
   "cell_type": "code",
   "execution_count": null,
   "id": "686e2118",
   "metadata": {},
   "outputs": [
    {
     "data": {
      "text/latex": [
       "$\\displaystyle - \\frac{1}{2}$"
      ],
      "text/plain": [
       "-1/2"
      ]
     },
     "metadata": {},
     "output_type": "display_data"
    }
   ],
   "source": [
    "# Решить систему линейных алгебраических уравнений\n",
    "import sympy as sp\n",
    "A = sp.Matrix([[1, 0, 2], \n",
    "              [2, -1, 1],\n",
    "              [1, 3, -1]])\n",
    "\n",
    "C = A.inv()\n",
    "\n",
    "for i in range(3):\n",
    "    for j in range(3):\n",
    "        if i != j:\n",
    "            C[i, j] = 0\n",
    "sum(C)"
   ]
  },
  {
   "cell_type": "code",
   "execution_count": null,
   "id": "0769dd00",
   "metadata": {},
   "outputs": [
    {
     "data": {
      "text/latex": [
       "$\\displaystyle -2.0$"
      ],
      "text/plain": [
       "-2.00000000000000"
      ]
     },
     "metadata": {},
     "output_type": "display_data"
    }
   ],
   "source": [
    "A = np.array([[3, -1], \n",
    "              [5, -2]])\n",
    "\n",
    "B = np.array([[14, 16], \n",
    "              [9, 10]])\n",
    "\n",
    "D = np.array([[5, 6], \n",
    "              [7, 8]])\n",
    "\n",
    "D = np.linalg.inv(D)\n",
    "\n",
    "C = np.linalg.solve(A, B @ D)\n",
    "\n",
    "sp.Matrix(C).det()"
   ]
  },
  {
   "cell_type": "code",
   "execution_count": null,
   "id": "f83edfea",
   "metadata": {},
   "outputs": [
    {
     "data": {
      "text/latex": [
       "$\\displaystyle \\left(1 - 3 n^{2}\\right) \\operatorname{atan}^{2}{\\left(\\frac{n}{3 n^{2} - 1} \\right)}$"
      ],
      "text/plain": [
       "(1 - 3*n**2)*atan(n/(3*n**2 - 1))**2"
      ]
     },
     "metadata": {},
     "output_type": "display_data"
    },
    {
     "data": {
      "text/latex": [
       "$\\displaystyle -0.33$"
      ],
      "text/plain": [
       "-0.33"
      ]
     },
     "metadata": {},
     "output_type": "display_data"
    }
   ],
   "source": [
    "import sympy as sp\n",
    "# Функция limit()\n",
    "n = sp.Symbol('n')\n",
    "\n",
    "f = (1 - 3 * n**2) * sp.atan(n / (3 * n**2 - 1)) ** 2\n",
    "display(f)\n",
    "\n",
    "f_lim = sp.limit(f,n,sp.oo)\n",
    "display(round(f_lim, 2))\n",
    "\n",
    "# Первым аргументом мы подаем саму функцию, \n",
    "# потом переменную, по которой мы будем брать предел, \n",
    "# последний аргумент - точка к которой мы стремим переменную."
   ]
  }
 ],
 "metadata": {
  "kernelspec": {
   "display_name": "base",
   "language": "python",
   "name": "python3"
  },
  "language_info": {
   "codemirror_mode": {
    "name": "ipython",
    "version": 3
   },
   "file_extension": ".py",
   "mimetype": "text/x-python",
   "name": "python",
   "nbconvert_exporter": "python",
   "pygments_lexer": "ipython3",
   "version": "3.12.3"
  }
 },
 "nbformat": 4,
 "nbformat_minor": 5
}
