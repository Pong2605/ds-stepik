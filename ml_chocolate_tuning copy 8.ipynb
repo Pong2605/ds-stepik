{
 "cells": [
  {
   "cell_type": "markdown",
   "id": "9a21014b",
   "metadata": {},
   "source": [
    "<h1><b>Задача по предсказанию рейтинга шоколада"
   ]
  },
  {
   "cell_type": "markdown",
   "id": "d1ba85e3",
   "metadata": {},
   "source": [
    "<h3><b>Никнейм на Kaggle: "
   ]
  },
  {
   "cell_type": "markdown",
   "id": "e919e9b0",
   "metadata": {},
   "source": [
    "# Описание задачи"
   ]
  },
  {
   "cell_type": "code",
   "execution_count": 206,
   "id": "4b4ef540",
   "metadata": {},
   "outputs": [],
   "source": [
    "# Даны характеристики шоколадок и по ним нужно предсказать их рейтинг.\n",
    "\n",
    "# Описание данных\n",
    "# Company - компания производитель\n",
    "# Specific Bean Origin - географический регион происхождения\n",
    "# REF - параметр, определяющий момент внесения записи в базу данных (чем выше значение, тем \"свежее\" запись)\n",
    "# Review - дата публикации отзыва\n",
    "# Cocoa Percent - процентное содержание какао\n",
    "# Company Location - страна производитель\n",
    "# Rating - экспертный рейтинг\n",
    "# Bean Type - используемый сорт какао-бобов, если таковой имеется\n",
    "# Broad Bean Origin - географический регион происхождения какао-бобов\n",
    "\n",
    "# Файлы с данными\n",
    "# choco_train.csv - тренировочные данные\n",
    "# choco_test_new.csv - тестовые данные\n",
    "# choco_sample_submission.csv - пример submission"
   ]
  },
  {
   "cell_type": "markdown",
   "id": "b8029c27",
   "metadata": {},
   "source": [
    "# Импорт библиотек, константы"
   ]
  },
  {
   "cell_type": "code",
   "execution_count": 207,
   "id": "6a56350b",
   "metadata": {},
   "outputs": [],
   "source": [
    "import pandas as pd\n",
    "import numpy as np\n",
    "import matplotlib.pyplot as plt\n",
    "import seaborn as sns"
   ]
  },
  {
   "cell_type": "code",
   "execution_count": 208,
   "id": "eff28139",
   "metadata": {},
   "outputs": [],
   "source": [
    "import warnings\n",
    "warnings.filterwarnings(\"ignore\")"
   ]
  },
  {
   "cell_type": "code",
   "execution_count": 209,
   "id": "78bc245d",
   "metadata": {},
   "outputs": [],
   "source": [
    "from sklearn.preprocessing import MinMaxScaler, StandardScaler, PolynomialFeatures\n",
    "from category_encoders.ordinal import OrdinalEncoder\n",
    "from category_encoders.one_hot import OneHotEncoder\n",
    "from category_encoders.target_encoder import TargetEncoder\n",
    "from category_encoders.leave_one_out import LeaveOneOutEncoder"
   ]
  },
  {
   "cell_type": "code",
   "execution_count": 210,
   "id": "88a7517d",
   "metadata": {},
   "outputs": [],
   "source": [
    "from sklearn.linear_model import LinearRegression\n",
    "from sklearn.ensemble import RandomForestRegressor\n",
    "from catboost import CatBoostRegressor\n",
    "from xgboost import XGBRegressor\n",
    "from lightgbm import LGBMRanker, LGBMRegressor\n",
    "from sklearn.ensemble import GradientBoostingRegressor\n",
    "from sklearn.ensemble import StackingRegressor\n",
    "import optuna"
   ]
  },
  {
   "cell_type": "code",
   "execution_count": 211,
   "id": "55bbc4a3",
   "metadata": {},
   "outputs": [],
   "source": [
    "import association_metrics as am\n",
    "from sklearn.model_selection import cross_val_score, train_test_split\n",
    "from sklearn.metrics import mean_absolute_percentage_error as MAPE, mean_absolute_error as MAE, r2_score, mean_squared_error as MSE\n",
    "from scipy import stats\n",
    "\n",
    "from sklearn.pipeline import Pipeline"
   ]
  },
  {
   "cell_type": "code",
   "execution_count": 212,
   "id": "2db69993",
   "metadata": {},
   "outputs": [],
   "source": [
    "RANDOM_STATE = 42"
   ]
  },
  {
   "cell_type": "markdown",
   "id": "cac6aeca",
   "metadata": {},
   "source": [
    "# Загрузка данных"
   ]
  },
  {
   "cell_type": "code",
   "execution_count": 213,
   "id": "3c6962e2",
   "metadata": {},
   "outputs": [],
   "source": [
    "TRAIN = \"https://raw.githubusercontent.com/evgpat/edu_stepik_practical_ml/main/datasets/chocolate_train.csv\"\n",
    "TEST = \"https://raw.githubusercontent.com/evgpat/edu_stepik_practical_ml/main/datasets/chocolate_test_new.csv\"\n",
    "# TRAIN = 'data\\chocolate-rating\\chocolate_train.csv'\n",
    "# TEST = 'data\\chocolate-rating\\chocolate_test_new.csv'"
   ]
  },
  {
   "cell_type": "code",
   "execution_count": 214,
   "id": "1237b99e",
   "metadata": {},
   "outputs": [],
   "source": [
    "train_df = pd.read_csv(TRAIN)"
   ]
  },
  {
   "cell_type": "code",
   "execution_count": 215,
   "id": "531072c9",
   "metadata": {},
   "outputs": [],
   "source": [
    "test_df = pd.read_csv(TEST)"
   ]
  },
  {
   "cell_type": "markdown",
   "id": "5e49e9c7",
   "metadata": {},
   "source": [
    "# Обзор данных"
   ]
  },
  {
   "cell_type": "code",
   "execution_count": 216,
   "id": "8ab59cf6",
   "metadata": {},
   "outputs": [
    {
     "data": {
      "text/html": [
       "<div>\n",
       "<style scoped>\n",
       "    .dataframe tbody tr th:only-of-type {\n",
       "        vertical-align: middle;\n",
       "    }\n",
       "\n",
       "    .dataframe tbody tr th {\n",
       "        vertical-align: top;\n",
       "    }\n",
       "\n",
       "    .dataframe thead th {\n",
       "        text-align: right;\n",
       "    }\n",
       "</style>\n",
       "<table border=\"1\" class=\"dataframe\">\n",
       "  <thead>\n",
       "    <tr style=\"text-align: right;\">\n",
       "      <th></th>\n",
       "      <th>Company</th>\n",
       "      <th>Specific Bean Origin</th>\n",
       "      <th>REF</th>\n",
       "      <th>Review</th>\n",
       "      <th>Cocoa Percent</th>\n",
       "      <th>Company Location</th>\n",
       "      <th>Rating</th>\n",
       "      <th>Bean Type</th>\n",
       "      <th>Broad Bean Origin</th>\n",
       "    </tr>\n",
       "  </thead>\n",
       "  <tbody>\n",
       "    <tr>\n",
       "      <th>0</th>\n",
       "      <td>Willie's Cacao</td>\n",
       "      <td>Rio Caribe</td>\n",
       "      <td>457</td>\n",
       "      <td>2009</td>\n",
       "      <td>72%</td>\n",
       "      <td>U.K.</td>\n",
       "      <td>3.25</td>\n",
       "      <td>Trinitario</td>\n",
       "      <td>Venezuela</td>\n",
       "    </tr>\n",
       "    <tr>\n",
       "      <th>1</th>\n",
       "      <td>Beschle (Felchlin)</td>\n",
       "      <td>Ocumare, Premier Cru, Quizas No. 2</td>\n",
       "      <td>508</td>\n",
       "      <td>2010</td>\n",
       "      <td>72%</td>\n",
       "      <td>Switzerland</td>\n",
       "      <td>3.50</td>\n",
       "      <td></td>\n",
       "      <td>Venezuela</td>\n",
       "    </tr>\n",
       "    <tr>\n",
       "      <th>2</th>\n",
       "      <td>Dark Forest</td>\n",
       "      <td>Tanzania</td>\n",
       "      <td>1554</td>\n",
       "      <td>2015</td>\n",
       "      <td>70%</td>\n",
       "      <td>U.S.A.</td>\n",
       "      <td>3.00</td>\n",
       "      <td></td>\n",
       "      <td>Tanzania</td>\n",
       "    </tr>\n",
       "    <tr>\n",
       "      <th>3</th>\n",
       "      <td>Brasstown aka It's Chocolate</td>\n",
       "      <td>Cooproagro</td>\n",
       "      <td>1125</td>\n",
       "      <td>2013</td>\n",
       "      <td>72%</td>\n",
       "      <td>U.S.A.</td>\n",
       "      <td>3.00</td>\n",
       "      <td>Trinitario</td>\n",
       "      <td>Dominican Republic</td>\n",
       "    </tr>\n",
       "    <tr>\n",
       "      <th>4</th>\n",
       "      <td>Pralus</td>\n",
       "      <td>Java, Indonesie</td>\n",
       "      <td>32</td>\n",
       "      <td>2006</td>\n",
       "      <td>75%</td>\n",
       "      <td>France</td>\n",
       "      <td>3.50</td>\n",
       "      <td>Criollo</td>\n",
       "      <td>Indonesia</td>\n",
       "    </tr>\n",
       "  </tbody>\n",
       "</table>\n",
       "</div>"
      ],
      "text/plain": [
       "                        Company                Specific Bean Origin   REF  \\\n",
       "0                Willie's Cacao                          Rio Caribe   457   \n",
       "1            Beschle (Felchlin)  Ocumare, Premier Cru, Quizas No. 2   508   \n",
       "2                   Dark Forest                            Tanzania  1554   \n",
       "3  Brasstown aka It's Chocolate                          Cooproagro  1125   \n",
       "4                        Pralus                     Java, Indonesie    32   \n",
       "\n",
       "   Review Cocoa Percent Company Location  Rating   Bean Type  \\\n",
       "0    2009           72%             U.K.    3.25  Trinitario   \n",
       "1    2010           72%      Switzerland    3.50               \n",
       "2    2015           70%           U.S.A.    3.00               \n",
       "3    2013           72%           U.S.A.    3.00  Trinitario   \n",
       "4    2006           75%           France    3.50     Criollo   \n",
       "\n",
       "    Broad Bean Origin  \n",
       "0           Venezuela  \n",
       "1           Venezuela  \n",
       "2            Tanzania  \n",
       "3  Dominican Republic  \n",
       "4           Indonesia  "
      ]
     },
     "execution_count": 216,
     "metadata": {},
     "output_type": "execute_result"
    }
   ],
   "source": [
    "train_df.head()"
   ]
  },
  {
   "cell_type": "code",
   "execution_count": 217,
   "id": "007b54e4",
   "metadata": {},
   "outputs": [
    {
     "data": {
      "text/plain": [
       "(1255, 9)"
      ]
     },
     "execution_count": 217,
     "metadata": {},
     "output_type": "execute_result"
    }
   ],
   "source": [
    "train_df.shape"
   ]
  },
  {
   "cell_type": "code",
   "execution_count": 218,
   "id": "a1144077",
   "metadata": {},
   "outputs": [
    {
     "name": "stdout",
     "output_type": "stream",
     "text": [
      "<class 'pandas.core.frame.DataFrame'>\n",
      "RangeIndex: 1255 entries, 0 to 1254\n",
      "Data columns (total 9 columns):\n",
      " #   Column                Non-Null Count  Dtype  \n",
      "---  ------                --------------  -----  \n",
      " 0   Company               1255 non-null   object \n",
      " 1   Specific Bean Origin  1255 non-null   object \n",
      " 2   REF                   1255 non-null   int64  \n",
      " 3   Review                1255 non-null   int64  \n",
      " 4   Cocoa Percent         1255 non-null   object \n",
      " 5   Company Location      1255 non-null   object \n",
      " 6   Rating                1255 non-null   float64\n",
      " 7   Bean Type             1254 non-null   object \n",
      " 8   Broad Bean Origin     1254 non-null   object \n",
      "dtypes: float64(1), int64(2), object(6)\n",
      "memory usage: 88.4+ KB\n"
     ]
    }
   ],
   "source": [
    "train_df.info()"
   ]
  },
  {
   "cell_type": "code",
   "execution_count": 219,
   "id": "2b4002c3",
   "metadata": {},
   "outputs": [],
   "source": [
    "numeric_cols = train_df.select_dtypes(exclude='object').columns\n",
    "cat_cols = train_df.select_dtypes(include='object').columns"
   ]
  },
  {
   "cell_type": "code",
   "execution_count": 220,
   "id": "bc161760",
   "metadata": {},
   "outputs": [
    {
     "data": {
      "text/html": [
       "<div>\n",
       "<style scoped>\n",
       "    .dataframe tbody tr th:only-of-type {\n",
       "        vertical-align: middle;\n",
       "    }\n",
       "\n",
       "    .dataframe tbody tr th {\n",
       "        vertical-align: top;\n",
       "    }\n",
       "\n",
       "    .dataframe thead th {\n",
       "        text-align: right;\n",
       "    }\n",
       "</style>\n",
       "<table border=\"1\" class=\"dataframe\">\n",
       "  <thead>\n",
       "    <tr style=\"text-align: right;\">\n",
       "      <th></th>\n",
       "      <th>REF</th>\n",
       "      <th>Review</th>\n",
       "      <th>Rating</th>\n",
       "    </tr>\n",
       "  </thead>\n",
       "  <tbody>\n",
       "    <tr>\n",
       "      <th>count</th>\n",
       "      <td>1255.000000</td>\n",
       "      <td>1255.000000</td>\n",
       "      <td>1255.000000</td>\n",
       "    </tr>\n",
       "    <tr>\n",
       "      <th>mean</th>\n",
       "      <td>1045.152191</td>\n",
       "      <td>2012.382470</td>\n",
       "      <td>3.176494</td>\n",
       "    </tr>\n",
       "    <tr>\n",
       "      <th>std</th>\n",
       "      <td>551.284249</td>\n",
       "      <td>2.922499</td>\n",
       "      <td>0.478948</td>\n",
       "    </tr>\n",
       "    <tr>\n",
       "      <th>min</th>\n",
       "      <td>5.000000</td>\n",
       "      <td>2006.000000</td>\n",
       "      <td>1.000000</td>\n",
       "    </tr>\n",
       "    <tr>\n",
       "      <th>25%</th>\n",
       "      <td>593.000000</td>\n",
       "      <td>2010.000000</td>\n",
       "      <td>2.750000</td>\n",
       "    </tr>\n",
       "    <tr>\n",
       "      <th>50%</th>\n",
       "      <td>1077.000000</td>\n",
       "      <td>2013.000000</td>\n",
       "      <td>3.250000</td>\n",
       "    </tr>\n",
       "    <tr>\n",
       "      <th>75%</th>\n",
       "      <td>1514.000000</td>\n",
       "      <td>2015.000000</td>\n",
       "      <td>3.500000</td>\n",
       "    </tr>\n",
       "    <tr>\n",
       "      <th>max</th>\n",
       "      <td>1952.000000</td>\n",
       "      <td>2017.000000</td>\n",
       "      <td>5.000000</td>\n",
       "    </tr>\n",
       "  </tbody>\n",
       "</table>\n",
       "</div>"
      ],
      "text/plain": [
       "               REF       Review       Rating\n",
       "count  1255.000000  1255.000000  1255.000000\n",
       "mean   1045.152191  2012.382470     3.176494\n",
       "std     551.284249     2.922499     0.478948\n",
       "min       5.000000  2006.000000     1.000000\n",
       "25%     593.000000  2010.000000     2.750000\n",
       "50%    1077.000000  2013.000000     3.250000\n",
       "75%    1514.000000  2015.000000     3.500000\n",
       "max    1952.000000  2017.000000     5.000000"
      ]
     },
     "execution_count": 220,
     "metadata": {},
     "output_type": "execute_result"
    }
   ],
   "source": [
    "train_df.describe()"
   ]
  },
  {
   "cell_type": "code",
   "execution_count": 221,
   "id": "ca38a517",
   "metadata": {},
   "outputs": [
    {
     "data": {
      "text/html": [
       "<div>\n",
       "<style scoped>\n",
       "    .dataframe tbody tr th:only-of-type {\n",
       "        vertical-align: middle;\n",
       "    }\n",
       "\n",
       "    .dataframe tbody tr th {\n",
       "        vertical-align: top;\n",
       "    }\n",
       "\n",
       "    .dataframe thead th {\n",
       "        text-align: right;\n",
       "    }\n",
       "</style>\n",
       "<table border=\"1\" class=\"dataframe\">\n",
       "  <thead>\n",
       "    <tr style=\"text-align: right;\">\n",
       "      <th></th>\n",
       "      <th>Company</th>\n",
       "      <th>Specific Bean Origin</th>\n",
       "      <th>Cocoa Percent</th>\n",
       "      <th>Company Location</th>\n",
       "      <th>Bean Type</th>\n",
       "      <th>Broad Bean Origin</th>\n",
       "    </tr>\n",
       "  </thead>\n",
       "  <tbody>\n",
       "    <tr>\n",
       "      <th>count</th>\n",
       "      <td>1255</td>\n",
       "      <td>1255</td>\n",
       "      <td>1255</td>\n",
       "      <td>1255</td>\n",
       "      <td>1254</td>\n",
       "      <td>1254</td>\n",
       "    </tr>\n",
       "    <tr>\n",
       "      <th>unique</th>\n",
       "      <td>376</td>\n",
       "      <td>762</td>\n",
       "      <td>40</td>\n",
       "      <td>58</td>\n",
       "      <td>38</td>\n",
       "      <td>84</td>\n",
       "    </tr>\n",
       "    <tr>\n",
       "      <th>top</th>\n",
       "      <td>Soma</td>\n",
       "      <td>Madagascar</td>\n",
       "      <td>70%</td>\n",
       "      <td>U.S.A.</td>\n",
       "      <td></td>\n",
       "      <td>Venezuela</td>\n",
       "    </tr>\n",
       "    <tr>\n",
       "      <th>freq</th>\n",
       "      <td>35</td>\n",
       "      <td>39</td>\n",
       "      <td>461</td>\n",
       "      <td>521</td>\n",
       "      <td>628</td>\n",
       "      <td>144</td>\n",
       "    </tr>\n",
       "  </tbody>\n",
       "</table>\n",
       "</div>"
      ],
      "text/plain": [
       "       Company Specific Bean Origin Cocoa Percent Company Location Bean Type  \\\n",
       "count     1255                 1255          1255             1255      1254   \n",
       "unique     376                  762            40               58        38   \n",
       "top       Soma           Madagascar           70%           U.S.A.             \n",
       "freq        35                   39           461              521       628   \n",
       "\n",
       "       Broad Bean Origin  \n",
       "count               1254  \n",
       "unique                84  \n",
       "top            Venezuela  \n",
       "freq                 144  "
      ]
     },
     "execution_count": 221,
     "metadata": {},
     "output_type": "execute_result"
    }
   ],
   "source": [
    "train_df[cat_cols].describe()"
   ]
  },
  {
   "cell_type": "code",
   "execution_count": 222,
   "id": "a2908211",
   "metadata": {},
   "outputs": [
    {
     "data": {
      "text/plain": [
       "'\\xa0'"
      ]
     },
     "execution_count": 222,
     "metadata": {},
     "output_type": "execute_result"
    }
   ],
   "source": [
    "train_df['Bean Type'].describe().top"
   ]
  },
  {
   "cell_type": "code",
   "execution_count": 223,
   "id": "22e708c1",
   "metadata": {},
   "outputs": [
    {
     "data": {
      "text/plain": [
       "Company                   0\n",
       "Specific Bean Origin      0\n",
       "REF                       0\n",
       "Review                    0\n",
       "Cocoa Percent             0\n",
       "Company Location          0\n",
       "Rating                    0\n",
       "Bean Type               628\n",
       "Broad Bean Origin        55\n",
       "dtype: int64"
      ]
     },
     "execution_count": 223,
     "metadata": {},
     "output_type": "execute_result"
    }
   ],
   "source": [
    "(train_df == '\\xa0').sum()"
   ]
  },
  {
   "cell_type": "code",
   "execution_count": 224,
   "id": "0895f1ee",
   "metadata": {},
   "outputs": [
    {
     "data": {
      "text/plain": [
       "762"
      ]
     },
     "execution_count": 224,
     "metadata": {},
     "output_type": "execute_result"
    }
   ],
   "source": [
    "train_df['Specific Bean Origin'].nunique()"
   ]
  },
  {
   "cell_type": "code",
   "execution_count": 225,
   "id": "487896ce",
   "metadata": {},
   "outputs": [
    {
     "data": {
      "image/png": "[encoded data removed]",
      "text/plain": [
       "<Figure size 640x480 with 1 Axes>"
      ]
     },
     "metadata": {},
     "output_type": "display_data"
    }
   ],
   "source": [
    "plt.hist(train_df['Rating'], bins=12)\n",
    "plt.title('Распределение целевой переменной')\n",
    "plt.xlabel('Rating')\n",
    "plt.ylabel('Quantity')\n",
    "plt.show();"
   ]
  },
  {
   "cell_type": "code",
   "execution_count": 226,
   "id": "b441b4c6",
   "metadata": {},
   "outputs": [],
   "source": [
    "test_df = train_df[['Company', 'Rating']].groupby('Rating').agg({'Company': 'count'}).sort_values('Rating')"
   ]
  },
  {
   "cell_type": "code",
   "execution_count": 227,
   "id": "fca58dc5",
   "metadata": {},
   "outputs": [
    {
     "data": {
      "image/png": "[encoded data removed]",
      "text/plain": [
       "<Figure size 640x480 with 1 Axes>"
      ]
     },
     "metadata": {},
     "output_type": "display_data"
    }
   ],
   "source": [
    "plt.plot(test_df)\n",
    "plt.title('Распределение целевой переменной')\n",
    "plt.xlabel('Rating')\n",
    "plt.ylabel('Quantity')\n",
    "plt.show();"
   ]
  },
  {
   "cell_type": "markdown",
   "id": "f4691f14",
   "metadata": {},
   "source": [
    "Промежуточный вывод: <br>"
   ]
  },
  {
   "cell_type": "markdown",
   "id": "fb071ce5",
   "metadata": {},
   "source": [
    "# Обработка пропусков и выбросов"
   ]
  },
  {
   "cell_type": "markdown",
   "id": "379dee7a",
   "metadata": {},
   "source": [
    "## Обработка пропусков"
   ]
  },
  {
   "cell_type": "code",
   "execution_count": 228,
   "id": "919f0058",
   "metadata": {},
   "outputs": [
    {
     "data": {
      "text/html": [
       "<div>\n",
       "<style scoped>\n",
       "    .dataframe tbody tr th:only-of-type {\n",
       "        vertical-align: middle;\n",
       "    }\n",
       "\n",
       "    .dataframe tbody tr th {\n",
       "        vertical-align: top;\n",
       "    }\n",
       "\n",
       "    .dataframe thead th {\n",
       "        text-align: right;\n",
       "    }\n",
       "</style>\n",
       "<table border=\"1\" class=\"dataframe\">\n",
       "  <thead>\n",
       "    <tr style=\"text-align: right;\">\n",
       "      <th></th>\n",
       "      <th>Company</th>\n",
       "      <th>Specific Bean Origin</th>\n",
       "      <th>Cocoa Percent</th>\n",
       "      <th>Company Location</th>\n",
       "      <th>Bean Type</th>\n",
       "      <th>Broad Bean Origin</th>\n",
       "      <th>Rating_cat</th>\n",
       "    </tr>\n",
       "  </thead>\n",
       "  <tbody>\n",
       "    <tr>\n",
       "      <th>Company</th>\n",
       "      <td>1.000000</td>\n",
       "      <td>0.771074</td>\n",
       "      <td>0.631564</td>\n",
       "      <td>0.999651</td>\n",
       "      <td>0.616928</td>\n",
       "      <td>0.603849</td>\n",
       "      <td>0.592212</td>\n",
       "    </tr>\n",
       "    <tr>\n",
       "      <th>Specific Bean Origin</th>\n",
       "      <td>0.771074</td>\n",
       "      <td>1.000000</td>\n",
       "      <td>0.772975</td>\n",
       "      <td>0.808500</td>\n",
       "      <td>0.907954</td>\n",
       "      <td>0.983537</td>\n",
       "      <td>0.758291</td>\n",
       "    </tr>\n",
       "    <tr>\n",
       "      <th>Cocoa Percent</th>\n",
       "      <td>0.631564</td>\n",
       "      <td>0.772975</td>\n",
       "      <td>1.000000</td>\n",
       "      <td>0.243803</td>\n",
       "      <td>0.158700</td>\n",
       "      <td>0.266422</td>\n",
       "      <td>0.238551</td>\n",
       "    </tr>\n",
       "    <tr>\n",
       "      <th>Company Location</th>\n",
       "      <td>0.999651</td>\n",
       "      <td>0.808500</td>\n",
       "      <td>0.243803</td>\n",
       "      <td>1.000000</td>\n",
       "      <td>0.291639</td>\n",
       "      <td>0.383244</td>\n",
       "      <td>0.227523</td>\n",
       "    </tr>\n",
       "    <tr>\n",
       "      <th>Bean Type</th>\n",
       "      <td>0.616928</td>\n",
       "      <td>0.907954</td>\n",
       "      <td>0.158700</td>\n",
       "      <td>0.291639</td>\n",
       "      <td>1.000000</td>\n",
       "      <td>0.388294</td>\n",
       "      <td>0.157926</td>\n",
       "    </tr>\n",
       "    <tr>\n",
       "      <th>Broad Bean Origin</th>\n",
       "      <td>0.603849</td>\n",
       "      <td>0.983537</td>\n",
       "      <td>0.266422</td>\n",
       "      <td>0.383244</td>\n",
       "      <td>0.388294</td>\n",
       "      <td>1.000000</td>\n",
       "      <td>0.237755</td>\n",
       "    </tr>\n",
       "    <tr>\n",
       "      <th>Rating_cat</th>\n",
       "      <td>0.592212</td>\n",
       "      <td>0.758291</td>\n",
       "      <td>0.238551</td>\n",
       "      <td>0.227523</td>\n",
       "      <td>0.157926</td>\n",
       "      <td>0.237755</td>\n",
       "      <td>1.000000</td>\n",
       "    </tr>\n",
       "  </tbody>\n",
       "</table>\n",
       "</div>"
      ],
      "text/plain": [
       "                       Company  Specific Bean Origin  Cocoa Percent  \\\n",
       "Company               1.000000              0.771074       0.631564   \n",
       "Specific Bean Origin  0.771074              1.000000       0.772975   \n",
       "Cocoa Percent         0.631564              0.772975       1.000000   \n",
       "Company Location      0.999651              0.808500       0.243803   \n",
       "Bean Type             0.616928              0.907954       0.158700   \n",
       "Broad Bean Origin     0.603849              0.983537       0.266422   \n",
       "Rating_cat            0.592212              0.758291       0.238551   \n",
       "\n",
       "                      Company Location  Bean Type  Broad Bean Origin  \\\n",
       "Company                       0.999651   0.616928           0.603849   \n",
       "Specific Bean Origin          0.808500   0.907954           0.983537   \n",
       "Cocoa Percent                 0.243803   0.158700           0.266422   \n",
       "Company Location              1.000000   0.291639           0.383244   \n",
       "Bean Type                     0.291639   1.000000           0.388294   \n",
       "Broad Bean Origin             0.383244   0.388294           1.000000   \n",
       "Rating_cat                    0.227523   0.157926           0.237755   \n",
       "\n",
       "                      Rating_cat  \n",
       "Company                 0.592212  \n",
       "Specific Bean Origin    0.758291  \n",
       "Cocoa Percent           0.238551  \n",
       "Company Location        0.227523  \n",
       "Bean Type               0.157926  \n",
       "Broad Bean Origin       0.237755  \n",
       "Rating_cat              1.000000  "
      ]
     },
     "execution_count": 228,
     "metadata": {},
     "output_type": "execute_result"
    }
   ],
   "source": [
    "train_df = train_df.apply(lambda x: x.astype('category') if x.dtype == 'object' else x)\n",
    "train_df['Rating_cat'] = train_df['Rating'].astype('category')\n",
    "cramersv = am.CramersV(train_df)\n",
    "cat_cor = cramersv.fit()\n",
    "cat_cor"
   ]
  },
  {
   "cell_type": "code",
   "execution_count": 229,
   "id": "944d3587",
   "metadata": {},
   "outputs": [],
   "source": [
    "df_clean = train_df.copy()\n",
    "df_clean = df_clean.drop('Rating_cat', axis=1)\n",
    "df_clean = df_clean.apply(lambda x: x.astype('object') if x.dtype == 'category' else x)"
   ]
  },
  {
   "cell_type": "code",
   "execution_count": 230,
   "id": "ff8325d3",
   "metadata": {},
   "outputs": [],
   "source": [
    "def select_top3_corr_cols(col):\n",
    "    select_df = cat_cor.drop('Rating_cat', axis=0).drop('Rating_cat', axis=1)[col].sort_values(ascending=False)\n",
    "    return select_df[1:4].index.to_list()"
   ]
  },
  {
   "cell_type": "code",
   "execution_count": 231,
   "id": "f5087b01",
   "metadata": {},
   "outputs": [],
   "source": [
    "def create_merged_df(col_in, col_on):\n",
    "    df_pivot = pd.pivot_table(df_clean,\n",
    "                                    index=col_on,\n",
    "                                    values=col_in,\n",
    "                                    aggfunc=lambda x: str(x.mode().values).strip(\"[\").strip(\"]\").split(',')[0].split(\"' '\")[0].strip(\"'\")) \\\n",
    "                                    .reset_index()\n",
    "    merged_df = pd.merge(df_clean, df_pivot, on=col_on, how='left')\n",
    "    return merged_df"
   ]
  },
  {
   "cell_type": "code",
   "execution_count": 232,
   "id": "b9cfda70",
   "metadata": {},
   "outputs": [],
   "source": [
    "def fill_row(row, col_in):\n",
    "    if row[f'{col_in}_x'] is np.NaN:\n",
    "        value = row[f'{col_in}_y']\n",
    "        if value != '':\n",
    "            return row[f'{col_in}_y']\n",
    "        return np.NaN\n",
    "    return row[f'{col_in}_x']"
   ]
  },
  {
   "cell_type": "code",
   "execution_count": 233,
   "id": "c389536f",
   "metadata": {},
   "outputs": [],
   "source": [
    "def fill_rows(df_clean, col_in):\n",
    "    df_clean[f'{col_in}_x'] = df_clean.apply(lambda row: fill_row(row, col_in), axis=1)\n",
    "\n",
    "    df_clean = df_clean.drop(f'{col_in}_y', axis=1)\n",
    "    df_clean = df_clean.rename(columns={f'{col_in}_x': col_in})\n",
    "    return df_clean"
   ]
  },
  {
   "cell_type": "code",
   "execution_count": 234,
   "id": "4018ce3d",
   "metadata": {},
   "outputs": [],
   "source": [
    "def cleaned_df(df_clean, col_in):\n",
    "    selected_cols = select_top3_corr_cols(col_in)\n",
    "    for col_on in selected_cols:\n",
    "        df_clean = create_merged_df(col_in, col_on)\n",
    "        df_clean = fill_rows(df_clean, col_in)\n",
    "    return df_clean"
   ]
  },
  {
   "cell_type": "code",
   "execution_count": 235,
   "id": "da13e8e8",
   "metadata": {},
   "outputs": [],
   "source": [
    "col_in = 'Bean Type'\n",
    "train_df_clean = cleaned_df(df_clean, col_in)"
   ]
  },
  {
   "cell_type": "code",
   "execution_count": 236,
   "id": "0b047ea7",
   "metadata": {},
   "outputs": [],
   "source": [
    "df_clean = train_df_clean.copy()\n",
    "col_in = 'Broad Bean Origin'\n",
    "train_df_clean = cleaned_df(df_clean, col_in)"
   ]
  },
  {
   "cell_type": "code",
   "execution_count": 237,
   "id": "48639f68",
   "metadata": {},
   "outputs": [],
   "source": [
    "train_df_clean['Bean Type'] = train_df_clean['Bean Type'].fillna('Other')\n",
    "train_df_clean['Broad Bean Origin'] = train_df_clean['Broad Bean Origin'].fillna('Other')\n",
    "train_df = train_df_clean.copy()"
   ]
  },
  {
   "cell_type": "code",
   "execution_count": 238,
   "id": "596324b4",
   "metadata": {},
   "outputs": [
    {
     "data": {
      "text/html": [
       "<div>\n",
       "<style scoped>\n",
       "    .dataframe tbody tr th:only-of-type {\n",
       "        vertical-align: middle;\n",
       "    }\n",
       "\n",
       "    .dataframe tbody tr th {\n",
       "        vertical-align: top;\n",
       "    }\n",
       "\n",
       "    .dataframe thead th {\n",
       "        text-align: right;\n",
       "    }\n",
       "</style>\n",
       "<table border=\"1\" class=\"dataframe\">\n",
       "  <thead>\n",
       "    <tr style=\"text-align: right;\">\n",
       "      <th></th>\n",
       "      <th>Company</th>\n",
       "      <th>Specific Bean Origin</th>\n",
       "      <th>Cocoa Percent</th>\n",
       "      <th>Company Location</th>\n",
       "      <th>Bean Type</th>\n",
       "      <th>Broad Bean Origin</th>\n",
       "    </tr>\n",
       "  </thead>\n",
       "  <tbody>\n",
       "    <tr>\n",
       "      <th>count</th>\n",
       "      <td>1255</td>\n",
       "      <td>1255</td>\n",
       "      <td>1255</td>\n",
       "      <td>1255</td>\n",
       "      <td>1255</td>\n",
       "      <td>1255</td>\n",
       "    </tr>\n",
       "    <tr>\n",
       "      <th>unique</th>\n",
       "      <td>376</td>\n",
       "      <td>762</td>\n",
       "      <td>40</td>\n",
       "      <td>58</td>\n",
       "      <td>39</td>\n",
       "      <td>84</td>\n",
       "    </tr>\n",
       "    <tr>\n",
       "      <th>top</th>\n",
       "      <td>Soma</td>\n",
       "      <td>Madagascar</td>\n",
       "      <td>70%</td>\n",
       "      <td>U.S.A.</td>\n",
       "      <td></td>\n",
       "      <td>Venezuela</td>\n",
       "    </tr>\n",
       "    <tr>\n",
       "      <th>freq</th>\n",
       "      <td>35</td>\n",
       "      <td>39</td>\n",
       "      <td>461</td>\n",
       "      <td>521</td>\n",
       "      <td>628</td>\n",
       "      <td>144</td>\n",
       "    </tr>\n",
       "  </tbody>\n",
       "</table>\n",
       "</div>"
      ],
      "text/plain": [
       "       Company Specific Bean Origin Cocoa Percent Company Location Bean Type  \\\n",
       "count     1255                 1255          1255             1255      1255   \n",
       "unique     376                  762            40               58        39   \n",
       "top       Soma           Madagascar           70%           U.S.A.             \n",
       "freq        35                   39           461              521       628   \n",
       "\n",
       "       Broad Bean Origin  \n",
       "count               1255  \n",
       "unique                84  \n",
       "top            Venezuela  \n",
       "freq                 144  "
      ]
     },
     "execution_count": 238,
     "metadata": {},
     "output_type": "execute_result"
    }
   ],
   "source": [
    "train_df[cat_cols].describe()"
   ]
  },
  {
   "cell_type": "code",
   "execution_count": 239,
   "id": "6b4f686c",
   "metadata": {},
   "outputs": [
    {
     "data": {
      "text/plain": [
       "Company                 0\n",
       "Specific Bean Origin    0\n",
       "REF                     0\n",
       "Review                  0\n",
       "Cocoa Percent           0\n",
       "Company Location        0\n",
       "Rating                  0\n",
       "Bean Type               0\n",
       "Broad Bean Origin       0\n",
       "dtype: int64"
      ]
     },
     "execution_count": 239,
     "metadata": {},
     "output_type": "execute_result"
    }
   ],
   "source": [
    "train_df.isna().sum()"
   ]
  },
  {
   "cell_type": "markdown",
   "id": "5e5d0dfd",
   "metadata": {},
   "source": [
    "## Обработка выбросов"
   ]
  },
  {
   "cell_type": "markdown",
   "id": "01a0d480",
   "metadata": {},
   "source": [
    "# Построение новых признаков"
   ]
  },
  {
   "cell_type": "code",
   "execution_count": 240,
   "id": "1a0d304f",
   "metadata": {},
   "outputs": [
    {
     "data": {
      "text/html": [
       "<div>\n",
       "<style scoped>\n",
       "    .dataframe tbody tr th:only-of-type {\n",
       "        vertical-align: middle;\n",
       "    }\n",
       "\n",
       "    .dataframe tbody tr th {\n",
       "        vertical-align: top;\n",
       "    }\n",
       "\n",
       "    .dataframe thead th {\n",
       "        text-align: right;\n",
       "    }\n",
       "</style>\n",
       "<table border=\"1\" class=\"dataframe\">\n",
       "  <thead>\n",
       "    <tr style=\"text-align: right;\">\n",
       "      <th></th>\n",
       "      <th>Company</th>\n",
       "      <th>Specific Bean Origin</th>\n",
       "      <th>REF</th>\n",
       "      <th>Review</th>\n",
       "      <th>Cocoa Percent</th>\n",
       "      <th>Company Location</th>\n",
       "      <th>Rating</th>\n",
       "      <th>Bean Type</th>\n",
       "      <th>Broad Bean Origin</th>\n",
       "    </tr>\n",
       "  </thead>\n",
       "  <tbody>\n",
       "    <tr>\n",
       "      <th>0</th>\n",
       "      <td>Willie's Cacao</td>\n",
       "      <td>Rio Caribe</td>\n",
       "      <td>457</td>\n",
       "      <td>2009</td>\n",
       "      <td>72%</td>\n",
       "      <td>U.K.</td>\n",
       "      <td>3.25</td>\n",
       "      <td>Trinitario</td>\n",
       "      <td>Venezuela</td>\n",
       "    </tr>\n",
       "    <tr>\n",
       "      <th>1</th>\n",
       "      <td>Beschle (Felchlin)</td>\n",
       "      <td>Ocumare, Premier Cru, Quizas No. 2</td>\n",
       "      <td>508</td>\n",
       "      <td>2010</td>\n",
       "      <td>72%</td>\n",
       "      <td>Switzerland</td>\n",
       "      <td>3.50</td>\n",
       "      <td></td>\n",
       "      <td>Venezuela</td>\n",
       "    </tr>\n",
       "    <tr>\n",
       "      <th>2</th>\n",
       "      <td>Dark Forest</td>\n",
       "      <td>Tanzania</td>\n",
       "      <td>1554</td>\n",
       "      <td>2015</td>\n",
       "      <td>70%</td>\n",
       "      <td>U.S.A.</td>\n",
       "      <td>3.00</td>\n",
       "      <td></td>\n",
       "      <td>Tanzania</td>\n",
       "    </tr>\n",
       "    <tr>\n",
       "      <th>3</th>\n",
       "      <td>Brasstown aka It's Chocolate</td>\n",
       "      <td>Cooproagro</td>\n",
       "      <td>1125</td>\n",
       "      <td>2013</td>\n",
       "      <td>72%</td>\n",
       "      <td>U.S.A.</td>\n",
       "      <td>3.00</td>\n",
       "      <td>Trinitario</td>\n",
       "      <td>Dominican Republic</td>\n",
       "    </tr>\n",
       "    <tr>\n",
       "      <th>4</th>\n",
       "      <td>Pralus</td>\n",
       "      <td>Java, Indonesie</td>\n",
       "      <td>32</td>\n",
       "      <td>2006</td>\n",
       "      <td>75%</td>\n",
       "      <td>France</td>\n",
       "      <td>3.50</td>\n",
       "      <td>Criollo</td>\n",
       "      <td>Indonesia</td>\n",
       "    </tr>\n",
       "  </tbody>\n",
       "</table>\n",
       "</div>"
      ],
      "text/plain": [
       "                        Company                Specific Bean Origin   REF  \\\n",
       "0                Willie's Cacao                          Rio Caribe   457   \n",
       "1            Beschle (Felchlin)  Ocumare, Premier Cru, Quizas No. 2   508   \n",
       "2                   Dark Forest                            Tanzania  1554   \n",
       "3  Brasstown aka It's Chocolate                          Cooproagro  1125   \n",
       "4                        Pralus                     Java, Indonesie    32   \n",
       "\n",
       "   Review Cocoa Percent Company Location  Rating   Bean Type  \\\n",
       "0    2009           72%             U.K.    3.25  Trinitario   \n",
       "1    2010           72%      Switzerland    3.50               \n",
       "2    2015           70%           U.S.A.    3.00               \n",
       "3    2013           72%           U.S.A.    3.00  Trinitario   \n",
       "4    2006           75%           France    3.50     Criollo   \n",
       "\n",
       "    Broad Bean Origin  \n",
       "0           Venezuela  \n",
       "1           Venezuela  \n",
       "2            Tanzania  \n",
       "3  Dominican Republic  \n",
       "4           Indonesia  "
      ]
     },
     "execution_count": 240,
     "metadata": {},
     "output_type": "execute_result"
    }
   ],
   "source": [
    "train_df.head()"
   ]
  },
  {
   "cell_type": "code",
   "execution_count": 241,
   "id": "195a48df",
   "metadata": {},
   "outputs": [],
   "source": [
    "arr = sorted(pd.cut(train_df['REF'], 12 * 2).unique())"
   ]
  },
  {
   "cell_type": "code",
   "execution_count": 242,
   "id": "11118d05",
   "metadata": {},
   "outputs": [],
   "source": [
    "train_df['REF'] = pd.cut(train_df['REF'], 12 * 2, labels=range(12 * 2))"
   ]
  },
  {
   "cell_type": "code",
   "execution_count": 243,
   "id": "de279880",
   "metadata": {},
   "outputs": [
    {
     "data": {
      "text/html": [
       "<div>\n",
       "<style scoped>\n",
       "    .dataframe tbody tr th:only-of-type {\n",
       "        vertical-align: middle;\n",
       "    }\n",
       "\n",
       "    .dataframe tbody tr th {\n",
       "        vertical-align: top;\n",
       "    }\n",
       "\n",
       "    .dataframe thead th {\n",
       "        text-align: right;\n",
       "    }\n",
       "</style>\n",
       "<table border=\"1\" class=\"dataframe\">\n",
       "  <thead>\n",
       "    <tr style=\"text-align: right;\">\n",
       "      <th></th>\n",
       "      <th>Company</th>\n",
       "      <th>Specific Bean Origin</th>\n",
       "      <th>REF</th>\n",
       "      <th>Review</th>\n",
       "      <th>Cocoa Percent</th>\n",
       "      <th>Company Location</th>\n",
       "      <th>Rating</th>\n",
       "      <th>Bean Type</th>\n",
       "      <th>Broad Bean Origin</th>\n",
       "    </tr>\n",
       "  </thead>\n",
       "  <tbody>\n",
       "    <tr>\n",
       "      <th>0</th>\n",
       "      <td>Willie's Cacao</td>\n",
       "      <td>Rio Caribe</td>\n",
       "      <td>5</td>\n",
       "      <td>2009</td>\n",
       "      <td>72%</td>\n",
       "      <td>U.K.</td>\n",
       "      <td>3.25</td>\n",
       "      <td>Trinitario</td>\n",
       "      <td>Venezuela</td>\n",
       "    </tr>\n",
       "    <tr>\n",
       "      <th>1</th>\n",
       "      <td>Beschle (Felchlin)</td>\n",
       "      <td>Ocumare, Premier Cru, Quizas No. 2</td>\n",
       "      <td>6</td>\n",
       "      <td>2010</td>\n",
       "      <td>72%</td>\n",
       "      <td>Switzerland</td>\n",
       "      <td>3.50</td>\n",
       "      <td></td>\n",
       "      <td>Venezuela</td>\n",
       "    </tr>\n",
       "    <tr>\n",
       "      <th>2</th>\n",
       "      <td>Dark Forest</td>\n",
       "      <td>Tanzania</td>\n",
       "      <td>19</td>\n",
       "      <td>2015</td>\n",
       "      <td>70%</td>\n",
       "      <td>U.S.A.</td>\n",
       "      <td>3.00</td>\n",
       "      <td></td>\n",
       "      <td>Tanzania</td>\n",
       "    </tr>\n",
       "    <tr>\n",
       "      <th>3</th>\n",
       "      <td>Brasstown aka It's Chocolate</td>\n",
       "      <td>Cooproagro</td>\n",
       "      <td>13</td>\n",
       "      <td>2013</td>\n",
       "      <td>72%</td>\n",
       "      <td>U.S.A.</td>\n",
       "      <td>3.00</td>\n",
       "      <td>Trinitario</td>\n",
       "      <td>Dominican Republic</td>\n",
       "    </tr>\n",
       "    <tr>\n",
       "      <th>4</th>\n",
       "      <td>Pralus</td>\n",
       "      <td>Java, Indonesie</td>\n",
       "      <td>0</td>\n",
       "      <td>2006</td>\n",
       "      <td>75%</td>\n",
       "      <td>France</td>\n",
       "      <td>3.50</td>\n",
       "      <td>Criollo</td>\n",
       "      <td>Indonesia</td>\n",
       "    </tr>\n",
       "  </tbody>\n",
       "</table>\n",
       "</div>"
      ],
      "text/plain": [
       "                        Company                Specific Bean Origin REF  \\\n",
       "0                Willie's Cacao                          Rio Caribe   5   \n",
       "1            Beschle (Felchlin)  Ocumare, Premier Cru, Quizas No. 2   6   \n",
       "2                   Dark Forest                            Tanzania  19   \n",
       "3  Brasstown aka It's Chocolate                          Cooproagro  13   \n",
       "4                        Pralus                     Java, Indonesie   0   \n",
       "\n",
       "   Review Cocoa Percent Company Location  Rating   Bean Type  \\\n",
       "0    2009           72%             U.K.    3.25  Trinitario   \n",
       "1    2010           72%      Switzerland    3.50               \n",
       "2    2015           70%           U.S.A.    3.00               \n",
       "3    2013           72%           U.S.A.    3.00  Trinitario   \n",
       "4    2006           75%           France    3.50     Criollo   \n",
       "\n",
       "    Broad Bean Origin  \n",
       "0           Venezuela  \n",
       "1           Venezuela  \n",
       "2            Tanzania  \n",
       "3  Dominican Republic  \n",
       "4           Indonesia  "
      ]
     },
     "execution_count": 243,
     "metadata": {},
     "output_type": "execute_result"
    }
   ],
   "source": [
    "train_df.head()"
   ]
  },
  {
   "cell_type": "code",
   "execution_count": 244,
   "id": "41adc52e",
   "metadata": {},
   "outputs": [
    {
     "data": {
      "text/html": [
       "<div>\n",
       "<style scoped>\n",
       "    .dataframe tbody tr th:only-of-type {\n",
       "        vertical-align: middle;\n",
       "    }\n",
       "\n",
       "    .dataframe tbody tr th {\n",
       "        vertical-align: top;\n",
       "    }\n",
       "\n",
       "    .dataframe thead th {\n",
       "        text-align: right;\n",
       "    }\n",
       "</style>\n",
       "<table border=\"1\" class=\"dataframe\">\n",
       "  <thead>\n",
       "    <tr style=\"text-align: right;\">\n",
       "      <th></th>\n",
       "      <th>Company</th>\n",
       "      <th>Specific Bean Origin</th>\n",
       "      <th>REF</th>\n",
       "      <th>Cocoa Percent</th>\n",
       "      <th>Company Location</th>\n",
       "      <th>Bean Type</th>\n",
       "      <th>Broad Bean Origin</th>\n",
       "      <th>Rating_cat</th>\n",
       "    </tr>\n",
       "  </thead>\n",
       "  <tbody>\n",
       "    <tr>\n",
       "      <th>Company</th>\n",
       "      <td>1.000000</td>\n",
       "      <td>0.771074</td>\n",
       "      <td>0.737806</td>\n",
       "      <td>0.631564</td>\n",
       "      <td>0.999651</td>\n",
       "      <td>0.609295</td>\n",
       "      <td>0.603644</td>\n",
       "      <td>0.592212</td>\n",
       "    </tr>\n",
       "    <tr>\n",
       "      <th>Specific Bean Origin</th>\n",
       "      <td>0.771074</td>\n",
       "      <td>1.000000</td>\n",
       "      <td>0.801503</td>\n",
       "      <td>0.772975</td>\n",
       "      <td>0.808500</td>\n",
       "      <td>0.910495</td>\n",
       "      <td>0.983537</td>\n",
       "      <td>0.758291</td>\n",
       "    </tr>\n",
       "    <tr>\n",
       "      <th>REF</th>\n",
       "      <td>0.737806</td>\n",
       "      <td>0.801503</td>\n",
       "      <td>1.000000</td>\n",
       "      <td>0.200624</td>\n",
       "      <td>0.327525</td>\n",
       "      <td>0.213481</td>\n",
       "      <td>0.298551</td>\n",
       "      <td>0.172818</td>\n",
       "    </tr>\n",
       "    <tr>\n",
       "      <th>Cocoa Percent</th>\n",
       "      <td>0.631564</td>\n",
       "      <td>0.772975</td>\n",
       "      <td>0.200624</td>\n",
       "      <td>1.000000</td>\n",
       "      <td>0.243803</td>\n",
       "      <td>0.156708</td>\n",
       "      <td>0.266400</td>\n",
       "      <td>0.238551</td>\n",
       "    </tr>\n",
       "    <tr>\n",
       "      <th>Company Location</th>\n",
       "      <td>0.999651</td>\n",
       "      <td>0.808500</td>\n",
       "      <td>0.327525</td>\n",
       "      <td>0.243803</td>\n",
       "      <td>1.000000</td>\n",
       "      <td>0.288233</td>\n",
       "      <td>0.383200</td>\n",
       "      <td>0.227523</td>\n",
       "    </tr>\n",
       "    <tr>\n",
       "      <th>Bean Type</th>\n",
       "      <td>0.609295</td>\n",
       "      <td>0.910495</td>\n",
       "      <td>0.213481</td>\n",
       "      <td>0.156708</td>\n",
       "      <td>0.288233</td>\n",
       "      <td>1.000000</td>\n",
       "      <td>0.416105</td>\n",
       "      <td>0.161432</td>\n",
       "    </tr>\n",
       "    <tr>\n",
       "      <th>Broad Bean Origin</th>\n",
       "      <td>0.603644</td>\n",
       "      <td>0.983537</td>\n",
       "      <td>0.298551</td>\n",
       "      <td>0.266400</td>\n",
       "      <td>0.383200</td>\n",
       "      <td>0.416105</td>\n",
       "      <td>1.000000</td>\n",
       "      <td>0.237414</td>\n",
       "    </tr>\n",
       "    <tr>\n",
       "      <th>Rating_cat</th>\n",
       "      <td>0.592212</td>\n",
       "      <td>0.758291</td>\n",
       "      <td>0.172818</td>\n",
       "      <td>0.238551</td>\n",
       "      <td>0.227523</td>\n",
       "      <td>0.161432</td>\n",
       "      <td>0.237414</td>\n",
       "      <td>1.000000</td>\n",
       "    </tr>\n",
       "  </tbody>\n",
       "</table>\n",
       "</div>"
      ],
      "text/plain": [
       "                       Company  Specific Bean Origin       REF  Cocoa Percent  \\\n",
       "Company               1.000000              0.771074  0.737806       0.631564   \n",
       "Specific Bean Origin  0.771074              1.000000  0.801503       0.772975   \n",
       "REF                   0.737806              0.801503  1.000000       0.200624   \n",
       "Cocoa Percent         0.631564              0.772975  0.200624       1.000000   \n",
       "Company Location      0.999651              0.808500  0.327525       0.243803   \n",
       "Bean Type             0.609295              0.910495  0.213481       0.156708   \n",
       "Broad Bean Origin     0.603644              0.983537  0.298551       0.266400   \n",
       "Rating_cat            0.592212              0.758291  0.172818       0.238551   \n",
       "\n",
       "                      Company Location  Bean Type  Broad Bean Origin  \\\n",
       "Company                       0.999651   0.609295           0.603644   \n",
       "Specific Bean Origin          0.808500   0.910495           0.983537   \n",
       "REF                           0.327525   0.213481           0.298551   \n",
       "Cocoa Percent                 0.243803   0.156708           0.266400   \n",
       "Company Location              1.000000   0.288233           0.383200   \n",
       "Bean Type                     0.288233   1.000000           0.416105   \n",
       "Broad Bean Origin             0.383200   0.416105           1.000000   \n",
       "Rating_cat                    0.227523   0.161432           0.237414   \n",
       "\n",
       "                      Rating_cat  \n",
       "Company                 0.592212  \n",
       "Specific Bean Origin    0.758291  \n",
       "REF                     0.172818  \n",
       "Cocoa Percent           0.238551  \n",
       "Company Location        0.227523  \n",
       "Bean Type               0.161432  \n",
       "Broad Bean Origin       0.237414  \n",
       "Rating_cat              1.000000  "
      ]
     },
     "execution_count": 244,
     "metadata": {},
     "output_type": "execute_result"
    }
   ],
   "source": [
    "cat_cols = train_df.select_dtypes(include='object').columns\n",
    "\n",
    "train_df[cat_cols] = train_df[cat_cols].astype('category')\n",
    "train_df['Rating_cat'] = train_df['Rating'].astype('category')\n",
    "cramersv = am.CramersV(train_df)\n",
    "cat_cor = cramersv.fit()\n",
    "cat_cor"
   ]
  },
  {
   "cell_type": "markdown",
   "id": "3c137bf9",
   "metadata": {},
   "source": [
    "Заполнение пропусков в колонках 'Bean Type' и 'Broad Bean Origin' <br> на самое часто встречающееся значения соответсвующих столбцов <br> при группировке с наиболее коррелируемыми столбцами"
   ]
  },
  {
   "cell_type": "code",
   "execution_count": 245,
   "id": "519817e7",
   "metadata": {},
   "outputs": [],
   "source": [
    "train_df_clean = train_df.copy()"
   ]
  },
  {
   "cell_type": "code",
   "execution_count": 246,
   "id": "5ed36e78",
   "metadata": {},
   "outputs": [
    {
     "data": {
      "text/html": [
       "<div>\n",
       "<style scoped>\n",
       "    .dataframe tbody tr th:only-of-type {\n",
       "        vertical-align: middle;\n",
       "    }\n",
       "\n",
       "    .dataframe tbody tr th {\n",
       "        vertical-align: top;\n",
       "    }\n",
       "\n",
       "    .dataframe thead th {\n",
       "        text-align: right;\n",
       "    }\n",
       "</style>\n",
       "<table border=\"1\" class=\"dataframe\">\n",
       "  <thead>\n",
       "    <tr style=\"text-align: right;\">\n",
       "      <th></th>\n",
       "      <th>Company</th>\n",
       "      <th>Specific Bean Origin</th>\n",
       "      <th>REF</th>\n",
       "      <th>Review</th>\n",
       "      <th>Cocoa Percent</th>\n",
       "      <th>Company Location</th>\n",
       "      <th>Rating</th>\n",
       "      <th>Bean Type</th>\n",
       "      <th>Broad Bean Origin</th>\n",
       "      <th>Rating_cat</th>\n",
       "    </tr>\n",
       "  </thead>\n",
       "  <tbody>\n",
       "    <tr>\n",
       "      <th>0</th>\n",
       "      <td>Willie's Cacao</td>\n",
       "      <td>Rio Caribe</td>\n",
       "      <td>5</td>\n",
       "      <td>2009</td>\n",
       "      <td>72%</td>\n",
       "      <td>U.K.</td>\n",
       "      <td>3.25</td>\n",
       "      <td>Trinitario</td>\n",
       "      <td>Venezuela</td>\n",
       "      <td>3.25</td>\n",
       "    </tr>\n",
       "    <tr>\n",
       "      <th>1</th>\n",
       "      <td>Beschle (Felchlin)</td>\n",
       "      <td>Ocumare, Premier Cru, Quizas No. 2</td>\n",
       "      <td>6</td>\n",
       "      <td>2010</td>\n",
       "      <td>72%</td>\n",
       "      <td>Switzerland</td>\n",
       "      <td>3.50</td>\n",
       "      <td></td>\n",
       "      <td>Venezuela</td>\n",
       "      <td>3.50</td>\n",
       "    </tr>\n",
       "    <tr>\n",
       "      <th>2</th>\n",
       "      <td>Dark Forest</td>\n",
       "      <td>Tanzania</td>\n",
       "      <td>19</td>\n",
       "      <td>2015</td>\n",
       "      <td>70%</td>\n",
       "      <td>U.S.A.</td>\n",
       "      <td>3.00</td>\n",
       "      <td></td>\n",
       "      <td>Tanzania</td>\n",
       "      <td>3.00</td>\n",
       "    </tr>\n",
       "    <tr>\n",
       "      <th>3</th>\n",
       "      <td>Brasstown aka It's Chocolate</td>\n",
       "      <td>Cooproagro</td>\n",
       "      <td>13</td>\n",
       "      <td>2013</td>\n",
       "      <td>72%</td>\n",
       "      <td>U.S.A.</td>\n",
       "      <td>3.00</td>\n",
       "      <td>Trinitario</td>\n",
       "      <td>Dominican Republic</td>\n",
       "      <td>3.00</td>\n",
       "    </tr>\n",
       "    <tr>\n",
       "      <th>4</th>\n",
       "      <td>Pralus</td>\n",
       "      <td>Java, Indonesie</td>\n",
       "      <td>0</td>\n",
       "      <td>2006</td>\n",
       "      <td>75%</td>\n",
       "      <td>France</td>\n",
       "      <td>3.50</td>\n",
       "      <td>Criollo</td>\n",
       "      <td>Indonesia</td>\n",
       "      <td>3.50</td>\n",
       "    </tr>\n",
       "  </tbody>\n",
       "</table>\n",
       "</div>"
      ],
      "text/plain": [
       "                        Company                Specific Bean Origin REF  \\\n",
       "0                Willie's Cacao                          Rio Caribe   5   \n",
       "1            Beschle (Felchlin)  Ocumare, Premier Cru, Quizas No. 2   6   \n",
       "2                   Dark Forest                            Tanzania  19   \n",
       "3  Brasstown aka It's Chocolate                          Cooproagro  13   \n",
       "4                        Pralus                     Java, Indonesie   0   \n",
       "\n",
       "   Review Cocoa Percent Company Location  Rating   Bean Type  \\\n",
       "0    2009           72%             U.K.    3.25  Trinitario   \n",
       "1    2010           72%      Switzerland    3.50               \n",
       "2    2015           70%           U.S.A.    3.00               \n",
       "3    2013           72%           U.S.A.    3.00  Trinitario   \n",
       "4    2006           75%           France    3.50     Criollo   \n",
       "\n",
       "    Broad Bean Origin Rating_cat  \n",
       "0           Venezuela       3.25  \n",
       "1           Venezuela       3.50  \n",
       "2            Tanzania       3.00  \n",
       "3  Dominican Republic       3.00  \n",
       "4           Indonesia       3.50  "
      ]
     },
     "execution_count": 246,
     "metadata": {},
     "output_type": "execute_result"
    }
   ],
   "source": [
    "train_df_clean.head()"
   ]
  },
  {
   "cell_type": "code",
   "execution_count": 247,
   "id": "c804ffa7",
   "metadata": {},
   "outputs": [
    {
     "data": {
      "text/plain": [
       "Company                 376\n",
       "Specific Bean Origin    762\n",
       "REF                      24\n",
       "Review                   12\n",
       "Cocoa Percent            40\n",
       "Company Location         58\n",
       "Rating                   13\n",
       "Bean Type                39\n",
       "Broad Bean Origin        84\n",
       "Rating_cat               13\n",
       "dtype: int64"
      ]
     },
     "execution_count": 247,
     "metadata": {},
     "output_type": "execute_result"
    }
   ],
   "source": [
    "train_df_clean.nunique()"
   ]
  },
  {
   "cell_type": "code",
   "execution_count": 248,
   "id": "9aba4e47",
   "metadata": {},
   "outputs": [],
   "source": [
    "train_df_clean['Rating'] = train_df['Rating']\n",
    "train_df_clean['Cocoa Percent'] = train_df_clean['Cocoa Percent'].apply(lambda x: x.rstrip(' %')).astype(np.float32)"
   ]
  },
  {
   "cell_type": "code",
   "execution_count": 249,
   "id": "b6f9c8e3",
   "metadata": {},
   "outputs": [
    {
     "data": {
      "text/html": [
       "<div>\n",
       "<style scoped>\n",
       "    .dataframe tbody tr th:only-of-type {\n",
       "        vertical-align: middle;\n",
       "    }\n",
       "\n",
       "    .dataframe tbody tr th {\n",
       "        vertical-align: top;\n",
       "    }\n",
       "\n",
       "    .dataframe thead th {\n",
       "        text-align: right;\n",
       "    }\n",
       "</style>\n",
       "<table border=\"1\" class=\"dataframe\">\n",
       "  <thead>\n",
       "    <tr style=\"text-align: right;\">\n",
       "      <th></th>\n",
       "      <th>Review</th>\n",
       "      <th>Cocoa Percent</th>\n",
       "      <th>Rating</th>\n",
       "    </tr>\n",
       "  </thead>\n",
       "  <tbody>\n",
       "    <tr>\n",
       "      <th>Review</th>\n",
       "      <td>1.000000</td>\n",
       "      <td>0.045322</td>\n",
       "      <td>0.111826</td>\n",
       "    </tr>\n",
       "    <tr>\n",
       "      <th>Cocoa Percent</th>\n",
       "      <td>0.045322</td>\n",
       "      <td>1.000000</td>\n",
       "      <td>-0.172411</td>\n",
       "    </tr>\n",
       "    <tr>\n",
       "      <th>Rating</th>\n",
       "      <td>0.111826</td>\n",
       "      <td>-0.172411</td>\n",
       "      <td>1.000000</td>\n",
       "    </tr>\n",
       "  </tbody>\n",
       "</table>\n",
       "</div>"
      ],
      "text/plain": [
       "                 Review  Cocoa Percent    Rating\n",
       "Review         1.000000       0.045322  0.111826\n",
       "Cocoa Percent  0.045322       1.000000 -0.172411\n",
       "Rating         0.111826      -0.172411  1.000000"
      ]
     },
     "execution_count": 249,
     "metadata": {},
     "output_type": "execute_result"
    }
   ],
   "source": [
    "numeric_corr = train_df_clean.corr(numeric_only=True)\n",
    "numeric_corr"
   ]
  },
  {
   "cell_type": "markdown",
   "id": "db786be8",
   "metadata": {},
   "source": [
    "# Отбор признаков"
   ]
  },
  {
   "cell_type": "code",
   "execution_count": 250,
   "id": "5ddceaa1",
   "metadata": {},
   "outputs": [
    {
     "data": {
      "image/png": "[encoded data removed]",
      "text/plain": [
       "<Figure size 640x480 with 2 Axes>"
      ]
     },
     "metadata": {},
     "output_type": "display_data"
    }
   ],
   "source": [
    "sns.heatmap(numeric_corr, cmap='Blues', annot=True)\n",
    "plt.show();"
   ]
  },
  {
   "cell_type": "code",
   "execution_count": 251,
   "id": "04cfb02c",
   "metadata": {},
   "outputs": [
    {
     "data": {
      "text/html": [
       "<div>\n",
       "<style scoped>\n",
       "    .dataframe tbody tr th:only-of-type {\n",
       "        vertical-align: middle;\n",
       "    }\n",
       "\n",
       "    .dataframe tbody tr th {\n",
       "        vertical-align: top;\n",
       "    }\n",
       "\n",
       "    .dataframe thead th {\n",
       "        text-align: right;\n",
       "    }\n",
       "</style>\n",
       "<table border=\"1\" class=\"dataframe\">\n",
       "  <thead>\n",
       "    <tr style=\"text-align: right;\">\n",
       "      <th></th>\n",
       "      <th>Company</th>\n",
       "      <th>Specific Bean Origin</th>\n",
       "      <th>REF</th>\n",
       "      <th>Cocoa Percent</th>\n",
       "      <th>Company Location</th>\n",
       "      <th>Bean Type</th>\n",
       "      <th>Broad Bean Origin</th>\n",
       "      <th>Rating_cat</th>\n",
       "    </tr>\n",
       "  </thead>\n",
       "  <tbody>\n",
       "    <tr>\n",
       "      <th>Company</th>\n",
       "      <td>1.000000</td>\n",
       "      <td>0.771074</td>\n",
       "      <td>0.737806</td>\n",
       "      <td>0.631564</td>\n",
       "      <td>0.999651</td>\n",
       "      <td>0.609295</td>\n",
       "      <td>0.603644</td>\n",
       "      <td>0.592212</td>\n",
       "    </tr>\n",
       "    <tr>\n",
       "      <th>Specific Bean Origin</th>\n",
       "      <td>0.771074</td>\n",
       "      <td>1.000000</td>\n",
       "      <td>0.801503</td>\n",
       "      <td>0.772975</td>\n",
       "      <td>0.808500</td>\n",
       "      <td>0.910495</td>\n",
       "      <td>0.983537</td>\n",
       "      <td>0.758291</td>\n",
       "    </tr>\n",
       "    <tr>\n",
       "      <th>REF</th>\n",
       "      <td>0.737806</td>\n",
       "      <td>0.801503</td>\n",
       "      <td>1.000000</td>\n",
       "      <td>0.200624</td>\n",
       "      <td>0.327525</td>\n",
       "      <td>0.213481</td>\n",
       "      <td>0.298551</td>\n",
       "      <td>0.172818</td>\n",
       "    </tr>\n",
       "    <tr>\n",
       "      <th>Cocoa Percent</th>\n",
       "      <td>0.631564</td>\n",
       "      <td>0.772975</td>\n",
       "      <td>0.200624</td>\n",
       "      <td>1.000000</td>\n",
       "      <td>0.243803</td>\n",
       "      <td>0.156708</td>\n",
       "      <td>0.266400</td>\n",
       "      <td>0.238551</td>\n",
       "    </tr>\n",
       "    <tr>\n",
       "      <th>Company Location</th>\n",
       "      <td>0.999651</td>\n",
       "      <td>0.808500</td>\n",
       "      <td>0.327525</td>\n",
       "      <td>0.243803</td>\n",
       "      <td>1.000000</td>\n",
       "      <td>0.288233</td>\n",
       "      <td>0.383200</td>\n",
       "      <td>0.227523</td>\n",
       "    </tr>\n",
       "    <tr>\n",
       "      <th>Bean Type</th>\n",
       "      <td>0.609295</td>\n",
       "      <td>0.910495</td>\n",
       "      <td>0.213481</td>\n",
       "      <td>0.156708</td>\n",
       "      <td>0.288233</td>\n",
       "      <td>1.000000</td>\n",
       "      <td>0.416105</td>\n",
       "      <td>0.161432</td>\n",
       "    </tr>\n",
       "    <tr>\n",
       "      <th>Broad Bean Origin</th>\n",
       "      <td>0.603644</td>\n",
       "      <td>0.983537</td>\n",
       "      <td>0.298551</td>\n",
       "      <td>0.266400</td>\n",
       "      <td>0.383200</td>\n",
       "      <td>0.416105</td>\n",
       "      <td>1.000000</td>\n",
       "      <td>0.237414</td>\n",
       "    </tr>\n",
       "    <tr>\n",
       "      <th>Rating_cat</th>\n",
       "      <td>0.592212</td>\n",
       "      <td>0.758291</td>\n",
       "      <td>0.172818</td>\n",
       "      <td>0.238551</td>\n",
       "      <td>0.227523</td>\n",
       "      <td>0.161432</td>\n",
       "      <td>0.237414</td>\n",
       "      <td>1.000000</td>\n",
       "    </tr>\n",
       "  </tbody>\n",
       "</table>\n",
       "</div>"
      ],
      "text/plain": [
       "                       Company  Specific Bean Origin       REF  Cocoa Percent  \\\n",
       "Company               1.000000              0.771074  0.737806       0.631564   \n",
       "Specific Bean Origin  0.771074              1.000000  0.801503       0.772975   \n",
       "REF                   0.737806              0.801503  1.000000       0.200624   \n",
       "Cocoa Percent         0.631564              0.772975  0.200624       1.000000   \n",
       "Company Location      0.999651              0.808500  0.327525       0.243803   \n",
       "Bean Type             0.609295              0.910495  0.213481       0.156708   \n",
       "Broad Bean Origin     0.603644              0.983537  0.298551       0.266400   \n",
       "Rating_cat            0.592212              0.758291  0.172818       0.238551   \n",
       "\n",
       "                      Company Location  Bean Type  Broad Bean Origin  \\\n",
       "Company                       0.999651   0.609295           0.603644   \n",
       "Specific Bean Origin          0.808500   0.910495           0.983537   \n",
       "REF                           0.327525   0.213481           0.298551   \n",
       "Cocoa Percent                 0.243803   0.156708           0.266400   \n",
       "Company Location              1.000000   0.288233           0.383200   \n",
       "Bean Type                     0.288233   1.000000           0.416105   \n",
       "Broad Bean Origin             0.383200   0.416105           1.000000   \n",
       "Rating_cat                    0.227523   0.161432           0.237414   \n",
       "\n",
       "                      Rating_cat  \n",
       "Company                 0.592212  \n",
       "Specific Bean Origin    0.758291  \n",
       "REF                     0.172818  \n",
       "Cocoa Percent           0.238551  \n",
       "Company Location        0.227523  \n",
       "Bean Type               0.161432  \n",
       "Broad Bean Origin       0.237414  \n",
       "Rating_cat              1.000000  "
      ]
     },
     "execution_count": 251,
     "metadata": {},
     "output_type": "execute_result"
    }
   ],
   "source": [
    "cat_cor"
   ]
  },
  {
   "cell_type": "code",
   "execution_count": 252,
   "id": "c3ed4f80",
   "metadata": {},
   "outputs": [
    {
     "data": {
      "text/plain": [
       "0              U.K.\n",
       "1       Switzerland\n",
       "2            U.S.A.\n",
       "3            U.S.A.\n",
       "4            France\n",
       "           ...     \n",
       "1250           U.K.\n",
       "1251           Peru\n",
       "1252         U.S.A.\n",
       "1253         U.S.A.\n",
       "1254         U.S.A.\n",
       "Name: Company Location, Length: 1255, dtype: category\n",
       "Categories (58, object): ['Amsterdam', 'Argentina', 'Australia', 'Austria', ..., 'U.S.A.', 'Venezuela', 'Vietnam', 'Wales']"
      ]
     },
     "execution_count": 252,
     "metadata": {},
     "output_type": "execute_result"
    }
   ],
   "source": [
    "train_df['Company Location']"
   ]
  },
  {
   "cell_type": "code",
   "execution_count": 253,
   "id": "ec51f6ed",
   "metadata": {},
   "outputs": [],
   "source": [
    "train_df_clean = train_df_clean.apply(lambda x: x.astype('category') if x.dtype == 'object' else x)"
   ]
  },
  {
   "cell_type": "code",
   "execution_count": 254,
   "id": "de819598",
   "metadata": {},
   "outputs": [
    {
     "data": {
      "text/html": [
       "<div>\n",
       "<style scoped>\n",
       "    .dataframe tbody tr th:only-of-type {\n",
       "        vertical-align: middle;\n",
       "    }\n",
       "\n",
       "    .dataframe tbody tr th {\n",
       "        vertical-align: top;\n",
       "    }\n",
       "\n",
       "    .dataframe thead th {\n",
       "        text-align: right;\n",
       "    }\n",
       "</style>\n",
       "<table border=\"1\" class=\"dataframe\">\n",
       "  <thead>\n",
       "    <tr style=\"text-align: right;\">\n",
       "      <th></th>\n",
       "      <th>Company</th>\n",
       "      <th>Specific Bean Origin</th>\n",
       "      <th>REF</th>\n",
       "      <th>Review</th>\n",
       "      <th>Cocoa Percent</th>\n",
       "      <th>Company Location</th>\n",
       "      <th>Rating</th>\n",
       "      <th>Bean Type</th>\n",
       "      <th>Broad Bean Origin</th>\n",
       "      <th>Rating_cat</th>\n",
       "    </tr>\n",
       "  </thead>\n",
       "  <tbody>\n",
       "    <tr>\n",
       "      <th>0</th>\n",
       "      <td>Willie's Cacao</td>\n",
       "      <td>Rio Caribe</td>\n",
       "      <td>5</td>\n",
       "      <td>2009</td>\n",
       "      <td>72%</td>\n",
       "      <td>U.K.</td>\n",
       "      <td>3.25</td>\n",
       "      <td>Trinitario</td>\n",
       "      <td>Venezuela</td>\n",
       "      <td>3.25</td>\n",
       "    </tr>\n",
       "    <tr>\n",
       "      <th>1</th>\n",
       "      <td>Beschle (Felchlin)</td>\n",
       "      <td>Ocumare, Premier Cru, Quizas No. 2</td>\n",
       "      <td>6</td>\n",
       "      <td>2010</td>\n",
       "      <td>72%</td>\n",
       "      <td>Switzerland</td>\n",
       "      <td>3.50</td>\n",
       "      <td></td>\n",
       "      <td>Venezuela</td>\n",
       "      <td>3.50</td>\n",
       "    </tr>\n",
       "    <tr>\n",
       "      <th>2</th>\n",
       "      <td>Dark Forest</td>\n",
       "      <td>Tanzania</td>\n",
       "      <td>19</td>\n",
       "      <td>2015</td>\n",
       "      <td>70%</td>\n",
       "      <td>U.S.A.</td>\n",
       "      <td>3.00</td>\n",
       "      <td></td>\n",
       "      <td>Tanzania</td>\n",
       "      <td>3.00</td>\n",
       "    </tr>\n",
       "    <tr>\n",
       "      <th>3</th>\n",
       "      <td>Brasstown aka It's Chocolate</td>\n",
       "      <td>Cooproagro</td>\n",
       "      <td>13</td>\n",
       "      <td>2013</td>\n",
       "      <td>72%</td>\n",
       "      <td>U.S.A.</td>\n",
       "      <td>3.00</td>\n",
       "      <td>Trinitario</td>\n",
       "      <td>Dominican Republic</td>\n",
       "      <td>3.00</td>\n",
       "    </tr>\n",
       "    <tr>\n",
       "      <th>4</th>\n",
       "      <td>Pralus</td>\n",
       "      <td>Java, Indonesie</td>\n",
       "      <td>0</td>\n",
       "      <td>2006</td>\n",
       "      <td>75%</td>\n",
       "      <td>France</td>\n",
       "      <td>3.50</td>\n",
       "      <td>Criollo</td>\n",
       "      <td>Indonesia</td>\n",
       "      <td>3.50</td>\n",
       "    </tr>\n",
       "  </tbody>\n",
       "</table>\n",
       "</div>"
      ],
      "text/plain": [
       "                        Company                Specific Bean Origin REF  \\\n",
       "0                Willie's Cacao                          Rio Caribe   5   \n",
       "1            Beschle (Felchlin)  Ocumare, Premier Cru, Quizas No. 2   6   \n",
       "2                   Dark Forest                            Tanzania  19   \n",
       "3  Brasstown aka It's Chocolate                          Cooproagro  13   \n",
       "4                        Pralus                     Java, Indonesie   0   \n",
       "\n",
       "   Review Cocoa Percent Company Location  Rating   Bean Type  \\\n",
       "0    2009           72%             U.K.    3.25  Trinitario   \n",
       "1    2010           72%      Switzerland    3.50               \n",
       "2    2015           70%           U.S.A.    3.00               \n",
       "3    2013           72%           U.S.A.    3.00  Trinitario   \n",
       "4    2006           75%           France    3.50     Criollo   \n",
       "\n",
       "    Broad Bean Origin Rating_cat  \n",
       "0           Venezuela       3.25  \n",
       "1           Venezuela       3.50  \n",
       "2            Tanzania       3.00  \n",
       "3  Dominican Republic       3.00  \n",
       "4           Indonesia       3.50  "
      ]
     },
     "execution_count": 254,
     "metadata": {},
     "output_type": "execute_result"
    }
   ],
   "source": [
    "train_df.head()"
   ]
  },
  {
   "cell_type": "code",
   "execution_count": 255,
   "id": "1f5cbccb",
   "metadata": {},
   "outputs": [
    {
     "data": {
      "text/plain": [
       "Company                 376\n",
       "Specific Bean Origin    762\n",
       "REF                      24\n",
       "Review                   12\n",
       "Cocoa Percent            40\n",
       "Company Location         58\n",
       "Rating                   13\n",
       "Bean Type                39\n",
       "Broad Bean Origin        84\n",
       "Rating_cat               13\n",
       "dtype: int64"
      ]
     },
     "execution_count": 255,
     "metadata": {},
     "output_type": "execute_result"
    }
   ],
   "source": [
    "train_df_clean.nunique()"
   ]
  },
  {
   "cell_type": "code",
   "execution_count": 256,
   "id": "a5e9a23f",
   "metadata": {},
   "outputs": [
    {
     "data": {
      "image/png": "[encoded data removed]",
      "text/plain": [
       "<Figure size 640x480 with 2 Axes>"
      ]
     },
     "metadata": {},
     "output_type": "display_data"
    }
   ],
   "source": [
    "sns.heatmap(cat_cor, cmap='Blues', annot=True)\n",
    "plt.show();"
   ]
  },
  {
   "cell_type": "code",
   "execution_count": 257,
   "id": "27a93408",
   "metadata": {},
   "outputs": [
    {
     "data": {
      "text/html": [
       "<div>\n",
       "<style scoped>\n",
       "    .dataframe tbody tr th:only-of-type {\n",
       "        vertical-align: middle;\n",
       "    }\n",
       "\n",
       "    .dataframe tbody tr th {\n",
       "        vertical-align: top;\n",
       "    }\n",
       "\n",
       "    .dataframe thead th {\n",
       "        text-align: right;\n",
       "    }\n",
       "</style>\n",
       "<table border=\"1\" class=\"dataframe\">\n",
       "  <thead>\n",
       "    <tr style=\"text-align: right;\">\n",
       "      <th></th>\n",
       "      <th>Company</th>\n",
       "      <th>REF</th>\n",
       "      <th>Cocoa Percent</th>\n",
       "      <th>Company Location</th>\n",
       "      <th>Rating</th>\n",
       "      <th>Bean Type</th>\n",
       "      <th>Broad Bean Origin</th>\n",
       "    </tr>\n",
       "  </thead>\n",
       "  <tbody>\n",
       "    <tr>\n",
       "      <th>0</th>\n",
       "      <td>Willie's Cacao</td>\n",
       "      <td>5</td>\n",
       "      <td>72.0</td>\n",
       "      <td>U.K.</td>\n",
       "      <td>3.25</td>\n",
       "      <td>Trinitario</td>\n",
       "      <td>Venezuela</td>\n",
       "    </tr>\n",
       "    <tr>\n",
       "      <th>1</th>\n",
       "      <td>Beschle (Felchlin)</td>\n",
       "      <td>6</td>\n",
       "      <td>72.0</td>\n",
       "      <td>Switzerland</td>\n",
       "      <td>3.50</td>\n",
       "      <td></td>\n",
       "      <td>Venezuela</td>\n",
       "    </tr>\n",
       "    <tr>\n",
       "      <th>2</th>\n",
       "      <td>Dark Forest</td>\n",
       "      <td>19</td>\n",
       "      <td>70.0</td>\n",
       "      <td>U.S.A.</td>\n",
       "      <td>3.00</td>\n",
       "      <td></td>\n",
       "      <td>Tanzania</td>\n",
       "    </tr>\n",
       "    <tr>\n",
       "      <th>3</th>\n",
       "      <td>Brasstown aka It's Chocolate</td>\n",
       "      <td>13</td>\n",
       "      <td>72.0</td>\n",
       "      <td>U.S.A.</td>\n",
       "      <td>3.00</td>\n",
       "      <td>Trinitario</td>\n",
       "      <td>Dominican Republic</td>\n",
       "    </tr>\n",
       "    <tr>\n",
       "      <th>4</th>\n",
       "      <td>Pralus</td>\n",
       "      <td>0</td>\n",
       "      <td>75.0</td>\n",
       "      <td>France</td>\n",
       "      <td>3.50</td>\n",
       "      <td>Criollo</td>\n",
       "      <td>Indonesia</td>\n",
       "    </tr>\n",
       "  </tbody>\n",
       "</table>\n",
       "</div>"
      ],
      "text/plain": [
       "                        Company REF  Cocoa Percent Company Location  Rating  \\\n",
       "0                Willie's Cacao   5           72.0             U.K.    3.25   \n",
       "1            Beschle (Felchlin)   6           72.0      Switzerland    3.50   \n",
       "2                   Dark Forest  19           70.0           U.S.A.    3.00   \n",
       "3  Brasstown aka It's Chocolate  13           72.0           U.S.A.    3.00   \n",
       "4                        Pralus   0           75.0           France    3.50   \n",
       "\n",
       "    Bean Type   Broad Bean Origin  \n",
       "0  Trinitario           Venezuela  \n",
       "1                       Venezuela  \n",
       "2                        Tanzania  \n",
       "3  Trinitario  Dominican Republic  \n",
       "4     Criollo           Indonesia  "
      ]
     },
     "execution_count": 257,
     "metadata": {},
     "output_type": "execute_result"
    }
   ],
   "source": [
    "drop_cols = ['Specific Bean Origin', 'Review', 'Rating_cat']\n",
    "train_df_clean = train_df_clean.drop(drop_cols, axis=1)\n",
    "train_df_clean.head()"
   ]
  },
  {
   "cell_type": "code",
   "execution_count": 258,
   "id": "de325b05",
   "metadata": {},
   "outputs": [
    {
     "data": {
      "text/html": [
       "<div>\n",
       "<style scoped>\n",
       "    .dataframe tbody tr th:only-of-type {\n",
       "        vertical-align: middle;\n",
       "    }\n",
       "\n",
       "    .dataframe tbody tr th {\n",
       "        vertical-align: top;\n",
       "    }\n",
       "\n",
       "    .dataframe thead th {\n",
       "        text-align: right;\n",
       "    }\n",
       "</style>\n",
       "<table border=\"1\" class=\"dataframe\">\n",
       "  <thead>\n",
       "    <tr style=\"text-align: right;\">\n",
       "      <th></th>\n",
       "      <th>Company</th>\n",
       "      <th>REF</th>\n",
       "      <th>Cocoa Percent</th>\n",
       "      <th>Company Location</th>\n",
       "      <th>Rating</th>\n",
       "      <th>Bean Type</th>\n",
       "      <th>Broad Bean Origin</th>\n",
       "    </tr>\n",
       "  </thead>\n",
       "  <tbody>\n",
       "    <tr>\n",
       "      <th>0</th>\n",
       "      <td>Willie's Cacao</td>\n",
       "      <td>5</td>\n",
       "      <td>72.0</td>\n",
       "      <td>U.K.</td>\n",
       "      <td>3.25</td>\n",
       "      <td>Trinitario</td>\n",
       "      <td>Venezuela</td>\n",
       "    </tr>\n",
       "    <tr>\n",
       "      <th>1</th>\n",
       "      <td>Beschle (Felchlin)</td>\n",
       "      <td>6</td>\n",
       "      <td>72.0</td>\n",
       "      <td>Switzerland</td>\n",
       "      <td>3.50</td>\n",
       "      <td></td>\n",
       "      <td>Venezuela</td>\n",
       "    </tr>\n",
       "    <tr>\n",
       "      <th>2</th>\n",
       "      <td>Dark Forest</td>\n",
       "      <td>19</td>\n",
       "      <td>70.0</td>\n",
       "      <td>U.S.A.</td>\n",
       "      <td>3.00</td>\n",
       "      <td></td>\n",
       "      <td>Tanzania</td>\n",
       "    </tr>\n",
       "    <tr>\n",
       "      <th>3</th>\n",
       "      <td>Brasstown aka It's Chocolate</td>\n",
       "      <td>13</td>\n",
       "      <td>72.0</td>\n",
       "      <td>U.S.A.</td>\n",
       "      <td>3.00</td>\n",
       "      <td>Trinitario</td>\n",
       "      <td>Dominican Republic</td>\n",
       "    </tr>\n",
       "    <tr>\n",
       "      <th>4</th>\n",
       "      <td>Pralus</td>\n",
       "      <td>0</td>\n",
       "      <td>75.0</td>\n",
       "      <td>France</td>\n",
       "      <td>3.50</td>\n",
       "      <td>Criollo</td>\n",
       "      <td>Indonesia</td>\n",
       "    </tr>\n",
       "  </tbody>\n",
       "</table>\n",
       "</div>"
      ],
      "text/plain": [
       "                        Company REF  Cocoa Percent Company Location  Rating  \\\n",
       "0                Willie's Cacao   5           72.0             U.K.    3.25   \n",
       "1            Beschle (Felchlin)   6           72.0      Switzerland    3.50   \n",
       "2                   Dark Forest  19           70.0           U.S.A.    3.00   \n",
       "3  Brasstown aka It's Chocolate  13           72.0           U.S.A.    3.00   \n",
       "4                        Pralus   0           75.0           France    3.50   \n",
       "\n",
       "    Bean Type   Broad Bean Origin  \n",
       "0  Trinitario           Venezuela  \n",
       "1                       Venezuela  \n",
       "2                        Tanzania  \n",
       "3  Trinitario  Dominican Republic  \n",
       "4     Criollo           Indonesia  "
      ]
     },
     "execution_count": 258,
     "metadata": {},
     "output_type": "execute_result"
    }
   ],
   "source": [
    "train_df_clean.head()"
   ]
  },
  {
   "cell_type": "markdown",
   "id": "d28634f5",
   "metadata": {},
   "source": [
    "# Построение модели"
   ]
  },
  {
   "cell_type": "code",
   "execution_count": 259,
   "id": "273a24d8",
   "metadata": {},
   "outputs": [],
   "source": [
    "X = train_df_clean.drop('Rating', axis=1)\n",
    "y = train_df_clean['Rating']\n",
    "\n",
    "# X_train, X_val, y_train, y_val = train_test_split(X, y, test_size=0.25, random_state=RANDOM_STATE)"
   ]
  },
  {
   "cell_type": "code",
   "execution_count": 260,
   "id": "f61f6a81",
   "metadata": {},
   "outputs": [],
   "source": [
    "# train_df_clean.dtypes"
   ]
  },
  {
   "cell_type": "code",
   "execution_count": 261,
   "id": "e14235f9",
   "metadata": {},
   "outputs": [],
   "source": [
    "# cat_features = [i for i, col in enumerate(X_train.columns) if X_train[col].dtype.name in ['category', 'object']]\n",
    "\n",
    "# for col in X_train.drop(X_train.columns[cat_features], axis=1):\n",
    "#     print(col)\n",
    "#     sns.boxplot(X_train[col])\n",
    "#     plt.show()\n",
    "# print('Target')\n",
    "# sns.boxplot(y)\n",
    "# plt.show()"
   ]
  },
  {
   "cell_type": "code",
   "execution_count": 262,
   "id": "5c75ced9",
   "metadata": {},
   "outputs": [
    {
     "name": "stdout",
     "output_type": "stream",
     "text": [
      "0.487719208179764\n",
      "0.16107557223338942\n",
      "\n",
      "0.5364894259125323\n",
      "0.1322663340770408\n",
      "\n",
      "0.5990191916841598\n",
      "0.17926175158448399\n",
      "\n",
      "0.5765248402110172\n",
      "0.21448450362667715\n",
      "\n",
      "0.5904380345781766\n",
      "0.17454823809750197\n",
      "\n",
      "0.17232727992381866\n"
     ]
    }
   ],
   "source": [
    "val_vscore_arr = []\n",
    "for RANDOM_STATE in range(50, 251, 50):\n",
    "    X_train, X_val, y_train, y_val = train_test_split(X, y, test_size=0.25, random_state=RANDOM_STATE)\n",
    "    cat_features = [i for i, col in enumerate(X_train.columns) if X_train[col].dtype.name in ['category', 'object']]\n",
    "    model = CatBoostRegressor(cat_features=cat_features)\n",
    "    model.fit(X_train, y_train, verbose=False)\n",
    "    print(model.score(X_train, y_train))\n",
    "    pred = model.predict(X_val)\n",
    "    val_score = r2_score(y_val, pred)\n",
    "    val_vscore_arr.append(val_score)\n",
    "\n",
    "    print(val_score)\n",
    "    print()\n",
    "print(np.mean(val_vscore_arr))"
   ]
  },
  {
   "cell_type": "code",
   "execution_count": 263,
   "id": "6ed14110",
   "metadata": {},
   "outputs": [
    {
     "ename": "NameError",
     "evalue": "name 'stop' is not defined",
     "output_type": "error",
     "traceback": [
      "\u001b[1;31m---------------------------------------------------------------------------\u001b[0m",
      "\u001b[1;31mNameError\u001b[0m                                 Traceback (most recent call last)",
      "Cell \u001b[1;32mIn[263], line 1\u001b[0m\n\u001b[1;32m----> 1\u001b[0m stop\n",
      "\u001b[1;31mNameError\u001b[0m: name 'stop' is not defined"
     ]
    }
   ],
   "source": [
    "stop"
   ]
  },
  {
   "cell_type": "code",
   "execution_count": null,
   "id": "10583831",
   "metadata": {},
   "outputs": [
    {
     "name": "stderr",
     "output_type": "stream",
     "text": [
      "[I 2025-05-10 07:01:13,941] A new study created in memory with name: no-name-58a774cc-ec88-4f72-bd3c-111ce764f09f\n",
      "[W 2025-05-10 07:01:16,070] Trial 0 failed with parameters: {'learning_rate': 0.11698741850119038, 'n_estimators': 987, 'depth': 9} because of the following error: KeyboardInterrupt('').\n",
      "Traceback (most recent call last):\n",
      "  File \"c:\\Users\\kuche\\anaconda3\\Lib\\site-packages\\optuna\\study\\_optimize.py\", line 197, in _run_trial\n",
      "    value_or_values = func(trial)\n",
      "                      ^^^^^^^^^^^\n",
      "  File \"C:\\Users\\kuche\\AppData\\Local\\Temp\\ipykernel_716\\3464648288.py\", line 11, in objective\n",
      "    estimator.fit(X_train, y_train, eval_set=(X_val, y_val), verbose=False)\n",
      "  File \"c:\\Users\\kuche\\anaconda3\\Lib\\site-packages\\catboost\\core.py\", line 5873, in fit\n",
      "    return self._fit(X, y, cat_features, text_features, embedding_features, None, graph, sample_weight, None, None, None, None, baseline,\n",
      "           ^^^^^^^^^^^^^^^^^^^^^^^^^^^^^^^^^^^^^^^^^^^^^^^^^^^^^^^^^^^^^^^^^^^^^^^^^^^^^^^^^^^^^^^^^^^^^^^^^^^^^^^^^^^^^^^^^^^^^^^^^^^^^^\n",
      "  File \"c:\\Users\\kuche\\anaconda3\\Lib\\site-packages\\catboost\\core.py\", line 2410, in _fit\n",
      "    self._train(\n",
      "  File \"c:\\Users\\kuche\\anaconda3\\Lib\\site-packages\\catboost\\core.py\", line 1790, in _train\n",
      "    self._object._train(train_pool, test_pool, params, allow_clear_pool, init_model._object if init_model else None)\n",
      "  File \"_catboost.pyx\", line 5017, in _catboost._CatBoost._train\n",
      "  File \"_catboost.pyx\", line 5066, in _catboost._CatBoost._train\n",
      "KeyboardInterrupt\n",
      "[W 2025-05-10 07:01:16,073] Trial 0 failed with value None.\n"
     ]
    },
    {
     "ename": "KeyboardInterrupt",
     "evalue": "",
     "output_type": "error",
     "traceback": [
      "\u001b[1;31m---------------------------------------------------------------------------\u001b[0m",
      "\u001b[1;31mKeyboardInterrupt\u001b[0m                         Traceback (most recent call last)",
      "Cell \u001b[1;32mIn[50], line 15\u001b[0m\n\u001b[0;32m     12\u001b[0m     \u001b[38;5;28;01mreturn\u001b[39;00m cross_val_score(estimator, X_train, y_train, cv\u001b[38;5;241m=\u001b[39m\u001b[38;5;241m3\u001b[39m, scoring\u001b[38;5;241m=\u001b[39m\u001b[38;5;124m'\u001b[39m\u001b[38;5;124mr2\u001b[39m\u001b[38;5;124m'\u001b[39m, n_jobs\u001b[38;5;241m=\u001b[39m\u001b[38;5;241m5\u001b[39m)\u001b[38;5;241m.\u001b[39mmean()\n\u001b[0;32m     14\u001b[0m study \u001b[38;5;241m=\u001b[39m optuna\u001b[38;5;241m.\u001b[39mcreate_study(direction\u001b[38;5;241m=\u001b[39m\u001b[38;5;124m\"\u001b[39m\u001b[38;5;124mmaximize\u001b[39m\u001b[38;5;124m\"\u001b[39m)\n\u001b[1;32m---> 15\u001b[0m study\u001b[38;5;241m.\u001b[39moptimize(objective, n_trials\u001b[38;5;241m=\u001b[39m\u001b[38;5;241m15\u001b[39m)\n\u001b[0;32m     16\u001b[0m \u001b[38;5;28mprint\u001b[39m(study\u001b[38;5;241m.\u001b[39mbest_trial)\n",
      "File \u001b[1;32mc:\\Users\\kuche\\anaconda3\\Lib\\site-packages\\optuna\\study\\study.py:475\u001b[0m, in \u001b[0;36mStudy.optimize\u001b[1;34m(self, func, n_trials, timeout, n_jobs, catch, callbacks, gc_after_trial, show_progress_bar)\u001b[0m\n\u001b[0;32m    373\u001b[0m \u001b[38;5;28;01mdef\u001b[39;00m \u001b[38;5;21moptimize\u001b[39m(\n\u001b[0;32m    374\u001b[0m     \u001b[38;5;28mself\u001b[39m,\n\u001b[0;32m    375\u001b[0m     func: ObjectiveFuncType,\n\u001b[1;32m   (...)\u001b[0m\n\u001b[0;32m    382\u001b[0m     show_progress_bar: \u001b[38;5;28mbool\u001b[39m \u001b[38;5;241m=\u001b[39m \u001b[38;5;28;01mFalse\u001b[39;00m,\n\u001b[0;32m    383\u001b[0m ) \u001b[38;5;241m-\u001b[39m\u001b[38;5;241m>\u001b[39m \u001b[38;5;28;01mNone\u001b[39;00m:\n\u001b[0;32m    384\u001b[0m \u001b[38;5;250m    \u001b[39m\u001b[38;5;124;03m\"\"\"Optimize an objective function.\u001b[39;00m\n\u001b[0;32m    385\u001b[0m \n\u001b[0;32m    386\u001b[0m \u001b[38;5;124;03m    Optimization is done by choosing a suitable set of hyperparameter values from a given\u001b[39;00m\n\u001b[1;32m   (...)\u001b[0m\n\u001b[0;32m    473\u001b[0m \u001b[38;5;124;03m            If nested invocation of this method occurs.\u001b[39;00m\n\u001b[0;32m    474\u001b[0m \u001b[38;5;124;03m    \"\"\"\u001b[39;00m\n\u001b[1;32m--> 475\u001b[0m     _optimize(\n\u001b[0;32m    476\u001b[0m         study\u001b[38;5;241m=\u001b[39m\u001b[38;5;28mself\u001b[39m,\n\u001b[0;32m    477\u001b[0m         func\u001b[38;5;241m=\u001b[39mfunc,\n\u001b[0;32m    478\u001b[0m         n_trials\u001b[38;5;241m=\u001b[39mn_trials,\n\u001b[0;32m    479\u001b[0m         timeout\u001b[38;5;241m=\u001b[39mtimeout,\n\u001b[0;32m    480\u001b[0m         n_jobs\u001b[38;5;241m=\u001b[39mn_jobs,\n\u001b[0;32m    481\u001b[0m         catch\u001b[38;5;241m=\u001b[39m\u001b[38;5;28mtuple\u001b[39m(catch) \u001b[38;5;28;01mif\u001b[39;00m \u001b[38;5;28misinstance\u001b[39m(catch, Iterable) \u001b[38;5;28;01melse\u001b[39;00m (catch,),\n\u001b[0;32m    482\u001b[0m         callbacks\u001b[38;5;241m=\u001b[39mcallbacks,\n\u001b[0;32m    483\u001b[0m         gc_after_trial\u001b[38;5;241m=\u001b[39mgc_after_trial,\n\u001b[0;32m    484\u001b[0m         show_progress_bar\u001b[38;5;241m=\u001b[39mshow_progress_bar,\n\u001b[0;32m    485\u001b[0m     )\n",
      "File \u001b[1;32mc:\\Users\\kuche\\anaconda3\\Lib\\site-packages\\optuna\\study\\_optimize.py:63\u001b[0m, in \u001b[0;36m_optimize\u001b[1;34m(study, func, n_trials, timeout, n_jobs, catch, callbacks, gc_after_trial, show_progress_bar)\u001b[0m\n\u001b[0;32m     61\u001b[0m \u001b[38;5;28;01mtry\u001b[39;00m:\n\u001b[0;32m     62\u001b[0m     \u001b[38;5;28;01mif\u001b[39;00m n_jobs \u001b[38;5;241m==\u001b[39m \u001b[38;5;241m1\u001b[39m:\n\u001b[1;32m---> 63\u001b[0m         _optimize_sequential(\n\u001b[0;32m     64\u001b[0m             study,\n\u001b[0;32m     65\u001b[0m             func,\n\u001b[0;32m     66\u001b[0m             n_trials,\n\u001b[0;32m     67\u001b[0m             timeout,\n\u001b[0;32m     68\u001b[0m             catch,\n\u001b[0;32m     69\u001b[0m             callbacks,\n\u001b[0;32m     70\u001b[0m             gc_after_trial,\n\u001b[0;32m     71\u001b[0m             reseed_sampler_rng\u001b[38;5;241m=\u001b[39m\u001b[38;5;28;01mFalse\u001b[39;00m,\n\u001b[0;32m     72\u001b[0m             time_start\u001b[38;5;241m=\u001b[39m\u001b[38;5;28;01mNone\u001b[39;00m,\n\u001b[0;32m     73\u001b[0m             progress_bar\u001b[38;5;241m=\u001b[39mprogress_bar,\n\u001b[0;32m     74\u001b[0m         )\n\u001b[0;32m     75\u001b[0m     \u001b[38;5;28;01melse\u001b[39;00m:\n\u001b[0;32m     76\u001b[0m         \u001b[38;5;28;01mif\u001b[39;00m n_jobs \u001b[38;5;241m==\u001b[39m \u001b[38;5;241m-\u001b[39m\u001b[38;5;241m1\u001b[39m:\n",
      "File \u001b[1;32mc:\\Users\\kuche\\anaconda3\\Lib\\site-packages\\optuna\\study\\_optimize.py:160\u001b[0m, in \u001b[0;36m_optimize_sequential\u001b[1;34m(study, func, n_trials, timeout, catch, callbacks, gc_after_trial, reseed_sampler_rng, time_start, progress_bar)\u001b[0m\n\u001b[0;32m    157\u001b[0m         \u001b[38;5;28;01mbreak\u001b[39;00m\n\u001b[0;32m    159\u001b[0m \u001b[38;5;28;01mtry\u001b[39;00m:\n\u001b[1;32m--> 160\u001b[0m     frozen_trial \u001b[38;5;241m=\u001b[39m _run_trial(study, func, catch)\n\u001b[0;32m    161\u001b[0m \u001b[38;5;28;01mfinally\u001b[39;00m:\n\u001b[0;32m    162\u001b[0m     \u001b[38;5;66;03m# The following line mitigates memory problems that can be occurred in some\u001b[39;00m\n\u001b[0;32m    163\u001b[0m     \u001b[38;5;66;03m# environments (e.g., services that use computing containers such as GitHub Actions).\u001b[39;00m\n\u001b[0;32m    164\u001b[0m     \u001b[38;5;66;03m# Please refer to the following PR for further details:\u001b[39;00m\n\u001b[0;32m    165\u001b[0m     \u001b[38;5;66;03m# https://github.com/optuna/optuna/pull/325.\u001b[39;00m\n\u001b[0;32m    166\u001b[0m     \u001b[38;5;28;01mif\u001b[39;00m gc_after_trial:\n",
      "File \u001b[1;32mc:\\Users\\kuche\\anaconda3\\Lib\\site-packages\\optuna\\study\\_optimize.py:248\u001b[0m, in \u001b[0;36m_run_trial\u001b[1;34m(study, func, catch)\u001b[0m\n\u001b[0;32m    241\u001b[0m         \u001b[38;5;28;01massert\u001b[39;00m \u001b[38;5;28;01mFalse\u001b[39;00m, \u001b[38;5;124m\"\u001b[39m\u001b[38;5;124mShould not reach.\u001b[39m\u001b[38;5;124m\"\u001b[39m\n\u001b[0;32m    243\u001b[0m \u001b[38;5;28;01mif\u001b[39;00m (\n\u001b[0;32m    244\u001b[0m     frozen_trial\u001b[38;5;241m.\u001b[39mstate \u001b[38;5;241m==\u001b[39m TrialState\u001b[38;5;241m.\u001b[39mFAIL\n\u001b[0;32m    245\u001b[0m     \u001b[38;5;129;01mand\u001b[39;00m func_err \u001b[38;5;129;01mis\u001b[39;00m \u001b[38;5;129;01mnot\u001b[39;00m \u001b[38;5;28;01mNone\u001b[39;00m\n\u001b[0;32m    246\u001b[0m     \u001b[38;5;129;01mand\u001b[39;00m \u001b[38;5;129;01mnot\u001b[39;00m \u001b[38;5;28misinstance\u001b[39m(func_err, catch)\n\u001b[0;32m    247\u001b[0m ):\n\u001b[1;32m--> 248\u001b[0m     \u001b[38;5;28;01mraise\u001b[39;00m func_err\n\u001b[0;32m    249\u001b[0m \u001b[38;5;28;01mreturn\u001b[39;00m frozen_trial\n",
      "File \u001b[1;32mc:\\Users\\kuche\\anaconda3\\Lib\\site-packages\\optuna\\study\\_optimize.py:197\u001b[0m, in \u001b[0;36m_run_trial\u001b[1;34m(study, func, catch)\u001b[0m\n\u001b[0;32m    195\u001b[0m \u001b[38;5;28;01mwith\u001b[39;00m get_heartbeat_thread(trial\u001b[38;5;241m.\u001b[39m_trial_id, study\u001b[38;5;241m.\u001b[39m_storage):\n\u001b[0;32m    196\u001b[0m     \u001b[38;5;28;01mtry\u001b[39;00m:\n\u001b[1;32m--> 197\u001b[0m         value_or_values \u001b[38;5;241m=\u001b[39m func(trial)\n\u001b[0;32m    198\u001b[0m     \u001b[38;5;28;01mexcept\u001b[39;00m exceptions\u001b[38;5;241m.\u001b[39mTrialPruned \u001b[38;5;28;01mas\u001b[39;00m e:\n\u001b[0;32m    199\u001b[0m         \u001b[38;5;66;03m# TODO(mamu): Handle multi-objective cases.\u001b[39;00m\n\u001b[0;32m    200\u001b[0m         state \u001b[38;5;241m=\u001b[39m TrialState\u001b[38;5;241m.\u001b[39mPRUNED\n",
      "Cell \u001b[1;32mIn[50], line 11\u001b[0m, in \u001b[0;36mobjective\u001b[1;34m(trial)\u001b[0m\n\u001b[0;32m      2\u001b[0m params \u001b[38;5;241m=\u001b[39m {\n\u001b[0;32m      3\u001b[0m     \u001b[38;5;124m'\u001b[39m\u001b[38;5;124mlearning_rate\u001b[39m\u001b[38;5;124m'\u001b[39m: trial\u001b[38;5;241m.\u001b[39msuggest_float(\u001b[38;5;124m'\u001b[39m\u001b[38;5;124mlearning_rate\u001b[39m\u001b[38;5;124m'\u001b[39m, \u001b[38;5;241m0.01\u001b[39m, \u001b[38;5;241m0.3\u001b[39m, log\u001b[38;5;241m=\u001b[39m\u001b[38;5;28;01mTrue\u001b[39;00m),\n\u001b[0;32m      4\u001b[0m     \u001b[38;5;124m'\u001b[39m\u001b[38;5;124mn_estimators\u001b[39m\u001b[38;5;124m'\u001b[39m: trial\u001b[38;5;241m.\u001b[39msuggest_int(\u001b[38;5;124m'\u001b[39m\u001b[38;5;124mn_estimators\u001b[39m\u001b[38;5;124m'\u001b[39m, \u001b[38;5;241m10\u001b[39m, \u001b[38;5;241m1500\u001b[39m),\n\u001b[1;32m   (...)\u001b[0m\n\u001b[0;32m      7\u001b[0m     \u001b[38;5;124m'\u001b[39m\u001b[38;5;124mearly_stopping_rounds\u001b[39m\u001b[38;5;124m'\u001b[39m: \u001b[38;5;241m50\u001b[39m\n\u001b[0;32m      8\u001b[0m }\n\u001b[0;32m     10\u001b[0m estimator \u001b[38;5;241m=\u001b[39m CatBoostRegressor(\u001b[38;5;241m*\u001b[39m\u001b[38;5;241m*\u001b[39mparams, cat_features\u001b[38;5;241m=\u001b[39mcat_features)\n\u001b[1;32m---> 11\u001b[0m estimator\u001b[38;5;241m.\u001b[39mfit(X_train, y_train, eval_set\u001b[38;5;241m=\u001b[39m(X_val, y_val), verbose\u001b[38;5;241m=\u001b[39m\u001b[38;5;28;01mFalse\u001b[39;00m)\n\u001b[0;32m     12\u001b[0m \u001b[38;5;28;01mreturn\u001b[39;00m cross_val_score(estimator, X_train, y_train, cv\u001b[38;5;241m=\u001b[39m\u001b[38;5;241m3\u001b[39m, scoring\u001b[38;5;241m=\u001b[39m\u001b[38;5;124m'\u001b[39m\u001b[38;5;124mr2\u001b[39m\u001b[38;5;124m'\u001b[39m, n_jobs\u001b[38;5;241m=\u001b[39m\u001b[38;5;241m5\u001b[39m)\u001b[38;5;241m.\u001b[39mmean()\n",
      "File \u001b[1;32mc:\\Users\\kuche\\anaconda3\\Lib\\site-packages\\catboost\\core.py:5873\u001b[0m, in \u001b[0;36mCatBoostRegressor.fit\u001b[1;34m(self, X, y, cat_features, text_features, embedding_features, graph, sample_weight, baseline, use_best_model, eval_set, verbose, logging_level, plot, plot_file, column_description, verbose_eval, metric_period, silent, early_stopping_rounds, save_snapshot, snapshot_file, snapshot_interval, init_model, callbacks, log_cout, log_cerr)\u001b[0m\n\u001b[0;32m   5871\u001b[0m \u001b[38;5;28;01mif\u001b[39;00m \u001b[38;5;124m'\u001b[39m\u001b[38;5;124mloss_function\u001b[39m\u001b[38;5;124m'\u001b[39m \u001b[38;5;129;01min\u001b[39;00m params:\n\u001b[0;32m   5872\u001b[0m     CatBoostRegressor\u001b[38;5;241m.\u001b[39m_check_is_compatible_loss(params[\u001b[38;5;124m'\u001b[39m\u001b[38;5;124mloss_function\u001b[39m\u001b[38;5;124m'\u001b[39m])\n\u001b[1;32m-> 5873\u001b[0m \u001b[38;5;28;01mreturn\u001b[39;00m \u001b[38;5;28mself\u001b[39m\u001b[38;5;241m.\u001b[39m_fit(X, y, cat_features, text_features, embedding_features, \u001b[38;5;28;01mNone\u001b[39;00m, graph, sample_weight, \u001b[38;5;28;01mNone\u001b[39;00m, \u001b[38;5;28;01mNone\u001b[39;00m, \u001b[38;5;28;01mNone\u001b[39;00m, \u001b[38;5;28;01mNone\u001b[39;00m, baseline,\n\u001b[0;32m   5874\u001b[0m                  use_best_model, eval_set, verbose, logging_level, plot, plot_file, column_description,\n\u001b[0;32m   5875\u001b[0m                  verbose_eval, metric_period, silent, early_stopping_rounds,\n\u001b[0;32m   5876\u001b[0m                  save_snapshot, snapshot_file, snapshot_interval, init_model, callbacks, log_cout, log_cerr)\n",
      "File \u001b[1;32mc:\\Users\\kuche\\anaconda3\\Lib\\site-packages\\catboost\\core.py:2410\u001b[0m, in \u001b[0;36mCatBoost._fit\u001b[1;34m(self, X, y, cat_features, text_features, embedding_features, pairs, graph, sample_weight, group_id, group_weight, subgroup_id, pairs_weight, baseline, use_best_model, eval_set, verbose, logging_level, plot, plot_file, column_description, verbose_eval, metric_period, silent, early_stopping_rounds, save_snapshot, snapshot_file, snapshot_interval, init_model, callbacks, log_cout, log_cerr)\u001b[0m\n\u001b[0;32m   2407\u001b[0m allow_clear_pool \u001b[38;5;241m=\u001b[39m train_params[\u001b[38;5;124m\"\u001b[39m\u001b[38;5;124mallow_clear_pool\u001b[39m\u001b[38;5;124m\"\u001b[39m]\n\u001b[0;32m   2409\u001b[0m \u001b[38;5;28;01mwith\u001b[39;00m plot_wrapper(plot, plot_file, \u001b[38;5;124m'\u001b[39m\u001b[38;5;124mTraining plots\u001b[39m\u001b[38;5;124m'\u001b[39m, [_get_train_dir(\u001b[38;5;28mself\u001b[39m\u001b[38;5;241m.\u001b[39mget_params())]):\n\u001b[1;32m-> 2410\u001b[0m     \u001b[38;5;28mself\u001b[39m\u001b[38;5;241m.\u001b[39m_train(\n\u001b[0;32m   2411\u001b[0m         train_pool,\n\u001b[0;32m   2412\u001b[0m         train_params[\u001b[38;5;124m\"\u001b[39m\u001b[38;5;124meval_sets\u001b[39m\u001b[38;5;124m\"\u001b[39m],\n\u001b[0;32m   2413\u001b[0m         params,\n\u001b[0;32m   2414\u001b[0m         allow_clear_pool,\n\u001b[0;32m   2415\u001b[0m         train_params[\u001b[38;5;124m\"\u001b[39m\u001b[38;5;124minit_model\u001b[39m\u001b[38;5;124m\"\u001b[39m]\n\u001b[0;32m   2416\u001b[0m     )\n\u001b[0;32m   2418\u001b[0m \u001b[38;5;66;03m# Have property feature_importance possibly set\u001b[39;00m\n\u001b[0;32m   2419\u001b[0m loss \u001b[38;5;241m=\u001b[39m \u001b[38;5;28mself\u001b[39m\u001b[38;5;241m.\u001b[39m_object\u001b[38;5;241m.\u001b[39m_get_loss_function_name()\n",
      "File \u001b[1;32mc:\\Users\\kuche\\anaconda3\\Lib\\site-packages\\catboost\\core.py:1790\u001b[0m, in \u001b[0;36m_CatBoostBase._train\u001b[1;34m(self, train_pool, test_pool, params, allow_clear_pool, init_model)\u001b[0m\n\u001b[0;32m   1789\u001b[0m \u001b[38;5;28;01mdef\u001b[39;00m \u001b[38;5;21m_train\u001b[39m(\u001b[38;5;28mself\u001b[39m, train_pool, test_pool, params, allow_clear_pool, init_model):\n\u001b[1;32m-> 1790\u001b[0m     \u001b[38;5;28mself\u001b[39m\u001b[38;5;241m.\u001b[39m_object\u001b[38;5;241m.\u001b[39m_train(train_pool, test_pool, params, allow_clear_pool, init_model\u001b[38;5;241m.\u001b[39m_object \u001b[38;5;28;01mif\u001b[39;00m init_model \u001b[38;5;28;01melse\u001b[39;00m \u001b[38;5;28;01mNone\u001b[39;00m)\n\u001b[0;32m   1791\u001b[0m     \u001b[38;5;28mself\u001b[39m\u001b[38;5;241m.\u001b[39m_set_trained_model_attributes()\n",
      "File \u001b[1;32m_catboost.pyx:5017\u001b[0m, in \u001b[0;36m_catboost._CatBoost._train\u001b[1;34m()\u001b[0m\n",
      "File \u001b[1;32m_catboost.pyx:5066\u001b[0m, in \u001b[0;36m_catboost._CatBoost._train\u001b[1;34m()\u001b[0m\n",
      "\u001b[1;31mKeyboardInterrupt\u001b[0m: "
     ]
    }
   ],
   "source": [
    "def objective(trial):\n",
    "    params = {\n",
    "        'learning_rate': trial.suggest_float('learning_rate', 0.01, 0.3, log=True),\n",
    "        'n_estimators': trial.suggest_int('n_estimators', 10, 1500),\n",
    "        'max_depth': trial.suggest_int('depth', 2, 16),\n",
    "        'verbose': 0,\n",
    "        'early_stopping_rounds': 50\n",
    "    }\n",
    "\n",
    "    estimator = CatBoostRegressor(**params, cat_features=cat_features)\n",
    "    estimator.fit(X_train, y_train, eval_set=(X_val, y_val), verbose=False)\n",
    "    return cross_val_score(estimator, X_train, y_train, cv=3, scoring='r2', n_jobs=5).mean()\n",
    "\n",
    "study = optuna.create_study(direction=\"maximize\")\n",
    "study.optimize(objective, n_trials=15)\n",
    "print(study.best_trial)"
   ]
  },
  {
   "cell_type": "code",
   "execution_count": null,
   "id": "ddbdabde",
   "metadata": {},
   "outputs": [
    {
     "data": {
      "text/plain": [
       "0.2129596233835126"
      ]
     },
     "execution_count": 50,
     "metadata": {},
     "output_type": "execute_result"
    }
   ],
   "source": [
    "hyper_param_model = CatBoostRegressor(**study.best_params, cat_features=cat_features, verbose=False)\n",
    "hyper_param_model.fit(X_train, y_train)\n",
    "new_pred = hyper_param_model.predict(X_val)\n",
    "r2_score(y_val, new_pred)\n",
    "# 0.22796892470738905"
   ]
  },
  {
   "cell_type": "code",
   "execution_count": null,
   "id": "dfce682b",
   "metadata": {},
   "outputs": [
    {
     "data": {
      "text/plain": [
       "0.4633091953853986"
      ]
     },
     "execution_count": 51,
     "metadata": {},
     "output_type": "execute_result"
    }
   ],
   "source": [
    "cb_train_pred = hyper_param_model.predict(X_train)\n",
    "r2_score(y_train, cb_train_pred)\n",
    "# 0.3794773884333069"
   ]
  },
  {
   "cell_type": "code",
   "execution_count": null,
   "id": "dd95fbe3",
   "metadata": {},
   "outputs": [
    {
     "data": {
      "text/plain": [
       "0.4633091953853986"
      ]
     },
     "execution_count": 52,
     "metadata": {},
     "output_type": "execute_result"
    }
   ],
   "source": [
    "hyper_param_model.score(X_train, y_train)\n",
    "# 0.3794773884333069"
   ]
  },
  {
   "cell_type": "code",
   "execution_count": null,
   "id": "25344430",
   "metadata": {},
   "outputs": [],
   "source": []
  },
  {
   "cell_type": "code",
   "execution_count": null,
   "id": "7c3b441e",
   "metadata": {},
   "outputs": [],
   "source": [
    "cat_cols = X_train.select_dtypes(include='category').columns\n",
    "\n",
    "X_train[cat_cols] = X_train[cat_cols].astype('object')\n",
    "X_val[cat_cols] = X_val[cat_cols].astype('object')"
   ]
  },
  {
   "cell_type": "code",
   "execution_count": null,
   "id": "89ebf470",
   "metadata": {},
   "outputs": [
    {
     "name": "stdout",
     "output_type": "stream",
     "text": [
      "1 0.09229608170077042\n",
      "2 0.06714478553830172\n",
      "3 0.1049899850181012\n",
      "4 0.06714478553830172\n",
      "5 0.09229608170077086\n",
      "6 0.10498998501810097\n",
      "7 0.12514354868988875\n",
      "8 0.12514354868988886\n",
      "9 0.061585788711244205\n"
     ]
    }
   ],
   "source": [
    "p1 = Pipeline([\n",
    "    ('encoder_',TargetEncoder(cols=cat_cols)),\n",
    "    ('scaler_', StandardScaler()),\n",
    "    ('model_', LinearRegression())\n",
    "    ])\n",
    "\n",
    "p2 = Pipeline([\n",
    "    ('encoder_',TargetEncoder(cols=cat_cols, smoothing=1)),\n",
    "    ('scaler_', StandardScaler()),\n",
    "    ('model_', LinearRegression())\n",
    "    ])\n",
    "\n",
    "p3 = Pipeline([\n",
    "    ('encoder_',TargetEncoder(cols=cat_cols, smoothing=100)),\n",
    "    ('scaler_', StandardScaler()),\n",
    "    ('model_', LinearRegression())\n",
    "    ])\n",
    "\n",
    "p4 = Pipeline([\n",
    "    ('encoder_',TargetEncoder(cols=cat_cols, smoothing=1)),\n",
    "    ('scaler_', MinMaxScaler()),\n",
    "    ('model_', LinearRegression())\n",
    "    ])\n",
    "\n",
    "p5 = Pipeline([\n",
    "    ('encoder_',TargetEncoder(cols=cat_cols, smoothing=10)),\n",
    "    ('scaler_', MinMaxScaler()),\n",
    "    ('model_', LinearRegression())\n",
    "    ])\n",
    "\n",
    "p6 = Pipeline([\n",
    "    ('encoder_',TargetEncoder(cols=cat_cols, smoothing=100)),\n",
    "    ('scaler_', MinMaxScaler()),\n",
    "    ('model_', LinearRegression())\n",
    "    ])\n",
    "\n",
    "p7 = Pipeline([\n",
    "    ('encoder_',LeaveOneOutEncoder(cols=cat_cols)),\n",
    "    ('scaler_', StandardScaler()),\n",
    "    ('model_', LinearRegression())\n",
    "    ])\n",
    "\n",
    "p8 = Pipeline([\n",
    "    ('encoder_',LeaveOneOutEncoder(cols=cat_cols)),\n",
    "    ('scaler_', MinMaxScaler()),\n",
    "    ('model_', LinearRegression())\n",
    "    ])\n",
    "\n",
    "p9 = Pipeline([\n",
    "    ('encoder_',TargetEncoder(cols=cat_cols)),\n",
    "    ('scaler_', StandardScaler()),\n",
    "    ('model_', RandomForestRegressor(n_jobs=-1))\n",
    "    ])\n",
    "\n",
    "for i, p in enumerate([p1,p2,p3,p4,p5,p6,p7,p8,p9]):\n",
    "    p.fit(X_train, y_train)\n",
    "    pred = p.predict(X_val)\n",
    "    print(i + 1, r2_score(y_val, pred))"
   ]
  },
  {
   "cell_type": "code",
   "execution_count": null,
   "id": "90fbd735",
   "metadata": {},
   "outputs": [
    {
     "name": "stdout",
     "output_type": "stream",
     "text": [
      "1 0.05265880594015371\n",
      "2 0.015576340773247321\n",
      "3 0.09164609643276034\n",
      "4 0.004230678158268386\n",
      "5 0.05265880594015371\n",
      "6 0.0532891645961896\n",
      "7 -0.007910567148424308\n",
      "8 0.07536002630104421\n"
     ]
    }
   ],
   "source": [
    "p11 = Pipeline([\n",
    "    ('encoder_',TargetEncoder(cols=cat_cols)),\n",
    "    ('scaler_', StandardScaler()),\n",
    "    ('model_', RandomForestRegressor(n_estimators=5, max_depth=3, random_state=42))\n",
    "    ])\n",
    "\n",
    "p12 = Pipeline([\n",
    "    ('encoder_',TargetEncoder(cols=cat_cols, smoothing=1)),\n",
    "    ('scaler_', StandardScaler()),\n",
    "    ('model_', RandomForestRegressor(n_estimators=10, max_depth=4, random_state=42))\n",
    "    ])\n",
    "\n",
    "p13 = Pipeline([\n",
    "    ('encoder_',TargetEncoder(cols=cat_cols, smoothing=100)),\n",
    "    ('scaler_', StandardScaler()),\n",
    "    ('model_', RandomForestRegressor(n_estimators=15, max_depth=6, random_state=42))\n",
    "    ])\n",
    "\n",
    "p14 = Pipeline([\n",
    "    ('encoder_',TargetEncoder(cols=cat_cols, smoothing=1)),\n",
    "    ('scaler_', MinMaxScaler()),\n",
    "    ('model_', RandomForestRegressor(n_estimators=10, max_depth=3, random_state=42))\n",
    "    ])\n",
    "\n",
    "p15 = Pipeline([\n",
    "    ('encoder_',TargetEncoder(cols=cat_cols, smoothing=10)),\n",
    "    ('scaler_', MinMaxScaler()),\n",
    "    ('model_', RandomForestRegressor(n_estimators=5, max_depth=3, random_state=42))\n",
    "    ])\n",
    "\n",
    "p16 = Pipeline([\n",
    "    ('encoder_',TargetEncoder(cols=cat_cols, smoothing=100)),\n",
    "    ('scaler_', MinMaxScaler()),\n",
    "    ('model_', RandomForestRegressor(n_estimators=11, max_depth=3, random_state=42))\n",
    "    ])\n",
    "\n",
    "p17 = Pipeline([\n",
    "    ('encoder_',LeaveOneOutEncoder(cols=cat_cols)),\n",
    "    ('scaler_', StandardScaler()),\n",
    "    ('model_', RandomForestRegressor(n_estimators=20, max_depth=3, random_state=42))\n",
    "    ])\n",
    "\n",
    "p18 = Pipeline([\n",
    "    ('encoder_',LeaveOneOutEncoder(cols=cat_cols)),\n",
    "    ('scaler_', MinMaxScaler()),\n",
    "    ('model_', RandomForestRegressor(n_estimators=22, max_depth=4, random_state=42))\n",
    "    ])\n",
    "\n",
    "for i, p in enumerate([p11,p12,p13,p14,p15,p16,p17,p18]):\n",
    "    p.fit(X_train, y_train)\n",
    "    pred = p.predict(X_val)\n",
    "    print(i + 1, r2_score(y_val, pred))"
   ]
  },
  {
   "cell_type": "code",
   "execution_count": null,
   "id": "3b544975",
   "metadata": {},
   "outputs": [
    {
     "data": {
      "text/plain": [
       "0.209232917684665"
      ]
     },
     "execution_count": 56,
     "metadata": {},
     "output_type": "execute_result"
    }
   ],
   "source": [
    "lr_pred = p12.predict(X_val)\n",
    "\n",
    "final_pred = 0.8 * new_pred + 0.2 * lr_pred\n",
    "\n",
    "r2_score(y_val, final_pred)"
   ]
  },
  {
   "cell_type": "code",
   "execution_count": null,
   "id": "456ef316",
   "metadata": {},
   "outputs": [],
   "source": []
  },
  {
   "cell_type": "code",
   "execution_count": null,
   "id": "9177417c",
   "metadata": {},
   "outputs": [],
   "source": [
    "test_df = pd.read_csv(TEST)"
   ]
  },
  {
   "cell_type": "code",
   "execution_count": null,
   "id": "e06c0daf",
   "metadata": {},
   "outputs": [],
   "source": [
    "test_df = test_df.replace('\\xa0', np.NaN)"
   ]
  },
  {
   "cell_type": "code",
   "execution_count": null,
   "id": "d94bc09b",
   "metadata": {},
   "outputs": [
    {
     "data": {
      "text/plain": [
       "Company                   0\n",
       "Specific Bean Origin      0\n",
       "REF                       0\n",
       "Review                    0\n",
       "Cocoa Percent             0\n",
       "Company Location          0\n",
       "Bean Type               259\n",
       "Broad Bean Origin        18\n",
       "dtype: int64"
      ]
     },
     "execution_count": 59,
     "metadata": {},
     "output_type": "execute_result"
    }
   ],
   "source": [
    "test_df.isna().sum()"
   ]
  },
  {
   "cell_type": "code",
   "execution_count": null,
   "id": "76ebb392",
   "metadata": {},
   "outputs": [
    {
     "data": {
      "text/html": [
       "<div>\n",
       "<style scoped>\n",
       "    .dataframe tbody tr th:only-of-type {\n",
       "        vertical-align: middle;\n",
       "    }\n",
       "\n",
       "    .dataframe tbody tr th {\n",
       "        vertical-align: top;\n",
       "    }\n",
       "\n",
       "    .dataframe thead th {\n",
       "        text-align: right;\n",
       "    }\n",
       "</style>\n",
       "<table border=\"1\" class=\"dataframe\">\n",
       "  <thead>\n",
       "    <tr style=\"text-align: right;\">\n",
       "      <th></th>\n",
       "      <th>Company</th>\n",
       "      <th>Specific Bean Origin</th>\n",
       "      <th>REF</th>\n",
       "      <th>Review</th>\n",
       "      <th>Cocoa Percent</th>\n",
       "      <th>Company Location</th>\n",
       "      <th>Bean Type</th>\n",
       "      <th>Broad Bean Origin</th>\n",
       "    </tr>\n",
       "  </thead>\n",
       "  <tbody>\n",
       "    <tr>\n",
       "      <th>0</th>\n",
       "      <td>Ohiyo</td>\n",
       "      <td>San Juan Estate, Gran Couva</td>\n",
       "      <td>1594</td>\n",
       "      <td>2015</td>\n",
       "      <td>70%</td>\n",
       "      <td>U.S.A.</td>\n",
       "      <td>Trinitario</td>\n",
       "      <td>Trinidad</td>\n",
       "    </tr>\n",
       "    <tr>\n",
       "      <th>1</th>\n",
       "      <td>Blanxart</td>\n",
       "      <td>Organic Dark</td>\n",
       "      <td>322</td>\n",
       "      <td>2009</td>\n",
       "      <td>72%</td>\n",
       "      <td>Spain</td>\n",
       "      <td>NaN</td>\n",
       "      <td>NaN</td>\n",
       "    </tr>\n",
       "    <tr>\n",
       "      <th>2</th>\n",
       "      <td>Brazen</td>\n",
       "      <td>Maya Mountain</td>\n",
       "      <td>1518</td>\n",
       "      <td>2015</td>\n",
       "      <td>80%</td>\n",
       "      <td>U.S.A.</td>\n",
       "      <td>Trinitario</td>\n",
       "      <td>Belize</td>\n",
       "    </tr>\n",
       "    <tr>\n",
       "      <th>3</th>\n",
       "      <td>Patric</td>\n",
       "      <td>Madagascar</td>\n",
       "      <td>439</td>\n",
       "      <td>2009</td>\n",
       "      <td>67%</td>\n",
       "      <td>U.S.A.</td>\n",
       "      <td>Trinitario</td>\n",
       "      <td>Madagascar</td>\n",
       "    </tr>\n",
       "    <tr>\n",
       "      <th>4</th>\n",
       "      <td>Potomac</td>\n",
       "      <td>Upala, Batch 12</td>\n",
       "      <td>607</td>\n",
       "      <td>2010</td>\n",
       "      <td>82%</td>\n",
       "      <td>U.S.A.</td>\n",
       "      <td>Matina</td>\n",
       "      <td>Costa Rica</td>\n",
       "    </tr>\n",
       "  </tbody>\n",
       "</table>\n",
       "</div>"
      ],
      "text/plain": [
       "    Company         Specific Bean Origin   REF  Review Cocoa Percent  \\\n",
       "0     Ohiyo  San Juan Estate, Gran Couva  1594    2015           70%   \n",
       "1  Blanxart                 Organic Dark   322    2009           72%   \n",
       "2    Brazen                Maya Mountain  1518    2015           80%   \n",
       "3    Patric                   Madagascar   439    2009           67%   \n",
       "4   Potomac              Upala, Batch 12   607    2010           82%   \n",
       "\n",
       "  Company Location   Bean Type Broad Bean Origin  \n",
       "0           U.S.A.  Trinitario          Trinidad  \n",
       "1            Spain         NaN               NaN  \n",
       "2           U.S.A.  Trinitario            Belize  \n",
       "3           U.S.A.  Trinitario        Madagascar  \n",
       "4           U.S.A.      Matina        Costa Rica  "
      ]
     },
     "execution_count": 60,
     "metadata": {},
     "output_type": "execute_result"
    }
   ],
   "source": [
    "test_df.head()"
   ]
  },
  {
   "cell_type": "code",
   "execution_count": null,
   "id": "439f9997",
   "metadata": {},
   "outputs": [
    {
     "name": "stdout",
     "output_type": "stream",
     "text": [
      "<class 'pandas.core.frame.DataFrame'>\n",
      "RangeIndex: 540 entries, 0 to 539\n",
      "Data columns (total 8 columns):\n",
      " #   Column                Non-Null Count  Dtype \n",
      "---  ------                --------------  ----- \n",
      " 0   Company               540 non-null    object\n",
      " 1   Specific Bean Origin  540 non-null    object\n",
      " 2   REF                   540 non-null    int64 \n",
      " 3   Review                540 non-null    int64 \n",
      " 4   Cocoa Percent         540 non-null    object\n",
      " 5   Company Location      540 non-null    object\n",
      " 6   Bean Type             281 non-null    object\n",
      " 7   Broad Bean Origin     522 non-null    object\n",
      "dtypes: int64(2), object(6)\n",
      "memory usage: 33.9+ KB\n"
     ]
    }
   ],
   "source": [
    "test_df.info()"
   ]
  },
  {
   "cell_type": "code",
   "execution_count": null,
   "id": "c5e31a5f",
   "metadata": {},
   "outputs": [],
   "source": [
    "test_df['Cocoa Percent'] = test_df['Cocoa Percent'].apply(lambda x: x.rstrip(' %')).astype(np.float32)"
   ]
  },
  {
   "cell_type": "code",
   "execution_count": null,
   "id": "d2f826b1",
   "metadata": {},
   "outputs": [],
   "source": [
    "test_df_clean = test_df.copy()\n",
    "test_df_clean['Bean Type'] = test_df_clean['Bean Type'].fillna('Other')\n",
    "test_df_clean['Broad Bean Origin'] = test_df_clean['Broad Bean Origin'].fillna('Other')"
   ]
  },
  {
   "cell_type": "code",
   "execution_count": null,
   "id": "d659e86d",
   "metadata": {},
   "outputs": [
    {
     "data": {
      "text/plain": [
       "Company                   0\n",
       "Specific Bean Origin      0\n",
       "REF                       0\n",
       "Review                    0\n",
       "Cocoa Percent             0\n",
       "Company Location          0\n",
       "Bean Type               259\n",
       "Broad Bean Origin        18\n",
       "dtype: int64"
      ]
     },
     "execution_count": 64,
     "metadata": {},
     "output_type": "execute_result"
    }
   ],
   "source": [
    "test_df.isna().sum()"
   ]
  },
  {
   "cell_type": "code",
   "execution_count": null,
   "id": "ff85aa56",
   "metadata": {},
   "outputs": [],
   "source": [
    "def REF_transform(x):\n",
    "    for n, inerval in enumerate(arr, 1):\n",
    "        if x in inerval:\n",
    "            return n"
   ]
  },
  {
   "cell_type": "code",
   "execution_count": null,
   "id": "6c8617d6",
   "metadata": {},
   "outputs": [],
   "source": [
    "test_df_clean['REF'] = test_df_clean['REF'].apply(REF_transform)"
   ]
  },
  {
   "cell_type": "code",
   "execution_count": null,
   "id": "1b242322",
   "metadata": {},
   "outputs": [
    {
     "data": {
      "text/html": [
       "<div>\n",
       "<style scoped>\n",
       "    .dataframe tbody tr th:only-of-type {\n",
       "        vertical-align: middle;\n",
       "    }\n",
       "\n",
       "    .dataframe tbody tr th {\n",
       "        vertical-align: top;\n",
       "    }\n",
       "\n",
       "    .dataframe thead th {\n",
       "        text-align: right;\n",
       "    }\n",
       "</style>\n",
       "<table border=\"1\" class=\"dataframe\">\n",
       "  <thead>\n",
       "    <tr style=\"text-align: right;\">\n",
       "      <th></th>\n",
       "      <th>Company</th>\n",
       "      <th>Specific Bean Origin</th>\n",
       "      <th>REF</th>\n",
       "      <th>Review</th>\n",
       "      <th>Cocoa Percent</th>\n",
       "      <th>Company Location</th>\n",
       "      <th>Bean Type</th>\n",
       "      <th>Broad Bean Origin</th>\n",
       "    </tr>\n",
       "  </thead>\n",
       "  <tbody>\n",
       "    <tr>\n",
       "      <th>0</th>\n",
       "      <td>Ohiyo</td>\n",
       "      <td>San Juan Estate, Gran Couva</td>\n",
       "      <td>20</td>\n",
       "      <td>2015</td>\n",
       "      <td>70.0</td>\n",
       "      <td>U.S.A.</td>\n",
       "      <td>Trinitario</td>\n",
       "      <td>Trinidad</td>\n",
       "    </tr>\n",
       "    <tr>\n",
       "      <th>1</th>\n",
       "      <td>Blanxart</td>\n",
       "      <td>Organic Dark</td>\n",
       "      <td>4</td>\n",
       "      <td>2009</td>\n",
       "      <td>72.0</td>\n",
       "      <td>Spain</td>\n",
       "      <td>Other</td>\n",
       "      <td>Other</td>\n",
       "    </tr>\n",
       "    <tr>\n",
       "      <th>2</th>\n",
       "      <td>Brazen</td>\n",
       "      <td>Maya Mountain</td>\n",
       "      <td>19</td>\n",
       "      <td>2015</td>\n",
       "      <td>80.0</td>\n",
       "      <td>U.S.A.</td>\n",
       "      <td>Trinitario</td>\n",
       "      <td>Belize</td>\n",
       "    </tr>\n",
       "    <tr>\n",
       "      <th>3</th>\n",
       "      <td>Patric</td>\n",
       "      <td>Madagascar</td>\n",
       "      <td>6</td>\n",
       "      <td>2009</td>\n",
       "      <td>67.0</td>\n",
       "      <td>U.S.A.</td>\n",
       "      <td>Trinitario</td>\n",
       "      <td>Madagascar</td>\n",
       "    </tr>\n",
       "    <tr>\n",
       "      <th>4</th>\n",
       "      <td>Potomac</td>\n",
       "      <td>Upala, Batch 12</td>\n",
       "      <td>8</td>\n",
       "      <td>2010</td>\n",
       "      <td>82.0</td>\n",
       "      <td>U.S.A.</td>\n",
       "      <td>Matina</td>\n",
       "      <td>Costa Rica</td>\n",
       "    </tr>\n",
       "  </tbody>\n",
       "</table>\n",
       "</div>"
      ],
      "text/plain": [
       "    Company         Specific Bean Origin  REF  Review  Cocoa Percent  \\\n",
       "0     Ohiyo  San Juan Estate, Gran Couva   20    2015           70.0   \n",
       "1  Blanxart                 Organic Dark    4    2009           72.0   \n",
       "2    Brazen                Maya Mountain   19    2015           80.0   \n",
       "3    Patric                   Madagascar    6    2009           67.0   \n",
       "4   Potomac              Upala, Batch 12    8    2010           82.0   \n",
       "\n",
       "  Company Location   Bean Type Broad Bean Origin  \n",
       "0           U.S.A.  Trinitario          Trinidad  \n",
       "1            Spain       Other             Other  \n",
       "2           U.S.A.  Trinitario            Belize  \n",
       "3           U.S.A.  Trinitario        Madagascar  \n",
       "4           U.S.A.      Matina        Costa Rica  "
      ]
     },
     "execution_count": 67,
     "metadata": {},
     "output_type": "execute_result"
    }
   ],
   "source": [
    "test_df_clean.head()"
   ]
  },
  {
   "cell_type": "code",
   "execution_count": null,
   "id": "6ba72682",
   "metadata": {},
   "outputs": [
    {
     "data": {
      "text/plain": [
       "Company                 244\n",
       "Specific Bean Origin    385\n",
       "REF                      24\n",
       "Review                   12\n",
       "Cocoa Percent            38\n",
       "Company Location         42\n",
       "Bean Type                20\n",
       "Broad Bean Origin        60\n",
       "dtype: int64"
      ]
     },
     "execution_count": 68,
     "metadata": {},
     "output_type": "execute_result"
    }
   ],
   "source": [
    "test_df_clean.nunique()"
   ]
  },
  {
   "cell_type": "code",
   "execution_count": null,
   "id": "86345aca",
   "metadata": {},
   "outputs": [
    {
     "data": {
      "text/html": [
       "<div>\n",
       "<style scoped>\n",
       "    .dataframe tbody tr th:only-of-type {\n",
       "        vertical-align: middle;\n",
       "    }\n",
       "\n",
       "    .dataframe tbody tr th {\n",
       "        vertical-align: top;\n",
       "    }\n",
       "\n",
       "    .dataframe thead th {\n",
       "        text-align: right;\n",
       "    }\n",
       "</style>\n",
       "<table border=\"1\" class=\"dataframe\">\n",
       "  <thead>\n",
       "    <tr style=\"text-align: right;\">\n",
       "      <th></th>\n",
       "      <th>Company</th>\n",
       "      <th>REF</th>\n",
       "      <th>Cocoa Percent</th>\n",
       "      <th>Company Location</th>\n",
       "      <th>Bean Type</th>\n",
       "      <th>Broad Bean Origin</th>\n",
       "    </tr>\n",
       "  </thead>\n",
       "  <tbody>\n",
       "    <tr>\n",
       "      <th>0</th>\n",
       "      <td>Ohiyo</td>\n",
       "      <td>20</td>\n",
       "      <td>70.0</td>\n",
       "      <td>U.S.A.</td>\n",
       "      <td>Trinitario</td>\n",
       "      <td>Trinidad</td>\n",
       "    </tr>\n",
       "    <tr>\n",
       "      <th>1</th>\n",
       "      <td>Blanxart</td>\n",
       "      <td>4</td>\n",
       "      <td>72.0</td>\n",
       "      <td>Spain</td>\n",
       "      <td>Other</td>\n",
       "      <td>Other</td>\n",
       "    </tr>\n",
       "    <tr>\n",
       "      <th>2</th>\n",
       "      <td>Brazen</td>\n",
       "      <td>19</td>\n",
       "      <td>80.0</td>\n",
       "      <td>U.S.A.</td>\n",
       "      <td>Trinitario</td>\n",
       "      <td>Belize</td>\n",
       "    </tr>\n",
       "    <tr>\n",
       "      <th>3</th>\n",
       "      <td>Patric</td>\n",
       "      <td>6</td>\n",
       "      <td>67.0</td>\n",
       "      <td>U.S.A.</td>\n",
       "      <td>Trinitario</td>\n",
       "      <td>Madagascar</td>\n",
       "    </tr>\n",
       "    <tr>\n",
       "      <th>4</th>\n",
       "      <td>Potomac</td>\n",
       "      <td>8</td>\n",
       "      <td>82.0</td>\n",
       "      <td>U.S.A.</td>\n",
       "      <td>Matina</td>\n",
       "      <td>Costa Rica</td>\n",
       "    </tr>\n",
       "  </tbody>\n",
       "</table>\n",
       "</div>"
      ],
      "text/plain": [
       "    Company  REF  Cocoa Percent Company Location   Bean Type Broad Bean Origin\n",
       "0     Ohiyo   20           70.0           U.S.A.  Trinitario          Trinidad\n",
       "1  Blanxart    4           72.0            Spain       Other             Other\n",
       "2    Brazen   19           80.0           U.S.A.  Trinitario            Belize\n",
       "3    Patric    6           67.0           U.S.A.  Trinitario        Madagascar\n",
       "4   Potomac    8           82.0           U.S.A.      Matina        Costa Rica"
      ]
     },
     "execution_count": 69,
     "metadata": {},
     "output_type": "execute_result"
    }
   ],
   "source": [
    "drop_cols = ['Specific Bean Origin', 'Review']\n",
    "test_df_clean = test_df_clean.drop(drop_cols, axis=1)\n",
    "test_df_clean.head()"
   ]
  },
  {
   "cell_type": "code",
   "execution_count": null,
   "id": "c3dba434",
   "metadata": {},
   "outputs": [],
   "source": [
    "test_df_clean = test_df_clean.apply(lambda x: x.astype('category') if x.dtype == 'object' else x)"
   ]
  },
  {
   "cell_type": "code",
   "execution_count": null,
   "id": "f0a3fa70",
   "metadata": {},
   "outputs": [],
   "source": [
    "y_pred = hyper_param_model.predict(test_df_clean)\n",
    "lr_pred = p12.predict(test_df_clean)\n",
    "y_pred_2 = 0.8* y_pred + 0.2 * lr_pred"
   ]
  },
  {
   "cell_type": "code",
   "execution_count": null,
   "id": "fc3eb16f",
   "metadata": {},
   "outputs": [],
   "source": [
    "cleaned_test_df = pd.DataFrame()\n",
    "cleaned_test_df['id'] = np.arange(len(test_df))\n",
    "cleaned_test_df['Rating'] = y_pred_2\n",
    "\n",
    "cleaned_test_df[['id','Rating']].to_csv(\"choko_submission7.csv\", index=False)"
   ]
  },
  {
   "cell_type": "code",
   "execution_count": null,
   "id": "f4661ea0",
   "metadata": {},
   "outputs": [],
   "source": []
  }
 ],
 "metadata": {
  "kernelspec": {
   "display_name": "base",
   "language": "python",
   "name": "python3"
  },
  "language_info": {
   "codemirror_mode": {
    "name": "ipython",
    "version": 3
   },
   "file_extension": ".py",
   "mimetype": "text/x-python",
   "name": "python",
   "nbconvert_exporter": "python",
   "pygments_lexer": "ipython3",
   "version": "3.12.3"
  }
 },
 "nbformat": 4,
 "nbformat_minor": 5
}
