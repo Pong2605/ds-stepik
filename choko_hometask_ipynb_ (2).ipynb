{
  "cells": [
    {
      "cell_type": "markdown",
      "metadata": {
        "id": "PqJfFxWo3NAh"
      },
      "source": [
        "## Импорт библиотек, загрузка данных"
      ]
    },
    {
      "cell_type": "code",
      "execution_count": 1,
      "metadata": {
        "colab": {
          "base_uri": "https://localhost:8080/"
        },
        "id": "XBVPSLy-3Gqt",
        "outputId": "dac019b7-299f-41ea-f2b7-e4a3d4d7c5d2"
      },
      "outputs": [],
      "source": [
        "!pip install category_encoders association-metrics catboost optuna xgboost -q"
      ]
    },
    {
      "cell_type": "code",
      "execution_count": 2,
      "metadata": {
        "id": "lC9BUaXie1tR"
      },
      "outputs": [],
      "source": [
        "!pip install lightgbm -q"
      ]
    },
    {
      "cell_type": "code",
      "execution_count": 3,
      "metadata": {
        "id": "LSm37Gw9wZWK"
      },
      "outputs": [],
      "source": [
        "import pandas as pd\n",
        "import numpy as np\n",
        "import matplotlib.pyplot as plt\n",
        "from category_encoders.ordinal import OrdinalEncoder\n",
        "from category_encoders.one_hot import OneHotEncoder\n",
        "from category_encoders.target_encoder import TargetEncoder\n",
        "from category_encoders.leave_one_out import LeaveOneOutEncoder\n",
        "from sklearn.preprocessing import MinMaxScaler, StandardScaler, PolynomialFeatures\n",
        "from sklearn.pipeline import Pipeline\n",
        "import seaborn as sb\n",
        "import association_metrics as am\n",
        "from sklearn.model_selection import cross_val_score, train_test_split\n",
        "from sklearn.metrics import r2_score\n",
        "from catboost import CatBoostRegressor\n",
        "import optuna\n",
        "from sklearn.metrics import mean_absolute_percentage_error as MAPE, mean_absolute_error as MAE, r2_score, mean_squared_error as MSE\n",
        "from sklearn.linear_model import LinearRegression\n",
        "from sklearn.ensemble import RandomForestRegressor\n",
        "from xgboost import XGBRegressor\n",
        "from sklearn.ensemble import GradientBoostingRegressor"
      ]
    },
    {
      "cell_type": "code",
      "execution_count": 4,
      "metadata": {
        "id": "uwqQhoBNe9sD"
      },
      "outputs": [],
      "source": [
        "from lightgbm import LGBMRanker, LGBMRegressor"
      ]
    },
    {
      "cell_type": "code",
      "execution_count": 5,
      "metadata": {
        "id": "-_2mzgiX3USQ"
      },
      "outputs": [],
      "source": [
        "TRAIN = \"https://raw.githubusercontent.com/evgpat/edu_stepik_practical_ml/main/datasets/chocolate_train.csv\"\n",
        "TEST = \"https://raw.githubusercontent.com/evgpat/edu_stepik_practical_ml/main/datasets/chocolate_test_new.csv\""
      ]
    },
    {
      "cell_type": "code",
      "execution_count": 6,
      "metadata": {
        "id": "-RR6A-W_3D_C"
      },
      "outputs": [],
      "source": [
        "data = pd.read_csv(TRAIN)"
      ]
    },
    {
      "cell_type": "markdown",
      "metadata": {
        "id": "VuXd0Zvb4wrZ"
      },
      "source": [
        "## Обзор данных, подготовка к обучению"
      ]
    },
    {
      "cell_type": "code",
      "execution_count": 7,
      "metadata": {
        "colab": {
          "base_uri": "https://localhost:8080/",
          "height": 206
        },
        "id": "MiVYgV1_5Qwn",
        "outputId": "ca2def6f-5ba6-4414-b56f-415e9ee2714d"
      },
      "outputs": [
        {
          "data": {
            "text/html": [
              "<div>\n",
              "<style scoped>\n",
              "    .dataframe tbody tr th:only-of-type {\n",
              "        vertical-align: middle;\n",
              "    }\n",
              "\n",
              "    .dataframe tbody tr th {\n",
              "        vertical-align: top;\n",
              "    }\n",
              "\n",
              "    .dataframe thead th {\n",
              "        text-align: right;\n",
              "    }\n",
              "</style>\n",
              "<table border=\"1\" class=\"dataframe\">\n",
              "  <thead>\n",
              "    <tr style=\"text-align: right;\">\n",
              "      <th></th>\n",
              "      <th>Company</th>\n",
              "      <th>Specific Bean Origin</th>\n",
              "      <th>REF</th>\n",
              "      <th>Review</th>\n",
              "      <th>Cocoa Percent</th>\n",
              "      <th>Company Location</th>\n",
              "      <th>Rating</th>\n",
              "      <th>Bean Type</th>\n",
              "      <th>Broad Bean Origin</th>\n",
              "    </tr>\n",
              "  </thead>\n",
              "  <tbody>\n",
              "    <tr>\n",
              "      <th>0</th>\n",
              "      <td>Willie's Cacao</td>\n",
              "      <td>Rio Caribe</td>\n",
              "      <td>457</td>\n",
              "      <td>2009</td>\n",
              "      <td>72%</td>\n",
              "      <td>U.K.</td>\n",
              "      <td>3.25</td>\n",
              "      <td>Trinitario</td>\n",
              "      <td>Venezuela</td>\n",
              "    </tr>\n",
              "    <tr>\n",
              "      <th>1</th>\n",
              "      <td>Beschle (Felchlin)</td>\n",
              "      <td>Ocumare, Premier Cru, Quizas No. 2</td>\n",
              "      <td>508</td>\n",
              "      <td>2010</td>\n",
              "      <td>72%</td>\n",
              "      <td>Switzerland</td>\n",
              "      <td>3.50</td>\n",
              "      <td></td>\n",
              "      <td>Venezuela</td>\n",
              "    </tr>\n",
              "    <tr>\n",
              "      <th>2</th>\n",
              "      <td>Dark Forest</td>\n",
              "      <td>Tanzania</td>\n",
              "      <td>1554</td>\n",
              "      <td>2015</td>\n",
              "      <td>70%</td>\n",
              "      <td>U.S.A.</td>\n",
              "      <td>3.00</td>\n",
              "      <td></td>\n",
              "      <td>Tanzania</td>\n",
              "    </tr>\n",
              "    <tr>\n",
              "      <th>3</th>\n",
              "      <td>Brasstown aka It's Chocolate</td>\n",
              "      <td>Cooproagro</td>\n",
              "      <td>1125</td>\n",
              "      <td>2013</td>\n",
              "      <td>72%</td>\n",
              "      <td>U.S.A.</td>\n",
              "      <td>3.00</td>\n",
              "      <td>Trinitario</td>\n",
              "      <td>Dominican Republic</td>\n",
              "    </tr>\n",
              "    <tr>\n",
              "      <th>4</th>\n",
              "      <td>Pralus</td>\n",
              "      <td>Java, Indonesie</td>\n",
              "      <td>32</td>\n",
              "      <td>2006</td>\n",
              "      <td>75%</td>\n",
              "      <td>France</td>\n",
              "      <td>3.50</td>\n",
              "      <td>Criollo</td>\n",
              "      <td>Indonesia</td>\n",
              "    </tr>\n",
              "  </tbody>\n",
              "</table>\n",
              "</div>"
            ],
            "text/plain": [
              "                        Company                Specific Bean Origin   REF  \\\n",
              "0                Willie's Cacao                          Rio Caribe   457   \n",
              "1            Beschle (Felchlin)  Ocumare, Premier Cru, Quizas No. 2   508   \n",
              "2                   Dark Forest                            Tanzania  1554   \n",
              "3  Brasstown aka It's Chocolate                          Cooproagro  1125   \n",
              "4                        Pralus                     Java, Indonesie    32   \n",
              "\n",
              "   Review Cocoa Percent Company Location  Rating   Bean Type  \\\n",
              "0    2009           72%             U.K.    3.25  Trinitario   \n",
              "1    2010           72%      Switzerland    3.50               \n",
              "2    2015           70%           U.S.A.    3.00               \n",
              "3    2013           72%           U.S.A.    3.00  Trinitario   \n",
              "4    2006           75%           France    3.50     Criollo   \n",
              "\n",
              "    Broad Bean Origin  \n",
              "0           Venezuela  \n",
              "1           Venezuela  \n",
              "2            Tanzania  \n",
              "3  Dominican Republic  \n",
              "4           Indonesia  "
            ]
          },
          "execution_count": 7,
          "metadata": {},
          "output_type": "execute_result"
        }
      ],
      "source": [
        "data.head()"
      ]
    },
    {
      "cell_type": "code",
      "execution_count": 8,
      "metadata": {
        "colab": {
          "base_uri": "https://localhost:8080/"
        },
        "id": "U7KDkcEOwsMb",
        "outputId": "14e97740-dc97-402c-e2fe-0424eb6c96f7"
      },
      "outputs": [
        {
          "name": "stdout",
          "output_type": "stream",
          "text": [
            "<class 'pandas.core.frame.DataFrame'>\n",
            "RangeIndex: 1255 entries, 0 to 1254\n",
            "Data columns (total 9 columns):\n",
            " #   Column                Non-Null Count  Dtype  \n",
            "---  ------                --------------  -----  \n",
            " 0   Company               1255 non-null   object \n",
            " 1   Specific Bean Origin  1255 non-null   object \n",
            " 2   REF                   1255 non-null   int64  \n",
            " 3   Review                1255 non-null   int64  \n",
            " 4   Cocoa Percent         1255 non-null   object \n",
            " 5   Company Location      1255 non-null   object \n",
            " 6   Rating                1255 non-null   float64\n",
            " 7   Bean Type             1254 non-null   object \n",
            " 8   Broad Bean Origin     1254 non-null   object \n",
            "dtypes: float64(1), int64(2), object(6)\n",
            "memory usage: 88.4+ KB\n"
          ]
        }
      ],
      "source": [
        "data.info()"
      ]
    },
    {
      "cell_type": "code",
      "execution_count": 9,
      "metadata": {
        "colab": {
          "base_uri": "https://localhost:8080/",
          "height": 175
        },
        "id": "n_O-JOYP64Ev",
        "outputId": "42d66895-f6dc-4e69-ff04-0006ac3b85a9"
      },
      "outputs": [
        {
          "data": {
            "text/html": [
              "<div>\n",
              "<style scoped>\n",
              "    .dataframe tbody tr th:only-of-type {\n",
              "        vertical-align: middle;\n",
              "    }\n",
              "\n",
              "    .dataframe tbody tr th {\n",
              "        vertical-align: top;\n",
              "    }\n",
              "\n",
              "    .dataframe thead th {\n",
              "        text-align: right;\n",
              "    }\n",
              "</style>\n",
              "<table border=\"1\" class=\"dataframe\">\n",
              "  <thead>\n",
              "    <tr style=\"text-align: right;\">\n",
              "      <th></th>\n",
              "      <th>Company</th>\n",
              "      <th>Specific Bean Origin</th>\n",
              "      <th>Cocoa Percent</th>\n",
              "      <th>Company Location</th>\n",
              "      <th>Bean Type</th>\n",
              "      <th>Broad Bean Origin</th>\n",
              "    </tr>\n",
              "  </thead>\n",
              "  <tbody>\n",
              "    <tr>\n",
              "      <th>count</th>\n",
              "      <td>1255</td>\n",
              "      <td>1255</td>\n",
              "      <td>1255</td>\n",
              "      <td>1255</td>\n",
              "      <td>1254</td>\n",
              "      <td>1254</td>\n",
              "    </tr>\n",
              "    <tr>\n",
              "      <th>unique</th>\n",
              "      <td>376</td>\n",
              "      <td>762</td>\n",
              "      <td>40</td>\n",
              "      <td>58</td>\n",
              "      <td>38</td>\n",
              "      <td>84</td>\n",
              "    </tr>\n",
              "    <tr>\n",
              "      <th>top</th>\n",
              "      <td>Soma</td>\n",
              "      <td>Madagascar</td>\n",
              "      <td>70%</td>\n",
              "      <td>U.S.A.</td>\n",
              "      <td></td>\n",
              "      <td>Venezuela</td>\n",
              "    </tr>\n",
              "    <tr>\n",
              "      <th>freq</th>\n",
              "      <td>35</td>\n",
              "      <td>39</td>\n",
              "      <td>461</td>\n",
              "      <td>521</td>\n",
              "      <td>628</td>\n",
              "      <td>144</td>\n",
              "    </tr>\n",
              "  </tbody>\n",
              "</table>\n",
              "</div>"
            ],
            "text/plain": [
              "       Company Specific Bean Origin Cocoa Percent Company Location Bean Type  \\\n",
              "count     1255                 1255          1255             1255      1254   \n",
              "unique     376                  762            40               58        38   \n",
              "top       Soma           Madagascar           70%           U.S.A.             \n",
              "freq        35                   39           461              521       628   \n",
              "\n",
              "       Broad Bean Origin  \n",
              "count               1254  \n",
              "unique                84  \n",
              "top            Venezuela  \n",
              "freq                 144  "
            ]
          },
          "execution_count": 9,
          "metadata": {},
          "output_type": "execute_result"
        }
      ],
      "source": [
        "data.describe(include='object')"
      ]
    },
    {
      "cell_type": "markdown",
      "metadata": {
        "id": "vmO4anS2yAr9"
      },
      "source": [
        "Удаляем все строки с пропусками"
      ]
    },
    {
      "cell_type": "code",
      "execution_count": 10,
      "metadata": {
        "id": "YhykpDEprgj3"
      },
      "outputs": [],
      "source": [
        "data.dropna(axis=0, inplace=True)"
      ]
    },
    {
      "cell_type": "code",
      "execution_count": 11,
      "metadata": {
        "colab": {
          "base_uri": "https://localhost:8080/",
          "height": 452
        },
        "id": "BumsErGXxEWt",
        "outputId": "fc2e6561-1eb8-4097-fd62-6eefa2c3e8bc"
      },
      "outputs": [
        {
          "data": {
            "text/plain": [
              "<Axes: >"
            ]
          },
          "execution_count": 11,
          "metadata": {},
          "output_type": "execute_result"
        },
        {
          "data": {
            "image/png": "[encoded data removed]",
            "text/plain": [
              "<Figure size 640x480 with 2 Axes>"
            ]
          },
          "metadata": {},
          "output_type": "display_data"
        }
      ],
      "source": [
        "numeric_columns = data.select_dtypes(include=['number']).columns\n",
        "categorical_columns = data.select_dtypes(exclude=['number']).columns\n",
        "sb.heatmap(data[numeric_columns].corr(), annot=True, cmap='RdYlGn')"
      ]
    },
    {
      "cell_type": "code",
      "execution_count": 12,
      "metadata": {
        "colab": {
          "base_uri": "https://localhost:8080/",
          "height": 237
        },
        "id": "u0p4FjKBxM6R",
        "outputId": "c55e0edc-42ff-4e61-da8a-000be1d71d7a"
      },
      "outputs": [
        {
          "name": "stderr",
          "output_type": "stream",
          "text": [
            "c:\\Users\\Pong\\anaconda3\\envs\\chocolate\\lib\\site-packages\\association_metrics\\categorical.py:100: FutureWarning: ChainedAssignmentError: behaviour will change in pandas 3.0!\n",
            "You are setting values through chained assignment. Currently this works in certain cases, but when using Copy-on-Write (which will become the default behaviour in pandas 3.0) this will never work to update the original DataFrame or Series, because the intermediate object on which we are setting values will behave as a copy.\n",
            "A typical example is when you are setting values in a column of a DataFrame, like:\n",
            "\n",
            "df[\"col\"][row_indexer] = value\n",
            "\n",
            "Use `df.loc[row_indexer, \"col\"] = values` instead, to perform the assignment in a single step and ensure this keeps updating the original `df`.\n",
            "\n",
            "See the caveats in the documentation: https://pandas.pydata.org/pandas-docs/stable/user_guide/indexing.html#returning-a-view-versus-a-copy\n",
            "\n",
            "  self.matrix[x][y] = 1\n",
            "c:\\Users\\Pong\\anaconda3\\envs\\chocolate\\lib\\site-packages\\association_metrics\\categorical.py:104: FutureWarning: ChainedAssignmentError: behaviour will change in pandas 3.0!\n",
            "You are setting values through chained assignment. Currently this works in certain cases, but when using Copy-on-Write (which will become the default behaviour in pandas 3.0) this will never work to update the original DataFrame or Series, because the intermediate object on which we are setting values will behave as a copy.\n",
            "A typical example is when you are setting values in a column of a DataFrame, like:\n",
            "\n",
            "df[\"col\"][row_indexer] = value\n",
            "\n",
            "Use `df.loc[row_indexer, \"col\"] = values` instead, to perform the assignment in a single step and ensure this keeps updating the original `df`.\n",
            "\n",
            "See the caveats in the documentation: https://pandas.pydata.org/pandas-docs/stable/user_guide/indexing.html#returning-a-view-versus-a-copy\n",
            "\n",
            "  self.matrix[x][y] = value\n",
            "c:\\Users\\Pong\\anaconda3\\envs\\chocolate\\lib\\site-packages\\association_metrics\\categorical.py:105: FutureWarning: ChainedAssignmentError: behaviour will change in pandas 3.0!\n",
            "You are setting values through chained assignment. Currently this works in certain cases, but when using Copy-on-Write (which will become the default behaviour in pandas 3.0) this will never work to update the original DataFrame or Series, because the intermediate object on which we are setting values will behave as a copy.\n",
            "A typical example is when you are setting values in a column of a DataFrame, like:\n",
            "\n",
            "df[\"col\"][row_indexer] = value\n",
            "\n",
            "Use `df.loc[row_indexer, \"col\"] = values` instead, to perform the assignment in a single step and ensure this keeps updating the original `df`.\n",
            "\n",
            "See the caveats in the documentation: https://pandas.pydata.org/pandas-docs/stable/user_guide/indexing.html#returning-a-view-versus-a-copy\n",
            "\n",
            "  self.matrix[y][x] = value\n",
            "c:\\Users\\Pong\\anaconda3\\envs\\chocolate\\lib\\site-packages\\association_metrics\\categorical.py:104: FutureWarning: ChainedAssignmentError: behaviour will change in pandas 3.0!\n",
            "You are setting values through chained assignment. Currently this works in certain cases, but when using Copy-on-Write (which will become the default behaviour in pandas 3.0) this will never work to update the original DataFrame or Series, because the intermediate object on which we are setting values will behave as a copy.\n",
            "A typical example is when you are setting values in a column of a DataFrame, like:\n",
            "\n",
            "df[\"col\"][row_indexer] = value\n",
            "\n",
            "Use `df.loc[row_indexer, \"col\"] = values` instead, to perform the assignment in a single step and ensure this keeps updating the original `df`.\n",
            "\n",
            "See the caveats in the documentation: https://pandas.pydata.org/pandas-docs/stable/user_guide/indexing.html#returning-a-view-versus-a-copy\n",
            "\n",
            "  self.matrix[x][y] = value\n",
            "c:\\Users\\Pong\\anaconda3\\envs\\chocolate\\lib\\site-packages\\association_metrics\\categorical.py:105: FutureWarning: ChainedAssignmentError: behaviour will change in pandas 3.0!\n",
            "You are setting values through chained assignment. Currently this works in certain cases, but when using Copy-on-Write (which will become the default behaviour in pandas 3.0) this will never work to update the original DataFrame or Series, because the intermediate object on which we are setting values will behave as a copy.\n",
            "A typical example is when you are setting values in a column of a DataFrame, like:\n",
            "\n",
            "df[\"col\"][row_indexer] = value\n",
            "\n",
            "Use `df.loc[row_indexer, \"col\"] = values` instead, to perform the assignment in a single step and ensure this keeps updating the original `df`.\n",
            "\n",
            "See the caveats in the documentation: https://pandas.pydata.org/pandas-docs/stable/user_guide/indexing.html#returning-a-view-versus-a-copy\n",
            "\n",
            "  self.matrix[y][x] = value\n",
            "c:\\Users\\Pong\\anaconda3\\envs\\chocolate\\lib\\site-packages\\association_metrics\\categorical.py:104: FutureWarning: ChainedAssignmentError: behaviour will change in pandas 3.0!\n",
            "You are setting values through chained assignment. Currently this works in certain cases, but when using Copy-on-Write (which will become the default behaviour in pandas 3.0) this will never work to update the original DataFrame or Series, because the intermediate object on which we are setting values will behave as a copy.\n",
            "A typical example is when you are setting values in a column of a DataFrame, like:\n",
            "\n",
            "df[\"col\"][row_indexer] = value\n",
            "\n",
            "Use `df.loc[row_indexer, \"col\"] = values` instead, to perform the assignment in a single step and ensure this keeps updating the original `df`.\n",
            "\n",
            "See the caveats in the documentation: https://pandas.pydata.org/pandas-docs/stable/user_guide/indexing.html#returning-a-view-versus-a-copy\n",
            "\n",
            "  self.matrix[x][y] = value\n",
            "c:\\Users\\Pong\\anaconda3\\envs\\chocolate\\lib\\site-packages\\association_metrics\\categorical.py:105: FutureWarning: ChainedAssignmentError: behaviour will change in pandas 3.0!\n",
            "You are setting values through chained assignment. Currently this works in certain cases, but when using Copy-on-Write (which will become the default behaviour in pandas 3.0) this will never work to update the original DataFrame or Series, because the intermediate object on which we are setting values will behave as a copy.\n",
            "A typical example is when you are setting values in a column of a DataFrame, like:\n",
            "\n",
            "df[\"col\"][row_indexer] = value\n",
            "\n",
            "Use `df.loc[row_indexer, \"col\"] = values` instead, to perform the assignment in a single step and ensure this keeps updating the original `df`.\n",
            "\n",
            "See the caveats in the documentation: https://pandas.pydata.org/pandas-docs/stable/user_guide/indexing.html#returning-a-view-versus-a-copy\n",
            "\n",
            "  self.matrix[y][x] = value\n",
            "c:\\Users\\Pong\\anaconda3\\envs\\chocolate\\lib\\site-packages\\association_metrics\\categorical.py:104: FutureWarning: ChainedAssignmentError: behaviour will change in pandas 3.0!\n",
            "You are setting values through chained assignment. Currently this works in certain cases, but when using Copy-on-Write (which will become the default behaviour in pandas 3.0) this will never work to update the original DataFrame or Series, because the intermediate object on which we are setting values will behave as a copy.\n",
            "A typical example is when you are setting values in a column of a DataFrame, like:\n",
            "\n",
            "df[\"col\"][row_indexer] = value\n",
            "\n",
            "Use `df.loc[row_indexer, \"col\"] = values` instead, to perform the assignment in a single step and ensure this keeps updating the original `df`.\n",
            "\n",
            "See the caveats in the documentation: https://pandas.pydata.org/pandas-docs/stable/user_guide/indexing.html#returning-a-view-versus-a-copy\n",
            "\n",
            "  self.matrix[x][y] = value\n",
            "c:\\Users\\Pong\\anaconda3\\envs\\chocolate\\lib\\site-packages\\association_metrics\\categorical.py:105: FutureWarning: ChainedAssignmentError: behaviour will change in pandas 3.0!\n",
            "You are setting values through chained assignment. Currently this works in certain cases, but when using Copy-on-Write (which will become the default behaviour in pandas 3.0) this will never work to update the original DataFrame or Series, because the intermediate object on which we are setting values will behave as a copy.\n",
            "A typical example is when you are setting values in a column of a DataFrame, like:\n",
            "\n",
            "df[\"col\"][row_indexer] = value\n",
            "\n",
            "Use `df.loc[row_indexer, \"col\"] = values` instead, to perform the assignment in a single step and ensure this keeps updating the original `df`.\n",
            "\n",
            "See the caveats in the documentation: https://pandas.pydata.org/pandas-docs/stable/user_guide/indexing.html#returning-a-view-versus-a-copy\n",
            "\n",
            "  self.matrix[y][x] = value\n",
            "c:\\Users\\Pong\\anaconda3\\envs\\chocolate\\lib\\site-packages\\association_metrics\\categorical.py:104: FutureWarning: ChainedAssignmentError: behaviour will change in pandas 3.0!\n",
            "You are setting values through chained assignment. Currently this works in certain cases, but when using Copy-on-Write (which will become the default behaviour in pandas 3.0) this will never work to update the original DataFrame or Series, because the intermediate object on which we are setting values will behave as a copy.\n",
            "A typical example is when you are setting values in a column of a DataFrame, like:\n",
            "\n",
            "df[\"col\"][row_indexer] = value\n",
            "\n",
            "Use `df.loc[row_indexer, \"col\"] = values` instead, to perform the assignment in a single step and ensure this keeps updating the original `df`.\n",
            "\n",
            "See the caveats in the documentation: https://pandas.pydata.org/pandas-docs/stable/user_guide/indexing.html#returning-a-view-versus-a-copy\n",
            "\n",
            "  self.matrix[x][y] = value\n",
            "c:\\Users\\Pong\\anaconda3\\envs\\chocolate\\lib\\site-packages\\association_metrics\\categorical.py:105: FutureWarning: ChainedAssignmentError: behaviour will change in pandas 3.0!\n",
            "You are setting values through chained assignment. Currently this works in certain cases, but when using Copy-on-Write (which will become the default behaviour in pandas 3.0) this will never work to update the original DataFrame or Series, because the intermediate object on which we are setting values will behave as a copy.\n",
            "A typical example is when you are setting values in a column of a DataFrame, like:\n",
            "\n",
            "df[\"col\"][row_indexer] = value\n",
            "\n",
            "Use `df.loc[row_indexer, \"col\"] = values` instead, to perform the assignment in a single step and ensure this keeps updating the original `df`.\n",
            "\n",
            "See the caveats in the documentation: https://pandas.pydata.org/pandas-docs/stable/user_guide/indexing.html#returning-a-view-versus-a-copy\n",
            "\n",
            "  self.matrix[y][x] = value\n",
            "c:\\Users\\Pong\\anaconda3\\envs\\chocolate\\lib\\site-packages\\association_metrics\\categorical.py:100: FutureWarning: ChainedAssignmentError: behaviour will change in pandas 3.0!\n",
            "You are setting values through chained assignment. Currently this works in certain cases, but when using Copy-on-Write (which will become the default behaviour in pandas 3.0) this will never work to update the original DataFrame or Series, because the intermediate object on which we are setting values will behave as a copy.\n",
            "A typical example is when you are setting values in a column of a DataFrame, like:\n",
            "\n",
            "df[\"col\"][row_indexer] = value\n",
            "\n",
            "Use `df.loc[row_indexer, \"col\"] = values` instead, to perform the assignment in a single step and ensure this keeps updating the original `df`.\n",
            "\n",
            "See the caveats in the documentation: https://pandas.pydata.org/pandas-docs/stable/user_guide/indexing.html#returning-a-view-versus-a-copy\n",
            "\n",
            "  self.matrix[x][y] = 1\n",
            "c:\\Users\\Pong\\anaconda3\\envs\\chocolate\\lib\\site-packages\\association_metrics\\categorical.py:104: FutureWarning: ChainedAssignmentError: behaviour will change in pandas 3.0!\n",
            "You are setting values through chained assignment. Currently this works in certain cases, but when using Copy-on-Write (which will become the default behaviour in pandas 3.0) this will never work to update the original DataFrame or Series, because the intermediate object on which we are setting values will behave as a copy.\n",
            "A typical example is when you are setting values in a column of a DataFrame, like:\n",
            "\n",
            "df[\"col\"][row_indexer] = value\n",
            "\n",
            "Use `df.loc[row_indexer, \"col\"] = values` instead, to perform the assignment in a single step and ensure this keeps updating the original `df`.\n",
            "\n",
            "See the caveats in the documentation: https://pandas.pydata.org/pandas-docs/stable/user_guide/indexing.html#returning-a-view-versus-a-copy\n",
            "\n",
            "  self.matrix[x][y] = value\n",
            "c:\\Users\\Pong\\anaconda3\\envs\\chocolate\\lib\\site-packages\\association_metrics\\categorical.py:105: FutureWarning: ChainedAssignmentError: behaviour will change in pandas 3.0!\n",
            "You are setting values through chained assignment. Currently this works in certain cases, but when using Copy-on-Write (which will become the default behaviour in pandas 3.0) this will never work to update the original DataFrame or Series, because the intermediate object on which we are setting values will behave as a copy.\n",
            "A typical example is when you are setting values in a column of a DataFrame, like:\n",
            "\n",
            "df[\"col\"][row_indexer] = value\n",
            "\n",
            "Use `df.loc[row_indexer, \"col\"] = values` instead, to perform the assignment in a single step and ensure this keeps updating the original `df`.\n",
            "\n",
            "See the caveats in the documentation: https://pandas.pydata.org/pandas-docs/stable/user_guide/indexing.html#returning-a-view-versus-a-copy\n",
            "\n",
            "  self.matrix[y][x] = value\n",
            "c:\\Users\\Pong\\anaconda3\\envs\\chocolate\\lib\\site-packages\\association_metrics\\categorical.py:104: FutureWarning: ChainedAssignmentError: behaviour will change in pandas 3.0!\n",
            "You are setting values through chained assignment. Currently this works in certain cases, but when using Copy-on-Write (which will become the default behaviour in pandas 3.0) this will never work to update the original DataFrame or Series, because the intermediate object on which we are setting values will behave as a copy.\n",
            "A typical example is when you are setting values in a column of a DataFrame, like:\n",
            "\n",
            "df[\"col\"][row_indexer] = value\n",
            "\n",
            "Use `df.loc[row_indexer, \"col\"] = values` instead, to perform the assignment in a single step and ensure this keeps updating the original `df`.\n",
            "\n",
            "See the caveats in the documentation: https://pandas.pydata.org/pandas-docs/stable/user_guide/indexing.html#returning-a-view-versus-a-copy\n",
            "\n",
            "  self.matrix[x][y] = value\n",
            "c:\\Users\\Pong\\anaconda3\\envs\\chocolate\\lib\\site-packages\\association_metrics\\categorical.py:105: FutureWarning: ChainedAssignmentError: behaviour will change in pandas 3.0!\n",
            "You are setting values through chained assignment. Currently this works in certain cases, but when using Copy-on-Write (which will become the default behaviour in pandas 3.0) this will never work to update the original DataFrame or Series, because the intermediate object on which we are setting values will behave as a copy.\n",
            "A typical example is when you are setting values in a column of a DataFrame, like:\n",
            "\n",
            "df[\"col\"][row_indexer] = value\n",
            "\n",
            "Use `df.loc[row_indexer, \"col\"] = values` instead, to perform the assignment in a single step and ensure this keeps updating the original `df`.\n",
            "\n",
            "See the caveats in the documentation: https://pandas.pydata.org/pandas-docs/stable/user_guide/indexing.html#returning-a-view-versus-a-copy\n",
            "\n",
            "  self.matrix[y][x] = value\n",
            "c:\\Users\\Pong\\anaconda3\\envs\\chocolate\\lib\\site-packages\\association_metrics\\categorical.py:104: FutureWarning: ChainedAssignmentError: behaviour will change in pandas 3.0!\n",
            "You are setting values through chained assignment. Currently this works in certain cases, but when using Copy-on-Write (which will become the default behaviour in pandas 3.0) this will never work to update the original DataFrame or Series, because the intermediate object on which we are setting values will behave as a copy.\n",
            "A typical example is when you are setting values in a column of a DataFrame, like:\n",
            "\n",
            "df[\"col\"][row_indexer] = value\n",
            "\n",
            "Use `df.loc[row_indexer, \"col\"] = values` instead, to perform the assignment in a single step and ensure this keeps updating the original `df`.\n",
            "\n",
            "See the caveats in the documentation: https://pandas.pydata.org/pandas-docs/stable/user_guide/indexing.html#returning-a-view-versus-a-copy\n",
            "\n",
            "  self.matrix[x][y] = value\n",
            "c:\\Users\\Pong\\anaconda3\\envs\\chocolate\\lib\\site-packages\\association_metrics\\categorical.py:105: FutureWarning: ChainedAssignmentError: behaviour will change in pandas 3.0!\n",
            "You are setting values through chained assignment. Currently this works in certain cases, but when using Copy-on-Write (which will become the default behaviour in pandas 3.0) this will never work to update the original DataFrame or Series, because the intermediate object on which we are setting values will behave as a copy.\n",
            "A typical example is when you are setting values in a column of a DataFrame, like:\n",
            "\n",
            "df[\"col\"][row_indexer] = value\n",
            "\n",
            "Use `df.loc[row_indexer, \"col\"] = values` instead, to perform the assignment in a single step and ensure this keeps updating the original `df`.\n",
            "\n",
            "See the caveats in the documentation: https://pandas.pydata.org/pandas-docs/stable/user_guide/indexing.html#returning-a-view-versus-a-copy\n",
            "\n",
            "  self.matrix[y][x] = value\n",
            "c:\\Users\\Pong\\anaconda3\\envs\\chocolate\\lib\\site-packages\\association_metrics\\categorical.py:104: FutureWarning: ChainedAssignmentError: behaviour will change in pandas 3.0!\n",
            "You are setting values through chained assignment. Currently this works in certain cases, but when using Copy-on-Write (which will become the default behaviour in pandas 3.0) this will never work to update the original DataFrame or Series, because the intermediate object on which we are setting values will behave as a copy.\n",
            "A typical example is when you are setting values in a column of a DataFrame, like:\n",
            "\n",
            "df[\"col\"][row_indexer] = value\n",
            "\n",
            "Use `df.loc[row_indexer, \"col\"] = values` instead, to perform the assignment in a single step and ensure this keeps updating the original `df`.\n",
            "\n",
            "See the caveats in the documentation: https://pandas.pydata.org/pandas-docs/stable/user_guide/indexing.html#returning-a-view-versus-a-copy\n",
            "\n",
            "  self.matrix[x][y] = value\n",
            "c:\\Users\\Pong\\anaconda3\\envs\\chocolate\\lib\\site-packages\\association_metrics\\categorical.py:105: FutureWarning: ChainedAssignmentError: behaviour will change in pandas 3.0!\n",
            "You are setting values through chained assignment. Currently this works in certain cases, but when using Copy-on-Write (which will become the default behaviour in pandas 3.0) this will never work to update the original DataFrame or Series, because the intermediate object on which we are setting values will behave as a copy.\n",
            "A typical example is when you are setting values in a column of a DataFrame, like:\n",
            "\n",
            "df[\"col\"][row_indexer] = value\n",
            "\n",
            "Use `df.loc[row_indexer, \"col\"] = values` instead, to perform the assignment in a single step and ensure this keeps updating the original `df`.\n",
            "\n",
            "See the caveats in the documentation: https://pandas.pydata.org/pandas-docs/stable/user_guide/indexing.html#returning-a-view-versus-a-copy\n",
            "\n",
            "  self.matrix[y][x] = value\n",
            "c:\\Users\\Pong\\anaconda3\\envs\\chocolate\\lib\\site-packages\\association_metrics\\categorical.py:100: FutureWarning: ChainedAssignmentError: behaviour will change in pandas 3.0!\n",
            "You are setting values through chained assignment. Currently this works in certain cases, but when using Copy-on-Write (which will become the default behaviour in pandas 3.0) this will never work to update the original DataFrame or Series, because the intermediate object on which we are setting values will behave as a copy.\n",
            "A typical example is when you are setting values in a column of a DataFrame, like:\n",
            "\n",
            "df[\"col\"][row_indexer] = value\n",
            "\n",
            "Use `df.loc[row_indexer, \"col\"] = values` instead, to perform the assignment in a single step and ensure this keeps updating the original `df`.\n",
            "\n",
            "See the caveats in the documentation: https://pandas.pydata.org/pandas-docs/stable/user_guide/indexing.html#returning-a-view-versus-a-copy\n",
            "\n",
            "  self.matrix[x][y] = 1\n",
            "c:\\Users\\Pong\\anaconda3\\envs\\chocolate\\lib\\site-packages\\association_metrics\\categorical.py:104: FutureWarning: ChainedAssignmentError: behaviour will change in pandas 3.0!\n",
            "You are setting values through chained assignment. Currently this works in certain cases, but when using Copy-on-Write (which will become the default behaviour in pandas 3.0) this will never work to update the original DataFrame or Series, because the intermediate object on which we are setting values will behave as a copy.\n",
            "A typical example is when you are setting values in a column of a DataFrame, like:\n",
            "\n",
            "df[\"col\"][row_indexer] = value\n",
            "\n",
            "Use `df.loc[row_indexer, \"col\"] = values` instead, to perform the assignment in a single step and ensure this keeps updating the original `df`.\n",
            "\n",
            "See the caveats in the documentation: https://pandas.pydata.org/pandas-docs/stable/user_guide/indexing.html#returning-a-view-versus-a-copy\n",
            "\n",
            "  self.matrix[x][y] = value\n",
            "c:\\Users\\Pong\\anaconda3\\envs\\chocolate\\lib\\site-packages\\association_metrics\\categorical.py:105: FutureWarning: ChainedAssignmentError: behaviour will change in pandas 3.0!\n",
            "You are setting values through chained assignment. Currently this works in certain cases, but when using Copy-on-Write (which will become the default behaviour in pandas 3.0) this will never work to update the original DataFrame or Series, because the intermediate object on which we are setting values will behave as a copy.\n",
            "A typical example is when you are setting values in a column of a DataFrame, like:\n",
            "\n",
            "df[\"col\"][row_indexer] = value\n",
            "\n",
            "Use `df.loc[row_indexer, \"col\"] = values` instead, to perform the assignment in a single step and ensure this keeps updating the original `df`.\n",
            "\n",
            "See the caveats in the documentation: https://pandas.pydata.org/pandas-docs/stable/user_guide/indexing.html#returning-a-view-versus-a-copy\n",
            "\n",
            "  self.matrix[y][x] = value\n",
            "c:\\Users\\Pong\\anaconda3\\envs\\chocolate\\lib\\site-packages\\association_metrics\\categorical.py:104: FutureWarning: ChainedAssignmentError: behaviour will change in pandas 3.0!\n",
            "You are setting values through chained assignment. Currently this works in certain cases, but when using Copy-on-Write (which will become the default behaviour in pandas 3.0) this will never work to update the original DataFrame or Series, because the intermediate object on which we are setting values will behave as a copy.\n",
            "A typical example is when you are setting values in a column of a DataFrame, like:\n",
            "\n",
            "df[\"col\"][row_indexer] = value\n",
            "\n",
            "Use `df.loc[row_indexer, \"col\"] = values` instead, to perform the assignment in a single step and ensure this keeps updating the original `df`.\n",
            "\n",
            "See the caveats in the documentation: https://pandas.pydata.org/pandas-docs/stable/user_guide/indexing.html#returning-a-view-versus-a-copy\n",
            "\n",
            "  self.matrix[x][y] = value\n",
            "c:\\Users\\Pong\\anaconda3\\envs\\chocolate\\lib\\site-packages\\association_metrics\\categorical.py:105: FutureWarning: ChainedAssignmentError: behaviour will change in pandas 3.0!\n",
            "You are setting values through chained assignment. Currently this works in certain cases, but when using Copy-on-Write (which will become the default behaviour in pandas 3.0) this will never work to update the original DataFrame or Series, because the intermediate object on which we are setting values will behave as a copy.\n",
            "A typical example is when you are setting values in a column of a DataFrame, like:\n",
            "\n",
            "df[\"col\"][row_indexer] = value\n",
            "\n",
            "Use `df.loc[row_indexer, \"col\"] = values` instead, to perform the assignment in a single step and ensure this keeps updating the original `df`.\n",
            "\n",
            "See the caveats in the documentation: https://pandas.pydata.org/pandas-docs/stable/user_guide/indexing.html#returning-a-view-versus-a-copy\n",
            "\n",
            "  self.matrix[y][x] = value\n",
            "c:\\Users\\Pong\\anaconda3\\envs\\chocolate\\lib\\site-packages\\association_metrics\\categorical.py:104: FutureWarning: ChainedAssignmentError: behaviour will change in pandas 3.0!\n",
            "You are setting values through chained assignment. Currently this works in certain cases, but when using Copy-on-Write (which will become the default behaviour in pandas 3.0) this will never work to update the original DataFrame or Series, because the intermediate object on which we are setting values will behave as a copy.\n",
            "A typical example is when you are setting values in a column of a DataFrame, like:\n",
            "\n",
            "df[\"col\"][row_indexer] = value\n",
            "\n",
            "Use `df.loc[row_indexer, \"col\"] = values` instead, to perform the assignment in a single step and ensure this keeps updating the original `df`.\n",
            "\n",
            "See the caveats in the documentation: https://pandas.pydata.org/pandas-docs/stable/user_guide/indexing.html#returning-a-view-versus-a-copy\n",
            "\n",
            "  self.matrix[x][y] = value\n",
            "c:\\Users\\Pong\\anaconda3\\envs\\chocolate\\lib\\site-packages\\association_metrics\\categorical.py:105: FutureWarning: ChainedAssignmentError: behaviour will change in pandas 3.0!\n",
            "You are setting values through chained assignment. Currently this works in certain cases, but when using Copy-on-Write (which will become the default behaviour in pandas 3.0) this will never work to update the original DataFrame or Series, because the intermediate object on which we are setting values will behave as a copy.\n",
            "A typical example is when you are setting values in a column of a DataFrame, like:\n",
            "\n",
            "df[\"col\"][row_indexer] = value\n",
            "\n",
            "Use `df.loc[row_indexer, \"col\"] = values` instead, to perform the assignment in a single step and ensure this keeps updating the original `df`.\n",
            "\n",
            "See the caveats in the documentation: https://pandas.pydata.org/pandas-docs/stable/user_guide/indexing.html#returning-a-view-versus-a-copy\n",
            "\n",
            "  self.matrix[y][x] = value\n",
            "c:\\Users\\Pong\\anaconda3\\envs\\chocolate\\lib\\site-packages\\association_metrics\\categorical.py:100: FutureWarning: ChainedAssignmentError: behaviour will change in pandas 3.0!\n",
            "You are setting values through chained assignment. Currently this works in certain cases, but when using Copy-on-Write (which will become the default behaviour in pandas 3.0) this will never work to update the original DataFrame or Series, because the intermediate object on which we are setting values will behave as a copy.\n",
            "A typical example is when you are setting values in a column of a DataFrame, like:\n",
            "\n",
            "df[\"col\"][row_indexer] = value\n",
            "\n",
            "Use `df.loc[row_indexer, \"col\"] = values` instead, to perform the assignment in a single step and ensure this keeps updating the original `df`.\n",
            "\n",
            "See the caveats in the documentation: https://pandas.pydata.org/pandas-docs/stable/user_guide/indexing.html#returning-a-view-versus-a-copy\n",
            "\n",
            "  self.matrix[x][y] = 1\n",
            "c:\\Users\\Pong\\anaconda3\\envs\\chocolate\\lib\\site-packages\\association_metrics\\categorical.py:104: FutureWarning: ChainedAssignmentError: behaviour will change in pandas 3.0!\n",
            "You are setting values through chained assignment. Currently this works in certain cases, but when using Copy-on-Write (which will become the default behaviour in pandas 3.0) this will never work to update the original DataFrame or Series, because the intermediate object on which we are setting values will behave as a copy.\n",
            "A typical example is when you are setting values in a column of a DataFrame, like:\n",
            "\n",
            "df[\"col\"][row_indexer] = value\n",
            "\n",
            "Use `df.loc[row_indexer, \"col\"] = values` instead, to perform the assignment in a single step and ensure this keeps updating the original `df`.\n",
            "\n",
            "See the caveats in the documentation: https://pandas.pydata.org/pandas-docs/stable/user_guide/indexing.html#returning-a-view-versus-a-copy\n",
            "\n",
            "  self.matrix[x][y] = value\n",
            "c:\\Users\\Pong\\anaconda3\\envs\\chocolate\\lib\\site-packages\\association_metrics\\categorical.py:105: FutureWarning: ChainedAssignmentError: behaviour will change in pandas 3.0!\n",
            "You are setting values through chained assignment. Currently this works in certain cases, but when using Copy-on-Write (which will become the default behaviour in pandas 3.0) this will never work to update the original DataFrame or Series, because the intermediate object on which we are setting values will behave as a copy.\n",
            "A typical example is when you are setting values in a column of a DataFrame, like:\n",
            "\n",
            "df[\"col\"][row_indexer] = value\n",
            "\n",
            "Use `df.loc[row_indexer, \"col\"] = values` instead, to perform the assignment in a single step and ensure this keeps updating the original `df`.\n",
            "\n",
            "See the caveats in the documentation: https://pandas.pydata.org/pandas-docs/stable/user_guide/indexing.html#returning-a-view-versus-a-copy\n",
            "\n",
            "  self.matrix[y][x] = value\n",
            "c:\\Users\\Pong\\anaconda3\\envs\\chocolate\\lib\\site-packages\\association_metrics\\categorical.py:104: FutureWarning: ChainedAssignmentError: behaviour will change in pandas 3.0!\n",
            "You are setting values through chained assignment. Currently this works in certain cases, but when using Copy-on-Write (which will become the default behaviour in pandas 3.0) this will never work to update the original DataFrame or Series, because the intermediate object on which we are setting values will behave as a copy.\n",
            "A typical example is when you are setting values in a column of a DataFrame, like:\n",
            "\n",
            "df[\"col\"][row_indexer] = value\n",
            "\n",
            "Use `df.loc[row_indexer, \"col\"] = values` instead, to perform the assignment in a single step and ensure this keeps updating the original `df`.\n",
            "\n",
            "See the caveats in the documentation: https://pandas.pydata.org/pandas-docs/stable/user_guide/indexing.html#returning-a-view-versus-a-copy\n",
            "\n",
            "  self.matrix[x][y] = value\n",
            "c:\\Users\\Pong\\anaconda3\\envs\\chocolate\\lib\\site-packages\\association_metrics\\categorical.py:105: FutureWarning: ChainedAssignmentError: behaviour will change in pandas 3.0!\n",
            "You are setting values through chained assignment. Currently this works in certain cases, but when using Copy-on-Write (which will become the default behaviour in pandas 3.0) this will never work to update the original DataFrame or Series, because the intermediate object on which we are setting values will behave as a copy.\n",
            "A typical example is when you are setting values in a column of a DataFrame, like:\n",
            "\n",
            "df[\"col\"][row_indexer] = value\n",
            "\n",
            "Use `df.loc[row_indexer, \"col\"] = values` instead, to perform the assignment in a single step and ensure this keeps updating the original `df`.\n",
            "\n",
            "See the caveats in the documentation: https://pandas.pydata.org/pandas-docs/stable/user_guide/indexing.html#returning-a-view-versus-a-copy\n",
            "\n",
            "  self.matrix[y][x] = value\n",
            "c:\\Users\\Pong\\anaconda3\\envs\\chocolate\\lib\\site-packages\\association_metrics\\categorical.py:100: FutureWarning: ChainedAssignmentError: behaviour will change in pandas 3.0!\n",
            "You are setting values through chained assignment. Currently this works in certain cases, but when using Copy-on-Write (which will become the default behaviour in pandas 3.0) this will never work to update the original DataFrame or Series, because the intermediate object on which we are setting values will behave as a copy.\n",
            "A typical example is when you are setting values in a column of a DataFrame, like:\n",
            "\n",
            "df[\"col\"][row_indexer] = value\n",
            "\n",
            "Use `df.loc[row_indexer, \"col\"] = values` instead, to perform the assignment in a single step and ensure this keeps updating the original `df`.\n",
            "\n",
            "See the caveats in the documentation: https://pandas.pydata.org/pandas-docs/stable/user_guide/indexing.html#returning-a-view-versus-a-copy\n",
            "\n",
            "  self.matrix[x][y] = 1\n",
            "c:\\Users\\Pong\\anaconda3\\envs\\chocolate\\lib\\site-packages\\association_metrics\\categorical.py:104: FutureWarning: ChainedAssignmentError: behaviour will change in pandas 3.0!\n",
            "You are setting values through chained assignment. Currently this works in certain cases, but when using Copy-on-Write (which will become the default behaviour in pandas 3.0) this will never work to update the original DataFrame or Series, because the intermediate object on which we are setting values will behave as a copy.\n",
            "A typical example is when you are setting values in a column of a DataFrame, like:\n",
            "\n",
            "df[\"col\"][row_indexer] = value\n",
            "\n",
            "Use `df.loc[row_indexer, \"col\"] = values` instead, to perform the assignment in a single step and ensure this keeps updating the original `df`.\n",
            "\n",
            "See the caveats in the documentation: https://pandas.pydata.org/pandas-docs/stable/user_guide/indexing.html#returning-a-view-versus-a-copy\n",
            "\n",
            "  self.matrix[x][y] = value\n",
            "c:\\Users\\Pong\\anaconda3\\envs\\chocolate\\lib\\site-packages\\association_metrics\\categorical.py:105: FutureWarning: ChainedAssignmentError: behaviour will change in pandas 3.0!\n",
            "You are setting values through chained assignment. Currently this works in certain cases, but when using Copy-on-Write (which will become the default behaviour in pandas 3.0) this will never work to update the original DataFrame or Series, because the intermediate object on which we are setting values will behave as a copy.\n",
            "A typical example is when you are setting values in a column of a DataFrame, like:\n",
            "\n",
            "df[\"col\"][row_indexer] = value\n",
            "\n",
            "Use `df.loc[row_indexer, \"col\"] = values` instead, to perform the assignment in a single step and ensure this keeps updating the original `df`.\n",
            "\n",
            "See the caveats in the documentation: https://pandas.pydata.org/pandas-docs/stable/user_guide/indexing.html#returning-a-view-versus-a-copy\n",
            "\n",
            "  self.matrix[y][x] = value\n",
            "c:\\Users\\Pong\\anaconda3\\envs\\chocolate\\lib\\site-packages\\association_metrics\\categorical.py:100: FutureWarning: ChainedAssignmentError: behaviour will change in pandas 3.0!\n",
            "You are setting values through chained assignment. Currently this works in certain cases, but when using Copy-on-Write (which will become the default behaviour in pandas 3.0) this will never work to update the original DataFrame or Series, because the intermediate object on which we are setting values will behave as a copy.\n",
            "A typical example is when you are setting values in a column of a DataFrame, like:\n",
            "\n",
            "df[\"col\"][row_indexer] = value\n",
            "\n",
            "Use `df.loc[row_indexer, \"col\"] = values` instead, to perform the assignment in a single step and ensure this keeps updating the original `df`.\n",
            "\n",
            "See the caveats in the documentation: https://pandas.pydata.org/pandas-docs/stable/user_guide/indexing.html#returning-a-view-versus-a-copy\n",
            "\n",
            "  self.matrix[x][y] = 1\n"
          ]
        },
        {
          "data": {
            "text/html": [
              "<div>\n",
              "<style scoped>\n",
              "    .dataframe tbody tr th:only-of-type {\n",
              "        vertical-align: middle;\n",
              "    }\n",
              "\n",
              "    .dataframe tbody tr th {\n",
              "        vertical-align: top;\n",
              "    }\n",
              "\n",
              "    .dataframe thead th {\n",
              "        text-align: right;\n",
              "    }\n",
              "</style>\n",
              "<table border=\"1\" class=\"dataframe\">\n",
              "  <thead>\n",
              "    <tr style=\"text-align: right;\">\n",
              "      <th></th>\n",
              "      <th>Company</th>\n",
              "      <th>Specific Bean Origin</th>\n",
              "      <th>Cocoa Percent</th>\n",
              "      <th>Company Location</th>\n",
              "      <th>Bean Type</th>\n",
              "      <th>Broad Bean Origin</th>\n",
              "    </tr>\n",
              "  </thead>\n",
              "  <tbody>\n",
              "    <tr>\n",
              "      <th>Company</th>\n",
              "      <td>1.000000</td>\n",
              "      <td>0.771180</td>\n",
              "      <td>0.631741</td>\n",
              "      <td>0.999651</td>\n",
              "      <td>0.616975</td>\n",
              "      <td>0.607303</td>\n",
              "    </tr>\n",
              "    <tr>\n",
              "      <th>Specific Bean Origin</th>\n",
              "      <td>0.771180</td>\n",
              "      <td>1.000000</td>\n",
              "      <td>0.773074</td>\n",
              "      <td>0.808513</td>\n",
              "      <td>0.907951</td>\n",
              "      <td>0.983334</td>\n",
              "    </tr>\n",
              "    <tr>\n",
              "      <th>Cocoa Percent</th>\n",
              "      <td>0.631741</td>\n",
              "      <td>0.773074</td>\n",
              "      <td>1.000000</td>\n",
              "      <td>0.243831</td>\n",
              "      <td>0.158698</td>\n",
              "      <td>0.266361</td>\n",
              "    </tr>\n",
              "    <tr>\n",
              "      <th>Company Location</th>\n",
              "      <td>0.999651</td>\n",
              "      <td>0.808513</td>\n",
              "      <td>0.243831</td>\n",
              "      <td>1.000000</td>\n",
              "      <td>0.291667</td>\n",
              "      <td>0.383039</td>\n",
              "    </tr>\n",
              "    <tr>\n",
              "      <th>Bean Type</th>\n",
              "      <td>0.616975</td>\n",
              "      <td>0.907951</td>\n",
              "      <td>0.158698</td>\n",
              "      <td>0.291667</td>\n",
              "      <td>1.000000</td>\n",
              "      <td>0.388294</td>\n",
              "    </tr>\n",
              "    <tr>\n",
              "      <th>Broad Bean Origin</th>\n",
              "      <td>0.607303</td>\n",
              "      <td>0.983334</td>\n",
              "      <td>0.266361</td>\n",
              "      <td>0.383039</td>\n",
              "      <td>0.388294</td>\n",
              "      <td>1.000000</td>\n",
              "    </tr>\n",
              "  </tbody>\n",
              "</table>\n",
              "</div>"
            ],
            "text/plain": [
              "                       Company  Specific Bean Origin  Cocoa Percent  \\\n",
              "Company               1.000000              0.771180       0.631741   \n",
              "Specific Bean Origin  0.771180              1.000000       0.773074   \n",
              "Cocoa Percent         0.631741              0.773074       1.000000   \n",
              "Company Location      0.999651              0.808513       0.243831   \n",
              "Bean Type             0.616975              0.907951       0.158698   \n",
              "Broad Bean Origin     0.607303              0.983334       0.266361   \n",
              "\n",
              "                      Company Location  Bean Type  Broad Bean Origin  \n",
              "Company                       0.999651   0.616975           0.607303  \n",
              "Specific Bean Origin          0.808513   0.907951           0.983334  \n",
              "Cocoa Percent                 0.243831   0.158698           0.266361  \n",
              "Company Location              1.000000   0.291667           0.383039  \n",
              "Bean Type                     0.291667   1.000000           0.388294  \n",
              "Broad Bean Origin             0.383039   0.388294           1.000000  "
            ]
          },
          "execution_count": 12,
          "metadata": {},
          "output_type": "execute_result"
        }
      ],
      "source": [
        "XC = data.apply(lambda x: x.astype(\"category\") if x.dtype == \"object\" else x)\n",
        "\n",
        "cramersv = am.CramersV(XC)\n",
        "cramersv.fit()"
      ]
    },
    {
      "cell_type": "markdown",
      "metadata": {
        "id": "zaURTQ74Nc-0"
      },
      "source": [
        "Удаляем столбцы 'Company Location' и 'Review', так как они не информативны"
      ]
    },
    {
      "cell_type": "code",
      "execution_count": 13,
      "metadata": {
        "id": "JMcxSmyMxq8E"
      },
      "outputs": [],
      "source": [
        "data.drop(['Specific Bean Origin', 'Review'], axis = 1, inplace = True)"
      ]
    },
    {
      "cell_type": "code",
      "execution_count": 14,
      "metadata": {
        "id": "ppZEb2E9x5Ti"
      },
      "outputs": [],
      "source": [
        "numeric_columns = data.select_dtypes(include=['number']).columns\n",
        "categorical_columns = data.select_dtypes(exclude=['number']).columns"
      ]
    },
    {
      "cell_type": "code",
      "execution_count": 15,
      "metadata": {
        "colab": {
          "base_uri": "https://localhost:8080/",
          "height": 840
        },
        "id": "cl6Q7INPxzSI",
        "outputId": "09ffcfd5-f70e-437c-c8cb-1a1d18453340"
      },
      "outputs": [
        {
          "name": "stdout",
          "output_type": "stream",
          "text": [
            "REF\n"
          ]
        },
        {
          "data": {
            "image/png": "[encoded data removed]",
            "text/plain": [
              "<Figure size 640x480 with 1 Axes>"
            ]
          },
          "metadata": {},
          "output_type": "display_data"
        },
        {
          "name": "stdout",
          "output_type": "stream",
          "text": [
            "Rating\n"
          ]
        },
        {
          "data": {
            "image/png": "[encoded data removed]",
            "text/plain": [
              "<Figure size 640x480 with 1 Axes>"
            ]
          },
          "metadata": {},
          "output_type": "display_data"
        }
      ],
      "source": [
        "for column in numeric_columns:\n",
        "    print(column)\n",
        "    sb.boxplot(data[column])\n",
        "    plt.show()"
      ]
    },
    {
      "cell_type": "markdown",
      "metadata": {
        "id": "aITPg_F8NpOj"
      },
      "source": [
        "Избавляемся от выбросов в целевой переменной"
      ]
    },
    {
      "cell_type": "code",
      "execution_count": 16,
      "metadata": {
        "id": "6aWDhn5Ux-3z"
      },
      "outputs": [],
      "source": [
        "data = data.loc[(data['Rating'] > 1.5) & (data['Rating'] < 5)]"
      ]
    },
    {
      "cell_type": "code",
      "execution_count": 17,
      "metadata": {
        "colab": {
          "base_uri": "https://localhost:8080/"
        },
        "id": "msRob5T59N2b",
        "outputId": "fb7b4547-22f8-443a-dccb-3a5c661bf59f"
      },
      "outputs": [
        {
          "name": "stdout",
          "output_type": "stream",
          "text": [
            "Company 0\n",
            "REF 0\n",
            "Cocoa Percent 0\n",
            "Company Location 0\n",
            "Rating 0\n",
            "Bean Type 621\n",
            "Broad Bean Origin 49\n"
          ]
        }
      ],
      "source": [
        "for c in data.columns:\n",
        "    print(c, len(data[data[c] == '\\xa0']))"
      ]
    },
    {
      "cell_type": "code",
      "execution_count": 18,
      "metadata": {
        "id": "Mmy1qmpz_OY3"
      },
      "outputs": [],
      "source": [
        "data['Broad Bean Origin'] = data['Broad Bean Origin'].replace('\\xa0', 'Without')"
      ]
    },
    {
      "cell_type": "code",
      "execution_count": 19,
      "metadata": {
        "colab": {
          "base_uri": "https://localhost:8080/"
        },
        "id": "cIyXt4oqyty7",
        "outputId": "a92d7dbc-a08c-4f9f-dfd0-617f76085028"
      },
      "outputs": [
        {
          "data": {
            "text/plain": [
              "Bean Type\n",
              "Without                     621\n",
              "Trinitario                  283\n",
              "Criollo                     104\n",
              "Forastero                    52\n",
              "Forastero (Nacional)         34\n",
              "Criollo, Trinitario          32\n",
              "Forastero (Arriba)           30\n",
              "Blend                        27\n",
              "Criollo (Porcelana)           9\n",
              "Forastero (Parazinho)         8\n",
              "Forastero (Arriba) ASS        6\n",
              "Trinitario, Criollo           3\n",
              "Nacional (Arriba)             3\n",
              "Forastero (Catongo)           2\n",
              "Criollo, Forastero            2\n",
              "Criollo (Amarru)              2\n",
              "Trinitario, Forastero         2\n",
              "Trinitario (Amelonado)        1\n",
              "Amazon mix                    1\n",
              "Trinitario, Nacional          1\n",
              "Forastero (Amelonado)         1\n",
              "Criollo (Ocumare 67)          1\n",
              "Blend-Forastero,Criollo       1\n",
              "Forastero, Trinitario         1\n",
              "Criollo (Ocumare 61)          1\n",
              "Trinitario (85% Criollo)      1\n",
              "EET                           1\n",
              "Amazon                        1\n",
              "Criollo (Wild)                1\n",
              "Matina                        1\n",
              "Criollo, +                    1\n",
              "Criollo (Ocumare)             1\n",
              "Nacional                      1\n",
              "Amazon, ICS                   1\n",
              "Criollo (Ocumare 77)          1\n",
              "Trinitario, TCGA              1\n",
              "Forastero(Arriba, CCN)        1\n",
              "Forastero (Arriba) ASSS       1\n",
              "Name: count, dtype: int64"
            ]
          },
          "execution_count": 19,
          "metadata": {},
          "output_type": "execute_result"
        }
      ],
      "source": [
        "data['Bean Type'] = data['Bean Type'].replace('\\xa0', 'Without')\n",
        "data['Bean Type'].value_counts()"
      ]
    },
    {
      "cell_type": "code",
      "execution_count": 20,
      "metadata": {
        "colab": {
          "base_uri": "https://localhost:8080/"
        },
        "id": "o-pqWBum-ByX",
        "outputId": "8305777e-5b89-4a5b-cfe8-a0b6027055b1"
      },
      "outputs": [
        {
          "data": {
            "text/plain": [
              "Broad Bean Origin\n",
              "Venezuela               143\n",
              "Ecuador                 139\n",
              "Peru                    121\n",
              "Dominican Republic      104\n",
              "Madagascar              103\n",
              "                       ... \n",
              "Peru, Belize              1\n",
              "Principe                  1\n",
              "Venezuela, Ghana          1\n",
              "Ven.,Ecu.,Peru,Nic.       1\n",
              "Venezuela, Carribean      1\n",
              "Name: count, Length: 83, dtype: int64"
            ]
          },
          "execution_count": 20,
          "metadata": {},
          "output_type": "execute_result"
        }
      ],
      "source": [
        "data['Broad Bean Origin'].value_counts()"
      ]
    },
    {
      "cell_type": "code",
      "execution_count": 21,
      "metadata": {
        "id": "BDhQISAUO5LC"
      },
      "outputs": [],
      "source": [
        "data['Broad Bean Origin'] = data['Broad Bean Origin'].replace('\\xa0', -999)"
      ]
    },
    {
      "cell_type": "code",
      "execution_count": 22,
      "metadata": {
        "id": "H0ousu2Ev8e3"
      },
      "outputs": [],
      "source": [
        "data['Cocoa Percent'] = data['Cocoa Percent'].apply(lambda x: float(x[0:-1]))"
      ]
    },
    {
      "cell_type": "markdown",
      "metadata": {
        "id": "fSFfFeO8NvNT"
      },
      "source": [
        "Заменяю столбец 'Cocoa Percent' на категориальный следующим образом\n",
        "от 90 до 100 - очень темный шоколад\n",
        "от 70 до 90 - горький\n",
        "от 53 до 70 -темный\n",
        "меньше 53 - молочный"
      ]
    },
    {
      "cell_type": "code",
      "execution_count": 23,
      "metadata": {
        "id": "TJ4F_8SCyGW4"
      },
      "outputs": [],
      "source": [
        "\n",
        "data['Cocoa Percent'] = data['Cocoa Percent'].replace(np.arange(90, 100.5, 0.5), 'Ultra Dark')\n",
        "data['Cocoa Percent'] = data['Cocoa Percent'].replace(np.arange(70, 90, 0.5), 'Bitter')\n",
        "data['Cocoa Percent'] = data['Cocoa Percent'].replace(np.arange(53, 70, 0.5), 'Dark')\n",
        "data['Cocoa Percent'] = data['Cocoa Percent'].replace(np.arange(0, 53, 0.5), 'Milk')\n",
        "data = data.loc[data['Cocoa Percent'] != 'Milk']\n",
        "# Убираем молочный шоколад, так как его всего 2"
      ]
    },
    {
      "cell_type": "code",
      "execution_count": 24,
      "metadata": {
        "id": "YBoZwVeCgqHk"
      },
      "outputs": [],
      "source": [
        "data = pd.get_dummies(data, columns = ['Cocoa Percent'])"
      ]
    },
    {
      "cell_type": "code",
      "execution_count": 25,
      "metadata": {
        "id": "TbMn77PhydfP"
      },
      "outputs": [],
      "source": [
        "categorical_columns = data.select_dtypes(exclude=['number']).columns"
      ]
    },
    {
      "cell_type": "markdown",
      "metadata": {
        "id": "fiEXOaDqOGrJ"
      },
      "source": [
        "В столбце заменяю те записи, в которых несколько стран пречислены через запятую и точку с запятой на 'Combined'"
      ]
    },
    {
      "cell_type": "code",
      "execution_count": 26,
      "metadata": {
        "id": "OLk4pHmV0biU"
      },
      "outputs": [],
      "source": [
        "data['Broad Bean Origin'] = data['Broad Bean Origin'].apply(lambda x: 'Combined' if len(x.split(\", \")) >= 2 or len(x.split(\"., \")) >= 2 else x)"
      ]
    },
    {
      "cell_type": "markdown",
      "metadata": {
        "id": "LTFDmWziyFLY"
      },
      "source": [
        "Выделяем матрицу объект-признак и вектор с целевой переменной"
      ]
    },
    {
      "cell_type": "code",
      "execution_count": 27,
      "metadata": {
        "id": "Xlfs7w8irPwX"
      },
      "outputs": [],
      "source": [
        "X = data.drop('Rating', axis=1)\n",
        "y = data['Rating']"
      ]
    },
    {
      "cell_type": "markdown",
      "metadata": {
        "id": "Ni840rPy43jU"
      },
      "source": [
        "## Обучение модели"
      ]
    },
    {
      "cell_type": "markdown",
      "metadata": {
        "id": "VMj-qSISyMZG"
      },
      "source": [
        "Устанавливаем катбуст и обучаем его с гиперпараметрами по умолчанию на всех данных"
      ]
    },
    {
      "cell_type": "code",
      "execution_count": 28,
      "metadata": {
        "colab": {
          "base_uri": "https://localhost:8080/"
        },
        "id": "QGV0TmU16oKZ",
        "outputId": "0c6a72f6-0bd8-4e60-be11-607cbc760edc"
      },
      "outputs": [
        {
          "name": "stdout",
          "output_type": "stream",
          "text": [
            "<class 'pandas.core.frame.DataFrame'>\n",
            "Index: 1239 entries, 0 to 1254\n",
            "Data columns (total 8 columns):\n",
            " #   Column                    Non-Null Count  Dtype \n",
            "---  ------                    --------------  ----- \n",
            " 0   Company                   1239 non-null   object\n",
            " 1   REF                       1239 non-null   int64 \n",
            " 2   Company Location          1239 non-null   object\n",
            " 3   Bean Type                 1239 non-null   object\n",
            " 4   Broad Bean Origin         1239 non-null   object\n",
            " 5   Cocoa Percent_Bitter      1239 non-null   bool  \n",
            " 6   Cocoa Percent_Dark        1239 non-null   bool  \n",
            " 7   Cocoa Percent_Ultra Dark  1239 non-null   bool  \n",
            "dtypes: bool(3), int64(1), object(4)\n",
            "memory usage: 61.7+ KB\n"
          ]
        }
      ],
      "source": [
        "X.info()"
      ]
    },
    {
      "cell_type": "code",
      "execution_count": 29,
      "metadata": {
        "id": "vlmT3XVcq-c4"
      },
      "outputs": [],
      "source": [
        "cat_features = [0, 3, 4, 5]"
      ]
    },
    {
      "cell_type": "code",
      "execution_count": 30,
      "metadata": {
        "id": "pzgeWVFT9949"
      },
      "outputs": [],
      "source": [
        "Xtrain, Xtest, ytrain, ytest = train_test_split(X, y, test_size=0.25, random_state=42)"
      ]
    },
    {
      "cell_type": "code",
      "execution_count": 33,
      "metadata": {
        "colab": {
          "base_uri": "https://localhost:8080/"
        },
        "id": "RwaBUtymrEMK",
        "outputId": "b105754e-452a-4d84-9a71-1c30babceb19"
      },
      "outputs": [
        {
          "name": "stderr",
          "output_type": "stream",
          "text": [
            "[I 2025-05-05 15:26:44,452] A new study created in memory with name: no-name-96f229cd-d597-43d4-aacd-76be3e863c81\n",
            "[W 2025-05-05 15:26:44,455] Trial 0 failed with parameters: {'max_depth': 12, 'n_estimators': 418} because of the following error: CatBoostError('Bad value for num_feature[non_default_doc_idx=0,feature_idx=2]=\"U.S.A.\": Cannot convert \\'b\\'U.S.A.\\'\\' to float').\n",
            "Traceback (most recent call last):\n",
            "  File \"_catboost.pyx\", line 2547, in _catboost.get_float_feature\n",
            "  File \"_catboost.pyx\", line 1226, in _catboost._FloatOrNan\n",
            "  File \"_catboost.pyx\", line 1021, in _catboost._FloatOrNanFromString\n",
            "TypeError: Cannot convert 'b'U.S.A.'' to float\n",
            "\n",
            "During handling of the above exception, another exception occurred:\n",
            "\n",
            "Traceback (most recent call last):\n",
            "  File \"c:\\Users\\Pong\\anaconda3\\envs\\chocolate\\lib\\site-packages\\optuna\\study\\_optimize.py\", line 197, in _run_trial\n",
            "    value_or_values = func(trial)\n",
            "  File \"C:\\Users\\Pong\\AppData\\Local\\Temp\\ipykernel_15216\\932434123.py\", line 10, in objective\n",
            "    estimator.fit(Xtrain, ytrain)\n",
            "  File \"c:\\Users\\Pong\\anaconda3\\envs\\chocolate\\lib\\site-packages\\catboost\\core.py\", line 5873, in fit\n",
            "    return self._fit(X, y, cat_features, text_features, embedding_features, None, graph, sample_weight, None, None, None, None, baseline,\n",
            "  File \"c:\\Users\\Pong\\anaconda3\\envs\\chocolate\\lib\\site-packages\\catboost\\core.py\", line 2395, in _fit\n",
            "    train_params = self._prepare_train_params(\n",
            "  File \"c:\\Users\\Pong\\anaconda3\\envs\\chocolate\\lib\\site-packages\\catboost\\core.py\", line 2275, in _prepare_train_params\n",
            "    train_pool = _build_train_pool(X, y, cat_features, text_features, embedding_features, pairs, graph,\n",
            "  File \"c:\\Users\\Pong\\anaconda3\\envs\\chocolate\\lib\\site-packages\\catboost\\core.py\", line 1513, in _build_train_pool\n",
            "    train_pool = Pool(X, y, cat_features=cat_features, text_features=text_features, embedding_features=embedding_features, pairs=pairs, graph=graph, weight=sample_weight, group_id=group_id,\n",
            "  File \"c:\\Users\\Pong\\anaconda3\\envs\\chocolate\\lib\\site-packages\\catboost\\core.py\", line 855, in __init__\n",
            "    self._init(data, label, cat_features, text_features, embedding_features, embedding_features_data, pairs, graph, weight,\n",
            "  File \"c:\\Users\\Pong\\anaconda3\\envs\\chocolate\\lib\\site-packages\\catboost\\core.py\", line 1491, in _init\n",
            "    self._init_pool(data, label, cat_features, text_features, embedding_features, embedding_features_data, pairs, graph, weight,\n",
            "  File \"_catboost.pyx\", line 4339, in _catboost._PoolBase._init_pool\n",
            "  File \"_catboost.pyx\", line 4391, in _catboost._PoolBase._init_pool\n",
            "  File \"_catboost.pyx\", line 4200, in _catboost._PoolBase._init_features_order_layout_pool\n",
            "  File \"_catboost.pyx\", line 3127, in _catboost._set_features_order_data_pd_data_frame\n",
            "  File \"_catboost.pyx\", line 2591, in _catboost.create_num_factor_data\n",
            "  File \"_catboost.pyx\", line 2549, in _catboost.get_float_feature\n",
            "_catboost.CatBoostError: Bad value for num_feature[non_default_doc_idx=0,feature_idx=2]=\"U.S.A.\": Cannot convert 'b'U.S.A.'' to float\n",
            "[W 2025-05-05 15:26:44,457] Trial 0 failed with value None.\n"
          ]
        },
        {
          "ename": "CatBoostError",
          "evalue": "Bad value for num_feature[non_default_doc_idx=0,feature_idx=2]=\"U.S.A.\": Cannot convert 'b'U.S.A.'' to float",
          "output_type": "error",
          "traceback": [
            "\u001b[1;31m---------------------------------------------------------------------------\u001b[0m",
            "\u001b[1;31mTypeError\u001b[0m                                 Traceback (most recent call last)",
            "File \u001b[1;32m_catboost.pyx:2547\u001b[0m, in \u001b[0;36m_catboost.get_float_feature\u001b[1;34m()\u001b[0m\n",
            "File \u001b[1;32m_catboost.pyx:1226\u001b[0m, in \u001b[0;36m_catboost._FloatOrNan\u001b[1;34m()\u001b[0m\n",
            "File \u001b[1;32m_catboost.pyx:1021\u001b[0m, in \u001b[0;36m_catboost._FloatOrNanFromString\u001b[1;34m()\u001b[0m\n",
            "\u001b[1;31mTypeError\u001b[0m: Cannot convert 'b'U.S.A.'' to float",
            "\nDuring handling of the above exception, another exception occurred:\n",
            "\u001b[1;31mCatBoostError\u001b[0m                             Traceback (most recent call last)",
            "Cell \u001b[1;32mIn[33], line 16\u001b[0m\n\u001b[0;32m     13\u001b[0m     \u001b[38;5;28;01mreturn\u001b[39;00m r2_score(ytest, pred)\n\u001b[0;32m     15\u001b[0m study \u001b[38;5;241m=\u001b[39m optuna\u001b[38;5;241m.\u001b[39mcreate_study(direction\u001b[38;5;241m=\u001b[39m\u001b[38;5;124m\"\u001b[39m\u001b[38;5;124mmaximize\u001b[39m\u001b[38;5;124m\"\u001b[39m)\n\u001b[1;32m---> 16\u001b[0m \u001b[43mstudy\u001b[49m\u001b[38;5;241;43m.\u001b[39;49m\u001b[43moptimize\u001b[49m\u001b[43m(\u001b[49m\u001b[43mobjective\u001b[49m\u001b[43m,\u001b[49m\u001b[43m \u001b[49m\u001b[43mn_trials\u001b[49m\u001b[38;5;241;43m=\u001b[39;49m\u001b[38;5;241;43m50\u001b[39;49m\u001b[43m)\u001b[49m\n\u001b[0;32m     17\u001b[0m \u001b[38;5;28mprint\u001b[39m(study\u001b[38;5;241m.\u001b[39mbest_trial)\n",
            "File \u001b[1;32mc:\\Users\\Pong\\anaconda3\\envs\\chocolate\\lib\\site-packages\\optuna\\study\\study.py:475\u001b[0m, in \u001b[0;36mStudy.optimize\u001b[1;34m(self, func, n_trials, timeout, n_jobs, catch, callbacks, gc_after_trial, show_progress_bar)\u001b[0m\n\u001b[0;32m    373\u001b[0m \u001b[38;5;28;01mdef\u001b[39;00m\u001b[38;5;250m \u001b[39m\u001b[38;5;21moptimize\u001b[39m(\n\u001b[0;32m    374\u001b[0m     \u001b[38;5;28mself\u001b[39m,\n\u001b[0;32m    375\u001b[0m     func: ObjectiveFuncType,\n\u001b[1;32m   (...)\u001b[0m\n\u001b[0;32m    382\u001b[0m     show_progress_bar: \u001b[38;5;28mbool\u001b[39m \u001b[38;5;241m=\u001b[39m \u001b[38;5;28;01mFalse\u001b[39;00m,\n\u001b[0;32m    383\u001b[0m ) \u001b[38;5;241m-\u001b[39m\u001b[38;5;241m>\u001b[39m \u001b[38;5;28;01mNone\u001b[39;00m:\n\u001b[0;32m    384\u001b[0m \u001b[38;5;250m    \u001b[39m\u001b[38;5;124;03m\"\"\"Optimize an objective function.\u001b[39;00m\n\u001b[0;32m    385\u001b[0m \n\u001b[0;32m    386\u001b[0m \u001b[38;5;124;03m    Optimization is done by choosing a suitable set of hyperparameter values from a given\u001b[39;00m\n\u001b[1;32m   (...)\u001b[0m\n\u001b[0;32m    473\u001b[0m \u001b[38;5;124;03m            If nested invocation of this method occurs.\u001b[39;00m\n\u001b[0;32m    474\u001b[0m \u001b[38;5;124;03m    \"\"\"\u001b[39;00m\n\u001b[1;32m--> 475\u001b[0m     \u001b[43m_optimize\u001b[49m\u001b[43m(\u001b[49m\n\u001b[0;32m    476\u001b[0m \u001b[43m        \u001b[49m\u001b[43mstudy\u001b[49m\u001b[38;5;241;43m=\u001b[39;49m\u001b[38;5;28;43mself\u001b[39;49m\u001b[43m,\u001b[49m\n\u001b[0;32m    477\u001b[0m \u001b[43m        \u001b[49m\u001b[43mfunc\u001b[49m\u001b[38;5;241;43m=\u001b[39;49m\u001b[43mfunc\u001b[49m\u001b[43m,\u001b[49m\n\u001b[0;32m    478\u001b[0m \u001b[43m        \u001b[49m\u001b[43mn_trials\u001b[49m\u001b[38;5;241;43m=\u001b[39;49m\u001b[43mn_trials\u001b[49m\u001b[43m,\u001b[49m\n\u001b[0;32m    479\u001b[0m \u001b[43m        \u001b[49m\u001b[43mtimeout\u001b[49m\u001b[38;5;241;43m=\u001b[39;49m\u001b[43mtimeout\u001b[49m\u001b[43m,\u001b[49m\n\u001b[0;32m    480\u001b[0m \u001b[43m        \u001b[49m\u001b[43mn_jobs\u001b[49m\u001b[38;5;241;43m=\u001b[39;49m\u001b[43mn_jobs\u001b[49m\u001b[43m,\u001b[49m\n\u001b[0;32m    481\u001b[0m \u001b[43m        \u001b[49m\u001b[43mcatch\u001b[49m\u001b[38;5;241;43m=\u001b[39;49m\u001b[38;5;28;43mtuple\u001b[39;49m\u001b[43m(\u001b[49m\u001b[43mcatch\u001b[49m\u001b[43m)\u001b[49m\u001b[43m \u001b[49m\u001b[38;5;28;43;01mif\u001b[39;49;00m\u001b[43m \u001b[49m\u001b[38;5;28;43misinstance\u001b[39;49m\u001b[43m(\u001b[49m\u001b[43mcatch\u001b[49m\u001b[43m,\u001b[49m\u001b[43m \u001b[49m\u001b[43mIterable\u001b[49m\u001b[43m)\u001b[49m\u001b[43m \u001b[49m\u001b[38;5;28;43;01melse\u001b[39;49;00m\u001b[43m \u001b[49m\u001b[43m(\u001b[49m\u001b[43mcatch\u001b[49m\u001b[43m,\u001b[49m\u001b[43m)\u001b[49m\u001b[43m,\u001b[49m\n\u001b[0;32m    482\u001b[0m \u001b[43m        \u001b[49m\u001b[43mcallbacks\u001b[49m\u001b[38;5;241;43m=\u001b[39;49m\u001b[43mcallbacks\u001b[49m\u001b[43m,\u001b[49m\n\u001b[0;32m    483\u001b[0m \u001b[43m        \u001b[49m\u001b[43mgc_after_trial\u001b[49m\u001b[38;5;241;43m=\u001b[39;49m\u001b[43mgc_after_trial\u001b[49m\u001b[43m,\u001b[49m\n\u001b[0;32m    484\u001b[0m \u001b[43m        \u001b[49m\u001b[43mshow_progress_bar\u001b[49m\u001b[38;5;241;43m=\u001b[39;49m\u001b[43mshow_progress_bar\u001b[49m\u001b[43m,\u001b[49m\n\u001b[0;32m    485\u001b[0m \u001b[43m    \u001b[49m\u001b[43m)\u001b[49m\n",
            "File \u001b[1;32mc:\\Users\\Pong\\anaconda3\\envs\\chocolate\\lib\\site-packages\\optuna\\study\\_optimize.py:63\u001b[0m, in \u001b[0;36m_optimize\u001b[1;34m(study, func, n_trials, timeout, n_jobs, catch, callbacks, gc_after_trial, show_progress_bar)\u001b[0m\n\u001b[0;32m     61\u001b[0m \u001b[38;5;28;01mtry\u001b[39;00m:\n\u001b[0;32m     62\u001b[0m     \u001b[38;5;28;01mif\u001b[39;00m n_jobs \u001b[38;5;241m==\u001b[39m \u001b[38;5;241m1\u001b[39m:\n\u001b[1;32m---> 63\u001b[0m         \u001b[43m_optimize_sequential\u001b[49m\u001b[43m(\u001b[49m\n\u001b[0;32m     64\u001b[0m \u001b[43m            \u001b[49m\u001b[43mstudy\u001b[49m\u001b[43m,\u001b[49m\n\u001b[0;32m     65\u001b[0m \u001b[43m            \u001b[49m\u001b[43mfunc\u001b[49m\u001b[43m,\u001b[49m\n\u001b[0;32m     66\u001b[0m \u001b[43m            \u001b[49m\u001b[43mn_trials\u001b[49m\u001b[43m,\u001b[49m\n\u001b[0;32m     67\u001b[0m \u001b[43m            \u001b[49m\u001b[43mtimeout\u001b[49m\u001b[43m,\u001b[49m\n\u001b[0;32m     68\u001b[0m \u001b[43m            \u001b[49m\u001b[43mcatch\u001b[49m\u001b[43m,\u001b[49m\n\u001b[0;32m     69\u001b[0m \u001b[43m            \u001b[49m\u001b[43mcallbacks\u001b[49m\u001b[43m,\u001b[49m\n\u001b[0;32m     70\u001b[0m \u001b[43m            \u001b[49m\u001b[43mgc_after_trial\u001b[49m\u001b[43m,\u001b[49m\n\u001b[0;32m     71\u001b[0m \u001b[43m            \u001b[49m\u001b[43mreseed_sampler_rng\u001b[49m\u001b[38;5;241;43m=\u001b[39;49m\u001b[38;5;28;43;01mFalse\u001b[39;49;00m\u001b[43m,\u001b[49m\n\u001b[0;32m     72\u001b[0m \u001b[43m            \u001b[49m\u001b[43mtime_start\u001b[49m\u001b[38;5;241;43m=\u001b[39;49m\u001b[38;5;28;43;01mNone\u001b[39;49;00m\u001b[43m,\u001b[49m\n\u001b[0;32m     73\u001b[0m \u001b[43m            \u001b[49m\u001b[43mprogress_bar\u001b[49m\u001b[38;5;241;43m=\u001b[39;49m\u001b[43mprogress_bar\u001b[49m\u001b[43m,\u001b[49m\n\u001b[0;32m     74\u001b[0m \u001b[43m        \u001b[49m\u001b[43m)\u001b[49m\n\u001b[0;32m     75\u001b[0m     \u001b[38;5;28;01melse\u001b[39;00m:\n\u001b[0;32m     76\u001b[0m         \u001b[38;5;28;01mif\u001b[39;00m n_jobs \u001b[38;5;241m==\u001b[39m \u001b[38;5;241m-\u001b[39m\u001b[38;5;241m1\u001b[39m:\n",
            "File \u001b[1;32mc:\\Users\\Pong\\anaconda3\\envs\\chocolate\\lib\\site-packages\\optuna\\study\\_optimize.py:160\u001b[0m, in \u001b[0;36m_optimize_sequential\u001b[1;34m(study, func, n_trials, timeout, catch, callbacks, gc_after_trial, reseed_sampler_rng, time_start, progress_bar)\u001b[0m\n\u001b[0;32m    157\u001b[0m         \u001b[38;5;28;01mbreak\u001b[39;00m\n\u001b[0;32m    159\u001b[0m \u001b[38;5;28;01mtry\u001b[39;00m:\n\u001b[1;32m--> 160\u001b[0m     frozen_trial \u001b[38;5;241m=\u001b[39m \u001b[43m_run_trial\u001b[49m\u001b[43m(\u001b[49m\u001b[43mstudy\u001b[49m\u001b[43m,\u001b[49m\u001b[43m \u001b[49m\u001b[43mfunc\u001b[49m\u001b[43m,\u001b[49m\u001b[43m \u001b[49m\u001b[43mcatch\u001b[49m\u001b[43m)\u001b[49m\n\u001b[0;32m    161\u001b[0m \u001b[38;5;28;01mfinally\u001b[39;00m:\n\u001b[0;32m    162\u001b[0m     \u001b[38;5;66;03m# The following line mitigates memory problems that can be occurred in some\u001b[39;00m\n\u001b[0;32m    163\u001b[0m     \u001b[38;5;66;03m# environments (e.g., services that use computing containers such as GitHub Actions).\u001b[39;00m\n\u001b[0;32m    164\u001b[0m     \u001b[38;5;66;03m# Please refer to the following PR for further details:\u001b[39;00m\n\u001b[0;32m    165\u001b[0m     \u001b[38;5;66;03m# https://github.com/optuna/optuna/pull/325.\u001b[39;00m\n\u001b[0;32m    166\u001b[0m     \u001b[38;5;28;01mif\u001b[39;00m gc_after_trial:\n",
            "File \u001b[1;32mc:\\Users\\Pong\\anaconda3\\envs\\chocolate\\lib\\site-packages\\optuna\\study\\_optimize.py:248\u001b[0m, in \u001b[0;36m_run_trial\u001b[1;34m(study, func, catch)\u001b[0m\n\u001b[0;32m    241\u001b[0m         \u001b[38;5;28;01massert\u001b[39;00m \u001b[38;5;28;01mFalse\u001b[39;00m, \u001b[38;5;124m\"\u001b[39m\u001b[38;5;124mShould not reach.\u001b[39m\u001b[38;5;124m\"\u001b[39m\n\u001b[0;32m    243\u001b[0m \u001b[38;5;28;01mif\u001b[39;00m (\n\u001b[0;32m    244\u001b[0m     frozen_trial\u001b[38;5;241m.\u001b[39mstate \u001b[38;5;241m==\u001b[39m TrialState\u001b[38;5;241m.\u001b[39mFAIL\n\u001b[0;32m    245\u001b[0m     \u001b[38;5;129;01mand\u001b[39;00m func_err \u001b[38;5;129;01mis\u001b[39;00m \u001b[38;5;129;01mnot\u001b[39;00m \u001b[38;5;28;01mNone\u001b[39;00m\n\u001b[0;32m    246\u001b[0m     \u001b[38;5;129;01mand\u001b[39;00m \u001b[38;5;129;01mnot\u001b[39;00m \u001b[38;5;28misinstance\u001b[39m(func_err, catch)\n\u001b[0;32m    247\u001b[0m ):\n\u001b[1;32m--> 248\u001b[0m     \u001b[38;5;28;01mraise\u001b[39;00m func_err\n\u001b[0;32m    249\u001b[0m \u001b[38;5;28;01mreturn\u001b[39;00m frozen_trial\n",
            "File \u001b[1;32mc:\\Users\\Pong\\anaconda3\\envs\\chocolate\\lib\\site-packages\\optuna\\study\\_optimize.py:197\u001b[0m, in \u001b[0;36m_run_trial\u001b[1;34m(study, func, catch)\u001b[0m\n\u001b[0;32m    195\u001b[0m \u001b[38;5;28;01mwith\u001b[39;00m get_heartbeat_thread(trial\u001b[38;5;241m.\u001b[39m_trial_id, study\u001b[38;5;241m.\u001b[39m_storage):\n\u001b[0;32m    196\u001b[0m     \u001b[38;5;28;01mtry\u001b[39;00m:\n\u001b[1;32m--> 197\u001b[0m         value_or_values \u001b[38;5;241m=\u001b[39m \u001b[43mfunc\u001b[49m\u001b[43m(\u001b[49m\u001b[43mtrial\u001b[49m\u001b[43m)\u001b[49m\n\u001b[0;32m    198\u001b[0m     \u001b[38;5;28;01mexcept\u001b[39;00m exceptions\u001b[38;5;241m.\u001b[39mTrialPruned \u001b[38;5;28;01mas\u001b[39;00m e:\n\u001b[0;32m    199\u001b[0m         \u001b[38;5;66;03m# TODO(mamu): Handle multi-objective cases.\u001b[39;00m\n\u001b[0;32m    200\u001b[0m         state \u001b[38;5;241m=\u001b[39m TrialState\u001b[38;5;241m.\u001b[39mPRUNED\n",
            "Cell \u001b[1;32mIn[33], line 10\u001b[0m, in \u001b[0;36mobjective\u001b[1;34m(trial)\u001b[0m\n\u001b[0;32m      6\u001b[0m n_estimators \u001b[38;5;241m=\u001b[39m trial\u001b[38;5;241m.\u001b[39msuggest_int(\u001b[38;5;124m\"\u001b[39m\u001b[38;5;124mn_estimators\u001b[39m\u001b[38;5;124m\"\u001b[39m, \u001b[38;5;241m10\u001b[39m, \u001b[38;5;241m1000\u001b[39m)\n\u001b[0;32m      8\u001b[0m estimator \u001b[38;5;241m=\u001b[39m CatBoostRegressor(cat_features \u001b[38;5;241m=\u001b[39m cat_features, max_depth \u001b[38;5;241m=\u001b[39m max_depth, n_estimators\u001b[38;5;241m=\u001b[39mn_estimators, random_state\u001b[38;5;241m=\u001b[39m\u001b[38;5;241m42\u001b[39m, verbose\u001b[38;5;241m=\u001b[39m\u001b[38;5;241m2\u001b[39m)\n\u001b[1;32m---> 10\u001b[0m \u001b[43mestimator\u001b[49m\u001b[38;5;241;43m.\u001b[39;49m\u001b[43mfit\u001b[49m\u001b[43m(\u001b[49m\u001b[43mXtrain\u001b[49m\u001b[43m,\u001b[49m\u001b[43m \u001b[49m\u001b[43mytrain\u001b[49m\u001b[43m)\u001b[49m\n\u001b[0;32m     11\u001b[0m pred \u001b[38;5;241m=\u001b[39m estimator\u001b[38;5;241m.\u001b[39mpredict(Xtest)\n\u001b[0;32m     13\u001b[0m \u001b[38;5;28;01mreturn\u001b[39;00m r2_score(ytest, pred)\n",
            "File \u001b[1;32mc:\\Users\\Pong\\anaconda3\\envs\\chocolate\\lib\\site-packages\\catboost\\core.py:5873\u001b[0m, in \u001b[0;36mCatBoostRegressor.fit\u001b[1;34m(self, X, y, cat_features, text_features, embedding_features, graph, sample_weight, baseline, use_best_model, eval_set, verbose, logging_level, plot, plot_file, column_description, verbose_eval, metric_period, silent, early_stopping_rounds, save_snapshot, snapshot_file, snapshot_interval, init_model, callbacks, log_cout, log_cerr)\u001b[0m\n\u001b[0;32m   5871\u001b[0m \u001b[38;5;28;01mif\u001b[39;00m \u001b[38;5;124m'\u001b[39m\u001b[38;5;124mloss_function\u001b[39m\u001b[38;5;124m'\u001b[39m \u001b[38;5;129;01min\u001b[39;00m params:\n\u001b[0;32m   5872\u001b[0m     CatBoostRegressor\u001b[38;5;241m.\u001b[39m_check_is_compatible_loss(params[\u001b[38;5;124m'\u001b[39m\u001b[38;5;124mloss_function\u001b[39m\u001b[38;5;124m'\u001b[39m])\n\u001b[1;32m-> 5873\u001b[0m \u001b[38;5;28;01mreturn\u001b[39;00m \u001b[38;5;28;43mself\u001b[39;49m\u001b[38;5;241;43m.\u001b[39;49m\u001b[43m_fit\u001b[49m\u001b[43m(\u001b[49m\u001b[43mX\u001b[49m\u001b[43m,\u001b[49m\u001b[43m \u001b[49m\u001b[43my\u001b[49m\u001b[43m,\u001b[49m\u001b[43m \u001b[49m\u001b[43mcat_features\u001b[49m\u001b[43m,\u001b[49m\u001b[43m \u001b[49m\u001b[43mtext_features\u001b[49m\u001b[43m,\u001b[49m\u001b[43m \u001b[49m\u001b[43membedding_features\u001b[49m\u001b[43m,\u001b[49m\u001b[43m \u001b[49m\u001b[38;5;28;43;01mNone\u001b[39;49;00m\u001b[43m,\u001b[49m\u001b[43m \u001b[49m\u001b[43mgraph\u001b[49m\u001b[43m,\u001b[49m\u001b[43m \u001b[49m\u001b[43msample_weight\u001b[49m\u001b[43m,\u001b[49m\u001b[43m \u001b[49m\u001b[38;5;28;43;01mNone\u001b[39;49;00m\u001b[43m,\u001b[49m\u001b[43m \u001b[49m\u001b[38;5;28;43;01mNone\u001b[39;49;00m\u001b[43m,\u001b[49m\u001b[43m \u001b[49m\u001b[38;5;28;43;01mNone\u001b[39;49;00m\u001b[43m,\u001b[49m\u001b[43m \u001b[49m\u001b[38;5;28;43;01mNone\u001b[39;49;00m\u001b[43m,\u001b[49m\u001b[43m \u001b[49m\u001b[43mbaseline\u001b[49m\u001b[43m,\u001b[49m\n\u001b[0;32m   5874\u001b[0m \u001b[43m                 \u001b[49m\u001b[43muse_best_model\u001b[49m\u001b[43m,\u001b[49m\u001b[43m \u001b[49m\u001b[43meval_set\u001b[49m\u001b[43m,\u001b[49m\u001b[43m \u001b[49m\u001b[43mverbose\u001b[49m\u001b[43m,\u001b[49m\u001b[43m \u001b[49m\u001b[43mlogging_level\u001b[49m\u001b[43m,\u001b[49m\u001b[43m \u001b[49m\u001b[43mplot\u001b[49m\u001b[43m,\u001b[49m\u001b[43m \u001b[49m\u001b[43mplot_file\u001b[49m\u001b[43m,\u001b[49m\u001b[43m \u001b[49m\u001b[43mcolumn_description\u001b[49m\u001b[43m,\u001b[49m\n\u001b[0;32m   5875\u001b[0m \u001b[43m                 \u001b[49m\u001b[43mverbose_eval\u001b[49m\u001b[43m,\u001b[49m\u001b[43m \u001b[49m\u001b[43mmetric_period\u001b[49m\u001b[43m,\u001b[49m\u001b[43m \u001b[49m\u001b[43msilent\u001b[49m\u001b[43m,\u001b[49m\u001b[43m \u001b[49m\u001b[43mearly_stopping_rounds\u001b[49m\u001b[43m,\u001b[49m\n\u001b[0;32m   5876\u001b[0m \u001b[43m                 \u001b[49m\u001b[43msave_snapshot\u001b[49m\u001b[43m,\u001b[49m\u001b[43m \u001b[49m\u001b[43msnapshot_file\u001b[49m\u001b[43m,\u001b[49m\u001b[43m \u001b[49m\u001b[43msnapshot_interval\u001b[49m\u001b[43m,\u001b[49m\u001b[43m \u001b[49m\u001b[43minit_model\u001b[49m\u001b[43m,\u001b[49m\u001b[43m \u001b[49m\u001b[43mcallbacks\u001b[49m\u001b[43m,\u001b[49m\u001b[43m \u001b[49m\u001b[43mlog_cout\u001b[49m\u001b[43m,\u001b[49m\u001b[43m \u001b[49m\u001b[43mlog_cerr\u001b[49m\u001b[43m)\u001b[49m\n",
            "File \u001b[1;32mc:\\Users\\Pong\\anaconda3\\envs\\chocolate\\lib\\site-packages\\catboost\\core.py:2395\u001b[0m, in \u001b[0;36mCatBoost._fit\u001b[1;34m(self, X, y, cat_features, text_features, embedding_features, pairs, graph, sample_weight, group_id, group_weight, subgroup_id, pairs_weight, baseline, use_best_model, eval_set, verbose, logging_level, plot, plot_file, column_description, verbose_eval, metric_period, silent, early_stopping_rounds, save_snapshot, snapshot_file, snapshot_interval, init_model, callbacks, log_cout, log_cerr)\u001b[0m\n\u001b[0;32m   2392\u001b[0m \u001b[38;5;28;01mif\u001b[39;00m y \u001b[38;5;129;01mis\u001b[39;00m \u001b[38;5;28;01mNone\u001b[39;00m \u001b[38;5;129;01mand\u001b[39;00m \u001b[38;5;129;01mnot\u001b[39;00m \u001b[38;5;28misinstance\u001b[39m(X, PATH_TYPES \u001b[38;5;241m+\u001b[39m (Pool,)):\n\u001b[0;32m   2393\u001b[0m     \u001b[38;5;28;01mraise\u001b[39;00m CatBoostError(\u001b[38;5;124m\"\u001b[39m\u001b[38;5;124my may be None only when X is an instance of catboost.Pool or string\u001b[39m\u001b[38;5;124m\"\u001b[39m)\n\u001b[1;32m-> 2395\u001b[0m train_params \u001b[38;5;241m=\u001b[39m \u001b[38;5;28;43mself\u001b[39;49m\u001b[38;5;241;43m.\u001b[39;49m\u001b[43m_prepare_train_params\u001b[49m\u001b[43m(\u001b[49m\n\u001b[0;32m   2396\u001b[0m \u001b[43m    \u001b[49m\u001b[43mX\u001b[49m\u001b[38;5;241;43m=\u001b[39;49m\u001b[43mX\u001b[49m\u001b[43m,\u001b[49m\u001b[43m \u001b[49m\u001b[43my\u001b[49m\u001b[38;5;241;43m=\u001b[39;49m\u001b[43my\u001b[49m\u001b[43m,\u001b[49m\u001b[43m \u001b[49m\u001b[43mcat_features\u001b[49m\u001b[38;5;241;43m=\u001b[39;49m\u001b[43mcat_features\u001b[49m\u001b[43m,\u001b[49m\u001b[43m \u001b[49m\u001b[43mtext_features\u001b[49m\u001b[38;5;241;43m=\u001b[39;49m\u001b[43mtext_features\u001b[49m\u001b[43m,\u001b[49m\u001b[43m \u001b[49m\u001b[43membedding_features\u001b[49m\u001b[38;5;241;43m=\u001b[39;49m\u001b[43membedding_features\u001b[49m\u001b[43m,\u001b[49m\n\u001b[0;32m   2397\u001b[0m \u001b[43m    \u001b[49m\u001b[43mpairs\u001b[49m\u001b[38;5;241;43m=\u001b[39;49m\u001b[43mpairs\u001b[49m\u001b[43m,\u001b[49m\u001b[43m \u001b[49m\u001b[43mgraph\u001b[49m\u001b[38;5;241;43m=\u001b[39;49m\u001b[43mgraph\u001b[49m\u001b[43m,\u001b[49m\u001b[43m \u001b[49m\u001b[43msample_weight\u001b[49m\u001b[38;5;241;43m=\u001b[39;49m\u001b[43msample_weight\u001b[49m\u001b[43m,\u001b[49m\u001b[43m \u001b[49m\u001b[43mgroup_id\u001b[49m\u001b[38;5;241;43m=\u001b[39;49m\u001b[43mgroup_id\u001b[49m\u001b[43m,\u001b[49m\u001b[43m \u001b[49m\u001b[43mgroup_weight\u001b[49m\u001b[38;5;241;43m=\u001b[39;49m\u001b[43mgroup_weight\u001b[49m\u001b[43m,\u001b[49m\n\u001b[0;32m   2398\u001b[0m \u001b[43m    \u001b[49m\u001b[43msubgroup_id\u001b[49m\u001b[38;5;241;43m=\u001b[39;49m\u001b[43msubgroup_id\u001b[49m\u001b[43m,\u001b[49m\u001b[43m \u001b[49m\u001b[43mpairs_weight\u001b[49m\u001b[38;5;241;43m=\u001b[39;49m\u001b[43mpairs_weight\u001b[49m\u001b[43m,\u001b[49m\u001b[43m \u001b[49m\u001b[43mbaseline\u001b[49m\u001b[38;5;241;43m=\u001b[39;49m\u001b[43mbaseline\u001b[49m\u001b[43m,\u001b[49m\u001b[43m \u001b[49m\u001b[43muse_best_model\u001b[49m\u001b[38;5;241;43m=\u001b[39;49m\u001b[43muse_best_model\u001b[49m\u001b[43m,\u001b[49m\n\u001b[0;32m   2399\u001b[0m \u001b[43m    \u001b[49m\u001b[43meval_set\u001b[49m\u001b[38;5;241;43m=\u001b[39;49m\u001b[43meval_set\u001b[49m\u001b[43m,\u001b[49m\u001b[43m \u001b[49m\u001b[43mverbose\u001b[49m\u001b[38;5;241;43m=\u001b[39;49m\u001b[43mverbose\u001b[49m\u001b[43m,\u001b[49m\u001b[43m \u001b[49m\u001b[43mlogging_level\u001b[49m\u001b[38;5;241;43m=\u001b[39;49m\u001b[43mlogging_level\u001b[49m\u001b[43m,\u001b[49m\u001b[43m \u001b[49m\u001b[43mplot\u001b[49m\u001b[38;5;241;43m=\u001b[39;49m\u001b[43mplot\u001b[49m\u001b[43m,\u001b[49m\u001b[43m \u001b[49m\u001b[43mplot_file\u001b[49m\u001b[38;5;241;43m=\u001b[39;49m\u001b[43mplot_file\u001b[49m\u001b[43m,\u001b[49m\n\u001b[0;32m   2400\u001b[0m \u001b[43m    \u001b[49m\u001b[43mcolumn_description\u001b[49m\u001b[38;5;241;43m=\u001b[39;49m\u001b[43mcolumn_description\u001b[49m\u001b[43m,\u001b[49m\u001b[43m \u001b[49m\u001b[43mverbose_eval\u001b[49m\u001b[38;5;241;43m=\u001b[39;49m\u001b[43mverbose_eval\u001b[49m\u001b[43m,\u001b[49m\u001b[43m \u001b[49m\u001b[43mmetric_period\u001b[49m\u001b[38;5;241;43m=\u001b[39;49m\u001b[43mmetric_period\u001b[49m\u001b[43m,\u001b[49m\n\u001b[0;32m   2401\u001b[0m \u001b[43m    \u001b[49m\u001b[43msilent\u001b[49m\u001b[38;5;241;43m=\u001b[39;49m\u001b[43msilent\u001b[49m\u001b[43m,\u001b[49m\u001b[43m \u001b[49m\u001b[43mearly_stopping_rounds\u001b[49m\u001b[38;5;241;43m=\u001b[39;49m\u001b[43mearly_stopping_rounds\u001b[49m\u001b[43m,\u001b[49m\u001b[43m \u001b[49m\u001b[43msave_snapshot\u001b[49m\u001b[38;5;241;43m=\u001b[39;49m\u001b[43msave_snapshot\u001b[49m\u001b[43m,\u001b[49m\n\u001b[0;32m   2402\u001b[0m \u001b[43m    \u001b[49m\u001b[43msnapshot_file\u001b[49m\u001b[38;5;241;43m=\u001b[39;49m\u001b[43msnapshot_file\u001b[49m\u001b[43m,\u001b[49m\u001b[43m \u001b[49m\u001b[43msnapshot_interval\u001b[49m\u001b[38;5;241;43m=\u001b[39;49m\u001b[43msnapshot_interval\u001b[49m\u001b[43m,\u001b[49m\u001b[43m \u001b[49m\u001b[43minit_model\u001b[49m\u001b[38;5;241;43m=\u001b[39;49m\u001b[43minit_model\u001b[49m\u001b[43m,\u001b[49m\n\u001b[0;32m   2403\u001b[0m \u001b[43m    \u001b[49m\u001b[43mcallbacks\u001b[49m\u001b[38;5;241;43m=\u001b[39;49m\u001b[43mcallbacks\u001b[49m\n\u001b[0;32m   2404\u001b[0m \u001b[43m\u001b[49m\u001b[43m)\u001b[49m\n\u001b[0;32m   2405\u001b[0m params \u001b[38;5;241m=\u001b[39m train_params[\u001b[38;5;124m\"\u001b[39m\u001b[38;5;124mparams\u001b[39m\u001b[38;5;124m\"\u001b[39m]\n\u001b[0;32m   2406\u001b[0m train_pool \u001b[38;5;241m=\u001b[39m train_params[\u001b[38;5;124m\"\u001b[39m\u001b[38;5;124mtrain_pool\u001b[39m\u001b[38;5;124m\"\u001b[39m]\n",
            "File \u001b[1;32mc:\\Users\\Pong\\anaconda3\\envs\\chocolate\\lib\\site-packages\\catboost\\core.py:2275\u001b[0m, in \u001b[0;36mCatBoost._prepare_train_params\u001b[1;34m(self, X, y, cat_features, text_features, embedding_features, pairs, graph, sample_weight, group_id, group_weight, subgroup_id, pairs_weight, baseline, use_best_model, eval_set, verbose, logging_level, plot, plot_file, column_description, verbose_eval, metric_period, silent, early_stopping_rounds, save_snapshot, snapshot_file, snapshot_interval, init_model, callbacks)\u001b[0m\n\u001b[0;32m   2272\u001b[0m text_features \u001b[38;5;241m=\u001b[39m _process_feature_indices(text_features, X, params, \u001b[38;5;124m'\u001b[39m\u001b[38;5;124mtext_features\u001b[39m\u001b[38;5;124m'\u001b[39m)\n\u001b[0;32m   2273\u001b[0m embedding_features \u001b[38;5;241m=\u001b[39m _process_feature_indices(embedding_features, X, params, \u001b[38;5;124m'\u001b[39m\u001b[38;5;124membedding_features\u001b[39m\u001b[38;5;124m'\u001b[39m)\n\u001b[1;32m-> 2275\u001b[0m train_pool \u001b[38;5;241m=\u001b[39m \u001b[43m_build_train_pool\u001b[49m\u001b[43m(\u001b[49m\u001b[43mX\u001b[49m\u001b[43m,\u001b[49m\u001b[43m \u001b[49m\u001b[43my\u001b[49m\u001b[43m,\u001b[49m\u001b[43m \u001b[49m\u001b[43mcat_features\u001b[49m\u001b[43m,\u001b[49m\u001b[43m \u001b[49m\u001b[43mtext_features\u001b[49m\u001b[43m,\u001b[49m\u001b[43m \u001b[49m\u001b[43membedding_features\u001b[49m\u001b[43m,\u001b[49m\u001b[43m \u001b[49m\u001b[43mpairs\u001b[49m\u001b[43m,\u001b[49m\u001b[43m \u001b[49m\u001b[43mgraph\u001b[49m\u001b[43m,\u001b[49m\n\u001b[0;32m   2276\u001b[0m \u001b[43m                               \u001b[49m\u001b[43msample_weight\u001b[49m\u001b[43m,\u001b[49m\u001b[43m \u001b[49m\u001b[43mgroup_id\u001b[49m\u001b[43m,\u001b[49m\u001b[43m \u001b[49m\u001b[43mgroup_weight\u001b[49m\u001b[43m,\u001b[49m\u001b[43m \u001b[49m\u001b[43msubgroup_id\u001b[49m\u001b[43m,\u001b[49m\u001b[43m \u001b[49m\u001b[43mpairs_weight\u001b[49m\u001b[43m,\u001b[49m\n\u001b[0;32m   2277\u001b[0m \u001b[43m                               \u001b[49m\u001b[43mbaseline\u001b[49m\u001b[43m,\u001b[49m\u001b[43m \u001b[49m\u001b[43mcolumn_description\u001b[49m\u001b[43m)\u001b[49m\n\u001b[0;32m   2278\u001b[0m \u001b[38;5;28;01mif\u001b[39;00m train_pool\u001b[38;5;241m.\u001b[39mis_empty_:\n\u001b[0;32m   2279\u001b[0m     \u001b[38;5;28;01mraise\u001b[39;00m CatBoostError(\u001b[38;5;124m\"\u001b[39m\u001b[38;5;124mX is empty.\u001b[39m\u001b[38;5;124m\"\u001b[39m)\n",
            "File \u001b[1;32mc:\\Users\\Pong\\anaconda3\\envs\\chocolate\\lib\\site-packages\\catboost\\core.py:1513\u001b[0m, in \u001b[0;36m_build_train_pool\u001b[1;34m(X, y, cat_features, text_features, embedding_features, pairs, graph, sample_weight, group_id, group_weight, subgroup_id, pairs_weight, baseline, column_description)\u001b[0m\n\u001b[0;32m   1511\u001b[0m     \u001b[38;5;28;01mif\u001b[39;00m y \u001b[38;5;129;01mis\u001b[39;00m \u001b[38;5;28;01mNone\u001b[39;00m:\n\u001b[0;32m   1512\u001b[0m         \u001b[38;5;28;01mraise\u001b[39;00m CatBoostError(\u001b[38;5;124m\"\u001b[39m\u001b[38;5;124my has not initialized in fit(): X is not catboost.Pool object, y must be not None in fit().\u001b[39m\u001b[38;5;124m\"\u001b[39m)\n\u001b[1;32m-> 1513\u001b[0m     train_pool \u001b[38;5;241m=\u001b[39m \u001b[43mPool\u001b[49m\u001b[43m(\u001b[49m\u001b[43mX\u001b[49m\u001b[43m,\u001b[49m\u001b[43m \u001b[49m\u001b[43my\u001b[49m\u001b[43m,\u001b[49m\u001b[43m \u001b[49m\u001b[43mcat_features\u001b[49m\u001b[38;5;241;43m=\u001b[39;49m\u001b[43mcat_features\u001b[49m\u001b[43m,\u001b[49m\u001b[43m \u001b[49m\u001b[43mtext_features\u001b[49m\u001b[38;5;241;43m=\u001b[39;49m\u001b[43mtext_features\u001b[49m\u001b[43m,\u001b[49m\u001b[43m \u001b[49m\u001b[43membedding_features\u001b[49m\u001b[38;5;241;43m=\u001b[39;49m\u001b[43membedding_features\u001b[49m\u001b[43m,\u001b[49m\u001b[43m \u001b[49m\u001b[43mpairs\u001b[49m\u001b[38;5;241;43m=\u001b[39;49m\u001b[43mpairs\u001b[49m\u001b[43m,\u001b[49m\u001b[43m \u001b[49m\u001b[43mgraph\u001b[49m\u001b[38;5;241;43m=\u001b[39;49m\u001b[43mgraph\u001b[49m\u001b[43m,\u001b[49m\u001b[43m \u001b[49m\u001b[43mweight\u001b[49m\u001b[38;5;241;43m=\u001b[39;49m\u001b[43msample_weight\u001b[49m\u001b[43m,\u001b[49m\u001b[43m \u001b[49m\u001b[43mgroup_id\u001b[49m\u001b[38;5;241;43m=\u001b[39;49m\u001b[43mgroup_id\u001b[49m\u001b[43m,\u001b[49m\n\u001b[0;32m   1514\u001b[0m \u001b[43m                      \u001b[49m\u001b[43mgroup_weight\u001b[49m\u001b[38;5;241;43m=\u001b[39;49m\u001b[43mgroup_weight\u001b[49m\u001b[43m,\u001b[49m\u001b[43m \u001b[49m\u001b[43msubgroup_id\u001b[49m\u001b[38;5;241;43m=\u001b[39;49m\u001b[43msubgroup_id\u001b[49m\u001b[43m,\u001b[49m\u001b[43m \u001b[49m\u001b[43mpairs_weight\u001b[49m\u001b[38;5;241;43m=\u001b[39;49m\u001b[43mpairs_weight\u001b[49m\u001b[43m,\u001b[49m\u001b[43m \u001b[49m\u001b[43mbaseline\u001b[49m\u001b[38;5;241;43m=\u001b[39;49m\u001b[43mbaseline\u001b[49m\u001b[43m)\u001b[49m\n\u001b[0;32m   1515\u001b[0m \u001b[38;5;28;01mreturn\u001b[39;00m train_pool\n",
            "File \u001b[1;32mc:\\Users\\Pong\\anaconda3\\envs\\chocolate\\lib\\site-packages\\catboost\\core.py:855\u001b[0m, in \u001b[0;36mPool.__init__\u001b[1;34m(self, data, label, cat_features, text_features, embedding_features, embedding_features_data, column_description, pairs, graph, delimiter, has_header, ignore_csv_quoting, weight, group_id, group_weight, subgroup_id, pairs_weight, baseline, timestamp, feature_names, feature_tags, thread_count, log_cout, log_cerr, data_can_be_none)\u001b[0m\n\u001b[0;32m    849\u001b[0m         \u001b[38;5;28;01mif\u001b[39;00m \u001b[38;5;28misinstance\u001b[39m(feature_names, PATH_TYPES):\n\u001b[0;32m    850\u001b[0m             \u001b[38;5;28;01mraise\u001b[39;00m CatBoostError(\n\u001b[0;32m    851\u001b[0m                 \u001b[38;5;124m\"\u001b[39m\u001b[38;5;124mfeature_names must be None or have non-string type when the pool is created from \u001b[39m\u001b[38;5;124m\"\u001b[39m\n\u001b[0;32m    852\u001b[0m                 \u001b[38;5;124m\"\u001b[39m\u001b[38;5;124mpython objects.\u001b[39m\u001b[38;5;124m\"\u001b[39m\n\u001b[0;32m    853\u001b[0m             )\n\u001b[1;32m--> 855\u001b[0m         \u001b[38;5;28;43mself\u001b[39;49m\u001b[38;5;241;43m.\u001b[39;49m\u001b[43m_init\u001b[49m\u001b[43m(\u001b[49m\u001b[43mdata\u001b[49m\u001b[43m,\u001b[49m\u001b[43m \u001b[49m\u001b[43mlabel\u001b[49m\u001b[43m,\u001b[49m\u001b[43m \u001b[49m\u001b[43mcat_features\u001b[49m\u001b[43m,\u001b[49m\u001b[43m \u001b[49m\u001b[43mtext_features\u001b[49m\u001b[43m,\u001b[49m\u001b[43m \u001b[49m\u001b[43membedding_features\u001b[49m\u001b[43m,\u001b[49m\u001b[43m \u001b[49m\u001b[43membedding_features_data\u001b[49m\u001b[43m,\u001b[49m\u001b[43m \u001b[49m\u001b[43mpairs\u001b[49m\u001b[43m,\u001b[49m\u001b[43m \u001b[49m\u001b[43mgraph\u001b[49m\u001b[43m,\u001b[49m\u001b[43m \u001b[49m\u001b[43mweight\u001b[49m\u001b[43m,\u001b[49m\n\u001b[0;32m    856\u001b[0m \u001b[43m                   \u001b[49m\u001b[43mgroup_id\u001b[49m\u001b[43m,\u001b[49m\u001b[43m \u001b[49m\u001b[43mgroup_weight\u001b[49m\u001b[43m,\u001b[49m\u001b[43m \u001b[49m\u001b[43msubgroup_id\u001b[49m\u001b[43m,\u001b[49m\u001b[43m \u001b[49m\u001b[43mpairs_weight\u001b[49m\u001b[43m,\u001b[49m\u001b[43m \u001b[49m\u001b[43mbaseline\u001b[49m\u001b[43m,\u001b[49m\u001b[43m \u001b[49m\u001b[43mtimestamp\u001b[49m\u001b[43m,\u001b[49m\u001b[43m \u001b[49m\u001b[43mfeature_names\u001b[49m\u001b[43m,\u001b[49m\u001b[43m \u001b[49m\u001b[43mfeature_tags\u001b[49m\u001b[43m,\u001b[49m\u001b[43m \u001b[49m\u001b[43mthread_count\u001b[49m\u001b[43m)\u001b[49m\n\u001b[0;32m    857\u001b[0m \u001b[38;5;28;01melif\u001b[39;00m \u001b[38;5;129;01mnot\u001b[39;00m data_can_be_none:\n\u001b[0;32m    858\u001b[0m     \u001b[38;5;28;01mraise\u001b[39;00m CatBoostError(\u001b[38;5;124m\"\u001b[39m\u001b[38;5;124m'\u001b[39m\u001b[38;5;124mdata\u001b[39m\u001b[38;5;124m'\u001b[39m\u001b[38;5;124m parameter can\u001b[39m\u001b[38;5;124m'\u001b[39m\u001b[38;5;124mt be None\u001b[39m\u001b[38;5;124m\"\u001b[39m)\n",
            "File \u001b[1;32mc:\\Users\\Pong\\anaconda3\\envs\\chocolate\\lib\\site-packages\\catboost\\core.py:1491\u001b[0m, in \u001b[0;36mPool._init\u001b[1;34m(self, data, label, cat_features, text_features, embedding_features, embedding_features_data, pairs, graph, weight, group_id, group_weight, subgroup_id, pairs_weight, baseline, timestamp, feature_names, feature_tags, thread_count)\u001b[0m\n\u001b[0;32m   1489\u001b[0m \u001b[38;5;28;01mif\u001b[39;00m feature_tags \u001b[38;5;129;01mis\u001b[39;00m \u001b[38;5;129;01mnot\u001b[39;00m \u001b[38;5;28;01mNone\u001b[39;00m:\n\u001b[0;32m   1490\u001b[0m     feature_tags \u001b[38;5;241m=\u001b[39m \u001b[38;5;28mself\u001b[39m\u001b[38;5;241m.\u001b[39m_check_transform_tags(feature_tags, feature_names)\n\u001b[1;32m-> 1491\u001b[0m \u001b[38;5;28;43mself\u001b[39;49m\u001b[38;5;241;43m.\u001b[39;49m\u001b[43m_init_pool\u001b[49m\u001b[43m(\u001b[49m\u001b[43mdata\u001b[49m\u001b[43m,\u001b[49m\u001b[43m \u001b[49m\u001b[43mlabel\u001b[49m\u001b[43m,\u001b[49m\u001b[43m \u001b[49m\u001b[43mcat_features\u001b[49m\u001b[43m,\u001b[49m\u001b[43m \u001b[49m\u001b[43mtext_features\u001b[49m\u001b[43m,\u001b[49m\u001b[43m \u001b[49m\u001b[43membedding_features\u001b[49m\u001b[43m,\u001b[49m\u001b[43m \u001b[49m\u001b[43membedding_features_data\u001b[49m\u001b[43m,\u001b[49m\u001b[43m \u001b[49m\u001b[43mpairs\u001b[49m\u001b[43m,\u001b[49m\u001b[43m \u001b[49m\u001b[43mgraph\u001b[49m\u001b[43m,\u001b[49m\u001b[43m \u001b[49m\u001b[43mweight\u001b[49m\u001b[43m,\u001b[49m\n\u001b[0;32m   1492\u001b[0m \u001b[43m                \u001b[49m\u001b[43mgroup_id\u001b[49m\u001b[43m,\u001b[49m\u001b[43m \u001b[49m\u001b[43mgroup_weight\u001b[49m\u001b[43m,\u001b[49m\u001b[43m \u001b[49m\u001b[43msubgroup_id\u001b[49m\u001b[43m,\u001b[49m\u001b[43m \u001b[49m\u001b[43mpairs_weight\u001b[49m\u001b[43m,\u001b[49m\u001b[43m \u001b[49m\u001b[43mbaseline\u001b[49m\u001b[43m,\u001b[49m\u001b[43m \u001b[49m\u001b[43mtimestamp\u001b[49m\u001b[43m,\u001b[49m\u001b[43m \u001b[49m\u001b[43mfeature_names\u001b[49m\u001b[43m,\u001b[49m\u001b[43m \u001b[49m\u001b[43mfeature_tags\u001b[49m\u001b[43m,\u001b[49m\u001b[43m \u001b[49m\u001b[43mthread_count\u001b[49m\u001b[43m)\u001b[49m\n",
            "File \u001b[1;32m_catboost.pyx:4339\u001b[0m, in \u001b[0;36m_catboost._PoolBase._init_pool\u001b[1;34m()\u001b[0m\n",
            "File \u001b[1;32m_catboost.pyx:4391\u001b[0m, in \u001b[0;36m_catboost._PoolBase._init_pool\u001b[1;34m()\u001b[0m\n",
            "File \u001b[1;32m_catboost.pyx:4200\u001b[0m, in \u001b[0;36m_catboost._PoolBase._init_features_order_layout_pool\u001b[1;34m()\u001b[0m\n",
            "File \u001b[1;32m_catboost.pyx:3127\u001b[0m, in \u001b[0;36m_catboost._set_features_order_data_pd_data_frame\u001b[1;34m()\u001b[0m\n",
            "File \u001b[1;32m_catboost.pyx:2591\u001b[0m, in \u001b[0;36m_catboost.create_num_factor_data\u001b[1;34m()\u001b[0m\n",
            "File \u001b[1;32m_catboost.pyx:2549\u001b[0m, in \u001b[0;36m_catboost.get_float_feature\u001b[1;34m()\u001b[0m\n",
            "\u001b[1;31mCatBoostError\u001b[0m: Bad value for num_feature[non_default_doc_idx=0,feature_idx=2]=\"U.S.A.\": Cannot convert 'b'U.S.A.'' to float"
          ]
        }
      ],
      "source": [
        "# Какао - флоат, удалены пропуски + рейтинг от 1.5 до 5 + без специфик бин ориджин - 0.19590 глубина - 2 кол-во деревьев - 104\n",
        "# Какао - флоат, удалены пропуски + рейтинг от 1.5 до 5 + без специфик бин ориджин + без Ревью - глубина - 2 кол-во деревьев - 104\n",
        "def objective(trial):\n",
        "\n",
        "    max_depth = trial.suggest_int(\"max_depth\", 2, 16)\n",
        "    n_estimators = trial.suggest_int(\"n_estimators\", 10, 1000)\n",
        "\n",
        "    estimator = CatBoostRegressor(cat_features = cat_features, max_depth = max_depth, n_estimators=n_estimators, random_state=42, verbose=2)\n",
        "\n",
        "    estimator.fit(Xtrain, ytrain)\n",
        "    pred = estimator.predict(Xtest)\n",
        "\n",
        "    return r2_score(ytest, pred)\n",
        "\n",
        "study = optuna.create_study(direction=\"maximize\")\n",
        "study.optimize(objective, n_trials=50)\n",
        "print(study.best_trial)"
      ]
    },
    {
      "cell_type": "code",
      "execution_count": null,
      "metadata": {
        "colab": {
          "base_uri": "https://localhost:8080/"
        },
        "id": "d0WQfydrLhyn",
        "outputId": "9b6701f5-9633-46f7-c6e5-2e49067245f7"
      },
      "outputs": [
        {
          "data": {
            "text/plain": [
              "{'max_depth': 2, 'n_estimators': 104}"
            ]
          },
          "execution_count": 133,
          "metadata": {},
          "output_type": "execute_result"
        }
      ],
      "source": [
        "study.best_params"
      ]
    },
    {
      "cell_type": "markdown",
      "metadata": {
        "id": "6arZFIobOWxl"
      },
      "source": [
        "Делаю обработку и предсказания на тестовых данных"
      ]
    },
    {
      "cell_type": "code",
      "execution_count": null,
      "metadata": {
        "id": "hyhqFSwNLp1z"
      },
      "outputs": [],
      "source": [
        "test_data = pd.read_csv(TEST)"
      ]
    },
    {
      "cell_type": "code",
      "execution_count": null,
      "metadata": {
        "colab": {
          "base_uri": "https://localhost:8080/"
        },
        "id": "ed0yTZt30Bd2",
        "outputId": "af6b7c4d-e0d2-4c87-c2c2-b2b357f8a428"
      },
      "outputs": [
        {
          "name": "stdout",
          "output_type": "stream",
          "text": [
            "Company 0\n",
            "REF 0\n",
            "Review 0\n",
            "Cocoa Percent 0\n",
            "Company Location 0\n",
            "Bean Type 259\n",
            "Broad Bean Origin 18\n",
            "id 0\n",
            "Rating 0\n"
          ]
        }
      ],
      "source": [
        "for c in test_data.columns:\n",
        "    print(c, len(test_data[test_data[c] == '\\xa0']))"
      ]
    },
    {
      "cell_type": "code",
      "execution_count": null,
      "metadata": {
        "id": "Kd3KzZO5npzy"
      },
      "outputs": [],
      "source": [
        "test_data.drop(['Specific Bean Origin', 'Review'], axis = 1, inplace = True)"
      ]
    },
    {
      "cell_type": "code",
      "execution_count": null,
      "metadata": {
        "id": "xKG5rJfo6pE4"
      },
      "outputs": [],
      "source": [
        "test_data['Cocoa Percent'] = test_data['Cocoa Percent'].apply(lambda x: float(x[0:-1]))"
      ]
    },
    {
      "cell_type": "code",
      "execution_count": null,
      "metadata": {
        "id": "JsoaptxtLzLH"
      },
      "outputs": [],
      "source": [
        "test_data.drop(['Company Location', 'Review', 'REF'], axis = 1, inplace = True)\n",
        "test_data['Cocoa Percent'] = test_data['Cocoa Percent'].apply(lambda x: float(x[0:-1]))\n",
        "test_data['Cocoa Percent'] = test_data['Cocoa Percent'].replace(np.arange(90, 100.5, 0.5), 'Ultra Dark')\n",
        "test_data['Cocoa Percent'] = test_data['Cocoa Percent'].replace(np.arange(70, 90, 0.5), 'Bitter')\n",
        "test_data['Cocoa Percent'] = test_data['Cocoa Percent'].replace(np.arange(53, 70, 0.5), 'Dark')\n",
        "test_data['Cocoa Percent'] = test_data['Cocoa Percent'].replace(np.arange(0, 53, 0.5), 'Milk')\n"
      ]
    },
    {
      "cell_type": "code",
      "execution_count": null,
      "metadata": {
        "id": "m5-BMBxtPCur"
      },
      "outputs": [],
      "source": [
        "test_data['Broad Bean Origin'] = test_data['Broad Bean Origin'].apply(lambda x: 'Combined' if len(x.split(\", \")) >= 2 or len(x.split(\"., \")) >= 2 else x)"
      ]
    },
    {
      "cell_type": "code",
      "execution_count": null,
      "metadata": {
        "id": "LvbAxDdXcoyA"
      },
      "outputs": [],
      "source": [
        "test_data['Broad Bean Origin'] = test_data['Broad Bean Origin'].replace('\\xa0', 'Venezuela')"
      ]
    },
    {
      "cell_type": "code",
      "execution_count": null,
      "metadata": {
        "colab": {
          "base_uri": "https://localhost:8080/"
        },
        "id": "qSkzLKc_MiIY",
        "outputId": "44322522-302e-4abb-bdd6-24a36f3baa1c"
      },
      "outputs": [
        {
          "name": "stdout",
          "output_type": "stream",
          "text": [
            "<class 'pandas.core.frame.DataFrame'>\n",
            "RangeIndex: 540 entries, 0 to 539\n",
            "Data columns (total 7 columns):\n",
            " #   Column             Non-Null Count  Dtype  \n",
            "---  ------             --------------  -----  \n",
            " 0   Company            540 non-null    object \n",
            " 1   REF                540 non-null    int64  \n",
            " 2   Review             540 non-null    int64  \n",
            " 3   Cocoa Percent      540 non-null    float64\n",
            " 4   Company Location   540 non-null    object \n",
            " 5   Bean Type          540 non-null    object \n",
            " 6   Broad Bean Origin  540 non-null    object \n",
            "dtypes: float64(1), int64(2), object(4)\n",
            "memory usage: 29.7+ KB\n"
          ]
        }
      ],
      "source": [
        "test_data.info()"
      ]
    },
    {
      "cell_type": "code",
      "execution_count": null,
      "metadata": {
        "id": "B_KAXfGfMmb7"
      },
      "outputs": [],
      "source": [
        "model = CatBoostRegressor(cat_features=cat_features, max_depth=2, n_estimators=104)"
      ]
    },
    {
      "cell_type": "code",
      "execution_count": null,
      "metadata": {
        "colab": {
          "base_uri": "https://localhost:8080/"
        },
        "id": "NjPe5UNT4cLl",
        "outputId": "11576489-c534-402e-e3e9-5fc8f88c9018"
      },
      "outputs": [
        {
          "name": "stdout",
          "output_type": "stream",
          "text": [
            "Learning rate set to 0.266776\n",
            "0:\tlearn: 0.4415065\ttotal: 785us\tremaining: 80.9ms\n",
            "1:\tlearn: 0.4333348\ttotal: 1.88ms\tremaining: 95.8ms\n",
            "2:\tlearn: 0.4286914\ttotal: 2.71ms\tremaining: 91.3ms\n",
            "3:\tlearn: 0.4252437\ttotal: 3.51ms\tremaining: 87.7ms\n",
            "4:\tlearn: 0.4225943\ttotal: 4.31ms\tremaining: 85.3ms\n",
            "5:\tlearn: 0.4191410\ttotal: 5.11ms\tremaining: 83.5ms\n",
            "6:\tlearn: 0.4182469\ttotal: 5.89ms\tremaining: 81.6ms\n",
            "7:\tlearn: 0.4163316\ttotal: 6.67ms\tremaining: 80.1ms\n",
            "8:\tlearn: 0.4136144\ttotal: 7.46ms\tremaining: 78.7ms\n",
            "9:\tlearn: 0.4127490\ttotal: 8.24ms\tremaining: 77.4ms\n",
            "10:\tlearn: 0.4120070\ttotal: 9.01ms\tremaining: 76.2ms\n",
            "11:\tlearn: 0.4107505\ttotal: 9.88ms\tremaining: 75.7ms\n",
            "12:\tlearn: 0.4105891\ttotal: 10.6ms\tremaining: 74.3ms\n",
            "13:\tlearn: 0.4095513\ttotal: 11.4ms\tremaining: 73.5ms\n",
            "14:\tlearn: 0.4077222\ttotal: 12.2ms\tremaining: 72.5ms\n",
            "15:\tlearn: 0.4065758\ttotal: 13ms\tremaining: 71.6ms\n",
            "16:\tlearn: 0.4058703\ttotal: 13.8ms\tremaining: 70.5ms\n",
            "17:\tlearn: 0.4045839\ttotal: 14.5ms\tremaining: 69.5ms\n",
            "18:\tlearn: 0.4041512\ttotal: 15.3ms\tremaining: 68.5ms\n",
            "19:\tlearn: 0.4036316\ttotal: 16.1ms\tremaining: 67.6ms\n",
            "20:\tlearn: 0.4034076\ttotal: 16.9ms\tremaining: 66.6ms\n",
            "21:\tlearn: 0.4026705\ttotal: 17.6ms\tremaining: 65.5ms\n",
            "22:\tlearn: 0.4024190\ttotal: 18.3ms\tremaining: 64.6ms\n",
            "23:\tlearn: 0.4017734\ttotal: 19.1ms\tremaining: 63.7ms\n",
            "24:\tlearn: 0.4006556\ttotal: 19.9ms\tremaining: 62.8ms\n",
            "25:\tlearn: 0.3996042\ttotal: 20.6ms\tremaining: 61.9ms\n",
            "26:\tlearn: 0.3994350\ttotal: 21.4ms\tremaining: 61ms\n",
            "27:\tlearn: 0.3987239\ttotal: 22.2ms\tremaining: 60.1ms\n",
            "28:\tlearn: 0.3978270\ttotal: 22.9ms\tremaining: 59.2ms\n",
            "29:\tlearn: 0.3975476\ttotal: 23.4ms\tremaining: 57.7ms\n",
            "30:\tlearn: 0.3968468\ttotal: 24.2ms\tremaining: 56.9ms\n",
            "31:\tlearn: 0.3963891\ttotal: 24.9ms\tremaining: 56ms\n",
            "32:\tlearn: 0.3961084\ttotal: 25.7ms\tremaining: 55.3ms\n",
            "33:\tlearn: 0.3959227\ttotal: 26.4ms\tremaining: 54.5ms\n",
            "34:\tlearn: 0.3952807\ttotal: 27.2ms\tremaining: 53.7ms\n",
            "35:\tlearn: 0.3948420\ttotal: 28ms\tremaining: 52.9ms\n",
            "36:\tlearn: 0.3946111\ttotal: 28.7ms\tremaining: 52ms\n",
            "37:\tlearn: 0.3942614\ttotal: 29.4ms\tremaining: 51.1ms\n",
            "38:\tlearn: 0.3939134\ttotal: 30.2ms\tremaining: 50.3ms\n",
            "39:\tlearn: 0.3933838\ttotal: 31ms\tremaining: 49.5ms\n",
            "40:\tlearn: 0.3931434\ttotal: 31.8ms\tremaining: 48.9ms\n",
            "41:\tlearn: 0.3927226\ttotal: 32.6ms\tremaining: 48.1ms\n",
            "42:\tlearn: 0.3923396\ttotal: 33.4ms\tremaining: 47.3ms\n",
            "43:\tlearn: 0.3921945\ttotal: 34.1ms\tremaining: 46.5ms\n",
            "44:\tlearn: 0.3921156\ttotal: 34.9ms\tremaining: 45.7ms\n",
            "45:\tlearn: 0.3918005\ttotal: 35.6ms\tremaining: 44.9ms\n",
            "46:\tlearn: 0.3916635\ttotal: 36.4ms\tremaining: 44.1ms\n",
            "47:\tlearn: 0.3912855\ttotal: 37.2ms\tremaining: 43.4ms\n",
            "48:\tlearn: 0.3902350\ttotal: 37.9ms\tremaining: 42.6ms\n",
            "49:\tlearn: 0.3901456\ttotal: 38.7ms\tremaining: 41.8ms\n",
            "50:\tlearn: 0.3900102\ttotal: 39.5ms\tremaining: 41ms\n",
            "51:\tlearn: 0.3898719\ttotal: 40.2ms\tremaining: 40.2ms\n",
            "52:\tlearn: 0.3896510\ttotal: 40.9ms\tremaining: 39.4ms\n",
            "53:\tlearn: 0.3895317\ttotal: 41.7ms\tremaining: 38.6ms\n",
            "54:\tlearn: 0.3894766\ttotal: 42.4ms\tremaining: 37.8ms\n",
            "55:\tlearn: 0.3885343\ttotal: 43.4ms\tremaining: 37.2ms\n",
            "56:\tlearn: 0.3884539\ttotal: 44.1ms\tremaining: 36.3ms\n",
            "57:\tlearn: 0.3883553\ttotal: 44.8ms\tremaining: 35.5ms\n",
            "58:\tlearn: 0.3881181\ttotal: 45.5ms\tremaining: 34.7ms\n",
            "59:\tlearn: 0.3879408\ttotal: 46.5ms\tremaining: 34.1ms\n",
            "60:\tlearn: 0.3878918\ttotal: 47.3ms\tremaining: 33.4ms\n",
            "61:\tlearn: 0.3872791\ttotal: 48.1ms\tremaining: 32.6ms\n",
            "62:\tlearn: 0.3871628\ttotal: 48.7ms\tremaining: 31.7ms\n",
            "63:\tlearn: 0.3864192\ttotal: 49.2ms\tremaining: 30.8ms\n",
            "64:\tlearn: 0.3858683\ttotal: 49.9ms\tremaining: 29.9ms\n",
            "65:\tlearn: 0.3857384\ttotal: 50.6ms\tremaining: 29.2ms\n",
            "66:\tlearn: 0.3848035\ttotal: 51.4ms\tremaining: 28.4ms\n",
            "67:\tlearn: 0.3844653\ttotal: 52.4ms\tremaining: 27.8ms\n",
            "68:\tlearn: 0.3843796\ttotal: 53.2ms\tremaining: 27ms\n",
            "69:\tlearn: 0.3843557\ttotal: 53.9ms\tremaining: 26.2ms\n",
            "70:\tlearn: 0.3840539\ttotal: 54.7ms\tremaining: 25.4ms\n",
            "71:\tlearn: 0.3838430\ttotal: 55.3ms\tremaining: 24.6ms\n",
            "72:\tlearn: 0.3834980\ttotal: 56ms\tremaining: 23.8ms\n",
            "73:\tlearn: 0.3830390\ttotal: 56.7ms\tremaining: 23ms\n",
            "74:\tlearn: 0.3829593\ttotal: 57.4ms\tremaining: 22.2ms\n",
            "75:\tlearn: 0.3828052\ttotal: 58.1ms\tremaining: 21.4ms\n",
            "76:\tlearn: 0.3827237\ttotal: 58.8ms\tremaining: 20.6ms\n",
            "77:\tlearn: 0.3821282\ttotal: 59.5ms\tremaining: 19.8ms\n",
            "78:\tlearn: 0.3820850\ttotal: 60.3ms\tremaining: 19.1ms\n",
            "79:\tlearn: 0.3818564\ttotal: 61.1ms\tremaining: 18.3ms\n",
            "80:\tlearn: 0.3816975\ttotal: 61.8ms\tremaining: 17.6ms\n",
            "81:\tlearn: 0.3816974\ttotal: 62.6ms\tremaining: 16.8ms\n",
            "82:\tlearn: 0.3815954\ttotal: 63.3ms\tremaining: 16ms\n",
            "83:\tlearn: 0.3815584\ttotal: 64ms\tremaining: 15.2ms\n",
            "84:\tlearn: 0.3814859\ttotal: 64.8ms\tremaining: 14.5ms\n",
            "85:\tlearn: 0.3814579\ttotal: 65.6ms\tremaining: 13.7ms\n",
            "86:\tlearn: 0.3814231\ttotal: 66.3ms\tremaining: 13ms\n",
            "87:\tlearn: 0.3813904\ttotal: 67.1ms\tremaining: 12.2ms\n",
            "88:\tlearn: 0.3813728\ttotal: 67.8ms\tremaining: 11.4ms\n",
            "89:\tlearn: 0.3813217\ttotal: 68.6ms\tremaining: 10.7ms\n",
            "90:\tlearn: 0.3810559\ttotal: 69.3ms\tremaining: 9.9ms\n",
            "91:\tlearn: 0.3805457\ttotal: 70.1ms\tremaining: 9.14ms\n",
            "92:\tlearn: 0.3800125\ttotal: 70.8ms\tremaining: 8.38ms\n",
            "93:\tlearn: 0.3799322\ttotal: 71.6ms\tremaining: 7.62ms\n",
            "94:\tlearn: 0.3798370\ttotal: 72.4ms\tremaining: 6.86ms\n",
            "95:\tlearn: 0.3796243\ttotal: 73.1ms\tremaining: 6.09ms\n",
            "96:\tlearn: 0.3795603\ttotal: 73.9ms\tremaining: 5.33ms\n",
            "97:\tlearn: 0.3795102\ttotal: 74.6ms\tremaining: 4.57ms\n",
            "98:\tlearn: 0.3791306\ttotal: 75.4ms\tremaining: 3.81ms\n",
            "99:\tlearn: 0.3787452\ttotal: 76.2ms\tremaining: 3.05ms\n",
            "100:\tlearn: 0.3786638\ttotal: 76.9ms\tremaining: 2.29ms\n",
            "101:\tlearn: 0.3784857\ttotal: 77.7ms\tremaining: 1.52ms\n",
            "102:\tlearn: 0.3777960\ttotal: 78.5ms\tremaining: 761us\n",
            "103:\tlearn: 0.3776502\ttotal: 79.3ms\tremaining: 0us\n"
          ]
        },
        {
          "data": {
            "text/plain": [
              "<catboost.core.CatBoostRegressor at 0x783999688400>"
            ]
          },
          "execution_count": 144,
          "metadata": {},
          "output_type": "execute_result"
        }
      ],
      "source": [
        "model.fit(X, y)"
      ]
    },
    {
      "cell_type": "markdown",
      "metadata": {
        "id": "UZmGeQUOyWkL"
      },
      "source": [
        "Делаем предсказание"
      ]
    },
    {
      "cell_type": "code",
      "execution_count": null,
      "metadata": {
        "id": "B5FVzK3KrYDM"
      },
      "outputs": [],
      "source": [
        "pred = model.predict(test_data)"
      ]
    },
    {
      "cell_type": "code",
      "execution_count": null,
      "metadata": {
        "colab": {
          "base_uri": "https://localhost:8080/"
        },
        "id": "nJBuwl3iXHJP",
        "outputId": "aebb3dc6-7322-4989-8c36-d2e3bbcd9bf6"
      },
      "outputs": [
        {
          "name": "stdout",
          "output_type": "stream",
          "text": [
            "Company 38.585501310548906\n",
            "REF 14.971301882778887\n",
            "Review 1.9738462567034936\n",
            "Cocoa Percent 24.959366645755523\n",
            "Company Location 7.328523846809313\n",
            "Bean Type 6.6814977656849095\n",
            "Broad Bean Origin 5.499962291718944\n"
          ]
        }
      ],
      "source": [
        "for i,j in zip(model.feature_names_, model.feature_importances_):\n",
        "  print(i, j)"
      ]
    },
    {
      "cell_type": "markdown",
      "metadata": {
        "id": "ZLqUnP6IyZ7e"
      },
      "source": [
        "Сохраняем предсказание в файл в нужном формате"
      ]
    },
    {
      "cell_type": "code",
      "execution_count": null,
      "metadata": {
        "id": "2VSWIf46ycv7"
      },
      "outputs": [],
      "source": [
        "test_data['id'] = np.arange(len(test_data))\n",
        "test_data['Rating'] = pred\n",
        "\n",
        "test_data[['id','Rating']].to_csv(\"baseline_submission_9.csv\", index=False)"
      ]
    }
  ],
  "metadata": {
    "colab": {
      "provenance": []
    },
    "kernelspec": {
      "display_name": "chocolate",
      "language": "python",
      "name": "python3"
    },
    "language_info": {
      "codemirror_mode": {
        "name": "ipython",
        "version": 3
      },
      "file_extension": ".py",
      "mimetype": "text/x-python",
      "name": "python",
      "nbconvert_exporter": "python",
      "pygments_lexer": "ipython3",
      "version": "3.9.22"
    }
  },
  "nbformat": 4,
  "nbformat_minor": 0
}
