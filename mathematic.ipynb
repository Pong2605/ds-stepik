{
 "cells": [
  {
   "cell_type": "markdown",
   "metadata": {},
   "source": [
    "# Предел функции"
   ]
  },
  {
   "cell_type": "code",
   "execution_count": 5,
   "metadata": {},
   "outputs": [
    {
     "name": "stdout",
     "output_type": "stream",
     "text": [
      "1.0517091807564771\n",
      "1.005016708416795\n",
      "1.0005001667083846\n",
      "1.0005001667083846\n",
      "1.000050001667141\n",
      "\n",
      "0.9516258196404048\n",
      "0.9950166250831893\n",
      "0.9995001666249781\n",
      "0.9995001666249781\n",
      "0.9999500016666385\n"
     ]
    }
   ],
   "source": [
    "from math import exp\n",
    "\n",
    "def f(x):\n",
    "    return (exp(x) - 1) / x\n",
    "\n",
    "x0 = 0\n",
    "\n",
    "dx_list = [0.1, 0.01, 0.001, 0.001, 0.0001]\n",
    "\n",
    "for dx in dx_list:\n",
    "    print(f(x0 + dx))\n",
    "\n",
    "print()\n",
    "\n",
    "for dx in dx_list:\n",
    "    print(f(x0 - dx))\n",
    "\n",
    "# Функция при x = 0 стремится к 1"
   ]
  },
  {
   "cell_type": "markdown",
   "metadata": {},
   "source": [
    "# Производная функции"
   ]
  },
  {
   "cell_type": "code",
   "execution_count": null,
   "metadata": {},
   "outputs": [],
   "source": []
  },
  {
   "cell_type": "code",
   "execution_count": null,
   "metadata": {},
   "outputs": [],
   "source": []
  },
  {
   "cell_type": "code",
   "execution_count": null,
   "metadata": {},
   "outputs": [],
   "source": []
  },
  {
   "cell_type": "code",
   "execution_count": null,
   "metadata": {},
   "outputs": [],
   "source": []
  },
  {
   "cell_type": "code",
   "execution_count": null,
   "metadata": {},
   "outputs": [],
   "source": []
  }
 ],
 "metadata": {
  "kernelspec": {
   "display_name": "base",
   "language": "python",
   "name": "python3"
  },
  "language_info": {
   "codemirror_mode": {
    "name": "ipython",
    "version": 3
   },
   "file_extension": ".py",
   "mimetype": "text/x-python",
   "name": "python",
   "nbconvert_exporter": "python",
   "pygments_lexer": "ipython3",
   "version": "3.11.11"
  }
 },
 "nbformat": 4,
 "nbformat_minor": 2
}
