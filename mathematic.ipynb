{
 "cells": [
  {
   "cell_type": "code",
   "execution_count": 66,
   "metadata": {},
   "outputs": [],
   "source": [
    "import math\n",
    "import numpy as np"
   ]
  },
  {
   "cell_type": "code",
   "execution_count": 67,
   "metadata": {},
   "outputs": [
    {
     "data": {
      "text/plain": [
       "array([ 2, -6,  3])"
      ]
     },
     "execution_count": 67,
     "metadata": {},
     "output_type": "execute_result"
    }
   ],
   "source": [
    "# Даны 2 вектора\n",
    "# Найти 2 * a - 3 * b:\n",
    "a = np.array([1, 0, 3])\n",
    "b = np.array([0, 2, 1])\n",
    "2 * a - 3 * b"
   ]
  },
  {
   "cell_type": "code",
   "execution_count": 68,
   "metadata": {},
   "outputs": [
    {
     "data": {
      "text/plain": [
       "0.008333333333333333"
      ]
     },
     "execution_count": 68,
     "metadata": {},
     "output_type": "execute_result"
    }
   ],
   "source": [
    "# Пятитомное собрание сочинений расположено на полке в случайном порядке. \n",
    "# Какова вероятность того, что книги стоят слева направо в порядке нумерации томов (от 1 до 5)?\n",
    "\n",
    "1 / np.prod(range(1, 6))"
   ]
  },
  {
   "cell_type": "code",
   "execution_count": 69,
   "metadata": {},
   "outputs": [
    {
     "data": {
      "text/plain": [
       "0.8499999999999999"
      ]
     },
     "execution_count": 69,
     "metadata": {},
     "output_type": "execute_result"
    }
   ],
   "source": [
    "# В пирамиде 5 винтовок, три из которых снабжены оптическим прицелом.\n",
    "\n",
    "# Вероятность того, что стрелок поразит мишень при выстреле из винтовки с оптическим прицелом, равна 0,95;\n",
    "# для винтовки без оптического прицела эта вероятность равна 0,7.\n",
    "# Найти вероятность того, что мишень будет поражена, если стрелок производит один выстрел из наудачу взятой винтовки.\n",
    "\n",
    "Pa = 0.95\n",
    "Pb = 0.7\n",
    "\n",
    "a = 3 / 5\n",
    "b = 2 / 5\n",
    "\n",
    "Pa * a + Pb * b"
   ]
  },
  {
   "cell_type": "code",
   "execution_count": 70,
   "metadata": {},
   "outputs": [
    {
     "name": "stdout",
     "output_type": "stream",
     "text": [
      "3.1622776601683795\n",
      "3.1622776601683795\n"
     ]
    }
   ],
   "source": [
    "# Измерение некой величины дало результаты:\n",
    "# 1, 5, 2, 7, 1, 9, 3, 8, 5, 9\n",
    "# Рассчитайте стандартное (среднеквадратическое) отклонение данных выборочных значений.\n",
    "# Не забудьте о необходимости нормировать дисперсию и стандартное отклонение для выборочных (экспериментальных, а не теоретических) значений на степень свободы.\n",
    "\n",
    "a = np.array([1, 5, 2, 7, 1, 9, 3, 8, 5, 9])\n",
    "n = len(a)\n",
    "\n",
    "Sx = np.sqrt(sum(np.square(a - a.mean())) / (n - 1))\n",
    "print(Sx)\n",
    "\n",
    "Sx = np.std(a, ddof=1)\n",
    "print(Sx)"
   ]
  },
  {
   "cell_type": "code",
   "execution_count": 71,
   "metadata": {},
   "outputs": [
    {
     "name": "stdout",
     "output_type": "stream",
     "text": [
      "0.8600000000000001\n",
      "0.372093023255814\n"
     ]
    }
   ],
   "source": [
    "# На склад поступило 2 партии изделий:\n",
    "# первая – 4000 штук,\n",
    "# вторая – 6000 штук.\n",
    "# Средний процент нестандартных изделий в первой партии составляет 20%, а во второй – 10%. \n",
    "# Наудачу взятое со склада изделие оказалось стандартным. \n",
    "# Найти вероятность того, что оно из первой партии.\n",
    "\n",
    "P1 = 4000 / (4000 + 6000)\n",
    "P2 = 6000 / (4000 + 6000)\n",
    "\n",
    "P1_pos = 0.8\n",
    "P2_pos = 0.9\n",
    "\n",
    "P_pos = P1_pos * P1 + P2_pos * P2 # - полная вероятность того, что деталь окажется стандартной без учета принадлежности к конкретной партии\n",
    "print(P_pos)\n",
    "\n",
    "P_pos_1 = P1_pos * P1 / P_pos\n",
    "print(P_pos_1)"
   ]
  },
  {
   "cell_type": "markdown",
   "metadata": {},
   "source": [
    "# 2.2 Математические операции"
   ]
  },
  {
   "cell_type": "code",
   "execution_count": 72,
   "metadata": {},
   "outputs": [
    {
     "name": "stdout",
     "output_type": "stream",
     "text": [
      "15\n",
      "10.825317547305483\n"
     ]
    }
   ],
   "source": [
    "# Даны длины 3 сторон треугольника (каждая с новой строки).\n",
    "\n",
    "a, b, c = 5, 5, 5\n",
    "\n",
    "P = a + b + c # Периметр\n",
    "p = P / 2     # Полупериметр\n",
    "\n",
    "S = (p * (p - a) * (p - b) * (p - c)) ** 0.5 # Формула Герона\n",
    "\n",
    "print(P)\n",
    "print(S)"
   ]
  },
  {
   "cell_type": "code",
   "execution_count": 73,
   "metadata": {},
   "outputs": [
    {
     "name": "stdout",
     "output_type": "stream",
     "text": [
      "11\n",
      "11.4\n",
      "11.375\n"
     ]
    }
   ],
   "source": [
    "# Даны длины 2 диагоналей ромба (каждая с новой строки).\n",
    "# Значения могут быть дробными.\n",
    "\n",
    "# Найдите площадь ромба S. В качестве ответа запишите (каждое с новой строки) следующие значения:\n",
    "# S, приведённое к целочисленному типу\n",
    "# S, округлённое до 1 знака после запятой с помощью функции  round()\n",
    "# S, точное значение без округления\n",
    "\n",
    "a, b = 3.5, 6.5\n",
    "\n",
    "\n",
    "\n",
    "S = a * b / 2\n",
    "\n",
    "print(int(S))\n",
    "print(round(S, 1))\n",
    "print(S)"
   ]
  },
  {
   "cell_type": "code",
   "execution_count": 74,
   "metadata": {},
   "outputs": [
    {
     "name": "stdout",
     "output_type": "stream",
     "text": [
      "34414\n"
     ]
    }
   ],
   "source": [
    "# Нарисован правильный шестиугольник со стороной a.\n",
    "\n",
    "# К 5 сторонам этого шестиугольника снаружи дорисовали по правильному треугольнику.\n",
    "\n",
    "a = 85\n",
    "\n",
    "S3 = ((a * a) * 3 ** 0.5) / 4\n",
    "S6 = (3 * 3 ** 0.5 * (a * a)) / 2\n",
    "\n",
    "S = S6 + 5 * S3\n",
    "print(round(S))"
   ]
  },
  {
   "cell_type": "code",
   "execution_count": 75,
   "metadata": {},
   "outputs": [
    {
     "name": "stdout",
     "output_type": "stream",
     "text": [
      "400\n"
     ]
    }
   ],
   "source": [
    "# На плоскости нарисован правильный шестиугольник с длиной стороны a.\n",
    "\n",
    "# У 3 сторон шестиугольника нарисовали по квадрату с длиной стороны, равной стороне шестиугольника.\n",
    "\n",
    "# Оставшиеся 3 стороны разделили пополам, после чего нарисовали по равностороннему треугольнику, касающемуся каждого из получившихся половинных отрезков.\n",
    "\n",
    "a = 8\n",
    "\n",
    "b = a / 2\n",
    "S3 = ((b * b) * 3 ** 0.5) / 4\n",
    "S4 = a * a\n",
    "S6 = (3 * 3 ** 0.5 * (a * a)) / 2\n",
    "\n",
    "S = S6 + 3 * S4 + 6 * S3\n",
    "print(round(S))"
   ]
  },
  {
   "cell_type": "code",
   "execution_count": 76,
   "metadata": {},
   "outputs": [
    {
     "name": "stdout",
     "output_type": "stream",
     "text": [
      "82.58\n",
      "61.3\n"
     ]
    }
   ],
   "source": [
    "a = 2\n",
    "\n",
    "\n",
    "S = 3 * a ** 2 * (5 * (5 + 2 * 5 ** 0.5)) ** 0.5\n",
    "V = a ** 3 / 4 * (15 + 7 * 5 ** 0.5)\n",
    "\n",
    "print(round(S, 2))\n",
    "print(round(V, 2))"
   ]
  },
  {
   "cell_type": "code",
   "execution_count": 77,
   "metadata": {},
   "outputs": [],
   "source": [
    "i = 0\n",
    "while i <= 10:\n",
    "    i = i + 1\n",
    "    if i > 7:\n",
    "        i = i + 2"
   ]
  },
  {
   "cell_type": "code",
   "execution_count": 78,
   "metadata": {},
   "outputs": [
    {
     "data": {
      "text/plain": [
       "13"
      ]
     },
     "execution_count": 78,
     "metadata": {},
     "output_type": "execute_result"
    }
   ],
   "source": [
    "i"
   ]
  },
  {
   "cell_type": "markdown",
   "metadata": {},
   "source": [
    "# Предел функции"
   ]
  },
  {
   "cell_type": "code",
   "execution_count": 79,
   "metadata": {},
   "outputs": [
    {
     "name": "stdout",
     "output_type": "stream",
     "text": [
      "1.0517091807564771\n",
      "1.005016708416795\n",
      "1.0005001667083846\n",
      "1.0005001667083846\n",
      "1.000050001667141\n",
      "\n",
      "0.9516258196404048\n",
      "0.9950166250831893\n",
      "0.9995001666249781\n",
      "0.9995001666249781\n",
      "0.9999500016666385\n"
     ]
    }
   ],
   "source": [
    "from math import exp\n",
    "\n",
    "def f(x):\n",
    "    return (exp(x) - 1) / x\n",
    "\n",
    "x0 = 0\n",
    "\n",
    "dx_list = [0.1, 0.01, 0.001, 0.001, 0.0001]\n",
    "\n",
    "for dx in dx_list:\n",
    "    print(f(x0 + dx))\n",
    "\n",
    "print()\n",
    "\n",
    "for dx in dx_list:\n",
    "    print(f(x0 - dx))\n",
    "\n",
    "# Функция при x = 0 стремится к 1"
   ]
  },
  {
   "cell_type": "code",
   "execution_count": 80,
   "metadata": {},
   "outputs": [
    {
     "name": "stdout",
     "output_type": "stream",
     "text": [
      "3.142\n"
     ]
    }
   ],
   "source": [
    "# Предел функции f(x)=2arctg(x) от +оо\n",
    "\n",
    "from math import atan, inf\n",
    "def f(x):\n",
    "    return 2 * atan(x)\n",
    "    \n",
    "x0 = inf\n",
    "    \n",
    "lim = round(f(x0), 3)\n",
    "print (lim)"
   ]
  },
  {
   "cell_type": "code",
   "execution_count": 81,
   "metadata": {},
   "outputs": [
    {
     "name": "stdout",
     "output_type": "stream",
     "text": [
      "3.142\n"
     ]
    }
   ],
   "source": [
    "# Предел функции f(x)=2arctg(x) от +оо\n",
    "\n",
    "import sympy as sym\n",
    "\n",
    "x = sym.symbols('x')\n",
    "lim = sym.limit(2 * sym.atan(x), x, sym.oo)\n",
    "print(round(float(lim), 3))"
   ]
  },
  {
   "cell_type": "markdown",
   "metadata": {},
   "source": [
    "# Производная функции"
   ]
  },
  {
   "cell_type": "code",
   "execution_count": 82,
   "metadata": {},
   "outputs": [
    {
     "name": "stdout",
     "output_type": "stream",
     "text": [
      "7.0\n",
      "6.100000000000012\n",
      "6.009999999999849\n",
      "6.000999999999479\n"
     ]
    }
   ],
   "source": [
    "# Скорость приращения (роста) функции\n",
    "# Отношение изменения значения функции к изменению аргумента функции\n",
    "\n",
    "def f(x):\n",
    "    return x**2\n",
    "\n",
    "# При значении аргумента x0 = 3\n",
    "x0 = 3\n",
    "\n",
    "dx_list = [1, 0.1, 0.01, 0.001]\n",
    "\n",
    "for dx in dx_list:\n",
    "    print((f(x0 + dx) - f(x0)) / dx)\n",
    "\n",
    "# Функция стремится к 6"
   ]
  },
  {
   "cell_type": "code",
   "execution_count": 83,
   "metadata": {},
   "outputs": [
    {
     "name": "stdout",
     "output_type": "stream",
     "text": [
      "1242\n",
      "2997\n",
      "2997\n",
      "7173\n",
      "7173\n",
      "6354\n",
      "6354\n",
      "3087\n",
      "3087\n",
      "8352\n",
      "8352\n",
      "6174\n",
      "6174\n",
      "6174\n",
      "6174\n",
      "6174\n"
     ]
    }
   ],
   "source": [
    "n = 1242\n",
    "\n",
    "def kaprekar(n):\n",
    "    for i in range(8):\n",
    "        print(n)\n",
    "        a = sorted(str(n), key=lambda x: int(x))\n",
    "        a = int(''.join(a))\n",
    "        b = sorted(str(n), key=lambda x: int(x), reverse=True)\n",
    "        b = int(''.join(b))\n",
    "        n = b - a\n",
    "        print(n)\n",
    "kaprekar(n)"
   ]
  },
  {
   "cell_type": "code",
   "execution_count": 84,
   "metadata": {},
   "outputs": [
    {
     "name": "stdout",
     "output_type": "stream",
     "text": [
      "1242\n",
      "2997\n",
      "2997\n",
      "7173\n",
      "7173\n",
      "6354\n",
      "6354\n",
      "3087\n",
      "3087\n",
      "8352\n",
      "8352\n",
      "6174\n"
     ]
    }
   ],
   "source": [
    "n = 1242\n",
    "\n",
    "def kaprekar(n):\n",
    "    while n != 6174:\n",
    "        print(n)\n",
    "        a = sorted(str(n), key=lambda x: int(x))\n",
    "        a = int(''.join(a))\n",
    "        b = sorted(str(n), key=lambda x: int(x), reverse=True)\n",
    "        b = int(''.join(b))\n",
    "        n = b - a\n",
    "        print(n)\n",
    "kaprekar(n)"
   ]
  },
  {
   "cell_type": "markdown",
   "metadata": {},
   "source": [
    "# 6. Numpy"
   ]
  },
  {
   "cell_type": "code",
   "execution_count": 85,
   "metadata": {},
   "outputs": [],
   "source": [
    "import numpy as np"
   ]
  },
  {
   "cell_type": "code",
   "execution_count": 86,
   "metadata": {},
   "outputs": [
    {
     "data": {
      "text/plain": [
       "array([6, 1, 2])"
      ]
     },
     "execution_count": 86,
     "metadata": {},
     "output_type": "execute_result"
    }
   ],
   "source": [
    "x = np.array([(1, 2, 6),\n",
    "              (3, 4, 1), \n",
    "              (7, 8, 2)], \n",
    "              dtype=[('a', '<i4'),('b', '<i4'), ('g', '<i4')])\n",
    "x['g']"
   ]
  },
  {
   "cell_type": "code",
   "execution_count": 87,
   "metadata": {},
   "outputs": [
    {
     "data": {
      "text/plain": [
       "array([[1, 2],\n",
       "       [3, 4]])"
      ]
     },
     "execution_count": 87,
     "metadata": {},
     "output_type": "execute_result"
    }
   ],
   "source": [
    "np.array(np.asmatrix('1 2; 3 4'))"
   ]
  },
  {
   "cell_type": "code",
   "execution_count": 88,
   "metadata": {},
   "outputs": [
    {
     "name": "stdout",
     "output_type": "stream",
     "text": [
      "[2. 3. 4. 5. 6. 7.]\n",
      "[6.]\n",
      "[7. 6. 5. 4. 3. 2.]\n",
      "[2. 5.]\n",
      "[0 1 2 3 4 5]\n"
     ]
    }
   ],
   "source": [
    "# Создайте и сохраните:\n",
    "\n",
    "# в переменную V1 Numpy вектор из этих чисел в том же порядке\n",
    "# в переменную V2 Numpy вектор, содержащий только предпоследнее число (это должен быть именно вектор!)\n",
    "# в переменную V3 Numpy вектор из этих чисел в обратном порядке\n",
    "# в переменную V4 Numpy вектор из этих чисел, начиная с 0-ого, через 2 (т.е. каждое третье число)\n",
    "# в переменную V5 Numpy вектор, созданный из генератора Range, содержащий столько элементов, сколько было передано чисел на вход\n",
    "\n",
    "s = '2 3 4 5 6 7'\n",
    "s = s.split()\n",
    "V1 = np.array(s).astype(float)\n",
    "V2 = V1[-2:-1]\n",
    "V3 = V1[::-1]\n",
    "V4 = V1[::3]\n",
    "V5 = np.arange(len(V1))\n",
    "print(V1, V2, V3, V4, V5, sep='\\n')"
   ]
  },
  {
   "cell_type": "code",
   "execution_count": 89,
   "metadata": {},
   "outputs": [
    {
     "name": "stdout",
     "output_type": "stream",
     "text": [
      "18.0\n"
     ]
    }
   ],
   "source": [
    "# Даны 3 переменные: A1, A2, A3. \n",
    "# Каждая содержит вектор с 2 координатами соответствующей вершины треугольника.\n",
    "\n",
    "# Найдите площадь треугольника по формуле Герона .\n",
    "\n",
    "A1 = np.array((-1, 1))\n",
    "A2 = np.array((2, 5))\n",
    "A3 = np.array((5, -3))\n",
    "\n",
    "print(abs(np.cross(A1 - A2, A1 - A3)) / 2)"
   ]
  },
  {
   "cell_type": "code",
   "execution_count": 90,
   "metadata": {},
   "outputs": [
    {
     "data": {
      "text/plain": [
       "array([[1.00000000e+00, 2.00000000e+00, 2.00855369e+01, 0.00000000e+00],\n",
       "       [4.00000000e+00, 5.00000000e+00, 4.03428793e+02, 0.00000000e+00],\n",
       "       [0.00000000e+00, 5.00000000e-01, 1.64872127e+00, 1.22464680e-16],\n",
       "       [7.00000000e+00, 8.00000000e+00, 8.10308393e+03, 0.00000000e+00]])"
      ]
     },
     "execution_count": 90,
     "metadata": {},
     "output_type": "execute_result"
    }
   ],
   "source": [
    "# Переменная M1 содержит Numpy матрицу.\n",
    "\n",
    "# Произведите операции последовательно:\n",
    "\n",
    "# 1. Замените значения в предпоследней строке на значения по формуле:\n",
    "# sin(x⋅π / 6​), где x - старое значение\n",
    "\n",
    "# 2. Замените значения в предпоследнем столбце на значения по формуле:\n",
    "# e**x\n",
    "\n",
    "M1 = np.array((\n",
    "    (1., 2., 3., 0.),\n",
    "    (4., 5., 6., 0.),\n",
    "    (0., 1., 1., 6.),\n",
    "    (7., 8., 9., 0.)\n",
    "))\n",
    "\n",
    "M1[-2] = np.sin(M1[-2] * np.pi / 6)\n",
    "M1[:, -2] = np.exp(M1[:, -2])\n",
    "\n",
    "M2 = np.array(M1)\n",
    "M2"
   ]
  },
  {
   "cell_type": "code",
   "execution_count": 91,
   "metadata": {},
   "outputs": [
    {
     "name": "stdout",
     "output_type": "stream",
     "text": [
      "[[0 1 2]\n",
      " [3 4 5]]\n"
     ]
    },
    {
     "data": {
      "text/plain": [
       "array([4, 5])"
      ]
     },
     "execution_count": 91,
     "metadata": {},
     "output_type": "execute_result"
    }
   ],
   "source": [
    "Z = np.arange(6).reshape((2, 3))\n",
    "print(Z)\n",
    "Z[Z > 3]"
   ]
  },
  {
   "cell_type": "code",
   "execution_count": 92,
   "metadata": {},
   "outputs": [
    {
     "data": {
      "text/plain": [
       "5"
      ]
     },
     "execution_count": 92,
     "metadata": {},
     "output_type": "execute_result"
    }
   ],
   "source": [
    "Z.min()\n",
    "Z.max()"
   ]
  },
  {
   "cell_type": "code",
   "execution_count": 93,
   "metadata": {},
   "outputs": [
    {
     "data": {
      "text/plain": [
       "array([[0.83244264, 0.21233911, 0.18182497, 0.18340451, 0.30424224],\n",
       "       [0.52475643, 0.43194502, 0.29122914, 0.61185289, 0.13949386]])"
      ]
     },
     "execution_count": 93,
     "metadata": {},
     "output_type": "execute_result"
    }
   ],
   "source": [
    "np.random.rand(2*5).reshape(2, 5)"
   ]
  },
  {
   "cell_type": "code",
   "execution_count": 94,
   "metadata": {},
   "outputs": [
    {
     "name": "stdout",
     "output_type": "stream",
     "text": [
      "[[0.37454012 0.95071431 0.73199394 0.59865848]\n",
      " [0.15601864 0.15599452 0.05808361 0.86617615]\n",
      " [0.60111501 0.70807258 0.02058449 0.96990985]]\n",
      "\n",
      "[0.37722459 0.60492713 0.27022068 0.81158149]\n"
     ]
    }
   ],
   "source": [
    "# Найдите среднее значение для каждого из столбцов.\n",
    "\n",
    "np.random.seed(42)\n",
    "\n",
    "n = 3\n",
    "m= 4\n",
    "\n",
    "M = np.random.rand(n * m).reshape(n, m)\n",
    "\n",
    "print(M)\n",
    "print()\n",
    "print(np.mean(M, axis=0))"
   ]
  },
  {
   "cell_type": "code",
   "execution_count": 95,
   "metadata": {},
   "outputs": [
    {
     "data": {
      "text/plain": [
       "array([[1., 1., 1., 1., 1., 1., 1.],\n",
       "       [1., 0., 0., 0., 0., 0., 1.],\n",
       "       [1., 0., 0., 0., 0., 0., 1.],\n",
       "       [1., 0., 0., 0., 0., 0., 1.],\n",
       "       [1., 1., 1., 1., 1., 1., 1.]])"
      ]
     },
     "execution_count": 95,
     "metadata": {},
     "output_type": "execute_result"
    }
   ],
   "source": [
    "# Считайте 2 числа: n, m.\n",
    "\n",
    "# Создайте матрицу размера n*m такую что:\n",
    "\n",
    "# На границе матрицы будут стоять 1\n",
    "# Внутри матрицы будут стоять 0\n",
    "# Сохраните матрицу в переменную Z.\n",
    "\n",
    "n = 5\n",
    "m = 7\n",
    "\n",
    "Z = np.ones((n, m))\n",
    "Z[1:-1, 1:-1] = 0\n",
    "Z"
   ]
  },
  {
   "cell_type": "code",
   "execution_count": 96,
   "metadata": {},
   "outputs": [
    {
     "data": {
      "text/plain": [
       "array([[0, 0, 0, 0, 0],\n",
       "       [0, 1, 2, 3, 0],\n",
       "       [0, 4, 5, 6, 0],\n",
       "       [0, 7, 8, 9, 0],\n",
       "       [0, 0, 0, 0, 0]])"
      ]
     },
     "execution_count": 96,
     "metadata": {},
     "output_type": "execute_result"
    }
   ],
   "source": [
    "# Имеется матрица Z\n",
    "# Добавьте вокруг имеющихся значений матрицы \"забор\" из 0.\n",
    "\n",
    "Z = np.array([\n",
    "            [1, 2, 3],\n",
    "            [4, 5, 6],\n",
    "            [7, 8, 9]])\n",
    "Z = np.pad(Z, 1, mode='constant', constant_values=0)\n",
    "Z"
   ]
  },
  {
   "cell_type": "code",
   "execution_count": 97,
   "metadata": {},
   "outputs": [
    {
     "name": "stdout",
     "output_type": "stream",
     "text": [
      "False\n",
      "nan\n",
      "False\n",
      "nan\n",
      "False\n",
      "True\n",
      "True\n"
     ]
    }
   ],
   "source": [
    "print(np.nan == np.nan)\n",
    "print(0 * np.nan)\n",
    "print(np.inf > np.nan)\n",
    "print(np.nan - np.nan)\n",
    "print(0.3 == 3 * 0.1)\n",
    "print(np.isnan(np.nan))\n",
    "print(np.nan in set([np.nan]))"
   ]
  },
  {
   "cell_type": "code",
   "execution_count": 107,
   "metadata": {},
   "outputs": [
    {
     "data": {
      "text/plain": [
       "array([[1, 0, 0, 0, 0],\n",
       "       [0, 2, 0, 0, 0],\n",
       "       [0, 0, 3, 0, 0],\n",
       "       [0, 0, 0, 4, 0],\n",
       "       [0, 0, 0, 0, 5]])"
      ]
     },
     "execution_count": 107,
     "metadata": {},
     "output_type": "execute_result"
    }
   ],
   "source": [
    "# Создайте диагональную матрицу размера n*n. На главной диагонали должны быть числа от 1 до n.\n",
    "# Сохраните матрицу в переменную Z.\n",
    "\n",
    "n = 5\n",
    "\n",
    "Z = np.diagflat(np.arange(1, n + 1))\n",
    "Z"
   ]
  },
  {
   "cell_type": "code",
   "execution_count": 108,
   "metadata": {},
   "outputs": [
    {
     "data": {
      "text/plain": [
       "array([[1, 0, 0, 0, 0],\n",
       "       [0, 2, 0, 0, 0],\n",
       "       [0, 0, 3, 0, 0],\n",
       "       [0, 0, 0, 4, 0],\n",
       "       [0, 0, 0, 0, 5]])"
      ]
     },
     "execution_count": 108,
     "metadata": {},
     "output_type": "execute_result"
    }
   ],
   "source": [
    "n = 5\n",
    "Z = np.diag(np.arange(1, n + 1))\n",
    "Z"
   ]
  },
  {
   "cell_type": "code",
   "execution_count": 110,
   "metadata": {},
   "outputs": [
    {
     "data": {
      "text/plain": [
       "array([[1, 0, 0, 0, 0],\n",
       "       [0, 2, 0, 0, 0],\n",
       "       [0, 0, 3, 0, 0],\n",
       "       [0, 0, 0, 4, 0],\n",
       "       [0, 0, 0, 0, 5]])"
      ]
     },
     "execution_count": 110,
     "metadata": {},
     "output_type": "execute_result"
    }
   ],
   "source": [
    "n = 5\n",
    "Z = np.eye(n, dtype=int)\n",
    "Z[Z != 0] = np.arange(1, n + 1)\n",
    "Z"
   ]
  },
  {
   "cell_type": "code",
   "execution_count": 111,
   "metadata": {},
   "outputs": [
    {
     "data": {
      "text/plain": [
       "array([[0, 0, 0, 0, 0, 0],\n",
       "       [1, 0, 0, 0, 0, 0],\n",
       "       [0, 2, 0, 0, 0, 0],\n",
       "       [0, 0, 3, 0, 0, 0],\n",
       "       [0, 0, 0, 4, 0, 0],\n",
       "       [0, 0, 0, 0, 5, 0]])"
      ]
     },
     "execution_count": 111,
     "metadata": {},
     "output_type": "execute_result"
    }
   ],
   "source": [
    "n = 5\n",
    "\n",
    "Z = np.diagflat(np.arange(1, n + 1), -1)\n",
    "Z"
   ]
  },
  {
   "cell_type": "code",
   "execution_count": 115,
   "metadata": {},
   "outputs": [
    {
     "data": {
      "text/plain": [
       "array([[0, 0, 0, 0],\n",
       "       [1, 0, 0, 0],\n",
       "       [0, 2, 0, 0],\n",
       "       [0, 0, 3, 0]])"
      ]
     },
     "execution_count": 115,
     "metadata": {},
     "output_type": "execute_result"
    }
   ],
   "source": [
    "# Считайте 2 числа:\n",
    "\n",
    "# x - сдвиг для единственной ненулевой диагонали в матрице.\n",
    "# k - верхняя граница для интервала чисел на диагонали (т.е. если k = 5, то на диагонали будут стоять числа 1, 2, 3, 4 и 5)\n",
    "\n",
    "x = -1\n",
    "k = 3\n",
    "\n",
    "Z = np.diagflat(np.arange(1, k + 1), x)\n",
    "Z"
   ]
  },
  {
   "cell_type": "code",
   "execution_count": 120,
   "metadata": {},
   "outputs": [
    {
     "data": {
      "text/plain": [
       "array([[0., 1., 0., 1., 0.],\n",
       "       [1., 0., 1., 0., 1.],\n",
       "       [0., 1., 0., 1., 0.],\n",
       "       [1., 0., 1., 0., 1.],\n",
       "       [0., 1., 0., 1., 0.]])"
      ]
     },
     "execution_count": 120,
     "metadata": {},
     "output_type": "execute_result"
    }
   ],
   "source": [
    "# Считайте 2 числа: n, m.\n",
    "# Создайте матрицу размера n*m и \"раскрасьте\" её в шахматную раскраску.\n",
    "# 0 - \"чёрное\"\n",
    "# 1 - \"белое\"\n",
    "\n",
    "n, m = 5, 5\n",
    "\n",
    "Z = np.ones((n, m))\n",
    "Z[::2, ::2] = 0\n",
    "Z[1::2, 1::2] = 0\n",
    "Z"
   ]
  },
  {
   "cell_type": "code",
   "execution_count": 127,
   "metadata": {},
   "outputs": [
    {
     "data": {
      "text/plain": [
       "array([[0., 1., 0., 1., 0.],\n",
       "       [1., 0., 1., 0., 1.],\n",
       "       [0., 1., 0., 1., 0.],\n",
       "       [1., 0., 1., 0., 1.],\n",
       "       [0., 1., 0., 1., 0.]])"
      ]
     },
     "execution_count": 127,
     "metadata": {},
     "output_type": "execute_result"
    }
   ],
   "source": [
    "Z = np.tile([[0.,1.],[1.,0.]], (1 + n // 2,1 + m // 2) )[:n, :m]\n",
    "Z"
   ]
  },
  {
   "cell_type": "code",
   "execution_count": null,
   "metadata": {},
   "outputs": [],
   "source": []
  }
 ],
 "metadata": {
  "kernelspec": {
   "display_name": "base",
   "language": "python",
   "name": "python3"
  },
  "language_info": {
   "codemirror_mode": {
    "name": "ipython",
    "version": 3
   },
   "file_extension": ".py",
   "mimetype": "text/x-python",
   "name": "python",
   "nbconvert_exporter": "python",
   "pygments_lexer": "ipython3",
   "version": "3.11.10"
  }
 },
 "nbformat": 4,
 "nbformat_minor": 2
}
