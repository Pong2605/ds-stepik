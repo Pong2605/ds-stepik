{
  "cells": [
    {
      "cell_type": "markdown",
      "metadata": {
        "colab_type": "text",
        "id": "view-in-github"
      },
      "source": [
        "<a href=\"https://colab.research.google.com/github/glebmikha/ds-course/blob/main/03_human_learning.ipynb\" target=\"_parent\"><img src=\"https://colab.research.google.com/assets/colab-badge.svg\" alt=\"Open In Colab\"/></a>"
      ]
    },
    {
      "cell_type": "markdown",
      "metadata": {
        "id": "ME6YGpyKRVsT"
      },
      "source": [
        "Мой Telegram-канал: https://t.me/mikhaylovgleb"
      ]
    },
    {
      "cell_type": "markdown",
      "metadata": {
        "id": "QjnDKUMWXTVi"
      },
      "source": [
        "# Загрузка данных"
      ]
    },
    {
      "cell_type": "markdown",
      "metadata": {
        "id": "VO_RfNT4WXSA"
      },
      "source": [
        "https://www.kaggle.com/adityadesai13/used-car-dataset-ford-and-mercedes?select=bmw.csv"
      ]
    },
    {
      "cell_type": "markdown",
      "metadata": {
        "id": "ih8Zfx5ISnnz"
      },
      "source": [
        "https://drive.google.com/file/d/10pq7rvk_FtY-ulQ8ldVM4QAtaR6LWt-j/view?usp=sharing"
      ]
    },
    {
      "cell_type": "code",
      "execution_count": 1,
      "metadata": {
        "colab": {
          "base_uri": "https://localhost:8080/"
        },
        "id": "onpHOXMMWSoA",
        "outputId": "95000806-8c06-47de-a36a-2734c2784d7d"
      },
      "outputs": [],
      "source": [
        "# ! gdown --id 10pq7rvk_FtY-ulQ8ldVM4QAtaR6LWt-/j"
      ]
    },
    {
      "cell_type": "code",
      "execution_count": 2,
      "metadata": {
        "colab": {
          "base_uri": "https://localhost:8080/"
        },
        "id": "5lC9LcS-WVBf",
        "outputId": "9da8f035-58e6-473a-8c75-ca04171a0f28"
      },
      "outputs": [],
      "source": [
        "# ! unzip -o /content/uk-used-cars.zip -d /content/uk-used-cars"
      ]
    },
    {
      "cell_type": "code",
      "execution_count": 3,
      "metadata": {
        "id": "B2Lh6HYoWk1e"
      },
      "outputs": [],
      "source": [
        "import pandas as pd\n",
        "import numpy as np"
      ]
    },
    {
      "cell_type": "code",
      "execution_count": 4,
      "metadata": {
        "id": "dmyCkv_WWvSo"
      },
      "outputs": [],
      "source": [
        "df = pd.read_csv(r'..\\data\\uk_used_car_data_set\\bmw.csv')"
      ]
    },
    {
      "cell_type": "code",
      "execution_count": 5,
      "metadata": {
        "colab": {
          "base_uri": "https://localhost:8080/",
          "height": 206
        },
        "id": "EHNRg1ksWxzw",
        "outputId": "b974e2c5-9d8b-471e-9dc4-1cd48038a36a"
      },
      "outputs": [
        {
          "data": {
            "text/html": [
              "<div>\n",
              "<style scoped>\n",
              "    .dataframe tbody tr th:only-of-type {\n",
              "        vertical-align: middle;\n",
              "    }\n",
              "\n",
              "    .dataframe tbody tr th {\n",
              "        vertical-align: top;\n",
              "    }\n",
              "\n",
              "    .dataframe thead th {\n",
              "        text-align: right;\n",
              "    }\n",
              "</style>\n",
              "<table border=\"1\" class=\"dataframe\">\n",
              "  <thead>\n",
              "    <tr style=\"text-align: right;\">\n",
              "      <th></th>\n",
              "      <th>model</th>\n",
              "      <th>year</th>\n",
              "      <th>price</th>\n",
              "      <th>transmission</th>\n",
              "      <th>mileage</th>\n",
              "      <th>fuelType</th>\n",
              "      <th>tax</th>\n",
              "      <th>mpg</th>\n",
              "      <th>engineSize</th>\n",
              "    </tr>\n",
              "  </thead>\n",
              "  <tbody>\n",
              "    <tr>\n",
              "      <th>0</th>\n",
              "      <td>5 Series</td>\n",
              "      <td>2014</td>\n",
              "      <td>11200</td>\n",
              "      <td>Automatic</td>\n",
              "      <td>67068</td>\n",
              "      <td>Diesel</td>\n",
              "      <td>125</td>\n",
              "      <td>57.6</td>\n",
              "      <td>2.0</td>\n",
              "    </tr>\n",
              "    <tr>\n",
              "      <th>1</th>\n",
              "      <td>6 Series</td>\n",
              "      <td>2018</td>\n",
              "      <td>27000</td>\n",
              "      <td>Automatic</td>\n",
              "      <td>14827</td>\n",
              "      <td>Petrol</td>\n",
              "      <td>145</td>\n",
              "      <td>42.8</td>\n",
              "      <td>2.0</td>\n",
              "    </tr>\n",
              "    <tr>\n",
              "      <th>2</th>\n",
              "      <td>5 Series</td>\n",
              "      <td>2016</td>\n",
              "      <td>16000</td>\n",
              "      <td>Automatic</td>\n",
              "      <td>62794</td>\n",
              "      <td>Diesel</td>\n",
              "      <td>160</td>\n",
              "      <td>51.4</td>\n",
              "      <td>3.0</td>\n",
              "    </tr>\n",
              "    <tr>\n",
              "      <th>3</th>\n",
              "      <td>1 Series</td>\n",
              "      <td>2017</td>\n",
              "      <td>12750</td>\n",
              "      <td>Automatic</td>\n",
              "      <td>26676</td>\n",
              "      <td>Diesel</td>\n",
              "      <td>145</td>\n",
              "      <td>72.4</td>\n",
              "      <td>1.5</td>\n",
              "    </tr>\n",
              "    <tr>\n",
              "      <th>4</th>\n",
              "      <td>7 Series</td>\n",
              "      <td>2014</td>\n",
              "      <td>14500</td>\n",
              "      <td>Automatic</td>\n",
              "      <td>39554</td>\n",
              "      <td>Diesel</td>\n",
              "      <td>160</td>\n",
              "      <td>50.4</td>\n",
              "      <td>3.0</td>\n",
              "    </tr>\n",
              "  </tbody>\n",
              "</table>\n",
              "</div>"
            ],
            "text/plain": [
              "       model  year  price transmission  mileage fuelType  tax   mpg  \\\n",
              "0   5 Series  2014  11200    Automatic    67068   Diesel  125  57.6   \n",
              "1   6 Series  2018  27000    Automatic    14827   Petrol  145  42.8   \n",
              "2   5 Series  2016  16000    Automatic    62794   Diesel  160  51.4   \n",
              "3   1 Series  2017  12750    Automatic    26676   Diesel  145  72.4   \n",
              "4   7 Series  2014  14500    Automatic    39554   Diesel  160  50.4   \n",
              "\n",
              "   engineSize  \n",
              "0         2.0  \n",
              "1         2.0  \n",
              "2         3.0  \n",
              "3         1.5  \n",
              "4         3.0  "
            ]
          },
          "execution_count": 5,
          "metadata": {},
          "output_type": "execute_result"
        }
      ],
      "source": [
        "df.head()"
      ]
    },
    {
      "cell_type": "code",
      "execution_count": 6,
      "metadata": {
        "colab": {
          "base_uri": "https://localhost:8080/"
        },
        "id": "D8EpY6zIWypC",
        "outputId": "3adea0c0-bba6-4f69-a651-6590f1f20301"
      },
      "outputs": [
        {
          "data": {
            "text/plain": [
              "10781"
            ]
          },
          "execution_count": 6,
          "metadata": {},
          "output_type": "execute_result"
        }
      ],
      "source": [
        "len(df)"
      ]
    },
    {
      "cell_type": "markdown",
      "metadata": {
        "id": "KDbbspT8W0HE"
      },
      "source": [
        "# Обучающая и тестовая выборка (train and test)"
      ]
    },
    {
      "cell_type": "code",
      "execution_count": 7,
      "metadata": {
        "id": "ZVKWDXi7nCzX"
      },
      "outputs": [],
      "source": [
        "from sklearn.model_selection import train_test_split"
      ]
    },
    {
      "cell_type": "code",
      "execution_count": 8,
      "metadata": {
        "id": "-bS8NHDWp1pP"
      },
      "outputs": [],
      "source": [
        "train, test = train_test_split(df, random_state=42, test_size=0.25)"
      ]
    },
    {
      "cell_type": "code",
      "execution_count": 9,
      "metadata": {
        "colab": {
          "base_uri": "https://localhost:8080/"
        },
        "id": "nlWMG9xHp_fp",
        "outputId": "9966bf59-b3e5-4cb0-fe9b-20a4c4fdc7f0"
      },
      "outputs": [
        {
          "data": {
            "text/plain": [
              "8085"
            ]
          },
          "execution_count": 9,
          "metadata": {},
          "output_type": "execute_result"
        }
      ],
      "source": [
        "len(train)"
      ]
    },
    {
      "cell_type": "code",
      "execution_count": 10,
      "metadata": {
        "colab": {
          "base_uri": "https://localhost:8080/"
        },
        "id": "tA4QRcNBqI6P",
        "outputId": "6a936c03-49cc-4198-b55e-8921e9d0165a"
      },
      "outputs": [
        {
          "data": {
            "text/plain": [
              "2696"
            ]
          },
          "execution_count": 10,
          "metadata": {},
          "output_type": "execute_result"
        }
      ],
      "source": [
        "len(test)"
      ]
    },
    {
      "cell_type": "code",
      "execution_count": 11,
      "metadata": {
        "colab": {
          "base_uri": "https://localhost:8080/"
        },
        "id": "bbNWhY1mqJuP",
        "outputId": "9cfeb1c5-fb67-4533-a179-df32ef467ab4"
      },
      "outputs": [
        {
          "data": {
            "text/plain": [
              "10781"
            ]
          },
          "execution_count": 11,
          "metadata": {},
          "output_type": "execute_result"
        }
      ],
      "source": [
        "len(train) + len(test)"
      ]
    },
    {
      "cell_type": "code",
      "execution_count": 12,
      "metadata": {
        "colab": {
          "base_uri": "https://localhost:8080/"
        },
        "id": "DfPVvXZbqLLB",
        "outputId": "62fa82a3-57c2-4d79-cd9f-6456886accc0"
      },
      "outputs": [
        {
          "data": {
            "text/plain": [
              "10781"
            ]
          },
          "execution_count": 12,
          "metadata": {},
          "output_type": "execute_result"
        }
      ],
      "source": [
        "len(df)"
      ]
    },
    {
      "cell_type": "code",
      "execution_count": 13,
      "metadata": {
        "colab": {
          "base_uri": "https://localhost:8080/"
        },
        "id": "E7zXWOc4qN56",
        "outputId": "0cc45662-8b20-43f4-e465-0bdd439286e9"
      },
      "outputs": [
        {
          "data": {
            "text/plain": [
              "0.2500695668305352"
            ]
          },
          "execution_count": 13,
          "metadata": {},
          "output_type": "execute_result"
        }
      ],
      "source": [
        "len(test) / len(df)"
      ]
    },
    {
      "cell_type": "code",
      "execution_count": 14,
      "metadata": {
        "id": "dqPPX1HOqROI"
      },
      "outputs": [],
      "source": [
        "train, test = train_test_split(df, random_state=42)"
      ]
    },
    {
      "cell_type": "code",
      "execution_count": 15,
      "metadata": {
        "colab": {
          "base_uri": "https://localhost:8080/",
          "height": 423
        },
        "id": "YZnQZUQRqr6b",
        "outputId": "0c6cf2e9-a0ef-4b5d-85dd-d641748a0716"
      },
      "outputs": [
        {
          "data": {
            "text/html": [
              "<div>\n",
              "<style scoped>\n",
              "    .dataframe tbody tr th:only-of-type {\n",
              "        vertical-align: middle;\n",
              "    }\n",
              "\n",
              "    .dataframe tbody tr th {\n",
              "        vertical-align: top;\n",
              "    }\n",
              "\n",
              "    .dataframe thead th {\n",
              "        text-align: right;\n",
              "    }\n",
              "</style>\n",
              "<table border=\"1\" class=\"dataframe\">\n",
              "  <thead>\n",
              "    <tr style=\"text-align: right;\">\n",
              "      <th></th>\n",
              "      <th>model</th>\n",
              "      <th>year</th>\n",
              "      <th>price</th>\n",
              "      <th>transmission</th>\n",
              "      <th>mileage</th>\n",
              "      <th>fuelType</th>\n",
              "      <th>tax</th>\n",
              "      <th>mpg</th>\n",
              "      <th>engineSize</th>\n",
              "    </tr>\n",
              "  </thead>\n",
              "  <tbody>\n",
              "    <tr>\n",
              "      <th>930</th>\n",
              "      <td>5 Series</td>\n",
              "      <td>2013</td>\n",
              "      <td>12791</td>\n",
              "      <td>Semi-Auto</td>\n",
              "      <td>55642</td>\n",
              "      <td>Diesel</td>\n",
              "      <td>145</td>\n",
              "      <td>55.4</td>\n",
              "      <td>2.0</td>\n",
              "    </tr>\n",
              "    <tr>\n",
              "      <th>4052</th>\n",
              "      <td>1 Series</td>\n",
              "      <td>2019</td>\n",
              "      <td>23995</td>\n",
              "      <td>Semi-Auto</td>\n",
              "      <td>1527</td>\n",
              "      <td>Petrol</td>\n",
              "      <td>145</td>\n",
              "      <td>43.5</td>\n",
              "      <td>1.5</td>\n",
              "    </tr>\n",
              "    <tr>\n",
              "      <th>1197</th>\n",
              "      <td>X5</td>\n",
              "      <td>2015</td>\n",
              "      <td>25995</td>\n",
              "      <td>Automatic</td>\n",
              "      <td>43344</td>\n",
              "      <td>Diesel</td>\n",
              "      <td>200</td>\n",
              "      <td>47.1</td>\n",
              "      <td>3.0</td>\n",
              "    </tr>\n",
              "    <tr>\n",
              "      <th>7893</th>\n",
              "      <td>2 Series</td>\n",
              "      <td>2019</td>\n",
              "      <td>25000</td>\n",
              "      <td>Automatic</td>\n",
              "      <td>4000</td>\n",
              "      <td>Petrol</td>\n",
              "      <td>145</td>\n",
              "      <td>47.9</td>\n",
              "      <td>2.0</td>\n",
              "    </tr>\n",
              "    <tr>\n",
              "      <th>7571</th>\n",
              "      <td>1 Series</td>\n",
              "      <td>2015</td>\n",
              "      <td>10950</td>\n",
              "      <td>Manual</td>\n",
              "      <td>33000</td>\n",
              "      <td>Diesel</td>\n",
              "      <td>20</td>\n",
              "      <td>72.4</td>\n",
              "      <td>1.5</td>\n",
              "    </tr>\n",
              "    <tr>\n",
              "      <th>...</th>\n",
              "      <td>...</td>\n",
              "      <td>...</td>\n",
              "      <td>...</td>\n",
              "      <td>...</td>\n",
              "      <td>...</td>\n",
              "      <td>...</td>\n",
              "      <td>...</td>\n",
              "      <td>...</td>\n",
              "      <td>...</td>\n",
              "    </tr>\n",
              "    <tr>\n",
              "      <th>5734</th>\n",
              "      <td>3 Series</td>\n",
              "      <td>2018</td>\n",
              "      <td>17995</td>\n",
              "      <td>Semi-Auto</td>\n",
              "      <td>40456</td>\n",
              "      <td>Diesel</td>\n",
              "      <td>145</td>\n",
              "      <td>64.2</td>\n",
              "      <td>2.0</td>\n",
              "    </tr>\n",
              "    <tr>\n",
              "      <th>5191</th>\n",
              "      <td>1 Series</td>\n",
              "      <td>2016</td>\n",
              "      <td>19950</td>\n",
              "      <td>Semi-Auto</td>\n",
              "      <td>23210</td>\n",
              "      <td>Petrol</td>\n",
              "      <td>200</td>\n",
              "      <td>39.8</td>\n",
              "      <td>3.0</td>\n",
              "    </tr>\n",
              "    <tr>\n",
              "      <th>5390</th>\n",
              "      <td>X2</td>\n",
              "      <td>2019</td>\n",
              "      <td>25450</td>\n",
              "      <td>Semi-Auto</td>\n",
              "      <td>5652</td>\n",
              "      <td>Diesel</td>\n",
              "      <td>145</td>\n",
              "      <td>47.9</td>\n",
              "      <td>2.0</td>\n",
              "    </tr>\n",
              "    <tr>\n",
              "      <th>860</th>\n",
              "      <td>X1</td>\n",
              "      <td>2016</td>\n",
              "      <td>19850</td>\n",
              "      <td>Semi-Auto</td>\n",
              "      <td>14542</td>\n",
              "      <td>Diesel</td>\n",
              "      <td>125</td>\n",
              "      <td>60.1</td>\n",
              "      <td>2.0</td>\n",
              "    </tr>\n",
              "    <tr>\n",
              "      <th>7270</th>\n",
              "      <td>1 Series</td>\n",
              "      <td>2016</td>\n",
              "      <td>15745</td>\n",
              "      <td>Automatic</td>\n",
              "      <td>17237</td>\n",
              "      <td>Petrol</td>\n",
              "      <td>125</td>\n",
              "      <td>54.3</td>\n",
              "      <td>1.5</td>\n",
              "    </tr>\n",
              "  </tbody>\n",
              "</table>\n",
              "<p>8085 rows × 9 columns</p>\n",
              "</div>"
            ],
            "text/plain": [
              "          model  year  price transmission  mileage fuelType  tax   mpg  \\\n",
              "930    5 Series  2013  12791    Semi-Auto    55642   Diesel  145  55.4   \n",
              "4052   1 Series  2019  23995    Semi-Auto     1527   Petrol  145  43.5   \n",
              "1197         X5  2015  25995    Automatic    43344   Diesel  200  47.1   \n",
              "7893   2 Series  2019  25000    Automatic     4000   Petrol  145  47.9   \n",
              "7571   1 Series  2015  10950       Manual    33000   Diesel   20  72.4   \n",
              "...         ...   ...    ...          ...      ...      ...  ...   ...   \n",
              "5734   3 Series  2018  17995    Semi-Auto    40456   Diesel  145  64.2   \n",
              "5191   1 Series  2016  19950    Semi-Auto    23210   Petrol  200  39.8   \n",
              "5390         X2  2019  25450    Semi-Auto     5652   Diesel  145  47.9   \n",
              "860          X1  2016  19850    Semi-Auto    14542   Diesel  125  60.1   \n",
              "7270   1 Series  2016  15745    Automatic    17237   Petrol  125  54.3   \n",
              "\n",
              "      engineSize  \n",
              "930          2.0  \n",
              "4052         1.5  \n",
              "1197         3.0  \n",
              "7893         2.0  \n",
              "7571         1.5  \n",
              "...          ...  \n",
              "5734         2.0  \n",
              "5191         3.0  \n",
              "5390         2.0  \n",
              "860          2.0  \n",
              "7270         1.5  \n",
              "\n",
              "[8085 rows x 9 columns]"
            ]
          },
          "execution_count": 15,
          "metadata": {},
          "output_type": "execute_result"
        }
      ],
      "source": [
        "train"
      ]
    },
    {
      "cell_type": "code",
      "execution_count": 16,
      "metadata": {
        "colab": {
          "base_uri": "https://localhost:8080/",
          "height": 423
        },
        "id": "kQtmnaCwqsiG",
        "outputId": "58595c58-21d1-4339-818d-d7dce1b8308d"
      },
      "outputs": [
        {
          "data": {
            "text/html": [
              "<div>\n",
              "<style scoped>\n",
              "    .dataframe tbody tr th:only-of-type {\n",
              "        vertical-align: middle;\n",
              "    }\n",
              "\n",
              "    .dataframe tbody tr th {\n",
              "        vertical-align: top;\n",
              "    }\n",
              "\n",
              "    .dataframe thead th {\n",
              "        text-align: right;\n",
              "    }\n",
              "</style>\n",
              "<table border=\"1\" class=\"dataframe\">\n",
              "  <thead>\n",
              "    <tr style=\"text-align: right;\">\n",
              "      <th></th>\n",
              "      <th>model</th>\n",
              "      <th>year</th>\n",
              "      <th>price</th>\n",
              "      <th>transmission</th>\n",
              "      <th>mileage</th>\n",
              "      <th>fuelType</th>\n",
              "      <th>tax</th>\n",
              "      <th>mpg</th>\n",
              "      <th>engineSize</th>\n",
              "    </tr>\n",
              "  </thead>\n",
              "  <tbody>\n",
              "    <tr>\n",
              "      <th>8728</th>\n",
              "      <td>1 Series</td>\n",
              "      <td>2018</td>\n",
              "      <td>15300</td>\n",
              "      <td>Manual</td>\n",
              "      <td>36469</td>\n",
              "      <td>Diesel</td>\n",
              "      <td>150</td>\n",
              "      <td>50.4</td>\n",
              "      <td>1.5</td>\n",
              "    </tr>\n",
              "    <tr>\n",
              "      <th>761</th>\n",
              "      <td>5 Series</td>\n",
              "      <td>2014</td>\n",
              "      <td>15495</td>\n",
              "      <td>Semi-Auto</td>\n",
              "      <td>51565</td>\n",
              "      <td>Diesel</td>\n",
              "      <td>160</td>\n",
              "      <td>51.4</td>\n",
              "      <td>2.0</td>\n",
              "    </tr>\n",
              "    <tr>\n",
              "      <th>7209</th>\n",
              "      <td>X3</td>\n",
              "      <td>2019</td>\n",
              "      <td>39875</td>\n",
              "      <td>Semi-Auto</td>\n",
              "      <td>8988</td>\n",
              "      <td>Diesel</td>\n",
              "      <td>150</td>\n",
              "      <td>36.7</td>\n",
              "      <td>3.0</td>\n",
              "    </tr>\n",
              "    <tr>\n",
              "      <th>6685</th>\n",
              "      <td>2 Series</td>\n",
              "      <td>2019</td>\n",
              "      <td>21730</td>\n",
              "      <td>Automatic</td>\n",
              "      <td>5054</td>\n",
              "      <td>Petrol</td>\n",
              "      <td>145</td>\n",
              "      <td>39.2</td>\n",
              "      <td>1.5</td>\n",
              "    </tr>\n",
              "    <tr>\n",
              "      <th>8548</th>\n",
              "      <td>2 Series</td>\n",
              "      <td>2018</td>\n",
              "      <td>13799</td>\n",
              "      <td>Manual</td>\n",
              "      <td>13369</td>\n",
              "      <td>Diesel</td>\n",
              "      <td>145</td>\n",
              "      <td>65.7</td>\n",
              "      <td>1.5</td>\n",
              "    </tr>\n",
              "    <tr>\n",
              "      <th>...</th>\n",
              "      <td>...</td>\n",
              "      <td>...</td>\n",
              "      <td>...</td>\n",
              "      <td>...</td>\n",
              "      <td>...</td>\n",
              "      <td>...</td>\n",
              "      <td>...</td>\n",
              "      <td>...</td>\n",
              "      <td>...</td>\n",
              "    </tr>\n",
              "    <tr>\n",
              "      <th>9825</th>\n",
              "      <td>4 Series</td>\n",
              "      <td>2019</td>\n",
              "      <td>25500</td>\n",
              "      <td>Automatic</td>\n",
              "      <td>3250</td>\n",
              "      <td>Petrol</td>\n",
              "      <td>145</td>\n",
              "      <td>48.7</td>\n",
              "      <td>2.0</td>\n",
              "    </tr>\n",
              "    <tr>\n",
              "      <th>3522</th>\n",
              "      <td>7 Series</td>\n",
              "      <td>2019</td>\n",
              "      <td>52700</td>\n",
              "      <td>Semi-Auto</td>\n",
              "      <td>706</td>\n",
              "      <td>Diesel</td>\n",
              "      <td>145</td>\n",
              "      <td>44.1</td>\n",
              "      <td>3.0</td>\n",
              "    </tr>\n",
              "    <tr>\n",
              "      <th>9757</th>\n",
              "      <td>3 Series</td>\n",
              "      <td>2017</td>\n",
              "      <td>15795</td>\n",
              "      <td>Automatic</td>\n",
              "      <td>64000</td>\n",
              "      <td>Hybrid</td>\n",
              "      <td>0</td>\n",
              "      <td>134.5</td>\n",
              "      <td>2.0</td>\n",
              "    </tr>\n",
              "    <tr>\n",
              "      <th>6100</th>\n",
              "      <td>4 Series</td>\n",
              "      <td>2019</td>\n",
              "      <td>29840</td>\n",
              "      <td>Automatic</td>\n",
              "      <td>6000</td>\n",
              "      <td>Diesel</td>\n",
              "      <td>145</td>\n",
              "      <td>60.1</td>\n",
              "      <td>2.0</td>\n",
              "    </tr>\n",
              "    <tr>\n",
              "      <th>3946</th>\n",
              "      <td>4 Series</td>\n",
              "      <td>2020</td>\n",
              "      <td>34980</td>\n",
              "      <td>Semi-Auto</td>\n",
              "      <td>1000</td>\n",
              "      <td>Petrol</td>\n",
              "      <td>145</td>\n",
              "      <td>48.7</td>\n",
              "      <td>2.0</td>\n",
              "    </tr>\n",
              "  </tbody>\n",
              "</table>\n",
              "<p>2696 rows × 9 columns</p>\n",
              "</div>"
            ],
            "text/plain": [
              "          model  year  price transmission  mileage fuelType  tax    mpg  \\\n",
              "8728   1 Series  2018  15300       Manual    36469   Diesel  150   50.4   \n",
              "761    5 Series  2014  15495    Semi-Auto    51565   Diesel  160   51.4   \n",
              "7209         X3  2019  39875    Semi-Auto     8988   Diesel  150   36.7   \n",
              "6685   2 Series  2019  21730    Automatic     5054   Petrol  145   39.2   \n",
              "8548   2 Series  2018  13799       Manual    13369   Diesel  145   65.7   \n",
              "...         ...   ...    ...          ...      ...      ...  ...    ...   \n",
              "9825   4 Series  2019  25500    Automatic     3250   Petrol  145   48.7   \n",
              "3522   7 Series  2019  52700    Semi-Auto      706   Diesel  145   44.1   \n",
              "9757   3 Series  2017  15795    Automatic    64000   Hybrid    0  134.5   \n",
              "6100   4 Series  2019  29840    Automatic     6000   Diesel  145   60.1   \n",
              "3946   4 Series  2020  34980    Semi-Auto     1000   Petrol  145   48.7   \n",
              "\n",
              "      engineSize  \n",
              "8728         1.5  \n",
              "761          2.0  \n",
              "7209         3.0  \n",
              "6685         1.5  \n",
              "8548         1.5  \n",
              "...          ...  \n",
              "9825         2.0  \n",
              "3522         3.0  \n",
              "9757         2.0  \n",
              "6100         2.0  \n",
              "3946         2.0  \n",
              "\n",
              "[2696 rows x 9 columns]"
            ]
          },
          "execution_count": 16,
          "metadata": {},
          "output_type": "execute_result"
        }
      ],
      "source": [
        "test"
      ]
    },
    {
      "cell_type": "markdown",
      "metadata": {
        "id": "VBbnyvzvraVb"
      },
      "source": [
        "# Анализ данных"
      ]
    },
    {
      "cell_type": "code",
      "execution_count": 17,
      "metadata": {
        "colab": {
          "base_uri": "https://localhost:8080/"
        },
        "id": "lhCWFRYvw2OM",
        "outputId": "e8be96ba-927f-40c2-aa17-555dcf20c04a"
      },
      "outputs": [
        {
          "data": {
            "text/plain": [
              "model           0.0\n",
              "year            0.0\n",
              "price           0.0\n",
              "transmission    0.0\n",
              "mileage         0.0\n",
              "fuelType        0.0\n",
              "tax             0.0\n",
              "mpg             0.0\n",
              "engineSize      0.0\n",
              "dtype: float64"
            ]
          },
          "execution_count": 17,
          "metadata": {},
          "output_type": "execute_result"
        }
      ],
      "source": [
        "train.isna().mean()"
      ]
    },
    {
      "cell_type": "code",
      "execution_count": 18,
      "metadata": {
        "colab": {
          "base_uri": "https://localhost:8080/"
        },
        "id": "AdSnsgCwxX4J",
        "outputId": "05e6aeb2-919d-4eb5-943b-ef1aecef7075"
      },
      "outputs": [
        {
          "data": {
            "text/plain": [
              "model           0.0\n",
              "year            0.0\n",
              "price           0.0\n",
              "transmission    0.0\n",
              "mileage         0.0\n",
              "fuelType        0.0\n",
              "tax             0.0\n",
              "mpg             0.0\n",
              "engineSize      0.0\n",
              "dtype: float64"
            ]
          },
          "execution_count": 18,
          "metadata": {},
          "output_type": "execute_result"
        }
      ],
      "source": [
        "df.isna().mean()"
      ]
    },
    {
      "cell_type": "code",
      "execution_count": 19,
      "metadata": {
        "colab": {
          "base_uri": "https://localhost:8080/",
          "height": 423
        },
        "id": "5UqhO8DJxcCJ",
        "outputId": "a0af2014-9d73-48b2-a378-672bf418b6b5"
      },
      "outputs": [
        {
          "data": {
            "text/html": [
              "<div>\n",
              "<style scoped>\n",
              "    .dataframe tbody tr th:only-of-type {\n",
              "        vertical-align: middle;\n",
              "    }\n",
              "\n",
              "    .dataframe tbody tr th {\n",
              "        vertical-align: top;\n",
              "    }\n",
              "\n",
              "    .dataframe thead th {\n",
              "        text-align: right;\n",
              "    }\n",
              "</style>\n",
              "<table border=\"1\" class=\"dataframe\">\n",
              "  <thead>\n",
              "    <tr style=\"text-align: right;\">\n",
              "      <th></th>\n",
              "      <th>model</th>\n",
              "      <th>year</th>\n",
              "      <th>price</th>\n",
              "      <th>transmission</th>\n",
              "      <th>mileage</th>\n",
              "      <th>fuelType</th>\n",
              "      <th>tax</th>\n",
              "      <th>mpg</th>\n",
              "      <th>engineSize</th>\n",
              "    </tr>\n",
              "  </thead>\n",
              "  <tbody>\n",
              "    <tr>\n",
              "      <th>930</th>\n",
              "      <td>5 Series</td>\n",
              "      <td>2013</td>\n",
              "      <td>12791</td>\n",
              "      <td>Semi-Auto</td>\n",
              "      <td>55642</td>\n",
              "      <td>Diesel</td>\n",
              "      <td>145</td>\n",
              "      <td>55.4</td>\n",
              "      <td>2.0</td>\n",
              "    </tr>\n",
              "    <tr>\n",
              "      <th>4052</th>\n",
              "      <td>1 Series</td>\n",
              "      <td>2019</td>\n",
              "      <td>23995</td>\n",
              "      <td>Semi-Auto</td>\n",
              "      <td>1527</td>\n",
              "      <td>Petrol</td>\n",
              "      <td>145</td>\n",
              "      <td>43.5</td>\n",
              "      <td>1.5</td>\n",
              "    </tr>\n",
              "    <tr>\n",
              "      <th>1197</th>\n",
              "      <td>X5</td>\n",
              "      <td>2015</td>\n",
              "      <td>25995</td>\n",
              "      <td>Automatic</td>\n",
              "      <td>43344</td>\n",
              "      <td>Diesel</td>\n",
              "      <td>200</td>\n",
              "      <td>47.1</td>\n",
              "      <td>3.0</td>\n",
              "    </tr>\n",
              "    <tr>\n",
              "      <th>7893</th>\n",
              "      <td>2 Series</td>\n",
              "      <td>2019</td>\n",
              "      <td>25000</td>\n",
              "      <td>Automatic</td>\n",
              "      <td>4000</td>\n",
              "      <td>Petrol</td>\n",
              "      <td>145</td>\n",
              "      <td>47.9</td>\n",
              "      <td>2.0</td>\n",
              "    </tr>\n",
              "    <tr>\n",
              "      <th>7571</th>\n",
              "      <td>1 Series</td>\n",
              "      <td>2015</td>\n",
              "      <td>10950</td>\n",
              "      <td>Manual</td>\n",
              "      <td>33000</td>\n",
              "      <td>Diesel</td>\n",
              "      <td>20</td>\n",
              "      <td>72.4</td>\n",
              "      <td>1.5</td>\n",
              "    </tr>\n",
              "    <tr>\n",
              "      <th>...</th>\n",
              "      <td>...</td>\n",
              "      <td>...</td>\n",
              "      <td>...</td>\n",
              "      <td>...</td>\n",
              "      <td>...</td>\n",
              "      <td>...</td>\n",
              "      <td>...</td>\n",
              "      <td>...</td>\n",
              "      <td>...</td>\n",
              "    </tr>\n",
              "    <tr>\n",
              "      <th>5734</th>\n",
              "      <td>3 Series</td>\n",
              "      <td>2018</td>\n",
              "      <td>17995</td>\n",
              "      <td>Semi-Auto</td>\n",
              "      <td>40456</td>\n",
              "      <td>Diesel</td>\n",
              "      <td>145</td>\n",
              "      <td>64.2</td>\n",
              "      <td>2.0</td>\n",
              "    </tr>\n",
              "    <tr>\n",
              "      <th>5191</th>\n",
              "      <td>1 Series</td>\n",
              "      <td>2016</td>\n",
              "      <td>19950</td>\n",
              "      <td>Semi-Auto</td>\n",
              "      <td>23210</td>\n",
              "      <td>Petrol</td>\n",
              "      <td>200</td>\n",
              "      <td>39.8</td>\n",
              "      <td>3.0</td>\n",
              "    </tr>\n",
              "    <tr>\n",
              "      <th>5390</th>\n",
              "      <td>X2</td>\n",
              "      <td>2019</td>\n",
              "      <td>25450</td>\n",
              "      <td>Semi-Auto</td>\n",
              "      <td>5652</td>\n",
              "      <td>Diesel</td>\n",
              "      <td>145</td>\n",
              "      <td>47.9</td>\n",
              "      <td>2.0</td>\n",
              "    </tr>\n",
              "    <tr>\n",
              "      <th>860</th>\n",
              "      <td>X1</td>\n",
              "      <td>2016</td>\n",
              "      <td>19850</td>\n",
              "      <td>Semi-Auto</td>\n",
              "      <td>14542</td>\n",
              "      <td>Diesel</td>\n",
              "      <td>125</td>\n",
              "      <td>60.1</td>\n",
              "      <td>2.0</td>\n",
              "    </tr>\n",
              "    <tr>\n",
              "      <th>7270</th>\n",
              "      <td>1 Series</td>\n",
              "      <td>2016</td>\n",
              "      <td>15745</td>\n",
              "      <td>Automatic</td>\n",
              "      <td>17237</td>\n",
              "      <td>Petrol</td>\n",
              "      <td>125</td>\n",
              "      <td>54.3</td>\n",
              "      <td>1.5</td>\n",
              "    </tr>\n",
              "  </tbody>\n",
              "</table>\n",
              "<p>8085 rows × 9 columns</p>\n",
              "</div>"
            ],
            "text/plain": [
              "          model  year  price transmission  mileage fuelType  tax   mpg  \\\n",
              "930    5 Series  2013  12791    Semi-Auto    55642   Diesel  145  55.4   \n",
              "4052   1 Series  2019  23995    Semi-Auto     1527   Petrol  145  43.5   \n",
              "1197         X5  2015  25995    Automatic    43344   Diesel  200  47.1   \n",
              "7893   2 Series  2019  25000    Automatic     4000   Petrol  145  47.9   \n",
              "7571   1 Series  2015  10950       Manual    33000   Diesel   20  72.4   \n",
              "...         ...   ...    ...          ...      ...      ...  ...   ...   \n",
              "5734   3 Series  2018  17995    Semi-Auto    40456   Diesel  145  64.2   \n",
              "5191   1 Series  2016  19950    Semi-Auto    23210   Petrol  200  39.8   \n",
              "5390         X2  2019  25450    Semi-Auto     5652   Diesel  145  47.9   \n",
              "860          X1  2016  19850    Semi-Auto    14542   Diesel  125  60.1   \n",
              "7270   1 Series  2016  15745    Automatic    17237   Petrol  125  54.3   \n",
              "\n",
              "      engineSize  \n",
              "930          2.0  \n",
              "4052         1.5  \n",
              "1197         3.0  \n",
              "7893         2.0  \n",
              "7571         1.5  \n",
              "...          ...  \n",
              "5734         2.0  \n",
              "5191         3.0  \n",
              "5390         2.0  \n",
              "860          2.0  \n",
              "7270         1.5  \n",
              "\n",
              "[8085 rows x 9 columns]"
            ]
          },
          "execution_count": 19,
          "metadata": {},
          "output_type": "execute_result"
        }
      ],
      "source": [
        "train"
      ]
    },
    {
      "cell_type": "code",
      "execution_count": 20,
      "metadata": {
        "id": "ULSMDj5Ax-Oz"
      },
      "outputs": [],
      "source": [
        "import matplotlib.pyplot as plt\n",
        "plt.style.use('dark_background')"
      ]
    },
    {
      "cell_type": "code",
      "execution_count": 21,
      "metadata": {
        "colab": {
          "base_uri": "https://localhost:8080/",
          "height": 283
        },
        "id": "S3KkwTQexkUZ",
        "outputId": "f1af0f61-ea1d-4e55-97c8-b09545b725e4"
      },
      "outputs": [
        {
          "data": {
            "image/png": "[encoded data removed]",
            "text/plain": [
              "<Figure size 640x480 with 1 Axes>"
            ]
          },
          "metadata": {},
          "output_type": "display_data"
        }
      ],
      "source": [
        "train['price'].hist();"
      ]
    },
    {
      "cell_type": "code",
      "execution_count": 22,
      "metadata": {},
      "outputs": [
        {
          "data": {
            "image/png": "[encoded data removed]",
            "text/plain": [
              "<Figure size 640x480 with 1 Axes>"
            ]
          },
          "metadata": {},
          "output_type": "display_data"
        }
      ],
      "source": [
        "plt.boxplot(train['price']);"
      ]
    },
    {
      "cell_type": "code",
      "execution_count": 23,
      "metadata": {},
      "outputs": [
        {
          "data": {
            "image/png": "[encoded data removed]",
            "text/plain": [
              "<Figure size 640x480 with 1 Axes>"
            ]
          },
          "metadata": {},
          "output_type": "display_data"
        }
      ],
      "source": [
        "plt.boxplot(train['price'], showfliers=False);"
      ]
    },
    {
      "cell_type": "code",
      "execution_count": 24,
      "metadata": {
        "colab": {
          "base_uri": "https://localhost:8080/"
        },
        "id": "PWDNg7NHx0eP",
        "outputId": "da2c5a1d-5625-4907-fc4d-6f56e263f0a8"
      },
      "outputs": [
        {
          "data": {
            "text/plain": [
              "count      8085.000000\n",
              "mean      22668.821645\n",
              "std       11469.825387\n",
              "min        1445.000000\n",
              "25%       14800.000000\n",
              "50%       20022.000000\n",
              "75%       27850.000000\n",
              "max      123456.000000\n",
              "Name: price, dtype: float64"
            ]
          },
          "execution_count": 24,
          "metadata": {},
          "output_type": "execute_result"
        }
      ],
      "source": [
        "train['price'].describe()"
      ]
    },
    {
      "cell_type": "code",
      "execution_count": 25,
      "metadata": {
        "colab": {
          "base_uri": "https://localhost:8080/",
          "height": 865
        },
        "id": "OV1idMJEyibp",
        "outputId": "d0a2f806-d2a6-46a4-80b8-6b6cd7d6e924"
      },
      "outputs": [
        {
          "data": {
            "text/html": [
              "<div>\n",
              "<style scoped>\n",
              "    .dataframe tbody tr th:only-of-type {\n",
              "        vertical-align: middle;\n",
              "    }\n",
              "\n",
              "    .dataframe tbody tr th {\n",
              "        vertical-align: top;\n",
              "    }\n",
              "\n",
              "    .dataframe thead th {\n",
              "        text-align: right;\n",
              "    }\n",
              "</style>\n",
              "<table border=\"1\" class=\"dataframe\">\n",
              "  <thead>\n",
              "    <tr style=\"text-align: right;\">\n",
              "      <th></th>\n",
              "      <th>count</th>\n",
              "      <th>mean</th>\n",
              "      <th>median</th>\n",
              "    </tr>\n",
              "    <tr>\n",
              "      <th>year</th>\n",
              "      <th></th>\n",
              "      <th></th>\n",
              "      <th></th>\n",
              "    </tr>\n",
              "  </thead>\n",
              "  <tbody>\n",
              "    <tr>\n",
              "      <th>1996</th>\n",
              "      <td>1</td>\n",
              "      <td>5995.000000</td>\n",
              "      <td>5995.0</td>\n",
              "    </tr>\n",
              "    <tr>\n",
              "      <th>1997</th>\n",
              "      <td>1</td>\n",
              "      <td>3950.000000</td>\n",
              "      <td>3950.0</td>\n",
              "    </tr>\n",
              "    <tr>\n",
              "      <th>1998</th>\n",
              "      <td>1</td>\n",
              "      <td>3950.000000</td>\n",
              "      <td>3950.0</td>\n",
              "    </tr>\n",
              "    <tr>\n",
              "      <th>1999</th>\n",
              "      <td>3</td>\n",
              "      <td>3980.000000</td>\n",
              "      <td>3995.0</td>\n",
              "    </tr>\n",
              "    <tr>\n",
              "      <th>2000</th>\n",
              "      <td>1</td>\n",
              "      <td>1550.000000</td>\n",
              "      <td>1550.0</td>\n",
              "    </tr>\n",
              "    <tr>\n",
              "      <th>2001</th>\n",
              "      <td>3</td>\n",
              "      <td>7333.333333</td>\n",
              "      <td>5950.0</td>\n",
              "    </tr>\n",
              "    <tr>\n",
              "      <th>2002</th>\n",
              "      <td>4</td>\n",
              "      <td>3893.500000</td>\n",
              "      <td>3494.5</td>\n",
              "    </tr>\n",
              "    <tr>\n",
              "      <th>2003</th>\n",
              "      <td>2</td>\n",
              "      <td>9222.500000</td>\n",
              "      <td>9222.5</td>\n",
              "    </tr>\n",
              "    <tr>\n",
              "      <th>2004</th>\n",
              "      <td>7</td>\n",
              "      <td>7932.857143</td>\n",
              "      <td>3495.0</td>\n",
              "    </tr>\n",
              "    <tr>\n",
              "      <th>2005</th>\n",
              "      <td>6</td>\n",
              "      <td>5390.166667</td>\n",
              "      <td>4685.0</td>\n",
              "    </tr>\n",
              "    <tr>\n",
              "      <th>2006</th>\n",
              "      <td>12</td>\n",
              "      <td>5445.250000</td>\n",
              "      <td>3942.5</td>\n",
              "    </tr>\n",
              "    <tr>\n",
              "      <th>2007</th>\n",
              "      <td>12</td>\n",
              "      <td>5027.833333</td>\n",
              "      <td>4597.5</td>\n",
              "    </tr>\n",
              "    <tr>\n",
              "      <th>2008</th>\n",
              "      <td>18</td>\n",
              "      <td>6004.666667</td>\n",
              "      <td>5272.5</td>\n",
              "    </tr>\n",
              "    <tr>\n",
              "      <th>2009</th>\n",
              "      <td>22</td>\n",
              "      <td>6506.090909</td>\n",
              "      <td>5845.0</td>\n",
              "    </tr>\n",
              "    <tr>\n",
              "      <th>2010</th>\n",
              "      <td>31</td>\n",
              "      <td>7374.129032</td>\n",
              "      <td>6495.0</td>\n",
              "    </tr>\n",
              "    <tr>\n",
              "      <th>2011</th>\n",
              "      <td>37</td>\n",
              "      <td>8860.297297</td>\n",
              "      <td>8470.0</td>\n",
              "    </tr>\n",
              "    <tr>\n",
              "      <th>2012</th>\n",
              "      <td>92</td>\n",
              "      <td>9432.923913</td>\n",
              "      <td>8990.0</td>\n",
              "    </tr>\n",
              "    <tr>\n",
              "      <th>2013</th>\n",
              "      <td>253</td>\n",
              "      <td>11041.347826</td>\n",
              "      <td>10490.0</td>\n",
              "    </tr>\n",
              "    <tr>\n",
              "      <th>2014</th>\n",
              "      <td>384</td>\n",
              "      <td>13411.333333</td>\n",
              "      <td>12797.5</td>\n",
              "    </tr>\n",
              "    <tr>\n",
              "      <th>2015</th>\n",
              "      <td>716</td>\n",
              "      <td>15086.536313</td>\n",
              "      <td>14103.5</td>\n",
              "    </tr>\n",
              "    <tr>\n",
              "      <th>2016</th>\n",
              "      <td>1398</td>\n",
              "      <td>16531.655222</td>\n",
              "      <td>15699.5</td>\n",
              "    </tr>\n",
              "    <tr>\n",
              "      <th>2017</th>\n",
              "      <td>1296</td>\n",
              "      <td>19205.839506</td>\n",
              "      <td>18299.5</td>\n",
              "    </tr>\n",
              "    <tr>\n",
              "      <th>2018</th>\n",
              "      <td>635</td>\n",
              "      <td>22562.450394</td>\n",
              "      <td>21000.0</td>\n",
              "    </tr>\n",
              "    <tr>\n",
              "      <th>2019</th>\n",
              "      <td>2598</td>\n",
              "      <td>31066.986143</td>\n",
              "      <td>27980.0</td>\n",
              "    </tr>\n",
              "    <tr>\n",
              "      <th>2020</th>\n",
              "      <td>552</td>\n",
              "      <td>35359.445652</td>\n",
              "      <td>32450.5</td>\n",
              "    </tr>\n",
              "  </tbody>\n",
              "</table>\n",
              "</div>"
            ],
            "text/plain": [
              "      count          mean   median\n",
              "year                              \n",
              "1996      1   5995.000000   5995.0\n",
              "1997      1   3950.000000   3950.0\n",
              "1998      1   3950.000000   3950.0\n",
              "1999      3   3980.000000   3995.0\n",
              "2000      1   1550.000000   1550.0\n",
              "2001      3   7333.333333   5950.0\n",
              "2002      4   3893.500000   3494.5\n",
              "2003      2   9222.500000   9222.5\n",
              "2004      7   7932.857143   3495.0\n",
              "2005      6   5390.166667   4685.0\n",
              "2006     12   5445.250000   3942.5\n",
              "2007     12   5027.833333   4597.5\n",
              "2008     18   6004.666667   5272.5\n",
              "2009     22   6506.090909   5845.0\n",
              "2010     31   7374.129032   6495.0\n",
              "2011     37   8860.297297   8470.0\n",
              "2012     92   9432.923913   8990.0\n",
              "2013    253  11041.347826  10490.0\n",
              "2014    384  13411.333333  12797.5\n",
              "2015    716  15086.536313  14103.5\n",
              "2016   1398  16531.655222  15699.5\n",
              "2017   1296  19205.839506  18299.5\n",
              "2018    635  22562.450394  21000.0\n",
              "2019   2598  31066.986143  27980.0\n",
              "2020    552  35359.445652  32450.5"
            ]
          },
          "execution_count": 25,
          "metadata": {},
          "output_type": "execute_result"
        }
      ],
      "source": [
        "train.groupby('year')['price'].agg(['count','mean','median'])"
      ]
    },
    {
      "cell_type": "code",
      "execution_count": 26,
      "metadata": {
        "colab": {
          "base_uri": "https://localhost:8080/",
          "height": 297
        },
        "id": "eJLtNeeszLQW",
        "outputId": "69359a85-44ff-438d-e02f-2681e1c516ca"
      },
      "outputs": [
        {
          "data": {
            "image/png": "[encoded data removed]",
            "text/plain": [
              "<Figure size 640x480 with 1 Axes>"
            ]
          },
          "metadata": {},
          "output_type": "display_data"
        }
      ],
      "source": [
        "train.groupby('year')['price'].median().plot();"
      ]
    },
    {
      "cell_type": "markdown",
      "metadata": {
        "id": "E_BGpGCmzoqS"
      },
      "source": [
        "# Baseline"
      ]
    },
    {
      "cell_type": "code",
      "execution_count": 27,
      "metadata": {
        "colab": {
          "base_uri": "https://localhost:8080/"
        },
        "id": "haZgzaQv0XcU",
        "outputId": "0172bc96-c4f9-4281-be4a-e4c75e291abc"
      },
      "outputs": [
        {
          "data": {
            "text/plain": [
              "count      8085.000000\n",
              "mean      22668.821645\n",
              "std       11469.825387\n",
              "min        1445.000000\n",
              "25%       14800.000000\n",
              "50%       20022.000000\n",
              "75%       27850.000000\n",
              "max      123456.000000\n",
              "Name: price, dtype: float64"
            ]
          },
          "execution_count": 27,
          "metadata": {},
          "output_type": "execute_result"
        }
      ],
      "source": [
        "train['price'].describe()"
      ]
    },
    {
      "cell_type": "code",
      "execution_count": 28,
      "metadata": {
        "id": "lDYuGTy01TaS"
      },
      "outputs": [],
      "source": [
        "train['price_pred_mean'] = train['price'].mean()"
      ]
    },
    {
      "cell_type": "code",
      "execution_count": 29,
      "metadata": {
        "id": "C_IvVQCd1VTz"
      },
      "outputs": [],
      "source": [
        "train['err'] = train['price_pred_mean'] - train['price']"
      ]
    },
    {
      "cell_type": "code",
      "execution_count": 30,
      "metadata": {
        "id": "E_Stao6M1avG"
      },
      "outputs": [],
      "source": [
        "train['err_abs'] = abs(train['err'])"
      ]
    },
    {
      "cell_type": "code",
      "execution_count": 31,
      "metadata": {},
      "outputs": [
        {
          "data": {
            "text/html": [
              "<div>\n",
              "<style scoped>\n",
              "    .dataframe tbody tr th:only-of-type {\n",
              "        vertical-align: middle;\n",
              "    }\n",
              "\n",
              "    .dataframe tbody tr th {\n",
              "        vertical-align: top;\n",
              "    }\n",
              "\n",
              "    .dataframe thead th {\n",
              "        text-align: right;\n",
              "    }\n",
              "</style>\n",
              "<table border=\"1\" class=\"dataframe\">\n",
              "  <thead>\n",
              "    <tr style=\"text-align: right;\">\n",
              "      <th></th>\n",
              "      <th>model</th>\n",
              "      <th>year</th>\n",
              "      <th>price</th>\n",
              "      <th>transmission</th>\n",
              "      <th>mileage</th>\n",
              "      <th>fuelType</th>\n",
              "      <th>tax</th>\n",
              "      <th>mpg</th>\n",
              "      <th>engineSize</th>\n",
              "      <th>price_pred_mean</th>\n",
              "      <th>err</th>\n",
              "      <th>err_abs</th>\n",
              "    </tr>\n",
              "  </thead>\n",
              "  <tbody>\n",
              "    <tr>\n",
              "      <th>930</th>\n",
              "      <td>5 Series</td>\n",
              "      <td>2013</td>\n",
              "      <td>12791</td>\n",
              "      <td>Semi-Auto</td>\n",
              "      <td>55642</td>\n",
              "      <td>Diesel</td>\n",
              "      <td>145</td>\n",
              "      <td>55.4</td>\n",
              "      <td>2.0</td>\n",
              "      <td>22668.821645</td>\n",
              "      <td>9877.821645</td>\n",
              "      <td>9877.821645</td>\n",
              "    </tr>\n",
              "    <tr>\n",
              "      <th>4052</th>\n",
              "      <td>1 Series</td>\n",
              "      <td>2019</td>\n",
              "      <td>23995</td>\n",
              "      <td>Semi-Auto</td>\n",
              "      <td>1527</td>\n",
              "      <td>Petrol</td>\n",
              "      <td>145</td>\n",
              "      <td>43.5</td>\n",
              "      <td>1.5</td>\n",
              "      <td>22668.821645</td>\n",
              "      <td>-1326.178355</td>\n",
              "      <td>1326.178355</td>\n",
              "    </tr>\n",
              "    <tr>\n",
              "      <th>1197</th>\n",
              "      <td>X5</td>\n",
              "      <td>2015</td>\n",
              "      <td>25995</td>\n",
              "      <td>Automatic</td>\n",
              "      <td>43344</td>\n",
              "      <td>Diesel</td>\n",
              "      <td>200</td>\n",
              "      <td>47.1</td>\n",
              "      <td>3.0</td>\n",
              "      <td>22668.821645</td>\n",
              "      <td>-3326.178355</td>\n",
              "      <td>3326.178355</td>\n",
              "    </tr>\n",
              "    <tr>\n",
              "      <th>7893</th>\n",
              "      <td>2 Series</td>\n",
              "      <td>2019</td>\n",
              "      <td>25000</td>\n",
              "      <td>Automatic</td>\n",
              "      <td>4000</td>\n",
              "      <td>Petrol</td>\n",
              "      <td>145</td>\n",
              "      <td>47.9</td>\n",
              "      <td>2.0</td>\n",
              "      <td>22668.821645</td>\n",
              "      <td>-2331.178355</td>\n",
              "      <td>2331.178355</td>\n",
              "    </tr>\n",
              "    <tr>\n",
              "      <th>7571</th>\n",
              "      <td>1 Series</td>\n",
              "      <td>2015</td>\n",
              "      <td>10950</td>\n",
              "      <td>Manual</td>\n",
              "      <td>33000</td>\n",
              "      <td>Diesel</td>\n",
              "      <td>20</td>\n",
              "      <td>72.4</td>\n",
              "      <td>1.5</td>\n",
              "      <td>22668.821645</td>\n",
              "      <td>11718.821645</td>\n",
              "      <td>11718.821645</td>\n",
              "    </tr>\n",
              "  </tbody>\n",
              "</table>\n",
              "</div>"
            ],
            "text/plain": [
              "          model  year  price transmission  mileage fuelType  tax   mpg  \\\n",
              "930    5 Series  2013  12791    Semi-Auto    55642   Diesel  145  55.4   \n",
              "4052   1 Series  2019  23995    Semi-Auto     1527   Petrol  145  43.5   \n",
              "1197         X5  2015  25995    Automatic    43344   Diesel  200  47.1   \n",
              "7893   2 Series  2019  25000    Automatic     4000   Petrol  145  47.9   \n",
              "7571   1 Series  2015  10950       Manual    33000   Diesel   20  72.4   \n",
              "\n",
              "      engineSize  price_pred_mean           err       err_abs  \n",
              "930          2.0     22668.821645   9877.821645   9877.821645  \n",
              "4052         1.5     22668.821645  -1326.178355   1326.178355  \n",
              "1197         3.0     22668.821645  -3326.178355   3326.178355  \n",
              "7893         2.0     22668.821645  -2331.178355   2331.178355  \n",
              "7571         1.5     22668.821645  11718.821645  11718.821645  "
            ]
          },
          "execution_count": 31,
          "metadata": {},
          "output_type": "execute_result"
        }
      ],
      "source": [
        "train.head()"
      ]
    },
    {
      "cell_type": "code",
      "execution_count": 32,
      "metadata": {
        "colab": {
          "base_uri": "https://localhost:8080/"
        },
        "id": "z1Vl7Ulr11rA",
        "outputId": "fa931caa-7d4a-43fa-ba1b-94dac677ab25"
      },
      "outputs": [
        {
          "data": {
            "text/plain": [
              "8450.556631461715"
            ]
          },
          "execution_count": 32,
          "metadata": {},
          "output_type": "execute_result"
        }
      ],
      "source": [
        "train['err_abs'].mean()"
      ]
    },
    {
      "cell_type": "code",
      "execution_count": 33,
      "metadata": {
        "id": "nuwVWbab2RD5"
      },
      "outputs": [],
      "source": [
        "train['err_abs_pct'] = train['err_abs'] / train['price']"
      ]
    },
    {
      "cell_type": "code",
      "execution_count": 34,
      "metadata": {
        "colab": {
          "base_uri": "https://localhost:8080/"
        },
        "id": "-GMGdPqX2eVm",
        "outputId": "01fb8f50-3607-418b-f68d-fe8f634836c6"
      },
      "outputs": [
        {
          "data": {
            "text/plain": [
              "0.48316912602731443"
            ]
          },
          "execution_count": 34,
          "metadata": {},
          "output_type": "execute_result"
        }
      ],
      "source": [
        "train['err_abs_pct'].mean()"
      ]
    },
    {
      "cell_type": "code",
      "execution_count": 35,
      "metadata": {
        "id": "K1ApA-Oj2phG"
      },
      "outputs": [],
      "source": [
        "train['price_pred_median'] = train['price'].median()"
      ]
    },
    {
      "cell_type": "code",
      "execution_count": 36,
      "metadata": {
        "colab": {
          "base_uri": "https://localhost:8080/",
          "height": 609
        },
        "id": "BwJgdzm52z5G",
        "outputId": "e1e6c541-ece2-43b9-9ad4-ecc97a68f80f"
      },
      "outputs": [
        {
          "data": {
            "text/html": [
              "<div>\n",
              "<style scoped>\n",
              "    .dataframe tbody tr th:only-of-type {\n",
              "        vertical-align: middle;\n",
              "    }\n",
              "\n",
              "    .dataframe tbody tr th {\n",
              "        vertical-align: top;\n",
              "    }\n",
              "\n",
              "    .dataframe thead th {\n",
              "        text-align: right;\n",
              "    }\n",
              "</style>\n",
              "<table border=\"1\" class=\"dataframe\">\n",
              "  <thead>\n",
              "    <tr style=\"text-align: right;\">\n",
              "      <th></th>\n",
              "      <th>model</th>\n",
              "      <th>year</th>\n",
              "      <th>price</th>\n",
              "      <th>transmission</th>\n",
              "      <th>mileage</th>\n",
              "      <th>fuelType</th>\n",
              "      <th>tax</th>\n",
              "      <th>mpg</th>\n",
              "      <th>engineSize</th>\n",
              "      <th>price_pred_mean</th>\n",
              "      <th>err</th>\n",
              "      <th>err_abs</th>\n",
              "      <th>err_abs_pct</th>\n",
              "      <th>price_pred_median</th>\n",
              "    </tr>\n",
              "  </thead>\n",
              "  <tbody>\n",
              "    <tr>\n",
              "      <th>930</th>\n",
              "      <td>5 Series</td>\n",
              "      <td>2013</td>\n",
              "      <td>12791</td>\n",
              "      <td>Semi-Auto</td>\n",
              "      <td>55642</td>\n",
              "      <td>Diesel</td>\n",
              "      <td>145</td>\n",
              "      <td>55.4</td>\n",
              "      <td>2.0</td>\n",
              "      <td>22668.821645</td>\n",
              "      <td>9877.821645</td>\n",
              "      <td>9877.821645</td>\n",
              "      <td>0.772248</td>\n",
              "      <td>20022.0</td>\n",
              "    </tr>\n",
              "    <tr>\n",
              "      <th>4052</th>\n",
              "      <td>1 Series</td>\n",
              "      <td>2019</td>\n",
              "      <td>23995</td>\n",
              "      <td>Semi-Auto</td>\n",
              "      <td>1527</td>\n",
              "      <td>Petrol</td>\n",
              "      <td>145</td>\n",
              "      <td>43.5</td>\n",
              "      <td>1.5</td>\n",
              "      <td>22668.821645</td>\n",
              "      <td>-1326.178355</td>\n",
              "      <td>1326.178355</td>\n",
              "      <td>0.055269</td>\n",
              "      <td>20022.0</td>\n",
              "    </tr>\n",
              "    <tr>\n",
              "      <th>1197</th>\n",
              "      <td>X5</td>\n",
              "      <td>2015</td>\n",
              "      <td>25995</td>\n",
              "      <td>Automatic</td>\n",
              "      <td>43344</td>\n",
              "      <td>Diesel</td>\n",
              "      <td>200</td>\n",
              "      <td>47.1</td>\n",
              "      <td>3.0</td>\n",
              "      <td>22668.821645</td>\n",
              "      <td>-3326.178355</td>\n",
              "      <td>3326.178355</td>\n",
              "      <td>0.127955</td>\n",
              "      <td>20022.0</td>\n",
              "    </tr>\n",
              "    <tr>\n",
              "      <th>7893</th>\n",
              "      <td>2 Series</td>\n",
              "      <td>2019</td>\n",
              "      <td>25000</td>\n",
              "      <td>Automatic</td>\n",
              "      <td>4000</td>\n",
              "      <td>Petrol</td>\n",
              "      <td>145</td>\n",
              "      <td>47.9</td>\n",
              "      <td>2.0</td>\n",
              "      <td>22668.821645</td>\n",
              "      <td>-2331.178355</td>\n",
              "      <td>2331.178355</td>\n",
              "      <td>0.093247</td>\n",
              "      <td>20022.0</td>\n",
              "    </tr>\n",
              "    <tr>\n",
              "      <th>7571</th>\n",
              "      <td>1 Series</td>\n",
              "      <td>2015</td>\n",
              "      <td>10950</td>\n",
              "      <td>Manual</td>\n",
              "      <td>33000</td>\n",
              "      <td>Diesel</td>\n",
              "      <td>20</td>\n",
              "      <td>72.4</td>\n",
              "      <td>1.5</td>\n",
              "      <td>22668.821645</td>\n",
              "      <td>11718.821645</td>\n",
              "      <td>11718.821645</td>\n",
              "      <td>1.070212</td>\n",
              "      <td>20022.0</td>\n",
              "    </tr>\n",
              "    <tr>\n",
              "      <th>...</th>\n",
              "      <td>...</td>\n",
              "      <td>...</td>\n",
              "      <td>...</td>\n",
              "      <td>...</td>\n",
              "      <td>...</td>\n",
              "      <td>...</td>\n",
              "      <td>...</td>\n",
              "      <td>...</td>\n",
              "      <td>...</td>\n",
              "      <td>...</td>\n",
              "      <td>...</td>\n",
              "      <td>...</td>\n",
              "      <td>...</td>\n",
              "      <td>...</td>\n",
              "    </tr>\n",
              "    <tr>\n",
              "      <th>5734</th>\n",
              "      <td>3 Series</td>\n",
              "      <td>2018</td>\n",
              "      <td>17995</td>\n",
              "      <td>Semi-Auto</td>\n",
              "      <td>40456</td>\n",
              "      <td>Diesel</td>\n",
              "      <td>145</td>\n",
              "      <td>64.2</td>\n",
              "      <td>2.0</td>\n",
              "      <td>22668.821645</td>\n",
              "      <td>4673.821645</td>\n",
              "      <td>4673.821645</td>\n",
              "      <td>0.259729</td>\n",
              "      <td>20022.0</td>\n",
              "    </tr>\n",
              "    <tr>\n",
              "      <th>5191</th>\n",
              "      <td>1 Series</td>\n",
              "      <td>2016</td>\n",
              "      <td>19950</td>\n",
              "      <td>Semi-Auto</td>\n",
              "      <td>23210</td>\n",
              "      <td>Petrol</td>\n",
              "      <td>200</td>\n",
              "      <td>39.8</td>\n",
              "      <td>3.0</td>\n",
              "      <td>22668.821645</td>\n",
              "      <td>2718.821645</td>\n",
              "      <td>2718.821645</td>\n",
              "      <td>0.136282</td>\n",
              "      <td>20022.0</td>\n",
              "    </tr>\n",
              "    <tr>\n",
              "      <th>5390</th>\n",
              "      <td>X2</td>\n",
              "      <td>2019</td>\n",
              "      <td>25450</td>\n",
              "      <td>Semi-Auto</td>\n",
              "      <td>5652</td>\n",
              "      <td>Diesel</td>\n",
              "      <td>145</td>\n",
              "      <td>47.9</td>\n",
              "      <td>2.0</td>\n",
              "      <td>22668.821645</td>\n",
              "      <td>-2781.178355</td>\n",
              "      <td>2781.178355</td>\n",
              "      <td>0.109280</td>\n",
              "      <td>20022.0</td>\n",
              "    </tr>\n",
              "    <tr>\n",
              "      <th>860</th>\n",
              "      <td>X1</td>\n",
              "      <td>2016</td>\n",
              "      <td>19850</td>\n",
              "      <td>Semi-Auto</td>\n",
              "      <td>14542</td>\n",
              "      <td>Diesel</td>\n",
              "      <td>125</td>\n",
              "      <td>60.1</td>\n",
              "      <td>2.0</td>\n",
              "      <td>22668.821645</td>\n",
              "      <td>2818.821645</td>\n",
              "      <td>2818.821645</td>\n",
              "      <td>0.142006</td>\n",
              "      <td>20022.0</td>\n",
              "    </tr>\n",
              "    <tr>\n",
              "      <th>7270</th>\n",
              "      <td>1 Series</td>\n",
              "      <td>2016</td>\n",
              "      <td>15745</td>\n",
              "      <td>Automatic</td>\n",
              "      <td>17237</td>\n",
              "      <td>Petrol</td>\n",
              "      <td>125</td>\n",
              "      <td>54.3</td>\n",
              "      <td>1.5</td>\n",
              "      <td>22668.821645</td>\n",
              "      <td>6923.821645</td>\n",
              "      <td>6923.821645</td>\n",
              "      <td>0.439747</td>\n",
              "      <td>20022.0</td>\n",
              "    </tr>\n",
              "  </tbody>\n",
              "</table>\n",
              "<p>8085 rows × 14 columns</p>\n",
              "</div>"
            ],
            "text/plain": [
              "          model  year  price transmission  mileage fuelType  tax   mpg  \\\n",
              "930    5 Series  2013  12791    Semi-Auto    55642   Diesel  145  55.4   \n",
              "4052   1 Series  2019  23995    Semi-Auto     1527   Petrol  145  43.5   \n",
              "1197         X5  2015  25995    Automatic    43344   Diesel  200  47.1   \n",
              "7893   2 Series  2019  25000    Automatic     4000   Petrol  145  47.9   \n",
              "7571   1 Series  2015  10950       Manual    33000   Diesel   20  72.4   \n",
              "...         ...   ...    ...          ...      ...      ...  ...   ...   \n",
              "5734   3 Series  2018  17995    Semi-Auto    40456   Diesel  145  64.2   \n",
              "5191   1 Series  2016  19950    Semi-Auto    23210   Petrol  200  39.8   \n",
              "5390         X2  2019  25450    Semi-Auto     5652   Diesel  145  47.9   \n",
              "860          X1  2016  19850    Semi-Auto    14542   Diesel  125  60.1   \n",
              "7270   1 Series  2016  15745    Automatic    17237   Petrol  125  54.3   \n",
              "\n",
              "      engineSize  price_pred_mean           err       err_abs  err_abs_pct  \\\n",
              "930          2.0     22668.821645   9877.821645   9877.821645     0.772248   \n",
              "4052         1.5     22668.821645  -1326.178355   1326.178355     0.055269   \n",
              "1197         3.0     22668.821645  -3326.178355   3326.178355     0.127955   \n",
              "7893         2.0     22668.821645  -2331.178355   2331.178355     0.093247   \n",
              "7571         1.5     22668.821645  11718.821645  11718.821645     1.070212   \n",
              "...          ...              ...           ...           ...          ...   \n",
              "5734         2.0     22668.821645   4673.821645   4673.821645     0.259729   \n",
              "5191         3.0     22668.821645   2718.821645   2718.821645     0.136282   \n",
              "5390         2.0     22668.821645  -2781.178355   2781.178355     0.109280   \n",
              "860          2.0     22668.821645   2818.821645   2818.821645     0.142006   \n",
              "7270         1.5     22668.821645   6923.821645   6923.821645     0.439747   \n",
              "\n",
              "      price_pred_median  \n",
              "930             20022.0  \n",
              "4052            20022.0  \n",
              "1197            20022.0  \n",
              "7893            20022.0  \n",
              "7571            20022.0  \n",
              "...                 ...  \n",
              "5734            20022.0  \n",
              "5191            20022.0  \n",
              "5390            20022.0  \n",
              "860             20022.0  \n",
              "7270            20022.0  \n",
              "\n",
              "[8085 rows x 14 columns]"
            ]
          },
          "execution_count": 36,
          "metadata": {},
          "output_type": "execute_result"
        }
      ],
      "source": [
        "train"
      ]
    },
    {
      "cell_type": "code",
      "execution_count": 37,
      "metadata": {
        "id": "rvc8bORA20N9"
      },
      "outputs": [],
      "source": [
        "from sklearn.metrics import mean_absolute_error, mean_absolute_percentage_error"
      ]
    },
    {
      "cell_type": "code",
      "execution_count": 38,
      "metadata": {
        "colab": {
          "base_uri": "https://localhost:8080/"
        },
        "id": "f-XZJbiJ3Boq",
        "outputId": "fa058229-58fc-42a5-c8e2-e9b959104aeb"
      },
      "outputs": [
        {
          "data": {
            "text/plain": [
              "8450.556631461715"
            ]
          },
          "execution_count": 38,
          "metadata": {},
          "output_type": "execute_result"
        }
      ],
      "source": [
        "mean_absolute_error(train['price'], train['price_pred_mean'])"
      ]
    },
    {
      "cell_type": "code",
      "execution_count": 39,
      "metadata": {
        "colab": {
          "base_uri": "https://localhost:8080/"
        },
        "id": "0HR1N_YM3NZk",
        "outputId": "a263ec0c-94c6-4f8d-814c-b0638cee5fe8"
      },
      "outputs": [
        {
          "data": {
            "text/plain": [
              "0.48316912602731443"
            ]
          },
          "execution_count": 39,
          "metadata": {},
          "output_type": "execute_result"
        }
      ],
      "source": [
        "mean_absolute_percentage_error(train['price'], train['price_pred_mean'])"
      ]
    },
    {
      "cell_type": "code",
      "execution_count": 40,
      "metadata": {
        "colab": {
          "base_uri": "https://localhost:8080/"
        },
        "id": "5OHQkIlL3SFl",
        "outputId": "cf525ca6-8229-42ab-ac04-9b057cda37c8"
      },
      "outputs": [
        {
          "data": {
            "text/plain": [
              "8220.5146567718"
            ]
          },
          "execution_count": 40,
          "metadata": {},
          "output_type": "execute_result"
        }
      ],
      "source": [
        "mean_absolute_error(train['price'], train['price_pred_median'])"
      ]
    },
    {
      "cell_type": "code",
      "execution_count": 41,
      "metadata": {
        "colab": {
          "base_uri": "https://localhost:8080/"
        },
        "id": "AV3vJntN3V3M",
        "outputId": "910e8bc8-2e06-4a57-db9a-4d4e2ee7cca8"
      },
      "outputs": [
        {
          "data": {
            "text/plain": [
              "0.41711111879393314"
            ]
          },
          "execution_count": 41,
          "metadata": {},
          "output_type": "execute_result"
        }
      ],
      "source": [
        "mean_absolute_percentage_error(train['price'], train['price_pred_median'])"
      ]
    },
    {
      "cell_type": "code",
      "execution_count": 42,
      "metadata": {
        "colab": {
          "base_uri": "https://localhost:8080/",
          "height": 423
        },
        "id": "ZtFFxKZE3qO3",
        "outputId": "cedd950c-c5e5-4e5f-82b9-931944400fe8"
      },
      "outputs": [
        {
          "data": {
            "text/html": [
              "<div>\n",
              "<style scoped>\n",
              "    .dataframe tbody tr th:only-of-type {\n",
              "        vertical-align: middle;\n",
              "    }\n",
              "\n",
              "    .dataframe tbody tr th {\n",
              "        vertical-align: top;\n",
              "    }\n",
              "\n",
              "    .dataframe thead th {\n",
              "        text-align: right;\n",
              "    }\n",
              "</style>\n",
              "<table border=\"1\" class=\"dataframe\">\n",
              "  <thead>\n",
              "    <tr style=\"text-align: right;\">\n",
              "      <th></th>\n",
              "      <th>model</th>\n",
              "      <th>year</th>\n",
              "      <th>price</th>\n",
              "      <th>transmission</th>\n",
              "      <th>mileage</th>\n",
              "      <th>fuelType</th>\n",
              "      <th>tax</th>\n",
              "      <th>mpg</th>\n",
              "      <th>engineSize</th>\n",
              "    </tr>\n",
              "  </thead>\n",
              "  <tbody>\n",
              "    <tr>\n",
              "      <th>8728</th>\n",
              "      <td>1 Series</td>\n",
              "      <td>2018</td>\n",
              "      <td>15300</td>\n",
              "      <td>Manual</td>\n",
              "      <td>36469</td>\n",
              "      <td>Diesel</td>\n",
              "      <td>150</td>\n",
              "      <td>50.4</td>\n",
              "      <td>1.5</td>\n",
              "    </tr>\n",
              "    <tr>\n",
              "      <th>761</th>\n",
              "      <td>5 Series</td>\n",
              "      <td>2014</td>\n",
              "      <td>15495</td>\n",
              "      <td>Semi-Auto</td>\n",
              "      <td>51565</td>\n",
              "      <td>Diesel</td>\n",
              "      <td>160</td>\n",
              "      <td>51.4</td>\n",
              "      <td>2.0</td>\n",
              "    </tr>\n",
              "    <tr>\n",
              "      <th>7209</th>\n",
              "      <td>X3</td>\n",
              "      <td>2019</td>\n",
              "      <td>39875</td>\n",
              "      <td>Semi-Auto</td>\n",
              "      <td>8988</td>\n",
              "      <td>Diesel</td>\n",
              "      <td>150</td>\n",
              "      <td>36.7</td>\n",
              "      <td>3.0</td>\n",
              "    </tr>\n",
              "    <tr>\n",
              "      <th>6685</th>\n",
              "      <td>2 Series</td>\n",
              "      <td>2019</td>\n",
              "      <td>21730</td>\n",
              "      <td>Automatic</td>\n",
              "      <td>5054</td>\n",
              "      <td>Petrol</td>\n",
              "      <td>145</td>\n",
              "      <td>39.2</td>\n",
              "      <td>1.5</td>\n",
              "    </tr>\n",
              "    <tr>\n",
              "      <th>8548</th>\n",
              "      <td>2 Series</td>\n",
              "      <td>2018</td>\n",
              "      <td>13799</td>\n",
              "      <td>Manual</td>\n",
              "      <td>13369</td>\n",
              "      <td>Diesel</td>\n",
              "      <td>145</td>\n",
              "      <td>65.7</td>\n",
              "      <td>1.5</td>\n",
              "    </tr>\n",
              "    <tr>\n",
              "      <th>...</th>\n",
              "      <td>...</td>\n",
              "      <td>...</td>\n",
              "      <td>...</td>\n",
              "      <td>...</td>\n",
              "      <td>...</td>\n",
              "      <td>...</td>\n",
              "      <td>...</td>\n",
              "      <td>...</td>\n",
              "      <td>...</td>\n",
              "    </tr>\n",
              "    <tr>\n",
              "      <th>9825</th>\n",
              "      <td>4 Series</td>\n",
              "      <td>2019</td>\n",
              "      <td>25500</td>\n",
              "      <td>Automatic</td>\n",
              "      <td>3250</td>\n",
              "      <td>Petrol</td>\n",
              "      <td>145</td>\n",
              "      <td>48.7</td>\n",
              "      <td>2.0</td>\n",
              "    </tr>\n",
              "    <tr>\n",
              "      <th>3522</th>\n",
              "      <td>7 Series</td>\n",
              "      <td>2019</td>\n",
              "      <td>52700</td>\n",
              "      <td>Semi-Auto</td>\n",
              "      <td>706</td>\n",
              "      <td>Diesel</td>\n",
              "      <td>145</td>\n",
              "      <td>44.1</td>\n",
              "      <td>3.0</td>\n",
              "    </tr>\n",
              "    <tr>\n",
              "      <th>9757</th>\n",
              "      <td>3 Series</td>\n",
              "      <td>2017</td>\n",
              "      <td>15795</td>\n",
              "      <td>Automatic</td>\n",
              "      <td>64000</td>\n",
              "      <td>Hybrid</td>\n",
              "      <td>0</td>\n",
              "      <td>134.5</td>\n",
              "      <td>2.0</td>\n",
              "    </tr>\n",
              "    <tr>\n",
              "      <th>6100</th>\n",
              "      <td>4 Series</td>\n",
              "      <td>2019</td>\n",
              "      <td>29840</td>\n",
              "      <td>Automatic</td>\n",
              "      <td>6000</td>\n",
              "      <td>Diesel</td>\n",
              "      <td>145</td>\n",
              "      <td>60.1</td>\n",
              "      <td>2.0</td>\n",
              "    </tr>\n",
              "    <tr>\n",
              "      <th>3946</th>\n",
              "      <td>4 Series</td>\n",
              "      <td>2020</td>\n",
              "      <td>34980</td>\n",
              "      <td>Semi-Auto</td>\n",
              "      <td>1000</td>\n",
              "      <td>Petrol</td>\n",
              "      <td>145</td>\n",
              "      <td>48.7</td>\n",
              "      <td>2.0</td>\n",
              "    </tr>\n",
              "  </tbody>\n",
              "</table>\n",
              "<p>2696 rows × 9 columns</p>\n",
              "</div>"
            ],
            "text/plain": [
              "          model  year  price transmission  mileage fuelType  tax    mpg  \\\n",
              "8728   1 Series  2018  15300       Manual    36469   Diesel  150   50.4   \n",
              "761    5 Series  2014  15495    Semi-Auto    51565   Diesel  160   51.4   \n",
              "7209         X3  2019  39875    Semi-Auto     8988   Diesel  150   36.7   \n",
              "6685   2 Series  2019  21730    Automatic     5054   Petrol  145   39.2   \n",
              "8548   2 Series  2018  13799       Manual    13369   Diesel  145   65.7   \n",
              "...         ...   ...    ...          ...      ...      ...  ...    ...   \n",
              "9825   4 Series  2019  25500    Automatic     3250   Petrol  145   48.7   \n",
              "3522   7 Series  2019  52700    Semi-Auto      706   Diesel  145   44.1   \n",
              "9757   3 Series  2017  15795    Automatic    64000   Hybrid    0  134.5   \n",
              "6100   4 Series  2019  29840    Automatic     6000   Diesel  145   60.1   \n",
              "3946   4 Series  2020  34980    Semi-Auto     1000   Petrol  145   48.7   \n",
              "\n",
              "      engineSize  \n",
              "8728         1.5  \n",
              "761          2.0  \n",
              "7209         3.0  \n",
              "6685         1.5  \n",
              "8548         1.5  \n",
              "...          ...  \n",
              "9825         2.0  \n",
              "3522         3.0  \n",
              "9757         2.0  \n",
              "6100         2.0  \n",
              "3946         2.0  \n",
              "\n",
              "[2696 rows x 9 columns]"
            ]
          },
          "execution_count": 42,
          "metadata": {},
          "output_type": "execute_result"
        }
      ],
      "source": [
        "test"
      ]
    },
    {
      "cell_type": "code",
      "execution_count": 43,
      "metadata": {
        "colab": {
          "base_uri": "https://localhost:8080/"
        },
        "id": "0pZ_VXW_3v6r",
        "outputId": "f42bc5b3-85a9-4419-f27b-8a1ec2cff93c"
      },
      "outputs": [
        {
          "data": {
            "text/plain": [
              "20022.0"
            ]
          },
          "execution_count": 43,
          "metadata": {},
          "output_type": "execute_result"
        }
      ],
      "source": [
        "train['price'].median()"
      ]
    },
    {
      "cell_type": "code",
      "execution_count": 44,
      "metadata": {
        "id": "IFIxLy2t3Z4y"
      },
      "outputs": [],
      "source": [
        "test['price_pred_median'] = train['price'].median()"
      ]
    },
    {
      "cell_type": "code",
      "execution_count": 45,
      "metadata": {
        "colab": {
          "base_uri": "https://localhost:8080/",
          "height": 423
        },
        "id": "YjmXPsAW3zjf",
        "outputId": "3bf83cfe-79fe-4760-95aa-50fcc006fe8c"
      },
      "outputs": [
        {
          "data": {
            "text/html": [
              "<div>\n",
              "<style scoped>\n",
              "    .dataframe tbody tr th:only-of-type {\n",
              "        vertical-align: middle;\n",
              "    }\n",
              "\n",
              "    .dataframe tbody tr th {\n",
              "        vertical-align: top;\n",
              "    }\n",
              "\n",
              "    .dataframe thead th {\n",
              "        text-align: right;\n",
              "    }\n",
              "</style>\n",
              "<table border=\"1\" class=\"dataframe\">\n",
              "  <thead>\n",
              "    <tr style=\"text-align: right;\">\n",
              "      <th></th>\n",
              "      <th>model</th>\n",
              "      <th>year</th>\n",
              "      <th>price</th>\n",
              "      <th>transmission</th>\n",
              "      <th>mileage</th>\n",
              "      <th>fuelType</th>\n",
              "      <th>tax</th>\n",
              "      <th>mpg</th>\n",
              "      <th>engineSize</th>\n",
              "      <th>price_pred_median</th>\n",
              "    </tr>\n",
              "  </thead>\n",
              "  <tbody>\n",
              "    <tr>\n",
              "      <th>8728</th>\n",
              "      <td>1 Series</td>\n",
              "      <td>2018</td>\n",
              "      <td>15300</td>\n",
              "      <td>Manual</td>\n",
              "      <td>36469</td>\n",
              "      <td>Diesel</td>\n",
              "      <td>150</td>\n",
              "      <td>50.4</td>\n",
              "      <td>1.5</td>\n",
              "      <td>20022.0</td>\n",
              "    </tr>\n",
              "    <tr>\n",
              "      <th>761</th>\n",
              "      <td>5 Series</td>\n",
              "      <td>2014</td>\n",
              "      <td>15495</td>\n",
              "      <td>Semi-Auto</td>\n",
              "      <td>51565</td>\n",
              "      <td>Diesel</td>\n",
              "      <td>160</td>\n",
              "      <td>51.4</td>\n",
              "      <td>2.0</td>\n",
              "      <td>20022.0</td>\n",
              "    </tr>\n",
              "    <tr>\n",
              "      <th>7209</th>\n",
              "      <td>X3</td>\n",
              "      <td>2019</td>\n",
              "      <td>39875</td>\n",
              "      <td>Semi-Auto</td>\n",
              "      <td>8988</td>\n",
              "      <td>Diesel</td>\n",
              "      <td>150</td>\n",
              "      <td>36.7</td>\n",
              "      <td>3.0</td>\n",
              "      <td>20022.0</td>\n",
              "    </tr>\n",
              "    <tr>\n",
              "      <th>6685</th>\n",
              "      <td>2 Series</td>\n",
              "      <td>2019</td>\n",
              "      <td>21730</td>\n",
              "      <td>Automatic</td>\n",
              "      <td>5054</td>\n",
              "      <td>Petrol</td>\n",
              "      <td>145</td>\n",
              "      <td>39.2</td>\n",
              "      <td>1.5</td>\n",
              "      <td>20022.0</td>\n",
              "    </tr>\n",
              "    <tr>\n",
              "      <th>8548</th>\n",
              "      <td>2 Series</td>\n",
              "      <td>2018</td>\n",
              "      <td>13799</td>\n",
              "      <td>Manual</td>\n",
              "      <td>13369</td>\n",
              "      <td>Diesel</td>\n",
              "      <td>145</td>\n",
              "      <td>65.7</td>\n",
              "      <td>1.5</td>\n",
              "      <td>20022.0</td>\n",
              "    </tr>\n",
              "    <tr>\n",
              "      <th>...</th>\n",
              "      <td>...</td>\n",
              "      <td>...</td>\n",
              "      <td>...</td>\n",
              "      <td>...</td>\n",
              "      <td>...</td>\n",
              "      <td>...</td>\n",
              "      <td>...</td>\n",
              "      <td>...</td>\n",
              "      <td>...</td>\n",
              "      <td>...</td>\n",
              "    </tr>\n",
              "    <tr>\n",
              "      <th>9825</th>\n",
              "      <td>4 Series</td>\n",
              "      <td>2019</td>\n",
              "      <td>25500</td>\n",
              "      <td>Automatic</td>\n",
              "      <td>3250</td>\n",
              "      <td>Petrol</td>\n",
              "      <td>145</td>\n",
              "      <td>48.7</td>\n",
              "      <td>2.0</td>\n",
              "      <td>20022.0</td>\n",
              "    </tr>\n",
              "    <tr>\n",
              "      <th>3522</th>\n",
              "      <td>7 Series</td>\n",
              "      <td>2019</td>\n",
              "      <td>52700</td>\n",
              "      <td>Semi-Auto</td>\n",
              "      <td>706</td>\n",
              "      <td>Diesel</td>\n",
              "      <td>145</td>\n",
              "      <td>44.1</td>\n",
              "      <td>3.0</td>\n",
              "      <td>20022.0</td>\n",
              "    </tr>\n",
              "    <tr>\n",
              "      <th>9757</th>\n",
              "      <td>3 Series</td>\n",
              "      <td>2017</td>\n",
              "      <td>15795</td>\n",
              "      <td>Automatic</td>\n",
              "      <td>64000</td>\n",
              "      <td>Hybrid</td>\n",
              "      <td>0</td>\n",
              "      <td>134.5</td>\n",
              "      <td>2.0</td>\n",
              "      <td>20022.0</td>\n",
              "    </tr>\n",
              "    <tr>\n",
              "      <th>6100</th>\n",
              "      <td>4 Series</td>\n",
              "      <td>2019</td>\n",
              "      <td>29840</td>\n",
              "      <td>Automatic</td>\n",
              "      <td>6000</td>\n",
              "      <td>Diesel</td>\n",
              "      <td>145</td>\n",
              "      <td>60.1</td>\n",
              "      <td>2.0</td>\n",
              "      <td>20022.0</td>\n",
              "    </tr>\n",
              "    <tr>\n",
              "      <th>3946</th>\n",
              "      <td>4 Series</td>\n",
              "      <td>2020</td>\n",
              "      <td>34980</td>\n",
              "      <td>Semi-Auto</td>\n",
              "      <td>1000</td>\n",
              "      <td>Petrol</td>\n",
              "      <td>145</td>\n",
              "      <td>48.7</td>\n",
              "      <td>2.0</td>\n",
              "      <td>20022.0</td>\n",
              "    </tr>\n",
              "  </tbody>\n",
              "</table>\n",
              "<p>2696 rows × 10 columns</p>\n",
              "</div>"
            ],
            "text/plain": [
              "          model  year  price transmission  mileage fuelType  tax    mpg  \\\n",
              "8728   1 Series  2018  15300       Manual    36469   Diesel  150   50.4   \n",
              "761    5 Series  2014  15495    Semi-Auto    51565   Diesel  160   51.4   \n",
              "7209         X3  2019  39875    Semi-Auto     8988   Diesel  150   36.7   \n",
              "6685   2 Series  2019  21730    Automatic     5054   Petrol  145   39.2   \n",
              "8548   2 Series  2018  13799       Manual    13369   Diesel  145   65.7   \n",
              "...         ...   ...    ...          ...      ...      ...  ...    ...   \n",
              "9825   4 Series  2019  25500    Automatic     3250   Petrol  145   48.7   \n",
              "3522   7 Series  2019  52700    Semi-Auto      706   Diesel  145   44.1   \n",
              "9757   3 Series  2017  15795    Automatic    64000   Hybrid    0  134.5   \n",
              "6100   4 Series  2019  29840    Automatic     6000   Diesel  145   60.1   \n",
              "3946   4 Series  2020  34980    Semi-Auto     1000   Petrol  145   48.7   \n",
              "\n",
              "      engineSize  price_pred_median  \n",
              "8728         1.5            20022.0  \n",
              "761          2.0            20022.0  \n",
              "7209         3.0            20022.0  \n",
              "6685         1.5            20022.0  \n",
              "8548         1.5            20022.0  \n",
              "...          ...                ...  \n",
              "9825         2.0            20022.0  \n",
              "3522         3.0            20022.0  \n",
              "9757         2.0            20022.0  \n",
              "6100         2.0            20022.0  \n",
              "3946         2.0            20022.0  \n",
              "\n",
              "[2696 rows x 10 columns]"
            ]
          },
          "execution_count": 45,
          "metadata": {},
          "output_type": "execute_result"
        }
      ],
      "source": [
        "test"
      ]
    },
    {
      "cell_type": "code",
      "execution_count": 46,
      "metadata": {
        "colab": {
          "base_uri": "https://localhost:8080/"
        },
        "id": "GR_cmq_q37Bk",
        "outputId": "c5353df2-7b05-492c-c9cb-b2d0e7039d8c"
      },
      "outputs": [
        {
          "data": {
            "text/plain": [
              "8211.845697329376"
            ]
          },
          "execution_count": 46,
          "metadata": {},
          "output_type": "execute_result"
        }
      ],
      "source": [
        "mean_absolute_error(test['price'], test['price_pred_median'])"
      ]
    },
    {
      "cell_type": "code",
      "execution_count": 47,
      "metadata": {
        "colab": {
          "base_uri": "https://localhost:8080/"
        },
        "id": "jEdIfH5m37Bk",
        "outputId": "e16ead93-93e0-47c2-ec3a-c150e3ba1e87"
      },
      "outputs": [
        {
          "data": {
            "text/plain": [
              "0.409212791738344"
            ]
          },
          "execution_count": 47,
          "metadata": {},
          "output_type": "execute_result"
        }
      ],
      "source": [
        "mean_absolute_percentage_error(test['price'], test['price_pred_median'])"
      ]
    },
    {
      "cell_type": "markdown",
      "metadata": {
        "id": "GX1MmRkS3_jH"
      },
      "source": [
        "# Алгоритм на основе года"
      ]
    },
    {
      "cell_type": "code",
      "execution_count": 48,
      "metadata": {
        "colab": {
          "base_uri": "https://localhost:8080/",
          "height": 865
        },
        "id": "boFMnpqU49_v",
        "outputId": "73eae5aa-8f7b-44b0-8927-ec865e75b180"
      },
      "outputs": [
        {
          "data": {
            "text/html": [
              "<div>\n",
              "<style scoped>\n",
              "    .dataframe tbody tr th:only-of-type {\n",
              "        vertical-align: middle;\n",
              "    }\n",
              "\n",
              "    .dataframe tbody tr th {\n",
              "        vertical-align: top;\n",
              "    }\n",
              "\n",
              "    .dataframe thead th {\n",
              "        text-align: right;\n",
              "    }\n",
              "</style>\n",
              "<table border=\"1\" class=\"dataframe\">\n",
              "  <thead>\n",
              "    <tr style=\"text-align: right;\">\n",
              "      <th></th>\n",
              "      <th>count</th>\n",
              "      <th>mean</th>\n",
              "      <th>median</th>\n",
              "    </tr>\n",
              "    <tr>\n",
              "      <th>year</th>\n",
              "      <th></th>\n",
              "      <th></th>\n",
              "      <th></th>\n",
              "    </tr>\n",
              "  </thead>\n",
              "  <tbody>\n",
              "    <tr>\n",
              "      <th>1996</th>\n",
              "      <td>1</td>\n",
              "      <td>5995.000000</td>\n",
              "      <td>5995.0</td>\n",
              "    </tr>\n",
              "    <tr>\n",
              "      <th>1997</th>\n",
              "      <td>1</td>\n",
              "      <td>3950.000000</td>\n",
              "      <td>3950.0</td>\n",
              "    </tr>\n",
              "    <tr>\n",
              "      <th>1998</th>\n",
              "      <td>1</td>\n",
              "      <td>3950.000000</td>\n",
              "      <td>3950.0</td>\n",
              "    </tr>\n",
              "    <tr>\n",
              "      <th>1999</th>\n",
              "      <td>3</td>\n",
              "      <td>3980.000000</td>\n",
              "      <td>3995.0</td>\n",
              "    </tr>\n",
              "    <tr>\n",
              "      <th>2000</th>\n",
              "      <td>1</td>\n",
              "      <td>1550.000000</td>\n",
              "      <td>1550.0</td>\n",
              "    </tr>\n",
              "    <tr>\n",
              "      <th>2001</th>\n",
              "      <td>3</td>\n",
              "      <td>7333.333333</td>\n",
              "      <td>5950.0</td>\n",
              "    </tr>\n",
              "    <tr>\n",
              "      <th>2002</th>\n",
              "      <td>4</td>\n",
              "      <td>3893.500000</td>\n",
              "      <td>3494.5</td>\n",
              "    </tr>\n",
              "    <tr>\n",
              "      <th>2003</th>\n",
              "      <td>2</td>\n",
              "      <td>9222.500000</td>\n",
              "      <td>9222.5</td>\n",
              "    </tr>\n",
              "    <tr>\n",
              "      <th>2004</th>\n",
              "      <td>7</td>\n",
              "      <td>7932.857143</td>\n",
              "      <td>3495.0</td>\n",
              "    </tr>\n",
              "    <tr>\n",
              "      <th>2005</th>\n",
              "      <td>6</td>\n",
              "      <td>5390.166667</td>\n",
              "      <td>4685.0</td>\n",
              "    </tr>\n",
              "    <tr>\n",
              "      <th>2006</th>\n",
              "      <td>12</td>\n",
              "      <td>5445.250000</td>\n",
              "      <td>3942.5</td>\n",
              "    </tr>\n",
              "    <tr>\n",
              "      <th>2007</th>\n",
              "      <td>12</td>\n",
              "      <td>5027.833333</td>\n",
              "      <td>4597.5</td>\n",
              "    </tr>\n",
              "    <tr>\n",
              "      <th>2008</th>\n",
              "      <td>18</td>\n",
              "      <td>6004.666667</td>\n",
              "      <td>5272.5</td>\n",
              "    </tr>\n",
              "    <tr>\n",
              "      <th>2009</th>\n",
              "      <td>22</td>\n",
              "      <td>6506.090909</td>\n",
              "      <td>5845.0</td>\n",
              "    </tr>\n",
              "    <tr>\n",
              "      <th>2010</th>\n",
              "      <td>31</td>\n",
              "      <td>7374.129032</td>\n",
              "      <td>6495.0</td>\n",
              "    </tr>\n",
              "    <tr>\n",
              "      <th>2011</th>\n",
              "      <td>37</td>\n",
              "      <td>8860.297297</td>\n",
              "      <td>8470.0</td>\n",
              "    </tr>\n",
              "    <tr>\n",
              "      <th>2012</th>\n",
              "      <td>92</td>\n",
              "      <td>9432.923913</td>\n",
              "      <td>8990.0</td>\n",
              "    </tr>\n",
              "    <tr>\n",
              "      <th>2013</th>\n",
              "      <td>253</td>\n",
              "      <td>11041.347826</td>\n",
              "      <td>10490.0</td>\n",
              "    </tr>\n",
              "    <tr>\n",
              "      <th>2014</th>\n",
              "      <td>384</td>\n",
              "      <td>13411.333333</td>\n",
              "      <td>12797.5</td>\n",
              "    </tr>\n",
              "    <tr>\n",
              "      <th>2015</th>\n",
              "      <td>716</td>\n",
              "      <td>15086.536313</td>\n",
              "      <td>14103.5</td>\n",
              "    </tr>\n",
              "    <tr>\n",
              "      <th>2016</th>\n",
              "      <td>1398</td>\n",
              "      <td>16531.655222</td>\n",
              "      <td>15699.5</td>\n",
              "    </tr>\n",
              "    <tr>\n",
              "      <th>2017</th>\n",
              "      <td>1296</td>\n",
              "      <td>19205.839506</td>\n",
              "      <td>18299.5</td>\n",
              "    </tr>\n",
              "    <tr>\n",
              "      <th>2018</th>\n",
              "      <td>635</td>\n",
              "      <td>22562.450394</td>\n",
              "      <td>21000.0</td>\n",
              "    </tr>\n",
              "    <tr>\n",
              "      <th>2019</th>\n",
              "      <td>2598</td>\n",
              "      <td>31066.986143</td>\n",
              "      <td>27980.0</td>\n",
              "    </tr>\n",
              "    <tr>\n",
              "      <th>2020</th>\n",
              "      <td>552</td>\n",
              "      <td>35359.445652</td>\n",
              "      <td>32450.5</td>\n",
              "    </tr>\n",
              "  </tbody>\n",
              "</table>\n",
              "</div>"
            ],
            "text/plain": [
              "      count          mean   median\n",
              "year                              \n",
              "1996      1   5995.000000   5995.0\n",
              "1997      1   3950.000000   3950.0\n",
              "1998      1   3950.000000   3950.0\n",
              "1999      3   3980.000000   3995.0\n",
              "2000      1   1550.000000   1550.0\n",
              "2001      3   7333.333333   5950.0\n",
              "2002      4   3893.500000   3494.5\n",
              "2003      2   9222.500000   9222.5\n",
              "2004      7   7932.857143   3495.0\n",
              "2005      6   5390.166667   4685.0\n",
              "2006     12   5445.250000   3942.5\n",
              "2007     12   5027.833333   4597.5\n",
              "2008     18   6004.666667   5272.5\n",
              "2009     22   6506.090909   5845.0\n",
              "2010     31   7374.129032   6495.0\n",
              "2011     37   8860.297297   8470.0\n",
              "2012     92   9432.923913   8990.0\n",
              "2013    253  11041.347826  10490.0\n",
              "2014    384  13411.333333  12797.5\n",
              "2015    716  15086.536313  14103.5\n",
              "2016   1398  16531.655222  15699.5\n",
              "2017   1296  19205.839506  18299.5\n",
              "2018    635  22562.450394  21000.0\n",
              "2019   2598  31066.986143  27980.0\n",
              "2020    552  35359.445652  32450.5"
            ]
          },
          "execution_count": 48,
          "metadata": {},
          "output_type": "execute_result"
        }
      ],
      "source": [
        "train.groupby('year')['price'].agg(['count','mean','median'])"
      ]
    },
    {
      "cell_type": "code",
      "execution_count": 49,
      "metadata": {
        "id": "YRSByiug5YwA"
      },
      "outputs": [],
      "source": [
        "model_year_mean = train.groupby('year')['price'].mean().reset_index()"
      ]
    },
    {
      "cell_type": "code",
      "execution_count": 50,
      "metadata": {
        "colab": {
          "base_uri": "https://localhost:8080/"
        },
        "id": "SYN4tfES5lCj",
        "outputId": "fd35084e-146c-40b4-b659-c9b17d6b415a"
      },
      "outputs": [
        {
          "data": {
            "text/plain": [
              "Index(['year', 'price'], dtype='object')"
            ]
          },
          "execution_count": 50,
          "metadata": {},
          "output_type": "execute_result"
        }
      ],
      "source": [
        "model_year_mean.columns"
      ]
    },
    {
      "cell_type": "code",
      "execution_count": 51,
      "metadata": {
        "id": "a4tWx8lZ6BKl"
      },
      "outputs": [],
      "source": [
        "model_year_mean.columns = ['year', 'price_pred_year_mean']"
      ]
    },
    {
      "cell_type": "code",
      "execution_count": 52,
      "metadata": {
        "id": "5PkJQbeR6a3M"
      },
      "outputs": [],
      "source": [
        "train = train.merge(model_year_mean, how='left', on='year')"
      ]
    },
    {
      "cell_type": "code",
      "execution_count": 53,
      "metadata": {
        "colab": {
          "base_uri": "https://localhost:8080/"
        },
        "id": "gXyNB5hH64ad",
        "outputId": "e9612a35-bea2-4d57-92bb-2cb7bd61cdc2"
      },
      "outputs": [
        {
          "data": {
            "text/plain": [
              "8220.5146567718"
            ]
          },
          "execution_count": 53,
          "metadata": {},
          "output_type": "execute_result"
        }
      ],
      "source": [
        "mean_absolute_error(train['price'], train['price_pred_median'])"
      ]
    },
    {
      "cell_type": "code",
      "execution_count": 54,
      "metadata": {
        "colab": {
          "base_uri": "https://localhost:8080/"
        },
        "id": "irYbIWsN64ad",
        "outputId": "490a0d86-4fda-4d64-e07f-21e1ddf461e0"
      },
      "outputs": [
        {
          "data": {
            "text/plain": [
              "0.41711111879393314"
            ]
          },
          "execution_count": 54,
          "metadata": {},
          "output_type": "execute_result"
        }
      ],
      "source": [
        "mean_absolute_percentage_error(train['price'], train['price_pred_median'])"
      ]
    },
    {
      "cell_type": "code",
      "execution_count": 55,
      "metadata": {
        "colab": {
          "base_uri": "https://localhost:8080/"
        },
        "id": "n-j2F-5H6u5p",
        "outputId": "480dac9f-0a42-410d-c614-10e7c4140e1b"
      },
      "outputs": [
        {
          "data": {
            "text/plain": [
              "5474.243598515644"
            ]
          },
          "execution_count": 55,
          "metadata": {},
          "output_type": "execute_result"
        }
      ],
      "source": [
        "mean_absolute_error(train['price'], train['price_pred_year_mean'])"
      ]
    },
    {
      "cell_type": "code",
      "execution_count": 56,
      "metadata": {
        "colab": {
          "base_uri": "https://localhost:8080/"
        },
        "id": "owYiH4m36u5q",
        "outputId": "f53b008b-6fd7-408e-e9b8-25a0d48d137c"
      },
      "outputs": [
        {
          "data": {
            "text/plain": [
              "0.2447228468704618"
            ]
          },
          "execution_count": 56,
          "metadata": {},
          "output_type": "execute_result"
        }
      ],
      "source": [
        "mean_absolute_percentage_error(train['price'], train['price_pred_year_mean'])"
      ]
    },
    {
      "cell_type": "code",
      "execution_count": 57,
      "metadata": {
        "id": "cWric90-6z6A"
      },
      "outputs": [],
      "source": [
        "test = test.merge(model_year_mean, how='left', on='year')"
      ]
    },
    {
      "cell_type": "code",
      "execution_count": 58,
      "metadata": {
        "colab": {
          "base_uri": "https://localhost:8080/"
        },
        "id": "lKeNV6ZJ7Gyr",
        "outputId": "cf688e97-6be5-4bf9-8638-6300b1d61f96"
      },
      "outputs": [
        {
          "data": {
            "text/plain": [
              "model                   0.0\n",
              "year                    0.0\n",
              "price                   0.0\n",
              "transmission            0.0\n",
              "mileage                 0.0\n",
              "fuelType                0.0\n",
              "tax                     0.0\n",
              "mpg                     0.0\n",
              "engineSize              0.0\n",
              "price_pred_median       0.0\n",
              "price_pred_year_mean    0.0\n",
              "dtype: float64"
            ]
          },
          "execution_count": 58,
          "metadata": {},
          "output_type": "execute_result"
        }
      ],
      "source": [
        "test.isna().mean()"
      ]
    },
    {
      "cell_type": "code",
      "execution_count": 59,
      "metadata": {
        "colab": {
          "base_uri": "https://localhost:8080/"
        },
        "id": "VuottQvp7N2F",
        "outputId": "62ceee1a-abfd-4990-ca66-92a602bc90dd"
      },
      "outputs": [
        {
          "data": {
            "text/plain": [
              "8211.845697329376"
            ]
          },
          "execution_count": 59,
          "metadata": {},
          "output_type": "execute_result"
        }
      ],
      "source": [
        "mean_absolute_error(test['price'], test['price_pred_median'])"
      ]
    },
    {
      "cell_type": "code",
      "execution_count": 60,
      "metadata": {
        "colab": {
          "base_uri": "https://localhost:8080/"
        },
        "id": "NABa1Vwf7N2F",
        "outputId": "9e1e6cea-4cc7-4212-9e70-ef136e146b52"
      },
      "outputs": [
        {
          "data": {
            "text/plain": [
              "0.409212791738344"
            ]
          },
          "execution_count": 60,
          "metadata": {},
          "output_type": "execute_result"
        }
      ],
      "source": [
        "mean_absolute_percentage_error(test['price'], test['price_pred_median'])"
      ]
    },
    {
      "cell_type": "code",
      "execution_count": 61,
      "metadata": {
        "colab": {
          "base_uri": "https://localhost:8080/"
        },
        "id": "VNiOQLja7OpD",
        "outputId": "be4eea00-135c-4cc8-9102-af7cc0e7a4ea"
      },
      "outputs": [
        {
          "data": {
            "text/plain": [
              "5426.271071211102"
            ]
          },
          "execution_count": 61,
          "metadata": {},
          "output_type": "execute_result"
        }
      ],
      "source": [
        "mean_absolute_error(test['price'], test['price_pred_year_mean'])"
      ]
    },
    {
      "cell_type": "code",
      "execution_count": 62,
      "metadata": {
        "colab": {
          "base_uri": "https://localhost:8080/"
        },
        "id": "4hr5jXJQ7OpD",
        "outputId": "ed8aecca-d8f2-432a-80eb-e585563a057d"
      },
      "outputs": [
        {
          "data": {
            "text/plain": [
              "0.23933940428873632"
            ]
          },
          "execution_count": 62,
          "metadata": {},
          "output_type": "execute_result"
        }
      ],
      "source": [
        "mean_absolute_percentage_error(test['price'], test['price_pred_year_mean'])"
      ]
    },
    {
      "cell_type": "markdown",
      "metadata": {
        "id": "bZXkv8Hz7RxW"
      },
      "source": [
        "# Медиана по году"
      ]
    },
    {
      "cell_type": "code",
      "execution_count": 63,
      "metadata": {
        "id": "0jokL1178cDi"
      },
      "outputs": [],
      "source": [
        "model_year_median = train.groupby('year')['price'].median().reset_index()"
      ]
    },
    {
      "cell_type": "code",
      "execution_count": 64,
      "metadata": {
        "id": "hO7T9s3d8hcy"
      },
      "outputs": [],
      "source": [
        "model_year_median = model_year_median.rename({'price':'price_pred_year_median'},axis=1)"
      ]
    },
    {
      "cell_type": "code",
      "execution_count": 65,
      "metadata": {
        "colab": {
          "base_uri": "https://localhost:8080/",
          "height": 833
        },
        "id": "4PCn43Q68s1z",
        "outputId": "b5a2cf07-e5f8-4545-d45e-b20894b9452d"
      },
      "outputs": [
        {
          "data": {
            "text/html": [
              "<div>\n",
              "<style scoped>\n",
              "    .dataframe tbody tr th:only-of-type {\n",
              "        vertical-align: middle;\n",
              "    }\n",
              "\n",
              "    .dataframe tbody tr th {\n",
              "        vertical-align: top;\n",
              "    }\n",
              "\n",
              "    .dataframe thead th {\n",
              "        text-align: right;\n",
              "    }\n",
              "</style>\n",
              "<table border=\"1\" class=\"dataframe\">\n",
              "  <thead>\n",
              "    <tr style=\"text-align: right;\">\n",
              "      <th></th>\n",
              "      <th>year</th>\n",
              "      <th>price_pred_year_median</th>\n",
              "    </tr>\n",
              "  </thead>\n",
              "  <tbody>\n",
              "    <tr>\n",
              "      <th>0</th>\n",
              "      <td>1996</td>\n",
              "      <td>5995.0</td>\n",
              "    </tr>\n",
              "    <tr>\n",
              "      <th>1</th>\n",
              "      <td>1997</td>\n",
              "      <td>3950.0</td>\n",
              "    </tr>\n",
              "    <tr>\n",
              "      <th>2</th>\n",
              "      <td>1998</td>\n",
              "      <td>3950.0</td>\n",
              "    </tr>\n",
              "    <tr>\n",
              "      <th>3</th>\n",
              "      <td>1999</td>\n",
              "      <td>3995.0</td>\n",
              "    </tr>\n",
              "    <tr>\n",
              "      <th>4</th>\n",
              "      <td>2000</td>\n",
              "      <td>1550.0</td>\n",
              "    </tr>\n",
              "    <tr>\n",
              "      <th>5</th>\n",
              "      <td>2001</td>\n",
              "      <td>5950.0</td>\n",
              "    </tr>\n",
              "    <tr>\n",
              "      <th>6</th>\n",
              "      <td>2002</td>\n",
              "      <td>3494.5</td>\n",
              "    </tr>\n",
              "    <tr>\n",
              "      <th>7</th>\n",
              "      <td>2003</td>\n",
              "      <td>9222.5</td>\n",
              "    </tr>\n",
              "    <tr>\n",
              "      <th>8</th>\n",
              "      <td>2004</td>\n",
              "      <td>3495.0</td>\n",
              "    </tr>\n",
              "    <tr>\n",
              "      <th>9</th>\n",
              "      <td>2005</td>\n",
              "      <td>4685.0</td>\n",
              "    </tr>\n",
              "    <tr>\n",
              "      <th>10</th>\n",
              "      <td>2006</td>\n",
              "      <td>3942.5</td>\n",
              "    </tr>\n",
              "    <tr>\n",
              "      <th>11</th>\n",
              "      <td>2007</td>\n",
              "      <td>4597.5</td>\n",
              "    </tr>\n",
              "    <tr>\n",
              "      <th>12</th>\n",
              "      <td>2008</td>\n",
              "      <td>5272.5</td>\n",
              "    </tr>\n",
              "    <tr>\n",
              "      <th>13</th>\n",
              "      <td>2009</td>\n",
              "      <td>5845.0</td>\n",
              "    </tr>\n",
              "    <tr>\n",
              "      <th>14</th>\n",
              "      <td>2010</td>\n",
              "      <td>6495.0</td>\n",
              "    </tr>\n",
              "    <tr>\n",
              "      <th>15</th>\n",
              "      <td>2011</td>\n",
              "      <td>8470.0</td>\n",
              "    </tr>\n",
              "    <tr>\n",
              "      <th>16</th>\n",
              "      <td>2012</td>\n",
              "      <td>8990.0</td>\n",
              "    </tr>\n",
              "    <tr>\n",
              "      <th>17</th>\n",
              "      <td>2013</td>\n",
              "      <td>10490.0</td>\n",
              "    </tr>\n",
              "    <tr>\n",
              "      <th>18</th>\n",
              "      <td>2014</td>\n",
              "      <td>12797.5</td>\n",
              "    </tr>\n",
              "    <tr>\n",
              "      <th>19</th>\n",
              "      <td>2015</td>\n",
              "      <td>14103.5</td>\n",
              "    </tr>\n",
              "    <tr>\n",
              "      <th>20</th>\n",
              "      <td>2016</td>\n",
              "      <td>15699.5</td>\n",
              "    </tr>\n",
              "    <tr>\n",
              "      <th>21</th>\n",
              "      <td>2017</td>\n",
              "      <td>18299.5</td>\n",
              "    </tr>\n",
              "    <tr>\n",
              "      <th>22</th>\n",
              "      <td>2018</td>\n",
              "      <td>21000.0</td>\n",
              "    </tr>\n",
              "    <tr>\n",
              "      <th>23</th>\n",
              "      <td>2019</td>\n",
              "      <td>27980.0</td>\n",
              "    </tr>\n",
              "    <tr>\n",
              "      <th>24</th>\n",
              "      <td>2020</td>\n",
              "      <td>32450.5</td>\n",
              "    </tr>\n",
              "  </tbody>\n",
              "</table>\n",
              "</div>"
            ],
            "text/plain": [
              "    year  price_pred_year_median\n",
              "0   1996                  5995.0\n",
              "1   1997                  3950.0\n",
              "2   1998                  3950.0\n",
              "3   1999                  3995.0\n",
              "4   2000                  1550.0\n",
              "5   2001                  5950.0\n",
              "6   2002                  3494.5\n",
              "7   2003                  9222.5\n",
              "8   2004                  3495.0\n",
              "9   2005                  4685.0\n",
              "10  2006                  3942.5\n",
              "11  2007                  4597.5\n",
              "12  2008                  5272.5\n",
              "13  2009                  5845.0\n",
              "14  2010                  6495.0\n",
              "15  2011                  8470.0\n",
              "16  2012                  8990.0\n",
              "17  2013                 10490.0\n",
              "18  2014                 12797.5\n",
              "19  2015                 14103.5\n",
              "20  2016                 15699.5\n",
              "21  2017                 18299.5\n",
              "22  2018                 21000.0\n",
              "23  2019                 27980.0\n",
              "24  2020                 32450.5"
            ]
          },
          "execution_count": 65,
          "metadata": {},
          "output_type": "execute_result"
        }
      ],
      "source": [
        "model_year_median"
      ]
    },
    {
      "cell_type": "code",
      "execution_count": 66,
      "metadata": {
        "id": "52ndJkoe8t-X"
      },
      "outputs": [],
      "source": [
        "train = train.merge(model_year_median, how='left', on='year')"
      ]
    },
    {
      "cell_type": "code",
      "execution_count": 67,
      "metadata": {
        "colab": {
          "base_uri": "https://localhost:8080/"
        },
        "id": "soh0-i0Y9FF1",
        "outputId": "532a46b4-5be4-47e4-eba5-38decb74078d"
      },
      "outputs": [
        {
          "data": {
            "text/plain": [
              "5474.243598515644"
            ]
          },
          "execution_count": 67,
          "metadata": {},
          "output_type": "execute_result"
        }
      ],
      "source": [
        "mean_absolute_error(train['price'], train['price_pred_year_mean'])"
      ]
    },
    {
      "cell_type": "code",
      "execution_count": 68,
      "metadata": {
        "colab": {
          "base_uri": "https://localhost:8080/"
        },
        "id": "7YTyqNkh9FF2",
        "outputId": "37d264a3-958a-45ad-b38d-75e22f9cdbf6"
      },
      "outputs": [
        {
          "data": {
            "text/plain": [
              "0.2447228468704618"
            ]
          },
          "execution_count": 68,
          "metadata": {},
          "output_type": "execute_result"
        }
      ],
      "source": [
        "mean_absolute_percentage_error(train['price'], train['price_pred_year_mean'])"
      ]
    },
    {
      "cell_type": "code",
      "execution_count": 69,
      "metadata": {
        "colab": {
          "base_uri": "https://localhost:8080/"
        },
        "id": "TTcftSyk9F1C",
        "outputId": "91315a28-40a5-41ac-bf0a-04433407b3a6"
      },
      "outputs": [
        {
          "data": {
            "text/plain": [
              "5232.327891156463"
            ]
          },
          "execution_count": 69,
          "metadata": {},
          "output_type": "execute_result"
        }
      ],
      "source": [
        "mean_absolute_error(train['price'], train['price_pred_year_median'])"
      ]
    },
    {
      "cell_type": "code",
      "execution_count": 70,
      "metadata": {
        "colab": {
          "base_uri": "https://localhost:8080/"
        },
        "id": "TiqdwcvS9F1C",
        "outputId": "7293ece9-b5bf-4abb-ac9f-68385f6dc87b"
      },
      "outputs": [
        {
          "data": {
            "text/plain": [
              "0.21723436816638503"
            ]
          },
          "execution_count": 70,
          "metadata": {},
          "output_type": "execute_result"
        }
      ],
      "source": [
        "mean_absolute_percentage_error(train['price'], train['price_pred_year_median'])"
      ]
    },
    {
      "cell_type": "code",
      "execution_count": 71,
      "metadata": {
        "id": "rBZ074mE9Iyd"
      },
      "outputs": [],
      "source": [
        "test = test.merge(model_year_median, how='left', on='year')"
      ]
    },
    {
      "cell_type": "code",
      "execution_count": 72,
      "metadata": {
        "colab": {
          "base_uri": "https://localhost:8080/"
        },
        "id": "dDnqZsgw9Ord",
        "outputId": "76fd092a-6bc0-4121-b716-bf0f9db1d17a"
      },
      "outputs": [
        {
          "data": {
            "text/plain": [
              "model                     0.0\n",
              "year                      0.0\n",
              "price                     0.0\n",
              "transmission              0.0\n",
              "mileage                   0.0\n",
              "fuelType                  0.0\n",
              "tax                       0.0\n",
              "mpg                       0.0\n",
              "engineSize                0.0\n",
              "price_pred_median         0.0\n",
              "price_pred_year_mean      0.0\n",
              "price_pred_year_median    0.0\n",
              "dtype: float64"
            ]
          },
          "execution_count": 72,
          "metadata": {},
          "output_type": "execute_result"
        }
      ],
      "source": [
        "test.isna().mean()"
      ]
    },
    {
      "cell_type": "code",
      "execution_count": 73,
      "metadata": {
        "colab": {
          "base_uri": "https://localhost:8080/"
        },
        "id": "2tM6UPYD9Ti9",
        "outputId": "03314867-ab43-496c-8f44-27cddc36b813"
      },
      "outputs": [
        {
          "data": {
            "text/plain": [
              "5426.271071211102"
            ]
          },
          "execution_count": 73,
          "metadata": {},
          "output_type": "execute_result"
        }
      ],
      "source": [
        "mean_absolute_error(test['price'], test['price_pred_year_mean'])"
      ]
    },
    {
      "cell_type": "code",
      "execution_count": 74,
      "metadata": {
        "colab": {
          "base_uri": "https://localhost:8080/"
        },
        "id": "BlhH1vUF9Ti-",
        "outputId": "126ca069-9e0d-45b7-9394-f61b36aad198"
      },
      "outputs": [
        {
          "data": {
            "text/plain": [
              "0.23933940428873632"
            ]
          },
          "execution_count": 74,
          "metadata": {},
          "output_type": "execute_result"
        }
      ],
      "source": [
        "mean_absolute_percentage_error(test['price'], test['price_pred_year_mean'])"
      ]
    },
    {
      "cell_type": "code",
      "execution_count": 75,
      "metadata": {
        "colab": {
          "base_uri": "https://localhost:8080/"
        },
        "id": "l7Oo7AUy9UfN",
        "outputId": "08998faa-b4e5-47dd-dbb7-6befc777d92d"
      },
      "outputs": [
        {
          "data": {
            "text/plain": [
              "5240.677299703264"
            ]
          },
          "execution_count": 75,
          "metadata": {},
          "output_type": "execute_result"
        }
      ],
      "source": [
        "mean_absolute_error(test['price'], test['price_pred_year_median'])"
      ]
    },
    {
      "cell_type": "code",
      "execution_count": 76,
      "metadata": {
        "colab": {
          "base_uri": "https://localhost:8080/"
        },
        "id": "2Qoa-6n_9UfN",
        "outputId": "0f65d304-2ffa-472b-c9af-bcfd205fcd5a"
      },
      "outputs": [
        {
          "data": {
            "text/plain": [
              "0.21478293590399475"
            ]
          },
          "execution_count": 76,
          "metadata": {},
          "output_type": "execute_result"
        }
      ],
      "source": [
        "mean_absolute_percentage_error(test['price'], test['price_pred_year_median'])"
      ]
    },
    {
      "cell_type": "markdown",
      "metadata": {
        "id": "kQIg0efg9Wrx"
      },
      "source": [
        "# Добавляем еще одну переменную"
      ]
    },
    {
      "cell_type": "code",
      "execution_count": 77,
      "metadata": {
        "colab": {
          "base_uri": "https://localhost:8080/",
          "height": 609
        },
        "id": "uibdENIzilZB",
        "outputId": "4e883c5f-67ea-4b9e-8736-0c7d9a9d5e1d"
      },
      "outputs": [
        {
          "data": {
            "text/html": [
              "<div>\n",
              "<style scoped>\n",
              "    .dataframe tbody tr th:only-of-type {\n",
              "        vertical-align: middle;\n",
              "    }\n",
              "\n",
              "    .dataframe tbody tr th {\n",
              "        vertical-align: top;\n",
              "    }\n",
              "\n",
              "    .dataframe thead th {\n",
              "        text-align: right;\n",
              "    }\n",
              "</style>\n",
              "<table border=\"1\" class=\"dataframe\">\n",
              "  <thead>\n",
              "    <tr style=\"text-align: right;\">\n",
              "      <th></th>\n",
              "      <th>model</th>\n",
              "      <th>year</th>\n",
              "      <th>price</th>\n",
              "      <th>transmission</th>\n",
              "      <th>mileage</th>\n",
              "      <th>fuelType</th>\n",
              "      <th>tax</th>\n",
              "      <th>mpg</th>\n",
              "      <th>engineSize</th>\n",
              "      <th>price_pred_mean</th>\n",
              "      <th>err</th>\n",
              "      <th>err_abs</th>\n",
              "      <th>err_abs_pct</th>\n",
              "      <th>price_pred_median</th>\n",
              "      <th>price_pred_year_mean</th>\n",
              "      <th>price_pred_year_median</th>\n",
              "    </tr>\n",
              "  </thead>\n",
              "  <tbody>\n",
              "    <tr>\n",
              "      <th>0</th>\n",
              "      <td>5 Series</td>\n",
              "      <td>2013</td>\n",
              "      <td>12791</td>\n",
              "      <td>Semi-Auto</td>\n",
              "      <td>55642</td>\n",
              "      <td>Diesel</td>\n",
              "      <td>145</td>\n",
              "      <td>55.4</td>\n",
              "      <td>2.0</td>\n",
              "      <td>22668.821645</td>\n",
              "      <td>9877.821645</td>\n",
              "      <td>9877.821645</td>\n",
              "      <td>0.772248</td>\n",
              "      <td>20022.0</td>\n",
              "      <td>11041.347826</td>\n",
              "      <td>10490.0</td>\n",
              "    </tr>\n",
              "    <tr>\n",
              "      <th>1</th>\n",
              "      <td>1 Series</td>\n",
              "      <td>2019</td>\n",
              "      <td>23995</td>\n",
              "      <td>Semi-Auto</td>\n",
              "      <td>1527</td>\n",
              "      <td>Petrol</td>\n",
              "      <td>145</td>\n",
              "      <td>43.5</td>\n",
              "      <td>1.5</td>\n",
              "      <td>22668.821645</td>\n",
              "      <td>-1326.178355</td>\n",
              "      <td>1326.178355</td>\n",
              "      <td>0.055269</td>\n",
              "      <td>20022.0</td>\n",
              "      <td>31066.986143</td>\n",
              "      <td>27980.0</td>\n",
              "    </tr>\n",
              "    <tr>\n",
              "      <th>2</th>\n",
              "      <td>X5</td>\n",
              "      <td>2015</td>\n",
              "      <td>25995</td>\n",
              "      <td>Automatic</td>\n",
              "      <td>43344</td>\n",
              "      <td>Diesel</td>\n",
              "      <td>200</td>\n",
              "      <td>47.1</td>\n",
              "      <td>3.0</td>\n",
              "      <td>22668.821645</td>\n",
              "      <td>-3326.178355</td>\n",
              "      <td>3326.178355</td>\n",
              "      <td>0.127955</td>\n",
              "      <td>20022.0</td>\n",
              "      <td>15086.536313</td>\n",
              "      <td>14103.5</td>\n",
              "    </tr>\n",
              "    <tr>\n",
              "      <th>3</th>\n",
              "      <td>2 Series</td>\n",
              "      <td>2019</td>\n",
              "      <td>25000</td>\n",
              "      <td>Automatic</td>\n",
              "      <td>4000</td>\n",
              "      <td>Petrol</td>\n",
              "      <td>145</td>\n",
              "      <td>47.9</td>\n",
              "      <td>2.0</td>\n",
              "      <td>22668.821645</td>\n",
              "      <td>-2331.178355</td>\n",
              "      <td>2331.178355</td>\n",
              "      <td>0.093247</td>\n",
              "      <td>20022.0</td>\n",
              "      <td>31066.986143</td>\n",
              "      <td>27980.0</td>\n",
              "    </tr>\n",
              "    <tr>\n",
              "      <th>4</th>\n",
              "      <td>1 Series</td>\n",
              "      <td>2015</td>\n",
              "      <td>10950</td>\n",
              "      <td>Manual</td>\n",
              "      <td>33000</td>\n",
              "      <td>Diesel</td>\n",
              "      <td>20</td>\n",
              "      <td>72.4</td>\n",
              "      <td>1.5</td>\n",
              "      <td>22668.821645</td>\n",
              "      <td>11718.821645</td>\n",
              "      <td>11718.821645</td>\n",
              "      <td>1.070212</td>\n",
              "      <td>20022.0</td>\n",
              "      <td>15086.536313</td>\n",
              "      <td>14103.5</td>\n",
              "    </tr>\n",
              "    <tr>\n",
              "      <th>...</th>\n",
              "      <td>...</td>\n",
              "      <td>...</td>\n",
              "      <td>...</td>\n",
              "      <td>...</td>\n",
              "      <td>...</td>\n",
              "      <td>...</td>\n",
              "      <td>...</td>\n",
              "      <td>...</td>\n",
              "      <td>...</td>\n",
              "      <td>...</td>\n",
              "      <td>...</td>\n",
              "      <td>...</td>\n",
              "      <td>...</td>\n",
              "      <td>...</td>\n",
              "      <td>...</td>\n",
              "      <td>...</td>\n",
              "    </tr>\n",
              "    <tr>\n",
              "      <th>8080</th>\n",
              "      <td>3 Series</td>\n",
              "      <td>2018</td>\n",
              "      <td>17995</td>\n",
              "      <td>Semi-Auto</td>\n",
              "      <td>40456</td>\n",
              "      <td>Diesel</td>\n",
              "      <td>145</td>\n",
              "      <td>64.2</td>\n",
              "      <td>2.0</td>\n",
              "      <td>22668.821645</td>\n",
              "      <td>4673.821645</td>\n",
              "      <td>4673.821645</td>\n",
              "      <td>0.259729</td>\n",
              "      <td>20022.0</td>\n",
              "      <td>22562.450394</td>\n",
              "      <td>21000.0</td>\n",
              "    </tr>\n",
              "    <tr>\n",
              "      <th>8081</th>\n",
              "      <td>1 Series</td>\n",
              "      <td>2016</td>\n",
              "      <td>19950</td>\n",
              "      <td>Semi-Auto</td>\n",
              "      <td>23210</td>\n",
              "      <td>Petrol</td>\n",
              "      <td>200</td>\n",
              "      <td>39.8</td>\n",
              "      <td>3.0</td>\n",
              "      <td>22668.821645</td>\n",
              "      <td>2718.821645</td>\n",
              "      <td>2718.821645</td>\n",
              "      <td>0.136282</td>\n",
              "      <td>20022.0</td>\n",
              "      <td>16531.655222</td>\n",
              "      <td>15699.5</td>\n",
              "    </tr>\n",
              "    <tr>\n",
              "      <th>8082</th>\n",
              "      <td>X2</td>\n",
              "      <td>2019</td>\n",
              "      <td>25450</td>\n",
              "      <td>Semi-Auto</td>\n",
              "      <td>5652</td>\n",
              "      <td>Diesel</td>\n",
              "      <td>145</td>\n",
              "      <td>47.9</td>\n",
              "      <td>2.0</td>\n",
              "      <td>22668.821645</td>\n",
              "      <td>-2781.178355</td>\n",
              "      <td>2781.178355</td>\n",
              "      <td>0.109280</td>\n",
              "      <td>20022.0</td>\n",
              "      <td>31066.986143</td>\n",
              "      <td>27980.0</td>\n",
              "    </tr>\n",
              "    <tr>\n",
              "      <th>8083</th>\n",
              "      <td>X1</td>\n",
              "      <td>2016</td>\n",
              "      <td>19850</td>\n",
              "      <td>Semi-Auto</td>\n",
              "      <td>14542</td>\n",
              "      <td>Diesel</td>\n",
              "      <td>125</td>\n",
              "      <td>60.1</td>\n",
              "      <td>2.0</td>\n",
              "      <td>22668.821645</td>\n",
              "      <td>2818.821645</td>\n",
              "      <td>2818.821645</td>\n",
              "      <td>0.142006</td>\n",
              "      <td>20022.0</td>\n",
              "      <td>16531.655222</td>\n",
              "      <td>15699.5</td>\n",
              "    </tr>\n",
              "    <tr>\n",
              "      <th>8084</th>\n",
              "      <td>1 Series</td>\n",
              "      <td>2016</td>\n",
              "      <td>15745</td>\n",
              "      <td>Automatic</td>\n",
              "      <td>17237</td>\n",
              "      <td>Petrol</td>\n",
              "      <td>125</td>\n",
              "      <td>54.3</td>\n",
              "      <td>1.5</td>\n",
              "      <td>22668.821645</td>\n",
              "      <td>6923.821645</td>\n",
              "      <td>6923.821645</td>\n",
              "      <td>0.439747</td>\n",
              "      <td>20022.0</td>\n",
              "      <td>16531.655222</td>\n",
              "      <td>15699.5</td>\n",
              "    </tr>\n",
              "  </tbody>\n",
              "</table>\n",
              "<p>8085 rows × 16 columns</p>\n",
              "</div>"
            ],
            "text/plain": [
              "          model  year  price transmission  mileage fuelType  tax   mpg  \\\n",
              "0      5 Series  2013  12791    Semi-Auto    55642   Diesel  145  55.4   \n",
              "1      1 Series  2019  23995    Semi-Auto     1527   Petrol  145  43.5   \n",
              "2            X5  2015  25995    Automatic    43344   Diesel  200  47.1   \n",
              "3      2 Series  2019  25000    Automatic     4000   Petrol  145  47.9   \n",
              "4      1 Series  2015  10950       Manual    33000   Diesel   20  72.4   \n",
              "...         ...   ...    ...          ...      ...      ...  ...   ...   \n",
              "8080   3 Series  2018  17995    Semi-Auto    40456   Diesel  145  64.2   \n",
              "8081   1 Series  2016  19950    Semi-Auto    23210   Petrol  200  39.8   \n",
              "8082         X2  2019  25450    Semi-Auto     5652   Diesel  145  47.9   \n",
              "8083         X1  2016  19850    Semi-Auto    14542   Diesel  125  60.1   \n",
              "8084   1 Series  2016  15745    Automatic    17237   Petrol  125  54.3   \n",
              "\n",
              "      engineSize  price_pred_mean           err       err_abs  err_abs_pct  \\\n",
              "0            2.0     22668.821645   9877.821645   9877.821645     0.772248   \n",
              "1            1.5     22668.821645  -1326.178355   1326.178355     0.055269   \n",
              "2            3.0     22668.821645  -3326.178355   3326.178355     0.127955   \n",
              "3            2.0     22668.821645  -2331.178355   2331.178355     0.093247   \n",
              "4            1.5     22668.821645  11718.821645  11718.821645     1.070212   \n",
              "...          ...              ...           ...           ...          ...   \n",
              "8080         2.0     22668.821645   4673.821645   4673.821645     0.259729   \n",
              "8081         3.0     22668.821645   2718.821645   2718.821645     0.136282   \n",
              "8082         2.0     22668.821645  -2781.178355   2781.178355     0.109280   \n",
              "8083         2.0     22668.821645   2818.821645   2818.821645     0.142006   \n",
              "8084         1.5     22668.821645   6923.821645   6923.821645     0.439747   \n",
              "\n",
              "      price_pred_median  price_pred_year_mean  price_pred_year_median  \n",
              "0               20022.0          11041.347826                 10490.0  \n",
              "1               20022.0          31066.986143                 27980.0  \n",
              "2               20022.0          15086.536313                 14103.5  \n",
              "3               20022.0          31066.986143                 27980.0  \n",
              "4               20022.0          15086.536313                 14103.5  \n",
              "...                 ...                   ...                     ...  \n",
              "8080            20022.0          22562.450394                 21000.0  \n",
              "8081            20022.0          16531.655222                 15699.5  \n",
              "8082            20022.0          31066.986143                 27980.0  \n",
              "8083            20022.0          16531.655222                 15699.5  \n",
              "8084            20022.0          16531.655222                 15699.5  \n",
              "\n",
              "[8085 rows x 16 columns]"
            ]
          },
          "execution_count": 77,
          "metadata": {},
          "output_type": "execute_result"
        }
      ],
      "source": [
        "train"
      ]
    },
    {
      "cell_type": "code",
      "execution_count": 78,
      "metadata": {
        "colab": {
          "base_uri": "https://localhost:8080/",
          "height": 645
        },
        "id": "VixAh0QejeGX",
        "outputId": "01a42503-743e-47ec-cfe4-3aa0752f5050"
      },
      "outputs": [
        {
          "data": {
            "text/html": [
              "<div>\n",
              "<style scoped>\n",
              "    .dataframe tbody tr th:only-of-type {\n",
              "        vertical-align: middle;\n",
              "    }\n",
              "\n",
              "    .dataframe tbody tr th {\n",
              "        vertical-align: top;\n",
              "    }\n",
              "\n",
              "    .dataframe thead tr th {\n",
              "        text-align: left;\n",
              "    }\n",
              "\n",
              "    .dataframe thead tr:last-of-type th {\n",
              "        text-align: right;\n",
              "    }\n",
              "</style>\n",
              "<table border=\"1\" class=\"dataframe\">\n",
              "  <thead>\n",
              "    <tr>\n",
              "      <th></th>\n",
              "      <th colspan=\"3\" halign=\"left\">price</th>\n",
              "      <th colspan=\"3\" halign=\"left\">year</th>\n",
              "    </tr>\n",
              "    <tr>\n",
              "      <th></th>\n",
              "      <th>count</th>\n",
              "      <th>mean</th>\n",
              "      <th>median</th>\n",
              "      <th>count</th>\n",
              "      <th>mean</th>\n",
              "      <th>median</th>\n",
              "    </tr>\n",
              "    <tr>\n",
              "      <th>engineSize</th>\n",
              "      <th></th>\n",
              "      <th></th>\n",
              "      <th></th>\n",
              "      <th></th>\n",
              "      <th></th>\n",
              "      <th></th>\n",
              "    </tr>\n",
              "  </thead>\n",
              "  <tbody>\n",
              "    <tr>\n",
              "      <th>0.0</th>\n",
              "      <td>32</td>\n",
              "      <td>18469.906250</td>\n",
              "      <td>18250.0</td>\n",
              "      <td>32</td>\n",
              "      <td>2015.843750</td>\n",
              "      <td>2017.0</td>\n",
              "    </tr>\n",
              "    <tr>\n",
              "      <th>0.6</th>\n",
              "      <td>6</td>\n",
              "      <td>17973.333333</td>\n",
              "      <td>18200.0</td>\n",
              "      <td>6</td>\n",
              "      <td>2016.333333</td>\n",
              "      <td>2016.5</td>\n",
              "    </tr>\n",
              "    <tr>\n",
              "      <th>1.0</th>\n",
              "      <td>1</td>\n",
              "      <td>17400.000000</td>\n",
              "      <td>17400.0</td>\n",
              "      <td>1</td>\n",
              "      <td>2015.000000</td>\n",
              "      <td>2015.0</td>\n",
              "    </tr>\n",
              "    <tr>\n",
              "      <th>1.5</th>\n",
              "      <td>1146</td>\n",
              "      <td>17104.345550</td>\n",
              "      <td>15881.5</td>\n",
              "      <td>1146</td>\n",
              "      <td>2017.582024</td>\n",
              "      <td>2017.0</td>\n",
              "    </tr>\n",
              "    <tr>\n",
              "      <th>1.6</th>\n",
              "      <td>75</td>\n",
              "      <td>9230.240000</td>\n",
              "      <td>8890.0</td>\n",
              "      <td>75</td>\n",
              "      <td>2013.626667</td>\n",
              "      <td>2014.0</td>\n",
              "    </tr>\n",
              "    <tr>\n",
              "      <th>1.9</th>\n",
              "      <td>5</td>\n",
              "      <td>3968.000000</td>\n",
              "      <td>3950.0</td>\n",
              "      <td>5</td>\n",
              "      <td>1998.400000</td>\n",
              "      <td>1999.0</td>\n",
              "    </tr>\n",
              "    <tr>\n",
              "      <th>2.0</th>\n",
              "      <td>4925</td>\n",
              "      <td>20697.721624</td>\n",
              "      <td>19792.0</td>\n",
              "      <td>4925</td>\n",
              "      <td>2017.068629</td>\n",
              "      <td>2017.0</td>\n",
              "    </tr>\n",
              "    <tr>\n",
              "      <th>2.2</th>\n",
              "      <td>4</td>\n",
              "      <td>6010.000000</td>\n",
              "      <td>3972.5</td>\n",
              "      <td>4</td>\n",
              "      <td>2003.250000</td>\n",
              "      <td>2003.0</td>\n",
              "    </tr>\n",
              "    <tr>\n",
              "      <th>2.5</th>\n",
              "      <td>8</td>\n",
              "      <td>4532.375000</td>\n",
              "      <td>3892.5</td>\n",
              "      <td>8</td>\n",
              "      <td>2005.250000</td>\n",
              "      <td>2005.5</td>\n",
              "    </tr>\n",
              "    <tr>\n",
              "      <th>2.8</th>\n",
              "      <td>1</td>\n",
              "      <td>5995.000000</td>\n",
              "      <td>5995.0</td>\n",
              "      <td>1</td>\n",
              "      <td>1996.000000</td>\n",
              "      <td>1996.0</td>\n",
              "    </tr>\n",
              "    <tr>\n",
              "      <th>3.0</th>\n",
              "      <td>1818</td>\n",
              "      <td>31545.723872</td>\n",
              "      <td>27058.0</td>\n",
              "      <td>1818</td>\n",
              "      <td>2017.116062</td>\n",
              "      <td>2017.0</td>\n",
              "    </tr>\n",
              "    <tr>\n",
              "      <th>3.2</th>\n",
              "      <td>3</td>\n",
              "      <td>16116.333333</td>\n",
              "      <td>17850.0</td>\n",
              "      <td>3</td>\n",
              "      <td>2004.333333</td>\n",
              "      <td>2004.0</td>\n",
              "    </tr>\n",
              "    <tr>\n",
              "      <th>3.5</th>\n",
              "      <td>1</td>\n",
              "      <td>6990.000000</td>\n",
              "      <td>6990.0</td>\n",
              "      <td>1</td>\n",
              "      <td>2002.000000</td>\n",
              "      <td>2002.0</td>\n",
              "    </tr>\n",
              "    <tr>\n",
              "      <th>4.0</th>\n",
              "      <td>4</td>\n",
              "      <td>18012.250000</td>\n",
              "      <td>17700.0</td>\n",
              "      <td>4</td>\n",
              "      <td>2010.500000</td>\n",
              "      <td>2010.0</td>\n",
              "    </tr>\n",
              "    <tr>\n",
              "      <th>4.4</th>\n",
              "      <td>54</td>\n",
              "      <td>49960.666667</td>\n",
              "      <td>45904.5</td>\n",
              "      <td>54</td>\n",
              "      <td>2017.129630</td>\n",
              "      <td>2018.0</td>\n",
              "    </tr>\n",
              "    <tr>\n",
              "      <th>5.0</th>\n",
              "      <td>1</td>\n",
              "      <td>12495.000000</td>\n",
              "      <td>12495.0</td>\n",
              "      <td>1</td>\n",
              "      <td>2006.000000</td>\n",
              "      <td>2006.0</td>\n",
              "    </tr>\n",
              "    <tr>\n",
              "      <th>6.6</th>\n",
              "      <td>1</td>\n",
              "      <td>57000.000000</td>\n",
              "      <td>57000.0</td>\n",
              "      <td>1</td>\n",
              "      <td>2017.000000</td>\n",
              "      <td>2017.0</td>\n",
              "    </tr>\n",
              "  </tbody>\n",
              "</table>\n",
              "</div>"
            ],
            "text/plain": [
              "           price                         year                     \n",
              "           count          mean   median count         mean  median\n",
              "engineSize                                                        \n",
              "0.0           32  18469.906250  18250.0    32  2015.843750  2017.0\n",
              "0.6            6  17973.333333  18200.0     6  2016.333333  2016.5\n",
              "1.0            1  17400.000000  17400.0     1  2015.000000  2015.0\n",
              "1.5         1146  17104.345550  15881.5  1146  2017.582024  2017.0\n",
              "1.6           75   9230.240000   8890.0    75  2013.626667  2014.0\n",
              "1.9            5   3968.000000   3950.0     5  1998.400000  1999.0\n",
              "2.0         4925  20697.721624  19792.0  4925  2017.068629  2017.0\n",
              "2.2            4   6010.000000   3972.5     4  2003.250000  2003.0\n",
              "2.5            8   4532.375000   3892.5     8  2005.250000  2005.5\n",
              "2.8            1   5995.000000   5995.0     1  1996.000000  1996.0\n",
              "3.0         1818  31545.723872  27058.0  1818  2017.116062  2017.0\n",
              "3.2            3  16116.333333  17850.0     3  2004.333333  2004.0\n",
              "3.5            1   6990.000000   6990.0     1  2002.000000  2002.0\n",
              "4.0            4  18012.250000  17700.0     4  2010.500000  2010.0\n",
              "4.4           54  49960.666667  45904.5    54  2017.129630  2018.0\n",
              "5.0            1  12495.000000  12495.0     1  2006.000000  2006.0\n",
              "6.6            1  57000.000000  57000.0     1  2017.000000  2017.0"
            ]
          },
          "execution_count": 78,
          "metadata": {},
          "output_type": "execute_result"
        }
      ],
      "source": [
        "train.groupby('engineSize')[['price','year']].agg(['count','mean','median'])"
      ]
    },
    {
      "cell_type": "code",
      "execution_count": 79,
      "metadata": {
        "colab": {
          "base_uri": "https://localhost:8080/",
          "height": 614
        },
        "id": "8WBA0_hbjqwj",
        "outputId": "ceddb8ad-3972-4c0c-eb9f-dada6c397ac0"
      },
      "outputs": [
        {
          "data": {
            "text/html": [
              "<div>\n",
              "<style scoped>\n",
              "    .dataframe tbody tr th:only-of-type {\n",
              "        vertical-align: middle;\n",
              "    }\n",
              "\n",
              "    .dataframe tbody tr th {\n",
              "        vertical-align: top;\n",
              "    }\n",
              "\n",
              "    .dataframe thead th {\n",
              "        text-align: right;\n",
              "    }\n",
              "</style>\n",
              "<table border=\"1\" class=\"dataframe\">\n",
              "  <thead>\n",
              "    <tr style=\"text-align: right;\">\n",
              "      <th></th>\n",
              "      <th>count</th>\n",
              "      <th>mean</th>\n",
              "      <th>median</th>\n",
              "    </tr>\n",
              "    <tr>\n",
              "      <th>engineSize</th>\n",
              "      <th></th>\n",
              "      <th></th>\n",
              "      <th></th>\n",
              "    </tr>\n",
              "  </thead>\n",
              "  <tbody>\n",
              "    <tr>\n",
              "      <th>0.0</th>\n",
              "      <td>32</td>\n",
              "      <td>18469.906250</td>\n",
              "      <td>18250.0</td>\n",
              "    </tr>\n",
              "    <tr>\n",
              "      <th>0.6</th>\n",
              "      <td>6</td>\n",
              "      <td>17973.333333</td>\n",
              "      <td>18200.0</td>\n",
              "    </tr>\n",
              "    <tr>\n",
              "      <th>1.0</th>\n",
              "      <td>1</td>\n",
              "      <td>17400.000000</td>\n",
              "      <td>17400.0</td>\n",
              "    </tr>\n",
              "    <tr>\n",
              "      <th>1.5</th>\n",
              "      <td>1146</td>\n",
              "      <td>17104.345550</td>\n",
              "      <td>15881.5</td>\n",
              "    </tr>\n",
              "    <tr>\n",
              "      <th>1.6</th>\n",
              "      <td>75</td>\n",
              "      <td>9230.240000</td>\n",
              "      <td>8890.0</td>\n",
              "    </tr>\n",
              "    <tr>\n",
              "      <th>1.9</th>\n",
              "      <td>5</td>\n",
              "      <td>3968.000000</td>\n",
              "      <td>3950.0</td>\n",
              "    </tr>\n",
              "    <tr>\n",
              "      <th>2.0</th>\n",
              "      <td>4925</td>\n",
              "      <td>20697.721624</td>\n",
              "      <td>19792.0</td>\n",
              "    </tr>\n",
              "    <tr>\n",
              "      <th>2.2</th>\n",
              "      <td>4</td>\n",
              "      <td>6010.000000</td>\n",
              "      <td>3972.5</td>\n",
              "    </tr>\n",
              "    <tr>\n",
              "      <th>2.5</th>\n",
              "      <td>8</td>\n",
              "      <td>4532.375000</td>\n",
              "      <td>3892.5</td>\n",
              "    </tr>\n",
              "    <tr>\n",
              "      <th>2.8</th>\n",
              "      <td>1</td>\n",
              "      <td>5995.000000</td>\n",
              "      <td>5995.0</td>\n",
              "    </tr>\n",
              "    <tr>\n",
              "      <th>3.0</th>\n",
              "      <td>1818</td>\n",
              "      <td>31545.723872</td>\n",
              "      <td>27058.0</td>\n",
              "    </tr>\n",
              "    <tr>\n",
              "      <th>3.2</th>\n",
              "      <td>3</td>\n",
              "      <td>16116.333333</td>\n",
              "      <td>17850.0</td>\n",
              "    </tr>\n",
              "    <tr>\n",
              "      <th>3.5</th>\n",
              "      <td>1</td>\n",
              "      <td>6990.000000</td>\n",
              "      <td>6990.0</td>\n",
              "    </tr>\n",
              "    <tr>\n",
              "      <th>4.0</th>\n",
              "      <td>4</td>\n",
              "      <td>18012.250000</td>\n",
              "      <td>17700.0</td>\n",
              "    </tr>\n",
              "    <tr>\n",
              "      <th>4.4</th>\n",
              "      <td>54</td>\n",
              "      <td>49960.666667</td>\n",
              "      <td>45904.5</td>\n",
              "    </tr>\n",
              "    <tr>\n",
              "      <th>5.0</th>\n",
              "      <td>1</td>\n",
              "      <td>12495.000000</td>\n",
              "      <td>12495.0</td>\n",
              "    </tr>\n",
              "    <tr>\n",
              "      <th>6.6</th>\n",
              "      <td>1</td>\n",
              "      <td>57000.000000</td>\n",
              "      <td>57000.0</td>\n",
              "    </tr>\n",
              "  </tbody>\n",
              "</table>\n",
              "</div>"
            ],
            "text/plain": [
              "            count          mean   median\n",
              "engineSize                              \n",
              "0.0            32  18469.906250  18250.0\n",
              "0.6             6  17973.333333  18200.0\n",
              "1.0             1  17400.000000  17400.0\n",
              "1.5          1146  17104.345550  15881.5\n",
              "1.6            75   9230.240000   8890.0\n",
              "1.9             5   3968.000000   3950.0\n",
              "2.0          4925  20697.721624  19792.0\n",
              "2.2             4   6010.000000   3972.5\n",
              "2.5             8   4532.375000   3892.5\n",
              "2.8             1   5995.000000   5995.0\n",
              "3.0          1818  31545.723872  27058.0\n",
              "3.2             3  16116.333333  17850.0\n",
              "3.5             1   6990.000000   6990.0\n",
              "4.0             4  18012.250000  17700.0\n",
              "4.4            54  49960.666667  45904.5\n",
              "5.0             1  12495.000000  12495.0\n",
              "6.6             1  57000.000000  57000.0"
            ]
          },
          "execution_count": 79,
          "metadata": {},
          "output_type": "execute_result"
        }
      ],
      "source": [
        "train.groupby('engineSize')['price'].agg(['count','mean','median'])"
      ]
    },
    {
      "cell_type": "code",
      "execution_count": 80,
      "metadata": {
        "id": "g6WWEeqLkX-j"
      },
      "outputs": [],
      "source": [
        "def engine_group(x):\n",
        "  if x <= 1.5:\n",
        "    return '<=1.5'\n",
        "  if x <= 2:\n",
        "    return '<=2'\n",
        "  return '>2'"
      ]
    },
    {
      "cell_type": "code",
      "execution_count": 81,
      "metadata": {
        "id": "w780XJQ1ksHr"
      },
      "outputs": [],
      "source": [
        "train['engine_group'] = train['engineSize'].apply(engine_group)"
      ]
    },
    {
      "cell_type": "code",
      "execution_count": 82,
      "metadata": {
        "id": "fx42O1ghk1Sf"
      },
      "outputs": [],
      "source": [
        "t = train.groupby('engine_group')['price'].agg(['count','mean','median'])"
      ]
    },
    {
      "cell_type": "code",
      "execution_count": 83,
      "metadata": {
        "colab": {
          "base_uri": "https://localhost:8080/"
        },
        "id": "BwBxF6T3k5qC",
        "outputId": "af0f155a-d839-41ba-f8db-b151917d3b58"
      },
      "outputs": [
        {
          "data": {
            "text/plain": [
              "8085"
            ]
          },
          "execution_count": 83,
          "metadata": {},
          "output_type": "execute_result"
        }
      ],
      "source": [
        "t['count'].sum()"
      ]
    },
    {
      "cell_type": "code",
      "execution_count": 84,
      "metadata": {
        "colab": {
          "base_uri": "https://localhost:8080/"
        },
        "id": "ogyPHzOak_Sp",
        "outputId": "ca5144af-ff1d-4dee-efc5-c6c0572a9829"
      },
      "outputs": [
        {
          "data": {
            "text/plain": [
              "8085"
            ]
          },
          "execution_count": 84,
          "metadata": {},
          "output_type": "execute_result"
        }
      ],
      "source": [
        "len(train)"
      ]
    },
    {
      "cell_type": "code",
      "execution_count": 85,
      "metadata": {
        "colab": {
          "base_uri": "https://localhost:8080/",
          "height": 175
        },
        "id": "AoC1aTt0lRi5",
        "outputId": "a6d80e11-1b4b-49b3-98c3-b99dc6e4af8e"
      },
      "outputs": [
        {
          "data": {
            "text/html": [
              "<div>\n",
              "<style scoped>\n",
              "    .dataframe tbody tr th:only-of-type {\n",
              "        vertical-align: middle;\n",
              "    }\n",
              "\n",
              "    .dataframe tbody tr th {\n",
              "        vertical-align: top;\n",
              "    }\n",
              "\n",
              "    .dataframe thead th {\n",
              "        text-align: right;\n",
              "    }\n",
              "</style>\n",
              "<table border=\"1\" class=\"dataframe\">\n",
              "  <thead>\n",
              "    <tr style=\"text-align: right;\">\n",
              "      <th></th>\n",
              "      <th>count</th>\n",
              "      <th>mean</th>\n",
              "      <th>median</th>\n",
              "    </tr>\n",
              "    <tr>\n",
              "      <th>engine_group</th>\n",
              "      <th></th>\n",
              "      <th></th>\n",
              "      <th></th>\n",
              "    </tr>\n",
              "  </thead>\n",
              "  <tbody>\n",
              "    <tr>\n",
              "      <th>&lt;=1.5</th>\n",
              "      <td>1185</td>\n",
              "      <td>17145.870886</td>\n",
              "      <td>15980.0</td>\n",
              "    </tr>\n",
              "    <tr>\n",
              "      <th>&lt;=2</th>\n",
              "      <td>5005</td>\n",
              "      <td>20509.168232</td>\n",
              "      <td>19499.0</td>\n",
              "    </tr>\n",
              "    <tr>\n",
              "      <th>&gt;2</th>\n",
              "      <td>1895</td>\n",
              "      <td>31826.479683</td>\n",
              "      <td>27500.0</td>\n",
              "    </tr>\n",
              "  </tbody>\n",
              "</table>\n",
              "</div>"
            ],
            "text/plain": [
              "              count          mean   median\n",
              "engine_group                              \n",
              "<=1.5          1185  17145.870886  15980.0\n",
              "<=2            5005  20509.168232  19499.0\n",
              ">2             1895  31826.479683  27500.0"
            ]
          },
          "execution_count": 85,
          "metadata": {},
          "output_type": "execute_result"
        }
      ],
      "source": [
        "t"
      ]
    },
    {
      "cell_type": "code",
      "execution_count": 86,
      "metadata": {
        "id": "ttmQqIw6lAkX"
      },
      "outputs": [],
      "source": [
        "train['engine_group2'] = pd.cut(train['engineSize'],[-float('inf'),1.5,2,float('inf')])"
      ]
    },
    {
      "cell_type": "code",
      "execution_count": 87,
      "metadata": {
        "colab": {
          "base_uri": "https://localhost:8080/",
          "height": 175
        },
        "id": "MQGcLoZblKoo",
        "outputId": "580a26ae-228b-4fc0-e757-ffbf1cf6936d"
      },
      "outputs": [
        {
          "name": "stderr",
          "output_type": "stream",
          "text": [
            "C:\\Users\\kuche\\AppData\\Local\\Temp\\ipykernel_7996\\4271064767.py:1: FutureWarning: The default of observed=False is deprecated and will be changed to True in a future version of pandas. Pass observed=False to retain current behavior or observed=True to adopt the future default and silence this warning.\n",
            "  train.groupby('engine_group2')['price'].agg(['count','mean','median'])\n"
          ]
        },
        {
          "data": {
            "text/html": [
              "<div>\n",
              "<style scoped>\n",
              "    .dataframe tbody tr th:only-of-type {\n",
              "        vertical-align: middle;\n",
              "    }\n",
              "\n",
              "    .dataframe tbody tr th {\n",
              "        vertical-align: top;\n",
              "    }\n",
              "\n",
              "    .dataframe thead th {\n",
              "        text-align: right;\n",
              "    }\n",
              "</style>\n",
              "<table border=\"1\" class=\"dataframe\">\n",
              "  <thead>\n",
              "    <tr style=\"text-align: right;\">\n",
              "      <th></th>\n",
              "      <th>count</th>\n",
              "      <th>mean</th>\n",
              "      <th>median</th>\n",
              "    </tr>\n",
              "    <tr>\n",
              "      <th>engine_group2</th>\n",
              "      <th></th>\n",
              "      <th></th>\n",
              "      <th></th>\n",
              "    </tr>\n",
              "  </thead>\n",
              "  <tbody>\n",
              "    <tr>\n",
              "      <th>(-inf, 1.5]</th>\n",
              "      <td>1185</td>\n",
              "      <td>17145.870886</td>\n",
              "      <td>15980.0</td>\n",
              "    </tr>\n",
              "    <tr>\n",
              "      <th>(1.5, 2.0]</th>\n",
              "      <td>5005</td>\n",
              "      <td>20509.168232</td>\n",
              "      <td>19499.0</td>\n",
              "    </tr>\n",
              "    <tr>\n",
              "      <th>(2.0, inf]</th>\n",
              "      <td>1895</td>\n",
              "      <td>31826.479683</td>\n",
              "      <td>27500.0</td>\n",
              "    </tr>\n",
              "  </tbody>\n",
              "</table>\n",
              "</div>"
            ],
            "text/plain": [
              "               count          mean   median\n",
              "engine_group2                              \n",
              "(-inf, 1.5]     1185  17145.870886  15980.0\n",
              "(1.5, 2.0]      5005  20509.168232  19499.0\n",
              "(2.0, inf]      1895  31826.479683  27500.0"
            ]
          },
          "execution_count": 87,
          "metadata": {},
          "output_type": "execute_result"
        }
      ],
      "source": [
        "train.groupby('engine_group2')['price'].agg(['count','mean','median'])"
      ]
    },
    {
      "cell_type": "code",
      "execution_count": 88,
      "metadata": {
        "id": "0DTxfsNclUXh"
      },
      "outputs": [],
      "source": [
        "model_year_engine_median = train.groupby(['year','engine_group'])['price'].median().reset_index()"
      ]
    },
    {
      "cell_type": "code",
      "execution_count": 89,
      "metadata": {
        "colab": {
          "base_uri": "https://localhost:8080/",
          "height": 1000
        },
        "id": "BkIJZgVQmcvT",
        "outputId": "02b6802e-c8b1-433e-8b74-26aebc2ba103"
      },
      "outputs": [
        {
          "data": {
            "text/html": [
              "<div>\n",
              "<style scoped>\n",
              "    .dataframe tbody tr th:only-of-type {\n",
              "        vertical-align: middle;\n",
              "    }\n",
              "\n",
              "    .dataframe tbody tr th {\n",
              "        vertical-align: top;\n",
              "    }\n",
              "\n",
              "    .dataframe thead th {\n",
              "        text-align: right;\n",
              "    }\n",
              "</style>\n",
              "<table border=\"1\" class=\"dataframe\">\n",
              "  <thead>\n",
              "    <tr style=\"text-align: right;\">\n",
              "      <th></th>\n",
              "      <th>year</th>\n",
              "      <th>engine_group</th>\n",
              "      <th>price</th>\n",
              "    </tr>\n",
              "  </thead>\n",
              "  <tbody>\n",
              "    <tr>\n",
              "      <th>0</th>\n",
              "      <td>1996</td>\n",
              "      <td>&gt;2</td>\n",
              "      <td>5995.0</td>\n",
              "    </tr>\n",
              "    <tr>\n",
              "      <th>1</th>\n",
              "      <td>1997</td>\n",
              "      <td>&lt;=2</td>\n",
              "      <td>3950.0</td>\n",
              "    </tr>\n",
              "    <tr>\n",
              "      <th>2</th>\n",
              "      <td>1998</td>\n",
              "      <td>&lt;=2</td>\n",
              "      <td>3950.0</td>\n",
              "    </tr>\n",
              "    <tr>\n",
              "      <th>3</th>\n",
              "      <td>1999</td>\n",
              "      <td>&lt;=2</td>\n",
              "      <td>3995.0</td>\n",
              "    </tr>\n",
              "    <tr>\n",
              "      <th>4</th>\n",
              "      <td>2000</td>\n",
              "      <td>&gt;2</td>\n",
              "      <td>1550.0</td>\n",
              "    </tr>\n",
              "    <tr>\n",
              "      <th>5</th>\n",
              "      <td>2001</td>\n",
              "      <td>&lt;=1.5</td>\n",
              "      <td>13000.0</td>\n",
              "    </tr>\n",
              "    <tr>\n",
              "      <th>6</th>\n",
              "      <td>2001</td>\n",
              "      <td>&gt;2</td>\n",
              "      <td>4500.0</td>\n",
              "    </tr>\n",
              "    <tr>\n",
              "      <th>7</th>\n",
              "      <td>2002</td>\n",
              "      <td>&lt;=2</td>\n",
              "      <td>3999.0</td>\n",
              "    </tr>\n",
              "    <tr>\n",
              "      <th>8</th>\n",
              "      <td>2002</td>\n",
              "      <td>&gt;2</td>\n",
              "      <td>2990.0</td>\n",
              "    </tr>\n",
              "    <tr>\n",
              "      <th>9</th>\n",
              "      <td>2003</td>\n",
              "      <td>&gt;2</td>\n",
              "      <td>9222.5</td>\n",
              "    </tr>\n",
              "    <tr>\n",
              "      <th>10</th>\n",
              "      <td>2004</td>\n",
              "      <td>&lt;=2</td>\n",
              "      <td>1970.0</td>\n",
              "    </tr>\n",
              "    <tr>\n",
              "      <th>11</th>\n",
              "      <td>2004</td>\n",
              "      <td>&gt;2</td>\n",
              "      <td>8750.0</td>\n",
              "    </tr>\n",
              "    <tr>\n",
              "      <th>12</th>\n",
              "      <td>2005</td>\n",
              "      <td>&lt;=2</td>\n",
              "      <td>4375.0</td>\n",
              "    </tr>\n",
              "    <tr>\n",
              "      <th>13</th>\n",
              "      <td>2005</td>\n",
              "      <td>&gt;2</td>\n",
              "      <td>4995.0</td>\n",
              "    </tr>\n",
              "    <tr>\n",
              "      <th>14</th>\n",
              "      <td>2006</td>\n",
              "      <td>&lt;=2</td>\n",
              "      <td>2992.5</td>\n",
              "    </tr>\n",
              "    <tr>\n",
              "      <th>15</th>\n",
              "      <td>2006</td>\n",
              "      <td>&gt;2</td>\n",
              "      <td>5344.5</td>\n",
              "    </tr>\n",
              "    <tr>\n",
              "      <th>16</th>\n",
              "      <td>2007</td>\n",
              "      <td>&lt;=2</td>\n",
              "      <td>3495.0</td>\n",
              "    </tr>\n",
              "    <tr>\n",
              "      <th>17</th>\n",
              "      <td>2007</td>\n",
              "      <td>&gt;2</td>\n",
              "      <td>5994.0</td>\n",
              "    </tr>\n",
              "    <tr>\n",
              "      <th>18</th>\n",
              "      <td>2008</td>\n",
              "      <td>&lt;=2</td>\n",
              "      <td>3992.5</td>\n",
              "    </tr>\n",
              "    <tr>\n",
              "      <th>19</th>\n",
              "      <td>2008</td>\n",
              "      <td>&gt;2</td>\n",
              "      <td>7642.5</td>\n",
              "    </tr>\n",
              "    <tr>\n",
              "      <th>20</th>\n",
              "      <td>2009</td>\n",
              "      <td>&lt;=2</td>\n",
              "      <td>4740.0</td>\n",
              "    </tr>\n",
              "    <tr>\n",
              "      <th>21</th>\n",
              "      <td>2009</td>\n",
              "      <td>&gt;2</td>\n",
              "      <td>9490.0</td>\n",
              "    </tr>\n",
              "    <tr>\n",
              "      <th>22</th>\n",
              "      <td>2010</td>\n",
              "      <td>&lt;=2</td>\n",
              "      <td>5995.0</td>\n",
              "    </tr>\n",
              "    <tr>\n",
              "      <th>23</th>\n",
              "      <td>2010</td>\n",
              "      <td>&gt;2</td>\n",
              "      <td>9125.0</td>\n",
              "    </tr>\n",
              "    <tr>\n",
              "      <th>24</th>\n",
              "      <td>2011</td>\n",
              "      <td>&lt;=2</td>\n",
              "      <td>7624.0</td>\n",
              "    </tr>\n",
              "    <tr>\n",
              "      <th>25</th>\n",
              "      <td>2011</td>\n",
              "      <td>&gt;2</td>\n",
              "      <td>10500.0</td>\n",
              "    </tr>\n",
              "    <tr>\n",
              "      <th>26</th>\n",
              "      <td>2012</td>\n",
              "      <td>&lt;=2</td>\n",
              "      <td>8500.0</td>\n",
              "    </tr>\n",
              "    <tr>\n",
              "      <th>27</th>\n",
              "      <td>2012</td>\n",
              "      <td>&gt;2</td>\n",
              "      <td>12970.0</td>\n",
              "    </tr>\n",
              "    <tr>\n",
              "      <th>28</th>\n",
              "      <td>2013</td>\n",
              "      <td>&lt;=2</td>\n",
              "      <td>9990.0</td>\n",
              "    </tr>\n",
              "    <tr>\n",
              "      <th>29</th>\n",
              "      <td>2013</td>\n",
              "      <td>&gt;2</td>\n",
              "      <td>15895.5</td>\n",
              "    </tr>\n",
              "    <tr>\n",
              "      <th>30</th>\n",
              "      <td>2014</td>\n",
              "      <td>&lt;=1.5</td>\n",
              "      <td>14972.5</td>\n",
              "    </tr>\n",
              "    <tr>\n",
              "      <th>31</th>\n",
              "      <td>2014</td>\n",
              "      <td>&lt;=2</td>\n",
              "      <td>11945.0</td>\n",
              "    </tr>\n",
              "    <tr>\n",
              "      <th>32</th>\n",
              "      <td>2014</td>\n",
              "      <td>&gt;2</td>\n",
              "      <td>16656.0</td>\n",
              "    </tr>\n",
              "    <tr>\n",
              "      <th>33</th>\n",
              "      <td>2015</td>\n",
              "      <td>&lt;=1.5</td>\n",
              "      <td>10999.0</td>\n",
              "    </tr>\n",
              "    <tr>\n",
              "      <th>34</th>\n",
              "      <td>2015</td>\n",
              "      <td>&lt;=2</td>\n",
              "      <td>13490.0</td>\n",
              "    </tr>\n",
              "    <tr>\n",
              "      <th>35</th>\n",
              "      <td>2015</td>\n",
              "      <td>&gt;2</td>\n",
              "      <td>18144.5</td>\n",
              "    </tr>\n",
              "    <tr>\n",
              "      <th>36</th>\n",
              "      <td>2016</td>\n",
              "      <td>&lt;=1.5</td>\n",
              "      <td>11809.0</td>\n",
              "    </tr>\n",
              "    <tr>\n",
              "      <th>37</th>\n",
              "      <td>2016</td>\n",
              "      <td>&lt;=2</td>\n",
              "      <td>15500.0</td>\n",
              "    </tr>\n",
              "    <tr>\n",
              "      <th>38</th>\n",
              "      <td>2016</td>\n",
              "      <td>&gt;2</td>\n",
              "      <td>19996.5</td>\n",
              "    </tr>\n",
              "    <tr>\n",
              "      <th>39</th>\n",
              "      <td>2017</td>\n",
              "      <td>&lt;=1.5</td>\n",
              "      <td>14292.5</td>\n",
              "    </tr>\n",
              "    <tr>\n",
              "      <th>40</th>\n",
              "      <td>2017</td>\n",
              "      <td>&lt;=2</td>\n",
              "      <td>17625.0</td>\n",
              "    </tr>\n",
              "    <tr>\n",
              "      <th>41</th>\n",
              "      <td>2017</td>\n",
              "      <td>&gt;2</td>\n",
              "      <td>22980.5</td>\n",
              "    </tr>\n",
              "    <tr>\n",
              "      <th>42</th>\n",
              "      <td>2018</td>\n",
              "      <td>&lt;=1.5</td>\n",
              "      <td>16500.0</td>\n",
              "    </tr>\n",
              "    <tr>\n",
              "      <th>43</th>\n",
              "      <td>2018</td>\n",
              "      <td>&lt;=2</td>\n",
              "      <td>20750.0</td>\n",
              "    </tr>\n",
              "    <tr>\n",
              "      <th>44</th>\n",
              "      <td>2018</td>\n",
              "      <td>&gt;2</td>\n",
              "      <td>27980.0</td>\n",
              "    </tr>\n",
              "    <tr>\n",
              "      <th>45</th>\n",
              "      <td>2019</td>\n",
              "      <td>&lt;=1.5</td>\n",
              "      <td>20980.0</td>\n",
              "    </tr>\n",
              "    <tr>\n",
              "      <th>46</th>\n",
              "      <td>2019</td>\n",
              "      <td>&lt;=2</td>\n",
              "      <td>27294.0</td>\n",
              "    </tr>\n",
              "    <tr>\n",
              "      <th>47</th>\n",
              "      <td>2019</td>\n",
              "      <td>&gt;2</td>\n",
              "      <td>45980.0</td>\n",
              "    </tr>\n",
              "    <tr>\n",
              "      <th>48</th>\n",
              "      <td>2020</td>\n",
              "      <td>&lt;=1.5</td>\n",
              "      <td>23995.0</td>\n",
              "    </tr>\n",
              "    <tr>\n",
              "      <th>49</th>\n",
              "      <td>2020</td>\n",
              "      <td>&lt;=2</td>\n",
              "      <td>30995.0</td>\n",
              "    </tr>\n",
              "    <tr>\n",
              "      <th>50</th>\n",
              "      <td>2020</td>\n",
              "      <td>&gt;2</td>\n",
              "      <td>48560.0</td>\n",
              "    </tr>\n",
              "  </tbody>\n",
              "</table>\n",
              "</div>"
            ],
            "text/plain": [
              "    year engine_group    price\n",
              "0   1996           >2   5995.0\n",
              "1   1997          <=2   3950.0\n",
              "2   1998          <=2   3950.0\n",
              "3   1999          <=2   3995.0\n",
              "4   2000           >2   1550.0\n",
              "5   2001        <=1.5  13000.0\n",
              "6   2001           >2   4500.0\n",
              "7   2002          <=2   3999.0\n",
              "8   2002           >2   2990.0\n",
              "9   2003           >2   9222.5\n",
              "10  2004          <=2   1970.0\n",
              "11  2004           >2   8750.0\n",
              "12  2005          <=2   4375.0\n",
              "13  2005           >2   4995.0\n",
              "14  2006          <=2   2992.5\n",
              "15  2006           >2   5344.5\n",
              "16  2007          <=2   3495.0\n",
              "17  2007           >2   5994.0\n",
              "18  2008          <=2   3992.5\n",
              "19  2008           >2   7642.5\n",
              "20  2009          <=2   4740.0\n",
              "21  2009           >2   9490.0\n",
              "22  2010          <=2   5995.0\n",
              "23  2010           >2   9125.0\n",
              "24  2011          <=2   7624.0\n",
              "25  2011           >2  10500.0\n",
              "26  2012          <=2   8500.0\n",
              "27  2012           >2  12970.0\n",
              "28  2013          <=2   9990.0\n",
              "29  2013           >2  15895.5\n",
              "30  2014        <=1.5  14972.5\n",
              "31  2014          <=2  11945.0\n",
              "32  2014           >2  16656.0\n",
              "33  2015        <=1.5  10999.0\n",
              "34  2015          <=2  13490.0\n",
              "35  2015           >2  18144.5\n",
              "36  2016        <=1.5  11809.0\n",
              "37  2016          <=2  15500.0\n",
              "38  2016           >2  19996.5\n",
              "39  2017        <=1.5  14292.5\n",
              "40  2017          <=2  17625.0\n",
              "41  2017           >2  22980.5\n",
              "42  2018        <=1.5  16500.0\n",
              "43  2018          <=2  20750.0\n",
              "44  2018           >2  27980.0\n",
              "45  2019        <=1.5  20980.0\n",
              "46  2019          <=2  27294.0\n",
              "47  2019           >2  45980.0\n",
              "48  2020        <=1.5  23995.0\n",
              "49  2020          <=2  30995.0\n",
              "50  2020           >2  48560.0"
            ]
          },
          "execution_count": 89,
          "metadata": {},
          "output_type": "execute_result"
        }
      ],
      "source": [
        "model_year_engine_median"
      ]
    },
    {
      "cell_type": "code",
      "execution_count": 90,
      "metadata": {
        "colab": {
          "base_uri": "https://localhost:8080/",
          "height": 1000
        },
        "id": "9-DmpEORmfRj",
        "outputId": "03f5c051-7233-4792-f569-4ce110bd4e54"
      },
      "outputs": [
        {
          "data": {
            "text/html": [
              "<div>\n",
              "<style scoped>\n",
              "    .dataframe tbody tr th:only-of-type {\n",
              "        vertical-align: middle;\n",
              "    }\n",
              "\n",
              "    .dataframe tbody tr th {\n",
              "        vertical-align: top;\n",
              "    }\n",
              "\n",
              "    .dataframe thead th {\n",
              "        text-align: right;\n",
              "    }\n",
              "</style>\n",
              "<table border=\"1\" class=\"dataframe\">\n",
              "  <thead>\n",
              "    <tr style=\"text-align: right;\">\n",
              "      <th></th>\n",
              "      <th></th>\n",
              "      <th>count</th>\n",
              "    </tr>\n",
              "    <tr>\n",
              "      <th>year</th>\n",
              "      <th>engine_group</th>\n",
              "      <th></th>\n",
              "    </tr>\n",
              "  </thead>\n",
              "  <tbody>\n",
              "    <tr>\n",
              "      <th>1996</th>\n",
              "      <th>&gt;2</th>\n",
              "      <td>1</td>\n",
              "    </tr>\n",
              "    <tr>\n",
              "      <th>1997</th>\n",
              "      <th>&lt;=2</th>\n",
              "      <td>1</td>\n",
              "    </tr>\n",
              "    <tr>\n",
              "      <th>1998</th>\n",
              "      <th>&lt;=2</th>\n",
              "      <td>1</td>\n",
              "    </tr>\n",
              "    <tr>\n",
              "      <th>1999</th>\n",
              "      <th>&lt;=2</th>\n",
              "      <td>3</td>\n",
              "    </tr>\n",
              "    <tr>\n",
              "      <th>2000</th>\n",
              "      <th>&gt;2</th>\n",
              "      <td>1</td>\n",
              "    </tr>\n",
              "    <tr>\n",
              "      <th rowspan=\"2\" valign=\"top\">2001</th>\n",
              "      <th>&lt;=1.5</th>\n",
              "      <td>1</td>\n",
              "    </tr>\n",
              "    <tr>\n",
              "      <th>&gt;2</th>\n",
              "      <td>2</td>\n",
              "    </tr>\n",
              "    <tr>\n",
              "      <th rowspan=\"2\" valign=\"top\">2002</th>\n",
              "      <th>&lt;=2</th>\n",
              "      <td>1</td>\n",
              "    </tr>\n",
              "    <tr>\n",
              "      <th>&gt;2</th>\n",
              "      <td>3</td>\n",
              "    </tr>\n",
              "    <tr>\n",
              "      <th>2003</th>\n",
              "      <th>&gt;2</th>\n",
              "      <td>2</td>\n",
              "    </tr>\n",
              "    <tr>\n",
              "      <th rowspan=\"2\" valign=\"top\">2004</th>\n",
              "      <th>&lt;=2</th>\n",
              "      <td>2</td>\n",
              "    </tr>\n",
              "    <tr>\n",
              "      <th>&gt;2</th>\n",
              "      <td>5</td>\n",
              "    </tr>\n",
              "    <tr>\n",
              "      <th rowspan=\"2\" valign=\"top\">2005</th>\n",
              "      <th>&lt;=2</th>\n",
              "      <td>3</td>\n",
              "    </tr>\n",
              "    <tr>\n",
              "      <th>&gt;2</th>\n",
              "      <td>3</td>\n",
              "    </tr>\n",
              "    <tr>\n",
              "      <th rowspan=\"2\" valign=\"top\">2006</th>\n",
              "      <th>&lt;=2</th>\n",
              "      <td>6</td>\n",
              "    </tr>\n",
              "    <tr>\n",
              "      <th>&gt;2</th>\n",
              "      <td>6</td>\n",
              "    </tr>\n",
              "    <tr>\n",
              "      <th rowspan=\"2\" valign=\"top\">2007</th>\n",
              "      <th>&lt;=2</th>\n",
              "      <td>7</td>\n",
              "    </tr>\n",
              "    <tr>\n",
              "      <th>&gt;2</th>\n",
              "      <td>5</td>\n",
              "    </tr>\n",
              "    <tr>\n",
              "      <th rowspan=\"2\" valign=\"top\">2008</th>\n",
              "      <th>&lt;=2</th>\n",
              "      <td>10</td>\n",
              "    </tr>\n",
              "    <tr>\n",
              "      <th>&gt;2</th>\n",
              "      <td>8</td>\n",
              "    </tr>\n",
              "    <tr>\n",
              "      <th rowspan=\"2\" valign=\"top\">2009</th>\n",
              "      <th>&lt;=2</th>\n",
              "      <td>15</td>\n",
              "    </tr>\n",
              "    <tr>\n",
              "      <th>&gt;2</th>\n",
              "      <td>7</td>\n",
              "    </tr>\n",
              "    <tr>\n",
              "      <th rowspan=\"2\" valign=\"top\">2010</th>\n",
              "      <th>&lt;=2</th>\n",
              "      <td>21</td>\n",
              "    </tr>\n",
              "    <tr>\n",
              "      <th>&gt;2</th>\n",
              "      <td>10</td>\n",
              "    </tr>\n",
              "    <tr>\n",
              "      <th rowspan=\"2\" valign=\"top\">2011</th>\n",
              "      <th>&lt;=2</th>\n",
              "      <td>28</td>\n",
              "    </tr>\n",
              "    <tr>\n",
              "      <th>&gt;2</th>\n",
              "      <td>9</td>\n",
              "    </tr>\n",
              "    <tr>\n",
              "      <th rowspan=\"2\" valign=\"top\">2012</th>\n",
              "      <th>&lt;=2</th>\n",
              "      <td>75</td>\n",
              "    </tr>\n",
              "    <tr>\n",
              "      <th>&gt;2</th>\n",
              "      <td>17</td>\n",
              "    </tr>\n",
              "    <tr>\n",
              "      <th rowspan=\"2\" valign=\"top\">2013</th>\n",
              "      <th>&lt;=2</th>\n",
              "      <td>211</td>\n",
              "    </tr>\n",
              "    <tr>\n",
              "      <th>&gt;2</th>\n",
              "      <td>42</td>\n",
              "    </tr>\n",
              "    <tr>\n",
              "      <th rowspan=\"3\" valign=\"top\">2014</th>\n",
              "      <th>&lt;=1.5</th>\n",
              "      <td>4</td>\n",
              "    </tr>\n",
              "    <tr>\n",
              "      <th>&lt;=2</th>\n",
              "      <td>290</td>\n",
              "    </tr>\n",
              "    <tr>\n",
              "      <th>&gt;2</th>\n",
              "      <td>90</td>\n",
              "    </tr>\n",
              "    <tr>\n",
              "      <th rowspan=\"3\" valign=\"top\">2015</th>\n",
              "      <th>&lt;=1.5</th>\n",
              "      <td>83</td>\n",
              "    </tr>\n",
              "    <tr>\n",
              "      <th>&lt;=2</th>\n",
              "      <td>453</td>\n",
              "    </tr>\n",
              "    <tr>\n",
              "      <th>&gt;2</th>\n",
              "      <td>180</td>\n",
              "    </tr>\n",
              "    <tr>\n",
              "      <th rowspan=\"3\" valign=\"top\">2016</th>\n",
              "      <th>&lt;=1.5</th>\n",
              "      <td>286</td>\n",
              "    </tr>\n",
              "    <tr>\n",
              "      <th>&lt;=2</th>\n",
              "      <td>816</td>\n",
              "    </tr>\n",
              "    <tr>\n",
              "      <th>&gt;2</th>\n",
              "      <td>296</td>\n",
              "    </tr>\n",
              "    <tr>\n",
              "      <th rowspan=\"3\" valign=\"top\">2017</th>\n",
              "      <th>&lt;=1.5</th>\n",
              "      <td>236</td>\n",
              "    </tr>\n",
              "    <tr>\n",
              "      <th>&lt;=2</th>\n",
              "      <td>732</td>\n",
              "    </tr>\n",
              "    <tr>\n",
              "      <th>&gt;2</th>\n",
              "      <td>328</td>\n",
              "    </tr>\n",
              "    <tr>\n",
              "      <th rowspan=\"3\" valign=\"top\">2018</th>\n",
              "      <th>&lt;=1.5</th>\n",
              "      <td>113</td>\n",
              "    </tr>\n",
              "    <tr>\n",
              "      <th>&lt;=2</th>\n",
              "      <td>375</td>\n",
              "    </tr>\n",
              "    <tr>\n",
              "      <th>&gt;2</th>\n",
              "      <td>147</td>\n",
              "    </tr>\n",
              "    <tr>\n",
              "      <th rowspan=\"3\" valign=\"top\">2019</th>\n",
              "      <th>&lt;=1.5</th>\n",
              "      <td>395</td>\n",
              "    </tr>\n",
              "    <tr>\n",
              "      <th>&lt;=2</th>\n",
              "      <td>1606</td>\n",
              "    </tr>\n",
              "    <tr>\n",
              "      <th>&gt;2</th>\n",
              "      <td>597</td>\n",
              "    </tr>\n",
              "    <tr>\n",
              "      <th rowspan=\"3\" valign=\"top\">2020</th>\n",
              "      <th>&lt;=1.5</th>\n",
              "      <td>67</td>\n",
              "    </tr>\n",
              "    <tr>\n",
              "      <th>&lt;=2</th>\n",
              "      <td>349</td>\n",
              "    </tr>\n",
              "    <tr>\n",
              "      <th>&gt;2</th>\n",
              "      <td>136</td>\n",
              "    </tr>\n",
              "  </tbody>\n",
              "</table>\n",
              "</div>"
            ],
            "text/plain": [
              "                   count\n",
              "year engine_group       \n",
              "1996 >2                1\n",
              "1997 <=2               1\n",
              "1998 <=2               1\n",
              "1999 <=2               3\n",
              "2000 >2                1\n",
              "2001 <=1.5             1\n",
              "     >2                2\n",
              "2002 <=2               1\n",
              "     >2                3\n",
              "2003 >2                2\n",
              "2004 <=2               2\n",
              "     >2                5\n",
              "2005 <=2               3\n",
              "     >2                3\n",
              "2006 <=2               6\n",
              "     >2                6\n",
              "2007 <=2               7\n",
              "     >2                5\n",
              "2008 <=2              10\n",
              "     >2                8\n",
              "2009 <=2              15\n",
              "     >2                7\n",
              "2010 <=2              21\n",
              "     >2               10\n",
              "2011 <=2              28\n",
              "     >2                9\n",
              "2012 <=2              75\n",
              "     >2               17\n",
              "2013 <=2             211\n",
              "     >2               42\n",
              "2014 <=1.5             4\n",
              "     <=2             290\n",
              "     >2               90\n",
              "2015 <=1.5            83\n",
              "     <=2             453\n",
              "     >2              180\n",
              "2016 <=1.5           286\n",
              "     <=2             816\n",
              "     >2              296\n",
              "2017 <=1.5           236\n",
              "     <=2             732\n",
              "     >2              328\n",
              "2018 <=1.5           113\n",
              "     <=2             375\n",
              "     >2              147\n",
              "2019 <=1.5           395\n",
              "     <=2            1606\n",
              "     >2              597\n",
              "2020 <=1.5            67\n",
              "     <=2             349\n",
              "     >2              136"
            ]
          },
          "execution_count": 90,
          "metadata": {},
          "output_type": "execute_result"
        }
      ],
      "source": [
        "train.groupby(['year','engine_group'])['price'].agg(['count'])"
      ]
    },
    {
      "cell_type": "code",
      "execution_count": 91,
      "metadata": {
        "id": "rEAw2aRqmv6l"
      },
      "outputs": [],
      "source": [
        "t = train.pivot_table(index='year',columns='engine_group',values='price',aggfunc='median')"
      ]
    },
    {
      "cell_type": "code",
      "execution_count": 92,
      "metadata": {
        "id": "DdUG4tW9nPoN"
      },
      "outputs": [],
      "source": [
        "import seaborn as sns"
      ]
    },
    {
      "cell_type": "code",
      "execution_count": 93,
      "metadata": {
        "colab": {
          "base_uri": "https://localhost:8080/",
          "height": 299
        },
        "id": "i8YibiqynXUm",
        "outputId": "1ae1263d-b1c7-4455-f783-2aed4378449a"
      },
      "outputs": [
        {
          "data": {
            "text/plain": [
              "<Axes: xlabel='engine_group', ylabel='year'>"
            ]
          },
          "execution_count": 93,
          "metadata": {},
          "output_type": "execute_result"
        },
        {
          "data": {
            "image/png": "[encoded data removed]",
            "text/plain": [
              "<Figure size 640x480 with 2 Axes>"
            ]
          },
          "metadata": {},
          "output_type": "display_data"
        }
      ],
      "source": [
        "sns.heatmap(t)"
      ]
    },
    {
      "cell_type": "code",
      "execution_count": 94,
      "metadata": {
        "id": "r2jNXaJ2nYpR"
      },
      "outputs": [],
      "source": [
        "model_year_engine_median = model_year_engine_median.rename({'price':'price_pred_year_engine_median'},axis=1)"
      ]
    },
    {
      "cell_type": "code",
      "execution_count": 95,
      "metadata": {
        "id": "90JUH1oPnq-j"
      },
      "outputs": [],
      "source": [
        "train = train.merge(model_year_engine_median, how='left', on=['year','engine_group'])"
      ]
    },
    {
      "cell_type": "code",
      "execution_count": 96,
      "metadata": {
        "colab": {
          "base_uri": "https://localhost:8080/"
        },
        "id": "GaXphaVDoGyq",
        "outputId": "3848becb-739f-46cd-9b97-e3215a578fd8"
      },
      "outputs": [
        {
          "data": {
            "text/plain": [
              "5232.327891156463"
            ]
          },
          "execution_count": 96,
          "metadata": {},
          "output_type": "execute_result"
        }
      ],
      "source": [
        "mean_absolute_error(train['price'], train['price_pred_year_median'])"
      ]
    },
    {
      "cell_type": "code",
      "execution_count": 97,
      "metadata": {
        "colab": {
          "base_uri": "https://localhost:8080/"
        },
        "id": "5chfa69RoGyv",
        "outputId": "619e7a6a-60f3-4a63-9651-f83cde7fbd03"
      },
      "outputs": [
        {
          "data": {
            "text/plain": [
              "0.21723436816638503"
            ]
          },
          "execution_count": 97,
          "metadata": {},
          "output_type": "execute_result"
        }
      ],
      "source": [
        "mean_absolute_percentage_error(train['price'], train['price_pred_year_median'])"
      ]
    },
    {
      "cell_type": "code",
      "execution_count": 98,
      "metadata": {
        "colab": {
          "base_uri": "https://localhost:8080/"
        },
        "id": "hvkfPGcVoHw1",
        "outputId": "55f34ac5-5b0f-4c61-be87-2ffeeb2bf5cb"
      },
      "outputs": [
        {
          "data": {
            "text/plain": [
              "3659.774273345702"
            ]
          },
          "execution_count": 98,
          "metadata": {},
          "output_type": "execute_result"
        }
      ],
      "source": [
        "mean_absolute_error(train['price'], train['price_pred_year_engine_median'])"
      ]
    },
    {
      "cell_type": "code",
      "execution_count": 99,
      "metadata": {
        "colab": {
          "base_uri": "https://localhost:8080/"
        },
        "id": "7iqQu7uioHw2",
        "outputId": "c5b1d839-d2fe-4a71-ea67-e993b1b9ca6e"
      },
      "outputs": [
        {
          "data": {
            "text/plain": [
              "0.1582922021242831"
            ]
          },
          "execution_count": 99,
          "metadata": {},
          "output_type": "execute_result"
        }
      ],
      "source": [
        "mean_absolute_percentage_error(train['price'], train['price_pred_year_engine_median'])"
      ]
    },
    {
      "cell_type": "code",
      "execution_count": 100,
      "metadata": {
        "colab": {
          "base_uri": "https://localhost:8080/",
          "height": 1000
        },
        "id": "gh-JUiXEpeLp",
        "outputId": "92bb4f11-8897-4fb0-ae0a-dea9341a1150"
      },
      "outputs": [
        {
          "data": {
            "text/html": [
              "<div>\n",
              "<style scoped>\n",
              "    .dataframe tbody tr th:only-of-type {\n",
              "        vertical-align: middle;\n",
              "    }\n",
              "\n",
              "    .dataframe tbody tr th {\n",
              "        vertical-align: top;\n",
              "    }\n",
              "\n",
              "    .dataframe thead th {\n",
              "        text-align: right;\n",
              "    }\n",
              "</style>\n",
              "<table border=\"1\" class=\"dataframe\">\n",
              "  <thead>\n",
              "    <tr style=\"text-align: right;\">\n",
              "      <th></th>\n",
              "      <th>year</th>\n",
              "      <th>engine_group</th>\n",
              "      <th>price_pred_year_engine_median</th>\n",
              "    </tr>\n",
              "  </thead>\n",
              "  <tbody>\n",
              "    <tr>\n",
              "      <th>0</th>\n",
              "      <td>1996</td>\n",
              "      <td>&gt;2</td>\n",
              "      <td>5995.0</td>\n",
              "    </tr>\n",
              "    <tr>\n",
              "      <th>1</th>\n",
              "      <td>1997</td>\n",
              "      <td>&lt;=2</td>\n",
              "      <td>3950.0</td>\n",
              "    </tr>\n",
              "    <tr>\n",
              "      <th>2</th>\n",
              "      <td>1998</td>\n",
              "      <td>&lt;=2</td>\n",
              "      <td>3950.0</td>\n",
              "    </tr>\n",
              "    <tr>\n",
              "      <th>3</th>\n",
              "      <td>1999</td>\n",
              "      <td>&lt;=2</td>\n",
              "      <td>3995.0</td>\n",
              "    </tr>\n",
              "    <tr>\n",
              "      <th>4</th>\n",
              "      <td>2000</td>\n",
              "      <td>&gt;2</td>\n",
              "      <td>1550.0</td>\n",
              "    </tr>\n",
              "    <tr>\n",
              "      <th>5</th>\n",
              "      <td>2001</td>\n",
              "      <td>&lt;=1.5</td>\n",
              "      <td>13000.0</td>\n",
              "    </tr>\n",
              "    <tr>\n",
              "      <th>6</th>\n",
              "      <td>2001</td>\n",
              "      <td>&gt;2</td>\n",
              "      <td>4500.0</td>\n",
              "    </tr>\n",
              "    <tr>\n",
              "      <th>7</th>\n",
              "      <td>2002</td>\n",
              "      <td>&lt;=2</td>\n",
              "      <td>3999.0</td>\n",
              "    </tr>\n",
              "    <tr>\n",
              "      <th>8</th>\n",
              "      <td>2002</td>\n",
              "      <td>&gt;2</td>\n",
              "      <td>2990.0</td>\n",
              "    </tr>\n",
              "    <tr>\n",
              "      <th>9</th>\n",
              "      <td>2003</td>\n",
              "      <td>&gt;2</td>\n",
              "      <td>9222.5</td>\n",
              "    </tr>\n",
              "    <tr>\n",
              "      <th>10</th>\n",
              "      <td>2004</td>\n",
              "      <td>&lt;=2</td>\n",
              "      <td>1970.0</td>\n",
              "    </tr>\n",
              "    <tr>\n",
              "      <th>11</th>\n",
              "      <td>2004</td>\n",
              "      <td>&gt;2</td>\n",
              "      <td>8750.0</td>\n",
              "    </tr>\n",
              "    <tr>\n",
              "      <th>12</th>\n",
              "      <td>2005</td>\n",
              "      <td>&lt;=2</td>\n",
              "      <td>4375.0</td>\n",
              "    </tr>\n",
              "    <tr>\n",
              "      <th>13</th>\n",
              "      <td>2005</td>\n",
              "      <td>&gt;2</td>\n",
              "      <td>4995.0</td>\n",
              "    </tr>\n",
              "    <tr>\n",
              "      <th>14</th>\n",
              "      <td>2006</td>\n",
              "      <td>&lt;=2</td>\n",
              "      <td>2992.5</td>\n",
              "    </tr>\n",
              "    <tr>\n",
              "      <th>15</th>\n",
              "      <td>2006</td>\n",
              "      <td>&gt;2</td>\n",
              "      <td>5344.5</td>\n",
              "    </tr>\n",
              "    <tr>\n",
              "      <th>16</th>\n",
              "      <td>2007</td>\n",
              "      <td>&lt;=2</td>\n",
              "      <td>3495.0</td>\n",
              "    </tr>\n",
              "    <tr>\n",
              "      <th>17</th>\n",
              "      <td>2007</td>\n",
              "      <td>&gt;2</td>\n",
              "      <td>5994.0</td>\n",
              "    </tr>\n",
              "    <tr>\n",
              "      <th>18</th>\n",
              "      <td>2008</td>\n",
              "      <td>&lt;=2</td>\n",
              "      <td>3992.5</td>\n",
              "    </tr>\n",
              "    <tr>\n",
              "      <th>19</th>\n",
              "      <td>2008</td>\n",
              "      <td>&gt;2</td>\n",
              "      <td>7642.5</td>\n",
              "    </tr>\n",
              "    <tr>\n",
              "      <th>20</th>\n",
              "      <td>2009</td>\n",
              "      <td>&lt;=2</td>\n",
              "      <td>4740.0</td>\n",
              "    </tr>\n",
              "    <tr>\n",
              "      <th>21</th>\n",
              "      <td>2009</td>\n",
              "      <td>&gt;2</td>\n",
              "      <td>9490.0</td>\n",
              "    </tr>\n",
              "    <tr>\n",
              "      <th>22</th>\n",
              "      <td>2010</td>\n",
              "      <td>&lt;=2</td>\n",
              "      <td>5995.0</td>\n",
              "    </tr>\n",
              "    <tr>\n",
              "      <th>23</th>\n",
              "      <td>2010</td>\n",
              "      <td>&gt;2</td>\n",
              "      <td>9125.0</td>\n",
              "    </tr>\n",
              "    <tr>\n",
              "      <th>24</th>\n",
              "      <td>2011</td>\n",
              "      <td>&lt;=2</td>\n",
              "      <td>7624.0</td>\n",
              "    </tr>\n",
              "    <tr>\n",
              "      <th>25</th>\n",
              "      <td>2011</td>\n",
              "      <td>&gt;2</td>\n",
              "      <td>10500.0</td>\n",
              "    </tr>\n",
              "    <tr>\n",
              "      <th>26</th>\n",
              "      <td>2012</td>\n",
              "      <td>&lt;=2</td>\n",
              "      <td>8500.0</td>\n",
              "    </tr>\n",
              "    <tr>\n",
              "      <th>27</th>\n",
              "      <td>2012</td>\n",
              "      <td>&gt;2</td>\n",
              "      <td>12970.0</td>\n",
              "    </tr>\n",
              "    <tr>\n",
              "      <th>28</th>\n",
              "      <td>2013</td>\n",
              "      <td>&lt;=2</td>\n",
              "      <td>9990.0</td>\n",
              "    </tr>\n",
              "    <tr>\n",
              "      <th>29</th>\n",
              "      <td>2013</td>\n",
              "      <td>&gt;2</td>\n",
              "      <td>15895.5</td>\n",
              "    </tr>\n",
              "    <tr>\n",
              "      <th>30</th>\n",
              "      <td>2014</td>\n",
              "      <td>&lt;=1.5</td>\n",
              "      <td>14972.5</td>\n",
              "    </tr>\n",
              "    <tr>\n",
              "      <th>31</th>\n",
              "      <td>2014</td>\n",
              "      <td>&lt;=2</td>\n",
              "      <td>11945.0</td>\n",
              "    </tr>\n",
              "    <tr>\n",
              "      <th>32</th>\n",
              "      <td>2014</td>\n",
              "      <td>&gt;2</td>\n",
              "      <td>16656.0</td>\n",
              "    </tr>\n",
              "    <tr>\n",
              "      <th>33</th>\n",
              "      <td>2015</td>\n",
              "      <td>&lt;=1.5</td>\n",
              "      <td>10999.0</td>\n",
              "    </tr>\n",
              "    <tr>\n",
              "      <th>34</th>\n",
              "      <td>2015</td>\n",
              "      <td>&lt;=2</td>\n",
              "      <td>13490.0</td>\n",
              "    </tr>\n",
              "    <tr>\n",
              "      <th>35</th>\n",
              "      <td>2015</td>\n",
              "      <td>&gt;2</td>\n",
              "      <td>18144.5</td>\n",
              "    </tr>\n",
              "    <tr>\n",
              "      <th>36</th>\n",
              "      <td>2016</td>\n",
              "      <td>&lt;=1.5</td>\n",
              "      <td>11809.0</td>\n",
              "    </tr>\n",
              "    <tr>\n",
              "      <th>37</th>\n",
              "      <td>2016</td>\n",
              "      <td>&lt;=2</td>\n",
              "      <td>15500.0</td>\n",
              "    </tr>\n",
              "    <tr>\n",
              "      <th>38</th>\n",
              "      <td>2016</td>\n",
              "      <td>&gt;2</td>\n",
              "      <td>19996.5</td>\n",
              "    </tr>\n",
              "    <tr>\n",
              "      <th>39</th>\n",
              "      <td>2017</td>\n",
              "      <td>&lt;=1.5</td>\n",
              "      <td>14292.5</td>\n",
              "    </tr>\n",
              "    <tr>\n",
              "      <th>40</th>\n",
              "      <td>2017</td>\n",
              "      <td>&lt;=2</td>\n",
              "      <td>17625.0</td>\n",
              "    </tr>\n",
              "    <tr>\n",
              "      <th>41</th>\n",
              "      <td>2017</td>\n",
              "      <td>&gt;2</td>\n",
              "      <td>22980.5</td>\n",
              "    </tr>\n",
              "    <tr>\n",
              "      <th>42</th>\n",
              "      <td>2018</td>\n",
              "      <td>&lt;=1.5</td>\n",
              "      <td>16500.0</td>\n",
              "    </tr>\n",
              "    <tr>\n",
              "      <th>43</th>\n",
              "      <td>2018</td>\n",
              "      <td>&lt;=2</td>\n",
              "      <td>20750.0</td>\n",
              "    </tr>\n",
              "    <tr>\n",
              "      <th>44</th>\n",
              "      <td>2018</td>\n",
              "      <td>&gt;2</td>\n",
              "      <td>27980.0</td>\n",
              "    </tr>\n",
              "    <tr>\n",
              "      <th>45</th>\n",
              "      <td>2019</td>\n",
              "      <td>&lt;=1.5</td>\n",
              "      <td>20980.0</td>\n",
              "    </tr>\n",
              "    <tr>\n",
              "      <th>46</th>\n",
              "      <td>2019</td>\n",
              "      <td>&lt;=2</td>\n",
              "      <td>27294.0</td>\n",
              "    </tr>\n",
              "    <tr>\n",
              "      <th>47</th>\n",
              "      <td>2019</td>\n",
              "      <td>&gt;2</td>\n",
              "      <td>45980.0</td>\n",
              "    </tr>\n",
              "    <tr>\n",
              "      <th>48</th>\n",
              "      <td>2020</td>\n",
              "      <td>&lt;=1.5</td>\n",
              "      <td>23995.0</td>\n",
              "    </tr>\n",
              "    <tr>\n",
              "      <th>49</th>\n",
              "      <td>2020</td>\n",
              "      <td>&lt;=2</td>\n",
              "      <td>30995.0</td>\n",
              "    </tr>\n",
              "    <tr>\n",
              "      <th>50</th>\n",
              "      <td>2020</td>\n",
              "      <td>&gt;2</td>\n",
              "      <td>48560.0</td>\n",
              "    </tr>\n",
              "  </tbody>\n",
              "</table>\n",
              "</div>"
            ],
            "text/plain": [
              "    year engine_group  price_pred_year_engine_median\n",
              "0   1996           >2                         5995.0\n",
              "1   1997          <=2                         3950.0\n",
              "2   1998          <=2                         3950.0\n",
              "3   1999          <=2                         3995.0\n",
              "4   2000           >2                         1550.0\n",
              "5   2001        <=1.5                        13000.0\n",
              "6   2001           >2                         4500.0\n",
              "7   2002          <=2                         3999.0\n",
              "8   2002           >2                         2990.0\n",
              "9   2003           >2                         9222.5\n",
              "10  2004          <=2                         1970.0\n",
              "11  2004           >2                         8750.0\n",
              "12  2005          <=2                         4375.0\n",
              "13  2005           >2                         4995.0\n",
              "14  2006          <=2                         2992.5\n",
              "15  2006           >2                         5344.5\n",
              "16  2007          <=2                         3495.0\n",
              "17  2007           >2                         5994.0\n",
              "18  2008          <=2                         3992.5\n",
              "19  2008           >2                         7642.5\n",
              "20  2009          <=2                         4740.0\n",
              "21  2009           >2                         9490.0\n",
              "22  2010          <=2                         5995.0\n",
              "23  2010           >2                         9125.0\n",
              "24  2011          <=2                         7624.0\n",
              "25  2011           >2                        10500.0\n",
              "26  2012          <=2                         8500.0\n",
              "27  2012           >2                        12970.0\n",
              "28  2013          <=2                         9990.0\n",
              "29  2013           >2                        15895.5\n",
              "30  2014        <=1.5                        14972.5\n",
              "31  2014          <=2                        11945.0\n",
              "32  2014           >2                        16656.0\n",
              "33  2015        <=1.5                        10999.0\n",
              "34  2015          <=2                        13490.0\n",
              "35  2015           >2                        18144.5\n",
              "36  2016        <=1.5                        11809.0\n",
              "37  2016          <=2                        15500.0\n",
              "38  2016           >2                        19996.5\n",
              "39  2017        <=1.5                        14292.5\n",
              "40  2017          <=2                        17625.0\n",
              "41  2017           >2                        22980.5\n",
              "42  2018        <=1.5                        16500.0\n",
              "43  2018          <=2                        20750.0\n",
              "44  2018           >2                        27980.0\n",
              "45  2019        <=1.5                        20980.0\n",
              "46  2019          <=2                        27294.0\n",
              "47  2019           >2                        45980.0\n",
              "48  2020        <=1.5                        23995.0\n",
              "49  2020          <=2                        30995.0\n",
              "50  2020           >2                        48560.0"
            ]
          },
          "execution_count": 100,
          "metadata": {},
          "output_type": "execute_result"
        }
      ],
      "source": [
        "model_year_engine_median"
      ]
    },
    {
      "cell_type": "code",
      "execution_count": 101,
      "metadata": {
        "id": "IsjEiDqOp4D-"
      },
      "outputs": [],
      "source": [
        "test['engine_group'] = test['engineSize'].apply(engine_group)"
      ]
    },
    {
      "cell_type": "code",
      "execution_count": 102,
      "metadata": {
        "id": "z1H-EwNJqBw4"
      },
      "outputs": [],
      "source": [
        "test = test.merge(model_year_engine_median, how='left', on=['year','engine_group'])"
      ]
    },
    {
      "cell_type": "code",
      "execution_count": 103,
      "metadata": {
        "colab": {
          "base_uri": "https://localhost:8080/"
        },
        "id": "LJPNb4a5qCbE",
        "outputId": "669833ad-a466-4221-c6c2-6236302118bd"
      },
      "outputs": [
        {
          "data": {
            "text/plain": [
              "model                            0.000000\n",
              "year                             0.000000\n",
              "price                            0.000000\n",
              "transmission                     0.000000\n",
              "mileage                          0.000000\n",
              "fuelType                         0.000000\n",
              "tax                              0.000000\n",
              "mpg                              0.000000\n",
              "engineSize                       0.000000\n",
              "price_pred_median                0.000000\n",
              "price_pred_year_mean             0.000000\n",
              "price_pred_year_median           0.000000\n",
              "engine_group                     0.000000\n",
              "price_pred_year_engine_median    0.000742\n",
              "dtype: float64"
            ]
          },
          "execution_count": 103,
          "metadata": {},
          "output_type": "execute_result"
        }
      ],
      "source": [
        "test.isna().mean()"
      ]
    },
    {
      "cell_type": "code",
      "execution_count": 104,
      "metadata": {
        "colab": {
          "base_uri": "https://localhost:8080/",
          "height": 211
        },
        "id": "fQWoRmI_qYo2",
        "outputId": "9631d6b1-d128-4232-faa5-8318744f1765"
      },
      "outputs": [
        {
          "data": {
            "text/html": [
              "<div>\n",
              "<style scoped>\n",
              "    .dataframe tbody tr th:only-of-type {\n",
              "        vertical-align: middle;\n",
              "    }\n",
              "\n",
              "    .dataframe tbody tr th {\n",
              "        vertical-align: top;\n",
              "    }\n",
              "\n",
              "    .dataframe thead th {\n",
              "        text-align: right;\n",
              "    }\n",
              "</style>\n",
              "<table border=\"1\" class=\"dataframe\">\n",
              "  <thead>\n",
              "    <tr style=\"text-align: right;\">\n",
              "      <th></th>\n",
              "      <th>model</th>\n",
              "      <th>year</th>\n",
              "      <th>price</th>\n",
              "      <th>transmission</th>\n",
              "      <th>mileage</th>\n",
              "      <th>fuelType</th>\n",
              "      <th>tax</th>\n",
              "      <th>mpg</th>\n",
              "      <th>engineSize</th>\n",
              "      <th>price_pred_median</th>\n",
              "      <th>price_pred_year_mean</th>\n",
              "      <th>price_pred_year_median</th>\n",
              "      <th>engine_group</th>\n",
              "      <th>price_pred_year_engine_median</th>\n",
              "    </tr>\n",
              "  </thead>\n",
              "  <tbody>\n",
              "    <tr>\n",
              "      <th>415</th>\n",
              "      <td>3 Series</td>\n",
              "      <td>1999</td>\n",
              "      <td>1200</td>\n",
              "      <td>Automatic</td>\n",
              "      <td>82000</td>\n",
              "      <td>Petrol</td>\n",
              "      <td>245</td>\n",
              "      <td>31.0</td>\n",
              "      <td>2.8</td>\n",
              "      <td>20022.0</td>\n",
              "      <td>3980.0</td>\n",
              "      <td>3995.0</td>\n",
              "      <td>&gt;2</td>\n",
              "      <td>NaN</td>\n",
              "    </tr>\n",
              "    <tr>\n",
              "      <th>2255</th>\n",
              "      <td>5 Series</td>\n",
              "      <td>2000</td>\n",
              "      <td>1699</td>\n",
              "      <td>Manual</td>\n",
              "      <td>99209</td>\n",
              "      <td>Petrol</td>\n",
              "      <td>265</td>\n",
              "      <td>29.4</td>\n",
              "      <td>2.0</td>\n",
              "      <td>20022.0</td>\n",
              "      <td>1550.0</td>\n",
              "      <td>1550.0</td>\n",
              "      <td>&lt;=2</td>\n",
              "      <td>NaN</td>\n",
              "    </tr>\n",
              "  </tbody>\n",
              "</table>\n",
              "</div>"
            ],
            "text/plain": [
              "          model  year  price transmission  mileage fuelType  tax   mpg  \\\n",
              "415    3 Series  1999   1200    Automatic    82000   Petrol  245  31.0   \n",
              "2255   5 Series  2000   1699       Manual    99209   Petrol  265  29.4   \n",
              "\n",
              "      engineSize  price_pred_median  price_pred_year_mean  \\\n",
              "415          2.8            20022.0                3980.0   \n",
              "2255         2.0            20022.0                1550.0   \n",
              "\n",
              "      price_pred_year_median engine_group  price_pred_year_engine_median  \n",
              "415                   3995.0           >2                            NaN  \n",
              "2255                  1550.0          <=2                            NaN  "
            ]
          },
          "execution_count": 104,
          "metadata": {},
          "output_type": "execute_result"
        }
      ],
      "source": [
        "test[test['price_pred_year_engine_median'].isna()]"
      ]
    },
    {
      "cell_type": "code",
      "execution_count": 105,
      "metadata": {
        "id": "PqB8oLunqgDd"
      },
      "outputs": [],
      "source": [
        "def error(y_true,y_pred):\n",
        "  print(mean_absolute_error(y_true,y_pred))\n",
        "  print(mean_absolute_percentage_error(y_true,y_pred))"
      ]
    },
    {
      "cell_type": "code",
      "execution_count": 106,
      "metadata": {
        "colab": {
          "base_uri": "https://localhost:8080/"
        },
        "id": "miTVMv_RrQPr",
        "outputId": "0cd43666-a344-44cb-c456-bc2a355d47bb"
      },
      "outputs": [
        {
          "name": "stdout",
          "output_type": "stream",
          "text": [
            "5232.327891156463\n",
            "0.21723436816638503\n"
          ]
        }
      ],
      "source": [
        "error(train['price'], train['price_pred_year_median'])"
      ]
    },
    {
      "cell_type": "code",
      "execution_count": 107,
      "metadata": {
        "colab": {
          "base_uri": "https://localhost:8080/"
        },
        "id": "9DrHBABHq_7Z",
        "outputId": "cf6366b4-2fcf-49f7-85c9-48618a9b10b6"
      },
      "outputs": [
        {
          "name": "stdout",
          "output_type": "stream",
          "text": [
            "5240.677299703264\n",
            "0.21478293590399475\n"
          ]
        }
      ],
      "source": [
        "error(test['price'], test['price_pred_year_median'])"
      ]
    },
    {
      "cell_type": "code",
      "execution_count": 108,
      "metadata": {
        "colab": {
          "base_uri": "https://localhost:8080/"
        },
        "id": "R2WpWAN7rNTN",
        "outputId": "5145bf50-af6a-434a-bbba-17ee641a6f37"
      },
      "outputs": [
        {
          "name": "stdout",
          "output_type": "stream",
          "text": [
            "3659.774273345702\n",
            "0.1582922021242831\n"
          ]
        }
      ],
      "source": [
        "error(train['price'], train['price_pred_year_engine_median'])"
      ]
    },
    {
      "cell_type": "code",
      "execution_count": 109,
      "metadata": {
        "id": "Jyp32X_mrgsJ"
      },
      "outputs": [],
      "source": [
        "test_no_nan = test.dropna().copy()"
      ]
    },
    {
      "cell_type": "code",
      "execution_count": 110,
      "metadata": {
        "colab": {
          "base_uri": "https://localhost:8080/"
        },
        "id": "irUrjHIzrYTz",
        "outputId": "41223f59-8171-4640-faa0-0dadfd980f71"
      },
      "outputs": [
        {
          "name": "stdout",
          "output_type": "stream",
          "text": [
            "3790.014291017075\n",
            "0.16270961023342095\n"
          ]
        }
      ],
      "source": [
        "error(test_no_nan['price'], test_no_nan['price_pred_year_engine_median'])"
      ]
    },
    {
      "cell_type": "markdown",
      "metadata": {
        "id": "T4EmkUKxra72"
      },
      "source": [
        "# Улучшение модели"
      ]
    },
    {
      "cell_type": "code",
      "execution_count": 111,
      "metadata": {
        "colab": {
          "base_uri": "https://localhost:8080/",
          "height": 609
        },
        "id": "q3QzDgSutSWi",
        "outputId": "7b76684d-2be7-47b2-cf80-95446de17934"
      },
      "outputs": [
        {
          "data": {
            "text/html": [
              "<div>\n",
              "<style scoped>\n",
              "    .dataframe tbody tr th:only-of-type {\n",
              "        vertical-align: middle;\n",
              "    }\n",
              "\n",
              "    .dataframe tbody tr th {\n",
              "        vertical-align: top;\n",
              "    }\n",
              "\n",
              "    .dataframe thead th {\n",
              "        text-align: right;\n",
              "    }\n",
              "</style>\n",
              "<table border=\"1\" class=\"dataframe\">\n",
              "  <thead>\n",
              "    <tr style=\"text-align: right;\">\n",
              "      <th></th>\n",
              "      <th>model</th>\n",
              "      <th>year</th>\n",
              "      <th>price</th>\n",
              "      <th>transmission</th>\n",
              "      <th>mileage</th>\n",
              "      <th>fuelType</th>\n",
              "      <th>tax</th>\n",
              "      <th>mpg</th>\n",
              "      <th>engineSize</th>\n",
              "      <th>price_pred_mean</th>\n",
              "      <th>err</th>\n",
              "      <th>err_abs</th>\n",
              "      <th>err_abs_pct</th>\n",
              "      <th>price_pred_median</th>\n",
              "      <th>price_pred_year_mean</th>\n",
              "      <th>price_pred_year_median</th>\n",
              "      <th>engine_group</th>\n",
              "      <th>engine_group2</th>\n",
              "      <th>price_pred_year_engine_median</th>\n",
              "    </tr>\n",
              "  </thead>\n",
              "  <tbody>\n",
              "    <tr>\n",
              "      <th>0</th>\n",
              "      <td>5 Series</td>\n",
              "      <td>2013</td>\n",
              "      <td>12791</td>\n",
              "      <td>Semi-Auto</td>\n",
              "      <td>55642</td>\n",
              "      <td>Diesel</td>\n",
              "      <td>145</td>\n",
              "      <td>55.4</td>\n",
              "      <td>2.0</td>\n",
              "      <td>22668.821645</td>\n",
              "      <td>9877.821645</td>\n",
              "      <td>9877.821645</td>\n",
              "      <td>0.772248</td>\n",
              "      <td>20022.0</td>\n",
              "      <td>11041.347826</td>\n",
              "      <td>10490.0</td>\n",
              "      <td>&lt;=2</td>\n",
              "      <td>(1.5, 2.0]</td>\n",
              "      <td>9990.0</td>\n",
              "    </tr>\n",
              "    <tr>\n",
              "      <th>1</th>\n",
              "      <td>1 Series</td>\n",
              "      <td>2019</td>\n",
              "      <td>23995</td>\n",
              "      <td>Semi-Auto</td>\n",
              "      <td>1527</td>\n",
              "      <td>Petrol</td>\n",
              "      <td>145</td>\n",
              "      <td>43.5</td>\n",
              "      <td>1.5</td>\n",
              "      <td>22668.821645</td>\n",
              "      <td>-1326.178355</td>\n",
              "      <td>1326.178355</td>\n",
              "      <td>0.055269</td>\n",
              "      <td>20022.0</td>\n",
              "      <td>31066.986143</td>\n",
              "      <td>27980.0</td>\n",
              "      <td>&lt;=1.5</td>\n",
              "      <td>(-inf, 1.5]</td>\n",
              "      <td>20980.0</td>\n",
              "    </tr>\n",
              "    <tr>\n",
              "      <th>2</th>\n",
              "      <td>X5</td>\n",
              "      <td>2015</td>\n",
              "      <td>25995</td>\n",
              "      <td>Automatic</td>\n",
              "      <td>43344</td>\n",
              "      <td>Diesel</td>\n",
              "      <td>200</td>\n",
              "      <td>47.1</td>\n",
              "      <td>3.0</td>\n",
              "      <td>22668.821645</td>\n",
              "      <td>-3326.178355</td>\n",
              "      <td>3326.178355</td>\n",
              "      <td>0.127955</td>\n",
              "      <td>20022.0</td>\n",
              "      <td>15086.536313</td>\n",
              "      <td>14103.5</td>\n",
              "      <td>&gt;2</td>\n",
              "      <td>(2.0, inf]</td>\n",
              "      <td>18144.5</td>\n",
              "    </tr>\n",
              "    <tr>\n",
              "      <th>3</th>\n",
              "      <td>2 Series</td>\n",
              "      <td>2019</td>\n",
              "      <td>25000</td>\n",
              "      <td>Automatic</td>\n",
              "      <td>4000</td>\n",
              "      <td>Petrol</td>\n",
              "      <td>145</td>\n",
              "      <td>47.9</td>\n",
              "      <td>2.0</td>\n",
              "      <td>22668.821645</td>\n",
              "      <td>-2331.178355</td>\n",
              "      <td>2331.178355</td>\n",
              "      <td>0.093247</td>\n",
              "      <td>20022.0</td>\n",
              "      <td>31066.986143</td>\n",
              "      <td>27980.0</td>\n",
              "      <td>&lt;=2</td>\n",
              "      <td>(1.5, 2.0]</td>\n",
              "      <td>27294.0</td>\n",
              "    </tr>\n",
              "    <tr>\n",
              "      <th>4</th>\n",
              "      <td>1 Series</td>\n",
              "      <td>2015</td>\n",
              "      <td>10950</td>\n",
              "      <td>Manual</td>\n",
              "      <td>33000</td>\n",
              "      <td>Diesel</td>\n",
              "      <td>20</td>\n",
              "      <td>72.4</td>\n",
              "      <td>1.5</td>\n",
              "      <td>22668.821645</td>\n",
              "      <td>11718.821645</td>\n",
              "      <td>11718.821645</td>\n",
              "      <td>1.070212</td>\n",
              "      <td>20022.0</td>\n",
              "      <td>15086.536313</td>\n",
              "      <td>14103.5</td>\n",
              "      <td>&lt;=1.5</td>\n",
              "      <td>(-inf, 1.5]</td>\n",
              "      <td>10999.0</td>\n",
              "    </tr>\n",
              "    <tr>\n",
              "      <th>...</th>\n",
              "      <td>...</td>\n",
              "      <td>...</td>\n",
              "      <td>...</td>\n",
              "      <td>...</td>\n",
              "      <td>...</td>\n",
              "      <td>...</td>\n",
              "      <td>...</td>\n",
              "      <td>...</td>\n",
              "      <td>...</td>\n",
              "      <td>...</td>\n",
              "      <td>...</td>\n",
              "      <td>...</td>\n",
              "      <td>...</td>\n",
              "      <td>...</td>\n",
              "      <td>...</td>\n",
              "      <td>...</td>\n",
              "      <td>...</td>\n",
              "      <td>...</td>\n",
              "      <td>...</td>\n",
              "    </tr>\n",
              "    <tr>\n",
              "      <th>8080</th>\n",
              "      <td>3 Series</td>\n",
              "      <td>2018</td>\n",
              "      <td>17995</td>\n",
              "      <td>Semi-Auto</td>\n",
              "      <td>40456</td>\n",
              "      <td>Diesel</td>\n",
              "      <td>145</td>\n",
              "      <td>64.2</td>\n",
              "      <td>2.0</td>\n",
              "      <td>22668.821645</td>\n",
              "      <td>4673.821645</td>\n",
              "      <td>4673.821645</td>\n",
              "      <td>0.259729</td>\n",
              "      <td>20022.0</td>\n",
              "      <td>22562.450394</td>\n",
              "      <td>21000.0</td>\n",
              "      <td>&lt;=2</td>\n",
              "      <td>(1.5, 2.0]</td>\n",
              "      <td>20750.0</td>\n",
              "    </tr>\n",
              "    <tr>\n",
              "      <th>8081</th>\n",
              "      <td>1 Series</td>\n",
              "      <td>2016</td>\n",
              "      <td>19950</td>\n",
              "      <td>Semi-Auto</td>\n",
              "      <td>23210</td>\n",
              "      <td>Petrol</td>\n",
              "      <td>200</td>\n",
              "      <td>39.8</td>\n",
              "      <td>3.0</td>\n",
              "      <td>22668.821645</td>\n",
              "      <td>2718.821645</td>\n",
              "      <td>2718.821645</td>\n",
              "      <td>0.136282</td>\n",
              "      <td>20022.0</td>\n",
              "      <td>16531.655222</td>\n",
              "      <td>15699.5</td>\n",
              "      <td>&gt;2</td>\n",
              "      <td>(2.0, inf]</td>\n",
              "      <td>19996.5</td>\n",
              "    </tr>\n",
              "    <tr>\n",
              "      <th>8082</th>\n",
              "      <td>X2</td>\n",
              "      <td>2019</td>\n",
              "      <td>25450</td>\n",
              "      <td>Semi-Auto</td>\n",
              "      <td>5652</td>\n",
              "      <td>Diesel</td>\n",
              "      <td>145</td>\n",
              "      <td>47.9</td>\n",
              "      <td>2.0</td>\n",
              "      <td>22668.821645</td>\n",
              "      <td>-2781.178355</td>\n",
              "      <td>2781.178355</td>\n",
              "      <td>0.109280</td>\n",
              "      <td>20022.0</td>\n",
              "      <td>31066.986143</td>\n",
              "      <td>27980.0</td>\n",
              "      <td>&lt;=2</td>\n",
              "      <td>(1.5, 2.0]</td>\n",
              "      <td>27294.0</td>\n",
              "    </tr>\n",
              "    <tr>\n",
              "      <th>8083</th>\n",
              "      <td>X1</td>\n",
              "      <td>2016</td>\n",
              "      <td>19850</td>\n",
              "      <td>Semi-Auto</td>\n",
              "      <td>14542</td>\n",
              "      <td>Diesel</td>\n",
              "      <td>125</td>\n",
              "      <td>60.1</td>\n",
              "      <td>2.0</td>\n",
              "      <td>22668.821645</td>\n",
              "      <td>2818.821645</td>\n",
              "      <td>2818.821645</td>\n",
              "      <td>0.142006</td>\n",
              "      <td>20022.0</td>\n",
              "      <td>16531.655222</td>\n",
              "      <td>15699.5</td>\n",
              "      <td>&lt;=2</td>\n",
              "      <td>(1.5, 2.0]</td>\n",
              "      <td>15500.0</td>\n",
              "    </tr>\n",
              "    <tr>\n",
              "      <th>8084</th>\n",
              "      <td>1 Series</td>\n",
              "      <td>2016</td>\n",
              "      <td>15745</td>\n",
              "      <td>Automatic</td>\n",
              "      <td>17237</td>\n",
              "      <td>Petrol</td>\n",
              "      <td>125</td>\n",
              "      <td>54.3</td>\n",
              "      <td>1.5</td>\n",
              "      <td>22668.821645</td>\n",
              "      <td>6923.821645</td>\n",
              "      <td>6923.821645</td>\n",
              "      <td>0.439747</td>\n",
              "      <td>20022.0</td>\n",
              "      <td>16531.655222</td>\n",
              "      <td>15699.5</td>\n",
              "      <td>&lt;=1.5</td>\n",
              "      <td>(-inf, 1.5]</td>\n",
              "      <td>11809.0</td>\n",
              "    </tr>\n",
              "  </tbody>\n",
              "</table>\n",
              "<p>8085 rows × 19 columns</p>\n",
              "</div>"
            ],
            "text/plain": [
              "          model  year  price transmission  mileage fuelType  tax   mpg  \\\n",
              "0      5 Series  2013  12791    Semi-Auto    55642   Diesel  145  55.4   \n",
              "1      1 Series  2019  23995    Semi-Auto     1527   Petrol  145  43.5   \n",
              "2            X5  2015  25995    Automatic    43344   Diesel  200  47.1   \n",
              "3      2 Series  2019  25000    Automatic     4000   Petrol  145  47.9   \n",
              "4      1 Series  2015  10950       Manual    33000   Diesel   20  72.4   \n",
              "...         ...   ...    ...          ...      ...      ...  ...   ...   \n",
              "8080   3 Series  2018  17995    Semi-Auto    40456   Diesel  145  64.2   \n",
              "8081   1 Series  2016  19950    Semi-Auto    23210   Petrol  200  39.8   \n",
              "8082         X2  2019  25450    Semi-Auto     5652   Diesel  145  47.9   \n",
              "8083         X1  2016  19850    Semi-Auto    14542   Diesel  125  60.1   \n",
              "8084   1 Series  2016  15745    Automatic    17237   Petrol  125  54.3   \n",
              "\n",
              "      engineSize  price_pred_mean           err       err_abs  err_abs_pct  \\\n",
              "0            2.0     22668.821645   9877.821645   9877.821645     0.772248   \n",
              "1            1.5     22668.821645  -1326.178355   1326.178355     0.055269   \n",
              "2            3.0     22668.821645  -3326.178355   3326.178355     0.127955   \n",
              "3            2.0     22668.821645  -2331.178355   2331.178355     0.093247   \n",
              "4            1.5     22668.821645  11718.821645  11718.821645     1.070212   \n",
              "...          ...              ...           ...           ...          ...   \n",
              "8080         2.0     22668.821645   4673.821645   4673.821645     0.259729   \n",
              "8081         3.0     22668.821645   2718.821645   2718.821645     0.136282   \n",
              "8082         2.0     22668.821645  -2781.178355   2781.178355     0.109280   \n",
              "8083         2.0     22668.821645   2818.821645   2818.821645     0.142006   \n",
              "8084         1.5     22668.821645   6923.821645   6923.821645     0.439747   \n",
              "\n",
              "      price_pred_median  price_pred_year_mean  price_pred_year_median  \\\n",
              "0               20022.0          11041.347826                 10490.0   \n",
              "1               20022.0          31066.986143                 27980.0   \n",
              "2               20022.0          15086.536313                 14103.5   \n",
              "3               20022.0          31066.986143                 27980.0   \n",
              "4               20022.0          15086.536313                 14103.5   \n",
              "...                 ...                   ...                     ...   \n",
              "8080            20022.0          22562.450394                 21000.0   \n",
              "8081            20022.0          16531.655222                 15699.5   \n",
              "8082            20022.0          31066.986143                 27980.0   \n",
              "8083            20022.0          16531.655222                 15699.5   \n",
              "8084            20022.0          16531.655222                 15699.5   \n",
              "\n",
              "     engine_group engine_group2  price_pred_year_engine_median  \n",
              "0             <=2    (1.5, 2.0]                         9990.0  \n",
              "1           <=1.5   (-inf, 1.5]                        20980.0  \n",
              "2              >2    (2.0, inf]                        18144.5  \n",
              "3             <=2    (1.5, 2.0]                        27294.0  \n",
              "4           <=1.5   (-inf, 1.5]                        10999.0  \n",
              "...           ...           ...                            ...  \n",
              "8080          <=2    (1.5, 2.0]                        20750.0  \n",
              "8081           >2    (2.0, inf]                        19996.5  \n",
              "8082          <=2    (1.5, 2.0]                        27294.0  \n",
              "8083          <=2    (1.5, 2.0]                        15500.0  \n",
              "8084        <=1.5   (-inf, 1.5]                        11809.0  \n",
              "\n",
              "[8085 rows x 19 columns]"
            ]
          },
          "execution_count": 111,
          "metadata": {},
          "output_type": "execute_result"
        }
      ],
      "source": [
        "train"
      ]
    },
    {
      "cell_type": "code",
      "execution_count": 112,
      "metadata": {
        "colab": {
          "base_uri": "https://localhost:8080/",
          "height": 175
        },
        "id": "uOD3zmHVtXxk",
        "outputId": "f768d479-0c7f-494c-bf3e-62f9c909c162"
      },
      "outputs": [
        {
          "data": {
            "text/html": [
              "<div>\n",
              "<style scoped>\n",
              "    .dataframe tbody tr th:only-of-type {\n",
              "        vertical-align: middle;\n",
              "    }\n",
              "\n",
              "    .dataframe tbody tr th {\n",
              "        vertical-align: top;\n",
              "    }\n",
              "\n",
              "    .dataframe thead th {\n",
              "        text-align: right;\n",
              "    }\n",
              "</style>\n",
              "<table border=\"1\" class=\"dataframe\">\n",
              "  <thead>\n",
              "    <tr style=\"text-align: right;\">\n",
              "      <th></th>\n",
              "      <th>count</th>\n",
              "      <th>mean</th>\n",
              "      <th>median</th>\n",
              "    </tr>\n",
              "    <tr>\n",
              "      <th>transmission</th>\n",
              "      <th></th>\n",
              "      <th></th>\n",
              "      <th></th>\n",
              "    </tr>\n",
              "  </thead>\n",
              "  <tbody>\n",
              "    <tr>\n",
              "      <th>Automatic</th>\n",
              "      <td>2698</td>\n",
              "      <td>22413.452187</td>\n",
              "      <td>19392.0</td>\n",
              "    </tr>\n",
              "    <tr>\n",
              "      <th>Manual</th>\n",
              "      <td>1925</td>\n",
              "      <td>14557.851429</td>\n",
              "      <td>13450.0</td>\n",
              "    </tr>\n",
              "    <tr>\n",
              "      <th>Semi-Auto</th>\n",
              "      <td>3462</td>\n",
              "      <td>27377.835066</td>\n",
              "      <td>24990.0</td>\n",
              "    </tr>\n",
              "  </tbody>\n",
              "</table>\n",
              "</div>"
            ],
            "text/plain": [
              "              count          mean   median\n",
              "transmission                              \n",
              "Automatic      2698  22413.452187  19392.0\n",
              "Manual         1925  14557.851429  13450.0\n",
              "Semi-Auto      3462  27377.835066  24990.0"
            ]
          },
          "execution_count": 112,
          "metadata": {},
          "output_type": "execute_result"
        }
      ],
      "source": [
        "train.groupby('transmission')['price'].agg(['count','mean','median'])"
      ]
    },
    {
      "cell_type": "code",
      "execution_count": 113,
      "metadata": {
        "colab": {
          "base_uri": "https://localhost:8080/"
        },
        "id": "MtlM0ybJthzd",
        "outputId": "f4583ef7-0947-420a-9e4b-404f5192dc7b"
      },
      "outputs": [
        {
          "data": {
            "text/plain": [
              "51"
            ]
          },
          "execution_count": 113,
          "metadata": {},
          "output_type": "execute_result"
        }
      ],
      "source": [
        "len(model_year_engine_median)"
      ]
    },
    {
      "cell_type": "code",
      "execution_count": 114,
      "metadata": {
        "colab": {
          "base_uri": "https://localhost:8080/",
          "height": 1000
        },
        "id": "FcxgzNJXtoR8",
        "outputId": "93f8a2ab-07c9-4a98-8a28-2ceb243f7f75"
      },
      "outputs": [
        {
          "data": {
            "text/html": [
              "<div>\n",
              "<style scoped>\n",
              "    .dataframe tbody tr th:only-of-type {\n",
              "        vertical-align: middle;\n",
              "    }\n",
              "\n",
              "    .dataframe tbody tr th {\n",
              "        vertical-align: top;\n",
              "    }\n",
              "\n",
              "    .dataframe thead th {\n",
              "        text-align: right;\n",
              "    }\n",
              "</style>\n",
              "<table border=\"1\" class=\"dataframe\">\n",
              "  <thead>\n",
              "    <tr style=\"text-align: right;\">\n",
              "      <th></th>\n",
              "      <th>year</th>\n",
              "      <th>engine_group</th>\n",
              "      <th>price_pred_year_engine_median</th>\n",
              "    </tr>\n",
              "  </thead>\n",
              "  <tbody>\n",
              "    <tr>\n",
              "      <th>0</th>\n",
              "      <td>1996</td>\n",
              "      <td>&gt;2</td>\n",
              "      <td>5995.0</td>\n",
              "    </tr>\n",
              "    <tr>\n",
              "      <th>1</th>\n",
              "      <td>1997</td>\n",
              "      <td>&lt;=2</td>\n",
              "      <td>3950.0</td>\n",
              "    </tr>\n",
              "    <tr>\n",
              "      <th>2</th>\n",
              "      <td>1998</td>\n",
              "      <td>&lt;=2</td>\n",
              "      <td>3950.0</td>\n",
              "    </tr>\n",
              "    <tr>\n",
              "      <th>3</th>\n",
              "      <td>1999</td>\n",
              "      <td>&lt;=2</td>\n",
              "      <td>3995.0</td>\n",
              "    </tr>\n",
              "    <tr>\n",
              "      <th>4</th>\n",
              "      <td>2000</td>\n",
              "      <td>&gt;2</td>\n",
              "      <td>1550.0</td>\n",
              "    </tr>\n",
              "    <tr>\n",
              "      <th>5</th>\n",
              "      <td>2001</td>\n",
              "      <td>&lt;=1.5</td>\n",
              "      <td>13000.0</td>\n",
              "    </tr>\n",
              "    <tr>\n",
              "      <th>6</th>\n",
              "      <td>2001</td>\n",
              "      <td>&gt;2</td>\n",
              "      <td>4500.0</td>\n",
              "    </tr>\n",
              "    <tr>\n",
              "      <th>7</th>\n",
              "      <td>2002</td>\n",
              "      <td>&lt;=2</td>\n",
              "      <td>3999.0</td>\n",
              "    </tr>\n",
              "    <tr>\n",
              "      <th>8</th>\n",
              "      <td>2002</td>\n",
              "      <td>&gt;2</td>\n",
              "      <td>2990.0</td>\n",
              "    </tr>\n",
              "    <tr>\n",
              "      <th>9</th>\n",
              "      <td>2003</td>\n",
              "      <td>&gt;2</td>\n",
              "      <td>9222.5</td>\n",
              "    </tr>\n",
              "    <tr>\n",
              "      <th>10</th>\n",
              "      <td>2004</td>\n",
              "      <td>&lt;=2</td>\n",
              "      <td>1970.0</td>\n",
              "    </tr>\n",
              "    <tr>\n",
              "      <th>11</th>\n",
              "      <td>2004</td>\n",
              "      <td>&gt;2</td>\n",
              "      <td>8750.0</td>\n",
              "    </tr>\n",
              "    <tr>\n",
              "      <th>12</th>\n",
              "      <td>2005</td>\n",
              "      <td>&lt;=2</td>\n",
              "      <td>4375.0</td>\n",
              "    </tr>\n",
              "    <tr>\n",
              "      <th>13</th>\n",
              "      <td>2005</td>\n",
              "      <td>&gt;2</td>\n",
              "      <td>4995.0</td>\n",
              "    </tr>\n",
              "    <tr>\n",
              "      <th>14</th>\n",
              "      <td>2006</td>\n",
              "      <td>&lt;=2</td>\n",
              "      <td>2992.5</td>\n",
              "    </tr>\n",
              "    <tr>\n",
              "      <th>15</th>\n",
              "      <td>2006</td>\n",
              "      <td>&gt;2</td>\n",
              "      <td>5344.5</td>\n",
              "    </tr>\n",
              "    <tr>\n",
              "      <th>16</th>\n",
              "      <td>2007</td>\n",
              "      <td>&lt;=2</td>\n",
              "      <td>3495.0</td>\n",
              "    </tr>\n",
              "    <tr>\n",
              "      <th>17</th>\n",
              "      <td>2007</td>\n",
              "      <td>&gt;2</td>\n",
              "      <td>5994.0</td>\n",
              "    </tr>\n",
              "    <tr>\n",
              "      <th>18</th>\n",
              "      <td>2008</td>\n",
              "      <td>&lt;=2</td>\n",
              "      <td>3992.5</td>\n",
              "    </tr>\n",
              "    <tr>\n",
              "      <th>19</th>\n",
              "      <td>2008</td>\n",
              "      <td>&gt;2</td>\n",
              "      <td>7642.5</td>\n",
              "    </tr>\n",
              "    <tr>\n",
              "      <th>20</th>\n",
              "      <td>2009</td>\n",
              "      <td>&lt;=2</td>\n",
              "      <td>4740.0</td>\n",
              "    </tr>\n",
              "    <tr>\n",
              "      <th>21</th>\n",
              "      <td>2009</td>\n",
              "      <td>&gt;2</td>\n",
              "      <td>9490.0</td>\n",
              "    </tr>\n",
              "    <tr>\n",
              "      <th>22</th>\n",
              "      <td>2010</td>\n",
              "      <td>&lt;=2</td>\n",
              "      <td>5995.0</td>\n",
              "    </tr>\n",
              "    <tr>\n",
              "      <th>23</th>\n",
              "      <td>2010</td>\n",
              "      <td>&gt;2</td>\n",
              "      <td>9125.0</td>\n",
              "    </tr>\n",
              "    <tr>\n",
              "      <th>24</th>\n",
              "      <td>2011</td>\n",
              "      <td>&lt;=2</td>\n",
              "      <td>7624.0</td>\n",
              "    </tr>\n",
              "    <tr>\n",
              "      <th>25</th>\n",
              "      <td>2011</td>\n",
              "      <td>&gt;2</td>\n",
              "      <td>10500.0</td>\n",
              "    </tr>\n",
              "    <tr>\n",
              "      <th>26</th>\n",
              "      <td>2012</td>\n",
              "      <td>&lt;=2</td>\n",
              "      <td>8500.0</td>\n",
              "    </tr>\n",
              "    <tr>\n",
              "      <th>27</th>\n",
              "      <td>2012</td>\n",
              "      <td>&gt;2</td>\n",
              "      <td>12970.0</td>\n",
              "    </tr>\n",
              "    <tr>\n",
              "      <th>28</th>\n",
              "      <td>2013</td>\n",
              "      <td>&lt;=2</td>\n",
              "      <td>9990.0</td>\n",
              "    </tr>\n",
              "    <tr>\n",
              "      <th>29</th>\n",
              "      <td>2013</td>\n",
              "      <td>&gt;2</td>\n",
              "      <td>15895.5</td>\n",
              "    </tr>\n",
              "    <tr>\n",
              "      <th>30</th>\n",
              "      <td>2014</td>\n",
              "      <td>&lt;=1.5</td>\n",
              "      <td>14972.5</td>\n",
              "    </tr>\n",
              "    <tr>\n",
              "      <th>31</th>\n",
              "      <td>2014</td>\n",
              "      <td>&lt;=2</td>\n",
              "      <td>11945.0</td>\n",
              "    </tr>\n",
              "    <tr>\n",
              "      <th>32</th>\n",
              "      <td>2014</td>\n",
              "      <td>&gt;2</td>\n",
              "      <td>16656.0</td>\n",
              "    </tr>\n",
              "    <tr>\n",
              "      <th>33</th>\n",
              "      <td>2015</td>\n",
              "      <td>&lt;=1.5</td>\n",
              "      <td>10999.0</td>\n",
              "    </tr>\n",
              "    <tr>\n",
              "      <th>34</th>\n",
              "      <td>2015</td>\n",
              "      <td>&lt;=2</td>\n",
              "      <td>13490.0</td>\n",
              "    </tr>\n",
              "    <tr>\n",
              "      <th>35</th>\n",
              "      <td>2015</td>\n",
              "      <td>&gt;2</td>\n",
              "      <td>18144.5</td>\n",
              "    </tr>\n",
              "    <tr>\n",
              "      <th>36</th>\n",
              "      <td>2016</td>\n",
              "      <td>&lt;=1.5</td>\n",
              "      <td>11809.0</td>\n",
              "    </tr>\n",
              "    <tr>\n",
              "      <th>37</th>\n",
              "      <td>2016</td>\n",
              "      <td>&lt;=2</td>\n",
              "      <td>15500.0</td>\n",
              "    </tr>\n",
              "    <tr>\n",
              "      <th>38</th>\n",
              "      <td>2016</td>\n",
              "      <td>&gt;2</td>\n",
              "      <td>19996.5</td>\n",
              "    </tr>\n",
              "    <tr>\n",
              "      <th>39</th>\n",
              "      <td>2017</td>\n",
              "      <td>&lt;=1.5</td>\n",
              "      <td>14292.5</td>\n",
              "    </tr>\n",
              "    <tr>\n",
              "      <th>40</th>\n",
              "      <td>2017</td>\n",
              "      <td>&lt;=2</td>\n",
              "      <td>17625.0</td>\n",
              "    </tr>\n",
              "    <tr>\n",
              "      <th>41</th>\n",
              "      <td>2017</td>\n",
              "      <td>&gt;2</td>\n",
              "      <td>22980.5</td>\n",
              "    </tr>\n",
              "    <tr>\n",
              "      <th>42</th>\n",
              "      <td>2018</td>\n",
              "      <td>&lt;=1.5</td>\n",
              "      <td>16500.0</td>\n",
              "    </tr>\n",
              "    <tr>\n",
              "      <th>43</th>\n",
              "      <td>2018</td>\n",
              "      <td>&lt;=2</td>\n",
              "      <td>20750.0</td>\n",
              "    </tr>\n",
              "    <tr>\n",
              "      <th>44</th>\n",
              "      <td>2018</td>\n",
              "      <td>&gt;2</td>\n",
              "      <td>27980.0</td>\n",
              "    </tr>\n",
              "    <tr>\n",
              "      <th>45</th>\n",
              "      <td>2019</td>\n",
              "      <td>&lt;=1.5</td>\n",
              "      <td>20980.0</td>\n",
              "    </tr>\n",
              "    <tr>\n",
              "      <th>46</th>\n",
              "      <td>2019</td>\n",
              "      <td>&lt;=2</td>\n",
              "      <td>27294.0</td>\n",
              "    </tr>\n",
              "    <tr>\n",
              "      <th>47</th>\n",
              "      <td>2019</td>\n",
              "      <td>&gt;2</td>\n",
              "      <td>45980.0</td>\n",
              "    </tr>\n",
              "    <tr>\n",
              "      <th>48</th>\n",
              "      <td>2020</td>\n",
              "      <td>&lt;=1.5</td>\n",
              "      <td>23995.0</td>\n",
              "    </tr>\n",
              "    <tr>\n",
              "      <th>49</th>\n",
              "      <td>2020</td>\n",
              "      <td>&lt;=2</td>\n",
              "      <td>30995.0</td>\n",
              "    </tr>\n",
              "    <tr>\n",
              "      <th>50</th>\n",
              "      <td>2020</td>\n",
              "      <td>&gt;2</td>\n",
              "      <td>48560.0</td>\n",
              "    </tr>\n",
              "  </tbody>\n",
              "</table>\n",
              "</div>"
            ],
            "text/plain": [
              "    year engine_group  price_pred_year_engine_median\n",
              "0   1996           >2                         5995.0\n",
              "1   1997          <=2                         3950.0\n",
              "2   1998          <=2                         3950.0\n",
              "3   1999          <=2                         3995.0\n",
              "4   2000           >2                         1550.0\n",
              "5   2001        <=1.5                        13000.0\n",
              "6   2001           >2                         4500.0\n",
              "7   2002          <=2                         3999.0\n",
              "8   2002           >2                         2990.0\n",
              "9   2003           >2                         9222.5\n",
              "10  2004          <=2                         1970.0\n",
              "11  2004           >2                         8750.0\n",
              "12  2005          <=2                         4375.0\n",
              "13  2005           >2                         4995.0\n",
              "14  2006          <=2                         2992.5\n",
              "15  2006           >2                         5344.5\n",
              "16  2007          <=2                         3495.0\n",
              "17  2007           >2                         5994.0\n",
              "18  2008          <=2                         3992.5\n",
              "19  2008           >2                         7642.5\n",
              "20  2009          <=2                         4740.0\n",
              "21  2009           >2                         9490.0\n",
              "22  2010          <=2                         5995.0\n",
              "23  2010           >2                         9125.0\n",
              "24  2011          <=2                         7624.0\n",
              "25  2011           >2                        10500.0\n",
              "26  2012          <=2                         8500.0\n",
              "27  2012           >2                        12970.0\n",
              "28  2013          <=2                         9990.0\n",
              "29  2013           >2                        15895.5\n",
              "30  2014        <=1.5                        14972.5\n",
              "31  2014          <=2                        11945.0\n",
              "32  2014           >2                        16656.0\n",
              "33  2015        <=1.5                        10999.0\n",
              "34  2015          <=2                        13490.0\n",
              "35  2015           >2                        18144.5\n",
              "36  2016        <=1.5                        11809.0\n",
              "37  2016          <=2                        15500.0\n",
              "38  2016           >2                        19996.5\n",
              "39  2017        <=1.5                        14292.5\n",
              "40  2017          <=2                        17625.0\n",
              "41  2017           >2                        22980.5\n",
              "42  2018        <=1.5                        16500.0\n",
              "43  2018          <=2                        20750.0\n",
              "44  2018           >2                        27980.0\n",
              "45  2019        <=1.5                        20980.0\n",
              "46  2019          <=2                        27294.0\n",
              "47  2019           >2                        45980.0\n",
              "48  2020        <=1.5                        23995.0\n",
              "49  2020          <=2                        30995.0\n",
              "50  2020           >2                        48560.0"
            ]
          },
          "execution_count": 114,
          "metadata": {},
          "output_type": "execute_result"
        }
      ],
      "source": [
        "model_year_engine_median"
      ]
    },
    {
      "cell_type": "code",
      "execution_count": 115,
      "metadata": {
        "colab": {
          "base_uri": "https://localhost:8080/",
          "height": 865
        },
        "id": "y3FlxQpKt72p",
        "outputId": "8569c9f1-7e41-43a4-b52b-b7003b4804f9"
      },
      "outputs": [
        {
          "data": {
            "text/html": [
              "<div>\n",
              "<style scoped>\n",
              "    .dataframe tbody tr th:only-of-type {\n",
              "        vertical-align: middle;\n",
              "    }\n",
              "\n",
              "    .dataframe tbody tr th {\n",
              "        vertical-align: top;\n",
              "    }\n",
              "\n",
              "    .dataframe thead th {\n",
              "        text-align: right;\n",
              "    }\n",
              "</style>\n",
              "<table border=\"1\" class=\"dataframe\">\n",
              "  <thead>\n",
              "    <tr style=\"text-align: right;\">\n",
              "      <th></th>\n",
              "      <th>count</th>\n",
              "      <th>median</th>\n",
              "    </tr>\n",
              "    <tr>\n",
              "      <th>year</th>\n",
              "      <th></th>\n",
              "      <th></th>\n",
              "    </tr>\n",
              "  </thead>\n",
              "  <tbody>\n",
              "    <tr>\n",
              "      <th>1996</th>\n",
              "      <td>1</td>\n",
              "      <td>5995.0</td>\n",
              "    </tr>\n",
              "    <tr>\n",
              "      <th>1997</th>\n",
              "      <td>1</td>\n",
              "      <td>3950.0</td>\n",
              "    </tr>\n",
              "    <tr>\n",
              "      <th>1998</th>\n",
              "      <td>1</td>\n",
              "      <td>3950.0</td>\n",
              "    </tr>\n",
              "    <tr>\n",
              "      <th>1999</th>\n",
              "      <td>3</td>\n",
              "      <td>3995.0</td>\n",
              "    </tr>\n",
              "    <tr>\n",
              "      <th>2000</th>\n",
              "      <td>1</td>\n",
              "      <td>1550.0</td>\n",
              "    </tr>\n",
              "    <tr>\n",
              "      <th>2001</th>\n",
              "      <td>3</td>\n",
              "      <td>5950.0</td>\n",
              "    </tr>\n",
              "    <tr>\n",
              "      <th>2002</th>\n",
              "      <td>4</td>\n",
              "      <td>3494.5</td>\n",
              "    </tr>\n",
              "    <tr>\n",
              "      <th>2003</th>\n",
              "      <td>2</td>\n",
              "      <td>9222.5</td>\n",
              "    </tr>\n",
              "    <tr>\n",
              "      <th>2004</th>\n",
              "      <td>7</td>\n",
              "      <td>3495.0</td>\n",
              "    </tr>\n",
              "    <tr>\n",
              "      <th>2005</th>\n",
              "      <td>6</td>\n",
              "      <td>4685.0</td>\n",
              "    </tr>\n",
              "    <tr>\n",
              "      <th>2006</th>\n",
              "      <td>12</td>\n",
              "      <td>3942.5</td>\n",
              "    </tr>\n",
              "    <tr>\n",
              "      <th>2007</th>\n",
              "      <td>12</td>\n",
              "      <td>4597.5</td>\n",
              "    </tr>\n",
              "    <tr>\n",
              "      <th>2008</th>\n",
              "      <td>18</td>\n",
              "      <td>5272.5</td>\n",
              "    </tr>\n",
              "    <tr>\n",
              "      <th>2009</th>\n",
              "      <td>22</td>\n",
              "      <td>5845.0</td>\n",
              "    </tr>\n",
              "    <tr>\n",
              "      <th>2010</th>\n",
              "      <td>31</td>\n",
              "      <td>6495.0</td>\n",
              "    </tr>\n",
              "    <tr>\n",
              "      <th>2011</th>\n",
              "      <td>37</td>\n",
              "      <td>8470.0</td>\n",
              "    </tr>\n",
              "    <tr>\n",
              "      <th>2012</th>\n",
              "      <td>92</td>\n",
              "      <td>8990.0</td>\n",
              "    </tr>\n",
              "    <tr>\n",
              "      <th>2013</th>\n",
              "      <td>253</td>\n",
              "      <td>10490.0</td>\n",
              "    </tr>\n",
              "    <tr>\n",
              "      <th>2014</th>\n",
              "      <td>384</td>\n",
              "      <td>12797.5</td>\n",
              "    </tr>\n",
              "    <tr>\n",
              "      <th>2015</th>\n",
              "      <td>716</td>\n",
              "      <td>14103.5</td>\n",
              "    </tr>\n",
              "    <tr>\n",
              "      <th>2016</th>\n",
              "      <td>1398</td>\n",
              "      <td>15699.5</td>\n",
              "    </tr>\n",
              "    <tr>\n",
              "      <th>2017</th>\n",
              "      <td>1296</td>\n",
              "      <td>18299.5</td>\n",
              "    </tr>\n",
              "    <tr>\n",
              "      <th>2018</th>\n",
              "      <td>635</td>\n",
              "      <td>21000.0</td>\n",
              "    </tr>\n",
              "    <tr>\n",
              "      <th>2019</th>\n",
              "      <td>2598</td>\n",
              "      <td>27980.0</td>\n",
              "    </tr>\n",
              "    <tr>\n",
              "      <th>2020</th>\n",
              "      <td>552</td>\n",
              "      <td>32450.5</td>\n",
              "    </tr>\n",
              "  </tbody>\n",
              "</table>\n",
              "</div>"
            ],
            "text/plain": [
              "      count   median\n",
              "year                \n",
              "1996      1   5995.0\n",
              "1997      1   3950.0\n",
              "1998      1   3950.0\n",
              "1999      3   3995.0\n",
              "2000      1   1550.0\n",
              "2001      3   5950.0\n",
              "2002      4   3494.5\n",
              "2003      2   9222.5\n",
              "2004      7   3495.0\n",
              "2005      6   4685.0\n",
              "2006     12   3942.5\n",
              "2007     12   4597.5\n",
              "2008     18   5272.5\n",
              "2009     22   5845.0\n",
              "2010     31   6495.0\n",
              "2011     37   8470.0\n",
              "2012     92   8990.0\n",
              "2013    253  10490.0\n",
              "2014    384  12797.5\n",
              "2015    716  14103.5\n",
              "2016   1398  15699.5\n",
              "2017   1296  18299.5\n",
              "2018    635  21000.0\n",
              "2019   2598  27980.0\n",
              "2020    552  32450.5"
            ]
          },
          "execution_count": 115,
          "metadata": {},
          "output_type": "execute_result"
        }
      ],
      "source": [
        "train.groupby('year')['price'].agg(['count','median'])"
      ]
    },
    {
      "cell_type": "code",
      "execution_count": 116,
      "metadata": {
        "id": "Dr8MdetNuHh9"
      },
      "outputs": [],
      "source": [
        "train['year_group'] = pd.cut(train['year'],[0,2010,2012,2014,2016,2018,float('inf')])"
      ]
    },
    {
      "cell_type": "code",
      "execution_count": 117,
      "metadata": {
        "colab": {
          "base_uri": "https://localhost:8080/",
          "height": 269
        },
        "id": "hqDXvSq-uixE",
        "outputId": "738cdedd-1b43-47a9-c36d-ec8c794bbb60"
      },
      "outputs": [
        {
          "name": "stderr",
          "output_type": "stream",
          "text": [
            "C:\\Users\\kuche\\AppData\\Local\\Temp\\ipykernel_7996\\2772360164.py:1: FutureWarning: The default of observed=False is deprecated and will be changed to True in a future version of pandas. Pass observed=False to retain current behavior or observed=True to adopt the future default and silence this warning.\n",
            "  train.groupby('year_group')['price'].agg(['count','median'])\n"
          ]
        },
        {
          "data": {
            "text/html": [
              "<div>\n",
              "<style scoped>\n",
              "    .dataframe tbody tr th:only-of-type {\n",
              "        vertical-align: middle;\n",
              "    }\n",
              "\n",
              "    .dataframe tbody tr th {\n",
              "        vertical-align: top;\n",
              "    }\n",
              "\n",
              "    .dataframe thead th {\n",
              "        text-align: right;\n",
              "    }\n",
              "</style>\n",
              "<table border=\"1\" class=\"dataframe\">\n",
              "  <thead>\n",
              "    <tr style=\"text-align: right;\">\n",
              "      <th></th>\n",
              "      <th>count</th>\n",
              "      <th>median</th>\n",
              "    </tr>\n",
              "    <tr>\n",
              "      <th>year_group</th>\n",
              "      <th></th>\n",
              "      <th></th>\n",
              "    </tr>\n",
              "  </thead>\n",
              "  <tbody>\n",
              "    <tr>\n",
              "      <th>(0.0, 2010.0]</th>\n",
              "      <td>124</td>\n",
              "      <td>5584.0</td>\n",
              "    </tr>\n",
              "    <tr>\n",
              "      <th>(2010.0, 2012.0]</th>\n",
              "      <td>129</td>\n",
              "      <td>8985.0</td>\n",
              "    </tr>\n",
              "    <tr>\n",
              "      <th>(2012.0, 2014.0]</th>\n",
              "      <td>637</td>\n",
              "      <td>11695.0</td>\n",
              "    </tr>\n",
              "    <tr>\n",
              "      <th>(2014.0, 2016.0]</th>\n",
              "      <td>2114</td>\n",
              "      <td>15080.5</td>\n",
              "    </tr>\n",
              "    <tr>\n",
              "      <th>(2016.0, 2018.0]</th>\n",
              "      <td>1931</td>\n",
              "      <td>19370.0</td>\n",
              "    </tr>\n",
              "    <tr>\n",
              "      <th>(2018.0, inf]</th>\n",
              "      <td>3150</td>\n",
              "      <td>28867.5</td>\n",
              "    </tr>\n",
              "  </tbody>\n",
              "</table>\n",
              "</div>"
            ],
            "text/plain": [
              "                  count   median\n",
              "year_group                      \n",
              "(0.0, 2010.0]       124   5584.0\n",
              "(2010.0, 2012.0]    129   8985.0\n",
              "(2012.0, 2014.0]    637  11695.0\n",
              "(2014.0, 2016.0]   2114  15080.5\n",
              "(2016.0, 2018.0]   1931  19370.0\n",
              "(2018.0, inf]      3150  28867.5"
            ]
          },
          "execution_count": 117,
          "metadata": {},
          "output_type": "execute_result"
        }
      ],
      "source": [
        "train.groupby('year_group')['price'].agg(['count','median'])"
      ]
    },
    {
      "cell_type": "code",
      "execution_count": 118,
      "metadata": {
        "id": "3c6XOJNYuqnj"
      },
      "outputs": [
        {
          "name": "stderr",
          "output_type": "stream",
          "text": [
            "C:\\Users\\kuche\\AppData\\Local\\Temp\\ipykernel_7996\\1940245216.py:1: FutureWarning: The default of observed=False is deprecated and will be changed to True in a future version of pandas. Pass observed=False to retain current behavior or observed=True to adopt the future default and silence this warning.\n",
            "  model_year_engine_group_median = train.groupby(['year_group','engine_group'])['price'].median().reset_index()\n"
          ]
        }
      ],
      "source": [
        "model_year_engine_group_median = train.groupby(['year_group','engine_group'])['price'].median().reset_index()"
      ]
    },
    {
      "cell_type": "code",
      "execution_count": 119,
      "metadata": {
        "colab": {
          "base_uri": "https://localhost:8080/",
          "height": 614
        },
        "id": "w_Kv1z42u-hL",
        "outputId": "ec0caa95-315e-41a3-eb47-05c79feb6d60"
      },
      "outputs": [
        {
          "data": {
            "text/html": [
              "<div>\n",
              "<style scoped>\n",
              "    .dataframe tbody tr th:only-of-type {\n",
              "        vertical-align: middle;\n",
              "    }\n",
              "\n",
              "    .dataframe tbody tr th {\n",
              "        vertical-align: top;\n",
              "    }\n",
              "\n",
              "    .dataframe thead th {\n",
              "        text-align: right;\n",
              "    }\n",
              "</style>\n",
              "<table border=\"1\" class=\"dataframe\">\n",
              "  <thead>\n",
              "    <tr style=\"text-align: right;\">\n",
              "      <th></th>\n",
              "      <th>year_group</th>\n",
              "      <th>engine_group</th>\n",
              "      <th>price</th>\n",
              "    </tr>\n",
              "  </thead>\n",
              "  <tbody>\n",
              "    <tr>\n",
              "      <th>0</th>\n",
              "      <td>(0.0, 2010.0]</td>\n",
              "      <td>&lt;=1.5</td>\n",
              "      <td>13000.0</td>\n",
              "    </tr>\n",
              "    <tr>\n",
              "      <th>1</th>\n",
              "      <td>(0.0, 2010.0]</td>\n",
              "      <td>&lt;=2</td>\n",
              "      <td>4097.0</td>\n",
              "    </tr>\n",
              "    <tr>\n",
              "      <th>2</th>\n",
              "      <td>(0.0, 2010.0]</td>\n",
              "      <td>&gt;2</td>\n",
              "      <td>6990.0</td>\n",
              "    </tr>\n",
              "    <tr>\n",
              "      <th>3</th>\n",
              "      <td>(2010.0, 2012.0]</td>\n",
              "      <td>&lt;=1.5</td>\n",
              "      <td>NaN</td>\n",
              "    </tr>\n",
              "    <tr>\n",
              "      <th>4</th>\n",
              "      <td>(2010.0, 2012.0]</td>\n",
              "      <td>&lt;=2</td>\n",
              "      <td>8470.0</td>\n",
              "    </tr>\n",
              "    <tr>\n",
              "      <th>5</th>\n",
              "      <td>(2010.0, 2012.0]</td>\n",
              "      <td>&gt;2</td>\n",
              "      <td>12245.0</td>\n",
              "    </tr>\n",
              "    <tr>\n",
              "      <th>6</th>\n",
              "      <td>(2012.0, 2014.0]</td>\n",
              "      <td>&lt;=1.5</td>\n",
              "      <td>14972.5</td>\n",
              "    </tr>\n",
              "    <tr>\n",
              "      <th>7</th>\n",
              "      <td>(2012.0, 2014.0]</td>\n",
              "      <td>&lt;=2</td>\n",
              "      <td>10998.0</td>\n",
              "    </tr>\n",
              "    <tr>\n",
              "      <th>8</th>\n",
              "      <td>(2012.0, 2014.0]</td>\n",
              "      <td>&gt;2</td>\n",
              "      <td>16345.0</td>\n",
              "    </tr>\n",
              "    <tr>\n",
              "      <th>9</th>\n",
              "      <td>(2014.0, 2016.0]</td>\n",
              "      <td>&lt;=1.5</td>\n",
              "      <td>11557.0</td>\n",
              "    </tr>\n",
              "    <tr>\n",
              "      <th>10</th>\n",
              "      <td>(2014.0, 2016.0]</td>\n",
              "      <td>&lt;=2</td>\n",
              "      <td>14800.0</td>\n",
              "    </tr>\n",
              "    <tr>\n",
              "      <th>11</th>\n",
              "      <td>(2014.0, 2016.0]</td>\n",
              "      <td>&gt;2</td>\n",
              "      <td>19497.5</td>\n",
              "    </tr>\n",
              "    <tr>\n",
              "      <th>12</th>\n",
              "      <td>(2016.0, 2018.0]</td>\n",
              "      <td>&lt;=1.5</td>\n",
              "      <td>14999.0</td>\n",
              "    </tr>\n",
              "    <tr>\n",
              "      <th>13</th>\n",
              "      <td>(2016.0, 2018.0]</td>\n",
              "      <td>&lt;=2</td>\n",
              "      <td>18980.0</td>\n",
              "    </tr>\n",
              "    <tr>\n",
              "      <th>14</th>\n",
              "      <td>(2016.0, 2018.0]</td>\n",
              "      <td>&gt;2</td>\n",
              "      <td>24480.0</td>\n",
              "    </tr>\n",
              "    <tr>\n",
              "      <th>15</th>\n",
              "      <td>(2018.0, inf]</td>\n",
              "      <td>&lt;=1.5</td>\n",
              "      <td>21500.0</td>\n",
              "    </tr>\n",
              "    <tr>\n",
              "      <th>16</th>\n",
              "      <td>(2018.0, inf]</td>\n",
              "      <td>&lt;=2</td>\n",
              "      <td>27990.0</td>\n",
              "    </tr>\n",
              "    <tr>\n",
              "      <th>17</th>\n",
              "      <td>(2018.0, inf]</td>\n",
              "      <td>&gt;2</td>\n",
              "      <td>46000.0</td>\n",
              "    </tr>\n",
              "  </tbody>\n",
              "</table>\n",
              "</div>"
            ],
            "text/plain": [
              "          year_group engine_group    price\n",
              "0      (0.0, 2010.0]        <=1.5  13000.0\n",
              "1      (0.0, 2010.0]          <=2   4097.0\n",
              "2      (0.0, 2010.0]           >2   6990.0\n",
              "3   (2010.0, 2012.0]        <=1.5      NaN\n",
              "4   (2010.0, 2012.0]          <=2   8470.0\n",
              "5   (2010.0, 2012.0]           >2  12245.0\n",
              "6   (2012.0, 2014.0]        <=1.5  14972.5\n",
              "7   (2012.0, 2014.0]          <=2  10998.0\n",
              "8   (2012.0, 2014.0]           >2  16345.0\n",
              "9   (2014.0, 2016.0]        <=1.5  11557.0\n",
              "10  (2014.0, 2016.0]          <=2  14800.0\n",
              "11  (2014.0, 2016.0]           >2  19497.5\n",
              "12  (2016.0, 2018.0]        <=1.5  14999.0\n",
              "13  (2016.0, 2018.0]          <=2  18980.0\n",
              "14  (2016.0, 2018.0]           >2  24480.0\n",
              "15     (2018.0, inf]        <=1.5  21500.0\n",
              "16     (2018.0, inf]          <=2  27990.0\n",
              "17     (2018.0, inf]           >2  46000.0"
            ]
          },
          "execution_count": 119,
          "metadata": {},
          "output_type": "execute_result"
        }
      ],
      "source": [
        "model_year_engine_group_median"
      ]
    },
    {
      "cell_type": "code",
      "execution_count": 120,
      "metadata": {
        "id": "J3BzXXKIvVX4"
      },
      "outputs": [],
      "source": [
        "model_year_engine_group_median = model_year_engine_group_median.rename({'price':'pred_price_year_engine_group_median'},axis=1)"
      ]
    },
    {
      "cell_type": "code",
      "execution_count": 121,
      "metadata": {
        "id": "EsRLJHaPvL9O"
      },
      "outputs": [],
      "source": [
        "train = train.merge(model_year_engine_group_median, how='left', on=['year_group','engine_group'])"
      ]
    },
    {
      "cell_type": "code",
      "execution_count": 122,
      "metadata": {
        "colab": {
          "base_uri": "https://localhost:8080/"
        },
        "id": "yHzGNlf8vRiE",
        "outputId": "28511bf3-b4b0-4564-85b0-0e5f84548475"
      },
      "outputs": [
        {
          "name": "stdout",
          "output_type": "stream",
          "text": [
            "3659.774273345702\n",
            "0.1582922021242831\n"
          ]
        }
      ],
      "source": [
        "error(train['price'], train['price_pred_year_engine_median'])"
      ]
    },
    {
      "cell_type": "code",
      "execution_count": 123,
      "metadata": {
        "colab": {
          "base_uri": "https://localhost:8080/"
        },
        "id": "jgU4on9IvrpS",
        "outputId": "4cb8bee4-ade4-4982-cbb8-62f9affbc08a"
      },
      "outputs": [
        {
          "name": "stdout",
          "output_type": "stream",
          "text": [
            "3827.4336425479282\n",
            "0.1693848259731495\n"
          ]
        }
      ],
      "source": [
        "error(train['price'], train['pred_price_year_engine_group_median'])"
      ]
    },
    {
      "cell_type": "code",
      "execution_count": 124,
      "metadata": {
        "id": "ic_dvG5UxFIA"
      },
      "outputs": [
        {
          "name": "stderr",
          "output_type": "stream",
          "text": [
            "C:\\Users\\kuche\\AppData\\Local\\Temp\\ipykernel_7996\\1873534071.py:1: FutureWarning: The default of observed=False is deprecated and will be changed to True in a future version of pandas. Pass observed=False to retain current behavior or observed=True to adopt the future default and silence this warning.\n",
            "  model_year_engine_trn_group_median = (train.groupby(['year_group',\n"
          ]
        }
      ],
      "source": [
        "model_year_engine_trn_group_median = (train.groupby(['year_group',\n",
        "                                                     'engine_group',\n",
        "                                                     'transmission'])\n",
        "                                            ['price'].median().reset_index())"
      ]
    },
    {
      "cell_type": "code",
      "execution_count": 125,
      "metadata": {
        "colab": {
          "base_uri": "https://localhost:8080/",
          "height": 1000
        },
        "id": "g32R-3rE0Lhf",
        "outputId": "81b8dc8a-40ec-40b8-9fb5-d19de095a144"
      },
      "outputs": [
        {
          "data": {
            "text/html": [
              "<div>\n",
              "<style scoped>\n",
              "    .dataframe tbody tr th:only-of-type {\n",
              "        vertical-align: middle;\n",
              "    }\n",
              "\n",
              "    .dataframe tbody tr th {\n",
              "        vertical-align: top;\n",
              "    }\n",
              "\n",
              "    .dataframe thead th {\n",
              "        text-align: right;\n",
              "    }\n",
              "</style>\n",
              "<table border=\"1\" class=\"dataframe\">\n",
              "  <thead>\n",
              "    <tr style=\"text-align: right;\">\n",
              "      <th></th>\n",
              "      <th>year_group</th>\n",
              "      <th>engine_group</th>\n",
              "      <th>transmission</th>\n",
              "      <th>price</th>\n",
              "    </tr>\n",
              "  </thead>\n",
              "  <tbody>\n",
              "    <tr>\n",
              "      <th>0</th>\n",
              "      <td>(0.0, 2010.0]</td>\n",
              "      <td>&lt;=1.5</td>\n",
              "      <td>Automatic</td>\n",
              "      <td>NaN</td>\n",
              "    </tr>\n",
              "    <tr>\n",
              "      <th>1</th>\n",
              "      <td>(0.0, 2010.0]</td>\n",
              "      <td>&lt;=1.5</td>\n",
              "      <td>Manual</td>\n",
              "      <td>13000.0</td>\n",
              "    </tr>\n",
              "    <tr>\n",
              "      <th>2</th>\n",
              "      <td>(0.0, 2010.0]</td>\n",
              "      <td>&lt;=1.5</td>\n",
              "      <td>Semi-Auto</td>\n",
              "      <td>NaN</td>\n",
              "    </tr>\n",
              "    <tr>\n",
              "      <th>3</th>\n",
              "      <td>(0.0, 2010.0]</td>\n",
              "      <td>&lt;=2</td>\n",
              "      <td>Automatic</td>\n",
              "      <td>5982.5</td>\n",
              "    </tr>\n",
              "    <tr>\n",
              "      <th>4</th>\n",
              "      <td>(0.0, 2010.0]</td>\n",
              "      <td>&lt;=2</td>\n",
              "      <td>Manual</td>\n",
              "      <td>3995.0</td>\n",
              "    </tr>\n",
              "    <tr>\n",
              "      <th>5</th>\n",
              "      <td>(0.0, 2010.0]</td>\n",
              "      <td>&lt;=2</td>\n",
              "      <td>Semi-Auto</td>\n",
              "      <td>5695.0</td>\n",
              "    </tr>\n",
              "    <tr>\n",
              "      <th>6</th>\n",
              "      <td>(0.0, 2010.0]</td>\n",
              "      <td>&gt;2</td>\n",
              "      <td>Automatic</td>\n",
              "      <td>5997.0</td>\n",
              "    </tr>\n",
              "    <tr>\n",
              "      <th>7</th>\n",
              "      <td>(0.0, 2010.0]</td>\n",
              "      <td>&gt;2</td>\n",
              "      <td>Manual</td>\n",
              "      <td>8800.0</td>\n",
              "    </tr>\n",
              "    <tr>\n",
              "      <th>8</th>\n",
              "      <td>(0.0, 2010.0]</td>\n",
              "      <td>&gt;2</td>\n",
              "      <td>Semi-Auto</td>\n",
              "      <td>10995.0</td>\n",
              "    </tr>\n",
              "    <tr>\n",
              "      <th>9</th>\n",
              "      <td>(2010.0, 2012.0]</td>\n",
              "      <td>&lt;=1.5</td>\n",
              "      <td>Automatic</td>\n",
              "      <td>NaN</td>\n",
              "    </tr>\n",
              "    <tr>\n",
              "      <th>10</th>\n",
              "      <td>(2010.0, 2012.0]</td>\n",
              "      <td>&lt;=1.5</td>\n",
              "      <td>Manual</td>\n",
              "      <td>NaN</td>\n",
              "    </tr>\n",
              "    <tr>\n",
              "      <th>11</th>\n",
              "      <td>(2010.0, 2012.0]</td>\n",
              "      <td>&lt;=1.5</td>\n",
              "      <td>Semi-Auto</td>\n",
              "      <td>NaN</td>\n",
              "    </tr>\n",
              "    <tr>\n",
              "      <th>12</th>\n",
              "      <td>(2010.0, 2012.0]</td>\n",
              "      <td>&lt;=2</td>\n",
              "      <td>Automatic</td>\n",
              "      <td>9440.0</td>\n",
              "    </tr>\n",
              "    <tr>\n",
              "      <th>13</th>\n",
              "      <td>(2010.0, 2012.0]</td>\n",
              "      <td>&lt;=2</td>\n",
              "      <td>Manual</td>\n",
              "      <td>7490.0</td>\n",
              "    </tr>\n",
              "    <tr>\n",
              "      <th>14</th>\n",
              "      <td>(2010.0, 2012.0]</td>\n",
              "      <td>&lt;=2</td>\n",
              "      <td>Semi-Auto</td>\n",
              "      <td>NaN</td>\n",
              "    </tr>\n",
              "    <tr>\n",
              "      <th>15</th>\n",
              "      <td>(2010.0, 2012.0]</td>\n",
              "      <td>&gt;2</td>\n",
              "      <td>Automatic</td>\n",
              "      <td>12245.0</td>\n",
              "    </tr>\n",
              "    <tr>\n",
              "      <th>16</th>\n",
              "      <td>(2010.0, 2012.0]</td>\n",
              "      <td>&gt;2</td>\n",
              "      <td>Manual</td>\n",
              "      <td>NaN</td>\n",
              "    </tr>\n",
              "    <tr>\n",
              "      <th>17</th>\n",
              "      <td>(2010.0, 2012.0]</td>\n",
              "      <td>&gt;2</td>\n",
              "      <td>Semi-Auto</td>\n",
              "      <td>NaN</td>\n",
              "    </tr>\n",
              "    <tr>\n",
              "      <th>18</th>\n",
              "      <td>(2012.0, 2014.0]</td>\n",
              "      <td>&lt;=1.5</td>\n",
              "      <td>Automatic</td>\n",
              "      <td>14972.5</td>\n",
              "    </tr>\n",
              "    <tr>\n",
              "      <th>19</th>\n",
              "      <td>(2012.0, 2014.0]</td>\n",
              "      <td>&lt;=1.5</td>\n",
              "      <td>Manual</td>\n",
              "      <td>NaN</td>\n",
              "    </tr>\n",
              "    <tr>\n",
              "      <th>20</th>\n",
              "      <td>(2012.0, 2014.0]</td>\n",
              "      <td>&lt;=1.5</td>\n",
              "      <td>Semi-Auto</td>\n",
              "      <td>NaN</td>\n",
              "    </tr>\n",
              "    <tr>\n",
              "      <th>21</th>\n",
              "      <td>(2012.0, 2014.0]</td>\n",
              "      <td>&lt;=2</td>\n",
              "      <td>Automatic</td>\n",
              "      <td>11499.0</td>\n",
              "    </tr>\n",
              "    <tr>\n",
              "      <th>22</th>\n",
              "      <td>(2012.0, 2014.0]</td>\n",
              "      <td>&lt;=2</td>\n",
              "      <td>Manual</td>\n",
              "      <td>9940.0</td>\n",
              "    </tr>\n",
              "    <tr>\n",
              "      <th>23</th>\n",
              "      <td>(2012.0, 2014.0]</td>\n",
              "      <td>&lt;=2</td>\n",
              "      <td>Semi-Auto</td>\n",
              "      <td>12655.5</td>\n",
              "    </tr>\n",
              "    <tr>\n",
              "      <th>24</th>\n",
              "      <td>(2012.0, 2014.0]</td>\n",
              "      <td>&gt;2</td>\n",
              "      <td>Automatic</td>\n",
              "      <td>16990.0</td>\n",
              "    </tr>\n",
              "    <tr>\n",
              "      <th>25</th>\n",
              "      <td>(2012.0, 2014.0]</td>\n",
              "      <td>&gt;2</td>\n",
              "      <td>Manual</td>\n",
              "      <td>13898.5</td>\n",
              "    </tr>\n",
              "    <tr>\n",
              "      <th>26</th>\n",
              "      <td>(2012.0, 2014.0]</td>\n",
              "      <td>&gt;2</td>\n",
              "      <td>Semi-Auto</td>\n",
              "      <td>15991.0</td>\n",
              "    </tr>\n",
              "    <tr>\n",
              "      <th>27</th>\n",
              "      <td>(2014.0, 2016.0]</td>\n",
              "      <td>&lt;=1.5</td>\n",
              "      <td>Automatic</td>\n",
              "      <td>14285.0</td>\n",
              "    </tr>\n",
              "    <tr>\n",
              "      <th>28</th>\n",
              "      <td>(2014.0, 2016.0]</td>\n",
              "      <td>&lt;=1.5</td>\n",
              "      <td>Manual</td>\n",
              "      <td>11000.5</td>\n",
              "    </tr>\n",
              "    <tr>\n",
              "      <th>29</th>\n",
              "      <td>(2014.0, 2016.0]</td>\n",
              "      <td>&lt;=1.5</td>\n",
              "      <td>Semi-Auto</td>\n",
              "      <td>14107.5</td>\n",
              "    </tr>\n",
              "    <tr>\n",
              "      <th>30</th>\n",
              "      <td>(2014.0, 2016.0]</td>\n",
              "      <td>&lt;=2</td>\n",
              "      <td>Automatic</td>\n",
              "      <td>14985.0</td>\n",
              "    </tr>\n",
              "    <tr>\n",
              "      <th>31</th>\n",
              "      <td>(2014.0, 2016.0]</td>\n",
              "      <td>&lt;=2</td>\n",
              "      <td>Manual</td>\n",
              "      <td>12999.0</td>\n",
              "    </tr>\n",
              "    <tr>\n",
              "      <th>32</th>\n",
              "      <td>(2014.0, 2016.0]</td>\n",
              "      <td>&lt;=2</td>\n",
              "      <td>Semi-Auto</td>\n",
              "      <td>16990.0</td>\n",
              "    </tr>\n",
              "    <tr>\n",
              "      <th>33</th>\n",
              "      <td>(2014.0, 2016.0]</td>\n",
              "      <td>&gt;2</td>\n",
              "      <td>Automatic</td>\n",
              "      <td>19245.0</td>\n",
              "    </tr>\n",
              "    <tr>\n",
              "      <th>34</th>\n",
              "      <td>(2014.0, 2016.0]</td>\n",
              "      <td>&gt;2</td>\n",
              "      <td>Manual</td>\n",
              "      <td>17480.0</td>\n",
              "    </tr>\n",
              "    <tr>\n",
              "      <th>35</th>\n",
              "      <td>(2014.0, 2016.0]</td>\n",
              "      <td>&gt;2</td>\n",
              "      <td>Semi-Auto</td>\n",
              "      <td>19898.0</td>\n",
              "    </tr>\n",
              "    <tr>\n",
              "      <th>36</th>\n",
              "      <td>(2016.0, 2018.0]</td>\n",
              "      <td>&lt;=1.5</td>\n",
              "      <td>Automatic</td>\n",
              "      <td>16449.5</td>\n",
              "    </tr>\n",
              "    <tr>\n",
              "      <th>37</th>\n",
              "      <td>(2016.0, 2018.0]</td>\n",
              "      <td>&lt;=1.5</td>\n",
              "      <td>Manual</td>\n",
              "      <td>13980.0</td>\n",
              "    </tr>\n",
              "    <tr>\n",
              "      <th>38</th>\n",
              "      <td>(2016.0, 2018.0]</td>\n",
              "      <td>&lt;=1.5</td>\n",
              "      <td>Semi-Auto</td>\n",
              "      <td>16480.0</td>\n",
              "    </tr>\n",
              "    <tr>\n",
              "      <th>39</th>\n",
              "      <td>(2016.0, 2018.0]</td>\n",
              "      <td>&lt;=2</td>\n",
              "      <td>Automatic</td>\n",
              "      <td>18690.0</td>\n",
              "    </tr>\n",
              "    <tr>\n",
              "      <th>40</th>\n",
              "      <td>(2016.0, 2018.0]</td>\n",
              "      <td>&lt;=2</td>\n",
              "      <td>Manual</td>\n",
              "      <td>15400.0</td>\n",
              "    </tr>\n",
              "    <tr>\n",
              "      <th>41</th>\n",
              "      <td>(2016.0, 2018.0]</td>\n",
              "      <td>&lt;=2</td>\n",
              "      <td>Semi-Auto</td>\n",
              "      <td>19995.0</td>\n",
              "    </tr>\n",
              "    <tr>\n",
              "      <th>42</th>\n",
              "      <td>(2016.0, 2018.0]</td>\n",
              "      <td>&gt;2</td>\n",
              "      <td>Automatic</td>\n",
              "      <td>24686.0</td>\n",
              "    </tr>\n",
              "    <tr>\n",
              "      <th>43</th>\n",
              "      <td>(2016.0, 2018.0]</td>\n",
              "      <td>&gt;2</td>\n",
              "      <td>Manual</td>\n",
              "      <td>20491.0</td>\n",
              "    </tr>\n",
              "    <tr>\n",
              "      <th>44</th>\n",
              "      <td>(2016.0, 2018.0]</td>\n",
              "      <td>&gt;2</td>\n",
              "      <td>Semi-Auto</td>\n",
              "      <td>24495.0</td>\n",
              "    </tr>\n",
              "    <tr>\n",
              "      <th>45</th>\n",
              "      <td>(2018.0, inf]</td>\n",
              "      <td>&lt;=1.5</td>\n",
              "      <td>Automatic</td>\n",
              "      <td>21450.0</td>\n",
              "    </tr>\n",
              "    <tr>\n",
              "      <th>46</th>\n",
              "      <td>(2018.0, inf]</td>\n",
              "      <td>&lt;=1.5</td>\n",
              "      <td>Manual</td>\n",
              "      <td>21225.0</td>\n",
              "    </tr>\n",
              "    <tr>\n",
              "      <th>47</th>\n",
              "      <td>(2018.0, inf]</td>\n",
              "      <td>&lt;=1.5</td>\n",
              "      <td>Semi-Auto</td>\n",
              "      <td>21950.0</td>\n",
              "    </tr>\n",
              "    <tr>\n",
              "      <th>48</th>\n",
              "      <td>(2018.0, inf]</td>\n",
              "      <td>&lt;=2</td>\n",
              "      <td>Automatic</td>\n",
              "      <td>28850.0</td>\n",
              "    </tr>\n",
              "    <tr>\n",
              "      <th>49</th>\n",
              "      <td>(2018.0, inf]</td>\n",
              "      <td>&lt;=2</td>\n",
              "      <td>Manual</td>\n",
              "      <td>24775.0</td>\n",
              "    </tr>\n",
              "    <tr>\n",
              "      <th>50</th>\n",
              "      <td>(2018.0, inf]</td>\n",
              "      <td>&lt;=2</td>\n",
              "      <td>Semi-Auto</td>\n",
              "      <td>27995.0</td>\n",
              "    </tr>\n",
              "    <tr>\n",
              "      <th>51</th>\n",
              "      <td>(2018.0, inf]</td>\n",
              "      <td>&gt;2</td>\n",
              "      <td>Automatic</td>\n",
              "      <td>44130.5</td>\n",
              "    </tr>\n",
              "    <tr>\n",
              "      <th>52</th>\n",
              "      <td>(2018.0, inf]</td>\n",
              "      <td>&gt;2</td>\n",
              "      <td>Manual</td>\n",
              "      <td>46000.0</td>\n",
              "    </tr>\n",
              "    <tr>\n",
              "      <th>53</th>\n",
              "      <td>(2018.0, inf]</td>\n",
              "      <td>&gt;2</td>\n",
              "      <td>Semi-Auto</td>\n",
              "      <td>46991.0</td>\n",
              "    </tr>\n",
              "  </tbody>\n",
              "</table>\n",
              "</div>"
            ],
            "text/plain": [
              "          year_group engine_group transmission    price\n",
              "0      (0.0, 2010.0]        <=1.5    Automatic      NaN\n",
              "1      (0.0, 2010.0]        <=1.5       Manual  13000.0\n",
              "2      (0.0, 2010.0]        <=1.5    Semi-Auto      NaN\n",
              "3      (0.0, 2010.0]          <=2    Automatic   5982.5\n",
              "4      (0.0, 2010.0]          <=2       Manual   3995.0\n",
              "5      (0.0, 2010.0]          <=2    Semi-Auto   5695.0\n",
              "6      (0.0, 2010.0]           >2    Automatic   5997.0\n",
              "7      (0.0, 2010.0]           >2       Manual   8800.0\n",
              "8      (0.0, 2010.0]           >2    Semi-Auto  10995.0\n",
              "9   (2010.0, 2012.0]        <=1.5    Automatic      NaN\n",
              "10  (2010.0, 2012.0]        <=1.5       Manual      NaN\n",
              "11  (2010.0, 2012.0]        <=1.5    Semi-Auto      NaN\n",
              "12  (2010.0, 2012.0]          <=2    Automatic   9440.0\n",
              "13  (2010.0, 2012.0]          <=2       Manual   7490.0\n",
              "14  (2010.0, 2012.0]          <=2    Semi-Auto      NaN\n",
              "15  (2010.0, 2012.0]           >2    Automatic  12245.0\n",
              "16  (2010.0, 2012.0]           >2       Manual      NaN\n",
              "17  (2010.0, 2012.0]           >2    Semi-Auto      NaN\n",
              "18  (2012.0, 2014.0]        <=1.5    Automatic  14972.5\n",
              "19  (2012.0, 2014.0]        <=1.5       Manual      NaN\n",
              "20  (2012.0, 2014.0]        <=1.5    Semi-Auto      NaN\n",
              "21  (2012.0, 2014.0]          <=2    Automatic  11499.0\n",
              "22  (2012.0, 2014.0]          <=2       Manual   9940.0\n",
              "23  (2012.0, 2014.0]          <=2    Semi-Auto  12655.5\n",
              "24  (2012.0, 2014.0]           >2    Automatic  16990.0\n",
              "25  (2012.0, 2014.0]           >2       Manual  13898.5\n",
              "26  (2012.0, 2014.0]           >2    Semi-Auto  15991.0\n",
              "27  (2014.0, 2016.0]        <=1.5    Automatic  14285.0\n",
              "28  (2014.0, 2016.0]        <=1.5       Manual  11000.5\n",
              "29  (2014.0, 2016.0]        <=1.5    Semi-Auto  14107.5\n",
              "30  (2014.0, 2016.0]          <=2    Automatic  14985.0\n",
              "31  (2014.0, 2016.0]          <=2       Manual  12999.0\n",
              "32  (2014.0, 2016.0]          <=2    Semi-Auto  16990.0\n",
              "33  (2014.0, 2016.0]           >2    Automatic  19245.0\n",
              "34  (2014.0, 2016.0]           >2       Manual  17480.0\n",
              "35  (2014.0, 2016.0]           >2    Semi-Auto  19898.0\n",
              "36  (2016.0, 2018.0]        <=1.5    Automatic  16449.5\n",
              "37  (2016.0, 2018.0]        <=1.5       Manual  13980.0\n",
              "38  (2016.0, 2018.0]        <=1.5    Semi-Auto  16480.0\n",
              "39  (2016.0, 2018.0]          <=2    Automatic  18690.0\n",
              "40  (2016.0, 2018.0]          <=2       Manual  15400.0\n",
              "41  (2016.0, 2018.0]          <=2    Semi-Auto  19995.0\n",
              "42  (2016.0, 2018.0]           >2    Automatic  24686.0\n",
              "43  (2016.0, 2018.0]           >2       Manual  20491.0\n",
              "44  (2016.0, 2018.0]           >2    Semi-Auto  24495.0\n",
              "45     (2018.0, inf]        <=1.5    Automatic  21450.0\n",
              "46     (2018.0, inf]        <=1.5       Manual  21225.0\n",
              "47     (2018.0, inf]        <=1.5    Semi-Auto  21950.0\n",
              "48     (2018.0, inf]          <=2    Automatic  28850.0\n",
              "49     (2018.0, inf]          <=2       Manual  24775.0\n",
              "50     (2018.0, inf]          <=2    Semi-Auto  27995.0\n",
              "51     (2018.0, inf]           >2    Automatic  44130.5\n",
              "52     (2018.0, inf]           >2       Manual  46000.0\n",
              "53     (2018.0, inf]           >2    Semi-Auto  46991.0"
            ]
          },
          "execution_count": 125,
          "metadata": {},
          "output_type": "execute_result"
        }
      ],
      "source": [
        "model_year_engine_trn_group_median"
      ]
    },
    {
      "cell_type": "code",
      "execution_count": 126,
      "metadata": {
        "id": "fMKs_bcS0oGv"
      },
      "outputs": [],
      "source": [
        "pd.options.display.max_rows = 99"
      ]
    },
    {
      "cell_type": "code",
      "execution_count": 127,
      "metadata": {
        "id": "qAFYibum1AkT"
      },
      "outputs": [],
      "source": [
        "model_year_engine_trn_group_median = model_year_engine_trn_group_median.rename({'price':'price_pred_year_engine_trn_median'},axis=1)"
      ]
    },
    {
      "cell_type": "code",
      "execution_count": 128,
      "metadata": {
        "id": "uhJHKrBO0hsA"
      },
      "outputs": [],
      "source": [
        "train = train.merge(model_year_engine_trn_group_median, how='left',\n",
        "            on=['year_group','engine_group','transmission'])"
      ]
    },
    {
      "cell_type": "code",
      "execution_count": 129,
      "metadata": {
        "colab": {
          "base_uri": "https://localhost:8080/"
        },
        "id": "o9d4oaba1Qgm",
        "outputId": "77e9459c-793e-4080-e5c1-aeff51f0fb2e"
      },
      "outputs": [
        {
          "name": "stdout",
          "output_type": "stream",
          "text": [
            "3659.774273345702\n",
            "0.1582922021242831\n"
          ]
        }
      ],
      "source": [
        "error(train['price'], train['price_pred_year_engine_median'])"
      ]
    },
    {
      "cell_type": "code",
      "execution_count": 130,
      "metadata": {
        "colab": {
          "base_uri": "https://localhost:8080/"
        },
        "id": "etDHNtX_1Qgm",
        "outputId": "4479a993-41d0-4dab-f682-ce81b81cc58c"
      },
      "outputs": [
        {
          "name": "stdout",
          "output_type": "stream",
          "text": [
            "3827.4336425479282\n",
            "0.1693848259731495\n"
          ]
        }
      ],
      "source": [
        "error(train['price'], train['pred_price_year_engine_group_median'])"
      ]
    },
    {
      "cell_type": "code",
      "execution_count": 131,
      "metadata": {
        "colab": {
          "base_uri": "https://localhost:8080/"
        },
        "id": "wWHzSO6m1U-F",
        "outputId": "50b2a2fb-4728-489a-f133-624f9c32adab"
      },
      "outputs": [
        {
          "name": "stdout",
          "output_type": "stream",
          "text": [
            "3635.5412492269634\n",
            "0.1561691679065392\n"
          ]
        }
      ],
      "source": [
        "error(train['price'], train['price_pred_year_engine_trn_median'])"
      ]
    },
    {
      "cell_type": "code",
      "execution_count": 132,
      "metadata": {
        "id": "VQEkOi182Qc2"
      },
      "outputs": [],
      "source": [
        "test['year_group'] = pd.cut(test['year'],[0,2010,2012,2014,2016,2018,float('inf')])"
      ]
    },
    {
      "cell_type": "code",
      "execution_count": 133,
      "metadata": {
        "id": "jqw5lAin2pzN"
      },
      "outputs": [],
      "source": [
        "test = test.merge(model_year_engine_trn_group_median, how='left',\n",
        "            on=['year_group','engine_group','transmission'])"
      ]
    },
    {
      "cell_type": "code",
      "execution_count": 134,
      "metadata": {
        "colab": {
          "base_uri": "https://localhost:8080/"
        },
        "id": "l2-tPg702u6e",
        "outputId": "0b626a5c-433c-454b-cbf8-9f9baf456931"
      },
      "outputs": [
        {
          "data": {
            "text/plain": [
              "model                                0.000000\n",
              "year                                 0.000000\n",
              "price                                0.000000\n",
              "transmission                         0.000000\n",
              "mileage                              0.000000\n",
              "fuelType                             0.000000\n",
              "tax                                  0.000000\n",
              "mpg                                  0.000000\n",
              "engineSize                           0.000000\n",
              "price_pred_median                    0.000000\n",
              "price_pred_year_mean                 0.000000\n",
              "price_pred_year_median               0.000000\n",
              "engine_group                         0.000000\n",
              "price_pred_year_engine_median        0.000742\n",
              "year_group                           0.000000\n",
              "price_pred_year_engine_trn_median    0.001113\n",
              "dtype: float64"
            ]
          },
          "execution_count": 134,
          "metadata": {},
          "output_type": "execute_result"
        }
      ],
      "source": [
        "test.isna().mean()"
      ]
    },
    {
      "cell_type": "code",
      "execution_count": 135,
      "metadata": {
        "id": "bWmvkqYa2yqp"
      },
      "outputs": [],
      "source": [
        "test_no_na = test.dropna().copy()"
      ]
    },
    {
      "cell_type": "code",
      "execution_count": 136,
      "metadata": {
        "colab": {
          "base_uri": "https://localhost:8080/"
        },
        "id": "S66r8_l_3INI",
        "outputId": "59f5b2f9-1a23-4ad7-9984-b6799e5f6676"
      },
      "outputs": [
        {
          "name": "stdout",
          "output_type": "stream",
          "text": [
            "3635.5412492269634\n",
            "0.1561691679065392\n"
          ]
        }
      ],
      "source": [
        "error(train['price'], train['price_pred_year_engine_trn_median'])"
      ]
    },
    {
      "cell_type": "code",
      "execution_count": 137,
      "metadata": {
        "colab": {
          "base_uri": "https://localhost:8080/"
        },
        "id": "TYEgJAiK3KpY",
        "outputId": "ca13b2d0-af1d-40ac-837e-b8881e8b932c"
      },
      "outputs": [
        {
          "name": "stdout",
          "output_type": "stream",
          "text": [
            "3777.5172798216277\n",
            "0.16037327734163415\n"
          ]
        }
      ],
      "source": [
        "error(test_no_na['price'], test_no_na['price_pred_year_engine_trn_median'])"
      ]
    },
    {
      "cell_type": "code",
      "execution_count": 138,
      "metadata": {
        "colab": {
          "base_uri": "https://localhost:8080/"
        },
        "id": "gmMCVc773MJl",
        "outputId": "9d9cd5d5-d31c-49ee-9dcc-84f781d79bf6"
      },
      "outputs": [
        {
          "name": "stdout",
          "output_type": "stream",
          "text": [
            "3789.392233370494\n",
            "0.1626320818166501\n"
          ]
        }
      ],
      "source": [
        "error(test_no_na['price'], test_no_na['price_pred_year_engine_median'])"
      ]
    },
    {
      "cell_type": "code",
      "execution_count": 139,
      "metadata": {
        "colab": {
          "base_uri": "https://localhost:8080/",
          "height": 1000
        },
        "id": "HhOnqCLX3Uid",
        "outputId": "18863a24-e24e-4140-86be-75ea3a60c2bf"
      },
      "outputs": [
        {
          "data": {
            "text/html": [
              "<div>\n",
              "<style scoped>\n",
              "    .dataframe tbody tr th:only-of-type {\n",
              "        vertical-align: middle;\n",
              "    }\n",
              "\n",
              "    .dataframe tbody tr th {\n",
              "        vertical-align: top;\n",
              "    }\n",
              "\n",
              "    .dataframe thead th {\n",
              "        text-align: right;\n",
              "    }\n",
              "</style>\n",
              "<table border=\"1\" class=\"dataframe\">\n",
              "  <thead>\n",
              "    <tr style=\"text-align: right;\">\n",
              "      <th></th>\n",
              "      <th>year_group</th>\n",
              "      <th>engine_group</th>\n",
              "      <th>transmission</th>\n",
              "      <th>price_pred_year_engine_trn_median</th>\n",
              "    </tr>\n",
              "  </thead>\n",
              "  <tbody>\n",
              "    <tr>\n",
              "      <th>0</th>\n",
              "      <td>(0.0, 2010.0]</td>\n",
              "      <td>&lt;=1.5</td>\n",
              "      <td>Automatic</td>\n",
              "      <td>NaN</td>\n",
              "    </tr>\n",
              "    <tr>\n",
              "      <th>1</th>\n",
              "      <td>(0.0, 2010.0]</td>\n",
              "      <td>&lt;=1.5</td>\n",
              "      <td>Manual</td>\n",
              "      <td>13000.0</td>\n",
              "    </tr>\n",
              "    <tr>\n",
              "      <th>2</th>\n",
              "      <td>(0.0, 2010.0]</td>\n",
              "      <td>&lt;=1.5</td>\n",
              "      <td>Semi-Auto</td>\n",
              "      <td>NaN</td>\n",
              "    </tr>\n",
              "    <tr>\n",
              "      <th>3</th>\n",
              "      <td>(0.0, 2010.0]</td>\n",
              "      <td>&lt;=2</td>\n",
              "      <td>Automatic</td>\n",
              "      <td>5982.5</td>\n",
              "    </tr>\n",
              "    <tr>\n",
              "      <th>4</th>\n",
              "      <td>(0.0, 2010.0]</td>\n",
              "      <td>&lt;=2</td>\n",
              "      <td>Manual</td>\n",
              "      <td>3995.0</td>\n",
              "    </tr>\n",
              "    <tr>\n",
              "      <th>5</th>\n",
              "      <td>(0.0, 2010.0]</td>\n",
              "      <td>&lt;=2</td>\n",
              "      <td>Semi-Auto</td>\n",
              "      <td>5695.0</td>\n",
              "    </tr>\n",
              "    <tr>\n",
              "      <th>6</th>\n",
              "      <td>(0.0, 2010.0]</td>\n",
              "      <td>&gt;2</td>\n",
              "      <td>Automatic</td>\n",
              "      <td>5997.0</td>\n",
              "    </tr>\n",
              "    <tr>\n",
              "      <th>7</th>\n",
              "      <td>(0.0, 2010.0]</td>\n",
              "      <td>&gt;2</td>\n",
              "      <td>Manual</td>\n",
              "      <td>8800.0</td>\n",
              "    </tr>\n",
              "    <tr>\n",
              "      <th>8</th>\n",
              "      <td>(0.0, 2010.0]</td>\n",
              "      <td>&gt;2</td>\n",
              "      <td>Semi-Auto</td>\n",
              "      <td>10995.0</td>\n",
              "    </tr>\n",
              "    <tr>\n",
              "      <th>9</th>\n",
              "      <td>(2010.0, 2012.0]</td>\n",
              "      <td>&lt;=1.5</td>\n",
              "      <td>Automatic</td>\n",
              "      <td>NaN</td>\n",
              "    </tr>\n",
              "    <tr>\n",
              "      <th>10</th>\n",
              "      <td>(2010.0, 2012.0]</td>\n",
              "      <td>&lt;=1.5</td>\n",
              "      <td>Manual</td>\n",
              "      <td>NaN</td>\n",
              "    </tr>\n",
              "    <tr>\n",
              "      <th>11</th>\n",
              "      <td>(2010.0, 2012.0]</td>\n",
              "      <td>&lt;=1.5</td>\n",
              "      <td>Semi-Auto</td>\n",
              "      <td>NaN</td>\n",
              "    </tr>\n",
              "    <tr>\n",
              "      <th>12</th>\n",
              "      <td>(2010.0, 2012.0]</td>\n",
              "      <td>&lt;=2</td>\n",
              "      <td>Automatic</td>\n",
              "      <td>9440.0</td>\n",
              "    </tr>\n",
              "    <tr>\n",
              "      <th>13</th>\n",
              "      <td>(2010.0, 2012.0]</td>\n",
              "      <td>&lt;=2</td>\n",
              "      <td>Manual</td>\n",
              "      <td>7490.0</td>\n",
              "    </tr>\n",
              "    <tr>\n",
              "      <th>14</th>\n",
              "      <td>(2010.0, 2012.0]</td>\n",
              "      <td>&lt;=2</td>\n",
              "      <td>Semi-Auto</td>\n",
              "      <td>NaN</td>\n",
              "    </tr>\n",
              "    <tr>\n",
              "      <th>15</th>\n",
              "      <td>(2010.0, 2012.0]</td>\n",
              "      <td>&gt;2</td>\n",
              "      <td>Automatic</td>\n",
              "      <td>12245.0</td>\n",
              "    </tr>\n",
              "    <tr>\n",
              "      <th>16</th>\n",
              "      <td>(2010.0, 2012.0]</td>\n",
              "      <td>&gt;2</td>\n",
              "      <td>Manual</td>\n",
              "      <td>NaN</td>\n",
              "    </tr>\n",
              "    <tr>\n",
              "      <th>17</th>\n",
              "      <td>(2010.0, 2012.0]</td>\n",
              "      <td>&gt;2</td>\n",
              "      <td>Semi-Auto</td>\n",
              "      <td>NaN</td>\n",
              "    </tr>\n",
              "    <tr>\n",
              "      <th>18</th>\n",
              "      <td>(2012.0, 2014.0]</td>\n",
              "      <td>&lt;=1.5</td>\n",
              "      <td>Automatic</td>\n",
              "      <td>14972.5</td>\n",
              "    </tr>\n",
              "    <tr>\n",
              "      <th>19</th>\n",
              "      <td>(2012.0, 2014.0]</td>\n",
              "      <td>&lt;=1.5</td>\n",
              "      <td>Manual</td>\n",
              "      <td>NaN</td>\n",
              "    </tr>\n",
              "    <tr>\n",
              "      <th>20</th>\n",
              "      <td>(2012.0, 2014.0]</td>\n",
              "      <td>&lt;=1.5</td>\n",
              "      <td>Semi-Auto</td>\n",
              "      <td>NaN</td>\n",
              "    </tr>\n",
              "    <tr>\n",
              "      <th>21</th>\n",
              "      <td>(2012.0, 2014.0]</td>\n",
              "      <td>&lt;=2</td>\n",
              "      <td>Automatic</td>\n",
              "      <td>11499.0</td>\n",
              "    </tr>\n",
              "    <tr>\n",
              "      <th>22</th>\n",
              "      <td>(2012.0, 2014.0]</td>\n",
              "      <td>&lt;=2</td>\n",
              "      <td>Manual</td>\n",
              "      <td>9940.0</td>\n",
              "    </tr>\n",
              "    <tr>\n",
              "      <th>23</th>\n",
              "      <td>(2012.0, 2014.0]</td>\n",
              "      <td>&lt;=2</td>\n",
              "      <td>Semi-Auto</td>\n",
              "      <td>12655.5</td>\n",
              "    </tr>\n",
              "    <tr>\n",
              "      <th>24</th>\n",
              "      <td>(2012.0, 2014.0]</td>\n",
              "      <td>&gt;2</td>\n",
              "      <td>Automatic</td>\n",
              "      <td>16990.0</td>\n",
              "    </tr>\n",
              "    <tr>\n",
              "      <th>25</th>\n",
              "      <td>(2012.0, 2014.0]</td>\n",
              "      <td>&gt;2</td>\n",
              "      <td>Manual</td>\n",
              "      <td>13898.5</td>\n",
              "    </tr>\n",
              "    <tr>\n",
              "      <th>26</th>\n",
              "      <td>(2012.0, 2014.0]</td>\n",
              "      <td>&gt;2</td>\n",
              "      <td>Semi-Auto</td>\n",
              "      <td>15991.0</td>\n",
              "    </tr>\n",
              "    <tr>\n",
              "      <th>27</th>\n",
              "      <td>(2014.0, 2016.0]</td>\n",
              "      <td>&lt;=1.5</td>\n",
              "      <td>Automatic</td>\n",
              "      <td>14285.0</td>\n",
              "    </tr>\n",
              "    <tr>\n",
              "      <th>28</th>\n",
              "      <td>(2014.0, 2016.0]</td>\n",
              "      <td>&lt;=1.5</td>\n",
              "      <td>Manual</td>\n",
              "      <td>11000.5</td>\n",
              "    </tr>\n",
              "    <tr>\n",
              "      <th>29</th>\n",
              "      <td>(2014.0, 2016.0]</td>\n",
              "      <td>&lt;=1.5</td>\n",
              "      <td>Semi-Auto</td>\n",
              "      <td>14107.5</td>\n",
              "    </tr>\n",
              "    <tr>\n",
              "      <th>30</th>\n",
              "      <td>(2014.0, 2016.0]</td>\n",
              "      <td>&lt;=2</td>\n",
              "      <td>Automatic</td>\n",
              "      <td>14985.0</td>\n",
              "    </tr>\n",
              "    <tr>\n",
              "      <th>31</th>\n",
              "      <td>(2014.0, 2016.0]</td>\n",
              "      <td>&lt;=2</td>\n",
              "      <td>Manual</td>\n",
              "      <td>12999.0</td>\n",
              "    </tr>\n",
              "    <tr>\n",
              "      <th>32</th>\n",
              "      <td>(2014.0, 2016.0]</td>\n",
              "      <td>&lt;=2</td>\n",
              "      <td>Semi-Auto</td>\n",
              "      <td>16990.0</td>\n",
              "    </tr>\n",
              "    <tr>\n",
              "      <th>33</th>\n",
              "      <td>(2014.0, 2016.0]</td>\n",
              "      <td>&gt;2</td>\n",
              "      <td>Automatic</td>\n",
              "      <td>19245.0</td>\n",
              "    </tr>\n",
              "    <tr>\n",
              "      <th>34</th>\n",
              "      <td>(2014.0, 2016.0]</td>\n",
              "      <td>&gt;2</td>\n",
              "      <td>Manual</td>\n",
              "      <td>17480.0</td>\n",
              "    </tr>\n",
              "    <tr>\n",
              "      <th>35</th>\n",
              "      <td>(2014.0, 2016.0]</td>\n",
              "      <td>&gt;2</td>\n",
              "      <td>Semi-Auto</td>\n",
              "      <td>19898.0</td>\n",
              "    </tr>\n",
              "    <tr>\n",
              "      <th>36</th>\n",
              "      <td>(2016.0, 2018.0]</td>\n",
              "      <td>&lt;=1.5</td>\n",
              "      <td>Automatic</td>\n",
              "      <td>16449.5</td>\n",
              "    </tr>\n",
              "    <tr>\n",
              "      <th>37</th>\n",
              "      <td>(2016.0, 2018.0]</td>\n",
              "      <td>&lt;=1.5</td>\n",
              "      <td>Manual</td>\n",
              "      <td>13980.0</td>\n",
              "    </tr>\n",
              "    <tr>\n",
              "      <th>38</th>\n",
              "      <td>(2016.0, 2018.0]</td>\n",
              "      <td>&lt;=1.5</td>\n",
              "      <td>Semi-Auto</td>\n",
              "      <td>16480.0</td>\n",
              "    </tr>\n",
              "    <tr>\n",
              "      <th>39</th>\n",
              "      <td>(2016.0, 2018.0]</td>\n",
              "      <td>&lt;=2</td>\n",
              "      <td>Automatic</td>\n",
              "      <td>18690.0</td>\n",
              "    </tr>\n",
              "    <tr>\n",
              "      <th>40</th>\n",
              "      <td>(2016.0, 2018.0]</td>\n",
              "      <td>&lt;=2</td>\n",
              "      <td>Manual</td>\n",
              "      <td>15400.0</td>\n",
              "    </tr>\n",
              "    <tr>\n",
              "      <th>41</th>\n",
              "      <td>(2016.0, 2018.0]</td>\n",
              "      <td>&lt;=2</td>\n",
              "      <td>Semi-Auto</td>\n",
              "      <td>19995.0</td>\n",
              "    </tr>\n",
              "    <tr>\n",
              "      <th>42</th>\n",
              "      <td>(2016.0, 2018.0]</td>\n",
              "      <td>&gt;2</td>\n",
              "      <td>Automatic</td>\n",
              "      <td>24686.0</td>\n",
              "    </tr>\n",
              "    <tr>\n",
              "      <th>43</th>\n",
              "      <td>(2016.0, 2018.0]</td>\n",
              "      <td>&gt;2</td>\n",
              "      <td>Manual</td>\n",
              "      <td>20491.0</td>\n",
              "    </tr>\n",
              "    <tr>\n",
              "      <th>44</th>\n",
              "      <td>(2016.0, 2018.0]</td>\n",
              "      <td>&gt;2</td>\n",
              "      <td>Semi-Auto</td>\n",
              "      <td>24495.0</td>\n",
              "    </tr>\n",
              "    <tr>\n",
              "      <th>45</th>\n",
              "      <td>(2018.0, inf]</td>\n",
              "      <td>&lt;=1.5</td>\n",
              "      <td>Automatic</td>\n",
              "      <td>21450.0</td>\n",
              "    </tr>\n",
              "    <tr>\n",
              "      <th>46</th>\n",
              "      <td>(2018.0, inf]</td>\n",
              "      <td>&lt;=1.5</td>\n",
              "      <td>Manual</td>\n",
              "      <td>21225.0</td>\n",
              "    </tr>\n",
              "    <tr>\n",
              "      <th>47</th>\n",
              "      <td>(2018.0, inf]</td>\n",
              "      <td>&lt;=1.5</td>\n",
              "      <td>Semi-Auto</td>\n",
              "      <td>21950.0</td>\n",
              "    </tr>\n",
              "    <tr>\n",
              "      <th>48</th>\n",
              "      <td>(2018.0, inf]</td>\n",
              "      <td>&lt;=2</td>\n",
              "      <td>Automatic</td>\n",
              "      <td>28850.0</td>\n",
              "    </tr>\n",
              "    <tr>\n",
              "      <th>49</th>\n",
              "      <td>(2018.0, inf]</td>\n",
              "      <td>&lt;=2</td>\n",
              "      <td>Manual</td>\n",
              "      <td>24775.0</td>\n",
              "    </tr>\n",
              "    <tr>\n",
              "      <th>50</th>\n",
              "      <td>(2018.0, inf]</td>\n",
              "      <td>&lt;=2</td>\n",
              "      <td>Semi-Auto</td>\n",
              "      <td>27995.0</td>\n",
              "    </tr>\n",
              "    <tr>\n",
              "      <th>51</th>\n",
              "      <td>(2018.0, inf]</td>\n",
              "      <td>&gt;2</td>\n",
              "      <td>Automatic</td>\n",
              "      <td>44130.5</td>\n",
              "    </tr>\n",
              "    <tr>\n",
              "      <th>52</th>\n",
              "      <td>(2018.0, inf]</td>\n",
              "      <td>&gt;2</td>\n",
              "      <td>Manual</td>\n",
              "      <td>46000.0</td>\n",
              "    </tr>\n",
              "    <tr>\n",
              "      <th>53</th>\n",
              "      <td>(2018.0, inf]</td>\n",
              "      <td>&gt;2</td>\n",
              "      <td>Semi-Auto</td>\n",
              "      <td>46991.0</td>\n",
              "    </tr>\n",
              "  </tbody>\n",
              "</table>\n",
              "</div>"
            ],
            "text/plain": [
              "          year_group engine_group transmission  \\\n",
              "0      (0.0, 2010.0]        <=1.5    Automatic   \n",
              "1      (0.0, 2010.0]        <=1.5       Manual   \n",
              "2      (0.0, 2010.0]        <=1.5    Semi-Auto   \n",
              "3      (0.0, 2010.0]          <=2    Automatic   \n",
              "4      (0.0, 2010.0]          <=2       Manual   \n",
              "5      (0.0, 2010.0]          <=2    Semi-Auto   \n",
              "6      (0.0, 2010.0]           >2    Automatic   \n",
              "7      (0.0, 2010.0]           >2       Manual   \n",
              "8      (0.0, 2010.0]           >2    Semi-Auto   \n",
              "9   (2010.0, 2012.0]        <=1.5    Automatic   \n",
              "10  (2010.0, 2012.0]        <=1.5       Manual   \n",
              "11  (2010.0, 2012.0]        <=1.5    Semi-Auto   \n",
              "12  (2010.0, 2012.0]          <=2    Automatic   \n",
              "13  (2010.0, 2012.0]          <=2       Manual   \n",
              "14  (2010.0, 2012.0]          <=2    Semi-Auto   \n",
              "15  (2010.0, 2012.0]           >2    Automatic   \n",
              "16  (2010.0, 2012.0]           >2       Manual   \n",
              "17  (2010.0, 2012.0]           >2    Semi-Auto   \n",
              "18  (2012.0, 2014.0]        <=1.5    Automatic   \n",
              "19  (2012.0, 2014.0]        <=1.5       Manual   \n",
              "20  (2012.0, 2014.0]        <=1.5    Semi-Auto   \n",
              "21  (2012.0, 2014.0]          <=2    Automatic   \n",
              "22  (2012.0, 2014.0]          <=2       Manual   \n",
              "23  (2012.0, 2014.0]          <=2    Semi-Auto   \n",
              "24  (2012.0, 2014.0]           >2    Automatic   \n",
              "25  (2012.0, 2014.0]           >2       Manual   \n",
              "26  (2012.0, 2014.0]           >2    Semi-Auto   \n",
              "27  (2014.0, 2016.0]        <=1.5    Automatic   \n",
              "28  (2014.0, 2016.0]        <=1.5       Manual   \n",
              "29  (2014.0, 2016.0]        <=1.5    Semi-Auto   \n",
              "30  (2014.0, 2016.0]          <=2    Automatic   \n",
              "31  (2014.0, 2016.0]          <=2       Manual   \n",
              "32  (2014.0, 2016.0]          <=2    Semi-Auto   \n",
              "33  (2014.0, 2016.0]           >2    Automatic   \n",
              "34  (2014.0, 2016.0]           >2       Manual   \n",
              "35  (2014.0, 2016.0]           >2    Semi-Auto   \n",
              "36  (2016.0, 2018.0]        <=1.5    Automatic   \n",
              "37  (2016.0, 2018.0]        <=1.5       Manual   \n",
              "38  (2016.0, 2018.0]        <=1.5    Semi-Auto   \n",
              "39  (2016.0, 2018.0]          <=2    Automatic   \n",
              "40  (2016.0, 2018.0]          <=2       Manual   \n",
              "41  (2016.0, 2018.0]          <=2    Semi-Auto   \n",
              "42  (2016.0, 2018.0]           >2    Automatic   \n",
              "43  (2016.0, 2018.0]           >2       Manual   \n",
              "44  (2016.0, 2018.0]           >2    Semi-Auto   \n",
              "45     (2018.0, inf]        <=1.5    Automatic   \n",
              "46     (2018.0, inf]        <=1.5       Manual   \n",
              "47     (2018.0, inf]        <=1.5    Semi-Auto   \n",
              "48     (2018.0, inf]          <=2    Automatic   \n",
              "49     (2018.0, inf]          <=2       Manual   \n",
              "50     (2018.0, inf]          <=2    Semi-Auto   \n",
              "51     (2018.0, inf]           >2    Automatic   \n",
              "52     (2018.0, inf]           >2       Manual   \n",
              "53     (2018.0, inf]           >2    Semi-Auto   \n",
              "\n",
              "    price_pred_year_engine_trn_median  \n",
              "0                                 NaN  \n",
              "1                             13000.0  \n",
              "2                                 NaN  \n",
              "3                              5982.5  \n",
              "4                              3995.0  \n",
              "5                              5695.0  \n",
              "6                              5997.0  \n",
              "7                              8800.0  \n",
              "8                             10995.0  \n",
              "9                                 NaN  \n",
              "10                                NaN  \n",
              "11                                NaN  \n",
              "12                             9440.0  \n",
              "13                             7490.0  \n",
              "14                                NaN  \n",
              "15                            12245.0  \n",
              "16                                NaN  \n",
              "17                                NaN  \n",
              "18                            14972.5  \n",
              "19                                NaN  \n",
              "20                                NaN  \n",
              "21                            11499.0  \n",
              "22                             9940.0  \n",
              "23                            12655.5  \n",
              "24                            16990.0  \n",
              "25                            13898.5  \n",
              "26                            15991.0  \n",
              "27                            14285.0  \n",
              "28                            11000.5  \n",
              "29                            14107.5  \n",
              "30                            14985.0  \n",
              "31                            12999.0  \n",
              "32                            16990.0  \n",
              "33                            19245.0  \n",
              "34                            17480.0  \n",
              "35                            19898.0  \n",
              "36                            16449.5  \n",
              "37                            13980.0  \n",
              "38                            16480.0  \n",
              "39                            18690.0  \n",
              "40                            15400.0  \n",
              "41                            19995.0  \n",
              "42                            24686.0  \n",
              "43                            20491.0  \n",
              "44                            24495.0  \n",
              "45                            21450.0  \n",
              "46                            21225.0  \n",
              "47                            21950.0  \n",
              "48                            28850.0  \n",
              "49                            24775.0  \n",
              "50                            27995.0  \n",
              "51                            44130.5  \n",
              "52                            46000.0  \n",
              "53                            46991.0  "
            ]
          },
          "execution_count": 139,
          "metadata": {},
          "output_type": "execute_result"
        }
      ],
      "source": [
        "model_year_engine_trn_group_median"
      ]
    },
    {
      "cell_type": "markdown",
      "metadata": {
        "id": "FMVn51so4h_3"
      },
      "source": [
        "Мой Telegram-канал: https://t.me/mikhaylovgleb"
      ]
    }
  ],
  "metadata": {
    "colab": {
      "authorship_tag": "ABX9TyNhu1iMLSDLmYJKNUgiIuAR",
      "collapsed_sections": [],
      "include_colab_link": true,
      "name": "03-human-learning.ipynb",
      "provenance": []
    },
    "kernelspec": {
      "display_name": "base",
      "language": "python",
      "name": "python3"
    },
    "language_info": {
      "codemirror_mode": {
        "name": "ipython",
        "version": 3
      },
      "file_extension": ".py",
      "mimetype": "text/x-python",
      "name": "python",
      "nbconvert_exporter": "python",
      "pygments_lexer": "ipython3",
      "version": "3.11.11"
    }
  },
  "nbformat": 4,
  "nbformat_minor": 0
}
