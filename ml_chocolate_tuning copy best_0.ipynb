{
 "cells": [
  {
   "cell_type": "markdown",
   "id": "9a21014b",
   "metadata": {},
   "source": [
    "<h1><b>Задача по предсказанию рейтинга шоколада"
   ]
  },
  {
   "cell_type": "markdown",
   "id": "d1ba85e3",
   "metadata": {},
   "source": [
    "<h3><b>Никнейм на Kaggle: "
   ]
  },
  {
   "cell_type": "markdown",
   "id": "e919e9b0",
   "metadata": {},
   "source": [
    "# Описание задачи"
   ]
  },
  {
   "cell_type": "code",
   "execution_count": 1,
   "id": "4b4ef540",
   "metadata": {},
   "outputs": [],
   "source": [
    "# Даны характеристики шоколадок и по ним нужно предсказать их рейтинг.\n",
    "\n",
    "# Описание данных\n",
    "# Company - компания производитель\n",
    "# Specific Bean Origin - географический регион происхождения\n",
    "# REF - параметр, определяющий момент внесения записи в базу данных (чем выше значение, тем \"свежее\" запись)\n",
    "# Review - дата публикации отзыва\n",
    "# Cocoa Percent - процентное содержание какао\n",
    "# Company Location - страна производитель\n",
    "# Rating - экспертный рейтинг\n",
    "# Bean Type - используемый сорт какао-бобов, если таковой имеется\n",
    "# Broad Bean Origin - географический регион происхождения какао-бобов\n",
    "\n",
    "# Файлы с данными\n",
    "# choco_train.csv - тренировочные данные\n",
    "# choco_test_new.csv - тестовые данные\n",
    "# choco_sample_submission.csv - пример submission"
   ]
  },
  {
   "cell_type": "markdown",
   "id": "b8029c27",
   "metadata": {},
   "source": [
    "# Импорт библиотек, константы"
   ]
  },
  {
   "cell_type": "code",
   "execution_count": 2,
   "id": "6a56350b",
   "metadata": {},
   "outputs": [],
   "source": [
    "import pandas as pd\n",
    "import numpy as np\n",
    "import matplotlib.pyplot as plt\n",
    "import seaborn as sns"
   ]
  },
  {
   "cell_type": "code",
   "execution_count": 3,
   "id": "eff28139",
   "metadata": {},
   "outputs": [],
   "source": [
    "import warnings\n",
    "warnings.filterwarnings(\"ignore\")"
   ]
  },
  {
   "cell_type": "code",
   "execution_count": 4,
   "id": "78bc245d",
   "metadata": {},
   "outputs": [],
   "source": [
    "from sklearn.preprocessing import MinMaxScaler, StandardScaler, PolynomialFeatures\n",
    "from category_encoders.ordinal import OrdinalEncoder\n",
    "from category_encoders.one_hot import OneHotEncoder\n",
    "from category_encoders.target_encoder import TargetEncoder\n",
    "from category_encoders.leave_one_out import LeaveOneOutEncoder"
   ]
  },
  {
   "cell_type": "code",
   "execution_count": 5,
   "id": "88a7517d",
   "metadata": {},
   "outputs": [],
   "source": [
    "from sklearn.linear_model import LinearRegression\n",
    "from sklearn.ensemble import RandomForestRegressor\n",
    "from catboost import CatBoostRegressor\n",
    "from xgboost import XGBRegressor\n",
    "from lightgbm import LGBMRanker, LGBMRegressor\n",
    "from sklearn.ensemble import GradientBoostingRegressor\n",
    "from sklearn.ensemble import StackingRegressor\n",
    "import optuna"
   ]
  },
  {
   "cell_type": "code",
   "execution_count": 6,
   "id": "55bbc4a3",
   "metadata": {},
   "outputs": [],
   "source": [
    "import association_metrics as am\n",
    "from sklearn.model_selection import cross_val_score, train_test_split\n",
    "from sklearn.metrics import mean_absolute_percentage_error as MAPE, mean_absolute_error as MAE, r2_score, mean_squared_error as MSE\n",
    "from scipy import stats\n",
    "\n",
    "from sklearn.pipeline import Pipeline"
   ]
  },
  {
   "cell_type": "code",
   "execution_count": 7,
   "id": "2db69993",
   "metadata": {},
   "outputs": [],
   "source": [
    "RANDOM_STATE = 42"
   ]
  },
  {
   "cell_type": "markdown",
   "id": "bd1674e8",
   "metadata": {},
   "source": [
    "<!-- # Загрузка данных -->"
   ]
  },
  {
   "cell_type": "markdown",
   "id": "72821688",
   "metadata": {},
   "source": [
    "# Загрузка данных"
   ]
  },
  {
   "cell_type": "code",
   "execution_count": 8,
   "id": "3517138c",
   "metadata": {},
   "outputs": [],
   "source": [
    "# TRAIN = \"https://raw.githubusercontent.com/evgpat/edu_stepik_practical_ml/main/datasets/chocolate_train.csv\"\n",
    "# TEST = \"https://raw.githubusercontent.com/evgpat/edu_stepik_practical_ml/main/datasets/chocolate_test_new.csv\"\n",
    "TRAIN = 'data\\chocolate-rating\\chocolate_train.csv'\n",
    "TEST = 'data\\chocolate-rating\\chocolate_test_new.csv'"
   ]
  },
  {
   "cell_type": "code",
   "execution_count": 9,
   "id": "1d2928ab",
   "metadata": {},
   "outputs": [],
   "source": [
    "train_df = pd.read_csv(TRAIN)"
   ]
  },
  {
   "cell_type": "code",
   "execution_count": 10,
   "id": "8e926093",
   "metadata": {},
   "outputs": [],
   "source": [
    "test_df = pd.read_csv(TEST)"
   ]
  },
  {
   "cell_type": "code",
   "execution_count": 11,
   "id": "5b6f2eec",
   "metadata": {},
   "outputs": [
    {
     "data": {
      "text/plain": [
       "'\\xa0'"
      ]
     },
     "execution_count": 11,
     "metadata": {},
     "output_type": "execute_result"
    }
   ],
   "source": [
    "train_df['Bean Type'].value_counts().index[0]"
   ]
  },
  {
   "cell_type": "code",
   "execution_count": 12,
   "id": "d2e2fffa",
   "metadata": {},
   "outputs": [],
   "source": [
    "train_df = train_df.replace('\\xa0', np.NaN)\n",
    "test_df = test_df.replace('\\xa0', np.NaN)"
   ]
  },
  {
   "cell_type": "markdown",
   "id": "25f5dcf8",
   "metadata": {},
   "source": [
    "# Обзор данных"
   ]
  },
  {
   "cell_type": "markdown",
   "id": "3589b0f6",
   "metadata": {},
   "source": [
    "Описание данных\n",
    "* Company - компания производитель\n",
    "* Specific Bean Origin - географический регион происхождения\n",
    "* REF - параметр, определяющий момент внесения записи в базу данных (чем выше значение, тем \"свежее\" запись)\n",
    "* Review - дата публикации отзыва\n",
    "* Cocoa Percent - процентное содержание какао\n",
    "* Company Location - страна производитель\n",
    "* Rating - экспертный рейтинг\n",
    "* Bean Type - используемый сорт какао-бобов, если таковой имеется\n",
    "* Broad Bean Origin - географический регион происхождения какао-бобов"
   ]
  },
  {
   "cell_type": "code",
   "execution_count": 13,
   "id": "ecf942d5",
   "metadata": {},
   "outputs": [
    {
     "data": {
      "text/html": [
       "<div>\n",
       "<style scoped>\n",
       "    .dataframe tbody tr th:only-of-type {\n",
       "        vertical-align: middle;\n",
       "    }\n",
       "\n",
       "    .dataframe tbody tr th {\n",
       "        vertical-align: top;\n",
       "    }\n",
       "\n",
       "    .dataframe thead th {\n",
       "        text-align: right;\n",
       "    }\n",
       "</style>\n",
       "<table border=\"1\" class=\"dataframe\">\n",
       "  <thead>\n",
       "    <tr style=\"text-align: right;\">\n",
       "      <th></th>\n",
       "      <th>Company</th>\n",
       "      <th>Specific Bean Origin</th>\n",
       "      <th>REF</th>\n",
       "      <th>Review</th>\n",
       "      <th>Cocoa Percent</th>\n",
       "      <th>Company Location</th>\n",
       "      <th>Bean Type</th>\n",
       "      <th>Broad Bean Origin</th>\n",
       "    </tr>\n",
       "  </thead>\n",
       "  <tbody>\n",
       "    <tr>\n",
       "      <th>0</th>\n",
       "      <td>Ohiyo</td>\n",
       "      <td>San Juan Estate, Gran Couva</td>\n",
       "      <td>1594</td>\n",
       "      <td>2015</td>\n",
       "      <td>70%</td>\n",
       "      <td>U.S.A.</td>\n",
       "      <td>Trinitario</td>\n",
       "      <td>Trinidad</td>\n",
       "    </tr>\n",
       "    <tr>\n",
       "      <th>1</th>\n",
       "      <td>Blanxart</td>\n",
       "      <td>Organic Dark</td>\n",
       "      <td>322</td>\n",
       "      <td>2009</td>\n",
       "      <td>72%</td>\n",
       "      <td>Spain</td>\n",
       "      <td>NaN</td>\n",
       "      <td>NaN</td>\n",
       "    </tr>\n",
       "    <tr>\n",
       "      <th>2</th>\n",
       "      <td>Brazen</td>\n",
       "      <td>Maya Mountain</td>\n",
       "      <td>1518</td>\n",
       "      <td>2015</td>\n",
       "      <td>80%</td>\n",
       "      <td>U.S.A.</td>\n",
       "      <td>Trinitario</td>\n",
       "      <td>Belize</td>\n",
       "    </tr>\n",
       "    <tr>\n",
       "      <th>3</th>\n",
       "      <td>Patric</td>\n",
       "      <td>Madagascar</td>\n",
       "      <td>439</td>\n",
       "      <td>2009</td>\n",
       "      <td>67%</td>\n",
       "      <td>U.S.A.</td>\n",
       "      <td>Trinitario</td>\n",
       "      <td>Madagascar</td>\n",
       "    </tr>\n",
       "    <tr>\n",
       "      <th>4</th>\n",
       "      <td>Potomac</td>\n",
       "      <td>Upala, Batch 12</td>\n",
       "      <td>607</td>\n",
       "      <td>2010</td>\n",
       "      <td>82%</td>\n",
       "      <td>U.S.A.</td>\n",
       "      <td>Matina</td>\n",
       "      <td>Costa Rica</td>\n",
       "    </tr>\n",
       "  </tbody>\n",
       "</table>\n",
       "</div>"
      ],
      "text/plain": [
       "    Company         Specific Bean Origin   REF  Review Cocoa Percent  \\\n",
       "0     Ohiyo  San Juan Estate, Gran Couva  1594    2015           70%   \n",
       "1  Blanxart                 Organic Dark   322    2009           72%   \n",
       "2    Brazen                Maya Mountain  1518    2015           80%   \n",
       "3    Patric                   Madagascar   439    2009           67%   \n",
       "4   Potomac              Upala, Batch 12   607    2010           82%   \n",
       "\n",
       "  Company Location   Bean Type Broad Bean Origin  \n",
       "0           U.S.A.  Trinitario          Trinidad  \n",
       "1            Spain         NaN               NaN  \n",
       "2           U.S.A.  Trinitario            Belize  \n",
       "3           U.S.A.  Trinitario        Madagascar  \n",
       "4           U.S.A.      Matina        Costa Rica  "
      ]
     },
     "execution_count": 13,
     "metadata": {},
     "output_type": "execute_result"
    }
   ],
   "source": [
    "test_df.head()"
   ]
  },
  {
   "cell_type": "code",
   "execution_count": 14,
   "id": "2bcd5d99",
   "metadata": {},
   "outputs": [
    {
     "data": {
      "text/plain": [
       "Company                 244\n",
       "Specific Bean Origin    385\n",
       "REF                     338\n",
       "Review                   12\n",
       "Cocoa Percent            38\n",
       "Company Location         42\n",
       "Bean Type                19\n",
       "Broad Bean Origin        59\n",
       "dtype: int64"
      ]
     },
     "execution_count": 14,
     "metadata": {},
     "output_type": "execute_result"
    }
   ],
   "source": [
    "test_df.nunique()"
   ]
  },
  {
   "cell_type": "code",
   "execution_count": 15,
   "id": "b1d45d3d",
   "metadata": {},
   "outputs": [
    {
     "data": {
      "text/plain": [
       "Company                 244\n",
       "Specific Bean Origin    385\n",
       "REF                     338\n",
       "Review                   12\n",
       "Cocoa Percent            38\n",
       "Company Location         42\n",
       "Bean Type                19\n",
       "Broad Bean Origin        59\n",
       "dtype: int64"
      ]
     },
     "execution_count": 15,
     "metadata": {},
     "output_type": "execute_result"
    }
   ],
   "source": [
    "test_df.nunique()"
   ]
  },
  {
   "cell_type": "code",
   "execution_count": 16,
   "id": "6ea70076",
   "metadata": {},
   "outputs": [],
   "source": [
    "# Словарь маппинга для разновидностей какао сорта\n",
    "cacao_map = {\n",
    "'Criollo': ['Criollo', 'Criollo (Porcelana)', 'Criollo (Amarru)', 'Criollo (Ocumare 77)', 'Criollo (Ocumare 67)',\n",
    "'Criollo (Ocumare 61)', 'Criollo (Ocumare)', 'Criollo (Wild)', 'Criollo, +'],\n",
    "'Trinitario': ['Trinitario', 'Trinitario (Amelonado)', 'Trinitario, TCGA', 'Trinitario (85% Criollo)'],\n",
    "'Forastero': ['Forastero', 'Forastero (Arriba)', 'Forastero (Arriba) ASS', 'Forastero (Arriba) ASSS',\n",
    "'Forastero (Nacional)', 'Forastero (Parazinho)', 'Forastero (Catongo)', 'Forastero (Amelonado)'],\n",
    "'Nacional': ['Nacional', 'Nacional (Arriba)'],\n",
    "'Amazonian': ['Amazon', 'Amazon mix', 'Amazon, ICS'],\n",
    "'Blend': ['Criollo, Trinitario', 'Trinitario, Criollo', 'Trinitario, Forastero', 'Forastero, Trinitario',\n",
    "'Trinitario, Nacional', 'Criollo, Forastero', 'Blend-Forastero,Criollo', 'Blend']\n",
    "}\n",
    "\n",
    "# Функция для маппинга типов какао\n",
    "def map_cacao_type(value):\n",
    "    for category, variants in cacao_map.items():\n",
    "        if value in variants:\n",
    "            return category\n",
    "    return value"
   ]
  },
  {
   "cell_type": "code",
   "execution_count": 17,
   "id": "e368450c",
   "metadata": {},
   "outputs": [],
   "source": [
    "train_df['Bean Type'] = train_df['Bean Type'].apply(map_cacao_type)\n",
    "test_df['Bean Type'] = test_df['Bean Type'].apply(map_cacao_type)"
   ]
  },
  {
   "cell_type": "code",
   "execution_count": 18,
   "id": "1c57a20f",
   "metadata": {},
   "outputs": [],
   "source": [
    "# Словарь соответствий (дочерние -> основное). Названия регионов\n",
    "region_mapping = {\n",
    "    'Venezuela': ['Ven.', 'Ven', 'Venez', 'Venezuela/ Ghana', ],\n",
    "    'Dominican Republic': ['Domincan Republic', 'Dom. Rep', 'D.R.', 'Domin. Rep', 'Dom. Rep.', 'Dominican Rep.', 'DR'],\n",
    "    'Costa Rica': ['Cost Rica'],\n",
    "    'Ecuador': ['Ecuad.', 'Ecu.'],\n",
    "    'Nicaragua': ['Nic.'],\n",
    "    'Madagascar': ['Mad.', 'Mad'],\n",
    "    'Brazil': ['Brasil'],\n",
    "    'Mexico': ['Mex'],\n",
    "    'Guatemala': ['Guat.'],\n",
    "    'Sao Tome & Principe': ['Sao Tome', 'Principe'],\n",
    "    'Papua New Guinea': ['PNG'],\n",
    "    'Carribean': ['Carribean(DR/Jam/Tri)'],\n",
    "    'Indonesia': ['Java', 'Bali'],\n",
    "    'West Africa': ['Africa'],\n",
    "    'Trinidad': ['Trinidad-Tobago', 'Trinidad']\n",
    "}\n",
    "\n",
    "# Функция для замены названий\n",
    "def standardize_region(region):\n",
    "    for main_region, aliases in region_mapping.items():\n",
    "        if region in aliases:\n",
    "            return main_region\n",
    "    return region # Если нет в словаре, оставить как есть\n"
   ]
  },
  {
   "cell_type": "code",
   "execution_count": 19,
   "id": "416c509a",
   "metadata": {},
   "outputs": [],
   "source": [
    "train_df['Broad Bean Origin'] = train_df['Broad Bean Origin'].apply(standardize_region)\n",
    "test_df['Broad Bean Origin'] = test_df['Broad Bean Origin'].apply(standardize_region)"
   ]
  },
  {
   "cell_type": "code",
   "execution_count": 20,
   "id": "305c3202",
   "metadata": {},
   "outputs": [],
   "source": [
    "df_concat = pd.concat([train_df, test_df], axis=0)"
   ]
  },
  {
   "cell_type": "code",
   "execution_count": 21,
   "id": "92a01c9d",
   "metadata": {},
   "outputs": [],
   "source": [
    "cols_temp = ['Company', 'Specific Bean Origin',\n",
    "       'Company Location', 'Bean Type', 'Broad Bean Origin']"
   ]
  },
  {
   "cell_type": "code",
   "execution_count": 22,
   "id": "9950ce7e",
   "metadata": {},
   "outputs": [
    {
     "data": {
      "text/plain": [
       "['Company',\n",
       " 'Specific Bean Origin',\n",
       " 'Company Location',\n",
       " 'Bean Type',\n",
       " 'Broad Bean Origin']"
      ]
     },
     "execution_count": 22,
     "metadata": {},
     "output_type": "execute_result"
    }
   ],
   "source": [
    "cols_temp"
   ]
  },
  {
   "cell_type": "code",
   "execution_count": 23,
   "id": "0fbb97b3",
   "metadata": {},
   "outputs": [
    {
     "data": {
      "text/html": [
       "<div>\n",
       "<style scoped>\n",
       "    .dataframe tbody tr th:only-of-type {\n",
       "        vertical-align: middle;\n",
       "    }\n",
       "\n",
       "    .dataframe tbody tr th {\n",
       "        vertical-align: top;\n",
       "    }\n",
       "\n",
       "    .dataframe thead th {\n",
       "        text-align: right;\n",
       "    }\n",
       "</style>\n",
       "<table border=\"1\" class=\"dataframe\">\n",
       "  <thead>\n",
       "    <tr style=\"text-align: right;\">\n",
       "      <th></th>\n",
       "      <th>Company</th>\n",
       "      <th>Specific Bean Origin</th>\n",
       "      <th>REF</th>\n",
       "      <th>Review</th>\n",
       "      <th>Cocoa Percent</th>\n",
       "      <th>Company Location</th>\n",
       "      <th>Rating</th>\n",
       "      <th>Bean Type</th>\n",
       "      <th>Broad Bean Origin</th>\n",
       "    </tr>\n",
       "  </thead>\n",
       "  <tbody>\n",
       "    <tr>\n",
       "      <th>0</th>\n",
       "      <td>Willie's Cacao</td>\n",
       "      <td>Rio Caribe</td>\n",
       "      <td>457</td>\n",
       "      <td>2009</td>\n",
       "      <td>72%</td>\n",
       "      <td>U.K.</td>\n",
       "      <td>3.25</td>\n",
       "      <td>Trinitario</td>\n",
       "      <td>Venezuela</td>\n",
       "    </tr>\n",
       "    <tr>\n",
       "      <th>1</th>\n",
       "      <td>Beschle (Felchlin)</td>\n",
       "      <td>Ocumare, Premier Cru, Quizas No. 2</td>\n",
       "      <td>508</td>\n",
       "      <td>2010</td>\n",
       "      <td>72%</td>\n",
       "      <td>Switzerland</td>\n",
       "      <td>3.50</td>\n",
       "      <td>NaN</td>\n",
       "      <td>Venezuela</td>\n",
       "    </tr>\n",
       "    <tr>\n",
       "      <th>2</th>\n",
       "      <td>Dark Forest</td>\n",
       "      <td>Tanzania</td>\n",
       "      <td>1554</td>\n",
       "      <td>2015</td>\n",
       "      <td>70%</td>\n",
       "      <td>U.S.A.</td>\n",
       "      <td>3.00</td>\n",
       "      <td>NaN</td>\n",
       "      <td>Tanzania</td>\n",
       "    </tr>\n",
       "    <tr>\n",
       "      <th>3</th>\n",
       "      <td>Brasstown aka It's Chocolate</td>\n",
       "      <td>Cooproagro</td>\n",
       "      <td>1125</td>\n",
       "      <td>2013</td>\n",
       "      <td>72%</td>\n",
       "      <td>U.S.A.</td>\n",
       "      <td>3.00</td>\n",
       "      <td>Trinitario</td>\n",
       "      <td>Dominican Republic</td>\n",
       "    </tr>\n",
       "    <tr>\n",
       "      <th>4</th>\n",
       "      <td>Pralus</td>\n",
       "      <td>Java, Indonesie</td>\n",
       "      <td>32</td>\n",
       "      <td>2006</td>\n",
       "      <td>75%</td>\n",
       "      <td>France</td>\n",
       "      <td>3.50</td>\n",
       "      <td>Criollo</td>\n",
       "      <td>Indonesia</td>\n",
       "    </tr>\n",
       "    <tr>\n",
       "      <th>...</th>\n",
       "      <td>...</td>\n",
       "      <td>...</td>\n",
       "      <td>...</td>\n",
       "      <td>...</td>\n",
       "      <td>...</td>\n",
       "      <td>...</td>\n",
       "      <td>...</td>\n",
       "      <td>...</td>\n",
       "      <td>...</td>\n",
       "    </tr>\n",
       "    <tr>\n",
       "      <th>535</th>\n",
       "      <td>Monsieur Truffe</td>\n",
       "      <td>Papaua New Guinea</td>\n",
       "      <td>1391</td>\n",
       "      <td>2014</td>\n",
       "      <td>70%</td>\n",
       "      <td>Australia</td>\n",
       "      <td>NaN</td>\n",
       "      <td>NaN</td>\n",
       "      <td>Papua New Guinea</td>\n",
       "    </tr>\n",
       "    <tr>\n",
       "      <th>536</th>\n",
       "      <td>Cacao Hunters</td>\n",
       "      <td>Macondo</td>\n",
       "      <td>1816</td>\n",
       "      <td>2016</td>\n",
       "      <td>71%</td>\n",
       "      <td>Colombia</td>\n",
       "      <td>NaN</td>\n",
       "      <td>NaN</td>\n",
       "      <td>Colombia</td>\n",
       "    </tr>\n",
       "    <tr>\n",
       "      <th>537</th>\n",
       "      <td>Bonnat</td>\n",
       "      <td>Maragnam</td>\n",
       "      <td>1038</td>\n",
       "      <td>2013</td>\n",
       "      <td>75%</td>\n",
       "      <td>France</td>\n",
       "      <td>NaN</td>\n",
       "      <td>NaN</td>\n",
       "      <td>Brazil</td>\n",
       "    </tr>\n",
       "    <tr>\n",
       "      <th>538</th>\n",
       "      <td>Altus aka Cao Artisan</td>\n",
       "      <td>Acopagro</td>\n",
       "      <td>1728</td>\n",
       "      <td>2016</td>\n",
       "      <td>60%</td>\n",
       "      <td>U.S.A.</td>\n",
       "      <td>NaN</td>\n",
       "      <td>NaN</td>\n",
       "      <td>Peru</td>\n",
       "    </tr>\n",
       "    <tr>\n",
       "      <th>539</th>\n",
       "      <td>Holy Cacao</td>\n",
       "      <td>San Martin</td>\n",
       "      <td>431</td>\n",
       "      <td>2009</td>\n",
       "      <td>70%</td>\n",
       "      <td>Israel</td>\n",
       "      <td>NaN</td>\n",
       "      <td>NaN</td>\n",
       "      <td>Peru</td>\n",
       "    </tr>\n",
       "  </tbody>\n",
       "</table>\n",
       "<p>1795 rows × 9 columns</p>\n",
       "</div>"
      ],
      "text/plain": [
       "                          Company                Specific Bean Origin   REF  \\\n",
       "0                  Willie's Cacao                          Rio Caribe   457   \n",
       "1              Beschle (Felchlin)  Ocumare, Premier Cru, Quizas No. 2   508   \n",
       "2                     Dark Forest                            Tanzania  1554   \n",
       "3    Brasstown aka It's Chocolate                          Cooproagro  1125   \n",
       "4                          Pralus                     Java, Indonesie    32   \n",
       "..                            ...                                 ...   ...   \n",
       "535               Monsieur Truffe                   Papaua New Guinea  1391   \n",
       "536                 Cacao Hunters                             Macondo  1816   \n",
       "537                        Bonnat                            Maragnam  1038   \n",
       "538         Altus aka Cao Artisan                            Acopagro  1728   \n",
       "539                    Holy Cacao                          San Martin   431   \n",
       "\n",
       "     Review Cocoa Percent Company Location  Rating   Bean Type  \\\n",
       "0      2009           72%             U.K.    3.25  Trinitario   \n",
       "1      2010           72%      Switzerland    3.50         NaN   \n",
       "2      2015           70%           U.S.A.    3.00         NaN   \n",
       "3      2013           72%           U.S.A.    3.00  Trinitario   \n",
       "4      2006           75%           France    3.50     Criollo   \n",
       "..      ...           ...              ...     ...         ...   \n",
       "535    2014           70%        Australia     NaN         NaN   \n",
       "536    2016           71%         Colombia     NaN         NaN   \n",
       "537    2013           75%           France     NaN         NaN   \n",
       "538    2016           60%           U.S.A.     NaN         NaN   \n",
       "539    2009           70%           Israel     NaN         NaN   \n",
       "\n",
       "      Broad Bean Origin  \n",
       "0             Venezuela  \n",
       "1             Venezuela  \n",
       "2              Tanzania  \n",
       "3    Dominican Republic  \n",
       "4             Indonesia  \n",
       "..                  ...  \n",
       "535    Papua New Guinea  \n",
       "536            Colombia  \n",
       "537              Brazil  \n",
       "538                Peru  \n",
       "539                Peru  \n",
       "\n",
       "[1795 rows x 9 columns]"
      ]
     },
     "execution_count": 23,
     "metadata": {},
     "output_type": "execute_result"
    }
   ],
   "source": [
    "df_concat"
   ]
  },
  {
   "cell_type": "code",
   "execution_count": 24,
   "id": "336a5c8a",
   "metadata": {},
   "outputs": [],
   "source": [
    "from association_metrics import CramersV\n",
    "\n",
    "cramer_df = df_concat[cols_temp]\n",
    "cramer_df = cramer_df.astype('category')\n",
    "\n",
    "cramer = CramersV(cramer_df)\n",
    "cramer = cramer.fit()"
   ]
  },
  {
   "cell_type": "code",
   "execution_count": 25,
   "id": "afd6aac1",
   "metadata": {},
   "outputs": [
    {
     "data": {
      "image/png": "[encoded data removed]",
      "text/plain": [
       "<Figure size 640x480 with 2 Axes>"
      ]
     },
     "metadata": {},
     "output_type": "display_data"
    }
   ],
   "source": [
    "import seaborn as sns\n",
    "\n",
    "sns.heatmap(cramer, cmap='Blues', annot=True);"
   ]
  },
  {
   "cell_type": "code",
   "execution_count": 26,
   "id": "bfad16ca",
   "metadata": {},
   "outputs": [],
   "source": [
    "def select_top3_corr_cols(col_in):\n",
    "    select_df = cramer[col_in].sort_values(ascending=False)\n",
    "    return select_df[1:].index.to_list()"
   ]
  },
  {
   "cell_type": "code",
   "execution_count": 27,
   "id": "13cb530a",
   "metadata": {},
   "outputs": [],
   "source": [
    "def get_temp_df(col_in, col_on, SEED):\n",
    "    np.random.seed(SEED)\n",
    "    temp_df = df_concat.groupby(col_on)[col_in] \\\n",
    "                        .agg(lambda x: np.random.choice(x.mode()) if len(x.mode()) > 0 else np.NaN) \\\n",
    "                        .dropna().reset_index()\n",
    "    return temp_df"
   ]
  },
  {
   "cell_type": "code",
   "execution_count": 28,
   "id": "3ded65b1",
   "metadata": {},
   "outputs": [],
   "source": [
    "def fill_rows(row, col_on, temp_df):\n",
    "    for variants, category in temp_df.values:\n",
    "        if row[col_on] == variants:\n",
    "            return category\n",
    "    return np.NaN"
   ]
  },
  {
   "cell_type": "code",
   "execution_count": 29,
   "id": "7491ffa9",
   "metadata": {},
   "outputs": [
    {
     "data": {
      "text/plain": [
       "Company                   0\n",
       "Specific Bean Origin      0\n",
       "REF                       0\n",
       "Review                    0\n",
       "Cocoa Percent             0\n",
       "Company Location          0\n",
       "Rating                    0\n",
       "Bean Type               629\n",
       "Broad Bean Origin        56\n",
       "dtype: int64"
      ]
     },
     "execution_count": 29,
     "metadata": {},
     "output_type": "execute_result"
    }
   ],
   "source": [
    "train_df.isna().sum()"
   ]
  },
  {
   "cell_type": "code",
   "execution_count": 30,
   "id": "44a5f088",
   "metadata": {},
   "outputs": [],
   "source": [
    "def prepared_df(df, col_in, SEED):\n",
    "\n",
    "    selected_cols = select_top3_corr_cols(col_in)\n",
    "    print(selected_cols)\n",
    "    for col_on in selected_cols:\n",
    "        temp_df = get_temp_df(col_in, col_on, SEED)\n",
    "        df[col_in] = df.apply(lambda row: fill_rows(row, col_on, temp_df) if row[col_in] is np.NaN else row[col_in], axis=1)\n",
    "        df[col_in] = df[col_in].fillna('Other')"
   ]
  },
  {
   "cell_type": "code",
   "execution_count": 31,
   "id": "35c11fa5",
   "metadata": {},
   "outputs": [
    {
     "name": "stdout",
     "output_type": "stream",
     "text": [
      "4784\n",
      "['Specific Bean Origin', 'Company', 'Broad Bean Origin', 'Company Location']\n",
      "['Specific Bean Origin', 'Company', 'Bean Type', 'Company Location']\n",
      "['Specific Bean Origin', 'Company', 'Broad Bean Origin', 'Company Location']\n",
      "['Specific Bean Origin', 'Company', 'Bean Type', 'Company Location']\n"
     ]
    }
   ],
   "source": [
    "cols_in = ['Bean Type', 'Broad Bean Origin']\n",
    "\n",
    "SEED = 4784\n",
    "print(SEED)\n",
    "\n",
    "for col_in in cols_in:\n",
    "    prepared_df(train_df, col_in, SEED)\n",
    "\n",
    "for col_in in cols_in:\n",
    "    prepared_df(test_df, col_in, SEED)"
   ]
  },
  {
   "cell_type": "code",
   "execution_count": 32,
   "id": "c70f67fe",
   "metadata": {},
   "outputs": [
    {
     "data": {
      "text/plain": [
       "Company                 0\n",
       "Specific Bean Origin    0\n",
       "REF                     0\n",
       "Review                  0\n",
       "Cocoa Percent           0\n",
       "Company Location        0\n",
       "Rating                  0\n",
       "Bean Type               0\n",
       "Broad Bean Origin       0\n",
       "dtype: int64"
      ]
     },
     "execution_count": 32,
     "metadata": {},
     "output_type": "execute_result"
    }
   ],
   "source": [
    "train_df.isna().sum()"
   ]
  },
  {
   "cell_type": "code",
   "execution_count": 33,
   "id": "ed8811d2",
   "metadata": {},
   "outputs": [],
   "source": [
    "train_df = train_df.replace('\\xa0', np.NaN)\n",
    "train_df['Cocoa Percent'] = train_df['Cocoa Percent'].str.rstrip('%').astype(np.float16)\n",
    "train_df['Review'] = train_df['Review'].astype('object')\n",
    "\n",
    "test_df = test_df.replace('\\xa0', np.NaN)\n",
    "test_df['Cocoa Percent'] = test_df['Cocoa Percent'].str.rstrip('%').astype(np.float16)\n",
    "test_df['Review'] = test_df['Review'].astype('object')"
   ]
  },
  {
   "cell_type": "code",
   "execution_count": 34,
   "id": "f08540c6",
   "metadata": {},
   "outputs": [
    {
     "data": {
      "text/html": [
       "<div>\n",
       "<style scoped>\n",
       "    .dataframe tbody tr th:only-of-type {\n",
       "        vertical-align: middle;\n",
       "    }\n",
       "\n",
       "    .dataframe tbody tr th {\n",
       "        vertical-align: top;\n",
       "    }\n",
       "\n",
       "    .dataframe thead th {\n",
       "        text-align: right;\n",
       "    }\n",
       "</style>\n",
       "<table border=\"1\" class=\"dataframe\">\n",
       "  <thead>\n",
       "    <tr style=\"text-align: right;\">\n",
       "      <th></th>\n",
       "      <th>Company</th>\n",
       "      <th>Specific Bean Origin</th>\n",
       "      <th>REF</th>\n",
       "      <th>Review</th>\n",
       "      <th>Cocoa Percent</th>\n",
       "      <th>Company Location</th>\n",
       "      <th>Rating</th>\n",
       "      <th>Bean Type</th>\n",
       "      <th>Broad Bean Origin</th>\n",
       "    </tr>\n",
       "  </thead>\n",
       "  <tbody>\n",
       "    <tr>\n",
       "      <th>0</th>\n",
       "      <td>Willie's Cacao</td>\n",
       "      <td>Rio Caribe</td>\n",
       "      <td>457</td>\n",
       "      <td>2009</td>\n",
       "      <td>72.0</td>\n",
       "      <td>U.K.</td>\n",
       "      <td>3.25</td>\n",
       "      <td>Trinitario</td>\n",
       "      <td>Venezuela</td>\n",
       "    </tr>\n",
       "    <tr>\n",
       "      <th>1</th>\n",
       "      <td>Beschle (Felchlin)</td>\n",
       "      <td>Ocumare, Premier Cru, Quizas No. 2</td>\n",
       "      <td>508</td>\n",
       "      <td>2010</td>\n",
       "      <td>72.0</td>\n",
       "      <td>Switzerland</td>\n",
       "      <td>3.50</td>\n",
       "      <td>Other</td>\n",
       "      <td>Venezuela</td>\n",
       "    </tr>\n",
       "    <tr>\n",
       "      <th>2</th>\n",
       "      <td>Dark Forest</td>\n",
       "      <td>Tanzania</td>\n",
       "      <td>1554</td>\n",
       "      <td>2015</td>\n",
       "      <td>70.0</td>\n",
       "      <td>U.S.A.</td>\n",
       "      <td>3.00</td>\n",
       "      <td>Criollo</td>\n",
       "      <td>Tanzania</td>\n",
       "    </tr>\n",
       "    <tr>\n",
       "      <th>3</th>\n",
       "      <td>Brasstown aka It's Chocolate</td>\n",
       "      <td>Cooproagro</td>\n",
       "      <td>1125</td>\n",
       "      <td>2013</td>\n",
       "      <td>72.0</td>\n",
       "      <td>U.S.A.</td>\n",
       "      <td>3.00</td>\n",
       "      <td>Trinitario</td>\n",
       "      <td>Dominican Republic</td>\n",
       "    </tr>\n",
       "    <tr>\n",
       "      <th>4</th>\n",
       "      <td>Pralus</td>\n",
       "      <td>Java, Indonesie</td>\n",
       "      <td>32</td>\n",
       "      <td>2006</td>\n",
       "      <td>75.0</td>\n",
       "      <td>France</td>\n",
       "      <td>3.50</td>\n",
       "      <td>Criollo</td>\n",
       "      <td>Indonesia</td>\n",
       "    </tr>\n",
       "  </tbody>\n",
       "</table>\n",
       "</div>"
      ],
      "text/plain": [
       "                        Company                Specific Bean Origin   REF  \\\n",
       "0                Willie's Cacao                          Rio Caribe   457   \n",
       "1            Beschle (Felchlin)  Ocumare, Premier Cru, Quizas No. 2   508   \n",
       "2                   Dark Forest                            Tanzania  1554   \n",
       "3  Brasstown aka It's Chocolate                          Cooproagro  1125   \n",
       "4                        Pralus                     Java, Indonesie    32   \n",
       "\n",
       "  Review  Cocoa Percent Company Location  Rating   Bean Type  \\\n",
       "0   2009           72.0             U.K.    3.25  Trinitario   \n",
       "1   2010           72.0      Switzerland    3.50       Other   \n",
       "2   2015           70.0           U.S.A.    3.00     Criollo   \n",
       "3   2013           72.0           U.S.A.    3.00  Trinitario   \n",
       "4   2006           75.0           France    3.50     Criollo   \n",
       "\n",
       "    Broad Bean Origin  \n",
       "0           Venezuela  \n",
       "1           Venezuela  \n",
       "2            Tanzania  \n",
       "3  Dominican Republic  \n",
       "4           Indonesia  "
      ]
     },
     "execution_count": 34,
     "metadata": {},
     "output_type": "execute_result"
    }
   ],
   "source": [
    "train_df.head()"
   ]
  },
  {
   "cell_type": "code",
   "execution_count": 35,
   "id": "546a6ec2",
   "metadata": {},
   "outputs": [
    {
     "data": {
      "text/plain": [
       "Company                  object\n",
       "Specific Bean Origin     object\n",
       "REF                       int64\n",
       "Review                   object\n",
       "Cocoa Percent           float16\n",
       "Company Location         object\n",
       "Rating                  float64\n",
       "Bean Type                object\n",
       "Broad Bean Origin        object\n",
       "dtype: object"
      ]
     },
     "execution_count": 35,
     "metadata": {},
     "output_type": "execute_result"
    }
   ],
   "source": [
    "train_df.dtypes"
   ]
  },
  {
   "cell_type": "markdown",
   "id": "fc2faf19",
   "metadata": {},
   "source": []
  },
  {
   "cell_type": "code",
   "execution_count": 36,
   "id": "2135becb",
   "metadata": {},
   "outputs": [],
   "source": [
    "['Company', 'Specific Bean Origin', 'REF', 'Review', 'Cocoa Percent',\n",
    "'Company Location', 'Bean Type', 'Broad Bean Origin']\n",
    "\n",
    "cols = ['Company', 'Specific Bean Origin', 'REF', 'Review', 'Cocoa Percent',\n",
    "'Company Location', 'Bean Type', 'Broad Bean Origin']"
   ]
  },
  {
   "cell_type": "code",
   "execution_count": 37,
   "id": "5a98b205",
   "metadata": {},
   "outputs": [],
   "source": [
    "X = train_df[cols]\n",
    "target = train_df['Rating']\n",
    "test = test_df[cols]"
   ]
  },
  {
   "cell_type": "code",
   "execution_count": 38,
   "id": "736ca88c",
   "metadata": {},
   "outputs": [],
   "source": [
    "mm_scaler = MinMaxScaler()\n",
    "scaler = StandardScaler()\n",
    "\n",
    "X['REF'] = mm_scaler.fit_transform(X[['REF']])  \n",
    "test['REF'] = mm_scaler.transform(test[['REF']])"
   ]
  },
  {
   "cell_type": "code",
   "execution_count": 39,
   "id": "b4116e7c",
   "metadata": {},
   "outputs": [],
   "source": [
    "mm_scaler = MinMaxScaler()\n",
    "\n",
    "X['Cocoa Percent'] = mm_scaler.fit_transform(X[['Cocoa Percent']])  \n",
    "test['Cocoa Percent'] = mm_scaler.transform(test[['Cocoa Percent']])"
   ]
  },
  {
   "cell_type": "code",
   "execution_count": 40,
   "id": "f1408247",
   "metadata": {},
   "outputs": [
    {
     "data": {
      "text/html": [
       "<div>\n",
       "<style scoped>\n",
       "    .dataframe tbody tr th:only-of-type {\n",
       "        vertical-align: middle;\n",
       "    }\n",
       "\n",
       "    .dataframe tbody tr th {\n",
       "        vertical-align: top;\n",
       "    }\n",
       "\n",
       "    .dataframe thead th {\n",
       "        text-align: right;\n",
       "    }\n",
       "</style>\n",
       "<table border=\"1\" class=\"dataframe\">\n",
       "  <thead>\n",
       "    <tr style=\"text-align: right;\">\n",
       "      <th></th>\n",
       "      <th>Company</th>\n",
       "      <th>Specific Bean Origin</th>\n",
       "      <th>REF</th>\n",
       "      <th>Review</th>\n",
       "      <th>Cocoa Percent</th>\n",
       "      <th>Company Location</th>\n",
       "      <th>Bean Type</th>\n",
       "      <th>Broad Bean Origin</th>\n",
       "    </tr>\n",
       "  </thead>\n",
       "  <tbody>\n",
       "    <tr>\n",
       "      <th>0</th>\n",
       "      <td>Willie's Cacao</td>\n",
       "      <td>Rio Caribe</td>\n",
       "      <td>0.232152</td>\n",
       "      <td>2009</td>\n",
       "      <td>0.481934</td>\n",
       "      <td>U.K.</td>\n",
       "      <td>Trinitario</td>\n",
       "      <td>Venezuela</td>\n",
       "    </tr>\n",
       "    <tr>\n",
       "      <th>1</th>\n",
       "      <td>Beschle (Felchlin)</td>\n",
       "      <td>Ocumare, Premier Cru, Quizas No. 2</td>\n",
       "      <td>0.258346</td>\n",
       "      <td>2010</td>\n",
       "      <td>0.481934</td>\n",
       "      <td>Switzerland</td>\n",
       "      <td>Other</td>\n",
       "      <td>Venezuela</td>\n",
       "    </tr>\n",
       "    <tr>\n",
       "      <th>2</th>\n",
       "      <td>Dark Forest</td>\n",
       "      <td>Tanzania</td>\n",
       "      <td>0.795583</td>\n",
       "      <td>2015</td>\n",
       "      <td>0.444824</td>\n",
       "      <td>U.S.A.</td>\n",
       "      <td>Criollo</td>\n",
       "      <td>Tanzania</td>\n",
       "    </tr>\n",
       "    <tr>\n",
       "      <th>3</th>\n",
       "      <td>Brasstown aka It's Chocolate</td>\n",
       "      <td>Cooproagro</td>\n",
       "      <td>0.575244</td>\n",
       "      <td>2013</td>\n",
       "      <td>0.481934</td>\n",
       "      <td>U.S.A.</td>\n",
       "      <td>Trinitario</td>\n",
       "      <td>Dominican Republic</td>\n",
       "    </tr>\n",
       "    <tr>\n",
       "      <th>4</th>\n",
       "      <td>Pralus</td>\n",
       "      <td>Java, Indonesie</td>\n",
       "      <td>0.013867</td>\n",
       "      <td>2006</td>\n",
       "      <td>0.537598</td>\n",
       "      <td>France</td>\n",
       "      <td>Criollo</td>\n",
       "      <td>Indonesia</td>\n",
       "    </tr>\n",
       "    <tr>\n",
       "      <th>...</th>\n",
       "      <td>...</td>\n",
       "      <td>...</td>\n",
       "      <td>...</td>\n",
       "      <td>...</td>\n",
       "      <td>...</td>\n",
       "      <td>...</td>\n",
       "      <td>...</td>\n",
       "      <td>...</td>\n",
       "    </tr>\n",
       "    <tr>\n",
       "      <th>1250</th>\n",
       "      <td>Artisan du Chocolat</td>\n",
       "      <td>Madagascar</td>\n",
       "      <td>0.183873</td>\n",
       "      <td>2009</td>\n",
       "      <td>0.630371</td>\n",
       "      <td>U.K.</td>\n",
       "      <td>Blend</td>\n",
       "      <td>Madagascar</td>\n",
       "    </tr>\n",
       "    <tr>\n",
       "      <th>1251</th>\n",
       "      <td>Marana</td>\n",
       "      <td>Cusco</td>\n",
       "      <td>0.965074</td>\n",
       "      <td>2016</td>\n",
       "      <td>0.444824</td>\n",
       "      <td>Peru</td>\n",
       "      <td>Other</td>\n",
       "      <td>Peru</td>\n",
       "    </tr>\n",
       "    <tr>\n",
       "      <th>1252</th>\n",
       "      <td>Arete</td>\n",
       "      <td>Nacional</td>\n",
       "      <td>0.785311</td>\n",
       "      <td>2015</td>\n",
       "      <td>0.407715</td>\n",
       "      <td>U.S.A.</td>\n",
       "      <td>Forastero</td>\n",
       "      <td>Peru</td>\n",
       "    </tr>\n",
       "    <tr>\n",
       "      <th>1253</th>\n",
       "      <td>Fresco</td>\n",
       "      <td>Conacado, #212, LR, SC</td>\n",
       "      <td>0.327170</td>\n",
       "      <td>2011</td>\n",
       "      <td>0.481934</td>\n",
       "      <td>U.S.A.</td>\n",
       "      <td>Other</td>\n",
       "      <td>Dominican Republic</td>\n",
       "    </tr>\n",
       "    <tr>\n",
       "      <th>1254</th>\n",
       "      <td>Zak's</td>\n",
       "      <td>Madagascar, Batch 2</td>\n",
       "      <td>0.807910</td>\n",
       "      <td>2015</td>\n",
       "      <td>0.444824</td>\n",
       "      <td>U.S.A.</td>\n",
       "      <td>Trinitario</td>\n",
       "      <td>Madagascar</td>\n",
       "    </tr>\n",
       "  </tbody>\n",
       "</table>\n",
       "<p>1255 rows × 8 columns</p>\n",
       "</div>"
      ],
      "text/plain": [
       "                           Company                Specific Bean Origin  \\\n",
       "0                   Willie's Cacao                          Rio Caribe   \n",
       "1               Beschle (Felchlin)  Ocumare, Premier Cru, Quizas No. 2   \n",
       "2                      Dark Forest                            Tanzania   \n",
       "3     Brasstown aka It's Chocolate                          Cooproagro   \n",
       "4                           Pralus                     Java, Indonesie   \n",
       "...                            ...                                 ...   \n",
       "1250           Artisan du Chocolat                          Madagascar   \n",
       "1251                        Marana                               Cusco   \n",
       "1252                         Arete                            Nacional   \n",
       "1253                        Fresco              Conacado, #212, LR, SC   \n",
       "1254                         Zak's                 Madagascar, Batch 2   \n",
       "\n",
       "           REF Review  Cocoa Percent Company Location   Bean Type  \\\n",
       "0     0.232152   2009       0.481934             U.K.  Trinitario   \n",
       "1     0.258346   2010       0.481934      Switzerland       Other   \n",
       "2     0.795583   2015       0.444824           U.S.A.     Criollo   \n",
       "3     0.575244   2013       0.481934           U.S.A.  Trinitario   \n",
       "4     0.013867   2006       0.537598           France     Criollo   \n",
       "...        ...    ...            ...              ...         ...   \n",
       "1250  0.183873   2009       0.630371             U.K.       Blend   \n",
       "1251  0.965074   2016       0.444824             Peru       Other   \n",
       "1252  0.785311   2015       0.407715           U.S.A.   Forastero   \n",
       "1253  0.327170   2011       0.481934           U.S.A.       Other   \n",
       "1254  0.807910   2015       0.444824           U.S.A.  Trinitario   \n",
       "\n",
       "       Broad Bean Origin  \n",
       "0              Venezuela  \n",
       "1              Venezuela  \n",
       "2               Tanzania  \n",
       "3     Dominican Republic  \n",
       "4              Indonesia  \n",
       "...                  ...  \n",
       "1250          Madagascar  \n",
       "1251                Peru  \n",
       "1252                Peru  \n",
       "1253  Dominican Republic  \n",
       "1254          Madagascar  \n",
       "\n",
       "[1255 rows x 8 columns]"
      ]
     },
     "execution_count": 40,
     "metadata": {},
     "output_type": "execute_result"
    }
   ],
   "source": [
    "X"
   ]
  },
  {
   "cell_type": "code",
   "execution_count": 41,
   "id": "b401ee57",
   "metadata": {},
   "outputs": [
    {
     "data": {
      "text/plain": [
       "Company                  object\n",
       "Specific Bean Origin     object\n",
       "REF                     float64\n",
       "Review                   object\n",
       "Cocoa Percent           float16\n",
       "Company Location         object\n",
       "Bean Type                object\n",
       "Broad Bean Origin        object\n",
       "dtype: object"
      ]
     },
     "execution_count": 41,
     "metadata": {},
     "output_type": "execute_result"
    }
   ],
   "source": [
    "X.dtypes"
   ]
  },
  {
   "cell_type": "code",
   "execution_count": 42,
   "id": "49d2e012",
   "metadata": {},
   "outputs": [],
   "source": [
    "cat_features = [i for i, col in enumerate(X.columns) if X[col].dtype.name in ['category', 'object']]"
   ]
  },
  {
   "cell_type": "markdown",
   "id": "6cf3b6a3",
   "metadata": {},
   "source": [
    "## Обучение и подбор гиперпараметров"
   ]
  },
  {
   "cell_type": "code",
   "execution_count": 43,
   "id": "101c293a",
   "metadata": {},
   "outputs": [],
   "source": [
    "# def objective_catboost(trial):\n",
    "\n",
    "#     params = {\n",
    "#         'max_depth': 4,\n",
    "#         'learning_rate': trial.suggest_float(\"learning_rate\", 0.0005, 0.2, log=True),    # Скорость обучения\n",
    "#         'n_estimators': trial.suggest_int(\"n_estimators\", 1800, 3000),\n",
    "#         'l2_leaf_reg': trial.suggest_float(\"l2_leaf_reg\", 1, 10),   # Коэффициент L2-регуляризации\n",
    "#         'random_strength': trial.suggest_float(\"random_strength\", 0, 10),   # Степень случайности\n",
    "#         'bagging_temperature':  trial.suggest_float(\"bagging_temperature\", 0, 1),   # Интенсивность бэггинга\n",
    "#         # 'grow_policy': 'SymmetricTree',\n",
    "#         # 'border_count': trial.suggest_int(\"border_count\", 32, 255)\n",
    "#         # 'iterations': trial.suggest_int('iterations', 100, 300),  # Количество итераций\n",
    "#         # 'depth': trial.suggest_int('depth', 3, 4, 5),  # Глубина деревьев\n",
    "#         # 'learning_rate': trial.suggest_float('learning_rate', 0.05, 0.2),  # Скорость обучения\n",
    "#         # 'l2_leaf_reg': trial.suggest_float('l2_leaf_reg', 4, 8),  # Коэффициент L2-регуляризации\n",
    "#         # 'loss_function': trial.suggest_categorical('loss_function', ['RMSE', 'MAE']),  # Функция потерь\n",
    "#         # 'early_stopping_rounds': trial.suggest_int('early_stopping_rounds', 10, 20),  # Ранняя остановка\n",
    "#         # 'border_count': trial.suggest_categorical('border_count', [32, 128]),  # Количество границ\n",
    "#         # 'random_strength': trial.suggest_float('random_strength', 0.1, 10),  # Степень случайности\n",
    "#         # 'bagging_temperature': trial.suggest_float('bagging_temperature', 0, 1),  # Интенсивность бэггинга\n",
    "#         # 'grow_policy': trial.suggest_categorical('grow_policy', ['SymmetricTree', 'Depthwise']),    # Стратегия роста\n",
    "#         # 'min_data_in_leaf': trial.suggest_int('min_data_in_leaf', 5, 15),   # Минимальное количество объектов в листе\n",
    "#         # 'rsm': trial.suggest_float('rsm', 0.8, 1.0),    # Доля признаков для каждого дерева\n",
    "\n",
    "#     }\n",
    "    \n",
    "#     model = CatBoostRegressor(cat_features=cat_features, **params, silent=True)\n",
    "\n",
    "#     score = cross_val_score(model, X, target, cv=3, scoring=\"r2\", n_jobs=-1).mean()\n",
    "#     return score\n",
    "\n",
    "# study = optuna.create_study(direction=\"maximize\")\n",
    "# study.optimize(objective_catboost, n_trials=250, n_jobs=-1)"
   ]
  },
  {
   "cell_type": "markdown",
   "id": "dc7457f4",
   "metadata": {},
   "source": []
  },
  {
   "cell_type": "code",
   "execution_count": 44,
   "id": "da5dbc7f",
   "metadata": {},
   "outputs": [
    {
     "data": {
      "text/plain": [
       "<catboost.core.CatBoostRegressor at 0x21ced9378f0>"
      ]
     },
     "execution_count": 44,
     "metadata": {},
     "output_type": "execute_result"
    }
   ],
   "source": [
    "# [I 2025-05-12 15:22:30,361] Trial 156 finished with value: 0.21593551418797222 and parameters: \n",
    "# {'learning_rate': 0.010085724934530157, \n",
    "#'n_estimators': 2063, \n",
    "#'l2_leaf_reg': 1.006603127309495, \n",
    "#'random_strength': 1.4219666225791285, \n",
    "#'bagging_temperature': 0.47554294906158245}. \n",
    "# Best is trial 156 with value: 0.21593551418797222.\n",
    "\n",
    "# params = study.best_params\n",
    "params = {'learning_rate': 0.008553940111605946, 'n_estimators': 2114, 'l2_leaf_reg': 1.4163130536678312, 'random_strength': 4.287920281067569, 'bagging_temperature': 0.7916641053388684, 'grow_policy': 'SymmetricTree', 'min_data_in_leaf': 7, 'rsm': 0.9923008576207031}\n",
    "model = CatBoostRegressor(\n",
    "        cat_features=cat_features, **params,\n",
    "        silent=True\n",
    "    )\n",
    "model.fit(X, target)"
   ]
  },
  {
   "cell_type": "code",
   "execution_count": 45,
   "id": "c44844a9",
   "metadata": {},
   "outputs": [],
   "source": [
    "pred = model.predict(test)"
   ]
  },
  {
   "cell_type": "code",
   "execution_count": 46,
   "id": "fe9e2e74",
   "metadata": {},
   "outputs": [],
   "source": [
    "test = test.copy()\n",
    "result = pd.DataFrame()\n",
    "result['id'] = np.arange(len(test))\n",
    "result['Rating'] = pred\n",
    "\n",
    "result[['id','Rating']].to_csv(\"choko_submission_211.csv\", index=False)"
   ]
  },
  {
   "cell_type": "markdown",
   "id": "1511cbba",
   "metadata": {},
   "source": [
    "![image.png](attachment:image.png)"
   ]
  },
  {
   "cell_type": "markdown",
   "id": "2960f586",
   "metadata": {},
   "source": [
    "<!-- {'learning_rate': 0.008553940111605946, 'n_estimators': 2114, 'l2_leaf_reg': 1.4163130536678312, 'random_strength': 4.287920281067569, 'bagging_temperature': 0.7916641053388684, 'grow_policy': 'SymmetricTree', 'min_data_in_leaf': 7, 'rsm': 0.9923008576207031} -->"
   ]
  },
  {
   "cell_type": "code",
   "execution_count": 47,
   "id": "aab389b0",
   "metadata": {},
   "outputs": [],
   "source": [
    "# {'learning_rate': 0.008553940111605946, 'n_estimators': 2114, 'l2_leaf_reg': 1.4163130536678312, 'random_strength': 4.287920281067569, 'bagging_temperature': 0.7916641053388684, 'grow_policy': 'SymmetricTree', 'min_data_in_leaf': 7, 'rsm': 0.9923008576207031}"
   ]
  },
  {
   "cell_type": "code",
   "execution_count": 48,
   "id": "24b26cdb",
   "metadata": {},
   "outputs": [
    {
     "data": {
      "text/plain": [
       "0.028993107695535775"
      ]
     },
     "execution_count": 48,
     "metadata": {},
     "output_type": "execute_result"
    }
   ],
   "source": [
    "875\n",
    "0.9676140981916675\n",
    "0.028993107695535775"
   ]
  },
  {
   "cell_type": "code",
   "execution_count": 49,
   "id": "70a867b0",
   "metadata": {},
   "outputs": [
    {
     "name": "stdout",
     "output_type": "stream",
     "text": [
      "4784\n",
      "0.9716878401960474\n",
      "0.028063482353485134\n"
     ]
    }
   ],
   "source": [
    "y_test = pd.read_csv('choko_submission_29.csv', usecols=['Rating']).values.reshape(-1)\n",
    "\n",
    "print(SEED)\n",
    "r2 = r2_score(y_test, pred)\n",
    "print(r2)\n",
    "mae = MAE(y_test, pred)\n",
    "print(mae)"
   ]
  },
  {
   "cell_type": "code",
   "execution_count": null,
   "id": "c16ce3cc",
   "metadata": {},
   "outputs": [],
   "source": []
  }
 ],
 "metadata": {
  "kernelspec": {
   "display_name": "base",
   "language": "python",
   "name": "python3"
  },
  "language_info": {
   "codemirror_mode": {
    "name": "ipython",
    "version": 3
   },
   "file_extension": ".py",
   "mimetype": "text/x-python",
   "name": "python",
   "nbconvert_exporter": "python",
   "pygments_lexer": "ipython3",
   "version": "3.12.3"
  }
 },
 "nbformat": 4,
 "nbformat_minor": 5
}
