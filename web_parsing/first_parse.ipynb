{
 "cells": [
  {
   "cell_type": "code",
   "execution_count": 53,
   "metadata": {},
   "outputs": [],
   "source": [
    "import requests\n",
    "from bs4 import BeautifulSoup"
   ]
  },
  {
   "cell_type": "code",
   "execution_count": null,
   "metadata": {},
   "outputs": [],
   "source": [
    "# https://developer.mozilla.org/ru/docs/Web/CSS/CSS_selectors\n",
    "\n",
    "# https://flukeout.github.io/\n",
    "\n",
    "# https://ucarecdn.com/673c6fe3-343f-4bda-a779-b3a05c03ab22/\n",
    "\n",
    "# https://topswagcode.com/xpath/  Не работает?"
   ]
  },
  {
   "cell_type": "code",
   "execution_count": 54,
   "metadata": {},
   "outputs": [
    {
     "name": "stdout",
     "output_type": "stream",
     "text": [
      "Извлеченный текст: Нужный текст 1\n",
      "Элемент с ID 'qwerty' не найден.\n"
     ]
    }
   ],
   "source": [
    "# Отправляем GET-запрос на веб-страницу\n",
    "url = 'http://parsinger.ru/2.1/DOM/index2.html'\n",
    "response = requests.get(url)\n",
    "response.encoding = 'utf-8'\n",
    "\n",
    "def get_parse(id_elem):\n",
    "    # Проверяем статус-код ответа\n",
    "    if response.status_code == 200:\n",
    "        \n",
    "        # Инициализируем объект BeautifulSoup для парсинга HTML\n",
    "        soup = BeautifulSoup(response.text, 'html.parser')\n",
    "\n",
    "        # Ищем элемент с ID \"text777\"\n",
    "        target_element = soup.find(id=id_elem)\n",
    "\n",
    "        # Извлекаем текст из найденного элемента\n",
    "        if target_element:\n",
    "            extracted_text = target_element.text\n",
    "            print(f'Извлеченный текст: {extracted_text}')  # Вывод на экран\n",
    "        else:\n",
    "            print(f\"Элемент с ID '{id_elem}' не найден.\")\n",
    "    else:\n",
    "        print(f'Не удалось получить доступ к странице, статус-код: {response.status_code}')\n",
    "\n",
    "get_parse('text777')\n",
    "get_parse('qwerty')"
   ]
  },
  {
   "cell_type": "code",
   "execution_count": 55,
   "metadata": {},
   "outputs": [
    {
     "name": "stdout",
     "output_type": "stream",
     "text": [
      "['<ul', '<li', '<a', '<li', '<li', '<a', '<li', '<li', '<b']\n"
     ]
    }
   ],
   "source": [
    "# Поиск тегов\n",
    "\n",
    "import re\n",
    "\n",
    "def get_open_tegs(html_obj):\n",
    "    return re.findall(r'<[a-z]+', html_obj)\n",
    "\n",
    "html_obj = '''<ul class=\"breadcrumbs\">\n",
    "        <li class=\"item\"><a href=\"http://httpbin.org/\" title=\"Главная\">Главная</a></li>\n",
    "        <li class=\"separator\"> » </li>\n",
    "        <li class=\"item\"><a href=\"http://httpbin.org/\" title=\"Парсинг\">HTML и HTML5</a></li>\n",
    "        <li class=\"separator\"> » </li>\n",
    "        <li class=\"item-current\"><b title=\"HTML-атрибуты\"> 1.3. HTML-атрибуты</b></li>\n",
    "    </ul>'''\n",
    "\n",
    "print(get_open_tegs(html_obj))"
   ]
  },
  {
   "cell_type": "code",
   "execution_count": 58,
   "metadata": {},
   "outputs": [
    {
     "name": "stdout",
     "output_type": "stream",
     "text": [
      "Найденный элемент: Это абзац с классом my_class и атрибутом data-example.\n"
     ]
    }
   ],
   "source": [
    "# Получаем содержимое веб-страницы\n",
    "response = requests.get('https://parsinger.ru/2.1/DOM/example.html')\n",
    "response.encoding = 'utf-8'\n",
    "soup = BeautifulSoup(response.text, 'html.parser')\n",
    "\n",
    "# Комбинированный поиск: ищем все абзацы с классом \"my_class\" и атрибутом \"data-example\"\n",
    "paragraphs = soup.select('p.my_class[data-example]')\n",
    "\n",
    "# Выводим найденные элементы\n",
    "for p in paragraphs:\n",
    "    print(f'Найденный элемент: {p.text}')"
   ]
  },
  {
   "cell_type": "code",
   "execution_count": 59,
   "metadata": {},
   "outputs": [
    {
     "name": "stdout",
     "output_type": "stream",
     "text": [
      "Найденный элемент: Это абзац с классом my_class.\n",
      "Найденный элемент: Это абзац с классом my_class и атрибутом data-example.\n"
     ]
    }
   ],
   "source": [
    "# Комбинированный поиск: ищем все абзацы с классом \"my_class\"\n",
    "paragraphs = soup.select('.my_class')\n",
    "\n",
    "# Выводим найденные элементы\n",
    "for p in paragraphs:\n",
    "    print(f'Найденный элемент: {p.text}')"
   ]
  },
  {
   "cell_type": "code",
   "execution_count": 102,
   "metadata": {},
   "outputs": [
    {
     "name": "stdout",
     "output_type": "stream",
     "text": [
      "Найденный элемент: Seagate ST2000VX008 SATA III 6 Gb/s\n",
      "Найденный элемент: Toshiba HDWD105UZSVA\n",
      "Найденный элемент: SATAIII QK554AA\n",
      "Найденный элемент: Seagate ST2000NM000A\n",
      "Найденный элемент: HGST Ultrastar 7K2\n",
      "Найденный элемент: Seagate ST1000DM010\n",
      "Найденный элемент: Toshiba S300 Surveillance\n",
      "Найденный элемент: Toshiba MG04SCA20EE\n"
     ]
    }
   ],
   "source": [
    "url = 'https://parsinger.ru/html/index4_page_1.html'\n",
    "\n",
    "response = requests.get(url)\n",
    "response.encoding = 'utf-8'\n",
    "\n",
    "soup = BeautifulSoup(response.text, 'html.parser')\n",
    "\n",
    "\n",
    "paragraphs = soup.select('a.name_item')\n",
    "\n",
    "for p in paragraphs:\n",
    "    print(f'Найденный элемент: {p.text.strip()}')"
   ]
  },
  {
   "cell_type": "code",
   "execution_count": 101,
   "metadata": {},
   "outputs": [
    {
     "name": "stdout",
     "output_type": "stream",
     "text": [
      "Seagate ST2000VX008 SATA III 6 Gb/s\n",
      "Toshiba HDWD105UZSVA\n",
      "SATAIII QK554AA\n",
      "Seagate ST2000NM000A\n",
      "HGST Ultrastar 7K2\n",
      "Seagate ST1000DM010\n",
      "Toshiba S300 Surveillance\n",
      "Toshiba MG04SCA20EE\n"
     ]
    }
   ],
   "source": [
    "paragraphs = soup.select('.img_box > .name_item')\n",
    "\n",
    "for item in paragraphs:\n",
    "    print(item.text.strip())"
   ]
  },
  {
   "cell_type": "code",
   "execution_count": null,
   "metadata": {},
   "outputs": [],
   "source": [
    "/html/body/div[4]/a[4]"
   ]
  }
 ],
 "metadata": {
  "kernelspec": {
   "display_name": "base",
   "language": "python",
   "name": "python3"
  },
  "language_info": {
   "codemirror_mode": {
    "name": "ipython",
    "version": 3
   },
   "file_extension": ".py",
   "mimetype": "text/x-python",
   "name": "python",
   "nbconvert_exporter": "python",
   "pygments_lexer": "ipython3",
   "version": "3.11.11"
  }
 },
 "nbformat": 4,
 "nbformat_minor": 2
}
