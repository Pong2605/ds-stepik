{
 "cells": [
  {
   "cell_type": "code",
   "execution_count": 1,
   "metadata": {},
   "outputs": [
    {
     "data": {
      "text/plain": [
       "'1.13.2'"
      ]
     },
     "execution_count": 1,
     "metadata": {},
     "output_type": "execute_result"
    }
   ],
   "source": [
    "import math\n",
    "import sympy as sp\n",
    "sp.__version__"
   ]
  },
  {
   "cell_type": "markdown",
   "metadata": {},
   "source": [
    "# 1.2 Элементарные символьные вычисления"
   ]
  },
  {
   "cell_type": "code",
   "execution_count": 2,
   "metadata": {},
   "outputs": [
    {
     "name": "stdout",
     "output_type": "stream",
     "text": [
      "8.881784197001252e-16\n",
      "0\n"
     ]
    }
   ],
   "source": [
    "print(math.sqrt(5)**2 - 5) # машинная точность \n",
    "print(sp.sqrt(5)**2 - 5) # строго 0"
   ]
  },
  {
   "cell_type": "code",
   "execution_count": 3,
   "metadata": {},
   "outputs": [
    {
     "name": "stdout",
     "output_type": "stream",
     "text": [
      "7\n",
      "<class 'sympy.core.numbers.Integer'>\n"
     ]
    }
   ],
   "source": [
    "# Работая с квадратными корнями, sympy может автоматически упрощать выражения. Например, команда\n",
    "\n",
    "print(sp.sqrt(49))\n",
    "# вернет нам значение 7. Но не стоит обманываться, здесь 7 это не число. Давайте поглядим на тип этого объекта:\n",
    "\n",
    "print(type(sp.sqrt(49)))\n",
    "# в качестве ответа получим sympy.core.numbers.Integer. Т.е. мы получаем в качестве результат не число, а объект типа Integer.\n",
    "\n",
    "# Таким образом, sympy работает не с встроенными типами языка Python, а с некоторыми специальными объектами из модуля  sympy."
   ]
  },
  {
   "cell_type": "code",
   "execution_count": 5,
   "metadata": {},
   "outputs": [
    {
     "data": {
      "text/latex": [
       "$\\displaystyle 51 \\sqrt{379721}$"
      ],
      "text/plain": [
       "51*sqrt(379721)"
      ]
     },
     "execution_count": 5,
     "metadata": {},
     "output_type": "execute_result"
    }
   ],
   "source": [
    "# Используя автоматическое упрощение, найдите такое максимальное число, на квадрат которого делится число 987654321\n",
    "sp.sqrt(987654321)"
   ]
  },
  {
   "cell_type": "code",
   "execution_count": 6,
   "metadata": {},
   "outputs": [
    {
     "data": {
      "text/latex": [
       "$\\displaystyle -6$"
      ],
      "text/plain": [
       "-6"
      ]
     },
     "execution_count": 6,
     "metadata": {},
     "output_type": "execute_result"
    }
   ],
   "source": [
    "# С помощью sympy упростите следующее выражение\n",
    "3 * sp.sqrt(12) / (sp.sqrt(27) - 4 * sp.sqrt(3))"
   ]
  },
  {
   "cell_type": "markdown",
   "metadata": {},
   "source": [
    "# 1.3 SymPy и Символы"
   ]
  },
  {
   "cell_type": "code",
   "execution_count": 7,
   "metadata": {},
   "outputs": [
    {
     "name": "stdout",
     "output_type": "stream",
     "text": [
      "x\n"
     ]
    }
   ],
   "source": [
    "x  = sp.Symbol('x')\n",
    "print(sp.sqrt(x)*sp.sqrt(x))"
   ]
  },
  {
   "cell_type": "code",
   "execution_count": 8,
   "metadata": {},
   "outputs": [
    {
     "name": "stdout",
     "output_type": "stream",
     "text": [
      "xy**5\n"
     ]
    }
   ],
   "source": [
    "x = sp.Symbol('xy')\n",
    "print(x**5)"
   ]
  },
  {
   "cell_type": "code",
   "execution_count": 12,
   "metadata": {},
   "outputs": [
    {
     "data": {
      "text/latex": [
       "$\\displaystyle w + x + y + z$"
      ],
      "text/plain": [
       "w + x + y + z"
      ]
     },
     "execution_count": 12,
     "metadata": {},
     "output_type": "execute_result"
    }
   ],
   "source": [
    "x, y, z, w = sp.symbols('x,y,z,w')\n",
    "x + y + z + w"
   ]
  },
  {
   "cell_type": "code",
   "execution_count": 14,
   "metadata": {},
   "outputs": [
    {
     "data": {
      "text/latex": [
       "$\\displaystyle x$"
      ],
      "text/plain": [
       "x"
      ]
     },
     "execution_count": 14,
     "metadata": {},
     "output_type": "execute_result"
    }
   ],
   "source": [
    "# В SymPy уже есть образцы заранее созданных переменных. \n",
    "# В подмодуле sympy.abc содержатся все латинские и греческие буквы в виде переменных.\n",
    "\n",
    "from sympy import abc as sabc\n",
    "x = sabc.x\n",
    "x"
   ]
  },
  {
   "cell_type": "code",
   "execution_count": 30,
   "metadata": {},
   "outputs": [
    {
     "name": "stdout",
     "output_type": "stream",
     "text": [
      "(c0, c1, c2, c3, c4, c5)\n"
     ]
    },
    {
     "data": {
      "text/latex": [
       "$\\displaystyle c_{0} + c_{1} x + c_{2} x^{2} + c_{3} x^{3} + c_{4} x^{4} + c_{5} x^{5}$"
      ],
      "text/plain": [
       "c0 + c1*x + c2*x**2 + c3*x**3 + c4*x**4 + c5*x**5"
      ]
     },
     "execution_count": 30,
     "metadata": {},
     "output_type": "execute_result"
    }
   ],
   "source": [
    "# Допустим, мы хотим создать полином от переменной x. Для начала создадим переменную и зададим степень полинома:\n",
    "\n",
    "x = sp.Symbol('x')\n",
    "N = 5\n",
    "\n",
    "# Как и в обычном питоне мы можем создавать массивы, также и в sympy мы можем создавать массивы переменных!\n",
    "\n",
    "с = sp.symbols('c:3')\n",
    "\n",
    "c = sp.symbols('c:{}'.format(N+1))\n",
    "print(c)\n",
    "\n",
    "a = 0\n",
    "for i in range(N+1):\n",
    "    a = a + c[i]*x**i\n",
    "a"
   ]
  },
  {
   "cell_type": "markdown",
   "metadata": {},
   "source": [
    "# 1.4 Функции sympify, evalf, subs"
   ]
  },
  {
   "cell_type": "code",
   "execution_count": 23,
   "metadata": {},
   "outputs": [
    {
     "data": {
      "text/latex": [
       "$\\displaystyle c_{0} + c_{1} + c_{2} + c_{3} + c_{4}$"
      ],
      "text/plain": [
       "c0 + c1 + c2 + c3 + c4"
      ]
     },
     "execution_count": 23,
     "metadata": {},
     "output_type": "execute_result"
    }
   ],
   "source": [
    "# Подставить значения можно с помощью метода subs() следующим образом:\n",
    "\n",
    "x = sp.Symbol('x')\n",
    "N = 5\n",
    "a = 0\n",
    "c = sp.symbols('c:{}'.format(N))\n",
    "for i in range(N):\n",
    "    a = a + c[i]*x**i\n",
    "a.subs(x,1)"
   ]
  },
  {
   "cell_type": "code",
   "execution_count": 24,
   "metadata": {},
   "outputs": [
    {
     "data": {
      "text/latex": [
       "$\\displaystyle c_{1} x + c_{2} x^{2} + c_{3} x^{3} + c_{4} x^{4} + 1$"
      ],
      "text/plain": [
       "c1*x + c2*x**2 + c3*x**3 + c4*x**4 + 1"
      ]
     },
     "execution_count": 24,
     "metadata": {},
     "output_type": "execute_result"
    }
   ],
   "source": [
    "x = sp.Symbol('x')\n",
    "N = 5\n",
    "a = 0\n",
    "c = sp.symbols('c:{}'.format(N))\n",
    "for i in range(N):\n",
    "    a = a + c[i]*x**i\n",
    "a.subs(c[0],1)"
   ]
  },
  {
   "cell_type": "code",
   "execution_count": 27,
   "metadata": {},
   "outputs": [
    {
     "data": {
      "text/latex": [
       "$\\displaystyle c_{0} + c_{1} x y + c_{2} x^{2} y^{2} + c_{3} x^{3} y^{3} + c_{4} x^{4} y^{4}$"
      ],
      "text/plain": [
       "c0 + c1*x*y + c2*x**2*y**2 + c3*x**3*y**3 + c4*x**4*y**4"
      ]
     },
     "metadata": {},
     "output_type": "display_data"
    },
    {
     "data": {
      "text/latex": [
       "$\\displaystyle c_{0} + c_{1} x^{2} + c_{2} x^{4} + c_{3} x^{6} + c_{4} x^{8}$"
      ],
      "text/plain": [
       "c0 + c1*x**2 + c2*x**4 + c3*x**6 + c4*x**8"
      ]
     },
     "execution_count": 27,
     "metadata": {},
     "output_type": "execute_result"
    }
   ],
   "source": [
    "x = sp.Symbol('x')\n",
    "y = sp.Symbol('y')\n",
    "N = 5\n",
    "a = 0\n",
    "c = sp.symbols('c:{}'.format(N))\n",
    "for i in range(N):\n",
    "    a = a + c[i]*x**i*y**i\n",
    "display(a)\n",
    "a.subs(y,x)"
   ]
  },
  {
   "cell_type": "code",
   "execution_count": null,
   "metadata": {},
   "outputs": [],
   "source": [
    "# Используя методы sympy, рассчитайте значения цепной дроби  глубины N (количество знаменателей в цепной дроби) вида \n",
    "# в точке x и округлите его до двух цифр после запятой.\n",
    "# На вход подаются два числа (каждое в новой строке): N и x\n",
    "# На выходе ожидается значение цепной дроби."
   ]
  },
  {
   "attachments": {
    "image.png": {
     "image/png": "[encoded data removed]"
    }
   },
   "cell_type": "markdown",
   "metadata": {},
   "source": [
    "![image.png](attachment:image.png)"
   ]
  },
  {
   "cell_type": "code",
   "execution_count": null,
   "metadata": {},
   "outputs": [],
   "source": [
    "N = 5\n",
    "x = 2\n",
    "x = sp.Symbol('x')\n",
    "c = sp.symbols('c:{}'.format(N))"
   ]
  },
  {
   "cell_type": "code",
   "execution_count": null,
   "metadata": {},
   "outputs": [],
   "source": []
  },
  {
   "cell_type": "code",
   "execution_count": null,
   "metadata": {},
   "outputs": [],
   "source": []
  },
  {
   "cell_type": "code",
   "execution_count": null,
   "metadata": {},
   "outputs": [],
   "source": []
  },
  {
   "cell_type": "markdown",
   "metadata": {},
   "source": [
    "# 1.5 Числа в SymPy"
   ]
  },
  {
   "cell_type": "markdown",
   "metadata": {},
   "source": []
  }
 ],
 "metadata": {
  "kernelspec": {
   "display_name": "base",
   "language": "python",
   "name": "python3"
  },
  "language_info": {
   "codemirror_mode": {
    "name": "ipython",
    "version": 3
   },
   "file_extension": ".py",
   "mimetype": "text/x-python",
   "name": "python",
   "nbconvert_exporter": "python",
   "pygments_lexer": "ipython3",
   "version": "3.12.7"
  }
 },
 "nbformat": 4,
 "nbformat_minor": 2
}
