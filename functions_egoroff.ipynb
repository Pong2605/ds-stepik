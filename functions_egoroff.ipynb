{
 "cells": [
  {
   "cell_type": "code",
   "execution_count": 5,
   "metadata": {},
   "outputs": [
    {
     "name": "stdout",
     "output_type": "stream",
     "text": [
      "ToThohisos isos kokinondoda fofunon\n"
     ]
    }
   ],
   "source": [
    "# Ваша задача написать функцию translate_to_robber_lang(), которая будет переводить текст на «язык разбойника» (по-шведски ).\n",
    "# Все символы, которые не являются буквами, должны оставаться без изменения.\n",
    "\n",
    "# Гласными будем считать буквы ['a','e', 'i', 'o', 'u']\n",
    "\n",
    "def translate_to_robber_lang(s):\n",
    "    vowels = ['a','e', 'i', 'o', 'u']\n",
    "    return ''.join(map(lambda x: x+'o'+x if x.isalpha() and x.lower() not in vowels else x,  s))\n",
    "\n",
    "print(translate_to_robber_lang(\"This is kinda fun\"))"
   ]
  },
  {
   "cell_type": "code",
   "execution_count": 27,
   "metadata": {},
   "outputs": [
    {
     "data": {
      "text/plain": [
       "{1: {'name': 'Andrey', 'is_vip': True},\n",
       " 2: None,\n",
       " 3: None,\n",
       " 4: None,\n",
       " 5: {'name': 'Vasiliy', 'is_vip': False},\n",
       " 6: None,\n",
       " 7: None,\n",
       " 8: None,\n",
       " 9: None}"
      ]
     },
     "metadata": {},
     "output_type": "display_data"
    },
    {
     "data": {
      "text/plain": [
       "{1: {'name': 'Andrey', 'is_vip': True},\n",
       " 2: None,\n",
       " 3: {'name': 'Gena', 'is_vip': True},\n",
       " 4: {'name': 'Artem', 'is_vip': False},\n",
       " 5: {'name': 'Vasiliy', 'is_vip': False},\n",
       " 6: None,\n",
       " 7: None,\n",
       " 8: None,\n",
       " 9: None}"
      ]
     },
     "metadata": {},
     "output_type": "display_data"
    }
   ],
   "source": [
    "# Всего в ресторане имеется 9 столиков. Информация о брони хранится в глобальной переменной tables в словаре следующего формата\n",
    "\n",
    "tables = {\n",
    "    1: {'name': 'Andrey', 'is_vip': True},\n",
    "    2: None,\n",
    "    3: None,\n",
    "    4: None,\n",
    "    5: {'name': 'Vasiliy', 'is_vip': False},\n",
    "    6: None,\n",
    "    7: None,\n",
    "    8: None,\n",
    "    9: None,\n",
    "}\n",
    "\n",
    "# Ключи здесь - номера столов, значения - имена клиентов, если бронь имеется, иначе None.\n",
    "\n",
    "# По текущему состоянию бронирования видно, что только столик под номером 1 занят Андреем, все остальные столики свободны. Значение None является признаком того, что столик никем не занят.\n",
    "\n",
    "# Ваша задача написать две функции, которые помогут определять какие столы сейчас свободны:\n",
    "# ✔ функцию is_table_free, которая принимает номер стола и возвращает ответ на вопрос: «Свободен ли данный стол?» в виде булева значения\n",
    "# ✔ функцию get_free_tables, которая вернет список всех свободных столов.\n",
    "# ✔ функцию reserve_table, которая принимает номер стола и имя клиента, проверяет свободен ли указанный столик и если за ним никто не прикреплен, вносятся данные клиента.\n",
    "# ✔ функцию delete_reservation, которая очищает запись о бронировании.\n",
    "\n",
    "def is_table_free(n):\n",
    "    return (tables.get(n)) is None\n",
    "\n",
    "def get_free_tables():\n",
    "    return list(filter(is_table_free, tables))\n",
    "\n",
    "def reserve_table(n, name, is_vip=False):\n",
    "    if is_table_free(n): \n",
    "        tables[n] = {'name': name, 'is_vip': is_vip}\n",
    "\n",
    "def delete_reservation(n):\n",
    "    tables[n] = None\n",
    "    \n",
    "\n",
    "# print(is_table_free(1))\n",
    "# print(is_table_free(2))\n",
    "# print(get_free_tables())\n",
    "# print(tables)\n",
    "# delete_reservation(1)\n",
    "# delete_reservation(3)\n",
    "# reserve_table(6, 'Chubaka')\n",
    "# print(tables)\n",
    "\n",
    "display(tables)\n",
    "reserve_table(3, 'Gena', True)\n",
    "reserve_table(4, 'Artem', False)\n",
    "reserve_table(5, 'Artur', True)  # Артур не должен занять место Василия\n",
    "display(tables)"
   ]
  },
  {
   "cell_type": "code",
   "execution_count": 32,
   "metadata": {},
   "outputs": [
    {
     "name": "stdout",
     "output_type": "stream",
     "text": [
      "{'Bread': 13, 'Potato': 5, 'Milk': 2, 'Orange': 5}\n"
     ]
    }
   ],
   "source": [
    "# Ваша задача написать функцию add_item, которая добавляет в корзину (глобальная переменная shopping_list) товар и его количество.\n",
    "\n",
    "shopping_list = {}\n",
    "\n",
    "# Функция add_item обязательно должна принимать имя товара и необязательно - его количество (по умолчанию оно равно 1)\n",
    "\n",
    "def add_item(name, amount=1):\n",
    "    shopping_list[name] = shopping_list.get(name, 0) + amount\n",
    "\n",
    "add_item(\"Bread\", 10)\n",
    "add_item(\"Potato\", 5)\n",
    "add_item(\"Milk\")\n",
    "add_item(\"Orange\", 3)\n",
    "add_item(\"Orange\", 2)\n",
    "add_item(\"Milk\")\n",
    "add_item(\"Bread\", 3)\n",
    "\n",
    "print(shopping_list)"
   ]
  },
  {
   "cell_type": "code",
   "execution_count": 49,
   "metadata": {},
   "outputs": [
    {
     "name": "stdout",
     "output_type": "stream",
     "text": [
      "Bread\n",
      "Potato\n",
      "Milk\n",
      "Orange\n",
      "\n",
      "1xBread\n",
      "2xMilk\n"
     ]
    }
   ],
   "source": [
    "# Напишите функцию show_list, которая выводит список товаров из корзины (глобальная переменная shopping_list). \n",
    "# У функции show_list есть необязательный логический параметр include_quantities, по умолчанию принимает значение True. \n",
    "\n",
    "# Если include_quantities имеет значение True, вы должны выводить имя товара и его количество в следующем формате:\n",
    "\n",
    "# {количество}x{имя_товара},\n",
    "\n",
    "# иначе необходимо вывести только имя.\n",
    "\n",
    "def show_list(include_quantities=True):\n",
    "    print(*[''.join((f'{v}x' * include_quantities, k)) for k, v in shopping_list.items()], sep='\\n')\n",
    "\n",
    "shopping_list = {'Bread': 13, 'Potato': 5, 'Milk': 2, 'Orange': 5}\n",
    "show_list(include_quantities=False)\n",
    "print()\n",
    "shopping_list = {'Bread': 1, 'Milk': 2}\n",
    "show_list(include_quantities=True)"
   ]
  },
  {
   "cell_type": "code",
   "execution_count": null,
   "metadata": {},
   "outputs": [
    {
     "name": "stdout",
     "output_type": "stream",
     "text": [
      "[5, 5]\n",
      "[3, 4]\n"
     ]
    }
   ],
   "source": [
    "# Добавление одной оценки студенту не влияло на оценки других учеников\n",
    "\n",
    "def create_student(name, age, marks=None):\n",
    "    if not marks:\n",
    "        marks = []\n",
    "    return {\n",
    "        'name': name,\n",
    "        'age': age,\n",
    "        'marks': marks\n",
    "    }\n",
    "\n",
    "def add_mark(student, mark):\n",
    "    student['marks'].append(mark)\n",
    "\n",
    "ivan = create_student('Ivan', 15)\n",
    "anatoliy = create_student('Anatoliy', 16)\n",
    "\n",
    "add_mark(ivan, 5)\n",
    "add_mark(ivan, 5)\n",
    "add_mark(anatoliy, 3)\n",
    "add_mark(anatoliy, 4)\n",
    "print(ivan['marks'])\n",
    "print(anatoliy['marks'])"
   ]
  },
  {
   "cell_type": "code",
   "execution_count": 57,
   "metadata": {},
   "outputs": [
    {
     "name": "stdout",
     "output_type": "stream",
     "text": [
      "True\n"
     ]
    }
   ],
   "source": [
    "print(all([43, -32, '!', True, -1]))"
   ]
  },
  {
   "cell_type": "code",
   "execution_count": null,
   "metadata": {},
   "outputs": [
    {
     "name": "stdout",
     "output_type": "stream",
     "text": [
      "[5, 6]\n"
     ]
    }
   ],
   "source": [
    "words = ['One', 'Two', 'Three']\n",
    "\n",
    "print(list(map(str.title, words)))"
   ]
  },
  {
   "cell_type": "code",
   "execution_count": 3,
   "metadata": {},
   "outputs": [
    {
     "name": "stdout",
     "output_type": "stream",
     "text": [
      "[5, 6]\n"
     ]
    }
   ],
   "source": [
    "def my_func(x):\n",
    "    return x ** 2 > 16\n",
    "\n",
    "\n",
    "a = [1, 2, 3, 4, 5, 6]\n",
    "print(list(filter(my_func, a)))"
   ]
  },
  {
   "cell_type": "code",
   "execution_count": 9,
   "metadata": {},
   "outputs": [
    {
     "name": "stdout",
     "output_type": "stream",
     "text": [
      "[-100, 2, -300, -400, -60, -101, 101]\n"
     ]
    }
   ],
   "source": [
    "filter_numbers = lambda lst: list(filter(lambda x: x % 2 == 0 or abs(x) > 100, lst))\n",
    "\n",
    "numbers = [-100, 2, -300, -400, 5, -60, -61, -101, 101]\n",
    "print(filter_numbers(numbers))"
   ]
  },
  {
   "cell_type": "markdown",
   "metadata": {},
   "source": [
    "# zip разъединение"
   ]
  },
  {
   "cell_type": "code",
   "execution_count": 11,
   "metadata": {},
   "outputs": [
    {
     "name": "stdout",
     "output_type": "stream",
     "text": [
      "[('approach', 'monstrous', 'mobile', 'voucher'), (100, 200, 300, 400), ('N', 'a', 'S', 'A')]\n"
     ]
    }
   ],
   "source": [
    "words = ['approach', 'monstrous', 'mobile', 'voucher', 'solid']\n",
    "numbers = [100, 200, 300, 400, 500]\n",
    "s = 'NaSA'\n",
    "\n",
    "result_zip = zip(words, numbers, s)\n",
    "\n",
    "print(list(zip(*result_zip)))"
   ]
  },
  {
   "cell_type": "code",
   "execution_count": null,
   "metadata": {},
   "outputs": [],
   "source": []
  }
 ],
 "metadata": {
  "kernelspec": {
   "display_name": "base",
   "language": "python",
   "name": "python3"
  },
  "language_info": {
   "codemirror_mode": {
    "name": "ipython",
    "version": 3
   },
   "file_extension": ".py",
   "mimetype": "text/x-python",
   "name": "python",
   "nbconvert_exporter": "python",
   "pygments_lexer": "ipython3",
   "version": "3.12.7"
  }
 },
 "nbformat": 4,
 "nbformat_minor": 2
}
