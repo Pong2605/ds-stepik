{
 "cells": [
  {
   "cell_type": "code",
   "execution_count": 1,
   "metadata": {},
   "outputs": [
    {
     "name": "stdout",
     "output_type": "stream",
     "text": [
      "ToThohisos isos kokinondoda fofunon\n"
     ]
    }
   ],
   "source": [
    "# Ваша задача написать функцию translate_to_robber_lang(), которая будет переводить текст на «язык разбойника» (по-шведски ).\n",
    "# Все символы, которые не являются буквами, должны оставаться без изменения.\n",
    "\n",
    "# Гласными будем считать буквы ['a','e', 'i', 'o', 'u']\n",
    "\n",
    "def translate_to_robber_lang(s):\n",
    "    vowels = ['a','e', 'i', 'o', 'u']\n",
    "    return ''.join(map(lambda x: x+'o'+x if x.isalpha() and x.lower() not in vowels else x,  s))\n",
    "\n",
    "print(translate_to_robber_lang(\"This is kinda fun\"))"
   ]
  },
  {
   "cell_type": "code",
   "execution_count": 2,
   "metadata": {},
   "outputs": [
    {
     "data": {
      "text/plain": [
       "{1: {'name': 'Andrey', 'is_vip': True},\n",
       " 2: None,\n",
       " 3: None,\n",
       " 4: None,\n",
       " 5: {'name': 'Vasiliy', 'is_vip': False},\n",
       " 6: None,\n",
       " 7: None,\n",
       " 8: None,\n",
       " 9: None}"
      ]
     },
     "metadata": {},
     "output_type": "display_data"
    },
    {
     "data": {
      "text/plain": [
       "{1: {'name': 'Andrey', 'is_vip': True},\n",
       " 2: None,\n",
       " 3: {'name': 'Gena', 'is_vip': True},\n",
       " 4: {'name': 'Artem', 'is_vip': False},\n",
       " 5: {'name': 'Vasiliy', 'is_vip': False},\n",
       " 6: None,\n",
       " 7: None,\n",
       " 8: None,\n",
       " 9: None}"
      ]
     },
     "metadata": {},
     "output_type": "display_data"
    }
   ],
   "source": [
    "# Всего в ресторане имеется 9 столиков. Информация о брони хранится в глобальной переменной tables в словаре следующего формата\n",
    "\n",
    "tables = {\n",
    "    1: {'name': 'Andrey', 'is_vip': True},\n",
    "    2: None,\n",
    "    3: None,\n",
    "    4: None,\n",
    "    5: {'name': 'Vasiliy', 'is_vip': False},\n",
    "    6: None,\n",
    "    7: None,\n",
    "    8: None,\n",
    "    9: None,\n",
    "}\n",
    "\n",
    "# Ключи здесь - номера столов, значения - имена клиентов, если бронь имеется, иначе None.\n",
    "\n",
    "# По текущему состоянию бронирования видно, что только столик под номером 1 занят Андреем, все остальные столики свободны. Значение None является признаком того, что столик никем не занят.\n",
    "\n",
    "# Ваша задача написать две функции, которые помогут определять какие столы сейчас свободны:\n",
    "# ✔ функцию is_table_free, которая принимает номер стола и возвращает ответ на вопрос: «Свободен ли данный стол?» в виде булева значения\n",
    "# ✔ функцию get_free_tables, которая вернет список всех свободных столов.\n",
    "# ✔ функцию reserve_table, которая принимает номер стола и имя клиента, проверяет свободен ли указанный столик и если за ним никто не прикреплен, вносятся данные клиента.\n",
    "# ✔ функцию delete_reservation, которая очищает запись о бронировании.\n",
    "\n",
    "def is_table_free(n):\n",
    "    return (tables.get(n)) is None\n",
    "\n",
    "def get_free_tables():\n",
    "    return list(filter(is_table_free, tables))\n",
    "\n",
    "def reserve_table(n, name, is_vip=False):\n",
    "    if is_table_free(n): \n",
    "        tables[n] = {'name': name, 'is_vip': is_vip}\n",
    "\n",
    "def delete_reservation(n):\n",
    "    tables[n] = None\n",
    "    \n",
    "\n",
    "# print(is_table_free(1))\n",
    "# print(is_table_free(2))\n",
    "# print(get_free_tables())\n",
    "# print(tables)\n",
    "# delete_reservation(1)\n",
    "# delete_reservation(3)\n",
    "# reserve_table(6, 'Chubaka')\n",
    "# print(tables)\n",
    "\n",
    "display(tables)\n",
    "reserve_table(3, 'Gena', True)\n",
    "reserve_table(4, 'Artem', False)\n",
    "reserve_table(5, 'Artur', True)  # Артур не должен занять место Василия\n",
    "display(tables)"
   ]
  },
  {
   "cell_type": "code",
   "execution_count": 3,
   "metadata": {},
   "outputs": [
    {
     "name": "stdout",
     "output_type": "stream",
     "text": [
      "{'Bread': 13, 'Potato': 5, 'Milk': 2, 'Orange': 5}\n"
     ]
    }
   ],
   "source": [
    "# Ваша задача написать функцию add_item, которая добавляет в корзину (глобальная переменная shopping_list) товар и его количество.\n",
    "\n",
    "shopping_list = {}\n",
    "\n",
    "# Функция add_item обязательно должна принимать имя товара и необязательно - его количество (по умолчанию оно равно 1)\n",
    "\n",
    "def add_item(name, amount=1):\n",
    "    shopping_list[name] = shopping_list.get(name, 0) + amount\n",
    "\n",
    "add_item(\"Bread\", 10)\n",
    "add_item(\"Potato\", 5)\n",
    "add_item(\"Milk\")\n",
    "add_item(\"Orange\", 3)\n",
    "add_item(\"Orange\", 2)\n",
    "add_item(\"Milk\")\n",
    "add_item(\"Bread\", 3)\n",
    "\n",
    "print(shopping_list)"
   ]
  },
  {
   "cell_type": "code",
   "execution_count": 4,
   "metadata": {},
   "outputs": [
    {
     "name": "stdout",
     "output_type": "stream",
     "text": [
      "Bread\n",
      "Potato\n",
      "Milk\n",
      "Orange\n",
      "\n",
      "1xBread\n",
      "2xMilk\n"
     ]
    }
   ],
   "source": [
    "# Напишите функцию show_list, которая выводит список товаров из корзины (глобальная переменная shopping_list). \n",
    "# У функции show_list есть необязательный логический параметр include_quantities, по умолчанию принимает значение True. \n",
    "\n",
    "# Если include_quantities имеет значение True, вы должны выводить имя товара и его количество в следующем формате:\n",
    "\n",
    "# {количество}x{имя_товара},\n",
    "\n",
    "# иначе необходимо вывести только имя.\n",
    "\n",
    "def show_list(include_quantities=True):\n",
    "    print(*[''.join((f'{v}x' * include_quantities, k)) for k, v in shopping_list.items()], sep='\\n')\n",
    "\n",
    "shopping_list = {'Bread': 13, 'Potato': 5, 'Milk': 2, 'Orange': 5}\n",
    "show_list(include_quantities=False)\n",
    "print()\n",
    "shopping_list = {'Bread': 1, 'Milk': 2}\n",
    "show_list(include_quantities=True)"
   ]
  },
  {
   "cell_type": "code",
   "execution_count": 5,
   "metadata": {},
   "outputs": [
    {
     "name": "stdout",
     "output_type": "stream",
     "text": [
      "[5, 5]\n",
      "[3, 4]\n"
     ]
    }
   ],
   "source": [
    "# Добавление одной оценки студенту не влияло на оценки других учеников\n",
    "\n",
    "def create_student(name, age, marks=None):\n",
    "    if not marks:\n",
    "        marks = []\n",
    "    return {\n",
    "        'name': name,\n",
    "        'age': age,\n",
    "        'marks': marks\n",
    "    }\n",
    "\n",
    "def add_mark(student, mark):\n",
    "    student['marks'].append(mark)\n",
    "\n",
    "ivan = create_student('Ivan', 15)\n",
    "anatoliy = create_student('Anatoliy', 16)\n",
    "\n",
    "add_mark(ivan, 5)\n",
    "add_mark(ivan, 5)\n",
    "add_mark(anatoliy, 3)\n",
    "add_mark(anatoliy, 4)\n",
    "print(ivan['marks'])\n",
    "print(anatoliy['marks'])"
   ]
  },
  {
   "cell_type": "code",
   "execution_count": 6,
   "metadata": {},
   "outputs": [
    {
     "name": "stdout",
     "output_type": "stream",
     "text": [
      "True\n"
     ]
    }
   ],
   "source": [
    "print(all([43, -32, '!', True, -1]))"
   ]
  },
  {
   "cell_type": "code",
   "execution_count": 7,
   "metadata": {},
   "outputs": [
    {
     "name": "stdout",
     "output_type": "stream",
     "text": [
      "['One', 'Two', 'Three']\n"
     ]
    }
   ],
   "source": [
    "words = ['One', 'Two', 'Three']\n",
    "\n",
    "print(list(map(str.title, words)))"
   ]
  },
  {
   "cell_type": "code",
   "execution_count": 8,
   "metadata": {},
   "outputs": [
    {
     "name": "stdout",
     "output_type": "stream",
     "text": [
      "[5, 6]\n"
     ]
    }
   ],
   "source": [
    "def my_func(x):\n",
    "    return x ** 2 > 16\n",
    "\n",
    "\n",
    "a = [1, 2, 3, 4, 5, 6]\n",
    "print(list(filter(my_func, a)))"
   ]
  },
  {
   "cell_type": "code",
   "execution_count": 9,
   "metadata": {},
   "outputs": [
    {
     "name": "stdout",
     "output_type": "stream",
     "text": [
      "[-100, 2, -300, -400, -60, -101, 101]\n"
     ]
    }
   ],
   "source": [
    "filter_numbers = lambda lst: list(filter(lambda x: x % 2 == 0 or abs(x) > 100, lst))\n",
    "\n",
    "numbers = [-100, 2, -300, -400, 5, -60, -61, -101, 101]\n",
    "print(filter_numbers(numbers))"
   ]
  },
  {
   "cell_type": "markdown",
   "metadata": {},
   "source": [
    "# zip разъединение"
   ]
  },
  {
   "cell_type": "code",
   "execution_count": 10,
   "metadata": {},
   "outputs": [
    {
     "name": "stdout",
     "output_type": "stream",
     "text": [
      "[('approach', 'monstrous', 'mobile', 'voucher'), (100, 200, 300, 400), ('N', 'a', 'S', 'A')]\n"
     ]
    }
   ],
   "source": [
    "words = ['approach', 'monstrous', 'mobile', 'voucher', 'solid']\n",
    "numbers = [100, 200, 300, 400, 500]\n",
    "s = 'NaSA'\n",
    "\n",
    "result_zip = zip(words, numbers, s)\n",
    "\n",
    "print(list(zip(*result_zip)))"
   ]
  },
  {
   "cell_type": "code",
   "execution_count": null,
   "metadata": {},
   "outputs": [
    {
     "name": "stdout",
     "output_type": "stream",
     "text": [
      "[(1, 'Elon Mask', 'Australia'), (2, 'Tim Cook', 'USA'), (3, 'Bill Gates', None), (4, 'Yang Zhou', None)]\n",
      "[(1, 'Elon Mask', 'Australia'), (2, 'Tim Cook', 'USA'), (3, 'Bill Gates', 'Unknown'), (4, 'Yang Zhou', 'Unknown')]\n"
     ]
    }
   ],
   "source": [
    "# Если не хотите отбрасывать элементы, можете воспользоваться zip_longest из модуля itertools.\n",
    "\n",
    "# from itertools import zip_longest\n",
    "# В zip_longest можно передать аргумент fillvalue, который помогает заполнить недостающие значения. Если не передать — значения будут заполняться None\n",
    "\n",
    "\n",
    "from itertools import zip_longest\n",
    "\n",
    "ids = [1, 2, 3, 4]\n",
    "leaders = ['Elon Mask', 'Tim Cook', 'Bill Gates', 'Yang Zhou']\n",
    "countries = ('Australia', 'USA')\n",
    "records = zip_longest(ids, leaders, countries)\n",
    "\n",
    "print(list(records))\n",
    "\n",
    "records_2 = zip_longest(ids, leaders, countries, fillvalue='Unknown')\n",
    "print(list(records_2))"
   ]
  },
  {
   "cell_type": "code",
   "execution_count": 12,
   "metadata": {},
   "outputs": [
    {
     "name": "stdout",
     "output_type": "stream",
     "text": [
      "[(5, 'какой'), (8, 'чудесный'), (4, 'день')]\n"
     ]
    }
   ],
   "source": [
    "words = 'какой чудесный день'.split()\n",
    "print(list(zip(map(len, words), words)))"
   ]
  },
  {
   "cell_type": "code",
   "execution_count": null,
   "metadata": {},
   "outputs": [
    {
     "name": "stdout",
     "output_type": "stream",
     "text": [
      "Hello\n",
      "Hello\n",
      "Hello\n"
     ]
    }
   ],
   "source": [
    "words = ['me', 'penetrate', 'lean', 'reputation',\n",
    "         'us', 'crevice', 'patent',\n",
    "         'joke', 'suspect', 'lodge', 'sunshine',\n",
    "         'folk', 'cruel', 'shatter', 'ignite']\n",
    "\n",
    "numbers = [100, 200, 500]\n",
    "\n",
    "phrase = \"There is no spoon\"\n",
    "\n",
    "for item in zip(words, numbers, phrase):\n",
    "    print('Hello')"
   ]
  },
  {
   "cell_type": "code",
   "execution_count": null,
   "metadata": {},
   "outputs": [
    {
     "name": "stdout",
     "output_type": "stream",
     "text": [
      "()\n"
     ]
    }
   ],
   "source": [
    "people = ['Сальвадор', 'Фрида', 'Клод']\n",
    "\n",
    "obj = enumerate(people)\n",
    "lst = list(obj)\n",
    "tpl = tuple(obj)\n",
    "print(tpl)"
   ]
  },
  {
   "cell_type": "code",
   "execution_count": 13,
   "metadata": {},
   "outputs": [
    {
     "name": "stdout",
     "output_type": "stream",
     "text": [
      "False\n"
     ]
    }
   ],
   "source": [
    "# Вашей программе на вход будут поступать слова, разделенные пробелом. \n",
    "# Программа должна вывести True , если встретилось хотя бы одно слово, заканчивающееся на ought. \n",
    "# В противном случае нужно вывести False.\n",
    "\n",
    "# Регистр букв не имеет значения, значит, интересующиеся нас слова могут заканчиваться как на ought, так и, например, на OUGHT\n",
    "\n",
    "line = 'appendix expose ensure salon north'\n",
    "# line = 'food forethought muscle stadium'\n",
    "\n",
    "print(any(list(map(lambda x: x.lower().endswith('ought'), line.split()))))\n"
   ]
  },
  {
   "cell_type": "code",
   "execution_count": 14,
   "metadata": {},
   "outputs": [
    {
     "name": "stdout",
     "output_type": "stream",
     "text": [
      "['680-436-8521x3468', '602.518.4130', '691-498-5303x079']\n"
     ]
    }
   ],
   "source": [
    "# Ваша задача на основании списка persons отобрать информацию о номерах телефона и сложить их в отдельный список phones. \n",
    "# Номера в списке phones должны располагаться в том же порядке, в котором расположены их владельцы в списке persons.\n",
    "\n",
    "persons = [\n",
    "    {\n",
    "        'birthday': '1983-10-25',\n",
    "        'job': 'Field seismologist',\n",
    "        'name': 'Andrew Hernandez',\n",
    "        'phone': '680-436-8521x3468'\n",
    "    },\n",
    "    {\n",
    "        'birthday': '1993-10-03',\n",
    "        'job': 'Pathologist',\n",
    "        'name': 'Paul Harmon',\n",
    "        'phone': '602.518.4130'\n",
    "    },\n",
    "    {\n",
    "        'birthday': '2002-06-11',\n",
    "        'job': 'Designer, multimedia',\n",
    "        'name': 'Gregory Flores',\n",
    "        'phone': '691-498-5303x079'\n",
    "    }\n",
    "]\n",
    "\n",
    "# В качестве ответа выведите переменную phones\n",
    "\n",
    "print(phones := list(map(lambda x: x.get('phone'), persons)))"
   ]
  },
  {
   "cell_type": "code",
   "execution_count": 15,
   "metadata": {},
   "outputs": [
    {
     "name": "stdout",
     "output_type": "stream",
     "text": [
      "['Gerald Tucker', 'Tricia Johnson', 'Robert Mendez', 'Shawn Gutierrez', 'Gary Ross', 'Melanie Warren', 'Drew May', 'Jennifer Carroll', 'Ann Lynn', 'Ralph Vazquez']\n",
      "['Gerald Tucker', 'Tricia Johnson', 'Robert Mendez', 'Shawn Gutierrez', 'Gary Ross', 'Melanie Warren', 'Drew May', 'Jennifer Carroll', 'Ann Lynn', 'Ralph Vazquez']\n",
      "['Gerald Tucker', 'Tricia Johnson', 'Robert Mendez', 'Shawn Gutierrez', 'Gary Ross', 'Melanie Warren', 'Drew May', 'Jennifer Carroll', 'Ann Lynn', 'Ralph Vazquez']\n"
     ]
    }
   ],
   "source": [
    "# Перед вами имеется список кортежей names. \n",
    "# Каждый кортеж состоит из двух элементов: имени и фамилии. \n",
    "# Ваша задача на основании списка names создать новый список new_names, \n",
    "# где каждый кортеж должен замениться на строку конкатенации имени и фамилии, между которыми стоит пробел .\n",
    "\n",
    "#  Вот пример на других данных:\n",
    "# names = [('Monica', 'Waters'), ('Juan', 'Lee'), ('Donna', 'Walker')]\n",
    "\n",
    "# new_names = ['Monica Waters', 'Juan Lee', 'Donna Walker']\n",
    "\n",
    "# В качестве ответа выведите переменную new_names\n",
    "\n",
    "names = [('Gerald', 'Tucker'), ('Tricia', 'Johnson'), ('Robert', 'Mendez'),\n",
    "         ('Shawn', 'Gutierrez'), ('Gary', 'Ross'), ('Melanie', 'Warren'),\n",
    "         ('Drew', 'May'), ('Jennifer', 'Carroll'), ('Ann', 'Lynn'), ('Ralph', 'Vazquez')]\n",
    "\n",
    "print(new_names := list(map(lambda x: f'{x[0]} {x[1]}', names)))\n",
    "print(new_names := list(map(lambda x: '%s %s' % (x[0], x[1]), names)))\n",
    "print(new_names := list(map(' '.join, names)))"
   ]
  },
  {
   "cell_type": "code",
   "execution_count": 16,
   "metadata": {},
   "outputs": [
    {
     "name": "stdout",
     "output_type": "stream",
     "text": [
      "(178, 34, 34)\n",
      "(255, 255, 255)\n"
     ]
    }
   ],
   "source": [
    "# Ваша задача создать функцию from_hex_to_rgb, \n",
    "# которая принимает на вход строку - закодированный код цвета в формате RGB \n",
    "# и возвращает кортеж из трех значений (оттенок_красного, оттенок_зеленого, оттенок_синего). \n",
    "# \n",
    "# Вот посмотрите примеры:\n",
    "# from_hex_to_rgb(#000000) => (0, 0, 0)\n",
    "# from_hex_to_rgb(#FFFFFF) => (255, 255, 255)\n",
    "\n",
    "# Как только функция будет готова, ее необходимо использовать внутри функции convert_to_rgb, \n",
    "# которая принимает список строк, содержащих информацию о цветах в формате RGB. \n",
    "# Функция convert_to_rgb должна расшифровать каждый цвет и вернуть список кортежей.\n",
    "\n",
    "def from_hex_to_rgb(line):\n",
    "    line = line.lstrip('#')\n",
    "    return tuple(int(line[i:i+2], 16) for i in (0, 2, 4))\n",
    "\n",
    "print(from_hex_to_rgb('#B22222'))\n",
    "print(from_hex_to_rgb('#FFFFFF'))\n"
   ]
  },
  {
   "cell_type": "code",
   "execution_count": 17,
   "metadata": {},
   "outputs": [
    {
     "name": "stdout",
     "output_type": "stream",
     "text": [
      "['Four', 'Five', 'Six', 'Seven', 'Nine']\n"
     ]
    }
   ],
   "source": [
    "# Напишите функцию filter_words, которая принимает список строк и возвращает новый список, \n",
    "# который состоит из строк, длина которых четыре символа, или начинающихся на заглавную букву S.\n",
    "\n",
    "def filter_words(lst):\n",
    "    return list(filter(lambda x: len(x) == 4 or x.startswith('S'), lst))\n",
    "\n",
    "filter_words = lambda lst: list(filter(lambda s:len(s) == 4 or s.startswith('S'),lst))\n",
    "\n",
    "days = ['One', 'Two', 'Three', 'Four', 'Five', 'Six',\n",
    "        'Seven', 'Eight', 'Nine', 'Ten', 'Eleven', 'Twelve']\n",
    "print(filter_words(days))"
   ]
  },
  {
   "cell_type": "code",
   "execution_count": 18,
   "metadata": {},
   "outputs": [
    {
     "name": "stdout",
     "output_type": "stream",
     "text": [
      "(36, 27, 9, 63, 45)\n",
      "(36, 27, 9, 63, 45)\n",
      "(36, 27, 9, 63, 45)\n"
     ]
    }
   ],
   "source": [
    "# Сократить код\n",
    "\n",
    "def get_values(nums: tuple[int, ...]) -> tuple[int, ...]:\n",
    "    lst = []\n",
    "\n",
    "    for i in nums:\n",
    "        if i % 3 == 0:\n",
    "            lst.append(i)\n",
    "\n",
    "    for i in range(len(lst)):\n",
    "        lst[i] = lst[i] * 3\n",
    "\n",
    "    return tuple(lst)\n",
    "\n",
    "nums = (2, 12, 5, 9, 3, 16, 7, 13, 21, 1, 15, 4, 20, 11)\n",
    "print(get_values(nums))\n",
    "\n",
    "def get_values(nums: tuple[int, ...]) -> tuple[int, ...]:\n",
    "    lst = list(map(lambda x: x * 3, filter(lambda x: not x % 3, nums)))\n",
    "\n",
    "    return tuple(lst)\n",
    "\n",
    "nums = (2, 12, 5, 9, 3, 16, 7, 13, 21, 1, 15, 4, 20, 11)\n",
    "print(get_values(nums))\n",
    "\n",
    "get_values = lambda nums: tuple(map(lambda x: x * 3, filter(lambda x: not x % 3, nums)))\n",
    "\n",
    "nums = (2, 12, 5, 9, 3, 16, 7, 13, 21, 1, 15, 4, 20, 11)\n",
    "print(get_values(nums))"
   ]
  },
  {
   "cell_type": "code",
   "execution_count": 19,
   "metadata": {},
   "outputs": [
    {
     "name": "stdout",
     "output_type": "stream",
     "text": [
      "((1, 2, 30), (1, 20, 3), (10, 2, 3))\n"
     ]
    }
   ],
   "source": [
    "# Напишите функцию filter_tuples, которая принимает кортеж кортежей из трех числовых значений.\n",
    "\n",
    "# Функция filter_tuples должна вернуть новый кортеж, который состоит только из тех элементов входного кортежа, \n",
    "# произведение значений которых равно 60\n",
    "\n",
    "def filter_tuples(tpl):\n",
    "    return tuple(filter(lambda x: x[0] * x[1] * x[2] == 60, tpl))\n",
    "\n",
    "numbers = (\n",
    "    (1, 2, 3), (1, 2, 30),\n",
    "    (1, 20, 3), (15, 2, 3),\n",
    "    (10, 2, 3), (10, 20, 30),\n",
    ")\n",
    "print(filter_tuples(numbers))"
   ]
  },
  {
   "cell_type": "code",
   "execution_count": 20,
   "metadata": {},
   "outputs": [
    {
     "name": "stdout",
     "output_type": "stream",
     "text": [
      "['Оливье', 'Цезарь', 'Мимоза', 'Овощной', 'Крабовый']\n",
      "2644.85\n"
     ]
    }
   ],
   "source": [
    "# Перед вами список словарей foods, который хранит в себе информацию о меню ресторана. \n",
    "# Проанализируйте ключи и значения, хранящиеся в словарях списка foods, они вам потребуются для задания.\n",
    "\n",
    "foods = [\n",
    "    {'name': \"Стейк Рибай\", 'type_food': \"Основное\", 'price': 75.95},\n",
    "    {'name': \"Ассорти из гигантских креветок\", 'type_food': \"Закуска\", 'price': 2029.95},\n",
    "    {'name': \"Оливье\", 'type_food': \"Салат\", 'price': 329.95},\n",
    "    {'name': \"Цезарь\", 'type_food': \"Салат\", 'price': 14.95},\n",
    "    {'name': \"Огурчики\", 'type_food': \"Закуска\", 'price': 123.95},\n",
    "    {'name': \"Мимоза\", 'type_food': \"Салат\", 'price': 223.95},\n",
    "    {'name': \"Овощной\", 'type_food': \"Салат\", 'price': 310.95},\n",
    "    {'name': \"Картошка фри\", 'type_food': \"Гарнир\", 'price': 234.95},\n",
    "    {'name': \"Спаржа\", 'type_food': \"Гарнир\", 'price': 455.95},    \n",
    "    {'name': \"Крабовый\", 'type_food': \"Салат\", 'price': 563.95},\n",
    "    {'name': \"Стейк Техасский\", 'type_food': \"Основное\", 'price': 1631.95},\n",
    "    {'name': \"Грибы\", 'type_food': \"Гарнир\", 'price': 234.95},\n",
    "    {'name': \"Лосось на гриле\", 'type_food': \"Основное\", 'price': 936.95},\n",
    "]\n",
    "\n",
    "# Ваша задача — найти все имена блюд, которые являются  салатами в списке foods. \n",
    "# Из имен салатов необходимо составить список, элементы которого должны следовать в том же порядке, как и в списке foods.\n",
    "\n",
    "# В качестве ответа выведите на экран найденный список.\n",
    "\n",
    "print(list(map(lambda x: x.get('name'), filter(lambda x: x.get('type_food') == 'Салат', foods))))\n",
    "\n",
    "# Суммарная стоимость основных блюд, округленных до 2 знаков после запятой\n",
    "print(round(sum(map(lambda x: x.get('price'), filter(lambda x: x.get('type_food') == 'Основное', foods))), 2))"
   ]
  },
  {
   "cell_type": "markdown",
   "metadata": {},
   "source": [
    "# 5.9 Декораторы"
   ]
  },
  {
   "cell_type": "code",
   "execution_count": null,
   "metadata": {},
   "outputs": [],
   "source": [
    "# Декораторы полезно использовать, когда вам нужно изменить поведение функции, не изменяя саму функцию. \n",
    "\n",
    "# Наиболее типичные примеры декораторов:\n",
    "# логирование вызова функции,\n",
    "# замер производительности,\n",
    "# кэширование результата работы,\n",
    "# проверка прав доступа и т. д.\n",
    "\n",
    "# Декораторы полезны еще и тем, что они позволяют избежать дублирования кода. \n",
    "# Написав один раз функцию декоратор, вы можете ее использовать для любых своих функций. "
   ]
  },
  {
   "cell_type": "markdown",
   "metadata": {},
   "source": [
    "## Создание декоратора"
   ]
  },
  {
   "cell_type": "code",
   "execution_count": 11,
   "metadata": {},
   "outputs": [
    {
     "name": "stdout",
     "output_type": "stream",
     "text": [
      "Start decorator\n",
      "Hello world\n",
      "Finish decorator\n",
      "--------\n",
      "Start decorator\n",
      "Bye world\n",
      "Finish decorator\n"
     ]
    }
   ],
   "source": [
    "# определяем декоратор\n",
    "def decorator(func):\n",
    "\n",
    "    def wrapper(): # определяем функцию, которая будет подменять поведение оригинальной\n",
    "        print('Start decorator') # вывод перед вызовом оригинальной функции\n",
    "        func()   # вызов оригинальной функции\n",
    "        print('Finish decorator') # вывод после вызова оригинальной функции\n",
    "\n",
    "    return wrapper # возвращаем функцию, которая заменит оригинальную функцию\n",
    "\n",
    "# декорируемая функция, которая передается в декоратор\n",
    "def say_hello():\n",
    "    print('Hello world')\n",
    "\n",
    "# декорируем функцию say_hello\n",
    "say_hello = decorator(say_hello)\n",
    "\n",
    "# вызываем say_hello\n",
    "say_hello()\n",
    "\n",
    "print('--------')\n",
    "\n",
    "# определяем новую функцию say_bye\n",
    "def say_bye():\n",
    "    print('Bye world')\n",
    "\n",
    "# декорируем функцию say_bye\n",
    "say_bye = decorator(say_bye)\n",
    "\n",
    "# вызываем say_bye\n",
    "say_bye()"
   ]
  },
  {
   "cell_type": "code",
   "execution_count": null,
   "metadata": {},
   "outputs": [],
   "source": [
    "# Участок кода:\n",
    "\n",
    "# def say_hello():\n",
    "#     print('Hello world')\n",
    "\n",
    "# say_hello = decorator(say_hello)\n",
    "\n",
    "# Заменим на следующий:\n",
    "\n",
    "# @decorator\n",
    "# def say_hello():\n",
    "#     print('Hello world')\n",
    "\n",
    "# Над декорируемой функцией навешиваем декоратор"
   ]
  },
  {
   "cell_type": "code",
   "execution_count": null,
   "metadata": {},
   "outputs": [
    {
     "name": "stdout",
     "output_type": "stream",
     "text": [
      "Стартуем декоратор\n",
      "hello world\n",
      "Заканчиваем декоратор\n",
      "--------\n",
      "Стартуем декоратор\n",
      "bye world\n",
      "Заканчиваем декоратор\n"
     ]
    }
   ],
   "source": [
    "def decorator(func):\n",
    "    def wrapper():\n",
    "        print('Стартуем декоратор')\n",
    "        func()\n",
    "        print('Заканчиваем декоратор')\n",
    "\n",
    "    return wrapper\n",
    "\n",
    "@decorator\n",
    "def say_hello():\n",
    "    print('hello world')\n",
    "\n",
    "@decorator\n",
    "def say_bye():\n",
    "    print('bye world')\n",
    "\n",
    "say_hello()\n",
    "print('--------')\n",
    "say_bye()"
   ]
  },
  {
   "cell_type": "markdown",
   "metadata": {},
   "source": [
    "## Работа с параметрами и атрибутами при декорировании"
   ]
  },
  {
   "cell_type": "code",
   "execution_count": null,
   "metadata": {},
   "outputs": [
    {
     "name": "stdout",
     "output_type": "stream",
     "text": [
      "Стартуем декоратор\n",
      "hello Vasya Ivanov\n",
      "Заканчиваем декоратор\n"
     ]
    }
   ],
   "source": [
    "def decorator(func):\n",
    "    def wrapper(name_wrapper, surname_wrapper):\n",
    "        print('Стартуем декоратор')\n",
    "        func(name_wrapper, surname_wrapper)\n",
    "        print('Заканчиваем декоратор')\n",
    "    return wrapper\n",
    "\n",
    "@decorator\n",
    "def say_hello_to(name, surname):\n",
    "    print('hello', name, surname)\n",
    "\n",
    "say_hello_to('Vasya', 'Ivanov')"
   ]
  },
  {
   "cell_type": "code",
   "execution_count": 20,
   "metadata": {},
   "outputs": [
    {
     "name": "stdout",
     "output_type": "stream",
     "text": [
      "Стартуем декоратор\n",
      "hello Vasya Ivanov\n",
      "Заканчиваем декоратор\n",
      "Стартуем декоратор\n",
      "Hello Dima\n",
      "Hello Andrei\n",
      "Hello Pasha\n",
      "Заканчиваем декоратор\n"
     ]
    }
   ],
   "source": [
    "# Универсальный декоратор для любого количества как позиционных, так и именованных аргументов\n",
    "\n",
    "# Созадем декоратор\n",
    "def decorator(func):\n",
    "    def wrapper(*args, **kwargs):\n",
    "        print('Стартуем декоратор')\n",
    "        func(*args, **kwargs)\n",
    "        print('Заканчиваем декоратор')\n",
    "    return wrapper\n",
    "\n",
    "# Создаем функции с декоратором\n",
    "@decorator\n",
    "def say_hello_to(name, surname):\n",
    "    print('hello', name, surname)\n",
    "\n",
    "say_hello_to('Vasya', 'Ivanov')\n",
    "\n",
    "@decorator\n",
    "def say_hello_to_all(*args):\n",
    "    for name in args:\n",
    "        print('Hello', name)\n",
    "\n",
    "say_hello_to_all('Dima', 'Andrei', 'Pasha')\n",
    "\n",
    "# 1. объявить параметры во внутренней функции\n",
    "#    def wrapper(*args, **kwargs):\n",
    "# 2. пробросить все принятые аргументы дальше в декорируемую функцию func\n",
    "#    func(*args, **kwargs)"
   ]
  },
  {
   "cell_type": "markdown",
   "metadata": {},
   "source": [
    "## Работа с возвращаемым значением"
   ]
  },
  {
   "cell_type": "code",
   "execution_count": null,
   "metadata": {},
   "outputs": [
    {
     "name": "stdout",
     "output_type": "stream",
     "text": [
      "Стартуем декоратор\n",
      "hello Vasya Ivanov\n",
      "Заканчиваем декоратор\n",
      "res={'args': ('Vasya', 'Ivanov'), 'kwargs': {}}\n",
      "False\n"
     ]
    }
   ],
   "source": [
    "def decorator(func):\n",
    "    def wrapper(*args, **kwargs):\n",
    "        print('Стартуем декоратор')\n",
    "        func(*args, **kwargs)\n",
    "        print('Заканчиваем декоратор')\n",
    "        return {'args': args, 'kwargs': kwargs}\n",
    "\n",
    "    return wrapper\n",
    "\n",
    "\n",
    "@decorator\n",
    "def say_hello_to(name, surname):\n",
    "    print('hello', name, surname)\n",
    "\n",
    "\n",
    "res = say_hello_to('Vasya', 'Ivanov')\n",
    "print(f'{res=}')\n",
    "print(res is None)"
   ]
  },
  {
   "cell_type": "code",
   "execution_count": null,
   "metadata": {},
   "outputs": [
    {
     "name": "stdout",
     "output_type": "stream",
     "text": [
      "Стартуем декоратор\n",
      "Функция func вернула значение \"Hello Vasya Ivanov\"\n",
      "Заканчиваем декоратор\n",
      "res='Hello Vasya Ivanov'\n",
      "False\n"
     ]
    }
   ],
   "source": [
    "# Присваиваем переменной func_res значение декорируемой (оригинальной) функции\n",
    "\n",
    "def decorator(func):\n",
    "    def wrapper(*args, **kwargs):\n",
    "        print('Стартуем декоратор')\n",
    "\n",
    "        func_res = func(*args, **kwargs)\n",
    "\n",
    "        print(f'Функция func вернула значение \"{func_res}\"')\n",
    "        print('Заканчиваем декоратор')\n",
    "        return func_res # изменили возвращаемое значение\n",
    "    return wrapper\n",
    "\n",
    "\n",
    "@decorator\n",
    "def say_hello_to(name, surname):\n",
    "    return f'Hello {name} {surname}'\n",
    "\n",
    "\n",
    "res = say_hello_to('Vasya', 'Ivanov')\n",
    "print(f'{res=}')\n",
    "print(res is None)"
   ]
  },
  {
   "cell_type": "code",
   "execution_count": 25,
   "metadata": {},
   "outputs": [
    {
     "name": "stdout",
     "output_type": "stream",
     "text": [
      "Функция func вернула значение \"Hello Vasya Ivanov\"\n",
      "res='hELLO vASYA iVANOV'\n",
      "Функция func вернула значение \"Hello gennadi LOSKOV\"\n",
      "hELLO GENNADI loskov\n"
     ]
    }
   ],
   "source": [
    "# Ещё примеры использования декораторов\n",
    "\n",
    "# Например, мы можем изменить результат функции say_hello_to таким образом, \n",
    "# чтобы все заглавные буквы стали строчными, а строчные - заглавными.\n",
    "\n",
    "def swapcase(func):\n",
    "    def wrapper(*args, **kwargs):\n",
    "        func_res = func(*args, **kwargs)\n",
    "        print(f'Функция func вернула значение \"{func_res}\"')\n",
    "        return func_res.swapcase()\n",
    "    return wrapper\n",
    "\n",
    "@swapcase\n",
    "def say_hello_to(name, surname):\n",
    "    return f'Hello {name} {surname}'\n",
    "\n",
    "res = say_hello_to('Vasya', 'Ivanov')\n",
    "print(f'{res=}')\n",
    "\n",
    "print(say_hello_to('gennadi', 'LOSKOV'))"
   ]
  },
  {
   "cell_type": "code",
   "execution_count": 26,
   "metadata": {},
   "outputs": [
    {
     "name": "stdout",
     "output_type": "stream",
     "text": [
      "res='<h1>Hello Vasya Ivanov</h1>'\n",
      "<h1>Hello gennadi LOSKOV</h1>\n"
     ]
    }
   ],
   "source": [
    "# Пример реализации декоратора header_h1, \n",
    "# который по правилам html-кода обрамляет строку в открывающийся тег <h1> и закрывающийся тег </h1>.\n",
    "\n",
    "def header_h1(func):\n",
    "    def wrapper(*args, **kwargs):\n",
    "        result = func(*args, **kwargs)\n",
    "        return f'<h1>{result}</h1>'\n",
    "\n",
    "    return wrapper\n",
    "\n",
    "@header_h1\n",
    "def say_hello_to(name, surname):\n",
    "    return f'Hello {name} {surname}'\n",
    "\n",
    "res = say_hello_to('Vasya', 'Ivanov')\n",
    "print(f'{res=}')\n",
    "\n",
    "print(say_hello_to('gennadi', 'LOSKOV'))"
   ]
  },
  {
   "cell_type": "code",
   "execution_count": null,
   "metadata": {},
   "outputs": [],
   "source": []
  }
 ],
 "metadata": {
  "kernelspec": {
   "display_name": "base",
   "language": "python",
   "name": "python3"
  },
  "language_info": {
   "codemirror_mode": {
    "name": "ipython",
    "version": 3
   },
   "file_extension": ".py",
   "mimetype": "text/x-python",
   "name": "python",
   "nbconvert_exporter": "python",
   "pygments_lexer": "ipython3",
   "version": "3.12.9"
  }
 },
 "nbformat": 4,
 "nbformat_minor": 2
}
