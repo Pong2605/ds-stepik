{
  "cells": [
    {
      "cell_type": "markdown",
      "metadata": {
        "id": "gzgdnuYZ5zgN"
      },
      "source": [
        "# Краткий обзор основных возможностей языка Python"
      ]
    },
    {
      "cell_type": "markdown",
      "metadata": {
        "id": "l5T2Sx4J54xJ"
      },
      "source": [
        "## Содержание"
      ]
    },
    {
      "cell_type": "markdown",
      "metadata": {
        "id": "2PRC3ErF57TV"
      },
      "source": [
        "*   История возникновения\n",
        "*   Ключевые особенности\n",
        "*   Преимущества и недостатки\n",
        "*   Дзен Пайтона\n",
        "*   Инструменты\n",
        "*   Область применения"
      ]
    },
    {
      "cell_type": "markdown",
      "metadata": {
        "id": "wsRcqYEF2PCV"
      },
      "source": [
        "## История возникновения"
      ]
    },
    {
      "cell_type": "markdown",
      "metadata": {
        "id": "VwwTNWpV2Syp"
      },
      "source": [
        "Создатель языка: Гвидо ван Россум (Guido Van Rossum)\n",
        "\n",
        "\n",
        "---\n",
        "Python 0.9 — 20 февраля 1991 года\n",
        "Python 1.0 — 26 января 1994 года\n",
        "Python 2.0 — 16 октября 2000 года\n",
        "Python 2.7 — 3 июля 2010 года\n",
        "Python 3.0 — 3 декабря 2008 года\n",
        "...\n",
        "Python 3.8 — 14 октября 2019 года\n",
        "Python 3.9 — 5 октября 2020 года\n",
        "Python 3.10 — 4 октября 2021 года\n",
        "Python 3.11 — 24 октября 2022 года\n",
        "\n",
        "---\n",
        "[Документация Python](https://www.python.org/)"
      ]
    },
    {
      "cell_type": "code",
      "execution_count": 29,
      "metadata": {
        "id": "3tWOBg2u5BEz"
      },
      "outputs": [
        {
          "name": "stdout",
          "output_type": "stream",
          "text": [
            "Python 3.12.3\n"
          ]
        }
      ],
      "source": [
        "# используемая версия\n",
        "!python --version"
      ]
    },
    {
      "cell_type": "markdown",
      "metadata": {
        "id": "g2JkuNhq7w8H"
      },
      "source": [
        "## Ключевые особенности"
      ]
    },
    {
      "cell_type": "markdown",
      "metadata": {
        "id": "C-bccOOGXw9R"
      },
      "source": [
        "### Высокоуровневый"
      ]
    },
    {
      "cell_type": "code",
      "execution_count": 30,
      "metadata": {
        "id": "lNO4iIG6X4TK"
      },
      "outputs": [
        {
          "name": "stdout",
          "output_type": "stream",
          "text": [
            "Это просто строка!\n"
          ]
        }
      ],
      "source": [
        "print(\"Это просто строка!\")"
      ]
    },
    {
      "cell_type": "markdown",
      "metadata": {
        "id": "n_M_pLItYQfY"
      },
      "source": [
        "### Интерпретируемый"
      ]
    },
    {
      "cell_type": "code",
      "execution_count": 31,
      "metadata": {
        "id": "EeMZl2UXYR62"
      },
      "outputs": [
        {
          "name": "stdout",
          "output_type": "stream",
          "text": [
            "Здравствуйте!\n",
            "Приятно познакомиться, Nikita\n"
          ]
        }
      ],
      "source": [
        "print(\"Здравствуйте!\")\n",
        "# name = input(\"Представьтесь, пожалуйста: \")\n",
        "name = 'Nikita'\n",
        "print(\"Приятно познакомиться,\", name)"
      ]
    },
    {
      "cell_type": "markdown",
      "metadata": {
        "id": "LybaRW2Xa6jV"
      },
      "source": [
        "### Императивный"
      ]
    },
    {
      "cell_type": "code",
      "execution_count": 32,
      "metadata": {
        "id": "b5IQtyy7a8gp"
      },
      "outputs": [
        {
          "name": "stdout",
          "output_type": "stream",
          "text": [
            "Тогда остаемся дома 😞\n"
          ]
        }
      ],
      "source": [
        "# answer = input(\"На улице солнечно? (Да / Нет) \\n\")\n",
        "answer = 'Нет'\n",
        "if answer == 'Да':\n",
        "  print(\"Мы идем на улицу!\")\n",
        "else:\n",
        "  print(\"Тогда остаемся дома 😞\")"
      ]
    },
    {
      "cell_type": "markdown",
      "metadata": {
        "id": "9tpNJcWaeJXj"
      },
      "source": [
        "### Динамически типизированный (сильно!)"
      ]
    },
    {
      "cell_type": "markdown",
      "metadata": {
        "id": "2jpMFP3derq7"
      },
      "source": [
        "Пример *слабой* типизации на JavaScript\n",
        "`some_variable = 1 + '1'`\n",
        "\n",
        "Какое значение будет храниться в переменной `some_variable`?"
      ]
    },
    {
      "cell_type": "code",
      "execution_count": 33,
      "metadata": {
        "id": "X26WKghofSNs"
      },
      "outputs": [],
      "source": [
        "# some_variable = 1 + '1'"
      ]
    },
    {
      "cell_type": "markdown",
      "metadata": {
        "id": "7UVD7u2efdHG"
      },
      "source": [
        "Динамическая типизация означает, что типы объектов определяются в процессе исполнения программы"
      ]
    },
    {
      "cell_type": "code",
      "execution_count": 34,
      "metadata": {
        "id": "jO2ni49EfpdG"
      },
      "outputs": [],
      "source": [
        "current_year = \"two thousand twenty-three\"\n",
        "current_year = 2023"
      ]
    },
    {
      "cell_type": "markdown",
      "metadata": {
        "id": "UasAUqdkZS6c"
      },
      "source": [
        "### Объектно-ориентированный"
      ]
    },
    {
      "cell_type": "code",
      "execution_count": 35,
      "metadata": {
        "id": "7y_7PzJGZs17"
      },
      "outputs": [],
      "source": [
        "# объект СОБАКА\n",
        "class Dog:\n",
        "\n",
        "    # атрибуты экземпляра\n",
        "    def __init__(self, nickname, breed, age):\n",
        "        self.nickname = nickname\n",
        "        self.breed = breed\n",
        "        self.age = age\n",
        "\n",
        "    # метод экземпляра\n",
        "    def bark(self):\n",
        "        return f\"{self.nickname} лает: гав-гав-гав!\""
      ]
    },
    {
      "cell_type": "code",
      "execution_count": 36,
      "metadata": {
        "id": "L7rFwvbLaWfy"
      },
      "outputs": [
        {
          "data": {
            "text/plain": [
              "'Шарик лает: гав-гав-гав!'"
            ]
          },
          "execution_count": 36,
          "metadata": {},
          "output_type": "execute_result"
        }
      ],
      "source": [
        "dog = Dog(\"Шарик\", \"овчарка\", 2)\n",
        "dog.bark()"
      ]
    },
    {
      "cell_type": "markdown",
      "metadata": {
        "id": "W8jx5U7GhZ1z"
      },
      "source": [
        "## Дзен Пайтона"
      ]
    },
    {
      "cell_type": "markdown",
      "metadata": {
        "id": "_zEv9xPIhc4i"
      },
      "source": [
        "Дзен Пайтона — философии программирования от Тима Петерса (PEP20), состоит из 19 «руководящих принципов» написания компьютерных программ, влияющих на структуру языка программирования Python."
      ]
    },
    {
      "cell_type": "code",
      "execution_count": 37,
      "metadata": {
        "colab": {
          "base_uri": "https://localhost:8080/"
        },
        "id": "jb2nkHP2hibe",
        "outputId": "5a89c84e-c9ca-4ce1-a6c4-05f40caa5d00"
      },
      "outputs": [],
      "source": [
        "import this"
      ]
    },
    {
      "cell_type": "markdown",
      "metadata": {
        "id": "7tTLNq_I7ziM"
      },
      "source": [
        "## Преимущества и недостатки"
      ]
    },
    {
      "cell_type": "markdown",
      "metadata": {
        "id": "F8xGEx2n72gH"
      },
      "source": [
        "### Простота и читабельность кода"
      ]
    },
    {
      "cell_type": "code",
      "execution_count": 38,
      "metadata": {
        "id": "oiDc6OQlicD6"
      },
      "outputs": [
        {
          "name": "stdout",
          "output_type": "stream",
          "text": [
            "3628800\n"
          ]
        }
      ],
      "source": [
        "# n = int(input('Попробуем посчитать факториал числа. Введите n: '))\n",
        "\n",
        "n = 10\n",
        "\n",
        "if n < 0:\n",
        "    raise ValueError('Вы должны ввести неотрицательное целое число')\n",
        "\n",
        "factorial = 1\n",
        "for i in range(2, n + 1):\n",
        "    factorial *= i\n",
        "\n",
        "print(factorial)"
      ]
    },
    {
      "cell_type": "markdown",
      "metadata": {
        "id": "WySdIGsSkLu4"
      },
      "source": [
        "### Большая библиотека"
      ]
    },
    {
      "cell_type": "code",
      "execution_count": 39,
      "metadata": {
        "id": "hIXj8k9OkZbv"
      },
      "outputs": [],
      "source": [
        "import math"
      ]
    },
    {
      "cell_type": "code",
      "execution_count": 40,
      "metadata": {
        "id": "ZQgIweUmkaju"
      },
      "outputs": [
        {
          "data": {
            "text/plain": [
              "6"
            ]
          },
          "execution_count": 40,
          "metadata": {},
          "output_type": "execute_result"
        }
      ],
      "source": [
        "math.factorial(3)"
      ]
    },
    {
      "cell_type": "markdown",
      "metadata": {
        "id": "pzzVO4iIkljF"
      },
      "source": [
        "### Мультиплатформенность и Мультипарадигменность"
      ]
    },
    {
      "cell_type": "code",
      "execution_count": 41,
      "metadata": {
        "colab": {
          "base_uri": "https://localhost:8080/"
        },
        "id": "osXTWhSkks7W",
        "outputId": "7c3bdf7c-c276-4d5f-ca8e-018981b4b833"
      },
      "outputs": [
        {
          "name": "stdout",
          "output_type": "stream",
          "text": [
            "[1, 4, 9, 16, 25]\n"
          ]
        }
      ],
      "source": [
        "print(list(map(lambda x: x**2, [1, 2, 3, 4, 5])))"
      ]
    },
    {
      "cell_type": "markdown",
      "metadata": {
        "id": "vOLo6hzJlH1g"
      },
      "source": [
        "### Недостатки?"
      ]
    },
    {
      "cell_type": "markdown",
      "metadata": {
        "id": "vDMonPHLlRrW"
      },
      "source": [
        "\n",
        "*   низкая производительность\n",
        "*   глобальная блокировка интерпретатора (GIL)\n"
      ]
    },
    {
      "cell_type": "markdown",
      "metadata": {
        "id": "yTOQDAE2vW6x"
      },
      "source": [
        "## Инструменты"
      ]
    },
    {
      "cell_type": "markdown",
      "metadata": {
        "id": "8l1MOwOhwQ31"
      },
      "source": [
        "**[Google Colaboratory](https://colab.research.google.com/)** - онлайн-сервис, предоставляющий возможность работы в интерактивной облачной среде, схожей с Jupyter Notebook\n",
        "\n",
        "**[Anaconda](https://www.anaconda.com/)** - менеджер пакетов Python, используемых для анализа данных и машинного обучения\n",
        "\n",
        "**[PyCharm](https://www.jetbrains.com/pycharm/)** - профессиональная интерактивная среда (IDE) программирования для языка Python\n",
        "\n",
        "**[Visual Studio Code](https://code.visualstudio.com/)** - *лёгкий* редактор кода"
      ]
    },
    {
      "cell_type": "markdown",
      "metadata": {
        "id": "ZiF-pQYtMME5"
      },
      "source": [
        "## Область применения"
      ]
    },
    {
      "cell_type": "markdown",
      "metadata": {
        "id": "RKwP3vLwMME7"
      },
      "source": [
        "### Веб-разработка"
      ]
    },
    {
      "cell_type": "markdown",
      "metadata": {
        "id": "B1WSUFEtMME7"
      },
      "source": [
        "**Фреймворки**\n",
        "\n",
        "*   Django\n",
        "*   Flask\n",
        "*   FastAPI\n",
        "*   aiohttp\n",
        "*   ..."
      ]
    },
    {
      "cell_type": "markdown",
      "metadata": {
        "id": "OxkrM96KQm4f"
      },
      "source": [
        "### Парсинг, тестирование, DevOps"
      ]
    },
    {
      "cell_type": "markdown",
      "metadata": {
        "id": "2VB4acPaQseZ"
      },
      "source": [
        "**Библиотеки для сбора данных**\n",
        "\n",
        "*   Requests\n",
        "*   Beautiful Soup\n",
        "*   Scrapy\n",
        "*   Selenium\n",
        "\n"
      ]
    },
    {
      "cell_type": "markdown",
      "metadata": {
        "id": "rRw-CiyUQ-8V"
      },
      "source": [
        "**Фреймворки для тестирования**\n",
        "\n",
        "\n",
        "*   [PyTest](https://docs.pytest.org/)\n",
        "*   [Unittest](https://docs.python.org/3/library/unittest.html)\n",
        "*   [Behave](https://behave.readthedocs.io/en/latest/)\n",
        "\n"
      ]
    },
    {
      "cell_type": "markdown",
      "metadata": {
        "id": "pOUZz2f6MME8"
      },
      "source": [
        "### Анализ данных и машинное обучение"
      ]
    },
    {
      "cell_type": "markdown",
      "metadata": {
        "id": "hRZsiduOMME8"
      },
      "source": [
        "**Библиотеки**\n",
        "\n",
        "*   NumPy (математика)\n",
        "*   SciPy (сложная математика: интегралы, диффуры)\n",
        "*   statsmodels (статистический анализ данных: байесовские модели, статистические тесты, проверка гипотез)\n",
        "*   Pandas (табличные данные: обработка, очистка, первичный анализ и так далее)\n",
        "*   Matplotlib (графики)\n",
        "*   Seaborn (*красивые* графики)\n",
        "*   Plotly (трехмерные графики)\n",
        "*   Bokeh (интерактивные графики)\n",
        "*   Scikit‑learn (машинное обучение)\n",
        "*   Streamlit (развертывание моделей)\n",
        "*   PyTorch (глубинное обучение)"
      ]
    },
    {
      "cell_type": "markdown",
      "metadata": {
        "id": "WIRVmURu_Wve"
      },
      "source": [
        "## Дополнительные ссылки и материалы"
      ]
    },
    {
      "cell_type": "markdown",
      "metadata": {
        "id": "00aq2eHA_dHz"
      },
      "source": [
        "*   [Короткое и эффективное введение в Pandas](https://pandas.pydata.org/docs/user_guide/10min.html)\n",
        "*   [Примеры визуализаций (Seaborn)](https://seaborn.pydata.org/examples/index.html)\n",
        "*   [Примеры визуализаций (Plotly)](https://plotly.com/python/)"
      ]
    },
    {
      "cell_type": "markdown",
      "metadata": {
        "id": "mj442Yc5elhX"
      },
      "source": [
        "# Курсы сообщества AI Education"
      ]
    },
    {
      "cell_type": "markdown",
      "metadata": {
        "id": "xGBGQoJHerXF"
      },
      "source": [
        "**Интенсивы**\n",
        "\n",
        "---\n",
        "[Разведочный анализ данных](https://stepik.org/a/177213)\n",
        "\n",
        "На интенсиве вы познакомитесь с основными и продвинутыми подходами анализа данных:\n",
        "  * Научитесь исследовать данные при помощи современных библиотек (NumPy, Pandas, Polars, Matplotlib, Seaborn)\n",
        "  * Обучите свою первую модель машинного обучения\n",
        "  * Построите интерактивный дашборд при помощи инструмента ExplainerDashboard\n",
        "  * Начнете использовать такие инструменты разработчика как Git и Docker\n",
        "\n",
        "\n",
        "[Линейные модели и их презентация](https://stepik.org/a/177215)  \n",
        "\n",
        "В курсе вы не только разберете теоретическую сторону предмета, но и узнаете как использовать модели на практике:\n",
        "  * Будете оценивать качество моделей регрессии и классификации\n",
        "  * Проходить все этапы задачи ML: от разведочного анализа до получения прогноза и его интерпретации\n",
        "  * Cтроить интерактивные дашборды при помощи библиотеки Streamlit\n",
        "  * Cоздавать веб-сервисы с использованием фреймворка FastApi\n",
        "\n",
        "\n",
        "В каждом интенсиве по 9 вебинаров (4 по анализу данных / 4 по разработке / финальный с подведением итогов и защитой проектов по желанию)."
      ]
    },
    {
      "cell_type": "markdown",
      "metadata": {
        "id": "6kgj3lNIst6t"
      },
      "source": [
        "**Курсы**\n",
        "\n",
        "---\n",
        "\n",
        "[Практический Machine Learning](https://stepik.org/a/125501)\n",
        "\n",
        "  * Курс посвящен изучению всех основных задач и подходов в машинном обучении. Курс дает как теорию методов, так и обширную практику.\n",
        "  * За 16 недель курса вы пройдете путь практически с нуля в машинном обучении до уверенного владения основными алгоритмами и подходами.\n",
        "\n",
        "[Прикладные задачи машинного обучения](https://stepik.org/a/175967)\n",
        "\n",
        "* В курсе подробно разобраны следующие темы:\n",
        "\n",
        "  * построение рекомендательных систем\n",
        "  * анализ временных рядов\n",
        "  * продвинутые методы интерпретации ML-моделей\n",
        "  * AutoML\n",
        "\n",
        "* Курс находится в процессе наполнения, в нем будут появляться новые актуальные и прикладные в ML-темы."
      ]
    }
  ],
  "metadata": {
    "colab": {
      "provenance": [],
      "toc_visible": true
    },
    "kernelspec": {
      "display_name": "base",
      "language": "python",
      "name": "python3"
    },
    "language_info": {
      "codemirror_mode": {
        "name": "ipython",
        "version": 3
      },
      "file_extension": ".py",
      "mimetype": "text/x-python",
      "name": "python",
      "nbconvert_exporter": "python",
      "pygments_lexer": "ipython3",
      "version": "3.12.3"
    }
  },
  "nbformat": 4,
  "nbformat_minor": 0
}
