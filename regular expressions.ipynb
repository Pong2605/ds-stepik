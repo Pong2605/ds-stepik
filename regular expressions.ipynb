{
 "cells": [
  {
   "cell_type": "code",
   "execution_count": 1,
   "metadata": {},
   "outputs": [],
   "source": [
    "import re"
   ]
  },
  {
   "cell_type": "code",
   "execution_count": 2,
   "metadata": {},
   "outputs": [],
   "source": [
    "# Регулярное выражение (Regular Expression, RegEx) - это эффективный инструмент для сопоставления текста на основе заранее определенного шаблона. \n",
    "# Регулярные выражения позволяют найти строки или наборы строк в тексте, используя специализированный синтаксис, с помощью которого описывается шаблон для поиска.\n",
    "\n",
    "# Некоторые символы регулярных выражений:\n",
    "# . - означает, что на месте точки может быть любой символ, кроме символа новой строки (\\n). Например, 20.. год;\n",
    "# [...] - любой символ из указанных в скобках. Символы можно задавать как перечислением, так и указывая диапазон через дефис. Например, [a-z], [А-Яа-яЁё], [0-9];\n",
    "# [^...] - любой символ, кроме указанных в скобках. Например, [^abcdef];\n",
    "# ^ - начало строки. Например, ^Уважаемый;\n",
    "# $ - конец строки. Например, Спасибо, что остаетесь с нами. Вы важны для нас!$."
   ]
  },
  {
   "cell_type": "markdown",
   "metadata": {},
   "source": [
    "# 2.2 \"Сырые\" строки | Raw strings"
   ]
  },
  {
   "cell_type": "code",
   "execution_count": 3,
   "metadata": {},
   "outputs": [],
   "source": [
    "# Чтобы строка стала «сырой», перед ней необходимо поставить символ r в любом регистре:\n",
    "\n",
    "common_string = 'C:\\file.txt' # Обычная строка\n",
    "raw_string = r'C:\\file.txt' # Сырая строка"
   ]
  },
  {
   "cell_type": "code",
   "execution_count": 4,
   "metadata": {},
   "outputs": [
    {
     "name": "stdout",
     "output_type": "stream",
     "text": [
      "C:\\file.txt\n",
      "C:\\file.txt\n"
     ]
    }
   ],
   "source": [
    "# Можно использовать несколько префиксов сразу. \n",
    "\n",
    "# Используем 2 префикса одновременно:\n",
    "\n",
    "raw_f_string = rf'C:\\file.txt'\n",
    "f_raw_string = fr'C:\\file.txt'\n",
    "\n",
    "print(raw_f_string)\n",
    "print(f_raw_string)"
   ]
  },
  {
   "cell_type": "markdown",
   "metadata": {},
   "source": [
    "# 2.3 Экранирование в строках и в регулярных выражениях"
   ]
  },
  {
   "cell_type": "code",
   "execution_count": 5,
   "metadata": {},
   "outputs": [
    {
     "name": "stdout",
     "output_type": "stream",
     "text": [
      "0123456789abcdefghijklmnopqrstuvwxyzABCDEFGHIJKLMNOPQRSTUVWXYZ!\"#$%&'()*+,-./:;<=>?@[\\]^_`{|}~ \t\n",
      "\u000b\f\n"
     ]
    }
   ],
   "source": [
    "# Если для тестирования регулярных выражений вам понадобится английский/русский алфавит, цифры, или символы - можете воспользоваться следующей строчкой:\n",
    "# <=>?@ABCDEFGHIJKLMNOPQRSTUVWXYZ[]^_`abcdefghijklmnopqrstuvwxyz{|}~абвгдеёжзийклмнопрстуфхцчшщъыьэюяАБВГДЕЁЖЗИЙКЛМНОПРСТУФХЦЧШЩЪЫЬЭЮЯ !\"#$%&\\'()*+,-./0123456789:;\n",
    "\n",
    "# Ну или можете получить похожую строчку в Python вот таким способом:\n",
    "\n",
    "from string import printable\n",
    "\n",
    "print(printable)"
   ]
  },
  {
   "cell_type": "code",
   "execution_count": 6,
   "metadata": {},
   "outputs": [
    {
     "name": "stdout",
     "output_type": "stream",
     "text": [
      "*   \n"
     ]
    }
   ],
   "source": [
    "# Импортируем из модуля re единственное что нужно сейчас для проверки регулярных выражений\n",
    "import re\n",
    "\n",
    "# Вводим наш текст в переменную string:\n",
    "string = 'fsdfdsf.mе&r!kX\\q<ЫlХювк*ШЛ/PWЖЁRЩ-NнОaбъСНлdй(ф^4{sZjИ`@жЮБF7\"ЕoиэП:Ьуь~№[0A+%_сGQv)ё$MuUSТCГя50ЦnДE;9АJ]В'\n",
    "\n",
    "# Вводим эту странную мешанину из символов, которую здесь регулярными выражениями зовут:\n",
    "regex = r'(?<=[^ё$MuUSТCГя50ЦnДE;9АJ])(?:\\**?)(?=[ШП9В9фвфЛ]*/)'\n",
    "\n",
    "# И наконец печатаем на экран что получилось найти:\n",
    "print(*re.findall(regex, string))"
   ]
  },
  {
   "cell_type": "code",
   "execution_count": 7,
   "metadata": {},
   "outputs": [
    {
     "data": {
      "text/plain": [
       "['Привет', 'Привет']"
      ]
     },
     "execution_count": 7,
     "metadata": {},
     "output_type": "execute_result"
    }
   ],
   "source": [
    "# 2.5 Знакомство с регулярными выражениями (синтаксис)\n",
    "\n",
    "string = 'Мир, привет. Привет, мир. Привет!'\n",
    "\n",
    "regex = r'Привет'\n",
    "re.findall(regex, string)"
   ]
  },
  {
   "cell_type": "code",
   "execution_count": 8,
   "metadata": {},
   "outputs": [
    {
     "name": "stdout",
     "output_type": "stream",
     "text": [
      "[' ты ']\n",
      "['ты']\n"
     ]
    }
   ],
   "source": [
    "# Пробел VS \\b\n",
    "\n",
    "# 1. Выражение r\" ты \" найдет ты окруженное пробелами вместе с пробелами, т.е. \" ты \"\n",
    "# 2. Выражение r\"\\bты\\b\"  найдет ты в чистом виде, рядом с которым не стоит буква, цифра или _\n",
    "\n",
    "string = 'Привет, ты когда успел купить банты и цветы?'\n",
    "\n",
    "regex = r' ты '\n",
    "print(re.findall(regex, string))\n",
    "\n",
    "regex = r'\\bты\\b'\n",
    "print(re.findall(regex, string))"
   ]
  },
  {
   "cell_type": "code",
   "execution_count": 9,
   "metadata": {},
   "outputs": [
    {
     "name": "stdout",
     "output_type": "stream",
     "text": [
      "['\\n', '\\n', '\\n']\n"
     ]
    }
   ],
   "source": [
    "# Напишите регулярное выражение, которое найдёт все последовательности \\n в тексте.\n",
    "\n",
    "string = f' *Пополнение счета*:\\n\\nQIWI: +7+++++++ \\nКомментарий к платежу:...'\n",
    "\n",
    "regex = r'\\n'\n",
    "print(re.findall(regex, string))"
   ]
  },
  {
   "cell_type": "code",
   "execution_count": 10,
   "metadata": {},
   "outputs": [
    {
     "name": "stdout",
     "output_type": "stream",
     "text": [
      "Переносим\\nстроку\n",
      "\\\\'\n",
      "Переносим\\nстроку\n",
      "\\\\'\n",
      "\\\\\\'\n",
      "\\\\\\'\n"
     ]
    }
   ],
   "source": [
    "# Отключаем экранирование всей строки префиксом r:\n",
    "print(r\"Переносим\\nстроку\")\n",
    "print(r\"\\\\'\")\n",
    "\n",
    "# Отключаем экранирование каждой последовательности с помощью слешей:\n",
    "print(\"Переносим\\\\nстроку\")\n",
    "print(\"\\\\\\\\'\")\n",
    "\n",
    "print('\\\\\\\\\\\\\\'')\n",
    "print(r'\\\\\\'')"
   ]
  },
  {
   "cell_type": "code",
   "execution_count": 11,
   "metadata": {},
   "outputs": [
    {
     "name": "stdout",
     "output_type": "stream",
     "text": [
      "5\\n + \\n2\\n = \\n7\n",
      "5\\n + \\n2\\n = \\n7\n"
     ]
    }
   ],
   "source": [
    "# На вход программе подаётся два целых числа a и b, каждое на новой строке.\n",
    "\n",
    "# Выведите в консоль строку вида: a\\n + \\nb\\n = \\nc, где a и  b - полученные числа, а c - их сумма.\n",
    "\n",
    "a, b = 5, 2\n",
    "\n",
    "print(fr'{a}\\n + \\n{b}\\n = \\n{a + b}')\n",
    "\n",
    "(lambda a, b: print(rf'{a}\\n + \\n{b}\\n = \\n{a+b}'))(5, 2)"
   ]
  },
  {
   "cell_type": "code",
   "execution_count": 12,
   "metadata": {},
   "outputs": [
    {
     "data": {
      "text/plain": [
       "['00', '00']"
      ]
     },
     "execution_count": 12,
     "metadata": {},
     "output_type": "execute_result"
    }
   ],
   "source": [
    "# Пересечения\n",
    "\n",
    "s = '00000'\n",
    "\n",
    "regex = r'00'\n",
    "\n",
    "re.findall(regex, s)\n",
    "\n",
    "# Нашел непересекающиеся значения"
   ]
  },
  {
   "cell_type": "markdown",
   "metadata": {},
   "source": [
    "# 2.6 Диапазоны | Квадратные скобки"
   ]
  },
  {
   "cell_type": "markdown",
   "metadata": {},
   "source": [
    "## Поиск указанных символов"
   ]
  },
  {
   "cell_type": "code",
   "execution_count": 13,
   "metadata": {},
   "outputs": [
    {
     "data": {
      "text/plain": [
       "'[12]7[56]'"
      ]
     },
     "execution_count": 13,
     "metadata": {},
     "output_type": "execute_result"
    }
   ],
   "source": [
    "r'[cr1]'     # Найдёт c, r, и 1\n",
    "r'[cr]at'    # Найдёт слова cat и rat\n",
    "r'[12]7[56]' # Найдёт 175, 176, 275, 276"
   ]
  },
  {
   "cell_type": "code",
   "execution_count": 14,
   "metadata": {},
   "outputs": [
    {
     "data": {
      "text/plain": [
       "['r', '1', 'c', 'c', '1', 'c', 'r', 'r']"
      ]
     },
     "execution_count": 14,
     "metadata": {},
     "output_type": "execute_result"
    }
   ],
   "source": [
    "# От перестановки символов результат не меняется:\n",
    "\n",
    "r'[cr1]' # Найдёт c, r, и 1\n",
    "r'[rc1]' # Найдёт c, r, и 1\n",
    "r'[1cr]' # Найдёт c, r, и 1\n",
    "r'[1rc]' # Найдёт c, r, и 1\n",
    "r'[c1r]' # Найдёт c, r, и 1\n",
    "r'[r1c]' # Найдёт c, r, и 1\n",
    "# Все регулярные выражения сверху выдают один и тот же результат\n",
    "\n",
    "string = 'rasd1fascasdca1sadfgkcrerfas'\n",
    "\n",
    "regex = r'[r1c]'\n",
    "\n",
    "re.findall(regex, string)"
   ]
  },
  {
   "cell_type": "markdown",
   "metadata": {},
   "source": [
    "## Исключение символов"
   ]
  },
  {
   "cell_type": "code",
   "execution_count": 15,
   "metadata": {},
   "outputs": [
    {
     "data": {
      "text/plain": [
       "'[^12]7'"
      ]
     },
     "execution_count": 15,
     "metadata": {},
     "output_type": "execute_result"
    }
   ],
   "source": [
    "r'[^12]'  # Найдёт всё, кроме 1 и 2\n",
    "r'[^12]7' # Найдёт все последовательности, что заканчиваются на 7, и не начинаются на 1 и 2"
   ]
  },
  {
   "cell_type": "code",
   "execution_count": 16,
   "metadata": {},
   "outputs": [
    {
     "data": {
      "text/plain": [
       "'[\\\\^0]_[\\\\^0]'"
      ]
     },
     "execution_count": 16,
     "metadata": {},
     "output_type": "execute_result"
    }
   ],
   "source": [
    "# Если символ ^ не стоит в начале скобок или он экранирован - он воспринимается как обычный текст:\n",
    "\n",
    "r'[0^]_[0^]' # Найдёт 0_0, 0_^, ^_0, ^_^\n",
    "r'[\\^0]_[\\^0]' # Найдёт 0_0, 0_^, ^_0, ^_^"
   ]
  },
  {
   "cell_type": "code",
   "execution_count": 17,
   "metadata": {},
   "outputs": [
    {
     "data": {
      "text/plain": [
       "['Loser', 'Lover']"
      ]
     },
     "execution_count": 17,
     "metadata": {},
     "output_type": "execute_result"
    }
   ],
   "source": [
    "string = 'LoserLobsterLo[vs]erLosverLover'\n",
    "\n",
    "regex = r'Lo[vs]er'\n",
    "\n",
    "re.findall(regex, string)"
   ]
  },
  {
   "cell_type": "code",
   "execution_count": 18,
   "metadata": {},
   "outputs": [
    {
     "data": {
      "text/plain": [
       "['лук', 'лак', 'нос']"
      ]
     },
     "execution_count": 18,
     "metadata": {},
     "output_type": "execute_result"
    }
   ],
   "source": [
    "string = '''\n",
    "пёс\n",
    "лук\n",
    "лак\n",
    "нос'''\n",
    "\n",
    "regex = r'[пнл][а-я][кс]'\n",
    "\n",
    "re.findall(regex, string)"
   ]
  },
  {
   "cell_type": "code",
   "execution_count": 19,
   "metadata": {},
   "outputs": [
    {
     "data": {
      "text/plain": [
       "['[1GД]']"
      ]
     },
     "execution_count": 19,
     "metadata": {},
     "output_type": "execute_result"
    }
   ],
   "source": [
    "string = '''\n",
    "\\[1GД\\]\n",
    "[1GД]\n",
    "G\n",
    "Д\n",
    "1\n",
    "1GД'''\n",
    "\n",
    "regex = r'\\[1GД\\]'\n",
    "\n",
    "re.findall(regex, string)"
   ]
  },
  {
   "cell_type": "markdown",
   "metadata": {},
   "source": [
    "## Диапазоны и сокращения"
   ]
  },
  {
   "cell_type": "code",
   "execution_count": 20,
   "metadata": {},
   "outputs": [
    {
     "data": {
      "text/plain": [
       "'[21-47]'"
      ]
     },
     "execution_count": 20,
     "metadata": {},
     "output_type": "execute_result"
    }
   ],
   "source": [
    "# Регулярное выражение в скобках можно сократить следующим образом:\n",
    "\n",
    "r'[0-9]' # То же самое, что и [0123456789]\n",
    "r'[a-z]' # То же самое, что и [abcdefghijklmnopqrstuvwxyz]\n",
    "r'[A-Z]' # То же самое, что и [ABCDEFGHIJKLMNOPQRSTUVWXYZ]\n",
    "r'[а-я]' # То же самое, что и [абвгдежзийклмнопрстуфхцчшщъыьэюя]\n",
    "r'[А-Я]' # То же самое, что и [АБВГДЕЖЗИЙКЛМНОПРСТУФХЦЧШЩЪЫЬЭЮЯ]\n",
    "\n",
    "# Можно получать неполный алфавит или не все цифры:\n",
    "\n",
    "r'[4-7]' # То же самое, что и [4567]\n",
    "r'[x-z]' # То же самое, что и [xyz]\n",
    "r'[B-D]' # То же самое, что и [BCD]\n",
    "r'[а-ж]' # То же самое, что и [абвгдеж]\n",
    "r'[П-Т]' # То же самое, что и [ПРСТ]\n",
    "r'[6-D]' # То же самое, что и [6789:;<=>?@ABCD]\n",
    "\n",
    "# А также совмещать синтаксис:\n",
    "\n",
    "r'[4-7qwerty]' # То же самое, что и [qwerty4567]\n",
    "r'[23x-z1]'    # То же самое, что и [xyz123]\n",
    "r'[B-DF]'      # То же самое, что и [BCDF]\n",
    "\n",
    "r'[21-47]' # То же самое, что и [212347]"
   ]
  },
  {
   "cell_type": "code",
   "execution_count": 21,
   "metadata": {},
   "outputs": [
    {
     "data": {
      "text/plain": [
       "'[BD-]'"
      ]
     },
     "execution_count": 21,
     "metadata": {},
     "output_type": "execute_result"
    }
   ],
   "source": [
    "# Чтобы использовать - как обычный символ - его достаточно экранировать или поставить в конец или начало скобок:\n",
    "\n",
    "r'[4\\-7]' # Найдёт 4, -, и 7\n",
    "r'[-xz]'  # Найдёт -, x, и z\n",
    "r'[^-xz]' # Найдёт всё, кроме -, x, и z\n",
    "r'[BD-]'  # Найдёт B, D, и -"
   ]
  },
  {
   "cell_type": "markdown",
   "metadata": {},
   "source": [
    "## Исключение с использованием диапазонов"
   ]
  },
  {
   "cell_type": "code",
   "execution_count": 22,
   "metadata": {},
   "outputs": [
    {
     "data": {
      "text/plain": [
       "'[^э-я1-3]'"
      ]
     },
     "execution_count": 22,
     "metadata": {},
     "output_type": "execute_result"
    }
   ],
   "source": [
    "# Исключение символов тоже можно сократить:\n",
    "\n",
    "r'[^0-9]' # То же самое, что и [^0123456789]\n",
    "r'[^a-z]' # То же самое, что и [^abcdefghijklmnopqrstuvwxyz]\n",
    "r'[^A-Z]' # То же самое, что и [^ABCDEFGHIJKLMNOPQRSTUVWXYZ]\n",
    "r'[^а-я]' # То же самое, что и [^абвгдежзийклмнопрстуфхцчшщъыьэюя]\n",
    "r'[^А-Я]' # То же самое, что и [^АБВГДЕЖЗИЙКЛМНОПРСТУФХЦЧШЩЪЫЬЭЮЯ]\n",
    "\n",
    "# Можно исключать неполный алфавит, или не все цифры:\n",
    "\n",
    "r'[^4-7]' # То же самое, что и [^4567]\n",
    "r'[^x-z]' # То же самое, что и [^xyz]\n",
    "r'[^B-D]' # То же самое, что и [^BCD]\n",
    "r'[^а-ж]' # То же самое, что и [^абвгдеж]\n",
    "r'[^П-Т]' # То же самое, что и [^ПРСТ]\n",
    "r'[^6-D]' # То же самое, что и [^6789:;<=>?@ABCD]\n",
    "\n",
    "# Ну и совмещать:\n",
    "\n",
    "r'[^4-7qwerty]' # То же самое, что и [^qwerty4567]\n",
    "r'[^23x-z1]'    # То же самое, что и [^xyz123]\n",
    "r'[^B-DF]'      # То же самое, что и [^BCDF]\n",
    "\n",
    "# Можно использовать столько сокращений, сколько мы захотим:\n",
    "\n",
    "r'[a-zA-Z0-9]' # То же самое, что [abcdefghijklmnopqrstuvwxyzABCDEFGHIJKLMNOPQRSTUVWXYZ0123456789]\n",
    "r'[^э-я1-3]'   # То же самое, что и [^эюя123]"
   ]
  },
  {
   "cell_type": "markdown",
   "metadata": {},
   "source": [
    "## Экранирование квадратных скобок"
   ]
  },
  {
   "cell_type": "code",
   "execution_count": 23,
   "metadata": {},
   "outputs": [
    {
     "data": {
      "text/plain": [
       "'\\\\[\\\\]'"
      ]
     },
     "execution_count": 23,
     "metadata": {},
     "output_type": "execute_result"
    }
   ],
   "source": [
    "# Если квадратные скобки нужно использовать как обычный текст - достаточно их просто экранировать:\n",
    "\n",
    "r'\\[\\]' # Найдет []\n",
    "\n",
    "# Шаблон [а-яА-Я] не захватывает буквы ё и Ё. Придётся указывать их вручную: [а-яА-ЯёЁ]."
   ]
  },
  {
   "cell_type": "markdown",
   "metadata": {},
   "source": [
    "## Задачи"
   ]
  },
  {
   "cell_type": "code",
   "execution_count": 25,
   "metadata": {},
   "outputs": [
    {
     "data": {
      "text/plain": [
       "['сок', 'сом']"
      ]
     },
     "execution_count": 25,
     "metadata": {},
     "output_type": "execute_result"
    }
   ],
   "source": [
    "# Напишите регулярное выражение, которое найдет все последовательности: сон, сок, сом.\n",
    "\n",
    "string = 'Пью сок вместе с моим сомом.'\n",
    "\n",
    "regex = r'со[мкн]'\n",
    "\n",
    "re.findall(regex, string)"
   ]
  },
  {
   "cell_type": "code",
   "execution_count": 28,
   "metadata": {},
   "outputs": [
    {
     "name": "stdout",
     "output_type": "stream",
     "text": [
      "['1', '2', '3', '4', '6', '7', '8', '9']\n",
      "['1', '2', '3', '4', '6', '7', '8', '9']\n"
     ]
    }
   ],
   "source": [
    "# Найдите все цифры 1-4 и 6-9\n",
    "\n",
    "string = '<=>@ABCDEFGHIJKLMNOPQRSTUVWXYZ[]^_`abcdefghijklmnopqrstuvwxyz{|}~абвгдеёжзийклмнопрстуфхцчшщъыьэюяАБВГДЕЁЖЗИЙКЛМНОПРСТУФХЦЧШЩЪЫЬЭЮЯ !\"#$%&\\'()*+,-./0123456789:;'\n",
    "\n",
    "regex = r'[^05\\D]'\n",
    "print(re.findall(regex, string))\n",
    "\n",
    "regex = r'[1-46-9]'\n",
    "print(re.findall(regex, string))"
   ]
  },
  {
   "cell_type": "code",
   "execution_count": null,
   "metadata": {},
   "outputs": [
    {
     "name": "stdout",
     "output_type": "stream",
     "text": [
      "['314 кабинет']\n",
      "['314 кабинет']\n",
      "['314 кабинет']\n",
      "['314 кабинет']\n"
     ]
    }
   ],
   "source": [
    "# Напишите регулярное выражение, которое найдёт все кабинеты с трёхзначным номером: 100 - 999.\n",
    "\n",
    "string = 'Начальнику второго отделения прибыть в 314 кабинет в понедельник.'\n",
    "\n",
    "regex =r'[1-9][0-9][0-9] кабинет'\n",
    "print(re.findall(regex, string))\n",
    "\n",
    "regex = r'[1-9][0-9]{2} кабинет'\n",
    "print(re.findall(regex, string))\n",
    "\n",
    "regex = r'[1-9]\\d\\d кабинет'\n",
    "print(re.findall(regex, string))\n",
    "\n",
    "regex = r'[1-9]\\d{2} кабинет'\n",
    "print(re.findall(regex, string))"
   ]
  },
  {
   "cell_type": "code",
   "execution_count": 58,
   "metadata": {},
   "outputs": [
    {
     "name": "stdout",
     "output_type": "stream",
     "text": [
      "Первый вариант: ['171038']\n",
      "Второй вариант: ['171038', '412542']\n"
     ]
    }
   ],
   "source": [
    "# Напишите регулярное выражение, которое находит все шестизначные коды подтверждения.\n",
    "\n",
    "string = '171038 - ваш код подтверждения, а не этот: 4125422'\n",
    "\n",
    "regex = r'\\b\\d{6}\\b'\n",
    "print(f'Первый вариант: {re.findall(regex, string)}')\n",
    "\n",
    "regex = r'\\d{6}'\n",
    "print(f'Второй вариант: {re.findall(regex, string)}')"
   ]
  },
  {
   "cell_type": "markdown",
   "metadata": {},
   "source": [
    "# 2.7 Шаблоны для поиска и проверки"
   ]
  },
  {
   "attachments": {
    "image.png": {
     "image/png": "[encoded data removed]"
    }
   },
   "cell_type": "markdown",
   "metadata": {},
   "source": [
    "![image.png](attachment:image.png)"
   ]
  },
  {
   "cell_type": "code",
   "execution_count": null,
   "metadata": {},
   "outputs": [
    {
     "data": {
      "text/plain": [
       "'[\\\\d]'"
      ]
     },
     "execution_count": 59,
     "metadata": {},
     "output_type": "execute_result"
    }
   ],
   "source": [
    "# Некоторые спецсимволы, например такие: $^.-[], используются по-разному в регулярных выражениях в зависимости от контекста:\n",
    "\n",
    "# $\n",
    "r'[A$Z]'  # Ищет символы A,$,Z\n",
    "r'^text$' # Ищет text между началом и концом строки\n",
    "r'100\\$'  # Ищет 100$\n",
    "\n",
    "# ^\n",
    "r\"[^abc]\"      # Ищет любой символ, кроме a,b,c\n",
    "r\"^Some text$\" # Ищет Some text между началом и концом строки\n",
    "r\"\\^\"          # Ищет символ ^ \n",
    "r\"[a^bc]\"      # Символ ^ не стоит первым в скобках, поэтому выражение ищет символы a,b,c,^\n",
    "\n",
    "# .\n",
    "r'[A.Z]'     # Ищет символы A,.,Z\n",
    "r'text.'     # Ищет text с любым символом, кроме перехода на новую строку\n",
    "r'1\\.000\\$'  # Ищет 1.000$\n",
    "\n",
    "# -\n",
    "r'Как-то так' # Ищет Как-то так\n",
    "r'[+-]'       # Ищет символы +,-\n",
    "r'[^-+]'      # Ищет любой символ, кроме +, -\n",
    "r'[a-z]'      # Ищет все буквы латинского алфавита в нижнем регистре\n",
    "r'[a\\-z]'     # Ищет символы a,-,z\n",
    "\n",
    "# []\n",
    "r'[abc]'   # Ищет символы a,b,c\n",
    "r'\\[abc\\]' # Ищет [abc]\n",
    "r'[\\[abc\\]]' # Ищет символы [,a,b,c,]\n",
    "\n",
    "\n",
    "# Шаблоны и квадратные скобки\n",
    "# Не все шаблоны в квадратных скобках используются как текстовые символы: \n",
    "\n",
    "r'[.]'  # Находит точку\n",
    "\n",
    "r'[\\d]' # То же самое, что и \\d"
   ]
  },
  {
   "cell_type": "code",
   "execution_count": null,
   "metadata": {},
   "outputs": [
    {
     "name": "stdout",
     "output_type": "stream",
     "text": [
      "['фыв2', 'D43F']\n",
      "['D43F']\n",
      "['D43F']\n",
      "[]\n",
      "[]\n",
      "[]\n"
     ]
    }
   ],
   "source": [
    "string = 'фыв2D43Fфыв'\n",
    "\n",
    "regex = r'\\w\\w\\w\\w'\n",
    "print(re.findall(regex, string))\n",
    "regex = r'\\D\\d[1-90]\\D'\n",
    "print(re.findall(regex, string))\n",
    "regex = r'\\D\\d\\d\\D'\n",
    "print(re.findall(regex, string))\n",
    "regex = r'\\s\\S\\S\\s'\n",
    "print(re.findall(regex, string))\n",
    "regex = r'\\W\\W\\W\\W'\n",
    "print(re.findall(regex, string))\n",
    "regex = r'\\b\\B\\B\\b'\n",
    "print(re.findall(regex, string))"
   ]
  },
  {
   "cell_type": "code",
   "execution_count": 69,
   "metadata": {},
   "outputs": [
    {
     "name": "stdout",
     "output_type": "stream",
     "text": [
      "['Этот ', 'текст', ' был ', 'разде', 'лён н', 'а пос', 'ледов', 'атель', 'ности', ' из 5', ' симв', 'олов,', ' и ка', 'ждая ', 'после', 'доват', 'ельно', 'сть б', 'ыла в', 'ыведе', 'на в ', 'консо', 'ль че', 'рез п', 'робел']\n"
     ]
    }
   ],
   "source": [
    "# Напишите регулярное выражение, которое найдёт все последовательности из любых пяти символов, кроме перехода на следующую строку.\n",
    "\n",
    "string = 'Этот текст был разделён на последовательности из 5 символов, и каждая последовательность была выведена в консоль через пробел.'\n",
    "\n",
    "regex = r'.{5}'\n",
    "print(re.findall(regex, string))"
   ]
  },
  {
   "cell_type": "code",
   "execution_count": 72,
   "metadata": {},
   "outputs": [
    {
     "name": "stdout",
     "output_type": "stream",
     "text": [
      "[' sit ', ' non ', ' est ', ' sit ', ' sit ']\n",
      "[' sit ', ' non ', ' est ', ' sit ', ' sit ']\n",
      "[' sit ', ' non ', ' est ', ' sit ', ' sit ']\n"
     ]
    }
   ],
   "source": [
    "# Нужно найти последовательности, подходящие по следующим условиям:\n",
    "\n",
    "# Состоит из 3 букв\n",
    "# Используется латинский и кириллический алфавиты верхнего и нижнего регистров\n",
    "# Окружена пробелами с двух сторон\n",
    "\n",
    "string = '''Lorem ipsum dolor sit amet, consectetur adipiscing elit. \n",
    "Nunc aliquam felis ut nisl fermentum porttitor. Integer condimentum arcu eget maximus tincidunt. \n",
    "Ut interdum ligula nulla, non tempor arcu consequat in. Aliquam molestie est mauris, efficitur lacinia nisl dictum et. \n",
    "Donec sit amet justo eros. Etiam fermentum justo lectus, vitae tincidunt dolor lobortis sed. \n",
    "Lorem ipsum dolor sit amet, consectetur adipiscing elit. '''\n",
    "\n",
    "regex = r' [A-Za-zа-яА-яЁё]{3} '\n",
    "print(re.findall(regex, string))\n",
    "\n",
    "regex = r'\\s[A-Za-zа-яА-яЁё]{3}\\s'\n",
    "print(re.findall(regex, string))\n",
    "\n",
    "regex = r'\\s[^_\\d\\W]{3}\\s'\n",
    "print(re.findall(regex, string))"
   ]
  }
 ],
 "metadata": {
  "kernelspec": {
   "display_name": "base",
   "language": "python",
   "name": "python3"
  },
  "language_info": {
   "codemirror_mode": {
    "name": "ipython",
    "version": 3
   },
   "file_extension": ".py",
   "mimetype": "text/x-python",
   "name": "python",
   "nbconvert_exporter": "python",
   "pygments_lexer": "ipython3",
   "version": "3.11.11"
  }
 },
 "nbformat": 4,
 "nbformat_minor": 2
}
