{
 "cells": [
  {
   "cell_type": "code",
   "execution_count": 421,
   "metadata": {},
   "outputs": [],
   "source": [
    "import pandas as pd"
   ]
  },
  {
   "cell_type": "code",
   "execution_count": 422,
   "metadata": {},
   "outputs": [
    {
     "data": {
      "text/html": [
       "<div>\n",
       "<style scoped>\n",
       "    .dataframe tbody tr th:only-of-type {\n",
       "        vertical-align: middle;\n",
       "    }\n",
       "\n",
       "    .dataframe tbody tr th {\n",
       "        vertical-align: top;\n",
       "    }\n",
       "\n",
       "    .dataframe thead th {\n",
       "        text-align: right;\n",
       "    }\n",
       "</style>\n",
       "<table border=\"1\" class=\"dataframe\">\n",
       "  <thead>\n",
       "    <tr style=\"text-align: right;\">\n",
       "      <th></th>\n",
       "      <th>Age</th>\n",
       "      <th>Growth</th>\n",
       "      <th>Shoe size</th>\n",
       "      <th>Course number</th>\n",
       "      <th>Year of birth</th>\n",
       "      <th>Friend number</th>\n",
       "      <th>Russian rating</th>\n",
       "      <th>Maths rating</th>\n",
       "      <th>Physics rating</th>\n",
       "      <th>Computer science rating</th>\n",
       "      <th>...</th>\n",
       "      <th>Social network duration min</th>\n",
       "      <th>Chocolate</th>\n",
       "      <th>City population</th>\n",
       "      <th>Strange people</th>\n",
       "      <th>Your insitute</th>\n",
       "      <th>Brother-sister</th>\n",
       "      <th>Plane seat</th>\n",
       "      <th>MIddle and index finger</th>\n",
       "      <th>Middle and ring finger</th>\n",
       "      <th>Middle and little finger</th>\n",
       "    </tr>\n",
       "  </thead>\n",
       "  <tbody>\n",
       "    <tr>\n",
       "      <th>0</th>\n",
       "      <td>20</td>\n",
       "      <td>170</td>\n",
       "      <td>40</td>\n",
       "      <td>2</td>\n",
       "      <td>2002</td>\n",
       "      <td>100</td>\n",
       "      <td>85</td>\n",
       "      <td>86</td>\n",
       "      <td>0</td>\n",
       "      <td>84</td>\n",
       "      <td>...</td>\n",
       "      <td>45</td>\n",
       "      <td>Сникерс</td>\n",
       "      <td>800000.0</td>\n",
       "      <td>Экономический</td>\n",
       "      <td>Математический и ИТ</td>\n",
       "      <td>нет ни брата ни сестры</td>\n",
       "      <td>У окна (пардон: у иллюминатора)</td>\n",
       "      <td>20</td>\n",
       "      <td>10.0</td>\n",
       "      <td>40.0</td>\n",
       "    </tr>\n",
       "    <tr>\n",
       "      <th>1</th>\n",
       "      <td>22</td>\n",
       "      <td>191</td>\n",
       "      <td>43</td>\n",
       "      <td>7</td>\n",
       "      <td>2000</td>\n",
       "      <td>307</td>\n",
       "      <td>69</td>\n",
       "      <td>74</td>\n",
       "      <td>64</td>\n",
       "      <td>72</td>\n",
       "      <td>...</td>\n",
       "      <td>180</td>\n",
       "      <td>КитКат</td>\n",
       "      <td>800000.0</td>\n",
       "      <td>Математический и ИТ</td>\n",
       "      <td>Математический и ИТ</td>\n",
       "      <td>есть и брат и сестра</td>\n",
       "      <td>В середине</td>\n",
       "      <td>5</td>\n",
       "      <td>5.0</td>\n",
       "      <td>20.0</td>\n",
       "    </tr>\n",
       "    <tr>\n",
       "      <th>2</th>\n",
       "      <td>21</td>\n",
       "      <td>172</td>\n",
       "      <td>41</td>\n",
       "      <td>4</td>\n",
       "      <td>2000</td>\n",
       "      <td>186</td>\n",
       "      <td>78</td>\n",
       "      <td>62</td>\n",
       "      <td>0</td>\n",
       "      <td>0</td>\n",
       "      <td>...</td>\n",
       "      <td>90</td>\n",
       "      <td>КитКат</td>\n",
       "      <td>770000.0</td>\n",
       "      <td>Педагогический</td>\n",
       "      <td>Другое</td>\n",
       "      <td>есть брат</td>\n",
       "      <td>У окна (пардон: у иллюминатора)</td>\n",
       "      <td>13</td>\n",
       "      <td>10.0</td>\n",
       "      <td>26.0</td>\n",
       "    </tr>\n",
       "    <tr>\n",
       "      <th>3</th>\n",
       "      <td>19</td>\n",
       "      <td>168</td>\n",
       "      <td>38</td>\n",
       "      <td>2</td>\n",
       "      <td>2003</td>\n",
       "      <td>604</td>\n",
       "      <td>72</td>\n",
       "      <td>0</td>\n",
       "      <td>0</td>\n",
       "      <td>0</td>\n",
       "      <td>...</td>\n",
       "      <td>200</td>\n",
       "      <td>Баунти</td>\n",
       "      <td>900000.0</td>\n",
       "      <td>СоцГум</td>\n",
       "      <td>Юридический</td>\n",
       "      <td>есть сестра</td>\n",
       "      <td>У окна (пардон: у иллюминатора)</td>\n",
       "      <td>12</td>\n",
       "      <td>13.5</td>\n",
       "      <td>35.0</td>\n",
       "    </tr>\n",
       "    <tr>\n",
       "      <th>4</th>\n",
       "      <td>23</td>\n",
       "      <td>159</td>\n",
       "      <td>36</td>\n",
       "      <td>1</td>\n",
       "      <td>1998</td>\n",
       "      <td>144</td>\n",
       "      <td>0</td>\n",
       "      <td>0</td>\n",
       "      <td>0</td>\n",
       "      <td>0</td>\n",
       "      <td>...</td>\n",
       "      <td>400</td>\n",
       "      <td>Баунти</td>\n",
       "      <td>860000.0</td>\n",
       "      <td>Педагогический</td>\n",
       "      <td>Педагогический</td>\n",
       "      <td>есть сестра</td>\n",
       "      <td>У окна (пардон: у иллюминатора)</td>\n",
       "      <td>10</td>\n",
       "      <td>11.0</td>\n",
       "      <td>22.0</td>\n",
       "    </tr>\n",
       "  </tbody>\n",
       "</table>\n",
       "<p>5 rows × 48 columns</p>\n",
       "</div>"
      ],
      "text/plain": [
       "   Age  Growth  Shoe size  Course number  Year of birth  Friend number  \\\n",
       "0   20     170         40              2           2002            100   \n",
       "1   22     191         43              7           2000            307   \n",
       "2   21     172         41              4           2000            186   \n",
       "3   19     168         38              2           2003            604   \n",
       "4   23     159         36              1           1998            144   \n",
       "\n",
       "   Russian rating  Maths rating  Physics rating  Computer science rating  ...  \\\n",
       "0              85            86               0                       84  ...   \n",
       "1              69            74              64                       72  ...   \n",
       "2              78            62               0                        0  ...   \n",
       "3              72             0               0                        0  ...   \n",
       "4               0             0               0                        0  ...   \n",
       "\n",
       "   Social network duration min  Chocolate  City population  \\\n",
       "0                           45    Сникерс         800000.0   \n",
       "1                          180     КитКат         800000.0   \n",
       "2                           90     КитКат         770000.0   \n",
       "3                          200     Баунти         900000.0   \n",
       "4                          400     Баунти         860000.0   \n",
       "\n",
       "        Strange people        Your insitute          Brother-sister  \\\n",
       "0        Экономический  Математический и ИТ  нет ни брата ни сестры   \n",
       "1  Математический и ИТ  Математический и ИТ    есть и брат и сестра   \n",
       "2       Педагогический               Другое               есть брат   \n",
       "3               СоцГум          Юридический             есть сестра   \n",
       "4       Педагогический       Педагогический             есть сестра   \n",
       "\n",
       "                        Plane seat  MIddle and index finger  \\\n",
       "0  У окна (пардон: у иллюминатора)                       20   \n",
       "1                       В середине                        5   \n",
       "2  У окна (пардон: у иллюминатора)                       13   \n",
       "3  У окна (пардон: у иллюминатора)                       12   \n",
       "4  У окна (пардон: у иллюминатора)                       10   \n",
       "\n",
       "   Middle and ring finger  Middle and little finger  \n",
       "0                    10.0                      40.0  \n",
       "1                     5.0                      20.0  \n",
       "2                    10.0                      26.0  \n",
       "3                    13.5                      35.0  \n",
       "4                    11.0                      22.0  \n",
       "\n",
       "[5 rows x 48 columns]"
      ]
     },
     "execution_count": 422,
     "metadata": {},
     "output_type": "execute_result"
    }
   ],
   "source": [
    "df = pd.read_csv('data\\students.csv')\n",
    "df.head()"
   ]
  },
  {
   "cell_type": "code",
   "execution_count": 423,
   "metadata": {},
   "outputs": [
    {
     "data": {
      "text/plain": [
       "169"
      ]
     },
     "execution_count": 423,
     "metadata": {},
     "output_type": "execute_result"
    }
   ],
   "source": [
    "df.iloc[12]['Growth']"
   ]
  },
  {
   "cell_type": "code",
   "execution_count": 424,
   "metadata": {},
   "outputs": [
    {
     "data": {
      "text/plain": [
       "161"
      ]
     },
     "execution_count": 424,
     "metadata": {},
     "output_type": "execute_result"
    }
   ],
   "source": [
    "df.iloc[len(df) - 18]['Growth']"
   ]
  },
  {
   "cell_type": "code",
   "execution_count": 425,
   "metadata": {},
   "outputs": [
    {
     "data": {
      "text/plain": [
       "88"
      ]
     },
     "execution_count": 425,
     "metadata": {},
     "output_type": "execute_result"
    }
   ],
   "source": [
    "len(df.loc[df['Rock paper scissors'] == 'Ножницы'])"
   ]
  },
  {
   "cell_type": "code",
   "execution_count": 426,
   "metadata": {},
   "outputs": [
    {
     "name": "stdout",
     "output_type": "stream",
     "text": [
      "Чаще выбирают: Ножницы\n"
     ]
    },
    {
     "data": {
      "text/plain": [
       "'Камень'"
      ]
     },
     "execution_count": 426,
     "metadata": {},
     "output_type": "execute_result"
    }
   ],
   "source": [
    "max_val = df['Rock paper scissors'].max()\n",
    "print(f'Чаще выбирают: {max_val}')\n",
    "win_conditions = {'Камень': 'Бумага', 'Ножницы': 'Камень', 'Бумага': 'Ножницы'}\n",
    "win_conditions.get(max_val)"
   ]
  },
  {
   "cell_type": "code",
   "execution_count": 427,
   "metadata": {},
   "outputs": [
    {
     "data": {
      "text/plain": [
       "Weight       58.0\n",
       "Sex       женский\n",
       "Name: 9, dtype: object"
      ]
     },
     "execution_count": 427,
     "metadata": {},
     "output_type": "execute_result"
    }
   ],
   "source": [
    "df.iloc[9][['Weight', 'Sex']]"
   ]
  },
  {
   "cell_type": "code",
   "execution_count": 428,
   "metadata": {},
   "outputs": [
    {
     "data": {
      "text/plain": [
       "7    180\n",
       "Name: Growth, dtype: int64"
      ]
     },
     "execution_count": 428,
     "metadata": {},
     "output_type": "execute_result"
    }
   ],
   "source": [
    "df.loc[df['Weight'] == df['Weight'].max()]['Growth']"
   ]
  },
  {
   "cell_type": "code",
   "execution_count": 429,
   "metadata": {},
   "outputs": [
    {
     "data": {
      "text/plain": [
       "Sex    \n",
       "женский    1\n",
       "мужской    1\n",
       "Name: count, dtype: int64"
      ]
     },
     "execution_count": 429,
     "metadata": {},
     "output_type": "execute_result"
    }
   ],
   "source": [
    "df[df['Friend number'] == 0 ].value_counts(['Sex'])"
   ]
  },
  {
   "cell_type": "code",
   "execution_count": 430,
   "metadata": {},
   "outputs": [
    {
     "data": {
      "text/plain": [
       "12"
      ]
     },
     "execution_count": 430,
     "metadata": {},
     "output_type": "execute_result"
    }
   ],
   "source": [
    "round((len(df[(df['Animal'] == 'Собак') & (df['Floor number'] == 1)]) / len(df[df['Animal'] == 'Собак'])) * 100)"
   ]
  },
  {
   "cell_type": "code",
   "execution_count": 431,
   "metadata": {},
   "outputs": [
    {
     "data": {
      "text/plain": [
       "60.0"
      ]
     },
     "execution_count": 431,
     "metadata": {},
     "output_type": "execute_result"
    }
   ],
   "source": [
    "single_child = df.loc[df['Brother-sister'] == 'нет ни брата ни сестры']\n",
    "not_single_child = df.loc[df['Brother-sister'] != 'нет ни брата ни сестры']\n",
    "single_child['Social network duration min'].median() - not_single_child['Social network duration min'].median()"
   ]
  },
  {
   "cell_type": "code",
   "execution_count": 432,
   "metadata": {},
   "outputs": [
    {
     "data": {
      "text/html": [
       "<div>\n",
       "<style scoped>\n",
       "    .dataframe tbody tr th:only-of-type {\n",
       "        vertical-align: middle;\n",
       "    }\n",
       "\n",
       "    .dataframe tbody tr th {\n",
       "        vertical-align: top;\n",
       "    }\n",
       "\n",
       "    .dataframe thead th {\n",
       "        text-align: right;\n",
       "    }\n",
       "</style>\n",
       "<table border=\"1\" class=\"dataframe\">\n",
       "  <thead>\n",
       "    <tr style=\"text-align: right;\">\n",
       "      <th></th>\n",
       "      <th>Weight</th>\n",
       "    </tr>\n",
       "    <tr>\n",
       "      <th>Fastfood</th>\n",
       "      <th></th>\n",
       "    </tr>\n",
       "  </thead>\n",
       "  <tbody>\n",
       "    <tr>\n",
       "      <th>KFC</th>\n",
       "      <td>66.859155</td>\n",
       "    </tr>\n",
       "    <tr>\n",
       "      <th>Бургер кинг</th>\n",
       "      <td>64.217391</td>\n",
       "    </tr>\n",
       "    <tr>\n",
       "      <th>Макдональдс (или как он там сейчас называется?)</th>\n",
       "      <td>58.800000</td>\n",
       "    </tr>\n",
       "  </tbody>\n",
       "</table>\n",
       "</div>"
      ],
      "text/plain": [
       "                                                    Weight\n",
       "Fastfood                                                  \n",
       "KFC                                              66.859155\n",
       "Бургер кинг                                      64.217391\n",
       "Макдональдс (или как он там сейчас называется?)  58.800000"
      ]
     },
     "execution_count": 432,
     "metadata": {},
     "output_type": "execute_result"
    }
   ],
   "source": [
    "df_weight_fastfood = df[['Fastfood', 'Weight']].groupby('Fastfood').agg({'Weight': 'mean'})\n",
    "df_weight_fastfood"
   ]
  },
  {
   "cell_type": "code",
   "execution_count": 433,
   "metadata": {},
   "outputs": [
    {
     "data": {
      "text/plain": [
       "Weight    8.059155\n",
       "dtype: float64"
      ]
     },
     "execution_count": 433,
     "metadata": {},
     "output_type": "execute_result"
    }
   ],
   "source": [
    "df_weight_fastfood.loc['KFC'] - df_weight_fastfood.loc['Макдональдс (или как он там сейчас называется?)']"
   ]
  },
  {
   "cell_type": "code",
   "execution_count": 434,
   "metadata": {},
   "outputs": [
    {
     "data": {
      "text/plain": [
       "2002"
      ]
     },
     "execution_count": 434,
     "metadata": {},
     "output_type": "execute_result"
    }
   ],
   "source": [
    "df_cut = df[['Year of birth', 'Growth', 'Weight', 'Hair length', 'Shoe size']]\n",
    "df_cut.sort_values('Shoe size', ascending=False).reset_index(drop=True)['Year of birth'].iloc[2]"
   ]
  },
  {
   "cell_type": "code",
   "execution_count": 435,
   "metadata": {},
   "outputs": [
    {
     "data": {
      "text/plain": [
       "2002"
      ]
     },
     "execution_count": 435,
     "metadata": {},
     "output_type": "execute_result"
    }
   ],
   "source": [
    "df_cut.sort_values('Shoe size', ascending=False).iloc[2,0]"
   ]
  },
  {
   "cell_type": "code",
   "execution_count": 436,
   "metadata": {},
   "outputs": [
    {
     "data": {
      "text/plain": [
       "2003"
      ]
     },
     "execution_count": 436,
     "metadata": {},
     "output_type": "execute_result"
    }
   ],
   "source": [
    "df_cut.sort_values(['Shoe size', 'Growth'], ascending=[False, True]).iloc[1,0]"
   ]
  },
  {
   "cell_type": "code",
   "execution_count": 437,
   "metadata": {},
   "outputs": [
    {
     "name": "stderr",
     "output_type": "stream",
     "text": [
      "C:\\Users\\Pong\\AppData\\Local\\Temp\\ipykernel_9988\\1536865746.py:1: SettingWithCopyWarning: \n",
      "A value is trying to be set on a copy of a slice from a DataFrame.\n",
      "Try using .loc[row_indexer,col_indexer] = value instead\n",
      "\n",
      "See the caveats in the documentation: https://pandas.pydata.org/pandas-docs/stable/user_guide/indexing.html#returning-a-view-versus-a-copy\n",
      "  df_cut['Full length'] = df_cut[['Growth', 'Hair length']].sum(axis=1)\n"
     ]
    },
    {
     "data": {
      "text/plain": [
       "319.0"
      ]
     },
     "execution_count": 437,
     "metadata": {},
     "output_type": "execute_result"
    }
   ],
   "source": [
    "df_cut['Full length'] = df_cut[['Growth', 'Hair length']].sum(axis=1)\n",
    "df_cut['Full length'].max()"
   ]
  },
  {
   "cell_type": "code",
   "execution_count": 438,
   "metadata": {},
   "outputs": [
    {
     "data": {
      "text/plain": [
       "0.86"
      ]
     },
     "execution_count": 438,
     "metadata": {},
     "output_type": "execute_result"
    }
   ],
   "source": [
    "round(df_cut['Growth'].corr(df_cut['Shoe size']), 2)"
   ]
  },
  {
   "cell_type": "code",
   "execution_count": 439,
   "metadata": {},
   "outputs": [
    {
     "data": {
      "text/html": [
       "<div>\n",
       "<style scoped>\n",
       "    .dataframe tbody tr th:only-of-type {\n",
       "        vertical-align: middle;\n",
       "    }\n",
       "\n",
       "    .dataframe tbody tr th {\n",
       "        vertical-align: top;\n",
       "    }\n",
       "\n",
       "    .dataframe thead th {\n",
       "        text-align: right;\n",
       "    }\n",
       "</style>\n",
       "<table border=\"1\" class=\"dataframe\">\n",
       "  <thead>\n",
       "    <tr style=\"text-align: right;\">\n",
       "      <th></th>\n",
       "      <th>Russian rating</th>\n",
       "      <th>Maths rating</th>\n",
       "    </tr>\n",
       "    <tr>\n",
       "      <th>Glasses</th>\n",
       "      <th></th>\n",
       "      <th></th>\n",
       "    </tr>\n",
       "  </thead>\n",
       "  <tbody>\n",
       "    <tr>\n",
       "      <th>да</th>\n",
       "      <td>83.388235</td>\n",
       "      <td>56.741176</td>\n",
       "    </tr>\n",
       "    <tr>\n",
       "      <th>нет</th>\n",
       "      <td>80.471910</td>\n",
       "      <td>59.955056</td>\n",
       "    </tr>\n",
       "    <tr>\n",
       "      <th>простите. не увидел(а) вопроса ))))</th>\n",
       "      <td>77.900000</td>\n",
       "      <td>54.700000</td>\n",
       "    </tr>\n",
       "  </tbody>\n",
       "</table>\n",
       "</div>"
      ],
      "text/plain": [
       "                                     Russian rating  Maths rating\n",
       "Glasses                                                          \n",
       "да                                        83.388235     56.741176\n",
       "нет                                       80.471910     59.955056\n",
       "простите. не увидел(а) вопроса ))))       77.900000     54.700000"
      ]
     },
     "metadata": {},
     "output_type": "display_data"
    },
    {
     "data": {
      "text/plain": [
       "54.7"
      ]
     },
     "execution_count": 439,
     "metadata": {},
     "output_type": "execute_result"
    }
   ],
   "source": [
    "display(df.groupby('Glasses')[['Russian rating', 'Maths rating']].mean())\n",
    "df.groupby('Glasses')[['Russian rating', 'Maths rating']].mean().loc['простите. не увидел(а) вопроса ))))', 'Maths rating'].round(1)"
   ]
  },
  {
   "cell_type": "code",
   "execution_count": 440,
   "metadata": {},
   "outputs": [
    {
     "data": {
      "text/html": [
       "<div>\n",
       "<style scoped>\n",
       "    .dataframe tbody tr th:only-of-type {\n",
       "        vertical-align: middle;\n",
       "    }\n",
       "\n",
       "    .dataframe tbody tr th {\n",
       "        vertical-align: top;\n",
       "    }\n",
       "\n",
       "    .dataframe thead th {\n",
       "        text-align: right;\n",
       "    }\n",
       "</style>\n",
       "<table border=\"1\" class=\"dataframe\">\n",
       "  <thead>\n",
       "    <tr style=\"text-align: right;\">\n",
       "      <th></th>\n",
       "      <th>Russian rating</th>\n",
       "      <th>Maths rating</th>\n",
       "    </tr>\n",
       "    <tr>\n",
       "      <th>Rock paper scissors</th>\n",
       "      <th></th>\n",
       "      <th></th>\n",
       "    </tr>\n",
       "  </thead>\n",
       "  <tbody>\n",
       "    <tr>\n",
       "      <th>Бумага</th>\n",
       "      <td>76.473684</td>\n",
       "      <td>52.894737</td>\n",
       "    </tr>\n",
       "    <tr>\n",
       "      <th>Камень</th>\n",
       "      <td>81.450000</td>\n",
       "      <td>62.166667</td>\n",
       "    </tr>\n",
       "    <tr>\n",
       "      <th>Ножницы</th>\n",
       "      <td>83.988636</td>\n",
       "      <td>57.738636</td>\n",
       "    </tr>\n",
       "  </tbody>\n",
       "</table>\n",
       "</div>"
      ],
      "text/plain": [
       "                     Russian rating  Maths rating\n",
       "Rock paper scissors                              \n",
       "Бумага                    76.473684     52.894737\n",
       "Камень                    81.450000     62.166667\n",
       "Ножницы                   83.988636     57.738636"
      ]
     },
     "metadata": {},
     "output_type": "display_data"
    },
    {
     "data": {
      "text/plain": [
       "52.89"
      ]
     },
     "execution_count": 440,
     "metadata": {},
     "output_type": "execute_result"
    }
   ],
   "source": [
    "display(df.groupby('Rock paper scissors')[['Russian rating', 'Maths rating']].mean())\n",
    "df.groupby('Rock paper scissors')[['Russian rating', 'Maths rating']].mean().loc['Бумага', 'Maths rating'].round(2)"
   ]
  },
  {
   "cell_type": "code",
   "execution_count": 441,
   "metadata": {},
   "outputs": [
    {
     "data": {
      "text/plain": [
       "36"
      ]
     },
     "execution_count": 441,
     "metadata": {},
     "output_type": "execute_result"
    }
   ],
   "source": [
    "df['Children number'].isna().sum()"
   ]
  },
  {
   "cell_type": "code",
   "execution_count": 442,
   "metadata": {},
   "outputs": [
    {
     "name": "stderr",
     "output_type": "stream",
     "text": [
      "C:\\Users\\Pong\\AppData\\Local\\Temp\\ipykernel_9988\\770029833.py:3: SettingWithCopyWarning: \n",
      "A value is trying to be set on a copy of a slice from a DataFrame.\n",
      "Try using .loc[row_indexer,col_indexer] = value instead\n",
      "\n",
      "See the caveats in the documentation: https://pandas.pydata.org/pandas-docs/stable/user_guide/indexing.html#returning-a-view-versus-a-copy\n",
      "  females['Weight'] = females['Weight'].fillna(females['Weight'].mean())\n",
      "C:\\Users\\Pong\\AppData\\Local\\Temp\\ipykernel_9988\\770029833.py:4: SettingWithCopyWarning: \n",
      "A value is trying to be set on a copy of a slice from a DataFrame.\n",
      "Try using .loc[row_indexer,col_indexer] = value instead\n",
      "\n",
      "See the caveats in the documentation: https://pandas.pydata.org/pandas-docs/stable/user_guide/indexing.html#returning-a-view-versus-a-copy\n",
      "  males['Weight'] = males['Weight'].fillna(males['Weight'].mean())\n"
     ]
    },
    {
     "data": {
      "text/plain": [
       "63.53201161071252"
      ]
     },
     "execution_count": 442,
     "metadata": {},
     "output_type": "execute_result"
    }
   ],
   "source": [
    "females = df.loc[df['Sex'] == 'женский']\n",
    "males = df.loc[df['Sex'] == 'мужской']\n",
    "females['Weight'] = females['Weight'].fillna(females['Weight'].mean())\n",
    "males['Weight'] = males['Weight'].fillna(males['Weight'].mean())\n",
    "df_new = pd.concat([females, males])\n",
    "df_new['Weight'].mean()"
   ]
  },
  {
   "cell_type": "code",
   "execution_count": 443,
   "metadata": {},
   "outputs": [
    {
     "data": {
      "text/plain": [
       "63.53201161071252"
      ]
     },
     "execution_count": 443,
     "metadata": {},
     "output_type": "execute_result"
    }
   ],
   "source": [
    "df_new = df.copy()\n",
    "\n",
    "df_new.loc[(df_new.Sex=='женский'), 'Weight'] = df_new.loc[(df_new.Sex=='женский'), 'Weight'].fillna(df_new.loc[(df_new.Sex=='женский'), 'Weight'].mean())\n",
    "df_new.loc[(df_new.Sex=='мужской'), 'Weight'] = df_new.loc[(df_new.Sex=='мужской'), 'Weight'].fillna(df_new.loc[(df_new.Sex=='мужской'), 'Weight'].mean())\n",
    "\n",
    "df_new['Weight'].mean()"
   ]
  },
  {
   "cell_type": "code",
   "execution_count": 444,
   "metadata": {},
   "outputs": [
    {
     "name": "stderr",
     "output_type": "stream",
     "text": [
      "C:\\Users\\Pong\\AppData\\Local\\Temp\\ipykernel_9988\\1188050179.py:3: SettingWithCopyWarning: \n",
      "A value is trying to be set on a copy of a slice from a DataFrame.\n",
      "Try using .loc[row_indexer,col_indexer] = value instead\n",
      "\n",
      "See the caveats in the documentation: https://pandas.pydata.org/pandas-docs/stable/user_guide/indexing.html#returning-a-view-versus-a-copy\n",
      "  singles['Children number'] = singles['Children number'].fillna(singles['Children number'].median())\n",
      "C:\\Users\\Pong\\AppData\\Local\\Temp\\ipykernel_9988\\1188050179.py:4: SettingWithCopyWarning: \n",
      "A value is trying to be set on a copy of a slice from a DataFrame.\n",
      "Try using .loc[row_indexer,col_indexer] = value instead\n",
      "\n",
      "See the caveats in the documentation: https://pandas.pydata.org/pandas-docs/stable/user_guide/indexing.html#returning-a-view-versus-a-copy\n",
      "  sublings['Children number'] = sublings['Children number'].fillna(sublings['Children number'].median())\n"
     ]
    },
    {
     "data": {
      "text/plain": [
       "2.0"
      ]
     },
     "execution_count": 444,
     "metadata": {},
     "output_type": "execute_result"
    }
   ],
   "source": [
    "singles = df.loc[df['Brother-sister'] == 'нет ни брата ни сестры' ]\n",
    "sublings = df.loc[df['Brother-sister'] != 'нет ни брата ни сестры' ]\n",
    "singles['Children number'] = singles['Children number'].fillna(singles['Children number'].median())\n",
    "sublings['Children number'] = sublings['Children number'].fillna(sublings['Children number'].median())\n",
    "df_new = pd.concat([singles, sublings])\n",
    "df_new['Children number'].median()"
   ]
  },
  {
   "cell_type": "code",
   "execution_count": 445,
   "metadata": {},
   "outputs": [
    {
     "data": {
      "text/plain": [
       "2.0"
      ]
     },
     "execution_count": 445,
     "metadata": {},
     "output_type": "execute_result"
    }
   ],
   "source": [
    "df.groupby(df['Brother-sister'] != 'нет ни брата ни сестры')['Children number'].apply(lambda x: x.fillna(x.median())).median()"
   ]
  },
  {
   "cell_type": "code",
   "execution_count": 446,
   "metadata": {},
   "outputs": [
    {
     "data": {
      "text/plain": [
       "(62.5, 74.5)"
      ]
     },
     "execution_count": 446,
     "metadata": {},
     "output_type": "execute_result"
    }
   ],
   "source": [
    "iqr = df['Putin age'].quantile(0.75) - df['Putin age'].quantile(0.25)\n",
    "low, hight = df['Putin age'].quantile(0.25) - 1.5 * iqr, df['Putin age'].quantile(0.75) + 1.5 * iqr\n",
    "low, hight"
   ]
  },
  {
   "cell_type": "code",
   "execution_count": 447,
   "metadata": {},
   "outputs": [
    {
     "name": "stdout",
     "output_type": "stream",
     "text": [
      "148\n",
      "69.0\n"
     ]
    }
   ],
   "source": [
    "df_new = df.copy()\n",
    "\n",
    "print(len(df_new.loc[(df_new['Putin age'] > low) & (df_new['Putin age'] < hight)]))\n",
    "print(df_new.loc[(df_new['Putin age'] > low) & (df_new['Putin age'] < hight)]['Putin age'].median())"
   ]
  },
  {
   "cell_type": "markdown",
   "metadata": {},
   "source": [
    "# 3.4  Кластеризация"
   ]
  },
  {
   "cell_type": "code",
   "execution_count": 448,
   "metadata": {},
   "outputs": [],
   "source": [
    "import seaborn as sns\n",
    "from sklearn.cluster import KMeans"
   ]
  },
  {
   "cell_type": "code",
   "execution_count": 449,
   "metadata": {},
   "outputs": [],
   "source": [
    "# Кластеризация по росту и весу"
   ]
  },
  {
   "cell_type": "code",
   "execution_count": 450,
   "metadata": {},
   "outputs": [
    {
     "name": "stderr",
     "output_type": "stream",
     "text": [
      "c:\\Users\\Pong\\anaconda3\\Lib\\site-packages\\sklearn\\cluster\\_kmeans.py:1429: UserWarning: KMeans is known to have a memory leak on Windows with MKL, when there are less chunks than available threads. You can avoid it by setting the environment variable OMP_NUM_THREADS=1.\n",
      "  warnings.warn(\n",
      "C:\\Users\\Pong\\AppData\\Local\\Temp\\ipykernel_9988\\4055670114.py:5: SettingWithCopyWarning: \n",
      "A value is trying to be set on a copy of a slice from a DataFrame.\n",
      "Try using .loc[row_indexer,col_indexer] = value instead\n",
      "\n",
      "See the caveats in the documentation: https://pandas.pydata.org/pandas-docs/stable/user_guide/indexing.html#returning-a-view-versus-a-copy\n",
      "  df_cut['Clusters'] = kmeans.labels_\n"
     ]
    }
   ],
   "source": [
    "df_new = df[['Weight', 'Growth', 'Sex']]\n",
    "df_cut = df_new.dropna()\n",
    "kmeans = KMeans(n_clusters=2, random_state=0)\n",
    "kmeans.fit(df_cut[['Weight', 'Growth']])\n",
    "df_cut['Clusters'] = kmeans.labels_"
   ]
  },
  {
   "cell_type": "code",
   "execution_count": 451,
   "metadata": {},
   "outputs": [
    {
     "data": {
      "image/png": "[encoded data removed]",
      "text/plain": [
       "<Figure size 640x480 with 1 Axes>"
      ]
     },
     "metadata": {},
     "output_type": "display_data"
    }
   ],
   "source": [
    "sns.scatterplot(df_cut, x='Weight', y='Growth', hue='Clusters');"
   ]
  },
  {
   "cell_type": "code",
   "execution_count": 452,
   "metadata": {},
   "outputs": [
    {
     "data": {
      "text/html": [
       "<div>\n",
       "<style scoped>\n",
       "    .dataframe tbody tr th:only-of-type {\n",
       "        vertical-align: middle;\n",
       "    }\n",
       "\n",
       "    .dataframe tbody tr th {\n",
       "        vertical-align: top;\n",
       "    }\n",
       "\n",
       "    .dataframe thead th {\n",
       "        text-align: right;\n",
       "    }\n",
       "</style>\n",
       "<table border=\"1\" class=\"dataframe\">\n",
       "  <thead>\n",
       "    <tr style=\"text-align: right;\">\n",
       "      <th></th>\n",
       "      <th>Weight</th>\n",
       "      <th>Growth</th>\n",
       "      <th>Sex</th>\n",
       "      <th>Clusters</th>\n",
       "    </tr>\n",
       "  </thead>\n",
       "  <tbody>\n",
       "    <tr>\n",
       "      <th>0</th>\n",
       "      <td>64.0</td>\n",
       "      <td>170</td>\n",
       "      <td>женский</td>\n",
       "      <td>0</td>\n",
       "    </tr>\n",
       "    <tr>\n",
       "      <th>1</th>\n",
       "      <td>73.0</td>\n",
       "      <td>191</td>\n",
       "      <td>мужской</td>\n",
       "      <td>1</td>\n",
       "    </tr>\n",
       "    <tr>\n",
       "      <th>2</th>\n",
       "      <td>60.0</td>\n",
       "      <td>172</td>\n",
       "      <td>мужской</td>\n",
       "      <td>0</td>\n",
       "    </tr>\n",
       "    <tr>\n",
       "      <th>3</th>\n",
       "      <td>59.0</td>\n",
       "      <td>168</td>\n",
       "      <td>женский</td>\n",
       "      <td>0</td>\n",
       "    </tr>\n",
       "    <tr>\n",
       "      <th>4</th>\n",
       "      <td>57.0</td>\n",
       "      <td>159</td>\n",
       "      <td>женский</td>\n",
       "      <td>0</td>\n",
       "    </tr>\n",
       "  </tbody>\n",
       "</table>\n",
       "</div>"
      ],
      "text/plain": [
       "   Weight  Growth      Sex  Clusters\n",
       "0    64.0     170  женский         0\n",
       "1    73.0     191  мужской         1\n",
       "2    60.0     172  мужской         0\n",
       "3    59.0     168  женский         0\n",
       "4    57.0     159  женский         0"
      ]
     },
     "execution_count": 452,
     "metadata": {},
     "output_type": "execute_result"
    }
   ],
   "source": [
    "df_cut.head()"
   ]
  },
  {
   "cell_type": "code",
   "execution_count": 453,
   "metadata": {},
   "outputs": [
    {
     "data": {
      "text/plain": [
       "<Axes: xlabel='Weight', ylabel='Growth'>"
      ]
     },
     "execution_count": 453,
     "metadata": {},
     "output_type": "execute_result"
    },
    {
     "data": {
      "image/png": "[encoded data removed]",
      "text/plain": [
       "<Figure size 640x480 with 1 Axes>"
      ]
     },
     "metadata": {},
     "output_type": "display_data"
    }
   ],
   "source": [
    "sns.scatterplot(df_cut, x='Weight', y='Growth', hue='Sex')"
   ]
  },
  {
   "cell_type": "code",
   "execution_count": 454,
   "metadata": {},
   "outputs": [],
   "source": [
    "# Кластеризация по размеру обуви и весу    "
   ]
  },
  {
   "cell_type": "code",
   "execution_count": 455,
   "metadata": {},
   "outputs": [
    {
     "name": "stderr",
     "output_type": "stream",
     "text": [
      "c:\\Users\\Pong\\anaconda3\\Lib\\site-packages\\sklearn\\cluster\\_kmeans.py:1429: UserWarning: KMeans is known to have a memory leak on Windows with MKL, when there are less chunks than available threads. You can avoid it by setting the environment variable OMP_NUM_THREADS=1.\n",
      "  warnings.warn(\n",
      "C:\\Users\\Pong\\AppData\\Local\\Temp\\ipykernel_9988\\4140103915.py:5: SettingWithCopyWarning: \n",
      "A value is trying to be set on a copy of a slice from a DataFrame.\n",
      "Try using .loc[row_indexer,col_indexer] = value instead\n",
      "\n",
      "See the caveats in the documentation: https://pandas.pydata.org/pandas-docs/stable/user_guide/indexing.html#returning-a-view-versus-a-copy\n",
      "  df_cut['Clusters'] = kmeans.labels_\n"
     ]
    }
   ],
   "source": [
    "df_new = df[['Shoe size', 'Weight', 'Sex']]\n",
    "df_cut = df_new.dropna()\n",
    "kmeans = KMeans(n_clusters=2, random_state=1)\n",
    "kmeans.fit(df_cut[['Weight', 'Shoe size']])\n",
    "df_cut['Clusters'] = kmeans.labels_"
   ]
  },
  {
   "cell_type": "code",
   "execution_count": 456,
   "metadata": {},
   "outputs": [
    {
     "data": {
      "text/html": [
       "<div>\n",
       "<style scoped>\n",
       "    .dataframe tbody tr th:only-of-type {\n",
       "        vertical-align: middle;\n",
       "    }\n",
       "\n",
       "    .dataframe tbody tr th {\n",
       "        vertical-align: top;\n",
       "    }\n",
       "\n",
       "    .dataframe thead th {\n",
       "        text-align: right;\n",
       "    }\n",
       "</style>\n",
       "<table border=\"1\" class=\"dataframe\">\n",
       "  <thead>\n",
       "    <tr style=\"text-align: right;\">\n",
       "      <th></th>\n",
       "      <th>Shoe size</th>\n",
       "      <th>Weight</th>\n",
       "      <th>Sex</th>\n",
       "      <th>Clusters</th>\n",
       "    </tr>\n",
       "  </thead>\n",
       "  <tbody>\n",
       "    <tr>\n",
       "      <th>0</th>\n",
       "      <td>40</td>\n",
       "      <td>64.0</td>\n",
       "      <td>женский</td>\n",
       "      <td>0</td>\n",
       "    </tr>\n",
       "    <tr>\n",
       "      <th>1</th>\n",
       "      <td>43</td>\n",
       "      <td>73.0</td>\n",
       "      <td>мужской</td>\n",
       "      <td>1</td>\n",
       "    </tr>\n",
       "    <tr>\n",
       "      <th>2</th>\n",
       "      <td>41</td>\n",
       "      <td>60.0</td>\n",
       "      <td>мужской</td>\n",
       "      <td>0</td>\n",
       "    </tr>\n",
       "    <tr>\n",
       "      <th>3</th>\n",
       "      <td>38</td>\n",
       "      <td>59.0</td>\n",
       "      <td>женский</td>\n",
       "      <td>0</td>\n",
       "    </tr>\n",
       "    <tr>\n",
       "      <th>4</th>\n",
       "      <td>36</td>\n",
       "      <td>57.0</td>\n",
       "      <td>женский</td>\n",
       "      <td>0</td>\n",
       "    </tr>\n",
       "  </tbody>\n",
       "</table>\n",
       "</div>"
      ],
      "text/plain": [
       "   Shoe size  Weight      Sex  Clusters\n",
       "0         40    64.0  женский         0\n",
       "1         43    73.0  мужской         1\n",
       "2         41    60.0  мужской         0\n",
       "3         38    59.0  женский         0\n",
       "4         36    57.0  женский         0"
      ]
     },
     "execution_count": 456,
     "metadata": {},
     "output_type": "execute_result"
    }
   ],
   "source": [
    "df_cut.head()"
   ]
  },
  {
   "cell_type": "code",
   "execution_count": 460,
   "metadata": {},
   "outputs": [
    {
     "data": {
      "text/plain": [
       "31"
      ]
     },
     "execution_count": 460,
     "metadata": {},
     "output_type": "execute_result"
    }
   ],
   "source": [
    "len(df_cut.loc[(df_cut['Sex'] == 'мужской') & (df_cut['Clusters'] == 0)])"
   ]
  },
  {
   "cell_type": "markdown",
   "metadata": {},
   "source": [
    "# 4.1 Задача предсказания и регрессия"
   ]
  },
  {
   "cell_type": "code",
   "execution_count": 463,
   "metadata": {},
   "outputs": [],
   "source": [
    "from sklearn.linear_model import LinearRegression"
   ]
  },
  {
   "cell_type": "code",
   "execution_count": 464,
   "metadata": {},
   "outputs": [],
   "source": [
    "df_cut = df[['Growth', 'Shoe size']]\n",
    "df_cut = df_cut.dropna()"
   ]
  },
  {
   "cell_type": "code",
   "execution_count": 466,
   "metadata": {},
   "outputs": [
    {
     "data": {
      "image/png": "[encoded data removed]",
      "text/plain": [
       "<Figure size 640x480 with 1 Axes>"
      ]
     },
     "metadata": {},
     "output_type": "display_data"
    }
   ],
   "source": [
    "sns.scatterplot(df_cut, x='Shoe size', y='Growth');"
   ]
  },
  {
   "cell_type": "code",
   "execution_count": 468,
   "metadata": {},
   "outputs": [],
   "source": [
    "logreg = LinearRegression()\n",
    "results = logreg.fit(df_cut['Shoe size'].values.reshape(-1, 1), y=df_cut['Growth'])"
   ]
  },
  {
   "cell_type": "code",
   "execution_count": 471,
   "metadata": {},
   "outputs": [],
   "source": [
    "# df_cut['Shoe size'].values.reshape(-1, 1)"
   ]
  },
  {
   "cell_type": "code",
   "execution_count": 479,
   "metadata": {},
   "outputs": [
    {
     "name": "stdout",
     "output_type": "stream",
     "text": [
      "a = 2.7771705842872185, b = 60.365811257367284\n"
     ]
    }
   ],
   "source": [
    "# growth = a * shoe_size + b\n",
    "# growth = 2.77717058 * shoe_size + 60.365811257367284\n",
    "\n",
    "print(f'a = {results.coef_[0]}, b = {results.intercept_}')"
   ]
  },
  {
   "cell_type": "code",
   "execution_count": null,
   "metadata": {},
   "outputs": [],
   "source": [
    "# Предсказание роста\n",
    "df_cut['Predicted growth'] = results.predict(df_cut['Shoe size'].values.reshape(-1, 1))"
   ]
  },
  {
   "cell_type": "code",
   "execution_count": 481,
   "metadata": {},
   "outputs": [
    {
     "data": {
      "text/html": [
       "<div>\n",
       "<style scoped>\n",
       "    .dataframe tbody tr th:only-of-type {\n",
       "        vertical-align: middle;\n",
       "    }\n",
       "\n",
       "    .dataframe tbody tr th {\n",
       "        vertical-align: top;\n",
       "    }\n",
       "\n",
       "    .dataframe thead th {\n",
       "        text-align: right;\n",
       "    }\n",
       "</style>\n",
       "<table border=\"1\" class=\"dataframe\">\n",
       "  <thead>\n",
       "    <tr style=\"text-align: right;\">\n",
       "      <th></th>\n",
       "      <th>Growth</th>\n",
       "      <th>Shoe size</th>\n",
       "      <th>Predicted growth</th>\n",
       "    </tr>\n",
       "  </thead>\n",
       "  <tbody>\n",
       "    <tr>\n",
       "      <th>0</th>\n",
       "      <td>170</td>\n",
       "      <td>40</td>\n",
       "      <td>171.452635</td>\n",
       "    </tr>\n",
       "    <tr>\n",
       "      <th>1</th>\n",
       "      <td>191</td>\n",
       "      <td>43</td>\n",
       "      <td>179.784146</td>\n",
       "    </tr>\n",
       "    <tr>\n",
       "      <th>2</th>\n",
       "      <td>172</td>\n",
       "      <td>41</td>\n",
       "      <td>174.229805</td>\n",
       "    </tr>\n",
       "    <tr>\n",
       "      <th>3</th>\n",
       "      <td>168</td>\n",
       "      <td>38</td>\n",
       "      <td>165.898293</td>\n",
       "    </tr>\n",
       "    <tr>\n",
       "      <th>4</th>\n",
       "      <td>159</td>\n",
       "      <td>36</td>\n",
       "      <td>160.343952</td>\n",
       "    </tr>\n",
       "  </tbody>\n",
       "</table>\n",
       "</div>"
      ],
      "text/plain": [
       "   Growth  Shoe size  Predicted growth\n",
       "0     170         40        171.452635\n",
       "1     191         43        179.784146\n",
       "2     172         41        174.229805\n",
       "3     168         38        165.898293\n",
       "4     159         36        160.343952"
      ]
     },
     "execution_count": 481,
     "metadata": {},
     "output_type": "execute_result"
    }
   ],
   "source": [
    "df_cut.head()"
   ]
  },
  {
   "cell_type": "code",
   "execution_count": 484,
   "metadata": {},
   "outputs": [],
   "source": [
    "# Ошибка предсказания (средняя абсолютная ошибка)\n",
    "from sklearn.metrics import mean_absolute_error"
   ]
  },
  {
   "cell_type": "code",
   "execution_count": 485,
   "metadata": {},
   "outputs": [
    {
     "data": {
      "text/plain": [
       "3.4506986819983885"
      ]
     },
     "execution_count": 485,
     "metadata": {},
     "output_type": "execute_result"
    }
   ],
   "source": [
    "mean_absolute_error(df_cut['Growth'], df_cut['Predicted growth'])"
   ]
  },
  {
   "cell_type": "code",
   "execution_count": null,
   "metadata": {},
   "outputs": [],
   "source": []
  },
  {
   "cell_type": "code",
   "execution_count": 459,
   "metadata": {},
   "outputs": [
    {
     "data": {
      "text/plain": [
       "Index(['Age', 'Growth', 'Shoe size', 'Course number', 'Year of birth',\n",
       "       'Friend number', 'Russian rating', 'Maths rating', 'Physics rating',\n",
       "       'Computer science rating', 'Chemistry rating', 'Literature rating',\n",
       "       'History rating', 'Geography rating', 'Biology rating',\n",
       "       'Foreign language rating', 'Social science rating',\n",
       "       'Distance to home km', 'Minutes to first class', 'Children number',\n",
       "       'Removed teeth', 'Weight', 'Glasses', 'Sex',\n",
       "       'Problems in last semester', 'Coin', 'Rock paper scissors', 'Animal',\n",
       "       'Month of birthday', 'Your rating in university', 'Fastfood',\n",
       "       'Height of 5000 mm', 'Width of 5000 mm', 'Putin age', 'Army', 'Hostel',\n",
       "       'Hair length', 'Floor number', 'Social network duration min',\n",
       "       'Chocolate', 'City population', 'Strange people', 'Your insitute',\n",
       "       'Brother-sister', 'Plane seat', 'MIddle and index finger',\n",
       "       'Middle and ring finger', 'Middle and little finger'],\n",
       "      dtype='object')"
      ]
     },
     "execution_count": 459,
     "metadata": {},
     "output_type": "execute_result"
    }
   ],
   "source": [
    "df.columns"
   ]
  }
 ],
 "metadata": {
  "kernelspec": {
   "display_name": "base",
   "language": "python",
   "name": "python3"
  },
  "language_info": {
   "codemirror_mode": {
    "name": "ipython",
    "version": 3
   },
   "file_extension": ".py",
   "mimetype": "text/x-python",
   "name": "python",
   "nbconvert_exporter": "python",
   "pygments_lexer": "ipython3",
   "version": "3.11.10"
  }
 },
 "nbformat": 4,
 "nbformat_minor": 2
}
