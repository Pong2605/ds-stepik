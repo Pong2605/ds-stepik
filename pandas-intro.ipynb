{
 "cells": [
  {
   "cell_type": "code",
   "execution_count": 81,
   "metadata": {},
   "outputs": [],
   "source": [
    "import pandas as pd\n",
    "import numpy as np"
   ]
  },
  {
   "cell_type": "markdown",
   "metadata": {},
   "source": [
    "# 2.2 Объект Series в Pandas и его создание"
   ]
  },
  {
   "cell_type": "code",
   "execution_count": 82,
   "metadata": {},
   "outputs": [
    {
     "name": "stdout",
     "output_type": "stream",
     "text": [
      "0    1\n",
      "1    2\n",
      "2    3\n",
      "3    4\n",
      "4    5\n",
      "dtype: int64\n",
      "z    1\n",
      "x    2\n",
      "c    3\n",
      "v    4\n",
      "b    5\n",
      "dtype: int32\n",
      "a    1\n",
      "b    2\n",
      "c    3\n",
      "d    4\n",
      "e    5\n",
      "dtype: int64\n",
      "0    (1, a)\n",
      "1    (2, b)\n",
      "2    (3, c)\n",
      "dtype: object\n",
      "a    5\n",
      "b    5\n",
      "c    5\n",
      "dtype: int64\n"
     ]
    }
   ],
   "source": [
    "# создание объекта Series из списка\n",
    "my_list = [1, 2, 3, 4, 5]\n",
    "s = pd.Series(my_list)\n",
    "print(s)\n",
    "\n",
    "# создание объекта Series из массива NumPy\n",
    "my_array = np.array([1, 2, 3, 4, 5])\n",
    "s = pd.Series(my_array, list('zxcvb'))\n",
    "print(s)\n",
    "\n",
    "# создание объекта Series из словаря Python\n",
    "my_dict = {'a': 1, 'b': 2, 'c': 3, 'd': 4, 'e': 5}\n",
    "s = pd.Series(my_dict)\n",
    "print(s)\n",
    "\n",
    "# создание объекта Series из списка кортежей\n",
    "s = pd.Series([(1, 'a'), (2, 'b'), (3, 'c')])\n",
    "print(s)\n",
    "\n",
    "# создание объекта Series из скалярного значения\n",
    "s = pd.Series(5, index=['a', 'b', 'c'])\n",
    "print(s)\n"
   ]
  },
  {
   "cell_type": "code",
   "execution_count": 83,
   "metadata": {},
   "outputs": [
    {
     "name": "stdout",
     "output_type": "stream",
     "text": [
      "0    1\n",
      "1    2\n",
      "2    3\n",
      "dtype: int64\n"
     ]
    }
   ],
   "source": [
    "# создание объекта Series\n",
    "s1 = pd.Series([1, 2, 3])\n",
    "\n",
    "# создание нового объекта Series на основе существующего\n",
    "s2 = pd.Series(s1)\n",
    "print(s2)"
   ]
  },
  {
   "cell_type": "code",
   "execution_count": 84,
   "metadata": {},
   "outputs": [
    {
     "data": {
      "text/plain": [
       "1    1\n",
       "2    2\n",
       "3    3\n",
       "dtype: int64"
      ]
     },
     "execution_count": 84,
     "metadata": {},
     "output_type": "execute_result"
    }
   ],
   "source": [
    "s = pd.Series([1, 2, 3], {1, 2, 3})\n",
    "s = pd.Series([1, 2, 3], (1, 2, 3))\n",
    "s = pd.Series([1, 2, 3], [1, 2, 3])\n",
    "s"
   ]
  },
  {
   "cell_type": "code",
   "execution_count": 85,
   "metadata": {},
   "outputs": [
    {
     "name": "stdout",
     "output_type": "stream",
     "text": [
      "a    1\n",
      "b    4\n",
      "c    6\n",
      "dtype: int64\n"
     ]
    }
   ],
   "source": [
    "print(__import__('pandas').Series(dict(zip('abc', [1, 4, 6, 2]))))"
   ]
  },
  {
   "cell_type": "code",
   "execution_count": 86,
   "metadata": {},
   "outputs": [
    {
     "name": "stdout",
     "output_type": "stream",
     "text": [
      "a    1\n",
      "b    2\n",
      "c    3\n",
      "d    4\n",
      "f    5\n",
      "dtype: int32\n"
     ]
    }
   ],
   "source": [
    "arr = [1, 2, 3, 4, 5]\n",
    "\n",
    "print(pd.Series(np.array(arr), [*'abcdf']))"
   ]
  },
  {
   "cell_type": "code",
   "execution_count": 87,
   "metadata": {},
   "outputs": [
    {
     "data": {
      "text/plain": [
       "0    (1, a)\n",
       "1    (2, b)\n",
       "2    (3, c)\n",
       "dtype: object"
      ]
     },
     "execution_count": 87,
     "metadata": {},
     "output_type": "execute_result"
    }
   ],
   "source": [
    "# a = tuple((i, j) for i, j in zip(list(map(str, input().split())), list(map(int, input().split()))))\n",
    "a = tuple((i, j) for i, j in zip([1, 2, 3], list('abc')))\n",
    "pd.Series(a)"
   ]
  },
  {
   "cell_type": "code",
   "execution_count": 88,
   "metadata": {},
   "outputs": [
    {
     "data": {
      "text/plain": [
       "0    (1, a)\n",
       "1    (2, b)\n",
       "2    (3, c)\n",
       "dtype: object"
      ]
     },
     "execution_count": 88,
     "metadata": {},
     "output_type": "execute_result"
    }
   ],
   "source": [
    "# a = (zip(input().split(), input().split()))\n",
    "a = (zip([1,2,3], [*'abc']))\n",
    "pd.Series(a)"
   ]
  },
  {
   "cell_type": "code",
   "execution_count": 89,
   "metadata": {},
   "outputs": [
    {
     "data": {
      "text/plain": [
       "0    Prived\n",
       "1    Medved\n",
       "2       Kag\n",
       "3      Dela\n",
       "dtype: object"
      ]
     },
     "execution_count": 89,
     "metadata": {},
     "output_type": "execute_result"
    }
   ],
   "source": [
    "s = 'Prived Medved Kag Dela'\n",
    "pd.Series(s.split(' '))"
   ]
  },
  {
   "cell_type": "code",
   "execution_count": 90,
   "metadata": {},
   "outputs": [
    {
     "data": {
      "text/plain": [
       "a    False\n",
       "b     True\n",
       "c    False\n",
       "d    False\n",
       "e     True\n",
       "dtype: bool"
      ]
     },
     "execution_count": 90,
     "metadata": {},
     "output_type": "execute_result"
    }
   ],
   "source": [
    "from string import ascii_lowercase\n",
    "\n",
    "# data = [bool(i) for i in list(map(int, input().split()))]\n",
    "data = [0, 1, 0, 0, 1]\n",
    "data = [bool(i) for i in data]\n",
    "pd.Series(data, list(ascii_lowercase[:len(data)]))"
   ]
  },
  {
   "cell_type": "code",
   "execution_count": 91,
   "metadata": {},
   "outputs": [
    {
     "data": {
      "text/plain": [
       "a    False\n",
       "b     True\n",
       "c    False\n",
       "d    False\n",
       "e     True\n",
       "dtype: bool"
      ]
     },
     "execution_count": 91,
     "metadata": {},
     "output_type": "execute_result"
    }
   ],
   "source": [
    "# data = np.array(input().split()).astype(int)\n",
    "data = np.array([0, 1, 0, 0, 1])\n",
    "pd.Series(data == 1, index=list(ascii_lowercase)[:len(data)])"
   ]
  },
  {
   "cell_type": "code",
   "execution_count": 92,
   "metadata": {},
   "outputs": [
    {
     "data": {
      "text/plain": [
       "0    2022-01-01\n",
       "1    2022-01-02\n",
       "2    2022-01-03\n",
       "dtype: object"
      ]
     },
     "execution_count": 92,
     "metadata": {},
     "output_type": "execute_result"
    }
   ],
   "source": [
    "pd.Series(['2022-01-01', '2022-01-02', '2022-01-03'])"
   ]
  },
  {
   "cell_type": "code",
   "execution_count": 93,
   "metadata": {},
   "outputs": [
    {
     "data": {
      "text/plain": [
       "1    -5\n",
       "3     5\n",
       "5    15\n",
       "7    25\n",
       "9    35\n",
       "dtype: int64"
      ]
     },
     "execution_count": 93,
     "metadata": {},
     "output_type": "execute_result"
    }
   ],
   "source": [
    "# n, m = (int(i) for i in input().split())\n",
    "n, m = -5, 35\n",
    "data = list(range(n, m + 1, 10))\n",
    "ind = list(range(1, 2 * len(data), 2))\n",
    "pd.Series(data, ind)"
   ]
  },
  {
   "cell_type": "markdown",
   "metadata": {},
   "source": [
    "# 2.3 Атрибуты index и values объекта Series"
   ]
  },
  {
   "cell_type": "code",
   "execution_count": 94,
   "metadata": {},
   "outputs": [
    {
     "name": "stdout",
     "output_type": "stream",
     "text": [
      "Index(['a', 'b', 'c', 'd'], dtype='object')\n",
      "[10 20 30 40]\n"
     ]
    }
   ],
   "source": [
    "# Создание объекта Series с пользовательскими метками\n",
    "s = pd.Series(data=[10, 20, 30, 40], index=['a', 'b', 'c', 'd'])\n",
    "\n",
    "# Просмотр меток\n",
    "print(s.index)\n",
    "\n",
    "# Просмотр данных\n",
    "print(s.values)"
   ]
  },
  {
   "cell_type": "code",
   "execution_count": 95,
   "metadata": {},
   "outputs": [
    {
     "name": "stdout",
     "output_type": "stream",
     "text": [
      "10\n",
      "a    10\n",
      "c    30\n",
      "dtype: int64\n"
     ]
    }
   ],
   "source": [
    "# Создание объекта Series с пользовательскими метками\n",
    "s = pd.Series([10, 20, 30, 40], index=['a', 'b', 'c', 'd'])\n",
    "\n",
    "# Выбор элементов по меткам\n",
    "print(s['a'])\n",
    "print(s[['a', 'c']])"
   ]
  },
  {
   "cell_type": "code",
   "execution_count": 96,
   "metadata": {},
   "outputs": [
    {
     "name": "stdout",
     "output_type": "stream",
     "text": [
      "[50 20 30 40]\n"
     ]
    }
   ],
   "source": [
    "# Изменение элемента по метке\n",
    "s['a'] = 50\n",
    "\n",
    "# Просмотр измененных данных\n",
    "print(s.values)"
   ]
  },
  {
   "cell_type": "code",
   "execution_count": 97,
   "metadata": {},
   "outputs": [
    {
     "name": "stdout",
     "output_type": "stream",
     "text": [
      "[100  40  60  80]\n"
     ]
    }
   ],
   "source": [
    "# Выполнение операции над элементами\n",
    "s = s * 2\n",
    "\n",
    "# Просмотр измененных данных\n",
    "print(s.values)"
   ]
  },
  {
   "cell_type": "code",
   "execution_count": 98,
   "metadata": {},
   "outputs": [
    {
     "data": {
      "text/plain": [
       "A    0\n",
       "B    1\n",
       "C    2\n",
       "D    3\n",
       "E    4\n",
       "dtype: int64"
      ]
     },
     "execution_count": 98,
     "metadata": {},
     "output_type": "execute_result"
    }
   ],
   "source": [
    "# Создайте объект Series, содержащий первые 10 нечетных чисел, с метками - буквами латинского алфавита в верхнем регистре.\n",
    "from string import ascii_uppercase\n",
    "pd.Series(range(10), list(ascii_uppercase[:10])).head()"
   ]
  },
  {
   "cell_type": "code",
   "execution_count": 99,
   "metadata": {},
   "outputs": [
    {
     "name": "stdout",
     "output_type": "stream",
     "text": [
      "RangeIndex(start=0, stop=26, step=1)\n",
      "['a' 'b' 'c' 'd' 'e' 'f' 'g' 'h' 'i' 'j' 'k' 'l' 'm' 'n' 'o' 'p' 'q' 'r'\n",
      " 's' 't' 'u' 'v' 'w' 'x' 'y' 'z']\n"
     ]
    }
   ],
   "source": [
    "# Создайте объект Series, содержащий буквы латинского алфавита в нижнем регистре. Выведите на печать атрибуты index и values полученного объекта, каждый с новой строки.\n",
    "data = pd.Series(list(ascii_lowercase))\n",
    "print(data.index)\n",
    "print(data.values)"
   ]
  },
  {
   "cell_type": "code",
   "execution_count": 100,
   "metadata": {},
   "outputs": [
    {
     "name": "stdout",
     "output_type": "stream",
     "text": [
      "21538187\n"
     ]
    }
   ],
   "source": [
    "states = ['Alabama', 'Alaska', 'Arizona', 'Arkansas', 'California', 'Colorado', 'Connecticut', \n",
    "          'Delaware', 'Florida', 'Georgia', 'Hawaii', 'Idaho', 'Illinois', 'Indiana', 'Iowa']\n",
    "populations = [4903185, 731545, 7278717, 3017825, 39538223, 578713, 3605944, 986809, 21538187,\n",
    " 10711908, 1455271, 1826156, 12671821, 6745354, 3179849]\n",
    "data = pd.Series(populations, states)\n",
    "# print(data[input()])\n",
    "s = 'Florida'\n",
    "print(data[s])"
   ]
  },
  {
   "cell_type": "code",
   "execution_count": 101,
   "metadata": {},
   "outputs": [
    {
     "name": "stdout",
     "output_type": "stream",
     "text": [
      "Arizona        7278717\n",
      "California    39538223\n",
      "Florida       21538187\n",
      "Hawaii         1455271\n",
      "dtype: int64\n"
     ]
    }
   ],
   "source": [
    "# print(data[input().split()])\n",
    "s = ['Arizona', 'California',  'Florida',  'Hawaii']\n",
    "print(data[s])"
   ]
  },
  {
   "cell_type": "code",
   "execution_count": 102,
   "metadata": {},
   "outputs": [
    {
     "name": "stdout",
     "output_type": "stream",
     "text": [
      "2022-05-01    64\n",
      "2022-05-03    71\n",
      "dtype: int64\n"
     ]
    }
   ],
   "source": [
    "ind = ['2022-05-01', '2022-05-02', '2022-05-03']\n",
    "data = [64, 73, 71]\n",
    "variables = ['2022-05-01', '2022-05-03']\n",
    "\n",
    "ser = pd.Series(data, ind)\n",
    "print(ser[variables])"
   ]
  },
  {
   "cell_type": "code",
   "execution_count": 103,
   "metadata": {},
   "outputs": [
    {
     "name": "stdout",
     "output_type": "stream",
     "text": [
      "64 71\n"
     ]
    }
   ],
   "source": [
    "ind = ['2022-05-01', '2022-05-02', '2022-05-03']\n",
    "data = [64, 73, 71]\n",
    "variables = ['2022-05-01', '2022-05-03']\n",
    "\n",
    "ser = pd.Series(data, ind)\n",
    "print(*ser[variables])"
   ]
  },
  {
   "cell_type": "code",
   "execution_count": 104,
   "metadata": {},
   "outputs": [
    {
     "name": "stdout",
     "output_type": "stream",
     "text": [
      "2019-03-01    23\n",
      "2019-03-02     5\n",
      "2019-03-03     4\n",
      "2019-03-04     4\n",
      "2019-03-05    18\n",
      "dtype: int32\n"
     ]
    }
   ],
   "source": [
    "from datetime import date, timedelta\n",
    "np.random.seed(33)\n",
    "dates = list(map(str,[date(2019, 1, 4) + timedelta(days=i) for i in range(360)]))\n",
    "temperatures = np.random.randint(-10, 35, len(dates))\n",
    "dates = pd.to_datetime(dates)\n",
    "ser = pd.Series(temperatures, dates) # приведение к типу datetime\n",
    "n = 3 # номер месяца\n",
    "print(ser[dates.month == n].head())"
   ]
  },
  {
   "cell_type": "code",
   "execution_count": 105,
   "metadata": {},
   "outputs": [
    {
     "name": "stdout",
     "output_type": "stream",
     "text": [
      "61 83\n"
     ]
    }
   ],
   "source": [
    "names = ['Иван', 'Олег', 'Татьяна', 'Марина', 'Алексей', 'Андрей']\n",
    "scores = [65, 61, 83, 68, 69, 99]\n",
    "request = ['Олег', 'Татьяна']\n",
    "ser = pd.Series(scores, names)\n",
    "print(*ser[request].values)"
   ]
  },
  {
   "cell_type": "code",
   "execution_count": 106,
   "metadata": {},
   "outputs": [
    {
     "name": "stdout",
     "output_type": "stream",
     "text": [
      "Россия     144.5\n",
      "США        328.2\n",
      "Китай     1393.0\n",
      "Индия     1366.0\n",
      "Япония     126.5\n",
      "dtype: float64\n",
      "Россия     144.5\n",
      "США        328.2\n",
      "Китай     1393.0\n",
      "Индия     1366.0\n",
      "Япония     110.0\n",
      "dtype: float64\n"
     ]
    }
   ],
   "source": [
    "countries = ['Россия', 'США', 'Китай', 'Индия', 'Япония', 'Германия', 'Великобритания', 'Франция', 'Италия', 'Канада', 'Южная_Корея', 'Австралия']\n",
    "populations = [144.5, 328.2, 1393.0, 1366.0, 126.5, 83.1, 66.7, 66.99, 60.4, 37.59, 51.78, 25.4]\n",
    "n, m = 'Япония', 110\n",
    "ser = pd.Series(populations, countries)\n",
    "print(ser.head())\n",
    "ser[n] = m\n",
    "print(ser.head())"
   ]
  },
  {
   "cell_type": "code",
   "execution_count": 107,
   "metadata": {},
   "outputs": [
    {
     "name": "stdout",
     "output_type": "stream",
     "text": [
      "2022-06-04    20.000000\n",
      "2022-06-05    22.222222\n",
      "2022-06-06    23.888889\n",
      "2022-06-07    21.111111\n",
      "2022-06-08    20.000000\n",
      "2022-06-09    22.777778\n",
      "2022-06-10    26.111111\n",
      "dtype: float64\n"
     ]
    }
   ],
   "source": [
    "dates = ['2022-06-04', '2022-06-05', '2022-06-06', '2022-06-07', '2022-06-08', '2022-06-09', '2022-06-10']\n",
    "temperatures = [68, 72, 75, 70, 68, 73, 79]\n",
    "ser = pd.Series(temperatures, dates)\n",
    "\n",
    "ind = ser.index\n",
    "\n",
    "val = (ser.values - 32) * 5/9\n",
    "ser = pd.Series(val, ind)\n",
    "print(ser)"
   ]
  },
  {
   "cell_type": "code",
   "execution_count": 108,
   "metadata": {},
   "outputs": [
    {
     "name": "stdout",
     "output_type": "stream",
     "text": [
      "2022-06-04    68\n",
      "2022-06-05    72\n",
      "2022-06-06    75\n",
      "2022-06-07    70\n",
      "2022-06-08    68\n",
      "2022-06-09    73\n",
      "2022-06-10    79\n",
      "dtype: int64\n"
     ]
    }
   ],
   "source": [
    "ser = ser.apply(lambda x: int(x / (5/9) + 32))\n",
    "print(ser)"
   ]
  },
  {
   "cell_type": "code",
   "execution_count": 109,
   "metadata": {},
   "outputs": [
    {
     "name": "stdout",
     "output_type": "stream",
     "text": [
      "2022-06-04    20.000000\n",
      "2022-06-05    22.222222\n",
      "2022-06-06    23.888889\n",
      "2022-06-07    21.111111\n",
      "2022-06-08    20.000000\n",
      "2022-06-09    22.777778\n",
      "2022-06-10    26.111111\n",
      "dtype: float64\n"
     ]
    }
   ],
   "source": [
    "ser = (ser - 32) * 5 / 9\n",
    "print(ser)"
   ]
  },
  {
   "cell_type": "markdown",
   "metadata": {},
   "source": [
    "# 2.4 Атрибут dtype объекта Pandas"
   ]
  },
  {
   "cell_type": "code",
   "execution_count": 110,
   "metadata": {},
   "outputs": [
    {
     "name": "stdout",
     "output_type": "stream",
     "text": [
      "0    1.0\n",
      "1    2.0\n",
      "2    3.0\n",
      "3    4.0\n",
      "4    5.0\n",
      "dtype: float64\n",
      "0    1\n",
      "1    2\n",
      "2    3\n",
      "3    4\n",
      "4    5\n",
      "dtype: int32\n",
      "0   2022-04-01\n",
      "1   2022-04-02\n",
      "2   2022-04-03\n",
      "dtype: datetime64[ns]\n",
      "0     dog\n",
      "1     cat\n",
      "2     dog\n",
      "3    fish\n",
      "4     cat\n",
      "dtype: category\n",
      "Categories (3, object): ['cat', 'dog', 'fish']\n",
      "0     apple\n",
      "1    banana\n",
      "2    cherry\n",
      "dtype: object\n"
     ]
    }
   ],
   "source": [
    "# создание серии со значениями с плавающей точкой\n",
    "s = pd.Series([1, 2, 3, 4, 5], dtype='float')\n",
    "print(s)\n",
    "\n",
    "# создание серии с целочисленными значениями\n",
    "s = pd.Series([1, 2, 3, 4, 5], dtype=int)\n",
    "print(s)\n",
    "\n",
    "# создание серии с датами\n",
    "s = pd.Series(['2022-04-01', '2022-04-02', '2022-04-03'], dtype='datetime64[ns]')\n",
    "print(s)\n",
    "\n",
    "# создание серии с категориальными значениями\n",
    "s = pd.Series([\"dog\", \"cat\", \"dog\", \"fish\", \"cat\"], dtype=\"category\")\n",
    "print(s)\n",
    "\n",
    "# создание серии из списка, содержащего строковые значения\n",
    "s = pd.Series(['apple', 'banana', 'cherry'])\n",
    "print(s)"
   ]
  },
  {
   "cell_type": "code",
   "execution_count": 111,
   "metadata": {},
   "outputs": [
    {
     "name": "stdout",
     "output_type": "stream",
     "text": [
      "x     True\n",
      "y    False\n",
      "z     True\n",
      "dtype: bool\n",
      "x    False\n",
      "y    False\n",
      "z    False\n",
      "dtype: bool\n"
     ]
    }
   ],
   "source": [
    "ser = pd.Series([True, False, True], index=list('xyz'), dtype='bool')\n",
    "print(ser)\n",
    "ser[:] = False\n",
    "print(ser)"
   ]
  },
  {
   "cell_type": "code",
   "execution_count": 112,
   "metadata": {},
   "outputs": [
    {
     "name": "stdout",
     "output_type": "stream",
     "text": [
      "a    10.0\n",
      "b    20.0\n",
      "c    30.0\n",
      "d    40.0\n",
      "dtype: float64\n",
      "a    20.0\n",
      "b    40.0\n",
      "c    60.0\n",
      "d    80.0\n",
      "dtype: float64\n",
      "50.0\n"
     ]
    }
   ],
   "source": [
    "ser = pd.Series([10, 20, 30, 40], index=list('abcd'), dtype='float64')\n",
    "print(ser)\n",
    "ser *= 2\n",
    "print(ser)\n",
    "print(ser.mean())"
   ]
  },
  {
   "cell_type": "markdown",
   "metadata": {},
   "source": [
    "# 2.5 Применение математических функций и операторов к объекту Series"
   ]
  },
  {
   "cell_type": "code",
   "execution_count": 113,
   "metadata": {},
   "outputs": [],
   "source": [
    "# Функции из модуля math:\n",
    "# math.sin(x) - возвращает синус x (x в радианах)\n",
    "# math.cos(x) - возвращает косинус x (x в радианах)\n",
    "# math.tan(x) - возвращает тангенс x (x в радианах)\n",
    "# math.exp(x) - возвращает экспоненту x\n",
    "# math.log(x) - возвращает натуральный логарифм x\n",
    "# math.sqrt(x) - возвращает квадратный корень из x\n",
    "\n",
    "# Функции из модуля numpy:\n",
    "# numpy.abs(x) - возвращает абсолютное значение x\n",
    "# numpy.round(x, n) - округляет x до n знаков после запятой\n",
    "# numpy.floor(x) - округляет x вниз до ближайшего целого числа\n",
    "# numpy.ceil(x) - округляет x вверх до ближайшего целого числа\n",
    "# numpy.power(x, n) - возвращает x в степени n\n",
    "# numpy.exp(x) - возвращает экспоненту x\n",
    "# numpy.log(x) - возвращает натуральный логарифм x\n",
    "# numpy.sqrt(x) - возвращает квадратный корень из x"
   ]
  },
  {
   "cell_type": "code",
   "execution_count": 114,
   "metadata": {},
   "outputs": [
    {
     "name": "stdout",
     "output_type": "stream",
     "text": [
      "0    5\n",
      "1    7\n",
      "2    9\n",
      "dtype: int64\n"
     ]
    }
   ],
   "source": [
    "s1 = pd.Series([1, 2, 3]) \n",
    "s2 = pd.Series([4, 5, 6]) \n",
    "s3 = s1 + s2 \n",
    "print(s3)"
   ]
  },
  {
   "cell_type": "code",
   "execution_count": 115,
   "metadata": {},
   "outputs": [
    {
     "name": "stdout",
     "output_type": "stream",
     "text": [
      "0    True\n",
      "1    True\n",
      "2    True\n",
      "dtype: bool\n"
     ]
    }
   ],
   "source": [
    "s1 = pd.Series([1, 2, 3]) \n",
    "s2 = pd.Series([4, 5, 6]) \n",
    "mask = s1 < s2 \n",
    "print(mask)"
   ]
  },
  {
   "cell_type": "code",
   "execution_count": 116,
   "metadata": {},
   "outputs": [
    {
     "name": "stdout",
     "output_type": "stream",
     "text": [
      "0    False\n",
      "1    False\n",
      "2     True\n",
      "dtype: bool\n"
     ]
    }
   ],
   "source": [
    "s1 = pd.Series([1, 2, 3]) \n",
    "s2 = pd.Series([4, 5, 6]) \n",
    "mask = (s1 < s2) & (s1 > 2)\n",
    "print(mask)"
   ]
  },
  {
   "cell_type": "code",
   "execution_count": 117,
   "metadata": {},
   "outputs": [
    {
     "name": "stdout",
     "output_type": "stream",
     "text": [
      "0    False\n",
      "1     True\n",
      "2     True\n",
      "dtype: bool\n",
      "1    20\n",
      "2    30\n",
      "dtype: int64\n"
     ]
    }
   ],
   "source": [
    "s1 = pd.Series([7, 2, 3]) \n",
    "s2 = pd.Series([4, 5, 6]) \n",
    "mask = s1 < s2 \n",
    "print(mask) \n",
    "\n",
    "s3 = pd.Series([10, 20, 30]) \n",
    "s4 = s3[mask] \n",
    "print(s4) "
   ]
  },
  {
   "cell_type": "code",
   "execution_count": 118,
   "metadata": {},
   "outputs": [
    {
     "name": "stdout",
     "output_type": "stream",
     "text": [
      "0     1.000000\n",
      "1     2.718282\n",
      "2     7.389056\n",
      "3    20.085537\n",
      "dtype: float64\n",
      "0        -inf\n",
      "1    0.000000\n",
      "2    0.693147\n",
      "3    1.098612\n",
      "dtype: float64\n"
     ]
    },
    {
     "name": "stderr",
     "output_type": "stream",
     "text": [
      "c:\\Users\\kuche\\anaconda3\\Lib\\site-packages\\pandas\\core\\arraylike.py:399: RuntimeWarning: divide by zero encountered in log\n",
      "  result = getattr(ufunc, method)(*inputs, **kwargs)\n"
     ]
    }
   ],
   "source": [
    "# создание pd.Series\n",
    "s = pd.Series([0, 1, 2, 3])\n",
    "\n",
    "# вычисление экспоненты и логарифма\n",
    "exp_s = np.exp(s)\n",
    "log_s = np.log(s)\n",
    "\n",
    "# вывод результатов\n",
    "print(exp_s)\n",
    "print(log_s)"
   ]
  },
  {
   "cell_type": "code",
   "execution_count": 119,
   "metadata": {},
   "outputs": [
    {
     "name": "stdout",
     "output_type": "stream",
     "text": [
      "2    9\n",
      "dtype: int64\n"
     ]
    }
   ],
   "source": [
    "s1 = pd.Series([1, 2, 3]) \n",
    "s2 = pd.Series([4, 5, 6]) \n",
    "mask = s1 > 2 \n",
    "s3 = s1[mask] + s2[mask] \n",
    "print(s3)"
   ]
  },
  {
   "cell_type": "code",
   "execution_count": 120,
   "metadata": {},
   "outputs": [
    {
     "name": "stdout",
     "output_type": "stream",
     "text": [
      "0    3\n",
      "1    6\n",
      "2    9\n",
      "dtype: int16\n",
      "0     2\n",
      "1     8\n",
      "2    18\n",
      "dtype: int16\n"
     ]
    }
   ],
   "source": [
    "ser1 = pd.Series([1, 2, 3], dtype='int16')\n",
    "ser2 = pd.Series([2, 4, 6], dtype='int16')\n",
    "print(ser1+ser2)\n",
    "print(ser1*ser2)"
   ]
  },
  {
   "cell_type": "code",
   "execution_count": 121,
   "metadata": {},
   "outputs": [
    {
     "name": "stdout",
     "output_type": "stream",
     "text": [
      "a    1\n",
      "b    2\n",
      "dtype: int64\n"
     ]
    }
   ],
   "source": [
    "ser = pd.Series([1, 2, 3, 4, 5], index=list('abcde'))\n",
    "print(ser[ser<3])"
   ]
  },
  {
   "cell_type": "code",
   "execution_count": 122,
   "metadata": {},
   "outputs": [
    {
     "data": {
      "text/plain": [
       "0    False\n",
       "1     True\n",
       "2     True\n",
       "dtype: bool"
      ]
     },
     "execution_count": 122,
     "metadata": {},
     "output_type": "execute_result"
    }
   ],
   "source": [
    "ser = pd.Series([10, 20, 30])\n",
    "ser = ser > 15\n",
    "ser"
   ]
  },
  {
   "cell_type": "code",
   "execution_count": 123,
   "metadata": {},
   "outputs": [
    {
     "name": "stdout",
     "output_type": "stream",
     "text": [
      "0    1.65\n",
      "1    2.59\n",
      "2    4.36\n",
      "dtype: float64\n"
     ]
    }
   ],
   "source": [
    "ser1 = pd.Series([1.0, 2.0, 3.0])\n",
    "ser2 = np.sqrt(np.exp(ser1) - np.log(ser1)).round(2)\n",
    "print(ser2)"
   ]
  },
  {
   "cell_type": "code",
   "execution_count": 124,
   "metadata": {},
   "outputs": [
    {
     "name": "stdout",
     "output_type": "stream",
     "text": [
      "0    1\n",
      "1    4\n",
      "2    5\n",
      "3    3\n",
      "4    7\n",
      "5    9\n",
      "6    8\n",
      "7    2\n",
      "dtype: uint32\n",
      "0    1\n",
      "2    5\n",
      "3    3\n",
      "4    7\n",
      "5    9\n",
      "dtype: uint32\n"
     ]
    }
   ],
   "source": [
    "ser1 = pd.Series([1, 4, 5, 3, 7, 9, 8, 2], dtype='uint32')\n",
    "print(ser1)\n",
    "ser2 = ser1[(ser1 % 2) == 1]\n",
    "print(ser2)"
   ]
  },
  {
   "cell_type": "code",
   "execution_count": 125,
   "metadata": {},
   "outputs": [
    {
     "data": {
      "text/plain": [
       "0     cat\n",
       "2     can\n",
       "4    call\n",
       "dtype: string"
      ]
     },
     "execution_count": 125,
     "metadata": {},
     "output_type": "execute_result"
    }
   ],
   "source": [
    "s = pd.Series(['cat', 'fish', 'can', 'able', 'call'], dtype='string')\n",
    "char = 'c'\n",
    "s[s.str.startswith(char)]"
   ]
  },
  {
   "cell_type": "code",
   "execution_count": 126,
   "metadata": {},
   "outputs": [
    {
     "name": "stdout",
     "output_type": "stream",
     "text": [
      "0   2021-01-01\n",
      "1   2021-02-21\n",
      "2   2021-03-18\n",
      "3   2021-05-02\n",
      "4   2021-08-11\n",
      "5   2021-12-12\n",
      "dtype: datetime64[ns]\n",
      "3   2021-05-02\n",
      "4   2021-08-11\n",
      "dtype: datetime64[ns]\n"
     ]
    }
   ],
   "source": [
    "ser = pd.Series(['2021-01-01', '2021-02-21', '2021-03-18', '2021-05-02', '2021-08-11', '2021-12-12'], dtype='datetime64[ns]')\n",
    "print(ser)\n",
    "print(ser[ser.between('2021-03-18', '2021-09-22', inclusive='neither')])"
   ]
  },
  {
   "cell_type": "code",
   "execution_count": 127,
   "metadata": {},
   "outputs": [
    {
     "name": "stdout",
     "output_type": "stream",
     "text": [
      "0      абрек\n",
      "1        аул\n",
      "2    барнаул\n",
      "3        кит\n",
      "4      арнлк\n",
      "dtype: string\n",
      "Series([], dtype: string)\n"
     ]
    }
   ],
   "source": [
    "s = pd.Series(['абрек', 'аул', 'барнаул', 'кит', 'арнлк'], dtype='string')\n",
    "print(s)\n",
    "s2 = s[(s.str.startswith('a')) & (s.str.endswith('к'))]\n",
    "print(s2)"
   ]
  },
  {
   "cell_type": "markdown",
   "metadata": {},
   "source": [
    "# 2.7 Атрибут name объекта Series"
   ]
  },
  {
   "cell_type": "code",
   "execution_count": 128,
   "metadata": {},
   "outputs": [
    {
     "name": "stdout",
     "output_type": "stream",
     "text": [
      "0    1\n",
      "1    2\n",
      "2    3\n",
      "Name: my_series, dtype: int64\n"
     ]
    }
   ],
   "source": [
    "data = [1, 2, 3]\n",
    "s = pd.Series(data, name=\"my_series\")\n",
    "print(s)"
   ]
  },
  {
   "cell_type": "code",
   "execution_count": 129,
   "metadata": {},
   "outputs": [
    {
     "name": "stdout",
     "output_type": "stream",
     "text": [
      "0    1\n",
      "1    2\n",
      "2    3\n",
      "dtype: int64\n",
      "0    1\n",
      "1    2\n",
      "2    3\n",
      "Name: my_series, dtype: int64\n"
     ]
    }
   ],
   "source": [
    "s = pd.Series(data)\n",
    "print(s)\n",
    "s.name = 'my_series'\n",
    "print(s)"
   ]
  },
  {
   "cell_type": "code",
   "execution_count": 130,
   "metadata": {},
   "outputs": [
    {
     "name": "stdout",
     "output_type": "stream",
     "text": [
      "Index([1, 2, 3, 4, 5], dtype='int64', name='my_index')\n"
     ]
    }
   ],
   "source": [
    "data = [1, 2, 3, 4, 5]\n",
    "index = pd.Index(data, name=\"my_index\")\n",
    "print(index)"
   ]
  },
  {
   "cell_type": "code",
   "execution_count": 131,
   "metadata": {},
   "outputs": [
    {
     "name": "stdout",
     "output_type": "stream",
     "text": [
      "Index([1, 2, 3, 4, 5], dtype='int64')\n",
      "Index([1, 2, 3, 4, 5], dtype='int64', name='my_index')\n"
     ]
    }
   ],
   "source": [
    "\n",
    "index = pd.Index(data)\n",
    "print(index)\n",
    "index.name = 'my_index'\n",
    "print(index)"
   ]
  },
  {
   "cell_type": "code",
   "execution_count": 132,
   "metadata": {},
   "outputs": [
    {
     "name": "stdout",
     "output_type": "stream",
     "text": [
      "инд\n",
      "0    1\n",
      "1    2\n",
      "2    3\n",
      "Name: my_series, dtype: int64\n"
     ]
    }
   ],
   "source": [
    "data = [1, 2, 3]\n",
    "s = pd.Series(data, name=\"my_series\")\n",
    "s.index.name = 'инд'\n",
    "print(s)"
   ]
  },
  {
   "cell_type": "code",
   "execution_count": 133,
   "metadata": {},
   "outputs": [
    {
     "name": "stdout",
     "output_type": "stream",
     "text": [
      "Название\n",
      "Оно    120\n",
      "Она    240\n",
      "Они     34\n",
      "Он     333\n",
      "Name: Цены на книги, dtype: uint16\n"
     ]
    }
   ],
   "source": [
    "books = ['Оно', 'Она', 'Они', 'Он']\n",
    "prices = [120, 240, 34, 333]\n",
    "ser = pd.Series(prices, books, dtype='uint16', name='Цены на книги')\n",
    "ser.index.name = 'Название'\n",
    "print(ser)"
   ]
  },
  {
   "cell_type": "code",
   "execution_count": 134,
   "metadata": {},
   "outputs": [
    {
     "name": "stdout",
     "output_type": "stream",
     "text": [
      "a       ананас\n",
      "b     апельсин\n",
      "c     баклажан\n",
      "d        банан\n",
      "e     клубника\n",
      "f        бурак\n",
      "g    картофель\n",
      "Name: ягоды, dtype: string\n",
      "c    баклажан\n",
      "d       банан\n",
      "f       бурак\n",
      "Name: ягоды на букву б, dtype: string\n"
     ]
    }
   ],
   "source": [
    "data = ['ананас', 'апельсин', 'баклажан', 'банан', 'клубника', 'бурак', 'картофель']\n",
    "s = pd.Series(data, list(ascii_lowercase[:len(data)]), dtype='string', name='ягоды')\n",
    "print(s)\n",
    "s2 = pd.Series(s[(s.str.startswith('б'))], name='ягоды на букву б')\n",
    "print(s2)"
   ]
  },
  {
   "cell_type": "code",
   "execution_count": 135,
   "metadata": {},
   "outputs": [
    {
     "name": "stdout",
     "output_type": "stream",
     "text": [
      "товар\n",
      "булавки    25\n",
      "нитки      12\n",
      "иголки     34\n",
      "пяльца     23\n",
      "Name: продажи, dtype: int64\n",
      "товар\n",
      "булавки    25\n",
      "пяльца     23\n",
      "Name: нечетные продажи, dtype: int64\n"
     ]
    }
   ],
   "source": [
    "a = ['булавки-25', 'нитки-12', 'иголки-34', 'пяльца-23']\n",
    "b = {i.split('-')[0]: i.split('-')[1] for i in a}\n",
    "\n",
    "ser = pd.Series(b, dtype='int64', name='продажи')\n",
    "ser.index.name = 'товар'\n",
    "print(ser)\n",
    "ser2 = pd.Series(ser[ser%2==1], name='нечетные продажи')\n",
    "print(ser2)"
   ]
  },
  {
   "cell_type": "code",
   "execution_count": 136,
   "metadata": {},
   "outputs": [
    {
     "name": "stdout",
     "output_type": "stream",
     "text": [
      "дата\n",
      "2023-01-05    234\n",
      "2023-02-23    345\n",
      "2023-03-12    239\n",
      "Name: посещаемость, dtype: uint32\n"
     ]
    }
   ],
   "source": [
    "a = '2023-01-05:234 2023-02-23:345 2023-03-12:239'.split()\n",
    "ser = pd.Series({k: int(v) for k, v in (b.split(':') for b in a)}, dtype='uint32', name='посещаемость')\n",
    "ser.index.name = 'дата'\n",
    "ser.index = ser.index.astype('datetime64[ns]')\n",
    "print(ser)"
   ]
  },
  {
   "cell_type": "code",
   "execution_count": 137,
   "metadata": {},
   "outputs": [
    {
     "name": "stdout",
     "output_type": "stream",
     "text": [
      "товар\n",
      "iPhone 13             50000\n",
      "Samsung Galaxy S21    35000\n",
      "Google Pixel 6        15000\n",
      "OnePlus 9 Pro         12000\n",
      "Xiaomi Mi 11           9000\n",
      "Oppo Find X3 Pro       7500\n",
      "Sony Xperia 1 III      5000\n",
      "LG Wing                2000\n",
      "Name: продажи за месяц, dtype: int64\n",
      "LG Wing\n",
      "LG Wing\n"
     ]
    }
   ],
   "source": [
    "products = ['iPhone 13', 'Samsung Galaxy S21', 'Google Pixel 6', 'OnePlus 9 Pro', 'Xiaomi Mi 11', 'Oppo Find X3 Pro', 'Sony Xperia 1 III', 'LG Wing']\n",
    "sales = [50000, 35000, 15000, 12000, 9000, 7500, 5000, 2000]\n",
    "\n",
    "ser = pd.Series(sales, products, name='продажи за месяц')\n",
    "ser.index.name = 'товар'\n",
    "print(ser)\n",
    "print(ser.idxmin())\n",
    "print(*ser[ser == ser.min()].index.values)"
   ]
  },
  {
   "cell_type": "markdown",
   "metadata": {},
   "source": [
    "# 3.1 Объект DataFrame и его создание"
   ]
  },
  {
   "cell_type": "code",
   "execution_count": 138,
   "metadata": {},
   "outputs": [
    {
     "name": "stdout",
     "output_type": "stream",
     "text": [
      "   Name Age           City\n",
      "0  John  28       New York\n",
      "1  Kate  23        Chicago\n",
      "2  Mike  32  San Francisco\n"
     ]
    }
   ],
   "source": [
    "# Создание DataFrame из списка списков\n",
    "data = [['John', 28, 'New York'],\n",
    "        ['Kate', 23, 'Chicago'],\n",
    "        ['Mike', 32, 'San Francisco']]\n",
    "df = pd.DataFrame(data, columns=['Name', 'Age', 'City'])\n",
    "\n",
    "# Создание DataFrame из словаря\n",
    "data = {'Name': ['John', 'Kate', 'Mike'],\n",
    "        'Age': [28, 23, 32],\n",
    "        'City': ['New York', 'Chicago', 'San Francisco']}\n",
    "df = pd.DataFrame(data)\n",
    "\n",
    "# Создание DataFrame из списка словарей\n",
    "data = [{'Name': 'John', 'Age': 28, 'City': 'New York'},\n",
    "        {'Name': 'Kate', 'Age': 23, 'City': 'Chicago'},\n",
    "        {'Name': 'Mike', 'Age': 32, 'City': 'San Francisco'}]\n",
    "df = pd.DataFrame(data)\n",
    "\n",
    "# Создание DataFrame из массива numpy\n",
    "data = np.array([['John', 28, 'New York'],\n",
    "                 ['Kate', 23, 'Chicago'],\n",
    "                 ['Mike', 32, 'San Francisco']])\n",
    "df = pd.DataFrame(data, columns=['Name', 'Age', 'City'])\n",
    "print(df)"
   ]
  },
  {
   "cell_type": "code",
   "execution_count": 139,
   "metadata": {},
   "outputs": [
    {
     "name": "stdout",
     "output_type": "stream",
     "text": [
      "  Full Name Age       Location\n",
      "0      John  28       New York\n",
      "1      Kate  23        Chicago\n",
      "2      Mike  32  San Francisco\n"
     ]
    }
   ],
   "source": [
    "df.columns = ['Full Name', 'Age', 'Location']\n",
    "print(df)"
   ]
  },
  {
   "cell_type": "code",
   "execution_count": 140,
   "metadata": {},
   "outputs": [
    {
     "name": "stdout",
     "output_type": "stream",
     "text": [
      "      name  age  gender         city\n",
      "0    Alice   25  female     New York\n",
      "1      Bob   32    male  Los Angeles\n",
      "2  Charlie   19    male      Chicago\n",
      "3    David   47    male      Houston\n"
     ]
    }
   ],
   "source": [
    "data = {\n",
    "    'name': ['Alice', 'Bob', 'Charlie', 'David'],\n",
    "    'age': [25, 32, 19, 47],\n",
    "    'gender': ['female', 'male', 'male', 'male'],\n",
    "    'city': ['New York', 'Los Angeles', 'Chicago', 'Houston']\n",
    "}\n",
    "import pandas as pd\n",
    "\n",
    "df = pd.DataFrame(data)\n",
    "print(df)"
   ]
  },
  {
   "cell_type": "code",
   "execution_count": 141,
   "metadata": {},
   "outputs": [
    {
     "name": "stdout",
     "output_type": "stream",
     "text": [
      "                            title  year  imdb_rating                 genre\n",
      "0        The Shawshank Redemption  1994          9.3                 Drama\n",
      "1                   The Godfather  1972          9.2          Crime, Drama\n",
      "2          The Godfather: Part II  1974          9.0          Crime, Drama\n",
      "3                 The Dark Knight  2008          9.0  Action, Crime, Drama\n",
      "4                    12 Angry Men  1957          8.9                 Drama\n",
      "5                    Pulp Fiction  1994          8.9          Crime, Drama\n",
      "6  The Good, the Bad and the Ugly  1966          8.8               Western\n",
      "                         Название   Год  Рейтинг IMDB                  Жанр\n",
      "0        The Shawshank Redemption  1994           9.3                 Drama\n",
      "1                   The Godfather  1972           9.2          Crime, Drama\n",
      "2          The Godfather: Part II  1974           9.0          Crime, Drama\n",
      "3                 The Dark Knight  2008           9.0  Action, Crime, Drama\n",
      "4                    12 Angry Men  1957           8.9                 Drama\n",
      "5                    Pulp Fiction  1994           8.9          Crime, Drama\n",
      "6  The Good, the Bad and the Ugly  1966           8.8               Western\n"
     ]
    }
   ],
   "source": [
    "movies_data = [\n",
    "    {'title': 'The Shawshank Redemption', 'year': 1994, 'imdb_rating': 9.3, 'genre': 'Drama'},\n",
    "    {'title': 'The Godfather', 'year': 1972, 'imdb_rating': 9.2, 'genre': 'Crime, Drama'},\n",
    "    {'title': 'The Godfather: Part II', 'year': 1974, 'imdb_rating': 9.0, 'genre': 'Crime, Drama'},\n",
    "    {'title': 'The Dark Knight', 'year': 2008, 'imdb_rating': 9.0, 'genre': 'Action, Crime, Drama'},\n",
    "    {'title': '12 Angry Men', 'year': 1957, 'imdb_rating': 8.9, 'genre': 'Drama'},    \n",
    "    {'title': 'Pulp Fiction', 'year': 1994, 'imdb_rating': 8.9, 'genre': 'Crime, Drama'},\n",
    "    {'title': 'The Good, the Bad and the Ugly', 'year': 1966, 'imdb_rating': 8.8, 'genre': 'Western'},\n",
    "]\n",
    "import pandas as pd\n",
    "\n",
    "df = pd.DataFrame(movies_data)\n",
    "print(df)\n",
    "df = df.rename(columns={'title': 'Название', 'year': 'Год',  'imdb_rating': 'Рейтинг IMDB',  'genre': 'Жанр'})\n",
    "print(df)"
   ]
  },
  {
   "cell_type": "code",
   "execution_count": 142,
   "metadata": {},
   "outputs": [],
   "source": [
    "# n = int(input())\n",
    "# data = [\n",
    "#     ([i for i in input().split(', ')]) for j in range(n)\n",
    "#]\n",
    "# df = pd.DataFrame(data, columns=['Товар', 'Цена', 'Дата'])\n",
    "# print(df)\n",
    "\n",
    "# data = [([i for i in input().split(', ')]) for _ in range(int(input()))]\n",
    "# df = pd.DataFrame(data, columns=['Дата', 'Валюта1/Валюта2', 'Курс'])\n",
    "# print(df)"
   ]
  },
  {
   "cell_type": "markdown",
   "metadata": {},
   "source": [
    "# 3.2 Основы работы со столбцами DataFrame"
   ]
  },
  {
   "cell_type": "code",
   "execution_count": 143,
   "metadata": {},
   "outputs": [
    {
     "name": "stdout",
     "output_type": "stream",
     "text": [
      "      name age     sex sales_2019 sales_2020 region\n",
      "0    Alice  25  female       1000       1200  North\n",
      "1      Bob  30    male       2000       1800  South\n",
      "2  Charlie  35    male       1500       1700   East\n",
      "name          object\n",
      "age           object\n",
      "sex           object\n",
      "sales_2019    object\n",
      "sales_2020    object\n",
      "region        object\n",
      "dtype: object\n",
      "      name  age     sex  sales_2019  sales_2020 region  total_sales\n",
      "0    Alice   25  female        1000        1200  North         2200\n",
      "1      Bob   30    male        2000        1800  South         3800\n",
      "2  Charlie   35    male        1500        1700   East         3200\n",
      "name           object\n",
      "age             int32\n",
      "sex            object\n",
      "sales_2019      int32\n",
      "sales_2020      int32\n",
      "region         object\n",
      "total_sales     int32\n",
      "dtype: object\n"
     ]
    }
   ],
   "source": [
    "# data = [input().split() for _ in range(3)]\n",
    "data = [['Alice', '25', 'female', '1000', '1200', 'North'],\n",
    " ['Bob', '30', 'male', '2000', '1800', 'South'],\n",
    " ['Charlie', '35', 'male', '1500', '1700', 'East']]\n",
    "df = pd.DataFrame(data, columns=['name', 'age', 'sex', 'sales_2019', 'sales_2020', 'region'])\n",
    "print(df)\n",
    "print(df.dtypes)\n",
    "df[['age', 'sales_2019', 'sales_2020']] = df[['age', 'sales_2019', 'sales_2020']].astype(int)\n",
    "df['total_sales'] = df.sales_2019 + df.sales_2020\n",
    "print(df)\n",
    "print(df.dtypes)"
   ]
  },
  {
   "cell_type": "code",
   "execution_count": null,
   "metadata": {},
   "outputs": [],
   "source": []
  }
 ],
 "metadata": {
  "kernelspec": {
   "display_name": "base",
   "language": "python",
   "name": "python3"
  },
  "language_info": {
   "codemirror_mode": {
    "name": "ipython",
    "version": 3
   },
   "file_extension": ".py",
   "mimetype": "text/x-python",
   "name": "python",
   "nbconvert_exporter": "python",
   "pygments_lexer": "ipython3",
   "version": "3.11.7"
  }
 },
 "nbformat": 4,
 "nbformat_minor": 2
}
