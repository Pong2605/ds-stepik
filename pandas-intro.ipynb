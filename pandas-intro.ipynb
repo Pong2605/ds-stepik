{
 "cells": [
  {
   "cell_type": "code",
   "execution_count": 378,
   "metadata": {},
   "outputs": [],
   "source": [
    "import pandas as pd\n",
    "import numpy as np"
   ]
  },
  {
   "cell_type": "markdown",
   "metadata": {},
   "source": [
    "# 2.2 Объект Series в Pandas и его создание"
   ]
  },
  {
   "cell_type": "code",
   "execution_count": 379,
   "metadata": {},
   "outputs": [
    {
     "name": "stdout",
     "output_type": "stream",
     "text": [
      "0    1\n",
      "1    2\n",
      "2    3\n",
      "3    4\n",
      "4    5\n",
      "dtype: int64\n",
      "z    1\n",
      "x    2\n",
      "c    3\n",
      "v    4\n",
      "b    5\n",
      "dtype: int32\n",
      "a    1\n",
      "b    2\n",
      "c    3\n",
      "d    4\n",
      "e    5\n",
      "dtype: int64\n",
      "0    (1, a)\n",
      "1    (2, b)\n",
      "2    (3, c)\n",
      "dtype: object\n",
      "a    5\n",
      "b    5\n",
      "c    5\n",
      "dtype: int64\n"
     ]
    }
   ],
   "source": [
    "# создание объекта Series из списка\n",
    "my_list = [1, 2, 3, 4, 5]\n",
    "s = pd.Series(my_list)\n",
    "print(s)\n",
    "\n",
    "# создание объекта Series из массива NumPy\n",
    "my_array = np.array([1, 2, 3, 4, 5])\n",
    "s = pd.Series(my_array, list('zxcvb'))\n",
    "print(s)\n",
    "\n",
    "# создание объекта Series из словаря Python\n",
    "my_dict = {'a': 1, 'b': 2, 'c': 3, 'd': 4, 'e': 5}\n",
    "s = pd.Series(my_dict)\n",
    "print(s)\n",
    "\n",
    "# создание объекта Series из списка кортежей\n",
    "s = pd.Series([(1, 'a'), (2, 'b'), (3, 'c')])\n",
    "print(s)\n",
    "\n",
    "# создание объекта Series из скалярного значения\n",
    "s = pd.Series(5, index=['a', 'b', 'c'])\n",
    "print(s)\n"
   ]
  },
  {
   "cell_type": "code",
   "execution_count": 380,
   "metadata": {},
   "outputs": [
    {
     "name": "stdout",
     "output_type": "stream",
     "text": [
      "0    1\n",
      "1    2\n",
      "2    3\n",
      "dtype: int64\n"
     ]
    }
   ],
   "source": [
    "# создание объекта Series\n",
    "s1 = pd.Series([1, 2, 3])\n",
    "\n",
    "# создание нового объекта Series на основе существующего\n",
    "s2 = pd.Series(s1)\n",
    "print(s2)"
   ]
  },
  {
   "cell_type": "code",
   "execution_count": 381,
   "metadata": {},
   "outputs": [
    {
     "data": {
      "text/plain": [
       "1    1\n",
       "2    2\n",
       "3    3\n",
       "dtype: int64"
      ]
     },
     "execution_count": 381,
     "metadata": {},
     "output_type": "execute_result"
    }
   ],
   "source": [
    "s = pd.Series([1, 2, 3], {1, 2, 3})\n",
    "s = pd.Series([1, 2, 3], (1, 2, 3))\n",
    "s = pd.Series([1, 2, 3], [1, 2, 3])\n",
    "s"
   ]
  },
  {
   "cell_type": "code",
   "execution_count": 382,
   "metadata": {},
   "outputs": [
    {
     "name": "stdout",
     "output_type": "stream",
     "text": [
      "a    1\n",
      "b    4\n",
      "c    6\n",
      "dtype: int64\n"
     ]
    }
   ],
   "source": [
    "print(__import__('pandas').Series(dict(zip('abc', [1, 4, 6, 2]))))"
   ]
  },
  {
   "cell_type": "code",
   "execution_count": 383,
   "metadata": {},
   "outputs": [
    {
     "name": "stdout",
     "output_type": "stream",
     "text": [
      "a    1\n",
      "b    2\n",
      "c    3\n",
      "d    4\n",
      "f    5\n",
      "dtype: int32\n"
     ]
    }
   ],
   "source": [
    "arr = [1, 2, 3, 4, 5]\n",
    "\n",
    "print(pd.Series(np.array(arr), [*'abcdf']))"
   ]
  },
  {
   "cell_type": "code",
   "execution_count": 384,
   "metadata": {},
   "outputs": [
    {
     "data": {
      "text/plain": [
       "0    (1, a)\n",
       "1    (2, b)\n",
       "2    (3, c)\n",
       "dtype: object"
      ]
     },
     "execution_count": 384,
     "metadata": {},
     "output_type": "execute_result"
    }
   ],
   "source": [
    "# a = tuple((i, j) for i, j in zip(list(map(str, input().split())), list(map(int, input().split()))))\n",
    "a = tuple((i, j) for i, j in zip([1, 2, 3], list('abc')))\n",
    "pd.Series(a)"
   ]
  },
  {
   "cell_type": "code",
   "execution_count": 385,
   "metadata": {},
   "outputs": [
    {
     "data": {
      "text/plain": [
       "0    (1, a)\n",
       "1    (2, b)\n",
       "2    (3, c)\n",
       "dtype: object"
      ]
     },
     "execution_count": 385,
     "metadata": {},
     "output_type": "execute_result"
    }
   ],
   "source": [
    "# a = (zip(input().split(), input().split()))\n",
    "a = (zip([1,2,3], [*'abc']))\n",
    "pd.Series(a)"
   ]
  },
  {
   "cell_type": "code",
   "execution_count": 386,
   "metadata": {},
   "outputs": [
    {
     "data": {
      "text/plain": [
       "0    Prived\n",
       "1    Medved\n",
       "2       Kag\n",
       "3      Dela\n",
       "dtype: object"
      ]
     },
     "execution_count": 386,
     "metadata": {},
     "output_type": "execute_result"
    }
   ],
   "source": [
    "s = 'Prived Medved Kag Dela'\n",
    "pd.Series(s.split(' '))"
   ]
  },
  {
   "cell_type": "code",
   "execution_count": 387,
   "metadata": {},
   "outputs": [
    {
     "data": {
      "text/plain": [
       "a    False\n",
       "b     True\n",
       "c    False\n",
       "d    False\n",
       "e     True\n",
       "dtype: bool"
      ]
     },
     "execution_count": 387,
     "metadata": {},
     "output_type": "execute_result"
    }
   ],
   "source": [
    "from string import ascii_lowercase\n",
    "\n",
    "# data = [bool(i) for i in list(map(int, input().split()))]\n",
    "data = [0, 1, 0, 0, 1]\n",
    "data = [bool(i) for i in data]\n",
    "pd.Series(data, list(ascii_lowercase[:len(data)]))"
   ]
  },
  {
   "cell_type": "code",
   "execution_count": 388,
   "metadata": {},
   "outputs": [
    {
     "data": {
      "text/plain": [
       "a    False\n",
       "b     True\n",
       "c    False\n",
       "d    False\n",
       "e     True\n",
       "dtype: bool"
      ]
     },
     "execution_count": 388,
     "metadata": {},
     "output_type": "execute_result"
    }
   ],
   "source": [
    "# data = np.array(input().split()).astype(int)\n",
    "data = np.array([0, 1, 0, 0, 1])\n",
    "pd.Series(data == 1, index=list(ascii_lowercase)[:len(data)])"
   ]
  },
  {
   "cell_type": "code",
   "execution_count": 389,
   "metadata": {},
   "outputs": [
    {
     "data": {
      "text/plain": [
       "0    2022-01-01\n",
       "1    2022-01-02\n",
       "2    2022-01-03\n",
       "dtype: object"
      ]
     },
     "execution_count": 389,
     "metadata": {},
     "output_type": "execute_result"
    }
   ],
   "source": [
    "pd.Series(['2022-01-01', '2022-01-02', '2022-01-03'])"
   ]
  },
  {
   "cell_type": "code",
   "execution_count": 390,
   "metadata": {},
   "outputs": [
    {
     "data": {
      "text/plain": [
       "1    -5\n",
       "3     5\n",
       "5    15\n",
       "7    25\n",
       "9    35\n",
       "dtype: int64"
      ]
     },
     "execution_count": 390,
     "metadata": {},
     "output_type": "execute_result"
    }
   ],
   "source": [
    "# n, m = (int(i) for i in input().split())\n",
    "n, m = -5, 35\n",
    "data = list(range(n, m + 1, 10))\n",
    "ind = list(range(1, 2 * len(data), 2))\n",
    "pd.Series(data, ind)"
   ]
  },
  {
   "cell_type": "markdown",
   "metadata": {},
   "source": [
    "# 2.3 Атрибуты index и values объекта Series"
   ]
  },
  {
   "cell_type": "code",
   "execution_count": 391,
   "metadata": {},
   "outputs": [
    {
     "name": "stdout",
     "output_type": "stream",
     "text": [
      "Index(['a', 'b', 'c', 'd'], dtype='object')\n",
      "[10 20 30 40]\n"
     ]
    }
   ],
   "source": [
    "# Создание объекта Series с пользовательскими метками\n",
    "s = pd.Series(data=[10, 20, 30, 40], index=['a', 'b', 'c', 'd'])\n",
    "\n",
    "# Просмотр меток\n",
    "print(s.index)\n",
    "\n",
    "# Просмотр данных\n",
    "print(s.values)"
   ]
  },
  {
   "cell_type": "code",
   "execution_count": 392,
   "metadata": {},
   "outputs": [
    {
     "name": "stdout",
     "output_type": "stream",
     "text": [
      "10\n",
      "a    10\n",
      "c    30\n",
      "dtype: int64\n"
     ]
    }
   ],
   "source": [
    "# Создание объекта Series с пользовательскими метками\n",
    "s = pd.Series([10, 20, 30, 40], index=['a', 'b', 'c', 'd'])\n",
    "\n",
    "# Выбор элементов по меткам\n",
    "print(s['a'])\n",
    "print(s[['a', 'c']])"
   ]
  },
  {
   "cell_type": "code",
   "execution_count": 393,
   "metadata": {},
   "outputs": [
    {
     "name": "stdout",
     "output_type": "stream",
     "text": [
      "[50 20 30 40]\n"
     ]
    }
   ],
   "source": [
    "# Изменение элемента по метке\n",
    "s['a'] = 50\n",
    "\n",
    "# Просмотр измененных данных\n",
    "print(s.values)"
   ]
  },
  {
   "cell_type": "code",
   "execution_count": 394,
   "metadata": {},
   "outputs": [
    {
     "name": "stdout",
     "output_type": "stream",
     "text": [
      "[100  40  60  80]\n"
     ]
    }
   ],
   "source": [
    "# Выполнение операции над элементами\n",
    "s = s * 2\n",
    "\n",
    "# Просмотр измененных данных\n",
    "print(s.values)"
   ]
  },
  {
   "cell_type": "code",
   "execution_count": 395,
   "metadata": {},
   "outputs": [
    {
     "data": {
      "text/plain": [
       "A    0\n",
       "B    1\n",
       "C    2\n",
       "D    3\n",
       "E    4\n",
       "dtype: int64"
      ]
     },
     "execution_count": 395,
     "metadata": {},
     "output_type": "execute_result"
    }
   ],
   "source": [
    "# Создайте объект Series, содержащий первые 10 нечетных чисел, с метками - буквами латинского алфавита в верхнем регистре.\n",
    "from string import ascii_uppercase\n",
    "pd.Series(range(10), list(ascii_uppercase[:10])).head()"
   ]
  },
  {
   "cell_type": "code",
   "execution_count": 396,
   "metadata": {},
   "outputs": [
    {
     "name": "stdout",
     "output_type": "stream",
     "text": [
      "RangeIndex(start=0, stop=26, step=1)\n",
      "['a' 'b' 'c' 'd' 'e' 'f' 'g' 'h' 'i' 'j' 'k' 'l' 'm' 'n' 'o' 'p' 'q' 'r'\n",
      " 's' 't' 'u' 'v' 'w' 'x' 'y' 'z']\n"
     ]
    }
   ],
   "source": [
    "# Создайте объект Series, содержащий буквы латинского алфавита в нижнем регистре. Выведите на печать атрибуты index и values полученного объекта, каждый с новой строки.\n",
    "data = pd.Series(list(ascii_lowercase))\n",
    "print(data.index)\n",
    "print(data.values)"
   ]
  },
  {
   "cell_type": "code",
   "execution_count": 397,
   "metadata": {},
   "outputs": [
    {
     "name": "stdout",
     "output_type": "stream",
     "text": [
      "21538187\n"
     ]
    }
   ],
   "source": [
    "states = ['Alabama', 'Alaska', 'Arizona', 'Arkansas', 'California', 'Colorado', 'Connecticut', \n",
    "          'Delaware', 'Florida', 'Georgia', 'Hawaii', 'Idaho', 'Illinois', 'Indiana', 'Iowa']\n",
    "populations = [4903185, 731545, 7278717, 3017825, 39538223, 578713, 3605944, 986809, 21538187,\n",
    " 10711908, 1455271, 1826156, 12671821, 6745354, 3179849]\n",
    "data = pd.Series(populations, states)\n",
    "# print(data[input()])\n",
    "s = 'Florida'\n",
    "print(data[s])"
   ]
  },
  {
   "cell_type": "code",
   "execution_count": 398,
   "metadata": {},
   "outputs": [
    {
     "name": "stdout",
     "output_type": "stream",
     "text": [
      "Arizona        7278717\n",
      "California    39538223\n",
      "Florida       21538187\n",
      "Hawaii         1455271\n",
      "dtype: int64\n"
     ]
    }
   ],
   "source": [
    "# print(data[input().split()])\n",
    "s = ['Arizona', 'California',  'Florida',  'Hawaii']\n",
    "print(data[s])"
   ]
  },
  {
   "cell_type": "code",
   "execution_count": 399,
   "metadata": {},
   "outputs": [
    {
     "name": "stdout",
     "output_type": "stream",
     "text": [
      "2022-05-01    64\n",
      "2022-05-03    71\n",
      "dtype: int64\n"
     ]
    }
   ],
   "source": [
    "ind = ['2022-05-01', '2022-05-02', '2022-05-03']\n",
    "data = [64, 73, 71]\n",
    "variables = ['2022-05-01', '2022-05-03']\n",
    "\n",
    "ser = pd.Series(data, ind)\n",
    "print(ser[variables])"
   ]
  },
  {
   "cell_type": "code",
   "execution_count": 400,
   "metadata": {},
   "outputs": [
    {
     "name": "stdout",
     "output_type": "stream",
     "text": [
      "64 71\n"
     ]
    }
   ],
   "source": [
    "ind = ['2022-05-01', '2022-05-02', '2022-05-03']\n",
    "data = [64, 73, 71]\n",
    "variables = ['2022-05-01', '2022-05-03']\n",
    "\n",
    "ser = pd.Series(data, ind)\n",
    "print(*ser[variables])"
   ]
  },
  {
   "cell_type": "code",
   "execution_count": 401,
   "metadata": {},
   "outputs": [
    {
     "name": "stdout",
     "output_type": "stream",
     "text": [
      "2019-03-01    23\n",
      "2019-03-02     5\n",
      "2019-03-03     4\n",
      "2019-03-04     4\n",
      "2019-03-05    18\n",
      "dtype: int32\n"
     ]
    }
   ],
   "source": [
    "from datetime import date, timedelta\n",
    "np.random.seed(33)\n",
    "dates = list(map(str,[date(2019, 1, 4) + timedelta(days=i) for i in range(360)]))\n",
    "temperatures = np.random.randint(-10, 35, len(dates))\n",
    "dates = pd.to_datetime(dates)\n",
    "ser = pd.Series(temperatures, dates) # приведение к типу datetime\n",
    "n = 3 # номер месяца\n",
    "print(ser[dates.month == n].head())"
   ]
  },
  {
   "cell_type": "code",
   "execution_count": 402,
   "metadata": {},
   "outputs": [
    {
     "name": "stdout",
     "output_type": "stream",
     "text": [
      "61 83\n"
     ]
    }
   ],
   "source": [
    "names = ['Иван', 'Олег', 'Татьяна', 'Марина', 'Алексей', 'Андрей']\n",
    "scores = [65, 61, 83, 68, 69, 99]\n",
    "request = ['Олег', 'Татьяна']\n",
    "ser = pd.Series(scores, names)\n",
    "print(*ser[request].values)"
   ]
  },
  {
   "cell_type": "code",
   "execution_count": 403,
   "metadata": {},
   "outputs": [
    {
     "name": "stdout",
     "output_type": "stream",
     "text": [
      "Россия     144.5\n",
      "США        328.2\n",
      "Китай     1393.0\n",
      "Индия     1366.0\n",
      "Япония     126.5\n",
      "dtype: float64\n",
      "Россия     144.5\n",
      "США        328.2\n",
      "Китай     1393.0\n",
      "Индия     1366.0\n",
      "Япония     110.0\n",
      "dtype: float64\n"
     ]
    }
   ],
   "source": [
    "countries = ['Россия', 'США', 'Китай', 'Индия', 'Япония', 'Германия', 'Великобритания', 'Франция', 'Италия', 'Канада', 'Южная_Корея', 'Австралия']\n",
    "populations = [144.5, 328.2, 1393.0, 1366.0, 126.5, 83.1, 66.7, 66.99, 60.4, 37.59, 51.78, 25.4]\n",
    "n, m = 'Япония', 110\n",
    "ser = pd.Series(populations, countries)\n",
    "print(ser.head())\n",
    "ser[n] = m\n",
    "print(ser.head())"
   ]
  },
  {
   "cell_type": "code",
   "execution_count": 404,
   "metadata": {},
   "outputs": [
    {
     "name": "stdout",
     "output_type": "stream",
     "text": [
      "2022-06-04    20.000000\n",
      "2022-06-05    22.222222\n",
      "2022-06-06    23.888889\n",
      "2022-06-07    21.111111\n",
      "2022-06-08    20.000000\n",
      "2022-06-09    22.777778\n",
      "2022-06-10    26.111111\n",
      "dtype: float64\n"
     ]
    }
   ],
   "source": [
    "dates = ['2022-06-04', '2022-06-05', '2022-06-06', '2022-06-07', '2022-06-08', '2022-06-09', '2022-06-10']\n",
    "temperatures = [68, 72, 75, 70, 68, 73, 79]\n",
    "ser = pd.Series(temperatures, dates)\n",
    "\n",
    "ind = ser.index\n",
    "\n",
    "val = (ser.values - 32) * 5/9\n",
    "ser = pd.Series(val, ind)\n",
    "print(ser)"
   ]
  },
  {
   "cell_type": "code",
   "execution_count": 405,
   "metadata": {},
   "outputs": [
    {
     "name": "stdout",
     "output_type": "stream",
     "text": [
      "2022-06-04    68\n",
      "2022-06-05    72\n",
      "2022-06-06    75\n",
      "2022-06-07    70\n",
      "2022-06-08    68\n",
      "2022-06-09    73\n",
      "2022-06-10    79\n",
      "dtype: int64\n"
     ]
    }
   ],
   "source": [
    "ser = ser.apply(lambda x: int(x / (5/9) + 32))\n",
    "print(ser)"
   ]
  },
  {
   "cell_type": "code",
   "execution_count": 406,
   "metadata": {},
   "outputs": [
    {
     "name": "stdout",
     "output_type": "stream",
     "text": [
      "2022-06-04    20.000000\n",
      "2022-06-05    22.222222\n",
      "2022-06-06    23.888889\n",
      "2022-06-07    21.111111\n",
      "2022-06-08    20.000000\n",
      "2022-06-09    22.777778\n",
      "2022-06-10    26.111111\n",
      "dtype: float64\n"
     ]
    }
   ],
   "source": [
    "ser = (ser - 32) * 5 / 9\n",
    "print(ser)"
   ]
  },
  {
   "cell_type": "markdown",
   "metadata": {},
   "source": [
    "# 2.4 Атрибут dtype объекта Pandas"
   ]
  },
  {
   "cell_type": "code",
   "execution_count": 407,
   "metadata": {},
   "outputs": [
    {
     "name": "stdout",
     "output_type": "stream",
     "text": [
      "0    1.0\n",
      "1    2.0\n",
      "2    3.0\n",
      "3    4.0\n",
      "4    5.0\n",
      "dtype: float64\n",
      "0    1\n",
      "1    2\n",
      "2    3\n",
      "3    4\n",
      "4    5\n",
      "dtype: int32\n",
      "0   2022-04-01\n",
      "1   2022-04-02\n",
      "2   2022-04-03\n",
      "dtype: datetime64[ns]\n",
      "0     dog\n",
      "1     cat\n",
      "2     dog\n",
      "3    fish\n",
      "4     cat\n",
      "dtype: category\n",
      "Categories (3, object): ['cat', 'dog', 'fish']\n",
      "0     apple\n",
      "1    banana\n",
      "2    cherry\n",
      "dtype: object\n"
     ]
    }
   ],
   "source": [
    "# создание серии со значениями с плавающей точкой\n",
    "s = pd.Series([1, 2, 3, 4, 5], dtype='float')\n",
    "print(s)\n",
    "\n",
    "# создание серии с целочисленными значениями\n",
    "s = pd.Series([1, 2, 3, 4, 5], dtype=int)\n",
    "print(s)\n",
    "\n",
    "# создание серии с датами\n",
    "s = pd.Series(['2022-04-01', '2022-04-02', '2022-04-03'], dtype='datetime64[ns]')\n",
    "print(s)\n",
    "\n",
    "# создание серии с категориальными значениями\n",
    "s = pd.Series([\"dog\", \"cat\", \"dog\", \"fish\", \"cat\"], dtype=\"category\")\n",
    "print(s)\n",
    "\n",
    "# создание серии из списка, содержащего строковые значения\n",
    "s = pd.Series(['apple', 'banana', 'cherry'])\n",
    "print(s)"
   ]
  },
  {
   "cell_type": "code",
   "execution_count": 408,
   "metadata": {},
   "outputs": [
    {
     "name": "stdout",
     "output_type": "stream",
     "text": [
      "x     True\n",
      "y    False\n",
      "z     True\n",
      "dtype: bool\n",
      "x    False\n",
      "y    False\n",
      "z    False\n",
      "dtype: bool\n"
     ]
    }
   ],
   "source": [
    "ser = pd.Series([True, False, True], index=list('xyz'), dtype='bool')\n",
    "print(ser)\n",
    "ser[:] = False\n",
    "print(ser)"
   ]
  },
  {
   "cell_type": "code",
   "execution_count": 409,
   "metadata": {},
   "outputs": [
    {
     "name": "stdout",
     "output_type": "stream",
     "text": [
      "a    10.0\n",
      "b    20.0\n",
      "c    30.0\n",
      "d    40.0\n",
      "dtype: float64\n",
      "a    20.0\n",
      "b    40.0\n",
      "c    60.0\n",
      "d    80.0\n",
      "dtype: float64\n",
      "50.0\n"
     ]
    }
   ],
   "source": [
    "ser = pd.Series([10, 20, 30, 40], index=list('abcd'), dtype='float64')\n",
    "print(ser)\n",
    "ser *= 2\n",
    "print(ser)\n",
    "print(ser.mean())"
   ]
  },
  {
   "cell_type": "markdown",
   "metadata": {},
   "source": [
    "# 2.5 Применение математических функций и операторов к объекту Series"
   ]
  },
  {
   "cell_type": "code",
   "execution_count": 410,
   "metadata": {},
   "outputs": [],
   "source": [
    "# Функции из модуля math:\n",
    "# math.sin(x) - возвращает синус x (x в радианах)\n",
    "# math.cos(x) - возвращает косинус x (x в радианах)\n",
    "# math.tan(x) - возвращает тангенс x (x в радианах)\n",
    "# math.exp(x) - возвращает экспоненту x\n",
    "# math.log(x) - возвращает натуральный логарифм x\n",
    "# math.sqrt(x) - возвращает квадратный корень из x\n",
    "\n",
    "# Функции из модуля numpy:\n",
    "# numpy.abs(x) - возвращает абсолютное значение x\n",
    "# numpy.round(x, n) - округляет x до n знаков после запятой\n",
    "# numpy.floor(x) - округляет x вниз до ближайшего целого числа\n",
    "# numpy.ceil(x) - округляет x вверх до ближайшего целого числа\n",
    "# numpy.power(x, n) - возвращает x в степени n\n",
    "# numpy.exp(x) - возвращает экспоненту x\n",
    "# numpy.log(x) - возвращает натуральный логарифм x\n",
    "# numpy.sqrt(x) - возвращает квадратный корень из x"
   ]
  },
  {
   "cell_type": "code",
   "execution_count": 411,
   "metadata": {},
   "outputs": [
    {
     "name": "stdout",
     "output_type": "stream",
     "text": [
      "0    5\n",
      "1    7\n",
      "2    9\n",
      "dtype: int64\n"
     ]
    }
   ],
   "source": [
    "s1 = pd.Series([1, 2, 3]) \n",
    "s2 = pd.Series([4, 5, 6]) \n",
    "s3 = s1 + s2 \n",
    "print(s3)"
   ]
  },
  {
   "cell_type": "code",
   "execution_count": 412,
   "metadata": {},
   "outputs": [
    {
     "name": "stdout",
     "output_type": "stream",
     "text": [
      "0    True\n",
      "1    True\n",
      "2    True\n",
      "dtype: bool\n"
     ]
    }
   ],
   "source": [
    "s1 = pd.Series([1, 2, 3]) \n",
    "s2 = pd.Series([4, 5, 6]) \n",
    "mask = s1 < s2 \n",
    "print(mask)"
   ]
  },
  {
   "cell_type": "code",
   "execution_count": 413,
   "metadata": {},
   "outputs": [
    {
     "name": "stdout",
     "output_type": "stream",
     "text": [
      "0    False\n",
      "1    False\n",
      "2     True\n",
      "dtype: bool\n"
     ]
    }
   ],
   "source": [
    "s1 = pd.Series([1, 2, 3]) \n",
    "s2 = pd.Series([4, 5, 6]) \n",
    "mask = (s1 < s2) & (s1 > 2)\n",
    "print(mask)"
   ]
  },
  {
   "cell_type": "code",
   "execution_count": 414,
   "metadata": {},
   "outputs": [
    {
     "name": "stdout",
     "output_type": "stream",
     "text": [
      "0    False\n",
      "1     True\n",
      "2     True\n",
      "dtype: bool\n",
      "1    20\n",
      "2    30\n",
      "dtype: int64\n"
     ]
    }
   ],
   "source": [
    "s1 = pd.Series([7, 2, 3]) \n",
    "s2 = pd.Series([4, 5, 6]) \n",
    "mask = s1 < s2 \n",
    "print(mask) \n",
    "\n",
    "s3 = pd.Series([10, 20, 30]) \n",
    "s4 = s3[mask] \n",
    "print(s4) "
   ]
  },
  {
   "cell_type": "code",
   "execution_count": 415,
   "metadata": {},
   "outputs": [
    {
     "name": "stdout",
     "output_type": "stream",
     "text": [
      "0     1.000000\n",
      "1     2.718282\n",
      "2     7.389056\n",
      "3    20.085537\n",
      "dtype: float64\n",
      "0        -inf\n",
      "1    0.000000\n",
      "2    0.693147\n",
      "3    1.098612\n",
      "dtype: float64\n"
     ]
    }
   ],
   "source": [
    "# создание pd.Series\n",
    "s = pd.Series([0, 1, 2, 3])\n",
    "\n",
    "# вычисление экспоненты и логарифма\n",
    "exp_s = np.exp(s)\n",
    "log_s = np.log(s)\n",
    "\n",
    "# вывод результатов\n",
    "print(exp_s)\n",
    "print(log_s)"
   ]
  },
  {
   "cell_type": "code",
   "execution_count": 416,
   "metadata": {},
   "outputs": [
    {
     "name": "stdout",
     "output_type": "stream",
     "text": [
      "2    9\n",
      "dtype: int64\n"
     ]
    }
   ],
   "source": [
    "s1 = pd.Series([1, 2, 3]) \n",
    "s2 = pd.Series([4, 5, 6]) \n",
    "mask = s1 > 2 \n",
    "s3 = s1[mask] + s2[mask] \n",
    "print(s3)"
   ]
  },
  {
   "cell_type": "code",
   "execution_count": 417,
   "metadata": {},
   "outputs": [
    {
     "name": "stdout",
     "output_type": "stream",
     "text": [
      "0    3\n",
      "1    6\n",
      "2    9\n",
      "dtype: int16\n",
      "0     2\n",
      "1     8\n",
      "2    18\n",
      "dtype: int16\n"
     ]
    }
   ],
   "source": [
    "ser1 = pd.Series([1, 2, 3], dtype='int16')\n",
    "ser2 = pd.Series([2, 4, 6], dtype='int16')\n",
    "print(ser1+ser2)\n",
    "print(ser1*ser2)"
   ]
  },
  {
   "cell_type": "code",
   "execution_count": 418,
   "metadata": {},
   "outputs": [
    {
     "name": "stdout",
     "output_type": "stream",
     "text": [
      "a    1\n",
      "b    2\n",
      "dtype: int64\n"
     ]
    }
   ],
   "source": [
    "ser = pd.Series([1, 2, 3, 4, 5], index=list('abcde'))\n",
    "print(ser[ser<3])"
   ]
  },
  {
   "cell_type": "code",
   "execution_count": 419,
   "metadata": {},
   "outputs": [
    {
     "data": {
      "text/plain": [
       "0    False\n",
       "1     True\n",
       "2     True\n",
       "dtype: bool"
      ]
     },
     "execution_count": 419,
     "metadata": {},
     "output_type": "execute_result"
    }
   ],
   "source": [
    "ser = pd.Series([10, 20, 30])\n",
    "ser = ser > 15\n",
    "ser"
   ]
  },
  {
   "cell_type": "code",
   "execution_count": 420,
   "metadata": {},
   "outputs": [
    {
     "name": "stdout",
     "output_type": "stream",
     "text": [
      "0    1.65\n",
      "1    2.59\n",
      "2    4.36\n",
      "dtype: float64\n"
     ]
    }
   ],
   "source": [
    "ser1 = pd.Series([1.0, 2.0, 3.0])\n",
    "ser2 = np.sqrt(np.exp(ser1) - np.log(ser1)).round(2)\n",
    "print(ser2)"
   ]
  },
  {
   "cell_type": "code",
   "execution_count": 421,
   "metadata": {},
   "outputs": [
    {
     "name": "stdout",
     "output_type": "stream",
     "text": [
      "0    1\n",
      "1    4\n",
      "2    5\n",
      "3    3\n",
      "4    7\n",
      "5    9\n",
      "6    8\n",
      "7    2\n",
      "dtype: uint32\n",
      "0    1\n",
      "2    5\n",
      "3    3\n",
      "4    7\n",
      "5    9\n",
      "dtype: uint32\n"
     ]
    }
   ],
   "source": [
    "ser1 = pd.Series([1, 4, 5, 3, 7, 9, 8, 2], dtype='uint32')\n",
    "print(ser1)\n",
    "ser2 = ser1[(ser1 % 2) == 1]\n",
    "print(ser2)"
   ]
  },
  {
   "cell_type": "code",
   "execution_count": 422,
   "metadata": {},
   "outputs": [
    {
     "data": {
      "text/plain": [
       "0     cat\n",
       "2     can\n",
       "4    call\n",
       "dtype: string"
      ]
     },
     "execution_count": 422,
     "metadata": {},
     "output_type": "execute_result"
    }
   ],
   "source": [
    "s = pd.Series(['cat', 'fish', 'can', 'able', 'call'], dtype='string')\n",
    "char = 'c'\n",
    "s[s.str.startswith(char)]"
   ]
  },
  {
   "cell_type": "code",
   "execution_count": 423,
   "metadata": {},
   "outputs": [
    {
     "name": "stdout",
     "output_type": "stream",
     "text": [
      "0   2021-01-01\n",
      "1   2021-02-21\n",
      "2   2021-03-18\n",
      "3   2021-05-02\n",
      "4   2021-08-11\n",
      "5   2021-12-12\n",
      "dtype: datetime64[ns]\n",
      "3   2021-05-02\n",
      "4   2021-08-11\n",
      "dtype: datetime64[ns]\n"
     ]
    }
   ],
   "source": [
    "ser = pd.Series(['2021-01-01', '2021-02-21', '2021-03-18', '2021-05-02', '2021-08-11', '2021-12-12'], dtype='datetime64[ns]')\n",
    "print(ser)\n",
    "print(ser[ser.between('2021-03-18', '2021-09-22', inclusive='neither')])"
   ]
  },
  {
   "cell_type": "code",
   "execution_count": 424,
   "metadata": {},
   "outputs": [
    {
     "name": "stdout",
     "output_type": "stream",
     "text": [
      "0      абрек\n",
      "1        аул\n",
      "2    барнаул\n",
      "3        кит\n",
      "4      арнлк\n",
      "dtype: string\n",
      "Series([], dtype: string)\n"
     ]
    }
   ],
   "source": [
    "s = pd.Series(['абрек', 'аул', 'барнаул', 'кит', 'арнлк'], dtype='string')\n",
    "print(s)\n",
    "s2 = s[(s.str.startswith('a')) & (s.str.endswith('к'))]\n",
    "print(s2)"
   ]
  },
  {
   "cell_type": "markdown",
   "metadata": {},
   "source": [
    "# 2.7 Атрибут name объекта Series"
   ]
  },
  {
   "cell_type": "code",
   "execution_count": 425,
   "metadata": {},
   "outputs": [
    {
     "name": "stdout",
     "output_type": "stream",
     "text": [
      "0    1\n",
      "1    2\n",
      "2    3\n",
      "Name: my_series, dtype: int64\n"
     ]
    }
   ],
   "source": [
    "data = [1, 2, 3]\n",
    "s = pd.Series(data, name=\"my_series\")\n",
    "print(s)"
   ]
  },
  {
   "cell_type": "code",
   "execution_count": 426,
   "metadata": {},
   "outputs": [
    {
     "name": "stdout",
     "output_type": "stream",
     "text": [
      "0    1\n",
      "1    2\n",
      "2    3\n",
      "dtype: int64\n",
      "0    1\n",
      "1    2\n",
      "2    3\n",
      "Name: my_series, dtype: int64\n"
     ]
    }
   ],
   "source": [
    "s = pd.Series(data)\n",
    "print(s)\n",
    "s.name = 'my_series'\n",
    "print(s)"
   ]
  },
  {
   "cell_type": "code",
   "execution_count": 427,
   "metadata": {},
   "outputs": [
    {
     "name": "stdout",
     "output_type": "stream",
     "text": [
      "Index([1, 2, 3, 4, 5], dtype='int64', name='my_index')\n"
     ]
    }
   ],
   "source": [
    "data = [1, 2, 3, 4, 5]\n",
    "index = pd.Index(data, name=\"my_index\")\n",
    "print(index)"
   ]
  },
  {
   "cell_type": "code",
   "execution_count": 428,
   "metadata": {},
   "outputs": [
    {
     "name": "stdout",
     "output_type": "stream",
     "text": [
      "Index([1, 2, 3, 4, 5], dtype='int64')\n",
      "Index([1, 2, 3, 4, 5], dtype='int64', name='my_index')\n"
     ]
    }
   ],
   "source": [
    "\n",
    "index = pd.Index(data)\n",
    "print(index)\n",
    "index.name = 'my_index'\n",
    "print(index)"
   ]
  },
  {
   "cell_type": "code",
   "execution_count": 429,
   "metadata": {},
   "outputs": [
    {
     "name": "stdout",
     "output_type": "stream",
     "text": [
      "инд\n",
      "0    1\n",
      "1    2\n",
      "2    3\n",
      "Name: my_series, dtype: int64\n"
     ]
    }
   ],
   "source": [
    "data = [1, 2, 3]\n",
    "s = pd.Series(data, name=\"my_series\")\n",
    "s.index.name = 'инд'\n",
    "print(s)"
   ]
  },
  {
   "cell_type": "code",
   "execution_count": 430,
   "metadata": {},
   "outputs": [
    {
     "name": "stdout",
     "output_type": "stream",
     "text": [
      "Название\n",
      "Оно    120\n",
      "Она    240\n",
      "Они     34\n",
      "Он     333\n",
      "Name: Цены на книги, dtype: uint16\n"
     ]
    }
   ],
   "source": [
    "books = ['Оно', 'Она', 'Они', 'Он']\n",
    "prices = [120, 240, 34, 333]\n",
    "ser = pd.Series(prices, books, dtype='uint16', name='Цены на книги')\n",
    "ser.index.name = 'Название'\n",
    "print(ser)"
   ]
  },
  {
   "cell_type": "code",
   "execution_count": 431,
   "metadata": {},
   "outputs": [
    {
     "name": "stdout",
     "output_type": "stream",
     "text": [
      "a       ананас\n",
      "b     апельсин\n",
      "c     баклажан\n",
      "d        банан\n",
      "e     клубника\n",
      "f        бурак\n",
      "g    картофель\n",
      "Name: ягоды, dtype: string\n",
      "c    баклажан\n",
      "d       банан\n",
      "f       бурак\n",
      "Name: ягоды на букву б, dtype: string\n"
     ]
    }
   ],
   "source": [
    "data = ['ананас', 'апельсин', 'баклажан', 'банан', 'клубника', 'бурак', 'картофель']\n",
    "s = pd.Series(data, list(ascii_lowercase[:len(data)]), dtype='string', name='ягоды')\n",
    "print(s)\n",
    "s2 = pd.Series(s[(s.str.startswith('б'))], name='ягоды на букву б')\n",
    "print(s2)"
   ]
  },
  {
   "cell_type": "code",
   "execution_count": 432,
   "metadata": {},
   "outputs": [
    {
     "name": "stdout",
     "output_type": "stream",
     "text": [
      "товар\n",
      "булавки    25\n",
      "нитки      12\n",
      "иголки     34\n",
      "пяльца     23\n",
      "Name: продажи, dtype: int64\n",
      "товар\n",
      "булавки    25\n",
      "пяльца     23\n",
      "Name: нечетные продажи, dtype: int64\n"
     ]
    },
    {
     "name": "stderr",
     "output_type": "stream",
     "text": [
      "c:\\Users\\Pong\\anaconda3\\Lib\\site-packages\\numpy\\core\\numeric.py:2468: FutureWarning: elementwise comparison failed; returning scalar instead, but in the future will perform elementwise comparison\n",
      "  return bool(asarray(a1 == a2).all())\n"
     ]
    }
   ],
   "source": [
    "a = ['булавки-25', 'нитки-12', 'иголки-34', 'пяльца-23']\n",
    "b = {i.split('-')[0]: i.split('-')[1] for i in a}\n",
    "\n",
    "ser = pd.Series(b, dtype='int64', name='продажи')\n",
    "ser.index.name = 'товар'\n",
    "print(ser)\n",
    "ser2 = pd.Series(ser[ser%2==1], name='нечетные продажи')\n",
    "print(ser2)"
   ]
  },
  {
   "cell_type": "code",
   "execution_count": 433,
   "metadata": {},
   "outputs": [
    {
     "name": "stdout",
     "output_type": "stream",
     "text": [
      "дата\n",
      "2023-01-05    234\n",
      "2023-02-23    345\n",
      "2023-03-12    239\n",
      "Name: посещаемость, dtype: uint32\n"
     ]
    }
   ],
   "source": [
    "a = '2023-01-05:234 2023-02-23:345 2023-03-12:239'.split()\n",
    "ser = pd.Series({k: int(v) for k, v in (b.split(':') for b in a)}, dtype='uint32', name='посещаемость')\n",
    "ser.index.name = 'дата'\n",
    "ser.index = ser.index.astype('datetime64[ns]')\n",
    "print(ser)"
   ]
  },
  {
   "cell_type": "code",
   "execution_count": 434,
   "metadata": {},
   "outputs": [
    {
     "name": "stdout",
     "output_type": "stream",
     "text": [
      "товар\n",
      "iPhone 13             50000\n",
      "Samsung Galaxy S21    35000\n",
      "Google Pixel 6        15000\n",
      "OnePlus 9 Pro         12000\n",
      "Xiaomi Mi 11           9000\n",
      "Oppo Find X3 Pro       7500\n",
      "Sony Xperia 1 III      5000\n",
      "LG Wing                2000\n",
      "Name: продажи за месяц, dtype: int64\n",
      "LG Wing\n",
      "LG Wing\n"
     ]
    }
   ],
   "source": [
    "products = ['iPhone 13', 'Samsung Galaxy S21', 'Google Pixel 6', 'OnePlus 9 Pro', 'Xiaomi Mi 11', 'Oppo Find X3 Pro', 'Sony Xperia 1 III', 'LG Wing']\n",
    "sales = [50000, 35000, 15000, 12000, 9000, 7500, 5000, 2000]\n",
    "\n",
    "ser = pd.Series(sales, products, name='продажи за месяц')\n",
    "ser.index.name = 'товар'\n",
    "print(ser)\n",
    "print(ser.idxmin())\n",
    "print(*ser[ser == ser.min()].index.values)"
   ]
  },
  {
   "cell_type": "markdown",
   "metadata": {},
   "source": [
    "# 3.1 Объект DataFrame и его создание"
   ]
  },
  {
   "cell_type": "code",
   "execution_count": 435,
   "metadata": {},
   "outputs": [
    {
     "name": "stdout",
     "output_type": "stream",
     "text": [
      "   Name Age           City\n",
      "0  John  28       New York\n",
      "1  Kate  23        Chicago\n",
      "2  Mike  32  San Francisco\n"
     ]
    }
   ],
   "source": [
    "# Создание DataFrame из списка списков\n",
    "data = [['John', 28, 'New York'],\n",
    "        ['Kate', 23, 'Chicago'],\n",
    "        ['Mike', 32, 'San Francisco']]\n",
    "df = pd.DataFrame(data, columns=['Name', 'Age', 'City'])\n",
    "\n",
    "# Создание DataFrame из словаря\n",
    "data = {'Name': ['John', 'Kate', 'Mike'],\n",
    "        'Age': [28, 23, 32],\n",
    "        'City': ['New York', 'Chicago', 'San Francisco']}\n",
    "df = pd.DataFrame(data)\n",
    "\n",
    "# Создание DataFrame из списка словарей\n",
    "data = [{'Name': 'John', 'Age': 28, 'City': 'New York'},\n",
    "        {'Name': 'Kate', 'Age': 23, 'City': 'Chicago'},\n",
    "        {'Name': 'Mike', 'Age': 32, 'City': 'San Francisco'}]\n",
    "df = pd.DataFrame(data)\n",
    "\n",
    "# Создание DataFrame из массива numpy\n",
    "data = np.array([['John', 28, 'New York'],\n",
    "                 ['Kate', 23, 'Chicago'],\n",
    "                 ['Mike', 32, 'San Francisco']])\n",
    "df = pd.DataFrame(data, columns=['Name', 'Age', 'City'])\n",
    "print(df)"
   ]
  },
  {
   "cell_type": "code",
   "execution_count": 436,
   "metadata": {},
   "outputs": [
    {
     "name": "stdout",
     "output_type": "stream",
     "text": [
      "  Full Name Age       Location\n",
      "0      John  28       New York\n",
      "1      Kate  23        Chicago\n",
      "2      Mike  32  San Francisco\n"
     ]
    }
   ],
   "source": [
    "df.columns = ['Full Name', 'Age', 'Location']\n",
    "print(df)"
   ]
  },
  {
   "cell_type": "code",
   "execution_count": 437,
   "metadata": {},
   "outputs": [
    {
     "name": "stdout",
     "output_type": "stream",
     "text": [
      "      name  age  gender         city\n",
      "0    Alice   25  female     New York\n",
      "1      Bob   32    male  Los Angeles\n",
      "2  Charlie   19    male      Chicago\n",
      "3    David   47    male      Houston\n"
     ]
    }
   ],
   "source": [
    "data = {\n",
    "    'name': ['Alice', 'Bob', 'Charlie', 'David'],\n",
    "    'age': [25, 32, 19, 47],\n",
    "    'gender': ['female', 'male', 'male', 'male'],\n",
    "    'city': ['New York', 'Los Angeles', 'Chicago', 'Houston']\n",
    "}\n",
    "import pandas as pd\n",
    "\n",
    "df = pd.DataFrame(data)\n",
    "print(df)"
   ]
  },
  {
   "cell_type": "code",
   "execution_count": 438,
   "metadata": {},
   "outputs": [
    {
     "name": "stdout",
     "output_type": "stream",
     "text": [
      "                            title  year  imdb_rating                 genre\n",
      "0        The Shawshank Redemption  1994          9.3                 Drama\n",
      "1                   The Godfather  1972          9.2          Crime, Drama\n",
      "2          The Godfather: Part II  1974          9.0          Crime, Drama\n",
      "3                 The Dark Knight  2008          9.0  Action, Crime, Drama\n",
      "4                    12 Angry Men  1957          8.9                 Drama\n",
      "5                    Pulp Fiction  1994          8.9          Crime, Drama\n",
      "6  The Good, the Bad and the Ugly  1966          8.8               Western\n",
      "                         Название   Год  Рейтинг IMDB                  Жанр\n",
      "0        The Shawshank Redemption  1994           9.3                 Drama\n",
      "1                   The Godfather  1972           9.2          Crime, Drama\n",
      "2          The Godfather: Part II  1974           9.0          Crime, Drama\n",
      "3                 The Dark Knight  2008           9.0  Action, Crime, Drama\n",
      "4                    12 Angry Men  1957           8.9                 Drama\n",
      "5                    Pulp Fiction  1994           8.9          Crime, Drama\n",
      "6  The Good, the Bad and the Ugly  1966           8.8               Western\n"
     ]
    }
   ],
   "source": [
    "movies_data = [\n",
    "    {'title': 'The Shawshank Redemption', 'year': 1994, 'imdb_rating': 9.3, 'genre': 'Drama'},\n",
    "    {'title': 'The Godfather', 'year': 1972, 'imdb_rating': 9.2, 'genre': 'Crime, Drama'},\n",
    "    {'title': 'The Godfather: Part II', 'year': 1974, 'imdb_rating': 9.0, 'genre': 'Crime, Drama'},\n",
    "    {'title': 'The Dark Knight', 'year': 2008, 'imdb_rating': 9.0, 'genre': 'Action, Crime, Drama'},\n",
    "    {'title': '12 Angry Men', 'year': 1957, 'imdb_rating': 8.9, 'genre': 'Drama'},    \n",
    "    {'title': 'Pulp Fiction', 'year': 1994, 'imdb_rating': 8.9, 'genre': 'Crime, Drama'},\n",
    "    {'title': 'The Good, the Bad and the Ugly', 'year': 1966, 'imdb_rating': 8.8, 'genre': 'Western'},\n",
    "]\n",
    "import pandas as pd\n",
    "\n",
    "df = pd.DataFrame(movies_data)\n",
    "print(df)\n",
    "df = df.rename(columns={'title': 'Название', 'year': 'Год',  'imdb_rating': 'Рейтинг IMDB',  'genre': 'Жанр'})\n",
    "print(df)"
   ]
  },
  {
   "cell_type": "code",
   "execution_count": 439,
   "metadata": {},
   "outputs": [],
   "source": [
    "# n = int(input())\n",
    "# data = [\n",
    "#     ([i for i in input().split(', ')]) for j in range(n)\n",
    "#]\n",
    "# df = pd.DataFrame(data, columns=['Товар', 'Цена', 'Дата'])\n",
    "# print(df)\n",
    "\n",
    "# data = [([i for i in input().split(', ')]) for _ in range(int(input()))]\n",
    "# df = pd.DataFrame(data, columns=['Дата', 'Валюта1/Валюта2', 'Курс'])\n",
    "# print(df)"
   ]
  },
  {
   "cell_type": "markdown",
   "metadata": {},
   "source": [
    "# 3.2 Основы работы со столбцами DataFrame"
   ]
  },
  {
   "cell_type": "code",
   "execution_count": 440,
   "metadata": {},
   "outputs": [
    {
     "name": "stdout",
     "output_type": "stream",
     "text": [
      "      name age     sex sales_2019 sales_2020 region\n",
      "0    Alice  25  female       1000       1200  North\n",
      "1      Bob  30    male       2000       1800  South\n",
      "2  Charlie  35    male       1500       1700   East\n",
      "name          object\n",
      "age           object\n",
      "sex           object\n",
      "sales_2019    object\n",
      "sales_2020    object\n",
      "region        object\n",
      "dtype: object\n",
      "      name  age     sex  sales_2019  sales_2020 region  total_sales\n",
      "0    Alice   25  female        1000        1200  North         2200\n",
      "1      Bob   30    male        2000        1800  South         3800\n",
      "2  Charlie   35    male        1500        1700   East         3200\n",
      "name           object\n",
      "age             int32\n",
      "sex            object\n",
      "sales_2019      int32\n",
      "sales_2020      int32\n",
      "region         object\n",
      "total_sales     int32\n",
      "dtype: object\n"
     ]
    }
   ],
   "source": [
    "# data = [input().split() for _ in range(3)]\n",
    "data = [['Alice', '25', 'female', '1000', '1200', 'North'],\n",
    " ['Bob', '30', 'male', '2000', '1800', 'South'],\n",
    " ['Charlie', '35', 'male', '1500', '1700', 'East']]\n",
    "df = pd.DataFrame(data, columns=['name', 'age', 'sex', 'sales_2019', 'sales_2020', 'region'])\n",
    "print(df)\n",
    "print(df.dtypes)\n",
    "df[['age', 'sales_2019', 'sales_2020']] = df[['age', 'sales_2019', 'sales_2020']].astype(int)\n",
    "df['total_sales'] = df.sales_2019 + df.sales_2020\n",
    "print(df)\n",
    "print(df.dtypes)"
   ]
  },
  {
   "cell_type": "code",
   "execution_count": 441,
   "metadata": {},
   "outputs": [
    {
     "data": {
      "text/html": [
       "<div>\n",
       "<style scoped>\n",
       "    .dataframe tbody tr th:only-of-type {\n",
       "        vertical-align: middle;\n",
       "    }\n",
       "\n",
       "    .dataframe tbody tr th {\n",
       "        vertical-align: top;\n",
       "    }\n",
       "\n",
       "    .dataframe thead th {\n",
       "        text-align: right;\n",
       "    }\n",
       "</style>\n",
       "<table border=\"1\" class=\"dataframe\">\n",
       "  <thead>\n",
       "    <tr style=\"text-align: right;\">\n",
       "      <th></th>\n",
       "      <th>customer_name</th>\n",
       "      <th>order_id</th>\n",
       "      <th>order_date</th>\n",
       "      <th>product</th>\n",
       "      <th>price</th>\n",
       "    </tr>\n",
       "  </thead>\n",
       "  <tbody>\n",
       "    <tr>\n",
       "      <th>0</th>\n",
       "      <td>John Doe</td>\n",
       "      <td>1</td>\n",
       "      <td>2021-01-01</td>\n",
       "      <td>Apple iPhone 12 Pro Max</td>\n",
       "      <td>1100</td>\n",
       "    </tr>\n",
       "    <tr>\n",
       "      <th>1</th>\n",
       "      <td>Jane Doe</td>\n",
       "      <td>2</td>\n",
       "      <td>2021-01-02</td>\n",
       "      <td>Samsung Galaxy S21+</td>\n",
       "      <td>800</td>\n",
       "    </tr>\n",
       "    <tr>\n",
       "      <th>2</th>\n",
       "      <td>Alex Smith</td>\n",
       "      <td>3</td>\n",
       "      <td>2021-01-03</td>\n",
       "      <td>Sony Playstation 5 Console</td>\n",
       "      <td>500</td>\n",
       "    </tr>\n",
       "    <tr>\n",
       "      <th>3</th>\n",
       "      <td>Sarah Jones</td>\n",
       "      <td>4</td>\n",
       "      <td>2021-01-04</td>\n",
       "      <td>Microsoft Xbox One</td>\n",
       "      <td>350</td>\n",
       "    </tr>\n",
       "    <tr>\n",
       "      <th>4</th>\n",
       "      <td>Bob Hope</td>\n",
       "      <td>5</td>\n",
       "      <td>2021-01-05</td>\n",
       "      <td>Apple Watch</td>\n",
       "      <td>400</td>\n",
       "    </tr>\n",
       "  </tbody>\n",
       "</table>\n",
       "</div>"
      ],
      "text/plain": [
       "  customer_name  order_id  order_date                     product  price\n",
       "0      John Doe         1  2021-01-01     Apple iPhone 12 Pro Max   1100\n",
       "1      Jane Doe         2  2021-01-02         Samsung Galaxy S21+    800\n",
       "2    Alex Smith         3  2021-01-03  Sony Playstation 5 Console    500\n",
       "3   Sarah Jones         4  2021-01-04          Microsoft Xbox One    350\n",
       "4      Bob Hope         5  2021-01-05                 Apple Watch    400"
      ]
     },
     "execution_count": 441,
     "metadata": {},
     "output_type": "execute_result"
    }
   ],
   "source": [
    "# Перемещение столбца\n",
    "orders = pd.DataFrame({'order_id': [1, 2, 3, 4, 5],\n",
    "        'order_date': ['2021-01-01', '2021-01-02', '2021-01-03', '2021-01-04', '2021-01-05'],\n",
    "        'customer_name': ['John Doe', 'Jane Doe', 'Alex Smith', 'Sarah Jones', 'Bob Hope'],\n",
    "        'product': ['Apple iPhone 12 Pro Max', 'Samsung Galaxy S21+', 'Sony Playstation 5 Console', 'Microsoft Xbox One', 'Apple Watch'],\n",
    "        'price': [1100, 800, 500, 350, 400]})\n",
    "\n",
    "column_to_move = orders.pop('customer_name')\n",
    "orders.insert(0, 'customer_name', column_to_move)\n",
    "orders"
   ]
  },
  {
   "cell_type": "code",
   "execution_count": 442,
   "metadata": {},
   "outputs": [
    {
     "data": {
      "text/html": [
       "<div>\n",
       "<style scoped>\n",
       "    .dataframe tbody tr th:only-of-type {\n",
       "        vertical-align: middle;\n",
       "    }\n",
       "\n",
       "    .dataframe tbody tr th {\n",
       "        vertical-align: top;\n",
       "    }\n",
       "\n",
       "    .dataframe thead th {\n",
       "        text-align: right;\n",
       "    }\n",
       "</style>\n",
       "<table border=\"1\" class=\"dataframe\">\n",
       "  <thead>\n",
       "    <tr style=\"text-align: right;\">\n",
       "      <th></th>\n",
       "      <th>Name</th>\n",
       "      <th>Age</th>\n",
       "      <th>Gender</th>\n",
       "      <th>Country</th>\n",
       "      <th>Salary_2021</th>\n",
       "      <th>Salary_2022</th>\n",
       "    </tr>\n",
       "  </thead>\n",
       "  <tbody>\n",
       "    <tr>\n",
       "      <th>0</th>\n",
       "      <td>John</td>\n",
       "      <td>23</td>\n",
       "      <td>M</td>\n",
       "      <td>USA</td>\n",
       "      <td>45000</td>\n",
       "      <td>47000</td>\n",
       "    </tr>\n",
       "    <tr>\n",
       "      <th>1</th>\n",
       "      <td>Maggie</td>\n",
       "      <td>34</td>\n",
       "      <td>F</td>\n",
       "      <td>Canada</td>\n",
       "      <td>52000</td>\n",
       "      <td>55000</td>\n",
       "    </tr>\n",
       "    <tr>\n",
       "      <th>2</th>\n",
       "      <td>Mark</td>\n",
       "      <td>45</td>\n",
       "      <td>M</td>\n",
       "      <td>UK</td>\n",
       "      <td>60000</td>\n",
       "      <td>61000</td>\n",
       "    </tr>\n",
       "  </tbody>\n",
       "</table>\n",
       "</div>"
      ],
      "text/plain": [
       "     Name  Age Gender Country  Salary_2021  Salary_2022\n",
       "0    John   23      M     USA        45000        47000\n",
       "1  Maggie   34      F  Canada        52000        55000\n",
       "2    Mark   45      M      UK        60000        61000"
      ]
     },
     "execution_count": 442,
     "metadata": {},
     "output_type": "execute_result"
    }
   ],
   "source": [
    "data = {'Name': ['John', 'Maggie', 'Mark', 'Jessica', 'Will'],\n",
    "        'Age': [23, 34, 45, 28, 31],\n",
    "        'Gender': ['M', 'F', 'M', 'F', 'M'],\n",
    "        'Country': ['USA', 'Canada', 'UK', 'Germany', 'France'],\n",
    "        'Salary_2021': [45000, 52000, 60000, 41000, 48000],\n",
    "        'Salary_2022': [47000, 55000, 61000, 42000, 50000]}\n",
    "df = pd.DataFrame(data)\n",
    "df.head(3)"
   ]
  },
  {
   "cell_type": "code",
   "execution_count": 443,
   "metadata": {},
   "outputs": [
    {
     "data": {
      "text/html": [
       "<div>\n",
       "<style scoped>\n",
       "    .dataframe tbody tr th:only-of-type {\n",
       "        vertical-align: middle;\n",
       "    }\n",
       "\n",
       "    .dataframe tbody tr th {\n",
       "        vertical-align: top;\n",
       "    }\n",
       "\n",
       "    .dataframe thead th {\n",
       "        text-align: right;\n",
       "    }\n",
       "</style>\n",
       "<table border=\"1\" class=\"dataframe\">\n",
       "  <thead>\n",
       "    <tr style=\"text-align: right;\">\n",
       "      <th></th>\n",
       "      <th>Name</th>\n",
       "      <th>Age</th>\n",
       "      <th>Sex</th>\n",
       "      <th>Salary_2021</th>\n",
       "      <th>Salary_2022</th>\n",
       "      <th>total_salary</th>\n",
       "    </tr>\n",
       "  </thead>\n",
       "  <tbody>\n",
       "    <tr>\n",
       "      <th>0</th>\n",
       "      <td>John</td>\n",
       "      <td>23</td>\n",
       "      <td>M</td>\n",
       "      <td>45000</td>\n",
       "      <td>47000</td>\n",
       "      <td>92000</td>\n",
       "    </tr>\n",
       "    <tr>\n",
       "      <th>1</th>\n",
       "      <td>Maggie</td>\n",
       "      <td>34</td>\n",
       "      <td>F</td>\n",
       "      <td>52000</td>\n",
       "      <td>55000</td>\n",
       "      <td>107000</td>\n",
       "    </tr>\n",
       "    <tr>\n",
       "      <th>2</th>\n",
       "      <td>Mark</td>\n",
       "      <td>45</td>\n",
       "      <td>M</td>\n",
       "      <td>60000</td>\n",
       "      <td>61000</td>\n",
       "      <td>121000</td>\n",
       "    </tr>\n",
       "    <tr>\n",
       "      <th>3</th>\n",
       "      <td>Jessica</td>\n",
       "      <td>28</td>\n",
       "      <td>F</td>\n",
       "      <td>41000</td>\n",
       "      <td>42000</td>\n",
       "      <td>83000</td>\n",
       "    </tr>\n",
       "    <tr>\n",
       "      <th>4</th>\n",
       "      <td>Will</td>\n",
       "      <td>31</td>\n",
       "      <td>M</td>\n",
       "      <td>48000</td>\n",
       "      <td>50000</td>\n",
       "      <td>98000</td>\n",
       "    </tr>\n",
       "  </tbody>\n",
       "</table>\n",
       "</div>"
      ],
      "text/plain": [
       "      Name  Age Sex  Salary_2021  Salary_2022  total_salary\n",
       "0     John   23   M        45000        47000         92000\n",
       "1   Maggie   34   F        52000        55000        107000\n",
       "2     Mark   45   M        60000        61000        121000\n",
       "3  Jessica   28   F        41000        42000         83000\n",
       "4     Will   31   M        48000        50000         98000"
      ]
     },
     "execution_count": 443,
     "metadata": {},
     "output_type": "execute_result"
    }
   ],
   "source": [
    "del df['Country']\n",
    "df['total_salary'] = df['Salary_2021'] + df['Salary_2022']\n",
    "df.rename(columns={'Gender': 'Sex'}, inplace=True)\n",
    "df"
   ]
  },
  {
   "cell_type": "code",
   "execution_count": 444,
   "metadata": {},
   "outputs": [
    {
     "name": "stdout",
     "output_type": "stream",
     "text": [
      "     Name  Age Gender Country  Salary_2021  Salary_2022\n",
      "0    John   23      M     USA        45000        47000\n",
      "1  Maggie   34      F  Canada        52000        55000\n",
      "2    Mark   45      M      UK        60000        61000\n",
      "      Name  Age Sex  Salary_2021  Salary_2022  total_salary\n",
      "0     John   23   M        45000        47000         92000\n",
      "1   Maggie   34   F        52000        55000        107000\n",
      "2     Mark   45   M        60000        61000        121000\n",
      "3  Jessica   28   F        41000        42000         83000\n",
      "4     Will   31   M        48000        50000         98000\n"
     ]
    }
   ],
   "source": [
    "df = pd.DataFrame(data)\n",
    "print(df.head(3))\n",
    "df = df.drop('Country', axis=1).rename(columns={'Gender': 'Sex'})\n",
    "df['total_salary'] = df[['Salary_2021', 'Salary_2022']].sum(axis=1)\n",
    "print(df)"
   ]
  },
  {
   "cell_type": "markdown",
   "metadata": {},
   "source": [
    "# 3.3 Атрибуты index, values, name DataFrame, извлечение строк"
   ]
  },
  {
   "cell_type": "code",
   "execution_count": 445,
   "metadata": {},
   "outputs": [
    {
     "name": "stdout",
     "output_type": "stream",
     "text": [
      "   name  age country\n",
      "a  John   25     USA\n",
      "b  Jane   30  Canada\n",
      "c  Bill   35      UK\n"
     ]
    }
   ],
   "source": [
    "data = { 'name': ['John', 'Jane', 'Bill'], 'age': [25, 30, 35],\n",
    " 'country': ['USA', 'Canada', 'UK'] } \n",
    "df = pd.DataFrame(data, index=['a', 'b', 'c']) \n",
    "print(df)"
   ]
  },
  {
   "cell_type": "code",
   "execution_count": 446,
   "metadata": {},
   "outputs": [
    {
     "name": "stdout",
     "output_type": "stream",
     "text": [
      "name       John\n",
      "age          25\n",
      "country     USA\n",
      "Name: a, dtype: object\n"
     ]
    }
   ],
   "source": [
    "print(df.loc['a'])"
   ]
  },
  {
   "cell_type": "code",
   "execution_count": 447,
   "metadata": {},
   "outputs": [
    {
     "name": "stdout",
     "output_type": "stream",
     "text": [
      "   name  age country\n",
      "a  John   25     USA\n",
      "c  Bill   35      UK\n"
     ]
    }
   ],
   "source": [
    "print(df.loc[['a', 'c']])"
   ]
  },
  {
   "cell_type": "code",
   "execution_count": 448,
   "metadata": {},
   "outputs": [
    {
     "name": "stdout",
     "output_type": "stream",
     "text": [
      "name       John\n",
      "age          25\n",
      "country     USA\n",
      "Name: a, dtype: object\n"
     ]
    }
   ],
   "source": [
    "print(df.iloc[0])"
   ]
  },
  {
   "cell_type": "code",
   "execution_count": 449,
   "metadata": {},
   "outputs": [
    {
     "name": "stdout",
     "output_type": "stream",
     "text": [
      "   name  age country\n",
      "a  John   25     USA\n",
      "c  Bill   35      UK\n"
     ]
    }
   ],
   "source": [
    "print(df.iloc[[0, 2]])"
   ]
  },
  {
   "cell_type": "code",
   "execution_count": 450,
   "metadata": {},
   "outputs": [
    {
     "name": "stdout",
     "output_type": "stream",
     "text": [
      "      age country\n",
      "name             \n",
      "John   25     USA\n",
      "Jane   30  Canada\n",
      "Bill   35      UK\n"
     ]
    }
   ],
   "source": [
    "df = df.set_index('name')\n",
    "\n",
    "print(df)"
   ]
  },
  {
   "cell_type": "code",
   "execution_count": 451,
   "metadata": {},
   "outputs": [
    {
     "name": "stdout",
     "output_type": "stream",
     "text": [
      "[[25 'USA']\n",
      " [30 'Canada']\n",
      " [35 'UK']]\n"
     ]
    }
   ],
   "source": [
    "print(df.values)"
   ]
  },
  {
   "cell_type": "code",
   "execution_count": 452,
   "metadata": {},
   "outputs": [
    {
     "name": "stdout",
     "output_type": "stream",
     "text": [
      "      age\n",
      "name     \n",
      "John   25\n",
      "Jane   30\n",
      "Bill   35\n"
     ]
    }
   ],
   "source": [
    "del df['country']\n",
    "\n",
    "print(df)"
   ]
  },
  {
   "cell_type": "code",
   "execution_count": 453,
   "metadata": {},
   "outputs": [
    {
     "name": "stdout",
     "output_type": "stream",
     "text": [
      "Имя           Кейт\n",
      "Возраст         35\n",
      "Зарплата    100000\n",
      "Name: 2, dtype: object\n",
      "    Имя  Возраст  Зарплата\n",
      "0  Анна       25     50000\n",
      "1   Боб       30     75000\n"
     ]
    }
   ],
   "source": [
    "data = {'Имя': ['Анна', 'Боб', 'Кейт'],\n",
    "        'Возраст': [25, 30, 35],\n",
    "        'Зарплата': [50000, 75000, 100000]}\n",
    "\n",
    "df = pd.DataFrame(data)\n",
    "print(df.iloc[df[df['Имя'] == 'Кейт'].index.values[0]])\n",
    "print(df.iloc[[df[df['Имя'] == 'Анна'].index.values[0], df[df['Имя'] == 'Боб'].index.values[0]]])"
   ]
  },
  {
   "cell_type": "code",
   "execution_count": 454,
   "metadata": {},
   "outputs": [
    {
     "name": "stdout",
     "output_type": "stream",
     "text": [
      "Имя           Кейт\n",
      "Возраст         35\n",
      "Зарплата    100000\n",
      "Name: 2, dtype: object\n",
      "    Имя  Возраст  Зарплата\n",
      "0  Анна       25     50000\n",
      "1   Боб       30     75000\n"
     ]
    }
   ],
   "source": [
    "print(df[df['Имя'] == \"Кейт\"].iloc[0])\n",
    "print(df[df['Имя'].isin(['Анна', 'Боб'])])"
   ]
  },
  {
   "cell_type": "code",
   "execution_count": 455,
   "metadata": {},
   "outputs": [
    {
     "name": "stdout",
     "output_type": "stream",
     "text": [
      "[['Стул' 100 90 110 95]\n",
      " ['Стол' 75 65 85 80]\n",
      " ['Диван' 50 70 60 75]]\n",
      "[['Стул' 100 90 110 95]\n",
      " ['Стол' 75 65 85 80]\n",
      " ['Диван' 50 70 60 75]]\n"
     ]
    }
   ],
   "source": [
    "sales_data = {\n",
    "    'Product': ['Стул', 'Стол', 'Диван'],\n",
    "    'Q1': [100, 75, 50],\n",
    "    'Q2': [90, 65, 70,],\n",
    "    'Q3': [110, 85, 60],\n",
    "    'Q4': [95, 80, 75]\n",
    "}\n",
    "# Создаем DataFrame и назначаем индексы\n",
    "df = pd.DataFrame(sales_data)\n",
    "print(df.to_numpy())\n",
    "print(df.values)"
   ]
  },
  {
   "cell_type": "code",
   "execution_count": 456,
   "metadata": {},
   "outputs": [
    {
     "data": {
      "text/html": [
       "<div>\n",
       "<style scoped>\n",
       "    .dataframe tbody tr th:only-of-type {\n",
       "        vertical-align: middle;\n",
       "    }\n",
       "\n",
       "    .dataframe tbody tr th {\n",
       "        vertical-align: top;\n",
       "    }\n",
       "\n",
       "    .dataframe thead th {\n",
       "        text-align: right;\n",
       "    }\n",
       "</style>\n",
       "<table border=\"1\" class=\"dataframe\">\n",
       "  <thead>\n",
       "    <tr style=\"text-align: right;\">\n",
       "      <th></th>\n",
       "      <th>Age</th>\n",
       "      <th>Gender</th>\n",
       "      <th>Country</th>\n",
       "    </tr>\n",
       "    <tr>\n",
       "      <th>Name</th>\n",
       "      <th></th>\n",
       "      <th></th>\n",
       "      <th></th>\n",
       "    </tr>\n",
       "  </thead>\n",
       "  <tbody>\n",
       "    <tr>\n",
       "      <th>John Smith</th>\n",
       "      <td>32</td>\n",
       "      <td>male</td>\n",
       "      <td>USA</td>\n",
       "    </tr>\n",
       "    <tr>\n",
       "      <th>Sarah Johnson</th>\n",
       "      <td>28</td>\n",
       "      <td>female</td>\n",
       "      <td>USA</td>\n",
       "    </tr>\n",
       "    <tr>\n",
       "      <th>Anna Schmidt</th>\n",
       "      <td>42</td>\n",
       "      <td>female</td>\n",
       "      <td>Germany</td>\n",
       "    </tr>\n",
       "    <tr>\n",
       "      <th>Paul Kowalski</th>\n",
       "      <td>50</td>\n",
       "      <td>male</td>\n",
       "      <td>Poland</td>\n",
       "    </tr>\n",
       "    <tr>\n",
       "      <th>Luigi Rossi</th>\n",
       "      <td>24</td>\n",
       "      <td>male</td>\n",
       "      <td>Italy</td>\n",
       "    </tr>\n",
       "    <tr>\n",
       "      <th>Marie Dupont</th>\n",
       "      <td>31</td>\n",
       "      <td>female</td>\n",
       "      <td>France</td>\n",
       "    </tr>\n",
       "    <tr>\n",
       "      <th>Javier Fernandez</th>\n",
       "      <td>27</td>\n",
       "      <td>male</td>\n",
       "      <td>Spain</td>\n",
       "    </tr>\n",
       "    <tr>\n",
       "      <th>Elena Petrova</th>\n",
       "      <td>35</td>\n",
       "      <td>female</td>\n",
       "      <td>Russia</td>\n",
       "    </tr>\n",
       "    <tr>\n",
       "      <th>Lars Johansson</th>\n",
       "      <td>47</td>\n",
       "      <td>male</td>\n",
       "      <td>Sweden</td>\n",
       "    </tr>\n",
       "  </tbody>\n",
       "</table>\n",
       "</div>"
      ],
      "text/plain": [
       "                  Age  Gender  Country\n",
       "Name                                  \n",
       "John Smith         32    male      USA\n",
       "Sarah Johnson      28  female      USA\n",
       "Anna Schmidt       42  female  Germany\n",
       "Paul Kowalski      50    male   Poland\n",
       "Luigi Rossi        24    male    Italy\n",
       "Marie Dupont       31  female   France\n",
       "Javier Fernandez   27    male    Spain\n",
       "Elena Petrova      35  female   Russia\n",
       "Lars Johansson     47    male   Sweden"
      ]
     },
     "execution_count": 456,
     "metadata": {},
     "output_type": "execute_result"
    }
   ],
   "source": [
    "passengers_data = [['John Smith', 32, 'male', 'USA'],\n",
    "    ['Sarah Johnson', 28, 'female', 'USA'],\n",
    "    ['Anna Schmidt', 42, 'female', 'Germany'],\n",
    "    ['Paul Kowalski', 50, 'male', 'Poland'],\n",
    "    ['Luigi Rossi', 24, 'male', 'Italy'],\n",
    "    ['Marie Dupont', 31, 'female', 'France'],\n",
    "    ['Javier Fernandez', 27, 'male', 'Spain'],\n",
    "    ['Elena Petrova', 35, 'female', 'Russia'],\n",
    "    ['Lars Johansson', 47, 'male', 'Sweden']]\n",
    "\n",
    "df = pd.DataFrame(passengers_data, columns=['Name', 'Age', 'Gender', 'Country'])\n",
    "df.set_index('Name', inplace=True)\n",
    "df"
   ]
  },
  {
   "cell_type": "code",
   "execution_count": 457,
   "metadata": {},
   "outputs": [
    {
     "data": {
      "text/html": [
       "<div>\n",
       "<style scoped>\n",
       "    .dataframe tbody tr th:only-of-type {\n",
       "        vertical-align: middle;\n",
       "    }\n",
       "\n",
       "    .dataframe tbody tr th {\n",
       "        vertical-align: top;\n",
       "    }\n",
       "\n",
       "    .dataframe thead th {\n",
       "        text-align: right;\n",
       "    }\n",
       "</style>\n",
       "<table border=\"1\" class=\"dataframe\">\n",
       "  <thead>\n",
       "    <tr style=\"text-align: right;\">\n",
       "      <th></th>\n",
       "      <th>Age</th>\n",
       "      <th>Gender</th>\n",
       "      <th>Country</th>\n",
       "    </tr>\n",
       "    <tr>\n",
       "      <th>Name</th>\n",
       "      <th></th>\n",
       "      <th></th>\n",
       "      <th></th>\n",
       "    </tr>\n",
       "  </thead>\n",
       "  <tbody>\n",
       "    <tr>\n",
       "      <th>John Smith</th>\n",
       "      <td>32</td>\n",
       "      <td>male</td>\n",
       "      <td>USA</td>\n",
       "    </tr>\n",
       "    <tr>\n",
       "      <th>Sarah Johnson</th>\n",
       "      <td>28</td>\n",
       "      <td>female</td>\n",
       "      <td>USA</td>\n",
       "    </tr>\n",
       "    <tr>\n",
       "      <th>Anna Schmidt</th>\n",
       "      <td>42</td>\n",
       "      <td>female</td>\n",
       "      <td>Germany</td>\n",
       "    </tr>\n",
       "    <tr>\n",
       "      <th>Paul Kowalski</th>\n",
       "      <td>50</td>\n",
       "      <td>male</td>\n",
       "      <td>Poland</td>\n",
       "    </tr>\n",
       "    <tr>\n",
       "      <th>Luigi Rossi</th>\n",
       "      <td>24</td>\n",
       "      <td>male</td>\n",
       "      <td>Italy</td>\n",
       "    </tr>\n",
       "    <tr>\n",
       "      <th>Marie Dupont</th>\n",
       "      <td>31</td>\n",
       "      <td>female</td>\n",
       "      <td>France</td>\n",
       "    </tr>\n",
       "    <tr>\n",
       "      <th>Javier Fernandez</th>\n",
       "      <td>27</td>\n",
       "      <td>male</td>\n",
       "      <td>Spain</td>\n",
       "    </tr>\n",
       "    <tr>\n",
       "      <th>Elena Petrova</th>\n",
       "      <td>35</td>\n",
       "      <td>female</td>\n",
       "      <td>Russia</td>\n",
       "    </tr>\n",
       "    <tr>\n",
       "      <th>Lars Johansson</th>\n",
       "      <td>47</td>\n",
       "      <td>male</td>\n",
       "      <td>Sweden</td>\n",
       "    </tr>\n",
       "  </tbody>\n",
       "</table>\n",
       "</div>"
      ],
      "text/plain": [
       "                  Age  Gender  Country\n",
       "Name                                  \n",
       "John Smith         32    male      USA\n",
       "Sarah Johnson      28  female      USA\n",
       "Anna Schmidt       42  female  Germany\n",
       "Paul Kowalski      50    male   Poland\n",
       "Luigi Rossi        24    male    Italy\n",
       "Marie Dupont       31  female   France\n",
       "Javier Fernandez   27    male    Spain\n",
       "Elena Petrova      35  female   Russia\n",
       "Lars Johansson     47    male   Sweden"
      ]
     },
     "execution_count": 457,
     "metadata": {},
     "output_type": "execute_result"
    }
   ],
   "source": [
    "passengers_data = [['John Smith', 32, 'male', 'USA'],\n",
    "    ['Sarah Johnson', 28, 'female', 'USA'],\n",
    "    ['Anna Schmidt', 42, 'female', 'Germany'],\n",
    "    ['Paul Kowalski', 50, 'male', 'Poland'],\n",
    "    ['Luigi Rossi', 24, 'male', 'Italy'],\n",
    "    ['Marie Dupont', 31, 'female', 'France'],\n",
    "    ['Javier Fernandez', 27, 'male', 'Spain'],\n",
    "    ['Elena Petrova', 35, 'female', 'Russia'],\n",
    "    ['Lars Johansson', 47, 'male', 'Sweden']]\n",
    "\n",
    "df = pd.DataFrame(passengers_data, columns=(None, 'Age', 'Gender', 'Country')).set_index(None)\n",
    "df.index.name = 'Name'\n",
    "df"
   ]
  },
  {
   "cell_type": "code",
   "execution_count": 458,
   "metadata": {},
   "outputs": [
    {
     "name": "stdout",
     "output_type": "stream",
     "text": [
      "      name  age  fruits\n",
      "0    Alice   25   apple\n",
      "1      Bob   30  banana\n",
      "2  Charlie   35  orange\n",
      "3    David   40     NaN\n"
     ]
    }
   ],
   "source": [
    "# Объект Series\n",
    "fr = pd.Series(['apple', 'banana', 'orange'], name='fruits')\n",
    "# Список словарей для создания DataFrame\n",
    "data = [{'name': 'Alice', 'age': 25},\n",
    "    {'name': 'Bob', 'age': 30},\n",
    "    {'name': 'Charlie', 'age': 35,},\n",
    "    {'name': 'David', 'age': 40,}]\n",
    "\n",
    "df = pd.DataFrame(data)\n",
    "df = pd.concat([df, fr.to_frame()], axis=1)\n",
    "print(df)"
   ]
  },
  {
   "cell_type": "code",
   "execution_count": 459,
   "metadata": {},
   "outputs": [
    {
     "data": {
      "text/html": [
       "<div>\n",
       "<style scoped>\n",
       "    .dataframe tbody tr th:only-of-type {\n",
       "        vertical-align: middle;\n",
       "    }\n",
       "\n",
       "    .dataframe tbody tr th {\n",
       "        vertical-align: top;\n",
       "    }\n",
       "\n",
       "    .dataframe thead th {\n",
       "        text-align: right;\n",
       "    }\n",
       "</style>\n",
       "<table border=\"1\" class=\"dataframe\">\n",
       "  <thead>\n",
       "    <tr style=\"text-align: right;\">\n",
       "      <th></th>\n",
       "      <th>product_name</th>\n",
       "      <th>amount</th>\n",
       "      <th>sales_amount</th>\n",
       "    </tr>\n",
       "  </thead>\n",
       "  <tbody>\n",
       "    <tr>\n",
       "      <th>2023-04-25</th>\n",
       "      <td>Product A</td>\n",
       "      <td>10</td>\n",
       "      <td>500</td>\n",
       "    </tr>\n",
       "    <tr>\n",
       "      <th>2023-04-26</th>\n",
       "      <td>Product B</td>\n",
       "      <td>5</td>\n",
       "      <td>200</td>\n",
       "    </tr>\n",
       "    <tr>\n",
       "      <th>2023-04-27</th>\n",
       "      <td>Product C</td>\n",
       "      <td>15</td>\n",
       "      <td>1000</td>\n",
       "    </tr>\n",
       "  </tbody>\n",
       "</table>\n",
       "</div>"
      ],
      "text/plain": [
       "           product_name  amount  sales_amount\n",
       "2023-04-25    Product A      10           500\n",
       "2023-04-26    Product B       5           200\n",
       "2023-04-27    Product C      15          1000"
      ]
     },
     "execution_count": 459,
     "metadata": {},
     "output_type": "execute_result"
    }
   ],
   "source": [
    "sales_data = [('2023-04-25', 'Product A', 10, 500),    ('2023-04-26', 'Product B', 5, 200),    ('2023-04-27', 'Product C', 15, 1000)]\n",
    "\n",
    "df = pd.DataFrame(sales_data, columns=[None, 'product_name', 'amount', 'sales_amount']).set_index(None)\n",
    "df"
   ]
  },
  {
   "cell_type": "code",
   "execution_count": 460,
   "metadata": {},
   "outputs": [
    {
     "data": {
      "text/html": [
       "<div>\n",
       "<style scoped>\n",
       "    .dataframe tbody tr th:only-of-type {\n",
       "        vertical-align: middle;\n",
       "    }\n",
       "\n",
       "    .dataframe tbody tr th {\n",
       "        vertical-align: top;\n",
       "    }\n",
       "\n",
       "    .dataframe thead th {\n",
       "        text-align: right;\n",
       "    }\n",
       "</style>\n",
       "<table border=\"1\" class=\"dataframe\">\n",
       "  <thead>\n",
       "    <tr style=\"text-align: right;\">\n",
       "      <th></th>\n",
       "      <th>Age</th>\n",
       "      <th>Gender</th>\n",
       "      <th>Nationality</th>\n",
       "      <th>Residence</th>\n",
       "      <th>Passport Number</th>\n",
       "    </tr>\n",
       "  </thead>\n",
       "  <tbody>\n",
       "    <tr>\n",
       "      <th>John Smith</th>\n",
       "      <td>35</td>\n",
       "      <td>Male</td>\n",
       "      <td>American</td>\n",
       "      <td>USA</td>\n",
       "      <td>A1234567</td>\n",
       "    </tr>\n",
       "    <tr>\n",
       "      <th>Sarah Johnson</th>\n",
       "      <td>27</td>\n",
       "      <td>Female</td>\n",
       "      <td>British</td>\n",
       "      <td>UK</td>\n",
       "      <td>B2345678</td>\n",
       "    </tr>\n",
       "    <tr>\n",
       "      <th>Luigi Rossi</th>\n",
       "      <td>42</td>\n",
       "      <td>Male</td>\n",
       "      <td>Italian</td>\n",
       "      <td>Italy</td>\n",
       "      <td>C3456789</td>\n",
       "    </tr>\n",
       "    <tr>\n",
       "      <th>Anna Petrova</th>\n",
       "      <td>30</td>\n",
       "      <td>Female</td>\n",
       "      <td>Russian</td>\n",
       "      <td>Russia</td>\n",
       "      <td>D4567890</td>\n",
       "    </tr>\n",
       "    <tr>\n",
       "      <th>Lars Johansson</th>\n",
       "      <td>55</td>\n",
       "      <td>Male</td>\n",
       "      <td>Swedish</td>\n",
       "      <td>Sweden</td>\n",
       "      <td>E5678901</td>\n",
       "    </tr>\n",
       "  </tbody>\n",
       "</table>\n",
       "</div>"
      ],
      "text/plain": [
       "                Age  Gender Nationality Residence Passport Number\n",
       "John Smith       35    Male    American       USA        A1234567\n",
       "Sarah Johnson    27  Female     British        UK        B2345678\n",
       "Luigi Rossi      42    Male     Italian     Italy        C3456789\n",
       "Anna Petrova     30  Female     Russian    Russia        D4567890\n",
       "Lars Johansson   55    Male     Swedish    Sweden        E5678901"
      ]
     },
     "execution_count": 460,
     "metadata": {},
     "output_type": "execute_result"
    }
   ],
   "source": [
    "passengers_data = [{'Name': 'John', 'Surname': 'Smith', 'Age': 35, 'Gender': 'Male', 'Nationality': 'American', 'Residence': 'USA', 'Passport Number': 'A1234567', 'Travel Purpose': 'Tourism'},    {'Name': 'Sarah', 'Surname': 'Johnson', 'Age': 27, 'Gender': 'Female', 'Nationality': 'British', 'Residence': 'UK', 'Passport Number': 'B2345678', 'Travel Purpose': 'Business'},    {'Name': 'Luigi', 'Surname': 'Rossi', 'Age': 42, 'Gender': 'Male', 'Nationality': 'Italian', 'Residence': 'Italy', 'Passport Number': 'C3456789', 'Travel Purpose': 'Tourism'},    {'Name': 'Anna', 'Surname': 'Petrova', 'Age': 30, 'Gender': 'Female', 'Nationality': 'Russian', 'Residence': 'Russia', 'Passport Number': 'D4567890', 'Travel Purpose': 'Work'},    {'Name': 'Lars', 'Surname': 'Johansson', 'Age': 55, 'Gender': 'Male', 'Nationality': 'Swedish', 'Residence': 'Sweden', 'Passport Number': 'E5678901', 'Travel Purpose': 'Tourism'}]\n",
    "detained_passengers = ['Sarah Johnson', 'Luigi Rossi']\n",
    "df = pd.DataFrame(passengers_data)\n",
    "df.index = df['Name'] + ' ' + df['Surname']\n",
    "df.drop(['Name', 'Surname', 'Travel Purpose'], axis=1, inplace=True)\n",
    "df\n"
   ]
  },
  {
   "cell_type": "code",
   "execution_count": 461,
   "metadata": {},
   "outputs": [
    {
     "data": {
      "text/html": [
       "<div>\n",
       "<style scoped>\n",
       "    .dataframe tbody tr th:only-of-type {\n",
       "        vertical-align: middle;\n",
       "    }\n",
       "\n",
       "    .dataframe tbody tr th {\n",
       "        vertical-align: top;\n",
       "    }\n",
       "\n",
       "    .dataframe thead th {\n",
       "        text-align: right;\n",
       "    }\n",
       "</style>\n",
       "<table border=\"1\" class=\"dataframe\">\n",
       "  <thead>\n",
       "    <tr style=\"text-align: right;\">\n",
       "      <th></th>\n",
       "      <th>Age</th>\n",
       "      <th>Gender</th>\n",
       "      <th>Nationality</th>\n",
       "      <th>Residence</th>\n",
       "      <th>Passport Number</th>\n",
       "    </tr>\n",
       "  </thead>\n",
       "  <tbody>\n",
       "    <tr>\n",
       "      <th>Sarah Johnson</th>\n",
       "      <td>27</td>\n",
       "      <td>Female</td>\n",
       "      <td>British</td>\n",
       "      <td>UK</td>\n",
       "      <td>B2345678</td>\n",
       "    </tr>\n",
       "    <tr>\n",
       "      <th>Luigi Rossi</th>\n",
       "      <td>42</td>\n",
       "      <td>Male</td>\n",
       "      <td>Italian</td>\n",
       "      <td>Italy</td>\n",
       "      <td>C3456789</td>\n",
       "    </tr>\n",
       "  </tbody>\n",
       "</table>\n",
       "</div>"
      ],
      "text/plain": [
       "               Age  Gender Nationality Residence Passport Number\n",
       "Sarah Johnson   27  Female     British        UK        B2345678\n",
       "Luigi Rossi     42    Male     Italian     Italy        C3456789"
      ]
     },
     "execution_count": 461,
     "metadata": {},
     "output_type": "execute_result"
    }
   ],
   "source": [
    "df.loc[detained_passengers]"
   ]
  },
  {
   "cell_type": "markdown",
   "metadata": {},
   "source": [
    "# 3.4.1 Индексные объекты Pandas"
   ]
  },
  {
   "cell_type": "code",
   "execution_count": 462,
   "metadata": {},
   "outputs": [
    {
     "name": "stdout",
     "output_type": "stream",
     "text": [
      "RangeIndex(start=0, stop=3, step=1)\n"
     ]
    }
   ],
   "source": [
    "# создаем DataFrame с RangeIndex\n",
    "df = pd.DataFrame({'A': [1, 2, 3], 'B': [4, 5, 6]}, index=range(3))\n",
    "\n",
    "print(df.index)"
   ]
  },
  {
   "cell_type": "code",
   "execution_count": 463,
   "metadata": {},
   "outputs": [
    {
     "name": "stdout",
     "output_type": "stream",
     "text": [
      "shape: (4,)\n",
      "size: 4\n",
      "values: ['a' 'b' 'c' 'd']\n"
     ]
    }
   ],
   "source": [
    "# Создание индекса\n",
    "idx = pd.Index(['a', 'b', 'c', 'd'])\n",
    "\n",
    "# Использование атрибутов shape, size и values\n",
    "print(\"shape:\", idx.shape)\n",
    "print(\"size:\", idx.size)\n",
    "print(\"values:\", idx.values)"
   ]
  },
  {
   "cell_type": "code",
   "execution_count": 464,
   "metadata": {},
   "outputs": [
    {
     "name": "stdout",
     "output_type": "stream",
     "text": [
      "is_unique: False\n",
      "is_monotonic_increasing: True\n",
      "is_monotonic_decreasing: False\n"
     ]
    }
   ],
   "source": [
    "# Создание индекса\n",
    "idx1 = pd.Index(['a', 'b', 'c', 'd', 'a'])\n",
    "idx2 = pd.Index(['a', 'b', 'c', 'd'])\n",
    "\n",
    "# Проверка флагов\n",
    "print(\"is_unique:\", idx1.is_unique)\n",
    "print(\"is_monotonic_increasing:\", idx2.is_monotonic_increasing)\n",
    "print(\"is_monotonic_decreasing:\", idx2.is_monotonic_decreasing)"
   ]
  },
  {
   "cell_type": "code",
   "execution_count": 465,
   "metadata": {},
   "outputs": [
    {
     "name": "stdout",
     "output_type": "stream",
     "text": [
      "[False  True False  True False]\n"
     ]
    }
   ],
   "source": [
    "idx = pd.Index([1, 2, 3, 4, 5])\n",
    "print(idx.isin([2, 4, 6]))"
   ]
  },
  {
   "cell_type": "code",
   "execution_count": 466,
   "metadata": {},
   "outputs": [
    {
     "data": {
      "text/html": [
       "<div>\n",
       "<style scoped>\n",
       "    .dataframe tbody tr th:only-of-type {\n",
       "        vertical-align: middle;\n",
       "    }\n",
       "\n",
       "    .dataframe tbody tr th {\n",
       "        vertical-align: top;\n",
       "    }\n",
       "\n",
       "    .dataframe thead th {\n",
       "        text-align: right;\n",
       "    }\n",
       "</style>\n",
       "<table border=\"1\" class=\"dataframe\">\n",
       "  <thead>\n",
       "    <tr style=\"text-align: right;\">\n",
       "      <th></th>\n",
       "      <th>order_date</th>\n",
       "      <th>total_amount</th>\n",
       "      <th>num_items</th>\n",
       "    </tr>\n",
       "    <tr>\n",
       "      <th>ID</th>\n",
       "      <th></th>\n",
       "      <th></th>\n",
       "      <th></th>\n",
       "    </tr>\n",
       "  </thead>\n",
       "  <tbody>\n",
       "    <tr>\n",
       "      <th>100</th>\n",
       "      <td>2021-05-01</td>\n",
       "      <td>120.00</td>\n",
       "      <td>3</td>\n",
       "    </tr>\n",
       "    <tr>\n",
       "      <th>101</th>\n",
       "      <td>2021-05-02</td>\n",
       "      <td>90.50</td>\n",
       "      <td>2</td>\n",
       "    </tr>\n",
       "    <tr>\n",
       "      <th>102</th>\n",
       "      <td>2021-05-03</td>\n",
       "      <td>45.00</td>\n",
       "      <td>1</td>\n",
       "    </tr>\n",
       "    <tr>\n",
       "      <th>103</th>\n",
       "      <td>2021-05-04</td>\n",
       "      <td>150.25</td>\n",
       "      <td>4</td>\n",
       "    </tr>\n",
       "    <tr>\n",
       "      <th>104</th>\n",
       "      <td>2021-05-05</td>\n",
       "      <td>70.00</td>\n",
       "      <td>2</td>\n",
       "    </tr>\n",
       "  </tbody>\n",
       "</table>\n",
       "</div>"
      ],
      "text/plain": [
       "     order_date  total_amount  num_items\n",
       "ID                                      \n",
       "100  2021-05-01        120.00          3\n",
       "101  2021-05-02         90.50          2\n",
       "102  2021-05-03         45.00          1\n",
       "103  2021-05-04        150.25          4\n",
       "104  2021-05-05         70.00          2"
      ]
     },
     "execution_count": 466,
     "metadata": {},
     "output_type": "execute_result"
    }
   ],
   "source": [
    "data = {'order_date': ['2021-05-01', '2021-05-02', '2021-05-03', '2021-05-04', '2021-05-05'],\n",
    "        'total_amount': [120.00, 90.50, 45.00, 150.25, 70.00],\n",
    "        'num_items': [3, 2, 1, 4, 2]}\n",
    "df = pd.DataFrame(data)\n",
    "df.index = pd.Series([100, 101, 102, 103, 104], name='ID')\n",
    "df"
   ]
  },
  {
   "cell_type": "code",
   "execution_count": 467,
   "metadata": {},
   "outputs": [
    {
     "data": {
      "text/html": [
       "<div>\n",
       "<style scoped>\n",
       "    .dataframe tbody tr th:only-of-type {\n",
       "        vertical-align: middle;\n",
       "    }\n",
       "\n",
       "    .dataframe tbody tr th {\n",
       "        vertical-align: top;\n",
       "    }\n",
       "\n",
       "    .dataframe thead th {\n",
       "        text-align: right;\n",
       "    }\n",
       "</style>\n",
       "<table border=\"1\" class=\"dataframe\">\n",
       "  <thead>\n",
       "    <tr style=\"text-align: right;\">\n",
       "      <th></th>\n",
       "      <th>temperature</th>\n",
       "      <th>humidity</th>\n",
       "    </tr>\n",
       "    <tr>\n",
       "      <th>№ п/п</th>\n",
       "      <th></th>\n",
       "      <th></th>\n",
       "    </tr>\n",
       "  </thead>\n",
       "  <tbody>\n",
       "    <tr>\n",
       "      <th>0</th>\n",
       "      <td>22</td>\n",
       "      <td>50</td>\n",
       "    </tr>\n",
       "    <tr>\n",
       "      <th>1</th>\n",
       "      <td>23</td>\n",
       "      <td>55</td>\n",
       "    </tr>\n",
       "    <tr>\n",
       "      <th>2</th>\n",
       "      <td>24</td>\n",
       "      <td>60</td>\n",
       "    </tr>\n",
       "    <tr>\n",
       "      <th>3</th>\n",
       "      <td>21</td>\n",
       "      <td>65</td>\n",
       "    </tr>\n",
       "    <tr>\n",
       "      <th>4</th>\n",
       "      <td>20</td>\n",
       "      <td>70</td>\n",
       "    </tr>\n",
       "    <tr>\n",
       "      <th>5</th>\n",
       "      <td>20</td>\n",
       "      <td>72</td>\n",
       "    </tr>\n",
       "    <tr>\n",
       "      <th>6</th>\n",
       "      <td>19</td>\n",
       "      <td>75</td>\n",
       "    </tr>\n",
       "  </tbody>\n",
       "</table>\n",
       "</div>"
      ],
      "text/plain": [
       "       temperature  humidity\n",
       "№ п/п                       \n",
       "0               22        50\n",
       "1               23        55\n",
       "2               24        60\n",
       "3               21        65\n",
       "4               20        70\n",
       "5               20        72\n",
       "6               19        75"
      ]
     },
     "execution_count": 467,
     "metadata": {},
     "output_type": "execute_result"
    }
   ],
   "source": [
    "df = pd.read_csv('data/indexes.csv', index_col=0)\n",
    "df"
   ]
  },
  {
   "cell_type": "code",
   "execution_count": 468,
   "metadata": {},
   "outputs": [
    {
     "name": "stdout",
     "output_type": "stream",
     "text": [
      "Имя индекса: № п/п\n",
      "Тип данных индекса: int64\n",
      "Количество элементов: 7\n",
      "Форма объекта Index: (7,)\n",
      "Значения индексов: [0 1 2 3 4 5 6]\n"
     ]
    }
   ],
   "source": [
    "print(f'Имя индекса: {df.index.name}')\n",
    "print(f'Тип данных индекса: {df.index.dtype}')\n",
    "print(f'Количество элементов: {df.index.size}')\n",
    "print(f'Форма объекта Index: {df.index.shape}')\n",
    "print(f'Значения индексов: {df.index.values}')"
   ]
  },
  {
   "cell_type": "code",
   "execution_count": 469,
   "metadata": {},
   "outputs": [
    {
     "name": "stdout",
     "output_type": "stream",
     "text": [
      "      name  age\n",
      "2  Charlie   18\n"
     ]
    }
   ],
   "source": [
    "def return_filtered_df(df, lst):\n",
    "    return(df[df.index.isin(lst)])\n",
    "\n",
    "data = {'name': ['Alice', 'Bob', 'Charlie', 'David', 'Emily'], 'age': [25, 32, 18, 47, 22]}\n",
    "df = pd.DataFrame(data)\n",
    "lst = [2, 5, 8]\n",
    "print(return_filtered_df(df, lst))"
   ]
  },
  {
   "cell_type": "code",
   "execution_count": 470,
   "metadata": {},
   "outputs": [
    {
     "data": {
      "text/html": [
       "<div>\n",
       "<style scoped>\n",
       "    .dataframe tbody tr th:only-of-type {\n",
       "        vertical-align: middle;\n",
       "    }\n",
       "\n",
       "    .dataframe tbody tr th {\n",
       "        vertical-align: top;\n",
       "    }\n",
       "\n",
       "    .dataframe thead th {\n",
       "        text-align: right;\n",
       "    }\n",
       "</style>\n",
       "<table border=\"1\" class=\"dataframe\">\n",
       "  <thead>\n",
       "    <tr style=\"text-align: right;\">\n",
       "      <th></th>\n",
       "      <th>name</th>\n",
       "      <th>age</th>\n",
       "    </tr>\n",
       "  </thead>\n",
       "  <tbody>\n",
       "    <tr>\n",
       "      <th>2</th>\n",
       "      <td>Charlie</td>\n",
       "      <td>18</td>\n",
       "    </tr>\n",
       "  </tbody>\n",
       "</table>\n",
       "</div>"
      ],
      "text/plain": [
       "      name  age\n",
       "2  Charlie   18"
      ]
     },
     "execution_count": 470,
     "metadata": {},
     "output_type": "execute_result"
    }
   ],
   "source": [
    "df[pd.Series(df.index.values).isin(lst)]"
   ]
  },
  {
   "cell_type": "markdown",
   "metadata": {},
   "source": [
    "# 3.4.2 Метод reindex()"
   ]
  },
  {
   "cell_type": "code",
   "execution_count": 471,
   "metadata": {},
   "outputs": [
    {
     "name": "stdout",
     "output_type": "stream",
     "text": [
      "   A  B\n",
      "a  1  4\n",
      "b  2  5\n",
      "c  3  6\n",
      "     A    B\n",
      "b  2.0  5.0\n",
      "a  1.0  4.0\n",
      "d  NaN  NaN\n",
      "   B  A   C\n",
      "a  4  1 NaN\n",
      "b  5  2 NaN\n",
      "c  6  3 NaN\n"
     ]
    }
   ],
   "source": [
    "# Создаем DataFrame\n",
    "df = pd.DataFrame({\n",
    "    'A': [1, 2, 3],\n",
    "    'B': [4, 5, 6]\n",
    "}, index=['a', 'b', 'c'])\n",
    "print(df)\n",
    "\n",
    "# Переиндексация строк\n",
    "new_index = ['b', 'a', 'd']\n",
    "df_reindexed = df.reindex(new_index)\n",
    "print(df_reindexed)\n",
    "# Переиндексация столбцов\n",
    "new_columns = ['B', 'A', 'C']\n",
    "df_reindexed_columns = df.reindex(columns=new_columns)\n",
    "print(df_reindexed_columns)\n"
   ]
  },
  {
   "cell_type": "code",
   "execution_count": 472,
   "metadata": {},
   "outputs": [
    {
     "name": "stdout",
     "output_type": "stream",
     "text": [
      "   A  B\n",
      "a  1  4\n",
      "b  2  5\n",
      "c  3  6\n",
      "     A    B\n",
      "a  1.0  4.0\n",
      "b  2.0  5.0\n",
      "d  NaN  NaN\n",
      "   A  B   C\n",
      "a  1  4 NaN\n",
      "b  2  5 NaN\n",
      "c  3  6 NaN\n"
     ]
    }
   ],
   "source": [
    "print(df)\n",
    "# Переиндексация строк\n",
    "new_labels = ['a', 'b', 'd']\n",
    "df_reindexed = df.reindex(labels=new_labels)\n",
    "print(df_reindexed)\n",
    "# Переиндексация столбцов\n",
    "new_labels = ['A', 'B', 'C']\n",
    "df_reindexed_columns = df.reindex(labels=new_labels, axis=1)\n",
    "print(df_reindexed_columns)"
   ]
  },
  {
   "cell_type": "code",
   "execution_count": 473,
   "metadata": {},
   "outputs": [
    {
     "name": "stdout",
     "output_type": "stream",
     "text": [
      "     A     B\n",
      "0  1.0     a\n",
      "1  2.0  None\n",
      "2  NaN     c\n",
      "3  4.0     d\n",
      "     A     B\n",
      "0  1.0     a\n",
      "1  2.0  None\n",
      "2  NaN     c\n",
      "4  4.0     d\n",
      "5  4.0     d\n"
     ]
    }
   ],
   "source": [
    "data = {'A': [1, 2, None, 4], 'B': ['a', None, 'c', 'd']}\n",
    "df = pd.DataFrame(data)\n",
    "print(df)\n",
    "\n",
    "# Переиндексация с заполнением отсутствующих значений методом 'pad' или 'ffill'\n",
    "new_index = [0, 1, 2, 4, 5]\n",
    "new_df = df.reindex(new_index, method='ffill')\n",
    "print(new_df)"
   ]
  },
  {
   "cell_type": "code",
   "execution_count": 474,
   "metadata": {},
   "outputs": [
    {
     "name": "stdout",
     "output_type": "stream",
     "text": [
      "     A     B\n",
      "0  1.0     a\n",
      "1  2.0  None\n",
      "2  NaN     c\n",
      "8  NaN   NaN\n"
     ]
    }
   ],
   "source": [
    "# Переиндексация с заполнением отсутствующих значений методом 'bfill'\n",
    "new_index = [0, 1, 2, 8]\n",
    "new_df = df.reindex(new_index, method='bfill')\n",
    "print(new_df)"
   ]
  },
  {
   "cell_type": "code",
   "execution_count": 475,
   "metadata": {},
   "outputs": [
    {
     "name": "stdout",
     "output_type": "stream",
     "text": [
      "     A     B\n",
      "0  1.0     a\n",
      "1  2.0  None\n",
      "3  4.0     d\n",
      "4  4.0     d\n"
     ]
    }
   ],
   "source": [
    "# Переиндексация с заполнением отсутствующих значений методом 'nearest'\n",
    "new_index = [0, 1, 3, 4]\n",
    "new_df = df.reindex(new_index, method='nearest')\n",
    "print(new_df)"
   ]
  },
  {
   "cell_type": "code",
   "execution_count": 476,
   "metadata": {},
   "outputs": [
    {
     "name": "stdout",
     "output_type": "stream",
     "text": [
      "     A     B\n",
      "0  1.0     a\n",
      "1  2.0  None\n",
      "9  0.0     0\n",
      "4  0.0     0\n"
     ]
    }
   ],
   "source": [
    "new_index = [0, 1, 9, 4]\n",
    "# Переиндексация строк с заполнением отсутствующих значений конкретным значением\n",
    "df_reindexed_fill_value = df.reindex(new_index, fill_value=0)\n",
    "print(df_reindexed_fill_value)"
   ]
  },
  {
   "cell_type": "code",
   "execution_count": 477,
   "metadata": {},
   "outputs": [
    {
     "data": {
      "text/html": [
       "<div>\n",
       "<style scoped>\n",
       "    .dataframe tbody tr th:only-of-type {\n",
       "        vertical-align: middle;\n",
       "    }\n",
       "\n",
       "    .dataframe tbody tr th {\n",
       "        vertical-align: top;\n",
       "    }\n",
       "\n",
       "    .dataframe thead th {\n",
       "        text-align: right;\n",
       "    }\n",
       "</style>\n",
       "<table border=\"1\" class=\"dataframe\">\n",
       "  <thead>\n",
       "    <tr style=\"text-align: right;\">\n",
       "      <th></th>\n",
       "      <th>A</th>\n",
       "      <th>B</th>\n",
       "    </tr>\n",
       "  </thead>\n",
       "  <tbody>\n",
       "    <tr>\n",
       "      <th>0</th>\n",
       "      <td>1.0</td>\n",
       "      <td>4.0</td>\n",
       "    </tr>\n",
       "    <tr>\n",
       "      <th>1</th>\n",
       "      <td>2.0</td>\n",
       "      <td>NaN</td>\n",
       "    </tr>\n",
       "    <tr>\n",
       "      <th>2</th>\n",
       "      <td>3.0</td>\n",
       "      <td>6.0</td>\n",
       "    </tr>\n",
       "    <tr>\n",
       "      <th>3</th>\n",
       "      <td>NaN</td>\n",
       "      <td>NaN</td>\n",
       "    </tr>\n",
       "    <tr>\n",
       "      <th>4</th>\n",
       "      <td>NaN</td>\n",
       "      <td>10.0</td>\n",
       "    </tr>\n",
       "    <tr>\n",
       "      <th>5</th>\n",
       "      <td>6.0</td>\n",
       "      <td>NaN</td>\n",
       "    </tr>\n",
       "    <tr>\n",
       "      <th>6</th>\n",
       "      <td>NaN</td>\n",
       "      <td>12.0</td>\n",
       "    </tr>\n",
       "    <tr>\n",
       "      <th>7</th>\n",
       "      <td>8.0</td>\n",
       "      <td>NaN</td>\n",
       "    </tr>\n",
       "  </tbody>\n",
       "</table>\n",
       "</div>"
      ],
      "text/plain": [
       "     A     B\n",
       "0  1.0   4.0\n",
       "1  2.0   NaN\n",
       "2  3.0   6.0\n",
       "3  NaN   NaN\n",
       "4  NaN  10.0\n",
       "5  6.0   NaN\n",
       "6  NaN  12.0\n",
       "7  8.0   NaN"
      ]
     },
     "execution_count": 477,
     "metadata": {},
     "output_type": "execute_result"
    }
   ],
   "source": [
    "df = pd.DataFrame({'A': [1, 2, 3, np.nan, np.nan, 6, np.nan, 8], \n",
    "                   'B': [4, np.nan, 6, np.nan, 10, np.nan, 12, np.nan]})\n",
    "df"
   ]
  },
  {
   "cell_type": "code",
   "execution_count": 478,
   "metadata": {},
   "outputs": [
    {
     "data": {
      "text/html": [
       "<div>\n",
       "<style scoped>\n",
       "    .dataframe tbody tr th:only-of-type {\n",
       "        vertical-align: middle;\n",
       "    }\n",
       "\n",
       "    .dataframe tbody tr th {\n",
       "        vertical-align: top;\n",
       "    }\n",
       "\n",
       "    .dataframe thead th {\n",
       "        text-align: right;\n",
       "    }\n",
       "</style>\n",
       "<table border=\"1\" class=\"dataframe\">\n",
       "  <thead>\n",
       "    <tr style=\"text-align: right;\">\n",
       "      <th></th>\n",
       "      <th>A</th>\n",
       "      <th>B</th>\n",
       "    </tr>\n",
       "  </thead>\n",
       "  <tbody>\n",
       "    <tr>\n",
       "      <th>0</th>\n",
       "      <td>1.0</td>\n",
       "      <td>4.0</td>\n",
       "    </tr>\n",
       "    <tr>\n",
       "      <th>1</th>\n",
       "      <td>2.0</td>\n",
       "      <td>NaN</td>\n",
       "    </tr>\n",
       "    <tr>\n",
       "      <th>2</th>\n",
       "      <td>3.0</td>\n",
       "      <td>6.0</td>\n",
       "    </tr>\n",
       "    <tr>\n",
       "      <th>3</th>\n",
       "      <td>NaN</td>\n",
       "      <td>NaN</td>\n",
       "    </tr>\n",
       "    <tr>\n",
       "      <th>4</th>\n",
       "      <td>NaN</td>\n",
       "      <td>10.0</td>\n",
       "    </tr>\n",
       "    <tr>\n",
       "      <th>5</th>\n",
       "      <td>6.0</td>\n",
       "      <td>NaN</td>\n",
       "    </tr>\n",
       "    <tr>\n",
       "      <th>6</th>\n",
       "      <td>NaN</td>\n",
       "      <td>12.0</td>\n",
       "    </tr>\n",
       "    <tr>\n",
       "      <th>7</th>\n",
       "      <td>8.0</td>\n",
       "      <td>NaN</td>\n",
       "    </tr>\n",
       "    <tr>\n",
       "      <th>8</th>\n",
       "      <td>8.0</td>\n",
       "      <td>NaN</td>\n",
       "    </tr>\n",
       "    <tr>\n",
       "      <th>9</th>\n",
       "      <td>8.0</td>\n",
       "      <td>NaN</td>\n",
       "    </tr>\n",
       "    <tr>\n",
       "      <th>10</th>\n",
       "      <td>NaN</td>\n",
       "      <td>NaN</td>\n",
       "    </tr>\n",
       "  </tbody>\n",
       "</table>\n",
       "</div>"
      ],
      "text/plain": [
       "      A     B\n",
       "0   1.0   4.0\n",
       "1   2.0   NaN\n",
       "2   3.0   6.0\n",
       "3   NaN   NaN\n",
       "4   NaN  10.0\n",
       "5   6.0   NaN\n",
       "6   NaN  12.0\n",
       "7   8.0   NaN\n",
       "8   8.0   NaN\n",
       "9   8.0   NaN\n",
       "10  NaN   NaN"
      ]
     },
     "execution_count": 478,
     "metadata": {},
     "output_type": "execute_result"
    }
   ],
   "source": [
    "# Заполнение только двух последовательных пропущенных значения\n",
    "df_reindexed = df.reindex(range(11), method='ffill', limit=2)\n",
    "df_reindexed"
   ]
  },
  {
   "cell_type": "code",
   "execution_count": 479,
   "metadata": {},
   "outputs": [
    {
     "data": {
      "text/html": [
       "<div>\n",
       "<style scoped>\n",
       "    .dataframe tbody tr th:only-of-type {\n",
       "        vertical-align: middle;\n",
       "    }\n",
       "\n",
       "    .dataframe tbody tr th {\n",
       "        vertical-align: top;\n",
       "    }\n",
       "\n",
       "    .dataframe thead th {\n",
       "        text-align: right;\n",
       "    }\n",
       "</style>\n",
       "<table border=\"1\" class=\"dataframe\">\n",
       "  <thead>\n",
       "    <tr style=\"text-align: right;\">\n",
       "      <th></th>\n",
       "      <th>A</th>\n",
       "      <th>B</th>\n",
       "    </tr>\n",
       "  </thead>\n",
       "  <tbody>\n",
       "    <tr>\n",
       "      <th>1.0</th>\n",
       "      <td>1</td>\n",
       "      <td>4</td>\n",
       "    </tr>\n",
       "    <tr>\n",
       "      <th>2.4</th>\n",
       "      <td>2</td>\n",
       "      <td>5</td>\n",
       "    </tr>\n",
       "    <tr>\n",
       "      <th>3.1</th>\n",
       "      <td>3</td>\n",
       "      <td>6</td>\n",
       "    </tr>\n",
       "  </tbody>\n",
       "</table>\n",
       "</div>"
      ],
      "text/plain": [
       "     A  B\n",
       "1.0  1  4\n",
       "2.4  2  5\n",
       "3.1  3  6"
      ]
     },
     "execution_count": 479,
     "metadata": {},
     "output_type": "execute_result"
    }
   ],
   "source": [
    "# Создание исходного объекта данных\n",
    "data = {'A': [1, 2, 3], 'B': [4, 5, 6]}\n",
    "df = pd.DataFrame(data, index=[1.0, 2.4, 3.1])\n",
    "df"
   ]
  },
  {
   "cell_type": "code",
   "execution_count": 480,
   "metadata": {},
   "outputs": [
    {
     "name": "stdout",
     "output_type": "stream",
     "text": [
      "       A    B\n",
      "1.0  1.0  4.0\n",
      "2.0  NaN  NaN\n",
      "3.0  3.0  6.0\n"
     ]
    }
   ],
   "source": [
    "# Переиндексация с различными значениями tolerance (работает для индексов типа float, задает отклонения значения индекса, который определяет совпадения присваемого индкса с текущим индексом)\n",
    "new_index = [1.0, 2.0, 3.0]\n",
    "df_reindexed = df.reindex(new_index, tolerance=0.3, method='nearest')\n",
    "print(df_reindexed)"
   ]
  },
  {
   "cell_type": "code",
   "execution_count": 481,
   "metadata": {},
   "outputs": [
    {
     "data": {
      "text/html": [
       "<div>\n",
       "<style scoped>\n",
       "    .dataframe tbody tr th:only-of-type {\n",
       "        vertical-align: middle;\n",
       "    }\n",
       "\n",
       "    .dataframe tbody tr th {\n",
       "        vertical-align: top;\n",
       "    }\n",
       "\n",
       "    .dataframe thead th {\n",
       "        text-align: right;\n",
       "    }\n",
       "</style>\n",
       "<table border=\"1\" class=\"dataframe\">\n",
       "  <thead>\n",
       "    <tr style=\"text-align: right;\">\n",
       "      <th></th>\n",
       "      <th>customer_name</th>\n",
       "      <th>order_id</th>\n",
       "      <th>order_date</th>\n",
       "      <th>product</th>\n",
       "      <th>price</th>\n",
       "    </tr>\n",
       "  </thead>\n",
       "  <tbody>\n",
       "    <tr>\n",
       "      <th>1</th>\n",
       "      <td>John Doe</td>\n",
       "      <td>1</td>\n",
       "      <td>2021-01-01</td>\n",
       "      <td>Apple iPhone 12 Pro Max</td>\n",
       "      <td>1100</td>\n",
       "    </tr>\n",
       "    <tr>\n",
       "      <th>2</th>\n",
       "      <td>Jane Doe</td>\n",
       "      <td>2</td>\n",
       "      <td>2021-01-02</td>\n",
       "      <td>Samsung Galaxy S21+</td>\n",
       "      <td>800</td>\n",
       "    </tr>\n",
       "    <tr>\n",
       "      <th>3</th>\n",
       "      <td>Alex Smith</td>\n",
       "      <td>3</td>\n",
       "      <td>2021-01-03</td>\n",
       "      <td>Sony Playstation 5 Console</td>\n",
       "      <td>500</td>\n",
       "    </tr>\n",
       "    <tr>\n",
       "      <th>4</th>\n",
       "      <td>Sarah Jones</td>\n",
       "      <td>4</td>\n",
       "      <td>2021-01-04</td>\n",
       "      <td>Microsoft Xbox One</td>\n",
       "      <td>350</td>\n",
       "    </tr>\n",
       "    <tr>\n",
       "      <th>5</th>\n",
       "      <td>Bob Hope</td>\n",
       "      <td>5</td>\n",
       "      <td>2021-01-05</td>\n",
       "      <td>Apple Watch</td>\n",
       "      <td>400</td>\n",
       "    </tr>\n",
       "  </tbody>\n",
       "</table>\n",
       "</div>"
      ],
      "text/plain": [
       "  customer_name  order_id  order_date                     product  price\n",
       "1      John Doe         1  2021-01-01     Apple iPhone 12 Pro Max   1100\n",
       "2      Jane Doe         2  2021-01-02         Samsung Galaxy S21+    800\n",
       "3    Alex Smith         3  2021-01-03  Sony Playstation 5 Console    500\n",
       "4   Sarah Jones         4  2021-01-04          Microsoft Xbox One    350\n",
       "5      Bob Hope         5  2021-01-05                 Apple Watch    400"
      ]
     },
     "execution_count": 481,
     "metadata": {},
     "output_type": "execute_result"
    }
   ],
   "source": [
    "orders.index = (range(1, len(orders)+1))\n",
    "orders"
   ]
  },
  {
   "cell_type": "code",
   "execution_count": 482,
   "metadata": {},
   "outputs": [
    {
     "data": {
      "text/plain": [
       "DatetimeIndex(['2024-01-01', '2024-01-03', '2024-01-05', '2024-01-07',\n",
       "               '2024-01-09', '2024-01-11', '2024-01-13', '2024-01-15',\n",
       "               '2024-01-17', '2024-01-19'],\n",
       "              dtype='datetime64[ns]', freq='2D')"
      ]
     },
     "execution_count": 482,
     "metadata": {},
     "output_type": "execute_result"
    }
   ],
   "source": [
    "# Создаем диапазон дат с частотой ежедневных дат в течение 5 дней\n",
    "date_range = pd.date_range(start='2024-01-01', periods=10, freq='2D')\n",
    "# Выводим результат\n",
    "date_range"
   ]
  },
  {
   "cell_type": "code",
   "execution_count": 483,
   "metadata": {},
   "outputs": [
    {
     "data": {
      "text/html": [
       "<div>\n",
       "<style scoped>\n",
       "    .dataframe tbody tr th:only-of-type {\n",
       "        vertical-align: middle;\n",
       "    }\n",
       "\n",
       "    .dataframe tbody tr th {\n",
       "        vertical-align: top;\n",
       "    }\n",
       "\n",
       "    .dataframe thead th {\n",
       "        text-align: right;\n",
       "    }\n",
       "</style>\n",
       "<table border=\"1\" class=\"dataframe\">\n",
       "  <thead>\n",
       "    <tr style=\"text-align: right;\">\n",
       "      <th></th>\n",
       "      <th>product</th>\n",
       "      <th>price</th>\n",
       "    </tr>\n",
       "  </thead>\n",
       "  <tbody>\n",
       "    <tr>\n",
       "      <th>2022-01-01</th>\n",
       "      <td>product1</td>\n",
       "      <td>100</td>\n",
       "    </tr>\n",
       "    <tr>\n",
       "      <th>2022-01-03</th>\n",
       "      <td>product2</td>\n",
       "      <td>200</td>\n",
       "    </tr>\n",
       "    <tr>\n",
       "      <th>2022-01-06</th>\n",
       "      <td>product3</td>\n",
       "      <td>150</td>\n",
       "    </tr>\n",
       "    <tr>\n",
       "      <th>2022-01-08</th>\n",
       "      <td>product4</td>\n",
       "      <td>300</td>\n",
       "    </tr>\n",
       "  </tbody>\n",
       "</table>\n",
       "</div>"
      ],
      "text/plain": [
       "             product  price\n",
       "2022-01-01  product1    100\n",
       "2022-01-03  product2    200\n",
       "2022-01-06  product3    150\n",
       "2022-01-08  product4    300"
      ]
     },
     "execution_count": 483,
     "metadata": {},
     "output_type": "execute_result"
    }
   ],
   "source": [
    "sales = pd.DataFrame({'product': ['product1', 'product2', 'product3', 'product4'],\n",
    "                      'price': [100, 200, 150, 300]},\n",
    "                     index=pd.to_datetime(['2022-01-01', '2022-01-03', '2022-01-06', '2022-01-08']))\n",
    "sales"
   ]
  },
  {
   "cell_type": "code",
   "execution_count": 484,
   "metadata": {},
   "outputs": [
    {
     "data": {
      "text/html": [
       "<div>\n",
       "<style scoped>\n",
       "    .dataframe tbody tr th:only-of-type {\n",
       "        vertical-align: middle;\n",
       "    }\n",
       "\n",
       "    .dataframe tbody tr th {\n",
       "        vertical-align: top;\n",
       "    }\n",
       "\n",
       "    .dataframe thead th {\n",
       "        text-align: right;\n",
       "    }\n",
       "</style>\n",
       "<table border=\"1\" class=\"dataframe\">\n",
       "  <thead>\n",
       "    <tr style=\"text-align: right;\">\n",
       "      <th></th>\n",
       "      <th>product</th>\n",
       "      <th>price</th>\n",
       "    </tr>\n",
       "  </thead>\n",
       "  <tbody>\n",
       "    <tr>\n",
       "      <th>2022-01-01</th>\n",
       "      <td>product1</td>\n",
       "      <td>100.0</td>\n",
       "    </tr>\n",
       "    <tr>\n",
       "      <th>2022-01-02</th>\n",
       "      <td>NaN</td>\n",
       "      <td>NaN</td>\n",
       "    </tr>\n",
       "    <tr>\n",
       "      <th>2022-01-03</th>\n",
       "      <td>product2</td>\n",
       "      <td>200.0</td>\n",
       "    </tr>\n",
       "    <tr>\n",
       "      <th>2022-01-04</th>\n",
       "      <td>NaN</td>\n",
       "      <td>NaN</td>\n",
       "    </tr>\n",
       "    <tr>\n",
       "      <th>2022-01-05</th>\n",
       "      <td>NaN</td>\n",
       "      <td>NaN</td>\n",
       "    </tr>\n",
       "    <tr>\n",
       "      <th>2022-01-06</th>\n",
       "      <td>product3</td>\n",
       "      <td>150.0</td>\n",
       "    </tr>\n",
       "    <tr>\n",
       "      <th>2022-01-07</th>\n",
       "      <td>NaN</td>\n",
       "      <td>NaN</td>\n",
       "    </tr>\n",
       "    <tr>\n",
       "      <th>2022-01-08</th>\n",
       "      <td>product4</td>\n",
       "      <td>300.0</td>\n",
       "    </tr>\n",
       "  </tbody>\n",
       "</table>\n",
       "</div>"
      ],
      "text/plain": [
       "             product  price\n",
       "2022-01-01  product1  100.0\n",
       "2022-01-02       NaN    NaN\n",
       "2022-01-03  product2  200.0\n",
       "2022-01-04       NaN    NaN\n",
       "2022-01-05       NaN    NaN\n",
       "2022-01-06  product3  150.0\n",
       "2022-01-07       NaN    NaN\n",
       "2022-01-08  product4  300.0"
      ]
     },
     "execution_count": 484,
     "metadata": {},
     "output_type": "execute_result"
    }
   ],
   "source": [
    "date_range = pd.date_range(start=sales.index[0], end=sales.index[-1])\n",
    "sales_new = sales.reindex(date_range)\n",
    "sales_new"
   ]
  },
  {
   "cell_type": "code",
   "execution_count": 485,
   "metadata": {},
   "outputs": [],
   "source": [
    "df = pd.DataFrame({\n",
    "        'sales': [10, 20, 24, 30, 10, 40],\n",
    "        'date': ['2022-01-01', '2022-01-03', '2022-01-06', '2022-01-08', '2022-01-10', '2022-01-12']\n",
    "    })\n",
    "# Преобразуем столбец дат в формат datetime и устанавливаем его в качестве индекса\n",
    "df['date'] = pd.to_datetime(df['date'])\n",
    "df = df.set_index('date')"
   ]
  },
  {
   "cell_type": "code",
   "execution_count": 486,
   "metadata": {},
   "outputs": [
    {
     "data": {
      "text/html": [
       "<div>\n",
       "<style scoped>\n",
       "    .dataframe tbody tr th:only-of-type {\n",
       "        vertical-align: middle;\n",
       "    }\n",
       "\n",
       "    .dataframe tbody tr th {\n",
       "        vertical-align: top;\n",
       "    }\n",
       "\n",
       "    .dataframe thead th {\n",
       "        text-align: right;\n",
       "    }\n",
       "</style>\n",
       "<table border=\"1\" class=\"dataframe\">\n",
       "  <thead>\n",
       "    <tr style=\"text-align: right;\">\n",
       "      <th></th>\n",
       "      <th>sales</th>\n",
       "    </tr>\n",
       "  </thead>\n",
       "  <tbody>\n",
       "    <tr>\n",
       "      <th>2022-01-01</th>\n",
       "      <td>10</td>\n",
       "    </tr>\n",
       "    <tr>\n",
       "      <th>2022-01-02</th>\n",
       "      <td>10</td>\n",
       "    </tr>\n",
       "    <tr>\n",
       "      <th>2022-01-03</th>\n",
       "      <td>20</td>\n",
       "    </tr>\n",
       "    <tr>\n",
       "      <th>2022-01-04</th>\n",
       "      <td>20</td>\n",
       "    </tr>\n",
       "    <tr>\n",
       "      <th>2022-01-05</th>\n",
       "      <td>20</td>\n",
       "    </tr>\n",
       "    <tr>\n",
       "      <th>2022-01-06</th>\n",
       "      <td>24</td>\n",
       "    </tr>\n",
       "    <tr>\n",
       "      <th>2022-01-07</th>\n",
       "      <td>24</td>\n",
       "    </tr>\n",
       "    <tr>\n",
       "      <th>2022-01-08</th>\n",
       "      <td>30</td>\n",
       "    </tr>\n",
       "    <tr>\n",
       "      <th>2022-01-09</th>\n",
       "      <td>30</td>\n",
       "    </tr>\n",
       "    <tr>\n",
       "      <th>2022-01-10</th>\n",
       "      <td>10</td>\n",
       "    </tr>\n",
       "    <tr>\n",
       "      <th>2022-01-11</th>\n",
       "      <td>10</td>\n",
       "    </tr>\n",
       "    <tr>\n",
       "      <th>2022-01-12</th>\n",
       "      <td>40</td>\n",
       "    </tr>\n",
       "  </tbody>\n",
       "</table>\n",
       "</div>"
      ],
      "text/plain": [
       "            sales\n",
       "2022-01-01     10\n",
       "2022-01-02     10\n",
       "2022-01-03     20\n",
       "2022-01-04     20\n",
       "2022-01-05     20\n",
       "2022-01-06     24\n",
       "2022-01-07     24\n",
       "2022-01-08     30\n",
       "2022-01-09     30\n",
       "2022-01-10     10\n",
       "2022-01-11     10\n",
       "2022-01-12     40"
      ]
     },
     "execution_count": 486,
     "metadata": {},
     "output_type": "execute_result"
    }
   ],
   "source": [
    "date_range = pd.date_range(start=df.index.min(), end=df.index.max())\n",
    "df_new = df.reindex(date_range, method='ffill')\n",
    "df_new"
   ]
  },
  {
   "cell_type": "code",
   "execution_count": 487,
   "metadata": {},
   "outputs": [
    {
     "data": {
      "text/html": [
       "<div>\n",
       "<style scoped>\n",
       "    .dataframe tbody tr th:only-of-type {\n",
       "        vertical-align: middle;\n",
       "    }\n",
       "\n",
       "    .dataframe tbody tr th {\n",
       "        vertical-align: top;\n",
       "    }\n",
       "\n",
       "    .dataframe thead th {\n",
       "        text-align: right;\n",
       "    }\n",
       "</style>\n",
       "<table border=\"1\" class=\"dataframe\">\n",
       "  <thead>\n",
       "    <tr style=\"text-align: right;\">\n",
       "      <th></th>\n",
       "      <th>sales</th>\n",
       "    </tr>\n",
       "  </thead>\n",
       "  <tbody>\n",
       "    <tr>\n",
       "      <th>1.2</th>\n",
       "      <td>56</td>\n",
       "    </tr>\n",
       "    <tr>\n",
       "      <th>2.5</th>\n",
       "      <td>65</td>\n",
       "    </tr>\n",
       "    <tr>\n",
       "      <th>3.1</th>\n",
       "      <td>79</td>\n",
       "    </tr>\n",
       "    <tr>\n",
       "      <th>4.7</th>\n",
       "      <td>11</td>\n",
       "    </tr>\n",
       "    <tr>\n",
       "      <th>5.3</th>\n",
       "      <td>97</td>\n",
       "    </tr>\n",
       "  </tbody>\n",
       "</table>\n",
       "</div>"
      ],
      "text/plain": [
       "     sales\n",
       "1.2     56\n",
       "2.5     65\n",
       "3.1     79\n",
       "4.7     11\n",
       "5.3     97"
      ]
     },
     "execution_count": 487,
     "metadata": {},
     "output_type": "execute_result"
    }
   ],
   "source": [
    "np.random.seed(4)\n",
    "df = pd.DataFrame({'sales': np.random.randint(10, 100, 5)}, \n",
    "                  index=[1.2, 2.5, 3.1, 4.7, 5.3])\n",
    "df"
   ]
  },
  {
   "cell_type": "code",
   "execution_count": 488,
   "metadata": {},
   "outputs": [
    {
     "data": {
      "text/html": [
       "<div>\n",
       "<style scoped>\n",
       "    .dataframe tbody tr th:only-of-type {\n",
       "        vertical-align: middle;\n",
       "    }\n",
       "\n",
       "    .dataframe tbody tr th {\n",
       "        vertical-align: top;\n",
       "    }\n",
       "\n",
       "    .dataframe thead th {\n",
       "        text-align: right;\n",
       "    }\n",
       "</style>\n",
       "<table border=\"1\" class=\"dataframe\">\n",
       "  <thead>\n",
       "    <tr style=\"text-align: right;\">\n",
       "      <th></th>\n",
       "      <th>sales</th>\n",
       "    </tr>\n",
       "  </thead>\n",
       "  <tbody>\n",
       "    <tr>\n",
       "      <th>1.0</th>\n",
       "      <td>56.0</td>\n",
       "    </tr>\n",
       "    <tr>\n",
       "      <th>1.5</th>\n",
       "      <td>NaN</td>\n",
       "    </tr>\n",
       "    <tr>\n",
       "      <th>2.0</th>\n",
       "      <td>NaN</td>\n",
       "    </tr>\n",
       "    <tr>\n",
       "      <th>2.5</th>\n",
       "      <td>65.0</td>\n",
       "    </tr>\n",
       "    <tr>\n",
       "      <th>3.0</th>\n",
       "      <td>79.0</td>\n",
       "    </tr>\n",
       "    <tr>\n",
       "      <th>3.5</th>\n",
       "      <td>NaN</td>\n",
       "    </tr>\n",
       "    <tr>\n",
       "      <th>4.0</th>\n",
       "      <td>NaN</td>\n",
       "    </tr>\n",
       "    <tr>\n",
       "      <th>4.5</th>\n",
       "      <td>11.0</td>\n",
       "    </tr>\n",
       "    <tr>\n",
       "      <th>5.0</th>\n",
       "      <td>97.0</td>\n",
       "    </tr>\n",
       "  </tbody>\n",
       "</table>\n",
       "</div>"
      ],
      "text/plain": [
       "     sales\n",
       "1.0   56.0\n",
       "1.5    NaN\n",
       "2.0    NaN\n",
       "2.5   65.0\n",
       "3.0   79.0\n",
       "3.5    NaN\n",
       "4.0    NaN\n",
       "4.5   11.0\n",
       "5.0   97.0"
      ]
     },
     "execution_count": 488,
     "metadata": {},
     "output_type": "execute_result"
    }
   ],
   "source": [
    "# Переиндексация от 1 до 5 с шагом 0.5\n",
    "df = df.reindex(np.arange(1, 5.5, 0.5), method='nearest', tolerance=0.3)\n",
    "df"
   ]
  },
  {
   "cell_type": "code",
   "execution_count": 489,
   "metadata": {},
   "outputs": [
    {
     "data": {
      "text/html": [
       "<div>\n",
       "<style scoped>\n",
       "    .dataframe tbody tr th:only-of-type {\n",
       "        vertical-align: middle;\n",
       "    }\n",
       "\n",
       "    .dataframe tbody tr th {\n",
       "        vertical-align: top;\n",
       "    }\n",
       "\n",
       "    .dataframe thead th {\n",
       "        text-align: right;\n",
       "    }\n",
       "</style>\n",
       "<table border=\"1\" class=\"dataframe\">\n",
       "  <thead>\n",
       "    <tr style=\"text-align: right;\">\n",
       "      <th></th>\n",
       "      <th>sales</th>\n",
       "    </tr>\n",
       "    <tr>\n",
       "      <th>month</th>\n",
       "      <th></th>\n",
       "    </tr>\n",
       "  </thead>\n",
       "  <tbody>\n",
       "    <tr>\n",
       "      <th>January</th>\n",
       "      <td>100</td>\n",
       "    </tr>\n",
       "    <tr>\n",
       "      <th>February</th>\n",
       "      <td>200</td>\n",
       "    </tr>\n",
       "    <tr>\n",
       "      <th>March</th>\n",
       "      <td>150</td>\n",
       "    </tr>\n",
       "    <tr>\n",
       "      <th>April</th>\n",
       "      <td>300</td>\n",
       "    </tr>\n",
       "    <tr>\n",
       "      <th>May</th>\n",
       "      <td>250</td>\n",
       "    </tr>\n",
       "  </tbody>\n",
       "</table>\n",
       "</div>"
      ],
      "text/plain": [
       "          sales\n",
       "month          \n",
       "January     100\n",
       "February    200\n",
       "March       150\n",
       "April       300\n",
       "May         250"
      ]
     },
     "execution_count": 489,
     "metadata": {},
     "output_type": "execute_result"
    }
   ],
   "source": [
    "# Создаем первый датафрейм с информацией о продажах товаров в разные месяцы\n",
    "df1 = pd.DataFrame({'sales': [100, 200, 150, 300, 250],\n",
    "                    'month': ['January', 'February', 'March', 'April', 'May']})\n",
    "df1 = df1.set_index('month')  # Устанавливаем индекс как месяцы\n",
    "\n",
    "# Создаем второй датафрейм с информацией о продажах товаров в разные месяцы\n",
    "df2 = pd.DataFrame({'sales': [150, 250, 100, 200, 300],\n",
    "                    'month': ['February', 'March', 'April', 'May', 'June']})\n",
    "df2 = df2.set_index('month')  # Устанавливаем индекс как месяцы\n",
    "df1\n"
   ]
  },
  {
   "cell_type": "code",
   "execution_count": 490,
   "metadata": {},
   "outputs": [
    {
     "data": {
      "text/plain": [
       "Index(['January', 'February', 'March', 'April', 'May'], dtype='object', name='month')"
      ]
     },
     "execution_count": 490,
     "metadata": {},
     "output_type": "execute_result"
    }
   ],
   "source": [
    "df1.index"
   ]
  },
  {
   "cell_type": "code",
   "execution_count": 491,
   "metadata": {},
   "outputs": [
    {
     "data": {
      "text/html": [
       "<div>\n",
       "<style scoped>\n",
       "    .dataframe tbody tr th:only-of-type {\n",
       "        vertical-align: middle;\n",
       "    }\n",
       "\n",
       "    .dataframe tbody tr th {\n",
       "        vertical-align: top;\n",
       "    }\n",
       "\n",
       "    .dataframe thead th {\n",
       "        text-align: right;\n",
       "    }\n",
       "</style>\n",
       "<table border=\"1\" class=\"dataframe\">\n",
       "  <thead>\n",
       "    <tr style=\"text-align: right;\">\n",
       "      <th></th>\n",
       "      <th>sales</th>\n",
       "    </tr>\n",
       "    <tr>\n",
       "      <th>month</th>\n",
       "      <th></th>\n",
       "    </tr>\n",
       "  </thead>\n",
       "  <tbody>\n",
       "    <tr>\n",
       "      <th>February</th>\n",
       "      <td>150</td>\n",
       "    </tr>\n",
       "    <tr>\n",
       "      <th>March</th>\n",
       "      <td>250</td>\n",
       "    </tr>\n",
       "    <tr>\n",
       "      <th>April</th>\n",
       "      <td>100</td>\n",
       "    </tr>\n",
       "    <tr>\n",
       "      <th>May</th>\n",
       "      <td>200</td>\n",
       "    </tr>\n",
       "    <tr>\n",
       "      <th>June</th>\n",
       "      <td>300</td>\n",
       "    </tr>\n",
       "  </tbody>\n",
       "</table>\n",
       "</div>"
      ],
      "text/plain": [
       "          sales\n",
       "month          \n",
       "February    150\n",
       "March       250\n",
       "April       100\n",
       "May         200\n",
       "June        300"
      ]
     },
     "execution_count": 491,
     "metadata": {},
     "output_type": "execute_result"
    }
   ],
   "source": [
    "df2"
   ]
  },
  {
   "cell_type": "code",
   "execution_count": 492,
   "metadata": {},
   "outputs": [],
   "source": [
    "# new_index = pd.unique(np.concatenate((df1.index, df2.index)))\n",
    "new_index = df1.index.union(df2.index, sort=False)"
   ]
  },
  {
   "cell_type": "code",
   "execution_count": 493,
   "metadata": {},
   "outputs": [
    {
     "data": {
      "text/html": [
       "<div>\n",
       "<style scoped>\n",
       "    .dataframe tbody tr th:only-of-type {\n",
       "        vertical-align: middle;\n",
       "    }\n",
       "\n",
       "    .dataframe tbody tr th {\n",
       "        vertical-align: top;\n",
       "    }\n",
       "\n",
       "    .dataframe thead th {\n",
       "        text-align: right;\n",
       "    }\n",
       "</style>\n",
       "<table border=\"1\" class=\"dataframe\">\n",
       "  <thead>\n",
       "    <tr style=\"text-align: right;\">\n",
       "      <th></th>\n",
       "      <th>sales</th>\n",
       "    </tr>\n",
       "    <tr>\n",
       "      <th>month</th>\n",
       "      <th></th>\n",
       "    </tr>\n",
       "  </thead>\n",
       "  <tbody>\n",
       "    <tr>\n",
       "      <th>January</th>\n",
       "      <td>100</td>\n",
       "    </tr>\n",
       "    <tr>\n",
       "      <th>February</th>\n",
       "      <td>200</td>\n",
       "    </tr>\n",
       "    <tr>\n",
       "      <th>March</th>\n",
       "      <td>150</td>\n",
       "    </tr>\n",
       "    <tr>\n",
       "      <th>April</th>\n",
       "      <td>300</td>\n",
       "    </tr>\n",
       "    <tr>\n",
       "      <th>May</th>\n",
       "      <td>250</td>\n",
       "    </tr>\n",
       "    <tr>\n",
       "      <th>June</th>\n",
       "      <td>0</td>\n",
       "    </tr>\n",
       "  </tbody>\n",
       "</table>\n",
       "</div>"
      ],
      "text/plain": [
       "          sales\n",
       "month          \n",
       "January     100\n",
       "February    200\n",
       "March       150\n",
       "April       300\n",
       "May         250\n",
       "June          0"
      ]
     },
     "execution_count": 493,
     "metadata": {},
     "output_type": "execute_result"
    }
   ],
   "source": [
    "df1.reindex(new_index, fill_value=0)"
   ]
  },
  {
   "cell_type": "code",
   "execution_count": 494,
   "metadata": {},
   "outputs": [
    {
     "data": {
      "text/html": [
       "<div>\n",
       "<style scoped>\n",
       "    .dataframe tbody tr th:only-of-type {\n",
       "        vertical-align: middle;\n",
       "    }\n",
       "\n",
       "    .dataframe tbody tr th {\n",
       "        vertical-align: top;\n",
       "    }\n",
       "\n",
       "    .dataframe thead th {\n",
       "        text-align: right;\n",
       "    }\n",
       "</style>\n",
       "<table border=\"1\" class=\"dataframe\">\n",
       "  <thead>\n",
       "    <tr style=\"text-align: right;\">\n",
       "      <th></th>\n",
       "      <th>sales</th>\n",
       "    </tr>\n",
       "    <tr>\n",
       "      <th>month</th>\n",
       "      <th></th>\n",
       "    </tr>\n",
       "  </thead>\n",
       "  <tbody>\n",
       "    <tr>\n",
       "      <th>January</th>\n",
       "      <td>0</td>\n",
       "    </tr>\n",
       "    <tr>\n",
       "      <th>February</th>\n",
       "      <td>150</td>\n",
       "    </tr>\n",
       "    <tr>\n",
       "      <th>March</th>\n",
       "      <td>250</td>\n",
       "    </tr>\n",
       "    <tr>\n",
       "      <th>April</th>\n",
       "      <td>100</td>\n",
       "    </tr>\n",
       "    <tr>\n",
       "      <th>May</th>\n",
       "      <td>200</td>\n",
       "    </tr>\n",
       "    <tr>\n",
       "      <th>June</th>\n",
       "      <td>300</td>\n",
       "    </tr>\n",
       "  </tbody>\n",
       "</table>\n",
       "</div>"
      ],
      "text/plain": [
       "          sales\n",
       "month          \n",
       "January       0\n",
       "February    150\n",
       "March       250\n",
       "April       100\n",
       "May         200\n",
       "June        300"
      ]
     },
     "execution_count": 494,
     "metadata": {},
     "output_type": "execute_result"
    }
   ],
   "source": [
    "df2.reindex(new_index, fill_value=0)"
   ]
  },
  {
   "cell_type": "code",
   "execution_count": 495,
   "metadata": {},
   "outputs": [
    {
     "data": {
      "text/html": [
       "<div>\n",
       "<style scoped>\n",
       "    .dataframe tbody tr th:only-of-type {\n",
       "        vertical-align: middle;\n",
       "    }\n",
       "\n",
       "    .dataframe tbody tr th {\n",
       "        vertical-align: top;\n",
       "    }\n",
       "\n",
       "    .dataframe thead th {\n",
       "        text-align: right;\n",
       "    }\n",
       "</style>\n",
       "<table border=\"1\" class=\"dataframe\">\n",
       "  <thead>\n",
       "    <tr style=\"text-align: right;\">\n",
       "      <th></th>\n",
       "      <th>product</th>\n",
       "      <th>Monday</th>\n",
       "      <th>Wednesday</th>\n",
       "      <th>Friday</th>\n",
       "      <th>Tuesday</th>\n",
       "      <th>Thursday</th>\n",
       "      <th>Saturday</th>\n",
       "      <th>Sunday</th>\n",
       "    </tr>\n",
       "  </thead>\n",
       "  <tbody>\n",
       "    <tr>\n",
       "      <th>0</th>\n",
       "      <td>A</td>\n",
       "      <td>10</td>\n",
       "      <td>40</td>\n",
       "      <td>70</td>\n",
       "      <td>100</td>\n",
       "      <td>130</td>\n",
       "      <td>160</td>\n",
       "      <td>190</td>\n",
       "    </tr>\n",
       "    <tr>\n",
       "      <th>1</th>\n",
       "      <td>B</td>\n",
       "      <td>20</td>\n",
       "      <td>50</td>\n",
       "      <td>80</td>\n",
       "      <td>110</td>\n",
       "      <td>140</td>\n",
       "      <td>170</td>\n",
       "      <td>200</td>\n",
       "    </tr>\n",
       "    <tr>\n",
       "      <th>2</th>\n",
       "      <td>C</td>\n",
       "      <td>30</td>\n",
       "      <td>60</td>\n",
       "      <td>90</td>\n",
       "      <td>120</td>\n",
       "      <td>150</td>\n",
       "      <td>180</td>\n",
       "      <td>210</td>\n",
       "    </tr>\n",
       "  </tbody>\n",
       "</table>\n",
       "</div>"
      ],
      "text/plain": [
       "  product  Monday  Wednesday  Friday  Tuesday  Thursday  Saturday  Sunday\n",
       "0       A      10         40      70      100       130       160     190\n",
       "1       B      20         50      80      110       140       170     200\n",
       "2       C      30         60      90      120       150       180     210"
      ]
     },
     "execution_count": 495,
     "metadata": {},
     "output_type": "execute_result"
    }
   ],
   "source": [
    "df = pd.DataFrame({\n",
    "    'product': ['A', 'B', 'C'],\n",
    "    'Monday': [10, 20, 30],\n",
    "    'Wednesday': [40, 50, 60],\n",
    "    'Friday': [70, 80, 90],\n",
    "    'Tuesday': [100, 110, 120],\n",
    "    'Thursday': [130, 140, 150],\n",
    "    'Saturday': [160, 170, 180],\n",
    "    'Sunday': [190, 200, 210]\n",
    "})\n",
    "df"
   ]
  },
  {
   "cell_type": "code",
   "execution_count": 496,
   "metadata": {},
   "outputs": [
    {
     "data": {
      "text/html": [
       "<div>\n",
       "<style scoped>\n",
       "    .dataframe tbody tr th:only-of-type {\n",
       "        vertical-align: middle;\n",
       "    }\n",
       "\n",
       "    .dataframe tbody tr th {\n",
       "        vertical-align: top;\n",
       "    }\n",
       "\n",
       "    .dataframe thead th {\n",
       "        text-align: right;\n",
       "    }\n",
       "</style>\n",
       "<table border=\"1\" class=\"dataframe\">\n",
       "  <thead>\n",
       "    <tr style=\"text-align: right;\">\n",
       "      <th></th>\n",
       "      <th>Monday</th>\n",
       "      <th>Tuesday</th>\n",
       "      <th>Wednesday</th>\n",
       "      <th>Thursday</th>\n",
       "      <th>Friday</th>\n",
       "      <th>Saturday</th>\n",
       "      <th>Sunday</th>\n",
       "    </tr>\n",
       "  </thead>\n",
       "  <tbody>\n",
       "    <tr>\n",
       "      <th>0</th>\n",
       "      <td>10</td>\n",
       "      <td>100</td>\n",
       "      <td>40</td>\n",
       "      <td>130</td>\n",
       "      <td>70</td>\n",
       "      <td>160</td>\n",
       "      <td>190</td>\n",
       "    </tr>\n",
       "    <tr>\n",
       "      <th>1</th>\n",
       "      <td>20</td>\n",
       "      <td>110</td>\n",
       "      <td>50</td>\n",
       "      <td>140</td>\n",
       "      <td>80</td>\n",
       "      <td>170</td>\n",
       "      <td>200</td>\n",
       "    </tr>\n",
       "    <tr>\n",
       "      <th>2</th>\n",
       "      <td>30</td>\n",
       "      <td>120</td>\n",
       "      <td>60</td>\n",
       "      <td>150</td>\n",
       "      <td>90</td>\n",
       "      <td>180</td>\n",
       "      <td>210</td>\n",
       "    </tr>\n",
       "  </tbody>\n",
       "</table>\n",
       "</div>"
      ],
      "text/plain": [
       "   Monday  Tuesday  Wednesday  Thursday  Friday  Saturday  Sunday\n",
       "0      10      100         40       130      70       160     190\n",
       "1      20      110         50       140      80       170     200\n",
       "2      30      120         60       150      90       180     210"
      ]
     },
     "execution_count": 496,
     "metadata": {},
     "output_type": "execute_result"
    }
   ],
   "source": [
    "from calendar import day_name\n",
    "new_col = list(day_name)\n",
    "df.reindex(new_col, axis=1)"
   ]
  },
  {
   "cell_type": "markdown",
   "metadata": {},
   "source": [
    "# 3.5 Использование срезов с объектами Series и DataFrame в Pandas"
   ]
  },
  {
   "cell_type": "code",
   "execution_count": 497,
   "metadata": {},
   "outputs": [
    {
     "name": "stdout",
     "output_type": "stream",
     "text": [
      "b    20\n",
      "c    30\n",
      "d    40\n",
      "dtype: int64\n"
     ]
    }
   ],
   "source": [
    "my_list = [10, 20, 30, 40, 50]\n",
    "my_series = pd.Series(my_list, index=['a', 'b', 'c', 'd', 'e'])\n",
    "my_slice = my_series.loc['b':'d']\n",
    "print(my_slice)"
   ]
  },
  {
   "cell_type": "code",
   "execution_count": 498,
   "metadata": {},
   "outputs": [
    {
     "data": {
      "text/html": [
       "<div>\n",
       "<style scoped>\n",
       "    .dataframe tbody tr th:only-of-type {\n",
       "        vertical-align: middle;\n",
       "    }\n",
       "\n",
       "    .dataframe tbody tr th {\n",
       "        vertical-align: top;\n",
       "    }\n",
       "\n",
       "    .dataframe thead th {\n",
       "        text-align: right;\n",
       "    }\n",
       "</style>\n",
       "<table border=\"1\" class=\"dataframe\">\n",
       "  <thead>\n",
       "    <tr style=\"text-align: right;\">\n",
       "      <th></th>\n",
       "      <th>name</th>\n",
       "      <th>age</th>\n",
       "      <th>city</th>\n",
       "    </tr>\n",
       "  </thead>\n",
       "  <tbody>\n",
       "    <tr>\n",
       "      <th>0</th>\n",
       "      <td>Alice</td>\n",
       "      <td>25</td>\n",
       "      <td>New York</td>\n",
       "    </tr>\n",
       "    <tr>\n",
       "      <th>1</th>\n",
       "      <td>Bob</td>\n",
       "      <td>30</td>\n",
       "      <td>Paris</td>\n",
       "    </tr>\n",
       "    <tr>\n",
       "      <th>2</th>\n",
       "      <td>Charlie</td>\n",
       "      <td>35</td>\n",
       "      <td>London</td>\n",
       "    </tr>\n",
       "    <tr>\n",
       "      <th>3</th>\n",
       "      <td>David</td>\n",
       "      <td>40</td>\n",
       "      <td>Tokyo</td>\n",
       "    </tr>\n",
       "    <tr>\n",
       "      <th>4</th>\n",
       "      <td>Emily</td>\n",
       "      <td>45</td>\n",
       "      <td>Sydney</td>\n",
       "    </tr>\n",
       "  </tbody>\n",
       "</table>\n",
       "</div>"
      ],
      "text/plain": [
       "      name  age      city\n",
       "0    Alice   25  New York\n",
       "1      Bob   30     Paris\n",
       "2  Charlie   35    London\n",
       "3    David   40     Tokyo\n",
       "4    Emily   45    Sydney"
      ]
     },
     "execution_count": 498,
     "metadata": {},
     "output_type": "execute_result"
    }
   ],
   "source": [
    "my_dict = {'name': ['Alice', 'Bob', 'Charlie', 'David', 'Emily'],\n",
    "           'age': [25, 30, 35, 40, 45],\n",
    "           'city': ['New York', 'Paris', 'London', 'Tokyo', 'Sydney']}\n",
    "my_dataframe = pd.DataFrame(my_dict)\n",
    "my_dataframe\n"
   ]
  },
  {
   "cell_type": "code",
   "execution_count": 499,
   "metadata": {},
   "outputs": [
    {
     "name": "stdout",
     "output_type": "stream",
     "text": [
      "      name  age\n",
      "1      Bob   30\n",
      "2  Charlie   35\n",
      "3    David   40\n",
      "\n",
      "   age    city\n",
      "1   30   Paris\n",
      "2   35  London\n"
     ]
    }
   ],
   "source": [
    "my_slice1 = my_dataframe.loc[1:3, 'name':'age']\n",
    "my_slice2 = my_dataframe.iloc[1:3, 1:3]\n",
    "\n",
    "print(my_slice1)\n",
    "print()\n",
    "print(my_slice2)"
   ]
  },
  {
   "cell_type": "code",
   "execution_count": 500,
   "metadata": {},
   "outputs": [
    {
     "data": {
      "text/html": [
       "<div>\n",
       "<style scoped>\n",
       "    .dataframe tbody tr th:only-of-type {\n",
       "        vertical-align: middle;\n",
       "    }\n",
       "\n",
       "    .dataframe tbody tr th {\n",
       "        vertical-align: top;\n",
       "    }\n",
       "\n",
       "    .dataframe thead th {\n",
       "        text-align: right;\n",
       "    }\n",
       "</style>\n",
       "<table border=\"1\" class=\"dataframe\">\n",
       "  <thead>\n",
       "    <tr style=\"text-align: right;\">\n",
       "      <th></th>\n",
       "      <th>name</th>\n",
       "      <th>age</th>\n",
       "      <th>city</th>\n",
       "    </tr>\n",
       "  </thead>\n",
       "  <tbody>\n",
       "    <tr>\n",
       "      <th>2</th>\n",
       "      <td>Charlie</td>\n",
       "      <td>35</td>\n",
       "      <td>London</td>\n",
       "    </tr>\n",
       "    <tr>\n",
       "      <th>3</th>\n",
       "      <td>David</td>\n",
       "      <td>40</td>\n",
       "      <td>Tokyo</td>\n",
       "    </tr>\n",
       "    <tr>\n",
       "      <th>4</th>\n",
       "      <td>Emily</td>\n",
       "      <td>45</td>\n",
       "      <td>Sydney</td>\n",
       "    </tr>\n",
       "  </tbody>\n",
       "</table>\n",
       "</div>"
      ],
      "text/plain": [
       "      name  age    city\n",
       "2  Charlie   35  London\n",
       "3    David   40   Tokyo\n",
       "4    Emily   45  Sydney"
      ]
     },
     "execution_count": 500,
     "metadata": {},
     "output_type": "execute_result"
    }
   ],
   "source": [
    "filtered_df = my_dataframe[my_dataframe['age'] > 30]\n",
    "filtered_df"
   ]
  },
  {
   "cell_type": "code",
   "execution_count": 501,
   "metadata": {},
   "outputs": [
    {
     "data": {
      "text/html": [
       "<div>\n",
       "<style scoped>\n",
       "    .dataframe tbody tr th:only-of-type {\n",
       "        vertical-align: middle;\n",
       "    }\n",
       "\n",
       "    .dataframe tbody tr th {\n",
       "        vertical-align: top;\n",
       "    }\n",
       "\n",
       "    .dataframe thead th {\n",
       "        text-align: right;\n",
       "    }\n",
       "</style>\n",
       "<table border=\"1\" class=\"dataframe\">\n",
       "  <thead>\n",
       "    <tr style=\"text-align: right;\">\n",
       "      <th></th>\n",
       "      <th>name</th>\n",
       "      <th>age</th>\n",
       "      <th>salary</th>\n",
       "    </tr>\n",
       "  </thead>\n",
       "  <tbody>\n",
       "    <tr>\n",
       "      <th>0</th>\n",
       "      <td>John</td>\n",
       "      <td>35</td>\n",
       "      <td>60000</td>\n",
       "    </tr>\n",
       "    <tr>\n",
       "      <th>1</th>\n",
       "      <td>Emily</td>\n",
       "      <td>28</td>\n",
       "      <td>50000</td>\n",
       "    </tr>\n",
       "    <tr>\n",
       "      <th>2</th>\n",
       "      <td>Michael</td>\n",
       "      <td>42</td>\n",
       "      <td>70000</td>\n",
       "    </tr>\n",
       "    <tr>\n",
       "      <th>3</th>\n",
       "      <td>Jessica</td>\n",
       "      <td>30</td>\n",
       "      <td>55000</td>\n",
       "    </tr>\n",
       "    <tr>\n",
       "      <th>4</th>\n",
       "      <td>Andrew</td>\n",
       "      <td>25</td>\n",
       "      <td>45000</td>\n",
       "    </tr>\n",
       "  </tbody>\n",
       "</table>\n",
       "</div>"
      ],
      "text/plain": [
       "      name  age  salary\n",
       "0     John   35   60000\n",
       "1    Emily   28   50000\n",
       "2  Michael   42   70000\n",
       "3  Jessica   30   55000\n",
       "4   Andrew   25   45000"
      ]
     },
     "execution_count": 501,
     "metadata": {},
     "output_type": "execute_result"
    }
   ],
   "source": [
    "employees = pd.DataFrame({\n",
    "    'name': ['John', 'Emily', 'Michael', 'Jessica', 'Andrew'],\n",
    "    'age': [35, 28, 42, 30, 25],\n",
    "    'salary': [60000, 50000, 70000, 55000, 45000]\n",
    "})\n",
    "\n",
    "employees"
   ]
  },
  {
   "cell_type": "code",
   "execution_count": 502,
   "metadata": {},
   "outputs": [
    {
     "data": {
      "text/html": [
       "<div>\n",
       "<style scoped>\n",
       "    .dataframe tbody tr th:only-of-type {\n",
       "        vertical-align: middle;\n",
       "    }\n",
       "\n",
       "    .dataframe tbody tr th {\n",
       "        vertical-align: top;\n",
       "    }\n",
       "\n",
       "    .dataframe thead th {\n",
       "        text-align: right;\n",
       "    }\n",
       "</style>\n",
       "<table border=\"1\" class=\"dataframe\">\n",
       "  <thead>\n",
       "    <tr style=\"text-align: right;\">\n",
       "      <th></th>\n",
       "      <th>name</th>\n",
       "      <th>age</th>\n",
       "      <th>salary</th>\n",
       "    </tr>\n",
       "  </thead>\n",
       "  <tbody>\n",
       "    <tr>\n",
       "      <th>0</th>\n",
       "      <td>John</td>\n",
       "      <td>35</td>\n",
       "      <td>60000</td>\n",
       "    </tr>\n",
       "    <tr>\n",
       "      <th>3</th>\n",
       "      <td>Jessica</td>\n",
       "      <td>30</td>\n",
       "      <td>55000</td>\n",
       "    </tr>\n",
       "  </tbody>\n",
       "</table>\n",
       "</div>"
      ],
      "text/plain": [
       "      name  age  salary\n",
       "0     John   35   60000\n",
       "3  Jessica   30   55000"
      ]
     },
     "execution_count": 502,
     "metadata": {},
     "output_type": "execute_result"
    }
   ],
   "source": [
    "selected_employees = employees[(employees['name'].str.startswith('J')) & (employees['age'] < 40)]\n",
    "selected_employees"
   ]
  },
  {
   "cell_type": "code",
   "execution_count": 503,
   "metadata": {},
   "outputs": [
    {
     "data": {
      "text/html": [
       "<div>\n",
       "<style scoped>\n",
       "    .dataframe tbody tr th:only-of-type {\n",
       "        vertical-align: middle;\n",
       "    }\n",
       "\n",
       "    .dataframe tbody tr th {\n",
       "        vertical-align: top;\n",
       "    }\n",
       "\n",
       "    .dataframe thead th {\n",
       "        text-align: right;\n",
       "    }\n",
       "</style>\n",
       "<table border=\"1\" class=\"dataframe\">\n",
       "  <thead>\n",
       "    <tr style=\"text-align: right;\">\n",
       "      <th></th>\n",
       "      <th>name</th>\n",
       "      <th>age</th>\n",
       "      <th>salary</th>\n",
       "    </tr>\n",
       "  </thead>\n",
       "  <tbody>\n",
       "    <tr>\n",
       "      <th>3</th>\n",
       "      <td>Jessica</td>\n",
       "      <td>30</td>\n",
       "      <td>55000</td>\n",
       "    </tr>\n",
       "  </tbody>\n",
       "</table>\n",
       "</div>"
      ],
      "text/plain": [
       "      name  age  salary\n",
       "3  Jessica   30   55000"
      ]
     },
     "execution_count": 503,
     "metadata": {},
     "output_type": "execute_result"
    }
   ],
   "source": [
    "selected_employees = employees[(employees['name'].str.startswith('Je')) & (employees['age'] < 40)]\n",
    "selected_employees"
   ]
  },
  {
   "cell_type": "code",
   "execution_count": 504,
   "metadata": {},
   "outputs": [
    {
     "data": {
      "text/html": [
       "<div>\n",
       "<style scoped>\n",
       "    .dataframe tbody tr th:only-of-type {\n",
       "        vertical-align: middle;\n",
       "    }\n",
       "\n",
       "    .dataframe tbody tr th {\n",
       "        vertical-align: top;\n",
       "    }\n",
       "\n",
       "    .dataframe thead th {\n",
       "        text-align: right;\n",
       "    }\n",
       "</style>\n",
       "<table border=\"1\" class=\"dataframe\">\n",
       "  <thead>\n",
       "    <tr style=\"text-align: right;\">\n",
       "      <th></th>\n",
       "      <th>name</th>\n",
       "      <th>age</th>\n",
       "      <th>salary</th>\n",
       "    </tr>\n",
       "  </thead>\n",
       "  <tbody>\n",
       "    <tr>\n",
       "      <th>2</th>\n",
       "      <td>Michael</td>\n",
       "      <td>42</td>\n",
       "      <td>70000</td>\n",
       "    </tr>\n",
       "    <tr>\n",
       "      <th>4</th>\n",
       "      <td>Andrew</td>\n",
       "      <td>25</td>\n",
       "      <td>45000</td>\n",
       "    </tr>\n",
       "  </tbody>\n",
       "</table>\n",
       "</div>"
      ],
      "text/plain": [
       "      name  age  salary\n",
       "2  Michael   42   70000\n",
       "4   Andrew   25   45000"
      ]
     },
     "execution_count": 504,
     "metadata": {},
     "output_type": "execute_result"
    }
   ],
   "source": [
    "selected_employees = employees[(employees['name'].str.startswith('A')) | (employees['name'].str.startswith('M'))]\n",
    "selected_employees"
   ]
  },
  {
   "cell_type": "code",
   "execution_count": 505,
   "metadata": {},
   "outputs": [
    {
     "data": {
      "text/html": [
       "<div>\n",
       "<style scoped>\n",
       "    .dataframe tbody tr th:only-of-type {\n",
       "        vertical-align: middle;\n",
       "    }\n",
       "\n",
       "    .dataframe tbody tr th {\n",
       "        vertical-align: top;\n",
       "    }\n",
       "\n",
       "    .dataframe thead th {\n",
       "        text-align: right;\n",
       "    }\n",
       "</style>\n",
       "<table border=\"1\" class=\"dataframe\">\n",
       "  <thead>\n",
       "    <tr style=\"text-align: right;\">\n",
       "      <th></th>\n",
       "      <th>name</th>\n",
       "      <th>age</th>\n",
       "      <th>salary</th>\n",
       "    </tr>\n",
       "  </thead>\n",
       "  <tbody>\n",
       "    <tr>\n",
       "      <th>0</th>\n",
       "      <td>John</td>\n",
       "      <td>35</td>\n",
       "      <td>60000</td>\n",
       "    </tr>\n",
       "    <tr>\n",
       "      <th>2</th>\n",
       "      <td>Michael</td>\n",
       "      <td>42</td>\n",
       "      <td>70000</td>\n",
       "    </tr>\n",
       "    <tr>\n",
       "      <th>3</th>\n",
       "      <td>Jessica</td>\n",
       "      <td>30</td>\n",
       "      <td>55000</td>\n",
       "    </tr>\n",
       "  </tbody>\n",
       "</table>\n",
       "</div>"
      ],
      "text/plain": [
       "      name  age  salary\n",
       "0     John   35   60000\n",
       "2  Michael   42   70000\n",
       "3  Jessica   30   55000"
      ]
     },
     "execution_count": 505,
     "metadata": {},
     "output_type": "execute_result"
    }
   ],
   "source": [
    "selected_employees = employees[~(employees['age'] < 30)]\n",
    "selected_employees"
   ]
  },
  {
   "cell_type": "code",
   "execution_count": 506,
   "metadata": {},
   "outputs": [
    {
     "name": "stdout",
     "output_type": "stream",
     "text": [
      "Jessica\n",
      "Alice\n"
     ]
    }
   ],
   "source": [
    "print(employees.loc[3, 'name'])\n",
    "employees.loc[3, 'name'] = 'Alice'\n",
    "print(employees.loc[3, 'name'])"
   ]
  },
  {
   "cell_type": "code",
   "execution_count": 507,
   "metadata": {},
   "outputs": [
    {
     "data": {
      "text/html": [
       "<div>\n",
       "<style scoped>\n",
       "    .dataframe tbody tr th:only-of-type {\n",
       "        vertical-align: middle;\n",
       "    }\n",
       "\n",
       "    .dataframe tbody tr th {\n",
       "        vertical-align: top;\n",
       "    }\n",
       "\n",
       "    .dataframe thead th {\n",
       "        text-align: right;\n",
       "    }\n",
       "</style>\n",
       "<table border=\"1\" class=\"dataframe\">\n",
       "  <thead>\n",
       "    <tr style=\"text-align: right;\">\n",
       "      <th></th>\n",
       "      <th>name</th>\n",
       "      <th>age</th>\n",
       "      <th>salary</th>\n",
       "      <th>country</th>\n",
       "    </tr>\n",
       "  </thead>\n",
       "  <tbody>\n",
       "    <tr>\n",
       "      <th>0</th>\n",
       "      <td>John</td>\n",
       "      <td>35</td>\n",
       "      <td>60000</td>\n",
       "      <td>USA</td>\n",
       "    </tr>\n",
       "    <tr>\n",
       "      <th>1</th>\n",
       "      <td>Emily</td>\n",
       "      <td>28</td>\n",
       "      <td>50000</td>\n",
       "      <td>France</td>\n",
       "    </tr>\n",
       "    <tr>\n",
       "      <th>2</th>\n",
       "      <td>Michael</td>\n",
       "      <td>42</td>\n",
       "      <td>70000</td>\n",
       "      <td>UK</td>\n",
       "    </tr>\n",
       "    <tr>\n",
       "      <th>3</th>\n",
       "      <td>Alice</td>\n",
       "      <td>30</td>\n",
       "      <td>55000</td>\n",
       "      <td>Japan</td>\n",
       "    </tr>\n",
       "    <tr>\n",
       "      <th>4</th>\n",
       "      <td>Andrew</td>\n",
       "      <td>25</td>\n",
       "      <td>45000</td>\n",
       "      <td>Australia</td>\n",
       "    </tr>\n",
       "  </tbody>\n",
       "</table>\n",
       "</div>"
      ],
      "text/plain": [
       "      name  age  salary    country\n",
       "0     John   35   60000        USA\n",
       "1    Emily   28   50000     France\n",
       "2  Michael   42   70000         UK\n",
       "3    Alice   30   55000      Japan\n",
       "4   Andrew   25   45000  Australia"
      ]
     },
     "execution_count": 507,
     "metadata": {},
     "output_type": "execute_result"
    }
   ],
   "source": [
    "employees['country'] = ['USA', 'France', 'UK', 'Japan', 'Australia']\n",
    "employees\n"
   ]
  },
  {
   "cell_type": "code",
   "execution_count": 508,
   "metadata": {},
   "outputs": [
    {
     "data": {
      "text/html": [
       "<div>\n",
       "<style scoped>\n",
       "    .dataframe tbody tr th:only-of-type {\n",
       "        vertical-align: middle;\n",
       "    }\n",
       "\n",
       "    .dataframe tbody tr th {\n",
       "        vertical-align: top;\n",
       "    }\n",
       "\n",
       "    .dataframe thead th {\n",
       "        text-align: right;\n",
       "    }\n",
       "</style>\n",
       "<table border=\"1\" class=\"dataframe\">\n",
       "  <thead>\n",
       "    <tr style=\"text-align: right;\">\n",
       "      <th></th>\n",
       "      <th>region</th>\n",
       "      <th>product</th>\n",
       "      <th>sales_amount</th>\n",
       "    </tr>\n",
       "  </thead>\n",
       "  <tbody>\n",
       "    <tr>\n",
       "      <th>0</th>\n",
       "      <td>North</td>\n",
       "      <td>A</td>\n",
       "      <td>10000</td>\n",
       "    </tr>\n",
       "    <tr>\n",
       "      <th>1</th>\n",
       "      <td>South</td>\n",
       "      <td>B</td>\n",
       "      <td>20000</td>\n",
       "    </tr>\n",
       "    <tr>\n",
       "      <th>2</th>\n",
       "      <td>East</td>\n",
       "      <td>A</td>\n",
       "      <td>15000</td>\n",
       "    </tr>\n",
       "    <tr>\n",
       "      <th>3</th>\n",
       "      <td>West</td>\n",
       "      <td>C</td>\n",
       "      <td>12000</td>\n",
       "    </tr>\n",
       "    <tr>\n",
       "      <th>4</th>\n",
       "      <td>Central</td>\n",
       "      <td>B</td>\n",
       "      <td>18000</td>\n",
       "    </tr>\n",
       "  </tbody>\n",
       "</table>\n",
       "</div>"
      ],
      "text/plain": [
       "    region product  sales_amount\n",
       "0    North       A         10000\n",
       "1    South       B         20000\n",
       "2     East       A         15000\n",
       "3     West       C         12000\n",
       "4  Central       B         18000"
      ]
     },
     "execution_count": 508,
     "metadata": {},
     "output_type": "execute_result"
    }
   ],
   "source": [
    "sales = pd.DataFrame({\n",
    "    'region': ['North', 'South', 'East', 'West', 'Central'],\n",
    "    'product': ['A', 'B', 'A', 'C', 'B'],\n",
    "    'sales_amount': [10000, 20000, 15000, 12000, 18000]\n",
    "})\n",
    "sales"
   ]
  },
  {
   "cell_type": "code",
   "execution_count": 509,
   "metadata": {},
   "outputs": [
    {
     "data": {
      "text/html": [
       "<div>\n",
       "<style scoped>\n",
       "    .dataframe tbody tr th:only-of-type {\n",
       "        vertical-align: middle;\n",
       "    }\n",
       "\n",
       "    .dataframe tbody tr th {\n",
       "        vertical-align: top;\n",
       "    }\n",
       "\n",
       "    .dataframe thead th {\n",
       "        text-align: right;\n",
       "    }\n",
       "</style>\n",
       "<table border=\"1\" class=\"dataframe\">\n",
       "  <thead>\n",
       "    <tr style=\"text-align: right;\">\n",
       "      <th></th>\n",
       "      <th>region</th>\n",
       "      <th>sales_amount</th>\n",
       "    </tr>\n",
       "  </thead>\n",
       "  <tbody>\n",
       "    <tr>\n",
       "      <th>0</th>\n",
       "      <td>North</td>\n",
       "      <td>10000</td>\n",
       "    </tr>\n",
       "    <tr>\n",
       "      <th>2</th>\n",
       "      <td>East</td>\n",
       "      <td>15000</td>\n",
       "    </tr>\n",
       "  </tbody>\n",
       "</table>\n",
       "</div>"
      ],
      "text/plain": [
       "  region  sales_amount\n",
       "0  North         10000\n",
       "2   East         15000"
      ]
     },
     "execution_count": 509,
     "metadata": {},
     "output_type": "execute_result"
    }
   ],
   "source": [
    "selected_data = sales.loc[sales['product'] == 'A', ['region', 'sales_amount']]\n",
    "selected_data\n",
    "selected_data"
   ]
  },
  {
   "cell_type": "code",
   "execution_count": 510,
   "metadata": {},
   "outputs": [
    {
     "data": {
      "text/html": [
       "<div>\n",
       "<style scoped>\n",
       "    .dataframe tbody tr th:only-of-type {\n",
       "        vertical-align: middle;\n",
       "    }\n",
       "\n",
       "    .dataframe tbody tr th {\n",
       "        vertical-align: top;\n",
       "    }\n",
       "\n",
       "    .dataframe thead th {\n",
       "        text-align: right;\n",
       "    }\n",
       "</style>\n",
       "<table border=\"1\" class=\"dataframe\">\n",
       "  <thead>\n",
       "    <tr style=\"text-align: right;\">\n",
       "      <th></th>\n",
       "      <th>region</th>\n",
       "      <th>product</th>\n",
       "      <th>sales_amount</th>\n",
       "    </tr>\n",
       "  </thead>\n",
       "  <tbody>\n",
       "    <tr>\n",
       "      <th>0</th>\n",
       "      <td>North</td>\n",
       "      <td>A</td>\n",
       "      <td>12000</td>\n",
       "    </tr>\n",
       "    <tr>\n",
       "      <th>1</th>\n",
       "      <td>South</td>\n",
       "      <td>B</td>\n",
       "      <td>20000</td>\n",
       "    </tr>\n",
       "    <tr>\n",
       "      <th>2</th>\n",
       "      <td>East</td>\n",
       "      <td>A</td>\n",
       "      <td>15000</td>\n",
       "    </tr>\n",
       "    <tr>\n",
       "      <th>3</th>\n",
       "      <td>West</td>\n",
       "      <td>C</td>\n",
       "      <td>12000</td>\n",
       "    </tr>\n",
       "    <tr>\n",
       "      <th>4</th>\n",
       "      <td>Central</td>\n",
       "      <td>B</td>\n",
       "      <td>18000</td>\n",
       "    </tr>\n",
       "  </tbody>\n",
       "</table>\n",
       "</div>"
      ],
      "text/plain": [
       "    region product  sales_amount\n",
       "0    North       A         12000\n",
       "1    South       B         20000\n",
       "2     East       A         15000\n",
       "3     West       C         12000\n",
       "4  Central       B         18000"
      ]
     },
     "execution_count": 510,
     "metadata": {},
     "output_type": "execute_result"
    }
   ],
   "source": [
    "# Изменение значения\n",
    "sales.loc[(sales['region'] == 'North') & (sales['product'] == 'A'), 'sales_amount'] = 12000\n",
    "sales"
   ]
  },
  {
   "cell_type": "code",
   "execution_count": 511,
   "metadata": {},
   "outputs": [
    {
     "data": {
      "text/html": [
       "<div>\n",
       "<style scoped>\n",
       "    .dataframe tbody tr th:only-of-type {\n",
       "        vertical-align: middle;\n",
       "    }\n",
       "\n",
       "    .dataframe tbody tr th {\n",
       "        vertical-align: top;\n",
       "    }\n",
       "\n",
       "    .dataframe thead th {\n",
       "        text-align: right;\n",
       "    }\n",
       "</style>\n",
       "<table border=\"1\" class=\"dataframe\">\n",
       "  <thead>\n",
       "    <tr style=\"text-align: right;\">\n",
       "      <th></th>\n",
       "      <th>age</th>\n",
       "      <th>gender</th>\n",
       "      <th>income</th>\n",
       "    </tr>\n",
       "  </thead>\n",
       "  <tbody>\n",
       "    <tr>\n",
       "      <th>2</th>\n",
       "      <td>55</td>\n",
       "      <td>female</td>\n",
       "      <td>86793</td>\n",
       "    </tr>\n",
       "    <tr>\n",
       "      <th>4</th>\n",
       "      <td>50</td>\n",
       "      <td>male</td>\n",
       "      <td>23756</td>\n",
       "    </tr>\n",
       "    <tr>\n",
       "      <th>6</th>\n",
       "      <td>44</td>\n",
       "      <td>female</td>\n",
       "      <td>14311</td>\n",
       "    </tr>\n",
       "    <tr>\n",
       "      <th>8</th>\n",
       "      <td>48</td>\n",
       "      <td>female</td>\n",
       "      <td>65505</td>\n",
       "    </tr>\n",
       "    <tr>\n",
       "      <th>10</th>\n",
       "      <td>56</td>\n",
       "      <td>female</td>\n",
       "      <td>29070</td>\n",
       "    </tr>\n",
       "  </tbody>\n",
       "</table>\n",
       "</div>"
      ],
      "text/plain": [
       "    age  gender  income\n",
       "2    55  female   86793\n",
       "4    50    male   23756\n",
       "6    44  female   14311\n",
       "8    48  female   65505\n",
       "10   56  female   29070"
      ]
     },
     "execution_count": 511,
     "metadata": {},
     "output_type": "execute_result"
    }
   ],
   "source": [
    "import random\n",
    "\n",
    "random.seed(54)\n",
    "# Создаем DataFrame с данными о людях\n",
    "data = {'age': [random.randint(20, 60) for _ in range(100)],\n",
    "        'gender': [random.choice(['male', 'female']) for _ in range(100)],\n",
    "        'income': [random.randint(10000, 100000) for _ in range(100)]}\n",
    "df = pd.DataFrame(data)\n",
    "n, m = 2, 10\n",
    "df.loc[n:m+1:2]"
   ]
  },
  {
   "cell_type": "code",
   "execution_count": 512,
   "metadata": {},
   "outputs": [
    {
     "data": {
      "text/html": [
       "<div>\n",
       "<style scoped>\n",
       "    .dataframe tbody tr th:only-of-type {\n",
       "        vertical-align: middle;\n",
       "    }\n",
       "\n",
       "    .dataframe tbody tr th {\n",
       "        vertical-align: top;\n",
       "    }\n",
       "\n",
       "    .dataframe thead th {\n",
       "        text-align: right;\n",
       "    }\n",
       "</style>\n",
       "<table border=\"1\" class=\"dataframe\">\n",
       "  <thead>\n",
       "    <tr style=\"text-align: right;\">\n",
       "      <th></th>\n",
       "      <th>income</th>\n",
       "      <th>gender</th>\n",
       "    </tr>\n",
       "  </thead>\n",
       "  <tbody>\n",
       "    <tr>\n",
       "      <th>2</th>\n",
       "      <td>86793</td>\n",
       "      <td>female</td>\n",
       "    </tr>\n",
       "    <tr>\n",
       "      <th>3</th>\n",
       "      <td>45296</td>\n",
       "      <td>female</td>\n",
       "    </tr>\n",
       "    <tr>\n",
       "      <th>4</th>\n",
       "      <td>23756</td>\n",
       "      <td>male</td>\n",
       "    </tr>\n",
       "    <tr>\n",
       "      <th>5</th>\n",
       "      <td>61482</td>\n",
       "      <td>male</td>\n",
       "    </tr>\n",
       "    <tr>\n",
       "      <th>6</th>\n",
       "      <td>14311</td>\n",
       "      <td>female</td>\n",
       "    </tr>\n",
       "    <tr>\n",
       "      <th>7</th>\n",
       "      <td>72942</td>\n",
       "      <td>female</td>\n",
       "    </tr>\n",
       "    <tr>\n",
       "      <th>8</th>\n",
       "      <td>65505</td>\n",
       "      <td>female</td>\n",
       "    </tr>\n",
       "    <tr>\n",
       "      <th>9</th>\n",
       "      <td>50649</td>\n",
       "      <td>male</td>\n",
       "    </tr>\n",
       "    <tr>\n",
       "      <th>10</th>\n",
       "      <td>29070</td>\n",
       "      <td>female</td>\n",
       "    </tr>\n",
       "  </tbody>\n",
       "</table>\n",
       "</div>"
      ],
      "text/plain": [
       "    income  gender\n",
       "2    86793  female\n",
       "3    45296  female\n",
       "4    23756    male\n",
       "5    61482    male\n",
       "6    14311  female\n",
       "7    72942  female\n",
       "8    65505  female\n",
       "9    50649    male\n",
       "10   29070  female"
      ]
     },
     "execution_count": 512,
     "metadata": {},
     "output_type": "execute_result"
    }
   ],
   "source": [
    "df.loc[n:m, ['income', 'gender']]"
   ]
  },
  {
   "cell_type": "code",
   "execution_count": 513,
   "metadata": {},
   "outputs": [],
   "source": [
    "import string\n",
    "random.seed(7)\n",
    "# Генерируем случайные данные для DataFrame\n",
    "data = {'column1': [random.randint(0, 100) for _ in range(26)],\n",
    "        'column2': [random.uniform(0, 1) for _ in range(26)]}\n",
    "# Создаем DataFrame и присваиваем метки, упорядоченные по алфавиту\n",
    "df = pd.DataFrame(data, index=list(string.ascii_lowercase))\n",
    "# df.loc[slice(*input().split())]"
   ]
  },
  {
   "cell_type": "code",
   "execution_count": 514,
   "metadata": {},
   "outputs": [
    {
     "data": {
      "text/html": [
       "<div>\n",
       "<style scoped>\n",
       "    .dataframe tbody tr th:only-of-type {\n",
       "        vertical-align: middle;\n",
       "    }\n",
       "\n",
       "    .dataframe tbody tr th {\n",
       "        vertical-align: top;\n",
       "    }\n",
       "\n",
       "    .dataframe thead th {\n",
       "        text-align: right;\n",
       "    }\n",
       "</style>\n",
       "<table border=\"1\" class=\"dataframe\">\n",
       "  <thead>\n",
       "    <tr style=\"text-align: right;\">\n",
       "      <th></th>\n",
       "      <th>age</th>\n",
       "      <th>gender</th>\n",
       "      <th>income</th>\n",
       "    </tr>\n",
       "  </thead>\n",
       "  <tbody>\n",
       "    <tr>\n",
       "      <th>0</th>\n",
       "      <td>28</td>\n",
       "      <td>female</td>\n",
       "      <td>45802</td>\n",
       "    </tr>\n",
       "    <tr>\n",
       "      <th>1</th>\n",
       "      <td>48</td>\n",
       "      <td>male</td>\n",
       "      <td>81297</td>\n",
       "    </tr>\n",
       "    <tr>\n",
       "      <th>2</th>\n",
       "      <td>55</td>\n",
       "      <td>male</td>\n",
       "      <td>28666</td>\n",
       "    </tr>\n",
       "    <tr>\n",
       "      <th>3</th>\n",
       "      <td>39</td>\n",
       "      <td>male</td>\n",
       "      <td>22682</td>\n",
       "    </tr>\n",
       "    <tr>\n",
       "      <th>4</th>\n",
       "      <td>50</td>\n",
       "      <td>female</td>\n",
       "      <td>94613</td>\n",
       "    </tr>\n",
       "    <tr>\n",
       "      <th>5</th>\n",
       "      <td>51</td>\n",
       "      <td>female</td>\n",
       "      <td>44229</td>\n",
       "    </tr>\n",
       "    <tr>\n",
       "      <th>6</th>\n",
       "      <td>44</td>\n",
       "      <td>male</td>\n",
       "      <td>46443</td>\n",
       "    </tr>\n",
       "    <tr>\n",
       "      <th>7</th>\n",
       "      <td>34</td>\n",
       "      <td>female</td>\n",
       "      <td>67378</td>\n",
       "    </tr>\n",
       "    <tr>\n",
       "      <th>8</th>\n",
       "      <td>48</td>\n",
       "      <td>female</td>\n",
       "      <td>86894</td>\n",
       "    </tr>\n",
       "    <tr>\n",
       "      <th>9</th>\n",
       "      <td>41</td>\n",
       "      <td>female</td>\n",
       "      <td>14858</td>\n",
       "    </tr>\n",
       "  </tbody>\n",
       "</table>\n",
       "</div>"
      ],
      "text/plain": [
       "   age  gender  income\n",
       "0   28  female   45802\n",
       "1   48    male   81297\n",
       "2   55    male   28666\n",
       "3   39    male   22682\n",
       "4   50  female   94613\n",
       "5   51  female   44229\n",
       "6   44    male   46443\n",
       "7   34  female   67378\n",
       "8   48  female   86894\n",
       "9   41  female   14858"
      ]
     },
     "execution_count": 514,
     "metadata": {},
     "output_type": "execute_result"
    }
   ],
   "source": [
    "random.seed(54)\n",
    "# Создаем DataFrame с данными о людях\n",
    "data = {'age': [random.randint(20, 60) for _ in range(10)],\n",
    "        'gender': [random.choice(['male', 'female']) for _ in range(10)],\n",
    "        'income': [random.randint(10000, 100000) for _ in range(10)]}\n",
    "df = pd.DataFrame(data)\n",
    "df"
   ]
  },
  {
   "cell_type": "code",
   "execution_count": 515,
   "metadata": {},
   "outputs": [
    {
     "data": {
      "text/html": [
       "<div>\n",
       "<style scoped>\n",
       "    .dataframe tbody tr th:only-of-type {\n",
       "        vertical-align: middle;\n",
       "    }\n",
       "\n",
       "    .dataframe tbody tr th {\n",
       "        vertical-align: top;\n",
       "    }\n",
       "\n",
       "    .dataframe thead th {\n",
       "        text-align: right;\n",
       "    }\n",
       "</style>\n",
       "<table border=\"1\" class=\"dataframe\">\n",
       "  <thead>\n",
       "    <tr style=\"text-align: right;\">\n",
       "      <th></th>\n",
       "      <th>age</th>\n",
       "      <th>gender</th>\n",
       "      <th>income</th>\n",
       "    </tr>\n",
       "  </thead>\n",
       "  <tbody>\n",
       "    <tr>\n",
       "      <th>0</th>\n",
       "      <td>28</td>\n",
       "      <td>female</td>\n",
       "      <td>0</td>\n",
       "    </tr>\n",
       "    <tr>\n",
       "      <th>1</th>\n",
       "      <td>48</td>\n",
       "      <td>male</td>\n",
       "      <td>81297</td>\n",
       "    </tr>\n",
       "    <tr>\n",
       "      <th>2</th>\n",
       "      <td>55</td>\n",
       "      <td>male</td>\n",
       "      <td>28666</td>\n",
       "    </tr>\n",
       "    <tr>\n",
       "      <th>3</th>\n",
       "      <td>39</td>\n",
       "      <td>male</td>\n",
       "      <td>22682</td>\n",
       "    </tr>\n",
       "    <tr>\n",
       "      <th>4</th>\n",
       "      <td>50</td>\n",
       "      <td>female</td>\n",
       "      <td>94613</td>\n",
       "    </tr>\n",
       "    <tr>\n",
       "      <th>5</th>\n",
       "      <td>51</td>\n",
       "      <td>female</td>\n",
       "      <td>44229</td>\n",
       "    </tr>\n",
       "    <tr>\n",
       "      <th>6</th>\n",
       "      <td>44</td>\n",
       "      <td>male</td>\n",
       "      <td>46443</td>\n",
       "    </tr>\n",
       "    <tr>\n",
       "      <th>7</th>\n",
       "      <td>34</td>\n",
       "      <td>female</td>\n",
       "      <td>0</td>\n",
       "    </tr>\n",
       "    <tr>\n",
       "      <th>8</th>\n",
       "      <td>48</td>\n",
       "      <td>female</td>\n",
       "      <td>86894</td>\n",
       "    </tr>\n",
       "    <tr>\n",
       "      <th>9</th>\n",
       "      <td>41</td>\n",
       "      <td>female</td>\n",
       "      <td>14858</td>\n",
       "    </tr>\n",
       "  </tbody>\n",
       "</table>\n",
       "</div>"
      ],
      "text/plain": [
       "   age  gender  income\n",
       "0   28  female       0\n",
       "1   48    male   81297\n",
       "2   55    male   28666\n",
       "3   39    male   22682\n",
       "4   50  female   94613\n",
       "5   51  female   44229\n",
       "6   44    male   46443\n",
       "7   34  female       0\n",
       "8   48  female   86894\n",
       "9   41  female   14858"
      ]
     },
     "execution_count": 515,
     "metadata": {},
     "output_type": "execute_result"
    }
   ],
   "source": [
    "# Присваивание при условии\n",
    "df.loc[df.age < 38, 'income'] = 0\n",
    "df"
   ]
  },
  {
   "cell_type": "code",
   "execution_count": 516,
   "metadata": {},
   "outputs": [
    {
     "data": {
      "text/html": [
       "<div>\n",
       "<style scoped>\n",
       "    .dataframe tbody tr th:only-of-type {\n",
       "        vertical-align: middle;\n",
       "    }\n",
       "\n",
       "    .dataframe tbody tr th {\n",
       "        vertical-align: top;\n",
       "    }\n",
       "\n",
       "    .dataframe thead th {\n",
       "        text-align: right;\n",
       "    }\n",
       "</style>\n",
       "<table border=\"1\" class=\"dataframe\">\n",
       "  <thead>\n",
       "    <tr style=\"text-align: right;\">\n",
       "      <th></th>\n",
       "      <th>date</th>\n",
       "      <th>quantity</th>\n",
       "      <th>sales</th>\n",
       "    </tr>\n",
       "  </thead>\n",
       "  <tbody>\n",
       "    <tr>\n",
       "      <th>0</th>\n",
       "      <td>2022-08-04</td>\n",
       "      <td>3</td>\n",
       "      <td>938</td>\n",
       "    </tr>\n",
       "    <tr>\n",
       "      <th>1</th>\n",
       "      <td>2022-02-13</td>\n",
       "      <td>2</td>\n",
       "      <td>169</td>\n",
       "    </tr>\n",
       "    <tr>\n",
       "      <th>2</th>\n",
       "      <td>2022-11-07</td>\n",
       "      <td>5</td>\n",
       "      <td>419</td>\n",
       "    </tr>\n",
       "    <tr>\n",
       "      <th>3</th>\n",
       "      <td>2022-03-30</td>\n",
       "      <td>1</td>\n",
       "      <td>834</td>\n",
       "    </tr>\n",
       "    <tr>\n",
       "      <th>4</th>\n",
       "      <td>2022-09-10</td>\n",
       "      <td>5</td>\n",
       "      <td>709</td>\n",
       "    </tr>\n",
       "  </tbody>\n",
       "</table>\n",
       "</div>"
      ],
      "text/plain": [
       "        date  quantity  sales\n",
       "0 2022-08-04         3    938\n",
       "1 2022-02-13         2    169\n",
       "2 2022-11-07         5    419\n",
       "3 2022-03-30         1    834\n",
       "4 2022-09-10         5    709"
      ]
     },
     "execution_count": 516,
     "metadata": {},
     "output_type": "execute_result"
    }
   ],
   "source": [
    "import pandas as pd\n",
    "import numpy as np\n",
    "import datetime as dt\n",
    "\n",
    "np.random.seed(32)\n",
    "start_date = dt.date(2022, 1, 1)\n",
    "end_date = dt.date(2022, 12, 31)\n",
    "date_range = pd.date_range(start_date, end_date)\n",
    "data = {'date': np.random.choice(date_range, 50),\n",
    "        'quantity': np.random.randint(1, 10, 50),\n",
    "        'sales': np.random.randint(100, 1000, 50)}\n",
    "df = pd.DataFrame(data)\n",
    "df.head()"
   ]
  },
  {
   "cell_type": "code",
   "execution_count": 517,
   "metadata": {},
   "outputs": [
    {
     "data": {
      "text/html": [
       "<div>\n",
       "<style scoped>\n",
       "    .dataframe tbody tr th:only-of-type {\n",
       "        vertical-align: middle;\n",
       "    }\n",
       "\n",
       "    .dataframe tbody tr th {\n",
       "        vertical-align: top;\n",
       "    }\n",
       "\n",
       "    .dataframe thead th {\n",
       "        text-align: right;\n",
       "    }\n",
       "</style>\n",
       "<table border=\"1\" class=\"dataframe\">\n",
       "  <thead>\n",
       "    <tr style=\"text-align: right;\">\n",
       "      <th></th>\n",
       "      <th>date</th>\n",
       "      <th>quantity</th>\n",
       "      <th>sales</th>\n",
       "    </tr>\n",
       "  </thead>\n",
       "  <tbody>\n",
       "    <tr>\n",
       "      <th>5</th>\n",
       "      <td>2022-03-13</td>\n",
       "      <td>3</td>\n",
       "      <td>106</td>\n",
       "    </tr>\n",
       "    <tr>\n",
       "      <th>13</th>\n",
       "      <td>2022-03-07</td>\n",
       "      <td>7</td>\n",
       "      <td>577</td>\n",
       "    </tr>\n",
       "    <tr>\n",
       "      <th>24</th>\n",
       "      <td>2022-03-19</td>\n",
       "      <td>3</td>\n",
       "      <td>107</td>\n",
       "    </tr>\n",
       "    <tr>\n",
       "      <th>26</th>\n",
       "      <td>2022-03-04</td>\n",
       "      <td>2</td>\n",
       "      <td>653</td>\n",
       "    </tr>\n",
       "    <tr>\n",
       "      <th>33</th>\n",
       "      <td>2022-03-06</td>\n",
       "      <td>1</td>\n",
       "      <td>709</td>\n",
       "    </tr>\n",
       "    <tr>\n",
       "      <th>37</th>\n",
       "      <td>2022-03-04</td>\n",
       "      <td>1</td>\n",
       "      <td>497</td>\n",
       "    </tr>\n",
       "    <tr>\n",
       "      <th>42</th>\n",
       "      <td>2022-03-16</td>\n",
       "      <td>9</td>\n",
       "      <td>275</td>\n",
       "    </tr>\n",
       "    <tr>\n",
       "      <th>43</th>\n",
       "      <td>2022-03-03</td>\n",
       "      <td>3</td>\n",
       "      <td>344</td>\n",
       "    </tr>\n",
       "  </tbody>\n",
       "</table>\n",
       "</div>"
      ],
      "text/plain": [
       "         date  quantity  sales\n",
       "5  2022-03-13         3    106\n",
       "13 2022-03-07         7    577\n",
       "24 2022-03-19         3    107\n",
       "26 2022-03-04         2    653\n",
       "33 2022-03-06         1    709\n",
       "37 2022-03-04         1    497\n",
       "42 2022-03-16         9    275\n",
       "43 2022-03-03         3    344"
      ]
     },
     "execution_count": 517,
     "metadata": {},
     "output_type": "execute_result"
    }
   ],
   "source": [
    "# dates = pd.date_range(*input().split())\n",
    "a, b = '2022-03-01', '2022-03-23'\n",
    "dates = pd.date_range(a, b)\n",
    "df[df['date'].isin(dates) == True]"
   ]
  },
  {
   "cell_type": "code",
   "execution_count": 518,
   "metadata": {},
   "outputs": [
    {
     "data": {
      "text/html": [
       "<div>\n",
       "<style scoped>\n",
       "    .dataframe tbody tr th:only-of-type {\n",
       "        vertical-align: middle;\n",
       "    }\n",
       "\n",
       "    .dataframe tbody tr th {\n",
       "        vertical-align: top;\n",
       "    }\n",
       "\n",
       "    .dataframe thead th {\n",
       "        text-align: right;\n",
       "    }\n",
       "</style>\n",
       "<table border=\"1\" class=\"dataframe\">\n",
       "  <thead>\n",
       "    <tr style=\"text-align: right;\">\n",
       "      <th></th>\n",
       "      <th>date</th>\n",
       "      <th>quantity</th>\n",
       "      <th>sales</th>\n",
       "    </tr>\n",
       "  </thead>\n",
       "  <tbody>\n",
       "    <tr>\n",
       "      <th>5</th>\n",
       "      <td>2022-03-13</td>\n",
       "      <td>3</td>\n",
       "      <td>106</td>\n",
       "    </tr>\n",
       "    <tr>\n",
       "      <th>13</th>\n",
       "      <td>2022-03-07</td>\n",
       "      <td>7</td>\n",
       "      <td>577</td>\n",
       "    </tr>\n",
       "    <tr>\n",
       "      <th>24</th>\n",
       "      <td>2022-03-19</td>\n",
       "      <td>3</td>\n",
       "      <td>107</td>\n",
       "    </tr>\n",
       "    <tr>\n",
       "      <th>26</th>\n",
       "      <td>2022-03-04</td>\n",
       "      <td>2</td>\n",
       "      <td>653</td>\n",
       "    </tr>\n",
       "    <tr>\n",
       "      <th>33</th>\n",
       "      <td>2022-03-06</td>\n",
       "      <td>1</td>\n",
       "      <td>709</td>\n",
       "    </tr>\n",
       "    <tr>\n",
       "      <th>37</th>\n",
       "      <td>2022-03-04</td>\n",
       "      <td>1</td>\n",
       "      <td>497</td>\n",
       "    </tr>\n",
       "    <tr>\n",
       "      <th>42</th>\n",
       "      <td>2022-03-16</td>\n",
       "      <td>9</td>\n",
       "      <td>275</td>\n",
       "    </tr>\n",
       "    <tr>\n",
       "      <th>43</th>\n",
       "      <td>2022-03-03</td>\n",
       "      <td>3</td>\n",
       "      <td>344</td>\n",
       "    </tr>\n",
       "  </tbody>\n",
       "</table>\n",
       "</div>"
      ],
      "text/plain": [
       "         date  quantity  sales\n",
       "5  2022-03-13         3    106\n",
       "13 2022-03-07         7    577\n",
       "24 2022-03-19         3    107\n",
       "26 2022-03-04         2    653\n",
       "33 2022-03-06         1    709\n",
       "37 2022-03-04         1    497\n",
       "42 2022-03-16         9    275\n",
       "43 2022-03-03         3    344"
      ]
     },
     "execution_count": 518,
     "metadata": {},
     "output_type": "execute_result"
    }
   ],
   "source": [
    "df.loc[df['date'].between(a, b)]"
   ]
  },
  {
   "cell_type": "code",
   "execution_count": 519,
   "metadata": {},
   "outputs": [],
   "source": [
    "import pandas as pd\n",
    "import numpy as np\n",
    "import datetime as dt\n",
    "\n",
    "np.random.seed(32)\n",
    "start_date = dt.date(2022, 1, 1)\n",
    "end_date = dt.date(2022, 12, 31)\n",
    "date_range = pd.date_range(start_date, end_date)\n",
    "data = {'date': np.random.choice(date_range, 50),\n",
    "        'quantity': np.random.randint(1, 10, 50),\n",
    "        'sales': np.random.randint(100, 1000, 50)}\n",
    "df = pd.DataFrame(data)"
   ]
  },
  {
   "cell_type": "code",
   "execution_count": 520,
   "metadata": {},
   "outputs": [
    {
     "data": {
      "text/html": [
       "<div>\n",
       "<style scoped>\n",
       "    .dataframe tbody tr th:only-of-type {\n",
       "        vertical-align: middle;\n",
       "    }\n",
       "\n",
       "    .dataframe tbody tr th {\n",
       "        vertical-align: top;\n",
       "    }\n",
       "\n",
       "    .dataframe thead th {\n",
       "        text-align: right;\n",
       "    }\n",
       "</style>\n",
       "<table border=\"1\" class=\"dataframe\">\n",
       "  <thead>\n",
       "    <tr style=\"text-align: right;\">\n",
       "      <th></th>\n",
       "      <th>date</th>\n",
       "      <th>quantity</th>\n",
       "      <th>sales</th>\n",
       "    </tr>\n",
       "  </thead>\n",
       "  <tbody>\n",
       "    <tr>\n",
       "      <th>0</th>\n",
       "      <td>2022-08-04</td>\n",
       "      <td>3</td>\n",
       "      <td>527.24</td>\n",
       "    </tr>\n",
       "    <tr>\n",
       "      <th>1</th>\n",
       "      <td>2022-02-13</td>\n",
       "      <td>2</td>\n",
       "      <td>0.00</td>\n",
       "    </tr>\n",
       "    <tr>\n",
       "      <th>2</th>\n",
       "      <td>2022-11-07</td>\n",
       "      <td>5</td>\n",
       "      <td>0.00</td>\n",
       "    </tr>\n",
       "    <tr>\n",
       "      <th>3</th>\n",
       "      <td>2022-03-30</td>\n",
       "      <td>1</td>\n",
       "      <td>527.24</td>\n",
       "    </tr>\n",
       "    <tr>\n",
       "      <th>4</th>\n",
       "      <td>2022-09-10</td>\n",
       "      <td>5</td>\n",
       "      <td>527.24</td>\n",
       "    </tr>\n",
       "  </tbody>\n",
       "</table>\n",
       "</div>"
      ],
      "text/plain": [
       "        date  quantity   sales\n",
       "0 2022-08-04         3  527.24\n",
       "1 2022-02-13         2    0.00\n",
       "2 2022-11-07         5    0.00\n",
       "3 2022-03-30         1  527.24\n",
       "4 2022-09-10         5  527.24"
      ]
     },
     "execution_count": 520,
     "metadata": {},
     "output_type": "execute_result"
    }
   ],
   "source": [
    "sales_mean = df['sales'].mean()\n",
    "# df.loc[df.sales < sales_mean, 'sales'] = 0\n",
    "# df.loc[df.sales > sales_mean, 'sales'] = sales_mean\n",
    "df.sales = np.where(df.sales < sales_mean, 0, sales_mean)\n",
    "df.sales = df.sales.apply(lambda x: 0 if x < sales_mean else sales_mean)\n",
    "df.head(5)"
   ]
  },
  {
   "cell_type": "markdown",
   "metadata": {},
   "source": [
    "# 4.1.1 Особенности арифметических операций в Pandas"
   ]
  },
  {
   "cell_type": "code",
   "execution_count": 521,
   "metadata": {},
   "outputs": [],
   "source": [
    "# add() - сложение\n",
    "# sub() - вычитание\n",
    "# mul() - умножение\n",
    "# div() - деление\n",
    "# floordiv() - целочисленное деление\n",
    "# pow() - возведение в степень"
   ]
  },
  {
   "cell_type": "code",
   "execution_count": 522,
   "metadata": {},
   "outputs": [
    {
     "name": "stdout",
     "output_type": "stream",
     "text": [
      "a    5.0\n",
      "b    NaN\n",
      "c    8.0\n",
      "d    NaN\n",
      "dtype: float64\n"
     ]
    }
   ],
   "source": [
    "# Сложение Series\n",
    "s1 = pd.Series([1, 2, 3], index=['a', 'b', 'c'])\n",
    "s2 = pd.Series([4, 5, 6], index=['a', 'c', 'd'])\n",
    "s3 = s1 + s2\n",
    "print(s3)"
   ]
  },
  {
   "cell_type": "code",
   "execution_count": 523,
   "metadata": {},
   "outputs": [
    {
     "data": {
      "text/html": [
       "<div>\n",
       "<style scoped>\n",
       "    .dataframe tbody tr th:only-of-type {\n",
       "        vertical-align: middle;\n",
       "    }\n",
       "\n",
       "    .dataframe tbody tr th {\n",
       "        vertical-align: top;\n",
       "    }\n",
       "\n",
       "    .dataframe thead th {\n",
       "        text-align: right;\n",
       "    }\n",
       "</style>\n",
       "<table border=\"1\" class=\"dataframe\">\n",
       "  <thead>\n",
       "    <tr style=\"text-align: right;\">\n",
       "      <th></th>\n",
       "      <th>a</th>\n",
       "      <th>b</th>\n",
       "      <th>c</th>\n",
       "      <th>d</th>\n",
       "    </tr>\n",
       "  </thead>\n",
       "  <tbody>\n",
       "    <tr>\n",
       "      <th>0</th>\n",
       "      <td>NaN</td>\n",
       "      <td>-1.442394</td>\n",
       "      <td>NaN</td>\n",
       "      <td>NaN</td>\n",
       "    </tr>\n",
       "    <tr>\n",
       "      <th>1</th>\n",
       "      <td>NaN</td>\n",
       "      <td>-2.569641</td>\n",
       "      <td>NaN</td>\n",
       "      <td>NaN</td>\n",
       "    </tr>\n",
       "    <tr>\n",
       "      <th>2</th>\n",
       "      <td>NaN</td>\n",
       "      <td>NaN</td>\n",
       "      <td>NaN</td>\n",
       "      <td>NaN</td>\n",
       "    </tr>\n",
       "  </tbody>\n",
       "</table>\n",
       "</div>"
      ],
      "text/plain": [
       "    a         b   c   d\n",
       "0 NaN -1.442394 NaN NaN\n",
       "1 NaN -2.569641 NaN NaN\n",
       "2 NaN       NaN NaN NaN"
      ]
     },
     "execution_count": 523,
     "metadata": {},
     "output_type": "execute_result"
    }
   ],
   "source": [
    "# Сложение DataFrame\n",
    "df1 = pd.DataFrame(np.random.randn(3, 2), columns=['a', 'b'])\n",
    "df2 = pd.DataFrame(np.random.randn(2, 3), columns=['b', 'c', 'd'])\n",
    "df3 = df1 + df2\n",
    "df3"
   ]
  },
  {
   "cell_type": "code",
   "execution_count": 524,
   "metadata": {},
   "outputs": [
    {
     "name": "stdout",
     "output_type": "stream",
     "text": [
      "0    2\n",
      "1    3\n",
      "2    4\n",
      "dtype: int64\n",
      "   a  b\n",
      "0  2  2\n",
      "1  0  4\n",
      "2  2  4\n"
     ]
    }
   ],
   "source": [
    "s = pd.Series([1, 2, 3])\n",
    "df = pd.DataFrame(np.random.randint(4, size=(3, 2)), columns=['a', 'b'])\n",
    "s1 = s + 1\n",
    "df1 = df * 2\n",
    "\n",
    "print(s1)\n",
    "print(df1)"
   ]
  },
  {
   "cell_type": "code",
   "execution_count": 525,
   "metadata": {},
   "outputs": [
    {
     "data": {
      "text/plain": [
       "a    1.0\n",
       "b    6.0\n",
       "c    8.0\n",
       "d    6.0\n",
       "dtype: float64"
      ]
     },
     "execution_count": 525,
     "metadata": {},
     "output_type": "execute_result"
    }
   ],
   "source": [
    "# Создаем два объекта типа Series с несовпадающими индексами\n",
    "s1 = pd.Series([1, 2, 3], index=['a', 'b', 'c'])\n",
    "s2 = pd.Series([4, 5, 6], index=['b', 'c', 'd'])\n",
    "\n",
    "# Выполняем операцию сложения с помощью метода add()\n",
    "# Отсутствующие значения (NaN) в одном из объектов Series заменены на 0\n",
    "s3 = s1.add(s2, fill_value=0)\n",
    "s3"
   ]
  },
  {
   "cell_type": "code",
   "execution_count": 526,
   "metadata": {},
   "outputs": [
    {
     "data": {
      "text/plain": [
       "a    1.0\n",
       "b   -2.0\n",
       "c   -2.0\n",
       "d   -6.0\n",
       "dtype: float64"
      ]
     },
     "execution_count": 526,
     "metadata": {},
     "output_type": "execute_result"
    }
   ],
   "source": [
    "# Выполняем операцию вычитания с помощью метода sub()\n",
    "# Отсутствующие значения (NaN) в одном из объектов Series заменены на 0\n",
    "s3 = s1.sub(s2, fill_value=0)\n",
    "s3"
   ]
  },
  {
   "cell_type": "code",
   "execution_count": 527,
   "metadata": {},
   "outputs": [],
   "source": [
    "import pandas as pd\n",
    "\n",
    "# создаем первый DataFrame с выручкой от продаж в первом магазине\n",
    "sales1 = pd.DataFrame({'Дата': ['2022-01-01', '2022-01-02', '2022-01-03'],\n",
    "                       'Выручка': [1000, 2000, 1500]})\n",
    "sales1.set_index('Дата', inplace=True)\n",
    "\n",
    "# создаем второй DataFrame с выручкой от продаж во втором магазине\n",
    "sales2 = pd.DataFrame({'Дата': ['2022-01-01', '2022-01-02', '2022-01-03'],\n",
    "                       'Выручка': [1500, 2500, 1800]})\n",
    "sales2.set_index('Дата', inplace=True)"
   ]
  },
  {
   "cell_type": "code",
   "execution_count": 528,
   "metadata": {},
   "outputs": [
    {
     "data": {
      "text/html": [
       "<div>\n",
       "<style scoped>\n",
       "    .dataframe tbody tr th:only-of-type {\n",
       "        vertical-align: middle;\n",
       "    }\n",
       "\n",
       "    .dataframe tbody tr th {\n",
       "        vertical-align: top;\n",
       "    }\n",
       "\n",
       "    .dataframe thead th {\n",
       "        text-align: right;\n",
       "    }\n",
       "</style>\n",
       "<table border=\"1\" class=\"dataframe\">\n",
       "  <thead>\n",
       "    <tr style=\"text-align: right;\">\n",
       "      <th></th>\n",
       "      <th>Итоговый баланс</th>\n",
       "    </tr>\n",
       "    <tr>\n",
       "      <th>Дата</th>\n",
       "      <th></th>\n",
       "    </tr>\n",
       "  </thead>\n",
       "  <tbody>\n",
       "    <tr>\n",
       "      <th>2022-01-01</th>\n",
       "      <td>-5000.0</td>\n",
       "    </tr>\n",
       "    <tr>\n",
       "      <th>2022-02-01</th>\n",
       "      <td>12000.0</td>\n",
       "    </tr>\n",
       "    <tr>\n",
       "      <th>2022-03-01</th>\n",
       "      <td>12000.0</td>\n",
       "    </tr>\n",
       "  </tbody>\n",
       "</table>\n",
       "</div>"
      ],
      "text/plain": [
       "            Итоговый баланс\n",
       "Дата                       \n",
       "2022-01-01          -5000.0\n",
       "2022-02-01          12000.0\n",
       "2022-03-01          12000.0"
      ]
     },
     "execution_count": 528,
     "metadata": {},
     "output_type": "execute_result"
    }
   ],
   "source": [
    "# создаем первый DataFrame с доходами\n",
    "income = pd.DataFrame({'Дата': ['2022-01-01', '2022-02-01', '2022-03-01'],\n",
    "                       'Доходы': [np.nan, 12000, 20000]})\n",
    "income.set_index('Дата', inplace=True)\n",
    "\n",
    "# создаем второй DataFrame с расходами\n",
    "expenses = pd.DataFrame({'Дата': ['2022-01-01', '2022-02-01', '2022-03-01'],\n",
    "                       'Расходы': [5000, np.nan, 8000]})\n",
    "expenses.set_index('Дата', inplace=True)\n",
    "# баланс на конец дня\n",
    "df = pd.DataFrame(income['Доходы'].sub(expenses['Расходы'], fill_value=0), columns=['Итоговый баланс'])\n",
    "df"
   ]
  },
  {
   "cell_type": "markdown",
   "metadata": {},
   "source": [
    "# 4.1.2 Арифметические операции между Series и DataFrame"
   ]
  },
  {
   "cell_type": "code",
   "execution_count": 529,
   "metadata": {},
   "outputs": [],
   "source": [
    "# add() - сложение\n",
    "# sub() - вычитание\n",
    "# mul() - умножение\n",
    "# div() - деление\n",
    "# floordiv() - целочисленное деление\n",
    "# pow() - возведение в степень"
   ]
  },
  {
   "cell_type": "code",
   "execution_count": 530,
   "metadata": {},
   "outputs": [
    {
     "name": "stdout",
     "output_type": "stream",
     "text": [
      "   A   B    C\n",
      "0  1  10  100\n",
      "1  2  20  200\n",
      "2  3  30  300\n",
      "3  4  40  400\n",
      "A    0.1\n",
      "B    0.2\n",
      "C    0.3\n",
      "dtype: float64\n"
     ]
    }
   ],
   "source": [
    "df = pd.DataFrame({'A': [1, 2, 3, 4], 'B': [10, 20, 30, 40], 'C': [100, 200, 300, 400]})\n",
    "print(df)\n",
    "s = pd.Series([0.1, 0.2, 0.3], index=['A', 'B', 'C'])\n",
    "print(s)"
   ]
  },
  {
   "cell_type": "code",
   "execution_count": 531,
   "metadata": {},
   "outputs": [
    {
     "data": {
      "text/html": [
       "<div>\n",
       "<style scoped>\n",
       "    .dataframe tbody tr th:only-of-type {\n",
       "        vertical-align: middle;\n",
       "    }\n",
       "\n",
       "    .dataframe tbody tr th {\n",
       "        vertical-align: top;\n",
       "    }\n",
       "\n",
       "    .dataframe thead th {\n",
       "        text-align: right;\n",
       "    }\n",
       "</style>\n",
       "<table border=\"1\" class=\"dataframe\">\n",
       "  <thead>\n",
       "    <tr style=\"text-align: right;\">\n",
       "      <th></th>\n",
       "      <th>A</th>\n",
       "      <th>B</th>\n",
       "      <th>C</th>\n",
       "    </tr>\n",
       "  </thead>\n",
       "  <tbody>\n",
       "    <tr>\n",
       "      <th>0</th>\n",
       "      <td>1.1</td>\n",
       "      <td>10.2</td>\n",
       "      <td>100.3</td>\n",
       "    </tr>\n",
       "    <tr>\n",
       "      <th>1</th>\n",
       "      <td>2.1</td>\n",
       "      <td>20.2</td>\n",
       "      <td>200.3</td>\n",
       "    </tr>\n",
       "    <tr>\n",
       "      <th>2</th>\n",
       "      <td>3.1</td>\n",
       "      <td>30.2</td>\n",
       "      <td>300.3</td>\n",
       "    </tr>\n",
       "    <tr>\n",
       "      <th>3</th>\n",
       "      <td>4.1</td>\n",
       "      <td>40.2</td>\n",
       "      <td>400.3</td>\n",
       "    </tr>\n",
       "  </tbody>\n",
       "</table>\n",
       "</div>"
      ],
      "text/plain": [
       "     A     B      C\n",
       "0  1.1  10.2  100.3\n",
       "1  2.1  20.2  200.3\n",
       "2  3.1  30.2  300.3\n",
       "3  4.1  40.2  400.3"
      ]
     },
     "execution_count": 531,
     "metadata": {},
     "output_type": "execute_result"
    }
   ],
   "source": [
    "# Сложение значений в столбцах DataFrame со значениями в строках Series\n",
    "# Индексы совпадают\n",
    "df + s"
   ]
  },
  {
   "cell_type": "code",
   "execution_count": 532,
   "metadata": {},
   "outputs": [
    {
     "name": "stdout",
     "output_type": "stream",
     "text": [
      "   A   B    C\n",
      "a  1  10  100\n",
      "b  2  20  200\n",
      "c  3  30  300\n",
      "d  4  40  400\n",
      "B    0.1\n",
      "C    0.2\n",
      "D    0.3\n",
      "E    0.4\n",
      "dtype: float64\n"
     ]
    }
   ],
   "source": [
    "df2 = pd.DataFrame({'A': [1, 2, 3, 4], 'B': [10, 20, 30, 40], 'C': [100, 200, 300, 400]}, index=['a', 'b', 'c', 'd'])\n",
    "print(df2)\n",
    "s3 = pd.Series([0.1, 0.2, 0.3, 0.4], index=['B', 'C', 'D', 'E'])\n",
    "print(s3)"
   ]
  },
  {
   "cell_type": "code",
   "execution_count": 533,
   "metadata": {},
   "outputs": [
    {
     "data": {
      "text/html": [
       "<div>\n",
       "<style scoped>\n",
       "    .dataframe tbody tr th:only-of-type {\n",
       "        vertical-align: middle;\n",
       "    }\n",
       "\n",
       "    .dataframe tbody tr th {\n",
       "        vertical-align: top;\n",
       "    }\n",
       "\n",
       "    .dataframe thead th {\n",
       "        text-align: right;\n",
       "    }\n",
       "</style>\n",
       "<table border=\"1\" class=\"dataframe\">\n",
       "  <thead>\n",
       "    <tr style=\"text-align: right;\">\n",
       "      <th></th>\n",
       "      <th>A</th>\n",
       "      <th>B</th>\n",
       "      <th>C</th>\n",
       "      <th>D</th>\n",
       "      <th>E</th>\n",
       "    </tr>\n",
       "  </thead>\n",
       "  <tbody>\n",
       "    <tr>\n",
       "      <th>a</th>\n",
       "      <td>NaN</td>\n",
       "      <td>10.1</td>\n",
       "      <td>100.2</td>\n",
       "      <td>NaN</td>\n",
       "      <td>NaN</td>\n",
       "    </tr>\n",
       "    <tr>\n",
       "      <th>b</th>\n",
       "      <td>NaN</td>\n",
       "      <td>20.1</td>\n",
       "      <td>200.2</td>\n",
       "      <td>NaN</td>\n",
       "      <td>NaN</td>\n",
       "    </tr>\n",
       "    <tr>\n",
       "      <th>c</th>\n",
       "      <td>NaN</td>\n",
       "      <td>30.1</td>\n",
       "      <td>300.2</td>\n",
       "      <td>NaN</td>\n",
       "      <td>NaN</td>\n",
       "    </tr>\n",
       "    <tr>\n",
       "      <th>d</th>\n",
       "      <td>NaN</td>\n",
       "      <td>40.1</td>\n",
       "      <td>400.2</td>\n",
       "      <td>NaN</td>\n",
       "      <td>NaN</td>\n",
       "    </tr>\n",
       "  </tbody>\n",
       "</table>\n",
       "</div>"
      ],
      "text/plain": [
       "    A     B      C   D   E\n",
       "a NaN  10.1  100.2 NaN NaN\n",
       "b NaN  20.1  200.2 NaN NaN\n",
       "c NaN  30.1  300.2 NaN NaN\n",
       "d NaN  40.1  400.2 NaN NaN"
      ]
     },
     "execution_count": 533,
     "metadata": {},
     "output_type": "execute_result"
    }
   ],
   "source": [
    "# Индексы не совпадают\n",
    "df2 + s3"
   ]
  },
  {
   "cell_type": "code",
   "execution_count": 534,
   "metadata": {},
   "outputs": [
    {
     "data": {
      "text/html": [
       "<div>\n",
       "<style scoped>\n",
       "    .dataframe tbody tr th:only-of-type {\n",
       "        vertical-align: middle;\n",
       "    }\n",
       "\n",
       "    .dataframe tbody tr th {\n",
       "        vertical-align: top;\n",
       "    }\n",
       "\n",
       "    .dataframe thead th {\n",
       "        text-align: right;\n",
       "    }\n",
       "</style>\n",
       "<table border=\"1\" class=\"dataframe\">\n",
       "  <thead>\n",
       "    <tr style=\"text-align: right;\">\n",
       "      <th></th>\n",
       "      <th>A</th>\n",
       "      <th>B</th>\n",
       "      <th>C</th>\n",
       "      <th>D</th>\n",
       "      <th>E</th>\n",
       "    </tr>\n",
       "  </thead>\n",
       "  <tbody>\n",
       "    <tr>\n",
       "      <th>a</th>\n",
       "      <td>0.0</td>\n",
       "      <td>10.1</td>\n",
       "      <td>100.2</td>\n",
       "      <td>0.0</td>\n",
       "      <td>0.0</td>\n",
       "    </tr>\n",
       "    <tr>\n",
       "      <th>b</th>\n",
       "      <td>0.0</td>\n",
       "      <td>20.1</td>\n",
       "      <td>200.2</td>\n",
       "      <td>0.0</td>\n",
       "      <td>0.0</td>\n",
       "    </tr>\n",
       "    <tr>\n",
       "      <th>c</th>\n",
       "      <td>0.0</td>\n",
       "      <td>30.1</td>\n",
       "      <td>300.2</td>\n",
       "      <td>0.0</td>\n",
       "      <td>0.0</td>\n",
       "    </tr>\n",
       "    <tr>\n",
       "      <th>d</th>\n",
       "      <td>0.0</td>\n",
       "      <td>40.1</td>\n",
       "      <td>400.2</td>\n",
       "      <td>0.0</td>\n",
       "      <td>0.0</td>\n",
       "    </tr>\n",
       "  </tbody>\n",
       "</table>\n",
       "</div>"
      ],
      "text/plain": [
       "     A     B      C    D    E\n",
       "a  0.0  10.1  100.2  0.0  0.0\n",
       "b  0.0  20.1  200.2  0.0  0.0\n",
       "c  0.0  30.1  300.2  0.0  0.0\n",
       "d  0.0  40.1  400.2  0.0  0.0"
      ]
     },
     "execution_count": 534,
     "metadata": {},
     "output_type": "execute_result"
    }
   ],
   "source": [
    "df2.add(s3).fillna(0)"
   ]
  },
  {
   "cell_type": "code",
   "execution_count": 535,
   "metadata": {},
   "outputs": [
    {
     "name": "stdout",
     "output_type": "stream",
     "text": [
      "   A   B    C\n",
      "0  1  10  100\n",
      "1  2  20  200\n",
      "2  3  30  300\n",
      "3  4  40  400\n",
      "0    0.1\n",
      "1    0.2\n",
      "2    0.3\n",
      "dtype: float64\n"
     ]
    }
   ],
   "source": [
    "df = pd.DataFrame({'A': [1, 2, 3, 4], 'B': [10, 20, 30, 40], 'C': [100, 200, 300, 400]})\n",
    "print(df)\n",
    "s = pd.Series([0.1, 0.2, 0.3])\n",
    "print(s)"
   ]
  },
  {
   "cell_type": "code",
   "execution_count": 536,
   "metadata": {},
   "outputs": [
    {
     "data": {
      "text/html": [
       "<div>\n",
       "<style scoped>\n",
       "    .dataframe tbody tr th:only-of-type {\n",
       "        vertical-align: middle;\n",
       "    }\n",
       "\n",
       "    .dataframe tbody tr th {\n",
       "        vertical-align: top;\n",
       "    }\n",
       "\n",
       "    .dataframe thead th {\n",
       "        text-align: right;\n",
       "    }\n",
       "</style>\n",
       "<table border=\"1\" class=\"dataframe\">\n",
       "  <thead>\n",
       "    <tr style=\"text-align: right;\">\n",
       "      <th></th>\n",
       "      <th>A</th>\n",
       "      <th>B</th>\n",
       "      <th>C</th>\n",
       "    </tr>\n",
       "  </thead>\n",
       "  <tbody>\n",
       "    <tr>\n",
       "      <th>0</th>\n",
       "      <td>1.1</td>\n",
       "      <td>10.1</td>\n",
       "      <td>100.1</td>\n",
       "    </tr>\n",
       "    <tr>\n",
       "      <th>1</th>\n",
       "      <td>2.2</td>\n",
       "      <td>20.2</td>\n",
       "      <td>200.2</td>\n",
       "    </tr>\n",
       "    <tr>\n",
       "      <th>2</th>\n",
       "      <td>3.3</td>\n",
       "      <td>30.3</td>\n",
       "      <td>300.3</td>\n",
       "    </tr>\n",
       "    <tr>\n",
       "      <th>3</th>\n",
       "      <td>NaN</td>\n",
       "      <td>NaN</td>\n",
       "      <td>NaN</td>\n",
       "    </tr>\n",
       "  </tbody>\n",
       "</table>\n",
       "</div>"
      ],
      "text/plain": [
       "     A     B      C\n",
       "0  1.1  10.1  100.1\n",
       "1  2.2  20.2  200.2\n",
       "2  3.3  30.3  300.3\n",
       "3  NaN   NaN    NaN"
      ]
     },
     "execution_count": 536,
     "metadata": {},
     "output_type": "execute_result"
    }
   ],
   "source": [
    "# Сложение по строкам\n",
    "df.add(s, axis=0)"
   ]
  },
  {
   "cell_type": "code",
   "execution_count": 537,
   "metadata": {},
   "outputs": [
    {
     "data": {
      "text/html": [
       "<div>\n",
       "<style scoped>\n",
       "    .dataframe tbody tr th:only-of-type {\n",
       "        vertical-align: middle;\n",
       "    }\n",
       "\n",
       "    .dataframe tbody tr th {\n",
       "        vertical-align: top;\n",
       "    }\n",
       "\n",
       "    .dataframe thead th {\n",
       "        text-align: right;\n",
       "    }\n",
       "</style>\n",
       "<table border=\"1\" class=\"dataframe\">\n",
       "  <thead>\n",
       "    <tr style=\"text-align: right;\">\n",
       "      <th></th>\n",
       "      <th>A</th>\n",
       "      <th>B</th>\n",
       "      <th>C</th>\n",
       "      <th>D</th>\n",
       "    </tr>\n",
       "  </thead>\n",
       "  <tbody>\n",
       "    <tr>\n",
       "      <th>0</th>\n",
       "      <td>1</td>\n",
       "      <td>10</td>\n",
       "      <td>100</td>\n",
       "      <td>11</td>\n",
       "    </tr>\n",
       "    <tr>\n",
       "      <th>1</th>\n",
       "      <td>2</td>\n",
       "      <td>20</td>\n",
       "      <td>200</td>\n",
       "      <td>22</td>\n",
       "    </tr>\n",
       "    <tr>\n",
       "      <th>2</th>\n",
       "      <td>3</td>\n",
       "      <td>30</td>\n",
       "      <td>300</td>\n",
       "      <td>33</td>\n",
       "    </tr>\n",
       "  </tbody>\n",
       "</table>\n",
       "</div>"
      ],
      "text/plain": [
       "   A   B    C   D\n",
       "0  1  10  100  11\n",
       "1  2  20  200  22\n",
       "2  3  30  300  33"
      ]
     },
     "execution_count": 537,
     "metadata": {},
     "output_type": "execute_result"
    }
   ],
   "source": [
    "df = pd.DataFrame({'A': [1, 2, 3], 'B': [10, 20, 30], 'C': [100, 200, 300]})\n",
    "df['D'] = df['A'] + df['B']\n",
    "df"
   ]
  },
  {
   "cell_type": "code",
   "execution_count": 538,
   "metadata": {},
   "outputs": [
    {
     "data": {
      "text/html": [
       "<div>\n",
       "<style scoped>\n",
       "    .dataframe tbody tr th:only-of-type {\n",
       "        vertical-align: middle;\n",
       "    }\n",
       "\n",
       "    .dataframe tbody tr th {\n",
       "        vertical-align: top;\n",
       "    }\n",
       "\n",
       "    .dataframe thead th {\n",
       "        text-align: right;\n",
       "    }\n",
       "</style>\n",
       "<table border=\"1\" class=\"dataframe\">\n",
       "  <thead>\n",
       "    <tr style=\"text-align: right;\">\n",
       "      <th></th>\n",
       "      <th>product</th>\n",
       "      <th>month_1</th>\n",
       "      <th>month_2</th>\n",
       "      <th>month_3</th>\n",
       "    </tr>\n",
       "  </thead>\n",
       "  <tbody>\n",
       "    <tr>\n",
       "      <th>0</th>\n",
       "      <td>product_1</td>\n",
       "      <td>100</td>\n",
       "      <td>200</td>\n",
       "      <td>150</td>\n",
       "    </tr>\n",
       "    <tr>\n",
       "      <th>1</th>\n",
       "      <td>product_2</td>\n",
       "      <td>200</td>\n",
       "      <td>250</td>\n",
       "      <td>300</td>\n",
       "    </tr>\n",
       "    <tr>\n",
       "      <th>2</th>\n",
       "      <td>product_3</td>\n",
       "      <td>300</td>\n",
       "      <td>150</td>\n",
       "      <td>100</td>\n",
       "    </tr>\n",
       "    <tr>\n",
       "      <th>3</th>\n",
       "      <td>product_4</td>\n",
       "      <td>400</td>\n",
       "      <td>300</td>\n",
       "      <td>200</td>\n",
       "    </tr>\n",
       "  </tbody>\n",
       "</table>\n",
       "</div>"
      ],
      "text/plain": [
       "     product  month_1  month_2  month_3\n",
       "0  product_1      100      200      150\n",
       "1  product_2      200      250      300\n",
       "2  product_3      300      150      100\n",
       "3  product_4      400      300      200"
      ]
     },
     "execution_count": 538,
     "metadata": {},
     "output_type": "execute_result"
    }
   ],
   "source": [
    "# Создаем DataFrame с информацией о продажах\n",
    "sales = pd.DataFrame({\n",
    "    'product': ['product_1', 'product_2', 'product_3', 'product_4'],\n",
    "    'month_1': [100, 200, 300, 400],\n",
    "    'month_2': [200, 250, 150, 300],\n",
    "    'month_3': [150, 300, 100, 200],\n",
    "})\n",
    "\n",
    "sales"
   ]
  },
  {
   "cell_type": "code",
   "execution_count": 539,
   "metadata": {},
   "outputs": [
    {
     "data": {
      "text/plain": [
       "0    450\n",
       "1    750\n",
       "2    550\n",
       "3    900\n",
       "Name: total_conversions, dtype: int64"
      ]
     },
     "execution_count": 539,
     "metadata": {},
     "output_type": "execute_result"
    }
   ],
   "source": [
    "sales['total_conversions'] = sales['month_1'] + sales['month_2'] + sales['month_3']\n",
    "sales['total_conversions']"
   ]
  },
  {
   "cell_type": "code",
   "execution_count": 540,
   "metadata": {},
   "outputs": [
    {
     "data": {
      "text/plain": [
       "0    0.1\n",
       "1    0.2\n",
       "2    0.3\n",
       "3    0.1\n",
       "dtype: float64"
      ]
     },
     "execution_count": 540,
     "metadata": {},
     "output_type": "execute_result"
    }
   ],
   "source": [
    "# Создаем Series с информацией о конверсионном коэффициенте\n",
    "conversion_rate = pd.Series([0.1, 0.2, 0.3, 0.1], index=['product_1', 'product_2', 'product_3', 'product_4'])\n",
    "conversion_rate.index = range(len(sales))\n",
    "conversion_rate"
   ]
  },
  {
   "cell_type": "code",
   "execution_count": 541,
   "metadata": {},
   "outputs": [
    {
     "data": {
      "text/html": [
       "<div>\n",
       "<style scoped>\n",
       "    .dataframe tbody tr th:only-of-type {\n",
       "        vertical-align: middle;\n",
       "    }\n",
       "\n",
       "    .dataframe tbody tr th {\n",
       "        vertical-align: top;\n",
       "    }\n",
       "\n",
       "    .dataframe thead th {\n",
       "        text-align: right;\n",
       "    }\n",
       "</style>\n",
       "<table border=\"1\" class=\"dataframe\">\n",
       "  <thead>\n",
       "    <tr style=\"text-align: right;\">\n",
       "      <th></th>\n",
       "      <th>product</th>\n",
       "      <th>month_1</th>\n",
       "      <th>month_2</th>\n",
       "      <th>month_3</th>\n",
       "      <th>total_conversions</th>\n",
       "    </tr>\n",
       "  </thead>\n",
       "  <tbody>\n",
       "    <tr>\n",
       "      <th>0</th>\n",
       "      <td>product_1</td>\n",
       "      <td>100</td>\n",
       "      <td>200</td>\n",
       "      <td>150</td>\n",
       "      <td>45.0</td>\n",
       "    </tr>\n",
       "    <tr>\n",
       "      <th>1</th>\n",
       "      <td>product_2</td>\n",
       "      <td>200</td>\n",
       "      <td>250</td>\n",
       "      <td>300</td>\n",
       "      <td>150.0</td>\n",
       "    </tr>\n",
       "    <tr>\n",
       "      <th>2</th>\n",
       "      <td>product_3</td>\n",
       "      <td>300</td>\n",
       "      <td>150</td>\n",
       "      <td>100</td>\n",
       "      <td>165.0</td>\n",
       "    </tr>\n",
       "    <tr>\n",
       "      <th>3</th>\n",
       "      <td>product_4</td>\n",
       "      <td>400</td>\n",
       "      <td>300</td>\n",
       "      <td>200</td>\n",
       "      <td>90.0</td>\n",
       "    </tr>\n",
       "  </tbody>\n",
       "</table>\n",
       "</div>"
      ],
      "text/plain": [
       "     product  month_1  month_2  month_3  total_conversions\n",
       "0  product_1      100      200      150               45.0\n",
       "1  product_2      200      250      300              150.0\n",
       "2  product_3      300      150      100              165.0\n",
       "3  product_4      400      300      200               90.0"
      ]
     },
     "execution_count": 541,
     "metadata": {},
     "output_type": "execute_result"
    }
   ],
   "source": [
    "sales['total_conversions'] = sales['total_conversions'].mul(conversion_rate, axis=0)\n",
    "sales"
   ]
  },
  {
   "cell_type": "code",
   "execution_count": 542,
   "metadata": {},
   "outputs": [
    {
     "data": {
      "text/html": [
       "<div>\n",
       "<style scoped>\n",
       "    .dataframe tbody tr th:only-of-type {\n",
       "        vertical-align: middle;\n",
       "    }\n",
       "\n",
       "    .dataframe tbody tr th {\n",
       "        vertical-align: top;\n",
       "    }\n",
       "\n",
       "    .dataframe thead th {\n",
       "        text-align: right;\n",
       "    }\n",
       "</style>\n",
       "<table border=\"1\" class=\"dataframe\">\n",
       "  <thead>\n",
       "    <tr style=\"text-align: right;\">\n",
       "      <th></th>\n",
       "      <th>product_id</th>\n",
       "      <th>quantity</th>\n",
       "    </tr>\n",
       "  </thead>\n",
       "  <tbody>\n",
       "    <tr>\n",
       "      <th>0</th>\n",
       "      <td>P1</td>\n",
       "      <td>5</td>\n",
       "    </tr>\n",
       "    <tr>\n",
       "      <th>1</th>\n",
       "      <td>P2</td>\n",
       "      <td>-5</td>\n",
       "    </tr>\n",
       "    <tr>\n",
       "      <th>2</th>\n",
       "      <td>P3</td>\n",
       "      <td>10</td>\n",
       "    </tr>\n",
       "  </tbody>\n",
       "</table>\n",
       "</div>"
      ],
      "text/plain": [
       "  product_id  quantity\n",
       "0         P1         5\n",
       "1         P2        -5\n",
       "2         P3        10"
      ]
     },
     "execution_count": 542,
     "metadata": {},
     "output_type": "execute_result"
    }
   ],
   "source": [
    "# создаем DataFrame с информацией о количестве товаров на складе\n",
    "inventory = pd.DataFrame({\n",
    "    'product_id': ['P1', 'P2', 'P3'],\n",
    "    'quantity': [10, 20, 30]\n",
    "})\n",
    "\n",
    "# создаем Series с информацией о спросе на каждый из товаров\n",
    "demand = pd.Series([5, 25, 20], index=['P1', 'P2', 'P3'])\n",
    "inventory.set_index('product_id', inplace=True)\n",
    "\n",
    "inventory.sub(demand, axis=0).reset_index()"
   ]
  },
  {
   "cell_type": "code",
   "execution_count": 543,
   "metadata": {},
   "outputs": [
    {
     "data": {
      "text/html": [
       "<div>\n",
       "<style scoped>\n",
       "    .dataframe tbody tr th:only-of-type {\n",
       "        vertical-align: middle;\n",
       "    }\n",
       "\n",
       "    .dataframe tbody tr th {\n",
       "        vertical-align: top;\n",
       "    }\n",
       "\n",
       "    .dataframe thead th {\n",
       "        text-align: right;\n",
       "    }\n",
       "</style>\n",
       "<table border=\"1\" class=\"dataframe\">\n",
       "  <thead>\n",
       "    <tr style=\"text-align: right;\">\n",
       "      <th></th>\n",
       "      <th>category</th>\n",
       "      <th>amount</th>\n",
       "    </tr>\n",
       "  </thead>\n",
       "  <tbody>\n",
       "    <tr>\n",
       "      <th>0</th>\n",
       "      <td>food</td>\n",
       "      <td>500</td>\n",
       "    </tr>\n",
       "    <tr>\n",
       "      <th>1</th>\n",
       "      <td>clothes</td>\n",
       "      <td>200</td>\n",
       "    </tr>\n",
       "    <tr>\n",
       "      <th>2</th>\n",
       "      <td>transportation</td>\n",
       "      <td>100</td>\n",
       "    </tr>\n",
       "    <tr>\n",
       "      <th>3</th>\n",
       "      <td>entertainment</td>\n",
       "      <td>50</td>\n",
       "    </tr>\n",
       "  </tbody>\n",
       "</table>\n",
       "</div>"
      ],
      "text/plain": [
       "         category  amount\n",
       "0            food     500\n",
       "1         clothes     200\n",
       "2  transportation     100\n",
       "3   entertainment      50"
      ]
     },
     "execution_count": 543,
     "metadata": {},
     "output_type": "execute_result"
    }
   ],
   "source": [
    "# Создаем исходный DataFrame с информацией о расходах на различные категории\n",
    "expenses = pd.DataFrame({\n",
    "    'category': ['food', 'clothes', 'transportation', 'entertainment'],\n",
    "    'amount': [500, 200, 100, 50]\n",
    "})\n",
    "# Создаем Series с информацией о доступном бюджете\n",
    "budget = pd.Series(1000, name='budget')\n",
    "expenses"
   ]
  },
  {
   "cell_type": "code",
   "execution_count": 544,
   "metadata": {},
   "outputs": [
    {
     "data": {
      "text/html": [
       "<div>\n",
       "<style scoped>\n",
       "    .dataframe tbody tr th:only-of-type {\n",
       "        vertical-align: middle;\n",
       "    }\n",
       "\n",
       "    .dataframe tbody tr th {\n",
       "        vertical-align: top;\n",
       "    }\n",
       "\n",
       "    .dataframe thead th {\n",
       "        text-align: right;\n",
       "    }\n",
       "</style>\n",
       "<table border=\"1\" class=\"dataframe\">\n",
       "  <thead>\n",
       "    <tr style=\"text-align: right;\">\n",
       "      <th></th>\n",
       "      <th>category</th>\n",
       "      <th>percentage</th>\n",
       "    </tr>\n",
       "  </thead>\n",
       "  <tbody>\n",
       "    <tr>\n",
       "      <th>0</th>\n",
       "      <td>food</td>\n",
       "      <td>50.0</td>\n",
       "    </tr>\n",
       "    <tr>\n",
       "      <th>1</th>\n",
       "      <td>clothes</td>\n",
       "      <td>20.0</td>\n",
       "    </tr>\n",
       "    <tr>\n",
       "      <th>2</th>\n",
       "      <td>transportation</td>\n",
       "      <td>10.0</td>\n",
       "    </tr>\n",
       "    <tr>\n",
       "      <th>3</th>\n",
       "      <td>entertainment</td>\n",
       "      <td>5.0</td>\n",
       "    </tr>\n",
       "  </tbody>\n",
       "</table>\n",
       "</div>"
      ],
      "text/plain": [
       "         category  percentage\n",
       "0            food        50.0\n",
       "1         clothes        20.0\n",
       "2  transportation        10.0\n",
       "3   entertainment         5.0"
      ]
     },
     "execution_count": 544,
     "metadata": {},
     "output_type": "execute_result"
    }
   ],
   "source": [
    "df = expenses.copy()\n",
    "df['percentage'] = df['amount'].apply(lambda x: x / budget * 100)\n",
    "df.drop('amount', axis=1)"
   ]
  },
  {
   "cell_type": "code",
   "execution_count": 545,
   "metadata": {},
   "outputs": [
    {
     "data": {
      "text/html": [
       "<div>\n",
       "<style scoped>\n",
       "    .dataframe tbody tr th:only-of-type {\n",
       "        vertical-align: middle;\n",
       "    }\n",
       "\n",
       "    .dataframe tbody tr th {\n",
       "        vertical-align: top;\n",
       "    }\n",
       "\n",
       "    .dataframe thead th {\n",
       "        text-align: right;\n",
       "    }\n",
       "</style>\n",
       "<table border=\"1\" class=\"dataframe\">\n",
       "  <thead>\n",
       "    <tr style=\"text-align: right;\">\n",
       "      <th></th>\n",
       "      <th>category</th>\n",
       "      <th>percentage</th>\n",
       "    </tr>\n",
       "  </thead>\n",
       "  <tbody>\n",
       "    <tr>\n",
       "      <th>0</th>\n",
       "      <td>food</td>\n",
       "      <td>50.0</td>\n",
       "    </tr>\n",
       "    <tr>\n",
       "      <th>1</th>\n",
       "      <td>clothes</td>\n",
       "      <td>20.0</td>\n",
       "    </tr>\n",
       "    <tr>\n",
       "      <th>2</th>\n",
       "      <td>transportation</td>\n",
       "      <td>10.0</td>\n",
       "    </tr>\n",
       "    <tr>\n",
       "      <th>3</th>\n",
       "      <td>entertainment</td>\n",
       "      <td>5.0</td>\n",
       "    </tr>\n",
       "  </tbody>\n",
       "</table>\n",
       "</div>"
      ],
      "text/plain": [
       "         category  percentage\n",
       "0            food        50.0\n",
       "1         clothes        20.0\n",
       "2  transportation        10.0\n",
       "3   entertainment         5.0"
      ]
     },
     "execution_count": 545,
     "metadata": {},
     "output_type": "execute_result"
    }
   ],
   "source": [
    "df = pd.DataFrame({'category': expenses['category'], 'percentage': expenses['amount'] / budget.values * 100 })\n",
    "df"
   ]
  },
  {
   "cell_type": "code",
   "execution_count": 546,
   "metadata": {},
   "outputs": [
    {
     "data": {
      "text/html": [
       "<div>\n",
       "<style scoped>\n",
       "    .dataframe tbody tr th:only-of-type {\n",
       "        vertical-align: middle;\n",
       "    }\n",
       "\n",
       "    .dataframe tbody tr th {\n",
       "        vertical-align: top;\n",
       "    }\n",
       "\n",
       "    .dataframe thead th {\n",
       "        text-align: right;\n",
       "    }\n",
       "</style>\n",
       "<table border=\"1\" class=\"dataframe\">\n",
       "  <thead>\n",
       "    <tr style=\"text-align: right;\">\n",
       "      <th></th>\n",
       "      <th>Товар</th>\n",
       "      <th>Разница</th>\n",
       "    </tr>\n",
       "  </thead>\n",
       "  <tbody>\n",
       "    <tr>\n",
       "      <th>0</th>\n",
       "      <td>Шоколад</td>\n",
       "      <td>-20</td>\n",
       "    </tr>\n",
       "    <tr>\n",
       "      <th>1</th>\n",
       "      <td>Молоко</td>\n",
       "      <td>-10</td>\n",
       "    </tr>\n",
       "    <tr>\n",
       "      <th>2</th>\n",
       "      <td>Хлеб</td>\n",
       "      <td>-5</td>\n",
       "    </tr>\n",
       "    <tr>\n",
       "      <th>3</th>\n",
       "      <td>Масло</td>\n",
       "      <td>10</td>\n",
       "    </tr>\n",
       "  </tbody>\n",
       "</table>\n",
       "</div>"
      ],
      "text/plain": [
       "     Товар  Разница\n",
       "0  Шоколад      -20\n",
       "1   Молоко      -10\n",
       "2     Хлеб       -5\n",
       "3    Масло       10"
      ]
     },
     "execution_count": 546,
     "metadata": {},
     "output_type": "execute_result"
    }
   ],
   "source": [
    "import pandas as pd\n",
    "import numpy as np\n",
    "# Создаем датафреймы с ценами на товары в двух магазинах\n",
    "df1 = pd.DataFrame({\n",
    "    'Товар': ['Шоколад', 'Молоко', 'Хлеб', 'Масло'],\n",
    "    'Цена': [100, 50, 30, 150]\n",
    "})\n",
    "df2 = pd.DataFrame({\n",
    "    'Товар': ['Шоколад', 'Молоко', 'Хлеб', 'Масло'],\n",
    "    'Цена': [120, 60, 35, 140]\n",
    "})\n",
    "\n",
    "df = df1.set_index('Товар').sub(df2.set_index('Товар'), axis=0).reset_index().rename(columns={'Цена': 'Разница'})\n",
    "df"
   ]
  },
  {
   "cell_type": "code",
   "execution_count": 547,
   "metadata": {},
   "outputs": [
    {
     "data": {
      "text/html": [
       "<div>\n",
       "<style scoped>\n",
       "    .dataframe tbody tr th:only-of-type {\n",
       "        vertical-align: middle;\n",
       "    }\n",
       "\n",
       "    .dataframe tbody tr th {\n",
       "        vertical-align: top;\n",
       "    }\n",
       "\n",
       "    .dataframe thead th {\n",
       "        text-align: right;\n",
       "    }\n",
       "</style>\n",
       "<table border=\"1\" class=\"dataframe\">\n",
       "  <thead>\n",
       "    <tr style=\"text-align: right;\">\n",
       "      <th></th>\n",
       "      <th>Товар</th>\n",
       "      <th>Разница</th>\n",
       "    </tr>\n",
       "  </thead>\n",
       "  <tbody>\n",
       "    <tr>\n",
       "      <th>0</th>\n",
       "      <td>Шоколад</td>\n",
       "      <td>-20</td>\n",
       "    </tr>\n",
       "    <tr>\n",
       "      <th>1</th>\n",
       "      <td>Молоко</td>\n",
       "      <td>-10</td>\n",
       "    </tr>\n",
       "    <tr>\n",
       "      <th>2</th>\n",
       "      <td>Хлеб</td>\n",
       "      <td>-5</td>\n",
       "    </tr>\n",
       "    <tr>\n",
       "      <th>3</th>\n",
       "      <td>Масло</td>\n",
       "      <td>10</td>\n",
       "    </tr>\n",
       "  </tbody>\n",
       "</table>\n",
       "</div>"
      ],
      "text/plain": [
       "     Товар  Разница\n",
       "0  Шоколад      -20\n",
       "1   Молоко      -10\n",
       "2     Хлеб       -5\n",
       "3    Масло       10"
      ]
     },
     "execution_count": 547,
     "metadata": {},
     "output_type": "execute_result"
    }
   ],
   "source": [
    "df = pd.DataFrame({'Товар': df1['Товар'], 'Разница': df1['Цена'] -  df2['Цена']})\n",
    "df"
   ]
  },
  {
   "cell_type": "markdown",
   "metadata": {},
   "source": [
    "# 4.2 Применение функций к объектам Pandas, метод apply"
   ]
  },
  {
   "cell_type": "markdown",
   "metadata": {},
   "source": [
    "Применение функции к столбцу DataFrame:"
   ]
  },
  {
   "cell_type": "code",
   "execution_count": 548,
   "metadata": {},
   "outputs": [
    {
     "data": {
      "text/html": [
       "<div>\n",
       "<style scoped>\n",
       "    .dataframe tbody tr th:only-of-type {\n",
       "        vertical-align: middle;\n",
       "    }\n",
       "\n",
       "    .dataframe tbody tr th {\n",
       "        vertical-align: top;\n",
       "    }\n",
       "\n",
       "    .dataframe thead th {\n",
       "        text-align: right;\n",
       "    }\n",
       "</style>\n",
       "<table border=\"1\" class=\"dataframe\">\n",
       "  <thead>\n",
       "    <tr style=\"text-align: right;\">\n",
       "      <th></th>\n",
       "      <th>магазин</th>\n",
       "      <th>продукт</th>\n",
       "      <th>цена</th>\n",
       "      <th>количество</th>\n",
       "    </tr>\n",
       "  </thead>\n",
       "  <tbody>\n",
       "    <tr>\n",
       "      <th>0</th>\n",
       "      <td>Магазин 1</td>\n",
       "      <td>Молоко</td>\n",
       "      <td>100</td>\n",
       "      <td>10</td>\n",
       "    </tr>\n",
       "    <tr>\n",
       "      <th>1</th>\n",
       "      <td>Магазин 2</td>\n",
       "      <td>Хлеб</td>\n",
       "      <td>50</td>\n",
       "      <td>20</td>\n",
       "    </tr>\n",
       "    <tr>\n",
       "      <th>2</th>\n",
       "      <td>Магазин 3</td>\n",
       "      <td>Масло</td>\n",
       "      <td>80</td>\n",
       "      <td>15</td>\n",
       "    </tr>\n",
       "  </tbody>\n",
       "</table>\n",
       "</div>"
      ],
      "text/plain": [
       "     магазин продукт  цена  количество\n",
       "0  Магазин 1  Молоко   100          10\n",
       "1  Магазин 2    Хлеб    50          20\n",
       "2  Магазин 3   Масло    80          15"
      ]
     },
     "execution_count": 548,
     "metadata": {},
     "output_type": "execute_result"
    }
   ],
   "source": [
    "df = pd.DataFrame({'магазин': ['Магазин 1', 'Магазин 2', 'Магазин 3'],\n",
    "                   'продукт': ['Молоко', 'Хлеб', 'Масло'],\n",
    "                   'цена': [100, 50, 80],\n",
    "                  'количество': [10, 20, 15]})\n",
    "df"
   ]
  },
  {
   "cell_type": "code",
   "execution_count": 549,
   "metadata": {},
   "outputs": [
    {
     "data": {
      "text/html": [
       "<div>\n",
       "<style scoped>\n",
       "    .dataframe tbody tr th:only-of-type {\n",
       "        vertical-align: middle;\n",
       "    }\n",
       "\n",
       "    .dataframe tbody tr th {\n",
       "        vertical-align: top;\n",
       "    }\n",
       "\n",
       "    .dataframe thead th {\n",
       "        text-align: right;\n",
       "    }\n",
       "</style>\n",
       "<table border=\"1\" class=\"dataframe\">\n",
       "  <thead>\n",
       "    <tr style=\"text-align: right;\">\n",
       "      <th></th>\n",
       "      <th>магазин</th>\n",
       "      <th>продукт</th>\n",
       "      <th>цена</th>\n",
       "      <th>количество</th>\n",
       "      <th>цена с налогом 1</th>\n",
       "    </tr>\n",
       "  </thead>\n",
       "  <tbody>\n",
       "    <tr>\n",
       "      <th>0</th>\n",
       "      <td>Магазин 1</td>\n",
       "      <td>Молоко</td>\n",
       "      <td>100</td>\n",
       "      <td>10</td>\n",
       "      <td>110.0</td>\n",
       "    </tr>\n",
       "    <tr>\n",
       "      <th>1</th>\n",
       "      <td>Магазин 2</td>\n",
       "      <td>Хлеб</td>\n",
       "      <td>50</td>\n",
       "      <td>20</td>\n",
       "      <td>55.0</td>\n",
       "    </tr>\n",
       "    <tr>\n",
       "      <th>2</th>\n",
       "      <td>Магазин 3</td>\n",
       "      <td>Масло</td>\n",
       "      <td>80</td>\n",
       "      <td>15</td>\n",
       "      <td>88.0</td>\n",
       "    </tr>\n",
       "  </tbody>\n",
       "</table>\n",
       "</div>"
      ],
      "text/plain": [
       "     магазин продукт  цена  количество  цена с налогом 1\n",
       "0  Магазин 1  Молоко   100          10             110.0\n",
       "1  Магазин 2    Хлеб    50          20              55.0\n",
       "2  Магазин 3   Масло    80          15              88.0"
      ]
     },
     "execution_count": 549,
     "metadata": {},
     "output_type": "execute_result"
    }
   ],
   "source": [
    "def add_tax(price):\n",
    "    return price * 1.1\n",
    "\n",
    "df['цена с налогом 1'] = df['цена'].apply(add_tax)\n",
    "df"
   ]
  },
  {
   "cell_type": "code",
   "execution_count": 550,
   "metadata": {},
   "outputs": [
    {
     "data": {
      "text/html": [
       "<div>\n",
       "<style scoped>\n",
       "    .dataframe tbody tr th:only-of-type {\n",
       "        vertical-align: middle;\n",
       "    }\n",
       "\n",
       "    .dataframe tbody tr th {\n",
       "        vertical-align: top;\n",
       "    }\n",
       "\n",
       "    .dataframe thead th {\n",
       "        text-align: right;\n",
       "    }\n",
       "</style>\n",
       "<table border=\"1\" class=\"dataframe\">\n",
       "  <thead>\n",
       "    <tr style=\"text-align: right;\">\n",
       "      <th></th>\n",
       "      <th>магазин</th>\n",
       "      <th>продукт</th>\n",
       "      <th>цена</th>\n",
       "      <th>количество</th>\n",
       "      <th>цена с налогом 1</th>\n",
       "      <th>цена с налогом 2</th>\n",
       "    </tr>\n",
       "  </thead>\n",
       "  <tbody>\n",
       "    <tr>\n",
       "      <th>0</th>\n",
       "      <td>Магазин 1</td>\n",
       "      <td>Молоко</td>\n",
       "      <td>100</td>\n",
       "      <td>10</td>\n",
       "      <td>110.0</td>\n",
       "      <td>120.0</td>\n",
       "    </tr>\n",
       "    <tr>\n",
       "      <th>1</th>\n",
       "      <td>Магазин 2</td>\n",
       "      <td>Хлеб</td>\n",
       "      <td>50</td>\n",
       "      <td>20</td>\n",
       "      <td>55.0</td>\n",
       "      <td>60.0</td>\n",
       "    </tr>\n",
       "    <tr>\n",
       "      <th>2</th>\n",
       "      <td>Магазин 3</td>\n",
       "      <td>Масло</td>\n",
       "      <td>80</td>\n",
       "      <td>15</td>\n",
       "      <td>88.0</td>\n",
       "      <td>96.0</td>\n",
       "    </tr>\n",
       "  </tbody>\n",
       "</table>\n",
       "</div>"
      ],
      "text/plain": [
       "     магазин продукт  цена  количество  цена с налогом 1  цена с налогом 2\n",
       "0  Магазин 1  Молоко   100          10             110.0             120.0\n",
       "1  Магазин 2    Хлеб    50          20              55.0              60.0\n",
       "2  Магазин 3   Масло    80          15              88.0              96.0"
      ]
     },
     "execution_count": 550,
     "metadata": {},
     "output_type": "execute_result"
    }
   ],
   "source": [
    "df['цена с налогом 2'] = df['цена'].apply(lambda x: x * 1.2)\n",
    "df"
   ]
  },
  {
   "cell_type": "code",
   "execution_count": 551,
   "metadata": {},
   "outputs": [
    {
     "data": {
      "text/html": [
       "<div>\n",
       "<style scoped>\n",
       "    .dataframe tbody tr th:only-of-type {\n",
       "        vertical-align: middle;\n",
       "    }\n",
       "\n",
       "    .dataframe tbody tr th {\n",
       "        vertical-align: top;\n",
       "    }\n",
       "\n",
       "    .dataframe thead th {\n",
       "        text-align: right;\n",
       "    }\n",
       "</style>\n",
       "<table border=\"1\" class=\"dataframe\">\n",
       "  <thead>\n",
       "    <tr style=\"text-align: right;\">\n",
       "      <th></th>\n",
       "      <th>магазин</th>\n",
       "      <th>продукт</th>\n",
       "      <th>цена</th>\n",
       "      <th>количество</th>\n",
       "      <th>цена с налогом 1</th>\n",
       "      <th>цена с налогом 2</th>\n",
       "      <th>цена с налогом 3</th>\n",
       "    </tr>\n",
       "  </thead>\n",
       "  <tbody>\n",
       "    <tr>\n",
       "      <th>0</th>\n",
       "      <td>Магазин 1</td>\n",
       "      <td>Молоко</td>\n",
       "      <td>100</td>\n",
       "      <td>10</td>\n",
       "      <td>110.0</td>\n",
       "      <td>120.0</td>\n",
       "      <td>110.0</td>\n",
       "    </tr>\n",
       "    <tr>\n",
       "      <th>1</th>\n",
       "      <td>Магазин 2</td>\n",
       "      <td>Хлеб</td>\n",
       "      <td>50</td>\n",
       "      <td>20</td>\n",
       "      <td>55.0</td>\n",
       "      <td>60.0</td>\n",
       "      <td>55.0</td>\n",
       "    </tr>\n",
       "    <tr>\n",
       "      <th>2</th>\n",
       "      <td>Магазин 3</td>\n",
       "      <td>Масло</td>\n",
       "      <td>80</td>\n",
       "      <td>15</td>\n",
       "      <td>88.0</td>\n",
       "      <td>96.0</td>\n",
       "      <td>88.0</td>\n",
       "    </tr>\n",
       "  </tbody>\n",
       "</table>\n",
       "</div>"
      ],
      "text/plain": [
       "     магазин продукт  цена  количество  цена с налогом 1  цена с налогом 2  \\\n",
       "0  Магазин 1  Молоко   100          10             110.0             120.0   \n",
       "1  Магазин 2    Хлеб    50          20              55.0              60.0   \n",
       "2  Магазин 3   Масло    80          15              88.0              96.0   \n",
       "\n",
       "   цена с налогом 3  \n",
       "0             110.0  \n",
       "1              55.0  \n",
       "2              88.0  "
      ]
     },
     "execution_count": 551,
     "metadata": {},
     "output_type": "execute_result"
    }
   ],
   "source": [
    "df['цена с налогом 3'] = add_tax(df['цена'])\n",
    "df"
   ]
  },
  {
   "cell_type": "markdown",
   "metadata": {},
   "source": [
    "Применение функции к строке DataFrame: "
   ]
  },
  {
   "cell_type": "code",
   "execution_count": 552,
   "metadata": {},
   "outputs": [
    {
     "data": {
      "text/html": [
       "<div>\n",
       "<style scoped>\n",
       "    .dataframe tbody tr th:only-of-type {\n",
       "        vertical-align: middle;\n",
       "    }\n",
       "\n",
       "    .dataframe tbody tr th {\n",
       "        vertical-align: top;\n",
       "    }\n",
       "\n",
       "    .dataframe thead th {\n",
       "        text-align: right;\n",
       "    }\n",
       "</style>\n",
       "<table border=\"1\" class=\"dataframe\">\n",
       "  <thead>\n",
       "    <tr style=\"text-align: right;\">\n",
       "      <th></th>\n",
       "      <th>магазин</th>\n",
       "      <th>продукт</th>\n",
       "      <th>цена</th>\n",
       "      <th>количество</th>\n",
       "    </tr>\n",
       "  </thead>\n",
       "  <tbody>\n",
       "    <tr>\n",
       "      <th>0</th>\n",
       "      <td>Магазин 1</td>\n",
       "      <td>Молоко</td>\n",
       "      <td>100</td>\n",
       "      <td>10</td>\n",
       "    </tr>\n",
       "    <tr>\n",
       "      <th>1</th>\n",
       "      <td>Магазин 2</td>\n",
       "      <td>Хлеб</td>\n",
       "      <td>50</td>\n",
       "      <td>20</td>\n",
       "    </tr>\n",
       "    <tr>\n",
       "      <th>2</th>\n",
       "      <td>Магазин 3</td>\n",
       "      <td>Масло</td>\n",
       "      <td>80</td>\n",
       "      <td>15</td>\n",
       "    </tr>\n",
       "  </tbody>\n",
       "</table>\n",
       "</div>"
      ],
      "text/plain": [
       "     магазин продукт  цена  количество\n",
       "0  Магазин 1  Молоко   100          10\n",
       "1  Магазин 2    Хлеб    50          20\n",
       "2  Магазин 3   Масло    80          15"
      ]
     },
     "execution_count": 552,
     "metadata": {},
     "output_type": "execute_result"
    }
   ],
   "source": [
    "df = pd.DataFrame({'магазин': ['Магазин 1', 'Магазин 2', 'Магазин 3'],\n",
    "                   'продукт': ['Молоко', 'Хлеб', 'Масло'],\n",
    "                   'цена': [100, 50, 80],\n",
    "                  'количество': [10, 20, 15]})\n",
    "df"
   ]
  },
  {
   "cell_type": "code",
   "execution_count": 553,
   "metadata": {},
   "outputs": [
    {
     "data": {
      "text/html": [
       "<div>\n",
       "<style scoped>\n",
       "    .dataframe tbody tr th:only-of-type {\n",
       "        vertical-align: middle;\n",
       "    }\n",
       "\n",
       "    .dataframe tbody tr th {\n",
       "        vertical-align: top;\n",
       "    }\n",
       "\n",
       "    .dataframe thead th {\n",
       "        text-align: right;\n",
       "    }\n",
       "</style>\n",
       "<table border=\"1\" class=\"dataframe\">\n",
       "  <thead>\n",
       "    <tr style=\"text-align: right;\">\n",
       "      <th></th>\n",
       "      <th>магазин</th>\n",
       "      <th>продукт</th>\n",
       "      <th>цена</th>\n",
       "      <th>количество</th>\n",
       "      <th>общая выручка</th>\n",
       "    </tr>\n",
       "  </thead>\n",
       "  <tbody>\n",
       "    <tr>\n",
       "      <th>0</th>\n",
       "      <td>Магазин 1</td>\n",
       "      <td>Молоко</td>\n",
       "      <td>100</td>\n",
       "      <td>10</td>\n",
       "      <td>1000</td>\n",
       "    </tr>\n",
       "    <tr>\n",
       "      <th>1</th>\n",
       "      <td>Магазин 2</td>\n",
       "      <td>Хлеб</td>\n",
       "      <td>50</td>\n",
       "      <td>20</td>\n",
       "      <td>1000</td>\n",
       "    </tr>\n",
       "    <tr>\n",
       "      <th>2</th>\n",
       "      <td>Магазин 3</td>\n",
       "      <td>Масло</td>\n",
       "      <td>80</td>\n",
       "      <td>15</td>\n",
       "      <td>1200</td>\n",
       "    </tr>\n",
       "  </tbody>\n",
       "</table>\n",
       "</div>"
      ],
      "text/plain": [
       "     магазин продукт  цена  количество  общая выручка\n",
       "0  Магазин 1  Молоко   100          10           1000\n",
       "1  Магазин 2    Хлеб    50          20           1000\n",
       "2  Магазин 3   Масло    80          15           1200"
      ]
     },
     "execution_count": 553,
     "metadata": {},
     "output_type": "execute_result"
    }
   ],
   "source": [
    "def total_sales(row):\n",
    "    return row['цена'] * row['количество']\n",
    "\n",
    "df['общая выручка'] = df.apply(total_sales, axis=1)\n",
    "df"
   ]
  },
  {
   "cell_type": "code",
   "execution_count": 554,
   "metadata": {},
   "outputs": [],
   "source": [
    "df['общая выручка'] = total_sales(df)"
   ]
  },
  {
   "cell_type": "markdown",
   "metadata": {},
   "source": [
    "Применение функций NumPy к элементам DataFrame:"
   ]
  },
  {
   "cell_type": "code",
   "execution_count": 555,
   "metadata": {},
   "outputs": [
    {
     "data": {
      "text/html": [
       "<div>\n",
       "<style scoped>\n",
       "    .dataframe tbody tr th:only-of-type {\n",
       "        vertical-align: middle;\n",
       "    }\n",
       "\n",
       "    .dataframe tbody tr th {\n",
       "        vertical-align: top;\n",
       "    }\n",
       "\n",
       "    .dataframe thead th {\n",
       "        text-align: right;\n",
       "    }\n",
       "</style>\n",
       "<table border=\"1\" class=\"dataframe\">\n",
       "  <thead>\n",
       "    <tr style=\"text-align: right;\">\n",
       "      <th></th>\n",
       "      <th>a</th>\n",
       "      <th>b</th>\n",
       "    </tr>\n",
       "  </thead>\n",
       "  <tbody>\n",
       "    <tr>\n",
       "      <th>0</th>\n",
       "      <td>1</td>\n",
       "      <td>10</td>\n",
       "    </tr>\n",
       "    <tr>\n",
       "      <th>1</th>\n",
       "      <td>2</td>\n",
       "      <td>20</td>\n",
       "    </tr>\n",
       "    <tr>\n",
       "      <th>2</th>\n",
       "      <td>3</td>\n",
       "      <td>30</td>\n",
       "    </tr>\n",
       "    <tr>\n",
       "      <th>3</th>\n",
       "      <td>4</td>\n",
       "      <td>40</td>\n",
       "    </tr>\n",
       "    <tr>\n",
       "      <th>4</th>\n",
       "      <td>5</td>\n",
       "      <td>50</td>\n",
       "    </tr>\n",
       "  </tbody>\n",
       "</table>\n",
       "</div>"
      ],
      "text/plain": [
       "   a   b\n",
       "0  1  10\n",
       "1  2  20\n",
       "2  3  30\n",
       "3  4  40\n",
       "4  5  50"
      ]
     },
     "execution_count": 555,
     "metadata": {},
     "output_type": "execute_result"
    }
   ],
   "source": [
    "data = {'a': [1, 2, 3, 4, 5], 'b': [10, 20, 30, 40, 50]}\n",
    "df = pd.DataFrame(data)\n",
    "df"
   ]
  },
  {
   "cell_type": "code",
   "execution_count": 556,
   "metadata": {},
   "outputs": [
    {
     "data": {
      "text/html": [
       "<div>\n",
       "<style scoped>\n",
       "    .dataframe tbody tr th:only-of-type {\n",
       "        vertical-align: middle;\n",
       "    }\n",
       "\n",
       "    .dataframe tbody tr th {\n",
       "        vertical-align: top;\n",
       "    }\n",
       "\n",
       "    .dataframe thead th {\n",
       "        text-align: right;\n",
       "    }\n",
       "</style>\n",
       "<table border=\"1\" class=\"dataframe\">\n",
       "  <thead>\n",
       "    <tr style=\"text-align: right;\">\n",
       "      <th></th>\n",
       "      <th>a</th>\n",
       "      <th>b</th>\n",
       "      <th>a^2</th>\n",
       "    </tr>\n",
       "  </thead>\n",
       "  <tbody>\n",
       "    <tr>\n",
       "      <th>0</th>\n",
       "      <td>1</td>\n",
       "      <td>10</td>\n",
       "      <td>1</td>\n",
       "    </tr>\n",
       "    <tr>\n",
       "      <th>1</th>\n",
       "      <td>2</td>\n",
       "      <td>20</td>\n",
       "      <td>4</td>\n",
       "    </tr>\n",
       "    <tr>\n",
       "      <th>2</th>\n",
       "      <td>3</td>\n",
       "      <td>30</td>\n",
       "      <td>9</td>\n",
       "    </tr>\n",
       "    <tr>\n",
       "      <th>3</th>\n",
       "      <td>4</td>\n",
       "      <td>40</td>\n",
       "      <td>16</td>\n",
       "    </tr>\n",
       "    <tr>\n",
       "      <th>4</th>\n",
       "      <td>5</td>\n",
       "      <td>50</td>\n",
       "      <td>25</td>\n",
       "    </tr>\n",
       "  </tbody>\n",
       "</table>\n",
       "</div>"
      ],
      "text/plain": [
       "   a   b  a^2\n",
       "0  1  10    1\n",
       "1  2  20    4\n",
       "2  3  30    9\n",
       "3  4  40   16\n",
       "4  5  50   25"
      ]
     },
     "execution_count": 556,
     "metadata": {},
     "output_type": "execute_result"
    }
   ],
   "source": [
    "df['a^2'] = df['a'].apply(np.square)\n",
    "df"
   ]
  },
  {
   "cell_type": "code",
   "execution_count": 557,
   "metadata": {},
   "outputs": [
    {
     "data": {
      "text/html": [
       "<div>\n",
       "<style scoped>\n",
       "    .dataframe tbody tr th:only-of-type {\n",
       "        vertical-align: middle;\n",
       "    }\n",
       "\n",
       "    .dataframe tbody tr th {\n",
       "        vertical-align: top;\n",
       "    }\n",
       "\n",
       "    .dataframe thead th {\n",
       "        text-align: right;\n",
       "    }\n",
       "</style>\n",
       "<table border=\"1\" class=\"dataframe\">\n",
       "  <thead>\n",
       "    <tr style=\"text-align: right;\">\n",
       "      <th></th>\n",
       "      <th>a</th>\n",
       "      <th>b</th>\n",
       "      <th>a^2</th>\n",
       "    </tr>\n",
       "  </thead>\n",
       "  <tbody>\n",
       "    <tr>\n",
       "      <th>0</th>\n",
       "      <td>1</td>\n",
       "      <td>10</td>\n",
       "      <td>1</td>\n",
       "    </tr>\n",
       "    <tr>\n",
       "      <th>1</th>\n",
       "      <td>2</td>\n",
       "      <td>20</td>\n",
       "      <td>4</td>\n",
       "    </tr>\n",
       "    <tr>\n",
       "      <th>2</th>\n",
       "      <td>3</td>\n",
       "      <td>30</td>\n",
       "      <td>9</td>\n",
       "    </tr>\n",
       "    <tr>\n",
       "      <th>3</th>\n",
       "      <td>4</td>\n",
       "      <td>40</td>\n",
       "      <td>16</td>\n",
       "    </tr>\n",
       "    <tr>\n",
       "      <th>4</th>\n",
       "      <td>5</td>\n",
       "      <td>50</td>\n",
       "      <td>25</td>\n",
       "    </tr>\n",
       "  </tbody>\n",
       "</table>\n",
       "</div>"
      ],
      "text/plain": [
       "   a   b  a^2\n",
       "0  1  10    1\n",
       "1  2  20    4\n",
       "2  3  30    9\n",
       "3  4  40   16\n",
       "4  5  50   25"
      ]
     },
     "execution_count": 557,
     "metadata": {},
     "output_type": "execute_result"
    }
   ],
   "source": [
    "df['a^2'] = np.square(df['a'])\n",
    "df"
   ]
  },
  {
   "cell_type": "code",
   "execution_count": 558,
   "metadata": {},
   "outputs": [
    {
     "data": {
      "text/html": [
       "<div>\n",
       "<style scoped>\n",
       "    .dataframe tbody tr th:only-of-type {\n",
       "        vertical-align: middle;\n",
       "    }\n",
       "\n",
       "    .dataframe tbody tr th {\n",
       "        vertical-align: top;\n",
       "    }\n",
       "\n",
       "    .dataframe thead th {\n",
       "        text-align: right;\n",
       "    }\n",
       "</style>\n",
       "<table border=\"1\" class=\"dataframe\">\n",
       "  <thead>\n",
       "    <tr style=\"text-align: right;\">\n",
       "      <th></th>\n",
       "      <th>a</th>\n",
       "      <th>b</th>\n",
       "      <th>a^2</th>\n",
       "      <th>sum</th>\n",
       "    </tr>\n",
       "  </thead>\n",
       "  <tbody>\n",
       "    <tr>\n",
       "      <th>0</th>\n",
       "      <td>1</td>\n",
       "      <td>10</td>\n",
       "      <td>1</td>\n",
       "      <td>1</td>\n",
       "    </tr>\n",
       "    <tr>\n",
       "      <th>1</th>\n",
       "      <td>2</td>\n",
       "      <td>20</td>\n",
       "      <td>4</td>\n",
       "      <td>4</td>\n",
       "    </tr>\n",
       "    <tr>\n",
       "      <th>2</th>\n",
       "      <td>3</td>\n",
       "      <td>30</td>\n",
       "      <td>9</td>\n",
       "      <td>9</td>\n",
       "    </tr>\n",
       "    <tr>\n",
       "      <th>3</th>\n",
       "      <td>4</td>\n",
       "      <td>40</td>\n",
       "      <td>16</td>\n",
       "      <td>16</td>\n",
       "    </tr>\n",
       "    <tr>\n",
       "      <th>4</th>\n",
       "      <td>5</td>\n",
       "      <td>50</td>\n",
       "      <td>25</td>\n",
       "      <td>25</td>\n",
       "    </tr>\n",
       "  </tbody>\n",
       "</table>\n",
       "</div>"
      ],
      "text/plain": [
       "   a   b  a^2  sum\n",
       "0  1  10    1    1\n",
       "1  2  20    4    4\n",
       "2  3  30    9    9\n",
       "3  4  40   16   16\n",
       "4  5  50   25   25"
      ]
     },
     "execution_count": 558,
     "metadata": {},
     "output_type": "execute_result"
    }
   ],
   "source": [
    "df['sum'] = df.iloc[:,2:].apply(np.sum, axis=1)\n",
    "df"
   ]
  },
  {
   "cell_type": "code",
   "execution_count": 559,
   "metadata": {},
   "outputs": [
    {
     "data": {
      "text/html": [
       "<div>\n",
       "<style scoped>\n",
       "    .dataframe tbody tr th:only-of-type {\n",
       "        vertical-align: middle;\n",
       "    }\n",
       "\n",
       "    .dataframe tbody tr th {\n",
       "        vertical-align: top;\n",
       "    }\n",
       "\n",
       "    .dataframe thead th {\n",
       "        text-align: right;\n",
       "    }\n",
       "</style>\n",
       "<table border=\"1\" class=\"dataframe\">\n",
       "  <thead>\n",
       "    <tr style=\"text-align: right;\">\n",
       "      <th></th>\n",
       "      <th>a</th>\n",
       "      <th>b</th>\n",
       "    </tr>\n",
       "  </thead>\n",
       "  <tbody>\n",
       "    <tr>\n",
       "      <th>0</th>\n",
       "      <td>1</td>\n",
       "      <td>10</td>\n",
       "    </tr>\n",
       "    <tr>\n",
       "      <th>1</th>\n",
       "      <td>2</td>\n",
       "      <td>20</td>\n",
       "    </tr>\n",
       "    <tr>\n",
       "      <th>2</th>\n",
       "      <td>3</td>\n",
       "      <td>30</td>\n",
       "    </tr>\n",
       "    <tr>\n",
       "      <th>3</th>\n",
       "      <td>4</td>\n",
       "      <td>40</td>\n",
       "    </tr>\n",
       "    <tr>\n",
       "      <th>4</th>\n",
       "      <td>5</td>\n",
       "      <td>50</td>\n",
       "    </tr>\n",
       "  </tbody>\n",
       "</table>\n",
       "</div>"
      ],
      "text/plain": [
       "   a   b\n",
       "0  1  10\n",
       "1  2  20\n",
       "2  3  30\n",
       "3  4  40\n",
       "4  5  50"
      ]
     },
     "execution_count": 559,
     "metadata": {},
     "output_type": "execute_result"
    }
   ],
   "source": [
    "data = {'a': [1, 2, 3, 4, 5], 'b': [10, 20, 30, 40, 50]}\n",
    "df = pd.DataFrame(data)\n",
    "df"
   ]
  },
  {
   "cell_type": "code",
   "execution_count": 560,
   "metadata": {},
   "outputs": [
    {
     "data": {
      "text/html": [
       "<div>\n",
       "<style scoped>\n",
       "    .dataframe tbody tr th:only-of-type {\n",
       "        vertical-align: middle;\n",
       "    }\n",
       "\n",
       "    .dataframe tbody tr th {\n",
       "        vertical-align: top;\n",
       "    }\n",
       "\n",
       "    .dataframe thead th {\n",
       "        text-align: right;\n",
       "    }\n",
       "</style>\n",
       "<table border=\"1\" class=\"dataframe\">\n",
       "  <thead>\n",
       "    <tr style=\"text-align: right;\">\n",
       "      <th></th>\n",
       "      <th>a</th>\n",
       "      <th>b</th>\n",
       "      <th>sum</th>\n",
       "    </tr>\n",
       "  </thead>\n",
       "  <tbody>\n",
       "    <tr>\n",
       "      <th>0</th>\n",
       "      <td>1</td>\n",
       "      <td>10</td>\n",
       "      <td>11</td>\n",
       "    </tr>\n",
       "    <tr>\n",
       "      <th>1</th>\n",
       "      <td>2</td>\n",
       "      <td>20</td>\n",
       "      <td>22</td>\n",
       "    </tr>\n",
       "    <tr>\n",
       "      <th>2</th>\n",
       "      <td>3</td>\n",
       "      <td>30</td>\n",
       "      <td>33</td>\n",
       "    </tr>\n",
       "    <tr>\n",
       "      <th>3</th>\n",
       "      <td>4</td>\n",
       "      <td>40</td>\n",
       "      <td>44</td>\n",
       "    </tr>\n",
       "    <tr>\n",
       "      <th>4</th>\n",
       "      <td>5</td>\n",
       "      <td>50</td>\n",
       "      <td>55</td>\n",
       "    </tr>\n",
       "  </tbody>\n",
       "</table>\n",
       "</div>"
      ],
      "text/plain": [
       "   a   b  sum\n",
       "0  1  10   11\n",
       "1  2  20   22\n",
       "2  3  30   33\n",
       "3  4  40   44\n",
       "4  5  50   55"
      ]
     },
     "execution_count": 560,
     "metadata": {},
     "output_type": "execute_result"
    }
   ],
   "source": [
    "df['sum'] = np.sum(df, axis=1)\n",
    "df"
   ]
  },
  {
   "cell_type": "code",
   "execution_count": 561,
   "metadata": {},
   "outputs": [
    {
     "data": {
      "text/plain": [
       "A    0    1\\n1    2\\n2    3\\nName: A, dtype: int64_...\n",
       "B    0    4\\n1    5\\n2    6\\nName: B, dtype: int64_...\n",
       "dtype: object"
      ]
     },
     "execution_count": 561,
     "metadata": {},
     "output_type": "execute_result"
    }
   ],
   "source": [
    "df = pd.DataFrame({'A': [1, 2, 3], 'B': [4, 5, 6]})\n",
    "df = df.apply(lambda x: str(x) + '_string')\n",
    "df"
   ]
  },
  {
   "cell_type": "code",
   "execution_count": 562,
   "metadata": {},
   "outputs": [
    {
     "name": "stdout",
     "output_type": "stream",
     "text": [
      "   A  B\n",
      "0  1  4\n",
      "1  2  5\n",
      "2  3  6\n",
      "   B  A\n",
      "0  4  1\n",
      "1  5  2\n",
      "2  6  3\n"
     ]
    }
   ],
   "source": [
    "df = pd.DataFrame({'A': [1, 2, 3], 'B': [4, 5, 6]})\n",
    "print(df)\n",
    "df = df.loc[:, ['B', 'A']]\n",
    "print(df)"
   ]
  },
  {
   "cell_type": "code",
   "execution_count": 563,
   "metadata": {},
   "outputs": [
    {
     "data": {
      "text/html": [
       "<div>\n",
       "<style scoped>\n",
       "    .dataframe tbody tr th:only-of-type {\n",
       "        vertical-align: middle;\n",
       "    }\n",
       "\n",
       "    .dataframe tbody tr th {\n",
       "        vertical-align: top;\n",
       "    }\n",
       "\n",
       "    .dataframe thead th {\n",
       "        text-align: right;\n",
       "    }\n",
       "</style>\n",
       "<table border=\"1\" class=\"dataframe\">\n",
       "  <thead>\n",
       "    <tr style=\"text-align: right;\">\n",
       "      <th></th>\n",
       "      <th>a</th>\n",
       "      <th>b</th>\n",
       "    </tr>\n",
       "  </thead>\n",
       "  <tbody>\n",
       "    <tr>\n",
       "      <th>A</th>\n",
       "      <td>1</td>\n",
       "      <td>2</td>\n",
       "    </tr>\n",
       "    <tr>\n",
       "      <th>B</th>\n",
       "      <td>3</td>\n",
       "      <td>4</td>\n",
       "    </tr>\n",
       "    <tr>\n",
       "      <th>C</th>\n",
       "      <td>5</td>\n",
       "      <td>6</td>\n",
       "    </tr>\n",
       "    <tr>\n",
       "      <th>D</th>\n",
       "      <td>7</td>\n",
       "      <td>8</td>\n",
       "    </tr>\n",
       "    <tr>\n",
       "      <th>E</th>\n",
       "      <td>9</td>\n",
       "      <td>10</td>\n",
       "    </tr>\n",
       "    <tr>\n",
       "      <th>F</th>\n",
       "      <td>11</td>\n",
       "      <td>12</td>\n",
       "    </tr>\n",
       "    <tr>\n",
       "      <th>G</th>\n",
       "      <td>13</td>\n",
       "      <td>14</td>\n",
       "    </tr>\n",
       "  </tbody>\n",
       "</table>\n",
       "</div>"
      ],
      "text/plain": [
       "    a   b\n",
       "A   1   2\n",
       "B   3   4\n",
       "C   5   6\n",
       "D   7   8\n",
       "E   9  10\n",
       "F  11  12\n",
       "G  13  14"
      ]
     },
     "execution_count": 563,
     "metadata": {},
     "output_type": "execute_result"
    }
   ],
   "source": [
    "arr = np.array(range(1, 15)).reshape(7, 2)\n",
    "df = pd.DataFrame(arr, \n",
    "                  columns=['a', 'b'],\n",
    "                  index=list(ascii_uppercase[:len(arr)]))\n",
    "\n",
    "df"
   ]
  },
  {
   "cell_type": "code",
   "execution_count": 564,
   "metadata": {},
   "outputs": [
    {
     "data": {
      "text/html": [
       "<div>\n",
       "<style scoped>\n",
       "    .dataframe tbody tr th:only-of-type {\n",
       "        vertical-align: middle;\n",
       "    }\n",
       "\n",
       "    .dataframe tbody tr th {\n",
       "        vertical-align: top;\n",
       "    }\n",
       "\n",
       "    .dataframe thead th {\n",
       "        text-align: right;\n",
       "    }\n",
       "</style>\n",
       "<table border=\"1\" class=\"dataframe\">\n",
       "  <thead>\n",
       "    <tr style=\"text-align: right;\">\n",
       "      <th></th>\n",
       "      <th>a</th>\n",
       "      <th>b</th>\n",
       "    </tr>\n",
       "  </thead>\n",
       "  <tbody>\n",
       "    <tr>\n",
       "      <th>A</th>\n",
       "      <td>1</td>\n",
       "      <td>4</td>\n",
       "    </tr>\n",
       "    <tr>\n",
       "      <th>B</th>\n",
       "      <td>9</td>\n",
       "      <td>16</td>\n",
       "    </tr>\n",
       "    <tr>\n",
       "      <th>C</th>\n",
       "      <td>25</td>\n",
       "      <td>36</td>\n",
       "    </tr>\n",
       "    <tr>\n",
       "      <th>D</th>\n",
       "      <td>49</td>\n",
       "      <td>64</td>\n",
       "    </tr>\n",
       "    <tr>\n",
       "      <th>E</th>\n",
       "      <td>81</td>\n",
       "      <td>100</td>\n",
       "    </tr>\n",
       "    <tr>\n",
       "      <th>F</th>\n",
       "      <td>121</td>\n",
       "      <td>144</td>\n",
       "    </tr>\n",
       "    <tr>\n",
       "      <th>G</th>\n",
       "      <td>169</td>\n",
       "      <td>196</td>\n",
       "    </tr>\n",
       "  </tbody>\n",
       "</table>\n",
       "</div>"
      ],
      "text/plain": [
       "     a    b\n",
       "A    1    4\n",
       "B    9   16\n",
       "C   25   36\n",
       "D   49   64\n",
       "E   81  100\n",
       "F  121  144\n",
       "G  169  196"
      ]
     },
     "execution_count": 564,
     "metadata": {},
     "output_type": "execute_result"
    }
   ],
   "source": [
    "df.apply(lambda x: x**2)"
   ]
  },
  {
   "cell_type": "code",
   "execution_count": 565,
   "metadata": {},
   "outputs": [
    {
     "data": {
      "text/html": [
       "<div>\n",
       "<style scoped>\n",
       "    .dataframe tbody tr th:only-of-type {\n",
       "        vertical-align: middle;\n",
       "    }\n",
       "\n",
       "    .dataframe tbody tr th {\n",
       "        vertical-align: top;\n",
       "    }\n",
       "\n",
       "    .dataframe thead th {\n",
       "        text-align: right;\n",
       "    }\n",
       "</style>\n",
       "<table border=\"1\" class=\"dataframe\">\n",
       "  <thead>\n",
       "    <tr style=\"text-align: right;\">\n",
       "      <th></th>\n",
       "      <th>x</th>\n",
       "      <th>ln(x)</th>\n",
       "    </tr>\n",
       "  </thead>\n",
       "  <tbody>\n",
       "    <tr>\n",
       "      <th>0</th>\n",
       "      <td>0.0</td>\n",
       "      <td>-inf</td>\n",
       "    </tr>\n",
       "    <tr>\n",
       "      <th>1</th>\n",
       "      <td>0.5</td>\n",
       "      <td>-0.693147</td>\n",
       "    </tr>\n",
       "    <tr>\n",
       "      <th>2</th>\n",
       "      <td>1.0</td>\n",
       "      <td>0.000000</td>\n",
       "    </tr>\n",
       "    <tr>\n",
       "      <th>3</th>\n",
       "      <td>1.5</td>\n",
       "      <td>0.405465</td>\n",
       "    </tr>\n",
       "    <tr>\n",
       "      <th>4</th>\n",
       "      <td>2.0</td>\n",
       "      <td>0.693147</td>\n",
       "    </tr>\n",
       "    <tr>\n",
       "      <th>5</th>\n",
       "      <td>2.5</td>\n",
       "      <td>0.916291</td>\n",
       "    </tr>\n",
       "    <tr>\n",
       "      <th>6</th>\n",
       "      <td>3.0</td>\n",
       "      <td>1.098612</td>\n",
       "    </tr>\n",
       "    <tr>\n",
       "      <th>7</th>\n",
       "      <td>3.5</td>\n",
       "      <td>1.252763</td>\n",
       "    </tr>\n",
       "    <tr>\n",
       "      <th>8</th>\n",
       "      <td>4.0</td>\n",
       "      <td>1.386294</td>\n",
       "    </tr>\n",
       "    <tr>\n",
       "      <th>9</th>\n",
       "      <td>4.5</td>\n",
       "      <td>1.504077</td>\n",
       "    </tr>\n",
       "    <tr>\n",
       "      <th>10</th>\n",
       "      <td>5.0</td>\n",
       "      <td>1.609438</td>\n",
       "    </tr>\n",
       "  </tbody>\n",
       "</table>\n",
       "</div>"
      ],
      "text/plain": [
       "      x     ln(x)\n",
       "0   0.0      -inf\n",
       "1   0.5 -0.693147\n",
       "2   1.0  0.000000\n",
       "3   1.5  0.405465\n",
       "4   2.0  0.693147\n",
       "5   2.5  0.916291\n",
       "6   3.0  1.098612\n",
       "7   3.5  1.252763\n",
       "8   4.0  1.386294\n",
       "9   4.5  1.504077\n",
       "10  5.0  1.609438"
      ]
     },
     "execution_count": 565,
     "metadata": {},
     "output_type": "execute_result"
    }
   ],
   "source": [
    "df = pd.DataFrame(np.arange(0, 5.5, 0.5), columns=['x'])\n",
    "np.seterr(divide = 'ignore')\n",
    "df['ln(x)'] = df['x'].apply(lambda x: np.log(x))\n",
    "df"
   ]
  },
  {
   "cell_type": "code",
   "execution_count": 566,
   "metadata": {},
   "outputs": [
    {
     "data": {
      "text/html": [
       "<div>\n",
       "<style scoped>\n",
       "    .dataframe tbody tr th:only-of-type {\n",
       "        vertical-align: middle;\n",
       "    }\n",
       "\n",
       "    .dataframe tbody tr th {\n",
       "        vertical-align: top;\n",
       "    }\n",
       "\n",
       "    .dataframe thead th {\n",
       "        text-align: right;\n",
       "    }\n",
       "</style>\n",
       "<table border=\"1\" class=\"dataframe\">\n",
       "  <thead>\n",
       "    <tr style=\"text-align: right;\">\n",
       "      <th></th>\n",
       "      <th>x</th>\n",
       "      <th>ln(x)</th>\n",
       "    </tr>\n",
       "  </thead>\n",
       "  <tbody>\n",
       "    <tr>\n",
       "      <th>0</th>\n",
       "      <td>0.0</td>\n",
       "      <td>-inf</td>\n",
       "    </tr>\n",
       "    <tr>\n",
       "      <th>1</th>\n",
       "      <td>0.5</td>\n",
       "      <td>-0.693147</td>\n",
       "    </tr>\n",
       "    <tr>\n",
       "      <th>2</th>\n",
       "      <td>1.0</td>\n",
       "      <td>0.000000</td>\n",
       "    </tr>\n",
       "    <tr>\n",
       "      <th>3</th>\n",
       "      <td>1.5</td>\n",
       "      <td>0.405465</td>\n",
       "    </tr>\n",
       "    <tr>\n",
       "      <th>4</th>\n",
       "      <td>2.0</td>\n",
       "      <td>0.693147</td>\n",
       "    </tr>\n",
       "    <tr>\n",
       "      <th>5</th>\n",
       "      <td>2.5</td>\n",
       "      <td>0.916291</td>\n",
       "    </tr>\n",
       "    <tr>\n",
       "      <th>6</th>\n",
       "      <td>3.0</td>\n",
       "      <td>1.098612</td>\n",
       "    </tr>\n",
       "    <tr>\n",
       "      <th>7</th>\n",
       "      <td>3.5</td>\n",
       "      <td>1.252763</td>\n",
       "    </tr>\n",
       "    <tr>\n",
       "      <th>8</th>\n",
       "      <td>4.0</td>\n",
       "      <td>1.386294</td>\n",
       "    </tr>\n",
       "    <tr>\n",
       "      <th>9</th>\n",
       "      <td>4.5</td>\n",
       "      <td>1.504077</td>\n",
       "    </tr>\n",
       "    <tr>\n",
       "      <th>10</th>\n",
       "      <td>5.0</td>\n",
       "      <td>1.609438</td>\n",
       "    </tr>\n",
       "  </tbody>\n",
       "</table>\n",
       "</div>"
      ],
      "text/plain": [
       "      x     ln(x)\n",
       "0   0.0      -inf\n",
       "1   0.5 -0.693147\n",
       "2   1.0  0.000000\n",
       "3   1.5  0.405465\n",
       "4   2.0  0.693147\n",
       "5   2.5  0.916291\n",
       "6   3.0  1.098612\n",
       "7   3.5  1.252763\n",
       "8   4.0  1.386294\n",
       "9   4.5  1.504077\n",
       "10  5.0  1.609438"
      ]
     },
     "execution_count": 566,
     "metadata": {},
     "output_type": "execute_result"
    }
   ],
   "source": [
    "df['ln(x)'] = df['x'].apply(np.log)\n",
    "df"
   ]
  },
  {
   "cell_type": "code",
   "execution_count": 567,
   "metadata": {},
   "outputs": [
    {
     "name": "stdout",
     "output_type": "stream",
     "text": [
      "    A   B\n",
      "0   1   2\n",
      "1   3   4\n",
      "2   5   6\n",
      "3   7   8\n",
      "4   9  10\n",
      "5  11  12\n",
      "6  13  14\n",
      "7  15  16\n",
      "    A   B   C\n",
      "0   1   2   3\n",
      "1   3   4   7\n",
      "2   5   6  11\n",
      "3   7   8  15\n",
      "4   9  10  19\n",
      "5  11  12  23\n",
      "6  13  14  27\n",
      "7  15  16  31\n"
     ]
    }
   ],
   "source": [
    "arr = np.array(range(1, 17)).reshape(8, 2)\n",
    "df = pd.DataFrame(arr, columns=['A', 'B'])\n",
    "print(df)\n",
    "df['C'] = df['A'] + df['B']\n",
    "print(df)"
   ]
  },
  {
   "cell_type": "code",
   "execution_count": 568,
   "metadata": {},
   "outputs": [
    {
     "data": {
      "text/html": [
       "<div>\n",
       "<style scoped>\n",
       "    .dataframe tbody tr th:only-of-type {\n",
       "        vertical-align: middle;\n",
       "    }\n",
       "\n",
       "    .dataframe tbody tr th {\n",
       "        vertical-align: top;\n",
       "    }\n",
       "\n",
       "    .dataframe thead th {\n",
       "        text-align: right;\n",
       "    }\n",
       "</style>\n",
       "<table border=\"1\" class=\"dataframe\">\n",
       "  <thead>\n",
       "    <tr style=\"text-align: right;\">\n",
       "      <th></th>\n",
       "      <th>Буквы</th>\n",
       "      <th>Описание</th>\n",
       "    </tr>\n",
       "  </thead>\n",
       "  <tbody>\n",
       "    <tr>\n",
       "      <th>0</th>\n",
       "      <td>а</td>\n",
       "      <td>это буква а</td>\n",
       "    </tr>\n",
       "    <tr>\n",
       "      <th>1</th>\n",
       "      <td>б</td>\n",
       "      <td>это буква б</td>\n",
       "    </tr>\n",
       "    <tr>\n",
       "      <th>2</th>\n",
       "      <td>в</td>\n",
       "      <td>это буква в</td>\n",
       "    </tr>\n",
       "    <tr>\n",
       "      <th>3</th>\n",
       "      <td>г</td>\n",
       "      <td>это буква г</td>\n",
       "    </tr>\n",
       "    <tr>\n",
       "      <th>4</th>\n",
       "      <td>д</td>\n",
       "      <td>это буква д</td>\n",
       "    </tr>\n",
       "    <tr>\n",
       "      <th>5</th>\n",
       "      <td>е</td>\n",
       "      <td>это буква е</td>\n",
       "    </tr>\n",
       "    <tr>\n",
       "      <th>6</th>\n",
       "      <td>ё</td>\n",
       "      <td>это буква ё</td>\n",
       "    </tr>\n",
       "    <tr>\n",
       "      <th>7</th>\n",
       "      <td>ж</td>\n",
       "      <td>это буква ж</td>\n",
       "    </tr>\n",
       "    <tr>\n",
       "      <th>8</th>\n",
       "      <td>з</td>\n",
       "      <td>это буква з</td>\n",
       "    </tr>\n",
       "    <tr>\n",
       "      <th>9</th>\n",
       "      <td>и</td>\n",
       "      <td>это буква и</td>\n",
       "    </tr>\n",
       "  </tbody>\n",
       "</table>\n",
       "</div>"
      ],
      "text/plain": [
       "  Буквы     Описание\n",
       "0     а  это буква а\n",
       "1     б  это буква б\n",
       "2     в  это буква в\n",
       "3     г  это буква г\n",
       "4     д  это буква д\n",
       "5     е  это буква е\n",
       "6     ё  это буква ё\n",
       "7     ж  это буква ж\n",
       "8     з  это буква з\n",
       "9     и  это буква и"
      ]
     },
     "execution_count": 568,
     "metadata": {},
     "output_type": "execute_result"
    }
   ],
   "source": [
    "df = pd.DataFrame(list('абвгдеёжзи'), columns=['Буквы'])\n",
    "df['Описание'] = df['Буквы'].apply(lambda x: 'это буква ' + x)\n",
    "df"
   ]
  },
  {
   "cell_type": "code",
   "execution_count": 569,
   "metadata": {},
   "outputs": [
    {
     "data": {
      "text/html": [
       "<div>\n",
       "<style scoped>\n",
       "    .dataframe tbody tr th:only-of-type {\n",
       "        vertical-align: middle;\n",
       "    }\n",
       "\n",
       "    .dataframe tbody tr th {\n",
       "        vertical-align: top;\n",
       "    }\n",
       "\n",
       "    .dataframe thead th {\n",
       "        text-align: right;\n",
       "    }\n",
       "</style>\n",
       "<table border=\"1\" class=\"dataframe\">\n",
       "  <thead>\n",
       "    <tr style=\"text-align: right;\">\n",
       "      <th></th>\n",
       "      <th>Магазин</th>\n",
       "      <th>Продукт</th>\n",
       "      <th>Продажи</th>\n",
       "    </tr>\n",
       "  </thead>\n",
       "  <tbody>\n",
       "    <tr>\n",
       "      <th>0</th>\n",
       "      <td>Магазин 1</td>\n",
       "      <td>Товар 1</td>\n",
       "      <td>100</td>\n",
       "    </tr>\n",
       "    <tr>\n",
       "      <th>1</th>\n",
       "      <td>Магазин 1</td>\n",
       "      <td>Товар 2</td>\n",
       "      <td>200</td>\n",
       "    </tr>\n",
       "    <tr>\n",
       "      <th>2</th>\n",
       "      <td>Магазин 2</td>\n",
       "      <td>Товар 1</td>\n",
       "      <td>150</td>\n",
       "    </tr>\n",
       "    <tr>\n",
       "      <th>3</th>\n",
       "      <td>Магазин 2</td>\n",
       "      <td>Товар 2</td>\n",
       "      <td>250</td>\n",
       "    </tr>\n",
       "    <tr>\n",
       "      <th>4</th>\n",
       "      <td>Магазин 3</td>\n",
       "      <td>Товар 1</td>\n",
       "      <td>50</td>\n",
       "    </tr>\n",
       "    <tr>\n",
       "      <th>5</th>\n",
       "      <td>Магазин 3</td>\n",
       "      <td>Товар 2</td>\n",
       "      <td>100</td>\n",
       "    </tr>\n",
       "  </tbody>\n",
       "</table>\n",
       "</div>"
      ],
      "text/plain": [
       "     Магазин  Продукт  Продажи\n",
       "0  Магазин 1  Товар 1      100\n",
       "1  Магазин 1  Товар 2      200\n",
       "2  Магазин 2  Товар 1      150\n",
       "3  Магазин 2  Товар 2      250\n",
       "4  Магазин 3  Товар 1       50\n",
       "5  Магазин 3  Товар 2      100"
      ]
     },
     "execution_count": 569,
     "metadata": {},
     "output_type": "execute_result"
    }
   ],
   "source": [
    "df = pd.DataFrame({\n",
    "    'Магазин': ['Магазин 1', 'Магазин 1', 'Магазин 2', 'Магазин 2', 'Магазин 3', 'Магазин 3'],\n",
    "    'Продукт': ['Товар 1', 'Товар 2', 'Товар 1', 'Товар 2', 'Товар 1', 'Товар 2'],\n",
    "    'Продажи': [100, 200, 150, 250, 50, 100]\n",
    "})\n",
    "df"
   ]
  },
  {
   "cell_type": "code",
   "execution_count": 570,
   "metadata": {},
   "outputs": [
    {
     "name": "stdout",
     "output_type": "stream",
     "text": [
      "Магазин 3: 150\n"
     ]
    }
   ],
   "source": [
    "store = 'Магазин 3'\n",
    "total_year_sum = df[df['Магазин'] == store]['Продажи'].sum()\n",
    "print(f'{store}: {total_year_sum}')"
   ]
  },
  {
   "cell_type": "code",
   "execution_count": 571,
   "metadata": {},
   "outputs": [
    {
     "data": {
      "text/html": [
       "<div>\n",
       "<style scoped>\n",
       "    .dataframe tbody tr th:only-of-type {\n",
       "        vertical-align: middle;\n",
       "    }\n",
       "\n",
       "    .dataframe tbody tr th {\n",
       "        vertical-align: top;\n",
       "    }\n",
       "\n",
       "    .dataframe thead th {\n",
       "        text-align: right;\n",
       "    }\n",
       "</style>\n",
       "<table border=\"1\" class=\"dataframe\">\n",
       "  <thead>\n",
       "    <tr style=\"text-align: right;\">\n",
       "      <th></th>\n",
       "      <th>Район</th>\n",
       "      <th>Стоимость</th>\n",
       "    </tr>\n",
       "  </thead>\n",
       "  <tbody>\n",
       "    <tr>\n",
       "      <th>0</th>\n",
       "      <td>Район1</td>\n",
       "      <td>1000000</td>\n",
       "    </tr>\n",
       "    <tr>\n",
       "      <th>1</th>\n",
       "      <td>Район2</td>\n",
       "      <td>2000000</td>\n",
       "    </tr>\n",
       "    <tr>\n",
       "      <th>2</th>\n",
       "      <td>Район1</td>\n",
       "      <td>1500000</td>\n",
       "    </tr>\n",
       "    <tr>\n",
       "      <th>3</th>\n",
       "      <td>Район3</td>\n",
       "      <td>1200000</td>\n",
       "    </tr>\n",
       "    <tr>\n",
       "      <th>4</th>\n",
       "      <td>Район2</td>\n",
       "      <td>1800000</td>\n",
       "    </tr>\n",
       "  </tbody>\n",
       "</table>\n",
       "</div>"
      ],
      "text/plain": [
       "    Район  Стоимость\n",
       "0  Район1    1000000\n",
       "1  Район2    2000000\n",
       "2  Район1    1500000\n",
       "3  Район3    1200000\n",
       "4  Район2    1800000"
      ]
     },
     "execution_count": 571,
     "metadata": {},
     "output_type": "execute_result"
    }
   ],
   "source": [
    "df = pd.DataFrame({\n",
    "    \"Район\": [\"Район1\", \"Район2\", \"Район1\", \"Район3\", \"Район2\"],\n",
    "    \"Стоимость\": [1000000, 2000000, 1500000, 1200000, 1800000]\n",
    "})\n",
    "df"
   ]
  },
  {
   "cell_type": "code",
   "execution_count": 572,
   "metadata": {},
   "outputs": [
    {
     "name": "stdout",
     "output_type": "stream",
     "text": [
      "Район1: 1250000.0\n"
     ]
    }
   ],
   "source": [
    "sub = 'Район1'\n",
    "price_mean = df[df['Район'] == sub]['Стоимость'].mean()\n",
    "print(f'{sub}: {price_mean}')"
   ]
  },
  {
   "cell_type": "code",
   "execution_count": 573,
   "metadata": {},
   "outputs": [
    {
     "name": "stdout",
     "output_type": "stream",
     "text": [
      "Район1: 1250000.0\n"
     ]
    }
   ],
   "source": [
    "price_mean_df = df.groupby('Район')['Стоимость'].mean().astype('float64')\n",
    "print(f'{sub}: {price_mean_df[sub]}')"
   ]
  },
  {
   "cell_type": "code",
   "execution_count": 574,
   "metadata": {},
   "outputs": [
    {
     "data": {
      "text/html": [
       "<div>\n",
       "<style scoped>\n",
       "    .dataframe tbody tr th:only-of-type {\n",
       "        vertical-align: middle;\n",
       "    }\n",
       "\n",
       "    .dataframe tbody tr th {\n",
       "        vertical-align: top;\n",
       "    }\n",
       "\n",
       "    .dataframe thead th {\n",
       "        text-align: right;\n",
       "    }\n",
       "</style>\n",
       "<table border=\"1\" class=\"dataframe\">\n",
       "  <thead>\n",
       "    <tr style=\"text-align: right;\">\n",
       "      <th></th>\n",
       "      <th>Продукт</th>\n",
       "      <th>Количество проданных единиц</th>\n",
       "      <th>Цена за единицу</th>\n",
       "    </tr>\n",
       "  </thead>\n",
       "  <tbody>\n",
       "    <tr>\n",
       "      <th>0</th>\n",
       "      <td>Мюсли</td>\n",
       "      <td>150</td>\n",
       "      <td>3.99</td>\n",
       "    </tr>\n",
       "    <tr>\n",
       "      <th>1</th>\n",
       "      <td>Гранола</td>\n",
       "      <td>80</td>\n",
       "      <td>5.99</td>\n",
       "    </tr>\n",
       "    <tr>\n",
       "      <th>2</th>\n",
       "      <td>Овсянка</td>\n",
       "      <td>120</td>\n",
       "      <td>2.99</td>\n",
       "    </tr>\n",
       "    <tr>\n",
       "      <th>3</th>\n",
       "      <td>Фрукты</td>\n",
       "      <td>200</td>\n",
       "      <td>1.99</td>\n",
       "    </tr>\n",
       "    <tr>\n",
       "      <th>4</th>\n",
       "      <td>Йогурт</td>\n",
       "      <td>100</td>\n",
       "      <td>2.49</td>\n",
       "    </tr>\n",
       "  </tbody>\n",
       "</table>\n",
       "</div>"
      ],
      "text/plain": [
       "   Продукт  Количество проданных единиц  Цена за единицу\n",
       "0    Мюсли                          150             3.99\n",
       "1  Гранола                           80             5.99\n",
       "2  Овсянка                          120             2.99\n",
       "3   Фрукты                          200             1.99\n",
       "4   Йогурт                          100             2.49"
      ]
     },
     "execution_count": 574,
     "metadata": {},
     "output_type": "execute_result"
    }
   ],
   "source": [
    "sales_data = {'Продукт': ['Мюсли', 'Гранола', 'Овсянка', 'Фрукты', 'Йогурт'], 'Количество проданных единиц':\n",
    "        [150, 80, 120, 200, 100], 'Цена за единицу': [3.99, 5.99, 2.99, 1.99, 2.49]}\n",
    "df = pd.DataFrame(sales_data)\n",
    "df"
   ]
  },
  {
   "cell_type": "code",
   "execution_count": 575,
   "metadata": {},
   "outputs": [
    {
     "name": "stdout",
     "output_type": "stream",
     "text": [
      "Общая выручка составляет: 2083.5\n"
     ]
    },
    {
     "data": {
      "text/html": [
       "<div>\n",
       "<style scoped>\n",
       "    .dataframe tbody tr th:only-of-type {\n",
       "        vertical-align: middle;\n",
       "    }\n",
       "\n",
       "    .dataframe tbody tr th {\n",
       "        vertical-align: top;\n",
       "    }\n",
       "\n",
       "    .dataframe thead th {\n",
       "        text-align: right;\n",
       "    }\n",
       "</style>\n",
       "<table border=\"1\" class=\"dataframe\">\n",
       "  <thead>\n",
       "    <tr style=\"text-align: right;\">\n",
       "      <th></th>\n",
       "      <th>Продукт</th>\n",
       "      <th>Количество проданных единиц</th>\n",
       "      <th>Цена за единицу</th>\n",
       "      <th>Выручка</th>\n",
       "    </tr>\n",
       "  </thead>\n",
       "  <tbody>\n",
       "    <tr>\n",
       "      <th>0</th>\n",
       "      <td>Мюсли</td>\n",
       "      <td>150</td>\n",
       "      <td>3.99</td>\n",
       "      <td>598.5</td>\n",
       "    </tr>\n",
       "    <tr>\n",
       "      <th>1</th>\n",
       "      <td>Гранола</td>\n",
       "      <td>80</td>\n",
       "      <td>5.99</td>\n",
       "      <td>479.2</td>\n",
       "    </tr>\n",
       "    <tr>\n",
       "      <th>2</th>\n",
       "      <td>Овсянка</td>\n",
       "      <td>120</td>\n",
       "      <td>2.99</td>\n",
       "      <td>358.8</td>\n",
       "    </tr>\n",
       "    <tr>\n",
       "      <th>3</th>\n",
       "      <td>Фрукты</td>\n",
       "      <td>200</td>\n",
       "      <td>1.99</td>\n",
       "      <td>398.0</td>\n",
       "    </tr>\n",
       "    <tr>\n",
       "      <th>4</th>\n",
       "      <td>Йогурт</td>\n",
       "      <td>100</td>\n",
       "      <td>2.49</td>\n",
       "      <td>249.0</td>\n",
       "    </tr>\n",
       "  </tbody>\n",
       "</table>\n",
       "</div>"
      ],
      "text/plain": [
       "   Продукт  Количество проданных единиц  Цена за единицу  Выручка\n",
       "0    Мюсли                          150             3.99    598.5\n",
       "1  Гранола                           80             5.99    479.2\n",
       "2  Овсянка                          120             2.99    358.8\n",
       "3   Фрукты                          200             1.99    398.0\n",
       "4   Йогурт                          100             2.49    249.0"
      ]
     },
     "execution_count": 575,
     "metadata": {},
     "output_type": "execute_result"
    }
   ],
   "source": [
    "df['Выручка'] = df['Цена за единицу'].mul(df['Количество проданных единиц'])\n",
    "total_revenue = df['Выручка'].sum()\n",
    "print(f'Общая выручка составляет: {total_revenue}')\n",
    "df"
   ]
  },
  {
   "cell_type": "code",
   "execution_count": 576,
   "metadata": {},
   "outputs": [
    {
     "data": {
      "text/html": [
       "<div>\n",
       "<style scoped>\n",
       "    .dataframe tbody tr th:only-of-type {\n",
       "        vertical-align: middle;\n",
       "    }\n",
       "\n",
       "    .dataframe tbody tr th {\n",
       "        vertical-align: top;\n",
       "    }\n",
       "\n",
       "    .dataframe thead th {\n",
       "        text-align: right;\n",
       "    }\n",
       "</style>\n",
       "<table border=\"1\" class=\"dataframe\">\n",
       "  <thead>\n",
       "    <tr style=\"text-align: right;\">\n",
       "      <th></th>\n",
       "      <th>Продукт</th>\n",
       "      <th>Количество проданных единиц</th>\n",
       "      <th>Цена за единицу</th>\n",
       "      <th>Выручка</th>\n",
       "    </tr>\n",
       "  </thead>\n",
       "  <tbody>\n",
       "    <tr>\n",
       "      <th>0</th>\n",
       "      <td>Мюсли</td>\n",
       "      <td>150</td>\n",
       "      <td>3.99</td>\n",
       "      <td>598.5</td>\n",
       "    </tr>\n",
       "    <tr>\n",
       "      <th>1</th>\n",
       "      <td>Гранола</td>\n",
       "      <td>80</td>\n",
       "      <td>5.99</td>\n",
       "      <td>479.2</td>\n",
       "    </tr>\n",
       "    <tr>\n",
       "      <th>2</th>\n",
       "      <td>Овсянка</td>\n",
       "      <td>120</td>\n",
       "      <td>2.99</td>\n",
       "      <td>358.8</td>\n",
       "    </tr>\n",
       "    <tr>\n",
       "      <th>3</th>\n",
       "      <td>Фрукты</td>\n",
       "      <td>200</td>\n",
       "      <td>1.99</td>\n",
       "      <td>398.0</td>\n",
       "    </tr>\n",
       "    <tr>\n",
       "      <th>4</th>\n",
       "      <td>Йогурт</td>\n",
       "      <td>100</td>\n",
       "      <td>2.49</td>\n",
       "      <td>249.0</td>\n",
       "    </tr>\n",
       "  </tbody>\n",
       "</table>\n",
       "</div>"
      ],
      "text/plain": [
       "   Продукт  Количество проданных единиц  Цена за единицу  Выручка\n",
       "0    Мюсли                          150             3.99    598.5\n",
       "1  Гранола                           80             5.99    479.2\n",
       "2  Овсянка                          120             2.99    358.8\n",
       "3   Фрукты                          200             1.99    398.0\n",
       "4   Йогурт                          100             2.49    249.0"
      ]
     },
     "execution_count": 576,
     "metadata": {},
     "output_type": "execute_result"
    }
   ],
   "source": [
    "df['Выручка'] = np.prod(df[['Количество проданных единиц', 'Цена за единицу']], axis=1)\n",
    "df"
   ]
  },
  {
   "cell_type": "code",
   "execution_count": 577,
   "metadata": {},
   "outputs": [
    {
     "data": {
      "text/html": [
       "<div>\n",
       "<style scoped>\n",
       "    .dataframe tbody tr th:only-of-type {\n",
       "        vertical-align: middle;\n",
       "    }\n",
       "\n",
       "    .dataframe tbody tr th {\n",
       "        vertical-align: top;\n",
       "    }\n",
       "\n",
       "    .dataframe thead th {\n",
       "        text-align: right;\n",
       "    }\n",
       "</style>\n",
       "<table border=\"1\" class=\"dataframe\">\n",
       "  <thead>\n",
       "    <tr style=\"text-align: right;\">\n",
       "      <th></th>\n",
       "      <th>Дата</th>\n",
       "      <th>Время отправления</th>\n",
       "      <th>Место отправления</th>\n",
       "      <th>Место назначения</th>\n",
       "      <th>Расстояние (км)</th>\n",
       "      <th>Время поездки (мин)</th>\n",
       "    </tr>\n",
       "  </thead>\n",
       "  <tbody>\n",
       "    <tr>\n",
       "      <th>0</th>\n",
       "      <td>2023-05-01</td>\n",
       "      <td>08:30:00</td>\n",
       "      <td>Аэропорт</td>\n",
       "      <td>Отель</td>\n",
       "      <td>25</td>\n",
       "      <td>40</td>\n",
       "    </tr>\n",
       "    <tr>\n",
       "      <th>1</th>\n",
       "      <td>2023-05-02</td>\n",
       "      <td>12:15:00</td>\n",
       "      <td>Офис</td>\n",
       "      <td>Ресторан</td>\n",
       "      <td>10</td>\n",
       "      <td>20</td>\n",
       "    </tr>\n",
       "    <tr>\n",
       "      <th>2</th>\n",
       "      <td>2023-05-03</td>\n",
       "      <td>17:30:00</td>\n",
       "      <td>Ж/Д Вокзал</td>\n",
       "      <td>Музей</td>\n",
       "      <td>8</td>\n",
       "      <td>15</td>\n",
       "    </tr>\n",
       "  </tbody>\n",
       "</table>\n",
       "</div>"
      ],
      "text/plain": [
       "         Дата Время отправления Место отправления Место назначения  \\\n",
       "0  2023-05-01          08:30:00          Аэропорт            Отель   \n",
       "1  2023-05-02          12:15:00              Офис         Ресторан   \n",
       "2  2023-05-03          17:30:00        Ж/Д Вокзал            Музей   \n",
       "\n",
       "   Расстояние (км)  Время поездки (мин)  \n",
       "0               25                   40  \n",
       "1               10                   20  \n",
       "2                8                   15  "
      ]
     },
     "execution_count": 577,
     "metadata": {},
     "output_type": "execute_result"
    }
   ],
   "source": [
    "df = pd.DataFrame({\n",
    "    'Дата': ['2023-05-01', '2023-05-02', '2023-05-03'],\n",
    "    'Время отправления': ['08:30:00', '12:15:00', '17:30:00'],\n",
    "    'Место отправления': ['Аэропорт', 'Офис', 'Ж/Д Вокзал'],\n",
    "    'Место назначения': ['Отель', 'Ресторан', 'Музей'],\n",
    "    'Расстояние (км)': [25, 10, 8],\n",
    "    'Время поездки (мин)': [40, 20, 15]\n",
    "})\n",
    "df"
   ]
  },
  {
   "cell_type": "code",
   "execution_count": 578,
   "metadata": {},
   "outputs": [
    {
     "data": {
      "text/html": [
       "<div>\n",
       "<style scoped>\n",
       "    .dataframe tbody tr th:only-of-type {\n",
       "        vertical-align: middle;\n",
       "    }\n",
       "\n",
       "    .dataframe tbody tr th {\n",
       "        vertical-align: top;\n",
       "    }\n",
       "\n",
       "    .dataframe thead th {\n",
       "        text-align: right;\n",
       "    }\n",
       "</style>\n",
       "<table border=\"1\" class=\"dataframe\">\n",
       "  <thead>\n",
       "    <tr style=\"text-align: right;\">\n",
       "      <th></th>\n",
       "      <th>Место отправления</th>\n",
       "      <th>Место назначения</th>\n",
       "      <th>Стоимость поездки, руб.</th>\n",
       "    </tr>\n",
       "  </thead>\n",
       "  <tbody>\n",
       "    <tr>\n",
       "      <th>0</th>\n",
       "      <td>Аэропорт</td>\n",
       "      <td>Отель</td>\n",
       "      <td>830</td>\n",
       "    </tr>\n",
       "    <tr>\n",
       "      <th>1</th>\n",
       "      <td>Офис</td>\n",
       "      <td>Ресторан</td>\n",
       "      <td>340</td>\n",
       "    </tr>\n",
       "    <tr>\n",
       "      <th>2</th>\n",
       "      <td>Ж/Д Вокзал</td>\n",
       "      <td>Музей</td>\n",
       "      <td>270</td>\n",
       "    </tr>\n",
       "  </tbody>\n",
       "</table>\n",
       "</div>"
      ],
      "text/plain": [
       "  Место отправления Место назначения  Стоимость поездки, руб.\n",
       "0          Аэропорт            Отель                      830\n",
       "1              Офис         Ресторан                      340\n",
       "2        Ж/Д Вокзал            Музей                      270"
      ]
     },
     "execution_count": 578,
     "metadata": {},
     "output_type": "execute_result"
    }
   ],
   "source": [
    "new_df = pd.DataFrame({\n",
    "    'Место отправления': df['Место отправления'],\n",
    "    'Место назначения': df['Место назначения'],\n",
    "    'Стоимость поездки, руб.': df['Расстояние (км)'] * 30 + df['Время поездки (мин)'] * 2\n",
    "    })\n",
    "new_df"
   ]
  },
  {
   "cell_type": "code",
   "execution_count": 579,
   "metadata": {},
   "outputs": [
    {
     "data": {
      "text/html": [
       "<div>\n",
       "<style scoped>\n",
       "    .dataframe tbody tr th:only-of-type {\n",
       "        vertical-align: middle;\n",
       "    }\n",
       "\n",
       "    .dataframe tbody tr th {\n",
       "        vertical-align: top;\n",
       "    }\n",
       "\n",
       "    .dataframe thead th {\n",
       "        text-align: right;\n",
       "    }\n",
       "</style>\n",
       "<table border=\"1\" class=\"dataframe\">\n",
       "  <thead>\n",
       "    <tr style=\"text-align: right;\">\n",
       "      <th></th>\n",
       "      <th>Место отправления</th>\n",
       "      <th>Место назначения</th>\n",
       "      <th>Стоимость поездки, руб.</th>\n",
       "    </tr>\n",
       "  </thead>\n",
       "  <tbody>\n",
       "    <tr>\n",
       "      <th>0</th>\n",
       "      <td>Аэропорт</td>\n",
       "      <td>Отель</td>\n",
       "      <td>830</td>\n",
       "    </tr>\n",
       "    <tr>\n",
       "      <th>1</th>\n",
       "      <td>Офис</td>\n",
       "      <td>Ресторан</td>\n",
       "      <td>340</td>\n",
       "    </tr>\n",
       "    <tr>\n",
       "      <th>2</th>\n",
       "      <td>Ж/Д Вокзал</td>\n",
       "      <td>Музей</td>\n",
       "      <td>270</td>\n",
       "    </tr>\n",
       "  </tbody>\n",
       "</table>\n",
       "</div>"
      ],
      "text/plain": [
       "  Место отправления Место назначения  Стоимость поездки, руб.\n",
       "0          Аэропорт            Отель                      830\n",
       "1              Офис         Ресторан                      340\n",
       "2        Ж/Д Вокзал            Музей                      270"
      ]
     },
     "execution_count": 579,
     "metadata": {},
     "output_type": "execute_result"
    }
   ],
   "source": [
    "def cost(dist, dur):\n",
    "    return 30 * dist + 2 * dur\n",
    "new_df = df.loc[:, ['Место отправления', 'Место назначения']]\n",
    "new_df['Стоимость поездки, руб.'] = cost(df['Расстояние (км)'], df['Время поездки (мин)'])\n",
    "new_df"
   ]
  },
  {
   "cell_type": "code",
   "execution_count": 580,
   "metadata": {},
   "outputs": [
    {
     "name": "stderr",
     "output_type": "stream",
     "text": [
      "C:\\Users\\Pong\\AppData\\Local\\Temp\\ipykernel_3400\\3624186263.py:2: SettingWithCopyWarning: \n",
      "A value is trying to be set on a copy of a slice from a DataFrame.\n",
      "Try using .loc[row_indexer,col_indexer] = value instead\n",
      "\n",
      "See the caveats in the documentation: https://pandas.pydata.org/pandas-docs/stable/user_guide/indexing.html#returning-a-view-versus-a-copy\n",
      "  new_df['Стоимость поездки, руб.'] = df['Расстояние (км)'].apply(lambda x: x * 30) + df['Время поездки (мин)'].apply(lambda x: x * 2)\n"
     ]
    },
    {
     "data": {
      "text/html": [
       "<div>\n",
       "<style scoped>\n",
       "    .dataframe tbody tr th:only-of-type {\n",
       "        vertical-align: middle;\n",
       "    }\n",
       "\n",
       "    .dataframe tbody tr th {\n",
       "        vertical-align: top;\n",
       "    }\n",
       "\n",
       "    .dataframe thead th {\n",
       "        text-align: right;\n",
       "    }\n",
       "</style>\n",
       "<table border=\"1\" class=\"dataframe\">\n",
       "  <thead>\n",
       "    <tr style=\"text-align: right;\">\n",
       "      <th></th>\n",
       "      <th>Место отправления</th>\n",
       "      <th>Место назначения</th>\n",
       "      <th>Стоимость поездки, руб.</th>\n",
       "    </tr>\n",
       "  </thead>\n",
       "  <tbody>\n",
       "    <tr>\n",
       "      <th>0</th>\n",
       "      <td>Аэропорт</td>\n",
       "      <td>Отель</td>\n",
       "      <td>830</td>\n",
       "    </tr>\n",
       "    <tr>\n",
       "      <th>1</th>\n",
       "      <td>Офис</td>\n",
       "      <td>Ресторан</td>\n",
       "      <td>340</td>\n",
       "    </tr>\n",
       "    <tr>\n",
       "      <th>2</th>\n",
       "      <td>Ж/Д Вокзал</td>\n",
       "      <td>Музей</td>\n",
       "      <td>270</td>\n",
       "    </tr>\n",
       "  </tbody>\n",
       "</table>\n",
       "</div>"
      ],
      "text/plain": [
       "  Место отправления Место назначения  Стоимость поездки, руб.\n",
       "0          Аэропорт            Отель                      830\n",
       "1              Офис         Ресторан                      340\n",
       "2        Ж/Д Вокзал            Музей                      270"
      ]
     },
     "execution_count": 580,
     "metadata": {},
     "output_type": "execute_result"
    }
   ],
   "source": [
    "new_df = df[['Место отправления', 'Место назначения']]\n",
    "new_df['Стоимость поездки, руб.'] = df['Расстояние (км)'].apply(lambda x: x * 30) + df['Время поездки (мин)'].apply(lambda x: x * 2)\n",
    "new_df"
   ]
  },
  {
   "cell_type": "code",
   "execution_count": 581,
   "metadata": {},
   "outputs": [
    {
     "name": "stderr",
     "output_type": "stream",
     "text": [
      "C:\\Users\\Pong\\AppData\\Local\\Temp\\ipykernel_3400\\4068227687.py:2: SettingWithCopyWarning: \n",
      "A value is trying to be set on a copy of a slice from a DataFrame.\n",
      "Try using .loc[row_indexer,col_indexer] = value instead\n",
      "\n",
      "See the caveats in the documentation: https://pandas.pydata.org/pandas-docs/stable/user_guide/indexing.html#returning-a-view-versus-a-copy\n",
      "  new_df['Стоимость поездки, руб.'] = df[['Расстояние (км)', 'Время поездки (мин)']].apply(lambda x: x * [30, 2], axis=1).sum(axis=1)\n"
     ]
    },
    {
     "data": {
      "text/html": [
       "<div>\n",
       "<style scoped>\n",
       "    .dataframe tbody tr th:only-of-type {\n",
       "        vertical-align: middle;\n",
       "    }\n",
       "\n",
       "    .dataframe tbody tr th {\n",
       "        vertical-align: top;\n",
       "    }\n",
       "\n",
       "    .dataframe thead th {\n",
       "        text-align: right;\n",
       "    }\n",
       "</style>\n",
       "<table border=\"1\" class=\"dataframe\">\n",
       "  <thead>\n",
       "    <tr style=\"text-align: right;\">\n",
       "      <th></th>\n",
       "      <th>Место отправления</th>\n",
       "      <th>Место назначения</th>\n",
       "      <th>Стоимость поездки, руб.</th>\n",
       "    </tr>\n",
       "  </thead>\n",
       "  <tbody>\n",
       "    <tr>\n",
       "      <th>0</th>\n",
       "      <td>Аэропорт</td>\n",
       "      <td>Отель</td>\n",
       "      <td>830</td>\n",
       "    </tr>\n",
       "    <tr>\n",
       "      <th>1</th>\n",
       "      <td>Офис</td>\n",
       "      <td>Ресторан</td>\n",
       "      <td>340</td>\n",
       "    </tr>\n",
       "    <tr>\n",
       "      <th>2</th>\n",
       "      <td>Ж/Д Вокзал</td>\n",
       "      <td>Музей</td>\n",
       "      <td>270</td>\n",
       "    </tr>\n",
       "  </tbody>\n",
       "</table>\n",
       "</div>"
      ],
      "text/plain": [
       "  Место отправления Место назначения  Стоимость поездки, руб.\n",
       "0          Аэропорт            Отель                      830\n",
       "1              Офис         Ресторан                      340\n",
       "2        Ж/Д Вокзал            Музей                      270"
      ]
     },
     "execution_count": 581,
     "metadata": {},
     "output_type": "execute_result"
    }
   ],
   "source": [
    "new_df = df[['Место отправления', 'Место назначения']]\n",
    "new_df['Стоимость поездки, руб.'] = df[['Расстояние (км)', 'Время поездки (мин)']].apply(lambda x: x * [30, 2], axis=1).sum(axis=1)\n",
    "new_df"
   ]
  },
  {
   "cell_type": "code",
   "execution_count": 582,
   "metadata": {},
   "outputs": [
    {
     "data": {
      "text/html": [
       "<div>\n",
       "<style scoped>\n",
       "    .dataframe tbody tr th:only-of-type {\n",
       "        vertical-align: middle;\n",
       "    }\n",
       "\n",
       "    .dataframe tbody tr th {\n",
       "        vertical-align: top;\n",
       "    }\n",
       "\n",
       "    .dataframe thead th {\n",
       "        text-align: right;\n",
       "    }\n",
       "</style>\n",
       "<table border=\"1\" class=\"dataframe\">\n",
       "  <thead>\n",
       "    <tr style=\"text-align: right;\">\n",
       "      <th></th>\n",
       "      <th>Имя</th>\n",
       "      <th>Фамилия</th>\n",
       "      <th>Алгебра</th>\n",
       "      <th>Геометрия</th>\n",
       "      <th>Английский</th>\n",
       "      <th>Общий балл</th>\n",
       "    </tr>\n",
       "  </thead>\n",
       "  <tbody>\n",
       "    <tr>\n",
       "      <th>0</th>\n",
       "      <td>Иван</td>\n",
       "      <td>Иванов</td>\n",
       "      <td>5</td>\n",
       "      <td>4</td>\n",
       "      <td>3</td>\n",
       "      <td>12</td>\n",
       "    </tr>\n",
       "    <tr>\n",
       "      <th>1</th>\n",
       "      <td>Петр</td>\n",
       "      <td>Петров</td>\n",
       "      <td>3</td>\n",
       "      <td>5</td>\n",
       "      <td>4</td>\n",
       "      <td>12</td>\n",
       "    </tr>\n",
       "    <tr>\n",
       "      <th>2</th>\n",
       "      <td>Мария</td>\n",
       "      <td>Сидорова</td>\n",
       "      <td>4</td>\n",
       "      <td>3</td>\n",
       "      <td>5</td>\n",
       "      <td>12</td>\n",
       "    </tr>\n",
       "    <tr>\n",
       "      <th>3</th>\n",
       "      <td>Алексей</td>\n",
       "      <td>Козлов</td>\n",
       "      <td>5</td>\n",
       "      <td>5</td>\n",
       "      <td>5</td>\n",
       "      <td>15</td>\n",
       "    </tr>\n",
       "  </tbody>\n",
       "</table>\n",
       "</div>"
      ],
      "text/plain": [
       "       Имя   Фамилия  Алгебра  Геометрия  Английский  Общий балл\n",
       "0     Иван    Иванов        5          4           3          12\n",
       "1     Петр    Петров        3          5           4          12\n",
       "2    Мария  Сидорова        4          3           5          12\n",
       "3  Алексей    Козлов        5          5           5          15"
      ]
     },
     "execution_count": 582,
     "metadata": {},
     "output_type": "execute_result"
    }
   ],
   "source": [
    "df = pd.DataFrame({\n",
    "    'Имя': ['Иван', 'Петр', 'Мария', 'Алексей'],\n",
    "    'Фамилия': ['Иванов', 'Петров', 'Сидорова', 'Козлов'],\n",
    "    'Алгебра': [5, 3, 4, 5],\n",
    "    'Геометрия': [4, 5, 3, 5],\n",
    "    'Английский': [3, 4, 5, 5],\n",
    "    'Общий балл': [12, 12, 12, 15]\n",
    "})\n",
    "df"
   ]
  },
  {
   "cell_type": "code",
   "execution_count": 583,
   "metadata": {},
   "outputs": [
    {
     "data": {
      "text/html": [
       "<div>\n",
       "<style scoped>\n",
       "    .dataframe tbody tr th:only-of-type {\n",
       "        vertical-align: middle;\n",
       "    }\n",
       "\n",
       "    .dataframe tbody tr th {\n",
       "        vertical-align: top;\n",
       "    }\n",
       "\n",
       "    .dataframe thead th {\n",
       "        text-align: right;\n",
       "    }\n",
       "</style>\n",
       "<table border=\"1\" class=\"dataframe\">\n",
       "  <thead>\n",
       "    <tr style=\"text-align: right;\">\n",
       "      <th></th>\n",
       "      <th>Имя</th>\n",
       "      <th>Фамилия</th>\n",
       "      <th>Алгебра</th>\n",
       "      <th>Геометрия</th>\n",
       "      <th>Английский</th>\n",
       "      <th>Общий балл</th>\n",
       "      <th>Средний балл</th>\n",
       "    </tr>\n",
       "  </thead>\n",
       "  <tbody>\n",
       "    <tr>\n",
       "      <th>0</th>\n",
       "      <td>Иван</td>\n",
       "      <td>Иванов</td>\n",
       "      <td>5</td>\n",
       "      <td>4</td>\n",
       "      <td>3</td>\n",
       "      <td>12</td>\n",
       "      <td>4.0</td>\n",
       "    </tr>\n",
       "    <tr>\n",
       "      <th>1</th>\n",
       "      <td>Петр</td>\n",
       "      <td>Петров</td>\n",
       "      <td>3</td>\n",
       "      <td>5</td>\n",
       "      <td>4</td>\n",
       "      <td>12</td>\n",
       "      <td>4.0</td>\n",
       "    </tr>\n",
       "    <tr>\n",
       "      <th>2</th>\n",
       "      <td>Мария</td>\n",
       "      <td>Сидорова</td>\n",
       "      <td>4</td>\n",
       "      <td>3</td>\n",
       "      <td>5</td>\n",
       "      <td>12</td>\n",
       "      <td>4.0</td>\n",
       "    </tr>\n",
       "    <tr>\n",
       "      <th>3</th>\n",
       "      <td>Алексей</td>\n",
       "      <td>Козлов</td>\n",
       "      <td>5</td>\n",
       "      <td>5</td>\n",
       "      <td>5</td>\n",
       "      <td>15</td>\n",
       "      <td>5.0</td>\n",
       "    </tr>\n",
       "  </tbody>\n",
       "</table>\n",
       "</div>"
      ],
      "text/plain": [
       "       Имя   Фамилия  Алгебра  Геометрия  Английский  Общий балл  Средний балл\n",
       "0     Иван    Иванов        5          4           3          12           4.0\n",
       "1     Петр    Петров        3          5           4          12           4.0\n",
       "2    Мария  Сидорова        4          3           5          12           4.0\n",
       "3  Алексей    Козлов        5          5           5          15           5.0"
      ]
     },
     "execution_count": 583,
     "metadata": {},
     "output_type": "execute_result"
    }
   ],
   "source": [
    "df['Средний балл'] = df.iloc[:, 2:5].apply(np.mean, axis=1)\n",
    "df"
   ]
  },
  {
   "cell_type": "code",
   "execution_count": 584,
   "metadata": {},
   "outputs": [
    {
     "data": {
      "text/html": [
       "<div>\n",
       "<style scoped>\n",
       "    .dataframe tbody tr th:only-of-type {\n",
       "        vertical-align: middle;\n",
       "    }\n",
       "\n",
       "    .dataframe tbody tr th {\n",
       "        vertical-align: top;\n",
       "    }\n",
       "\n",
       "    .dataframe thead th {\n",
       "        text-align: right;\n",
       "    }\n",
       "</style>\n",
       "<table border=\"1\" class=\"dataframe\">\n",
       "  <thead>\n",
       "    <tr style=\"text-align: right;\">\n",
       "      <th></th>\n",
       "      <th>Имя</th>\n",
       "      <th>Фамилия</th>\n",
       "      <th>Алгебра</th>\n",
       "      <th>Геометрия</th>\n",
       "      <th>Английский</th>\n",
       "      <th>Общий балл</th>\n",
       "      <th>Средний балл</th>\n",
       "    </tr>\n",
       "  </thead>\n",
       "  <tbody>\n",
       "    <tr>\n",
       "      <th>0</th>\n",
       "      <td>Иван</td>\n",
       "      <td>Иванов</td>\n",
       "      <td>5</td>\n",
       "      <td>4</td>\n",
       "      <td>3</td>\n",
       "      <td>12</td>\n",
       "      <td>4.0</td>\n",
       "    </tr>\n",
       "    <tr>\n",
       "      <th>1</th>\n",
       "      <td>Петр</td>\n",
       "      <td>Петров</td>\n",
       "      <td>3</td>\n",
       "      <td>5</td>\n",
       "      <td>4</td>\n",
       "      <td>12</td>\n",
       "      <td>4.0</td>\n",
       "    </tr>\n",
       "    <tr>\n",
       "      <th>2</th>\n",
       "      <td>Мария</td>\n",
       "      <td>Сидорова</td>\n",
       "      <td>4</td>\n",
       "      <td>3</td>\n",
       "      <td>5</td>\n",
       "      <td>12</td>\n",
       "      <td>4.0</td>\n",
       "    </tr>\n",
       "    <tr>\n",
       "      <th>3</th>\n",
       "      <td>Алексей</td>\n",
       "      <td>Козлов</td>\n",
       "      <td>5</td>\n",
       "      <td>5</td>\n",
       "      <td>5</td>\n",
       "      <td>15</td>\n",
       "      <td>5.0</td>\n",
       "    </tr>\n",
       "  </tbody>\n",
       "</table>\n",
       "</div>"
      ],
      "text/plain": [
       "       Имя   Фамилия  Алгебра  Геометрия  Английский  Общий балл  Средний балл\n",
       "0     Иван    Иванов        5          4           3          12           4.0\n",
       "1     Петр    Петров        3          5           4          12           4.0\n",
       "2    Мария  Сидорова        4          3           5          12           4.0\n",
       "3  Алексей    Козлов        5          5           5          15           5.0"
      ]
     },
     "execution_count": 584,
     "metadata": {},
     "output_type": "execute_result"
    }
   ],
   "source": [
    "def score_mean(row):\n",
    "    return row[['Алгебра','Геометрия','Английский']].mean()\n",
    "\n",
    "df['Средний балл'] = df.apply(score_mean, axis=1)\n",
    "df"
   ]
  },
  {
   "cell_type": "code",
   "execution_count": 585,
   "metadata": {},
   "outputs": [
    {
     "data": {
      "text/html": [
       "<div>\n",
       "<style scoped>\n",
       "    .dataframe tbody tr th:only-of-type {\n",
       "        vertical-align: middle;\n",
       "    }\n",
       "\n",
       "    .dataframe tbody tr th {\n",
       "        vertical-align: top;\n",
       "    }\n",
       "\n",
       "    .dataframe thead th {\n",
       "        text-align: right;\n",
       "    }\n",
       "</style>\n",
       "<table border=\"1\" class=\"dataframe\">\n",
       "  <thead>\n",
       "    <tr style=\"text-align: right;\">\n",
       "      <th></th>\n",
       "      <th>Покупатель</th>\n",
       "      <th>Название</th>\n",
       "      <th>Цена</th>\n",
       "      <th>Количество</th>\n",
       "      <th>Почта</th>\n",
       "    </tr>\n",
       "  </thead>\n",
       "  <tbody>\n",
       "    <tr>\n",
       "      <th>0</th>\n",
       "      <td>Иван</td>\n",
       "      <td>Книга</td>\n",
       "      <td>500</td>\n",
       "      <td>2</td>\n",
       "      <td>ivanov@example.com</td>\n",
       "    </tr>\n",
       "    <tr>\n",
       "      <th>1</th>\n",
       "      <td>Петр</td>\n",
       "      <td>Ноутбук</td>\n",
       "      <td>40000</td>\n",
       "      <td>1</td>\n",
       "      <td>petrov@example.com</td>\n",
       "    </tr>\n",
       "    <tr>\n",
       "      <th>2</th>\n",
       "      <td>Мария</td>\n",
       "      <td>Смартфон</td>\n",
       "      <td>25000</td>\n",
       "      <td>1</td>\n",
       "      <td>sidorova@example.com</td>\n",
       "    </tr>\n",
       "    <tr>\n",
       "      <th>3</th>\n",
       "      <td>Алексей</td>\n",
       "      <td>Компьютер</td>\n",
       "      <td>60000</td>\n",
       "      <td>1</td>\n",
       "      <td>kozlov@example.com</td>\n",
       "    </tr>\n",
       "  </tbody>\n",
       "</table>\n",
       "</div>"
      ],
      "text/plain": [
       "  Покупатель   Название   Цена  Количество                 Почта\n",
       "0       Иван      Книга    500           2    ivanov@example.com\n",
       "1       Петр    Ноутбук  40000           1    petrov@example.com\n",
       "2      Мария   Смартфон  25000           1  sidorova@example.com\n",
       "3    Алексей  Компьютер  60000           1    kozlov@example.com"
      ]
     },
     "execution_count": 585,
     "metadata": {},
     "output_type": "execute_result"
    }
   ],
   "source": [
    "data = {'Покупатель': ['Иван', 'Петр', 'Мария', 'Алексей'],\n",
    "        'Название': ['Книга', 'Ноутбук', 'Смартфон', 'Компьютер'],\n",
    "        'Цена': [500, 40000, 25000, 60000],\n",
    "        'Количество': [2, 1, 1, 1],\n",
    "        'Почта': ['ivanov@example.com', 'petrov@example.com', 'sidorova@example.com', 'kozlov@example.com']}\n",
    "df = pd.DataFrame(data)\n",
    "df"
   ]
  },
  {
   "cell_type": "code",
   "execution_count": 586,
   "metadata": {},
   "outputs": [
    {
     "data": {
      "text/html": [
       "<div>\n",
       "<style scoped>\n",
       "    .dataframe tbody tr th:only-of-type {\n",
       "        vertical-align: middle;\n",
       "    }\n",
       "\n",
       "    .dataframe tbody tr th {\n",
       "        vertical-align: top;\n",
       "    }\n",
       "\n",
       "    .dataframe thead th {\n",
       "        text-align: right;\n",
       "    }\n",
       "</style>\n",
       "<table border=\"1\" class=\"dataframe\">\n",
       "  <thead>\n",
       "    <tr style=\"text-align: right;\">\n",
       "      <th></th>\n",
       "      <th>Покупатель</th>\n",
       "      <th>Название</th>\n",
       "      <th>Цена</th>\n",
       "      <th>Количество</th>\n",
       "      <th>Почта</th>\n",
       "      <th>Стоимость</th>\n",
       "    </tr>\n",
       "  </thead>\n",
       "  <tbody>\n",
       "    <tr>\n",
       "      <th>0</th>\n",
       "      <td>Иван</td>\n",
       "      <td>Книга</td>\n",
       "      <td>500</td>\n",
       "      <td>2</td>\n",
       "      <td>ivanov@example.com</td>\n",
       "      <td>1000</td>\n",
       "    </tr>\n",
       "    <tr>\n",
       "      <th>1</th>\n",
       "      <td>Петр</td>\n",
       "      <td>Ноутбук</td>\n",
       "      <td>40000</td>\n",
       "      <td>1</td>\n",
       "      <td>petrov@example.com</td>\n",
       "      <td>40000</td>\n",
       "    </tr>\n",
       "    <tr>\n",
       "      <th>2</th>\n",
       "      <td>Мария</td>\n",
       "      <td>Смартфон</td>\n",
       "      <td>25000</td>\n",
       "      <td>1</td>\n",
       "      <td>sidorova@example.com</td>\n",
       "      <td>25000</td>\n",
       "    </tr>\n",
       "    <tr>\n",
       "      <th>3</th>\n",
       "      <td>Алексей</td>\n",
       "      <td>Компьютер</td>\n",
       "      <td>60000</td>\n",
       "      <td>1</td>\n",
       "      <td>kozlov@example.com</td>\n",
       "      <td>60000</td>\n",
       "    </tr>\n",
       "  </tbody>\n",
       "</table>\n",
       "</div>"
      ],
      "text/plain": [
       "  Покупатель   Название   Цена  Количество                 Почта  Стоимость\n",
       "0       Иван      Книга    500           2    ivanov@example.com       1000\n",
       "1       Петр    Ноутбук  40000           1    petrov@example.com      40000\n",
       "2      Мария   Смартфон  25000           1  sidorova@example.com      25000\n",
       "3    Алексей  Компьютер  60000           1    kozlov@example.com      60000"
      ]
     },
     "execution_count": 586,
     "metadata": {},
     "output_type": "execute_result"
    }
   ],
   "source": [
    "def total_cost(row):\n",
    "    return row['Цена'] * row['Количество']\n",
    "\n",
    "df['Стоимость'] = df.apply(total_cost, axis=1)\n",
    "df"
   ]
  },
  {
   "cell_type": "code",
   "execution_count": 587,
   "metadata": {},
   "outputs": [
    {
     "data": {
      "text/html": [
       "<div>\n",
       "<style scoped>\n",
       "    .dataframe tbody tr th:only-of-type {\n",
       "        vertical-align: middle;\n",
       "    }\n",
       "\n",
       "    .dataframe tbody tr th {\n",
       "        vertical-align: top;\n",
       "    }\n",
       "\n",
       "    .dataframe thead th {\n",
       "        text-align: right;\n",
       "    }\n",
       "</style>\n",
       "<table border=\"1\" class=\"dataframe\">\n",
       "  <thead>\n",
       "    <tr style=\"text-align: right;\">\n",
       "      <th></th>\n",
       "      <th>Название</th>\n",
       "      <th>Описание</th>\n",
       "    </tr>\n",
       "  </thead>\n",
       "  <tbody>\n",
       "    <tr>\n",
       "      <th>0</th>\n",
       "      <td>Apple iPhone 12</td>\n",
       "      <td>Мощный смартфон от Apple</td>\n",
       "    </tr>\n",
       "    <tr>\n",
       "      <th>1</th>\n",
       "      <td>Samsung Galaxy S21</td>\n",
       "      <td>Премиальный андроид от Samsung</td>\n",
       "    </tr>\n",
       "    <tr>\n",
       "      <th>2</th>\n",
       "      <td>Xiaomi Mi 11</td>\n",
       "      <td>Смартфон с высокопроизводительной камерой</td>\n",
       "    </tr>\n",
       "    <tr>\n",
       "      <th>3</th>\n",
       "      <td>Google Pixel 5</td>\n",
       "      <td>Новый флагман Google с лучшей камерой</td>\n",
       "    </tr>\n",
       "  </tbody>\n",
       "</table>\n",
       "</div>"
      ],
      "text/plain": [
       "             Название                                   Описание\n",
       "0     Apple iPhone 12                   Мощный смартфон от Apple\n",
       "1  Samsung Galaxy S21             Премиальный андроид от Samsung\n",
       "2        Xiaomi Mi 11  Смартфон с высокопроизводительной камерой\n",
       "3      Google Pixel 5      Новый флагман Google с лучшей камерой"
      ]
     },
     "execution_count": 587,
     "metadata": {},
     "output_type": "execute_result"
    }
   ],
   "source": [
    "data = {'Название': ['Apple iPhone 12', 'Samsung Galaxy S21', 'Xiaomi Mi 11', 'Google Pixel 5'],\n",
    "        'Описание': ['Мощный смартфон от Apple', 'Премиальный андроид от Samsung', 'Смартфон с высокопроизводительной камерой', 'Новый флагман Google с лучшей камерой']}\n",
    "\n",
    "df = pd.DataFrame(data)\n",
    "df"
   ]
  },
  {
   "cell_type": "code",
   "execution_count": 588,
   "metadata": {},
   "outputs": [
    {
     "data": {
      "text/html": [
       "<div>\n",
       "<style scoped>\n",
       "    .dataframe tbody tr th:only-of-type {\n",
       "        vertical-align: middle;\n",
       "    }\n",
       "\n",
       "    .dataframe tbody tr th {\n",
       "        vertical-align: top;\n",
       "    }\n",
       "\n",
       "    .dataframe thead th {\n",
       "        text-align: right;\n",
       "    }\n",
       "</style>\n",
       "<table border=\"1\" class=\"dataframe\">\n",
       "  <thead>\n",
       "    <tr style=\"text-align: right;\">\n",
       "      <th></th>\n",
       "      <th>Название</th>\n",
       "      <th>Описание</th>\n",
       "    </tr>\n",
       "  </thead>\n",
       "  <tbody>\n",
       "    <tr>\n",
       "      <th>0</th>\n",
       "      <td>apple iphone 12</td>\n",
       "      <td>Мощный телефон от Apple</td>\n",
       "    </tr>\n",
       "    <tr>\n",
       "      <th>1</th>\n",
       "      <td>samsung galaxy s21</td>\n",
       "      <td>Премиальный андроид от Samsung</td>\n",
       "    </tr>\n",
       "    <tr>\n",
       "      <th>2</th>\n",
       "      <td>xiaomi mi 11</td>\n",
       "      <td>Телефон с высокопроизводительной камерой</td>\n",
       "    </tr>\n",
       "    <tr>\n",
       "      <th>3</th>\n",
       "      <td>google pixel 5</td>\n",
       "      <td>Новый флагман Google с лучшей камерой</td>\n",
       "    </tr>\n",
       "  </tbody>\n",
       "</table>\n",
       "</div>"
      ],
      "text/plain": [
       "             Название                                  Описание\n",
       "0     apple iphone 12                   Мощный телефон от Apple\n",
       "1  samsung galaxy s21            Премиальный андроид от Samsung\n",
       "2        xiaomi mi 11  Телефон с высокопроизводительной камерой\n",
       "3      google pixel 5     Новый флагман Google с лучшей камерой"
      ]
     },
     "execution_count": 588,
     "metadata": {},
     "output_type": "execute_result"
    }
   ],
   "source": [
    "df['Название'] = df['Название'].apply(lambda x: x.lower())\n",
    "df['Описание'] = df['Описание'].apply(lambda x: x.replace('смартфон', 'телефон').replace('Смартфон', 'Телефон'))\n",
    "df"
   ]
  },
  {
   "cell_type": "code",
   "execution_count": 589,
   "metadata": {},
   "outputs": [
    {
     "data": {
      "text/html": [
       "<div>\n",
       "<style scoped>\n",
       "    .dataframe tbody tr th:only-of-type {\n",
       "        vertical-align: middle;\n",
       "    }\n",
       "\n",
       "    .dataframe tbody tr th {\n",
       "        vertical-align: top;\n",
       "    }\n",
       "\n",
       "    .dataframe thead th {\n",
       "        text-align: right;\n",
       "    }\n",
       "</style>\n",
       "<table border=\"1\" class=\"dataframe\">\n",
       "  <thead>\n",
       "    <tr style=\"text-align: right;\">\n",
       "      <th></th>\n",
       "      <th>Название</th>\n",
       "      <th>Описание</th>\n",
       "    </tr>\n",
       "  </thead>\n",
       "  <tbody>\n",
       "    <tr>\n",
       "      <th>0</th>\n",
       "      <td>apple iphone 12</td>\n",
       "      <td>Мощный телефон от Apple</td>\n",
       "    </tr>\n",
       "    <tr>\n",
       "      <th>1</th>\n",
       "      <td>samsung galaxy s21</td>\n",
       "      <td>Премиальный андроид от Samsung</td>\n",
       "    </tr>\n",
       "    <tr>\n",
       "      <th>2</th>\n",
       "      <td>xiaomi mi 11</td>\n",
       "      <td>Телефон с высокопроизводительной камерой</td>\n",
       "    </tr>\n",
       "    <tr>\n",
       "      <th>3</th>\n",
       "      <td>google pixel 5</td>\n",
       "      <td>Новый флагман Google с лучшей камерой</td>\n",
       "    </tr>\n",
       "  </tbody>\n",
       "</table>\n",
       "</div>"
      ],
      "text/plain": [
       "             Название                                  Описание\n",
       "0     apple iphone 12                   Мощный телефон от Apple\n",
       "1  samsung galaxy s21            Премиальный андроид от Samsung\n",
       "2        xiaomi mi 11  Телефон с высокопроизводительной камерой\n",
       "3      google pixel 5     Новый флагман Google с лучшей камерой"
      ]
     },
     "execution_count": 589,
     "metadata": {},
     "output_type": "execute_result"
    }
   ],
   "source": [
    "df['Название'] = df['Название'].str.lower()\n",
    "df['Описание'] = df['Описание'].str.replace('смартфон', 'телефон').str.replace('Смартфон', 'Телефон')\n",
    "df"
   ]
  },
  {
   "cell_type": "markdown",
   "metadata": {},
   "source": [
    "# 4.4 Основы сортировки в Pandas"
   ]
  },
  {
   "cell_type": "code",
   "execution_count": 590,
   "metadata": {},
   "outputs": [
    {
     "data": {
      "text/plain": [
       "a    1\n",
       "b    2\n",
       "c    3\n",
       "d    4\n",
       "dtype: int64"
      ]
     },
     "execution_count": 590,
     "metadata": {},
     "output_type": "execute_result"
    }
   ],
   "source": [
    "# создаем Series\n",
    "s = pd.Series([4, 3, 2, 1], index=['d', 'c', 'b', 'a'])\n",
    "\n",
    "# сортируем по индексу по возрастанию\n",
    "s_sorted = s.sort_index()\n",
    "s_sorted"
   ]
  },
  {
   "cell_type": "code",
   "execution_count": 591,
   "metadata": {},
   "outputs": [
    {
     "data": {
      "text/html": [
       "<div>\n",
       "<style scoped>\n",
       "    .dataframe tbody tr th:only-of-type {\n",
       "        vertical-align: middle;\n",
       "    }\n",
       "\n",
       "    .dataframe tbody tr th {\n",
       "        vertical-align: top;\n",
       "    }\n",
       "\n",
       "    .dataframe thead th {\n",
       "        text-align: right;\n",
       "    }\n",
       "</style>\n",
       "<table border=\"1\" class=\"dataframe\">\n",
       "  <thead>\n",
       "    <tr style=\"text-align: right;\">\n",
       "      <th></th>\n",
       "      <th>A</th>\n",
       "      <th>B</th>\n",
       "      <th>C</th>\n",
       "    </tr>\n",
       "  </thead>\n",
       "  <tbody>\n",
       "    <tr>\n",
       "      <th>a</th>\n",
       "      <td>2</td>\n",
       "      <td>4</td>\n",
       "      <td>3</td>\n",
       "    </tr>\n",
       "    <tr>\n",
       "      <th>b</th>\n",
       "      <td>3</td>\n",
       "      <td>1</td>\n",
       "      <td>4</td>\n",
       "    </tr>\n",
       "    <tr>\n",
       "      <th>c</th>\n",
       "      <td>4</td>\n",
       "      <td>2</td>\n",
       "      <td>1</td>\n",
       "    </tr>\n",
       "    <tr>\n",
       "      <th>d</th>\n",
       "      <td>1</td>\n",
       "      <td>3</td>\n",
       "      <td>2</td>\n",
       "    </tr>\n",
       "  </tbody>\n",
       "</table>\n",
       "</div>"
      ],
      "text/plain": [
       "   A  B  C\n",
       "a  2  4  3\n",
       "b  3  1  4\n",
       "c  4  2  1\n",
       "d  1  3  2"
      ]
     },
     "execution_count": 591,
     "metadata": {},
     "output_type": "execute_result"
    }
   ],
   "source": [
    "# создаем DataFrame\n",
    "df = pd.DataFrame({'A': [1, 4, 3, 2], 'B': [3, 2, 1, 4], 'C': [2, 1, 4, 3]}, index=['d', 'c', 'b', 'a'])\n",
    "\n",
    "# сортируем по индексу по возрастанию\n",
    "df_sorted = df.sort_index()\n",
    "df_sorted"
   ]
  },
  {
   "cell_type": "code",
   "execution_count": 592,
   "metadata": {},
   "outputs": [
    {
     "data": {
      "text/html": [
       "<div>\n",
       "<style scoped>\n",
       "    .dataframe tbody tr th:only-of-type {\n",
       "        vertical-align: middle;\n",
       "    }\n",
       "\n",
       "    .dataframe tbody tr th {\n",
       "        vertical-align: top;\n",
       "    }\n",
       "\n",
       "    .dataframe thead th {\n",
       "        text-align: right;\n",
       "    }\n",
       "</style>\n",
       "<table border=\"1\" class=\"dataframe\">\n",
       "  <thead>\n",
       "    <tr style=\"text-align: right;\">\n",
       "      <th></th>\n",
       "      <th>B</th>\n",
       "      <th>C</th>\n",
       "      <th>D</th>\n",
       "    </tr>\n",
       "  </thead>\n",
       "  <tbody>\n",
       "    <tr>\n",
       "      <th>d</th>\n",
       "      <td>3</td>\n",
       "      <td>2</td>\n",
       "      <td>1</td>\n",
       "    </tr>\n",
       "    <tr>\n",
       "      <th>c</th>\n",
       "      <td>2</td>\n",
       "      <td>1</td>\n",
       "      <td>4</td>\n",
       "    </tr>\n",
       "    <tr>\n",
       "      <th>b</th>\n",
       "      <td>1</td>\n",
       "      <td>4</td>\n",
       "      <td>3</td>\n",
       "    </tr>\n",
       "    <tr>\n",
       "      <th>a</th>\n",
       "      <td>4</td>\n",
       "      <td>3</td>\n",
       "      <td>2</td>\n",
       "    </tr>\n",
       "  </tbody>\n",
       "</table>\n",
       "</div>"
      ],
      "text/plain": [
       "   B  C  D\n",
       "d  3  2  1\n",
       "c  2  1  4\n",
       "b  1  4  3\n",
       "a  4  3  2"
      ]
     },
     "execution_count": 592,
     "metadata": {},
     "output_type": "execute_result"
    }
   ],
   "source": [
    "# создаем DataFrame\n",
    "df = pd.DataFrame({'D': [1, 4, 3, 2], 'B': [3, 2, 1, 4], 'C': [2, 1, 4, 3]}, index=['d', 'c', 'b', 'a'])\n",
    "\n",
    "# сортируем по столбцам по возрастанию\n",
    "df_sorted = df.sort_index(axis=1, ascending=True)\n",
    "df_sorted"
   ]
  },
  {
   "cell_type": "code",
   "execution_count": 593,
   "metadata": {},
   "outputs": [
    {
     "data": {
      "text/html": [
       "<div>\n",
       "<style scoped>\n",
       "    .dataframe tbody tr th:only-of-type {\n",
       "        vertical-align: middle;\n",
       "    }\n",
       "\n",
       "    .dataframe tbody tr th {\n",
       "        vertical-align: top;\n",
       "    }\n",
       "\n",
       "    .dataframe thead th {\n",
       "        text-align: right;\n",
       "    }\n",
       "</style>\n",
       "<table border=\"1\" class=\"dataframe\">\n",
       "  <thead>\n",
       "    <tr style=\"text-align: right;\">\n",
       "      <th></th>\n",
       "      <th>date</th>\n",
       "      <th>item</th>\n",
       "      <th>quantity</th>\n",
       "      <th>price</th>\n",
       "    </tr>\n",
       "  </thead>\n",
       "  <tbody>\n",
       "    <tr>\n",
       "      <th>0</th>\n",
       "      <td>2022-01-01</td>\n",
       "      <td>apple</td>\n",
       "      <td>3</td>\n",
       "      <td>1.99</td>\n",
       "    </tr>\n",
       "    <tr>\n",
       "      <th>1</th>\n",
       "      <td>2022-01-01</td>\n",
       "      <td>banana</td>\n",
       "      <td>2</td>\n",
       "      <td>0.99</td>\n",
       "    </tr>\n",
       "    <tr>\n",
       "      <th>2</th>\n",
       "      <td>2022-01-02</td>\n",
       "      <td>apple</td>\n",
       "      <td>1</td>\n",
       "      <td>2.49</td>\n",
       "    </tr>\n",
       "    <tr>\n",
       "      <th>3</th>\n",
       "      <td>2022-01-02</td>\n",
       "      <td>banana</td>\n",
       "      <td>4</td>\n",
       "      <td>1.49</td>\n",
       "    </tr>\n",
       "    <tr>\n",
       "      <th>4</th>\n",
       "      <td>2022-01-03</td>\n",
       "      <td>orange</td>\n",
       "      <td>2</td>\n",
       "      <td>0.79</td>\n",
       "    </tr>\n",
       "  </tbody>\n",
       "</table>\n",
       "</div>"
      ],
      "text/plain": [
       "         date    item  quantity  price\n",
       "0  2022-01-01   apple         3   1.99\n",
       "1  2022-01-01  banana         2   0.99\n",
       "2  2022-01-02   apple         1   2.49\n",
       "3  2022-01-02  banana         4   1.49\n",
       "4  2022-01-03  orange         2   0.79"
      ]
     },
     "execution_count": 593,
     "metadata": {},
     "output_type": "execute_result"
    }
   ],
   "source": [
    "sales = pd.DataFrame({'date': ['2022-01-01', '2022-01-01', '2022-01-02', '2022-01-02', '2022-01-03'],\n",
    "                      'item': ['apple', 'banana', 'apple', 'banana', 'orange'],\n",
    "                      'quantity': [3, 2, 1, 4, 2],\n",
    "                      'price': [1.99, 0.99, 2.49, 1.49, 0.79]})\n",
    "sales"
   ]
  },
  {
   "cell_type": "code",
   "execution_count": 594,
   "metadata": {},
   "outputs": [
    {
     "data": {
      "text/html": [
       "<div>\n",
       "<style scoped>\n",
       "    .dataframe tbody tr th:only-of-type {\n",
       "        vertical-align: middle;\n",
       "    }\n",
       "\n",
       "    .dataframe tbody tr th {\n",
       "        vertical-align: top;\n",
       "    }\n",
       "\n",
       "    .dataframe thead th {\n",
       "        text-align: right;\n",
       "    }\n",
       "</style>\n",
       "<table border=\"1\" class=\"dataframe\">\n",
       "  <thead>\n",
       "    <tr style=\"text-align: right;\">\n",
       "      <th></th>\n",
       "      <th>date</th>\n",
       "      <th>item</th>\n",
       "      <th>quantity</th>\n",
       "      <th>price</th>\n",
       "    </tr>\n",
       "  </thead>\n",
       "  <tbody>\n",
       "    <tr>\n",
       "      <th>4</th>\n",
       "      <td>2022-01-03</td>\n",
       "      <td>orange</td>\n",
       "      <td>2</td>\n",
       "      <td>0.79</td>\n",
       "    </tr>\n",
       "    <tr>\n",
       "      <th>1</th>\n",
       "      <td>2022-01-01</td>\n",
       "      <td>banana</td>\n",
       "      <td>2</td>\n",
       "      <td>0.99</td>\n",
       "    </tr>\n",
       "    <tr>\n",
       "      <th>3</th>\n",
       "      <td>2022-01-02</td>\n",
       "      <td>banana</td>\n",
       "      <td>4</td>\n",
       "      <td>1.49</td>\n",
       "    </tr>\n",
       "    <tr>\n",
       "      <th>0</th>\n",
       "      <td>2022-01-01</td>\n",
       "      <td>apple</td>\n",
       "      <td>3</td>\n",
       "      <td>1.99</td>\n",
       "    </tr>\n",
       "    <tr>\n",
       "      <th>2</th>\n",
       "      <td>2022-01-02</td>\n",
       "      <td>apple</td>\n",
       "      <td>1</td>\n",
       "      <td>2.49</td>\n",
       "    </tr>\n",
       "  </tbody>\n",
       "</table>\n",
       "</div>"
      ],
      "text/plain": [
       "         date    item  quantity  price\n",
       "4  2022-01-03  orange         2   0.79\n",
       "1  2022-01-01  banana         2   0.99\n",
       "3  2022-01-02  banana         4   1.49\n",
       "0  2022-01-01   apple         3   1.99\n",
       "2  2022-01-02   apple         1   2.49"
      ]
     },
     "execution_count": 594,
     "metadata": {},
     "output_type": "execute_result"
    }
   ],
   "source": [
    "sales_sorted = sales.sort_values('price')\n",
    "sales_sorted"
   ]
  },
  {
   "cell_type": "code",
   "execution_count": 595,
   "metadata": {},
   "outputs": [
    {
     "data": {
      "text/html": [
       "<div>\n",
       "<style scoped>\n",
       "    .dataframe tbody tr th:only-of-type {\n",
       "        vertical-align: middle;\n",
       "    }\n",
       "\n",
       "    .dataframe tbody tr th {\n",
       "        vertical-align: top;\n",
       "    }\n",
       "\n",
       "    .dataframe thead th {\n",
       "        text-align: right;\n",
       "    }\n",
       "</style>\n",
       "<table border=\"1\" class=\"dataframe\">\n",
       "  <thead>\n",
       "    <tr style=\"text-align: right;\">\n",
       "      <th></th>\n",
       "      <th>date</th>\n",
       "      <th>item</th>\n",
       "      <th>quantity</th>\n",
       "      <th>price</th>\n",
       "    </tr>\n",
       "  </thead>\n",
       "  <tbody>\n",
       "    <tr>\n",
       "      <th>0</th>\n",
       "      <td>2022-01-01</td>\n",
       "      <td>apple</td>\n",
       "      <td>3</td>\n",
       "      <td>1.99</td>\n",
       "    </tr>\n",
       "    <tr>\n",
       "      <th>2</th>\n",
       "      <td>2022-01-02</td>\n",
       "      <td>apple</td>\n",
       "      <td>1</td>\n",
       "      <td>2.49</td>\n",
       "    </tr>\n",
       "    <tr>\n",
       "      <th>1</th>\n",
       "      <td>2022-01-01</td>\n",
       "      <td>banana</td>\n",
       "      <td>2</td>\n",
       "      <td>0.99</td>\n",
       "    </tr>\n",
       "    <tr>\n",
       "      <th>3</th>\n",
       "      <td>2022-01-02</td>\n",
       "      <td>banana</td>\n",
       "      <td>4</td>\n",
       "      <td>1.49</td>\n",
       "    </tr>\n",
       "    <tr>\n",
       "      <th>4</th>\n",
       "      <td>2022-01-03</td>\n",
       "      <td>orange</td>\n",
       "      <td>2</td>\n",
       "      <td>0.79</td>\n",
       "    </tr>\n",
       "  </tbody>\n",
       "</table>\n",
       "</div>"
      ],
      "text/plain": [
       "         date    item  quantity  price\n",
       "0  2022-01-01   apple         3   1.99\n",
       "2  2022-01-02   apple         1   2.49\n",
       "1  2022-01-01  banana         2   0.99\n",
       "3  2022-01-02  banana         4   1.49\n",
       "4  2022-01-03  orange         2   0.79"
      ]
     },
     "execution_count": 595,
     "metadata": {},
     "output_type": "execute_result"
    }
   ],
   "source": [
    "sales_sorted = sales.sort_values(['item', 'price'])\n",
    "sales_sorted"
   ]
  },
  {
   "cell_type": "code",
   "execution_count": 596,
   "metadata": {},
   "outputs": [
    {
     "data": {
      "text/html": [
       "<div>\n",
       "<style scoped>\n",
       "    .dataframe tbody tr th:only-of-type {\n",
       "        vertical-align: middle;\n",
       "    }\n",
       "\n",
       "    .dataframe tbody tr th {\n",
       "        vertical-align: top;\n",
       "    }\n",
       "\n",
       "    .dataframe thead th {\n",
       "        text-align: right;\n",
       "    }\n",
       "</style>\n",
       "<table border=\"1\" class=\"dataframe\">\n",
       "  <thead>\n",
       "    <tr style=\"text-align: right;\">\n",
       "      <th></th>\n",
       "      <th>date</th>\n",
       "      <th>item</th>\n",
       "      <th>quantity</th>\n",
       "      <th>price</th>\n",
       "    </tr>\n",
       "  </thead>\n",
       "  <tbody>\n",
       "    <tr>\n",
       "      <th>4</th>\n",
       "      <td>2022-01-03</td>\n",
       "      <td>orange</td>\n",
       "      <td>2</td>\n",
       "      <td>0.79</td>\n",
       "    </tr>\n",
       "    <tr>\n",
       "      <th>1</th>\n",
       "      <td>2022-01-01</td>\n",
       "      <td>banana</td>\n",
       "      <td>2</td>\n",
       "      <td>0.99</td>\n",
       "    </tr>\n",
       "    <tr>\n",
       "      <th>3</th>\n",
       "      <td>2022-01-02</td>\n",
       "      <td>banana</td>\n",
       "      <td>4</td>\n",
       "      <td>1.49</td>\n",
       "    </tr>\n",
       "    <tr>\n",
       "      <th>0</th>\n",
       "      <td>2022-01-01</td>\n",
       "      <td>apple</td>\n",
       "      <td>3</td>\n",
       "      <td>1.99</td>\n",
       "    </tr>\n",
       "    <tr>\n",
       "      <th>2</th>\n",
       "      <td>2022-01-02</td>\n",
       "      <td>apple</td>\n",
       "      <td>1</td>\n",
       "      <td>2.49</td>\n",
       "    </tr>\n",
       "  </tbody>\n",
       "</table>\n",
       "</div>"
      ],
      "text/plain": [
       "         date    item  quantity  price\n",
       "4  2022-01-03  orange         2   0.79\n",
       "1  2022-01-01  banana         2   0.99\n",
       "3  2022-01-02  banana         4   1.49\n",
       "0  2022-01-01   apple         3   1.99\n",
       "2  2022-01-02   apple         1   2.49"
      ]
     },
     "execution_count": 596,
     "metadata": {},
     "output_type": "execute_result"
    }
   ],
   "source": [
    "sales_sorted = sales.sort_values(['item', 'price'], ascending=[False, True])\n",
    "sales_sorted"
   ]
  },
  {
   "cell_type": "code",
   "execution_count": 597,
   "metadata": {},
   "outputs": [
    {
     "data": {
      "text/html": [
       "<div>\n",
       "<style scoped>\n",
       "    .dataframe tbody tr th:only-of-type {\n",
       "        vertical-align: middle;\n",
       "    }\n",
       "\n",
       "    .dataframe tbody tr th {\n",
       "        vertical-align: top;\n",
       "    }\n",
       "\n",
       "    .dataframe thead th {\n",
       "        text-align: right;\n",
       "    }\n",
       "</style>\n",
       "<table border=\"1\" class=\"dataframe\">\n",
       "  <thead>\n",
       "    <tr style=\"text-align: right;\">\n",
       "      <th></th>\n",
       "      <th>date</th>\n",
       "      <th>item</th>\n",
       "      <th>quantity</th>\n",
       "      <th>price</th>\n",
       "    </tr>\n",
       "  </thead>\n",
       "  <tbody>\n",
       "    <tr>\n",
       "      <th>0</th>\n",
       "      <td>2022-01-01</td>\n",
       "      <td>apple</td>\n",
       "      <td>3</td>\n",
       "      <td>1.99</td>\n",
       "    </tr>\n",
       "    <tr>\n",
       "      <th>1</th>\n",
       "      <td>2022-01-01</td>\n",
       "      <td>banana</td>\n",
       "      <td>2</td>\n",
       "      <td>0.99</td>\n",
       "    </tr>\n",
       "    <tr>\n",
       "      <th>2</th>\n",
       "      <td>2022-01-02</td>\n",
       "      <td>apple</td>\n",
       "      <td>1</td>\n",
       "      <td>NaN</td>\n",
       "    </tr>\n",
       "    <tr>\n",
       "      <th>3</th>\n",
       "      <td>2022-01-02</td>\n",
       "      <td>banana</td>\n",
       "      <td>4</td>\n",
       "      <td>1.49</td>\n",
       "    </tr>\n",
       "    <tr>\n",
       "      <th>4</th>\n",
       "      <td>2022-01-03</td>\n",
       "      <td>orange</td>\n",
       "      <td>2</td>\n",
       "      <td>0.79</td>\n",
       "    </tr>\n",
       "    <tr>\n",
       "      <th>5</th>\n",
       "      <td>2022-01-04</td>\n",
       "      <td>apple</td>\n",
       "      <td>2</td>\n",
       "      <td>1.99</td>\n",
       "    </tr>\n",
       "  </tbody>\n",
       "</table>\n",
       "</div>"
      ],
      "text/plain": [
       "         date    item  quantity  price\n",
       "0  2022-01-01   apple         3   1.99\n",
       "1  2022-01-01  banana         2   0.99\n",
       "2  2022-01-02   apple         1    NaN\n",
       "3  2022-01-02  banana         4   1.49\n",
       "4  2022-01-03  orange         2   0.79\n",
       "5  2022-01-04   apple         2   1.99"
      ]
     },
     "execution_count": 597,
     "metadata": {},
     "output_type": "execute_result"
    }
   ],
   "source": [
    "sales = pd.DataFrame({'date': ['2022-01-01', '2022-01-01', '2022-01-02', '2022-01-02', '2022-01-03', '2022-01-04'],\n",
    "                      'item': ['apple', 'banana', 'apple', 'banana', 'orange', 'apple'],\n",
    "                      'quantity': [3, 2, 1, 4, 2, 2],\n",
    "                      'price': [1.99, 0.99, None, 1.49, 0.79, 1.99]})\n",
    "sales"
   ]
  },
  {
   "cell_type": "code",
   "execution_count": 598,
   "metadata": {},
   "outputs": [
    {
     "data": {
      "text/html": [
       "<div>\n",
       "<style scoped>\n",
       "    .dataframe tbody tr th:only-of-type {\n",
       "        vertical-align: middle;\n",
       "    }\n",
       "\n",
       "    .dataframe tbody tr th {\n",
       "        vertical-align: top;\n",
       "    }\n",
       "\n",
       "    .dataframe thead th {\n",
       "        text-align: right;\n",
       "    }\n",
       "</style>\n",
       "<table border=\"1\" class=\"dataframe\">\n",
       "  <thead>\n",
       "    <tr style=\"text-align: right;\">\n",
       "      <th></th>\n",
       "      <th>date</th>\n",
       "      <th>item</th>\n",
       "      <th>quantity</th>\n",
       "      <th>price</th>\n",
       "    </tr>\n",
       "  </thead>\n",
       "  <tbody>\n",
       "    <tr>\n",
       "      <th>2</th>\n",
       "      <td>2022-01-02</td>\n",
       "      <td>apple</td>\n",
       "      <td>1</td>\n",
       "      <td>NaN</td>\n",
       "    </tr>\n",
       "    <tr>\n",
       "      <th>4</th>\n",
       "      <td>2022-01-03</td>\n",
       "      <td>orange</td>\n",
       "      <td>2</td>\n",
       "      <td>0.79</td>\n",
       "    </tr>\n",
       "    <tr>\n",
       "      <th>1</th>\n",
       "      <td>2022-01-01</td>\n",
       "      <td>banana</td>\n",
       "      <td>2</td>\n",
       "      <td>0.99</td>\n",
       "    </tr>\n",
       "    <tr>\n",
       "      <th>3</th>\n",
       "      <td>2022-01-02</td>\n",
       "      <td>banana</td>\n",
       "      <td>4</td>\n",
       "      <td>1.49</td>\n",
       "    </tr>\n",
       "    <tr>\n",
       "      <th>0</th>\n",
       "      <td>2022-01-01</td>\n",
       "      <td>apple</td>\n",
       "      <td>3</td>\n",
       "      <td>1.99</td>\n",
       "    </tr>\n",
       "    <tr>\n",
       "      <th>5</th>\n",
       "      <td>2022-01-04</td>\n",
       "      <td>apple</td>\n",
       "      <td>2</td>\n",
       "      <td>1.99</td>\n",
       "    </tr>\n",
       "  </tbody>\n",
       "</table>\n",
       "</div>"
      ],
      "text/plain": [
       "         date    item  quantity  price\n",
       "2  2022-01-02   apple         1    NaN\n",
       "4  2022-01-03  orange         2   0.79\n",
       "1  2022-01-01  banana         2   0.99\n",
       "3  2022-01-02  banana         4   1.49\n",
       "0  2022-01-01   apple         3   1.99\n",
       "5  2022-01-04   apple         2   1.99"
      ]
     },
     "execution_count": 598,
     "metadata": {},
     "output_type": "execute_result"
    }
   ],
   "source": [
    "sales_sorted = sales.sort_values(['price'], ascending=True, na_position='first')\n",
    "sales_sorted"
   ]
  },
  {
   "cell_type": "code",
   "execution_count": 599,
   "metadata": {},
   "outputs": [
    {
     "data": {
      "text/html": [
       "<div>\n",
       "<style scoped>\n",
       "    .dataframe tbody tr th:only-of-type {\n",
       "        vertical-align: middle;\n",
       "    }\n",
       "\n",
       "    .dataframe tbody tr th {\n",
       "        vertical-align: top;\n",
       "    }\n",
       "\n",
       "    .dataframe thead th {\n",
       "        text-align: right;\n",
       "    }\n",
       "</style>\n",
       "<table border=\"1\" class=\"dataframe\">\n",
       "  <thead>\n",
       "    <tr style=\"text-align: right;\">\n",
       "      <th></th>\n",
       "      <th>Название</th>\n",
       "      <th>Автор</th>\n",
       "      <th>Жанр</th>\n",
       "      <th>Цена</th>\n",
       "      <th>Продажи</th>\n",
       "      <th>Год издания</th>\n",
       "    </tr>\n",
       "  </thead>\n",
       "  <tbody>\n",
       "    <tr>\n",
       "      <th>0</th>\n",
       "      <td>Война и мир</td>\n",
       "      <td>Л. Н. Толстой</td>\n",
       "      <td>роман</td>\n",
       "      <td>1000</td>\n",
       "      <td>500</td>\n",
       "      <td>1869</td>\n",
       "    </tr>\n",
       "    <tr>\n",
       "      <th>1</th>\n",
       "      <td>Преступление и наказание</td>\n",
       "      <td>Ф. М. Достоевский</td>\n",
       "      <td>роман</td>\n",
       "      <td>800</td>\n",
       "      <td>700</td>\n",
       "      <td>1866</td>\n",
       "    </tr>\n",
       "    <tr>\n",
       "      <th>2</th>\n",
       "      <td>Мастер и Маргарита</td>\n",
       "      <td>М. А. Булгаков</td>\n",
       "      <td>роман</td>\n",
       "      <td>950</td>\n",
       "      <td>450</td>\n",
       "      <td>1967</td>\n",
       "    </tr>\n",
       "    <tr>\n",
       "      <th>3</th>\n",
       "      <td>451 градус по Фаренгейту</td>\n",
       "      <td>Р. Брэдбери</td>\n",
       "      <td>фантастика</td>\n",
       "      <td>1200</td>\n",
       "      <td>800</td>\n",
       "      <td>1953</td>\n",
       "    </tr>\n",
       "  </tbody>\n",
       "</table>\n",
       "</div>"
      ],
      "text/plain": [
       "                   Название              Автор        Жанр  Цена  Продажи  \\\n",
       "0               Война и мир      Л. Н. Толстой       роман  1000      500   \n",
       "1  Преступление и наказание  Ф. М. Достоевский       роман   800      700   \n",
       "2        Мастер и Маргарита     М. А. Булгаков       роман   950      450   \n",
       "3  451 градус по Фаренгейту        Р. Брэдбери  фантастика  1200      800   \n",
       "\n",
       "   Год издания  \n",
       "0         1869  \n",
       "1         1866  \n",
       "2         1967  \n",
       "3         1953  "
      ]
     },
     "execution_count": 599,
     "metadata": {},
     "output_type": "execute_result"
    }
   ],
   "source": [
    "data = {\n",
    "    'Название': ['Война и мир', 'Преступление и наказание', 'Мастер и Маргарита', '451 градус по Фаренгейту'],\n",
    "    'Автор': ['Л. Н. Толстой', 'Ф. М. Достоевский', 'М. А. Булгаков', 'Р. Брэдбери'],\n",
    "    'Жанр': ['роман', 'роман', 'роман', 'фантастика'],\n",
    "    'Цена': [1000, 800, 950, 1200],\n",
    "    'Продажи': [500, 700, 450, 800],\n",
    "    'Год издания': [1869, 1866, 1967, 1953]\n",
    "}\n",
    "\n",
    "df = pd.DataFrame(data)\n",
    "df"
   ]
  },
  {
   "cell_type": "code",
   "execution_count": 600,
   "metadata": {},
   "outputs": [
    {
     "data": {
      "text/html": [
       "<div>\n",
       "<style scoped>\n",
       "    .dataframe tbody tr th:only-of-type {\n",
       "        vertical-align: middle;\n",
       "    }\n",
       "\n",
       "    .dataframe tbody tr th {\n",
       "        vertical-align: top;\n",
       "    }\n",
       "\n",
       "    .dataframe thead th {\n",
       "        text-align: right;\n",
       "    }\n",
       "</style>\n",
       "<table border=\"1\" class=\"dataframe\">\n",
       "  <thead>\n",
       "    <tr style=\"text-align: right;\">\n",
       "      <th></th>\n",
       "      <th>Название</th>\n",
       "      <th>Автор</th>\n",
       "      <th>Цена</th>\n",
       "      <th>Продажи</th>\n",
       "      <th>Год издания</th>\n",
       "    </tr>\n",
       "  </thead>\n",
       "  <tbody>\n",
       "    <tr>\n",
       "      <th>1</th>\n",
       "      <td>Преступление и наказание</td>\n",
       "      <td>Ф. М. Достоевский</td>\n",
       "      <td>800</td>\n",
       "      <td>700</td>\n",
       "      <td>1866</td>\n",
       "    </tr>\n",
       "    <tr>\n",
       "      <th>0</th>\n",
       "      <td>Война и мир</td>\n",
       "      <td>Л. Н. Толстой</td>\n",
       "      <td>1000</td>\n",
       "      <td>500</td>\n",
       "      <td>1869</td>\n",
       "    </tr>\n",
       "    <tr>\n",
       "      <th>3</th>\n",
       "      <td>451 градус по Фаренгейту</td>\n",
       "      <td>Р. Брэдбери</td>\n",
       "      <td>1200</td>\n",
       "      <td>800</td>\n",
       "      <td>1953</td>\n",
       "    </tr>\n",
       "    <tr>\n",
       "      <th>2</th>\n",
       "      <td>Мастер и Маргарита</td>\n",
       "      <td>М. А. Булгаков</td>\n",
       "      <td>950</td>\n",
       "      <td>450</td>\n",
       "      <td>1967</td>\n",
       "    </tr>\n",
       "  </tbody>\n",
       "</table>\n",
       "</div>"
      ],
      "text/plain": [
       "                   Название              Автор  Цена  Продажи  Год издания\n",
       "1  Преступление и наказание  Ф. М. Достоевский   800      700         1866\n",
       "0               Война и мир      Л. Н. Толстой  1000      500         1869\n",
       "3  451 градус по Фаренгейту        Р. Брэдбери  1200      800         1953\n",
       "2        Мастер и Маргарита     М. А. Булгаков   950      450         1967"
      ]
     },
     "execution_count": 600,
     "metadata": {},
     "output_type": "execute_result"
    }
   ],
   "source": [
    "df.sort_values(by='Год издания')[['Название', 'Автор', 'Цена', 'Продажи', 'Год издания']]"
   ]
  },
  {
   "cell_type": "code",
   "execution_count": 601,
   "metadata": {},
   "outputs": [
    {
     "data": {
      "text/html": [
       "<div>\n",
       "<style scoped>\n",
       "    .dataframe tbody tr th:only-of-type {\n",
       "        vertical-align: middle;\n",
       "    }\n",
       "\n",
       "    .dataframe tbody tr th {\n",
       "        vertical-align: top;\n",
       "    }\n",
       "\n",
       "    .dataframe thead th {\n",
       "        text-align: right;\n",
       "    }\n",
       "</style>\n",
       "<table border=\"1\" class=\"dataframe\">\n",
       "  <thead>\n",
       "    <tr style=\"text-align: right;\">\n",
       "      <th></th>\n",
       "      <th>Название</th>\n",
       "      <th>Автор</th>\n",
       "      <th>Цена</th>\n",
       "      <th>Продажи</th>\n",
       "      <th>Год издания</th>\n",
       "    </tr>\n",
       "  </thead>\n",
       "  <tbody>\n",
       "    <tr>\n",
       "      <th>1</th>\n",
       "      <td>Преступление и наказание</td>\n",
       "      <td>Ф. М. Достоевский</td>\n",
       "      <td>800</td>\n",
       "      <td>700</td>\n",
       "      <td>1866</td>\n",
       "    </tr>\n",
       "    <tr>\n",
       "      <th>0</th>\n",
       "      <td>Война и мир</td>\n",
       "      <td>Л. Н. Толстой</td>\n",
       "      <td>1000</td>\n",
       "      <td>500</td>\n",
       "      <td>1869</td>\n",
       "    </tr>\n",
       "    <tr>\n",
       "      <th>3</th>\n",
       "      <td>451 градус по Фаренгейту</td>\n",
       "      <td>Р. Брэдбери</td>\n",
       "      <td>1200</td>\n",
       "      <td>800</td>\n",
       "      <td>1953</td>\n",
       "    </tr>\n",
       "    <tr>\n",
       "      <th>2</th>\n",
       "      <td>Мастер и Маргарита</td>\n",
       "      <td>М. А. Булгаков</td>\n",
       "      <td>950</td>\n",
       "      <td>450</td>\n",
       "      <td>1967</td>\n",
       "    </tr>\n",
       "  </tbody>\n",
       "</table>\n",
       "</div>"
      ],
      "text/plain": [
       "                   Название              Автор  Цена  Продажи  Год издания\n",
       "1  Преступление и наказание  Ф. М. Достоевский   800      700         1866\n",
       "0               Война и мир      Л. Н. Толстой  1000      500         1869\n",
       "3  451 градус по Фаренгейту        Р. Брэдбери  1200      800         1953\n",
       "2        Мастер и Маргарита     М. А. Булгаков   950      450         1967"
      ]
     },
     "execution_count": 601,
     "metadata": {},
     "output_type": "execute_result"
    }
   ],
   "source": [
    "df.sort_values(by=['Год издания']).loc[:, ['Название', 'Автор', 'Цена', 'Продажи', 'Год издания']]"
   ]
  },
  {
   "cell_type": "markdown",
   "metadata": {},
   "source": [
    "# 4.5 Ранжирование в Pandas"
   ]
  },
  {
   "cell_type": "code",
   "execution_count": 602,
   "metadata": {},
   "outputs": [
    {
     "name": "stdout",
     "output_type": "stream",
     "text": [
      "0    10\n",
      "1    20\n",
      "2    30\n",
      "3    40\n",
      "4    50\n",
      "dtype: int64\n",
      "0    1.0\n",
      "1    2.0\n",
      "2    3.0\n",
      "3    4.0\n",
      "4    5.0\n",
      "dtype: float64\n"
     ]
    }
   ],
   "source": [
    "# Создадим Series с данными\n",
    "data = pd.Series([10, 20, 30, 40, 50])\n",
    "print(data)\n",
    "\n",
    "# Назначим ранги элементам\n",
    "rank = data.rank()\n",
    "print(rank)"
   ]
  },
  {
   "cell_type": "code",
   "execution_count": 603,
   "metadata": {},
   "outputs": [
    {
     "name": "stdout",
     "output_type": "stream",
     "text": [
      "0    10\n",
      "1    20\n",
      "2    30\n",
      "3    40\n",
      "4    50\n",
      "5    50\n",
      "dtype: int64\n",
      "0    1.0\n",
      "1    2.0\n",
      "2    3.0\n",
      "3    4.0\n",
      "4    5.5\n",
      "5    5.5\n",
      "dtype: float64\n"
     ]
    }
   ],
   "source": [
    "data = pd.Series([10, 20, 30, 40, 50, 50])\n",
    "print(data)\n",
    "\n",
    "# Значения с порядковыми номерами 5 и 6 повторяются (50), ранг присваивается как среднее (5.5)\n",
    "rank = data.rank()\n",
    "print(rank)"
   ]
  },
  {
   "cell_type": "code",
   "execution_count": 604,
   "metadata": {},
   "outputs": [
    {
     "name": "stdout",
     "output_type": "stream",
     "text": [
      "        Имя  Оценка\n",
      "0    Андрей      95\n",
      "1     Борис      85\n",
      "2  Владимир      90\n",
      "3   Дмитрий      85\n",
      "   Имя  Оценка\n",
      "0  1.0     4.0\n",
      "1  2.0     1.5\n",
      "2  3.0     3.0\n",
      "3  4.0     1.5\n"
     ]
    }
   ],
   "source": [
    "# Создадим DataFrame с данными\n",
    "data = pd.DataFrame({\n",
    "    'Имя': ['Андрей', 'Борис', 'Владимир', 'Дмитрий'],\n",
    "    'Оценка': [95, 85, 90, 85]\n",
    "})\n",
    "\n",
    "print(data)\n",
    "\n",
    "# Назначим ранги элементам\n",
    "rank = data.rank()\n",
    "print(rank)\n",
    "\n",
    "# Ранг назначен для каждой колонки"
   ]
  },
  {
   "cell_type": "code",
   "execution_count": 605,
   "metadata": {},
   "outputs": [
    {
     "name": "stdout",
     "output_type": "stream",
     "text": [
      "        Имя  Оценка  Ранг\n",
      "0    Андрей      95   4.0\n",
      "1     Борис      85   1.5\n",
      "2  Владимир      90   3.0\n",
      "3   Дмитрий      85   1.5\n"
     ]
    }
   ],
   "source": [
    "# Назначим ранги элементам\n",
    "rank = data['Оценка'].rank()\n",
    "\n",
    "# Добавим столбец с рангами в DataFrame\n",
    "data['Ранг'] = rank\n",
    "\n",
    "print(data)"
   ]
  },
  {
   "cell_type": "code",
   "execution_count": 606,
   "metadata": {},
   "outputs": [
    {
     "name": "stdout",
     "output_type": "stream",
     "text": [
      "        Имя  Оценка  Ранг\n",
      "0    Андрей      95   5.0\n",
      "1     Борис      85   3.0\n",
      "2  Владимир      90   4.0\n",
      "3   Дмитрий      80   1.0\n",
      "4   Николай      80   1.0\n"
     ]
    }
   ],
   "source": [
    "# Создадим DataFrame с данными\n",
    "data = pd.DataFrame({\n",
    "    'Имя': ['Андрей', 'Борис', 'Владимир', 'Дмитрий', 'Николай'],\n",
    "    'Оценка': [95, 85, 90, 80, 80]\n",
    "})\n",
    "\n",
    "# Назначим ранги элементам, начиная с 1\n",
    "rank = data['Оценка'].rank(method='min')\n",
    "\n",
    "# Добавим столбец с рангами в DataFrame\n",
    "data['Ранг'] = rank\n",
    "\n",
    "print(data)\n",
    "\n",
    "# Если передать в method параметр min, то одинаковым элементам будет присваиваться минимальный рейтинг.\n",
    "# method='max' - максимальный\n",
    "# method='first' - при совпадении значений элементов присваивается ранг по порядку появляения таких элементов\n",
    "# method='average' - параметр по умолчанию"
   ]
  },
  {
   "cell_type": "code",
   "execution_count": 607,
   "metadata": {},
   "outputs": [
    {
     "name": "stdout",
     "output_type": "stream",
     "text": [
      "   A  B\n",
      "0  1  3\n",
      "1  4  2\n",
      "2  3  4\n",
      "3  4  1\n",
      "     A    B\n",
      "0  1.0  2.0\n",
      "1  2.0  1.0\n",
      "2  1.0  2.0\n",
      "3  2.0  1.0\n"
     ]
    }
   ],
   "source": [
    "# Ранжирование по строкам (axis=1)\n",
    "df = pd.DataFrame({'A': [1, 4, 3, 4], 'B': [3, 2, 4, 1]})\n",
    "print(df)\n",
    "print(df.rank(axis=1))"
   ]
  },
  {
   "cell_type": "code",
   "execution_count": 608,
   "metadata": {},
   "outputs": [
    {
     "data": {
      "text/html": [
       "<div>\n",
       "<style scoped>\n",
       "    .dataframe tbody tr th:only-of-type {\n",
       "        vertical-align: middle;\n",
       "    }\n",
       "\n",
       "    .dataframe tbody tr th {\n",
       "        vertical-align: top;\n",
       "    }\n",
       "\n",
       "    .dataframe thead th {\n",
       "        text-align: right;\n",
       "    }\n",
       "</style>\n",
       "<table border=\"1\" class=\"dataframe\">\n",
       "  <thead>\n",
       "    <tr style=\"text-align: right;\">\n",
       "      <th></th>\n",
       "      <th>Country</th>\n",
       "      <th>2017</th>\n",
       "      <th>2018</th>\n",
       "      <th>2019</th>\n",
       "      <th>2020</th>\n",
       "      <th>2021</th>\n",
       "    </tr>\n",
       "  </thead>\n",
       "  <tbody>\n",
       "    <tr>\n",
       "      <th>0</th>\n",
       "      <td>USA</td>\n",
       "      <td>19362</td>\n",
       "      <td>20510</td>\n",
       "      <td>21433</td>\n",
       "      <td>20936</td>\n",
       "      <td>22923</td>\n",
       "    </tr>\n",
       "    <tr>\n",
       "      <th>1</th>\n",
       "      <td>China</td>\n",
       "      <td>12238</td>\n",
       "      <td>13608</td>\n",
       "      <td>14273</td>\n",
       "      <td>14727</td>\n",
       "      <td>16726</td>\n",
       "    </tr>\n",
       "    <tr>\n",
       "      <th>2</th>\n",
       "      <td>Japan</td>\n",
       "      <td>4884</td>\n",
       "      <td>4972</td>\n",
       "      <td>5080</td>\n",
       "      <td>5030</td>\n",
       "      <td>5163</td>\n",
       "    </tr>\n",
       "    <tr>\n",
       "      <th>3</th>\n",
       "      <td>Germany</td>\n",
       "      <td>3693</td>\n",
       "      <td>3855</td>\n",
       "      <td>3846</td>\n",
       "      <td>3275</td>\n",
       "      <td>4122</td>\n",
       "    </tr>\n",
       "    <tr>\n",
       "      <th>4</th>\n",
       "      <td>UK</td>\n",
       "      <td>2622</td>\n",
       "      <td>2825</td>\n",
       "      <td>2706</td>\n",
       "      <td>2400</td>\n",
       "      <td>2822</td>\n",
       "    </tr>\n",
       "  </tbody>\n",
       "</table>\n",
       "</div>"
      ],
      "text/plain": [
       "   Country   2017   2018   2019   2020   2021\n",
       "0      USA  19362  20510  21433  20936  22923\n",
       "1    China  12238  13608  14273  14727  16726\n",
       "2    Japan   4884   4972   5080   5030   5163\n",
       "3  Germany   3693   3855   3846   3275   4122\n",
       "4       UK   2622   2825   2706   2400   2822"
      ]
     },
     "execution_count": 608,
     "metadata": {},
     "output_type": "execute_result"
    }
   ],
   "source": [
    "# Создаем DataFrame с данными о ВВП\n",
    "data = {'Country': ['USA', 'China', 'Japan', 'Germany', 'UK'],\n",
    "        '2017': [19362, 12238, 4884, 3693, 2622],\n",
    "        '2018': [20510, 13608, 4972, 3855, 2825],\n",
    "        '2019': [21433, 14273, 5080, 3846, 2706],\n",
    "        '2020': [20936, 14727, 5030, 3275, 2400],\n",
    "        '2021': [22923, 16726, 5163, 4122, 2822]}\n",
    "\n",
    "df = pd.DataFrame(data)\n",
    "df"
   ]
  },
  {
   "cell_type": "code",
   "execution_count": 609,
   "metadata": {},
   "outputs": [
    {
     "data": {
      "text/html": [
       "<div>\n",
       "<style scoped>\n",
       "    .dataframe tbody tr th:only-of-type {\n",
       "        vertical-align: middle;\n",
       "    }\n",
       "\n",
       "    .dataframe tbody tr th {\n",
       "        vertical-align: top;\n",
       "    }\n",
       "\n",
       "    .dataframe thead th {\n",
       "        text-align: right;\n",
       "    }\n",
       "</style>\n",
       "<table border=\"1\" class=\"dataframe\">\n",
       "  <thead>\n",
       "    <tr style=\"text-align: right;\">\n",
       "      <th></th>\n",
       "      <th>Country</th>\n",
       "      <th>2017</th>\n",
       "      <th>2018</th>\n",
       "      <th>2019</th>\n",
       "      <th>2020</th>\n",
       "      <th>2021</th>\n",
       "    </tr>\n",
       "  </thead>\n",
       "  <tbody>\n",
       "    <tr>\n",
       "      <th>0</th>\n",
       "      <td>USA</td>\n",
       "      <td>5.0</td>\n",
       "      <td>5.0</td>\n",
       "      <td>5.0</td>\n",
       "      <td>5.0</td>\n",
       "      <td>5.0</td>\n",
       "    </tr>\n",
       "    <tr>\n",
       "      <th>1</th>\n",
       "      <td>China</td>\n",
       "      <td>4.0</td>\n",
       "      <td>4.0</td>\n",
       "      <td>4.0</td>\n",
       "      <td>4.0</td>\n",
       "      <td>4.0</td>\n",
       "    </tr>\n",
       "    <tr>\n",
       "      <th>2</th>\n",
       "      <td>Japan</td>\n",
       "      <td>3.0</td>\n",
       "      <td>3.0</td>\n",
       "      <td>3.0</td>\n",
       "      <td>3.0</td>\n",
       "      <td>3.0</td>\n",
       "    </tr>\n",
       "    <tr>\n",
       "      <th>3</th>\n",
       "      <td>Germany</td>\n",
       "      <td>2.0</td>\n",
       "      <td>2.0</td>\n",
       "      <td>2.0</td>\n",
       "      <td>2.0</td>\n",
       "      <td>2.0</td>\n",
       "    </tr>\n",
       "    <tr>\n",
       "      <th>4</th>\n",
       "      <td>UK</td>\n",
       "      <td>1.0</td>\n",
       "      <td>1.0</td>\n",
       "      <td>1.0</td>\n",
       "      <td>1.0</td>\n",
       "      <td>1.0</td>\n",
       "    </tr>\n",
       "  </tbody>\n",
       "</table>\n",
       "</div>"
      ],
      "text/plain": [
       "   Country  2017  2018  2019  2020  2021\n",
       "0      USA   5.0   5.0   5.0   5.0   5.0\n",
       "1    China   4.0   4.0   4.0   4.0   4.0\n",
       "2    Japan   3.0   3.0   3.0   3.0   3.0\n",
       "3  Germany   2.0   2.0   2.0   2.0   2.0\n",
       "4       UK   1.0   1.0   1.0   1.0   1.0"
      ]
     },
     "execution_count": 609,
     "metadata": {},
     "output_type": "execute_result"
    }
   ],
   "source": [
    "rank = df[['2017', '2018', '2019', '2020', '2021']].rank()\n",
    "df[['2017', '2018', '2019', '2020', '2021']] = rank\n",
    "df"
   ]
  },
  {
   "cell_type": "code",
   "execution_count": 610,
   "metadata": {},
   "outputs": [
    {
     "data": {
      "text/html": [
       "<div>\n",
       "<style scoped>\n",
       "    .dataframe tbody tr th:only-of-type {\n",
       "        vertical-align: middle;\n",
       "    }\n",
       "\n",
       "    .dataframe tbody tr th {\n",
       "        vertical-align: top;\n",
       "    }\n",
       "\n",
       "    .dataframe thead th {\n",
       "        text-align: right;\n",
       "    }\n",
       "</style>\n",
       "<table border=\"1\" class=\"dataframe\">\n",
       "  <thead>\n",
       "    <tr style=\"text-align: right;\">\n",
       "      <th></th>\n",
       "      <th>Country</th>\n",
       "      <th>2017</th>\n",
       "      <th>2018</th>\n",
       "      <th>2019</th>\n",
       "      <th>2020</th>\n",
       "      <th>2021</th>\n",
       "    </tr>\n",
       "  </thead>\n",
       "  <tbody>\n",
       "    <tr>\n",
       "      <th>0</th>\n",
       "      <td>USA</td>\n",
       "      <td>5.0</td>\n",
       "      <td>5.0</td>\n",
       "      <td>5.0</td>\n",
       "      <td>5.0</td>\n",
       "      <td>5.0</td>\n",
       "    </tr>\n",
       "    <tr>\n",
       "      <th>1</th>\n",
       "      <td>China</td>\n",
       "      <td>4.0</td>\n",
       "      <td>4.0</td>\n",
       "      <td>4.0</td>\n",
       "      <td>4.0</td>\n",
       "      <td>4.0</td>\n",
       "    </tr>\n",
       "    <tr>\n",
       "      <th>2</th>\n",
       "      <td>Japan</td>\n",
       "      <td>3.0</td>\n",
       "      <td>3.0</td>\n",
       "      <td>3.0</td>\n",
       "      <td>3.0</td>\n",
       "      <td>3.0</td>\n",
       "    </tr>\n",
       "    <tr>\n",
       "      <th>3</th>\n",
       "      <td>Germany</td>\n",
       "      <td>2.0</td>\n",
       "      <td>2.0</td>\n",
       "      <td>2.0</td>\n",
       "      <td>2.0</td>\n",
       "      <td>2.0</td>\n",
       "    </tr>\n",
       "    <tr>\n",
       "      <th>4</th>\n",
       "      <td>UK</td>\n",
       "      <td>1.0</td>\n",
       "      <td>1.0</td>\n",
       "      <td>1.0</td>\n",
       "      <td>1.0</td>\n",
       "      <td>1.0</td>\n",
       "    </tr>\n",
       "  </tbody>\n",
       "</table>\n",
       "</div>"
      ],
      "text/plain": [
       "   Country  2017  2018  2019  2020  2021\n",
       "0      USA   5.0   5.0   5.0   5.0   5.0\n",
       "1    China   4.0   4.0   4.0   4.0   4.0\n",
       "2    Japan   3.0   3.0   3.0   3.0   3.0\n",
       "3  Germany   2.0   2.0   2.0   2.0   2.0\n",
       "4       UK   1.0   1.0   1.0   1.0   1.0"
      ]
     },
     "execution_count": 610,
     "metadata": {},
     "output_type": "execute_result"
    }
   ],
   "source": [
    "df = pd.DataFrame(data)\n",
    "\n",
    "df_ranks = df.rank()\n",
    "df_ranks['Country'] = df['Country']\n",
    "df_ranks"
   ]
  },
  {
   "cell_type": "code",
   "execution_count": 611,
   "metadata": {},
   "outputs": [
    {
     "data": {
      "text/html": [
       "<div>\n",
       "<style scoped>\n",
       "    .dataframe tbody tr th:only-of-type {\n",
       "        vertical-align: middle;\n",
       "    }\n",
       "\n",
       "    .dataframe tbody tr th {\n",
       "        vertical-align: top;\n",
       "    }\n",
       "\n",
       "    .dataframe thead th {\n",
       "        text-align: right;\n",
       "    }\n",
       "</style>\n",
       "<table border=\"1\" class=\"dataframe\">\n",
       "  <thead>\n",
       "    <tr style=\"text-align: right;\">\n",
       "      <th></th>\n",
       "      <th>Product</th>\n",
       "      <th>Region 1</th>\n",
       "      <th>Region 2</th>\n",
       "      <th>Region 3</th>\n",
       "      <th>Region 4</th>\n",
       "      <th>Region 5</th>\n",
       "      <th>Region 6</th>\n",
       "    </tr>\n",
       "  </thead>\n",
       "  <tbody>\n",
       "    <tr>\n",
       "      <th>0</th>\n",
       "      <td>Product A</td>\n",
       "      <td>120</td>\n",
       "      <td>200</td>\n",
       "      <td>150</td>\n",
       "      <td>120</td>\n",
       "      <td>80</td>\n",
       "      <td>70</td>\n",
       "    </tr>\n",
       "    <tr>\n",
       "      <th>1</th>\n",
       "      <td>Product B</td>\n",
       "      <td>150</td>\n",
       "      <td>100</td>\n",
       "      <td>80</td>\n",
       "      <td>60</td>\n",
       "      <td>70</td>\n",
       "      <td>120</td>\n",
       "    </tr>\n",
       "    <tr>\n",
       "      <th>2</th>\n",
       "      <td>Product C</td>\n",
       "      <td>50</td>\n",
       "      <td>80</td>\n",
       "      <td>100</td>\n",
       "      <td>90</td>\n",
       "      <td>60</td>\n",
       "      <td>110</td>\n",
       "    </tr>\n",
       "    <tr>\n",
       "      <th>3</th>\n",
       "      <td>Product D</td>\n",
       "      <td>80</td>\n",
       "      <td>60</td>\n",
       "      <td>70</td>\n",
       "      <td>90</td>\n",
       "      <td>100</td>\n",
       "      <td>70</td>\n",
       "    </tr>\n",
       "    <tr>\n",
       "      <th>4</th>\n",
       "      <td>Product E</td>\n",
       "      <td>120</td>\n",
       "      <td>90</td>\n",
       "      <td>130</td>\n",
       "      <td>110</td>\n",
       "      <td>140</td>\n",
       "      <td>70</td>\n",
       "    </tr>\n",
       "  </tbody>\n",
       "</table>\n",
       "</div>"
      ],
      "text/plain": [
       "     Product  Region 1  Region 2  Region 3  Region 4  Region 5  Region 6\n",
       "0  Product A       120       200       150       120        80        70\n",
       "1  Product B       150       100        80        60        70       120\n",
       "2  Product C        50        80       100        90        60       110\n",
       "3  Product D        80        60        70        90       100        70\n",
       "4  Product E       120        90       130       110       140        70"
      ]
     },
     "execution_count": 611,
     "metadata": {},
     "output_type": "execute_result"
    }
   ],
   "source": [
    "data = {'Product': ['Product A', 'Product B', 'Product C', 'Product D', 'Product E'],\n",
    "        'Region 1': [120, 150, 50, 80, 120],\n",
    "        'Region 2': [200, 100, 80, 60, 90],\n",
    "        'Region 3': [150, 80, 100, 70, 130],\n",
    "        'Region 4': [120, 60, 90, 90, 110],\n",
    "        'Region 5': [80, 70, 60, 100, 140],\n",
    "        'Region 6': [70, 120, 110, 70, 70]}\n",
    "df = pd.DataFrame(data)\n",
    "df"
   ]
  },
  {
   "cell_type": "code",
   "execution_count": 612,
   "metadata": {},
   "outputs": [
    {
     "data": {
      "text/html": [
       "<div>\n",
       "<style scoped>\n",
       "    .dataframe tbody tr th:only-of-type {\n",
       "        vertical-align: middle;\n",
       "    }\n",
       "\n",
       "    .dataframe tbody tr th {\n",
       "        vertical-align: top;\n",
       "    }\n",
       "\n",
       "    .dataframe thead th {\n",
       "        text-align: right;\n",
       "    }\n",
       "</style>\n",
       "<table border=\"1\" class=\"dataframe\">\n",
       "  <thead>\n",
       "    <tr style=\"text-align: right;\">\n",
       "      <th></th>\n",
       "      <th>Product</th>\n",
       "      <th>Region 1</th>\n",
       "      <th>Region 2</th>\n",
       "      <th>Region 3</th>\n",
       "      <th>Region 4</th>\n",
       "      <th>Region 5</th>\n",
       "      <th>Region 6</th>\n",
       "    </tr>\n",
       "  </thead>\n",
       "  <tbody>\n",
       "    <tr>\n",
       "      <th>0</th>\n",
       "      <td>Product A</td>\n",
       "      <td>3.0</td>\n",
       "      <td>5.0</td>\n",
       "      <td>5.0</td>\n",
       "      <td>5.0</td>\n",
       "      <td>3.0</td>\n",
       "      <td>1.0</td>\n",
       "    </tr>\n",
       "    <tr>\n",
       "      <th>1</th>\n",
       "      <td>Product B</td>\n",
       "      <td>5.0</td>\n",
       "      <td>4.0</td>\n",
       "      <td>2.0</td>\n",
       "      <td>1.0</td>\n",
       "      <td>2.0</td>\n",
       "      <td>5.0</td>\n",
       "    </tr>\n",
       "    <tr>\n",
       "      <th>2</th>\n",
       "      <td>Product C</td>\n",
       "      <td>1.0</td>\n",
       "      <td>2.0</td>\n",
       "      <td>3.0</td>\n",
       "      <td>2.0</td>\n",
       "      <td>1.0</td>\n",
       "      <td>4.0</td>\n",
       "    </tr>\n",
       "    <tr>\n",
       "      <th>3</th>\n",
       "      <td>Product D</td>\n",
       "      <td>2.0</td>\n",
       "      <td>1.0</td>\n",
       "      <td>1.0</td>\n",
       "      <td>2.0</td>\n",
       "      <td>4.0</td>\n",
       "      <td>1.0</td>\n",
       "    </tr>\n",
       "    <tr>\n",
       "      <th>4</th>\n",
       "      <td>Product E</td>\n",
       "      <td>3.0</td>\n",
       "      <td>3.0</td>\n",
       "      <td>4.0</td>\n",
       "      <td>4.0</td>\n",
       "      <td>5.0</td>\n",
       "      <td>1.0</td>\n",
       "    </tr>\n",
       "  </tbody>\n",
       "</table>\n",
       "</div>"
      ],
      "text/plain": [
       "     Product  Region 1  Region 2  Region 3  Region 4  Region 5  Region 6\n",
       "0  Product A       3.0       5.0       5.0       5.0       3.0       1.0\n",
       "1  Product B       5.0       4.0       2.0       1.0       2.0       5.0\n",
       "2  Product C       1.0       2.0       3.0       2.0       1.0       4.0\n",
       "3  Product D       2.0       1.0       1.0       2.0       4.0       1.0\n",
       "4  Product E       3.0       3.0       4.0       4.0       5.0       1.0"
      ]
     },
     "execution_count": 612,
     "metadata": {},
     "output_type": "execute_result"
    }
   ],
   "source": [
    "df_rank = df.rank(method='min')\n",
    "df_rank['Product'] = df['Product']\n",
    "df_rank"
   ]
  },
  {
   "cell_type": "code",
   "execution_count": 613,
   "metadata": {},
   "outputs": [
    {
     "data": {
      "text/html": [
       "<div>\n",
       "<style scoped>\n",
       "    .dataframe tbody tr th:only-of-type {\n",
       "        vertical-align: middle;\n",
       "    }\n",
       "\n",
       "    .dataframe tbody tr th {\n",
       "        vertical-align: top;\n",
       "    }\n",
       "\n",
       "    .dataframe thead th {\n",
       "        text-align: right;\n",
       "    }\n",
       "</style>\n",
       "<table border=\"1\" class=\"dataframe\">\n",
       "  <thead>\n",
       "    <tr style=\"text-align: right;\">\n",
       "      <th></th>\n",
       "      <th>Product</th>\n",
       "      <th>Region 1</th>\n",
       "      <th>Region 2</th>\n",
       "      <th>Region 3</th>\n",
       "      <th>Region 4</th>\n",
       "      <th>Region 5</th>\n",
       "      <th>Region 6</th>\n",
       "    </tr>\n",
       "  </thead>\n",
       "  <tbody>\n",
       "    <tr>\n",
       "      <th>0</th>\n",
       "      <td>Product A</td>\n",
       "      <td>120</td>\n",
       "      <td>200</td>\n",
       "      <td>150</td>\n",
       "      <td>120</td>\n",
       "      <td>80</td>\n",
       "      <td>70</td>\n",
       "    </tr>\n",
       "    <tr>\n",
       "      <th>1</th>\n",
       "      <td>Product B</td>\n",
       "      <td>150</td>\n",
       "      <td>100</td>\n",
       "      <td>80</td>\n",
       "      <td>60</td>\n",
       "      <td>70</td>\n",
       "      <td>120</td>\n",
       "    </tr>\n",
       "    <tr>\n",
       "      <th>2</th>\n",
       "      <td>Product C</td>\n",
       "      <td>50</td>\n",
       "      <td>80</td>\n",
       "      <td>100</td>\n",
       "      <td>90</td>\n",
       "      <td>60</td>\n",
       "      <td>110</td>\n",
       "    </tr>\n",
       "    <tr>\n",
       "      <th>3</th>\n",
       "      <td>Product D</td>\n",
       "      <td>80</td>\n",
       "      <td>60</td>\n",
       "      <td>70</td>\n",
       "      <td>90</td>\n",
       "      <td>100</td>\n",
       "      <td>70</td>\n",
       "    </tr>\n",
       "    <tr>\n",
       "      <th>4</th>\n",
       "      <td>Product E</td>\n",
       "      <td>120</td>\n",
       "      <td>90</td>\n",
       "      <td>130</td>\n",
       "      <td>110</td>\n",
       "      <td>140</td>\n",
       "      <td>70</td>\n",
       "    </tr>\n",
       "  </tbody>\n",
       "</table>\n",
       "</div>"
      ],
      "text/plain": [
       "     Product  Region 1  Region 2  Region 3  Region 4  Region 5  Region 6\n",
       "0  Product A       120       200       150       120        80        70\n",
       "1  Product B       150       100        80        60        70       120\n",
       "2  Product C        50        80       100        90        60       110\n",
       "3  Product D        80        60        70        90       100        70\n",
       "4  Product E       120        90       130       110       140        70"
      ]
     },
     "execution_count": 613,
     "metadata": {},
     "output_type": "execute_result"
    }
   ],
   "source": [
    "data = {'Product': ['Product A', 'Product B', 'Product C', 'Product D', 'Product E'],\n",
    "        'Region 1': [120, 150, 50, 80, 120],\n",
    "        'Region 2': [200, 100, 80, 60, 90],\n",
    "        'Region 3': [150, 80, 100, 70, 130],\n",
    "        'Region 4': [120, 60, 90, 90, 110],\n",
    "        'Region 5': [80, 70, 60, 100, 140],\n",
    "        'Region 6': [70, 120, 110, 70, 70]}\n",
    "\n",
    "df = pd.DataFrame(data)\n",
    "df"
   ]
  },
  {
   "cell_type": "code",
   "execution_count": 614,
   "metadata": {},
   "outputs": [
    {
     "data": {
      "text/html": [
       "<div>\n",
       "<style scoped>\n",
       "    .dataframe tbody tr th:only-of-type {\n",
       "        vertical-align: middle;\n",
       "    }\n",
       "\n",
       "    .dataframe tbody tr th {\n",
       "        vertical-align: top;\n",
       "    }\n",
       "\n",
       "    .dataframe thead th {\n",
       "        text-align: right;\n",
       "    }\n",
       "</style>\n",
       "<table border=\"1\" class=\"dataframe\">\n",
       "  <thead>\n",
       "    <tr style=\"text-align: right;\">\n",
       "      <th></th>\n",
       "      <th>Product</th>\n",
       "      <th>Ранг</th>\n",
       "    </tr>\n",
       "  </thead>\n",
       "  <tbody>\n",
       "    <tr>\n",
       "      <th>0</th>\n",
       "      <td>Product A</td>\n",
       "      <td>5.0</td>\n",
       "    </tr>\n",
       "    <tr>\n",
       "      <th>1</th>\n",
       "      <td>Product B</td>\n",
       "      <td>3.0</td>\n",
       "    </tr>\n",
       "    <tr>\n",
       "      <th>2</th>\n",
       "      <td>Product C</td>\n",
       "      <td>2.0</td>\n",
       "    </tr>\n",
       "    <tr>\n",
       "      <th>3</th>\n",
       "      <td>Product D</td>\n",
       "      <td>1.0</td>\n",
       "    </tr>\n",
       "    <tr>\n",
       "      <th>4</th>\n",
       "      <td>Product E</td>\n",
       "      <td>4.0</td>\n",
       "    </tr>\n",
       "  </tbody>\n",
       "</table>\n",
       "</div>"
      ],
      "text/plain": [
       "     Product  Ранг\n",
       "0  Product A   5.0\n",
       "1  Product B   3.0\n",
       "2  Product C   2.0\n",
       "3  Product D   1.0\n",
       "4  Product E   4.0"
      ]
     },
     "execution_count": 614,
     "metadata": {},
     "output_type": "execute_result"
    }
   ],
   "source": [
    "rank_df = pd.DataFrame({\n",
    "    'Product': df['Product'].values,\n",
    "    'Ранг': df.loc[:,'Region 1':'Region 6'].sum(axis=1).rank(method='max')\n",
    "})\n",
    "\n",
    "rank_df"
   ]
  },
  {
   "cell_type": "code",
   "execution_count": 615,
   "metadata": {},
   "outputs": [
    {
     "data": {
      "text/html": [
       "<div>\n",
       "<style scoped>\n",
       "    .dataframe tbody tr th:only-of-type {\n",
       "        vertical-align: middle;\n",
       "    }\n",
       "\n",
       "    .dataframe tbody tr th {\n",
       "        vertical-align: top;\n",
       "    }\n",
       "\n",
       "    .dataframe thead th {\n",
       "        text-align: right;\n",
       "    }\n",
       "</style>\n",
       "<table border=\"1\" class=\"dataframe\">\n",
       "  <thead>\n",
       "    <tr style=\"text-align: right;\">\n",
       "      <th></th>\n",
       "      <th>Product</th>\n",
       "      <th>Ранг</th>\n",
       "    </tr>\n",
       "  </thead>\n",
       "  <tbody>\n",
       "    <tr>\n",
       "      <th>0</th>\n",
       "      <td>Product A</td>\n",
       "      <td>5.0</td>\n",
       "    </tr>\n",
       "    <tr>\n",
       "      <th>1</th>\n",
       "      <td>Product B</td>\n",
       "      <td>3.0</td>\n",
       "    </tr>\n",
       "    <tr>\n",
       "      <th>2</th>\n",
       "      <td>Product C</td>\n",
       "      <td>2.0</td>\n",
       "    </tr>\n",
       "    <tr>\n",
       "      <th>3</th>\n",
       "      <td>Product D</td>\n",
       "      <td>1.0</td>\n",
       "    </tr>\n",
       "    <tr>\n",
       "      <th>4</th>\n",
       "      <td>Product E</td>\n",
       "      <td>4.0</td>\n",
       "    </tr>\n",
       "  </tbody>\n",
       "</table>\n",
       "</div>"
      ],
      "text/plain": [
       "     Product  Ранг\n",
       "0  Product A   5.0\n",
       "1  Product B   3.0\n",
       "2  Product C   2.0\n",
       "3  Product D   1.0\n",
       "4  Product E   4.0"
      ]
     },
     "execution_count": 615,
     "metadata": {},
     "output_type": "execute_result"
    }
   ],
   "source": [
    "df = pd.DataFrame(data)\n",
    "\n",
    "df_rank = df.copy()\n",
    "df_rank['Ранг'] = df_rank.sum(axis=1, numeric_only=True).rank(method='max')\n",
    "df_rank[['Product', 'Ранг']]"
   ]
  },
  {
   "cell_type": "markdown",
   "metadata": {},
   "source": [
    "# 4.6 Редукционные функции в Pandas"
   ]
  },
  {
   "cell_type": "code",
   "execution_count": 616,
   "metadata": {},
   "outputs": [],
   "source": [
    "# Эти функции называются редукционными, потому что они «сжимают» данные до одного значения.\n",
    "# sum(): вычисляет сумму значений в объекте DataFrame или Series\n",
    "# min(): вычисляет минимальное значение в объекте DataFrame или Series\n",
    "# max(): вычисляет максимальное значение в объекте DataFrame или Series\n",
    "# count(): вычисляет количество значений в объекте DataFrame или Series\n",
    "# idxmin() и idxmax() - возвращают индекс минимального или максимального значения соответственно\n",
    "# argmin() и argmax() - для объекта Series!!! возвращают индекс минимального или максимального значения соответственно\n",
    "# cumsum() и cumprod() - вычисляют кумулятивную сумму и произведение соответственно (накопление вычисленных сумм или произведений)\n",
    "# cummin() и cummax() - вычисляют кумулятивный минимум и максимум соответственно\n",
    "# и многие другие"
   ]
  },
  {
   "cell_type": "code",
   "execution_count": 617,
   "metadata": {},
   "outputs": [],
   "source": [
    "# В функции sum() в Pandas есть необязательный параметр skipna\n",
    "# Если параметр skipna равен True, то функция sum() пропускает любые значения NaN при вычислении суммы.\n",
    "# Если параметр skipna равен False, то функция sum() вернет NaN в случае наличия хотя бы одного значения NaN в объекте DataFrame или Series."
   ]
  },
  {
   "cell_type": "code",
   "execution_count": 618,
   "metadata": {},
   "outputs": [
    {
     "data": {
      "text/html": [
       "<div>\n",
       "<style scoped>\n",
       "    .dataframe tbody tr th:only-of-type {\n",
       "        vertical-align: middle;\n",
       "    }\n",
       "\n",
       "    .dataframe tbody tr th {\n",
       "        vertical-align: top;\n",
       "    }\n",
       "\n",
       "    .dataframe thead th {\n",
       "        text-align: right;\n",
       "    }\n",
       "</style>\n",
       "<table border=\"1\" class=\"dataframe\">\n",
       "  <thead>\n",
       "    <tr style=\"text-align: right;\">\n",
       "      <th></th>\n",
       "      <th>Товар</th>\n",
       "      <th>Количество</th>\n",
       "      <th>Цена</th>\n",
       "    </tr>\n",
       "  </thead>\n",
       "  <tbody>\n",
       "    <tr>\n",
       "      <th>0</th>\n",
       "      <td>Книга</td>\n",
       "      <td>10</td>\n",
       "      <td>100</td>\n",
       "    </tr>\n",
       "    <tr>\n",
       "      <th>1</th>\n",
       "      <td>Канцелярия</td>\n",
       "      <td>50</td>\n",
       "      <td>50</td>\n",
       "    </tr>\n",
       "    <tr>\n",
       "      <th>2</th>\n",
       "      <td>Одежда</td>\n",
       "      <td>20</td>\n",
       "      <td>200</td>\n",
       "    </tr>\n",
       "  </tbody>\n",
       "</table>\n",
       "</div>"
      ],
      "text/plain": [
       "        Товар  Количество  Цена\n",
       "0       Книга          10   100\n",
       "1  Канцелярия          50    50\n",
       "2      Одежда          20   200"
      ]
     },
     "execution_count": 618,
     "metadata": {},
     "output_type": "execute_result"
    }
   ],
   "source": [
    "data = {'Товар': ['Книга', 'Канцелярия', 'Одежда'],\n",
    "        'Количество': [10, 50, 20],\n",
    "        'Цена': [100, 50, 200]}\n",
    "\n",
    "df = pd.DataFrame(data)\n",
    "df"
   ]
  },
  {
   "cell_type": "code",
   "execution_count": 619,
   "metadata": {},
   "outputs": [
    {
     "data": {
      "text/plain": [
       "Товар         КнигаКанцелярияОдежда\n",
       "Количество                       80\n",
       "Цена                            350\n",
       "dtype: object"
      ]
     },
     "execution_count": 619,
     "metadata": {},
     "output_type": "execute_result"
    }
   ],
   "source": [
    "# Суммируем по столбцам\n",
    "total_sales = df.sum()\n",
    "total_sales"
   ]
  },
  {
   "cell_type": "code",
   "execution_count": 620,
   "metadata": {},
   "outputs": [
    {
     "data": {
      "text/plain": [
       "0    110\n",
       "1    100\n",
       "2    220\n",
       "dtype: int64"
      ]
     },
     "execution_count": 620,
     "metadata": {},
     "output_type": "execute_result"
    }
   ],
   "source": [
    "# Суммируем по строкам\n",
    "total_sales = df.sum(axis=1, numeric_only=True)\n",
    "total_sales"
   ]
  },
  {
   "cell_type": "code",
   "execution_count": 621,
   "metadata": {},
   "outputs": [
    {
     "name": "stdout",
     "output_type": "stream",
     "text": [
      "0     1\n",
      "1     3\n",
      "2     6\n",
      "3    10\n",
      "4    15\n",
      "dtype: int64\n",
      "0      1\n",
      "1      2\n",
      "2      6\n",
      "3     24\n",
      "4    120\n",
      "dtype: int64\n"
     ]
    }
   ],
   "source": [
    "data = pd.Series([1, 2, 3, 4, 5])\n",
    "\n",
    "# кумулятивная сумма\n",
    "cumulative_sum = data.cumsum()\n",
    "print(cumulative_sum)\n",
    "\n",
    "# кумулятивное произведение\n",
    "cumulative_product = data.cumprod()\n",
    "print(cumulative_product)"
   ]
  },
  {
   "cell_type": "code",
   "execution_count": 622,
   "metadata": {},
   "outputs": [
    {
     "data": {
      "text/html": [
       "<div>\n",
       "<style scoped>\n",
       "    .dataframe tbody tr th:only-of-type {\n",
       "        vertical-align: middle;\n",
       "    }\n",
       "\n",
       "    .dataframe tbody tr th {\n",
       "        vertical-align: top;\n",
       "    }\n",
       "\n",
       "    .dataframe thead th {\n",
       "        text-align: right;\n",
       "    }\n",
       "</style>\n",
       "<table border=\"1\" class=\"dataframe\">\n",
       "  <thead>\n",
       "    <tr style=\"text-align: right;\">\n",
       "      <th></th>\n",
       "      <th>date</th>\n",
       "      <th>barcode</th>\n",
       "      <th>quantity</th>\n",
       "    </tr>\n",
       "  </thead>\n",
       "  <tbody>\n",
       "    <tr>\n",
       "      <th>0</th>\n",
       "      <td>2023-05-06</td>\n",
       "      <td>A123</td>\n",
       "      <td>5</td>\n",
       "    </tr>\n",
       "    <tr>\n",
       "      <th>1</th>\n",
       "      <td>2023-05-05</td>\n",
       "      <td>B456</td>\n",
       "      <td>5</td>\n",
       "    </tr>\n",
       "    <tr>\n",
       "      <th>2</th>\n",
       "      <td>2023-05-01</td>\n",
       "      <td>A123</td>\n",
       "      <td>8</td>\n",
       "    </tr>\n",
       "    <tr>\n",
       "      <th>3</th>\n",
       "      <td>2023-05-05</td>\n",
       "      <td>C789</td>\n",
       "      <td>2</td>\n",
       "    </tr>\n",
       "    <tr>\n",
       "      <th>4</th>\n",
       "      <td>2023-05-07</td>\n",
       "      <td>B456</td>\n",
       "      <td>2</td>\n",
       "    </tr>\n",
       "    <tr>\n",
       "      <th>5</th>\n",
       "      <td>2023-05-07</td>\n",
       "      <td>C789</td>\n",
       "      <td>8</td>\n",
       "    </tr>\n",
       "    <tr>\n",
       "      <th>6</th>\n",
       "      <td>2023-05-05</td>\n",
       "      <td>B456</td>\n",
       "      <td>4</td>\n",
       "    </tr>\n",
       "    <tr>\n",
       "      <th>7</th>\n",
       "      <td>2023-05-09</td>\n",
       "      <td>C789</td>\n",
       "      <td>1</td>\n",
       "    </tr>\n",
       "    <tr>\n",
       "      <th>8</th>\n",
       "      <td>2023-05-05</td>\n",
       "      <td>B456</td>\n",
       "      <td>2</td>\n",
       "    </tr>\n",
       "    <tr>\n",
       "      <th>9</th>\n",
       "      <td>2023-05-03</td>\n",
       "      <td>C789</td>\n",
       "      <td>6</td>\n",
       "    </tr>\n",
       "    <tr>\n",
       "      <th>10</th>\n",
       "      <td>2023-05-09</td>\n",
       "      <td>C789</td>\n",
       "      <td>6</td>\n",
       "    </tr>\n",
       "    <tr>\n",
       "      <th>11</th>\n",
       "      <td>2023-05-08</td>\n",
       "      <td>C789</td>\n",
       "      <td>5</td>\n",
       "    </tr>\n",
       "    <tr>\n",
       "      <th>12</th>\n",
       "      <td>2023-05-03</td>\n",
       "      <td>B456</td>\n",
       "      <td>2</td>\n",
       "    </tr>\n",
       "    <tr>\n",
       "      <th>13</th>\n",
       "      <td>2023-05-10</td>\n",
       "      <td>C789</td>\n",
       "      <td>5</td>\n",
       "    </tr>\n",
       "    <tr>\n",
       "      <th>14</th>\n",
       "      <td>2023-05-09</td>\n",
       "      <td>B456</td>\n",
       "      <td>4</td>\n",
       "    </tr>\n",
       "  </tbody>\n",
       "</table>\n",
       "</div>"
      ],
      "text/plain": [
       "         date barcode  quantity\n",
       "0  2023-05-06    A123         5\n",
       "1  2023-05-05    B456         5\n",
       "2  2023-05-01    A123         8\n",
       "3  2023-05-05    C789         2\n",
       "4  2023-05-07    B456         2\n",
       "5  2023-05-07    C789         8\n",
       "6  2023-05-05    B456         4\n",
       "7  2023-05-09    C789         1\n",
       "8  2023-05-05    B456         2\n",
       "9  2023-05-03    C789         6\n",
       "10 2023-05-09    C789         6\n",
       "11 2023-05-08    C789         5\n",
       "12 2023-05-03    B456         2\n",
       "13 2023-05-10    C789         5\n",
       "14 2023-05-09    B456         4"
      ]
     },
     "execution_count": 622,
     "metadata": {},
     "output_type": "execute_result"
    }
   ],
   "source": [
    "# список дат в периоде с 1 по 10 мая\n",
    "dates = pd.date_range(start='2023-05-01', end='2023-05-10', freq='D')\n",
    "\n",
    "# список штрих-кодов продуктов\n",
    "barcodes = ['A123', 'B456', 'C789']\n",
    "np.random.seed(22)\n",
    "# генерируем случайные данные о продажах\n",
    "data = {'date': np.random.choice(dates, size=15),\n",
    "        'barcode': np.random.choice(barcodes, size=15),\n",
    "        'quantity': np.random.randint(1, 10, size=15)}\n",
    "\n",
    "# создаем DataFrame\n",
    "sales_data = pd.DataFrame(data)\n",
    "sales_data"
   ]
  },
  {
   "cell_type": "code",
   "execution_count": 623,
   "metadata": {},
   "outputs": [
    {
     "data": {
      "text/html": [
       "<div>\n",
       "<style scoped>\n",
       "    .dataframe tbody tr th:only-of-type {\n",
       "        vertical-align: middle;\n",
       "    }\n",
       "\n",
       "    .dataframe tbody tr th {\n",
       "        vertical-align: top;\n",
       "    }\n",
       "\n",
       "    .dataframe thead th {\n",
       "        text-align: right;\n",
       "    }\n",
       "</style>\n",
       "<table border=\"1\" class=\"dataframe\">\n",
       "  <thead>\n",
       "    <tr style=\"text-align: right;\">\n",
       "      <th></th>\n",
       "      <th>date</th>\n",
       "      <th>barcode</th>\n",
       "      <th>quantity</th>\n",
       "    </tr>\n",
       "  </thead>\n",
       "  <tbody>\n",
       "    <tr>\n",
       "      <th>2</th>\n",
       "      <td>2023-05-01</td>\n",
       "      <td>A123</td>\n",
       "      <td>8</td>\n",
       "    </tr>\n",
       "    <tr>\n",
       "      <th>12</th>\n",
       "      <td>2023-05-03</td>\n",
       "      <td>B456</td>\n",
       "      <td>2</td>\n",
       "    </tr>\n",
       "    <tr>\n",
       "      <th>9</th>\n",
       "      <td>2023-05-03</td>\n",
       "      <td>C789</td>\n",
       "      <td>6</td>\n",
       "    </tr>\n",
       "    <tr>\n",
       "      <th>1</th>\n",
       "      <td>2023-05-05</td>\n",
       "      <td>B456</td>\n",
       "      <td>5</td>\n",
       "    </tr>\n",
       "    <tr>\n",
       "      <th>6</th>\n",
       "      <td>2023-05-05</td>\n",
       "      <td>B456</td>\n",
       "      <td>4</td>\n",
       "    </tr>\n",
       "    <tr>\n",
       "      <th>8</th>\n",
       "      <td>2023-05-05</td>\n",
       "      <td>B456</td>\n",
       "      <td>2</td>\n",
       "    </tr>\n",
       "    <tr>\n",
       "      <th>3</th>\n",
       "      <td>2023-05-05</td>\n",
       "      <td>C789</td>\n",
       "      <td>2</td>\n",
       "    </tr>\n",
       "    <tr>\n",
       "      <th>0</th>\n",
       "      <td>2023-05-06</td>\n",
       "      <td>A123</td>\n",
       "      <td>5</td>\n",
       "    </tr>\n",
       "    <tr>\n",
       "      <th>4</th>\n",
       "      <td>2023-05-07</td>\n",
       "      <td>B456</td>\n",
       "      <td>2</td>\n",
       "    </tr>\n",
       "    <tr>\n",
       "      <th>5</th>\n",
       "      <td>2023-05-07</td>\n",
       "      <td>C789</td>\n",
       "      <td>8</td>\n",
       "    </tr>\n",
       "    <tr>\n",
       "      <th>11</th>\n",
       "      <td>2023-05-08</td>\n",
       "      <td>C789</td>\n",
       "      <td>5</td>\n",
       "    </tr>\n",
       "    <tr>\n",
       "      <th>14</th>\n",
       "      <td>2023-05-09</td>\n",
       "      <td>B456</td>\n",
       "      <td>4</td>\n",
       "    </tr>\n",
       "    <tr>\n",
       "      <th>7</th>\n",
       "      <td>2023-05-09</td>\n",
       "      <td>C789</td>\n",
       "      <td>1</td>\n",
       "    </tr>\n",
       "    <tr>\n",
       "      <th>10</th>\n",
       "      <td>2023-05-09</td>\n",
       "      <td>C789</td>\n",
       "      <td>6</td>\n",
       "    </tr>\n",
       "    <tr>\n",
       "      <th>13</th>\n",
       "      <td>2023-05-10</td>\n",
       "      <td>C789</td>\n",
       "      <td>5</td>\n",
       "    </tr>\n",
       "  </tbody>\n",
       "</table>\n",
       "</div>"
      ],
      "text/plain": [
       "         date barcode  quantity\n",
       "2  2023-05-01    A123         8\n",
       "12 2023-05-03    B456         2\n",
       "9  2023-05-03    C789         6\n",
       "1  2023-05-05    B456         5\n",
       "6  2023-05-05    B456         4\n",
       "8  2023-05-05    B456         2\n",
       "3  2023-05-05    C789         2\n",
       "0  2023-05-06    A123         5\n",
       "4  2023-05-07    B456         2\n",
       "5  2023-05-07    C789         8\n",
       "11 2023-05-08    C789         5\n",
       "14 2023-05-09    B456         4\n",
       "7  2023-05-09    C789         1\n",
       "10 2023-05-09    C789         6\n",
       "13 2023-05-10    C789         5"
      ]
     },
     "execution_count": 623,
     "metadata": {},
     "output_type": "execute_result"
    }
   ],
   "source": [
    "sales_data.sort_values(by=['date', 'barcode'], inplace=True)\n",
    "sales_data"
   ]
  },
  {
   "cell_type": "code",
   "execution_count": 624,
   "metadata": {},
   "outputs": [
    {
     "data": {
      "text/plain": [
       "33"
      ]
     },
     "execution_count": 624,
     "metadata": {},
     "output_type": "execute_result"
    }
   ],
   "source": [
    "# barcode = input()\n",
    "barcode = 'C789'\n",
    "quantity = sales_data[sales_data['barcode'] == barcode].sum(numeric_only=True).values[0]\n",
    "quantity"
   ]
  },
  {
   "cell_type": "code",
   "execution_count": 625,
   "metadata": {},
   "outputs": [
    {
     "data": {
      "text/plain": [
       "33"
      ]
     },
     "execution_count": 625,
     "metadata": {},
     "output_type": "execute_result"
    }
   ],
   "source": [
    "sales_data.loc[sales_data['barcode'] == barcode, 'quantity'].sum()"
   ]
  },
  {
   "cell_type": "code",
   "execution_count": 626,
   "metadata": {},
   "outputs": [
    {
     "data": {
      "text/html": [
       "<div>\n",
       "<style scoped>\n",
       "    .dataframe tbody tr th:only-of-type {\n",
       "        vertical-align: middle;\n",
       "    }\n",
       "\n",
       "    .dataframe tbody tr th {\n",
       "        vertical-align: top;\n",
       "    }\n",
       "\n",
       "    .dataframe thead th {\n",
       "        text-align: right;\n",
       "    }\n",
       "</style>\n",
       "<table border=\"1\" class=\"dataframe\">\n",
       "  <thead>\n",
       "    <tr style=\"text-align: right;\">\n",
       "      <th></th>\n",
       "      <th>employee_id</th>\n",
       "      <th>satisfaction_score</th>\n",
       "    </tr>\n",
       "  </thead>\n",
       "  <tbody>\n",
       "    <tr>\n",
       "      <th>0</th>\n",
       "      <td>1</td>\n",
       "      <td>5</td>\n",
       "    </tr>\n",
       "    <tr>\n",
       "      <th>1</th>\n",
       "      <td>2</td>\n",
       "      <td>4</td>\n",
       "    </tr>\n",
       "    <tr>\n",
       "      <th>2</th>\n",
       "      <td>3</td>\n",
       "      <td>2</td>\n",
       "    </tr>\n",
       "    <tr>\n",
       "      <th>3</th>\n",
       "      <td>4</td>\n",
       "      <td>4</td>\n",
       "    </tr>\n",
       "    <tr>\n",
       "      <th>4</th>\n",
       "      <td>5</td>\n",
       "      <td>4</td>\n",
       "    </tr>\n",
       "  </tbody>\n",
       "</table>\n",
       "</div>"
      ],
      "text/plain": [
       "   employee_id  satisfaction_score\n",
       "0            1                   5\n",
       "1            2                   4\n",
       "2            3                   2\n",
       "3            4                   4\n",
       "4            5                   4"
      ]
     },
     "execution_count": 626,
     "metadata": {},
     "output_type": "execute_result"
    }
   ],
   "source": [
    "# Сгенерируем случайные данные опроса\n",
    "employee_ids = range(1, 51)\n",
    "np.random.seed(44)\n",
    "satisfaction_scores = np.random.randint(1, 6, 50)\n",
    "survey_data = pd.DataFrame({'employee_id': employee_ids, 'satisfaction_score': satisfaction_scores})\n",
    "survey_data.head()"
   ]
  },
  {
   "cell_type": "code",
   "execution_count": 627,
   "metadata": {},
   "outputs": [
    {
     "data": {
      "text/plain": [
       "employee_id           9\n",
       "satisfaction_score    9\n",
       "dtype: int64"
      ]
     },
     "execution_count": 627,
     "metadata": {},
     "output_type": "execute_result"
    }
   ],
   "source": [
    "survey_data.loc[survey_data['satisfaction_score'] == survey_data['satisfaction_score'].max()].count()"
   ]
  },
  {
   "cell_type": "code",
   "execution_count": 628,
   "metadata": {},
   "outputs": [
    {
     "data": {
      "text/html": [
       "<div>\n",
       "<style scoped>\n",
       "    .dataframe tbody tr th:only-of-type {\n",
       "        vertical-align: middle;\n",
       "    }\n",
       "\n",
       "    .dataframe tbody tr th {\n",
       "        vertical-align: top;\n",
       "    }\n",
       "\n",
       "    .dataframe thead th {\n",
       "        text-align: right;\n",
       "    }\n",
       "</style>\n",
       "<table border=\"1\" class=\"dataframe\">\n",
       "  <thead>\n",
       "    <tr style=\"text-align: right;\">\n",
       "      <th></th>\n",
       "      <th>model</th>\n",
       "      <th>date</th>\n",
       "      <th>price</th>\n",
       "    </tr>\n",
       "  </thead>\n",
       "  <tbody>\n",
       "    <tr>\n",
       "      <th>0</th>\n",
       "      <td>Ford</td>\n",
       "      <td>2021-01-01</td>\n",
       "      <td>44094</td>\n",
       "    </tr>\n",
       "    <tr>\n",
       "      <th>1</th>\n",
       "      <td>Hyundai</td>\n",
       "      <td>2021-01-02</td>\n",
       "      <td>27487</td>\n",
       "    </tr>\n",
       "    <tr>\n",
       "      <th>2</th>\n",
       "      <td>Mercedes</td>\n",
       "      <td>2021-01-03</td>\n",
       "      <td>32784</td>\n",
       "    </tr>\n",
       "    <tr>\n",
       "      <th>3</th>\n",
       "      <td>Mercedes</td>\n",
       "      <td>2021-01-04</td>\n",
       "      <td>30974</td>\n",
       "    </tr>\n",
       "    <tr>\n",
       "      <th>4</th>\n",
       "      <td>Toyota</td>\n",
       "      <td>2021-01-05</td>\n",
       "      <td>44122</td>\n",
       "    </tr>\n",
       "  </tbody>\n",
       "</table>\n",
       "</div>"
      ],
      "text/plain": [
       "      model       date  price\n",
       "0      Ford 2021-01-01  44094\n",
       "1   Hyundai 2021-01-02  27487\n",
       "2  Mercedes 2021-01-03  32784\n",
       "3  Mercedes 2021-01-04  30974\n",
       "4    Toyota 2021-01-05  44122"
      ]
     },
     "execution_count": 628,
     "metadata": {},
     "output_type": "execute_result"
    }
   ],
   "source": [
    "# генерация случайных данных для примера\n",
    "models = ['Ford', 'Toyota', 'Honda', 'BMW', 'Mercedes', 'Hyundai'] * 8\n",
    "np.random.seed(8)\n",
    "np.random.shuffle(models)\n",
    "dates = pd.date_range('20210101', periods=48)\n",
    "prices = np.random.randint(15000, 55000, 48)\n",
    "\n",
    "# создание Pandas dataframe с данными о продажах\n",
    "sales_data = {'model': models,\n",
    "              'date': dates,\n",
    "              'price': prices}\n",
    "\n",
    "sales = pd.DataFrame(sales_data)\n",
    "sales.head()"
   ]
  },
  {
   "cell_type": "code",
   "execution_count": 629,
   "metadata": {},
   "outputs": [
    {
     "data": {
      "text/html": [
       "<div>\n",
       "<style scoped>\n",
       "    .dataframe tbody tr th:only-of-type {\n",
       "        vertical-align: middle;\n",
       "    }\n",
       "\n",
       "    .dataframe tbody tr th {\n",
       "        vertical-align: top;\n",
       "    }\n",
       "\n",
       "    .dataframe thead th {\n",
       "        text-align: right;\n",
       "    }\n",
       "</style>\n",
       "<table border=\"1\" class=\"dataframe\">\n",
       "  <thead>\n",
       "    <tr style=\"text-align: right;\">\n",
       "      <th></th>\n",
       "      <th>model</th>\n",
       "      <th>date</th>\n",
       "      <th>price</th>\n",
       "    </tr>\n",
       "  </thead>\n",
       "  <tbody>\n",
       "    <tr>\n",
       "      <th>18</th>\n",
       "      <td>Ford</td>\n",
       "      <td>2021-01-19</td>\n",
       "      <td>15788</td>\n",
       "    </tr>\n",
       "  </tbody>\n",
       "</table>\n",
       "</div>"
      ],
      "text/plain": [
       "   model       date  price\n",
       "18  Ford 2021-01-19  15788"
      ]
     },
     "execution_count": 629,
     "metadata": {},
     "output_type": "execute_result"
    }
   ],
   "source": [
    "# 1. Таблица DataFrame с моделями, датами продажи и минимальной ценой продажи.\n",
    "sales.loc[sales['price'] == sales['price'].min(), ['model', 'date', 'price']]"
   ]
  },
  {
   "cell_type": "code",
   "execution_count": 630,
   "metadata": {},
   "outputs": [
    {
     "data": {
      "text/html": [
       "<div>\n",
       "<style scoped>\n",
       "    .dataframe tbody tr th:only-of-type {\n",
       "        vertical-align: middle;\n",
       "    }\n",
       "\n",
       "    .dataframe tbody tr th {\n",
       "        vertical-align: top;\n",
       "    }\n",
       "\n",
       "    .dataframe thead th {\n",
       "        text-align: right;\n",
       "    }\n",
       "</style>\n",
       "<table border=\"1\" class=\"dataframe\">\n",
       "  <thead>\n",
       "    <tr style=\"text-align: right;\">\n",
       "      <th></th>\n",
       "      <th>model</th>\n",
       "      <th>date</th>\n",
       "      <th>price</th>\n",
       "    </tr>\n",
       "  </thead>\n",
       "  <tbody>\n",
       "    <tr>\n",
       "      <th>27</th>\n",
       "      <td>Hyundai</td>\n",
       "      <td>2021-01-28</td>\n",
       "      <td>53155</td>\n",
       "    </tr>\n",
       "  </tbody>\n",
       "</table>\n",
       "</div>"
      ],
      "text/plain": [
       "      model       date  price\n",
       "27  Hyundai 2021-01-28  53155"
      ]
     },
     "execution_count": 630,
     "metadata": {},
     "output_type": "execute_result"
    }
   ],
   "source": [
    "# 2. Таблица DataFrame с моделями, датами продажи и максимальной ценой продажи.\n",
    "sales.loc[sales['price'] == sales['price'].max(), ['model', 'date', 'price']]"
   ]
  },
  {
   "cell_type": "code",
   "execution_count": 631,
   "metadata": {},
   "outputs": [
    {
     "data": {
      "text/html": [
       "<div>\n",
       "<style scoped>\n",
       "    .dataframe tbody tr th:only-of-type {\n",
       "        vertical-align: middle;\n",
       "    }\n",
       "\n",
       "    .dataframe tbody tr th {\n",
       "        vertical-align: top;\n",
       "    }\n",
       "\n",
       "    .dataframe thead th {\n",
       "        text-align: right;\n",
       "    }\n",
       "</style>\n",
       "<table border=\"1\" class=\"dataframe\">\n",
       "  <thead>\n",
       "    <tr style=\"text-align: right;\">\n",
       "      <th></th>\n",
       "      <th>2021-01-31</th>\n",
       "      <th>2021-02-28</th>\n",
       "      <th>2021-03-31</th>\n",
       "      <th>2021-04-30</th>\n",
       "      <th>2021-05-31</th>\n",
       "      <th>2021-06-30</th>\n",
       "      <th>2021-07-31</th>\n",
       "      <th>2021-08-31</th>\n",
       "      <th>2021-09-30</th>\n",
       "      <th>2021-10-31</th>\n",
       "    </tr>\n",
       "  </thead>\n",
       "  <tbody>\n",
       "    <tr>\n",
       "      <th>Product A</th>\n",
       "      <td>561</td>\n",
       "      <td>766</td>\n",
       "      <td>395</td>\n",
       "      <td>993</td>\n",
       "      <td>641</td>\n",
       "      <td>923</td>\n",
       "      <td>137</td>\n",
       "      <td>447</td>\n",
       "      <td>773</td>\n",
       "      <td>154</td>\n",
       "    </tr>\n",
       "    <tr>\n",
       "      <th>Product B</th>\n",
       "      <td>468</td>\n",
       "      <td>647</td>\n",
       "      <td>786</td>\n",
       "      <td>450</td>\n",
       "      <td>929</td>\n",
       "      <td>561</td>\n",
       "      <td>706</td>\n",
       "      <td>752</td>\n",
       "      <td>643</td>\n",
       "      <td>965</td>\n",
       "    </tr>\n",
       "    <tr>\n",
       "      <th>Product C</th>\n",
       "      <td>859</td>\n",
       "      <td>940</td>\n",
       "      <td>535</td>\n",
       "      <td>814</td>\n",
       "      <td>715</td>\n",
       "      <td>577</td>\n",
       "      <td>319</td>\n",
       "      <td>484</td>\n",
       "      <td>795</td>\n",
       "      <td>930</td>\n",
       "    </tr>\n",
       "    <tr>\n",
       "      <th>Product D</th>\n",
       "      <td>143</td>\n",
       "      <td>849</td>\n",
       "      <td>831</td>\n",
       "      <td>694</td>\n",
       "      <td>149</td>\n",
       "      <td>956</td>\n",
       "      <td>532</td>\n",
       "      <td>306</td>\n",
       "      <td>348</td>\n",
       "      <td>238</td>\n",
       "    </tr>\n",
       "    <tr>\n",
       "      <th>Product E</th>\n",
       "      <td>928</td>\n",
       "      <td>543</td>\n",
       "      <td>832</td>\n",
       "      <td>717</td>\n",
       "      <td>144</td>\n",
       "      <td>408</td>\n",
       "      <td>833</td>\n",
       "      <td>592</td>\n",
       "      <td>249</td>\n",
       "      <td>689</td>\n",
       "    </tr>\n",
       "  </tbody>\n",
       "</table>\n",
       "</div>"
      ],
      "text/plain": [
       "           2021-01-31  2021-02-28  2021-03-31  2021-04-30  2021-05-31  \\\n",
       "Product A         561         766         395         993         641   \n",
       "Product B         468         647         786         450         929   \n",
       "Product C         859         940         535         814         715   \n",
       "Product D         143         849         831         694         149   \n",
       "Product E         928         543         832         717         144   \n",
       "\n",
       "           2021-06-30  2021-07-31  2021-08-31  2021-09-30  2021-10-31  \n",
       "Product A         923         137         447         773         154  \n",
       "Product B         561         706         752         643         965  \n",
       "Product C         577         319         484         795         930  \n",
       "Product D         956         532         306         348         238  \n",
       "Product E         408         833         592         249         689  "
      ]
     },
     "execution_count": 631,
     "metadata": {},
     "output_type": "execute_result"
    }
   ],
   "source": [
    "# генерация случайных данных для примера\n",
    "np.random.seed(55)\n",
    "products = ['Product A', 'Product B', 'Product C', 'Product D', 'Product E']\n",
    "months = list(pd.date_range('20210101', periods=10, freq='M'))\n",
    "sales = np.random.randint(100, 1000, size=(5, 10))\n",
    "\n",
    "# создание Pandas dataframe с данными о продажах товаров за каждый месяц\n",
    "sales_data = pd.DataFrame(data=sales, index=products, columns=months)\n",
    "sales_data"
   ]
  },
  {
   "cell_type": "code",
   "execution_count": 632,
   "metadata": {},
   "outputs": [
    {
     "name": "stdout",
     "output_type": "stream",
     "text": [
      "Товар с максимальным количеством продаж: Product C\n",
      "Товар с минимальным количеством продаж: Product D\n"
     ]
    }
   ],
   "source": [
    "product_max_sales = sales_data.sum(axis=1, numeric_only=True).idxmax()\n",
    "product_min_sales = sales_data.sum(axis=1, numeric_only=True).idxmin()\n",
    "print(f'Товар с максимальным количеством продаж: {product_max_sales}')\n",
    "print(f'Товар с минимальным количеством продаж: {product_min_sales}')"
   ]
  },
  {
   "cell_type": "code",
   "execution_count": 633,
   "metadata": {},
   "outputs": [
    {
     "data": {
      "text/html": [
       "<div>\n",
       "<style scoped>\n",
       "    .dataframe tbody tr th:only-of-type {\n",
       "        vertical-align: middle;\n",
       "    }\n",
       "\n",
       "    .dataframe tbody tr th {\n",
       "        vertical-align: top;\n",
       "    }\n",
       "\n",
       "    .dataframe thead th {\n",
       "        text-align: right;\n",
       "    }\n",
       "</style>\n",
       "<table border=\"1\" class=\"dataframe\">\n",
       "  <thead>\n",
       "    <tr style=\"text-align: right;\">\n",
       "      <th></th>\n",
       "      <th>athlete_id</th>\n",
       "      <th>exercise1</th>\n",
       "      <th>exercise2</th>\n",
       "      <th>exercise3</th>\n",
       "      <th>exercise4</th>\n",
       "      <th>exercise5</th>\n",
       "    </tr>\n",
       "  </thead>\n",
       "  <tbody>\n",
       "    <tr>\n",
       "      <th>0</th>\n",
       "      <td>1</td>\n",
       "      <td>8</td>\n",
       "      <td>7</td>\n",
       "      <td>9</td>\n",
       "      <td>6</td>\n",
       "      <td>7</td>\n",
       "    </tr>\n",
       "    <tr>\n",
       "      <th>1</th>\n",
       "      <td>2</td>\n",
       "      <td>7</td>\n",
       "      <td>6</td>\n",
       "      <td>8</td>\n",
       "      <td>9</td>\n",
       "      <td>8</td>\n",
       "    </tr>\n",
       "    <tr>\n",
       "      <th>2</th>\n",
       "      <td>3</td>\n",
       "      <td>6</td>\n",
       "      <td>8</td>\n",
       "      <td>7</td>\n",
       "      <td>7</td>\n",
       "      <td>6</td>\n",
       "    </tr>\n",
       "    <tr>\n",
       "      <th>3</th>\n",
       "      <td>4</td>\n",
       "      <td>9</td>\n",
       "      <td>9</td>\n",
       "      <td>6</td>\n",
       "      <td>8</td>\n",
       "      <td>9</td>\n",
       "    </tr>\n",
       "    <tr>\n",
       "      <th>4</th>\n",
       "      <td>5</td>\n",
       "      <td>8</td>\n",
       "      <td>6</td>\n",
       "      <td>9</td>\n",
       "      <td>7</td>\n",
       "      <td>8</td>\n",
       "    </tr>\n",
       "    <tr>\n",
       "      <th>5</th>\n",
       "      <td>6</td>\n",
       "      <td>7</td>\n",
       "      <td>7</td>\n",
       "      <td>8</td>\n",
       "      <td>6</td>\n",
       "      <td>7</td>\n",
       "    </tr>\n",
       "    <tr>\n",
       "      <th>6</th>\n",
       "      <td>7</td>\n",
       "      <td>6</td>\n",
       "      <td>9</td>\n",
       "      <td>7</td>\n",
       "      <td>9</td>\n",
       "      <td>6</td>\n",
       "    </tr>\n",
       "    <tr>\n",
       "      <th>7</th>\n",
       "      <td>8</td>\n",
       "      <td>9</td>\n",
       "      <td>8</td>\n",
       "      <td>6</td>\n",
       "      <td>8</td>\n",
       "      <td>9</td>\n",
       "    </tr>\n",
       "    <tr>\n",
       "      <th>8</th>\n",
       "      <td>9</td>\n",
       "      <td>8</td>\n",
       "      <td>6</td>\n",
       "      <td>9</td>\n",
       "      <td>7</td>\n",
       "      <td>8</td>\n",
       "    </tr>\n",
       "    <tr>\n",
       "      <th>9</th>\n",
       "      <td>10</td>\n",
       "      <td>7</td>\n",
       "      <td>7</td>\n",
       "      <td>8</td>\n",
       "      <td>6</td>\n",
       "      <td>7</td>\n",
       "    </tr>\n",
       "  </tbody>\n",
       "</table>\n",
       "</div>"
      ],
      "text/plain": [
       "   athlete_id  exercise1  exercise2  exercise3  exercise4  exercise5\n",
       "0           1          8          7          9          6          7\n",
       "1           2          7          6          8          9          8\n",
       "2           3          6          8          7          7          6\n",
       "3           4          9          9          6          8          9\n",
       "4           5          8          6          9          7          8\n",
       "5           6          7          7          8          6          7\n",
       "6           7          6          9          7          9          6\n",
       "7           8          9          8          6          8          9\n",
       "8           9          8          6          9          7          8\n",
       "9          10          7          7          8          6          7"
      ]
     },
     "execution_count": 633,
     "metadata": {},
     "output_type": "execute_result"
    }
   ],
   "source": [
    "# Создаем DataFrame с данными о баллах спортсменов\n",
    "athlete_ids = range(1, 11)\n",
    "scores = {'athlete_id': athlete_ids,\n",
    "          'exercise1': [8, 7, 6, 9, 8, 7, 6, 9, 8, 7],\n",
    "          'exercise2': [7, 6, 8, 9, 6, 7, 9, 8, 6, 7],\n",
    "          'exercise3': [9, 8, 7, 6, 9, 8, 7, 6, 9, 8],\n",
    "          'exercise4': [6, 9, 7, 8, 7, 6, 9, 8, 7, 6],\n",
    "          'exercise5': [7, 8, 6, 9, 8, 7, 6, 9, 8, 7]}\n",
    "scores_data = pd.DataFrame(scores)\n",
    "scores_data"
   ]
  },
  {
   "cell_type": "code",
   "execution_count": 634,
   "metadata": {},
   "outputs": [
    {
     "data": {
      "text/html": [
       "<div>\n",
       "<style scoped>\n",
       "    .dataframe tbody tr th:only-of-type {\n",
       "        vertical-align: middle;\n",
       "    }\n",
       "\n",
       "    .dataframe tbody tr th {\n",
       "        vertical-align: top;\n",
       "    }\n",
       "\n",
       "    .dataframe thead th {\n",
       "        text-align: right;\n",
       "    }\n",
       "</style>\n",
       "<table border=\"1\" class=\"dataframe\">\n",
       "  <thead>\n",
       "    <tr style=\"text-align: right;\">\n",
       "      <th></th>\n",
       "      <th>athlete_id</th>\n",
       "      <th>cumulative1</th>\n",
       "      <th>cumulative2</th>\n",
       "      <th>cumulative3</th>\n",
       "      <th>cumulative4</th>\n",
       "      <th>cumulative5</th>\n",
       "    </tr>\n",
       "  </thead>\n",
       "  <tbody>\n",
       "    <tr>\n",
       "      <th>0</th>\n",
       "      <td>1</td>\n",
       "      <td>8</td>\n",
       "      <td>15</td>\n",
       "      <td>24</td>\n",
       "      <td>30</td>\n",
       "      <td>37</td>\n",
       "    </tr>\n",
       "    <tr>\n",
       "      <th>1</th>\n",
       "      <td>2</td>\n",
       "      <td>7</td>\n",
       "      <td>13</td>\n",
       "      <td>21</td>\n",
       "      <td>30</td>\n",
       "      <td>38</td>\n",
       "    </tr>\n",
       "    <tr>\n",
       "      <th>2</th>\n",
       "      <td>3</td>\n",
       "      <td>6</td>\n",
       "      <td>14</td>\n",
       "      <td>21</td>\n",
       "      <td>28</td>\n",
       "      <td>34</td>\n",
       "    </tr>\n",
       "    <tr>\n",
       "      <th>3</th>\n",
       "      <td>4</td>\n",
       "      <td>9</td>\n",
       "      <td>18</td>\n",
       "      <td>24</td>\n",
       "      <td>32</td>\n",
       "      <td>41</td>\n",
       "    </tr>\n",
       "    <tr>\n",
       "      <th>4</th>\n",
       "      <td>5</td>\n",
       "      <td>8</td>\n",
       "      <td>14</td>\n",
       "      <td>23</td>\n",
       "      <td>30</td>\n",
       "      <td>38</td>\n",
       "    </tr>\n",
       "    <tr>\n",
       "      <th>5</th>\n",
       "      <td>6</td>\n",
       "      <td>7</td>\n",
       "      <td>14</td>\n",
       "      <td>22</td>\n",
       "      <td>28</td>\n",
       "      <td>35</td>\n",
       "    </tr>\n",
       "    <tr>\n",
       "      <th>6</th>\n",
       "      <td>7</td>\n",
       "      <td>6</td>\n",
       "      <td>15</td>\n",
       "      <td>22</td>\n",
       "      <td>31</td>\n",
       "      <td>37</td>\n",
       "    </tr>\n",
       "    <tr>\n",
       "      <th>7</th>\n",
       "      <td>8</td>\n",
       "      <td>9</td>\n",
       "      <td>17</td>\n",
       "      <td>23</td>\n",
       "      <td>31</td>\n",
       "      <td>40</td>\n",
       "    </tr>\n",
       "    <tr>\n",
       "      <th>8</th>\n",
       "      <td>9</td>\n",
       "      <td>8</td>\n",
       "      <td>14</td>\n",
       "      <td>23</td>\n",
       "      <td>30</td>\n",
       "      <td>38</td>\n",
       "    </tr>\n",
       "    <tr>\n",
       "      <th>9</th>\n",
       "      <td>10</td>\n",
       "      <td>7</td>\n",
       "      <td>14</td>\n",
       "      <td>22</td>\n",
       "      <td>28</td>\n",
       "      <td>35</td>\n",
       "    </tr>\n",
       "  </tbody>\n",
       "</table>\n",
       "</div>"
      ],
      "text/plain": [
       "   athlete_id  cumulative1  cumulative2  cumulative3  cumulative4  cumulative5\n",
       "0           1            8           15           24           30           37\n",
       "1           2            7           13           21           30           38\n",
       "2           3            6           14           21           28           34\n",
       "3           4            9           18           24           32           41\n",
       "4           5            8           14           23           30           38\n",
       "5           6            7           14           22           28           35\n",
       "6           7            6           15           22           31           37\n",
       "7           8            9           17           23           31           40\n",
       "8           9            8           14           23           30           38\n",
       "9          10            7           14           22           28           35"
      ]
     },
     "execution_count": 634,
     "metadata": {},
     "output_type": "execute_result"
    }
   ],
   "source": [
    "cols = list('cumulative'+str(i) for i in range(1,6))\n",
    "cumulative_scores_data = scores_data.copy()\n",
    "cumulative_scores_data[cols] = scores_data.iloc[:,1:6].cumsum(axis=1)\n",
    "cumulative_scores_data[['athlete_id', 'cumulative1', 'cumulative2', 'cumulative3', 'cumulative4','cumulative5']]"
   ]
  },
  {
   "cell_type": "code",
   "execution_count": 635,
   "metadata": {},
   "outputs": [
    {
     "data": {
      "text/html": [
       "<div>\n",
       "<style scoped>\n",
       "    .dataframe tbody tr th:only-of-type {\n",
       "        vertical-align: middle;\n",
       "    }\n",
       "\n",
       "    .dataframe tbody tr th {\n",
       "        vertical-align: top;\n",
       "    }\n",
       "\n",
       "    .dataframe thead th {\n",
       "        text-align: right;\n",
       "    }\n",
       "</style>\n",
       "<table border=\"1\" class=\"dataframe\">\n",
       "  <thead>\n",
       "    <tr style=\"text-align: right;\">\n",
       "      <th></th>\n",
       "      <th>athlete_id</th>\n",
       "      <th>cumulative1</th>\n",
       "      <th>cumulative2</th>\n",
       "      <th>cumulative3</th>\n",
       "      <th>cumulative4</th>\n",
       "      <th>cumulative5</th>\n",
       "    </tr>\n",
       "  </thead>\n",
       "  <tbody>\n",
       "    <tr>\n",
       "      <th>0</th>\n",
       "      <td>1</td>\n",
       "      <td>8</td>\n",
       "      <td>15</td>\n",
       "      <td>24</td>\n",
       "      <td>30</td>\n",
       "      <td>37</td>\n",
       "    </tr>\n",
       "    <tr>\n",
       "      <th>1</th>\n",
       "      <td>2</td>\n",
       "      <td>7</td>\n",
       "      <td>13</td>\n",
       "      <td>21</td>\n",
       "      <td>30</td>\n",
       "      <td>38</td>\n",
       "    </tr>\n",
       "    <tr>\n",
       "      <th>2</th>\n",
       "      <td>3</td>\n",
       "      <td>6</td>\n",
       "      <td>14</td>\n",
       "      <td>21</td>\n",
       "      <td>28</td>\n",
       "      <td>34</td>\n",
       "    </tr>\n",
       "    <tr>\n",
       "      <th>3</th>\n",
       "      <td>4</td>\n",
       "      <td>9</td>\n",
       "      <td>18</td>\n",
       "      <td>24</td>\n",
       "      <td>32</td>\n",
       "      <td>41</td>\n",
       "    </tr>\n",
       "    <tr>\n",
       "      <th>4</th>\n",
       "      <td>5</td>\n",
       "      <td>8</td>\n",
       "      <td>14</td>\n",
       "      <td>23</td>\n",
       "      <td>30</td>\n",
       "      <td>38</td>\n",
       "    </tr>\n",
       "    <tr>\n",
       "      <th>5</th>\n",
       "      <td>6</td>\n",
       "      <td>7</td>\n",
       "      <td>14</td>\n",
       "      <td>22</td>\n",
       "      <td>28</td>\n",
       "      <td>35</td>\n",
       "    </tr>\n",
       "    <tr>\n",
       "      <th>6</th>\n",
       "      <td>7</td>\n",
       "      <td>6</td>\n",
       "      <td>15</td>\n",
       "      <td>22</td>\n",
       "      <td>31</td>\n",
       "      <td>37</td>\n",
       "    </tr>\n",
       "    <tr>\n",
       "      <th>7</th>\n",
       "      <td>8</td>\n",
       "      <td>9</td>\n",
       "      <td>17</td>\n",
       "      <td>23</td>\n",
       "      <td>31</td>\n",
       "      <td>40</td>\n",
       "    </tr>\n",
       "    <tr>\n",
       "      <th>8</th>\n",
       "      <td>9</td>\n",
       "      <td>8</td>\n",
       "      <td>14</td>\n",
       "      <td>23</td>\n",
       "      <td>30</td>\n",
       "      <td>38</td>\n",
       "    </tr>\n",
       "    <tr>\n",
       "      <th>9</th>\n",
       "      <td>10</td>\n",
       "      <td>7</td>\n",
       "      <td>14</td>\n",
       "      <td>22</td>\n",
       "      <td>28</td>\n",
       "      <td>35</td>\n",
       "    </tr>\n",
       "  </tbody>\n",
       "</table>\n",
       "</div>"
      ],
      "text/plain": [
       "   athlete_id  cumulative1  cumulative2  cumulative3  cumulative4  cumulative5\n",
       "0           1            8           15           24           30           37\n",
       "1           2            7           13           21           30           38\n",
       "2           3            6           14           21           28           34\n",
       "3           4            9           18           24           32           41\n",
       "4           5            8           14           23           30           38\n",
       "5           6            7           14           22           28           35\n",
       "6           7            6           15           22           31           37\n",
       "7           8            9           17           23           31           40\n",
       "8           9            8           14           23           30           38\n",
       "9          10            7           14           22           28           35"
      ]
     },
     "execution_count": 635,
     "metadata": {},
     "output_type": "execute_result"
    }
   ],
   "source": [
    "cumulative_scores_data = scores_data.copy()\n",
    "cumulative_scores_data.iloc[:,1:6] = cumulative_scores_data.iloc[:,1:6].cumsum(axis=1)\n",
    "cumulative_scores_data.columns = cumulative_scores_data.columns.str.replace('exercise', 'cumulative')\n",
    "cumulative_scores_data"
   ]
  },
  {
   "cell_type": "code",
   "execution_count": 636,
   "metadata": {},
   "outputs": [
    {
     "data": {
      "text/html": [
       "<div>\n",
       "<style scoped>\n",
       "    .dataframe tbody tr th:only-of-type {\n",
       "        vertical-align: middle;\n",
       "    }\n",
       "\n",
       "    .dataframe tbody tr th {\n",
       "        vertical-align: top;\n",
       "    }\n",
       "\n",
       "    .dataframe thead th {\n",
       "        text-align: right;\n",
       "    }\n",
       "</style>\n",
       "<table border=\"1\" class=\"dataframe\">\n",
       "  <thead>\n",
       "    <tr style=\"text-align: right;\">\n",
       "      <th></th>\n",
       "      <th>date</th>\n",
       "      <th>new_subscribers</th>\n",
       "    </tr>\n",
       "  </thead>\n",
       "  <tbody>\n",
       "    <tr>\n",
       "      <th>0</th>\n",
       "      <td>2023-05-01</td>\n",
       "      <td>10</td>\n",
       "    </tr>\n",
       "    <tr>\n",
       "      <th>1</th>\n",
       "      <td>2023-05-02</td>\n",
       "      <td>5</td>\n",
       "    </tr>\n",
       "    <tr>\n",
       "      <th>2</th>\n",
       "      <td>2023-05-03</td>\n",
       "      <td>15</td>\n",
       "    </tr>\n",
       "    <tr>\n",
       "      <th>3</th>\n",
       "      <td>2023-05-04</td>\n",
       "      <td>8</td>\n",
       "    </tr>\n",
       "    <tr>\n",
       "      <th>4</th>\n",
       "      <td>2023-05-05</td>\n",
       "      <td>12</td>\n",
       "    </tr>\n",
       "    <tr>\n",
       "      <th>5</th>\n",
       "      <td>2023-05-06</td>\n",
       "      <td>7</td>\n",
       "    </tr>\n",
       "    <tr>\n",
       "      <th>6</th>\n",
       "      <td>2023-05-07</td>\n",
       "      <td>9</td>\n",
       "    </tr>\n",
       "  </tbody>\n",
       "</table>\n",
       "</div>"
      ],
      "text/plain": [
       "        date  new_subscribers\n",
       "0 2023-05-01               10\n",
       "1 2023-05-02                5\n",
       "2 2023-05-03               15\n",
       "3 2023-05-04                8\n",
       "4 2023-05-05               12\n",
       "5 2023-05-06                7\n",
       "6 2023-05-07                9"
      ]
     },
     "execution_count": 636,
     "metadata": {},
     "output_type": "execute_result"
    }
   ],
   "source": [
    "# Создаем DataFrame с данными о количестве новых подписчиков\n",
    "dates = pd.date_range(start='2023-05-01', periods=7, freq='D')\n",
    "new_subscribers = [10, 5, 15, 8, 12, 7, 9]\n",
    "subscribers_data = pd.DataFrame({'date': dates, 'new_subscribers': new_subscribers})\n",
    "subscribers_data"
   ]
  },
  {
   "cell_type": "code",
   "execution_count": 637,
   "metadata": {},
   "outputs": [
    {
     "data": {
      "text/html": [
       "<div>\n",
       "<style scoped>\n",
       "    .dataframe tbody tr th:only-of-type {\n",
       "        vertical-align: middle;\n",
       "    }\n",
       "\n",
       "    .dataframe tbody tr th {\n",
       "        vertical-align: top;\n",
       "    }\n",
       "\n",
       "    .dataframe thead th {\n",
       "        text-align: right;\n",
       "    }\n",
       "</style>\n",
       "<table border=\"1\" class=\"dataframe\">\n",
       "  <thead>\n",
       "    <tr style=\"text-align: right;\">\n",
       "      <th></th>\n",
       "      <th>date</th>\n",
       "      <th>new_subscribers</th>\n",
       "      <th>cumulative_min</th>\n",
       "      <th>cumulative_max</th>\n",
       "    </tr>\n",
       "  </thead>\n",
       "  <tbody>\n",
       "    <tr>\n",
       "      <th>0</th>\n",
       "      <td>2023-05-01</td>\n",
       "      <td>10</td>\n",
       "      <td>10</td>\n",
       "      <td>10</td>\n",
       "    </tr>\n",
       "    <tr>\n",
       "      <th>1</th>\n",
       "      <td>2023-05-02</td>\n",
       "      <td>5</td>\n",
       "      <td>5</td>\n",
       "      <td>10</td>\n",
       "    </tr>\n",
       "    <tr>\n",
       "      <th>2</th>\n",
       "      <td>2023-05-03</td>\n",
       "      <td>15</td>\n",
       "      <td>5</td>\n",
       "      <td>15</td>\n",
       "    </tr>\n",
       "    <tr>\n",
       "      <th>3</th>\n",
       "      <td>2023-05-04</td>\n",
       "      <td>8</td>\n",
       "      <td>5</td>\n",
       "      <td>15</td>\n",
       "    </tr>\n",
       "    <tr>\n",
       "      <th>4</th>\n",
       "      <td>2023-05-05</td>\n",
       "      <td>12</td>\n",
       "      <td>5</td>\n",
       "      <td>15</td>\n",
       "    </tr>\n",
       "    <tr>\n",
       "      <th>5</th>\n",
       "      <td>2023-05-06</td>\n",
       "      <td>7</td>\n",
       "      <td>5</td>\n",
       "      <td>15</td>\n",
       "    </tr>\n",
       "    <tr>\n",
       "      <th>6</th>\n",
       "      <td>2023-05-07</td>\n",
       "      <td>9</td>\n",
       "      <td>5</td>\n",
       "      <td>15</td>\n",
       "    </tr>\n",
       "  </tbody>\n",
       "</table>\n",
       "</div>"
      ],
      "text/plain": [
       "        date  new_subscribers  cumulative_min  cumulative_max\n",
       "0 2023-05-01               10              10              10\n",
       "1 2023-05-02                5               5              10\n",
       "2 2023-05-03               15               5              15\n",
       "3 2023-05-04                8               5              15\n",
       "4 2023-05-05               12               5              15\n",
       "5 2023-05-06                7               5              15\n",
       "6 2023-05-07                9               5              15"
      ]
     },
     "execution_count": 637,
     "metadata": {},
     "output_type": "execute_result"
    }
   ],
   "source": [
    "subscribers_data['cumulative_min'] = subscribers_data['new_subscribers'].cummin()\n",
    "subscribers_data['cumulative_max'] = subscribers_data['new_subscribers'].cummax()\n",
    "subscribers_data"
   ]
  },
  {
   "cell_type": "code",
   "execution_count": 638,
   "metadata": {},
   "outputs": [
    {
     "data": {
      "text/html": [
       "<div>\n",
       "<style scoped>\n",
       "    .dataframe tbody tr th:only-of-type {\n",
       "        vertical-align: middle;\n",
       "    }\n",
       "\n",
       "    .dataframe tbody tr th {\n",
       "        vertical-align: top;\n",
       "    }\n",
       "\n",
       "    .dataframe thead th {\n",
       "        text-align: right;\n",
       "    }\n",
       "</style>\n",
       "<table border=\"1\" class=\"dataframe\">\n",
       "  <thead>\n",
       "    <tr style=\"text-align: right;\">\n",
       "      <th></th>\n",
       "      <th>region</th>\n",
       "      <th>revenue</th>\n",
       "      <th>quantity</th>\n",
       "    </tr>\n",
       "  </thead>\n",
       "  <tbody>\n",
       "    <tr>\n",
       "      <th>0</th>\n",
       "      <td>Регион A</td>\n",
       "      <td>5000</td>\n",
       "      <td>100</td>\n",
       "    </tr>\n",
       "    <tr>\n",
       "      <th>1</th>\n",
       "      <td>Регион B</td>\n",
       "      <td>8000</td>\n",
       "      <td>150</td>\n",
       "    </tr>\n",
       "    <tr>\n",
       "      <th>2</th>\n",
       "      <td>Регион A</td>\n",
       "      <td>6000</td>\n",
       "      <td>120</td>\n",
       "    </tr>\n",
       "    <tr>\n",
       "      <th>3</th>\n",
       "      <td>Регион B</td>\n",
       "      <td>7000</td>\n",
       "      <td>130</td>\n",
       "    </tr>\n",
       "    <tr>\n",
       "      <th>4</th>\n",
       "      <td>Регион C</td>\n",
       "      <td>9000</td>\n",
       "      <td>110</td>\n",
       "    </tr>\n",
       "  </tbody>\n",
       "</table>\n",
       "</div>"
      ],
      "text/plain": [
       "     region  revenue  quantity\n",
       "0  Регион A     5000       100\n",
       "1  Регион B     8000       150\n",
       "2  Регион A     6000       120\n",
       "3  Регион B     7000       130\n",
       "4  Регион C     9000       110"
      ]
     },
     "execution_count": 638,
     "metadata": {},
     "output_type": "execute_result"
    }
   ],
   "source": [
    "# Создаем DataFrame с данными о продажах в разных регионах\n",
    "region_data = {'region': ['Регион A', 'Регион B', 'Регион A', 'Регион B', 'Регион C'],\n",
    "               'revenue': [5000, 8000, 6000, 7000, 9000],\n",
    "               'quantity': [100, 150, 120, 130, 110]}\n",
    "sales_data = pd.DataFrame(region_data)\n",
    "sales_data"
   ]
  },
  {
   "cell_type": "code",
   "execution_count": 639,
   "metadata": {},
   "outputs": [
    {
     "data": {
      "text/html": [
       "<div>\n",
       "<style scoped>\n",
       "    .dataframe tbody tr th:only-of-type {\n",
       "        vertical-align: middle;\n",
       "    }\n",
       "\n",
       "    .dataframe tbody tr th {\n",
       "        vertical-align: top;\n",
       "    }\n",
       "\n",
       "    .dataframe thead th {\n",
       "        text-align: right;\n",
       "    }\n",
       "</style>\n",
       "<table border=\"1\" class=\"dataframe\">\n",
       "  <thead>\n",
       "    <tr style=\"text-align: right;\">\n",
       "      <th></th>\n",
       "      <th>region</th>\n",
       "      <th>revenue</th>\n",
       "      <th>quantity</th>\n",
       "      <th>tot_sales</th>\n",
       "    </tr>\n",
       "  </thead>\n",
       "  <tbody>\n",
       "    <tr>\n",
       "      <th>0</th>\n",
       "      <td>Регион A</td>\n",
       "      <td>5000</td>\n",
       "      <td>100</td>\n",
       "      <td>500000</td>\n",
       "    </tr>\n",
       "    <tr>\n",
       "      <th>1</th>\n",
       "      <td>Регион B</td>\n",
       "      <td>8000</td>\n",
       "      <td>150</td>\n",
       "      <td>1200000</td>\n",
       "    </tr>\n",
       "    <tr>\n",
       "      <th>2</th>\n",
       "      <td>Регион A</td>\n",
       "      <td>6000</td>\n",
       "      <td>120</td>\n",
       "      <td>720000</td>\n",
       "    </tr>\n",
       "    <tr>\n",
       "      <th>3</th>\n",
       "      <td>Регион B</td>\n",
       "      <td>7000</td>\n",
       "      <td>130</td>\n",
       "      <td>910000</td>\n",
       "    </tr>\n",
       "    <tr>\n",
       "      <th>4</th>\n",
       "      <td>Регион C</td>\n",
       "      <td>9000</td>\n",
       "      <td>110</td>\n",
       "      <td>990000</td>\n",
       "    </tr>\n",
       "  </tbody>\n",
       "</table>\n",
       "</div>"
      ],
      "text/plain": [
       "     region  revenue  quantity  tot_sales\n",
       "0  Регион A     5000       100     500000\n",
       "1  Регион B     8000       150    1200000\n",
       "2  Регион A     6000       120     720000\n",
       "3  Регион B     7000       130     910000\n",
       "4  Регион C     9000       110     990000"
      ]
     },
     "execution_count": 639,
     "metadata": {},
     "output_type": "execute_result"
    }
   ],
   "source": [
    "sales_data['tot_sales'] = sales_data['revenue'] * sales_data['quantity']\n",
    "sales_data"
   ]
  },
  {
   "cell_type": "code",
   "execution_count": 640,
   "metadata": {},
   "outputs": [
    {
     "name": "stdout",
     "output_type": "stream",
     "text": [
      "Минимальная сумма продаж 500000 была зафиксирована в регионе Регион A\n",
      "Максимальная сумма продаж 1200000 была зафиксирована в регионе Регион B\n"
     ]
    }
   ],
   "source": [
    "tot_sales_min = sales_data.tot_sales.min()\n",
    "tot_sales_max = sales_data.tot_sales.max()\n",
    "tot_sales_region_min = sales_data[sales_data['tot_sales'] == tot_sales_min]['region'].values[0]\n",
    "tot_sales_region_max = sales_data[sales_data['tot_sales'] == tot_sales_max]['region'].values[0]\n",
    "print(f'Минимальная сумма продаж {tot_sales_min} была зафиксирована в регионе {tot_sales_region_min}')\n",
    "print(f'Максимальная сумма продаж {tot_sales_max} была зафиксирована в регионе {tot_sales_region_max}')"
   ]
  },
  {
   "cell_type": "code",
   "execution_count": 641,
   "metadata": {},
   "outputs": [
    {
     "name": "stdout",
     "output_type": "stream",
     "text": [
      "     region  revenue  quantity  tot_sales\n",
      "0  Регион A     5000       100     500000\n",
      "1  Регион B     8000       150    1200000\n",
      "2  Регион A     6000       120     720000\n",
      "3  Регион B     7000       130     910000\n",
      "4  Регион C     9000       110     990000\n",
      "Минимальная сумма продаж 500000 была зафиксирована в регионе Регион A\n",
      "Максимальная сумма продаж 1200000 была зафиксирована в регионе Регион B\n"
     ]
    }
   ],
   "source": [
    "sales_data = pd.DataFrame(region_data)\n",
    "\n",
    "sales_data['tot_sales'] = sales_data.quantity * sales_data.revenue\n",
    "print(sales_data)\n",
    "\n",
    "print('Минимальная сумма продаж {0} была зафиксирована в регионе {1}'.format(\n",
    "    sales_data.loc[sales_data.tot_sales.idxmin(),'tot_sales'],\n",
    "    sales_data.loc[sales_data.tot_sales.idxmin(),'region']))\n",
    "\n",
    "print('Максимальная сумма продаж {0} была зафиксирована в регионе {1}'.format(\n",
    "    sales_data.loc[sales_data.tot_sales.idxmax(),'tot_sales'],\n",
    "    sales_data.loc[sales_data.tot_sales.idxmax(),'region']))"
   ]
  },
  {
   "cell_type": "code",
   "execution_count": 642,
   "metadata": {},
   "outputs": [
    {
     "data": {
      "text/html": [
       "<div>\n",
       "<style scoped>\n",
       "    .dataframe tbody tr th:only-of-type {\n",
       "        vertical-align: middle;\n",
       "    }\n",
       "\n",
       "    .dataframe tbody tr th {\n",
       "        vertical-align: top;\n",
       "    }\n",
       "\n",
       "    .dataframe thead th {\n",
       "        text-align: right;\n",
       "    }\n",
       "</style>\n",
       "<table border=\"1\" class=\"dataframe\">\n",
       "  <thead>\n",
       "    <tr style=\"text-align: right;\">\n",
       "      <th></th>\n",
       "      <th>project</th>\n",
       "      <th>budget</th>\n",
       "    </tr>\n",
       "  </thead>\n",
       "  <tbody>\n",
       "    <tr>\n",
       "      <th>0</th>\n",
       "      <td>Проект A</td>\n",
       "      <td>50000</td>\n",
       "    </tr>\n",
       "    <tr>\n",
       "      <th>1</th>\n",
       "      <td>Проект B</td>\n",
       "      <td>80000</td>\n",
       "    </tr>\n",
       "    <tr>\n",
       "      <th>2</th>\n",
       "      <td>Проект C</td>\n",
       "      <td>60000</td>\n",
       "    </tr>\n",
       "    <tr>\n",
       "      <th>3</th>\n",
       "      <td>Проект D</td>\n",
       "      <td>70000</td>\n",
       "    </tr>\n",
       "  </tbody>\n",
       "</table>\n",
       "</div>"
      ],
      "text/plain": [
       "    project  budget\n",
       "0  Проект A   50000\n",
       "1  Проект B   80000\n",
       "2  Проект C   60000\n",
       "3  Проект D   70000"
      ]
     },
     "execution_count": 642,
     "metadata": {},
     "output_type": "execute_result"
    }
   ],
   "source": [
    "# Создаем DataFrame с данными о затратах на проекты\n",
    "project_data = {'project': ['Проект A', 'Проект B', 'Проект C', 'Проект D'],\n",
    "                'budget': [50000, 80000, 60000, 70000]}\n",
    "budget_data = pd.DataFrame(project_data)\n",
    "budget_data"
   ]
  },
  {
   "cell_type": "code",
   "execution_count": 643,
   "metadata": {},
   "outputs": [
    {
     "name": "stdout",
     "output_type": "stream",
     "text": [
      "Проект B\n",
      "30.77\n"
     ]
    }
   ],
   "source": [
    "proj = budget_data.loc[budget_data['budget'].idxmax(), 'project']\n",
    "percent = ((budget_data['budget'].max() / budget_data['budget'].sum(axis=0)) * 100).round(2)\n",
    "\n",
    "print(proj, percent, sep='\\n')"
   ]
  },
  {
   "cell_type": "code",
   "execution_count": 644,
   "metadata": {},
   "outputs": [
    {
     "name": "stdout",
     "output_type": "stream",
     "text": [
      "Проект B\n",
      "30.77\n"
     ]
    }
   ],
   "source": [
    "print(budget_data['project'].loc[budget_data['budget'].idxmax()])\n",
    "print(round(budget_data['budget'].max() / budget_data['budget'].sum() * 100, 2))"
   ]
  },
  {
   "cell_type": "markdown",
   "metadata": {},
   "source": [
    "# 4.7 Редукционные статистические функции в Pandas"
   ]
  },
  {
   "cell_type": "code",
   "execution_count": 645,
   "metadata": {},
   "outputs": [
    {
     "name": "stdout",
     "output_type": "stream",
     "text": [
      "Среднее значение столбца A: 3.0\n"
     ]
    }
   ],
   "source": [
    "# Создаем DataFrame с данными\n",
    "data = {'A': [1, 2, 3, 4, 5],\n",
    "        'B': [6, 7, 8, 9, 10]}\n",
    "df = pd.DataFrame(data)\n",
    "\n",
    "# Вычисляем среднее значение для столбца A\n",
    "mean_A = df['A'].mean()\n",
    "print(\"Среднее значение столбца A:\", mean_A)"
   ]
  },
  {
   "cell_type": "code",
   "execution_count": 646,
   "metadata": {},
   "outputs": [
    {
     "name": "stdout",
     "output_type": "stream",
     "text": [
      "Медиана столбца B: 8.0\n"
     ]
    }
   ],
   "source": [
    "# Вычисляем медиану для столбца B\n",
    "median_B = df['B'].median()\n",
    "print(\"Медиана столбца B:\", median_B)"
   ]
  },
  {
   "cell_type": "code",
   "execution_count": 647,
   "metadata": {},
   "outputs": [
    {
     "name": "stdout",
     "output_type": "stream",
     "text": [
      "Стандартное отклонение столбца A: 1.5811388300841898\n"
     ]
    }
   ],
   "source": [
    "# Вычисляем стандартное отклонение для столбца A\n",
    "std_A = df['A'].std()\n",
    "print(\"Стандартное отклонение столбца A:\", std_A)"
   ]
  },
  {
   "cell_type": "code",
   "execution_count": 648,
   "metadata": {},
   "outputs": [
    {
     "name": "stdout",
     "output_type": "stream",
     "text": [
      "Дисперсия столбца B: 2.5\n"
     ]
    }
   ],
   "source": [
    "# Вычисляем дисперсию для столбца B\n",
    "var_B = df['B'].var()\n",
    "print(\"Дисперсия столбца B:\", var_B)"
   ]
  },
  {
   "cell_type": "code",
   "execution_count": 649,
   "metadata": {},
   "outputs": [
    {
     "name": "stdout",
     "output_type": "stream",
     "text": [
      "25-й квантиль: 3.25\n",
      "75-й квантиль: 7.75\n"
     ]
    }
   ],
   "source": [
    "# Создаем Series с данными\n",
    "data = pd.Series([1, 2, 3, 4, 5, 6, 7, 8, 9, 10])\n",
    "\n",
    "# Вычисляем 25-й и 75-й квантили\n",
    "quantile_25 = data.quantile(0.25)\n",
    "quantile_75 = data.quantile(0.75)\n",
    "\n",
    "print(\"25-й квантиль:\", quantile_25)\n",
    "print(\"75-й квантиль:\", quantile_75)\n",
    "# Значение 3.25 означает, что 25% значений находятся ниже или равны этому значению, \n",
    "# а значение 8.75 означает, что 75% значений находятся ниже или равны этому значению."
   ]
  },
  {
   "cell_type": "code",
   "execution_count": 650,
   "metadata": {},
   "outputs": [
    {
     "data": {
      "text/html": [
       "<div>\n",
       "<style scoped>\n",
       "    .dataframe tbody tr th:only-of-type {\n",
       "        vertical-align: middle;\n",
       "    }\n",
       "\n",
       "    .dataframe tbody tr th {\n",
       "        vertical-align: top;\n",
       "    }\n",
       "\n",
       "    .dataframe thead th {\n",
       "        text-align: right;\n",
       "    }\n",
       "</style>\n",
       "<table border=\"1\" class=\"dataframe\">\n",
       "  <thead>\n",
       "    <tr style=\"text-align: right;\">\n",
       "      <th></th>\n",
       "      <th>A</th>\n",
       "      <th>B</th>\n",
       "    </tr>\n",
       "  </thead>\n",
       "  <tbody>\n",
       "    <tr>\n",
       "      <th>count</th>\n",
       "      <td>5.000000</td>\n",
       "      <td>5.000000</td>\n",
       "    </tr>\n",
       "    <tr>\n",
       "      <th>mean</th>\n",
       "      <td>3.000000</td>\n",
       "      <td>8.000000</td>\n",
       "    </tr>\n",
       "    <tr>\n",
       "      <th>std</th>\n",
       "      <td>1.581139</td>\n",
       "      <td>1.581139</td>\n",
       "    </tr>\n",
       "    <tr>\n",
       "      <th>min</th>\n",
       "      <td>1.000000</td>\n",
       "      <td>6.000000</td>\n",
       "    </tr>\n",
       "    <tr>\n",
       "      <th>25%</th>\n",
       "      <td>2.000000</td>\n",
       "      <td>7.000000</td>\n",
       "    </tr>\n",
       "    <tr>\n",
       "      <th>50%</th>\n",
       "      <td>3.000000</td>\n",
       "      <td>8.000000</td>\n",
       "    </tr>\n",
       "    <tr>\n",
       "      <th>75%</th>\n",
       "      <td>4.000000</td>\n",
       "      <td>9.000000</td>\n",
       "    </tr>\n",
       "    <tr>\n",
       "      <th>max</th>\n",
       "      <td>5.000000</td>\n",
       "      <td>10.000000</td>\n",
       "    </tr>\n",
       "  </tbody>\n",
       "</table>\n",
       "</div>"
      ],
      "text/plain": [
       "              A          B\n",
       "count  5.000000   5.000000\n",
       "mean   3.000000   8.000000\n",
       "std    1.581139   1.581139\n",
       "min    1.000000   6.000000\n",
       "25%    2.000000   7.000000\n",
       "50%    3.000000   8.000000\n",
       "75%    4.000000   9.000000\n",
       "max    5.000000  10.000000"
      ]
     },
     "execution_count": 650,
     "metadata": {},
     "output_type": "execute_result"
    }
   ],
   "source": [
    "# Создаем DataFrame с данными\n",
    "data = {'A': [1, 2, 3, 4, 5],\n",
    "        'B': [6, 7, 8, 9, 10]}\n",
    "df = pd.DataFrame(data)\n",
    "\n",
    "# Выводим сводную статистическую информацию\n",
    "statistics = df.describe()\n",
    "statistics"
   ]
  },
  {
   "cell_type": "code",
   "execution_count": 651,
   "metadata": {},
   "outputs": [
    {
     "name": "stdout",
     "output_type": "stream",
     "text": [
      "271349.32\n",
      "17268474934.96\n",
      "131409.57\n",
      "157966.5 268550.5 384973.75\n"
     ]
    }
   ],
   "source": [
    "np.random.seed(7)\n",
    "# создаем DataFrame с 1000 строк и 2 столбцами (price и size)\n",
    "df = pd.DataFrame({'price': np.random.randint(50000, 500000, 1000),\n",
    "                   'size': np.random.randint(50, 200, 1000)})\n",
    "\n",
    "print(df['price'].mean().round(2))\n",
    "print(round(df['price'].var(),2))\n",
    "print(round(df['price'].std(), 2))\n",
    "print(round(df['price'].quantile(0.25), 2), round(df['price'].quantile(), 2), round(df['price'].quantile(0.75), 2))"
   ]
  },
  {
   "cell_type": "code",
   "execution_count": 652,
   "metadata": {},
   "outputs": [
    {
     "name": "stdout",
     "output_type": "stream",
     "text": [
      "271349.32\n",
      "17268475087.58\n",
      "131409.57\n",
      "157966.5 268550.5 384973.75\n"
     ]
    }
   ],
   "source": [
    "describe = round(df['price'].describe(), 2)\n",
    "print(describe['mean'], round(describe['std']**2, 2), describe['std'], f\"{describe['25%']} {describe['50%']} {describe['75%']}\", sep='\\n')"
   ]
  },
  {
   "cell_type": "code",
   "execution_count": 653,
   "metadata": {},
   "outputs": [
    {
     "data": {
      "text/html": [
       "<div>\n",
       "<style scoped>\n",
       "    .dataframe tbody tr th:only-of-type {\n",
       "        vertical-align: middle;\n",
       "    }\n",
       "\n",
       "    .dataframe tbody tr th {\n",
       "        vertical-align: top;\n",
       "    }\n",
       "\n",
       "    .dataframe thead th {\n",
       "        text-align: right;\n",
       "    }\n",
       "</style>\n",
       "<table border=\"1\" class=\"dataframe\">\n",
       "  <thead>\n",
       "    <tr style=\"text-align: right;\">\n",
       "      <th></th>\n",
       "      <th>Date</th>\n",
       "      <th>Product</th>\n",
       "      <th>QuantitySold</th>\n",
       "      <th>Revenue</th>\n",
       "    </tr>\n",
       "  </thead>\n",
       "  <tbody>\n",
       "    <tr>\n",
       "      <th>0</th>\n",
       "      <td>2021-02-19 06:54:00</td>\n",
       "      <td>Cucumbers</td>\n",
       "      <td>16</td>\n",
       "      <td>75.69</td>\n",
       "    </tr>\n",
       "    <tr>\n",
       "      <th>1</th>\n",
       "      <td>2021-04-26 11:30:58</td>\n",
       "      <td>Apples</td>\n",
       "      <td>3</td>\n",
       "      <td>64.77</td>\n",
       "    </tr>\n",
       "    <tr>\n",
       "      <th>2</th>\n",
       "      <td>2021-01-04 08:18:43</td>\n",
       "      <td>Apples</td>\n",
       "      <td>9</td>\n",
       "      <td>83.78</td>\n",
       "    </tr>\n",
       "    <tr>\n",
       "      <th>3</th>\n",
       "      <td>2021-05-22 18:51:55</td>\n",
       "      <td>Eggs</td>\n",
       "      <td>19</td>\n",
       "      <td>74.56</td>\n",
       "    </tr>\n",
       "    <tr>\n",
       "      <th>4</th>\n",
       "      <td>2021-10-06 16:54:12</td>\n",
       "      <td>Bread</td>\n",
       "      <td>13</td>\n",
       "      <td>48.15</td>\n",
       "    </tr>\n",
       "  </tbody>\n",
       "</table>\n",
       "</div>"
      ],
      "text/plain": [
       "                 Date    Product  QuantitySold  Revenue\n",
       "0 2021-02-19 06:54:00  Cucumbers            16    75.69\n",
       "1 2021-04-26 11:30:58     Apples             3    64.77\n",
       "2 2021-01-04 08:18:43     Apples             9    83.78\n",
       "3 2021-05-22 18:51:55       Eggs            19    74.56\n",
       "4 2021-10-06 16:54:12      Bread            13    48.15"
      ]
     },
     "execution_count": 653,
     "metadata": {},
     "output_type": "execute_result"
    }
   ],
   "source": [
    "random.seed(44)\n",
    "# Функция для генерации случайных дат\n",
    "def random_dates(start, end, n=1):\n",
    "    start_u = start.value // 10 ** 9\n",
    "    end_u = end.value // 10 ** 9\n",
    "\n",
    "    return pd.to_datetime(np.random.randint(start_u, end_u, n), unit=\"s\")\n",
    "# Создаем список товаров для симуляции\n",
    "products = [\"Milk\", \"Eggs\", \"Bread\", \"Butter\", \"Cheese\", \"Tomatoes\", \"Cucumbers\", \"Carrots\", \"Apples\", \"Bananas\"]\n",
    "# Задаем количество записей (симуляция продаж за год)\n",
    "n_records = 1000\n",
    "# Генерируем данные с помощью списковых включений\n",
    "data = {\n",
    "    \"Date\": random_dates(pd.Timestamp(\"2021-01-01\"), pd.Timestamp(\"2021-12-31\"), n_records),\n",
    "    \"Product\": [random.choice(products) for _ in range(n_records)],\n",
    "    \"QuantitySold\": [random.randint(1, 20) for _ in range(n_records)],\n",
    "    \"Revenue\": np.round(np.array([random.uniform(1, 100) for _ in range(n_records)]), 2),\n",
    "}\n",
    "# Создаем DataFrame\n",
    "sales_df = pd.DataFrame(data)\n",
    "sales_df.head()"
   ]
  },
  {
   "cell_type": "code",
   "execution_count": 654,
   "metadata": {},
   "outputs": [
    {
     "name": "stdout",
     "output_type": "stream",
     "text": [
      "1090\n",
      "5655.76\n",
      "57.13\n",
      "60.67\n",
      "30.16\n"
     ]
    }
   ],
   "source": [
    "# prod = input()\n",
    "prod = 'Apples'\n",
    "prod_quantity = sales_df.loc[sales_df['Product'] == prod, 'QuantitySold'].sum()\n",
    "prod_revenue = sales_df.loc[sales_df['Product'] == prod, 'Revenue'].sum()\n",
    "prod_mean = round(sales_df.loc[sales_df['Product'] == prod, 'Revenue'].mean(), 2)\n",
    "prod_median = round(sales_df.loc[sales_df['Product'] == prod, 'Revenue'].median(), 2)\n",
    "prod_std = round(sales_df.loc[sales_df['Product'] == prod, 'Revenue'].std(), 2)\n",
    "print(prod_quantity, prod_revenue, prod_mean, prod_median, prod_std, sep='\\n')"
   ]
  },
  {
   "cell_type": "code",
   "execution_count": 655,
   "metadata": {},
   "outputs": [
    {
     "name": "stdout",
     "output_type": "stream",
     "text": [
      "1090\n",
      "5655.76\n",
      "57.13\n",
      "60.67\n",
      "30.16\n"
     ]
    }
   ],
   "source": [
    "sales_df_desc = sales_df[sales_df['Product'] == prod]\n",
    "print(sales_df_desc['QuantitySold'].sum() , *sales_df_desc['Revenue'].agg(['sum', 'mean', 'median', 'std']).round(2), sep='\\n')"
   ]
  },
  {
   "cell_type": "code",
   "execution_count": 656,
   "metadata": {},
   "outputs": [
    {
     "data": {
      "text/html": [
       "<div>\n",
       "<style scoped>\n",
       "    .dataframe tbody tr th:only-of-type {\n",
       "        vertical-align: middle;\n",
       "    }\n",
       "\n",
       "    .dataframe tbody tr th {\n",
       "        vertical-align: top;\n",
       "    }\n",
       "\n",
       "    .dataframe thead th {\n",
       "        text-align: right;\n",
       "    }\n",
       "</style>\n",
       "<table border=\"1\" class=\"dataframe\">\n",
       "  <thead>\n",
       "    <tr style=\"text-align: right;\">\n",
       "      <th></th>\n",
       "      <th>Date</th>\n",
       "      <th>TimeTaken</th>\n",
       "      <th>Employee</th>\n",
       "      <th>ClientID</th>\n",
       "    </tr>\n",
       "  </thead>\n",
       "  <tbody>\n",
       "    <tr>\n",
       "      <th>0</th>\n",
       "      <td>2022-03-03 23:09:56</td>\n",
       "      <td>21</td>\n",
       "      <td>Jessica</td>\n",
       "      <td>19</td>\n",
       "    </tr>\n",
       "    <tr>\n",
       "      <th>1</th>\n",
       "      <td>2021-11-18 17:40:06</td>\n",
       "      <td>10</td>\n",
       "      <td>John</td>\n",
       "      <td>33</td>\n",
       "    </tr>\n",
       "    <tr>\n",
       "      <th>2</th>\n",
       "      <td>2021-02-15 04:44:51</td>\n",
       "      <td>26</td>\n",
       "      <td>Jane</td>\n",
       "      <td>78</td>\n",
       "    </tr>\n",
       "    <tr>\n",
       "      <th>3</th>\n",
       "      <td>2022-04-16 21:36:19</td>\n",
       "      <td>42</td>\n",
       "      <td>John</td>\n",
       "      <td>95</td>\n",
       "    </tr>\n",
       "    <tr>\n",
       "      <th>4</th>\n",
       "      <td>2021-08-23 09:25:43</td>\n",
       "      <td>4</td>\n",
       "      <td>Jessica</td>\n",
       "      <td>52</td>\n",
       "    </tr>\n",
       "  </tbody>\n",
       "</table>\n",
       "</div>"
      ],
      "text/plain": [
       "                 Date  TimeTaken Employee  ClientID\n",
       "0 2022-03-03 23:09:56         21  Jessica        19\n",
       "1 2021-11-18 17:40:06         10     John        33\n",
       "2 2021-02-15 04:44:51         26     Jane        78\n",
       "3 2022-04-16 21:36:19         42     John        95\n",
       "4 2021-08-23 09:25:43          4  Jessica        52"
      ]
     },
     "execution_count": 656,
     "metadata": {},
     "output_type": "execute_result"
    }
   ],
   "source": [
    "np.random.seed(7)\n",
    "random.seed(7)\n",
    "# Функция для генерации случайных дат\n",
    "def random_dates(start, end, n=1):\n",
    "    start_u = start.value // 10 ** 9\n",
    "    end_u = end.value // 10 ** 9\n",
    "    return pd.to_datetime(np.random.randint(start_u, end_u, n), unit=\"s\")\n",
    "\n",
    "# Создаем список имен сотрудников технической поддержки\n",
    "tech_support = [\"John\", \"Jane\", \"Peter\", \"Jessica\", \"Tom\"]\n",
    "# Задаем количество записей (симуляция ответов техподдержки за месяц)\n",
    "n_records = 1000\n",
    "# Генерируем данные с помощью списковых включений\n",
    "data = {\n",
    "    \"Date\": random_dates(pd.Timestamp(\"2021-01-01\"), pd.Timestamp(\"2022-09-30\"), n_records),\n",
    "    \"TimeTaken\": [random.randint(1, 60) for _ in range(n_records)],\n",
    "    \"Employee\": [random.choice(tech_support) for _ in range(n_records)],\n",
    "    \"ClientID\": [random.randint(1, 100) for _ in range(n_records)],\n",
    "}\n",
    "# Создаем DataFrame\n",
    "support_df = pd.DataFrame(data)\n",
    "# Округляем значения TimeTaken до двух знаков после запятой\n",
    "support_df[\"TimeTaken\"] = support_df[\"TimeTaken\"].round(2)\n",
    "support_df.head()"
   ]
  },
  {
   "cell_type": "code",
   "execution_count": 657,
   "metadata": {},
   "outputs": [
    {
     "name": "stdout",
     "output_type": "stream",
     "text": [
      "среднее: 29.46, медианное: 30.0\n"
     ]
    }
   ],
   "source": [
    "mn1 = round(support_df['TimeTaken'].mean(), 2)\n",
    "median1 = round(support_df['TimeTaken'].median(), 2)\n",
    "print(f'среднее: {mn1}, медианное: {median1}')"
   ]
  },
  {
   "cell_type": "code",
   "execution_count": 658,
   "metadata": {},
   "outputs": [
    {
     "data": {
      "text/html": [
       "<div>\n",
       "<style scoped>\n",
       "    .dataframe tbody tr th:only-of-type {\n",
       "        vertical-align: middle;\n",
       "    }\n",
       "\n",
       "    .dataframe tbody tr th {\n",
       "        vertical-align: top;\n",
       "    }\n",
       "\n",
       "    .dataframe thead th {\n",
       "        text-align: right;\n",
       "    }\n",
       "</style>\n",
       "<table border=\"1\" class=\"dataframe\">\n",
       "  <thead>\n",
       "    <tr style=\"text-align: right;\">\n",
       "      <th></th>\n",
       "      <th>Date</th>\n",
       "      <th>TimeTaken</th>\n",
       "      <th>Employee</th>\n",
       "      <th>ClientID</th>\n",
       "    </tr>\n",
       "  </thead>\n",
       "  <tbody>\n",
       "    <tr>\n",
       "      <th>31</th>\n",
       "      <td>2022-09-18 13:01:43</td>\n",
       "      <td>38</td>\n",
       "      <td>Jessica</td>\n",
       "      <td>34</td>\n",
       "    </tr>\n",
       "    <tr>\n",
       "      <th>36</th>\n",
       "      <td>2022-09-20 19:34:24</td>\n",
       "      <td>4</td>\n",
       "      <td>John</td>\n",
       "      <td>32</td>\n",
       "    </tr>\n",
       "    <tr>\n",
       "      <th>49</th>\n",
       "      <td>2022-09-27 11:08:32</td>\n",
       "      <td>36</td>\n",
       "      <td>Tom</td>\n",
       "      <td>67</td>\n",
       "    </tr>\n",
       "    <tr>\n",
       "      <th>77</th>\n",
       "      <td>2022-09-14 17:42:19</td>\n",
       "      <td>24</td>\n",
       "      <td>John</td>\n",
       "      <td>3</td>\n",
       "    </tr>\n",
       "    <tr>\n",
       "      <th>81</th>\n",
       "      <td>2022-09-05 10:19:53</td>\n",
       "      <td>12</td>\n",
       "      <td>Jane</td>\n",
       "      <td>44</td>\n",
       "    </tr>\n",
       "  </tbody>\n",
       "</table>\n",
       "</div>"
      ],
      "text/plain": [
       "                  Date  TimeTaken Employee  ClientID\n",
       "31 2022-09-18 13:01:43         38  Jessica        34\n",
       "36 2022-09-20 19:34:24          4     John        32\n",
       "49 2022-09-27 11:08:32         36      Tom        67\n",
       "77 2022-09-14 17:42:19         24     John         3\n",
       "81 2022-09-05 10:19:53         12     Jane        44"
      ]
     },
     "execution_count": 658,
     "metadata": {},
     "output_type": "execute_result"
    }
   ],
   "source": [
    "support_df_maxDate = support_df[support_df['Date'].dt.to_period('M') == support_df['Date'].dt.to_period('M').max()]\n",
    "support_df_maxDate.head()"
   ]
  },
  {
   "cell_type": "code",
   "execution_count": 659,
   "metadata": {},
   "outputs": [
    {
     "name": "stdout",
     "output_type": "stream",
     "text": [
      "среднее: 27.96, медианное: 31.0\n"
     ]
    }
   ],
   "source": [
    "mn2 = round(support_df_maxDate['TimeTaken'].mean(), 2)\n",
    "median2 = round(support_df_maxDate['TimeTaken'].median(), 2)\n",
    "print(f'среднее: {mn2}, медианное: {median2}')"
   ]
  },
  {
   "cell_type": "code",
   "execution_count": 660,
   "metadata": {},
   "outputs": [
    {
     "name": "stdout",
     "output_type": "stream",
     "text": [
      "среднее: 29.46, медианное: 30.0\n",
      "                  Date  TimeTaken Employee  ClientID\n",
      "31 2022-09-18 13:01:43         38  Jessica        34\n",
      "36 2022-09-20 19:34:24          4     John        32\n",
      "49 2022-09-27 11:08:32         36      Tom        67\n",
      "77 2022-09-14 17:42:19         24     John         3\n",
      "81 2022-09-05 10:19:53         12     Jane        44\n",
      "среднее: 27.96, медианное: 31.0\n"
     ]
    }
   ],
   "source": [
    "z = \"print(f'среднее: {round(support_df.TimeTaken.mean(), 2)}, медианное: {round(support_df.TimeTaken.median(), 2)}')\"\n",
    "exec(z)\n",
    "support_df = support_df[support_df['Date'] >= pd.Timestamp(str(support_df['Date'].max())[:7])]\n",
    "print(support_df.head())\n",
    "exec(z)"
   ]
  },
  {
   "cell_type": "code",
   "execution_count": 661,
   "metadata": {},
   "outputs": [
    {
     "data": {
      "text/html": [
       "<div>\n",
       "<style scoped>\n",
       "    .dataframe tbody tr th:only-of-type {\n",
       "        vertical-align: middle;\n",
       "    }\n",
       "\n",
       "    .dataframe tbody tr th {\n",
       "        vertical-align: top;\n",
       "    }\n",
       "\n",
       "    .dataframe thead th {\n",
       "        text-align: right;\n",
       "    }\n",
       "</style>\n",
       "<table border=\"1\" class=\"dataframe\">\n",
       "  <thead>\n",
       "    <tr style=\"text-align: right;\">\n",
       "      <th></th>\n",
       "      <th>Surname</th>\n",
       "      <th>Name</th>\n",
       "      <th>Position</th>\n",
       "      <th>Salary</th>\n",
       "    </tr>\n",
       "  </thead>\n",
       "  <tbody>\n",
       "    <tr>\n",
       "      <th>0</th>\n",
       "      <td>Surname_0</td>\n",
       "      <td>Name_0</td>\n",
       "      <td>Software Developer</td>\n",
       "      <td>35392.00</td>\n",
       "    </tr>\n",
       "    <tr>\n",
       "      <th>1</th>\n",
       "      <td>Surname_1</td>\n",
       "      <td>Name_1</td>\n",
       "      <td>Software Developer</td>\n",
       "      <td>71657.36</td>\n",
       "    </tr>\n",
       "    <tr>\n",
       "      <th>2</th>\n",
       "      <td>Surname_2</td>\n",
       "      <td>Name_2</td>\n",
       "      <td>Data Analyst</td>\n",
       "      <td>54632.51</td>\n",
       "    </tr>\n",
       "    <tr>\n",
       "      <th>3</th>\n",
       "      <td>Surname_3</td>\n",
       "      <td>Name_3</td>\n",
       "      <td>Data Analyst</td>\n",
       "      <td>88444.81</td>\n",
       "    </tr>\n",
       "    <tr>\n",
       "      <th>4</th>\n",
       "      <td>Surname_4</td>\n",
       "      <td>Name_4</td>\n",
       "      <td>Data Analyst</td>\n",
       "      <td>97829.05</td>\n",
       "    </tr>\n",
       "  </tbody>\n",
       "</table>\n",
       "</div>"
      ],
      "text/plain": [
       "     Surname    Name            Position    Salary\n",
       "0  Surname_0  Name_0  Software Developer  35392.00\n",
       "1  Surname_1  Name_1  Software Developer  71657.36\n",
       "2  Surname_2  Name_2        Data Analyst  54632.51\n",
       "3  Surname_3  Name_3        Data Analyst  88444.81\n",
       "4  Surname_4  Name_4        Data Analyst  97829.05"
      ]
     },
     "execution_count": 661,
     "metadata": {},
     "output_type": "execute_result"
    }
   ],
   "source": [
    "random.seed(77)\n",
    "# Создаем список должностей\n",
    "positions = [\"Manager\", \"Data Analyst\", \"Software Developer\", \"Graphic Designer\", \"Sales Representative\"]\n",
    "# Задаем количество сотрудников\n",
    "n_employees = 100\n",
    "# Генерируем данные с помощью списковых включений\n",
    "data = {\n",
    "    \"Surname\": [f\"Surname_{i}\" for i in range(n_employees)],\n",
    "    \"Name\": [f\"Name_{i}\" for i in range(n_employees)],\n",
    "    \"Position\": [random.choice(positions) for _ in range(n_employees)],\n",
    "    \"Salary\": [random.uniform(15000, 100000) for _ in range(n_employees)],\n",
    "}\n",
    "# Создаем DataFrame\n",
    "company_df = pd.DataFrame(data)\n",
    "# Округляем значения Salary до двух знаков после запятой\n",
    "company_df[\"Salary\"] = company_df[\"Salary\"].round(2)\n",
    "company_df.head()"
   ]
  },
  {
   "cell_type": "code",
   "execution_count": 662,
   "metadata": {},
   "outputs": [
    {
     "name": "stdout",
     "output_type": "stream",
     "text": [
      "64143.38\n",
      "72\n",
      "80943.0\n",
      "Manager\n"
     ]
    }
   ],
   "source": [
    "import math\n",
    "med = round(company_df['Salary'].median(), 2)\n",
    "print(med)\n",
    "per = math.floor(company_df.loc[company_df['Salary'] > 40000, 'Surname'].count() / len(company_df) * 100)\n",
    "print(per)\n",
    "quant_75 =  round(company_df['Salary'].quantile(0.75), 2)\n",
    "print(quant_75)\n",
    "topSalary_position = company_df.loc[company_df['Salary'].idxmax(), 'Position']\n",
    "print(topSalary_position)"
   ]
  },
  {
   "cell_type": "code",
   "execution_count": 663,
   "metadata": {},
   "outputs": [
    {
     "data": {
      "text/html": [
       "<div>\n",
       "<style scoped>\n",
       "    .dataframe tbody tr th:only-of-type {\n",
       "        vertical-align: middle;\n",
       "    }\n",
       "\n",
       "    .dataframe tbody tr th {\n",
       "        vertical-align: top;\n",
       "    }\n",
       "\n",
       "    .dataframe thead th {\n",
       "        text-align: right;\n",
       "    }\n",
       "</style>\n",
       "<table border=\"1\" class=\"dataframe\">\n",
       "  <thead>\n",
       "    <tr style=\"text-align: right;\">\n",
       "      <th></th>\n",
       "      <th>experience</th>\n",
       "      <th>education</th>\n",
       "      <th>salary</th>\n",
       "    </tr>\n",
       "  </thead>\n",
       "  <tbody>\n",
       "    <tr>\n",
       "      <th>0</th>\n",
       "      <td>8</td>\n",
       "      <td>среднее специальное</td>\n",
       "      <td>54844.418275</td>\n",
       "    </tr>\n",
       "    <tr>\n",
       "      <th>1</th>\n",
       "      <td>9</td>\n",
       "      <td>среднее специальное</td>\n",
       "      <td>41502.878417</td>\n",
       "    </tr>\n",
       "    <tr>\n",
       "      <th>2</th>\n",
       "      <td>3</td>\n",
       "      <td>незаконченное высшее</td>\n",
       "      <td>54932.782263</td>\n",
       "    </tr>\n",
       "    <tr>\n",
       "      <th>3</th>\n",
       "      <td>8</td>\n",
       "      <td>высшее</td>\n",
       "      <td>57414.189869</td>\n",
       "    </tr>\n",
       "    <tr>\n",
       "      <th>4</th>\n",
       "      <td>8</td>\n",
       "      <td>среднее специальное</td>\n",
       "      <td>63458.075221</td>\n",
       "    </tr>\n",
       "    <tr>\n",
       "      <th>...</th>\n",
       "      <td>...</td>\n",
       "      <td>...</td>\n",
       "      <td>...</td>\n",
       "    </tr>\n",
       "    <tr>\n",
       "      <th>95</th>\n",
       "      <td>0</td>\n",
       "      <td>среднее специальное</td>\n",
       "      <td>47884.098310</td>\n",
       "    </tr>\n",
       "    <tr>\n",
       "      <th>96</th>\n",
       "      <td>8</td>\n",
       "      <td>высшее</td>\n",
       "      <td>50213.960145</td>\n",
       "    </tr>\n",
       "    <tr>\n",
       "      <th>97</th>\n",
       "      <td>2</td>\n",
       "      <td>среднее специальное</td>\n",
       "      <td>39861.074909</td>\n",
       "    </tr>\n",
       "    <tr>\n",
       "      <th>98</th>\n",
       "      <td>7</td>\n",
       "      <td>высшее</td>\n",
       "      <td>42843.087180</td>\n",
       "    </tr>\n",
       "    <tr>\n",
       "      <th>99</th>\n",
       "      <td>2</td>\n",
       "      <td>среднее специальное</td>\n",
       "      <td>41931.588120</td>\n",
       "    </tr>\n",
       "  </tbody>\n",
       "</table>\n",
       "<p>100 rows × 3 columns</p>\n",
       "</div>"
      ],
      "text/plain": [
       "    experience             education        salary\n",
       "0            8   среднее специальное  54844.418275\n",
       "1            9   среднее специальное  41502.878417\n",
       "2            3  незаконченное высшее  54932.782263\n",
       "3            8                высшее  57414.189869\n",
       "4            8   среднее специальное  63458.075221\n",
       "..         ...                   ...           ...\n",
       "95           0   среднее специальное  47884.098310\n",
       "96           8                высшее  50213.960145\n",
       "97           2   среднее специальное  39861.074909\n",
       "98           7                высшее  42843.087180\n",
       "99           2   среднее специальное  41931.588120\n",
       "\n",
       "[100 rows x 3 columns]"
      ]
     },
     "execution_count": 663,
     "metadata": {},
     "output_type": "execute_result"
    }
   ],
   "source": [
    "np.random.seed(3)\n",
    "\n",
    "# генерация данных\n",
    "experience = np.random.randint(0, 10, 100)\n",
    "education = np.random.choice(['высшее', 'среднее специальное', 'незаконченное высшее'], size = 100)\n",
    "salary = np.random.normal(50000, 10000, size = 100)\n",
    "\n",
    "data = pd.DataFrame({'experience': experience, 'education': education, 'salary': salary})\n",
    "data"
   ]
  },
  {
   "cell_type": "code",
   "execution_count": 664,
   "metadata": {},
   "outputs": [
    {
     "name": "stdout",
     "output_type": "stream",
     "text": [
      "высшее: средняя - 49544.92, медианная - 49734.71, СКО - 8984.97\n",
      "незаконченное высшее: средняя - 52839.19, медианная - 49213.34, СКО - 10415.43\n",
      "среднее специальное: средняя - 47412.26, медианная - 47884.1, СКО - 9311.41\n"
     ]
    }
   ],
   "source": [
    "z = \"print(f'{i}: средняя - {mean}, медианная - {median}, СКО - {std}')\"\n",
    "education_list = sorted(data['education'].unique())\n",
    "for i in education_list:\n",
    "    mean = round(data.loc[data['education'] == i, 'salary'].mean(), 2)\n",
    "    median = round(data.loc[data['education'] == i, 'salary'].median(), 2)\n",
    "    std = round(data.loc[data['education'] == i, 'salary'].std(), 2)\n",
    "    exec(z)"
   ]
  },
  {
   "cell_type": "code",
   "execution_count": 665,
   "metadata": {},
   "outputs": [
    {
     "name": "stdout",
     "output_type": "stream",
     "text": [
      "высшее: средняя - 49544.92, медианная - 49734.71, СКО - 8984.97\n",
      "незаконченное высшее: средняя - 52839.19, медианная - 49213.34, СКО - 10415.43\n",
      "среднее специальное: средняя - 47412.26, медианная - 47884.1, СКО - 9311.41\n"
     ]
    }
   ],
   "source": [
    "g = data.groupby('education').agg(['mean', 'median', 'std']).round(2).iloc[:, 3:].reset_index()\n",
    "for e, mean, median, std in g.values:\n",
    "    print(f\"{e}: средняя - {mean}, медианная - {median}, СКО - {std}\")"
   ]
  },
  {
   "cell_type": "markdown",
   "metadata": {},
   "source": [
    "# 4.8.1 Корреляция и ковариация в Pandas"
   ]
  },
  {
   "cell_type": "code",
   "execution_count": 666,
   "metadata": {},
   "outputs": [],
   "source": [
    "# Ковариация - это мера статистической зависимости между двумя случайными переменными. \n",
    "# Она позволяет определить, как одна переменная изменяется вместе с другой. \n",
    "# Если две переменные имеют положительную ковариацию, то они склонны изменяться в одном направлении \n",
    "# (если одна переменная увеличивается, то и другая тоже увеличивается), \n",
    "# а если у них отрицательная ковариация, то они склонны изменяться в противоположных направлениях \n",
    "# (если одна переменная увеличивается, то другая уменьшается). \n",
    "# Причем чем больше ковариация, тем больше взаимосвязь двух переменных."
   ]
  },
  {
   "cell_type": "code",
   "execution_count": 667,
   "metadata": {},
   "outputs": [
    {
     "name": "stdout",
     "output_type": "stream",
     "text": [
      "   X  Y\n",
      "0  1  5\n",
      "1  2  4\n",
      "2  3  3\n",
      "3  4  2\n",
      "4  5  1\n",
      "Ковариация: -2.5\n",
      "     X    Y\n",
      "X  2.5 -2.5\n",
      "Y -2.5  2.5\n"
     ]
    }
   ],
   "source": [
    "data = {'X': [1, 2, 3, 4, 5],\n",
    "        'Y': [5, 4, 3, 2, 1]}\n",
    "\n",
    "df = pd.DataFrame(data)\n",
    "print(df)\n",
    "\n",
    "# Ковариация\n",
    "covariance = df['X'].cov(df['Y'])\n",
    "print(f'Ковариация: {covariance}')\n",
    "\n",
    "# Матрица ковариации\n",
    "cov_matrix = df.cov()\n",
    "print(cov_matrix)\n"
   ]
  },
  {
   "cell_type": "code",
   "execution_count": 668,
   "metadata": {},
   "outputs": [],
   "source": [
    "# Коэффициент корреляции нормирует ковариацию и находится в диапазоне от -1 до 1, где \n",
    "# -1 указывает на полную отрицательную линейную зависимость, \n",
    "# 1 - на положительную линейную зависимость, а \n",
    "# 0 - на отсутствие линейной зависимости."
   ]
  },
  {
   "cell_type": "code",
   "execution_count": 669,
   "metadata": {},
   "outputs": [
    {
     "name": "stdout",
     "output_type": "stream",
     "text": [
      "   X   Y\n",
      "0  1   2\n",
      "1  2   4\n",
      "2  3   6\n",
      "3  4   8\n",
      "4  5  10\n",
      "Корреляция Пирсона X-Y: 0.9999999999999999\n"
     ]
    }
   ],
   "source": [
    "data = {'X': [1, 2, 3, 4, 5],\n",
    "        'Y': [2, 4, 6, 8, 10]}\n",
    "df = pd.DataFrame(data)\n",
    "print(df)\n",
    "\n",
    "# Вычисляем корреляцию Пирсона между столбцами 'X' и 'Y'\n",
    "correlation = df['X'].corr(df['Y'])\n",
    "print(\"Корреляция Пирсона X-Y:\", correlation)"
   ]
  },
  {
   "cell_type": "code",
   "execution_count": 670,
   "metadata": {},
   "outputs": [
    {
     "name": "stdout",
     "output_type": "stream",
     "text": [
      "   X  Y\n",
      "0  6  2\n",
      "1  7  6\n",
      "2  5  2\n",
      "3  7  9\n",
      "4  4  4\n",
      "5  1  1\n",
      "6  7  2\n",
      "7  4  5\n",
      "8  2  9\n",
      "9  5  6\n",
      "Корреляция Пирсона: 0.0945385792624184\n",
      "          X         Y\n",
      "X  1.000000  0.094539\n",
      "Y  0.094539  1.000000\n"
     ]
    }
   ],
   "source": [
    "# Создаем DataFrame с двумя столбцами\n",
    "data = {'X': np.random.randint(1, 10, 10),\n",
    "        'Y': np.random.randint(1, 10, 10)}\n",
    "df = pd.DataFrame(data)\n",
    "print(df)\n",
    "correlation = df['X'].corr(df['Y'])\n",
    "print(\"Корреляция Пирсона:\", correlation)\n",
    "correlation_matrix = df.corr()\n",
    "print(correlation_matrix)"
   ]
  },
  {
   "cell_type": "markdown",
   "metadata": {},
   "source": [
    "# 4.8.2 Членство и уникальные значения в Pandas (Методы isin(), unique(), value_counts())"
   ]
  },
  {
   "cell_type": "code",
   "execution_count": 671,
   "metadata": {},
   "outputs": [
    {
     "data": {
      "text/html": [
       "<div>\n",
       "<style scoped>\n",
       "    .dataframe tbody tr th:only-of-type {\n",
       "        vertical-align: middle;\n",
       "    }\n",
       "\n",
       "    .dataframe tbody tr th {\n",
       "        vertical-align: top;\n",
       "    }\n",
       "\n",
       "    .dataframe thead th {\n",
       "        text-align: right;\n",
       "    }\n",
       "</style>\n",
       "<table border=\"1\" class=\"dataframe\">\n",
       "  <thead>\n",
       "    <tr style=\"text-align: right;\">\n",
       "      <th></th>\n",
       "      <th>Страна</th>\n",
       "      <th>Столица</th>\n",
       "      <th>Население</th>\n",
       "    </tr>\n",
       "  </thead>\n",
       "  <tbody>\n",
       "    <tr>\n",
       "      <th>0</th>\n",
       "      <td>Россия</td>\n",
       "      <td>Москва</td>\n",
       "      <td>144.5</td>\n",
       "    </tr>\n",
       "    <tr>\n",
       "      <th>1</th>\n",
       "      <td>США</td>\n",
       "      <td>Вашингтон</td>\n",
       "      <td>328.2</td>\n",
       "    </tr>\n",
       "    <tr>\n",
       "      <th>2</th>\n",
       "      <td>Германия</td>\n",
       "      <td>Берлин</td>\n",
       "      <td>83.0</td>\n",
       "    </tr>\n",
       "    <tr>\n",
       "      <th>3</th>\n",
       "      <td>Франция</td>\n",
       "      <td>Париж</td>\n",
       "      <td>66.9</td>\n",
       "    </tr>\n",
       "    <tr>\n",
       "      <th>4</th>\n",
       "      <td>Италия</td>\n",
       "      <td>Рим</td>\n",
       "      <td>60.4</td>\n",
       "    </tr>\n",
       "  </tbody>\n",
       "</table>\n",
       "</div>"
      ],
      "text/plain": [
       "     Страна    Столица  Население\n",
       "0    Россия     Москва      144.5\n",
       "1       США  Вашингтон      328.2\n",
       "2  Германия     Берлин       83.0\n",
       "3   Франция      Париж       66.9\n",
       "4    Италия        Рим       60.4"
      ]
     },
     "execution_count": 671,
     "metadata": {},
     "output_type": "execute_result"
    }
   ],
   "source": [
    "data = {'Страна': ['Россия', 'США', 'Германия', 'Франция', 'Италия'],\n",
    "        'Столица': ['Москва', 'Вашингтон', 'Берлин', 'Париж', 'Рим'],\n",
    "        'Население': [144.5, 328.2, 83.0, 66.9, 60.4]}\n",
    "\n",
    "df = pd.DataFrame(data)\n",
    "df"
   ]
  },
  {
   "cell_type": "code",
   "execution_count": 672,
   "metadata": {},
   "outputs": [
    {
     "data": {
      "text/plain": [
       "0     True\n",
       "1    False\n",
       "2     True\n",
       "3    False\n",
       "4    False\n",
       "Name: Страна, dtype: bool"
      ]
     },
     "execution_count": 672,
     "metadata": {},
     "output_type": "execute_result"
    }
   ],
   "source": [
    "countries = ['Россия', 'Германия']\n",
    "\n",
    "df['Страна'].isin(countries)"
   ]
  },
  {
   "cell_type": "code",
   "execution_count": 673,
   "metadata": {},
   "outputs": [
    {
     "data": {
      "text/html": [
       "<div>\n",
       "<style scoped>\n",
       "    .dataframe tbody tr th:only-of-type {\n",
       "        vertical-align: middle;\n",
       "    }\n",
       "\n",
       "    .dataframe tbody tr th {\n",
       "        vertical-align: top;\n",
       "    }\n",
       "\n",
       "    .dataframe thead th {\n",
       "        text-align: right;\n",
       "    }\n",
       "</style>\n",
       "<table border=\"1\" class=\"dataframe\">\n",
       "  <thead>\n",
       "    <tr style=\"text-align: right;\">\n",
       "      <th></th>\n",
       "      <th>Страна</th>\n",
       "      <th>Столица</th>\n",
       "      <th>Население</th>\n",
       "    </tr>\n",
       "  </thead>\n",
       "  <tbody>\n",
       "    <tr>\n",
       "      <th>0</th>\n",
       "      <td>Россия</td>\n",
       "      <td>Москва</td>\n",
       "      <td>144.5</td>\n",
       "    </tr>\n",
       "    <tr>\n",
       "      <th>2</th>\n",
       "      <td>Германия</td>\n",
       "      <td>Берлин</td>\n",
       "      <td>83.0</td>\n",
       "    </tr>\n",
       "  </tbody>\n",
       "</table>\n",
       "</div>"
      ],
      "text/plain": [
       "     Страна Столица  Население\n",
       "0    Россия  Москва      144.5\n",
       "2  Германия  Берлин       83.0"
      ]
     },
     "execution_count": 673,
     "metadata": {},
     "output_type": "execute_result"
    }
   ],
   "source": [
    "filtered_df = df[df['Страна'].isin(countries)]\n",
    "filtered_df"
   ]
  },
  {
   "cell_type": "code",
   "execution_count": 674,
   "metadata": {},
   "outputs": [
    {
     "data": {
      "text/html": [
       "<div>\n",
       "<style scoped>\n",
       "    .dataframe tbody tr th:only-of-type {\n",
       "        vertical-align: middle;\n",
       "    }\n",
       "\n",
       "    .dataframe tbody tr th {\n",
       "        vertical-align: top;\n",
       "    }\n",
       "\n",
       "    .dataframe thead th {\n",
       "        text-align: right;\n",
       "    }\n",
       "</style>\n",
       "<table border=\"1\" class=\"dataframe\">\n",
       "  <thead>\n",
       "    <tr style=\"text-align: right;\">\n",
       "      <th></th>\n",
       "      <th>Страна</th>\n",
       "      <th>Столица</th>\n",
       "      <th>Население</th>\n",
       "    </tr>\n",
       "  </thead>\n",
       "  <tbody>\n",
       "    <tr>\n",
       "      <th>1</th>\n",
       "      <td>США</td>\n",
       "      <td>Вашингтон</td>\n",
       "      <td>328.2</td>\n",
       "    </tr>\n",
       "    <tr>\n",
       "      <th>3</th>\n",
       "      <td>Франция</td>\n",
       "      <td>Париж</td>\n",
       "      <td>66.9</td>\n",
       "    </tr>\n",
       "    <tr>\n",
       "      <th>4</th>\n",
       "      <td>Италия</td>\n",
       "      <td>Рим</td>\n",
       "      <td>60.4</td>\n",
       "    </tr>\n",
       "  </tbody>\n",
       "</table>\n",
       "</div>"
      ],
      "text/plain": [
       "    Страна    Столица  Население\n",
       "1      США  Вашингтон      328.2\n",
       "3  Франция      Париж       66.9\n",
       "4   Италия        Рим       60.4"
      ]
     },
     "execution_count": 674,
     "metadata": {},
     "output_type": "execute_result"
    }
   ],
   "source": [
    "filtered_df = df[~df['Страна'].isin(countries)]\n",
    "filtered_df"
   ]
  },
  {
   "cell_type": "code",
   "execution_count": 675,
   "metadata": {},
   "outputs": [
    {
     "data": {
      "text/plain": [
       "array(['Россия', 'США', 'Германия', 'Франция', 'Италия'], dtype=object)"
      ]
     },
     "execution_count": 675,
     "metadata": {},
     "output_type": "execute_result"
    }
   ],
   "source": [
    "unique_countries = df['Страна'].unique()\n",
    "unique_countries"
   ]
  },
  {
   "cell_type": "code",
   "execution_count": 676,
   "metadata": {},
   "outputs": [
    {
     "data": {
      "text/html": [
       "<div>\n",
       "<style scoped>\n",
       "    .dataframe tbody tr th:only-of-type {\n",
       "        vertical-align: middle;\n",
       "    }\n",
       "\n",
       "    .dataframe tbody tr th {\n",
       "        vertical-align: top;\n",
       "    }\n",
       "\n",
       "    .dataframe thead th {\n",
       "        text-align: right;\n",
       "    }\n",
       "</style>\n",
       "<table border=\"1\" class=\"dataframe\">\n",
       "  <thead>\n",
       "    <tr style=\"text-align: right;\">\n",
       "      <th></th>\n",
       "      <th>Страна</th>\n",
       "      <th>Столица</th>\n",
       "      <th>Население</th>\n",
       "    </tr>\n",
       "  </thead>\n",
       "  <tbody>\n",
       "    <tr>\n",
       "      <th>0</th>\n",
       "      <td>Россия</td>\n",
       "      <td>Москва</td>\n",
       "      <td>144.5</td>\n",
       "    </tr>\n",
       "    <tr>\n",
       "      <th>1</th>\n",
       "      <td>США</td>\n",
       "      <td>Вашингтон</td>\n",
       "      <td>328.2</td>\n",
       "    </tr>\n",
       "    <tr>\n",
       "      <th>2</th>\n",
       "      <td>Германия</td>\n",
       "      <td>Берлин</td>\n",
       "      <td>83.0</td>\n",
       "    </tr>\n",
       "    <tr>\n",
       "      <th>3</th>\n",
       "      <td>Франция</td>\n",
       "      <td>Париж</td>\n",
       "      <td>66.9</td>\n",
       "    </tr>\n",
       "    <tr>\n",
       "      <th>4</th>\n",
       "      <td>Италия</td>\n",
       "      <td>Рим</td>\n",
       "      <td>60.4</td>\n",
       "    </tr>\n",
       "  </tbody>\n",
       "</table>\n",
       "</div>"
      ],
      "text/plain": [
       "     Страна    Столица  Население\n",
       "0    Россия     Москва      144.5\n",
       "1       США  Вашингтон      328.2\n",
       "2  Германия     Берлин       83.0\n",
       "3   Франция      Париж       66.9\n",
       "4    Италия        Рим       60.4"
      ]
     },
     "execution_count": 676,
     "metadata": {},
     "output_type": "execute_result"
    }
   ],
   "source": [
    "filtered_df = df[df['Страна'].isin(unique_countries)]\n",
    "filtered_df"
   ]
  },
  {
   "cell_type": "code",
   "execution_count": 677,
   "metadata": {},
   "outputs": [
    {
     "data": {
      "text/plain": [
       "Страна\n",
       "Россия      1\n",
       "США         1\n",
       "Германия    1\n",
       "Франция     1\n",
       "Италия      1\n",
       "Name: count, dtype: int64"
      ]
     },
     "execution_count": 677,
     "metadata": {},
     "output_type": "execute_result"
    }
   ],
   "source": [
    "country_counts = df['Страна'].value_counts()\n",
    "country_counts"
   ]
  },
  {
   "cell_type": "code",
   "execution_count": 678,
   "metadata": {},
   "outputs": [
    {
     "data": {
      "text/html": [
       "<div>\n",
       "<style scoped>\n",
       "    .dataframe tbody tr th:only-of-type {\n",
       "        vertical-align: middle;\n",
       "    }\n",
       "\n",
       "    .dataframe tbody tr th {\n",
       "        vertical-align: top;\n",
       "    }\n",
       "\n",
       "    .dataframe thead th {\n",
       "        text-align: right;\n",
       "    }\n",
       "</style>\n",
       "<table border=\"1\" class=\"dataframe\">\n",
       "  <thead>\n",
       "    <tr style=\"text-align: right;\">\n",
       "      <th></th>\n",
       "      <th>Страна</th>\n",
       "      <th>Столица</th>\n",
       "      <th>Население</th>\n",
       "    </tr>\n",
       "  </thead>\n",
       "  <tbody>\n",
       "    <tr>\n",
       "      <th>0</th>\n",
       "      <td>Россия</td>\n",
       "      <td>Москва</td>\n",
       "      <td>144.5</td>\n",
       "    </tr>\n",
       "    <tr>\n",
       "      <th>1</th>\n",
       "      <td>США</td>\n",
       "      <td>Вашингтон</td>\n",
       "      <td>328.2</td>\n",
       "    </tr>\n",
       "    <tr>\n",
       "      <th>2</th>\n",
       "      <td>Германия</td>\n",
       "      <td>Берлин</td>\n",
       "      <td>83.0</td>\n",
       "    </tr>\n",
       "    <tr>\n",
       "      <th>3</th>\n",
       "      <td>Франция</td>\n",
       "      <td>Париж</td>\n",
       "      <td>66.9</td>\n",
       "    </tr>\n",
       "    <tr>\n",
       "      <th>4</th>\n",
       "      <td>Италия</td>\n",
       "      <td>Рим</td>\n",
       "      <td>60.4</td>\n",
       "    </tr>\n",
       "  </tbody>\n",
       "</table>\n",
       "</div>"
      ],
      "text/plain": [
       "     Страна    Столица  Население\n",
       "0    Россия     Москва      144.5\n",
       "1       США  Вашингтон      328.2\n",
       "2  Германия     Берлин       83.0\n",
       "3   Франция      Париж       66.9\n",
       "4    Италия        Рим       60.4"
      ]
     },
     "execution_count": 678,
     "metadata": {},
     "output_type": "execute_result"
    }
   ],
   "source": [
    "df"
   ]
  },
  {
   "cell_type": "code",
   "execution_count": 679,
   "metadata": {},
   "outputs": [
    {
     "name": "stdout",
     "output_type": "stream",
     "text": [
      "Германия,Берлин,83.0    1\n",
      "Италия,Рим,60.4         1\n",
      "Россия,Москва,144.5     1\n",
      "США,Вашингтон,328.2     1\n",
      "Франция,Париж,66.9      1\n",
      "Name: count, dtype: int64\n"
     ]
    }
   ],
   "source": [
    "counts = df.apply(lambda x: ','.join(x.astype(str)), axis=1).value_counts().sort_index()\n",
    "print(counts)"
   ]
  },
  {
   "cell_type": "code",
   "execution_count": 680,
   "metadata": {},
   "outputs": [
    {
     "data": {
      "text/html": [
       "<div>\n",
       "<style scoped>\n",
       "    .dataframe tbody tr th:only-of-type {\n",
       "        vertical-align: middle;\n",
       "    }\n",
       "\n",
       "    .dataframe tbody tr th {\n",
       "        vertical-align: top;\n",
       "    }\n",
       "\n",
       "    .dataframe thead th {\n",
       "        text-align: right;\n",
       "    }\n",
       "</style>\n",
       "<table border=\"1\" class=\"dataframe\">\n",
       "  <thead>\n",
       "    <tr style=\"text-align: right;\">\n",
       "      <th></th>\n",
       "      <th>Product</th>\n",
       "      <th>Quantity</th>\n",
       "    </tr>\n",
       "  </thead>\n",
       "  <tbody>\n",
       "    <tr>\n",
       "      <th>0</th>\n",
       "      <td>Cheese</td>\n",
       "      <td>100</td>\n",
       "    </tr>\n",
       "    <tr>\n",
       "      <th>1</th>\n",
       "      <td>Yogurt</td>\n",
       "      <td>89</td>\n",
       "    </tr>\n",
       "    <tr>\n",
       "      <th>2</th>\n",
       "      <td>Eggs</td>\n",
       "      <td>12</td>\n",
       "    </tr>\n",
       "    <tr>\n",
       "      <th>3</th>\n",
       "      <td>Eggs</td>\n",
       "      <td>45</td>\n",
       "    </tr>\n",
       "    <tr>\n",
       "      <th>4</th>\n",
       "      <td>Bread</td>\n",
       "      <td>15</td>\n",
       "    </tr>\n",
       "  </tbody>\n",
       "</table>\n",
       "</div>"
      ],
      "text/plain": [
       "  Product  Quantity\n",
       "0  Cheese       100\n",
       "1  Yogurt        89\n",
       "2    Eggs        12\n",
       "3    Eggs        45\n",
       "4   Bread        15"
      ]
     },
     "execution_count": 680,
     "metadata": {},
     "output_type": "execute_result"
    }
   ],
   "source": [
    "random.seed(9)\n",
    "# Создаем DataFrame со случайными данными о продажах (продукт и количество)\n",
    "data = {'Product': [random.choice(['Milk', 'Bread', 'Eggs', 'Cheese', 'Yogurt']) for _ in range(100)],\n",
    "        'Quantity': [random.randint(1, 100) for _ in range(100)]}\n",
    "df = pd.DataFrame(data)\n",
    "df.head()"
   ]
  },
  {
   "cell_type": "code",
   "execution_count": 681,
   "metadata": {},
   "outputs": [
    {
     "data": {
      "text/html": [
       "<div>\n",
       "<style scoped>\n",
       "    .dataframe tbody tr th:only-of-type {\n",
       "        vertical-align: middle;\n",
       "    }\n",
       "\n",
       "    .dataframe tbody tr th {\n",
       "        vertical-align: top;\n",
       "    }\n",
       "\n",
       "    .dataframe thead th {\n",
       "        text-align: right;\n",
       "    }\n",
       "</style>\n",
       "<table border=\"1\" class=\"dataframe\">\n",
       "  <thead>\n",
       "    <tr style=\"text-align: right;\">\n",
       "      <th></th>\n",
       "      <th>Product</th>\n",
       "      <th>Quantity</th>\n",
       "      <th>bool</th>\n",
       "    </tr>\n",
       "  </thead>\n",
       "  <tbody>\n",
       "    <tr>\n",
       "      <th>0</th>\n",
       "      <td>Cheese</td>\n",
       "      <td>100</td>\n",
       "      <td>False</td>\n",
       "    </tr>\n",
       "    <tr>\n",
       "      <th>1</th>\n",
       "      <td>Yogurt</td>\n",
       "      <td>89</td>\n",
       "      <td>False</td>\n",
       "    </tr>\n",
       "    <tr>\n",
       "      <th>2</th>\n",
       "      <td>Eggs</td>\n",
       "      <td>12</td>\n",
       "      <td>True</td>\n",
       "    </tr>\n",
       "    <tr>\n",
       "      <th>3</th>\n",
       "      <td>Eggs</td>\n",
       "      <td>45</td>\n",
       "      <td>True</td>\n",
       "    </tr>\n",
       "    <tr>\n",
       "      <th>4</th>\n",
       "      <td>Bread</td>\n",
       "      <td>15</td>\n",
       "      <td>True</td>\n",
       "    </tr>\n",
       "    <tr>\n",
       "      <th>5</th>\n",
       "      <td>Bread</td>\n",
       "      <td>75</td>\n",
       "      <td>True</td>\n",
       "    </tr>\n",
       "    <tr>\n",
       "      <th>6</th>\n",
       "      <td>Milk</td>\n",
       "      <td>47</td>\n",
       "      <td>False</td>\n",
       "    </tr>\n",
       "  </tbody>\n",
       "</table>\n",
       "</div>"
      ],
      "text/plain": [
       "  Product  Quantity   bool\n",
       "0  Cheese       100  False\n",
       "1  Yogurt        89  False\n",
       "2    Eggs        12   True\n",
       "3    Eggs        45   True\n",
       "4   Bread        15   True\n",
       "5   Bread        75   True\n",
       "6    Milk        47  False"
      ]
     },
     "execution_count": 681,
     "metadata": {},
     "output_type": "execute_result"
    }
   ],
   "source": [
    "s = ['Bread', 'Eggs']\n",
    "\n",
    "df['bool'] = df['Product'].isin(s)\n",
    "df.head(7)"
   ]
  },
  {
   "cell_type": "code",
   "execution_count": 682,
   "metadata": {},
   "outputs": [
    {
     "data": {
      "text/html": [
       "<div>\n",
       "<style scoped>\n",
       "    .dataframe tbody tr th:only-of-type {\n",
       "        vertical-align: middle;\n",
       "    }\n",
       "\n",
       "    .dataframe tbody tr th {\n",
       "        vertical-align: top;\n",
       "    }\n",
       "\n",
       "    .dataframe thead th {\n",
       "        text-align: right;\n",
       "    }\n",
       "</style>\n",
       "<table border=\"1\" class=\"dataframe\">\n",
       "  <thead>\n",
       "    <tr style=\"text-align: right;\">\n",
       "      <th></th>\n",
       "      <th>model</th>\n",
       "      <th>price</th>\n",
       "      <th>year</th>\n",
       "      <th>mileage</th>\n",
       "      <th>color</th>\n",
       "      <th>date</th>\n",
       "      <th>location</th>\n",
       "    </tr>\n",
       "  </thead>\n",
       "  <tbody>\n",
       "    <tr>\n",
       "      <th>0</th>\n",
       "      <td>Subaru Outback</td>\n",
       "      <td>33100.0</td>\n",
       "      <td>2010</td>\n",
       "      <td>65600.0</td>\n",
       "      <td>Red</td>\n",
       "      <td>2021-01-01 00:00:00.000000000</td>\n",
       "      <td>New York</td>\n",
       "    </tr>\n",
       "    <tr>\n",
       "      <th>1</th>\n",
       "      <td>Mazda CX-5</td>\n",
       "      <td>39300.0</td>\n",
       "      <td>2021</td>\n",
       "      <td>35500.0</td>\n",
       "      <td>Silver</td>\n",
       "      <td>2021-01-01 08:44:41.081081081</td>\n",
       "      <td>Miami</td>\n",
       "    </tr>\n",
       "    <tr>\n",
       "      <th>2</th>\n",
       "      <td>Subaru Outback</td>\n",
       "      <td>36200.0</td>\n",
       "      <td>2011</td>\n",
       "      <td>18300.0</td>\n",
       "      <td>Blue</td>\n",
       "      <td>2021-01-01 17:29:22.162162162</td>\n",
       "      <td>New York</td>\n",
       "    </tr>\n",
       "    <tr>\n",
       "      <th>3</th>\n",
       "      <td>Chevrolet Camaro</td>\n",
       "      <td>34200.0</td>\n",
       "      <td>2016</td>\n",
       "      <td>46900.0</td>\n",
       "      <td>Silver</td>\n",
       "      <td>2021-01-02 02:14:03.243243243</td>\n",
       "      <td>Chicago</td>\n",
       "    </tr>\n",
       "    <tr>\n",
       "      <th>4</th>\n",
       "      <td>Mazda CX-5</td>\n",
       "      <td>27800.0</td>\n",
       "      <td>2014</td>\n",
       "      <td>82100.0</td>\n",
       "      <td>White</td>\n",
       "      <td>2021-01-02 10:58:44.324324324</td>\n",
       "      <td>Chicago</td>\n",
       "    </tr>\n",
       "  </tbody>\n",
       "</table>\n",
       "</div>"
      ],
      "text/plain": [
       "              model    price  year  mileage   color  \\\n",
       "0    Subaru Outback  33100.0  2010  65600.0     Red   \n",
       "1        Mazda CX-5  39300.0  2021  35500.0  Silver   \n",
       "2    Subaru Outback  36200.0  2011  18300.0    Blue   \n",
       "3  Chevrolet Camaro  34200.0  2016  46900.0  Silver   \n",
       "4        Mazda CX-5  27800.0  2014  82100.0   White   \n",
       "\n",
       "                           date  location  \n",
       "0 2021-01-01 00:00:00.000000000  New York  \n",
       "1 2021-01-01 08:44:41.081081081     Miami  \n",
       "2 2021-01-01 17:29:22.162162162  New York  \n",
       "3 2021-01-02 02:14:03.243243243   Chicago  \n",
       "4 2021-01-02 10:58:44.324324324   Chicago  "
      ]
     },
     "execution_count": 682,
     "metadata": {},
     "output_type": "execute_result"
    }
   ],
   "source": [
    "np.random.seed(9)\n",
    "# Сгенерируем название моделей автомобилей случайным образом\n",
    "car_models = ['Toyota Corolla', 'Honda Civic', 'Ford Mustang', 'Chevrolet Camaro',\n",
    "              'Mazda CX-5', 'Subaru Outback', 'Audi A4', 'BMW X1', 'Mercedes-Benz C-Class']\n",
    "np.random.shuffle(car_models)\n",
    "\n",
    "# Генерируем 1000 случайных продаж\n",
    "sales_dates = pd.date_range(start='2021-01-01', end='2021-12-31', periods=1000)\n",
    "df = pd.DataFrame({\n",
    "    'model': np.random.choice(car_models, size=1000, replace=True),\n",
    "    'price': np.round(np.random.normal(30000, 10000, size=1000), -2),\n",
    "    'year': np.random.randint(low=2010, high=2022, size=1000),\n",
    "    'mileage': np.round(np.random.normal(50000, 20000, size=1000), -2),\n",
    "    'color': np.random.choice(['Red', 'Blue', 'Black', 'White', 'Silver'], size=1000, replace=True),\n",
    "    'date': sales_dates,\n",
    "    'location': np.random.choice(['New York', 'Los Angeles', 'Chicago', 'Houston', 'Miami'], size=1000)\n",
    "})\n",
    "df.head()"
   ]
  },
  {
   "cell_type": "code",
   "execution_count": 683,
   "metadata": {},
   "outputs": [
    {
     "name": "stdout",
     "output_type": "stream",
     "text": [
      "model\n",
      "Chevrolet Camaro          93\n",
      "Subaru Outback           101\n",
      "Honda Civic              107\n",
      "Toyota Corolla           108\n",
      "Mercedes-Benz C-Class    114\n",
      "BMW X1                   117\n",
      "Mazda CX-5               118\n",
      "Audi A4                  120\n",
      "Ford Mustang             122\n",
      "Name: count, dtype: int64\n",
      "['Audi A4', 'BMW X1', 'Chevrolet Camaro', 'Ford Mustang', 'Honda Civic', 'Mazda CX-5', 'Mercedes-Benz C-Class', 'Subaru Outback', 'Toyota Corolla']\n",
      "Ford Mustang\n"
     ]
    }
   ],
   "source": [
    "s = df['model'].value_counts()\n",
    "s = s.sort_values()\n",
    "\n",
    "print(s)\n",
    "print(sorted(df['model'].unique()))\n",
    "print(s.idxmax())"
   ]
  },
  {
   "cell_type": "markdown",
   "metadata": {},
   "source": [
    "# 5.1.1 Основы работы с функцией read_csv()"
   ]
  },
  {
   "cell_type": "code",
   "execution_count": 684,
   "metadata": {},
   "outputs": [],
   "source": [
    "# df = pd.read_csv('data.csv')\n",
    "# Параметры:\n",
    "# header - определение заголовка (infer - по умолчанию, None, число)\n",
    "# sep - разделитель столбцов\n",
    "# encoding - указание кодировки, используемой при чтении файла CSV (utf-8, latin-1, utf-16, cp1252)\n",
    "# names - используется для явного указания имен столбцов (df = pd.read_csv('data.csv', names=['Имя', 'Возраст', 'Город']))\n",
    "# index_col - используется для указания столбца, который следует использовать в качестве индекса (индекс, название столбца, список столбцов)\n",
    "# skiprows - используется для пропуска определенного числа строк при чтении файла CSV (kiprows=3, skiprows=[0, 2])\n",
    "# skipfooter - используется для пропуска определенного числа строк в конце файла CSV при чтении\n",
    "# na_values - используется для указания значений, которые следует рассматривать как пропущенные данные (NA, NaN, null) при чтении файла CSV \n",
    "# (строка - na_values='NA' или na_values='NA, --, NULL'; список - na_values=['NA', '--', 'NULL']; na_values={'column1': ['NA', '--'], 'column2': ['NULL']})\n"
   ]
  },
  {
   "cell_type": "markdown",
   "metadata": {},
   "source": [
    "# 5.1.2 Парсинг дат с помощью функции read_csv()"
   ]
  },
  {
   "cell_type": "code",
   "execution_count": 685,
   "metadata": {},
   "outputs": [],
   "source": [
    "# parse_dates - для парсинга даты\n",
    "\n",
    "# df = pd.read_csv(\"file.csv\", parse_dates=[\"date\"])\n",
    "\n",
    "# df = pd.read_csv(\"file.csv\", parse_dates=[\"date\", \"time\"])\n",
    "\n",
    "# df = pd.read_csv(\"file.csv\", parse_dates=[\"date\"], \n",
    "#      date_parser=lambda x: datetime.strptime(x, '%Y-%m-%d-%H-%M-%S'))\n",
    "\n",
    "# pd.to_datetime(arg[, format[, errors[, dayfirst[, yearfirst[, utc,box,unit, origin]]]]])"
   ]
  },
  {
   "cell_type": "code",
   "execution_count": 686,
   "metadata": {},
   "outputs": [],
   "source": [
    "# def custom_date_parser(date_str): \n",
    "#     return datetime.strptime(date_str, '%d-%m-%Y') \n",
    "# df = pd.read_csv('data.csv', parse_dates=['date'],date_parser=custom_date_parser)"
   ]
  },
  {
   "cell_type": "code",
   "execution_count": 687,
   "metadata": {},
   "outputs": [],
   "source": [
    "from datetime import datetime"
   ]
  },
  {
   "cell_type": "code",
   "execution_count": 688,
   "metadata": {},
   "outputs": [
    {
     "name": "stdout",
     "output_type": "stream",
     "text": [
      "2021-01-12 00:00:00\n"
     ]
    }
   ],
   "source": [
    "# Преобразование строки '12-01-2021' в объект datetime\n",
    "date_str = '12-01-2021'\n",
    "date_obj = datetime.strptime(date_str, '%d-%m-%Y')\n",
    "print(date_obj)"
   ]
  },
  {
   "cell_type": "code",
   "execution_count": 689,
   "metadata": {},
   "outputs": [
    {
     "name": "stdout",
     "output_type": "stream",
     "text": [
      "1900-01-01 09:45:00\n"
     ]
    }
   ],
   "source": [
    "# Преобразование строки '09:45:00' в объект datetime\n",
    "time_str = '09:45:00'\n",
    "time_obj = datetime.strptime(time_str, '%H:%M:%S')\n",
    "print(time_obj)"
   ]
  },
  {
   "cell_type": "code",
   "execution_count": 690,
   "metadata": {},
   "outputs": [
    {
     "name": "stdout",
     "output_type": "stream",
     "text": [
      "        date\n",
      "0 2020-01-01\n",
      "1 2020-01-02\n",
      "2 2020-01-03\n"
     ]
    }
   ],
   "source": [
    "df = pd.DataFrame({\"date\": [\"2020/01/01\", \"2020/01/02\", \"2020/01/03\"]})\n",
    "df[\"date\"] = pd.to_datetime(df[\"date\"])\n",
    "print(df)"
   ]
  },
  {
   "cell_type": "code",
   "execution_count": 691,
   "metadata": {},
   "outputs": [
    {
     "data": {
      "text/html": [
       "<div>\n",
       "<style scoped>\n",
       "    .dataframe tbody tr th:only-of-type {\n",
       "        vertical-align: middle;\n",
       "    }\n",
       "\n",
       "    .dataframe tbody tr th {\n",
       "        vertical-align: top;\n",
       "    }\n",
       "\n",
       "    .dataframe thead th {\n",
       "        text-align: right;\n",
       "    }\n",
       "</style>\n",
       "<table border=\"1\" class=\"dataframe\">\n",
       "  <thead>\n",
       "    <tr style=\"text-align: right;\">\n",
       "      <th></th>\n",
       "      <th>Дата</th>\n",
       "    </tr>\n",
       "  </thead>\n",
       "  <tbody>\n",
       "    <tr>\n",
       "      <th>0</th>\n",
       "      <td>10d11m2020</td>\n",
       "    </tr>\n",
       "    <tr>\n",
       "      <th>1</th>\n",
       "      <td>11d12m2020</td>\n",
       "    </tr>\n",
       "  </tbody>\n",
       "</table>\n",
       "</div>"
      ],
      "text/plain": [
       "         Дата\n",
       "0  10d11m2020\n",
       "1  11d12m2020"
      ]
     },
     "execution_count": 691,
     "metadata": {},
     "output_type": "execute_result"
    }
   ],
   "source": [
    "df = pd.DataFrame({'Дата': ['10d11m2020', '11d12m2020']})\n",
    "df"
   ]
  },
  {
   "cell_type": "code",
   "execution_count": 692,
   "metadata": {},
   "outputs": [
    {
     "data": {
      "text/html": [
       "<div>\n",
       "<style scoped>\n",
       "    .dataframe tbody tr th:only-of-type {\n",
       "        vertical-align: middle;\n",
       "    }\n",
       "\n",
       "    .dataframe tbody tr th {\n",
       "        vertical-align: top;\n",
       "    }\n",
       "\n",
       "    .dataframe thead th {\n",
       "        text-align: right;\n",
       "    }\n",
       "</style>\n",
       "<table border=\"1\" class=\"dataframe\">\n",
       "  <thead>\n",
       "    <tr style=\"text-align: right;\">\n",
       "      <th></th>\n",
       "      <th>Дата</th>\n",
       "    </tr>\n",
       "  </thead>\n",
       "  <tbody>\n",
       "    <tr>\n",
       "      <th>0</th>\n",
       "      <td>2020-11-10</td>\n",
       "    </tr>\n",
       "    <tr>\n",
       "      <th>1</th>\n",
       "      <td>2020-12-11</td>\n",
       "    </tr>\n",
       "  </tbody>\n",
       "</table>\n",
       "</div>"
      ],
      "text/plain": [
       "        Дата\n",
       "0 2020-11-10\n",
       "1 2020-12-11"
      ]
     },
     "execution_count": 692,
     "metadata": {},
     "output_type": "execute_result"
    }
   ],
   "source": [
    "df_date = df.copy()\n",
    "df_date['Дата'] = df_date['Дата'].apply(lambda x: f'{x[-4:]}-{x[3:5]}-{x[0:2]}')\n",
    "df_date['Дата'] = pd.to_datetime(df_date['Дата'])\n",
    "df_date"
   ]
  },
  {
   "cell_type": "code",
   "execution_count": 693,
   "metadata": {},
   "outputs": [
    {
     "data": {
      "text/html": [
       "<div>\n",
       "<style scoped>\n",
       "    .dataframe tbody tr th:only-of-type {\n",
       "        vertical-align: middle;\n",
       "    }\n",
       "\n",
       "    .dataframe tbody tr th {\n",
       "        vertical-align: top;\n",
       "    }\n",
       "\n",
       "    .dataframe thead th {\n",
       "        text-align: right;\n",
       "    }\n",
       "</style>\n",
       "<table border=\"1\" class=\"dataframe\">\n",
       "  <thead>\n",
       "    <tr style=\"text-align: right;\">\n",
       "      <th></th>\n",
       "      <th>Дата</th>\n",
       "    </tr>\n",
       "  </thead>\n",
       "  <tbody>\n",
       "    <tr>\n",
       "      <th>0</th>\n",
       "      <td>2020-11-10</td>\n",
       "    </tr>\n",
       "    <tr>\n",
       "      <th>1</th>\n",
       "      <td>2020-12-11</td>\n",
       "    </tr>\n",
       "  </tbody>\n",
       "</table>\n",
       "</div>"
      ],
      "text/plain": [
       "        Дата\n",
       "0 2020-11-10\n",
       "1 2020-12-11"
      ]
     },
     "execution_count": 693,
     "metadata": {},
     "output_type": "execute_result"
    }
   ],
   "source": [
    "df_date = df.copy()\n",
    "df_date['Дата'] = pd.to_datetime(df_date['Дата'],format='%dd%mm%Y')\n",
    "df_date"
   ]
  },
  {
   "cell_type": "code",
   "execution_count": 694,
   "metadata": {},
   "outputs": [],
   "source": [
    "# df = pd.read_csv('data.csv', sep='|', parse_dates=['Дата'], date_parser = lambda x: datetime.strptime(x, '%dd%mm%Y'))"
   ]
  },
  {
   "cell_type": "code",
   "execution_count": 695,
   "metadata": {},
   "outputs": [],
   "source": [
    "# df = pd.read_csv('data.csv', names=['Name', 'Дата1', 'Дата2', 'Age', 'Salary'], header=0)\n",
    "\n",
    "# df['Дата1'] = pd.to_datetime(df['Дата1'], format='%d/%m/%Y %H:%M')\n",
    "# df['Дата2'] = pd.to_datetime(df['Дата2'], format='%d-%m-%Y')\n",
    "\n",
    "# df = df.reindex(columns=['Дата1', 'Дата2', 'Name', 'Age', 'Salary'])\n",
    "\n",
    "# print(df.loc[int(input())])"
   ]
  },
  {
   "cell_type": "markdown",
   "metadata": {},
   "source": [
    "# 5.2 Файлы csv чтение, запись"
   ]
  },
  {
   "cell_type": "code",
   "execution_count": 696,
   "metadata": {},
   "outputs": [],
   "source": [
    "# Параметры метода pd.read_csv():\n",
    "\n",
    "# chunksize - чтение (и обработка по необходимости) по частям\n",
    "\n",
    "# filename = \"large_file.csv\" \n",
    "\n",
    "# chunksize = 1000 # Задаем размер части (куска) \n",
    "\n",
    "# # Считываем куски данных из файла \n",
    "# chunks = pd.read_csv(filename, chunksize=chunksize) \n",
    "\n",
    "# # Обрабатываем каждый кусок \n",
    "# for chunk in chunks: \n",
    "#     # Здесь можно выполнять любые операции обработки данных \n",
    "\n",
    "# print(chunk.head())"
   ]
  },
  {
   "cell_type": "code",
   "execution_count": 697,
   "metadata": {},
   "outputs": [],
   "source": [
    "# Оптимизация использования памяти\n",
    "\n",
    "# Явное указания типа данных в столбцах при чтении файла\n",
    "# pd.read_csv(\"large_file.csv\", dtype={\"category_column\": \"category\", \"nullable_column\": \"Int64\"})\n",
    "\n",
    "# pd.read_csv(\"large_file.csv\", dtype={'Name': str, 'Age': int, 'Height': float, 'Weight': float})"
   ]
  },
  {
   "cell_type": "code",
   "execution_count": 698,
   "metadata": {},
   "outputs": [],
   "source": [
    "# Запись данных в файл с помощью функции to_csv()\n",
    "\n",
    "# - path_or_buf: путь к сохраняемому файлу или файлоподобному объекту (file-like), если хотите сохранять данные в буфер памяти\n",
    "# - sep: разделитель для значений в CSV-файле. По умолчанию ','.\n",
    "# - header: указывает выводить ли заголовки колонок DataFrame в файл CSV. \n",
    "# Если True, заголовок будет выведен. Если False, заголовок не будет выведен. \n",
    "# Если передана последовательность строк, то он будет использован в качестве заголовков столбцов вместо отображения названий столбцов DataFrame. По умолчанию True.\n",
    "# - index: указывает выводить ли индексы в файл CSV. Если True, индексы будут выведены. Если False, индексы не будут выведены. По умолчанию True.\n",
    "# - mode: режим записи файла, поддерживаемые значения - 'w' (замена), 'a' (дозапись), 'x' (запись в новый файл). По умолчанию 'w'.\n",
    "# - encoding: кодировка выходного файла. По умолчанию 'utf-8'.\n",
    "# - line_terminator: строка завершения записи. По умолчанию, как на вашей системе '\\n'.\n",
    "# - date_format: формат даты и времени для записи, например, '%Y-%m-%d' для год-месяц-день. Если не указан, будут использоваться настройки базы данных и UTC для преобразования дат и времени.\n",
    "# - compression: Этот параметр позволяет выбрать тип сжатия, например, 'gzip' или 'bz2'. "
   ]
  },
  {
   "cell_type": "code",
   "execution_count": 699,
   "metadata": {},
   "outputs": [],
   "source": [
    "# Создаем DataFrame \n",
    "data = { 'Name': ['Alice', 'Bob', 'Carol'], 'Age': [30, 25, 40], \n",
    "         'Height': [155.2, 175.5, 163.8], 'Weight': [60.5, 80.2, 65.7] } \n",
    "df = pd.DataFrame(data) \n",
    "# Сохраняем DataFrame в файл CSV \n",
    "df.to_csv('data\\my_data.csv', index=False)"
   ]
  },
  {
   "cell_type": "code",
   "execution_count": 700,
   "metadata": {},
   "outputs": [
    {
     "name": "stdout",
     "output_type": "stream",
     "text": [
      "<class '_io.StringIO'>\n",
      "a,b,c\n",
      "1,4,7\n",
      "2,5,8\n",
      "3,6,9\n",
      "\n"
     ]
    }
   ],
   "source": [
    "# Сохранить DataFrame вместо файла (сохранение в буфер для дальнейшего использования)\n",
    "\n",
    "import io \n",
    "# Создаем DataFrame \n",
    "data = {'a': [1, 2, 3], 'b': [4, 5, 6], 'c': [7, 8, 9]} \n",
    "df = pd.DataFrame(data) \n",
    "# Сохраняем DataFrame в буфер памяти \n",
    "buffer = io.StringIO() \n",
    "df.to_csv(buffer, index=False) \n",
    "# Выводим содержимое буфера памяти в консоль \n",
    "print(type(buffer))\n",
    "print(buffer.getvalue())"
   ]
  },
  {
   "cell_type": "markdown",
   "metadata": {},
   "source": [
    "# 5.3 Функция pandas.read_table и pandas.read_json"
   ]
  },
  {
   "cell_type": "code",
   "execution_count": 701,
   "metadata": {},
   "outputs": [],
   "source": [
    "# pd.read_table - позволяет читать данные из различных форматов файлов. \n",
    "# Она может работать с текстовыми файлами CSV, TSV, TXT, а также с файлами Excel, JSON, HTML и другими.\n",
    "\n",
    "# Параметры:\n",
    "\n",
    "# - filepath_or_buffer: путь к файлу или объекту, содержащему данные для чтения. Этот параметр обязателен.\n",
    "# - sep: разделитель столбцов в файле. По умолчанию это ‘\\t’ - символ табуляции.\n",
    "# - delimiter: аналогичен предыдущему параметру.\n",
    "# - header: номер строки, содержащей имена столбцов. Если не задан, то имена автоматически будут сгенерированы.\n",
    "# - index_col: номер столбца, который будет использован в качестве индекса таблицы. Если не задан, то индекс будет сгенерирован автоматически.\n",
    "# - usecols: список столбцов, которые нужно загрузить в таблицу. Если не задан, то загружаются все столбцы.\n",
    "# - dtype: словарь, указывающий тип данных для каждого столбца. Если не задан, то pandas попытается определить типы данных автоматически.\n",
    "# - na_values: список значений, которые следует считать отсутствующими в данных.\n",
    "# - parse_dates: список столбцов, содержащих даты, которые должны быть преобразованы в тип данных pandas datetime.\n",
    "# - skiprows: количество строк, которые нужно пропустить в начале файла.\n",
    "# - nrows: количество строк, которые нужно загрузить из файла."
   ]
  },
  {
   "cell_type": "code",
   "execution_count": 702,
   "metadata": {},
   "outputs": [],
   "source": [
    "# pd.read_json() - загрузка данных из JSON файлов\n",
    "\n",
    "# JSON (JavaScript Object Notation) - формат обмена данными, основанный на JavaScript. \n",
    "# Он представляет собой легкий, текстовый формат, который используется для хранения и передачи данных между клиентом и сервером. \n",
    "# Файлы в формате JSON имеют расширение - .json\n",
    "\n",
    "# Параметры:\n",
    "\n",
    "# - path_or_buf: имя файла или фалоподобного объекта (например URL-адрес файла из сети Интернет), из которого нужно загрузить данные.\n",
    "# - orient: определяет ориентацию таблицы (Указывает ожидаемый формата строки JSON). \n",
    "# Возможные значения, например: 'split', 'records', 'index', 'columns', 'values'. По умолчанию ориентация определяется автоматически.\n",
    "# - typ: определяет тип объекта, который нужно создать. Может принимать значения: 'frame', 'series'.\n",
    "# - convert_dates: определяет нужно ли конвертировать значения в формат datetime.\n",
    "# и многие другие (см. страницу официальной документации)."
   ]
  },
  {
   "cell_type": "code",
   "execution_count": 703,
   "metadata": {},
   "outputs": [],
   "source": [
    "# Использование параметра orient:\n",
    "\n",
    "# orient='columns' - каждый ключ верхнего уровня в JSON-файле соответствует столбцу в DataFrame, а значения - это данные в соответствующих столбцах\n",
    "# orient='index' - каждый ключ верхнего уровня в JSON-файле соответствует индексу в DataFrame, а значения - это данные в соответствующих строках\n",
    "# orient='records' - каждый объект в JSON-файле представляет собой отдельную запись (строку) в DataFrame\n",
    "# orient='values' - содержит только значения данных без ключей или индексов\n",
    "# orient='split' - данные разделены на отдельные части ({\"columns\":[\"col 1\",\"col 2\"],\"index\":[\"row 1\",\"row 2\"],\"data\":[[\"a\",\"b\"],[\"c\",\"d\"]]})"
   ]
  },
  {
   "cell_type": "code",
   "execution_count": 704,
   "metadata": {},
   "outputs": [
    {
     "name": "stdout",
     "output_type": "stream",
     "text": [
      "tld cca2 ccn3 cioc unMember cca3\n"
     ]
    }
   ],
   "source": [
    "url = 'https://raw.githubusercontent.com/mledoze/countries/master/countries.json'\n",
    "\n",
    "df = pd.read_json(url)\n",
    "\n",
    "print(*df.columns[[1, 2, 3, 5, 8, 4]])"
   ]
  },
  {
   "cell_type": "markdown",
   "metadata": {},
   "source": [
    "# 5.4 Парсинг табличных данных из html и xml"
   ]
  },
  {
   "cell_type": "code",
   "execution_count": 705,
   "metadata": {},
   "outputs": [],
   "source": [
    "# read_html()\n",
    "# Исользуется для загрузки данных таблиц из HTML-файлов, HTML-страниц или HTML-кода и преобразования их в объекты DataFrame.\n",
    "# Функция read_html() использует парсеры HTML (такие как lxml или beautifulsoup4), чтобы анализировать HTML-код и находить таблицы."
   ]
  },
  {
   "cell_type": "code",
   "execution_count": 706,
   "metadata": {},
   "outputs": [],
   "source": [
    "# Внутри read_html() происходит следующий процесс:\n",
    "\n",
    "# Функция получает HTML-код из указанного источника (файл, URL или HTML-строка).\n",
    "# Используя выбранный парсер (по умолчанию это lxml), read_html() анализирует HTML-код и создает объекты, представляющие структуру документа.\n",
    "# Затем read_html() применяет соответствующие правила и эвристики для определения, какие части HTML-кода считать таблицами.\n",
    "# Функция ищет теги <table> в HTML-коде и анализирует их содержимое, чтобы создать объекты DataFrame, представляющие таблицы.\n",
    "# Если в HTML-коде присутствует несколько таблиц, read_html() возвращает список объектов DataFrame, каждый из которых соответствует одной таблице."
   ]
  },
  {
   "cell_type": "code",
   "execution_count": 707,
   "metadata": {},
   "outputs": [],
   "source": [
    "# pandas.read_html(io, match='.+', flavor=None, header=None, \n",
    "# index_col=None, skiprows=None, attrs=None, parse_dates=False, \n",
    "# thousands=',', encoding=None, decimal='.', converters=None, \n",
    "# na_values=None, keep_default_na=True, displayed_only=True)\n",
    "\n",
    "# Параметры:\n",
    "\n",
    "# io: Обязательный параметр. Может быть путем к HTML-файлу, URL-адресом или объектом, содержащим HTML-код.\n",
    "# match: По умолчанию \".+\". Определяет регулярное выражение для поиска таблиц в HTML-коде. По умолчанию найдутся все таблицы.\n",
    "# flavor: По умолчанию None. Указывает на используемую библиотеку для парсинга HTML. Допустимые значения: 'bs4' (BeautifulSoup 4) и 'lxml'.\n",
    "# header: По умолчанию None. Указывает номер строки для использования в качестве заголовков столбцов. Если не указано, заголовки будут автоматически определены.\n",
    "# index_col: По умолчанию None. Указывает номер столбца для использования в качестве индекса строк. Если не указано, индексы строк будут автоматически определены.\n",
    "# skiprows: По умолчанию None. Указывает номера строк для пропуска при загрузке таблицы.\n",
    "# attrs: По умолчанию None. Список атрибутов HTML-тега для использования в качестве фильтра при поиске таблиц.\n",
    "# parse_dates: По умолчанию False. Указывает, нужно ли парсить значения столбцов как даты.\n",
    "# thousands: По умолчанию ','. Определяет разделитель тысячных.\n",
    "# encoding: По умолчанию None. Указывает кодировку файла.\n",
    "# decimal: По умолчанию '.'. Определяет символ десятичного разделителя.\n",
    "# converters: По умолчанию None. Словарь, который определяет пользовательские функции преобразования для столбцов.\n",
    "# na_values: По умолчанию None. Список значений, которые должны быть распознаны как пропущенные значения.\n",
    "# keep_default_na: По умолчанию True. Определяет, должны ли использоваться значения по умолчанию для распознавания пропущенных значений.\n",
    "# displayed_only: По умолчанию True. Указывает, следует ли извлекать только видимые данные таблицы."
   ]
  },
  {
   "cell_type": "code",
   "execution_count": 708,
   "metadata": {},
   "outputs": [],
   "source": [
    "# Некоторые из популярных парсеров HTML в языке программирования Python:\n",
    "\n",
    "# lxml: Это быстрый и гибкий парсер, основанный на библиотеке C для обработки XML и HTML. \n",
    "# Он предоставляет API для поиска и извлечения данных из HTML-кода, а также для внесения изменений в структуру документа. \n",
    "# Библиотека lxml широко используется в Python для парсинга HTML-кода.\n",
    "\n",
    "# Beautiful Soup: Это библиотека Python, предназначенная для извлечения данных из HTML и XML. \n",
    "# Она предоставляет простой и интуитивно понятный API, который позволяет выполнять поиск и манипулирование элементами HTML-кода. \n",
    "# Beautiful Soup поддерживает разные парсеры, включая lxml, html.parser, html5lib и другие.\n",
    "\n",
    "# html.parser: Это встроенный в стандартную библиотеку Python парсер HTML. \n",
    "# Он реализован на языке Python и обеспечивает базовые функции для анализа и обработки HTML-кода. \n",
    "# В отличие от некоторых других парсеров, html.parser не требует дополнительной установки."
   ]
  },
  {
   "cell_type": "code",
   "execution_count": 709,
   "metadata": {},
   "outputs": [],
   "source": [
    "# Загрузка данных из локального HTML-файла:\n",
    "\n",
    "# table_data = pd.read_html('путь_к_файлу.html')\n",
    "# data_frame = table_data[0]\n",
    "# print(data_frame.head())"
   ]
  },
  {
   "cell_type": "code",
   "execution_count": 710,
   "metadata": {},
   "outputs": [],
   "source": [
    "# Загрузка данных из HTML-страницы по URL-адресу:\n",
    "\n",
    "# url = 'https://www.example.com/table.html'\n",
    "# table_data = pd.read_html(url)\n",
    "# data_frame = table_data[0]\n",
    "# print(data_frame.head())"
   ]
  },
  {
   "cell_type": "code",
   "execution_count": 711,
   "metadata": {},
   "outputs": [],
   "source": [
    "# Загрузка данных с использованием фильтра атрибутов HTML-тега:\n",
    "\n",
    "# url = 'https://www.example.com/table.html'\n",
    "# table_data = pd.read_html(url, attrs={'class': 'table-class'})\n",
    "# data_frame = table_data[0]\n",
    "# print(data_frame.head())"
   ]
  },
  {
   "cell_type": "code",
   "execution_count": 712,
   "metadata": {},
   "outputs": [],
   "source": [
    "# Загрузка данных с парсингом дат и пользовательскими функциями преобразования:\n",
    "\n",
    "# table_data = pd.read_html('путь_к_файлу.html', parse_dates=True, converters={'column_name': pd.to_numeric})\n",
    "# data_frame = table_data[0]\n",
    "# print(data_frame.head())"
   ]
  },
  {
   "cell_type": "code",
   "execution_count": 713,
   "metadata": {},
   "outputs": [
    {
     "data": {
      "text/html": [
       "<div>\n",
       "<style scoped>\n",
       "    .dataframe tbody tr th:only-of-type {\n",
       "        vertical-align: middle;\n",
       "    }\n",
       "\n",
       "    .dataframe tbody tr th {\n",
       "        vertical-align: top;\n",
       "    }\n",
       "\n",
       "    .dataframe thead th {\n",
       "        text-align: right;\n",
       "    }\n",
       "</style>\n",
       "<table border=\"1\" class=\"dataframe\">\n",
       "  <thead>\n",
       "    <tr style=\"text-align: right;\">\n",
       "      <th></th>\n",
       "      <th>Имя</th>\n",
       "      <th>Возраст</th>\n",
       "      <th>Город</th>\n",
       "    </tr>\n",
       "  </thead>\n",
       "  <tbody>\n",
       "    <tr>\n",
       "      <th>0</th>\n",
       "      <td>Анна</td>\n",
       "      <td>25</td>\n",
       "      <td>Москва</td>\n",
       "    </tr>\n",
       "    <tr>\n",
       "      <th>1</th>\n",
       "      <td>Иван</td>\n",
       "      <td>30</td>\n",
       "      <td>Санкт-Петербург</td>\n",
       "    </tr>\n",
       "    <tr>\n",
       "      <th>2</th>\n",
       "      <td>Мария</td>\n",
       "      <td>35</td>\n",
       "      <td>Киев</td>\n",
       "    </tr>\n",
       "    <tr>\n",
       "      <th>3</th>\n",
       "      <td>Анна</td>\n",
       "      <td>25</td>\n",
       "      <td>Москва</td>\n",
       "    </tr>\n",
       "    <tr>\n",
       "      <th>4</th>\n",
       "      <td>Иван</td>\n",
       "      <td>30</td>\n",
       "      <td>Санкт-Петербург</td>\n",
       "    </tr>\n",
       "  </tbody>\n",
       "</table>\n",
       "</div>"
      ],
      "text/plain": [
       "     Имя  Возраст            Город\n",
       "0   Анна       25           Москва\n",
       "1   Иван       30  Санкт-Петербург\n",
       "2  Мария       35             Киев\n",
       "3   Анна       25           Москва\n",
       "4   Иван       30  Санкт-Петербург"
      ]
     },
     "execution_count": 713,
     "metadata": {},
     "output_type": "execute_result"
    }
   ],
   "source": [
    "df = pd.read_html('data\\data.html', encoding='utf-8')\n",
    "df1 = df[0]\n",
    "df1.head()"
   ]
  },
  {
   "cell_type": "code",
   "execution_count": 714,
   "metadata": {},
   "outputs": [
    {
     "data": {
      "text/plain": [
       "900"
      ]
     },
     "execution_count": 714,
     "metadata": {},
     "output_type": "execute_result"
    }
   ],
   "source": [
    "df1['Возраст'].sum()"
   ]
  },
  {
   "cell_type": "code",
   "execution_count": 715,
   "metadata": {},
   "outputs": [],
   "source": [
    "# df = pd.read_html('data\\data2.html', attrs={'class': 'table2'}, encoding='utf-8')\n",
    "\n",
    "# df"
   ]
  },
  {
   "cell_type": "code",
   "execution_count": 719,
   "metadata": {},
   "outputs": [
    {
     "data": {
      "text/html": [
       "<div>\n",
       "<style scoped>\n",
       "    .dataframe tbody tr th:only-of-type {\n",
       "        vertical-align: middle;\n",
       "    }\n",
       "\n",
       "    .dataframe tbody tr th {\n",
       "        vertical-align: top;\n",
       "    }\n",
       "\n",
       "    .dataframe thead th {\n",
       "        text-align: right;\n",
       "    }\n",
       "</style>\n",
       "<table border=\"1\" class=\"dataframe\">\n",
       "  <thead>\n",
       "    <tr style=\"text-align: right;\">\n",
       "      <th></th>\n",
       "      <th>1</th>\n",
       "      <th>2</th>\n",
       "      <th>3</th>\n",
       "      <th>4</th>\n",
       "      <th>5</th>\n",
       "      <th>6</th>\n",
       "      <th>7</th>\n",
       "      <th>8</th>\n",
       "      <th>9</th>\n",
       "      <th>10</th>\n",
       "      <th>11</th>\n",
       "      <th>12</th>\n",
       "    </tr>\n",
       "    <tr>\n",
       "      <th>0</th>\n",
       "      <th></th>\n",
       "      <th></th>\n",
       "      <th></th>\n",
       "      <th></th>\n",
       "      <th></th>\n",
       "      <th></th>\n",
       "      <th></th>\n",
       "      <th></th>\n",
       "      <th></th>\n",
       "      <th></th>\n",
       "      <th></th>\n",
       "      <th></th>\n",
       "    </tr>\n",
       "  </thead>\n",
       "  <tbody>\n",
       "    <tr>\n",
       "      <th>Afghanistan</th>\n",
       "      <td>0.2</td>\n",
       "      <td>0.3</td>\n",
       "      <td>0.3</td>\n",
       "      <td>0.2</td>\n",
       "      <td>0.1</td>\n",
       "      <td>0.2</td>\n",
       "      <td>0.1</td>\n",
       "      <td>0.1</td>\n",
       "      <td>0.2</td>\n",
       "      <td>0.2</td>\n",
       "      <td>..</td>\n",
       "      <td>NaN</td>\n",
       "    </tr>\n",
       "    <tr>\n",
       "      <th>Albania</th>\n",
       "      <td>1.5</td>\n",
       "      <td>1.7</td>\n",
       "      <td>1.5</td>\n",
       "      <td>1.5</td>\n",
       "      <td>1.7</td>\n",
       "      <td>1.6</td>\n",
       "      <td>1.6</td>\n",
       "      <td>1.8</td>\n",
       "      <td>1.8</td>\n",
       "      <td>1.7</td>\n",
       "      <td>..</td>\n",
       "      <td>NaN</td>\n",
       "    </tr>\n",
       "    <tr>\n",
       "      <th>Algeria</th>\n",
       "      <td>3.2</td>\n",
       "      <td>3.3</td>\n",
       "      <td>3.6</td>\n",
       "      <td>3.6</td>\n",
       "      <td>3.8</td>\n",
       "      <td>3.9</td>\n",
       "      <td>3.8</td>\n",
       "      <td>3.8</td>\n",
       "      <td>3.9</td>\n",
       "      <td>4.0</td>\n",
       "      <td>..</td>\n",
       "      <td>NaN</td>\n",
       "    </tr>\n",
       "    <tr>\n",
       "      <th>American Samoa</th>\n",
       "      <td>..</td>\n",
       "      <td>..</td>\n",
       "      <td>..</td>\n",
       "      <td>..</td>\n",
       "      <td>..</td>\n",
       "      <td>..</td>\n",
       "      <td>..</td>\n",
       "      <td>..</td>\n",
       "      <td>..</td>\n",
       "      <td>..</td>\n",
       "      <td>..</td>\n",
       "      <td>NaN</td>\n",
       "    </tr>\n",
       "    <tr>\n",
       "      <th>Andorra</th>\n",
       "      <td>6.2</td>\n",
       "      <td>5.9</td>\n",
       "      <td>5.9</td>\n",
       "      <td>5.9</td>\n",
       "      <td>5.8</td>\n",
       "      <td>6.0</td>\n",
       "      <td>6.1</td>\n",
       "      <td>6.1</td>\n",
       "      <td>6.4</td>\n",
       "      <td>6.5</td>\n",
       "      <td>..</td>\n",
       "      <td>NaN</td>\n",
       "    </tr>\n",
       "  </tbody>\n",
       "</table>\n",
       "</div>"
      ],
      "text/plain": [
       "                 1    2    3    4    5    6    7    8    9    10  11  12\n",
       "0                                                                       \n",
       "Afghanistan     0.2  0.3  0.3  0.2  0.1  0.2  0.1  0.1  0.2  0.2  .. NaN\n",
       "Albania         1.5  1.7  1.5  1.5  1.7  1.6  1.6  1.8  1.8  1.7  .. NaN\n",
       "Algeria         3.2  3.3  3.6  3.6  3.8  3.9  3.8  3.8  3.9  4.0  .. NaN\n",
       "American Samoa   ..   ..   ..   ..   ..   ..   ..   ..   ..   ..  .. NaN\n",
       "Andorra         6.2  5.9  5.9  5.9  5.8  6.0  6.1  6.1  6.4  6.5  .. NaN"
      ]
     },
     "execution_count": 719,
     "metadata": {},
     "output_type": "execute_result"
    }
   ],
   "source": [
    "url = 'https://databank.worldbank.org/id/918b8899?Report_Name=SDGs'\n",
    "\n",
    "df = pd.read_html(io=url, attrs={'id': 'grdTableView_DXMainTable'}, index_col=0, skiprows=1)\n",
    "df_co = df[0]\n",
    "df_co.head()"
   ]
  },
  {
   "cell_type": "code",
   "execution_count": 720,
   "metadata": {},
   "outputs": [
    {
     "data": {
      "text/html": [
       "<div>\n",
       "<style scoped>\n",
       "    .dataframe tbody tr th:only-of-type {\n",
       "        vertical-align: middle;\n",
       "    }\n",
       "\n",
       "    .dataframe tbody tr th {\n",
       "        vertical-align: top;\n",
       "    }\n",
       "\n",
       "    .dataframe thead th {\n",
       "        text-align: right;\n",
       "    }\n",
       "</style>\n",
       "<table border=\"1\" class=\"dataframe\">\n",
       "  <thead>\n",
       "    <tr style=\"text-align: right;\">\n",
       "      <th></th>\n",
       "      <th>1</th>\n",
       "      <th>2</th>\n",
       "      <th>3</th>\n",
       "      <th>4</th>\n",
       "      <th>5</th>\n",
       "      <th>6</th>\n",
       "      <th>7</th>\n",
       "      <th>8</th>\n",
       "      <th>9</th>\n",
       "      <th>10</th>\n",
       "      <th>11</th>\n",
       "      <th>12</th>\n",
       "    </tr>\n",
       "    <tr>\n",
       "      <th>0</th>\n",
       "      <th></th>\n",
       "      <th></th>\n",
       "      <th></th>\n",
       "      <th></th>\n",
       "      <th></th>\n",
       "      <th></th>\n",
       "      <th></th>\n",
       "      <th></th>\n",
       "      <th></th>\n",
       "      <th></th>\n",
       "      <th></th>\n",
       "      <th></th>\n",
       "    </tr>\n",
       "  </thead>\n",
       "  <tbody>\n",
       "    <tr>\n",
       "      <th>Afghanistan</th>\n",
       "      <td>0.2</td>\n",
       "      <td>0.3</td>\n",
       "      <td>0.3</td>\n",
       "      <td>0.2</td>\n",
       "      <td>0.1</td>\n",
       "      <td>0.2</td>\n",
       "      <td>0.1</td>\n",
       "      <td>0.1</td>\n",
       "      <td>0.2</td>\n",
       "      <td>0.2</td>\n",
       "      <td>..</td>\n",
       "      <td>NaN</td>\n",
       "    </tr>\n",
       "    <tr>\n",
       "      <th>Argentina</th>\n",
       "      <td>4.1</td>\n",
       "      <td>4.3</td>\n",
       "      <td>4.3</td>\n",
       "      <td>4.3</td>\n",
       "      <td>4.2</td>\n",
       "      <td>4.3</td>\n",
       "      <td>4.2</td>\n",
       "      <td>4.1</td>\n",
       "      <td>4.0</td>\n",
       "      <td>3.7</td>\n",
       "      <td>..</td>\n",
       "      <td>NaN</td>\n",
       "    </tr>\n",
       "    <tr>\n",
       "      <th>Australia</th>\n",
       "      <td>17.6</td>\n",
       "      <td>17.3</td>\n",
       "      <td>17.0</td>\n",
       "      <td>16.4</td>\n",
       "      <td>15.8</td>\n",
       "      <td>15.9</td>\n",
       "      <td>15.9</td>\n",
       "      <td>15.8</td>\n",
       "      <td>15.5</td>\n",
       "      <td>15.2</td>\n",
       "      <td>..</td>\n",
       "      <td>NaN</td>\n",
       "    </tr>\n",
       "    <tr>\n",
       "      <th>China</th>\n",
       "      <td>6.3</td>\n",
       "      <td>6.9</td>\n",
       "      <td>7.0</td>\n",
       "      <td>7.3</td>\n",
       "      <td>7.3</td>\n",
       "      <td>7.1</td>\n",
       "      <td>7.1</td>\n",
       "      <td>7.2</td>\n",
       "      <td>7.5</td>\n",
       "      <td>7.6</td>\n",
       "      <td>..</td>\n",
       "      <td>NaN</td>\n",
       "    </tr>\n",
       "    <tr>\n",
       "      <th>Colombia</th>\n",
       "      <td>1.4</td>\n",
       "      <td>1.5</td>\n",
       "      <td>1.5</td>\n",
       "      <td>1.7</td>\n",
       "      <td>1.7</td>\n",
       "      <td>1.7</td>\n",
       "      <td>1.7</td>\n",
       "      <td>1.5</td>\n",
       "      <td>1.6</td>\n",
       "      <td>1.6</td>\n",
       "      <td>..</td>\n",
       "      <td>NaN</td>\n",
       "    </tr>\n",
       "  </tbody>\n",
       "</table>\n",
       "</div>"
      ],
      "text/plain": [
       "               1     2     3     4     5     6     7     8     9     10  11  \\\n",
       "0                                                                             \n",
       "Afghanistan   0.2   0.3   0.3   0.2   0.1   0.2   0.1   0.1   0.2   0.2  ..   \n",
       "Argentina     4.1   4.3   4.3   4.3   4.2   4.3   4.2   4.1   4.0   3.7  ..   \n",
       "Australia    17.6  17.3  17.0  16.4  15.8  15.9  15.9  15.8  15.5  15.2  ..   \n",
       "China         6.3   6.9   7.0   7.3   7.3   7.1   7.1   7.2   7.5   7.6  ..   \n",
       "Colombia      1.4   1.5   1.5   1.7   1.7   1.7   1.7   1.5   1.6   1.6  ..   \n",
       "\n",
       "             12  \n",
       "0                \n",
       "Afghanistan NaN  \n",
       "Argentina   NaN  \n",
       "Australia   NaN  \n",
       "China       NaN  \n",
       "Colombia    NaN  "
      ]
     },
     "execution_count": 720,
     "metadata": {},
     "output_type": "execute_result"
    }
   ],
   "source": [
    "df_co = df_co.loc[['Afghanistan',  'Argentina',  'Australia',  'China',  'Colombia']]\n",
    "df_co"
   ]
  },
  {
   "cell_type": "code",
   "execution_count": 725,
   "metadata": {},
   "outputs": [
    {
     "data": {
      "text/plain": [
       "1     0.2\n",
       "2     0.3\n",
       "3     0.3\n",
       "4     0.2\n",
       "5     0.1\n",
       "6     0.2\n",
       "7     0.1\n",
       "8     0.1\n",
       "9     0.2\n",
       "10    0.2\n",
       "11     ..\n",
       "12    NaN\n",
       "Name: Afghanistan, dtype: object"
      ]
     },
     "execution_count": 725,
     "metadata": {},
     "output_type": "execute_result"
    }
   ],
   "source": [
    "df_co.loc['Afghanistan']"
   ]
  },
  {
   "cell_type": "code",
   "execution_count": null,
   "metadata": {},
   "outputs": [],
   "source": []
  },
  {
   "cell_type": "code",
   "execution_count": null,
   "metadata": {},
   "outputs": [],
   "source": []
  }
 ],
 "metadata": {
  "kernelspec": {
   "display_name": "base",
   "language": "python",
   "name": "python3"
  },
  "language_info": {
   "codemirror_mode": {
    "name": "ipython",
    "version": 3
   },
   "file_extension": ".py",
   "mimetype": "text/x-python",
   "name": "python",
   "nbconvert_exporter": "python",
   "pygments_lexer": "ipython3",
   "version": "3.11.5"
  }
 },
 "nbformat": 4,
 "nbformat_minor": 2
}
