{
 "cells": [
  {
   "cell_type": "code",
   "execution_count": 106,
   "metadata": {},
   "outputs": [],
   "source": [
    "import pandas as pd\n",
    "import numpy as np"
   ]
  },
  {
   "cell_type": "markdown",
   "metadata": {},
   "source": [
    "# 2.2 Объект Series в Pandas и его создание"
   ]
  },
  {
   "cell_type": "code",
   "execution_count": 107,
   "metadata": {},
   "outputs": [
    {
     "name": "stdout",
     "output_type": "stream",
     "text": [
      "0    1\n",
      "1    2\n",
      "2    3\n",
      "3    4\n",
      "4    5\n",
      "dtype: int64\n",
      "z    1\n",
      "x    2\n",
      "c    3\n",
      "v    4\n",
      "b    5\n",
      "dtype: int32\n",
      "a    1\n",
      "b    2\n",
      "c    3\n",
      "d    4\n",
      "e    5\n",
      "dtype: int64\n",
      "0    (1, a)\n",
      "1    (2, b)\n",
      "2    (3, c)\n",
      "dtype: object\n",
      "a    5\n",
      "b    5\n",
      "c    5\n",
      "dtype: int64\n"
     ]
    }
   ],
   "source": [
    "# создание объекта Series из списка\n",
    "my_list = [1, 2, 3, 4, 5]\n",
    "s = pd.Series(my_list)\n",
    "print(s)\n",
    "\n",
    "# создание объекта Series из массива NumPy\n",
    "my_array = np.array([1, 2, 3, 4, 5])\n",
    "s = pd.Series(my_array, list('zxcvb'))\n",
    "print(s)\n",
    "\n",
    "# создание объекта Series из словаря Python\n",
    "my_dict = {'a': 1, 'b': 2, 'c': 3, 'd': 4, 'e': 5}\n",
    "s = pd.Series(my_dict)\n",
    "print(s)\n",
    "\n",
    "# создание объекта Series из списка кортежей\n",
    "s = pd.Series([(1, 'a'), (2, 'b'), (3, 'c')])\n",
    "print(s)\n",
    "\n",
    "# создание объекта Series из скалярного значения\n",
    "s = pd.Series(5, index=['a', 'b', 'c'])\n",
    "print(s)\n"
   ]
  },
  {
   "cell_type": "code",
   "execution_count": 108,
   "metadata": {},
   "outputs": [
    {
     "name": "stdout",
     "output_type": "stream",
     "text": [
      "0    1\n",
      "1    2\n",
      "2    3\n",
      "dtype: int64\n"
     ]
    }
   ],
   "source": [
    "# создание объекта Series\n",
    "s1 = pd.Series([1, 2, 3])\n",
    "\n",
    "# создание нового объекта Series на основе существующего\n",
    "s2 = pd.Series(s1)\n",
    "print(s2)"
   ]
  },
  {
   "cell_type": "code",
   "execution_count": 109,
   "metadata": {},
   "outputs": [
    {
     "data": {
      "text/plain": [
       "1    1\n",
       "2    2\n",
       "3    3\n",
       "dtype: int64"
      ]
     },
     "execution_count": 109,
     "metadata": {},
     "output_type": "execute_result"
    }
   ],
   "source": [
    "s = pd.Series([1, 2, 3], {1, 2, 3})\n",
    "s = pd.Series([1, 2, 3], (1, 2, 3))\n",
    "s = pd.Series([1, 2, 3], [1, 2, 3])\n",
    "s"
   ]
  },
  {
   "cell_type": "code",
   "execution_count": 110,
   "metadata": {},
   "outputs": [
    {
     "name": "stdout",
     "output_type": "stream",
     "text": [
      "a    1\n",
      "b    4\n",
      "c    6\n",
      "dtype: int64\n"
     ]
    }
   ],
   "source": [
    "print(__import__('pandas').Series(dict(zip('abc', [1, 4, 6, 2]))))"
   ]
  },
  {
   "cell_type": "code",
   "execution_count": 111,
   "metadata": {},
   "outputs": [
    {
     "name": "stdout",
     "output_type": "stream",
     "text": [
      "a    1\n",
      "b    2\n",
      "c    3\n",
      "d    4\n",
      "f    5\n",
      "dtype: int32\n"
     ]
    }
   ],
   "source": [
    "arr = [1, 2, 3, 4, 5]\n",
    "\n",
    "print(pd.Series(np.array(arr), [*'abcdf']))"
   ]
  },
  {
   "cell_type": "code",
   "execution_count": 112,
   "metadata": {},
   "outputs": [
    {
     "data": {
      "text/plain": [
       "0    (1, a)\n",
       "1    (2, b)\n",
       "2    (3, c)\n",
       "dtype: object"
      ]
     },
     "execution_count": 112,
     "metadata": {},
     "output_type": "execute_result"
    }
   ],
   "source": [
    "# a = tuple((i, j) for i, j in zip(list(map(str, input().split())), list(map(int, input().split()))))\n",
    "a = tuple((i, j) for i, j in zip([1, 2, 3], list('abc')))\n",
    "pd.Series(a)"
   ]
  },
  {
   "cell_type": "code",
   "execution_count": 113,
   "metadata": {},
   "outputs": [
    {
     "data": {
      "text/plain": [
       "0    (1, a)\n",
       "1    (2, b)\n",
       "2    (3, c)\n",
       "dtype: object"
      ]
     },
     "execution_count": 113,
     "metadata": {},
     "output_type": "execute_result"
    }
   ],
   "source": [
    "# a = (zip(input().split(), input().split()))\n",
    "a = (zip([1,2,3], [*'abc']))\n",
    "pd.Series(a)"
   ]
  },
  {
   "cell_type": "code",
   "execution_count": 114,
   "metadata": {},
   "outputs": [
    {
     "data": {
      "text/plain": [
       "0    Prived\n",
       "1    Medved\n",
       "2       Kag\n",
       "3      Dela\n",
       "dtype: object"
      ]
     },
     "execution_count": 114,
     "metadata": {},
     "output_type": "execute_result"
    }
   ],
   "source": [
    "s = 'Prived Medved Kag Dela'\n",
    "pd.Series(s.split(' '))"
   ]
  },
  {
   "cell_type": "code",
   "execution_count": 115,
   "metadata": {},
   "outputs": [
    {
     "data": {
      "text/plain": [
       "a    False\n",
       "b     True\n",
       "c    False\n",
       "d    False\n",
       "e     True\n",
       "dtype: bool"
      ]
     },
     "execution_count": 115,
     "metadata": {},
     "output_type": "execute_result"
    }
   ],
   "source": [
    "from string import ascii_lowercase\n",
    "\n",
    "# data = [bool(i) for i in list(map(int, input().split()))]\n",
    "data = [0, 1, 0, 0, 1]\n",
    "data = [bool(i) for i in data]\n",
    "pd.Series(data, list(ascii_lowercase[:len(data)]))"
   ]
  },
  {
   "cell_type": "code",
   "execution_count": 116,
   "metadata": {},
   "outputs": [
    {
     "data": {
      "text/plain": [
       "a    False\n",
       "b     True\n",
       "c    False\n",
       "d    False\n",
       "e     True\n",
       "dtype: bool"
      ]
     },
     "execution_count": 116,
     "metadata": {},
     "output_type": "execute_result"
    }
   ],
   "source": [
    "# data = np.array(input().split()).astype(int)\n",
    "data = np.array([0, 1, 0, 0, 1])\n",
    "pd.Series(data == 1, index=list(ascii_lowercase)[:len(data)])"
   ]
  },
  {
   "cell_type": "code",
   "execution_count": 117,
   "metadata": {},
   "outputs": [
    {
     "data": {
      "text/plain": [
       "0    2022-01-01\n",
       "1    2022-01-02\n",
       "2    2022-01-03\n",
       "dtype: object"
      ]
     },
     "execution_count": 117,
     "metadata": {},
     "output_type": "execute_result"
    }
   ],
   "source": [
    "pd.Series(['2022-01-01', '2022-01-02', '2022-01-03'])"
   ]
  },
  {
   "cell_type": "code",
   "execution_count": 118,
   "metadata": {},
   "outputs": [
    {
     "data": {
      "text/plain": [
       "1    -5\n",
       "3     5\n",
       "5    15\n",
       "7    25\n",
       "9    35\n",
       "dtype: int64"
      ]
     },
     "execution_count": 118,
     "metadata": {},
     "output_type": "execute_result"
    }
   ],
   "source": [
    "# n, m = (int(i) for i in input().split())\n",
    "n, m = -5, 35\n",
    "data = list(range(n, m + 1, 10))\n",
    "ind = list(range(1, 2 * len(data), 2))\n",
    "pd.Series(data, ind)"
   ]
  },
  {
   "cell_type": "markdown",
   "metadata": {},
   "source": [
    "# 2.3 Атрибуты index и values объекта Series"
   ]
  },
  {
   "cell_type": "code",
   "execution_count": 119,
   "metadata": {},
   "outputs": [
    {
     "name": "stdout",
     "output_type": "stream",
     "text": [
      "Index(['a', 'b', 'c', 'd'], dtype='object')\n",
      "[10 20 30 40]\n"
     ]
    }
   ],
   "source": [
    "# Создание объекта Series с пользовательскими метками\n",
    "s = pd.Series(data=[10, 20, 30, 40], index=['a', 'b', 'c', 'd'])\n",
    "\n",
    "# Просмотр меток\n",
    "print(s.index)\n",
    "\n",
    "# Просмотр данных\n",
    "print(s.values)"
   ]
  },
  {
   "cell_type": "code",
   "execution_count": 120,
   "metadata": {},
   "outputs": [
    {
     "name": "stdout",
     "output_type": "stream",
     "text": [
      "10\n",
      "a    10\n",
      "c    30\n",
      "dtype: int64\n"
     ]
    }
   ],
   "source": [
    "# Создание объекта Series с пользовательскими метками\n",
    "s = pd.Series([10, 20, 30, 40], index=['a', 'b', 'c', 'd'])\n",
    "\n",
    "# Выбор элементов по меткам\n",
    "print(s['a'])\n",
    "print(s[['a', 'c']])"
   ]
  },
  {
   "cell_type": "code",
   "execution_count": 121,
   "metadata": {},
   "outputs": [
    {
     "name": "stdout",
     "output_type": "stream",
     "text": [
      "[50 20 30 40]\n"
     ]
    }
   ],
   "source": [
    "# Изменение элемента по метке\n",
    "s['a'] = 50\n",
    "\n",
    "# Просмотр измененных данных\n",
    "print(s.values)"
   ]
  },
  {
   "cell_type": "code",
   "execution_count": 122,
   "metadata": {},
   "outputs": [
    {
     "name": "stdout",
     "output_type": "stream",
     "text": [
      "[100  40  60  80]\n"
     ]
    }
   ],
   "source": [
    "# Выполнение операции над элементами\n",
    "s = s * 2\n",
    "\n",
    "# Просмотр измененных данных\n",
    "print(s.values)"
   ]
  },
  {
   "cell_type": "code",
   "execution_count": 123,
   "metadata": {},
   "outputs": [
    {
     "data": {
      "text/plain": [
       "A    0\n",
       "B    1\n",
       "C    2\n",
       "D    3\n",
       "E    4\n",
       "dtype: int64"
      ]
     },
     "execution_count": 123,
     "metadata": {},
     "output_type": "execute_result"
    }
   ],
   "source": [
    "# Создайте объект Series, содержащий первые 10 нечетных чисел, с метками - буквами латинского алфавита в верхнем регистре.\n",
    "from string import ascii_uppercase\n",
    "pd.Series(range(10), list(ascii_uppercase[:10])).head()"
   ]
  },
  {
   "cell_type": "code",
   "execution_count": 124,
   "metadata": {},
   "outputs": [
    {
     "name": "stdout",
     "output_type": "stream",
     "text": [
      "RangeIndex(start=0, stop=26, step=1)\n",
      "['a' 'b' 'c' 'd' 'e' 'f' 'g' 'h' 'i' 'j' 'k' 'l' 'm' 'n' 'o' 'p' 'q' 'r'\n",
      " 's' 't' 'u' 'v' 'w' 'x' 'y' 'z']\n"
     ]
    }
   ],
   "source": [
    "# Создайте объект Series, содержащий буквы латинского алфавита в нижнем регистре. Выведите на печать атрибуты index и values полученного объекта, каждый с новой строки.\n",
    "data = pd.Series(list(ascii_lowercase))\n",
    "print(data.index)\n",
    "print(data.values)"
   ]
  },
  {
   "cell_type": "code",
   "execution_count": 125,
   "metadata": {},
   "outputs": [
    {
     "name": "stdout",
     "output_type": "stream",
     "text": [
      "21538187\n"
     ]
    }
   ],
   "source": [
    "states = ['Alabama', 'Alaska', 'Arizona', 'Arkansas', 'California', 'Colorado', 'Connecticut', \n",
    "          'Delaware', 'Florida', 'Georgia', 'Hawaii', 'Idaho', 'Illinois', 'Indiana', 'Iowa']\n",
    "populations = [4903185, 731545, 7278717, 3017825, 39538223, 578713, 3605944, 986809, 21538187,\n",
    " 10711908, 1455271, 1826156, 12671821, 6745354, 3179849]\n",
    "data = pd.Series(populations, states)\n",
    "# print(data[input()])\n",
    "s = 'Florida'\n",
    "print(data[s])"
   ]
  },
  {
   "cell_type": "code",
   "execution_count": 126,
   "metadata": {},
   "outputs": [
    {
     "name": "stdout",
     "output_type": "stream",
     "text": [
      "Arizona        7278717\n",
      "California    39538223\n",
      "Florida       21538187\n",
      "Hawaii         1455271\n",
      "dtype: int64\n"
     ]
    }
   ],
   "source": [
    "# print(data[input().split()])\n",
    "s = ['Arizona', 'California',  'Florida',  'Hawaii']\n",
    "print(data[s])"
   ]
  },
  {
   "cell_type": "code",
   "execution_count": 127,
   "metadata": {},
   "outputs": [
    {
     "name": "stdout",
     "output_type": "stream",
     "text": [
      "2022-05-01    64\n",
      "2022-05-03    71\n",
      "dtype: int64\n"
     ]
    }
   ],
   "source": [
    "ind = ['2022-05-01', '2022-05-02', '2022-05-03']\n",
    "data = [64, 73, 71]\n",
    "variables = ['2022-05-01', '2022-05-03']\n",
    "\n",
    "ser = pd.Series(data, ind)\n",
    "print(ser[variables])"
   ]
  },
  {
   "cell_type": "code",
   "execution_count": 128,
   "metadata": {},
   "outputs": [
    {
     "name": "stdout",
     "output_type": "stream",
     "text": [
      "64 71\n"
     ]
    }
   ],
   "source": [
    "ind = ['2022-05-01', '2022-05-02', '2022-05-03']\n",
    "data = [64, 73, 71]\n",
    "variables = ['2022-05-01', '2022-05-03']\n",
    "\n",
    "ser = pd.Series(data, ind)\n",
    "print(*ser[variables])"
   ]
  },
  {
   "cell_type": "code",
   "execution_count": 129,
   "metadata": {},
   "outputs": [
    {
     "name": "stdout",
     "output_type": "stream",
     "text": [
      "2019-03-01    23\n",
      "2019-03-02     5\n",
      "2019-03-03     4\n",
      "2019-03-04     4\n",
      "2019-03-05    18\n",
      "dtype: int32\n"
     ]
    }
   ],
   "source": [
    "from datetime import date, timedelta\n",
    "np.random.seed(33)\n",
    "dates = list(map(str,[date(2019, 1, 4) + timedelta(days=i) for i in range(360)]))\n",
    "temperatures = np.random.randint(-10, 35, len(dates))\n",
    "dates = pd.to_datetime(dates)\n",
    "ser = pd.Series(temperatures, dates) # приведение к типу datetime\n",
    "n = 3 # номер месяца\n",
    "print(ser[dates.month == n].head())"
   ]
  },
  {
   "cell_type": "code",
   "execution_count": 130,
   "metadata": {},
   "outputs": [
    {
     "name": "stdout",
     "output_type": "stream",
     "text": [
      "61 83\n"
     ]
    }
   ],
   "source": [
    "names = ['Иван', 'Олег', 'Татьяна', 'Марина', 'Алексей', 'Андрей']\n",
    "scores = [65, 61, 83, 68, 69, 99]\n",
    "request = ['Олег', 'Татьяна']\n",
    "ser = pd.Series(scores, names)\n",
    "print(*ser[request].values)"
   ]
  },
  {
   "cell_type": "code",
   "execution_count": 131,
   "metadata": {},
   "outputs": [
    {
     "name": "stdout",
     "output_type": "stream",
     "text": [
      "Россия     144.5\n",
      "США        328.2\n",
      "Китай     1393.0\n",
      "Индия     1366.0\n",
      "Япония     126.5\n",
      "dtype: float64\n",
      "Россия     144.5\n",
      "США        328.2\n",
      "Китай     1393.0\n",
      "Индия     1366.0\n",
      "Япония     110.0\n",
      "dtype: float64\n"
     ]
    }
   ],
   "source": [
    "countries = ['Россия', 'США', 'Китай', 'Индия', 'Япония', 'Германия', 'Великобритания', 'Франция', 'Италия', 'Канада', 'Южная_Корея', 'Австралия']\n",
    "populations = [144.5, 328.2, 1393.0, 1366.0, 126.5, 83.1, 66.7, 66.99, 60.4, 37.59, 51.78, 25.4]\n",
    "n, m = 'Япония', 110\n",
    "ser = pd.Series(populations, countries)\n",
    "print(ser.head())\n",
    "ser[n] = m\n",
    "print(ser.head())"
   ]
  },
  {
   "cell_type": "code",
   "execution_count": 132,
   "metadata": {},
   "outputs": [
    {
     "name": "stdout",
     "output_type": "stream",
     "text": [
      "2022-06-04    20.000000\n",
      "2022-06-05    22.222222\n",
      "2022-06-06    23.888889\n",
      "2022-06-07    21.111111\n",
      "2022-06-08    20.000000\n",
      "2022-06-09    22.777778\n",
      "2022-06-10    26.111111\n",
      "dtype: float64\n"
     ]
    }
   ],
   "source": [
    "dates = ['2022-06-04', '2022-06-05', '2022-06-06', '2022-06-07', '2022-06-08', '2022-06-09', '2022-06-10']\n",
    "temperatures = [68, 72, 75, 70, 68, 73, 79]\n",
    "ser = pd.Series(temperatures, dates)\n",
    "\n",
    "ind = ser.index\n",
    "\n",
    "val = (ser.values - 32) * 5/9\n",
    "ser = pd.Series(val, ind)\n",
    "print(ser)"
   ]
  },
  {
   "cell_type": "code",
   "execution_count": 133,
   "metadata": {},
   "outputs": [
    {
     "name": "stdout",
     "output_type": "stream",
     "text": [
      "2022-06-04    68\n",
      "2022-06-05    72\n",
      "2022-06-06    75\n",
      "2022-06-07    70\n",
      "2022-06-08    68\n",
      "2022-06-09    73\n",
      "2022-06-10    79\n",
      "dtype: int64\n"
     ]
    }
   ],
   "source": [
    "ser = ser.apply(lambda x: int(x / (5/9) + 32))\n",
    "print(ser)"
   ]
  },
  {
   "cell_type": "code",
   "execution_count": 134,
   "metadata": {},
   "outputs": [
    {
     "name": "stdout",
     "output_type": "stream",
     "text": [
      "2022-06-04    20.000000\n",
      "2022-06-05    22.222222\n",
      "2022-06-06    23.888889\n",
      "2022-06-07    21.111111\n",
      "2022-06-08    20.000000\n",
      "2022-06-09    22.777778\n",
      "2022-06-10    26.111111\n",
      "dtype: float64\n"
     ]
    }
   ],
   "source": [
    "ser = (ser - 32) * 5 / 9\n",
    "print(ser)"
   ]
  },
  {
   "cell_type": "markdown",
   "metadata": {},
   "source": [
    "# 2.4 Атрибут dtype объекта Pandas"
   ]
  },
  {
   "cell_type": "code",
   "execution_count": 135,
   "metadata": {},
   "outputs": [
    {
     "name": "stdout",
     "output_type": "stream",
     "text": [
      "0    1.0\n",
      "1    2.0\n",
      "2    3.0\n",
      "3    4.0\n",
      "4    5.0\n",
      "dtype: float64\n",
      "0    1\n",
      "1    2\n",
      "2    3\n",
      "3    4\n",
      "4    5\n",
      "dtype: int32\n",
      "0   2022-04-01\n",
      "1   2022-04-02\n",
      "2   2022-04-03\n",
      "dtype: datetime64[ns]\n",
      "0     dog\n",
      "1     cat\n",
      "2     dog\n",
      "3    fish\n",
      "4     cat\n",
      "dtype: category\n",
      "Categories (3, object): ['cat', 'dog', 'fish']\n",
      "0     apple\n",
      "1    banana\n",
      "2    cherry\n",
      "dtype: object\n"
     ]
    }
   ],
   "source": [
    "# создание серии со значениями с плавающей точкой\n",
    "s = pd.Series([1, 2, 3, 4, 5], dtype='float')\n",
    "print(s)\n",
    "\n",
    "# создание серии с целочисленными значениями\n",
    "s = pd.Series([1, 2, 3, 4, 5], dtype=int)\n",
    "print(s)\n",
    "\n",
    "# создание серии с датами\n",
    "s = pd.Series(['2022-04-01', '2022-04-02', '2022-04-03'], dtype='datetime64[ns]')\n",
    "print(s)\n",
    "\n",
    "# создание серии с категориальными значениями\n",
    "s = pd.Series([\"dog\", \"cat\", \"dog\", \"fish\", \"cat\"], dtype=\"category\")\n",
    "print(s)\n",
    "\n",
    "# создание серии из списка, содержащего строковые значения\n",
    "s = pd.Series(['apple', 'banana', 'cherry'])\n",
    "print(s)"
   ]
  },
  {
   "cell_type": "code",
   "execution_count": 136,
   "metadata": {},
   "outputs": [
    {
     "name": "stdout",
     "output_type": "stream",
     "text": [
      "x     True\n",
      "y    False\n",
      "z     True\n",
      "dtype: bool\n",
      "x    False\n",
      "y    False\n",
      "z    False\n",
      "dtype: bool\n"
     ]
    }
   ],
   "source": [
    "ser = pd.Series([True, False, True], index=list('xyz'), dtype='bool')\n",
    "print(ser)\n",
    "ser[:] = False\n",
    "print(ser)"
   ]
  },
  {
   "cell_type": "code",
   "execution_count": 137,
   "metadata": {},
   "outputs": [
    {
     "name": "stdout",
     "output_type": "stream",
     "text": [
      "a    10.0\n",
      "b    20.0\n",
      "c    30.0\n",
      "d    40.0\n",
      "dtype: float64\n",
      "a    20.0\n",
      "b    40.0\n",
      "c    60.0\n",
      "d    80.0\n",
      "dtype: float64\n",
      "50.0\n"
     ]
    }
   ],
   "source": [
    "ser = pd.Series([10, 20, 30, 40], index=list('abcd'), dtype='float64')\n",
    "print(ser)\n",
    "ser *= 2\n",
    "print(ser)\n",
    "print(ser.mean())"
   ]
  },
  {
   "cell_type": "markdown",
   "metadata": {},
   "source": [
    "# 2.5 Применение математических функций и операторов к объекту Series"
   ]
  },
  {
   "cell_type": "code",
   "execution_count": 138,
   "metadata": {},
   "outputs": [],
   "source": [
    "# Функции из модуля math:\n",
    "# math.sin(x) - возвращает синус x (x в радианах)\n",
    "# math.cos(x) - возвращает косинус x (x в радианах)\n",
    "# math.tan(x) - возвращает тангенс x (x в радианах)\n",
    "# math.exp(x) - возвращает экспоненту x\n",
    "# math.log(x) - возвращает натуральный логарифм x\n",
    "# math.sqrt(x) - возвращает квадратный корень из x\n",
    "\n",
    "# Функции из модуля numpy:\n",
    "# numpy.abs(x) - возвращает абсолютное значение x\n",
    "# numpy.round(x, n) - округляет x до n знаков после запятой\n",
    "# numpy.floor(x) - округляет x вниз до ближайшего целого числа\n",
    "# numpy.ceil(x) - округляет x вверх до ближайшего целого числа\n",
    "# numpy.power(x, n) - возвращает x в степени n\n",
    "# numpy.exp(x) - возвращает экспоненту x\n",
    "# numpy.log(x) - возвращает натуральный логарифм x\n",
    "# numpy.sqrt(x) - возвращает квадратный корень из x"
   ]
  },
  {
   "cell_type": "code",
   "execution_count": 139,
   "metadata": {},
   "outputs": [
    {
     "name": "stdout",
     "output_type": "stream",
     "text": [
      "0    5\n",
      "1    7\n",
      "2    9\n",
      "dtype: int64\n"
     ]
    }
   ],
   "source": [
    "s1 = pd.Series([1, 2, 3]) \n",
    "s2 = pd.Series([4, 5, 6]) \n",
    "s3 = s1 + s2 \n",
    "print(s3)"
   ]
  },
  {
   "cell_type": "code",
   "execution_count": 140,
   "metadata": {},
   "outputs": [
    {
     "name": "stdout",
     "output_type": "stream",
     "text": [
      "0    True\n",
      "1    True\n",
      "2    True\n",
      "dtype: bool\n"
     ]
    }
   ],
   "source": [
    "s1 = pd.Series([1, 2, 3]) \n",
    "s2 = pd.Series([4, 5, 6]) \n",
    "mask = s1 < s2 \n",
    "print(mask)"
   ]
  },
  {
   "cell_type": "code",
   "execution_count": 141,
   "metadata": {},
   "outputs": [
    {
     "name": "stdout",
     "output_type": "stream",
     "text": [
      "0    False\n",
      "1    False\n",
      "2     True\n",
      "dtype: bool\n"
     ]
    }
   ],
   "source": [
    "s1 = pd.Series([1, 2, 3]) \n",
    "s2 = pd.Series([4, 5, 6]) \n",
    "mask = (s1 < s2) & (s1 > 2)\n",
    "print(mask)"
   ]
  },
  {
   "cell_type": "code",
   "execution_count": 142,
   "metadata": {},
   "outputs": [
    {
     "name": "stdout",
     "output_type": "stream",
     "text": [
      "0    False\n",
      "1     True\n",
      "2     True\n",
      "dtype: bool\n",
      "1    20\n",
      "2    30\n",
      "dtype: int64\n"
     ]
    }
   ],
   "source": [
    "s1 = pd.Series([7, 2, 3]) \n",
    "s2 = pd.Series([4, 5, 6]) \n",
    "mask = s1 < s2 \n",
    "print(mask) \n",
    "\n",
    "s3 = pd.Series([10, 20, 30]) \n",
    "s4 = s3[mask] \n",
    "print(s4) "
   ]
  },
  {
   "cell_type": "code",
   "execution_count": 143,
   "metadata": {},
   "outputs": [
    {
     "name": "stdout",
     "output_type": "stream",
     "text": [
      "0     1.000000\n",
      "1     2.718282\n",
      "2     7.389056\n",
      "3    20.085537\n",
      "dtype: float64\n",
      "0        -inf\n",
      "1    0.000000\n",
      "2    0.693147\n",
      "3    1.098612\n",
      "dtype: float64\n"
     ]
    },
    {
     "name": "stderr",
     "output_type": "stream",
     "text": [
      "c:\\Users\\kuche\\anaconda3\\Lib\\site-packages\\pandas\\core\\arraylike.py:399: RuntimeWarning: divide by zero encountered in log\n",
      "  result = getattr(ufunc, method)(*inputs, **kwargs)\n"
     ]
    }
   ],
   "source": [
    "# создание pd.Series\n",
    "s = pd.Series([0, 1, 2, 3])\n",
    "\n",
    "# вычисление экспоненты и логарифма\n",
    "exp_s = np.exp(s)\n",
    "log_s = np.log(s)\n",
    "\n",
    "# вывод результатов\n",
    "print(exp_s)\n",
    "print(log_s)"
   ]
  },
  {
   "cell_type": "code",
   "execution_count": 144,
   "metadata": {},
   "outputs": [
    {
     "name": "stdout",
     "output_type": "stream",
     "text": [
      "2    9\n",
      "dtype: int64\n"
     ]
    }
   ],
   "source": [
    "s1 = pd.Series([1, 2, 3]) \n",
    "s2 = pd.Series([4, 5, 6]) \n",
    "mask = s1 > 2 \n",
    "s3 = s1[mask] + s2[mask] \n",
    "print(s3)"
   ]
  },
  {
   "cell_type": "code",
   "execution_count": 145,
   "metadata": {},
   "outputs": [
    {
     "name": "stdout",
     "output_type": "stream",
     "text": [
      "0    3\n",
      "1    6\n",
      "2    9\n",
      "dtype: int16\n",
      "0     2\n",
      "1     8\n",
      "2    18\n",
      "dtype: int16\n"
     ]
    }
   ],
   "source": [
    "ser1 = pd.Series([1, 2, 3], dtype='int16')\n",
    "ser2 = pd.Series([2, 4, 6], dtype='int16')\n",
    "print(ser1+ser2)\n",
    "print(ser1*ser2)"
   ]
  },
  {
   "cell_type": "code",
   "execution_count": 146,
   "metadata": {},
   "outputs": [
    {
     "name": "stdout",
     "output_type": "stream",
     "text": [
      "a    1\n",
      "b    2\n",
      "dtype: int64\n"
     ]
    }
   ],
   "source": [
    "ser = pd.Series([1, 2, 3, 4, 5], index=list('abcde'))\n",
    "print(ser[ser<3])"
   ]
  },
  {
   "cell_type": "code",
   "execution_count": 147,
   "metadata": {},
   "outputs": [
    {
     "data": {
      "text/plain": [
       "0    False\n",
       "1     True\n",
       "2     True\n",
       "dtype: bool"
      ]
     },
     "execution_count": 147,
     "metadata": {},
     "output_type": "execute_result"
    }
   ],
   "source": [
    "ser = pd.Series([10, 20, 30])\n",
    "ser = ser > 15\n",
    "ser"
   ]
  },
  {
   "cell_type": "code",
   "execution_count": 148,
   "metadata": {},
   "outputs": [
    {
     "name": "stdout",
     "output_type": "stream",
     "text": [
      "0    1.65\n",
      "1    2.59\n",
      "2    4.36\n",
      "dtype: float64\n"
     ]
    }
   ],
   "source": [
    "ser1 = pd.Series([1.0, 2.0, 3.0])\n",
    "ser2 = np.sqrt(np.exp(ser1) - np.log(ser1)).round(2)\n",
    "print(ser2)"
   ]
  },
  {
   "cell_type": "code",
   "execution_count": 149,
   "metadata": {},
   "outputs": [
    {
     "name": "stdout",
     "output_type": "stream",
     "text": [
      "0    1\n",
      "1    4\n",
      "2    5\n",
      "3    3\n",
      "4    7\n",
      "5    9\n",
      "6    8\n",
      "7    2\n",
      "dtype: uint32\n",
      "0    1\n",
      "2    5\n",
      "3    3\n",
      "4    7\n",
      "5    9\n",
      "dtype: uint32\n"
     ]
    }
   ],
   "source": [
    "ser1 = pd.Series([1, 4, 5, 3, 7, 9, 8, 2], dtype='uint32')\n",
    "print(ser1)\n",
    "ser2 = ser1[(ser1 % 2) == 1]\n",
    "print(ser2)"
   ]
  },
  {
   "cell_type": "code",
   "execution_count": 150,
   "metadata": {},
   "outputs": [
    {
     "data": {
      "text/plain": [
       "0     cat\n",
       "2     can\n",
       "4    call\n",
       "dtype: string"
      ]
     },
     "execution_count": 150,
     "metadata": {},
     "output_type": "execute_result"
    }
   ],
   "source": [
    "s = pd.Series(['cat', 'fish', 'can', 'able', 'call'], dtype='string')\n",
    "char = 'c'\n",
    "s[s.str.startswith(char)]"
   ]
  },
  {
   "cell_type": "code",
   "execution_count": 151,
   "metadata": {},
   "outputs": [
    {
     "name": "stdout",
     "output_type": "stream",
     "text": [
      "0   2021-01-01\n",
      "1   2021-02-21\n",
      "2   2021-03-18\n",
      "3   2021-05-02\n",
      "4   2021-08-11\n",
      "5   2021-12-12\n",
      "dtype: datetime64[ns]\n",
      "3   2021-05-02\n",
      "4   2021-08-11\n",
      "dtype: datetime64[ns]\n"
     ]
    }
   ],
   "source": [
    "ser = pd.Series(['2021-01-01', '2021-02-21', '2021-03-18', '2021-05-02', '2021-08-11', '2021-12-12'], dtype='datetime64[ns]')\n",
    "print(ser)\n",
    "print(ser[ser.between('2021-03-18', '2021-09-22', inclusive='neither')])"
   ]
  },
  {
   "cell_type": "code",
   "execution_count": 152,
   "metadata": {},
   "outputs": [
    {
     "name": "stdout",
     "output_type": "stream",
     "text": [
      "0      абрек\n",
      "1        аул\n",
      "2    барнаул\n",
      "3        кит\n",
      "4      арнлк\n",
      "dtype: string\n",
      "Series([], dtype: string)\n"
     ]
    }
   ],
   "source": [
    "s = pd.Series(['абрек', 'аул', 'барнаул', 'кит', 'арнлк'], dtype='string')\n",
    "print(s)\n",
    "s2 = s[(s.str.startswith('a')) & (s.str.endswith('к'))]\n",
    "print(s2)"
   ]
  },
  {
   "cell_type": "markdown",
   "metadata": {},
   "source": [
    "# 2.7 Атрибут name объекта Series"
   ]
  },
  {
   "cell_type": "code",
   "execution_count": null,
   "metadata": {},
   "outputs": [],
   "source": []
  }
 ],
 "metadata": {
  "kernelspec": {
   "display_name": "base",
   "language": "python",
   "name": "python3"
  },
  "language_info": {
   "codemirror_mode": {
    "name": "ipython",
    "version": 3
   },
   "file_extension": ".py",
   "mimetype": "text/x-python",
   "name": "python",
   "nbconvert_exporter": "python",
   "pygments_lexer": "ipython3",
   "version": "3.11.7"
  }
 },
 "nbformat": 4,
 "nbformat_minor": 2
}
