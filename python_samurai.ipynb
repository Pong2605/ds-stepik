{
 "cells": [
  {
   "cell_type": "markdown",
   "metadata": {},
   "source": [
    "# 1.1. Форматирование строк Python. Метод format"
   ]
  },
  {
   "cell_type": "code",
   "execution_count": 24,
   "metadata": {},
   "outputs": [
    {
     "name": "stdout",
     "output_type": "stream",
     "text": [
      "Дорогой Семён Семёнов, \n",
      "баланс Вашего лицевого счёта составляет 32.56 руб.\n"
     ]
    }
   ],
   "source": [
    "name = 'Семён'\n",
    "surname = 'Семёнов'\n",
    "balance = 32.56\n",
    "\n",
    "text = \"\"\"Дорогой {2} {1}, \n",
    "баланс Вашего лицевого счёта составляет {0} руб.\"\"\".format(balance, surname, name)\n",
    "\n",
    "print(text)"
   ]
  },
  {
   "cell_type": "code",
   "execution_count": 25,
   "metadata": {},
   "outputs": [
    {
     "name": "stdout",
     "output_type": "stream",
     "text": [
      "Дорогой Семён Семёнов, \n",
      "баланс Вашего лицевого счёта составляет 32.56 руб.\n"
     ]
    }
   ],
   "source": [
    "name = 'Семён'\n",
    "surname = 'Семёнов'\n",
    "balance = 32.56\n",
    "\n",
    "text = \"\"\"Дорогой {name} {surname}, \n",
    "баланс Вашего лицевого счёта составляет {balance} руб.\"\"\".format(surname=surname,\n",
    "                                                                 name=name,\n",
    "                                                                 balance=balance)\n",
    "\n",
    "print(text)"
   ]
  },
  {
   "cell_type": "code",
   "execution_count": null,
   "metadata": {},
   "outputs": [],
   "source": []
  },
  {
   "cell_type": "markdown",
   "metadata": {},
   "source": [
    "# 1.2. f-строки"
   ]
  },
  {
   "cell_type": "code",
   "execution_count": 3,
   "metadata": {},
   "outputs": [
    {
     "name": "stdout",
     "output_type": "stream",
     "text": [
      "x = 15, y=28\n"
     ]
    }
   ],
   "source": [
    "# С версии Python 3.10\n",
    "x = 15\n",
    "y = 28\n",
    "print(f\"{x = }, {y=}\")"
   ]
  },
  {
   "cell_type": "code",
   "execution_count": null,
   "metadata": {},
   "outputs": [
    {
     "name": "stdout",
     "output_type": "stream",
     "text": [
      "Результат 7 + 3 = 10\n"
     ]
    }
   ],
   "source": [
    "# Вложенные f-строки\n",
    "# С версии Python 3.12\n",
    "\n",
    "x = 7\n",
    "y = 3\n",
    "print(f\"Результат {x} + {y} = {f\"{x + y}\"}\")"
   ]
  },
  {
   "cell_type": "code",
   "execution_count": null,
   "metadata": {},
   "outputs": [
    {
     "name": "stdout",
     "output_type": "stream",
     "text": [
      "Она сказала: Привет, Иван!\n"
     ]
    }
   ],
   "source": [
    "# С версии Python 3.12\n",
    "\n",
    "name = \"Иван\"\n",
    "\n",
    "print(f'Она сказала: {'Привет, ' + name}!')"
   ]
  },
  {
   "cell_type": "code",
   "execution_count": null,
   "metadata": {},
   "outputs": [],
   "source": [
    "# <\tВыравнивает выражение в фигурных скобках по левому краю. У строк такое поведение по умолчанию\n",
    "# >\tВыравнивает выражение в фигурных скобках по правому краю. У чисел такое поведение по умолчанию\n",
    "# ^\tВыравнивает выражение в фигурных скобках по центру"
   ]
  },
  {
   "cell_type": "code",
   "execution_count": 5,
   "metadata": {},
   "outputs": [
    {
     "name": "stdout",
     "output_type": "stream",
     "text": [
      "Строка text = 'Python 3.12'\n",
      "|Python 3.12              |\n",
      "|Python 3.12              |\n",
      "|              Python 3.12|\n",
      "|       Python 3.12       |\n"
     ]
    }
   ],
   "source": [
    "text = \"Python 3.12\"\n",
    "print(f\"Строка {text = }\")\n",
    "print(f\"|{text:25}|\")\n",
    "print(f\"|{text:<25}|\")\n",
    "print(f\"|{text:>25}|\")\n",
    "print(f\"|{text:^25}|\")"
   ]
  },
  {
   "cell_type": "code",
   "execution_count": 6,
   "metadata": {},
   "outputs": [
    {
     "name": "stdout",
     "output_type": "stream",
     "text": [
      "Число number = 12345.6789\n",
      "|               12345.6789|\n",
      "|12345.6789               |\n",
      "|               12345.6789|\n",
      "|       12345.6789        |\n"
     ]
    }
   ],
   "source": [
    "number = 12345.6789\n",
    "print(f\"Число {number = }\")\n",
    "print(f\"|{number:25}|\")\n",
    "print(f\"|{number:<25}|\")\n",
    "print(f\"|{number:>25}|\")\n",
    "print(f\"|{number:^25}|\")"
   ]
  },
  {
   "cell_type": "code",
   "execution_count": 232,
   "metadata": {},
   "outputs": [
    {
     "name": "stdout",
     "output_type": "stream",
     "text": [
      "|    56|\n"
     ]
    }
   ],
   "source": [
    "num = 56\n",
    "print(f\"|{num:6}|\")"
   ]
  },
  {
   "cell_type": "code",
   "execution_count": 233,
   "metadata": {},
   "outputs": [
    {
     "name": "stdout",
     "output_type": "stream",
     "text": [
      "|Hello     |\n"
     ]
    }
   ],
   "source": [
    "text = \"Hello\"\n",
    "print(f\"|{text:10}|\")"
   ]
  },
  {
   "cell_type": "code",
   "execution_count": 234,
   "metadata": {},
   "outputs": [
    {
     "name": "stdout",
     "output_type": "stream",
     "text": [
      "|789    |\n"
     ]
    }
   ],
   "source": [
    "num = 789\n",
    "print(f\"|{num:<7}|\")"
   ]
  },
  {
   "cell_type": "code",
   "execution_count": 235,
   "metadata": {},
   "outputs": [
    {
     "name": "stdout",
     "output_type": "stream",
     "text": [
      "|   Python   |\n"
     ]
    }
   ],
   "source": [
    "word = \"Python\"\n",
    "print(f\"|{word:^12}|\")"
   ]
  },
  {
   "cell_type": "code",
   "execution_count": 236,
   "metadata": {},
   "outputs": [
    {
     "name": "stdout",
     "output_type": "stream",
     "text": [
      "|Data######|\n"
     ]
    }
   ],
   "source": [
    "word = \"Data\"\n",
    "print(f\"|{word:#<10}|\")"
   ]
  },
  {
   "cell_type": "code",
   "execution_count": null,
   "metadata": {},
   "outputs": [
    {
     "name": "stdout",
     "output_type": "stream",
     "text": [
      "|0000000000000000000001234|\n",
      "|0000001234|\n",
      "|__1234__|\n",
      "__1234__\n"
     ]
    }
   ],
   "source": [
    "num = 1234\n",
    "print(f\"|{num:025}|\") \n",
    " \n",
    "\n",
    "num = 1234\n",
    "print(f\"|{num:0>10}|\") \n",
    " \n",
    "\n",
    "num = 1234\n",
    "print(f\"|{num:_^8}|\") \n",
    " \n",
    "\n",
    "num = 1234\n",
    "print(f\"{num:_^8}\") "
   ]
  },
  {
   "cell_type": "code",
   "execution_count": 7,
   "metadata": {},
   "outputs": [
    {
     "name": "stdout",
     "output_type": "stream",
     "text": [
      "Яблоки              \n",
      "Количество:   102\n",
      "Цена: $     10.46\n"
     ]
    }
   ],
   "source": [
    "# Плейсхолдеры в f-строках (резервируют место под вывод)\n",
    "\n",
    "apple = 'Яблоки'\n",
    "num = 102\n",
    "price = 10.4643\n",
    "\n",
    "print(f'{apple:20s}')         # Минимум 20 символов для строки\n",
    "print(f'Количество: {num:5d}')  # Минимум 5 символов для числа\n",
    "print(f'Цена: ${price:>10.2f}') # Выравнивание вправо, 2 знака после запятой"
   ]
  },
  {
   "cell_type": "code",
   "execution_count": null,
   "metadata": {},
   "outputs": [
    {
     "name": "stdout",
     "output_type": "stream",
     "text": [
      "Число = 12345\n",
      "|     12345|\n",
      "|0000012345|\n",
      "|12345?????|\n",
      "|!!!!!12345|\n",
      "|--12345---|\n"
     ]
    }
   ],
   "source": [
    "# Добавляем букву d, явно показывания интерпретатору, что работает в f-строке с целым числом\n",
    "\n",
    "number = 12345\n",
    "print(f\"Число = {number}\")\n",
    "print(f\"|{number:10d}|\")   # Минимум 10 символов\n",
    "print(f\"|{number:010d}|\")  # Заполнение нулями (до 10 символов)\n",
    "print(f\"|{number:?<10d}|\") # Выравнивание влево, заполнение символами '?' справа\n",
    "print(f\"|{number:!>10d}|\") # Выравнивание вправо, заполнение символами '!' слева \n",
    "print(f\"|{number:-^10d}|\") # Выравнивание по центру, символы '-' по краям"
   ]
  },
  {
   "cell_type": "code",
   "execution_count": 20,
   "metadata": {},
   "outputs": [
    {
     "name": "stdout",
     "output_type": "stream",
     "text": [
      "12,345,678,912,345\n",
      "12_345_678_912_345\n"
     ]
    }
   ],
   "source": [
    "n = 12345678912345\n",
    "\n",
    "print(f'{n:,d}')  # Разделение запятой\n",
    "print(f'{n:_d}')  # Разделение нижним подчёркиванием"
   ]
  },
  {
   "cell_type": "code",
   "execution_count": 10,
   "metadata": {},
   "outputs": [
    {
     "name": "stdout",
     "output_type": "stream",
     "text": [
      "!!!1,234,567!!!\n",
      "??????1_234_567\n"
     ]
    }
   ],
   "source": [
    "# Можно совместить все вместе: и заполнитель, и тип выравнивания, минимальную длину и знак разделителя:\n",
    "\n",
    "n = 1234567\n",
    "\n",
    "print(f'{n:!^15,d}')\n",
    "print(f'{n:?>15_d}')"
   ]
  },
  {
   "cell_type": "code",
   "execution_count": 11,
   "metadata": {},
   "outputs": [
    {
     "name": "stdout",
     "output_type": "stream",
     "text": [
      "Число = 123.45\n",
      "|     123.450000|\n",
      "|00000123.450000|\n",
      "|123.450000?????|\n",
      "|!!!!!123.450000|\n",
      "|--123.450000---|\n"
     ]
    }
   ],
   "source": [
    "# Добавляем букву f, явно показывания интерпретатору, что работает в f-строке с вещественным числом\n",
    "\n",
    "number = 123.45\n",
    "print(f\"Число = {number}\")\n",
    "print(f\"|{number:15f}|\")  # Минимальная ширина 15 символов\n",
    "print(f\"|{number:015f}|\")  # Выравнивание к левому краю, заполнение нулями слева\n",
    "print(f\"|{number:?<15f}|\")  # Выравнивание к правому краю, заполнение '?' справа \n",
    "print(f\"|{number:!>15f}|\")  # Выравнивание к левому краю, заполнение '!' слева\n",
    "print(f\"|{number:-^15f}|\")  # Выравнивание по центру, '-' по сторонам"
   ]
  },
  {
   "cell_type": "code",
   "execution_count": 12,
   "metadata": {},
   "outputs": [
    {
     "name": "stdout",
     "output_type": "stream",
     "text": [
      "a = 0.125\n",
      "b = 0.5\n",
      "c = 0.3333333333333333\n"
     ]
    }
   ],
   "source": [
    "# Округление\n",
    "\n",
    "a = 1/8\n",
    "b = 1/2\n",
    "c = 1/3\n",
    "print(f'{a = }') # a = 0.125\n",
    "print(f'{b = }') # b = 0.5\n",
    "print(f'{c = }') # c = 0.3333333333333333"
   ]
  },
  {
   "cell_type": "code",
   "execution_count": 13,
   "metadata": {},
   "outputs": [
    {
     "name": "stdout",
     "output_type": "stream",
     "text": [
      "| 12.345|\n",
      "|   12.3450|\n",
      "|       12.35|\n"
     ]
    }
   ],
   "source": [
    "num = 12.345\n",
    "print(f'|{num:7.3f}|')  # Минимальная длина 7 символов, 3 знака после запятой\n",
    "print(f'|{num:10.4f}|') # Минимальная длина 10 символов, 4 знака после запятой\n",
    "print(f'|{num:12.2f}|') # Минимальная длина 12 символов, 2 знака после запятой"
   ]
  },
  {
   "cell_type": "code",
   "execution_count": 14,
   "metadata": {},
   "outputs": [
    {
     "name": "stdout",
     "output_type": "stream",
     "text": [
      "|00000007.2|\n",
      "|7.250_____|\n",
      "|***7.25***|\n"
     ]
    }
   ],
   "source": [
    "num = 7.25\n",
    "print(f'|{num:0>10.1f}|')  # Заполнение нулями справа\n",
    "print(f'|{num:_<10.3f}|')  # Заполнение подчеркиваниями слева\n",
    "print(f'|{num:*^10.2f}|')  # Заполнение звёздочками по центру"
   ]
  },
  {
   "cell_type": "code",
   "execution_count": 22,
   "metadata": {},
   "outputs": [
    {
     "name": "stdout",
     "output_type": "stream",
     "text": [
      "7.2\n",
      "7.237\n",
      "007.24\n"
     ]
    }
   ],
   "source": [
    "val = 7.2365\n",
    "print(f\"{val:.1f}\")\n",
    "print(f\"{val:.3f}\")\n",
    "print(f\"{val:0>6.2f}\")"
   ]
  },
  {
   "cell_type": "code",
   "execution_count": 17,
   "metadata": {},
   "outputs": [
    {
     "name": "stdout",
     "output_type": "stream",
     "text": [
      "100.0\n",
      "100.00\n",
      "100.000\n"
     ]
    }
   ],
   "source": [
    "# Отображение целых чисел как вещественных\n",
    "# Даже если число целое, можно вывести его с десятичной частью.\n",
    "\n",
    "d = 100\n",
    "print(f'{d:.1f}')  # 100.0\n",
    "print(f'{d:.2f}')  # 100.00\n",
    "print(f'{d:.3f}')  # 100.000"
   ]
  },
  {
   "cell_type": "code",
   "execution_count": 21,
   "metadata": {},
   "outputs": [
    {
     "name": "stdout",
     "output_type": "stream",
     "text": [
      "        Список покупок        \n",
      "==============================\n",
      "Яблоки             3\t$ 1.50\n",
      "Хлеб              10\t$15.00\n",
      "Сыр                6\t$13.50\n",
      "              Total:\t$30.00\n"
     ]
    }
   ],
   "source": [
    "APPLES = .50\n",
    "BREAD = 1.50\n",
    "CHEESE = 2.25\n",
    "num_apples = 3\n",
    "num_bread = 10\n",
    "num_cheese = 6\n",
    "price_apples = num_apples * APPLES\n",
    "price_bread = num_bread * BREAD\n",
    "price_cheese = num_cheese * CHEESE\n",
    "str_apples = 'Яблоки'\n",
    "str_bread = 'Хлеб'\n",
    "str_cheese = 'Сыр'\n",
    "total = price_bread + price_cheese + price_apples\n",
    "print(f'{\"Список покупок\":^30s}')\n",
    "print(f'{\"=\" * 30}')\n",
    "print(f'{str_apples:10s}{num_apples:10d}\\t${price_apples:>5.2f}')\n",
    "print(f'{str_bread:10s}{num_bread:10d}\\t${price_bread:>5.2f}')\n",
    "print(f'{str_cheese:10s}{num_cheese:10d}\\t${price_cheese:>5.2f}')\n",
    "print(f'{\"Total:\":>20s}\\t${total:>5.2f}')"
   ]
  },
  {
   "cell_type": "markdown",
   "metadata": {},
   "source": [
    "# 1. Циклы"
   ]
  },
  {
   "cell_type": "code",
   "execution_count": 238,
   "metadata": {},
   "outputs": [
    {
     "name": "stdout",
     "output_type": "stream",
     "text": [
      "[8, 6, 'око', 'нога']\n"
     ]
    }
   ],
   "source": [
    "# Вводится список слов в одну строку через пробел. \n",
    "# Необходимо произвести в нем изменения по правилу - если слово более 5ти букв, \n",
    "# оно заменятся на количество букв в этом слове, либо остается как есть.\n",
    "\n",
    "s = 'брокколи пандус око нога'\n",
    "\n",
    "f = lambda x: n if (n := len(x)) > 5 else x\n",
    "\n",
    "print(list(map(f, s.split())))"
   ]
  },
  {
   "cell_type": "code",
   "execution_count": 239,
   "metadata": {},
   "outputs": [
    {
     "name": "stdout",
     "output_type": "stream",
     "text": [
      "ДА\n"
     ]
    }
   ],
   "source": [
    "# Необходимо реализовать игру в \"Города\". Вам подаётся список городов в одну строку через пробел. \n",
    "# Необходимо убедиться, что каждое следующее слово начинается на букву, которой оканчивалось предыдущее. \n",
    "# Если слово оканчивалось на буквы \"ыьъ\", то следующее слово должно начинаться на предпоследнюю букву предыдущего слова. \n",
    "# При составлении слов, регистр не учитывается. \n",
    "# Если все города соответствуют правилам игры, вывести \"ДА\", иначе \"НЕТ\".\n",
    "\n",
    "words = 'Гжижевск Королев Вайфаеград'.split()\n",
    "i = 1\n",
    "flag = 'ДА'\n",
    "\n",
    "while i != len(words):\n",
    "    start = words[i][0]\n",
    "    end = words[i - 1][-1] if not words[i - 1][-1] in (\"ыьъ\") else words[i - 1][-2]\n",
    "    if start.lower() != end.lower():\n",
    "        flag = 'НЕТ'\n",
    "    i += 1\n",
    "print(flag)"
   ]
  },
  {
   "cell_type": "code",
   "execution_count": 240,
   "metadata": {},
   "outputs": [
    {
     "name": "stdout",
     "output_type": "stream",
     "text": [
      "НЕТ\n",
      "ДА\n"
     ]
    }
   ],
   "source": [
    "# Вводится список слов в одну строку через пробел. \n",
    "# Необходимо вывести на экран \"ДА\" если все слова более 4ех символов, \n",
    "# либо \"НЕТ\" если есть хотя бы одно слово, не соответствующее условию.\n",
    "\n",
    "s1 = 'Павлин Улюлю Цыц'\n",
    "s2 = 'Ерыклинск Мыловарня Лоботамия'\n",
    "\n",
    "for s in (s1, s2):\n",
    "    print(('НЕТ', 'ДА')[all(map(lambda x: len(x) > 4, s.split()))])"
   ]
  },
  {
   "cell_type": "markdown",
   "metadata": {},
   "source": [
    "# 1.1 Базовая аннотация типов данных "
   ]
  },
  {
   "cell_type": "code",
   "execution_count": 241,
   "metadata": {},
   "outputs": [
    {
     "name": "stdout",
     "output_type": "stream",
     "text": [
      "asd\n",
      "{'n': <class 'int'>, 'return': <class 'int'>}\n",
      "{'n': <class 'int'>, 'return': None}\n"
     ]
    }
   ],
   "source": [
    "# Аннотация нужна понимания кода (облегчает чтение кода)\n",
    "\n",
    "x: int          # Аннотация используется лишь для указания типа переменной, но не запрещает присваивание иного типа\n",
    "x = 'asd'\n",
    "print(x)\n",
    "\n",
    "def func(n: int = 5) -> int:\n",
    "    return sum(range(1, n + 1))\n",
    "\n",
    "print(func.__annotations__)\n",
    "\n",
    "def func(n: int = 5) -> None:\n",
    "    print()\n",
    "\n",
    "print(func.__annotations__)"
   ]
  },
  {
   "cell_type": "code",
   "execution_count": 242,
   "metadata": {},
   "outputs": [
    {
     "name": "stdout",
     "output_type": "stream",
     "text": [
      "{'x': typing.Union[int, float], 'y': typing.Union[int, float], 'return': typing.Union[int, float]}\n"
     ]
    }
   ],
   "source": [
    "from typing import Union\n",
    "\n",
    "def func(x: Union[int, float], y: Union[int, float]) -> Union[int, float]:\n",
    "    return x + y\n",
    "\n",
    "print(func.__annotations__)"
   ]
  },
  {
   "cell_type": "code",
   "execution_count": 243,
   "metadata": {},
   "outputs": [
    {
     "name": "stdout",
     "output_type": "stream",
     "text": [
      "{'x': int | float, 'y': int | float, 'return': int | float}\n"
     ]
    }
   ],
   "source": [
    "# С версии 3.10:\n",
    "\n",
    "def func(x: int | float, y: int | float) -> int | float:\n",
    "    return x + y\n",
    "\n",
    "print(func.__annotations__)"
   ]
  },
  {
   "cell_type": "code",
   "execution_count": 244,
   "metadata": {},
   "outputs": [
    {
     "name": "stdout",
     "output_type": "stream",
     "text": [
      "{'x': <class 'list'>, 'y': <class 'list'>, 'return': typing.Optional[list]}\n",
      "{'x': <class 'list'>, 'y': <class 'list'>, 'return': list | None}\n"
     ]
    }
   ],
   "source": [
    "from typing import Optional\n",
    "\n",
    "def func(x: list, y: list) -> Optional[list]:\n",
    "    match x, y:\n",
    "        case list(), list():\n",
    "            return x + y\n",
    "    return None\n",
    "\n",
    "print(func.__annotations__)\n",
    "\n",
    "def func(x: list, y: list) -> list | None:\n",
    "    match x, y:\n",
    "        case list(), list():\n",
    "            return x + y\n",
    "    return None\n",
    "\n",
    "print(func.__annotations__)"
   ]
  },
  {
   "cell_type": "code",
   "execution_count": 245,
   "metadata": {},
   "outputs": [
    {
     "name": "stdout",
     "output_type": "stream",
     "text": [
      "[1, 2, 3, 4, '5']\n"
     ]
    }
   ],
   "source": [
    "from typing import Any\n",
    "\n",
    "def func(*args: Any) -> list:\n",
    "    return list(args)\n",
    "\n",
    "print(func(1, 2, 3, 4, '5'))"
   ]
  },
  {
   "cell_type": "code",
   "execution_count": 246,
   "metadata": {},
   "outputs": [],
   "source": [
    "# Если есть переменная, которую нельзя менять\n",
    "\n",
    "from typing import Final\n",
    "\n",
    "password: Final = 'qwer'"
   ]
  },
  {
   "cell_type": "markdown",
   "metadata": {},
   "source": [
    "# 1.4 Функция enumerate. Итератор."
   ]
  },
  {
   "cell_type": "code",
   "execution_count": 247,
   "metadata": {},
   "outputs": [
    {
     "name": "stdout",
     "output_type": "stream",
     "text": [
      "1\n",
      "<class 'list_iterator'>\n",
      "a\n",
      "s\n",
      "d\n",
      "<class 'str_ascii_iterator'>\n",
      "0\n",
      "2\n",
      "4\n"
     ]
    }
   ],
   "source": [
    "# Итератор\n",
    "\n",
    "# Не хранит объекты, итерирует по одному элементу из итерируемых объектов до тех пор, \n",
    "# пока элементы в этих объектах не закончатся. Далее будет ошибка StopIteration\n",
    "\n",
    "# Цикл for неявно создает итератор\n",
    "\n",
    "x = [1, 2, 3, 4, 5]\n",
    "\n",
    "iterator = iter(x)\n",
    "\n",
    "print(next(iterator))\n",
    "print(type(iterator))\n",
    "\n",
    "s = 'asdfg'\n",
    "\n",
    "iterator = iter(s)\n",
    "print(next(iterator))\n",
    "print(next(iterator))\n",
    "print(next(iterator))\n",
    "print(type(iterator))\n",
    "\n",
    "\n",
    "x = range(6)\n",
    "x = iter(x)\n",
    "for i in x:\n",
    "    print(i)\n",
    "    next(x)"
   ]
  },
  {
   "cell_type": "code",
   "execution_count": 248,
   "metadata": {},
   "outputs": [
    {
     "name": "stdout",
     "output_type": "stream",
     "text": [
      "2 4 6\n"
     ]
    }
   ],
   "source": [
    "# Подается список целых чисел в одну строку через пробел. \n",
    "# Необходимо при помощи функции enumerate вывести в одну строку только те числа, которые находятся на нечетных индексах.\n",
    "\n",
    "lst = map(int, '1 2 3 4 5 6 7'.split())\n",
    "\n",
    "print(*[n for i, n in enumerate(lst) if i%2])"
   ]
  },
  {
   "cell_type": "code",
   "execution_count": 249,
   "metadata": {},
   "outputs": [
    {
     "name": "stdout",
     "output_type": "stream",
     "text": [
      "[['резкая', 1], ['двоечка', 2], ['от', 3], ['химички', 4]]\n"
     ]
    }
   ],
   "source": [
    "# На вход подается список слов. Необходимо при помощи функции enumerate создать новый список со вложенными списками со структурой: \n",
    "# [<элемент из начального списка>, <его порядковый номер>]\n",
    "\n",
    "s = 'резкая двоечка от химички'\n",
    "\n",
    "print([[v, k] for k, v in enumerate(s.split(), start=1)])"
   ]
  },
  {
   "cell_type": "code",
   "execution_count": 250,
   "metadata": {},
   "outputs": [
    {
     "name": "stdout",
     "output_type": "stream",
     "text": [
      "индекс 0, значение 2\n",
      "индекс 1, значение 5\n",
      "индекс 2, значение 34\n",
      "индекс 3, значение 82\n",
      "индекс 4, значение 3\n",
      "индекс 5, значение 83\n",
      "[4, 10, 68, 164, 6, 166]\n"
     ]
    }
   ],
   "source": [
    "# Подается список целых чисел в одну строку через пробел. \n",
    "# При помощи функции enumerate вам необходимо на каждой итерации вывести информацию о объекте в формате:\n",
    "\n",
    "# индекс <индекс>, значение <значение>\n",
    "\n",
    "# Также в пределах итерации вы должны после вывода информации изменить объект списка, умножив его на 2.\n",
    "# В конце вывести измененный список.\n",
    "s = '2 5 34 82 3 83'\n",
    "nums = list(map(int, s.split()))\n",
    "\n",
    "for k, v in enumerate(nums): print(f'индекс {k}, значение {v}'); nums[k] = v * 2\n",
    "print(nums)"
   ]
  },
  {
   "cell_type": "markdown",
   "metadata": {},
   "source": [
    "# 1.5 Списки"
   ]
  },
  {
   "cell_type": "code",
   "execution_count": 251,
   "metadata": {},
   "outputs": [
    {
     "name": "stdout",
     "output_type": "stream",
     "text": [
      "['мыть-или-не-мыть-вот-в-чем-вопрос', 'наташа-ростова-приключения-во-вьетнаме', 'лучший-курс-на-степике', 'утка-кря-кря-кря-папа-хрю-хрю-хрю']\n"
     ]
    }
   ],
   "source": [
    "lst = [\"мыть  или не  мыть вот   в чем вопрос\", \"наташа   ростова приключения во вьетнаме\",\n",
    "      \"лучший курс   на степике\", \"утка   кря кря кря   папа хрю хрю хрю\"]\n",
    "\n",
    "# продолжите решение здесь\n",
    "\n",
    "for i in range(len(lst)):\n",
    "    while '  ' in lst[i]:\n",
    "        lst[i] = lst[i].replace('  ', ' ')\n",
    "    lst[i] = lst[i].replace(' ', '-')\n",
    "print(lst)"
   ]
  },
  {
   "cell_type": "code",
   "execution_count": 252,
   "metadata": {},
   "outputs": [
    {
     "name": "stdout",
     "output_type": "stream",
     "text": [
      "[64, 64, 64, 32, 16, 8, 4, 2]\n"
     ]
    }
   ],
   "source": [
    "# Общий вес = weight, блины номиналом 1, 2, 4, 8, 16, 32, 64.\n",
    "# Набрать общий вес минимальным числом блинов. Вывести блины (их номиналы номиналами).\n",
    "\n",
    "weight = 255\n",
    "arr = sorted([1, 2, 4, 8, 16, 32, 64], reverse=True)\n",
    "res = []\n",
    "\n",
    "for i in arr:\n",
    "    while weight - i > 0:\n",
    "        weight -= i\n",
    "        res.append(i)\n",
    "\n",
    "print(res)"
   ]
  },
  {
   "cell_type": "markdown",
   "metadata": {},
   "source": [
    "# 1.6 Генератор списков"
   ]
  },
  {
   "cell_type": "code",
   "execution_count": 253,
   "metadata": {},
   "outputs": [
    {
     "name": "stdout",
     "output_type": "stream",
     "text": [
      "10 9 8 7 6 5 4 3 2\n"
     ]
    }
   ],
   "source": [
    "# На вход подается двумерный список с целыми числами. \n",
    "# Необходимо при помощи генератора списков создать одномерный список, так чтобы элементы в нем шли в обратном порядке. \n",
    "# Т.е. считывание элементов в двумерном списке начиналось с последнего элемента последнего вложенного списка. \n",
    "# Также вам надо игнорировать все числа, оканчивающиеся на 1.\n",
    "\n",
    "lst = [\n",
    "    [1, 2, 3, 4, 5],\n",
    "    [6, 7, 8, 9, 10]\n",
    "]\n",
    "\n",
    "print(*[i for row in lst[::-1] for i in row[::-1] if i % 10 != 1])"
   ]
  },
  {
   "cell_type": "markdown",
   "metadata": {},
   "source": [
    "# 2  Словари"
   ]
  },
  {
   "cell_type": "code",
   "execution_count": 254,
   "metadata": {},
   "outputs": [
    {
     "name": "stdout",
     "output_type": "stream",
     "text": [
      "{'emp_1': {'name': 'Garry', 'salary': 9000}, 'emp_2': {'name': 'Ron', 'salary': 6000}, 'emp_3': {'name': 'Dobby', 'salary': 700}}\n"
     ]
    }
   ],
   "source": [
    "# исходные данные        \n",
    "workers = {\n",
    "    'emp_1': {'name': 'Garry', 'salary': 9000},\n",
    "    'emp_2': {'name': 'Ron', 'salary': 6000},\n",
    "    'emp_3': {'name': 'Dobby', 'salary': 500}\n",
    "}        \n",
    "\n",
    "# продолжите решение здесь\n",
    "\n",
    "for emp, info in workers.items():\n",
    "    if info['name'] == 'Dobby':\n",
    "        info['salary'] = 700\n",
    "\n",
    "print(workers)"
   ]
  },
  {
   "cell_type": "code",
   "execution_count": 255,
   "metadata": {},
   "outputs": [
    {
     "name": "stdout",
     "output_type": "stream",
     "text": [
      "1000000\n",
      "50000\n",
      "150000\n",
      "[{'name': 'Alex', 'position': 'director'}, {'name': 'Marty', 'position': 'security'}, {'name': 'Gloria', 'position': 'accountant'}]\n"
     ]
    }
   ],
   "source": [
    "# Дан список сотрудников фирмы. В нем лежат данные работников в виде словарей. Данный вариант списка предназначен\n",
    "# для начальства. А сотрудникам подается этот же список, но в котором в словарях не будет параметра \"salary\".\n",
    "\n",
    "# вводные данные(не изменять)\n",
    "employees = [\n",
    "    {\n",
    "        'name': 'Alex',\n",
    "        'position': 'director',\n",
    "        'salary': 1000000\n",
    "    },\n",
    "{\n",
    "        'name': 'Marty',\n",
    "        'position': 'security',\n",
    "        'salary': 50000\n",
    "    },\n",
    "{\n",
    "        'name': 'Gloria',\n",
    "        'position': 'accountant',\n",
    "        'salary': 150000\n",
    "    }\n",
    "]\n",
    "\n",
    "# продолжите решение здесь\n",
    "\n",
    "for item in employees:\n",
    "    print(item.pop('salary'))\n",
    "print(employees)\n",
    "\n"
   ]
  },
  {
   "cell_type": "code",
   "execution_count": 256,
   "metadata": {},
   "outputs": [
    {
     "name": "stdout",
     "output_type": "stream",
     "text": [
      "тостер в корзине у Брагин Вовчик, Ирина Михайловна, Кратос\n"
     ]
    }
   ],
   "source": [
    "# вводные данные\n",
    "users = {\n",
    "    \"Николя\": [\"кружка\", \"стакан\", \"рюмка\"],\n",
    "    \"Брагин Вовчик\": [\"лифчик\", \"косметика\", \"тостер\", \"плюшевый мишка\"],\n",
    "    \"Хайзенберг\": [\"мерная колба\", \"спирт\", \"огурчик\"],\n",
    "    \"Ирина Михайловна\": [\"тостер\", \"микроволновка\", \"несущая стена\"],\n",
    "    \"Кратос\": [\"топор\", \"доспехи\", \"умная колонка\", \"тостер\"]\n",
    "}\n",
    "\n",
    "# продолжите решение здесь\n",
    "\n",
    "s = 'тостер'\n",
    "names = []\n",
    "\n",
    "for k, v in users.items():\n",
    "    if s in v:\n",
    "        names.append(k)\n",
    "\n",
    "print(f'{s} в корзине у {\", \".join(names)}' if names else f'{s} отсутствует в корзинах пользователей')"
   ]
  },
  {
   "cell_type": "code",
   "execution_count": 257,
   "metadata": {},
   "outputs": [
    {
     "name": "stdout",
     "output_type": "stream",
     "text": [
      "{'М': 1, 'о': 4, 'ж': 1, 'е': 2, 'т': 2, 'л': 2, 'у': 1, 'ч': 1, 'ш': 1, 'в': 2, 'с': 2, 'п': 1, 'ь': 2, 'з': 1, 'а': 1, 'я': 1, 's': 1, 'e': 2, 't': 2, 'd': 1, 'f': 1, 'a': 1, 'u': 1, 'l': 1}\n",
      "{'М': 1, 'о': 4, 'ж': 1, 'е': 2, 'т': 2, 'л': 2, 'у': 1, 'ч': 1, 'ш': 1, 'в': 2, 'с': 2, 'п': 1, 'ь': 2, 'з': 1, 'а': 1, 'я': 1, 's': 1, 'e': 2, 't': 2, 'd': 1, 'f': 1, 'a': 1, 'u': 1, 'l': 1}\n"
     ]
    }
   ],
   "source": [
    "# На вход подается строка. Необходимо посчитать количество букв в строке и создать словарь типа:\n",
    "\n",
    "# {<буква>: <количество>, <буква>: <количество>, ...}\n",
    "\n",
    "s = 'Может лучше воспользоваться setdefault?'\n",
    "\n",
    "from collections import Counter\n",
    "print(dict(Counter(filter(str.isalpha, s))))\n",
    "\n",
    "s = [i for i in s if i.isalpha()]\n",
    "d = {}\n",
    "\n",
    "for i in s:\n",
    "    d[i] = d.get(i, 0) + 1\n",
    "\n",
    "print(d)"
   ]
  },
  {
   "cell_type": "code",
   "execution_count": 258,
   "metadata": {},
   "outputs": [
    {
     "data": {
      "text/plain": [
       "{'Похоть': ['Игнат'],\n",
       " 'Жадность': ['Жора', 'Гжижек'],\n",
       " 'Гнев': ['Митя'],\n",
       " 'Лень': ['Лёня'],\n",
       " 'Эксгибиционизм': ['Шакира']}"
      ]
     },
     "execution_count": 258,
     "metadata": {},
     "output_type": "execute_result"
    }
   ],
   "source": [
    "# Бухгалтерия ада формирует базу грешников в виде словаря. На вход подается список в формате:\n",
    "\n",
    "# [\"<название греха> <имя грешника>\", \"<название греха> <имя грешника>\", \"<название греха> <имя грешника>\"]\n",
    "\n",
    "# Нужно сформировать и вывести на экран словарь в котором ключами будут названия грехов(строка), а значениями списки имен грешников. \n",
    "\n",
    "lst = ['Похоть Игнат', 'Жадность Жора', 'Гнев Митя', 'Лень Лёня', 'Жадность Гжижек', 'Эксгибиционизм Шакира']\n",
    "d= {}\n",
    "\n",
    "for item in lst:\n",
    "    k, v = item.split()\n",
    "    d[k] = d.get(k, []) + [v]\n",
    "d"
   ]
  },
  {
   "cell_type": "code",
   "execution_count": 259,
   "metadata": {},
   "outputs": [
    {
     "data": {
      "text/plain": [
       "{'Танос': {'Сторона': 'Зло',\n",
       "  'Пол': 'М',\n",
       "  'Суперспособность': 'Бросок через прогиб'},\n",
       " 'Человек-паук': {'Сторона': 'Добро',\n",
       "  'Пол': 'М',\n",
       "  'Суперспособность': 'Паутина'},\n",
       " 'Енот': {'Сторона': 'Добро',\n",
       "  'Пол': 'М',\n",
       "  'Суперспособность': 'Щекочет носиком'},\n",
       " 'Человек-уборщица': {'Сторона': 'Зло',\n",
       "  'Пол': 'Д',\n",
       "  'Суперспособность': 'Сокрушительный удар шваброй'},\n",
       " 'Дональд Дак': {'Сторона': 'Добро',\n",
       "  'Пол': 'M',\n",
       "  'Суперспособность': 'Супер кря'},\n",
       " 'Харли Квин': {'Сторона': 'Зло',\n",
       "  'Пол': 'Д',\n",
       "  'Суперспособность': 'Удар битой прям там'},\n",
       " 'Гамора': {'Сторона': 'Добро', 'Пол': 'Д', 'Суперспособность': 'Истерика'}}"
      ]
     },
     "execution_count": 259,
     "metadata": {},
     "output_type": "execute_result"
    }
   ],
   "source": [
    "# Список привести к словарю вида:\n",
    "# heroes = {\n",
    "#     'Танос': {'Сторона': 'Зло', 'Пол': 'М', 'Суперспособность': 'Бросок через прогиб'}\n",
    "#     }\n",
    "\n",
    "# вводные данные        \n",
    "heroes = [\n",
    "    ['Танос', 'Зло', 'М', 'Бросок через прогиб'],\n",
    "    ['Человек-паук', 'Добро', 'М', 'Паутина'],\n",
    "    ['Енот', 'Добро', 'М', 'Щекочет носиком'],\n",
    "    ['Человек-уборщица', 'Зло', 'Д', 'Сокрушительный удар шваброй'],\n",
    "    ['Дональд Дак', 'Добро', 'M', 'Супер кря'],\n",
    "    ['Харли Квин', 'Зло', 'Д', 'Удар битой прям там'],\n",
    "    ['Гамора', 'Добро', 'Д', 'Истерика'],\n",
    "]        \n",
    "\n",
    "# продолжить решение здесь\n",
    "\n",
    "{name: {'Сторона': side, 'Пол': sex, 'Суперспособность': spell} for name, side, sex, spell in heroes}\n",
    "\n",
    "# {i[0]: dict(zip(['Сторона', 'Пол', 'Суперспособность'], i[1:])) for i in heroes}"
   ]
  },
  {
   "cell_type": "code",
   "execution_count": 260,
   "metadata": {},
   "outputs": [
    {
     "data": {
      "text/plain": [
       "{1: 'кавай',\n",
       " 2: 'анкилозавр',\n",
       " 3: 'зюзик',\n",
       " 4: 'лопасть',\n",
       " 5: 'кругляш',\n",
       " 6: 'брякнуться',\n",
       " 7: 'казеин',\n",
       " 8: 'ультравинегрет'}"
      ]
     },
     "execution_count": 260,
     "metadata": {},
     "output_type": "execute_result"
    }
   ],
   "source": [
    "# вводные данные        \n",
    "s = (r'1\\кавай 2\\анкилозавр 3\\зюзик 4\\лопасть 5\\кругляш 6\\брякнуться'\n",
    "     r' 7\\казеин 8\\ультравинегрет')  \n",
    "\n",
    "\n",
    "# продолжить решение здесь\n",
    "\n",
    "{int(k): v for k, v in [i.split('\\\\') for i in s.split()]}"
   ]
  },
  {
   "cell_type": "markdown",
   "metadata": {},
   "source": [
    "# 2.1 Области видимости переменных"
   ]
  },
  {
   "cell_type": "code",
   "execution_count": 261,
   "metadata": {},
   "outputs": [
    {
     "name": "stdout",
     "output_type": "stream",
     "text": [
      "7\n"
     ]
    }
   ],
   "source": [
    "x = 5\n",
    "\n",
    "def func():\n",
    "    print(x + 2)\n",
    "\n",
    "func()"
   ]
  },
  {
   "cell_type": "code",
   "execution_count": 262,
   "metadata": {},
   "outputs": [
    {
     "name": "stdout",
     "output_type": "stream",
     "text": [
      "x_func_2 = 3\n",
      "x_func_1 = 2\n",
      "global x = 3\n"
     ]
    }
   ],
   "source": [
    "x = 1 # глобальная переменная\n",
    "\n",
    "def func_1():\n",
    "    x = 2 # локальная переменная для func_1\n",
    "\n",
    "    def func_2():\n",
    "        global x # использование переменной глобальной\n",
    "        x = 3 # локальная переменная для func_2\n",
    "        print('x_func_2 =', x)\n",
    "    func_2()\n",
    "    print('x_func_1 =', x)\n",
    "\n",
    "func_1()\n",
    "print('global x =', x)"
   ]
  },
  {
   "cell_type": "code",
   "execution_count": 263,
   "metadata": {},
   "outputs": [
    {
     "name": "stdout",
     "output_type": "stream",
     "text": [
      "x_func_2 = 3\n",
      "x_func_1 = 3\n",
      "global x = 1\n"
     ]
    }
   ],
   "source": [
    "x = 1\n",
    "\n",
    "def func_1():\n",
    "    x = 2\n",
    "\n",
    "    def func_2():\n",
    "        nonlocal x # использование переменной на уровень выше (переменной, принадлежащей области имен родительской функции)\n",
    "        x = 3\n",
    "        print('x_func_2 =', x)\n",
    "    func_2()\n",
    "    print('x_func_1 =', x)\n",
    "\n",
    "\n",
    "func_1()\n",
    "print('global x =', x)"
   ]
  },
  {
   "cell_type": "code",
   "execution_count": 264,
   "metadata": {},
   "outputs": [
    {
     "name": "stdout",
     "output_type": "stream",
     "text": [
      "Глобальная перменная создана из локальной области функции\n"
     ]
    }
   ],
   "source": [
    "def func():\n",
    "    global x\n",
    "    x = 'Глобальная перменная создана из локальной области функции'\n",
    "\n",
    "func()\n",
    "\n",
    "print(x)"
   ]
  },
  {
   "cell_type": "markdown",
   "metadata": {},
   "source": [
    "# 2.2 lambda-функции"
   ]
  },
  {
   "cell_type": "code",
   "execution_count": 265,
   "metadata": {},
   "outputs": [
    {
     "name": "stdout",
     "output_type": "stream",
     "text": [
      "15\n",
      "15\n"
     ]
    }
   ],
   "source": [
    "func = lambda x: x + 10\n",
    "\n",
    "print(func(5))\n",
    "\n",
    "func = (lambda x: x + 10)(5)\n",
    "\n",
    "print(func)"
   ]
  },
  {
   "cell_type": "code",
   "execution_count": 266,
   "metadata": {},
   "outputs": [
    {
     "name": "stdout",
     "output_type": "stream",
     "text": [
      "5\n"
     ]
    }
   ],
   "source": [
    "print((lambda: 5)())"
   ]
  },
  {
   "cell_type": "code",
   "execution_count": 267,
   "metadata": {},
   "outputs": [
    {
     "name": "stdout",
     "output_type": "stream",
     "text": [
      "18\n"
     ]
    }
   ],
   "source": [
    "# В lambda функции можно использовать моржовый оператор:\n",
    "\n",
    "z = lambda x: x + (y := 10)\n",
    "print(z(8))"
   ]
  },
  {
   "cell_type": "code",
   "execution_count": 268,
   "metadata": {},
   "outputs": [
    {
     "data": {
      "text/plain": [
       "9"
      ]
     },
     "execution_count": 268,
     "metadata": {},
     "output_type": "execute_result"
    }
   ],
   "source": [
    "f1 = lambda x, y, z: x + y + z\n",
    "\n",
    "f1(1, 3, 5)"
   ]
  },
  {
   "cell_type": "code",
   "execution_count": 269,
   "metadata": {},
   "outputs": [
    {
     "data": {
      "text/plain": [
       "12"
      ]
     },
     "execution_count": 269,
     "metadata": {},
     "output_type": "execute_result"
    }
   ],
   "source": [
    "f2 = lambda x, y, z=3: x + y + z\n",
    "\n",
    "f2(4, 5)"
   ]
  },
  {
   "cell_type": "code",
   "execution_count": 270,
   "metadata": {},
   "outputs": [
    {
     "name": "stdout",
     "output_type": "stream",
     "text": [
      "14\n",
      "8\n",
      "12\n"
     ]
    }
   ],
   "source": [
    "f3 = lambda *args: sum(args)\n",
    "\n",
    "print(f3(2, 5, 7))\n",
    "\n",
    "arr = [3, 1, 4]\n",
    "\n",
    "print(f3(*arr))\n",
    "\n",
    "tpl = (3, 5, 4)\n",
    "\n",
    "print(f3(*tpl))"
   ]
  },
  {
   "cell_type": "code",
   "execution_count": 271,
   "metadata": {},
   "outputs": [
    {
     "data": {
      "text/plain": [
       "27"
      ]
     },
     "execution_count": 271,
     "metadata": {},
     "output_type": "execute_result"
    }
   ],
   "source": [
    "f4 = lambda **kwargs: sum(kwargs.values())\n",
    "\n",
    "d = {'a': 12, 'b': 15}\n",
    "\n",
    "f4(**d)"
   ]
  },
  {
   "cell_type": "code",
   "execution_count": 272,
   "metadata": {},
   "outputs": [
    {
     "name": "stdout",
     "output_type": "stream",
     "text": [
      "True\n",
      "False\n"
     ]
    }
   ],
   "source": [
    "# Надо создать lambda-функцию, которая принимает целое число и определяет является ли оно кратным 13 или 4. \n",
    "# Если да, то возвращается True, иначе False.\n",
    "\n",
    "func = lambda x: x % 13 == 0 or x % 4 == 0\n",
    "print(func(4))\n",
    "\n",
    "func = lambda x: any(not x % i for i in (4, 13))\n",
    "print(func(5))"
   ]
  },
  {
   "cell_type": "code",
   "execution_count": 273,
   "metadata": {},
   "outputs": [
    {
     "data": {
      "text/plain": [
       "33.0"
      ]
     },
     "execution_count": 273,
     "metadata": {},
     "output_type": "execute_result"
    }
   ],
   "source": [
    "# На вход подается произвольное количество целых чисел в одну строку через пробел. \n",
    "# Эти числа являются параметрами lambda-функции, которая возвращает их среднее арифметическое. \n",
    "# Результат вывести на экран.\n",
    "\n",
    "func = lambda s: sum(x := list(map(int, s.split()))) / len(x)\n",
    "\n",
    "s = '4 23 67 4 89 11'\n",
    "\n",
    "func(s)"
   ]
  },
  {
   "cell_type": "code",
   "execution_count": 274,
   "metadata": {},
   "outputs": [
    {
     "data": {
      "text/plain": [
       "True"
      ]
     },
     "execution_count": 274,
     "metadata": {},
     "output_type": "execute_result"
    }
   ],
   "source": [
    "# Создать lambda-функцию, которая, принимает в себя 1 символ и определяет, игнорируя регистр, \n",
    "# является ли он буквой латинского алфавита(True/False). \n",
    "# Символ подается с консоли, результат работы функции вывести в консоль.\n",
    "\n",
    "func = lambda s: ord(s.lower()) in range(ord('a'), ord('z') + 1)\n",
    "s = 'z'\n",
    "\n",
    "func(s)"
   ]
  },
  {
   "cell_type": "code",
   "execution_count": 275,
   "metadata": {},
   "outputs": [
    {
     "name": "stdout",
     "output_type": "stream",
     "text": [
      "6\n"
     ]
    }
   ],
   "source": [
    "# Минимальное количество купюр\n",
    "# Нужно создать lambda-функцию, которая принимает какое-то большое целое число(сумму, которую нужно отдать) \n",
    "# и возвращает общее количество купюр/монет которыми мы должны сдать сдачу по принципу: \n",
    "# рассчитаться наиболее крупным номиналом - отдать наименьшее количество купюр/монет. \n",
    "# Будем считать, что у нас есть неограниченное количество купюр/монет номиналом (1000, 500, 100, 50, 10, 5). \n",
    "# На вход подается сумма, которая примет наша lambda-функция, результат функции вывести в консоль.\n",
    "\n",
    "f = lambda x: x // 1000 + x % 1000 // 500 + x % 500 // 100 + x % 100 // 50 + x % 50 // 10 + x % 10 // 5\n",
    "\n",
    "print(f(2035))"
   ]
  },
  {
   "cell_type": "code",
   "execution_count": 276,
   "metadata": {},
   "outputs": [
    {
     "name": "stdout",
     "output_type": "stream",
     "text": [
      "6\n"
     ]
    }
   ],
   "source": [
    "def qwer(n):\n",
    "    c = [1000, 500, 100, 50, 10, 5]\n",
    "    r = 0\n",
    "    for i in c:\n",
    "        r += n // i\n",
    "        n %= i\n",
    "    return r\n",
    "func = lambda n: qwer(n)\n",
    "\n",
    "print(func(2035))"
   ]
  },
  {
   "cell_type": "code",
   "execution_count": 277,
   "metadata": {},
   "outputs": [
    {
     "name": "stdout",
     "output_type": "stream",
     "text": [
      "6\n"
     ]
    }
   ],
   "source": [
    "nominals =  (1000, 500, 100, 50, 10, 5)\n",
    "\n",
    "f = lambda x, i: x // 5 if i == len(nominals) - 1 else x // nominals[i] + f(x % nominals[i], i + 1)\n",
    "\n",
    "print(f(2035, 0))"
   ]
  },
  {
   "cell_type": "markdown",
   "metadata": {},
   "source": [
    "# 2.3 Замыкание функций"
   ]
  },
  {
   "cell_type": "code",
   "execution_count": 278,
   "metadata": {},
   "outputs": [
    {
     "name": "stdout",
     "output_type": "stream",
     "text": [
      "first\n",
      "second\n",
      "third\n",
      "fourth\n"
     ]
    }
   ],
   "source": [
    "def f_1():\n",
    "    \n",
    "    def f_2():\n",
    "        print('second')\n",
    "        print('third')\n",
    "        return 'fourth'\n",
    "\n",
    "    print('first')\n",
    "    return f_2\n",
    "\n",
    "x = f_1()\n",
    "print(x())"
   ]
  },
  {
   "cell_type": "code",
   "execution_count": 279,
   "metadata": {},
   "outputs": [
    {
     "name": "stdout",
     "output_type": "stream",
     "text": [
      "15\n"
     ]
    }
   ],
   "source": [
    "# Создайте функцию f_1, которая в свою очередь возвращает функцию f_2. \n",
    "# А она принимает в себя целое число, которое и возвращает, но увеличенное на 5.\n",
    "\n",
    "def f_1():\n",
    "    def f_2(n):\n",
    "        return n + 5\n",
    "    return f_2\n",
    "\n",
    "print(f_1()(10))"
   ]
  },
  {
   "cell_type": "code",
   "execution_count": 280,
   "metadata": {},
   "outputs": [
    {
     "name": "stdout",
     "output_type": "stream",
     "text": [
      "3 5 10\n"
     ]
    }
   ],
   "source": [
    "# Нужно объявить внешнюю функцию f_1 без параметров, которая должна суммировать \n",
    "# и сохранять в себе все значения аргумента(целое число) внутренней функции f_2, \n",
    "# которая объявляется внутри f_1. \n",
    "# Функция f_2 должна возвращать эту сумму.\n",
    "\n",
    "def f_1():\n",
    "    total = 0\n",
    "\n",
    "    def f_2(n):\n",
    "        nonlocal total\n",
    "        total += n\n",
    "        return total\n",
    "\n",
    "    return f_2\n",
    "\n",
    "x = f_1()\n",
    "print(x(3), x(2), x(5))"
   ]
  },
  {
   "cell_type": "code",
   "execution_count": 281,
   "metadata": {},
   "outputs": [
    {
     "name": "stdout",
     "output_type": "stream",
     "text": [
      "21\n"
     ]
    }
   ],
   "source": [
    "# Необходимо создать функцию f_1, которая принимает в себя число. \n",
    "# Вложенная функция f_2 также принимает в себя числовой аргумент \n",
    "# и возвращает результат умножения аргументов обоих функций.\n",
    "\n",
    "def f_1(a):\n",
    "    def f_2(b):\n",
    "        return a * b\n",
    "\n",
    "    return f_2\n",
    "\n",
    "x = f_1(3)\n",
    "print(x(7))"
   ]
  },
  {
   "cell_type": "code",
   "execution_count": 282,
   "metadata": {},
   "outputs": [
    {
     "name": "stdout",
     "output_type": "stream",
     "text": [
      "func_1\n",
      "func_2\n",
      "func_3\n",
      "func_4\n"
     ]
    },
    {
     "data": {
      "text/plain": [
       "'Ну и зачем тебе это?'"
      ]
     },
     "execution_count": 282,
     "metadata": {},
     "output_type": "execute_result"
    }
   ],
   "source": [
    "def func_1():\n",
    "    print('func_1')\n",
    "    def func_2():\n",
    "        print('func_2')\n",
    "        def func_3():\n",
    "            print('func_3')\n",
    "            def func_4():\n",
    "                print('func_4')\n",
    "                def func_5():\n",
    "                    return 'Ну и зачем тебе это?'\n",
    "                return func_5\n",
    "            return func_4\n",
    "        return func_3\n",
    "    return func_2\n",
    "\n",
    "\n",
    "func_1()()()()()"
   ]
  },
  {
   "cell_type": "code",
   "execution_count": 283,
   "metadata": {},
   "outputs": [
    {
     "data": {
      "text/plain": [
       "'Ну и зачем тебе это?'"
      ]
     },
     "execution_count": 283,
     "metadata": {},
     "output_type": "execute_result"
    }
   ],
   "source": [
    "func_1 = lambda:lambda:lambda:lambda:lambda:'Ну и зачем тебе это?'\n",
    "\n",
    "func_1()()()()()"
   ]
  },
  {
   "cell_type": "code",
   "execution_count": 284,
   "metadata": {},
   "outputs": [
    {
     "name": "stdout",
     "output_type": "stream",
     "text": [
      "56789\n",
      "NСладкий бубалехZ\n"
     ]
    }
   ],
   "source": [
    "# Объявите функцию f_1, которая принимает 2 позиционных целочисленных аргумента l и r, \n",
    "# которые фактически являются номерами символов в таблице Unicode, соответственно в эти символы эти числа необходимо преобразовать. \n",
    "# Внутри функции объявляется функция f_2, которая принимает строку s и возвращает конкатенацию l + s + r.\n",
    "\n",
    "def f_1(l, r):\n",
    "    l = chr(l)\n",
    "    r = chr(r)\n",
    "    def f_2(s):\n",
    "        return l + s + r\n",
    "    return f_2\n",
    "\n",
    "x = f_1(53, 57)\n",
    "print(x('678'))\n",
    "\n",
    "x = f_1(78, 90)\n",
    "print(x('Сладкий бубалех'))"
   ]
  },
  {
   "cell_type": "code",
   "execution_count": 285,
   "metadata": {},
   "outputs": [
    {
     "name": "stdout",
     "output_type": "stream",
     "text": [
      "{1: 'один'}\n",
      "{1: 'один', 2: 'два'}\n",
      "{1: 'один', 2: 'два', 3: 'три'}\n"
     ]
    }
   ],
   "source": [
    "# Создайте функцию f_1 без параметров, которая вызывает функцию f_2, \n",
    "# принимающую 1 параметр любого типа. Функция f_1 должна в себе сохранять параметры функции f_2 в виде словаря, \n",
    "# где ключ - номер вызова f_2, \n",
    "# значение - аргумент с которым вызвали функцию. \n",
    "# Сама же функция f_2 возвращает этот словарь.\n",
    "\n",
    "# x = f_1()\n",
    "# x('один')=> {1: 'один'}\n",
    "# x('два') => {1: 'один', 2: 'два'}\n",
    "# x('три') => {1: 'один', 2: 'два', 3: 'три'}\n",
    "\n",
    "def f_1():\n",
    "    cnt = 0\n",
    "    d = {}\n",
    "    def f_2(s):\n",
    "        nonlocal cnt, d\n",
    "        cnt += 1\n",
    "        d.update({cnt: s})\n",
    "        return d\n",
    "\n",
    "    return f_2\n",
    "\n",
    "x = f_1()\n",
    "print(x('один'))\n",
    "print(x('два'))\n",
    "print(x('три'))"
   ]
  },
  {
   "cell_type": "markdown",
   "metadata": {},
   "source": [
    "# 2.4 Декораторы"
   ]
  },
  {
   "cell_type": "code",
   "execution_count": 286,
   "metadata": {},
   "outputs": [
    {
     "name": "stdout",
     "output_type": "stream",
     "text": [
      "Начало функции\n",
      "Функция func в работе...\n",
      "Конец функции\n"
     ]
    }
   ],
   "source": [
    "# Первый вариант\n",
    "\n",
    "def decorator(func):\n",
    "    def wrapper():\n",
    "        print('Начало функции')\n",
    "        func()\n",
    "        print('Конец функции')\n",
    "    return wrapper\n",
    "\n",
    "\n",
    "@decorator\n",
    "def funcx():\n",
    "    print('Функция func в работе...')\n",
    "\n",
    "\n",
    "funcx()"
   ]
  },
  {
   "cell_type": "code",
   "execution_count": 287,
   "metadata": {},
   "outputs": [
    {
     "name": "stdout",
     "output_type": "stream",
     "text": [
      "Начало функции\n",
      "Функция func в работе...\n",
      "Конец функции\n"
     ]
    }
   ],
   "source": [
    "# Второй вариант\n",
    "\n",
    "def decorator(func):\n",
    "    def wrapper():\n",
    "        print('Начало функции')\n",
    "        func()\n",
    "        print('Конец функции')\n",
    "    return wrapper\n",
    "\n",
    "\n",
    "def funcx():\n",
    "    print('Функция func в работе...')\n",
    "\n",
    "\n",
    "funcx = decorator(funcx)\n",
    "funcx()"
   ]
  },
  {
   "cell_type": "code",
   "execution_count": 288,
   "metadata": {},
   "outputs": [
    {
     "name": "stdout",
     "output_type": "stream",
     "text": [
      "Начало функции\n",
      "Функция func с атрибутом abc в работе...\n",
      "Конец функции\n"
     ]
    }
   ],
   "source": [
    "def decorator(func):\n",
    "    def wrapper(*args):\n",
    "        print('Начало функции')\n",
    "        func(*args) # тут распаковка\n",
    "        print('Конец функции')\n",
    "    return wrapper\n",
    "\n",
    "\n",
    "@decorator\n",
    "def funcx(name):\n",
    "    print(f'Функция func с атрибутом {name} в работе...')\n",
    "\n",
    "\n",
    "funcx('abc')"
   ]
  },
  {
   "cell_type": "code",
   "execution_count": 289,
   "metadata": {},
   "outputs": [
    {
     "name": "stdout",
     "output_type": "stream",
     "text": [
      "Время работы ф-ии: 2.49361252784729\n",
      "39999988000001299999940000001\n"
     ]
    }
   ],
   "source": [
    "# Пример применения декоратора для измерения времени работы функции:\n",
    "\n",
    "import time\n",
    "\n",
    "def time_decorator(func):\n",
    "    def wrapper(*args, **kwargs):\n",
    "        x_1 = time.time()\n",
    "        f = func(*args, **kwargs)\n",
    "        print(f'Время работы ф-ии: {time.time() - x_1}')\n",
    "        return f\n",
    "    return wrapper\n",
    "\n",
    "\n",
    "# @time_decorator\n",
    "def funcx(lst):\n",
    "    s = 0\n",
    "    for i in lst:\n",
    "        s += i**3\n",
    "    return s\n",
    "\n",
    "\n",
    "funcx = time_decorator(funcx)   # эта конструкция аналогична @time_decorator\n",
    "print(funcx(range(1, 19999999)))"
   ]
  },
  {
   "cell_type": "code",
   "execution_count": 290,
   "metadata": {},
   "outputs": [
    {
     "name": "stdout",
     "output_type": "stream",
     "text": [
      "****до****\n",
      "----до----\n",
      "Бармалей\n",
      "---после---\n",
      "***после***\n"
     ]
    }
   ],
   "source": [
    "# Декорирование функции возможно сразу несколькими функциями-декораторами:\n",
    "\n",
    "def decor_1(func):\n",
    "    def wrapper(*args):\n",
    "        return f'----до----\\n{func(*args)}\\n---после---'\n",
    "    return wrapper\n",
    "\n",
    "\n",
    "def decor_2(func):\n",
    "    def wrapper(*args):\n",
    "        return f'****до****\\n{func(*args)}\\n***после***'\n",
    "    return wrapper\n",
    "\n",
    "\n",
    "@decor_2\n",
    "@decor_1\n",
    "def func_x(s):\n",
    "    return s\n",
    "\n",
    "\n",
    "print(func_x('Бармалей'))"
   ]
  },
  {
   "cell_type": "code",
   "execution_count": 291,
   "metadata": {},
   "outputs": [
    {
     "name": "stdout",
     "output_type": "stream",
     "text": [
      "Ну сейчас начнется\n",
      "Всё я запустилась\n",
      "А я предупреждал\n"
     ]
    }
   ],
   "source": [
    "# Напишите функцию-декоратор decor, которая пишет в консоли \n",
    "# перед вызовом декорируемой функции фразу - \"Ну сейчас начнется\". \n",
    "# А после вызова - \"А я предупреждал\"\n",
    "\n",
    "def decor(func):\n",
    "    def wrapper():\n",
    "        print('Ну сейчас начнется')\n",
    "        func()\n",
    "        print('А я предупреждал')\n",
    "    return wrapper\n",
    "\n",
    "\n",
    "@decor\n",
    "def funcx():\n",
    "    print('Всё я запустилась')\n",
    "\n",
    "\n",
    "funcx()"
   ]
  },
  {
   "cell_type": "code",
   "execution_count": 292,
   "metadata": {},
   "outputs": [
    {
     "name": "stdout",
     "output_type": "stream",
     "text": [
      "Сумма всех дробных чисел равна: 54.339999999999996\n"
     ]
    }
   ],
   "source": [
    "# Вам необходимо написать функцию func, которая принимает произвольное количество вещественных чисел \n",
    "# и возвращает ее сумму. Также вам нужно создать для нее декоратор decor, \n",
    "# который дополняет вызов функции строкой:\n",
    "\n",
    "# \"Сумма всех дробных чисел равна: <сумма>\"\n",
    "\n",
    "def decor(func):\n",
    "    def wrapper(*args):\n",
    "        f = func(args)\n",
    "        return f\"Сумма всех дробных чисел равна: {f}\"\n",
    "    return wrapper\n",
    "\n",
    "\n",
    "def func(nums):\n",
    "    return sum(nums)\n",
    "\n",
    "\n",
    "x = decor(func)\n",
    "print(x(5.65, 26.15, 22.54))"
   ]
  },
  {
   "cell_type": "code",
   "execution_count": 293,
   "metadata": {},
   "outputs": [
    {
     "name": "stdout",
     "output_type": "stream",
     "text": [
      "1. Поскользнулся\n",
      "2. упал\n",
      "3. закрытый_перелом\n",
      "4. потерял_сознание\n",
      "5. очнулся—гипс!\n"
     ]
    }
   ],
   "source": [
    "# Создайте функцию func, которая принимает строку и создает на ее основе список из слов. Далее необходимо создать декоратор decor, который преобразует этот список в пункты меню:\n",
    "\n",
    "# x = decor(func)\n",
    "# print(x(\"Поскользнулся упал закрытый_перелом потерял_сознание очнулся—гипс!\"))\n",
    "# ------------------------------------------------------------------------------\n",
    "# 1. Поскользнулся\n",
    "# 2. упал\n",
    "# 3. закрытый_перелом\n",
    "# 4. потерял_сознание\n",
    "# 5. очнулся—гипс!\n",
    "\n",
    "def decor(func):\n",
    "    def wrapper(s):\n",
    "        return '\\n'.join((f'{n}. {word}' for n,word in func(s)))\n",
    "    return wrapper\n",
    "\n",
    "def func(s:str)->list:\n",
    "    return list(enumerate(s.split(),1))\n",
    "\n",
    "x = decor(func)\n",
    "print(x(\"Поскользнулся упал закрытый_перелом потерял_сознание очнулся—гипс!\"))"
   ]
  },
  {
   "cell_type": "code",
   "execution_count": 294,
   "metadata": {},
   "outputs": [
    {
     "name": "stdout",
     "output_type": "stream",
     "text": [
      "['летять', 'утки', 'на луну']\n",
      "Функция должна принять хотя бы 1 аргумент\n"
     ]
    }
   ],
   "source": [
    "# Создайте функцию func, которая принимает произвольное количество позиционных параметров любых типов данных и возвращает их список. \n",
    "# Вам надо написать декоратор decor, который возвращает: \n",
    "\n",
    "# \"Функция должна принять хотя бы 1 аргумент\"\n",
    "# если функция не приняла ни одного аргумента. Иначе она работает по умолчанию.\n",
    "\n",
    "def func(*args):\n",
    "    return list(args)\n",
    "\n",
    "def decor(func):\n",
    "    def wrapper(*args, **kwargs):\n",
    "        x = func(*args)\n",
    "        return 'Функция должна принять хотя бы 1 аргумент' if len(x) == 0 else x\n",
    "    return wrapper\n",
    "\n",
    "\n",
    "x = decor(func)\n",
    "print(x('летять', 'утки', 'на луну'))\n",
    "\n",
    "x = decor(func)\n",
    "print(x())"
   ]
  },
  {
   "cell_type": "code",
   "execution_count": 295,
   "metadata": {},
   "outputs": [
    {
     "name": "stdout",
     "output_type": "stream",
     "text": [
      "(2499998500000324999970000001, 1.227888822555542)\n",
      "(2499998500000324999970000001, 0.0)\n"
     ]
    }
   ],
   "source": [
    "# Необходимо написать функцию func, которая принимает в себя целое число n \n",
    "# и возвращает сумму кубов в диапазоне от 1 до заданного числа n(не включая). \n",
    "# Нужно написать декоратор decor_1, который записывает в словарь предыдущий аргумент декорируемой функции \n",
    "# и ее результат, и если функция будет вызвана повторно с тем же аргументом, то результат будет возвращен мгновенно. \n",
    "# Также необходимо написать декоратор decor_2, который будет считать время работы функции. \n",
    "# Возвращаться будет кортеж, где первое число - результат функции, второе - время работы функции. \n",
    "# Для этого используйте функцию time из модуля time. Т.е. если вы запустите вашу декорируемую всеми декораторами функцию с аргументом, \n",
    "# с которым она уже запускалась, то результат должен выводиться мгновенно и соответственно время выполнения будет минимальным. \n",
    "# Нужно только написать функцию и 2 декоратора. Декорировать и вызывать ничего не нужно.\n",
    "\n",
    "import time\n",
    "\n",
    "def decor_1(func):\n",
    "    d = dict()\n",
    "    def wrapper(n):\n",
    "        if n in d:\n",
    "            return d.get(n)\n",
    "        return d.setdefault(n, func(n))\n",
    "    return wrapper\n",
    "\n",
    "def decor_2(func):\n",
    "    def wrapper(n):\n",
    "        start = time.time()\n",
    "        result = func(n)\n",
    "        stop = time.time()\n",
    "        return result, stop - start\n",
    "    return wrapper\n",
    "\n",
    "def func(n):\n",
    "    total = 0\n",
    "    for i in range(1, n):\n",
    "        total += i**3\n",
    "    return total\n",
    "\n",
    "x = decor_2(decor_1(func))\n",
    "print(x(9999999))\n",
    "print(x(9999999))"
   ]
  },
  {
   "cell_type": "markdown",
   "metadata": {},
   "source": [
    "# 2.5 Декораторы с параметрами"
   ]
  },
  {
   "cell_type": "code",
   "execution_count": 296,
   "metadata": {},
   "outputs": [
    {
     "name": "stdout",
     "output_type": "stream",
     "text": [
      "<function func at 0x0000016BA3E560C0>\n",
      "\n",
      "    Эта ф-ия аналог sum\n",
      "    :param it: iterable\n",
      "    :return: int\n",
      "    \n",
      "func\n"
     ]
    }
   ],
   "source": [
    "# Функция без декоратора возвращает оригинальное название функции и описание функции\n",
    "\n",
    "def decorator(func):\n",
    "    def wrapper(*args, **kwargs):\n",
    "        print(f'Начало работы ф-ии {func}')\n",
    "        return func(*args, **kwargs)\n",
    "    return wrapper\n",
    "\n",
    "\n",
    "# @decorator\n",
    "def func(it):\n",
    "    \"\"\"\n",
    "    Эта ф-ия аналог sum\n",
    "    :param it: iterable\n",
    "    :return: int\n",
    "    \"\"\"\n",
    "    return sum(it)\n",
    "\n",
    "\n",
    "print(func, func.__doc__, func.__name__, sep='\\n')"
   ]
  },
  {
   "cell_type": "code",
   "execution_count": 297,
   "metadata": {},
   "outputs": [
    {
     "name": "stdout",
     "output_type": "stream",
     "text": [
      "<function decorator.<locals>.wrapper at 0x0000016BA4406160>\n",
      "\n",
      "    Эта ф-ия аналог sum\n",
      "    :param it: iterable\n",
      "    :return: int\n",
      "    \n",
      "func\n"
     ]
    }
   ],
   "source": [
    "# Функция с декоратором возвращает обертку (wrapper) с её собсвенными параметрами названия и описания\n",
    "# Для возврата ориганльного названия и описания функции можно вручную переназначить параметрам обертки параметры функции\n",
    "\n",
    "def decorator(func):\n",
    "    def wrapper(*args, **kwargs):\n",
    "        print(f'Начало работы ф-ии {func}')\n",
    "        return func(*args, **kwargs)\n",
    "    wrapper.__name__ = func.__name__\n",
    "    wrapper.__doc__ = func.__doc__\n",
    "    return wrapper\n",
    "\n",
    "\n",
    "@decorator\n",
    "def func(it):\n",
    "    \"\"\"\n",
    "    Эта ф-ия аналог sum\n",
    "    :param it: iterable\n",
    "    :return: int\n",
    "    \"\"\"\n",
    "    return sum(it)\n",
    "\n",
    "\n",
    "print(func, func.__doc__, func.__name__, sep='\\n')"
   ]
  },
  {
   "cell_type": "code",
   "execution_count": 298,
   "metadata": {},
   "outputs": [
    {
     "name": "stdout",
     "output_type": "stream",
     "text": [
      "<function func at 0x0000016BA44063E0>\n",
      "\n",
      "    Эта ф-ия аналог sum\n",
      "    :param it: iterable\n",
      "    :return: int\n",
      "    \n",
      "func\n"
     ]
    }
   ],
   "source": [
    "# Второй(чаще используемый) воспользоваться специальным декоратором wraps из библиотеки functools:\n",
    "\n",
    "from functools import wraps\n",
    "\n",
    "def decorator(func):\n",
    "    @wraps(func)\n",
    "    def wrapper(*args, **kwargs):\n",
    "        print(f'Начало работы ф-ии {func}')\n",
    "        return func(*args, **kwargs)\n",
    "    return wrapper\n",
    "\n",
    "\n",
    "\n",
    "@decorator\n",
    "def func(it):\n",
    "    \"\"\"\n",
    "    Эта ф-ия аналог sum\n",
    "    :param it: iterable\n",
    "    :return: int\n",
    "    \"\"\"\n",
    "    return sum(it)\n",
    "\n",
    "\n",
    "print(func, func.__doc__, func.__name__, sep='\\n')"
   ]
  },
  {
   "cell_type": "code",
   "execution_count": 299,
   "metadata": {},
   "outputs": [
    {
     "name": "stdout",
     "output_type": "stream",
     "text": [
      "Аргументами должны быть объекты типа - int\n",
      "Аргументами должны быть объекты типа - int\n",
      "10\n"
     ]
    }
   ],
   "source": [
    "def decor(func):\n",
    "    def wrapper(*args):\n",
    "        if len([i for i in args if type(i) == int]) != len(args):\n",
    "            return f'Аргументами должны быть объекты типа - int'\n",
    "        return func(*args)\n",
    "    return wrapper\n",
    "\n",
    "def func(a, b):\n",
    "    return a + b\n",
    "\n",
    "x = decor(func)\n",
    "\n",
    "print(x(5, '5'))\n",
    "print(x(5.0, 5))\n",
    "print(x(5, 5))"
   ]
  },
  {
   "cell_type": "code",
   "execution_count": 300,
   "metadata": {},
   "outputs": [
    {
     "name": "stdout",
     "output_type": "stream",
     "text": [
      "85\n",
      "Аргументами должны быть объекты типа - <class 'str'>\n",
      "Аргументами должны быть объекты типа - <class 'str'>\n"
     ]
    }
   ],
   "source": [
    "# Декоратор с параметром очень похож на обычный. \n",
    "# Технически это тот же декоратор, только вложенный в еще одну функцию, \n",
    "# суть которой принять параметр и \"протащить\" его в обертку:\n",
    "\n",
    "def decor_param(typ):\n",
    "    def decor(func):\n",
    "        def wrapper(*args):\n",
    "            if len([i for i in args if type(i) == typ]) != len(args):\n",
    "                return f'Аргументами должны быть объекты типа - {typ}'\n",
    "            return func(*args)\n",
    "        return wrapper\n",
    "    return decor\n",
    "\n",
    "\n",
    "@decor_param(str)\n",
    "def func(a, b):\n",
    "    return a + b\n",
    "\n",
    "\n",
    "print(func('8', '5'))\n",
    "\n",
    "x = decor_param(int)(func)\n",
    "print(x(8, 5))\n",
    "\n",
    "x = decor_param(float)(func)\n",
    "print(x(8.0, 5.5))"
   ]
  },
  {
   "cell_type": "code",
   "execution_count": 301,
   "metadata": {},
   "outputs": [
    {
     "name": "stdout",
     "output_type": "stream",
     "text": [
      "[3, 4, 5, 6]\n",
      "[6, 7, 8, 9]\n"
     ]
    }
   ],
   "source": [
    "# Нужно создать функцию func, которая принимает произвольное число аргументов и возвращает их список. \n",
    "# Затем декоратор decor_param, который принимает аргумент ind, \n",
    "# отдекарированная функция должна возвращать срез списка [ind:].\n",
    "\n",
    "from functools import wraps\n",
    "\n",
    "def decor_param(ind):\n",
    "    def decor(func):\n",
    "        @wraps(func)\n",
    "        def wrapper(*args):\n",
    "            result = func(*args)\n",
    "            return result[ind:]\n",
    "        return wrapper\n",
    "    return decor\n",
    "\n",
    "def func(*args):\n",
    "    return list(args)\n",
    "\n",
    "x = decor_param(2)(func)\n",
    "print(x(1, 2, 3, 4, 5, 6))\n",
    "\n",
    "x = decor_param(5)(func)\n",
    "print(x(1, 2, 3, 4, 5, 6, 7, 8, 9))"
   ]
  },
  {
   "cell_type": "code",
   "execution_count": 302,
   "metadata": {},
   "outputs": [
    {
     "name": "stdout",
     "output_type": "stream",
     "text": [
      "<h1>У меня тегофобия!</h1>\n",
      "<h1>У меня тегофобия!</h1>\n",
      "<h1>У меня тегофобия!</h1>\n"
     ]
    }
   ],
   "source": [
    "# Необходимо создать функцию func, которая принимает строку и тег(все аргументы str), \n",
    "# и соответственно возвращающую данную строку обрамленную тегом. \n",
    "# Далее нужно создать декоратор decor с параметром n, \n",
    "# где n - количество повторений данной строки. \n",
    "# Все дублируемые строки формируются в столбик. \n",
    "\n",
    "# Пример:\n",
    "\n",
    "# x = decor(3)(func)\n",
    "# print(x('У меня тегофобия!', 'h1'))\n",
    "# -----------------------------------\n",
    "# <h1>У меня тегофобия!</h1>\n",
    "# <h1>У меня тегофобия!</h1>\n",
    "# <h1>У меня тегофобия!</h1>\n",
    "\n",
    "def decor(n):\n",
    "    def inner_decor(func):\n",
    "        @wraps(func)\n",
    "        def wrapper(line, teg):\n",
    "            result = func(line, teg)\n",
    "            return '\\n'.join([result for _ in range(n)])\n",
    "        return wrapper\n",
    "    return inner_decor\n",
    "\n",
    "def func(line, teg):\n",
    "    return f'<{teg}>{line}</{teg}>'\n",
    "\n",
    "x = decor(3)(func)\n",
    "print(x('У меня тегофобия!', 'h1'))"
   ]
  },
  {
   "cell_type": "code",
   "execution_count": 303,
   "metadata": {},
   "outputs": [
    {
     "name": "stdout",
     "output_type": "stream",
     "text": [
      "{'Петрович': 'в состоянии', 'Иваныч': 'в отключке'}\n"
     ]
    }
   ],
   "source": [
    "# Создать функцию func, которая принимает произвольное количество именованных аргументов \n",
    "# и возвращает их словарь. \n",
    "# Написать декоратор decor с параметром sec(секунды), \n",
    "# от которого зависит через сколько секунд мы получим результат функции. \n",
    "# Для данного задания нужно импортировать модуль time, использовать функцию time.sleep(sec).\n",
    "\n",
    "import time\n",
    "\n",
    "def decor(sec):\n",
    "    def inner_decor(func):\n",
    "        @wraps(func)\n",
    "        def wrapper(**kwargs):\n",
    "            result = func(**kwargs)\n",
    "            time.sleep(sec)\n",
    "            return result\n",
    "        return wrapper\n",
    "    return inner_decor\n",
    "\n",
    "\n",
    "def func(**kwargs):\n",
    "    return kwargs\n",
    "\n",
    "time_ = 1\n",
    "x = decor(time_)(func)\n",
    "x = x(Петрович='в состоянии', Иваныч='в отключке')\n",
    "\n",
    "print(x)"
   ]
  },
  {
   "cell_type": "code",
   "execution_count": 304,
   "metadata": {},
   "outputs": [
    {
     "name": "stdout",
     "output_type": "stream",
     "text": [
      "nu chto vy chto vy v prorub posle vas\n",
      "a kto to u nas tut takoy s moskoy v ktchup\n",
      "a tebe ne stydno epidermis vidno\n"
     ]
    }
   ],
   "source": [
    "# Вам нужно создать функцию func, которая принимает строку и изменяет в ней буквы кириллицы \n",
    "# в соответствующие латинские при помощи словаря, регистр букв в строке игнорируется. \n",
    "# Измененная строка возвращается. \n",
    "# Словарь пропишите внутри логики функции:\n",
    "# Далее пишем декоратор decor с параметром repl=None. \n",
    "# Аргумент repl может принимать строковое значение, \n",
    "# и если он задан, то он удаляет все равные ему подстроки в итоговой строке.\n",
    "\n",
    "def decor(repl=None):\n",
    "    def inner_decor(func):\n",
    "        @wraps(func)\n",
    "        def wrapper(line):\n",
    "            result = func(line)\n",
    "            if repl:\n",
    "                result = result.replace(repl, '')\n",
    "            return result\n",
    "        return wrapper\n",
    "    return inner_decor\n",
    "\n",
    "def func(line):\n",
    "    dct = {'ё': 'yo', 'а': 'a', 'б': 'b', 'в': 'v', 'г': 'g', 'д': 'd', 'е': 'e', 'ж': 'zh',\n",
    "        'з': 'z', 'и': 'i', 'й': 'y', 'к': 'k', 'л': 'l', 'м': 'm', 'н': 'n', 'о': 'o', 'п': 'p',\n",
    "        'р': 'r', 'с': 's', 'т': 't', 'у': 'u', 'ф': 'f', 'х': 'h', 'ц': 'c', 'ч': 'ch', 'ш': 'sh',\n",
    "        'щ': 'shch', 'ъ': '', 'ы': 'y', 'ь': '', 'э': 'e', 'ю': 'yu', 'я': 'ya'}\n",
    "    return ''.join(map(lambda x: dct.get(x, ' '), line.lower()))\n",
    "\n",
    "x = decor()(func)\n",
    "print(x('Ну что вы что вы в прорубь после вас'))\n",
    "\n",
    "x = decor('e')(func)\n",
    "print(x('А кто это у нас тут такой с моськой в кетчупе'))\n",
    "\n",
    "x = decor('k')(func)\n",
    "print(x('как тебе не стыдно эпидермис видно'))"
   ]
  },
  {
   "cell_type": "code",
   "execution_count": 305,
   "metadata": {},
   "outputs": [
    {
     "name": "stdout",
     "output_type": "stream",
     "text": [
      "Список объектов длиной менее 5 - ['1324']\n",
      "Список остальных объектов - []\n",
      "Список объектов длиной менее 5 - ['1324']\n",
      "Список остальных объектов - ['132547']\n",
      "\n",
      "Список объектов длиной менее 6 - []\n",
      "Список остальных объектов - ['13496324478']\n",
      "Список объектов длиной менее 6 - ['86948']\n",
      "Список остальных объектов - ['13496324478']\n"
     ]
    }
   ],
   "source": [
    "# Необходимо создать функцию func, которая принимает строку из различных букв, цифр и символов. \n",
    "# Функция возвращает эту строку, но оставляет в ней только числовые значения, все остальное удаляется. \n",
    "# Далее необходимо создать декоратор decor, который принимает целое число в качестве аргумента. \n",
    "# Суть декоратора, в том что он кеширует результат функции в один из двух списков. \n",
    "# В первом списке все результаты, длины которых менее аргумента декоратора, в остальном другие. \n",
    "# Декоратор должен возвращать строку вида:\n",
    "\n",
    "# Список объектов длиной менее <длина> - [...]\n",
    "# Список остальных объектов - [...]\n",
    "\n",
    "def decor(n):\n",
    "    main_lst = []\n",
    "    other_lst = []\n",
    "    def inner_decor(func):\n",
    "        @wraps(func)\n",
    "        def wrapper(line):\n",
    "            temp = func(line)\n",
    "            if len(temp) < n:\n",
    "                main_lst.append(temp)\n",
    "            else:\n",
    "                other_lst.append(temp)\n",
    "            return f'''Список объектов длиной менее {n} - {main_lst}\n",
    "Список остальных объектов - {other_lst}'''\n",
    "        return wrapper\n",
    "    return inner_decor\n",
    "\n",
    "def func(line):\n",
    "    return ''.join(list(filter(lambda x: x.isdigit(), line)))\n",
    "\n",
    "x = decor(5)(func)\n",
    "print(x('1w3er2df4'))\n",
    "print(x('1w3er2df547'))\n",
    "\n",
    "print()\n",
    "\n",
    "x = decor(6)(func)\n",
    "print(x('брит1ог34ол9о6ва3яка2тыш44к78а'))\n",
    "print(x('х8рюшас6теп9ашка4кро8восток'))"
   ]
  },
  {
   "cell_type": "markdown",
   "metadata": {},
   "source": [
    "# 2.6 Сортировка с ключем key"
   ]
  },
  {
   "cell_type": "code",
   "execution_count": 306,
   "metadata": {},
   "outputs": [
    {
     "name": "stdout",
     "output_type": "stream",
     "text": [
      "[6, 24, -7, -5, 3, 5, 23]\n"
     ]
    }
   ],
   "source": [
    "# Двойная сортировка\n",
    "\n",
    "lst = [-5, 5, 3, -7, 24, 23, 6]\n",
    "\n",
    "print(sorted(lst, key=lambda x: (x % 2, x))) # сортировка по четности (на две группы) и между собой (в каждой группе)"
   ]
  },
  {
   "cell_type": "code",
   "execution_count": 307,
   "metadata": {},
   "outputs": [
    {
     "name": "stdout",
     "output_type": "stream",
     "text": [
      "['a', 'B', 'C', 'd', 'o', 'r']\n"
     ]
    }
   ],
   "source": [
    "# Сортировка по методу\n",
    "\n",
    "lst = ['B', 'a', 'd', 'C', 'r', 'o']\n",
    "\n",
    "print(sorted(lst, key=str.lower))  # lambda x: x.lower()"
   ]
  },
  {
   "cell_type": "code",
   "execution_count": 308,
   "metadata": {},
   "outputs": [
    {
     "name": "stdout",
     "output_type": "stream",
     "text": [
      "['брикет', 'ремонт', 'стирка', 'арбалет', 'эвакуатор', 'рыбий хрящь']\n"
     ]
    }
   ],
   "source": [
    "# Сортировка по длине слов и алфавиту\n",
    "\n",
    "lst = ['ремонт', 'арбалет', 'рыбий хрящь', 'эвакуатор', 'брикет', 'стирка']\n",
    "\n",
    "lst.sort(key=lambda x: (len(x), x))\n",
    "\n",
    "print(lst)"
   ]
  },
  {
   "cell_type": "code",
   "execution_count": 309,
   "metadata": {},
   "outputs": [
    {
     "name": "stdout",
     "output_type": "stream",
     "text": [
      "[['Dendy', 1300], ['Nintendo64', 2500], ['Dreamcast', 3700], ['ps1', 4300]]\n"
     ]
    }
   ],
   "source": [
    "# Пример сортировки вложенных коллекций по индексу элемента:\n",
    "\n",
    "lst = [['Nintendo64', 2500],\n",
    "       ['ps1', 4300],\n",
    "       ['Dreamcast', 3700],\n",
    "       ['Dendy', 1300]\n",
    "       ]\n",
    "\n",
    "print(sorted(lst, key=lambda x: x[1]))"
   ]
  },
  {
   "cell_type": "code",
   "execution_count": 310,
   "metadata": {},
   "outputs": [
    {
     "name": "stdout",
     "output_type": "stream",
     "text": [
      "352 123 733 234 876 56 876 987\n",
      "352 123 733 234 876 56 876 987\n"
     ]
    }
   ],
   "source": [
    "# На вход поступают целые числа в одну строку через пробел. \n",
    "# Вам необходимо отсортировать их относительно последней цифры каждого элемента. \n",
    "# Вывести результат в одну строку через пробел.\n",
    "\n",
    "s = '234 876 123 56 987 352 733 876'\n",
    "print(*sorted(s.split(), key=lambda x: int(x[-1])))\n",
    "\n",
    "lst = list(map(int, s.split()))\n",
    "print(*sorted(lst, key=lambda x: x % 10))"
   ]
  },
  {
   "cell_type": "code",
   "execution_count": 311,
   "metadata": {},
   "outputs": [
    {
     "name": "stdout",
     "output_type": "stream",
     "text": [
      "stamina 150\n",
      "health 100\n",
      "magicka 95\n",
      "regeneration 3\n"
     ]
    }
   ],
   "source": [
    "# Дан список характеристик в виде строк, в которых указано название скилла и его значение, \n",
    "# необходимо отсортировать его по убыванию значения скилла. \n",
    "# Вывести элементы списка в столбик.\n",
    "\n",
    "skills = ['health 100', 'magicka 95', 'stamina 150', 'regeneration 3']\n",
    "\n",
    "print('\\n'.join(sorted(skills, key=lambda x: int(x.split()[1]), reverse=True)))"
   ]
  },
  {
   "cell_type": "code",
   "execution_count": 312,
   "metadata": {},
   "outputs": [
    {
     "name": "stdout",
     "output_type": "stream",
     "text": [
      "['кот', 'язь', 'ваще', 'мазь', 'Букин', 'лосяш', 'щегол', 'бобрик', 'дилемма', 'выхухоль', 'ухтыпухты', 'простолюдин', 'физколлоидный']\n"
     ]
    }
   ],
   "source": [
    "# Отсортировать по длине слов, в свою очередь слова одинаковой длины сортируются в алфавитном порядке.\n",
    "\n",
    "lst = ['язь', 'мазь', 'Букин', 'выхухоль', 'бобрик', 'ваще', 'лосяш',\n",
    "       'кот', 'простолюдин', 'дилемма', 'щегол', 'ухтыпухты', 'физколлоидный']\n",
    "\n",
    "print(sorted(lst, key=lambda x: (len(x), x)))"
   ]
  },
  {
   "cell_type": "code",
   "execution_count": 313,
   "metadata": {},
   "outputs": [
    {
     "name": "stdout",
     "output_type": "stream",
     "text": [
      "Консоль: PS5, игра: Marvel's Spider-Man 2, цена: 8799\n",
      "Консоль: PS5, игра: Mortal Kombat 1, цена: 7699\n",
      "Консоль: PS5, игра: Hogwarts Legacy, цена: 6299\n",
      "Консоль: PS5, игра: Uncharted: Legacy of Thieves Collection, цена: 2399\n"
     ]
    }
   ],
   "source": [
    "# Вам дан список словарей. \n",
    "# Каждый словарь представляет собой игру и информацию о ней. \n",
    "# Вам необходимо отсортировать все игры в порядке убывания их стоимости. \n",
    "# Вам необходимо вывести только игры для PS5 в столбик в определенном формате:\n",
    "\n",
    "# Консоль: PS5, игра: <игра>, цена: <цена>\n",
    "\n",
    "\n",
    "models = [{'console': 'PS5', 'game': 'Uncharted: Legacy of Thieves Collection', 'price': 2399},\n",
    "          {'console': 'Xbox Series', 'game': \"Assassin's Creed Valhalla\", 'price': 2950},\n",
    "          {'console': 'PS5', 'game': \"Marvel's Spider-Man 2\", 'price': 8799},\n",
    "          {'console': 'PS5', 'game': 'Hogwarts Legacy', 'price': 6299},\n",
    "          {'console': 'Xbox Series', 'game': 'Grand Theft Auto: The Trilogy', 'price': 2999},\n",
    "          {'console': 'PS5', 'game': 'Mortal Kombat 1', 'price': 7699},\n",
    "          {'console': 'Xbox Series', 'game': 'The Callisto Protocol', 'price': 3899}]\n",
    "\n",
    "models.sort(key=lambda x: x['price'], reverse=True)\n",
    "\n",
    "for game in models:\n",
    "    if game.get('console') == 'PS5':\n",
    "        print(f'Консоль: PS5, игра: {game.get(\"game\")}, цена: {game.get(\"price\")}')"
   ]
  },
  {
   "cell_type": "code",
   "execution_count": 314,
   "metadata": {},
   "outputs": [
    {
     "name": "stdout",
     "output_type": "stream",
     "text": [
      "молоко 70\n",
      "противогаз 1000\n",
      "слякоть 1500\n",
      "щебенка 2333\n",
      "филе скунса 3500\n",
      "бампер 4500\n",
      "папирус 4567\n",
      "противоядие 4769\n",
      "латекс 5000\n"
     ]
    }
   ],
   "source": [
    "# Вам дан список строк. Каждая из которых представляет собой название товара и его стоимость. \n",
    "# Вам необходимо отсортировать эти товары по возрастанию их стоимости. \n",
    "# Вывести содержимое отсортированного списка в столбик.\n",
    "\n",
    "lst = ['противогаз 1000', 'бампер 4500', 'филе скунса 3500', 'слякоть 1500',\n",
    "       'щебенка 2333', 'латекс 5000', 'папирус 4567', 'молоко 70', 'противоядие 4769']\n",
    "\n",
    "print(*sorted(lst, key=lambda x: int(x.split()[-1])), sep='\\n')"
   ]
  },
  {
   "cell_type": "code",
   "execution_count": 315,
   "metadata": {},
   "outputs": [
    {
     "name": "stdout",
     "output_type": "stream",
     "text": [
      "['Альфа_002', 'Гамма_345', 'Бета_345', 'Эпсилон_003', 'Дельта_123', 'Дельта_233']\n",
      "['Альфа_002', 'Гамма_345', 'Бета_345', 'Эпсилон_003', 'Дельта_123', 'Дельта_233']\n"
     ]
    }
   ],
   "source": [
    "# Корабли должны идти в последовательности Альфа, Гамма, Бета, Эпсилон и Дельта.\n",
    "# Корабли одной цивилизации должны распределиться между собой по номеру борта.\n",
    "\n",
    "s = 'Дельта_123 Бета_345 Альфа_002 Дельта_233 Эпсилон_003 Гамма_345'.split()\n",
    "\n",
    "d = {'Альфа': 1, 'Гамма': 2, 'Бета': 3, 'Эпсилон': 5, 'Дельта': 6}\n",
    "\n",
    "res = sorted(s, key=lambda x: (d.get(x.split('_')[0]), int(x.split('_')[1])))\n",
    "print(res)\n",
    "\n",
    "res = sorted(s, key=lambda x: ('АГБЭД'.index(x.split('_')[0][0]),int(x.split('_')[-1])))\n",
    "print(res)"
   ]
  },
  {
   "cell_type": "markdown",
   "metadata": {},
   "source": [
    "# 3.1 Импорт встроенных модулей"
   ]
  },
  {
   "cell_type": "code",
   "execution_count": 316,
   "metadata": {},
   "outputs": [
    {
     "data": {
      "text/plain": [
       "[8, 4, 3, 9, 6, 7, 10, 5, 1, 2]"
      ]
     },
     "execution_count": 316,
     "metadata": {},
     "output_type": "execute_result"
    }
   ],
   "source": [
    "#вводные данные\n",
    "lst = [1, 2, 3, 4, 5, 6, 7, 8, 9, 10]\n",
    "\n",
    "#продолжите решение здесь\n",
    "\n",
    "from random import shuffle, seed\n",
    "\n",
    "seed(42)\n",
    "\n",
    "shuffle(lst)\n",
    "\n",
    "lst"
   ]
  },
  {
   "cell_type": "code",
   "execution_count": 317,
   "metadata": {},
   "outputs": [
    {
     "data": {
      "text/plain": [
       "(64, 88)"
      ]
     },
     "execution_count": 317,
     "metadata": {},
     "output_type": "execute_result"
    }
   ],
   "source": [
    "from sys import getsizeof\n",
    "\n",
    "arr = range(1, 4)\n",
    "\n",
    "get_size = getsizeof(tuple(arr)), getsizeof(list(arr))\n",
    "\n",
    "get_size"
   ]
  },
  {
   "cell_type": "code",
   "execution_count": 318,
   "metadata": {},
   "outputs": [
    {
     "data": {
      "text/plain": [
       "'Pong'"
      ]
     },
     "execution_count": 318,
     "metadata": {},
     "output_type": "execute_result"
    }
   ],
   "source": [
    "from os import environ as env\n",
    "\n",
    "env.get('USERNAME')"
   ]
  },
  {
   "cell_type": "markdown",
   "metadata": {},
   "source": [
    "# 3.1 Кортежи"
   ]
  },
  {
   "cell_type": "code",
   "execution_count": 319,
   "metadata": {},
   "outputs": [
    {
     "name": "stdout",
     "output_type": "stream",
     "text": [
      "599.9599999999999\n"
     ]
    }
   ],
   "source": [
    "# Дан кортеж. Вам необходимо сделать срез через один элемент, начиная с первого элемента. \n",
    "# Затем найти сумму минимального и максимального элемента этого среза и вывести ее на экран.\n",
    "\n",
    "# исходные данные        \n",
    "tpl = (4.5, 756, 645.3, -34, 0, 12.3, -45.34, 77.01, 45)        \n",
    "\n",
    "# продолжите решение здесь\n",
    "\n",
    "print((lambda x: max(x) + min(x))(tpl[::2]))"
   ]
  },
  {
   "cell_type": "code",
   "execution_count": 320,
   "metadata": {},
   "outputs": [
    {
     "name": "stdout",
     "output_type": "stream",
     "text": [
      "('Модная', 'Фарш', 'Молодежная', 'Полубокс', 'Казинаки')\n",
      "('Модная', 'Фарш', 'Молодежная', 'Полубокс', 'Казинаки')\n"
     ]
    }
   ],
   "source": [
    "# В парикмахерской \"Топор\" экспериментируют с прическами и их названиями. \n",
    "# На вход подается кортеж слов в одну строку через пробел(названия причесок) и если среди них нет прически \"Казинаки\", \n",
    "# то ее нужно добавить. Итоговый кортеж вывести в консоль. \n",
    "\n",
    "s = 'Модная Фарш Молодежная Полубокс'\n",
    "\n",
    "tpl = tuple(s.split())\n",
    "lst = list(tpl)\n",
    "lst.append('Казинаки') if 'Казинаки' not in lst else lst\n",
    "\n",
    "print(tuple(lst))\n",
    "\n",
    "tpl = tuple(s.split())\n",
    "\n",
    "if 'Казинаки' not in tpl:\n",
    "    tpl += ('Казинаки',)\n",
    "print(tpl)"
   ]
  },
  {
   "cell_type": "code",
   "execution_count": 321,
   "metadata": {},
   "outputs": [
    {
     "name": "stdout",
     "output_type": "stream",
     "text": [
      "(1, 2, 3, 4, 5, 6, 7, 8)\n",
      "(1, 2, 3, 4, 5, 6, 7, 8)\n"
     ]
    }
   ],
   "source": [
    "s = '1 2 2 3 4 4 5 6 7 7 7 8'\n",
    "\n",
    "tpl1 = tuple(map(int, s.split()) )\n",
    "\n",
    "tpl2 = ()\n",
    "\n",
    "for i in tpl1:\n",
    "    if i not in tpl2:\n",
    "        tpl2 += i,\n",
    "        \n",
    "print(tpl2)\n",
    "\n",
    "print(tuple(dict.fromkeys(map(int, s.split()))))    "
   ]
  },
  {
   "cell_type": "code",
   "execution_count": 322,
   "metadata": {},
   "outputs": [
    {
     "name": "stdout",
     "output_type": "stream",
     "text": [
      "[(35, 13, 40), (35, 7, 37), (35, 80, 99), (35, 90, 33), (35, 2, 3, 4), (35, 77, 20, 71), (35, 2, 3, 9)]\n"
     ]
    }
   ],
   "source": [
    "# Заменить первый элемент кортежей на 35\n",
    "\n",
    "# вводные данные        \n",
    "lst = [(45, 13, 40), (4, 7, 37), (73, 80, 99), (10, 90, 33),\n",
    "       (1, 2, 3, 4), (567, 77, 20, 71), (1, 2, 3, 9)]        \n",
    "\n",
    "# продолжите решение здесь\n",
    "print([(35,) + i[1:] for i in lst])"
   ]
  },
  {
   "cell_type": "code",
   "execution_count": 323,
   "metadata": {},
   "outputs": [
    {
     "name": "stdout",
     "output_type": "stream",
     "text": [
      "2 6\n"
     ]
    }
   ],
   "source": [
    "# На вход подается кортеж слов в одну строку через пробел. \n",
    "# Необходимо вывести все индексы неуникальных слов(встречающихся более 1го раза) в одну строку через пробел. \n",
    "\n",
    "s = 'айм слим шеди йес аэм рил шеди'\n",
    "\n",
    "tpl = tuple(s.split())\n",
    "\n",
    "print(*[k for k, v in enumerate(tpl) if tpl.count(v) > 1])"
   ]
  },
  {
   "cell_type": "code",
   "execution_count": 324,
   "metadata": {},
   "outputs": [
    {
     "name": "stdout",
     "output_type": "stream",
     "text": [
      "1 1 1 3 5 9 17 31 57 105\n"
     ]
    }
   ],
   "source": [
    "# Последовательность Трибоначчи\n",
    "\n",
    "n = 10\n",
    "\n",
    "a = [1,1,1]\n",
    "\n",
    "for _ in range (n - 3):\n",
    "    a.append(sum(a[-3:]))\n",
    "\n",
    "print(*a)"
   ]
  },
  {
   "cell_type": "code",
   "execution_count": 325,
   "metadata": {},
   "outputs": [
    {
     "name": "stdout",
     "output_type": "stream",
     "text": [
      "3\n",
      "Лишних конфет не осталось :(\n"
     ]
    }
   ],
   "source": [
    "# У Сакуры было n конфет, которые она хочет подарить m своим друзьям, чтобы каждому досталось поровну. \n",
    "# \"Лишние\" конфеты Сакура съест. Напишите программу, которая выведет сколько конфет съест Сакура, \n",
    "# или строку \"Лишних конфет не осталось :(\" (без кавычек), если ей не удастся поесть конфет.\n",
    "\n",
    "n, m = 53, 10\n",
    "\n",
    "print(n % m or 'Лишних конфет не осталось :(')\n",
    "\n",
    "n, m = 55, 11\n",
    "\n",
    "print(n % m or 'Лишних конфет не осталось :(')"
   ]
  },
  {
   "cell_type": "markdown",
   "metadata": {},
   "source": [
    "# 3.2 Множества"
   ]
  },
  {
   "cell_type": "code",
   "execution_count": 326,
   "metadata": {},
   "outputs": [
    {
     "name": "stdout",
     "output_type": "stream",
     "text": [
      "12\n"
     ]
    }
   ],
   "source": [
    "# Дан список слов. \n",
    "# Вам необходимо посчитать и вывести количество уникальных слов, длина которых больше 5ти.\n",
    "\n",
    "lst = ['липкость', 'мыло', 'парк', 'цапля', 'утконос', 'папаня', 'лакомка'\n",
    "       'ель', 'титан', 'ласка', 'кратер', 'принтер', 'сало',\n",
    "       'поднос', 'ель', 'таракан', 'холодец', 'мрак', 'липкость',\n",
    "       'рык', 'парк', 'протез', 'пароль', 'школа', 'хрюкальник'\n",
    "       ]\n",
    "\n",
    "# продолжите решение здесь\n",
    "\n",
    "print(len(set(filter(lambda x: len(x) > 5, lst))))"
   ]
  },
  {
   "cell_type": "code",
   "execution_count": 327,
   "metadata": {},
   "outputs": [
    {
     "name": "stdout",
     "output_type": "stream",
     "text": [
      "3 5 7\n"
     ]
    }
   ],
   "source": [
    "# Вводится список целых чисел в одной строке через пробел, затем с новой строки вводится второй список. \n",
    "# Необходимо вывести числа в порядке возрастания в одной строке через пробел, которые есть в первом списке, но отсутствуют во втором списке.\n",
    "\n",
    "s1 = set('5 7 3 5 9 8'.split())\n",
    "s2 = set('2 4 6 8 9 4'.split())\n",
    "print(*sorted(s1.difference(s2)))"
   ]
  },
  {
   "cell_type": "code",
   "execution_count": 328,
   "metadata": {},
   "outputs": [
    {
     "name": "stdout",
     "output_type": "stream",
     "text": [
      "0 2 7 8 34 89\n",
      "0 2 7 8 34 89\n"
     ]
    }
   ],
   "source": [
    "s1 = '6 7 8 5 3 2 5'\n",
    "s2 = '3 5 89 6 34 0'\n",
    "\n",
    "s1 = set(s1.split())\n",
    "s2 = set(s2.split())\n",
    "\n",
    "print(*sorted(s1 ^ s2, key = int))\n",
    "\n",
    "s1 = '6 7 8 5 3 2 5'\n",
    "s2 = '3 5 89 6 34 0'\n",
    "\n",
    "s1 = set(map(int, s1.split()))\n",
    "s2 = set(map(int, s2.split()))\n",
    "\n",
    "print(*sorted(s1.symmetric_difference(s2)))"
   ]
  },
  {
   "cell_type": "code",
   "execution_count": 329,
   "metadata": {},
   "outputs": [
    {
     "name": "stdout",
     "output_type": "stream",
     "text": [
      "Базовые ингредиенты: {'Продукты': ['булочка', 'мясо', 'помидор', 'сыр'], 'Цена': 3333.3}\n",
      "Дополнительные ингредиенты: {'Продукты': ['\"1000 островов\"', '\"барбекю\"', 'красный лук', 'лук', 'огурец'], 'Цена': 1666.7}\n"
     ]
    }
   ],
   "source": [
    "# Даны 2 рецепта бургеров, необходимо выявить их базовые и дополнительные ингредиенты. На вход подается\n",
    "# сумма(целое число), на эту сумму и необходимо закупить основные и дополнительные ингредиенты в соотношении 2:1.\n",
    "# Затем создать словарь с ключами 'Базовые ингредиенты' и 'Дополнительные ингредиенты', значениями которых\n",
    "# также являются словари с ключами 'Продукты' и 'Цена'. В ключе 'Продукты' - отсортированный по алфавиту список продуктов,\n",
    "# в ключе 'Цена' - дробное число, округленное до 1 цифры после запятой. Необходимо вывести в консоль этот словарь.\n",
    "\n",
    "n = 5000\n",
    "\n",
    "burger_1 = ['булочка', 'мясо', 'сыр', 'помидор', '\"1000 островов\"', 'красный лук']\n",
    "burger_2 = ['булочка', 'мясо', 'сыр', 'помидор', '\"барбекю\"', 'лук', 'огурец']\n",
    "\n",
    "s1 = sorted(set(burger_1).intersection(set(burger_2)))\n",
    "s2 = sorted(set(burger_1).symmetric_difference(set(burger_2)))\n",
    "\n",
    "print(f\"\"\"Базовые ингредиенты: {{'Продукты': {s1}, 'Цена': {round(n * (2 / 3), 1)}}}\n",
    "Дополнительные ингредиенты: {{'Продукты': {s2}, 'Цена': {round(n * (1 / 3), 1)}}}\"\"\")"
   ]
  },
  {
   "cell_type": "code",
   "execution_count": 330,
   "metadata": {},
   "outputs": [
    {
     "name": "stdout",
     "output_type": "stream",
     "text": [
      "{'альфа', 'айм', 'бета', 'аэм', 'рил', 'йес', 'слим', 'гамма', 'шеди', 'далай-лама'}\n",
      "{'альфа', 'айм', 'бета', 'аэм', 'рил', 'йес', 'слим', 'гамма', 'шеди', 'далай-лама'}\n"
     ]
    }
   ],
   "source": [
    "# Дано множество. На вход подается список слов  в одну строку через пробел. \n",
    "# Необходимо расширить множество словами из списка.\n",
    "\n",
    "st = {'альфа', 'бета', 'гамма', 'далай-лама'}        \n",
    "\n",
    "# продолжите решение здесь\n",
    "\n",
    "s = 'айм слим шеди йес аэм рил шеди'\n",
    "\n",
    "print(st.union(set(s.split())))\n",
    "\n",
    "st.update(s.split())\n",
    "print(st)"
   ]
  },
  {
   "cell_type": "code",
   "execution_count": 331,
   "metadata": {},
   "outputs": [
    {
     "data": {
      "text/plain": [
       "({'Владимир', 'Дамблдор', 'Егор', 'Конь', 'Максим', 'Никита', 'Ринат'},\n",
       " {'Александр', 'Вадим', 'Дипси', 'Николай', 'Олег', 'Флеш'},\n",
       " {'Артем', 'Вучич', 'Дмитрий', 'Тимофей', 'Шишига'})"
      ]
     },
     "execution_count": 331,
     "metadata": {},
     "output_type": "execute_result"
    }
   ],
   "source": [
    "# На соревнованиях по бегу должно быть 3 забега, в каждом последующем забеге не должны участвовать спортсмены из предыдущих. \n",
    "# Т.е. вам необходимо исключить спортсменов, пытающихся повторно участвовать в забегах.\n",
    "\n",
    "# Дан кортеж множеств, \n",
    "# каждое множество - это коллекция имен участников забега. \n",
    "# Необходимо на основе кортежа создать новый измененный, имя переменной не менять, \n",
    "# на экран итоговый кортеж не выводить.\n",
    "\n",
    "# вводные данные              \n",
    "athletes = (\n",
    "            {'Дамблдор', 'Егор', 'Максим', 'Конь', 'Владимир', 'Никита', 'Ринат'},\n",
    "            {'Флеш', 'Вадим', 'Никита', 'Николай', 'Дипси', 'Олег', 'Александр'},\n",
    "            {'Вучич', 'Егор', 'Николай', 'Конь', 'Дмитрий', 'Шишига', 'Тимофей', 'Артем'}\n",
    ")\n",
    "\n",
    "# продолжите решение здесь\n",
    "\n",
    "temp = set()\n",
    "\n",
    "for i in range(len(athletes) - 1):\n",
    "    temp = temp.union(athletes[i])\n",
    "    athletes[i + 1].difference_update(temp)\n",
    "\n",
    "athletes\n"
   ]
  },
  {
   "cell_type": "code",
   "execution_count": 332,
   "metadata": {},
   "outputs": [
    {
     "name": "stdout",
     "output_type": "stream",
     "text": [
      "Пациент еще болен: скитлстрянка, перелом сознания\n"
     ]
    }
   ],
   "source": [
    "# вводные данные              \n",
    "disease = {\n",
    "    1: 'хворь', 2: 'бобока',\n",
    "    3: 'скитлстрянка', 4: 'перелом сознания',\n",
    "    5: 'шерстевыделение', 6: 'газированные слезы'\n",
    "}\n",
    "\n",
    "# продолжите решение здесь\n",
    "\n",
    "s1 = set('6 3 1 2 4 2'.split())\n",
    "s2 = set('1 2 1 2 6 5'.split())\n",
    "\n",
    "s1.difference_update(s2)\n",
    "\n",
    "s = sorted([disease.get(int(i)) for i in s1], reverse=True)\n",
    "\n",
    "if s:\n",
    "    print(f'Пациент еще болен: {\", \".join(s)}')\n",
    "else:\n",
    "    print('Пациент здоров')"
   ]
  },
  {
   "cell_type": "markdown",
   "metadata": {},
   "source": [
    "# 3.4 Замороженные множества"
   ]
  },
  {
   "cell_type": "code",
   "execution_count": 333,
   "metadata": {},
   "outputs": [
    {
     "data": {
      "text/plain": [
       "frozenset({1, 2, 3})"
      ]
     },
     "execution_count": 333,
     "metadata": {},
     "output_type": "execute_result"
    }
   ],
   "source": [
    "f_st = frozenset({1, 2, 3})\n",
    "f_st = frozenset([1, 2, 3])\n",
    "f_st"
   ]
  },
  {
   "cell_type": "code",
   "execution_count": 334,
   "metadata": {},
   "outputs": [
    {
     "name": "stdout",
     "output_type": "stream",
     "text": [
      "frozenset({1, 2, 3, 4, 5, 6})\n",
      "{1, 2, 3, 4, 5, 6}\n"
     ]
    }
   ],
   "source": [
    "f_st = frozenset({1, 2, 3})\n",
    "st = {4, 5, 6}\n",
    "\n",
    "# Важен порядок объединения\n",
    "\n",
    "# f_st.union(st)\n",
    "# st.union(f_st)\n",
    "\n",
    "print(f_st | st)\n",
    "print(st | f_st)"
   ]
  },
  {
   "cell_type": "code",
   "execution_count": 335,
   "metadata": {},
   "outputs": [
    {
     "name": "stdout",
     "output_type": "stream",
     "text": [
      "Алексей К.: 2 | Елена Р.: 3 | Олег Р.: 2\n"
     ]
    }
   ],
   "source": [
    "# Дан список с вложенными списками имен сотрудников компании. \n",
    "# Это своего рода недельный отчет о посещаемости сотрудниками работы. \n",
    "# Каждый вложенный список(ежедневный отчет) - это фиксация камерами сотрудников, пришедших на работу\n",
    "# (стоит учитывать, что в течение дня они могут покидать рабочее место и возвращаться). \n",
    "# Необходимо узнать кто из сотрудников не приходил на работу более 1 раза в течение недели. \n",
    "# Также известно, что в течение недели каждый сотрудник приходил на работу хотя бы 1 раз. \n",
    "# Вывести данных сотрудников и количество пропущенных ими рабочих дней в алфавитном порядке в формате:\n",
    "\n",
    "# Имя Фамилия: количество | Имя Фамилия: количество | Имя Фамилия: количество\n",
    "\n",
    "# вводные данные        \n",
    "employees = [\n",
    "    ['Алексей К.', 'Владимир О.', 'Ульяна П.', 'Кирилл Р.', 'Анна С.',\n",
    "     'Марат М.', 'Ульяна П.', 'Олег В.', 'Ульяна П.'],\n",
    "    ['Никита Д.', 'Владимир О.', 'Кирилл Р.', 'Анна С.', 'Марат М.',\n",
    "     'Ульяна П.', 'Олег В.', 'Никита Д.', 'Владимир О.'],\n",
    "    ['Алексей К.', 'Владимир О.', 'Кирилл Р.', 'Анна С.', 'Марат М.', 'Ульяна П.',\n",
    "     'Олег В.', 'Никита Д.', 'Елена Р.', 'Олег Р.', 'Кирилл Р.', 'Кирилл Р.'],\n",
    "    ['Олег В.', 'Никита Д.', 'Елена Р.', 'Олег Р.', 'Владимир О.', 'Кирилл Р.', 'Анна С.'],\n",
    "    ['Алексей К.', 'Владимир О.', 'Кирилл Р.', 'Анна С.', 'Марат М.', 'Ульяна П.',\n",
    "     'Олег В.', 'Никита Д.', 'Елена Р.', 'Олег Р.', 'Владимир О.', 'Кирилл Р.', 'Анна С.'],\n",
    "    ['Алексей К.', 'Кирилл Р.', 'Анна С.', 'Марат М.', 'Ульяна П.',\n",
    "     'Олег В.', 'Никита Д.', 'Елена Р.', 'Олег Р.'],\n",
    "    ['Алексей К.', 'Владимир О.', 'Кирилл Р.', 'Анна С.', 'Марат М.', 'Ульяна П.',\n",
    "     'Олег В.', 'Никита Д.', 'Анна С.', 'Олег Р.', 'Кирилл Р.']\n",
    "]        \n",
    "\n",
    "# продолжите решение здесь\n",
    "\n",
    "staff = list({i for c in employees for i in c})\n",
    "err = list([i for c in employees for i in staff if i not in c])\n",
    "print(*sorted(f'{man}: {err.count(man)}' for man in set(err) if err.count(man) > 1), sep=' | ')"
   ]
  },
  {
   "cell_type": "markdown",
   "metadata": {},
   "source": [
    "# 3.6  Метод format"
   ]
  },
  {
   "cell_type": "code",
   "execution_count": 336,
   "metadata": {},
   "outputs": [
    {
     "name": "stdout",
     "output_type": "stream",
     "text": [
      "1_000_000\n",
      "+1_000_000\n",
      "-1_000_000\n",
      "+1_000_000\n",
      "+1.000.000\n"
     ]
    }
   ],
   "source": [
    "# Разделители в числе\n",
    "\n",
    "x = 1000000\n",
    "print(f'{x:_}')\n",
    "\n",
    "x = 1000000\n",
    "print(f'{x:+_}')\n",
    "\n",
    "x = -1000000\n",
    "print(f'{x:+_}')\n",
    "\n",
    "x = 1000000\n",
    "print('{0:+_}'.format(x))\n",
    "\n",
    "x = 1000000\n",
    "print('{0:+_}'.format(x).replace('_', '.'))"
   ]
  },
  {
   "cell_type": "code",
   "execution_count": 337,
   "metadata": {},
   "outputs": [
    {
     "name": "stdout",
     "output_type": "stream",
     "text": [
      "*?????пирожочек??????*\n",
      "*???????????пирожочек*\n",
      "*пирожочек???????????*\n",
      "\n",
      "*?????пирожочек??????*\n",
      "*???????????пирожочек*\n",
      "*пирожочек???????????*\n"
     ]
    }
   ],
   "source": [
    "# Выравнивание текста\n",
    "\n",
    "s = 'пирожочек'\n",
    "\n",
    "print('*' + s.center(20, '?') + '*')\n",
    "print('*' + s.rjust(20, '?') + '*')\n",
    "print('*' + s.ljust(20, '?') + '*')\n",
    "\n",
    "print()\n",
    "\n",
    "print(f'*{s:?^20s}*')\n",
    "print(f'*{s:?>20s}*')\n",
    "print(f'*{s:?<20s}*')"
   ]
  },
  {
   "cell_type": "markdown",
   "metadata": {},
   "source": [
    "# 4.1 Введение в списки"
   ]
  },
  {
   "cell_type": "code",
   "execution_count": 338,
   "metadata": {},
   "outputs": [
    {
     "data": {
      "text/plain": [
       "['Антонова', 'Елисеева', 'Орлова']"
      ]
     },
     "execution_count": 338,
     "metadata": {},
     "output_type": "execute_result"
    }
   ],
   "source": [
    "friends = ['Орешкина', 'Елисеева', 'Орлова', 'Исаева']\n",
    "\n",
    "# Орешкина вышла замуж и сменила фамилию на 'Антонова', а 'Исаева' больше с ними не дружит.\n",
    "# Изменить список, вывести на экран.\n",
    "\n",
    "friends[friends.index('Орешкина')] = 'Антонова'\n",
    "friends.remove('Исаева')\n",
    "\n",
    "friends"
   ]
  },
  {
   "cell_type": "code",
   "execution_count": 339,
   "metadata": {},
   "outputs": [
    {
     "name": "stdout",
     "output_type": "stream",
     "text": [
      "бублик бабка\n"
     ]
    }
   ],
   "source": [
    "# На вход поступает список слов в одну строку через пробел. Необходимо вывести слова из списка первая буква которого ближе к началу алфавита.\n",
    "\n",
    "s = 'бублик устрица покер бабка'\n",
    "\n",
    "arr = s.split()\n",
    "\n",
    "print(*[word for word in arr if word.startswith(chr(min((map(lambda x: ord(x[0]), arr)))))])\n"
   ]
  },
  {
   "cell_type": "markdown",
   "metadata": {},
   "source": [
    "# 4.2 Срезы списков, групповое присваивание"
   ]
  },
  {
   "cell_type": "code",
   "execution_count": 340,
   "metadata": {},
   "outputs": [
    {
     "data": {
      "text/plain": [
       "['морковка', 'колбаска', 'бананы', 'бекон', 'крыжовник', 'лягушачьи лапки']"
      ]
     },
     "execution_count": 340,
     "metadata": {},
     "output_type": "execute_result"
    }
   ],
   "source": [
    "# Заменить каждый второй продукт на свой, начиная со второго элемента.\n",
    "\n",
    "lst = ['морковка', 'петрушка', 'бананы', 'укроп', 'крыжовник', 'папоротник'] \n",
    "\n",
    "rep = ['колбаска', 'бекон', 'лягушачьи лапки']\n",
    "\n",
    "lst[1::2] = rep\n",
    "lst"
   ]
  },
  {
   "cell_type": "code",
   "execution_count": 341,
   "metadata": {},
   "outputs": [
    {
     "data": {
      "text/plain": [
       "[0, 1, 4, 5, 8, 9]"
      ]
     },
     "execution_count": 341,
     "metadata": {},
     "output_type": "execute_result"
    }
   ],
   "source": [
    "# Дан список от 0 до 10 включительно. Необходимо на основе него составить новый список по правилу:\n",
    "# забираем первые 2 элемента, 2 пропускаем, забираем 2 элемента и тд.\n",
    "\n",
    "lst = [0, 1, 2, 3, 4, 5, 6, 7, 8, 9, 10]\n",
    "\n",
    "sorted(lst[::4] + lst[1::4])"
   ]
  },
  {
   "cell_type": "markdown",
   "metadata": {},
   "source": [
    "# 4.3 Методы списков"
   ]
  },
  {
   "cell_type": "code",
   "execution_count": 342,
   "metadata": {},
   "outputs": [
    {
     "name": "stdout",
     "output_type": "stream",
     "text": [
      "['a', 'c', 'd', 'e', 'g', 'h', 'i', 'j']\n",
      "['a', 'b', 'c', 'd', 'e', 'f', 'g', 'h', 'i', 'j']\n"
     ]
    }
   ],
   "source": [
    "# Отсортировать по алфавиту и вставить недостающие буквы\n",
    "\n",
    "lst = ['g', 'e', 'j', 'h', 'i', 'a', 'd', 'c']\n",
    "lst.sort()\n",
    "\n",
    "print(lst)\n",
    "\n",
    "for i in range(ord(lst[0]), ord(lst[-1]) + 1):\n",
    "    if i not in list(map(ord, lst)):\n",
    "        lst.insert(lst.index(chr(i - 1)) + 1, chr(i))\n",
    "\n",
    "print(lst)"
   ]
  },
  {
   "cell_type": "code",
   "execution_count": 343,
   "metadata": {},
   "outputs": [
    {
     "name": "stdout",
     "output_type": "stream",
     "text": [
      "[45, 8, 3, -7, 1, 34, 0]\n"
     ]
    }
   ],
   "source": [
    "# Поменять местами максимум и минимум\n",
    "\n",
    "s = '-7 8 3 45 1 34 0'\n",
    "\n",
    "arr = list(map(int, s.split()))\n",
    "\n",
    "mn_ind = arr.index(min(arr))\n",
    "mx_ind = arr.index(max(arr))\n",
    "\n",
    "arr[mx_ind], arr[mn_ind] = arr[mn_ind], arr[mx_ind]\n",
    "\n",
    "print(arr)"
   ]
  },
  {
   "cell_type": "markdown",
   "metadata": {},
   "source": [
    "# 3.6 Оператор Switch (match-case)"
   ]
  },
  {
   "cell_type": "code",
   "execution_count": 344,
   "metadata": {},
   "outputs": [
    {
     "name": "stdout",
     "output_type": "stream",
     "text": [
      "Ты можешь стать Data Scientist-ом\n",
      "Ты можешь стать Blockchain разработчиком\n",
      "Ты можешь стать мобильным разработчиком\n"
     ]
    }
   ],
   "source": [
    "lang = \"Python\"\n",
    "def return_lang(lang):\n",
    "    match lang:\n",
    "        case \"JavaScript\":\n",
    "            return(\"Ты можешь стать фронтенд разработчиком\")\n",
    "\n",
    "        case \"Python\":\n",
    "            return(\"Ты можешь стать Data Scientist-ом\")\n",
    "\n",
    "        case \"PHP\":\n",
    "            return(\"Ты можешь стать бекенд разработчиком\")\n",
    "\n",
    "        case \"Solidity\":\n",
    "            return(\"Ты можешь стать Blockchain разработчиком\")\n",
    "\n",
    "        case \"Java\":\n",
    "            return(\"Ты можешь стать мобильным разработчиком\")\n",
    "            \n",
    "        case  _:\n",
    "            return(\"Язык не важен, главное уметь решать задачи)\")\n",
    "\n",
    "print(*[return_lang(lang) for lang in (\"Python\", \"Solidity\", \"Java\")], sep='\\n')"
   ]
  },
  {
   "cell_type": "code",
   "execution_count": 345,
   "metadata": {},
   "outputs": [
    {
     "name": "stdout",
     "output_type": "stream",
     "text": [
      "q\n",
      "Буква заглавная\n"
     ]
    }
   ],
   "source": [
    "var = 'q'\n",
    "\n",
    "match var:\n",
    "    case str(a) if a.islower():\n",
    "        print(a)\n",
    "    case _:\n",
    "        print('Буква заглавная')\n",
    "\n",
    "var = 'Q'\n",
    "\n",
    "match var:\n",
    "    case str() as a if a.islower():\n",
    "        print(a)\n",
    "    case _:\n",
    "        print('Буква заглавная')"
   ]
  },
  {
   "cell_type": "code",
   "execution_count": 346,
   "metadata": {},
   "outputs": [
    {
     "name": "stdout",
     "output_type": "stream",
     "text": [
      "green\n"
     ]
    }
   ],
   "source": [
    "color = 'green'\n",
    "\n",
    "match color:\n",
    "    case 'green' | 'red' as a:\n",
    "        print(a)\n",
    "    case _:\n",
    "        print('Другой цвет')\n"
   ]
  },
  {
   "cell_type": "code",
   "execution_count": 347,
   "metadata": {},
   "outputs": [
    {
     "name": "stdout",
     "output_type": "stream",
     "text": [
      "Цвет либо green, либо red\n"
     ]
    }
   ],
   "source": [
    "color = 'green'\n",
    "\n",
    "match color:\n",
    "    case 'green' | 'red':\n",
    "        print('Цвет либо green, либо red')\n",
    "    case _:\n",
    "        print('Другой цвет')"
   ]
  },
  {
   "cell_type": "code",
   "execution_count": 348,
   "metadata": {},
   "outputs": [
    {
     "name": "stdout",
     "output_type": "stream",
     "text": [
      "Это тип данных - <class 'int'>\n",
      "Это тип данных - <class 'float'>\n",
      "Это тип данных - <class 'list'>\n",
      "Это тип данных - <class 'tuple'>\n",
      "Это тип данных - <class 'dict'>\n",
      "Это тип данных - <class 'bool'>\n"
     ]
    },
    {
     "data": {
      "text/plain": [
       "[None, None, None, None, None, None, None]"
      ]
     },
     "execution_count": 348,
     "metadata": {},
     "output_type": "execute_result"
    }
   ],
   "source": [
    "# вводные данные        \n",
    "lst = [1, 5.6, '3', [1, 2], (4, 7), {'a': 4}, True]        \n",
    "\n",
    "# продолжите решение здесь\n",
    "\n",
    "def print_type(item):\n",
    "    \n",
    "    match item:\n",
    "                \n",
    "        case bool():\n",
    "            print(\"Это тип данных - <class 'bool'>\")\n",
    "\n",
    "        case int():\n",
    "            print(\"Это тип данных - <class 'int'>\")\n",
    "\n",
    "        case float():\n",
    "            print(\"Это тип данных - <class 'float'>\")\n",
    "\n",
    "        case list():\n",
    "            print(\"Это тип данных - <class 'list'>\")\n",
    "\n",
    "        case tuple():\n",
    "            print(\"Это тип данных - <class 'tuple'>\")\n",
    "\n",
    "        case dict():\n",
    "            print(\"Это тип данных - <class 'dict'>\")\n",
    "              \n",
    "        case _:\n",
    "            print(end='')\n",
    "\n",
    "[print_type(item) for item in lst]"
   ]
  },
  {
   "cell_type": "code",
   "execution_count": 349,
   "metadata": {},
   "outputs": [
    {
     "name": "stdout",
     "output_type": "stream",
     "text": [
      "Это тип данных - <class 'int'>\n",
      "Это тип данных - <class 'float'>\n",
      "Это тип данных - <class 'list'>\n",
      "Это тип данных - <class 'tuple'>\n",
      "Это тип данных - <class 'dict'>\n",
      "Это тип данных - <class 'bool'>\n"
     ]
    }
   ],
   "source": [
    "# вводные данные        \n",
    "lst = [1, 5.6, '3', [1, 2], (4, 7), {'a': 4}, True]        \n",
    "\n",
    "# продолжите решение здесь\n",
    "for i in lst:\n",
    "    match i:\n",
    "        case bool()|int()|float()|dict()|tuple()|list():\n",
    "            print(f'Это тип данных - {type(i)}')"
   ]
  },
  {
   "cell_type": "code",
   "execution_count": 350,
   "metadata": {},
   "outputs": [
    {
     "name": "stdout",
     "output_type": "stream",
     "text": [
      "нужные числа не найдены\n",
      "нужные числа не найдены\n",
      "найдено число 1\n",
      "нужные числа не найдены\n",
      "найдено число 1\n",
      "найдено число 1\n",
      "нужные числа не найдены\n",
      "нужные числа не найдены\n",
      "нужные числа не найдены\n",
      "найдено число 9\n",
      "найдено число 9\n",
      "нужные числа не найдены\n",
      "нужные числа не найдены\n"
     ]
    }
   ],
   "source": [
    "lst = list(map(int, '3 2 1 3 1 1 4 5 8 9 9 6 5'.split()))\n",
    "\n",
    "def get_nums(num):\n",
    "    \n",
    "    match num:\n",
    "                \n",
    "        case 1 | 9 as a:\n",
    "            return f'найдено число {a}'\n",
    "              \n",
    "        case _:\n",
    "            return 'нужные числа не найдены'\n",
    "\n",
    "print(*[get_nums(num) for num in lst], sep='\\n')"
   ]
  },
  {
   "cell_type": "code",
   "execution_count": 351,
   "metadata": {},
   "outputs": [
    {
     "name": "stdout",
     "output_type": "stream",
     "text": [
      "нужные числа не найдены\n",
      "нужные числа не найдены\n",
      "найдено число 1\n",
      "нужные числа не найдены\n",
      "найдено число 1\n",
      "найдено число 1\n",
      "нужные числа не найдены\n",
      "нужные числа не найдены\n",
      "нужные числа не найдены\n",
      "найдено число 9\n",
      "найдено число 9\n",
      "нужные числа не найдены\n",
      "нужные числа не найдены\n"
     ]
    }
   ],
   "source": [
    "for i in map(int, '3 2 1 3 1 1 4 5 8 9 9 6 5'.split()):\n",
    "    match i:\n",
    "        case 1 | 9:\n",
    "            print(f'найдено число {i}')\n",
    "        case _:\n",
    "            print('нужные числа не найдены')"
   ]
  },
  {
   "cell_type": "code",
   "execution_count": 352,
   "metadata": {},
   "outputs": [
    {
     "name": "stdout",
     "output_type": "stream",
     "text": [
      "6 2\n",
      "5 3 8 9\n"
     ]
    }
   ],
   "source": [
    "# На вход подается произвольное количество целых чисел в одну строку через пробел, \n",
    "# вам необходимо при помощи конструкции match-case вывести в одну строку первый и последний элемент. \n",
    "\n",
    "var = list(map(int, '6 5 3 8 9 2'.split()))\n",
    "\n",
    "match var:\n",
    "    case a, *args, b:\n",
    "        print(a, b)\n",
    "        print(*args)"
   ]
  },
  {
   "cell_type": "code",
   "execution_count": 353,
   "metadata": {},
   "outputs": [
    {
     "name": "stdout",
     "output_type": "stream",
     "text": [
      "['ого_поймал', 5, 6.6, ['парящая', 'в небе', 'бензопила'], (6, 4, 8)]\n",
      "[1, 2, 3, {'1': 'виноград'}, 65.56, 'лимбо', (4, 5, 7)]\n",
      "['ого_поймал', 5, 6.6, ['парящая', 'в небе', 'бензопила'], (6, 4, 8)]\n",
      "[1, 2, 3, {'1': 'виноград'}, 65.56, 'лимбо', (4, 5, 7)]\n"
     ]
    }
   ],
   "source": [
    "# У вас есть двумерный список lst. \n",
    "# Вам нужно вывести вложенные списки, которые соответствуют одному из следующих условий:\n",
    "# 1. Первый элемент - строка, четвертый - список, общее количество элементов неизвестно.\n",
    "# 2. Четвертый элемент - словарь, последний - кортеж, общее количество элементов неизвестно\n",
    "\n",
    "lst = [['ого_поймал', 5, 6.6, ['парящая', 'в небе', 'бензопила'], (6, 4, 8)], \n",
    "       [{1: 5, 'f': 'sdf'}, 7, 9, 8.2, 'dfg'], \n",
    "       [(2, 5, 7), 8, 'vxcvb', 45.65, {'d': 123}], \n",
    "       [1, 2, 3, {'1': 'виноград'}, 65.56, 'лимбо', (4, 5, 7)], \n",
    "       [6.6, 7.2, 56.7, 'asdfgh', [1, 2, 3]], \n",
    "       [(3, 4, 5), 'sdfgh', 6.7, 55, {2, 3, 4}]]\n",
    "\n",
    "for item in lst:\n",
    "    match item:\n",
    "        case (str(), _, _, list(), *_) | (_, _, _, dict(), *_, tuple()):\n",
    "            print(item)\n",
    "\n",
    "            \n",
    "for item in lst:\n",
    "    match item: \n",
    "        case (str(a), _, _, list(d), *_): \n",
    "            print(item) \n",
    "        case (_, _, _, dict(d), *_, tuple(z)): \n",
    "            print(item)"
   ]
  },
  {
   "cell_type": "code",
   "execution_count": 354,
   "metadata": {},
   "outputs": [
    {
     "name": "stdout",
     "output_type": "stream",
     "text": [
      "12\n",
      "12\n"
     ]
    }
   ],
   "source": [
    "s = '123QweeertY321'\n",
    "\n",
    "print(sum([int(i) for i in s if i.isdigit()]))\n",
    "\n",
    "print(sum(map(int, filter(str.isdigit, s))))"
   ]
  },
  {
   "cell_type": "code",
   "execution_count": null,
   "metadata": {},
   "outputs": [],
   "source": []
  },
  {
   "cell_type": "markdown",
   "metadata": {},
   "source": [
    "# iter + zip"
   ]
  },
  {
   "cell_type": "code",
   "execution_count": 355,
   "metadata": {},
   "outputs": [
    {
     "data": {
      "text/plain": [
       "[(1, 2, 3), (4, 5, 6), (7, 8, 9)]"
      ]
     },
     "execution_count": 355,
     "metadata": {},
     "output_type": "execute_result"
    }
   ],
   "source": [
    "# Превращение плоского списка чисел в матрицу zip(*[iter(s)] * n)\n",
    "lst = [1, 2, 3, 4, 5, 6, 7, 8, 9]\n",
    "list(zip(*[iter(lst)] * 3))"
   ]
  },
  {
   "cell_type": "code",
   "execution_count": 356,
   "metadata": {},
   "outputs": [
    {
     "data": {
      "text/plain": [
       "[(1, 2), (3, 4), (5, 6), (7, 8)]"
      ]
     },
     "execution_count": 356,
     "metadata": {},
     "output_type": "execute_result"
    }
   ],
   "source": [
    "list(zip(*[iter(lst)] * 2))"
   ]
  },
  {
   "cell_type": "code",
   "execution_count": 357,
   "metadata": {},
   "outputs": [
    {
     "name": "stdout",
     "output_type": "stream",
     "text": [
      "<list_iterator object at 0x0000016BA32868F0>\n",
      "<class 'list_iterator'>\n",
      "1 2 3 4 5 6 7 8 9\n",
      "[1, 2, 3, 4, 5, 6, 7, 8, 9]\n",
      "[(1, 2, 3), (4, 5, 6), (7, 8, 9)]\n",
      "1\n"
     ]
    }
   ],
   "source": [
    "# --------------------------------------------------------------\n",
    "# Анализ итератора:\n",
    "L = [1, 2, 3, 4, 5, 6, 7, 8, 9]\n",
    "it = iter(L);  # Создаем итератор 'it' - объект (процедура) с функцией сканирования элементов списка L)\n",
    "\n",
    "print(it);  # Адрес итератора в памяти\n",
    "# <list_iterator object at 0x000001E8289326B0>\n",
    "\n",
    "print(type(it));  # Проверка типа - класс \"итератор\"\n",
    "# <class 'list_iterator'>\n",
    "\n",
    "print(*it);  # Выводим данные объекта 'it' через указатели на элементы (* - указатель, в котором хранится к.л. адрес)\n",
    "# 1 2 3 4 5 6 7 8 9\n",
    "\n",
    "lst = [*iter(L)];  # Используем генератор '[]' для преобразования данных 'it' в тип list (список)\n",
    "print(lst)\n",
    "[1, 2, 3, 4, 5, 6, 7, 8, 9]\n",
    "\n",
    "# Зипуем:\n",
    "n=3\n",
    "zp = list(zip(*[iter(L)] * n));  # Передаем итератору  'it' одновременно n-указателей (адресов) объекта\n",
    "print(zp)\n",
    "# [(1, 2, 3), (4, 5, 6), (7, 8, 9)]\n",
    "# --------------------------------------------------------------\n",
    "# Для инфо: итератор имеет метод next() - взять следующий элемент (используется в ручных циклах)\n",
    "# Например:\n",
    "it = iter(L)\n",
    "el = it.__next__();  # получаем следующий элемент (сначала первый в списке)\n",
    "print(el);  # Проверим\n",
    "# 1\n",
    "# --------------------------------------------------------------"
   ]
  },
  {
   "cell_type": "markdown",
   "metadata": {},
   "source": [
    "# 4.2 Работа с текстовыми файлами"
   ]
  },
  {
   "cell_type": "code",
   "execution_count": 358,
   "metadata": {},
   "outputs": [
    {
     "name": "stdout",
     "output_type": "stream",
     "text": [
      "Which of the following \n",
      "23\n",
      "\n",
      "functions do you use to write data in the binary format?\n",
      "Python provides a wide range of built-in functions for file handling. It makes it really easy to create, update, read, and delete files.\n",
      "Open a File\n",
      "Remember! While specifying the exact path\n",
      "для указания внезапной остановки повествования;\n",
      "Иногда среднее тире называют коротким тире\n",
      "\n",
      "Which of the following functions \n",
      "do you use to write data in the binary format?\n",
      "\n"
     ]
    }
   ],
   "source": [
    "x = open('data/lines.txt', 'r', encoding='utf-8')\n",
    "\n",
    "print(x.read(23)) # считываем 23 байта\n",
    "print(x.tell())\n",
    "print()\n",
    "print(x.read())   # считываем оставшиеся символы\n",
    "x.seek(0)         # переход в начало\n",
    "print(x.read(33)) # считываем 33 байта\n",
    "print(x.readline())         \n",
    "x.seek(0, 2)      # переход в конец\n",
    "\n",
    "x.close()"
   ]
  },
  {
   "cell_type": "code",
   "execution_count": 359,
   "metadata": {},
   "outputs": [
    {
     "name": "stdout",
     "output_type": "stream",
     "text": [
      "1) Which of the following functions do you use to write data in the binary format?\n",
      "2) Python provides a wide range of built-in functions for file handling. It makes it really easy to create, update, read, and delete files.\n",
      "3) Open a File\n",
      "4) Remember! While specifying the exact path\n",
      "5) для указания внезапной остановки повествования;\n",
      "6) Иногда среднее тире называют коротким тире\n",
      "\n"
     ]
    }
   ],
   "source": [
    "def func(file):\n",
    "    with open('data/lines2.txt', 'w', encoding='utf-8') as out, \\\n",
    "        open(file, 'r', encoding='utf-8') as f:\n",
    "        lines = f.readlines()\n",
    "        out.writelines([f'{i+1}) {line}' for i, line in enumerate(lines)])\n",
    "\n",
    "func('data/lines.txt')\n",
    "\n",
    "with open('data/lines2.txt', 'r', encoding='utf-8') as f:\n",
    "        print(f.read())"
   ]
  },
  {
   "cell_type": "code",
   "execution_count": 360,
   "metadata": {},
   "outputs": [],
   "source": [
    "# Создайте вручную файл class_scores.txt с содержимым:\n",
    "\n",
    "# Чубака 65\n",
    "# Немезисов 85\n",
    "# Патрик 95\n",
    "# Зергов 94\n",
    "# Холодцова 80\n",
    "# Улюлюкина 50\n",
    "# Хруст 30\n",
    "# Геннадьевна 87\n",
    "\n",
    "# Файл представляет собой список фамилий  с количеством баллов за тест. \n",
    "# Вам необходимо создать функцию func без параметров, которая считывает данный файл и создает новый new_scores.txt. \n",
    "# В котором к каждому результату добавляется дополнительные 10 баллов, \n",
    "# в том случае если сумма не превысит 100 баллов, \n",
    "# иначе количество баллов остается прежним. Функцию необходимо только объявить.\n",
    "\n",
    "def func():\n",
    "    with open('data/class_scores1.txt', 'r', encoding='utf-8') as file, \\\n",
    "        open('data/new_scores1.txt', 'w', encoding='utf-8') as out:\n",
    "        for line in file:\n",
    "            names, scores = map(lambda x: x.strip(), line.split())\n",
    "            print(names, (int(scores), int(scores) + 10)[int(scores) + 10 <= 100], file=out)\n",
    "\n",
    "func()"
   ]
  },
  {
   "cell_type": "code",
   "execution_count": 361,
   "metadata": {},
   "outputs": [],
   "source": [
    "# Напишите функцию func, которая принимает латинскую букву в нижнем регистре. \n",
    "# Данная функция создает файл text_d.txt, если аргументом была буква \"d\", т.е. имя файла зависит от принимаемой функцией буквы. \n",
    "# Также содержимое файла формируется по принципу, указанному в примере:\n",
    "\n",
    "# func(\"d\")\n",
    "# ---------------------------------\n",
    "# File:\n",
    "# a\n",
    "# a b\n",
    "# a b c\n",
    "# a b c d\n",
    "\n",
    "\n",
    "\n",
    "def func(letter):\n",
    "    with open(f'data/text_{letter}.txt', 'w', encoding='utf-8') as out:\n",
    "        letters = []\n",
    "        for i in range(ord('a'), ord(letter) + 1):\n",
    "            letters.append(chr(i))\n",
    "            print(*letters, file=out)\n",
    "\n",
    "func('h')"
   ]
  },
  {
   "cell_type": "code",
   "execution_count": 362,
   "metadata": {},
   "outputs": [],
   "source": [
    "# Вам дан список с именами файлов в вашем проекте, в каждом из них будет написано 1 слово(не имеет значения какое). \n",
    "# Необходимо создать функцию func, которая примет данный список в качестве аргумента и поочередно содержимое каждого из них запишет в файл text.txt. Т\n",
    "# ак чтобы слова в формирующемся файле записывались каждое с новой строки. \n",
    "\n",
    "# Пример:\n",
    "\n",
    "# <слово из 1го файла>\n",
    "# <слово из 2го файла>\n",
    "# <слово из 3го файла>\n",
    "# <слово из 4го файла>\n",
    "# <слово из 5го файла>\n",
    "\n",
    "# продолжите решение здесь\n",
    "\n",
    "def func(arr):\n",
    "        with open(f'data/text_files.txt', 'w', encoding='utf-8') as out:\n",
    "            for n, name in enumerate(arr, start=1):\n",
    "                f = open(f'data/{name}', 'r', encoding='utf-8')\n",
    "                word = f.read().strip()\n",
    "                print(f'<{word} из {n}го файла>', file=out)\n",
    "                f.close()\n",
    "\n",
    "lst = ['t_1.txt', 't_2.txt', 't_3.txt']\n",
    "\n",
    "func(lst)"
   ]
  },
  {
   "cell_type": "code",
   "execution_count": 363,
   "metadata": {},
   "outputs": [],
   "source": [
    "lst = ['t_1.txt', 't_2.txt', 't_3.txt']\n",
    "\n",
    "def func(lst: list):\n",
    "    with open('data/text_files2.txt', 'w', encoding='utf-8') as f:\n",
    "        for name in lst:\n",
    "            with open(f'data/{name}', 'r', encoding='utf-8') as out:\n",
    "                print(out.read(), file=f)\n",
    "\n",
    "func(lst)"
   ]
  },
  {
   "cell_type": "markdown",
   "metadata": {},
   "source": [
    "# 4.3  Работа с файлами CSV"
   ]
  },
  {
   "cell_type": "code",
   "execution_count": 364,
   "metadata": {},
   "outputs": [
    {
     "name": "stdout",
     "output_type": "stream",
     "text": [
      "('секретный', 'qwerty123')\n"
     ]
    }
   ],
   "source": [
    "# Создайте в проекте файл task_2.csv с содержимым:\n",
    "\n",
    "# секретный-код-для\n",
    "# взлома-пентагона-qwerty123\n",
    "# Нужно создать функцию func без параметров, которая считывает в файле task_2.csv первое и последнее слово и возвращает их кортежем.\n",
    "\n",
    "import csv\n",
    "\n",
    "def func():\n",
    "        with open('data/task_2.csv', 'r', encoding='utf-8') as f:\n",
    "            words = []\n",
    "            for line in f.read().split():\n",
    "                words.extend(line.split('-'))\n",
    "        return words[0], words[-1]\n",
    "\n",
    "print(func())"
   ]
  },
  {
   "cell_type": "code",
   "execution_count": 365,
   "metadata": {},
   "outputs": [
    {
     "name": "stdout",
     "output_type": "stream",
     "text": [
      "('секретный', 'qwerty123')\n"
     ]
    }
   ],
   "source": [
    "import csv\n",
    "\n",
    "def func():\n",
    "    with open('data/task_2.csv', 'r', encoding = 'utf-8') as f:\n",
    "        words = list(csv.reader(f, delimiter = '-'))\n",
    "        return words[0][0], words[-1][-1]\n",
    "    \n",
    "print(func())"
   ]
  },
  {
   "cell_type": "code",
   "execution_count": 366,
   "metadata": {},
   "outputs": [
    {
     "name": "stdout",
     "output_type": "stream",
     "text": [
      "А это пожалуйста! 2\n",
      "А это пожалуйста! 4\n",
      "А это пожалуйста! 6\n",
      "А это пожалуйста! 8\n"
     ]
    }
   ],
   "source": [
    "# Создайте в вашем проекте файл task_1.csv с содержимым:\n",
    "\n",
    "# Не,надо,это,брать!,1\n",
    "# А,это,пожалуйста!,2\n",
    "# Не,надо,это,брать!,3\n",
    "# А,это,пожалуйста!,4\n",
    "# Не,надо,это,брать!,5\n",
    "# А,это,пожалуйста!,6\n",
    "# Не,надо,это,брать!,7\n",
    "# А,это,пожалуйста!,8\n",
    "# Нужно создать функцию func без параметров, которая считает только четные строки файла task_1.csv. \n",
    "# И выведет информацию на консоль в виде строк, в которых слова разделены пробелом.\n",
    "\n",
    "def func():\n",
    "    with open('data/task_1.csv', 'r', encoding = 'utf-8') as f:\n",
    "        lines = list(csv.reader(f))\n",
    "        for line in lines[1::2]:\n",
    "            print(' '.join(line))\n",
    "    \n",
    "func()"
   ]
  },
  {
   "cell_type": "code",
   "execution_count": 367,
   "metadata": {},
   "outputs": [
    {
     "name": "stdout",
     "output_type": "stream",
     "text": [
      "А это пожалуйста! 2\n",
      "А это пожалуйста! 4\n",
      "А это пожалуйста! 6\n",
      "А это пожалуйста! 8\n"
     ]
    }
   ],
   "source": [
    "def func():\n",
    "    with open('data/task_1.csv', 'r', encoding = 'utf-8') as f:\n",
    "        lines = list(csv.reader(f))\n",
    "        for i, row in enumerate(lines, start=1):\n",
    "            if i % 2 == 0:\n",
    "                print(' '.join(row))\n",
    "    \n",
    "func()"
   ]
  },
  {
   "cell_type": "code",
   "execution_count": 368,
   "metadata": {},
   "outputs": [
    {
     "name": "stdout",
     "output_type": "stream",
     "text": [
      "['name', 'position', 'salary']\n",
      "['Kwiki Ivanov', 'curdled milk taster', '20000']\n",
      "['Alex Baggins', 'capybara trainer', '45000']\n",
      "['Grigorii Fox', 'caries mannequin', '11000']\n",
      "\n",
      "['name', 'position', 'salary']\n",
      "['Kwiki Ivanov', 'curdled milk taster', '20000']\n",
      "['Alex Baggins', 'capybara trainer', '45000']\n",
      "['Grigorii Fox', 'caries mannequin', '11000']\n"
     ]
    }
   ],
   "source": [
    "# Считывание csv в список списков\n",
    "\n",
    "def func():\n",
    "    with open('data/task_3.csv', 'r', encoding='utf-8') as f:\n",
    "        f_csv = csv.reader(f)\n",
    "        for i in f_csv:\n",
    "            print(i)\n",
    "\n",
    "func()\n",
    "\n",
    "print()\n",
    "\n",
    "def func():\n",
    "    with open('data/task_3.csv', 'r', encoding='utf-8') as f:\n",
    "        f_csv = csv.reader(f)\n",
    "        arr = list(f_csv)\n",
    "        print(*arr, sep='\\n')\n",
    "\n",
    "func()"
   ]
  },
  {
   "cell_type": "code",
   "execution_count": 369,
   "metadata": {},
   "outputs": [
    {
     "name": "stdout",
     "output_type": "stream",
     "text": [
      "[{'name': 'Grigorii Fox', 'position': 'caries mannequin', 'salary': '11000'}, {'name': 'Kwiki Ivanov', 'position': 'curdled milk taster', 'salary': '20000'}, {'name': 'Alex Baggins', 'position': 'capybara trainer', 'salary': '45000'}]\n"
     ]
    }
   ],
   "source": [
    "# Создайте в своем проекте файл task_3.csv с содержимым:\n",
    "\n",
    "# name,position,salary\n",
    "# Kwiki Ivanov,curdled milk taster,20000\n",
    "# Alex Baggins,capybara trainer,45000\n",
    "# Grigorii Fox,caries mannequin,11000\n",
    "# Вам необходимо создать функцию func без параметров, которая считывает информацию с этого файла и формирует список словарей, \n",
    "# где самая верхняя строка - это ключи во всех словарях, остальные строки содержат в себе значения ключей под которыми они находятся. \n",
    "# Список словарей необходимо отсортировать по ключу \"salary\". \n",
    "\n",
    "def func():\n",
    "    with open('data/task_3.csv', 'r', encoding='utf-8') as f:\n",
    "        f_csv = csv.DictReader(f)\n",
    "        arr = [i for i in f_csv]\n",
    "        print(sorted(arr, key=lambda x: x['salary']))\n",
    "func()\n",
    "\n"
   ]
  },
  {
   "cell_type": "code",
   "execution_count": 370,
   "metadata": {},
   "outputs": [],
   "source": [
    "# Создайте функцию func без параметров, которая создаст файл task_4.csv. \n",
    "# В котором в первой строке будут первые пять цифр, начиная с 1, во второй строке следующие пять цифр, \n",
    "# начиная с 6 и т.д. Последней цифрой в файле должна быть 50\n",
    "\n",
    "def func():\n",
    "    with open('data/task_4.csv', 'w', encoding='utf-8', newline='') as f:\n",
    "        arr = [list(range(i, i + 5)) for i in range(1, 50, 5)]\n",
    "        f_csv = csv.writer(f)\n",
    "        f_csv.writerows(arr)\n",
    "\n",
    "func()"
   ]
  },
  {
   "cell_type": "code",
   "execution_count": 371,
   "metadata": {},
   "outputs": [],
   "source": [
    "# Необходимо объявить функцию func без параметров, которая запрашивает список слов в одну строку через пробел. \n",
    "# Далее функция формирует файл task_5.csv. В котором названия столбцов - это длина всех введенных слов по возрастанию, \n",
    "# под каждым столбцом находятся соответствующие по длине слова, располагающиеся в алфавитном порядке(сверху вниз). \n",
    "# Если под каким-то столбцом, в определенной строке не хватает слова, должно прописаться None. \n",
    "# \n",
    "# Подсказка:\n",
    "# csv.DictWriter(f, fieldnames=fields, restval='None')\n",
    "\n",
    "def func(line):\n",
    "    line = sorted(line.split())\n",
    "    words_dct = {}\n",
    "    for word in line:\n",
    "        words_dct[len(word)] = words_dct.get(len(word), []) + [word]\n",
    "\n",
    "    len_mx = len(max(words_dct.values(), key=len))\n",
    "    dct_arr = []\n",
    "    for k, v in words_dct.items():\n",
    "        len_arr = len(v)\n",
    "        words_dct[k].extend([None] * (len_mx - len_arr))\n",
    "    for i in range(len_mx):\n",
    "        d = {}\n",
    "        for k in words_dct:\n",
    "            d[k] = words_dct[k][i]\n",
    "            sorted_d = dict(sorted(d.items()))\n",
    "        dct_arr.append(sorted_d)\n",
    "    with open('data/task_5.csv', 'w', encoding='utf-8', newline='') as f:\n",
    "        field = list(sorted_d)\n",
    "        writer = csv.DictWriter(f, fieldnames=field, restval='None')\n",
    "        writer.writeheader()\n",
    "        writer.writerows(dct_arr)\n",
    "\n",
    "line = 'биг бон мак дак чих пых жмых мрот брод ром крот торг лимон олово дымок кобыл эльф лалала мумуму оливка зиплок брундуляк'\n",
    "func(line)"
   ]
  },
  {
   "cell_type": "code",
   "execution_count": 372,
   "metadata": {},
   "outputs": [],
   "source": [
    "def func(line):\n",
    "    line = sorted(line.split())\n",
    "    words_dct = {}\n",
    "    for word in line:\n",
    "        words_dct[len(word)] = words_dct.get(len(word), []) + [word]\n",
    "\n",
    "    len_mx = len(max(words_dct.values(), key=len))\n",
    "    dct_arr = []\n",
    "    for k, v in words_dct.items():\n",
    "        len_arr = len(v)\n",
    "        words_dct[k].extend([None] * (len_mx - len_arr))\n",
    "    for i in range(len_mx):\n",
    "        d = {}\n",
    "        for k in words_dct:\n",
    "            d[k] = words_dct[k][i]\n",
    "        dct_arr.append(d)\n",
    "    with open('data/task_5.csv', 'w', encoding='utf-8', newline='') as f:\n",
    "        fields = list(sorted(d))\n",
    "        writer = csv.DictWriter(f, fieldnames=fields, restval='None')\n",
    "        writer.writeheader()\n",
    "        writer.writerows(dct_arr)\n",
    "\n",
    "line = 'биг бон мак дак чих пых жмых мрот брод ром крот торг лимон олово дымок кобыл эльф лалала мумуму оливка зиплок брундуляк'\n",
    "func(line)"
   ]
  },
  {
   "cell_type": "code",
   "execution_count": 373,
   "metadata": {},
   "outputs": [],
   "source": [
    "import csv\n",
    "\n",
    "def func(line):\n",
    "    words_dict = {}\n",
    "    for item in sorted(line.split()):\n",
    "        words_dict.setdefault(len(item), []).append(item)\n",
    "\n",
    "    max_len = len(max(words_dict.values(), key=len))\n",
    "    arr = [{k:v[i] for k, v in words_dict.items() if len(v)-1 >= i} for i in range(max_len)]\n",
    "\n",
    "    with open('data/task_5_2.csv', 'w', encoding='utf-8') as f:\n",
    "        fields = sorted(words_dict)\n",
    "        writer = csv.DictWriter(f, fieldnames=fields, restval='None')\n",
    "        writer.writeheader()\n",
    "        writer.writerows(arr)\n",
    "\n",
    "line = 'биг бон мак дак чих пых жмых мрот брод ром крот торг лимон олово дымок кобыл эльф лалала мумуму оливка зиплок брундуляк'\n",
    "func(line)"
   ]
  },
  {
   "cell_type": "markdown",
   "metadata": {},
   "source": [
    "# 4.4 Работа с файлами JSON"
   ]
  },
  {
   "cell_type": "code",
   "execution_count": 374,
   "metadata": {},
   "outputs": [
    {
     "name": "stdout",
     "output_type": "stream",
     "text": [
      "True\n",
      "True\n"
     ]
    }
   ],
   "source": [
    "# Проверка существования пути или файла\n",
    "\n",
    "import os.path\n",
    "\n",
    "s = 'data/'\n",
    "print(os.path.isdir(s))\n",
    "\n",
    "s = 'data/data.txt'\n",
    "print(os.path.isfile(s))"
   ]
  },
  {
   "cell_type": "code",
   "execution_count": 375,
   "metadata": {},
   "outputs": [
    {
     "name": "stdout",
     "output_type": "stream",
     "text": [
      "а = альбинос, антракт, аскет\n",
      "б = бравада, брокер, бан\n",
      "в = власть, вихрь, воск\n",
      "г = голод, гром, гордость\n",
      "д = дым, дом, димдимыч\n"
     ]
    }
   ],
   "source": [
    "# Необходимо создать функцию func без параметров, которая считывает данный файл \n",
    "# и возвращает информацию в виде отформатированной строки. \n",
    "\n",
    "# Вот так должна выглядеть часть возвращаемой строки:\n",
    "\n",
    "# а = альбинос, антракт, аскет\n",
    "# б = бравада, брокер, бан\n",
    "# в = власть, вихрь, воск\n",
    "\n",
    "\n",
    "import json\n",
    "\n",
    "def func():\n",
    "    with open('data/task_1.json', 'r', encoding='utf-8') as f:\n",
    "        f_json = json.load(f)\n",
    "        s = \"\\n\".join([f'{k} = {\", \".join(v)}' for k, v in f_json.items()])\n",
    "        return s\n",
    "\n",
    "print(func())"
   ]
  },
  {
   "cell_type": "code",
   "execution_count": 376,
   "metadata": {},
   "outputs": [
    {
     "name": "stdout",
     "output_type": "stream",
     "text": [
      "{'имя': 'Женёк', 'должность': 'директор', 'зарплата': 1000000}\n"
     ]
    }
   ],
   "source": [
    "# Вам необходимо создать функцию func которая принимает позиционно json-строку, \n",
    "# структура которой представляет собой список со вложенными словарями. \n",
    "# Функция должна вернуть словарь, в котором в ключе \"зарплата\" стоит самое большое целое число. \n",
    "# Предлагаю в решении использовать функцию max  с ключом key, принцип работы очень схож с сортировками.\n",
    "# Вызывать функцию не нужно.\n",
    "\n",
    "import json\n",
    "\n",
    "def func(line):\n",
    "    sjson = json.loads(line)\n",
    "    return max(sjson, key=lambda x: x[\"зарплата\"])\n",
    "\n",
    "\n",
    "line = '''[\n",
    "   {\n",
    "      \"имя\": \"Женёк\",\n",
    "      \"должность\": \"директор\",\n",
    "      \"зарплата\": 1000000\n",
    "   },\n",
    "   {\n",
    "      \"имя\": \"Артем Лопушков\",\n",
    "      \"должность\": \"уборщик\",\n",
    "      \"зарплата\": 35000\n",
    "   },\n",
    "   {\n",
    "      \"имя\": \"Марат Маратович\",\n",
    "      \"должность\": \"разработчик\",\n",
    "      \"зарплата\": 80000\n",
    "   },\n",
    "   {\n",
    "      \"имя\": \"тетя Галя\",\n",
    "      \"должность\": \"разработчик\",\n",
    "      \"зарплата\": 100000\n",
    "   },\n",
    "   {\n",
    "      \"имя\": \"Андрей Андреевич\",\n",
    "      \"должность\": \"тестировщик\",\n",
    "      \"зарплата\": 60000\n",
    "   }\n",
    "]'''\n",
    "\n",
    "print(func(line))"
   ]
  },
  {
   "cell_type": "code",
   "execution_count": 377,
   "metadata": {},
   "outputs": [],
   "source": [
    "# Необходимо создать функцию func без параметров, которая формирует словарь по принципу: \n",
    "# в ключе '10' находится список первых 10ти букв латинского алфавита в нижнем регистре, \n",
    "# в ключе '20' второй десяток букв и т.д. \n",
    "# И записывает его в файл task_2.json.\n",
    "\n",
    "import json\n",
    "from string import ascii_lowercase\n",
    "from math import ceil\n",
    "\n",
    "def func():\n",
    "    size = len(ascii_lowercase)\n",
    "    d = {f'{10 * i}': list(ascii_lowercase[j: j + 10]) for i, j in zip(range(1, ceil(size // 10) + 2), \\\n",
    "                                                                       range(0, size + 1, 10))}\n",
    "    with open('data/task_2.json', 'w', encoding='utf-8') as f:\n",
    "        json.dump(d, f, indent=3)\n",
    "\n",
    "func()"
   ]
  },
  {
   "cell_type": "code",
   "execution_count": 378,
   "metadata": {},
   "outputs": [],
   "source": [
    "import json\n",
    "from string import ascii_lowercase\n",
    "\n",
    "def func():\n",
    "    d = {}\n",
    "    for i in range(0, len(ascii_lowercase), 10):\n",
    "        d[str(i + 10)] = list(ascii_lowercase[i: i + 10])\n",
    "    with open('data/task_2.json', 'w', encoding='utf-8') as f:\n",
    "        json.dump(d, f, indent=3)\n",
    "\n",
    "func()"
   ]
  },
  {
   "cell_type": "code",
   "execution_count": 379,
   "metadata": {},
   "outputs": [
    {
     "name": "stdout",
     "output_type": "stream",
     "text": [
      "{\"order_id\": 57265, \"buyer_name\": \"\\u0422\\u0438\\u043c\\u0443\\u0440 \\u041b\\u0435\\u043c\\u0443\\u0440\\u043e\\u0432\", \"shopperEmail\": \"king_julian@gmail.com\", \"contents\": [{\"prdct_id\": 462, \"prdct_name\": \"\\u041e\\u0433\\u0443\\u0440\\u0447\\u0438\\u043a\\u0438 \\u043e\\u0442 \\u0434\\u044f\\u0434\\u0438 \\u0412\\u0430\\u043d\\u0438\", \"cost\": 250, \"quantity\": 1}, {\"productID\": 23, \"productName\": \"\\u041f\\u043e\\u0434\\u043b\\u0438\\u0432\\u043a\\u0430\", \"cost\": 168, \"quantity\": 3}], \"order_status\": \"sending\"}\n"
     ]
    }
   ],
   "source": [
    "# Вам дан словарь dct. \n",
    "# Вам необходимо создать функцию func без параметров, \n",
    "# которая преобразует данный словарь в json-строку и вернет ее.\n",
    "\n",
    "dct = {\n",
    "    'order_id': 57265,\n",
    "    'buyer_name': 'Тимур Лемуров',\n",
    "    'shopperEmail': 'king_julian@gmail.com',\n",
    "    'contents': [\n",
    "        {\n",
    "            'prdct_id': 462,\n",
    "            'prdct_name': 'Огурчики от дяди Вани',\n",
    "            'cost': 250,\n",
    "            'quantity': 1,\n",
    "        },\n",
    "        {\n",
    "            'productID': 23,\n",
    "            'productName': 'Подливка',\n",
    "            'cost': 168,\n",
    "            'quantity': 3,\n",
    "        }\n",
    "    ],\n",
    "    'order_status': 'sending'\n",
    "}\n",
    "\n",
    "import json\n",
    "\n",
    "def func():\n",
    "    s = json.dumps(dct)\n",
    "    return s\n",
    "\n",
    "print(func())"
   ]
  },
  {
   "cell_type": "code",
   "execution_count": 380,
   "metadata": {},
   "outputs": [
    {
     "name": "stdout",
     "output_type": "stream",
     "text": [
      "Валера, Дикий\n",
      "186280\n",
      "Птолемей, Четвертый\n",
      "1005500\n",
      "Левиафан, Иванов\n",
      "5250\n",
      "Тамара, Лось\n",
      "538900\n",
      "Жук, Подлый\n",
      "16783000\n",
      "Квики, Несквиков\n",
      "527300\n",
      "Мария, Шальная\n",
      "439000\n",
      "['Жук', 'Подлый', 16783000]\n"
     ]
    }
   ],
   "source": [
    "# Дан файл task_3.json\n",
    "# Необходимо создать функцию func без параметров, которая считает данный файл \n",
    "# и преобразует его в python-объект. \n",
    "# Необходимо найти продавца, который продал товара на большую сумму. \n",
    "\n",
    "# Функция должна вернуть результат в формате списка:\n",
    "\n",
    "# [<имя>, <фамилия>, <сумма проданного товара>]\n",
    "\n",
    "import json\n",
    "\n",
    "def func():\n",
    "    with open('data/task_3.json', 'r', encoding='utf-8') as f:\n",
    "        f_json = json.load(f)\n",
    "        mx_total = 0\n",
    "        mx_seller = ''\n",
    "        for seller in f_json:\n",
    "            total = 0\n",
    "            fio = (seller['продавец']['имя'], seller['продавец']['фамилия'])\n",
    "            for product in seller['товары']:\n",
    "                total += product['сумма']\n",
    "            if total > mx_total:\n",
    "                mx_total = total\n",
    "                mx_seller = fio\n",
    "            print(', '.join(fio))\n",
    "            print(total)\n",
    "    \n",
    "        return list(mx_seller) + [mx_total]\n",
    "\n",
    "print(func())"
   ]
  },
  {
   "cell_type": "code",
   "execution_count": 381,
   "metadata": {},
   "outputs": [
    {
     "name": "stdout",
     "output_type": "stream",
     "text": [
      "['Жук', 'Подлый', 16783000]\n"
     ]
    }
   ],
   "source": [
    "def func():\n",
    "    import json\n",
    "    with open('data/task_3.json', mode='r', encoding='utf-8') as file:\n",
    "        f_json = json.load(file)\n",
    "        res = [[line['продавец']['имя'], line['продавец']['фамилия'], sum(x['сумма'] for x in line['товары'])] for line in f_json]\n",
    "        res.sort(key=lambda x: -x[-1])\n",
    "        return res[0]\n",
    "    \n",
    "print(func())"
   ]
  },
  {
   "cell_type": "code",
   "execution_count": 382,
   "metadata": {},
   "outputs": [
    {
     "name": "stdout",
     "output_type": "stream",
     "text": [
      "['Жук', 'Подлый', 16783000]\n"
     ]
    }
   ],
   "source": [
    "def func(mx_total=0, fio=None):\n",
    "    with open('data/task_3.json', encoding='utf-8') as f:\n",
    "        for item in __import__('json').load(f):\n",
    "            if (total := sum(el['сумма'] for el in item['товары'])) > mx_total:\n",
    "                mx_total = total\n",
    "                fio = list(item['продавец'].values())\n",
    "                \n",
    "        return fio + [mx_total]\n",
    "    \n",
    "print(func())"
   ]
  },
  {
   "cell_type": "markdown",
   "metadata": {},
   "source": [
    "# 4.5  Работа с файлами XML"
   ]
  },
  {
   "cell_type": "code",
   "execution_count": 383,
   "metadata": {},
   "outputs": [],
   "source": [
    "# Прочитать файл inventory.xml\n",
    "# Вывести на экран в столбик все теги ближайших дочерних элементов\n",
    "# относительно корневого элемента.\n",
    "\n"
   ]
  },
  {
   "cell_type": "markdown",
   "metadata": {},
   "source": [
    "# 5.1 Исключения. Базовое тестирование"
   ]
  },
  {
   "cell_type": "code",
   "execution_count": 384,
   "metadata": {},
   "outputs": [
    {
     "name": "stdout",
     "output_type": "stream",
     "text": [
      "Такого индекса нет в списке\n"
     ]
    }
   ],
   "source": [
    "# Блок try выполняется до первой ошибки\n",
    "\n",
    "lst = [1, 2, 3, 4, 5]\n",
    "dct = {1: 'a', 2: 'b'}\n",
    "\n",
    "try:\n",
    "    print(lst[5])\n",
    "    print(dct[3]) # такого ключа нет в списке\n",
    "\n",
    "except IndexError:\n",
    "    print('Такого индекса нет в списке')\n",
    "\n",
    "except KeyError: # уже не выполняется\n",
    "    print('Такого ключа нет в словаре')"
   ]
  },
  {
   "cell_type": "code",
   "execution_count": 385,
   "metadata": {},
   "outputs": [
    {
     "name": "stdout",
     "output_type": "stream",
     "text": [
      "5\n",
      "Ошибка: 3\n",
      "Ошибка: list index out of range\n"
     ]
    }
   ],
   "source": [
    "lst = [1, 2, 3, 4, 5]\n",
    "dct = {1: 'a', 2: 'b'}\n",
    "\n",
    "try:\n",
    "    print(lst[4])\n",
    "    print(dct[3])\n",
    "\n",
    "except (IndexError, KeyError) as e:\n",
    "    print(f'Ошибка: {e}')\n",
    "\n",
    "try:\n",
    "    print(lst[5])\n",
    "    print(dct[3])\n",
    "\n",
    "except (IndexError, KeyError) as e:\n",
    "    print(f'Ошибка: {e}')"
   ]
  },
  {
   "cell_type": "code",
   "execution_count": 386,
   "metadata": {},
   "outputs": [
    {
     "name": "stdout",
     "output_type": "stream",
     "text": [
      "4\n",
      "b\n",
      "Какая-то другая ошибка\n"
     ]
    }
   ],
   "source": [
    "lst = [1, 2, 3, 4, 5]\n",
    "dct = {1: 'a', 2: 'b'}\n",
    "\n",
    "try:\n",
    "    print(lst[3])\n",
    "    print(dct[2])\n",
    "    print(lst.a)\n",
    "\n",
    "except IndexError:\n",
    "    print('Такого индекса нет в списке')\n",
    "\n",
    "except KeyError:\n",
    "    print('Такого ключа нет в словаре')\n",
    "\n",
    "except Exception:\n",
    "    print('Какая-то другая ошибка')"
   ]
  },
  {
   "cell_type": "code",
   "execution_count": 387,
   "metadata": {},
   "outputs": [
    {
     "name": "stdout",
     "output_type": "stream",
     "text": [
      "Файл не найден\n"
     ]
    }
   ],
   "source": [
    "try:\n",
    "    f = open('file.csv')\n",
    "\n",
    "except FileNotFoundError:\n",
    "    print('Файл не найден')\n",
    "else:\n",
    "    print('Исключение не вызвано')"
   ]
  },
  {
   "cell_type": "code",
   "execution_count": 388,
   "metadata": {},
   "outputs": [
    {
     "name": "stdout",
     "output_type": "stream",
     "text": [
      "a\n",
      "a b\n",
      "a b c\n",
      "a b c d\n",
      "\n",
      "Ошибка типа list index out of range\n",
      "Файл закрыт\n"
     ]
    }
   ],
   "source": [
    "try:\n",
    "    f = open('data/text_d.txt')\n",
    "    print(f.read())\n",
    "    f.seek(0)\n",
    "    print(f.readlines()[5])\n",
    "\n",
    "except IndexError as e:\n",
    "    print(f'Ошибка типа {e}')\n",
    "finally:\n",
    "    f.close()\n",
    "    print('Файл закрыт')"
   ]
  },
  {
   "cell_type": "code",
   "execution_count": 389,
   "metadata": {},
   "outputs": [
    {
     "name": "stdout",
     "output_type": "stream",
     "text": [
      "Возникла ошибка AssertionError, Неверный тест на Bad password\n"
     ]
    }
   ],
   "source": [
    "def check_password(psw):\n",
    "    if len(psw) < 4:\n",
    "        return 'Bad password'\n",
    "    return 'Good password'\n",
    "\n",
    "try:\n",
    "    assert check_password('12345') == 'Good password', 'Неверный тест на Good password' # после запятой - пояснение\n",
    "    assert check_password('12345') == 'Bad password', 'Неверный тест на Bad password' # пояснение не должны повторяться\n",
    "\n",
    "except AssertionError as e:\n",
    "    print(f'Возникла ошибка AssertionError, {e}')\n"
   ]
  },
  {
   "cell_type": "code",
   "execution_count": 390,
   "metadata": {},
   "outputs": [
    {
     "name": "stdout",
     "output_type": "stream",
     "text": [
      "Деление на ноль\n"
     ]
    }
   ],
   "source": [
    "# Задаются 2 числа в одну строку через пробел. \n",
    "# Необходимо вывести результат деления на экран, при делении на 0 обработать конкретную ошибку \n",
    "# и выводить на экран 'Деление на ноль'.\n",
    "\n",
    "a = 5 \n",
    "b = 0\n",
    "\n",
    "try: \n",
    "    print(a / b)\n",
    "    \n",
    "except ZeroDivisionError:\n",
    "    print('Деление на ноль')"
   ]
  },
  {
   "cell_type": "code",
   "execution_count": 391,
   "metadata": {},
   "outputs": [
    {
     "name": "stdout",
     "output_type": "stream",
     "text": [
      "can only concatenate list (not \"int\") to list\n",
      "Необходимо объединять 2 списка\n"
     ]
    }
   ],
   "source": [
    "# Вам необходимо создать функцию func, \n",
    "# которая принимает 2 списка позиционно, объединяет и возвращает результат. \n",
    "# В случае объединения списка с каким-то другим типом данных возникает исключение TypeError. \n",
    "# Если функция отрабатывает штатно - вывести результат, \n",
    "# если вызывается исключение, его надо обработать и вернуть строку в формате:\n",
    "\n",
    "# <Текст ошибки>\n",
    "# Необходимо объединять 2 списка\n",
    "\n",
    "def func(lst1, lst2):\n",
    "    try:\n",
    "        return lst1 + lst2\n",
    "    \n",
    "    except TypeError as e:\n",
    "        return f'{e}\\nНеобходимо объединять 2 списка'\n",
    "\n",
    "print(func([1, 2], 1))"
   ]
  },
  {
   "cell_type": "code",
   "execution_count": 392,
   "metadata": {},
   "outputs": [
    {
     "name": "stdout",
     "output_type": "stream",
     "text": [
      "AbC\n",
      "DefG\n",
      "Error\n"
     ]
    }
   ],
   "source": [
    "# Напишите функцию func, которая принимает строку не менее 3 символов, \n",
    "# если в строке четное количество символов, то функция возвращает первую половину строки. \n",
    "# Если нечетное - вторую половину, которая длиннее первой на 1 символ(т.к. пополам строку не получится разделить). \n",
    "# В обоих случаях первый и последний символ строки должны быть в верхнем регистре, остальные без изменения. \n",
    "# Если во входной строке менее 3 символов, возвращается 'Error'. \n",
    "# После объявления вам необходимо проитерировать данный вам словарь, \n",
    "# где ключами являются аргументы функции, а значениями ожидаемый результат. \n",
    "# И на каждой итерации при помощи инструкции assert проверить работоспособность вашей функции.\n",
    "\n",
    "#вводные данные\n",
    "dct = {'мясосуп': 'ОсуП', 'бу': 'Error', 'противотапковый': 'ТапковыЙ',\n",
    "       'выхухолезавр': 'ВыхухО', 'тор': 'ОР'}\n",
    "\n",
    "def func(line):\n",
    "    length = len(line)\n",
    "    if length < 3:\n",
    "        return 'Error'\n",
    "    middle = length // 2\n",
    "    if length % 2:\n",
    "        res = line[middle:]\n",
    "    else:\n",
    "        res = line[:middle]\n",
    "    return res[0].upper() + res[1:-1] + res[-1].upper()\n",
    "\n",
    "for k, v in dct.items():\n",
    "    assert func(k) == dct.get(k)\n",
    "\n",
    "print(func('abcdef'))\n",
    "print(func('abcdefg'))\n",
    "\n",
    "print(func('ab'))\n"
   ]
  },
  {
   "cell_type": "code",
   "execution_count": 393,
   "metadata": {},
   "outputs": [
    {
     "name": "stdout",
     "output_type": "stream",
     "text": [
      "#1234\n",
      "#13a\n"
     ]
    }
   ],
   "source": [
    "# Напишите функцию func, которая может принять только строку или список. \n",
    "# Если это строка, то она возвращает ту же строку но с дополнительным знаком \"#\" первым символом, \n",
    "# если это список - то все объекты объединяются в одну строку и так же перед ней должен быть знак \"#\". \n",
    "# Если функция примет другие типы данных, то она ничего не возвращает. Пример:\n",
    "\n",
    "# func('1234') => #1234\n",
    "# func(['1', '3', 'a']) => #13a\n",
    " \n",
    "\n",
    "# Далее написать тестирующую функцию test_func, \n",
    "# которая принимает функцию, которую нужно оттестировать, \n",
    "# и список с данными для тестирования (они будут даны ниже).\n",
    "\n",
    "#вводные данные\n",
    "test_lst = [\n",
    "    ['1234', '#1234', '1 тест'],\n",
    "    [['1', '3', 'a'], '#13a', '2 тест'],\n",
    "    [['qwsdf4'], '#qwsdf4', '3 тест'],\n",
    "    [5, None, '4 тест'],\n",
    "    [('q', 'w', 'd'), None, '5 тест'],\n",
    "    [[1, True, 'f'], '#1Truef', '6 тест']\n",
    "]\n",
    "\n",
    "def func(arg):\n",
    "    if type(arg) == str:\n",
    "        return '#' + arg\n",
    "    elif type(arg) == list:\n",
    "        return '#' + ''.join(map(str, arg))\n",
    "    else:\n",
    "        return None\n",
    "    \n",
    "print(func('1234'))\n",
    "print(func(['1', '3', 'a']))\n",
    "\n",
    "def test_func(func, test_lst):\n",
    "    for test in test_lst:\n",
    "        arg, res, notation = test\n",
    "        assert func(arg) == res, notation"
   ]
  },
  {
   "cell_type": "markdown",
   "metadata": {},
   "source": [
    "# 6.1 Выражения - генераторы."
   ]
  },
  {
   "cell_type": "code",
   "execution_count": 394,
   "metadata": {},
   "outputs": [
    {
     "name": "stdout",
     "output_type": "stream",
     "text": [
      "[0, 1, 4, 9, 16, 25, 36, 49, 64, 81, 100, 121, 144, 169, 196, 225, 256, 289, 324, 361]\n",
      "248\n",
      "<generator object <genexpr> at 0x0000016BA4474E10>\n",
      "208\n",
      "0\n",
      "1\n",
      "4\n",
      "9\n"
     ]
    }
   ],
   "source": [
    "from sys import getsizeof\n",
    "\n",
    "x = [i**2 for i in range(20)]\n",
    "print(x)\n",
    "print(getsizeof(x))\n",
    "\n",
    "y = (i**2 for i in range(20)) # генератор\n",
    "print(y)\n",
    "print(getsizeof(y)) # фиксированное значение, независимо от количества элементов\n",
    "\n",
    "print(next(y))\n",
    "print(next(y))\n",
    "print(next(y))\n",
    "print(next(y))"
   ]
  },
  {
   "cell_type": "code",
   "execution_count": 395,
   "metadata": {},
   "outputs": [
    {
     "name": "stdout",
     "output_type": "stream",
     "text": [
      "10\n",
      "0 1 2\n",
      "7\n"
     ]
    }
   ],
   "source": [
    "# Преобразование генератора к дргому типу, функции min, max< sum истощают генератор \n",
    "# и при вызве функции next() происходит ошибка StopIteration\n",
    "\n",
    "y = (i for i in range(5))\n",
    "print(sum(y))\n",
    "\n",
    "y = (i for i in range(5))\n",
    "print(next(y), next(y), next(y))\n",
    "print(sum(y))"
   ]
  },
  {
   "cell_type": "code",
   "execution_count": 396,
   "metadata": {},
   "outputs": [
    {
     "name": "stdout",
     "output_type": "stream",
     "text": [
      "0 1 2 3 4 \n",
      "Генератор закончился\n"
     ]
    }
   ],
   "source": [
    "# Цикл for автоматически проходим по генератору и обрабатывает ошибку StopIteration\n",
    "\n",
    "y = (i for i in range(5))\n",
    "\n",
    "for i in y:\n",
    "    print(i, end=' ')\n",
    "\n",
    "try:\n",
    "    next(y)\n",
    "except StopIteration:\n",
    "    print()\n",
    "    print('Генератор закончился')"
   ]
  },
  {
   "cell_type": "code",
   "execution_count": 397,
   "metadata": {},
   "outputs": [
    {
     "name": "stdout",
     "output_type": "stream",
     "text": [
      "True\n",
      "3\n"
     ]
    }
   ],
   "source": [
    "y = (i for i in range(5))\n",
    "\n",
    "print(2 in y) # доходит до элемента равному 2\n",
    "\n",
    "print(next(y)) # выводит следующий элемента после элемента 2"
   ]
  },
  {
   "cell_type": "markdown",
   "metadata": {},
   "source": [
    "# 6.2 Функции - генераторы"
   ]
  },
  {
   "cell_type": "code",
   "execution_count": 398,
   "metadata": {},
   "outputs": [
    {
     "name": "stdout",
     "output_type": "stream",
     "text": [
      "0\n",
      "1\n",
      "2\n",
      "3\n",
      "\n",
      "0\n",
      "1\n",
      "2\n",
      "3\n"
     ]
    }
   ],
   "source": [
    "def func_gen():\n",
    "    for i in range(10):\n",
    "        yield i         # возвращает значение функции и замораживает работу функции\n",
    "\n",
    "x = func_gen() # создается генератор, генерирующий элемент при обращению к генератору\n",
    "\n",
    "print(next(x))\n",
    "print(next(x))\n",
    "print(next(x))\n",
    "print(next(x))\n",
    "\n",
    "print()\n",
    "\n",
    "y = func_gen()\n",
    "print(next(y))\n",
    "print(next(y))\n",
    "print(next(y))\n",
    "print(next(y))"
   ]
  },
  {
   "cell_type": "code",
   "execution_count": 399,
   "metadata": {},
   "outputs": [
    {
     "name": "stdout",
     "output_type": "stream",
     "text": [
      "Итерация до yeld = 0\n",
      "0\n",
      "\n",
      "Итерация после yeld = 0\n",
      "Итерация до yeld = 1\n",
      "1\n"
     ]
    }
   ],
   "source": [
    "def func_gen():\n",
    "    for i in range(10):\n",
    "        print(f'Итерация до yeld = {i}')\n",
    "        yield i\n",
    "        print(f'Итерация после yeld = {i}')\n",
    "\n",
    "x = func_gen()\n",
    "\n",
    "print(next(x))\n",
    "\n",
    "print()\n",
    "\n",
    "print(next(x))"
   ]
  },
  {
   "cell_type": "code",
   "execution_count": 400,
   "metadata": {},
   "outputs": [
    {
     "name": "stdout",
     "output_type": "stream",
     "text": [
      ",Шерстист,Гавкает,Лазает по деревьям,Вид\n",
      "\n",
      "\n",
      "0,1,1,0,собачка\n",
      "\n"
     ]
    }
   ],
   "source": [
    "# Большое преимущество генератора-функции:\n",
    "# Чтение больших файлов порционно\n",
    "\n",
    "def func_read(f):\n",
    "    with open(f, 'r', encoding='utf-8') as file:\n",
    "        for i in file:\n",
    "            yield i\n",
    "\n",
    "f = 'data\\cats.csv'\n",
    "\n",
    "x = func_read(f)\n",
    "\n",
    "print(next(x))\n",
    "\n",
    "print()\n",
    "\n",
    "print(next(x))"
   ]
  },
  {
   "cell_type": "code",
   "execution_count": 401,
   "metadata": {},
   "outputs": [
    {
     "name": "stdout",
     "output_type": "stream",
     "text": [
      ",Шерстист,Гавкает,Лазает по деревьям,Вид\n",
      "\n",
      "\n",
      "0,1,1,0,собачка\n",
      "\n"
     ]
    }
   ],
   "source": [
    "# Можно сократить (синтактический сахар)\n",
    "\n",
    "def func_read(f):\n",
    "    with open(f, 'r', encoding='utf-8') as file:\n",
    "        yield from file\n",
    "            \n",
    "f = 'data\\cats.csv'\n",
    "\n",
    "x = func_read(f)\n",
    "\n",
    "print(next(x))\n",
    "\n",
    "print()\n",
    "\n",
    "print(next(x))"
   ]
  },
  {
   "cell_type": "code",
   "execution_count": 402,
   "metadata": {},
   "outputs": [
    {
     "name": "stdout",
     "output_type": "stream",
     "text": [
      "0\n",
      "Что-то\n",
      "\n",
      "1\n",
      "None\n"
     ]
    }
   ],
   "source": [
    "# Метод send\n",
    "\n",
    "def func_gen():\n",
    "    for i in range(10):\n",
    "        v = yield i\n",
    "        yield v\n",
    "\n",
    "x = func_gen() # создается генератор, генерирующий элемент при обращению к генератору\n",
    "\n",
    "print(next(x))\n",
    "print(x.send('Что-то')) # через send() прокидывается значение в переменную v функции func_gen() и вызывается next() сразу после прокидывания\n",
    "\n",
    "print()\n",
    "\n",
    "print(next(x))\n",
    "print(x.send(None))"
   ]
  },
  {
   "cell_type": "code",
   "execution_count": 403,
   "metadata": {},
   "outputs": [
    {
     "name": "stdout",
     "output_type": "stream",
     "text": [
      "{1: 1}\n",
      "{2: 4}\n",
      "{3: 9}\n"
     ]
    }
   ],
   "source": [
    "# На вход подаются 2 целых числа в одну строку через пробел(x, y), \n",
    "# где x < y. Необходимо при помощи синтаксиса выражения генератора создать генератор, \n",
    "# который выдает нам словари с одной парой ключ-значение, \n",
    "# где ключами будет последовательность от x до y включительно, \n",
    "# а значение - квадрат ключа. И записать генератор в переменную dict_gen.\n",
    "\n",
    "x = 1\n",
    "y = 5\n",
    "\n",
    "dict_gen = ({i: i**2} for i in range(x, y + 1))\n",
    "\n",
    "print(next(dict_gen))\n",
    "print(next(dict_gen))\n",
    "print(next(dict_gen))"
   ]
  },
  {
   "cell_type": "code",
   "execution_count": 404,
   "metadata": {},
   "outputs": [
    {
     "name": "stdout",
     "output_type": "stream",
     "text": [
      "aa ab ac ad af ag ba bb bc bd bf bg ca cb cc cd cf cg da db dc dd df dg fa fb fc fd ff fg ga gb gc gd gf gg \n",
      "aa ab ac ad\n"
     ]
    }
   ],
   "source": [
    "# Используя символы малых букв латинского алфавита запишите выражение-генератор alph_gen, \n",
    "# который бы генерировал все возможные сочетания из 2ух букв алфавита, учитывая порядок. \n",
    "# Например, первые семь начальных сочетаний имеют вид: aa ab ac ad ae af ag.\n",
    "\n",
    "# from string import ascii_lowercase\n",
    "\n",
    "asc_l = 'abcdfg'\n",
    "\n",
    "for i in asc_l:\n",
    "    for j in asc_l:\n",
    "        print(i + j, end=' ')\n",
    "\n",
    "print()\n",
    "\n",
    "alph_gen = (i + j for i in asc_l for j in asc_l)\n",
    "\n",
    "print(next(alph_gen), next(alph_gen), next(alph_gen), next(alph_gen))"
   ]
  },
  {
   "cell_type": "code",
   "execution_count": 405,
   "metadata": {},
   "outputs": [
    {
     "name": "stdout",
     "output_type": "stream",
     "text": [
      "(1, 'Воскресенье')\n",
      "(2, 'Понедельник')\n",
      "(3, 'Вторник')\n",
      "(4, 'Среда')\n",
      "(5, 'Четверг')\n",
      "(6, 'Пятница')\n",
      "(7, 'Суббота')\n",
      "(8, 'Воскресенье')\n",
      "(9, 'Понедельник')\n",
      "(10, 'Вторник')\n"
     ]
    }
   ],
   "source": [
    "# Давайте напишем выражение-генератор gen, \n",
    "# который будет генерировать кортеж состоящий из двух элементов: \n",
    "# номер дня в году и названия дня недели(кириллицей с заглавной буквы). \n",
    "# За начало отсчета возьмем 2022 год. Он начался в субботу. \n",
    "# Первое обращение к генератору вернет нам результат:\n",
    "\n",
    "# (1, 'Суббота')\n",
    "# Пусть он генерирует 100 первых кортежей.\n",
    "\n",
    "day_names = ['Суббота', 'Воскресенье', 'Понедельник', 'Вторник', 'Среда', 'Четверг', 'Пятница']\n",
    "\n",
    "gen = ((i, day_names[i % 7]) for i in range(1, 11))\n",
    "\n",
    "for i in range(10):\n",
    "    print(next(gen))"
   ]
  },
  {
   "cell_type": "code",
   "execution_count": 406,
   "metadata": {},
   "outputs": [
    {
     "name": "stdout",
     "output_type": "stream",
     "text": [
      "1\n",
      "3\n",
      "6\n",
      "10\n",
      "15\n"
     ]
    }
   ],
   "source": [
    "# Нужно объявить функцию-генератор func_gen, которая принимает целое число \n",
    "# и возвращает сумму чисел от 1-го до введенного числа включительно, \n",
    "# в зависимости от итерации на которой она находится.\n",
    "\n",
    "# - для первого числа 1 сумма равна 1;\n",
    "# - для второго числа 2 сумма равна 1+2 = 3\n",
    "\n",
    "def func_gen(n):\n",
    "    total = 0\n",
    "    for i in range(1, n + 1):\n",
    "        total += i\n",
    "        yield total\n",
    "\n",
    "n = 5\n",
    "x = func_gen(n)\n",
    "\n",
    "for i in range(n):\n",
    "    print(next(x))"
   ]
  },
  {
   "cell_type": "code",
   "execution_count": 407,
   "metadata": {},
   "outputs": [
    {
     "name": "stdout",
     "output_type": "stream",
     "text": [
      "2edlB\n",
      "D@dz1\n"
     ]
    }
   ],
   "source": [
    "# Нужно создать функцию-генератор func_gen, \n",
    "# которая принимает в себя целое число и при обращении к ней генерируется пароль соответствующей длины. \n",
    "# Обращаться к генератору можно неограниченное количество раз и каждый раз получать пароль. \n",
    "\n",
    "# Пример работы:\n",
    "\n",
    "# x = func_gen(10)\n",
    "# next(x) => \"dPjM*9TcHI\"\n",
    "# next(x) => \"c59M?u5vX*\"\n",
    "\n",
    "# Вам даны наборы символов, которые можно использовать при генерации и функция randint, которая вам поможет в решении.\n",
    "\n",
    "from random import randint, sample\n",
    "from string import ascii_letters\n",
    "\n",
    "symb = ascii_letters + \"0123456789!?@#$*\"\n",
    "\n",
    "def func_gen(n):\n",
    "    while True:\n",
    "        yield ''.join(sample(symb, n))\n",
    "\n",
    "n = 5\n",
    "x = func_gen(n)\n",
    "\n",
    "print(next(x))\n",
    "print(next(x))\n"
   ]
  },
  {
   "cell_type": "code",
   "execution_count": 408,
   "metadata": {},
   "outputs": [
    {
     "name": "stdout",
     "output_type": "stream",
     "text": [
      "5\n",
      "23\n",
      "1\n",
      "4\n"
     ]
    }
   ],
   "source": [
    "# Нужно написать функцию func с произвольным количеством позиционных параметров, \n",
    "# которая возвращает их кортеж. \n",
    "# Создать декоратор gen_decor, который преобразует функцию в генератор, \n",
    "# так чтобы при обращении к ней, она последовательно выдавала элементы кортежа. \n",
    "\n",
    "from functools import wraps\n",
    "\n",
    "def gen_decor(func):\n",
    "    @wraps(func)\n",
    "    def wrapper(*args):\n",
    "        x = func(*args)\n",
    "        for i in x:\n",
    "            yield i\n",
    "    return wrapper\n",
    "\n",
    "def func(*args):\n",
    "    return args\n",
    "\n",
    "funcx = gen_decor(func)\n",
    "\n",
    "# \"\"\"\n",
    "n = 5, 23, 1, 4,\n",
    "\n",
    "y = funcx(*n)\n",
    "\n",
    "for i in n:\n",
    "    print(next(y))\n",
    "# \"\"\""
   ]
  },
  {
   "cell_type": "markdown",
   "metadata": {},
   "source": [
    "# 7.1 isinstance, zip"
   ]
  },
  {
   "cell_type": "code",
   "execution_count": 409,
   "metadata": {},
   "outputs": [
    {
     "name": "stdout",
     "output_type": "stream",
     "text": [
      "['sdf', 'asd']\n",
      "[1, 2, 3, 4, 5]\n",
      "['cvb', 'dfgh']\n",
      "[6, 5, 8]\n"
     ]
    }
   ],
   "source": [
    "# Создайте функцию func, которая принимает позиционно список или кортеж. \n",
    "# Если аргументом является список, то она фильтрует его, оставляя в нем только строчные объекты, если кортеж - то целочисленные. \n",
    "# Во всех случаях возвращается список.\n",
    "\n",
    "def func(arg):\n",
    "    if isinstance(arg, list):\n",
    "        return list(filter(lambda x: isinstance(x, str), arg))\n",
    "    elif isinstance(arg, tuple):\n",
    "        return list(filter(lambda x: isinstance(x, int) and not isinstance(x, bool), arg))\n",
    "    \n",
    "print(func([1, 'sdf', 6, 'asd']))\n",
    "print(func((1, 2, 3, 4, 5, True)))\n",
    "print(func(['cvb', 'dfgh', 5, 7]))\n",
    "print(func((False, 6, 5, 8)))"
   ]
  },
  {
   "cell_type": "code",
   "execution_count": 410,
   "metadata": {},
   "outputs": [],
   "source": [
    "# Вам необходимо создать функцию func, которая принимает список. \n",
    "# В котором могут находится только экземпляры 2-ух типов: \n",
    "# human и infected_human(это нестандартные типы объектов, созданные исключительно для данной задачи). \n",
    "# Функция должна вернуть кортеж из 3-ёх элементов. \n",
    "# Первый статус зараженности корабля(True/False), \n",
    "# 2-ой - количество незараженных членов экипажа(human), \n",
    "# 3-ий - количество зараженных(infected_human).\n",
    "\n",
    "def func(arg):\n",
    "    infected_human_ = 0\n",
    "    human_ = 0\n",
    "    for i in arg:\n",
    "        if isinstance(i, human):\n",
    "            human_ += 1\n",
    "        else:\n",
    "            infected_human_ += 1\n",
    "\n",
    "    return bool(infected_human_), human_, infected_human_\n"
   ]
  },
  {
   "cell_type": "code",
   "execution_count": 411,
   "metadata": {},
   "outputs": [
    {
     "data": {
      "text/plain": [
       "{1: 'ван', 2: 'чу'}"
      ]
     },
     "execution_count": 411,
     "metadata": {},
     "output_type": "execute_result"
    }
   ],
   "source": [
    "# Необходимо создать функцию func, которая принимает 2 списка и возвращает словарь, \n",
    "# в котором ключами являются значения первого списка, \n",
    "# а значениями соответствующие по индексу объекты из другого списка. \n",
    "# Количество пар ключ-значение должно соответствовать минимальной длине из этих списков.\n",
    "\n",
    "def func(lst1, lst2):\n",
    "    return dict(zip(lst1, lst2))\n",
    "\n",
    "func([1, 2], ['ван', 'чу', 'фри'])"
   ]
  },
  {
   "cell_type": "code",
   "execution_count": 412,
   "metadata": {},
   "outputs": [
    {
     "name": "stdout",
     "output_type": "stream",
     "text": [
      "Списки разной длины\n",
      "{1: 'да кто', 2: 'там', 3: 'всё левитирует?'}\n"
     ]
    }
   ],
   "source": [
    "def func(lst1, lst2):\n",
    "    if len(lst1) == len(lst2):\n",
    "        return dict(zip(lst1, lst2))\n",
    "    return 'Списки разной длины'\n",
    "\n",
    "\n",
    "print(func([1, 2], ['Осторожно!', 'Петровна', 'падает!']))\n",
    "print(func([1, 2, 3], ['да кто', 'там', 'всё левитирует?']))"
   ]
  },
  {
   "cell_type": "code",
   "execution_count": 413,
   "metadata": {},
   "outputs": [
    {
     "name": "stdout",
     "output_type": "stream",
     "text": [
      "Списки разной длины\n",
      "{1: 'да кто', 2: 'там', 3: 'всё левитирует?'}\n"
     ]
    }
   ],
   "source": [
    "def func(lst1: list, lst2: list) -> dict:\n",
    "    try:\n",
    "        x = zip(lst1, lst2, strict = True)\n",
    "        return dict(x)\n",
    "    except ValueError:\n",
    "        return f'Списки разной длины'\n",
    "    \n",
    "print(func([1, 2], ['Осторожно!', 'Петровна', 'падает!']))\n",
    "print(func([1, 2, 3], ['да кто', 'там', 'всё левитирует?']))"
   ]
  },
  {
   "cell_type": "code",
   "execution_count": 414,
   "metadata": {},
   "outputs": [
    {
     "data": {
      "text/plain": [
       "[[1, 3, 7], [9, 2, 4], [8, 7, 3], [5, 9, 5]]"
      ]
     },
     "execution_count": 414,
     "metadata": {},
     "output_type": "execute_result"
    }
   ],
   "source": [
    "lst = [\n",
    "    [1, 2, 3, 4, 5, 6],\n",
    "    [3, 4, 5, 6],\n",
    "    [7, 8, 9],\n",
    "    [9, 7, 5, 3, 2]\n",
    "    ]\n",
    "\n",
    "a = [1, 2, 3, 4, 5, 6]\n",
    "s = [3, 4, 5, 6]\n",
    "d = [7, 8, 9]\n",
    "\n",
    "import numpy as np\n",
    "\n",
    "np.array(list([*args] for args in zip(*lst))).reshape(4, 3).tolist()"
   ]
  },
  {
   "cell_type": "code",
   "execution_count": 415,
   "metadata": {},
   "outputs": [
    {
     "name": "stdout",
     "output_type": "stream",
     "text": [
      "[1, 2, 3]\n",
      "[3, 4, 5]\n",
      "[7, 8, 9]\n",
      "[9, 7, 5]\n"
     ]
    }
   ],
   "source": [
    "# Дана матрица(двумерный список). \n",
    "# С помощью функции zip выровнять эту таблицу, приведя ее к прямоугольному\n",
    "# виду, отбросив выходящие элементы, т.е. ширина матрицы должна быть равна минимальной длине среди всех вложенных списков. \n",
    "# Вывести списки полученной матрицы на экран, каждый с новой строки.\n",
    "\n",
    "#вводные данные        \n",
    "lst = [\n",
    "    [1, 2, 3, 4, 5, 6],\n",
    "    [3, 4, 5, 6],\n",
    "    [7, 8, 9],\n",
    "    [9, 7, 5, 3, 2]\n",
    "    ]\n",
    "\n",
    "import numpy as np\n",
    "\n",
    "arr = list(zip(*lst))\n",
    "arr = np.array(arr).T\n",
    "\n",
    "for row in arr:\n",
    "    print(list(row))"
   ]
  },
  {
   "cell_type": "code",
   "execution_count": 416,
   "metadata": {},
   "outputs": [
    {
     "name": "stdout",
     "output_type": "stream",
     "text": [
      "[1, 2, 3]\n",
      "[3, 4, 5]\n",
      "[7, 8, 9]\n",
      "[9, 7, 5]\n"
     ]
    }
   ],
   "source": [
    "#вводные данные        \n",
    "lst = [\n",
    "    [1, 2, 3, 4, 5, 6],\n",
    "    [3, 4, 5, 6],\n",
    "    [7, 8, 9],\n",
    "    [9, 7, 5, 3, 2]\n",
    "    ]\n",
    "\n",
    "print(*map(list, zip(*zip(*lst))), sep='\\n')"
   ]
  },
  {
   "cell_type": "markdown",
   "metadata": {},
   "source": [
    "# 7.2 map, filter"
   ]
  },
  {
   "cell_type": "code",
   "execution_count": 417,
   "metadata": {},
   "outputs": [
    {
     "data": {
      "text/plain": [
       "[2, 4, 8, 16]"
      ]
     },
     "execution_count": 417,
     "metadata": {},
     "output_type": "execute_result"
    }
   ],
   "source": [
    "# Функция map\n",
    "\n",
    "lst1 = [2, 2, 2, 2]\n",
    "lst2 = [1, 2, 3, 4]\n",
    "\n",
    "list(map(lambda x, y: x ** y, lst1, lst2))"
   ]
  },
  {
   "cell_type": "code",
   "execution_count": 418,
   "metadata": {},
   "outputs": [
    {
     "data": {
      "text/plain": [
       "[2, 4, 8, 16]"
      ]
     },
     "execution_count": 418,
     "metadata": {},
     "output_type": "execute_result"
    }
   ],
   "source": [
    "lst1 = [2, 2, 2, 2]\n",
    "lst2 = [1, 2, 3, 4]\n",
    "\n",
    "list(map(pow, lst1, lst2))"
   ]
  },
  {
   "cell_type": "code",
   "execution_count": 419,
   "metadata": {},
   "outputs": [
    {
     "data": {
      "text/plain": [
       "[10, 12, 14, 16]"
      ]
     },
     "execution_count": 419,
     "metadata": {},
     "output_type": "execute_result"
    }
   ],
   "source": [
    "lst1 = [2, 2, 2, 2]\n",
    "lst2 = [1, 2, 3, 4]\n",
    "lst3 = [7, 8, 9, 10]\n",
    "\n",
    "list(map(lambda x, y, z: x + y + z, lst1, lst2, lst3))"
   ]
  },
  {
   "cell_type": "code",
   "execution_count": 420,
   "metadata": {},
   "outputs": [
    {
     "data": {
      "text/plain": [
       "[('one', 11), ('two', 12), ('three', 13), ('four', 14)]"
      ]
     },
     "execution_count": 420,
     "metadata": {},
     "output_type": "execute_result"
    }
   ],
   "source": [
    "lst1 = ['one', 'two', 'three', 'four']\n",
    "lst2 = [11, 12 , 13, 14]\n",
    "\n",
    "list(map(lambda *args: args, lst1, lst2))"
   ]
  },
  {
   "cell_type": "code",
   "execution_count": 421,
   "metadata": {},
   "outputs": [
    {
     "data": {
      "text/plain": [
       "{'one': 11, 'two': 12, 'three': 13, 'four': 14}"
      ]
     },
     "execution_count": 421,
     "metadata": {},
     "output_type": "execute_result"
    }
   ],
   "source": [
    "lst1 = ['one', 'two', 'three', 'four']\n",
    "lst2 = [11, 12 , 13, 14]\n",
    "\n",
    "dict(map(lambda *args: args, lst1, lst2))"
   ]
  },
  {
   "cell_type": "code",
   "execution_count": 422,
   "metadata": {},
   "outputs": [
    {
     "data": {
      "text/plain": [
       "{'one': [11, 12, 13, 14], 'two': 16, 'three': 17}"
      ]
     },
     "execution_count": 422,
     "metadata": {},
     "output_type": "execute_result"
    }
   ],
   "source": [
    "lst1 = ['one', 'two', 'three', 'four']\n",
    "lst2 = [11, 12 , 13, 14], 16, 17\n",
    "\n",
    "dict(map(lambda *args: args, lst1, lst2))"
   ]
  },
  {
   "cell_type": "code",
   "execution_count": 423,
   "metadata": {},
   "outputs": [
    {
     "data": {
      "text/plain": [
       "[3, 4]"
      ]
     },
     "execution_count": 423,
     "metadata": {},
     "output_type": "execute_result"
    }
   ],
   "source": [
    "# Функция map\n",
    "\n",
    "lst = [2, 2, 2, 2, 1, 2, 3, 4]\n",
    "\n",
    "list(filter(lambda x: x > 2, lst))"
   ]
  },
  {
   "cell_type": "code",
   "execution_count": 424,
   "metadata": {},
   "outputs": [
    {
     "data": {
      "text/plain": [
       "['1', '2.0', '3', '5.5']"
      ]
     },
     "execution_count": 424,
     "metadata": {},
     "output_type": "execute_result"
    }
   ],
   "source": [
    "# Отфильтровать все числа из списка строк\n",
    "\n",
    "lst = ['ноль', '1', '2.0', 'что-то', '3', '5.5']\n",
    "\n",
    "list(filter(lambda x: x.replace('.', '').isdigit(), lst))"
   ]
  },
  {
   "cell_type": "code",
   "execution_count": 425,
   "metadata": {},
   "outputs": [
    {
     "data": {
      "text/plain": [
       "[1, 2, 'a', 3, 'b']"
      ]
     },
     "execution_count": 425,
     "metadata": {},
     "output_type": "execute_result"
    }
   ],
   "source": [
    "# Убрать значения None False\n",
    "\n",
    "lst = [0, 1, False, 2, '', None, 'a' , 3, 'b']\n",
    "\n",
    "list(filter(None, lst))"
   ]
  },
  {
   "cell_type": "code",
   "execution_count": 426,
   "metadata": {},
   "outputs": [
    {
     "data": {
      "text/plain": [
       "[8.5, 8.25, 8.0, 7.75, 7.5]"
      ]
     },
     "execution_count": 426,
     "metadata": {},
     "output_type": "execute_result"
    }
   ],
   "source": [
    "# На вход подается список целых чисел. \n",
    "# Необходимо преобразовать каждый элемент в среднее арифметическое этого списка, \n",
    "# при условии если бы этого элемента не было.\n",
    "\n",
    "s = '6 7 8 9 10'\n",
    "\n",
    "lst = list(map(int, s.split()))\n",
    "list(map(lambda x: (sum(lst) - x) / (len(lst) - 1), lst))"
   ]
  },
  {
   "cell_type": "code",
   "execution_count": 427,
   "metadata": {},
   "outputs": [
    {
     "data": {
      "text/plain": [
       "['<нутутмои', '<пацаны', '<щакак', 'ващеребята>', 'полномочиявсё>', 'спою>']"
      ]
     },
     "execution_count": 427,
     "metadata": {},
     "output_type": "execute_result"
    }
   ],
   "source": [
    "# необходимо разделить слова по \"|\". \n",
    "# Знаки \"><\" сместить в противоположную сторону слова. \n",
    "# Отсортировать список, где слова со знаком \"<\" будут вначале, \n",
    "# затем слова со знаком \">\", \n",
    "# также между собой они сравниваются еще и по алфавиту.\n",
    "\n",
    "s = 'щакак<|>спою нутутмои<|>полномочиявсё пацаны<|>ващеребята'.replace(' ', '|').split('|')\n",
    "lst = list(map(lambda x: x[1:] + x[0] if x[-1].isalpha() else x[-1] + x[:-1], s))\n",
    "lst.sort()\n",
    "lst"
   ]
  },
  {
   "cell_type": "code",
   "execution_count": 428,
   "metadata": {},
   "outputs": [
    {
     "data": {
      "text/plain": [
       "[2, 42, 633, 844]"
      ]
     },
     "execution_count": 428,
     "metadata": {},
     "output_type": "execute_result"
    }
   ],
   "source": [
    "# Даны 2 списка. \n",
    "# При помощи одного map создайте новый список, \n",
    "# в котором элементы будут суммой объектов этих списков, находящихся на одном индексе. \n",
    "# Если объект строчный, то его нужно привести к целочисленному.\n",
    "\n",
    "lst_1 = ['1', '22', '333', '444']\n",
    "lst_2 = [1, 20, 300, 400]\n",
    "\n",
    "list(map(lambda x, y: int(x) + int(y), map(int, lst_1), map(int, lst_2)))"
   ]
  },
  {
   "cell_type": "code",
   "execution_count": 429,
   "metadata": {},
   "outputs": [
    {
     "name": "stdout",
     "output_type": "stream",
     "text": [
      "[2, 42, 633, 844]\n"
     ]
    }
   ],
   "source": [
    "lst_1 = ['1', '22', '333', '444']\n",
    "lst_2 = [1, 20, 300, 400]\n",
    "\n",
    "f = lambda lst: map(int, lst)\n",
    "print(list(map(sum, zip(f(lst_1), f(lst_2)))))"
   ]
  },
  {
   "cell_type": "code",
   "execution_count": 430,
   "metadata": {},
   "outputs": [
    {
     "data": {
      "text/plain": [
       "[12, 45, 67]"
      ]
     },
     "execution_count": 430,
     "metadata": {},
     "output_type": "execute_result"
    }
   ],
   "source": [
    "# На вход поступает список целых чисел, \n",
    "# необходимо оставить только те числа в которых не встречается сочетания цифр 23.\n",
    "\n",
    "s = '12 23 123 45 67 6723'.split()\n",
    "\n",
    "list(map(int, filter(lambda x: '23' not in x, s)))"
   ]
  },
  {
   "cell_type": "code",
   "execution_count": 431,
   "metadata": {},
   "outputs": [
    {
     "name": "stdout",
     "output_type": "stream",
     "text": [
      "[['галеон', 600000], ['драхма', 7500], ['коин', 10000], ['люта', 10000], ['мун', 300000], ['пал', 27500], ['септим', 75000], ['соверен', 400000], ['фалах', 1200000], ['флорик', 200000], ['эфир', 50000]]\n",
      "галеон  драхма  коин    люта    мун     пал     септим  соверен фалах   флорик  эфир\n",
      "600000  7500    10000   10000   300000  27500   75000   400000  1200000 200000  50000"
     ]
    }
   ],
   "source": [
    "# Вам дан список строк. Строки бывают 2ух типов. Пример:\n",
    "\n",
    "# '5 2 коин 1'\n",
    "# '25 1 драхма 4 под раковиной'\n",
    "# Первый элемент в строке означает номинал монеты, второй - количество монет, \n",
    "# третий - название монеты, четвертый - некая категория качества и ценности монеты от 0 до 5, \n",
    "# ссылающаяся на коэффициент:\n",
    "\n",
    "# 0 категория -  коэффициент 0\n",
    "# 1 категория -  коэффициент 1000\n",
    "# 2 категория -  коэффициент 750\n",
    "# 3 категория -  коэффициент 500\n",
    "# 4 категория -  коэффициент 300\n",
    "# 5 категория -  коэффициент 100\n",
    "\n",
    "# Расчет стоимости монет: номинал * количество * коэффициент. \n",
    "# Если элементов в строке больше, то это заметка о том где были найдены монеты. \n",
    "# Вам необходимо произвести расчет стоимости по каждому типу монет. \n",
    "\n",
    "# Вывести необходимо информацию в виде столбцов. Часть вывода:\n",
    "\n",
    "# галеон  драхма  коин    люта    мун   \n",
    "# 600000  7500    10000   10000   300000\n",
    "# Названия монет отсортированы по алфавиту. Обе строки заполнены по левому краю, \n",
    "# отталкиваясь от максимальной длины слова среди монет, между категориями один пробел. \n",
    "# В конце последнего столбца не должно быть пробелов. \n",
    "# Если стоимость монет какого-то номинала равна 0, то она не должна попасть в итоговую таблицу.\n",
    "\n",
    "#вводные данные\n",
    "lst = ['25 1 драхма 4 под раковиной', '5 2 коин 1', '50 3 септим 3 в рыбе', '50 1 септим 0',\n",
    "       '50 16 соверен 3', '100 1 пшик 0 меж складок', '5 2 люта 1', '10 5 эфир 1',\n",
    "       '500 4 галеон 4 под распред. шляпой', '100 7 флорик 0', '100 4 флорик 3 в ухе', \n",
    "       '25 11 пал 5', '5 37 цеон 0', '100 12 фалах 1', '200 2 мун 2 в тапке']\n",
    "\n",
    "dct={0: 0, 1: 1000, 2: 750, 3: 500, 4: 300, 5: 100}\n",
    "\n",
    "a = list(filter(lambda x: int(x[3])>0, map(lambda x: x.split(), lst)))\n",
    "b = sorted(list(map(lambda x: [x[2], (int(x[0]) * int(x[1]) * dct[int(x[3])])], a)))\n",
    "print(b)\n",
    "\n",
    "m0 = max(list(map(lambda x: len(x[0]), b)))\n",
    "m1 = max(list(map(lambda x: len(str(x[1])), b)))\n",
    "\n",
    "print(*[i[0].ljust(m0, ' ') for i in b[:-1]]+[b[-1][0]])\n",
    "\n",
    "k = [(i[1], ' ' * (m1 - len(str(i[1])))) for i in b]\n",
    "k[-1] = (k[-1][0],)\n",
    "\n",
    "for j in k:  \n",
    "    print(*j, end='')"
   ]
  },
  {
   "cell_type": "code",
   "execution_count": 432,
   "metadata": {},
   "outputs": [
    {
     "data": {
      "text/plain": [
       "[1, 2, 4]"
      ]
     },
     "execution_count": 432,
     "metadata": {},
     "output_type": "execute_result"
    }
   ],
   "source": [
    "list(filter(lambda x: type(x) == int, [1, 2, 4, 2.0]))"
   ]
  },
  {
   "cell_type": "markdown",
   "metadata": {},
   "source": [
    "# 7.3 all, any"
   ]
  },
  {
   "cell_type": "code",
   "execution_count": 433,
   "metadata": {},
   "outputs": [
    {
     "name": "stdout",
     "output_type": "stream",
     "text": [
      "True\n"
     ]
    }
   ],
   "source": [
    "# Вам дан список кортежей. \n",
    "# Первый элемент кортежа представляет собой название юнита, второй его здоровье(hp). \n",
    "# Вам нужно создать функцию func, которая принимает позиционно целое число. \n",
    "# Функция должна вернуть True, если здоровье всех юнитов не менее целочисленного аргумента, иначе False.\n",
    "\n",
    "#вводные данные\n",
    "lst = [('тролль', 150), ('выдра-берсерк', 70), ('гнолл', 50), ('огр-танк', 350), ('паладин', 100)]\n",
    "\n",
    "\n",
    "#продолжите решение здесь\n",
    "\n",
    "def func(n):\n",
    "    return all(map(lambda x: x[1] >= n, lst))\n",
    "\n",
    "print(func(30))"
   ]
  },
  {
   "cell_type": "code",
   "execution_count": 434,
   "metadata": {},
   "outputs": [
    {
     "name": "stdout",
     "output_type": "stream",
     "text": [
      "True\n",
      "False\n"
     ]
    }
   ],
   "source": [
    "# На вход поступает строка, вам необходимо вывести True, \n",
    "# если если в ней встречается хотя бы одно слово заканчивающееся на \"завр\", иначе False.\n",
    "\n",
    "def func(s):\n",
    "    return any(map(lambda x: x.endswith('завр'), s.split()))\n",
    "\n",
    "s1 = 'говорят если динозавр летит низко над землей это к дождю ... метеоритному'\n",
    "print(func(s1))\n",
    "\n",
    "s1 = 'бесит когда после снегопада не можешь поехать на охоту на мамонтов потому что не можешь откопать своего бронтозавра'\n",
    "print(func(s1))"
   ]
  },
  {
   "cell_type": "code",
   "execution_count": 435,
   "metadata": {},
   "outputs": [
    {
     "data": {
      "text/plain": [
       "'Лалалей'"
      ]
     },
     "execution_count": 435,
     "metadata": {},
     "output_type": "execute_result"
    }
   ],
   "source": [
    "# Вам необходимо создать функцию func, которая принимает кортеж с различными элементами внутри. \n",
    "# Если все элементы являются целочисленными, то возвращается \"Хоп\", \n",
    "# если есть хотя бы одно вещественное число то \"Хей\", \n",
    "# в остальных случаях \"Лалалей\".\n",
    "\n",
    "def func(*args):\n",
    "    if all(map(lambda x: type(x) == int, args)):\n",
    "        return 'Хоп'\n",
    "    elif any(map(lambda x: type(x) == float, args)):\n",
    "        return 'Хей'\n",
    "    return 'Лалалей'\n",
    "\n",
    "func(1, 2, 4)\n",
    "func(1, 2, 4, 2.0)\n",
    "func(1, 2, 4, 'asd')"
   ]
  },
  {
   "cell_type": "code",
   "execution_count": 436,
   "metadata": {},
   "outputs": [
    {
     "name": "stdout",
     "output_type": "stream",
     "text": [
      "[True, True, True, False, False]\n",
      "False\n"
     ]
    }
   ],
   "source": [
    "# Известно, что для приготовления одного зелья необходимо:\n",
    "\n",
    "# серебро            - 1 шт\n",
    "# слеза гузлика      - 2 шт\n",
    "# бивень лунтика     - 1 шт\n",
    "# выделения кряквы   - 1 шт\n",
    "# сухарики           - 3 шт\n",
    "# Когда есть точное соответствие рецептуре по количеству и ингредиентам, то зелье прекрасно. \n",
    "# Иначе оно считается бракованным. Известно, что с завода зелья транспортируют в фуре, \n",
    "# а сами зелья фасуются в ящики, количество внутри не важно.\n",
    "\n",
    "# Вам необходимо создать функцию func, которая принимает список вложенных списков, \n",
    "# внутри которых кортежи из 2ух элементов, первый - название ингредиента, второй количество(см. тесты). \n",
    "# Основной список - ящик, вложенный - зелье, кортежи - компоненты и их количество. \n",
    "# Если все зелья сделаны по рецептуре возвращается True, иначе False.\n",
    "\n",
    "def func(boxes):\n",
    "    d = [('серебро', 1), ('слеза гузлика', 2), ('бивень лунтика', 1), ('выделения кряквы', 1), ('сухарики', 3)]\n",
    "    print([all([i in d for i in box]) for box in boxes])\n",
    "    return all([all([i in d for i in box]) for box in boxes])\n",
    "\n",
    "boxes = [\n",
    "    [\n",
    "      ('серебро', 1), ('слеза гузлика', 2), ('бивень лунтика', 1),\n",
    "      ('выделения кряквы', 1), ('сухарики', 3)\n",
    "    ],\n",
    "    [\n",
    "       ('слеза гузлика', 2), ('серебро', 1), ('бивень лунтика', 1),\n",
    "       ('выделения кряквы', 1), ('сухарики', 3)\n",
    "    ],\n",
    "    [\n",
    "       ('серебро', 1), ('бивень лунтика', 1),\n",
    "       ('выделения кряквы', 1), ('сухарики', 3)\n",
    "    ],\n",
    "    [\n",
    "       ('серебро', 1), ('слеза гузлика', 3), ('бивень лунтика', 1),\n",
    "       ('выделения кряквы', 1), ('сухарики', 3)\n",
    "    ],\n",
    "    [\n",
    "       ('серебро', 1), ('слеза гузлика', 2), ('бивень лунтика', 1),\n",
    "       ('выделения кряквы', 1), ('сухарики', 3), ('дыхание петровича', 1)\n",
    "    ]\n",
    "]\n",
    "\n",
    "print(func(boxes))\n"
   ]
  },
  {
   "cell_type": "markdown",
   "metadata": {},
   "source": [
    "# 7.4 eval, exec"
   ]
  },
  {
   "cell_type": "code",
   "execution_count": 437,
   "metadata": {},
   "outputs": [
    {
     "name": "stdout",
     "output_type": "stream",
     "text": [
      "True\n",
      "False\n",
      "True\n"
     ]
    }
   ],
   "source": [
    "# Необходимо создать функцию func, которая принимает список lst и строку s. \n",
    "# Список может содержать в себе различные элементы, строка представляет собой код. \n",
    "# Функция должна вернуть True, если при преобразовании этой строки внутри логики\n",
    "# функции в реальный код она не окажет никакого влияния на список, иначе False.\n",
    "\n",
    "def func(lst, s):\n",
    "    lst_0 = lst.copy()\n",
    "    try:\n",
    "        eval(s)\n",
    "    except Exception:\n",
    "        pass\n",
    "    return lst_0 == lst\n",
    "\n",
    "print(func([1, 2, 3], '1 + 1'))\n",
    "print(func([5, 3, 3], 'lst.append(5)'))\n",
    "print(func([1, 2, 3], 'min(7, 3, 5)\\nlst.sort()'))"
   ]
  },
  {
   "cell_type": "code",
   "execution_count": 438,
   "metadata": {},
   "outputs": [
    {
     "name": "stdout",
     "output_type": "stream",
     "text": [
      "3\n"
     ]
    }
   ],
   "source": [
    "# Нужно создать калькулятор. \n",
    "# Т.е. на вход будет заходить строка, которая представляет собой какое-то арифметическое выражение. \n",
    "# В нем могут быть только цифры, пробелы и знаки арифметических операций(+, -, *, /, **).\n",
    "# Если в строке есть отклонения от условия, то должно вывестись 'Некорректные данные'. \n",
    "# Иначе сам результат арифметической операции.\n",
    "\n",
    "# P.S.: при решении данной задачи мне помогла обработка SyntaxError, как ни странно\n",
    "# она работает при отлавливании в функциях eval и exec.\n",
    "\n",
    "try:\n",
    "    # s = input()\n",
    "    s = '2+5 - 4'\n",
    "    if '[' not in s:\n",
    "        print(eval(s))\n",
    "    else:\n",
    "        raise ValueError('Некорректные данные')\n",
    "except Exception:\n",
    "    print('Некорректные данные')"
   ]
  },
  {
   "cell_type": "code",
   "execution_count": 439,
   "metadata": {},
   "outputs": [
    {
     "name": "stdout",
     "output_type": "stream",
     "text": [
      "10\n",
      "\n",
      "Вчера кстати на день моложе был.\n"
     ]
    }
   ],
   "source": [
    "# Вам необходимо создать функцию func, которая принимает многострочный текст, \n",
    "# фактически это рабочий код в виде строки, но зашифрованный по принципу сдвига каждого символа в строке \n",
    "# на +1 относительно его порядкового номера в таблице ASCII. \n",
    "# Функция должна дешифровать данную строку и запустить ее как рабочий код.\n",
    "\n",
    "def func(line):\n",
    "    return exec(''.join([chr(ord(i) - 1) for i in line]))\n",
    "\n",
    "s = 'qsjou))mbnceb!b-!c;!b!,!c*)6-!6**'\n",
    "func(s)\n",
    "\n",
    "print()\n",
    "\n",
    "s = 'efg!egh)*;\u000b!!!!qsjou)(Гшжсб!лтубуй!об!ежоэ!нпмпзж!вьм/(*\u000begh)*'\n",
    "func(s)"
   ]
  },
  {
   "cell_type": "code",
   "execution_count": 440,
   "metadata": {},
   "outputs": [
    {
     "name": "stdout",
     "output_type": "stream",
     "text": [
      "[1, 2, 3]\n",
      "\n",
      "Вредоносный код\n"
     ]
    }
   ],
   "source": [
    "# Необходимо создать функцию func, которая принимает строку, \n",
    "# ожидается что данная строка представляет собой какую-нибудь коллекцию(обрамленную скобками) в виде строки, \n",
    "# если это так, то функция преобразует эту строку в коллекцию и вернет ее. \n",
    "# Иначе функция вернет строку \"Вредоносный код\".\n",
    "\n",
    "def func(line):\n",
    "    try:\n",
    "        x = eval(line)\n",
    "        if isinstance(x, list | dict | tuple):\n",
    "            return x\n",
    "    except SyntaxError:\n",
    "        return 'Вредоносный код'\n",
    "\n",
    "s = '[1, 2, 3]'\n",
    "print(func(s))\n",
    "\n",
    "print()\n",
    "\n",
    "s = 'Улюлю какой я злобный вирус!!!'\n",
    "print(func(s))"
   ]
  },
  {
   "cell_type": "code",
   "execution_count": null,
   "metadata": {},
   "outputs": [],
   "source": []
  }
 ],
 "metadata": {
  "kernelspec": {
   "display_name": "base",
   "language": "python",
   "name": "python3"
  },
  "language_info": {
   "codemirror_mode": {
    "name": "ipython",
    "version": 3
   },
   "file_extension": ".py",
   "mimetype": "text/x-python",
   "name": "python",
   "nbconvert_exporter": "python",
   "pygments_lexer": "ipython3",
   "version": "3.12.7"
  }
 },
 "nbformat": 4,
 "nbformat_minor": 2
}
