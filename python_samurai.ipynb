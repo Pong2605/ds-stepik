{
 "cells": [
  {
   "cell_type": "markdown",
   "metadata": {},
   "source": [
    "# 1.1 Базовая аннотация типов данных "
   ]
  },
  {
   "cell_type": "code",
   "execution_count": 1,
   "metadata": {},
   "outputs": [
    {
     "name": "stdout",
     "output_type": "stream",
     "text": [
      "asd\n",
      "{'n': <class 'int'>, 'return': <class 'int'>}\n",
      "{'n': <class 'int'>, 'return': None}\n"
     ]
    }
   ],
   "source": [
    "# Аннотация нужна понимания кода (облегчает чтение кода)\n",
    "\n",
    "x: int          # Аннотация используется лишь для указания типа переменной, но не запрещает присваивание иного типа\n",
    "x = 'asd'\n",
    "print(x)\n",
    "\n",
    "def func(n: int = 5) -> int:\n",
    "    return sum(range(1, n + 1))\n",
    "\n",
    "print(func.__annotations__)\n",
    "\n",
    "def func(n: int = 5) -> None:\n",
    "    print()\n",
    "\n",
    "print(func.__annotations__)"
   ]
  },
  {
   "cell_type": "code",
   "execution_count": 2,
   "metadata": {},
   "outputs": [
    {
     "name": "stdout",
     "output_type": "stream",
     "text": [
      "{'x': typing.Union[int, float], 'y': typing.Union[int, float], 'return': typing.Union[int, float]}\n"
     ]
    }
   ],
   "source": [
    "from typing import Union\n",
    "\n",
    "def func(x: Union[int, float], y: Union[int, float]) -> Union[int, float]:\n",
    "    return x + y\n",
    "\n",
    "print(func.__annotations__)"
   ]
  },
  {
   "cell_type": "code",
   "execution_count": 3,
   "metadata": {},
   "outputs": [
    {
     "name": "stdout",
     "output_type": "stream",
     "text": [
      "{'x': int | float, 'y': int | float, 'return': int | float}\n"
     ]
    }
   ],
   "source": [
    "# С версии 3.10:\n",
    "\n",
    "def func(x: int | float, y: int | float) -> int | float:\n",
    "    return x + y\n",
    "\n",
    "print(func.__annotations__)"
   ]
  },
  {
   "cell_type": "code",
   "execution_count": 4,
   "metadata": {},
   "outputs": [
    {
     "name": "stdout",
     "output_type": "stream",
     "text": [
      "{'x': <class 'list'>, 'y': <class 'list'>, 'return': typing.Optional[list]}\n",
      "{'x': <class 'list'>, 'y': <class 'list'>, 'return': list | None}\n"
     ]
    }
   ],
   "source": [
    "from typing import Optional\n",
    "\n",
    "def func(x: list, y: list) -> Optional[list]:\n",
    "    match x, y:\n",
    "        case list(), list():\n",
    "            return x + y\n",
    "    return None\n",
    "\n",
    "print(func.__annotations__)\n",
    "\n",
    "def func(x: list, y: list) -> list | None:\n",
    "    match x, y:\n",
    "        case list(), list():\n",
    "            return x + y\n",
    "    return None\n",
    "\n",
    "print(func.__annotations__)"
   ]
  },
  {
   "cell_type": "code",
   "execution_count": 5,
   "metadata": {},
   "outputs": [
    {
     "name": "stdout",
     "output_type": "stream",
     "text": [
      "[1, 2, 3, 4, '5']\n"
     ]
    }
   ],
   "source": [
    "from typing import Any\n",
    "\n",
    "def func(*args: Any) -> list:\n",
    "    return list(args)\n",
    "\n",
    "print(func(1, 2, 3, 4, '5'))"
   ]
  },
  {
   "cell_type": "code",
   "execution_count": 6,
   "metadata": {},
   "outputs": [],
   "source": [
    "# Если есть переменная, которую нельзя менять\n",
    "\n",
    "from typing import Final\n",
    "\n",
    "password: Final = 'qwer'"
   ]
  },
  {
   "cell_type": "markdown",
   "metadata": {},
   "source": [
    "# 2.1 Области видимости переменных"
   ]
  },
  {
   "cell_type": "code",
   "execution_count": 7,
   "metadata": {},
   "outputs": [
    {
     "name": "stdout",
     "output_type": "stream",
     "text": [
      "7\n"
     ]
    }
   ],
   "source": [
    "x = 5\n",
    "\n",
    "def func():\n",
    "    print(x + 2)\n",
    "\n",
    "func()"
   ]
  },
  {
   "cell_type": "code",
   "execution_count": 8,
   "metadata": {},
   "outputs": [
    {
     "name": "stdout",
     "output_type": "stream",
     "text": [
      "x_func_2 = 3\n",
      "x_func_1 = 2\n",
      "global x = 3\n"
     ]
    }
   ],
   "source": [
    "x = 1 # глобальная переменная\n",
    "\n",
    "def func_1():\n",
    "    x = 2 # локальная переменная для func_1\n",
    "\n",
    "    def func_2():\n",
    "        global x # использование переменной глобальной\n",
    "        x = 3 # локальная переменная для func_2\n",
    "        print('x_func_2 =', x)\n",
    "    func_2()\n",
    "    print('x_func_1 =', x)\n",
    "\n",
    "func_1()\n",
    "print('global x =', x)"
   ]
  },
  {
   "cell_type": "code",
   "execution_count": 9,
   "metadata": {},
   "outputs": [
    {
     "name": "stdout",
     "output_type": "stream",
     "text": [
      "x_func_2 = 3\n",
      "x_func_1 = 3\n",
      "global x = 1\n"
     ]
    }
   ],
   "source": [
    "x = 1\n",
    "\n",
    "def func_1():\n",
    "    x = 2\n",
    "\n",
    "    def func_2():\n",
    "        nonlocal x # использование переменной на уровень выше (переменной, принадлежащей области имен родительской функции)\n",
    "        x = 3\n",
    "        print('x_func_2 =', x)\n",
    "    func_2()\n",
    "    print('x_func_1 =', x)\n",
    "\n",
    "\n",
    "func_1()\n",
    "print('global x =', x)"
   ]
  },
  {
   "cell_type": "code",
   "execution_count": 10,
   "metadata": {},
   "outputs": [
    {
     "name": "stdout",
     "output_type": "stream",
     "text": [
      "Глобальная перменная создана из локальной области функции\n"
     ]
    }
   ],
   "source": [
    "def func():\n",
    "    global x\n",
    "    x = 'Глобальная перменная создана из локальной области функции'\n",
    "\n",
    "func()\n",
    "\n",
    "print(x)"
   ]
  },
  {
   "cell_type": "markdown",
   "metadata": {},
   "source": [
    "# 2.2 lambda-функции"
   ]
  },
  {
   "cell_type": "code",
   "execution_count": 11,
   "metadata": {},
   "outputs": [
    {
     "name": "stdout",
     "output_type": "stream",
     "text": [
      "15\n",
      "15\n"
     ]
    }
   ],
   "source": [
    "func = lambda x: x + 10\n",
    "\n",
    "print(func(5))\n",
    "\n",
    "func = (lambda x: x + 10)(5)\n",
    "\n",
    "print(func)"
   ]
  },
  {
   "cell_type": "code",
   "execution_count": 12,
   "metadata": {},
   "outputs": [
    {
     "name": "stdout",
     "output_type": "stream",
     "text": [
      "5\n"
     ]
    }
   ],
   "source": [
    "print((lambda: 5)())"
   ]
  },
  {
   "cell_type": "code",
   "execution_count": 13,
   "metadata": {},
   "outputs": [
    {
     "name": "stdout",
     "output_type": "stream",
     "text": [
      "18\n"
     ]
    }
   ],
   "source": [
    "# В lambda функции можно использовать моржовый оператор:\n",
    "\n",
    "z = lambda x: x + (y := 10)\n",
    "print(z(8))"
   ]
  },
  {
   "cell_type": "code",
   "execution_count": 14,
   "metadata": {},
   "outputs": [
    {
     "data": {
      "text/plain": [
       "9"
      ]
     },
     "execution_count": 14,
     "metadata": {},
     "output_type": "execute_result"
    }
   ],
   "source": [
    "f1 = lambda x, y, z: x + y + z\n",
    "\n",
    "f1(1, 3, 5)"
   ]
  },
  {
   "cell_type": "code",
   "execution_count": 15,
   "metadata": {},
   "outputs": [
    {
     "data": {
      "text/plain": [
       "12"
      ]
     },
     "execution_count": 15,
     "metadata": {},
     "output_type": "execute_result"
    }
   ],
   "source": [
    "f2 = lambda x, y, z=3: x + y + z\n",
    "\n",
    "f2(4, 5)"
   ]
  },
  {
   "cell_type": "code",
   "execution_count": 16,
   "metadata": {},
   "outputs": [
    {
     "name": "stdout",
     "output_type": "stream",
     "text": [
      "14\n",
      "8\n",
      "12\n"
     ]
    }
   ],
   "source": [
    "f3 = lambda *args: sum(args)\n",
    "\n",
    "print(f3(2, 5, 7))\n",
    "\n",
    "arr = [3, 1, 4]\n",
    "\n",
    "print(f3(*arr))\n",
    "\n",
    "tpl = (3, 5, 4)\n",
    "\n",
    "print(f3(*tpl))"
   ]
  },
  {
   "cell_type": "code",
   "execution_count": 17,
   "metadata": {},
   "outputs": [
    {
     "data": {
      "text/plain": [
       "27"
      ]
     },
     "execution_count": 17,
     "metadata": {},
     "output_type": "execute_result"
    }
   ],
   "source": [
    "f4 = lambda **kwargs: sum(kwargs.values())\n",
    "\n",
    "d = {'a': 12, 'b': 15}\n",
    "\n",
    "f4(**d)"
   ]
  },
  {
   "cell_type": "code",
   "execution_count": 18,
   "metadata": {},
   "outputs": [
    {
     "name": "stdout",
     "output_type": "stream",
     "text": [
      "True\n",
      "False\n"
     ]
    }
   ],
   "source": [
    "# Надо создать lambda-функцию, которая принимает целое число и определяет является ли оно кратным 13 или 4. \n",
    "# Если да, то возвращается True, иначе False.\n",
    "\n",
    "func = lambda x: x % 13 == 0 or x % 4 == 0\n",
    "print(func(4))\n",
    "\n",
    "func = lambda x: any(not x % i for i in (4, 13))\n",
    "print(func(5))"
   ]
  },
  {
   "cell_type": "code",
   "execution_count": 19,
   "metadata": {},
   "outputs": [
    {
     "data": {
      "text/plain": [
       "33.0"
      ]
     },
     "execution_count": 19,
     "metadata": {},
     "output_type": "execute_result"
    }
   ],
   "source": [
    "# На вход подается произвольное количество целых чисел в одну строку через пробел. \n",
    "# Эти числа являются параметрами lambda-функции, которая возвращает их среднее арифметическое. \n",
    "# Результат вывести на экран.\n",
    "\n",
    "func = lambda s: sum(x := list(map(int, s.split()))) / len(x)\n",
    "\n",
    "s = '4 23 67 4 89 11'\n",
    "\n",
    "func(s)"
   ]
  },
  {
   "cell_type": "code",
   "execution_count": 20,
   "metadata": {},
   "outputs": [
    {
     "data": {
      "text/plain": [
       "True"
      ]
     },
     "execution_count": 20,
     "metadata": {},
     "output_type": "execute_result"
    }
   ],
   "source": [
    "# Создать lambda-функцию, которая, принимает в себя 1 символ и определяет, игнорируя регистр, \n",
    "# является ли он буквой латинского алфавита(True/False). \n",
    "# Символ подается с консоли, результат работы функции вывести в консоль.\n",
    "\n",
    "func = lambda s: ord(s.lower()) in range(ord('a'), ord('z') + 1)\n",
    "s = 'z'\n",
    "\n",
    "func(s)"
   ]
  },
  {
   "cell_type": "code",
   "execution_count": 21,
   "metadata": {},
   "outputs": [
    {
     "ename": "AttributeError",
     "evalue": "'int' object has no attribute 'lower'",
     "output_type": "error",
     "traceback": [
      "\u001b[1;31m---------------------------------------------------------------------------\u001b[0m",
      "\u001b[1;31mAttributeError\u001b[0m                            Traceback (most recent call last)",
      "Cell \u001b[1;32mIn[21], line 10\u001b[0m\n\u001b[0;32m      1\u001b[0m \u001b[38;5;66;03m# Минимальное количество купюр\u001b[39;00m\n\u001b[0;32m      2\u001b[0m \u001b[38;5;66;03m# Нужно создать lambda-функцию, которая принимает какое-то большое целое число(сумму, которую нужно отдать) \u001b[39;00m\n\u001b[0;32m      3\u001b[0m \u001b[38;5;66;03m# и возвращает общее количество купюр/монет которыми мы должны сдать сдачу по принципу: \u001b[39;00m\n\u001b[0;32m      4\u001b[0m \u001b[38;5;66;03m# рассчитаться наиболее крупным номиналом - отдать наименьшее количество купюр/монет. \u001b[39;00m\n\u001b[0;32m      5\u001b[0m \u001b[38;5;66;03m# Будем считать, что у нас есть неограниченное количество купюр/монет номиналом (1000, 500, 100, 50, 10, 5). \u001b[39;00m\n\u001b[0;32m      6\u001b[0m \u001b[38;5;66;03m# На вход подается сумма, которая примет наша lambda-функция, результат функции вывести в консоль.\u001b[39;00m\n\u001b[0;32m      8\u001b[0m f \u001b[38;5;241m=\u001b[39m \u001b[38;5;28;01mlambda\u001b[39;00m x: x \u001b[38;5;241m/\u001b[39m\u001b[38;5;241m/\u001b[39m \u001b[38;5;241m1000\u001b[39m \u001b[38;5;241m+\u001b[39m x \u001b[38;5;241m%\u001b[39m \u001b[38;5;241m1000\u001b[39m \u001b[38;5;241m/\u001b[39m\u001b[38;5;241m/\u001b[39m \u001b[38;5;241m500\u001b[39m \u001b[38;5;241m+\u001b[39m x \u001b[38;5;241m%\u001b[39m \u001b[38;5;241m500\u001b[39m \u001b[38;5;241m/\u001b[39m\u001b[38;5;241m/\u001b[39m \u001b[38;5;241m100\u001b[39m \u001b[38;5;241m+\u001b[39m x \u001b[38;5;241m%\u001b[39m \u001b[38;5;241m100\u001b[39m \u001b[38;5;241m/\u001b[39m\u001b[38;5;241m/\u001b[39m \u001b[38;5;241m50\u001b[39m \u001b[38;5;241m+\u001b[39m x \u001b[38;5;241m%\u001b[39m \u001b[38;5;241m50\u001b[39m \u001b[38;5;241m/\u001b[39m\u001b[38;5;241m/\u001b[39m \u001b[38;5;241m10\u001b[39m \u001b[38;5;241m+\u001b[39m x \u001b[38;5;241m%\u001b[39m \u001b[38;5;241m10\u001b[39m \u001b[38;5;241m/\u001b[39m\u001b[38;5;241m/\u001b[39m \u001b[38;5;241m5\u001b[39m\n\u001b[1;32m---> 10\u001b[0m \u001b[38;5;28mprint\u001b[39m(func(\u001b[38;5;241m2035\u001b[39m))\n",
      "Cell \u001b[1;32mIn[20], line 5\u001b[0m, in \u001b[0;36m<lambda>\u001b[1;34m(s)\u001b[0m\n\u001b[0;32m      1\u001b[0m \u001b[38;5;66;03m# Создать lambda-функцию, которая, принимает в себя 1 символ и определяет, игнорируя регистр, \u001b[39;00m\n\u001b[0;32m      2\u001b[0m \u001b[38;5;66;03m# является ли он буквой латинского алфавита(True/False). \u001b[39;00m\n\u001b[0;32m      3\u001b[0m \u001b[38;5;66;03m# Символ подается с консоли, результат работы функции вывести в консоль.\u001b[39;00m\n\u001b[1;32m----> 5\u001b[0m func \u001b[38;5;241m=\u001b[39m \u001b[38;5;28;01mlambda\u001b[39;00m s: \u001b[38;5;28mord\u001b[39m(s\u001b[38;5;241m.\u001b[39mlower()) \u001b[38;5;129;01min\u001b[39;00m \u001b[38;5;28mrange\u001b[39m(\u001b[38;5;28mord\u001b[39m(\u001b[38;5;124m'\u001b[39m\u001b[38;5;124ma\u001b[39m\u001b[38;5;124m'\u001b[39m), \u001b[38;5;28mord\u001b[39m(\u001b[38;5;124m'\u001b[39m\u001b[38;5;124mz\u001b[39m\u001b[38;5;124m'\u001b[39m) \u001b[38;5;241m+\u001b[39m \u001b[38;5;241m1\u001b[39m)\n\u001b[0;32m      6\u001b[0m s \u001b[38;5;241m=\u001b[39m \u001b[38;5;124m'\u001b[39m\u001b[38;5;124mz\u001b[39m\u001b[38;5;124m'\u001b[39m\n\u001b[0;32m      8\u001b[0m func(s)\n",
      "\u001b[1;31mAttributeError\u001b[0m: 'int' object has no attribute 'lower'"
     ]
    }
   ],
   "source": [
    "# Минимальное количество купюр\n",
    "# Нужно создать lambda-функцию, которая принимает какое-то большое целое число(сумму, которую нужно отдать) \n",
    "# и возвращает общее количество купюр/монет которыми мы должны сдать сдачу по принципу: \n",
    "# рассчитаться наиболее крупным номиналом - отдать наименьшее количество купюр/монет. \n",
    "# Будем считать, что у нас есть неограниченное количество купюр/монет номиналом (1000, 500, 100, 50, 10, 5). \n",
    "# На вход подается сумма, которая примет наша lambda-функция, результат функции вывести в консоль.\n",
    "\n",
    "f = lambda x: x // 1000 + x % 1000 // 500 + x % 500 // 100 + x % 100 // 50 + x % 50 // 10 + x % 10 // 5\n",
    "\n",
    "print(func(2035))"
   ]
  },
  {
   "cell_type": "code",
   "execution_count": 112,
   "metadata": {},
   "outputs": [
    {
     "name": "stdout",
     "output_type": "stream",
     "text": [
      "6\n"
     ]
    }
   ],
   "source": [
    "def qwer(n):\n",
    "    c = [1000, 500, 100, 50, 10, 5]\n",
    "    r = 0\n",
    "    for i in c:\n",
    "        r += n // i\n",
    "        n %= i\n",
    "    return r\n",
    "func = lambda n: qwer(n)\n",
    "\n",
    "print(func(2035))"
   ]
  },
  {
   "cell_type": "code",
   "execution_count": 113,
   "metadata": {},
   "outputs": [
    {
     "name": "stdout",
     "output_type": "stream",
     "text": [
      "6\n"
     ]
    }
   ],
   "source": [
    "nominals =  (1000, 500, 100, 50, 10, 5)\n",
    "\n",
    "f = lambda x, i: x // 5 if i == len(nominals) - 1 else x // nominals[i] + f(x % nominals[i], i + 1)\n",
    "\n",
    "print(f(2035, 0))"
   ]
  },
  {
   "cell_type": "markdown",
   "metadata": {},
   "source": [
    "# 3.6  Метод format"
   ]
  },
  {
   "cell_type": "code",
   "execution_count": 40,
   "metadata": {},
   "outputs": [
    {
     "name": "stdout",
     "output_type": "stream",
     "text": [
      "1_000_000\n",
      "+1_000_000\n",
      "-1_000_000\n",
      "+1_000_000\n",
      "+1.000.000\n"
     ]
    }
   ],
   "source": [
    "# Разделители в числе\n",
    "\n",
    "x = 1000000\n",
    "print(f'{x:_}')\n",
    "\n",
    "x = 1000000\n",
    "print(f'{x:+_}')\n",
    "\n",
    "x = -1000000\n",
    "print(f'{x:+_}')\n",
    "\n",
    "x = 1000000\n",
    "print('{0:+_}'.format(x))\n",
    "\n",
    "x = 1000000\n",
    "print('{0:+_}'.format(x).replace('_', '.'))"
   ]
  },
  {
   "cell_type": "code",
   "execution_count": 41,
   "metadata": {},
   "outputs": [
    {
     "name": "stdout",
     "output_type": "stream",
     "text": [
      "Если перевернуть слово \"12345\", получится \"54321\".\n"
     ]
    }
   ],
   "source": [
    "print('Если перевернуть слово \"{0}\", получится \"{1}\".'.format(s := input(), s[::-1]))"
   ]
  },
  {
   "cell_type": "code",
   "execution_count": 37,
   "metadata": {},
   "outputs": [
    {
     "name": "stdout",
     "output_type": "stream",
     "text": [
      "*??????пирожочек???????*\n",
      "*?????????????пирожочек*\n",
      "*пирожочек?????????????*\n",
      "\n",
      "*??????пирожочек???????*\n",
      "*?????????????пирожочек*\n",
      "*пирожочек?????????????*\n"
     ]
    }
   ],
   "source": [
    "# Выравнивание текста\n",
    "\n",
    "s = 'пирожочек'\n",
    "\n",
    "print('*' + s.center(20, '?') + '*')\n",
    "print('*' + s.rjust(20, '?') + '*')\n",
    "print('*' + s.ljust(20, '?') + '*')\n",
    "\n",
    "print()\n",
    "\n",
    "print(f'*{s:?^20s}*')\n",
    "print(f'*{s:?>20s}*')\n",
    "print(f'*{s:?<20s}*')"
   ]
  },
  {
   "cell_type": "markdown",
   "metadata": {},
   "source": [
    "# 4.1 Введение в списки"
   ]
  },
  {
   "cell_type": "code",
   "execution_count": null,
   "metadata": {},
   "outputs": [
    {
     "data": {
      "text/plain": [
       "['Антонова', 'Елисеева', 'Орлова']"
      ]
     },
     "metadata": {},
     "output_type": "display_data"
    }
   ],
   "source": [
    "friends = ['Орешкина', 'Елисеева', 'Орлова', 'Исаева']\n",
    "\n",
    "# Орешкина вышла замуж и сменила фамилию на 'Антонова', а 'Исаева' больше с ними не дружит.\n",
    "# Изменить список, вывести на экран.\n",
    "\n",
    "friends[friends.index('Орешкина')] = 'Антонова'\n",
    "friends.remove('Исаева')\n",
    "\n",
    "friends"
   ]
  },
  {
   "cell_type": "code",
   "execution_count": 53,
   "metadata": {},
   "outputs": [
    {
     "name": "stdout",
     "output_type": "stream",
     "text": [
      "бублик бабка\n"
     ]
    }
   ],
   "source": [
    "# На вход поступает список слов в одну строку через пробел. Необходимо вывести слова из списка первая буква которого ближе к началу алфавита.\n",
    "\n",
    "s = 'бублик устрица покер бабка'\n",
    "\n",
    "arr = s.split()\n",
    "\n",
    "print(*[word for word in arr if word.startswith(chr(min((map(lambda x: ord(x[0]), arr)))))])\n"
   ]
  },
  {
   "cell_type": "markdown",
   "metadata": {},
   "source": [
    "# 4.2 Срезы списков, групповое присваивание"
   ]
  },
  {
   "cell_type": "code",
   "execution_count": 3,
   "metadata": {},
   "outputs": [
    {
     "data": {
      "text/plain": [
       "['морковка', 'колбаска', 'бананы', 'бекон', 'крыжовник', 'лягушачьи лапки']"
      ]
     },
     "execution_count": 3,
     "metadata": {},
     "output_type": "execute_result"
    }
   ],
   "source": [
    "# Заменить каждый второй продукт на свой, начиная со второго элемента.\n",
    "\n",
    "lst = ['морковка', 'петрушка', 'бананы', 'укроп', 'крыжовник', 'папоротник'] \n",
    "\n",
    "rep = ['колбаска', 'бекон', 'лягушачьи лапки']\n",
    "\n",
    "lst[1::2] = rep\n",
    "lst"
   ]
  },
  {
   "cell_type": "code",
   "execution_count": 10,
   "metadata": {},
   "outputs": [
    {
     "data": {
      "text/plain": [
       "[0, 1, 4, 5, 8, 9]"
      ]
     },
     "execution_count": 10,
     "metadata": {},
     "output_type": "execute_result"
    }
   ],
   "source": [
    "# Дан список от 0 до 10 включительно. Необходимо на основе него составить новый список по правилу:\n",
    "# забираем первые 2 элемента, 2 пропускаем, забираем 2 элемента и тд.\n",
    "\n",
    "lst = [0, 1, 2, 3, 4, 5, 6, 7, 8, 9, 10]\n",
    "\n",
    "sorted(lst[::4] + lst[1::4])"
   ]
  },
  {
   "cell_type": "markdown",
   "metadata": {},
   "source": [
    "# 4.3 Методы списков"
   ]
  },
  {
   "cell_type": "code",
   "execution_count": 35,
   "metadata": {},
   "outputs": [
    {
     "name": "stdout",
     "output_type": "stream",
     "text": [
      "['a', 'c', 'd', 'e', 'g', 'h', 'i', 'j']\n"
     ]
    },
    {
     "data": {
      "text/plain": [
       "['a', 'b', 'c', 'd', 'e', 'f', 'g', 'h', 'i', 'j']"
      ]
     },
     "execution_count": 35,
     "metadata": {},
     "output_type": "execute_result"
    }
   ],
   "source": [
    "# Отсортировать по алфавиту и вставить недостающие буквы\n",
    "\n",
    "lst = ['g', 'e', 'j', 'h', 'i', 'a', 'd', 'c']\n",
    "lst.sort()\n",
    "\n",
    "print(lst)\n",
    "\n",
    "for i in range(ord(lst[0]), ord(lst[-1]) + 1):\n",
    "    if i not in list(map(ord, lst)):\n",
    "        lst.insert(lst.index(chr(i - 1)) + 1, chr(i))\n",
    "\n",
    "print(lst)"
   ]
  },
  {
   "cell_type": "code",
   "execution_count": 47,
   "metadata": {},
   "outputs": [
    {
     "name": "stdout",
     "output_type": "stream",
     "text": [
      "[45, 8, 3, -7, 1, 34, 0]\n"
     ]
    }
   ],
   "source": [
    "# Поменять местами максимум и минимум\n",
    "\n",
    "s = '-7 8 3 45 1 34 0'\n",
    "\n",
    "arr = list(map(int, s.split()))\n",
    "\n",
    "mn_ind = arr.index(min(arr))\n",
    "mx_ind = arr.index(max(arr))\n",
    "\n",
    "arr[mx_ind], arr[mn_ind] = arr[mn_ind], arr[mx_ind]\n",
    "\n",
    "print(arr)"
   ]
  },
  {
   "cell_type": "markdown",
   "metadata": {},
   "source": [
    "# 3.6 Оператор Switch (match-case)"
   ]
  },
  {
   "cell_type": "code",
   "execution_count": 16,
   "metadata": {},
   "outputs": [
    {
     "name": "stdout",
     "output_type": "stream",
     "text": [
      "Ты можешь стать Data Scientist-ом\n",
      "Ты можешь стать Blockchain разработчиком\n",
      "Ты можешь стать мобильным разработчиком\n"
     ]
    }
   ],
   "source": [
    "lang = \"Python\"\n",
    "def return_lang(lang):\n",
    "    match lang:\n",
    "        case \"JavaScript\":\n",
    "            return(\"Ты можешь стать фронтенд разработчиком\")\n",
    "\n",
    "        case \"Python\":\n",
    "            return(\"Ты можешь стать Data Scientist-ом\")\n",
    "\n",
    "        case \"PHP\":\n",
    "            return(\"Ты можешь стать бекенд разработчиком\")\n",
    "\n",
    "        case \"Solidity\":\n",
    "            return(\"Ты можешь стать Blockchain разработчиком\")\n",
    "\n",
    "        case \"Java\":\n",
    "            return(\"Ты можешь стать мобильным разработчиком\")\n",
    "            \n",
    "        case  _:\n",
    "            return(\"Язык не важен, главное уметь решать задачи)\")\n",
    "\n",
    "print(*[return_lang(lang) for lang in (\"Python\", \"Solidity\", \"Java\")], sep='\\n')"
   ]
  },
  {
   "cell_type": "markdown",
   "metadata": {},
   "source": [
    "# iter + zip"
   ]
  },
  {
   "cell_type": "code",
   "execution_count": 8,
   "metadata": {},
   "outputs": [
    {
     "data": {
      "text/plain": [
       "[(1, 2, 3), (4, 5, 6), (7, 8, 9)]"
      ]
     },
     "execution_count": 8,
     "metadata": {},
     "output_type": "execute_result"
    }
   ],
   "source": [
    "# Превращение плоского списка чисел в матрицу zip(*[iter(s)] * n)\n",
    "lst = [1, 2, 3, 4, 5, 6, 7, 8, 9]\n",
    "list(zip(*[iter(lst)] * 3))"
   ]
  },
  {
   "cell_type": "code",
   "execution_count": 16,
   "metadata": {},
   "outputs": [
    {
     "data": {
      "text/plain": [
       "[(1, 2), (3, 4), (5, 6), (7, 8)]"
      ]
     },
     "execution_count": 16,
     "metadata": {},
     "output_type": "execute_result"
    }
   ],
   "source": [
    "list(zip(*[iter(lst)] * 2))"
   ]
  },
  {
   "cell_type": "code",
   "execution_count": 18,
   "metadata": {},
   "outputs": [
    {
     "name": "stdout",
     "output_type": "stream",
     "text": [
      "<list_iterator object at 0x0000023A83321600>\n",
      "<class 'list_iterator'>\n",
      "1 2 3 4 5 6 7 8 9\n",
      "[1, 2, 3, 4, 5, 6, 7, 8, 9]\n",
      "[(1, 2, 3), (4, 5, 6), (7, 8, 9)]\n",
      "1\n"
     ]
    }
   ],
   "source": [
    "# --------------------------------------------------------------\n",
    "# Анализ итератора:\n",
    "L = [1, 2, 3, 4, 5, 6, 7, 8, 9]\n",
    "it = iter(L);  # Создаем итератор 'it' - объект (процедура) с функцией сканирования элементов списка L)\n",
    "\n",
    "print(it);  # Адрес итератора в памяти\n",
    "# <list_iterator object at 0x000001E8289326B0>\n",
    "\n",
    "print(type(it));  # Проверка типа - класс \"итератор\"\n",
    "# <class 'list_iterator'>\n",
    "\n",
    "print(*it);  # Выводим данные объекта 'it' через указатели на элементы (* - указатель, в котором хранится к.л. адрес)\n",
    "# 1 2 3 4 5 6 7 8 9\n",
    "\n",
    "lst = [*iter(L)];  # Используем генератор '[]' для преобразования данных 'it' в тип list (список)\n",
    "print(lst)\n",
    "[1, 2, 3, 4, 5, 6, 7, 8, 9]\n",
    "\n",
    "# Зипуем:\n",
    "n=3\n",
    "zp = list(zip(*[iter(L)] * n));  # Передаем итератору  'it' одновременно n-указателей (адресов) объекта\n",
    "print(zp)\n",
    "# [(1, 2, 3), (4, 5, 6), (7, 8, 9)]\n",
    "# --------------------------------------------------------------\n",
    "# Для инфо: итератор имеет метод next() - взять следующий элемент (используется в ручных циклах)\n",
    "# Например:\n",
    "it = iter(L)\n",
    "el = it.__next__();  # получаем следующий элемент (сначала первый в списке)\n",
    "print(el);  # Проверим\n",
    "# 1\n",
    "# --------------------------------------------------------------"
   ]
  },
  {
   "cell_type": "markdown",
   "metadata": {},
   "source": [
    "# 4.2 Работа с текстовыми файлами"
   ]
  },
  {
   "cell_type": "code",
   "execution_count": 50,
   "metadata": {},
   "outputs": [
    {
     "name": "stdout",
     "output_type": "stream",
     "text": [
      "Which of the following \n",
      "23\n",
      "\n",
      "functions do you use to write data in the binary format?\n",
      "Python provides a wide range of built-in functions for file handling. It makes it really easy to create, update, read, and delete files.\n",
      "Open a File\n",
      "Remember! While specifying the exact path\n",
      "для указания внезапной остановки повествования;\n",
      "Иногда среднее тире называют коротким тире\n",
      "\n",
      "Which of the following functions \n",
      "do you use to write data in the binary format?\n",
      "\n"
     ]
    }
   ],
   "source": [
    "x = open('data/lines.txt', 'r', encoding='utf-8')\n",
    "\n",
    "print(x.read(23)) # считываем 23 байта\n",
    "print(x.tell())\n",
    "print()\n",
    "print(x.read())   # считываем оставшиеся символы\n",
    "x.seek(0)         # переход в начало\n",
    "print(x.read(33)) # считываем 33 байта\n",
    "print(x.readline())         \n",
    "x.seek(0, 2)      # переход в конец\n",
    "\n",
    "x.close()"
   ]
  },
  {
   "cell_type": "code",
   "execution_count": 51,
   "metadata": {},
   "outputs": [
    {
     "name": "stdout",
     "output_type": "stream",
     "text": [
      "1) Which of the following functions do you use to write data in the binary format?\n",
      "2) Python provides a wide range of built-in functions for file handling. It makes it really easy to create, update, read, and delete files.\n",
      "3) Open a File\n",
      "4) Remember! While specifying the exact path\n",
      "5) для указания внезапной остановки повествования;\n",
      "6) Иногда среднее тире называют коротким тире\n",
      "\n"
     ]
    }
   ],
   "source": [
    "def func(file):\n",
    "    with open('data/lines2.txt', 'w', encoding='utf-8') as out, \\\n",
    "        open(file, 'r', encoding='utf-8') as f:\n",
    "        lines = f.readlines()\n",
    "        out.writelines([f'{i+1}) {line}' for i, line in enumerate(lines)])\n",
    "\n",
    "func('data/lines.txt')\n",
    "\n",
    "with open('data/lines2.txt', 'r', encoding='utf-8') as f:\n",
    "        print(f.read())"
   ]
  },
  {
   "cell_type": "code",
   "execution_count": 52,
   "metadata": {},
   "outputs": [],
   "source": [
    "# Создайте вручную файл class_scores.txt с содержимым:\n",
    "\n",
    "# Чубака 65\n",
    "# Немезисов 85\n",
    "# Патрик 95\n",
    "# Зергов 94\n",
    "# Холодцова 80\n",
    "# Улюлюкина 50\n",
    "# Хруст 30\n",
    "# Геннадьевна 87\n",
    "\n",
    "# Файл представляет собой список фамилий  с количеством баллов за тест. \n",
    "# Вам необходимо создать функцию func без параметров, которая считывает данный файл и создает новый new_scores.txt. \n",
    "# В котором к каждому результату добавляется дополнительные 10 баллов, \n",
    "# в том случае если сумма не превысит 100 баллов, \n",
    "# иначе количество баллов остается прежним. Функцию необходимо только объявить.\n",
    "\n",
    "def func():\n",
    "    with open('data/class_scores1.txt', 'r', encoding='utf-8') as file, \\\n",
    "        open('data/new_scores1.txt', 'w', encoding='utf-8') as out:\n",
    "        for line in file:\n",
    "            names, scores = map(lambda x: x.strip(), line.split())\n",
    "            print(names, (int(scores), int(scores) + 10)[int(scores) + 10 <= 100], file=out)\n",
    "\n",
    "func()"
   ]
  },
  {
   "cell_type": "code",
   "execution_count": 53,
   "metadata": {},
   "outputs": [],
   "source": [
    "# Напишите функцию func, которая принимает латинскую букву в нижнем регистре. \n",
    "# Данная функция создает файл text_d.txt, если аргументом была буква \"d\", т.е. имя файла зависит от принимаемой функцией буквы. \n",
    "# Также содержимое файла формируется по принципу, указанному в примере:\n",
    "\n",
    "# func(\"d\")\n",
    "# ---------------------------------\n",
    "# File:\n",
    "# a\n",
    "# a b\n",
    "# a b c\n",
    "# a b c d\n",
    "\n",
    "\n",
    "\n",
    "def func(letter):\n",
    "    with open(f'data/text_{letter}.txt', 'w', encoding='utf-8') as out:\n",
    "        letters = []\n",
    "        for i in range(ord('a'), ord(letter) + 1):\n",
    "            letters.append(chr(i))\n",
    "            print(*letters, file=out)\n",
    "\n",
    "func('h')"
   ]
  },
  {
   "cell_type": "code",
   "execution_count": 54,
   "metadata": {},
   "outputs": [],
   "source": [
    "# Вам дан список с именами файлов в вашем проекте, в каждом из них будет написано 1 слово(не имеет значения какое). \n",
    "# Необходимо создать функцию func, которая примет данный список в качестве аргумента и поочередно содержимое каждого из них запишет в файл text.txt. Т\n",
    "# ак чтобы слова в формирующемся файле записывались каждое с новой строки. \n",
    "\n",
    "# Пример:\n",
    "\n",
    "# <слово из 1го файла>\n",
    "# <слово из 2го файла>\n",
    "# <слово из 3го файла>\n",
    "# <слово из 4го файла>\n",
    "# <слово из 5го файла>\n",
    "\n",
    "# продолжите решение здесь\n",
    "\n",
    "def func(arr):\n",
    "        with open(f'data/text_files.txt', 'w', encoding='utf-8') as out:\n",
    "            for n, name in enumerate(arr, start=1):\n",
    "                f = open(f'data/{name}', 'r', encoding='utf-8')\n",
    "                word = f.read().strip()\n",
    "                print(f'<{word} из {n}го файла>', file=out)\n",
    "                f.close()\n",
    "\n",
    "lst = ['t_1.txt', 't_2.txt', 't_3.txt']\n",
    "\n",
    "func(lst)"
   ]
  },
  {
   "cell_type": "code",
   "execution_count": 55,
   "metadata": {},
   "outputs": [],
   "source": [
    "lst = ['t_1.txt', 't_2.txt', 't_3.txt']\n",
    "\n",
    "def func(lst: list):\n",
    "    with open('data/text_files2.txt', 'w', encoding='utf-8') as f:\n",
    "        for name in lst:\n",
    "            with open(f'data/{name}', 'r', encoding='utf-8') as out:\n",
    "                print(out.read(), file=f)\n",
    "\n",
    "func(lst)"
   ]
  },
  {
   "cell_type": "markdown",
   "metadata": {},
   "source": [
    "# 4.3  Работа с файлами CSV"
   ]
  },
  {
   "cell_type": "code",
   "execution_count": 56,
   "metadata": {},
   "outputs": [
    {
     "name": "stdout",
     "output_type": "stream",
     "text": [
      "('секретный', 'qwerty123')\n"
     ]
    }
   ],
   "source": [
    "# Создайте в проекте файл task_2.csv с содержимым:\n",
    "\n",
    "# секретный-код-для\n",
    "# взлома-пентагона-qwerty123\n",
    "# Нужно создать функцию func без параметров, которая считывает в файле task_2.csv первое и последнее слово и возвращает их кортежем.\n",
    "\n",
    "import csv\n",
    "\n",
    "def func():\n",
    "        with open('data/task_2.csv', 'r', encoding='utf-8') as f:\n",
    "            words = []\n",
    "            for line in f.read().split():\n",
    "                words.extend(line.split('-'))\n",
    "        return words[0], words[-1]\n",
    "\n",
    "print(func())"
   ]
  },
  {
   "cell_type": "code",
   "execution_count": 57,
   "metadata": {},
   "outputs": [
    {
     "name": "stdout",
     "output_type": "stream",
     "text": [
      "('секретный', 'qwerty123')\n"
     ]
    }
   ],
   "source": [
    "import csv\n",
    "\n",
    "def func():\n",
    "    with open('data/task_2.csv', 'r', encoding = 'utf-8') as f:\n",
    "        words = list(csv.reader(f, delimiter = '-'))\n",
    "        return words[0][0], words[-1][-1]\n",
    "    \n",
    "print(func())"
   ]
  },
  {
   "cell_type": "code",
   "execution_count": 58,
   "metadata": {},
   "outputs": [
    {
     "name": "stdout",
     "output_type": "stream",
     "text": [
      "А это пожалуйста! 2\n",
      "А это пожалуйста! 4\n",
      "А это пожалуйста! 6\n",
      "А это пожалуйста! 8\n"
     ]
    }
   ],
   "source": [
    "# Создайте в вашем проекте файл task_1.csv с содержимым:\n",
    "\n",
    "# Не,надо,это,брать!,1\n",
    "# А,это,пожалуйста!,2\n",
    "# Не,надо,это,брать!,3\n",
    "# А,это,пожалуйста!,4\n",
    "# Не,надо,это,брать!,5\n",
    "# А,это,пожалуйста!,6\n",
    "# Не,надо,это,брать!,7\n",
    "# А,это,пожалуйста!,8\n",
    "# Нужно создать функцию func без параметров, которая считает только четные строки файла task_1.csv. \n",
    "# И выведет информацию на консоль в виде строк, в которых слова разделены пробелом.\n",
    "\n",
    "def func():\n",
    "    with open('data/task_1.csv', 'r', encoding = 'utf-8') as f:\n",
    "        lines = list(csv.reader(f))\n",
    "        for line in lines[1::2]:\n",
    "            print(' '.join(line))\n",
    "    \n",
    "func()"
   ]
  },
  {
   "cell_type": "code",
   "execution_count": 59,
   "metadata": {},
   "outputs": [
    {
     "name": "stdout",
     "output_type": "stream",
     "text": [
      "А это пожалуйста! 2\n",
      "А это пожалуйста! 4\n",
      "А это пожалуйста! 6\n",
      "А это пожалуйста! 8\n"
     ]
    }
   ],
   "source": [
    "def func():\n",
    "    with open('data/task_1.csv', 'r', encoding = 'utf-8') as f:\n",
    "        lines = list(csv.reader(f))\n",
    "        for i, row in enumerate(lines, start=1):\n",
    "            if i % 2 == 0:\n",
    "                print(' '.join(row))\n",
    "    \n",
    "func()"
   ]
  },
  {
   "cell_type": "code",
   "execution_count": 60,
   "metadata": {},
   "outputs": [
    {
     "name": "stdout",
     "output_type": "stream",
     "text": [
      "['name', 'position', 'salary']\n",
      "['Kwiki Ivanov', 'curdled milk taster', '20000']\n",
      "['Alex Baggins', 'capybara trainer', '45000']\n",
      "['Grigorii Fox', 'caries mannequin', '11000']\n",
      "\n",
      "['name', 'position', 'salary']\n",
      "['Kwiki Ivanov', 'curdled milk taster', '20000']\n",
      "['Alex Baggins', 'capybara trainer', '45000']\n",
      "['Grigorii Fox', 'caries mannequin', '11000']\n"
     ]
    }
   ],
   "source": [
    "# Считывание csv в список списков\n",
    "\n",
    "def func():\n",
    "    with open('data/task_3.csv', 'r', encoding='utf-8') as f:\n",
    "        f_csv = csv.reader(f)\n",
    "        for i in f_csv:\n",
    "            print(i)\n",
    "\n",
    "func()\n",
    "\n",
    "print()\n",
    "\n",
    "def func():\n",
    "    with open('data/task_3.csv', 'r', encoding='utf-8') as f:\n",
    "        f_csv = csv.reader(f)\n",
    "        arr = list(f_csv)\n",
    "        print(*arr, sep='\\n')\n",
    "\n",
    "func()"
   ]
  },
  {
   "cell_type": "code",
   "execution_count": 61,
   "metadata": {},
   "outputs": [
    {
     "name": "stdout",
     "output_type": "stream",
     "text": [
      "[{'name': 'Grigorii Fox', 'position': 'caries mannequin', 'salary': '11000'}, {'name': 'Kwiki Ivanov', 'position': 'curdled milk taster', 'salary': '20000'}, {'name': 'Alex Baggins', 'position': 'capybara trainer', 'salary': '45000'}]\n"
     ]
    }
   ],
   "source": [
    "# Создайте в своем проекте файл task_3.csv с содержимым:\n",
    "\n",
    "# name,position,salary\n",
    "# Kwiki Ivanov,curdled milk taster,20000\n",
    "# Alex Baggins,capybara trainer,45000\n",
    "# Grigorii Fox,caries mannequin,11000\n",
    "# Вам необходимо создать функцию func без параметров, которая считывает информацию с этого файла и формирует список словарей, \n",
    "# где самая верхняя строка - это ключи во всех словарях, остальные строки содержат в себе значения ключей под которыми они находятся. \n",
    "# Список словарей необходимо отсортировать по ключу \"salary\". \n",
    "\n",
    "def func():\n",
    "    with open('data/task_3.csv', 'r', encoding='utf-8') as f:\n",
    "        f_csv = csv.DictReader(f)\n",
    "        arr = [i for i in f_csv]\n",
    "        print(sorted(arr, key=lambda x: x['salary']))\n",
    "func()\n",
    "\n"
   ]
  },
  {
   "cell_type": "code",
   "execution_count": 62,
   "metadata": {},
   "outputs": [],
   "source": [
    "# Создайте функцию func без параметров, которая создаст файл task_4.csv. \n",
    "# В котором в первой строке будут первые пять цифр, начиная с 1, во второй строке следующие пять цифр, \n",
    "# начиная с 6 и т.д. Последней цифрой в файле должна быть 50\n",
    "\n",
    "def func():\n",
    "    with open('data/task_4.csv', 'w', encoding='utf-8', newline='') as f:\n",
    "        arr = [list(range(i, i + 5)) for i in range(1, 50, 5)]\n",
    "        f_csv = csv.writer(f)\n",
    "        f_csv.writerows(arr)\n",
    "\n",
    "func()"
   ]
  },
  {
   "cell_type": "code",
   "execution_count": 63,
   "metadata": {},
   "outputs": [],
   "source": [
    "# Необходимо объявить функцию func без параметров, которая запрашивает список слов в одну строку через пробел. \n",
    "# Далее функция формирует файл task_5.csv. В котором названия столбцов - это длина всех введенных слов по возрастанию, \n",
    "# под каждым столбцом находятся соответствующие по длине слова, располагающиеся в алфавитном порядке(сверху вниз). \n",
    "# Если под каким-то столбцом, в определенной строке не хватает слова, должно прописаться None. \n",
    "# \n",
    "# Подсказка:\n",
    "# csv.DictWriter(f, fieldnames=fields, restval='None')\n",
    "\n",
    "def func(line):\n",
    "    line = sorted(line.split())\n",
    "    words_dct = {}\n",
    "    for word in line:\n",
    "        words_dct[len(word)] = words_dct.get(len(word), []) + [word]\n",
    "\n",
    "    len_mx = len(max(words_dct.values(), key=len))\n",
    "    dct_arr = []\n",
    "    for k, v in words_dct.items():\n",
    "        len_arr = len(v)\n",
    "        words_dct[k].extend([None] * (len_mx - len_arr))\n",
    "    for i in range(len_mx):\n",
    "        d = {}\n",
    "        for k in words_dct:\n",
    "            d[k] = words_dct[k][i]\n",
    "            sorted_d = dict(sorted(d.items()))\n",
    "        dct_arr.append(sorted_d)\n",
    "    with open('data/task_5.csv', 'w', encoding='utf-8', newline='') as f:\n",
    "        field = list(sorted_d)\n",
    "        writer = csv.DictWriter(f, fieldnames=field, restval='None')\n",
    "        writer.writeheader()\n",
    "        writer.writerows(dct_arr)\n",
    "\n",
    "line = 'биг бон мак дак чих пых жмых мрот брод ром крот торг лимон олово дымок кобыл эльф лалала мумуму оливка зиплок брундуляк'\n",
    "func(line)"
   ]
  },
  {
   "cell_type": "code",
   "execution_count": 64,
   "metadata": {},
   "outputs": [],
   "source": [
    "def func(line):\n",
    "    line = sorted(line.split())\n",
    "    words_dct = {}\n",
    "    for word in line:\n",
    "        words_dct[len(word)] = words_dct.get(len(word), []) + [word]\n",
    "\n",
    "    len_mx = len(max(words_dct.values(), key=len))\n",
    "    dct_arr = []\n",
    "    for k, v in words_dct.items():\n",
    "        len_arr = len(v)\n",
    "        words_dct[k].extend([None] * (len_mx - len_arr))\n",
    "    for i in range(len_mx):\n",
    "        d = {}\n",
    "        for k in words_dct:\n",
    "            d[k] = words_dct[k][i]\n",
    "        dct_arr.append(d)\n",
    "    with open('data/task_5.csv', 'w', encoding='utf-8', newline='') as f:\n",
    "        fields = list(sorted(d))\n",
    "        writer = csv.DictWriter(f, fieldnames=fields, restval='None')\n",
    "        writer.writeheader()\n",
    "        writer.writerows(dct_arr)\n",
    "\n",
    "line = 'биг бон мак дак чих пых жмых мрот брод ром крот торг лимон олово дымок кобыл эльф лалала мумуму оливка зиплок брундуляк'\n",
    "func(line)"
   ]
  },
  {
   "cell_type": "code",
   "execution_count": 65,
   "metadata": {},
   "outputs": [],
   "source": [
    "import csv\n",
    "\n",
    "def func(line):\n",
    "    words_dict = {}\n",
    "    for item in sorted(line.split()):\n",
    "        words_dict.setdefault(len(item), []).append(item)\n",
    "\n",
    "    max_len = len(max(words_dict.values(), key=len))\n",
    "    arr = [{k:v[i] for k, v in words_dict.items() if len(v)-1 >= i} for i in range(max_len)]\n",
    "\n",
    "    with open('data/task_5_2.csv', 'w', encoding='utf-8') as f:\n",
    "        fields = sorted(words_dict)\n",
    "        writer = csv.DictWriter(f, fieldnames=fields, restval='None')\n",
    "        writer.writeheader()\n",
    "        writer.writerows(arr)\n",
    "\n",
    "line = 'биг бон мак дак чих пых жмых мрот брод ром крот торг лимон олово дымок кобыл эльф лалала мумуму оливка зиплок брундуляк'\n",
    "func(line)"
   ]
  },
  {
   "cell_type": "markdown",
   "metadata": {},
   "source": [
    "# 4.4 Работа с файлами JSON"
   ]
  },
  {
   "cell_type": "code",
   "execution_count": 3,
   "metadata": {},
   "outputs": [
    {
     "name": "stdout",
     "output_type": "stream",
     "text": [
      "True\n",
      "True\n"
     ]
    }
   ],
   "source": [
    "# Проверка существования пути или файла\n",
    "\n",
    "import os.path\n",
    "\n",
    "s = 'data/'\n",
    "print(os.path.isdir(s))\n",
    "\n",
    "s = 'data/data.txt'\n",
    "print(os.path.isfile(s))"
   ]
  },
  {
   "cell_type": "code",
   "execution_count": 66,
   "metadata": {},
   "outputs": [
    {
     "name": "stdout",
     "output_type": "stream",
     "text": [
      "а = альбинос, антракт, аскет\n",
      "б = бравада, брокер, бан\n",
      "в = власть, вихрь, воск\n",
      "г = голод, гром, гордость\n",
      "д = дым, дом, димдимыч\n"
     ]
    }
   ],
   "source": [
    "# Необходимо создать функцию func без параметров, которая считывает данный файл \n",
    "# и возвращает информацию в виде отформатированной строки. \n",
    "\n",
    "# Вот так должна выглядеть часть возвращаемой строки:\n",
    "\n",
    "# а = альбинос, антракт, аскет\n",
    "# б = бравада, брокер, бан\n",
    "# в = власть, вихрь, воск\n",
    "\n",
    "\n",
    "import json\n",
    "\n",
    "def func():\n",
    "    with open('data/task_1.json', 'r', encoding='utf-8') as f:\n",
    "        f_json = json.load(f)\n",
    "        s = \"\\n\".join([f'{k} = {\", \".join(v)}' for k, v in f_json.items()])\n",
    "        return s\n",
    "\n",
    "print(func())"
   ]
  },
  {
   "cell_type": "code",
   "execution_count": 67,
   "metadata": {},
   "outputs": [
    {
     "name": "stdout",
     "output_type": "stream",
     "text": [
      "{'имя': 'Женёк', 'должность': 'директор', 'зарплата': 1000000}\n"
     ]
    }
   ],
   "source": [
    "# Вам необходимо создать функцию func которая принимает позиционно json-строку, \n",
    "# структура которой представляет собой список со вложенными словарями. \n",
    "# Функция должна вернуть словарь, в котором в ключе \"зарплата\" стоит самое большое целое число. \n",
    "# Предлагаю в решении использовать функцию max  с ключом key, принцип работы очень схож с сортировками.\n",
    "# Вызывать функцию не нужно.\n",
    "\n",
    "import json\n",
    "\n",
    "def func(line):\n",
    "    sjson = json.loads(line)\n",
    "    return max(sjson, key=lambda x: x[\"зарплата\"])\n",
    "\n",
    "\n",
    "line = '''[\n",
    "   {\n",
    "      \"имя\": \"Женёк\",\n",
    "      \"должность\": \"директор\",\n",
    "      \"зарплата\": 1000000\n",
    "   },\n",
    "   {\n",
    "      \"имя\": \"Артем Лопушков\",\n",
    "      \"должность\": \"уборщик\",\n",
    "      \"зарплата\": 35000\n",
    "   },\n",
    "   {\n",
    "      \"имя\": \"Марат Маратович\",\n",
    "      \"должность\": \"разработчик\",\n",
    "      \"зарплата\": 80000\n",
    "   },\n",
    "   {\n",
    "      \"имя\": \"тетя Галя\",\n",
    "      \"должность\": \"разработчик\",\n",
    "      \"зарплата\": 100000\n",
    "   },\n",
    "   {\n",
    "      \"имя\": \"Андрей Андреевич\",\n",
    "      \"должность\": \"тестировщик\",\n",
    "      \"зарплата\": 60000\n",
    "   }\n",
    "]'''\n",
    "\n",
    "print(func(line))"
   ]
  },
  {
   "cell_type": "code",
   "execution_count": 68,
   "metadata": {},
   "outputs": [],
   "source": [
    "# Необходимо создать функцию func без параметров, которая формирует словарь по принципу: \n",
    "# в ключе '10' находится список первых 10ти букв латинского алфавита в нижнем регистре, \n",
    "# в ключе '20' второй десяток букв и т.д. \n",
    "# И записывает его в файл task_2.json.\n",
    "\n",
    "import json\n",
    "from string import ascii_lowercase\n",
    "from math import ceil\n",
    "\n",
    "def func():\n",
    "    size = len(ascii_lowercase)\n",
    "    d = {f'{10 * i}': list(ascii_lowercase[j: j + 10]) for i, j in zip(range(1, ceil(size // 10) + 2), \\\n",
    "                                                                       range(0, size + 1, 10))}\n",
    "    with open('data/task_2.json', 'w', encoding='utf-8') as f:\n",
    "        json.dump(d, f, indent=3)\n",
    "\n",
    "func()"
   ]
  },
  {
   "cell_type": "code",
   "execution_count": 69,
   "metadata": {},
   "outputs": [],
   "source": [
    "import json\n",
    "from string import ascii_lowercase\n",
    "\n",
    "def func():\n",
    "    d = {}\n",
    "    for i in range(0, len(ascii_lowercase), 10):\n",
    "        d[str(i + 10)] = list(ascii_lowercase[i: i + 10])\n",
    "    with open('data/task_2.json', 'w', encoding='utf-8') as f:\n",
    "        json.dump(d, f, indent=3)\n",
    "\n",
    "func()"
   ]
  },
  {
   "cell_type": "code",
   "execution_count": 70,
   "metadata": {},
   "outputs": [
    {
     "name": "stdout",
     "output_type": "stream",
     "text": [
      "{\"order_id\": 57265, \"buyer_name\": \"\\u0422\\u0438\\u043c\\u0443\\u0440 \\u041b\\u0435\\u043c\\u0443\\u0440\\u043e\\u0432\", \"shopperEmail\": \"king_julian@gmail.com\", \"contents\": [{\"prdct_id\": 462, \"prdct_name\": \"\\u041e\\u0433\\u0443\\u0440\\u0447\\u0438\\u043a\\u0438 \\u043e\\u0442 \\u0434\\u044f\\u0434\\u0438 \\u0412\\u0430\\u043d\\u0438\", \"cost\": 250, \"quantity\": 1}, {\"productID\": 23, \"productName\": \"\\u041f\\u043e\\u0434\\u043b\\u0438\\u0432\\u043a\\u0430\", \"cost\": 168, \"quantity\": 3}], \"order_status\": \"sending\"}\n"
     ]
    }
   ],
   "source": [
    "# Вам дан словарь dct. \n",
    "# Вам необходимо создать функцию func без параметров, \n",
    "# которая преобразует данный словарь в json-строку и вернет ее.\n",
    "\n",
    "dct = {\n",
    "    'order_id': 57265,\n",
    "    'buyer_name': 'Тимур Лемуров',\n",
    "    'shopperEmail': 'king_julian@gmail.com',\n",
    "    'contents': [\n",
    "        {\n",
    "            'prdct_id': 462,\n",
    "            'prdct_name': 'Огурчики от дяди Вани',\n",
    "            'cost': 250,\n",
    "            'quantity': 1,\n",
    "        },\n",
    "        {\n",
    "            'productID': 23,\n",
    "            'productName': 'Подливка',\n",
    "            'cost': 168,\n",
    "            'quantity': 3,\n",
    "        }\n",
    "    ],\n",
    "    'order_status': 'sending'\n",
    "}\n",
    "\n",
    "import json\n",
    "\n",
    "def func():\n",
    "    s = json.dumps(dct)\n",
    "    return s\n",
    "\n",
    "print(func())"
   ]
  },
  {
   "cell_type": "code",
   "execution_count": 71,
   "metadata": {},
   "outputs": [
    {
     "name": "stdout",
     "output_type": "stream",
     "text": [
      "Валера, Дикий\n",
      "186280\n",
      "Птолемей, Четвертый\n",
      "1005500\n",
      "Левиафан, Иванов\n",
      "5250\n",
      "Тамара, Лось\n",
      "538900\n",
      "Жук, Подлый\n",
      "16783000\n",
      "Квики, Несквиков\n",
      "527300\n",
      "Мария, Шальная\n",
      "439000\n",
      "['Жук', 'Подлый', 16783000]\n"
     ]
    }
   ],
   "source": [
    "# Дан файл task_3.json\n",
    "# Необходимо создать функцию func без параметров, которая считает данный файл \n",
    "# и преобразует его в python-объект. \n",
    "# Необходимо найти продавца, который продал товара на большую сумму. \n",
    "\n",
    "# Функция должна вернуть результат в формате списка:\n",
    "\n",
    "# [<имя>, <фамилия>, <сумма проданного товара>]\n",
    "\n",
    "import json\n",
    "\n",
    "def func():\n",
    "    with open('data/task_3.json', 'r', encoding='utf-8') as f:\n",
    "        f_json = json.load(f)\n",
    "        mx_total = 0\n",
    "        mx_seller = ''\n",
    "        for seller in f_json:\n",
    "            total = 0\n",
    "            fio = (seller['продавец']['имя'], seller['продавец']['фамилия'])\n",
    "            for product in seller['товары']:\n",
    "                total += product['сумма']\n",
    "            if total > mx_total:\n",
    "                mx_total = total\n",
    "                mx_seller = fio\n",
    "            print(', '.join(fio))\n",
    "            print(total)\n",
    "    \n",
    "        return list(mx_seller) + [mx_total]\n",
    "\n",
    "print(func())"
   ]
  },
  {
   "cell_type": "code",
   "execution_count": 72,
   "metadata": {},
   "outputs": [
    {
     "name": "stdout",
     "output_type": "stream",
     "text": [
      "['Жук', 'Подлый', 16783000]\n"
     ]
    }
   ],
   "source": [
    "def func():\n",
    "    import json\n",
    "    with open('data/task_3.json', mode='r', encoding='utf-8') as file:\n",
    "        f_json = json.load(file)\n",
    "        res = [[line['продавец']['имя'], line['продавец']['фамилия'], sum(x['сумма'] for x in line['товары'])] for line in f_json]\n",
    "        res.sort(key=lambda x: -x[-1])\n",
    "        return res[0]\n",
    "    \n",
    "print(func())"
   ]
  },
  {
   "cell_type": "code",
   "execution_count": 73,
   "metadata": {},
   "outputs": [
    {
     "name": "stdout",
     "output_type": "stream",
     "text": [
      "['Жук', 'Подлый', 16783000]\n"
     ]
    }
   ],
   "source": [
    "def func(mx_total=0, fio=None):\n",
    "    with open('data/task_3.json', encoding='utf-8') as f:\n",
    "        for item in __import__('json').load(f):\n",
    "            if (total := sum(el['сумма'] for el in item['товары'])) > mx_total:\n",
    "                mx_total = total\n",
    "                fio = list(item['продавец'].values())\n",
    "                \n",
    "        return fio + [mx_total]\n",
    "    \n",
    "print(func())"
   ]
  },
  {
   "cell_type": "code",
   "execution_count": null,
   "metadata": {},
   "outputs": [],
   "source": []
  },
  {
   "cell_type": "code",
   "execution_count": null,
   "metadata": {},
   "outputs": [],
   "source": []
  },
  {
   "cell_type": "code",
   "execution_count": null,
   "metadata": {},
   "outputs": [],
   "source": []
  },
  {
   "cell_type": "code",
   "execution_count": null,
   "metadata": {},
   "outputs": [],
   "source": []
  },
  {
   "cell_type": "code",
   "execution_count": null,
   "metadata": {},
   "outputs": [],
   "source": []
  }
 ],
 "metadata": {
  "kernelspec": {
   "display_name": "base",
   "language": "python",
   "name": "python3"
  },
  "language_info": {
   "codemirror_mode": {
    "name": "ipython",
    "version": 3
   },
   "file_extension": ".py",
   "mimetype": "text/x-python",
   "name": "python",
   "nbconvert_exporter": "python",
   "pygments_lexer": "ipython3",
   "version": "3.11.11"
  }
 },
 "nbformat": 4,
 "nbformat_minor": 2
}
