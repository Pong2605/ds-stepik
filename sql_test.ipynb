{
 "cells": [
  {
   "cell_type": "code",
   "execution_count": 109,
   "metadata": {},
   "outputs": [],
   "source": [
    "import pymysql\n",
    "import pandas as pd"
   ]
  },
  {
   "cell_type": "code",
   "execution_count": 110,
   "metadata": {},
   "outputs": [],
   "source": [
    "def push(query):\n",
    "    try:\n",
    "        connection = pymysql.connect(\n",
    "            host='localhost',\n",
    "            port=3306,\n",
    "            user='root',\n",
    "            password='lolik`12*-',\n",
    "            database='stepik',\n",
    "            cursorclass=pymysql.cursors.DictCursor,\n",
    "        )\n",
    "        print('Succesfully connect')\n",
    "        print('#' * 20)\n",
    "\n",
    "        try:\n",
    "            with connection.cursor() as cursor:\n",
    "                cursor.execute(query)\n",
    "                print(f'{' '.join(query.split()[:2])} succesfully')\n",
    "                if query.split()[0].lower() == 'select':\n",
    "                    return cursor\n",
    "                if query.split()[0].lower() in ['insert', 'update', 'delete']:\n",
    "                    connection.commit()\n",
    "\n",
    "        finally:\n",
    "            connection.close()\n",
    "\n",
    "    except Exception as ex:\n",
    "        print('Connection refused...')\n",
    "        print(ex)"
   ]
  },
  {
   "cell_type": "code",
   "execution_count": 111,
   "metadata": {},
   "outputs": [
    {
     "name": "stdout",
     "output_type": "stream",
     "text": [
      "Succesfully connect\n",
      "####################\n",
      "Connection refused...\n",
      "(3730, \"Cannot drop table 'users' referenced by a foreign key constraint 'groups_ibfk_1' on table 'groups'.\")\n"
     ]
    }
   ],
   "source": [
    "# Удаление таблицы\n",
    "drop_table_query = 'DROP TABLE IF EXISTS users'\n",
    "push(drop_table_query)"
   ]
  },
  {
   "cell_type": "code",
   "execution_count": 112,
   "metadata": {},
   "outputs": [
    {
     "name": "stdout",
     "output_type": "stream",
     "text": [
      "Succesfully connect\n",
      "####################\n",
      "Connection refused...\n",
      "(1050, \"Table 'users' already exists\")\n"
     ]
    }
   ],
   "source": [
    "# Создание таблицы users\n",
    "create_table_query = \"\"\"\n",
    "CREATE TABLE users(\n",
    "    id BIGINT UNSIGNED NOT NULL AUTO_INCREMENT PRIMARY KEY,\n",
    "    firstname VARCHAR(100),\n",
    "    lastname VARCHAR(100) COMMENT 'фамилия',\n",
    "    login VARCHAR(100),\n",
    "    email VARCHAR(100) UNIQUE,\n",
    "    password_hash VARCHAR(256),\n",
    "    phone BIGINT UNSIGNED UNIQUE,\n",
    "    \n",
    "    INDEX idx_users_username(firstname, lastname)\n",
    ") COMMENT 'пользователи';\"\"\"\n",
    "\n",
    "push(create_table_query)"
   ]
  },
  {
   "cell_type": "code",
   "execution_count": 113,
   "metadata": {},
   "outputs": [
    {
     "name": "stdout",
     "output_type": "stream",
     "text": [
      "Succesfully connect\n",
      "####################\n",
      "DROP TABLE succesfully\n"
     ]
    }
   ],
   "source": [
    "# Удаление таблицы\n",
    "drop_table_query = 'DROP TABLE IF EXISTS user_settings'\n",
    "push(drop_table_query)"
   ]
  },
  {
   "cell_type": "code",
   "execution_count": null,
   "metadata": {},
   "outputs": [
    {
     "name": "stdout",
     "output_type": "stream",
     "text": [
      "Succesfully connect\n",
      "####################\n",
      "CREATE TABLE succesfully\n"
     ]
    }
   ],
   "source": [
    "# Создание таблицы user_settings\n",
    "\n",
    "# 1 x 1\n",
    "create_table_query = \"\"\"\n",
    "CREATE TABLE user_settings(\n",
    "    user_id BIGINT UNSIGNED NOT NULL,\n",
    "    is_premium_account BIT,\n",
    "    is_night_mode_enabled BIT,\n",
    "    color_scheme ENUM('classic', 'day', 'tinted', 'night'),\n",
    "    LANGUAGE ENUM('english', 'french', 'russian', 'german', 'belorussian', 'croatian', 'dutch'),\n",
    "    status_text VARCHAR(70),\n",
    "    notifications_and_sounds JSON,\n",
    "    created_at DATETIME DEFAULT NOW()\n",
    ");\"\"\"\n",
    "\n",
    "push(create_table_query)"
   ]
  },
  {
   "cell_type": "code",
   "execution_count": 115,
   "metadata": {},
   "outputs": [
    {
     "name": "stdout",
     "output_type": "stream",
     "text": [
      "Succesfully connect\n",
      "####################\n",
      "ALTER TABLE succesfully\n"
     ]
    }
   ],
   "source": [
    "# Создание связи с таблицами user_settings и users\n",
    "alter_table_query = \"\"\"\n",
    "ALTER TABLE user_settings ADD CONSTRAINT fk_user_settings_user_id\n",
    "FOREIGN KEY (user_id) REFERENCES users(id)\n",
    "ON UPDATE CASCADE\n",
    "ON DELETE RESTRICT;\n",
    "\"\"\"\n",
    "\n",
    "push(alter_table_query)"
   ]
  },
  {
   "cell_type": "code",
   "execution_count": 116,
   "metadata": {},
   "outputs": [
    {
     "name": "stdout",
     "output_type": "stream",
     "text": [
      "Succesfully connect\n",
      "####################\n",
      "Connection refused...\n",
      "(1062, \"Duplicate entry 'damaris34@example.net' for key 'users.email'\")\n"
     ]
    }
   ],
   "source": [
    "# Добавление строки в таблицу users\n",
    "\n",
    "# insert_query = \"INSERT INTO users (id, firstname, lastname, email, phone) VALUES ('2', 'Kelsie', 'Olson', 'xheidenereich@example.net', '9548489264');\"\n",
    "\n",
    "# можно не указывать автоинкрементное (AUTO_INCREMENT) поле\n",
    "insert_query = \"\"\"INSERT INTO users (firstname, lastname, email, phone) VALUES\n",
    "('Ozella', 'Hauck', 'idickens@example.com', '9773438197'),\n",
    "('Emmet', 'Hammes', 'qcremin@example.org', '9694110645'),\n",
    "('Lori', 'Koch', 'damaris34@example.net', '9192291407'),\n",
    "('Sam', 'Kuphal', 'telly.miller@example.net', '9917826315');\"\"\"\n",
    "\n",
    "push(insert_query)"
   ]
  },
  {
   "cell_type": "code",
   "execution_count": 117,
   "metadata": {},
   "outputs": [
    {
     "name": "stdout",
     "output_type": "stream",
     "text": [
      "Succesfully connect\n",
      "####################\n",
      "SELECT * succesfully\n",
      "{'id': 3, 'firstname': 'Lori', 'lastname': 'Koch', 'login': None, 'email': 'damaris34@example.net', 'password_hash': None, 'phone': 9192291407}\n",
      "{'id': 4, 'firstname': 'Sam', 'lastname': 'Kuphal', 'login': None, 'email': 'telly.miller@example.net', 'password_hash': None, 'phone': 9917826315}\n"
     ]
    }
   ],
   "source": [
    "# Запрос селект\n",
    "select_query = 'SELECT * FROM users'\n",
    "rows = push(select_query).fetchall()\n",
    "for row in rows:\n",
    "    print(row)"
   ]
  },
  {
   "cell_type": "code",
   "execution_count": 118,
   "metadata": {},
   "outputs": [
    {
     "name": "stdout",
     "output_type": "stream",
     "text": [
      "Succesfully connect\n",
      "####################\n"
     ]
    },
    {
     "name": "stdout",
     "output_type": "stream",
     "text": [
      "DELETE FROM succesfully\n"
     ]
    }
   ],
   "source": [
    "# Удаление строк\n",
    "drop_row_query = 'DELETE FROM users WHERE id IN (1, 2)'\n",
    "push(drop_row_query)"
   ]
  },
  {
   "cell_type": "code",
   "execution_count": 119,
   "metadata": {},
   "outputs": [
    {
     "name": "stdout",
     "output_type": "stream",
     "text": [
      "Succesfully connect\n",
      "####################\n",
      "ALTER TABLE succesfully\n",
      "Succesfully connect\n",
      "####################\n",
      "ALTER TABLE succesfully\n",
      "Succesfully connect\n",
      "####################\n",
      "ALTER TABLE succesfully\n",
      "Succesfully connect\n",
      "####################\n",
      "ALTER TABLE succesfully\n"
     ]
    }
   ],
   "source": [
    "# Добавление, изменение типа, переименование, удавление полей таблицы\n",
    "add_column_query = \"ALTER TABLE users ADD COLUMN birthday DATETIME\"\n",
    "push(add_column_query)\n",
    "\n",
    "modify_column_query = \"ALTER TABLE users MODIFY COLUMN birthday DATE\"\n",
    "push(modify_column_query)\n",
    "\n",
    "rename_column_query = \"ALTER TABLE users RENAME COLUMN birthday to date_of_birth\"\n",
    "push(rename_column_query)\n",
    "\n",
    "drop_column_query = \"ALTER TABLE users DROP COLUMN date_of_birth\"\n",
    "push(drop_column_query)"
   ]
  },
  {
   "cell_type": "code",
   "execution_count": 120,
   "metadata": {},
   "outputs": [
    {
     "data": {
      "text/html": [
       "<div>\n",
       "<style scoped>\n",
       "    .dataframe tbody tr th:only-of-type {\n",
       "        vertical-align: middle;\n",
       "    }\n",
       "\n",
       "    .dataframe tbody tr th {\n",
       "        vertical-align: top;\n",
       "    }\n",
       "\n",
       "    .dataframe thead th {\n",
       "        text-align: right;\n",
       "    }\n",
       "</style>\n",
       "<table border=\"1\" class=\"dataframe\">\n",
       "  <thead>\n",
       "    <tr style=\"text-align: right;\">\n",
       "      <th></th>\n",
       "      <th>id</th>\n",
       "      <th>firstname</th>\n",
       "      <th>lastname</th>\n",
       "      <th>login</th>\n",
       "      <th>email</th>\n",
       "      <th>password_hash</th>\n",
       "      <th>phone</th>\n",
       "    </tr>\n",
       "  </thead>\n",
       "  <tbody>\n",
       "    <tr>\n",
       "      <th>0</th>\n",
       "      <td>3</td>\n",
       "      <td>Lori</td>\n",
       "      <td>Koch</td>\n",
       "      <td>None</td>\n",
       "      <td>damaris34@example.net</td>\n",
       "      <td>None</td>\n",
       "      <td>9192291407</td>\n",
       "    </tr>\n",
       "    <tr>\n",
       "      <th>1</th>\n",
       "      <td>4</td>\n",
       "      <td>Sam</td>\n",
       "      <td>Kuphal</td>\n",
       "      <td>None</td>\n",
       "      <td>telly.miller@example.net</td>\n",
       "      <td>None</td>\n",
       "      <td>9917826315</td>\n",
       "    </tr>\n",
       "  </tbody>\n",
       "</table>\n",
       "</div>"
      ],
      "text/plain": [
       "   id firstname lastname login                     email password_hash  \\\n",
       "0   3      Lori     Koch  None     damaris34@example.net          None   \n",
       "1   4       Sam   Kuphal  None  telly.miller@example.net          None   \n",
       "\n",
       "        phone  \n",
       "0  9192291407  \n",
       "1  9917826315  "
      ]
     },
     "execution_count": 120,
     "metadata": {},
     "output_type": "execute_result"
    }
   ],
   "source": [
    "pd.DataFrame(rows)"
   ]
  },
  {
   "cell_type": "code",
   "execution_count": 121,
   "metadata": {},
   "outputs": [
    {
     "name": "stdout",
     "output_type": "stream",
     "text": [
      "Succesfully connect\n",
      "####################\n",
      "ALTER TABLE succesfully\n",
      "Succesfully connect\n",
      "####################\n",
      "SELECT * succesfully\n"
     ]
    },
    {
     "data": {
      "text/html": [
       "<div>\n",
       "<style scoped>\n",
       "    .dataframe tbody tr th:only-of-type {\n",
       "        vertical-align: middle;\n",
       "    }\n",
       "\n",
       "    .dataframe tbody tr th {\n",
       "        vertical-align: top;\n",
       "    }\n",
       "\n",
       "    .dataframe thead th {\n",
       "        text-align: right;\n",
       "    }\n",
       "</style>\n",
       "<table border=\"1\" class=\"dataframe\">\n",
       "  <thead>\n",
       "    <tr style=\"text-align: right;\">\n",
       "      <th></th>\n",
       "      <th>id</th>\n",
       "      <th>firstname</th>\n",
       "      <th>lastname</th>\n",
       "      <th>login</th>\n",
       "      <th>email</th>\n",
       "      <th>password_hash</th>\n",
       "      <th>phone</th>\n",
       "      <th>birthday</th>\n",
       "    </tr>\n",
       "  </thead>\n",
       "  <tbody>\n",
       "    <tr>\n",
       "      <th>0</th>\n",
       "      <td>3</td>\n",
       "      <td>Lori</td>\n",
       "      <td>Koch</td>\n",
       "      <td>None</td>\n",
       "      <td>damaris34@example.net</td>\n",
       "      <td>None</td>\n",
       "      <td>9192291407</td>\n",
       "      <td>None</td>\n",
       "    </tr>\n",
       "    <tr>\n",
       "      <th>1</th>\n",
       "      <td>4</td>\n",
       "      <td>Sam</td>\n",
       "      <td>Kuphal</td>\n",
       "      <td>None</td>\n",
       "      <td>telly.miller@example.net</td>\n",
       "      <td>None</td>\n",
       "      <td>9917826315</td>\n",
       "      <td>None</td>\n",
       "    </tr>\n",
       "  </tbody>\n",
       "</table>\n",
       "</div>"
      ],
      "text/plain": [
       "   id firstname lastname login                     email password_hash  \\\n",
       "0   3      Lori     Koch  None     damaris34@example.net          None   \n",
       "1   4       Sam   Kuphal  None  telly.miller@example.net          None   \n",
       "\n",
       "        phone birthday  \n",
       "0  9192291407     None  \n",
       "1  9917826315     None  "
      ]
     },
     "metadata": {},
     "output_type": "display_data"
    },
    {
     "name": "stdout",
     "output_type": "stream",
     "text": [
      "Succesfully connect\n",
      "####################\n",
      "ALTER TABLE succesfully\n",
      "Succesfully connect\n",
      "####################\n",
      "SELECT * succesfully\n"
     ]
    },
    {
     "data": {
      "text/html": [
       "<div>\n",
       "<style scoped>\n",
       "    .dataframe tbody tr th:only-of-type {\n",
       "        vertical-align: middle;\n",
       "    }\n",
       "\n",
       "    .dataframe tbody tr th {\n",
       "        vertical-align: top;\n",
       "    }\n",
       "\n",
       "    .dataframe thead th {\n",
       "        text-align: right;\n",
       "    }\n",
       "</style>\n",
       "<table border=\"1\" class=\"dataframe\">\n",
       "  <thead>\n",
       "    <tr style=\"text-align: right;\">\n",
       "      <th></th>\n",
       "      <th>id</th>\n",
       "      <th>firstname</th>\n",
       "      <th>lastname</th>\n",
       "      <th>login</th>\n",
       "      <th>email</th>\n",
       "      <th>password_hash</th>\n",
       "      <th>phone</th>\n",
       "    </tr>\n",
       "  </thead>\n",
       "  <tbody>\n",
       "    <tr>\n",
       "      <th>0</th>\n",
       "      <td>3</td>\n",
       "      <td>Lori</td>\n",
       "      <td>Koch</td>\n",
       "      <td>None</td>\n",
       "      <td>damaris34@example.net</td>\n",
       "      <td>None</td>\n",
       "      <td>9192291407</td>\n",
       "    </tr>\n",
       "    <tr>\n",
       "      <th>1</th>\n",
       "      <td>4</td>\n",
       "      <td>Sam</td>\n",
       "      <td>Kuphal</td>\n",
       "      <td>None</td>\n",
       "      <td>telly.miller@example.net</td>\n",
       "      <td>None</td>\n",
       "      <td>9917826315</td>\n",
       "    </tr>\n",
       "  </tbody>\n",
       "</table>\n",
       "</div>"
      ],
      "text/plain": [
       "   id firstname lastname login                     email password_hash  \\\n",
       "0   3      Lori     Koch  None     damaris34@example.net          None   \n",
       "1   4       Sam   Kuphal  None  telly.miller@example.net          None   \n",
       "\n",
       "        phone  \n",
       "0  9192291407  \n",
       "1  9917826315  "
      ]
     },
     "metadata": {},
     "output_type": "display_data"
    }
   ],
   "source": [
    "push('ALTER TABLE users ADD COLUMN birthday DATETIME')\n",
    "rows = push('SELECT * FROM users').fetchall()\n",
    "display(pd.DataFrame(rows))\n",
    "\n",
    "push('ALTER TABLE users DROP COLUMN birthday')\n",
    "rows = push('SELECT * FROM users').fetchall()\n",
    "display(pd.DataFrame(rows))"
   ]
  },
  {
   "cell_type": "code",
   "execution_count": 122,
   "metadata": {},
   "outputs": [
    {
     "name": "stdout",
     "output_type": "stream",
     "text": [
      "Succesfully connect\n",
      "####################\n",
      "ALTER TABLE succesfully\n",
      "Succesfully connect\n",
      "####################\n",
      "ALTER TABLE succesfully\n"
     ]
    }
   ],
   "source": [
    "# Изменение полей в user_settings\n",
    "add_column_query = \"ALTER TABLE user_settings ADD PRIMARY KEY (user_id)\"\n",
    "push(add_column_query)\n",
    "\n",
    "# modify_column_query = \"ALTER TABLE user_settings MODIFY COLUMN user_id BIGINT UNSIGNED NOT NULL PRIMATY KEY\"\n",
    "# push(modify_column_query)\n",
    "\n",
    "rename_column_query = \"ALTER TABLE user_settings RENAME COLUMN LANGUAGE to app_language\"\n",
    "push(rename_column_query)"
   ]
  },
  {
   "cell_type": "code",
   "execution_count": null,
   "metadata": {},
   "outputs": [
    {
     "name": "stdout",
     "output_type": "stream",
     "text": [
      "Succesfully connect\n",
      "####################\n",
      "DROP TABLE succesfully\n",
      "Succesfully connect\n",
      "####################\n",
      "CREATE TABLE succesfully\n"
     ]
    }
   ],
   "source": [
    "# Создание таблицы private_messages\n",
    "\n",
    "push('DROP TABLE IF EXISTS private_messages;')\n",
    "\n",
    "# 1 x M\n",
    "create_table_query = \"\"\"\n",
    "\n",
    "CREATE TABLE private_messages(\n",
    "    id SERIAL,\n",
    "    sender_id BIGINT UNSIGNED NOT NULL,\n",
    "    receiver_id BIGINT UNSIGNED NOT NULL,\n",
    "    reply_to_id BIGINT UNSIGNED NULL,\n",
    "    media_type ENUM('text', 'image', 'audio', 'video'),\n",
    "    body TEXT,\n",
    "    filename VARCHAR(200),\n",
    "    created_at DATETIME DEFAULT NOW(),\n",
    "\n",
    "    FOREIGN KEY (sender_id) REFERENCES users(id),\n",
    "    FOREIGN KEY (receiver_id) REFERENCES users(id),\n",
    "    FOREIGN KEY (reply_to_id) REFERENCES private_messages(id)\n",
    ");\n",
    "\"\"\"\n",
    "push(create_table_query)"
   ]
  },
  {
   "cell_type": "code",
   "execution_count": 124,
   "metadata": {},
   "outputs": [
    {
     "name": "stdout",
     "output_type": "stream",
     "text": [
      "Succesfully connect\n",
      "####################\n",
      "Connection refused...\n",
      "(3730, \"Cannot drop table 'groups' referenced by a foreign key constraint 'group_messages_ibfk_2' on table 'group_messages'.\")\n",
      "Succesfully connect\n",
      "####################\n",
      "Connection refused...\n",
      "(1050, \"Table 'groups' already exists\")\n"
     ]
    }
   ],
   "source": [
    "# Создание таблицы groups\n",
    "\n",
    "push('DROP TABLE IF EXISTS `groups`;')\n",
    "\n",
    "create_table_query = \"\"\"\n",
    "CREATE TABLE `groups` (\n",
    "    id SERIAL,\n",
    "    title VARCHAR(45),\n",
    "    icon VARCHAR(45),\n",
    "    invite_link VARCHAR(100),\n",
    "    settings JSON,\n",
    "    owner_user_id BIGINT UNSIGNED NOT NULL,\n",
    "    is_private BIT,\n",
    "    created_at DATETIME DEFAULT NOW(),\n",
    "\n",
    "    FOREIGN KEY (owner_user_id) REFERENCES users (id)\n",
    ");\n",
    "\"\"\"\n",
    "\n",
    "push(create_table_query)"
   ]
  },
  {
   "cell_type": "code",
   "execution_count": 125,
   "metadata": {},
   "outputs": [
    {
     "name": "stdout",
     "output_type": "stream",
     "text": [
      "Succesfully connect\n",
      "####################\n",
      "DROP TABLE succesfully\n",
      "Succesfully connect\n",
      "####################\n",
      "CREATE TABLE succesfully\n"
     ]
    }
   ],
   "source": [
    "# Создание таблицы group_messages\n",
    "\n",
    "push('DROP TABLE IF EXISTS `group_messages`;')\n",
    "\n",
    "create_table_query = \"\"\"\n",
    "CREATE TABLE `group_messages` (\n",
    "    id SERIAL,\n",
    "    group_id BIGINT UNSIGNED NOT NULL,\n",
    "    sender_id BIGINT UNSIGNED NOT NULL,\n",
    "    reply_to_id BIGINT UNSIGNED NULL,\n",
    "    media_type ENUM('text', 'image', 'audio', 'video'),\n",
    "    body TEXT,\n",
    "    filename VARCHAR(100) NULL,\n",
    "    created_at DATETIME DEFAULT NOW(),\n",
    "\n",
    "    FOREIGN KEY (sender_id) REFERENCES users (id),\n",
    "    FOREIGN KEY (group_id) REFERENCES `groups` (id),\n",
    "    FOREIGN KEY (reply_to_id) REFERENCES group_messages (id)\n",
    ");\n",
    "\"\"\"\n",
    "push(create_table_query)"
   ]
  },
  {
   "cell_type": "code",
   "execution_count": 126,
   "metadata": {},
   "outputs": [
    {
     "name": "stdout",
     "output_type": "stream",
     "text": [
      "Succesfully connect\n",
      "####################\n",
      "DROP TABLE succesfully\n",
      "Succesfully connect\n",
      "####################\n",
      "CREATE TABLE succesfully\n"
     ]
    }
   ],
   "source": [
    "# Создание таблицы channels\n",
    "\n",
    "push('DROP TABLE IF EXISTS `channels`;')\n",
    "\n",
    "create_table_query = \"\"\"\n",
    "CREATE TABLE channels (\n",
    "    id SERIAL,\n",
    "    title VARCHAR(45),\n",
    "    icon VARCHAR(45),\n",
    "    invite_link VARCHAR(100),\n",
    "    settings JSON,\n",
    "    owner_user_id BIGINT UNSIGNED NOT NULL,\n",
    "    is_private BIT,\n",
    "    created_at DATETIME DEFAULT NOW(),\n",
    "    \n",
    "    FOREIGN KEY (owner_user_id) REFERENCES users (id)    \n",
    ");\n",
    "\"\"\"\n",
    "push(create_table_query)"
   ]
  },
  {
   "cell_type": "code",
   "execution_count": null,
   "metadata": {},
   "outputs": [
    {
     "name": "stdout",
     "output_type": "stream",
     "text": [
      "Succesfully connect\n",
      "####################\n",
      "DROP TABLE succesfully\n",
      "Succesfully connect\n",
      "####################\n",
      "CREATE TABLE succesfully\n"
     ]
    }
   ],
   "source": [
    "# Создание таблицы group_messages\n",
    "\n",
    "push('DROP TABLE IF EXISTS `channel_subscribers`;')\n",
    "\n",
    "\n",
    "# M x M\n",
    "create_table_query = \"\"\"\n",
    "CREATE TABLE channel_subscribers (\n",
    "    channel_id BIGINT UNSIGNED NOT NULL,\n",
    "    user_id BIGINT UNSIGNED NOT NULL,\n",
    "    status ENUM('requested', 'joined', 'left'),\n",
    "    created_at DATETIME DEFAULT NOW(),\n",
    "    updated_at DATETIME ON UPDATE CURRENT_TIMESTAMP,\n",
    "\n",
    "    PRIMARY KEY (user_id, channel_id),\n",
    "    FOREIGN KEY (user_id) REFERENCES users (id),\n",
    "    FOREIGN KEY (channel_id) REFERENCES channels (id)\n",
    ");\n",
    "\"\"\"\n",
    "push(create_table_query)"
   ]
  },
  {
   "cell_type": "code",
   "execution_count": null,
   "metadata": {},
   "outputs": [],
   "source": []
  },
  {
   "cell_type": "code",
   "execution_count": null,
   "metadata": {},
   "outputs": [],
   "source": []
  }
 ],
 "metadata": {
  "kernelspec": {
   "display_name": "base",
   "language": "python",
   "name": "python3"
  },
  "language_info": {
   "codemirror_mode": {
    "name": "ipython",
    "version": 3
   },
   "file_extension": ".py",
   "mimetype": "text/x-python",
   "name": "python",
   "nbconvert_exporter": "python",
   "pygments_lexer": "ipython3",
   "version": "3.12.0"
  }
 },
 "nbformat": 4,
 "nbformat_minor": 2
}
