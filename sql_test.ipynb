{
 "cells": [
  {
   "cell_type": "code",
   "execution_count": 154,
   "metadata": {},
   "outputs": [],
   "source": [
    "import pymysql\n",
    "import pandas as pd"
   ]
  },
  {
   "cell_type": "code",
   "execution_count": 155,
   "metadata": {},
   "outputs": [],
   "source": [
    "def push(query):\n",
    "    try:\n",
    "        connection = pymysql.connect(\n",
    "            host='localhost',\n",
    "            port=3306,\n",
    "            user='root',\n",
    "            password='lolik`12*-',\n",
    "            database='stepik',\n",
    "            cursorclass=pymysql.cursors.DictCursor,\n",
    "        )\n",
    "        print('Succesfully connect')\n",
    "        print('#' * 20)\n",
    "\n",
    "        try:\n",
    "            with connection.cursor() as cursor:\n",
    "                cursor.execute(query)\n",
    "                print(f'{' '.join(query.split()[:2])} succesfully')\n",
    "                if query.split()[0].lower() == 'select':\n",
    "                    return cursor\n",
    "                if query.split()[0].lower() in ['insert', 'update', 'delete']:\n",
    "                    connection.commit()\n",
    "\n",
    "        finally:\n",
    "            connection.close()\n",
    "\n",
    "    except Exception as ex:\n",
    "        print('Connection refused...')\n",
    "        print(ex)"
   ]
  },
  {
   "cell_type": "code",
   "execution_count": 156,
   "metadata": {},
   "outputs": [],
   "source": [
    "# drop_table_query = 'DROP TABLE IF EXISTS `users`'\n",
    "# push(drop_table_query)"
   ]
  },
  {
   "cell_type": "code",
   "execution_count": 157,
   "metadata": {},
   "outputs": [
    {
     "name": "stdout",
     "output_type": "stream",
     "text": [
      "Succesfully connect\n",
      "####################\n",
      "Connection refused...\n",
      "(1050, \"Table 'users' already exists\")\n"
     ]
    }
   ],
   "source": [
    "create_table_query = \"\"\"\n",
    "CREATE TABLE `users`(\n",
    "    `id` BIGINT UNSIGNED NOT NULL AUTO_INCREMENT PRIMARY KEY,\n",
    "    firstname VARCHAR(100),\n",
    "    lastname VARCHAR(100) COMMENT 'фамилия',\n",
    "    login VARCHAR(100),\n",
    "    email VARCHAR(100) UNIQUE,\n",
    "    password_hash VARCHAR(256),\n",
    "    phone BIGINT UNSIGNED UNIQUE,\n",
    "    INDEX idx_users_username(firstname, lastname)\n",
    ") COMMENT 'пользователи';\"\"\"\n",
    "\n",
    "push(create_table_query)"
   ]
  },
  {
   "cell_type": "code",
   "execution_count": 158,
   "metadata": {},
   "outputs": [],
   "source": [
    "# drop_table_query = 'DROP TABLE IF EXISTS `user_settings`'\n",
    "# push(drop_table_query)"
   ]
  },
  {
   "cell_type": "code",
   "execution_count": 159,
   "metadata": {},
   "outputs": [
    {
     "name": "stdout",
     "output_type": "stream",
     "text": [
      "Succesfully connect\n",
      "####################\n",
      "Connection refused...\n",
      "(1050, \"Table 'user_settings' already exists\")\n"
     ]
    }
   ],
   "source": [
    "create_table_query = \"\"\"\n",
    "CREATE TABLE user_settings(\n",
    "    user_id BIGINT UNSIGNED NOT NULL,\n",
    "    is_premium_account BIT,\n",
    "    is_night_mode_enabled BIT,\n",
    "    color_scheme ENUM('classic', 'day', 'tinted', 'night'),\n",
    "    LANGUAGE ENUM('english', 'french', 'russian', 'german', 'belorussian', 'croatian', 'dutch'),\n",
    "    status_text VARCHAR(70),\n",
    "    notifications_and_sounds JSON,\n",
    "    created_at DATETIME DEFAULT NOW()\n",
    ");\"\"\"\n",
    "\n",
    "push(create_table_query)"
   ]
  },
  {
   "cell_type": "code",
   "execution_count": 160,
   "metadata": {},
   "outputs": [
    {
     "name": "stdout",
     "output_type": "stream",
     "text": [
      "Succesfully connect\n",
      "####################\n",
      "Connection refused...\n",
      "(1826, \"Duplicate foreign key constraint name 'fk_user_settings_user_id'\")\n"
     ]
    }
   ],
   "source": [
    "create_table_query = \"\"\"\n",
    "ALTER TABLE user_settings ADD CONSTRAINT fk_user_settings_user_id\n",
    "FOREIGN KEY (user_id) REFERENCES users(id)\n",
    "ON UPDATE CASCADE\n",
    "ON DELETE RESTRICT;\n",
    "\"\"\"\n",
    "\n",
    "push(create_table_query)"
   ]
  },
  {
   "cell_type": "code",
   "execution_count": 161,
   "metadata": {},
   "outputs": [
    {
     "name": "stdout",
     "output_type": "stream",
     "text": [
      "Succesfully connect\n",
      "####################\n",
      "INSERT INTO succesfully\n"
     ]
    }
   ],
   "source": [
    "insert_query = \"\"\"INSERT INTO users (id, firstname, lastname, email, phone) VALUES ('2', 'Kelsie', 'Olson', 'xheidenereich@example.net', '9548489264');\"\"\"\n",
    "push(insert_query)"
   ]
  },
  {
   "cell_type": "code",
   "execution_count": 162,
   "metadata": {},
   "outputs": [
    {
     "name": "stdout",
     "output_type": "stream",
     "text": [
      "Succesfully connect\n",
      "####################\n",
      "SELECT * succesfully\n",
      "{'id': 2, 'firstname': 'Kelsie', 'lastname': 'Olson', 'login': None, 'email': 'xheidenereich@example.net', 'password_hash': None, 'phone': 9548489264}\n"
     ]
    }
   ],
   "source": [
    "select_query = 'SELECT * FROM users'\n",
    "rows = push(select_query).fetchall()\n",
    "for row in rows:\n",
    "    print(row)"
   ]
  },
  {
   "cell_type": "code",
   "execution_count": 163,
   "metadata": {},
   "outputs": [
    {
     "name": "stdout",
     "output_type": "stream",
     "text": [
      "Succesfully connect\n",
      "####################\n",
      "DELETE FROM succesfully\n"
     ]
    }
   ],
   "source": [
    "drop_row_query = 'DELETE FROM users WHERE id IN (1, 2)'\n",
    "push(drop_row_query)"
   ]
  },
  {
   "cell_type": "code",
   "execution_count": null,
   "metadata": {},
   "outputs": [],
   "source": []
  }
 ],
 "metadata": {
  "kernelspec": {
   "display_name": "base",
   "language": "python",
   "name": "python3"
  },
  "language_info": {
   "codemirror_mode": {
    "name": "ipython",
    "version": 3
   },
   "file_extension": ".py",
   "mimetype": "text/x-python",
   "name": "python",
   "nbconvert_exporter": "python",
   "pygments_lexer": "ipython3",
   "version": "3.12.7"
  }
 },
 "nbformat": 4,
 "nbformat_minor": 2
}
