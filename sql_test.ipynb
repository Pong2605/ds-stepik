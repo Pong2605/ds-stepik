{
 "cells": [
  {
   "cell_type": "code",
   "execution_count": null,
   "metadata": {},
   "outputs": [],
   "source": [
    "import pymysql\n",
    "import pandas as pd"
   ]
  },
  {
   "cell_type": "code",
   "execution_count": 1,
   "metadata": {},
   "outputs": [],
   "source": [
    "def push(query):\n",
    "    try:\n",
    "        connection = pymysql.connect(\n",
    "            host='localhost',\n",
    "            port=3306,\n",
    "            user='root',\n",
    "            password='lolik`12*-',\n",
    "            database='stepik',\n",
    "            cursorclass=pymysql.cursors.DictCursor,\n",
    "        )\n",
    "        print('Succesfully connect')\n",
    "        print('#' * 20)\n",
    "\n",
    "        try:\n",
    "            with connection.cursor() as cursor:\n",
    "                cursor.execute(query)\n",
    "                print(f'{' '.join(query.split()[:2])} succesfully')\n",
    "                if query.split()[0].lower() in ['select', 'show']:\n",
    "                    return cursor\n",
    "                if query.split()[0].lower() in ['insert', 'update', 'delete']:\n",
    "                    connection.commit()\n",
    "\n",
    "        finally:\n",
    "            connection.close()\n",
    "\n",
    "    except Exception as ex:\n",
    "        print('Connection refused...')\n",
    "        print(ex)"
   ]
  },
  {
   "cell_type": "code",
   "execution_count": 2,
   "metadata": {},
   "outputs": [],
   "source": [
    "# Команды из набора DDL – Data Definition Language (язык описания данных):\n",
    "# ALTER\n",
    "# CREATE\n",
    "# DROP\n",
    "\n",
    "# Команды из набора DML – Data Manipulation Language (язык манипулирования данными):\n",
    "# SELECT – выборка данных\n",
    "# INSERT – вставка новых данных\n",
    "# UPDATE – обновление данных\n",
    "# DELETE – удаление данных\n",
    "# MERGE – слияние данных"
   ]
  },
  {
   "cell_type": "markdown",
   "metadata": {},
   "source": [
    "# 2. Проектирование БД (команды DDL)"
   ]
  },
  {
   "cell_type": "code",
   "execution_count": 3,
   "metadata": {},
   "outputs": [
    {
     "name": "stdout",
     "output_type": "stream",
     "text": [
      "Connection refused...\n",
      "name 'pymysql' is not defined\n",
      "Connection refused...\n",
      "name 'pymysql' is not defined\n",
      "Connection refused...\n",
      "name 'pymysql' is not defined\n",
      "Connection refused...\n",
      "name 'pymysql' is not defined\n",
      "Connection refused...\n",
      "name 'pymysql' is not defined\n",
      "Connection refused...\n",
      "name 'pymysql' is not defined\n",
      "Connection refused...\n",
      "name 'pymysql' is not defined\n",
      "Connection refused...\n",
      "name 'pymysql' is not defined\n",
      "Connection refused...\n",
      "name 'pymysql' is not defined\n",
      "Connection refused...\n",
      "name 'pymysql' is not defined\n"
     ]
    }
   ],
   "source": [
    "# Удаление всех таблиц\n",
    "\n",
    "push('DROP TABLE IF EXISTS channel_subscribers')\n",
    "push('DROP TABLE IF EXISTS channels')\n",
    "push('DROP TABLE IF EXISTS group_messages')\n",
    "push('DROP TABLE IF EXISTS `groups`')\n",
    "push('DROP TABLE IF EXISTS private_messages')\n",
    "push('DROP TABLE IF EXISTS stories_likes')\n",
    "push('DROP TABLE IF EXISTS stories')\n",
    "push('DROP TABLE IF EXISTS user_settings')\n",
    "push('DROP TABLE IF EXISTS languages')\n",
    "push('DROP TABLE IF EXISTS users')"
   ]
  },
  {
   "cell_type": "code",
   "execution_count": 4,
   "metadata": {},
   "outputs": [
    {
     "name": "stdout",
     "output_type": "stream",
     "text": [
      "Connection refused...\n",
      "name 'pymysql' is not defined\n"
     ]
    }
   ],
   "source": [
    "# Создание таблицы users\n",
    "create_table_query = \"\"\"\n",
    "CREATE TABLE users(\n",
    "    id BIGINT UNSIGNED NOT NULL AUTO_INCREMENT PRIMARY KEY,\n",
    "    firstname VARCHAR(100),\n",
    "    lastname VARCHAR(100) COMMENT 'фамилия',\n",
    "    login VARCHAR(100),\n",
    "    email VARCHAR(100) UNIQUE,\n",
    "    password_hash VARCHAR(256),\n",
    "    phone BIGINT UNSIGNED UNIQUE,\n",
    "    birthday DATE,\n",
    "    \n",
    "    INDEX idx_users_username(firstname, lastname)\n",
    ") COMMENT 'пользователи';\"\"\"\n",
    "\n",
    "push(create_table_query)"
   ]
  },
  {
   "cell_type": "code",
   "execution_count": 5,
   "metadata": {},
   "outputs": [
    {
     "name": "stdout",
     "output_type": "stream",
     "text": [
      "Connection refused...\n",
      "name 'pymysql' is not defined\n"
     ]
    }
   ],
   "source": [
    "# Удаление таблицы\n",
    "drop_table_query = 'DROP TABLE IF EXISTS user_settings'\n",
    "push(drop_table_query)"
   ]
  },
  {
   "cell_type": "code",
   "execution_count": 6,
   "metadata": {},
   "outputs": [
    {
     "name": "stdout",
     "output_type": "stream",
     "text": [
      "Connection refused...\n",
      "name 'pymysql' is not defined\n"
     ]
    }
   ],
   "source": [
    "# Создание таблицы user_settings\n",
    "\n",
    "# 1 x 1\n",
    "create_table_query = \"\"\"\n",
    "CREATE TABLE user_settings(\n",
    "    user_id BIGINT UNSIGNED NOT NULL,\n",
    "    is_premium_account BIT,\n",
    "    is_night_mode_enabled BIT,\n",
    "    color_scheme ENUM('classic', 'day', 'tinted', 'night'),\n",
    "    LANGUAGE ENUM('english', 'french', 'russian', 'german', 'belorussian', 'croatian', 'dutch'),\n",
    "    status_text VARCHAR(70),\n",
    "    notifications_and_sounds JSON,\n",
    "    created_at DATETIME DEFAULT NOW()\n",
    ");\"\"\"\n",
    "\n",
    "push(create_table_query)"
   ]
  },
  {
   "cell_type": "code",
   "execution_count": 7,
   "metadata": {},
   "outputs": [
    {
     "name": "stdout",
     "output_type": "stream",
     "text": [
      "Connection refused...\n",
      "name 'pymysql' is not defined\n"
     ]
    }
   ],
   "source": [
    "# Создание связи с таблицами user_settings и users\n",
    "alter_table_query = \"\"\"\n",
    "ALTER TABLE user_settings ADD CONSTRAINT fk_user_settings_user_id\n",
    "FOREIGN KEY (user_id) REFERENCES users(id)\n",
    "ON UPDATE CASCADE\n",
    "ON DELETE RESTRICT;\n",
    "\"\"\"\n",
    "\n",
    "push(alter_table_query)"
   ]
  },
  {
   "cell_type": "code",
   "execution_count": 8,
   "metadata": {},
   "outputs": [
    {
     "name": "stdout",
     "output_type": "stream",
     "text": [
      "Connection refused...\n",
      "name 'pymysql' is not defined\n"
     ]
    }
   ],
   "source": [
    "# Добавление строки в таблицу users\n",
    "\n",
    "# insert_query = \"INSERT INTO users (id, firstname, lastname, email, phone) VALUES ('2', 'Kelsie', 'Olson', 'xheidenereich@example.net', '9548489264');\"\n",
    "\n",
    "# можно не указывать автоинкрементное (AUTO_INCREMENT) поле\n",
    "insert_query = \"\"\"INSERT INTO users (firstname, lastname, email, phone, birthday) VALUES\n",
    "('Ozella', 'Hauck', 'idickens@example.com', '9773438197', '1997-01-01'),\n",
    "('Emmet', 'Hammes', 'qcremin@example.org', '9694110645', '1993-01-01'),\n",
    "('Lori', 'Koch', 'damaris34@example.net', '9192291407', '1995-01-01'),\n",
    "('Sam', 'Kuphal', 'telly.miller@example.net', '9917826315', '1999-01-01');\"\"\"\n",
    "\n",
    "push(insert_query)"
   ]
  },
  {
   "cell_type": "code",
   "execution_count": 9,
   "metadata": {},
   "outputs": [
    {
     "name": "stdout",
     "output_type": "stream",
     "text": [
      "Connection refused...\n",
      "name 'pymysql' is not defined\n"
     ]
    },
    {
     "ename": "AttributeError",
     "evalue": "'NoneType' object has no attribute 'fetchall'",
     "output_type": "error",
     "traceback": [
      "\u001b[1;31m---------------------------------------------------------------------------\u001b[0m",
      "\u001b[1;31mAttributeError\u001b[0m                            Traceback (most recent call last)",
      "Cell \u001b[1;32mIn[9], line 3\u001b[0m\n\u001b[0;32m      1\u001b[0m \u001b[38;5;66;03m# Запрос селект\u001b[39;00m\n\u001b[0;32m      2\u001b[0m select_query \u001b[38;5;241m=\u001b[39m \u001b[38;5;124m'\u001b[39m\u001b[38;5;124mSELECT * FROM users\u001b[39m\u001b[38;5;124m'\u001b[39m\n\u001b[1;32m----> 3\u001b[0m rows \u001b[38;5;241m=\u001b[39m push(select_query)\u001b[38;5;241m.\u001b[39mfetchall()\n\u001b[0;32m      4\u001b[0m \u001b[38;5;28;01mfor\u001b[39;00m row \u001b[38;5;129;01min\u001b[39;00m rows:\n\u001b[0;32m      5\u001b[0m     \u001b[38;5;28mprint\u001b[39m(row)\n",
      "\u001b[1;31mAttributeError\u001b[0m: 'NoneType' object has no attribute 'fetchall'"
     ]
    }
   ],
   "source": [
    "# Запрос селект\n",
    "select_query = 'SELECT * FROM users'\n",
    "rows = push(select_query).fetchall()\n",
    "for row in rows:\n",
    "    print(row)"
   ]
  },
  {
   "cell_type": "code",
   "execution_count": null,
   "metadata": {},
   "outputs": [
    {
     "name": "stdout",
     "output_type": "stream",
     "text": [
      "Succesfully connect\n",
      "####################\n",
      "DELETE FROM succesfully\n"
     ]
    }
   ],
   "source": [
    "# Удаление строк\n",
    "drop_row_query = 'DELETE FROM users WHERE id IN (1, 2)'\n",
    "push(drop_row_query)"
   ]
  },
  {
   "cell_type": "code",
   "execution_count": null,
   "metadata": {},
   "outputs": [
    {
     "name": "stdout",
     "output_type": "stream",
     "text": [
      "Succesfully connect\n",
      "####################\n",
      "Connection refused...\n",
      "(1060, \"Duplicate column name 'birthday'\")\n",
      "Succesfully connect\n",
      "####################\n",
      "ALTER TABLE succesfully\n",
      "Succesfully connect\n",
      "####################\n",
      "ALTER TABLE succesfully\n"
     ]
    }
   ],
   "source": [
    "# Добавление, изменение типа, переименование, удавление полей таблицы\n",
    "add_column_query = \"ALTER TABLE users ADD COLUMN birthday DATETIME\"\n",
    "push(add_column_query)\n",
    "\n",
    "modify_column_query = \"ALTER TABLE users MODIFY COLUMN birthday DATE\"\n",
    "push(modify_column_query)\n",
    "\n",
    "rename_column_query = \"ALTER TABLE users RENAME COLUMN birthday to date_of_birth\"\n",
    "push(rename_column_query)\n",
    "\n",
    "# drop_column_query = \"ALTER TABLE users DROP COLUMN date_of_birth\"\n",
    "# push(drop_column_query)"
   ]
  },
  {
   "cell_type": "code",
   "execution_count": null,
   "metadata": {},
   "outputs": [
    {
     "data": {
      "text/html": [
       "<div>\n",
       "<style scoped>\n",
       "    .dataframe tbody tr th:only-of-type {\n",
       "        vertical-align: middle;\n",
       "    }\n",
       "\n",
       "    .dataframe tbody tr th {\n",
       "        vertical-align: top;\n",
       "    }\n",
       "\n",
       "    .dataframe thead th {\n",
       "        text-align: right;\n",
       "    }\n",
       "</style>\n",
       "<table border=\"1\" class=\"dataframe\">\n",
       "  <thead>\n",
       "    <tr style=\"text-align: right;\">\n",
       "      <th></th>\n",
       "      <th>id</th>\n",
       "      <th>firstname</th>\n",
       "      <th>lastname</th>\n",
       "      <th>login</th>\n",
       "      <th>email</th>\n",
       "      <th>password_hash</th>\n",
       "      <th>phone</th>\n",
       "      <th>birthday</th>\n",
       "    </tr>\n",
       "  </thead>\n",
       "  <tbody>\n",
       "    <tr>\n",
       "      <th>0</th>\n",
       "      <td>1</td>\n",
       "      <td>Ozella</td>\n",
       "      <td>Hauck</td>\n",
       "      <td>None</td>\n",
       "      <td>idickens@example.com</td>\n",
       "      <td>None</td>\n",
       "      <td>9773438197</td>\n",
       "      <td>1997-01-01</td>\n",
       "    </tr>\n",
       "    <tr>\n",
       "      <th>1</th>\n",
       "      <td>2</td>\n",
       "      <td>Emmet</td>\n",
       "      <td>Hammes</td>\n",
       "      <td>None</td>\n",
       "      <td>qcremin@example.org</td>\n",
       "      <td>None</td>\n",
       "      <td>9694110645</td>\n",
       "      <td>1993-01-01</td>\n",
       "    </tr>\n",
       "    <tr>\n",
       "      <th>2</th>\n",
       "      <td>3</td>\n",
       "      <td>Lori</td>\n",
       "      <td>Koch</td>\n",
       "      <td>None</td>\n",
       "      <td>damaris34@example.net</td>\n",
       "      <td>None</td>\n",
       "      <td>9192291407</td>\n",
       "      <td>1995-01-01</td>\n",
       "    </tr>\n",
       "    <tr>\n",
       "      <th>3</th>\n",
       "      <td>4</td>\n",
       "      <td>Sam</td>\n",
       "      <td>Kuphal</td>\n",
       "      <td>None</td>\n",
       "      <td>telly.miller@example.net</td>\n",
       "      <td>None</td>\n",
       "      <td>9917826315</td>\n",
       "      <td>1999-01-01</td>\n",
       "    </tr>\n",
       "  </tbody>\n",
       "</table>\n",
       "</div>"
      ],
      "text/plain": [
       "   id firstname lastname login                     email password_hash  \\\n",
       "0   1    Ozella    Hauck  None      idickens@example.com          None   \n",
       "1   2     Emmet   Hammes  None       qcremin@example.org          None   \n",
       "2   3      Lori     Koch  None     damaris34@example.net          None   \n",
       "3   4       Sam   Kuphal  None  telly.miller@example.net          None   \n",
       "\n",
       "        phone    birthday  \n",
       "0  9773438197  1997-01-01  \n",
       "1  9694110645  1993-01-01  \n",
       "2  9192291407  1995-01-01  \n",
       "3  9917826315  1999-01-01  "
      ]
     },
     "execution_count": 4417,
     "metadata": {},
     "output_type": "execute_result"
    }
   ],
   "source": [
    "pd.DataFrame(rows)"
   ]
  },
  {
   "cell_type": "code",
   "execution_count": null,
   "metadata": {},
   "outputs": [
    {
     "name": "stdout",
     "output_type": "stream",
     "text": [
      "Succesfully connect\n",
      "####################\n",
      "ALTER TABLE succesfully\n",
      "Succesfully connect\n",
      "####################\n",
      "ALTER TABLE succesfully\n"
     ]
    }
   ],
   "source": [
    "# Изменение полей в user_settings\n",
    "add_property_query = \"ALTER TABLE user_settings ADD PRIMARY KEY (user_id)\"\n",
    "push(add_property_query)\n",
    "\n",
    "# modify_column_query = \"ALTER TABLE user_settings MODIFY COLUMN user_id BIGINT UNSIGNED NOT NULL PRIMATY KEY\"\n",
    "# push(modify_column_query)\n",
    "\n",
    "rename_column_query = \"ALTER TABLE user_settings RENAME COLUMN LANGUAGE to app_language\"\n",
    "push(rename_column_query)"
   ]
  },
  {
   "cell_type": "code",
   "execution_count": null,
   "metadata": {},
   "outputs": [
    {
     "name": "stdout",
     "output_type": "stream",
     "text": [
      "Succesfully connect\n",
      "####################\n",
      "DROP TABLE succesfully\n",
      "Succesfully connect\n",
      "####################\n",
      "CREATE TABLE succesfully\n"
     ]
    }
   ],
   "source": [
    "# Создание таблицы private_messages\n",
    "\n",
    "push('DROP TABLE IF EXISTS private_messages;')\n",
    "\n",
    "# 1 x M\n",
    "create_table_query = \"\"\"\n",
    "CREATE TABLE private_messages(\n",
    "    id SERIAL,\n",
    "    sender_id BIGINT UNSIGNED NOT NULL,\n",
    "    receiver_id BIGINT UNSIGNED NOT NULL,\n",
    "    reply_to_id BIGINT UNSIGNED NULL,\n",
    "    media_type ENUM('text', 'image', 'audio', 'video'),\n",
    "    body TEXT,\n",
    "    filename VARCHAR(200),\n",
    "    created_at DATETIME DEFAULT NOW(),\n",
    "\n",
    "    FOREIGN KEY (sender_id) REFERENCES users(id),\n",
    "    FOREIGN KEY (receiver_id) REFERENCES users(id),\n",
    "    FOREIGN KEY (reply_to_id) REFERENCES private_messages(id)\n",
    ");\n",
    "\"\"\"\n",
    "push(create_table_query)"
   ]
  },
  {
   "cell_type": "code",
   "execution_count": null,
   "metadata": {},
   "outputs": [
    {
     "name": "stdout",
     "output_type": "stream",
     "text": [
      "Succesfully connect\n",
      "####################\n",
      "DROP TABLE succesfully\n",
      "Succesfully connect\n",
      "####################\n",
      "CREATE TABLE succesfully\n"
     ]
    }
   ],
   "source": [
    "# Создание таблицы groups\n",
    "\n",
    "push('DROP TABLE IF EXISTS `groups`;')\n",
    "\n",
    "create_table_query = \"\"\"\n",
    "CREATE TABLE `groups` (\n",
    "    id SERIAL,\n",
    "    title VARCHAR(45),\n",
    "    icon VARCHAR(45),\n",
    "    invite_link VARCHAR(100),\n",
    "    settings JSON,\n",
    "    owner_user_id BIGINT UNSIGNED NOT NULL,\n",
    "    is_private BIT,\n",
    "    created_at DATETIME DEFAULT NOW(),\n",
    "\n",
    "    FOREIGN KEY (owner_user_id) REFERENCES users (id)\n",
    ");\n",
    "\"\"\"\n",
    "\n",
    "push(create_table_query)"
   ]
  },
  {
   "cell_type": "code",
   "execution_count": null,
   "metadata": {},
   "outputs": [
    {
     "name": "stdout",
     "output_type": "stream",
     "text": [
      "Succesfully connect\n",
      "####################\n",
      "DROP TABLE succesfully\n",
      "Succesfully connect\n",
      "####################\n",
      "CREATE TABLE succesfully\n"
     ]
    }
   ],
   "source": [
    "# Создание таблицы group_messages\n",
    "\n",
    "push('DROP TABLE IF EXISTS `group_messages`;')\n",
    "\n",
    "create_table_query = \"\"\"\n",
    "CREATE TABLE `group_messages` (\n",
    "    id SERIAL,\n",
    "    group_id BIGINT UNSIGNED NOT NULL,\n",
    "    sender_id BIGINT UNSIGNED NOT NULL,\n",
    "    reply_to_id BIGINT UNSIGNED NULL,\n",
    "    media_type ENUM('text', 'image', 'audio', 'video'),\n",
    "    body TEXT,\n",
    "    filename VARCHAR(100) NULL,\n",
    "    created_at DATETIME DEFAULT NOW(),\n",
    "\n",
    "    FOREIGN KEY (sender_id) REFERENCES users (id),\n",
    "    FOREIGN KEY (group_id) REFERENCES `groups` (id),\n",
    "    FOREIGN KEY (reply_to_id) REFERENCES group_messages (id)\n",
    ");\n",
    "\"\"\"\n",
    "push(create_table_query)"
   ]
  },
  {
   "cell_type": "code",
   "execution_count": null,
   "metadata": {},
   "outputs": [
    {
     "name": "stdout",
     "output_type": "stream",
     "text": [
      "Succesfully connect\n",
      "####################\n",
      "DROP TABLE succesfully\n",
      "Succesfully connect\n",
      "####################\n",
      "CREATE TABLE succesfully\n"
     ]
    }
   ],
   "source": [
    "# Создание таблицы channels\n",
    "\n",
    "push('DROP TABLE IF EXISTS `channels`;')\n",
    "\n",
    "create_table_query = \"\"\"\n",
    "CREATE TABLE channels (\n",
    "    id SERIAL,\n",
    "    title VARCHAR(45),\n",
    "    icon VARCHAR(45),\n",
    "    invite_link VARCHAR(100),\n",
    "    settings JSON,\n",
    "    owner_user_id BIGINT UNSIGNED NOT NULL,\n",
    "    is_private BIT,\n",
    "    created_at DATETIME DEFAULT NOW(),\n",
    "    \n",
    "    FOREIGN KEY (owner_user_id) REFERENCES users (id)    \n",
    ");\n",
    "\"\"\"\n",
    "push(create_table_query)"
   ]
  },
  {
   "cell_type": "code",
   "execution_count": null,
   "metadata": {},
   "outputs": [
    {
     "name": "stdout",
     "output_type": "stream",
     "text": [
      "Succesfully connect\n",
      "####################\n",
      "DROP TABLE succesfully\n",
      "Succesfully connect\n",
      "####################\n",
      "CREATE TABLE succesfully\n"
     ]
    }
   ],
   "source": [
    "# Создание таблицы group_messages\n",
    "\n",
    "push('DROP TABLE IF EXISTS `channel_subscribers`;')\n",
    "\n",
    "# M x M\n",
    "create_table_query = \"\"\"\n",
    "CREATE TABLE channel_subscribers (\n",
    "    channel_id BIGINT UNSIGNED NOT NULL,\n",
    "    user_id BIGINT UNSIGNED NOT NULL,\n",
    "    status ENUM('requested', 'joined', 'left'),\n",
    "    created_at DATETIME DEFAULT NOW(),\n",
    "    updated_at DATETIME ON UPDATE CURRENT_TIMESTAMP,\n",
    "\n",
    "    PRIMARY KEY (user_id, channel_id),\n",
    "    FOREIGN KEY (user_id) REFERENCES users (id),\n",
    "    FOREIGN KEY (channel_id) REFERENCES channels (id)\n",
    ");\n",
    "\"\"\"\n",
    "push(create_table_query)"
   ]
  },
  {
   "cell_type": "code",
   "execution_count": null,
   "metadata": {},
   "outputs": [
    {
     "name": "stdout",
     "output_type": "stream",
     "text": [
      "Succesfully connect\n",
      "####################\n",
      "DROP TABLE succesfully\n",
      "Succesfully connect\n",
      "####################\n",
      "CREATE TABLE succesfully\n"
     ]
    }
   ],
   "source": [
    "# Создание таблицы group_messages\n",
    "\n",
    "push('DROP TABLE IF EXISTS stories;')\n",
    "\n",
    "create_table_query = \"\"\"\n",
    "CREATE TABLE stories (\n",
    "    id SERIAL,\n",
    "    user_id BIGINT UNSIGNED NOT NULL,\n",
    "    caption VARCHAR(140),\n",
    "    filename VARCHAR(100),\n",
    "    views_count INT UNSIGNED,\n",
    "    created_at DATETIME DEFAULT NOW(),\n",
    "\n",
    "    FOREIGN KEY (user_id) REFERENCES users (id)\n",
    ");\n",
    "\"\"\"\n",
    "push(create_table_query)"
   ]
  },
  {
   "cell_type": "code",
   "execution_count": null,
   "metadata": {},
   "outputs": [
    {
     "name": "stdout",
     "output_type": "stream",
     "text": [
      "Succesfully connect\n",
      "####################\n",
      "DROP TABLE succesfully\n",
      "Succesfully connect\n",
      "####################\n",
      "CREATE TABLE succesfully\n"
     ]
    }
   ],
   "source": [
    "# Создание таблицы group_messages\n",
    "\n",
    "push('DROP TABLE IF EXISTS stories_likes;')\n",
    "\n",
    "create_table_query = \"\"\"\n",
    "CREATE TABLE stories_likes (\n",
    "\tid SERIAL,\n",
    "\tstory_id BIGINT UNSIGNED NOT NULL,\n",
    "\tuser_id BIGINT UNSIGNED NOT NULL,\n",
    "\tcreated_at DATETIME DEFAULT NOW(),\n",
    "\n",
    "\tFOREIGN KEY (user_id) REFERENCES users (id),\t\t\n",
    "\tFOREIGN KEY (story_id) REFERENCES stories (id)\n",
    ");\"\"\"\n",
    "\n",
    "push(create_table_query)"
   ]
  },
  {
   "cell_type": "code",
   "execution_count": null,
   "metadata": {},
   "outputs": [],
   "source": [
    "# В связи с активным развитием проекта принято архитектурное решение вынести информацию о языках приложения \n",
    "# из поля app_language в таблице user_settings в отдельную таблицу-справочник языков.\n",
    "\n",
    "# Архитектор обосновывает решение тем, что при добавлении нового языка в платформу проще добавить новую строку в таблицу, \n",
    "# чем изменять существующее поле в таблице."
   ]
  },
  {
   "cell_type": "code",
   "execution_count": null,
   "metadata": {},
   "outputs": [
    {
     "name": "stdout",
     "output_type": "stream",
     "text": [
      "Succesfully connect\n",
      "####################\n",
      "DROP TABLE succesfully\n",
      "Succesfully connect\n",
      "####################\n",
      "CREATE TABLE succesfully\n"
     ]
    }
   ],
   "source": [
    "# Сначала создадим таблицу languages.\n",
    "\n",
    "# Поля:\n",
    "# id - целочисленный первичный ключ (для простоты договоримся использовать псевдотип SERIAL)\n",
    "# name - строка, название языка (содержит только уникальные значения, не может быть пустым)\n",
    "\n",
    "push('DROP TABLE IF EXISTS languages;')\n",
    "\n",
    "create_table_query = \"\"\"\n",
    "CREATE TABLE languages (\n",
    "    id SERIAL,\n",
    "    name VARCHAR(100) NOT NULL UNIQUE\n",
    ");\n",
    "\"\"\"\n",
    "\n",
    "push(create_table_query)"
   ]
  },
  {
   "cell_type": "code",
   "execution_count": null,
   "metadata": {},
   "outputs": [
    {
     "name": "stdout",
     "output_type": "stream",
     "text": [
      "Succesfully connect\n",
      "####################\n",
      "ALTER TABLE succesfully\n"
     ]
    }
   ],
   "source": [
    "# Теперь добавим новое поле language_id в таблицу user_settings.\n",
    "# Тип данных нового поля должен строго совпадать с полем id в таблице languages.\n",
    "\n",
    "add_column_query = \"\"\"\n",
    "ALTER TABLE user_settings \n",
    "ADD COLUMN language_id BIGINT UNSIGNED;\n",
    "\"\"\"\n",
    "\n",
    "push(add_column_query)"
   ]
  },
  {
   "cell_type": "code",
   "execution_count": null,
   "metadata": {},
   "outputs": [
    {
     "name": "stdout",
     "output_type": "stream",
     "text": [
      "Succesfully connect\n",
      "####################\n",
      "ALTER TABLE succesfully\n"
     ]
    }
   ],
   "source": [
    "# Теперь необходимо сделать поле language_id в таблице user_settings внешним ключом, \n",
    "# ссылающимся на идентификатор строки в таблице languages.\n",
    "\n",
    "add_foreign_key_query = \"\"\"\n",
    "ALTER TABLE user_settings\n",
    "ADD CONSTRAINT fk_language_id_id\n",
    "FOREIGN KEY (language_id) REFERENCES languages(id)\n",
    "ON DELETE CASCADE\n",
    "ON UPDATE CASCADE;\n",
    "\"\"\"\n",
    "\n",
    "push(add_foreign_key_query)"
   ]
  },
  {
   "cell_type": "code",
   "execution_count": null,
   "metadata": {},
   "outputs": [
    {
     "name": "stdout",
     "output_type": "stream",
     "text": [
      "Succesfully connect\n",
      "####################\n",
      "ALTER TABLE succesfully\n"
     ]
    }
   ],
   "source": [
    "# Другие люди заполнили таблицу languages нужными данными и проставили правильные значения в поле language_id.\n",
    "# Осталось удалить поле app_language из таблицы user_settings, потому что теперь оно лишь дублирует новый функционал.\n",
    "\n",
    "drop_column_query = \"\"\"\n",
    "ALTER TABLE user_settings\n",
    "DROP COLUMN app_language;\n",
    "\"\"\"\n",
    "\n",
    "push(drop_column_query)"
   ]
  },
  {
   "cell_type": "markdown",
   "metadata": {},
   "source": [
    "# 3. Работа с данными (команды DML, CRUD)"
   ]
  },
  {
   "cell_type": "markdown",
   "metadata": {},
   "source": [
    "## 3.1  Команда INSERT"
   ]
  },
  {
   "cell_type": "code",
   "execution_count": null,
   "metadata": {},
   "outputs": [
    {
     "name": "stdout",
     "output_type": "stream",
     "text": [
      "Succesfully connect\n",
      "####################\n",
      "Connection refused...\n",
      "(1701, 'Cannot truncate a table referenced in a foreign key constraint (`stepik`.`user_settings`, CONSTRAINT `fk_user_settings_user_id`)')\n"
     ]
    }
   ],
   "source": [
    "# Очистка таблицы (пересоздаем)\n",
    "\n",
    "truncate_query = 'TRUNCATE users'\n",
    "push(truncate_query)"
   ]
  },
  {
   "cell_type": "code",
   "execution_count": null,
   "metadata": {},
   "outputs": [
    {
     "name": "stdout",
     "output_type": "stream",
     "text": [
      "Succesfully connect\n",
      "####################\n",
      "INSERT INTO succesfully\n"
     ]
    }
   ],
   "source": [
    "# базовый вариант команды INSERT\n",
    "\n",
    "insert_query = \"\"\"\n",
    "INSERT INTO users (id, firstname, lastname, email, phone, date_of_birth)\n",
    "VALUES ('1', 'Kelsie', 'Olson', 'xheidenreich@example.net', '9548492646', '2000-01-01');\"\"\"\n",
    "\n",
    "push(insert_query)"
   ]
  },
  {
   "cell_type": "code",
   "execution_count": null,
   "metadata": {},
   "outputs": [
    {
     "name": "stdout",
     "output_type": "stream",
     "text": [
      "Succesfully connect\n",
      "####################\n",
      "INSERT INTO succesfully\n"
     ]
    }
   ],
   "source": [
    "# можно не указывать автоинкрементное (AUTO_INCREMENT) поле\n",
    "insert_query = \"\"\"\n",
    "INSERT INTO users (firstname, lastname, email, phone, date_of_birth)\n",
    "VALUES ('Celestino', 'Cruickshank', 'flavio.hammes2@example.com', '9686686722', '2011-01-01');\"\"\"\n",
    "\n",
    "push(insert_query)"
   ]
  },
  {
   "cell_type": "code",
   "execution_count": null,
   "metadata": {},
   "outputs": [
    {
     "name": "stdout",
     "output_type": "stream",
     "text": [
      "Succesfully connect\n",
      "####################\n",
      "INSERT INTO succesfully\n"
     ]
    }
   ],
   "source": [
    "# идентификаторы можно добавлять не по порядку\n",
    "insert_query = \"\"\"\n",
    "INSERT INTO users (id, firstname, lastname, email, phone, date_of_birth)\n",
    "VALUES ('93', 'Gregory', 'Jenkins', 'weimann.richard@example.com', '9860971258', '2011-01-01');\"\"\"\n",
    "\n",
    "push(insert_query)"
   ]
  },
  {
   "cell_type": "code",
   "execution_count": null,
   "metadata": {},
   "outputs": [
    {
     "name": "stdout",
     "output_type": "stream",
     "text": [
      "Succesfully connect\n",
      "####################\n",
      "ALTER TABLE succesfully\n"
     ]
    }
   ],
   "source": [
    "# добавим колонку is_deleted\n",
    "add_column_query = \"ALTER TABLE users ADD COLUMN is_deleted BIT DEFAULT 0;\"\n",
    "\n",
    "push(add_column_query)"
   ]
  },
  {
   "cell_type": "code",
   "execution_count": null,
   "metadata": {},
   "outputs": [],
   "source": [
    "# значение по умолчанию для поля is_deleted\n",
    "# insert_query = \"\"\"\n",
    "# INSERT INTO users (firstname, lastname, is_deleted)\n",
    "# VALUES ('Celestino', 'Cruickshank', DEFAULT);\"\"\"\n",
    "\n",
    "# push(insert_query)"
   ]
  },
  {
   "cell_type": "code",
   "execution_count": null,
   "metadata": {},
   "outputs": [
    {
     "name": "stdout",
     "output_type": "stream",
     "text": [
      "Succesfully connect\n",
      "####################\n"
     ]
    },
    {
     "name": "stdout",
     "output_type": "stream",
     "text": [
      "INSERT INTO succesfully\n"
     ]
    }
   ],
   "source": [
    "# не указываем имена полей - рабочий вариант\n",
    "insert_query = \"\"\"\n",
    "INSERT INTO users\n",
    "VALUES (101, 'Eleonore', 'Ward', NULL, 'antonietta333@example.com',DEFAULT, 9397815333, '2000-01-01', 0);\"\"\"\n",
    "\n",
    "push(insert_query)"
   ]
  },
  {
   "cell_type": "code",
   "execution_count": null,
   "metadata": {},
   "outputs": [
    {
     "name": "stdout",
     "output_type": "stream",
     "text": [
      "Succesfully connect\n",
      "####################\n",
      "Connection refused...\n",
      "(1062, \"Duplicate entry 'damaris34@example.net' for key 'users.email'\")\n"
     ]
    }
   ],
   "source": [
    "# пакетная вставка данных - работает быстро (одиночная вставка данных - работает медленно)\n",
    "insert_query = \"\"\"\n",
    "INSERT INTO users (firstname, lastname, email, phone, date_of_birth) VALUES\n",
    "('Ozella', 'Hauck', 'idickens@example.com', '9773438197', '1989-01-01'),\n",
    "('Emmet', 'Hammes', 'qcremin@example.org', '9694110645', '1991-01-01'),\n",
    "('Lori', 'Koch', 'damaris34@example.net', '9192291407', '1990-01-01'),\n",
    "('Sam', 'Kuphal', 'telly.miller@example.net', '9917826315', '1995-01-01');\"\"\"\n",
    "\n",
    "push(insert_query)"
   ]
  },
  {
   "cell_type": "code",
   "execution_count": null,
   "metadata": {},
   "outputs": [
    {
     "name": "stdout",
     "output_type": "stream",
     "text": [
      "Succesfully connect\n",
      "####################\n",
      "INSERT INTO succesfully\n"
     ]
    }
   ],
   "source": [
    "# второй вариант команды INSERT (можно вставить только 1 строку)\n",
    "insert_query = \"\"\"\n",
    "INSERT INTO users\n",
    "SET\n",
    "    firstname = 'Miguel',\n",
    "    lastname = 'Watsica',\n",
    "    email = 'hassan.kuphal@example.org',\n",
    "    login = 'hassan_kuphal',\n",
    "    phone = '9824696112'\n",
    ";\"\"\"\n",
    "\n",
    "push(insert_query)"
   ]
  },
  {
   "cell_type": "code",
   "execution_count": null,
   "metadata": {},
   "outputs": [
    {
     "name": "stdout",
     "output_type": "stream",
     "text": [
      "Succesfully connect\n",
      "####################\n",
      "INSERT INTO succesfully\n"
     ]
    }
   ],
   "source": [
    "# INSERT-SELECT\n",
    "insert_query = \"\"\"\n",
    "INSERT INTO users\n",
    "    (firstname, lastname, email, phone, date_of_birth)\n",
    "SELECT\n",
    "    'Sam2', 'Kuphal2', 'telly.miller222@example.net', '9917826222', '2021-01-01';\"\"\"\n",
    "\n",
    "push(insert_query)"
   ]
  },
  {
   "cell_type": "code",
   "execution_count": null,
   "metadata": {},
   "outputs": [
    {
     "name": "stdout",
     "output_type": "stream",
     "text": [
      "Succesfully connect\n",
      "####################\n",
      "INSERT INTO succesfully\n"
     ]
    }
   ],
   "source": [
    "# опция ON DUPLICATE KEY UPDATE позволяет выполнить обновление\n",
    "insert_query = \"\"\"\n",
    "INSERT INTO users (id, firstname, lastname, email, phone, date_of_birth)\n",
    "VALUES (2, 'Lucile', 'Rolfson', 'dbartell@example.net', 9258387168, '2021-01-01')\n",
    "ON DUPLICATE KEY UPDATE\n",
    "    firstname = 'Lucile',\n",
    "    lastname = 'Rolfson',\n",
    "    email = 'dbartell@example.net',\n",
    "    phone = 9258387168\n",
    ";\"\"\"\n",
    "\n",
    "push(insert_query)"
   ]
  },
  {
   "cell_type": "markdown",
   "metadata": {},
   "source": [
    "## 3.2 Команда SELECT"
   ]
  },
  {
   "cell_type": "code",
   "execution_count": null,
   "metadata": {},
   "outputs": [
    {
     "name": "stdout",
     "output_type": "stream",
     "text": [
      "Succesfully connect\n",
      "####################\n",
      "SELECT 'Hello succesfully\n"
     ]
    },
    {
     "data": {
      "text/plain": [
       "<pymysql.cursors.DictCursor at 0x1203036e510>"
      ]
     },
     "execution_count": 4442,
     "metadata": {},
     "output_type": "execute_result"
    }
   ],
   "source": [
    "# Вывод текста:\n",
    "select_query = \"SELECT 'Hello world';\"\n",
    "\n",
    "push(select_query)"
   ]
  },
  {
   "cell_type": "code",
   "execution_count": null,
   "metadata": {},
   "outputs": [
    {
     "name": "stdout",
     "output_type": "stream",
     "text": [
      "Succesfully connect\n",
      "####################\n",
      "SELECT * succesfully\n"
     ]
    },
    {
     "data": {
      "text/html": [
       "<div>\n",
       "<style scoped>\n",
       "    .dataframe tbody tr th:only-of-type {\n",
       "        vertical-align: middle;\n",
       "    }\n",
       "\n",
       "    .dataframe tbody tr th {\n",
       "        vertical-align: top;\n",
       "    }\n",
       "\n",
       "    .dataframe thead th {\n",
       "        text-align: right;\n",
       "    }\n",
       "</style>\n",
       "<table border=\"1\" class=\"dataframe\">\n",
       "  <thead>\n",
       "    <tr style=\"text-align: right;\">\n",
       "      <th></th>\n",
       "      <th>id</th>\n",
       "      <th>firstname</th>\n",
       "      <th>lastname</th>\n",
       "      <th>login</th>\n",
       "      <th>email</th>\n",
       "      <th>password_hash</th>\n",
       "      <th>phone</th>\n",
       "      <th>date_of_birth</th>\n",
       "      <th>is_deleted</th>\n",
       "    </tr>\n",
       "  </thead>\n",
       "  <tbody>\n",
       "    <tr>\n",
       "      <th>0</th>\n",
       "      <td>1</td>\n",
       "      <td>Kelsie</td>\n",
       "      <td>Olson</td>\n",
       "      <td>None</td>\n",
       "      <td>xheidenreich@example.net</td>\n",
       "      <td>None</td>\n",
       "      <td>9548492646</td>\n",
       "      <td>2000-01-01</td>\n",
       "      <td>b'\\x00'</td>\n",
       "    </tr>\n",
       "    <tr>\n",
       "      <th>1</th>\n",
       "      <td>2</td>\n",
       "      <td>Lucile</td>\n",
       "      <td>Rolfson</td>\n",
       "      <td>None</td>\n",
       "      <td>dbartell@example.net</td>\n",
       "      <td>None</td>\n",
       "      <td>9258387168</td>\n",
       "      <td>2021-01-01</td>\n",
       "      <td>b'\\x00'</td>\n",
       "    </tr>\n",
       "    <tr>\n",
       "      <th>2</th>\n",
       "      <td>3</td>\n",
       "      <td>Lori</td>\n",
       "      <td>Koch</td>\n",
       "      <td>None</td>\n",
       "      <td>damaris34@example.net</td>\n",
       "      <td>None</td>\n",
       "      <td>9192291407</td>\n",
       "      <td>1995-01-01</td>\n",
       "      <td>b'\\x00'</td>\n",
       "    </tr>\n",
       "    <tr>\n",
       "      <th>3</th>\n",
       "      <td>4</td>\n",
       "      <td>Sam</td>\n",
       "      <td>Kuphal</td>\n",
       "      <td>None</td>\n",
       "      <td>telly.miller@example.net</td>\n",
       "      <td>None</td>\n",
       "      <td>9917826315</td>\n",
       "      <td>1999-01-01</td>\n",
       "      <td>b'\\x00'</td>\n",
       "    </tr>\n",
       "    <tr>\n",
       "      <th>4</th>\n",
       "      <td>5</td>\n",
       "      <td>Celestino</td>\n",
       "      <td>Cruickshank</td>\n",
       "      <td>None</td>\n",
       "      <td>flavio.hammes2@example.com</td>\n",
       "      <td>None</td>\n",
       "      <td>9686686722</td>\n",
       "      <td>2011-01-01</td>\n",
       "      <td>b'\\x00'</td>\n",
       "    </tr>\n",
       "  </tbody>\n",
       "</table>\n",
       "</div>"
      ],
      "text/plain": [
       "   id  firstname     lastname login                       email password_hash  \\\n",
       "0   1     Kelsie        Olson  None    xheidenreich@example.net          None   \n",
       "1   2     Lucile      Rolfson  None        dbartell@example.net          None   \n",
       "2   3       Lori         Koch  None       damaris34@example.net          None   \n",
       "3   4        Sam       Kuphal  None    telly.miller@example.net          None   \n",
       "4   5  Celestino  Cruickshank  None  flavio.hammes2@example.com          None   \n",
       "\n",
       "        phone date_of_birth is_deleted  \n",
       "0  9548492646    2000-01-01    b'\\x00'  \n",
       "1  9258387168    2021-01-01    b'\\x00'  \n",
       "2  9192291407    1995-01-01    b'\\x00'  \n",
       "3  9917826315    1999-01-01    b'\\x00'  \n",
       "4  9686686722    2011-01-01    b'\\x00'  "
      ]
     },
     "execution_count": 4443,
     "metadata": {},
     "output_type": "execute_result"
    }
   ],
   "source": [
    "# вывести всю таблицу users (все поля, все строки):\n",
    "select_query = \"\"\"\n",
    "SELECT *\n",
    "FROM users;\"\"\"\n",
    "\n",
    "pd.DataFrame(push(select_query)).head(5)"
   ]
  },
  {
   "cell_type": "code",
   "execution_count": null,
   "metadata": {},
   "outputs": [
    {
     "name": "stdout",
     "output_type": "stream",
     "text": [
      "Succesfully connect\n",
      "####################\n",
      "SELECT id, succesfully\n"
     ]
    },
    {
     "data": {
      "text/html": [
       "<div>\n",
       "<style scoped>\n",
       "    .dataframe tbody tr th:only-of-type {\n",
       "        vertical-align: middle;\n",
       "    }\n",
       "\n",
       "    .dataframe tbody tr th {\n",
       "        vertical-align: top;\n",
       "    }\n",
       "\n",
       "    .dataframe thead th {\n",
       "        text-align: right;\n",
       "    }\n",
       "</style>\n",
       "<table border=\"1\" class=\"dataframe\">\n",
       "  <thead>\n",
       "    <tr style=\"text-align: right;\">\n",
       "      <th></th>\n",
       "      <th>id</th>\n",
       "      <th>firstname</th>\n",
       "      <th>lastname</th>\n",
       "      <th>login</th>\n",
       "      <th>email</th>\n",
       "      <th>password_hash</th>\n",
       "      <th>phone</th>\n",
       "      <th>is_deleted</th>\n",
       "    </tr>\n",
       "  </thead>\n",
       "  <tbody>\n",
       "    <tr>\n",
       "      <th>0</th>\n",
       "      <td>1</td>\n",
       "      <td>Kelsie</td>\n",
       "      <td>Olson</td>\n",
       "      <td>None</td>\n",
       "      <td>xheidenreich@example.net</td>\n",
       "      <td>None</td>\n",
       "      <td>9548492646</td>\n",
       "      <td>b'\\x00'</td>\n",
       "    </tr>\n",
       "    <tr>\n",
       "      <th>1</th>\n",
       "      <td>2</td>\n",
       "      <td>Lucile</td>\n",
       "      <td>Rolfson</td>\n",
       "      <td>None</td>\n",
       "      <td>dbartell@example.net</td>\n",
       "      <td>None</td>\n",
       "      <td>9258387168</td>\n",
       "      <td>b'\\x00'</td>\n",
       "    </tr>\n",
       "    <tr>\n",
       "      <th>2</th>\n",
       "      <td>3</td>\n",
       "      <td>Lori</td>\n",
       "      <td>Koch</td>\n",
       "      <td>None</td>\n",
       "      <td>damaris34@example.net</td>\n",
       "      <td>None</td>\n",
       "      <td>9192291407</td>\n",
       "      <td>b'\\x00'</td>\n",
       "    </tr>\n",
       "    <tr>\n",
       "      <th>3</th>\n",
       "      <td>4</td>\n",
       "      <td>Sam</td>\n",
       "      <td>Kuphal</td>\n",
       "      <td>None</td>\n",
       "      <td>telly.miller@example.net</td>\n",
       "      <td>None</td>\n",
       "      <td>9917826315</td>\n",
       "      <td>b'\\x00'</td>\n",
       "    </tr>\n",
       "    <tr>\n",
       "      <th>4</th>\n",
       "      <td>5</td>\n",
       "      <td>Celestino</td>\n",
       "      <td>Cruickshank</td>\n",
       "      <td>None</td>\n",
       "      <td>flavio.hammes2@example.com</td>\n",
       "      <td>None</td>\n",
       "      <td>9686686722</td>\n",
       "      <td>b'\\x00'</td>\n",
       "    </tr>\n",
       "  </tbody>\n",
       "</table>\n",
       "</div>"
      ],
      "text/plain": [
       "   id  firstname     lastname login                       email password_hash  \\\n",
       "0   1     Kelsie        Olson  None    xheidenreich@example.net          None   \n",
       "1   2     Lucile      Rolfson  None        dbartell@example.net          None   \n",
       "2   3       Lori         Koch  None       damaris34@example.net          None   \n",
       "3   4        Sam       Kuphal  None    telly.miller@example.net          None   \n",
       "4   5  Celestino  Cruickshank  None  flavio.hammes2@example.com          None   \n",
       "\n",
       "        phone is_deleted  \n",
       "0  9548492646    b'\\x00'  \n",
       "1  9258387168    b'\\x00'  \n",
       "2  9192291407    b'\\x00'  \n",
       "3  9917826315    b'\\x00'  \n",
       "4  9686686722    b'\\x00'  "
      ]
     },
     "execution_count": 4444,
     "metadata": {},
     "output_type": "execute_result"
    }
   ],
   "source": [
    "# явно указываем поля, которые необходимо вывести:\n",
    "select_query = \"\"\"\n",
    "SELECT id, firstname , lastname , login , email , password_hash , phone, is_deleted\n",
    "FROM users;\"\"\"\n",
    "\n",
    "pd.DataFrame(push(select_query)).head(5)"
   ]
  },
  {
   "cell_type": "code",
   "execution_count": null,
   "metadata": {},
   "outputs": [
    {
     "name": "stdout",
     "output_type": "stream",
     "text": [
      "Succesfully connect\n",
      "####################\n",
      "SELECT * succesfully\n"
     ]
    },
    {
     "data": {
      "text/html": [
       "<div>\n",
       "<style scoped>\n",
       "    .dataframe tbody tr th:only-of-type {\n",
       "        vertical-align: middle;\n",
       "    }\n",
       "\n",
       "    .dataframe tbody tr th {\n",
       "        vertical-align: top;\n",
       "    }\n",
       "\n",
       "    .dataframe thead th {\n",
       "        text-align: right;\n",
       "    }\n",
       "</style>\n",
       "<table border=\"1\" class=\"dataframe\">\n",
       "  <thead>\n",
       "    <tr style=\"text-align: right;\">\n",
       "      <th></th>\n",
       "      <th>id</th>\n",
       "      <th>firstname</th>\n",
       "      <th>lastname</th>\n",
       "      <th>login</th>\n",
       "      <th>email</th>\n",
       "      <th>password_hash</th>\n",
       "      <th>phone</th>\n",
       "      <th>date_of_birth</th>\n",
       "      <th>is_deleted</th>\n",
       "    </tr>\n",
       "  </thead>\n",
       "  <tbody>\n",
       "    <tr>\n",
       "      <th>0</th>\n",
       "      <td>4</td>\n",
       "      <td>Sam</td>\n",
       "      <td>Kuphal</td>\n",
       "      <td>None</td>\n",
       "      <td>telly.miller@example.net</td>\n",
       "      <td>None</td>\n",
       "      <td>9917826315</td>\n",
       "      <td>1999-01-01</td>\n",
       "      <td>b'\\x00'</td>\n",
       "    </tr>\n",
       "    <tr>\n",
       "      <th>1</th>\n",
       "      <td>2</td>\n",
       "      <td>Lucile</td>\n",
       "      <td>Rolfson</td>\n",
       "      <td>None</td>\n",
       "      <td>dbartell@example.net</td>\n",
       "      <td>None</td>\n",
       "      <td>9258387168</td>\n",
       "      <td>2021-01-01</td>\n",
       "      <td>b'\\x00'</td>\n",
       "    </tr>\n",
       "    <tr>\n",
       "      <th>2</th>\n",
       "      <td>3</td>\n",
       "      <td>Lori</td>\n",
       "      <td>Koch</td>\n",
       "      <td>None</td>\n",
       "      <td>damaris34@example.net</td>\n",
       "      <td>None</td>\n",
       "      <td>9192291407</td>\n",
       "      <td>1995-01-01</td>\n",
       "      <td>b'\\x00'</td>\n",
       "    </tr>\n",
       "    <tr>\n",
       "      <th>3</th>\n",
       "      <td>1</td>\n",
       "      <td>Kelsie</td>\n",
       "      <td>Olson</td>\n",
       "      <td>None</td>\n",
       "      <td>xheidenreich@example.net</td>\n",
       "      <td>None</td>\n",
       "      <td>9548492646</td>\n",
       "      <td>2000-01-01</td>\n",
       "      <td>b'\\x00'</td>\n",
       "    </tr>\n",
       "    <tr>\n",
       "      <th>4</th>\n",
       "      <td>5</td>\n",
       "      <td>Celestino</td>\n",
       "      <td>Cruickshank</td>\n",
       "      <td>None</td>\n",
       "      <td>flavio.hammes2@example.com</td>\n",
       "      <td>None</td>\n",
       "      <td>9686686722</td>\n",
       "      <td>2011-01-01</td>\n",
       "      <td>b'\\x00'</td>\n",
       "    </tr>\n",
       "  </tbody>\n",
       "</table>\n",
       "</div>"
      ],
      "text/plain": [
       "   id  firstname     lastname login                       email password_hash  \\\n",
       "0   4        Sam       Kuphal  None    telly.miller@example.net          None   \n",
       "1   2     Lucile      Rolfson  None        dbartell@example.net          None   \n",
       "2   3       Lori         Koch  None       damaris34@example.net          None   \n",
       "3   1     Kelsie        Olson  None    xheidenreich@example.net          None   \n",
       "4   5  Celestino  Cruickshank  None  flavio.hammes2@example.com          None   \n",
       "\n",
       "        phone date_of_birth is_deleted  \n",
       "0  9917826315    1999-01-01    b'\\x00'  \n",
       "1  9258387168    2021-01-01    b'\\x00'  \n",
       "2  9192291407    1995-01-01    b'\\x00'  \n",
       "3  9548492646    2000-01-01    b'\\x00'  \n",
       "4  9686686722    2011-01-01    b'\\x00'  "
      ]
     },
     "execution_count": 4445,
     "metadata": {},
     "output_type": "execute_result"
    }
   ],
   "source": [
    "# выводим пользователя по его идентификатору (с лимитом 10 с сортировкой по имени):\n",
    "select_query = \"\"\"\n",
    "SELECT *\n",
    "FROM users\n",
    "WHERE id < 5 or id IN (5, 7)\n",
    "ORDER BY firstname DESC\n",
    "LIMIT 10;\"\"\"\n",
    "\n",
    "pd.DataFrame(push(select_query))"
   ]
  },
  {
   "cell_type": "code",
   "execution_count": null,
   "metadata": {},
   "outputs": [
    {
     "name": "stdout",
     "output_type": "stream",
     "text": [
      "Succesfully connect\n",
      "####################\n",
      "SELECT count(firstname) succesfully\n"
     ]
    },
    {
     "data": {
      "text/html": [
       "<div>\n",
       "<style scoped>\n",
       "    .dataframe tbody tr th:only-of-type {\n",
       "        vertical-align: middle;\n",
       "    }\n",
       "\n",
       "    .dataframe tbody tr th {\n",
       "        vertical-align: top;\n",
       "    }\n",
       "\n",
       "    .dataframe thead th {\n",
       "        text-align: right;\n",
       "    }\n",
       "</style>\n",
       "<table border=\"1\" class=\"dataframe\">\n",
       "  <thead>\n",
       "    <tr style=\"text-align: right;\">\n",
       "      <th></th>\n",
       "      <th>count(firstname)</th>\n",
       "    </tr>\n",
       "  </thead>\n",
       "  <tbody>\n",
       "    <tr>\n",
       "      <th>0</th>\n",
       "      <td>9</td>\n",
       "    </tr>\n",
       "  </tbody>\n",
       "</table>\n",
       "</div>"
      ],
      "text/plain": [
       "   count(firstname)\n",
       "0                 9"
      ]
     },
     "execution_count": 4446,
     "metadata": {},
     "output_type": "execute_result"
    }
   ],
   "source": [
    "# выводим количество строк с указанным именем:\n",
    "select_query = \"\"\"\n",
    "SELECT count(firstname)\n",
    "FROM users;\"\"\"\n",
    "\n",
    "pd.DataFrame(push(select_query))"
   ]
  },
  {
   "cell_type": "code",
   "execution_count": null,
   "metadata": {},
   "outputs": [
    {
     "name": "stdout",
     "output_type": "stream",
     "text": [
      "Succesfully connect\n",
      "####################\n",
      "SELECT count(DISTINCT succesfully\n"
     ]
    },
    {
     "data": {
      "text/html": [
       "<div>\n",
       "<style scoped>\n",
       "    .dataframe tbody tr th:only-of-type {\n",
       "        vertical-align: middle;\n",
       "    }\n",
       "\n",
       "    .dataframe tbody tr th {\n",
       "        vertical-align: top;\n",
       "    }\n",
       "\n",
       "    .dataframe thead th {\n",
       "        text-align: right;\n",
       "    }\n",
       "</style>\n",
       "<table border=\"1\" class=\"dataframe\">\n",
       "  <thead>\n",
       "    <tr style=\"text-align: right;\">\n",
       "      <th></th>\n",
       "      <th>DISTINCT_COUNT</th>\n",
       "    </tr>\n",
       "  </thead>\n",
       "  <tbody>\n",
       "    <tr>\n",
       "      <th>0</th>\n",
       "      <td>9</td>\n",
       "    </tr>\n",
       "  </tbody>\n",
       "</table>\n",
       "</div>"
      ],
      "text/plain": [
       "   DISTINCT_COUNT\n",
       "0               9"
      ]
     },
     "execution_count": 4447,
     "metadata": {},
     "output_type": "execute_result"
    }
   ],
   "source": [
    "# выводим количество строк с уникальными именами:\n",
    "select_query = \"\"\"\n",
    "SELECT count(DISTINCT firstname) as DISTINCT_COUNT\n",
    "FROM users;\"\"\"\n",
    "\n",
    "pd.DataFrame(push(select_query))"
   ]
  },
  {
   "cell_type": "markdown",
   "metadata": {},
   "source": [
    "## 3.3 Команда UPDATE"
   ]
  },
  {
   "cell_type": "code",
   "execution_count": null,
   "metadata": {},
   "outputs": [
    {
     "name": "stdout",
     "output_type": "stream",
     "text": [
      "Succesfully connect\n",
      "####################\n",
      "INSERT INTO succesfully\n"
     ]
    }
   ],
   "source": [
    "# вставим новую строку в таблицу channels\n",
    "# (создадим новый канал)\n",
    "\n",
    "push(\"\"\"INSERT INTO channels(title, invite_link, owner_user_id, is_private)\n",
    "VALUES ('MySQL news', 'https://t.me/mysql_news', 1, true);\"\"\")\n"
   ]
  },
  {
   "cell_type": "code",
   "execution_count": null,
   "metadata": {},
   "outputs": [
    {
     "name": "stdout",
     "output_type": "stream",
     "text": [
      "Succesfully connect\n",
      "####################\n",
      "INSERT INTO succesfully\n",
      "Succesfully connect\n",
      "####################\n",
      "INSERT INTO succesfully\n",
      "Succesfully connect\n",
      "####################\n",
      "INSERT INTO succesfully\n"
     ]
    }
   ],
   "source": [
    "# вставим новые строки в таблицу channel_subscribers\n",
    "# (пользователи отправляют заявки на вступление в канал)\n",
    "push(\"\"\"INSERT INTO channel_subscribers(channel_id, user_id, status)\n",
    "VALUES (1, 2, 'requested');\"\"\")\n",
    "     \n",
    "push(\"\"\"INSERT INTO channel_subscribers(channel_id, user_id, status)\n",
    "VALUES (1, 3, 'requested');\"\"\")\n",
    "\n",
    "push(\"\"\"INSERT INTO channel_subscribers(channel_id, user_id, status)\n",
    "VALUES (1, 4, 'requested');\"\"\")"
   ]
  },
  {
   "cell_type": "code",
   "execution_count": null,
   "metadata": {},
   "outputs": [
    {
     "name": "stdout",
     "output_type": "stream",
     "text": [
      "Succesfully connect\n",
      "####################\n",
      "UPDATE channel_subscribers succesfully\n"
     ]
    }
   ],
   "source": [
    "# обновит все строки в таблице channel_subscribers (плохо!)\n",
    "push(\"\"\"UPDATE channel_subscribers\n",
    "SET\n",
    "    status = 'joined';\"\"\")"
   ]
  },
  {
   "cell_type": "code",
   "execution_count": null,
   "metadata": {},
   "outputs": [
    {
     "name": "stdout",
     "output_type": "stream",
     "text": [
      "Succesfully connect\n",
      "####################\n",
      "UPDATE channel_subscribers succesfully\n",
      "Succesfully connect\n",
      "####################\n",
      "UPDATE channel_subscribers succesfully\n"
     ]
    }
   ],
   "source": [
    "# админ подтверждает добавление подписчика в канал\n",
    "push(\"\"\"UPDATE channel_subscribers\n",
    "SET\n",
    "    status = 'joined'\n",
    "WHERE channel_id = 1 AND user_id = 2;\"\"\")\n",
    "\n",
    "push(\"\"\"UPDATE channel_subscribers\n",
    "SET\n",
    "    status = 'joined'\n",
    "WHERE channel_id = 1 AND user_id = 3;\"\"\")"
   ]
  },
  {
   "cell_type": "code",
   "execution_count": null,
   "metadata": {},
   "outputs": [
    {
     "name": "stdout",
     "output_type": "stream",
     "text": [
      "Succesfully connect\n",
      "####################\n",
      "UPDATE channel_subscribers succesfully\n"
     ]
    }
   ],
   "source": [
    "# пользователь покидает канал\n",
    "push(\"\"\"UPDATE channel_subscribers\n",
    "SET\n",
    "    status = 'left'\n",
    "WHERE channel_id = 1 AND user_id = 2;\"\"\")"
   ]
  },
  {
   "cell_type": "code",
   "execution_count": null,
   "metadata": {},
   "outputs": [
    {
     "name": "stdout",
     "output_type": "stream",
     "text": [
      "Succesfully connect\n",
      "####################\n",
      "ALTER TABLE succesfully\n"
     ]
    }
   ],
   "source": [
    "# добавим новый статус 'удален'\n",
    "push(\"\"\"ALTER TABLE channel_subscribers\n",
    "MODIFY COLUMN status ENUM('requested', 'joined', 'left', 'removed');\"\"\")"
   ]
  },
  {
   "cell_type": "code",
   "execution_count": null,
   "metadata": {},
   "outputs": [
    {
     "name": "stdout",
     "output_type": "stream",
     "text": [
      "Succesfully connect\n",
      "####################\n",
      "UPDATE channel_subscribers succesfully\n"
     ]
    }
   ],
   "source": [
    "# пользователя принудительно удалили из канала\n",
    "push(\"\"\"UPDATE channel_subscribers\n",
    "SET\n",
    "    status = 'removed'\n",
    "WHERE channel_id = 1 AND user_id = 4;\"\"\")"
   ]
  },
  {
   "cell_type": "code",
   "execution_count": null,
   "metadata": {},
   "outputs": [
    {
     "name": "stdout",
     "output_type": "stream",
     "text": [
      "Succesfully connect\n",
      "####################\n",
      "UPDATE channels succesfully\n"
     ]
    }
   ],
   "source": [
    "# переименуем канал\n",
    "push(\"\"\"UPDATE channels\n",
    "SET title = 'General SQL news'\n",
    "WHERE id = 1;\"\"\")"
   ]
  },
  {
   "cell_type": "code",
   "execution_count": null,
   "metadata": {},
   "outputs": [
    {
     "name": "stdout",
     "output_type": "stream",
     "text": [
      "Succesfully connect\n",
      "####################\n",
      "SELECT * succesfully\n"
     ]
    },
    {
     "data": {
      "text/html": [
       "<div>\n",
       "<style scoped>\n",
       "    .dataframe tbody tr th:only-of-type {\n",
       "        vertical-align: middle;\n",
       "    }\n",
       "\n",
       "    .dataframe tbody tr th {\n",
       "        vertical-align: top;\n",
       "    }\n",
       "\n",
       "    .dataframe thead th {\n",
       "        text-align: right;\n",
       "    }\n",
       "</style>\n",
       "<table border=\"1\" class=\"dataframe\">\n",
       "  <thead>\n",
       "    <tr style=\"text-align: right;\">\n",
       "      <th></th>\n",
       "      <th>channel_id</th>\n",
       "      <th>user_id</th>\n",
       "      <th>status</th>\n",
       "      <th>created_at</th>\n",
       "      <th>updated_at</th>\n",
       "    </tr>\n",
       "  </thead>\n",
       "  <tbody>\n",
       "    <tr>\n",
       "      <th>0</th>\n",
       "      <td>1</td>\n",
       "      <td>2</td>\n",
       "      <td>left</td>\n",
       "      <td>2025-03-13 16:49:57</td>\n",
       "      <td>2025-03-13 16:49:57</td>\n",
       "    </tr>\n",
       "    <tr>\n",
       "      <th>1</th>\n",
       "      <td>1</td>\n",
       "      <td>3</td>\n",
       "      <td>joined</td>\n",
       "      <td>2025-03-13 16:49:57</td>\n",
       "      <td>2025-03-13 16:49:57</td>\n",
       "    </tr>\n",
       "    <tr>\n",
       "      <th>2</th>\n",
       "      <td>1</td>\n",
       "      <td>4</td>\n",
       "      <td>removed</td>\n",
       "      <td>2025-03-13 16:49:57</td>\n",
       "      <td>2025-03-13 16:49:57</td>\n",
       "    </tr>\n",
       "  </tbody>\n",
       "</table>\n",
       "</div>"
      ],
      "text/plain": [
       "   channel_id  user_id   status          created_at          updated_at\n",
       "0           1        2     left 2025-03-13 16:49:57 2025-03-13 16:49:57\n",
       "1           1        3   joined 2025-03-13 16:49:57 2025-03-13 16:49:57\n",
       "2           1        4  removed 2025-03-13 16:49:57 2025-03-13 16:49:57"
      ]
     },
     "execution_count": 4456,
     "metadata": {},
     "output_type": "execute_result"
    }
   ],
   "source": [
    "pd.DataFrame(push(\"SELECT * FROM channel_subscribers\"))"
   ]
  },
  {
   "cell_type": "markdown",
   "metadata": {},
   "source": [
    "## 3.4 Команда DELETE"
   ]
  },
  {
   "cell_type": "code",
   "execution_count": null,
   "metadata": {},
   "outputs": [
    {
     "name": "stdout",
     "output_type": "stream",
     "text": [
      "Succesfully connect\n",
      "####################\n",
      "DELETE FROM succesfully\n"
     ]
    }
   ],
   "source": [
    "# удаляем все строки из таблицы сообщений \n",
    "# (очищает данные, индексация сохраняется после удаления данных)\n",
    "\n",
    "push(\"DELETE FROM private_messages;\")"
   ]
  },
  {
   "cell_type": "code",
   "execution_count": null,
   "metadata": {},
   "outputs": [
    {
     "name": "stdout",
     "output_type": "stream",
     "text": [
      "Succesfully connect\n",
      "####################\n",
      "TRUNCATE private_messages; succesfully\n"
     ]
    }
   ],
   "source": [
    "# пересоздаем таблицу сообщений (DROP-CREATE)\n",
    "# (пересоздается таблица, индексация следовательно обнуляется)\n",
    "\n",
    "push(\"TRUNCATE private_messages;\")"
   ]
  },
  {
   "cell_type": "code",
   "execution_count": null,
   "metadata": {},
   "outputs": [
    {
     "name": "stdout",
     "output_type": "stream",
     "text": [
      "Succesfully connect\n",
      "####################\n",
      "SHOW COLUMNS succesfully\n"
     ]
    },
    {
     "data": {
      "text/html": [
       "<div>\n",
       "<style scoped>\n",
       "    .dataframe tbody tr th:only-of-type {\n",
       "        vertical-align: middle;\n",
       "    }\n",
       "\n",
       "    .dataframe tbody tr th {\n",
       "        vertical-align: top;\n",
       "    }\n",
       "\n",
       "    .dataframe thead th {\n",
       "        text-align: right;\n",
       "    }\n",
       "</style>\n",
       "<table border=\"1\" class=\"dataframe\">\n",
       "  <thead>\n",
       "    <tr style=\"text-align: right;\">\n",
       "      <th></th>\n",
       "      <th>Field</th>\n",
       "      <th>Type</th>\n",
       "      <th>Null</th>\n",
       "      <th>Key</th>\n",
       "      <th>Default</th>\n",
       "      <th>Extra</th>\n",
       "    </tr>\n",
       "  </thead>\n",
       "  <tbody>\n",
       "    <tr>\n",
       "      <th>0</th>\n",
       "      <td>id</td>\n",
       "      <td>bigint unsigned</td>\n",
       "      <td>NO</td>\n",
       "      <td>PRI</td>\n",
       "      <td>None</td>\n",
       "      <td>auto_increment</td>\n",
       "    </tr>\n",
       "    <tr>\n",
       "      <th>1</th>\n",
       "      <td>sender_id</td>\n",
       "      <td>bigint unsigned</td>\n",
       "      <td>NO</td>\n",
       "      <td>MUL</td>\n",
       "      <td>None</td>\n",
       "      <td></td>\n",
       "    </tr>\n",
       "    <tr>\n",
       "      <th>2</th>\n",
       "      <td>receiver_id</td>\n",
       "      <td>bigint unsigned</td>\n",
       "      <td>NO</td>\n",
       "      <td>MUL</td>\n",
       "      <td>None</td>\n",
       "      <td></td>\n",
       "    </tr>\n",
       "    <tr>\n",
       "      <th>3</th>\n",
       "      <td>reply_to_id</td>\n",
       "      <td>bigint unsigned</td>\n",
       "      <td>YES</td>\n",
       "      <td>MUL</td>\n",
       "      <td>None</td>\n",
       "      <td></td>\n",
       "    </tr>\n",
       "    <tr>\n",
       "      <th>4</th>\n",
       "      <td>media_type</td>\n",
       "      <td>enum('text','image','audio','video')</td>\n",
       "      <td>YES</td>\n",
       "      <td></td>\n",
       "      <td>None</td>\n",
       "      <td></td>\n",
       "    </tr>\n",
       "    <tr>\n",
       "      <th>5</th>\n",
       "      <td>body</td>\n",
       "      <td>text</td>\n",
       "      <td>YES</td>\n",
       "      <td></td>\n",
       "      <td>None</td>\n",
       "      <td></td>\n",
       "    </tr>\n",
       "    <tr>\n",
       "      <th>6</th>\n",
       "      <td>filename</td>\n",
       "      <td>varchar(200)</td>\n",
       "      <td>YES</td>\n",
       "      <td></td>\n",
       "      <td>None</td>\n",
       "      <td></td>\n",
       "    </tr>\n",
       "    <tr>\n",
       "      <th>7</th>\n",
       "      <td>created_at</td>\n",
       "      <td>datetime</td>\n",
       "      <td>YES</td>\n",
       "      <td></td>\n",
       "      <td>CURRENT_TIMESTAMP</td>\n",
       "      <td>DEFAULT_GENERATED</td>\n",
       "    </tr>\n",
       "  </tbody>\n",
       "</table>\n",
       "</div>"
      ],
      "text/plain": [
       "         Field                                  Type Null  Key  \\\n",
       "0           id                       bigint unsigned   NO  PRI   \n",
       "1    sender_id                       bigint unsigned   NO  MUL   \n",
       "2  receiver_id                       bigint unsigned   NO  MUL   \n",
       "3  reply_to_id                       bigint unsigned  YES  MUL   \n",
       "4   media_type  enum('text','image','audio','video')  YES        \n",
       "5         body                                  text  YES        \n",
       "6     filename                          varchar(200)  YES        \n",
       "7   created_at                              datetime  YES        \n",
       "\n",
       "             Default              Extra  \n",
       "0               None     auto_increment  \n",
       "1               None                     \n",
       "2               None                     \n",
       "3               None                     \n",
       "4               None                     \n",
       "5               None                     \n",
       "6               None                     \n",
       "7  CURRENT_TIMESTAMP  DEFAULT_GENERATED  "
      ]
     },
     "execution_count": 4459,
     "metadata": {},
     "output_type": "execute_result"
    }
   ],
   "source": [
    "columns = push('SHOW COLUMNS FROM private_messages')\n",
    "\n",
    "fields_df = pd.DataFrame(columns)\n",
    "fields_df"
   ]
  },
  {
   "cell_type": "code",
   "execution_count": null,
   "metadata": {},
   "outputs": [
    {
     "name": "stdout",
     "output_type": "stream",
     "text": [
      "['id', 'sender_id', 'receiver_id', 'reply_to_id', 'media_type', 'body', 'filename', 'created_at']\n"
     ]
    }
   ],
   "source": [
    "print(fields_df['Field'].to_list())"
   ]
  },
  {
   "cell_type": "code",
   "execution_count": null,
   "metadata": {},
   "outputs": [
    {
     "name": "stdout",
     "output_type": "stream",
     "text": [
      "Succesfully connect\n",
      "####################\n",
      "DROP TABLE succesfully\n",
      "Succesfully connect\n",
      "####################\n",
      "CREATE TABLE succesfully\n"
     ]
    }
   ],
   "source": [
    "push(\"DROP TABLE IF EXISTS `private_messages`;\")\n",
    "     \n",
    "create_table_query = \"\"\"\n",
    "CREATE TABLE `private_messages`(\n",
    "    `id` SERIAL,\n",
    "    `sender_id` BIGINT UNSIGNED NOT NULL,\n",
    "    `receiver_id` BIGINT UNSIGNED NOT NULL,\n",
    "    `reply_to_id` BIGINT UNSIGNED NULL,\n",
    "    `media_type` ENUM('text', 'image', 'audio', 'video'),\n",
    "    `body` TEXT,\n",
    "    `filename` VARCHAR(200),\n",
    "    `created_at` DATETIME DEFAULT NOW(),\n",
    "\n",
    "    FOREIGN KEY (sender_id) REFERENCES users(id),\n",
    "    FOREIGN KEY (receiver_id) REFERENCES users(id),\n",
    "    FOREIGN KEY (reply_to_id) REFERENCES private_messages(id) \n",
    "\n",
    "    \n",
    "\n",
    ");\"\"\"\n",
    "\n",
    "push(create_table_query)"
   ]
  },
  {
   "cell_type": "code",
   "execution_count": null,
   "metadata": {},
   "outputs": [
    {
     "name": "stdout",
     "output_type": "stream",
     "text": [
      "Succesfully connect\n",
      "####################\n",
      "INSERT INTO succesfully\n"
     ]
    }
   ],
   "source": [
    "# подготовка данных (добавляем несколько сообщений между пользователями)\n",
    "insert_query = \"\"\"\n",
    "INSERT INTO `private_messages`(sender_id, receiver_id, media_type, body, filename, created_at)\n",
    "VALUES\n",
    "(1,2,'text','Eveniet suscipit ullam occaecati consequatur hic. Nulla est in molestiae odit. Placeat perferendis consequatur qui omnis id vel autem.','officiis','2010-04-07 09:01:02'),\n",
    "(2,1,'audio','Non repudiandae maiores molestiae vel doloribus. Quis facere blanditiis est magnam est ut vero.','qui','1971-05-29 07:31:20'),\n",
    "(1,3,'text','Voluptas qui consequatur quae sunt et consequatur. Rem alias sed cupiditate explicabo voluptate. Officiis repellat porro accusamus eveniet quos. Laborum dolores sed enim aut.','excepturi','1998-10-28 20:08:01'),\n",
    "(1,4,'video','Est delectus tempora exercitationem atque tempora reiciendis nulla voluptatem. Cupiditate non fugit blanditiis quasi ad et autem expedita. Aut est provident odio quasi possimus.','vitae','2001-12-03 15:54:43'),\n",
    "(1,2,'video','Est ducimus amet et asperiores. Reiciendis debitis qui ipsa. Nemo laboriosam ea aut omnis voluptates quisquam accusantium. Quibusdam totam similique aut.','optio','1970-09-18 20:39:35'),\n",
    "(1,2,'video','Quis cupiditate quis maxime et placeat consectetur ut quis. Voluptas unde voluptatem deserunt in dolorum maxime. Sunt fugiat sit tenetur placeat at.','laboriosam','1980-05-11 03:39:43'),\n",
    "(2,1,'audio','Voluptatum nihil rem laboriosam delectus aperiam consequuntur et modi. Laudantium molestias corporis quo omnis ut ea. At minima iure et voluptatum culpa deleniti non. Sint laboriosam molestias dolor vel. Quibusdam omnis quas ullam dolor.','sit','1988-08-19 10:30:44'),\n",
    "(2,4,'audio','Nemo eos sed aspernatur voluptates perspiciatis tenetur. Voluptas sunt magnam vero nam earum. Magnam eum vitae qui. Vel atque accusantium in non rem non et.','consectetur','1984-06-28 16:22:44'),\n",
    "(4,5,'audio','Quod nihil possimus id qui. Quasi officia rerum eum doloribus est voluptas maxime. Et debitis enim non enim fugit.','repellat','1981-12-11 16:04:11'),\n",
    "(3,1,'text','Qui voluptatem earum temporibus rem vel sequi. Et quasi vel qui est autem aliquam. Modi est voluptatem aut rerum ea velit. Voluptate et eligendi debitis nostrum nihil dolorum.','nihil','1988-02-16 13:29:14'),\n",
    "(3,2,'image','Rem et ullam cum vitae autem reprehenderit quia. Enim a ipsam id ut aliquam est error. Quis dolorum omnis expedita eaque maiores illo.','et','2015-04-07 18:02:42')\n",
    ";\"\"\"\n",
    "\n",
    "push(insert_query)"
   ]
  },
  {
   "cell_type": "code",
   "execution_count": null,
   "metadata": {},
   "outputs": [
    {
     "name": "stdout",
     "output_type": "stream",
     "text": [
      "Succesfully connect\n",
      "####################\n",
      "SELECT * succesfully\n"
     ]
    },
    {
     "data": {
      "text/html": [
       "<div>\n",
       "<style scoped>\n",
       "    .dataframe tbody tr th:only-of-type {\n",
       "        vertical-align: middle;\n",
       "    }\n",
       "\n",
       "    .dataframe tbody tr th {\n",
       "        vertical-align: top;\n",
       "    }\n",
       "\n",
       "    .dataframe thead th {\n",
       "        text-align: right;\n",
       "    }\n",
       "</style>\n",
       "<table border=\"1\" class=\"dataframe\">\n",
       "  <thead>\n",
       "    <tr style=\"text-align: right;\">\n",
       "      <th></th>\n",
       "      <th>id</th>\n",
       "      <th>sender_id</th>\n",
       "      <th>receiver_id</th>\n",
       "      <th>reply_to_id</th>\n",
       "      <th>media_type</th>\n",
       "      <th>body</th>\n",
       "      <th>filename</th>\n",
       "      <th>created_at</th>\n",
       "    </tr>\n",
       "  </thead>\n",
       "  <tbody>\n",
       "    <tr>\n",
       "      <th>0</th>\n",
       "      <td>1</td>\n",
       "      <td>1</td>\n",
       "      <td>2</td>\n",
       "      <td>None</td>\n",
       "      <td>text</td>\n",
       "      <td>Eveniet suscipit ullam occaecati consequatur h...</td>\n",
       "      <td>officiis</td>\n",
       "      <td>2010-04-07 09:01:02</td>\n",
       "    </tr>\n",
       "    <tr>\n",
       "      <th>1</th>\n",
       "      <td>2</td>\n",
       "      <td>2</td>\n",
       "      <td>1</td>\n",
       "      <td>None</td>\n",
       "      <td>audio</td>\n",
       "      <td>Non repudiandae maiores molestiae vel doloribu...</td>\n",
       "      <td>qui</td>\n",
       "      <td>1971-05-29 07:31:20</td>\n",
       "    </tr>\n",
       "    <tr>\n",
       "      <th>2</th>\n",
       "      <td>3</td>\n",
       "      <td>1</td>\n",
       "      <td>3</td>\n",
       "      <td>None</td>\n",
       "      <td>text</td>\n",
       "      <td>Voluptas qui consequatur quae sunt et consequa...</td>\n",
       "      <td>excepturi</td>\n",
       "      <td>1998-10-28 20:08:01</td>\n",
       "    </tr>\n",
       "    <tr>\n",
       "      <th>3</th>\n",
       "      <td>4</td>\n",
       "      <td>1</td>\n",
       "      <td>4</td>\n",
       "      <td>None</td>\n",
       "      <td>video</td>\n",
       "      <td>Est delectus tempora exercitationem atque temp...</td>\n",
       "      <td>vitae</td>\n",
       "      <td>2001-12-03 15:54:43</td>\n",
       "    </tr>\n",
       "    <tr>\n",
       "      <th>4</th>\n",
       "      <td>5</td>\n",
       "      <td>1</td>\n",
       "      <td>2</td>\n",
       "      <td>None</td>\n",
       "      <td>video</td>\n",
       "      <td>Est ducimus amet et asperiores. Reiciendis deb...</td>\n",
       "      <td>optio</td>\n",
       "      <td>1970-09-18 20:39:35</td>\n",
       "    </tr>\n",
       "    <tr>\n",
       "      <th>5</th>\n",
       "      <td>6</td>\n",
       "      <td>1</td>\n",
       "      <td>2</td>\n",
       "      <td>None</td>\n",
       "      <td>video</td>\n",
       "      <td>Quis cupiditate quis maxime et placeat consect...</td>\n",
       "      <td>laboriosam</td>\n",
       "      <td>1980-05-11 03:39:43</td>\n",
       "    </tr>\n",
       "    <tr>\n",
       "      <th>6</th>\n",
       "      <td>7</td>\n",
       "      <td>2</td>\n",
       "      <td>1</td>\n",
       "      <td>None</td>\n",
       "      <td>audio</td>\n",
       "      <td>Voluptatum nihil rem laboriosam delectus aperi...</td>\n",
       "      <td>sit</td>\n",
       "      <td>1988-08-19 10:30:44</td>\n",
       "    </tr>\n",
       "    <tr>\n",
       "      <th>7</th>\n",
       "      <td>8</td>\n",
       "      <td>2</td>\n",
       "      <td>4</td>\n",
       "      <td>None</td>\n",
       "      <td>audio</td>\n",
       "      <td>Nemo eos sed aspernatur voluptates perspiciati...</td>\n",
       "      <td>consectetur</td>\n",
       "      <td>1984-06-28 16:22:44</td>\n",
       "    </tr>\n",
       "    <tr>\n",
       "      <th>8</th>\n",
       "      <td>9</td>\n",
       "      <td>4</td>\n",
       "      <td>5</td>\n",
       "      <td>None</td>\n",
       "      <td>audio</td>\n",
       "      <td>Quod nihil possimus id qui. Quasi officia reru...</td>\n",
       "      <td>repellat</td>\n",
       "      <td>1981-12-11 16:04:11</td>\n",
       "    </tr>\n",
       "    <tr>\n",
       "      <th>9</th>\n",
       "      <td>10</td>\n",
       "      <td>3</td>\n",
       "      <td>1</td>\n",
       "      <td>None</td>\n",
       "      <td>text</td>\n",
       "      <td>Qui voluptatem earum temporibus rem vel sequi....</td>\n",
       "      <td>nihil</td>\n",
       "      <td>1988-02-16 13:29:14</td>\n",
       "    </tr>\n",
       "    <tr>\n",
       "      <th>10</th>\n",
       "      <td>11</td>\n",
       "      <td>3</td>\n",
       "      <td>2</td>\n",
       "      <td>None</td>\n",
       "      <td>image</td>\n",
       "      <td>Rem et ullam cum vitae autem reprehenderit qui...</td>\n",
       "      <td>et</td>\n",
       "      <td>2015-04-07 18:02:42</td>\n",
       "    </tr>\n",
       "  </tbody>\n",
       "</table>\n",
       "</div>"
      ],
      "text/plain": [
       "    id  sender_id  receiver_id reply_to_id media_type  \\\n",
       "0    1          1            2        None       text   \n",
       "1    2          2            1        None      audio   \n",
       "2    3          1            3        None       text   \n",
       "3    4          1            4        None      video   \n",
       "4    5          1            2        None      video   \n",
       "5    6          1            2        None      video   \n",
       "6    7          2            1        None      audio   \n",
       "7    8          2            4        None      audio   \n",
       "8    9          4            5        None      audio   \n",
       "9   10          3            1        None       text   \n",
       "10  11          3            2        None      image   \n",
       "\n",
       "                                                 body     filename  \\\n",
       "0   Eveniet suscipit ullam occaecati consequatur h...     officiis   \n",
       "1   Non repudiandae maiores molestiae vel doloribu...          qui   \n",
       "2   Voluptas qui consequatur quae sunt et consequa...    excepturi   \n",
       "3   Est delectus tempora exercitationem atque temp...        vitae   \n",
       "4   Est ducimus amet et asperiores. Reiciendis deb...        optio   \n",
       "5   Quis cupiditate quis maxime et placeat consect...   laboriosam   \n",
       "6   Voluptatum nihil rem laboriosam delectus aperi...          sit   \n",
       "7   Nemo eos sed aspernatur voluptates perspiciati...  consectetur   \n",
       "8   Quod nihil possimus id qui. Quasi officia reru...     repellat   \n",
       "9   Qui voluptatem earum temporibus rem vel sequi....        nihil   \n",
       "10  Rem et ullam cum vitae autem reprehenderit qui...           et   \n",
       "\n",
       "            created_at  \n",
       "0  2010-04-07 09:01:02  \n",
       "1  1971-05-29 07:31:20  \n",
       "2  1998-10-28 20:08:01  \n",
       "3  2001-12-03 15:54:43  \n",
       "4  1970-09-18 20:39:35  \n",
       "5  1980-05-11 03:39:43  \n",
       "6  1988-08-19 10:30:44  \n",
       "7  1984-06-28 16:22:44  \n",
       "8  1981-12-11 16:04:11  \n",
       "9  1988-02-16 13:29:14  \n",
       "10 2015-04-07 18:02:42  "
      ]
     },
     "execution_count": 4463,
     "metadata": {},
     "output_type": "execute_result"
    }
   ],
   "source": [
    "pd.DataFrame(push(\"SELECT * FROM private_messages\"))"
   ]
  },
  {
   "cell_type": "code",
   "execution_count": null,
   "metadata": {},
   "outputs": [
    {
     "name": "stdout",
     "output_type": "stream",
     "text": [
      "Succesfully connect\n",
      "####################\n",
      "DELETE FROM succesfully\n"
     ]
    }
   ],
   "source": [
    "# удаляем сообщения от пользователя номер 1 к пользователю номер 2\n",
    "delete_query = \"\"\"\n",
    "DELETE FROM private_messages\n",
    "WHERE sender_id = 1 AND receiver_id IN (2, 4) OR sender_id = 2;\"\"\"\n",
    "\n",
    "push(delete_query)"
   ]
  },
  {
   "cell_type": "code",
   "execution_count": null,
   "metadata": {},
   "outputs": [
    {
     "name": "stdout",
     "output_type": "stream",
     "text": [
      "Succesfully connect\n",
      "####################\n",
      "SELECT * succesfully\n"
     ]
    },
    {
     "data": {
      "text/html": [
       "<div>\n",
       "<style scoped>\n",
       "    .dataframe tbody tr th:only-of-type {\n",
       "        vertical-align: middle;\n",
       "    }\n",
       "\n",
       "    .dataframe tbody tr th {\n",
       "        vertical-align: top;\n",
       "    }\n",
       "\n",
       "    .dataframe thead th {\n",
       "        text-align: right;\n",
       "    }\n",
       "</style>\n",
       "<table border=\"1\" class=\"dataframe\">\n",
       "  <thead>\n",
       "    <tr style=\"text-align: right;\">\n",
       "      <th></th>\n",
       "      <th>id</th>\n",
       "      <th>sender_id</th>\n",
       "      <th>receiver_id</th>\n",
       "      <th>reply_to_id</th>\n",
       "      <th>media_type</th>\n",
       "      <th>body</th>\n",
       "      <th>filename</th>\n",
       "      <th>created_at</th>\n",
       "    </tr>\n",
       "  </thead>\n",
       "  <tbody>\n",
       "    <tr>\n",
       "      <th>0</th>\n",
       "      <td>3</td>\n",
       "      <td>1</td>\n",
       "      <td>3</td>\n",
       "      <td>None</td>\n",
       "      <td>text</td>\n",
       "      <td>Voluptas qui consequatur quae sunt et consequa...</td>\n",
       "      <td>excepturi</td>\n",
       "      <td>1998-10-28 20:08:01</td>\n",
       "    </tr>\n",
       "    <tr>\n",
       "      <th>1</th>\n",
       "      <td>9</td>\n",
       "      <td>4</td>\n",
       "      <td>5</td>\n",
       "      <td>None</td>\n",
       "      <td>audio</td>\n",
       "      <td>Quod nihil possimus id qui. Quasi officia reru...</td>\n",
       "      <td>repellat</td>\n",
       "      <td>1981-12-11 16:04:11</td>\n",
       "    </tr>\n",
       "    <tr>\n",
       "      <th>2</th>\n",
       "      <td>10</td>\n",
       "      <td>3</td>\n",
       "      <td>1</td>\n",
       "      <td>None</td>\n",
       "      <td>text</td>\n",
       "      <td>Qui voluptatem earum temporibus rem vel sequi....</td>\n",
       "      <td>nihil</td>\n",
       "      <td>1988-02-16 13:29:14</td>\n",
       "    </tr>\n",
       "    <tr>\n",
       "      <th>3</th>\n",
       "      <td>11</td>\n",
       "      <td>3</td>\n",
       "      <td>2</td>\n",
       "      <td>None</td>\n",
       "      <td>image</td>\n",
       "      <td>Rem et ullam cum vitae autem reprehenderit qui...</td>\n",
       "      <td>et</td>\n",
       "      <td>2015-04-07 18:02:42</td>\n",
       "    </tr>\n",
       "  </tbody>\n",
       "</table>\n",
       "</div>"
      ],
      "text/plain": [
       "   id  sender_id  receiver_id reply_to_id media_type  \\\n",
       "0   3          1            3        None       text   \n",
       "1   9          4            5        None      audio   \n",
       "2  10          3            1        None       text   \n",
       "3  11          3            2        None      image   \n",
       "\n",
       "                                                body   filename  \\\n",
       "0  Voluptas qui consequatur quae sunt et consequa...  excepturi   \n",
       "1  Quod nihil possimus id qui. Quasi officia reru...   repellat   \n",
       "2  Qui voluptatem earum temporibus rem vel sequi....      nihil   \n",
       "3  Rem et ullam cum vitae autem reprehenderit qui...         et   \n",
       "\n",
       "           created_at  \n",
       "0 1998-10-28 20:08:01  \n",
       "1 1981-12-11 16:04:11  \n",
       "2 1988-02-16 13:29:14  \n",
       "3 2015-04-07 18:02:42  "
      ]
     },
     "execution_count": 4465,
     "metadata": {},
     "output_type": "execute_result"
    }
   ],
   "source": [
    "pd.DataFrame(push(\"SELECT * FROM private_messages\"))"
   ]
  },
  {
   "cell_type": "code",
   "execution_count": null,
   "metadata": {},
   "outputs": [
    {
     "name": "stdout",
     "output_type": "stream",
     "text": [
      "Succesfully connect\n",
      "####################\n",
      "Connection refused...\n",
      "(1451, 'Cannot delete or update a parent row: a foreign key constraint fails (`stepik`.`channel_subscribers`, CONSTRAINT `channel_subscribers_ibfk_1` FOREIGN KEY (`user_id`) REFERENCES `users` (`id`))')\n"
     ]
    }
   ],
   "source": [
    "# пробуем удалить пользователя номер 3\n",
    "push(\"\"\"DELETE FROM users\n",
    "WHERE id = 3;\"\"\")"
   ]
  },
  {
   "cell_type": "code",
   "execution_count": null,
   "metadata": {},
   "outputs": [
    {
     "name": "stdout",
     "output_type": "stream",
     "text": [
      "Succesfully connect\n",
      "####################\n",
      "DELETE FROM succesfully\n"
     ]
    }
   ],
   "source": [
    "# сначала удаляем его подписки на каналы\n",
    "push(\"\"\"DELETE FROM channel_subscribers\n",
    "WHERE user_id = 3;\"\"\")"
   ]
  },
  {
   "cell_type": "code",
   "execution_count": null,
   "metadata": {},
   "outputs": [
    {
     "name": "stdout",
     "output_type": "stream",
     "text": [
      "Succesfully connect\n",
      "####################\n",
      "DELETE FROM succesfully\n"
     ]
    }
   ],
   "source": [
    "# удаляем сообщения пользователя номер 3\n",
    "push(\"\"\"DELETE FROM private_messages\n",
    "WHERE sender_id = 3 OR receiver_id = 3;\"\"\")"
   ]
  },
  {
   "cell_type": "code",
   "execution_count": null,
   "metadata": {},
   "outputs": [
    {
     "name": "stdout",
     "output_type": "stream",
     "text": [
      "Succesfully connect\n",
      "####################\n"
     ]
    },
    {
     "name": "stdout",
     "output_type": "stream",
     "text": [
      "ALTER TABLE succesfully\n"
     ]
    }
   ],
   "source": [
    "# добавим флаг для удаленных сообщений (вместо физического удаления строк)\n",
    "push(\"ALTER TABLE private_messages ADD COLUMN is_deleted BIT NOT NULL DEFAULT 0;\")"
   ]
  },
  {
   "cell_type": "code",
   "execution_count": null,
   "metadata": {},
   "outputs": [
    {
     "name": "stdout",
     "output_type": "stream",
     "text": [
      "Succesfully connect\n",
      "####################\n",
      "UPDATE private_messages succesfully\n"
     ]
    }
   ],
   "source": [
    "# отмечаем сообщения удаленными\n",
    "push(\"\"\"UPDATE private_messages\n",
    "SET is_deleted = 1\n",
    "WHERE sender_id = 2 AND receiver_id = 1;\"\"\")"
   ]
  },
  {
   "cell_type": "code",
   "execution_count": null,
   "metadata": {},
   "outputs": [
    {
     "name": "stdout",
     "output_type": "stream",
     "text": [
      "Succesfully connect\n",
      "####################\n",
      "SELECT * succesfully\n"
     ]
    },
    {
     "data": {
      "text/html": [
       "<div>\n",
       "<style scoped>\n",
       "    .dataframe tbody tr th:only-of-type {\n",
       "        vertical-align: middle;\n",
       "    }\n",
       "\n",
       "    .dataframe tbody tr th {\n",
       "        vertical-align: top;\n",
       "    }\n",
       "\n",
       "    .dataframe thead th {\n",
       "        text-align: right;\n",
       "    }\n",
       "</style>\n",
       "<table border=\"1\" class=\"dataframe\">\n",
       "  <thead>\n",
       "    <tr style=\"text-align: right;\">\n",
       "      <th></th>\n",
       "      <th>id</th>\n",
       "      <th>sender_id</th>\n",
       "      <th>receiver_id</th>\n",
       "      <th>reply_to_id</th>\n",
       "      <th>media_type</th>\n",
       "      <th>body</th>\n",
       "      <th>filename</th>\n",
       "      <th>created_at</th>\n",
       "      <th>is_deleted</th>\n",
       "    </tr>\n",
       "  </thead>\n",
       "  <tbody>\n",
       "    <tr>\n",
       "      <th>0</th>\n",
       "      <td>9</td>\n",
       "      <td>4</td>\n",
       "      <td>5</td>\n",
       "      <td>None</td>\n",
       "      <td>audio</td>\n",
       "      <td>Quod nihil possimus id qui. Quasi officia reru...</td>\n",
       "      <td>repellat</td>\n",
       "      <td>1981-12-11 16:04:11</td>\n",
       "      <td>b'\\x00'</td>\n",
       "    </tr>\n",
       "  </tbody>\n",
       "</table>\n",
       "</div>"
      ],
      "text/plain": [
       "   id  sender_id  receiver_id reply_to_id media_type  \\\n",
       "0   9          4            5        None      audio   \n",
       "\n",
       "                                                body  filename  \\\n",
       "0  Quod nihil possimus id qui. Quasi officia reru...  repellat   \n",
       "\n",
       "           created_at is_deleted  \n",
       "0 1981-12-11 16:04:11    b'\\x00'  "
      ]
     },
     "execution_count": 4471,
     "metadata": {},
     "output_type": "execute_result"
    }
   ],
   "source": [
    "pd.DataFrame(push(\"SELECT * FROM private_messages\"))"
   ]
  },
  {
   "cell_type": "markdown",
   "metadata": {},
   "source": [
    "## 3.5 Сервисы для генерации данных"
   ]
  },
  {
   "cell_type": "markdown",
   "metadata": {},
   "source": [
    "Сервисы для генерации данных: <br>\n",
    "http://filldb.info/ <br>\n",
    "http://www.generatedata.com/ <br>\n",
    "https://sourceforge.net/p/benerator/wiki/Home/ <br>\n",
    "http://www.dominicgiles.com/datagenerator.html <br>"
   ]
  },
  {
   "cell_type": "markdown",
   "metadata": {},
   "source": [
    "# 4 Основы SELECT запросов"
   ]
  },
  {
   "cell_type": "markdown",
   "metadata": {},
   "source": [
    "## 4.1 Фильтрация (WHERE + LIKE)"
   ]
  },
  {
   "cell_type": "code",
   "execution_count": null,
   "metadata": {},
   "outputs": [
    {
     "name": "stdout",
     "output_type": "stream",
     "text": [
      "Succesfully connect\n",
      "####################\n",
      "SELECT * succesfully\n"
     ]
    },
    {
     "data": {
      "text/html": [
       "<div>\n",
       "<style scoped>\n",
       "    .dataframe tbody tr th:only-of-type {\n",
       "        vertical-align: middle;\n",
       "    }\n",
       "\n",
       "    .dataframe tbody tr th {\n",
       "        vertical-align: top;\n",
       "    }\n",
       "\n",
       "    .dataframe thead th {\n",
       "        text-align: right;\n",
       "    }\n",
       "</style>\n",
       "<table border=\"1\" class=\"dataframe\">\n",
       "  <thead>\n",
       "    <tr style=\"text-align: right;\">\n",
       "      <th></th>\n",
       "      <th>id</th>\n",
       "      <th>firstname</th>\n",
       "      <th>lastname</th>\n",
       "      <th>login</th>\n",
       "      <th>email</th>\n",
       "      <th>password_hash</th>\n",
       "      <th>phone</th>\n",
       "      <th>date_of_birth</th>\n",
       "      <th>is_deleted</th>\n",
       "    </tr>\n",
       "  </thead>\n",
       "  <tbody>\n",
       "    <tr>\n",
       "      <th>0</th>\n",
       "      <td>1</td>\n",
       "      <td>Kelsie</td>\n",
       "      <td>Olson</td>\n",
       "      <td>None</td>\n",
       "      <td>xheidenreich@example.net</td>\n",
       "      <td>None</td>\n",
       "      <td>9548492646</td>\n",
       "      <td>2000-01-01</td>\n",
       "      <td>b'\\x00'</td>\n",
       "    </tr>\n",
       "  </tbody>\n",
       "</table>\n",
       "</div>"
      ],
      "text/plain": [
       "   id firstname lastname login                     email password_hash  \\\n",
       "0   1    Kelsie    Olson  None  xheidenreich@example.net          None   \n",
       "\n",
       "        phone date_of_birth is_deleted  \n",
       "0  9548492646    2000-01-01    b'\\x00'  "
      ]
     },
     "metadata": {},
     "output_type": "display_data"
    },
    {
     "name": "stdout",
     "output_type": "stream",
     "text": [
      "Succesfully connect\n",
      "####################\n",
      "Connection refused...\n",
      "(1146, \"Table 'stepik.profiles' doesn't exist\")\n"
     ]
    },
    {
     "data": {
      "text/html": [
       "<div>\n",
       "<style scoped>\n",
       "    .dataframe tbody tr th:only-of-type {\n",
       "        vertical-align: middle;\n",
       "    }\n",
       "\n",
       "    .dataframe tbody tr th {\n",
       "        vertical-align: top;\n",
       "    }\n",
       "\n",
       "    .dataframe thead th {\n",
       "        text-align: right;\n",
       "    }\n",
       "</style>\n",
       "<table border=\"1\" class=\"dataframe\">\n",
       "  <thead>\n",
       "    <tr style=\"text-align: right;\">\n",
       "      <th></th>\n",
       "    </tr>\n",
       "  </thead>\n",
       "  <tbody>\n",
       "  </tbody>\n",
       "</table>\n",
       "</div>"
      ],
      "text/plain": [
       "Empty DataFrame\n",
       "Columns: []\n",
       "Index: []"
      ]
     },
     "metadata": {},
     "output_type": "display_data"
    }
   ],
   "source": [
    "# Данные пользователя \n",
    "select_query = \"\"\"\n",
    "SELECT *\n",
    "FROM users\n",
    "WHERE id = 1;\"\"\"\n",
    "\n",
    "display(pd.DataFrame(push(select_query)))\n",
    "\n",
    "select_query = \"\"\"\n",
    "SELECT *\n",
    "FROM profiles\n",
    "WHERE user_id = 1;\"\"\"\n",
    "\n",
    "display(pd.DataFrame(push(select_query)))"
   ]
  },
  {
   "cell_type": "code",
   "execution_count": null,
   "metadata": {},
   "outputs": [
    {
     "name": "stdout",
     "output_type": "stream",
     "text": [
      "Succesfully connect\n",
      "####################\n",
      "SELECT * succesfully\n"
     ]
    },
    {
     "data": {
      "text/html": [
       "<div>\n",
       "<style scoped>\n",
       "    .dataframe tbody tr th:only-of-type {\n",
       "        vertical-align: middle;\n",
       "    }\n",
       "\n",
       "    .dataframe tbody tr th {\n",
       "        vertical-align: top;\n",
       "    }\n",
       "\n",
       "    .dataframe thead th {\n",
       "        text-align: right;\n",
       "    }\n",
       "</style>\n",
       "<table border=\"1\" class=\"dataframe\">\n",
       "  <thead>\n",
       "    <tr style=\"text-align: right;\">\n",
       "      <th></th>\n",
       "      <th>id</th>\n",
       "      <th>title</th>\n",
       "      <th>icon</th>\n",
       "      <th>invite_link</th>\n",
       "      <th>settings</th>\n",
       "      <th>owner_user_id</th>\n",
       "      <th>is_private</th>\n",
       "      <th>created_at</th>\n",
       "    </tr>\n",
       "  </thead>\n",
       "  <tbody>\n",
       "    <tr>\n",
       "      <th>0</th>\n",
       "      <td>1</td>\n",
       "      <td>General SQL news</td>\n",
       "      <td>None</td>\n",
       "      <td>https://t.me/mysql_news</td>\n",
       "      <td>None</td>\n",
       "      <td>1</td>\n",
       "      <td>b'\\x01'</td>\n",
       "      <td>2025-03-13 16:49:57</td>\n",
       "    </tr>\n",
       "  </tbody>\n",
       "</table>\n",
       "</div>"
      ],
      "text/plain": [
       "   id             title  icon              invite_link settings  \\\n",
       "0   1  General SQL news  None  https://t.me/mysql_news     None   \n",
       "\n",
       "   owner_user_id is_private          created_at  \n",
       "0              1    b'\\x01' 2025-03-13 16:49:57  "
      ]
     },
     "metadata": {},
     "output_type": "display_data"
    },
    {
     "name": "stdout",
     "output_type": "stream",
     "text": [
      "Succesfully connect\n",
      "####################\n",
      "SELECT * succesfully\n"
     ]
    },
    {
     "data": {
      "text/html": [
       "<div>\n",
       "<style scoped>\n",
       "    .dataframe tbody tr th:only-of-type {\n",
       "        vertical-align: middle;\n",
       "    }\n",
       "\n",
       "    .dataframe tbody tr th {\n",
       "        vertical-align: top;\n",
       "    }\n",
       "\n",
       "    .dataframe thead th {\n",
       "        text-align: right;\n",
       "    }\n",
       "</style>\n",
       "<table border=\"1\" class=\"dataframe\">\n",
       "  <thead>\n",
       "    <tr style=\"text-align: right;\">\n",
       "      <th></th>\n",
       "      <th>id</th>\n",
       "      <th>title</th>\n",
       "      <th>icon</th>\n",
       "      <th>invite_link</th>\n",
       "      <th>settings</th>\n",
       "      <th>owner_user_id</th>\n",
       "      <th>is_private</th>\n",
       "      <th>created_at</th>\n",
       "    </tr>\n",
       "  </thead>\n",
       "  <tbody>\n",
       "    <tr>\n",
       "      <th>0</th>\n",
       "      <td>1</td>\n",
       "      <td>General SQL news</td>\n",
       "      <td>None</td>\n",
       "      <td>https://t.me/mysql_news</td>\n",
       "      <td>None</td>\n",
       "      <td>1</td>\n",
       "      <td>b'\\x01'</td>\n",
       "      <td>2025-03-13 16:49:57</td>\n",
       "    </tr>\n",
       "  </tbody>\n",
       "</table>\n",
       "</div>"
      ],
      "text/plain": [
       "   id             title  icon              invite_link settings  \\\n",
       "0   1  General SQL news  None  https://t.me/mysql_news     None   \n",
       "\n",
       "   owner_user_id is_private          created_at  \n",
       "0              1    b'\\x01' 2025-03-13 16:49:57  "
      ]
     },
     "metadata": {},
     "output_type": "display_data"
    }
   ],
   "source": [
    "# Все каналы со словом 'sql' в названии\n",
    "select_query = \"\"\"\n",
    "SELECT *\n",
    "FROM channels \n",
    "WHERE  title LIKE '%sql%';\"\"\"\n",
    "\n",
    "display(pd.DataFrame(push(select_query)))\n",
    "\n",
    "select_query = \"\"\"\n",
    "SELECT *\n",
    "FROM channels \n",
    "WHERE  title LIKE '%SQL%';\"\"\"\n",
    "\n",
    "display(pd.DataFrame(push(select_query)))"
   ]
  },
  {
   "cell_type": "code",
   "execution_count": null,
   "metadata": {},
   "outputs": [
    {
     "name": "stdout",
     "output_type": "stream",
     "text": [
      "Succesfully connect\n",
      "####################\n",
      "SELECT * succesfully\n"
     ]
    },
    {
     "data": {
      "text/html": [
       "<div>\n",
       "<style scoped>\n",
       "    .dataframe tbody tr th:only-of-type {\n",
       "        vertical-align: middle;\n",
       "    }\n",
       "\n",
       "    .dataframe tbody tr th {\n",
       "        vertical-align: top;\n",
       "    }\n",
       "\n",
       "    .dataframe thead th {\n",
       "        text-align: right;\n",
       "    }\n",
       "</style>\n",
       "<table border=\"1\" class=\"dataframe\">\n",
       "  <thead>\n",
       "    <tr style=\"text-align: right;\">\n",
       "      <th></th>\n",
       "    </tr>\n",
       "  </thead>\n",
       "  <tbody>\n",
       "  </tbody>\n",
       "</table>\n",
       "</div>"
      ],
      "text/plain": [
       "Empty DataFrame\n",
       "Columns: []\n",
       "Index: []"
      ]
     },
     "metadata": {},
     "output_type": "display_data"
    },
    {
     "name": "stdout",
     "output_type": "stream",
     "text": [
      "Succesfully connect\n",
      "####################\n",
      "SELECT * succesfully\n"
     ]
    },
    {
     "data": {
      "text/html": [
       "<div>\n",
       "<style scoped>\n",
       "    .dataframe tbody tr th:only-of-type {\n",
       "        vertical-align: middle;\n",
       "    }\n",
       "\n",
       "    .dataframe tbody tr th {\n",
       "        vertical-align: top;\n",
       "    }\n",
       "\n",
       "    .dataframe thead th {\n",
       "        text-align: right;\n",
       "    }\n",
       "</style>\n",
       "<table border=\"1\" class=\"dataframe\">\n",
       "  <thead>\n",
       "    <tr style=\"text-align: right;\">\n",
       "      <th></th>\n",
       "      <th>id</th>\n",
       "      <th>title</th>\n",
       "      <th>icon</th>\n",
       "      <th>invite_link</th>\n",
       "      <th>settings</th>\n",
       "      <th>owner_user_id</th>\n",
       "      <th>is_private</th>\n",
       "      <th>created_at</th>\n",
       "    </tr>\n",
       "  </thead>\n",
       "  <tbody>\n",
       "    <tr>\n",
       "      <th>0</th>\n",
       "      <td>1</td>\n",
       "      <td>General SQL news</td>\n",
       "      <td>None</td>\n",
       "      <td>https://t.me/mysql_news</td>\n",
       "      <td>None</td>\n",
       "      <td>1</td>\n",
       "      <td>b'\\x01'</td>\n",
       "      <td>2025-03-13 16:49:57</td>\n",
       "    </tr>\n",
       "  </tbody>\n",
       "</table>\n",
       "</div>"
      ],
      "text/plain": [
       "   id             title  icon              invite_link settings  \\\n",
       "0   1  General SQL news  None  https://t.me/mysql_news     None   \n",
       "\n",
       "   owner_user_id is_private          created_at  \n",
       "0              1    b'\\x01' 2025-03-13 16:49:57  "
      ]
     },
     "metadata": {},
     "output_type": "display_data"
    }
   ],
   "source": [
    "# Уточним регистр букв при фильтрации\n",
    "select_query = r\"\"\"\n",
    "SELECT *\n",
    "FROM channels \n",
    "WHERE  title COLLATE utf8mb4_0900_as_cs LIKE '%sql%';\"\"\"\n",
    "\n",
    "display(pd.DataFrame(push(select_query)))\n",
    "\n",
    "select_query = \"\"\"\n",
    "SELECT *\n",
    "FROM channels \n",
    "WHERE  title COLLATE utf8mb4_0900_as_cs LIKE '%SQL%';\"\"\"\n",
    "\n",
    "display(pd.DataFrame(push(select_query)))"
   ]
  },
  {
   "cell_type": "code",
   "execution_count": null,
   "metadata": {},
   "outputs": [
    {
     "name": "stdout",
     "output_type": "stream",
     "text": [
      "Succesfully connect\n",
      "####################\n",
      "SELECT * succesfully\n"
     ]
    },
    {
     "data": {
      "text/html": [
       "<div>\n",
       "<style scoped>\n",
       "    .dataframe tbody tr th:only-of-type {\n",
       "        vertical-align: middle;\n",
       "    }\n",
       "\n",
       "    .dataframe tbody tr th {\n",
       "        vertical-align: top;\n",
       "    }\n",
       "\n",
       "    .dataframe thead th {\n",
       "        text-align: right;\n",
       "    }\n",
       "</style>\n",
       "<table border=\"1\" class=\"dataframe\">\n",
       "  <thead>\n",
       "    <tr style=\"text-align: right;\">\n",
       "      <th></th>\n",
       "      <th>id</th>\n",
       "      <th>firstname</th>\n",
       "      <th>lastname</th>\n",
       "      <th>login</th>\n",
       "      <th>email</th>\n",
       "      <th>password_hash</th>\n",
       "      <th>phone</th>\n",
       "      <th>date_of_birth</th>\n",
       "      <th>is_deleted</th>\n",
       "    </tr>\n",
       "  </thead>\n",
       "  <tbody>\n",
       "    <tr>\n",
       "      <th>0</th>\n",
       "      <td>1</td>\n",
       "      <td>Kelsie</td>\n",
       "      <td>Olson</td>\n",
       "      <td>None</td>\n",
       "      <td>xheidenreich@example.net</td>\n",
       "      <td>None</td>\n",
       "      <td>9548492646</td>\n",
       "      <td>2000-01-01</td>\n",
       "      <td>b'\\x00'</td>\n",
       "    </tr>\n",
       "  </tbody>\n",
       "</table>\n",
       "</div>"
      ],
      "text/plain": [
       "   id firstname lastname login                     email password_hash  \\\n",
       "0   1    Kelsie    Olson  None  xheidenreich@example.net          None   \n",
       "\n",
       "        phone date_of_birth is_deleted  \n",
       "0  9548492646    2000-01-01    b'\\x00'  "
      ]
     },
     "metadata": {},
     "output_type": "display_data"
    }
   ],
   "source": [
    "# Пользователи с именами на букву ‘K’\n",
    "select_query = \"\"\"\n",
    "SELECT *\n",
    "FROM users \n",
    "WHERE firstname LIKE 'K%';\"\"\"\n",
    "\n",
    "display(pd.DataFrame(push(select_query)))"
   ]
  },
  {
   "cell_type": "code",
   "execution_count": null,
   "metadata": {},
   "outputs": [
    {
     "name": "stdout",
     "output_type": "stream",
     "text": [
      "Succesfully connect\n",
      "####################\n",
      "SELECT * succesfully\n"
     ]
    },
    {
     "data": {
      "text/html": [
       "<div>\n",
       "<style scoped>\n",
       "    .dataframe tbody tr th:only-of-type {\n",
       "        vertical-align: middle;\n",
       "    }\n",
       "\n",
       "    .dataframe tbody tr th {\n",
       "        vertical-align: top;\n",
       "    }\n",
       "\n",
       "    .dataframe thead th {\n",
       "        text-align: right;\n",
       "    }\n",
       "</style>\n",
       "<table border=\"1\" class=\"dataframe\">\n",
       "  <thead>\n",
       "    <tr style=\"text-align: right;\">\n",
       "      <th></th>\n",
       "      <th>id</th>\n",
       "      <th>firstname</th>\n",
       "      <th>lastname</th>\n",
       "      <th>login</th>\n",
       "      <th>email</th>\n",
       "      <th>password_hash</th>\n",
       "      <th>phone</th>\n",
       "      <th>date_of_birth</th>\n",
       "      <th>is_deleted</th>\n",
       "    </tr>\n",
       "  </thead>\n",
       "  <tbody>\n",
       "    <tr>\n",
       "      <th>0</th>\n",
       "      <td>3</td>\n",
       "      <td>Lori</td>\n",
       "      <td>Koch</td>\n",
       "      <td>None</td>\n",
       "      <td>damaris34@example.net</td>\n",
       "      <td>None</td>\n",
       "      <td>9192291407</td>\n",
       "      <td>1995-01-01</td>\n",
       "      <td>b'\\x00'</td>\n",
       "    </tr>\n",
       "    <tr>\n",
       "      <th>1</th>\n",
       "      <td>107</td>\n",
       "      <td>Sam2</td>\n",
       "      <td>Kuphal2</td>\n",
       "      <td>None</td>\n",
       "      <td>telly.miller222@example.net</td>\n",
       "      <td>None</td>\n",
       "      <td>9917826222</td>\n",
       "      <td>2021-01-01</td>\n",
       "      <td>b'\\x00'</td>\n",
       "    </tr>\n",
       "  </tbody>\n",
       "</table>\n",
       "</div>"
      ],
      "text/plain": [
       "    id firstname lastname login                        email password_hash  \\\n",
       "0    3      Lori     Koch  None        damaris34@example.net          None   \n",
       "1  107      Sam2  Kuphal2  None  telly.miller222@example.net          None   \n",
       "\n",
       "        phone date_of_birth is_deleted  \n",
       "0  9192291407    1995-01-01    b'\\x00'  \n",
       "1  9917826222    2021-01-01    b'\\x00'  "
      ]
     },
     "metadata": {},
     "output_type": "display_data"
    }
   ],
   "source": [
    "# Пользователи с фамилией из 4 букв\n",
    "select_query = \"\"\"\n",
    "SELECT *\n",
    "FROM users \n",
    "WHERE firstname LIKE '____';\"\"\"\n",
    "\n",
    "display(pd.DataFrame(push(select_query)))"
   ]
  },
  {
   "cell_type": "markdown",
   "metadata": {},
   "source": [
    "## 4.2 Сортировка (ORDER BY)"
   ]
  },
  {
   "cell_type": "code",
   "execution_count": null,
   "metadata": {},
   "outputs": [
    {
     "name": "stdout",
     "output_type": "stream",
     "text": [
      "Succesfully connect\n",
      "####################\n",
      "INSERT INTO succesfully\n"
     ]
    }
   ],
   "source": [
    "# Генерация данных\n",
    "insert_query = \"\"\"\n",
    "INSERT INTO `private_messages`(sender_id, receiver_id, media_type, body, filename, created_at)\n",
    "VALUES\n",
    "(1,2,'text','Eveniet suscipit ullam occaecati consequatur hic. Nulla est in molestiae odit. Placeat perferendis consequatur qui omnis id vel autem.','officiis','2010-04-07 09:01:02'),\n",
    "(2,1,'audio','Non repudiandae maiores molestiae vel doloribus. Quis facere blanditiis est magnam est ut vero.','qui','1971-05-29 07:31:20'),\n",
    "(1,3,'text','Voluptas qui consequatur quae sunt et consequatur. Rem alias sed cupiditate explicabo voluptate. Officiis repellat porro accusamus eveniet quos. Laborum dolores sed enim aut.','excepturi','1998-10-28 20:08:01'),\n",
    "(1,4,'video','Est delectus tempora exercitationem atque tempora reiciendis nulla voluptatem. Cupiditate non fugit blanditiis quasi ad et autem expedita. Aut est provident odio quasi possimus.','vitae','2001-12-03 15:54:43'),\n",
    "(1,2,'video','Est ducimus amet et asperiores. Reiciendis debitis qui ipsa. Nemo laboriosam ea aut omnis voluptates quisquam accusantium. Quibusdam totam similique aut.','optio','1970-09-18 20:39:35'),\n",
    "(1,2,'video','Quis cupiditate quis maxime et placeat consectetur ut quis. Voluptas unde voluptatem deserunt in dolorum maxime. Sunt fugiat sit tenetur placeat at.','laboriosam','1980-05-11 03:39:43'),\n",
    "(2,1,'audio','Voluptatum nihil rem laboriosam delectus aperiam consequuntur et modi. Laudantium molestias corporis quo omnis ut ea. At minima iure et voluptatum culpa deleniti non. Sint laboriosam molestias dolor vel. Quibusdam omnis quas ullam dolor.','sit','1988-08-19 10:30:44'),\n",
    "(2,4,'audio','Nemo eos sed aspernatur voluptates perspiciatis tenetur. Voluptas sunt magnam vero nam earum. Magnam eum vitae qui. Vel atque accusantium in non rem non et.','consectetur','1984-06-28 16:22:44'),\n",
    "(4,5,'audio','Quod nihil possimus id qui. Quasi officia rerum eum doloribus est voluptas maxime. Et debitis enim non enim fugit.','repellat','1981-12-11 16:04:11'),\n",
    "(3,1,'text','Qui voluptatem earum temporibus rem vel sequi. Et quasi vel qui est autem aliquam. Modi est voluptatem aut rerum ea velit. Voluptate et eligendi debitis nostrum nihil dolorum.','nihil','1988-02-16 13:29:14'),\n",
    "(3,2,'image','Rem et ullam cum vitae autem reprehenderit quia. Enim a ipsam id ut aliquam est error. Quis dolorum omnis expedita eaque maiores illo.','et','2015-04-07 18:02:42')\n",
    ";\"\"\"\n",
    "push(insert_query)"
   ]
  },
  {
   "cell_type": "code",
   "execution_count": null,
   "metadata": {},
   "outputs": [
    {
     "name": "stdout",
     "output_type": "stream",
     "text": [
      "Succesfully connect\n",
      "####################\n",
      "SELECT * succesfully\n"
     ]
    },
    {
     "data": {
      "text/html": [
       "<div>\n",
       "<style scoped>\n",
       "    .dataframe tbody tr th:only-of-type {\n",
       "        vertical-align: middle;\n",
       "    }\n",
       "\n",
       "    .dataframe tbody tr th {\n",
       "        vertical-align: top;\n",
       "    }\n",
       "\n",
       "    .dataframe thead th {\n",
       "        text-align: right;\n",
       "    }\n",
       "</style>\n",
       "<table border=\"1\" class=\"dataframe\">\n",
       "  <thead>\n",
       "    <tr style=\"text-align: right;\">\n",
       "      <th></th>\n",
       "      <th>id</th>\n",
       "      <th>sender_id</th>\n",
       "      <th>receiver_id</th>\n",
       "      <th>reply_to_id</th>\n",
       "      <th>media_type</th>\n",
       "      <th>body</th>\n",
       "      <th>filename</th>\n",
       "      <th>created_at</th>\n",
       "      <th>is_deleted</th>\n",
       "    </tr>\n",
       "  </thead>\n",
       "  <tbody>\n",
       "    <tr>\n",
       "      <th>0</th>\n",
       "      <td>12</td>\n",
       "      <td>1</td>\n",
       "      <td>2</td>\n",
       "      <td>None</td>\n",
       "      <td>text</td>\n",
       "      <td>Eveniet suscipit ullam occaecati consequatur h...</td>\n",
       "      <td>officiis</td>\n",
       "      <td>2010-04-07 09:01:02</td>\n",
       "      <td>b'\\x00'</td>\n",
       "    </tr>\n",
       "    <tr>\n",
       "      <th>1</th>\n",
       "      <td>14</td>\n",
       "      <td>1</td>\n",
       "      <td>3</td>\n",
       "      <td>None</td>\n",
       "      <td>text</td>\n",
       "      <td>Voluptas qui consequatur quae sunt et consequa...</td>\n",
       "      <td>excepturi</td>\n",
       "      <td>1998-10-28 20:08:01</td>\n",
       "      <td>b'\\x00'</td>\n",
       "    </tr>\n",
       "    <tr>\n",
       "      <th>2</th>\n",
       "      <td>15</td>\n",
       "      <td>1</td>\n",
       "      <td>4</td>\n",
       "      <td>None</td>\n",
       "      <td>video</td>\n",
       "      <td>Est delectus tempora exercitationem atque temp...</td>\n",
       "      <td>vitae</td>\n",
       "      <td>2001-12-03 15:54:43</td>\n",
       "      <td>b'\\x00'</td>\n",
       "    </tr>\n",
       "    <tr>\n",
       "      <th>3</th>\n",
       "      <td>16</td>\n",
       "      <td>1</td>\n",
       "      <td>2</td>\n",
       "      <td>None</td>\n",
       "      <td>video</td>\n",
       "      <td>Est ducimus amet et asperiores. Reiciendis deb...</td>\n",
       "      <td>optio</td>\n",
       "      <td>1970-09-18 20:39:35</td>\n",
       "      <td>b'\\x00'</td>\n",
       "    </tr>\n",
       "    <tr>\n",
       "      <th>4</th>\n",
       "      <td>17</td>\n",
       "      <td>1</td>\n",
       "      <td>2</td>\n",
       "      <td>None</td>\n",
       "      <td>video</td>\n",
       "      <td>Quis cupiditate quis maxime et placeat consect...</td>\n",
       "      <td>laboriosam</td>\n",
       "      <td>1980-05-11 03:39:43</td>\n",
       "      <td>b'\\x00'</td>\n",
       "    </tr>\n",
       "  </tbody>\n",
       "</table>\n",
       "</div>"
      ],
      "text/plain": [
       "   id  sender_id  receiver_id reply_to_id media_type  \\\n",
       "0  12          1            2        None       text   \n",
       "1  14          1            3        None       text   \n",
       "2  15          1            4        None      video   \n",
       "3  16          1            2        None      video   \n",
       "4  17          1            2        None      video   \n",
       "\n",
       "                                                body    filename  \\\n",
       "0  Eveniet suscipit ullam occaecati consequatur h...    officiis   \n",
       "1  Voluptas qui consequatur quae sunt et consequa...   excepturi   \n",
       "2  Est delectus tempora exercitationem atque temp...       vitae   \n",
       "3  Est ducimus amet et asperiores. Reiciendis deb...       optio   \n",
       "4  Quis cupiditate quis maxime et placeat consect...  laboriosam   \n",
       "\n",
       "           created_at is_deleted  \n",
       "0 2010-04-07 09:01:02    b'\\x00'  \n",
       "1 1998-10-28 20:08:01    b'\\x00'  \n",
       "2 2001-12-03 15:54:43    b'\\x00'  \n",
       "3 1970-09-18 20:39:35    b'\\x00'  \n",
       "4 1980-05-11 03:39:43    b'\\x00'  "
      ]
     },
     "metadata": {},
     "output_type": "display_data"
    },
    {
     "name": "stdout",
     "output_type": "stream",
     "text": [
      "Succesfully connect\n",
      "####################\n",
      "SELECT * succesfully\n"
     ]
    },
    {
     "data": {
      "text/html": [
       "<div>\n",
       "<style scoped>\n",
       "    .dataframe tbody tr th:only-of-type {\n",
       "        vertical-align: middle;\n",
       "    }\n",
       "\n",
       "    .dataframe tbody tr th {\n",
       "        vertical-align: top;\n",
       "    }\n",
       "\n",
       "    .dataframe thead th {\n",
       "        text-align: right;\n",
       "    }\n",
       "</style>\n",
       "<table border=\"1\" class=\"dataframe\">\n",
       "  <thead>\n",
       "    <tr style=\"text-align: right;\">\n",
       "      <th></th>\n",
       "      <th>id</th>\n",
       "      <th>sender_id</th>\n",
       "      <th>receiver_id</th>\n",
       "      <th>reply_to_id</th>\n",
       "      <th>media_type</th>\n",
       "      <th>body</th>\n",
       "      <th>filename</th>\n",
       "      <th>created_at</th>\n",
       "      <th>is_deleted</th>\n",
       "    </tr>\n",
       "  </thead>\n",
       "  <tbody>\n",
       "    <tr>\n",
       "      <th>0</th>\n",
       "      <td>13</td>\n",
       "      <td>2</td>\n",
       "      <td>1</td>\n",
       "      <td>None</td>\n",
       "      <td>audio</td>\n",
       "      <td>Non repudiandae maiores molestiae vel doloribu...</td>\n",
       "      <td>qui</td>\n",
       "      <td>1971-05-29 07:31:20</td>\n",
       "      <td>b'\\x00'</td>\n",
       "    </tr>\n",
       "    <tr>\n",
       "      <th>1</th>\n",
       "      <td>18</td>\n",
       "      <td>2</td>\n",
       "      <td>1</td>\n",
       "      <td>None</td>\n",
       "      <td>audio</td>\n",
       "      <td>Voluptatum nihil rem laboriosam delectus aperi...</td>\n",
       "      <td>sit</td>\n",
       "      <td>1988-08-19 10:30:44</td>\n",
       "      <td>b'\\x00'</td>\n",
       "    </tr>\n",
       "    <tr>\n",
       "      <th>2</th>\n",
       "      <td>21</td>\n",
       "      <td>3</td>\n",
       "      <td>1</td>\n",
       "      <td>None</td>\n",
       "      <td>text</td>\n",
       "      <td>Qui voluptatem earum temporibus rem vel sequi....</td>\n",
       "      <td>nihil</td>\n",
       "      <td>1988-02-16 13:29:14</td>\n",
       "      <td>b'\\x00'</td>\n",
       "    </tr>\n",
       "  </tbody>\n",
       "</table>\n",
       "</div>"
      ],
      "text/plain": [
       "   id  sender_id  receiver_id reply_to_id media_type  \\\n",
       "0  13          2            1        None      audio   \n",
       "1  18          2            1        None      audio   \n",
       "2  21          3            1        None       text   \n",
       "\n",
       "                                                body filename  \\\n",
       "0  Non repudiandae maiores molestiae vel doloribu...      qui   \n",
       "1  Voluptatum nihil rem laboriosam delectus aperi...      sit   \n",
       "2  Qui voluptatem earum temporibus rem vel sequi....    nihil   \n",
       "\n",
       "           created_at is_deleted  \n",
       "0 1971-05-29 07:31:20    b'\\x00'  \n",
       "1 1988-08-19 10:30:44    b'\\x00'  \n",
       "2 1988-02-16 13:29:14    b'\\x00'  "
      ]
     },
     "metadata": {},
     "output_type": "display_data"
    }
   ],
   "source": [
    "# личные сообщения\n",
    "select_query = \"\"\"\n",
    "SELECT *\n",
    "FROM private_messages \n",
    "WHERE sender_id = 1;\"\"\"\n",
    "\n",
    "display(pd.DataFrame(push(select_query)))\n",
    "\n",
    "select_query = \"\"\"\n",
    "SELECT *\n",
    "FROM private_messages \n",
    "WHERE receiver_id = 1;\"\"\"\n",
    "\n",
    "display(pd.DataFrame(push(select_query)))"
   ]
  },
  {
   "cell_type": "code",
   "execution_count": null,
   "metadata": {},
   "outputs": [
    {
     "name": "stdout",
     "output_type": "stream",
     "text": [
      "Succesfully connect\n",
      "####################\n",
      "SELECT * succesfully\n"
     ]
    },
    {
     "data": {
      "text/html": [
       "<div>\n",
       "<style scoped>\n",
       "    .dataframe tbody tr th:only-of-type {\n",
       "        vertical-align: middle;\n",
       "    }\n",
       "\n",
       "    .dataframe tbody tr th {\n",
       "        vertical-align: top;\n",
       "    }\n",
       "\n",
       "    .dataframe thead th {\n",
       "        text-align: right;\n",
       "    }\n",
       "</style>\n",
       "<table border=\"1\" class=\"dataframe\">\n",
       "  <thead>\n",
       "    <tr style=\"text-align: right;\">\n",
       "      <th></th>\n",
       "      <th>id</th>\n",
       "      <th>sender_id</th>\n",
       "      <th>receiver_id</th>\n",
       "      <th>reply_to_id</th>\n",
       "      <th>media_type</th>\n",
       "      <th>body</th>\n",
       "      <th>filename</th>\n",
       "      <th>created_at</th>\n",
       "      <th>is_deleted</th>\n",
       "    </tr>\n",
       "  </thead>\n",
       "  <tbody>\n",
       "    <tr>\n",
       "      <th>0</th>\n",
       "      <td>12</td>\n",
       "      <td>1</td>\n",
       "      <td>2</td>\n",
       "      <td>None</td>\n",
       "      <td>text</td>\n",
       "      <td>Eveniet suscipit ullam occaecati consequatur h...</td>\n",
       "      <td>officiis</td>\n",
       "      <td>2010-04-07 09:01:02</td>\n",
       "      <td>b'\\x00'</td>\n",
       "    </tr>\n",
       "    <tr>\n",
       "      <th>1</th>\n",
       "      <td>18</td>\n",
       "      <td>2</td>\n",
       "      <td>1</td>\n",
       "      <td>None</td>\n",
       "      <td>audio</td>\n",
       "      <td>Voluptatum nihil rem laboriosam delectus aperi...</td>\n",
       "      <td>sit</td>\n",
       "      <td>1988-08-19 10:30:44</td>\n",
       "      <td>b'\\x00'</td>\n",
       "    </tr>\n",
       "    <tr>\n",
       "      <th>2</th>\n",
       "      <td>17</td>\n",
       "      <td>1</td>\n",
       "      <td>2</td>\n",
       "      <td>None</td>\n",
       "      <td>video</td>\n",
       "      <td>Quis cupiditate quis maxime et placeat consect...</td>\n",
       "      <td>laboriosam</td>\n",
       "      <td>1980-05-11 03:39:43</td>\n",
       "      <td>b'\\x00'</td>\n",
       "    </tr>\n",
       "    <tr>\n",
       "      <th>3</th>\n",
       "      <td>13</td>\n",
       "      <td>2</td>\n",
       "      <td>1</td>\n",
       "      <td>None</td>\n",
       "      <td>audio</td>\n",
       "      <td>Non repudiandae maiores molestiae vel doloribu...</td>\n",
       "      <td>qui</td>\n",
       "      <td>1971-05-29 07:31:20</td>\n",
       "      <td>b'\\x00'</td>\n",
       "    </tr>\n",
       "    <tr>\n",
       "      <th>4</th>\n",
       "      <td>16</td>\n",
       "      <td>1</td>\n",
       "      <td>2</td>\n",
       "      <td>None</td>\n",
       "      <td>video</td>\n",
       "      <td>Est ducimus amet et asperiores. Reiciendis deb...</td>\n",
       "      <td>optio</td>\n",
       "      <td>1970-09-18 20:39:35</td>\n",
       "      <td>b'\\x00'</td>\n",
       "    </tr>\n",
       "  </tbody>\n",
       "</table>\n",
       "</div>"
      ],
      "text/plain": [
       "   id  sender_id  receiver_id reply_to_id media_type  \\\n",
       "0  12          1            2        None       text   \n",
       "1  18          2            1        None      audio   \n",
       "2  17          1            2        None      video   \n",
       "3  13          2            1        None      audio   \n",
       "4  16          1            2        None      video   \n",
       "\n",
       "                                                body    filename  \\\n",
       "0  Eveniet suscipit ullam occaecati consequatur h...    officiis   \n",
       "1  Voluptatum nihil rem laboriosam delectus aperi...         sit   \n",
       "2  Quis cupiditate quis maxime et placeat consect...  laboriosam   \n",
       "3  Non repudiandae maiores molestiae vel doloribu...         qui   \n",
       "4  Est ducimus amet et asperiores. Reiciendis deb...       optio   \n",
       "\n",
       "           created_at is_deleted  \n",
       "0 2010-04-07 09:01:02    b'\\x00'  \n",
       "1 1988-08-19 10:30:44    b'\\x00'  \n",
       "2 1980-05-11 03:39:43    b'\\x00'  \n",
       "3 1971-05-29 07:31:20    b'\\x00'  \n",
       "4 1970-09-18 20:39:35    b'\\x00'  "
      ]
     },
     "metadata": {},
     "output_type": "display_data"
    }
   ],
   "source": [
    "# диалог между user_id = 1 и user_id = 2\n",
    "select_query = \"\"\"\n",
    "SELECT *\n",
    "FROM private_messages \n",
    "WHERE sender_id = 1 AND receiver_id = 2 \n",
    "    OR sender_id = 2 AND receiver_id = 1\n",
    "ORDER BY created_at desc;\"\"\"\n",
    "\n",
    "display(pd.DataFrame(push(select_query)))"
   ]
  },
  {
   "cell_type": "code",
   "execution_count": null,
   "metadata": {},
   "outputs": [
    {
     "name": "stdout",
     "output_type": "stream",
     "text": [
      "Succesfully connect\n",
      "####################\n",
      "ALTER TABLE succesfully\n"
     ]
    }
   ],
   "source": [
    "#\tнепрочитанные сообщения\n",
    "\n",
    "# добавим колонку is_read DEFAULT FALSE\n",
    "add_column_query = \"\"\"\n",
    "ALTER TABLE private_messages\n",
    "ADD COLUMN is_read BIT DEFAULT false NOT NULL;\"\"\"\n",
    "\n",
    "push(add_column_query)"
   ]
  },
  {
   "cell_type": "code",
   "execution_count": null,
   "metadata": {},
   "outputs": [
    {
     "name": "stdout",
     "output_type": "stream",
     "text": [
      "Succesfully connect\n",
      "####################\n",
      "SELECT COUNT(*) succesfully\n"
     ]
    },
    {
     "data": {
      "text/html": [
       "<div>\n",
       "<style scoped>\n",
       "    .dataframe tbody tr th:only-of-type {\n",
       "        vertical-align: middle;\n",
       "    }\n",
       "\n",
       "    .dataframe tbody tr th {\n",
       "        vertical-align: top;\n",
       "    }\n",
       "\n",
       "    .dataframe thead th {\n",
       "        text-align: right;\n",
       "    }\n",
       "</style>\n",
       "<table border=\"1\" class=\"dataframe\">\n",
       "  <thead>\n",
       "    <tr style=\"text-align: right;\">\n",
       "      <th></th>\n",
       "      <th>COUNT(*)</th>\n",
       "    </tr>\n",
       "  </thead>\n",
       "  <tbody>\n",
       "    <tr>\n",
       "      <th>0</th>\n",
       "      <td>2</td>\n",
       "    </tr>\n",
       "  </tbody>\n",
       "</table>\n",
       "</div>"
      ],
      "text/plain": [
       "   COUNT(*)\n",
       "0         2"
      ]
     },
     "metadata": {},
     "output_type": "display_data"
    }
   ],
   "source": [
    "# сколько у меня непрочитанных сообщений от пользователя Х\n",
    "select_query = \"\"\"\n",
    "SELECT COUNT(*)\n",
    "FROM private_messages \n",
    "WHERE sender_id = 2 and receiver_id = 1\n",
    "\tAND is_read = 0;\"\"\"\n",
    "\n",
    "display(pd.DataFrame(push(select_query)))"
   ]
  },
  {
   "cell_type": "code",
   "execution_count": null,
   "metadata": {},
   "outputs": [
    {
     "name": "stdout",
     "output_type": "stream",
     "text": [
      "Succesfully connect\n",
      "####################\n",
      "SELECT COUNT(*) succesfully\n"
     ]
    },
    {
     "data": {
      "text/html": [
       "<div>\n",
       "<style scoped>\n",
       "    .dataframe tbody tr th:only-of-type {\n",
       "        vertical-align: middle;\n",
       "    }\n",
       "\n",
       "    .dataframe tbody tr th {\n",
       "        vertical-align: top;\n",
       "    }\n",
       "\n",
       "    .dataframe thead th {\n",
       "        text-align: right;\n",
       "    }\n",
       "</style>\n",
       "<table border=\"1\" class=\"dataframe\">\n",
       "  <thead>\n",
       "    <tr style=\"text-align: right;\">\n",
       "      <th></th>\n",
       "      <th>COUNT(*)</th>\n",
       "    </tr>\n",
       "  </thead>\n",
       "  <tbody>\n",
       "    <tr>\n",
       "      <th>0</th>\n",
       "      <td>3</td>\n",
       "    </tr>\n",
       "  </tbody>\n",
       "</table>\n",
       "</div>"
      ],
      "text/plain": [
       "   COUNT(*)\n",
       "0         3"
      ]
     },
     "metadata": {},
     "output_type": "display_data"
    }
   ],
   "source": [
    "# сколько у меня всего непрочитанных сообщений\n",
    "select_query = \"\"\"\n",
    "SELECT COUNT(*)\n",
    "FROM private_messages \n",
    "WHERE receiver_id = 1 \n",
    "\tAND is_read = 0;\"\"\"\n",
    "\n",
    "display(pd.DataFrame(push(select_query)))"
   ]
  },
  {
   "cell_type": "code",
   "execution_count": null,
   "metadata": {},
   "outputs": [
    {
     "name": "stdout",
     "output_type": "stream",
     "text": [
      "Succesfully connect\n",
      "####################\n",
      "UPDATE private_messages succesfully\n"
     ]
    }
   ],
   "source": [
    "# отметим сообщения, как прочитанные\n",
    "# эмулируем ситуацию, что пользователь прочитал определенный диалог\n",
    "\n",
    "update_query = \"\"\"\n",
    "UPDATE private_messages\n",
    "SET is_read = 1\n",
    "WHERE receiver_id = 1 AND sender_id = 2;\"\"\"\n",
    "\n",
    "push(update_query)"
   ]
  },
  {
   "cell_type": "code",
   "execution_count": null,
   "metadata": {},
   "outputs": [
    {
     "name": "stdout",
     "output_type": "stream",
     "text": [
      "Succesfully connect\n",
      "####################\n",
      "SELECT COUNT(*) succesfully\n"
     ]
    },
    {
     "data": {
      "text/html": [
       "<div>\n",
       "<style scoped>\n",
       "    .dataframe tbody tr th:only-of-type {\n",
       "        vertical-align: middle;\n",
       "    }\n",
       "\n",
       "    .dataframe tbody tr th {\n",
       "        vertical-align: top;\n",
       "    }\n",
       "\n",
       "    .dataframe thead th {\n",
       "        text-align: right;\n",
       "    }\n",
       "</style>\n",
       "<table border=\"1\" class=\"dataframe\">\n",
       "  <thead>\n",
       "    <tr style=\"text-align: right;\">\n",
       "      <th></th>\n",
       "      <th>COUNT(*)</th>\n",
       "    </tr>\n",
       "  </thead>\n",
       "  <tbody>\n",
       "    <tr>\n",
       "      <th>0</th>\n",
       "      <td>1</td>\n",
       "    </tr>\n",
       "  </tbody>\n",
       "</table>\n",
       "</div>"
      ],
      "text/plain": [
       "   COUNT(*)\n",
       "0         1"
      ]
     },
     "metadata": {},
     "output_type": "display_data"
    }
   ],
   "source": [
    "# сколько у меня всего непрочитанных сообщений\n",
    "select_query = \"\"\"\n",
    "SELECT COUNT(*)\n",
    "FROM private_messages \n",
    "WHERE receiver_id = 1 \n",
    "\tAND is_read = 0;\"\"\"\n",
    "\n",
    "display(pd.DataFrame(push(select_query)))"
   ]
  },
  {
   "cell_type": "markdown",
   "metadata": {},
   "source": [
    "## 4.3 Агрегирующие функции (COUNT, MIN, MAX, AVG, SUM)"
   ]
  },
  {
   "cell_type": "code",
   "execution_count": null,
   "metadata": {},
   "outputs": [
    {
     "name": "stdout",
     "output_type": "stream",
     "text": [
      "Succesfully connect\n",
      "####################\n",
      "SELECT * succesfully\n"
     ]
    },
    {
     "data": {
      "text/html": [
       "<div>\n",
       "<style scoped>\n",
       "    .dataframe tbody tr th:only-of-type {\n",
       "        vertical-align: middle;\n",
       "    }\n",
       "\n",
       "    .dataframe tbody tr th {\n",
       "        vertical-align: top;\n",
       "    }\n",
       "\n",
       "    .dataframe thead th {\n",
       "        text-align: right;\n",
       "    }\n",
       "</style>\n",
       "<table border=\"1\" class=\"dataframe\">\n",
       "  <thead>\n",
       "    <tr style=\"text-align: right;\">\n",
       "      <th></th>\n",
       "      <th>id</th>\n",
       "      <th>sender_id</th>\n",
       "      <th>receiver_id</th>\n",
       "      <th>reply_to_id</th>\n",
       "      <th>media_type</th>\n",
       "      <th>body</th>\n",
       "      <th>filename</th>\n",
       "      <th>created_at</th>\n",
       "      <th>is_deleted</th>\n",
       "      <th>is_read</th>\n",
       "    </tr>\n",
       "  </thead>\n",
       "  <tbody>\n",
       "    <tr>\n",
       "      <th>0</th>\n",
       "      <td>9</td>\n",
       "      <td>4</td>\n",
       "      <td>5</td>\n",
       "      <td>None</td>\n",
       "      <td>audio</td>\n",
       "      <td>Quod nihil possimus id qui. Quasi officia reru...</td>\n",
       "      <td>repellat</td>\n",
       "      <td>1981-12-11 16:04:11</td>\n",
       "      <td>b'\\x00'</td>\n",
       "      <td>b'\\x00'</td>\n",
       "    </tr>\n",
       "    <tr>\n",
       "      <th>1</th>\n",
       "      <td>12</td>\n",
       "      <td>1</td>\n",
       "      <td>2</td>\n",
       "      <td>None</td>\n",
       "      <td>text</td>\n",
       "      <td>Eveniet suscipit ullam occaecati consequatur h...</td>\n",
       "      <td>officiis</td>\n",
       "      <td>2010-04-07 09:01:02</td>\n",
       "      <td>b'\\x00'</td>\n",
       "      <td>b'\\x00'</td>\n",
       "    </tr>\n",
       "    <tr>\n",
       "      <th>2</th>\n",
       "      <td>13</td>\n",
       "      <td>2</td>\n",
       "      <td>1</td>\n",
       "      <td>None</td>\n",
       "      <td>audio</td>\n",
       "      <td>Non repudiandae maiores molestiae vel doloribu...</td>\n",
       "      <td>qui</td>\n",
       "      <td>1971-05-29 07:31:20</td>\n",
       "      <td>b'\\x00'</td>\n",
       "      <td>b'\\x01'</td>\n",
       "    </tr>\n",
       "    <tr>\n",
       "      <th>3</th>\n",
       "      <td>14</td>\n",
       "      <td>1</td>\n",
       "      <td>3</td>\n",
       "      <td>None</td>\n",
       "      <td>text</td>\n",
       "      <td>Voluptas qui consequatur quae sunt et consequa...</td>\n",
       "      <td>excepturi</td>\n",
       "      <td>1998-10-28 20:08:01</td>\n",
       "      <td>b'\\x00'</td>\n",
       "      <td>b'\\x00'</td>\n",
       "    </tr>\n",
       "    <tr>\n",
       "      <th>4</th>\n",
       "      <td>15</td>\n",
       "      <td>1</td>\n",
       "      <td>4</td>\n",
       "      <td>None</td>\n",
       "      <td>video</td>\n",
       "      <td>Est delectus tempora exercitationem atque temp...</td>\n",
       "      <td>vitae</td>\n",
       "      <td>2001-12-03 15:54:43</td>\n",
       "      <td>b'\\x00'</td>\n",
       "      <td>b'\\x00'</td>\n",
       "    </tr>\n",
       "    <tr>\n",
       "      <th>5</th>\n",
       "      <td>16</td>\n",
       "      <td>1</td>\n",
       "      <td>2</td>\n",
       "      <td>None</td>\n",
       "      <td>video</td>\n",
       "      <td>Est ducimus amet et asperiores. Reiciendis deb...</td>\n",
       "      <td>optio</td>\n",
       "      <td>1970-09-18 20:39:35</td>\n",
       "      <td>b'\\x00'</td>\n",
       "      <td>b'\\x00'</td>\n",
       "    </tr>\n",
       "    <tr>\n",
       "      <th>6</th>\n",
       "      <td>17</td>\n",
       "      <td>1</td>\n",
       "      <td>2</td>\n",
       "      <td>None</td>\n",
       "      <td>video</td>\n",
       "      <td>Quis cupiditate quis maxime et placeat consect...</td>\n",
       "      <td>laboriosam</td>\n",
       "      <td>1980-05-11 03:39:43</td>\n",
       "      <td>b'\\x00'</td>\n",
       "      <td>b'\\x00'</td>\n",
       "    </tr>\n",
       "    <tr>\n",
       "      <th>7</th>\n",
       "      <td>18</td>\n",
       "      <td>2</td>\n",
       "      <td>1</td>\n",
       "      <td>None</td>\n",
       "      <td>audio</td>\n",
       "      <td>Voluptatum nihil rem laboriosam delectus aperi...</td>\n",
       "      <td>sit</td>\n",
       "      <td>1988-08-19 10:30:44</td>\n",
       "      <td>b'\\x00'</td>\n",
       "      <td>b'\\x01'</td>\n",
       "    </tr>\n",
       "    <tr>\n",
       "      <th>8</th>\n",
       "      <td>19</td>\n",
       "      <td>2</td>\n",
       "      <td>4</td>\n",
       "      <td>None</td>\n",
       "      <td>audio</td>\n",
       "      <td>Nemo eos sed aspernatur voluptates perspiciati...</td>\n",
       "      <td>consectetur</td>\n",
       "      <td>1984-06-28 16:22:44</td>\n",
       "      <td>b'\\x00'</td>\n",
       "      <td>b'\\x00'</td>\n",
       "    </tr>\n",
       "    <tr>\n",
       "      <th>9</th>\n",
       "      <td>20</td>\n",
       "      <td>4</td>\n",
       "      <td>5</td>\n",
       "      <td>None</td>\n",
       "      <td>audio</td>\n",
       "      <td>Quod nihil possimus id qui. Quasi officia reru...</td>\n",
       "      <td>repellat</td>\n",
       "      <td>1981-12-11 16:04:11</td>\n",
       "      <td>b'\\x00'</td>\n",
       "      <td>b'\\x00'</td>\n",
       "    </tr>\n",
       "    <tr>\n",
       "      <th>10</th>\n",
       "      <td>21</td>\n",
       "      <td>3</td>\n",
       "      <td>1</td>\n",
       "      <td>None</td>\n",
       "      <td>text</td>\n",
       "      <td>Qui voluptatem earum temporibus rem vel sequi....</td>\n",
       "      <td>nihil</td>\n",
       "      <td>1988-02-16 13:29:14</td>\n",
       "      <td>b'\\x00'</td>\n",
       "      <td>b'\\x00'</td>\n",
       "    </tr>\n",
       "    <tr>\n",
       "      <th>11</th>\n",
       "      <td>22</td>\n",
       "      <td>3</td>\n",
       "      <td>2</td>\n",
       "      <td>None</td>\n",
       "      <td>image</td>\n",
       "      <td>Rem et ullam cum vitae autem reprehenderit qui...</td>\n",
       "      <td>et</td>\n",
       "      <td>2015-04-07 18:02:42</td>\n",
       "      <td>b'\\x00'</td>\n",
       "      <td>b'\\x00'</td>\n",
       "    </tr>\n",
       "  </tbody>\n",
       "</table>\n",
       "</div>"
      ],
      "text/plain": [
       "    id  sender_id  receiver_id reply_to_id media_type  \\\n",
       "0    9          4            5        None      audio   \n",
       "1   12          1            2        None       text   \n",
       "2   13          2            1        None      audio   \n",
       "3   14          1            3        None       text   \n",
       "4   15          1            4        None      video   \n",
       "5   16          1            2        None      video   \n",
       "6   17          1            2        None      video   \n",
       "7   18          2            1        None      audio   \n",
       "8   19          2            4        None      audio   \n",
       "9   20          4            5        None      audio   \n",
       "10  21          3            1        None       text   \n",
       "11  22          3            2        None      image   \n",
       "\n",
       "                                                 body     filename  \\\n",
       "0   Quod nihil possimus id qui. Quasi officia reru...     repellat   \n",
       "1   Eveniet suscipit ullam occaecati consequatur h...     officiis   \n",
       "2   Non repudiandae maiores molestiae vel doloribu...          qui   \n",
       "3   Voluptas qui consequatur quae sunt et consequa...    excepturi   \n",
       "4   Est delectus tempora exercitationem atque temp...        vitae   \n",
       "5   Est ducimus amet et asperiores. Reiciendis deb...        optio   \n",
       "6   Quis cupiditate quis maxime et placeat consect...   laboriosam   \n",
       "7   Voluptatum nihil rem laboriosam delectus aperi...          sit   \n",
       "8   Nemo eos sed aspernatur voluptates perspiciati...  consectetur   \n",
       "9   Quod nihil possimus id qui. Quasi officia reru...     repellat   \n",
       "10  Qui voluptatem earum temporibus rem vel sequi....        nihil   \n",
       "11  Rem et ullam cum vitae autem reprehenderit qui...           et   \n",
       "\n",
       "            created_at is_deleted  is_read  \n",
       "0  1981-12-11 16:04:11    b'\\x00'  b'\\x00'  \n",
       "1  2010-04-07 09:01:02    b'\\x00'  b'\\x00'  \n",
       "2  1971-05-29 07:31:20    b'\\x00'  b'\\x01'  \n",
       "3  1998-10-28 20:08:01    b'\\x00'  b'\\x00'  \n",
       "4  2001-12-03 15:54:43    b'\\x00'  b'\\x00'  \n",
       "5  1970-09-18 20:39:35    b'\\x00'  b'\\x00'  \n",
       "6  1980-05-11 03:39:43    b'\\x00'  b'\\x00'  \n",
       "7  1988-08-19 10:30:44    b'\\x00'  b'\\x01'  \n",
       "8  1984-06-28 16:22:44    b'\\x00'  b'\\x00'  \n",
       "9  1981-12-11 16:04:11    b'\\x00'  b'\\x00'  \n",
       "10 1988-02-16 13:29:14    b'\\x00'  b'\\x00'  \n",
       "11 2015-04-07 18:02:42    b'\\x00'  b'\\x00'  "
      ]
     },
     "metadata": {},
     "output_type": "display_data"
    }
   ],
   "source": [
    "display(pd.DataFrame(push('SELECT * FROM private_messages')))"
   ]
  },
  {
   "cell_type": "code",
   "execution_count": null,
   "metadata": {},
   "outputs": [
    {
     "name": "stdout",
     "output_type": "stream",
     "text": [
      "Succesfully connect\n",
      "####################\n",
      "SELECT * succesfully\n"
     ]
    },
    {
     "data": {
      "text/html": [
       "<div>\n",
       "<style scoped>\n",
       "    .dataframe tbody tr th:only-of-type {\n",
       "        vertical-align: middle;\n",
       "    }\n",
       "\n",
       "    .dataframe tbody tr th {\n",
       "        vertical-align: top;\n",
       "    }\n",
       "\n",
       "    .dataframe thead th {\n",
       "        text-align: right;\n",
       "    }\n",
       "</style>\n",
       "<table border=\"1\" class=\"dataframe\">\n",
       "  <thead>\n",
       "    <tr style=\"text-align: right;\">\n",
       "      <th></th>\n",
       "    </tr>\n",
       "  </thead>\n",
       "  <tbody>\n",
       "  </tbody>\n",
       "</table>\n",
       "</div>"
      ],
      "text/plain": [
       "Empty DataFrame\n",
       "Columns: []\n",
       "Index: []"
      ]
     },
     "metadata": {},
     "output_type": "display_data"
    }
   ],
   "source": [
    "# диалог между user_id = 1 и user_id = 2\n",
    "select_query = \"\"\"\n",
    "SELECT *\n",
    "FROM private_messages \n",
    "WHERE (sender_id = 1 AND receiver_id = 2 \n",
    "    OR sender_id = 2 AND receiver_id = 1) AND media_type = 'image'\n",
    ";\"\"\"\n",
    "\n",
    "display(pd.DataFrame(push(select_query)))"
   ]
  },
  {
   "cell_type": "code",
   "execution_count": null,
   "metadata": {},
   "outputs": [
    {
     "name": "stdout",
     "output_type": "stream",
     "text": [
      "Succesfully connect\n",
      "####################\n",
      "SELECT COUNT(*) succesfully\n"
     ]
    },
    {
     "data": {
      "text/html": [
       "<div>\n",
       "<style scoped>\n",
       "    .dataframe tbody tr th:only-of-type {\n",
       "        vertical-align: middle;\n",
       "    }\n",
       "\n",
       "    .dataframe tbody tr th {\n",
       "        vertical-align: top;\n",
       "    }\n",
       "\n",
       "    .dataframe thead th {\n",
       "        text-align: right;\n",
       "    }\n",
       "</style>\n",
       "<table border=\"1\" class=\"dataframe\">\n",
       "  <thead>\n",
       "    <tr style=\"text-align: right;\">\n",
       "      <th></th>\n",
       "      <th>COUNT(*)</th>\n",
       "    </tr>\n",
       "  </thead>\n",
       "  <tbody>\n",
       "    <tr>\n",
       "      <th>0</th>\n",
       "      <td>2</td>\n",
       "    </tr>\n",
       "  </tbody>\n",
       "</table>\n",
       "</div>"
      ],
      "text/plain": [
       "   COUNT(*)\n",
       "0         2"
      ]
     },
     "metadata": {},
     "output_type": "display_data"
    }
   ],
   "source": [
    "# сколько у меня непрочитанных сообщений от пользователя Х\n",
    "select_query = \"\"\"\n",
    "SELECT COUNT(*)\n",
    "from private_messages \n",
    "WHERE sender_id = 2 AND receiver_id = 1\n",
    "\tAND is_read = 1;\"\"\"\n",
    "\n",
    "display(pd.DataFrame(push(select_query)))"
   ]
  },
  {
   "cell_type": "code",
   "execution_count": null,
   "metadata": {},
   "outputs": [
    {
     "name": "stdout",
     "output_type": "stream",
     "text": [
      "Succesfully connect\n",
      "####################\n",
      "SELECT COUNT(*) succesfully\n"
     ]
    },
    {
     "data": {
      "text/html": [
       "<div>\n",
       "<style scoped>\n",
       "    .dataframe tbody tr th:only-of-type {\n",
       "        vertical-align: middle;\n",
       "    }\n",
       "\n",
       "    .dataframe tbody tr th {\n",
       "        vertical-align: top;\n",
       "    }\n",
       "\n",
       "    .dataframe thead th {\n",
       "        text-align: right;\n",
       "    }\n",
       "</style>\n",
       "<table border=\"1\" class=\"dataframe\">\n",
       "  <thead>\n",
       "    <tr style=\"text-align: right;\">\n",
       "      <th></th>\n",
       "      <th>COUNT(*)</th>\n",
       "    </tr>\n",
       "  </thead>\n",
       "  <tbody>\n",
       "    <tr>\n",
       "      <th>0</th>\n",
       "      <td>1</td>\n",
       "    </tr>\n",
       "  </tbody>\n",
       "</table>\n",
       "</div>"
      ],
      "text/plain": [
       "   COUNT(*)\n",
       "0         1"
      ]
     },
     "metadata": {},
     "output_type": "display_data"
    }
   ],
   "source": [
    "# сколько у меня всего непрочитанных сообщений \" \\\n",
    "select_query = \"\"\"\n",
    "SELECT COUNT(*)\n",
    "FROM private_messages \n",
    "WHERE receiver_id = 1 \n",
    "\tAND is_read = 0;\"\"\"\n",
    "\n",
    "display(pd.DataFrame(push(select_query)))"
   ]
  },
  {
   "cell_type": "code",
   "execution_count": null,
   "metadata": {},
   "outputs": [
    {
     "name": "stdout",
     "output_type": "stream",
     "text": [
      "Succesfully connect\n",
      "####################\n",
      "SHOW COLUMNS succesfully\n",
      "['id', 'firstname', 'lastname', 'login', 'email', 'password_hash', 'phone', 'date_of_birth', 'is_deleted']\n"
     ]
    }
   ],
   "source": [
    "print(pd.DataFrame(push('SHOW COLUMNS FROM users '))['Field'].to_list())"
   ]
  },
  {
   "cell_type": "code",
   "execution_count": null,
   "metadata": {},
   "outputs": [
    {
     "name": "stdout",
     "output_type": "stream",
     "text": [
      "Succesfully connect\n",
      "####################\n",
      "SELECT YEAR(date_of_birth) succesfully\n"
     ]
    },
    {
     "data": {
      "text/html": [
       "<div>\n",
       "<style scoped>\n",
       "    .dataframe tbody tr th:only-of-type {\n",
       "        vertical-align: middle;\n",
       "    }\n",
       "\n",
       "    .dataframe tbody tr th {\n",
       "        vertical-align: top;\n",
       "    }\n",
       "\n",
       "    .dataframe thead th {\n",
       "        text-align: right;\n",
       "    }\n",
       "</style>\n",
       "<table border=\"1\" class=\"dataframe\">\n",
       "  <thead>\n",
       "    <tr style=\"text-align: right;\">\n",
       "      <th></th>\n",
       "      <th>YEAR(date_of_birth)</th>\n",
       "    </tr>\n",
       "  </thead>\n",
       "  <tbody>\n",
       "    <tr>\n",
       "      <th>0</th>\n",
       "      <td>2000.0</td>\n",
       "    </tr>\n",
       "    <tr>\n",
       "      <th>1</th>\n",
       "      <td>2021.0</td>\n",
       "    </tr>\n",
       "    <tr>\n",
       "      <th>2</th>\n",
       "      <td>1995.0</td>\n",
       "    </tr>\n",
       "    <tr>\n",
       "      <th>3</th>\n",
       "      <td>1999.0</td>\n",
       "    </tr>\n",
       "    <tr>\n",
       "      <th>4</th>\n",
       "      <td>2011.0</td>\n",
       "    </tr>\n",
       "    <tr>\n",
       "      <th>5</th>\n",
       "      <td>2011.0</td>\n",
       "    </tr>\n",
       "    <tr>\n",
       "      <th>6</th>\n",
       "      <td>2000.0</td>\n",
       "    </tr>\n",
       "    <tr>\n",
       "      <th>7</th>\n",
       "      <td>NaN</td>\n",
       "    </tr>\n",
       "    <tr>\n",
       "      <th>8</th>\n",
       "      <td>2021.0</td>\n",
       "    </tr>\n",
       "  </tbody>\n",
       "</table>\n",
       "</div>"
      ],
      "text/plain": [
       "   YEAR(date_of_birth)\n",
       "0               2000.0\n",
       "1               2021.0\n",
       "2               1995.0\n",
       "3               1999.0\n",
       "4               2011.0\n",
       "5               2011.0\n",
       "6               2000.0\n",
       "7                  NaN\n",
       "8               2021.0"
      ]
     },
     "metadata": {},
     "output_type": "display_data"
    }
   ],
   "source": [
    "# COUNT, MIN, MAX, AVG, SUM\n",
    "# год рождения каждого пользователя\n",
    "select_query = \"\"\"\n",
    "SELECT YEAR(date_of_birth)\n",
    "FROM users;\"\"\"\n",
    "\n",
    "display(pd.DataFrame(push(select_query)))"
   ]
  },
  {
   "cell_type": "code",
   "execution_count": null,
   "metadata": {},
   "outputs": [
    {
     "name": "stdout",
     "output_type": "stream",
     "text": [
      "Succesfully connect\n",
      "####################\n",
      "SELECT MIN(YEAR(date_of_birth)) succesfully\n"
     ]
    },
    {
     "data": {
      "text/html": [
       "<div>\n",
       "<style scoped>\n",
       "    .dataframe tbody tr th:only-of-type {\n",
       "        vertical-align: middle;\n",
       "    }\n",
       "\n",
       "    .dataframe tbody tr th {\n",
       "        vertical-align: top;\n",
       "    }\n",
       "\n",
       "    .dataframe thead th {\n",
       "        text-align: right;\n",
       "    }\n",
       "</style>\n",
       "<table border=\"1\" class=\"dataframe\">\n",
       "  <thead>\n",
       "    <tr style=\"text-align: right;\">\n",
       "      <th></th>\n",
       "      <th>MIN(YEAR(date_of_birth))</th>\n",
       "    </tr>\n",
       "  </thead>\n",
       "  <tbody>\n",
       "    <tr>\n",
       "      <th>0</th>\n",
       "      <td>1995</td>\n",
       "    </tr>\n",
       "  </tbody>\n",
       "</table>\n",
       "</div>"
      ],
      "text/plain": [
       "   MIN(YEAR(date_of_birth))\n",
       "0                      1995"
      ]
     },
     "metadata": {},
     "output_type": "display_data"
    }
   ],
   "source": [
    "# год рождения самого старшего пользователя\" \\\n",
    "select_query = \"\"\"\n",
    "SELECT MIN(YEAR(date_of_birth))\n",
    "FROM users;\"\"\"\n",
    "\n",
    "display(pd.DataFrame(push(select_query)))"
   ]
  },
  {
   "cell_type": "code",
   "execution_count": null,
   "metadata": {},
   "outputs": [
    {
     "name": "stdout",
     "output_type": "stream",
     "text": [
      "Succesfully connect\n",
      "####################\n",
      "SELECT MAX(YEAR(date_of_birth)) succesfully\n"
     ]
    },
    {
     "data": {
      "text/html": [
       "<div>\n",
       "<style scoped>\n",
       "    .dataframe tbody tr th:only-of-type {\n",
       "        vertical-align: middle;\n",
       "    }\n",
       "\n",
       "    .dataframe tbody tr th {\n",
       "        vertical-align: top;\n",
       "    }\n",
       "\n",
       "    .dataframe thead th {\n",
       "        text-align: right;\n",
       "    }\n",
       "</style>\n",
       "<table border=\"1\" class=\"dataframe\">\n",
       "  <thead>\n",
       "    <tr style=\"text-align: right;\">\n",
       "      <th></th>\n",
       "      <th>MAX(YEAR(date_of_birth))</th>\n",
       "    </tr>\n",
       "  </thead>\n",
       "  <tbody>\n",
       "    <tr>\n",
       "      <th>0</th>\n",
       "      <td>2021</td>\n",
       "    </tr>\n",
       "  </tbody>\n",
       "</table>\n",
       "</div>"
      ],
      "text/plain": [
       "   MAX(YEAR(date_of_birth))\n",
       "0                      2021"
      ]
     },
     "metadata": {},
     "output_type": "display_data"
    }
   ],
   "source": [
    "# год рождения самого младшего пользователя\n",
    "select_query = \"\"\"\n",
    "SELECT MAX(YEAR(date_of_birth))\n",
    "FROM users;\"\"\"\n",
    "\n",
    "display(pd.DataFrame(push(select_query)))"
   ]
  },
  {
   "cell_type": "code",
   "execution_count": null,
   "metadata": {},
   "outputs": [
    {
     "name": "stdout",
     "output_type": "stream",
     "text": [
      "Succesfully connect\n",
      "####################\n",
      "SELECT AVG(YEAR(date_of_birth)) succesfully\n"
     ]
    },
    {
     "data": {
      "text/html": [
       "<div>\n",
       "<style scoped>\n",
       "    .dataframe tbody tr th:only-of-type {\n",
       "        vertical-align: middle;\n",
       "    }\n",
       "\n",
       "    .dataframe tbody tr th {\n",
       "        vertical-align: top;\n",
       "    }\n",
       "\n",
       "    .dataframe thead th {\n",
       "        text-align: right;\n",
       "    }\n",
       "</style>\n",
       "<table border=\"1\" class=\"dataframe\">\n",
       "  <thead>\n",
       "    <tr style=\"text-align: right;\">\n",
       "      <th></th>\n",
       "      <th>AVG_YEAR</th>\n",
       "    </tr>\n",
       "  </thead>\n",
       "  <tbody>\n",
       "    <tr>\n",
       "      <th>0</th>\n",
       "      <td>2007.2500</td>\n",
       "    </tr>\n",
       "  </tbody>\n",
       "</table>\n",
       "</div>"
      ],
      "text/plain": [
       "    AVG_YEAR\n",
       "0  2007.2500"
      ]
     },
     "metadata": {},
     "output_type": "display_data"
    }
   ],
   "source": [
    "# среднее значение года рождения\"\n",
    "select_query = \"\"\"\n",
    "SELECT AVG(YEAR(date_of_birth)) AS AVG_YEAR\n",
    "FROM users;\"\"\"\n",
    "\n",
    "display(pd.DataFrame(push(select_query)))"
   ]
  },
  {
   "cell_type": "code",
   "execution_count": null,
   "metadata": {},
   "outputs": [
    {
     "name": "stdout",
     "output_type": "stream",
     "text": [
      "Succesfully connect\n",
      "####################\n",
      "SELECT ROUND(AVG(YEAR(date_of_birth))) succesfully\n"
     ]
    },
    {
     "data": {
      "text/html": [
       "<div>\n",
       "<style scoped>\n",
       "    .dataframe tbody tr th:only-of-type {\n",
       "        vertical-align: middle;\n",
       "    }\n",
       "\n",
       "    .dataframe tbody tr th {\n",
       "        vertical-align: top;\n",
       "    }\n",
       "\n",
       "    .dataframe thead th {\n",
       "        text-align: right;\n",
       "    }\n",
       "</style>\n",
       "<table border=\"1\" class=\"dataframe\">\n",
       "  <thead>\n",
       "    <tr style=\"text-align: right;\">\n",
       "      <th></th>\n",
       "      <th>AVG_YEAR</th>\n",
       "    </tr>\n",
       "  </thead>\n",
       "  <tbody>\n",
       "    <tr>\n",
       "      <th>0</th>\n",
       "      <td>2007</td>\n",
       "    </tr>\n",
       "  </tbody>\n",
       "</table>\n",
       "</div>"
      ],
      "text/plain": [
       "  AVG_YEAR\n",
       "0     2007"
      ]
     },
     "metadata": {},
     "output_type": "display_data"
    }
   ],
   "source": [
    "# округлим предыдущее значение\n",
    "select_query = \"\"\"\n",
    "SELECT ROUND(AVG(YEAR(date_of_birth))) AS AVG_YEAR\n",
    "FROM users;\"\"\"\n",
    "\n",
    "display(pd.DataFrame(push(select_query)))"
   ]
  },
  {
   "cell_type": "markdown",
   "metadata": {},
   "source": [
    "## 4.4 Группировка (GROUP BY)"
   ]
  },
  {
   "cell_type": "code",
   "execution_count": null,
   "metadata": {},
   "outputs": [
    {
     "name": "stdout",
     "output_type": "stream",
     "text": [
      "Succesfully connect\n",
      "####################\n",
      "DROP TABLE succesfully\n",
      "Succesfully connect\n",
      "####################\n",
      "CREATE TABLE succesfully\n"
     ]
    }
   ],
   "source": [
    "push('DROP TABLE IF EXISTS user_settings')\n",
    "\n",
    "create_table_query = \"\"\"\n",
    "CREATE TABLE user_settings(\n",
    "    user_id BIGINT UNSIGNED NOT NULL,\n",
    "    is_premium_account BIT,\n",
    "    is_night_mode_enabled BIT,\n",
    "    color_scheme ENUM('classic', 'day', 'tinted', 'night'),\n",
    "    app_language ENUM('english', 'french', 'russian', 'german', 'belorussian', 'croatian', 'dutch'),\n",
    "    status_text VARCHAR(70),\n",
    "    notifications_and_sounds JSON,\n",
    "    created_at DATETIME DEFAULT NOW()\n",
    "\n",
    "    # CONSTRAINT fk_user_settings_user_id\n",
    "    # FOREIGN KEY (user_id) REFERENCES users(id)\n",
    "    # ON UPDATE CASCADE\n",
    "    # ON DELETE RESTRICT\n",
    ");\"\"\"\n",
    "\n",
    "push(create_table_query)"
   ]
  },
  {
   "cell_type": "code",
   "execution_count": null,
   "metadata": {},
   "outputs": [
    {
     "name": "stdout",
     "output_type": "stream",
     "text": [
      "Succesfully connect\n",
      "####################\n",
      "INSERT INTO succesfully\n"
     ]
    }
   ],
   "source": [
    "push(\"\"\"\n",
    "INSERT INTO `user_settings` VALUES\n",
    "(7,1,0,'classic','french','Voluptatem dignissimos minima magnam accusamus in. Nostrum facilis mol',NULL,'2004-11-01 22:49:30'),\n",
    "(8,0,0,'night','belorussian','Accusantium incidunt voluptas sed facilis. Nam quas fugit magnam dolor',NULL,'2009-11-17 06:37:41'),\n",
    "(6,0,1,'day','german','Ex aut eligendi et et ut ea nostrum. Quis illum recusandae vitae aut i',NULL,'1993-12-27 18:51:24'),\n",
    "(4,1,0,'tinted','dutch','Aut quam qui id eligendi voluptatum reiciendis. Voluptatibus consequat',NULL,'2002-11-18 13:28:08'),\n",
    "(9,0,0,'tinted','belorussian','Dolorum aliquid dicta non fugit debitis labore. Est nulla modi dolor o',NULL,'2015-06-07 00:46:10'),\n",
    "(12,0,1,'tinted','dutch','Aut aut quam quidem nesciunt nostrum enim. Enim eos excepturi neque pe',NULL,'1984-10-07 06:33:23'),\n",
    "(18,0,0,'day','dutch','Officia enim tenetur eos et. Deleniti dolore quasi fugiat omnis. Tenet',NULL,'2001-06-25 17:05:30'),\n",
    "(13,1,1,'tinted','english','Assumenda ex suscipit voluptas hic molestias reprehenderit. Et ut dolo',NULL,'1986-11-24 05:46:59'),\n",
    "(19,1,0,'classic','german','Vitae ut labore in eos. Minima sapiente vel consectetur et quasi est d',NULL,'1993-07-20 06:20:33'),\n",
    "(3,0,1,'classic','belorussian','Quod dolorum velit soluta nihil. Quia animi et porro voluptatem totam.',NULL,'1978-12-02 08:27:54'),\n",
    "(5,0,0,'tinted','croatian','Voluptas natus et eos illo. At fugit reprehenderit qui aut ea voluptat',NULL,'1974-09-26 08:34:59'),\n",
    "(20,0,1,'day','belorussian','Aut vitae est perspiciatis molestiae neque porro. Eum ipsam saepe omni',NULL,'1970-01-16 04:32:11'),\n",
    "(15,1,1,'day','english','Perferendis tempora consectetur soluta impedit. Recusandae quam ut con',NULL,'2017-07-24 17:01:41'),\n",
    "(16,1,0,'night','english','Totam aliquam sed iste enim sint. Sint qui laboriosam quia rerum nam a',NULL,'2012-04-17 00:42:52'),\n",
    "(17,0,1,'day','belorussian','Totam totam iusto similique nulla. Dolores ut saepe soluta quasi aperi',NULL,'1992-09-20 05:44:21'),\n",
    "(11,0,1,'night','french','Ut error sed et quaerat nesciunt. Quo laudantium illo adipisci dicta a',NULL,'1983-09-14 16:30:55'),\n",
    "(10,1,0,'tinted','dutch','In autem neque nulla laudantium. Culpa unde laudantium est. Et pariatu',NULL,'2006-01-10 12:02:51'),\n",
    "(2,0,1,'classic','belorussian','Omnis voluptates voluptatum odio modi quasi. Quibusdam sed debitis et ',NULL,'2007-10-25 07:38:32')\n",
    "\"\"\")"
   ]
  },
  {
   "cell_type": "code",
   "execution_count": null,
   "metadata": {},
   "outputs": [
    {
     "name": "stdout",
     "output_type": "stream",
     "text": [
      "Succesfully connect\n",
      "####################\n",
      "ALTER TABLE succesfully\n"
     ]
    }
   ],
   "source": [
    "add_foreign_key_query = \"\"\"\n",
    "ALTER TABLE user_settings\n",
    "ADD CONSTRAINT fk_language_id_id\n",
    "FOREIGN KEY (language_id) REFERENCES languages(id)\n",
    "ON DELETE CASCADE\n",
    "ON UPDATE CASCADE;\n",
    "\"\"\"\n",
    "push(add_property_query)"
   ]
  },
  {
   "cell_type": "code",
   "execution_count": null,
   "metadata": {},
   "outputs": [
    {
     "name": "stdout",
     "output_type": "stream",
     "text": [
      "Succesfully connect\n",
      "####################\n",
      "SELECT * succesfully\n"
     ]
    },
    {
     "data": {
      "text/html": [
       "<div>\n",
       "<style scoped>\n",
       "    .dataframe tbody tr th:only-of-type {\n",
       "        vertical-align: middle;\n",
       "    }\n",
       "\n",
       "    .dataframe tbody tr th {\n",
       "        vertical-align: top;\n",
       "    }\n",
       "\n",
       "    .dataframe thead th {\n",
       "        text-align: right;\n",
       "    }\n",
       "</style>\n",
       "<table border=\"1\" class=\"dataframe\">\n",
       "  <thead>\n",
       "    <tr style=\"text-align: right;\">\n",
       "      <th></th>\n",
       "      <th>user_id</th>\n",
       "      <th>is_premium_account</th>\n",
       "      <th>is_night_mode_enabled</th>\n",
       "      <th>color_scheme</th>\n",
       "      <th>app_language</th>\n",
       "      <th>status_text</th>\n",
       "      <th>notifications_and_sounds</th>\n",
       "      <th>created_at</th>\n",
       "    </tr>\n",
       "  </thead>\n",
       "  <tbody>\n",
       "    <tr>\n",
       "      <th>0</th>\n",
       "      <td>2</td>\n",
       "      <td>b'\\x00'</td>\n",
       "      <td>b'\\x01'</td>\n",
       "      <td>classic</td>\n",
       "      <td>belorussian</td>\n",
       "      <td>Omnis voluptates voluptatum odio modi quasi. Q...</td>\n",
       "      <td>None</td>\n",
       "      <td>2007-10-25 07:38:32</td>\n",
       "    </tr>\n",
       "    <tr>\n",
       "      <th>1</th>\n",
       "      <td>3</td>\n",
       "      <td>b'\\x00'</td>\n",
       "      <td>b'\\x01'</td>\n",
       "      <td>classic</td>\n",
       "      <td>belorussian</td>\n",
       "      <td>Quod dolorum velit soluta nihil. Quia animi et...</td>\n",
       "      <td>None</td>\n",
       "      <td>1978-12-02 08:27:54</td>\n",
       "    </tr>\n",
       "    <tr>\n",
       "      <th>2</th>\n",
       "      <td>4</td>\n",
       "      <td>b'\\x01'</td>\n",
       "      <td>b'\\x00'</td>\n",
       "      <td>tinted</td>\n",
       "      <td>dutch</td>\n",
       "      <td>Aut quam qui id eligendi voluptatum reiciendis...</td>\n",
       "      <td>None</td>\n",
       "      <td>2002-11-18 13:28:08</td>\n",
       "    </tr>\n",
       "    <tr>\n",
       "      <th>3</th>\n",
       "      <td>5</td>\n",
       "      <td>b'\\x00'</td>\n",
       "      <td>b'\\x00'</td>\n",
       "      <td>tinted</td>\n",
       "      <td>croatian</td>\n",
       "      <td>Voluptas natus et eos illo. At fugit reprehend...</td>\n",
       "      <td>None</td>\n",
       "      <td>1974-09-26 08:34:59</td>\n",
       "    </tr>\n",
       "    <tr>\n",
       "      <th>4</th>\n",
       "      <td>6</td>\n",
       "      <td>b'\\x00'</td>\n",
       "      <td>b'\\x01'</td>\n",
       "      <td>day</td>\n",
       "      <td>german</td>\n",
       "      <td>Ex aut eligendi et et ut ea nostrum. Quis illu...</td>\n",
       "      <td>None</td>\n",
       "      <td>1993-12-27 18:51:24</td>\n",
       "    </tr>\n",
       "    <tr>\n",
       "      <th>5</th>\n",
       "      <td>7</td>\n",
       "      <td>b'\\x01'</td>\n",
       "      <td>b'\\x00'</td>\n",
       "      <td>classic</td>\n",
       "      <td>french</td>\n",
       "      <td>Voluptatem dignissimos minima magnam accusamus...</td>\n",
       "      <td>None</td>\n",
       "      <td>2004-11-01 22:49:30</td>\n",
       "    </tr>\n",
       "    <tr>\n",
       "      <th>6</th>\n",
       "      <td>8</td>\n",
       "      <td>b'\\x00'</td>\n",
       "      <td>b'\\x00'</td>\n",
       "      <td>night</td>\n",
       "      <td>belorussian</td>\n",
       "      <td>Accusantium incidunt voluptas sed facilis. Nam...</td>\n",
       "      <td>None</td>\n",
       "      <td>2009-11-17 06:37:41</td>\n",
       "    </tr>\n",
       "    <tr>\n",
       "      <th>7</th>\n",
       "      <td>9</td>\n",
       "      <td>b'\\x00'</td>\n",
       "      <td>b'\\x00'</td>\n",
       "      <td>tinted</td>\n",
       "      <td>belorussian</td>\n",
       "      <td>Dolorum aliquid dicta non fugit debitis labore...</td>\n",
       "      <td>None</td>\n",
       "      <td>2015-06-07 00:46:10</td>\n",
       "    </tr>\n",
       "    <tr>\n",
       "      <th>8</th>\n",
       "      <td>10</td>\n",
       "      <td>b'\\x01'</td>\n",
       "      <td>b'\\x00'</td>\n",
       "      <td>tinted</td>\n",
       "      <td>dutch</td>\n",
       "      <td>In autem neque nulla laudantium. Culpa unde la...</td>\n",
       "      <td>None</td>\n",
       "      <td>2006-01-10 12:02:51</td>\n",
       "    </tr>\n",
       "    <tr>\n",
       "      <th>9</th>\n",
       "      <td>11</td>\n",
       "      <td>b'\\x00'</td>\n",
       "      <td>b'\\x01'</td>\n",
       "      <td>night</td>\n",
       "      <td>french</td>\n",
       "      <td>Ut error sed et quaerat nesciunt. Quo laudanti...</td>\n",
       "      <td>None</td>\n",
       "      <td>1983-09-14 16:30:55</td>\n",
       "    </tr>\n",
       "    <tr>\n",
       "      <th>10</th>\n",
       "      <td>12</td>\n",
       "      <td>b'\\x00'</td>\n",
       "      <td>b'\\x01'</td>\n",
       "      <td>tinted</td>\n",
       "      <td>dutch</td>\n",
       "      <td>Aut aut quam quidem nesciunt nostrum enim. Eni...</td>\n",
       "      <td>None</td>\n",
       "      <td>1984-10-07 06:33:23</td>\n",
       "    </tr>\n",
       "    <tr>\n",
       "      <th>11</th>\n",
       "      <td>13</td>\n",
       "      <td>b'\\x01'</td>\n",
       "      <td>b'\\x01'</td>\n",
       "      <td>tinted</td>\n",
       "      <td>english</td>\n",
       "      <td>Assumenda ex suscipit voluptas hic molestias r...</td>\n",
       "      <td>None</td>\n",
       "      <td>1986-11-24 05:46:59</td>\n",
       "    </tr>\n",
       "    <tr>\n",
       "      <th>12</th>\n",
       "      <td>15</td>\n",
       "      <td>b'\\x01'</td>\n",
       "      <td>b'\\x01'</td>\n",
       "      <td>day</td>\n",
       "      <td>english</td>\n",
       "      <td>Perferendis tempora consectetur soluta impedit...</td>\n",
       "      <td>None</td>\n",
       "      <td>2017-07-24 17:01:41</td>\n",
       "    </tr>\n",
       "    <tr>\n",
       "      <th>13</th>\n",
       "      <td>16</td>\n",
       "      <td>b'\\x01'</td>\n",
       "      <td>b'\\x00'</td>\n",
       "      <td>night</td>\n",
       "      <td>english</td>\n",
       "      <td>Totam aliquam sed iste enim sint. Sint qui lab...</td>\n",
       "      <td>None</td>\n",
       "      <td>2012-04-17 00:42:52</td>\n",
       "    </tr>\n",
       "    <tr>\n",
       "      <th>14</th>\n",
       "      <td>17</td>\n",
       "      <td>b'\\x00'</td>\n",
       "      <td>b'\\x01'</td>\n",
       "      <td>day</td>\n",
       "      <td>belorussian</td>\n",
       "      <td>Totam totam iusto similique nulla. Dolores ut ...</td>\n",
       "      <td>None</td>\n",
       "      <td>1992-09-20 05:44:21</td>\n",
       "    </tr>\n",
       "    <tr>\n",
       "      <th>15</th>\n",
       "      <td>18</td>\n",
       "      <td>b'\\x00'</td>\n",
       "      <td>b'\\x00'</td>\n",
       "      <td>day</td>\n",
       "      <td>dutch</td>\n",
       "      <td>Officia enim tenetur eos et. Deleniti dolore q...</td>\n",
       "      <td>None</td>\n",
       "      <td>2001-06-25 17:05:30</td>\n",
       "    </tr>\n",
       "    <tr>\n",
       "      <th>16</th>\n",
       "      <td>19</td>\n",
       "      <td>b'\\x01'</td>\n",
       "      <td>b'\\x00'</td>\n",
       "      <td>classic</td>\n",
       "      <td>german</td>\n",
       "      <td>Vitae ut labore in eos. Minima sapiente vel co...</td>\n",
       "      <td>None</td>\n",
       "      <td>1993-07-20 06:20:33</td>\n",
       "    </tr>\n",
       "    <tr>\n",
       "      <th>17</th>\n",
       "      <td>20</td>\n",
       "      <td>b'\\x00'</td>\n",
       "      <td>b'\\x01'</td>\n",
       "      <td>day</td>\n",
       "      <td>belorussian</td>\n",
       "      <td>Aut vitae est perspiciatis molestiae neque por...</td>\n",
       "      <td>None</td>\n",
       "      <td>1970-01-16 04:32:11</td>\n",
       "    </tr>\n",
       "  </tbody>\n",
       "</table>\n",
       "</div>"
      ],
      "text/plain": [
       "    user_id is_premium_account is_night_mode_enabled color_scheme  \\\n",
       "0         2            b'\\x00'               b'\\x01'      classic   \n",
       "1         3            b'\\x00'               b'\\x01'      classic   \n",
       "2         4            b'\\x01'               b'\\x00'       tinted   \n",
       "3         5            b'\\x00'               b'\\x00'       tinted   \n",
       "4         6            b'\\x00'               b'\\x01'          day   \n",
       "5         7            b'\\x01'               b'\\x00'      classic   \n",
       "6         8            b'\\x00'               b'\\x00'        night   \n",
       "7         9            b'\\x00'               b'\\x00'       tinted   \n",
       "8        10            b'\\x01'               b'\\x00'       tinted   \n",
       "9        11            b'\\x00'               b'\\x01'        night   \n",
       "10       12            b'\\x00'               b'\\x01'       tinted   \n",
       "11       13            b'\\x01'               b'\\x01'       tinted   \n",
       "12       15            b'\\x01'               b'\\x01'          day   \n",
       "13       16            b'\\x01'               b'\\x00'        night   \n",
       "14       17            b'\\x00'               b'\\x01'          day   \n",
       "15       18            b'\\x00'               b'\\x00'          day   \n",
       "16       19            b'\\x01'               b'\\x00'      classic   \n",
       "17       20            b'\\x00'               b'\\x01'          day   \n",
       "\n",
       "   app_language                                        status_text  \\\n",
       "0   belorussian  Omnis voluptates voluptatum odio modi quasi. Q...   \n",
       "1   belorussian  Quod dolorum velit soluta nihil. Quia animi et...   \n",
       "2         dutch  Aut quam qui id eligendi voluptatum reiciendis...   \n",
       "3      croatian  Voluptas natus et eos illo. At fugit reprehend...   \n",
       "4        german  Ex aut eligendi et et ut ea nostrum. Quis illu...   \n",
       "5        french  Voluptatem dignissimos minima magnam accusamus...   \n",
       "6   belorussian  Accusantium incidunt voluptas sed facilis. Nam...   \n",
       "7   belorussian  Dolorum aliquid dicta non fugit debitis labore...   \n",
       "8         dutch  In autem neque nulla laudantium. Culpa unde la...   \n",
       "9        french  Ut error sed et quaerat nesciunt. Quo laudanti...   \n",
       "10        dutch  Aut aut quam quidem nesciunt nostrum enim. Eni...   \n",
       "11      english  Assumenda ex suscipit voluptas hic molestias r...   \n",
       "12      english  Perferendis tempora consectetur soluta impedit...   \n",
       "13      english  Totam aliquam sed iste enim sint. Sint qui lab...   \n",
       "14  belorussian  Totam totam iusto similique nulla. Dolores ut ...   \n",
       "15        dutch  Officia enim tenetur eos et. Deleniti dolore q...   \n",
       "16       german  Vitae ut labore in eos. Minima sapiente vel co...   \n",
       "17  belorussian  Aut vitae est perspiciatis molestiae neque por...   \n",
       "\n",
       "   notifications_and_sounds          created_at  \n",
       "0                      None 2007-10-25 07:38:32  \n",
       "1                      None 1978-12-02 08:27:54  \n",
       "2                      None 2002-11-18 13:28:08  \n",
       "3                      None 1974-09-26 08:34:59  \n",
       "4                      None 1993-12-27 18:51:24  \n",
       "5                      None 2004-11-01 22:49:30  \n",
       "6                      None 2009-11-17 06:37:41  \n",
       "7                      None 2015-06-07 00:46:10  \n",
       "8                      None 2006-01-10 12:02:51  \n",
       "9                      None 1983-09-14 16:30:55  \n",
       "10                     None 1984-10-07 06:33:23  \n",
       "11                     None 1986-11-24 05:46:59  \n",
       "12                     None 2017-07-24 17:01:41  \n",
       "13                     None 2012-04-17 00:42:52  \n",
       "14                     None 1992-09-20 05:44:21  \n",
       "15                     None 2001-06-25 17:05:30  \n",
       "16                     None 1993-07-20 06:20:33  \n",
       "17                     None 1970-01-16 04:32:11  "
      ]
     },
     "execution_count": 4498,
     "metadata": {},
     "output_type": "execute_result"
    }
   ],
   "source": [
    "# вся таблица user_settings\n",
    "select_query = \"\"\"\n",
    "SELECT *\n",
    "FROM user_settings\"\"\"\n",
    "\n",
    "pd.DataFrame(push(select_query))"
   ]
  },
  {
   "cell_type": "code",
   "execution_count": null,
   "metadata": {},
   "outputs": [
    {
     "name": "stdout",
     "output_type": "stream",
     "text": [
      "Succesfully connect\n",
      "####################\n"
     ]
    },
    {
     "name": "stdout",
     "output_type": "stream",
     "text": [
      "SELECT COUNT(*), succesfully\n"
     ]
    },
    {
     "data": {
      "text/html": [
       "<div>\n",
       "<style scoped>\n",
       "    .dataframe tbody tr th:only-of-type {\n",
       "        vertical-align: middle;\n",
       "    }\n",
       "\n",
       "    .dataframe tbody tr th {\n",
       "        vertical-align: top;\n",
       "    }\n",
       "\n",
       "    .dataframe thead th {\n",
       "        text-align: right;\n",
       "    }\n",
       "</style>\n",
       "<table border=\"1\" class=\"dataframe\">\n",
       "  <thead>\n",
       "    <tr style=\"text-align: right;\">\n",
       "      <th></th>\n",
       "      <th>COUNT(*)</th>\n",
       "      <th>app_language</th>\n",
       "    </tr>\n",
       "  </thead>\n",
       "  <tbody>\n",
       "    <tr>\n",
       "      <th>0</th>\n",
       "      <td>6</td>\n",
       "      <td>belorussian</td>\n",
       "    </tr>\n",
       "    <tr>\n",
       "      <th>1</th>\n",
       "      <td>4</td>\n",
       "      <td>dutch</td>\n",
       "    </tr>\n",
       "    <tr>\n",
       "      <th>2</th>\n",
       "      <td>1</td>\n",
       "      <td>croatian</td>\n",
       "    </tr>\n",
       "    <tr>\n",
       "      <th>3</th>\n",
       "      <td>2</td>\n",
       "      <td>german</td>\n",
       "    </tr>\n",
       "    <tr>\n",
       "      <th>4</th>\n",
       "      <td>2</td>\n",
       "      <td>french</td>\n",
       "    </tr>\n",
       "    <tr>\n",
       "      <th>5</th>\n",
       "      <td>3</td>\n",
       "      <td>english</td>\n",
       "    </tr>\n",
       "  </tbody>\n",
       "</table>\n",
       "</div>"
      ],
      "text/plain": [
       "   COUNT(*) app_language\n",
       "0         6  belorussian\n",
       "1         4        dutch\n",
       "2         1     croatian\n",
       "3         2       german\n",
       "4         2       french\n",
       "5         3      english"
      ]
     },
     "execution_count": 4499,
     "metadata": {},
     "output_type": "execute_result"
    }
   ],
   "source": [
    "# количество пользователей, сгруппированное по языкам\n",
    "select_query = \"\"\"\n",
    "SELECT \n",
    "\tCOUNT(*),\n",
    "\tapp_language\n",
    "FROM user_settings\n",
    "GROUP BY app_language;\"\"\"\n",
    "\n",
    "pd.DataFrame(push(select_query))"
   ]
  },
  {
   "cell_type": "code",
   "execution_count": null,
   "metadata": {},
   "outputs": [
    {
     "name": "stdout",
     "output_type": "stream",
     "text": [
      "Succesfully connect\n",
      "####################\n",
      "SELECT COUNT(*) succesfully\n"
     ]
    },
    {
     "data": {
      "text/html": [
       "<div>\n",
       "<style scoped>\n",
       "    .dataframe tbody tr th:only-of-type {\n",
       "        vertical-align: middle;\n",
       "    }\n",
       "\n",
       "    .dataframe tbody tr th {\n",
       "        vertical-align: top;\n",
       "    }\n",
       "\n",
       "    .dataframe thead th {\n",
       "        text-align: right;\n",
       "    }\n",
       "</style>\n",
       "<table border=\"1\" class=\"dataframe\">\n",
       "  <thead>\n",
       "    <tr style=\"text-align: right;\">\n",
       "      <th></th>\n",
       "      <th>cnt</th>\n",
       "      <th>app_language</th>\n",
       "    </tr>\n",
       "  </thead>\n",
       "  <tbody>\n",
       "    <tr>\n",
       "      <th>0</th>\n",
       "      <td>6</td>\n",
       "      <td>belorussian</td>\n",
       "    </tr>\n",
       "    <tr>\n",
       "      <th>1</th>\n",
       "      <td>4</td>\n",
       "      <td>dutch</td>\n",
       "    </tr>\n",
       "    <tr>\n",
       "      <th>2</th>\n",
       "      <td>3</td>\n",
       "      <td>english</td>\n",
       "    </tr>\n",
       "    <tr>\n",
       "      <th>3</th>\n",
       "      <td>2</td>\n",
       "      <td>german</td>\n",
       "    </tr>\n",
       "    <tr>\n",
       "      <th>4</th>\n",
       "      <td>2</td>\n",
       "      <td>french</td>\n",
       "    </tr>\n",
       "    <tr>\n",
       "      <th>5</th>\n",
       "      <td>1</td>\n",
       "      <td>croatian</td>\n",
       "    </tr>\n",
       "  </tbody>\n",
       "</table>\n",
       "</div>"
      ],
      "text/plain": [
       "   cnt app_language\n",
       "0    6  belorussian\n",
       "1    4        dutch\n",
       "2    3      english\n",
       "3    2       german\n",
       "4    2       french\n",
       "5    1     croatian"
      ]
     },
     "execution_count": 4500,
     "metadata": {},
     "output_type": "execute_result"
    }
   ],
   "source": [
    "# то же, но с сортировкой по убыванию\n",
    "select_query = \"\"\"\n",
    "SELECT \n",
    "\tCOUNT(*) AS cnt,\n",
    "\tapp_language\n",
    "FROM user_settings\n",
    "GROUP BY app_language \n",
    "ORDER BY cnt DESC;\"\"\"\n",
    "\n",
    "pd.DataFrame(push(select_query))"
   ]
  },
  {
   "cell_type": "code",
   "execution_count": null,
   "metadata": {},
   "outputs": [
    {
     "name": "stdout",
     "output_type": "stream",
     "text": [
      "Succesfully connect\n",
      "####################\n",
      "SELECT * succesfully\n"
     ]
    },
    {
     "data": {
      "text/html": [
       "<div>\n",
       "<style scoped>\n",
       "    .dataframe tbody tr th:only-of-type {\n",
       "        vertical-align: middle;\n",
       "    }\n",
       "\n",
       "    .dataframe tbody tr th {\n",
       "        vertical-align: top;\n",
       "    }\n",
       "\n",
       "    .dataframe thead th {\n",
       "        text-align: right;\n",
       "    }\n",
       "</style>\n",
       "<table border=\"1\" class=\"dataframe\">\n",
       "  <thead>\n",
       "    <tr style=\"text-align: right;\">\n",
       "      <th></th>\n",
       "      <th>channel_id</th>\n",
       "      <th>user_id</th>\n",
       "      <th>status</th>\n",
       "      <th>created_at</th>\n",
       "      <th>updated_at</th>\n",
       "    </tr>\n",
       "  </thead>\n",
       "  <tbody>\n",
       "    <tr>\n",
       "      <th>0</th>\n",
       "      <td>1</td>\n",
       "      <td>2</td>\n",
       "      <td>left</td>\n",
       "      <td>2025-03-13 16:49:57</td>\n",
       "      <td>2025-03-13 16:49:57</td>\n",
       "    </tr>\n",
       "    <tr>\n",
       "      <th>1</th>\n",
       "      <td>1</td>\n",
       "      <td>4</td>\n",
       "      <td>removed</td>\n",
       "      <td>2025-03-13 16:49:57</td>\n",
       "      <td>2025-03-13 16:49:57</td>\n",
       "    </tr>\n",
       "  </tbody>\n",
       "</table>\n",
       "</div>"
      ],
      "text/plain": [
       "   channel_id  user_id   status          created_at          updated_at\n",
       "0           1        2     left 2025-03-13 16:49:57 2025-03-13 16:49:57\n",
       "1           1        4  removed 2025-03-13 16:49:57 2025-03-13 16:49:57"
      ]
     },
     "execution_count": 4501,
     "metadata": {},
     "output_type": "execute_result"
    }
   ],
   "source": [
    "# вся таблица подписчиков каналов\n",
    "select_query = \"\"\"\n",
    "SELECT *\n",
    "FROM channel_subscribers;\"\"\"\n",
    "\n",
    "pd.DataFrame(push(select_query))"
   ]
  },
  {
   "cell_type": "code",
   "execution_count": null,
   "metadata": {},
   "outputs": [
    {
     "name": "stdout",
     "output_type": "stream",
     "text": [
      "Succesfully connect\n",
      "####################\n",
      "SELECT count(*) succesfully\n"
     ]
    },
    {
     "data": {
      "text/html": [
       "<div>\n",
       "<style scoped>\n",
       "    .dataframe tbody tr th:only-of-type {\n",
       "        vertical-align: middle;\n",
       "    }\n",
       "\n",
       "    .dataframe tbody tr th {\n",
       "        vertical-align: top;\n",
       "    }\n",
       "\n",
       "    .dataframe thead th {\n",
       "        text-align: right;\n",
       "    }\n",
       "</style>\n",
       "<table border=\"1\" class=\"dataframe\">\n",
       "  <thead>\n",
       "    <tr style=\"text-align: right;\">\n",
       "      <th></th>\n",
       "      <th>cnt</th>\n",
       "      <th>channel_id</th>\n",
       "    </tr>\n",
       "  </thead>\n",
       "  <tbody>\n",
       "    <tr>\n",
       "      <th>0</th>\n",
       "      <td>2</td>\n",
       "      <td>1</td>\n",
       "    </tr>\n",
       "  </tbody>\n",
       "</table>\n",
       "</div>"
      ],
      "text/plain": [
       "   cnt  channel_id\n",
       "0    2           1"
      ]
     },
     "execution_count": 4502,
     "metadata": {},
     "output_type": "execute_result"
    }
   ],
   "source": [
    "# самый популярный канал по кол-ву пользователей\n",
    "select_query = \"\"\"\n",
    "SELECT \n",
    "\tcount(*) AS cnt,\n",
    "\tchannel_id \n",
    "FROM channel_subscribers\n",
    "GROUP BY channel_id \n",
    "ORDER BY cnt DESC \n",
    "LIMIT 1;\"\"\"\n",
    "\n",
    "pd.DataFrame(push(select_query))"
   ]
  },
  {
   "cell_type": "code",
   "execution_count": null,
   "metadata": {},
   "outputs": [
    {
     "name": "stdout",
     "output_type": "stream",
     "text": [
      "Succesfully connect\n",
      "####################\n",
      "SELECT * succesfully\n"
     ]
    },
    {
     "data": {
      "text/html": [
       "<div>\n",
       "<style scoped>\n",
       "    .dataframe tbody tr th:only-of-type {\n",
       "        vertical-align: middle;\n",
       "    }\n",
       "\n",
       "    .dataframe tbody tr th {\n",
       "        vertical-align: top;\n",
       "    }\n",
       "\n",
       "    .dataframe thead th {\n",
       "        text-align: right;\n",
       "    }\n",
       "</style>\n",
       "<table border=\"1\" class=\"dataframe\">\n",
       "  <thead>\n",
       "    <tr style=\"text-align: right;\">\n",
       "      <th></th>\n",
       "      <th>channel_id</th>\n",
       "      <th>user_id</th>\n",
       "      <th>status</th>\n",
       "      <th>created_at</th>\n",
       "      <th>updated_at</th>\n",
       "    </tr>\n",
       "  </thead>\n",
       "  <tbody>\n",
       "    <tr>\n",
       "      <th>0</th>\n",
       "      <td>1</td>\n",
       "      <td>2</td>\n",
       "      <td>left</td>\n",
       "      <td>2025-03-13 16:49:57</td>\n",
       "      <td>2025-03-13 16:49:57</td>\n",
       "    </tr>\n",
       "    <tr>\n",
       "      <th>1</th>\n",
       "      <td>1</td>\n",
       "      <td>4</td>\n",
       "      <td>removed</td>\n",
       "      <td>2025-03-13 16:49:57</td>\n",
       "      <td>2025-03-13 16:49:57</td>\n",
       "    </tr>\n",
       "  </tbody>\n",
       "</table>\n",
       "</div>"
      ],
      "text/plain": [
       "   channel_id  user_id   status          created_at          updated_at\n",
       "0           1        2     left 2025-03-13 16:49:57 2025-03-13 16:49:57\n",
       "1           1        4  removed 2025-03-13 16:49:57 2025-03-13 16:49:57"
      ]
     },
     "execution_count": 4503,
     "metadata": {},
     "output_type": "execute_result"
    }
   ],
   "source": [
    "pd.DataFrame(push('SELECT * FROM channel_subscribers'))"
   ]
  },
  {
   "cell_type": "code",
   "execution_count": null,
   "metadata": {},
   "outputs": [
    {
     "name": "stdout",
     "output_type": "stream",
     "text": [
      "Succesfully connect\n",
      "####################\n",
      "SELECT count(*) succesfully\n"
     ]
    },
    {
     "data": {
      "text/html": [
       "<div>\n",
       "<style scoped>\n",
       "    .dataframe tbody tr th:only-of-type {\n",
       "        vertical-align: middle;\n",
       "    }\n",
       "\n",
       "    .dataframe tbody tr th {\n",
       "        vertical-align: top;\n",
       "    }\n",
       "\n",
       "    .dataframe thead th {\n",
       "        text-align: right;\n",
       "    }\n",
       "</style>\n",
       "<table border=\"1\" class=\"dataframe\">\n",
       "  <thead>\n",
       "    <tr style=\"text-align: right;\">\n",
       "      <th></th>\n",
       "      <th>cnt</th>\n",
       "      <th>channel_id</th>\n",
       "    </tr>\n",
       "  </thead>\n",
       "  <tbody>\n",
       "    <tr>\n",
       "      <th>0</th>\n",
       "      <td>1</td>\n",
       "      <td>1</td>\n",
       "    </tr>\n",
       "  </tbody>\n",
       "</table>\n",
       "</div>"
      ],
      "text/plain": [
       "   cnt  channel_id\n",
       "0    1           1"
      ]
     },
     "execution_count": 4504,
     "metadata": {},
     "output_type": "execute_result"
    }
   ],
   "source": [
    "# то же, но с учетом статуса подписки\n",
    "select_query = \"\"\"\n",
    "SELECT \n",
    "\tcount(*) AS cnt,\n",
    "\tchannel_id \n",
    "FROM channel_subscribers\n",
    "WHERE status = 'removed'\n",
    "GROUP BY channel_id \n",
    "ORDER BY cnt DESC \n",
    "LIMIT 1;\"\"\"\n",
    "\n",
    "pd.DataFrame(push(select_query))"
   ]
  },
  {
   "cell_type": "markdown",
   "metadata": {},
   "source": [
    "## 4.5 Фильтрация (HAVING)"
   ]
  },
  {
   "cell_type": "code",
   "execution_count": null,
   "metadata": {},
   "outputs": [
    {
     "name": "stdout",
     "output_type": "stream",
     "text": [
      "Succesfully connect\n",
      "####################\n",
      "Connection refused...\n",
      "(1452, 'Cannot add or update a child row: a foreign key constraint fails (`stepik`.`stories`, CONSTRAINT `stories_ibfk_1` FOREIGN KEY (`user_id`) REFERENCES `users` (`id`))')\n"
     ]
    }
   ],
   "source": [
    "insert_query = \"\"\" \n",
    "INSERT INTO `stories` VALUES\n",
    "(1,3,NULL,'delectus',934918,'2016-06-02 14:12:41'),\n",
    "(2,4,NULL,'error',7,'1980-07-02 13:00:43'),\n",
    "(3,1,NULL,'ullam',1,'2011-09-22 13:21:39'),\n",
    "(4,7,NULL,'sequi',73295000,'1991-07-03 04:40:57'),\n",
    "(5,2,NULL,'aliquam',0,'2018-04-06 11:16:38'),\n",
    "(6,2,NULL,'eos',834663,'2005-07-04 02:45:25'),\n",
    "(7,9,NULL,'qui',9828218,'2008-08-19 18:28:21'),\n",
    "(8,1,NULL,'sapiente',538,'2009-12-11 00:55:51'),\n",
    "(9,7,NULL,'ut',12,'1976-11-24 17:52:27'),\n",
    "(10,6,NULL,'reiciendis',7,'1975-12-05 23:26:09'),\n",
    "(11,9,NULL,'quaerat',211025,'2009-04-07 01:58:55');\"\"\"\n",
    "\n",
    "push(insert_query)"
   ]
  },
  {
   "cell_type": "code",
   "execution_count": null,
   "metadata": {},
   "outputs": [
    {
     "name": "stdout",
     "output_type": "stream",
     "text": [
      "Succesfully connect\n",
      "####################\n",
      "SELECT * succesfully\n"
     ]
    },
    {
     "data": {
      "text/html": [
       "<div>\n",
       "<style scoped>\n",
       "    .dataframe tbody tr th:only-of-type {\n",
       "        vertical-align: middle;\n",
       "    }\n",
       "\n",
       "    .dataframe tbody tr th {\n",
       "        vertical-align: top;\n",
       "    }\n",
       "\n",
       "    .dataframe thead th {\n",
       "        text-align: right;\n",
       "    }\n",
       "</style>\n",
       "<table border=\"1\" class=\"dataframe\">\n",
       "  <thead>\n",
       "    <tr style=\"text-align: right;\">\n",
       "      <th></th>\n",
       "    </tr>\n",
       "  </thead>\n",
       "  <tbody>\n",
       "  </tbody>\n",
       "</table>\n",
       "</div>"
      ],
      "text/plain": [
       "Empty DataFrame\n",
       "Columns: []\n",
       "Index: []"
      ]
     },
     "execution_count": 4506,
     "metadata": {},
     "output_type": "execute_result"
    }
   ],
   "source": [
    "# все сториз\n",
    "select_query = \"\"\"\n",
    "SELECT *\n",
    "FROM stories;\"\"\"\n",
    "\n",
    "pd.DataFrame(push(select_query))"
   ]
  },
  {
   "cell_type": "code",
   "execution_count": null,
   "metadata": {},
   "outputs": [
    {
     "name": "stdout",
     "output_type": "stream",
     "text": [
      "Succesfully connect\n",
      "####################\n",
      "SELECT * succesfully\n"
     ]
    },
    {
     "data": {
      "text/html": [
       "<div>\n",
       "<style scoped>\n",
       "    .dataframe tbody tr th:only-of-type {\n",
       "        vertical-align: middle;\n",
       "    }\n",
       "\n",
       "    .dataframe tbody tr th {\n",
       "        vertical-align: top;\n",
       "    }\n",
       "\n",
       "    .dataframe thead th {\n",
       "        text-align: right;\n",
       "    }\n",
       "</style>\n",
       "<table border=\"1\" class=\"dataframe\">\n",
       "  <thead>\n",
       "    <tr style=\"text-align: right;\">\n",
       "      <th></th>\n",
       "    </tr>\n",
       "  </thead>\n",
       "  <tbody>\n",
       "  </tbody>\n",
       "</table>\n",
       "</div>"
      ],
      "text/plain": [
       "Empty DataFrame\n",
       "Columns: []\n",
       "Index: []"
      ]
     },
     "execution_count": 4507,
     "metadata": {},
     "output_type": "execute_result"
    }
   ],
   "source": [
    "# сториз указанного пользователя (одного)\n",
    "select_query = \"\"\"\n",
    "SELECT *\n",
    "FROM stories \n",
    "WHERE user_id = 1;\"\"\"\n",
    "\n",
    "pd.DataFrame(push(select_query))"
   ]
  },
  {
   "cell_type": "code",
   "execution_count": null,
   "metadata": {},
   "outputs": [
    {
     "name": "stdout",
     "output_type": "stream",
     "text": [
      "Succesfully connect\n",
      "####################\n",
      "SELECT * succesfully\n"
     ]
    },
    {
     "data": {
      "text/html": [
       "<div>\n",
       "<style scoped>\n",
       "    .dataframe tbody tr th:only-of-type {\n",
       "        vertical-align: middle;\n",
       "    }\n",
       "\n",
       "    .dataframe tbody tr th {\n",
       "        vertical-align: top;\n",
       "    }\n",
       "\n",
       "    .dataframe thead th {\n",
       "        text-align: right;\n",
       "    }\n",
       "</style>\n",
       "<table border=\"1\" class=\"dataframe\">\n",
       "  <thead>\n",
       "    <tr style=\"text-align: right;\">\n",
       "      <th></th>\n",
       "    </tr>\n",
       "  </thead>\n",
       "  <tbody>\n",
       "  </tbody>\n",
       "</table>\n",
       "</div>"
      ],
      "text/plain": [
       "Empty DataFrame\n",
       "Columns: []\n",
       "Index: []"
      ]
     },
     "execution_count": 4508,
     "metadata": {},
     "output_type": "execute_result"
    }
   ],
   "source": [
    "# сториз нескольких пользователей (заданы множеством номеров)\n",
    "select_query = \"\"\"\n",
    "SELECT *\n",
    "FROM stories \n",
    "WHERE user_id IN (2,3,4,5);\"\"\"\n",
    "\n",
    "pd.DataFrame(push(select_query))"
   ]
  },
  {
   "cell_type": "code",
   "execution_count": null,
   "metadata": {},
   "outputs": [
    {
     "name": "stdout",
     "output_type": "stream",
     "text": [
      "Succesfully connect\n",
      "####################\n",
      "SELECT * succesfully\n"
     ]
    },
    {
     "data": {
      "text/html": [
       "<div>\n",
       "<style scoped>\n",
       "    .dataframe tbody tr th:only-of-type {\n",
       "        vertical-align: middle;\n",
       "    }\n",
       "\n",
       "    .dataframe tbody tr th {\n",
       "        vertical-align: top;\n",
       "    }\n",
       "\n",
       "    .dataframe thead th {\n",
       "        text-align: right;\n",
       "    }\n",
       "</style>\n",
       "<table border=\"1\" class=\"dataframe\">\n",
       "  <thead>\n",
       "    <tr style=\"text-align: right;\">\n",
       "      <th></th>\n",
       "    </tr>\n",
       "  </thead>\n",
       "  <tbody>\n",
       "  </tbody>\n",
       "</table>\n",
       "</div>"
      ],
      "text/plain": [
       "Empty DataFrame\n",
       "Columns: []\n",
       "Index: []"
      ]
     },
     "execution_count": 4509,
     "metadata": {},
     "output_type": "execute_result"
    }
   ],
   "source": [
    "# то же с фильтрцией HAVING\n",
    "select_query = \"\"\"\n",
    "SELECT *\n",
    "FROM stories \n",
    "HAVING user_id IN (2,3,4,5);\"\"\"\n",
    "\n",
    "pd.DataFrame(push(select_query))"
   ]
  },
  {
   "cell_type": "code",
   "execution_count": null,
   "metadata": {},
   "outputs": [
    {
     "name": "stdout",
     "output_type": "stream",
     "text": [
      "Succesfully connect\n",
      "####################\n",
      "SELECT * succesfully\n"
     ]
    },
    {
     "data": {
      "text/html": [
       "<div>\n",
       "<style scoped>\n",
       "    .dataframe tbody tr th:only-of-type {\n",
       "        vertical-align: middle;\n",
       "    }\n",
       "\n",
       "    .dataframe tbody tr th {\n",
       "        vertical-align: top;\n",
       "    }\n",
       "\n",
       "    .dataframe thead th {\n",
       "        text-align: right;\n",
       "    }\n",
       "</style>\n",
       "<table border=\"1\" class=\"dataframe\">\n",
       "  <thead>\n",
       "    <tr style=\"text-align: right;\">\n",
       "      <th></th>\n",
       "    </tr>\n",
       "  </thead>\n",
       "  <tbody>\n",
       "  </tbody>\n",
       "</table>\n",
       "</div>"
      ],
      "text/plain": [
       "Empty DataFrame\n",
       "Columns: []\n",
       "Index: []"
      ]
     },
     "execution_count": 4510,
     "metadata": {},
     "output_type": "execute_result"
    }
   ],
   "source": [
    "# то же, плюс сортировка\n",
    "select_query = \"\"\"\n",
    "SELECT *\n",
    "FROM stories \n",
    "WHERE user_id IN (2,3,4,5)\n",
    "ORDER BY id;\"\"\"\n",
    "\n",
    "pd.DataFrame(push(select_query))"
   ]
  },
  {
   "cell_type": "code",
   "execution_count": null,
   "metadata": {},
   "outputs": [
    {
     "name": "stdout",
     "output_type": "stream",
     "text": [
      "Succesfully connect\n",
      "####################\n",
      "SELECT * succesfully\n"
     ]
    },
    {
     "data": {
      "text/html": [
       "<div>\n",
       "<style scoped>\n",
       "    .dataframe tbody tr th:only-of-type {\n",
       "        vertical-align: middle;\n",
       "    }\n",
       "\n",
       "    .dataframe tbody tr th {\n",
       "        vertical-align: top;\n",
       "    }\n",
       "\n",
       "    .dataframe thead th {\n",
       "        text-align: right;\n",
       "    }\n",
       "</style>\n",
       "<table border=\"1\" class=\"dataframe\">\n",
       "  <thead>\n",
       "    <tr style=\"text-align: right;\">\n",
       "      <th></th>\n",
       "    </tr>\n",
       "  </thead>\n",
       "  <tbody>\n",
       "  </tbody>\n",
       "</table>\n",
       "</div>"
      ],
      "text/plain": [
       "Empty DataFrame\n",
       "Columns: []\n",
       "Index: []"
      ]
     },
     "execution_count": 4511,
     "metadata": {},
     "output_type": "execute_result"
    }
   ],
   "source": [
    "select_query = \"\"\"\n",
    "SELECT *\n",
    "FROM stories \n",
    "HAVING user_id IN (2,3,4,5)\n",
    "ORDER BY id;\"\"\"\n",
    "\n",
    "pd.DataFrame(push(select_query))"
   ]
  },
  {
   "cell_type": "markdown",
   "metadata": {},
   "source": [
    "## 4.6 Отсутствие значения (NULL) и логическое условие IF"
   ]
  },
  {
   "cell_type": "code",
   "execution_count": null,
   "metadata": {},
   "outputs": [
    {
     "name": "stdout",
     "output_type": "stream",
     "text": [
      "Succesfully connect\n",
      "####################\n",
      "SELECT * succesfully\n"
     ]
    },
    {
     "data": {
      "text/html": [
       "<div>\n",
       "<style scoped>\n",
       "    .dataframe tbody tr th:only-of-type {\n",
       "        vertical-align: middle;\n",
       "    }\n",
       "\n",
       "    .dataframe tbody tr th {\n",
       "        vertical-align: top;\n",
       "    }\n",
       "\n",
       "    .dataframe thead th {\n",
       "        text-align: right;\n",
       "    }\n",
       "</style>\n",
       "<table border=\"1\" class=\"dataframe\">\n",
       "  <thead>\n",
       "    <tr style=\"text-align: right;\">\n",
       "      <th></th>\n",
       "      <th>id</th>\n",
       "      <th>firstname</th>\n",
       "      <th>lastname</th>\n",
       "      <th>login</th>\n",
       "      <th>email</th>\n",
       "      <th>password_hash</th>\n",
       "      <th>phone</th>\n",
       "      <th>date_of_birth</th>\n",
       "      <th>is_deleted</th>\n",
       "    </tr>\n",
       "  </thead>\n",
       "  <tbody>\n",
       "    <tr>\n",
       "      <th>0</th>\n",
       "      <td>1</td>\n",
       "      <td>Kelsie</td>\n",
       "      <td>Olson</td>\n",
       "      <td>None</td>\n",
       "      <td>xheidenreich@example.net</td>\n",
       "      <td>None</td>\n",
       "      <td>9548492646</td>\n",
       "      <td>2000-01-01</td>\n",
       "      <td>b'\\x00'</td>\n",
       "    </tr>\n",
       "    <tr>\n",
       "      <th>1</th>\n",
       "      <td>2</td>\n",
       "      <td>Lucile</td>\n",
       "      <td>Rolfson</td>\n",
       "      <td>None</td>\n",
       "      <td>dbartell@example.net</td>\n",
       "      <td>None</td>\n",
       "      <td>9258387168</td>\n",
       "      <td>2021-01-01</td>\n",
       "      <td>b'\\x00'</td>\n",
       "    </tr>\n",
       "    <tr>\n",
       "      <th>2</th>\n",
       "      <td>3</td>\n",
       "      <td>Lori</td>\n",
       "      <td>Koch</td>\n",
       "      <td>None</td>\n",
       "      <td>damaris34@example.net</td>\n",
       "      <td>None</td>\n",
       "      <td>9192291407</td>\n",
       "      <td>1995-01-01</td>\n",
       "      <td>b'\\x00'</td>\n",
       "    </tr>\n",
       "    <tr>\n",
       "      <th>3</th>\n",
       "      <td>4</td>\n",
       "      <td>Sam</td>\n",
       "      <td>Kuphal</td>\n",
       "      <td>None</td>\n",
       "      <td>telly.miller@example.net</td>\n",
       "      <td>None</td>\n",
       "      <td>9917826315</td>\n",
       "      <td>1999-01-01</td>\n",
       "      <td>b'\\x00'</td>\n",
       "    </tr>\n",
       "    <tr>\n",
       "      <th>4</th>\n",
       "      <td>5</td>\n",
       "      <td>Celestino</td>\n",
       "      <td>Cruickshank</td>\n",
       "      <td>None</td>\n",
       "      <td>flavio.hammes2@example.com</td>\n",
       "      <td>None</td>\n",
       "      <td>9686686722</td>\n",
       "      <td>2011-01-01</td>\n",
       "      <td>b'\\x00'</td>\n",
       "    </tr>\n",
       "    <tr>\n",
       "      <th>5</th>\n",
       "      <td>93</td>\n",
       "      <td>Gregory</td>\n",
       "      <td>Jenkins</td>\n",
       "      <td>None</td>\n",
       "      <td>weimann.richard@example.com</td>\n",
       "      <td>None</td>\n",
       "      <td>9860971258</td>\n",
       "      <td>2011-01-01</td>\n",
       "      <td>b'\\x00'</td>\n",
       "    </tr>\n",
       "    <tr>\n",
       "      <th>6</th>\n",
       "      <td>101</td>\n",
       "      <td>Eleonore</td>\n",
       "      <td>Ward</td>\n",
       "      <td>None</td>\n",
       "      <td>antonietta333@example.com</td>\n",
       "      <td>None</td>\n",
       "      <td>9397815333</td>\n",
       "      <td>2000-01-01</td>\n",
       "      <td>b'\\x00'</td>\n",
       "    </tr>\n",
       "    <tr>\n",
       "      <th>7</th>\n",
       "      <td>106</td>\n",
       "      <td>Miguel</td>\n",
       "      <td>Watsica</td>\n",
       "      <td>hassan_kuphal</td>\n",
       "      <td>hassan.kuphal@example.org</td>\n",
       "      <td>None</td>\n",
       "      <td>9824696112</td>\n",
       "      <td>None</td>\n",
       "      <td>b'\\x00'</td>\n",
       "    </tr>\n",
       "    <tr>\n",
       "      <th>8</th>\n",
       "      <td>107</td>\n",
       "      <td>Sam2</td>\n",
       "      <td>Kuphal2</td>\n",
       "      <td>None</td>\n",
       "      <td>telly.miller222@example.net</td>\n",
       "      <td>None</td>\n",
       "      <td>9917826222</td>\n",
       "      <td>2021-01-01</td>\n",
       "      <td>b'\\x00'</td>\n",
       "    </tr>\n",
       "  </tbody>\n",
       "</table>\n",
       "</div>"
      ],
      "text/plain": [
       "    id  firstname     lastname          login                        email  \\\n",
       "0    1     Kelsie        Olson           None     xheidenreich@example.net   \n",
       "1    2     Lucile      Rolfson           None         dbartell@example.net   \n",
       "2    3       Lori         Koch           None        damaris34@example.net   \n",
       "3    4        Sam       Kuphal           None     telly.miller@example.net   \n",
       "4    5  Celestino  Cruickshank           None   flavio.hammes2@example.com   \n",
       "5   93    Gregory      Jenkins           None  weimann.richard@example.com   \n",
       "6  101   Eleonore         Ward           None    antonietta333@example.com   \n",
       "7  106     Miguel      Watsica  hassan_kuphal    hassan.kuphal@example.org   \n",
       "8  107       Sam2      Kuphal2           None  telly.miller222@example.net   \n",
       "\n",
       "  password_hash       phone date_of_birth is_deleted  \n",
       "0          None  9548492646    2000-01-01    b'\\x00'  \n",
       "1          None  9258387168    2021-01-01    b'\\x00'  \n",
       "2          None  9192291407    1995-01-01    b'\\x00'  \n",
       "3          None  9917826315    1999-01-01    b'\\x00'  \n",
       "4          None  9686686722    2011-01-01    b'\\x00'  \n",
       "5          None  9860971258    2011-01-01    b'\\x00'  \n",
       "6          None  9397815333    2000-01-01    b'\\x00'  \n",
       "7          None  9824696112          None    b'\\x00'  \n",
       "8          None  9917826222    2021-01-01    b'\\x00'  "
      ]
     },
     "execution_count": 4512,
     "metadata": {},
     "output_type": "execute_result"
    }
   ],
   "source": [
    "# все записи в таблице users\n",
    "select_query = \"\"\"\n",
    "SELECT *\n",
    "FROM users;\"\"\"\n",
    "\n",
    "pd.DataFrame(push(select_query))"
   ]
  },
  {
   "cell_type": "code",
   "execution_count": null,
   "metadata": {},
   "outputs": [
    {
     "name": "stdout",
     "output_type": "stream",
     "text": [
      "Succesfully connect\n",
      "####################\n",
      "SELECT * succesfully\n"
     ]
    },
    {
     "data": {
      "text/html": [
       "<div>\n",
       "<style scoped>\n",
       "    .dataframe tbody tr th:only-of-type {\n",
       "        vertical-align: middle;\n",
       "    }\n",
       "\n",
       "    .dataframe tbody tr th {\n",
       "        vertical-align: top;\n",
       "    }\n",
       "\n",
       "    .dataframe thead th {\n",
       "        text-align: right;\n",
       "    }\n",
       "</style>\n",
       "<table border=\"1\" class=\"dataframe\">\n",
       "  <thead>\n",
       "    <tr style=\"text-align: right;\">\n",
       "      <th></th>\n",
       "    </tr>\n",
       "  </thead>\n",
       "  <tbody>\n",
       "  </tbody>\n",
       "</table>\n",
       "</div>"
      ],
      "text/plain": [
       "Empty DataFrame\n",
       "Columns: []\n",
       "Index: []"
      ]
     },
     "execution_count": 4513,
     "metadata": {},
     "output_type": "execute_result"
    }
   ],
   "source": [
    "# запись со значением '0' в поле phone\n",
    "select_query = \"\"\"\n",
    "SELECT *\n",
    "FROM users\n",
    "WHERE phone = 0;\"\"\"\n",
    "\n",
    "pd.DataFrame(push(select_query))"
   ]
  },
  {
   "cell_type": "code",
   "execution_count": null,
   "metadata": {},
   "outputs": [
    {
     "name": "stdout",
     "output_type": "stream",
     "text": [
      "Succesfully connect\n",
      "####################\n",
      "SELECT * succesfully\n"
     ]
    },
    {
     "data": {
      "text/html": [
       "<div>\n",
       "<style scoped>\n",
       "    .dataframe tbody tr th:only-of-type {\n",
       "        vertical-align: middle;\n",
       "    }\n",
       "\n",
       "    .dataframe tbody tr th {\n",
       "        vertical-align: top;\n",
       "    }\n",
       "\n",
       "    .dataframe thead th {\n",
       "        text-align: right;\n",
       "    }\n",
       "</style>\n",
       "<table border=\"1\" class=\"dataframe\">\n",
       "  <thead>\n",
       "    <tr style=\"text-align: right;\">\n",
       "      <th></th>\n",
       "      <th>id</th>\n",
       "      <th>firstname</th>\n",
       "      <th>lastname</th>\n",
       "      <th>login</th>\n",
       "      <th>email</th>\n",
       "      <th>password_hash</th>\n",
       "      <th>phone</th>\n",
       "      <th>date_of_birth</th>\n",
       "      <th>is_deleted</th>\n",
       "    </tr>\n",
       "  </thead>\n",
       "  <tbody>\n",
       "    <tr>\n",
       "      <th>0</th>\n",
       "      <td>106</td>\n",
       "      <td>Miguel</td>\n",
       "      <td>Watsica</td>\n",
       "      <td>hassan_kuphal</td>\n",
       "      <td>hassan.kuphal@example.org</td>\n",
       "      <td>None</td>\n",
       "      <td>9824696112</td>\n",
       "      <td>None</td>\n",
       "      <td>b'\\x00'</td>\n",
       "    </tr>\n",
       "  </tbody>\n",
       "</table>\n",
       "</div>"
      ],
      "text/plain": [
       "    id firstname lastname          login                      email  \\\n",
       "0  106    Miguel  Watsica  hassan_kuphal  hassan.kuphal@example.org   \n",
       "\n",
       "  password_hash       phone date_of_birth is_deleted  \n",
       "0          None  9824696112          None    b'\\x00'  "
      ]
     },
     "execution_count": 4518,
     "metadata": {},
     "output_type": "execute_result"
    }
   ],
   "source": [
    "# все записи без телефонов (NULL в поле phone)\n",
    "select_query = \"\"\"\n",
    "SELECT *\n",
    "FROM users\n",
    "WHERE date_of_birth IS NULL;\"\"\"\n",
    "\n",
    "pd.DataFrame(push(select_query))"
   ]
  },
  {
   "cell_type": "code",
   "execution_count": null,
   "metadata": {},
   "outputs": [
    {
     "name": "stdout",
     "output_type": "stream",
     "text": [
      "Succesfully connect\n",
      "####################\n",
      "SELECT * succesfully\n"
     ]
    },
    {
     "data": {
      "text/html": [
       "<div>\n",
       "<style scoped>\n",
       "    .dataframe tbody tr th:only-of-type {\n",
       "        vertical-align: middle;\n",
       "    }\n",
       "\n",
       "    .dataframe tbody tr th {\n",
       "        vertical-align: top;\n",
       "    }\n",
       "\n",
       "    .dataframe thead th {\n",
       "        text-align: right;\n",
       "    }\n",
       "</style>\n",
       "<table border=\"1\" class=\"dataframe\">\n",
       "  <thead>\n",
       "    <tr style=\"text-align: right;\">\n",
       "      <th></th>\n",
       "      <th>id</th>\n",
       "      <th>firstname</th>\n",
       "      <th>lastname</th>\n",
       "      <th>login</th>\n",
       "      <th>email</th>\n",
       "      <th>password_hash</th>\n",
       "      <th>phone</th>\n",
       "      <th>date_of_birth</th>\n",
       "      <th>is_deleted</th>\n",
       "    </tr>\n",
       "  </thead>\n",
       "  <tbody>\n",
       "    <tr>\n",
       "      <th>0</th>\n",
       "      <td>1</td>\n",
       "      <td>Kelsie</td>\n",
       "      <td>Olson</td>\n",
       "      <td>None</td>\n",
       "      <td>xheidenreich@example.net</td>\n",
       "      <td>None</td>\n",
       "      <td>9548492646</td>\n",
       "      <td>2000-01-01</td>\n",
       "      <td>b'\\x00'</td>\n",
       "    </tr>\n",
       "    <tr>\n",
       "      <th>1</th>\n",
       "      <td>2</td>\n",
       "      <td>Lucile</td>\n",
       "      <td>Rolfson</td>\n",
       "      <td>None</td>\n",
       "      <td>dbartell@example.net</td>\n",
       "      <td>None</td>\n",
       "      <td>9258387168</td>\n",
       "      <td>2021-01-01</td>\n",
       "      <td>b'\\x00'</td>\n",
       "    </tr>\n",
       "    <tr>\n",
       "      <th>2</th>\n",
       "      <td>3</td>\n",
       "      <td>Lori</td>\n",
       "      <td>Koch</td>\n",
       "      <td>None</td>\n",
       "      <td>damaris34@example.net</td>\n",
       "      <td>None</td>\n",
       "      <td>9192291407</td>\n",
       "      <td>1995-01-01</td>\n",
       "      <td>b'\\x00'</td>\n",
       "    </tr>\n",
       "    <tr>\n",
       "      <th>3</th>\n",
       "      <td>4</td>\n",
       "      <td>Sam</td>\n",
       "      <td>Kuphal</td>\n",
       "      <td>None</td>\n",
       "      <td>telly.miller@example.net</td>\n",
       "      <td>None</td>\n",
       "      <td>9917826315</td>\n",
       "      <td>1999-01-01</td>\n",
       "      <td>b'\\x00'</td>\n",
       "    </tr>\n",
       "    <tr>\n",
       "      <th>4</th>\n",
       "      <td>5</td>\n",
       "      <td>Celestino</td>\n",
       "      <td>Cruickshank</td>\n",
       "      <td>None</td>\n",
       "      <td>flavio.hammes2@example.com</td>\n",
       "      <td>None</td>\n",
       "      <td>9686686722</td>\n",
       "      <td>2011-01-01</td>\n",
       "      <td>b'\\x00'</td>\n",
       "    </tr>\n",
       "    <tr>\n",
       "      <th>5</th>\n",
       "      <td>93</td>\n",
       "      <td>Gregory</td>\n",
       "      <td>Jenkins</td>\n",
       "      <td>None</td>\n",
       "      <td>weimann.richard@example.com</td>\n",
       "      <td>None</td>\n",
       "      <td>9860971258</td>\n",
       "      <td>2011-01-01</td>\n",
       "      <td>b'\\x00'</td>\n",
       "    </tr>\n",
       "    <tr>\n",
       "      <th>6</th>\n",
       "      <td>101</td>\n",
       "      <td>Eleonore</td>\n",
       "      <td>Ward</td>\n",
       "      <td>None</td>\n",
       "      <td>antonietta333@example.com</td>\n",
       "      <td>None</td>\n",
       "      <td>9397815333</td>\n",
       "      <td>2000-01-01</td>\n",
       "      <td>b'\\x00'</td>\n",
       "    </tr>\n",
       "    <tr>\n",
       "      <th>7</th>\n",
       "      <td>107</td>\n",
       "      <td>Sam2</td>\n",
       "      <td>Kuphal2</td>\n",
       "      <td>None</td>\n",
       "      <td>telly.miller222@example.net</td>\n",
       "      <td>None</td>\n",
       "      <td>9917826222</td>\n",
       "      <td>2021-01-01</td>\n",
       "      <td>b'\\x00'</td>\n",
       "    </tr>\n",
       "  </tbody>\n",
       "</table>\n",
       "</div>"
      ],
      "text/plain": [
       "    id  firstname     lastname login                        email  \\\n",
       "0    1     Kelsie        Olson  None     xheidenreich@example.net   \n",
       "1    2     Lucile      Rolfson  None         dbartell@example.net   \n",
       "2    3       Lori         Koch  None        damaris34@example.net   \n",
       "3    4        Sam       Kuphal  None     telly.miller@example.net   \n",
       "4    5  Celestino  Cruickshank  None   flavio.hammes2@example.com   \n",
       "5   93    Gregory      Jenkins  None  weimann.richard@example.com   \n",
       "6  101   Eleonore         Ward  None    antonietta333@example.com   \n",
       "7  107       Sam2      Kuphal2  None  telly.miller222@example.net   \n",
       "\n",
       "  password_hash       phone date_of_birth is_deleted  \n",
       "0          None  9548492646    2000-01-01    b'\\x00'  \n",
       "1          None  9258387168    2021-01-01    b'\\x00'  \n",
       "2          None  9192291407    1995-01-01    b'\\x00'  \n",
       "3          None  9917826315    1999-01-01    b'\\x00'  \n",
       "4          None  9686686722    2011-01-01    b'\\x00'  \n",
       "5          None  9860971258    2011-01-01    b'\\x00'  \n",
       "6          None  9397815333    2000-01-01    b'\\x00'  \n",
       "7          None  9917826222    2021-01-01    b'\\x00'  "
      ]
     },
     "execution_count": 4519,
     "metadata": {},
     "output_type": "execute_result"
    }
   ],
   "source": [
    "# все записи с указанным телефоном (любое значение, кроме NULL)\n",
    "select_query = \"\"\"\n",
    "SELECT *\n",
    "FROM users\n",
    "WHERE date_of_birth IS NOT NULL;\"\"\"\n",
    "\n",
    "pd.DataFrame(push(select_query))"
   ]
  },
  {
   "cell_type": "markdown",
   "metadata": {},
   "source": [
    "## 4.7 Пейджинг (LIMIT + OFFSET)"
   ]
  },
  {
   "cell_type": "code",
   "execution_count": null,
   "metadata": {},
   "outputs": [],
   "source": []
  },
  {
   "cell_type": "code",
   "execution_count": null,
   "metadata": {},
   "outputs": [],
   "source": []
  },
  {
   "cell_type": "code",
   "execution_count": null,
   "metadata": {},
   "outputs": [],
   "source": []
  },
  {
   "cell_type": "markdown",
   "metadata": {},
   "source": [
    "## 4.8 Условия, ветвления (IF, CASE)"
   ]
  },
  {
   "cell_type": "code",
   "execution_count": 7,
   "metadata": {},
   "outputs": [
    {
     "name": "stdout",
     "output_type": "stream",
     "text": [
      "[5, 3, 8, 6, 1, 9, 2, 7, 4, 0]\n"
     ]
    }
   ],
   "source": [
    "numbers = [5, 3, 8, 6, 1, 9, 2, 7, 4, 0]\n",
    "\n",
    "result = numbers[2:8:2]\n",
    "\n",
    "print(numbers)"
   ]
  },
  {
   "cell_type": "code",
   "execution_count": null,
   "metadata": {},
   "outputs": [
    {
     "name": "stdout",
     "output_type": "stream",
     "text": [
      "21\n"
     ]
    }
   ],
   "source": []
  },
  {
   "cell_type": "code",
   "execution_count": null,
   "metadata": {},
   "outputs": [],
   "source": []
  },
  {
   "cell_type": "markdown",
   "metadata": {},
   "source": [
    "# 5  Сложные SELECT запросы"
   ]
  },
  {
   "cell_type": "markdown",
   "metadata": {},
   "source": [
    "## 5.1 Вложенные запросы (подзапросы)"
   ]
  },
  {
   "cell_type": "code",
   "execution_count": null,
   "metadata": {},
   "outputs": [],
   "source": []
  },
  {
   "cell_type": "code",
   "execution_count": null,
   "metadata": {},
   "outputs": [],
   "source": []
  },
  {
   "cell_type": "code",
   "execution_count": null,
   "metadata": {},
   "outputs": [],
   "source": []
  },
  {
   "cell_type": "markdown",
   "metadata": {},
   "source": [
    "## 5.2 Объединения (JOIN)"
   ]
  },
  {
   "cell_type": "code",
   "execution_count": null,
   "metadata": {},
   "outputs": [],
   "source": []
  },
  {
   "cell_type": "code",
   "execution_count": null,
   "metadata": {},
   "outputs": [],
   "source": []
  },
  {
   "cell_type": "code",
   "execution_count": null,
   "metadata": {},
   "outputs": [],
   "source": []
  },
  {
   "cell_type": "markdown",
   "metadata": {},
   "source": [
    "## 5.3 Объединения (CROSS JOIN, INNER JOIN)"
   ]
  },
  {
   "cell_type": "code",
   "execution_count": null,
   "metadata": {},
   "outputs": [],
   "source": []
  },
  {
   "cell_type": "code",
   "execution_count": null,
   "metadata": {},
   "outputs": [],
   "source": []
  },
  {
   "cell_type": "code",
   "execution_count": null,
   "metadata": {},
   "outputs": [],
   "source": []
  },
  {
   "cell_type": "code",
   "execution_count": null,
   "metadata": {},
   "outputs": [],
   "source": []
  },
  {
   "cell_type": "markdown",
   "metadata": {},
   "source": [
    "## 5.4 Объединения (LEFT JOIN, RIGHT JOIN)"
   ]
  },
  {
   "cell_type": "code",
   "execution_count": null,
   "metadata": {},
   "outputs": [],
   "source": []
  },
  {
   "cell_type": "code",
   "execution_count": null,
   "metadata": {},
   "outputs": [],
   "source": []
  },
  {
   "cell_type": "code",
   "execution_count": null,
   "metadata": {},
   "outputs": [],
   "source": []
  },
  {
   "cell_type": "markdown",
   "metadata": {},
   "source": [
    "## 5.5 Объединения (FULL OUTER JOIN)"
   ]
  },
  {
   "cell_type": "code",
   "execution_count": null,
   "metadata": {},
   "outputs": [],
   "source": []
  },
  {
   "cell_type": "code",
   "execution_count": null,
   "metadata": {},
   "outputs": [],
   "source": []
  },
  {
   "cell_type": "code",
   "execution_count": null,
   "metadata": {},
   "outputs": [],
   "source": []
  },
  {
   "cell_type": "markdown",
   "metadata": {},
   "source": [
    "## 5.6 Вложенные запросы VS объединения"
   ]
  },
  {
   "cell_type": "code",
   "execution_count": null,
   "metadata": {},
   "outputs": [],
   "source": []
  },
  {
   "cell_type": "code",
   "execution_count": null,
   "metadata": {},
   "outputs": [],
   "source": []
  },
  {
   "cell_type": "code",
   "execution_count": null,
   "metadata": {},
   "outputs": [],
   "source": []
  },
  {
   "cell_type": "markdown",
   "metadata": {},
   "source": [
    "## 5.7 Соединения (UNION)"
   ]
  },
  {
   "cell_type": "code",
   "execution_count": null,
   "metadata": {},
   "outputs": [],
   "source": []
  },
  {
   "cell_type": "code",
   "execution_count": null,
   "metadata": {},
   "outputs": [],
   "source": []
  },
  {
   "cell_type": "code",
   "execution_count": null,
   "metadata": {},
   "outputs": [],
   "source": []
  },
  {
   "cell_type": "markdown",
   "metadata": {},
   "source": [
    "## 5.8 Оконные функции"
   ]
  },
  {
   "cell_type": "code",
   "execution_count": null,
   "metadata": {},
   "outputs": [],
   "source": []
  },
  {
   "cell_type": "code",
   "execution_count": null,
   "metadata": {},
   "outputs": [],
   "source": []
  },
  {
   "cell_type": "code",
   "execution_count": null,
   "metadata": {},
   "outputs": [],
   "source": []
  },
  {
   "cell_type": "markdown",
   "metadata": {},
   "source": [
    "## 5.9 Общие табличные выражения (CTE)"
   ]
  },
  {
   "cell_type": "code",
   "execution_count": null,
   "metadata": {},
   "outputs": [],
   "source": []
  },
  {
   "cell_type": "code",
   "execution_count": null,
   "metadata": {},
   "outputs": [],
   "source": []
  },
  {
   "cell_type": "code",
   "execution_count": null,
   "metadata": {},
   "outputs": [],
   "source": []
  },
  {
   "cell_type": "markdown",
   "metadata": {},
   "source": [
    "## 5.10 Рекурсивные табличные выражения"
   ]
  },
  {
   "cell_type": "code",
   "execution_count": null,
   "metadata": {},
   "outputs": [],
   "source": []
  },
  {
   "cell_type": "code",
   "execution_count": null,
   "metadata": {},
   "outputs": [],
   "source": []
  },
  {
   "cell_type": "code",
   "execution_count": null,
   "metadata": {},
   "outputs": [],
   "source": []
  }
 ],
 "metadata": {
  "kernelspec": {
   "display_name": "base",
   "language": "python",
   "name": "python3"
  },
  "language_info": {
   "codemirror_mode": {
    "name": "ipython",
    "version": 3
   },
   "file_extension": ".py",
   "mimetype": "text/x-python",
   "name": "python",
   "nbconvert_exporter": "python",
   "pygments_lexer": "ipython3",
   "version": "3.12.7"
  }
 },
 "nbformat": 4,
 "nbformat_minor": 2
}
