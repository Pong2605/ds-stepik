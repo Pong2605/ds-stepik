{
 "cells": [
  {
   "cell_type": "code",
   "execution_count": 644,
   "metadata": {},
   "outputs": [],
   "source": [
    "import pymysql\n",
    "import pandas as pd"
   ]
  },
  {
   "cell_type": "code",
   "execution_count": 645,
   "metadata": {},
   "outputs": [],
   "source": [
    "def push(query):\n",
    "    try:\n",
    "        connection = pymysql.connect(\n",
    "            host='localhost',\n",
    "            port=3306,\n",
    "            user='root',\n",
    "            password='lolik`12*-',\n",
    "            database='stepik',\n",
    "            cursorclass=pymysql.cursors.DictCursor,\n",
    "        )\n",
    "        print('Succesfully connect')\n",
    "        print('#' * 20)\n",
    "\n",
    "        try:\n",
    "            with connection.cursor() as cursor:\n",
    "                cursor.execute(query)\n",
    "                print(f'{' '.join(query.split()[:2])} succesfully')\n",
    "                if query.split()[0].lower() == 'select':\n",
    "                    return cursor\n",
    "                if query.split()[0].lower() in ['insert', 'update', 'delete']:\n",
    "                    connection.commit()\n",
    "\n",
    "        finally:\n",
    "            connection.close()\n",
    "\n",
    "    except Exception as ex:\n",
    "        print('Connection refused...')\n",
    "        print(ex)"
   ]
  },
  {
   "cell_type": "code",
   "execution_count": 646,
   "metadata": {},
   "outputs": [],
   "source": [
    "# Команды из набора DDL – Data Definition Language (язык описания данных):\n",
    "# ALTER\n",
    "# CREATE\n",
    "# DROP\n",
    "\n",
    "# Команды из набора DML – Data Manipulation Language (язык манипулирования данными):\n",
    "# SELECT – выборка данных\n",
    "# INSERT – вставка новых данных\n",
    "# UPDATE – обновление данных\n",
    "# DELETE – удаление данных\n",
    "# MERGE – слияние данных"
   ]
  },
  {
   "cell_type": "markdown",
   "metadata": {},
   "source": [
    "# 2. Проектирование БД (команды DDL)"
   ]
  },
  {
   "cell_type": "code",
   "execution_count": 647,
   "metadata": {},
   "outputs": [
    {
     "name": "stdout",
     "output_type": "stream",
     "text": [
      "Succesfully connect\n",
      "####################\n",
      "Connection refused...\n",
      "(3730, \"Cannot drop table 'users' referenced by a foreign key constraint 'groups_ibfk_1' on table 'groups'.\")\n"
     ]
    }
   ],
   "source": [
    "# Удаление таблицы\n",
    "drop_table_query = 'DROP TABLE IF EXISTS users'\n",
    "push(drop_table_query)"
   ]
  },
  {
   "cell_type": "code",
   "execution_count": 648,
   "metadata": {},
   "outputs": [
    {
     "name": "stdout",
     "output_type": "stream",
     "text": [
      "Succesfully connect\n",
      "####################\n",
      "Connection refused...\n",
      "(1050, \"Table 'users' already exists\")\n"
     ]
    }
   ],
   "source": [
    "# Создание таблицы users\n",
    "create_table_query = \"\"\"\n",
    "CREATE TABLE users(\n",
    "    id BIGINT UNSIGNED NOT NULL AUTO_INCREMENT PRIMARY KEY,\n",
    "    firstname VARCHAR(100),\n",
    "    lastname VARCHAR(100) COMMENT 'фамилия',\n",
    "    login VARCHAR(100),\n",
    "    email VARCHAR(100) UNIQUE,\n",
    "    password_hash VARCHAR(256),\n",
    "    phone BIGINT UNSIGNED UNIQUE,\n",
    "    \n",
    "    INDEX idx_users_username(firstname, lastname)\n",
    ") COMMENT 'пользователи';\"\"\"\n",
    "\n",
    "push(create_table_query)"
   ]
  },
  {
   "cell_type": "code",
   "execution_count": 649,
   "metadata": {},
   "outputs": [
    {
     "name": "stdout",
     "output_type": "stream",
     "text": [
      "Succesfully connect\n",
      "####################\n",
      "DROP TABLE succesfully\n"
     ]
    }
   ],
   "source": [
    "# Удаление таблицы\n",
    "drop_table_query = 'DROP TABLE IF EXISTS user_settings'\n",
    "push(drop_table_query)"
   ]
  },
  {
   "cell_type": "code",
   "execution_count": 650,
   "metadata": {},
   "outputs": [
    {
     "name": "stdout",
     "output_type": "stream",
     "text": [
      "Succesfully connect\n",
      "####################\n",
      "CREATE TABLE succesfully\n"
     ]
    }
   ],
   "source": [
    "# Создание таблицы user_settings\n",
    "\n",
    "# 1 x 1\n",
    "create_table_query = \"\"\"\n",
    "CREATE TABLE user_settings(\n",
    "    user_id BIGINT UNSIGNED NOT NULL,\n",
    "    is_premium_account BIT,\n",
    "    is_night_mode_enabled BIT,\n",
    "    color_scheme ENUM('classic', 'day', 'tinted', 'night'),\n",
    "    LANGUAGE ENUM('english', 'french', 'russian', 'german', 'belorussian', 'croatian', 'dutch'),\n",
    "    status_text VARCHAR(70),\n",
    "    notifications_and_sounds JSON,\n",
    "    created_at DATETIME DEFAULT NOW()\n",
    ");\"\"\"\n",
    "\n",
    "push(create_table_query)"
   ]
  },
  {
   "cell_type": "code",
   "execution_count": 651,
   "metadata": {},
   "outputs": [
    {
     "name": "stdout",
     "output_type": "stream",
     "text": [
      "Succesfully connect\n",
      "####################\n",
      "ALTER TABLE succesfully\n"
     ]
    }
   ],
   "source": [
    "# Создание связи с таблицами user_settings и users\n",
    "alter_table_query = \"\"\"\n",
    "ALTER TABLE user_settings ADD CONSTRAINT fk_user_settings_user_id\n",
    "FOREIGN KEY (user_id) REFERENCES users(id)\n",
    "ON UPDATE CASCADE\n",
    "ON DELETE RESTRICT;\n",
    "\"\"\"\n",
    "\n",
    "push(alter_table_query)"
   ]
  },
  {
   "cell_type": "code",
   "execution_count": 652,
   "metadata": {},
   "outputs": [
    {
     "name": "stdout",
     "output_type": "stream",
     "text": [
      "Succesfully connect\n",
      "####################\n",
      "Connection refused...\n",
      "(1062, \"Duplicate entry 'idickens@example.com' for key 'users.email'\")\n"
     ]
    }
   ],
   "source": [
    "# Добавление строки в таблицу users\n",
    "\n",
    "# insert_query = \"INSERT INTO users (id, firstname, lastname, email, phone) VALUES ('2', 'Kelsie', 'Olson', 'xheidenereich@example.net', '9548489264');\"\n",
    "\n",
    "# можно не указывать автоинкрементное (AUTO_INCREMENT) поле\n",
    "insert_query = \"\"\"INSERT INTO users (firstname, lastname, email, phone) VALUES\n",
    "('Ozella', 'Hauck', 'idickens@example.com', '9773438197'),\n",
    "('Emmet', 'Hammes', 'qcremin@example.org', '9694110645'),\n",
    "('Lori', 'Koch', 'damaris34@example.net', '9192291407'),\n",
    "('Sam', 'Kuphal', 'telly.miller@example.net', '9917826315');\"\"\"\n",
    "\n",
    "push(insert_query)"
   ]
  },
  {
   "cell_type": "code",
   "execution_count": 653,
   "metadata": {},
   "outputs": [
    {
     "name": "stdout",
     "output_type": "stream",
     "text": [
      "Succesfully connect\n",
      "####################\n",
      "SELECT * succesfully\n",
      "{'id': 1, 'firstname': 'Kelsie', 'lastname': 'Olson', 'login': None, 'email': 'xheidenreich@example.net', 'password_hash': None, 'phone': 9548492646, 'is_deleted': b'\\x00'}\n",
      "{'id': 2, 'firstname': 'Lucile', 'lastname': 'Rolfson', 'login': None, 'email': 'dbartell@example.net', 'password_hash': None, 'phone': 9258387168, 'is_deleted': b'\\x00'}\n",
      "{'id': 3, 'firstname': 'Ozella', 'lastname': 'Hauck', 'login': None, 'email': 'idickens@example.com', 'password_hash': None, 'phone': 9773438197, 'is_deleted': b'\\x00'}\n",
      "{'id': 4, 'firstname': 'Emmet', 'lastname': 'Hammes', 'login': None, 'email': 'qcremin@example.org', 'password_hash': None, 'phone': 9694110645, 'is_deleted': b'\\x00'}\n",
      "{'id': 5, 'firstname': 'Lori', 'lastname': 'Koch', 'login': None, 'email': 'damaris34@example.net', 'password_hash': None, 'phone': 9192291407, 'is_deleted': b'\\x00'}\n",
      "{'id': 6, 'firstname': 'Sam', 'lastname': 'Kuphal', 'login': None, 'email': 'telly.miller@example.net', 'password_hash': None, 'phone': 9917826315, 'is_deleted': b'\\x00'}\n",
      "{'id': 39, 'firstname': 'Celestino', 'lastname': 'Cruickshank', 'login': None, 'email': 'flavio.hammes2@example.com', 'password_hash': None, 'phone': 9686686722, 'is_deleted': b'\\x00'}\n",
      "{'id': 93, 'firstname': 'Gregory', 'lastname': 'Jenkins', 'login': None, 'email': 'weimann.richard@example.com', 'password_hash': None, 'phone': 9860971258, 'is_deleted': b'\\x00'}\n",
      "{'id': 94, 'firstname': 'Celestino', 'lastname': 'Cruickshank', 'login': None, 'email': None, 'password_hash': None, 'phone': None, 'is_deleted': b'\\x00'}\n",
      "{'id': 99, 'firstname': 'Miguel', 'lastname': 'Watsica', 'login': 'hassan_kuphal', 'email': 'hassan.kuphal@example.org', 'password_hash': None, 'phone': 9824696112, 'is_deleted': b'\\x00'}\n",
      "{'id': 100, 'firstname': 'Sam2', 'lastname': 'Kuphal2', 'login': None, 'email': 'telly.miller222@example.net', 'password_hash': None, 'phone': 9917826222, 'is_deleted': b'\\x00'}\n",
      "{'id': 106, 'firstname': 'Celestino', 'lastname': 'Cruickshank', 'login': None, 'email': None, 'password_hash': None, 'phone': None, 'is_deleted': b'\\x00'}\n",
      "{'id': 118, 'firstname': 'Celestino', 'lastname': 'Cruickshank', 'login': None, 'email': None, 'password_hash': None, 'phone': None, 'is_deleted': b'\\x00'}\n",
      "{'id': 130, 'firstname': 'Celestino', 'lastname': 'Cruickshank', 'login': None, 'email': None, 'password_hash': None, 'phone': None, 'is_deleted': b'\\x00'}\n",
      "{'id': 142, 'firstname': 'Celestino', 'lastname': 'Cruickshank', 'login': None, 'email': None, 'password_hash': None, 'phone': None, 'is_deleted': b'\\x00'}\n",
      "{'id': 154, 'firstname': 'Celestino', 'lastname': 'Cruickshank', 'login': None, 'email': None, 'password_hash': None, 'phone': None, 'is_deleted': b'\\x00'}\n",
      "{'id': 166, 'firstname': 'Celestino', 'lastname': 'Cruickshank', 'login': None, 'email': None, 'password_hash': None, 'phone': None, 'is_deleted': b'\\x00'}\n",
      "{'id': 178, 'firstname': 'Celestino', 'lastname': 'Cruickshank', 'login': None, 'email': None, 'password_hash': None, 'phone': None, 'is_deleted': b'\\x00'}\n",
      "{'id': 190, 'firstname': 'Celestino', 'lastname': 'Cruickshank', 'login': None, 'email': None, 'password_hash': None, 'phone': None, 'is_deleted': b'\\x00'}\n",
      "{'id': 202, 'firstname': 'Celestino', 'lastname': 'Cruickshank', 'login': None, 'email': None, 'password_hash': None, 'phone': None, 'is_deleted': b'\\x00'}\n"
     ]
    }
   ],
   "source": [
    "# Запрос селект\n",
    "select_query = 'SELECT * FROM users'\n",
    "rows = push(select_query).fetchall()\n",
    "for row in rows:\n",
    "    print(row)"
   ]
  },
  {
   "cell_type": "code",
   "execution_count": 654,
   "metadata": {},
   "outputs": [
    {
     "name": "stdout",
     "output_type": "stream",
     "text": [
      "Succesfully connect\n",
      "####################\n",
      "Connection refused...\n",
      "(1451, 'Cannot delete or update a parent row: a foreign key constraint fails (`stepik`.`channels`, CONSTRAINT `channels_ibfk_1` FOREIGN KEY (`owner_user_id`) REFERENCES `users` (`id`))')\n"
     ]
    }
   ],
   "source": [
    "# Удаление строк\n",
    "drop_row_query = 'DELETE FROM users WHERE id IN (1, 2)'\n",
    "push(drop_row_query)"
   ]
  },
  {
   "cell_type": "code",
   "execution_count": 655,
   "metadata": {},
   "outputs": [
    {
     "name": "stdout",
     "output_type": "stream",
     "text": [
      "Succesfully connect\n",
      "####################\n",
      "ALTER TABLE succesfully\n",
      "Succesfully connect\n",
      "####################\n",
      "ALTER TABLE succesfully\n",
      "Succesfully connect\n",
      "####################\n",
      "ALTER TABLE succesfully\n",
      "Succesfully connect\n",
      "####################\n",
      "ALTER TABLE succesfully\n"
     ]
    }
   ],
   "source": [
    "# Добавление, изменение типа, переименование, удавление полей таблицы\n",
    "add_column_query = \"ALTER TABLE users ADD COLUMN birthday DATETIME\"\n",
    "push(add_column_query)\n",
    "\n",
    "modify_column_query = \"ALTER TABLE users MODIFY COLUMN birthday DATE\"\n",
    "push(modify_column_query)\n",
    "\n",
    "rename_column_query = \"ALTER TABLE users RENAME COLUMN birthday to date_of_birth\"\n",
    "push(rename_column_query)\n",
    "\n",
    "drop_column_query = \"ALTER TABLE users DROP COLUMN date_of_birth\"\n",
    "push(drop_column_query)"
   ]
  },
  {
   "cell_type": "code",
   "execution_count": 656,
   "metadata": {},
   "outputs": [
    {
     "data": {
      "text/html": [
       "<div>\n",
       "<style scoped>\n",
       "    .dataframe tbody tr th:only-of-type {\n",
       "        vertical-align: middle;\n",
       "    }\n",
       "\n",
       "    .dataframe tbody tr th {\n",
       "        vertical-align: top;\n",
       "    }\n",
       "\n",
       "    .dataframe thead th {\n",
       "        text-align: right;\n",
       "    }\n",
       "</style>\n",
       "<table border=\"1\" class=\"dataframe\">\n",
       "  <thead>\n",
       "    <tr style=\"text-align: right;\">\n",
       "      <th></th>\n",
       "      <th>id</th>\n",
       "      <th>firstname</th>\n",
       "      <th>lastname</th>\n",
       "      <th>login</th>\n",
       "      <th>email</th>\n",
       "      <th>password_hash</th>\n",
       "      <th>phone</th>\n",
       "      <th>is_deleted</th>\n",
       "    </tr>\n",
       "  </thead>\n",
       "  <tbody>\n",
       "    <tr>\n",
       "      <th>0</th>\n",
       "      <td>1</td>\n",
       "      <td>Kelsie</td>\n",
       "      <td>Olson</td>\n",
       "      <td>None</td>\n",
       "      <td>xheidenreich@example.net</td>\n",
       "      <td>None</td>\n",
       "      <td>9.548493e+09</td>\n",
       "      <td>b'\\x00'</td>\n",
       "    </tr>\n",
       "    <tr>\n",
       "      <th>1</th>\n",
       "      <td>2</td>\n",
       "      <td>Lucile</td>\n",
       "      <td>Rolfson</td>\n",
       "      <td>None</td>\n",
       "      <td>dbartell@example.net</td>\n",
       "      <td>None</td>\n",
       "      <td>9.258387e+09</td>\n",
       "      <td>b'\\x00'</td>\n",
       "    </tr>\n",
       "    <tr>\n",
       "      <th>2</th>\n",
       "      <td>3</td>\n",
       "      <td>Ozella</td>\n",
       "      <td>Hauck</td>\n",
       "      <td>None</td>\n",
       "      <td>idickens@example.com</td>\n",
       "      <td>None</td>\n",
       "      <td>9.773438e+09</td>\n",
       "      <td>b'\\x00'</td>\n",
       "    </tr>\n",
       "    <tr>\n",
       "      <th>3</th>\n",
       "      <td>4</td>\n",
       "      <td>Emmet</td>\n",
       "      <td>Hammes</td>\n",
       "      <td>None</td>\n",
       "      <td>qcremin@example.org</td>\n",
       "      <td>None</td>\n",
       "      <td>9.694111e+09</td>\n",
       "      <td>b'\\x00'</td>\n",
       "    </tr>\n",
       "    <tr>\n",
       "      <th>4</th>\n",
       "      <td>5</td>\n",
       "      <td>Lori</td>\n",
       "      <td>Koch</td>\n",
       "      <td>None</td>\n",
       "      <td>damaris34@example.net</td>\n",
       "      <td>None</td>\n",
       "      <td>9.192291e+09</td>\n",
       "      <td>b'\\x00'</td>\n",
       "    </tr>\n",
       "    <tr>\n",
       "      <th>5</th>\n",
       "      <td>6</td>\n",
       "      <td>Sam</td>\n",
       "      <td>Kuphal</td>\n",
       "      <td>None</td>\n",
       "      <td>telly.miller@example.net</td>\n",
       "      <td>None</td>\n",
       "      <td>9.917826e+09</td>\n",
       "      <td>b'\\x00'</td>\n",
       "    </tr>\n",
       "    <tr>\n",
       "      <th>6</th>\n",
       "      <td>39</td>\n",
       "      <td>Celestino</td>\n",
       "      <td>Cruickshank</td>\n",
       "      <td>None</td>\n",
       "      <td>flavio.hammes2@example.com</td>\n",
       "      <td>None</td>\n",
       "      <td>9.686687e+09</td>\n",
       "      <td>b'\\x00'</td>\n",
       "    </tr>\n",
       "    <tr>\n",
       "      <th>7</th>\n",
       "      <td>93</td>\n",
       "      <td>Gregory</td>\n",
       "      <td>Jenkins</td>\n",
       "      <td>None</td>\n",
       "      <td>weimann.richard@example.com</td>\n",
       "      <td>None</td>\n",
       "      <td>9.860971e+09</td>\n",
       "      <td>b'\\x00'</td>\n",
       "    </tr>\n",
       "    <tr>\n",
       "      <th>8</th>\n",
       "      <td>94</td>\n",
       "      <td>Celestino</td>\n",
       "      <td>Cruickshank</td>\n",
       "      <td>None</td>\n",
       "      <td>None</td>\n",
       "      <td>None</td>\n",
       "      <td>NaN</td>\n",
       "      <td>b'\\x00'</td>\n",
       "    </tr>\n",
       "    <tr>\n",
       "      <th>9</th>\n",
       "      <td>99</td>\n",
       "      <td>Miguel</td>\n",
       "      <td>Watsica</td>\n",
       "      <td>hassan_kuphal</td>\n",
       "      <td>hassan.kuphal@example.org</td>\n",
       "      <td>None</td>\n",
       "      <td>9.824696e+09</td>\n",
       "      <td>b'\\x00'</td>\n",
       "    </tr>\n",
       "    <tr>\n",
       "      <th>10</th>\n",
       "      <td>100</td>\n",
       "      <td>Sam2</td>\n",
       "      <td>Kuphal2</td>\n",
       "      <td>None</td>\n",
       "      <td>telly.miller222@example.net</td>\n",
       "      <td>None</td>\n",
       "      <td>9.917826e+09</td>\n",
       "      <td>b'\\x00'</td>\n",
       "    </tr>\n",
       "    <tr>\n",
       "      <th>11</th>\n",
       "      <td>106</td>\n",
       "      <td>Celestino</td>\n",
       "      <td>Cruickshank</td>\n",
       "      <td>None</td>\n",
       "      <td>None</td>\n",
       "      <td>None</td>\n",
       "      <td>NaN</td>\n",
       "      <td>b'\\x00'</td>\n",
       "    </tr>\n",
       "    <tr>\n",
       "      <th>12</th>\n",
       "      <td>118</td>\n",
       "      <td>Celestino</td>\n",
       "      <td>Cruickshank</td>\n",
       "      <td>None</td>\n",
       "      <td>None</td>\n",
       "      <td>None</td>\n",
       "      <td>NaN</td>\n",
       "      <td>b'\\x00'</td>\n",
       "    </tr>\n",
       "    <tr>\n",
       "      <th>13</th>\n",
       "      <td>130</td>\n",
       "      <td>Celestino</td>\n",
       "      <td>Cruickshank</td>\n",
       "      <td>None</td>\n",
       "      <td>None</td>\n",
       "      <td>None</td>\n",
       "      <td>NaN</td>\n",
       "      <td>b'\\x00'</td>\n",
       "    </tr>\n",
       "    <tr>\n",
       "      <th>14</th>\n",
       "      <td>142</td>\n",
       "      <td>Celestino</td>\n",
       "      <td>Cruickshank</td>\n",
       "      <td>None</td>\n",
       "      <td>None</td>\n",
       "      <td>None</td>\n",
       "      <td>NaN</td>\n",
       "      <td>b'\\x00'</td>\n",
       "    </tr>\n",
       "    <tr>\n",
       "      <th>15</th>\n",
       "      <td>154</td>\n",
       "      <td>Celestino</td>\n",
       "      <td>Cruickshank</td>\n",
       "      <td>None</td>\n",
       "      <td>None</td>\n",
       "      <td>None</td>\n",
       "      <td>NaN</td>\n",
       "      <td>b'\\x00'</td>\n",
       "    </tr>\n",
       "    <tr>\n",
       "      <th>16</th>\n",
       "      <td>166</td>\n",
       "      <td>Celestino</td>\n",
       "      <td>Cruickshank</td>\n",
       "      <td>None</td>\n",
       "      <td>None</td>\n",
       "      <td>None</td>\n",
       "      <td>NaN</td>\n",
       "      <td>b'\\x00'</td>\n",
       "    </tr>\n",
       "    <tr>\n",
       "      <th>17</th>\n",
       "      <td>178</td>\n",
       "      <td>Celestino</td>\n",
       "      <td>Cruickshank</td>\n",
       "      <td>None</td>\n",
       "      <td>None</td>\n",
       "      <td>None</td>\n",
       "      <td>NaN</td>\n",
       "      <td>b'\\x00'</td>\n",
       "    </tr>\n",
       "    <tr>\n",
       "      <th>18</th>\n",
       "      <td>190</td>\n",
       "      <td>Celestino</td>\n",
       "      <td>Cruickshank</td>\n",
       "      <td>None</td>\n",
       "      <td>None</td>\n",
       "      <td>None</td>\n",
       "      <td>NaN</td>\n",
       "      <td>b'\\x00'</td>\n",
       "    </tr>\n",
       "    <tr>\n",
       "      <th>19</th>\n",
       "      <td>202</td>\n",
       "      <td>Celestino</td>\n",
       "      <td>Cruickshank</td>\n",
       "      <td>None</td>\n",
       "      <td>None</td>\n",
       "      <td>None</td>\n",
       "      <td>NaN</td>\n",
       "      <td>b'\\x00'</td>\n",
       "    </tr>\n",
       "  </tbody>\n",
       "</table>\n",
       "</div>"
      ],
      "text/plain": [
       "     id  firstname     lastname          login                        email  \\\n",
       "0     1     Kelsie        Olson           None     xheidenreich@example.net   \n",
       "1     2     Lucile      Rolfson           None         dbartell@example.net   \n",
       "2     3     Ozella        Hauck           None         idickens@example.com   \n",
       "3     4      Emmet       Hammes           None          qcremin@example.org   \n",
       "4     5       Lori         Koch           None        damaris34@example.net   \n",
       "5     6        Sam       Kuphal           None     telly.miller@example.net   \n",
       "6    39  Celestino  Cruickshank           None   flavio.hammes2@example.com   \n",
       "7    93    Gregory      Jenkins           None  weimann.richard@example.com   \n",
       "8    94  Celestino  Cruickshank           None                         None   \n",
       "9    99     Miguel      Watsica  hassan_kuphal    hassan.kuphal@example.org   \n",
       "10  100       Sam2      Kuphal2           None  telly.miller222@example.net   \n",
       "11  106  Celestino  Cruickshank           None                         None   \n",
       "12  118  Celestino  Cruickshank           None                         None   \n",
       "13  130  Celestino  Cruickshank           None                         None   \n",
       "14  142  Celestino  Cruickshank           None                         None   \n",
       "15  154  Celestino  Cruickshank           None                         None   \n",
       "16  166  Celestino  Cruickshank           None                         None   \n",
       "17  178  Celestino  Cruickshank           None                         None   \n",
       "18  190  Celestino  Cruickshank           None                         None   \n",
       "19  202  Celestino  Cruickshank           None                         None   \n",
       "\n",
       "   password_hash         phone is_deleted  \n",
       "0           None  9.548493e+09    b'\\x00'  \n",
       "1           None  9.258387e+09    b'\\x00'  \n",
       "2           None  9.773438e+09    b'\\x00'  \n",
       "3           None  9.694111e+09    b'\\x00'  \n",
       "4           None  9.192291e+09    b'\\x00'  \n",
       "5           None  9.917826e+09    b'\\x00'  \n",
       "6           None  9.686687e+09    b'\\x00'  \n",
       "7           None  9.860971e+09    b'\\x00'  \n",
       "8           None           NaN    b'\\x00'  \n",
       "9           None  9.824696e+09    b'\\x00'  \n",
       "10          None  9.917826e+09    b'\\x00'  \n",
       "11          None           NaN    b'\\x00'  \n",
       "12          None           NaN    b'\\x00'  \n",
       "13          None           NaN    b'\\x00'  \n",
       "14          None           NaN    b'\\x00'  \n",
       "15          None           NaN    b'\\x00'  \n",
       "16          None           NaN    b'\\x00'  \n",
       "17          None           NaN    b'\\x00'  \n",
       "18          None           NaN    b'\\x00'  \n",
       "19          None           NaN    b'\\x00'  "
      ]
     },
     "execution_count": 656,
     "metadata": {},
     "output_type": "execute_result"
    }
   ],
   "source": [
    "pd.DataFrame(rows)"
   ]
  },
  {
   "cell_type": "code",
   "execution_count": 657,
   "metadata": {},
   "outputs": [
    {
     "name": "stdout",
     "output_type": "stream",
     "text": [
      "Succesfully connect\n",
      "####################\n",
      "ALTER TABLE succesfully\n",
      "Succesfully connect\n",
      "####################\n",
      "SELECT * succesfully\n"
     ]
    },
    {
     "data": {
      "text/html": [
       "<div>\n",
       "<style scoped>\n",
       "    .dataframe tbody tr th:only-of-type {\n",
       "        vertical-align: middle;\n",
       "    }\n",
       "\n",
       "    .dataframe tbody tr th {\n",
       "        vertical-align: top;\n",
       "    }\n",
       "\n",
       "    .dataframe thead th {\n",
       "        text-align: right;\n",
       "    }\n",
       "</style>\n",
       "<table border=\"1\" class=\"dataframe\">\n",
       "  <thead>\n",
       "    <tr style=\"text-align: right;\">\n",
       "      <th></th>\n",
       "      <th>id</th>\n",
       "      <th>firstname</th>\n",
       "      <th>lastname</th>\n",
       "      <th>login</th>\n",
       "      <th>email</th>\n",
       "      <th>password_hash</th>\n",
       "      <th>phone</th>\n",
       "      <th>is_deleted</th>\n",
       "      <th>birthday</th>\n",
       "    </tr>\n",
       "  </thead>\n",
       "  <tbody>\n",
       "    <tr>\n",
       "      <th>0</th>\n",
       "      <td>1</td>\n",
       "      <td>Kelsie</td>\n",
       "      <td>Olson</td>\n",
       "      <td>None</td>\n",
       "      <td>xheidenreich@example.net</td>\n",
       "      <td>None</td>\n",
       "      <td>9.548493e+09</td>\n",
       "      <td>b'\\x00'</td>\n",
       "      <td>None</td>\n",
       "    </tr>\n",
       "    <tr>\n",
       "      <th>1</th>\n",
       "      <td>2</td>\n",
       "      <td>Lucile</td>\n",
       "      <td>Rolfson</td>\n",
       "      <td>None</td>\n",
       "      <td>dbartell@example.net</td>\n",
       "      <td>None</td>\n",
       "      <td>9.258387e+09</td>\n",
       "      <td>b'\\x00'</td>\n",
       "      <td>None</td>\n",
       "    </tr>\n",
       "    <tr>\n",
       "      <th>2</th>\n",
       "      <td>3</td>\n",
       "      <td>Ozella</td>\n",
       "      <td>Hauck</td>\n",
       "      <td>None</td>\n",
       "      <td>idickens@example.com</td>\n",
       "      <td>None</td>\n",
       "      <td>9.773438e+09</td>\n",
       "      <td>b'\\x00'</td>\n",
       "      <td>None</td>\n",
       "    </tr>\n",
       "    <tr>\n",
       "      <th>3</th>\n",
       "      <td>4</td>\n",
       "      <td>Emmet</td>\n",
       "      <td>Hammes</td>\n",
       "      <td>None</td>\n",
       "      <td>qcremin@example.org</td>\n",
       "      <td>None</td>\n",
       "      <td>9.694111e+09</td>\n",
       "      <td>b'\\x00'</td>\n",
       "      <td>None</td>\n",
       "    </tr>\n",
       "    <tr>\n",
       "      <th>4</th>\n",
       "      <td>5</td>\n",
       "      <td>Lori</td>\n",
       "      <td>Koch</td>\n",
       "      <td>None</td>\n",
       "      <td>damaris34@example.net</td>\n",
       "      <td>None</td>\n",
       "      <td>9.192291e+09</td>\n",
       "      <td>b'\\x00'</td>\n",
       "      <td>None</td>\n",
       "    </tr>\n",
       "    <tr>\n",
       "      <th>5</th>\n",
       "      <td>6</td>\n",
       "      <td>Sam</td>\n",
       "      <td>Kuphal</td>\n",
       "      <td>None</td>\n",
       "      <td>telly.miller@example.net</td>\n",
       "      <td>None</td>\n",
       "      <td>9.917826e+09</td>\n",
       "      <td>b'\\x00'</td>\n",
       "      <td>None</td>\n",
       "    </tr>\n",
       "    <tr>\n",
       "      <th>6</th>\n",
       "      <td>39</td>\n",
       "      <td>Celestino</td>\n",
       "      <td>Cruickshank</td>\n",
       "      <td>None</td>\n",
       "      <td>flavio.hammes2@example.com</td>\n",
       "      <td>None</td>\n",
       "      <td>9.686687e+09</td>\n",
       "      <td>b'\\x00'</td>\n",
       "      <td>None</td>\n",
       "    </tr>\n",
       "    <tr>\n",
       "      <th>7</th>\n",
       "      <td>93</td>\n",
       "      <td>Gregory</td>\n",
       "      <td>Jenkins</td>\n",
       "      <td>None</td>\n",
       "      <td>weimann.richard@example.com</td>\n",
       "      <td>None</td>\n",
       "      <td>9.860971e+09</td>\n",
       "      <td>b'\\x00'</td>\n",
       "      <td>None</td>\n",
       "    </tr>\n",
       "    <tr>\n",
       "      <th>8</th>\n",
       "      <td>94</td>\n",
       "      <td>Celestino</td>\n",
       "      <td>Cruickshank</td>\n",
       "      <td>None</td>\n",
       "      <td>None</td>\n",
       "      <td>None</td>\n",
       "      <td>NaN</td>\n",
       "      <td>b'\\x00'</td>\n",
       "      <td>None</td>\n",
       "    </tr>\n",
       "    <tr>\n",
       "      <th>9</th>\n",
       "      <td>99</td>\n",
       "      <td>Miguel</td>\n",
       "      <td>Watsica</td>\n",
       "      <td>hassan_kuphal</td>\n",
       "      <td>hassan.kuphal@example.org</td>\n",
       "      <td>None</td>\n",
       "      <td>9.824696e+09</td>\n",
       "      <td>b'\\x00'</td>\n",
       "      <td>None</td>\n",
       "    </tr>\n",
       "    <tr>\n",
       "      <th>10</th>\n",
       "      <td>100</td>\n",
       "      <td>Sam2</td>\n",
       "      <td>Kuphal2</td>\n",
       "      <td>None</td>\n",
       "      <td>telly.miller222@example.net</td>\n",
       "      <td>None</td>\n",
       "      <td>9.917826e+09</td>\n",
       "      <td>b'\\x00'</td>\n",
       "      <td>None</td>\n",
       "    </tr>\n",
       "    <tr>\n",
       "      <th>11</th>\n",
       "      <td>106</td>\n",
       "      <td>Celestino</td>\n",
       "      <td>Cruickshank</td>\n",
       "      <td>None</td>\n",
       "      <td>None</td>\n",
       "      <td>None</td>\n",
       "      <td>NaN</td>\n",
       "      <td>b'\\x00'</td>\n",
       "      <td>None</td>\n",
       "    </tr>\n",
       "    <tr>\n",
       "      <th>12</th>\n",
       "      <td>118</td>\n",
       "      <td>Celestino</td>\n",
       "      <td>Cruickshank</td>\n",
       "      <td>None</td>\n",
       "      <td>None</td>\n",
       "      <td>None</td>\n",
       "      <td>NaN</td>\n",
       "      <td>b'\\x00'</td>\n",
       "      <td>None</td>\n",
       "    </tr>\n",
       "    <tr>\n",
       "      <th>13</th>\n",
       "      <td>130</td>\n",
       "      <td>Celestino</td>\n",
       "      <td>Cruickshank</td>\n",
       "      <td>None</td>\n",
       "      <td>None</td>\n",
       "      <td>None</td>\n",
       "      <td>NaN</td>\n",
       "      <td>b'\\x00'</td>\n",
       "      <td>None</td>\n",
       "    </tr>\n",
       "    <tr>\n",
       "      <th>14</th>\n",
       "      <td>142</td>\n",
       "      <td>Celestino</td>\n",
       "      <td>Cruickshank</td>\n",
       "      <td>None</td>\n",
       "      <td>None</td>\n",
       "      <td>None</td>\n",
       "      <td>NaN</td>\n",
       "      <td>b'\\x00'</td>\n",
       "      <td>None</td>\n",
       "    </tr>\n",
       "    <tr>\n",
       "      <th>15</th>\n",
       "      <td>154</td>\n",
       "      <td>Celestino</td>\n",
       "      <td>Cruickshank</td>\n",
       "      <td>None</td>\n",
       "      <td>None</td>\n",
       "      <td>None</td>\n",
       "      <td>NaN</td>\n",
       "      <td>b'\\x00'</td>\n",
       "      <td>None</td>\n",
       "    </tr>\n",
       "    <tr>\n",
       "      <th>16</th>\n",
       "      <td>166</td>\n",
       "      <td>Celestino</td>\n",
       "      <td>Cruickshank</td>\n",
       "      <td>None</td>\n",
       "      <td>None</td>\n",
       "      <td>None</td>\n",
       "      <td>NaN</td>\n",
       "      <td>b'\\x00'</td>\n",
       "      <td>None</td>\n",
       "    </tr>\n",
       "    <tr>\n",
       "      <th>17</th>\n",
       "      <td>178</td>\n",
       "      <td>Celestino</td>\n",
       "      <td>Cruickshank</td>\n",
       "      <td>None</td>\n",
       "      <td>None</td>\n",
       "      <td>None</td>\n",
       "      <td>NaN</td>\n",
       "      <td>b'\\x00'</td>\n",
       "      <td>None</td>\n",
       "    </tr>\n",
       "    <tr>\n",
       "      <th>18</th>\n",
       "      <td>190</td>\n",
       "      <td>Celestino</td>\n",
       "      <td>Cruickshank</td>\n",
       "      <td>None</td>\n",
       "      <td>None</td>\n",
       "      <td>None</td>\n",
       "      <td>NaN</td>\n",
       "      <td>b'\\x00'</td>\n",
       "      <td>None</td>\n",
       "    </tr>\n",
       "    <tr>\n",
       "      <th>19</th>\n",
       "      <td>202</td>\n",
       "      <td>Celestino</td>\n",
       "      <td>Cruickshank</td>\n",
       "      <td>None</td>\n",
       "      <td>None</td>\n",
       "      <td>None</td>\n",
       "      <td>NaN</td>\n",
       "      <td>b'\\x00'</td>\n",
       "      <td>None</td>\n",
       "    </tr>\n",
       "  </tbody>\n",
       "</table>\n",
       "</div>"
      ],
      "text/plain": [
       "     id  firstname     lastname          login                        email  \\\n",
       "0     1     Kelsie        Olson           None     xheidenreich@example.net   \n",
       "1     2     Lucile      Rolfson           None         dbartell@example.net   \n",
       "2     3     Ozella        Hauck           None         idickens@example.com   \n",
       "3     4      Emmet       Hammes           None          qcremin@example.org   \n",
       "4     5       Lori         Koch           None        damaris34@example.net   \n",
       "5     6        Sam       Kuphal           None     telly.miller@example.net   \n",
       "6    39  Celestino  Cruickshank           None   flavio.hammes2@example.com   \n",
       "7    93    Gregory      Jenkins           None  weimann.richard@example.com   \n",
       "8    94  Celestino  Cruickshank           None                         None   \n",
       "9    99     Miguel      Watsica  hassan_kuphal    hassan.kuphal@example.org   \n",
       "10  100       Sam2      Kuphal2           None  telly.miller222@example.net   \n",
       "11  106  Celestino  Cruickshank           None                         None   \n",
       "12  118  Celestino  Cruickshank           None                         None   \n",
       "13  130  Celestino  Cruickshank           None                         None   \n",
       "14  142  Celestino  Cruickshank           None                         None   \n",
       "15  154  Celestino  Cruickshank           None                         None   \n",
       "16  166  Celestino  Cruickshank           None                         None   \n",
       "17  178  Celestino  Cruickshank           None                         None   \n",
       "18  190  Celestino  Cruickshank           None                         None   \n",
       "19  202  Celestino  Cruickshank           None                         None   \n",
       "\n",
       "   password_hash         phone is_deleted birthday  \n",
       "0           None  9.548493e+09    b'\\x00'     None  \n",
       "1           None  9.258387e+09    b'\\x00'     None  \n",
       "2           None  9.773438e+09    b'\\x00'     None  \n",
       "3           None  9.694111e+09    b'\\x00'     None  \n",
       "4           None  9.192291e+09    b'\\x00'     None  \n",
       "5           None  9.917826e+09    b'\\x00'     None  \n",
       "6           None  9.686687e+09    b'\\x00'     None  \n",
       "7           None  9.860971e+09    b'\\x00'     None  \n",
       "8           None           NaN    b'\\x00'     None  \n",
       "9           None  9.824696e+09    b'\\x00'     None  \n",
       "10          None  9.917826e+09    b'\\x00'     None  \n",
       "11          None           NaN    b'\\x00'     None  \n",
       "12          None           NaN    b'\\x00'     None  \n",
       "13          None           NaN    b'\\x00'     None  \n",
       "14          None           NaN    b'\\x00'     None  \n",
       "15          None           NaN    b'\\x00'     None  \n",
       "16          None           NaN    b'\\x00'     None  \n",
       "17          None           NaN    b'\\x00'     None  \n",
       "18          None           NaN    b'\\x00'     None  \n",
       "19          None           NaN    b'\\x00'     None  "
      ]
     },
     "metadata": {},
     "output_type": "display_data"
    },
    {
     "name": "stdout",
     "output_type": "stream",
     "text": [
      "Succesfully connect\n",
      "####################\n",
      "ALTER TABLE succesfully\n",
      "Succesfully connect\n",
      "####################\n",
      "SELECT * succesfully\n"
     ]
    },
    {
     "data": {
      "text/html": [
       "<div>\n",
       "<style scoped>\n",
       "    .dataframe tbody tr th:only-of-type {\n",
       "        vertical-align: middle;\n",
       "    }\n",
       "\n",
       "    .dataframe tbody tr th {\n",
       "        vertical-align: top;\n",
       "    }\n",
       "\n",
       "    .dataframe thead th {\n",
       "        text-align: right;\n",
       "    }\n",
       "</style>\n",
       "<table border=\"1\" class=\"dataframe\">\n",
       "  <thead>\n",
       "    <tr style=\"text-align: right;\">\n",
       "      <th></th>\n",
       "      <th>id</th>\n",
       "      <th>firstname</th>\n",
       "      <th>lastname</th>\n",
       "      <th>login</th>\n",
       "      <th>email</th>\n",
       "      <th>password_hash</th>\n",
       "      <th>phone</th>\n",
       "      <th>is_deleted</th>\n",
       "    </tr>\n",
       "  </thead>\n",
       "  <tbody>\n",
       "    <tr>\n",
       "      <th>0</th>\n",
       "      <td>1</td>\n",
       "      <td>Kelsie</td>\n",
       "      <td>Olson</td>\n",
       "      <td>None</td>\n",
       "      <td>xheidenreich@example.net</td>\n",
       "      <td>None</td>\n",
       "      <td>9.548493e+09</td>\n",
       "      <td>b'\\x00'</td>\n",
       "    </tr>\n",
       "    <tr>\n",
       "      <th>1</th>\n",
       "      <td>2</td>\n",
       "      <td>Lucile</td>\n",
       "      <td>Rolfson</td>\n",
       "      <td>None</td>\n",
       "      <td>dbartell@example.net</td>\n",
       "      <td>None</td>\n",
       "      <td>9.258387e+09</td>\n",
       "      <td>b'\\x00'</td>\n",
       "    </tr>\n",
       "    <tr>\n",
       "      <th>2</th>\n",
       "      <td>3</td>\n",
       "      <td>Ozella</td>\n",
       "      <td>Hauck</td>\n",
       "      <td>None</td>\n",
       "      <td>idickens@example.com</td>\n",
       "      <td>None</td>\n",
       "      <td>9.773438e+09</td>\n",
       "      <td>b'\\x00'</td>\n",
       "    </tr>\n",
       "    <tr>\n",
       "      <th>3</th>\n",
       "      <td>4</td>\n",
       "      <td>Emmet</td>\n",
       "      <td>Hammes</td>\n",
       "      <td>None</td>\n",
       "      <td>qcremin@example.org</td>\n",
       "      <td>None</td>\n",
       "      <td>9.694111e+09</td>\n",
       "      <td>b'\\x00'</td>\n",
       "    </tr>\n",
       "    <tr>\n",
       "      <th>4</th>\n",
       "      <td>5</td>\n",
       "      <td>Lori</td>\n",
       "      <td>Koch</td>\n",
       "      <td>None</td>\n",
       "      <td>damaris34@example.net</td>\n",
       "      <td>None</td>\n",
       "      <td>9.192291e+09</td>\n",
       "      <td>b'\\x00'</td>\n",
       "    </tr>\n",
       "    <tr>\n",
       "      <th>5</th>\n",
       "      <td>6</td>\n",
       "      <td>Sam</td>\n",
       "      <td>Kuphal</td>\n",
       "      <td>None</td>\n",
       "      <td>telly.miller@example.net</td>\n",
       "      <td>None</td>\n",
       "      <td>9.917826e+09</td>\n",
       "      <td>b'\\x00'</td>\n",
       "    </tr>\n",
       "    <tr>\n",
       "      <th>6</th>\n",
       "      <td>39</td>\n",
       "      <td>Celestino</td>\n",
       "      <td>Cruickshank</td>\n",
       "      <td>None</td>\n",
       "      <td>flavio.hammes2@example.com</td>\n",
       "      <td>None</td>\n",
       "      <td>9.686687e+09</td>\n",
       "      <td>b'\\x00'</td>\n",
       "    </tr>\n",
       "    <tr>\n",
       "      <th>7</th>\n",
       "      <td>93</td>\n",
       "      <td>Gregory</td>\n",
       "      <td>Jenkins</td>\n",
       "      <td>None</td>\n",
       "      <td>weimann.richard@example.com</td>\n",
       "      <td>None</td>\n",
       "      <td>9.860971e+09</td>\n",
       "      <td>b'\\x00'</td>\n",
       "    </tr>\n",
       "    <tr>\n",
       "      <th>8</th>\n",
       "      <td>94</td>\n",
       "      <td>Celestino</td>\n",
       "      <td>Cruickshank</td>\n",
       "      <td>None</td>\n",
       "      <td>None</td>\n",
       "      <td>None</td>\n",
       "      <td>NaN</td>\n",
       "      <td>b'\\x00'</td>\n",
       "    </tr>\n",
       "    <tr>\n",
       "      <th>9</th>\n",
       "      <td>99</td>\n",
       "      <td>Miguel</td>\n",
       "      <td>Watsica</td>\n",
       "      <td>hassan_kuphal</td>\n",
       "      <td>hassan.kuphal@example.org</td>\n",
       "      <td>None</td>\n",
       "      <td>9.824696e+09</td>\n",
       "      <td>b'\\x00'</td>\n",
       "    </tr>\n",
       "    <tr>\n",
       "      <th>10</th>\n",
       "      <td>100</td>\n",
       "      <td>Sam2</td>\n",
       "      <td>Kuphal2</td>\n",
       "      <td>None</td>\n",
       "      <td>telly.miller222@example.net</td>\n",
       "      <td>None</td>\n",
       "      <td>9.917826e+09</td>\n",
       "      <td>b'\\x00'</td>\n",
       "    </tr>\n",
       "    <tr>\n",
       "      <th>11</th>\n",
       "      <td>106</td>\n",
       "      <td>Celestino</td>\n",
       "      <td>Cruickshank</td>\n",
       "      <td>None</td>\n",
       "      <td>None</td>\n",
       "      <td>None</td>\n",
       "      <td>NaN</td>\n",
       "      <td>b'\\x00'</td>\n",
       "    </tr>\n",
       "    <tr>\n",
       "      <th>12</th>\n",
       "      <td>118</td>\n",
       "      <td>Celestino</td>\n",
       "      <td>Cruickshank</td>\n",
       "      <td>None</td>\n",
       "      <td>None</td>\n",
       "      <td>None</td>\n",
       "      <td>NaN</td>\n",
       "      <td>b'\\x00'</td>\n",
       "    </tr>\n",
       "    <tr>\n",
       "      <th>13</th>\n",
       "      <td>130</td>\n",
       "      <td>Celestino</td>\n",
       "      <td>Cruickshank</td>\n",
       "      <td>None</td>\n",
       "      <td>None</td>\n",
       "      <td>None</td>\n",
       "      <td>NaN</td>\n",
       "      <td>b'\\x00'</td>\n",
       "    </tr>\n",
       "    <tr>\n",
       "      <th>14</th>\n",
       "      <td>142</td>\n",
       "      <td>Celestino</td>\n",
       "      <td>Cruickshank</td>\n",
       "      <td>None</td>\n",
       "      <td>None</td>\n",
       "      <td>None</td>\n",
       "      <td>NaN</td>\n",
       "      <td>b'\\x00'</td>\n",
       "    </tr>\n",
       "    <tr>\n",
       "      <th>15</th>\n",
       "      <td>154</td>\n",
       "      <td>Celestino</td>\n",
       "      <td>Cruickshank</td>\n",
       "      <td>None</td>\n",
       "      <td>None</td>\n",
       "      <td>None</td>\n",
       "      <td>NaN</td>\n",
       "      <td>b'\\x00'</td>\n",
       "    </tr>\n",
       "    <tr>\n",
       "      <th>16</th>\n",
       "      <td>166</td>\n",
       "      <td>Celestino</td>\n",
       "      <td>Cruickshank</td>\n",
       "      <td>None</td>\n",
       "      <td>None</td>\n",
       "      <td>None</td>\n",
       "      <td>NaN</td>\n",
       "      <td>b'\\x00'</td>\n",
       "    </tr>\n",
       "    <tr>\n",
       "      <th>17</th>\n",
       "      <td>178</td>\n",
       "      <td>Celestino</td>\n",
       "      <td>Cruickshank</td>\n",
       "      <td>None</td>\n",
       "      <td>None</td>\n",
       "      <td>None</td>\n",
       "      <td>NaN</td>\n",
       "      <td>b'\\x00'</td>\n",
       "    </tr>\n",
       "    <tr>\n",
       "      <th>18</th>\n",
       "      <td>190</td>\n",
       "      <td>Celestino</td>\n",
       "      <td>Cruickshank</td>\n",
       "      <td>None</td>\n",
       "      <td>None</td>\n",
       "      <td>None</td>\n",
       "      <td>NaN</td>\n",
       "      <td>b'\\x00'</td>\n",
       "    </tr>\n",
       "    <tr>\n",
       "      <th>19</th>\n",
       "      <td>202</td>\n",
       "      <td>Celestino</td>\n",
       "      <td>Cruickshank</td>\n",
       "      <td>None</td>\n",
       "      <td>None</td>\n",
       "      <td>None</td>\n",
       "      <td>NaN</td>\n",
       "      <td>b'\\x00'</td>\n",
       "    </tr>\n",
       "  </tbody>\n",
       "</table>\n",
       "</div>"
      ],
      "text/plain": [
       "     id  firstname     lastname          login                        email  \\\n",
       "0     1     Kelsie        Olson           None     xheidenreich@example.net   \n",
       "1     2     Lucile      Rolfson           None         dbartell@example.net   \n",
       "2     3     Ozella        Hauck           None         idickens@example.com   \n",
       "3     4      Emmet       Hammes           None          qcremin@example.org   \n",
       "4     5       Lori         Koch           None        damaris34@example.net   \n",
       "5     6        Sam       Kuphal           None     telly.miller@example.net   \n",
       "6    39  Celestino  Cruickshank           None   flavio.hammes2@example.com   \n",
       "7    93    Gregory      Jenkins           None  weimann.richard@example.com   \n",
       "8    94  Celestino  Cruickshank           None                         None   \n",
       "9    99     Miguel      Watsica  hassan_kuphal    hassan.kuphal@example.org   \n",
       "10  100       Sam2      Kuphal2           None  telly.miller222@example.net   \n",
       "11  106  Celestino  Cruickshank           None                         None   \n",
       "12  118  Celestino  Cruickshank           None                         None   \n",
       "13  130  Celestino  Cruickshank           None                         None   \n",
       "14  142  Celestino  Cruickshank           None                         None   \n",
       "15  154  Celestino  Cruickshank           None                         None   \n",
       "16  166  Celestino  Cruickshank           None                         None   \n",
       "17  178  Celestino  Cruickshank           None                         None   \n",
       "18  190  Celestino  Cruickshank           None                         None   \n",
       "19  202  Celestino  Cruickshank           None                         None   \n",
       "\n",
       "   password_hash         phone is_deleted  \n",
       "0           None  9.548493e+09    b'\\x00'  \n",
       "1           None  9.258387e+09    b'\\x00'  \n",
       "2           None  9.773438e+09    b'\\x00'  \n",
       "3           None  9.694111e+09    b'\\x00'  \n",
       "4           None  9.192291e+09    b'\\x00'  \n",
       "5           None  9.917826e+09    b'\\x00'  \n",
       "6           None  9.686687e+09    b'\\x00'  \n",
       "7           None  9.860971e+09    b'\\x00'  \n",
       "8           None           NaN    b'\\x00'  \n",
       "9           None  9.824696e+09    b'\\x00'  \n",
       "10          None  9.917826e+09    b'\\x00'  \n",
       "11          None           NaN    b'\\x00'  \n",
       "12          None           NaN    b'\\x00'  \n",
       "13          None           NaN    b'\\x00'  \n",
       "14          None           NaN    b'\\x00'  \n",
       "15          None           NaN    b'\\x00'  \n",
       "16          None           NaN    b'\\x00'  \n",
       "17          None           NaN    b'\\x00'  \n",
       "18          None           NaN    b'\\x00'  \n",
       "19          None           NaN    b'\\x00'  "
      ]
     },
     "metadata": {},
     "output_type": "display_data"
    }
   ],
   "source": [
    "push('ALTER TABLE users ADD COLUMN birthday DATETIME')\n",
    "rows = push('SELECT * FROM users').fetchall()\n",
    "display(pd.DataFrame(rows))\n",
    "\n",
    "push('ALTER TABLE users DROP COLUMN birthday')\n",
    "rows = push('SELECT * FROM users').fetchall()\n",
    "display(pd.DataFrame(rows))"
   ]
  },
  {
   "cell_type": "code",
   "execution_count": 658,
   "metadata": {},
   "outputs": [
    {
     "name": "stdout",
     "output_type": "stream",
     "text": [
      "Succesfully connect\n",
      "####################\n",
      "ALTER TABLE succesfully\n",
      "Succesfully connect\n",
      "####################\n",
      "ALTER TABLE succesfully\n"
     ]
    }
   ],
   "source": [
    "# Изменение полей в user_settings\n",
    "add_property_query = \"ALTER TABLE user_settings ADD PRIMARY KEY (user_id)\"\n",
    "push(add_property_query)\n",
    "\n",
    "# modify_column_query = \"ALTER TABLE user_settings MODIFY COLUMN user_id BIGINT UNSIGNED NOT NULL PRIMATY KEY\"\n",
    "# push(modify_column_query)\n",
    "\n",
    "rename_column_query = \"ALTER TABLE user_settings RENAME COLUMN LANGUAGE to app_language\"\n",
    "push(rename_column_query)"
   ]
  },
  {
   "cell_type": "code",
   "execution_count": null,
   "metadata": {},
   "outputs": [
    {
     "name": "stdout",
     "output_type": "stream",
     "text": [
      "Succesfully connect\n",
      "####################\n",
      "DROP TABLE succesfully\n",
      "Succesfully connect\n",
      "####################\n",
      "CREATE TABLE succesfully\n"
     ]
    }
   ],
   "source": [
    "# Создание таблицы private_messages\n",
    "\n",
    "push('DROP TABLE IF EXISTS private_messages;')\n",
    "\n",
    "# 1 x M\n",
    "create_table_query = \"\"\"\n",
    "CREATE TABLE private_messages(\n",
    "    id SERIAL,\n",
    "    sender_id BIGINT UNSIGNED NOT NULL,\n",
    "    receiver_id BIGINT UNSIGNED NOT NULL,\n",
    "    reply_to_id BIGINT UNSIGNED NULL,\n",
    "    media_type ENUM('text', 'image', 'audio', 'video'),\n",
    "    body TEXT,\n",
    "    filename VARCHAR(200),\n",
    "    created_at DATETIME DEFAULT NOW(),\n",
    "\n",
    "    FOREIGN KEY (sender_id) REFERENCES users(id),\n",
    "    FOREIGN KEY (receiver_id) REFERENCES users(id),\n",
    "    FOREIGN KEY (reply_to_id) REFERENCES private_messages(id)\n",
    ");\n",
    "\"\"\"\n",
    "push(create_table_query)"
   ]
  },
  {
   "cell_type": "code",
   "execution_count": 660,
   "metadata": {},
   "outputs": [
    {
     "name": "stdout",
     "output_type": "stream",
     "text": [
      "Succesfully connect\n",
      "####################\n",
      "Connection refused...\n",
      "(3730, \"Cannot drop table 'groups' referenced by a foreign key constraint 'group_messages_ibfk_2' on table 'group_messages'.\")\n",
      "Succesfully connect\n",
      "####################\n",
      "Connection refused...\n",
      "(1050, \"Table 'groups' already exists\")\n"
     ]
    }
   ],
   "source": [
    "# Создание таблицы groups\n",
    "\n",
    "push('DROP TABLE IF EXISTS `groups`;')\n",
    "\n",
    "create_table_query = \"\"\"\n",
    "CREATE TABLE `groups` (\n",
    "    id SERIAL,\n",
    "    title VARCHAR(45),\n",
    "    icon VARCHAR(45),\n",
    "    invite_link VARCHAR(100),\n",
    "    settings JSON,\n",
    "    owner_user_id BIGINT UNSIGNED NOT NULL,\n",
    "    is_private BIT,\n",
    "    created_at DATETIME DEFAULT NOW(),\n",
    "\n",
    "    FOREIGN KEY (owner_user_id) REFERENCES users (id)\n",
    ");\n",
    "\"\"\"\n",
    "\n",
    "push(create_table_query)"
   ]
  },
  {
   "cell_type": "code",
   "execution_count": 661,
   "metadata": {},
   "outputs": [
    {
     "name": "stdout",
     "output_type": "stream",
     "text": [
      "Succesfully connect\n",
      "####################\n",
      "DROP TABLE succesfully\n",
      "Succesfully connect\n",
      "####################\n",
      "CREATE TABLE succesfully\n"
     ]
    }
   ],
   "source": [
    "# Создание таблицы group_messages\n",
    "\n",
    "push('DROP TABLE IF EXISTS `group_messages`;')\n",
    "\n",
    "create_table_query = \"\"\"\n",
    "CREATE TABLE `group_messages` (\n",
    "    id SERIAL,\n",
    "    group_id BIGINT UNSIGNED NOT NULL,\n",
    "    sender_id BIGINT UNSIGNED NOT NULL,\n",
    "    reply_to_id BIGINT UNSIGNED NULL,\n",
    "    media_type ENUM('text', 'image', 'audio', 'video'),\n",
    "    body TEXT,\n",
    "    filename VARCHAR(100) NULL,\n",
    "    created_at DATETIME DEFAULT NOW(),\n",
    "\n",
    "    FOREIGN KEY (sender_id) REFERENCES users (id),\n",
    "    FOREIGN KEY (group_id) REFERENCES `groups` (id),\n",
    "    FOREIGN KEY (reply_to_id) REFERENCES group_messages (id)\n",
    ");\n",
    "\"\"\"\n",
    "push(create_table_query)"
   ]
  },
  {
   "cell_type": "code",
   "execution_count": 662,
   "metadata": {},
   "outputs": [
    {
     "name": "stdout",
     "output_type": "stream",
     "text": [
      "Succesfully connect\n",
      "####################\n",
      "Connection refused...\n",
      "(3730, \"Cannot drop table 'channels' referenced by a foreign key constraint 'channel_subscribers_ibfk_2' on table 'channel_subscribers'.\")\n",
      "Succesfully connect\n",
      "####################\n",
      "Connection refused...\n",
      "(1050, \"Table 'channels' already exists\")\n"
     ]
    }
   ],
   "source": [
    "# Создание таблицы channels\n",
    "\n",
    "push('DROP TABLE IF EXISTS `channels`;')\n",
    "\n",
    "create_table_query = \"\"\"\n",
    "CREATE TABLE channels (\n",
    "    id SERIAL,\n",
    "    title VARCHAR(45),\n",
    "    icon VARCHAR(45),\n",
    "    invite_link VARCHAR(100),\n",
    "    settings JSON,\n",
    "    owner_user_id BIGINT UNSIGNED NOT NULL,\n",
    "    is_private BIT,\n",
    "    created_at DATETIME DEFAULT NOW(),\n",
    "    \n",
    "    FOREIGN KEY (owner_user_id) REFERENCES users (id)    \n",
    ");\n",
    "\"\"\"\n",
    "push(create_table_query)"
   ]
  },
  {
   "cell_type": "code",
   "execution_count": 663,
   "metadata": {},
   "outputs": [
    {
     "name": "stdout",
     "output_type": "stream",
     "text": [
      "Succesfully connect\n",
      "####################\n",
      "DROP TABLE succesfully\n",
      "Succesfully connect\n",
      "####################\n",
      "CREATE TABLE succesfully\n"
     ]
    }
   ],
   "source": [
    "# Создание таблицы group_messages\n",
    "\n",
    "push('DROP TABLE IF EXISTS `channel_subscribers`;')\n",
    "\n",
    "# M x M\n",
    "create_table_query = \"\"\"\n",
    "CREATE TABLE channel_subscribers (\n",
    "    channel_id BIGINT UNSIGNED NOT NULL,\n",
    "    user_id BIGINT UNSIGNED NOT NULL,\n",
    "    status ENUM('requested', 'joined', 'left'),\n",
    "    created_at DATETIME DEFAULT NOW(),\n",
    "    updated_at DATETIME ON UPDATE CURRENT_TIMESTAMP,\n",
    "\n",
    "    PRIMARY KEY (user_id, channel_id),\n",
    "    FOREIGN KEY (user_id) REFERENCES users (id),\n",
    "    FOREIGN KEY (channel_id) REFERENCES channels (id)\n",
    ");\n",
    "\"\"\"\n",
    "push(create_table_query)"
   ]
  },
  {
   "cell_type": "code",
   "execution_count": 664,
   "metadata": {},
   "outputs": [
    {
     "name": "stdout",
     "output_type": "stream",
     "text": [
      "Succesfully connect\n",
      "####################\n",
      "Connection refused...\n",
      "(3730, \"Cannot drop table 'stories' referenced by a foreign key constraint 'stories_likes_ibfk_2' on table 'stories_likes'.\")\n",
      "Succesfully connect\n",
      "####################\n",
      "Connection refused...\n",
      "(1050, \"Table 'stories' already exists\")\n"
     ]
    }
   ],
   "source": [
    "# Создание таблицы group_messages\n",
    "\n",
    "push('DROP TABLE IF EXISTS stories;')\n",
    "\n",
    "create_table_query = \"\"\"\n",
    "CREATE TABLE stories (\n",
    "    id SERIAL,\n",
    "    user_id BIGINT UNSIGNED NOT NULL,\n",
    "    caption VARCHAR(140),\n",
    "    filename VARCHAR(100),\n",
    "    views_count INT UNSIGNED,\n",
    "    created_at DATETIME DEFAULT NOW(),\n",
    "\n",
    "    FOREIGN KEY (user_id) REFERENCES users (id)\n",
    ");\n",
    "\"\"\"\n",
    "push(create_table_query)"
   ]
  },
  {
   "cell_type": "code",
   "execution_count": 665,
   "metadata": {},
   "outputs": [
    {
     "name": "stdout",
     "output_type": "stream",
     "text": [
      "Succesfully connect\n",
      "####################\n",
      "DROP TABLE succesfully\n",
      "Succesfully connect\n",
      "####################\n",
      "CREATE TABLE succesfully\n"
     ]
    }
   ],
   "source": [
    "# Создание таблицы group_messages\n",
    "\n",
    "push('DROP TABLE IF EXISTS stories_likes;')\n",
    "\n",
    "create_table_query = \"\"\"\n",
    "CREATE TABLE stories_likes (\n",
    "\tid SERIAL,\n",
    "\tstory_id BIGINT UNSIGNED NOT NULL,\n",
    "\tuser_id BIGINT UNSIGNED NOT NULL,\n",
    "\tcreated_at DATETIME DEFAULT NOW(),\n",
    "\n",
    "\tFOREIGN KEY (user_id) REFERENCES users (id),\t\t\n",
    "\tFOREIGN KEY (story_id) REFERENCES stories (id)\n",
    ");\"\"\"\n",
    "\n",
    "push(create_table_query)"
   ]
  },
  {
   "cell_type": "code",
   "execution_count": 666,
   "metadata": {},
   "outputs": [],
   "source": [
    "# В связи с активным развитием проекта принято архитектурное решение вынести информацию о языках приложения \n",
    "# из поля app_language в таблице user_settings в отдельную таблицу-справочник языков.\n",
    "\n",
    "# Архитектор обосновывает решение тем, что при добавлении нового языка в платформу проще добавить новую строку в таблицу, \n",
    "# чем изменять существующее поле в таблице."
   ]
  },
  {
   "cell_type": "code",
   "execution_count": 667,
   "metadata": {},
   "outputs": [
    {
     "name": "stdout",
     "output_type": "stream",
     "text": [
      "Succesfully connect\n",
      "####################\n",
      "DROP TABLE succesfully\n",
      "Succesfully connect\n",
      "####################\n",
      "CREATE TABLE succesfully\n"
     ]
    }
   ],
   "source": [
    "# Сначала создадим таблицу languages.\n",
    "\n",
    "# Поля:\n",
    "# id - целочисленный первичный ключ (для простоты договоримся использовать псевдотип SERIAL)\n",
    "# name - строка, название языка (содержит только уникальные значения, не может быть пустым)\n",
    "\n",
    "push('DROP TABLE IF EXISTS languages;')\n",
    "\n",
    "create_table_query = \"\"\"\n",
    "CREATE TABLE languages (\n",
    "    id SERIAL,\n",
    "    name VARCHAR(100) NOT NULL UNIQUE\n",
    ");\n",
    "\"\"\"\n",
    "\n",
    "push(create_table_query)"
   ]
  },
  {
   "cell_type": "code",
   "execution_count": 668,
   "metadata": {},
   "outputs": [
    {
     "name": "stdout",
     "output_type": "stream",
     "text": [
      "Succesfully connect\n",
      "####################\n",
      "ALTER TABLE succesfully\n"
     ]
    }
   ],
   "source": [
    "# Теперь добавим новое поле language_id в таблицу user_settings.\n",
    "# Тип данных нового поля должен строго совпадать с полем id в таблице languages.\n",
    "\n",
    "add_column_query = \"\"\"\n",
    "ALTER TABLE user_settings \n",
    "ADD COLUMN language_id BIGINT UNSIGNED;\n",
    "\"\"\"\n",
    "\n",
    "push(add_column_query)"
   ]
  },
  {
   "cell_type": "code",
   "execution_count": 669,
   "metadata": {},
   "outputs": [
    {
     "name": "stdout",
     "output_type": "stream",
     "text": [
      "Succesfully connect\n",
      "####################\n",
      "ALTER TABLE succesfully\n"
     ]
    }
   ],
   "source": [
    "# Теперь необходимо сделать поле language_id в таблице user_settings внешним ключом, \n",
    "# ссылающимся на идентификатор строки в таблице languages.\n",
    "\n",
    "add_foreign_key_query = \"\"\"\n",
    "ALTER TABLE user_settings\n",
    "ADD CONSTRAINT fk_language_id_id\n",
    "FOREIGN KEY (language_id) REFERENCES languages(id)\n",
    "ON DELETE CASCADE\n",
    "ON UPDATE CASCADE;\n",
    "\"\"\"\n",
    "\n",
    "push(add_foreign_key_query)"
   ]
  },
  {
   "cell_type": "code",
   "execution_count": 670,
   "metadata": {},
   "outputs": [
    {
     "name": "stdout",
     "output_type": "stream",
     "text": [
      "Succesfully connect\n",
      "####################\n",
      "ALTER TABLE succesfully\n"
     ]
    }
   ],
   "source": [
    "# Другие люди заполнили таблицу languages нужными данными и проставили правильные значения в поле language_id.\n",
    "# Осталось удалить поле app_language из таблицы user_settings, потому что теперь оно лишь дублирует новый функционал.\n",
    "\n",
    "drop_column_query = \"\"\"\n",
    "ALTER TABLE user_settings\n",
    "DROP COLUMN app_language;\n",
    "\"\"\"\n",
    "\n",
    "push(drop_column_query)"
   ]
  },
  {
   "cell_type": "markdown",
   "metadata": {},
   "source": [
    "# 3. Работа с данными (команды DML, CRUD)"
   ]
  },
  {
   "cell_type": "markdown",
   "metadata": {},
   "source": [
    "## 3.1  Команда INSERT"
   ]
  },
  {
   "cell_type": "code",
   "execution_count": 671,
   "metadata": {},
   "outputs": [
    {
     "name": "stdout",
     "output_type": "stream",
     "text": [
      "Succesfully connect\n",
      "####################\n",
      "Connection refused...\n",
      "(1701, 'Cannot truncate a table referenced in a foreign key constraint (`stepik`.`groups`, CONSTRAINT `groups_ibfk_1`)')\n"
     ]
    }
   ],
   "source": [
    "# Очистка таблицы (пересоздаем)\n",
    "\n",
    "truncate_query = 'TRUNCATE users'\n",
    "push(truncate_query)"
   ]
  },
  {
   "cell_type": "code",
   "execution_count": 672,
   "metadata": {},
   "outputs": [
    {
     "name": "stdout",
     "output_type": "stream",
     "text": [
      "Succesfully connect\n",
      "####################\n",
      "Connection refused...\n",
      "(1062, \"Duplicate entry '1' for key 'users.PRIMARY'\")\n"
     ]
    }
   ],
   "source": [
    "# базовый вариант команды INSERT\n",
    "\n",
    "insert_query = \"\"\"\n",
    "INSERT INTO users (id, firstname, lastname, email, phone)\n",
    "VALUES ('1', 'Kelsie', 'Olson', 'xheidenreich@example.net', '9548492646');\"\"\"\n",
    "\n",
    "push(insert_query)"
   ]
  },
  {
   "cell_type": "code",
   "execution_count": 673,
   "metadata": {},
   "outputs": [
    {
     "name": "stdout",
     "output_type": "stream",
     "text": [
      "Succesfully connect\n",
      "####################\n",
      "Connection refused...\n",
      "(1062, \"Duplicate entry 'flavio.hammes2@example.com' for key 'users.email'\")\n"
     ]
    }
   ],
   "source": [
    "# можно не указывать автоинкрементное (AUTO_INCREMENT) поле\n",
    "insert_query = \"\"\"\n",
    "INSERT INTO users (firstname, lastname, email, phone)\n",
    "VALUES ('Celestino', 'Cruickshank', 'flavio.hammes2@example.com', '9686686722');\"\"\"\n",
    "\n",
    "push(insert_query)"
   ]
  },
  {
   "cell_type": "code",
   "execution_count": 674,
   "metadata": {},
   "outputs": [
    {
     "name": "stdout",
     "output_type": "stream",
     "text": [
      "Succesfully connect\n",
      "####################\n",
      "Connection refused...\n",
      "(1062, \"Duplicate entry '93' for key 'users.PRIMARY'\")\n"
     ]
    }
   ],
   "source": [
    "# идентификаторы можно добавлять не по порядку\n",
    "insert_query = \"\"\"\n",
    "INSERT INTO users (id, firstname, lastname, email, phone)\n",
    "VALUES ('93', 'Gregory', 'Jenkins', 'weimann.richard@example.com', '9860971258');\"\"\"\n",
    "\n",
    "push(insert_query)"
   ]
  },
  {
   "cell_type": "code",
   "execution_count": 675,
   "metadata": {},
   "outputs": [
    {
     "name": "stdout",
     "output_type": "stream",
     "text": [
      "Succesfully connect\n",
      "####################\n",
      "Connection refused...\n",
      "(1060, \"Duplicate column name 'is_deleted'\")\n"
     ]
    }
   ],
   "source": [
    "# добавим колонку is_deleted\n",
    "add_column_query = \"ALTER TABLE users ADD COLUMN is_deleted BIT DEFAULT 0;\"\n",
    "\n",
    "push(add_column_query)"
   ]
  },
  {
   "cell_type": "code",
   "execution_count": 676,
   "metadata": {},
   "outputs": [
    {
     "name": "stdout",
     "output_type": "stream",
     "text": [
      "Succesfully connect\n",
      "####################\n",
      "INSERT INTO succesfully\n"
     ]
    }
   ],
   "source": [
    "# значение по умолчанию для поля is_deleted\n",
    "insert_query = \"\"\"\n",
    "INSERT INTO users (firstname, lastname, is_deleted)\n",
    "VALUES ('Celestino', 'Cruickshank', DEFAULT);\"\"\"\n",
    "\n",
    "push(insert_query)"
   ]
  },
  {
   "cell_type": "code",
   "execution_count": 677,
   "metadata": {},
   "outputs": [
    {
     "name": "stdout",
     "output_type": "stream",
     "text": [
      "Succesfully connect\n",
      "####################\n",
      "Connection refused...\n",
      "(1136, \"Column count doesn't match value count at row 1\")\n"
     ]
    }
   ],
   "source": [
    "# не указываем имена полей - рабочий вариант\n",
    "insert_query = \"\"\"\n",
    "INSERT INTO users\n",
    "VALUES (101, 'Eleonore', 'Ward', NULL, 'antonietta333@example.com',DEFAULT, 9397815333, '2000.01.01', 0);\"\"\"\n",
    "\n",
    "push(insert_query)"
   ]
  },
  {
   "cell_type": "code",
   "execution_count": 678,
   "metadata": {},
   "outputs": [
    {
     "name": "stdout",
     "output_type": "stream",
     "text": [
      "Succesfully connect\n",
      "####################\n",
      "Connection refused...\n",
      "(1062, \"Duplicate entry 'idickens@example.com' for key 'users.email'\")\n"
     ]
    }
   ],
   "source": [
    "# пакетная вставка данных - работает быстро (одиночная вставка данных - работает медленно)\n",
    "insert_query = \"\"\"\n",
    "INSERT INTO users (firstname, lastname, email, phone) VALUES\n",
    "('Ozella', 'Hauck', 'idickens@example.com', '9773438197'),\n",
    "('Emmet', 'Hammes', 'qcremin@example.org', '9694110645'),\n",
    "('Lori', 'Koch', 'damaris34@example.net', '9192291407'),\n",
    "('Sam', 'Kuphal', 'telly.miller@example.net', '9917826315');\"\"\"\n",
    "\n",
    "push(insert_query)"
   ]
  },
  {
   "cell_type": "code",
   "execution_count": 679,
   "metadata": {},
   "outputs": [
    {
     "name": "stdout",
     "output_type": "stream",
     "text": [
      "Succesfully connect\n",
      "####################\n",
      "Connection refused...\n",
      "(1062, \"Duplicate entry 'hassan.kuphal@example.org' for key 'users.email'\")\n"
     ]
    }
   ],
   "source": [
    "# второй вариант команды INSERT (можно вставить только 1 строку)\n",
    "insert_query = \"\"\"\n",
    "INSERT INTO users\n",
    "SET\n",
    "    firstname = 'Miguel',\n",
    "    lastname = 'Watsica',\n",
    "    email = 'hassan.kuphal@example.org',\n",
    "    login = 'hassan_kuphal',\n",
    "    phone = '9824696112'\n",
    ";\"\"\"\n",
    "\n",
    "push(insert_query)"
   ]
  },
  {
   "cell_type": "code",
   "execution_count": 680,
   "metadata": {},
   "outputs": [
    {
     "name": "stdout",
     "output_type": "stream",
     "text": [
      "Succesfully connect\n",
      "####################\n",
      "Connection refused...\n",
      "(1062, \"Duplicate entry 'telly.miller222@example.net' for key 'users.email'\")\n"
     ]
    }
   ],
   "source": [
    "# INSERT-SELECT\n",
    "insert_query = \"\"\"\n",
    "INSERT INTO users\n",
    "    (firstname, lastname, email, phone)\n",
    "SELECT\n",
    "    'Sam2', 'Kuphal2', 'telly.miller222@example.net', '9917826222';\"\"\"\n",
    "\n",
    "push(insert_query)"
   ]
  },
  {
   "cell_type": "code",
   "execution_count": 681,
   "metadata": {},
   "outputs": [
    {
     "name": "stdout",
     "output_type": "stream",
     "text": [
      "Succesfully connect\n",
      "####################\n",
      "INSERT INTO succesfully\n"
     ]
    }
   ],
   "source": [
    "# опция ON DUPLICATE KEY UPDATE позволяет выполнить обновление\n",
    "insert_query = \"\"\"\n",
    "INSERT INTO users (id, firstname, lastname, email, phone)\n",
    "VALUES (2, 'Lucile', 'Rolfson', 'dbartell@example.net', 9258387168)\n",
    "ON DUPLICATE KEY UPDATE\n",
    "    firstname = 'Lucile',\n",
    "    lastname = 'Rolfson',\n",
    "    email = 'dbartell@example.net',\n",
    "    phone = 9258387168\n",
    ";\"\"\"\n",
    "\n",
    "push(insert_query)"
   ]
  },
  {
   "cell_type": "markdown",
   "metadata": {},
   "source": [
    "## 3.2 Команда SELECT"
   ]
  },
  {
   "cell_type": "code",
   "execution_count": 682,
   "metadata": {},
   "outputs": [
    {
     "name": "stdout",
     "output_type": "stream",
     "text": [
      "Succesfully connect\n",
      "####################\n",
      "SELECT 'Hello succesfully\n"
     ]
    },
    {
     "data": {
      "text/plain": [
       "<pymysql.cursors.DictCursor at 0x25d8b745880>"
      ]
     },
     "execution_count": 682,
     "metadata": {},
     "output_type": "execute_result"
    }
   ],
   "source": [
    "# Вывод текста:\n",
    "select_query = \"SELECT 'Hello world';\"\n",
    "\n",
    "push(select_query)"
   ]
  },
  {
   "cell_type": "code",
   "execution_count": 683,
   "metadata": {},
   "outputs": [
    {
     "name": "stdout",
     "output_type": "stream",
     "text": [
      "Succesfully connect\n",
      "####################\n",
      "SELECT * succesfully\n"
     ]
    },
    {
     "data": {
      "text/html": [
       "<div>\n",
       "<style scoped>\n",
       "    .dataframe tbody tr th:only-of-type {\n",
       "        vertical-align: middle;\n",
       "    }\n",
       "\n",
       "    .dataframe tbody tr th {\n",
       "        vertical-align: top;\n",
       "    }\n",
       "\n",
       "    .dataframe thead th {\n",
       "        text-align: right;\n",
       "    }\n",
       "</style>\n",
       "<table border=\"1\" class=\"dataframe\">\n",
       "  <thead>\n",
       "    <tr style=\"text-align: right;\">\n",
       "      <th></th>\n",
       "      <th>id</th>\n",
       "      <th>firstname</th>\n",
       "      <th>lastname</th>\n",
       "      <th>login</th>\n",
       "      <th>email</th>\n",
       "      <th>password_hash</th>\n",
       "      <th>phone</th>\n",
       "      <th>is_deleted</th>\n",
       "    </tr>\n",
       "  </thead>\n",
       "  <tbody>\n",
       "    <tr>\n",
       "      <th>0</th>\n",
       "      <td>1</td>\n",
       "      <td>Kelsie</td>\n",
       "      <td>Olson</td>\n",
       "      <td>None</td>\n",
       "      <td>xheidenreich@example.net</td>\n",
       "      <td>None</td>\n",
       "      <td>9.548493e+09</td>\n",
       "      <td>b'\\x00'</td>\n",
       "    </tr>\n",
       "    <tr>\n",
       "      <th>1</th>\n",
       "      <td>2</td>\n",
       "      <td>Lucile</td>\n",
       "      <td>Rolfson</td>\n",
       "      <td>None</td>\n",
       "      <td>dbartell@example.net</td>\n",
       "      <td>None</td>\n",
       "      <td>9.258387e+09</td>\n",
       "      <td>b'\\x00'</td>\n",
       "    </tr>\n",
       "    <tr>\n",
       "      <th>2</th>\n",
       "      <td>3</td>\n",
       "      <td>Ozella</td>\n",
       "      <td>Hauck</td>\n",
       "      <td>None</td>\n",
       "      <td>idickens@example.com</td>\n",
       "      <td>None</td>\n",
       "      <td>9.773438e+09</td>\n",
       "      <td>b'\\x00'</td>\n",
       "    </tr>\n",
       "    <tr>\n",
       "      <th>3</th>\n",
       "      <td>4</td>\n",
       "      <td>Emmet</td>\n",
       "      <td>Hammes</td>\n",
       "      <td>None</td>\n",
       "      <td>qcremin@example.org</td>\n",
       "      <td>None</td>\n",
       "      <td>9.694111e+09</td>\n",
       "      <td>b'\\x00'</td>\n",
       "    </tr>\n",
       "    <tr>\n",
       "      <th>4</th>\n",
       "      <td>5</td>\n",
       "      <td>Lori</td>\n",
       "      <td>Koch</td>\n",
       "      <td>None</td>\n",
       "      <td>damaris34@example.net</td>\n",
       "      <td>None</td>\n",
       "      <td>9.192291e+09</td>\n",
       "      <td>b'\\x00'</td>\n",
       "    </tr>\n",
       "  </tbody>\n",
       "</table>\n",
       "</div>"
      ],
      "text/plain": [
       "   id firstname lastname login                     email password_hash  \\\n",
       "0   1    Kelsie    Olson  None  xheidenreich@example.net          None   \n",
       "1   2    Lucile  Rolfson  None      dbartell@example.net          None   \n",
       "2   3    Ozella    Hauck  None      idickens@example.com          None   \n",
       "3   4     Emmet   Hammes  None       qcremin@example.org          None   \n",
       "4   5      Lori     Koch  None     damaris34@example.net          None   \n",
       "\n",
       "          phone is_deleted  \n",
       "0  9.548493e+09    b'\\x00'  \n",
       "1  9.258387e+09    b'\\x00'  \n",
       "2  9.773438e+09    b'\\x00'  \n",
       "3  9.694111e+09    b'\\x00'  \n",
       "4  9.192291e+09    b'\\x00'  "
      ]
     },
     "execution_count": 683,
     "metadata": {},
     "output_type": "execute_result"
    }
   ],
   "source": [
    "# вывести всю таблицу users (все поля, все строки):\n",
    "select_query = \"\"\"\n",
    "SELECT *\n",
    "FROM users;\"\"\"\n",
    "\n",
    "pd.DataFrame(push(select_query)).head(5)"
   ]
  },
  {
   "cell_type": "code",
   "execution_count": 684,
   "metadata": {},
   "outputs": [
    {
     "name": "stdout",
     "output_type": "stream",
     "text": [
      "Succesfully connect\n",
      "####################\n",
      "SELECT id, succesfully\n"
     ]
    },
    {
     "data": {
      "text/html": [
       "<div>\n",
       "<style scoped>\n",
       "    .dataframe tbody tr th:only-of-type {\n",
       "        vertical-align: middle;\n",
       "    }\n",
       "\n",
       "    .dataframe tbody tr th {\n",
       "        vertical-align: top;\n",
       "    }\n",
       "\n",
       "    .dataframe thead th {\n",
       "        text-align: right;\n",
       "    }\n",
       "</style>\n",
       "<table border=\"1\" class=\"dataframe\">\n",
       "  <thead>\n",
       "    <tr style=\"text-align: right;\">\n",
       "      <th></th>\n",
       "      <th>id</th>\n",
       "      <th>firstname</th>\n",
       "      <th>lastname</th>\n",
       "      <th>login</th>\n",
       "      <th>email</th>\n",
       "      <th>password_hash</th>\n",
       "      <th>phone</th>\n",
       "      <th>is_deleted</th>\n",
       "    </tr>\n",
       "  </thead>\n",
       "  <tbody>\n",
       "    <tr>\n",
       "      <th>0</th>\n",
       "      <td>1</td>\n",
       "      <td>Kelsie</td>\n",
       "      <td>Olson</td>\n",
       "      <td>None</td>\n",
       "      <td>xheidenreich@example.net</td>\n",
       "      <td>None</td>\n",
       "      <td>9.548493e+09</td>\n",
       "      <td>b'\\x00'</td>\n",
       "    </tr>\n",
       "    <tr>\n",
       "      <th>1</th>\n",
       "      <td>2</td>\n",
       "      <td>Lucile</td>\n",
       "      <td>Rolfson</td>\n",
       "      <td>None</td>\n",
       "      <td>dbartell@example.net</td>\n",
       "      <td>None</td>\n",
       "      <td>9.258387e+09</td>\n",
       "      <td>b'\\x00'</td>\n",
       "    </tr>\n",
       "    <tr>\n",
       "      <th>2</th>\n",
       "      <td>3</td>\n",
       "      <td>Ozella</td>\n",
       "      <td>Hauck</td>\n",
       "      <td>None</td>\n",
       "      <td>idickens@example.com</td>\n",
       "      <td>None</td>\n",
       "      <td>9.773438e+09</td>\n",
       "      <td>b'\\x00'</td>\n",
       "    </tr>\n",
       "    <tr>\n",
       "      <th>3</th>\n",
       "      <td>4</td>\n",
       "      <td>Emmet</td>\n",
       "      <td>Hammes</td>\n",
       "      <td>None</td>\n",
       "      <td>qcremin@example.org</td>\n",
       "      <td>None</td>\n",
       "      <td>9.694111e+09</td>\n",
       "      <td>b'\\x00'</td>\n",
       "    </tr>\n",
       "    <tr>\n",
       "      <th>4</th>\n",
       "      <td>5</td>\n",
       "      <td>Lori</td>\n",
       "      <td>Koch</td>\n",
       "      <td>None</td>\n",
       "      <td>damaris34@example.net</td>\n",
       "      <td>None</td>\n",
       "      <td>9.192291e+09</td>\n",
       "      <td>b'\\x00'</td>\n",
       "    </tr>\n",
       "  </tbody>\n",
       "</table>\n",
       "</div>"
      ],
      "text/plain": [
       "   id firstname lastname login                     email password_hash  \\\n",
       "0   1    Kelsie    Olson  None  xheidenreich@example.net          None   \n",
       "1   2    Lucile  Rolfson  None      dbartell@example.net          None   \n",
       "2   3    Ozella    Hauck  None      idickens@example.com          None   \n",
       "3   4     Emmet   Hammes  None       qcremin@example.org          None   \n",
       "4   5      Lori     Koch  None     damaris34@example.net          None   \n",
       "\n",
       "          phone is_deleted  \n",
       "0  9.548493e+09    b'\\x00'  \n",
       "1  9.258387e+09    b'\\x00'  \n",
       "2  9.773438e+09    b'\\x00'  \n",
       "3  9.694111e+09    b'\\x00'  \n",
       "4  9.192291e+09    b'\\x00'  "
      ]
     },
     "execution_count": 684,
     "metadata": {},
     "output_type": "execute_result"
    }
   ],
   "source": [
    "# явно указываем поля, которые необходимо вывести:\n",
    "select_query = \"\"\"\n",
    "SELECT id, firstname , lastname , login , email , password_hash , phone, is_deleted\n",
    "FROM users;\"\"\"\n",
    "\n",
    "pd.DataFrame(push(select_query)).head(5)"
   ]
  },
  {
   "cell_type": "code",
   "execution_count": 685,
   "metadata": {},
   "outputs": [
    {
     "name": "stdout",
     "output_type": "stream",
     "text": [
      "Succesfully connect\n",
      "####################\n",
      "SELECT * succesfully\n"
     ]
    },
    {
     "data": {
      "text/html": [
       "<div>\n",
       "<style scoped>\n",
       "    .dataframe tbody tr th:only-of-type {\n",
       "        vertical-align: middle;\n",
       "    }\n",
       "\n",
       "    .dataframe tbody tr th {\n",
       "        vertical-align: top;\n",
       "    }\n",
       "\n",
       "    .dataframe thead th {\n",
       "        text-align: right;\n",
       "    }\n",
       "</style>\n",
       "<table border=\"1\" class=\"dataframe\">\n",
       "  <thead>\n",
       "    <tr style=\"text-align: right;\">\n",
       "      <th></th>\n",
       "      <th>id</th>\n",
       "      <th>firstname</th>\n",
       "      <th>lastname</th>\n",
       "      <th>login</th>\n",
       "      <th>email</th>\n",
       "      <th>password_hash</th>\n",
       "      <th>phone</th>\n",
       "      <th>is_deleted</th>\n",
       "    </tr>\n",
       "  </thead>\n",
       "  <tbody>\n",
       "    <tr>\n",
       "      <th>0</th>\n",
       "      <td>3</td>\n",
       "      <td>Ozella</td>\n",
       "      <td>Hauck</td>\n",
       "      <td>None</td>\n",
       "      <td>idickens@example.com</td>\n",
       "      <td>None</td>\n",
       "      <td>9773438197</td>\n",
       "      <td>b'\\x00'</td>\n",
       "    </tr>\n",
       "    <tr>\n",
       "      <th>1</th>\n",
       "      <td>2</td>\n",
       "      <td>Lucile</td>\n",
       "      <td>Rolfson</td>\n",
       "      <td>None</td>\n",
       "      <td>dbartell@example.net</td>\n",
       "      <td>None</td>\n",
       "      <td>9258387168</td>\n",
       "      <td>b'\\x00'</td>\n",
       "    </tr>\n",
       "    <tr>\n",
       "      <th>2</th>\n",
       "      <td>5</td>\n",
       "      <td>Lori</td>\n",
       "      <td>Koch</td>\n",
       "      <td>None</td>\n",
       "      <td>damaris34@example.net</td>\n",
       "      <td>None</td>\n",
       "      <td>9192291407</td>\n",
       "      <td>b'\\x00'</td>\n",
       "    </tr>\n",
       "    <tr>\n",
       "      <th>3</th>\n",
       "      <td>1</td>\n",
       "      <td>Kelsie</td>\n",
       "      <td>Olson</td>\n",
       "      <td>None</td>\n",
       "      <td>xheidenreich@example.net</td>\n",
       "      <td>None</td>\n",
       "      <td>9548492646</td>\n",
       "      <td>b'\\x00'</td>\n",
       "    </tr>\n",
       "    <tr>\n",
       "      <th>4</th>\n",
       "      <td>4</td>\n",
       "      <td>Emmet</td>\n",
       "      <td>Hammes</td>\n",
       "      <td>None</td>\n",
       "      <td>qcremin@example.org</td>\n",
       "      <td>None</td>\n",
       "      <td>9694110645</td>\n",
       "      <td>b'\\x00'</td>\n",
       "    </tr>\n",
       "  </tbody>\n",
       "</table>\n",
       "</div>"
      ],
      "text/plain": [
       "   id firstname lastname login                     email password_hash  \\\n",
       "0   3    Ozella    Hauck  None      idickens@example.com          None   \n",
       "1   2    Lucile  Rolfson  None      dbartell@example.net          None   \n",
       "2   5      Lori     Koch  None     damaris34@example.net          None   \n",
       "3   1    Kelsie    Olson  None  xheidenreich@example.net          None   \n",
       "4   4     Emmet   Hammes  None       qcremin@example.org          None   \n",
       "\n",
       "        phone is_deleted  \n",
       "0  9773438197    b'\\x00'  \n",
       "1  9258387168    b'\\x00'  \n",
       "2  9192291407    b'\\x00'  \n",
       "3  9548492646    b'\\x00'  \n",
       "4  9694110645    b'\\x00'  "
      ]
     },
     "execution_count": 685,
     "metadata": {},
     "output_type": "execute_result"
    }
   ],
   "source": [
    "# выводим пользователя по его идентификатору (с лимитом 10 с сортировкой по имени):\n",
    "select_query = \"\"\"\n",
    "SELECT *\n",
    "FROM users\n",
    "WHERE id < 5 or id IN (5, 7)\n",
    "ORDER BY firstname DESC\n",
    "LIMIT 10;\"\"\"\n",
    "\n",
    "pd.DataFrame(push(select_query))"
   ]
  },
  {
   "cell_type": "code",
   "execution_count": 686,
   "metadata": {},
   "outputs": [
    {
     "name": "stdout",
     "output_type": "stream",
     "text": [
      "Succesfully connect\n",
      "####################\n",
      "SELECT count(firstname) succesfully\n"
     ]
    },
    {
     "data": {
      "text/html": [
       "<div>\n",
       "<style scoped>\n",
       "    .dataframe tbody tr th:only-of-type {\n",
       "        vertical-align: middle;\n",
       "    }\n",
       "\n",
       "    .dataframe tbody tr th {\n",
       "        vertical-align: top;\n",
       "    }\n",
       "\n",
       "    .dataframe thead th {\n",
       "        text-align: right;\n",
       "    }\n",
       "</style>\n",
       "<table border=\"1\" class=\"dataframe\">\n",
       "  <thead>\n",
       "    <tr style=\"text-align: right;\">\n",
       "      <th></th>\n",
       "      <th>count(firstname)</th>\n",
       "    </tr>\n",
       "  </thead>\n",
       "  <tbody>\n",
       "    <tr>\n",
       "      <th>0</th>\n",
       "      <td>21</td>\n",
       "    </tr>\n",
       "  </tbody>\n",
       "</table>\n",
       "</div>"
      ],
      "text/plain": [
       "   count(firstname)\n",
       "0                21"
      ]
     },
     "execution_count": 686,
     "metadata": {},
     "output_type": "execute_result"
    }
   ],
   "source": [
    "# выводим количество строк с указанным именем:\n",
    "select_query = \"\"\"\n",
    "SELECT count(firstname)\n",
    "FROM users;\"\"\"\n",
    "\n",
    "pd.DataFrame(push(select_query))"
   ]
  },
  {
   "cell_type": "code",
   "execution_count": 687,
   "metadata": {},
   "outputs": [
    {
     "name": "stdout",
     "output_type": "stream",
     "text": [
      "Succesfully connect\n",
      "####################\n",
      "SELECT count(DISTINCT succesfully\n"
     ]
    },
    {
     "data": {
      "text/html": [
       "<div>\n",
       "<style scoped>\n",
       "    .dataframe tbody tr th:only-of-type {\n",
       "        vertical-align: middle;\n",
       "    }\n",
       "\n",
       "    .dataframe tbody tr th {\n",
       "        vertical-align: top;\n",
       "    }\n",
       "\n",
       "    .dataframe thead th {\n",
       "        text-align: right;\n",
       "    }\n",
       "</style>\n",
       "<table border=\"1\" class=\"dataframe\">\n",
       "  <thead>\n",
       "    <tr style=\"text-align: right;\">\n",
       "      <th></th>\n",
       "      <th>DISTINCT_COUNT</th>\n",
       "    </tr>\n",
       "  </thead>\n",
       "  <tbody>\n",
       "    <tr>\n",
       "      <th>0</th>\n",
       "      <td>10</td>\n",
       "    </tr>\n",
       "  </tbody>\n",
       "</table>\n",
       "</div>"
      ],
      "text/plain": [
       "   DISTINCT_COUNT\n",
       "0              10"
      ]
     },
     "execution_count": 687,
     "metadata": {},
     "output_type": "execute_result"
    }
   ],
   "source": [
    "# выводим количество строк с уникальными именами:\n",
    "select_query = \"\"\"\n",
    "SELECT count(DISTINCT firstname) as DISTINCT_COUNT\n",
    "FROM users;\"\"\"\n",
    "\n",
    "pd.DataFrame(push(select_query))"
   ]
  },
  {
   "cell_type": "markdown",
   "metadata": {},
   "source": [
    "## 3.3 Команда UPDATE"
   ]
  },
  {
   "cell_type": "code",
   "execution_count": 688,
   "metadata": {},
   "outputs": [
    {
     "name": "stdout",
     "output_type": "stream",
     "text": [
      "Succesfully connect\n",
      "####################\n",
      "INSERT INTO succesfully\n"
     ]
    }
   ],
   "source": [
    "# вставим новую строку в таблицу channels\n",
    "# (создадим новый канал)\n",
    "\n",
    "push(\"\"\"INSERT INTO channels(title, invite_link, owner_user_id, is_private)\n",
    "VALUES ('MySQL news', 'https://t.me/mysql_news', 1, true);\"\"\")\n"
   ]
  },
  {
   "cell_type": "code",
   "execution_count": 689,
   "metadata": {},
   "outputs": [
    {
     "name": "stdout",
     "output_type": "stream",
     "text": [
      "Succesfully connect\n",
      "####################\n",
      "INSERT INTO succesfully\n",
      "Succesfully connect\n",
      "####################\n",
      "INSERT INTO succesfully\n",
      "Succesfully connect\n",
      "####################\n",
      "INSERT INTO succesfully\n"
     ]
    }
   ],
   "source": [
    "# вставим новые строки в таблицу channel_subscribers\n",
    "# (пользователи отправляют заявки на вступление в канал)\n",
    "push(\"\"\"INSERT INTO channel_subscribers(channel_id, user_id, status)\n",
    "VALUES (1, 2, 'requested');\"\"\")\n",
    "     \n",
    "push(\"\"\"INSERT INTO channel_subscribers(channel_id, user_id, status)\n",
    "VALUES (1, 3, 'requested');\"\"\")\n",
    "\n",
    "push(\"\"\"INSERT INTO channel_subscribers(channel_id, user_id, status)\n",
    "VALUES (1, 4, 'requested');\"\"\")"
   ]
  },
  {
   "cell_type": "code",
   "execution_count": 690,
   "metadata": {},
   "outputs": [
    {
     "name": "stdout",
     "output_type": "stream",
     "text": [
      "Succesfully connect\n",
      "####################\n",
      "UPDATE channel_subscribers succesfully\n"
     ]
    }
   ],
   "source": [
    "# обновит все строки в таблице channel_subscribers (плохо!)\n",
    "push(\"\"\"UPDATE channel_subscribers\n",
    "SET\n",
    "    status = 'joined';\"\"\")"
   ]
  },
  {
   "cell_type": "code",
   "execution_count": 691,
   "metadata": {},
   "outputs": [
    {
     "name": "stdout",
     "output_type": "stream",
     "text": [
      "Succesfully connect\n",
      "####################\n",
      "UPDATE channel_subscribers succesfully\n",
      "Succesfully connect\n",
      "####################\n",
      "UPDATE channel_subscribers succesfully\n"
     ]
    }
   ],
   "source": [
    "# админ подтверждает добавление подписчика в канал\n",
    "push(\"\"\"UPDATE channel_subscribers\n",
    "SET\n",
    "    status = 'joined'\n",
    "WHERE channel_id = 1 AND user_id = 2;\"\"\")\n",
    "\n",
    "push(\"\"\"UPDATE channel_subscribers\n",
    "SET\n",
    "    status = 'joined'\n",
    "WHERE channel_id = 1 AND user_id = 3;\"\"\")"
   ]
  },
  {
   "cell_type": "code",
   "execution_count": 692,
   "metadata": {},
   "outputs": [
    {
     "name": "stdout",
     "output_type": "stream",
     "text": [
      "Succesfully connect\n",
      "####################\n",
      "UPDATE channel_subscribers succesfully\n"
     ]
    }
   ],
   "source": [
    "# пользователь покидает канал\n",
    "push(\"\"\"UPDATE channel_subscribers\n",
    "SET\n",
    "    status = 'left'\n",
    "WHERE channel_id = 1 AND user_id = 2;\"\"\")"
   ]
  },
  {
   "cell_type": "code",
   "execution_count": 693,
   "metadata": {},
   "outputs": [
    {
     "name": "stdout",
     "output_type": "stream",
     "text": [
      "Succesfully connect\n",
      "####################\n",
      "ALTER TABLE succesfully\n"
     ]
    }
   ],
   "source": [
    "# добавим новый статус 'удален'\n",
    "push(\"\"\"ALTER TABLE channel_subscribers\n",
    "MODIFY COLUMN status ENUM('requested', 'joined', 'left', 'removed');\"\"\")"
   ]
  },
  {
   "cell_type": "code",
   "execution_count": 694,
   "metadata": {},
   "outputs": [
    {
     "name": "stdout",
     "output_type": "stream",
     "text": [
      "Succesfully connect\n",
      "####################\n",
      "UPDATE channel_subscribers succesfully\n"
     ]
    }
   ],
   "source": [
    "# пользователя принудительно удалили из канала\n",
    "push(\"\"\"UPDATE channel_subscribers\n",
    "SET\n",
    "    status = 'removed'\n",
    "WHERE channel_id = 1 AND user_id = 4;\"\"\")"
   ]
  },
  {
   "cell_type": "code",
   "execution_count": 695,
   "metadata": {},
   "outputs": [
    {
     "name": "stdout",
     "output_type": "stream",
     "text": [
      "Succesfully connect\n",
      "####################\n",
      "UPDATE channels succesfully\n"
     ]
    }
   ],
   "source": [
    "# переименуем канал\n",
    "push(\"\"\"UPDATE channels\n",
    "SET title = 'General SQL news'\n",
    "WHERE id = 1;\"\"\")"
   ]
  },
  {
   "cell_type": "code",
   "execution_count": 696,
   "metadata": {},
   "outputs": [
    {
     "name": "stdout",
     "output_type": "stream",
     "text": [
      "Succesfully connect\n",
      "####################\n",
      "SELECT * succesfully\n"
     ]
    },
    {
     "data": {
      "text/html": [
       "<div>\n",
       "<style scoped>\n",
       "    .dataframe tbody tr th:only-of-type {\n",
       "        vertical-align: middle;\n",
       "    }\n",
       "\n",
       "    .dataframe tbody tr th {\n",
       "        vertical-align: top;\n",
       "    }\n",
       "\n",
       "    .dataframe thead th {\n",
       "        text-align: right;\n",
       "    }\n",
       "</style>\n",
       "<table border=\"1\" class=\"dataframe\">\n",
       "  <thead>\n",
       "    <tr style=\"text-align: right;\">\n",
       "      <th></th>\n",
       "      <th>channel_id</th>\n",
       "      <th>user_id</th>\n",
       "      <th>status</th>\n",
       "      <th>created_at</th>\n",
       "      <th>updated_at</th>\n",
       "    </tr>\n",
       "  </thead>\n",
       "  <tbody>\n",
       "    <tr>\n",
       "      <th>0</th>\n",
       "      <td>1</td>\n",
       "      <td>2</td>\n",
       "      <td>left</td>\n",
       "      <td>2025-03-12 21:18:27</td>\n",
       "      <td>2025-03-12 21:18:27</td>\n",
       "    </tr>\n",
       "    <tr>\n",
       "      <th>1</th>\n",
       "      <td>1</td>\n",
       "      <td>3</td>\n",
       "      <td>joined</td>\n",
       "      <td>2025-03-12 21:18:27</td>\n",
       "      <td>2025-03-12 21:18:27</td>\n",
       "    </tr>\n",
       "    <tr>\n",
       "      <th>2</th>\n",
       "      <td>1</td>\n",
       "      <td>4</td>\n",
       "      <td>removed</td>\n",
       "      <td>2025-03-12 21:18:27</td>\n",
       "      <td>2025-03-12 21:18:27</td>\n",
       "    </tr>\n",
       "  </tbody>\n",
       "</table>\n",
       "</div>"
      ],
      "text/plain": [
       "   channel_id  user_id   status          created_at          updated_at\n",
       "0           1        2     left 2025-03-12 21:18:27 2025-03-12 21:18:27\n",
       "1           1        3   joined 2025-03-12 21:18:27 2025-03-12 21:18:27\n",
       "2           1        4  removed 2025-03-12 21:18:27 2025-03-12 21:18:27"
      ]
     },
     "execution_count": 696,
     "metadata": {},
     "output_type": "execute_result"
    }
   ],
   "source": [
    "pd.DataFrame(push(\"SELECT * FROM channel_subscribers\"))"
   ]
  },
  {
   "cell_type": "markdown",
   "metadata": {},
   "source": [
    "## 3.4 Команда DELETE"
   ]
  },
  {
   "cell_type": "code",
   "execution_count": 697,
   "metadata": {},
   "outputs": [
    {
     "name": "stdout",
     "output_type": "stream",
     "text": [
      "Succesfully connect\n",
      "####################\n",
      "DELETE FROM succesfully\n"
     ]
    }
   ],
   "source": [
    "# удаляем все строки из таблицы сообщений \n",
    "# (очищает данные, индексация сохраняется после удаления данных)\n",
    "push(\"DELETE FROM private_messages;\")"
   ]
  },
  {
   "cell_type": "code",
   "execution_count": 698,
   "metadata": {},
   "outputs": [
    {
     "name": "stdout",
     "output_type": "stream",
     "text": [
      "Succesfully connect\n",
      "####################\n",
      "TRUNCATE private_messages; succesfully\n"
     ]
    }
   ],
   "source": [
    "# пересоздаем таблицу сообщений (DROP-CREATE)\n",
    "# (пересоздается таблица, индексация следовательно обнуляется)\n",
    "push(\"TRUNCATE private_messages;\")"
   ]
  },
  {
   "cell_type": "code",
   "execution_count": 699,
   "metadata": {},
   "outputs": [
    {
     "name": "stdout",
     "output_type": "stream",
     "text": [
      "Succesfully connect\n",
      "####################\n",
      "INSERT INTO succesfully\n"
     ]
    }
   ],
   "source": [
    "# подготовка данных (добавляем несколько сообщений между пользователями)\n",
    "insert_query = \"\"\"\n",
    "INSERT INTO `private_messages`(sender_id, receiver_id, media_type, body, filename, created_at)\n",
    "VALUES\n",
    "(1,2,'text','Eveniet suscipit ullam occaecati consequatur hic. Nulla est in molestiae odit. Placeat perferendis consequatur qui omnis id vel autem.','officiis','2010-04-07 09:01:02'),\n",
    "(2,1,'audio','Non repudiandae maiores molestiae vel doloribus. Quis facere blanditiis est magnam est ut vero.','qui','1971-05-29 07:31:20'),\n",
    "(1,3,'text','Voluptas qui consequatur quae sunt et consequatur. Rem alias sed cupiditate explicabo voluptate. Officiis repellat porro accusamus eveniet quos. Laborum dolores sed enim aut.','excepturi','1998-10-28 20:08:01'),\n",
    "(1,4,'video','Est delectus tempora exercitationem atque tempora reiciendis nulla voluptatem. Cupiditate non fugit blanditiis quasi ad et autem expedita. Aut est provident odio quasi possimus.','vitae','2001-12-03 15:54:43'),\n",
    "(1,2,'video','Est ducimus amet et asperiores. Reiciendis debitis qui ipsa. Nemo laboriosam ea aut omnis voluptates quisquam accusantium. Quibusdam totam similique aut.','optio','1970-09-18 20:39:35'),\n",
    "(1,2,'video','Quis cupiditate quis maxime et placeat consectetur ut quis. Voluptas unde voluptatem deserunt in dolorum maxime. Sunt fugiat sit tenetur placeat at.','laboriosam','1980-05-11 03:39:43'),\n",
    "(2,1,'audio','Voluptatum nihil rem laboriosam delectus aperiam consequuntur et modi. Laudantium molestias corporis quo omnis ut ea. At minima iure et voluptatum culpa deleniti non. Sint laboriosam molestias dolor vel. Quibusdam omnis quas ullam dolor.','sit','1988-08-19 10:30:44'),\n",
    "(2,4,'audio','Nemo eos sed aspernatur voluptates perspiciatis tenetur. Voluptas sunt magnam vero nam earum. Magnam eum vitae qui. Vel atque accusantium in non rem non et.','consectetur','1984-06-28 16:22:44'),\n",
    "(4,5,'audio','Quod nihil possimus id qui. Quasi officia rerum eum doloribus est voluptas maxime. Et debitis enim non enim fugit.','repellat','1981-12-11 16:04:11'),\n",
    "(3,1,'text','Qui voluptatem earum temporibus rem vel sequi. Et quasi vel qui est autem aliquam. Modi est voluptatem aut rerum ea velit. Voluptate et eligendi debitis nostrum nihil dolorum.','nihil','1988-02-16 13:29:14'),\n",
    "(3,2,'image','Rem et ullam cum vitae autem reprehenderit quia. Enim a ipsam id ut aliquam est error. Quis dolorum omnis expedita eaque maiores illo.','et','2015-04-07 18:02:42')\n",
    ";\"\"\"\n",
    "\n",
    "push(insert_query)"
   ]
  },
  {
   "cell_type": "code",
   "execution_count": 700,
   "metadata": {},
   "outputs": [
    {
     "name": "stdout",
     "output_type": "stream",
     "text": [
      "Succesfully connect\n",
      "####################\n",
      "SELECT * succesfully\n"
     ]
    },
    {
     "data": {
      "text/html": [
       "<div>\n",
       "<style scoped>\n",
       "    .dataframe tbody tr th:only-of-type {\n",
       "        vertical-align: middle;\n",
       "    }\n",
       "\n",
       "    .dataframe tbody tr th {\n",
       "        vertical-align: top;\n",
       "    }\n",
       "\n",
       "    .dataframe thead th {\n",
       "        text-align: right;\n",
       "    }\n",
       "</style>\n",
       "<table border=\"1\" class=\"dataframe\">\n",
       "  <thead>\n",
       "    <tr style=\"text-align: right;\">\n",
       "      <th></th>\n",
       "      <th>id</th>\n",
       "      <th>sender_id</th>\n",
       "      <th>receiver_id</th>\n",
       "      <th>reply_to_id</th>\n",
       "      <th>media_type</th>\n",
       "      <th>body</th>\n",
       "      <th>filename</th>\n",
       "      <th>created_at</th>\n",
       "    </tr>\n",
       "  </thead>\n",
       "  <tbody>\n",
       "    <tr>\n",
       "      <th>0</th>\n",
       "      <td>1</td>\n",
       "      <td>1</td>\n",
       "      <td>2</td>\n",
       "      <td>None</td>\n",
       "      <td>text</td>\n",
       "      <td>Eveniet suscipit ullam occaecati consequatur h...</td>\n",
       "      <td>officiis</td>\n",
       "      <td>2010-04-07 09:01:02</td>\n",
       "    </tr>\n",
       "    <tr>\n",
       "      <th>1</th>\n",
       "      <td>2</td>\n",
       "      <td>2</td>\n",
       "      <td>1</td>\n",
       "      <td>None</td>\n",
       "      <td>audio</td>\n",
       "      <td>Non repudiandae maiores molestiae vel doloribu...</td>\n",
       "      <td>qui</td>\n",
       "      <td>1971-05-29 07:31:20</td>\n",
       "    </tr>\n",
       "    <tr>\n",
       "      <th>2</th>\n",
       "      <td>3</td>\n",
       "      <td>1</td>\n",
       "      <td>3</td>\n",
       "      <td>None</td>\n",
       "      <td>text</td>\n",
       "      <td>Voluptas qui consequatur quae sunt et consequa...</td>\n",
       "      <td>excepturi</td>\n",
       "      <td>1998-10-28 20:08:01</td>\n",
       "    </tr>\n",
       "    <tr>\n",
       "      <th>3</th>\n",
       "      <td>4</td>\n",
       "      <td>1</td>\n",
       "      <td>4</td>\n",
       "      <td>None</td>\n",
       "      <td>video</td>\n",
       "      <td>Est delectus tempora exercitationem atque temp...</td>\n",
       "      <td>vitae</td>\n",
       "      <td>2001-12-03 15:54:43</td>\n",
       "    </tr>\n",
       "    <tr>\n",
       "      <th>4</th>\n",
       "      <td>5</td>\n",
       "      <td>1</td>\n",
       "      <td>2</td>\n",
       "      <td>None</td>\n",
       "      <td>video</td>\n",
       "      <td>Est ducimus amet et asperiores. Reiciendis deb...</td>\n",
       "      <td>optio</td>\n",
       "      <td>1970-09-18 20:39:35</td>\n",
       "    </tr>\n",
       "    <tr>\n",
       "      <th>5</th>\n",
       "      <td>6</td>\n",
       "      <td>1</td>\n",
       "      <td>2</td>\n",
       "      <td>None</td>\n",
       "      <td>video</td>\n",
       "      <td>Quis cupiditate quis maxime et placeat consect...</td>\n",
       "      <td>laboriosam</td>\n",
       "      <td>1980-05-11 03:39:43</td>\n",
       "    </tr>\n",
       "    <tr>\n",
       "      <th>6</th>\n",
       "      <td>7</td>\n",
       "      <td>2</td>\n",
       "      <td>1</td>\n",
       "      <td>None</td>\n",
       "      <td>audio</td>\n",
       "      <td>Voluptatum nihil rem laboriosam delectus aperi...</td>\n",
       "      <td>sit</td>\n",
       "      <td>1988-08-19 10:30:44</td>\n",
       "    </tr>\n",
       "    <tr>\n",
       "      <th>7</th>\n",
       "      <td>8</td>\n",
       "      <td>2</td>\n",
       "      <td>4</td>\n",
       "      <td>None</td>\n",
       "      <td>audio</td>\n",
       "      <td>Nemo eos sed aspernatur voluptates perspiciati...</td>\n",
       "      <td>consectetur</td>\n",
       "      <td>1984-06-28 16:22:44</td>\n",
       "    </tr>\n",
       "    <tr>\n",
       "      <th>8</th>\n",
       "      <td>9</td>\n",
       "      <td>4</td>\n",
       "      <td>5</td>\n",
       "      <td>None</td>\n",
       "      <td>audio</td>\n",
       "      <td>Quod nihil possimus id qui. Quasi officia reru...</td>\n",
       "      <td>repellat</td>\n",
       "      <td>1981-12-11 16:04:11</td>\n",
       "    </tr>\n",
       "    <tr>\n",
       "      <th>9</th>\n",
       "      <td>10</td>\n",
       "      <td>3</td>\n",
       "      <td>1</td>\n",
       "      <td>None</td>\n",
       "      <td>text</td>\n",
       "      <td>Qui voluptatem earum temporibus rem vel sequi....</td>\n",
       "      <td>nihil</td>\n",
       "      <td>1988-02-16 13:29:14</td>\n",
       "    </tr>\n",
       "    <tr>\n",
       "      <th>10</th>\n",
       "      <td>11</td>\n",
       "      <td>3</td>\n",
       "      <td>2</td>\n",
       "      <td>None</td>\n",
       "      <td>image</td>\n",
       "      <td>Rem et ullam cum vitae autem reprehenderit qui...</td>\n",
       "      <td>et</td>\n",
       "      <td>2015-04-07 18:02:42</td>\n",
       "    </tr>\n",
       "  </tbody>\n",
       "</table>\n",
       "</div>"
      ],
      "text/plain": [
       "    id  sender_id  receiver_id reply_to_id media_type  \\\n",
       "0    1          1            2        None       text   \n",
       "1    2          2            1        None      audio   \n",
       "2    3          1            3        None       text   \n",
       "3    4          1            4        None      video   \n",
       "4    5          1            2        None      video   \n",
       "5    6          1            2        None      video   \n",
       "6    7          2            1        None      audio   \n",
       "7    8          2            4        None      audio   \n",
       "8    9          4            5        None      audio   \n",
       "9   10          3            1        None       text   \n",
       "10  11          3            2        None      image   \n",
       "\n",
       "                                                 body     filename  \\\n",
       "0   Eveniet suscipit ullam occaecati consequatur h...     officiis   \n",
       "1   Non repudiandae maiores molestiae vel doloribu...          qui   \n",
       "2   Voluptas qui consequatur quae sunt et consequa...    excepturi   \n",
       "3   Est delectus tempora exercitationem atque temp...        vitae   \n",
       "4   Est ducimus amet et asperiores. Reiciendis deb...        optio   \n",
       "5   Quis cupiditate quis maxime et placeat consect...   laboriosam   \n",
       "6   Voluptatum nihil rem laboriosam delectus aperi...          sit   \n",
       "7   Nemo eos sed aspernatur voluptates perspiciati...  consectetur   \n",
       "8   Quod nihil possimus id qui. Quasi officia reru...     repellat   \n",
       "9   Qui voluptatem earum temporibus rem vel sequi....        nihil   \n",
       "10  Rem et ullam cum vitae autem reprehenderit qui...           et   \n",
       "\n",
       "            created_at  \n",
       "0  2010-04-07 09:01:02  \n",
       "1  1971-05-29 07:31:20  \n",
       "2  1998-10-28 20:08:01  \n",
       "3  2001-12-03 15:54:43  \n",
       "4  1970-09-18 20:39:35  \n",
       "5  1980-05-11 03:39:43  \n",
       "6  1988-08-19 10:30:44  \n",
       "7  1984-06-28 16:22:44  \n",
       "8  1981-12-11 16:04:11  \n",
       "9  1988-02-16 13:29:14  \n",
       "10 2015-04-07 18:02:42  "
      ]
     },
     "execution_count": 700,
     "metadata": {},
     "output_type": "execute_result"
    }
   ],
   "source": [
    "pd.DataFrame(push(\"SELECT * FROM private_messages\"))"
   ]
  },
  {
   "cell_type": "code",
   "execution_count": 701,
   "metadata": {},
   "outputs": [
    {
     "name": "stdout",
     "output_type": "stream",
     "text": [
      "Succesfully connect\n",
      "####################\n",
      "DELETE FROM succesfully\n"
     ]
    }
   ],
   "source": [
    "# удаляем сообщения от пользователя номер 1 к пользователю номер 2\n",
    "delete_query = \"\"\"\n",
    "DELETE FROM private_messages\n",
    "WHERE sender_id = 1 AND receiver_id IN (2, 4) OR sender_id = 2;\"\"\"\n",
    "\n",
    "push(delete_query)"
   ]
  },
  {
   "cell_type": "code",
   "execution_count": 702,
   "metadata": {},
   "outputs": [
    {
     "name": "stdout",
     "output_type": "stream",
     "text": [
      "Succesfully connect\n",
      "####################\n",
      "SELECT * succesfully\n"
     ]
    },
    {
     "data": {
      "text/html": [
       "<div>\n",
       "<style scoped>\n",
       "    .dataframe tbody tr th:only-of-type {\n",
       "        vertical-align: middle;\n",
       "    }\n",
       "\n",
       "    .dataframe tbody tr th {\n",
       "        vertical-align: top;\n",
       "    }\n",
       "\n",
       "    .dataframe thead th {\n",
       "        text-align: right;\n",
       "    }\n",
       "</style>\n",
       "<table border=\"1\" class=\"dataframe\">\n",
       "  <thead>\n",
       "    <tr style=\"text-align: right;\">\n",
       "      <th></th>\n",
       "      <th>id</th>\n",
       "      <th>sender_id</th>\n",
       "      <th>receiver_id</th>\n",
       "      <th>reply_to_id</th>\n",
       "      <th>media_type</th>\n",
       "      <th>body</th>\n",
       "      <th>filename</th>\n",
       "      <th>created_at</th>\n",
       "    </tr>\n",
       "  </thead>\n",
       "  <tbody>\n",
       "    <tr>\n",
       "      <th>0</th>\n",
       "      <td>3</td>\n",
       "      <td>1</td>\n",
       "      <td>3</td>\n",
       "      <td>None</td>\n",
       "      <td>text</td>\n",
       "      <td>Voluptas qui consequatur quae sunt et consequa...</td>\n",
       "      <td>excepturi</td>\n",
       "      <td>1998-10-28 20:08:01</td>\n",
       "    </tr>\n",
       "    <tr>\n",
       "      <th>1</th>\n",
       "      <td>9</td>\n",
       "      <td>4</td>\n",
       "      <td>5</td>\n",
       "      <td>None</td>\n",
       "      <td>audio</td>\n",
       "      <td>Quod nihil possimus id qui. Quasi officia reru...</td>\n",
       "      <td>repellat</td>\n",
       "      <td>1981-12-11 16:04:11</td>\n",
       "    </tr>\n",
       "    <tr>\n",
       "      <th>2</th>\n",
       "      <td>10</td>\n",
       "      <td>3</td>\n",
       "      <td>1</td>\n",
       "      <td>None</td>\n",
       "      <td>text</td>\n",
       "      <td>Qui voluptatem earum temporibus rem vel sequi....</td>\n",
       "      <td>nihil</td>\n",
       "      <td>1988-02-16 13:29:14</td>\n",
       "    </tr>\n",
       "    <tr>\n",
       "      <th>3</th>\n",
       "      <td>11</td>\n",
       "      <td>3</td>\n",
       "      <td>2</td>\n",
       "      <td>None</td>\n",
       "      <td>image</td>\n",
       "      <td>Rem et ullam cum vitae autem reprehenderit qui...</td>\n",
       "      <td>et</td>\n",
       "      <td>2015-04-07 18:02:42</td>\n",
       "    </tr>\n",
       "  </tbody>\n",
       "</table>\n",
       "</div>"
      ],
      "text/plain": [
       "   id  sender_id  receiver_id reply_to_id media_type  \\\n",
       "0   3          1            3        None       text   \n",
       "1   9          4            5        None      audio   \n",
       "2  10          3            1        None       text   \n",
       "3  11          3            2        None      image   \n",
       "\n",
       "                                                body   filename  \\\n",
       "0  Voluptas qui consequatur quae sunt et consequa...  excepturi   \n",
       "1  Quod nihil possimus id qui. Quasi officia reru...   repellat   \n",
       "2  Qui voluptatem earum temporibus rem vel sequi....      nihil   \n",
       "3  Rem et ullam cum vitae autem reprehenderit qui...         et   \n",
       "\n",
       "           created_at  \n",
       "0 1998-10-28 20:08:01  \n",
       "1 1981-12-11 16:04:11  \n",
       "2 1988-02-16 13:29:14  \n",
       "3 2015-04-07 18:02:42  "
      ]
     },
     "execution_count": 702,
     "metadata": {},
     "output_type": "execute_result"
    }
   ],
   "source": [
    "pd.DataFrame(push(\"SELECT * FROM private_messages\"))"
   ]
  },
  {
   "cell_type": "code",
   "execution_count": 703,
   "metadata": {},
   "outputs": [
    {
     "name": "stdout",
     "output_type": "stream",
     "text": [
      "Succesfully connect\n",
      "####################\n",
      "Connection refused...\n",
      "(1451, 'Cannot delete or update a parent row: a foreign key constraint fails (`stepik`.`channel_subscribers`, CONSTRAINT `channel_subscribers_ibfk_1` FOREIGN KEY (`user_id`) REFERENCES `users` (`id`))')\n"
     ]
    }
   ],
   "source": [
    "# пробуем удалить пользователя номер 3\n",
    "push(\"\"\"DELETE FROM users\n",
    "WHERE id = 3;\"\"\")"
   ]
  },
  {
   "cell_type": "code",
   "execution_count": 704,
   "metadata": {},
   "outputs": [
    {
     "name": "stdout",
     "output_type": "stream",
     "text": [
      "Succesfully connect\n",
      "####################\n",
      "DELETE FROM succesfully\n"
     ]
    }
   ],
   "source": [
    "# сначала удаляем его подписки на каналы\n",
    "push(\"\"\"DELETE FROM channel_subscribers\n",
    "WHERE user_id = 3;\"\"\")"
   ]
  },
  {
   "cell_type": "code",
   "execution_count": 705,
   "metadata": {},
   "outputs": [
    {
     "name": "stdout",
     "output_type": "stream",
     "text": [
      "Succesfully connect\n",
      "####################\n",
      "DELETE FROM succesfully\n"
     ]
    }
   ],
   "source": [
    "# удаляем сообщения пользователя номер 3\n",
    "push(\"\"\"DELETE FROM private_messages\n",
    "WHERE sender_id = 3 OR receiver_id = 3;\"\"\")"
   ]
  },
  {
   "cell_type": "code",
   "execution_count": 706,
   "metadata": {},
   "outputs": [
    {
     "name": "stdout",
     "output_type": "stream",
     "text": [
      "Succesfully connect\n",
      "####################\n",
      "ALTER TABLE succesfully\n"
     ]
    }
   ],
   "source": [
    "# добавим флаг для удаленных сообщений (вместо физического удаления строк)\n",
    "push(\"ALTER TABLE private_messages ADD COLUMN is_deleted BIT NOT NULL DEFAULT 0;\")"
   ]
  },
  {
   "cell_type": "code",
   "execution_count": 707,
   "metadata": {},
   "outputs": [
    {
     "name": "stdout",
     "output_type": "stream",
     "text": [
      "Succesfully connect\n",
      "####################\n",
      "UPDATE private_messages succesfully\n"
     ]
    }
   ],
   "source": [
    "# отмечаем сообщения удаленными\n",
    "push(\"\"\"UPDATE private_messages\n",
    "SET is_deleted = 1\n",
    "WHERE sender_id = 2 AND receiver_id = 1;\"\"\")"
   ]
  },
  {
   "cell_type": "code",
   "execution_count": 708,
   "metadata": {},
   "outputs": [
    {
     "name": "stdout",
     "output_type": "stream",
     "text": [
      "Succesfully connect\n",
      "####################\n",
      "SELECT * succesfully\n"
     ]
    },
    {
     "data": {
      "text/html": [
       "<div>\n",
       "<style scoped>\n",
       "    .dataframe tbody tr th:only-of-type {\n",
       "        vertical-align: middle;\n",
       "    }\n",
       "\n",
       "    .dataframe tbody tr th {\n",
       "        vertical-align: top;\n",
       "    }\n",
       "\n",
       "    .dataframe thead th {\n",
       "        text-align: right;\n",
       "    }\n",
       "</style>\n",
       "<table border=\"1\" class=\"dataframe\">\n",
       "  <thead>\n",
       "    <tr style=\"text-align: right;\">\n",
       "      <th></th>\n",
       "      <th>id</th>\n",
       "      <th>sender_id</th>\n",
       "      <th>receiver_id</th>\n",
       "      <th>reply_to_id</th>\n",
       "      <th>media_type</th>\n",
       "      <th>body</th>\n",
       "      <th>filename</th>\n",
       "      <th>created_at</th>\n",
       "      <th>is_deleted</th>\n",
       "    </tr>\n",
       "  </thead>\n",
       "  <tbody>\n",
       "    <tr>\n",
       "      <th>0</th>\n",
       "      <td>9</td>\n",
       "      <td>4</td>\n",
       "      <td>5</td>\n",
       "      <td>None</td>\n",
       "      <td>audio</td>\n",
       "      <td>Quod nihil possimus id qui. Quasi officia reru...</td>\n",
       "      <td>repellat</td>\n",
       "      <td>1981-12-11 16:04:11</td>\n",
       "      <td>b'\\x00'</td>\n",
       "    </tr>\n",
       "  </tbody>\n",
       "</table>\n",
       "</div>"
      ],
      "text/plain": [
       "   id  sender_id  receiver_id reply_to_id media_type  \\\n",
       "0   9          4            5        None      audio   \n",
       "\n",
       "                                                body  filename  \\\n",
       "0  Quod nihil possimus id qui. Quasi officia reru...  repellat   \n",
       "\n",
       "           created_at is_deleted  \n",
       "0 1981-12-11 16:04:11    b'\\x00'  "
      ]
     },
     "execution_count": 708,
     "metadata": {},
     "output_type": "execute_result"
    }
   ],
   "source": [
    "pd.DataFrame(push(\"SELECT * FROM private_messages\"))"
   ]
  },
  {
   "cell_type": "markdown",
   "metadata": {},
   "source": [
    "## 3.5 Сервисы для генерации данных"
   ]
  },
  {
   "cell_type": "markdown",
   "metadata": {},
   "source": [
    "Сервисы для генерации данных: <br>\n",
    "http://filldb.info/ <br>\n",
    "http://www.generatedata.com/ <br>\n",
    "https://sourceforge.net/p/benerator/wiki/Home/ <br>\n",
    "http://www.dominicgiles.com/datagenerator.html <br>"
   ]
  },
  {
   "cell_type": "markdown",
   "metadata": {},
   "source": [
    "# 4 Основы SELECT запросов"
   ]
  },
  {
   "cell_type": "markdown",
   "metadata": {},
   "source": [
    "## 4.1 Фильтрация (WHERE + LIKE)"
   ]
  },
  {
   "cell_type": "code",
   "execution_count": 709,
   "metadata": {},
   "outputs": [
    {
     "name": "stdout",
     "output_type": "stream",
     "text": [
      "Succesfully connect\n",
      "####################\n",
      "SELECT * succesfully\n"
     ]
    },
    {
     "data": {
      "text/html": [
       "<div>\n",
       "<style scoped>\n",
       "    .dataframe tbody tr th:only-of-type {\n",
       "        vertical-align: middle;\n",
       "    }\n",
       "\n",
       "    .dataframe tbody tr th {\n",
       "        vertical-align: top;\n",
       "    }\n",
       "\n",
       "    .dataframe thead th {\n",
       "        text-align: right;\n",
       "    }\n",
       "</style>\n",
       "<table border=\"1\" class=\"dataframe\">\n",
       "  <thead>\n",
       "    <tr style=\"text-align: right;\">\n",
       "      <th></th>\n",
       "      <th>id</th>\n",
       "      <th>firstname</th>\n",
       "      <th>lastname</th>\n",
       "      <th>login</th>\n",
       "      <th>email</th>\n",
       "      <th>password_hash</th>\n",
       "      <th>phone</th>\n",
       "      <th>is_deleted</th>\n",
       "    </tr>\n",
       "  </thead>\n",
       "  <tbody>\n",
       "    <tr>\n",
       "      <th>0</th>\n",
       "      <td>1</td>\n",
       "      <td>Kelsie</td>\n",
       "      <td>Olson</td>\n",
       "      <td>None</td>\n",
       "      <td>xheidenreich@example.net</td>\n",
       "      <td>None</td>\n",
       "      <td>9548492646</td>\n",
       "      <td>b'\\x00'</td>\n",
       "    </tr>\n",
       "  </tbody>\n",
       "</table>\n",
       "</div>"
      ],
      "text/plain": [
       "   id firstname lastname login                     email password_hash  \\\n",
       "0   1    Kelsie    Olson  None  xheidenreich@example.net          None   \n",
       "\n",
       "        phone is_deleted  \n",
       "0  9548492646    b'\\x00'  "
      ]
     },
     "metadata": {},
     "output_type": "display_data"
    },
    {
     "name": "stdout",
     "output_type": "stream",
     "text": [
      "Succesfully connect\n",
      "####################\n",
      "Connection refused...\n",
      "(1146, \"Table 'stepik.profiles' doesn't exist\")\n"
     ]
    },
    {
     "data": {
      "text/html": [
       "<div>\n",
       "<style scoped>\n",
       "    .dataframe tbody tr th:only-of-type {\n",
       "        vertical-align: middle;\n",
       "    }\n",
       "\n",
       "    .dataframe tbody tr th {\n",
       "        vertical-align: top;\n",
       "    }\n",
       "\n",
       "    .dataframe thead th {\n",
       "        text-align: right;\n",
       "    }\n",
       "</style>\n",
       "<table border=\"1\" class=\"dataframe\">\n",
       "  <thead>\n",
       "    <tr style=\"text-align: right;\">\n",
       "      <th></th>\n",
       "    </tr>\n",
       "  </thead>\n",
       "  <tbody>\n",
       "  </tbody>\n",
       "</table>\n",
       "</div>"
      ],
      "text/plain": [
       "Empty DataFrame\n",
       "Columns: []\n",
       "Index: []"
      ]
     },
     "metadata": {},
     "output_type": "display_data"
    }
   ],
   "source": [
    "# Данные пользователя \n",
    "select_query = \"\"\"\n",
    "SELECT *\n",
    "FROM users\n",
    "WHERE id = 1;\"\"\"\n",
    "\n",
    "display(pd.DataFrame(push(select_query)))\n",
    "\n",
    "select_query = \"\"\"\n",
    "SELECT *\n",
    "FROM profiles\n",
    "WHERE user_id = 1;\"\"\"\n",
    "\n",
    "display(pd.DataFrame(push(select_query)))"
   ]
  },
  {
   "cell_type": "code",
   "execution_count": 710,
   "metadata": {},
   "outputs": [
    {
     "name": "stdout",
     "output_type": "stream",
     "text": [
      "Succesfully connect\n",
      "####################\n",
      "SELECT * succesfully\n"
     ]
    },
    {
     "data": {
      "text/html": [
       "<div>\n",
       "<style scoped>\n",
       "    .dataframe tbody tr th:only-of-type {\n",
       "        vertical-align: middle;\n",
       "    }\n",
       "\n",
       "    .dataframe tbody tr th {\n",
       "        vertical-align: top;\n",
       "    }\n",
       "\n",
       "    .dataframe thead th {\n",
       "        text-align: right;\n",
       "    }\n",
       "</style>\n",
       "<table border=\"1\" class=\"dataframe\">\n",
       "  <thead>\n",
       "    <tr style=\"text-align: right;\">\n",
       "      <th></th>\n",
       "      <th>id</th>\n",
       "      <th>title</th>\n",
       "      <th>icon</th>\n",
       "      <th>invite_link</th>\n",
       "      <th>settings</th>\n",
       "      <th>owner_user_id</th>\n",
       "      <th>is_private</th>\n",
       "      <th>created_at</th>\n",
       "    </tr>\n",
       "  </thead>\n",
       "  <tbody>\n",
       "    <tr>\n",
       "      <th>0</th>\n",
       "      <td>1</td>\n",
       "      <td>General SQL news</td>\n",
       "      <td>None</td>\n",
       "      <td>https://t.me/mysql_news</td>\n",
       "      <td>None</td>\n",
       "      <td>1</td>\n",
       "      <td>b'\\x01'</td>\n",
       "      <td>2025-03-12 20:44:28</td>\n",
       "    </tr>\n",
       "    <tr>\n",
       "      <th>1</th>\n",
       "      <td>2</td>\n",
       "      <td>MySQL news</td>\n",
       "      <td>None</td>\n",
       "      <td>https://t.me/mysql_news</td>\n",
       "      <td>None</td>\n",
       "      <td>1</td>\n",
       "      <td>b'\\x01'</td>\n",
       "      <td>2025-03-12 20:46:10</td>\n",
       "    </tr>\n",
       "    <tr>\n",
       "      <th>2</th>\n",
       "      <td>3</td>\n",
       "      <td>MySQL news</td>\n",
       "      <td>None</td>\n",
       "      <td>https://t.me/mysql_news</td>\n",
       "      <td>None</td>\n",
       "      <td>1</td>\n",
       "      <td>b'\\x01'</td>\n",
       "      <td>2025-03-12 20:46:35</td>\n",
       "    </tr>\n",
       "    <tr>\n",
       "      <th>3</th>\n",
       "      <td>4</td>\n",
       "      <td>MySQL news</td>\n",
       "      <td>None</td>\n",
       "      <td>https://t.me/mysql_news</td>\n",
       "      <td>None</td>\n",
       "      <td>1</td>\n",
       "      <td>b'\\x01'</td>\n",
       "      <td>2025-03-12 20:46:49</td>\n",
       "    </tr>\n",
       "    <tr>\n",
       "      <th>4</th>\n",
       "      <td>5</td>\n",
       "      <td>MySQL news</td>\n",
       "      <td>None</td>\n",
       "      <td>https://t.me/mysql_news</td>\n",
       "      <td>None</td>\n",
       "      <td>1</td>\n",
       "      <td>b'\\x01'</td>\n",
       "      <td>2025-03-12 20:54:59</td>\n",
       "    </tr>\n",
       "    <tr>\n",
       "      <th>5</th>\n",
       "      <td>6</td>\n",
       "      <td>MySQL news</td>\n",
       "      <td>None</td>\n",
       "      <td>https://t.me/mysql_news</td>\n",
       "      <td>None</td>\n",
       "      <td>1</td>\n",
       "      <td>b'\\x01'</td>\n",
       "      <td>2025-03-12 20:56:35</td>\n",
       "    </tr>\n",
       "    <tr>\n",
       "      <th>6</th>\n",
       "      <td>7</td>\n",
       "      <td>MySQL news</td>\n",
       "      <td>None</td>\n",
       "      <td>https://t.me/mysql_news</td>\n",
       "      <td>None</td>\n",
       "      <td>1</td>\n",
       "      <td>b'\\x01'</td>\n",
       "      <td>2025-03-12 21:11:15</td>\n",
       "    </tr>\n",
       "    <tr>\n",
       "      <th>7</th>\n",
       "      <td>8</td>\n",
       "      <td>MySQL news</td>\n",
       "      <td>None</td>\n",
       "      <td>https://t.me/mysql_news</td>\n",
       "      <td>None</td>\n",
       "      <td>1</td>\n",
       "      <td>b'\\x01'</td>\n",
       "      <td>2025-03-12 21:18:27</td>\n",
       "    </tr>\n",
       "  </tbody>\n",
       "</table>\n",
       "</div>"
      ],
      "text/plain": [
       "   id             title  icon              invite_link settings  \\\n",
       "0   1  General SQL news  None  https://t.me/mysql_news     None   \n",
       "1   2        MySQL news  None  https://t.me/mysql_news     None   \n",
       "2   3        MySQL news  None  https://t.me/mysql_news     None   \n",
       "3   4        MySQL news  None  https://t.me/mysql_news     None   \n",
       "4   5        MySQL news  None  https://t.me/mysql_news     None   \n",
       "5   6        MySQL news  None  https://t.me/mysql_news     None   \n",
       "6   7        MySQL news  None  https://t.me/mysql_news     None   \n",
       "7   8        MySQL news  None  https://t.me/mysql_news     None   \n",
       "\n",
       "   owner_user_id is_private          created_at  \n",
       "0              1    b'\\x01' 2025-03-12 20:44:28  \n",
       "1              1    b'\\x01' 2025-03-12 20:46:10  \n",
       "2              1    b'\\x01' 2025-03-12 20:46:35  \n",
       "3              1    b'\\x01' 2025-03-12 20:46:49  \n",
       "4              1    b'\\x01' 2025-03-12 20:54:59  \n",
       "5              1    b'\\x01' 2025-03-12 20:56:35  \n",
       "6              1    b'\\x01' 2025-03-12 21:11:15  \n",
       "7              1    b'\\x01' 2025-03-12 21:18:27  "
      ]
     },
     "metadata": {},
     "output_type": "display_data"
    },
    {
     "name": "stdout",
     "output_type": "stream",
     "text": [
      "Succesfully connect\n",
      "####################\n",
      "SELECT * succesfully\n"
     ]
    },
    {
     "data": {
      "text/html": [
       "<div>\n",
       "<style scoped>\n",
       "    .dataframe tbody tr th:only-of-type {\n",
       "        vertical-align: middle;\n",
       "    }\n",
       "\n",
       "    .dataframe tbody tr th {\n",
       "        vertical-align: top;\n",
       "    }\n",
       "\n",
       "    .dataframe thead th {\n",
       "        text-align: right;\n",
       "    }\n",
       "</style>\n",
       "<table border=\"1\" class=\"dataframe\">\n",
       "  <thead>\n",
       "    <tr style=\"text-align: right;\">\n",
       "      <th></th>\n",
       "      <th>id</th>\n",
       "      <th>title</th>\n",
       "      <th>icon</th>\n",
       "      <th>invite_link</th>\n",
       "      <th>settings</th>\n",
       "      <th>owner_user_id</th>\n",
       "      <th>is_private</th>\n",
       "      <th>created_at</th>\n",
       "    </tr>\n",
       "  </thead>\n",
       "  <tbody>\n",
       "    <tr>\n",
       "      <th>0</th>\n",
       "      <td>1</td>\n",
       "      <td>General SQL news</td>\n",
       "      <td>None</td>\n",
       "      <td>https://t.me/mysql_news</td>\n",
       "      <td>None</td>\n",
       "      <td>1</td>\n",
       "      <td>b'\\x01'</td>\n",
       "      <td>2025-03-12 20:44:28</td>\n",
       "    </tr>\n",
       "    <tr>\n",
       "      <th>1</th>\n",
       "      <td>2</td>\n",
       "      <td>MySQL news</td>\n",
       "      <td>None</td>\n",
       "      <td>https://t.me/mysql_news</td>\n",
       "      <td>None</td>\n",
       "      <td>1</td>\n",
       "      <td>b'\\x01'</td>\n",
       "      <td>2025-03-12 20:46:10</td>\n",
       "    </tr>\n",
       "    <tr>\n",
       "      <th>2</th>\n",
       "      <td>3</td>\n",
       "      <td>MySQL news</td>\n",
       "      <td>None</td>\n",
       "      <td>https://t.me/mysql_news</td>\n",
       "      <td>None</td>\n",
       "      <td>1</td>\n",
       "      <td>b'\\x01'</td>\n",
       "      <td>2025-03-12 20:46:35</td>\n",
       "    </tr>\n",
       "    <tr>\n",
       "      <th>3</th>\n",
       "      <td>4</td>\n",
       "      <td>MySQL news</td>\n",
       "      <td>None</td>\n",
       "      <td>https://t.me/mysql_news</td>\n",
       "      <td>None</td>\n",
       "      <td>1</td>\n",
       "      <td>b'\\x01'</td>\n",
       "      <td>2025-03-12 20:46:49</td>\n",
       "    </tr>\n",
       "    <tr>\n",
       "      <th>4</th>\n",
       "      <td>5</td>\n",
       "      <td>MySQL news</td>\n",
       "      <td>None</td>\n",
       "      <td>https://t.me/mysql_news</td>\n",
       "      <td>None</td>\n",
       "      <td>1</td>\n",
       "      <td>b'\\x01'</td>\n",
       "      <td>2025-03-12 20:54:59</td>\n",
       "    </tr>\n",
       "    <tr>\n",
       "      <th>5</th>\n",
       "      <td>6</td>\n",
       "      <td>MySQL news</td>\n",
       "      <td>None</td>\n",
       "      <td>https://t.me/mysql_news</td>\n",
       "      <td>None</td>\n",
       "      <td>1</td>\n",
       "      <td>b'\\x01'</td>\n",
       "      <td>2025-03-12 20:56:35</td>\n",
       "    </tr>\n",
       "    <tr>\n",
       "      <th>6</th>\n",
       "      <td>7</td>\n",
       "      <td>MySQL news</td>\n",
       "      <td>None</td>\n",
       "      <td>https://t.me/mysql_news</td>\n",
       "      <td>None</td>\n",
       "      <td>1</td>\n",
       "      <td>b'\\x01'</td>\n",
       "      <td>2025-03-12 21:11:15</td>\n",
       "    </tr>\n",
       "    <tr>\n",
       "      <th>7</th>\n",
       "      <td>8</td>\n",
       "      <td>MySQL news</td>\n",
       "      <td>None</td>\n",
       "      <td>https://t.me/mysql_news</td>\n",
       "      <td>None</td>\n",
       "      <td>1</td>\n",
       "      <td>b'\\x01'</td>\n",
       "      <td>2025-03-12 21:18:27</td>\n",
       "    </tr>\n",
       "  </tbody>\n",
       "</table>\n",
       "</div>"
      ],
      "text/plain": [
       "   id             title  icon              invite_link settings  \\\n",
       "0   1  General SQL news  None  https://t.me/mysql_news     None   \n",
       "1   2        MySQL news  None  https://t.me/mysql_news     None   \n",
       "2   3        MySQL news  None  https://t.me/mysql_news     None   \n",
       "3   4        MySQL news  None  https://t.me/mysql_news     None   \n",
       "4   5        MySQL news  None  https://t.me/mysql_news     None   \n",
       "5   6        MySQL news  None  https://t.me/mysql_news     None   \n",
       "6   7        MySQL news  None  https://t.me/mysql_news     None   \n",
       "7   8        MySQL news  None  https://t.me/mysql_news     None   \n",
       "\n",
       "   owner_user_id is_private          created_at  \n",
       "0              1    b'\\x01' 2025-03-12 20:44:28  \n",
       "1              1    b'\\x01' 2025-03-12 20:46:10  \n",
       "2              1    b'\\x01' 2025-03-12 20:46:35  \n",
       "3              1    b'\\x01' 2025-03-12 20:46:49  \n",
       "4              1    b'\\x01' 2025-03-12 20:54:59  \n",
       "5              1    b'\\x01' 2025-03-12 20:56:35  \n",
       "6              1    b'\\x01' 2025-03-12 21:11:15  \n",
       "7              1    b'\\x01' 2025-03-12 21:18:27  "
      ]
     },
     "metadata": {},
     "output_type": "display_data"
    }
   ],
   "source": [
    "# Все каналы со словом 'sql' в названии\n",
    "select_query = \"\"\"\n",
    "SELECT *\n",
    "FROM channels \n",
    "WHERE  title LIKE '%sql%';\"\"\"\n",
    "\n",
    "display(pd.DataFrame(push(select_query)))\n",
    "\n",
    "select_query = \"\"\"\n",
    "SELECT *\n",
    "FROM channels \n",
    "WHERE  title LIKE '%SQL%';\"\"\"\n",
    "\n",
    "display(pd.DataFrame(push(select_query)))"
   ]
  },
  {
   "cell_type": "code",
   "execution_count": 711,
   "metadata": {},
   "outputs": [
    {
     "name": "stdout",
     "output_type": "stream",
     "text": [
      "Succesfully connect\n",
      "####################\n",
      "SELECT * succesfully\n"
     ]
    },
    {
     "data": {
      "text/html": [
       "<div>\n",
       "<style scoped>\n",
       "    .dataframe tbody tr th:only-of-type {\n",
       "        vertical-align: middle;\n",
       "    }\n",
       "\n",
       "    .dataframe tbody tr th {\n",
       "        vertical-align: top;\n",
       "    }\n",
       "\n",
       "    .dataframe thead th {\n",
       "        text-align: right;\n",
       "    }\n",
       "</style>\n",
       "<table border=\"1\" class=\"dataframe\">\n",
       "  <thead>\n",
       "    <tr style=\"text-align: right;\">\n",
       "      <th></th>\n",
       "    </tr>\n",
       "  </thead>\n",
       "  <tbody>\n",
       "  </tbody>\n",
       "</table>\n",
       "</div>"
      ],
      "text/plain": [
       "Empty DataFrame\n",
       "Columns: []\n",
       "Index: []"
      ]
     },
     "metadata": {},
     "output_type": "display_data"
    },
    {
     "name": "stdout",
     "output_type": "stream",
     "text": [
      "Succesfully connect\n",
      "####################\n",
      "SELECT * succesfully\n"
     ]
    },
    {
     "data": {
      "text/html": [
       "<div>\n",
       "<style scoped>\n",
       "    .dataframe tbody tr th:only-of-type {\n",
       "        vertical-align: middle;\n",
       "    }\n",
       "\n",
       "    .dataframe tbody tr th {\n",
       "        vertical-align: top;\n",
       "    }\n",
       "\n",
       "    .dataframe thead th {\n",
       "        text-align: right;\n",
       "    }\n",
       "</style>\n",
       "<table border=\"1\" class=\"dataframe\">\n",
       "  <thead>\n",
       "    <tr style=\"text-align: right;\">\n",
       "      <th></th>\n",
       "      <th>id</th>\n",
       "      <th>title</th>\n",
       "      <th>icon</th>\n",
       "      <th>invite_link</th>\n",
       "      <th>settings</th>\n",
       "      <th>owner_user_id</th>\n",
       "      <th>is_private</th>\n",
       "      <th>created_at</th>\n",
       "    </tr>\n",
       "  </thead>\n",
       "  <tbody>\n",
       "    <tr>\n",
       "      <th>0</th>\n",
       "      <td>1</td>\n",
       "      <td>General SQL news</td>\n",
       "      <td>None</td>\n",
       "      <td>https://t.me/mysql_news</td>\n",
       "      <td>None</td>\n",
       "      <td>1</td>\n",
       "      <td>b'\\x01'</td>\n",
       "      <td>2025-03-12 20:44:28</td>\n",
       "    </tr>\n",
       "    <tr>\n",
       "      <th>1</th>\n",
       "      <td>2</td>\n",
       "      <td>MySQL news</td>\n",
       "      <td>None</td>\n",
       "      <td>https://t.me/mysql_news</td>\n",
       "      <td>None</td>\n",
       "      <td>1</td>\n",
       "      <td>b'\\x01'</td>\n",
       "      <td>2025-03-12 20:46:10</td>\n",
       "    </tr>\n",
       "    <tr>\n",
       "      <th>2</th>\n",
       "      <td>3</td>\n",
       "      <td>MySQL news</td>\n",
       "      <td>None</td>\n",
       "      <td>https://t.me/mysql_news</td>\n",
       "      <td>None</td>\n",
       "      <td>1</td>\n",
       "      <td>b'\\x01'</td>\n",
       "      <td>2025-03-12 20:46:35</td>\n",
       "    </tr>\n",
       "    <tr>\n",
       "      <th>3</th>\n",
       "      <td>4</td>\n",
       "      <td>MySQL news</td>\n",
       "      <td>None</td>\n",
       "      <td>https://t.me/mysql_news</td>\n",
       "      <td>None</td>\n",
       "      <td>1</td>\n",
       "      <td>b'\\x01'</td>\n",
       "      <td>2025-03-12 20:46:49</td>\n",
       "    </tr>\n",
       "    <tr>\n",
       "      <th>4</th>\n",
       "      <td>5</td>\n",
       "      <td>MySQL news</td>\n",
       "      <td>None</td>\n",
       "      <td>https://t.me/mysql_news</td>\n",
       "      <td>None</td>\n",
       "      <td>1</td>\n",
       "      <td>b'\\x01'</td>\n",
       "      <td>2025-03-12 20:54:59</td>\n",
       "    </tr>\n",
       "    <tr>\n",
       "      <th>5</th>\n",
       "      <td>6</td>\n",
       "      <td>MySQL news</td>\n",
       "      <td>None</td>\n",
       "      <td>https://t.me/mysql_news</td>\n",
       "      <td>None</td>\n",
       "      <td>1</td>\n",
       "      <td>b'\\x01'</td>\n",
       "      <td>2025-03-12 20:56:35</td>\n",
       "    </tr>\n",
       "    <tr>\n",
       "      <th>6</th>\n",
       "      <td>7</td>\n",
       "      <td>MySQL news</td>\n",
       "      <td>None</td>\n",
       "      <td>https://t.me/mysql_news</td>\n",
       "      <td>None</td>\n",
       "      <td>1</td>\n",
       "      <td>b'\\x01'</td>\n",
       "      <td>2025-03-12 21:11:15</td>\n",
       "    </tr>\n",
       "    <tr>\n",
       "      <th>7</th>\n",
       "      <td>8</td>\n",
       "      <td>MySQL news</td>\n",
       "      <td>None</td>\n",
       "      <td>https://t.me/mysql_news</td>\n",
       "      <td>None</td>\n",
       "      <td>1</td>\n",
       "      <td>b'\\x01'</td>\n",
       "      <td>2025-03-12 21:18:27</td>\n",
       "    </tr>\n",
       "  </tbody>\n",
       "</table>\n",
       "</div>"
      ],
      "text/plain": [
       "   id             title  icon              invite_link settings  \\\n",
       "0   1  General SQL news  None  https://t.me/mysql_news     None   \n",
       "1   2        MySQL news  None  https://t.me/mysql_news     None   \n",
       "2   3        MySQL news  None  https://t.me/mysql_news     None   \n",
       "3   4        MySQL news  None  https://t.me/mysql_news     None   \n",
       "4   5        MySQL news  None  https://t.me/mysql_news     None   \n",
       "5   6        MySQL news  None  https://t.me/mysql_news     None   \n",
       "6   7        MySQL news  None  https://t.me/mysql_news     None   \n",
       "7   8        MySQL news  None  https://t.me/mysql_news     None   \n",
       "\n",
       "   owner_user_id is_private          created_at  \n",
       "0              1    b'\\x01' 2025-03-12 20:44:28  \n",
       "1              1    b'\\x01' 2025-03-12 20:46:10  \n",
       "2              1    b'\\x01' 2025-03-12 20:46:35  \n",
       "3              1    b'\\x01' 2025-03-12 20:46:49  \n",
       "4              1    b'\\x01' 2025-03-12 20:54:59  \n",
       "5              1    b'\\x01' 2025-03-12 20:56:35  \n",
       "6              1    b'\\x01' 2025-03-12 21:11:15  \n",
       "7              1    b'\\x01' 2025-03-12 21:18:27  "
      ]
     },
     "metadata": {},
     "output_type": "display_data"
    }
   ],
   "source": [
    "# Уточним регистр букв при фильтрации\n",
    "select_query = r\"\"\"\n",
    "SELECT *\n",
    "FROM channels \n",
    "WHERE  title COLLATE utf8mb4_0900_as_cs LIKE '%sql%';\"\"\"\n",
    "\n",
    "display(pd.DataFrame(push(select_query)))\n",
    "\n",
    "select_query = \"\"\"\n",
    "SELECT *\n",
    "FROM channels \n",
    "WHERE  title COLLATE utf8mb4_0900_as_cs LIKE '%SQL%';\"\"\"\n",
    "\n",
    "display(pd.DataFrame(push(select_query)))"
   ]
  },
  {
   "cell_type": "code",
   "execution_count": 712,
   "metadata": {},
   "outputs": [
    {
     "name": "stdout",
     "output_type": "stream",
     "text": [
      "Succesfully connect\n",
      "####################\n",
      "SELECT * succesfully\n"
     ]
    },
    {
     "data": {
      "text/html": [
       "<div>\n",
       "<style scoped>\n",
       "    .dataframe tbody tr th:only-of-type {\n",
       "        vertical-align: middle;\n",
       "    }\n",
       "\n",
       "    .dataframe tbody tr th {\n",
       "        vertical-align: top;\n",
       "    }\n",
       "\n",
       "    .dataframe thead th {\n",
       "        text-align: right;\n",
       "    }\n",
       "</style>\n",
       "<table border=\"1\" class=\"dataframe\">\n",
       "  <thead>\n",
       "    <tr style=\"text-align: right;\">\n",
       "      <th></th>\n",
       "      <th>id</th>\n",
       "      <th>firstname</th>\n",
       "      <th>lastname</th>\n",
       "      <th>login</th>\n",
       "      <th>email</th>\n",
       "      <th>password_hash</th>\n",
       "      <th>phone</th>\n",
       "      <th>is_deleted</th>\n",
       "    </tr>\n",
       "  </thead>\n",
       "  <tbody>\n",
       "    <tr>\n",
       "      <th>0</th>\n",
       "      <td>1</td>\n",
       "      <td>Kelsie</td>\n",
       "      <td>Olson</td>\n",
       "      <td>None</td>\n",
       "      <td>xheidenreich@example.net</td>\n",
       "      <td>None</td>\n",
       "      <td>9548492646</td>\n",
       "      <td>b'\\x00'</td>\n",
       "    </tr>\n",
       "  </tbody>\n",
       "</table>\n",
       "</div>"
      ],
      "text/plain": [
       "   id firstname lastname login                     email password_hash  \\\n",
       "0   1    Kelsie    Olson  None  xheidenreich@example.net          None   \n",
       "\n",
       "        phone is_deleted  \n",
       "0  9548492646    b'\\x00'  "
      ]
     },
     "metadata": {},
     "output_type": "display_data"
    }
   ],
   "source": [
    "# Пользователи с именами на букву ‘K’\n",
    "select_query = \"\"\"\n",
    "SELECT *\n",
    "FROM users \n",
    "WHERE firstname LIKE 'K%';\"\"\"\n",
    "\n",
    "display(pd.DataFrame(push(select_query)))"
   ]
  },
  {
   "cell_type": "code",
   "execution_count": 713,
   "metadata": {},
   "outputs": [
    {
     "name": "stdout",
     "output_type": "stream",
     "text": [
      "Succesfully connect\n",
      "####################\n",
      "SELECT * succesfully\n"
     ]
    },
    {
     "data": {
      "text/html": [
       "<div>\n",
       "<style scoped>\n",
       "    .dataframe tbody tr th:only-of-type {\n",
       "        vertical-align: middle;\n",
       "    }\n",
       "\n",
       "    .dataframe tbody tr th {\n",
       "        vertical-align: top;\n",
       "    }\n",
       "\n",
       "    .dataframe thead th {\n",
       "        text-align: right;\n",
       "    }\n",
       "</style>\n",
       "<table border=\"1\" class=\"dataframe\">\n",
       "  <thead>\n",
       "    <tr style=\"text-align: right;\">\n",
       "      <th></th>\n",
       "      <th>id</th>\n",
       "      <th>firstname</th>\n",
       "      <th>lastname</th>\n",
       "      <th>login</th>\n",
       "      <th>email</th>\n",
       "      <th>password_hash</th>\n",
       "      <th>phone</th>\n",
       "      <th>is_deleted</th>\n",
       "    </tr>\n",
       "  </thead>\n",
       "  <tbody>\n",
       "    <tr>\n",
       "      <th>0</th>\n",
       "      <td>5</td>\n",
       "      <td>Lori</td>\n",
       "      <td>Koch</td>\n",
       "      <td>None</td>\n",
       "      <td>damaris34@example.net</td>\n",
       "      <td>None</td>\n",
       "      <td>9192291407</td>\n",
       "      <td>b'\\x00'</td>\n",
       "    </tr>\n",
       "    <tr>\n",
       "      <th>1</th>\n",
       "      <td>100</td>\n",
       "      <td>Sam2</td>\n",
       "      <td>Kuphal2</td>\n",
       "      <td>None</td>\n",
       "      <td>telly.miller222@example.net</td>\n",
       "      <td>None</td>\n",
       "      <td>9917826222</td>\n",
       "      <td>b'\\x00'</td>\n",
       "    </tr>\n",
       "  </tbody>\n",
       "</table>\n",
       "</div>"
      ],
      "text/plain": [
       "    id firstname lastname login                        email password_hash  \\\n",
       "0    5      Lori     Koch  None        damaris34@example.net          None   \n",
       "1  100      Sam2  Kuphal2  None  telly.miller222@example.net          None   \n",
       "\n",
       "        phone is_deleted  \n",
       "0  9192291407    b'\\x00'  \n",
       "1  9917826222    b'\\x00'  "
      ]
     },
     "metadata": {},
     "output_type": "display_data"
    }
   ],
   "source": [
    "# Пользователи с фамилией из 4 букв\n",
    "select_query = \"\"\"\n",
    "SELECT *\n",
    "FROM users \n",
    "WHERE firstname LIKE '____';\"\"\"\n",
    "\n",
    "display(pd.DataFrame(push(select_query)))"
   ]
  },
  {
   "cell_type": "markdown",
   "metadata": {},
   "source": [
    "## 4.2 Сортировка (ORDER BY)"
   ]
  },
  {
   "cell_type": "code",
   "execution_count": 724,
   "metadata": {},
   "outputs": [
    {
     "name": "stdout",
     "output_type": "stream",
     "text": [
      "Succesfully connect\n",
      "####################\n",
      "INSERT INTO succesfully\n"
     ]
    }
   ],
   "source": [
    "# Генерация данных\n",
    "insert_query = \"\"\"\n",
    "INSERT INTO `private_messages`(sender_id, receiver_id, media_type, body, filename, created_at)\n",
    "VALUES\n",
    "(1,2,'text','Eveniet suscipit ullam occaecati consequatur hic. Nulla est in molestiae odit. Placeat perferendis consequatur qui omnis id vel autem.','officiis','2010-04-07 09:01:02'),\n",
    "(2,1,'audio','Non repudiandae maiores molestiae vel doloribus. Quis facere blanditiis est magnam est ut vero.','qui','1971-05-29 07:31:20'),\n",
    "(1,3,'text','Voluptas qui consequatur quae sunt et consequatur. Rem alias sed cupiditate explicabo voluptate. Officiis repellat porro accusamus eveniet quos. Laborum dolores sed enim aut.','excepturi','1998-10-28 20:08:01'),\n",
    "(1,4,'video','Est delectus tempora exercitationem atque tempora reiciendis nulla voluptatem. Cupiditate non fugit blanditiis quasi ad et autem expedita. Aut est provident odio quasi possimus.','vitae','2001-12-03 15:54:43'),\n",
    "(1,2,'video','Est ducimus amet et asperiores. Reiciendis debitis qui ipsa. Nemo laboriosam ea aut omnis voluptates quisquam accusantium. Quibusdam totam similique aut.','optio','1970-09-18 20:39:35'),\n",
    "(1,2,'video','Quis cupiditate quis maxime et placeat consectetur ut quis. Voluptas unde voluptatem deserunt in dolorum maxime. Sunt fugiat sit tenetur placeat at.','laboriosam','1980-05-11 03:39:43'),\n",
    "(2,1,'audio','Voluptatum nihil rem laboriosam delectus aperiam consequuntur et modi. Laudantium molestias corporis quo omnis ut ea. At minima iure et voluptatum culpa deleniti non. Sint laboriosam molestias dolor vel. Quibusdam omnis quas ullam dolor.','sit','1988-08-19 10:30:44'),\n",
    "(2,4,'audio','Nemo eos sed aspernatur voluptates perspiciatis tenetur. Voluptas sunt magnam vero nam earum. Magnam eum vitae qui. Vel atque accusantium in non rem non et.','consectetur','1984-06-28 16:22:44'),\n",
    "(4,5,'audio','Quod nihil possimus id qui. Quasi officia rerum eum doloribus est voluptas maxime. Et debitis enim non enim fugit.','repellat','1981-12-11 16:04:11'),\n",
    "(3,1,'text','Qui voluptatem earum temporibus rem vel sequi. Et quasi vel qui est autem aliquam. Modi est voluptatem aut rerum ea velit. Voluptate et eligendi debitis nostrum nihil dolorum.','nihil','1988-02-16 13:29:14'),\n",
    "(3,2,'image','Rem et ullam cum vitae autem reprehenderit quia. Enim a ipsam id ut aliquam est error. Quis dolorum omnis expedita eaque maiores illo.','et','2015-04-07 18:02:42')\n",
    ";\"\"\"\n",
    "push(insert_query)"
   ]
  },
  {
   "cell_type": "code",
   "execution_count": 725,
   "metadata": {},
   "outputs": [
    {
     "name": "stdout",
     "output_type": "stream",
     "text": [
      "Succesfully connect\n",
      "####################\n",
      "SELECT * succesfully\n"
     ]
    },
    {
     "data": {
      "text/html": [
       "<div>\n",
       "<style scoped>\n",
       "    .dataframe tbody tr th:only-of-type {\n",
       "        vertical-align: middle;\n",
       "    }\n",
       "\n",
       "    .dataframe tbody tr th {\n",
       "        vertical-align: top;\n",
       "    }\n",
       "\n",
       "    .dataframe thead th {\n",
       "        text-align: right;\n",
       "    }\n",
       "</style>\n",
       "<table border=\"1\" class=\"dataframe\">\n",
       "  <thead>\n",
       "    <tr style=\"text-align: right;\">\n",
       "      <th></th>\n",
       "      <th>id</th>\n",
       "      <th>sender_id</th>\n",
       "      <th>receiver_id</th>\n",
       "      <th>reply_to_id</th>\n",
       "      <th>media_type</th>\n",
       "      <th>body</th>\n",
       "      <th>filename</th>\n",
       "      <th>created_at</th>\n",
       "      <th>is_deleted</th>\n",
       "      <th>is_read</th>\n",
       "    </tr>\n",
       "  </thead>\n",
       "  <tbody>\n",
       "    <tr>\n",
       "      <th>0</th>\n",
       "      <td>12</td>\n",
       "      <td>1</td>\n",
       "      <td>2</td>\n",
       "      <td>None</td>\n",
       "      <td>text</td>\n",
       "      <td>Eveniet suscipit ullam occaecati consequatur h...</td>\n",
       "      <td>officiis</td>\n",
       "      <td>2010-04-07 09:01:02</td>\n",
       "      <td>b'\\x00'</td>\n",
       "      <td>b'\\x00'</td>\n",
       "    </tr>\n",
       "    <tr>\n",
       "      <th>1</th>\n",
       "      <td>14</td>\n",
       "      <td>1</td>\n",
       "      <td>3</td>\n",
       "      <td>None</td>\n",
       "      <td>text</td>\n",
       "      <td>Voluptas qui consequatur quae sunt et consequa...</td>\n",
       "      <td>excepturi</td>\n",
       "      <td>1998-10-28 20:08:01</td>\n",
       "      <td>b'\\x00'</td>\n",
       "      <td>b'\\x00'</td>\n",
       "    </tr>\n",
       "    <tr>\n",
       "      <th>2</th>\n",
       "      <td>15</td>\n",
       "      <td>1</td>\n",
       "      <td>4</td>\n",
       "      <td>None</td>\n",
       "      <td>video</td>\n",
       "      <td>Est delectus tempora exercitationem atque temp...</td>\n",
       "      <td>vitae</td>\n",
       "      <td>2001-12-03 15:54:43</td>\n",
       "      <td>b'\\x00'</td>\n",
       "      <td>b'\\x00'</td>\n",
       "    </tr>\n",
       "    <tr>\n",
       "      <th>3</th>\n",
       "      <td>16</td>\n",
       "      <td>1</td>\n",
       "      <td>2</td>\n",
       "      <td>None</td>\n",
       "      <td>video</td>\n",
       "      <td>Est ducimus amet et asperiores. Reiciendis deb...</td>\n",
       "      <td>optio</td>\n",
       "      <td>1970-09-18 20:39:35</td>\n",
       "      <td>b'\\x00'</td>\n",
       "      <td>b'\\x00'</td>\n",
       "    </tr>\n",
       "    <tr>\n",
       "      <th>4</th>\n",
       "      <td>17</td>\n",
       "      <td>1</td>\n",
       "      <td>2</td>\n",
       "      <td>None</td>\n",
       "      <td>video</td>\n",
       "      <td>Quis cupiditate quis maxime et placeat consect...</td>\n",
       "      <td>laboriosam</td>\n",
       "      <td>1980-05-11 03:39:43</td>\n",
       "      <td>b'\\x00'</td>\n",
       "      <td>b'\\x00'</td>\n",
       "    </tr>\n",
       "  </tbody>\n",
       "</table>\n",
       "</div>"
      ],
      "text/plain": [
       "   id  sender_id  receiver_id reply_to_id media_type  \\\n",
       "0  12          1            2        None       text   \n",
       "1  14          1            3        None       text   \n",
       "2  15          1            4        None      video   \n",
       "3  16          1            2        None      video   \n",
       "4  17          1            2        None      video   \n",
       "\n",
       "                                                body    filename  \\\n",
       "0  Eveniet suscipit ullam occaecati consequatur h...    officiis   \n",
       "1  Voluptas qui consequatur quae sunt et consequa...   excepturi   \n",
       "2  Est delectus tempora exercitationem atque temp...       vitae   \n",
       "3  Est ducimus amet et asperiores. Reiciendis deb...       optio   \n",
       "4  Quis cupiditate quis maxime et placeat consect...  laboriosam   \n",
       "\n",
       "           created_at is_deleted  is_read  \n",
       "0 2010-04-07 09:01:02    b'\\x00'  b'\\x00'  \n",
       "1 1998-10-28 20:08:01    b'\\x00'  b'\\x00'  \n",
       "2 2001-12-03 15:54:43    b'\\x00'  b'\\x00'  \n",
       "3 1970-09-18 20:39:35    b'\\x00'  b'\\x00'  \n",
       "4 1980-05-11 03:39:43    b'\\x00'  b'\\x00'  "
      ]
     },
     "metadata": {},
     "output_type": "display_data"
    },
    {
     "name": "stdout",
     "output_type": "stream",
     "text": [
      "Succesfully connect\n",
      "####################\n",
      "SELECT * succesfully\n"
     ]
    },
    {
     "data": {
      "text/html": [
       "<div>\n",
       "<style scoped>\n",
       "    .dataframe tbody tr th:only-of-type {\n",
       "        vertical-align: middle;\n",
       "    }\n",
       "\n",
       "    .dataframe tbody tr th {\n",
       "        vertical-align: top;\n",
       "    }\n",
       "\n",
       "    .dataframe thead th {\n",
       "        text-align: right;\n",
       "    }\n",
       "</style>\n",
       "<table border=\"1\" class=\"dataframe\">\n",
       "  <thead>\n",
       "    <tr style=\"text-align: right;\">\n",
       "      <th></th>\n",
       "      <th>id</th>\n",
       "      <th>sender_id</th>\n",
       "      <th>receiver_id</th>\n",
       "      <th>reply_to_id</th>\n",
       "      <th>media_type</th>\n",
       "      <th>body</th>\n",
       "      <th>filename</th>\n",
       "      <th>created_at</th>\n",
       "      <th>is_deleted</th>\n",
       "      <th>is_read</th>\n",
       "    </tr>\n",
       "  </thead>\n",
       "  <tbody>\n",
       "    <tr>\n",
       "      <th>0</th>\n",
       "      <td>13</td>\n",
       "      <td>2</td>\n",
       "      <td>1</td>\n",
       "      <td>None</td>\n",
       "      <td>audio</td>\n",
       "      <td>Non repudiandae maiores molestiae vel doloribu...</td>\n",
       "      <td>qui</td>\n",
       "      <td>1971-05-29 07:31:20</td>\n",
       "      <td>b'\\x00'</td>\n",
       "      <td>b'\\x00'</td>\n",
       "    </tr>\n",
       "    <tr>\n",
       "      <th>1</th>\n",
       "      <td>18</td>\n",
       "      <td>2</td>\n",
       "      <td>1</td>\n",
       "      <td>None</td>\n",
       "      <td>audio</td>\n",
       "      <td>Voluptatum nihil rem laboriosam delectus aperi...</td>\n",
       "      <td>sit</td>\n",
       "      <td>1988-08-19 10:30:44</td>\n",
       "      <td>b'\\x00'</td>\n",
       "      <td>b'\\x00'</td>\n",
       "    </tr>\n",
       "    <tr>\n",
       "      <th>2</th>\n",
       "      <td>21</td>\n",
       "      <td>3</td>\n",
       "      <td>1</td>\n",
       "      <td>None</td>\n",
       "      <td>text</td>\n",
       "      <td>Qui voluptatem earum temporibus rem vel sequi....</td>\n",
       "      <td>nihil</td>\n",
       "      <td>1988-02-16 13:29:14</td>\n",
       "      <td>b'\\x00'</td>\n",
       "      <td>b'\\x00'</td>\n",
       "    </tr>\n",
       "  </tbody>\n",
       "</table>\n",
       "</div>"
      ],
      "text/plain": [
       "   id  sender_id  receiver_id reply_to_id media_type  \\\n",
       "0  13          2            1        None      audio   \n",
       "1  18          2            1        None      audio   \n",
       "2  21          3            1        None       text   \n",
       "\n",
       "                                                body filename  \\\n",
       "0  Non repudiandae maiores molestiae vel doloribu...      qui   \n",
       "1  Voluptatum nihil rem laboriosam delectus aperi...      sit   \n",
       "2  Qui voluptatem earum temporibus rem vel sequi....    nihil   \n",
       "\n",
       "           created_at is_deleted  is_read  \n",
       "0 1971-05-29 07:31:20    b'\\x00'  b'\\x00'  \n",
       "1 1988-08-19 10:30:44    b'\\x00'  b'\\x00'  \n",
       "2 1988-02-16 13:29:14    b'\\x00'  b'\\x00'  "
      ]
     },
     "metadata": {},
     "output_type": "display_data"
    }
   ],
   "source": [
    "# личные сообщения\n",
    "select_query = \"\"\"\n",
    "SELECT *\n",
    "FROM private_messages \n",
    "WHERE sender_id = 1;\"\"\"\n",
    "\n",
    "display(pd.DataFrame(push(select_query)))\n",
    "\n",
    "select_query = \"\"\"\n",
    "SELECT *\n",
    "FROM private_messages \n",
    "WHERE receiver_id = 1;\"\"\"\n",
    "\n",
    "display(pd.DataFrame(push(select_query)))"
   ]
  },
  {
   "cell_type": "code",
   "execution_count": 726,
   "metadata": {},
   "outputs": [
    {
     "name": "stdout",
     "output_type": "stream",
     "text": [
      "Succesfully connect\n",
      "####################\n",
      "SELECT * succesfully\n"
     ]
    },
    {
     "data": {
      "text/html": [
       "<div>\n",
       "<style scoped>\n",
       "    .dataframe tbody tr th:only-of-type {\n",
       "        vertical-align: middle;\n",
       "    }\n",
       "\n",
       "    .dataframe tbody tr th {\n",
       "        vertical-align: top;\n",
       "    }\n",
       "\n",
       "    .dataframe thead th {\n",
       "        text-align: right;\n",
       "    }\n",
       "</style>\n",
       "<table border=\"1\" class=\"dataframe\">\n",
       "  <thead>\n",
       "    <tr style=\"text-align: right;\">\n",
       "      <th></th>\n",
       "      <th>id</th>\n",
       "      <th>sender_id</th>\n",
       "      <th>receiver_id</th>\n",
       "      <th>reply_to_id</th>\n",
       "      <th>media_type</th>\n",
       "      <th>body</th>\n",
       "      <th>filename</th>\n",
       "      <th>created_at</th>\n",
       "      <th>is_deleted</th>\n",
       "      <th>is_read</th>\n",
       "    </tr>\n",
       "  </thead>\n",
       "  <tbody>\n",
       "    <tr>\n",
       "      <th>0</th>\n",
       "      <td>12</td>\n",
       "      <td>1</td>\n",
       "      <td>2</td>\n",
       "      <td>None</td>\n",
       "      <td>text</td>\n",
       "      <td>Eveniet suscipit ullam occaecati consequatur h...</td>\n",
       "      <td>officiis</td>\n",
       "      <td>2010-04-07 09:01:02</td>\n",
       "      <td>b'\\x00'</td>\n",
       "      <td>b'\\x00'</td>\n",
       "    </tr>\n",
       "    <tr>\n",
       "      <th>1</th>\n",
       "      <td>18</td>\n",
       "      <td>2</td>\n",
       "      <td>1</td>\n",
       "      <td>None</td>\n",
       "      <td>audio</td>\n",
       "      <td>Voluptatum nihil rem laboriosam delectus aperi...</td>\n",
       "      <td>sit</td>\n",
       "      <td>1988-08-19 10:30:44</td>\n",
       "      <td>b'\\x00'</td>\n",
       "      <td>b'\\x00'</td>\n",
       "    </tr>\n",
       "    <tr>\n",
       "      <th>2</th>\n",
       "      <td>17</td>\n",
       "      <td>1</td>\n",
       "      <td>2</td>\n",
       "      <td>None</td>\n",
       "      <td>video</td>\n",
       "      <td>Quis cupiditate quis maxime et placeat consect...</td>\n",
       "      <td>laboriosam</td>\n",
       "      <td>1980-05-11 03:39:43</td>\n",
       "      <td>b'\\x00'</td>\n",
       "      <td>b'\\x00'</td>\n",
       "    </tr>\n",
       "    <tr>\n",
       "      <th>3</th>\n",
       "      <td>13</td>\n",
       "      <td>2</td>\n",
       "      <td>1</td>\n",
       "      <td>None</td>\n",
       "      <td>audio</td>\n",
       "      <td>Non repudiandae maiores molestiae vel doloribu...</td>\n",
       "      <td>qui</td>\n",
       "      <td>1971-05-29 07:31:20</td>\n",
       "      <td>b'\\x00'</td>\n",
       "      <td>b'\\x00'</td>\n",
       "    </tr>\n",
       "    <tr>\n",
       "      <th>4</th>\n",
       "      <td>16</td>\n",
       "      <td>1</td>\n",
       "      <td>2</td>\n",
       "      <td>None</td>\n",
       "      <td>video</td>\n",
       "      <td>Est ducimus amet et asperiores. Reiciendis deb...</td>\n",
       "      <td>optio</td>\n",
       "      <td>1970-09-18 20:39:35</td>\n",
       "      <td>b'\\x00'</td>\n",
       "      <td>b'\\x00'</td>\n",
       "    </tr>\n",
       "  </tbody>\n",
       "</table>\n",
       "</div>"
      ],
      "text/plain": [
       "   id  sender_id  receiver_id reply_to_id media_type  \\\n",
       "0  12          1            2        None       text   \n",
       "1  18          2            1        None      audio   \n",
       "2  17          1            2        None      video   \n",
       "3  13          2            1        None      audio   \n",
       "4  16          1            2        None      video   \n",
       "\n",
       "                                                body    filename  \\\n",
       "0  Eveniet suscipit ullam occaecati consequatur h...    officiis   \n",
       "1  Voluptatum nihil rem laboriosam delectus aperi...         sit   \n",
       "2  Quis cupiditate quis maxime et placeat consect...  laboriosam   \n",
       "3  Non repudiandae maiores molestiae vel doloribu...         qui   \n",
       "4  Est ducimus amet et asperiores. Reiciendis deb...       optio   \n",
       "\n",
       "           created_at is_deleted  is_read  \n",
       "0 2010-04-07 09:01:02    b'\\x00'  b'\\x00'  \n",
       "1 1988-08-19 10:30:44    b'\\x00'  b'\\x00'  \n",
       "2 1980-05-11 03:39:43    b'\\x00'  b'\\x00'  \n",
       "3 1971-05-29 07:31:20    b'\\x00'  b'\\x00'  \n",
       "4 1970-09-18 20:39:35    b'\\x00'  b'\\x00'  "
      ]
     },
     "metadata": {},
     "output_type": "display_data"
    }
   ],
   "source": [
    "# диалог между user_id = 1 и user_id = 2\n",
    "select_query = \"\"\"\n",
    "SELECT *\n",
    "FROM private_messages \n",
    "WHERE sender_id = 1 AND receiver_id = 2 \n",
    "    OR sender_id = 2 AND receiver_id = 1\n",
    "ORDER BY created_at desc;\"\"\"\n",
    "\n",
    "display(pd.DataFrame(push(select_query)))"
   ]
  },
  {
   "cell_type": "code",
   "execution_count": 727,
   "metadata": {},
   "outputs": [
    {
     "name": "stdout",
     "output_type": "stream",
     "text": [
      "Succesfully connect\n",
      "####################\n",
      "Connection refused...\n",
      "(1060, \"Duplicate column name 'is_read'\")\n"
     ]
    }
   ],
   "source": [
    "#\tнепрочитанные сообщения\n",
    "\n",
    "# добавим колонку is_read DEFAULT FALSE\n",
    "add_column_query = \"\"\"\n",
    "ALTER TABLE private_messages\n",
    "ADD COLUMN is_read BIT DEFAULT false NOT NULL;\"\"\"\n",
    "\n",
    "push(add_column_query)"
   ]
  },
  {
   "cell_type": "code",
   "execution_count": 728,
   "metadata": {},
   "outputs": [
    {
     "name": "stdout",
     "output_type": "stream",
     "text": [
      "Succesfully connect\n",
      "####################\n",
      "SELECT COUNT(*) succesfully\n"
     ]
    },
    {
     "data": {
      "text/html": [
       "<div>\n",
       "<style scoped>\n",
       "    .dataframe tbody tr th:only-of-type {\n",
       "        vertical-align: middle;\n",
       "    }\n",
       "\n",
       "    .dataframe tbody tr th {\n",
       "        vertical-align: top;\n",
       "    }\n",
       "\n",
       "    .dataframe thead th {\n",
       "        text-align: right;\n",
       "    }\n",
       "</style>\n",
       "<table border=\"1\" class=\"dataframe\">\n",
       "  <thead>\n",
       "    <tr style=\"text-align: right;\">\n",
       "      <th></th>\n",
       "      <th>COUNT(*)</th>\n",
       "    </tr>\n",
       "  </thead>\n",
       "  <tbody>\n",
       "    <tr>\n",
       "      <th>0</th>\n",
       "      <td>2</td>\n",
       "    </tr>\n",
       "  </tbody>\n",
       "</table>\n",
       "</div>"
      ],
      "text/plain": [
       "   COUNT(*)\n",
       "0         2"
      ]
     },
     "metadata": {},
     "output_type": "display_data"
    }
   ],
   "source": [
    "# сколько у меня непрочитанных сообщений от пользователя Х\n",
    "select_query = \"\"\"\n",
    "SELECT COUNT(*)\n",
    "FROM private_messages \n",
    "WHERE sender_id = 2 and receiver_id = 1\n",
    "\tAND is_read = 0;\"\"\"\n",
    "\n",
    "display(pd.DataFrame(push(select_query)))"
   ]
  },
  {
   "cell_type": "code",
   "execution_count": 729,
   "metadata": {},
   "outputs": [
    {
     "name": "stdout",
     "output_type": "stream",
     "text": [
      "Succesfully connect\n",
      "####################\n",
      "SELECT COUNT(*) succesfully\n"
     ]
    },
    {
     "data": {
      "text/html": [
       "<div>\n",
       "<style scoped>\n",
       "    .dataframe tbody tr th:only-of-type {\n",
       "        vertical-align: middle;\n",
       "    }\n",
       "\n",
       "    .dataframe tbody tr th {\n",
       "        vertical-align: top;\n",
       "    }\n",
       "\n",
       "    .dataframe thead th {\n",
       "        text-align: right;\n",
       "    }\n",
       "</style>\n",
       "<table border=\"1\" class=\"dataframe\">\n",
       "  <thead>\n",
       "    <tr style=\"text-align: right;\">\n",
       "      <th></th>\n",
       "      <th>COUNT(*)</th>\n",
       "    </tr>\n",
       "  </thead>\n",
       "  <tbody>\n",
       "    <tr>\n",
       "      <th>0</th>\n",
       "      <td>3</td>\n",
       "    </tr>\n",
       "  </tbody>\n",
       "</table>\n",
       "</div>"
      ],
      "text/plain": [
       "   COUNT(*)\n",
       "0         3"
      ]
     },
     "metadata": {},
     "output_type": "display_data"
    }
   ],
   "source": [
    "# сколько у меня всего непрочитанных сообщений\n",
    "select_query = \"\"\"\n",
    "SELECT COUNT(*)\n",
    "FROM private_messages \n",
    "WHERE receiver_id = 1 \n",
    "\tAND is_read = 0;\"\"\"\n",
    "\n",
    "display(pd.DataFrame(push(select_query)))"
   ]
  },
  {
   "cell_type": "code",
   "execution_count": 730,
   "metadata": {},
   "outputs": [
    {
     "name": "stdout",
     "output_type": "stream",
     "text": [
      "Succesfully connect\n",
      "####################\n",
      "UPDATE private_messages succesfully\n"
     ]
    }
   ],
   "source": [
    "# отметим сообщения, как прочитанные\n",
    "# эмулируем ситуацию, что пользователь прочитал определенный диалог\n",
    "\n",
    "update_query = \"\"\"\n",
    "UPDATE private_messages\n",
    "SET is_read = 1\n",
    "WHERE receiver_id = 1 AND sender_id = 2;\"\"\"\n",
    "\n",
    "push(update_query)"
   ]
  },
  {
   "cell_type": "code",
   "execution_count": 731,
   "metadata": {},
   "outputs": [
    {
     "name": "stdout",
     "output_type": "stream",
     "text": [
      "Succesfully connect\n",
      "####################\n",
      "SELECT COUNT(*) succesfully\n"
     ]
    },
    {
     "data": {
      "text/html": [
       "<div>\n",
       "<style scoped>\n",
       "    .dataframe tbody tr th:only-of-type {\n",
       "        vertical-align: middle;\n",
       "    }\n",
       "\n",
       "    .dataframe tbody tr th {\n",
       "        vertical-align: top;\n",
       "    }\n",
       "\n",
       "    .dataframe thead th {\n",
       "        text-align: right;\n",
       "    }\n",
       "</style>\n",
       "<table border=\"1\" class=\"dataframe\">\n",
       "  <thead>\n",
       "    <tr style=\"text-align: right;\">\n",
       "      <th></th>\n",
       "      <th>COUNT(*)</th>\n",
       "    </tr>\n",
       "  </thead>\n",
       "  <tbody>\n",
       "    <tr>\n",
       "      <th>0</th>\n",
       "      <td>1</td>\n",
       "    </tr>\n",
       "  </tbody>\n",
       "</table>\n",
       "</div>"
      ],
      "text/plain": [
       "   COUNT(*)\n",
       "0         1"
      ]
     },
     "metadata": {},
     "output_type": "display_data"
    }
   ],
   "source": [
    "# сколько у меня всего непрочитанных сообщений\n",
    "select_query = \"\"\"\n",
    "SELECT COUNT(*)\n",
    "FROM private_messages \n",
    "WHERE receiver_id = 1 \n",
    "\tAND is_read = 0;\"\"\"\n",
    "\n",
    "display(pd.DataFrame(push(select_query)))"
   ]
  },
  {
   "cell_type": "markdown",
   "metadata": {},
   "source": [
    "## 4.3 Агрегирующие функции (COUNT, MIN, MAX, AVG, SUM)"
   ]
  },
  {
   "cell_type": "code",
   "execution_count": null,
   "metadata": {},
   "outputs": [],
   "source": []
  },
  {
   "cell_type": "code",
   "execution_count": null,
   "metadata": {},
   "outputs": [],
   "source": []
  },
  {
   "cell_type": "code",
   "execution_count": null,
   "metadata": {},
   "outputs": [],
   "source": [
    "# диалог между user_id = 1 и user_id = 2\n",
    "SELECT *\n",
    "FROM private_messages \n",
    "WHERE (sender_id = 1 AND receiver_id = 2 \n",
    "    OR sender_id = 2 AND receiver_id = 1) AND media_type = 'image'\n",
    ";\n",
    "\n",
    "# сколько у меня непрочитанных сообщений от пользователя Х\n",
    "SELECT COUNT(*)\n",
    "from private_messages \n",
    "WHERE sender_id = 29 AND receiver_id = 1\n",
    "\tAND is_read = 0;\n",
    "\n",
    "\n",
    "# сколько у меня всего непрочитанных сообщений \n",
    "SELECT COUNT(*)\n",
    "FROM private_messages \n",
    "WHERE receiver_id = 1 \n",
    "\tAND is_read = 0;\n",
    "\n",
    "\n",
    "# COUNT, MIN, MAX, AVG, SUM\n",
    "# год рождения каждого пользователя\n",
    "SELECT YEAR(birthday)\n",
    "FROM users;\n",
    "\n",
    "# год рождения самого старшего пользователя\n",
    "SELECT MIN(YEAR(birthday))\n",
    "FROM users;\n",
    "\n",
    "# год рождения самого младшего пользователя\n",
    "SELECT MAX(YEAR(birthday))\n",
    "FROM users;\n",
    "\n",
    "# среднее значение года рождения\n",
    "SELECT AVG(YEAR(birthday))\n",
    "FROM users;\n",
    "\n",
    "# округлим предыдущее значение\n",
    "SELECT ROUND(AVG(YEAR(birthday)))\n",
    "FROM users;\n",
    "\n",
    "# сумма, потраченная на покупки покупателем номер 1\n",
    "# запрос к БД sakila\n",
    "SELECT SUM(amount)\n",
    "FROM sakila.payment\n",
    "WHERE customer_id = 1;"
   ]
  },
  {
   "cell_type": "markdown",
   "metadata": {},
   "source": [
    "## 4.4 Группировка (GROUP BY)"
   ]
  },
  {
   "cell_type": "code",
   "execution_count": null,
   "metadata": {},
   "outputs": [],
   "source": []
  },
  {
   "cell_type": "markdown",
   "metadata": {},
   "source": [
    "## 4.5 Фильтрация (HAVING)"
   ]
  },
  {
   "cell_type": "code",
   "execution_count": null,
   "metadata": {},
   "outputs": [],
   "source": []
  },
  {
   "cell_type": "code",
   "execution_count": null,
   "metadata": {},
   "outputs": [],
   "source": []
  },
  {
   "cell_type": "code",
   "execution_count": null,
   "metadata": {},
   "outputs": [],
   "source": []
  },
  {
   "cell_type": "markdown",
   "metadata": {},
   "source": [
    "## 4.6 Отсутствие значения (NULL)"
   ]
  },
  {
   "cell_type": "code",
   "execution_count": null,
   "metadata": {},
   "outputs": [],
   "source": []
  },
  {
   "cell_type": "code",
   "execution_count": null,
   "metadata": {},
   "outputs": [],
   "source": []
  },
  {
   "cell_type": "code",
   "execution_count": null,
   "metadata": {},
   "outputs": [],
   "source": []
  },
  {
   "cell_type": "markdown",
   "metadata": {},
   "source": [
    "## 4.7 Пейджинг (LIMIT + OFFSET)"
   ]
  },
  {
   "cell_type": "code",
   "execution_count": null,
   "metadata": {},
   "outputs": [],
   "source": []
  },
  {
   "cell_type": "code",
   "execution_count": null,
   "metadata": {},
   "outputs": [],
   "source": []
  },
  {
   "cell_type": "code",
   "execution_count": null,
   "metadata": {},
   "outputs": [],
   "source": []
  },
  {
   "cell_type": "markdown",
   "metadata": {},
   "source": [
    "## 4.8 Условия, ветвления (IF, CASE)"
   ]
  },
  {
   "cell_type": "code",
   "execution_count": null,
   "metadata": {},
   "outputs": [],
   "source": []
  },
  {
   "cell_type": "code",
   "execution_count": null,
   "metadata": {},
   "outputs": [],
   "source": []
  },
  {
   "cell_type": "code",
   "execution_count": null,
   "metadata": {},
   "outputs": [],
   "source": []
  },
  {
   "cell_type": "code",
   "execution_count": null,
   "metadata": {},
   "outputs": [],
   "source": []
  }
 ],
 "metadata": {
  "kernelspec": {
   "display_name": "base",
   "language": "python",
   "name": "python3"
  },
  "language_info": {
   "codemirror_mode": {
    "name": "ipython",
    "version": 3
   },
   "file_extension": ".py",
   "mimetype": "text/x-python",
   "name": "python",
   "nbconvert_exporter": "python",
   "pygments_lexer": "ipython3",
   "version": "3.12.7"
  }
 },
 "nbformat": 4,
 "nbformat_minor": 2
}
