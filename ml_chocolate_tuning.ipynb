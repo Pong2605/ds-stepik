{
 "cells": [
  {
   "cell_type": "code",
   "execution_count": 1,
   "id": "67ceaa14",
   "metadata": {},
   "outputs": [],
   "source": [
    "import pandas as pd\n",
    "import numpy as np"
   ]
  },
  {
   "cell_type": "code",
   "execution_count": 2,
   "id": "4b4ef540",
   "metadata": {},
   "outputs": [],
   "source": [
    "# Даны характеристики шоколадок и по ним нужно предсказать их рейтинг.\n",
    "\n",
    "# Описание данных\n",
    "# Company - компания производитель\n",
    "# Specific Bean Origin - географический регион происхождения\n",
    "# REF - параметр, определяющий момент внесения записи в базу данных (чем выше значение, тем \"свежее\" запись)\n",
    "# Review - дата публикации отзыва\n",
    "# Cocoa Percent - процентное содержание какао\n",
    "# Company Location - страна производитель\n",
    "# Rating - экспертный рейтинг\n",
    "# Bean Type - используемый сорт какао-бобов, если таковой имеется\n",
    "# Broad Bean Origin - географический регион происхождения какао-бобов\n",
    "\n",
    "# Файлы с данными\n",
    "# choco_train.csv - тренировочные данные\n",
    "# choco_test_new.csv - тестовые данные\n",
    "# choco_sample_submission.csv - пример submission"
   ]
  },
  {
   "cell_type": "code",
   "execution_count": 3,
   "id": "a6e92c54",
   "metadata": {},
   "outputs": [],
   "source": [
    "PATH = 'data/chocolate-rating/'\n",
    "RANDOM_STATE = 42"
   ]
  },
  {
   "cell_type": "code",
   "execution_count": 4,
   "id": "055f606e",
   "metadata": {},
   "outputs": [],
   "source": [
    "df_submission = pd.read_csv(PATH + 'choco_sample_submission.csv')\n",
    "df_train = pd.read_csv(PATH + 'chocolate_train.csv')\n",
    "df_test = pd.read_csv(PATH + 'chocolate_test_new.csv')"
   ]
  },
  {
   "cell_type": "code",
   "execution_count": 5,
   "id": "c1798ada",
   "metadata": {},
   "outputs": [
    {
     "name": "stdout",
     "output_type": "stream",
     "text": [
      "(1255, 9)\n",
      "(540, 8)\n"
     ]
    }
   ],
   "source": [
    "print(df_train.shape)\n",
    "print(df_test.shape)"
   ]
  },
  {
   "cell_type": "code",
   "execution_count": 6,
   "id": "bb6be1bc",
   "metadata": {},
   "outputs": [
    {
     "data": {
      "text/html": [
       "<div>\n",
       "<style scoped>\n",
       "    .dataframe tbody tr th:only-of-type {\n",
       "        vertical-align: middle;\n",
       "    }\n",
       "\n",
       "    .dataframe tbody tr th {\n",
       "        vertical-align: top;\n",
       "    }\n",
       "\n",
       "    .dataframe thead th {\n",
       "        text-align: right;\n",
       "    }\n",
       "</style>\n",
       "<table border=\"1\" class=\"dataframe\">\n",
       "  <thead>\n",
       "    <tr style=\"text-align: right;\">\n",
       "      <th></th>\n",
       "      <th>Company</th>\n",
       "      <th>Specific Bean Origin</th>\n",
       "      <th>REF</th>\n",
       "      <th>Review</th>\n",
       "      <th>Cocoa Percent</th>\n",
       "      <th>Company Location</th>\n",
       "      <th>Rating</th>\n",
       "      <th>Bean Type</th>\n",
       "      <th>Broad Bean Origin</th>\n",
       "    </tr>\n",
       "  </thead>\n",
       "  <tbody>\n",
       "    <tr>\n",
       "      <th>0</th>\n",
       "      <td>Willie's Cacao</td>\n",
       "      <td>Rio Caribe</td>\n",
       "      <td>457</td>\n",
       "      <td>2009</td>\n",
       "      <td>72%</td>\n",
       "      <td>U.K.</td>\n",
       "      <td>3.25</td>\n",
       "      <td>Trinitario</td>\n",
       "      <td>Venezuela</td>\n",
       "    </tr>\n",
       "    <tr>\n",
       "      <th>1</th>\n",
       "      <td>Beschle (Felchlin)</td>\n",
       "      <td>Ocumare, Premier Cru, Quizas No. 2</td>\n",
       "      <td>508</td>\n",
       "      <td>2010</td>\n",
       "      <td>72%</td>\n",
       "      <td>Switzerland</td>\n",
       "      <td>3.50</td>\n",
       "      <td></td>\n",
       "      <td>Venezuela</td>\n",
       "    </tr>\n",
       "    <tr>\n",
       "      <th>2</th>\n",
       "      <td>Dark Forest</td>\n",
       "      <td>Tanzania</td>\n",
       "      <td>1554</td>\n",
       "      <td>2015</td>\n",
       "      <td>70%</td>\n",
       "      <td>U.S.A.</td>\n",
       "      <td>3.00</td>\n",
       "      <td></td>\n",
       "      <td>Tanzania</td>\n",
       "    </tr>\n",
       "    <tr>\n",
       "      <th>3</th>\n",
       "      <td>Brasstown aka It's Chocolate</td>\n",
       "      <td>Cooproagro</td>\n",
       "      <td>1125</td>\n",
       "      <td>2013</td>\n",
       "      <td>72%</td>\n",
       "      <td>U.S.A.</td>\n",
       "      <td>3.00</td>\n",
       "      <td>Trinitario</td>\n",
       "      <td>Dominican Republic</td>\n",
       "    </tr>\n",
       "    <tr>\n",
       "      <th>4</th>\n",
       "      <td>Pralus</td>\n",
       "      <td>Java, Indonesie</td>\n",
       "      <td>32</td>\n",
       "      <td>2006</td>\n",
       "      <td>75%</td>\n",
       "      <td>France</td>\n",
       "      <td>3.50</td>\n",
       "      <td>Criollo</td>\n",
       "      <td>Indonesia</td>\n",
       "    </tr>\n",
       "  </tbody>\n",
       "</table>\n",
       "</div>"
      ],
      "text/plain": [
       "                        Company                Specific Bean Origin   REF  \\\n",
       "0                Willie's Cacao                          Rio Caribe   457   \n",
       "1            Beschle (Felchlin)  Ocumare, Premier Cru, Quizas No. 2   508   \n",
       "2                   Dark Forest                            Tanzania  1554   \n",
       "3  Brasstown aka It's Chocolate                          Cooproagro  1125   \n",
       "4                        Pralus                     Java, Indonesie    32   \n",
       "\n",
       "   Review Cocoa Percent Company Location  Rating   Bean Type  \\\n",
       "0    2009           72%             U.K.    3.25  Trinitario   \n",
       "1    2010           72%      Switzerland    3.50               \n",
       "2    2015           70%           U.S.A.    3.00               \n",
       "3    2013           72%           U.S.A.    3.00  Trinitario   \n",
       "4    2006           75%           France    3.50     Criollo   \n",
       "\n",
       "    Broad Bean Origin  \n",
       "0           Venezuela  \n",
       "1           Venezuela  \n",
       "2            Tanzania  \n",
       "3  Dominican Republic  \n",
       "4           Indonesia  "
      ]
     },
     "execution_count": 6,
     "metadata": {},
     "output_type": "execute_result"
    }
   ],
   "source": [
    "df_train.head()"
   ]
  },
  {
   "cell_type": "code",
   "execution_count": 7,
   "id": "564e39fb",
   "metadata": {},
   "outputs": [
    {
     "data": {
      "text/plain": [
       "Company                 0\n",
       "Specific Bean Origin    0\n",
       "REF                     0\n",
       "Review                  0\n",
       "Cocoa Percent           0\n",
       "Company Location        0\n",
       "Rating                  0\n",
       "Bean Type               1\n",
       "Broad Bean Origin       1\n",
       "dtype: int64"
      ]
     },
     "execution_count": 7,
     "metadata": {},
     "output_type": "execute_result"
    }
   ],
   "source": [
    "df_train.isna().sum()"
   ]
  },
  {
   "cell_type": "code",
   "execution_count": 8,
   "id": "01dde751",
   "metadata": {},
   "outputs": [
    {
     "data": {
      "text/plain": [
       "Company                  object\n",
       "Specific Bean Origin     object\n",
       "REF                       int64\n",
       "Review                    int64\n",
       "Cocoa Percent            object\n",
       "Company Location         object\n",
       "Rating                  float64\n",
       "Bean Type                object\n",
       "Broad Bean Origin        object\n",
       "dtype: object"
      ]
     },
     "execution_count": 8,
     "metadata": {},
     "output_type": "execute_result"
    }
   ],
   "source": [
    "df_train.dtypes"
   ]
  },
  {
   "cell_type": "code",
   "execution_count": 9,
   "id": "a6a24b54",
   "metadata": {},
   "outputs": [
    {
     "data": {
      "text/plain": [
       "Company                 376\n",
       "Specific Bean Origin    762\n",
       "REF                     433\n",
       "Review                   12\n",
       "Cocoa Percent            40\n",
       "Company Location         58\n",
       "Rating                   13\n",
       "Bean Type                38\n",
       "Broad Bean Origin        84\n",
       "dtype: int64"
      ]
     },
     "execution_count": 9,
     "metadata": {},
     "output_type": "execute_result"
    }
   ],
   "source": [
    "df_train.nunique()"
   ]
  },
  {
   "cell_type": "code",
   "execution_count": null,
   "id": "ca0c7f01",
   "metadata": {},
   "outputs": [],
   "source": [
    "# !pip install catboost -q\n",
    "# !pip install association-metrics -q\n",
    "# !pip install optuna -q"
   ]
  },
  {
   "cell_type": "code",
   "execution_count": null,
   "id": "889e93b8",
   "metadata": {},
   "outputs": [],
   "source": [
    "import pandas as pd\n",
    "import numpy as np\n",
    "import association_metrics as am\n",
    "import seaborn as sns\n",
    "import matplotlib.pyplot as plt\n",
    "from catboost import CatBoostRegressor\n",
    "import optuna"
   ]
  },
  {
   "cell_type": "code",
   "execution_count": null,
   "id": "9a99e643",
   "metadata": {},
   "outputs": [],
   "source": [
    "import warnings\n",
    "\n",
    "warnings.filterwarnings(\"ignore\")"
   ]
  },
  {
   "cell_type": "code",
   "execution_count": null,
   "id": "a0c82274",
   "metadata": {},
   "outputs": [],
   "source": [
    "TRAIN = \"https://raw.githubusercontent.com/evgpat/edu_stepik_practical_ml/main/datasets/chocolate_train.csv\"\n",
    "TEST = \"https://raw.githubusercontent.com/evgpat/edu_stepik_practical_ml/main/datasets/chocolate_test_new.csv\""
   ]
  },
  {
   "cell_type": "code",
   "execution_count": null,
   "id": "b171cea4",
   "metadata": {},
   "outputs": [],
   "source": [
    "train_df = pd.read_csv(TRAIN)"
   ]
  },
  {
   "cell_type": "markdown",
   "id": "c7dc6774",
   "metadata": {},
   "source": [
    "Первые шаги: анализ полученных данных"
   ]
  },
  {
   "cell_type": "code",
   "execution_count": null,
   "id": "70b3119f",
   "metadata": {},
   "outputs": [
    {
     "name": "stdout",
     "output_type": "stream",
     "text": [
      "<class 'pandas.core.frame.DataFrame'>\n",
      "RangeIndex: 1255 entries, 0 to 1254\n",
      "Data columns (total 9 columns):\n",
      " #   Column                Non-Null Count  Dtype  \n",
      "---  ------                --------------  -----  \n",
      " 0   Company               1255 non-null   object \n",
      " 1   Specific Bean Origin  1255 non-null   object \n",
      " 2   REF                   1255 non-null   int64  \n",
      " 3   Review                1255 non-null   int64  \n",
      " 4   Cocoa Percent         1255 non-null   object \n",
      " 5   Company Location      1255 non-null   object \n",
      " 6   Rating                1255 non-null   float64\n",
      " 7   Bean Type             1254 non-null   object \n",
      " 8   Broad Bean Origin     1254 non-null   object \n",
      "dtypes: float64(1), int64(2), object(6)\n",
      "memory usage: 88.4+ KB\n"
     ]
    }
   ],
   "source": [
    "train_df.info()"
   ]
  },
  {
   "cell_type": "code",
   "execution_count": null,
   "id": "a367bea2",
   "metadata": {},
   "outputs": [
    {
     "data": {
      "text/html": [
       "<div>\n",
       "<style scoped>\n",
       "    .dataframe tbody tr th:only-of-type {\n",
       "        vertical-align: middle;\n",
       "    }\n",
       "\n",
       "    .dataframe tbody tr th {\n",
       "        vertical-align: top;\n",
       "    }\n",
       "\n",
       "    .dataframe thead th {\n",
       "        text-align: right;\n",
       "    }\n",
       "</style>\n",
       "<table border=\"1\" class=\"dataframe\">\n",
       "  <thead>\n",
       "    <tr style=\"text-align: right;\">\n",
       "      <th></th>\n",
       "      <th>Company</th>\n",
       "      <th>Specific Bean Origin</th>\n",
       "      <th>Cocoa Percent</th>\n",
       "      <th>Company Location</th>\n",
       "      <th>Bean Type</th>\n",
       "      <th>Broad Bean Origin</th>\n",
       "    </tr>\n",
       "  </thead>\n",
       "  <tbody>\n",
       "    <tr>\n",
       "      <th>count</th>\n",
       "      <td>1255</td>\n",
       "      <td>1255</td>\n",
       "      <td>1255</td>\n",
       "      <td>1255</td>\n",
       "      <td>1254</td>\n",
       "      <td>1254</td>\n",
       "    </tr>\n",
       "    <tr>\n",
       "      <th>unique</th>\n",
       "      <td>376</td>\n",
       "      <td>762</td>\n",
       "      <td>40</td>\n",
       "      <td>58</td>\n",
       "      <td>38</td>\n",
       "      <td>84</td>\n",
       "    </tr>\n",
       "    <tr>\n",
       "      <th>top</th>\n",
       "      <td>Soma</td>\n",
       "      <td>Madagascar</td>\n",
       "      <td>70%</td>\n",
       "      <td>U.S.A.</td>\n",
       "      <td></td>\n",
       "      <td>Venezuela</td>\n",
       "    </tr>\n",
       "    <tr>\n",
       "      <th>freq</th>\n",
       "      <td>35</td>\n",
       "      <td>39</td>\n",
       "      <td>461</td>\n",
       "      <td>521</td>\n",
       "      <td>628</td>\n",
       "      <td>144</td>\n",
       "    </tr>\n",
       "  </tbody>\n",
       "</table>\n",
       "</div>"
      ],
      "text/plain": [
       "       Company Specific Bean Origin Cocoa Percent Company Location Bean Type  \\\n",
       "count     1255                 1255          1255             1255      1254   \n",
       "unique     376                  762            40               58        38   \n",
       "top       Soma           Madagascar           70%           U.S.A.             \n",
       "freq        35                   39           461              521       628   \n",
       "\n",
       "       Broad Bean Origin  \n",
       "count               1254  \n",
       "unique                84  \n",
       "top            Venezuela  \n",
       "freq                 144  "
      ]
     },
     "metadata": {},
     "output_type": "display_data"
    }
   ],
   "source": [
    "train_df.describe(include='object')"
   ]
  },
  {
   "cell_type": "markdown",
   "id": "be3085b9",
   "metadata": {},
   "source": [
    "Самый популярный Bean Type - \"пустой\"\n"
   ]
  },
  {
   "cell_type": "code",
   "execution_count": null,
   "id": "bc25e452",
   "metadata": {},
   "outputs": [
    {
     "data": {
      "text/html": [
       "<div>\n",
       "<style scoped>\n",
       "    .dataframe tbody tr th:only-of-type {\n",
       "        vertical-align: middle;\n",
       "    }\n",
       "\n",
       "    .dataframe tbody tr th {\n",
       "        vertical-align: top;\n",
       "    }\n",
       "\n",
       "    .dataframe thead th {\n",
       "        text-align: right;\n",
       "    }\n",
       "</style>\n",
       "<table border=\"1\" class=\"dataframe\">\n",
       "  <thead>\n",
       "    <tr style=\"text-align: right;\">\n",
       "      <th></th>\n",
       "      <th>REF</th>\n",
       "      <th>Review</th>\n",
       "      <th>Rating</th>\n",
       "    </tr>\n",
       "  </thead>\n",
       "  <tbody>\n",
       "    <tr>\n",
       "      <th>count</th>\n",
       "      <td>1255.000000</td>\n",
       "      <td>1255.000000</td>\n",
       "      <td>1255.000000</td>\n",
       "    </tr>\n",
       "    <tr>\n",
       "      <th>mean</th>\n",
       "      <td>1045.152191</td>\n",
       "      <td>2012.382470</td>\n",
       "      <td>3.176494</td>\n",
       "    </tr>\n",
       "    <tr>\n",
       "      <th>std</th>\n",
       "      <td>551.284249</td>\n",
       "      <td>2.922499</td>\n",
       "      <td>0.478948</td>\n",
       "    </tr>\n",
       "    <tr>\n",
       "      <th>min</th>\n",
       "      <td>5.000000</td>\n",
       "      <td>2006.000000</td>\n",
       "      <td>1.000000</td>\n",
       "    </tr>\n",
       "    <tr>\n",
       "      <th>25%</th>\n",
       "      <td>593.000000</td>\n",
       "      <td>2010.000000</td>\n",
       "      <td>2.750000</td>\n",
       "    </tr>\n",
       "    <tr>\n",
       "      <th>50%</th>\n",
       "      <td>1077.000000</td>\n",
       "      <td>2013.000000</td>\n",
       "      <td>3.250000</td>\n",
       "    </tr>\n",
       "    <tr>\n",
       "      <th>75%</th>\n",
       "      <td>1514.000000</td>\n",
       "      <td>2015.000000</td>\n",
       "      <td>3.500000</td>\n",
       "    </tr>\n",
       "    <tr>\n",
       "      <th>max</th>\n",
       "      <td>1952.000000</td>\n",
       "      <td>2017.000000</td>\n",
       "      <td>5.000000</td>\n",
       "    </tr>\n",
       "  </tbody>\n",
       "</table>\n",
       "</div>"
      ],
      "text/plain": [
       "               REF       Review       Rating\n",
       "count  1255.000000  1255.000000  1255.000000\n",
       "mean   1045.152191  2012.382470     3.176494\n",
       "std     551.284249     2.922499     0.478948\n",
       "min       5.000000  2006.000000     1.000000\n",
       "25%     593.000000  2010.000000     2.750000\n",
       "50%    1077.000000  2013.000000     3.250000\n",
       "75%    1514.000000  2015.000000     3.500000\n",
       "max    1952.000000  2017.000000     5.000000"
      ]
     },
     "metadata": {},
     "output_type": "display_data"
    }
   ],
   "source": [
    "train_df.describe()"
   ]
  },
  {
   "cell_type": "code",
   "execution_count": null,
   "id": "0a054801",
   "metadata": {},
   "outputs": [
    {
     "data": {
      "text/html": [
       "<div>\n",
       "<style scoped>\n",
       "    .dataframe tbody tr th:only-of-type {\n",
       "        vertical-align: middle;\n",
       "    }\n",
       "\n",
       "    .dataframe tbody tr th {\n",
       "        vertical-align: top;\n",
       "    }\n",
       "\n",
       "    .dataframe thead th {\n",
       "        text-align: right;\n",
       "    }\n",
       "</style>\n",
       "<table border=\"1\" class=\"dataframe\">\n",
       "  <thead>\n",
       "    <tr style=\"text-align: right;\">\n",
       "      <th></th>\n",
       "      <th>Company</th>\n",
       "      <th>Specific Bean Origin</th>\n",
       "      <th>REF</th>\n",
       "      <th>Review</th>\n",
       "      <th>Cocoa Percent</th>\n",
       "      <th>Company Location</th>\n",
       "      <th>Rating</th>\n",
       "      <th>Bean Type</th>\n",
       "      <th>Broad Bean Origin</th>\n",
       "    </tr>\n",
       "  </thead>\n",
       "  <tbody>\n",
       "    <tr>\n",
       "      <th>0</th>\n",
       "      <td>Willie's Cacao</td>\n",
       "      <td>Rio Caribe</td>\n",
       "      <td>457</td>\n",
       "      <td>2009</td>\n",
       "      <td>72%</td>\n",
       "      <td>U.K.</td>\n",
       "      <td>3.25</td>\n",
       "      <td>Trinitario</td>\n",
       "      <td>Venezuela</td>\n",
       "    </tr>\n",
       "    <tr>\n",
       "      <th>1</th>\n",
       "      <td>Beschle (Felchlin)</td>\n",
       "      <td>Ocumare, Premier Cru, Quizas No. 2</td>\n",
       "      <td>508</td>\n",
       "      <td>2010</td>\n",
       "      <td>72%</td>\n",
       "      <td>Switzerland</td>\n",
       "      <td>3.50</td>\n",
       "      <td></td>\n",
       "      <td>Venezuela</td>\n",
       "    </tr>\n",
       "    <tr>\n",
       "      <th>2</th>\n",
       "      <td>Dark Forest</td>\n",
       "      <td>Tanzania</td>\n",
       "      <td>1554</td>\n",
       "      <td>2015</td>\n",
       "      <td>70%</td>\n",
       "      <td>U.S.A.</td>\n",
       "      <td>3.00</td>\n",
       "      <td></td>\n",
       "      <td>Tanzania</td>\n",
       "    </tr>\n",
       "    <tr>\n",
       "      <th>3</th>\n",
       "      <td>Brasstown aka It's Chocolate</td>\n",
       "      <td>Cooproagro</td>\n",
       "      <td>1125</td>\n",
       "      <td>2013</td>\n",
       "      <td>72%</td>\n",
       "      <td>U.S.A.</td>\n",
       "      <td>3.00</td>\n",
       "      <td>Trinitario</td>\n",
       "      <td>Dominican Republic</td>\n",
       "    </tr>\n",
       "    <tr>\n",
       "      <th>4</th>\n",
       "      <td>Pralus</td>\n",
       "      <td>Java, Indonesie</td>\n",
       "      <td>32</td>\n",
       "      <td>2006</td>\n",
       "      <td>75%</td>\n",
       "      <td>France</td>\n",
       "      <td>3.50</td>\n",
       "      <td>Criollo</td>\n",
       "      <td>Indonesia</td>\n",
       "    </tr>\n",
       "    <tr>\n",
       "      <th>...</th>\n",
       "      <td>...</td>\n",
       "      <td>...</td>\n",
       "      <td>...</td>\n",
       "      <td>...</td>\n",
       "      <td>...</td>\n",
       "      <td>...</td>\n",
       "      <td>...</td>\n",
       "      <td>...</td>\n",
       "      <td>...</td>\n",
       "    </tr>\n",
       "    <tr>\n",
       "      <th>1250</th>\n",
       "      <td>Artisan du Chocolat</td>\n",
       "      <td>Madagascar</td>\n",
       "      <td>363</td>\n",
       "      <td>2009</td>\n",
       "      <td>80%</td>\n",
       "      <td>U.K.</td>\n",
       "      <td>3.00</td>\n",
       "      <td>Criollo, Trinitario</td>\n",
       "      <td>Madagascar</td>\n",
       "    </tr>\n",
       "    <tr>\n",
       "      <th>1251</th>\n",
       "      <td>Marana</td>\n",
       "      <td>Cusco</td>\n",
       "      <td>1884</td>\n",
       "      <td>2016</td>\n",
       "      <td>70%</td>\n",
       "      <td>Peru</td>\n",
       "      <td>2.75</td>\n",
       "      <td></td>\n",
       "      <td>Peru</td>\n",
       "    </tr>\n",
       "    <tr>\n",
       "      <th>1252</th>\n",
       "      <td>Arete</td>\n",
       "      <td>Nacional</td>\n",
       "      <td>1534</td>\n",
       "      <td>2015</td>\n",
       "      <td>68%</td>\n",
       "      <td>U.S.A.</td>\n",
       "      <td>3.50</td>\n",
       "      <td>Forastero (Nacional)</td>\n",
       "      <td>Peru</td>\n",
       "    </tr>\n",
       "    <tr>\n",
       "      <th>1253</th>\n",
       "      <td>Fresco</td>\n",
       "      <td>Conacado, #212, LR, SC</td>\n",
       "      <td>642</td>\n",
       "      <td>2011</td>\n",
       "      <td>72%</td>\n",
       "      <td>U.S.A.</td>\n",
       "      <td>3.50</td>\n",
       "      <td></td>\n",
       "      <td>Dominican Republic</td>\n",
       "    </tr>\n",
       "    <tr>\n",
       "      <th>1254</th>\n",
       "      <td>Zak's</td>\n",
       "      <td>Madagascar, Batch 2</td>\n",
       "      <td>1578</td>\n",
       "      <td>2015</td>\n",
       "      <td>70%</td>\n",
       "      <td>U.S.A.</td>\n",
       "      <td>3.25</td>\n",
       "      <td>Trinitario</td>\n",
       "      <td>Madagascar</td>\n",
       "    </tr>\n",
       "  </tbody>\n",
       "</table>\n",
       "<p>1255 rows × 9 columns</p>\n",
       "</div>"
      ],
      "text/plain": [
       "                           Company                Specific Bean Origin   REF  \\\n",
       "0                   Willie's Cacao                          Rio Caribe   457   \n",
       "1               Beschle (Felchlin)  Ocumare, Premier Cru, Quizas No. 2   508   \n",
       "2                      Dark Forest                            Tanzania  1554   \n",
       "3     Brasstown aka It's Chocolate                          Cooproagro  1125   \n",
       "4                           Pralus                     Java, Indonesie    32   \n",
       "...                            ...                                 ...   ...   \n",
       "1250           Artisan du Chocolat                          Madagascar   363   \n",
       "1251                        Marana                               Cusco  1884   \n",
       "1252                         Arete                            Nacional  1534   \n",
       "1253                        Fresco              Conacado, #212, LR, SC   642   \n",
       "1254                         Zak's                 Madagascar, Batch 2  1578   \n",
       "\n",
       "      Review Cocoa Percent Company Location  Rating             Bean Type  \\\n",
       "0       2009           72%             U.K.    3.25            Trinitario   \n",
       "1       2010           72%      Switzerland    3.50                         \n",
       "2       2015           70%           U.S.A.    3.00                         \n",
       "3       2013           72%           U.S.A.    3.00            Trinitario   \n",
       "4       2006           75%           France    3.50               Criollo   \n",
       "...      ...           ...              ...     ...                   ...   \n",
       "1250    2009           80%             U.K.    3.00   Criollo, Trinitario   \n",
       "1251    2016           70%             Peru    2.75                         \n",
       "1252    2015           68%           U.S.A.    3.50  Forastero (Nacional)   \n",
       "1253    2011           72%           U.S.A.    3.50                         \n",
       "1254    2015           70%           U.S.A.    3.25            Trinitario   \n",
       "\n",
       "       Broad Bean Origin  \n",
       "0              Venezuela  \n",
       "1              Venezuela  \n",
       "2               Tanzania  \n",
       "3     Dominican Republic  \n",
       "4              Indonesia  \n",
       "...                  ...  \n",
       "1250          Madagascar  \n",
       "1251                Peru  \n",
       "1252                Peru  \n",
       "1253  Dominican Republic  \n",
       "1254          Madagascar  \n",
       "\n",
       "[1255 rows x 9 columns]"
      ]
     },
     "metadata": {},
     "output_type": "display_data"
    }
   ],
   "source": [
    "train_df"
   ]
  },
  {
   "cell_type": "markdown",
   "id": "2a5fcb82",
   "metadata": {},
   "source": [
    "Проверим, что это за пустой символ, т.к. метод describe указал на наличие лишь одного пропуска в таблице"
   ]
  },
  {
   "cell_type": "code",
   "execution_count": null,
   "id": "2c534458",
   "metadata": {},
   "outputs": [
    {
     "data": {
      "text/plain": [
       "'\\xa0'"
      ]
     },
     "metadata": {},
     "output_type": "display_data"
    }
   ],
   "source": [
    "train_df['Bean Type'][1]"
   ]
  },
  {
   "cell_type": "markdown",
   "id": "c5db1a20",
   "metadata": {},
   "source": [
    "Проверим, встречается ли ещё такой \"пропуск\" в данных"
   ]
  },
  {
   "cell_type": "code",
   "execution_count": null,
   "id": "c311fb35",
   "metadata": {},
   "outputs": [
    {
     "name": "stdout",
     "output_type": "stream",
     "text": [
      "Column \"Bean Type\" has 628 rows with \"\\xa0\" in it\n",
      "Column \"Broad Bean Origin\" has 55 rows with \"\\xa0\" in it\n"
     ]
    }
   ],
   "source": [
    "for col in train_df.columns:\n",
    "  miss = (train_df[col] == '\\xa0').sum()\n",
    "  if miss:\n",
    "    print(f'Column \"{col}\" has {miss} rows with \"\\\\xa0\" in it')"
   ]
  },
  {
   "cell_type": "markdown",
   "id": "68ebf767",
   "metadata": {},
   "source": [
    "Очень много пропусков в Bean Type, почти 50%. Удалять все строки не самый разумный вариант. Но проверим далее в нескольких тестах важность признака на целевую переменную."
   ]
  },
  {
   "cell_type": "markdown",
   "id": "1204d14b",
   "metadata": {},
   "source": [
    "Сравним статистики с учётом этого пропуска и без"
   ]
  },
  {
   "cell_type": "code",
   "execution_count": null,
   "id": "09f7a7c5",
   "metadata": {},
   "outputs": [
    {
     "name": "stdout",
     "output_type": "stream",
     "text": [
      "count    628.000000\n",
      "mean       3.128981\n",
      "std        0.483463\n",
      "min        1.000000\n",
      "25%        2.750000\n",
      "50%        3.250000\n",
      "75%        3.500000\n",
      "max        4.000000\n",
      "Name: Rating, dtype: float64 \n",
      "\n",
      "count    627.000000\n",
      "mean       3.224083\n",
      "std        0.469971\n",
      "min        1.000000\n",
      "25%        3.000000\n",
      "50%        3.250000\n",
      "75%        3.500000\n",
      "max        5.000000\n",
      "Name: Rating, dtype: float64\n"
     ]
    }
   ],
   "source": [
    "print(train_df[train_df['Bean Type'] == '\\xa0']['Rating'].describe(), '\\n')\n",
    "print(train_df[train_df['Bean Type'] != '\\xa0']['Rating'].describe())"
   ]
  },
  {
   "cell_type": "markdown",
   "id": "ab8a6dea",
   "metadata": {},
   "source": [
    "Визуально посмотрим, как связаны Bean Type и целевая переменная"
   ]
  },
  {
   "cell_type": "code",
   "execution_count": null,
   "id": "aef6ef6f",
   "metadata": {},
   "outputs": [
    {
     "data": {
      "image/png": "[encoded data removed]",
      "text/plain": [
       "<Figure size 1000x600 with 1 Axes>"
      ]
     },
     "metadata": {},
     "output_type": "display_data"
    }
   ],
   "source": [
    "clean_df = train_df[train_df['Bean Type'] != '\\xa0']\n",
    "\n",
    "plt.figure(figsize=(10, 6))\n",
    "sns.boxplot(x='Bean Type', y='Rating', data=clean_df)\n",
    "plt.xticks(rotation=90)\n",
    "plt.show()"
   ]
  },
  {
   "cell_type": "markdown",
   "id": "60c00988",
   "metadata": {},
   "source": [
    "Сгруппируем Bean Type и посмотрим на Rating"
   ]
  },
  {
   "cell_type": "code",
   "execution_count": null,
   "id": "3d8b2059",
   "metadata": {},
   "outputs": [
    {
     "name": "stdout",
     "output_type": "stream",
     "text": [
      "Bean Type\n",
      "Forastero (Arriba)          2.773438\n",
      "Forastero (Arriba) ASS      2.875000\n",
      "Matina                      3.000000\n",
      "Forastero(Arriba, CCN)      3.000000\n",
      "Trinitario (Amelonado)      3.000000\n",
      "Criollo (Ocumare)           3.000000\n",
      "Forastero, Trinitario       3.000000\n",
      "Trinitario, Forastero       3.000000\n",
      "Forastero                   3.127358\n",
      "Trinitario, Criollo         3.166667\n",
      "Criollo                     3.185096\n",
      "Forastero (Nacional)        3.191176\n",
      "Criollo (Amarru)            3.250000\n",
      "Criollo (Ocumare 61)        3.250000\n",
      "Nacional (Arriba)           3.250000\n",
      "Amazon                      3.250000\n",
      "Trinitario                  3.255263\n",
      "Criollo, Trinitario         3.257812\n",
      "Criollo (Porcelana)         3.361111\n",
      "Forastero (Catongo)         3.375000\n",
      "Blend                       3.437500\n",
      "Nacional                    3.500000\n",
      "EET                         3.500000\n",
      "Criollo, +                  3.500000\n",
      "Amazon, ICS                 3.500000\n",
      "Forastero (Arriba) ASSS     3.500000\n",
      "Forastero (Parazinho)       3.531250\n",
      "Criollo, Forastero          3.625000\n",
      "Trinitario (85% Criollo)    3.750000\n",
      "Forastero (Amelonado)       3.750000\n",
      "Criollo (Ocumare 77)        3.750000\n",
      "Blend-Forastero,Criollo     3.750000\n",
      "Trinitario, Nacional        3.750000\n",
      "Trinitario, TCGA            3.750000\n",
      "Criollo (Wild)              4.000000\n",
      "Criollo (Ocumare 67)        4.000000\n",
      "Amazon mix                  4.000000\n",
      "Name: Rating, dtype: float64\n"
     ]
    }
   ],
   "source": [
    "mean_rating_by_type = clean_df.groupby('Bean Type')['Rating'].mean().sort_values()\n",
    "print(mean_rating_by_type)"
   ]
  },
  {
   "cell_type": "markdown",
   "id": "2eb26401",
   "metadata": {},
   "source": [
    "И в конце ANOVA"
   ]
  },
  {
   "cell_type": "code",
   "execution_count": null,
   "id": "36c0ad44",
   "metadata": {},
   "outputs": [
    {
     "name": "stdout",
     "output_type": "stream",
     "text": [
      "ANOVA: p-value = 0.0004254362744941134\n"
     ]
    }
   ],
   "source": [
    "from scipy.stats import f_oneway\n",
    "\n",
    "rating_with_na = train_df[train_df['Bean Type'] == '\\xa0']['Rating']\n",
    "rating_without_na = train_df[train_df['Bean Type'] != '\\xa0']['Rating']\n",
    "\n",
    "\n",
    "f_stat, p_value_anova = f_oneway(rating_with_na, rating_without_na)\n",
    "print(f\"ANOVA: p-value = {p_value_anova}\")"
   ]
  },
  {
   "cell_type": "markdown",
   "id": "c375abbd",
   "metadata": {},
   "source": [
    "Столбец Bean Type важен для целевой переменной."
   ]
  },
  {
   "cell_type": "markdown",
   "id": "f14019d7",
   "metadata": {},
   "source": [
    "Посмотрим на корреляции между категориальными и между числовыми признаками"
   ]
  },
  {
   "cell_type": "code",
   "execution_count": null,
   "id": "d641fc5b",
   "metadata": {},
   "outputs": [
    {
     "data": {
      "text/html": [
       "<div>\n",
       "<style scoped>\n",
       "    .dataframe tbody tr th:only-of-type {\n",
       "        vertical-align: middle;\n",
       "    }\n",
       "\n",
       "    .dataframe tbody tr th {\n",
       "        vertical-align: top;\n",
       "    }\n",
       "\n",
       "    .dataframe thead th {\n",
       "        text-align: right;\n",
       "    }\n",
       "</style>\n",
       "<table border=\"1\" class=\"dataframe\">\n",
       "  <thead>\n",
       "    <tr style=\"text-align: right;\">\n",
       "      <th></th>\n",
       "      <th>Company</th>\n",
       "      <th>Specific Bean Origin</th>\n",
       "      <th>Cocoa Percent</th>\n",
       "      <th>Company Location</th>\n",
       "      <th>Bean Type</th>\n",
       "      <th>Broad Bean Origin</th>\n",
       "    </tr>\n",
       "  </thead>\n",
       "  <tbody>\n",
       "    <tr>\n",
       "      <th>Company</th>\n",
       "      <td>1.000000</td>\n",
       "      <td>0.771074</td>\n",
       "      <td>0.631564</td>\n",
       "      <td>0.999651</td>\n",
       "      <td>0.616928</td>\n",
       "      <td>0.603849</td>\n",
       "    </tr>\n",
       "    <tr>\n",
       "      <th>Specific Bean Origin</th>\n",
       "      <td>0.771074</td>\n",
       "      <td>1.000000</td>\n",
       "      <td>0.772975</td>\n",
       "      <td>0.808500</td>\n",
       "      <td>0.907954</td>\n",
       "      <td>0.983537</td>\n",
       "    </tr>\n",
       "    <tr>\n",
       "      <th>Cocoa Percent</th>\n",
       "      <td>0.631564</td>\n",
       "      <td>0.772975</td>\n",
       "      <td>1.000000</td>\n",
       "      <td>0.243803</td>\n",
       "      <td>0.158700</td>\n",
       "      <td>0.266422</td>\n",
       "    </tr>\n",
       "    <tr>\n",
       "      <th>Company Location</th>\n",
       "      <td>0.999651</td>\n",
       "      <td>0.808500</td>\n",
       "      <td>0.243803</td>\n",
       "      <td>1.000000</td>\n",
       "      <td>0.291639</td>\n",
       "      <td>0.383244</td>\n",
       "    </tr>\n",
       "    <tr>\n",
       "      <th>Bean Type</th>\n",
       "      <td>0.616928</td>\n",
       "      <td>0.907954</td>\n",
       "      <td>0.158700</td>\n",
       "      <td>0.291639</td>\n",
       "      <td>1.000000</td>\n",
       "      <td>0.388294</td>\n",
       "    </tr>\n",
       "    <tr>\n",
       "      <th>Broad Bean Origin</th>\n",
       "      <td>0.603849</td>\n",
       "      <td>0.983537</td>\n",
       "      <td>0.266422</td>\n",
       "      <td>0.383244</td>\n",
       "      <td>0.388294</td>\n",
       "      <td>1.000000</td>\n",
       "    </tr>\n",
       "  </tbody>\n",
       "</table>\n",
       "</div>"
      ],
      "text/plain": [
       "                       Company  Specific Bean Origin  Cocoa Percent  \\\n",
       "Company               1.000000              0.771074       0.631564   \n",
       "Specific Bean Origin  0.771074              1.000000       0.772975   \n",
       "Cocoa Percent         0.631564              0.772975       1.000000   \n",
       "Company Location      0.999651              0.808500       0.243803   \n",
       "Bean Type             0.616928              0.907954       0.158700   \n",
       "Broad Bean Origin     0.603849              0.983537       0.266422   \n",
       "\n",
       "                      Company Location  Bean Type  Broad Bean Origin  \n",
       "Company                       0.999651   0.616928           0.603849  \n",
       "Specific Bean Origin          0.808500   0.907954           0.983537  \n",
       "Cocoa Percent                 0.243803   0.158700           0.266422  \n",
       "Company Location              1.000000   0.291639           0.383244  \n",
       "Bean Type                     0.291639   1.000000           0.388294  \n",
       "Broad Bean Origin             0.383244   0.388294           1.000000  "
      ]
     },
     "metadata": {},
     "output_type": "display_data"
    }
   ],
   "source": [
    "train_df = train_df.apply(\n",
    "        lambda x: x.astype(\"category\") if x.dtype == \"object\" else x)\n",
    "\n",
    "cramersv = am.CramersV(train_df)\n",
    "\n",
    "cramersv.fit()"
   ]
  },
  {
   "cell_type": "code",
   "execution_count": null,
   "id": "4b176acc",
   "metadata": {},
   "outputs": [
    {
     "data": {
      "text/plain": [
       "<Axes: >"
      ]
     },
     "metadata": {},
     "output_type": "display_data"
    },
    {
     "data": {
      "image/png": "[encoded data removed]",
      "text/plain": [
       "<Figure size 640x480 with 2 Axes>"
      ]
     },
     "metadata": {},
     "output_type": "display_data"
    }
   ],
   "source": [
    "cols = train_df.select_dtypes(exclude='category').columns\n",
    "\n",
    "corr = train_df[cols].corr()\n",
    "sns.heatmap(corr, cmap=\"Blues\", annot=True)"
   ]
  },
  {
   "cell_type": "markdown",
   "id": "604bf15b",
   "metadata": {},
   "source": [
    "**Очистка данных**\n",
    "\n",
    "Заменяем пробел в Bean Type на missing, а в Broad Bean Origin на NA\n",
    "\n",
    "Cocoa Percent лишаем знака % и делаем эту фичу числовой\n",
    "\n",
    "Убираем Review за ненадобностью (очень высокая корреляция с REF), Specific Bean Origin также убираем, т.к. нет причин оставлять столь информативный столбец: достаточно Broad Bean Origin. В нём же заменяем строки с несколькими странами на Mixed"
   ]
  },
  {
   "cell_type": "code",
   "execution_count": null,
   "id": "b6aeb778",
   "metadata": {},
   "outputs": [],
   "source": [
    "def clean_data(df):\n",
    "  df = df.dropna()\n",
    "  df['Bean Type'] = df['Bean Type'].replace('\\xa0', 'missing')\n",
    "  df['Broad Bean Origin'] = df['Broad Bean Origin'].replace('\\xa0', 'NA')\n",
    "  df['Broad Bean Origin'] = df['Broad Bean Origin'].apply(\n",
    "    lambda x: x if x.startswith(\"St.\") or not any(char in x for char in [',', '.', ';']) else 'Mixed'\n",
    ")\n",
    "  df['Cocoa Percent'] = df['Cocoa Percent'].str.replace('%', '', regex=False).astype(\"float64\")\n",
    "  df.drop(['Review', 'Specific Bean Origin'], axis=1, inplace=True)\n",
    "  df = df.apply(lambda x: x.astype(\"category\") if x.dtype == \"object\" else x)\n",
    "  return df"
   ]
  },
  {
   "cell_type": "code",
   "execution_count": null,
   "id": "40fb88c8",
   "metadata": {},
   "outputs": [],
   "source": [
    "from sklearn.model_selection import train_test_split\n",
    "from sklearn.metrics import r2_score"
   ]
  },
  {
   "cell_type": "code",
   "execution_count": null,
   "id": "4b05be70",
   "metadata": {},
   "outputs": [],
   "source": [
    "# Заменем временно dtype снова на object, т.к. category хоть и более быстрый, но менее гибкий: он не допускает внесение изменений в категории\n",
    "train_df = train_df.apply(lambda x: x.astype(\"object\") if x.dtype == \"category\" else x)\n",
    "\n",
    "cleaned_train_df = clean_data(train_df)"
   ]
  },
  {
   "cell_type": "code",
   "execution_count": null,
   "id": "01c5e695",
   "metadata": {},
   "outputs": [],
   "source": [
    "X = cleaned_train_df.drop('Rating', axis=1)\n",
    "y = cleaned_train_df['Rating']\n",
    "\n",
    "Xtrain, Xval, ytrain, yval = train_test_split(X, y, test_size = .3, random_state=42)"
   ]
  },
  {
   "cell_type": "code",
   "execution_count": null,
   "id": "7600bffb",
   "metadata": {},
   "outputs": [
    {
     "data": {
      "image/png": "[encoded data removed]",
      "text/plain": [
       "<Figure size 640x480 with 1 Axes>"
      ]
     },
     "metadata": {},
     "output_type": "display_data"
    }
   ],
   "source": [
    "plt.hist(ytrain, rwidth=1.0, edgecolor='k', bins=15);"
   ]
  },
  {
   "cell_type": "code",
   "execution_count": null,
   "id": "0d9e1dfe",
   "metadata": {},
   "outputs": [
    {
     "name": "stdout",
     "output_type": "stream",
     "text": [
      "<class 'pandas.core.frame.DataFrame'>\n",
      "Index: 877 entries, 66 to 1128\n",
      "Data columns (total 6 columns):\n",
      " #   Column             Non-Null Count  Dtype   \n",
      "---  ------             --------------  -----   \n",
      " 0   Company            877 non-null    category\n",
      " 1   REF                877 non-null    int64   \n",
      " 2   Cocoa Percent      877 non-null    float64 \n",
      " 3   Company Location   877 non-null    category\n",
      " 4   Bean Type          877 non-null    category\n",
      " 5   Broad Bean Origin  877 non-null    category\n",
      "dtypes: category(4), float64(1), int64(1)\n",
      "memory usage: 42.2 KB\n"
     ]
    }
   ],
   "source": [
    "Xtrain.info()"
   ]
  },
  {
   "cell_type": "markdown",
   "id": "da72a02e",
   "metadata": {},
   "source": [
    "Выделим категориальные фичи и визуально проанализируем их"
   ]
  },
  {
   "cell_type": "code",
   "execution_count": null,
   "id": "ae88dc86",
   "metadata": {},
   "outputs": [
    {
     "name": "stdout",
     "output_type": "stream",
     "text": [
      "REF\n"
     ]
    },
    {
     "data": {
      "image/png": "[encoded data removed]",
      "text/plain": [
       "<Figure size 640x480 with 1 Axes>"
      ]
     },
     "metadata": {},
     "output_type": "display_data"
    },
    {
     "name": "stdout",
     "output_type": "stream",
     "text": [
      "Cocoa Percent\n"
     ]
    },
    {
     "data": {
      "image/png": "[encoded data removed]",
      "text/plain": [
       "<Figure size 640x480 with 1 Axes>"
      ]
     },
     "metadata": {},
     "output_type": "display_data"
    },
    {
     "name": "stdout",
     "output_type": "stream",
     "text": [
      "Target\n"
     ]
    },
    {
     "data": {
      "image/png": "[encoded data removed]",
      "text/plain": [
       "<Figure size 640x480 with 1 Axes>"
      ]
     },
     "metadata": {},
     "output_type": "display_data"
    }
   ],
   "source": [
    "cat_features = [i for i, col in enumerate(Xtrain.columns) if Xtrain[col].dtype.name in ['category', 'object']]\n",
    "\n",
    "for col in Xtrain.drop(Xtrain.columns[cat_features], axis=1):\n",
    "    print(col)\n",
    "    sns.boxplot(Xtrain[col])\n",
    "    plt.show()\n",
    "print('Target')\n",
    "sns.boxplot(y)\n",
    "plt.show()"
   ]
  },
  {
   "cell_type": "markdown",
   "id": "f0183ed1",
   "metadata": {},
   "source": [
    "Несмотря на наличие выбросов у ящиков с усами, сами значения выбросов укладываются в возможное распределение"
   ]
  },
  {
   "cell_type": "markdown",
   "id": "fb3d0474",
   "metadata": {},
   "source": [
    "Зайдём с козырей: начнём обучать CatBoostRegressor сначала с гиперпараметрами по умолчанию, а затем начнём их подбор с помощью optuna"
   ]
  },
  {
   "cell_type": "code",
   "execution_count": null,
   "id": "ee396132",
   "metadata": {},
   "outputs": [],
   "source": [
    "model = CatBoostRegressor(cat_features=cat_features)"
   ]
  },
  {
   "cell_type": "code",
   "execution_count": null,
   "id": "7cef7b9e",
   "metadata": {},
   "outputs": [
    {
     "data": {
      "text/plain": [
       "<catboost.core.CatBoostRegressor at 0x2374429c7f0>"
      ]
     },
     "metadata": {},
     "output_type": "display_data"
    }
   ],
   "source": [
    "model.fit(Xtrain, ytrain, verbose=False)"
   ]
  },
  {
   "cell_type": "code",
   "execution_count": null,
   "id": "589faba9",
   "metadata": {},
   "outputs": [
    {
     "data": {
      "text/plain": [
       "0.5683524680462445"
      ]
     },
     "metadata": {},
     "output_type": "display_data"
    }
   ],
   "source": [
    "model.score(Xtrain, ytrain)"
   ]
  },
  {
   "cell_type": "code",
   "execution_count": null,
   "id": "f0d1e3b8",
   "metadata": {},
   "outputs": [
    {
     "data": {
      "text/plain": [
       "0.10869186293870425"
      ]
     },
     "metadata": {},
     "output_type": "display_data"
    }
   ],
   "source": [
    "pred = model.predict(Xval)\n",
    "\n",
    "r2_score(yval, pred)"
   ]
  },
  {
   "cell_type": "code",
   "execution_count": null,
   "id": "72304100",
   "metadata": {},
   "outputs": [
    {
     "name": "stderr",
     "output_type": "stream",
     "text": [
      "[I 2025-05-05 14:47:28,171] A new study created in memory with name: no-name-9b4b75ed-6275-4497-b317-995ce301811b\n",
      "[I 2025-05-05 14:48:58,238] Trial 0 finished with value: 0.13971672369810184 and parameters: {'learning_rate': 0.2278671942342344, 'n_estimators': 258, 'depth': 15}. Best is trial 0 with value: 0.13971672369810184.\n",
      "[I 2025-05-05 14:49:00,677] Trial 1 finished with value: 0.1206618634556007 and parameters: {'learning_rate': 0.01747961266923613, 'n_estimators': 1203, 'depth': 3}. Best is trial 0 with value: 0.13971672369810184.\n",
      "[I 2025-05-05 14:49:08,238] Trial 2 finished with value: 0.1174423933511467 and parameters: {'learning_rate': 0.10009406764379737, 'n_estimators': 448, 'depth': 11}. Best is trial 0 with value: 0.13971672369810184.\n",
      "[I 2025-05-05 14:49:39,925] Trial 3 finished with value: 0.12681445472856256 and parameters: {'learning_rate': 0.024861691754279915, 'n_estimators': 1380, 'depth': 11}. Best is trial 0 with value: 0.13971672369810184.\n",
      "[I 2025-05-05 14:49:41,127] Trial 4 finished with value: 0.10476883896291178 and parameters: {'learning_rate': 0.05714487133065403, 'n_estimators': 1107, 'depth': 4}. Best is trial 0 with value: 0.13971672369810184.\n",
      "[I 2025-05-05 14:51:59,021] Trial 5 finished with value: 0.12061659979012318 and parameters: {'learning_rate': 0.03066860989966561, 'n_estimators': 1112, 'depth': 14}. Best is trial 0 with value: 0.13971672369810184.\n",
      "[I 2025-05-05 14:51:59,823] Trial 6 finished with value: 0.12475166419425565 and parameters: {'learning_rate': 0.14103323994411973, 'n_estimators': 733, 'depth': 3}. Best is trial 0 with value: 0.13971672369810184.\n",
      "[I 2025-05-05 14:52:00,262] Trial 7 finished with value: 0.11477944679222007 and parameters: {'learning_rate': 0.24120942273549656, 'n_estimators': 634, 'depth': 2}. Best is trial 0 with value: 0.13971672369810184.\n",
      "[I 2025-05-05 14:52:01,275] Trial 8 finished with value: 0.11096286878942663 and parameters: {'learning_rate': 0.09804119074117111, 'n_estimators': 1350, 'depth': 4}. Best is trial 0 with value: 0.13971672369810184.\n",
      "[I 2025-05-05 15:02:11,770] Trial 9 finished with value: 0.12261051462261952 and parameters: {'learning_rate': 0.013949182535855817, 'n_estimators': 1477, 'depth': 15}. Best is trial 0 with value: 0.13971672369810184.\n",
      "[I 2025-05-05 15:02:12,115] Trial 10 finished with value: 0.047881144511571994 and parameters: {'learning_rate': 0.29672788249555515, 'n_estimators': 19, 'depth': 8}. Best is trial 0 with value: 0.13971672369810184.\n",
      "[I 2025-05-05 15:02:30,965] Trial 11 finished with value: 0.11039630999440153 and parameters: {'learning_rate': 0.03326526041250357, 'n_estimators': 181, 'depth': 12}. Best is trial 0 with value: 0.13971672369810184.\n",
      "[I 2025-05-05 15:13:10,255] Trial 12 finished with value: 0.1115401473869293 and parameters: {'learning_rate': 0.02745210416490727, 'n_estimators': 374, 'depth': 16}. Best is trial 0 with value: 0.13971672369810184.\n",
      "[I 2025-05-05 15:13:12,477] Trial 13 finished with value: 0.11447149006845747 and parameters: {'learning_rate': 0.05060389504979926, 'n_estimators': 950, 'depth': 8}. Best is trial 0 with value: 0.13971672369810184.\n",
      "[I 2025-05-05 15:14:37,289] Trial 14 finished with value: 0.13123387697908417 and parameters: {'learning_rate': 0.011136082077398746, 'n_estimators': 880, 'depth': 12}. Best is trial 0 with value: 0.13971672369810184.\n"
     ]
    },
    {
     "name": "stdout",
     "output_type": "stream",
     "text": [
      "FrozenTrial(number=0, state=TrialState.COMPLETE, values=[0.13971672369810184], datetime_start=datetime.datetime(2025, 5, 5, 14, 47, 28, 173852), datetime_complete=datetime.datetime(2025, 5, 5, 14, 48, 58, 237249), params={'learning_rate': 0.2278671942342344, 'n_estimators': 258, 'depth': 15}, user_attrs={}, system_attrs={}, intermediate_values={}, distributions={'learning_rate': FloatDistribution(high=0.3, log=True, low=0.01, step=None), 'n_estimators': IntDistribution(high=1500, log=False, low=10, step=1), 'depth': IntDistribution(high=16, log=False, low=2, step=1)}, trial_id=0, value=None)\n"
     ]
    }
   ],
   "source": [
    "def objective(trial):\n",
    "    params = {\n",
    "        'learning_rate': trial.suggest_float('learning_rate', 0.01, 0.3, log=True),\n",
    "        'n_estimators': trial.suggest_int('n_estimators', 10, 1500),\n",
    "        'max_depth': trial.suggest_int('depth', 2, 16),\n",
    "        'verbose': 0,\n",
    "        'early_stopping_rounds': 50\n",
    "    }\n",
    "    estimator = CatBoostRegressor(**params, cat_features=cat_features)\n",
    "    estimator.fit(Xtrain, ytrain, eval_set=(Xval, yval), verbose=False,)\n",
    "    y_pred = estimator.predict(Xval)\n",
    "    return r2_score(yval, y_pred)\n",
    "\n",
    "\n",
    "study = optuna.create_study(direction=\"maximize\")\n",
    "study.optimize(objective, n_trials=15)\n",
    "print(study.best_trial)"
   ]
  },
  {
   "cell_type": "code",
   "execution_count": null,
   "id": "4b2af48a",
   "metadata": {},
   "outputs": [
    {
     "data": {
      "text/plain": [
       "0.12424653951416065"
      ]
     },
     "metadata": {},
     "output_type": "display_data"
    }
   ],
   "source": [
    "hyper_param_model = CatBoostRegressor(**study.best_params, cat_features=cat_features, verbose=False)\n",
    "hyper_param_model.fit(Xtrain, ytrain)\n",
    "new_pred = hyper_param_model.predict(Xval)\n",
    "r2_score(yval, new_pred)"
   ]
  },
  {
   "cell_type": "code",
   "execution_count": null,
   "id": "9a508814",
   "metadata": {},
   "outputs": [
    {
     "data": {
      "text/plain": [
       "0.4555612656347985"
      ]
     },
     "metadata": {},
     "output_type": "display_data"
    }
   ],
   "source": [
    "hyper_param_model.score(Xtrain, ytrain)"
   ]
  },
  {
   "cell_type": "code",
   "execution_count": null,
   "id": "59a1188d",
   "metadata": {},
   "outputs": [],
   "source": [
    "test_df = pd.read_csv(TEST)"
   ]
  },
  {
   "cell_type": "code",
   "execution_count": null,
   "id": "5ae44e8c",
   "metadata": {},
   "outputs": [
    {
     "name": "stdout",
     "output_type": "stream",
     "text": [
      "<class 'pandas.core.frame.DataFrame'>\n",
      "RangeIndex: 540 entries, 0 to 539\n",
      "Data columns (total 8 columns):\n",
      " #   Column                Non-Null Count  Dtype \n",
      "---  ------                --------------  ----- \n",
      " 0   Company               540 non-null    object\n",
      " 1   Specific Bean Origin  540 non-null    object\n",
      " 2   REF                   540 non-null    int64 \n",
      " 3   Review                540 non-null    int64 \n",
      " 4   Cocoa Percent         540 non-null    object\n",
      " 5   Company Location      540 non-null    object\n",
      " 6   Bean Type             540 non-null    object\n",
      " 7   Broad Bean Origin     540 non-null    object\n",
      "dtypes: int64(2), object(6)\n",
      "memory usage: 33.9+ KB\n"
     ]
    }
   ],
   "source": [
    "test_df.info()"
   ]
  },
  {
   "cell_type": "code",
   "execution_count": null,
   "id": "b5146a26",
   "metadata": {},
   "outputs": [],
   "source": [
    "cleaned_test_df = clean_data(test_df)"
   ]
  },
  {
   "cell_type": "code",
   "execution_count": null,
   "id": "b8dc1a33",
   "metadata": {},
   "outputs": [],
   "source": [
    "pred_test = hyper_param_model.predict(cleaned_test_df)"
   ]
  },
  {
   "cell_type": "code",
   "execution_count": null,
   "id": "34c7b8bd",
   "metadata": {},
   "outputs": [],
   "source": [
    "cleaned_test_df['id'] = np.arange(len(test_df))\n",
    "cleaned_test_df['Rating'] = pred_test\n",
    "\n",
    "cleaned_test_df[['id','Rating']].to_csv(\"submission2.csv\", index=False)"
   ]
  },
  {
   "cell_type": "code",
   "execution_count": 11,
   "id": "cdd29bb2",
   "metadata": {},
   "outputs": [],
   "source": [
    "from category_encoders.ordinal import OrdinalEncoder\n",
    "from category_encoders.one_hot import OneHotEncoder\n",
    "from category_encoders.target_encoder import TargetEncoder\n",
    "from category_encoders.leave_one_out import LeaveOneOutEncoder"
   ]
  },
  {
   "cell_type": "code",
   "execution_count": null,
   "id": "c7ff5241",
   "metadata": {},
   "outputs": [],
   "source": [
    "from sklearn.preprocessing import MinMaxScaler\n",
    "from sklearn.pipeline import Pipeline\n",
    "from sklearn.linear_model import LinearRegression, Ridge\n",
    "from sklearn.tree import DecisionTreeRegressor\n",
    "from sklearn.ensemble import RandomForestRegressor\n",
    "from sklearn.preprocessing import StandardScaler\n",
    "# по умолчанию smoothing = 10 (сглаживание)\n",
    "\n",
    "p2 = Pipeline([\n",
    "    ('encoder_',TargetEncoder(cols=cat_features, smoothing=1)),\n",
    "    ('scaler_', StandardScaler()),\n",
    "    ('model_', LinearRegression())\n",
    "    ])\n",
    "\n",
    "p3 = Pipeline([\n",
    "    ('encoder_',TargetEncoder(cols=cat_features, smoothing=100)),\n",
    "    ('scaler_', StandardScaler()),\n",
    "    ('model_', LinearRegression())\n",
    "    ])\n",
    "\n",
    "p4 = Pipeline([\n",
    "    ('encoder_',TargetEncoder(cols=cat_features, smoothing=1)),\n",
    "    ('scaler_', MinMaxScaler()),\n",
    "    ('model_', LinearRegression())\n",
    "    ])\n",
    "\n",
    "p5 = Pipeline([\n",
    "    ('encoder_',TargetEncoder(cols=cat_features, smoothing=10)),\n",
    "    ('scaler_', MinMaxScaler()),\n",
    "    ('model_', LinearRegression())\n",
    "    ])\n",
    "\n",
    "p6 = Pipeline([\n",
    "    ('encoder_',TargetEncoder(cols=cat_features, smoothing=100)),\n",
    "    ('scaler_', MinMaxScaler()),\n",
    "    ('model_', LinearRegression())\n",
    "    ])\n",
    "\n",
    "p7 = Pipeline([\n",
    "    ('encoder_',LeaveOneOutEncoder(cols=cat_features)),\n",
    "    ('scaler_', StandardScaler()),\n",
    "    ('model_', LinearRegression())\n",
    "    ])\n",
    "\n",
    "p8 = Pipeline([\n",
    "    ('encoder_',LeaveOneOutEncoder(cols=cat_features)),\n",
    "    ('scaler_', MinMaxScaler()),\n",
    "    ('model_', LinearRegression())\n",
    "    ])"
   ]
  }
 ],
 "metadata": {
  "kernelspec": {
   "display_name": "chocolate",
   "language": "python",
   "name": "python3"
  },
  "language_info": {
   "codemirror_mode": {
    "name": "ipython",
    "version": 3
   },
   "file_extension": ".py",
   "mimetype": "text/x-python",
   "name": "python",
   "nbconvert_exporter": "python",
   "pygments_lexer": "ipython3",
   "version": "3.9.22"
  }
 },
 "nbformat": 4,
 "nbformat_minor": 5
}
