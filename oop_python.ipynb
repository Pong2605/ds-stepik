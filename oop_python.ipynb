{
 "cells": [
  {
   "cell_type": "markdown",
   "metadata": {},
   "source": [
    "# 1.1 Классы. Атрибуты классов. Экземпляры классов."
   ]
  },
  {
   "cell_type": "code",
   "execution_count": 1,
   "metadata": {},
   "outputs": [],
   "source": [
    "# Объект в пайтон существет до тех пор, пока к ним ведет хотя бы одна ссылка"
   ]
  },
  {
   "cell_type": "code",
   "execution_count": 2,
   "metadata": {},
   "outputs": [],
   "source": [
    "class Wallet:               # объявление класса\n",
    "    type_wal = 'electron'   # атрибут\n",
    "    pass"
   ]
  },
  {
   "cell_type": "code",
   "execution_count": 3,
   "metadata": {},
   "outputs": [
    {
     "name": "stdout",
     "output_type": "stream",
     "text": [
      "<class '__main__.Wallet'>\n",
      "electron\n",
      "electron\n"
     ]
    }
   ],
   "source": [
    "print(Wallet)\n",
    "\n",
    "print(Wallet.type_wal)\n",
    "print(getattr(Wallet, 'type_wal', None))"
   ]
  },
  {
   "cell_type": "code",
   "execution_count": 4,
   "metadata": {},
   "outputs": [
    {
     "name": "stdout",
     "output_type": "stream",
     "text": [
      "<__main__.Wallet object at 0x000001F22BFB9A10>\n"
     ]
    }
   ],
   "source": [
    "# Создание экземляра класса\n",
    "\n",
    "wal = Wallet()\n",
    "print(wal)"
   ]
  },
  {
   "cell_type": "code",
   "execution_count": 5,
   "metadata": {},
   "outputs": [
    {
     "name": "stdout",
     "output_type": "stream",
     "text": [
      "{'__module__': '__main__', 'type_wal': 'electron', '__dict__': <attribute '__dict__' of 'Wallet' objects>, '__weakref__': <attribute '__weakref__' of 'Wallet' objects>, '__doc__': None}\n",
      "{}\n"
     ]
    }
   ],
   "source": [
    "print(Wallet.__dict__)\n",
    "print(wal.__dict__)     # у экземляра класса нет атрибутов класса"
   ]
  },
  {
   "cell_type": "code",
   "execution_count": 6,
   "metadata": {},
   "outputs": [
    {
     "name": "stdout",
     "output_type": "stream",
     "text": [
      "electron\n"
     ]
    }
   ],
   "source": [
    "print(wal.type_wal) # не найдя атрибут в экземпляре, атрибут ищется на уровень выше - в классе "
   ]
  },
  {
   "cell_type": "code",
   "execution_count": 7,
   "metadata": {},
   "outputs": [
    {
     "name": "stdout",
     "output_type": "stream",
     "text": [
      "el\n",
      "electron\n"
     ]
    }
   ],
   "source": [
    "# Изменение атрибута для экземляра класса    \n",
    "\n",
    "wal.type_wal = 'el'\n",
    "\n",
    "print(wal.type_wal)\n",
    "print(Wallet.type_wal)"
   ]
  },
  {
   "cell_type": "code",
   "execution_count": 8,
   "metadata": {},
   "outputs": [
    {
     "name": "stdout",
     "output_type": "stream",
     "text": [
      "el\n",
      "elect\n"
     ]
    }
   ],
   "source": [
    "# Изменение атрибута для экземляра класса    \n",
    "\n",
    "print(wal.type_wal)\n",
    "\n",
    "setattr(wal, 'type_wal', 'elect')\n",
    "\n",
    "print(wal.type_wal)"
   ]
  },
  {
   "cell_type": "code",
   "execution_count": 9,
   "metadata": {},
   "outputs": [
    {
     "name": "stdout",
     "output_type": "stream",
     "text": [
      "100000\n"
     ]
    }
   ],
   "source": [
    "# Создание атрибута\n",
    "\n",
    "Wallet.limit = 100_000\n",
    "\n",
    "# setattr(Wallet, 'limit', 100_000)\n",
    "\n",
    "print(Wallet.limit)"
   ]
  },
  {
   "cell_type": "code",
   "execution_count": 10,
   "metadata": {},
   "outputs": [
    {
     "name": "stdout",
     "output_type": "stream",
     "text": [
      "{'type_wal': 'elect', 'test': 123}\n"
     ]
    }
   ],
   "source": [
    "wal.test = 123\n",
    "\n",
    "print(wal.__dict__)"
   ]
  },
  {
   "cell_type": "code",
   "execution_count": 11,
   "metadata": {},
   "outputs": [
    {
     "name": "stdout",
     "output_type": "stream",
     "text": [
      "{'type_wal': 'elect'}\n"
     ]
    }
   ],
   "source": [
    "# Удаление атрибута\n",
    "\n",
    "del wal.test\n",
    "\n",
    "# delattr(wal, 'test')\n",
    "\n",
    "print(wal.__dict__)"
   ]
  },
  {
   "cell_type": "code",
   "execution_count": 12,
   "metadata": {},
   "outputs": [
    {
     "name": "stdout",
     "output_type": "stream",
     "text": [
      "{'type_wal': 'elect'}\n"
     ]
    }
   ],
   "source": [
    "print(wal.__dict__)"
   ]
  },
  {
   "cell_type": "code",
   "execution_count": 13,
   "metadata": {},
   "outputs": [
    {
     "name": "stdout",
     "output_type": "stream",
     "text": [
      "True\n",
      "False\n"
     ]
    }
   ],
   "source": [
    "# Проверка на наличие атрибута\n",
    "\n",
    "print(hasattr(wal, 'type_wal'))\n",
    "\n",
    "print(hasattr(wal, 'test'))"
   ]
  },
  {
   "cell_type": "code",
   "execution_count": 14,
   "metadata": {},
   "outputs": [],
   "source": [
    "# Вам необходимо создать класс ChuckNorris и прописать в нем атрибуты со следующими значениями:\n",
    "\n",
    "# hp - 'неограниченно'\n",
    "# ability - 'испепеляющий прищур'\n",
    "\n",
    "class ChuckNorris:\n",
    "    hp = 'неограниченно'\n",
    "    ability = 'испепеляющий прищур'"
   ]
  },
  {
   "cell_type": "code",
   "execution_count": 15,
   "metadata": {},
   "outputs": [],
   "source": [
    "# Создайте список lst в котором будет находится 666 объектов класса ChuckNorris. Выводить\n",
    "# на экран список не нужно.\n",
    "\n",
    "lst = [ChuckNorris() for _ in range(666)]"
   ]
  },
  {
   "cell_type": "markdown",
   "metadata": {},
   "source": [
    "# 1.2 Атрибуты экземпляров."
   ]
  },
  {
   "cell_type": "code",
   "execution_count": 16,
   "metadata": {},
   "outputs": [
    {
     "name": "stdout",
     "output_type": "stream",
     "text": [
      "{'__module__': '__main__', 'type_wal': 'electron', '__dict__': <attribute '__dict__' of 'Wallet' objects>, '__weakref__': <attribute '__weakref__' of 'Wallet' objects>, '__doc__': None, 'limit': 100000}\n",
      "{'money': 999}\n",
      "{}\n"
     ]
    }
   ],
   "source": [
    "wal_1 = Wallet()\n",
    "wal_2 = Wallet()\n",
    "\n",
    "setattr(wal_1, 'money', 999)\n",
    "\n",
    "print(Wallet.__dict__)\n",
    "print(wal_1.__dict__)\n",
    "print(wal_2.__dict__)"
   ]
  },
  {
   "cell_type": "code",
   "execution_count": 17,
   "metadata": {},
   "outputs": [],
   "source": [
    "delattr(wal_1, 'money')"
   ]
  },
  {
   "cell_type": "code",
   "execution_count": 18,
   "metadata": {},
   "outputs": [
    {
     "name": "stdout",
     "output_type": "stream",
     "text": [
      "500\n",
      "1000\n",
      "500\n"
     ]
    }
   ],
   "source": [
    "Wallet.money = 500\n",
    "print(wal_1.money)\n",
    "\n",
    "wal_1.money = 1000\n",
    "print(wal_1.money)\n",
    "print(Wallet.money)"
   ]
  },
  {
   "cell_type": "code",
   "execution_count": 19,
   "metadata": {},
   "outputs": [
    {
     "name": "stdout",
     "output_type": "stream",
     "text": [
      "True True False True True False True True False\n"
     ]
    }
   ],
   "source": [
    "# ам дан класс без атрибутов TumbaUmba. Вам необходимо создать функцию func, которая принимает целое число и должна вернуть список. \n",
    "# В котором будут экземпляры класса. Общее количество должно соответствовать значению аргумента функции. \n",
    "# 2/3 объектов в списке должны иметь атрибут warrior = True, остальная треть warrior = False. \n",
    "# Атрибуты объектов формируются по принципу первые 2 - warrior = True, третий объект - warrior = False и так далее. \n",
    "\n",
    "class TumbaUmba:\n",
    "    indentation = 'Тумба-Юмба'  \n",
    "\n",
    "def func(n):\n",
    "    arr = [TumbaUmba() for i in range(n)]\n",
    "    for i in range(len(arr)):\n",
    "        if (i + 1) % 3 == 0:\n",
    "            arr[i].warrior = False\n",
    "        else:\n",
    "            arr[i].warrior = True\n",
    "    return arr\n",
    "\n",
    "print(*map(lambda x: x.warrior, func(9)))"
   ]
  },
  {
   "cell_type": "code",
   "execution_count": 20,
   "metadata": {},
   "outputs": [
    {
     "name": "stdout",
     "output_type": "stream",
     "text": [
      "{'warrior': True}\n",
      "{'warrior': True}\n",
      "{'warrior': False}\n",
      "{'warrior': True}\n",
      "{'warrior': True}\n",
      "{'warrior': False}\n",
      "{'warrior': True}\n",
      "{'warrior': True}\n",
      "{'warrior': False}\n"
     ]
    }
   ],
   "source": [
    "class TumbaUmba:\n",
    "    indentation = 'Тумба-Юмба'  \n",
    "\n",
    "def func(n):\n",
    "    arr = [TumbaUmba() for i in range(n)]\n",
    "    for i in range(len(arr)):\n",
    "        if (i + 1) % 3 == 0:\n",
    "            arr[i].warrior = False\n",
    "        else:\n",
    "            arr[i].warrior = True\n",
    "    return arr\n",
    "\n",
    "arr = list(map(lambda x: x, func(9)))\n",
    "\n",
    "for item in arr:\n",
    "    print(item.__dict__)"
   ]
  },
  {
   "cell_type": "code",
   "execution_count": 21,
   "metadata": {},
   "outputs": [
    {
     "name": "stdout",
     "output_type": "stream",
     "text": [
      "True True False True True False True True False\n"
     ]
    }
   ],
   "source": [
    "class TumbaUmba:\n",
    "    indentation = 'Тумба-Юмба'  \n",
    "    def __init__(self, warrior):\n",
    "        self.warrior = bool(warrior)\n",
    "\n",
    "def func(n):\n",
    "    return [TumbaUmba(n % 3) for n in range(1, n + 1)]\n",
    "\n",
    "print(*map(lambda x: x.warrior, func(9)))"
   ]
  },
  {
   "cell_type": "code",
   "execution_count": 22,
   "metadata": {},
   "outputs": [
    {
     "name": "stdout",
     "output_type": "stream",
     "text": [
      "True True False True True False True True False\n"
     ]
    }
   ],
   "source": [
    "class TumbaUmba:\n",
    "    indentation = 'Тумба-Юмба'  \n",
    "\n",
    "def func(n):\n",
    "    is_warriors = [True, True, False]\n",
    "    arr = []\n",
    "    \n",
    "    for x in range(n):\n",
    "        person = TumbaUmba()\n",
    "        person.warrior = is_warriors[x % 3]\n",
    "        arr.append(person)\n",
    "    return arr\n",
    "\n",
    "print(*map(lambda x: x.warrior, func(9)))"
   ]
  },
  {
   "cell_type": "code",
   "execution_count": 23,
   "metadata": {},
   "outputs": [
    {
     "name": "stdout",
     "output_type": "stream",
     "text": [
      "{'__module__': '__main__', 'atr1': 1, 'atr2': 2, '__dict__': <attribute '__dict__' of 'Alphabet' objects>, '__weakref__': <attribute '__weakref__' of 'Alphabet' objects>, '__doc__': None}\n",
      "\n",
      "{'atr1': 2, 'atr2': 2, 'atr3': 3}\n",
      "\n",
      "{'atr3': 3}\n"
     ]
    }
   ],
   "source": [
    "# Вам дан экземпляр класса Alphabet. Он находится в переменной x. \n",
    "# Класс и экземпляр имеют свои собственные атрибуты. Некоторые атрибуты могут пересекаться, т.е. быть одноименными. \n",
    "# Ваша задача оставить в экземпляре только те атрибуты, которые не присутствуют в классе.\n",
    "\n",
    "class Alphabet():\n",
    "    atr1 = 1\n",
    "    atr2 = 2\n",
    "\n",
    "x = Alphabet()\n",
    "\n",
    "x.atr1 = 2\n",
    "x.atr2 = 2\n",
    "x.atr3 = 3\n",
    "\n",
    "print(Alphabet.__dict__)\n",
    "print()\n",
    "print(x.__dict__)\n",
    "print()\n",
    "\n",
    "for i in Alphabet.__dict__:\n",
    "    if i in x.__dict__:\n",
    "        delattr(x, i)\n",
    "\n",
    "print(x.__dict__)"
   ]
  },
  {
   "cell_type": "code",
   "execution_count": 24,
   "metadata": {},
   "outputs": [
    {
     "name": "stdout",
     "output_type": "stream",
     "text": [
      "{'money': 5000, 'name': 'Unknown'}\n"
     ]
    }
   ],
   "source": [
    "# 1.3 Инициализатор экземпляров.\n",
    "\n",
    "\n",
    "# Метод __init__ вызывается при создании экземляра класса и запускает некую логику\n",
    "# self - ссылка на атрибут\n",
    "\n",
    "class Wallet:\n",
    "    type_wal = 'electron'\n",
    "    limit = 100000\n",
    "\n",
    "    def __init__(self, money, name='Unknown'):\n",
    "        self.money = money\n",
    "        self.name = name\n",
    "\n",
    "\n",
    "wal_1 = Wallet(5000)\n",
    "print(wal_1.__dict__)"
   ]
  },
  {
   "cell_type": "code",
   "execution_count": 25,
   "metadata": {},
   "outputs": [
    {
     "name": "stdout",
     "output_type": "stream",
     "text": [
      "Я родился!\n"
     ]
    }
   ],
   "source": [
    "class Wallet:\n",
    "    type_wal = 'electron'\n",
    "    limit = 100000\n",
    "\n",
    "    def __init__(self, money): # убрали возможность переопределения атрибута name\n",
    "        self.money = money\n",
    "        self.name = 'Unknown'  # жестко задали значение атрибута, без возможности изменения значения\n",
    "        print('Я родился!')\n",
    "\n",
    "\n",
    "wal_1 = Wallet(5000)"
   ]
  },
  {
   "cell_type": "code",
   "execution_count": 26,
   "metadata": {},
   "outputs": [],
   "source": [
    "# Метод __del__ вызывается при уничтожении экземляра класса (при отсутсвии дальнейших ссылок на этот экземмпляр)\n",
    "\n",
    "class Wallet:\n",
    "    type_wal = 'electron'\n",
    "    limit = 100000\n",
    "\n",
    "    def __init__(self, money):\n",
    "        self.money = money\n",
    "        self.name = 'Unknown'\n",
    "\n",
    "    def __del__(self):\n",
    "        print('я сейчас пропаду!!!')\n",
    "\n",
    "\n",
    "wal_1 = Wallet(5000)"
   ]
  },
  {
   "cell_type": "code",
   "execution_count": 27,
   "metadata": {},
   "outputs": [
    {
     "name": "stdout",
     "output_type": "stream",
     "text": [
      "a b c d e f g h i j k l m n o p q r s t u v w x y z "
     ]
    }
   ],
   "source": [
    "# Вам нужно создать класс кнопки Button, инициализатор класса принимает строку(латинская буква нижнего регистра). \n",
    "# Эта буква сохраняется в атрибуте letter. Затем нужно в список lst поместить экземпляры класса. \n",
    "# В первом экземпляре атрибут будет равен 'a', во втором - 'b' и т.д. \n",
    "# Соответственно количество экземпляров класса соответствует количеству букв в алфавите.\n",
    "\n",
    "from string import ascii_lowercase\n",
    "\n",
    "class Button:\n",
    "    def __init__(self, letter):\n",
    "        self.letter = letter\n",
    "\n",
    "\n",
    "lst = [Button(s) for s in ascii_lowercase]\n",
    "\n",
    "for item in lst:\n",
    "    print(item.letter, end=' ')"
   ]
  },
  {
   "cell_type": "code",
   "execution_count": 28,
   "metadata": {},
   "outputs": [
    {
     "name": "stdout",
     "output_type": "stream",
     "text": [
      "a b c d e f g h i j k l m n o p q r s t u v w x y z "
     ]
    }
   ],
   "source": [
    "class Button:\n",
    "    def __init__(self, l):\n",
    "        self.letter = l\n",
    "    \n",
    "lst = [*map(Button, ascii_lowercase)]\n",
    "\n",
    "for item in lst:\n",
    "    print(item.letter, end=' ')"
   ]
  },
  {
   "cell_type": "code",
   "execution_count": 29,
   "metadata": {},
   "outputs": [
    {
     "name": "stdout",
     "output_type": "stream",
     "text": [
      "{'sock': 'левый'}\n",
      "{'sock': 'правый'}\n",
      "{'sock': 'левый'}\n",
      "{'sock': 'правый'}\n",
      "{'sock': 'левый'}\n",
      "{'sock': 'правый'}\n",
      "{'sock': 'левый'}\n",
      "{'sock': 'правый'}\n",
      "{'sock': 'левый'}\n",
      "{'sock': 'правый'}\n"
     ]
    }
   ],
   "source": [
    "# Вам необходимо создать класс носков Socks. \n",
    "# Необходимо при помощи инициализатора придумать механизм, \n",
    "# при котором при вызове экземпляра класса в нем прописывался атрибут sock со значением 'левый', \n",
    "# если создать еще один экземпляр, то его атрибут будет равен строке 'правый'. \n",
    "# И так попеременно, в независимости от количества экземпляров. \n",
    "# При создании экземпляра аргументы не прокидываются.\n",
    "\n",
    "class Socks:\n",
    "    def __init__(self):\n",
    "        self.sock = ('левый', 'правый')[i % 2]\n",
    "\n",
    "for i in range(10):\n",
    "    (x := Socks()), print(x.__dict__)"
   ]
  },
  {
   "cell_type": "code",
   "execution_count": 30,
   "metadata": {},
   "outputs": [
    {
     "name": "stdout",
     "output_type": "stream",
     "text": [
      "{'sock': 'левый'}\n",
      "{'sock': 'правый'}\n",
      "{'sock': 'левый'}\n",
      "{'sock': 'правый'}\n",
      "{'sock': 'левый'}\n",
      "{'sock': 'правый'}\n",
      "{'sock': 'левый'}\n",
      "{'sock': 'правый'}\n",
      "{'sock': 'левый'}\n",
      "{'sock': 'правый'}\n"
     ]
    }
   ],
   "source": [
    "class Socks:\n",
    "    cnt = 0\n",
    "\n",
    "    def __init__(self):\n",
    "        self.sock = ('левый', 'правый')[Socks.cnt % 2]\n",
    "        Socks.cnt += 1\n",
    "\n",
    "for i in range(10):\n",
    "    (x := Socks()), print(x.__dict__)"
   ]
  },
  {
   "cell_type": "code",
   "execution_count": 31,
   "metadata": {},
   "outputs": [
    {
     "name": "stdout",
     "output_type": "stream",
     "text": [
      "{'sock': 'левый'}\n",
      "{'sock': 'правый'}\n",
      "{'sock': 'левый'}\n",
      "{'sock': 'правый'}\n",
      "{'sock': 'левый'}\n",
      "{'sock': 'правый'}\n",
      "{'sock': 'левый'}\n",
      "{'sock': 'правый'}\n",
      "{'sock': 'левый'}\n",
      "{'sock': 'правый'}\n"
     ]
    }
   ],
   "source": [
    "from itertools import cycle\n",
    "\n",
    "class Socks:\n",
    "    foot = cycle(('левый', 'правый'))\n",
    "\n",
    "    def __init__(self):\n",
    "        self.sock = next(self.__class__.foot)\n",
    "\n",
    "for i in range(10):\n",
    "    (x := Socks()), print(x.__dict__)"
   ]
  },
  {
   "cell_type": "code",
   "execution_count": 32,
   "metadata": {},
   "outputs": [
    {
     "name": "stdout",
     "output_type": "stream",
     "text": [
      "{'blue': 'трактор', 'red': 'моська', 'ginger': 'бицепс'}\n",
      "{'garry': 'поттер', 'nikolai': 'Должанский', 'jora': 'цитрусовый'}\n",
      "{'noso': 'пырка', 'holodnii': 'ободок', 'korolevskii': 'сундук с сельдереем'}\n"
     ]
    }
   ],
   "source": [
    "# Вам необходимо создать класс Test, инициализатор класса принимает неограниченное количество именованных аргументов. \n",
    "# Необходимо чтобы вновь созданный экземпляр создавал свои атрибуты по принципу: \n",
    "# ключ аргумента - название атрибута, значение аргумента - значение атрибута.\n",
    "\n",
    "class Test:\n",
    "    def __init__(self, **kwargs):\n",
    "        for k,v in kwargs.items():\n",
    "            setattr(self, k, v)\n",
    "\n",
    "x = Test(blue='трактор', red='моська', ginger='бицепс')\n",
    "y = Test(garry='поттер', nikolai='Должанский', jora='цитрусовый')\n",
    "z = Test(noso='пырка', holodnii='ободок', korolevskii='сундук с сельдереем')\n",
    "print(x.__dict__, y.__dict__, z.__dict__, sep='\\n')"
   ]
  },
  {
   "cell_type": "code",
   "execution_count": 33,
   "metadata": {},
   "outputs": [
    {
     "name": "stdout",
     "output_type": "stream",
     "text": [
      "{'blue': 'трактор', 'red': 'моська', 'ginger': 'бицепс'}\n",
      "{'garry': 'поттер', 'nikolai': 'Должанский', 'jora': 'цитрусовый'}\n",
      "{'noso': 'пырка', 'holodnii': 'ободок', 'korolevskii': 'сундук с сельдереем'}\n"
     ]
    }
   ],
   "source": [
    "class Test:\n",
    "    def __init__(self, **kwargs):\n",
    "        self.__dict__.update(kwargs)\n",
    "\n",
    "x = Test(blue='трактор', red='моська', ginger='бицепс')\n",
    "y = Test(garry='поттер', nikolai='Должанский', jora='цитрусовый')\n",
    "z = Test(noso='пырка', holodnii='ободок', korolevskii='сундук с сельдереем')\n",
    "print(x.__dict__, y.__dict__, z.__dict__, sep='\\n')"
   ]
  },
  {
   "cell_type": "code",
   "execution_count": 34,
   "metadata": {},
   "outputs": [
    {
     "name": "stdout",
     "output_type": "stream",
     "text": [
      "{'ярость': 7, 'депрессия': 4, 'выпуклость': 7}\n",
      "{'ярость': 3, 'депрессия': 3, 'выпуклость': 7}\n"
     ]
    }
   ],
   "source": [
    "# Нам необходимо создать класс Human. Экземпляр класса при создании принимает в себя словарь. \n",
    "# Словарь представляет собой набор особенностей конкретного человека, ключами данного словаря является строка(особенность), \n",
    "# значение - целое число (от 1-го до 10-ти включительно), это своего рода шкала выраженности особенности. \n",
    "# Далее необходимо создать функцию func, которая принимает экземпляр класса. \n",
    "# Суть этой функции проверить есть ли в словаре данного экземпляра следующие особенности - (\"ярость\", \"депрессия\", \"безумие\"). \n",
    "# Если есть хотя бы одна из этих особенностей и ее значение превышает 3, то это значение необходимо опустить до 3, иначе ничего не делать. \n",
    "\n",
    "class Human:\n",
    "    def __init__(self, args):\n",
    "        self.atr = args\n",
    "\n",
    "def func(x):\n",
    "    d = {}\n",
    "    for k, v in x.atr.items():\n",
    "        d[k] = v\n",
    "        if k in (\"ярость\", \"депрессия\", \"безумие\") and v > 3:\n",
    "            d[k] = 3\n",
    "    x.atr = d\n",
    "            \n",
    "\n",
    "x = Human({'ярость': 7, 'депрессия': 4, 'выпуклость': 7})\n",
    "\n",
    "print(*x.__dict__.values())\n",
    "func(x)\n",
    "print(*x.__dict__.values())"
   ]
  },
  {
   "cell_type": "code",
   "execution_count": 35,
   "metadata": {},
   "outputs": [
    {
     "name": "stdout",
     "output_type": "stream",
     "text": [
      "{'ярость': 7, 'депрессия': 4, 'выпуклость': 7}\n",
      "{'ярость': 3, 'депрессия': 3, 'выпуклость': 7}\n"
     ]
    }
   ],
   "source": [
    "class Human:\n",
    "    def __init__(self, atr: dict):\n",
    "        self.atr = atr\n",
    "\n",
    "def func(x: Human):\n",
    "    for key in (\"ярость\", \"депрессия\", \"безумие\"):\n",
    "        if x.atr.get(key, 0) > 3:\n",
    "            x.atr[key] = 3\n",
    "\n",
    "x = Human({'ярость': 7, 'депрессия': 4, 'выпуклость': 7})\n",
    "\n",
    "print(*x.__dict__.values())\n",
    "func(x)\n",
    "print(*x.__dict__.values())"
   ]
  },
  {
   "cell_type": "code",
   "execution_count": 115,
   "metadata": {},
   "outputs": [
    {
     "name": "stdout",
     "output_type": "stream",
     "text": [
      "{'atr': 'пурпурный'}\n",
      "{'atr': 'не пурпурный'}\n",
      "{'atr': 'пурпурный'}\n",
      "{'atr': 'не пурпурный'}\n",
      "{'atr': 'не пурпурный'}\n",
      "{'atr': 'пурпурный'}\n",
      "{'atr': 'не пурпурный'}\n"
     ]
    }
   ],
   "source": [
    "# Ваша задача написать класс Test. Экземпляр класса принимает строку в атрибут atr. \n",
    "# Этот атрибут ожидает строку \"пурпурный\", если это так - он принимает значение. \n",
    "# Также он может принять это значение если строка похожа на это слово. Критерии схожести:\n",
    "\n",
    "#  - длина строки и набор букв идентичный\n",
    "#  - для получения слова \"пурпурный\" нужно перетасовать только одну пару букв.\n",
    "\n",
    "# Иначе атрибут atr принимает значение \"не пурпурный\". Нужно только объявить класс.\n",
    "\n",
    "class Test:\n",
    "\n",
    "    def __init__(self, atr):\n",
    "        if atr == 'пурпурный':\n",
    "             self.atr = atr\n",
    "        elif len(atr) == len('пурпурный') and set(atr) == set('пурпурный') and sum(a != b for a, b in zip(atr, 'пурпурный')) == 2:\n",
    "            self.atr = 'пурпурный'\n",
    "        else:\n",
    "            self.atr = 'не пурпурный'\n",
    "\n",
    "print(Test('пурпурный').__dict__)\n",
    "print(Test('пурпурныи').__dict__)\n",
    "print(Test('пурпурынй').__dict__)\n",
    "print(Test('ппрпурный').__dict__)\n",
    "print(Test('прупруный').__dict__)\n",
    "print(Test('йурпурнып').__dict__)\n",
    "print(Test('пурпурныйй').__dict__)"
   ]
  },
  {
   "cell_type": "code",
   "execution_count": 116,
   "metadata": {},
   "outputs": [
    {
     "name": "stdout",
     "output_type": "stream",
     "text": [
      "{'atr': 'пурпурный'}\n",
      "{'atr': 'не пурпурный'}\n",
      "{'atr': 'пурпурный'}\n",
      "{'atr': 'не пурпурный'}\n",
      "{'atr': 'не пурпурный'}\n",
      "{'atr': 'пурпурный'}\n",
      "{'atr': 'не пурпурный'}\n"
     ]
    }
   ],
   "source": [
    "class Test:\n",
    "    purple = 'пурпурный'\n",
    "\n",
    "    def __init__(self, atr: str):\n",
    "        self.atr = atr\n",
    "\n",
    "    def __setattr__(self, key: str, value: str):\n",
    "        val = self.purple\n",
    "        if sorted(self.purple) != sorted(value) or sum(a != b for a, b in zip(self.purple, value)) > 2:\n",
    "            val = f'не {val}'\n",
    "        super().__setattr__(key, val)\n",
    "\n",
    "print(Test('пурпурный').__dict__)\n",
    "print(Test('пурпурныи').__dict__)\n",
    "print(Test('пурпурынй').__dict__)\n",
    "print(Test('ппрпурный').__dict__)\n",
    "print(Test('прупруный').__dict__)\n",
    "print(Test('йурпурнып').__dict__)\n",
    "print(Test('пурпурныйй').__dict__)"
   ]
  },
  {
   "cell_type": "code",
   "execution_count": null,
   "metadata": {},
   "outputs": [],
   "source": []
  }
 ],
 "metadata": {
  "kernelspec": {
   "display_name": "base",
   "language": "python",
   "name": "python3"
  },
  "language_info": {
   "codemirror_mode": {
    "name": "ipython",
    "version": 3
   },
   "file_extension": ".py",
   "mimetype": "text/x-python",
   "name": "python",
   "nbconvert_exporter": "python",
   "pygments_lexer": "ipython3",
   "version": "3.11.11"
  }
 },
 "nbformat": 4,
 "nbformat_minor": 2
}
