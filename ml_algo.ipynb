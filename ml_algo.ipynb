{
 "cells": [
  {
   "cell_type": "markdown",
   "id": "7f41a0a4",
   "metadata": {},
   "source": [
    "# Импорты"
   ]
  },
  {
   "cell_type": "code",
   "execution_count": 1,
   "id": "c5b426a2",
   "metadata": {},
   "outputs": [],
   "source": [
    "import pandas as pd\n",
    "import numpy as np"
   ]
  },
  {
   "cell_type": "markdown",
   "id": "8d62bea9",
   "metadata": {},
   "source": [
    "# 2.1 Линейная регрессия"
   ]
  },
  {
   "cell_type": "code",
   "execution_count": 2,
   "id": "0af018d5",
   "metadata": {},
   "outputs": [
    {
     "name": "stdout",
     "output_type": "stream",
     "text": [
      "MyLineReg: n_iter=10, learning_rate=0.5\n"
     ]
    }
   ],
   "source": [
    "# Создайте класс MyLineReg.\n",
    "\n",
    "# Данный класс при инициализации должен принимать на вход два параметра:\n",
    "\n",
    "# n_iter — количество шагов градиентного спуска.\n",
    "# По-умолчанию: 100\n",
    "# learning_rate — коэффициент скорости обучения градиентного спуска.\n",
    "# По-умолчанию: 0.1\n",
    "# Все переданные (или дефолтные) параметры должны быть сохранены внутри класса.\n",
    "\n",
    "# При обращении к экземпляру класса (или при передачи его в функцию print) необходимо распечатать строку по следующему шаблону (строго в таком виде):\n",
    "\n",
    "# MyLineReg class: n_iter=<n_iter>, learning_rate=<learning_rate>\n",
    "\n",
    "class MyLineReg():\n",
    "    def __init__(self, n_iter=100, learning_rate=0.1):\n",
    "        self.n_iter = n_iter\n",
    "        self.learning_rate = learning_rate\n",
    "        \n",
    "    def __str__(self):\n",
    "        return f'{__class__.__name__}: n_iter={self.n_iter}, learning_rate={self.learning_rate}'\n",
    "    \n",
    "d = MyLineReg(n_iter=10, learning_rate=0.5)\n",
    "print(d)"
   ]
  },
  {
   "cell_type": "code",
   "execution_count": 3,
   "id": "f987a045",
   "metadata": {},
   "outputs": [
    {
     "name": "stdout",
     "output_type": "stream",
     "text": [
      "MyLineReg class: n_iter=10, learning_rate=0.5\n"
     ]
    }
   ],
   "source": [
    "class MyLineReg():\n",
    "    def __init__(self, **kwargs):\n",
    "        self.n_iter = kwargs.get(\"n_iter\")\n",
    "        self.learning_rate = kwargs.get(\"learning_rate\")\n",
    "       \n",
    "    def __repr__(self):\n",
    "        return f\"MyLineReg class: n_iter={self.n_iter}, learning_rate={self.learning_rate}\"\n",
    "\n",
    "d = MyLineReg(n_iter=10, learning_rate=0.5)\n",
    "print(d)"
   ]
  },
  {
   "cell_type": "code",
   "execution_count": 4,
   "id": "9e442b7b",
   "metadata": {},
   "outputs": [
    {
     "data": {
      "text/html": [
       "<div>\n",
       "<style scoped>\n",
       "    .dataframe tbody tr th:only-of-type {\n",
       "        vertical-align: middle;\n",
       "    }\n",
       "\n",
       "    .dataframe tbody tr th {\n",
       "        vertical-align: top;\n",
       "    }\n",
       "\n",
       "    .dataframe thead th {\n",
       "        text-align: right;\n",
       "    }\n",
       "</style>\n",
       "<table border=\"1\" class=\"dataframe\">\n",
       "  <thead>\n",
       "    <tr style=\"text-align: right;\">\n",
       "      <th></th>\n",
       "      <th>col_0</th>\n",
       "      <th>col_1</th>\n",
       "      <th>col_2</th>\n",
       "      <th>col_3</th>\n",
       "      <th>col_4</th>\n",
       "      <th>col_5</th>\n",
       "      <th>col_6</th>\n",
       "      <th>col_7</th>\n",
       "      <th>col_8</th>\n",
       "      <th>col_9</th>\n",
       "      <th>col_10</th>\n",
       "      <th>col_11</th>\n",
       "      <th>col_12</th>\n",
       "      <th>col_13</th>\n",
       "    </tr>\n",
       "  </thead>\n",
       "  <tbody>\n",
       "    <tr>\n",
       "      <th>0</th>\n",
       "      <td>1.191261</td>\n",
       "      <td>-0.308960</td>\n",
       "      <td>0.675137</td>\n",
       "      <td>-1.460501</td>\n",
       "      <td>0.053059</td>\n",
       "      <td>-1.886129</td>\n",
       "      <td>2.710794</td>\n",
       "      <td>-1.716033</td>\n",
       "      <td>0.865290</td>\n",
       "      <td>0.138078</td>\n",
       "      <td>-0.063745</td>\n",
       "      <td>-2.104583</td>\n",
       "      <td>-0.476876</td>\n",
       "      <td>1.677116</td>\n",
       "    </tr>\n",
       "    <tr>\n",
       "      <th>1</th>\n",
       "      <td>1.071476</td>\n",
       "      <td>-1.424766</td>\n",
       "      <td>-1.109750</td>\n",
       "      <td>-0.457677</td>\n",
       "      <td>0.399997</td>\n",
       "      <td>1.587401</td>\n",
       "      <td>-1.547570</td>\n",
       "      <td>0.323247</td>\n",
       "      <td>0.165859</td>\n",
       "      <td>-0.302097</td>\n",
       "      <td>0.203944</td>\n",
       "      <td>-0.212452</td>\n",
       "      <td>0.836991</td>\n",
       "      <td>0.368498</td>\n",
       "    </tr>\n",
       "    <tr>\n",
       "      <th>2</th>\n",
       "      <td>-0.045929</td>\n",
       "      <td>1.868603</td>\n",
       "      <td>-0.016568</td>\n",
       "      <td>-0.484258</td>\n",
       "      <td>1.089905</td>\n",
       "      <td>-1.147160</td>\n",
       "      <td>0.590744</td>\n",
       "      <td>0.683325</td>\n",
       "      <td>-0.571184</td>\n",
       "      <td>-0.802199</td>\n",
       "      <td>-0.220114</td>\n",
       "      <td>0.034808</td>\n",
       "      <td>0.043829</td>\n",
       "      <td>0.955803</td>\n",
       "    </tr>\n",
       "    <tr>\n",
       "      <th>3</th>\n",
       "      <td>-1.487154</td>\n",
       "      <td>2.220322</td>\n",
       "      <td>0.718332</td>\n",
       "      <td>1.682888</td>\n",
       "      <td>-0.420986</td>\n",
       "      <td>-0.054746</td>\n",
       "      <td>1.900832</td>\n",
       "      <td>-0.101198</td>\n",
       "      <td>0.090042</td>\n",
       "      <td>-0.202924</td>\n",
       "      <td>0.340865</td>\n",
       "      <td>0.606237</td>\n",
       "      <td>-0.037008</td>\n",
       "      <td>-0.841048</td>\n",
       "    </tr>\n",
       "    <tr>\n",
       "      <th>4</th>\n",
       "      <td>0.344054</td>\n",
       "      <td>0.657763</td>\n",
       "      <td>0.348342</td>\n",
       "      <td>-0.417430</td>\n",
       "      <td>-0.589112</td>\n",
       "      <td>1.057814</td>\n",
       "      <td>-0.487705</td>\n",
       "      <td>-0.897830</td>\n",
       "      <td>-0.935596</td>\n",
       "      <td>-1.186993</td>\n",
       "      <td>1.074333</td>\n",
       "      <td>-0.069532</td>\n",
       "      <td>-0.177918</td>\n",
       "      <td>-0.912811</td>\n",
       "    </tr>\n",
       "  </tbody>\n",
       "</table>\n",
       "</div>"
      ],
      "text/plain": [
       "      col_0     col_1     col_2     col_3     col_4     col_5     col_6  \\\n",
       "0  1.191261 -0.308960  0.675137 -1.460501  0.053059 -1.886129  2.710794   \n",
       "1  1.071476 -1.424766 -1.109750 -0.457677  0.399997  1.587401 -1.547570   \n",
       "2 -0.045929  1.868603 -0.016568 -0.484258  1.089905 -1.147160  0.590744   \n",
       "3 -1.487154  2.220322  0.718332  1.682888 -0.420986 -0.054746  1.900832   \n",
       "4  0.344054  0.657763  0.348342 -0.417430 -0.589112  1.057814 -0.487705   \n",
       "\n",
       "      col_7     col_8     col_9    col_10    col_11    col_12    col_13  \n",
       "0 -1.716033  0.865290  0.138078 -0.063745 -2.104583 -0.476876  1.677116  \n",
       "1  0.323247  0.165859 -0.302097  0.203944 -0.212452  0.836991  0.368498  \n",
       "2  0.683325 -0.571184 -0.802199 -0.220114  0.034808  0.043829  0.955803  \n",
       "3 -0.101198  0.090042 -0.202924  0.340865  0.606237 -0.037008 -0.841048  \n",
       "4 -0.897830 -0.935596 -1.186993  1.074333 -0.069532 -0.177918 -0.912811  "
      ]
     },
     "execution_count": 4,
     "metadata": {},
     "output_type": "execute_result"
    }
   ],
   "source": [
    "from sklearn.datasets import make_regression\n",
    "\n",
    "X, y = make_regression(n_samples=1000, n_features=14, n_informative=10, noise=15, random_state=42)\n",
    "X = pd.DataFrame(X)\n",
    "y = pd.Series(y)\n",
    "X.columns = [f'col_{col}' for col in X.columns]\n",
    "X.head()"
   ]
  },
  {
   "cell_type": "code",
   "execution_count": 5,
   "id": "b4958b8b",
   "metadata": {},
   "outputs": [
    {
     "name": "stdout",
     "output_type": "stream",
     "text": [
      "MyLineReg class: n_iter=100, learning_rate=0.1\n",
      "start | loss: 20621.089638778492\n",
      "10 | loss: 657.737973587785\n",
      "20 | loss: 231.51002421258792\n",
      "30 | loss: 223.84038255545846\n",
      "40 | loss: 223.66948016014277\n",
      "50 | loss: 223.66509145066428\n",
      "60 | loss: 223.6649686493838\n",
      "70 | loss: 223.66496503955807\n",
      "80 | loss: 223.66496493046685\n",
      "90 | loss: 223.66496492711875\n",
      "100 | loss: 223.66496492701512\n"
     ]
    }
   ],
   "source": [
    "# В инициализатор класса добавить новый параметр — weights — который будет хранить веса модели. По умолчанию он ничего не содержит.\n",
    "# Вам необходимо реализовать метод fit в Вашем классе. Данный метод должен делать следующее:\n",
    "# На вход принимать три атрибута:\n",
    "# - X — все фичи в виде датафрейма пандаса.\n",
    "#   Примечание: даже если фича будет всего одна это все равно будет датафрейм, а не серия.\n",
    "# - y — целевая переменная в виде пандасовской серии.\n",
    "# - verbose — указывает на какой итерации выводить лог. Например, значение 10 означает, \n",
    "# что на каждой 10 итерации градиентного спуска будет печататься лог. Значение по умолчанию: False (т.е. ничего не выводится).\n",
    "# Дополнить переданную матрицу фичей единичным столбцом слева.\n",
    "# Определить сколько фичей передано и создать вектор весов, состоящий из одних единиц соответствующей длинны: т.е. количество фичей + 1.\n",
    "# Дальше в цикле (до n_iter):\n",
    "# - Предсказать y^\n",
    "# - Посчитать ошибку (MSE)\n",
    "# - Вычислить градиент\n",
    "# - Сделать шаг размером learning rate в противоположную от градиента сторону\n",
    "# - Сохранить обновленные веса внутри класса\n",
    "# В процессе обучения необходимо выводить лог, в котором указывать номер итерации и значение функций потерь:\n",
    "# start | loss: 42027.65\n",
    "# 100 | loss: 1222.87\n",
    "# 200 | loss: 232.17\n",
    "# 300 | loss: 202.4\n",
    "# где start - значении функции потерь до начала обучения. Далее выводится каждое i-ое значение итерации переданное в параметре verbose. \n",
    "# Если verbose = False, то лог не выводится вовсе.\n",
    "# З.Ы. Данный вывод никак проверяться не будет. Он в основном нужен для отладки. \n",
    "# Поэтому можете модифицировать его внешний вид под свои нужды.\n",
    "# Метод ничего не возвращает.\n",
    "# Необходимо реализовать метод get_coef, который будет возвращать значения весов в виде вектора NumPy, \n",
    "# начиная со второго значения. Первое значение нам не нужно, потому что оно соответствует фиктивной фиче (единичке). \n",
    "# Все же остальные могут использоваться для оценки важности фичей.\n",
    "\n",
    "\n",
    "class MyLineReg():\n",
    "    def __init__(self, n_iter=100, learning_rate=0.1, weights=None):\n",
    "        self.n_iter = n_iter\n",
    "        self.learning_rate = learning_rate\n",
    "        self.weights = weights\n",
    "       \n",
    "    def __repr__(self):\n",
    "        return f'MyLineReg class: n_iter={self.n_iter}, learning_rate={self.learning_rate}'\n",
    "    \n",
    "    def fit(self, X: pd.DataFrame, y: pd.Series, verbose=False):\n",
    "        X = np.c_[np.ones(len(X)), X.values]\n",
    "        n_features = X.shape[1]\n",
    "        self.weights = np.ones(n_features)\n",
    "\n",
    "        if verbose:\n",
    "            y_pred = X @ self.weights\n",
    "            loss = np.mean(np.square(y_pred - y))\n",
    "            print(f'start | loss: {loss}')\n",
    "\n",
    "        for i in range(self.n_iter):\n",
    "            y_pred = X @ self.weights\n",
    "            loss = np.mean(np.square(y_pred - y))\n",
    "            grad = 2 * X.T @ (y_pred - y) / len(y_pred)\n",
    "            self.weights -= self.learning_rate * grad\n",
    "        \n",
    "            if verbose and (i+1) % verbose == 0:\n",
    "                print(f'{i+1} | loss: {loss}')\n",
    "\n",
    "    def get_coef(self):\n",
    "        return self.weights[1:]\n",
    "    \n",
    "d = MyLineReg(n_iter=100, learning_rate=0.1)\n",
    "print(d)\n",
    "\n",
    "d.fit(X, y, 10)"
   ]
  },
  {
   "cell_type": "code",
   "execution_count": 6,
   "id": "f118ea53",
   "metadata": {},
   "outputs": [
    {
     "name": "stdout",
     "output_type": "stream",
     "text": [
      "MyLineReg class: n_iter=100, learning_rate=0.1\n",
      "start | loss: 20621.089638778492\n",
      "10 | loss: 657.737973587785\n",
      "20 | loss: 231.51002421258792\n",
      "30 | loss: 223.84038255545846\n",
      "40 | loss: 223.66948016014277\n",
      "50 | loss: 223.66509145066428\n",
      "60 | loss: 223.6649686493838\n",
      "70 | loss: 223.66496503955807\n",
      "80 | loss: 223.66496493046685\n",
      "90 | loss: 223.66496492711875\n",
      "100 | loss: 223.66496492701512\n"
     ]
    }
   ],
   "source": [
    "# Добавьте в класс MyLineReg метод predict. Данный метод должен делать следующее:\n",
    "\n",
    "# На вход принимать матрицу фичей в виде датафрейма пандаса.\n",
    "# Дополнять матрицу фичей единичным вектором (первый столбец).\n",
    "# Возвращать вектор предсказаний.\n",
    "# Напомню, что предсказание выполняется следующим образом y^ = XW\n",
    "\n",
    "class MyLineReg():\n",
    "    def __init__(self, n_iter=100, learning_rate=0.1, weights=None):\n",
    "        self.n_iter = n_iter\n",
    "        self.learning_rate = learning_rate\n",
    "        self.weights = weights\n",
    "       \n",
    "    def __repr__(self):\n",
    "        return f'MyLineReg class: n_iter={self.n_iter}, learning_rate={self.learning_rate}'\n",
    "    \n",
    "    def fit(self, X: pd.DataFrame, y: pd.Series, verbose=False):\n",
    "        X = np.c_[np.ones(len(X)), X.values]\n",
    "        n_features = X.shape[1]\n",
    "        self.weights = np.ones(n_features)\n",
    "\n",
    "        if verbose:\n",
    "            y_pred = X @ self.weights\n",
    "            loss = np.mean(np.square(y_pred - y))\n",
    "            print(f'start | loss: {loss}')\n",
    "\n",
    "        for i in range(self.n_iter):\n",
    "            y_pred = X @ self.weights\n",
    "            loss = np.mean(np.square(y_pred - y))\n",
    "            grad = 2 * X.T @ (y_pred - y) / len(y_pred)\n",
    "            self.weights -= self.learning_rate * grad\n",
    "        \n",
    "            if verbose and (i+1) % verbose == 0:\n",
    "                print(f'{i+1} | loss: {loss}')\n",
    "\n",
    "    def get_coef(self):\n",
    "        return self.weights[1:]\n",
    "    \n",
    "    def predict(self, X: pd.DataFrame):\n",
    "        X = np.c_[np.ones(len(X)), X.values]\n",
    "        y_pred = X @ self.weights\n",
    "        return np.sum(y_pred)\n",
    "        \n",
    "d = MyLineReg(n_iter=100, learning_rate=0.1)\n",
    "print(d)\n",
    "\n",
    "d.fit(X, y, 10)\n"
   ]
  },
  {
   "cell_type": "code",
   "execution_count": 7,
   "id": "04e34669",
   "metadata": {},
   "outputs": [
    {
     "data": {
      "text/plain": [
       "array([ 8, -3,  3])"
      ]
     },
     "execution_count": 7,
     "metadata": {},
     "output_type": "execute_result"
    }
   ],
   "source": [
    "c = np.array([5, -1, 2]) - np.array([-3, 2, -1])  \n",
    "c\n",
    "# np.sum(np.square(c))"
   ]
  },
  {
   "cell_type": "code",
   "execution_count": 10,
   "id": "a3ee7f1e",
   "metadata": {},
   "outputs": [
    {
     "name": "stdout",
     "output_type": "stream",
     "text": [
      "[-2 -2 -2] [-2 -2 -2]\n"
     ]
    },
    {
     "data": {
      "text/plain": [
       "True"
      ]
     },
     "execution_count": 10,
     "metadata": {},
     "output_type": "execute_result"
    }
   ],
   "source": [
    "vector1 = np.array(list(map(int, input().split())))\n",
    "vector2 = np.array(list(map(int, input().split())))\n",
    "vector1 = vector1[0:3] - vector1[3:]\n",
    "vector2 = vector2[0:3] - vector2[3:]\n",
    "print(vector1, vector2)\n",
    "np.allclose(vector1, vector2)"
   ]
  },
  {
   "cell_type": "code",
   "execution_count": 35,
   "id": "ee1bd78d",
   "metadata": {},
   "outputs": [
    {
     "name": "stdout",
     "output_type": "stream",
     "text": [
      "12.365251967896453\n"
     ]
    }
   ],
   "source": [
    "mysterious_line = ((0, 0, 0), (1, 1, 0), (2, -2, 0), (2, 2, 2), (3, 1, -1))\n",
    "vector_length = 0\n",
    "mysterious_line = [np.array(i) for i in mysterious_line]\n",
    "\n",
    "# for i in range(1, len(mysterious_line)):\n",
    "#     x2, y2, z2 = mysterious_line[i]\n",
    "#     x1, y1, z1 = mysterious_line[i - 1]\n",
    "#     vector_length += ((x2 - x1) ** 2 + (y2 - y1) ** 2 + (z2 - z1) ** 2) ** 0.5\n",
    "\n",
    "for i in range(1, len(mysterious_line)):\n",
    "\n",
    "    vector_length += np.sqrt(np.sum((mysterious_line[i]-mysterious_line[i-1])**2))\n",
    "\n",
    "print(vector_length)"
   ]
  },
  {
   "cell_type": "code",
   "execution_count": null,
   "id": "3c3fe79f",
   "metadata": {},
   "outputs": [
    {
     "name": "stdout",
     "output_type": "stream",
     "text": [
      "4.47213595499958\n",
      "6.0\n"
     ]
    }
   ],
   "source": [
    "a = (2, -2, 0)\n",
    "b = (2, 2, 2)\n",
    "x2, y2, z2 = b\n",
    "x1, y1, z1 = a\n",
    "vector_length = ((x2 - x1) ** 2 + (y2 - y1) ** 2 + (z2 - z1) ** 2) ** 0.5\n",
    "print(vector_length)\n",
    "a = np.array(a)\n",
    "b = np.array(b)\n",
    "vector_length = np.sqrt(np.sum((b-a)**2))\n",
    "print(vector_length)"
   ]
  },
  {
   "cell_type": "code",
   "execution_count": null,
   "id": "8697145e",
   "metadata": {},
   "outputs": [],
   "source": []
  }
 ],
 "metadata": {
  "kernelspec": {
   "display_name": "ml",
   "language": "python",
   "name": "python3"
  },
  "language_info": {
   "codemirror_mode": {
    "name": "ipython",
    "version": 3
   },
   "file_extension": ".py",
   "mimetype": "text/x-python",
   "name": "python",
   "nbconvert_exporter": "python",
   "pygments_lexer": "ipython3",
   "version": "3.12.3"
  }
 },
 "nbformat": 4,
 "nbformat_minor": 5
}
