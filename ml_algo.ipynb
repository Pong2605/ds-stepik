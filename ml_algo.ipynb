{
 "cells": [
  {
   "cell_type": "markdown",
   "id": "7f41a0a4",
   "metadata": {},
   "source": [
    "# Импорты"
   ]
  },
  {
   "cell_type": "code",
   "execution_count": 24,
   "id": "c5b426a2",
   "metadata": {},
   "outputs": [],
   "source": [
    "import pandas as pd\n",
    "import numpy as np"
   ]
  },
  {
   "cell_type": "markdown",
   "id": "8d62bea9",
   "metadata": {},
   "source": [
    "# 2.1 Линейная регрессия"
   ]
  },
  {
   "cell_type": "code",
   "execution_count": 25,
   "id": "0af018d5",
   "metadata": {},
   "outputs": [
    {
     "name": "stdout",
     "output_type": "stream",
     "text": [
      "MyLineReg: n_iter=10, learning_rate=0.5\n"
     ]
    }
   ],
   "source": [
    "# Создайте класс MyLineReg.\n",
    "\n",
    "# Данный класс при инициализации должен принимать на вход два параметра:\n",
    "\n",
    "# n_iter — количество шагов градиентного спуска.\n",
    "# По-умолчанию: 100\n",
    "# learning_rate — коэффициент скорости обучения градиентного спуска.\n",
    "# По-умолчанию: 0.1\n",
    "# Все переданные (или дефолтные) параметры должны быть сохранены внутри класса.\n",
    "\n",
    "# При обращении к экземпляру класса (или при передачи его в функцию print) необходимо распечатать строку по следующему шаблону (строго в таком виде):\n",
    "\n",
    "# MyLineReg class: n_iter=<n_iter>, learning_rate=<learning_rate>\n",
    "\n",
    "class MyLineReg():\n",
    "    def __init__(self, n_iter=100, learning_rate=0.1):\n",
    "        self.n_iter = n_iter\n",
    "        self.learning_rate = learning_rate\n",
    "    def __str__(self):\n",
    "        return f'{__class__.__name__}: n_iter={self.n_iter}, learning_rate={self.learning_rate}'\n",
    "    \n",
    "d = MyLineReg(n_iter=10, learning_rate=0.5)\n",
    "print(d)"
   ]
  },
  {
   "cell_type": "code",
   "execution_count": 26,
   "id": "f987a045",
   "metadata": {},
   "outputs": [
    {
     "name": "stdout",
     "output_type": "stream",
     "text": [
      "MyLineReg class: n_iter=10, learning_rate=0.5\n"
     ]
    }
   ],
   "source": [
    "class MyLineReg():\n",
    "    def __init__(self, **kwargs):\n",
    "        self.n_iter = kwargs.get(\"n_iter\")\n",
    "        self.learning_rate = kwargs.get(\"learning_rate\")\n",
    "       \n",
    "    def __repr__(self):\n",
    "        return f\"MyLineReg class: n_iter={self.n_iter}, learning_rate={self.learning_rate}\"\n",
    "\n",
    "d = MyLineReg(n_iter=10, learning_rate=0.5)\n",
    "print(d)"
   ]
  },
  {
   "cell_type": "code",
   "execution_count": null,
   "id": "433eb837",
   "metadata": {},
   "outputs": [],
   "source": []
  },
  {
   "cell_type": "code",
   "execution_count": null,
   "id": "a72f13bc",
   "metadata": {},
   "outputs": [],
   "source": []
  },
  {
   "cell_type": "code",
   "execution_count": null,
   "id": "b4958b8b",
   "metadata": {},
   "outputs": [],
   "source": []
  },
  {
   "cell_type": "code",
   "execution_count": null,
   "id": "acb3b847",
   "metadata": {},
   "outputs": [],
   "source": []
  },
  {
   "cell_type": "code",
   "execution_count": null,
   "id": "cb8d2361",
   "metadata": {},
   "outputs": [],
   "source": []
  }
 ],
 "metadata": {
  "kernelspec": {
   "display_name": "ml",
   "language": "python",
   "name": "python3"
  },
  "language_info": {
   "codemirror_mode": {
    "name": "ipython",
    "version": 3
   },
   "file_extension": ".py",
   "mimetype": "text/x-python",
   "name": "python",
   "nbconvert_exporter": "python",
   "pygments_lexer": "ipython3",
   "version": "3.12.3"
  }
 },
 "nbformat": 4,
 "nbformat_minor": 5
}
