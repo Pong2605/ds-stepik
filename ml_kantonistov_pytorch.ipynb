{
 "cells": [
  {
   "cell_type": "code",
   "execution_count": 167,
   "id": "0516f3cf",
   "metadata": {},
   "outputs": [],
   "source": [
    "# !pip install torch torchvision torchaudio"
   ]
  },
  {
   "cell_type": "markdown",
   "id": "8cd00715",
   "metadata": {},
   "source": [
    "# Импорты"
   ]
  },
  {
   "cell_type": "code",
   "execution_count": 168,
   "id": "4a7cf14a",
   "metadata": {},
   "outputs": [],
   "source": [
    "import pandas as pd\n",
    "import numpy as np\n",
    "import torch\n",
    "import matplotlib.pyplot as plt"
   ]
  },
  {
   "cell_type": "code",
   "execution_count": 169,
   "id": "b878275b",
   "metadata": {},
   "outputs": [],
   "source": [
    "from IPython.display import display"
   ]
  },
  {
   "cell_type": "markdown",
   "id": "f92cd6d8",
   "metadata": {},
   "source": [
    "# 4.1  Знакомство с PyTorch"
   ]
  },
  {
   "attachments": {
    "image.png": {
     "image/png": "[encoded data removed]"
    }
   },
   "cell_type": "markdown",
   "id": "407078c0",
   "metadata": {},
   "source": [
    "![image.png](attachment:image.png)"
   ]
  },
  {
   "cell_type": "code",
   "execution_count": 170,
   "id": "48a7676b",
   "metadata": {},
   "outputs": [
    {
     "data": {
      "text/plain": [
       "tensor(-12., grad_fn=<MulBackward0>)"
      ]
     },
     "metadata": {},
     "output_type": "display_data"
    }
   ],
   "source": [
    "# Определим функцию как последовательность операций\n",
    "\n",
    "x = torch.tensor(-2., requires_grad=True)\n",
    "y = torch.tensor(5., requires_grad=True)\n",
    "z = torch.tensor(-4., requires_grad=True)\n",
    "\n",
    "q = x + y\n",
    "f = q * z\n",
    "\n",
    "display(f)"
   ]
  },
  {
   "cell_type": "code",
   "execution_count": 171,
   "id": "84713c52",
   "metadata": {},
   "outputs": [
    {
     "name": "stdout",
     "output_type": "stream",
     "text": [
      "df/dz = tensor(3.)\n",
      "df/dx = tensor(-4.)\n",
      "df/dy = tensor(-4.)\n"
     ]
    }
   ],
   "source": [
    "# По описанной последовательности операций на лету строится граф вычислений, и обратный проход выполняется по нему\n",
    "# Вызов метода backward() вычисляет градиенты для всех тензоров, у которых requires_grad == True\n",
    "\n",
    "f.backward()\n",
    "\n",
    "print('df/dz =', z.grad)\n",
    "print('df/dx =', x.grad)\n",
    "print('df/dy =', y.grad)"
   ]
  },
  {
   "cell_type": "code",
   "execution_count": 172,
   "id": "87ecd4ee",
   "metadata": {},
   "outputs": [],
   "source": [
    "# Попробуем создать несколько тензоров. Тензоры с вещественными компонентами типа float32 создаются следующим образом:\n",
    "\n",
    "v = torch.empty(5)       # вектор из 5 элементов (заполнен \"мусором\")\n",
    "m = torch.empty(3, 3)    # матрица формы (3,3) (заполнена \"мусором\")\n",
    "x = torch.empty_like(m)  # матрица такой же формы как m (заполнена \"мусором\")"
   ]
  },
  {
   "cell_type": "code",
   "execution_count": 173,
   "id": "6824ae1f",
   "metadata": {},
   "outputs": [],
   "source": [
    "# Тензор можно также создать из списка Python или numpy-массива:\n",
    "\n",
    "x = torch.tensor( [ [0, 1, 2], [3, 4, 5] ] )  # матрица размера (2, 3) типа int64\n",
    "s = torch.tensor(123.)                        # скаляр (dim=0) типа float32\n",
    "ss = torch.tensor(123, dtype=torch.double)    # тоже скаляр, но типа float64\n",
    "e = torch.from_numpy(np.eye(3))               # единичная матрица размера (3, 3)"
   ]
  },
  {
   "cell_type": "code",
   "execution_count": 174,
   "id": "2f2fe77f",
   "metadata": {},
   "outputs": [
    {
     "name": "stdout",
     "output_type": "stream",
     "text": [
      "2 torch.LongTensor 6\n",
      "torch.Size([2, 3]) torch.Size([2, 3])\n",
      "(2, 3) 2 3\n",
      "123.0 0\n"
     ]
    }
   ],
   "source": [
    "# Основные свойства тензора можно получить следующим образом:\n",
    "\n",
    "print( x.dim(),  x.type(), x.numel() )   # размерность, тип элементов, их количество\n",
    "print( x.size(), x.shape )               # torch.Size([2, 3])\n",
    "print( tuple(x.shape), *x.shape )        # (2, 3)\n",
    "print( s.item(), s.dim()  )              # 123 0"
   ]
  },
  {
   "cell_type": "code",
   "execution_count": 175,
   "id": "8c4f2e75",
   "metadata": {},
   "outputs": [
    {
     "name": "stdout",
     "output_type": "stream",
     "text": [
      "tensor(225)\n"
     ]
    }
   ],
   "source": [
    "print(torch.sum(torch.arange(1, 6) ** 3))"
   ]
  },
  {
   "cell_type": "code",
   "execution_count": 176,
   "id": "8c32c19e",
   "metadata": {},
   "outputs": [
    {
     "data": {
      "text/plain": [
       "torch.Size([2, 2, 3])"
      ]
     },
     "execution_count": 176,
     "metadata": {},
     "output_type": "execute_result"
    }
   ],
   "source": [
    "x = torch.tensor([[ [0, 1, 2], [3, 4, 5] ], [ [0, 1, 2], [3, 4, 5] ]])\n",
    "x.size()"
   ]
  },
  {
   "cell_type": "markdown",
   "id": "d9faab1e",
   "metadata": {},
   "source": [
    "# 4.2 PyTorch vs NumPy"
   ]
  },
  {
   "cell_type": "markdown",
   "id": "d4e97a6a",
   "metadata": {},
   "source": [
    "Интерфейс `PyTorch` реализован подобно интерфесу `NumPy` для удобства использования. Главное различие между ними, что `NumPy` оперрирует `numpy.ndarray` массивами, а `PyTorch` &mdash; тензорами `pytorch.Tensor`. Напишем одни и те же операции на `NumPy` и `PyTorch`."
   ]
  },
  {
   "cell_type": "markdown",
   "id": "dd0913bf",
   "metadata": {},
   "source": [
    "### NumPy"
   ]
  },
  {
   "cell_type": "code",
   "execution_count": 177,
   "id": "b586ad0a",
   "metadata": {},
   "outputs": [],
   "source": [
    "x = np.arange(16).reshape(4, 4)"
   ]
  },
  {
   "cell_type": "code",
   "execution_count": 178,
   "id": "ea70d577",
   "metadata": {},
   "outputs": [
    {
     "name": "stdout",
     "output_type": "stream",
     "text": [
      "Матрица X:\n",
      "[[ 0  1  2  3]\n",
      " [ 4  5  6  7]\n",
      " [ 8  9 10 11]\n",
      " [12 13 14 15]]\n",
      "\n",
      "Размер: (4, 4)\n",
      "\n",
      "Добавление константы:\n",
      "[[ 5  6  7  8]\n",
      " [ 9 10 11 12]\n",
      " [13 14 15 16]\n",
      " [17 18 19 20]]\n",
      "\n",
      "X*X^T:\n",
      "[[ 14  38  62  86]\n",
      " [ 38 126 214 302]\n",
      " [ 62 214 366 518]\n",
      " [ 86 302 518 734]]\n",
      "\n",
      "Среднее по колонкам:\n",
      "[ 1.5  5.5  9.5 13.5]\n",
      "\n",
      "Кумулятивная сумма по колонкам:\n",
      "[[ 0  1  2  3]\n",
      " [ 4  6  8 10]\n",
      " [12 15 18 21]\n",
      " [24 28 32 36]]\n",
      "\n"
     ]
    }
   ],
   "source": [
    "print(f\"Матрица X:\\n{x}\\n\")\n",
    "print(f\"Размер: {x.shape}\\n\")\n",
    "print(f\"Добавление константы:\\n{x + 5}\\n\")\n",
    "print(f\"X*X^T:\\n{np.dot(x, x.T)}\\n\")\n",
    "print(f\"Среднее по колонкам:\\n{x.mean(axis=-1)}\\n\")\n",
    "print(f\"Кумулятивная сумма по колонкам:\\n{np.cumsum(x, axis=0)}\\n\")"
   ]
  },
  {
   "cell_type": "markdown",
   "id": "17db4a75",
   "metadata": {},
   "source": [
    "### PyTorch"
   ]
  },
  {
   "cell_type": "code",
   "execution_count": 179,
   "id": "e108aff1",
   "metadata": {},
   "outputs": [
    {
     "data": {
      "text/plain": [
       "tensor([[ 0.,  1.,  2.,  3.],\n",
       "        [ 4.,  5.,  6.,  7.],\n",
       "        [ 8.,  9., 10., 11.],\n",
       "        [12., 13., 14., 15.]])"
      ]
     },
     "metadata": {},
     "output_type": "display_data"
    },
    {
     "data": {
      "text/plain": [
       "torch.float32"
      ]
     },
     "metadata": {},
     "output_type": "display_data"
    }
   ],
   "source": [
    "x = np.arange(16).reshape(4, 4)\n",
    "x = torch.tensor(x, dtype=torch.float32)\n",
    "\n",
    "display(x, x.dtype)"
   ]
  },
  {
   "cell_type": "markdown",
   "id": "b4eca0ff",
   "metadata": {},
   "source": [
    "ИЛИ"
   ]
  },
  {
   "cell_type": "code",
   "execution_count": 180,
   "id": "839b8cb5",
   "metadata": {},
   "outputs": [
    {
     "data": {
      "text/plain": [
       "tensor([[ 0.,  1.,  2.,  3.],\n",
       "        [ 4.,  5.,  6.,  7.],\n",
       "        [ 8.,  9., 10., 11.],\n",
       "        [12., 13., 14., 15.]])"
      ]
     },
     "metadata": {},
     "output_type": "display_data"
    },
    {
     "data": {
      "text/plain": [
       "torch.float32"
      ]
     },
     "metadata": {},
     "output_type": "display_data"
    }
   ],
   "source": [
    "x = torch.arange(0, 16, dtype=torch.float32).view(4, 4)\n",
    "\n",
    "display(x, x.dtype)"
   ]
  },
  {
   "cell_type": "code",
   "execution_count": 181,
   "id": "e42f81cd",
   "metadata": {},
   "outputs": [
    {
     "name": "stdout",
     "output_type": "stream",
     "text": [
      "Матрица X:\n",
      "tensor([[ 0.,  1.,  2.,  3.],\n",
      "        [ 4.,  5.,  6.,  7.],\n",
      "        [ 8.,  9., 10., 11.],\n",
      "        [12., 13., 14., 15.]])\n",
      "\n",
      "Размер: torch.Size([4, 4])\n",
      "\n",
      "Добавление константы:\n",
      "tensor([[ 5.,  6.,  7.,  8.],\n",
      "        [ 9., 10., 11., 12.],\n",
      "        [13., 14., 15., 16.],\n",
      "        [17., 18., 19., 20.]])\n",
      "X*X^T:\n",
      "tensor([[ 14.,  38.,  62.,  86.],\n",
      "        [ 38., 126., 214., 302.],\n",
      "        [ 62., 214., 366., 518.],\n",
      "        [ 86., 302., 518., 734.]])\n",
      "\n",
      "Среднее по колонкам:\n",
      "tensor([ 1.5000,  5.5000,  9.5000, 13.5000])\n",
      "\n",
      "Кумулятивная сумма по колонкам:\n",
      "tensor([[ 0.,  1.,  2.,  3.],\n",
      "        [ 4.,  6.,  8., 10.],\n",
      "        [12., 15., 18., 21.],\n",
      "        [24., 28., 32., 36.]])\n"
     ]
    }
   ],
   "source": [
    "print(f\"Матрица X:\\n{x}\\n\")\n",
    "print(f\"Размер: {x.shape}\\n\")\n",
    "print(f\"Добавление константы:\\n{x + 5}\")\n",
    "print(f\"X*X^T:\\n{torch.matmul(x, x.transpose(1, 0))}\\n\")  # кратко: x.mm(x.t())\n",
    "print(f\"Среднее по колонкам:\\n{torch.mean(x, dim=-1)}\\n\")\n",
    "print(f\"Кумулятивная сумма по колонкам:\\n{torch.cumsum(x, dim=0)}\")"
   ]
  },
  {
   "cell_type": "markdown",
   "id": "112ff8a0",
   "metadata": {},
   "source": [
    "Заметим, что некоторые названия методов отличаются и полной совместимости библиотек пока нет, и придется сново запоминать новые названия для некоторых функций.\n",
    "\n",
    "Например, PyTorch имеет другое написание стандартных типов\n",
    " * `x.astype('int64') -> x.type(torch.LongTensor)`\n",
    "\n",
    "\n",
    "Для более подробного ознакомления можно посмотреть на [таблицу](https://github.com/torch/torch7/wiki/Torch-for-Numpy-users) перевода методов из NumPy в PyTorch, а также заглянуть в [документацию](http://pytorch.org/docs/master/)."
   ]
  },
  {
   "cell_type": "markdown",
   "id": "e6c1802a",
   "metadata": {},
   "source": [
    "### Конвертация из NumPy в PyTorch (и обратно)"
   ]
  },
  {
   "cell_type": "markdown",
   "id": "8b59db20",
   "metadata": {},
   "source": [
    "Можно переводить numpy-массив в torch-тензор и наоборот."
   ]
  },
  {
   "cell_type": "markdown",
   "id": "291766a6",
   "metadata": {},
   "source": [
    "Например, сделаем из numpy-массива torch-тензор"
   ]
  },
  {
   "cell_type": "code",
   "execution_count": 182,
   "id": "0b09d28a",
   "metadata": {},
   "outputs": [
    {
     "name": "stdout",
     "output_type": "stream",
     "text": [
      "<class 'torch.Tensor'> tensor([2, 5, 7, 1], dtype=torch.int32)\n",
      "<class 'torch.Tensor'> tensor([2, 5, 7, 1], dtype=torch.int32)\n"
     ]
    }
   ],
   "source": [
    "# зададим numpy массив\n",
    "x_np = np.array([2, 5, 7, 1])\n",
    "\n",
    "# 1-й способ\n",
    "x_torch = torch.tensor(x_np)\n",
    "print(type(x_torch), x_torch)\n",
    "\n",
    "# 2-й способ\n",
    "x_torch = torch.from_numpy(x_np)\n",
    "print(type(x_torch), x_torch)"
   ]
  },
  {
   "cell_type": "markdown",
   "id": "a9be5562",
   "metadata": {},
   "source": [
    "Аналогично и с переводом обратно:  \n",
    "функция `x.numpy()` переведет torch-тензор `x` в numpy-массив, причем типы переведутся соответственно таблице"
   ]
  },
  {
   "cell_type": "code",
   "execution_count": 183,
   "id": "dce3cbc5",
   "metadata": {},
   "outputs": [
    {
     "name": "stdout",
     "output_type": "stream",
     "text": [
      "<class 'numpy.ndarray'> [2 5 7 1]\n"
     ]
    }
   ],
   "source": [
    "x_np = x_torch.numpy()\n",
    "print(type(x_np), x_np)"
   ]
  },
  {
   "cell_type": "markdown",
   "id": "127aceff",
   "metadata": {},
   "source": [
    "## Создание и инициализация тензоров"
   ]
  },
  {
   "cell_type": "markdown",
   "id": "86ccc008",
   "metadata": {},
   "source": [
    "### Создание тензоров"
   ]
  },
  {
   "cell_type": "code",
   "execution_count": 184,
   "id": "9938bccc",
   "metadata": {},
   "outputs": [
    {
     "data": {
      "text/plain": [
       "tensor([[0, 1, 2],\n",
       "        [3, 4, 6]])"
      ]
     },
     "execution_count": 184,
     "metadata": {},
     "output_type": "execute_result"
    }
   ],
   "source": [
    "x = torch.tensor([ [0,1,2], [3,4,6] ])\n",
    "x"
   ]
  },
  {
   "cell_type": "markdown",
   "id": "b55a7a42",
   "metadata": {},
   "source": [
    "Тензор можно создавать при помощи конструкторов. Доступны следующие типы:  \n",
    "\n",
    "\n",
    "*  HalfTensor   - `float16`\n",
    "*  FloatTensor  - `float32`\n",
    "*  DoubleTensor - `float64`\n",
    "\n",
    "\n",
    "*  ShortTensor  - `int16`\n",
    "*  IntTensor    - `int32`\n",
    "*  LongTensor   - `int64`\n",
    "*  CharTensor   - `int8`\n",
    "\n",
    "\n",
    "*  ByteTensor   - `uint8`\n",
    "*  BoolTensor   - `bool`"
   ]
  },
  {
   "cell_type": "code",
   "execution_count": 185,
   "id": "4867293d",
   "metadata": {},
   "outputs": [
    {
     "data": {
      "text/plain": [
       "(tensor([[ 3.2923e-22,  1.1827e-42, -3.6471e-01, -2.1569e-01],\n",
       "         [-2.7059e-01, -3.6471e-01, -3.7255e-01, -3.6471e-01]]),\n",
       " torch.float32)"
      ]
     },
     "execution_count": 185,
     "metadata": {},
     "output_type": "execute_result"
    }
   ],
   "source": [
    "x = torch.Tensor(2, 4)\n",
    "x, x.dtype"
   ]
  },
  {
   "cell_type": "code",
   "execution_count": 186,
   "id": "d88db044",
   "metadata": {},
   "outputs": [
    {
     "data": {
      "text/plain": [
       "tensor([[3.2924e-22, 1.1827e-42, 1.4013e-45, 0.0000e+00],\n",
       "        [1.4013e-45, 0.0000e+00, 4.5098e-01, 3.6471e-01]])"
      ]
     },
     "metadata": {},
     "output_type": "display_data"
    },
    {
     "data": {
      "text/plain": [
       "torch.float32"
      ]
     },
     "metadata": {},
     "output_type": "display_data"
    }
   ],
   "source": [
    "x = torch.FloatTensor(2, 4)\n",
    "display(x)\n",
    "display(x.dtype)"
   ]
  },
  {
   "cell_type": "code",
   "execution_count": 187,
   "id": "20d53672",
   "metadata": {},
   "outputs": [
    {
     "data": {
      "text/plain": [
       "tensor([[0.0000e+00, 3.0312e+00, 0.0000e+00, 1.7500e+00],\n",
       "        [0.0000e+00, 1.7500e+00, 1.5318e-05, 1.5318e-05]], dtype=torch.float16)"
      ]
     },
     "metadata": {},
     "output_type": "display_data"
    },
    {
     "data": {
      "text/plain": [
       "torch.float16"
      ]
     },
     "metadata": {},
     "output_type": "display_data"
    }
   ],
   "source": [
    "x = torch.HalfTensor(2, 4)\n",
    "display(x)\n",
    "display(x.dtype)"
   ]
  },
  {
   "cell_type": "code",
   "execution_count": 188,
   "id": "223b9750",
   "metadata": {},
   "outputs": [
    {
     "data": {
      "text/plain": [
       "tensor([[1.7912e-311,  0.0000e+00,  0.0000e+00,  0.0000e+00],\n",
       "        [ 0.0000e+00,  0.0000e+00,  0.0000e+00,  0.0000e+00]],\n",
       "       dtype=torch.float64)"
      ]
     },
     "metadata": {},
     "output_type": "display_data"
    },
    {
     "data": {
      "text/plain": [
       "torch.float64"
      ]
     },
     "metadata": {},
     "output_type": "display_data"
    }
   ],
   "source": [
    "x = torch.DoubleTensor(2, 4)\n",
    "display(x)\n",
    "display(x.dtype)"
   ]
  },
  {
   "cell_type": "code",
   "execution_count": 189,
   "id": "086821a6",
   "metadata": {},
   "outputs": [
    {
     "data": {
      "text/plain": [
       "tensor([[ 1058253479,  1062032097,  1052803392,  1064181924],\n",
       "        [ 1053728979, -1090157178, -1092163866, -1095058758]],\n",
       "       dtype=torch.int32)"
      ]
     },
     "metadata": {},
     "output_type": "display_data"
    },
    {
     "data": {
      "text/plain": [
       "torch.int32"
      ]
     },
     "metadata": {},
     "output_type": "display_data"
    }
   ],
   "source": [
    "x = torch.IntTensor(2, 4)\n",
    "display(x)\n",
    "display(x.dtype)"
   ]
  },
  {
   "cell_type": "code",
   "execution_count": 190,
   "id": "c5f77092",
   "metadata": {},
   "outputs": [
    {
     "data": {
      "text/plain": [
       "tensor([[  257,   257,     0,     0],\n",
       "        [    0, 16128,     0,     0]], dtype=torch.int16)"
      ]
     },
     "metadata": {},
     "output_type": "display_data"
    },
    {
     "data": {
      "text/plain": [
       "torch.int16"
      ]
     },
     "metadata": {},
     "output_type": "display_data"
    }
   ],
   "source": [
    "x = torch.ShortTensor(2, 4)\n",
    "display(x)\n",
    "display(x.dtype)"
   ]
  },
  {
   "cell_type": "code",
   "execution_count": 191,
   "id": "d13585d4",
   "metadata": {},
   "outputs": [
    {
     "data": {
      "text/plain": [
       "tensor([[3625418361472,             0,             0,             0],\n",
       "        [            0,             0,             0,             0]])"
      ]
     },
     "metadata": {},
     "output_type": "display_data"
    },
    {
     "data": {
      "text/plain": [
       "torch.int64"
      ]
     },
     "metadata": {},
     "output_type": "display_data"
    }
   ],
   "source": [
    "x = torch.LongTensor(2, 4)\n",
    "display(x)\n",
    "display(x.dtype)"
   ]
  },
  {
   "cell_type": "markdown",
   "id": "efcf8e3c",
   "metadata": {},
   "source": [
    "Тип элементов можно также указывать в методе `empty()` или функциях инициализации"
   ]
  },
  {
   "cell_type": "code",
   "execution_count": 192,
   "id": "26bba289",
   "metadata": {},
   "outputs": [
    {
     "data": {
      "text/plain": [
       "(tensor([[-1.8602e-14,  9.7636e-14,  1.1238e-16],\n",
       "         [ 5.5522e-12,  3.6678e-16, 9.8813e-324]], dtype=torch.float64),\n",
       " tensor([[2.2732e-13, 4.9866e-13, 6.4214e-13],\n",
       "         [4.4318e-13, 2.7349e-13, 0.0000e+00]], dtype=torch.float64),\n",
       " tensor([[0, 0, 0],\n",
       "         [0, 0, 0]]),\n",
       " tensor([[0, 0, 0],\n",
       "         [0, 0, 0]]))"
      ]
     },
     "execution_count": 192,
     "metadata": {},
     "output_type": "execute_result"
    }
   ],
   "source": [
    "x_1 = torch.empty(2,3, dtype=torch.float64)\n",
    "x_2 = torch.empty(2,3, dtype=torch.double)\n",
    "y_1 = torch.zeros(2,3, dtype=torch.int64)\n",
    "y_2 = torch.zeros(2,3, dtype=torch.long)\n",
    "\n",
    "x_1, x_2, y_1, y_2"
   ]
  },
  {
   "cell_type": "markdown",
   "id": "994dd9fb",
   "metadata": {},
   "source": [
    "Размер элемента"
   ]
  },
  {
   "cell_type": "code",
   "execution_count": 193,
   "id": "1ce89bf5",
   "metadata": {},
   "outputs": [
    {
     "data": {
      "text/plain": [
       "8"
      ]
     },
     "execution_count": 193,
     "metadata": {},
     "output_type": "execute_result"
    }
   ],
   "source": [
    "y_2.element_size()"
   ]
  },
  {
   "cell_type": "markdown",
   "id": "7f29a812",
   "metadata": {},
   "source": [
    "### Инициализация значений"
   ]
  },
  {
   "cell_type": "code",
   "execution_count": 194,
   "id": "4e76585c",
   "metadata": {},
   "outputs": [],
   "source": [
    "y = torch.zeros (2, 3)                   # матрица 2x3 из нулей  типа float32\n",
    "x = torch.zeros_like(y)                  # такой же формы как y из нулей\n",
    "\n",
    "x = torch.ones (2, 3)                    # матрица 2x3 из единиц\n",
    "x = torch.ones_like(y)                   # такой же формы как y из единиц\n",
    "\n",
    "x = torch.full((2, 3), 3.14159265)       # заполнить матрицу 2x3 числом pi\n",
    "\n",
    "x = torch.eye   (3)                      # единичная матрица 3x3\n",
    "x = torch.eye   (2,3)                    # \"единичная\" не квадратная [[1., 0., 0.],\n",
    "                                         #                            [0., 1., 0.]]\n",
    "x = torch.linspace(0,2,5)                # [0.0,0.5,1.0,1.5,2.0] [beg,end], num\n",
    "\n",
    "x = torch.rand (2, 3)                    # 2x3 равномерно случ.матрица [0...1]\n",
    "x = torch.randn(2, 3)                    # 2x3 нормально  случ.матрица (mean=0, var=1)\n",
    "\n",
    "x = torch.empty(3).uniform_(0, 1)        # вектор с равномерным распределением [0..1]\n",
    "x = torch.empty(3).normal_(mean=0,std=1) # вектор с нормальным распределением"
   ]
  },
  {
   "cell_type": "code",
   "execution_count": 195,
   "id": "62d18fb0",
   "metadata": {},
   "outputs": [],
   "source": [
    "x = torch.arange(4)                      # [0,1,2,3]             [0,end)\n",
    "x = torch.arange(2, 14, 3)               # [2,5,8,11]            [beg,end), step\n",
    "\n",
    "x = torch.randperm(10)                   # [8,6,9,3,5,0,1,4,7,2] - случ.перестановка\n",
    "x = torch.randint (1, 10, (2,3))         # 2x3 случ.целых из интервала [1...10)"
   ]
  },
  {
   "cell_type": "markdown",
   "id": "85a0506e",
   "metadata": {},
   "source": [
    "## Операции над тензорами"
   ]
  },
  {
   "cell_type": "markdown",
   "id": "e0e4b0e2",
   "metadata": {},
   "source": [
    "### Арифметические операции"
   ]
  },
  {
   "cell_type": "code",
   "execution_count": 196,
   "id": "606a0d94",
   "metadata": {},
   "outputs": [
    {
     "data": {
      "text/plain": [
       "tensor([[1, 1, 1],\n",
       "        [1, 1, 1]], dtype=torch.int32)"
      ]
     },
     "execution_count": 196,
     "metadata": {},
     "output_type": "execute_result"
    }
   ],
   "source": [
    "x = torch.ones(2, 3).to(torch.int32)\n",
    "x"
   ]
  },
  {
   "cell_type": "code",
   "execution_count": 197,
   "id": "ca738c31",
   "metadata": {},
   "outputs": [
    {
     "data": {
      "text/plain": [
       "tensor([[-1, -1, -1],\n",
       "        [-1, -1, -1]], dtype=torch.int32)"
      ]
     },
     "execution_count": 197,
     "metadata": {},
     "output_type": "execute_result"
    }
   ],
   "source": [
    "y = x * -1\n",
    "y"
   ]
  },
  {
   "cell_type": "code",
   "execution_count": 198,
   "id": "86c810bd",
   "metadata": {},
   "outputs": [
    {
     "data": {
      "text/plain": [
       "tensor([[0, 0, 0],\n",
       "        [0, 0, 0]], dtype=torch.int32)"
      ]
     },
     "execution_count": 198,
     "metadata": {},
     "output_type": "execute_result"
    }
   ],
   "source": [
    "# x.add(y)\n",
    "x + y"
   ]
  },
  {
   "cell_type": "code",
   "execution_count": 199,
   "id": "df68e981",
   "metadata": {},
   "outputs": [
    {
     "data": {
      "text/plain": [
       "tensor([[2, 2, 2],\n",
       "        [2, 2, 2]], dtype=torch.int32)"
      ]
     },
     "execution_count": 199,
     "metadata": {},
     "output_type": "execute_result"
    }
   ],
   "source": [
    "# x.sub(y)\n",
    "x - y"
   ]
  },
  {
   "cell_type": "code",
   "execution_count": 200,
   "id": "2b7992a6",
   "metadata": {},
   "outputs": [
    {
     "data": {
      "text/plain": [
       "tensor([[-1, -1, -1],\n",
       "        [-1, -1, -1]], dtype=torch.int32)"
      ]
     },
     "execution_count": 200,
     "metadata": {},
     "output_type": "execute_result"
    }
   ],
   "source": [
    "# x.mul(y)\n",
    "x * y"
   ]
  },
  {
   "cell_type": "code",
   "execution_count": 201,
   "id": "0a69e1ec",
   "metadata": {},
   "outputs": [
    {
     "data": {
      "text/plain": [
       "tensor([[-1., -1., -1.],\n",
       "        [-1., -1., -1.]])"
      ]
     },
     "execution_count": 201,
     "metadata": {},
     "output_type": "execute_result"
    }
   ],
   "source": [
    "# x.div(y)\n",
    "x / y"
   ]
  },
  {
   "cell_type": "code",
   "execution_count": 202,
   "id": "f4483ca2",
   "metadata": {},
   "outputs": [
    {
     "data": {
      "text/plain": [
       "tensor([[1, 1, 1],\n",
       "        [1, 1, 1]], dtype=torch.int32)"
      ]
     },
     "execution_count": 202,
     "metadata": {},
     "output_type": "execute_result"
    }
   ],
   "source": [
    "a = x.detach().clone()\n",
    "a"
   ]
  },
  {
   "cell_type": "code",
   "execution_count": 203,
   "id": "f2b385b1",
   "metadata": {},
   "outputs": [
    {
     "data": {
      "text/plain": [
       "tensor([[0, 0, 0],\n",
       "        [0, 0, 0]], dtype=torch.int32)"
      ]
     },
     "execution_count": 203,
     "metadata": {},
     "output_type": "execute_result"
    }
   ],
   "source": [
    "a.add_(y)\n",
    "a"
   ]
  },
  {
   "cell_type": "code",
   "execution_count": 204,
   "id": "50c6257e",
   "metadata": {},
   "outputs": [
    {
     "data": {
      "text/plain": [
       "tensor([[1, 1, 1],\n",
       "        [1, 1, 1]], dtype=torch.int32)"
      ]
     },
     "execution_count": 204,
     "metadata": {},
     "output_type": "execute_result"
    }
   ],
   "source": [
    "# `x` не изменился, потому что его \"склонировали\" в `a`\n",
    "x"
   ]
  },
  {
   "cell_type": "code",
   "execution_count": 205,
   "id": "d18bb540",
   "metadata": {},
   "outputs": [
    {
     "data": {
      "text/plain": [
       "tensor([[1, 1, 1],\n",
       "        [1, 1, 1]], dtype=torch.int32)"
      ]
     },
     "execution_count": 205,
     "metadata": {},
     "output_type": "execute_result"
    }
   ],
   "source": [
    "y.abs_()\n",
    "y"
   ]
  },
  {
   "cell_type": "markdown",
   "id": "2a63387a",
   "metadata": {},
   "source": [
    "### Логические операции"
   ]
  },
  {
   "cell_type": "code",
   "execution_count": 206,
   "id": "33cd0070",
   "metadata": {},
   "outputs": [
    {
     "data": {
      "text/plain": [
       "tensor([[-1.,  1.,  1.],\n",
       "        [ 2., -1., -1.]])"
      ]
     },
     "execution_count": 206,
     "metadata": {},
     "output_type": "execute_result"
    }
   ],
   "source": [
    "z = torch.FloatTensor(\n",
    "    [\n",
    "     [-1, 1, 1],\n",
    "     [2, -1, -1]\n",
    "    ]\n",
    ")\n",
    "z"
   ]
  },
  {
   "cell_type": "code",
   "execution_count": 207,
   "id": "d6706ec1",
   "metadata": {},
   "outputs": [
    {
     "data": {
      "text/plain": [
       "tensor([[ True, False, False],\n",
       "        [False,  True,  True]])"
      ]
     },
     "execution_count": 207,
     "metadata": {},
     "output_type": "execute_result"
    }
   ],
   "source": [
    "x > z"
   ]
  },
  {
   "cell_type": "code",
   "execution_count": 208,
   "id": "f14513f2",
   "metadata": {},
   "outputs": [
    {
     "data": {
      "text/plain": [
       "tensor([[False,  True,  True],\n",
       "        [False, False, False]])"
      ]
     },
     "execution_count": 208,
     "metadata": {},
     "output_type": "execute_result"
    }
   ],
   "source": [
    "x == z"
   ]
  },
  {
   "cell_type": "code",
   "execution_count": 209,
   "id": "af2d2826",
   "metadata": {},
   "outputs": [
    {
     "data": {
      "text/plain": [
       "tensor([[ True, False, False],\n",
       "        [ True,  True,  True]])"
      ]
     },
     "execution_count": 209,
     "metadata": {},
     "output_type": "execute_result"
    }
   ],
   "source": [
    "x != z"
   ]
  },
  {
   "cell_type": "code",
   "execution_count": 210,
   "id": "3607894b",
   "metadata": {},
   "outputs": [
    {
     "data": {
      "text/plain": [
       "tensor([[ True, False, False],\n",
       "        [False,  True,  True]])"
      ]
     },
     "execution_count": 210,
     "metadata": {},
     "output_type": "execute_result"
    }
   ],
   "source": [
    "mask = (x > z)\n",
    "mask"
   ]
  },
  {
   "cell_type": "code",
   "execution_count": 211,
   "id": "32d27fd9",
   "metadata": {},
   "outputs": [
    {
     "data": {
      "text/plain": [
       "tensor([1, 1, 1], dtype=torch.int32)"
      ]
     },
     "execution_count": 211,
     "metadata": {},
     "output_type": "execute_result"
    }
   ],
   "source": [
    "x[mask]"
   ]
  },
  {
   "cell_type": "markdown",
   "id": "6fc068f1",
   "metadata": {},
   "source": [
    "### Скалярное произведение"
   ]
  },
  {
   "cell_type": "code",
   "execution_count": 212,
   "id": "d6590467",
   "metadata": {},
   "outputs": [
    {
     "data": {
      "text/plain": [
       "tensor([[1, 2, 3]])"
      ]
     },
     "execution_count": 212,
     "metadata": {},
     "output_type": "execute_result"
    }
   ],
   "source": [
    "x = torch.arange(1, 4).reshape(1, 3)\n",
    "x"
   ]
  },
  {
   "cell_type": "code",
   "execution_count": 213,
   "id": "bfd802e5",
   "metadata": {},
   "outputs": [
    {
     "data": {
      "text/plain": [
       "tensor([[-1,  2, -3]])"
      ]
     },
     "execution_count": 213,
     "metadata": {},
     "output_type": "execute_result"
    }
   ],
   "source": [
    "y = -1 * x\n",
    "y[0][1].abs_()\n",
    "y"
   ]
  },
  {
   "cell_type": "code",
   "execution_count": 214,
   "id": "3b9c303f",
   "metadata": {},
   "outputs": [
    {
     "data": {
      "text/plain": [
       "tensor([[-6]])"
      ]
     },
     "execution_count": 214,
     "metadata": {},
     "output_type": "execute_result"
    }
   ],
   "source": [
    "x @ y.T"
   ]
  },
  {
   "cell_type": "code",
   "execution_count": 215,
   "id": "767cb1f7",
   "metadata": {},
   "outputs": [
    {
     "data": {
      "text/plain": [
       "tensor([[-6]])"
      ]
     },
     "execution_count": 215,
     "metadata": {},
     "output_type": "execute_result"
    }
   ],
   "source": [
    "torch.mm(x, y.T)"
   ]
  },
  {
   "cell_type": "markdown",
   "id": "6655cad5",
   "metadata": {},
   "source": [
    "## Приведение типов"
   ]
  },
  {
   "cell_type": "code",
   "execution_count": 216,
   "id": "44b87081",
   "metadata": {},
   "outputs": [
    {
     "data": {
      "text/plain": [
       "tensor([ 1,  4, -2], dtype=torch.int32)"
      ]
     },
     "execution_count": 216,
     "metadata": {},
     "output_type": "execute_result"
    }
   ],
   "source": [
    "a = torch.IntTensor([1, 4, -2])\n",
    "a"
   ]
  },
  {
   "cell_type": "code",
   "execution_count": 217,
   "id": "b9531de0",
   "metadata": {},
   "outputs": [
    {
     "data": {
      "text/plain": [
       "tensor([ 1.,  4., -2.], dtype=torch.float16)"
      ]
     },
     "execution_count": 217,
     "metadata": {},
     "output_type": "execute_result"
    }
   ],
   "source": [
    "a = a.type_as(torch.HalfTensor())\n",
    "a"
   ]
  },
  {
   "cell_type": "code",
   "execution_count": 218,
   "id": "795715ae",
   "metadata": {},
   "outputs": [
    {
     "data": {
      "text/plain": [
       "tensor([ 1,  4, -2], dtype=torch.int32)"
      ]
     },
     "execution_count": 218,
     "metadata": {},
     "output_type": "execute_result"
    }
   ],
   "source": [
    "a = a.to(torch.int32)\n",
    "a"
   ]
  },
  {
   "cell_type": "code",
   "execution_count": 219,
   "id": "93cde17d",
   "metadata": {},
   "outputs": [
    {
     "data": {
      "text/plain": [
       "array([[0.37454012, 0.95071431, 0.73199394],\n",
       "       [0.59865848, 0.15601864, 0.15599452],\n",
       "       [0.05808361, 0.86617615, 0.60111501],\n",
       "       [0.70807258, 0.02058449, 0.96990985],\n",
       "       [0.83244264, 0.21233911, 0.18182497]])"
      ]
     },
     "execution_count": 219,
     "metadata": {},
     "output_type": "execute_result"
    }
   ],
   "source": [
    "np.random.seed(42)\n",
    "\n",
    "a = np.random.rand(5, 3) # создали случайную матрицу\n",
    "a"
   ]
  },
  {
   "cell_type": "code",
   "execution_count": 220,
   "id": "b69188e0",
   "metadata": {},
   "outputs": [
    {
     "name": "stdout",
     "output_type": "stream",
     "text": [
      "Проверили размеры : (5, 3)\n",
      "\n"
     ]
    }
   ],
   "source": [
    "print(\"Проверили размеры : %s\\n\" % (a.shape,))"
   ]
  },
  {
   "cell_type": "code",
   "execution_count": 221,
   "id": "19730983",
   "metadata": {},
   "outputs": [
    {
     "name": "stdout",
     "output_type": "stream",
     "text": [
      "Добавили 5 :\n",
      "[[5.37454012 5.95071431 5.73199394]\n",
      " [5.59865848 5.15601864 5.15599452]\n",
      " [5.05808361 5.86617615 5.60111501]\n",
      " [5.70807258 5.02058449 5.96990985]\n",
      " [5.83244264 5.21233911 5.18182497]]\n",
      "\n"
     ]
    }
   ],
   "source": [
    "print(\"Добавили 5 :\\n%s\\n\" % (a + 5))"
   ]
  },
  {
   "cell_type": "markdown",
   "id": "b433bd88",
   "metadata": {},
   "source": [
    "## Задание 1"
   ]
  },
  {
   "cell_type": "markdown",
   "id": "278fca60",
   "metadata": {},
   "source": [
    "Умножьте матрицу `а` на транспонированную матрицу `а`.  \n",
    "\n",
    "Чему равен самый первый элемент результата?  \n",
    "Ответ округлите до сотых."
   ]
  },
  {
   "cell_type": "code",
   "execution_count": 222,
   "id": "2561672a",
   "metadata": {},
   "outputs": [
    {
     "data": {
      "text/plain": [
       "tensor([[1.5800, 0.4867, 1.2853, 0.9947, 0.6468],\n",
       "        [0.4867, 0.4071, 0.2637, 0.5784, 0.5598],\n",
       "        [1.2853, 0.2637, 1.1150, 0.6420, 0.3416],\n",
       "        [0.9947, 0.5784, 0.6420, 1.4425, 0.7702],\n",
       "        [0.6468, 0.5598, 0.3416, 0.7702, 0.7711]], dtype=torch.float64)"
      ]
     },
     "execution_count": 222,
     "metadata": {},
     "output_type": "execute_result"
    }
   ],
   "source": [
    "# ваш код здесь\n",
    "a = torch.from_numpy(a)\n",
    "a @ a.T"
   ]
  },
  {
   "cell_type": "code",
   "execution_count": 223,
   "id": "52d53454",
   "metadata": {},
   "outputs": [
    {
     "name": "stdout",
     "output_type": "stream",
     "text": [
      "Среднее по колонкам :\n",
      "tensor([0.6857, 0.3036, 0.5085, 0.5662, 0.4089], dtype=torch.float64)\n",
      "\n"
     ]
    }
   ],
   "source": [
    "print(\"Среднее по колонкам :\\n%s\\n\" % (a.mean(axis=-1)))"
   ]
  },
  {
   "cell_type": "code",
   "execution_count": 224,
   "id": "4ee8e75a",
   "metadata": {},
   "outputs": [
    {
     "name": "stdout",
     "output_type": "stream",
     "text": [
      "Изменили размеры :\n",
      "torch.Size([3, 5])\n",
      "\n"
     ]
    }
   ],
   "source": [
    "print(\"Изменили размеры :\\n%s\\n\" % (a.reshape(3, 5).shape,))"
   ]
  },
  {
   "cell_type": "markdown",
   "id": "1239dff9",
   "metadata": {},
   "source": [
    "## Задание 2\n",
    "\n",
    "При помощи *NumPy* посчитайте сумму квадратов натуральных чисел от 1 до 10000."
   ]
  },
  {
   "cell_type": "code",
   "execution_count": 225,
   "id": "fd5d3828",
   "metadata": {},
   "outputs": [
    {
     "data": {
      "text/plain": [
       "333383335000.0"
      ]
     },
     "execution_count": 225,
     "metadata": {},
     "output_type": "execute_result"
    }
   ],
   "source": [
    "# ваш код здесь\n",
    "np.sum(np.arange(1, 10e3 + 1)**2)"
   ]
  },
  {
   "cell_type": "markdown",
   "id": "5ae779b1",
   "metadata": {},
   "source": [
    "Аналогичные операции в *PyTorch* выглядят следующим образом, синтаксис отличается, но совсем немного:"
   ]
  },
  {
   "cell_type": "code",
   "execution_count": 226,
   "id": "525ee26f",
   "metadata": {},
   "outputs": [
    {
     "data": {
      "text/plain": [
       "tensor([[0.2783, 0.4820, 0.8198],\n",
       "        [0.9971, 0.6984, 0.5675],\n",
       "        [0.8352, 0.2056, 0.5932],\n",
       "        [0.1123, 0.1535, 0.2417],\n",
       "        [0.7262, 0.7011, 0.2038]])"
      ]
     },
     "execution_count": 226,
     "metadata": {},
     "output_type": "execute_result"
    }
   ],
   "source": [
    "x = torch.rand(5, 3)\n",
    "x"
   ]
  },
  {
   "cell_type": "code",
   "execution_count": 227,
   "id": "db173fe1",
   "metadata": {},
   "outputs": [
    {
     "name": "stdout",
     "output_type": "stream",
     "text": [
      "Проверили размеры : torch.Size([5, 3])\n",
      "\n"
     ]
    }
   ],
   "source": [
    "print(\"Проверили размеры : %s\\n\" % (x.shape,))"
   ]
  },
  {
   "cell_type": "code",
   "execution_count": 228,
   "id": "52c2f286",
   "metadata": {},
   "outputs": [
    {
     "name": "stdout",
     "output_type": "stream",
     "text": [
      "Добавили 5 :\n",
      "tensor([[5.2783, 5.4820, 5.8198],\n",
      "        [5.9971, 5.6984, 5.5675],\n",
      "        [5.8352, 5.2056, 5.5932],\n",
      "        [5.1123, 5.1535, 5.2417],\n",
      "        [5.7262, 5.7011, 5.2038]])\n",
      "\n"
     ]
    }
   ],
   "source": [
    "print(\"Добавили 5 :\\n%s\\n\" % (x + 5))"
   ]
  },
  {
   "cell_type": "code",
   "execution_count": 229,
   "id": "5abc9694",
   "metadata": {},
   "outputs": [
    {
     "name": "stdout",
     "output_type": "stream",
     "text": [
      "X*X^T  (1):\n",
      "tensor([[0.9817, 1.0793, 0.8178, 0.3034, 0.7071],\n",
      "        [1.0793, 1.8041, 1.3130, 0.3564, 1.3294],\n",
      "        [0.8178, 1.3130, 1.0918, 0.2688, 0.8716],\n",
      "        [0.3034, 0.3564, 0.2688, 0.0946, 0.2384],\n",
      "        [0.7071, 1.3294, 0.8716, 0.2384, 1.0605]])\n",
      "\n",
      "X*X^T  (2):\n",
      "tensor([[0.9817, 1.0793, 0.8178, 0.3034, 0.7071],\n",
      "        [1.0793, 1.8041, 1.3130, 0.3564, 1.3294],\n",
      "        [0.8178, 1.3130, 1.0918, 0.2688, 0.8716],\n",
      "        [0.3034, 0.3564, 0.2688, 0.0946, 0.2384],\n",
      "        [0.7071, 1.3294, 0.8716, 0.2384, 1.0605]])\n",
      "\n"
     ]
    }
   ],
   "source": [
    "print(\"X*X^T  (1):\\n%s\\n\" % (torch.matmul(x, x.transpose(1, 0))))\n",
    "print(\"X*X^T  (2):\\n%s\\n\" % (x.mm(x.t())))"
   ]
  },
  {
   "cell_type": "code",
   "execution_count": 230,
   "id": "41eff9e8",
   "metadata": {},
   "outputs": [
    {
     "name": "stdout",
     "output_type": "stream",
     "text": [
      "Среднее по колонкам :\n",
      "tensor([0.5267, 0.7544, 0.5447, 0.1692, 0.5437])\n",
      "\n"
     ]
    }
   ],
   "source": [
    "print(\"Среднее по колонкам :\\n%s\\n\" % (x.mean(dim=-1)))"
   ]
  },
  {
   "cell_type": "code",
   "execution_count": 231,
   "id": "f8e1766f",
   "metadata": {},
   "outputs": [
    {
     "name": "stdout",
     "output_type": "stream",
     "text": [
      "Изменили размеры :\n",
      "torch.Size([3, 5])\n",
      "\n",
      "Изменили размеры :\n",
      "torch.Size([3, 5])\n",
      "\n"
     ]
    }
   ],
   "source": [
    "print(\"Изменили размеры :\\n%s\\n\" % (x.view([3, 5]).shape,))\n",
    "print(\"Изменили размеры :\\n%s\\n\" % (x.view_as(x.t()).shape,))"
   ]
  },
  {
   "cell_type": "markdown",
   "id": "fdf40e4d",
   "metadata": {},
   "source": [
    "Небольшой пример того, как меняются операции:\n",
    "\n",
    "* `x.reshape([1,2,8]) -> x.view(1,2,8)`\n",
    "\n",
    "* `x.sum(axis=-1) -> x.sum(dim=-1)`\n",
    "\n",
    "* `x.astype('int64') -> x.type(torch.LongTensor)`\n",
    "\n",
    "Для помощи вам есть [таблица](https://github.com/torch/torch7/wiki/Torch-for-Numpy-users), которая поможет вам найти аналог операции в *NumPy*.\n"
   ]
  },
  {
   "cell_type": "markdown",
   "id": "637d65fc",
   "metadata": {},
   "source": [
    "При помощи *PyTorch* посчитаем сумму квадратов натуральных чисел от 1 до 10000."
   ]
  },
  {
   "cell_type": "code",
   "execution_count": 232,
   "id": "2d6bdce1",
   "metadata": {},
   "outputs": [
    {
     "name": "stderr",
     "output_type": "stream",
     "text": [
      "C:\\Users\\kuche\\AppData\\Local\\Temp\\ipykernel_4388\\2248688129.py:1: UserWarning: torch.range is deprecated and will be removed in a future release because its behavior is inconsistent with Python's range builtin. Instead, use torch.arange, which produces values in [start, end).\n",
      "  torch.sum(torch.range(1, 10000) ** 2)\n"
     ]
    },
    {
     "data": {
      "text/plain": [
       "tensor(3.3338e+11)"
      ]
     },
     "execution_count": 232,
     "metadata": {},
     "output_type": "execute_result"
    }
   ],
   "source": [
    "torch.sum(torch.range(1, 10000) ** 2)"
   ]
  },
  {
   "cell_type": "markdown",
   "id": "89f5d9c2",
   "metadata": {},
   "source": [
    "Создаем тензоры в *PyTorch* и снова изучаем базовые операции"
   ]
  },
  {
   "cell_type": "code",
   "execution_count": 233,
   "id": "a4e14d4b",
   "metadata": {},
   "outputs": [
    {
     "name": "stdout",
     "output_type": "stream",
     "text": [
      "tensor([[3.3424e-22, 1.1827e-42, 3.0000e+00],\n",
      "        [4.0000e+00, 5.0000e+00, 6.0000e+00],\n",
      "        [7.0000e+00, 8.0000e+00, 9.0000e+00],\n",
      "        [1.0000e+01, 1.1000e+01, 1.2000e+01],\n",
      "        [1.3000e+01, 1.4000e+01, 1.5000e+01]])\n"
     ]
    }
   ],
   "source": [
    "x = torch.empty(5, 3) # пустой тензор\n",
    "print(x)"
   ]
  },
  {
   "cell_type": "code",
   "execution_count": 234,
   "id": "a13f1941",
   "metadata": {},
   "outputs": [
    {
     "name": "stdout",
     "output_type": "stream",
     "text": [
      "tensor([[0.6511, 0.7745, 0.4369],\n",
      "        [0.5191, 0.6159, 0.8102],\n",
      "        [0.9801, 0.1147, 0.3168],\n",
      "        [0.6965, 0.9143, 0.9351],\n",
      "        [0.9412, 0.5995, 0.0652]])\n"
     ]
    }
   ],
   "source": [
    "x = torch.rand(5, 3) # тензор со случайными числами\n",
    "print(x)"
   ]
  },
  {
   "cell_type": "code",
   "execution_count": 235,
   "id": "3eb99e7f",
   "metadata": {},
   "outputs": [
    {
     "name": "stdout",
     "output_type": "stream",
     "text": [
      "tensor([[0, 0, 0],\n",
      "        [0, 0, 0],\n",
      "        [0, 0, 0],\n",
      "        [0, 0, 0],\n",
      "        [0, 0, 0]])\n"
     ]
    }
   ],
   "source": [
    "x = torch.zeros(5, 3, dtype=torch.long) # тензор с нулями и указанием типов чисел\n",
    "print(x)"
   ]
  },
  {
   "cell_type": "code",
   "execution_count": 236,
   "id": "2cc76e90",
   "metadata": {},
   "outputs": [
    {
     "name": "stdout",
     "output_type": "stream",
     "text": [
      "tensor([5.5000, 3.0000])\n"
     ]
    }
   ],
   "source": [
    "x = torch.tensor([5.5, 3]) # конструируем тензор из питоновского листа\n",
    "print(x)"
   ]
  },
  {
   "cell_type": "code",
   "execution_count": 237,
   "id": "4448420c",
   "metadata": {},
   "outputs": [
    {
     "name": "stdout",
     "output_type": "stream",
     "text": [
      "tensor([[1., 1., 1.],\n",
      "        [1., 1., 1.],\n",
      "        [1., 1., 1.],\n",
      "        [1., 1., 1.],\n",
      "        [1., 1., 1.]], dtype=torch.float64) torch.Size([5, 3])\n"
     ]
    }
   ],
   "source": [
    "x = x.new_ones(5, 3, dtype=torch.double) # используем уже созданный тензор для создания тензора из единичек\n",
    "print(x, x.size())"
   ]
  },
  {
   "cell_type": "code",
   "execution_count": 238,
   "id": "91ce74da",
   "metadata": {},
   "outputs": [
    {
     "name": "stdout",
     "output_type": "stream",
     "text": [
      "tensor([[-0.0877, -0.5382,  0.5880],\n",
      "        [ 1.6059,  0.4279, -0.6776],\n",
      "        [ 1.0422, -1.9513,  0.4186],\n",
      "        [ 3.3214,  0.8764,  1.2345],\n",
      "        [-1.1642, -0.0240,  0.6480]]) torch.Size([5, 3])\n"
     ]
    }
   ],
   "source": [
    "x = torch.randn_like(x, dtype=torch.float) # создаем матрицу с размерами как у x\n",
    "print(x, x.size())"
   ]
  },
  {
   "cell_type": "markdown",
   "id": "789bcad0",
   "metadata": {},
   "source": [
    "## Задание 3"
   ]
  },
  {
   "cell_type": "markdown",
   "id": "90374665",
   "metadata": {},
   "source": [
    "Сгенерируйте два тензора: `x` и `y` размера 5 на 3 со случайными числами.\n",
    "Вычислите сумму тензоров `x` и `y`.\n",
    "\n",
    "В ответе напишите значение первой координаты в полученной суммы, округленной до сотых."
   ]
  },
  {
   "cell_type": "code",
   "execution_count": 239,
   "id": "9515f6b2",
   "metadata": {},
   "outputs": [
    {
     "data": {
      "text/plain": [
       "tensor(1.3117)"
      ]
     },
     "execution_count": 239,
     "metadata": {},
     "output_type": "execute_result"
    }
   ],
   "source": [
    "import torch\n",
    "\n",
    "torch.manual_seed(42)\n",
    "\n",
    "x = torch.rand(size=(5, 3))\n",
    "y = torch.rand(size=(5, 3))\n",
    "\n",
    "z = x + y\n",
    "z[0, 0]"
   ]
  },
  {
   "cell_type": "code",
   "execution_count": null,
   "id": "932f69e6",
   "metadata": {},
   "outputs": [
    {
     "name": "stdout",
     "output_type": "stream",
     "text": [
      "tensor([[0.3789, 0.8102, 0.2197],\n",
      "        [0.2557, 0.2450, 0.1620],\n",
      "        [0.1132, 0.2356, 0.7824],\n",
      "        [0.0140, 0.2519, 0.2130],\n",
      "        [0.1733, 0.3106, 0.0046]])\n"
     ]
    }
   ],
   "source": [
    "print(x * y) # поэлементное умножение"
   ]
  },
  {
   "cell_type": "markdown",
   "id": "d4f1dc56",
   "metadata": {},
   "source": [
    "## Задание 4"
   ]
  },
  {
   "cell_type": "markdown",
   "id": "455d4ff6",
   "metadata": {},
   "source": [
    "Умножьте матрицу `x` на транспонированную матрицу `y`.\n",
    "\n",
    "В ответ напишите последний элемент (правый нижний) полученной матрицы.  \n",
    "Ответ округлите до сотых."
   ]
  },
  {
   "cell_type": "code",
   "execution_count": null,
   "id": "59d31571",
   "metadata": {},
   "outputs": [
    {
     "data": {
      "text/plain": [
       "tensor(0.4885)"
      ]
     },
     "execution_count": 116,
     "metadata": {},
     "output_type": "execute_result"
    }
   ],
   "source": [
    "# your code here\n",
    "\n",
    "z = x @ y.T\n",
    "z[-1, -1]"
   ]
  },
  {
   "cell_type": "code",
   "execution_count": null,
   "id": "3fa24a1e",
   "metadata": {},
   "outputs": [
    {
     "name": "stdout",
     "output_type": "stream",
     "text": [
      "torch.Size([1, 5, 3])\n"
     ]
    }
   ],
   "source": [
    "print(x.unsqueeze(0).shape) # добавили измерение в начало, аналог броадкастинга"
   ]
  },
  {
   "cell_type": "code",
   "execution_count": null,
   "id": "8edcc3be",
   "metadata": {},
   "outputs": [
    {
     "name": "stdout",
     "output_type": "stream",
     "text": [
      "torch.Size([5, 3])\n"
     ]
    }
   ],
   "source": [
    "print(x.unsqueeze(0).squeeze(0).shape) # убрали измерение в начале, аналог броадкастинга"
   ]
  },
  {
   "cell_type": "code",
   "execution_count": null,
   "id": "b3dabd77",
   "metadata": {},
   "outputs": [
    {
     "data": {
      "text/plain": [
       "tensor([[0.9516, 0.0753, 0.8860]])"
      ]
     },
     "execution_count": 119,
     "metadata": {},
     "output_type": "execute_result"
    }
   ],
   "source": [
    "a = torch.rand((1,3))\n",
    "a"
   ]
  },
  {
   "cell_type": "code",
   "execution_count": null,
   "id": "0eaa263a",
   "metadata": {},
   "outputs": [
    {
     "data": {
      "text/plain": [
       "tensor([0.9516, 0.0753, 0.8860])"
      ]
     },
     "execution_count": 120,
     "metadata": {},
     "output_type": "execute_result"
    }
   ],
   "source": [
    "a.squeeze(0)"
   ]
  },
  {
   "cell_type": "markdown",
   "id": "b172024d",
   "metadata": {},
   "source": [
    "Мы также можем делать обычные срезы и переводить матрицы назад в *NumPy*:"
   ]
  },
  {
   "cell_type": "code",
   "execution_count": null,
   "id": "9298c22f",
   "metadata": {},
   "outputs": [
    {
     "name": "stdout",
     "output_type": "stream",
     "text": [
      "True\n",
      "True\n"
     ]
    }
   ],
   "source": [
    "a = np.ones((3, 5))\n",
    "x = torch.ones((3, 5))\n",
    "print(np.allclose(x.numpy(), a))\n",
    "print(np.allclose(x.numpy()[:, 1], a[:, 1]))"
   ]
  },
  {
   "cell_type": "code",
   "execution_count": null,
   "id": "1d791bea",
   "metadata": {},
   "outputs": [
    {
     "data": {
      "text/plain": [
       "((4,), (4, 1))"
      ]
     },
     "execution_count": 122,
     "metadata": {},
     "output_type": "execute_result"
    }
   ],
   "source": [
    "a = np.array([1,2,3,4])\n",
    "b = np.array([[5],[6],[7],[8]])\n",
    "\n",
    "a.shape, b.shape"
   ]
  },
  {
   "cell_type": "code",
   "execution_count": null,
   "id": "466d4766",
   "metadata": {},
   "outputs": [
    {
     "data": {
      "text/plain": [
       "array([70])"
      ]
     },
     "execution_count": 123,
     "metadata": {},
     "output_type": "execute_result"
    }
   ],
   "source": [
    "a @ b"
   ]
  },
  {
   "cell_type": "code",
   "execution_count": null,
   "id": "32cb7302",
   "metadata": {},
   "outputs": [],
   "source": [
    "# b @ a"
   ]
  },
  {
   "cell_type": "markdown",
   "id": "cc6a6130",
   "metadata": {},
   "source": [
    "# 4.3 Линейная регрессия с PyTorch"
   ]
  },
  {
   "cell_type": "markdown",
   "id": "8185faf4",
   "metadata": {},
   "source": [
    "Будем предсказывать стоимость домов в Калифорнии при помощи линейной регрессии с использованием *PyTorch*."
   ]
  },
  {
   "cell_type": "code",
   "execution_count": null,
   "id": "5b6f606d",
   "metadata": {},
   "outputs": [],
   "source": [
    "import torch\n",
    "import numpy as np\n",
    "from tqdm import tqdm\n",
    "from matplotlib import pyplot as plt\n",
    "\n",
    "from sklearn.datasets import fetch_california_housing"
   ]
  },
  {
   "cell_type": "code",
   "execution_count": null,
   "id": "7815fc09",
   "metadata": {},
   "outputs": [
    {
     "data": {
      "text/html": [
       "<div>\n",
       "<style scoped>\n",
       "    .dataframe tbody tr th:only-of-type {\n",
       "        vertical-align: middle;\n",
       "    }\n",
       "\n",
       "    .dataframe tbody tr th {\n",
       "        vertical-align: top;\n",
       "    }\n",
       "\n",
       "    .dataframe thead th {\n",
       "        text-align: right;\n",
       "    }\n",
       "</style>\n",
       "<table border=\"1\" class=\"dataframe\">\n",
       "  <thead>\n",
       "    <tr style=\"text-align: right;\">\n",
       "      <th></th>\n",
       "      <th>MedInc</th>\n",
       "      <th>HouseAge</th>\n",
       "      <th>AveRooms</th>\n",
       "      <th>AveBedrms</th>\n",
       "      <th>Population</th>\n",
       "      <th>AveOccup</th>\n",
       "      <th>Latitude</th>\n",
       "      <th>Longitude</th>\n",
       "    </tr>\n",
       "  </thead>\n",
       "  <tbody>\n",
       "    <tr>\n",
       "      <th>0</th>\n",
       "      <td>8.3252</td>\n",
       "      <td>41.0</td>\n",
       "      <td>6.984127</td>\n",
       "      <td>1.023810</td>\n",
       "      <td>322.0</td>\n",
       "      <td>2.555556</td>\n",
       "      <td>37.88</td>\n",
       "      <td>-122.23</td>\n",
       "    </tr>\n",
       "    <tr>\n",
       "      <th>1</th>\n",
       "      <td>8.3014</td>\n",
       "      <td>21.0</td>\n",
       "      <td>6.238137</td>\n",
       "      <td>0.971880</td>\n",
       "      <td>2401.0</td>\n",
       "      <td>2.109842</td>\n",
       "      <td>37.86</td>\n",
       "      <td>-122.22</td>\n",
       "    </tr>\n",
       "    <tr>\n",
       "      <th>2</th>\n",
       "      <td>7.2574</td>\n",
       "      <td>52.0</td>\n",
       "      <td>8.288136</td>\n",
       "      <td>1.073446</td>\n",
       "      <td>496.0</td>\n",
       "      <td>2.802260</td>\n",
       "      <td>37.85</td>\n",
       "      <td>-122.24</td>\n",
       "    </tr>\n",
       "    <tr>\n",
       "      <th>3</th>\n",
       "      <td>5.6431</td>\n",
       "      <td>52.0</td>\n",
       "      <td>5.817352</td>\n",
       "      <td>1.073059</td>\n",
       "      <td>558.0</td>\n",
       "      <td>2.547945</td>\n",
       "      <td>37.85</td>\n",
       "      <td>-122.25</td>\n",
       "    </tr>\n",
       "    <tr>\n",
       "      <th>4</th>\n",
       "      <td>3.8462</td>\n",
       "      <td>52.0</td>\n",
       "      <td>6.281853</td>\n",
       "      <td>1.081081</td>\n",
       "      <td>565.0</td>\n",
       "      <td>2.181467</td>\n",
       "      <td>37.85</td>\n",
       "      <td>-122.25</td>\n",
       "    </tr>\n",
       "  </tbody>\n",
       "</table>\n",
       "</div>"
      ],
      "text/plain": [
       "   MedInc  HouseAge  AveRooms  AveBedrms  Population  AveOccup  Latitude  \\\n",
       "0  8.3252      41.0  6.984127   1.023810       322.0  2.555556     37.88   \n",
       "1  8.3014      21.0  6.238137   0.971880      2401.0  2.109842     37.86   \n",
       "2  7.2574      52.0  8.288136   1.073446       496.0  2.802260     37.85   \n",
       "3  5.6431      52.0  5.817352   1.073059       558.0  2.547945     37.85   \n",
       "4  3.8462      52.0  6.281853   1.081081       565.0  2.181467     37.85   \n",
       "\n",
       "   Longitude  \n",
       "0    -122.23  \n",
       "1    -122.22  \n",
       "2    -122.24  \n",
       "3    -122.25  \n",
       "4    -122.25  "
      ]
     },
     "execution_count": 126,
     "metadata": {},
     "output_type": "execute_result"
    }
   ],
   "source": [
    "california = fetch_california_housing(as_frame=True)\n",
    "california.data.head()"
   ]
  },
  {
   "cell_type": "markdown",
   "id": "4b94e8aa",
   "metadata": {},
   "source": [
    "Для простоты в этом ноутбуке будем обучать одномерную линейную регрессию - будем предсказывать стоимость домов по среднему доходу жильцов дома (`MedInc`)."
   ]
  },
  {
   "cell_type": "code",
   "execution_count": null,
   "id": "af88e567",
   "metadata": {},
   "outputs": [
    {
     "data": {
      "image/png": "[encoded data removed]",
      "text/plain": [
       "<Figure size 640x480 with 1 Axes>"
      ]
     },
     "metadata": {},
     "output_type": "display_data"
    }
   ],
   "source": [
    "plt.scatter(california.data['MedInc'], california.target)\n",
    "plt.show();"
   ]
  },
  {
   "cell_type": "markdown",
   "id": "1cc3b5b5",
   "metadata": {},
   "source": [
    "В pytorch есть возможность при создании тензора указывать нужно ли считать по нему градиент или нет, с помощью параметра `requires_grad`. Когда `requires_grad=True` мы сообщаем фреймворку, о том, что мы хотим следить за всеми тензорами, которые получаются из созданного. Иными словами, у любого тензора, у которого указан данный параметр, будет доступ к цепочке операций и преобразований совершенными с ними. Если эти функции дифференцируемые, то у тензора появляется параметр `.grad`, в котором хранится значение градиента."
   ]
  },
  {
   "cell_type": "markdown",
   "id": "062f7d77",
   "metadata": {},
   "source": [
    "![torch_grad.png](data:image/png;base64,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)"
   ]
  },
  {
   "cell_type": "markdown",
   "id": "f17d6587",
   "metadata": {},
   "source": [
    "Если к результирующему тензору применить метод `.backward()`, то фреймворк посчитает по цепочке градиент для всех тензоров, у которых `requires_grad=True`."
   ]
  },
  {
   "cell_type": "markdown",
   "id": "1d7bfdfc",
   "metadata": {},
   "source": [
    "Будем обучать линейную регрессию, которая делает предсказание по формуле\n",
    "$$a(x) = w\\cdot x + b.$$\n",
    "\n",
    "Здесь w и b - неизвестные веса, по ним в процессе обучения модели градиентным спуском нужно вычислять градиент функции потерь, поэтому при использовании pytorch мы создаем тензоры w и b и указываем, что необходимо будет считать по ним градиент."
   ]
  },
  {
   "cell_type": "code",
   "execution_count": null,
   "id": "7c4c20c6",
   "metadata": {},
   "outputs": [],
   "source": [
    "w = torch.rand(1, requires_grad=True)\n",
    "b = torch.rand(1, requires_grad=True)\n",
    "\n",
    "x = torch.tensor(california.data['MedInc'] / california.data['MedInc'].max(), dtype=torch.float32) # нормируем признак для стабилизации сходимости\n",
    "y = torch.tensor(california.target, dtype=torch.float32)\n",
    "\n",
    "assert w.grad is None # только создали тензоры и в них нет градиентов\n",
    "assert b.grad is None"
   ]
  },
  {
   "cell_type": "markdown",
   "id": "81df3c5b",
   "metadata": {},
   "source": [
    "Запишем формулу для предсказания модели, а также формулу для вычисления ошибки (MSE)."
   ]
  },
  {
   "cell_type": "code",
   "execution_count": null,
   "id": "8dac2d3e",
   "metadata": {},
   "outputs": [],
   "source": [
    "y_pred = w * x + b                 # и опять совершаем операции с тензорами\n",
    "loss = torch.mean((y_pred - y)**2) # совершаем операции с тензорами\n",
    "\n",
    "loss.backward()                    # считаем градиенты"
   ]
  },
  {
   "cell_type": "code",
   "execution_count": null,
   "id": "19a5f9b7",
   "metadata": {},
   "outputs": [
    {
     "name": "stdout",
     "output_type": "stream",
     "text": [
      "dL/dw = \n",
      " tensor([-0.9980])\n",
      "dL/db = \n",
      " tensor([-3.1608])\n"
     ]
    }
   ],
   "source": [
    "assert w.grad is not None # сделали операции и посчитали градиенты, значение должно было появиться\n",
    "assert b.grad is not None\n",
    "\n",
    "print(\"dL/dw = \\n\", w.grad)\n",
    "print(\"dL/db = \\n\", b.grad)"
   ]
  },
  {
   "cell_type": "markdown",
   "id": "cf52d528",
   "metadata": {},
   "source": [
    "__Ремарка__. Для доступа к значениям в тензоре используйте атрибут `.data`:"
   ]
  },
  {
   "cell_type": "code",
   "execution_count": null,
   "id": "8179f3f7",
   "metadata": {},
   "outputs": [
    {
     "data": {
      "text/plain": [
       "(tensor([0.5832]), tensor([0.3376]))"
      ]
     },
     "execution_count": 131,
     "metadata": {},
     "output_type": "execute_result"
    }
   ],
   "source": [
    "w.data, b.data"
   ]
  },
  {
   "cell_type": "code",
   "execution_count": null,
   "id": "18ebf896",
   "metadata": {},
   "outputs": [
    {
     "data": {
      "text/plain": [
       "tensor([-0.9980])"
      ]
     },
     "execution_count": 132,
     "metadata": {},
     "output_type": "execute_result"
    }
   ],
   "source": [
    "w.grad"
   ]
  },
  {
   "cell_type": "markdown",
   "id": "f4bf6dca",
   "metadata": {},
   "source": [
    "Обучим модель методом градиентного спуска:\n",
    "* на каждой итерации вычисляем loss и считаем от него градиент (по w и b)\n",
    "* затем обновляем веса по формуле градиентного спуска\n",
    "$$w_{new} = w_{old} - \\eta\\cdot\\nabla Loss(w_{old})$$"
   ]
  },
  {
   "cell_type": "code",
   "execution_count": null,
   "id": "23fd4de2",
   "metadata": {},
   "outputs": [
    {
     "data": {
      "image/png": "[encoded data removed]",
      "text/plain": [
       "<Figure size 640x480 with 1 Axes>"
      ]
     },
     "metadata": {},
     "output_type": "display_data"
    },
    {
     "name": "stdout",
     "output_type": "stream",
     "text": [
      "loss =  0.7021855\n"
     ]
    }
   ],
   "source": [
    "from IPython.display import clear_output\n",
    "\n",
    "for i in range(200):\n",
    "\n",
    "    y_pred = w * x + b\n",
    "    loss = torch.mean((y_pred - y)**2)\n",
    "    loss.backward()\n",
    "\n",
    "    # делаем шаг градиентного спуска с lr = 0.5\n",
    "    w.data -= 0.5 * w.grad\n",
    "    b.data -= 0.5 * b.grad\n",
    "\n",
    "    # обнуляем градиенты, чтобы на следующем шаге опять посчитать и не аккумулировать их\n",
    "    w.grad.data.zero_()\n",
    "    b.grad.data.zero_()\n",
    "\n",
    "    # рисуем картинки\n",
    "    if (i+1) % 5 == 0:\n",
    "        clear_output(True)\n",
    "        plt.scatter(x.data.numpy(), y.data.numpy())\n",
    "        plt.scatter(x.data.numpy(), y_pred.data.numpy(),\n",
    "                    color='orange', linewidth=5)\n",
    "        plt.show()\n",
    "\n",
    "        print(\"loss = \", loss.data.numpy())\n",
    "        if loss.data.numpy() < 0.5:\n",
    "            print(\"Done!\")\n",
    "            break\n"
   ]
  },
  {
   "cell_type": "markdown",
   "id": "41a1731a",
   "metadata": {},
   "source": [
    "Мы обучили простейшую модель (это еще, конечно, не нейронная сеть), используя pytorch!\n",
    "\n",
    "Теперь вы знаете про PyTorch достаточно, чтобы начать тренировать с помощью этого фреймворка нейронные сети. До встречи!"
   ]
  },
  {
   "cell_type": "markdown",
   "id": "05f20530",
   "metadata": {},
   "source": [
    "### Полезные ноутбуки - можно посмотреть:\n",
    "\n",
    "* [Введение в PyTorch](https://colab.research.google.com/drive/1_OWlyup9twiBz6HtHAjoIwm7bmrZHUO2)\n",
    "* [Обучение нейросетей в PyTorch](https://colab.research.google.com/drive/1-YE_oAapPlsaxGKG5AR7Ix3_vTQBCo4N)"
   ]
  },
  {
   "cell_type": "markdown",
   "id": "a2532d55",
   "metadata": {},
   "source": [
    "# 4.3 Задача классификации (MNIST)"
   ]
  },
  {
   "cell_type": "markdown",
   "id": "2ce7b23f",
   "metadata": {},
   "source": [
    "В этом ноутбуке вы обучите полносвязную нейронную сеть для решения задачи классификации на датасете MNIST."
   ]
  },
  {
   "cell_type": "code",
   "execution_count": null,
   "id": "36e5ff0b",
   "metadata": {},
   "outputs": [],
   "source": [
    "import torch\n",
    "import torch.nn as nn\n",
    "import torchvision\n",
    "import torchvision.transforms as transforms"
   ]
  },
  {
   "cell_type": "code",
   "execution_count": null,
   "id": "6ad390e0",
   "metadata": {},
   "outputs": [],
   "source": [
    "# Check Device configuration\n",
    "device = torch.device('cuda' if torch.cuda.is_available() else 'cpu')\n",
    "\n",
    "# Define Hyper-parameters\n",
    "input_size = 784\n",
    "hidden_size = 500\n",
    "num_classes = 10\n",
    "num_epochs = 5\n",
    "batch_size = 100\n",
    "learning_rate = 0.001"
   ]
  },
  {
   "cell_type": "code",
   "execution_count": null,
   "id": "89b7d46a",
   "metadata": {},
   "outputs": [
    {
     "name": "stderr",
     "output_type": "stream",
     "text": [
      "100%|██████████| 9.91M/9.91M [00:06<00:00, 1.55MB/s]\n",
      "100%|██████████| 28.9k/28.9k [00:00<00:00, 241kB/s]\n",
      "100%|██████████| 1.65M/1.65M [00:01<00:00, 1.14MB/s]\n",
      "100%|██████████| 4.54k/4.54k [00:00<00:00, 4.55MB/s]\n"
     ]
    }
   ],
   "source": [
    "# MNIST dataset\n",
    "\n",
    "train_dataset = torchvision.datasets.MNIST(root='../../data',\n",
    "                                           train=True,\n",
    "                                           transform=transforms.ToTensor(),\n",
    "                                           download=True)\n",
    "\n",
    "test_dataset = torchvision.datasets.MNIST(root='../../data',\n",
    "                                          train=False,\n",
    "                                          transform=transforms.ToTensor())"
   ]
  },
  {
   "cell_type": "code",
   "execution_count": null,
   "id": "eba54353",
   "metadata": {},
   "outputs": [],
   "source": [
    "# Data loader\n",
    "train_loader = torch.utils.data.DataLoader(dataset=train_dataset,\n",
    "                                           batch_size=batch_size,\n",
    "                                           shuffle=True)\n",
    "\n",
    "test_loader = torch.utils.data.DataLoader(dataset=test_dataset,\n",
    "                                          batch_size=batch_size,\n",
    "                                          shuffle=False)"
   ]
  },
  {
   "cell_type": "code",
   "execution_count": null,
   "id": "2dcc4d89",
   "metadata": {},
   "outputs": [],
   "source": [
    "# Fully connected neural network\n",
    "class NeuralNet(nn.Module):\n",
    "    def __init__(self, input_size, hidden_size, num_classes):\n",
    "        super(NeuralNet, self).__init__()\n",
    "        self.fc1 = nn.Linear(input_size, hidden_size)\n",
    "        self.relu = nn.ReLU()\n",
    "        self.fc2 = nn.Linear(hidden_size, num_classes)\n",
    "\n",
    "    def forward(self, x):\n",
    "        out = self.fc1(x)\n",
    "        out = self.relu(out)\n",
    "        out = self.fc2(out)\n",
    "        return out\n",
    "\n",
    "model = NeuralNet(input_size, hidden_size, num_classes).to(device)"
   ]
  },
  {
   "cell_type": "code",
   "execution_count": null,
   "id": "c30376d5",
   "metadata": {},
   "outputs": [],
   "source": [
    "# Loss and optimizer\n",
    "criterion = nn.CrossEntropyLoss()\n",
    "optimizer = torch.optim.Adam(model.parameters(), lr=learning_rate)"
   ]
  },
  {
   "cell_type": "code",
   "execution_count": null,
   "id": "e2d00a8b",
   "metadata": {},
   "outputs": [
    {
     "name": "stdout",
     "output_type": "stream",
     "text": [
      "Epoch [1/5], Step [100/600], Loss: 0.2358\n",
      "Epoch [1/5], Step [200/600], Loss: 0.3698\n",
      "Epoch [1/5], Step [300/600], Loss: 0.2805\n",
      "Epoch [1/5], Step [400/600], Loss: 0.2002\n",
      "Epoch [1/5], Step [500/600], Loss: 0.1685\n",
      "Epoch [1/5], Step [600/600], Loss: 0.1575\n",
      "Epoch [2/5], Step [100/600], Loss: 0.1495\n",
      "Epoch [2/5], Step [200/600], Loss: 0.1687\n",
      "Epoch [2/5], Step [300/600], Loss: 0.0715\n",
      "Epoch [2/5], Step [400/600], Loss: 0.0474\n",
      "Epoch [2/5], Step [500/600], Loss: 0.0495\n",
      "Epoch [2/5], Step [600/600], Loss: 0.0483\n",
      "Epoch [3/5], Step [100/600], Loss: 0.0244\n",
      "Epoch [3/5], Step [200/600], Loss: 0.0566\n",
      "Epoch [3/5], Step [300/600], Loss: 0.0260\n",
      "Epoch [3/5], Step [400/600], Loss: 0.0250\n",
      "Epoch [3/5], Step [500/600], Loss: 0.0300\n",
      "Epoch [3/5], Step [600/600], Loss: 0.0513\n",
      "Epoch [4/5], Step [100/600], Loss: 0.0785\n",
      "Epoch [4/5], Step [200/600], Loss: 0.0318\n",
      "Epoch [4/5], Step [300/600], Loss: 0.0564\n",
      "Epoch [4/5], Step [400/600], Loss: 0.1359\n",
      "Epoch [4/5], Step [500/600], Loss: 0.0303\n",
      "Epoch [4/5], Step [600/600], Loss: 0.0476\n",
      "Epoch [5/5], Step [100/600], Loss: 0.0272\n",
      "Epoch [5/5], Step [200/600], Loss: 0.0471\n",
      "Epoch [5/5], Step [300/600], Loss: 0.0321\n",
      "Epoch [5/5], Step [400/600], Loss: 0.0379\n",
      "Epoch [5/5], Step [500/600], Loss: 0.0266\n",
      "Epoch [5/5], Step [600/600], Loss: 0.0161\n"
     ]
    }
   ],
   "source": [
    "# Train the model\n",
    "total_step = len(train_loader)\n",
    "for epoch in range(num_epochs):\n",
    "    for i, (images, labels) in enumerate(train_loader):\n",
    "        # Move tensors to the configured device\n",
    "        images = images.reshape(-1, 28*28).to(device)\n",
    "        labels = labels.to(device)\n",
    "\n",
    "        # Forward pass\n",
    "        outputs = model(images)\n",
    "        loss = criterion(outputs, labels)\n",
    "\n",
    "        # Backprpagation and optimization\n",
    "        optimizer.zero_grad()\n",
    "        loss.backward()\n",
    "        optimizer.step()\n",
    "\n",
    "        if (i+1) % 100 == 0:\n",
    "            print ('Epoch [{}/{}], Step [{}/{}], Loss: {:.4f}'\n",
    "                   .format(epoch+1, num_epochs, i+1, total_step, loss.item()))"
   ]
  },
  {
   "cell_type": "code",
   "execution_count": null,
   "id": "311d99ba",
   "metadata": {},
   "outputs": [
    {
     "name": "stdout",
     "output_type": "stream",
     "text": [
      "Accuracy of the network on the test images: 97.98 %\n"
     ]
    }
   ],
   "source": [
    "# Test the model\n",
    "# In the test phase, don't need to compute gradients (for memory efficiency)\n",
    "with torch.no_grad():\n",
    "    correct = 0\n",
    "    total = 0\n",
    "    for images, labels in test_loader:\n",
    "        images = images.reshape(-1, 28*28).to(device)\n",
    "        labels = labels.to(device)\n",
    "        outputs = model(images)\n",
    "        _, predicted = torch.max(outputs.data, 1)\n",
    "        total += labels.size(0)\n",
    "        correct += (predicted == labels).sum().item()\n",
    "\n",
    "    print('Accuracy of the network on the test images: {} %'.format(100 * correct / total))\n",
    "\n",
    "# Save the model checkpoint\n",
    "torch.save(model.state_dict(), 'model.ckpt')"
   ]
  },
  {
   "cell_type": "markdown",
   "id": "db61705e",
   "metadata": {},
   "source": [
    "# 4.4 Домашнее задание\n",
    "\n",
    "В этом домашнем задании вы обучите полносвязную нейронную сеть для решения задачи классификации на датасете CIFAR-10. В этом датасете содержатся цветные (трехканальные) изображения размера 32 на 32 пикселя. Изображения относятся к 10 классам."
   ]
  },
  {
   "cell_type": "markdown",
   "id": "67f6fb7f",
   "metadata": {},
   "source": [
    "![image.png](data:image/png;base64,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)"
   ]
  },
  {
   "cell_type": "code",
   "execution_count": null,
   "id": "cdd6eefb",
   "metadata": {},
   "outputs": [
    {
     "data": {
      "text/plain": [
       "<torch._C.Generator at 0x22ce7c7a8b0>"
      ]
     },
     "execution_count": 142,
     "metadata": {},
     "output_type": "execute_result"
    }
   ],
   "source": [
    "import torch\n",
    "import torch.nn as nn\n",
    "import torchvision\n",
    "import torchvision.transforms as transforms\n",
    "import random\n",
    "import numpy as np\n",
    "\n",
    "np.random.seed(0)\n",
    "random.seed(0)\n",
    "torch.manual_seed(0)"
   ]
  },
  {
   "cell_type": "markdown",
   "id": "7c448b37",
   "metadata": {},
   "source": [
    "## Задание\n",
    "\n",
    "Задайте гиперпаметры для нейронной сети:\n",
    "\n",
    "* `input_size` - число входных признаков (равно число пикселей * число каналов). Вычислите `input_size` самостоятельно.\n",
    "\n",
    "* `hidden_size` - число нейронов на скрытом слое сети. Поставьте 500.\n",
    "\n",
    "* `num_classes` - число классов. Задайте самостоятельно.\n",
    "\n",
    "Чему равен `input_size`?\n"
   ]
  },
  {
   "cell_type": "code",
   "execution_count": null,
   "id": "2340cd91",
   "metadata": {},
   "outputs": [],
   "source": [
    "# Check Device configuration\n",
    "device = torch.device('cuda' if torch.cuda.is_available() else 'cpu')\n",
    "\n",
    "# Define Hyper-parameters\n",
    "input_size = 32 * 32 * 3 # ширина * высота * число каналов (RGB)\n",
    "hidden_size = 500\n",
    "num_classes = 10\n",
    "num_epochs = 10\n",
    "batch_size = 100\n",
    "learning_rate = 0.001"
   ]
  },
  {
   "cell_type": "code",
   "execution_count": null,
   "id": "33789387",
   "metadata": {},
   "outputs": [
    {
     "data": {
      "text/plain": [
       "3072"
      ]
     },
     "execution_count": 144,
     "metadata": {},
     "output_type": "execute_result"
    }
   ],
   "source": [
    "input_size"
   ]
  },
  {
   "cell_type": "markdown",
   "id": "65f2681b",
   "metadata": {},
   "source": [
    "Загрузим данные и масштабируем их."
   ]
  },
  {
   "cell_type": "code",
   "execution_count": null,
   "id": "5aec2b45",
   "metadata": {},
   "outputs": [],
   "source": [
    "# CIFAR dataset\n",
    "transform = transforms.Compose(\n",
    "    [transforms.ToTensor(),\n",
    "     transforms.Normalize((0.5, 0.5, 0.5), (0.5, 0.5, 0.5))])\n",
    "\n",
    "train_dataset = torchvision.datasets.CIFAR10(root='../../data',\n",
    "                                           train=True,\n",
    "                                           transform=transform,\n",
    "                                           download=True)\n",
    "\n",
    "test_dataset = torchvision.datasets.CIFAR10(root='../../data',\n",
    "                                          train=False,\n",
    "                                          transform=transform)"
   ]
  },
  {
   "cell_type": "markdown",
   "id": "2d5189fb",
   "metadata": {},
   "source": [
    "## Задание\n",
    "\n",
    "Сколько объектов в `train_dataset`?"
   ]
  },
  {
   "cell_type": "code",
   "execution_count": null,
   "id": "395e5334",
   "metadata": {},
   "outputs": [
    {
     "data": {
      "text/plain": [
       "50000"
      ]
     },
     "execution_count": 146,
     "metadata": {},
     "output_type": "execute_result"
    }
   ],
   "source": [
    "len(train_dataset)"
   ]
  },
  {
   "cell_type": "markdown",
   "id": "6221526e",
   "metadata": {},
   "source": [
    "Создадим data-loaders."
   ]
  },
  {
   "cell_type": "code",
   "execution_count": null,
   "id": "bc8c92d4",
   "metadata": {},
   "outputs": [],
   "source": [
    "# Data loader\n",
    "train_loader = torch.utils.data.DataLoader(dataset=train_dataset,\n",
    "                                           batch_size=batch_size,\n",
    "                                           shuffle=True)\n",
    "\n",
    "test_loader = torch.utils.data.DataLoader(dataset=test_dataset,\n",
    "                                          batch_size=batch_size,\n",
    "                                          shuffle=False)"
   ]
  },
  {
   "cell_type": "code",
   "execution_count": null,
   "id": "3ae3b0c5",
   "metadata": {},
   "outputs": [
    {
     "data": {
      "text/plain": [
       "50000"
      ]
     },
     "execution_count": 148,
     "metadata": {},
     "output_type": "execute_result"
    }
   ],
   "source": [
    "len(train_loader) * batch_size"
   ]
  },
  {
   "cell_type": "markdown",
   "id": "75ca05f5",
   "metadata": {},
   "source": [
    "## Задание\n",
    "\n",
    "Допишите метод `forward`. Архитектура сети следующая:\n",
    "\n",
    "1) Полносвязный слой `fc1`\n",
    "\n",
    "2) Функция активации ReLU\n",
    "\n",
    "3) Полносвязный слой `fc2`\n",
    "\n",
    "Сколько нейронов поступает на вход (`in_features`) в слой `fc2`?"
   ]
  },
  {
   "cell_type": "code",
   "execution_count": null,
   "id": "63a63005",
   "metadata": {},
   "outputs": [],
   "source": [
    "# Fully connected neural network\n",
    "# 1024, 512, 256, 128, 64\n",
    "class NeuralNet(nn.Module):\n",
    "    def __init__(self, input_size, hidden_size, num_classes):\n",
    "        super(NeuralNet, self).__init__()\n",
    "        self.fc1 = nn.Linear(input_size, hidden_size)\n",
    "        self.relu = nn.ReLU()\n",
    "        self.fc2 = nn.Linear(hidden_size, num_classes)\n",
    "\n",
    "    def forward(self, x):\n",
    "        out = self.fc1(x)\n",
    "        out = self.relu(out)\n",
    "        out = self.fc2(out)\n",
    "        return out\n",
    "\n",
    "model = NeuralNet(input_size, hidden_size, num_classes).to(device)"
   ]
  },
  {
   "cell_type": "markdown",
   "id": "3a5529f3",
   "metadata": {},
   "source": [
    "Задайте Loss - кросс-энтропию и оптимизатор - Adam с learning_rate, определенным константой из первого задания."
   ]
  },
  {
   "cell_type": "code",
   "execution_count": null,
   "id": "3fb35d15",
   "metadata": {},
   "outputs": [],
   "source": [
    "# Loss and optimizer\n",
    "criterion = nn.CrossEntropyLoss()\n",
    "optimizer = torch.optim.Adam(model.parameters(), lr=learning_rate)"
   ]
  },
  {
   "cell_type": "markdown",
   "id": "4eb21b0f",
   "metadata": {},
   "source": [
    "## Задание\n",
    "\n",
    "Допишите цикл для обучения модели:\n",
    "\n",
    "1) На вход в цикле подается объект `images` - батч, состоящий из картинок, вытянутых в вектор. Объект `images` переносится на device (на видеокарту, если есть).\n",
    "\n",
    "2) Каждую сотую итерацию добавляйте значение функции потерь в список log_loss. Значние функции потерь можно посмотреть в `loss.data` (не забудьте перевести tensor в np.array при помощи метода `.numpy()`, а если делаете вычисления на gpu, то `.cpu().numpy()`)\n",
    "\n",
    "Чему равен loss на последней итерации после отработки цикла? Ответ округлите до целого числа."
   ]
  },
  {
   "cell_type": "code",
   "execution_count": null,
   "id": "0bb2dbdb",
   "metadata": {},
   "outputs": [
    {
     "name": "stdout",
     "output_type": "stream",
     "text": [
      "Epoch [1/10], Step [100/500], Loss: 1.7296\n",
      "Epoch [1/10], Step [200/500], Loss: 1.3804\n",
      "Epoch [1/10], Step [300/500], Loss: 1.7036\n",
      "Epoch [1/10], Step [400/500], Loss: 1.5316\n",
      "Epoch [1/10], Step [500/500], Loss: 1.5217\n",
      "Epoch [2/10], Step [100/500], Loss: 1.7291\n",
      "Epoch [2/10], Step [200/500], Loss: 1.4651\n",
      "Epoch [2/10], Step [300/500], Loss: 1.6245\n",
      "Epoch [2/10], Step [400/500], Loss: 1.2835\n",
      "Epoch [2/10], Step [500/500], Loss: 1.4993\n",
      "Epoch [3/10], Step [100/500], Loss: 1.2793\n"
     ]
    },
    {
     "ename": "KeyboardInterrupt",
     "evalue": "",
     "output_type": "error",
     "traceback": [
      "\u001b[1;31m---------------------------------------------------------------------------\u001b[0m",
      "\u001b[1;31mKeyboardInterrupt\u001b[0m                         Traceback (most recent call last)",
      "Cell \u001b[1;32mIn[151], line 10\u001b[0m\n\u001b[0;32m      8\u001b[0m total_step \u001b[38;5;241m=\u001b[39m \u001b[38;5;28mlen\u001b[39m(train_loader)\n\u001b[0;32m      9\u001b[0m \u001b[38;5;28;01mfor\u001b[39;00m epoch \u001b[38;5;129;01min\u001b[39;00m \u001b[38;5;28mrange\u001b[39m(num_epochs):\n\u001b[1;32m---> 10\u001b[0m     \u001b[38;5;28;01mfor\u001b[39;00m i, (images, labels) \u001b[38;5;129;01min\u001b[39;00m \u001b[38;5;28menumerate\u001b[39m(train_loader):\n\u001b[0;32m     11\u001b[0m         \u001b[38;5;66;03m# Move tensors to the configured device\u001b[39;00m\n\u001b[0;32m     12\u001b[0m         images \u001b[38;5;241m=\u001b[39m images\u001b[38;5;241m.\u001b[39mreshape(\u001b[38;5;241m-\u001b[39m\u001b[38;5;241m1\u001b[39m, \u001b[38;5;241m32\u001b[39m\u001b[38;5;241m*\u001b[39m\u001b[38;5;241m32\u001b[39m\u001b[38;5;241m*\u001b[39m\u001b[38;5;241m3\u001b[39m)\u001b[38;5;241m.\u001b[39mto(device)\n\u001b[0;32m     13\u001b[0m         labels \u001b[38;5;241m=\u001b[39m labels\u001b[38;5;241m.\u001b[39mto(device)\n",
      "File \u001b[1;32mc:\\Users\\kuche\\anaconda3\\Lib\\site-packages\\torch\\utils\\data\\dataloader.py:733\u001b[0m, in \u001b[0;36m_BaseDataLoaderIter.__next__\u001b[1;34m(self)\u001b[0m\n\u001b[0;32m    730\u001b[0m \u001b[38;5;28;01mif\u001b[39;00m \u001b[38;5;28mself\u001b[39m\u001b[38;5;241m.\u001b[39m_sampler_iter \u001b[38;5;129;01mis\u001b[39;00m \u001b[38;5;28;01mNone\u001b[39;00m:\n\u001b[0;32m    731\u001b[0m     \u001b[38;5;66;03m# TODO(https://github.com/pytorch/pytorch/issues/76750)\u001b[39;00m\n\u001b[0;32m    732\u001b[0m     \u001b[38;5;28mself\u001b[39m\u001b[38;5;241m.\u001b[39m_reset()  \u001b[38;5;66;03m# type: ignore[call-arg]\u001b[39;00m\n\u001b[1;32m--> 733\u001b[0m data \u001b[38;5;241m=\u001b[39m \u001b[38;5;28mself\u001b[39m\u001b[38;5;241m.\u001b[39m_next_data()\n\u001b[0;32m    734\u001b[0m \u001b[38;5;28mself\u001b[39m\u001b[38;5;241m.\u001b[39m_num_yielded \u001b[38;5;241m+\u001b[39m\u001b[38;5;241m=\u001b[39m \u001b[38;5;241m1\u001b[39m\n\u001b[0;32m    735\u001b[0m \u001b[38;5;28;01mif\u001b[39;00m (\n\u001b[0;32m    736\u001b[0m     \u001b[38;5;28mself\u001b[39m\u001b[38;5;241m.\u001b[39m_dataset_kind \u001b[38;5;241m==\u001b[39m _DatasetKind\u001b[38;5;241m.\u001b[39mIterable\n\u001b[0;32m    737\u001b[0m     \u001b[38;5;129;01mand\u001b[39;00m \u001b[38;5;28mself\u001b[39m\u001b[38;5;241m.\u001b[39m_IterableDataset_len_called \u001b[38;5;129;01mis\u001b[39;00m \u001b[38;5;129;01mnot\u001b[39;00m \u001b[38;5;28;01mNone\u001b[39;00m\n\u001b[0;32m    738\u001b[0m     \u001b[38;5;129;01mand\u001b[39;00m \u001b[38;5;28mself\u001b[39m\u001b[38;5;241m.\u001b[39m_num_yielded \u001b[38;5;241m>\u001b[39m \u001b[38;5;28mself\u001b[39m\u001b[38;5;241m.\u001b[39m_IterableDataset_len_called\n\u001b[0;32m    739\u001b[0m ):\n",
      "File \u001b[1;32mc:\\Users\\kuche\\anaconda3\\Lib\\site-packages\\torch\\utils\\data\\dataloader.py:789\u001b[0m, in \u001b[0;36m_SingleProcessDataLoaderIter._next_data\u001b[1;34m(self)\u001b[0m\n\u001b[0;32m    787\u001b[0m \u001b[38;5;28;01mdef\u001b[39;00m \u001b[38;5;21m_next_data\u001b[39m(\u001b[38;5;28mself\u001b[39m):\n\u001b[0;32m    788\u001b[0m     index \u001b[38;5;241m=\u001b[39m \u001b[38;5;28mself\u001b[39m\u001b[38;5;241m.\u001b[39m_next_index()  \u001b[38;5;66;03m# may raise StopIteration\u001b[39;00m\n\u001b[1;32m--> 789\u001b[0m     data \u001b[38;5;241m=\u001b[39m \u001b[38;5;28mself\u001b[39m\u001b[38;5;241m.\u001b[39m_dataset_fetcher\u001b[38;5;241m.\u001b[39mfetch(index)  \u001b[38;5;66;03m# may raise StopIteration\u001b[39;00m\n\u001b[0;32m    790\u001b[0m     \u001b[38;5;28;01mif\u001b[39;00m \u001b[38;5;28mself\u001b[39m\u001b[38;5;241m.\u001b[39m_pin_memory:\n\u001b[0;32m    791\u001b[0m         data \u001b[38;5;241m=\u001b[39m _utils\u001b[38;5;241m.\u001b[39mpin_memory\u001b[38;5;241m.\u001b[39mpin_memory(data, \u001b[38;5;28mself\u001b[39m\u001b[38;5;241m.\u001b[39m_pin_memory_device)\n",
      "File \u001b[1;32mc:\\Users\\kuche\\anaconda3\\Lib\\site-packages\\torch\\utils\\data\\_utils\\fetch.py:52\u001b[0m, in \u001b[0;36m_MapDatasetFetcher.fetch\u001b[1;34m(self, possibly_batched_index)\u001b[0m\n\u001b[0;32m     50\u001b[0m         data \u001b[38;5;241m=\u001b[39m \u001b[38;5;28mself\u001b[39m\u001b[38;5;241m.\u001b[39mdataset\u001b[38;5;241m.\u001b[39m__getitems__(possibly_batched_index)\n\u001b[0;32m     51\u001b[0m     \u001b[38;5;28;01melse\u001b[39;00m:\n\u001b[1;32m---> 52\u001b[0m         data \u001b[38;5;241m=\u001b[39m [\u001b[38;5;28mself\u001b[39m\u001b[38;5;241m.\u001b[39mdataset[idx] \u001b[38;5;28;01mfor\u001b[39;00m idx \u001b[38;5;129;01min\u001b[39;00m possibly_batched_index]\n\u001b[0;32m     53\u001b[0m \u001b[38;5;28;01melse\u001b[39;00m:\n\u001b[0;32m     54\u001b[0m     data \u001b[38;5;241m=\u001b[39m \u001b[38;5;28mself\u001b[39m\u001b[38;5;241m.\u001b[39mdataset[possibly_batched_index]\n",
      "File \u001b[1;32mc:\\Users\\kuche\\anaconda3\\Lib\\site-packages\\torchvision\\datasets\\cifar.py:119\u001b[0m, in \u001b[0;36mCIFAR10.__getitem__\u001b[1;34m(self, index)\u001b[0m\n\u001b[0;32m    116\u001b[0m img \u001b[38;5;241m=\u001b[39m Image\u001b[38;5;241m.\u001b[39mfromarray(img)\n\u001b[0;32m    118\u001b[0m \u001b[38;5;28;01mif\u001b[39;00m \u001b[38;5;28mself\u001b[39m\u001b[38;5;241m.\u001b[39mtransform \u001b[38;5;129;01mis\u001b[39;00m \u001b[38;5;129;01mnot\u001b[39;00m \u001b[38;5;28;01mNone\u001b[39;00m:\n\u001b[1;32m--> 119\u001b[0m     img \u001b[38;5;241m=\u001b[39m \u001b[38;5;28mself\u001b[39m\u001b[38;5;241m.\u001b[39mtransform(img)\n\u001b[0;32m    121\u001b[0m \u001b[38;5;28;01mif\u001b[39;00m \u001b[38;5;28mself\u001b[39m\u001b[38;5;241m.\u001b[39mtarget_transform \u001b[38;5;129;01mis\u001b[39;00m \u001b[38;5;129;01mnot\u001b[39;00m \u001b[38;5;28;01mNone\u001b[39;00m:\n\u001b[0;32m    122\u001b[0m     target \u001b[38;5;241m=\u001b[39m \u001b[38;5;28mself\u001b[39m\u001b[38;5;241m.\u001b[39mtarget_transform(target)\n",
      "File \u001b[1;32mc:\\Users\\kuche\\anaconda3\\Lib\\site-packages\\torchvision\\transforms\\transforms.py:95\u001b[0m, in \u001b[0;36mCompose.__call__\u001b[1;34m(self, img)\u001b[0m\n\u001b[0;32m     93\u001b[0m \u001b[38;5;28;01mdef\u001b[39;00m \u001b[38;5;21m__call__\u001b[39m(\u001b[38;5;28mself\u001b[39m, img):\n\u001b[0;32m     94\u001b[0m     \u001b[38;5;28;01mfor\u001b[39;00m t \u001b[38;5;129;01min\u001b[39;00m \u001b[38;5;28mself\u001b[39m\u001b[38;5;241m.\u001b[39mtransforms:\n\u001b[1;32m---> 95\u001b[0m         img \u001b[38;5;241m=\u001b[39m t(img)\n\u001b[0;32m     96\u001b[0m     \u001b[38;5;28;01mreturn\u001b[39;00m img\n",
      "File \u001b[1;32mc:\\Users\\kuche\\anaconda3\\Lib\\site-packages\\torchvision\\transforms\\transforms.py:137\u001b[0m, in \u001b[0;36mToTensor.__call__\u001b[1;34m(self, pic)\u001b[0m\n\u001b[0;32m    129\u001b[0m \u001b[38;5;28;01mdef\u001b[39;00m \u001b[38;5;21m__call__\u001b[39m(\u001b[38;5;28mself\u001b[39m, pic):\n\u001b[0;32m    130\u001b[0m \u001b[38;5;250m    \u001b[39m\u001b[38;5;124;03m\"\"\"\u001b[39;00m\n\u001b[0;32m    131\u001b[0m \u001b[38;5;124;03m    Args:\u001b[39;00m\n\u001b[0;32m    132\u001b[0m \u001b[38;5;124;03m        pic (PIL Image or numpy.ndarray): Image to be converted to tensor.\u001b[39;00m\n\u001b[1;32m   (...)\u001b[0m\n\u001b[0;32m    135\u001b[0m \u001b[38;5;124;03m        Tensor: Converted image.\u001b[39;00m\n\u001b[0;32m    136\u001b[0m \u001b[38;5;124;03m    \"\"\"\u001b[39;00m\n\u001b[1;32m--> 137\u001b[0m     \u001b[38;5;28;01mreturn\u001b[39;00m F\u001b[38;5;241m.\u001b[39mto_tensor(pic)\n",
      "File \u001b[1;32mc:\\Users\\kuche\\anaconda3\\Lib\\site-packages\\torchvision\\transforms\\functional.py:174\u001b[0m, in \u001b[0;36mto_tensor\u001b[1;34m(pic)\u001b[0m\n\u001b[0;32m    172\u001b[0m img \u001b[38;5;241m=\u001b[39m img\u001b[38;5;241m.\u001b[39mview(pic\u001b[38;5;241m.\u001b[39msize[\u001b[38;5;241m1\u001b[39m], pic\u001b[38;5;241m.\u001b[39msize[\u001b[38;5;241m0\u001b[39m], F_pil\u001b[38;5;241m.\u001b[39mget_image_num_channels(pic))\n\u001b[0;32m    173\u001b[0m \u001b[38;5;66;03m# put it from HWC to CHW format\u001b[39;00m\n\u001b[1;32m--> 174\u001b[0m img \u001b[38;5;241m=\u001b[39m img\u001b[38;5;241m.\u001b[39mpermute((\u001b[38;5;241m2\u001b[39m, \u001b[38;5;241m0\u001b[39m, \u001b[38;5;241m1\u001b[39m))\u001b[38;5;241m.\u001b[39mcontiguous()\n\u001b[0;32m    175\u001b[0m \u001b[38;5;28;01mif\u001b[39;00m \u001b[38;5;28misinstance\u001b[39m(img, torch\u001b[38;5;241m.\u001b[39mByteTensor):\n\u001b[0;32m    176\u001b[0m     \u001b[38;5;28;01mreturn\u001b[39;00m img\u001b[38;5;241m.\u001b[39mto(dtype\u001b[38;5;241m=\u001b[39mdefault_float_dtype)\u001b[38;5;241m.\u001b[39mdiv(\u001b[38;5;241m255\u001b[39m)\n",
      "\u001b[1;31mKeyboardInterrupt\u001b[0m: "
     ]
    }
   ],
   "source": [
    "np.random.seed(0)\n",
    "random.seed(0)\n",
    "torch.manual_seed(0)\n",
    "\n",
    "loss_log = []\n",
    "\n",
    "# Train the model\n",
    "total_step = len(train_loader)\n",
    "for epoch in range(num_epochs):\n",
    "    for i, (images, labels) in enumerate(train_loader):\n",
    "        # Move tensors to the configured device\n",
    "        images = images.reshape(-1, 32*32*3).to(device)\n",
    "        labels = labels.to(device)\n",
    "\n",
    "        # Forward pass\n",
    "        outputs = model(images)\n",
    "        loss = criterion(outputs, labels)\n",
    "\n",
    "        # Backprpagation and optimization\n",
    "        optimizer.zero_grad()\n",
    "        loss.backward()\n",
    "        optimizer.step()\n",
    "\n",
    "        if (i+1) % 100 == 0:\n",
    "            print ('Epoch [{}/{}], Step [{}/{}], Loss: {:.4f}'\n",
    "                   .format(epoch+1, num_epochs, i+1, total_step, loss.item()))\n",
    "            # your code here\n",
    "            loss_log.append(loss.data.numpy())"
   ]
  },
  {
   "cell_type": "code",
   "execution_count": null,
   "id": "c7975172",
   "metadata": {},
   "outputs": [
    {
     "data": {
      "text/plain": [
       "array(0.89991987, dtype=float32)"
      ]
     },
     "execution_count": 111,
     "metadata": {},
     "output_type": "execute_result"
    }
   ],
   "source": [
    "loss_log[-1]"
   ]
  },
  {
   "cell_type": "markdown",
   "id": "4a21d833",
   "metadata": {},
   "source": [
    "## Задание  \n",
    "\n",
    "Нарисуйте график изменения лосса, используя список `loss_log`.\n",
    "\n",
    "Что можно сказать по этому графику?"
   ]
  },
  {
   "cell_type": "code",
   "execution_count": null,
   "id": "6b619971",
   "metadata": {},
   "outputs": [
    {
     "data": {
      "image/png": "[encoded data removed]",
      "text/plain": [
       "<Figure size 640x480 with 1 Axes>"
      ]
     },
     "metadata": {},
     "output_type": "display_data"
    }
   ],
   "source": [
    "from matplotlib import pyplot as plt\n",
    "\n",
    "plt.plot(loss_log)\n",
    "\n",
    "plt.title('График изменения loss')\n",
    "\n",
    "plt.grid('all')\n",
    "\n",
    "plt.show();"
   ]
  },
  {
   "cell_type": "markdown",
   "id": "540118ec",
   "metadata": {},
   "source": [
    "## Задание\n",
    "\n",
    "Допишите цикл тестирования модели:\n",
    "\n",
    "1) На вход, как и в предыдущем задании, подайте такой же тензор `images` и перенесите его на device\n",
    "\n",
    "2) Также задайте `labels`\n",
    "\n",
    "3) Сделайте прогноз модели на мини-батче `images` - результат будет в `outputs`\n",
    "\n",
    "4) В конце вычислите `accuracy` и выведите ее на экран по формуле $100 \\cdot correct / total$\n",
    "\n",
    "Чему равна `accuracy`? Ответ округлите до целого числа."
   ]
  },
  {
   "cell_type": "code",
   "execution_count": null,
   "id": "46ad0a9a",
   "metadata": {},
   "outputs": [
    {
     "name": "stdout",
     "output_type": "stream",
     "text": [
      "Accuracy of the network on the test images: 51.94 %\n"
     ]
    }
   ],
   "source": [
    "np.random.seed(0)\n",
    "random.seed(0)\n",
    "torch.manual_seed(0)\n",
    "\n",
    "# Test the model\n",
    "# In the test phase, don't need to compute gradients (for memory efficiency)\n",
    "with torch.no_grad():\n",
    "    correct = 0\n",
    "    total = 0\n",
    "    for images, labels in test_loader:\n",
    "        images = images.reshape(-1, 32*32*3).to(device)\n",
    "        labels = labels.to(device)\n",
    "        outputs = model(images)\n",
    "        \n",
    "        _, predicted = torch.max(outputs.data, 1)\n",
    "\n",
    "        total += labels.size(0)\n",
    "        correct += (predicted == labels).sum().item()\n",
    "\n",
    "    # your code for accuracy here\n",
    "    print('Accuracy of the network on the test images: {} %'.format(100 * correct / total))\n",
    "\n",
    "# Save the model checkpoint\n",
    "torch.save(model.state_dict(), 'model.ckpt')"
   ]
  },
  {
   "cell_type": "markdown",
   "id": "2a444f68",
   "metadata": {},
   "source": [
    "# 5.1 Препроцессинг данных и инициализация весов"
   ]
  },
  {
   "cell_type": "markdown",
   "id": "80aa431d",
   "metadata": {},
   "source": [
    "## Нормировка данных в PyTorch"
   ]
  },
  {
   "cell_type": "code",
   "execution_count": null,
   "id": "b39073d8",
   "metadata": {},
   "outputs": [
    {
     "name": "stdout",
     "output_type": "stream",
     "text": [
      "Результаты из dataloader1 (явная нормализация):\n",
      "tensor([[ 1.6132,  0.2978,  1.1244],\n",
      "        [ 2.0756,  1.7846, -0.8697],\n",
      "        [ 0.8239, -0.2610,  0.0214],\n",
      "        [ 0.3007,  0.0383,  1.6092]])\n",
      "\n",
      "Результаты из dataloader2 (нормализация через transform):\n",
      "tensor([[[ 1.6132,  0.2978,  1.1244]],\n",
      "\n",
      "        [[ 2.0756,  1.7846, -0.8697]],\n",
      "\n",
      "        [[ 0.8239, -0.2610,  0.0214]],\n",
      "\n",
      "        [[ 0.3007,  0.0383,  1.6092]]])\n"
     ]
    }
   ],
   "source": [
    "import torch\n",
    "from torchvision import transforms\n",
    "from torch.utils.data import DataLoader\n",
    "import numpy as np\n",
    "\n",
    "\n",
    "# Создание класса набора данных\n",
    "class CustomDataset(torch.utils.data.Dataset):\n",
    "    def __init__(self, data, transform=None):\n",
    "        self.data = data\n",
    "        self.transform = transform\n",
    "\n",
    "    def __len__(self):\n",
    "        return len(self.data)\n",
    "\n",
    "    def __getitem__(self, idx):\n",
    "        sample = self.data[idx]\n",
    "        if self.transform:\n",
    "            sample = self.transform(sample)\n",
    "        return sample\n",
    "\n",
    "# Генерация примера данных \n",
    "data = np.random.randn(100, 3)  # Данные размерности 100x3 (одномерные, поэтому пример будет с Lambda)\n",
    "\n",
    "# Преобразование numpy массива в тензор\n",
    "data = torch.tensor(data, dtype=torch.float32)\n",
    "\n",
    "\n",
    "# Вариант 1: Явная нормализация \n",
    "\n",
    "# Считаем среднее и std:\n",
    "means = data.mean(dim=0, keepdim=True)\n",
    "stds = data.std(dim=0, keepdim=True)\n",
    "normalized_data = (data - means) / stds\n",
    "\n",
    "# Создание экземпляра Dataset с нормализованными данными\n",
    "dataset1 = CustomDataset(normalized_data)\n",
    "\n",
    "# Создание DataLoader для нормализованных данных\n",
    "dataloader1 = DataLoader(dataset1, batch_size=4, shuffle=False)\n",
    "\n",
    "# --- Вариант 2: Нормализация с использованием transforms ---\n",
    "\n",
    "# Создание transform для нормализации\n",
    "transform = transforms.Compose([\n",
    "    transforms.Lambda(lambda x: (x - data.mean(dim=0, keepdim=True)) / data.std(dim=0, keepdim=True))\n",
    "])\n",
    "\n",
    "# Создание экземпляра Dataset с оригинальными данными и transform\n",
    "dataset2 = CustomDataset(data, transform=transform)\n",
    "\n",
    "# Создание DataLoader для данных с transform\n",
    "dataloader2 = DataLoader(dataset2, batch_size=4, shuffle=False)\n",
    "\n",
    "# --- Тестирование dataloader'ов ---\n",
    "\n",
    "print(\"Результаты из dataloader1 (явная нормализация):\")\n",
    "for batch in dataloader1:\n",
    "    print(batch)\n",
    "    break  # Печатаем только один батч\n",
    "\n",
    "print(\"\\nРезультаты из dataloader2 (нормализация через transform):\")\n",
    "for batch in dataloader2:\n",
    "    print(batch)\n",
    "    break  # Печатаем только один батч\n",
    "\n",
    "\n",
    "# Примечание:\n",
    "\n",
    "# shuffle=False— здесь поставлен, чтобы вы убедились в одинаковости результатов. В общем смысле, особенно при обучении, данные лучше перемешивать. "
   ]
  },
  {
   "cell_type": "markdown",
   "id": "fdfcd712",
   "metadata": {},
   "source": [
    "## Инициализация весов в PyTorch"
   ]
  },
  {
   "cell_type": "code",
   "execution_count": null,
   "id": "6cf9e823",
   "metadata": {},
   "outputs": [],
   "source": [
    "# import torch\n",
    "# import torch.nn as nn\n",
    "\n",
    "# # Задаем размерности входа и выхода для линейного слоя\n",
    "# input_size = 64\n",
    "# output_size = 128\n",
    "\n",
    "# # Создаем линейный слой\n",
    "# linear_layer = nn.Linear(input_size, output_size)\n",
    "\n",
    "\n",
    "# # Применяем Xavier инициализацию к весам этого слоя\n",
    "# nn.init.xavier_uniform_(linear_layer.weight)\n",
    "\n",
    "# # Применяем He инициализацию к весам этого слоя с равномерным распределением\n",
    "# nn.init.kaiming_uniform_(model.fc.weight, mode='fan_in', nonlinearity='relu')\n",
    "\n",
    "# # Применяем He инициализацию к весам этого слоя с нормальным распределением\n",
    "# nn.init.kaiming_normal_(model.fc.weight, mode='fan_in', nonlinearity='relu')"
   ]
  },
  {
   "cell_type": "markdown",
   "id": "5bf64a8e",
   "metadata": {},
   "source": [
    "# 5.2 Ограничения на веса"
   ]
  },
  {
   "cell_type": "markdown",
   "id": "ed5cb534",
   "metadata": {},
   "source": [
    "Gradient Clipping в PyTorch"
   ]
  },
  {
   "cell_type": "code",
   "execution_count": null,
   "id": "e6fb433e",
   "metadata": {},
   "outputs": [],
   "source": [
    "import torch\n",
    "import torch.nn as nn\n",
    "\n",
    "# Создаем модель\n",
    "model = nn.Sequential(\n",
    "    nn.Linear(10, 5),\n",
    "    nn.ReLU(),\n",
    "    nn.Linear(5, 1)\n",
    ")\n",
    "\n",
    "# Определяем функцию потерь\n",
    "criterion = nn.MSELoss()\n",
    "\n",
    "# Задаем оптимизатор\n",
    "optimizer = torch.optim.SGD(model.parameters(), lr=0.01)\n",
    "\n",
    "# Задаем параметры gradient clipping\n",
    "max_grad_norm = 1.0  # Максимальная допустимая норма градиентов\n",
    "clip_type = 'norm'  # Может быть 'norm' или 'value'\n",
    "\n",
    "# Пример обучения с gradient clipping\n",
    "inputs = torch.randn(1, 10)\n",
    "targets = torch.randn(1, 1)\n",
    "\n",
    "# Прямой проход\n",
    "outputs = model(inputs)\n",
    "loss = criterion(outputs, targets)\n",
    "\n",
    "# Обратное распространение ошибки\n",
    "optimizer.zero_grad()\n",
    "loss.backward()\n",
    "\n",
    "# Применение gradient clipping\n",
    "if clip_type == 'norm':\n",
    "    torch.nn.utils.clip_grad_norm_(model.parameters(), max_grad_norm)\n",
    "elif clip_type == 'value':\n",
    "    torch.nn.utils.clip_grad_value_(model.parameters(), max_grad_norm)\n",
    "\n",
    "# Обновление весов\n",
    "optimizer.step()\n",
    "# Мы пользуемся методами clip_grad_norm_() или clip_grad_value_() для ограничения нормы градиентов или их значений."
   ]
  },
  {
   "cell_type": "markdown",
   "id": "8ca95021",
   "metadata": {},
   "source": [
    "# 5.3 Dropout в PyTorch"
   ]
  },
  {
   "cell_type": "code",
   "execution_count": null,
   "id": "54a3b0cf",
   "metadata": {},
   "outputs": [],
   "source": [
    "# Пример архитектуры с Dropout-слоями\n",
    "\n",
    "class ExampleModel(nn.Module):\n",
    "    def __init__(self):\n",
    "        super().__init__()\n",
    "        self.layer1 = nn.Linear(60, 60)\n",
    "        self.act1 = nn.ReLU()\n",
    "        self.dropout1 = nn.Dropout(0.2)\n",
    "        self.layer2 = nn.Linear(60, 30)\n",
    "        self.act2 = nn.ReLU()\n",
    "        self.dropout2 = nn.Dropout(0.2)\n",
    "        self.output = nn.Linear(30, 1)\n",
    "        self.sigmoid = nn.Sigmoid()\n",
    "                                              \n",
    "    def forward(self, x):\n",
    "        x = self.act1(self.layer1(x))        \n",
    "        x = self.dropout1(x)\n",
    "        x = self.act2(self.layer2(x))\n",
    "        x = self.dropout2(x)\n",
    "        x = self.sigmoid(self.output(x))\n",
    "        return x"
   ]
  },
  {
   "cell_type": "markdown",
   "id": "a2a5c161",
   "metadata": {},
   "source": [
    "# 5.4 Batch and Layer Normalisation"
   ]
  },
  {
   "cell_type": "markdown",
   "id": "2477de11",
   "metadata": {},
   "source": [
    "## BatchNorm в PyTorch"
   ]
  },
  {
   "cell_type": "code",
   "execution_count": null,
   "id": "5f98c42b",
   "metadata": {},
   "outputs": [],
   "source": [
    "# Слой BatchNorm\n",
    "m = nn.BatchNorm2d(num_features=100)\n",
    "\n",
    "input = torch.randn(20, 100, 35, 45)\n",
    "output = m(input)"
   ]
  },
  {
   "cell_type": "markdown",
   "id": "ecfbe1c9",
   "metadata": {},
   "source": [
    "# 5.5 Домашнее задание\n",
    "\n",
    "В этом домашнем задании вы обучите полносвязную нейронную сеть для решения задачи классификации на датасете CIFAR-10. -->"
   ]
  },
  {
   "cell_type": "markdown",
   "id": "c223845b",
   "metadata": {},
   "source": [
    "Это домашнее задание оформлено в не совсем традиционном формате. Не хочется заставлять вас копировать код. Вы будете менять уже существующую архитектуру, а затем отвечать на вопросы."
   ]
  },
  {
   "cell_type": "markdown",
   "id": "53099e6c",
   "metadata": {},
   "source": [
    "## Задание 1\n",
    "\n",
    "Запустите данный изначально код и замерьте качество (accuracy) на тестовых данных. Ответ округлите до целого числа.\n",
    "\n",
    "## Задание 2\n",
    "\n",
    "Добавьте еще один полносвязный слой (перед выходным) из 100 нейронов + функцию активации ReLU и запустите обучение. Выберите в ответе accuracy, наиболее близкую к полученной на тесте.\n",
    "\n",
    "## Задание 3\n",
    "\n",
    "Теперь обучите полносвязную сеть с несколькими линейными слоями с числом нейронов: 1024, 512, 256, 128, 64 соответственно + функцией ReLU на выходе из каждого внутреннего слоя. В ответе - accuracy, округленная до целого числа.\n",
    "\n",
    "## Задание 4\n",
    "\n",
    "К архитектуре из предыдущего задания добавьте Dropout(0.2) перед слоями из 1024 и 256 нейронов. Увеличилась ли accuracy по сравнению с предыдущим заданием?\n",
    "\n",
    "## Задание 5\n",
    "\n",
    "Уберите Dropout, но добавьте BatchNorm перед входом в те же линейные слои. Увеличилась ли accuracy по сравнению с заданием 3?\n",
    "\n",
    "## Задание 6\n",
    "\n",
    "Теперь пробуйте что угодно:\n",
    "* разное число линейных слоев\n",
    "* разные функции активации (вместо ReLU)\n",
    "* комбинации Dropout / BatchNorm\n",
    "* можете попробовать умные инициализации весов и другие трюки из урока\n",
    "\n",
    "Цель - добиться наибольшей accuracy на тесте."
   ]
  },
  {
   "cell_type": "code",
   "execution_count": 240,
   "id": "71d574d2",
   "metadata": {},
   "outputs": [],
   "source": [
    "import torch\n",
    "import torch.nn as nn\n",
    "import torchvision\n",
    "import torchvision.transforms as transforms\n",
    "import random\n",
    "import numpy as np\n",
    "\n",
    "def seed():\n",
    "  np.random.seed(0)\n",
    "  random.seed(0)\n",
    "  torch.manual_seed(0)\n",
    "\n",
    "seed()"
   ]
  },
  {
   "cell_type": "code",
   "execution_count": 241,
   "id": "41f70c7a",
   "metadata": {},
   "outputs": [],
   "source": [
    "# Check Device configuration\n",
    "device = torch.device('cuda' if torch.cuda.is_available() else 'cpu')\n",
    "\n",
    "# Define Hyper-parameters\n",
    "input_size = 3072\n",
    "num_classes = 10\n",
    "num_epochs = 10\n",
    "batch_size = 32\n",
    "learning_rate = 0.001"
   ]
  },
  {
   "cell_type": "code",
   "execution_count": 242,
   "id": "390cc7bf",
   "metadata": {},
   "outputs": [],
   "source": [
    "# MNIST dataset\n",
    "transform = transforms.Compose(\n",
    "    [transforms.ToTensor(),\n",
    "     transforms.Normalize((0.5, 0.5, 0.5), (0.5, 0.5, 0.5))])\n",
    "\n",
    "train_dataset = torchvision.datasets.CIFAR10(root='../../data',\n",
    "                                           train=True,\n",
    "                                           transform=transform,\n",
    "                                           download=True)\n",
    "\n",
    "test_dataset = torchvision.datasets.CIFAR10(root='../../data',\n",
    "                                          train=False,\n",
    "                                          transform=transform)"
   ]
  },
  {
   "cell_type": "code",
   "execution_count": 243,
   "id": "559cddd0",
   "metadata": {},
   "outputs": [],
   "source": [
    "# Data loader\n",
    "seed()\n",
    "train_loader = torch.utils.data.DataLoader(dataset=train_dataset,\n",
    "                                           batch_size=batch_size,\n",
    "                                           shuffle=True)\n",
    "\n",
    "test_loader = torch.utils.data.DataLoader(dataset=test_dataset,\n",
    "                                          batch_size=batch_size,\n",
    "                                          shuffle=False)"
   ]
  },
  {
   "cell_type": "code",
   "execution_count": 244,
   "id": "69b426fd",
   "metadata": {},
   "outputs": [
    {
     "data": {
      "text/plain": [
       "NeuralNet(\n",
       "  (bn1): BatchNorm1d(3072, eps=1e-05, momentum=0.1, affine=True, track_running_stats=True)\n",
       "  (dropout): Dropout(p=0.2, inplace=False)\n",
       "  (fc1): Linear(in_features=3072, out_features=1024, bias=True)\n",
       "  (relu1): ReLU()\n",
       "  (fc2): Linear(in_features=1024, out_features=512, bias=True)\n",
       "  (relu2): ReLU()\n",
       "  (bn3): BatchNorm1d(512, eps=1e-05, momentum=0.1, affine=True, track_running_stats=True)\n",
       "  (fc3): Linear(in_features=512, out_features=256, bias=True)\n",
       "  (relu3): ReLU()\n",
       "  (fc4): Linear(in_features=256, out_features=128, bias=True)\n",
       "  (relu4): ReLU()\n",
       "  (fc5): Linear(in_features=128, out_features=64, bias=True)\n",
       "  (relu5): ReLU()\n",
       "  (fc6): Linear(in_features=64, out_features=10, bias=True)\n",
       ")"
      ]
     },
     "execution_count": 244,
     "metadata": {},
     "output_type": "execute_result"
    }
   ],
   "source": [
    "# Fully connected neural network\n",
    "\n",
    "class NeuralNet(nn.Module):\n",
    "    def __init__(self, input_size, num_classes):\n",
    "        super(NeuralNet, self).__init__()\n",
    "        self.bn1 = nn.BatchNorm1d(input_size)\n",
    "        self.dropout = nn.Dropout(p=0.2)\n",
    "        self.fc1 = nn.Linear(input_size, 1024)\n",
    "        self.relu1 = nn.ReLU()\n",
    "        self.fc2 = nn.Linear(1024, 512)\n",
    "        self.relu2 = nn.ReLU()\n",
    "        self.bn3 = nn.BatchNorm1d(512)\n",
    "        self.dropout = nn.Dropout(p=0.2)\n",
    "        self.fc3 = nn.Linear(512, 256)\n",
    "        self.relu3 = nn.ReLU()\n",
    "        self.fc4 = nn.Linear(256, 128)\n",
    "        self.relu4 = nn.ReLU()\n",
    "        self.fc5 = nn.Linear(128, 64)\n",
    "        self.relu5 = nn.ReLU()\n",
    "        self.fc6 = nn.Linear(64, num_classes)\n",
    "#        self.apply(self._init_weights)\n",
    "\n",
    "    def _init_weights(self, module): # метод для различных \"умных\" инициализаций весов\n",
    "        if isinstance(module, nn.Linear):\n",
    "            module.weight.data.normal_(mean=0.0, std=0.15)\n",
    "            if module.bias is not None:\n",
    "                module.bias.data.zero_()\n",
    "\n",
    "    def forward(self, x):\n",
    "        out = self.bn1(x)\n",
    "        # out = self.dropout(x)\n",
    "        out = self.fc1(out)\n",
    "        out = self.relu1(out)\n",
    "        out = self.fc2(out)\n",
    "        out = self.relu2(out)\n",
    "        out = self.bn3(out)\n",
    "        # out = self.dropout(out)\n",
    "        out = self.fc3(out)\n",
    "        out = self.relu3(out)\n",
    "        out = self.fc4(out)\n",
    "        out = self.relu4(out)\n",
    "        out = self.fc5(out)\n",
    "        out = self.relu5(out)\n",
    "        out = self.fc6(out)\n",
    "\n",
    "        return out\n",
    "\n",
    "model = NeuralNet(input_size, num_classes).to(device)\n",
    "\n",
    "model"
   ]
  },
  {
   "cell_type": "code",
   "execution_count": 245,
   "id": "2b2a4a66",
   "metadata": {},
   "outputs": [],
   "source": [
    "# Loss and optimizer\n",
    "criterion = nn.CrossEntropyLoss()\n",
    "optimizer = torch.optim.Adam(model.parameters(), lr=learning_rate)"
   ]
  },
  {
   "cell_type": "code",
   "execution_count": 246,
   "id": "0308afa3",
   "metadata": {},
   "outputs": [
    {
     "name": "stdout",
     "output_type": "stream",
     "text": [
      "Epoch [1/10], Step [100/1563], Loss: 2.2668\n",
      "Epoch [1/10], Step [200/1563], Loss: 1.9890\n",
      "Epoch [1/10], Step [300/1563], Loss: 1.7501\n",
      "Epoch [1/10], Step [400/1563], Loss: 1.8288\n",
      "Epoch [1/10], Step [500/1563], Loss: 1.8968\n",
      "Epoch [1/10], Step [600/1563], Loss: 1.8152\n",
      "Epoch [1/10], Step [700/1563], Loss: 1.6707\n",
      "Epoch [1/10], Step [800/1563], Loss: 1.8200\n",
      "Epoch [1/10], Step [900/1563], Loss: 1.6885\n",
      "Epoch [1/10], Step [1000/1563], Loss: 1.5130\n",
      "Epoch [1/10], Step [1100/1563], Loss: 1.8525\n",
      "Epoch [1/10], Step [1200/1563], Loss: 1.6674\n",
      "Epoch [1/10], Step [1300/1563], Loss: 1.6412\n",
      "Epoch [1/10], Step [1400/1563], Loss: 1.6629\n",
      "Epoch [1/10], Step [1500/1563], Loss: 1.5954\n",
      "Epoch [2/10], Step [100/1563], Loss: 1.5476\n",
      "Epoch [2/10], Step [200/1563], Loss: 1.3834\n",
      "Epoch [2/10], Step [300/1563], Loss: 1.3505\n",
      "Epoch [2/10], Step [400/1563], Loss: 1.7730\n",
      "Epoch [2/10], Step [500/1563], Loss: 1.4253\n",
      "Epoch [2/10], Step [600/1563], Loss: 1.6892\n",
      "Epoch [2/10], Step [700/1563], Loss: 1.4929\n",
      "Epoch [2/10], Step [800/1563], Loss: 1.7473\n",
      "Epoch [2/10], Step [900/1563], Loss: 1.3825\n",
      "Epoch [2/10], Step [1000/1563], Loss: 1.2264\n",
      "Epoch [2/10], Step [1100/1563], Loss: 1.4888\n",
      "Epoch [2/10], Step [1200/1563], Loss: 1.6342\n",
      "Epoch [2/10], Step [1300/1563], Loss: 1.6019\n",
      "Epoch [2/10], Step [1400/1563], Loss: 1.5057\n",
      "Epoch [2/10], Step [1500/1563], Loss: 1.4637\n",
      "Epoch [3/10], Step [100/1563], Loss: 1.4684\n",
      "Epoch [3/10], Step [200/1563], Loss: 1.6341\n",
      "Epoch [3/10], Step [300/1563], Loss: 1.4775\n",
      "Epoch [3/10], Step [400/1563], Loss: 1.3152\n",
      "Epoch [3/10], Step [500/1563], Loss: 1.1814\n",
      "Epoch [3/10], Step [600/1563], Loss: 1.8022\n",
      "Epoch [3/10], Step [700/1563], Loss: 1.1731\n",
      "Epoch [3/10], Step [800/1563], Loss: 1.7068\n",
      "Epoch [3/10], Step [900/1563], Loss: 1.2720\n",
      "Epoch [3/10], Step [1000/1563], Loss: 1.5057\n",
      "Epoch [3/10], Step [1100/1563], Loss: 1.6096\n",
      "Epoch [3/10], Step [1200/1563], Loss: 1.5381\n",
      "Epoch [3/10], Step [1300/1563], Loss: 1.1319\n",
      "Epoch [3/10], Step [1400/1563], Loss: 1.2904\n",
      "Epoch [3/10], Step [1500/1563], Loss: 1.3197\n",
      "Epoch [4/10], Step [100/1563], Loss: 1.5248\n",
      "Epoch [4/10], Step [200/1563], Loss: 1.4949\n",
      "Epoch [4/10], Step [300/1563], Loss: 1.4960\n",
      "Epoch [4/10], Step [400/1563], Loss: 1.2831\n",
      "Epoch [4/10], Step [500/1563], Loss: 1.4340\n",
      "Epoch [4/10], Step [600/1563], Loss: 1.4495\n",
      "Epoch [4/10], Step [700/1563], Loss: 1.5626\n",
      "Epoch [4/10], Step [800/1563], Loss: 1.5113\n",
      "Epoch [4/10], Step [900/1563], Loss: 1.2887\n",
      "Epoch [4/10], Step [1000/1563], Loss: 1.2553\n",
      "Epoch [4/10], Step [1100/1563], Loss: 1.3101\n",
      "Epoch [4/10], Step [1200/1563], Loss: 1.0991\n",
      "Epoch [4/10], Step [1300/1563], Loss: 1.3278\n",
      "Epoch [4/10], Step [1400/1563], Loss: 1.5488\n",
      "Epoch [4/10], Step [1500/1563], Loss: 1.2969\n",
      "Epoch [5/10], Step [100/1563], Loss: 1.6319\n",
      "Epoch [5/10], Step [200/1563], Loss: 1.0789\n",
      "Epoch [5/10], Step [300/1563], Loss: 1.3978\n",
      "Epoch [5/10], Step [400/1563], Loss: 1.0183\n",
      "Epoch [5/10], Step [500/1563], Loss: 1.2002\n",
      "Epoch [5/10], Step [600/1563], Loss: 1.1873\n",
      "Epoch [5/10], Step [700/1563], Loss: 1.3845\n",
      "Epoch [5/10], Step [800/1563], Loss: 1.1562\n",
      "Epoch [5/10], Step [900/1563], Loss: 1.7609\n",
      "Epoch [5/10], Step [1000/1563], Loss: 1.1083\n",
      "Epoch [5/10], Step [1100/1563], Loss: 1.6603\n",
      "Epoch [5/10], Step [1200/1563], Loss: 1.4001\n",
      "Epoch [5/10], Step [1300/1563], Loss: 1.1529\n",
      "Epoch [5/10], Step [1400/1563], Loss: 1.1880\n",
      "Epoch [5/10], Step [1500/1563], Loss: 1.1944\n",
      "Epoch [6/10], Step [100/1563], Loss: 1.3575\n",
      "Epoch [6/10], Step [200/1563], Loss: 1.1795\n",
      "Epoch [6/10], Step [300/1563], Loss: 0.9020\n",
      "Epoch [6/10], Step [400/1563], Loss: 1.0280\n",
      "Epoch [6/10], Step [500/1563], Loss: 1.1526\n",
      "Epoch [6/10], Step [600/1563], Loss: 1.3925\n",
      "Epoch [6/10], Step [700/1563], Loss: 1.3319\n",
      "Epoch [6/10], Step [800/1563], Loss: 1.5634\n",
      "Epoch [6/10], Step [900/1563], Loss: 1.2628\n",
      "Epoch [6/10], Step [1000/1563], Loss: 1.1748\n",
      "Epoch [6/10], Step [1100/1563], Loss: 1.4668\n",
      "Epoch [6/10], Step [1200/1563], Loss: 1.4787\n",
      "Epoch [6/10], Step [1300/1563], Loss: 1.2924\n",
      "Epoch [6/10], Step [1400/1563], Loss: 1.4313\n",
      "Epoch [6/10], Step [1500/1563], Loss: 1.5292\n",
      "Epoch [7/10], Step [100/1563], Loss: 1.2783\n",
      "Epoch [7/10], Step [200/1563], Loss: 1.2341\n",
      "Epoch [7/10], Step [300/1563], Loss: 1.0508\n",
      "Epoch [7/10], Step [400/1563], Loss: 1.0972\n",
      "Epoch [7/10], Step [500/1563], Loss: 1.2572\n",
      "Epoch [7/10], Step [600/1563], Loss: 1.3520\n",
      "Epoch [7/10], Step [700/1563], Loss: 1.3990\n",
      "Epoch [7/10], Step [800/1563], Loss: 1.0375\n",
      "Epoch [7/10], Step [900/1563], Loss: 1.1463\n",
      "Epoch [7/10], Step [1000/1563], Loss: 1.1792\n",
      "Epoch [7/10], Step [1100/1563], Loss: 1.3503\n",
      "Epoch [7/10], Step [1200/1563], Loss: 1.1885\n",
      "Epoch [7/10], Step [1300/1563], Loss: 1.4651\n",
      "Epoch [7/10], Step [1400/1563], Loss: 1.0627\n",
      "Epoch [7/10], Step [1500/1563], Loss: 1.3806\n",
      "Epoch [8/10], Step [100/1563], Loss: 1.1055\n",
      "Epoch [8/10], Step [200/1563], Loss: 1.2382\n",
      "Epoch [8/10], Step [300/1563], Loss: 0.9465\n",
      "Epoch [8/10], Step [400/1563], Loss: 1.1026\n",
      "Epoch [8/10], Step [500/1563], Loss: 0.8843\n",
      "Epoch [8/10], Step [600/1563], Loss: 1.3410\n",
      "Epoch [8/10], Step [700/1563], Loss: 1.4857\n",
      "Epoch [8/10], Step [800/1563], Loss: 1.0929\n",
      "Epoch [8/10], Step [900/1563], Loss: 1.2258\n",
      "Epoch [8/10], Step [1000/1563], Loss: 1.2012\n",
      "Epoch [8/10], Step [1100/1563], Loss: 1.3338\n",
      "Epoch [8/10], Step [1200/1563], Loss: 1.1785\n",
      "Epoch [8/10], Step [1300/1563], Loss: 1.2727\n",
      "Epoch [8/10], Step [1400/1563], Loss: 1.0051\n",
      "Epoch [8/10], Step [1500/1563], Loss: 0.8531\n",
      "Epoch [9/10], Step [100/1563], Loss: 1.1110\n",
      "Epoch [9/10], Step [200/1563], Loss: 1.1677\n",
      "Epoch [9/10], Step [300/1563], Loss: 1.1544\n",
      "Epoch [9/10], Step [400/1563], Loss: 0.9410\n",
      "Epoch [9/10], Step [500/1563], Loss: 1.5264\n",
      "Epoch [9/10], Step [600/1563], Loss: 1.2467\n",
      "Epoch [9/10], Step [700/1563], Loss: 1.0701\n",
      "Epoch [9/10], Step [800/1563], Loss: 0.9062\n",
      "Epoch [9/10], Step [900/1563], Loss: 1.0716\n",
      "Epoch [9/10], Step [1000/1563], Loss: 0.8919\n",
      "Epoch [9/10], Step [1100/1563], Loss: 1.0760\n",
      "Epoch [9/10], Step [1200/1563], Loss: 1.5803\n",
      "Epoch [9/10], Step [1300/1563], Loss: 1.0829\n",
      "Epoch [9/10], Step [1400/1563], Loss: 1.0360\n",
      "Epoch [9/10], Step [1500/1563], Loss: 1.1128\n",
      "Epoch [10/10], Step [100/1563], Loss: 1.3911\n",
      "Epoch [10/10], Step [200/1563], Loss: 1.5112\n",
      "Epoch [10/10], Step [300/1563], Loss: 0.9709\n",
      "Epoch [10/10], Step [400/1563], Loss: 1.1401\n",
      "Epoch [10/10], Step [500/1563], Loss: 1.0617\n",
      "Epoch [10/10], Step [600/1563], Loss: 0.9994\n",
      "Epoch [10/10], Step [700/1563], Loss: 1.3479\n",
      "Epoch [10/10], Step [800/1563], Loss: 1.0169\n",
      "Epoch [10/10], Step [900/1563], Loss: 1.2265\n",
      "Epoch [10/10], Step [1000/1563], Loss: 0.8218\n",
      "Epoch [10/10], Step [1100/1563], Loss: 1.1141\n",
      "Epoch [10/10], Step [1200/1563], Loss: 1.3543\n",
      "Epoch [10/10], Step [1300/1563], Loss: 0.9710\n",
      "Epoch [10/10], Step [1400/1563], Loss: 1.1671\n",
      "Epoch [10/10], Step [1500/1563], Loss: 0.8448\n"
     ]
    }
   ],
   "source": [
    "seed()\n",
    "\n",
    "loss_log = []\n",
    "\n",
    "# Train the model\n",
    "total_step = len(train_loader)\n",
    "for epoch in range(num_epochs):\n",
    "    for i, (images, labels) in enumerate(train_loader):\n",
    "        # Move tensors to the configured device\n",
    "        images = images.reshape(-1, 32*32*3).to(device)\n",
    "        labels = labels.to(device)\n",
    "\n",
    "        # Forward pass\n",
    "        outputs = model(images)\n",
    "        loss = criterion(outputs, labels)\n",
    "\n",
    "        # Backprpagation and optimization\n",
    "        optimizer.zero_grad()\n",
    "        loss.backward()\n",
    "        optimizer.step()\n",
    "\n",
    "        if (i+1) % 100 == 0:\n",
    "            print ('Epoch [{}/{}], Step [{}/{}], Loss: {:.4f}'\n",
    "                   .format(epoch+1, num_epochs, i+1, total_step, loss.item()))\n",
    "            loss_log.append(loss.data.cpu().numpy())"
   ]
  },
  {
   "cell_type": "code",
   "execution_count": 247,
   "id": "98d1be23",
   "metadata": {},
   "outputs": [
    {
     "data": {
      "image/png": "[encoded data removed]",
      "text/plain": [
       "<Figure size 1000x800 with 1 Axes>"
      ]
     },
     "metadata": {},
     "output_type": "display_data"
    }
   ],
   "source": [
    "from matplotlib import pyplot as plt\n",
    "\n",
    "plt.figure(figsize=(10,8))\n",
    "plt.plot(loss_log);"
   ]
  },
  {
   "cell_type": "code",
   "execution_count": 248,
   "id": "bcf89605",
   "metadata": {},
   "outputs": [
    {
     "name": "stdout",
     "output_type": "stream",
     "text": [
      "Accuracy of the network on the test images: 53.23 %\n"
     ]
    }
   ],
   "source": [
    "seed()\n",
    "\n",
    "# Test the model\n",
    "# In the test phase, don't need to compute gradients (for memory efficiency)\n",
    "with torch.no_grad():\n",
    "    correct = 0\n",
    "    total = 0\n",
    "    for images, labels in test_loader:\n",
    "        images = images.reshape(-1, 32*32*3).to(device)\n",
    "        labels = labels.to(device)\n",
    "        outputs = model(images)\n",
    "        _, predicted = torch.max(outputs.data, 1)\n",
    "        total += labels.size(0)\n",
    "        correct += (predicted == labels).sum().item()\n",
    "\n",
    "    print('Accuracy of the network on the test images: {} %'.format(100 * correct / total))\n",
    "\n",
    "# Save the model checkpoint\n",
    "torch.save(model.state_dict(), 'model.ckpt')"
   ]
  },
  {
   "cell_type": "code",
   "execution_count": null,
   "id": "ff1107ca",
   "metadata": {},
   "outputs": [],
   "source": []
  },
  {
   "cell_type": "code",
   "execution_count": null,
   "id": "57ad5528",
   "metadata": {},
   "outputs": [],
   "source": []
  }
 ],
 "metadata": {
  "kernelspec": {
   "display_name": "base",
   "language": "python",
   "name": "python3"
  },
  "language_info": {
   "codemirror_mode": {
    "name": "ipython",
    "version": 3
   },
   "file_extension": ".py",
   "mimetype": "text/x-python",
   "name": "python",
   "nbconvert_exporter": "python",
   "pygments_lexer": "ipython3",
   "version": "3.12.3"
  }
 },
 "nbformat": 4,
 "nbformat_minor": 5
}
