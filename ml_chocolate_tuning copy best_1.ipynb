{
 "cells": [
  {
   "cell_type": "markdown",
   "id": "9a21014b",
   "metadata": {},
   "source": [
    "<h1><b>Задача по предсказанию рейтинга шоколада"
   ]
  },
  {
   "cell_type": "markdown",
   "id": "d1ba85e3",
   "metadata": {},
   "source": [
    "<h3><b>Никнейм на Kaggle: "
   ]
  },
  {
   "cell_type": "markdown",
   "id": "e919e9b0",
   "metadata": {},
   "source": [
    "# Описание задачи"
   ]
  },
  {
   "cell_type": "code",
   "execution_count": 1,
   "id": "4b4ef540",
   "metadata": {},
   "outputs": [],
   "source": [
    "# Даны характеристики шоколадок и по ним нужно предсказать их рейтинг.\n",
    "\n",
    "# Описание данных\n",
    "# Company - компания производитель\n",
    "# Specific Bean Origin - географический регион происхождения\n",
    "# REF - параметр, определяющий момент внесения записи в базу данных (чем выше значение, тем \"свежее\" запись)\n",
    "# Review - дата публикации отзыва\n",
    "# Cocoa Percent - процентное содержание какао\n",
    "# Company Location - страна производитель\n",
    "# Rating - экспертный рейтинг\n",
    "# Bean Type - используемый сорт какао-бобов, если таковой имеется\n",
    "# Broad Bean Origin - географический регион происхождения какао-бобов\n",
    "\n",
    "# Файлы с данными\n",
    "# choco_train.csv - тренировочные данные\n",
    "# choco_test_new.csv - тестовые данные\n",
    "# choco_sample_submission.csv - пример submission"
   ]
  },
  {
   "cell_type": "markdown",
   "id": "b8029c27",
   "metadata": {},
   "source": [
    "# Импорт библиотек, константы"
   ]
  },
  {
   "cell_type": "code",
   "execution_count": 2,
   "id": "6a56350b",
   "metadata": {},
   "outputs": [],
   "source": [
    "import pandas as pd\n",
    "import numpy as np\n",
    "import matplotlib.pyplot as plt\n",
    "import seaborn as sns"
   ]
  },
  {
   "cell_type": "code",
   "execution_count": 3,
   "id": "eff28139",
   "metadata": {},
   "outputs": [],
   "source": [
    "import warnings\n",
    "warnings.filterwarnings(\"ignore\")"
   ]
  },
  {
   "cell_type": "code",
   "execution_count": 4,
   "id": "78bc245d",
   "metadata": {},
   "outputs": [],
   "source": [
    "from sklearn.preprocessing import MinMaxScaler, StandardScaler, PolynomialFeatures\n",
    "from category_encoders.ordinal import OrdinalEncoder\n",
    "from category_encoders.one_hot import OneHotEncoder\n",
    "from category_encoders.target_encoder import TargetEncoder\n",
    "from category_encoders.leave_one_out import LeaveOneOutEncoder"
   ]
  },
  {
   "cell_type": "code",
   "execution_count": 5,
   "id": "88a7517d",
   "metadata": {},
   "outputs": [],
   "source": [
    "from sklearn.linear_model import LinearRegression\n",
    "from sklearn.ensemble import RandomForestRegressor\n",
    "from catboost import CatBoostRegressor\n",
    "from xgboost import XGBRegressor\n",
    "from lightgbm import LGBMRanker, LGBMRegressor\n",
    "from sklearn.ensemble import GradientBoostingRegressor\n",
    "from sklearn.ensemble import StackingRegressor\n",
    "import optuna"
   ]
  },
  {
   "cell_type": "code",
   "execution_count": 6,
   "id": "55bbc4a3",
   "metadata": {},
   "outputs": [],
   "source": [
    "import association_metrics as am\n",
    "from sklearn.model_selection import cross_val_score, train_test_split\n",
    "from sklearn.metrics import mean_absolute_percentage_error as MAPE, mean_absolute_error as MAE, r2_score, mean_squared_error as MSE\n",
    "from scipy import stats\n",
    "\n",
    "from sklearn.pipeline import Pipeline"
   ]
  },
  {
   "cell_type": "code",
   "execution_count": 7,
   "id": "2db69993",
   "metadata": {},
   "outputs": [],
   "source": [
    "RANDOM_STATE = 42"
   ]
  },
  {
   "cell_type": "markdown",
   "id": "bd1674e8",
   "metadata": {},
   "source": [
    "<!-- # Загрузка данных -->"
   ]
  },
  {
   "cell_type": "markdown",
   "id": "72821688",
   "metadata": {},
   "source": [
    "# Загрузка данных"
   ]
  },
  {
   "cell_type": "code",
   "execution_count": 47,
   "id": "f1f18fdb",
   "metadata": {},
   "outputs": [],
   "source": [
    "# TRAIN = \"https://raw.githubusercontent.com/evgpat/edu_stepik_practical_ml/main/datasets/chocolate_train.csv\"\n",
    "# TEST = \"https://raw.githubusercontent.com/evgpat/edu_stepik_practical_ml/main/datasets/chocolate_test_new.csv\"\n",
    "TRAIN = 'data\\chocolate-rating\\chocolate_train.csv'\n",
    "TEST = 'data\\chocolate-rating\\chocolate_test_new.csv'"
   ]
  },
  {
   "cell_type": "code",
   "execution_count": 48,
   "id": "a996322a",
   "metadata": {},
   "outputs": [],
   "source": [
    "train_df = pd.read_csv(TRAIN)"
   ]
  },
  {
   "cell_type": "code",
   "execution_count": 49,
   "id": "4acb1c82",
   "metadata": {},
   "outputs": [],
   "source": [
    "test_df = pd.read_csv(TEST)"
   ]
  },
  {
   "cell_type": "code",
   "execution_count": 50,
   "id": "fa3448ae",
   "metadata": {},
   "outputs": [
    {
     "data": {
      "text/plain": [
       "'\\xa0'"
      ]
     },
     "execution_count": 50,
     "metadata": {},
     "output_type": "execute_result"
    }
   ],
   "source": [
    "train_df['Bean Type'].value_counts().index[0]"
   ]
  },
  {
   "cell_type": "code",
   "execution_count": 51,
   "id": "25efa55e",
   "metadata": {},
   "outputs": [],
   "source": [
    "train_df = train_df.replace('\\xa0', np.NaN)\n",
    "test_df = test_df.replace('\\xa0', np.NaN)"
   ]
  },
  {
   "cell_type": "markdown",
   "id": "5bf024aa",
   "metadata": {},
   "source": [
    "# Обзор данных"
   ]
  },
  {
   "cell_type": "markdown",
   "id": "f0f538e7",
   "metadata": {},
   "source": [
    "Описание данных\n",
    "* Company - компания производитель\n",
    "* Specific Bean Origin - географический регион происхождения\n",
    "* REF - параметр, определяющий момент внесения записи в базу данных (чем выше значение, тем \"свежее\" запись)\n",
    "* Review - дата публикации отзыва\n",
    "* Cocoa Percent - процентное содержание какао\n",
    "* Company Location - страна производитель\n",
    "* Rating - экспертный рейтинг\n",
    "* Bean Type - используемый сорт какао-бобов, если таковой имеется\n",
    "* Broad Bean Origin - географический регион происхождения какао-бобов"
   ]
  },
  {
   "cell_type": "code",
   "execution_count": 52,
   "id": "457768b3",
   "metadata": {},
   "outputs": [
    {
     "data": {
      "text/html": [
       "<div>\n",
       "<style scoped>\n",
       "    .dataframe tbody tr th:only-of-type {\n",
       "        vertical-align: middle;\n",
       "    }\n",
       "\n",
       "    .dataframe tbody tr th {\n",
       "        vertical-align: top;\n",
       "    }\n",
       "\n",
       "    .dataframe thead th {\n",
       "        text-align: right;\n",
       "    }\n",
       "</style>\n",
       "<table border=\"1\" class=\"dataframe\">\n",
       "  <thead>\n",
       "    <tr style=\"text-align: right;\">\n",
       "      <th></th>\n",
       "      <th>Company</th>\n",
       "      <th>Specific Bean Origin</th>\n",
       "      <th>REF</th>\n",
       "      <th>Review</th>\n",
       "      <th>Cocoa Percent</th>\n",
       "      <th>Company Location</th>\n",
       "      <th>Bean Type</th>\n",
       "      <th>Broad Bean Origin</th>\n",
       "    </tr>\n",
       "  </thead>\n",
       "  <tbody>\n",
       "    <tr>\n",
       "      <th>0</th>\n",
       "      <td>Ohiyo</td>\n",
       "      <td>San Juan Estate, Gran Couva</td>\n",
       "      <td>1594</td>\n",
       "      <td>2015</td>\n",
       "      <td>70%</td>\n",
       "      <td>U.S.A.</td>\n",
       "      <td>Trinitario</td>\n",
       "      <td>Trinidad</td>\n",
       "    </tr>\n",
       "    <tr>\n",
       "      <th>1</th>\n",
       "      <td>Blanxart</td>\n",
       "      <td>Organic Dark</td>\n",
       "      <td>322</td>\n",
       "      <td>2009</td>\n",
       "      <td>72%</td>\n",
       "      <td>Spain</td>\n",
       "      <td>NaN</td>\n",
       "      <td>NaN</td>\n",
       "    </tr>\n",
       "    <tr>\n",
       "      <th>2</th>\n",
       "      <td>Brazen</td>\n",
       "      <td>Maya Mountain</td>\n",
       "      <td>1518</td>\n",
       "      <td>2015</td>\n",
       "      <td>80%</td>\n",
       "      <td>U.S.A.</td>\n",
       "      <td>Trinitario</td>\n",
       "      <td>Belize</td>\n",
       "    </tr>\n",
       "    <tr>\n",
       "      <th>3</th>\n",
       "      <td>Patric</td>\n",
       "      <td>Madagascar</td>\n",
       "      <td>439</td>\n",
       "      <td>2009</td>\n",
       "      <td>67%</td>\n",
       "      <td>U.S.A.</td>\n",
       "      <td>Trinitario</td>\n",
       "      <td>Madagascar</td>\n",
       "    </tr>\n",
       "    <tr>\n",
       "      <th>4</th>\n",
       "      <td>Potomac</td>\n",
       "      <td>Upala, Batch 12</td>\n",
       "      <td>607</td>\n",
       "      <td>2010</td>\n",
       "      <td>82%</td>\n",
       "      <td>U.S.A.</td>\n",
       "      <td>Matina</td>\n",
       "      <td>Costa Rica</td>\n",
       "    </tr>\n",
       "  </tbody>\n",
       "</table>\n",
       "</div>"
      ],
      "text/plain": [
       "    Company         Specific Bean Origin   REF  Review Cocoa Percent  \\\n",
       "0     Ohiyo  San Juan Estate, Gran Couva  1594    2015           70%   \n",
       "1  Blanxart                 Organic Dark   322    2009           72%   \n",
       "2    Brazen                Maya Mountain  1518    2015           80%   \n",
       "3    Patric                   Madagascar   439    2009           67%   \n",
       "4   Potomac              Upala, Batch 12   607    2010           82%   \n",
       "\n",
       "  Company Location   Bean Type Broad Bean Origin  \n",
       "0           U.S.A.  Trinitario          Trinidad  \n",
       "1            Spain         NaN               NaN  \n",
       "2           U.S.A.  Trinitario            Belize  \n",
       "3           U.S.A.  Trinitario        Madagascar  \n",
       "4           U.S.A.      Matina        Costa Rica  "
      ]
     },
     "execution_count": 52,
     "metadata": {},
     "output_type": "execute_result"
    }
   ],
   "source": [
    "test_df.head()"
   ]
  },
  {
   "cell_type": "code",
   "execution_count": 53,
   "id": "3ad39c84",
   "metadata": {},
   "outputs": [
    {
     "data": {
      "text/plain": [
       "Company                 244\n",
       "Specific Bean Origin    385\n",
       "REF                     338\n",
       "Review                   12\n",
       "Cocoa Percent            38\n",
       "Company Location         42\n",
       "Bean Type                19\n",
       "Broad Bean Origin        59\n",
       "dtype: int64"
      ]
     },
     "execution_count": 53,
     "metadata": {},
     "output_type": "execute_result"
    }
   ],
   "source": [
    "test_df.nunique()"
   ]
  },
  {
   "cell_type": "code",
   "execution_count": 54,
   "id": "1bf1bfd9",
   "metadata": {},
   "outputs": [
    {
     "data": {
      "text/plain": [
       "Company                 244\n",
       "Specific Bean Origin    385\n",
       "REF                     338\n",
       "Review                   12\n",
       "Cocoa Percent            38\n",
       "Company Location         42\n",
       "Bean Type                19\n",
       "Broad Bean Origin        59\n",
       "dtype: int64"
      ]
     },
     "execution_count": 54,
     "metadata": {},
     "output_type": "execute_result"
    }
   ],
   "source": [
    "test_df.nunique()"
   ]
  },
  {
   "cell_type": "code",
   "execution_count": 55,
   "id": "fc839a72",
   "metadata": {},
   "outputs": [],
   "source": [
    "# Словарь маппинга для разновидностей какао сорта\n",
    "cacao_map = {\n",
    "'Criollo': ['Criollo', 'Criollo (Porcelana)', 'Criollo (Amarru)', 'Criollo (Ocumare 77)', 'Criollo (Ocumare 67)',\n",
    "'Criollo (Ocumare 61)', 'Criollo (Ocumare)', 'Criollo (Wild)', 'Criollo, +'],\n",
    "'Trinitario': ['Trinitario', 'Trinitario (Amelonado)', 'Trinitario, TCGA', 'Trinitario (85% Criollo)'],\n",
    "'Forastero': ['Forastero', 'Forastero (Arriba)', 'Forastero (Arriba) ASS', 'Forastero (Arriba) ASSS',\n",
    "'Forastero (Nacional)', 'Forastero (Parazinho)', 'Forastero (Catongo)', 'Forastero (Amelonado)'],\n",
    "'Nacional': ['Nacional', 'Nacional (Arriba)'],\n",
    "'Amazonian': ['Amazon', 'Amazon mix', 'Amazon, ICS'],\n",
    "'Blend': ['Criollo, Trinitario', 'Trinitario, Criollo', 'Trinitario, Forastero', 'Forastero, Trinitario',\n",
    "'Trinitario, Nacional', 'Criollo, Forastero', 'Blend-Forastero,Criollo', 'Blend']\n",
    "}\n",
    "\n",
    "# Функция для маппинга типов какао\n",
    "def map_cacao_type(value):\n",
    "    for category, variants in cacao_map.items():\n",
    "        if value in variants:\n",
    "            return category\n",
    "    return value"
   ]
  },
  {
   "cell_type": "code",
   "execution_count": 56,
   "id": "052e5ec6",
   "metadata": {},
   "outputs": [],
   "source": [
    "train_df['Bean Type'] = train_df['Bean Type'].apply(map_cacao_type)\n",
    "test_df['Bean Type'] = test_df['Bean Type'].apply(map_cacao_type)"
   ]
  },
  {
   "cell_type": "code",
   "execution_count": 57,
   "id": "7d22fa0e",
   "metadata": {},
   "outputs": [],
   "source": [
    "# Словарь соответствий (дочерние -> основное). Названия регионов\n",
    "region_mapping = {\n",
    "    'Venezuela': ['Ven.', 'Ven', 'Venez', 'Venezuela/ Ghana', ],\n",
    "    'Dominican Republic': ['Domincan Republic', 'Dom. Rep', 'D.R.', 'Domin. Rep', 'Dom. Rep.', 'Dominican Rep.', 'DR'],\n",
    "    'Costa Rica': ['Cost Rica'],\n",
    "    'Ecuador': ['Ecuad.', 'Ecu.'],\n",
    "    'Nicaragua': ['Nic.'],\n",
    "    'Madagascar': ['Mad.', 'Mad'],\n",
    "    'Brazil': ['Brasil'],\n",
    "    'Mexico': ['Mex'],\n",
    "    'Guatemala': ['Guat.'],\n",
    "    'Sao Tome & Principe': ['Sao Tome', 'Principe'],\n",
    "    'Papua New Guinea': ['PNG'],\n",
    "    'Carribean': ['Carribean(DR/Jam/Tri)'],\n",
    "    'Indonesia': ['Java', 'Bali'],\n",
    "    'West Africa': ['Africa'],\n",
    "    'Trinidad': ['Trinidad-Tobago', 'Trinidad']\n",
    "}\n",
    "\n",
    "# Функция для замены названий\n",
    "def standardize_region(region):\n",
    "    for main_region, aliases in region_mapping.items():\n",
    "        if region in aliases:\n",
    "            return main_region\n",
    "    return region # Если нет в словаре, оставить как есть\n"
   ]
  },
  {
   "cell_type": "code",
   "execution_count": 58,
   "id": "6200fab2",
   "metadata": {},
   "outputs": [],
   "source": [
    "train_df['Broad Bean Origin'] = train_df['Broad Bean Origin'].apply(standardize_region)\n",
    "test_df['Broad Bean Origin'] = test_df['Broad Bean Origin'].apply(standardize_region)"
   ]
  },
  {
   "cell_type": "code",
   "execution_count": 59,
   "id": "27d0c9e7",
   "metadata": {},
   "outputs": [],
   "source": [
    "df_concat = pd.concat([train_df, test_df], axis=0)"
   ]
  },
  {
   "cell_type": "code",
   "execution_count": 60,
   "id": "43d2ff42",
   "metadata": {},
   "outputs": [],
   "source": [
    "cols_temp = ['Company', 'Specific Bean Origin',\n",
    "       'Company Location', 'Bean Type', 'Broad Bean Origin']"
   ]
  },
  {
   "cell_type": "code",
   "execution_count": 61,
   "id": "437e3db0",
   "metadata": {},
   "outputs": [
    {
     "data": {
      "text/plain": [
       "['Company',\n",
       " 'Specific Bean Origin',\n",
       " 'Company Location',\n",
       " 'Bean Type',\n",
       " 'Broad Bean Origin']"
      ]
     },
     "execution_count": 61,
     "metadata": {},
     "output_type": "execute_result"
    }
   ],
   "source": [
    "cols_temp"
   ]
  },
  {
   "cell_type": "code",
   "execution_count": 62,
   "id": "6ec69492",
   "metadata": {},
   "outputs": [
    {
     "data": {
      "text/html": [
       "<div>\n",
       "<style scoped>\n",
       "    .dataframe tbody tr th:only-of-type {\n",
       "        vertical-align: middle;\n",
       "    }\n",
       "\n",
       "    .dataframe tbody tr th {\n",
       "        vertical-align: top;\n",
       "    }\n",
       "\n",
       "    .dataframe thead th {\n",
       "        text-align: right;\n",
       "    }\n",
       "</style>\n",
       "<table border=\"1\" class=\"dataframe\">\n",
       "  <thead>\n",
       "    <tr style=\"text-align: right;\">\n",
       "      <th></th>\n",
       "      <th>Company</th>\n",
       "      <th>Specific Bean Origin</th>\n",
       "      <th>REF</th>\n",
       "      <th>Review</th>\n",
       "      <th>Cocoa Percent</th>\n",
       "      <th>Company Location</th>\n",
       "      <th>Rating</th>\n",
       "      <th>Bean Type</th>\n",
       "      <th>Broad Bean Origin</th>\n",
       "    </tr>\n",
       "  </thead>\n",
       "  <tbody>\n",
       "    <tr>\n",
       "      <th>0</th>\n",
       "      <td>Willie's Cacao</td>\n",
       "      <td>Rio Caribe</td>\n",
       "      <td>457</td>\n",
       "      <td>2009</td>\n",
       "      <td>72%</td>\n",
       "      <td>U.K.</td>\n",
       "      <td>3.25</td>\n",
       "      <td>Trinitario</td>\n",
       "      <td>Venezuela</td>\n",
       "    </tr>\n",
       "    <tr>\n",
       "      <th>1</th>\n",
       "      <td>Beschle (Felchlin)</td>\n",
       "      <td>Ocumare, Premier Cru, Quizas No. 2</td>\n",
       "      <td>508</td>\n",
       "      <td>2010</td>\n",
       "      <td>72%</td>\n",
       "      <td>Switzerland</td>\n",
       "      <td>3.50</td>\n",
       "      <td>NaN</td>\n",
       "      <td>Venezuela</td>\n",
       "    </tr>\n",
       "    <tr>\n",
       "      <th>2</th>\n",
       "      <td>Dark Forest</td>\n",
       "      <td>Tanzania</td>\n",
       "      <td>1554</td>\n",
       "      <td>2015</td>\n",
       "      <td>70%</td>\n",
       "      <td>U.S.A.</td>\n",
       "      <td>3.00</td>\n",
       "      <td>NaN</td>\n",
       "      <td>Tanzania</td>\n",
       "    </tr>\n",
       "    <tr>\n",
       "      <th>3</th>\n",
       "      <td>Brasstown aka It's Chocolate</td>\n",
       "      <td>Cooproagro</td>\n",
       "      <td>1125</td>\n",
       "      <td>2013</td>\n",
       "      <td>72%</td>\n",
       "      <td>U.S.A.</td>\n",
       "      <td>3.00</td>\n",
       "      <td>Trinitario</td>\n",
       "      <td>Dominican Republic</td>\n",
       "    </tr>\n",
       "    <tr>\n",
       "      <th>4</th>\n",
       "      <td>Pralus</td>\n",
       "      <td>Java, Indonesie</td>\n",
       "      <td>32</td>\n",
       "      <td>2006</td>\n",
       "      <td>75%</td>\n",
       "      <td>France</td>\n",
       "      <td>3.50</td>\n",
       "      <td>Criollo</td>\n",
       "      <td>Indonesia</td>\n",
       "    </tr>\n",
       "    <tr>\n",
       "      <th>...</th>\n",
       "      <td>...</td>\n",
       "      <td>...</td>\n",
       "      <td>...</td>\n",
       "      <td>...</td>\n",
       "      <td>...</td>\n",
       "      <td>...</td>\n",
       "      <td>...</td>\n",
       "      <td>...</td>\n",
       "      <td>...</td>\n",
       "    </tr>\n",
       "    <tr>\n",
       "      <th>535</th>\n",
       "      <td>Monsieur Truffe</td>\n",
       "      <td>Papaua New Guinea</td>\n",
       "      <td>1391</td>\n",
       "      <td>2014</td>\n",
       "      <td>70%</td>\n",
       "      <td>Australia</td>\n",
       "      <td>NaN</td>\n",
       "      <td>NaN</td>\n",
       "      <td>Papua New Guinea</td>\n",
       "    </tr>\n",
       "    <tr>\n",
       "      <th>536</th>\n",
       "      <td>Cacao Hunters</td>\n",
       "      <td>Macondo</td>\n",
       "      <td>1816</td>\n",
       "      <td>2016</td>\n",
       "      <td>71%</td>\n",
       "      <td>Colombia</td>\n",
       "      <td>NaN</td>\n",
       "      <td>NaN</td>\n",
       "      <td>Colombia</td>\n",
       "    </tr>\n",
       "    <tr>\n",
       "      <th>537</th>\n",
       "      <td>Bonnat</td>\n",
       "      <td>Maragnam</td>\n",
       "      <td>1038</td>\n",
       "      <td>2013</td>\n",
       "      <td>75%</td>\n",
       "      <td>France</td>\n",
       "      <td>NaN</td>\n",
       "      <td>NaN</td>\n",
       "      <td>Brazil</td>\n",
       "    </tr>\n",
       "    <tr>\n",
       "      <th>538</th>\n",
       "      <td>Altus aka Cao Artisan</td>\n",
       "      <td>Acopagro</td>\n",
       "      <td>1728</td>\n",
       "      <td>2016</td>\n",
       "      <td>60%</td>\n",
       "      <td>U.S.A.</td>\n",
       "      <td>NaN</td>\n",
       "      <td>NaN</td>\n",
       "      <td>Peru</td>\n",
       "    </tr>\n",
       "    <tr>\n",
       "      <th>539</th>\n",
       "      <td>Holy Cacao</td>\n",
       "      <td>San Martin</td>\n",
       "      <td>431</td>\n",
       "      <td>2009</td>\n",
       "      <td>70%</td>\n",
       "      <td>Israel</td>\n",
       "      <td>NaN</td>\n",
       "      <td>NaN</td>\n",
       "      <td>Peru</td>\n",
       "    </tr>\n",
       "  </tbody>\n",
       "</table>\n",
       "<p>1795 rows × 9 columns</p>\n",
       "</div>"
      ],
      "text/plain": [
       "                          Company                Specific Bean Origin   REF  \\\n",
       "0                  Willie's Cacao                          Rio Caribe   457   \n",
       "1              Beschle (Felchlin)  Ocumare, Premier Cru, Quizas No. 2   508   \n",
       "2                     Dark Forest                            Tanzania  1554   \n",
       "3    Brasstown aka It's Chocolate                          Cooproagro  1125   \n",
       "4                          Pralus                     Java, Indonesie    32   \n",
       "..                            ...                                 ...   ...   \n",
       "535               Monsieur Truffe                   Papaua New Guinea  1391   \n",
       "536                 Cacao Hunters                             Macondo  1816   \n",
       "537                        Bonnat                            Maragnam  1038   \n",
       "538         Altus aka Cao Artisan                            Acopagro  1728   \n",
       "539                    Holy Cacao                          San Martin   431   \n",
       "\n",
       "     Review Cocoa Percent Company Location  Rating   Bean Type  \\\n",
       "0      2009           72%             U.K.    3.25  Trinitario   \n",
       "1      2010           72%      Switzerland    3.50         NaN   \n",
       "2      2015           70%           U.S.A.    3.00         NaN   \n",
       "3      2013           72%           U.S.A.    3.00  Trinitario   \n",
       "4      2006           75%           France    3.50     Criollo   \n",
       "..      ...           ...              ...     ...         ...   \n",
       "535    2014           70%        Australia     NaN         NaN   \n",
       "536    2016           71%         Colombia     NaN         NaN   \n",
       "537    2013           75%           France     NaN         NaN   \n",
       "538    2016           60%           U.S.A.     NaN         NaN   \n",
       "539    2009           70%           Israel     NaN         NaN   \n",
       "\n",
       "      Broad Bean Origin  \n",
       "0             Venezuela  \n",
       "1             Venezuela  \n",
       "2              Tanzania  \n",
       "3    Dominican Republic  \n",
       "4             Indonesia  \n",
       "..                  ...  \n",
       "535    Papua New Guinea  \n",
       "536            Colombia  \n",
       "537              Brazil  \n",
       "538                Peru  \n",
       "539                Peru  \n",
       "\n",
       "[1795 rows x 9 columns]"
      ]
     },
     "execution_count": 62,
     "metadata": {},
     "output_type": "execute_result"
    }
   ],
   "source": [
    "df_concat"
   ]
  },
  {
   "cell_type": "code",
   "execution_count": 63,
   "id": "a0adab1e",
   "metadata": {},
   "outputs": [],
   "source": [
    "from association_metrics import CramersV\n",
    "\n",
    "cramer_df = df_concat[cols_temp]\n",
    "cramer_df = cramer_df.astype('category')\n",
    "\n",
    "cramer = CramersV(cramer_df)\n",
    "cramer = cramer.fit()"
   ]
  },
  {
   "cell_type": "code",
   "execution_count": 64,
   "id": "7c790210",
   "metadata": {},
   "outputs": [
    {
     "data": {
      "image/png": "[encoded data removed]",
      "text/plain": [
       "<Figure size 640x480 with 2 Axes>"
      ]
     },
     "metadata": {},
     "output_type": "display_data"
    }
   ],
   "source": [
    "import seaborn as sns\n",
    "\n",
    "sns.heatmap(cramer, cmap='Blues', annot=True);"
   ]
  },
  {
   "cell_type": "code",
   "execution_count": 65,
   "id": "f15dca69",
   "metadata": {},
   "outputs": [],
   "source": [
    "def select_top3_corr_cols(col_in):\n",
    "    select_df = cramer[col_in].sort_values(ascending=False)\n",
    "    return select_df[1:].index.to_list()"
   ]
  },
  {
   "cell_type": "code",
   "execution_count": 66,
   "id": "67babfe8",
   "metadata": {},
   "outputs": [],
   "source": [
    "def get_temp_df(col_in, col_on):\n",
    "    temp_df = df_concat.groupby(col_on)[col_in] \\\n",
    "                        .agg(lambda x: np.random.choice(x.mode()) if len(x.mode()) > 0 else np.NaN) \\\n",
    "                        .dropna().reset_index()\n",
    "    return temp_df"
   ]
  },
  {
   "cell_type": "code",
   "execution_count": 67,
   "id": "42faa541",
   "metadata": {},
   "outputs": [],
   "source": [
    "def fill_rows(row, col_on, temp_df):\n",
    "    for variants, category in temp_df.values:\n",
    "        if row[col_on] == variants:\n",
    "            return category\n",
    "    return np.NaN"
   ]
  },
  {
   "cell_type": "code",
   "execution_count": 68,
   "id": "376f081f",
   "metadata": {},
   "outputs": [
    {
     "data": {
      "text/plain": [
       "Company                   0\n",
       "Specific Bean Origin      0\n",
       "REF                       0\n",
       "Review                    0\n",
       "Cocoa Percent             0\n",
       "Company Location          0\n",
       "Rating                    0\n",
       "Bean Type               629\n",
       "Broad Bean Origin        56\n",
       "dtype: int64"
      ]
     },
     "execution_count": 68,
     "metadata": {},
     "output_type": "execute_result"
    }
   ],
   "source": [
    "train_df.isna().sum()"
   ]
  },
  {
   "cell_type": "code",
   "execution_count": 69,
   "id": "eb1f75f2",
   "metadata": {},
   "outputs": [],
   "source": [
    "def prepared_df(df, col_in):\n",
    "    selected_cols = select_top3_corr_cols(col_in)\n",
    "    print(selected_cols)\n",
    "    for col_on in selected_cols:\n",
    "        temp_df = get_temp_df(col_in, col_on)\n",
    "        df[col_in] = df.apply(lambda row: fill_rows(row, col_on, temp_df) if row[col_in] is np.NaN else row[col_in], axis=1)\n",
    "        df[col_in] = df[col_in].fillna('Other')"
   ]
  },
  {
   "cell_type": "code",
   "execution_count": 70,
   "id": "3eab375c",
   "metadata": {},
   "outputs": [
    {
     "name": "stdout",
     "output_type": "stream",
     "text": [
      "['Specific Bean Origin', 'Company', 'Broad Bean Origin', 'Company Location']\n",
      "['Specific Bean Origin', 'Company', 'Bean Type', 'Company Location']\n",
      "['Specific Bean Origin', 'Company', 'Broad Bean Origin', 'Company Location']\n",
      "['Specific Bean Origin', 'Company', 'Bean Type', 'Company Location']\n"
     ]
    }
   ],
   "source": [
    "cols_in = ['Bean Type', 'Broad Bean Origin']\n",
    "\n",
    "for col_in in cols_in:\n",
    "    prepared_df(train_df, col_in)\n",
    "\n",
    "for col_in in cols_in:\n",
    "    prepared_df(test_df, col_in)"
   ]
  },
  {
   "cell_type": "code",
   "execution_count": 71,
   "id": "b6fb1811",
   "metadata": {},
   "outputs": [
    {
     "data": {
      "text/plain": [
       "Company                 0\n",
       "Specific Bean Origin    0\n",
       "REF                     0\n",
       "Review                  0\n",
       "Cocoa Percent           0\n",
       "Company Location        0\n",
       "Rating                  0\n",
       "Bean Type               0\n",
       "Broad Bean Origin       0\n",
       "dtype: int64"
      ]
     },
     "execution_count": 71,
     "metadata": {},
     "output_type": "execute_result"
    }
   ],
   "source": [
    "train_df.isna().sum()"
   ]
  },
  {
   "cell_type": "code",
   "execution_count": 72,
   "id": "c57738e2",
   "metadata": {},
   "outputs": [],
   "source": [
    "train_df = train_df.replace('\\xa0', np.NaN)\n",
    "train_df['Cocoa Percent'] = train_df['Cocoa Percent'].str.rstrip('%').astype(np.float16)\n",
    "train_df['Review'] = train_df['Review'].astype('object')\n",
    "\n",
    "test_df = test_df.replace('\\xa0', np.NaN)\n",
    "test_df['Cocoa Percent'] = test_df['Cocoa Percent'].str.rstrip('%').astype(np.float16)\n",
    "test_df['Review'] = test_df['Review'].astype('object')"
   ]
  },
  {
   "cell_type": "code",
   "execution_count": 73,
   "id": "9bfa9599",
   "metadata": {},
   "outputs": [
    {
     "data": {
      "text/html": [
       "<div>\n",
       "<style scoped>\n",
       "    .dataframe tbody tr th:only-of-type {\n",
       "        vertical-align: middle;\n",
       "    }\n",
       "\n",
       "    .dataframe tbody tr th {\n",
       "        vertical-align: top;\n",
       "    }\n",
       "\n",
       "    .dataframe thead th {\n",
       "        text-align: right;\n",
       "    }\n",
       "</style>\n",
       "<table border=\"1\" class=\"dataframe\">\n",
       "  <thead>\n",
       "    <tr style=\"text-align: right;\">\n",
       "      <th></th>\n",
       "      <th>Company</th>\n",
       "      <th>Specific Bean Origin</th>\n",
       "      <th>REF</th>\n",
       "      <th>Review</th>\n",
       "      <th>Cocoa Percent</th>\n",
       "      <th>Company Location</th>\n",
       "      <th>Rating</th>\n",
       "      <th>Bean Type</th>\n",
       "      <th>Broad Bean Origin</th>\n",
       "    </tr>\n",
       "  </thead>\n",
       "  <tbody>\n",
       "    <tr>\n",
       "      <th>0</th>\n",
       "      <td>Willie's Cacao</td>\n",
       "      <td>Rio Caribe</td>\n",
       "      <td>457</td>\n",
       "      <td>2009</td>\n",
       "      <td>72.0</td>\n",
       "      <td>U.K.</td>\n",
       "      <td>3.25</td>\n",
       "      <td>Trinitario</td>\n",
       "      <td>Venezuela</td>\n",
       "    </tr>\n",
       "    <tr>\n",
       "      <th>1</th>\n",
       "      <td>Beschle (Felchlin)</td>\n",
       "      <td>Ocumare, Premier Cru, Quizas No. 2</td>\n",
       "      <td>508</td>\n",
       "      <td>2010</td>\n",
       "      <td>72.0</td>\n",
       "      <td>Switzerland</td>\n",
       "      <td>3.50</td>\n",
       "      <td>Other</td>\n",
       "      <td>Venezuela</td>\n",
       "    </tr>\n",
       "    <tr>\n",
       "      <th>2</th>\n",
       "      <td>Dark Forest</td>\n",
       "      <td>Tanzania</td>\n",
       "      <td>1554</td>\n",
       "      <td>2015</td>\n",
       "      <td>70.0</td>\n",
       "      <td>U.S.A.</td>\n",
       "      <td>3.00</td>\n",
       "      <td>Criollo</td>\n",
       "      <td>Tanzania</td>\n",
       "    </tr>\n",
       "    <tr>\n",
       "      <th>3</th>\n",
       "      <td>Brasstown aka It's Chocolate</td>\n",
       "      <td>Cooproagro</td>\n",
       "      <td>1125</td>\n",
       "      <td>2013</td>\n",
       "      <td>72.0</td>\n",
       "      <td>U.S.A.</td>\n",
       "      <td>3.00</td>\n",
       "      <td>Trinitario</td>\n",
       "      <td>Dominican Republic</td>\n",
       "    </tr>\n",
       "    <tr>\n",
       "      <th>4</th>\n",
       "      <td>Pralus</td>\n",
       "      <td>Java, Indonesie</td>\n",
       "      <td>32</td>\n",
       "      <td>2006</td>\n",
       "      <td>75.0</td>\n",
       "      <td>France</td>\n",
       "      <td>3.50</td>\n",
       "      <td>Criollo</td>\n",
       "      <td>Indonesia</td>\n",
       "    </tr>\n",
       "  </tbody>\n",
       "</table>\n",
       "</div>"
      ],
      "text/plain": [
       "                        Company                Specific Bean Origin   REF  \\\n",
       "0                Willie's Cacao                          Rio Caribe   457   \n",
       "1            Beschle (Felchlin)  Ocumare, Premier Cru, Quizas No. 2   508   \n",
       "2                   Dark Forest                            Tanzania  1554   \n",
       "3  Brasstown aka It's Chocolate                          Cooproagro  1125   \n",
       "4                        Pralus                     Java, Indonesie    32   \n",
       "\n",
       "  Review  Cocoa Percent Company Location  Rating   Bean Type  \\\n",
       "0   2009           72.0             U.K.    3.25  Trinitario   \n",
       "1   2010           72.0      Switzerland    3.50       Other   \n",
       "2   2015           70.0           U.S.A.    3.00     Criollo   \n",
       "3   2013           72.0           U.S.A.    3.00  Trinitario   \n",
       "4   2006           75.0           France    3.50     Criollo   \n",
       "\n",
       "    Broad Bean Origin  \n",
       "0           Venezuela  \n",
       "1           Venezuela  \n",
       "2            Tanzania  \n",
       "3  Dominican Republic  \n",
       "4           Indonesia  "
      ]
     },
     "execution_count": 73,
     "metadata": {},
     "output_type": "execute_result"
    }
   ],
   "source": [
    "train_df.head()"
   ]
  },
  {
   "cell_type": "code",
   "execution_count": 74,
   "id": "9cb75d0f",
   "metadata": {},
   "outputs": [
    {
     "data": {
      "text/plain": [
       "Company                  object\n",
       "Specific Bean Origin     object\n",
       "REF                       int64\n",
       "Review                   object\n",
       "Cocoa Percent           float16\n",
       "Company Location         object\n",
       "Rating                  float64\n",
       "Bean Type                object\n",
       "Broad Bean Origin        object\n",
       "dtype: object"
      ]
     },
     "execution_count": 74,
     "metadata": {},
     "output_type": "execute_result"
    }
   ],
   "source": [
    "train_df.dtypes"
   ]
  },
  {
   "cell_type": "markdown",
   "id": "69c1840c",
   "metadata": {},
   "source": []
  },
  {
   "cell_type": "code",
   "execution_count": 75,
   "id": "e7b26459",
   "metadata": {},
   "outputs": [],
   "source": [
    "['Company', 'Specific Bean Origin', 'REF', 'Review', 'Cocoa Percent',\n",
    "'Company Location', 'Bean Type', 'Broad Bean Origin']\n",
    "\n",
    "cols = ['Company', 'Specific Bean Origin', 'REF', 'Review', 'Cocoa Percent',\n",
    "'Company Location', 'Bean Type', 'Broad Bean Origin']"
   ]
  },
  {
   "cell_type": "code",
   "execution_count": 76,
   "id": "b29f2f1a",
   "metadata": {},
   "outputs": [],
   "source": [
    "X = train_df[cols]\n",
    "target = train_df['Rating']\n",
    "test = test_df[cols]"
   ]
  },
  {
   "cell_type": "code",
   "execution_count": 77,
   "id": "71a945aa",
   "metadata": {},
   "outputs": [],
   "source": [
    "mm_scaler = MinMaxScaler()\n",
    "scaler = StandardScaler()\n",
    "\n",
    "X['REF'] = mm_scaler.fit_transform(X[['REF']])  \n",
    "test['REF'] = mm_scaler.transform(test[['REF']])"
   ]
  },
  {
   "cell_type": "code",
   "execution_count": 78,
   "id": "e69b1ea4",
   "metadata": {},
   "outputs": [],
   "source": [
    "mm_scaler = MinMaxScaler()\n",
    "\n",
    "X['Cocoa Percent'] = mm_scaler.fit_transform(X[['Cocoa Percent']])  \n",
    "test['Cocoa Percent'] = mm_scaler.transform(test[['Cocoa Percent']])"
   ]
  },
  {
   "cell_type": "code",
   "execution_count": 80,
   "id": "423a655a",
   "metadata": {},
   "outputs": [
    {
     "data": {
      "text/html": [
       "<div>\n",
       "<style scoped>\n",
       "    .dataframe tbody tr th:only-of-type {\n",
       "        vertical-align: middle;\n",
       "    }\n",
       "\n",
       "    .dataframe tbody tr th {\n",
       "        vertical-align: top;\n",
       "    }\n",
       "\n",
       "    .dataframe thead th {\n",
       "        text-align: right;\n",
       "    }\n",
       "</style>\n",
       "<table border=\"1\" class=\"dataframe\">\n",
       "  <thead>\n",
       "    <tr style=\"text-align: right;\">\n",
       "      <th></th>\n",
       "      <th>Company</th>\n",
       "      <th>Specific Bean Origin</th>\n",
       "      <th>REF</th>\n",
       "      <th>Review</th>\n",
       "      <th>Cocoa Percent</th>\n",
       "      <th>Company Location</th>\n",
       "      <th>Bean Type</th>\n",
       "      <th>Broad Bean Origin</th>\n",
       "    </tr>\n",
       "  </thead>\n",
       "  <tbody>\n",
       "    <tr>\n",
       "      <th>0</th>\n",
       "      <td>Willie's Cacao</td>\n",
       "      <td>Rio Caribe</td>\n",
       "      <td>0.232152</td>\n",
       "      <td>2009</td>\n",
       "      <td>0.481934</td>\n",
       "      <td>U.K.</td>\n",
       "      <td>Trinitario</td>\n",
       "      <td>Venezuela</td>\n",
       "    </tr>\n",
       "    <tr>\n",
       "      <th>1</th>\n",
       "      <td>Beschle (Felchlin)</td>\n",
       "      <td>Ocumare, Premier Cru, Quizas No. 2</td>\n",
       "      <td>0.258346</td>\n",
       "      <td>2010</td>\n",
       "      <td>0.481934</td>\n",
       "      <td>Switzerland</td>\n",
       "      <td>Other</td>\n",
       "      <td>Venezuela</td>\n",
       "    </tr>\n",
       "    <tr>\n",
       "      <th>2</th>\n",
       "      <td>Dark Forest</td>\n",
       "      <td>Tanzania</td>\n",
       "      <td>0.795583</td>\n",
       "      <td>2015</td>\n",
       "      <td>0.444824</td>\n",
       "      <td>U.S.A.</td>\n",
       "      <td>Criollo</td>\n",
       "      <td>Tanzania</td>\n",
       "    </tr>\n",
       "    <tr>\n",
       "      <th>3</th>\n",
       "      <td>Brasstown aka It's Chocolate</td>\n",
       "      <td>Cooproagro</td>\n",
       "      <td>0.575244</td>\n",
       "      <td>2013</td>\n",
       "      <td>0.481934</td>\n",
       "      <td>U.S.A.</td>\n",
       "      <td>Trinitario</td>\n",
       "      <td>Dominican Republic</td>\n",
       "    </tr>\n",
       "    <tr>\n",
       "      <th>4</th>\n",
       "      <td>Pralus</td>\n",
       "      <td>Java, Indonesie</td>\n",
       "      <td>0.013867</td>\n",
       "      <td>2006</td>\n",
       "      <td>0.537598</td>\n",
       "      <td>France</td>\n",
       "      <td>Criollo</td>\n",
       "      <td>Indonesia</td>\n",
       "    </tr>\n",
       "    <tr>\n",
       "      <th>...</th>\n",
       "      <td>...</td>\n",
       "      <td>...</td>\n",
       "      <td>...</td>\n",
       "      <td>...</td>\n",
       "      <td>...</td>\n",
       "      <td>...</td>\n",
       "      <td>...</td>\n",
       "      <td>...</td>\n",
       "    </tr>\n",
       "    <tr>\n",
       "      <th>1250</th>\n",
       "      <td>Artisan du Chocolat</td>\n",
       "      <td>Madagascar</td>\n",
       "      <td>0.183873</td>\n",
       "      <td>2009</td>\n",
       "      <td>0.630371</td>\n",
       "      <td>U.K.</td>\n",
       "      <td>Blend</td>\n",
       "      <td>Madagascar</td>\n",
       "    </tr>\n",
       "    <tr>\n",
       "      <th>1251</th>\n",
       "      <td>Marana</td>\n",
       "      <td>Cusco</td>\n",
       "      <td>0.965074</td>\n",
       "      <td>2016</td>\n",
       "      <td>0.444824</td>\n",
       "      <td>Peru</td>\n",
       "      <td>Other</td>\n",
       "      <td>Peru</td>\n",
       "    </tr>\n",
       "    <tr>\n",
       "      <th>1252</th>\n",
       "      <td>Arete</td>\n",
       "      <td>Nacional</td>\n",
       "      <td>0.785311</td>\n",
       "      <td>2015</td>\n",
       "      <td>0.407715</td>\n",
       "      <td>U.S.A.</td>\n",
       "      <td>Forastero</td>\n",
       "      <td>Peru</td>\n",
       "    </tr>\n",
       "    <tr>\n",
       "      <th>1253</th>\n",
       "      <td>Fresco</td>\n",
       "      <td>Conacado, #212, LR, SC</td>\n",
       "      <td>0.327170</td>\n",
       "      <td>2011</td>\n",
       "      <td>0.481934</td>\n",
       "      <td>U.S.A.</td>\n",
       "      <td>Other</td>\n",
       "      <td>Dominican Republic</td>\n",
       "    </tr>\n",
       "    <tr>\n",
       "      <th>1254</th>\n",
       "      <td>Zak's</td>\n",
       "      <td>Madagascar, Batch 2</td>\n",
       "      <td>0.807910</td>\n",
       "      <td>2015</td>\n",
       "      <td>0.444824</td>\n",
       "      <td>U.S.A.</td>\n",
       "      <td>Trinitario</td>\n",
       "      <td>Madagascar</td>\n",
       "    </tr>\n",
       "  </tbody>\n",
       "</table>\n",
       "<p>1255 rows × 8 columns</p>\n",
       "</div>"
      ],
      "text/plain": [
       "                           Company                Specific Bean Origin  \\\n",
       "0                   Willie's Cacao                          Rio Caribe   \n",
       "1               Beschle (Felchlin)  Ocumare, Premier Cru, Quizas No. 2   \n",
       "2                      Dark Forest                            Tanzania   \n",
       "3     Brasstown aka It's Chocolate                          Cooproagro   \n",
       "4                           Pralus                     Java, Indonesie   \n",
       "...                            ...                                 ...   \n",
       "1250           Artisan du Chocolat                          Madagascar   \n",
       "1251                        Marana                               Cusco   \n",
       "1252                         Arete                            Nacional   \n",
       "1253                        Fresco              Conacado, #212, LR, SC   \n",
       "1254                         Zak's                 Madagascar, Batch 2   \n",
       "\n",
       "           REF Review  Cocoa Percent Company Location   Bean Type  \\\n",
       "0     0.232152   2009       0.481934             U.K.  Trinitario   \n",
       "1     0.258346   2010       0.481934      Switzerland       Other   \n",
       "2     0.795583   2015       0.444824           U.S.A.     Criollo   \n",
       "3     0.575244   2013       0.481934           U.S.A.  Trinitario   \n",
       "4     0.013867   2006       0.537598           France     Criollo   \n",
       "...        ...    ...            ...              ...         ...   \n",
       "1250  0.183873   2009       0.630371             U.K.       Blend   \n",
       "1251  0.965074   2016       0.444824             Peru       Other   \n",
       "1252  0.785311   2015       0.407715           U.S.A.   Forastero   \n",
       "1253  0.327170   2011       0.481934           U.S.A.       Other   \n",
       "1254  0.807910   2015       0.444824           U.S.A.  Trinitario   \n",
       "\n",
       "       Broad Bean Origin  \n",
       "0              Venezuela  \n",
       "1              Venezuela  \n",
       "2               Tanzania  \n",
       "3     Dominican Republic  \n",
       "4              Indonesia  \n",
       "...                  ...  \n",
       "1250          Madagascar  \n",
       "1251                Peru  \n",
       "1252                Peru  \n",
       "1253  Dominican Republic  \n",
       "1254          Madagascar  \n",
       "\n",
       "[1255 rows x 8 columns]"
      ]
     },
     "execution_count": 80,
     "metadata": {},
     "output_type": "execute_result"
    }
   ],
   "source": [
    "X"
   ]
  },
  {
   "cell_type": "code",
   "execution_count": 81,
   "id": "fc32f923",
   "metadata": {},
   "outputs": [
    {
     "data": {
      "text/plain": [
       "Company                  object\n",
       "Specific Bean Origin     object\n",
       "REF                     float64\n",
       "Review                   object\n",
       "Cocoa Percent           float16\n",
       "Company Location         object\n",
       "Bean Type                object\n",
       "Broad Bean Origin        object\n",
       "dtype: object"
      ]
     },
     "execution_count": 81,
     "metadata": {},
     "output_type": "execute_result"
    }
   ],
   "source": [
    "X.dtypes"
   ]
  },
  {
   "cell_type": "code",
   "execution_count": 82,
   "id": "fb39c429",
   "metadata": {},
   "outputs": [],
   "source": [
    "cat_features = [i for i, col in enumerate(X.columns) if X[col].dtype.name in ['category', 'object']]"
   ]
  },
  {
   "cell_type": "markdown",
   "id": "1376ebad",
   "metadata": {},
   "source": [
    "## Обучение и подбор гиперпараметров"
   ]
  },
  {
   "cell_type": "code",
   "execution_count": null,
   "id": "3e083101",
   "metadata": {},
   "outputs": [
    {
     "name": "stderr",
     "output_type": "stream",
     "text": [
      "[I 2025-05-12 16:06:07,513] A new study created in memory with name: no-name-edc7cf6d-d40b-4d0e-a8e0-311a3596f381\n",
      "[I 2025-05-12 16:06:56,981] Trial 4 finished with value: 0.21042435248608293 and parameters: {'learning_rate': 0.006723215442621743, 'n_estimators': 2181, 'l2_leaf_reg': 1.730641407873664, 'random_strength': 7.383666833299624, 'bagging_temperature': 0.44172882541835}. Best is trial 4 with value: 0.21042435248608293.\n",
      "[I 2025-05-12 16:06:57,089] Trial 2 finished with value: 0.1907976438071242 and parameters: {'learning_rate': 0.05538671343475908, 'n_estimators': 2092, 'l2_leaf_reg': 5.033973393737451, 'random_strength': 0.6784760865035755, 'bagging_temperature': 0.0630340236388135}. Best is trial 4 with value: 0.21042435248608293.\n",
      "[I 2025-05-12 16:07:00,557] Trial 3 finished with value: 0.2084430606142875 and parameters: {'learning_rate': 0.01165215763190274, 'n_estimators': 2287, 'l2_leaf_reg': 9.825539823796344, 'random_strength': 6.894027072342125, 'bagging_temperature': 0.03682084162553001}. Best is trial 4 with value: 0.21042435248608293.\n",
      "[I 2025-05-12 16:07:30,126] Trial 12 finished with value: 0.1142144776103563 and parameters: {'learning_rate': 0.0019686395182730563, 'n_estimators': 1815, 'l2_leaf_reg': 6.525693933885423, 'random_strength': 8.250599534177663, 'bagging_temperature': 0.3710823202747392}. Best is trial 4 with value: 0.21042435248608293.\n",
      "[I 2025-05-12 16:07:37,015] Trial 10 finished with value: 0.2021693377788535 and parameters: {'learning_rate': 0.004743486088234365, 'n_estimators': 2121, 'l2_leaf_reg': 1.2524556374131683, 'random_strength': 3.6980944620083656, 'bagging_temperature': 0.43595504712919253}. Best is trial 4 with value: 0.21042435248608293.\n",
      "[I 2025-05-12 16:07:39,864] Trial 0 finished with value: 0.12805996530501107 and parameters: {'learning_rate': 0.15511027086511414, 'n_estimators': 2159, 'l2_leaf_reg': 4.857725672923552, 'random_strength': 8.786633688685722, 'bagging_temperature': 0.5373549312933855}. Best is trial 4 with value: 0.21042435248608293.\n",
      "[I 2025-05-12 16:07:51,743] Trial 6 finished with value: 0.16139606931053896 and parameters: {'learning_rate': 0.07403250184455916, 'n_estimators': 2754, 'l2_leaf_reg': 2.3572046991199134, 'random_strength': 6.926578383827372, 'bagging_temperature': 0.7811777620028966}. Best is trial 4 with value: 0.21042435248608293.\n",
      "[I 2025-05-12 16:08:01,312] Trial 5 finished with value: 0.17038539858086288 and parameters: {'learning_rate': 0.05998623691103938, 'n_estimators': 2509, 'l2_leaf_reg': 2.3889183519357493, 'random_strength': 7.475368693880494, 'bagging_temperature': 0.7852200705547537}. Best is trial 4 with value: 0.21042435248608293.\n",
      "[I 2025-05-12 16:08:08,529] Trial 1 finished with value: 0.16903086278890356 and parameters: {'learning_rate': 0.0025480767160857226, 'n_estimators': 2153, 'l2_leaf_reg': 9.976026896869884, 'random_strength': 2.1916727431169103, 'bagging_temperature': 0.9750351098191967}. Best is trial 4 with value: 0.21042435248608293.\n",
      "[I 2025-05-12 16:08:16,284] Trial 13 finished with value: 0.13073090190089423 and parameters: {'learning_rate': 0.19249376446201624, 'n_estimators': 1904, 'l2_leaf_reg': 9.60323741659637, 'random_strength': 2.721939262219041, 'bagging_temperature': 0.1990559121016393}. Best is trial 4 with value: 0.21042435248608293.\n",
      "[I 2025-05-12 16:08:27,724] Trial 14 finished with value: 0.2056829183257064 and parameters: {'learning_rate': 0.0062267432468727435, 'n_estimators': 2508, 'l2_leaf_reg': 5.064654000835148, 'random_strength': 5.319803514882552, 'bagging_temperature': 0.42854601023525696}. Best is trial 4 with value: 0.21042435248608293.\n",
      "[I 2025-05-12 16:08:31,422] Trial 15 finished with value: 0.1250705268421556 and parameters: {'learning_rate': 0.0017797845497915577, 'n_estimators': 2598, 'l2_leaf_reg': 4.852299684898099, 'random_strength': 9.626463511316492, 'bagging_temperature': 0.30360139789242124}. Best is trial 4 with value: 0.21042435248608293.\n",
      "[I 2025-05-12 16:08:31,700] Trial 11 finished with value: 0.1328436279675974 and parameters: {'learning_rate': 0.13595047442407934, 'n_estimators': 2705, 'l2_leaf_reg': 8.388083239699622, 'random_strength': 4.208191449562545, 'bagging_temperature': 0.441681628529457}. Best is trial 4 with value: 0.21042435248608293.\n",
      "[I 2025-05-12 16:08:37,992] Trial 7 finished with value: 0.17554099769127166 and parameters: {'learning_rate': 0.054415818732569406, 'n_estimators': 2250, 'l2_leaf_reg': 7.099412296810063, 'random_strength': 7.113666611028073, 'bagging_temperature': 0.25026389922433523}. Best is trial 4 with value: 0.21042435248608293.\n",
      "[I 2025-05-12 16:08:41,652] Trial 8 finished with value: 0.205972771465864 and parameters: {'learning_rate': 0.016740008956000595, 'n_estimators': 2490, 'l2_leaf_reg': 7.707074934777132, 'random_strength': 0.9637834089297637, 'bagging_temperature': 0.6920068010022258}. Best is trial 4 with value: 0.21042435248608293.\n",
      "[I 2025-05-12 16:08:57,223] Trial 16 finished with value: 0.14566345822075774 and parameters: {'learning_rate': 0.0022860502644219687, 'n_estimators': 2208, 'l2_leaf_reg': 4.471083586457118, 'random_strength': 5.583443944822055, 'bagging_temperature': 0.5362695821941942}. Best is trial 4 with value: 0.21042435248608293.\n",
      "[I 2025-05-12 16:08:58,645] Trial 9 finished with value: 0.21192589051200064 and parameters: {'learning_rate': 0.01000707102516729, 'n_estimators': 2714, 'l2_leaf_reg': 5.739861075846701, 'random_strength': 5.615656575385208, 'bagging_temperature': 0.9252429980018873}. Best is trial 9 with value: 0.21192589051200064.\n",
      "[I 2025-05-12 16:09:09,353] Trial 17 finished with value: 0.20751629581954736 and parameters: {'learning_rate': 0.009978492023361027, 'n_estimators': 1949, 'l2_leaf_reg': 5.289810262136944, 'random_strength': 6.138121465963604, 'bagging_temperature': 0.11717171137145865}. Best is trial 9 with value: 0.21192589051200064.\n",
      "[I 2025-05-12 16:09:13,774] Trial 18 finished with value: 0.19447654794837585 and parameters: {'learning_rate': 0.050845897441001826, 'n_estimators': 1884, 'l2_leaf_reg': 8.666273084205685, 'random_strength': 1.6895780203882538, 'bagging_temperature': 0.32323288049560783}. Best is trial 9 with value: 0.21192589051200064.\n",
      "[I 2025-05-12 16:09:26,736] Trial 19 finished with value: 0.1738260698509153 and parameters: {'learning_rate': 0.05673366321776713, 'n_estimators': 2045, 'l2_leaf_reg': 3.3490364077978825, 'random_strength': 3.1782800681867096, 'bagging_temperature': 0.3555476999954197}. Best is trial 9 with value: 0.21192589051200064.\n",
      "[I 2025-05-12 16:09:28,621] Trial 20 finished with value: 0.12949012632646437 and parameters: {'learning_rate': 0.0022805012089498152, 'n_estimators': 1965, 'l2_leaf_reg': 7.963441664336152, 'random_strength': 6.795697933177147, 'bagging_temperature': 0.9061473464817276}. Best is trial 9 with value: 0.21192589051200064.\n",
      "[I 2025-05-12 16:09:48,906] Trial 22 finished with value: 0.14951860820505522 and parameters: {'learning_rate': 0.10075588747246068, 'n_estimators': 1820, 'l2_leaf_reg': 7.73065327875135, 'random_strength': 5.190519681069945, 'bagging_temperature': 0.5219495457254458}. Best is trial 9 with value: 0.21192589051200064.\n",
      "[I 2025-05-12 16:09:49,581] Trial 21 finished with value: 0.16237435169433215 and parameters: {'learning_rate': 0.07921033627716004, 'n_estimators': 2401, 'l2_leaf_reg': 3.0154372153152433, 'random_strength': 8.4724150139693, 'bagging_temperature': 0.5603175201820944}. Best is trial 9 with value: 0.21192589051200064.\n",
      "[I 2025-05-12 16:09:58,188] Trial 23 finished with value: 0.15807471440856316 and parameters: {'learning_rate': 0.001308158156757542, 'n_estimators': 2144, 'l2_leaf_reg': 7.2867224456721145, 'random_strength': 0.12683337859608734, 'bagging_temperature': 0.8500790345808565}. Best is trial 9 with value: 0.21192589051200064.\n",
      "[I 2025-05-12 16:10:15,074] Trial 24 finished with value: 0.1871437903571962 and parameters: {'learning_rate': 0.03873381507434012, 'n_estimators': 2558, 'l2_leaf_reg': 2.418909061231406, 'random_strength': 3.9253946137909326, 'bagging_temperature': 0.7961349555281554}. Best is trial 9 with value: 0.21192589051200064.\n",
      "[I 2025-05-12 16:10:19,172] Trial 25 finished with value: 0.20888652699052604 and parameters: {'learning_rate': 0.012913841716639517, 'n_estimators': 2522, 'l2_leaf_reg': 7.425050987402739, 'random_strength': 5.333312783633391, 'bagging_temperature': 0.6302314525241739}. Best is trial 9 with value: 0.21192589051200064.\n",
      "[I 2025-05-12 16:10:27,663] Trial 26 finished with value: 0.20710468469309284 and parameters: {'learning_rate': 0.017907530435805646, 'n_estimators': 2349, 'l2_leaf_reg': 6.943819915203557, 'random_strength': 5.5981960111036795, 'bagging_temperature': 0.002554373817340694}. Best is trial 9 with value: 0.21192589051200064.\n",
      "[I 2025-05-12 16:10:37,674] Trial 27 finished with value: 0.2131009852472672 and parameters: {'learning_rate': 0.013954963678194566, 'n_estimators': 2365, 'l2_leaf_reg': 7.40536318340254, 'random_strength': 5.748356917238872, 'bagging_temperature': 0.0030684964969297512}. Best is trial 27 with value: 0.2131009852472672.\n",
      "[I 2025-05-12 16:10:44,024] Trial 28 finished with value: 0.20634707511110148 and parameters: {'learning_rate': 0.017204938817416495, 'n_estimators': 2334, 'l2_leaf_reg': 6.954253750832254, 'random_strength': 5.6095126086947875, 'bagging_temperature': 0.053178713075003846}. Best is trial 27 with value: 0.2131009852472672.\n",
      "[I 2025-05-12 16:11:11,924] Trial 29 finished with value: 0.20485352852682673 and parameters: {'learning_rate': 0.01716237945911384, 'n_estimators': 2962, 'l2_leaf_reg': 3.3883171245351758, 'random_strength': 5.602371200056754, 'bagging_temperature': 0.022739777757615}. Best is trial 27 with value: 0.2131009852472672.\n",
      "[I 2025-05-12 16:11:13,959] Trial 31 finished with value: 0.20885934438565823 and parameters: {'learning_rate': 0.015134061861714426, 'n_estimators': 2334, 'l2_leaf_reg': 3.4570720300331184, 'random_strength': 6.246649733764242, 'bagging_temperature': 0.0028888564080579715}. Best is trial 27 with value: 0.2131009852472672.\n",
      "[I 2025-05-12 16:11:17,663] Trial 30 finished with value: 0.21289417965430388 and parameters: {'learning_rate': 0.012942664680797644, 'n_estimators': 2983, 'l2_leaf_reg': 3.4551934701439393, 'random_strength': 5.8507533155332805, 'bagging_temperature': 0.013780937488452563}. Best is trial 27 with value: 0.2131009852472672.\n",
      "[I 2025-05-12 16:11:38,975] Trial 32 finished with value: 0.20761290545970046 and parameters: {'learning_rate': 0.013202920294683848, 'n_estimators': 3000, 'l2_leaf_reg': 3.566975905361251, 'random_strength': 5.250318603636742, 'bagging_temperature': 0.6342720275838175}. Best is trial 27 with value: 0.2131009852472672.\n",
      "[I 2025-05-12 16:11:44,645] Trial 33 finished with value: 0.19587822845054148 and parameters: {'learning_rate': 0.02370877957811986, 'n_estimators': 2984, 'l2_leaf_reg': 3.535763767551786, 'random_strength': 4.639546986941672, 'bagging_temperature': 0.9644997414222515}. Best is trial 27 with value: 0.2131009852472672.\n",
      "[I 2025-05-12 16:12:05,009] Trial 34 finished with value: 0.1963516179535202 and parameters: {'learning_rate': 0.021180317358812772, 'n_estimators': 2996, 'l2_leaf_reg': 3.3115775248878148, 'random_strength': 4.285437423149859, 'bagging_temperature': 0.6343166178011116}. Best is trial 27 with value: 0.2131009852472672.\n",
      "[I 2025-05-12 16:12:11,148] Trial 35 finished with value: 0.1980461078794995 and parameters: {'learning_rate': 0.02165528797274694, 'n_estimators': 2968, 'l2_leaf_reg': 3.5179879939518734, 'random_strength': 4.526190980258461, 'bagging_temperature': 0.9948661282700502}. Best is trial 27 with value: 0.2131009852472672.\n",
      "[I 2025-05-12 16:12:15,357] Trial 36 finished with value: 0.19295931771660332 and parameters: {'learning_rate': 0.0229212918052391, 'n_estimators': 2954, 'l2_leaf_reg': 6.585082707310403, 'random_strength': 4.594694842863612, 'bagging_temperature': 0.6195992409134956}. Best is trial 27 with value: 0.2131009852472672.\n",
      "[I 2025-05-12 16:12:36,744] Trial 38 finished with value: 0.20420388579949011 and parameters: {'learning_rate': 0.022146503812755052, 'n_estimators': 2867, 'l2_leaf_reg': 6.248111850962593, 'random_strength': 6.169410272565474, 'bagging_temperature': 0.0007023122762657152}. Best is trial 27 with value: 0.2131009852472672.\n",
      "[I 2025-05-12 16:12:37,357] Trial 37 finished with value: 0.2023675301217184 and parameters: {'learning_rate': 0.02115313685604984, 'n_estimators': 2986, 'l2_leaf_reg': 6.210816715140889, 'random_strength': 8.126157997199938, 'bagging_temperature': 0.009471950354605355}. Best is trial 27 with value: 0.2131009852472672.\n",
      "[I 2025-05-12 16:12:56,257] Trial 40 finished with value: 0.2060055365279189 and parameters: {'learning_rate': 0.02271053964274076, 'n_estimators': 2360, 'l2_leaf_reg': 6.176108165257672, 'random_strength': 6.24856627605314, 'bagging_temperature': 0.6441250250729897}. Best is trial 27 with value: 0.2131009852472672.\n",
      "[I 2025-05-12 16:13:01,882] Trial 39 finished with value: 0.20735542215556832 and parameters: {'learning_rate': 0.022802264127331835, 'n_estimators': 2976, 'l2_leaf_reg': 6.552842972644681, 'random_strength': 4.575440834886773, 'bagging_temperature': 0.6281647841371705}. Best is trial 27 with value: 0.2131009852472672.\n",
      "[I 2025-05-12 16:13:17,448] Trial 41 finished with value: 0.20614388665693625 and parameters: {'learning_rate': 0.01924040855231928, 'n_estimators': 2999, 'l2_leaf_reg': 6.1190310992725205, 'random_strength': 6.203120649656127, 'bagging_temperature': 0.6407860296835176}. Best is trial 27 with value: 0.2131009852472672.\n",
      "[I 2025-05-12 16:13:29,410] Trial 42 finished with value: 0.1920151956039009 and parameters: {'learning_rate': 0.02499702355498432, 'n_estimators': 2918, 'l2_leaf_reg': 6.304516270141243, 'random_strength': 6.183731574464751, 'bagging_temperature': 0.6435392948244806}. Best is trial 27 with value: 0.2131009852472672.\n",
      "[I 2025-05-12 16:13:39,572] Trial 43 finished with value: 0.20396226426717715 and parameters: {'learning_rate': 0.022554967999716045, 'n_estimators': 2958, 'l2_leaf_reg': 6.531517002690432, 'random_strength': 4.509263069510251, 'bagging_temperature': 0.6512042531079986}. Best is trial 27 with value: 0.2131009852472672.\n",
      "[I 2025-05-12 16:13:47,902] Trial 44 finished with value: 0.19305353091869368 and parameters: {'learning_rate': 0.028813535077898977, 'n_estimators': 2980, 'l2_leaf_reg': 6.13234791352414, 'random_strength': 4.537348687716584, 'bagging_temperature': 0.673042644344712}. Best is trial 27 with value: 0.2131009852472672.\n",
      "[I 2025-05-12 16:13:58,325] Trial 45 finished with value: 0.19150265285997256 and parameters: {'learning_rate': 0.02899634273185294, 'n_estimators': 2943, 'l2_leaf_reg': 6.063573880426336, 'random_strength': 4.456803503834777, 'bagging_temperature': 0.15741509321903374}. Best is trial 27 with value: 0.2131009852472672.\n",
      "[I 2025-05-12 16:14:13,456] Trial 46 finished with value: 0.20421108340575178 and parameters: {'learning_rate': 0.006328955297474595, 'n_estimators': 2786, 'l2_leaf_reg': 6.211699569115941, 'random_strength': 4.654748577667196, 'bagging_temperature': 0.6270874243214634}. Best is trial 27 with value: 0.2131009852472672.\n",
      "[I 2025-05-12 16:14:20,639] Trial 47 finished with value: 0.18473721803405677 and parameters: {'learning_rate': 0.030222063138896662, 'n_estimators': 2977, 'l2_leaf_reg': 5.94679509442586, 'random_strength': 4.593167101348353, 'bagging_temperature': 0.14965742800204684}. Best is trial 27 with value: 0.2131009852472672.\n",
      "[I 2025-05-12 16:14:39,495] Trial 48 finished with value: 0.20372167134753327 and parameters: {'learning_rate': 0.007066477598540356, 'n_estimators': 2937, 'l2_leaf_reg': 6.042645173895135, 'random_strength': 4.5929288624784155, 'bagging_temperature': 0.13669512764698816}. Best is trial 27 with value: 0.2131009852472672.\n",
      "[I 2025-05-12 16:14:46,506] Trial 49 finished with value: 0.20667542569988195 and parameters: {'learning_rate': 0.0073266565517177695, 'n_estimators': 2904, 'l2_leaf_reg': 5.906347824800458, 'random_strength': 7.7702295265252435, 'bagging_temperature': 0.14374954526073158}. Best is trial 27 with value: 0.2131009852472672.\n",
      "[I 2025-05-12 16:14:54,184] Trial 50 finished with value: 0.20493851999347282 and parameters: {'learning_rate': 0.006428641444972634, 'n_estimators': 2850, 'l2_leaf_reg': 6.036622705426601, 'random_strength': 7.665699072316729, 'bagging_temperature': 0.16317957823754484}. Best is trial 27 with value: 0.2131009852472672.\n",
      "[I 2025-05-12 16:15:04,966] Trial 51 finished with value: 0.20549165703573202 and parameters: {'learning_rate': 0.006455824467190606, 'n_estimators': 2838, 'l2_leaf_reg': 5.912916230710597, 'random_strength': 7.635800724650255, 'bagging_temperature': 0.1524123264123384}. Best is trial 27 with value: 0.2131009852472672.\n",
      "[I 2025-05-12 16:15:16,792] Trial 52 finished with value: 0.20352183866464302 and parameters: {'learning_rate': 0.0056779167995624985, 'n_estimators': 2861, 'l2_leaf_reg': 6.032018667126819, 'random_strength': 7.508527394271658, 'bagging_temperature': 0.1146710701603808}. Best is trial 27 with value: 0.2131009852472672.\n",
      "[I 2025-05-12 16:15:33,953] Trial 53 finished with value: 0.21628259354931334 and parameters: {'learning_rate': 0.006014423595799792, 'n_estimators': 2773, 'l2_leaf_reg': 1.1171964707600233, 'random_strength': 7.62808836239292, 'bagging_temperature': 0.12972175056850233}. Best is trial 53 with value: 0.21628259354931334.\n",
      "[I 2025-05-12 16:15:36,360] Trial 54 finished with value: 0.20678314679466792 and parameters: {'learning_rate': 0.00805786744160363, 'n_estimators': 2716, 'l2_leaf_reg': 4.226283230298974, 'random_strength': 7.6363896497463015, 'bagging_temperature': 0.11989992476650162}. Best is trial 53 with value: 0.21628259354931334.\n",
      "[I 2025-05-12 16:15:49,079] Trial 55 finished with value: 0.2159033057022217 and parameters: {'learning_rate': 0.008211933919248819, 'n_estimators': 2778, 'l2_leaf_reg': 1.3465401363827514, 'random_strength': 7.406682219564365, 'bagging_temperature': 0.22801464568603397}. Best is trial 53 with value: 0.21628259354931334.\n",
      "[I 2025-05-12 16:15:50,595] Trial 56 finished with value: 0.21562536552783373 and parameters: {'learning_rate': 0.008491851657664149, 'n_estimators': 2693, 'l2_leaf_reg': 1.0045998944094734, 'random_strength': 7.664127314817782, 'bagging_temperature': 0.12434971671477757}. Best is trial 53 with value: 0.21628259354931334.\n",
      "[I 2025-05-12 16:16:08,328] Trial 57 finished with value: 0.21646952079838555 and parameters: {'learning_rate': 0.007762894843080853, 'n_estimators': 2706, 'l2_leaf_reg': 1.3066052755224848, 'random_strength': 7.418487072430144, 'bagging_temperature': 0.12631039183862006}. Best is trial 57 with value: 0.21646952079838555.\n",
      "[I 2025-05-12 16:16:23,546] Trial 58 finished with value: 0.21554588127101657 and parameters: {'learning_rate': 0.008493616549796225, 'n_estimators': 2713, 'l2_leaf_reg': 1.0128393801248827, 'random_strength': 7.689147359650731, 'bagging_temperature': 0.12776052403772076}. Best is trial 57 with value: 0.21646952079838555.\n",
      "[I 2025-05-12 16:16:34,492] Trial 59 finished with value: 0.212553978847175 and parameters: {'learning_rate': 0.007918904350740103, 'n_estimators': 2684, 'l2_leaf_reg': 1.3085155370158708, 'random_strength': 7.5735715999893305, 'bagging_temperature': 0.15141219058892103}. Best is trial 57 with value: 0.21646952079838555.\n",
      "[I 2025-05-12 16:16:40,684] Trial 60 finished with value: 0.21565517117570884 and parameters: {'learning_rate': 0.007717126125181786, 'n_estimators': 2703, 'l2_leaf_reg': 1.0962483590780243, 'random_strength': 7.212876031455851, 'bagging_temperature': 0.12611683982573652}. Best is trial 57 with value: 0.21646952079838555.\n",
      "[I 2025-05-12 16:16:51,309] Trial 61 finished with value: 0.21172049024255454 and parameters: {'learning_rate': 0.008830876568819384, 'n_estimators': 2711, 'l2_leaf_reg': 1.19900714351781, 'random_strength': 7.591163168206892, 'bagging_temperature': 0.09525025363686579}. Best is trial 57 with value: 0.21646952079838555.\n",
      "[I 2025-05-12 16:17:06,218] Trial 62 finished with value: 0.2151073789480312 and parameters: {'learning_rate': 0.009331571419689566, 'n_estimators': 2644, 'l2_leaf_reg': 1.5855971345944537, 'random_strength': 7.545573482812621, 'bagging_temperature': 0.1000054529742851}. Best is trial 57 with value: 0.21646952079838555.\n",
      "[I 2025-05-12 16:17:14,808] Trial 63 finished with value: 0.21646755102514662 and parameters: {'learning_rate': 0.009540001441069349, 'n_estimators': 2696, 'l2_leaf_reg': 1.1950165035551565, 'random_strength': 7.531631949834025, 'bagging_temperature': 0.09059220838752072}. Best is trial 57 with value: 0.21646952079838555.\n",
      "[I 2025-05-12 16:17:28,776] Trial 64 finished with value: 0.17687191032993843 and parameters: {'learning_rate': 0.0032411543192860603, 'n_estimators': 2666, 'l2_leaf_reg': 1.7868751220188641, 'random_strength': 7.915787506136319, 'bagging_temperature': 0.7239238367060704}. Best is trial 57 with value: 0.21646952079838555.\n",
      "[I 2025-05-12 16:17:34,315] Trial 65 finished with value: 0.19825369218804265 and parameters: {'learning_rate': 0.004011993469451613, 'n_estimators': 2646, 'l2_leaf_reg': 1.6621025643844884, 'random_strength': 7.361663489873163, 'bagging_temperature': 0.23727046611353883}. Best is trial 57 with value: 0.21646952079838555.\n",
      "[I 2025-05-12 16:17:47,111] Trial 66 finished with value: 0.2025553093167175 and parameters: {'learning_rate': 0.00428410450816507, 'n_estimators': 2643, 'l2_leaf_reg': 1.7451616478998913, 'random_strength': 6.714936494190581, 'bagging_temperature': 0.07260373218723297}. Best is trial 57 with value: 0.21646952079838555.\n",
      "[I 2025-05-12 16:17:54,252] Trial 67 finished with value: 0.20138554935507136 and parameters: {'learning_rate': 0.004301606220614752, 'n_estimators': 2668, 'l2_leaf_reg': 1.7480666986009115, 'random_strength': 6.8223207490801965, 'bagging_temperature': 0.0847931339722216}. Best is trial 57 with value: 0.21646952079838555.\n",
      "[I 2025-05-12 16:18:05,830] Trial 68 finished with value: 0.1966366949863405 and parameters: {'learning_rate': 0.0036437051233776828, 'n_estimators': 2699, 'l2_leaf_reg': 1.4053089737445639, 'random_strength': 6.867672293733602, 'bagging_temperature': 0.0888614058085308}. Best is trial 57 with value: 0.21646952079838555.\n",
      "[I 2025-05-12 16:18:20,802] Trial 69 finished with value: 0.20072814816517173 and parameters: {'learning_rate': 0.003983489650204594, 'n_estimators': 2662, 'l2_leaf_reg': 1.0086986420690627, 'random_strength': 6.8190832585382015, 'bagging_temperature': 0.23110729185618023}. Best is trial 57 with value: 0.21646952079838555.\n",
      "[I 2025-05-12 16:18:27,267] Trial 70 finished with value: 0.20382429973953817 and parameters: {'learning_rate': 0.004251101014800721, 'n_estimators': 2647, 'l2_leaf_reg': 1.072754390102884, 'random_strength': 6.828511524705428, 'bagging_temperature': 0.7292162385994408}. Best is trial 57 with value: 0.21646952079838555.\n",
      "[I 2025-05-12 16:18:35,572] Trial 71 finished with value: 0.18947897387539556 and parameters: {'learning_rate': 0.0037172443156460885, 'n_estimators': 2624, 'l2_leaf_reg': 1.130943174135593, 'random_strength': 9.39716571570616, 'bagging_temperature': 0.23508575444029278}. Best is trial 57 with value: 0.21646952079838555.\n",
      "[I 2025-05-12 16:18:40,930] Trial 72 finished with value: 0.20132623885360065 and parameters: {'learning_rate': 0.004257789058108287, 'n_estimators': 2652, 'l2_leaf_reg': 1.1070046559521143, 'random_strength': 9.201479860229103, 'bagging_temperature': 0.2481517970118056}. Best is trial 57 with value: 0.21646952079838555.\n",
      "[I 2025-05-12 16:18:55,000] Trial 73 finished with value: 0.19486000217103785 and parameters: {'learning_rate': 0.003881368764576176, 'n_estimators': 2640, 'l2_leaf_reg': 1.2846533832311193, 'random_strength': 9.17937790866638, 'bagging_temperature': 0.2245538512316505}. Best is trial 57 with value: 0.21646952079838555.\n",
      "[I 2025-05-12 16:19:02,166] Trial 74 finished with value: 0.19158671582939354 and parameters: {'learning_rate': 0.003705751941149123, 'n_estimators': 2601, 'l2_leaf_reg': 1.0462033847898633, 'random_strength': 9.203143036937119, 'bagging_temperature': 0.2328809896993655}. Best is trial 57 with value: 0.21646952079838555.\n",
      "[I 2025-05-12 16:19:12,485] Trial 75 finished with value: 0.1808652918245555 and parameters: {'learning_rate': 0.0034322487422439947, 'n_estimators': 2617, 'l2_leaf_reg': 1.0395371701427452, 'random_strength': 8.96323975207022, 'bagging_temperature': 0.24661889289075528}. Best is trial 57 with value: 0.21646952079838555.\n",
      "[I 2025-05-12 16:19:17,952] Trial 76 finished with value: 0.1934977696004736 and parameters: {'learning_rate': 0.0038369531175319873, 'n_estimators': 2604, 'l2_leaf_reg': 1.0060923050818749, 'random_strength': 9.15577906753811, 'bagging_temperature': 0.22484304234816993}. Best is trial 57 with value: 0.21646952079838555.\n",
      "[I 2025-05-12 16:19:26,975] Trial 77 finished with value: 0.19655654927010965 and parameters: {'learning_rate': 0.004100614350426202, 'n_estimators': 2617, 'l2_leaf_reg': 1.731568687873121, 'random_strength': 9.17614953839294, 'bagging_temperature': 0.2329448876967297}. Best is trial 57 with value: 0.21646952079838555.\n",
      "[I 2025-05-12 16:19:36,954] Trial 78 finished with value: 0.18636279552274196 and parameters: {'learning_rate': 0.0036666098817967887, 'n_estimators': 2633, 'l2_leaf_reg': 1.8028412930215838, 'random_strength': 9.216483640751475, 'bagging_temperature': 0.222482190301388}. Best is trial 57 with value: 0.21646952079838555.\n",
      "[I 2025-05-12 16:19:47,975] Trial 79 finished with value: 0.1878004525389326 and parameters: {'learning_rate': 0.0034327532597626465, 'n_estimators': 2787, 'l2_leaf_reg': 2.035302983335214, 'random_strength': 9.018219743036205, 'bagging_temperature': 0.23340649781675174}. Best is trial 57 with value: 0.21646952079838555.\n",
      "[I 2025-05-12 16:20:02,727] Trial 80 finished with value: 0.20116118101833022 and parameters: {'learning_rate': 0.004182692687886046, 'n_estimators': 2775, 'l2_leaf_reg': 1.9696573396870058, 'random_strength': 9.141836829986186, 'bagging_temperature': 0.20494449474833537}. Best is trial 57 with value: 0.21646952079838555.\n",
      "[I 2025-05-12 16:20:10,188] Trial 81 finished with value: 0.20388338710610224 and parameters: {'learning_rate': 0.004746604282824889, 'n_estimators': 2782, 'l2_leaf_reg': 2.1365976209738164, 'random_strength': 8.9113692062792, 'bagging_temperature': 0.19693303126641715}. Best is trial 57 with value: 0.21646952079838555.\n",
      "[I 2025-05-12 16:20:21,582] Trial 82 finished with value: 0.21074387527644733 and parameters: {'learning_rate': 0.005403222375321972, 'n_estimators': 2784, 'l2_leaf_reg': 1.006740487311916, 'random_strength': 8.880779437657118, 'bagging_temperature': 0.20369870755839764}. Best is trial 57 with value: 0.21646952079838555.\n",
      "[I 2025-05-12 16:20:28,995] Trial 83 finished with value: 0.21262078010976815 and parameters: {'learning_rate': 0.010856008976824, 'n_estimators': 2772, 'l2_leaf_reg': 2.2021525117725016, 'random_strength': 8.932328350039606, 'bagging_temperature': 0.2035515991050044}. Best is trial 57 with value: 0.21646952079838555.\n",
      "[I 2025-05-12 16:20:42,551] Trial 84 finished with value: 0.21532078555381076 and parameters: {'learning_rate': 0.01102942883599953, 'n_estimators': 2771, 'l2_leaf_reg': 1.0005375743622882, 'random_strength': 9.466142419297418, 'bagging_temperature': 0.20960201298129305}. Best is trial 57 with value: 0.21646952079838555.\n",
      "[I 2025-05-12 16:20:58,568] Trial 85 finished with value: 0.21036432902462557 and parameters: {'learning_rate': 0.011009164953871454, 'n_estimators': 2763, 'l2_leaf_reg': 2.127012476955401, 'random_strength': 8.880132239639769, 'bagging_temperature': 0.21088491214925012}. Best is trial 57 with value: 0.21646952079838555.\n",
      "[I 2025-05-12 16:21:04,190] Trial 86 finished with value: 0.21611612473395536 and parameters: {'learning_rate': 0.010283906621711515, 'n_estimators': 2782, 'l2_leaf_reg': 2.0956801349372824, 'random_strength': 9.5545399980581, 'bagging_temperature': 0.1941475020229638}. Best is trial 57 with value: 0.21646952079838555.\n",
      "[I 2025-05-12 16:21:13,033] Trial 87 finished with value: 0.2149956831457315 and parameters: {'learning_rate': 0.010465078711700555, 'n_estimators': 2767, 'l2_leaf_reg': 2.141965892839691, 'random_strength': 8.850756885459754, 'bagging_temperature': 0.190690480749712}. Best is trial 57 with value: 0.21646952079838555.\n",
      "[I 2025-05-12 16:21:20,876] Trial 88 finished with value: 0.21152682115301472 and parameters: {'learning_rate': 0.01092508554132174, 'n_estimators': 2768, 'l2_leaf_reg': 2.1907690239916944, 'random_strength': 8.8361072749578, 'bagging_temperature': 0.19461642644736293}. Best is trial 57 with value: 0.21646952079838555.\n",
      "[I 2025-05-12 16:21:36,384] Trial 89 finished with value: 0.21343728397007278 and parameters: {'learning_rate': 0.010299083979689972, 'n_estimators': 2769, 'l2_leaf_reg': 2.113591690116845, 'random_strength': 8.625535073293893, 'bagging_temperature': 0.1866091856740663}. Best is trial 57 with value: 0.21646952079838555.\n",
      "[I 2025-05-12 16:21:45,298] Trial 90 finished with value: 0.21165319241450567 and parameters: {'learning_rate': 0.011155297694395678, 'n_estimators': 2754, 'l2_leaf_reg': 2.1052479035498903, 'random_strength': 8.52730712351879, 'bagging_temperature': 0.1929138398080542}. Best is trial 57 with value: 0.21646952079838555.\n",
      "[I 2025-05-12 16:21:56,408] Trial 91 finished with value: 0.20845109488367522 and parameters: {'learning_rate': 0.0053279301557875094, 'n_estimators': 2779, 'l2_leaf_reg': 2.147880329120941, 'random_strength': 7.189036342450282, 'bagging_temperature': 0.1898434857000164}. Best is trial 57 with value: 0.21646952079838555.\n",
      "[I 2025-05-12 16:22:02,737] Trial 92 finished with value: 0.21271740766057123 and parameters: {'learning_rate': 0.01088253579198693, 'n_estimators': 2755, 'l2_leaf_reg': 2.065267786431445, 'random_strength': 8.396001833188333, 'bagging_temperature': 0.18592860702194805}. Best is trial 57 with value: 0.21646952079838555.\n",
      "[I 2025-05-12 16:22:13,393] Trial 93 finished with value: 0.21563377016735782 and parameters: {'learning_rate': 0.010566264543387981, 'n_estimators': 2766, 'l2_leaf_reg': 2.1753753307131927, 'random_strength': 8.608695645255834, 'bagging_temperature': 0.28865541367563297}. Best is trial 57 with value: 0.21646952079838555.\n",
      "[I 2025-05-12 16:22:23,053] Trial 94 finished with value: 0.21246721785132894 and parameters: {'learning_rate': 0.010320719711106341, 'n_estimators': 2757, 'l2_leaf_reg': 2.111298485038445, 'random_strength': 8.469933045189666, 'bagging_temperature': 0.28267434665105606}. Best is trial 57 with value: 0.21646952079838555.\n",
      "[I 2025-05-12 16:22:33,954] Trial 95 finished with value: 0.2146562979553005 and parameters: {'learning_rate': 0.010648066024873622, 'n_estimators': 2745, 'l2_leaf_reg': 2.5713997353404014, 'random_strength': 8.565523941009474, 'bagging_temperature': 0.27735492651192184}. Best is trial 57 with value: 0.21646952079838555.\n",
      "[I 2025-05-12 16:22:47,778] Trial 96 finished with value: 0.2144263330877285 and parameters: {'learning_rate': 0.01037522869772169, 'n_estimators': 2745, 'l2_leaf_reg': 2.6152565923697058, 'random_strength': 8.502147762359703, 'bagging_temperature': 0.18674289787171883}. Best is trial 57 with value: 0.21646952079838555.\n",
      "[I 2025-05-12 16:22:49,913] Trial 97 finished with value: 0.21164717905600638 and parameters: {'learning_rate': 0.010307324602731411, 'n_estimators': 2452, 'l2_leaf_reg': 2.640072260201813, 'random_strength': 8.38270393561816, 'bagging_temperature': 0.043888455118687886}. Best is trial 57 with value: 0.21646952079838555.\n",
      "[I 2025-05-12 16:23:01,858] Trial 98 finished with value: 0.21406560143936226 and parameters: {'learning_rate': 0.010547608807613594, 'n_estimators': 2443, 'l2_leaf_reg': 2.7445720695806175, 'random_strength': 8.410193711187892, 'bagging_temperature': 0.05004065417341717}. Best is trial 57 with value: 0.21646952079838555.\n",
      "[I 2025-05-12 16:23:05,195] Trial 99 finished with value: 0.21454284286882 and parameters: {'learning_rate': 0.009377718237321689, 'n_estimators': 2455, 'l2_leaf_reg': 1.4649227634389124, 'random_strength': 8.566411364439022, 'bagging_temperature': 0.05856006862092718}. Best is trial 57 with value: 0.21646952079838555.\n",
      "[I 2025-05-12 16:23:21,860] Trial 100 finished with value: 0.21107885090825315 and parameters: {'learning_rate': 0.01008543024435594, 'n_estimators': 2543, 'l2_leaf_reg': 2.6323286878650913, 'random_strength': 9.875978011294139, 'bagging_temperature': 0.04741288595000376}. Best is trial 57 with value: 0.21646952079838555.\n",
      "[I 2025-05-12 16:23:39,256] Trial 101 finished with value: 0.21195574414714316 and parameters: {'learning_rate': 0.009388058276179802, 'n_estimators': 2737, 'l2_leaf_reg': 2.665428021616592, 'random_strength': 8.578336781154304, 'bagging_temperature': 0.29656255258700276}. Best is trial 57 with value: 0.21646952079838555.\n",
      "[I 2025-05-12 16:23:46,153] Trial 102 finished with value: 0.2127399151149789 and parameters: {'learning_rate': 0.011588201575424171, 'n_estimators': 2827, 'l2_leaf_reg': 1.4700072772031711, 'random_strength': 8.424394393458599, 'bagging_temperature': 0.3240321188184381}. Best is trial 57 with value: 0.21646952079838555.\n",
      "[I 2025-05-12 16:23:53,286] Trial 103 finished with value: 0.20379972786754894 and parameters: {'learning_rate': 0.015333083115194775, 'n_estimators': 2818, 'l2_leaf_reg': 1.4950983777979618, 'random_strength': 9.94899842169718, 'bagging_temperature': 0.2889243995839871}. Best is trial 57 with value: 0.21646952079838555.\n",
      "[I 2025-05-12 16:23:56,822] Trial 104 finished with value: 0.21021379494239065 and parameters: {'learning_rate': 0.01444339065890756, 'n_estimators': 2563, 'l2_leaf_reg': 2.9641041137230806, 'random_strength': 9.918880019062815, 'bagging_temperature': 0.2861714998859083}. Best is trial 57 with value: 0.21646952079838555.\n",
      "[I 2025-05-12 16:24:15,682] Trial 105 finished with value: 0.21631750472912623 and parameters: {'learning_rate': 0.00864431661661634, 'n_estimators': 2733, 'l2_leaf_reg': 1.504801495798186, 'random_strength': 9.829204332638552, 'bagging_temperature': 0.2859153345006311}. Best is trial 57 with value: 0.21646952079838555.\n",
      "[I 2025-05-12 16:24:30,696] Trial 106 finished with value: 0.21378136443419135 and parameters: {'learning_rate': 0.008731281906647523, 'n_estimators': 2817, 'l2_leaf_reg': 1.4760821263941686, 'random_strength': 9.999864524732375, 'bagging_temperature': 0.04582386746231237}. Best is trial 57 with value: 0.21646952079838555.\n",
      "[I 2025-05-12 16:24:43,226] Trial 108 finished with value: 0.21305756476273752 and parameters: {'learning_rate': 0.00904444186780566, 'n_estimators': 2560, 'l2_leaf_reg': 2.6010413619261046, 'random_strength': 9.886033832866705, 'bagging_temperature': 0.2883380933675105}. Best is trial 57 with value: 0.21646952079838555.\n",
      "[I 2025-05-12 16:24:43,328] Trial 107 finished with value: 0.2134029943756228 and parameters: {'learning_rate': 0.009093990614121857, 'n_estimators': 2820, 'l2_leaf_reg': 2.5821144833625698, 'random_strength': 9.854579193545149, 'bagging_temperature': 0.11219464057833899}. Best is trial 57 with value: 0.21646952079838555.\n",
      "[I 2025-05-12 16:24:53,686] Trial 109 finished with value: 0.21244757513380738 and parameters: {'learning_rate': 0.008610489076773281, 'n_estimators': 2827, 'l2_leaf_reg': 2.564624368922865, 'random_strength': 9.887666396580677, 'bagging_temperature': 0.2749776595131898}. Best is trial 57 with value: 0.21646952079838555.\n",
      "[I 2025-05-12 16:25:08,450] Trial 110 finished with value: 0.20864458869757044 and parameters: {'learning_rate': 0.015203583245885253, 'n_estimators': 2819, 'l2_leaf_reg': 2.774018479106202, 'random_strength': 9.971801152266785, 'bagging_temperature': 0.28180409625845015}. Best is trial 57 with value: 0.21646952079838555.\n",
      "[I 2025-05-12 16:25:25,554] Trial 111 finished with value: 0.20664376211526356 and parameters: {'learning_rate': 0.015028328305383152, 'n_estimators': 2808, 'l2_leaf_reg': 1.4928861551274872, 'random_strength': 9.80900972029333, 'bagging_temperature': 0.054415420135286}. Best is trial 57 with value: 0.21646952079838555.\n",
      "[I 2025-05-12 16:25:36,712] Trial 112 finished with value: 0.21338212101978046 and parameters: {'learning_rate': 0.015654918545712892, 'n_estimators': 2816, 'l2_leaf_reg': 1.5063816664521767, 'random_strength': 8.133259223189414, 'bagging_temperature': 0.050548285049989705}. Best is trial 57 with value: 0.21646952079838555.\n",
      "[I 2025-05-12 16:25:40,731] Trial 113 finished with value: 0.21320166800534665 and parameters: {'learning_rate': 0.008374879791103879, 'n_estimators': 2837, 'l2_leaf_reg': 1.4917585167141545, 'random_strength': 9.703467222050145, 'bagging_temperature': 0.12363161993596385}. Best is trial 57 with value: 0.21646952079838555.\n",
      "[I 2025-05-12 16:25:46,874] Trial 114 finished with value: 0.20654296925632465 and parameters: {'learning_rate': 0.015198765750894001, 'n_estimators': 2559, 'l2_leaf_reg': 1.4772455702489689, 'random_strength': 9.633882079717456, 'bagging_temperature': 0.34442767053348355}. Best is trial 57 with value: 0.21646952079838555.\n",
      "[I 2025-05-12 16:25:53,803] Trial 115 finished with value: 0.21361495005843215 and parameters: {'learning_rate': 0.008192909741205314, 'n_estimators': 2809, 'l2_leaf_reg': 1.4458737536522603, 'random_strength': 7.9949846397875035, 'bagging_temperature': 0.31646857335207085}. Best is trial 57 with value: 0.21646952079838555.\n",
      "[I 2025-05-12 16:26:14,383] Trial 116 finished with value: 0.21608143712926298 and parameters: {'learning_rate': 0.008322556992482306, 'n_estimators': 2830, 'l2_leaf_reg': 1.5027890380164217, 'random_strength': 6.524562599281467, 'bagging_temperature': 0.11389146426063906}. Best is trial 57 with value: 0.21646952079838555.\n",
      "[I 2025-05-12 16:26:33,363] Trial 117 finished with value: 0.20612697070863492 and parameters: {'learning_rate': 0.015460345891516127, 'n_estimators': 2825, 'l2_leaf_reg': 1.4411367423064663, 'random_strength': 8.003432649786507, 'bagging_temperature': 0.1139244727728529}. Best is trial 57 with value: 0.21646952079838555.\n",
      "[I 2025-05-12 16:26:33,618] Trial 118 finished with value: 0.21403936876017302 and parameters: {'learning_rate': 0.0082951919956487, 'n_estimators': 2825, 'l2_leaf_reg': 1.3899722944688366, 'random_strength': 8.007558550758683, 'bagging_temperature': 0.11288177166453803}. Best is trial 57 with value: 0.21646952079838555.\n",
      "[I 2025-05-12 16:26:37,537] Trial 119 finished with value: 0.2113185450190743 and parameters: {'learning_rate': 0.007768506179859578, 'n_estimators': 2813, 'l2_leaf_reg': 1.603628813262592, 'random_strength': 8.022947396609649, 'bagging_temperature': 0.1109726019148334}. Best is trial 57 with value: 0.21646952079838555.\n",
      "[I 2025-05-12 16:26:49,077] Trial 120 finished with value: 0.2106399177005364 and parameters: {'learning_rate': 0.007845964521829493, 'n_estimators': 2885, 'l2_leaf_reg': 1.5539312650701613, 'random_strength': 7.932127667442986, 'bagging_temperature': 0.1118348119114298}. Best is trial 57 with value: 0.21646952079838555.\n",
      "[I 2025-05-12 16:27:07,603] Trial 121 finished with value: 0.21733424771678236 and parameters: {'learning_rate': 0.008446190807523209, 'n_estimators': 2885, 'l2_leaf_reg': 1.3128119494584216, 'random_strength': 9.690178875687403, 'bagging_temperature': 0.3865852665669871}. Best is trial 121 with value: 0.21733424771678236.\n",
      "[I 2025-05-12 16:27:23,104] Trial 122 finished with value: 0.21421624518507057 and parameters: {'learning_rate': 0.0073504717521021895, 'n_estimators': 2891, 'l2_leaf_reg': 1.295731164132035, 'random_strength': 8.000237119417827, 'bagging_temperature': 0.3656530176079939}. Best is trial 121 with value: 0.21733424771678236.\n",
      "[I 2025-05-12 16:27:31,893] Trial 123 finished with value: 0.21583787592648054 and parameters: {'learning_rate': 0.007684754187798626, 'n_estimators': 2896, 'l2_leaf_reg': 1.2886555836858207, 'random_strength': 6.486947330579003, 'bagging_temperature': 0.3482538586787679}. Best is trial 121 with value: 0.21733424771678236.\n",
      "[I 2025-05-12 16:27:35,067] Trial 124 finished with value: 0.216378405453768 and parameters: {'learning_rate': 0.007495878107934571, 'n_estimators': 2901, 'l2_leaf_reg': 1.3100452977870547, 'random_strength': 7.971049000019887, 'bagging_temperature': 0.36459214006251467}. Best is trial 121 with value: 0.21733424771678236.\n",
      "[I 2025-05-12 16:27:46,292] Trial 125 finished with value: 0.2133296873701247 and parameters: {'learning_rate': 0.007548520700708352, 'n_estimators': 2893, 'l2_leaf_reg': 1.8842220958937417, 'random_strength': 8.04725926775293, 'bagging_temperature': 0.1268635616758708}. Best is trial 121 with value: 0.21733424771678236.\n",
      "[I 2025-05-12 16:27:58,503] Trial 126 finished with value: 0.21198923997859617 and parameters: {'learning_rate': 0.007176486606366978, 'n_estimators': 2728, 'l2_leaf_reg': 1.5937897283310805, 'random_strength': 7.898821342846438, 'bagging_temperature': 0.16692066662180471}. Best is trial 121 with value: 0.21733424771678236.\n",
      "[I 2025-05-12 16:28:20,665] Trial 127 finished with value: 0.2098636220823651 and parameters: {'learning_rate': 0.012654910884255853, 'n_estimators': 2887, 'l2_leaf_reg': 1.2624420166669545, 'random_strength': 8.060550542741273, 'bagging_temperature': 0.13008011321710508}. Best is trial 121 with value: 0.21733424771678236.\n",
      "[I 2025-05-12 16:28:26,297] Trial 128 finished with value: 0.2131348183846883 and parameters: {'learning_rate': 0.007817859148667304, 'n_estimators': 2723, 'l2_leaf_reg': 1.2587920231059315, 'random_strength': 9.526625367420827, 'bagging_temperature': 0.3782479499342457}. Best is trial 121 with value: 0.21733424771678236.\n",
      "[I 2025-05-12 16:28:28,352] Trial 129 finished with value: 0.21613798009115318 and parameters: {'learning_rate': 0.007048197569256655, 'n_estimators': 2721, 'l2_leaf_reg': 1.268942302376974, 'random_strength': 8.064020103594835, 'bagging_temperature': 0.4626757939353491}. Best is trial 121 with value: 0.21733424771678236.\n",
      "[I 2025-05-12 16:28:36,141] Trial 130 finished with value: 0.21375763409717588 and parameters: {'learning_rate': 0.0072699084090129505, 'n_estimators': 2715, 'l2_leaf_reg': 1.2600389056303691, 'random_strength': 7.2137161360380295, 'bagging_temperature': 0.46971828428037987}. Best is trial 121 with value: 0.21733424771678236.\n",
      "[I 2025-05-12 16:28:43,115] Trial 131 finished with value: 0.2146851933110935 and parameters: {'learning_rate': 0.012461751938003038, 'n_estimators': 2723, 'l2_leaf_reg': 1.2632854956808437, 'random_strength': 7.151065587509276, 'bagging_temperature': 0.3858203197657751}. Best is trial 121 with value: 0.21733424771678236.\n",
      "[I 2025-05-12 16:29:09,462] Trial 132 finished with value: 0.21530175301041152 and parameters: {'learning_rate': 0.007389621013577588, 'n_estimators': 2874, 'l2_leaf_reg': 1.8918991752130523, 'random_strength': 7.160661656149866, 'bagging_temperature': 0.1676863671607074}. Best is trial 121 with value: 0.21733424771678236.\n",
      "[I 2025-05-12 16:29:22,020] Trial 134 finished with value: 0.21189028843297397 and parameters: {'learning_rate': 0.007150045435692183, 'n_estimators': 2721, 'l2_leaf_reg': 1.247151234736207, 'random_strength': 7.194462688094883, 'bagging_temperature': 0.3868463537609414}. Best is trial 121 with value: 0.21733424771678236.\n",
      "[I 2025-05-12 16:29:25,054] Trial 133 finished with value: 0.21140008396357865 and parameters: {'learning_rate': 0.007192023489615778, 'n_estimators': 2898, 'l2_leaf_reg': 1.22533972910716, 'random_strength': 7.102359319529314, 'bagging_temperature': 0.16504606720869833}. Best is trial 121 with value: 0.21733424771678236.\n",
      "[I 2025-05-12 16:29:26,417] Trial 135 finished with value: 0.21199631263734128 and parameters: {'learning_rate': 0.006098197579485331, 'n_estimators': 2878, 'l2_leaf_reg': 1.2326880971792709, 'random_strength': 6.576760044658085, 'bagging_temperature': 0.07569817965543038}. Best is trial 121 with value: 0.21733424771678236.\n",
      "[I 2025-05-12 16:29:35,267] Trial 136 finished with value: 0.2156700099257841 and parameters: {'learning_rate': 0.012871644364644799, 'n_estimators': 2693, 'l2_leaf_reg': 1.8750394967141575, 'random_strength': 7.171310839115077, 'bagging_temperature': 0.4054269927909512}. Best is trial 121 with value: 0.21733424771678236.\n",
      "[I 2025-05-12 16:29:57,472] Trial 137 finished with value: 0.21268500289260703 and parameters: {'learning_rate': 0.006599064295677841, 'n_estimators': 2696, 'l2_leaf_reg': 1.2186424047038344, 'random_strength': 6.525688550115631, 'bagging_temperature': 0.44994316215896096}. Best is trial 121 with value: 0.21733424771678236.\n",
      "[I 2025-05-12 16:30:13,160] Trial 138 finished with value: 0.21123060326723853 and parameters: {'learning_rate': 0.012480204234604681, 'n_estimators': 2724, 'l2_leaf_reg': 1.8798556939241524, 'random_strength': 6.587594494813564, 'bagging_temperature': 0.47124741107006685}. Best is trial 121 with value: 0.21733424771678236.\n",
      "[I 2025-05-12 16:30:16,016] Trial 139 finished with value: 0.21269835349158514 and parameters: {'learning_rate': 0.012801858452072613, 'n_estimators': 2716, 'l2_leaf_reg': 1.8666472276772335, 'random_strength': 7.146932411078874, 'bagging_temperature': 0.16993524948038785}. Best is trial 121 with value: 0.21733424771678236.\n",
      "[I 2025-05-12 16:30:23,931] Trial 140 finished with value: 0.21578880374648235 and parameters: {'learning_rate': 0.006779158180424265, 'n_estimators': 2925, 'l2_leaf_reg': 1.8907868365220084, 'random_strength': 6.525265645998729, 'bagging_temperature': 0.39003071094354735}. Best is trial 121 with value: 0.21733424771678236.\n",
      "[I 2025-05-12 16:30:25,734] Trial 141 finished with value: 0.21296086201737327 and parameters: {'learning_rate': 0.005898265627982254, 'n_estimators': 2691, 'l2_leaf_reg': 1.252236603035869, 'random_strength': 7.220620626313256, 'bagging_temperature': 0.4073940135065647}. Best is trial 121 with value: 0.21733424771678236.\n",
      "[I 2025-05-12 16:30:48,405] Trial 142 finished with value: 0.2148407724334117 and parameters: {'learning_rate': 0.012865034263962424, 'n_estimators': 2923, 'l2_leaf_reg': 1.2434108947009435, 'random_strength': 7.180667751560169, 'bagging_temperature': 0.449091701501256}. Best is trial 121 with value: 0.21733424771678236.\n",
      "[I 2025-05-12 16:31:05,757] Trial 143 finished with value: 0.2153783364118006 and parameters: {'learning_rate': 0.006108558592161473, 'n_estimators': 2940, 'l2_leaf_reg': 1.2445644380885845, 'random_strength': 7.199583069565576, 'bagging_temperature': 0.40756800166097507}. Best is trial 121 with value: 0.21733424771678236.\n",
      "[I 2025-05-12 16:31:08,417] Trial 144 finished with value: 0.21096546949193348 and parameters: {'learning_rate': 0.006642582661964054, 'n_estimators': 2687, 'l2_leaf_reg': 1.788820942137685, 'random_strength': 6.594851978283385, 'bagging_temperature': 0.4148436698250611}. Best is trial 121 with value: 0.21733424771678236.\n",
      "[I 2025-05-12 16:31:16,199] Trial 146 finished with value: 0.211640581054217 and parameters: {'learning_rate': 0.006023920501022467, 'n_estimators': 2690, 'l2_leaf_reg': 1.8554679303430852, 'random_strength': 6.502719374319637, 'bagging_temperature': 0.40321343800368614}. Best is trial 121 with value: 0.21733424771678236.\n",
      "[I 2025-05-12 16:31:18,768] Trial 145 finished with value: 0.2083990570927384 and parameters: {'learning_rate': 0.005777949941464903, 'n_estimators': 2920, 'l2_leaf_reg': 1.8343792868001865, 'random_strength': 6.506405916538711, 'bagging_temperature': 0.41143248871328064}. Best is trial 121 with value: 0.21733424771678236.\n",
      "[I 2025-05-12 16:31:26,692] Trial 147 finished with value: 0.21261149530718101 and parameters: {'learning_rate': 0.005938095409594594, 'n_estimators': 2684, 'l2_leaf_reg': 1.8324686632093856, 'random_strength': 7.405516432731975, 'bagging_temperature': 0.4333616941310881}. Best is trial 121 with value: 0.21733424771678236.\n",
      "[I 2025-05-12 16:31:43,844] Trial 148 finished with value: 0.203902481961129 and parameters: {'learning_rate': 0.006058083806784253, 'n_estimators': 2233, 'l2_leaf_reg': 1.7084357023669867, 'random_strength': 6.423426045263403, 'bagging_temperature': 0.45011546963382226}. Best is trial 121 with value: 0.21733424771678236.\n",
      "[I 2025-05-12 16:32:03,447] Trial 149 finished with value: 0.20973822646457577 and parameters: {'learning_rate': 0.0059205538040924995, 'n_estimators': 2941, 'l2_leaf_reg': 2.3833962781528744, 'random_strength': 7.385423339935575, 'bagging_temperature': 0.40471605244518644}. Best is trial 121 with value: 0.21733424771678236.\n",
      "[I 2025-05-12 16:32:04,802] Trial 150 finished with value: 0.21033120276468542 and parameters: {'learning_rate': 0.005897392562244713, 'n_estimators': 2681, 'l2_leaf_reg': 1.6898987650822148, 'random_strength': 7.350530445189687, 'bagging_temperature': 0.5043215557745193}. Best is trial 121 with value: 0.21733424771678236.\n",
      "[I 2025-05-12 16:32:13,917] Trial 151 finished with value: 0.21254341090151416 and parameters: {'learning_rate': 0.005974785858348242, 'n_estimators': 2920, 'l2_leaf_reg': 1.72538627865518, 'random_strength': 6.475420600876497, 'bagging_temperature': 0.42916670341006125}. Best is trial 121 with value: 0.21733424771678236.\n",
      "[I 2025-05-12 16:32:22,165] Trial 152 finished with value: 0.20807221818663688 and parameters: {'learning_rate': 0.004903416691089249, 'n_estimators': 2921, 'l2_leaf_reg': 1.753109340456899, 'random_strength': 6.519323003004832, 'bagging_temperature': 0.4080222683184797}. Best is trial 121 with value: 0.21733424771678236.\n",
      "[I 2025-05-12 16:32:26,035] Trial 153 finished with value: 0.21008473183517748 and parameters: {'learning_rate': 0.005716929340414268, 'n_estimators': 2681, 'l2_leaf_reg': 1.8262593095221304, 'random_strength': 7.41372401047261, 'bagging_temperature': 0.40272377471581244}. Best is trial 121 with value: 0.21733424771678236.\n",
      "[I 2025-05-12 16:32:54,281] Trial 154 finished with value: 0.20651702640111433 and parameters: {'learning_rate': 0.005133713136715157, 'n_estimators': 2683, 'l2_leaf_reg': 1.7403012308013, 'random_strength': 5.974660836001584, 'bagging_temperature': 0.4229289495517717}. Best is trial 121 with value: 0.21733424771678236.\n",
      "[I 2025-05-12 16:32:55,166] Trial 155 finished with value: 0.20745265266275278 and parameters: {'learning_rate': 0.005107941264718788, 'n_estimators': 2679, 'l2_leaf_reg': 2.393663646866265, 'random_strength': 5.958218535763662, 'bagging_temperature': 0.4203604860828198}. Best is trial 121 with value: 0.21733424771678236.\n",
      "[I 2025-05-12 16:33:09,022] Trial 156 finished with value: 0.21214880853525087 and parameters: {'learning_rate': 0.005078655262244364, 'n_estimators': 2940, 'l2_leaf_reg': 1.7084628301090905, 'random_strength': 5.981222609645407, 'bagging_temperature': 0.41567327739398224}. Best is trial 121 with value: 0.21733424771678236.\n",
      "[I 2025-05-12 16:33:11,951] Trial 157 finished with value: 0.2083311563228194 and parameters: {'learning_rate': 0.005017718822622164, 'n_estimators': 2942, 'l2_leaf_reg': 2.3163123248870696, 'random_strength': 5.843828027021038, 'bagging_temperature': 0.42640719193970705}. Best is trial 121 with value: 0.21733424771678236.\n",
      "[I 2025-05-12 16:33:20,291] Trial 158 finished with value: 0.20323734109311428 and parameters: {'learning_rate': 0.005235725695761927, 'n_estimators': 2926, 'l2_leaf_reg': 5.504236781652078, 'random_strength': 5.988857637674824, 'bagging_temperature': 0.3399826885675018}. Best is trial 121 with value: 0.21733424771678236.\n",
      "[I 2025-05-12 16:33:48,778] Trial 159 finished with value: 0.21187443333395695 and parameters: {'learning_rate': 0.005575003551461327, 'n_estimators': 2921, 'l2_leaf_reg': 1.681425629163595, 'random_strength': 5.954761554414143, 'bagging_temperature': 0.3348817062276277}. Best is trial 121 with value: 0.21733424771678236.\n",
      "[I 2025-05-12 16:33:50,266] Trial 160 finished with value: 0.21076611042581897 and parameters: {'learning_rate': 0.0057965704312968, 'n_estimators': 2859, 'l2_leaf_reg': 2.3193215419252957, 'random_strength': 6.0017554189249545, 'bagging_temperature': 0.32809217799744583}. Best is trial 121 with value: 0.21733424771678236.\n",
      "[I 2025-05-12 16:34:01,565] Trial 161 finished with value: 0.21124951203440057 and parameters: {'learning_rate': 0.005189812897319482, 'n_estimators': 2861, 'l2_leaf_reg': 1.684452925684823, 'random_strength': 7.377371787443634, 'bagging_temperature': 0.34585010055784876}. Best is trial 121 with value: 0.21733424771678236.\n",
      "[I 2025-05-12 16:34:05,945] Trial 162 finished with value: 0.2079963027644148 and parameters: {'learning_rate': 0.005048705123314073, 'n_estimators': 2797, 'l2_leaf_reg': 2.3656218838465946, 'random_strength': 6.95484070020706, 'bagging_temperature': 0.3531545077491766}. Best is trial 121 with value: 0.21733424771678236.\n",
      "[I 2025-05-12 16:34:11,240] Trial 163 finished with value: 0.21000695135341674 and parameters: {'learning_rate': 0.006682478399332526, 'n_estimators': 2666, 'l2_leaf_reg': 2.35148422881893, 'random_strength': 7.484583975866372, 'bagging_temperature': 0.34467174200882966}. Best is trial 121 with value: 0.21733424771678236.\n",
      "[I 2025-05-12 16:34:30,302] Trial 164 finished with value: 0.19976809469036308 and parameters: {'learning_rate': 0.004984611079083076, 'n_estimators': 2861, 'l2_leaf_reg': 9.119687324836622, 'random_strength': 6.06671642223481, 'bagging_temperature': 0.33102765768598946}. Best is trial 121 with value: 0.21733424771678236.\n",
      "[I 2025-05-12 16:34:47,694] Trial 165 finished with value: 0.20626698672446267 and parameters: {'learning_rate': 0.004866661176860484, 'n_estimators': 2853, 'l2_leaf_reg': 2.2970047994906073, 'random_strength': 5.879346021041763, 'bagging_temperature': 0.3430250664905762}. Best is trial 121 with value: 0.21733424771678236.\n",
      "[I 2025-05-12 16:34:53,854] Trial 166 finished with value: 0.20741098312077308 and parameters: {'learning_rate': 0.005251645579260488, 'n_estimators': 2859, 'l2_leaf_reg': 2.3205107362833584, 'random_strength': 7.76878562185965, 'bagging_temperature': 0.31844362229863643}. Best is trial 121 with value: 0.21733424771678236.\n",
      "[I 2025-05-12 16:35:02,718] Trial 167 finished with value: 0.21395194337900134 and parameters: {'learning_rate': 0.005333872771500623, 'n_estimators': 2857, 'l2_leaf_reg': 1.0042412145370365, 'random_strength': 5.968956043970074, 'bagging_temperature': 0.3338665127593882}. Best is trial 121 with value: 0.21733424771678236.\n",
      "[I 2025-05-12 16:35:05,529] Trial 168 finished with value: 0.20863146268704968 and parameters: {'learning_rate': 0.0052552100412806375, 'n_estimators': 2857, 'l2_leaf_reg': 2.365876999249416, 'random_strength': 5.81861228199758, 'bagging_temperature': 0.3383718031412461}. Best is trial 121 with value: 0.21733424771678236.\n",
      "[I 2025-05-12 16:35:18,307] Trial 169 finished with value: 0.2076872518880721 and parameters: {'learning_rate': 0.008752585267381567, 'n_estimators': 2857, 'l2_leaf_reg': 9.063412300492697, 'random_strength': 6.950385853079351, 'bagging_temperature': 0.322542618905738}. Best is trial 121 with value: 0.21733424771678236.\n",
      "[I 2025-05-12 16:35:45,552] Trial 171 finished with value: 0.2064004640898013 and parameters: {'learning_rate': 0.009116910867246057, 'n_estimators': 2790, 'l2_leaf_reg': 8.348537710888543, 'random_strength': 7.791933268997601, 'bagging_temperature': 0.3497512066587357}. Best is trial 121 with value: 0.21733424771678236.\n",
      "[I 2025-05-12 16:35:45,875] Trial 170 finished with value: 0.21792896625914446 and parameters: {'learning_rate': 0.009157846815928884, 'n_estimators': 2845, 'l2_leaf_reg': 1.0815799473460381, 'random_strength': 7.824147440708897, 'bagging_temperature': 0.3169605452429618}. Best is trial 170 with value: 0.21792896625914446.\n",
      "[I 2025-05-12 16:35:59,865] Trial 172 finished with value: 0.2090139064833543 and parameters: {'learning_rate': 0.009712534193791762, 'n_estimators': 2858, 'l2_leaf_reg': 4.4337436537874515, 'random_strength': 7.811584769284748, 'bagging_temperature': 0.36296197469817465}. Best is trial 170 with value: 0.21792896625914446.\n",
      "[I 2025-05-12 16:36:02,101] Trial 173 finished with value: 0.20869238337423346 and parameters: {'learning_rate': 0.009654296968386142, 'n_estimators': 2855, 'l2_leaf_reg': 3.9449619189067207, 'random_strength': 6.9536872599416535, 'bagging_temperature': 0.33609930571544533}. Best is trial 170 with value: 0.21792896625914446.\n",
      "[I 2025-05-12 16:36:13,768] Trial 174 finished with value: 0.21750292630593673 and parameters: {'learning_rate': 0.009256547520443274, 'n_estimators': 2867, 'l2_leaf_reg': 1.0254388913873367, 'random_strength': 7.698579863101589, 'bagging_temperature': 0.2619698300438035}. Best is trial 170 with value: 0.21792896625914446.\n",
      "[I 2025-05-12 16:36:41,501] Trial 175 finished with value: 0.2067814185899605 and parameters: {'learning_rate': 0.009534278639037544, 'n_estimators': 2853, 'l2_leaf_reg': 9.281059297320908, 'random_strength': 7.76048677672022, 'bagging_temperature': 0.3575333383037066}. Best is trial 170 with value: 0.21792896625914446.\n",
      "[I 2025-05-12 16:36:43,552] Trial 176 finished with value: 0.2145507858769211 and parameters: {'learning_rate': 0.009368033207090325, 'n_estimators': 2855, 'l2_leaf_reg': 1.0334481518923087, 'random_strength': 7.627854143552653, 'bagging_temperature': 0.14197955371161303}. Best is trial 170 with value: 0.21792896625914446.\n",
      "[I 2025-05-12 16:36:52,904] Trial 177 finished with value: 0.2066837405869448 and parameters: {'learning_rate': 0.009518400772763789, 'n_estimators': 2798, 'l2_leaf_reg': 8.863680983485118, 'random_strength': 7.747702648749444, 'bagging_temperature': 0.3631265501823203}. Best is trial 170 with value: 0.21792896625914446.\n",
      "[I 2025-05-12 16:36:58,007] Trial 178 finished with value: 0.20485642306049953 and parameters: {'learning_rate': 0.008751772708376935, 'n_estimators': 2744, 'l2_leaf_reg': 9.365939433743431, 'random_strength': 7.539312338270618, 'bagging_temperature': 0.2562217595490759}. Best is trial 170 with value: 0.21792896625914446.\n",
      "[I 2025-05-12 16:37:05,464] Trial 179 finished with value: 0.2142252899495003 and parameters: {'learning_rate': 0.00943292947069487, 'n_estimators': 2738, 'l2_leaf_reg': 1.0533556092493999, 'random_strength': 7.705861864737656, 'bagging_temperature': 0.09511025835352263}. Best is trial 170 with value: 0.21792896625914446.\n",
      "[I 2025-05-12 16:37:22,172] Trial 180 finished with value: 0.2176182369503595 and parameters: {'learning_rate': 0.009476958209843352, 'n_estimators': 2750, 'l2_leaf_reg': 1.000358617959034, 'random_strength': 7.814560905885919, 'bagging_temperature': 0.08859684520474699}. Best is trial 170 with value: 0.21792896625914446.\n",
      "[I 2025-05-12 16:37:38,466] Trial 181 finished with value: 0.21626954455019318 and parameters: {'learning_rate': 0.009319695737048087, 'n_estimators': 2741, 'l2_leaf_reg': 1.0278503785203736, 'random_strength': 7.710242405009681, 'bagging_temperature': 0.2630290298088148}. Best is trial 170 with value: 0.21792896625914446.\n",
      "[I 2025-05-12 16:37:45,377] Trial 182 finished with value: 0.2184914220869566 and parameters: {'learning_rate': 0.009572330547510723, 'n_estimators': 2743, 'l2_leaf_reg': 1.0963132197690524, 'random_strength': 7.7042585635244984, 'bagging_temperature': 0.09303261941787208}. Best is trial 182 with value: 0.2184914220869566.\n",
      "[I 2025-05-12 16:37:52,258] Trial 183 finished with value: 0.2081850172548423 and parameters: {'learning_rate': 0.009123109966600021, 'n_estimators': 2746, 'l2_leaf_reg': 4.5787043292849665, 'random_strength': 7.789761347949908, 'bagging_temperature': 0.5375009813876459}. Best is trial 182 with value: 0.2184914220869566.\n",
      "[I 2025-05-12 16:37:54,765] Trial 184 finished with value: 0.21454398361382812 and parameters: {'learning_rate': 0.009367181068158127, 'n_estimators': 2743, 'l2_leaf_reg': 1.3871364265023323, 'random_strength': 7.764424942193133, 'bagging_temperature': 0.1419494879399443}. Best is trial 182 with value: 0.2184914220869566.\n",
      "[I 2025-05-12 16:38:08,599] Trial 185 finished with value: 0.21237810028048495 and parameters: {'learning_rate': 0.009335973856106105, 'n_estimators': 2748, 'l2_leaf_reg': 1.0902712898233082, 'random_strength': 1.6260802311954548, 'bagging_temperature': 0.2565652708514311}. Best is trial 182 with value: 0.2184914220869566.\n",
      "[I 2025-05-12 16:38:34,734] Trial 186 finished with value: 0.2174805118422998 and parameters: {'learning_rate': 0.009382786230850527, 'n_estimators': 2744, 'l2_leaf_reg': 1.10447468291567, 'random_strength': 7.692273476397932, 'bagging_temperature': 0.26341340423457904}. Best is trial 182 with value: 0.2184914220869566.\n",
      "[I 2025-05-12 16:38:37,244] Trial 187 finished with value: 0.2182098818616441 and parameters: {'learning_rate': 0.009402954740551315, 'n_estimators': 2748, 'l2_leaf_reg': 1.0876514538102253, 'random_strength': 7.6428031996549315, 'bagging_temperature': 0.26535986237934633}. Best is trial 182 with value: 0.2184914220869566.\n",
      "[I 2025-05-12 16:38:46,649] Trial 188 finished with value: 0.21566609761295327 and parameters: {'learning_rate': 0.008348719296821315, 'n_estimators': 2744, 'l2_leaf_reg': 1.0219208400983155, 'random_strength': 7.655134240064013, 'bagging_temperature': 0.5570023585232914}. Best is trial 182 with value: 0.2184914220869566.\n",
      "[I 2025-05-12 16:38:51,102] Trial 189 finished with value: 0.21330848386035614 and parameters: {'learning_rate': 0.008113447123717584, 'n_estimators': 2746, 'l2_leaf_reg': 1.0763740858327595, 'random_strength': 7.6485316294313375, 'bagging_temperature': 0.26232821399561884}. Best is trial 182 with value: 0.2184914220869566.\n",
      "[I 2025-05-12 16:39:04,900] Trial 190 finished with value: 0.21649321842708968 and parameters: {'learning_rate': 0.008172620160782443, 'n_estimators': 2750, 'l2_leaf_reg': 1.1007775376183737, 'random_strength': 8.270557991292032, 'bagging_temperature': 0.27139251253971763}. Best is trial 182 with value: 0.2184914220869566.\n",
      "[I 2025-05-12 16:39:21,037] Trial 192 finished with value: 0.21241180603797694 and parameters: {'learning_rate': 0.008135976741374795, 'n_estimators': 2040, 'l2_leaf_reg': 1.376725847796434, 'random_strength': 2.9558659157939506, 'bagging_temperature': 0.3786603937186876}. Best is trial 182 with value: 0.2184914220869566.\n",
      "[I 2025-05-12 16:39:32,194] Trial 191 finished with value: 0.21551783652471826 and parameters: {'learning_rate': 0.008124238604292684, 'n_estimators': 2742, 'l2_leaf_reg': 1.0977865034374392, 'random_strength': 7.664456542461171, 'bagging_temperature': 0.2595085171648267}. Best is trial 182 with value: 0.2184914220869566.\n",
      "[I 2025-05-12 16:39:41,105] Trial 193 finished with value: 0.2163735264906492 and parameters: {'learning_rate': 0.00834477532633115, 'n_estimators': 2745, 'l2_leaf_reg': 1.389490707156774, 'random_strength': 8.176805677578308, 'bagging_temperature': 0.26878170879005064}. Best is trial 182 with value: 0.2184914220869566.\n",
      "[I 2025-05-12 16:39:48,294] Trial 194 finished with value: 0.2144701957652758 and parameters: {'learning_rate': 0.008076304831745238, 'n_estimators': 2750, 'l2_leaf_reg': 1.3577935697491341, 'random_strength': 8.228169051771047, 'bagging_temperature': 0.2610493962190267}. Best is trial 182 with value: 0.2184914220869566.\n",
      "[I 2025-05-12 16:39:59,371] Trial 195 finished with value: 0.21412862331811613 and parameters: {'learning_rate': 0.008044245724782377, 'n_estimators': 2760, 'l2_leaf_reg': 1.4021854678245886, 'random_strength': 8.248383358440117, 'bagging_temperature': 0.268876021512153}. Best is trial 182 with value: 0.2184914220869566.\n",
      "[I 2025-05-12 16:40:15,470] Trial 196 finished with value: 0.21412845093933333 and parameters: {'learning_rate': 0.007891820650100077, 'n_estimators': 2755, 'l2_leaf_reg': 1.3340233452128216, 'random_strength': 5.000820322903644, 'bagging_temperature': 0.2631468591444317}. Best is trial 182 with value: 0.2184914220869566.\n",
      "[I 2025-05-12 16:40:20,843] Trial 197 finished with value: 0.21272063245044467 and parameters: {'learning_rate': 0.011833829480170772, 'n_estimators': 2785, 'l2_leaf_reg': 1.4073057139291716, 'random_strength': 8.24101850543679, 'bagging_temperature': 0.2628504861154209}. Best is trial 182 with value: 0.2184914220869566.\n",
      "[I 2025-05-12 16:40:31,323] Trial 198 finished with value: 0.10734721804809348 and parameters: {'learning_rate': 0.0010309861618066673, 'n_estimators': 2751, 'l2_leaf_reg': 1.3748263932089473, 'random_strength': 8.257515251129085, 'bagging_temperature': 0.2566545804024008}. Best is trial 182 with value: 0.2184914220869566.\n",
      "[I 2025-05-12 16:40:46,155] Trial 199 finished with value: 0.2134511279768929 and parameters: {'learning_rate': 0.008049759154489692, 'n_estimators': 2788, 'l2_leaf_reg': 1.3898081965179063, 'random_strength': 7.475750075453954, 'bagging_temperature': 0.26008904091841517}. Best is trial 182 with value: 0.2184914220869566.\n",
      "[I 2025-05-12 16:40:50,088] Trial 200 finished with value: 0.2129584382058273 and parameters: {'learning_rate': 0.007997327788009786, 'n_estimators': 2796, 'l2_leaf_reg': 1.3646300547549106, 'random_strength': 8.18037128931486, 'bagging_temperature': 0.26161897913045506}. Best is trial 182 with value: 0.2184914220869566.\n",
      "[I 2025-05-12 16:41:07,221] Trial 201 finished with value: 0.21506548204747364 and parameters: {'learning_rate': 0.011853107414439614, 'n_estimators': 2896, 'l2_leaf_reg': 1.3765484420478376, 'random_strength': 8.198985022527287, 'bagging_temperature': 0.07476862334347294}. Best is trial 182 with value: 0.2184914220869566.\n",
      "[I 2025-05-12 16:41:17,215] Trial 202 finished with value: 0.21262953774009727 and parameters: {'learning_rate': 0.00804197286785078, 'n_estimators': 2765, 'l2_leaf_reg': 1.3758221807054127, 'random_strength': 8.227695611086775, 'bagging_temperature': 0.2598219360369979}. Best is trial 182 with value: 0.2184914220869566.\n",
      "[I 2025-05-12 16:41:27,095] Trial 203 finished with value: 0.21268978910812208 and parameters: {'learning_rate': 0.007995967472345444, 'n_estimators': 2791, 'l2_leaf_reg': 1.39502451375501, 'random_strength': 8.190662575833164, 'bagging_temperature': 0.2705426713037654}. Best is trial 182 with value: 0.2184914220869566.\n",
      "[I 2025-05-12 16:41:41,138] Trial 204 finished with value: 0.2148913232325134 and parameters: {'learning_rate': 0.007958059353280368, 'n_estimators': 2783, 'l2_leaf_reg': 1.3952035135919518, 'random_strength': 8.18633046764994, 'bagging_temperature': 0.08002770306335624}. Best is trial 182 with value: 0.2184914220869566.\n",
      "[I 2025-05-12 16:41:45,860] Trial 205 finished with value: 0.2132385873880213 and parameters: {'learning_rate': 0.007006295828587695, 'n_estimators': 2795, 'l2_leaf_reg': 1.3864169134210738, 'random_strength': 8.23245030829462, 'bagging_temperature': 0.30765409235052393}. Best is trial 182 with value: 0.2184914220869566.\n",
      "[I 2025-05-12 16:41:49,121] Trial 206 finished with value: 0.20971223349081683 and parameters: {'learning_rate': 0.00796475550686906, 'n_estimators': 2097, 'l2_leaf_reg': 1.383337636664373, 'random_strength': 8.098847592640432, 'bagging_temperature': 0.3024488114615988}. Best is trial 182 with value: 0.2184914220869566.\n",
      "[I 2025-05-12 16:42:12,168] Trial 207 finished with value: 0.2144223296771749 and parameters: {'learning_rate': 0.006879885717970263, 'n_estimators': 2790, 'l2_leaf_reg': 1.3579494334375972, 'random_strength': 8.07894379563493, 'bagging_temperature': 0.3036329214604916}. Best is trial 182 with value: 0.2184914220869566.\n",
      "[I 2025-05-12 16:42:22,386] Trial 208 finished with value: 0.2184825378179387 and parameters: {'learning_rate': 0.011753029376950948, 'n_estimators': 2786, 'l2_leaf_reg': 1.4090822864203345, 'random_strength': 8.276159230938077, 'bagging_temperature': 0.29990217970814637}. Best is trial 182 with value: 0.2184914220869566.\n",
      "[I 2025-05-12 16:42:30,754] Trial 209 finished with value: 0.21634578215230285 and parameters: {'learning_rate': 0.011840960914914602, 'n_estimators': 2785, 'l2_leaf_reg': 1.3268468360312857, 'random_strength': 8.236593646443078, 'bagging_temperature': 0.3037825407620215}. Best is trial 182 with value: 0.2184914220869566.\n",
      "[I 2025-05-12 16:42:39,097] Trial 211 finished with value: 0.10711846998054331 and parameters: {'learning_rate': 0.0010079295400430505, 'n_estimators': 2800, 'l2_leaf_reg': 1.2040747675508237, 'random_strength': 8.313124282824162, 'bagging_temperature': 0.2992562598987997}. Best is trial 182 with value: 0.2184914220869566.\n",
      "[I 2025-05-12 16:42:41,284] Trial 210 finished with value: 0.2169020303850018 and parameters: {'learning_rate': 0.011824303987994793, 'n_estimators': 2787, 'l2_leaf_reg': 1.361157426767353, 'random_strength': 8.193855129318665, 'bagging_temperature': 0.3035072476279989}. Best is trial 182 with value: 0.2184914220869566.\n",
      "[I 2025-05-12 16:43:08,073] Trial 212 finished with value: 0.21625467978701754 and parameters: {'learning_rate': 0.011927045946859225, 'n_estimators': 2786, 'l2_leaf_reg': 1.5485529305866432, 'random_strength': 9.435491197503625, 'bagging_temperature': 0.026104186747353035}. Best is trial 182 with value: 0.2184914220869566.\n",
      "[I 2025-05-12 16:43:14,252] Trial 213 finished with value: 0.21344914622395217 and parameters: {'learning_rate': 0.007191039805408944, 'n_estimators': 2791, 'l2_leaf_reg': 1.1924500993335405, 'random_strength': 8.21996018591572, 'bagging_temperature': 0.3043508831422415}. Best is trial 182 with value: 0.2184914220869566.\n",
      "[I 2025-05-12 16:43:25,184] Trial 214 finished with value: 0.21482830018420404 and parameters: {'learning_rate': 0.007158009496819792, 'n_estimators': 2792, 'l2_leaf_reg': 1.1897743590742036, 'random_strength': 9.474722895502778, 'bagging_temperature': 0.3023978089425544}. Best is trial 182 with value: 0.2184914220869566.\n",
      "[I 2025-05-12 16:43:31,583] Trial 215 finished with value: 0.21711641352882224 and parameters: {'learning_rate': 0.006951762465233297, 'n_estimators': 2799, 'l2_leaf_reg': 1.1706409972288485, 'random_strength': 9.461872111831083, 'bagging_temperature': 0.3036718505998248}. Best is trial 182 with value: 0.2184914220869566.\n",
      "[I 2025-05-12 16:43:38,808] Trial 216 finished with value: 0.21114594964714692 and parameters: {'learning_rate': 0.006782665723355866, 'n_estimators': 2898, 'l2_leaf_reg': 1.189392676248627, 'random_strength': 9.531937694044403, 'bagging_temperature': 0.3084751102701435}. Best is trial 182 with value: 0.2184914220869566.\n",
      "[I 2025-05-12 16:43:57,724] Trial 217 finished with value: 0.21379587924216137 and parameters: {'learning_rate': 0.006960437679117465, 'n_estimators': 2713, 'l2_leaf_reg': 1.161605242590965, 'random_strength': 7.914171101325505, 'bagging_temperature': 0.30442842616840904}. Best is trial 182 with value: 0.2184914220869566.\n",
      "[I 2025-05-12 16:44:07,968] Trial 218 finished with value: 0.21330549570698606 and parameters: {'learning_rate': 0.006857795081076886, 'n_estimators': 2703, 'l2_leaf_reg': 1.165644466780939, 'random_strength': 9.620551678589896, 'bagging_temperature': 0.3059626140834295}. Best is trial 182 with value: 0.2184914220869566.\n",
      "[I 2025-05-12 16:44:17,695] Trial 219 finished with value: 0.21179633553130695 and parameters: {'learning_rate': 0.006732512752377178, 'n_estimators': 2715, 'l2_leaf_reg': 1.1706686288516333, 'random_strength': 7.875646046809998, 'bagging_temperature': 0.23237750329084148}. Best is trial 182 with value: 0.2184914220869566.\n",
      "[I 2025-05-12 16:44:24,170] Trial 220 finished with value: 0.21526675216969257 and parameters: {'learning_rate': 0.006919620669082762, 'n_estimators': 2719, 'l2_leaf_reg': 1.1620538563363259, 'random_strength': 9.446761018239973, 'bagging_temperature': 0.3071100508471238}. Best is trial 182 with value: 0.2184914220869566.\n",
      "[I 2025-05-12 16:44:36,130] Trial 221 finished with value: 0.2120761124019613 and parameters: {'learning_rate': 0.006829402122283888, 'n_estimators': 2901, 'l2_leaf_reg': 1.573971637777948, 'random_strength': 9.43181912855604, 'bagging_temperature': 0.22188378449610036}. Best is trial 182 with value: 0.2184914220869566.\n",
      "[I 2025-05-12 16:44:39,908] Trial 222 finished with value: 0.21520744294518634 and parameters: {'learning_rate': 0.006799133156085166, 'n_estimators': 2722, 'l2_leaf_reg': 1.1476752829397276, 'random_strength': 9.349913860547142, 'bagging_temperature': 0.2963511517444924}. Best is trial 182 with value: 0.2184914220869566.\n",
      "[I 2025-05-12 16:44:59,663] Trial 223 finished with value: 0.21290211516053004 and parameters: {'learning_rate': 0.006705234530725807, 'n_estimators': 2709, 'l2_leaf_reg': 1.1587607105835254, 'random_strength': 9.399559550443154, 'bagging_temperature': 0.2345641456001308}. Best is trial 182 with value: 0.2184914220869566.\n",
      "[I 2025-05-12 16:45:11,929] Trial 224 finished with value: 0.21665373151594827 and parameters: {'learning_rate': 0.010802983501053257, 'n_estimators': 2714, 'l2_leaf_reg': 1.1750704018760865, 'random_strength': 9.332009696476392, 'bagging_temperature': 0.22546300886526868}. Best is trial 182 with value: 0.2184914220869566.\n",
      "[I 2025-05-12 16:45:19,361] Trial 225 finished with value: 0.21387044826842297 and parameters: {'learning_rate': 0.010942824891631517, 'n_estimators': 2717, 'l2_leaf_reg': 1.1308805582217611, 'random_strength': 8.71057335129735, 'bagging_temperature': 0.028279968586727988}. Best is trial 182 with value: 0.2184914220869566.\n",
      "[I 2025-05-12 16:45:29,358] Trial 226 finished with value: 0.21138188275679828 and parameters: {'learning_rate': 0.011357176216963772, 'n_estimators': 2709, 'l2_leaf_reg': 1.16822217813383, 'random_strength': 7.923276093215516, 'bagging_temperature': 0.2189775180588933}. Best is trial 182 with value: 0.2184914220869566.\n",
      "[I 2025-05-12 16:45:32,906] Trial 227 finished with value: 0.21630070003743662 and parameters: {'learning_rate': 0.011364313327669559, 'n_estimators': 2713, 'l2_leaf_reg': 1.578665897024792, 'random_strength': 7.906127995802314, 'bagging_temperature': 0.222913923925822}. Best is trial 182 with value: 0.2184914220869566.\n",
      "[I 2025-05-12 16:45:56,457] Trial 228 finished with value: 0.2138838609276059 and parameters: {'learning_rate': 0.01142655634826627, 'n_estimators': 2708, 'l2_leaf_reg': 1.1564342789365307, 'random_strength': 9.396422682263328, 'bagging_temperature': 0.019361223558238373}. Best is trial 182 with value: 0.2184914220869566.\n",
      "[I 2025-05-12 16:46:04,192] Trial 229 finished with value: 0.21284405350270852 and parameters: {'learning_rate': 0.011667800471371273, 'n_estimators': 2713, 'l2_leaf_reg': 1.1741752854115426, 'random_strength': 9.368580696119603, 'bagging_temperature': 0.2862332157124256}. Best is trial 182 with value: 0.2184914220869566.\n",
      "[I 2025-05-12 16:46:13,750] Trial 230 finished with value: 0.21538900864751379 and parameters: {'learning_rate': 0.011316239659558866, 'n_estimators': 2713, 'l2_leaf_reg': 1.5881582596177815, 'random_strength': 8.734644859388448, 'bagging_temperature': 0.02424447829638271}. Best is trial 182 with value: 0.2184914220869566.\n",
      "[I 2025-05-12 16:46:23,677] Trial 231 finished with value: 0.21478940513091307 and parameters: {'learning_rate': 0.01109240252683058, 'n_estimators': 2714, 'l2_leaf_reg': 1.5835303710361603, 'random_strength': 9.277038566442593, 'bagging_temperature': 0.27979054266532916}. Best is trial 182 with value: 0.2184914220869566.\n",
      "[I 2025-05-12 16:46:30,576] Trial 232 finished with value: 0.2109929798161759 and parameters: {'learning_rate': 0.01368944777929211, 'n_estimators': 2702, 'l2_leaf_reg': 1.5789859540526274, 'random_strength': 9.327917902069514, 'bagging_temperature': 0.2906895621125514}. Best is trial 182 with value: 0.2184914220869566.\n",
      "[I 2025-05-12 16:46:46,555] Trial 233 finished with value: 0.20982874094877021 and parameters: {'learning_rate': 0.010862082551835985, 'n_estimators': 2716, 'l2_leaf_reg': 1.571738931189212, 'random_strength': 9.30697718332722, 'bagging_temperature': 0.0308724268230718}. Best is trial 182 with value: 0.2184914220869566.\n",
      "[I 2025-05-12 16:46:57,847] Trial 234 finished with value: 0.21679379393508658 and parameters: {'learning_rate': 0.011421308701682738, 'n_estimators': 2730, 'l2_leaf_reg': 1.019651490144252, 'random_strength': 8.692458776713652, 'bagging_temperature': 0.2923139821827947}. Best is trial 182 with value: 0.2184914220869566.\n",
      "[I 2025-05-12 16:47:10,660] Trial 235 finished with value: 0.2154668525788753 and parameters: {'learning_rate': 0.011477774357101232, 'n_estimators': 2727, 'l2_leaf_reg': 1.584566750936893, 'random_strength': 3.600473534800063, 'bagging_temperature': 0.2840231827753027}. Best is trial 182 with value: 0.2184914220869566.\n",
      "[I 2025-05-12 16:47:14,239] Trial 236 finished with value: 0.2086046392698486 and parameters: {'learning_rate': 0.013629504184585643, 'n_estimators': 2768, 'l2_leaf_reg': 1.5294583529727073, 'random_strength': 9.313339064795624, 'bagging_temperature': 0.2879084700994819}. Best is trial 182 with value: 0.2184914220869566.\n",
      "[I 2025-05-12 16:47:26,812] Trial 237 finished with value: 0.21874503412997529 and parameters: {'learning_rate': 0.011273963757274064, 'n_estimators': 2823, 'l2_leaf_reg': 1.5989252971705756, 'random_strength': 8.704047261160913, 'bagging_temperature': 0.09872224814648757}. Best is trial 237 with value: 0.21874503412997529.\n",
      "[I 2025-05-12 16:47:32,454] Trial 238 finished with value: 0.22024183721881316 and parameters: {'learning_rate': 0.011005267122013267, 'n_estimators': 2829, 'l2_leaf_reg': 1.564571172600236, 'random_strength': 8.738851652143826, 'bagging_temperature': 0.019496288783494752}. Best is trial 238 with value: 0.22024183721881316.\n",
      "[I 2025-05-12 16:47:50,515] Trial 239 finished with value: 0.215228438059641 and parameters: {'learning_rate': 0.011527284204560005, 'n_estimators': 2831, 'l2_leaf_reg': 1.613445458875709, 'random_strength': 9.66579807415543, 'bagging_temperature': 0.01890255534479568}. Best is trial 238 with value: 0.22024183721881316.\n",
      "[I 2025-05-12 16:48:02,641] Trial 240 finished with value: 0.21224224306952336 and parameters: {'learning_rate': 0.011280813012114149, 'n_estimators': 2767, 'l2_leaf_reg': 1.0172474937251994, 'random_strength': 9.735967265321456, 'bagging_temperature': 0.02873426566615936}. Best is trial 238 with value: 0.22024183721881316.\n",
      "[I 2025-05-12 16:48:07,915] Trial 241 finished with value: 0.2137824836229215 and parameters: {'learning_rate': 0.013714330985518788, 'n_estimators': 2764, 'l2_leaf_reg': 1.003447715467121, 'random_strength': 9.703717983342786, 'bagging_temperature': 0.27507944571226584}. Best is trial 238 with value: 0.22024183721881316.\n",
      "[I 2025-05-12 16:48:21,419] Trial 243 finished with value: 0.21672911476583132 and parameters: {'learning_rate': 0.01172256660719, 'n_estimators': 2767, 'l2_leaf_reg': 1.6002229778730888, 'random_strength': 8.682024205809343, 'bagging_temperature': 0.020392819927545575}. Best is trial 238 with value: 0.22024183721881316.\n",
      "[I 2025-05-12 16:48:21,421] Trial 242 finished with value: 0.20852601028363613 and parameters: {'learning_rate': 0.013737158018969223, 'n_estimators': 2830, 'l2_leaf_reg': 1.5605453356878733, 'random_strength': 9.651384156010888, 'bagging_temperature': 0.28214170985436166}. Best is trial 238 with value: 0.22024183721881316.\n",
      "[I 2025-05-12 16:48:45,632] Trial 244 finished with value: 0.2151461420493298 and parameters: {'learning_rate': 0.01027497060386045, 'n_estimators': 2828, 'l2_leaf_reg': 1.5731258005490945, 'random_strength': 3.8912110635901356, 'bagging_temperature': 0.28599283317429686}. Best is trial 238 with value: 0.22024183721881316.\n",
      "[I 2025-05-12 16:48:50,474] Trial 245 finished with value: 0.21849608843821755 and parameters: {'learning_rate': 0.010381908638815511, 'n_estimators': 2763, 'l2_leaf_reg': 1.533957927615297, 'random_strength': 9.708461182469428, 'bagging_temperature': 0.2403410660510012}. Best is trial 238 with value: 0.22024183721881316.\n",
      "[I 2025-05-12 16:48:59,898] Trial 246 finished with value: 0.20933662069750847 and parameters: {'learning_rate': 0.013574723657360371, 'n_estimators': 2771, 'l2_leaf_reg': 1.02266071395939, 'random_strength': 9.699047334559564, 'bagging_temperature': 0.27586287591249575}. Best is trial 238 with value: 0.22024183721881316.\n",
      "[I 2025-05-12 16:49:08,406] Trial 247 finished with value: 0.21136419425734398 and parameters: {'learning_rate': 0.013840407760836162, 'n_estimators': 2766, 'l2_leaf_reg': 1.575305039385881, 'random_strength': 9.682971449558426, 'bagging_temperature': 0.24117939399200058}. Best is trial 238 with value: 0.22024183721881316.\n",
      "[I 2025-05-12 16:49:12,639] Trial 248 finished with value: 0.2105696522120867 and parameters: {'learning_rate': 0.010077637013335734, 'n_estimators': 2773, 'l2_leaf_reg': 1.0041042171379195, 'random_strength': 7.917487124265406, 'bagging_temperature': 0.27742681731232965}. Best is trial 238 with value: 0.22024183721881316.\n",
      "[I 2025-05-12 16:49:20,881] Trial 249 finished with value: 0.2092333252680644 and parameters: {'learning_rate': 0.013870229608303865, 'n_estimators': 2772, 'l2_leaf_reg': 1.061117355146177, 'random_strength': 7.974086717437068, 'bagging_temperature': 0.08860991633967792}. Best is trial 238 with value: 0.22024183721881316.\n"
     ]
    }
   ],
   "source": [
    "def objective_catboost(trial):\n",
    "\n",
    "    params = {\n",
    "        'max_depth': 4,\n",
    "        'learning_rate': trial.suggest_float(\"learning_rate\", 0.0005, 0.2, log=True),    # Скорость обучения\n",
    "        'n_estimators': trial.suggest_int(\"n_estimators\", 1800, 3000),\n",
    "        'l2_leaf_reg': trial.suggest_float(\"l2_leaf_reg\", 1, 10),   # Коэффициент L2-регуляризации\n",
    "        'random_strength': trial.suggest_float(\"random_strength\", 0, 10),   # Степень случайности\n",
    "        'bagging_temperature':  trial.suggest_float(\"bagging_temperature\", 0, 1),   # Интенсивность бэггинга\n",
    "        # 'grow_policy': 'SymmetricTree',\n",
    "        # 'border_count': trial.suggest_int(\"border_count\", 32, 255)\n",
    "        # 'iterations': trial.suggest_int('iterations', 100, 300),  # Количество итераций\n",
    "        # 'depth': trial.suggest_int('depth', 3, 4, 5),  # Глубина деревьев\n",
    "        # 'learning_rate': trial.suggest_float('learning_rate', 0.05, 0.2),  # Скорость обучения\n",
    "        # 'l2_leaf_reg': trial.suggest_float('l2_leaf_reg', 4, 8),  # Коэффициент L2-регуляризации\n",
    "        # 'loss_function': trial.suggest_categorical('loss_function', ['RMSE', 'MAE']),  # Функция потерь\n",
    "        # 'early_stopping_rounds': trial.suggest_int('early_stopping_rounds', 10, 20),  # Ранняя остановка\n",
    "        # 'border_count': trial.suggest_categorical('border_count', [32, 128]),  # Количество границ\n",
    "        # 'random_strength': trial.suggest_float('random_strength', 0.1, 10),  # Степень случайности\n",
    "        # 'bagging_temperature': trial.suggest_float('bagging_temperature', 0, 1),  # Интенсивность бэггинга\n",
    "        # 'grow_policy': trial.suggest_categorical('grow_policy', ['SymmetricTree', 'Depthwise']),    # Стратегия роста\n",
    "        # 'min_data_in_leaf': trial.suggest_int('min_data_in_leaf', 5, 15),   # Минимальное количество объектов в листе\n",
    "        # 'rsm': trial.suggest_float('rsm', 0.8, 1.0),    # Доля признаков для каждого дерева\n",
    "\n",
    "    }\n",
    "    \n",
    "    model = CatBoostRegressor(cat_features=cat_features, **params, silent=True)\n",
    "\n",
    "    score = cross_val_score(model, X, target, cv=3, scoring=\"r2\", n_jobs=-1).mean()\n",
    "    return score\n",
    "\n",
    "study = optuna.create_study(direction=\"maximize\")\n",
    "study.optimize(objective_catboost, n_trials=250, n_jobs=-1)"
   ]
  },
  {
   "cell_type": "markdown",
   "id": "832f82cf",
   "metadata": {},
   "source": []
  },
  {
   "cell_type": "code",
   "execution_count": null,
   "id": "6e0dd789",
   "metadata": {},
   "outputs": [
    {
     "data": {
      "text/plain": [
       "<catboost.core.CatBoostRegressor at 0x15bcae78b50>"
      ]
     },
     "execution_count": 85,
     "metadata": {},
     "output_type": "execute_result"
    }
   ],
   "source": [
    "# [I 2025-05-12 15:22:30,361] Trial 156 finished with value: 0.21593551418797222 and parameters: \n",
    "# {'learning_rate': 0.010085724934530157, \n",
    "#'n_estimators': 2063, \n",
    "#'l2_leaf_reg': 1.006603127309495, \n",
    "#'random_strength': 1.4219666225791285, \n",
    "#'bagging_temperature': 0.47554294906158245}. \n",
    "# Best is trial 156 with value: 0.21593551418797222.\n",
    "\n",
    "# params = study.best_params\n",
    "params = {'learning_rate': 0.008553940111605946, 'n_estimators': 2114, 'l2_leaf_reg': 1.4163130536678312, 'random_strength': 4.287920281067569, 'bagging_temperature': 0.7916641053388684, 'grow_policy': 'SymmetricTree', 'min_data_in_leaf': 7, 'rsm': 0.9923008576207031}\n",
    "model = CatBoostRegressor(\n",
    "        cat_features=cat_features, **params,\n",
    "        silent=True\n",
    "    )\n",
    "model.fit(X, target)"
   ]
  },
  {
   "cell_type": "code",
   "execution_count": 86,
   "id": "3aa28500",
   "metadata": {},
   "outputs": [],
   "source": [
    "pred = model.predict(test)"
   ]
  },
  {
   "cell_type": "code",
   "execution_count": null,
   "id": "b6f4ee79",
   "metadata": {},
   "outputs": [],
   "source": [
    "test = test.copy()\n",
    "result = pd.DataFrame()\n",
    "result['id'] = np.arange(len(test))\n",
    "result['Rating'] = pred\n",
    "\n",
    "result[['id','Rating']].to_csv(\"choko_submission_211.csv\", index=False)"
   ]
  },
  {
   "attachments": {
    "image.png": {
     "image/png": "[encoded data removed]"
    }
   },
   "cell_type": "markdown",
   "id": "5df1e385",
   "metadata": {},
   "source": [
    "![image.png](attachment:image.png)"
   ]
  },
  {
   "cell_type": "markdown",
   "id": "7c6c825c",
   "metadata": {},
   "source": [
    "<!-- {'learning_rate': 0.008553940111605946, 'n_estimators': 2114, 'l2_leaf_reg': 1.4163130536678312, 'random_strength': 4.287920281067569, 'bagging_temperature': 0.7916641053388684, 'grow_policy': 'SymmetricTree', 'min_data_in_leaf': 7, 'rsm': 0.9923008576207031} -->"
   ]
  },
  {
   "cell_type": "code",
   "execution_count": null,
   "id": "686f149b",
   "metadata": {},
   "outputs": [],
   "source": [
    "# {'learning_rate': 0.008553940111605946, 'n_estimators': 2114, 'l2_leaf_reg': 1.4163130536678312, 'random_strength': 4.287920281067569, 'bagging_temperature': 0.7916641053388684, 'grow_policy': 'SymmetricTree', 'min_data_in_leaf': 7, 'rsm': 0.9923008576207031}"
   ]
  }
 ],
 "metadata": {
  "kernelspec": {
   "display_name": "chocolate",
   "language": "python",
   "name": "python3"
  },
  "language_info": {
   "codemirror_mode": {
    "name": "ipython",
    "version": 3
   },
   "file_extension": ".py",
   "mimetype": "text/x-python",
   "name": "python",
   "nbconvert_exporter": "python",
   "pygments_lexer": "ipython3",
   "version": "3.9.22"
  }
 },
 "nbformat": 4,
 "nbformat_minor": 5
}
