{
 "cells": [
  {
   "cell_type": "code",
   "execution_count": 34,
   "metadata": {},
   "outputs": [],
   "source": [
    "import pandas as pd\n",
    "import numpy as np"
   ]
  },
  {
   "cell_type": "code",
   "execution_count": 35,
   "metadata": {},
   "outputs": [],
   "source": [
    "my_dict = {'A':[1,1,0],\n",
    "        'B':[2,0,1],\n",
    "        'C':[0,1,5],\n",
    "        'D':[4,1,None]}"
   ]
  },
  {
   "cell_type": "code",
   "execution_count": 36,
   "metadata": {},
   "outputs": [],
   "source": [
    "df = pd.DataFrame.from_dict(data=my_dict, orient='index', columns=['P1', 'P2', 'P3'])"
   ]
  },
  {
   "cell_type": "code",
   "execution_count": 37,
   "metadata": {},
   "outputs": [
    {
     "data": {
      "text/html": [
       "<div>\n",
       "<style scoped>\n",
       "    .dataframe tbody tr th:only-of-type {\n",
       "        vertical-align: middle;\n",
       "    }\n",
       "\n",
       "    .dataframe tbody tr th {\n",
       "        vertical-align: top;\n",
       "    }\n",
       "\n",
       "    .dataframe thead th {\n",
       "        text-align: right;\n",
       "    }\n",
       "</style>\n",
       "<table border=\"1\" class=\"dataframe\">\n",
       "  <thead>\n",
       "    <tr style=\"text-align: right;\">\n",
       "      <th></th>\n",
       "      <th>P1</th>\n",
       "      <th>P2</th>\n",
       "      <th>P3</th>\n",
       "    </tr>\n",
       "  </thead>\n",
       "  <tbody>\n",
       "    <tr>\n",
       "      <th>A</th>\n",
       "      <td>1</td>\n",
       "      <td>1</td>\n",
       "      <td>0.0</td>\n",
       "    </tr>\n",
       "    <tr>\n",
       "      <th>B</th>\n",
       "      <td>2</td>\n",
       "      <td>0</td>\n",
       "      <td>1.0</td>\n",
       "    </tr>\n",
       "    <tr>\n",
       "      <th>C</th>\n",
       "      <td>0</td>\n",
       "      <td>1</td>\n",
       "      <td>5.0</td>\n",
       "    </tr>\n",
       "    <tr>\n",
       "      <th>D</th>\n",
       "      <td>4</td>\n",
       "      <td>1</td>\n",
       "      <td>NaN</td>\n",
       "    </tr>\n",
       "  </tbody>\n",
       "</table>\n",
       "</div>"
      ],
      "text/plain": [
       "   P1  P2   P3\n",
       "A   1   1  0.0\n",
       "B   2   0  1.0\n",
       "C   0   1  5.0\n",
       "D   4   1  NaN"
      ]
     },
     "execution_count": 37,
     "metadata": {},
     "output_type": "execute_result"
    }
   ],
   "source": [
    "df.head()"
   ]
  },
  {
   "cell_type": "code",
   "execution_count": 38,
   "metadata": {},
   "outputs": [
    {
     "data": {
      "text/plain": [
       "A    0.0\n",
       "B    1.0\n",
       "C    5.0\n",
       "D    2.0\n",
       "Name: P3, dtype: float64"
      ]
     },
     "execution_count": 38,
     "metadata": {},
     "output_type": "execute_result"
    }
   ],
   "source": [
    "df['P3'].fillna(np.mean(df['P3'].dropna()))"
   ]
  },
  {
   "cell_type": "code",
   "execution_count": 39,
   "metadata": {},
   "outputs": [
    {
     "data": {
      "text/plain": [
       "A    0.0\n",
       "B    1.0\n",
       "C    5.0\n",
       "D    1.0\n",
       "Name: P3, dtype: float64"
      ]
     },
     "execution_count": 39,
     "metadata": {},
     "output_type": "execute_result"
    }
   ],
   "source": [
    "df['P3'].fillna(np.median(df['P3'].dropna()))"
   ]
  },
  {
   "cell_type": "markdown",
   "metadata": {},
   "source": [
    "Метрики"
   ]
  },
  {
   "cell_type": "code",
   "execution_count": 40,
   "metadata": {},
   "outputs": [
    {
     "name": "stdout",
     "output_type": "stream",
     "text": [
      "Метрика Евклида: 2.8284271247461903\n",
      "Метрика Манхэттен: 4\n",
      "Макс-метрика: 2\n"
     ]
    }
   ],
   "source": [
    "P1 = [0, 1, 2]\n",
    "P2 = [2, 1, 0]\n",
    "evklid_metric = sum([((x - y)**2) for x, y in zip(P1, P2)])**0.5\n",
    "manh_metric = sum([abs(x - y) for x, y in zip(P1, P2)])\n",
    "max_metric = max([abs(x - y) for x, y in zip(P1, P2)])\n",
    "print(f'Метрика Евклида: {evklid_metric}\\nМетрика Манхэттен: {manh_metric}\\nМакс-метрика: {max_metric}')"
   ]
  },
  {
   "cell_type": "markdown",
   "metadata": {},
   "source": [
    "Нормализация"
   ]
  },
  {
   "cell_type": "code",
   "execution_count": 41,
   "metadata": {},
   "outputs": [
    {
     "name": "stdout",
     "output_type": "stream",
     "text": [
      "[0.2, 0.0, 1.0, 0.4, 0.4]\n"
     ]
    }
   ],
   "source": [
    "P = (1,0,5,2,2)\n",
    "min_max_normalization = [(x - min(P)) / (max(P) - min(P)) for x in P]\n",
    "print(min_max_normalization)"
   ]
  },
  {
   "cell_type": "code",
   "execution_count": 42,
   "metadata": {},
   "outputs": [
    {
     "name": "stdout",
     "output_type": "stream",
     "text": [
      "[0.2 0.  1.  0.4 0.4]\n"
     ]
    }
   ],
   "source": [
    "P = [1,0,5,2,2]\n",
    "n = ((np.array(P) - min(P))/(max(P) - min(P)))\n",
    "print(n)"
   ]
  },
  {
   "cell_type": "code",
   "execution_count": 43,
   "metadata": {},
   "outputs": [
    {
     "data": {
      "text/plain": [
       "array([[0.2],\n",
       "       [0. ],\n",
       "       [1. ],\n",
       "       [0.4],\n",
       "       [0.4]])"
      ]
     },
     "execution_count": 43,
     "metadata": {},
     "output_type": "execute_result"
    }
   ],
   "source": [
    "from sklearn.preprocessing import MinMaxScaler\n",
    "\n",
    "a = np.array([1, 0, 5, 2, 2]).reshape(-1, 1)\n",
    "scaler = MinMaxScaler()\n",
    "scaler.fit_transform(a)"
   ]
  },
  {
   "cell_type": "code",
   "execution_count": 44,
   "metadata": {},
   "outputs": [],
   "source": [
    "# P = (1,0,5,2,2)\n",
    "# P_mean = np.mean(P)\n",
    "# P_n = len(P)\n",
    "# P_std = (sum([((x - P_mean)**2) for x in P]) / P_n) ** 0.5\n",
    "# min_std_normalization = [(x - P_mean) / P_std for x in P]\n",
    "# min_std_normalization"
   ]
  },
  {
   "cell_type": "code",
   "execution_count": 45,
   "metadata": {},
   "outputs": [
    {
     "data": {
      "text/plain": [
       "array([-0.5976143 , -1.19522861,  1.79284291,  0.        ,  0.        ])"
      ]
     },
     "execution_count": 45,
     "metadata": {},
     "output_type": "execute_result"
    }
   ],
   "source": [
    "P = (1,0,5,2,2)\n",
    "n = (np.array(P) - np.mean(P)) / np.std(P)\n",
    "n"
   ]
  },
  {
   "cell_type": "code",
   "execution_count": 46,
   "metadata": {},
   "outputs": [
    {
     "data": {
      "text/plain": [
       "array([[-0.5976143 ],\n",
       "       [-1.19522861],\n",
       "       [ 1.79284291],\n",
       "       [ 0.        ],\n",
       "       [ 0.        ]])"
      ]
     },
     "execution_count": 46,
     "metadata": {},
     "output_type": "execute_result"
    }
   ],
   "source": [
    "from sklearn.preprocessing import StandardScaler\n",
    "\n",
    "a = np.array([1, 0, 5, 2, 2]).reshape(-1, 1)\n",
    "scaler = StandardScaler()\n",
    "scaler.fit_transform(a)"
   ]
  },
  {
   "cell_type": "markdown",
   "metadata": {},
   "source": [
    "Заполнение пропущенного значения по метрике Манхэттен "
   ]
  },
  {
   "cell_type": "code",
   "execution_count": 47,
   "metadata": {},
   "outputs": [
    {
     "name": "stdout",
     "output_type": "stream",
     "text": [
      "4.090909090909092\n"
     ]
    }
   ],
   "source": [
    "import pandas as pd\n",
    "from sklearn.metrics.pairwise import manhattan_distances\n",
    "\n",
    "my_dict = {'Vasia': [5, 5, 5, 3],\n",
    "           'Petia': [5, 3, 4, 4],\n",
    "           'Masha': [2, 5, 3, 5],\n",
    "           'Sasha': [3, 4, 4, None]}\n",
    "\n",
    "df = pd.DataFrame.from_dict(data=my_dict, orient='index', columns=['Silence', 'Titanic', 'Matrix', 'Harry'])\n",
    "\n",
    "md = manhattan_distances(df.iloc[0:3, 0:3], [df.iloc[3, 0:3]]).reshape(3)\n",
    "norm_mul = 1 / ((1 / md)).sum()\n",
    "sim = ((df.iloc[0:3, 3]/md)).sum()\n",
    "print(norm_mul*sim)"
   ]
  },
  {
   "cell_type": "code",
   "execution_count": 48,
   "metadata": {},
   "outputs": [
    {
     "data": {
      "text/html": [
       "<div>\n",
       "<style scoped>\n",
       "    .dataframe tbody tr th:only-of-type {\n",
       "        vertical-align: middle;\n",
       "    }\n",
       "\n",
       "    .dataframe tbody tr th {\n",
       "        vertical-align: top;\n",
       "    }\n",
       "\n",
       "    .dataframe thead th {\n",
       "        text-align: right;\n",
       "    }\n",
       "</style>\n",
       "<table border=\"1\" class=\"dataframe\">\n",
       "  <thead>\n",
       "    <tr style=\"text-align: right;\">\n",
       "      <th></th>\n",
       "      <th>Silence</th>\n",
       "      <th>Titanic</th>\n",
       "      <th>Matrix</th>\n",
       "      <th>Harry</th>\n",
       "    </tr>\n",
       "  </thead>\n",
       "  <tbody>\n",
       "    <tr>\n",
       "      <th>Vasia</th>\n",
       "      <td>5</td>\n",
       "      <td>5</td>\n",
       "      <td>5</td>\n",
       "      <td>3.0</td>\n",
       "    </tr>\n",
       "    <tr>\n",
       "      <th>Petia</th>\n",
       "      <td>5</td>\n",
       "      <td>3</td>\n",
       "      <td>4</td>\n",
       "      <td>4.0</td>\n",
       "    </tr>\n",
       "    <tr>\n",
       "      <th>Masha</th>\n",
       "      <td>2</td>\n",
       "      <td>5</td>\n",
       "      <td>3</td>\n",
       "      <td>5.0</td>\n",
       "    </tr>\n",
       "    <tr>\n",
       "      <th>Sasha</th>\n",
       "      <td>3</td>\n",
       "      <td>4</td>\n",
       "      <td>4</td>\n",
       "      <td>NaN</td>\n",
       "    </tr>\n",
       "  </tbody>\n",
       "</table>\n",
       "</div>"
      ],
      "text/plain": [
       "       Silence  Titanic  Matrix  Harry\n",
       "Vasia        5        5       5    3.0\n",
       "Petia        5        3       4    4.0\n",
       "Masha        2        5       3    5.0\n",
       "Sasha        3        4       4    NaN"
      ]
     },
     "execution_count": 48,
     "metadata": {},
     "output_type": "execute_result"
    }
   ],
   "source": [
    "df"
   ]
  },
  {
   "cell_type": "code",
   "execution_count": 49,
   "metadata": {},
   "outputs": [
    {
     "data": {
      "text/html": [
       "<div>\n",
       "<style scoped>\n",
       "    .dataframe tbody tr th:only-of-type {\n",
       "        vertical-align: middle;\n",
       "    }\n",
       "\n",
       "    .dataframe tbody tr th {\n",
       "        vertical-align: top;\n",
       "    }\n",
       "\n",
       "    .dataframe thead th {\n",
       "        text-align: right;\n",
       "    }\n",
       "</style>\n",
       "<table border=\"1\" class=\"dataframe\">\n",
       "  <thead>\n",
       "    <tr style=\"text-align: right;\">\n",
       "      <th></th>\n",
       "      <th>Silence</th>\n",
       "      <th>Titanic</th>\n",
       "      <th>Matrix</th>\n",
       "    </tr>\n",
       "  </thead>\n",
       "  <tbody>\n",
       "    <tr>\n",
       "      <th>Vasia</th>\n",
       "      <td>5</td>\n",
       "      <td>5</td>\n",
       "      <td>5</td>\n",
       "    </tr>\n",
       "  </tbody>\n",
       "</table>\n",
       "</div>"
      ],
      "text/plain": [
       "       Silence  Titanic  Matrix\n",
       "Vasia        5        5       5"
      ]
     },
     "execution_count": 49,
     "metadata": {},
     "output_type": "execute_result"
    }
   ],
   "source": [
    "df.loc[['Vasia'],['Silence', 'Titanic',\t'Matrix']]"
   ]
  },
  {
   "cell_type": "code",
   "execution_count": 50,
   "metadata": {},
   "outputs": [
    {
     "name": "stdout",
     "output_type": "stream",
     "text": [
      "4.0 3.0 3.0\n"
     ]
    },
    {
     "data": {
      "text/plain": [
       "4.090909090909092"
      ]
     },
     "execution_count": 50,
     "metadata": {},
     "output_type": "execute_result"
    }
   ],
   "source": [
    "a = np.abs(df.loc['Vasia',['Silence', 'Titanic', 'Matrix']] - df.loc[['Sasha'],['Silence', 'Titanic', 'Matrix']]).sum(axis=1).sum()\n",
    "b = np.abs(df.loc['Petia',['Silence', 'Titanic', 'Matrix']] - df.loc[['Sasha'],['Silence', 'Titanic', 'Matrix']]).sum(axis=1).sum()\n",
    "c = np.abs(df.loc['Masha',['Silence', 'Titanic', 'Matrix']] - df.loc[['Sasha'],['Silence', 'Titanic', 'Matrix']]).sum(axis=1).sum()\n",
    "print(a,b,c)\n",
    "\n",
    "(1 / ((1 / a) + (1 / b) + (1/c))) * \\\n",
    "((df.loc['Vasia','Harry'] / a) + \\\n",
    "(df.loc['Petia','Harry'] / b) + \\\n",
    "(df.loc['Masha','Harry'] / c))"
   ]
  },
  {
   "cell_type": "code",
   "execution_count": 51,
   "metadata": {},
   "outputs": [
    {
     "data": {
      "text/plain": [
       "1.7320508075688772"
      ]
     },
     "execution_count": 51,
     "metadata": {},
     "output_type": "execute_result"
    }
   ],
   "source": [
    "A = [1,0,1,0,1,0]\n",
    "C = [1,1,0,1,1,0]\n",
    "evklid_metric = sum([(x-y)**2 for x, y in zip(A,C)])**0.5\n",
    "evklid_metric"
   ]
  },
  {
   "cell_type": "code",
   "execution_count": 52,
   "metadata": {},
   "outputs": [
    {
     "name": "stdout",
     "output_type": "stream",
     "text": [
      "1.73\n"
     ]
    }
   ],
   "source": [
    "from scipy.spatial.distance import euclidean\n",
    "\n",
    "A = (1, 0, 1, 0, 1, 0)\n",
    "C = (1, 1, 0, 1, 1, 0)\n",
    "\n",
    "print(round(euclidean(A, C), 2))"
   ]
  },
  {
   "cell_type": "code",
   "execution_count": 53,
   "metadata": {},
   "outputs": [
    {
     "name": "stdout",
     "output_type": "stream",
     "text": [
      "[8, -1.5, 7.5]\n"
     ]
    }
   ],
   "source": [
    "q_25, q_75 = 2, 4\n",
    "p = [8, -1.5, 7.5, 0, 3, 6.5, 0.5]\n",
    "\n",
    "p_min = q_25 - 1.5 * (q_75 - q_25)\n",
    "p_max = q_75 + 1.5 * (q_75 - q_25)\n",
    "\n",
    "p = filter(lambda x: x < p_min or x > p_max, p)\n",
    "print(list(p))"
   ]
  },
  {
   "cell_type": "code",
   "execution_count": 54,
   "metadata": {},
   "outputs": [
    {
     "name": "stdout",
     "output_type": "stream",
     "text": [
      "7 13 \n",
      "7 13\n"
     ]
    }
   ],
   "source": [
    "mean, std, median, n = 10, 1.1, 9, 10\n",
    "\n",
    "P = [13.5, 14, 7, 6, 6.5, 13]\n",
    "\n",
    "(mean - median) <= 3*std / np.sqrt(n)\n",
    "\n",
    "for i in P:\n",
    "    if (mean - 3*std) < i < (mean + 3*std):\n",
    "        print(i, end=' ')\n",
    "print()\n",
    "\n",
    "def is_outliers(P) -> list:\n",
    "    if (mean - median) <= 3*std / np.sqrt(n):\n",
    "        return list(filter(lambda x: (mean - 3*std) < x < (mean + 3*std), P))\n",
    "    list(filter(lambda x: (mean - 5*std) < x < (mean + 5*std), P))\n",
    "\n",
    "result = is_outliers(P)\n",
    "print(*result)"
   ]
  },
  {
   "cell_type": "code",
   "execution_count": 55,
   "metadata": {},
   "outputs": [
    {
     "data": {
      "text/html": [
       "<div>\n",
       "<style scoped>\n",
       "    .dataframe tbody tr th:only-of-type {\n",
       "        vertical-align: middle;\n",
       "    }\n",
       "\n",
       "    .dataframe tbody tr th {\n",
       "        vertical-align: top;\n",
       "    }\n",
       "\n",
       "    .dataframe thead th {\n",
       "        text-align: right;\n",
       "    }\n",
       "</style>\n",
       "<table border=\"1\" class=\"dataframe\">\n",
       "  <thead>\n",
       "    <tr style=\"text-align: right;\">\n",
       "      <th></th>\n",
       "      <th>P1</th>\n",
       "      <th>P2</th>\n",
       "      <th>P3</th>\n",
       "    </tr>\n",
       "  </thead>\n",
       "  <tbody>\n",
       "    <tr>\n",
       "      <th>A</th>\n",
       "      <td>1</td>\n",
       "      <td>1</td>\n",
       "      <td>0</td>\n",
       "    </tr>\n",
       "    <tr>\n",
       "      <th>B</th>\n",
       "      <td>0</td>\n",
       "      <td>2</td>\n",
       "      <td>-1</td>\n",
       "    </tr>\n",
       "    <tr>\n",
       "      <th>C</th>\n",
       "      <td>2</td>\n",
       "      <td>3</td>\n",
       "      <td>1</td>\n",
       "    </tr>\n",
       "    <tr>\n",
       "      <th>D</th>\n",
       "      <td>1</td>\n",
       "      <td>0</td>\n",
       "      <td>4</td>\n",
       "    </tr>\n",
       "  </tbody>\n",
       "</table>\n",
       "</div>"
      ],
      "text/plain": [
       "   P1  P2  P3\n",
       "A   1   1   0\n",
       "B   0   2  -1\n",
       "C   2   3   1\n",
       "D   1   0   4"
      ]
     },
     "execution_count": 55,
     "metadata": {},
     "output_type": "execute_result"
    }
   ],
   "source": [
    "df = pd.DataFrame.from_dict({'A': [1, 1, 0], 'B': [0, 2, -1], 'C': [2, 3, 1], 'D': [1, 0, 4]}, orient='index', columns=['P1', 'P2', 'P3'])\n",
    "df"
   ]
  },
  {
   "cell_type": "code",
   "execution_count": 56,
   "metadata": {},
   "outputs": [
    {
     "name": "stdout",
     "output_type": "stream",
     "text": [
      "[1, 1, 0]\n",
      "[0, 2, -1]\n",
      "[2, 3, 1]\n",
      "[1, 0, 4]\n"
     ]
    }
   ],
   "source": [
    "for i in df.index:\n",
    "    print(list(df.loc[i]))\n",
    "    globals()['x_' + str(i)] = list(df.loc[i])"
   ]
  },
  {
   "cell_type": "code",
   "execution_count": 57,
   "metadata": {},
   "outputs": [],
   "source": [
    "def manhet(list1, list2, list3, list4):\n",
    "    s = 0\n",
    "    for a, b, c, d in zip(list1, list2, list3, list4):\n",
    "        s += abs(a - b) + abs(a - c) + abs(a - d)\n",
    "    return s"
   ]
  },
  {
   "cell_type": "code",
   "execution_count": 58,
   "metadata": {},
   "outputs": [
    {
     "name": "stdout",
     "output_type": "stream",
     "text": [
      "A: 12\n",
      "B: 16\n",
      "C: 16\n",
      "D: 20\n"
     ]
    }
   ],
   "source": [
    "print('A:', manhet(x_A, x_B, x_C, x_D))\n",
    "print('B:', manhet(x_B, x_C, x_D, x_A))\n",
    "print('C:', manhet(x_C, x_D, x_A, x_B))\n",
    "print('D:', manhet(x_D, x_A, x_B, x_C))"
   ]
  },
  {
   "cell_type": "code",
   "execution_count": 59,
   "metadata": {},
   "outputs": [
    {
     "name": "stdout",
     "output_type": "stream",
     "text": [
      "D 20\n"
     ]
    }
   ],
   "source": [
    "data = np.array([[1, 1, 0], [0, 2, -1], [2, 3, 1], [1, 0, 4]])\n",
    "df = pd.DataFrame(data, columns=('P1', 'P2', 'P3'), index=('A', 'B', 'C', 'D'))\n",
    "metric_dict = {}\n",
    "for idx, row in df.iterrows():\n",
    "    res = (abs(df - df.loc[idx]).sum()).sum()\n",
    "    metric_dict[idx] = res\n",
    "k = sorted(metric_dict, key=metric_dict.__getitem__)[-1]\n",
    "print(k, metric_dict[k])"
   ]
  },
  {
   "cell_type": "code",
   "execution_count": 60,
   "metadata": {},
   "outputs": [
    {
     "name": "stdout",
     "output_type": "stream",
     "text": [
      "a - b: 3.872983346207417\n",
      "a - c: 3.605551275463989\n",
      "a - d: 3.4641016151377544\n",
      "a - e: 2.23606797749979\n"
     ]
    }
   ],
   "source": [
    "a = [0, 3, 4, 4, 1] \n",
    "b = [3, 0, 1 ,2, 5]\n",
    "c = [4, 1, 0, 3, 3]\n",
    "d = [3, 2, 3, 0, 4]\n",
    "e = [1, 5, 3, 4, 0]\n",
    "\n",
    "def dist(a, b):\n",
    "    return sum(np.abs(np.array(a) - np.array(b)))**0.5 \n",
    "\n",
    "print('a - b:', dist(a, b))\n",
    "print('a - c:', dist(a, c))\n",
    "print('a - d:', dist(a, d))\n",
    "print('a - e:', dist(a, e))"
   ]
  },
  {
   "cell_type": "markdown",
   "metadata": {},
   "source": [
    "Набор объектов A,B,C,D,E,F,G планируется разбить на 3 кластера. Для этого был применен графовый алгоритм и было построено остовное дерево минимального веса, состоящее из ребер AE, BD, CD, DF, ED, EG. Длины ребер соответственно равны 1, 2, 4, 1, 3, 2. Какие объекты попадут в один кластер с объектом A?"
   ]
  },
  {
   "cell_type": "code",
   "execution_count": 61,
   "metadata": {},
   "outputs": [
    {
     "data": {
      "text/plain": [
       "['G', 'E', 'A']"
      ]
     },
     "execution_count": 61,
     "metadata": {},
     "output_type": "execute_result"
    }
   ],
   "source": [
    "import networkx as nx\n",
    "\n",
    "G = nx.Graph() # Создаем граф и добавляем ребра\n",
    "edges = [(\"A\", \"E\", 1), (\"B\", \"D\", 2), (\"C\", \"D\", 4), (\"D\", \"F\", 1), (\"E\", \"D\", 3), (\"E\", \"G\", 2)]\n",
    "G.add_weighted_edges_from(edges)\n",
    "\n",
    "G.remove_edge(\"C\", \"D\")\n",
    "G.remove_edge(\"E\", \"D\")\n",
    "\n",
    "cluster_with_A = list(nx.node_connected_component(G, \"A\"))\n",
    "cluster_with_A\n"
   ]
  },
  {
   "cell_type": "code",
   "execution_count": 62,
   "metadata": {},
   "outputs": [
    {
     "name": "stdout",
     "output_type": "stream",
     "text": [
      "[1.  1.5 1. ]\n"
     ]
    }
   ],
   "source": [
    "features = np.array([[1, 1, 0], [0, 2, -1], [2, 3, 1], [1, 0, 4]])\n",
    "print(features.mean(axis=0))"
   ]
  },
  {
   "cell_type": "markdown",
   "metadata": {},
   "source": [
    "Какие объекты попадают в окружность с центром (1,2) и радиусом 2,5   (используется max-метрика)?"
   ]
  },
  {
   "cell_type": "code",
   "execution_count": 63,
   "metadata": {},
   "outputs": [
    {
     "data": {
      "text/html": [
       "<div>\n",
       "<style scoped>\n",
       "    .dataframe tbody tr th:only-of-type {\n",
       "        vertical-align: middle;\n",
       "    }\n",
       "\n",
       "    .dataframe tbody tr th {\n",
       "        vertical-align: top;\n",
       "    }\n",
       "\n",
       "    .dataframe thead th {\n",
       "        text-align: right;\n",
       "    }\n",
       "</style>\n",
       "<table border=\"1\" class=\"dataframe\">\n",
       "  <thead>\n",
       "    <tr style=\"text-align: right;\">\n",
       "      <th></th>\n",
       "      <th>Object</th>\n",
       "      <th>P1</th>\n",
       "      <th>P2</th>\n",
       "    </tr>\n",
       "  </thead>\n",
       "  <tbody>\n",
       "    <tr>\n",
       "      <th>0</th>\n",
       "      <td>A</td>\n",
       "      <td>4</td>\n",
       "      <td>2</td>\n",
       "    </tr>\n",
       "    <tr>\n",
       "      <th>1</th>\n",
       "      <td>B</td>\n",
       "      <td>3</td>\n",
       "      <td>2</td>\n",
       "    </tr>\n",
       "    <tr>\n",
       "      <th>2</th>\n",
       "      <td>C</td>\n",
       "      <td>1</td>\n",
       "      <td>-1</td>\n",
       "    </tr>\n",
       "    <tr>\n",
       "      <th>3</th>\n",
       "      <td>D</td>\n",
       "      <td>-1</td>\n",
       "      <td>1</td>\n",
       "    </tr>\n",
       "    <tr>\n",
       "      <th>4</th>\n",
       "      <td>E</td>\n",
       "      <td>0</td>\n",
       "      <td>4</td>\n",
       "    </tr>\n",
       "  </tbody>\n",
       "</table>\n",
       "</div>"
      ],
      "text/plain": [
       "  Object  P1  P2\n",
       "0      A   4   2\n",
       "1      B   3   2\n",
       "2      C   1  -1\n",
       "3      D  -1   1\n",
       "4      E   0   4"
      ]
     },
     "execution_count": 63,
     "metadata": {},
     "output_type": "execute_result"
    }
   ],
   "source": [
    "#инициализация исходных данных\n",
    "data = pd.DataFrame({'Object':['A','B','C','D','E'],'P1':[4,3,1,-1,0],'P2':[2,2,-1,1,4]})\n",
    "data"
   ]
  },
  {
   "cell_type": "code",
   "execution_count": 64,
   "metadata": {},
   "outputs": [
    {
     "name": "stderr",
     "output_type": "stream",
     "text": [
      "C:\\Users\\kuche\\AppData\\Local\\Temp\\ipykernel_18448\\4051848404.py:1: FutureWarning: Series.__getitem__ treating keys as positions is deprecated. In a future version, integer keys will always be treated as labels (consistent with DataFrame behavior). To access a value by position, use `ser.iloc[pos]`\n",
      "  data['R']=data[['P1','P2']].apply(lambda x: max(abs(x[0]-1),abs(x[1]-2)),axis=1)\n"
     ]
    },
    {
     "data": {
      "text/html": [
       "<div>\n",
       "<style scoped>\n",
       "    .dataframe tbody tr th:only-of-type {\n",
       "        vertical-align: middle;\n",
       "    }\n",
       "\n",
       "    .dataframe tbody tr th {\n",
       "        vertical-align: top;\n",
       "    }\n",
       "\n",
       "    .dataframe thead th {\n",
       "        text-align: right;\n",
       "    }\n",
       "</style>\n",
       "<table border=\"1\" class=\"dataframe\">\n",
       "  <thead>\n",
       "    <tr style=\"text-align: right;\">\n",
       "      <th></th>\n",
       "      <th>Object</th>\n",
       "      <th>P1</th>\n",
       "      <th>P2</th>\n",
       "      <th>R</th>\n",
       "      <th>isOk</th>\n",
       "    </tr>\n",
       "  </thead>\n",
       "  <tbody>\n",
       "    <tr>\n",
       "      <th>0</th>\n",
       "      <td>A</td>\n",
       "      <td>4</td>\n",
       "      <td>2</td>\n",
       "      <td>3</td>\n",
       "      <td>False</td>\n",
       "    </tr>\n",
       "    <tr>\n",
       "      <th>1</th>\n",
       "      <td>B</td>\n",
       "      <td>3</td>\n",
       "      <td>2</td>\n",
       "      <td>2</td>\n",
       "      <td>True</td>\n",
       "    </tr>\n",
       "    <tr>\n",
       "      <th>2</th>\n",
       "      <td>C</td>\n",
       "      <td>1</td>\n",
       "      <td>-1</td>\n",
       "      <td>3</td>\n",
       "      <td>False</td>\n",
       "    </tr>\n",
       "    <tr>\n",
       "      <th>3</th>\n",
       "      <td>D</td>\n",
       "      <td>-1</td>\n",
       "      <td>1</td>\n",
       "      <td>2</td>\n",
       "      <td>True</td>\n",
       "    </tr>\n",
       "    <tr>\n",
       "      <th>4</th>\n",
       "      <td>E</td>\n",
       "      <td>0</td>\n",
       "      <td>4</td>\n",
       "      <td>2</td>\n",
       "      <td>True</td>\n",
       "    </tr>\n",
       "  </tbody>\n",
       "</table>\n",
       "</div>"
      ],
      "text/plain": [
       "  Object  P1  P2  R   isOk\n",
       "0      A   4   2  3  False\n",
       "1      B   3   2  2   True\n",
       "2      C   1  -1  3  False\n",
       "3      D  -1   1  2   True\n",
       "4      E   0   4  2   True"
      ]
     },
     "execution_count": 64,
     "metadata": {},
     "output_type": "execute_result"
    }
   ],
   "source": [
    "data['R'] = data[['P1','P2']].apply(lambda x: max(abs(x[0]-1),abs(x[1]-2)),axis=1)\n",
    "data['isOk'] = data['R'] < 2.5\n",
    "data"
   ]
  },
  {
   "cell_type": "code",
   "execution_count": 65,
   "metadata": {},
   "outputs": [
    {
     "name": "stderr",
     "output_type": "stream",
     "text": [
      "C:\\Users\\kuche\\AppData\\Local\\Temp\\ipykernel_18448\\3204260063.py:3: FutureWarning: Series.__getitem__ treating keys as positions is deprecated. In a future version, integer keys will always be treated as labels (consistent with DataFrame behavior). To access a value by position, use `ser.iloc[pos]`\n",
      "  data['K'] = data[['P1','P2']].apply(lambda x: 1 if (abs(x[0]-2)+abs(x[1]-3))<=(abs(x[0]-1)+abs(x[1]-1)) else 2,axis=1)\n"
     ]
    },
    {
     "data": {
      "text/html": [
       "<div>\n",
       "<style scoped>\n",
       "    .dataframe tbody tr th:only-of-type {\n",
       "        vertical-align: middle;\n",
       "    }\n",
       "\n",
       "    .dataframe tbody tr th {\n",
       "        vertical-align: top;\n",
       "    }\n",
       "\n",
       "    .dataframe thead th {\n",
       "        text-align: right;\n",
       "    }\n",
       "</style>\n",
       "<table border=\"1\" class=\"dataframe\">\n",
       "  <thead>\n",
       "    <tr style=\"text-align: right;\">\n",
       "      <th></th>\n",
       "      <th>Object</th>\n",
       "      <th>P1</th>\n",
       "      <th>P2</th>\n",
       "      <th>K</th>\n",
       "    </tr>\n",
       "  </thead>\n",
       "  <tbody>\n",
       "    <tr>\n",
       "      <th>0</th>\n",
       "      <td>A</td>\n",
       "      <td>4</td>\n",
       "      <td>2</td>\n",
       "      <td>1</td>\n",
       "    </tr>\n",
       "    <tr>\n",
       "      <th>1</th>\n",
       "      <td>B</td>\n",
       "      <td>3</td>\n",
       "      <td>2</td>\n",
       "      <td>1</td>\n",
       "    </tr>\n",
       "    <tr>\n",
       "      <th>2</th>\n",
       "      <td>C</td>\n",
       "      <td>1</td>\n",
       "      <td>-1</td>\n",
       "      <td>2</td>\n",
       "    </tr>\n",
       "    <tr>\n",
       "      <th>3</th>\n",
       "      <td>D</td>\n",
       "      <td>-1</td>\n",
       "      <td>1</td>\n",
       "      <td>2</td>\n",
       "    </tr>\n",
       "    <tr>\n",
       "      <th>4</th>\n",
       "      <td>E</td>\n",
       "      <td>0</td>\n",
       "      <td>4</td>\n",
       "      <td>1</td>\n",
       "    </tr>\n",
       "  </tbody>\n",
       "</table>\n",
       "</div>"
      ],
      "text/plain": [
       "  Object  P1  P2  K\n",
       "0      A   4   2  1\n",
       "1      B   3   2  1\n",
       "2      C   1  -1  2\n",
       "3      D  -1   1  2\n",
       "4      E   0   4  1"
      ]
     },
     "execution_count": 65,
     "metadata": {},
     "output_type": "execute_result"
    }
   ],
   "source": [
    "#найдем какие точки ближе к (2,3), а какие к (1,1)\n",
    "data.drop(['R','isOk'], axis=1, inplace=True)\n",
    "data['K'] = data[['P1','P2']].apply(lambda x: 1 if (abs(x[0]-2)+abs(x[1]-3))<=(abs(x[0]-1)+abs(x[1]-1)) else 2,axis=1)\n",
    "data"
   ]
  },
  {
   "cell_type": "code",
   "execution_count": 82,
   "metadata": {},
   "outputs": [
    {
     "data": {
      "text/plain": [
       "Index(['B', 'D', 'E'], dtype='object')"
      ]
     },
     "execution_count": 82,
     "metadata": {},
     "output_type": "execute_result"
    }
   ],
   "source": [
    "df = pd.DataFrame(np.array([[4,2],[3,2],[1,-1],[-1,1],[0,4]]),\n",
    "                   columns=['P1', 'P2'], index=['A', 'B', 'C', 'D', 'E'])\n",
    "df.index[((df.P1 - 1).abs() <= 2.5) & ((df.P2 - 2).abs() <= 2.5)]"
   ]
  },
  {
   "cell_type": "code",
   "execution_count": 83,
   "metadata": {},
   "outputs": [
    {
     "data": {
      "text/html": [
       "<div>\n",
       "<style scoped>\n",
       "    .dataframe tbody tr th:only-of-type {\n",
       "        vertical-align: middle;\n",
       "    }\n",
       "\n",
       "    .dataframe tbody tr th {\n",
       "        vertical-align: top;\n",
       "    }\n",
       "\n",
       "    .dataframe thead th {\n",
       "        text-align: right;\n",
       "    }\n",
       "</style>\n",
       "<table border=\"1\" class=\"dataframe\">\n",
       "  <thead>\n",
       "    <tr style=\"text-align: right;\">\n",
       "      <th></th>\n",
       "      <th>P1</th>\n",
       "      <th>P2</th>\n",
       "    </tr>\n",
       "  </thead>\n",
       "  <tbody>\n",
       "    <tr>\n",
       "      <th>A</th>\n",
       "      <td>4</td>\n",
       "      <td>2</td>\n",
       "    </tr>\n",
       "    <tr>\n",
       "      <th>B</th>\n",
       "      <td>3</td>\n",
       "      <td>2</td>\n",
       "    </tr>\n",
       "    <tr>\n",
       "      <th>C</th>\n",
       "      <td>1</td>\n",
       "      <td>-1</td>\n",
       "    </tr>\n",
       "    <tr>\n",
       "      <th>D</th>\n",
       "      <td>-1</td>\n",
       "      <td>1</td>\n",
       "    </tr>\n",
       "    <tr>\n",
       "      <th>E</th>\n",
       "      <td>0</td>\n",
       "      <td>4</td>\n",
       "    </tr>\n",
       "  </tbody>\n",
       "</table>\n",
       "</div>"
      ],
      "text/plain": [
       "   P1  P2\n",
       "A   4   2\n",
       "B   3   2\n",
       "C   1  -1\n",
       "D  -1   1\n",
       "E   0   4"
      ]
     },
     "execution_count": 83,
     "metadata": {},
     "output_type": "execute_result"
    }
   ],
   "source": [
    "df"
   ]
  },
  {
   "cell_type": "code",
   "execution_count": null,
   "metadata": {},
   "outputs": [],
   "source": []
  }
 ],
 "metadata": {
  "kernelspec": {
   "display_name": "base",
   "language": "python",
   "name": "python3"
  },
  "language_info": {
   "codemirror_mode": {
    "name": "ipython",
    "version": 3
   },
   "file_extension": ".py",
   "mimetype": "text/x-python",
   "name": "python",
   "nbconvert_exporter": "python",
   "pygments_lexer": "ipython3",
   "version": "3.11.7"
  }
 },
 "nbformat": 4,
 "nbformat_minor": 2
}
