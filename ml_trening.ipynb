{
 "cells": [
  {
   "cell_type": "code",
   "execution_count": 74,
   "metadata": {},
   "outputs": [],
   "source": [
    "import pandas as pd\n",
    "import numpy as np"
   ]
  },
  {
   "cell_type": "code",
   "execution_count": 75,
   "metadata": {},
   "outputs": [],
   "source": [
    "my_dict = {'A':[1,1,0],\n",
    "        'B':[2,0,1],\n",
    "        'C':[0,1,5],\n",
    "        'D':[4,1,None]}"
   ]
  },
  {
   "cell_type": "code",
   "execution_count": 76,
   "metadata": {},
   "outputs": [],
   "source": [
    "df = pd.DataFrame.from_dict(data=my_dict, orient='index', columns=['P1', 'P2', 'P3'])"
   ]
  },
  {
   "cell_type": "code",
   "execution_count": 77,
   "metadata": {},
   "outputs": [
    {
     "data": {
      "text/html": [
       "<div>\n",
       "<style scoped>\n",
       "    .dataframe tbody tr th:only-of-type {\n",
       "        vertical-align: middle;\n",
       "    }\n",
       "\n",
       "    .dataframe tbody tr th {\n",
       "        vertical-align: top;\n",
       "    }\n",
       "\n",
       "    .dataframe thead th {\n",
       "        text-align: right;\n",
       "    }\n",
       "</style>\n",
       "<table border=\"1\" class=\"dataframe\">\n",
       "  <thead>\n",
       "    <tr style=\"text-align: right;\">\n",
       "      <th></th>\n",
       "      <th>P1</th>\n",
       "      <th>P2</th>\n",
       "      <th>P3</th>\n",
       "    </tr>\n",
       "  </thead>\n",
       "  <tbody>\n",
       "    <tr>\n",
       "      <th>A</th>\n",
       "      <td>1</td>\n",
       "      <td>1</td>\n",
       "      <td>0.0</td>\n",
       "    </tr>\n",
       "    <tr>\n",
       "      <th>B</th>\n",
       "      <td>2</td>\n",
       "      <td>0</td>\n",
       "      <td>1.0</td>\n",
       "    </tr>\n",
       "    <tr>\n",
       "      <th>C</th>\n",
       "      <td>0</td>\n",
       "      <td>1</td>\n",
       "      <td>5.0</td>\n",
       "    </tr>\n",
       "    <tr>\n",
       "      <th>D</th>\n",
       "      <td>4</td>\n",
       "      <td>1</td>\n",
       "      <td>NaN</td>\n",
       "    </tr>\n",
       "  </tbody>\n",
       "</table>\n",
       "</div>"
      ],
      "text/plain": [
       "   P1  P2   P3\n",
       "A   1   1  0.0\n",
       "B   2   0  1.0\n",
       "C   0   1  5.0\n",
       "D   4   1  NaN"
      ]
     },
     "execution_count": 77,
     "metadata": {},
     "output_type": "execute_result"
    }
   ],
   "source": [
    "df.head()"
   ]
  },
  {
   "cell_type": "code",
   "execution_count": 78,
   "metadata": {},
   "outputs": [
    {
     "data": {
      "text/plain": [
       "A    0.0\n",
       "B    1.0\n",
       "C    5.0\n",
       "D    2.0\n",
       "Name: P3, dtype: float64"
      ]
     },
     "execution_count": 78,
     "metadata": {},
     "output_type": "execute_result"
    }
   ],
   "source": [
    "df['P3'].fillna(np.mean(df['P3'].dropna()))"
   ]
  },
  {
   "cell_type": "code",
   "execution_count": 79,
   "metadata": {},
   "outputs": [
    {
     "data": {
      "text/plain": [
       "A    0.0\n",
       "B    1.0\n",
       "C    5.0\n",
       "D    1.0\n",
       "Name: P3, dtype: float64"
      ]
     },
     "execution_count": 79,
     "metadata": {},
     "output_type": "execute_result"
    }
   ],
   "source": [
    "df['P3'].fillna(np.median(df['P3'].dropna()))"
   ]
  },
  {
   "cell_type": "markdown",
   "metadata": {},
   "source": [
    "Метрики"
   ]
  },
  {
   "cell_type": "code",
   "execution_count": 80,
   "metadata": {},
   "outputs": [
    {
     "name": "stdout",
     "output_type": "stream",
     "text": [
      "Метрика Евклида: 2.8284271247461903\n",
      "Метрика Манхэттен: 4\n",
      "Макс-метрика: 2\n"
     ]
    }
   ],
   "source": [
    "P1 = [0, 1, 2]\n",
    "P2 = [2, 1, 0]\n",
    "evklid_metric = sum([((x - y)**2) for x, y in zip(P1, P2)])**0.5\n",
    "manh_metric = sum([abs(x - y) for x, y in zip(P1, P2)])\n",
    "max_metric = max([abs(x - y) for x, y in zip(P1, P2)])\n",
    "print(f'Метрика Евклида: {evklid_metric}\\nМетрика Манхэттен: {manh_metric}\\nМакс-метрика: {max_metric}')"
   ]
  },
  {
   "cell_type": "markdown",
   "metadata": {},
   "source": [
    "Нормализация"
   ]
  },
  {
   "cell_type": "code",
   "execution_count": 81,
   "metadata": {},
   "outputs": [
    {
     "name": "stdout",
     "output_type": "stream",
     "text": [
      "[0.2, 0.0, 1.0, 0.4, 0.4]\n"
     ]
    }
   ],
   "source": [
    "P = (1,0,5,2,2)\n",
    "min_max_normalization = [(x - min(P)) / (max(P) - min(P)) for x in P]\n",
    "print(min_max_normalization)"
   ]
  },
  {
   "cell_type": "code",
   "execution_count": 82,
   "metadata": {},
   "outputs": [
    {
     "name": "stdout",
     "output_type": "stream",
     "text": [
      "[0.2 0.  1.  0.4 0.4]\n"
     ]
    }
   ],
   "source": [
    "P = [1,0,5,2,2]\n",
    "n = ((np.array(P) - min(P))/(max(P) - min(P)))\n",
    "print(n)"
   ]
  },
  {
   "cell_type": "code",
   "execution_count": 83,
   "metadata": {},
   "outputs": [
    {
     "data": {
      "text/plain": [
       "array([[0.2],\n",
       "       [0. ],\n",
       "       [1. ],\n",
       "       [0.4],\n",
       "       [0.4]])"
      ]
     },
     "execution_count": 83,
     "metadata": {},
     "output_type": "execute_result"
    }
   ],
   "source": [
    "from sklearn.preprocessing import MinMaxScaler\n",
    "\n",
    "a = np.array([1, 0, 5, 2, 2]).reshape(-1, 1)\n",
    "scaler = MinMaxScaler()\n",
    "scaler.fit_transform(a)"
   ]
  },
  {
   "cell_type": "code",
   "execution_count": 84,
   "metadata": {},
   "outputs": [],
   "source": [
    "# P = (1,0,5,2,2)\n",
    "# P_mean = np.mean(P)\n",
    "# P_n = len(P)\n",
    "# P_std = (sum([((x - P_mean)**2) for x in P]) / P_n) ** 0.5\n",
    "# min_std_normalization = [(x - P_mean) / P_std for x in P]\n",
    "# min_std_normalization"
   ]
  },
  {
   "cell_type": "code",
   "execution_count": 85,
   "metadata": {},
   "outputs": [
    {
     "data": {
      "text/plain": [
       "array([-0.5976143 , -1.19522861,  1.79284291,  0.        ,  0.        ])"
      ]
     },
     "execution_count": 85,
     "metadata": {},
     "output_type": "execute_result"
    }
   ],
   "source": [
    "P = (1,0,5,2,2)\n",
    "n = (np.array(P) - np.mean(P)) / np.std(P)\n",
    "n"
   ]
  },
  {
   "cell_type": "code",
   "execution_count": 86,
   "metadata": {},
   "outputs": [
    {
     "data": {
      "text/plain": [
       "array([[-0.5976143 ],\n",
       "       [-1.19522861],\n",
       "       [ 1.79284291],\n",
       "       [ 0.        ],\n",
       "       [ 0.        ]])"
      ]
     },
     "execution_count": 86,
     "metadata": {},
     "output_type": "execute_result"
    }
   ],
   "source": [
    "from sklearn.preprocessing import StandardScaler\n",
    "\n",
    "a = np.array([1, 0, 5, 2, 2]).reshape(-1, 1)\n",
    "scaler = StandardScaler()\n",
    "scaler.fit_transform(a)"
   ]
  },
  {
   "cell_type": "markdown",
   "metadata": {},
   "source": [
    "Заполнение пропущенного значения по метрике Манхэттен "
   ]
  },
  {
   "cell_type": "code",
   "execution_count": 87,
   "metadata": {},
   "outputs": [
    {
     "name": "stdout",
     "output_type": "stream",
     "text": [
      "4.090909090909092\n"
     ]
    }
   ],
   "source": [
    "import pandas as pd\n",
    "from sklearn.metrics.pairwise import manhattan_distances\n",
    "\n",
    "my_dict = {'Vasia': [5, 5, 5, 3],\n",
    "           'Petia': [5, 3, 4, 4],\n",
    "           'Masha': [2, 5, 3, 5],\n",
    "           'Sasha': [3, 4, 4, None]}\n",
    "\n",
    "df = pd.DataFrame.from_dict(data=my_dict, orient='index', columns=['Silence', 'Titanic', 'Matrix', 'Harry'])\n",
    "\n",
    "md = manhattan_distances(df.iloc[0:3, 0:3], [df.iloc[3, 0:3]]).reshape(3)\n",
    "norm_mul = 1 / ((1 / md)).sum()\n",
    "sim = ((df.iloc[0:3, 3]/md)).sum()\n",
    "print(norm_mul*sim)"
   ]
  },
  {
   "cell_type": "code",
   "execution_count": 88,
   "metadata": {},
   "outputs": [
    {
     "data": {
      "text/html": [
       "<div>\n",
       "<style scoped>\n",
       "    .dataframe tbody tr th:only-of-type {\n",
       "        vertical-align: middle;\n",
       "    }\n",
       "\n",
       "    .dataframe tbody tr th {\n",
       "        vertical-align: top;\n",
       "    }\n",
       "\n",
       "    .dataframe thead th {\n",
       "        text-align: right;\n",
       "    }\n",
       "</style>\n",
       "<table border=\"1\" class=\"dataframe\">\n",
       "  <thead>\n",
       "    <tr style=\"text-align: right;\">\n",
       "      <th></th>\n",
       "      <th>Silence</th>\n",
       "      <th>Titanic</th>\n",
       "      <th>Matrix</th>\n",
       "      <th>Harry</th>\n",
       "    </tr>\n",
       "  </thead>\n",
       "  <tbody>\n",
       "    <tr>\n",
       "      <th>Vasia</th>\n",
       "      <td>5</td>\n",
       "      <td>5</td>\n",
       "      <td>5</td>\n",
       "      <td>3.0</td>\n",
       "    </tr>\n",
       "    <tr>\n",
       "      <th>Petia</th>\n",
       "      <td>5</td>\n",
       "      <td>3</td>\n",
       "      <td>4</td>\n",
       "      <td>4.0</td>\n",
       "    </tr>\n",
       "    <tr>\n",
       "      <th>Masha</th>\n",
       "      <td>2</td>\n",
       "      <td>5</td>\n",
       "      <td>3</td>\n",
       "      <td>5.0</td>\n",
       "    </tr>\n",
       "    <tr>\n",
       "      <th>Sasha</th>\n",
       "      <td>3</td>\n",
       "      <td>4</td>\n",
       "      <td>4</td>\n",
       "      <td>NaN</td>\n",
       "    </tr>\n",
       "  </tbody>\n",
       "</table>\n",
       "</div>"
      ],
      "text/plain": [
       "       Silence  Titanic  Matrix  Harry\n",
       "Vasia        5        5       5    3.0\n",
       "Petia        5        3       4    4.0\n",
       "Masha        2        5       3    5.0\n",
       "Sasha        3        4       4    NaN"
      ]
     },
     "execution_count": 88,
     "metadata": {},
     "output_type": "execute_result"
    }
   ],
   "source": [
    "df"
   ]
  },
  {
   "cell_type": "code",
   "execution_count": 89,
   "metadata": {},
   "outputs": [
    {
     "data": {
      "text/html": [
       "<div>\n",
       "<style scoped>\n",
       "    .dataframe tbody tr th:only-of-type {\n",
       "        vertical-align: middle;\n",
       "    }\n",
       "\n",
       "    .dataframe tbody tr th {\n",
       "        vertical-align: top;\n",
       "    }\n",
       "\n",
       "    .dataframe thead th {\n",
       "        text-align: right;\n",
       "    }\n",
       "</style>\n",
       "<table border=\"1\" class=\"dataframe\">\n",
       "  <thead>\n",
       "    <tr style=\"text-align: right;\">\n",
       "      <th></th>\n",
       "      <th>Silence</th>\n",
       "      <th>Titanic</th>\n",
       "      <th>Matrix</th>\n",
       "    </tr>\n",
       "  </thead>\n",
       "  <tbody>\n",
       "    <tr>\n",
       "      <th>Vasia</th>\n",
       "      <td>5</td>\n",
       "      <td>5</td>\n",
       "      <td>5</td>\n",
       "    </tr>\n",
       "  </tbody>\n",
       "</table>\n",
       "</div>"
      ],
      "text/plain": [
       "       Silence  Titanic  Matrix\n",
       "Vasia        5        5       5"
      ]
     },
     "execution_count": 89,
     "metadata": {},
     "output_type": "execute_result"
    }
   ],
   "source": [
    "df.loc[['Vasia'],['Silence', 'Titanic',\t'Matrix']]"
   ]
  },
  {
   "cell_type": "code",
   "execution_count": 90,
   "metadata": {},
   "outputs": [
    {
     "name": "stdout",
     "output_type": "stream",
     "text": [
      "4.0 3.0 3.0\n"
     ]
    },
    {
     "data": {
      "text/plain": [
       "4.090909090909092"
      ]
     },
     "execution_count": 90,
     "metadata": {},
     "output_type": "execute_result"
    }
   ],
   "source": [
    "a = np.abs(df.loc['Vasia',['Silence', 'Titanic', 'Matrix']] - df.loc[['Sasha'],['Silence', 'Titanic', 'Matrix']]).sum(axis=1).sum()\n",
    "b = np.abs(df.loc['Petia',['Silence', 'Titanic', 'Matrix']] - df.loc[['Sasha'],['Silence', 'Titanic', 'Matrix']]).sum(axis=1).sum()\n",
    "c = np.abs(df.loc['Masha',['Silence', 'Titanic', 'Matrix']] - df.loc[['Sasha'],['Silence', 'Titanic', 'Matrix']]).sum(axis=1).sum()\n",
    "print(a,b,c)\n",
    "\n",
    "(1 / ((1 / a) + (1 / b) + (1/c))) * \\\n",
    "((df.loc['Vasia','Harry'] / a) + \\\n",
    "(df.loc['Petia','Harry'] / b) + \\\n",
    "(df.loc['Masha','Harry'] / c))"
   ]
  },
  {
   "cell_type": "code",
   "execution_count": 91,
   "metadata": {},
   "outputs": [
    {
     "data": {
      "text/plain": [
       "1.7320508075688772"
      ]
     },
     "execution_count": 91,
     "metadata": {},
     "output_type": "execute_result"
    }
   ],
   "source": [
    "A = [1,0,1,0,1,0]\n",
    "C = [1,1,0,1,1,0]\n",
    "evklid_metric = sum([(x-y)**2 for x, y in zip(A,C)])**0.5\n",
    "evklid_metric"
   ]
  },
  {
   "cell_type": "code",
   "execution_count": 92,
   "metadata": {},
   "outputs": [
    {
     "name": "stdout",
     "output_type": "stream",
     "text": [
      "1.73\n"
     ]
    }
   ],
   "source": [
    "from scipy.spatial.distance import euclidean\n",
    "\n",
    "A = (1, 0, 1, 0, 1, 0)\n",
    "C = (1, 1, 0, 1, 1, 0)\n",
    "\n",
    "print(round(euclidean(A, C), 2))"
   ]
  },
  {
   "cell_type": "markdown",
   "metadata": {},
   "source": [
    "Выбросы"
   ]
  },
  {
   "cell_type": "code",
   "execution_count": 93,
   "metadata": {},
   "outputs": [
    {
     "name": "stdout",
     "output_type": "stream",
     "text": [
      "[8, -1.5, 7.5]\n"
     ]
    }
   ],
   "source": [
    "q_25, q_75 = 2, 4\n",
    "p = [8, -1.5, 7.5, 0, 3, 6.5, 0.5]\n",
    "\n",
    "p_min = q_25 - 1.5 * (q_75 - q_25)\n",
    "p_max = q_75 + 1.5 * (q_75 - q_25)\n",
    "\n",
    "p = filter(lambda x: x < p_min or x > p_max, p)\n",
    "print(list(p))"
   ]
  },
  {
   "cell_type": "code",
   "execution_count": 94,
   "metadata": {},
   "outputs": [
    {
     "name": "stdout",
     "output_type": "stream",
     "text": [
      "7 13 \n",
      "7 13\n"
     ]
    }
   ],
   "source": [
    "mean, std, median, n = 10, 1.1, 9, 10\n",
    "\n",
    "P = [13.5, 14, 7, 6, 6.5, 13]\n",
    "\n",
    "(mean - median) <= 3*std / np.sqrt(n)\n",
    "\n",
    "for i in P:\n",
    "    if (mean - 3*std) < i < (mean + 3*std):\n",
    "        print(i, end=' ')\n",
    "print()\n",
    "\n",
    "def is_outliers(P) -> list:\n",
    "    if (mean - median) <= 3*std / np.sqrt(n):\n",
    "        return list(filter(lambda x: (mean - 3*std) < x < (mean + 3*std), P))\n",
    "    list(filter(lambda x: (mean - 5*std) < x < (mean + 5*std), P))\n",
    "\n",
    "result = is_outliers(P)\n",
    "print(*result)"
   ]
  },
  {
   "cell_type": "code",
   "execution_count": 95,
   "metadata": {},
   "outputs": [
    {
     "data": {
      "text/html": [
       "<div>\n",
       "<style scoped>\n",
       "    .dataframe tbody tr th:only-of-type {\n",
       "        vertical-align: middle;\n",
       "    }\n",
       "\n",
       "    .dataframe tbody tr th {\n",
       "        vertical-align: top;\n",
       "    }\n",
       "\n",
       "    .dataframe thead th {\n",
       "        text-align: right;\n",
       "    }\n",
       "</style>\n",
       "<table border=\"1\" class=\"dataframe\">\n",
       "  <thead>\n",
       "    <tr style=\"text-align: right;\">\n",
       "      <th></th>\n",
       "      <th>P1</th>\n",
       "      <th>P2</th>\n",
       "      <th>P3</th>\n",
       "    </tr>\n",
       "  </thead>\n",
       "  <tbody>\n",
       "    <tr>\n",
       "      <th>A</th>\n",
       "      <td>1</td>\n",
       "      <td>1</td>\n",
       "      <td>0</td>\n",
       "    </tr>\n",
       "    <tr>\n",
       "      <th>B</th>\n",
       "      <td>0</td>\n",
       "      <td>2</td>\n",
       "      <td>-1</td>\n",
       "    </tr>\n",
       "    <tr>\n",
       "      <th>C</th>\n",
       "      <td>2</td>\n",
       "      <td>3</td>\n",
       "      <td>1</td>\n",
       "    </tr>\n",
       "    <tr>\n",
       "      <th>D</th>\n",
       "      <td>1</td>\n",
       "      <td>0</td>\n",
       "      <td>4</td>\n",
       "    </tr>\n",
       "  </tbody>\n",
       "</table>\n",
       "</div>"
      ],
      "text/plain": [
       "   P1  P2  P3\n",
       "A   1   1   0\n",
       "B   0   2  -1\n",
       "C   2   3   1\n",
       "D   1   0   4"
      ]
     },
     "execution_count": 95,
     "metadata": {},
     "output_type": "execute_result"
    }
   ],
   "source": [
    "df = pd.DataFrame.from_dict({'A': [1, 1, 0], 'B': [0, 2, -1], 'C': [2, 3, 1], 'D': [1, 0, 4]}, orient='index', columns=['P1', 'P2', 'P3'])\n",
    "df"
   ]
  },
  {
   "cell_type": "code",
   "execution_count": 96,
   "metadata": {},
   "outputs": [
    {
     "name": "stdout",
     "output_type": "stream",
     "text": [
      "[1, 1, 0]\n",
      "[0, 2, -1]\n",
      "[2, 3, 1]\n",
      "[1, 0, 4]\n"
     ]
    }
   ],
   "source": [
    "for i in df.index:\n",
    "    print(list(df.loc[i]))\n",
    "    globals()['x_' + str(i)] = list(df.loc[i])"
   ]
  },
  {
   "cell_type": "code",
   "execution_count": 97,
   "metadata": {},
   "outputs": [],
   "source": [
    "def manhet(list1, list2, list3, list4):\n",
    "    s = 0\n",
    "    for a, b, c, d in zip(list1, list2, list3, list4):\n",
    "        s += abs(a - b) + abs(a - c) + abs(a - d)\n",
    "    return s"
   ]
  },
  {
   "cell_type": "code",
   "execution_count": 98,
   "metadata": {},
   "outputs": [
    {
     "name": "stdout",
     "output_type": "stream",
     "text": [
      "A: 12\n",
      "B: 16\n",
      "C: 16\n",
      "D: 20\n"
     ]
    }
   ],
   "source": [
    "print('A:', manhet(x_A, x_B, x_C, x_D))\n",
    "print('B:', manhet(x_B, x_C, x_D, x_A))\n",
    "print('C:', manhet(x_C, x_D, x_A, x_B))\n",
    "print('D:', manhet(x_D, x_A, x_B, x_C))"
   ]
  },
  {
   "cell_type": "code",
   "execution_count": 99,
   "metadata": {},
   "outputs": [
    {
     "name": "stdout",
     "output_type": "stream",
     "text": [
      "D 20\n"
     ]
    }
   ],
   "source": [
    "data = np.array([[1, 1, 0], [0, 2, -1], [2, 3, 1], [1, 0, 4]])\n",
    "df = pd.DataFrame(data, columns=('P1', 'P2', 'P3'), index=('A', 'B', 'C', 'D'))\n",
    "metric_dict = {}\n",
    "for idx, row in df.iterrows():\n",
    "    res = (abs(df - df.loc[idx]).sum()).sum()\n",
    "    metric_dict[idx] = res\n",
    "k = sorted(metric_dict, key=metric_dict.__getitem__)[-1]\n",
    "print(k, metric_dict[k])"
   ]
  },
  {
   "cell_type": "code",
   "execution_count": 100,
   "metadata": {},
   "outputs": [
    {
     "data": {
      "text/html": [
       "<div>\n",
       "<style scoped>\n",
       "    .dataframe tbody tr th:only-of-type {\n",
       "        vertical-align: middle;\n",
       "    }\n",
       "\n",
       "    .dataframe tbody tr th {\n",
       "        vertical-align: top;\n",
       "    }\n",
       "\n",
       "    .dataframe thead th {\n",
       "        text-align: right;\n",
       "    }\n",
       "</style>\n",
       "<table border=\"1\" class=\"dataframe\">\n",
       "  <thead>\n",
       "    <tr style=\"text-align: right;\">\n",
       "      <th></th>\n",
       "      <th>P1</th>\n",
       "      <th>P2</th>\n",
       "      <th>P3</th>\n",
       "    </tr>\n",
       "  </thead>\n",
       "  <tbody>\n",
       "    <tr>\n",
       "      <th>A</th>\n",
       "      <td>1</td>\n",
       "      <td>1</td>\n",
       "      <td>0</td>\n",
       "    </tr>\n",
       "    <tr>\n",
       "      <th>B</th>\n",
       "      <td>0</td>\n",
       "      <td>2</td>\n",
       "      <td>-1</td>\n",
       "    </tr>\n",
       "    <tr>\n",
       "      <th>C</th>\n",
       "      <td>2</td>\n",
       "      <td>3</td>\n",
       "      <td>1</td>\n",
       "    </tr>\n",
       "    <tr>\n",
       "      <th>D</th>\n",
       "      <td>1</td>\n",
       "      <td>0</td>\n",
       "      <td>4</td>\n",
       "    </tr>\n",
       "  </tbody>\n",
       "</table>\n",
       "</div>"
      ],
      "text/plain": [
       "   P1  P2  P3\n",
       "A   1   1   0\n",
       "B   0   2  -1\n",
       "C   2   3   1\n",
       "D   1   0   4"
      ]
     },
     "execution_count": 100,
     "metadata": {},
     "output_type": "execute_result"
    }
   ],
   "source": [
    "df"
   ]
  },
  {
   "cell_type": "code",
   "execution_count": 101,
   "metadata": {},
   "outputs": [
    {
     "name": "stdout",
     "output_type": "stream",
     "text": [
      "a - b: 3.872983346207417\n",
      "a - c: 3.605551275463989\n",
      "a - d: 3.4641016151377544\n",
      "a - e: 2.23606797749979\n"
     ]
    }
   ],
   "source": [
    "a = [0, 3, 4, 4, 1] \n",
    "b = [3, 0, 1 ,2, 5]\n",
    "c = [4, 1, 0, 3, 3]\n",
    "d = [3, 2, 3, 0, 4]\n",
    "e = [1, 5, 3, 4, 0]\n",
    "\n",
    "def dist(a, b):\n",
    "    return sum(np.abs(np.array(a) - np.array(b)))**0.5 \n",
    "\n",
    "print('a - b:', dist(a, b))\n",
    "print('a - c:', dist(a, c))\n",
    "print('a - d:', dist(a, d))\n",
    "print('a - e:', dist(a, e))"
   ]
  },
  {
   "cell_type": "markdown",
   "metadata": {},
   "source": [
    "Набор объектов A,B,C,D,E,F,G планируется разбить на 3 кластера. Для этого был применен графовый алгоритм и было построено остовное дерево минимального веса, состоящее из ребер AE, BD, CD, DF, ED, EG. Длины ребер соответственно равны 1, 2, 4, 1, 3, 2. Какие объекты попадут в один кластер с объектом A?"
   ]
  },
  {
   "cell_type": "code",
   "execution_count": 102,
   "metadata": {},
   "outputs": [
    {
     "data": {
      "text/plain": [
       "['A', 'G', 'E']"
      ]
     },
     "execution_count": 102,
     "metadata": {},
     "output_type": "execute_result"
    }
   ],
   "source": [
    "import networkx as nx\n",
    "\n",
    "G = nx.Graph() # Создаем граф и добавляем ребра\n",
    "edges = [(\"A\", \"E\", 1), (\"B\", \"D\", 2), (\"C\", \"D\", 4), (\"D\", \"F\", 1), (\"E\", \"D\", 3), (\"E\", \"G\", 2)]\n",
    "G.add_weighted_edges_from(edges)\n",
    "\n",
    "G.remove_edge(\"C\", \"D\")\n",
    "G.remove_edge(\"E\", \"D\")\n",
    "\n",
    "cluster_with_A = list(nx.node_connected_component(G, \"A\"))\n",
    "cluster_with_A\n"
   ]
  },
  {
   "cell_type": "code",
   "execution_count": 103,
   "metadata": {},
   "outputs": [
    {
     "name": "stdout",
     "output_type": "stream",
     "text": [
      "[1.  1.5 1. ]\n"
     ]
    }
   ],
   "source": [
    "features = np.array([[1, 1, 0], [0, 2, -1], [2, 3, 1], [1, 0, 4]])\n",
    "print(features.mean(axis=0))"
   ]
  },
  {
   "cell_type": "markdown",
   "metadata": {},
   "source": [
    "Какие объекты попадают в окружность с центром (1,2) и радиусом 2,5   (используется max-метрика)?"
   ]
  },
  {
   "cell_type": "code",
   "execution_count": 104,
   "metadata": {},
   "outputs": [
    {
     "data": {
      "text/html": [
       "<div>\n",
       "<style scoped>\n",
       "    .dataframe tbody tr th:only-of-type {\n",
       "        vertical-align: middle;\n",
       "    }\n",
       "\n",
       "    .dataframe tbody tr th {\n",
       "        vertical-align: top;\n",
       "    }\n",
       "\n",
       "    .dataframe thead th {\n",
       "        text-align: right;\n",
       "    }\n",
       "</style>\n",
       "<table border=\"1\" class=\"dataframe\">\n",
       "  <thead>\n",
       "    <tr style=\"text-align: right;\">\n",
       "      <th></th>\n",
       "      <th>Object</th>\n",
       "      <th>P1</th>\n",
       "      <th>P2</th>\n",
       "    </tr>\n",
       "  </thead>\n",
       "  <tbody>\n",
       "    <tr>\n",
       "      <th>0</th>\n",
       "      <td>A</td>\n",
       "      <td>4</td>\n",
       "      <td>2</td>\n",
       "    </tr>\n",
       "    <tr>\n",
       "      <th>1</th>\n",
       "      <td>B</td>\n",
       "      <td>3</td>\n",
       "      <td>2</td>\n",
       "    </tr>\n",
       "    <tr>\n",
       "      <th>2</th>\n",
       "      <td>C</td>\n",
       "      <td>1</td>\n",
       "      <td>-1</td>\n",
       "    </tr>\n",
       "    <tr>\n",
       "      <th>3</th>\n",
       "      <td>D</td>\n",
       "      <td>-1</td>\n",
       "      <td>1</td>\n",
       "    </tr>\n",
       "    <tr>\n",
       "      <th>4</th>\n",
       "      <td>E</td>\n",
       "      <td>0</td>\n",
       "      <td>4</td>\n",
       "    </tr>\n",
       "  </tbody>\n",
       "</table>\n",
       "</div>"
      ],
      "text/plain": [
       "  Object  P1  P2\n",
       "0      A   4   2\n",
       "1      B   3   2\n",
       "2      C   1  -1\n",
       "3      D  -1   1\n",
       "4      E   0   4"
      ]
     },
     "execution_count": 104,
     "metadata": {},
     "output_type": "execute_result"
    }
   ],
   "source": [
    "#инициализация исходных данных\n",
    "data = pd.DataFrame({'Object':['A','B','C','D','E'],'P1':[4,3,1,-1,0],'P2':[2,2,-1,1,4]})\n",
    "data"
   ]
  },
  {
   "cell_type": "code",
   "execution_count": 105,
   "metadata": {},
   "outputs": [
    {
     "data": {
      "text/html": [
       "<div>\n",
       "<style scoped>\n",
       "    .dataframe tbody tr th:only-of-type {\n",
       "        vertical-align: middle;\n",
       "    }\n",
       "\n",
       "    .dataframe tbody tr th {\n",
       "        vertical-align: top;\n",
       "    }\n",
       "\n",
       "    .dataframe thead th {\n",
       "        text-align: right;\n",
       "    }\n",
       "</style>\n",
       "<table border=\"1\" class=\"dataframe\">\n",
       "  <thead>\n",
       "    <tr style=\"text-align: right;\">\n",
       "      <th></th>\n",
       "      <th>Object</th>\n",
       "      <th>P1</th>\n",
       "      <th>P2</th>\n",
       "      <th>R</th>\n",
       "      <th>isOk</th>\n",
       "    </tr>\n",
       "  </thead>\n",
       "  <tbody>\n",
       "    <tr>\n",
       "      <th>0</th>\n",
       "      <td>A</td>\n",
       "      <td>4</td>\n",
       "      <td>2</td>\n",
       "      <td>3</td>\n",
       "      <td>False</td>\n",
       "    </tr>\n",
       "    <tr>\n",
       "      <th>1</th>\n",
       "      <td>B</td>\n",
       "      <td>3</td>\n",
       "      <td>2</td>\n",
       "      <td>2</td>\n",
       "      <td>True</td>\n",
       "    </tr>\n",
       "    <tr>\n",
       "      <th>2</th>\n",
       "      <td>C</td>\n",
       "      <td>1</td>\n",
       "      <td>-1</td>\n",
       "      <td>3</td>\n",
       "      <td>False</td>\n",
       "    </tr>\n",
       "    <tr>\n",
       "      <th>3</th>\n",
       "      <td>D</td>\n",
       "      <td>-1</td>\n",
       "      <td>1</td>\n",
       "      <td>2</td>\n",
       "      <td>True</td>\n",
       "    </tr>\n",
       "    <tr>\n",
       "      <th>4</th>\n",
       "      <td>E</td>\n",
       "      <td>0</td>\n",
       "      <td>4</td>\n",
       "      <td>2</td>\n",
       "      <td>True</td>\n",
       "    </tr>\n",
       "  </tbody>\n",
       "</table>\n",
       "</div>"
      ],
      "text/plain": [
       "  Object  P1  P2  R   isOk\n",
       "0      A   4   2  3  False\n",
       "1      B   3   2  2   True\n",
       "2      C   1  -1  3  False\n",
       "3      D  -1   1  2   True\n",
       "4      E   0   4  2   True"
      ]
     },
     "execution_count": 105,
     "metadata": {},
     "output_type": "execute_result"
    }
   ],
   "source": [
    "data['R'] = data[['P1','P2']].apply(lambda x: max(abs(x[0]-1),abs(x[1]-2)),axis=1)\n",
    "data['isOk'] = data['R'] < 2.5\n",
    "data"
   ]
  },
  {
   "cell_type": "code",
   "execution_count": 106,
   "metadata": {},
   "outputs": [
    {
     "data": {
      "text/html": [
       "<div>\n",
       "<style scoped>\n",
       "    .dataframe tbody tr th:only-of-type {\n",
       "        vertical-align: middle;\n",
       "    }\n",
       "\n",
       "    .dataframe tbody tr th {\n",
       "        vertical-align: top;\n",
       "    }\n",
       "\n",
       "    .dataframe thead th {\n",
       "        text-align: right;\n",
       "    }\n",
       "</style>\n",
       "<table border=\"1\" class=\"dataframe\">\n",
       "  <thead>\n",
       "    <tr style=\"text-align: right;\">\n",
       "      <th></th>\n",
       "      <th>Object</th>\n",
       "      <th>P1</th>\n",
       "      <th>P2</th>\n",
       "      <th>K</th>\n",
       "    </tr>\n",
       "  </thead>\n",
       "  <tbody>\n",
       "    <tr>\n",
       "      <th>0</th>\n",
       "      <td>A</td>\n",
       "      <td>4</td>\n",
       "      <td>2</td>\n",
       "      <td>1</td>\n",
       "    </tr>\n",
       "    <tr>\n",
       "      <th>1</th>\n",
       "      <td>B</td>\n",
       "      <td>3</td>\n",
       "      <td>2</td>\n",
       "      <td>1</td>\n",
       "    </tr>\n",
       "    <tr>\n",
       "      <th>2</th>\n",
       "      <td>C</td>\n",
       "      <td>1</td>\n",
       "      <td>-1</td>\n",
       "      <td>2</td>\n",
       "    </tr>\n",
       "    <tr>\n",
       "      <th>3</th>\n",
       "      <td>D</td>\n",
       "      <td>-1</td>\n",
       "      <td>1</td>\n",
       "      <td>2</td>\n",
       "    </tr>\n",
       "    <tr>\n",
       "      <th>4</th>\n",
       "      <td>E</td>\n",
       "      <td>0</td>\n",
       "      <td>4</td>\n",
       "      <td>1</td>\n",
       "    </tr>\n",
       "  </tbody>\n",
       "</table>\n",
       "</div>"
      ],
      "text/plain": [
       "  Object  P1  P2  K\n",
       "0      A   4   2  1\n",
       "1      B   3   2  1\n",
       "2      C   1  -1  2\n",
       "3      D  -1   1  2\n",
       "4      E   0   4  1"
      ]
     },
     "execution_count": 106,
     "metadata": {},
     "output_type": "execute_result"
    }
   ],
   "source": [
    "#найдем какие точки ближе к (2,3), а какие к (1,1)\n",
    "data.drop(['R','isOk'], axis=1, inplace=True)\n",
    "data['K'] = data[['P1','P2']].apply(lambda x: 1 if (abs(x[0]-2)+abs(x[1]-3))<=(abs(x[0]-1)+abs(x[1]-1)) else 2,axis=1)\n",
    "data"
   ]
  },
  {
   "cell_type": "code",
   "execution_count": 107,
   "metadata": {},
   "outputs": [
    {
     "data": {
      "text/plain": [
       "Index(['B', 'D', 'E'], dtype='object')"
      ]
     },
     "execution_count": 107,
     "metadata": {},
     "output_type": "execute_result"
    }
   ],
   "source": [
    "df = pd.DataFrame(np.array([[4,2],[3,2],[1,-1],[-1,1],[0,4]]),\n",
    "                   columns=['P1', 'P2'], index=['A', 'B', 'C', 'D', 'E'])\n",
    "df.index[((df.P1 - 1).abs() <= 2.5) & ((df.P2 - 2).abs() <= 2.5)]"
   ]
  },
  {
   "cell_type": "code",
   "execution_count": 108,
   "metadata": {},
   "outputs": [
    {
     "data": {
      "text/html": [
       "<div>\n",
       "<style scoped>\n",
       "    .dataframe tbody tr th:only-of-type {\n",
       "        vertical-align: middle;\n",
       "    }\n",
       "\n",
       "    .dataframe tbody tr th {\n",
       "        vertical-align: top;\n",
       "    }\n",
       "\n",
       "    .dataframe thead th {\n",
       "        text-align: right;\n",
       "    }\n",
       "</style>\n",
       "<table border=\"1\" class=\"dataframe\">\n",
       "  <thead>\n",
       "    <tr style=\"text-align: right;\">\n",
       "      <th></th>\n",
       "      <th>P1</th>\n",
       "      <th>P2</th>\n",
       "    </tr>\n",
       "  </thead>\n",
       "  <tbody>\n",
       "    <tr>\n",
       "      <th>A</th>\n",
       "      <td>4</td>\n",
       "      <td>2</td>\n",
       "    </tr>\n",
       "    <tr>\n",
       "      <th>B</th>\n",
       "      <td>3</td>\n",
       "      <td>2</td>\n",
       "    </tr>\n",
       "    <tr>\n",
       "      <th>C</th>\n",
       "      <td>1</td>\n",
       "      <td>-1</td>\n",
       "    </tr>\n",
       "    <tr>\n",
       "      <th>D</th>\n",
       "      <td>-1</td>\n",
       "      <td>1</td>\n",
       "    </tr>\n",
       "    <tr>\n",
       "      <th>E</th>\n",
       "      <td>0</td>\n",
       "      <td>4</td>\n",
       "    </tr>\n",
       "  </tbody>\n",
       "</table>\n",
       "</div>"
      ],
      "text/plain": [
       "   P1  P2\n",
       "A   4   2\n",
       "B   3   2\n",
       "C   1  -1\n",
       "D  -1   1\n",
       "E   0   4"
      ]
     },
     "execution_count": 108,
     "metadata": {},
     "output_type": "execute_result"
    }
   ],
   "source": [
    "df"
   ]
  },
  {
   "cell_type": "markdown",
   "metadata": {},
   "source": [
    "MAE MAPE"
   ]
  },
  {
   "cell_type": "code",
   "execution_count": 109,
   "metadata": {},
   "outputs": [
    {
     "data": {
      "text/plain": [
       "(0.9, 33.166666666666664)"
      ]
     },
     "execution_count": 109,
     "metadata": {},
     "output_type": "execute_result"
    }
   ],
   "source": [
    "Y = [1, 2, 3, 4, 5, -1, -2, -3, -4, -5]\n",
    "Y_ = [0, 2, 2, 5, 3, -1, -1, -4, -6, -5]\n",
    "n = len(Y)\n",
    "MAE = sum([abs(y - y_) for y, y_ in zip(Y, Y_)]) / n\n",
    "MAPE = sum([abs((y - y_) / (y)) for y, y_ in zip(Y, Y_)]) / n *100\n",
    "MAE, MAPE"
   ]
  },
  {
   "cell_type": "code",
   "execution_count": 110,
   "metadata": {},
   "outputs": [
    {
     "data": {
      "text/plain": [
       "(0.9, 33.166666666666664)"
      ]
     },
     "execution_count": 110,
     "metadata": {},
     "output_type": "execute_result"
    }
   ],
   "source": [
    "y = np.array([1,2,3,4,5,-1,-2,-3,-4,-5])\n",
    "a = np.array([0,2,2,5,3,-1,-1,-4,-6,-5])\n",
    "MAE = sum(abs(y - a))/len(y)\n",
    "MAPE = sum((abs((y - a)/y)))/len(y)*100\n",
    "MAE, MAPE"
   ]
  },
  {
   "cell_type": "code",
   "execution_count": 111,
   "metadata": {},
   "outputs": [
    {
     "data": {
      "text/plain": [
       "(0.9, 0.33166666666666667)"
      ]
     },
     "execution_count": 111,
     "metadata": {},
     "output_type": "execute_result"
    }
   ],
   "source": [
    "import sklearn\n",
    "MAE = sklearn.metrics.mean_absolute_error([1,2,3,4,5,-1,-2,-3,-4,-5], [0,2,2,5,3,-1,-1,-4,-6,-5])\n",
    "MAPE = sklearn.metrics.mean_absolute_percentage_error([1,2,3,4,5,-1,-2,-3,-4,-5], [0,2,2,5,3,-1,-1,-4,-6,-5])\n",
    "MAE, MAPE"
   ]
  },
  {
   "cell_type": "markdown",
   "metadata": {},
   "source": [
    "Коэффициенты модели линейной регрессии"
   ]
  },
  {
   "cell_type": "code",
   "execution_count": 112,
   "metadata": {},
   "outputs": [
    {
     "data": {
      "text/plain": [
       "(0.7999999999999997, -0.19999999999999904)"
      ]
     },
     "execution_count": 112,
     "metadata": {},
     "output_type": "execute_result"
    }
   ],
   "source": [
    "x = np.array([0, 1, 2, 3])\n",
    "y = np.array([0, 1, 0, 3])\n",
    "A = np.vstack([x, np.ones(len(x))]).T\n",
    "w1, w0 = np.linalg.lstsq(A, y, rcond=None)[0]\n",
    "w1, w0"
   ]
  },
  {
   "cell_type": "code",
   "execution_count": 113,
   "metadata": {},
   "outputs": [
    {
     "data": {
      "image/png": "[encoded data removed]",
      "text/plain": [
       "<Figure size 640x480 with 1 Axes>"
      ]
     },
     "metadata": {},
     "output_type": "display_data"
    }
   ],
   "source": [
    "import matplotlib.pyplot as plt\n",
    "plt.plot(x, y, 'o', label='Original data', markersize=10)\n",
    "plt.plot(x, w1*x + w0, 'r', label='Fitted line')\n",
    "plt.legend()\n",
    "plt.show()"
   ]
  },
  {
   "cell_type": "code",
   "execution_count": 114,
   "metadata": {},
   "outputs": [
    {
     "name": "stdout",
     "output_type": "stream",
     "text": [
      "Частная производная от w0 8*w0 + 12*w1 - 8\n",
      "Частная производная от w1 12*w0 + 28*w1 - 20\n",
      "Решение системы уравнений {(4/5, -1/5)}\n"
     ]
    }
   ],
   "source": [
    "from sympy import *\n",
    "w1, w0 = symbols('w1 w0')\n",
    "expr = sum((w1 * i + w0 - j)**2 for i, j in zip(x,y))\n",
    "a = diff(expr, w0)\n",
    "b = diff(expr, w1)\n",
    "result = linsolve([a, b], (w1, w0))\n",
    "print('Частная производная от w0', a)\n",
    "print('Частная производная от w1', b)\n",
    "print('Решение системы уравнений', result)"
   ]
  },
  {
   "cell_type": "code",
   "execution_count": 115,
   "metadata": {},
   "outputs": [
    {
     "data": {
      "text/latex": [
       "$\\displaystyle 4 x - 3 y - 2$"
      ],
      "text/plain": [
       "4*x - 3*y - 2"
      ]
     },
     "execution_count": 115,
     "metadata": {},
     "output_type": "execute_result"
    }
   ],
   "source": [
    "x, y = symbols('x, y')\n",
    "expr = 2 * x**2 - 3 * x * y + 4 * y**2 - 2 * x + y + 10\n",
    "diff(expr, x)"
   ]
  },
  {
   "cell_type": "code",
   "execution_count": 116,
   "metadata": {},
   "outputs": [
    {
     "name": "stdout",
     "output_type": "stream",
     "text": [
      "Частная производная от w1 12*w0 + 36*w1 + 8*w2 - 20\n",
      "Частная производная от w2 12*w0 + 8*w1 + 36*w2 - 4\n",
      "Частная производная от w0 16*w0 + 12*w1 + 12*w2 - 8\n",
      "Решение системы уравнений {(47/91, -5/91, 2/13)}\n"
     ]
    }
   ],
   "source": [
    "x1 = np.array([0, 1, 2, 3])\n",
    "x2 = np.array([3, 2, 1, 0])\n",
    "y = np.array([0, 1, 0, 3])\n",
    "C = 1\n",
    "w1, w2, w0 = symbols('w1 w2 w0')\n",
    "expr = sum((w1 * i + w2 * k + w0 - j)**2 + (w1**2 + w2**2 + w0 **2) for i, k, j in zip(x1, x2 ,y))\n",
    "a = diff(expr, w1)\n",
    "b = diff(expr, w2)\n",
    "c = diff(expr, w0)\n",
    "result = linsolve([a, b, c], (w1, w2, w0))\n",
    "print('Частная производная от w1', a)\n",
    "print('Частная производная от w2', b)\n",
    "print('Частная производная от w0', c)\n",
    "print('Решение системы уравнений', result)"
   ]
  },
  {
   "cell_type": "code",
   "execution_count": 117,
   "metadata": {},
   "outputs": [
    {
     "data": {
      "text/plain": [
       "[0.52, -0.05, 0.15]"
      ]
     },
     "execution_count": 117,
     "metadata": {},
     "output_type": "execute_result"
    }
   ],
   "source": [
    "a = list(map(lambda x: round(x, 2), [47/91, -5/91, 2/13]))\n",
    "a"
   ]
  },
  {
   "cell_type": "code",
   "execution_count": 118,
   "metadata": {},
   "outputs": [
    {
     "name": "stdout",
     "output_type": "stream",
     "text": [
      "coef: [ 0.17391304  0.62450593 -0.1027668 ]\n"
     ]
    }
   ],
   "source": [
    "from sklearn.linear_model import Ridge\n",
    "\n",
    "C=1.0\n",
    "\n",
    "X = np.array( [ [0,3], [1,2], [2,1], [3,0] ] )\n",
    "y = np.array( [ 0, 1, 0, 3 ] )\n",
    "\n",
    "#expand X by 1.0 column\n",
    "\n",
    "X = np.insert(X, 0, values=1, axis=1 )\n",
    "\n",
    "model = Ridge(alpha=C, fit_intercept=False )\n",
    "model.fit(X, y )\n",
    "\n",
    "print(\"coef:\", model.coef_);"
   ]
  },
  {
   "cell_type": "code",
   "execution_count": 119,
   "metadata": {},
   "outputs": [
    {
     "name": "stdout",
     "output_type": "stream",
     "text": [
      "0.57 0.60 0.43\n"
     ]
    }
   ],
   "source": [
    "tn, fn, fp, tp = 25, 20, 10, 15\n",
    "\n",
    "A = (tn + tp)/(tn + tp + fn + fp)\n",
    "P = tp/(tp + fp)\n",
    "R = tp/(tp + fn)\n",
    "\n",
    "print(\"%0.2f\" % A, \"%0.2f\" % P, \"%0.2f\" % R)"
   ]
  },
  {
   "cell_type": "code",
   "execution_count": 120,
   "metadata": {},
   "outputs": [
    {
     "name": "stdout",
     "output_type": "stream",
     "text": [
      "0.57\n",
      "0.6\n",
      "0.43\n"
     ]
    }
   ],
   "source": [
    "g = np.array([[25, 20],\n",
    "              [10, 15]])\n",
    "accuracy = np.sum(np.diag(g))/np.sum(g)\n",
    "print(np.around(accuracy, 2))\n",
    "precision = np.diag(g)[-1]/np.sum(g[-1])\n",
    "print(np.around(precision, 2))\n",
    "recall = np.diag(g)[-1]/sum(g)[-1]\n",
    "print(np.around(recall, 2))"
   ]
  },
  {
   "cell_type": "code",
   "execution_count": 121,
   "metadata": {},
   "outputs": [
    {
     "data": {
      "text/plain": [
       "(0.6, 0.6, 1.0)"
      ]
     },
     "execution_count": 121,
     "metadata": {},
     "output_type": "execute_result"
    }
   ],
   "source": [
    "g = np.array([[0, 0],\n",
    "              [20, 30]])\n",
    "\n",
    "accuracy = sum(np.diag(g)) / np.sum(g)\n",
    "persicion = np.diag(g)[-1] / np.sum(g[-1])\n",
    "recall = np.diag(g)[-1] / sum(g)[-1]\n",
    "accuracy, persicion, recall"
   ]
  },
  {
   "cell_type": "code",
   "execution_count": 122,
   "metadata": {},
   "outputs": [
    {
     "data": {
      "text/html": [
       "<div>\n",
       "<style scoped>\n",
       "    .dataframe tbody tr th:only-of-type {\n",
       "        vertical-align: middle;\n",
       "    }\n",
       "\n",
       "    .dataframe tbody tr th {\n",
       "        vertical-align: top;\n",
       "    }\n",
       "\n",
       "    .dataframe thead th {\n",
       "        text-align: right;\n",
       "    }\n",
       "</style>\n",
       "<table border=\"1\" class=\"dataframe\">\n",
       "  <thead>\n",
       "    <tr style=\"text-align: right;\">\n",
       "      <th></th>\n",
       "      <th>X1</th>\n",
       "      <th>X2</th>\n",
       "      <th>Y</th>\n",
       "    </tr>\n",
       "  </thead>\n",
       "  <tbody>\n",
       "    <tr>\n",
       "      <th>A</th>\n",
       "      <td>-1</td>\n",
       "      <td>0</td>\n",
       "      <td>1.0</td>\n",
       "    </tr>\n",
       "    <tr>\n",
       "      <th>B</th>\n",
       "      <td>1</td>\n",
       "      <td>2</td>\n",
       "      <td>0.0</td>\n",
       "    </tr>\n",
       "    <tr>\n",
       "      <th>C</th>\n",
       "      <td>2</td>\n",
       "      <td>-2</td>\n",
       "      <td>0.0</td>\n",
       "    </tr>\n",
       "    <tr>\n",
       "      <th>D</th>\n",
       "      <td>-3</td>\n",
       "      <td>-1</td>\n",
       "      <td>1.0</td>\n",
       "    </tr>\n",
       "    <tr>\n",
       "      <th>E</th>\n",
       "      <td>3</td>\n",
       "      <td>2</td>\n",
       "      <td>1.0</td>\n",
       "    </tr>\n",
       "    <tr>\n",
       "      <th>F</th>\n",
       "      <td>0</td>\n",
       "      <td>0</td>\n",
       "      <td>NaN</td>\n",
       "    </tr>\n",
       "  </tbody>\n",
       "</table>\n",
       "</div>"
      ],
      "text/plain": [
       "   X1  X2    Y\n",
       "A  -1   0  1.0\n",
       "B   1   2  0.0\n",
       "C   2  -2  0.0\n",
       "D  -3  -1  1.0\n",
       "E   3   2  1.0\n",
       "F   0   0  NaN"
      ]
     },
     "execution_count": 122,
     "metadata": {},
     "output_type": "execute_result"
    }
   ],
   "source": [
    "x1 = [-1, 1, 2, -3, 3, 0]\n",
    "x2 = [0, 2, -2, -1, 2, 0]\n",
    "y = [1, 0, 0, 1, 1, None]\n",
    "df = pd.DataFrame(list(zip(x1,x2,y)), columns=['X1', 'X2', 'Y'], index=['A', 'B', 'C', 'D', 'E', 'F'])\n",
    "df"
   ]
  },
  {
   "cell_type": "code",
   "execution_count": 123,
   "metadata": {},
   "outputs": [
    {
     "data": {
      "text/plain": [
       "{'A': 21.0, 'B': 24.0, 'C': 28.0, 'D': 31.0, 'E': 29.0, 'F': 17.0}"
      ]
     },
     "execution_count": 123,
     "metadata": {},
     "output_type": "execute_result"
    }
   ],
   "source": [
    "metric_dict = {}\n",
    "for idx, row in df.iterrows():\n",
    "    res = (abs(df - df.loc[idx]).sum()).sum()\n",
    "    metric_dict[idx] = res\n",
    "metric_dict"
   ]
  },
  {
   "cell_type": "code",
   "execution_count": 124,
   "metadata": {},
   "outputs": [
    {
     "name": "stdout",
     "output_type": "stream",
     "text": [
      "[0] k=3\n",
      "[1] k=5\n"
     ]
    }
   ],
   "source": [
    "from sklearn.neighbors import KNeighborsClassifier\n",
    "X = np.array([[-1, 0],[1, 2],[2, -2],[-3, -1], [3, 2]])\n",
    "y = np.array([1, 0, 0, 1, 1])\n",
    "\n",
    "k = [3,5]\n",
    "for i in k:\n",
    "    model = KNeighborsClassifier(n_neighbors=i)\n",
    "    model.fit(X, y)\n",
    "    print(model.predict([[0, 0]]),f'k={i}')"
   ]
  },
  {
   "cell_type": "code",
   "execution_count": 125,
   "metadata": {},
   "outputs": [
    {
     "name": "stdout",
     "output_type": "stream",
     "text": [
      "[ 1  5  8 10 13]\n",
      "[1 0 0]\n",
      "При k = 3 объект будет отнесен к классу 0.\n",
      "[ 1  5  8 10 13]\n",
      "[1 0 0 1 1]\n",
      "При k = 5 объект будет отнесен к классу 1.\n"
     ]
    }
   ],
   "source": [
    "X = np.array([[-1, 0], [1, 2], [2, -2], [-3, -1], [3, 2]])\n",
    "y = np.array([1, 0, 0, 1, 1])\n",
    "\n",
    "def predict(x, k):\n",
    "    distances = ((X - x)**2).sum(axis=1) # Найти расстояния от предсказываемого до тренеровочных объектов.\n",
    "    labels = y[distances.argsort()[:k]]  # Расстояния отсортировать по возрастанию и взять первые k-меток.\n",
    "    print(distances)\n",
    "    print(labels)\n",
    "    return np.bincount(labels).argmax()  # Вернуть самую частотную метку.\n",
    "\n",
    "for k in (3, 5):\n",
    "    y_pred = predict(np.array([0, 0]), k)\n",
    "    print(f'При k = {k} объект будет отнесен к классу {y_pred}.')"
   ]
  },
  {
   "cell_type": "code",
   "execution_count": 126,
   "metadata": {},
   "outputs": [
    {
     "data": {
      "text/html": [
       "<div>\n",
       "<style scoped>\n",
       "    .dataframe tbody tr th:only-of-type {\n",
       "        vertical-align: middle;\n",
       "    }\n",
       "\n",
       "    .dataframe tbody tr th {\n",
       "        vertical-align: top;\n",
       "    }\n",
       "\n",
       "    .dataframe thead th {\n",
       "        text-align: right;\n",
       "    }\n",
       "</style>\n",
       "<table border=\"1\" class=\"dataframe\">\n",
       "  <thead>\n",
       "    <tr style=\"text-align: right;\">\n",
       "      <th></th>\n",
       "      <th>P1</th>\n",
       "      <th>P2</th>\n",
       "    </tr>\n",
       "  </thead>\n",
       "  <tbody>\n",
       "    <tr>\n",
       "      <th>A</th>\n",
       "      <td>4</td>\n",
       "      <td>2</td>\n",
       "    </tr>\n",
       "    <tr>\n",
       "      <th>B</th>\n",
       "      <td>3</td>\n",
       "      <td>2</td>\n",
       "    </tr>\n",
       "    <tr>\n",
       "      <th>C</th>\n",
       "      <td>1</td>\n",
       "      <td>-1</td>\n",
       "    </tr>\n",
       "    <tr>\n",
       "      <th>D</th>\n",
       "      <td>-1</td>\n",
       "      <td>1</td>\n",
       "    </tr>\n",
       "    <tr>\n",
       "      <th>E</th>\n",
       "      <td>0</td>\n",
       "      <td>4</td>\n",
       "    </tr>\n",
       "  </tbody>\n",
       "</table>\n",
       "</div>"
      ],
      "text/plain": [
       "   P1  P2\n",
       "A   4   2\n",
       "B   3   2\n",
       "C   1  -1\n",
       "D  -1   1\n",
       "E   0   4"
      ]
     },
     "execution_count": 126,
     "metadata": {},
     "output_type": "execute_result"
    }
   ],
   "source": [
    "df = pd.DataFrame({'P1': [4, 3, 1, -1, 0], 'P2': [2, 2, -1, 1, 4]}, index=list('ABCDE'))\n",
    "df"
   ]
  },
  {
   "cell_type": "code",
   "execution_count": 127,
   "metadata": {},
   "outputs": [
    {
     "data": {
      "text/html": [
       "<div>\n",
       "<style scoped>\n",
       "    .dataframe tbody tr th:only-of-type {\n",
       "        vertical-align: middle;\n",
       "    }\n",
       "\n",
       "    .dataframe tbody tr th {\n",
       "        vertical-align: top;\n",
       "    }\n",
       "\n",
       "    .dataframe thead th {\n",
       "        text-align: right;\n",
       "    }\n",
       "</style>\n",
       "<table border=\"1\" class=\"dataframe\">\n",
       "  <thead>\n",
       "    <tr style=\"text-align: right;\">\n",
       "      <th></th>\n",
       "      <th>P1</th>\n",
       "      <th>P2</th>\n",
       "      <th>R</th>\n",
       "    </tr>\n",
       "  </thead>\n",
       "  <tbody>\n",
       "    <tr>\n",
       "      <th>A</th>\n",
       "      <td>4</td>\n",
       "      <td>2</td>\n",
       "      <td>False</td>\n",
       "    </tr>\n",
       "    <tr>\n",
       "      <th>B</th>\n",
       "      <td>3</td>\n",
       "      <td>2</td>\n",
       "      <td>False</td>\n",
       "    </tr>\n",
       "    <tr>\n",
       "      <th>C</th>\n",
       "      <td>1</td>\n",
       "      <td>-1</td>\n",
       "      <td>True</td>\n",
       "    </tr>\n",
       "    <tr>\n",
       "      <th>D</th>\n",
       "      <td>-1</td>\n",
       "      <td>1</td>\n",
       "      <td>True</td>\n",
       "    </tr>\n",
       "    <tr>\n",
       "      <th>E</th>\n",
       "      <td>0</td>\n",
       "      <td>4</td>\n",
       "      <td>False</td>\n",
       "    </tr>\n",
       "  </tbody>\n",
       "</table>\n",
       "</div>"
      ],
      "text/plain": [
       "   P1  P2      R\n",
       "A   4   2  False\n",
       "B   3   2  False\n",
       "C   1  -1   True\n",
       "D  -1   1   True\n",
       "E   0   4  False"
      ]
     },
     "execution_count": 127,
     "metadata": {},
     "output_type": "execute_result"
    }
   ],
   "source": [
    "df['R'] = df[['P1','P2']].apply(lambda x: (abs(x[0]-2 + x[1] - 3) > abs(x[0]-1 + x[1] - 1)), axis=1)\n",
    "df"
   ]
  },
  {
   "cell_type": "code",
   "execution_count": 128,
   "metadata": {},
   "outputs": [
    {
     "data": {
      "text/html": [
       "<div>\n",
       "<style scoped>\n",
       "    .dataframe tbody tr th:only-of-type {\n",
       "        vertical-align: middle;\n",
       "    }\n",
       "\n",
       "    .dataframe tbody tr th {\n",
       "        vertical-align: top;\n",
       "    }\n",
       "\n",
       "    .dataframe thead th {\n",
       "        text-align: right;\n",
       "    }\n",
       "</style>\n",
       "<table border=\"1\" class=\"dataframe\">\n",
       "  <thead>\n",
       "    <tr style=\"text-align: right;\">\n",
       "      <th></th>\n",
       "      <th>P1</th>\n",
       "      <th>P2</th>\n",
       "      <th>R</th>\n",
       "    </tr>\n",
       "  </thead>\n",
       "  <tbody>\n",
       "    <tr>\n",
       "      <th>A</th>\n",
       "      <td>4</td>\n",
       "      <td>2</td>\n",
       "      <td>False</td>\n",
       "    </tr>\n",
       "    <tr>\n",
       "      <th>B</th>\n",
       "      <td>3</td>\n",
       "      <td>2</td>\n",
       "      <td>False</td>\n",
       "    </tr>\n",
       "    <tr>\n",
       "      <th>C</th>\n",
       "      <td>1</td>\n",
       "      <td>-1</td>\n",
       "      <td>True</td>\n",
       "    </tr>\n",
       "    <tr>\n",
       "      <th>D</th>\n",
       "      <td>-1</td>\n",
       "      <td>1</td>\n",
       "      <td>True</td>\n",
       "    </tr>\n",
       "    <tr>\n",
       "      <th>E</th>\n",
       "      <td>0</td>\n",
       "      <td>4</td>\n",
       "      <td>False</td>\n",
       "    </tr>\n",
       "  </tbody>\n",
       "</table>\n",
       "</div>"
      ],
      "text/plain": [
       "   P1  P2      R\n",
       "A   4   2  False\n",
       "B   3   2  False\n",
       "C   1  -1   True\n",
       "D  -1   1   True\n",
       "E   0   4  False"
      ]
     },
     "execution_count": 128,
     "metadata": {},
     "output_type": "execute_result"
    }
   ],
   "source": [
    "df"
   ]
  },
  {
   "cell_type": "code",
   "execution_count": 129,
   "metadata": {},
   "outputs": [
    {
     "name": "stdout",
     "output_type": "stream",
     "text": [
      "p1 = 0.23\n",
      "p2 = 0.24\n",
      "p3 = 0.00\n"
     ]
    }
   ],
   "source": [
    "from functools import partial\n",
    "def Gini(x, y):\n",
    "    def Pr(px, py=None):\n",
    "        if py is None:\n",
    "            return x.count(px) / len(x)\n",
    "        lv = [y[i] for i in range(len(x)) if x[i] == px]\n",
    "        if len(lv) != 0:\n",
    "            return lv.count(py) / len(lv)\n",
    "        else:\n",
    "            return 0\n",
    "    return Pr(0) * Pr(0, 0) * Pr(0, 1) + Pr(1) * Pr(1, 0) * Pr(1, 1)\n",
    "p1 = [0, 0, 1, 1, 0]\n",
    "p2 = [1, 1, 1, 1, 1]\n",
    "p3 = [0, 0, 0, 1, 1]\n",
    "y = [1, 1, 1, 0, 0]\n",
    "G = partial(Gini, y=y)\n",
    "for x, p in zip([G(p1), G(p2), G(p3)], ['p1', 'p2', 'p3']):\n",
    "    print('{} = {:.2f}'.format(p, x))"
   ]
  },
  {
   "cell_type": "code",
   "execution_count": 130,
   "metadata": {},
   "outputs": [
    {
     "name": "stdout",
     "output_type": "stream",
     "text": [
      "0.23\n",
      "0.24\n",
      "0.0\n"
     ]
    }
   ],
   "source": [
    "X = np.array([[0, 1, 0], [0, 1, 0], [1, 1, 0], [1, 1, 1], [0, 1, 1]])\n",
    "y = np.array([1, 1, 1, 0, 0])\n",
    "\n",
    "def gini_impurity(x, y):\n",
    "    gini = lambda y: y.mean() * (1 - y.mean()) if y.size > 0 else 0 \n",
    "    return x.mean() * gini(y[x==1]) + (1 - x.mean()) * gini(y[x==0])\n",
    "\n",
    "for x in X.T:\n",
    "    print(gini_impurity(x, y).round(2))"
   ]
  }
 ],
 "metadata": {
  "kernelspec": {
   "display_name": "base",
   "language": "python",
   "name": "python3"
  },
  "language_info": {
   "codemirror_mode": {
    "name": "ipython",
    "version": 3
   },
   "file_extension": ".py",
   "mimetype": "text/x-python",
   "name": "python",
   "nbconvert_exporter": "python",
   "pygments_lexer": "ipython3",
   "version": "3.11.11"
  }
 },
 "nbformat": 4,
 "nbformat_minor": 2
}
