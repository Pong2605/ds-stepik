{
 "cells": [
  {
   "cell_type": "code",
   "execution_count": 6266,
   "metadata": {},
   "outputs": [],
   "source": [
    "import pandas as pd\n",
    "import numpy as np"
   ]
  },
  {
   "cell_type": "code",
   "execution_count": 6267,
   "metadata": {},
   "outputs": [
    {
     "data": {
      "text/plain": [
       "'2.2.2'"
      ]
     },
     "execution_count": 6267,
     "metadata": {},
     "output_type": "execute_result"
    }
   ],
   "source": [
    "pd.__version__"
   ]
  },
  {
   "cell_type": "markdown",
   "metadata": {},
   "source": [
    "# 1.2 Создание DataFrame и Series."
   ]
  },
  {
   "cell_type": "code",
   "execution_count": 6268,
   "metadata": {},
   "outputs": [
    {
     "data": {
      "text/plain": [
       "0    2.0\n",
       "1    5.0\n",
       "2    3.0\n",
       "3    2.0\n",
       "dtype: float64"
      ]
     },
     "execution_count": 6268,
     "metadata": {},
     "output_type": "execute_result"
    }
   ],
   "source": [
    "series = pd.Series(data=[2, 5, 3, 2.0])\n",
    "series"
   ]
  },
  {
   "cell_type": "code",
   "execution_count": 6269,
   "metadata": {},
   "outputs": [
    {
     "data": {
      "text/plain": [
       "row_2    6.0\n",
       "row_4    8.0\n",
       "row_7    NaN\n",
       "dtype: float64"
      ]
     },
     "execution_count": 6269,
     "metadata": {},
     "output_type": "execute_result"
    }
   ],
   "source": [
    "dict_array = {'row_1': 3,\n",
    "              'row_2': 6,\n",
    "              'row_3': 1,\n",
    "              'row_4': 8,\n",
    "              'row_5': 7,}\n",
    "\n",
    "pd.Series(dict_array, index=['row_2', 'row_4', 'row_7'])"
   ]
  },
  {
   "cell_type": "code",
   "execution_count": 6270,
   "metadata": {},
   "outputs": [
    {
     "data": {
      "text/html": [
       "<div>\n",
       "<style scoped>\n",
       "    .dataframe tbody tr th:only-of-type {\n",
       "        vertical-align: middle;\n",
       "    }\n",
       "\n",
       "    .dataframe tbody tr th {\n",
       "        vertical-align: top;\n",
       "    }\n",
       "\n",
       "    .dataframe thead th {\n",
       "        text-align: right;\n",
       "    }\n",
       "</style>\n",
       "<table border=\"1\" class=\"dataframe\">\n",
       "  <thead>\n",
       "    <tr style=\"text-align: right;\">\n",
       "      <th></th>\n",
       "      <th>col_1</th>\n",
       "      <th>col_2</th>\n",
       "    </tr>\n",
       "  </thead>\n",
       "  <tbody>\n",
       "    <tr>\n",
       "      <th>row_1</th>\n",
       "      <td>3.0</td>\n",
       "      <td>NaN</td>\n",
       "    </tr>\n",
       "    <tr>\n",
       "      <th>row_2</th>\n",
       "      <td>6.0</td>\n",
       "      <td>NaN</td>\n",
       "    </tr>\n",
       "    <tr>\n",
       "      <th>row_3</th>\n",
       "      <td>1.0</td>\n",
       "      <td>5.0</td>\n",
       "    </tr>\n",
       "    <tr>\n",
       "      <th>row_4</th>\n",
       "      <td>8.0</td>\n",
       "      <td>6.0</td>\n",
       "    </tr>\n",
       "    <tr>\n",
       "      <th>row_5</th>\n",
       "      <td>7.0</td>\n",
       "      <td>NaN</td>\n",
       "    </tr>\n",
       "    <tr>\n",
       "      <th>row_6</th>\n",
       "      <td>NaN</td>\n",
       "      <td>8.0</td>\n",
       "    </tr>\n",
       "  </tbody>\n",
       "</table>\n",
       "</div>"
      ],
      "text/plain": [
       "       col_1  col_2\n",
       "row_1    3.0    NaN\n",
       "row_2    6.0    NaN\n",
       "row_3    1.0    5.0\n",
       "row_4    8.0    6.0\n",
       "row_5    7.0    NaN\n",
       "row_6    NaN    8.0"
      ]
     },
     "execution_count": 6270,
     "metadata": {},
     "output_type": "execute_result"
    }
   ],
   "source": [
    "pd.DataFrame({'col_1': pd.Series(dict_array),\n",
    "              'col_2': pd.Series([5, 6, np.nan, 8], index=['row_3', 'row_4', 'row_5', 'row_6'])})"
   ]
  },
  {
   "cell_type": "code",
   "execution_count": 6271,
   "metadata": {},
   "outputs": [
    {
     "data": {
      "text/html": [
       "<div>\n",
       "<style scoped>\n",
       "    .dataframe tbody tr th:only-of-type {\n",
       "        vertical-align: middle;\n",
       "    }\n",
       "\n",
       "    .dataframe tbody tr th {\n",
       "        vertical-align: top;\n",
       "    }\n",
       "\n",
       "    .dataframe thead th {\n",
       "        text-align: right;\n",
       "    }\n",
       "</style>\n",
       "<table border=\"1\" class=\"dataframe\">\n",
       "  <thead>\n",
       "    <tr style=\"text-align: right;\">\n",
       "      <th></th>\n",
       "      <th>col_1</th>\n",
       "      <th>col_2</th>\n",
       "    </tr>\n",
       "  </thead>\n",
       "  <tbody>\n",
       "    <tr>\n",
       "      <th>row_5</th>\n",
       "      <td>7.0</td>\n",
       "      <td>NaN</td>\n",
       "    </tr>\n",
       "    <tr>\n",
       "      <th>row_6</th>\n",
       "      <td>NaN</td>\n",
       "      <td>8.0</td>\n",
       "    </tr>\n",
       "    <tr>\n",
       "      <th>row_7</th>\n",
       "      <td>NaN</td>\n",
       "      <td>NaN</td>\n",
       "    </tr>\n",
       "  </tbody>\n",
       "</table>\n",
       "</div>"
      ],
      "text/plain": [
       "       col_1  col_2\n",
       "row_5    7.0    NaN\n",
       "row_6    NaN    8.0\n",
       "row_7    NaN    NaN"
      ]
     },
     "execution_count": 6271,
     "metadata": {},
     "output_type": "execute_result"
    }
   ],
   "source": [
    "pd.DataFrame({'col_1': pd.Series(dict_array),\n",
    "              'col_2': pd.Series([5, 6, np.nan, 8], index=['row_3', 'row_4', 'row_5', 'row_6'])},\n",
    "              index=['row_5', 'row_6', 'row_7'])"
   ]
  },
  {
   "cell_type": "code",
   "execution_count": 6272,
   "metadata": {},
   "outputs": [
    {
     "data": {
      "text/plain": [
       "row_1    2\n",
       "row_2    3\n",
       "row_3    5\n",
       "row_4    6\n",
       "row_5    7\n",
       "dtype: int64"
      ]
     },
     "execution_count": 6272,
     "metadata": {},
     "output_type": "execute_result"
    }
   ],
   "source": [
    "# Создайте серию с 5 элементами. Индексы строк должны иметь значение row_1, row_2, row_3, row_4, row_5\n",
    "\n",
    "series = pd.Series({'row_1': 2, 'row_2': 3, 'row_3': 5, 'row_4': 6, 'row_5': 7})\n",
    "series"
   ]
  },
  {
   "cell_type": "code",
   "execution_count": 6273,
   "metadata": {},
   "outputs": [
    {
     "data": {
      "text/plain": [
       "row_1    3\n",
       "row_2    4\n",
       "row_3    5\n",
       "row_4    6\n",
       "row_5    7\n",
       "Name: Serser, dtype: int64"
      ]
     },
     "execution_count": 6273,
     "metadata": {},
     "output_type": "execute_result"
    }
   ],
   "source": [
    "series = pd.Series({f'row_{i}': i + 2 for i in range(1,6)}, name='Serser')\n",
    "series"
   ]
  },
  {
   "cell_type": "code",
   "execution_count": 6274,
   "metadata": {},
   "outputs": [
    {
     "data": {
      "text/plain": [
       "row_2    2\n",
       "row_4    4\n",
       "dtype: int64"
      ]
     },
     "execution_count": 6274,
     "metadata": {},
     "output_type": "execute_result"
    }
   ],
   "source": [
    "dict_in = {'row_1': 1, 'row_2': 2, 'row_3': 3, 'row_4': 4}\n",
    "series = pd.Series(dict_in, index=['row_2', 'row_4'])\n",
    "series"
   ]
  },
  {
   "cell_type": "code",
   "execution_count": 6275,
   "metadata": {},
   "outputs": [
    {
     "data": {
      "text/html": [
       "<div>\n",
       "<style scoped>\n",
       "    .dataframe tbody tr th:only-of-type {\n",
       "        vertical-align: middle;\n",
       "    }\n",
       "\n",
       "    .dataframe tbody tr th {\n",
       "        vertical-align: top;\n",
       "    }\n",
       "\n",
       "    .dataframe thead th {\n",
       "        text-align: right;\n",
       "    }\n",
       "</style>\n",
       "<table border=\"1\" class=\"dataframe\">\n",
       "  <thead>\n",
       "    <tr style=\"text-align: right;\">\n",
       "      <th></th>\n",
       "      <th>col_1</th>\n",
       "      <th>col_2</th>\n",
       "    </tr>\n",
       "  </thead>\n",
       "  <tbody>\n",
       "    <tr>\n",
       "      <th>0</th>\n",
       "      <td>1</td>\n",
       "      <td>4</td>\n",
       "    </tr>\n",
       "    <tr>\n",
       "      <th>1</th>\n",
       "      <td>2</td>\n",
       "      <td>5</td>\n",
       "    </tr>\n",
       "    <tr>\n",
       "      <th>2</th>\n",
       "      <td>3</td>\n",
       "      <td>6</td>\n",
       "    </tr>\n",
       "  </tbody>\n",
       "</table>\n",
       "</div>"
      ],
      "text/plain": [
       "   col_1  col_2\n",
       "0      1      4\n",
       "1      2      5\n",
       "2      3      6"
      ]
     },
     "execution_count": 6275,
     "metadata": {},
     "output_type": "execute_result"
    }
   ],
   "source": [
    "dict_in = {'col_1': [1, 2, 3], 'col_2': [4, 5, 6]}\n",
    "df = pd.DataFrame(dict_in)\n",
    "df"
   ]
  },
  {
   "cell_type": "code",
   "execution_count": 6276,
   "metadata": {},
   "outputs": [
    {
     "data": {
      "text/html": [
       "<div>\n",
       "<style scoped>\n",
       "    .dataframe tbody tr th:only-of-type {\n",
       "        vertical-align: middle;\n",
       "    }\n",
       "\n",
       "    .dataframe tbody tr th {\n",
       "        vertical-align: top;\n",
       "    }\n",
       "\n",
       "    .dataframe thead th {\n",
       "        text-align: right;\n",
       "    }\n",
       "</style>\n",
       "<table border=\"1\" class=\"dataframe\">\n",
       "  <thead>\n",
       "    <tr style=\"text-align: right;\">\n",
       "      <th></th>\n",
       "      <th>0</th>\n",
       "      <th>1</th>\n",
       "      <th>2</th>\n",
       "    </tr>\n",
       "  </thead>\n",
       "  <tbody>\n",
       "    <tr>\n",
       "      <th>0</th>\n",
       "      <td>2</td>\n",
       "      <td>3</td>\n",
       "      <td>7</td>\n",
       "    </tr>\n",
       "    <tr>\n",
       "      <th>1</th>\n",
       "      <td>0</td>\n",
       "      <td>7</td>\n",
       "      <td>-2</td>\n",
       "    </tr>\n",
       "    <tr>\n",
       "      <th>2</th>\n",
       "      <td>5</td>\n",
       "      <td>7</td>\n",
       "      <td>9</td>\n",
       "    </tr>\n",
       "  </tbody>\n",
       "</table>\n",
       "</div>"
      ],
      "text/plain": [
       "   0  1  2\n",
       "0  2  3  7\n",
       "1  0  7 -2\n",
       "2  5  7  9"
      ]
     },
     "execution_count": 6276,
     "metadata": {},
     "output_type": "execute_result"
    }
   ],
   "source": [
    "arr = np.random.randint(-5, 10, size=(3, 3))\n",
    "\n",
    "pd.DataFrame(arr)"
   ]
  },
  {
   "cell_type": "code",
   "execution_count": 6277,
   "metadata": {},
   "outputs": [
    {
     "data": {
      "text/html": [
       "<div>\n",
       "<style scoped>\n",
       "    .dataframe tbody tr th:only-of-type {\n",
       "        vertical-align: middle;\n",
       "    }\n",
       "\n",
       "    .dataframe tbody tr th {\n",
       "        vertical-align: top;\n",
       "    }\n",
       "\n",
       "    .dataframe thead th {\n",
       "        text-align: right;\n",
       "    }\n",
       "</style>\n",
       "<table border=\"1\" class=\"dataframe\">\n",
       "  <thead>\n",
       "    <tr style=\"text-align: right;\">\n",
       "      <th></th>\n",
       "      <th>0</th>\n",
       "      <th>1</th>\n",
       "      <th>2</th>\n",
       "    </tr>\n",
       "  </thead>\n",
       "  <tbody>\n",
       "    <tr>\n",
       "      <th>0</th>\n",
       "      <td>0</td>\n",
       "      <td>1</td>\n",
       "      <td>2</td>\n",
       "    </tr>\n",
       "    <tr>\n",
       "      <th>1</th>\n",
       "      <td>3</td>\n",
       "      <td>4</td>\n",
       "      <td>5</td>\n",
       "    </tr>\n",
       "    <tr>\n",
       "      <th>2</th>\n",
       "      <td>6</td>\n",
       "      <td>7</td>\n",
       "      <td>8</td>\n",
       "    </tr>\n",
       "  </tbody>\n",
       "</table>\n",
       "</div>"
      ],
      "text/plain": [
       "   0  1  2\n",
       "0  0  1  2\n",
       "1  3  4  5\n",
       "2  6  7  8"
      ]
     },
     "execution_count": 6277,
     "metadata": {},
     "output_type": "execute_result"
    }
   ],
   "source": [
    "arr = np.arange(9).reshape(3,3)\n",
    "pd.DataFrame(arr)"
   ]
  },
  {
   "cell_type": "code",
   "execution_count": 6278,
   "metadata": {},
   "outputs": [
    {
     "data": {
      "text/html": [
       "<div>\n",
       "<style scoped>\n",
       "    .dataframe tbody tr th:only-of-type {\n",
       "        vertical-align: middle;\n",
       "    }\n",
       "\n",
       "    .dataframe tbody tr th {\n",
       "        vertical-align: top;\n",
       "    }\n",
       "\n",
       "    .dataframe thead th {\n",
       "        text-align: right;\n",
       "    }\n",
       "</style>\n",
       "<table border=\"1\" class=\"dataframe\">\n",
       "  <thead>\n",
       "    <tr style=\"text-align: right;\">\n",
       "      <th></th>\n",
       "      <th>row_1</th>\n",
       "      <th>row_2</th>\n",
       "      <th>row_3</th>\n",
       "    </tr>\n",
       "  </thead>\n",
       "  <tbody>\n",
       "    <tr>\n",
       "      <th>row_1</th>\n",
       "      <td>1</td>\n",
       "      <td>1</td>\n",
       "      <td>1</td>\n",
       "    </tr>\n",
       "    <tr>\n",
       "      <th>row_2</th>\n",
       "      <td>2</td>\n",
       "      <td>2</td>\n",
       "      <td>2</td>\n",
       "    </tr>\n",
       "    <tr>\n",
       "      <th>row_3</th>\n",
       "      <td>3</td>\n",
       "      <td>3</td>\n",
       "      <td>3</td>\n",
       "    </tr>\n",
       "  </tbody>\n",
       "</table>\n",
       "</div>"
      ],
      "text/plain": [
       "      row_1 row_2 row_3\n",
       "row_1     1     1     1\n",
       "row_2     2     2     2\n",
       "row_3     3     3     3"
      ]
     },
     "execution_count": 6278,
     "metadata": {},
     "output_type": "execute_result"
    }
   ],
   "source": [
    "df = pd.DataFrame({f'row_{i}': list('123') for i in range(1, 4)}, index=[f'row_{i}' for i in range(1, 4)])\n",
    "df"
   ]
  },
  {
   "cell_type": "code",
   "execution_count": 6279,
   "metadata": {},
   "outputs": [
    {
     "data": {
      "text/plain": [
       "False"
      ]
     },
     "execution_count": 6279,
     "metadata": {},
     "output_type": "execute_result"
    }
   ],
   "source": [
    "df['row_1'].hasnans"
   ]
  },
  {
   "cell_type": "markdown",
   "metadata": {},
   "source": [
    "# 1.3 Чтение и запись данных."
   ]
  },
  {
   "cell_type": "code",
   "execution_count": 6280,
   "metadata": {},
   "outputs": [
    {
     "data": {
      "text/html": [
       "<div>\n",
       "<style scoped>\n",
       "    .dataframe tbody tr th:only-of-type {\n",
       "        vertical-align: middle;\n",
       "    }\n",
       "\n",
       "    .dataframe tbody tr th {\n",
       "        vertical-align: top;\n",
       "    }\n",
       "\n",
       "    .dataframe thead th {\n",
       "        text-align: right;\n",
       "    }\n",
       "</style>\n",
       "<table border=\"1\" class=\"dataframe\">\n",
       "  <thead>\n",
       "    <tr style=\"text-align: right;\">\n",
       "      <th></th>\n",
       "      <th>day</th>\n",
       "      <th>month</th>\n",
       "      <th>year</th>\n",
       "    </tr>\n",
       "  </thead>\n",
       "  <tbody>\n",
       "    <tr>\n",
       "      <th>0</th>\n",
       "      <td>2</td>\n",
       "      <td>4</td>\n",
       "      <td>2022</td>\n",
       "    </tr>\n",
       "    <tr>\n",
       "      <th>1</th>\n",
       "      <td>5</td>\n",
       "      <td>1</td>\n",
       "      <td>2024</td>\n",
       "    </tr>\n",
       "    <tr>\n",
       "      <th>2</th>\n",
       "      <td>6</td>\n",
       "      <td>3</td>\n",
       "      <td>2025</td>\n",
       "    </tr>\n",
       "  </tbody>\n",
       "</table>\n",
       "</div>"
      ],
      "text/plain": [
       "   day  month  year\n",
       "0    2      4  2022\n",
       "1    5      1  2024\n",
       "2    6      3  2025"
      ]
     },
     "metadata": {},
     "output_type": "display_data"
    }
   ],
   "source": [
    "df = pd.DataFrame({'day': [2, 5, 6],\n",
    "                   'month': [4, 1, 3],\n",
    "                   'year': [2022, 2024, 2025]})\n",
    "display(df)\n",
    "\n",
    "df.to_csv('data\\date_parse_date', sep=';', index=False)"
   ]
  },
  {
   "cell_type": "code",
   "execution_count": 6281,
   "metadata": {},
   "outputs": [
    {
     "data": {
      "text/html": [
       "<div>\n",
       "<style scoped>\n",
       "    .dataframe tbody tr th:only-of-type {\n",
       "        vertical-align: middle;\n",
       "    }\n",
       "\n",
       "    .dataframe tbody tr th {\n",
       "        vertical-align: top;\n",
       "    }\n",
       "\n",
       "    .dataframe thead th {\n",
       "        text-align: right;\n",
       "    }\n",
       "</style>\n",
       "<table border=\"1\" class=\"dataframe\">\n",
       "  <thead>\n",
       "    <tr style=\"text-align: right;\">\n",
       "      <th></th>\n",
       "      <th>day</th>\n",
       "      <th>month</th>\n",
       "      <th>year</th>\n",
       "    </tr>\n",
       "  </thead>\n",
       "  <tbody>\n",
       "    <tr>\n",
       "      <th>0</th>\n",
       "      <td>2</td>\n",
       "      <td>4</td>\n",
       "      <td>2022</td>\n",
       "    </tr>\n",
       "    <tr>\n",
       "      <th>1</th>\n",
       "      <td>5</td>\n",
       "      <td>1</td>\n",
       "      <td>2024</td>\n",
       "    </tr>\n",
       "    <tr>\n",
       "      <th>2</th>\n",
       "      <td>6</td>\n",
       "      <td>3</td>\n",
       "      <td>2025</td>\n",
       "    </tr>\n",
       "  </tbody>\n",
       "</table>\n",
       "</div>"
      ],
      "text/plain": [
       "   day  month  year\n",
       "0    2      4  2022\n",
       "1    5      1  2024\n",
       "2    6      3  2025"
      ]
     },
     "metadata": {},
     "output_type": "display_data"
    },
    {
     "name": "stderr",
     "output_type": "stream",
     "text": [
      "C:\\Users\\Pong\\AppData\\Local\\Temp\\ipykernel_1784\\4130773262.py:4: FutureWarning: Support for nested sequences for 'parse_dates' in pd.read_csv is deprecated. Combine the desired columns with pd.to_datetime after parsing instead.\n",
      "  df = pd.read_csv('data\\date_parse_date', sep=';', parse_dates=[['year', 'month', 'day']])\n"
     ]
    },
    {
     "data": {
      "text/html": [
       "<div>\n",
       "<style scoped>\n",
       "    .dataframe tbody tr th:only-of-type {\n",
       "        vertical-align: middle;\n",
       "    }\n",
       "\n",
       "    .dataframe tbody tr th {\n",
       "        vertical-align: top;\n",
       "    }\n",
       "\n",
       "    .dataframe thead th {\n",
       "        text-align: right;\n",
       "    }\n",
       "</style>\n",
       "<table border=\"1\" class=\"dataframe\">\n",
       "  <thead>\n",
       "    <tr style=\"text-align: right;\">\n",
       "      <th></th>\n",
       "      <th>year_month_day</th>\n",
       "    </tr>\n",
       "  </thead>\n",
       "  <tbody>\n",
       "    <tr>\n",
       "      <th>0</th>\n",
       "      <td>2022-04-02</td>\n",
       "    </tr>\n",
       "    <tr>\n",
       "      <th>1</th>\n",
       "      <td>2024-01-05</td>\n",
       "    </tr>\n",
       "    <tr>\n",
       "      <th>2</th>\n",
       "      <td>2025-03-06</td>\n",
       "    </tr>\n",
       "  </tbody>\n",
       "</table>\n",
       "</div>"
      ],
      "text/plain": [
       "  year_month_day\n",
       "0     2022-04-02\n",
       "1     2024-01-05\n",
       "2     2025-03-06"
      ]
     },
     "metadata": {},
     "output_type": "display_data"
    }
   ],
   "source": [
    "df = pd.read_csv('data\\date_parse_date', sep=';')\n",
    "display(df)\n",
    "\n",
    "df = pd.read_csv('data\\date_parse_date', sep=';', parse_dates=[['year', 'month', 'day']])\n",
    "display(df)"
   ]
  },
  {
   "cell_type": "markdown",
   "metadata": {},
   "source": [
    "# 1.5 Индексы. Доступ к данным."
   ]
  },
  {
   "cell_type": "code",
   "execution_count": 6282,
   "metadata": {},
   "outputs": [
    {
     "data": {
      "text/html": [
       "<div>\n",
       "<style scoped>\n",
       "    .dataframe tbody tr th:only-of-type {\n",
       "        vertical-align: middle;\n",
       "    }\n",
       "\n",
       "    .dataframe tbody tr th {\n",
       "        vertical-align: top;\n",
       "    }\n",
       "\n",
       "    .dataframe thead th {\n",
       "        text-align: right;\n",
       "    }\n",
       "</style>\n",
       "<table border=\"1\" class=\"dataframe\">\n",
       "  <thead>\n",
       "    <tr style=\"text-align: right;\">\n",
       "      <th></th>\n",
       "      <th>date</th>\n",
       "      <th>item</th>\n",
       "      <th>price</th>\n",
       "      <th>quantity</th>\n",
       "    </tr>\n",
       "  </thead>\n",
       "  <tbody>\n",
       "    <tr>\n",
       "      <th>0</th>\n",
       "      <td>2020-01-01</td>\n",
       "      <td>mouse</td>\n",
       "      <td>35</td>\n",
       "      <td>5</td>\n",
       "    </tr>\n",
       "    <tr>\n",
       "      <th>1</th>\n",
       "      <td>2020-01-02</td>\n",
       "      <td>laptop</td>\n",
       "      <td>73</td>\n",
       "      <td>4</td>\n",
       "    </tr>\n",
       "    <tr>\n",
       "      <th>2</th>\n",
       "      <td>2020-01-03</td>\n",
       "      <td>phone</td>\n",
       "      <td>90</td>\n",
       "      <td>7</td>\n",
       "    </tr>\n",
       "    <tr>\n",
       "      <th>3</th>\n",
       "      <td>2020-01-04</td>\n",
       "      <td>phone</td>\n",
       "      <td>91</td>\n",
       "      <td>9</td>\n",
       "    </tr>\n",
       "    <tr>\n",
       "      <th>4</th>\n",
       "      <td>2020-01-05</td>\n",
       "      <td>mouse</td>\n",
       "      <td>65</td>\n",
       "      <td>9</td>\n",
       "    </tr>\n",
       "  </tbody>\n",
       "</table>\n",
       "</div>"
      ],
      "text/plain": [
       "         date    item  price  quantity\n",
       "0  2020-01-01   mouse     35         5\n",
       "1  2020-01-02  laptop     73         4\n",
       "2  2020-01-03   phone     90         7\n",
       "3  2020-01-04   phone     91         9\n",
       "4  2020-01-05   mouse     65         9"
      ]
     },
     "execution_count": 6282,
     "metadata": {},
     "output_type": "execute_result"
    }
   ],
   "source": [
    "df = pd.read_csv('data\\sales.csv')\n",
    "df.head()"
   ]
  },
  {
   "cell_type": "code",
   "execution_count": 6283,
   "metadata": {},
   "outputs": [
    {
     "data": {
      "text/html": [
       "<div>\n",
       "<style scoped>\n",
       "    .dataframe tbody tr th:only-of-type {\n",
       "        vertical-align: middle;\n",
       "    }\n",
       "\n",
       "    .dataframe tbody tr th {\n",
       "        vertical-align: top;\n",
       "    }\n",
       "\n",
       "    .dataframe thead th {\n",
       "        text-align: right;\n",
       "    }\n",
       "</style>\n",
       "<table border=\"1\" class=\"dataframe\">\n",
       "  <thead>\n",
       "    <tr style=\"text-align: right;\">\n",
       "      <th></th>\n",
       "      <th>item</th>\n",
       "      <th>price</th>\n",
       "      <th>quantity</th>\n",
       "    </tr>\n",
       "    <tr>\n",
       "      <th>date</th>\n",
       "      <th></th>\n",
       "      <th></th>\n",
       "      <th></th>\n",
       "    </tr>\n",
       "  </thead>\n",
       "  <tbody>\n",
       "    <tr>\n",
       "      <th>2020-01-01</th>\n",
       "      <td>mouse</td>\n",
       "      <td>35</td>\n",
       "      <td>5</td>\n",
       "    </tr>\n",
       "    <tr>\n",
       "      <th>2020-01-02</th>\n",
       "      <td>laptop</td>\n",
       "      <td>73</td>\n",
       "      <td>4</td>\n",
       "    </tr>\n",
       "    <tr>\n",
       "      <th>2020-01-03</th>\n",
       "      <td>phone</td>\n",
       "      <td>90</td>\n",
       "      <td>7</td>\n",
       "    </tr>\n",
       "    <tr>\n",
       "      <th>2020-01-04</th>\n",
       "      <td>phone</td>\n",
       "      <td>91</td>\n",
       "      <td>9</td>\n",
       "    </tr>\n",
       "    <tr>\n",
       "      <th>2020-01-05</th>\n",
       "      <td>mouse</td>\n",
       "      <td>65</td>\n",
       "      <td>9</td>\n",
       "    </tr>\n",
       "  </tbody>\n",
       "</table>\n",
       "</div>"
      ],
      "text/plain": [
       "              item  price  quantity\n",
       "date                               \n",
       "2020-01-01   mouse     35         5\n",
       "2020-01-02  laptop     73         4\n",
       "2020-01-03   phone     90         7\n",
       "2020-01-04   phone     91         9\n",
       "2020-01-05   mouse     65         9"
      ]
     },
     "execution_count": 6283,
     "metadata": {},
     "output_type": "execute_result"
    }
   ],
   "source": [
    "# Установка индекса\n",
    "\n",
    "df.set_index('date').head()"
   ]
  },
  {
   "cell_type": "code",
   "execution_count": 6284,
   "metadata": {},
   "outputs": [
    {
     "data": {
      "text/html": [
       "<div>\n",
       "<style scoped>\n",
       "    .dataframe tbody tr th:only-of-type {\n",
       "        vertical-align: middle;\n",
       "    }\n",
       "\n",
       "    .dataframe tbody tr th {\n",
       "        vertical-align: top;\n",
       "    }\n",
       "\n",
       "    .dataframe thead th {\n",
       "        text-align: right;\n",
       "    }\n",
       "</style>\n",
       "<table border=\"1\" class=\"dataframe\">\n",
       "  <thead>\n",
       "    <tr style=\"text-align: right;\">\n",
       "      <th></th>\n",
       "      <th></th>\n",
       "      <th>item</th>\n",
       "      <th>quantity</th>\n",
       "    </tr>\n",
       "    <tr>\n",
       "      <th>date</th>\n",
       "      <th>price</th>\n",
       "      <th></th>\n",
       "      <th></th>\n",
       "    </tr>\n",
       "  </thead>\n",
       "  <tbody>\n",
       "    <tr>\n",
       "      <th>2020-01-01</th>\n",
       "      <th>35</th>\n",
       "      <td>mouse</td>\n",
       "      <td>5</td>\n",
       "    </tr>\n",
       "    <tr>\n",
       "      <th>2020-01-02</th>\n",
       "      <th>73</th>\n",
       "      <td>laptop</td>\n",
       "      <td>4</td>\n",
       "    </tr>\n",
       "    <tr>\n",
       "      <th>2020-01-03</th>\n",
       "      <th>90</th>\n",
       "      <td>phone</td>\n",
       "      <td>7</td>\n",
       "    </tr>\n",
       "    <tr>\n",
       "      <th>2020-01-04</th>\n",
       "      <th>91</th>\n",
       "      <td>phone</td>\n",
       "      <td>9</td>\n",
       "    </tr>\n",
       "    <tr>\n",
       "      <th>2020-01-05</th>\n",
       "      <th>65</th>\n",
       "      <td>mouse</td>\n",
       "      <td>9</td>\n",
       "    </tr>\n",
       "  </tbody>\n",
       "</table>\n",
       "</div>"
      ],
      "text/plain": [
       "                    item  quantity\n",
       "date       price                  \n",
       "2020-01-01 35      mouse         5\n",
       "2020-01-02 73     laptop         4\n",
       "2020-01-03 90      phone         7\n",
       "2020-01-04 91      phone         9\n",
       "2020-01-05 65      mouse         9"
      ]
     },
     "execution_count": 6284,
     "metadata": {},
     "output_type": "execute_result"
    }
   ],
   "source": [
    "# Мультииндекс\n",
    "\n",
    "df.set_index(['date', 'price']).head()"
   ]
  },
  {
   "cell_type": "code",
   "execution_count": 6285,
   "metadata": {},
   "outputs": [
    {
     "data": {
      "text/html": [
       "<div>\n",
       "<style scoped>\n",
       "    .dataframe tbody tr th:only-of-type {\n",
       "        vertical-align: middle;\n",
       "    }\n",
       "\n",
       "    .dataframe tbody tr th {\n",
       "        vertical-align: top;\n",
       "    }\n",
       "\n",
       "    .dataframe thead th {\n",
       "        text-align: right;\n",
       "    }\n",
       "</style>\n",
       "<table border=\"1\" class=\"dataframe\">\n",
       "  <thead>\n",
       "    <tr style=\"text-align: right;\">\n",
       "      <th></th>\n",
       "      <th></th>\n",
       "      <th>item</th>\n",
       "      <th>price</th>\n",
       "      <th>quantity</th>\n",
       "    </tr>\n",
       "    <tr>\n",
       "      <th></th>\n",
       "      <th>date</th>\n",
       "      <th></th>\n",
       "      <th></th>\n",
       "      <th></th>\n",
       "    </tr>\n",
       "  </thead>\n",
       "  <tbody>\n",
       "    <tr>\n",
       "      <th>0</th>\n",
       "      <th>2020-01-01</th>\n",
       "      <td>mouse</td>\n",
       "      <td>35</td>\n",
       "      <td>5</td>\n",
       "    </tr>\n",
       "    <tr>\n",
       "      <th>1</th>\n",
       "      <th>2020-01-02</th>\n",
       "      <td>laptop</td>\n",
       "      <td>73</td>\n",
       "      <td>4</td>\n",
       "    </tr>\n",
       "    <tr>\n",
       "      <th>2</th>\n",
       "      <th>2020-01-03</th>\n",
       "      <td>phone</td>\n",
       "      <td>90</td>\n",
       "      <td>7</td>\n",
       "    </tr>\n",
       "    <tr>\n",
       "      <th>3</th>\n",
       "      <th>2020-01-04</th>\n",
       "      <td>phone</td>\n",
       "      <td>91</td>\n",
       "      <td>9</td>\n",
       "    </tr>\n",
       "    <tr>\n",
       "      <th>4</th>\n",
       "      <th>2020-01-05</th>\n",
       "      <td>mouse</td>\n",
       "      <td>65</td>\n",
       "      <td>9</td>\n",
       "    </tr>\n",
       "  </tbody>\n",
       "</table>\n",
       "</div>"
      ],
      "text/plain": [
       "                item  price  quantity\n",
       "  date                               \n",
       "0 2020-01-01   mouse     35         5\n",
       "1 2020-01-02  laptop     73         4\n",
       "2 2020-01-03   phone     90         7\n",
       "3 2020-01-04   phone     91         9\n",
       "4 2020-01-05   mouse     65         9"
      ]
     },
     "execution_count": 6285,
     "metadata": {},
     "output_type": "execute_result"
    }
   ],
   "source": [
    "# Добавление к существующему индексу\n",
    "\n",
    "df.set_index('date',\n",
    "             append=True).head()"
   ]
  },
  {
   "cell_type": "code",
   "execution_count": 6286,
   "metadata": {},
   "outputs": [
    {
     "data": {
      "text/html": [
       "<div>\n",
       "<style scoped>\n",
       "    .dataframe tbody tr th:only-of-type {\n",
       "        vertical-align: middle;\n",
       "    }\n",
       "\n",
       "    .dataframe tbody tr th {\n",
       "        vertical-align: top;\n",
       "    }\n",
       "\n",
       "    .dataframe thead th {\n",
       "        text-align: right;\n",
       "    }\n",
       "</style>\n",
       "<table border=\"1\" class=\"dataframe\">\n",
       "  <thead>\n",
       "    <tr style=\"text-align: right;\">\n",
       "      <th></th>\n",
       "      <th></th>\n",
       "      <th>item</th>\n",
       "      <th>quantity</th>\n",
       "    </tr>\n",
       "    <tr>\n",
       "      <th>date</th>\n",
       "      <th>price</th>\n",
       "      <th></th>\n",
       "      <th></th>\n",
       "    </tr>\n",
       "  </thead>\n",
       "  <tbody>\n",
       "    <tr>\n",
       "      <th>2020-01-01</th>\n",
       "      <th>35</th>\n",
       "      <td>mouse</td>\n",
       "      <td>5</td>\n",
       "    </tr>\n",
       "    <tr>\n",
       "      <th>2020-01-02</th>\n",
       "      <th>73</th>\n",
       "      <td>laptop</td>\n",
       "      <td>4</td>\n",
       "    </tr>\n",
       "    <tr>\n",
       "      <th>2020-01-03</th>\n",
       "      <th>90</th>\n",
       "      <td>phone</td>\n",
       "      <td>7</td>\n",
       "    </tr>\n",
       "    <tr>\n",
       "      <th>2020-01-04</th>\n",
       "      <th>91</th>\n",
       "      <td>phone</td>\n",
       "      <td>9</td>\n",
       "    </tr>\n",
       "    <tr>\n",
       "      <th>2020-01-05</th>\n",
       "      <th>65</th>\n",
       "      <td>mouse</td>\n",
       "      <td>9</td>\n",
       "    </tr>\n",
       "  </tbody>\n",
       "</table>\n",
       "</div>"
      ],
      "text/plain": [
       "                    item  quantity\n",
       "date       price                  \n",
       "2020-01-01 35      mouse         5\n",
       "2020-01-02 73     laptop         4\n",
       "2020-01-03 90      phone         7\n",
       "2020-01-04 91      phone         9\n",
       "2020-01-05 65      mouse         9"
      ]
     },
     "metadata": {},
     "output_type": "display_data"
    },
    {
     "data": {
      "text/html": [
       "<div>\n",
       "<style scoped>\n",
       "    .dataframe tbody tr th:only-of-type {\n",
       "        vertical-align: middle;\n",
       "    }\n",
       "\n",
       "    .dataframe tbody tr th {\n",
       "        vertical-align: top;\n",
       "    }\n",
       "\n",
       "    .dataframe thead th {\n",
       "        text-align: right;\n",
       "    }\n",
       "</style>\n",
       "<table border=\"1\" class=\"dataframe\">\n",
       "  <thead>\n",
       "    <tr style=\"text-align: right;\">\n",
       "      <th></th>\n",
       "      <th>date</th>\n",
       "      <th>item</th>\n",
       "      <th>quantity</th>\n",
       "    </tr>\n",
       "    <tr>\n",
       "      <th>price</th>\n",
       "      <th></th>\n",
       "      <th></th>\n",
       "      <th></th>\n",
       "    </tr>\n",
       "  </thead>\n",
       "  <tbody>\n",
       "    <tr>\n",
       "      <th>35</th>\n",
       "      <td>2020-01-01</td>\n",
       "      <td>mouse</td>\n",
       "      <td>5</td>\n",
       "    </tr>\n",
       "    <tr>\n",
       "      <th>73</th>\n",
       "      <td>2020-01-02</td>\n",
       "      <td>laptop</td>\n",
       "      <td>4</td>\n",
       "    </tr>\n",
       "    <tr>\n",
       "      <th>90</th>\n",
       "      <td>2020-01-03</td>\n",
       "      <td>phone</td>\n",
       "      <td>7</td>\n",
       "    </tr>\n",
       "    <tr>\n",
       "      <th>91</th>\n",
       "      <td>2020-01-04</td>\n",
       "      <td>phone</td>\n",
       "      <td>9</td>\n",
       "    </tr>\n",
       "    <tr>\n",
       "      <th>65</th>\n",
       "      <td>2020-01-05</td>\n",
       "      <td>mouse</td>\n",
       "      <td>9</td>\n",
       "    </tr>\n",
       "  </tbody>\n",
       "</table>\n",
       "</div>"
      ],
      "text/plain": [
       "             date    item  quantity\n",
       "price                              \n",
       "35     2020-01-01   mouse         5\n",
       "73     2020-01-02  laptop         4\n",
       "90     2020-01-03   phone         7\n",
       "91     2020-01-04   phone         9\n",
       "65     2020-01-05   mouse         9"
      ]
     },
     "metadata": {},
     "output_type": "display_data"
    }
   ],
   "source": [
    "# Сброс индекса\n",
    "\n",
    "df_new = df.set_index(['date', 'price'])\n",
    "display(df_new.head())\n",
    "\n",
    "df_new.reset_index(['date'], inplace=True)\n",
    "display(df_new.head())"
   ]
  },
  {
   "cell_type": "code",
   "execution_count": 6287,
   "metadata": {},
   "outputs": [
    {
     "data": {
      "text/html": [
       "<div>\n",
       "<style scoped>\n",
       "    .dataframe tbody tr th:only-of-type {\n",
       "        vertical-align: middle;\n",
       "    }\n",
       "\n",
       "    .dataframe tbody tr th {\n",
       "        vertical-align: top;\n",
       "    }\n",
       "\n",
       "    .dataframe thead th {\n",
       "        text-align: right;\n",
       "    }\n",
       "</style>\n",
       "<table border=\"1\" class=\"dataframe\">\n",
       "  <thead>\n",
       "    <tr style=\"text-align: right;\">\n",
       "      <th></th>\n",
       "      <th>date</th>\n",
       "      <th>item</th>\n",
       "      <th>price</th>\n",
       "      <th>quantity</th>\n",
       "    </tr>\n",
       "  </thead>\n",
       "  <tbody>\n",
       "    <tr>\n",
       "      <th>0</th>\n",
       "      <td>2020-01-01</td>\n",
       "      <td>mouse</td>\n",
       "      <td>35</td>\n",
       "      <td>5</td>\n",
       "    </tr>\n",
       "    <tr>\n",
       "      <th>1</th>\n",
       "      <td>2020-01-02</td>\n",
       "      <td>laptop</td>\n",
       "      <td>73</td>\n",
       "      <td>4</td>\n",
       "    </tr>\n",
       "    <tr>\n",
       "      <th>2</th>\n",
       "      <td>2020-01-03</td>\n",
       "      <td>phone</td>\n",
       "      <td>90</td>\n",
       "      <td>7</td>\n",
       "    </tr>\n",
       "    <tr>\n",
       "      <th>3</th>\n",
       "      <td>2020-01-04</td>\n",
       "      <td>phone</td>\n",
       "      <td>91</td>\n",
       "      <td>9</td>\n",
       "    </tr>\n",
       "    <tr>\n",
       "      <th>4</th>\n",
       "      <td>2020-01-05</td>\n",
       "      <td>mouse</td>\n",
       "      <td>65</td>\n",
       "      <td>9</td>\n",
       "    </tr>\n",
       "    <tr>\n",
       "      <th>5</th>\n",
       "      <td>2020-01-06</td>\n",
       "      <td>book</td>\n",
       "      <td>23</td>\n",
       "      <td>4</td>\n",
       "    </tr>\n",
       "  </tbody>\n",
       "</table>\n",
       "</div>"
      ],
      "text/plain": [
       "         date    item  price  quantity\n",
       "0  2020-01-01   mouse     35         5\n",
       "1  2020-01-02  laptop     73         4\n",
       "2  2020-01-03   phone     90         7\n",
       "3  2020-01-04   phone     91         9\n",
       "4  2020-01-05   mouse     65         9\n",
       "5  2020-01-06    book     23         4"
      ]
     },
     "metadata": {},
     "output_type": "display_data"
    },
    {
     "data": {
      "text/html": [
       "<div>\n",
       "<style scoped>\n",
       "    .dataframe tbody tr th:only-of-type {\n",
       "        vertical-align: middle;\n",
       "    }\n",
       "\n",
       "    .dataframe tbody tr th {\n",
       "        vertical-align: top;\n",
       "    }\n",
       "\n",
       "    .dataframe thead th {\n",
       "        text-align: right;\n",
       "    }\n",
       "</style>\n",
       "<table border=\"1\" class=\"dataframe\">\n",
       "  <thead>\n",
       "    <tr style=\"text-align: right;\">\n",
       "      <th></th>\n",
       "      <th>date</th>\n",
       "      <th>item</th>\n",
       "      <th>price</th>\n",
       "      <th>quantity</th>\n",
       "    </tr>\n",
       "  </thead>\n",
       "  <tbody>\n",
       "    <tr>\n",
       "      <th>1</th>\n",
       "      <td>2020-01-02</td>\n",
       "      <td>laptop</td>\n",
       "      <td>73</td>\n",
       "      <td>4</td>\n",
       "    </tr>\n",
       "    <tr>\n",
       "      <th>5</th>\n",
       "      <td>2020-01-06</td>\n",
       "      <td>book</td>\n",
       "      <td>23</td>\n",
       "      <td>4</td>\n",
       "    </tr>\n",
       "  </tbody>\n",
       "</table>\n",
       "</div>"
      ],
      "text/plain": [
       "         date    item  price  quantity\n",
       "1  2020-01-02  laptop     73         4\n",
       "5  2020-01-06    book     23         4"
      ]
     },
     "metadata": {},
     "output_type": "display_data"
    },
    {
     "data": {
      "text/html": [
       "<div>\n",
       "<style scoped>\n",
       "    .dataframe tbody tr th:only-of-type {\n",
       "        vertical-align: middle;\n",
       "    }\n",
       "\n",
       "    .dataframe tbody tr th {\n",
       "        vertical-align: top;\n",
       "    }\n",
       "\n",
       "    .dataframe thead th {\n",
       "        text-align: right;\n",
       "    }\n",
       "</style>\n",
       "<table border=\"1\" class=\"dataframe\">\n",
       "  <thead>\n",
       "    <tr style=\"text-align: right;\">\n",
       "      <th></th>\n",
       "      <th>date</th>\n",
       "      <th>item</th>\n",
       "      <th>price</th>\n",
       "      <th>quantity</th>\n",
       "    </tr>\n",
       "  </thead>\n",
       "  <tbody>\n",
       "    <tr>\n",
       "      <th>0</th>\n",
       "      <td>100</td>\n",
       "      <td>100</td>\n",
       "      <td>100</td>\n",
       "      <td>100</td>\n",
       "    </tr>\n",
       "    <tr>\n",
       "      <th>1</th>\n",
       "      <td>2020-01-02</td>\n",
       "      <td>laptop</td>\n",
       "      <td>73</td>\n",
       "      <td>4</td>\n",
       "    </tr>\n",
       "    <tr>\n",
       "      <th>2</th>\n",
       "      <td>2020-01-03</td>\n",
       "      <td>phone</td>\n",
       "      <td>90</td>\n",
       "      <td>7</td>\n",
       "    </tr>\n",
       "    <tr>\n",
       "      <th>3</th>\n",
       "      <td>2020-01-04</td>\n",
       "      <td>phone</td>\n",
       "      <td>91</td>\n",
       "      <td>9</td>\n",
       "    </tr>\n",
       "    <tr>\n",
       "      <th>4</th>\n",
       "      <td>2020-01-05</td>\n",
       "      <td>mouse</td>\n",
       "      <td>65</td>\n",
       "      <td>9</td>\n",
       "    </tr>\n",
       "    <tr>\n",
       "      <th>5</th>\n",
       "      <td>100</td>\n",
       "      <td>100</td>\n",
       "      <td>100</td>\n",
       "      <td>100</td>\n",
       "    </tr>\n",
       "  </tbody>\n",
       "</table>\n",
       "</div>"
      ],
      "text/plain": [
       "         date    item  price  quantity\n",
       "0         100     100    100       100\n",
       "1  2020-01-02  laptop     73         4\n",
       "2  2020-01-03   phone     90         7\n",
       "3  2020-01-04   phone     91         9\n",
       "4  2020-01-05   mouse     65         9\n",
       "5         100     100    100       100"
      ]
     },
     "metadata": {},
     "output_type": "display_data"
    }
   ],
   "source": [
    "# Возвращаются строки со значением True\n",
    "df_new = df.loc[:5, :]\n",
    "display(df_new)\n",
    "\n",
    "display(df_new[[False, True, False, False, False, True]])\n",
    "\n",
    "# Изменение выбранных строк\n",
    "\n",
    "df_new.loc[[True, False, False, False, False, True]] = 100\n",
    "display(df_new)"
   ]
  },
  {
   "cell_type": "code",
   "execution_count": 6288,
   "metadata": {},
   "outputs": [
    {
     "data": {
      "text/html": [
       "<div>\n",
       "<style scoped>\n",
       "    .dataframe tbody tr th:only-of-type {\n",
       "        vertical-align: middle;\n",
       "    }\n",
       "\n",
       "    .dataframe tbody tr th {\n",
       "        vertical-align: top;\n",
       "    }\n",
       "\n",
       "    .dataframe thead th {\n",
       "        text-align: right;\n",
       "    }\n",
       "</style>\n",
       "<table border=\"1\" class=\"dataframe\">\n",
       "  <thead>\n",
       "    <tr style=\"text-align: right;\">\n",
       "      <th></th>\n",
       "      <th>date</th>\n",
       "    </tr>\n",
       "  </thead>\n",
       "  <tbody>\n",
       "    <tr>\n",
       "      <th>1</th>\n",
       "      <td>2020-01-02</td>\n",
       "    </tr>\n",
       "    <tr>\n",
       "      <th>5</th>\n",
       "      <td>100</td>\n",
       "    </tr>\n",
       "  </tbody>\n",
       "</table>\n",
       "</div>"
      ],
      "text/plain": [
       "         date\n",
       "1  2020-01-02\n",
       "5         100"
      ]
     },
     "execution_count": 6288,
     "metadata": {},
     "output_type": "execute_result"
    }
   ],
   "source": [
    "df_new[[False, True, False, False, False, True]][['date']]"
   ]
  },
  {
   "cell_type": "code",
   "execution_count": 6289,
   "metadata": {},
   "outputs": [
    {
     "data": {
      "text/html": [
       "<div>\n",
       "<style scoped>\n",
       "    .dataframe tbody tr th:only-of-type {\n",
       "        vertical-align: middle;\n",
       "    }\n",
       "\n",
       "    .dataframe tbody tr th {\n",
       "        vertical-align: top;\n",
       "    }\n",
       "\n",
       "    .dataframe thead th {\n",
       "        text-align: right;\n",
       "    }\n",
       "</style>\n",
       "<table border=\"1\" class=\"dataframe\">\n",
       "  <thead>\n",
       "    <tr style=\"text-align: right;\">\n",
       "      <th></th>\n",
       "      <th>date</th>\n",
       "      <th>item</th>\n",
       "      <th>price</th>\n",
       "      <th>quantity</th>\n",
       "    </tr>\n",
       "  </thead>\n",
       "  <tbody>\n",
       "    <tr>\n",
       "      <th>0</th>\n",
       "      <td>100</td>\n",
       "      <td>100</td>\n",
       "      <td>100</td>\n",
       "      <td>100</td>\n",
       "    </tr>\n",
       "    <tr>\n",
       "      <th>1</th>\n",
       "      <td>2020-01-02</td>\n",
       "      <td>laptop</td>\n",
       "      <td>73</td>\n",
       "      <td>4</td>\n",
       "    </tr>\n",
       "    <tr>\n",
       "      <th>2</th>\n",
       "      <td>2020-01-03</td>\n",
       "      <td>phone</td>\n",
       "      <td>90</td>\n",
       "      <td>7</td>\n",
       "    </tr>\n",
       "    <tr>\n",
       "      <th>3</th>\n",
       "      <td>2020-01-04</td>\n",
       "      <td>phone</td>\n",
       "      <td>91</td>\n",
       "      <td>9</td>\n",
       "    </tr>\n",
       "    <tr>\n",
       "      <th>4</th>\n",
       "      <td>2020-01-05</td>\n",
       "      <td>mouse</td>\n",
       "      <td>65</td>\n",
       "      <td>9</td>\n",
       "    </tr>\n",
       "  </tbody>\n",
       "</table>\n",
       "</div>"
      ],
      "text/plain": [
       "         date    item  price  quantity\n",
       "0         100     100    100       100\n",
       "1  2020-01-02  laptop     73         4\n",
       "2  2020-01-03   phone     90         7\n",
       "3  2020-01-04   phone     91         9\n",
       "4  2020-01-05   mouse     65         9"
      ]
     },
     "metadata": {},
     "output_type": "display_data"
    },
    {
     "data": {
      "text/html": [
       "<div>\n",
       "<style scoped>\n",
       "    .dataframe tbody tr th:only-of-type {\n",
       "        vertical-align: middle;\n",
       "    }\n",
       "\n",
       "    .dataframe tbody tr th {\n",
       "        vertical-align: top;\n",
       "    }\n",
       "\n",
       "    .dataframe thead th {\n",
       "        text-align: right;\n",
       "    }\n",
       "</style>\n",
       "<table border=\"1\" class=\"dataframe\">\n",
       "  <thead>\n",
       "    <tr style=\"text-align: right;\">\n",
       "      <th></th>\n",
       "      <th>date</th>\n",
       "      <th>item</th>\n",
       "      <th>price</th>\n",
       "      <th>quantity</th>\n",
       "      <th>new_item</th>\n",
       "      <th>new_price</th>\n",
       "    </tr>\n",
       "  </thead>\n",
       "  <tbody>\n",
       "    <tr>\n",
       "      <th>0</th>\n",
       "      <td>100</td>\n",
       "      <td>100</td>\n",
       "      <td>100</td>\n",
       "      <td>100</td>\n",
       "      <td>100</td>\n",
       "      <td>100</td>\n",
       "    </tr>\n",
       "    <tr>\n",
       "      <th>1</th>\n",
       "      <td>2020-01-02</td>\n",
       "      <td>laptop</td>\n",
       "      <td>73</td>\n",
       "      <td>4</td>\n",
       "      <td>laptop</td>\n",
       "      <td>73</td>\n",
       "    </tr>\n",
       "    <tr>\n",
       "      <th>2</th>\n",
       "      <td>2020-01-03</td>\n",
       "      <td>phone</td>\n",
       "      <td>90</td>\n",
       "      <td>7</td>\n",
       "      <td>phone</td>\n",
       "      <td>90</td>\n",
       "    </tr>\n",
       "    <tr>\n",
       "      <th>3</th>\n",
       "      <td>2020-01-04</td>\n",
       "      <td>phone</td>\n",
       "      <td>91</td>\n",
       "      <td>9</td>\n",
       "      <td>phone</td>\n",
       "      <td>91</td>\n",
       "    </tr>\n",
       "    <tr>\n",
       "      <th>4</th>\n",
       "      <td>2020-01-05</td>\n",
       "      <td>mouse</td>\n",
       "      <td>65</td>\n",
       "      <td>9</td>\n",
       "      <td>mouse</td>\n",
       "      <td>65</td>\n",
       "    </tr>\n",
       "  </tbody>\n",
       "</table>\n",
       "</div>"
      ],
      "text/plain": [
       "         date    item  price  quantity new_item  new_price\n",
       "0         100     100    100       100      100        100\n",
       "1  2020-01-02  laptop     73         4   laptop         73\n",
       "2  2020-01-03   phone     90         7    phone         90\n",
       "3  2020-01-04   phone     91         9    phone         91\n",
       "4  2020-01-05   mouse     65         9    mouse         65"
      ]
     },
     "metadata": {},
     "output_type": "display_data"
    }
   ],
   "source": [
    "# Добавление столбцов\n",
    "\n",
    "display(df_new.head())\n",
    "\n",
    "df_new = df_new.assign(new_item=df_new['item'], new_price=df_new['price'])\n",
    "display(df_new.head())"
   ]
  },
  {
   "cell_type": "markdown",
   "metadata": {},
   "source": [
    "# 1.6 Мультииндекс."
   ]
  },
  {
   "cell_type": "code",
   "execution_count": 6290,
   "metadata": {},
   "outputs": [
    {
     "data": {
      "text/plain": [
       "MultiIndex([(1, 'row_1'),\n",
       "            (1, 'row_2'),\n",
       "            (2, 'row_3'),\n",
       "            (2, 'row_4')],\n",
       "           names=['level_0', 'level_1'])"
      ]
     },
     "execution_count": 6290,
     "metadata": {},
     "output_type": "execute_result"
    }
   ],
   "source": [
    "# Первый способ. Из списка\n",
    "\n",
    "array = [[1, 1, 2, 2],\n",
    "         ['row_1', 'row_2', 'row_3', 'row_4']]\n",
    "multi_array = pd.MultiIndex.from_arrays(array, names=['level_0', 'level_1'])\n",
    "multi_array"
   ]
  },
  {
   "cell_type": "code",
   "execution_count": 6291,
   "metadata": {},
   "outputs": [
    {
     "data": {
      "text/html": [
       "<div>\n",
       "<style scoped>\n",
       "    .dataframe tbody tr th:only-of-type {\n",
       "        vertical-align: middle;\n",
       "    }\n",
       "\n",
       "    .dataframe tbody tr th {\n",
       "        vertical-align: top;\n",
       "    }\n",
       "\n",
       "    .dataframe thead th {\n",
       "        text-align: right;\n",
       "    }\n",
       "</style>\n",
       "<table border=\"1\" class=\"dataframe\">\n",
       "  <thead>\n",
       "    <tr style=\"text-align: right;\">\n",
       "      <th></th>\n",
       "      <th></th>\n",
       "      <th>0</th>\n",
       "      <th>1</th>\n",
       "      <th>2</th>\n",
       "      <th>3</th>\n",
       "    </tr>\n",
       "    <tr>\n",
       "      <th>level_0</th>\n",
       "      <th>level_1</th>\n",
       "      <th></th>\n",
       "      <th></th>\n",
       "      <th></th>\n",
       "      <th></th>\n",
       "    </tr>\n",
       "  </thead>\n",
       "  <tbody>\n",
       "    <tr>\n",
       "      <th rowspan=\"2\" valign=\"top\">1</th>\n",
       "      <th>row_1</th>\n",
       "      <td>4</td>\n",
       "      <td>3</td>\n",
       "      <td>3</td>\n",
       "      <td>4</td>\n",
       "    </tr>\n",
       "    <tr>\n",
       "      <th>row_2</th>\n",
       "      <td>4</td>\n",
       "      <td>2</td>\n",
       "      <td>4</td>\n",
       "      <td>2</td>\n",
       "    </tr>\n",
       "    <tr>\n",
       "      <th rowspan=\"2\" valign=\"top\">2</th>\n",
       "      <th>row_3</th>\n",
       "      <td>4</td>\n",
       "      <td>4</td>\n",
       "      <td>1</td>\n",
       "      <td>2</td>\n",
       "    </tr>\n",
       "    <tr>\n",
       "      <th>row_4</th>\n",
       "      <td>3</td>\n",
       "      <td>2</td>\n",
       "      <td>2</td>\n",
       "      <td>1</td>\n",
       "    </tr>\n",
       "  </tbody>\n",
       "</table>\n",
       "</div>"
      ],
      "text/plain": [
       "                 0  1  2  3\n",
       "level_0 level_1            \n",
       "1       row_1    4  3  3  4\n",
       "        row_2    4  2  4  2\n",
       "2       row_3    4  4  1  2\n",
       "        row_4    3  2  2  1"
      ]
     },
     "execution_count": 6291,
     "metadata": {},
     "output_type": "execute_result"
    }
   ],
   "source": [
    "data = np.random.randint(1, 5, size=[4, 4])\n",
    "df = pd.DataFrame(data, index=multi_array)\n",
    "df"
   ]
  },
  {
   "cell_type": "code",
   "execution_count": 6292,
   "metadata": {},
   "outputs": [
    {
     "data": {
      "text/html": [
       "<div>\n",
       "<style scoped>\n",
       "    .dataframe tbody tr th:only-of-type {\n",
       "        vertical-align: middle;\n",
       "    }\n",
       "\n",
       "    .dataframe tbody tr th {\n",
       "        vertical-align: top;\n",
       "    }\n",
       "\n",
       "    .dataframe thead tr th {\n",
       "        text-align: left;\n",
       "    }\n",
       "</style>\n",
       "<table border=\"1\" class=\"dataframe\">\n",
       "  <thead>\n",
       "    <tr>\n",
       "      <th>level_0</th>\n",
       "      <th colspan=\"2\" halign=\"left\">1</th>\n",
       "      <th colspan=\"2\" halign=\"left\">2</th>\n",
       "    </tr>\n",
       "    <tr>\n",
       "      <th>level_1</th>\n",
       "      <th>row_1</th>\n",
       "      <th>row_2</th>\n",
       "      <th>row_3</th>\n",
       "      <th>row_4</th>\n",
       "    </tr>\n",
       "  </thead>\n",
       "  <tbody>\n",
       "    <tr>\n",
       "      <th>0</th>\n",
       "      <td>4</td>\n",
       "      <td>3</td>\n",
       "      <td>3</td>\n",
       "      <td>4</td>\n",
       "    </tr>\n",
       "    <tr>\n",
       "      <th>1</th>\n",
       "      <td>4</td>\n",
       "      <td>2</td>\n",
       "      <td>4</td>\n",
       "      <td>2</td>\n",
       "    </tr>\n",
       "    <tr>\n",
       "      <th>2</th>\n",
       "      <td>4</td>\n",
       "      <td>4</td>\n",
       "      <td>1</td>\n",
       "      <td>2</td>\n",
       "    </tr>\n",
       "    <tr>\n",
       "      <th>3</th>\n",
       "      <td>3</td>\n",
       "      <td>2</td>\n",
       "      <td>2</td>\n",
       "      <td>1</td>\n",
       "    </tr>\n",
       "  </tbody>\n",
       "</table>\n",
       "</div>"
      ],
      "text/plain": [
       "level_0     1           2      \n",
       "level_1 row_1 row_2 row_3 row_4\n",
       "0           4     3     3     4\n",
       "1           4     2     4     2\n",
       "2           4     4     1     2\n",
       "3           3     2     2     1"
      ]
     },
     "execution_count": 6292,
     "metadata": {},
     "output_type": "execute_result"
    }
   ],
   "source": [
    "df = pd.DataFrame(data, columns=multi_array)\n",
    "df"
   ]
  },
  {
   "cell_type": "code",
   "execution_count": 6293,
   "metadata": {},
   "outputs": [
    {
     "data": {
      "text/plain": [
       "MultiIndex([('row_1', 1),\n",
       "            ('row_1', 2),\n",
       "            ('row_1', 3),\n",
       "            ('row_2', 1),\n",
       "            ('row_2', 2),\n",
       "            ('row_2', 3)],\n",
       "           names=['level_0', 'level_1'])"
      ]
     },
     "execution_count": 6293,
     "metadata": {},
     "output_type": "execute_result"
    }
   ],
   "source": [
    "# Второй способ. Из product\n",
    "\n",
    "level_0 = ['row_1', 'row_2']\n",
    "level_1 = [1, 2, 3]\n",
    "\n",
    "multi_product = pd.MultiIndex.from_product([level_0, level_1], names=['level_0', 'level_1'])\n",
    "multi_product"
   ]
  },
  {
   "cell_type": "code",
   "execution_count": 6294,
   "metadata": {},
   "outputs": [
    {
     "data": {
      "text/html": [
       "<div>\n",
       "<style scoped>\n",
       "    .dataframe tbody tr th:only-of-type {\n",
       "        vertical-align: middle;\n",
       "    }\n",
       "\n",
       "    .dataframe tbody tr th {\n",
       "        vertical-align: top;\n",
       "    }\n",
       "\n",
       "    .dataframe thead th {\n",
       "        text-align: right;\n",
       "    }\n",
       "</style>\n",
       "<table border=\"1\" class=\"dataframe\">\n",
       "  <thead>\n",
       "    <tr style=\"text-align: right;\">\n",
       "      <th></th>\n",
       "      <th></th>\n",
       "      <th>0</th>\n",
       "      <th>1</th>\n",
       "      <th>2</th>\n",
       "      <th>3</th>\n",
       "    </tr>\n",
       "    <tr>\n",
       "      <th>level_0</th>\n",
       "      <th>level_1</th>\n",
       "      <th></th>\n",
       "      <th></th>\n",
       "      <th></th>\n",
       "      <th></th>\n",
       "    </tr>\n",
       "  </thead>\n",
       "  <tbody>\n",
       "    <tr>\n",
       "      <th rowspan=\"3\" valign=\"top\">row_1</th>\n",
       "      <th>1</th>\n",
       "      <td>2</td>\n",
       "      <td>2</td>\n",
       "      <td>3</td>\n",
       "      <td>1</td>\n",
       "    </tr>\n",
       "    <tr>\n",
       "      <th>2</th>\n",
       "      <td>2</td>\n",
       "      <td>4</td>\n",
       "      <td>3</td>\n",
       "      <td>3</td>\n",
       "    </tr>\n",
       "    <tr>\n",
       "      <th>3</th>\n",
       "      <td>4</td>\n",
       "      <td>4</td>\n",
       "      <td>1</td>\n",
       "      <td>4</td>\n",
       "    </tr>\n",
       "    <tr>\n",
       "      <th rowspan=\"3\" valign=\"top\">row_2</th>\n",
       "      <th>1</th>\n",
       "      <td>2</td>\n",
       "      <td>3</td>\n",
       "      <td>4</td>\n",
       "      <td>4</td>\n",
       "    </tr>\n",
       "    <tr>\n",
       "      <th>2</th>\n",
       "      <td>4</td>\n",
       "      <td>4</td>\n",
       "      <td>3</td>\n",
       "      <td>1</td>\n",
       "    </tr>\n",
       "    <tr>\n",
       "      <th>3</th>\n",
       "      <td>4</td>\n",
       "      <td>4</td>\n",
       "      <td>2</td>\n",
       "      <td>2</td>\n",
       "    </tr>\n",
       "  </tbody>\n",
       "</table>\n",
       "</div>"
      ],
      "text/plain": [
       "                 0  1  2  3\n",
       "level_0 level_1            \n",
       "row_1   1        2  2  3  1\n",
       "        2        2  4  3  3\n",
       "        3        4  4  1  4\n",
       "row_2   1        2  3  4  4\n",
       "        2        4  4  3  1\n",
       "        3        4  4  2  2"
      ]
     },
     "execution_count": 6294,
     "metadata": {},
     "output_type": "execute_result"
    }
   ],
   "source": [
    "data = np.random.randint(1, 5, size=[6, 4])\n",
    "df = pd.DataFrame(data, index=multi_product)\n",
    "df"
   ]
  },
  {
   "cell_type": "code",
   "execution_count": 6295,
   "metadata": {},
   "outputs": [
    {
     "data": {
      "text/plain": [
       "MultiIndex([(1, 'row_1'),\n",
       "            (1, 'row_2'),\n",
       "            (1, 'row_3'),\n",
       "            (2, 'row_1'),\n",
       "            (2, 'row_2'),\n",
       "            (2, 'row_3')],\n",
       "           names=['level_0', 'level_1'])"
      ]
     },
     "execution_count": 6295,
     "metadata": {},
     "output_type": "execute_result"
    }
   ],
   "source": [
    "# Второй способ. Из списка кортежей\n",
    "\n",
    "tuples = [(1, 'row_1'), (1, 'row_2'), (1, 'row_3'), (2, 'row_1'), (2, 'row_2'), (2, 'row_3')]\n",
    "\n",
    "multi_tuples = pd.MultiIndex.from_tuples(tuples=tuples, names=['level_0', 'level_1'])\n",
    "multi_tuples"
   ]
  },
  {
   "cell_type": "code",
   "execution_count": 6296,
   "metadata": {},
   "outputs": [
    {
     "data": {
      "text/html": [
       "<div>\n",
       "<style scoped>\n",
       "    .dataframe tbody tr th:only-of-type {\n",
       "        vertical-align: middle;\n",
       "    }\n",
       "\n",
       "    .dataframe tbody tr th {\n",
       "        vertical-align: top;\n",
       "    }\n",
       "\n",
       "    .dataframe thead th {\n",
       "        text-align: right;\n",
       "    }\n",
       "</style>\n",
       "<table border=\"1\" class=\"dataframe\">\n",
       "  <thead>\n",
       "    <tr style=\"text-align: right;\">\n",
       "      <th></th>\n",
       "      <th></th>\n",
       "      <th>0</th>\n",
       "      <th>1</th>\n",
       "      <th>2</th>\n",
       "      <th>3</th>\n",
       "    </tr>\n",
       "    <tr>\n",
       "      <th>level_0</th>\n",
       "      <th>level_1</th>\n",
       "      <th></th>\n",
       "      <th></th>\n",
       "      <th></th>\n",
       "      <th></th>\n",
       "    </tr>\n",
       "  </thead>\n",
       "  <tbody>\n",
       "    <tr>\n",
       "      <th rowspan=\"3\" valign=\"top\">1</th>\n",
       "      <th>row_1</th>\n",
       "      <td>1</td>\n",
       "      <td>2</td>\n",
       "      <td>3</td>\n",
       "      <td>1</td>\n",
       "    </tr>\n",
       "    <tr>\n",
       "      <th>row_2</th>\n",
       "      <td>3</td>\n",
       "      <td>4</td>\n",
       "      <td>3</td>\n",
       "      <td>2</td>\n",
       "    </tr>\n",
       "    <tr>\n",
       "      <th>row_3</th>\n",
       "      <td>3</td>\n",
       "      <td>2</td>\n",
       "      <td>4</td>\n",
       "      <td>4</td>\n",
       "    </tr>\n",
       "    <tr>\n",
       "      <th rowspan=\"3\" valign=\"top\">2</th>\n",
       "      <th>row_1</th>\n",
       "      <td>1</td>\n",
       "      <td>2</td>\n",
       "      <td>2</td>\n",
       "      <td>3</td>\n",
       "    </tr>\n",
       "    <tr>\n",
       "      <th>row_2</th>\n",
       "      <td>1</td>\n",
       "      <td>2</td>\n",
       "      <td>2</td>\n",
       "      <td>3</td>\n",
       "    </tr>\n",
       "    <tr>\n",
       "      <th>row_3</th>\n",
       "      <td>4</td>\n",
       "      <td>1</td>\n",
       "      <td>3</td>\n",
       "      <td>4</td>\n",
       "    </tr>\n",
       "  </tbody>\n",
       "</table>\n",
       "</div>"
      ],
      "text/plain": [
       "                 0  1  2  3\n",
       "level_0 level_1            \n",
       "1       row_1    1  2  3  1\n",
       "        row_2    3  4  3  2\n",
       "        row_3    3  2  4  4\n",
       "2       row_1    1  2  2  3\n",
       "        row_2    1  2  2  3\n",
       "        row_3    4  1  3  4"
      ]
     },
     "execution_count": 6296,
     "metadata": {},
     "output_type": "execute_result"
    }
   ],
   "source": [
    "data = np.random.randint(1, 5, size=[6, 4])\n",
    "df = pd.DataFrame(data, index=multi_tuples)\n",
    "df"
   ]
  },
  {
   "cell_type": "code",
   "execution_count": 6297,
   "metadata": {},
   "outputs": [
    {
     "data": {
      "text/plain": [
       "MultiIndex([(1, 'row_1'),\n",
       "            (1, 'row_2'),\n",
       "            (1, 'row_3'),\n",
       "            (2, 'row_1'),\n",
       "            (2, 'row_2'),\n",
       "            (2, 'row_3')],\n",
       "           names=['level_0', 'level_1'])"
      ]
     },
     "execution_count": 6297,
     "metadata": {},
     "output_type": "execute_result"
    }
   ],
   "source": [
    "# Получение мультииндекса\n",
    "\n",
    "df.index"
   ]
  },
  {
   "cell_type": "code",
   "execution_count": 6298,
   "metadata": {},
   "outputs": [
    {
     "data": {
      "text/plain": [
       "2"
      ]
     },
     "execution_count": 6298,
     "metadata": {},
     "output_type": "execute_result"
    }
   ],
   "source": [
    "# Число уровней\n",
    "\n",
    "df.index.nlevels"
   ]
  },
  {
   "cell_type": "code",
   "execution_count": 6299,
   "metadata": {},
   "outputs": [
    {
     "data": {
      "text/plain": [
       "(2, 3)"
      ]
     },
     "execution_count": 6299,
     "metadata": {},
     "output_type": "execute_result"
    }
   ],
   "source": [
    "# Кортеж с длинной каждого уровня\n",
    "\n",
    "df.index.levshape"
   ]
  },
  {
   "cell_type": "code",
   "execution_count": 6300,
   "metadata": {},
   "outputs": [
    {
     "data": {
      "text/plain": [
       "FrozenList(['level_0', 'level_1'])"
      ]
     },
     "execution_count": 6300,
     "metadata": {},
     "output_type": "execute_result"
    }
   ],
   "source": [
    "# Имена уровней\n",
    "\n",
    "df.index.names"
   ]
  },
  {
   "cell_type": "code",
   "execution_count": 6301,
   "metadata": {},
   "outputs": [
    {
     "data": {
      "text/plain": [
       "FrozenList(['new_level_0', 'new_level_1'])"
      ]
     },
     "execution_count": 6301,
     "metadata": {},
     "output_type": "execute_result"
    }
   ],
   "source": [
    "# Изменение имен\n",
    "\n",
    "df.index.names = ['new_level_0', 'new_level_1']\n",
    "df.index.names"
   ]
  },
  {
   "cell_type": "code",
   "execution_count": 6302,
   "metadata": {},
   "outputs": [
    {
     "data": {
      "text/plain": [
       "FrozenList([[1, 2], ['row_1', 'row_2', 'row_3']])"
      ]
     },
     "execution_count": 6302,
     "metadata": {},
     "output_type": "execute_result"
    }
   ],
   "source": [
    "# Объект, содержащий элементы мультииндекса\n",
    "\n",
    "df.index.levels"
   ]
  },
  {
   "cell_type": "code",
   "execution_count": 6303,
   "metadata": {},
   "outputs": [
    {
     "data": {
      "text/plain": [
       "FrozenList(['level_0', 'new_level_1'])"
      ]
     },
     "execution_count": 6303,
     "metadata": {},
     "output_type": "execute_result"
    }
   ],
   "source": [
    "df.index.set_names('level_0', level=0, inplace=True)\n",
    "df.index.names"
   ]
  },
  {
   "cell_type": "code",
   "execution_count": 6304,
   "metadata": {},
   "outputs": [
    {
     "data": {
      "text/plain": [
       "MultiIndex([('row_1', 1),\n",
       "            ('row_1', 2),\n",
       "            ('row_1', 3),\n",
       "            ('row_2', 1),\n",
       "            ('row_2', 2),\n",
       "            ('row_2', 3)],\n",
       "           names=['level_0', 'level_1'])"
      ]
     },
     "execution_count": 6304,
     "metadata": {},
     "output_type": "execute_result"
    }
   ],
   "source": [
    "df.index = multi_product\n",
    "df.index"
   ]
  },
  {
   "cell_type": "code",
   "execution_count": 6305,
   "metadata": {},
   "outputs": [
    {
     "data": {
      "text/plain": [
       "MultiIndex([(4, 'q'),\n",
       "            (4, 'w'),\n",
       "            (4, 'e'),\n",
       "            (5, 'q'),\n",
       "            (5, 'w'),\n",
       "            (5, 'e')],\n",
       "           names=['level_0', 'level_1'])"
      ]
     },
     "execution_count": 6305,
     "metadata": {},
     "output_type": "execute_result"
    }
   ],
   "source": [
    "# Изменение значений уровней мультииндекса\n",
    "\n",
    "new_index = df.index.set_levels([[4, 5, 6], ['q', 'w', 'e', 'r', 't', 'y']])\n",
    "new_index"
   ]
  },
  {
   "cell_type": "code",
   "execution_count": 6306,
   "metadata": {},
   "outputs": [
    {
     "data": {
      "text/plain": [
       "MultiIndex([('row_1', 'a'),\n",
       "            ('row_1', 'b'),\n",
       "            ('row_1', 'c'),\n",
       "            ('row_2', 'a'),\n",
       "            ('row_2', 'b'),\n",
       "            ('row_2', 'c')],\n",
       "           names=['level_0', 'level_1'])"
      ]
     },
     "execution_count": 6306,
     "metadata": {},
     "output_type": "execute_result"
    }
   ],
   "source": [
    "new_index = df.index.set_levels( ['a', 'b', 'c', 'd', 'e'], level=1)\n",
    "new_index"
   ]
  },
  {
   "cell_type": "code",
   "execution_count": 6307,
   "metadata": {},
   "outputs": [
    {
     "data": {
      "text/html": [
       "<div>\n",
       "<style scoped>\n",
       "    .dataframe tbody tr th:only-of-type {\n",
       "        vertical-align: middle;\n",
       "    }\n",
       "\n",
       "    .dataframe tbody tr th {\n",
       "        vertical-align: top;\n",
       "    }\n",
       "\n",
       "    .dataframe thead th {\n",
       "        text-align: right;\n",
       "    }\n",
       "</style>\n",
       "<table border=\"1\" class=\"dataframe\">\n",
       "  <thead>\n",
       "    <tr style=\"text-align: right;\">\n",
       "      <th></th>\n",
       "      <th>level_0</th>\n",
       "      <th>level_1</th>\n",
       "      <th>0</th>\n",
       "      <th>1</th>\n",
       "      <th>2</th>\n",
       "      <th>3</th>\n",
       "    </tr>\n",
       "  </thead>\n",
       "  <tbody>\n",
       "    <tr>\n",
       "      <th>0</th>\n",
       "      <td>row_1</td>\n",
       "      <td>1</td>\n",
       "      <td>1</td>\n",
       "      <td>2</td>\n",
       "      <td>3</td>\n",
       "      <td>1</td>\n",
       "    </tr>\n",
       "    <tr>\n",
       "      <th>1</th>\n",
       "      <td>row_1</td>\n",
       "      <td>2</td>\n",
       "      <td>3</td>\n",
       "      <td>4</td>\n",
       "      <td>3</td>\n",
       "      <td>2</td>\n",
       "    </tr>\n",
       "    <tr>\n",
       "      <th>2</th>\n",
       "      <td>row_1</td>\n",
       "      <td>3</td>\n",
       "      <td>3</td>\n",
       "      <td>2</td>\n",
       "      <td>4</td>\n",
       "      <td>4</td>\n",
       "    </tr>\n",
       "    <tr>\n",
       "      <th>3</th>\n",
       "      <td>row_2</td>\n",
       "      <td>1</td>\n",
       "      <td>1</td>\n",
       "      <td>2</td>\n",
       "      <td>2</td>\n",
       "      <td>3</td>\n",
       "    </tr>\n",
       "    <tr>\n",
       "      <th>4</th>\n",
       "      <td>row_2</td>\n",
       "      <td>2</td>\n",
       "      <td>1</td>\n",
       "      <td>2</td>\n",
       "      <td>2</td>\n",
       "      <td>3</td>\n",
       "    </tr>\n",
       "    <tr>\n",
       "      <th>5</th>\n",
       "      <td>row_2</td>\n",
       "      <td>3</td>\n",
       "      <td>4</td>\n",
       "      <td>1</td>\n",
       "      <td>3</td>\n",
       "      <td>4</td>\n",
       "    </tr>\n",
       "  </tbody>\n",
       "</table>\n",
       "</div>"
      ],
      "text/plain": [
       "  level_0  level_1  0  1  2  3\n",
       "0   row_1        1  1  2  3  1\n",
       "1   row_1        2  3  4  3  2\n",
       "2   row_1        3  3  2  4  4\n",
       "3   row_2        1  1  2  2  3\n",
       "4   row_2        2  1  2  2  3\n",
       "5   row_2        3  4  1  3  4"
      ]
     },
     "execution_count": 6307,
     "metadata": {},
     "output_type": "execute_result"
    }
   ],
   "source": [
    "# Сброс уровней мультииндекса\n",
    "\n",
    "df_new = df.reset_index()\n",
    "\n",
    "df_new"
   ]
  },
  {
   "cell_type": "code",
   "execution_count": 6308,
   "metadata": {},
   "outputs": [
    {
     "data": {
      "text/html": [
       "<div>\n",
       "<style scoped>\n",
       "    .dataframe tbody tr th:only-of-type {\n",
       "        vertical-align: middle;\n",
       "    }\n",
       "\n",
       "    .dataframe tbody tr th {\n",
       "        vertical-align: top;\n",
       "    }\n",
       "\n",
       "    .dataframe thead th {\n",
       "        text-align: right;\n",
       "    }\n",
       "</style>\n",
       "<table border=\"1\" class=\"dataframe\">\n",
       "  <thead>\n",
       "    <tr style=\"text-align: right;\">\n",
       "      <th></th>\n",
       "      <th>level_0</th>\n",
       "      <th>0</th>\n",
       "      <th>1</th>\n",
       "      <th>2</th>\n",
       "      <th>3</th>\n",
       "    </tr>\n",
       "    <tr>\n",
       "      <th>level_1</th>\n",
       "      <th></th>\n",
       "      <th></th>\n",
       "      <th></th>\n",
       "      <th></th>\n",
       "      <th></th>\n",
       "    </tr>\n",
       "  </thead>\n",
       "  <tbody>\n",
       "    <tr>\n",
       "      <th>1</th>\n",
       "      <td>row_1</td>\n",
       "      <td>1</td>\n",
       "      <td>2</td>\n",
       "      <td>3</td>\n",
       "      <td>1</td>\n",
       "    </tr>\n",
       "    <tr>\n",
       "      <th>2</th>\n",
       "      <td>row_1</td>\n",
       "      <td>3</td>\n",
       "      <td>4</td>\n",
       "      <td>3</td>\n",
       "      <td>2</td>\n",
       "    </tr>\n",
       "    <tr>\n",
       "      <th>3</th>\n",
       "      <td>row_1</td>\n",
       "      <td>3</td>\n",
       "      <td>2</td>\n",
       "      <td>4</td>\n",
       "      <td>4</td>\n",
       "    </tr>\n",
       "    <tr>\n",
       "      <th>1</th>\n",
       "      <td>row_2</td>\n",
       "      <td>1</td>\n",
       "      <td>2</td>\n",
       "      <td>2</td>\n",
       "      <td>3</td>\n",
       "    </tr>\n",
       "    <tr>\n",
       "      <th>2</th>\n",
       "      <td>row_2</td>\n",
       "      <td>1</td>\n",
       "      <td>2</td>\n",
       "      <td>2</td>\n",
       "      <td>3</td>\n",
       "    </tr>\n",
       "    <tr>\n",
       "      <th>3</th>\n",
       "      <td>row_2</td>\n",
       "      <td>4</td>\n",
       "      <td>1</td>\n",
       "      <td>3</td>\n",
       "      <td>4</td>\n",
       "    </tr>\n",
       "  </tbody>\n",
       "</table>\n",
       "</div>"
      ],
      "text/plain": [
       "        level_0  0  1  2  3\n",
       "level_1                    \n",
       "1         row_1  1  2  3  1\n",
       "2         row_1  3  4  3  2\n",
       "3         row_1  3  2  4  4\n",
       "1         row_2  1  2  2  3\n",
       "2         row_2  1  2  2  3\n",
       "3         row_2  4  1  3  4"
      ]
     },
     "execution_count": 6308,
     "metadata": {},
     "output_type": "execute_result"
    }
   ],
   "source": [
    "df_new = df.copy()\n",
    "df_new.reset_index(['level_0'], inplace=True)\n",
    "df_new"
   ]
  },
  {
   "cell_type": "code",
   "execution_count": 6309,
   "metadata": {},
   "outputs": [
    {
     "name": "stdout",
     "output_type": "stream",
     "text": [
      "MultiIndex([('row_1', 1),\n",
      "            ('row_1', 2),\n",
      "            ('row_1', 3),\n",
      "            ('row_2', 1),\n",
      "            ('row_2', 2),\n",
      "            ('row_2', 3)],\n",
      "           names=['level_0', 'level_1'])\n",
      "Index([1, 2, 3, 1, 2, 3], dtype='int64', name='level_1')\n",
      "Index(['row_1', 'row_1', 'row_1', 'row_2', 'row_2', 'row_2'], dtype='object', name='level_0')\n",
      "Index([1, 2, 3, 1, 2, 3], dtype='int64', name='level_1')\n"
     ]
    }
   ],
   "source": [
    "# Удаление мультииндекса\n",
    "\n",
    "print(df.index)\n",
    "\n",
    "new_index = df.index.droplevel()\n",
    "print(new_index)\n",
    "\n",
    "new_index = df.index.droplevel(level=1)\n",
    "print(new_index)\n",
    "\n",
    "new_index = df.index.droplevel(['level_0'])\n",
    "print(new_index)"
   ]
  },
  {
   "cell_type": "code",
   "execution_count": 6310,
   "metadata": {},
   "outputs": [
    {
     "data": {
      "text/plain": [
       "MultiIndex([(1, 'row_1'),\n",
       "            (1, 'row_2'),\n",
       "            (2, 'row_3'),\n",
       "            (2, 'row_4')],\n",
       "           names=['level_0', 'level_1'])"
      ]
     },
     "execution_count": 6310,
     "metadata": {},
     "output_type": "execute_result"
    }
   ],
   "source": [
    "# Первый способ. Из списка\n",
    "\n",
    "array = [[1, 1, 2, 2],\n",
    "         ['row_1', 'row_2', 'row_3', 'row_4']]\n",
    "multi_array = pd.MultiIndex.from_arrays(array, names=['level_0', 'level_1'])\n",
    "multi_array"
   ]
  },
  {
   "cell_type": "code",
   "execution_count": 6311,
   "metadata": {},
   "outputs": [
    {
     "data": {
      "text/html": [
       "<div>\n",
       "<style scoped>\n",
       "    .dataframe tbody tr th:only-of-type {\n",
       "        vertical-align: middle;\n",
       "    }\n",
       "\n",
       "    .dataframe tbody tr th {\n",
       "        vertical-align: top;\n",
       "    }\n",
       "\n",
       "    .dataframe thead tr th {\n",
       "        text-align: left;\n",
       "    }\n",
       "</style>\n",
       "<table border=\"1\" class=\"dataframe\">\n",
       "  <thead>\n",
       "    <tr>\n",
       "      <th>level_0</th>\n",
       "      <th colspan=\"2\" halign=\"left\">1</th>\n",
       "      <th colspan=\"2\" halign=\"left\">2</th>\n",
       "    </tr>\n",
       "    <tr>\n",
       "      <th>level_1</th>\n",
       "      <th>row_1</th>\n",
       "      <th>row_2</th>\n",
       "      <th>row_3</th>\n",
       "      <th>row_4</th>\n",
       "    </tr>\n",
       "  </thead>\n",
       "  <tbody>\n",
       "    <tr>\n",
       "      <th>0</th>\n",
       "      <td>4</td>\n",
       "      <td>4</td>\n",
       "      <td>1</td>\n",
       "      <td>1</td>\n",
       "    </tr>\n",
       "    <tr>\n",
       "      <th>1</th>\n",
       "      <td>3</td>\n",
       "      <td>3</td>\n",
       "      <td>1</td>\n",
       "      <td>1</td>\n",
       "    </tr>\n",
       "    <tr>\n",
       "      <th>2</th>\n",
       "      <td>3</td>\n",
       "      <td>4</td>\n",
       "      <td>2</td>\n",
       "      <td>2</td>\n",
       "    </tr>\n",
       "    <tr>\n",
       "      <th>3</th>\n",
       "      <td>2</td>\n",
       "      <td>3</td>\n",
       "      <td>4</td>\n",
       "      <td>4</td>\n",
       "    </tr>\n",
       "  </tbody>\n",
       "</table>\n",
       "</div>"
      ],
      "text/plain": [
       "level_0     1           2      \n",
       "level_1 row_1 row_2 row_3 row_4\n",
       "0           4     4     1     1\n",
       "1           3     3     1     1\n",
       "2           3     4     2     2\n",
       "3           2     3     4     4"
      ]
     },
     "execution_count": 6311,
     "metadata": {},
     "output_type": "execute_result"
    }
   ],
   "source": [
    "data = np.random.randint(1, 5, size=[4, 4])\n",
    "df = pd.DataFrame(data, columns=multi_array)\n",
    "df"
   ]
  },
  {
   "cell_type": "code",
   "execution_count": 6312,
   "metadata": {},
   "outputs": [
    {
     "data": {
      "text/plain": [
       "FrozenList([[1, 2], ['row_1', 'row_2', 'row_3', 'row_4']])"
      ]
     },
     "execution_count": 6312,
     "metadata": {},
     "output_type": "execute_result"
    }
   ],
   "source": [
    "df.columns.levels"
   ]
  },
  {
   "cell_type": "code",
   "execution_count": 6313,
   "metadata": {},
   "outputs": [
    {
     "data": {
      "text/html": [
       "<div>\n",
       "<style scoped>\n",
       "    .dataframe tbody tr th:only-of-type {\n",
       "        vertical-align: middle;\n",
       "    }\n",
       "\n",
       "    .dataframe tbody tr th {\n",
       "        vertical-align: top;\n",
       "    }\n",
       "\n",
       "    .dataframe thead th {\n",
       "        text-align: right;\n",
       "    }\n",
       "</style>\n",
       "<table border=\"1\" class=\"dataframe\">\n",
       "  <thead>\n",
       "    <tr style=\"text-align: right;\">\n",
       "      <th></th>\n",
       "      <th>asd_1</th>\n",
       "      <th>asd_2</th>\n",
       "      <th>asd_3</th>\n",
       "      <th>asd_4</th>\n",
       "    </tr>\n",
       "  </thead>\n",
       "  <tbody>\n",
       "    <tr>\n",
       "      <th>0</th>\n",
       "      <td>4</td>\n",
       "      <td>4</td>\n",
       "      <td>1</td>\n",
       "      <td>1</td>\n",
       "    </tr>\n",
       "    <tr>\n",
       "      <th>1</th>\n",
       "      <td>3</td>\n",
       "      <td>3</td>\n",
       "      <td>1</td>\n",
       "      <td>1</td>\n",
       "    </tr>\n",
       "    <tr>\n",
       "      <th>2</th>\n",
       "      <td>3</td>\n",
       "      <td>4</td>\n",
       "      <td>2</td>\n",
       "      <td>2</td>\n",
       "    </tr>\n",
       "    <tr>\n",
       "      <th>3</th>\n",
       "      <td>2</td>\n",
       "      <td>3</td>\n",
       "      <td>4</td>\n",
       "      <td>4</td>\n",
       "    </tr>\n",
       "  </tbody>\n",
       "</table>\n",
       "</div>"
      ],
      "text/plain": [
       "   asd_1  asd_2  asd_3  asd_4\n",
       "0      4      4      1      1\n",
       "1      3      3      1      1\n",
       "2      3      4      2      2\n",
       "3      2      3      4      4"
      ]
     },
     "execution_count": 6313,
     "metadata": {},
     "output_type": "execute_result"
    }
   ],
   "source": [
    "df.columns = ['asd_1', 'asd_2', 'asd_3', 'asd_4']\n",
    "df"
   ]
  },
  {
   "cell_type": "markdown",
   "metadata": {},
   "source": [
    "# 1.7 Арифметические операции."
   ]
  },
  {
   "cell_type": "code",
   "execution_count": 6314,
   "metadata": {},
   "outputs": [
    {
     "data": {
      "text/html": [
       "<div>\n",
       "<style scoped>\n",
       "    .dataframe tbody tr th:only-of-type {\n",
       "        vertical-align: middle;\n",
       "    }\n",
       "\n",
       "    .dataframe tbody tr th {\n",
       "        vertical-align: top;\n",
       "    }\n",
       "\n",
       "    .dataframe thead th {\n",
       "        text-align: right;\n",
       "    }\n",
       "</style>\n",
       "<table border=\"1\" class=\"dataframe\">\n",
       "  <thead>\n",
       "    <tr style=\"text-align: right;\">\n",
       "      <th></th>\n",
       "      <th>год рождения</th>\n",
       "      <th>стаж работы</th>\n",
       "      <th>зарплата</th>\n",
       "    </tr>\n",
       "  </thead>\n",
       "  <tbody>\n",
       "    <tr>\n",
       "      <th>0</th>\n",
       "      <td>88</td>\n",
       "      <td>3.25</td>\n",
       "      <td>60</td>\n",
       "    </tr>\n",
       "    <tr>\n",
       "      <th>1</th>\n",
       "      <td>89</td>\n",
       "      <td>4.50</td>\n",
       "      <td>70</td>\n",
       "    </tr>\n",
       "    <tr>\n",
       "      <th>2</th>\n",
       "      <td>90</td>\n",
       "      <td>5.75</td>\n",
       "      <td>80</td>\n",
       "    </tr>\n",
       "    <tr>\n",
       "      <th>3</th>\n",
       "      <td>91</td>\n",
       "      <td>6.25</td>\n",
       "      <td>90</td>\n",
       "    </tr>\n",
       "    <tr>\n",
       "      <th>4</th>\n",
       "      <td>92</td>\n",
       "      <td>7.50</td>\n",
       "      <td>100</td>\n",
       "    </tr>\n",
       "  </tbody>\n",
       "</table>\n",
       "</div>"
      ],
      "text/plain": [
       "   год рождения  стаж работы  зарплата\n",
       "0            88         3.25        60\n",
       "1            89         4.50        70\n",
       "2            90         5.75        80\n",
       "3            91         6.25        90\n",
       "4            92         7.50       100"
      ]
     },
     "metadata": {},
     "output_type": "display_data"
    },
    {
     "data": {
      "text/html": [
       "<div>\n",
       "<style scoped>\n",
       "    .dataframe tbody tr th:only-of-type {\n",
       "        vertical-align: middle;\n",
       "    }\n",
       "\n",
       "    .dataframe tbody tr th {\n",
       "        vertical-align: top;\n",
       "    }\n",
       "\n",
       "    .dataframe thead th {\n",
       "        text-align: right;\n",
       "    }\n",
       "</style>\n",
       "<table border=\"1\" class=\"dataframe\">\n",
       "  <thead>\n",
       "    <tr style=\"text-align: right;\">\n",
       "      <th></th>\n",
       "      <th>год рождения</th>\n",
       "      <th>стаж работы</th>\n",
       "      <th>зарплата</th>\n",
       "    </tr>\n",
       "  </thead>\n",
       "  <tbody>\n",
       "    <tr>\n",
       "      <th>0</th>\n",
       "      <td>1988</td>\n",
       "      <td>39.0</td>\n",
       "      <td>60000</td>\n",
       "    </tr>\n",
       "    <tr>\n",
       "      <th>1</th>\n",
       "      <td>1989</td>\n",
       "      <td>54.0</td>\n",
       "      <td>70000</td>\n",
       "    </tr>\n",
       "    <tr>\n",
       "      <th>2</th>\n",
       "      <td>1990</td>\n",
       "      <td>69.0</td>\n",
       "      <td>80000</td>\n",
       "    </tr>\n",
       "    <tr>\n",
       "      <th>3</th>\n",
       "      <td>1991</td>\n",
       "      <td>75.0</td>\n",
       "      <td>90000</td>\n",
       "    </tr>\n",
       "    <tr>\n",
       "      <th>4</th>\n",
       "      <td>1992</td>\n",
       "      <td>90.0</td>\n",
       "      <td>100000</td>\n",
       "    </tr>\n",
       "  </tbody>\n",
       "</table>\n",
       "</div>"
      ],
      "text/plain": [
       "  год рождения  стаж работы  зарплата\n",
       "0         1988         39.0     60000\n",
       "1         1989         54.0     70000\n",
       "2         1990         69.0     80000\n",
       "3         1991         75.0     90000\n",
       "4         1992         90.0    100000"
      ]
     },
     "metadata": {},
     "output_type": "display_data"
    }
   ],
   "source": [
    "data = {\n",
    "    'год рождения' : [88, 89, 90, 91, 92,],\n",
    "    'стаж работы' : [3.25, 4.50, 5.75, 6.25, 7.50,],\n",
    "    'зарплата' : [60, 70, 80, 90, 100,],\n",
    "}\n",
    "\n",
    "df = pd.DataFrame(data)\n",
    "display(df)\n",
    "\n",
    "df['год рождения'] = '19' + df['год рождения'].astype(str) \n",
    "df['стаж работы'] = df['стаж работы'].mul(12)\n",
    "df['зарплата'] = df['зарплата'].mul(1000)\n",
    "display(df)"
   ]
  },
  {
   "cell_type": "code",
   "execution_count": 6315,
   "metadata": {},
   "outputs": [
    {
     "data": {
      "text/html": [
       "<div>\n",
       "<style scoped>\n",
       "    .dataframe tbody tr th:only-of-type {\n",
       "        vertical-align: middle;\n",
       "    }\n",
       "\n",
       "    .dataframe tbody tr th {\n",
       "        vertical-align: top;\n",
       "    }\n",
       "\n",
       "    .dataframe thead th {\n",
       "        text-align: right;\n",
       "    }\n",
       "</style>\n",
       "<table border=\"1\" class=\"dataframe\">\n",
       "  <thead>\n",
       "    <tr style=\"text-align: right;\">\n",
       "      <th></th>\n",
       "      <th>год рождения</th>\n",
       "      <th>стаж работы</th>\n",
       "      <th>зарплата</th>\n",
       "    </tr>\n",
       "  </thead>\n",
       "  <tbody>\n",
       "    <tr>\n",
       "      <th>0</th>\n",
       "      <td>191988</td>\n",
       "      <td>468.0</td>\n",
       "      <td>60000000</td>\n",
       "    </tr>\n",
       "    <tr>\n",
       "      <th>1</th>\n",
       "      <td>191989</td>\n",
       "      <td>648.0</td>\n",
       "      <td>70000000</td>\n",
       "    </tr>\n",
       "    <tr>\n",
       "      <th>2</th>\n",
       "      <td>191990</td>\n",
       "      <td>828.0</td>\n",
       "      <td>80000000</td>\n",
       "    </tr>\n",
       "    <tr>\n",
       "      <th>3</th>\n",
       "      <td>191991</td>\n",
       "      <td>900.0</td>\n",
       "      <td>90000000</td>\n",
       "    </tr>\n",
       "    <tr>\n",
       "      <th>4</th>\n",
       "      <td>191992</td>\n",
       "      <td>1080.0</td>\n",
       "      <td>100000000</td>\n",
       "    </tr>\n",
       "  </tbody>\n",
       "</table>\n",
       "</div>"
      ],
      "text/plain": [
       "  год рождения  стаж работы   зарплата\n",
       "0       191988        468.0   60000000\n",
       "1       191989        648.0   70000000\n",
       "2       191990        828.0   80000000\n",
       "3       191991        900.0   90000000\n",
       "4       191992       1080.0  100000000"
      ]
     },
     "execution_count": 6315,
     "metadata": {},
     "output_type": "execute_result"
    }
   ],
   "source": [
    "new_df = pd.DataFrame()\n",
    "\n",
    "new_df['год рождения'] = '19' + df['год рождения'].astype(str) \n",
    "new_df['стаж работы'] = df['стаж работы'].mul(12)\n",
    "new_df['зарплата'] = df['зарплата'].mul(1000)\n",
    "\n",
    "new_df"
   ]
  },
  {
   "cell_type": "code",
   "execution_count": 6316,
   "metadata": {},
   "outputs": [
    {
     "data": {
      "text/html": [
       "<div>\n",
       "<style scoped>\n",
       "    .dataframe tbody tr th:only-of-type {\n",
       "        vertical-align: middle;\n",
       "    }\n",
       "\n",
       "    .dataframe tbody tr th {\n",
       "        vertical-align: top;\n",
       "    }\n",
       "\n",
       "    .dataframe thead th {\n",
       "        text-align: right;\n",
       "    }\n",
       "</style>\n",
       "<table border=\"1\" class=\"dataframe\">\n",
       "  <thead>\n",
       "    <tr style=\"text-align: right;\">\n",
       "      <th></th>\n",
       "      <th>age</th>\n",
       "      <th>exp</th>\n",
       "      <th>pr</th>\n",
       "    </tr>\n",
       "  </thead>\n",
       "  <tbody>\n",
       "    <tr>\n",
       "      <th>0</th>\n",
       "      <td>19</td>\n",
       "      <td>3</td>\n",
       "      <td>6000</td>\n",
       "    </tr>\n",
       "    <tr>\n",
       "      <th>1</th>\n",
       "      <td>20</td>\n",
       "      <td>4</td>\n",
       "      <td>7000</td>\n",
       "    </tr>\n",
       "    <tr>\n",
       "      <th>2</th>\n",
       "      <td>21</td>\n",
       "      <td>5</td>\n",
       "      <td>8000</td>\n",
       "    </tr>\n",
       "    <tr>\n",
       "      <th>3</th>\n",
       "      <td>22</td>\n",
       "      <td>6</td>\n",
       "      <td>9000</td>\n",
       "    </tr>\n",
       "  </tbody>\n",
       "</table>\n",
       "</div>"
      ],
      "text/plain": [
       "   age  exp    pr\n",
       "0   19    3  6000\n",
       "1   20    4  7000\n",
       "2   21    5  8000\n",
       "3   22    6  9000"
      ]
     },
     "execution_count": 6316,
     "metadata": {},
     "output_type": "execute_result"
    }
   ],
   "source": [
    "df = pd.DataFrame({'age': range(19, 23),\n",
    "                   'exp': range(3, 7),\n",
    "                   'pr': np.arange(6, 10) * 1000})\n",
    "df"
   ]
  },
  {
   "cell_type": "code",
   "execution_count": 6317,
   "metadata": {},
   "outputs": [
    {
     "data": {
      "text/plain": [
       "exp_mean       22.2\n",
       "age_mean        5.0\n",
       "pr_mean     80000.0\n",
       "dtype: float64"
      ]
     },
     "execution_count": 6317,
     "metadata": {},
     "output_type": "execute_result"
    }
   ],
   "source": [
    "ser = pd.Series({'exp_mean': 22.2,\n",
    "                 'age_mean': 5.0,\n",
    "                 'pr_mean': 80000.0})\n",
    "ser"
   ]
  },
  {
   "cell_type": "code",
   "execution_count": 6318,
   "metadata": {},
   "outputs": [
    {
     "data": {
      "text/html": [
       "<div>\n",
       "<style scoped>\n",
       "    .dataframe tbody tr th:only-of-type {\n",
       "        vertical-align: middle;\n",
       "    }\n",
       "\n",
       "    .dataframe tbody tr th {\n",
       "        vertical-align: top;\n",
       "    }\n",
       "\n",
       "    .dataframe thead th {\n",
       "        text-align: right;\n",
       "    }\n",
       "</style>\n",
       "<table border=\"1\" class=\"dataframe\">\n",
       "  <thead>\n",
       "    <tr style=\"text-align: right;\">\n",
       "      <th></th>\n",
       "      <th>age</th>\n",
       "      <th>exp</th>\n",
       "      <th>pr</th>\n",
       "    </tr>\n",
       "  </thead>\n",
       "  <tbody>\n",
       "    <tr>\n",
       "      <th>0</th>\n",
       "      <td>14.0</td>\n",
       "      <td>-19.2</td>\n",
       "      <td>-74000.0</td>\n",
       "    </tr>\n",
       "    <tr>\n",
       "      <th>1</th>\n",
       "      <td>15.0</td>\n",
       "      <td>-18.2</td>\n",
       "      <td>-73000.0</td>\n",
       "    </tr>\n",
       "    <tr>\n",
       "      <th>2</th>\n",
       "      <td>16.0</td>\n",
       "      <td>-17.2</td>\n",
       "      <td>-72000.0</td>\n",
       "    </tr>\n",
       "    <tr>\n",
       "      <th>3</th>\n",
       "      <td>17.0</td>\n",
       "      <td>-16.2</td>\n",
       "      <td>-71000.0</td>\n",
       "    </tr>\n",
       "  </tbody>\n",
       "</table>\n",
       "</div>"
      ],
      "text/plain": [
       "    age   exp       pr\n",
       "0  14.0 -19.2 -74000.0\n",
       "1  15.0 -18.2 -73000.0\n",
       "2  16.0 -17.2 -72000.0\n",
       "3  17.0 -16.2 -71000.0"
      ]
     },
     "execution_count": 6318,
     "metadata": {},
     "output_type": "execute_result"
    }
   ],
   "source": [
    "new_df = df.sub([ser.iloc[1], ser.iloc[0], ser.iloc[2]])\n",
    "new_df"
   ]
  },
  {
   "cell_type": "code",
   "execution_count": 6319,
   "metadata": {},
   "outputs": [
    {
     "data": {
      "text/html": [
       "<div>\n",
       "<style scoped>\n",
       "    .dataframe tbody tr th:only-of-type {\n",
       "        vertical-align: middle;\n",
       "    }\n",
       "\n",
       "    .dataframe tbody tr th {\n",
       "        vertical-align: top;\n",
       "    }\n",
       "\n",
       "    .dataframe thead th {\n",
       "        text-align: right;\n",
       "    }\n",
       "</style>\n",
       "<table border=\"1\" class=\"dataframe\">\n",
       "  <thead>\n",
       "    <tr style=\"text-align: right;\">\n",
       "      <th></th>\n",
       "      <th>exp</th>\n",
       "      <th>age</th>\n",
       "      <th>pr</th>\n",
       "    </tr>\n",
       "  </thead>\n",
       "  <tbody>\n",
       "    <tr>\n",
       "      <th>0</th>\n",
       "      <td>-19.2</td>\n",
       "      <td>14.0</td>\n",
       "      <td>-74000.0</td>\n",
       "    </tr>\n",
       "    <tr>\n",
       "      <th>1</th>\n",
       "      <td>-18.2</td>\n",
       "      <td>15.0</td>\n",
       "      <td>-73000.0</td>\n",
       "    </tr>\n",
       "    <tr>\n",
       "      <th>2</th>\n",
       "      <td>-17.2</td>\n",
       "      <td>16.0</td>\n",
       "      <td>-72000.0</td>\n",
       "    </tr>\n",
       "    <tr>\n",
       "      <th>3</th>\n",
       "      <td>-16.2</td>\n",
       "      <td>17.0</td>\n",
       "      <td>-71000.0</td>\n",
       "    </tr>\n",
       "  </tbody>\n",
       "</table>\n",
       "</div>"
      ],
      "text/plain": [
       "    exp   age       pr\n",
       "0 -19.2  14.0 -74000.0\n",
       "1 -18.2  15.0 -73000.0\n",
       "2 -17.2  16.0 -72000.0\n",
       "3 -16.2  17.0 -71000.0"
      ]
     },
     "execution_count": 6319,
     "metadata": {},
     "output_type": "execute_result"
    }
   ],
   "source": [
    "new_df = df[['exp', 'age', 'pr']].sub(ser.to_list())\n",
    "new_df"
   ]
  },
  {
   "cell_type": "markdown",
   "metadata": {},
   "source": [
    "# 1.8 Операции сравнения."
   ]
  },
  {
   "cell_type": "code",
   "execution_count": 6320,
   "metadata": {},
   "outputs": [
    {
     "data": {
      "text/plain": [
       "False"
      ]
     },
     "execution_count": 6320,
     "metadata": {},
     "output_type": "execute_result"
    }
   ],
   "source": [
    "np.nan == np.nan"
   ]
  },
  {
   "cell_type": "code",
   "execution_count": 6321,
   "metadata": {},
   "outputs": [
    {
     "data": {
      "text/plain": [
       "False"
      ]
     },
     "execution_count": 6321,
     "metadata": {},
     "output_type": "execute_result"
    }
   ],
   "source": [
    "np.nan < 100"
   ]
  },
  {
   "cell_type": "code",
   "execution_count": 6322,
   "metadata": {},
   "outputs": [
    {
     "data": {
      "text/plain": [
       "0    1\n",
       "1    2\n",
       "2    3\n",
       "3    4\n",
       "4    5\n",
       "dtype: int64"
      ]
     },
     "execution_count": 6322,
     "metadata": {},
     "output_type": "execute_result"
    }
   ],
   "source": [
    "ser = pd.Series([1, 2, 3, 4, 5])\n",
    "ser"
   ]
  },
  {
   "cell_type": "code",
   "execution_count": 6323,
   "metadata": {},
   "outputs": [
    {
     "data": {
      "text/html": [
       "<div>\n",
       "<style scoped>\n",
       "    .dataframe tbody tr th:only-of-type {\n",
       "        vertical-align: middle;\n",
       "    }\n",
       "\n",
       "    .dataframe tbody tr th {\n",
       "        vertical-align: top;\n",
       "    }\n",
       "\n",
       "    .dataframe thead th {\n",
       "        text-align: right;\n",
       "    }\n",
       "</style>\n",
       "<table border=\"1\" class=\"dataframe\">\n",
       "  <thead>\n",
       "    <tr style=\"text-align: right;\">\n",
       "      <th></th>\n",
       "      <th>col_1</th>\n",
       "      <th>col_2</th>\n",
       "      <th>col_3</th>\n",
       "    </tr>\n",
       "  </thead>\n",
       "  <tbody>\n",
       "    <tr>\n",
       "      <th>row_1</th>\n",
       "      <td>5.0</td>\n",
       "      <td>27</td>\n",
       "      <td>1</td>\n",
       "    </tr>\n",
       "    <tr>\n",
       "      <th>row_2</th>\n",
       "      <td>6.0</td>\n",
       "      <td>6</td>\n",
       "      <td>45</td>\n",
       "    </tr>\n",
       "    <tr>\n",
       "      <th>row_3</th>\n",
       "      <td>NaN</td>\n",
       "      <td>7</td>\n",
       "      <td>6</td>\n",
       "    </tr>\n",
       "    <tr>\n",
       "      <th>row_4</th>\n",
       "      <td>3.0</td>\n",
       "      <td>40</td>\n",
       "      <td>62</td>\n",
       "    </tr>\n",
       "    <tr>\n",
       "      <th>row_5</th>\n",
       "      <td>7.0</td>\n",
       "      <td>70</td>\n",
       "      <td>7</td>\n",
       "    </tr>\n",
       "  </tbody>\n",
       "</table>\n",
       "</div>"
      ],
      "text/plain": [
       "       col_1  col_2  col_3\n",
       "row_1    5.0     27      1\n",
       "row_2    6.0      6     45\n",
       "row_3    NaN      7      6\n",
       "row_4    3.0     40     62\n",
       "row_5    7.0     70      7"
      ]
     },
     "execution_count": 6323,
     "metadata": {},
     "output_type": "execute_result"
    }
   ],
   "source": [
    "df = pd.DataFrame({'col_1': [5, 6, np.nan, 3, 7],\n",
    "                   'col_2': [27, 6, 7, 40, 70],\n",
    "                   'col_3': [1, 45, 6, 62, 7]},\n",
    "                   index=['row_1', 'row_2', 'row_3', 'row_4', 'row_5'])\n",
    "df"
   ]
  },
  {
   "cell_type": "code",
   "execution_count": 6324,
   "metadata": {},
   "outputs": [
    {
     "data": {
      "text/html": [
       "<div>\n",
       "<style scoped>\n",
       "    .dataframe tbody tr th:only-of-type {\n",
       "        vertical-align: middle;\n",
       "    }\n",
       "\n",
       "    .dataframe tbody tr th {\n",
       "        vertical-align: top;\n",
       "    }\n",
       "\n",
       "    .dataframe thead th {\n",
       "        text-align: right;\n",
       "    }\n",
       "</style>\n",
       "<table border=\"1\" class=\"dataframe\">\n",
       "  <thead>\n",
       "    <tr style=\"text-align: right;\">\n",
       "      <th></th>\n",
       "      <th>col_1</th>\n",
       "      <th>col_2</th>\n",
       "      <th>col_3</th>\n",
       "    </tr>\n",
       "  </thead>\n",
       "  <tbody>\n",
       "    <tr>\n",
       "      <th>row_1</th>\n",
       "      <td>4.0</td>\n",
       "      <td>26</td>\n",
       "      <td>0</td>\n",
       "    </tr>\n",
       "    <tr>\n",
       "      <th>row_2</th>\n",
       "      <td>5.0</td>\n",
       "      <td>5</td>\n",
       "      <td>44</td>\n",
       "    </tr>\n",
       "    <tr>\n",
       "      <th>row_3</th>\n",
       "      <td>NaN</td>\n",
       "      <td>6</td>\n",
       "      <td>5</td>\n",
       "    </tr>\n",
       "    <tr>\n",
       "      <th>row_4</th>\n",
       "      <td>2.0</td>\n",
       "      <td>39</td>\n",
       "      <td>61</td>\n",
       "    </tr>\n",
       "    <tr>\n",
       "      <th>row_5</th>\n",
       "      <td>6.0</td>\n",
       "      <td>69</td>\n",
       "      <td>6</td>\n",
       "    </tr>\n",
       "  </tbody>\n",
       "</table>\n",
       "</div>"
      ],
      "text/plain": [
       "       col_1  col_2  col_3\n",
       "row_1    4.0     26      0\n",
       "row_2    5.0      5     44\n",
       "row_3    NaN      6      5\n",
       "row_4    2.0     39     61\n",
       "row_5    6.0     69      6"
      ]
     },
     "execution_count": 6324,
     "metadata": {},
     "output_type": "execute_result"
    }
   ],
   "source": [
    "df_copy = df.copy() - 1\n",
    "df_copy"
   ]
  },
  {
   "cell_type": "code",
   "execution_count": 6325,
   "metadata": {},
   "outputs": [
    {
     "data": {
      "text/plain": [
       "0     True\n",
       "1    False\n",
       "2    False\n",
       "3     True\n",
       "4     True\n",
       "dtype: bool"
      ]
     },
     "execution_count": 6325,
     "metadata": {},
     "output_type": "execute_result"
    }
   ],
   "source": [
    "ser == [1, 3, 5, 4, 5]"
   ]
  },
  {
   "cell_type": "code",
   "execution_count": 6326,
   "metadata": {},
   "outputs": [
    {
     "data": {
      "text/plain": [
       "row_1    False\n",
       "row_2     True\n",
       "row_3    False\n",
       "row_4    False\n",
       "row_5    False\n",
       "dtype: bool"
      ]
     },
     "execution_count": 6326,
     "metadata": {},
     "output_type": "execute_result"
    }
   ],
   "source": [
    "df['col_1'] == df['col_2']"
   ]
  },
  {
   "cell_type": "code",
   "execution_count": 6327,
   "metadata": {},
   "outputs": [
    {
     "data": {
      "text/html": [
       "<div>\n",
       "<style scoped>\n",
       "    .dataframe tbody tr th:only-of-type {\n",
       "        vertical-align: middle;\n",
       "    }\n",
       "\n",
       "    .dataframe tbody tr th {\n",
       "        vertical-align: top;\n",
       "    }\n",
       "\n",
       "    .dataframe thead th {\n",
       "        text-align: right;\n",
       "    }\n",
       "</style>\n",
       "<table border=\"1\" class=\"dataframe\">\n",
       "  <thead>\n",
       "    <tr style=\"text-align: right;\">\n",
       "      <th></th>\n",
       "      <th>col_1</th>\n",
       "      <th>col_2</th>\n",
       "      <th>col_3</th>\n",
       "    </tr>\n",
       "  </thead>\n",
       "  <tbody>\n",
       "    <tr>\n",
       "      <th>row_1</th>\n",
       "      <td>False</td>\n",
       "      <td>False</td>\n",
       "      <td>False</td>\n",
       "    </tr>\n",
       "    <tr>\n",
       "      <th>row_2</th>\n",
       "      <td>False</td>\n",
       "      <td>True</td>\n",
       "      <td>False</td>\n",
       "    </tr>\n",
       "    <tr>\n",
       "      <th>row_3</th>\n",
       "      <td>False</td>\n",
       "      <td>False</td>\n",
       "      <td>False</td>\n",
       "    </tr>\n",
       "    <tr>\n",
       "      <th>row_4</th>\n",
       "      <td>False</td>\n",
       "      <td>False</td>\n",
       "      <td>False</td>\n",
       "    </tr>\n",
       "    <tr>\n",
       "      <th>row_5</th>\n",
       "      <td>True</td>\n",
       "      <td>False</td>\n",
       "      <td>False</td>\n",
       "    </tr>\n",
       "  </tbody>\n",
       "</table>\n",
       "</div>"
      ],
      "text/plain": [
       "       col_1  col_2  col_3\n",
       "row_1  False  False  False\n",
       "row_2  False   True  False\n",
       "row_3  False  False  False\n",
       "row_4  False  False  False\n",
       "row_5   True  False  False"
      ]
     },
     "execution_count": 6327,
     "metadata": {},
     "output_type": "execute_result"
    }
   ],
   "source": [
    "# Сравнение по столбцам (3 столбца)\n",
    "\n",
    "df == [7, 6, 5]"
   ]
  },
  {
   "cell_type": "code",
   "execution_count": 6328,
   "metadata": {},
   "outputs": [
    {
     "data": {
      "text/html": [
       "<div>\n",
       "<style scoped>\n",
       "    .dataframe tbody tr th:only-of-type {\n",
       "        vertical-align: middle;\n",
       "    }\n",
       "\n",
       "    .dataframe tbody tr th {\n",
       "        vertical-align: top;\n",
       "    }\n",
       "\n",
       "    .dataframe thead th {\n",
       "        text-align: right;\n",
       "    }\n",
       "</style>\n",
       "<table border=\"1\" class=\"dataframe\">\n",
       "  <thead>\n",
       "    <tr style=\"text-align: right;\">\n",
       "      <th></th>\n",
       "      <th>col_1</th>\n",
       "      <th>col_2</th>\n",
       "      <th>col_3</th>\n",
       "    </tr>\n",
       "  </thead>\n",
       "  <tbody>\n",
       "    <tr>\n",
       "      <th>row_1</th>\n",
       "      <td>True</td>\n",
       "      <td>True</td>\n",
       "      <td>True</td>\n",
       "    </tr>\n",
       "    <tr>\n",
       "      <th>row_2</th>\n",
       "      <td>True</td>\n",
       "      <td>True</td>\n",
       "      <td>True</td>\n",
       "    </tr>\n",
       "    <tr>\n",
       "      <th>row_3</th>\n",
       "      <td>False</td>\n",
       "      <td>True</td>\n",
       "      <td>True</td>\n",
       "    </tr>\n",
       "    <tr>\n",
       "      <th>row_4</th>\n",
       "      <td>True</td>\n",
       "      <td>True</td>\n",
       "      <td>True</td>\n",
       "    </tr>\n",
       "    <tr>\n",
       "      <th>row_5</th>\n",
       "      <td>True</td>\n",
       "      <td>True</td>\n",
       "      <td>True</td>\n",
       "    </tr>\n",
       "  </tbody>\n",
       "</table>\n",
       "</div>"
      ],
      "text/plain": [
       "       col_1  col_2  col_3\n",
       "row_1   True   True   True\n",
       "row_2   True   True   True\n",
       "row_3  False   True   True\n",
       "row_4   True   True   True\n",
       "row_5   True   True   True"
      ]
     },
     "execution_count": 6328,
     "metadata": {},
     "output_type": "execute_result"
    }
   ],
   "source": [
    "# Количество строк, столбцов и их имена должны совпадать\n",
    "\n",
    "df > df_copy"
   ]
  },
  {
   "cell_type": "code",
   "execution_count": 6329,
   "metadata": {},
   "outputs": [],
   "source": [
    "# Возможно сравнение серий и дф с неодинаковыми индексами\n",
    "# Сначала происходит выравнивание индексов\n",
    "# Возможно сравнение по строкам и столбцам (axis=0, axis=1)\n",
    "\n",
    "# eq() - ==\n",
    "# ne() - !=\n",
    "# le() - <=\n",
    "# lt() - <\n",
    "# ge() - >=\n",
    "# gt() - >"
   ]
  },
  {
   "cell_type": "code",
   "execution_count": 6330,
   "metadata": {},
   "outputs": [
    {
     "data": {
      "text/html": [
       "<div>\n",
       "<style scoped>\n",
       "    .dataframe tbody tr th:only-of-type {\n",
       "        vertical-align: middle;\n",
       "    }\n",
       "\n",
       "    .dataframe tbody tr th {\n",
       "        vertical-align: top;\n",
       "    }\n",
       "\n",
       "    .dataframe thead th {\n",
       "        text-align: right;\n",
       "    }\n",
       "</style>\n",
       "<table border=\"1\" class=\"dataframe\">\n",
       "  <thead>\n",
       "    <tr style=\"text-align: right;\">\n",
       "      <th></th>\n",
       "      <th>col_1</th>\n",
       "      <th>col_2</th>\n",
       "      <th>col_3</th>\n",
       "    </tr>\n",
       "  </thead>\n",
       "  <tbody>\n",
       "    <tr>\n",
       "      <th>row_1</th>\n",
       "      <td>False</td>\n",
       "      <td>False</td>\n",
       "      <td>False</td>\n",
       "    </tr>\n",
       "    <tr>\n",
       "      <th>row_2</th>\n",
       "      <td>False</td>\n",
       "      <td>False</td>\n",
       "      <td>False</td>\n",
       "    </tr>\n",
       "    <tr>\n",
       "      <th>row_3</th>\n",
       "      <td>False</td>\n",
       "      <td>False</td>\n",
       "      <td>False</td>\n",
       "    </tr>\n",
       "    <tr>\n",
       "      <th>row_4</th>\n",
       "      <td>False</td>\n",
       "      <td>False</td>\n",
       "      <td>False</td>\n",
       "    </tr>\n",
       "    <tr>\n",
       "      <th>row_5</th>\n",
       "      <td>False</td>\n",
       "      <td>False</td>\n",
       "      <td>False</td>\n",
       "    </tr>\n",
       "    <tr>\n",
       "      <th>0</th>\n",
       "      <td>False</td>\n",
       "      <td>False</td>\n",
       "      <td>False</td>\n",
       "    </tr>\n",
       "    <tr>\n",
       "      <th>1</th>\n",
       "      <td>False</td>\n",
       "      <td>False</td>\n",
       "      <td>False</td>\n",
       "    </tr>\n",
       "    <tr>\n",
       "      <th>2</th>\n",
       "      <td>False</td>\n",
       "      <td>False</td>\n",
       "      <td>False</td>\n",
       "    </tr>\n",
       "    <tr>\n",
       "      <th>3</th>\n",
       "      <td>False</td>\n",
       "      <td>False</td>\n",
       "      <td>False</td>\n",
       "    </tr>\n",
       "    <tr>\n",
       "      <th>4</th>\n",
       "      <td>False</td>\n",
       "      <td>False</td>\n",
       "      <td>False</td>\n",
       "    </tr>\n",
       "  </tbody>\n",
       "</table>\n",
       "</div>"
      ],
      "text/plain": [
       "       col_1  col_2  col_3\n",
       "row_1  False  False  False\n",
       "row_2  False  False  False\n",
       "row_3  False  False  False\n",
       "row_4  False  False  False\n",
       "row_5  False  False  False\n",
       "0      False  False  False\n",
       "1      False  False  False\n",
       "2      False  False  False\n",
       "3      False  False  False\n",
       "4      False  False  False"
      ]
     },
     "execution_count": 6330,
     "metadata": {},
     "output_type": "execute_result"
    }
   ],
   "source": [
    "df.eq(ser, axis=0)"
   ]
  },
  {
   "cell_type": "code",
   "execution_count": 6331,
   "metadata": {},
   "outputs": [
    {
     "data": {
      "text/html": [
       "<div>\n",
       "<style scoped>\n",
       "    .dataframe tbody tr th:only-of-type {\n",
       "        vertical-align: middle;\n",
       "    }\n",
       "\n",
       "    .dataframe tbody tr th {\n",
       "        vertical-align: top;\n",
       "    }\n",
       "\n",
       "    .dataframe thead th {\n",
       "        text-align: right;\n",
       "    }\n",
       "</style>\n",
       "<table border=\"1\" class=\"dataframe\">\n",
       "  <thead>\n",
       "    <tr style=\"text-align: right;\">\n",
       "      <th></th>\n",
       "      <th>col_1</th>\n",
       "      <th>col_2</th>\n",
       "      <th>col_3</th>\n",
       "      <th>0</th>\n",
       "      <th>1</th>\n",
       "      <th>2</th>\n",
       "      <th>3</th>\n",
       "      <th>4</th>\n",
       "    </tr>\n",
       "  </thead>\n",
       "  <tbody>\n",
       "    <tr>\n",
       "      <th>row_1</th>\n",
       "      <td>False</td>\n",
       "      <td>False</td>\n",
       "      <td>False</td>\n",
       "      <td>False</td>\n",
       "      <td>False</td>\n",
       "      <td>False</td>\n",
       "      <td>False</td>\n",
       "      <td>False</td>\n",
       "    </tr>\n",
       "    <tr>\n",
       "      <th>row_2</th>\n",
       "      <td>False</td>\n",
       "      <td>False</td>\n",
       "      <td>False</td>\n",
       "      <td>False</td>\n",
       "      <td>False</td>\n",
       "      <td>False</td>\n",
       "      <td>False</td>\n",
       "      <td>False</td>\n",
       "    </tr>\n",
       "    <tr>\n",
       "      <th>row_3</th>\n",
       "      <td>False</td>\n",
       "      <td>False</td>\n",
       "      <td>False</td>\n",
       "      <td>False</td>\n",
       "      <td>False</td>\n",
       "      <td>False</td>\n",
       "      <td>False</td>\n",
       "      <td>False</td>\n",
       "    </tr>\n",
       "    <tr>\n",
       "      <th>row_4</th>\n",
       "      <td>False</td>\n",
       "      <td>False</td>\n",
       "      <td>False</td>\n",
       "      <td>False</td>\n",
       "      <td>False</td>\n",
       "      <td>False</td>\n",
       "      <td>False</td>\n",
       "      <td>False</td>\n",
       "    </tr>\n",
       "    <tr>\n",
       "      <th>row_5</th>\n",
       "      <td>False</td>\n",
       "      <td>False</td>\n",
       "      <td>False</td>\n",
       "      <td>False</td>\n",
       "      <td>False</td>\n",
       "      <td>False</td>\n",
       "      <td>False</td>\n",
       "      <td>False</td>\n",
       "    </tr>\n",
       "  </tbody>\n",
       "</table>\n",
       "</div>"
      ],
      "text/plain": [
       "       col_1  col_2  col_3      0      1      2      3      4\n",
       "row_1  False  False  False  False  False  False  False  False\n",
       "row_2  False  False  False  False  False  False  False  False\n",
       "row_3  False  False  False  False  False  False  False  False\n",
       "row_4  False  False  False  False  False  False  False  False\n",
       "row_5  False  False  False  False  False  False  False  False"
      ]
     },
     "execution_count": 6331,
     "metadata": {},
     "output_type": "execute_result"
    }
   ],
   "source": [
    "df.eq(ser, axis=1)"
   ]
  },
  {
   "cell_type": "code",
   "execution_count": 6332,
   "metadata": {},
   "outputs": [
    {
     "data": {
      "text/html": [
       "<div>\n",
       "<style scoped>\n",
       "    .dataframe tbody tr th:only-of-type {\n",
       "        vertical-align: middle;\n",
       "    }\n",
       "\n",
       "    .dataframe tbody tr th {\n",
       "        vertical-align: top;\n",
       "    }\n",
       "\n",
       "    .dataframe thead th {\n",
       "        text-align: right;\n",
       "    }\n",
       "</style>\n",
       "<table border=\"1\" class=\"dataframe\">\n",
       "  <thead>\n",
       "    <tr style=\"text-align: right;\">\n",
       "      <th></th>\n",
       "      <th>col_1</th>\n",
       "      <th>col_2</th>\n",
       "      <th>col_3</th>\n",
       "    </tr>\n",
       "  </thead>\n",
       "  <tbody>\n",
       "    <tr>\n",
       "      <th>row_1</th>\n",
       "      <td>True</td>\n",
       "      <td>True</td>\n",
       "      <td>True</td>\n",
       "    </tr>\n",
       "    <tr>\n",
       "      <th>row_2</th>\n",
       "      <td>True</td>\n",
       "      <td>True</td>\n",
       "      <td>True</td>\n",
       "    </tr>\n",
       "    <tr>\n",
       "      <th>row_3</th>\n",
       "      <td>False</td>\n",
       "      <td>True</td>\n",
       "      <td>True</td>\n",
       "    </tr>\n",
       "    <tr>\n",
       "      <th>row_4</th>\n",
       "      <td>True</td>\n",
       "      <td>True</td>\n",
       "      <td>True</td>\n",
       "    </tr>\n",
       "    <tr>\n",
       "      <th>row_5</th>\n",
       "      <td>True</td>\n",
       "      <td>True</td>\n",
       "      <td>True</td>\n",
       "    </tr>\n",
       "  </tbody>\n",
       "</table>\n",
       "</div>"
      ],
      "text/plain": [
       "       col_1  col_2  col_3\n",
       "row_1   True   True   True\n",
       "row_2   True   True   True\n",
       "row_3  False   True   True\n",
       "row_4   True   True   True\n",
       "row_5   True   True   True"
      ]
     },
     "execution_count": 6332,
     "metadata": {},
     "output_type": "execute_result"
    }
   ],
   "source": [
    "# df < df[['col_3', 'col_2', 'col_1']] - ошибка\n",
    "\n",
    "df.eq(df[['col_3', 'col_2', 'col_1']]) # - выравнивание индексов"
   ]
  },
  {
   "cell_type": "code",
   "execution_count": 6333,
   "metadata": {},
   "outputs": [
    {
     "name": "stdout",
     "output_type": "stream",
     "text": [
      "False\n",
      "True\n",
      "False\n"
     ]
    }
   ],
   "source": [
    "# Метод equals\n",
    "\n",
    "print(df.equals(df_new))\n",
    "print(df.equals(df))\n",
    "print(df.equals(df[['col_3', 'col_2', 'col_1']]))"
   ]
  },
  {
   "cell_type": "code",
   "execution_count": 6334,
   "metadata": {},
   "outputs": [
    {
     "data": {
      "text/html": [
       "<div>\n",
       "<style scoped>\n",
       "    .dataframe tbody tr th:only-of-type {\n",
       "        vertical-align: middle;\n",
       "    }\n",
       "\n",
       "    .dataframe tbody tr th {\n",
       "        vertical-align: top;\n",
       "    }\n",
       "\n",
       "    .dataframe thead th {\n",
       "        text-align: right;\n",
       "    }\n",
       "</style>\n",
       "<table border=\"1\" class=\"dataframe\">\n",
       "  <thead>\n",
       "    <tr style=\"text-align: right;\">\n",
       "      <th></th>\n",
       "      <th>col_1</th>\n",
       "      <th>col_2</th>\n",
       "    </tr>\n",
       "  </thead>\n",
       "  <tbody>\n",
       "    <tr>\n",
       "      <th>row_1</th>\n",
       "      <td>5.0</td>\n",
       "      <td>27</td>\n",
       "    </tr>\n",
       "    <tr>\n",
       "      <th>row_2</th>\n",
       "      <td>6.0</td>\n",
       "      <td>6</td>\n",
       "    </tr>\n",
       "    <tr>\n",
       "      <th>row_3</th>\n",
       "      <td>NaN</td>\n",
       "      <td>7</td>\n",
       "    </tr>\n",
       "    <tr>\n",
       "      <th>row_4</th>\n",
       "      <td>3.0</td>\n",
       "      <td>40</td>\n",
       "    </tr>\n",
       "  </tbody>\n",
       "</table>\n",
       "</div>"
      ],
      "text/plain": [
       "       col_1  col_2\n",
       "row_1    5.0     27\n",
       "row_2    6.0      6\n",
       "row_3    NaN      7\n",
       "row_4    3.0     40"
      ]
     },
     "execution_count": 6334,
     "metadata": {},
     "output_type": "execute_result"
    }
   ],
   "source": [
    "df_2 = pd.DataFrame({'col_1': [5, 6, np.nan, 3],\n",
    "                   'col_2': [27, 6, 7, 40]},\n",
    "                   index=['row_1', 'row_2', 'row_3', 'row_4'])\n",
    "df_2"
   ]
  },
  {
   "cell_type": "code",
   "execution_count": 6335,
   "metadata": {},
   "outputs": [
    {
     "name": "stdout",
     "output_type": "stream",
     "text": [
      "False\n",
      "False\n"
     ]
    }
   ],
   "source": [
    "print(df.equals(df_2))\n",
    "print(df_2.equals(ser))"
   ]
  },
  {
   "cell_type": "code",
   "execution_count": 6336,
   "metadata": {},
   "outputs": [
    {
     "data": {
      "text/plain": [
       "exp_mean       5.0\n",
       "age_mean      22.2\n",
       "pr_mean     8000.0\n",
       "dtype: float64"
      ]
     },
     "execution_count": 6336,
     "metadata": {},
     "output_type": "execute_result"
    }
   ],
   "source": [
    "ser = pd.Series([5, 22.2, 8000], ['exp_mean', 'age_mean', 'pr_mean'])\n",
    "ser"
   ]
  },
  {
   "cell_type": "code",
   "execution_count": 6337,
   "metadata": {},
   "outputs": [
    {
     "data": {
      "text/html": [
       "<div>\n",
       "<style scoped>\n",
       "    .dataframe tbody tr th:only-of-type {\n",
       "        vertical-align: middle;\n",
       "    }\n",
       "\n",
       "    .dataframe tbody tr th {\n",
       "        vertical-align: top;\n",
       "    }\n",
       "\n",
       "    .dataframe thead th {\n",
       "        text-align: right;\n",
       "    }\n",
       "</style>\n",
       "<table border=\"1\" class=\"dataframe\">\n",
       "  <thead>\n",
       "    <tr style=\"text-align: right;\">\n",
       "      <th></th>\n",
       "      <th>age</th>\n",
       "      <th>exp</th>\n",
       "      <th>pr</th>\n",
       "    </tr>\n",
       "  </thead>\n",
       "  <tbody>\n",
       "    <tr>\n",
       "      <th>0</th>\n",
       "      <td>22</td>\n",
       "      <td>3</td>\n",
       "      <td>1000</td>\n",
       "    </tr>\n",
       "    <tr>\n",
       "      <th>1</th>\n",
       "      <td>55</td>\n",
       "      <td>2</td>\n",
       "      <td>200000</td>\n",
       "    </tr>\n",
       "    <tr>\n",
       "      <th>2</th>\n",
       "      <td>33</td>\n",
       "      <td>5</td>\n",
       "      <td>33333</td>\n",
       "    </tr>\n",
       "    <tr>\n",
       "      <th>3</th>\n",
       "      <td>21</td>\n",
       "      <td>7</td>\n",
       "      <td>100000</td>\n",
       "    </tr>\n",
       "  </tbody>\n",
       "</table>\n",
       "</div>"
      ],
      "text/plain": [
       "   age  exp      pr\n",
       "0   22    3    1000\n",
       "1   55    2  200000\n",
       "2   33    5   33333\n",
       "3   21    7  100000"
      ]
     },
     "execution_count": 6337,
     "metadata": {},
     "output_type": "execute_result"
    }
   ],
   "source": [
    "df = pd.DataFrame({'age': [22, 55, 33, 21],\n",
    "                   'exp': [3, 2, 5, 7],\n",
    "                   'pr': [1000, 200000, 33333, 100000]})\n",
    "df"
   ]
  },
  {
   "cell_type": "code",
   "execution_count": 6338,
   "metadata": {},
   "outputs": [
    {
     "data": {
      "text/html": [
       "<div>\n",
       "<style scoped>\n",
       "    .dataframe tbody tr th:only-of-type {\n",
       "        vertical-align: middle;\n",
       "    }\n",
       "\n",
       "    .dataframe tbody tr th {\n",
       "        vertical-align: top;\n",
       "    }\n",
       "\n",
       "    .dataframe thead th {\n",
       "        text-align: right;\n",
       "    }\n",
       "</style>\n",
       "<table border=\"1\" class=\"dataframe\">\n",
       "  <thead>\n",
       "    <tr style=\"text-align: right;\">\n",
       "      <th></th>\n",
       "      <th>age</th>\n",
       "      <th>exp</th>\n",
       "      <th>pr</th>\n",
       "    </tr>\n",
       "  </thead>\n",
       "  <tbody>\n",
       "    <tr>\n",
       "      <th>0</th>\n",
       "      <td>False</td>\n",
       "      <td>False</td>\n",
       "      <td>False</td>\n",
       "    </tr>\n",
       "    <tr>\n",
       "      <th>1</th>\n",
       "      <td>True</td>\n",
       "      <td>False</td>\n",
       "      <td>True</td>\n",
       "    </tr>\n",
       "    <tr>\n",
       "      <th>2</th>\n",
       "      <td>True</td>\n",
       "      <td>False</td>\n",
       "      <td>True</td>\n",
       "    </tr>\n",
       "    <tr>\n",
       "      <th>3</th>\n",
       "      <td>False</td>\n",
       "      <td>True</td>\n",
       "      <td>True</td>\n",
       "    </tr>\n",
       "  </tbody>\n",
       "</table>\n",
       "</div>"
      ],
      "text/plain": [
       "     age    exp     pr\n",
       "0  False  False  False\n",
       "1   True  False   True\n",
       "2   True  False   True\n",
       "3  False   True   True"
      ]
     },
     "execution_count": 6338,
     "metadata": {},
     "output_type": "execute_result"
    }
   ],
   "source": [
    "df > ser.loc[['age_mean', 'exp_mean', 'pr_mean']].to_list()"
   ]
  },
  {
   "cell_type": "code",
   "execution_count": 6339,
   "metadata": {},
   "outputs": [
    {
     "data": {
      "text/html": [
       "<div>\n",
       "<style scoped>\n",
       "    .dataframe tbody tr th:only-of-type {\n",
       "        vertical-align: middle;\n",
       "    }\n",
       "\n",
       "    .dataframe tbody tr th {\n",
       "        vertical-align: top;\n",
       "    }\n",
       "\n",
       "    .dataframe thead th {\n",
       "        text-align: right;\n",
       "    }\n",
       "</style>\n",
       "<table border=\"1\" class=\"dataframe\">\n",
       "  <thead>\n",
       "    <tr style=\"text-align: right;\">\n",
       "      <th></th>\n",
       "      <th>age</th>\n",
       "      <th>exp</th>\n",
       "      <th>pr</th>\n",
       "    </tr>\n",
       "  </thead>\n",
       "  <tbody>\n",
       "    <tr>\n",
       "      <th>0</th>\n",
       "      <td>False</td>\n",
       "      <td>False</td>\n",
       "      <td>False</td>\n",
       "    </tr>\n",
       "    <tr>\n",
       "      <th>1</th>\n",
       "      <td>True</td>\n",
       "      <td>False</td>\n",
       "      <td>True</td>\n",
       "    </tr>\n",
       "    <tr>\n",
       "      <th>2</th>\n",
       "      <td>True</td>\n",
       "      <td>False</td>\n",
       "      <td>True</td>\n",
       "    </tr>\n",
       "    <tr>\n",
       "      <th>3</th>\n",
       "      <td>False</td>\n",
       "      <td>True</td>\n",
       "      <td>True</td>\n",
       "    </tr>\n",
       "  </tbody>\n",
       "</table>\n",
       "</div>"
      ],
      "text/plain": [
       "     age    exp     pr\n",
       "0  False  False  False\n",
       "1   True  False   True\n",
       "2   True  False   True\n",
       "3  False   True   True"
      ]
     },
     "execution_count": 6339,
     "metadata": {},
     "output_type": "execute_result"
    }
   ],
   "source": [
    "df > ser.iloc[[1, 0, 2]].to_list()"
   ]
  },
  {
   "cell_type": "markdown",
   "metadata": {},
   "source": [
    "# Методы all() и any()."
   ]
  },
  {
   "cell_type": "code",
   "execution_count": 6340,
   "metadata": {},
   "outputs": [
    {
     "data": {
      "text/html": [
       "<div>\n",
       "<style scoped>\n",
       "    .dataframe tbody tr th:only-of-type {\n",
       "        vertical-align: middle;\n",
       "    }\n",
       "\n",
       "    .dataframe tbody tr th {\n",
       "        vertical-align: top;\n",
       "    }\n",
       "\n",
       "    .dataframe thead th {\n",
       "        text-align: right;\n",
       "    }\n",
       "</style>\n",
       "<table border=\"1\" class=\"dataframe\">\n",
       "  <thead>\n",
       "    <tr style=\"text-align: right;\">\n",
       "      <th></th>\n",
       "      <th>col_1</th>\n",
       "      <th>col_2</th>\n",
       "      <th>col_3</th>\n",
       "    </tr>\n",
       "  </thead>\n",
       "  <tbody>\n",
       "    <tr>\n",
       "      <th>0</th>\n",
       "      <td>True</td>\n",
       "      <td>False</td>\n",
       "      <td>True</td>\n",
       "    </tr>\n",
       "    <tr>\n",
       "      <th>1</th>\n",
       "      <td>False</td>\n",
       "      <td>False</td>\n",
       "      <td>True</td>\n",
       "    </tr>\n",
       "    <tr>\n",
       "      <th>2</th>\n",
       "      <td>True</td>\n",
       "      <td>False</td>\n",
       "      <td>True</td>\n",
       "    </tr>\n",
       "  </tbody>\n",
       "</table>\n",
       "</div>"
      ],
      "text/plain": [
       "   col_1  col_2  col_3\n",
       "0   True  False   True\n",
       "1  False  False   True\n",
       "2   True  False   True"
      ]
     },
     "execution_count": 6340,
     "metadata": {},
     "output_type": "execute_result"
    }
   ],
   "source": [
    "df = pd.DataFrame({'col_1': [True, False, True],\n",
    "                   'col_2': [False, False, False],\n",
    "                   'col_3': [True, True, True]})\n",
    "df"
   ]
  },
  {
   "cell_type": "code",
   "execution_count": 6341,
   "metadata": {},
   "outputs": [
    {
     "data": {
      "text/plain": [
       "col_1    False\n",
       "col_2    False\n",
       "col_3     True\n",
       "dtype: bool"
      ]
     },
     "execution_count": 6341,
     "metadata": {},
     "output_type": "execute_result"
    }
   ],
   "source": [
    "df.all()"
   ]
  },
  {
   "cell_type": "code",
   "execution_count": 6342,
   "metadata": {},
   "outputs": [
    {
     "data": {
      "text/plain": [
       "col_1     True\n",
       "col_2    False\n",
       "col_3     True\n",
       "dtype: bool"
      ]
     },
     "execution_count": 6342,
     "metadata": {},
     "output_type": "execute_result"
    }
   ],
   "source": [
    "df.any()"
   ]
  },
  {
   "cell_type": "code",
   "execution_count": 6343,
   "metadata": {},
   "outputs": [
    {
     "data": {
      "text/plain": [
       "False"
      ]
     },
     "execution_count": 6343,
     "metadata": {},
     "output_type": "execute_result"
    }
   ],
   "source": [
    "# True - если всек элементы True\n",
    "df.all(axis=None)"
   ]
  },
  {
   "cell_type": "code",
   "execution_count": 6344,
   "metadata": {},
   "outputs": [
    {
     "data": {
      "text/plain": [
       "True"
      ]
     },
     "execution_count": 6344,
     "metadata": {},
     "output_type": "execute_result"
    }
   ],
   "source": [
    "# True - если хотя бы один элемент True\n",
    "df.any(axis=None)"
   ]
  },
  {
   "cell_type": "code",
   "execution_count": 6345,
   "metadata": {},
   "outputs": [
    {
     "data": {
      "text/plain": [
       "True"
      ]
     },
     "execution_count": 6345,
     "metadata": {},
     "output_type": "execute_result"
    }
   ],
   "source": [
    "df['col_1'].any()"
   ]
  },
  {
   "cell_type": "code",
   "execution_count": 6346,
   "metadata": {},
   "outputs": [
    {
     "data": {
      "text/plain": [
       "True"
      ]
     },
     "execution_count": 6346,
     "metadata": {},
     "output_type": "execute_result"
    }
   ],
   "source": [
    "df['col_3'].all()"
   ]
  },
  {
   "cell_type": "code",
   "execution_count": 6347,
   "metadata": {},
   "outputs": [
    {
     "data": {
      "text/html": [
       "<div>\n",
       "<style scoped>\n",
       "    .dataframe tbody tr th:only-of-type {\n",
       "        vertical-align: middle;\n",
       "    }\n",
       "\n",
       "    .dataframe tbody tr th {\n",
       "        vertical-align: top;\n",
       "    }\n",
       "\n",
       "    .dataframe thead th {\n",
       "        text-align: right;\n",
       "    }\n",
       "</style>\n",
       "<table border=\"1\" class=\"dataframe\">\n",
       "  <thead>\n",
       "    <tr style=\"text-align: right;\">\n",
       "      <th></th>\n",
       "      <th>age</th>\n",
       "      <th>name</th>\n",
       "      <th>наличие авто</th>\n",
       "    </tr>\n",
       "  </thead>\n",
       "  <tbody>\n",
       "    <tr>\n",
       "      <th>0</th>\n",
       "      <td>53</td>\n",
       "      <td>Сергей</td>\n",
       "      <td>True</td>\n",
       "    </tr>\n",
       "    <tr>\n",
       "      <th>1</th>\n",
       "      <td>37</td>\n",
       "      <td>Маша</td>\n",
       "      <td>True</td>\n",
       "    </tr>\n",
       "    <tr>\n",
       "      <th>2</th>\n",
       "      <td>11</td>\n",
       "      <td>Ксюша</td>\n",
       "      <td>False</td>\n",
       "    </tr>\n",
       "    <tr>\n",
       "      <th>3</th>\n",
       "      <td>18</td>\n",
       "      <td>Аристарх</td>\n",
       "      <td>True</td>\n",
       "    </tr>\n",
       "    <tr>\n",
       "      <th>4</th>\n",
       "      <td>7</td>\n",
       "      <td>Соня</td>\n",
       "      <td>False</td>\n",
       "    </tr>\n",
       "  </tbody>\n",
       "</table>\n",
       "</div>"
      ],
      "text/plain": [
       "   age      name  наличие авто\n",
       "0   53    Сергей          True\n",
       "1   37      Маша          True\n",
       "2   11     Ксюша         False\n",
       "3   18  Аристарх          True\n",
       "4    7      Соня         False"
      ]
     },
     "execution_count": 6347,
     "metadata": {},
     "output_type": "execute_result"
    }
   ],
   "source": [
    "dict_array = {'age': [53, 37, 11, 18, 7],\n",
    "              'name': ['Сергей', 'Маша', 'Ксюша', 'Аристарх', 'Соня'],\n",
    "              'наличие авто': [True, True, False, True, False]}\n",
    "\n",
    "df = pd.DataFrame(dict_array)\n",
    "df"
   ]
  },
  {
   "cell_type": "code",
   "execution_count": 6348,
   "metadata": {},
   "outputs": [
    {
     "data": {
      "text/html": [
       "<div>\n",
       "<style scoped>\n",
       "    .dataframe tbody tr th:only-of-type {\n",
       "        vertical-align: middle;\n",
       "    }\n",
       "\n",
       "    .dataframe tbody tr th {\n",
       "        vertical-align: top;\n",
       "    }\n",
       "\n",
       "    .dataframe thead th {\n",
       "        text-align: right;\n",
       "    }\n",
       "</style>\n",
       "<table border=\"1\" class=\"dataframe\">\n",
       "  <thead>\n",
       "    <tr style=\"text-align: right;\">\n",
       "      <th></th>\n",
       "      <th>age</th>\n",
       "      <th>name</th>\n",
       "      <th>наличие авто</th>\n",
       "    </tr>\n",
       "  </thead>\n",
       "  <tbody>\n",
       "    <tr>\n",
       "      <th>0</th>\n",
       "      <td>53</td>\n",
       "      <td>Сергей</td>\n",
       "      <td>True</td>\n",
       "    </tr>\n",
       "    <tr>\n",
       "      <th>4</th>\n",
       "      <td>7</td>\n",
       "      <td>Соня</td>\n",
       "      <td>False</td>\n",
       "    </tr>\n",
       "  </tbody>\n",
       "</table>\n",
       "</div>"
      ],
      "text/plain": [
       "   age    name  наличие авто\n",
       "0   53  Сергей          True\n",
       "4    7    Соня         False"
      ]
     },
     "execution_count": 6348,
     "metadata": {},
     "output_type": "execute_result"
    }
   ],
   "source": [
    "# Фильтрация по bool\n",
    "\n",
    "df[[True, False, False, False, True]]"
   ]
  },
  {
   "cell_type": "code",
   "execution_count": 6349,
   "metadata": {},
   "outputs": [],
   "source": [
    "age_var = 4"
   ]
  },
  {
   "cell_type": "code",
   "execution_count": 6350,
   "metadata": {},
   "outputs": [
    {
     "data": {
      "text/html": [
       "<div>\n",
       "<style scoped>\n",
       "    .dataframe tbody tr th:only-of-type {\n",
       "        vertical-align: middle;\n",
       "    }\n",
       "\n",
       "    .dataframe tbody tr th {\n",
       "        vertical-align: top;\n",
       "    }\n",
       "\n",
       "    .dataframe thead th {\n",
       "        text-align: right;\n",
       "    }\n",
       "</style>\n",
       "<table border=\"1\" class=\"dataframe\">\n",
       "  <thead>\n",
       "    <tr style=\"text-align: right;\">\n",
       "      <th></th>\n",
       "      <th>age</th>\n",
       "      <th>name</th>\n",
       "      <th>наличие авто</th>\n",
       "    </tr>\n",
       "  </thead>\n",
       "  <tbody>\n",
       "    <tr>\n",
       "      <th>2</th>\n",
       "      <td>11</td>\n",
       "      <td>Ксюша</td>\n",
       "      <td>False</td>\n",
       "    </tr>\n",
       "    <tr>\n",
       "      <th>4</th>\n",
       "      <td>7</td>\n",
       "      <td>Соня</td>\n",
       "      <td>False</td>\n",
       "    </tr>\n",
       "  </tbody>\n",
       "</table>\n",
       "</div>"
      ],
      "text/plain": [
       "   age   name  наличие авто\n",
       "2   11  Ксюша         False\n",
       "4    7   Соня         False"
      ]
     },
     "execution_count": 6350,
     "metadata": {},
     "output_type": "execute_result"
    }
   ],
   "source": [
    "df.query('not `наличие авто` and age < 3 * @age_var') "
   ]
  },
  {
   "cell_type": "code",
   "execution_count": 6351,
   "metadata": {},
   "outputs": [
    {
     "data": {
      "text/html": [
       "<div>\n",
       "<style scoped>\n",
       "    .dataframe tbody tr th:only-of-type {\n",
       "        vertical-align: middle;\n",
       "    }\n",
       "\n",
       "    .dataframe tbody tr th {\n",
       "        vertical-align: top;\n",
       "    }\n",
       "\n",
       "    .dataframe thead th {\n",
       "        text-align: right;\n",
       "    }\n",
       "</style>\n",
       "<table border=\"1\" class=\"dataframe\">\n",
       "  <thead>\n",
       "    <tr style=\"text-align: right;\">\n",
       "      <th></th>\n",
       "      <th>age</th>\n",
       "      <th>name</th>\n",
       "      <th>наличие авто</th>\n",
       "    </tr>\n",
       "  </thead>\n",
       "  <tbody>\n",
       "    <tr>\n",
       "      <th>0</th>\n",
       "      <td>53</td>\n",
       "      <td>Сергей</td>\n",
       "      <td>True</td>\n",
       "    </tr>\n",
       "    <tr>\n",
       "      <th>1</th>\n",
       "      <td>37</td>\n",
       "      <td>Маша</td>\n",
       "      <td>True</td>\n",
       "    </tr>\n",
       "    <tr>\n",
       "      <th>2</th>\n",
       "      <td>11</td>\n",
       "      <td>Ксюша</td>\n",
       "      <td>False</td>\n",
       "    </tr>\n",
       "    <tr>\n",
       "      <th>3</th>\n",
       "      <td>18</td>\n",
       "      <td>Аристарх</td>\n",
       "      <td>True</td>\n",
       "    </tr>\n",
       "    <tr>\n",
       "      <th>4</th>\n",
       "      <td>7</td>\n",
       "      <td>Соня</td>\n",
       "      <td>False</td>\n",
       "    </tr>\n",
       "  </tbody>\n",
       "</table>\n",
       "</div>"
      ],
      "text/plain": [
       "   age      name  наличие авто\n",
       "0   53    Сергей          True\n",
       "1   37      Маша          True\n",
       "2   11     Ксюша         False\n",
       "3   18  Аристарх          True\n",
       "4    7      Соня         False"
      ]
     },
     "execution_count": 6351,
     "metadata": {},
     "output_type": "execute_result"
    }
   ],
   "source": [
    "df"
   ]
  },
  {
   "cell_type": "code",
   "execution_count": 6352,
   "metadata": {},
   "outputs": [
    {
     "data": {
      "text/html": [
       "<div>\n",
       "<style scoped>\n",
       "    .dataframe tbody tr th:only-of-type {\n",
       "        vertical-align: middle;\n",
       "    }\n",
       "\n",
       "    .dataframe tbody tr th {\n",
       "        vertical-align: top;\n",
       "    }\n",
       "\n",
       "    .dataframe thead th {\n",
       "        text-align: right;\n",
       "    }\n",
       "</style>\n",
       "<table border=\"1\" class=\"dataframe\">\n",
       "  <thead>\n",
       "    <tr style=\"text-align: right;\">\n",
       "      <th></th>\n",
       "      <th>age</th>\n",
       "    </tr>\n",
       "  </thead>\n",
       "  <tbody>\n",
       "    <tr>\n",
       "      <th>0</th>\n",
       "      <td>53</td>\n",
       "    </tr>\n",
       "    <tr>\n",
       "      <th>1</th>\n",
       "      <td>37</td>\n",
       "    </tr>\n",
       "    <tr>\n",
       "      <th>2</th>\n",
       "      <td>11</td>\n",
       "    </tr>\n",
       "    <tr>\n",
       "      <th>3</th>\n",
       "      <td>18</td>\n",
       "    </tr>\n",
       "    <tr>\n",
       "      <th>4</th>\n",
       "      <td>7</td>\n",
       "    </tr>\n",
       "  </tbody>\n",
       "</table>\n",
       "</div>"
      ],
      "text/plain": [
       "   age\n",
       "0   53\n",
       "1   37\n",
       "2   11\n",
       "3   18\n",
       "4    7"
      ]
     },
     "execution_count": 6352,
     "metadata": {},
     "output_type": "execute_result"
    }
   ],
   "source": [
    "df_test = df[['age']]\n",
    "df_test"
   ]
  },
  {
   "cell_type": "code",
   "execution_count": 6353,
   "metadata": {},
   "outputs": [
    {
     "data": {
      "text/plain": [
       "[2, 3, 4]"
      ]
     },
     "execution_count": 6353,
     "metadata": {},
     "output_type": "execute_result"
    }
   ],
   "source": [
    "df_test[df_test['age'] < 30].index.to_list()"
   ]
  },
  {
   "cell_type": "code",
   "execution_count": 6354,
   "metadata": {},
   "outputs": [],
   "source": [
    "df['марка авто'] = ['BMW', 'BMW', 'Opel', np.nan, np.nan]"
   ]
  },
  {
   "cell_type": "markdown",
   "metadata": {},
   "source": [
    "# 1.10 Пропуски в данных. Значение Nan."
   ]
  },
  {
   "cell_type": "code",
   "execution_count": 6355,
   "metadata": {},
   "outputs": [
    {
     "data": {
      "text/html": [
       "<div>\n",
       "<style scoped>\n",
       "    .dataframe tbody tr th:only-of-type {\n",
       "        vertical-align: middle;\n",
       "    }\n",
       "\n",
       "    .dataframe tbody tr th {\n",
       "        vertical-align: top;\n",
       "    }\n",
       "\n",
       "    .dataframe thead th {\n",
       "        text-align: right;\n",
       "    }\n",
       "</style>\n",
       "<table border=\"1\" class=\"dataframe\">\n",
       "  <thead>\n",
       "    <tr style=\"text-align: right;\">\n",
       "      <th></th>\n",
       "      <th>age</th>\n",
       "      <th>name</th>\n",
       "      <th>наличие авто</th>\n",
       "      <th>марка авто</th>\n",
       "    </tr>\n",
       "  </thead>\n",
       "  <tbody>\n",
       "    <tr>\n",
       "      <th>0</th>\n",
       "      <td>53</td>\n",
       "      <td>Сергей</td>\n",
       "      <td>True</td>\n",
       "      <td>BMW</td>\n",
       "    </tr>\n",
       "    <tr>\n",
       "      <th>1</th>\n",
       "      <td>37</td>\n",
       "      <td>Маша</td>\n",
       "      <td>True</td>\n",
       "      <td>BMW</td>\n",
       "    </tr>\n",
       "    <tr>\n",
       "      <th>2</th>\n",
       "      <td>11</td>\n",
       "      <td>Ксюша</td>\n",
       "      <td>False</td>\n",
       "      <td>Opel</td>\n",
       "    </tr>\n",
       "    <tr>\n",
       "      <th>3</th>\n",
       "      <td>18</td>\n",
       "      <td>Аристарх</td>\n",
       "      <td>True</td>\n",
       "      <td>NaN</td>\n",
       "    </tr>\n",
       "    <tr>\n",
       "      <th>4</th>\n",
       "      <td>7</td>\n",
       "      <td>Соня</td>\n",
       "      <td>False</td>\n",
       "      <td>NaN</td>\n",
       "    </tr>\n",
       "  </tbody>\n",
       "</table>\n",
       "</div>"
      ],
      "text/plain": [
       "   age      name  наличие авто марка авто\n",
       "0   53    Сергей          True        BMW\n",
       "1   37      Маша          True        BMW\n",
       "2   11     Ксюша         False       Opel\n",
       "3   18  Аристарх          True        NaN\n",
       "4    7      Соня         False        NaN"
      ]
     },
     "execution_count": 6355,
     "metadata": {},
     "output_type": "execute_result"
    }
   ],
   "source": [
    "df"
   ]
  },
  {
   "cell_type": "code",
   "execution_count": 6356,
   "metadata": {},
   "outputs": [],
   "source": [
    "# Удаление строк и столбцов с пропусками\n",
    "\n",
    "# df.dropna(axis=0)\n",
    "# df.dropna(axis=1)"
   ]
  },
  {
   "cell_type": "code",
   "execution_count": 6357,
   "metadata": {},
   "outputs": [],
   "source": [
    "# df.dropna(how='all')\n",
    "# df.dropna(how='any')"
   ]
  },
  {
   "cell_type": "code",
   "execution_count": 6358,
   "metadata": {},
   "outputs": [],
   "source": [
    "# df.dropna(subset=['age', 'name])"
   ]
  },
  {
   "cell_type": "code",
   "execution_count": 6359,
   "metadata": {},
   "outputs": [],
   "source": [
    "# # Замена пропусков значением\n",
    "\n",
    "# df.fillna(value='var')\n",
    "\n",
    "# df.fillna(value={'age': 20, 'name': 'Юля', 'наличие авто': True})"
   ]
  },
  {
   "cell_type": "code",
   "execution_count": 6360,
   "metadata": {},
   "outputs": [
    {
     "data": {
      "text/html": [
       "<div>\n",
       "<style scoped>\n",
       "    .dataframe tbody tr th:only-of-type {\n",
       "        vertical-align: middle;\n",
       "    }\n",
       "\n",
       "    .dataframe tbody tr th {\n",
       "        vertical-align: top;\n",
       "    }\n",
       "\n",
       "    .dataframe thead th {\n",
       "        text-align: right;\n",
       "    }\n",
       "</style>\n",
       "<table border=\"1\" class=\"dataframe\">\n",
       "  <thead>\n",
       "    <tr style=\"text-align: right;\">\n",
       "      <th></th>\n",
       "      <th>age</th>\n",
       "      <th>name</th>\n",
       "      <th>наличие авто</th>\n",
       "      <th>марка авто</th>\n",
       "    </tr>\n",
       "  </thead>\n",
       "  <tbody>\n",
       "    <tr>\n",
       "      <th>3</th>\n",
       "      <td>18</td>\n",
       "      <td>Аристарх</td>\n",
       "      <td>True</td>\n",
       "      <td>NaN</td>\n",
       "    </tr>\n",
       "    <tr>\n",
       "      <th>4</th>\n",
       "      <td>7</td>\n",
       "      <td>Соня</td>\n",
       "      <td>False</td>\n",
       "      <td>NaN</td>\n",
       "    </tr>\n",
       "  </tbody>\n",
       "</table>\n",
       "</div>"
      ],
      "text/plain": [
       "   age      name  наличие авто марка авто\n",
       "3   18  Аристарх          True        NaN\n",
       "4    7      Соня         False        NaN"
      ]
     },
     "execution_count": 6360,
     "metadata": {},
     "output_type": "execute_result"
    }
   ],
   "source": [
    "df[df['марка авто'].isna()]"
   ]
  },
  {
   "cell_type": "code",
   "execution_count": 6361,
   "metadata": {},
   "outputs": [
    {
     "data": {
      "text/html": [
       "<div>\n",
       "<style scoped>\n",
       "    .dataframe tbody tr th:only-of-type {\n",
       "        vertical-align: middle;\n",
       "    }\n",
       "\n",
       "    .dataframe tbody tr th {\n",
       "        vertical-align: top;\n",
       "    }\n",
       "\n",
       "    .dataframe thead th {\n",
       "        text-align: right;\n",
       "    }\n",
       "</style>\n",
       "<table border=\"1\" class=\"dataframe\">\n",
       "  <thead>\n",
       "    <tr style=\"text-align: right;\">\n",
       "      <th></th>\n",
       "      <th>age</th>\n",
       "      <th>name</th>\n",
       "      <th>наличие авто</th>\n",
       "      <th>марка авто</th>\n",
       "    </tr>\n",
       "  </thead>\n",
       "  <tbody>\n",
       "    <tr>\n",
       "      <th>0</th>\n",
       "      <td>53</td>\n",
       "      <td>Сергей</td>\n",
       "      <td>True</td>\n",
       "      <td>BMW</td>\n",
       "    </tr>\n",
       "    <tr>\n",
       "      <th>1</th>\n",
       "      <td>37</td>\n",
       "      <td>Маша</td>\n",
       "      <td>True</td>\n",
       "      <td>BMW</td>\n",
       "    </tr>\n",
       "    <tr>\n",
       "      <th>2</th>\n",
       "      <td>11</td>\n",
       "      <td>Ксюша</td>\n",
       "      <td>False</td>\n",
       "      <td>Opel</td>\n",
       "    </tr>\n",
       "  </tbody>\n",
       "</table>\n",
       "</div>"
      ],
      "text/plain": [
       "   age    name  наличие авто марка авто\n",
       "0   53  Сергей          True        BMW\n",
       "1   37    Маша          True        BMW\n",
       "2   11   Ксюша         False       Opel"
      ]
     },
     "execution_count": 6361,
     "metadata": {},
     "output_type": "execute_result"
    }
   ],
   "source": [
    "df[ ~ df['марка авто'].isna()]"
   ]
  },
  {
   "cell_type": "code",
   "execution_count": 6362,
   "metadata": {},
   "outputs": [
    {
     "data": {
      "text/html": [
       "<div>\n",
       "<style scoped>\n",
       "    .dataframe tbody tr th:only-of-type {\n",
       "        vertical-align: middle;\n",
       "    }\n",
       "\n",
       "    .dataframe tbody tr th {\n",
       "        vertical-align: top;\n",
       "    }\n",
       "\n",
       "    .dataframe thead th {\n",
       "        text-align: right;\n",
       "    }\n",
       "</style>\n",
       "<table border=\"1\" class=\"dataframe\">\n",
       "  <thead>\n",
       "    <tr style=\"text-align: right;\">\n",
       "      <th></th>\n",
       "      <th>age</th>\n",
       "      <th>name</th>\n",
       "      <th>наличие авто</th>\n",
       "      <th>марка авто</th>\n",
       "    </tr>\n",
       "  </thead>\n",
       "  <tbody>\n",
       "    <tr>\n",
       "      <th>0</th>\n",
       "      <td>53</td>\n",
       "      <td>Сергей</td>\n",
       "      <td>True</td>\n",
       "      <td>BMW</td>\n",
       "    </tr>\n",
       "    <tr>\n",
       "      <th>1</th>\n",
       "      <td>37</td>\n",
       "      <td>Маша</td>\n",
       "      <td>True</td>\n",
       "      <td>BMW</td>\n",
       "    </tr>\n",
       "    <tr>\n",
       "      <th>2</th>\n",
       "      <td>11</td>\n",
       "      <td>Ксюша</td>\n",
       "      <td>False</td>\n",
       "      <td>Opel</td>\n",
       "    </tr>\n",
       "  </tbody>\n",
       "</table>\n",
       "</div>"
      ],
      "text/plain": [
       "   age    name  наличие авто марка авто\n",
       "0   53  Сергей          True        BMW\n",
       "1   37    Маша          True        BMW\n",
       "2   11   Ксюша         False       Opel"
      ]
     },
     "execution_count": 6362,
     "metadata": {},
     "output_type": "execute_result"
    }
   ],
   "source": [
    "df[df['марка авто'].notna()]"
   ]
  },
  {
   "cell_type": "code",
   "execution_count": 6363,
   "metadata": {},
   "outputs": [
    {
     "data": {
      "text/html": [
       "<div>\n",
       "<style scoped>\n",
       "    .dataframe tbody tr th:only-of-type {\n",
       "        vertical-align: middle;\n",
       "    }\n",
       "\n",
       "    .dataframe tbody tr th {\n",
       "        vertical-align: top;\n",
       "    }\n",
       "\n",
       "    .dataframe thead th {\n",
       "        text-align: right;\n",
       "    }\n",
       "</style>\n",
       "<table border=\"1\" class=\"dataframe\">\n",
       "  <thead>\n",
       "    <tr style=\"text-align: right;\">\n",
       "      <th></th>\n",
       "      <th>age</th>\n",
       "      <th>name</th>\n",
       "      <th>наличие авто</th>\n",
       "      <th>марка авто</th>\n",
       "    </tr>\n",
       "  </thead>\n",
       "  <tbody>\n",
       "    <tr>\n",
       "      <th>0</th>\n",
       "      <td>53</td>\n",
       "      <td>Сергей</td>\n",
       "      <td>True</td>\n",
       "      <td>BMW</td>\n",
       "    </tr>\n",
       "    <tr>\n",
       "      <th>1</th>\n",
       "      <td>37</td>\n",
       "      <td>Маша</td>\n",
       "      <td>True</td>\n",
       "      <td>BMW</td>\n",
       "    </tr>\n",
       "    <tr>\n",
       "      <th>2</th>\n",
       "      <td>11</td>\n",
       "      <td>Ксюша</td>\n",
       "      <td>False</td>\n",
       "      <td>Opel</td>\n",
       "    </tr>\n",
       "    <tr>\n",
       "      <th>3</th>\n",
       "      <td>18</td>\n",
       "      <td>Аристарх</td>\n",
       "      <td>True</td>\n",
       "      <td>asd</td>\n",
       "    </tr>\n",
       "    <tr>\n",
       "      <th>4</th>\n",
       "      <td>7</td>\n",
       "      <td>Соня</td>\n",
       "      <td>False</td>\n",
       "      <td>asd</td>\n",
       "    </tr>\n",
       "  </tbody>\n",
       "</table>\n",
       "</div>"
      ],
      "text/plain": [
       "   age      name  наличие авто марка авто\n",
       "0   53    Сергей          True        BMW\n",
       "1   37      Маша          True        BMW\n",
       "2   11     Ксюша         False       Opel\n",
       "3   18  Аристарх          True        asd\n",
       "4    7      Соня         False        asd"
      ]
     },
     "execution_count": 6363,
     "metadata": {},
     "output_type": "execute_result"
    }
   ],
   "source": [
    "df.fillna({'марка авто': 'asd'})"
   ]
  },
  {
   "cell_type": "code",
   "execution_count": 6364,
   "metadata": {},
   "outputs": [
    {
     "data": {
      "text/html": [
       "<div>\n",
       "<style scoped>\n",
       "    .dataframe tbody tr th:only-of-type {\n",
       "        vertical-align: middle;\n",
       "    }\n",
       "\n",
       "    .dataframe tbody tr th {\n",
       "        vertical-align: top;\n",
       "    }\n",
       "\n",
       "    .dataframe thead th {\n",
       "        text-align: right;\n",
       "    }\n",
       "</style>\n",
       "<table border=\"1\" class=\"dataframe\">\n",
       "  <thead>\n",
       "    <tr style=\"text-align: right;\">\n",
       "      <th></th>\n",
       "      <th>age</th>\n",
       "      <th>name</th>\n",
       "      <th>наличие авто</th>\n",
       "      <th>марка авто</th>\n",
       "    </tr>\n",
       "  </thead>\n",
       "  <tbody>\n",
       "    <tr>\n",
       "      <th>0</th>\n",
       "      <td>False</td>\n",
       "      <td>False</td>\n",
       "      <td>False</td>\n",
       "      <td>False</td>\n",
       "    </tr>\n",
       "    <tr>\n",
       "      <th>1</th>\n",
       "      <td>False</td>\n",
       "      <td>False</td>\n",
       "      <td>False</td>\n",
       "      <td>False</td>\n",
       "    </tr>\n",
       "    <tr>\n",
       "      <th>2</th>\n",
       "      <td>False</td>\n",
       "      <td>False</td>\n",
       "      <td>False</td>\n",
       "      <td>False</td>\n",
       "    </tr>\n",
       "    <tr>\n",
       "      <th>3</th>\n",
       "      <td>False</td>\n",
       "      <td>False</td>\n",
       "      <td>False</td>\n",
       "      <td>True</td>\n",
       "    </tr>\n",
       "    <tr>\n",
       "      <th>4</th>\n",
       "      <td>False</td>\n",
       "      <td>False</td>\n",
       "      <td>False</td>\n",
       "      <td>True</td>\n",
       "    </tr>\n",
       "  </tbody>\n",
       "</table>\n",
       "</div>"
      ],
      "text/plain": [
       "     age   name  наличие авто  марка авто\n",
       "0  False  False         False       False\n",
       "1  False  False         False       False\n",
       "2  False  False         False       False\n",
       "3  False  False         False        True\n",
       "4  False  False         False        True"
      ]
     },
     "execution_count": 6364,
     "metadata": {},
     "output_type": "execute_result"
    }
   ],
   "source": [
    "df.isna()"
   ]
  },
  {
   "cell_type": "code",
   "execution_count": 6365,
   "metadata": {},
   "outputs": [
    {
     "data": {
      "text/html": [
       "<div>\n",
       "<style scoped>\n",
       "    .dataframe tbody tr th:only-of-type {\n",
       "        vertical-align: middle;\n",
       "    }\n",
       "\n",
       "    .dataframe tbody tr th {\n",
       "        vertical-align: top;\n",
       "    }\n",
       "\n",
       "    .dataframe thead th {\n",
       "        text-align: right;\n",
       "    }\n",
       "</style>\n",
       "<table border=\"1\" class=\"dataframe\">\n",
       "  <thead>\n",
       "    <tr style=\"text-align: right;\">\n",
       "      <th></th>\n",
       "      <th>age</th>\n",
       "      <th>name</th>\n",
       "      <th>наличие авто</th>\n",
       "      <th>марка авто</th>\n",
       "    </tr>\n",
       "  </thead>\n",
       "  <tbody>\n",
       "    <tr>\n",
       "      <th>0</th>\n",
       "      <td>53</td>\n",
       "      <td>Сергей</td>\n",
       "      <td>True</td>\n",
       "      <td>BMW</td>\n",
       "    </tr>\n",
       "    <tr>\n",
       "      <th>1</th>\n",
       "      <td>37</td>\n",
       "      <td>Маша</td>\n",
       "      <td>True</td>\n",
       "      <td>BMW</td>\n",
       "    </tr>\n",
       "    <tr>\n",
       "      <th>2</th>\n",
       "      <td>11</td>\n",
       "      <td>Ксюша</td>\n",
       "      <td>False</td>\n",
       "      <td>Opel</td>\n",
       "    </tr>\n",
       "  </tbody>\n",
       "</table>\n",
       "</div>"
      ],
      "text/plain": [
       "   age    name  наличие авто марка авто\n",
       "0   53  Сергей          True        BMW\n",
       "1   37    Маша          True        BMW\n",
       "2   11   Ксюша         False       Opel"
      ]
     },
     "execution_count": 6365,
     "metadata": {},
     "output_type": "execute_result"
    }
   ],
   "source": [
    "df.dropna()"
   ]
  },
  {
   "cell_type": "code",
   "execution_count": 6366,
   "metadata": {},
   "outputs": [
    {
     "data": {
      "text/plain": [
       "[0, 1, 2]"
      ]
     },
     "execution_count": 6366,
     "metadata": {},
     "output_type": "execute_result"
    }
   ],
   "source": [
    "stud_list = df[~df.isna().any(axis=1)].index.to_list()\n",
    "stud_list"
   ]
  },
  {
   "cell_type": "markdown",
   "metadata": {},
   "source": [
    "# 1.11 Удаление строк и столбцов"
   ]
  },
  {
   "cell_type": "code",
   "execution_count": 6367,
   "metadata": {},
   "outputs": [
    {
     "data": {
      "text/html": [
       "<div>\n",
       "<style scoped>\n",
       "    .dataframe tbody tr th:only-of-type {\n",
       "        vertical-align: middle;\n",
       "    }\n",
       "\n",
       "    .dataframe tbody tr th {\n",
       "        vertical-align: top;\n",
       "    }\n",
       "\n",
       "    .dataframe thead th {\n",
       "        text-align: right;\n",
       "    }\n",
       "</style>\n",
       "<table border=\"1\" class=\"dataframe\">\n",
       "  <thead>\n",
       "    <tr style=\"text-align: right;\">\n",
       "      <th></th>\n",
       "      <th>age</th>\n",
       "      <th>name</th>\n",
       "      <th>наличие авто</th>\n",
       "      <th>марка авто</th>\n",
       "    </tr>\n",
       "  </thead>\n",
       "  <tbody>\n",
       "    <tr>\n",
       "      <th>0</th>\n",
       "      <td>53</td>\n",
       "      <td>Сергей</td>\n",
       "      <td>True</td>\n",
       "      <td>BMW</td>\n",
       "    </tr>\n",
       "    <tr>\n",
       "      <th>1</th>\n",
       "      <td>37</td>\n",
       "      <td>Маша</td>\n",
       "      <td>True</td>\n",
       "      <td>BMW</td>\n",
       "    </tr>\n",
       "    <tr>\n",
       "      <th>2</th>\n",
       "      <td>11</td>\n",
       "      <td>Ксюша</td>\n",
       "      <td>False</td>\n",
       "      <td>Opel</td>\n",
       "    </tr>\n",
       "    <tr>\n",
       "      <th>3</th>\n",
       "      <td>18</td>\n",
       "      <td>Аристарх</td>\n",
       "      <td>True</td>\n",
       "      <td>NaN</td>\n",
       "    </tr>\n",
       "    <tr>\n",
       "      <th>4</th>\n",
       "      <td>7</td>\n",
       "      <td>Соня</td>\n",
       "      <td>False</td>\n",
       "      <td>NaN</td>\n",
       "    </tr>\n",
       "  </tbody>\n",
       "</table>\n",
       "</div>"
      ],
      "text/plain": [
       "   age      name  наличие авто марка авто\n",
       "0   53    Сергей          True        BMW\n",
       "1   37      Маша          True        BMW\n",
       "2   11     Ксюша         False       Opel\n",
       "3   18  Аристарх          True        NaN\n",
       "4    7      Соня         False        NaN"
      ]
     },
     "execution_count": 6367,
     "metadata": {},
     "output_type": "execute_result"
    }
   ],
   "source": [
    "df"
   ]
  },
  {
   "cell_type": "code",
   "execution_count": 6368,
   "metadata": {},
   "outputs": [
    {
     "data": {
      "text/html": [
       "<div>\n",
       "<style scoped>\n",
       "    .dataframe tbody tr th:only-of-type {\n",
       "        vertical-align: middle;\n",
       "    }\n",
       "\n",
       "    .dataframe tbody tr th {\n",
       "        vertical-align: top;\n",
       "    }\n",
       "\n",
       "    .dataframe thead th {\n",
       "        text-align: right;\n",
       "    }\n",
       "</style>\n",
       "<table border=\"1\" class=\"dataframe\">\n",
       "  <thead>\n",
       "    <tr style=\"text-align: right;\">\n",
       "      <th></th>\n",
       "      <th>age</th>\n",
       "      <th>name</th>\n",
       "      <th>наличие авто</th>\n",
       "      <th>марка авто</th>\n",
       "    </tr>\n",
       "  </thead>\n",
       "  <tbody>\n",
       "    <tr>\n",
       "      <th>0</th>\n",
       "      <td>53</td>\n",
       "      <td>Сергей</td>\n",
       "      <td>True</td>\n",
       "      <td>BMW</td>\n",
       "    </tr>\n",
       "    <tr>\n",
       "      <th>2</th>\n",
       "      <td>11</td>\n",
       "      <td>Ксюша</td>\n",
       "      <td>False</td>\n",
       "      <td>Opel</td>\n",
       "    </tr>\n",
       "    <tr>\n",
       "      <th>4</th>\n",
       "      <td>7</td>\n",
       "      <td>Соня</td>\n",
       "      <td>False</td>\n",
       "      <td>NaN</td>\n",
       "    </tr>\n",
       "  </tbody>\n",
       "</table>\n",
       "</div>"
      ],
      "text/plain": [
       "   age    name  наличие авто марка авто\n",
       "0   53  Сергей          True        BMW\n",
       "2   11   Ксюша         False       Opel\n",
       "4    7    Соня         False        NaN"
      ]
     },
     "execution_count": 6368,
     "metadata": {},
     "output_type": "execute_result"
    }
   ],
   "source": [
    "df.drop([1, 3], axis=0)"
   ]
  },
  {
   "cell_type": "code",
   "execution_count": 6369,
   "metadata": {},
   "outputs": [
    {
     "data": {
      "text/html": [
       "<div>\n",
       "<style scoped>\n",
       "    .dataframe tbody tr th:only-of-type {\n",
       "        vertical-align: middle;\n",
       "    }\n",
       "\n",
       "    .dataframe tbody tr th {\n",
       "        vertical-align: top;\n",
       "    }\n",
       "\n",
       "    .dataframe thead th {\n",
       "        text-align: right;\n",
       "    }\n",
       "</style>\n",
       "<table border=\"1\" class=\"dataframe\">\n",
       "  <thead>\n",
       "    <tr style=\"text-align: right;\">\n",
       "      <th></th>\n",
       "      <th>наличие авто</th>\n",
       "      <th>марка авто</th>\n",
       "    </tr>\n",
       "  </thead>\n",
       "  <tbody>\n",
       "    <tr>\n",
       "      <th>0</th>\n",
       "      <td>True</td>\n",
       "      <td>BMW</td>\n",
       "    </tr>\n",
       "    <tr>\n",
       "      <th>1</th>\n",
       "      <td>True</td>\n",
       "      <td>BMW</td>\n",
       "    </tr>\n",
       "    <tr>\n",
       "      <th>2</th>\n",
       "      <td>False</td>\n",
       "      <td>Opel</td>\n",
       "    </tr>\n",
       "    <tr>\n",
       "      <th>3</th>\n",
       "      <td>True</td>\n",
       "      <td>NaN</td>\n",
       "    </tr>\n",
       "    <tr>\n",
       "      <th>4</th>\n",
       "      <td>False</td>\n",
       "      <td>NaN</td>\n",
       "    </tr>\n",
       "  </tbody>\n",
       "</table>\n",
       "</div>"
      ],
      "text/plain": [
       "   наличие авто марка авто\n",
       "0          True        BMW\n",
       "1          True        BMW\n",
       "2         False       Opel\n",
       "3          True        NaN\n",
       "4         False        NaN"
      ]
     },
     "execution_count": 6369,
     "metadata": {},
     "output_type": "execute_result"
    }
   ],
   "source": [
    "df.drop(['age', 'name'], axis=1)"
   ]
  },
  {
   "cell_type": "code",
   "execution_count": 6370,
   "metadata": {},
   "outputs": [
    {
     "data": {
      "text/html": [
       "<div>\n",
       "<style scoped>\n",
       "    .dataframe tbody tr th:only-of-type {\n",
       "        vertical-align: middle;\n",
       "    }\n",
       "\n",
       "    .dataframe tbody tr th {\n",
       "        vertical-align: top;\n",
       "    }\n",
       "\n",
       "    .dataframe thead th {\n",
       "        text-align: right;\n",
       "    }\n",
       "</style>\n",
       "<table border=\"1\" class=\"dataframe\">\n",
       "  <thead>\n",
       "    <tr style=\"text-align: right;\">\n",
       "      <th></th>\n",
       "      <th>age</th>\n",
       "      <th>наличие авто</th>\n",
       "      <th>марка авто</th>\n",
       "    </tr>\n",
       "  </thead>\n",
       "  <tbody>\n",
       "    <tr>\n",
       "      <th>0</th>\n",
       "      <td>53</td>\n",
       "      <td>True</td>\n",
       "      <td>BMW</td>\n",
       "    </tr>\n",
       "    <tr>\n",
       "      <th>1</th>\n",
       "      <td>37</td>\n",
       "      <td>True</td>\n",
       "      <td>BMW</td>\n",
       "    </tr>\n",
       "    <tr>\n",
       "      <th>3</th>\n",
       "      <td>18</td>\n",
       "      <td>True</td>\n",
       "      <td>NaN</td>\n",
       "    </tr>\n",
       "    <tr>\n",
       "      <th>4</th>\n",
       "      <td>7</td>\n",
       "      <td>False</td>\n",
       "      <td>NaN</td>\n",
       "    </tr>\n",
       "  </tbody>\n",
       "</table>\n",
       "</div>"
      ],
      "text/plain": [
       "   age  наличие авто марка авто\n",
       "0   53          True        BMW\n",
       "1   37          True        BMW\n",
       "3   18          True        NaN\n",
       "4    7         False        NaN"
      ]
     },
     "execution_count": 6370,
     "metadata": {},
     "output_type": "execute_result"
    }
   ],
   "source": [
    "df.drop(index=2, columns='name')"
   ]
  },
  {
   "cell_type": "markdown",
   "metadata": {},
   "source": [
    "# 1.11 Метод astype()."
   ]
  },
  {
   "cell_type": "code",
   "execution_count": 6371,
   "metadata": {},
   "outputs": [
    {
     "data": {
      "text/plain": [
       "age              int64\n",
       "name            object\n",
       "наличие авто      bool\n",
       "марка авто      object\n",
       "dtype: object"
      ]
     },
     "execution_count": 6371,
     "metadata": {},
     "output_type": "execute_result"
    }
   ],
   "source": [
    "df.dtypes"
   ]
  },
  {
   "cell_type": "code",
   "execution_count": 6372,
   "metadata": {},
   "outputs": [
    {
     "data": {
      "text/plain": [
       "Index           132\n",
       "age              40\n",
       "name             40\n",
       "наличие авто      5\n",
       "марка авто       40\n",
       "dtype: int64"
      ]
     },
     "execution_count": 6372,
     "metadata": {},
     "output_type": "execute_result"
    }
   ],
   "source": [
    "df.memory_usage()"
   ]
  },
  {
   "cell_type": "code",
   "execution_count": 6373,
   "metadata": {},
   "outputs": [
    {
     "data": {
      "text/plain": [
       "Index           132\n",
       "age               5\n",
       "name             40\n",
       "наличие авто      5\n",
       "марка авто       40\n",
       "dtype: int64"
      ]
     },
     "execution_count": 6373,
     "metadata": {},
     "output_type": "execute_result"
    }
   ],
   "source": [
    "df['age'] = df['age'].astype('int8')\n",
    "df.memory_usage()"
   ]
  },
  {
   "cell_type": "code",
   "execution_count": 6374,
   "metadata": {},
   "outputs": [
    {
     "data": {
      "text/html": [
       "<div>\n",
       "<style scoped>\n",
       "    .dataframe tbody tr th:only-of-type {\n",
       "        vertical-align: middle;\n",
       "    }\n",
       "\n",
       "    .dataframe tbody tr th {\n",
       "        vertical-align: top;\n",
       "    }\n",
       "\n",
       "    .dataframe thead th {\n",
       "        text-align: right;\n",
       "    }\n",
       "</style>\n",
       "<table border=\"1\" class=\"dataframe\">\n",
       "  <thead>\n",
       "    <tr style=\"text-align: right;\">\n",
       "      <th></th>\n",
       "      <th>age</th>\n",
       "      <th>name</th>\n",
       "      <th>наличие авто</th>\n",
       "      <th>марка авто</th>\n",
       "    </tr>\n",
       "  </thead>\n",
       "  <tbody>\n",
       "    <tr>\n",
       "      <th>0</th>\n",
       "      <td>53</td>\n",
       "      <td>Сергей</td>\n",
       "      <td>True</td>\n",
       "      <td>BMW</td>\n",
       "    </tr>\n",
       "    <tr>\n",
       "      <th>1</th>\n",
       "      <td>37</td>\n",
       "      <td>Маша</td>\n",
       "      <td>True</td>\n",
       "      <td>BMW</td>\n",
       "    </tr>\n",
       "    <tr>\n",
       "      <th>2</th>\n",
       "      <td>11</td>\n",
       "      <td>Ксюша</td>\n",
       "      <td>False</td>\n",
       "      <td>Opel</td>\n",
       "    </tr>\n",
       "    <tr>\n",
       "      <th>3</th>\n",
       "      <td>18</td>\n",
       "      <td>Аристарх</td>\n",
       "      <td>True</td>\n",
       "      <td>NaN</td>\n",
       "    </tr>\n",
       "    <tr>\n",
       "      <th>4</th>\n",
       "      <td>7</td>\n",
       "      <td>Соня</td>\n",
       "      <td>False</td>\n",
       "      <td>NaN</td>\n",
       "    </tr>\n",
       "  </tbody>\n",
       "</table>\n",
       "</div>"
      ],
      "text/plain": [
       "   age      name  наличие авто марка авто\n",
       "0   53    Сергей          True        BMW\n",
       "1   37      Маша          True        BMW\n",
       "2   11     Ксюша         False       Opel\n",
       "3   18  Аристарх          True        NaN\n",
       "4    7      Соня         False        NaN"
      ]
     },
     "metadata": {},
     "output_type": "display_data"
    },
    {
     "data": {
      "text/plain": [
       "Index           132\n",
       "age              10\n",
       "name             40\n",
       "наличие авто      5\n",
       "марка авто      129\n",
       "dtype: int64"
      ]
     },
     "execution_count": 6374,
     "metadata": {},
     "output_type": "execute_result"
    }
   ],
   "source": [
    "df = df.astype({'age': 'int16',\n",
    "                'марка авто': 'category'})\n",
    "display(df)\n",
    "df.memory_usage()"
   ]
  },
  {
   "cell_type": "markdown",
   "metadata": {},
   "source": [
    "# 2.1 Методы at и iat. Методы loс и iloc."
   ]
  },
  {
   "cell_type": "code",
   "execution_count": 6375,
   "metadata": {},
   "outputs": [
    {
     "data": {
      "text/html": [
       "<div>\n",
       "<style scoped>\n",
       "    .dataframe tbody tr th:only-of-type {\n",
       "        vertical-align: middle;\n",
       "    }\n",
       "\n",
       "    .dataframe tbody tr th {\n",
       "        vertical-align: top;\n",
       "    }\n",
       "\n",
       "    .dataframe thead th {\n",
       "        text-align: right;\n",
       "    }\n",
       "</style>\n",
       "<table border=\"1\" class=\"dataframe\">\n",
       "  <thead>\n",
       "    <tr style=\"text-align: right;\">\n",
       "      <th></th>\n",
       "      <th>age</th>\n",
       "      <th>name</th>\n",
       "      <th>наличие авто</th>\n",
       "      <th>марка авто</th>\n",
       "    </tr>\n",
       "  </thead>\n",
       "  <tbody>\n",
       "    <tr>\n",
       "      <th>0</th>\n",
       "      <td>53</td>\n",
       "      <td>Сергей</td>\n",
       "      <td>True</td>\n",
       "      <td>BMW</td>\n",
       "    </tr>\n",
       "    <tr>\n",
       "      <th>1</th>\n",
       "      <td>37</td>\n",
       "      <td>Маша</td>\n",
       "      <td>True</td>\n",
       "      <td>BMW</td>\n",
       "    </tr>\n",
       "    <tr>\n",
       "      <th>2</th>\n",
       "      <td>11</td>\n",
       "      <td>Ксюша</td>\n",
       "      <td>False</td>\n",
       "      <td>Opel</td>\n",
       "    </tr>\n",
       "    <tr>\n",
       "      <th>3</th>\n",
       "      <td>18</td>\n",
       "      <td>Аристарх</td>\n",
       "      <td>True</td>\n",
       "      <td>NaN</td>\n",
       "    </tr>\n",
       "    <tr>\n",
       "      <th>4</th>\n",
       "      <td>7</td>\n",
       "      <td>Соня</td>\n",
       "      <td>False</td>\n",
       "      <td>NaN</td>\n",
       "    </tr>\n",
       "  </tbody>\n",
       "</table>\n",
       "</div>"
      ],
      "text/plain": [
       "   age      name  наличие авто марка авто\n",
       "0   53    Сергей          True        BMW\n",
       "1   37      Маша          True        BMW\n",
       "2   11     Ксюша         False       Opel\n",
       "3   18  Аристарх          True        NaN\n",
       "4    7      Соня         False        NaN"
      ]
     },
     "execution_count": 6375,
     "metadata": {},
     "output_type": "execute_result"
    }
   ],
   "source": [
    "df"
   ]
  },
  {
   "cell_type": "code",
   "execution_count": 6376,
   "metadata": {},
   "outputs": [
    {
     "data": {
      "text/plain": [
       "'Сергей'"
      ]
     },
     "execution_count": 6376,
     "metadata": {},
     "output_type": "execute_result"
    }
   ],
   "source": [
    "# Обращение к одному элементу\n",
    "\n",
    "df.at[0, 'name']"
   ]
  },
  {
   "cell_type": "code",
   "execution_count": 6377,
   "metadata": {},
   "outputs": [
    {
     "data": {
      "text/plain": [
       "'Opel'"
      ]
     },
     "execution_count": 6377,
     "metadata": {},
     "output_type": "execute_result"
    }
   ],
   "source": [
    "df.iat[2, 3]"
   ]
  },
  {
   "cell_type": "code",
   "execution_count": 6378,
   "metadata": {},
   "outputs": [
    {
     "data": {
      "text/plain": [
       "11"
      ]
     },
     "execution_count": 6378,
     "metadata": {},
     "output_type": "execute_result"
    }
   ],
   "source": [
    "df['age'].iat[2]"
   ]
  },
  {
   "cell_type": "code",
   "execution_count": 6379,
   "metadata": {},
   "outputs": [
    {
     "data": {
      "text/html": [
       "<div>\n",
       "<style scoped>\n",
       "    .dataframe tbody tr th:only-of-type {\n",
       "        vertical-align: middle;\n",
       "    }\n",
       "\n",
       "    .dataframe tbody tr th {\n",
       "        vertical-align: top;\n",
       "    }\n",
       "\n",
       "    .dataframe thead th {\n",
       "        text-align: right;\n",
       "    }\n",
       "</style>\n",
       "<table border=\"1\" class=\"dataframe\">\n",
       "  <thead>\n",
       "    <tr style=\"text-align: right;\">\n",
       "      <th></th>\n",
       "      <th>age</th>\n",
       "      <th>name</th>\n",
       "      <th>наличие авто</th>\n",
       "      <th>марка авто</th>\n",
       "    </tr>\n",
       "  </thead>\n",
       "  <tbody>\n",
       "    <tr>\n",
       "      <th>0</th>\n",
       "      <td>53</td>\n",
       "      <td>Сергей</td>\n",
       "      <td>True</td>\n",
       "      <td>BMW</td>\n",
       "    </tr>\n",
       "    <tr>\n",
       "      <th>1</th>\n",
       "      <td>37</td>\n",
       "      <td>Маша</td>\n",
       "      <td>True</td>\n",
       "      <td>BMW</td>\n",
       "    </tr>\n",
       "    <tr>\n",
       "      <th>2</th>\n",
       "      <td>11</td>\n",
       "      <td>Ксюша</td>\n",
       "      <td>False</td>\n",
       "      <td>Opel</td>\n",
       "    </tr>\n",
       "    <tr>\n",
       "      <th>3</th>\n",
       "      <td>18</td>\n",
       "      <td>Аристарх</td>\n",
       "      <td>True</td>\n",
       "      <td>NaN</td>\n",
       "    </tr>\n",
       "    <tr>\n",
       "      <th>4</th>\n",
       "      <td>7</td>\n",
       "      <td>Соня</td>\n",
       "      <td>False</td>\n",
       "      <td>NaN</td>\n",
       "    </tr>\n",
       "  </tbody>\n",
       "</table>\n",
       "</div>"
      ],
      "text/plain": [
       "   age      name  наличие авто марка авто\n",
       "0   53    Сергей          True        BMW\n",
       "1   37      Маша          True        BMW\n",
       "2   11     Ксюша         False       Opel\n",
       "3   18  Аристарх          True        NaN\n",
       "4    7      Соня         False        NaN"
      ]
     },
     "execution_count": 6379,
     "metadata": {},
     "output_type": "execute_result"
    }
   ],
   "source": [
    "df.loc[:, ['age', 'name']] = df[['name', 'age']]\n",
    "df"
   ]
  },
  {
   "cell_type": "code",
   "execution_count": 6380,
   "metadata": {},
   "outputs": [
    {
     "data": {
      "text/plain": [
       "2       Ксюша\n",
       "3    Аристарх\n",
       "4        Соня\n",
       "Name: name, dtype: object"
      ]
     },
     "execution_count": 6380,
     "metadata": {},
     "output_type": "execute_result"
    }
   ],
   "source": [
    "new_ser = df.iloc[2:5, 1]\n",
    "new_ser"
   ]
  },
  {
   "cell_type": "code",
   "execution_count": 6381,
   "metadata": {},
   "outputs": [
    {
     "data": {
      "text/html": [
       "<div>\n",
       "<style scoped>\n",
       "    .dataframe tbody tr th:only-of-type {\n",
       "        vertical-align: middle;\n",
       "    }\n",
       "\n",
       "    .dataframe tbody tr th {\n",
       "        vertical-align: top;\n",
       "    }\n",
       "\n",
       "    .dataframe thead th {\n",
       "        text-align: right;\n",
       "    }\n",
       "</style>\n",
       "<table border=\"1\" class=\"dataframe\">\n",
       "  <thead>\n",
       "    <tr style=\"text-align: right;\">\n",
       "      <th></th>\n",
       "      <th>age</th>\n",
       "      <th>name</th>\n",
       "      <th>наличие авто</th>\n",
       "      <th>марка авто</th>\n",
       "    </tr>\n",
       "  </thead>\n",
       "  <tbody>\n",
       "    <tr>\n",
       "      <th>0</th>\n",
       "      <td>53</td>\n",
       "      <td>Сергей</td>\n",
       "      <td>True</td>\n",
       "      <td>BMW</td>\n",
       "    </tr>\n",
       "    <tr>\n",
       "      <th>1</th>\n",
       "      <td>37</td>\n",
       "      <td>Маша</td>\n",
       "      <td>True</td>\n",
       "      <td>BMW</td>\n",
       "    </tr>\n",
       "    <tr>\n",
       "      <th>2</th>\n",
       "      <td>11</td>\n",
       "      <td>Ксюша</td>\n",
       "      <td>False</td>\n",
       "      <td>Opel</td>\n",
       "    </tr>\n",
       "    <tr>\n",
       "      <th>3</th>\n",
       "      <td>18</td>\n",
       "      <td>Аристарх</td>\n",
       "      <td>True</td>\n",
       "      <td>NaN</td>\n",
       "    </tr>\n",
       "    <tr>\n",
       "      <th>4</th>\n",
       "      <td>7</td>\n",
       "      <td>Соня</td>\n",
       "      <td>False</td>\n",
       "      <td>NaN</td>\n",
       "    </tr>\n",
       "  </tbody>\n",
       "</table>\n",
       "</div>"
      ],
      "text/plain": [
       "   age      name  наличие авто марка авто\n",
       "0   53    Сергей          True        BMW\n",
       "1   37      Маша          True        BMW\n",
       "2   11     Ксюша         False       Opel\n",
       "3   18  Аристарх          True        NaN\n",
       "4    7      Соня         False        NaN"
      ]
     },
     "execution_count": 6381,
     "metadata": {},
     "output_type": "execute_result"
    }
   ],
   "source": [
    "df"
   ]
  },
  {
   "cell_type": "code",
   "execution_count": 6382,
   "metadata": {},
   "outputs": [
    {
     "data": {
      "text/html": [
       "<div>\n",
       "<style scoped>\n",
       "    .dataframe tbody tr th:only-of-type {\n",
       "        vertical-align: middle;\n",
       "    }\n",
       "\n",
       "    .dataframe tbody tr th {\n",
       "        vertical-align: top;\n",
       "    }\n",
       "\n",
       "    .dataframe thead th {\n",
       "        text-align: right;\n",
       "    }\n",
       "</style>\n",
       "<table border=\"1\" class=\"dataframe\">\n",
       "  <thead>\n",
       "    <tr style=\"text-align: right;\">\n",
       "      <th></th>\n",
       "      <th>name</th>\n",
       "      <th>наличие авто</th>\n",
       "    </tr>\n",
       "  </thead>\n",
       "  <tbody>\n",
       "    <tr>\n",
       "      <th>0</th>\n",
       "      <td>Сергей</td>\n",
       "      <td>True</td>\n",
       "    </tr>\n",
       "    <tr>\n",
       "      <th>1</th>\n",
       "      <td>Маша</td>\n",
       "      <td>True</td>\n",
       "    </tr>\n",
       "    <tr>\n",
       "      <th>3</th>\n",
       "      <td>Аристарх</td>\n",
       "      <td>True</td>\n",
       "    </tr>\n",
       "  </tbody>\n",
       "</table>\n",
       "</div>"
      ],
      "text/plain": [
       "       name  наличие авто\n",
       "0    Сергей          True\n",
       "1      Маша          True\n",
       "3  Аристарх          True"
      ]
     },
     "execution_count": 6382,
     "metadata": {},
     "output_type": "execute_result"
    }
   ],
   "source": [
    "df.loc[df['age'] > 15, ['name', 'наличие авто']]\n",
    "df.loc[df['age'] > 15][['name', 'наличие авто']]"
   ]
  },
  {
   "cell_type": "code",
   "execution_count": 6383,
   "metadata": {},
   "outputs": [
    {
     "data": {
      "text/html": [
       "<div>\n",
       "<style scoped>\n",
       "    .dataframe tbody tr th:only-of-type {\n",
       "        vertical-align: middle;\n",
       "    }\n",
       "\n",
       "    .dataframe tbody tr th {\n",
       "        vertical-align: top;\n",
       "    }\n",
       "\n",
       "    .dataframe thead th {\n",
       "        text-align: right;\n",
       "    }\n",
       "</style>\n",
       "<table border=\"1\" class=\"dataframe\">\n",
       "  <thead>\n",
       "    <tr style=\"text-align: right;\">\n",
       "      <th></th>\n",
       "      <th>age</th>\n",
       "      <th>name</th>\n",
       "      <th>наличие авто</th>\n",
       "      <th>марка авто</th>\n",
       "    </tr>\n",
       "  </thead>\n",
       "  <tbody>\n",
       "    <tr>\n",
       "      <th>0</th>\n",
       "      <td>53</td>\n",
       "      <td>Сергей</td>\n",
       "      <td>True</td>\n",
       "      <td>BMW</td>\n",
       "    </tr>\n",
       "    <tr>\n",
       "      <th>1</th>\n",
       "      <td>37</td>\n",
       "      <td>Маша</td>\n",
       "      <td>True</td>\n",
       "      <td>BMW</td>\n",
       "    </tr>\n",
       "    <tr>\n",
       "      <th>2</th>\n",
       "      <td>11</td>\n",
       "      <td>Ксюша</td>\n",
       "      <td>False</td>\n",
       "      <td>Opel</td>\n",
       "    </tr>\n",
       "    <tr>\n",
       "      <th>3</th>\n",
       "      <td>18</td>\n",
       "      <td>Аристарх</td>\n",
       "      <td>True</td>\n",
       "      <td>NaN</td>\n",
       "    </tr>\n",
       "    <tr>\n",
       "      <th>4</th>\n",
       "      <td>7</td>\n",
       "      <td>Соня</td>\n",
       "      <td>False</td>\n",
       "      <td>NaN</td>\n",
       "    </tr>\n",
       "  </tbody>\n",
       "</table>\n",
       "</div>"
      ],
      "text/plain": [
       "   age      name  наличие авто марка авто\n",
       "0   53    Сергей          True        BMW\n",
       "1   37      Маша          True        BMW\n",
       "2   11     Ксюша         False       Opel\n",
       "3   18  Аристарх          True        NaN\n",
       "4    7      Соня         False        NaN"
      ]
     },
     "execution_count": 6383,
     "metadata": {},
     "output_type": "execute_result"
    }
   ],
   "source": [
    "df"
   ]
  },
  {
   "cell_type": "code",
   "execution_count": 6384,
   "metadata": {},
   "outputs": [
    {
     "data": {
      "text/plain": [
       "0    Сергей\n",
       "1      Маша\n",
       "2     Ксюша\n",
       "Name: name, dtype: object"
      ]
     },
     "execution_count": 6384,
     "metadata": {},
     "output_type": "execute_result"
    }
   ],
   "source": [
    "df[~df.isna().any(axis=1)]['name']"
   ]
  },
  {
   "cell_type": "code",
   "execution_count": 6385,
   "metadata": {},
   "outputs": [
    {
     "data": {
      "text/plain": [
       "0    Сергей\n",
       "1      Маша\n",
       "2     Ксюша\n",
       "Name: name, dtype: object"
      ]
     },
     "execution_count": 6385,
     "metadata": {},
     "output_type": "execute_result"
    }
   ],
   "source": [
    "df.loc[df['марка авто'].notna(), 'name']"
   ]
  },
  {
   "cell_type": "markdown",
   "metadata": {},
   "source": [
    "# 2.2 Методы value_counts(), sort_values(), unique(), nunique()"
   ]
  },
  {
   "cell_type": "code",
   "execution_count": 6386,
   "metadata": {},
   "outputs": [
    {
     "data": {
      "text/html": [
       "<div>\n",
       "<style scoped>\n",
       "    .dataframe tbody tr th:only-of-type {\n",
       "        vertical-align: middle;\n",
       "    }\n",
       "\n",
       "    .dataframe tbody tr th {\n",
       "        vertical-align: top;\n",
       "    }\n",
       "\n",
       "    .dataframe thead th {\n",
       "        text-align: right;\n",
       "    }\n",
       "</style>\n",
       "<table border=\"1\" class=\"dataframe\">\n",
       "  <thead>\n",
       "    <tr style=\"text-align: right;\">\n",
       "      <th></th>\n",
       "      <th>age</th>\n",
       "      <th>name</th>\n",
       "      <th>наличие авто</th>\n",
       "      <th>марка авто</th>\n",
       "    </tr>\n",
       "  </thead>\n",
       "  <tbody>\n",
       "    <tr>\n",
       "      <th>0</th>\n",
       "      <td>53</td>\n",
       "      <td>Сергей</td>\n",
       "      <td>True</td>\n",
       "      <td>BMW</td>\n",
       "    </tr>\n",
       "    <tr>\n",
       "      <th>1</th>\n",
       "      <td>37</td>\n",
       "      <td>Маша</td>\n",
       "      <td>True</td>\n",
       "      <td>BMW</td>\n",
       "    </tr>\n",
       "    <tr>\n",
       "      <th>2</th>\n",
       "      <td>11</td>\n",
       "      <td>Ксюша</td>\n",
       "      <td>False</td>\n",
       "      <td>Opel</td>\n",
       "    </tr>\n",
       "    <tr>\n",
       "      <th>3</th>\n",
       "      <td>18</td>\n",
       "      <td>Аристарх</td>\n",
       "      <td>True</td>\n",
       "      <td>NaN</td>\n",
       "    </tr>\n",
       "    <tr>\n",
       "      <th>4</th>\n",
       "      <td>7</td>\n",
       "      <td>Соня</td>\n",
       "      <td>False</td>\n",
       "      <td>NaN</td>\n",
       "    </tr>\n",
       "    <tr>\n",
       "      <th>5</th>\n",
       "      <td>15</td>\n",
       "      <td>Аристарх</td>\n",
       "      <td>False</td>\n",
       "      <td>asd</td>\n",
       "    </tr>\n",
       "    <tr>\n",
       "      <th>6</th>\n",
       "      <td>18</td>\n",
       "      <td>Аристарх</td>\n",
       "      <td>True</td>\n",
       "      <td>asd</td>\n",
       "    </tr>\n",
       "    <tr>\n",
       "      <th>7</th>\n",
       "      <td>18</td>\n",
       "      <td>Аристарх</td>\n",
       "      <td>True</td>\n",
       "      <td>asd</td>\n",
       "    </tr>\n",
       "  </tbody>\n",
       "</table>\n",
       "</div>"
      ],
      "text/plain": [
       "  age      name  наличие авто марка авто\n",
       "0  53    Сергей          True        BMW\n",
       "1  37      Маша          True        BMW\n",
       "2  11     Ксюша         False       Opel\n",
       "3  18  Аристарх          True        NaN\n",
       "4   7      Соня         False        NaN\n",
       "5  15  Аристарх         False        asd\n",
       "6  18  Аристарх          True        asd\n",
       "7  18  Аристарх          True        asd"
      ]
     },
     "execution_count": 6386,
     "metadata": {},
     "output_type": "execute_result"
    }
   ],
   "source": [
    "df = pd.concat([df, pd.DataFrame({'age': ['15'], 'name': ['Аристарх'], 'наличие авто': [False], 'марка авто': ['asd']}, index=[5]),\n",
    "               pd.DataFrame({'age': ['18'], 'name': ['Аристарх'], 'наличие авто': [True], 'марка авто': ['asd']}, index=[6]),\n",
    "               pd.DataFrame({'age': ['18'], 'name': ['Аристарх'], 'наличие авто': [True], 'марка авто': ['asd']}, index=[7])])\n",
    "df"
   ]
  },
  {
   "cell_type": "code",
   "execution_count": 6387,
   "metadata": {},
   "outputs": [
    {
     "data": {
      "text/plain": [
       "0      Сергей\n",
       "1        Соня\n",
       "2      Сергей\n",
       "3    Аристарх\n",
       "4        Соня\n",
       "Name: name, dtype: object"
      ]
     },
     "execution_count": 6387,
     "metadata": {},
     "output_type": "execute_result"
    }
   ],
   "source": [
    "ser = pd.Series(['Сергей', 'Соня', 'Сергей', 'Аристарх', 'Соня'], name='name')\n",
    "ser"
   ]
  },
  {
   "cell_type": "code",
   "execution_count": 6388,
   "metadata": {},
   "outputs": [
    {
     "data": {
      "text/plain": [
       "name\n",
       "Аристарх    4\n",
       "Сергей      1\n",
       "Соня        1\n",
       "Name: count, dtype: int64"
      ]
     },
     "execution_count": 6388,
     "metadata": {},
     "output_type": "execute_result"
    }
   ],
   "source": [
    "df[df['name'].isin(ser.unique())]['name'].value_counts()"
   ]
  },
  {
   "cell_type": "code",
   "execution_count": 6389,
   "metadata": {},
   "outputs": [
    {
     "data": {
      "text/plain": [
       "age  name    \n",
       "18   Аристарх    2\n",
       "7    Соня        1\n",
       "11   Ксюша       1\n",
       "18   Аристарх    1\n",
       "37   Маша        1\n",
       "53   Сергей      1\n",
       "15   Аристарх    1\n",
       "Name: count, dtype: int64"
      ]
     },
     "execution_count": 6389,
     "metadata": {},
     "output_type": "execute_result"
    }
   ],
   "source": [
    "df.value_counts(['age', 'name'])"
   ]
  },
  {
   "cell_type": "code",
   "execution_count": 6390,
   "metadata": {},
   "outputs": [
    {
     "data": {
      "text/plain": [
       "age  name    \n",
       "18   Аристарх    2\n",
       "7    Соня        1\n",
       "11   Ксюша       1\n",
       "18   Аристарх    1\n",
       "37   Маша        1\n",
       "53   Сергей      1\n",
       "15   Аристарх    1\n",
       "Name: count, dtype: int64"
      ]
     },
     "execution_count": 6390,
     "metadata": {},
     "output_type": "execute_result"
    }
   ],
   "source": [
    "df.value_counts(['age', 'name'], dropna=False)"
   ]
  },
  {
   "cell_type": "code",
   "execution_count": 6391,
   "metadata": {},
   "outputs": [
    {
     "data": {
      "text/plain": [
       "name\n",
       "Аристарх    0.500\n",
       "Ксюша       0.125\n",
       "Маша        0.125\n",
       "Сергей      0.125\n",
       "Соня        0.125\n",
       "Name: proportion, dtype: float64"
      ]
     },
     "execution_count": 6391,
     "metadata": {},
     "output_type": "execute_result"
    }
   ],
   "source": [
    "# Пропорция\n",
    "\n",
    "df.value_counts('name', normalize=True)"
   ]
  },
  {
   "cell_type": "code",
   "execution_count": 6392,
   "metadata": {},
   "outputs": [
    {
     "data": {
      "text/html": [
       "<div>\n",
       "<style scoped>\n",
       "    .dataframe tbody tr th:only-of-type {\n",
       "        vertical-align: middle;\n",
       "    }\n",
       "\n",
       "    .dataframe tbody tr th {\n",
       "        vertical-align: top;\n",
       "    }\n",
       "\n",
       "    .dataframe thead th {\n",
       "        text-align: right;\n",
       "    }\n",
       "</style>\n",
       "<table border=\"1\" class=\"dataframe\">\n",
       "  <thead>\n",
       "    <tr style=\"text-align: right;\">\n",
       "      <th></th>\n",
       "      <th>age</th>\n",
       "      <th>name</th>\n",
       "      <th>наличие авто</th>\n",
       "      <th>марка авто</th>\n",
       "    </tr>\n",
       "  </thead>\n",
       "  <tbody>\n",
       "    <tr>\n",
       "      <th>3</th>\n",
       "      <td>18</td>\n",
       "      <td>Аристарх</td>\n",
       "      <td>True</td>\n",
       "      <td>NaN</td>\n",
       "    </tr>\n",
       "    <tr>\n",
       "      <th>4</th>\n",
       "      <td>7</td>\n",
       "      <td>Соня</td>\n",
       "      <td>False</td>\n",
       "      <td>NaN</td>\n",
       "    </tr>\n",
       "    <tr>\n",
       "      <th>0</th>\n",
       "      <td>53</td>\n",
       "      <td>Сергей</td>\n",
       "      <td>True</td>\n",
       "      <td>BMW</td>\n",
       "    </tr>\n",
       "    <tr>\n",
       "      <th>1</th>\n",
       "      <td>37</td>\n",
       "      <td>Маша</td>\n",
       "      <td>True</td>\n",
       "      <td>BMW</td>\n",
       "    </tr>\n",
       "    <tr>\n",
       "      <th>2</th>\n",
       "      <td>11</td>\n",
       "      <td>Ксюша</td>\n",
       "      <td>False</td>\n",
       "      <td>Opel</td>\n",
       "    </tr>\n",
       "    <tr>\n",
       "      <th>5</th>\n",
       "      <td>15</td>\n",
       "      <td>Аристарх</td>\n",
       "      <td>False</td>\n",
       "      <td>asd</td>\n",
       "    </tr>\n",
       "    <tr>\n",
       "      <th>6</th>\n",
       "      <td>18</td>\n",
       "      <td>Аристарх</td>\n",
       "      <td>True</td>\n",
       "      <td>asd</td>\n",
       "    </tr>\n",
       "    <tr>\n",
       "      <th>7</th>\n",
       "      <td>18</td>\n",
       "      <td>Аристарх</td>\n",
       "      <td>True</td>\n",
       "      <td>asd</td>\n",
       "    </tr>\n",
       "  </tbody>\n",
       "</table>\n",
       "</div>"
      ],
      "text/plain": [
       "  age      name  наличие авто марка авто\n",
       "3  18  Аристарх          True        NaN\n",
       "4   7      Соня         False        NaN\n",
       "0  53    Сергей          True        BMW\n",
       "1  37      Маша          True        BMW\n",
       "2  11     Ксюша         False       Opel\n",
       "5  15  Аристарх         False        asd\n",
       "6  18  Аристарх          True        asd\n",
       "7  18  Аристарх          True        asd"
      ]
     },
     "execution_count": 6392,
     "metadata": {},
     "output_type": "execute_result"
    }
   ],
   "source": [
    "df.sort_values('марка авто', na_position='first')"
   ]
  },
  {
   "cell_type": "markdown",
   "metadata": {},
   "source": [
    "# Метод map()"
   ]
  },
  {
   "cell_type": "code",
   "execution_count": 6393,
   "metadata": {},
   "outputs": [],
   "source": [
    "# Метод map(arg, na_action=None):\n",
    "\n",
    "# Данный метод используется для замены каждого значения в Series или Index другим значением, которое может быть получено из функции, словаря или Series. \n",
    "# На вход принимает два аргумента arg и na_action. Аргумент arg может быть или серией, или словарем, или функцией. Аргумент na_action по умолчанию None, \n",
    "# если принимает значение 'ignore', то значения Nan не будут преобразовываться."
   ]
  },
  {
   "cell_type": "code",
   "execution_count": 6394,
   "metadata": {},
   "outputs": [
    {
     "data": {
      "text/plain": [
       "{'товар_0': 'product_0',\n",
       " 'товар_1': 'product_1',\n",
       " 'товар_2': 'product_2',\n",
       " 'товар_3': 'product_3',\n",
       " 'товар_4': 'product_4'}"
      ]
     },
     "execution_count": 6394,
     "metadata": {},
     "output_type": "execute_result"
    }
   ],
   "source": [
    "# Пример 1\n",
    "\n",
    "arg_dict = {'товар_0': 'product_0', 'товар_1': 'product_1', 'товар_2': 'product_2', 'товар_3': 'product_3', 'товар_4': 'product_4'}\n",
    "arg_dict"
   ]
  },
  {
   "cell_type": "code",
   "execution_count": 6395,
   "metadata": {},
   "outputs": [
    {
     "data": {
      "text/plain": [
       "0    товар_0\n",
       "1    товар_1\n",
       "2    товар_2\n",
       "3    товар_3\n",
       "4    товар_4\n",
       "5    товар_5\n",
       "dtype: object"
      ]
     },
     "execution_count": 6395,
     "metadata": {},
     "output_type": "execute_result"
    }
   ],
   "source": [
    "ser_test = pd.Series(f'товар_{i}' for i in range(6))\n",
    "ser_test"
   ]
  },
  {
   "cell_type": "code",
   "execution_count": 6396,
   "metadata": {},
   "outputs": [
    {
     "data": {
      "text/plain": [
       "0    product_0\n",
       "1    product_1\n",
       "2    product_2\n",
       "3    product_3\n",
       "4    product_4\n",
       "5          NaN\n",
       "dtype: object"
      ]
     },
     "execution_count": 6396,
     "metadata": {},
     "output_type": "execute_result"
    }
   ],
   "source": [
    "ser_test.map(arg_dict)"
   ]
  },
  {
   "cell_type": "code",
   "execution_count": 6397,
   "metadata": {},
   "outputs": [
    {
     "data": {
      "text/plain": [
       "0    товар_0\n",
       "1    товар_1\n",
       "2    товар_2\n",
       "3    товар_3\n",
       "4    товар_4\n",
       "5    товар_5\n",
       "dtype: object"
      ]
     },
     "execution_count": 6397,
     "metadata": {},
     "output_type": "execute_result"
    }
   ],
   "source": [
    "# Пример 2\n",
    "\n",
    "ser_test"
   ]
  },
  {
   "cell_type": "code",
   "execution_count": 6398,
   "metadata": {},
   "outputs": [],
   "source": [
    "def func(str_in):\n",
    "    return str_in.replace('товар', 'product')"
   ]
  },
  {
   "cell_type": "code",
   "execution_count": 6399,
   "metadata": {},
   "outputs": [
    {
     "data": {
      "text/plain": [
       "0    product_0\n",
       "1    product_1\n",
       "2    product_2\n",
       "3    product_3\n",
       "4    product_4\n",
       "5    product_5\n",
       "dtype: object"
      ]
     },
     "execution_count": 6399,
     "metadata": {},
     "output_type": "execute_result"
    }
   ],
   "source": [
    "ser_test.map(func)"
   ]
  },
  {
   "cell_type": "code",
   "execution_count": 6400,
   "metadata": {},
   "outputs": [
    {
     "data": {
      "text/plain": [
       "0    product_0\n",
       "1    product_1\n",
       "2    product_2\n",
       "3    product_3\n",
       "4    product_4\n",
       "5    product_5\n",
       "dtype: object"
      ]
     },
     "execution_count": 6400,
     "metadata": {},
     "output_type": "execute_result"
    }
   ],
   "source": [
    "# Пример 4\n",
    "\n",
    "ser_test.map(lambda x: x.replace('товар','product'))"
   ]
  },
  {
   "cell_type": "code",
   "execution_count": 6401,
   "metadata": {},
   "outputs": [
    {
     "data": {
      "text/plain": [
       "0    товар_0\n",
       "1    товар_1\n",
       "2    товар_2\n",
       "3    товар_3\n",
       "4    товар_4\n",
       "5    товар_5\n",
       "6        NaN\n",
       "dtype: object"
      ]
     },
     "execution_count": 6401,
     "metadata": {},
     "output_type": "execute_result"
    }
   ],
   "source": [
    "# Пример 5\n",
    "\n",
    "ser_test[6] = np.NaN\n",
    "ser_test"
   ]
  },
  {
   "cell_type": "code",
   "execution_count": 6402,
   "metadata": {},
   "outputs": [
    {
     "data": {
      "text/plain": [
       "0    <class 'str'>\n",
       "1    <class 'str'>\n",
       "2    <class 'str'>\n",
       "3    <class 'str'>\n",
       "4    <class 'str'>\n",
       "5    <class 'str'>\n",
       "6              NaN\n",
       "dtype: object"
      ]
     },
     "execution_count": 6402,
     "metadata": {},
     "output_type": "execute_result"
    }
   ],
   "source": [
    "# na_action='ignore' - к пропускам не применяются преобразования\n",
    "\n",
    "ser_test.map(type, na_action='ignore')"
   ]
  },
  {
   "cell_type": "code",
   "execution_count": 6403,
   "metadata": {},
   "outputs": [
    {
     "data": {
      "text/html": [
       "<div>\n",
       "<style scoped>\n",
       "    .dataframe tbody tr th:only-of-type {\n",
       "        vertical-align: middle;\n",
       "    }\n",
       "\n",
       "    .dataframe tbody tr th {\n",
       "        vertical-align: top;\n",
       "    }\n",
       "\n",
       "    .dataframe thead th {\n",
       "        text-align: right;\n",
       "    }\n",
       "</style>\n",
       "<table border=\"1\" class=\"dataframe\">\n",
       "  <thead>\n",
       "    <tr style=\"text-align: right;\">\n",
       "      <th></th>\n",
       "      <th>name</th>\n",
       "      <th>1</th>\n",
       "      <th>2</th>\n",
       "      <th>3</th>\n",
       "      <th>4</th>\n",
       "      <th>5</th>\n",
       "      <th>6</th>\n",
       "      <th>7</th>\n",
       "      <th>8</th>\n",
       "      <th>9</th>\n",
       "    </tr>\n",
       "  </thead>\n",
       "  <tbody>\n",
       "    <tr>\n",
       "      <th>row_0</th>\n",
       "      <td>Имя_0</td>\n",
       "      <td>1.0</td>\n",
       "      <td>1.0</td>\n",
       "      <td>1.0</td>\n",
       "      <td>1.0</td>\n",
       "      <td>1.0</td>\n",
       "      <td>1.0</td>\n",
       "      <td>1.0</td>\n",
       "      <td>1.0</td>\n",
       "      <td>1.0</td>\n",
       "    </tr>\n",
       "    <tr>\n",
       "      <th>row_1</th>\n",
       "      <td>Имя_1</td>\n",
       "      <td>0.0</td>\n",
       "      <td>0.0</td>\n",
       "      <td>0.0</td>\n",
       "      <td>0.0</td>\n",
       "      <td>0.0</td>\n",
       "      <td>0.0</td>\n",
       "      <td>0.0</td>\n",
       "      <td>0.0</td>\n",
       "      <td>0.0</td>\n",
       "    </tr>\n",
       "    <tr>\n",
       "      <th>row_2</th>\n",
       "      <td>Имя_2</td>\n",
       "      <td>1.0</td>\n",
       "      <td>1.0</td>\n",
       "      <td>1.0</td>\n",
       "      <td>NaN</td>\n",
       "      <td>1.0</td>\n",
       "      <td>NaN</td>\n",
       "      <td>1.0</td>\n",
       "      <td>1.0</td>\n",
       "      <td>1.0</td>\n",
       "    </tr>\n",
       "    <tr>\n",
       "      <th>row_3</th>\n",
       "      <td>Имя_3</td>\n",
       "      <td>0.0</td>\n",
       "      <td>0.0</td>\n",
       "      <td>0.0</td>\n",
       "      <td>1.0</td>\n",
       "      <td>0.0</td>\n",
       "      <td>1.0</td>\n",
       "      <td>0.0</td>\n",
       "      <td>0.0</td>\n",
       "      <td>0.0</td>\n",
       "    </tr>\n",
       "    <tr>\n",
       "      <th>row_4</th>\n",
       "      <td>Имя_4</td>\n",
       "      <td>1.0</td>\n",
       "      <td>1.0</td>\n",
       "      <td>1.0</td>\n",
       "      <td>0.0</td>\n",
       "      <td>1.0</td>\n",
       "      <td>0.0</td>\n",
       "      <td>1.0</td>\n",
       "      <td>1.0</td>\n",
       "      <td>1.0</td>\n",
       "    </tr>\n",
       "    <tr>\n",
       "      <th>row_5</th>\n",
       "      <td>Имя_5</td>\n",
       "      <td>0.0</td>\n",
       "      <td>0.0</td>\n",
       "      <td>0.0</td>\n",
       "      <td>NaN</td>\n",
       "      <td>0.0</td>\n",
       "      <td>NaN</td>\n",
       "      <td>0.0</td>\n",
       "      <td>0.0</td>\n",
       "      <td>0.0</td>\n",
       "    </tr>\n",
       "    <tr>\n",
       "      <th>row_6</th>\n",
       "      <td>Имя_6</td>\n",
       "      <td>1.0</td>\n",
       "      <td>1.0</td>\n",
       "      <td>1.0</td>\n",
       "      <td>1.0</td>\n",
       "      <td>1.0</td>\n",
       "      <td>1.0</td>\n",
       "      <td>1.0</td>\n",
       "      <td>1.0</td>\n",
       "      <td>1.0</td>\n",
       "    </tr>\n",
       "    <tr>\n",
       "      <th>row_7</th>\n",
       "      <td>Имя_7</td>\n",
       "      <td>0.0</td>\n",
       "      <td>0.0</td>\n",
       "      <td>0.0</td>\n",
       "      <td>0.0</td>\n",
       "      <td>0.0</td>\n",
       "      <td>0.0</td>\n",
       "      <td>0.0</td>\n",
       "      <td>0.0</td>\n",
       "      <td>0.0</td>\n",
       "    </tr>\n",
       "    <tr>\n",
       "      <th>row_8</th>\n",
       "      <td>Имя_8</td>\n",
       "      <td>1.0</td>\n",
       "      <td>1.0</td>\n",
       "      <td>1.0</td>\n",
       "      <td>NaN</td>\n",
       "      <td>1.0</td>\n",
       "      <td>NaN</td>\n",
       "      <td>1.0</td>\n",
       "      <td>1.0</td>\n",
       "      <td>1.0</td>\n",
       "    </tr>\n",
       "  </tbody>\n",
       "</table>\n",
       "</div>"
      ],
      "text/plain": [
       "        name    1    2    3    4    5    6    7    8    9\n",
       "row_0  Имя_0  1.0  1.0  1.0  1.0  1.0  1.0  1.0  1.0  1.0\n",
       "row_1  Имя_1  0.0  0.0  0.0  0.0  0.0  0.0  0.0  0.0  0.0\n",
       "row_2  Имя_2  1.0  1.0  1.0  NaN  1.0  NaN  1.0  1.0  1.0\n",
       "row_3  Имя_3  0.0  0.0  0.0  1.0  0.0  1.0  0.0  0.0  0.0\n",
       "row_4  Имя_4  1.0  1.0  1.0  0.0  1.0  0.0  1.0  1.0  1.0\n",
       "row_5  Имя_5  0.0  0.0  0.0  NaN  0.0  NaN  0.0  0.0  0.0\n",
       "row_6  Имя_6  1.0  1.0  1.0  1.0  1.0  1.0  1.0  1.0  1.0\n",
       "row_7  Имя_7  0.0  0.0  0.0  0.0  0.0  0.0  0.0  0.0  0.0\n",
       "row_8  Имя_8  1.0  1.0  1.0  NaN  1.0  NaN  1.0  1.0  1.0"
      ]
     },
     "execution_count": 6403,
     "metadata": {},
     "output_type": "execute_result"
    }
   ],
   "source": [
    "# Задача\n",
    "# Заменить 1.0 на True, остальное - на False\n",
    "\n",
    "category_list = ['Имя_0','Имя_1','Имя_2','Имя_3','Имя_4','Имя_5','Имя_6','Имя_7','Имя_8','Имя_9']\n",
    "Post = [1.0, 0.0]\n",
    "Post1 = [1.0, 0.0, np.nan]\n",
    "\n",
    "df=pd.DataFrame({\n",
    "                 'name':[category_list[i%9] for i in range(9)],\n",
    "                 '1': [Post[i%2] for i in range(9)],\n",
    "                 '2': [Post[i%2] for i in range(9)],\n",
    "                 '3': [Post[i%2] for i in range(9)],\n",
    "                 '4': [Post1[i%3] for i in range(9)],\n",
    "                 '5': [Post[i%2] for i in range(9)],\n",
    "                 '6': [Post1[i%3] for i in range(9)],\n",
    "                 '7': [Post[i%2] for i in range(9)],\n",
    "                 '8': [Post[i%2] for i in range(9)],\n",
    "                 '9': [Post[i%2] for i in range(9)]},\n",
    "                 index=[ f'row_{i}' for i in range (9) ])\n",
    "df"
   ]
  },
  {
   "cell_type": "code",
   "execution_count": 6404,
   "metadata": {},
   "outputs": [
    {
     "data": {
      "text/html": [
       "<div>\n",
       "<style scoped>\n",
       "    .dataframe tbody tr th:only-of-type {\n",
       "        vertical-align: middle;\n",
       "    }\n",
       "\n",
       "    .dataframe tbody tr th {\n",
       "        vertical-align: top;\n",
       "    }\n",
       "\n",
       "    .dataframe thead th {\n",
       "        text-align: right;\n",
       "    }\n",
       "</style>\n",
       "<table border=\"1\" class=\"dataframe\">\n",
       "  <thead>\n",
       "    <tr style=\"text-align: right;\">\n",
       "      <th></th>\n",
       "      <th>name</th>\n",
       "      <th>1</th>\n",
       "      <th>2</th>\n",
       "      <th>3</th>\n",
       "      <th>4</th>\n",
       "      <th>5</th>\n",
       "      <th>6</th>\n",
       "      <th>7</th>\n",
       "      <th>8</th>\n",
       "      <th>9</th>\n",
       "    </tr>\n",
       "  </thead>\n",
       "  <tbody>\n",
       "    <tr>\n",
       "      <th>row_0</th>\n",
       "      <td>Имя_0</td>\n",
       "      <td>True</td>\n",
       "      <td>True</td>\n",
       "      <td>True</td>\n",
       "      <td>True</td>\n",
       "      <td>True</td>\n",
       "      <td>True</td>\n",
       "      <td>True</td>\n",
       "      <td>True</td>\n",
       "      <td>True</td>\n",
       "    </tr>\n",
       "    <tr>\n",
       "      <th>row_1</th>\n",
       "      <td>Имя_1</td>\n",
       "      <td>False</td>\n",
       "      <td>False</td>\n",
       "      <td>False</td>\n",
       "      <td>False</td>\n",
       "      <td>False</td>\n",
       "      <td>False</td>\n",
       "      <td>False</td>\n",
       "      <td>False</td>\n",
       "      <td>False</td>\n",
       "    </tr>\n",
       "    <tr>\n",
       "      <th>row_2</th>\n",
       "      <td>Имя_2</td>\n",
       "      <td>True</td>\n",
       "      <td>True</td>\n",
       "      <td>True</td>\n",
       "      <td>False</td>\n",
       "      <td>True</td>\n",
       "      <td>False</td>\n",
       "      <td>True</td>\n",
       "      <td>True</td>\n",
       "      <td>True</td>\n",
       "    </tr>\n",
       "    <tr>\n",
       "      <th>row_3</th>\n",
       "      <td>Имя_3</td>\n",
       "      <td>False</td>\n",
       "      <td>False</td>\n",
       "      <td>False</td>\n",
       "      <td>True</td>\n",
       "      <td>False</td>\n",
       "      <td>True</td>\n",
       "      <td>False</td>\n",
       "      <td>False</td>\n",
       "      <td>False</td>\n",
       "    </tr>\n",
       "    <tr>\n",
       "      <th>row_4</th>\n",
       "      <td>Имя_4</td>\n",
       "      <td>True</td>\n",
       "      <td>True</td>\n",
       "      <td>True</td>\n",
       "      <td>False</td>\n",
       "      <td>True</td>\n",
       "      <td>False</td>\n",
       "      <td>True</td>\n",
       "      <td>True</td>\n",
       "      <td>True</td>\n",
       "    </tr>\n",
       "    <tr>\n",
       "      <th>row_5</th>\n",
       "      <td>Имя_5</td>\n",
       "      <td>False</td>\n",
       "      <td>False</td>\n",
       "      <td>False</td>\n",
       "      <td>False</td>\n",
       "      <td>False</td>\n",
       "      <td>False</td>\n",
       "      <td>False</td>\n",
       "      <td>False</td>\n",
       "      <td>False</td>\n",
       "    </tr>\n",
       "    <tr>\n",
       "      <th>row_6</th>\n",
       "      <td>Имя_6</td>\n",
       "      <td>True</td>\n",
       "      <td>True</td>\n",
       "      <td>True</td>\n",
       "      <td>True</td>\n",
       "      <td>True</td>\n",
       "      <td>True</td>\n",
       "      <td>True</td>\n",
       "      <td>True</td>\n",
       "      <td>True</td>\n",
       "    </tr>\n",
       "    <tr>\n",
       "      <th>row_7</th>\n",
       "      <td>Имя_7</td>\n",
       "      <td>False</td>\n",
       "      <td>False</td>\n",
       "      <td>False</td>\n",
       "      <td>False</td>\n",
       "      <td>False</td>\n",
       "      <td>False</td>\n",
       "      <td>False</td>\n",
       "      <td>False</td>\n",
       "      <td>False</td>\n",
       "    </tr>\n",
       "    <tr>\n",
       "      <th>row_8</th>\n",
       "      <td>Имя_8</td>\n",
       "      <td>True</td>\n",
       "      <td>True</td>\n",
       "      <td>True</td>\n",
       "      <td>False</td>\n",
       "      <td>True</td>\n",
       "      <td>False</td>\n",
       "      <td>True</td>\n",
       "      <td>True</td>\n",
       "      <td>True</td>\n",
       "    </tr>\n",
       "  </tbody>\n",
       "</table>\n",
       "</div>"
      ],
      "text/plain": [
       "        name      1      2      3      4      5      6      7      8      9\n",
       "row_0  Имя_0   True   True   True   True   True   True   True   True   True\n",
       "row_1  Имя_1  False  False  False  False  False  False  False  False  False\n",
       "row_2  Имя_2   True   True   True  False   True  False   True   True   True\n",
       "row_3  Имя_3  False  False  False   True  False   True  False  False  False\n",
       "row_4  Имя_4   True   True   True  False   True  False   True   True   True\n",
       "row_5  Имя_5  False  False  False  False  False  False  False  False  False\n",
       "row_6  Имя_6   True   True   True   True   True   True   True   True   True\n",
       "row_7  Имя_7  False  False  False  False  False  False  False  False  False\n",
       "row_8  Имя_8   True   True   True  False   True  False   True   True   True"
      ]
     },
     "execution_count": 6404,
     "metadata": {},
     "output_type": "execute_result"
    }
   ],
   "source": [
    "new_df = pd.concat([df['name'], df.iloc[:, 1:].isin([1])], axis=1)\n",
    "new_df"
   ]
  },
  {
   "cell_type": "code",
   "execution_count": 6405,
   "metadata": {},
   "outputs": [
    {
     "name": "stderr",
     "output_type": "stream",
     "text": [
      "C:\\Users\\Pong\\AppData\\Local\\Temp\\ipykernel_1784\\2102203626.py:1: FutureWarning: Downcasting behavior in `replace` is deprecated and will be removed in a future version. To retain the old behavior, explicitly call `result.infer_objects(copy=False)`. To opt-in to the future behavior, set `pd.set_option('future.no_silent_downcasting', True)`\n",
      "  new_df = df.replace([1.0, 0.0, np.nan], [True, False, False])\n"
     ]
    },
    {
     "data": {
      "text/html": [
       "<div>\n",
       "<style scoped>\n",
       "    .dataframe tbody tr th:only-of-type {\n",
       "        vertical-align: middle;\n",
       "    }\n",
       "\n",
       "    .dataframe tbody tr th {\n",
       "        vertical-align: top;\n",
       "    }\n",
       "\n",
       "    .dataframe thead th {\n",
       "        text-align: right;\n",
       "    }\n",
       "</style>\n",
       "<table border=\"1\" class=\"dataframe\">\n",
       "  <thead>\n",
       "    <tr style=\"text-align: right;\">\n",
       "      <th></th>\n",
       "      <th>name</th>\n",
       "      <th>1</th>\n",
       "      <th>2</th>\n",
       "      <th>3</th>\n",
       "      <th>4</th>\n",
       "      <th>5</th>\n",
       "      <th>6</th>\n",
       "      <th>7</th>\n",
       "      <th>8</th>\n",
       "      <th>9</th>\n",
       "    </tr>\n",
       "  </thead>\n",
       "  <tbody>\n",
       "    <tr>\n",
       "      <th>row_0</th>\n",
       "      <td>Имя_0</td>\n",
       "      <td>True</td>\n",
       "      <td>True</td>\n",
       "      <td>True</td>\n",
       "      <td>True</td>\n",
       "      <td>True</td>\n",
       "      <td>True</td>\n",
       "      <td>True</td>\n",
       "      <td>True</td>\n",
       "      <td>True</td>\n",
       "    </tr>\n",
       "    <tr>\n",
       "      <th>row_1</th>\n",
       "      <td>Имя_1</td>\n",
       "      <td>False</td>\n",
       "      <td>False</td>\n",
       "      <td>False</td>\n",
       "      <td>False</td>\n",
       "      <td>False</td>\n",
       "      <td>False</td>\n",
       "      <td>False</td>\n",
       "      <td>False</td>\n",
       "      <td>False</td>\n",
       "    </tr>\n",
       "    <tr>\n",
       "      <th>row_2</th>\n",
       "      <td>Имя_2</td>\n",
       "      <td>True</td>\n",
       "      <td>True</td>\n",
       "      <td>True</td>\n",
       "      <td>False</td>\n",
       "      <td>True</td>\n",
       "      <td>False</td>\n",
       "      <td>True</td>\n",
       "      <td>True</td>\n",
       "      <td>True</td>\n",
       "    </tr>\n",
       "    <tr>\n",
       "      <th>row_3</th>\n",
       "      <td>Имя_3</td>\n",
       "      <td>False</td>\n",
       "      <td>False</td>\n",
       "      <td>False</td>\n",
       "      <td>True</td>\n",
       "      <td>False</td>\n",
       "      <td>True</td>\n",
       "      <td>False</td>\n",
       "      <td>False</td>\n",
       "      <td>False</td>\n",
       "    </tr>\n",
       "    <tr>\n",
       "      <th>row_4</th>\n",
       "      <td>Имя_4</td>\n",
       "      <td>True</td>\n",
       "      <td>True</td>\n",
       "      <td>True</td>\n",
       "      <td>False</td>\n",
       "      <td>True</td>\n",
       "      <td>False</td>\n",
       "      <td>True</td>\n",
       "      <td>True</td>\n",
       "      <td>True</td>\n",
       "    </tr>\n",
       "    <tr>\n",
       "      <th>row_5</th>\n",
       "      <td>Имя_5</td>\n",
       "      <td>False</td>\n",
       "      <td>False</td>\n",
       "      <td>False</td>\n",
       "      <td>False</td>\n",
       "      <td>False</td>\n",
       "      <td>False</td>\n",
       "      <td>False</td>\n",
       "      <td>False</td>\n",
       "      <td>False</td>\n",
       "    </tr>\n",
       "    <tr>\n",
       "      <th>row_6</th>\n",
       "      <td>Имя_6</td>\n",
       "      <td>True</td>\n",
       "      <td>True</td>\n",
       "      <td>True</td>\n",
       "      <td>True</td>\n",
       "      <td>True</td>\n",
       "      <td>True</td>\n",
       "      <td>True</td>\n",
       "      <td>True</td>\n",
       "      <td>True</td>\n",
       "    </tr>\n",
       "    <tr>\n",
       "      <th>row_7</th>\n",
       "      <td>Имя_7</td>\n",
       "      <td>False</td>\n",
       "      <td>False</td>\n",
       "      <td>False</td>\n",
       "      <td>False</td>\n",
       "      <td>False</td>\n",
       "      <td>False</td>\n",
       "      <td>False</td>\n",
       "      <td>False</td>\n",
       "      <td>False</td>\n",
       "    </tr>\n",
       "    <tr>\n",
       "      <th>row_8</th>\n",
       "      <td>Имя_8</td>\n",
       "      <td>True</td>\n",
       "      <td>True</td>\n",
       "      <td>True</td>\n",
       "      <td>False</td>\n",
       "      <td>True</td>\n",
       "      <td>False</td>\n",
       "      <td>True</td>\n",
       "      <td>True</td>\n",
       "      <td>True</td>\n",
       "    </tr>\n",
       "  </tbody>\n",
       "</table>\n",
       "</div>"
      ],
      "text/plain": [
       "        name      1      2      3      4      5      6      7      8      9\n",
       "row_0  Имя_0   True   True   True   True   True   True   True   True   True\n",
       "row_1  Имя_1  False  False  False  False  False  False  False  False  False\n",
       "row_2  Имя_2   True   True   True  False   True  False   True   True   True\n",
       "row_3  Имя_3  False  False  False   True  False   True  False  False  False\n",
       "row_4  Имя_4   True   True   True  False   True  False   True   True   True\n",
       "row_5  Имя_5  False  False  False  False  False  False  False  False  False\n",
       "row_6  Имя_6   True   True   True   True   True   True   True   True   True\n",
       "row_7  Имя_7  False  False  False  False  False  False  False  False  False\n",
       "row_8  Имя_8   True   True   True  False   True  False   True   True   True"
      ]
     },
     "execution_count": 6405,
     "metadata": {},
     "output_type": "execute_result"
    }
   ],
   "source": [
    "new_df = df.replace([1.0, 0.0, np.nan], [True, False, False])\n",
    "new_df"
   ]
  },
  {
   "cell_type": "code",
   "execution_count": 6406,
   "metadata": {},
   "outputs": [
    {
     "data": {
      "text/html": [
       "<div>\n",
       "<style scoped>\n",
       "    .dataframe tbody tr th:only-of-type {\n",
       "        vertical-align: middle;\n",
       "    }\n",
       "\n",
       "    .dataframe tbody tr th {\n",
       "        vertical-align: top;\n",
       "    }\n",
       "\n",
       "    .dataframe thead th {\n",
       "        text-align: right;\n",
       "    }\n",
       "</style>\n",
       "<table border=\"1\" class=\"dataframe\">\n",
       "  <thead>\n",
       "    <tr style=\"text-align: right;\">\n",
       "      <th></th>\n",
       "      <th>name</th>\n",
       "      <th>1</th>\n",
       "      <th>2</th>\n",
       "      <th>3</th>\n",
       "      <th>4</th>\n",
       "      <th>5</th>\n",
       "      <th>6</th>\n",
       "      <th>7</th>\n",
       "      <th>8</th>\n",
       "      <th>9</th>\n",
       "    </tr>\n",
       "  </thead>\n",
       "  <tbody>\n",
       "    <tr>\n",
       "      <th>0</th>\n",
       "      <td>Имя_0</td>\n",
       "      <td>True</td>\n",
       "      <td>True</td>\n",
       "      <td>True</td>\n",
       "      <td>True</td>\n",
       "      <td>True</td>\n",
       "      <td>True</td>\n",
       "      <td>True</td>\n",
       "      <td>True</td>\n",
       "      <td>True</td>\n",
       "    </tr>\n",
       "    <tr>\n",
       "      <th>1</th>\n",
       "      <td>Имя_1</td>\n",
       "      <td>False</td>\n",
       "      <td>False</td>\n",
       "      <td>False</td>\n",
       "      <td>False</td>\n",
       "      <td>False</td>\n",
       "      <td>False</td>\n",
       "      <td>False</td>\n",
       "      <td>False</td>\n",
       "      <td>False</td>\n",
       "    </tr>\n",
       "    <tr>\n",
       "      <th>2</th>\n",
       "      <td>Имя_2</td>\n",
       "      <td>True</td>\n",
       "      <td>True</td>\n",
       "      <td>True</td>\n",
       "      <td>False</td>\n",
       "      <td>True</td>\n",
       "      <td>False</td>\n",
       "      <td>True</td>\n",
       "      <td>True</td>\n",
       "      <td>True</td>\n",
       "    </tr>\n",
       "    <tr>\n",
       "      <th>3</th>\n",
       "      <td>Имя_3</td>\n",
       "      <td>False</td>\n",
       "      <td>False</td>\n",
       "      <td>False</td>\n",
       "      <td>True</td>\n",
       "      <td>False</td>\n",
       "      <td>True</td>\n",
       "      <td>False</td>\n",
       "      <td>False</td>\n",
       "      <td>False</td>\n",
       "    </tr>\n",
       "    <tr>\n",
       "      <th>4</th>\n",
       "      <td>Имя_4</td>\n",
       "      <td>True</td>\n",
       "      <td>True</td>\n",
       "      <td>True</td>\n",
       "      <td>False</td>\n",
       "      <td>True</td>\n",
       "      <td>False</td>\n",
       "      <td>True</td>\n",
       "      <td>True</td>\n",
       "      <td>True</td>\n",
       "    </tr>\n",
       "    <tr>\n",
       "      <th>5</th>\n",
       "      <td>Имя_5</td>\n",
       "      <td>False</td>\n",
       "      <td>False</td>\n",
       "      <td>False</td>\n",
       "      <td>False</td>\n",
       "      <td>False</td>\n",
       "      <td>False</td>\n",
       "      <td>False</td>\n",
       "      <td>False</td>\n",
       "      <td>False</td>\n",
       "    </tr>\n",
       "    <tr>\n",
       "      <th>6</th>\n",
       "      <td>Имя_6</td>\n",
       "      <td>True</td>\n",
       "      <td>True</td>\n",
       "      <td>True</td>\n",
       "      <td>True</td>\n",
       "      <td>True</td>\n",
       "      <td>True</td>\n",
       "      <td>True</td>\n",
       "      <td>True</td>\n",
       "      <td>True</td>\n",
       "    </tr>\n",
       "    <tr>\n",
       "      <th>7</th>\n",
       "      <td>Имя_7</td>\n",
       "      <td>False</td>\n",
       "      <td>False</td>\n",
       "      <td>False</td>\n",
       "      <td>False</td>\n",
       "      <td>False</td>\n",
       "      <td>False</td>\n",
       "      <td>False</td>\n",
       "      <td>False</td>\n",
       "      <td>False</td>\n",
       "    </tr>\n",
       "    <tr>\n",
       "      <th>8</th>\n",
       "      <td>Имя_8</td>\n",
       "      <td>True</td>\n",
       "      <td>True</td>\n",
       "      <td>True</td>\n",
       "      <td>False</td>\n",
       "      <td>True</td>\n",
       "      <td>False</td>\n",
       "      <td>True</td>\n",
       "      <td>True</td>\n",
       "      <td>True</td>\n",
       "    </tr>\n",
       "  </tbody>\n",
       "</table>\n",
       "</div>"
      ],
      "text/plain": [
       "    name      1      2      3      4      5      6      7      8      9\n",
       "0  Имя_0   True   True   True   True   True   True   True   True   True\n",
       "1  Имя_1  False  False  False  False  False  False  False  False  False\n",
       "2  Имя_2   True   True   True  False   True  False   True   True   True\n",
       "3  Имя_3  False  False  False   True  False   True  False  False  False\n",
       "4  Имя_4   True   True   True  False   True  False   True   True   True\n",
       "5  Имя_5  False  False  False  False  False  False  False  False  False\n",
       "6  Имя_6   True   True   True   True   True   True   True   True   True\n",
       "7  Имя_7  False  False  False  False  False  False  False  False  False\n",
       "8  Имя_8   True   True   True  False   True  False   True   True   True"
      ]
     },
     "execution_count": 6406,
     "metadata": {},
     "output_type": "execute_result"
    }
   ],
   "source": [
    "new_df = df.set_index('name').isin([1])\n",
    "new_df = new_df.reset_index('name')\n",
    "new_df"
   ]
  },
  {
   "cell_type": "code",
   "execution_count": 6407,
   "metadata": {},
   "outputs": [
    {
     "data": {
      "text/html": [
       "<div>\n",
       "<style scoped>\n",
       "    .dataframe tbody tr th:only-of-type {\n",
       "        vertical-align: middle;\n",
       "    }\n",
       "\n",
       "    .dataframe tbody tr th {\n",
       "        vertical-align: top;\n",
       "    }\n",
       "\n",
       "    .dataframe thead th {\n",
       "        text-align: right;\n",
       "    }\n",
       "</style>\n",
       "<table border=\"1\" class=\"dataframe\">\n",
       "  <thead>\n",
       "    <tr style=\"text-align: right;\">\n",
       "      <th></th>\n",
       "      <th>name</th>\n",
       "      <th>1</th>\n",
       "      <th>2</th>\n",
       "      <th>3</th>\n",
       "      <th>4</th>\n",
       "      <th>5</th>\n",
       "      <th>6</th>\n",
       "      <th>7</th>\n",
       "      <th>8</th>\n",
       "      <th>9</th>\n",
       "    </tr>\n",
       "  </thead>\n",
       "  <tbody>\n",
       "    <tr>\n",
       "      <th>row_0</th>\n",
       "      <td>False</td>\n",
       "      <td>False</td>\n",
       "      <td>False</td>\n",
       "      <td>False</td>\n",
       "      <td>False</td>\n",
       "      <td>False</td>\n",
       "      <td>False</td>\n",
       "      <td>False</td>\n",
       "      <td>False</td>\n",
       "      <td>False</td>\n",
       "    </tr>\n",
       "    <tr>\n",
       "      <th>row_1</th>\n",
       "      <td>False</td>\n",
       "      <td>True</td>\n",
       "      <td>True</td>\n",
       "      <td>True</td>\n",
       "      <td>True</td>\n",
       "      <td>True</td>\n",
       "      <td>True</td>\n",
       "      <td>True</td>\n",
       "      <td>True</td>\n",
       "      <td>True</td>\n",
       "    </tr>\n",
       "    <tr>\n",
       "      <th>row_2</th>\n",
       "      <td>False</td>\n",
       "      <td>False</td>\n",
       "      <td>False</td>\n",
       "      <td>False</td>\n",
       "      <td>True</td>\n",
       "      <td>False</td>\n",
       "      <td>True</td>\n",
       "      <td>False</td>\n",
       "      <td>False</td>\n",
       "      <td>False</td>\n",
       "    </tr>\n",
       "    <tr>\n",
       "      <th>row_3</th>\n",
       "      <td>False</td>\n",
       "      <td>True</td>\n",
       "      <td>True</td>\n",
       "      <td>True</td>\n",
       "      <td>False</td>\n",
       "      <td>True</td>\n",
       "      <td>False</td>\n",
       "      <td>True</td>\n",
       "      <td>True</td>\n",
       "      <td>True</td>\n",
       "    </tr>\n",
       "    <tr>\n",
       "      <th>row_4</th>\n",
       "      <td>False</td>\n",
       "      <td>False</td>\n",
       "      <td>False</td>\n",
       "      <td>False</td>\n",
       "      <td>True</td>\n",
       "      <td>False</td>\n",
       "      <td>True</td>\n",
       "      <td>False</td>\n",
       "      <td>False</td>\n",
       "      <td>False</td>\n",
       "    </tr>\n",
       "    <tr>\n",
       "      <th>row_5</th>\n",
       "      <td>False</td>\n",
       "      <td>True</td>\n",
       "      <td>True</td>\n",
       "      <td>True</td>\n",
       "      <td>True</td>\n",
       "      <td>True</td>\n",
       "      <td>True</td>\n",
       "      <td>True</td>\n",
       "      <td>True</td>\n",
       "      <td>True</td>\n",
       "    </tr>\n",
       "    <tr>\n",
       "      <th>row_6</th>\n",
       "      <td>False</td>\n",
       "      <td>False</td>\n",
       "      <td>False</td>\n",
       "      <td>False</td>\n",
       "      <td>False</td>\n",
       "      <td>False</td>\n",
       "      <td>False</td>\n",
       "      <td>False</td>\n",
       "      <td>False</td>\n",
       "      <td>False</td>\n",
       "    </tr>\n",
       "    <tr>\n",
       "      <th>row_7</th>\n",
       "      <td>False</td>\n",
       "      <td>True</td>\n",
       "      <td>True</td>\n",
       "      <td>True</td>\n",
       "      <td>True</td>\n",
       "      <td>True</td>\n",
       "      <td>True</td>\n",
       "      <td>True</td>\n",
       "      <td>True</td>\n",
       "      <td>True</td>\n",
       "    </tr>\n",
       "    <tr>\n",
       "      <th>row_8</th>\n",
       "      <td>False</td>\n",
       "      <td>False</td>\n",
       "      <td>False</td>\n",
       "      <td>False</td>\n",
       "      <td>True</td>\n",
       "      <td>False</td>\n",
       "      <td>True</td>\n",
       "      <td>False</td>\n",
       "      <td>False</td>\n",
       "      <td>False</td>\n",
       "    </tr>\n",
       "  </tbody>\n",
       "</table>\n",
       "</div>"
      ],
      "text/plain": [
       "        name      1      2      3      4      5      6      7      8      9\n",
       "row_0  False  False  False  False  False  False  False  False  False  False\n",
       "row_1  False   True   True   True   True   True   True   True   True   True\n",
       "row_2  False  False  False  False   True  False   True  False  False  False\n",
       "row_3  False   True   True   True  False   True  False   True   True   True\n",
       "row_4  False  False  False  False   True  False   True  False  False  False\n",
       "row_5  False   True   True   True   True   True   True   True   True   True\n",
       "row_6  False  False  False  False  False  False  False  False  False  False\n",
       "row_7  False   True   True   True   True   True   True   True   True   True\n",
       "row_8  False  False  False  False   True  False   True  False  False  False"
      ]
     },
     "execution_count": 6407,
     "metadata": {},
     "output_type": "execute_result"
    }
   ],
   "source": [
    "new_df = df.isin([0, np.nan])\n",
    "new_df"
   ]
  },
  {
   "cell_type": "code",
   "execution_count": 6408,
   "metadata": {},
   "outputs": [
    {
     "data": {
      "text/html": [
       "<div>\n",
       "<style scoped>\n",
       "    .dataframe tbody tr th:only-of-type {\n",
       "        vertical-align: middle;\n",
       "    }\n",
       "\n",
       "    .dataframe tbody tr th {\n",
       "        vertical-align: top;\n",
       "    }\n",
       "\n",
       "    .dataframe thead th {\n",
       "        text-align: right;\n",
       "    }\n",
       "</style>\n",
       "<table border=\"1\" class=\"dataframe\">\n",
       "  <thead>\n",
       "    <tr style=\"text-align: right;\">\n",
       "      <th></th>\n",
       "      <th>name</th>\n",
       "      <th>1</th>\n",
       "      <th>2</th>\n",
       "      <th>3</th>\n",
       "      <th>4</th>\n",
       "      <th>5</th>\n",
       "      <th>6</th>\n",
       "      <th>7</th>\n",
       "      <th>8</th>\n",
       "      <th>9</th>\n",
       "    </tr>\n",
       "  </thead>\n",
       "  <tbody>\n",
       "    <tr>\n",
       "      <th>row_0</th>\n",
       "      <td>False</td>\n",
       "      <td>False</td>\n",
       "      <td>False</td>\n",
       "      <td>False</td>\n",
       "      <td>False</td>\n",
       "      <td>False</td>\n",
       "      <td>False</td>\n",
       "      <td>False</td>\n",
       "      <td>False</td>\n",
       "      <td>False</td>\n",
       "    </tr>\n",
       "    <tr>\n",
       "      <th>row_1</th>\n",
       "      <td>False</td>\n",
       "      <td>True</td>\n",
       "      <td>True</td>\n",
       "      <td>True</td>\n",
       "      <td>True</td>\n",
       "      <td>True</td>\n",
       "      <td>True</td>\n",
       "      <td>True</td>\n",
       "      <td>True</td>\n",
       "      <td>True</td>\n",
       "    </tr>\n",
       "    <tr>\n",
       "      <th>row_2</th>\n",
       "      <td>False</td>\n",
       "      <td>False</td>\n",
       "      <td>False</td>\n",
       "      <td>False</td>\n",
       "      <td>True</td>\n",
       "      <td>False</td>\n",
       "      <td>True</td>\n",
       "      <td>False</td>\n",
       "      <td>False</td>\n",
       "      <td>False</td>\n",
       "    </tr>\n",
       "    <tr>\n",
       "      <th>row_3</th>\n",
       "      <td>False</td>\n",
       "      <td>True</td>\n",
       "      <td>True</td>\n",
       "      <td>True</td>\n",
       "      <td>False</td>\n",
       "      <td>True</td>\n",
       "      <td>False</td>\n",
       "      <td>True</td>\n",
       "      <td>True</td>\n",
       "      <td>True</td>\n",
       "    </tr>\n",
       "    <tr>\n",
       "      <th>row_4</th>\n",
       "      <td>False</td>\n",
       "      <td>False</td>\n",
       "      <td>False</td>\n",
       "      <td>False</td>\n",
       "      <td>True</td>\n",
       "      <td>False</td>\n",
       "      <td>True</td>\n",
       "      <td>False</td>\n",
       "      <td>False</td>\n",
       "      <td>False</td>\n",
       "    </tr>\n",
       "    <tr>\n",
       "      <th>row_5</th>\n",
       "      <td>False</td>\n",
       "      <td>True</td>\n",
       "      <td>True</td>\n",
       "      <td>True</td>\n",
       "      <td>True</td>\n",
       "      <td>True</td>\n",
       "      <td>True</td>\n",
       "      <td>True</td>\n",
       "      <td>True</td>\n",
       "      <td>True</td>\n",
       "    </tr>\n",
       "    <tr>\n",
       "      <th>row_6</th>\n",
       "      <td>False</td>\n",
       "      <td>False</td>\n",
       "      <td>False</td>\n",
       "      <td>False</td>\n",
       "      <td>False</td>\n",
       "      <td>False</td>\n",
       "      <td>False</td>\n",
       "      <td>False</td>\n",
       "      <td>False</td>\n",
       "      <td>False</td>\n",
       "    </tr>\n",
       "    <tr>\n",
       "      <th>row_7</th>\n",
       "      <td>False</td>\n",
       "      <td>True</td>\n",
       "      <td>True</td>\n",
       "      <td>True</td>\n",
       "      <td>True</td>\n",
       "      <td>True</td>\n",
       "      <td>True</td>\n",
       "      <td>True</td>\n",
       "      <td>True</td>\n",
       "      <td>True</td>\n",
       "    </tr>\n",
       "    <tr>\n",
       "      <th>row_8</th>\n",
       "      <td>False</td>\n",
       "      <td>False</td>\n",
       "      <td>False</td>\n",
       "      <td>False</td>\n",
       "      <td>True</td>\n",
       "      <td>False</td>\n",
       "      <td>True</td>\n",
       "      <td>False</td>\n",
       "      <td>False</td>\n",
       "      <td>False</td>\n",
       "    </tr>\n",
       "  </tbody>\n",
       "</table>\n",
       "</div>"
      ],
      "text/plain": [
       "        name      1      2      3      4      5      6      7      8      9\n",
       "row_0  False  False  False  False  False  False  False  False  False  False\n",
       "row_1  False   True   True   True   True   True   True   True   True   True\n",
       "row_2  False  False  False  False   True  False   True  False  False  False\n",
       "row_3  False   True   True   True  False   True  False   True   True   True\n",
       "row_4  False  False  False  False   True  False   True  False  False  False\n",
       "row_5  False   True   True   True   True   True   True   True   True   True\n",
       "row_6  False  False  False  False  False  False  False  False  False  False\n",
       "row_7  False   True   True   True   True   True   True   True   True   True\n",
       "row_8  False  False  False  False   True  False   True  False  False  False"
      ]
     },
     "execution_count": 6408,
     "metadata": {},
     "output_type": "execute_result"
    }
   ],
   "source": [
    "new_df = df.iloc[:, :].map(lambda x: x == 0 or pd.isna(x))\n",
    "new_df"
   ]
  },
  {
   "cell_type": "markdown",
   "metadata": {},
   "source": [
    "# 2.4 Агрегация данных. Методы agg()."
   ]
  },
  {
   "cell_type": "code",
   "execution_count": 6409,
   "metadata": {},
   "outputs": [
    {
     "data": {
      "text/html": [
       "<div>\n",
       "<style scoped>\n",
       "    .dataframe tbody tr th:only-of-type {\n",
       "        vertical-align: middle;\n",
       "    }\n",
       "\n",
       "    .dataframe tbody tr th {\n",
       "        vertical-align: top;\n",
       "    }\n",
       "\n",
       "    .dataframe thead th {\n",
       "        text-align: right;\n",
       "    }\n",
       "</style>\n",
       "<table border=\"1\" class=\"dataframe\">\n",
       "  <thead>\n",
       "    <tr style=\"text-align: right;\">\n",
       "      <th></th>\n",
       "      <th>col_1</th>\n",
       "      <th>col_2</th>\n",
       "    </tr>\n",
       "  </thead>\n",
       "  <tbody>\n",
       "    <tr>\n",
       "      <th>0</th>\n",
       "      <td>1</td>\n",
       "      <td>4</td>\n",
       "    </tr>\n",
       "    <tr>\n",
       "      <th>1</th>\n",
       "      <td>2</td>\n",
       "      <td>5</td>\n",
       "    </tr>\n",
       "    <tr>\n",
       "      <th>2</th>\n",
       "      <td>3</td>\n",
       "      <td>6</td>\n",
       "    </tr>\n",
       "  </tbody>\n",
       "</table>\n",
       "</div>"
      ],
      "text/plain": [
       "   col_1  col_2\n",
       "0      1      4\n",
       "1      2      5\n",
       "2      3      6"
      ]
     },
     "execution_count": 6409,
     "metadata": {},
     "output_type": "execute_result"
    }
   ],
   "source": [
    "dict_in = {'col_1': [1, 2, 3], 'col_2': [4, 5, 6]}\n",
    "df = pd.DataFrame(dict_in)\n",
    "df"
   ]
  },
  {
   "cell_type": "code",
   "execution_count": 6410,
   "metadata": {},
   "outputs": [
    {
     "name": "stderr",
     "output_type": "stream",
     "text": [
      "C:\\Users\\Pong\\AppData\\Local\\Temp\\ipykernel_1784\\418043873.py:1: FutureWarning: The provided callable <function sum at 0x000001C685DB09A0> is currently using Series.sum. In a future version of pandas, the provided callable will be used directly. To keep current behavior pass the string \"sum\" instead.\n",
      "  df.agg([np.sum], axis=1)\n"
     ]
    },
    {
     "data": {
      "text/html": [
       "<div>\n",
       "<style scoped>\n",
       "    .dataframe tbody tr th:only-of-type {\n",
       "        vertical-align: middle;\n",
       "    }\n",
       "\n",
       "    .dataframe tbody tr th {\n",
       "        vertical-align: top;\n",
       "    }\n",
       "\n",
       "    .dataframe thead th {\n",
       "        text-align: right;\n",
       "    }\n",
       "</style>\n",
       "<table border=\"1\" class=\"dataframe\">\n",
       "  <thead>\n",
       "    <tr style=\"text-align: right;\">\n",
       "      <th></th>\n",
       "      <th>sum</th>\n",
       "    </tr>\n",
       "  </thead>\n",
       "  <tbody>\n",
       "    <tr>\n",
       "      <th>0</th>\n",
       "      <td>5</td>\n",
       "    </tr>\n",
       "    <tr>\n",
       "      <th>1</th>\n",
       "      <td>7</td>\n",
       "    </tr>\n",
       "    <tr>\n",
       "      <th>2</th>\n",
       "      <td>9</td>\n",
       "    </tr>\n",
       "  </tbody>\n",
       "</table>\n",
       "</div>"
      ],
      "text/plain": [
       "   sum\n",
       "0    5\n",
       "1    7\n",
       "2    9"
      ]
     },
     "execution_count": 6410,
     "metadata": {},
     "output_type": "execute_result"
    }
   ],
   "source": [
    "df.agg([np.sum], axis=1)"
   ]
  },
  {
   "cell_type": "code",
   "execution_count": 6411,
   "metadata": {},
   "outputs": [
    {
     "name": "stderr",
     "output_type": "stream",
     "text": [
      "C:\\Users\\Pong\\AppData\\Local\\Temp\\ipykernel_1784\\1474916148.py:1: FutureWarning: The provided callable <function sum at 0x000001C685DB09A0> is currently using Series.sum. In a future version of pandas, the provided callable will be used directly. To keep current behavior pass the string \"sum\" instead.\n",
      "  df.agg({'col_1': [np.sum, np.mean],\n",
      "C:\\Users\\Pong\\AppData\\Local\\Temp\\ipykernel_1784\\1474916148.py:1: FutureWarning: The provided callable <function mean at 0x000001C685DB1A80> is currently using Series.mean. In a future version of pandas, the provided callable will be used directly. To keep current behavior pass the string \"mean\" instead.\n",
      "  df.agg({'col_1': [np.sum, np.mean],\n"
     ]
    },
    {
     "data": {
      "text/html": [
       "<div>\n",
       "<style scoped>\n",
       "    .dataframe tbody tr th:only-of-type {\n",
       "        vertical-align: middle;\n",
       "    }\n",
       "\n",
       "    .dataframe tbody tr th {\n",
       "        vertical-align: top;\n",
       "    }\n",
       "\n",
       "    .dataframe thead th {\n",
       "        text-align: right;\n",
       "    }\n",
       "</style>\n",
       "<table border=\"1\" class=\"dataframe\">\n",
       "  <thead>\n",
       "    <tr style=\"text-align: right;\">\n",
       "      <th></th>\n",
       "      <th>col_1</th>\n",
       "      <th>col_2</th>\n",
       "    </tr>\n",
       "  </thead>\n",
       "  <tbody>\n",
       "    <tr>\n",
       "      <th>sum</th>\n",
       "      <td>6.0</td>\n",
       "      <td>NaN</td>\n",
       "    </tr>\n",
       "    <tr>\n",
       "      <th>mean</th>\n",
       "      <td>2.0</td>\n",
       "      <td>5.0</td>\n",
       "    </tr>\n",
       "  </tbody>\n",
       "</table>\n",
       "</div>"
      ],
      "text/plain": [
       "      col_1  col_2\n",
       "sum     6.0    NaN\n",
       "mean    2.0    5.0"
      ]
     },
     "execution_count": 6411,
     "metadata": {},
     "output_type": "execute_result"
    }
   ],
   "source": [
    "df.agg({'col_1': [np.sum, np.mean],\n",
    "                'col_2': np.mean})"
   ]
  },
  {
   "cell_type": "code",
   "execution_count": 6412,
   "metadata": {},
   "outputs": [
    {
     "name": "stderr",
     "output_type": "stream",
     "text": [
      "C:\\Users\\Pong\\AppData\\Local\\Temp\\ipykernel_1784\\3342897819.py:1: FutureWarning: The provided callable <function min at 0x000001C685DB11C0> is currently using Series.min. In a future version of pandas, the provided callable will be used directly. To keep current behavior pass the string \"min\" instead.\n",
      "  df['col_1'].agg([np.min, np.max, np.sum])\n",
      "C:\\Users\\Pong\\AppData\\Local\\Temp\\ipykernel_1784\\3342897819.py:1: FutureWarning: The provided callable <function max at 0x000001C685DB1080> is currently using Series.max. In a future version of pandas, the provided callable will be used directly. To keep current behavior pass the string \"max\" instead.\n",
      "  df['col_1'].agg([np.min, np.max, np.sum])\n",
      "C:\\Users\\Pong\\AppData\\Local\\Temp\\ipykernel_1784\\3342897819.py:1: FutureWarning: The provided callable <function sum at 0x000001C685DB09A0> is currently using Series.sum. In a future version of pandas, the provided callable will be used directly. To keep current behavior pass the string \"sum\" instead.\n",
      "  df['col_1'].agg([np.min, np.max, np.sum])\n"
     ]
    },
    {
     "data": {
      "text/plain": [
       "min    1\n",
       "max    3\n",
       "sum    6\n",
       "Name: col_1, dtype: int64"
      ]
     },
     "execution_count": 6412,
     "metadata": {},
     "output_type": "execute_result"
    }
   ],
   "source": [
    "df['col_1'].agg([np.min, np.max, np.sum])"
   ]
  },
  {
   "cell_type": "code",
   "execution_count": 6413,
   "metadata": {},
   "outputs": [
    {
     "data": {
      "text/html": [
       "<div>\n",
       "<style scoped>\n",
       "    .dataframe tbody tr th:only-of-type {\n",
       "        vertical-align: middle;\n",
       "    }\n",
       "\n",
       "    .dataframe tbody tr th {\n",
       "        vertical-align: top;\n",
       "    }\n",
       "\n",
       "    .dataframe thead th {\n",
       "        text-align: right;\n",
       "    }\n",
       "</style>\n",
       "<table border=\"1\" class=\"dataframe\">\n",
       "  <thead>\n",
       "    <tr style=\"text-align: right;\">\n",
       "      <th></th>\n",
       "      <th>name</th>\n",
       "      <th>1</th>\n",
       "      <th>2</th>\n",
       "      <th>3</th>\n",
       "      <th>4</th>\n",
       "      <th>5</th>\n",
       "      <th>6</th>\n",
       "      <th>7</th>\n",
       "      <th>8</th>\n",
       "      <th>9</th>\n",
       "      <th>...</th>\n",
       "      <th>41</th>\n",
       "      <th>42</th>\n",
       "      <th>43</th>\n",
       "      <th>44</th>\n",
       "      <th>45</th>\n",
       "      <th>46</th>\n",
       "      <th>47</th>\n",
       "      <th>48</th>\n",
       "      <th>49</th>\n",
       "      <th>50</th>\n",
       "    </tr>\n",
       "  </thead>\n",
       "  <tbody>\n",
       "    <tr>\n",
       "      <th>0</th>\n",
       "      <td>Имя_0</td>\n",
       "      <td>1.0</td>\n",
       "      <td>1.0</td>\n",
       "      <td>1.0</td>\n",
       "      <td>1.0</td>\n",
       "      <td>1.0</td>\n",
       "      <td>1.0</td>\n",
       "      <td>1.0</td>\n",
       "      <td>1.0</td>\n",
       "      <td>1.0</td>\n",
       "      <td>...</td>\n",
       "      <td>0.0</td>\n",
       "      <td>1.0</td>\n",
       "      <td>1.0</td>\n",
       "      <td>0.0</td>\n",
       "      <td>1.0</td>\n",
       "      <td>1.0</td>\n",
       "      <td>1.0</td>\n",
       "      <td>1.0</td>\n",
       "      <td>1.0</td>\n",
       "      <td>1.0</td>\n",
       "    </tr>\n",
       "    <tr>\n",
       "      <th>1</th>\n",
       "      <td>Имя_1</td>\n",
       "      <td>1.0</td>\n",
       "      <td>1.0</td>\n",
       "      <td>1.0</td>\n",
       "      <td>1.0</td>\n",
       "      <td>1.0</td>\n",
       "      <td>0.0</td>\n",
       "      <td>1.0</td>\n",
       "      <td>1.0</td>\n",
       "      <td>1.0</td>\n",
       "      <td>...</td>\n",
       "      <td>1.0</td>\n",
       "      <td>1.0</td>\n",
       "      <td>0.0</td>\n",
       "      <td>1.0</td>\n",
       "      <td>1.0</td>\n",
       "      <td>1.0</td>\n",
       "      <td>1.0</td>\n",
       "      <td>1.0</td>\n",
       "      <td>1.0</td>\n",
       "      <td>0.0</td>\n",
       "    </tr>\n",
       "    <tr>\n",
       "      <th>2</th>\n",
       "      <td>Имя_2</td>\n",
       "      <td>1.0</td>\n",
       "      <td>1.0</td>\n",
       "      <td>1.0</td>\n",
       "      <td>1.0</td>\n",
       "      <td>1.0</td>\n",
       "      <td>1.0</td>\n",
       "      <td>1.0</td>\n",
       "      <td>1.0</td>\n",
       "      <td>1.0</td>\n",
       "      <td>...</td>\n",
       "      <td>1.0</td>\n",
       "      <td>0.0</td>\n",
       "      <td>1.0</td>\n",
       "      <td>1.0</td>\n",
       "      <td>1.0</td>\n",
       "      <td>1.0</td>\n",
       "      <td>0.0</td>\n",
       "      <td>1.0</td>\n",
       "      <td>1.0</td>\n",
       "      <td>1.0</td>\n",
       "    </tr>\n",
       "    <tr>\n",
       "      <th>3</th>\n",
       "      <td>Имя_3</td>\n",
       "      <td>1.0</td>\n",
       "      <td>1.0</td>\n",
       "      <td>1.0</td>\n",
       "      <td>0.0</td>\n",
       "      <td>0.0</td>\n",
       "      <td>1.0</td>\n",
       "      <td>1.0</td>\n",
       "      <td>1.0</td>\n",
       "      <td>1.0</td>\n",
       "      <td>...</td>\n",
       "      <td>1.0</td>\n",
       "      <td>0.0</td>\n",
       "      <td>1.0</td>\n",
       "      <td>1.0</td>\n",
       "      <td>1.0</td>\n",
       "      <td>1.0</td>\n",
       "      <td>1.0</td>\n",
       "      <td>0.0</td>\n",
       "      <td>1.0</td>\n",
       "      <td>1.0</td>\n",
       "    </tr>\n",
       "    <tr>\n",
       "      <th>4</th>\n",
       "      <td>Имя_4</td>\n",
       "      <td>1.0</td>\n",
       "      <td>1.0</td>\n",
       "      <td>1.0</td>\n",
       "      <td>1.0</td>\n",
       "      <td>1.0</td>\n",
       "      <td>1.0</td>\n",
       "      <td>1.0</td>\n",
       "      <td>1.0</td>\n",
       "      <td>1.0</td>\n",
       "      <td>...</td>\n",
       "      <td>1.0</td>\n",
       "      <td>0.0</td>\n",
       "      <td>1.0</td>\n",
       "      <td>1.0</td>\n",
       "      <td>1.0</td>\n",
       "      <td>1.0</td>\n",
       "      <td>1.0</td>\n",
       "      <td>1.0</td>\n",
       "      <td>1.0</td>\n",
       "      <td>0.0</td>\n",
       "    </tr>\n",
       "  </tbody>\n",
       "</table>\n",
       "<p>5 rows × 51 columns</p>\n",
       "</div>"
      ],
      "text/plain": [
       "    name    1    2    3    4    5    6    7    8    9  ...   41   42   43  \\\n",
       "0  Имя_0  1.0  1.0  1.0  1.0  1.0  1.0  1.0  1.0  1.0  ...  0.0  1.0  1.0   \n",
       "1  Имя_1  1.0  1.0  1.0  1.0  1.0  0.0  1.0  1.0  1.0  ...  1.0  1.0  0.0   \n",
       "2  Имя_2  1.0  1.0  1.0  1.0  1.0  1.0  1.0  1.0  1.0  ...  1.0  0.0  1.0   \n",
       "3  Имя_3  1.0  1.0  1.0  0.0  0.0  1.0  1.0  1.0  1.0  ...  1.0  0.0  1.0   \n",
       "4  Имя_4  1.0  1.0  1.0  1.0  1.0  1.0  1.0  1.0  1.0  ...  1.0  0.0  1.0   \n",
       "\n",
       "    44   45   46   47   48   49   50  \n",
       "0  0.0  1.0  1.0  1.0  1.0  1.0  1.0  \n",
       "1  1.0  1.0  1.0  1.0  1.0  1.0  0.0  \n",
       "2  1.0  1.0  1.0  0.0  1.0  1.0  1.0  \n",
       "3  1.0  1.0  1.0  1.0  0.0  1.0  1.0  \n",
       "4  1.0  1.0  1.0  1.0  1.0  1.0  0.0  \n",
       "\n",
       "[5 rows x 51 columns]"
      ]
     },
     "execution_count": 6413,
     "metadata": {},
     "output_type": "execute_result"
    }
   ],
   "source": [
    "df = pd.read_csv('data\\stud.csv')\n",
    "df.head()"
   ]
  },
  {
   "cell_type": "code",
   "execution_count": 6414,
   "metadata": {},
   "outputs": [
    {
     "data": {
      "text/plain": [
       "(50, 51)"
      ]
     },
     "execution_count": 6414,
     "metadata": {},
     "output_type": "execute_result"
    }
   ],
   "source": [
    "df.shape"
   ]
  },
  {
   "cell_type": "code",
   "execution_count": 6415,
   "metadata": {},
   "outputs": [
    {
     "name": "stderr",
     "output_type": "stream",
     "text": [
      "C:\\Users\\Pong\\AppData\\Local\\Temp\\ipykernel_1784\\3980144481.py:3: FutureWarning: The provided callable <function sum at 0x000001C685DB09A0> is currently using DataFrame.sum. In a future version of pandas, the provided callable will be used directly. To keep current behavior pass the string \"sum\" instead.\n",
      "  new_ser = df.set_index('name').agg(np.sum, axis=1)\n"
     ]
    },
    {
     "data": {
      "text/plain": [
       "name\n",
       "Имя_0    43.0\n",
       "Имя_1    40.0\n",
       "Имя_2    39.0\n",
       "Имя_3    39.0\n",
       "Имя_4    42.0\n",
       "dtype: float64"
      ]
     },
     "execution_count": 6415,
     "metadata": {},
     "output_type": "execute_result"
    }
   ],
   "source": [
    "# Количество решенных задач (1.0)\n",
    "\n",
    "new_ser = df.set_index('name').agg(np.sum, axis=1)\n",
    "new_ser.head()"
   ]
  },
  {
   "cell_type": "code",
   "execution_count": 6416,
   "metadata": {},
   "outputs": [
    {
     "data": {
      "text/plain": [
       "name\n",
       "Имя_0     6\n",
       "Имя_1    10\n",
       "Имя_2    10\n",
       "Имя_3    10\n",
       "Имя_4     8\n",
       "dtype: int64"
      ]
     },
     "execution_count": 6416,
     "metadata": {},
     "output_type": "execute_result"
    }
   ],
   "source": [
    "# Количество нерешенных задач (0.0)\n",
    "\n",
    "new_ser = df.set_index('name').map(lambda x: 1 if x == 0.0 else 0).sum(axis=1).head()\n",
    "new_ser.head()"
   ]
  },
  {
   "cell_type": "code",
   "execution_count": 6417,
   "metadata": {},
   "outputs": [
    {
     "data": {
      "text/plain": [
       "name\n",
       "Имя_0     6\n",
       "Имя_1    10\n",
       "Имя_2    10\n",
       "Имя_3    10\n",
       "Имя_4     8\n",
       "dtype: int64"
      ]
     },
     "execution_count": 6417,
     "metadata": {},
     "output_type": "execute_result"
    }
   ],
   "source": [
    "new_ser = df.set_index('name').map(lambda x: 1 if x == 0.0 else 0).sum(axis=1).head()\n",
    "new_ser.head()"
   ]
  },
  {
   "cell_type": "code",
   "execution_count": 6418,
   "metadata": {},
   "outputs": [
    {
     "data": {
      "text/plain": [
       "name\n",
       "Имя_0     6\n",
       "Имя_1    10\n",
       "Имя_2    10\n",
       "Имя_3    10\n",
       "Имя_4     8\n",
       "dtype: int64"
      ]
     },
     "execution_count": 6418,
     "metadata": {},
     "output_type": "execute_result"
    }
   ],
   "source": [
    "new_ser = df.set_index('name').eq(0).sum(axis=1)\n",
    "new_ser.head()"
   ]
  },
  {
   "cell_type": "code",
   "execution_count": 6419,
   "metadata": {},
   "outputs": [
    {
     "data": {
      "text/plain": [
       "name\n",
       "Имя_0     6\n",
       "Имя_1    10\n",
       "Имя_2    10\n",
       "Имя_3    10\n",
       "Имя_4     8\n",
       "dtype: int64"
      ]
     },
     "execution_count": 6419,
     "metadata": {},
     "output_type": "execute_result"
    }
   ],
   "source": [
    "new_ser = (df.set_index('name') == 0).sum(axis = 1)\n",
    "new_ser.head()"
   ]
  },
  {
   "cell_type": "code",
   "execution_count": 6420,
   "metadata": {},
   "outputs": [
    {
     "data": {
      "text/html": [
       "<div>\n",
       "<style scoped>\n",
       "    .dataframe tbody tr th:only-of-type {\n",
       "        vertical-align: middle;\n",
       "    }\n",
       "\n",
       "    .dataframe tbody tr th {\n",
       "        vertical-align: top;\n",
       "    }\n",
       "\n",
       "    .dataframe thead th {\n",
       "        text-align: right;\n",
       "    }\n",
       "</style>\n",
       "<table border=\"1\" class=\"dataframe\">\n",
       "  <thead>\n",
       "    <tr style=\"text-align: right;\">\n",
       "      <th></th>\n",
       "      <th>1</th>\n",
       "      <th>2</th>\n",
       "      <th>3</th>\n",
       "      <th>4</th>\n",
       "      <th>5</th>\n",
       "      <th>6</th>\n",
       "      <th>7</th>\n",
       "      <th>8</th>\n",
       "      <th>9</th>\n",
       "      <th>10</th>\n",
       "      <th>...</th>\n",
       "      <th>41</th>\n",
       "      <th>42</th>\n",
       "      <th>43</th>\n",
       "      <th>44</th>\n",
       "      <th>45</th>\n",
       "      <th>46</th>\n",
       "      <th>47</th>\n",
       "      <th>48</th>\n",
       "      <th>49</th>\n",
       "      <th>50</th>\n",
       "    </tr>\n",
       "    <tr>\n",
       "      <th>name</th>\n",
       "      <th></th>\n",
       "      <th></th>\n",
       "      <th></th>\n",
       "      <th></th>\n",
       "      <th></th>\n",
       "      <th></th>\n",
       "      <th></th>\n",
       "      <th></th>\n",
       "      <th></th>\n",
       "      <th></th>\n",
       "      <th></th>\n",
       "      <th></th>\n",
       "      <th></th>\n",
       "      <th></th>\n",
       "      <th></th>\n",
       "      <th></th>\n",
       "      <th></th>\n",
       "      <th></th>\n",
       "      <th></th>\n",
       "      <th></th>\n",
       "      <th></th>\n",
       "    </tr>\n",
       "  </thead>\n",
       "  <tbody>\n",
       "    <tr>\n",
       "      <th>Имя_0</th>\n",
       "      <td>False</td>\n",
       "      <td>False</td>\n",
       "      <td>False</td>\n",
       "      <td>False</td>\n",
       "      <td>False</td>\n",
       "      <td>False</td>\n",
       "      <td>False</td>\n",
       "      <td>False</td>\n",
       "      <td>False</td>\n",
       "      <td>False</td>\n",
       "      <td>...</td>\n",
       "      <td>True</td>\n",
       "      <td>False</td>\n",
       "      <td>False</td>\n",
       "      <td>True</td>\n",
       "      <td>False</td>\n",
       "      <td>False</td>\n",
       "      <td>False</td>\n",
       "      <td>False</td>\n",
       "      <td>False</td>\n",
       "      <td>False</td>\n",
       "    </tr>\n",
       "    <tr>\n",
       "      <th>Имя_1</th>\n",
       "      <td>False</td>\n",
       "      <td>False</td>\n",
       "      <td>False</td>\n",
       "      <td>False</td>\n",
       "      <td>False</td>\n",
       "      <td>True</td>\n",
       "      <td>False</td>\n",
       "      <td>False</td>\n",
       "      <td>False</td>\n",
       "      <td>False</td>\n",
       "      <td>...</td>\n",
       "      <td>False</td>\n",
       "      <td>False</td>\n",
       "      <td>True</td>\n",
       "      <td>False</td>\n",
       "      <td>False</td>\n",
       "      <td>False</td>\n",
       "      <td>False</td>\n",
       "      <td>False</td>\n",
       "      <td>False</td>\n",
       "      <td>True</td>\n",
       "    </tr>\n",
       "    <tr>\n",
       "      <th>Имя_2</th>\n",
       "      <td>False</td>\n",
       "      <td>False</td>\n",
       "      <td>False</td>\n",
       "      <td>False</td>\n",
       "      <td>False</td>\n",
       "      <td>False</td>\n",
       "      <td>False</td>\n",
       "      <td>False</td>\n",
       "      <td>False</td>\n",
       "      <td>False</td>\n",
       "      <td>...</td>\n",
       "      <td>False</td>\n",
       "      <td>True</td>\n",
       "      <td>False</td>\n",
       "      <td>False</td>\n",
       "      <td>False</td>\n",
       "      <td>False</td>\n",
       "      <td>True</td>\n",
       "      <td>False</td>\n",
       "      <td>False</td>\n",
       "      <td>False</td>\n",
       "    </tr>\n",
       "    <tr>\n",
       "      <th>Имя_3</th>\n",
       "      <td>False</td>\n",
       "      <td>False</td>\n",
       "      <td>False</td>\n",
       "      <td>True</td>\n",
       "      <td>True</td>\n",
       "      <td>False</td>\n",
       "      <td>False</td>\n",
       "      <td>False</td>\n",
       "      <td>False</td>\n",
       "      <td>False</td>\n",
       "      <td>...</td>\n",
       "      <td>False</td>\n",
       "      <td>True</td>\n",
       "      <td>False</td>\n",
       "      <td>False</td>\n",
       "      <td>False</td>\n",
       "      <td>False</td>\n",
       "      <td>False</td>\n",
       "      <td>True</td>\n",
       "      <td>False</td>\n",
       "      <td>False</td>\n",
       "    </tr>\n",
       "    <tr>\n",
       "      <th>Имя_4</th>\n",
       "      <td>False</td>\n",
       "      <td>False</td>\n",
       "      <td>False</td>\n",
       "      <td>False</td>\n",
       "      <td>False</td>\n",
       "      <td>False</td>\n",
       "      <td>False</td>\n",
       "      <td>False</td>\n",
       "      <td>False</td>\n",
       "      <td>False</td>\n",
       "      <td>...</td>\n",
       "      <td>False</td>\n",
       "      <td>True</td>\n",
       "      <td>False</td>\n",
       "      <td>False</td>\n",
       "      <td>False</td>\n",
       "      <td>False</td>\n",
       "      <td>False</td>\n",
       "      <td>False</td>\n",
       "      <td>False</td>\n",
       "      <td>True</td>\n",
       "    </tr>\n",
       "  </tbody>\n",
       "</table>\n",
       "<p>5 rows × 50 columns</p>\n",
       "</div>"
      ],
      "text/plain": [
       "           1      2      3      4      5      6      7      8      9     10  \\\n",
       "name                                                                          \n",
       "Имя_0  False  False  False  False  False  False  False  False  False  False   \n",
       "Имя_1  False  False  False  False  False   True  False  False  False  False   \n",
       "Имя_2  False  False  False  False  False  False  False  False  False  False   \n",
       "Имя_3  False  False  False   True   True  False  False  False  False  False   \n",
       "Имя_4  False  False  False  False  False  False  False  False  False  False   \n",
       "\n",
       "       ...     41     42     43     44     45     46     47     48     49  \\\n",
       "name   ...                                                                  \n",
       "Имя_0  ...   True  False  False   True  False  False  False  False  False   \n",
       "Имя_1  ...  False  False   True  False  False  False  False  False  False   \n",
       "Имя_2  ...  False   True  False  False  False  False   True  False  False   \n",
       "Имя_3  ...  False   True  False  False  False  False  False   True  False   \n",
       "Имя_4  ...  False   True  False  False  False  False  False  False  False   \n",
       "\n",
       "          50  \n",
       "name          \n",
       "Имя_0  False  \n",
       "Имя_1   True  \n",
       "Имя_2  False  \n",
       "Имя_3  False  \n",
       "Имя_4   True  \n",
       "\n",
       "[5 rows x 50 columns]"
      ]
     },
     "execution_count": 6420,
     "metadata": {},
     "output_type": "execute_result"
    }
   ],
   "source": [
    "(df.set_index('name') == 0).head()"
   ]
  },
  {
   "cell_type": "code",
   "execution_count": 6421,
   "metadata": {},
   "outputs": [
    {
     "data": {
      "text/plain": [
       "name\n",
       "Имя_0     6\n",
       "Имя_1    10\n",
       "Имя_2    10\n",
       "Имя_3    10\n",
       "Имя_4     8\n",
       "dtype: int32"
      ]
     },
     "execution_count": 6421,
     "metadata": {},
     "output_type": "execute_result"
    }
   ],
   "source": [
    "new_ser = df.set_index('name').agg(lambda x: sum(np.where(x.isin([0.0]), 1, 0)) , axis=1)\n",
    "new_ser.head()"
   ]
  },
  {
   "cell_type": "code",
   "execution_count": 6422,
   "metadata": {},
   "outputs": [
    {
     "data": {
      "text/html": [
       "<div>\n",
       "<style scoped>\n",
       "    .dataframe tbody tr th:only-of-type {\n",
       "        vertical-align: middle;\n",
       "    }\n",
       "\n",
       "    .dataframe tbody tr th {\n",
       "        vertical-align: top;\n",
       "    }\n",
       "\n",
       "    .dataframe thead th {\n",
       "        text-align: right;\n",
       "    }\n",
       "</style>\n",
       "<table border=\"1\" class=\"dataframe\">\n",
       "  <thead>\n",
       "    <tr style=\"text-align: right;\">\n",
       "      <th></th>\n",
       "      <th>1</th>\n",
       "      <th>2</th>\n",
       "      <th>3</th>\n",
       "      <th>4</th>\n",
       "      <th>5</th>\n",
       "      <th>6</th>\n",
       "      <th>7</th>\n",
       "      <th>8</th>\n",
       "      <th>9</th>\n",
       "      <th>10</th>\n",
       "      <th>...</th>\n",
       "      <th>41</th>\n",
       "      <th>42</th>\n",
       "      <th>43</th>\n",
       "      <th>44</th>\n",
       "      <th>45</th>\n",
       "      <th>46</th>\n",
       "      <th>47</th>\n",
       "      <th>48</th>\n",
       "      <th>49</th>\n",
       "      <th>50</th>\n",
       "    </tr>\n",
       "  </thead>\n",
       "  <tbody>\n",
       "    <tr>\n",
       "      <th>sum</th>\n",
       "      <td>42.00</td>\n",
       "      <td>42.00</td>\n",
       "      <td>42.00</td>\n",
       "      <td>43.00</td>\n",
       "      <td>39.00</td>\n",
       "      <td>40.0</td>\n",
       "      <td>43.00</td>\n",
       "      <td>44.00</td>\n",
       "      <td>40.0</td>\n",
       "      <td>44.00</td>\n",
       "      <td>...</td>\n",
       "      <td>39.00</td>\n",
       "      <td>37.00</td>\n",
       "      <td>38.00</td>\n",
       "      <td>41.00</td>\n",
       "      <td>35.0</td>\n",
       "      <td>43.00</td>\n",
       "      <td>42.00</td>\n",
       "      <td>41.00</td>\n",
       "      <td>38.00</td>\n",
       "      <td>41.00</td>\n",
       "    </tr>\n",
       "    <tr>\n",
       "      <th>mean</th>\n",
       "      <td>0.84</td>\n",
       "      <td>0.84</td>\n",
       "      <td>0.84</td>\n",
       "      <td>0.86</td>\n",
       "      <td>0.78</td>\n",
       "      <td>0.8</td>\n",
       "      <td>0.86</td>\n",
       "      <td>0.88</td>\n",
       "      <td>0.8</td>\n",
       "      <td>0.88</td>\n",
       "      <td>...</td>\n",
       "      <td>0.78</td>\n",
       "      <td>0.74</td>\n",
       "      <td>0.76</td>\n",
       "      <td>0.82</td>\n",
       "      <td>0.7</td>\n",
       "      <td>0.86</td>\n",
       "      <td>0.84</td>\n",
       "      <td>0.82</td>\n",
       "      <td>0.76</td>\n",
       "      <td>0.82</td>\n",
       "    </tr>\n",
       "  </tbody>\n",
       "</table>\n",
       "<p>2 rows × 50 columns</p>\n",
       "</div>"
      ],
      "text/plain": [
       "          1      2      3      4      5     6      7      8     9     10  ...  \\\n",
       "sum   42.00  42.00  42.00  43.00  39.00  40.0  43.00  44.00  40.0  44.00  ...   \n",
       "mean   0.84   0.84   0.84   0.86   0.78   0.8   0.86   0.88   0.8   0.88  ...   \n",
       "\n",
       "         41     42     43     44    45     46     47     48     49     50  \n",
       "sum   39.00  37.00  38.00  41.00  35.0  43.00  42.00  41.00  38.00  41.00  \n",
       "mean   0.78   0.74   0.76   0.82   0.7   0.86   0.84   0.82   0.76   0.82  \n",
       "\n",
       "[2 rows x 50 columns]"
      ]
     },
     "execution_count": 6422,
     "metadata": {},
     "output_type": "execute_result"
    }
   ],
   "source": [
    "# Сколько студентов правильно решили конкретную задачу и среднее значение правильных решений.\n",
    "\n",
    "new_df = pd.read_csv('data\\stud.csv', index_col='name').map(lambda x: 1 if x==1.0 else 0).agg(['sum', 'mean'])\n",
    "new_df.head()"
   ]
  },
  {
   "cell_type": "code",
   "execution_count": 6423,
   "metadata": {},
   "outputs": [
    {
     "data": {
      "text/html": [
       "<div>\n",
       "<style scoped>\n",
       "    .dataframe tbody tr th:only-of-type {\n",
       "        vertical-align: middle;\n",
       "    }\n",
       "\n",
       "    .dataframe tbody tr th {\n",
       "        vertical-align: top;\n",
       "    }\n",
       "\n",
       "    .dataframe thead th {\n",
       "        text-align: right;\n",
       "    }\n",
       "</style>\n",
       "<table border=\"1\" class=\"dataframe\">\n",
       "  <thead>\n",
       "    <tr style=\"text-align: right;\">\n",
       "      <th></th>\n",
       "      <th>1</th>\n",
       "      <th>2</th>\n",
       "      <th>3</th>\n",
       "      <th>4</th>\n",
       "      <th>5</th>\n",
       "      <th>6</th>\n",
       "      <th>7</th>\n",
       "      <th>8</th>\n",
       "      <th>9</th>\n",
       "      <th>10</th>\n",
       "      <th>...</th>\n",
       "      <th>41</th>\n",
       "      <th>42</th>\n",
       "      <th>43</th>\n",
       "      <th>44</th>\n",
       "      <th>45</th>\n",
       "      <th>46</th>\n",
       "      <th>47</th>\n",
       "      <th>48</th>\n",
       "      <th>49</th>\n",
       "      <th>50</th>\n",
       "    </tr>\n",
       "  </thead>\n",
       "  <tbody>\n",
       "    <tr>\n",
       "      <th>sum</th>\n",
       "      <td>42.00</td>\n",
       "      <td>42.00</td>\n",
       "      <td>42.00</td>\n",
       "      <td>43.00</td>\n",
       "      <td>39.00</td>\n",
       "      <td>40.0</td>\n",
       "      <td>43.00</td>\n",
       "      <td>44.00</td>\n",
       "      <td>40.0</td>\n",
       "      <td>44.00</td>\n",
       "      <td>...</td>\n",
       "      <td>39.00</td>\n",
       "      <td>37.00</td>\n",
       "      <td>38.00</td>\n",
       "      <td>41.00</td>\n",
       "      <td>35.0</td>\n",
       "      <td>43.00</td>\n",
       "      <td>42.00</td>\n",
       "      <td>41.00</td>\n",
       "      <td>38.00</td>\n",
       "      <td>41.00</td>\n",
       "    </tr>\n",
       "    <tr>\n",
       "      <th>mean</th>\n",
       "      <td>0.84</td>\n",
       "      <td>0.84</td>\n",
       "      <td>0.84</td>\n",
       "      <td>0.86</td>\n",
       "      <td>0.78</td>\n",
       "      <td>0.8</td>\n",
       "      <td>0.86</td>\n",
       "      <td>0.88</td>\n",
       "      <td>0.8</td>\n",
       "      <td>0.88</td>\n",
       "      <td>...</td>\n",
       "      <td>0.78</td>\n",
       "      <td>0.74</td>\n",
       "      <td>0.76</td>\n",
       "      <td>0.82</td>\n",
       "      <td>0.7</td>\n",
       "      <td>0.86</td>\n",
       "      <td>0.84</td>\n",
       "      <td>0.82</td>\n",
       "      <td>0.76</td>\n",
       "      <td>0.82</td>\n",
       "    </tr>\n",
       "  </tbody>\n",
       "</table>\n",
       "<p>2 rows × 50 columns</p>\n",
       "</div>"
      ],
      "text/plain": [
       "          1      2      3      4      5     6      7      8     9     10  ...  \\\n",
       "sum   42.00  42.00  42.00  43.00  39.00  40.0  43.00  44.00  40.0  44.00  ...   \n",
       "mean   0.84   0.84   0.84   0.86   0.78   0.8   0.86   0.88   0.8   0.88  ...   \n",
       "\n",
       "         41     42     43     44    45     46     47     48     49     50  \n",
       "sum   39.00  37.00  38.00  41.00  35.0  43.00  42.00  41.00  38.00  41.00  \n",
       "mean   0.78   0.74   0.76   0.82   0.7   0.86   0.84   0.82   0.76   0.82  \n",
       "\n",
       "[2 rows x 50 columns]"
      ]
     },
     "execution_count": 6423,
     "metadata": {},
     "output_type": "execute_result"
    }
   ],
   "source": [
    "new_df = pd.read_csv('data\\stud.csv', index_col='name').fillna(0).agg(['sum', 'mean'])\n",
    "new_df.head()"
   ]
  },
  {
   "cell_type": "code",
   "execution_count": 6424,
   "metadata": {},
   "outputs": [
    {
     "data": {
      "text/html": [
       "<div>\n",
       "<style scoped>\n",
       "    .dataframe tbody tr th:only-of-type {\n",
       "        vertical-align: middle;\n",
       "    }\n",
       "\n",
       "    .dataframe tbody tr th {\n",
       "        vertical-align: top;\n",
       "    }\n",
       "\n",
       "    .dataframe thead th {\n",
       "        text-align: right;\n",
       "    }\n",
       "</style>\n",
       "<table border=\"1\" class=\"dataframe\">\n",
       "  <thead>\n",
       "    <tr style=\"text-align: right;\">\n",
       "      <th></th>\n",
       "      <th>1</th>\n",
       "      <th>2</th>\n",
       "      <th>3</th>\n",
       "      <th>4</th>\n",
       "      <th>5</th>\n",
       "      <th>6</th>\n",
       "      <th>7</th>\n",
       "      <th>8</th>\n",
       "      <th>9</th>\n",
       "      <th>10</th>\n",
       "      <th>...</th>\n",
       "      <th>41</th>\n",
       "      <th>42</th>\n",
       "      <th>43</th>\n",
       "      <th>44</th>\n",
       "      <th>45</th>\n",
       "      <th>46</th>\n",
       "      <th>47</th>\n",
       "      <th>48</th>\n",
       "      <th>49</th>\n",
       "      <th>50</th>\n",
       "    </tr>\n",
       "  </thead>\n",
       "  <tbody>\n",
       "    <tr>\n",
       "      <th>sum</th>\n",
       "      <td>42.00</td>\n",
       "      <td>42.00</td>\n",
       "      <td>42.00</td>\n",
       "      <td>43.00</td>\n",
       "      <td>39.00</td>\n",
       "      <td>40.0</td>\n",
       "      <td>43.00</td>\n",
       "      <td>44.00</td>\n",
       "      <td>40.0</td>\n",
       "      <td>44.00</td>\n",
       "      <td>...</td>\n",
       "      <td>39.00</td>\n",
       "      <td>37.00</td>\n",
       "      <td>38.00</td>\n",
       "      <td>41.00</td>\n",
       "      <td>35.0</td>\n",
       "      <td>43.00</td>\n",
       "      <td>42.00</td>\n",
       "      <td>41.00</td>\n",
       "      <td>38.00</td>\n",
       "      <td>41.00</td>\n",
       "    </tr>\n",
       "    <tr>\n",
       "      <th>mean</th>\n",
       "      <td>0.84</td>\n",
       "      <td>0.84</td>\n",
       "      <td>0.84</td>\n",
       "      <td>0.86</td>\n",
       "      <td>0.78</td>\n",
       "      <td>0.8</td>\n",
       "      <td>0.86</td>\n",
       "      <td>0.88</td>\n",
       "      <td>0.8</td>\n",
       "      <td>0.88</td>\n",
       "      <td>...</td>\n",
       "      <td>0.78</td>\n",
       "      <td>0.74</td>\n",
       "      <td>0.76</td>\n",
       "      <td>0.82</td>\n",
       "      <td>0.7</td>\n",
       "      <td>0.86</td>\n",
       "      <td>0.84</td>\n",
       "      <td>0.82</td>\n",
       "      <td>0.76</td>\n",
       "      <td>0.82</td>\n",
       "    </tr>\n",
       "  </tbody>\n",
       "</table>\n",
       "<p>2 rows × 50 columns</p>\n",
       "</div>"
      ],
      "text/plain": [
       "          1      2      3      4      5     6      7      8     9     10  ...  \\\n",
       "sum   42.00  42.00  42.00  43.00  39.00  40.0  43.00  44.00  40.0  44.00  ...   \n",
       "mean   0.84   0.84   0.84   0.86   0.78   0.8   0.86   0.88   0.8   0.88  ...   \n",
       "\n",
       "         41     42     43     44    45     46     47     48     49     50  \n",
       "sum   39.00  37.00  38.00  41.00  35.0  43.00  42.00  41.00  38.00  41.00  \n",
       "mean   0.78   0.74   0.76   0.82   0.7   0.86   0.84   0.82   0.76   0.82  \n",
       "\n",
       "[2 rows x 50 columns]"
      ]
     },
     "execution_count": 6424,
     "metadata": {},
     "output_type": "execute_result"
    }
   ],
   "source": [
    "new_df = pd.read_csv('data\\stud.csv', index_col='name').eq(1).agg(['sum', 'mean'])\n",
    "new_df.head()"
   ]
  },
  {
   "cell_type": "code",
   "execution_count": 6425,
   "metadata": {},
   "outputs": [
    {
     "data": {
      "text/html": [
       "<div>\n",
       "<style scoped>\n",
       "    .dataframe tbody tr th:only-of-type {\n",
       "        vertical-align: middle;\n",
       "    }\n",
       "\n",
       "    .dataframe tbody tr th {\n",
       "        vertical-align: top;\n",
       "    }\n",
       "\n",
       "    .dataframe thead th {\n",
       "        text-align: right;\n",
       "    }\n",
       "</style>\n",
       "<table border=\"1\" class=\"dataframe\">\n",
       "  <thead>\n",
       "    <tr style=\"text-align: right;\">\n",
       "      <th></th>\n",
       "      <th>1</th>\n",
       "      <th>2</th>\n",
       "      <th>3</th>\n",
       "      <th>4</th>\n",
       "      <th>5</th>\n",
       "      <th>6</th>\n",
       "      <th>7</th>\n",
       "      <th>8</th>\n",
       "      <th>9</th>\n",
       "      <th>10</th>\n",
       "      <th>...</th>\n",
       "      <th>41</th>\n",
       "      <th>42</th>\n",
       "      <th>43</th>\n",
       "      <th>44</th>\n",
       "      <th>45</th>\n",
       "      <th>46</th>\n",
       "      <th>47</th>\n",
       "      <th>48</th>\n",
       "      <th>49</th>\n",
       "      <th>50</th>\n",
       "    </tr>\n",
       "  </thead>\n",
       "  <tbody>\n",
       "    <tr>\n",
       "      <th>sum</th>\n",
       "      <td>8.00</td>\n",
       "      <td>8.00</td>\n",
       "      <td>8.00</td>\n",
       "      <td>7.00</td>\n",
       "      <td>11.00</td>\n",
       "      <td>10.0</td>\n",
       "      <td>7.00</td>\n",
       "      <td>6.00</td>\n",
       "      <td>10.0</td>\n",
       "      <td>6.00</td>\n",
       "      <td>...</td>\n",
       "      <td>11.00</td>\n",
       "      <td>13.00</td>\n",
       "      <td>12.00</td>\n",
       "      <td>9.00</td>\n",
       "      <td>15.0</td>\n",
       "      <td>7.00</td>\n",
       "      <td>8.00</td>\n",
       "      <td>9.00</td>\n",
       "      <td>12.00</td>\n",
       "      <td>9.00</td>\n",
       "    </tr>\n",
       "    <tr>\n",
       "      <th>mean</th>\n",
       "      <td>0.16</td>\n",
       "      <td>0.16</td>\n",
       "      <td>0.16</td>\n",
       "      <td>0.14</td>\n",
       "      <td>0.22</td>\n",
       "      <td>0.2</td>\n",
       "      <td>0.14</td>\n",
       "      <td>0.12</td>\n",
       "      <td>0.2</td>\n",
       "      <td>0.12</td>\n",
       "      <td>...</td>\n",
       "      <td>0.22</td>\n",
       "      <td>0.26</td>\n",
       "      <td>0.24</td>\n",
       "      <td>0.18</td>\n",
       "      <td>0.3</td>\n",
       "      <td>0.14</td>\n",
       "      <td>0.16</td>\n",
       "      <td>0.18</td>\n",
       "      <td>0.24</td>\n",
       "      <td>0.18</td>\n",
       "    </tr>\n",
       "  </tbody>\n",
       "</table>\n",
       "<p>2 rows × 50 columns</p>\n",
       "</div>"
      ],
      "text/plain": [
       "         1     2     3     4      5     6     7     8     9    10  ...     41  \\\n",
       "sum   8.00  8.00  8.00  7.00  11.00  10.0  7.00  6.00  10.0  6.00  ...  11.00   \n",
       "mean  0.16  0.16  0.16  0.14   0.22   0.2  0.14  0.12   0.2  0.12  ...   0.22   \n",
       "\n",
       "         42     43    44    45    46    47    48     49    50  \n",
       "sum   13.00  12.00  9.00  15.0  7.00  8.00  9.00  12.00  9.00  \n",
       "mean   0.26   0.24  0.18   0.3  0.14  0.16  0.18   0.24  0.18  \n",
       "\n",
       "[2 rows x 50 columns]"
      ]
     },
     "execution_count": 6425,
     "metadata": {},
     "output_type": "execute_result"
    }
   ],
   "source": [
    "# Сколько студентов не решили конкретную задачу и среднее значение нерешивших.\n",
    "\n",
    "new_df = pd.read_csv('data\\stud.csv', index_col='name').ne(1).agg(['sum', 'mean'])\n",
    "new_df.head()"
   ]
  },
  {
   "cell_type": "code",
   "execution_count": 6426,
   "metadata": {},
   "outputs": [
    {
     "data": {
      "text/html": [
       "<div>\n",
       "<style scoped>\n",
       "    .dataframe tbody tr th:only-of-type {\n",
       "        vertical-align: middle;\n",
       "    }\n",
       "\n",
       "    .dataframe tbody tr th {\n",
       "        vertical-align: top;\n",
       "    }\n",
       "\n",
       "    .dataframe thead th {\n",
       "        text-align: right;\n",
       "    }\n",
       "</style>\n",
       "<table border=\"1\" class=\"dataframe\">\n",
       "  <thead>\n",
       "    <tr style=\"text-align: right;\">\n",
       "      <th></th>\n",
       "      <th>1</th>\n",
       "      <th>2</th>\n",
       "      <th>3</th>\n",
       "      <th>4</th>\n",
       "      <th>5</th>\n",
       "      <th>6</th>\n",
       "      <th>7</th>\n",
       "      <th>8</th>\n",
       "      <th>9</th>\n",
       "      <th>10</th>\n",
       "      <th>...</th>\n",
       "      <th>41</th>\n",
       "      <th>42</th>\n",
       "      <th>43</th>\n",
       "      <th>44</th>\n",
       "      <th>45</th>\n",
       "      <th>46</th>\n",
       "      <th>47</th>\n",
       "      <th>48</th>\n",
       "      <th>49</th>\n",
       "      <th>50</th>\n",
       "    </tr>\n",
       "  </thead>\n",
       "  <tbody>\n",
       "    <tr>\n",
       "      <th>sum</th>\n",
       "      <td>8.00</td>\n",
       "      <td>8.00</td>\n",
       "      <td>8.00</td>\n",
       "      <td>7.00</td>\n",
       "      <td>11.00</td>\n",
       "      <td>10.0</td>\n",
       "      <td>7.00</td>\n",
       "      <td>6.00</td>\n",
       "      <td>10.0</td>\n",
       "      <td>6.00</td>\n",
       "      <td>...</td>\n",
       "      <td>11.00</td>\n",
       "      <td>13.00</td>\n",
       "      <td>12.00</td>\n",
       "      <td>9.00</td>\n",
       "      <td>15.0</td>\n",
       "      <td>7.00</td>\n",
       "      <td>8.00</td>\n",
       "      <td>9.00</td>\n",
       "      <td>12.00</td>\n",
       "      <td>9.00</td>\n",
       "    </tr>\n",
       "    <tr>\n",
       "      <th>mean</th>\n",
       "      <td>0.16</td>\n",
       "      <td>0.16</td>\n",
       "      <td>0.16</td>\n",
       "      <td>0.14</td>\n",
       "      <td>0.22</td>\n",
       "      <td>0.2</td>\n",
       "      <td>0.14</td>\n",
       "      <td>0.12</td>\n",
       "      <td>0.2</td>\n",
       "      <td>0.12</td>\n",
       "      <td>...</td>\n",
       "      <td>0.22</td>\n",
       "      <td>0.26</td>\n",
       "      <td>0.24</td>\n",
       "      <td>0.18</td>\n",
       "      <td>0.3</td>\n",
       "      <td>0.14</td>\n",
       "      <td>0.16</td>\n",
       "      <td>0.18</td>\n",
       "      <td>0.24</td>\n",
       "      <td>0.18</td>\n",
       "    </tr>\n",
       "  </tbody>\n",
       "</table>\n",
       "<p>2 rows × 50 columns</p>\n",
       "</div>"
      ],
      "text/plain": [
       "         1     2     3     4      5     6     7     8     9    10  ...     41  \\\n",
       "sum   8.00  8.00  8.00  7.00  11.00  10.0  7.00  6.00  10.0  6.00  ...  11.00   \n",
       "mean  0.16  0.16  0.16  0.14   0.22   0.2  0.14  0.12   0.2  0.12  ...   0.22   \n",
       "\n",
       "         42     43    44    45    46    47    48     49    50  \n",
       "sum   13.00  12.00  9.00  15.0  7.00  8.00  9.00  12.00  9.00  \n",
       "mean   0.26   0.24  0.18   0.3  0.14  0.16  0.18   0.24  0.18  \n",
       "\n",
       "[2 rows x 50 columns]"
      ]
     },
     "execution_count": 6426,
     "metadata": {},
     "output_type": "execute_result"
    }
   ],
   "source": [
    "new_df = pd.read_csv('data\\stud.csv', index_col='name').isin([0, np.nan]).agg(['sum', 'mean'])\n",
    "new_df.head()"
   ]
  },
  {
   "cell_type": "code",
   "execution_count": 6427,
   "metadata": {},
   "outputs": [
    {
     "data": {
      "text/html": [
       "<div>\n",
       "<style scoped>\n",
       "    .dataframe tbody tr th:only-of-type {\n",
       "        vertical-align: middle;\n",
       "    }\n",
       "\n",
       "    .dataframe tbody tr th {\n",
       "        vertical-align: top;\n",
       "    }\n",
       "\n",
       "    .dataframe thead th {\n",
       "        text-align: right;\n",
       "    }\n",
       "</style>\n",
       "<table border=\"1\" class=\"dataframe\">\n",
       "  <thead>\n",
       "    <tr style=\"text-align: right;\">\n",
       "      <th></th>\n",
       "      <th>5</th>\n",
       "    </tr>\n",
       "  </thead>\n",
       "  <tbody>\n",
       "    <tr>\n",
       "      <th>sum_solved</th>\n",
       "      <td>39.00</td>\n",
       "    </tr>\n",
       "    <tr>\n",
       "      <th>mean_solved</th>\n",
       "      <td>0.78</td>\n",
       "    </tr>\n",
       "  </tbody>\n",
       "</table>\n",
       "</div>"
      ],
      "text/plain": [
       "                 5\n",
       "sum_solved   39.00\n",
       "mean_solved   0.78"
      ]
     },
     "execution_count": 6427,
     "metadata": {},
     "output_type": "execute_result"
    }
   ],
   "source": [
    "# Сколько студентов правильно решили пятую и среднее значение правильных решений. Воспользуйтесь именованной агрегацией.\n",
    "\n",
    "new_df = pd.read_csv('data\\stud.csv', index_col='name')['5'].eq(1).agg({'sum_solved': 'sum', 'mean_solved': 'mean'}).to_frame()\n",
    "new_df.head()"
   ]
  },
  {
   "cell_type": "markdown",
   "metadata": {},
   "source": [
    "# 2.5 Группировка данных. Метод groupby()."
   ]
  },
  {
   "cell_type": "code",
   "execution_count": 6428,
   "metadata": {},
   "outputs": [
    {
     "data": {
      "text/html": [
       "<div>\n",
       "<style scoped>\n",
       "    .dataframe tbody tr th:only-of-type {\n",
       "        vertical-align: middle;\n",
       "    }\n",
       "\n",
       "    .dataframe tbody tr th {\n",
       "        vertical-align: top;\n",
       "    }\n",
       "\n",
       "    .dataframe thead th {\n",
       "        text-align: right;\n",
       "    }\n",
       "</style>\n",
       "<table border=\"1\" class=\"dataframe\">\n",
       "  <thead>\n",
       "    <tr style=\"text-align: right;\">\n",
       "      <th></th>\n",
       "      <th>user</th>\n",
       "      <th>device</th>\n",
       "      <th>date</th>\n",
       "    </tr>\n",
       "  </thead>\n",
       "  <tbody>\n",
       "    <tr>\n",
       "      <th>0</th>\n",
       "      <td>user_0</td>\n",
       "      <td>PC</td>\n",
       "      <td>2023-01-01</td>\n",
       "    </tr>\n",
       "    <tr>\n",
       "      <th>1</th>\n",
       "      <td>user_0</td>\n",
       "      <td>phone</td>\n",
       "      <td>2023-01-02</td>\n",
       "    </tr>\n",
       "    <tr>\n",
       "      <th>2</th>\n",
       "      <td>user_1</td>\n",
       "      <td>laptop</td>\n",
       "      <td>2023-01-03</td>\n",
       "    </tr>\n",
       "    <tr>\n",
       "      <th>3</th>\n",
       "      <td>user_1</td>\n",
       "      <td>PC</td>\n",
       "      <td>2023-01-04</td>\n",
       "    </tr>\n",
       "    <tr>\n",
       "      <th>4</th>\n",
       "      <td>user_2</td>\n",
       "      <td>laptop</td>\n",
       "      <td>2023-01-05</td>\n",
       "    </tr>\n",
       "  </tbody>\n",
       "</table>\n",
       "</div>"
      ],
      "text/plain": [
       "     user  device        date\n",
       "0  user_0      PC  2023-01-01\n",
       "1  user_0   phone  2023-01-02\n",
       "2  user_1  laptop  2023-01-03\n",
       "3  user_1      PC  2023-01-04\n",
       "4  user_2  laptop  2023-01-05"
      ]
     },
     "execution_count": 6428,
     "metadata": {},
     "output_type": "execute_result"
    }
   ],
   "source": [
    "df = pd.read_csv('data/users.csv', encoding='UTF-8').drop('Unnamed: 0', axis=1)\n",
    "df.head()"
   ]
  },
  {
   "cell_type": "code",
   "execution_count": 6429,
   "metadata": {},
   "outputs": [
    {
     "name": "stderr",
     "output_type": "stream",
     "text": [
      "c:\\Users\\Pong\\anaconda3\\Lib\\site-packages\\IPython\\core\\displayhook.py:281: UserWarning: Output cache limit (currently 1000 entries) hit.\n",
      "Flushing oldest 200 entries.\n",
      "  warn('Output cache limit (currently {sz} entries) hit.\\n'\n"
     ]
    },
    {
     "data": {
      "text/plain": [
       "(180, 3)"
      ]
     },
     "execution_count": 6429,
     "metadata": {},
     "output_type": "execute_result"
    }
   ],
   "source": [
    "df.shape"
   ]
  },
  {
   "cell_type": "code",
   "execution_count": 6430,
   "metadata": {},
   "outputs": [
    {
     "data": {
      "text/plain": [
       "<pandas.core.groupby.generic.DataFrameGroupBy object at 0x000001C696911D50>"
      ]
     },
     "execution_count": 6430,
     "metadata": {},
     "output_type": "execute_result"
    }
   ],
   "source": [
    "groups = df.groupby(['user', 'device'])\n",
    "groups"
   ]
  },
  {
   "cell_type": "code",
   "execution_count": 6431,
   "metadata": {},
   "outputs": [
    {
     "name": "stdout",
     "output_type": "stream",
     "text": [
      "('user_0', 'PC')\n",
      "       user device        date\n",
      "0    user_0     PC  2023-01-01\n",
      "36   user_0     PC  2023-02-06\n",
      "72   user_0     PC  2023-03-14\n",
      "108  user_0     PC  2023-04-19\n",
      "144  user_0     PC  2023-05-25/n/n('user_0', 'phone')\n",
      "       user device        date\n",
      "1    user_0  phone  2023-01-02\n",
      "37   user_0  phone  2023-02-07\n",
      "73   user_0  phone  2023-03-15\n",
      "109  user_0  phone  2023-04-20\n",
      "145  user_0  phone  2023-05-26/n/n('user_1', 'PC')\n",
      "       user device        date\n",
      "3    user_1     PC  2023-01-04\n",
      "39   user_1     PC  2023-02-09\n",
      "75   user_1     PC  2023-03-17\n",
      "111  user_1     PC  2023-04-22\n",
      "147  user_1     PC  2023-05-28/n/n('user_1', 'laptop')\n",
      "       user  device        date\n",
      "2    user_1  laptop  2023-01-03\n",
      "38   user_1  laptop  2023-02-08\n",
      "74   user_1  laptop  2023-03-16\n",
      "110  user_1  laptop  2023-04-21\n",
      "146  user_1  laptop  2023-05-27/n/n('user_10', 'laptop')\n",
      "        user  device        date\n",
      "17   user_10  laptop  2023-01-18\n",
      "53   user_10  laptop  2023-02-23\n",
      "89   user_10  laptop  2023-03-31\n",
      "125  user_10  laptop  2023-05-06\n",
      "161  user_10  laptop  2023-06-11/n/n('user_10', 'phone')\n",
      "        user device        date\n",
      "16   user_10  phone  2023-01-17\n",
      "52   user_10  phone  2023-02-22\n",
      "88   user_10  phone  2023-03-30\n",
      "124  user_10  phone  2023-05-05\n",
      "160  user_10  phone  2023-06-10/n/n('user_11', 'PC')\n",
      "        user device        date\n",
      "19   user_11     PC  2023-01-20\n",
      "55   user_11     PC  2023-02-25\n",
      "91   user_11     PC  2023-04-02\n",
      "127  user_11     PC  2023-05-08\n",
      "163  user_11     PC  2023-06-13/n/n('user_11', 'laptop')\n",
      "        user  device        date\n",
      "18   user_11  laptop  2023-01-19\n",
      "54   user_11  laptop  2023-02-24\n",
      "90   user_11  laptop  2023-04-01\n",
      "126  user_11  laptop  2023-05-07\n",
      "162  user_11  laptop  2023-06-12/n/n('user_12', 'PC')\n",
      "        user device        date\n",
      "20   user_12     PC  2023-01-21\n",
      "56   user_12     PC  2023-02-26\n",
      "92   user_12     PC  2023-04-03\n",
      "128  user_12     PC  2023-05-09\n",
      "164  user_12     PC  2023-06-14/n/n('user_12', 'laptop')\n",
      "        user  device        date\n",
      "21   user_12  laptop  2023-01-22\n",
      "57   user_12  laptop  2023-02-27\n",
      "93   user_12  laptop  2023-04-04\n",
      "129  user_12  laptop  2023-05-10\n",
      "165  user_12  laptop  2023-06-15/n/n('user_12', 'phone')\n",
      "        user device        date\n",
      "22   user_12  phone  2023-01-23\n",
      "58   user_12  phone  2023-02-28\n",
      "94   user_12  phone  2023-04-05\n",
      "130  user_12  phone  2023-05-11\n",
      "166  user_12  phone  2023-06-16/n/n('user_13', 'laptop')\n",
      "        user  device        date\n",
      "23   user_13  laptop  2023-01-24\n",
      "59   user_13  laptop  2023-03-01\n",
      "95   user_13  laptop  2023-04-06\n",
      "131  user_13  laptop  2023-05-12\n",
      "167  user_13  laptop  2023-06-17/n/n('user_14', 'PC')\n",
      "        user device        date\n",
      "24   user_14     PC  2023-01-25\n",
      "60   user_14     PC  2023-03-02\n",
      "96   user_14     PC  2023-04-07\n",
      "132  user_14     PC  2023-05-13\n",
      "168  user_14     PC  2023-06-18/n/n('user_15', 'PC')\n",
      "        user device        date\n",
      "25   user_15     PC  2023-01-26\n",
      "61   user_15     PC  2023-03-03\n",
      "97   user_15     PC  2023-04-08\n",
      "133  user_15     PC  2023-05-14\n",
      "169  user_15     PC  2023-06-19/n/n('user_15', 'laptop')\n",
      "        user  device        date\n",
      "26   user_15  laptop  2023-01-27\n",
      "62   user_15  laptop  2023-03-04\n",
      "98   user_15  laptop  2023-04-09\n",
      "134  user_15  laptop  2023-05-15\n",
      "170  user_15  laptop  2023-06-20/n/n('user_15', 'phone')\n",
      "        user device        date\n",
      "27   user_15  phone  2023-01-28\n",
      "63   user_15  phone  2023-03-05\n",
      "99   user_15  phone  2023-04-10\n",
      "135  user_15  phone  2023-05-16\n",
      "171  user_15  phone  2023-06-21/n/n('user_16', 'phone')\n",
      "        user device        date\n",
      "28   user_16  phone  2023-01-29\n",
      "64   user_16  phone  2023-03-06\n",
      "100  user_16  phone  2023-04-11\n",
      "136  user_16  phone  2023-05-17\n",
      "172  user_16  phone  2023-06-22/n/n('user_17', 'laptop')\n",
      "        user  device        date\n",
      "29   user_17  laptop  2023-01-30\n",
      "65   user_17  laptop  2023-03-07\n",
      "101  user_17  laptop  2023-04-12\n",
      "137  user_17  laptop  2023-05-18\n",
      "173  user_17  laptop  2023-06-23/n/n('user_17', 'phone')\n",
      "        user device        date\n",
      "30   user_17  phone  2023-01-31\n",
      "66   user_17  phone  2023-03-08\n",
      "102  user_17  phone  2023-04-13\n",
      "138  user_17  phone  2023-05-19\n",
      "174  user_17  phone  2023-06-24/n/n('user_18', 'PC')\n",
      "        user device        date\n",
      "32   user_18     PC  2023-02-02\n",
      "68   user_18     PC  2023-03-10\n",
      "104  user_18     PC  2023-04-15\n",
      "140  user_18     PC  2023-05-21\n",
      "176  user_18     PC  2023-06-26/n/n('user_18', 'laptop')\n",
      "        user  device        date\n",
      "31   user_18  laptop  2023-02-01\n",
      "67   user_18  laptop  2023-03-09\n",
      "103  user_18  laptop  2023-04-14\n",
      "139  user_18  laptop  2023-05-20\n",
      "175  user_18  laptop  2023-06-25/n/n('user_19', 'PC')\n",
      "        user device        date\n",
      "33   user_19     PC  2023-02-03\n",
      "69   user_19     PC  2023-03-11\n",
      "105  user_19     PC  2023-04-16\n",
      "141  user_19     PC  2023-05-22\n",
      "177  user_19     PC  2023-06-27/n/n('user_19', 'laptop')\n",
      "        user  device        date\n",
      "34   user_19  laptop  2023-02-04\n",
      "70   user_19  laptop  2023-03-12\n",
      "106  user_19  laptop  2023-04-17\n",
      "142  user_19  laptop  2023-05-23\n",
      "178  user_19  laptop  2023-06-28/n/n('user_19', 'phone')\n",
      "        user device        date\n",
      "35   user_19  phone  2023-02-05\n",
      "71   user_19  phone  2023-03-13\n",
      "107  user_19  phone  2023-04-18\n",
      "143  user_19  phone  2023-05-24\n",
      "179  user_19  phone  2023-06-29/n/n('user_2', 'laptop')\n",
      "       user  device        date\n",
      "4    user_2  laptop  2023-01-05\n",
      "40   user_2  laptop  2023-02-10\n",
      "76   user_2  laptop  2023-03-18\n",
      "112  user_2  laptop  2023-04-23\n",
      "148  user_2  laptop  2023-05-29/n/n('user_3', 'PC')\n",
      "       user device        date\n",
      "5    user_3     PC  2023-01-06\n",
      "41   user_3     PC  2023-02-11\n",
      "77   user_3     PC  2023-03-19\n",
      "113  user_3     PC  2023-04-24\n",
      "149  user_3     PC  2023-05-30/n/n('user_3', 'phone')\n",
      "       user device        date\n",
      "6    user_3  phone  2023-01-07\n",
      "42   user_3  phone  2023-02-12\n",
      "78   user_3  phone  2023-03-20\n",
      "114  user_3  phone  2023-04-25\n",
      "150  user_3  phone  2023-05-31/n/n('user_4', 'PC')\n",
      "       user device        date\n",
      "7    user_4     PC  2023-01-08\n",
      "43   user_4     PC  2023-02-13\n",
      "79   user_4     PC  2023-03-21\n",
      "115  user_4     PC  2023-04-26\n",
      "151  user_4     PC  2023-06-01/n/n('user_4', 'laptop')\n",
      "       user  device        date\n",
      "8    user_4  laptop  2023-01-09\n",
      "44   user_4  laptop  2023-02-14\n",
      "80   user_4  laptop  2023-03-22\n",
      "116  user_4  laptop  2023-04-27\n",
      "152  user_4  laptop  2023-06-02/n/n('user_4', 'phone')\n",
      "       user device        date\n",
      "9    user_4  phone  2023-01-10\n",
      "45   user_4  phone  2023-02-15\n",
      "81   user_4  phone  2023-03-23\n",
      "117  user_4  phone  2023-04-28\n",
      "153  user_4  phone  2023-06-03/n/n('user_5', 'phone')\n",
      "       user device        date\n",
      "10   user_5  phone  2023-01-11\n",
      "46   user_5  phone  2023-02-16\n",
      "82   user_5  phone  2023-03-24\n",
      "118  user_5  phone  2023-04-29\n",
      "154  user_5  phone  2023-06-04/n/n('user_6', 'laptop')\n",
      "       user  device        date\n",
      "11   user_6  laptop  2023-01-12\n",
      "12   user_6  laptop  2023-01-13\n",
      "47   user_6  laptop  2023-02-17\n",
      "48   user_6  laptop  2023-02-18\n",
      "83   user_6  laptop  2023-03-25\n",
      "84   user_6  laptop  2023-03-26\n",
      "119  user_6  laptop  2023-04-30\n",
      "120  user_6  laptop  2023-05-01\n",
      "155  user_6  laptop  2023-06-05\n",
      "156  user_6  laptop  2023-06-06/n/n('user_7', 'PC')\n",
      "       user device        date\n",
      "13   user_7     PC  2023-01-14\n",
      "49   user_7     PC  2023-02-19\n",
      "85   user_7     PC  2023-03-27\n",
      "121  user_7     PC  2023-05-02\n",
      "157  user_7     PC  2023-06-07/n/n('user_8', 'PC')\n",
      "       user device        date\n",
      "14   user_8     PC  2023-01-15\n",
      "50   user_8     PC  2023-02-20\n",
      "86   user_8     PC  2023-03-28\n",
      "122  user_8     PC  2023-05-03\n",
      "158  user_8     PC  2023-06-08/n/n('user_9', 'PC')\n",
      "       user device        date\n",
      "15   user_9     PC  2023-01-16\n",
      "51   user_9     PC  2023-02-21\n",
      "87   user_9     PC  2023-03-29\n",
      "123  user_9     PC  2023-05-04\n",
      "159  user_9     PC  2023-06-09/n/n"
     ]
    }
   ],
   "source": [
    "for name, group in groups:\n",
    "    print(name)\n",
    "    print(group, end='/n/n')"
   ]
  },
  {
   "cell_type": "code",
   "execution_count": 6432,
   "metadata": {},
   "outputs": [
    {
     "data": {
      "text/html": [
       "<div>\n",
       "<style scoped>\n",
       "    .dataframe tbody tr th:only-of-type {\n",
       "        vertical-align: middle;\n",
       "    }\n",
       "\n",
       "    .dataframe tbody tr th {\n",
       "        vertical-align: top;\n",
       "    }\n",
       "\n",
       "    .dataframe thead th {\n",
       "        text-align: right;\n",
       "    }\n",
       "</style>\n",
       "<table border=\"1\" class=\"dataframe\">\n",
       "  <thead>\n",
       "    <tr style=\"text-align: right;\">\n",
       "      <th></th>\n",
       "      <th>device</th>\n",
       "      <th>user</th>\n",
       "      <th>date</th>\n",
       "    </tr>\n",
       "  </thead>\n",
       "  <tbody>\n",
       "    <tr>\n",
       "      <th>0</th>\n",
       "      <td>PC</td>\n",
       "      <td>65</td>\n",
       "      <td>65</td>\n",
       "    </tr>\n",
       "    <tr>\n",
       "      <th>1</th>\n",
       "      <td>laptop</td>\n",
       "      <td>65</td>\n",
       "      <td>65</td>\n",
       "    </tr>\n",
       "    <tr>\n",
       "      <th>2</th>\n",
       "      <td>phone</td>\n",
       "      <td>50</td>\n",
       "      <td>50</td>\n",
       "    </tr>\n",
       "  </tbody>\n",
       "</table>\n",
       "</div>"
      ],
      "text/plain": [
       "   device  user  date\n",
       "0      PC    65    65\n",
       "1  laptop    65    65\n",
       "2   phone    50    50"
      ]
     },
     "execution_count": 6432,
     "metadata": {},
     "output_type": "execute_result"
    }
   ],
   "source": [
    "# Показать индекс столбца группировки\n",
    "\n",
    "df.groupby('device', as_index=False).count()"
   ]
  },
  {
   "cell_type": "code",
   "execution_count": 6433,
   "metadata": {},
   "outputs": [
    {
     "data": {
      "text/plain": [
       "device\n",
       "PC        65\n",
       "laptop    65\n",
       "phone     50\n",
       "Name: date, dtype: int64"
      ]
     },
     "execution_count": 6433,
     "metadata": {},
     "output_type": "execute_result"
    }
   ],
   "source": [
    "df.groupby('device')['date'].count()"
   ]
  },
  {
   "cell_type": "code",
   "execution_count": 6434,
   "metadata": {},
   "outputs": [
    {
     "data": {
      "text/html": [
       "<div>\n",
       "<style scoped>\n",
       "    .dataframe tbody tr th:only-of-type {\n",
       "        vertical-align: middle;\n",
       "    }\n",
       "\n",
       "    .dataframe tbody tr th {\n",
       "        vertical-align: top;\n",
       "    }\n",
       "\n",
       "    .dataframe thead th {\n",
       "        text-align: right;\n",
       "    }\n",
       "</style>\n",
       "<table border=\"1\" class=\"dataframe\">\n",
       "  <thead>\n",
       "    <tr style=\"text-align: right;\">\n",
       "      <th></th>\n",
       "      <th>device</th>\n",
       "      <th>min_date</th>\n",
       "    </tr>\n",
       "  </thead>\n",
       "  <tbody>\n",
       "    <tr>\n",
       "      <th>0</th>\n",
       "      <td>PC</td>\n",
       "      <td>2023-01-01</td>\n",
       "    </tr>\n",
       "    <tr>\n",
       "      <th>1</th>\n",
       "      <td>laptop</td>\n",
       "      <td>2023-01-03</td>\n",
       "    </tr>\n",
       "    <tr>\n",
       "      <th>2</th>\n",
       "      <td>phone</td>\n",
       "      <td>2023-01-02</td>\n",
       "    </tr>\n",
       "  </tbody>\n",
       "</table>\n",
       "</div>"
      ],
      "text/plain": [
       "   device    min_date\n",
       "0      PC  2023-01-01\n",
       "1  laptop  2023-01-03\n",
       "2   phone  2023-01-02"
      ]
     },
     "execution_count": 6434,
     "metadata": {},
     "output_type": "execute_result"
    }
   ],
   "source": [
    "df.groupby('device', as_index=False).agg(min_date=('date', 'min'))"
   ]
  },
  {
   "cell_type": "code",
   "execution_count": 6435,
   "metadata": {},
   "outputs": [
    {
     "name": "stdout",
     "output_type": "stream",
     "text": [
      "(100, 3)\n"
     ]
    },
    {
     "data": {
      "text/html": [
       "<div>\n",
       "<style scoped>\n",
       "    .dataframe tbody tr th:only-of-type {\n",
       "        vertical-align: middle;\n",
       "    }\n",
       "\n",
       "    .dataframe tbody tr th {\n",
       "        vertical-align: top;\n",
       "    }\n",
       "\n",
       "    .dataframe thead th {\n",
       "        text-align: right;\n",
       "    }\n",
       "</style>\n",
       "<table border=\"1\" class=\"dataframe\">\n",
       "  <thead>\n",
       "    <tr style=\"text-align: right;\">\n",
       "      <th></th>\n",
       "      <th>client</th>\n",
       "      <th>product</th>\n",
       "      <th>price</th>\n",
       "    </tr>\n",
       "  </thead>\n",
       "  <tbody>\n",
       "    <tr>\n",
       "      <th>0</th>\n",
       "      <td>client_2</td>\n",
       "      <td>product_5</td>\n",
       "      <td>6000</td>\n",
       "    </tr>\n",
       "    <tr>\n",
       "      <th>1</th>\n",
       "      <td>client_0</td>\n",
       "      <td>product_1</td>\n",
       "      <td>2000</td>\n",
       "    </tr>\n",
       "    <tr>\n",
       "      <th>2</th>\n",
       "      <td>client_0</td>\n",
       "      <td>product_1</td>\n",
       "      <td>2000</td>\n",
       "    </tr>\n",
       "    <tr>\n",
       "      <th>3</th>\n",
       "      <td>client_3</td>\n",
       "      <td>product_0</td>\n",
       "      <td>1000</td>\n",
       "    </tr>\n",
       "    <tr>\n",
       "      <th>4</th>\n",
       "      <td>client_4</td>\n",
       "      <td>product_14</td>\n",
       "      <td>15000</td>\n",
       "    </tr>\n",
       "  </tbody>\n",
       "</table>\n",
       "</div>"
      ],
      "text/plain": [
       "     client     product  price\n",
       "0  client_2   product_5   6000\n",
       "1  client_0   product_1   2000\n",
       "2  client_0   product_1   2000\n",
       "3  client_3   product_0   1000\n",
       "4  client_4  product_14  15000"
      ]
     },
     "execution_count": 6435,
     "metadata": {},
     "output_type": "execute_result"
    }
   ],
   "source": [
    "# Задача\n",
    "\n",
    "N_client = 10\n",
    "N_product = 15\n",
    "\n",
    "client = {i: f'client_{i}' for i in range(N_client)}\n",
    "product = {i: f'product_{i}' for i in range(N_product )}\n",
    "price = {i: (i+1)*1000 for i in range(N_product)}\n",
    "\n",
    "client_list = np.random.randint(0, N_client, 100)\n",
    "product_list = np.random.randint(0, N_product , 100)\n",
    "\n",
    "df = pd.DataFrame({'client': client_list,\n",
    "                   'product': product_list,\n",
    "                   'price': product_list}).replace({'client': client, 'product': product, 'price': price})\n",
    "print(df.shape)\n",
    "df.head()"
   ]
  },
  {
   "cell_type": "code",
   "execution_count": 6436,
   "metadata": {},
   "outputs": [
    {
     "data": {
      "text/plain": [
       "client\n",
       "client_0     76000\n",
       "client_1     41000\n",
       "client_2     75000\n",
       "client_3    110000\n",
       "client_4    119000\n",
       "Name: price, dtype: int32"
      ]
     },
     "execution_count": 6436,
     "metadata": {},
     "output_type": "execute_result"
    }
   ],
   "source": [
    "# Подсчитайте сумму которую потратил каждый клиент. Результат запишите в переменную new_ser, он должен быть представлен в виде серии данных.\n",
    "\n",
    "new_ser = df.groupby('client')['price'].agg('sum')\n",
    "new_ser.head()"
   ]
  },
  {
   "cell_type": "code",
   "execution_count": 6437,
   "metadata": {},
   "outputs": [
    {
     "data": {
      "text/plain": [
       "client\n",
       "client_0    13\n",
       "client_1     4\n",
       "client_2     8\n",
       "client_3    13\n",
       "client_4    10\n",
       "Name: product, dtype: int64"
      ]
     },
     "execution_count": 6437,
     "metadata": {},
     "output_type": "execute_result"
    }
   ],
   "source": [
    "# Подсчитайте сколько товаров купил каждый клиент. Результат запишите в переменную new_ser, он должен быть представлен в виде серии данных.\n",
    "\n",
    "new_ser = df.groupby('client')['product'].agg('count')\n",
    "new_ser.head()"
   ]
  },
  {
   "cell_type": "code",
   "execution_count": 6438,
   "metadata": {},
   "outputs": [
    {
     "data": {
      "text/plain": [
       "client\n",
       "client_0     9\n",
       "client_1     4\n",
       "client_2     6\n",
       "client_3     7\n",
       "client_4     7\n",
       "client_5     7\n",
       "client_6     7\n",
       "client_7     8\n",
       "client_8    10\n",
       "client_9     7\n",
       "Name: product, dtype: int64"
      ]
     },
     "execution_count": 6438,
     "metadata": {},
     "output_type": "execute_result"
    }
   ],
   "source": [
    "# Подсчитайте какое количество разных товаров купил каждый клиент. Результат запишите в переменную new_ser.\n",
    "\n",
    "new_ser = df.groupby(['client'])['product'].nunique()\n",
    "new_ser"
   ]
  },
  {
   "cell_type": "code",
   "execution_count": 6439,
   "metadata": {},
   "outputs": [
    {
     "data": {
      "text/html": [
       "<div>\n",
       "<style scoped>\n",
       "    .dataframe tbody tr th:only-of-type {\n",
       "        vertical-align: middle;\n",
       "    }\n",
       "\n",
       "    .dataframe tbody tr th {\n",
       "        vertical-align: top;\n",
       "    }\n",
       "\n",
       "    .dataframe thead th {\n",
       "        text-align: right;\n",
       "    }\n",
       "</style>\n",
       "<table border=\"1\" class=\"dataframe\">\n",
       "  <thead>\n",
       "    <tr style=\"text-align: right;\">\n",
       "      <th></th>\n",
       "      <th>client</th>\n",
       "      <th>product</th>\n",
       "      <th>count</th>\n",
       "    </tr>\n",
       "  </thead>\n",
       "  <tbody>\n",
       "    <tr>\n",
       "      <th>0</th>\n",
       "      <td>client_0</td>\n",
       "      <td>product_0</td>\n",
       "      <td>2</td>\n",
       "    </tr>\n",
       "    <tr>\n",
       "      <th>1</th>\n",
       "      <td>client_0</td>\n",
       "      <td>product_1</td>\n",
       "      <td>3</td>\n",
       "    </tr>\n",
       "    <tr>\n",
       "      <th>2</th>\n",
       "      <td>client_0</td>\n",
       "      <td>product_10</td>\n",
       "      <td>1</td>\n",
       "    </tr>\n",
       "    <tr>\n",
       "      <th>3</th>\n",
       "      <td>client_0</td>\n",
       "      <td>product_11</td>\n",
       "      <td>1</td>\n",
       "    </tr>\n",
       "    <tr>\n",
       "      <th>4</th>\n",
       "      <td>client_0</td>\n",
       "      <td>product_14</td>\n",
       "      <td>1</td>\n",
       "    </tr>\n",
       "  </tbody>\n",
       "</table>\n",
       "</div>"
      ],
      "text/plain": [
       "     client     product  count\n",
       "0  client_0   product_0      2\n",
       "1  client_0   product_1      3\n",
       "2  client_0  product_10      1\n",
       "3  client_0  product_11      1\n",
       "4  client_0  product_14      1"
      ]
     },
     "execution_count": 6439,
     "metadata": {},
     "output_type": "execute_result"
    }
   ],
   "source": [
    "# Подсчитайте для каждого клиента какие товары и сколько раз он их покупал. Столбец с количеством покупок назовите \"count\". Результат запишите в переменную new_df.\n",
    "\n",
    "new_df = df.groupby(['client', 'product'], as_index=False).count().rename({'price': 'count'}, axis=1)\n",
    "new_df.head()"
   ]
  },
  {
   "cell_type": "code",
   "execution_count": 6440,
   "metadata": {},
   "outputs": [
    {
     "data": {
      "text/html": [
       "<div>\n",
       "<style scoped>\n",
       "    .dataframe tbody tr th:only-of-type {\n",
       "        vertical-align: middle;\n",
       "    }\n",
       "\n",
       "    .dataframe tbody tr th {\n",
       "        vertical-align: top;\n",
       "    }\n",
       "\n",
       "    .dataframe thead th {\n",
       "        text-align: right;\n",
       "    }\n",
       "</style>\n",
       "<table border=\"1\" class=\"dataframe\">\n",
       "  <thead>\n",
       "    <tr style=\"text-align: right;\">\n",
       "      <th></th>\n",
       "      <th>client</th>\n",
       "      <th>product</th>\n",
       "      <th>count</th>\n",
       "    </tr>\n",
       "  </thead>\n",
       "  <tbody>\n",
       "    <tr>\n",
       "      <th>0</th>\n",
       "      <td>client_0</td>\n",
       "      <td>product_0</td>\n",
       "      <td>2</td>\n",
       "    </tr>\n",
       "    <tr>\n",
       "      <th>1</th>\n",
       "      <td>client_0</td>\n",
       "      <td>product_1</td>\n",
       "      <td>3</td>\n",
       "    </tr>\n",
       "    <tr>\n",
       "      <th>2</th>\n",
       "      <td>client_0</td>\n",
       "      <td>product_10</td>\n",
       "      <td>1</td>\n",
       "    </tr>\n",
       "    <tr>\n",
       "      <th>3</th>\n",
       "      <td>client_0</td>\n",
       "      <td>product_11</td>\n",
       "      <td>1</td>\n",
       "    </tr>\n",
       "    <tr>\n",
       "      <th>4</th>\n",
       "      <td>client_0</td>\n",
       "      <td>product_14</td>\n",
       "      <td>1</td>\n",
       "    </tr>\n",
       "  </tbody>\n",
       "</table>\n",
       "</div>"
      ],
      "text/plain": [
       "     client     product  count\n",
       "0  client_0   product_0      2\n",
       "1  client_0   product_1      3\n",
       "2  client_0  product_10      1\n",
       "3  client_0  product_11      1\n",
       "4  client_0  product_14      1"
      ]
     },
     "execution_count": 6440,
     "metadata": {},
     "output_type": "execute_result"
    }
   ],
   "source": [
    "new_df = df.groupby(['client', 'product'], as_index = False).agg(count=('product', 'count'))\n",
    "new_df.head()"
   ]
  },
  {
   "cell_type": "code",
   "execution_count": 6441,
   "metadata": {},
   "outputs": [
    {
     "data": {
      "text/html": [
       "<div>\n",
       "<style scoped>\n",
       "    .dataframe tbody tr th:only-of-type {\n",
       "        vertical-align: middle;\n",
       "    }\n",
       "\n",
       "    .dataframe tbody tr th {\n",
       "        vertical-align: top;\n",
       "    }\n",
       "\n",
       "    .dataframe thead th {\n",
       "        text-align: right;\n",
       "    }\n",
       "</style>\n",
       "<table border=\"1\" class=\"dataframe\">\n",
       "  <thead>\n",
       "    <tr style=\"text-align: right;\">\n",
       "      <th></th>\n",
       "      <th>count</th>\n",
       "      <th>sum_price</th>\n",
       "    </tr>\n",
       "    <tr>\n",
       "      <th>product</th>\n",
       "      <th></th>\n",
       "      <th></th>\n",
       "    </tr>\n",
       "  </thead>\n",
       "  <tbody>\n",
       "    <tr>\n",
       "      <th>product_0</th>\n",
       "      <td>10</td>\n",
       "      <td>10000</td>\n",
       "    </tr>\n",
       "    <tr>\n",
       "      <th>product_1</th>\n",
       "      <td>9</td>\n",
       "      <td>18000</td>\n",
       "    </tr>\n",
       "    <tr>\n",
       "      <th>product_10</th>\n",
       "      <td>7</td>\n",
       "      <td>77000</td>\n",
       "    </tr>\n",
       "    <tr>\n",
       "      <th>product_11</th>\n",
       "      <td>4</td>\n",
       "      <td>48000</td>\n",
       "    </tr>\n",
       "    <tr>\n",
       "      <th>product_12</th>\n",
       "      <td>3</td>\n",
       "      <td>39000</td>\n",
       "    </tr>\n",
       "  </tbody>\n",
       "</table>\n",
       "</div>"
      ],
      "text/plain": [
       "            count  sum_price\n",
       "product                     \n",
       "product_0      10      10000\n",
       "product_1       9      18000\n",
       "product_10      7      77000\n",
       "product_11      4      48000\n",
       "product_12      3      39000"
      ]
     },
     "execution_count": 6441,
     "metadata": {},
     "output_type": "execute_result"
    }
   ],
   "source": [
    "# Подсчитайте сколько раз покупали и сколько было потрачено на каждый товар всеми клиентами. \n",
    "# Столбец с количеством покупок назовите \"count\", а столбец с суммой потраченных денег \"sum_price\". \n",
    "# Результат запишите в переменную new_df.\n",
    "\n",
    "new_df = df.groupby(['product']).agg(count=('product', 'count'),\n",
    "                                                                 sum_price=('price', 'sum'))\n",
    "new_df.head()"
   ]
  },
  {
   "cell_type": "code",
   "execution_count": 6442,
   "metadata": {},
   "outputs": [
    {
     "data": {
      "text/plain": [
       "product\n",
       "product_0     [client_3, client_0, client_7, client_6, clien...\n",
       "product_1     [client_0, client_6, client_8, client_5, clien...\n",
       "product_10    [client_8, client_9, client_5, client_3, clien...\n",
       "product_11             [client_7, client_4, client_0, client_9]\n",
       "product_12                                 [client_3, client_4]\n",
       "product_13    [client_3, client_2, client_1, client_4, clien...\n",
       "product_14    [client_4, client_7, client_2, client_9, clien...\n",
       "product_2              [client_7, client_0, client_5, client_6]\n",
       "product_3                                            [client_0]\n",
       "product_4                        [client_8, client_6, client_5]\n",
       "product_5     [client_2, client_3, client_8, client_6, clien...\n",
       "product_6              [client_5, client_7, client_0, client_8]\n",
       "product_7     [client_2, client_8, client_7, client_9, clien...\n",
       "product_8              [client_3, client_0, client_9, client_6]\n",
       "product_9     [client_4, client_8, client_3, client_7, clien...\n",
       "Name: client, dtype: object"
      ]
     },
     "execution_count": 6442,
     "metadata": {},
     "output_type": "execute_result"
    }
   ],
   "source": [
    "# Каждому продукту сопоставьте массив содержащий клиентов (массив с уникальными значениями), которые этот товар покупали. Результат запишите в переменную new_ser.\n",
    "\n",
    "new_ser = df.groupby('product')['client'].unique()\n",
    "new_ser"
   ]
  },
  {
   "cell_type": "markdown",
   "metadata": {},
   "source": [
    "# Применение метода apply()."
   ]
  },
  {
   "cell_type": "code",
   "execution_count": 6443,
   "metadata": {},
   "outputs": [],
   "source": [
    "# В уроке про метод apply() говорилось, что в функцию, которая используется в методе, передается либо серия, либо массив Numpy, либо значения серии. \n",
    "# При использовании apply() совместно с groupby() в функцию будет целиком передаваться тот объект, который возвращает groupby().\n",
    "\n",
    "# К примеру, df.groupby(...)[\"col_2\"].apply( my_func ) при такой записи в my_func будет поочереди из каждой группы передан столбец \"col_2\" в виде серии. \n",
    "# Если записать так df.groupby(...)[[\"col_2\"]].apply( my_func ), обратите внимание на двойные квадратные скобки, \n",
    "# в my_func будет поочереди из каждой группы передан столбец \"col_2\" уже в виде DataFrame. "
   ]
  },
  {
   "cell_type": "code",
   "execution_count": 6444,
   "metadata": {},
   "outputs": [
    {
     "data": {
      "text/html": [
       "<div>\n",
       "<style scoped>\n",
       "    .dataframe tbody tr th:only-of-type {\n",
       "        vertical-align: middle;\n",
       "    }\n",
       "\n",
       "    .dataframe tbody tr th {\n",
       "        vertical-align: top;\n",
       "    }\n",
       "\n",
       "    .dataframe thead th {\n",
       "        text-align: right;\n",
       "    }\n",
       "</style>\n",
       "<table border=\"1\" class=\"dataframe\">\n",
       "  <thead>\n",
       "    <tr style=\"text-align: right;\">\n",
       "      <th></th>\n",
       "      <th>product_2</th>\n",
       "    </tr>\n",
       "    <tr>\n",
       "      <th>client</th>\n",
       "      <th></th>\n",
       "    </tr>\n",
       "  </thead>\n",
       "  <tbody>\n",
       "    <tr>\n",
       "      <th>client_0</th>\n",
       "      <td>1</td>\n",
       "    </tr>\n",
       "    <tr>\n",
       "      <th>client_1</th>\n",
       "      <td>0</td>\n",
       "    </tr>\n",
       "    <tr>\n",
       "      <th>client_2</th>\n",
       "      <td>0</td>\n",
       "    </tr>\n",
       "    <tr>\n",
       "      <th>client_3</th>\n",
       "      <td>0</td>\n",
       "    </tr>\n",
       "    <tr>\n",
       "      <th>client_4</th>\n",
       "      <td>0</td>\n",
       "    </tr>\n",
       "    <tr>\n",
       "      <th>client_5</th>\n",
       "      <td>2</td>\n",
       "    </tr>\n",
       "    <tr>\n",
       "      <th>client_6</th>\n",
       "      <td>1</td>\n",
       "    </tr>\n",
       "    <tr>\n",
       "      <th>client_7</th>\n",
       "      <td>2</td>\n",
       "    </tr>\n",
       "    <tr>\n",
       "      <th>client_8</th>\n",
       "      <td>0</td>\n",
       "    </tr>\n",
       "    <tr>\n",
       "      <th>client_9</th>\n",
       "      <td>0</td>\n",
       "    </tr>\n",
       "  </tbody>\n",
       "</table>\n",
       "</div>"
      ],
      "text/plain": [
       "          product_2\n",
       "client             \n",
       "client_0          1\n",
       "client_1          0\n",
       "client_2          0\n",
       "client_3          0\n",
       "client_4          0\n",
       "client_5          2\n",
       "client_6          1\n",
       "client_7          2\n",
       "client_8          0\n",
       "client_9          0"
      ]
     },
     "execution_count": 6444,
     "metadata": {},
     "output_type": "execute_result"
    }
   ],
   "source": [
    "# Подсчитайте сколько раз каждый клиент покупал \"product_2\". \n",
    "# Данные представьте в виде DF. \n",
    "# Столбец с количеством покупок назовите \"product_2\". \n",
    "# Результат запишите в переменную new_df.\n",
    "\n",
    "df_new = df.copy()\n",
    "df_new['product'] = df_new['product'].eq('product_2')\n",
    "df_new.groupby('client')[['product']].agg(product_2=('product', 'sum'))"
   ]
  },
  {
   "cell_type": "code",
   "execution_count": 6445,
   "metadata": {},
   "outputs": [
    {
     "data": {
      "text/html": [
       "<div>\n",
       "<style scoped>\n",
       "    .dataframe tbody tr th:only-of-type {\n",
       "        vertical-align: middle;\n",
       "    }\n",
       "\n",
       "    .dataframe tbody tr th {\n",
       "        vertical-align: top;\n",
       "    }\n",
       "\n",
       "    .dataframe thead th {\n",
       "        text-align: right;\n",
       "    }\n",
       "</style>\n",
       "<table border=\"1\" class=\"dataframe\">\n",
       "  <thead>\n",
       "    <tr style=\"text-align: right;\">\n",
       "      <th></th>\n",
       "      <th>product_2</th>\n",
       "    </tr>\n",
       "    <tr>\n",
       "      <th>client</th>\n",
       "      <th></th>\n",
       "    </tr>\n",
       "  </thead>\n",
       "  <tbody>\n",
       "    <tr>\n",
       "      <th>client_0</th>\n",
       "      <td>1</td>\n",
       "    </tr>\n",
       "    <tr>\n",
       "      <th>client_1</th>\n",
       "      <td>0</td>\n",
       "    </tr>\n",
       "    <tr>\n",
       "      <th>client_2</th>\n",
       "      <td>0</td>\n",
       "    </tr>\n",
       "    <tr>\n",
       "      <th>client_3</th>\n",
       "      <td>0</td>\n",
       "    </tr>\n",
       "    <tr>\n",
       "      <th>client_4</th>\n",
       "      <td>0</td>\n",
       "    </tr>\n",
       "    <tr>\n",
       "      <th>client_5</th>\n",
       "      <td>2</td>\n",
       "    </tr>\n",
       "    <tr>\n",
       "      <th>client_6</th>\n",
       "      <td>1</td>\n",
       "    </tr>\n",
       "    <tr>\n",
       "      <th>client_7</th>\n",
       "      <td>2</td>\n",
       "    </tr>\n",
       "    <tr>\n",
       "      <th>client_8</th>\n",
       "      <td>0</td>\n",
       "    </tr>\n",
       "    <tr>\n",
       "      <th>client_9</th>\n",
       "      <td>0</td>\n",
       "    </tr>\n",
       "  </tbody>\n",
       "</table>\n",
       "</div>"
      ],
      "text/plain": [
       "          product_2\n",
       "client             \n",
       "client_0          1\n",
       "client_1          0\n",
       "client_2          0\n",
       "client_3          0\n",
       "client_4          0\n",
       "client_5          2\n",
       "client_6          1\n",
       "client_7          2\n",
       "client_8          0\n",
       "client_9          0"
      ]
     },
     "execution_count": 6445,
     "metadata": {},
     "output_type": "execute_result"
    }
   ],
   "source": [
    "df.groupby('client')[['product']].apply(lambda x: x.isin(['product_2']).sum()).rename(columns={'product':'product_2'})"
   ]
  },
  {
   "cell_type": "code",
   "execution_count": 6446,
   "metadata": {},
   "outputs": [
    {
     "data": {
      "text/html": [
       "<div>\n",
       "<style scoped>\n",
       "    .dataframe tbody tr th:only-of-type {\n",
       "        vertical-align: middle;\n",
       "    }\n",
       "\n",
       "    .dataframe tbody tr th {\n",
       "        vertical-align: top;\n",
       "    }\n",
       "\n",
       "    .dataframe thead th {\n",
       "        text-align: right;\n",
       "    }\n",
       "</style>\n",
       "<table border=\"1\" class=\"dataframe\">\n",
       "  <thead>\n",
       "    <tr style=\"text-align: right;\">\n",
       "      <th></th>\n",
       "      <th>product_2</th>\n",
       "    </tr>\n",
       "    <tr>\n",
       "      <th>client</th>\n",
       "      <th></th>\n",
       "    </tr>\n",
       "  </thead>\n",
       "  <tbody>\n",
       "    <tr>\n",
       "      <th>client_0</th>\n",
       "      <td>1</td>\n",
       "    </tr>\n",
       "    <tr>\n",
       "      <th>client_1</th>\n",
       "      <td>0</td>\n",
       "    </tr>\n",
       "    <tr>\n",
       "      <th>client_2</th>\n",
       "      <td>0</td>\n",
       "    </tr>\n",
       "    <tr>\n",
       "      <th>client_3</th>\n",
       "      <td>0</td>\n",
       "    </tr>\n",
       "    <tr>\n",
       "      <th>client_4</th>\n",
       "      <td>0</td>\n",
       "    </tr>\n",
       "    <tr>\n",
       "      <th>client_5</th>\n",
       "      <td>2</td>\n",
       "    </tr>\n",
       "    <tr>\n",
       "      <th>client_6</th>\n",
       "      <td>1</td>\n",
       "    </tr>\n",
       "    <tr>\n",
       "      <th>client_7</th>\n",
       "      <td>2</td>\n",
       "    </tr>\n",
       "    <tr>\n",
       "      <th>client_8</th>\n",
       "      <td>0</td>\n",
       "    </tr>\n",
       "    <tr>\n",
       "      <th>client_9</th>\n",
       "      <td>0</td>\n",
       "    </tr>\n",
       "  </tbody>\n",
       "</table>\n",
       "</div>"
      ],
      "text/plain": [
       "          product_2\n",
       "client             \n",
       "client_0          1\n",
       "client_1          0\n",
       "client_2          0\n",
       "client_3          0\n",
       "client_4          0\n",
       "client_5          2\n",
       "client_6          1\n",
       "client_7          2\n",
       "client_8          0\n",
       "client_9          0"
      ]
     },
     "execution_count": 6446,
     "metadata": {},
     "output_type": "execute_result"
    }
   ],
   "source": [
    "df.groupby('client')['product'].apply(lambda x: (x == 'product_2').sum()).to_frame('product_2')"
   ]
  },
  {
   "cell_type": "code",
   "execution_count": 6447,
   "metadata": {},
   "outputs": [
    {
     "data": {
      "text/html": [
       "<div>\n",
       "<style scoped>\n",
       "    .dataframe tbody tr th:only-of-type {\n",
       "        vertical-align: middle;\n",
       "    }\n",
       "\n",
       "    .dataframe tbody tr th {\n",
       "        vertical-align: top;\n",
       "    }\n",
       "\n",
       "    .dataframe thead th {\n",
       "        text-align: right;\n",
       "    }\n",
       "</style>\n",
       "<table border=\"1\" class=\"dataframe\">\n",
       "  <thead>\n",
       "    <tr style=\"text-align: right;\">\n",
       "      <th></th>\n",
       "      <th>user</th>\n",
       "      <th>device</th>\n",
       "      <th>date</th>\n",
       "    </tr>\n",
       "  </thead>\n",
       "  <tbody>\n",
       "    <tr>\n",
       "      <th>0</th>\n",
       "      <td>user_0</td>\n",
       "      <td>PC</td>\n",
       "      <td>2023-01-01</td>\n",
       "    </tr>\n",
       "    <tr>\n",
       "      <th>1</th>\n",
       "      <td>user_0</td>\n",
       "      <td>phone</td>\n",
       "      <td>2023-01-02</td>\n",
       "    </tr>\n",
       "    <tr>\n",
       "      <th>2</th>\n",
       "      <td>user_1</td>\n",
       "      <td>laptop</td>\n",
       "      <td>2023-01-03</td>\n",
       "    </tr>\n",
       "    <tr>\n",
       "      <th>3</th>\n",
       "      <td>user_1</td>\n",
       "      <td>PC</td>\n",
       "      <td>2023-01-04</td>\n",
       "    </tr>\n",
       "    <tr>\n",
       "      <th>4</th>\n",
       "      <td>user_2</td>\n",
       "      <td>laptop</td>\n",
       "      <td>2023-01-05</td>\n",
       "    </tr>\n",
       "  </tbody>\n",
       "</table>\n",
       "</div>"
      ],
      "text/plain": [
       "     user  device        date\n",
       "0  user_0      PC  2023-01-01\n",
       "1  user_0   phone  2023-01-02\n",
       "2  user_1  laptop  2023-01-03\n",
       "3  user_1      PC  2023-01-04\n",
       "4  user_2  laptop  2023-01-05"
      ]
     },
     "execution_count": 6447,
     "metadata": {},
     "output_type": "execute_result"
    }
   ],
   "source": [
    "# Задача\n",
    "\n",
    "df = pd.read_csv('data/users.csv').drop('Unnamed: 0', axis=1)\n",
    "df.head()"
   ]
  },
  {
   "cell_type": "code",
   "execution_count": 6448,
   "metadata": {},
   "outputs": [
    {
     "data": {
      "text/plain": [
       "['user_14', 'user_7', 'user_8', 'user_9']"
      ]
     },
     "execution_count": 6448,
     "metadata": {},
     "output_type": "execute_result"
    }
   ],
   "source": [
    "# Получите список\\массив пользователей, которые заходили в приложение только с персонального компьютера('PC').\n",
    "\n",
    "new_df = df.groupby('user')[['device']].agg(lambda x: x.isin(['PC']).all())\n",
    "user_list = new_df[new_df['device']].index.to_list()\n",
    "user_list"
   ]
  },
  {
   "cell_type": "code",
   "execution_count": 6449,
   "metadata": {},
   "outputs": [
    {
     "data": {
      "text/plain": [
       "['user_14', 'user_7', 'user_8', 'user_9']"
      ]
     },
     "execution_count": 6449,
     "metadata": {},
     "output_type": "execute_result"
    }
   ],
   "source": [
    "users = df.groupby('user')['device'].unique().to_frame()\n",
    "user_list = users.loc[users['device'].astype(str) == \"['PC']\"].index.to_list()\n",
    "user_list"
   ]
  },
  {
   "cell_type": "code",
   "execution_count": 6450,
   "metadata": {},
   "outputs": [
    {
     "data": {
      "text/plain": [
       "['user_14', 'user_7', 'user_8', 'user_9']"
      ]
     },
     "execution_count": 6450,
     "metadata": {},
     "output_type": "execute_result"
    }
   ],
   "source": [
    "ser = df.groupby('user')['device'].unique()\n",
    "user_list = ser[ser.isin([['PC']])].index.to_list()\n",
    "user_list"
   ]
  },
  {
   "cell_type": "code",
   "execution_count": 6451,
   "metadata": {},
   "outputs": [
    {
     "data": {
      "text/plain": [
       "['user_12', 'user_15', 'user_19', 'user_4']"
      ]
     },
     "execution_count": 6451,
     "metadata": {},
     "output_type": "execute_result"
    }
   ],
   "source": [
    "# Получите список\\массив пользователей, которые заходили в приложение со всех устройств.\n",
    "\n",
    "users = df.groupby('user')['device'].unique().to_frame()\n",
    "user_list = users.loc[users['device'].astype(str) == \"['PC' 'laptop' 'phone']\"].index.to_list()\n",
    "user_list"
   ]
  },
  {
   "cell_type": "code",
   "execution_count": 6452,
   "metadata": {},
   "outputs": [
    {
     "data": {
      "text/plain": [
       "['user_12', 'user_15', 'user_19', 'user_4']"
      ]
     },
     "execution_count": 6452,
     "metadata": {},
     "output_type": "execute_result"
    }
   ],
   "source": [
    "df = pd.read_csv('data/users.csv')\n",
    "new_df = df.groupby('user')['device'].unique().apply(lambda x: len(x)==3)\n",
    "user_list = new_df[new_df].index.to_list()\n",
    "user_list"
   ]
  },
  {
   "cell_type": "code",
   "execution_count": 6453,
   "metadata": {},
   "outputs": [
    {
     "name": "stdout",
     "output_type": "stream",
     "text": [
      "(145, 4)\n"
     ]
    },
    {
     "data": {
      "text/html": [
       "<div>\n",
       "<style scoped>\n",
       "    .dataframe tbody tr th:only-of-type {\n",
       "        vertical-align: middle;\n",
       "    }\n",
       "\n",
       "    .dataframe tbody tr th {\n",
       "        vertical-align: top;\n",
       "    }\n",
       "\n",
       "    .dataframe thead th {\n",
       "        text-align: right;\n",
       "    }\n",
       "</style>\n",
       "<table border=\"1\" class=\"dataframe\">\n",
       "  <thead>\n",
       "    <tr style=\"text-align: right;\">\n",
       "      <th></th>\n",
       "      <th>user</th>\n",
       "      <th>device</th>\n",
       "      <th>date</th>\n",
       "      <th>action</th>\n",
       "    </tr>\n",
       "  </thead>\n",
       "  <tbody>\n",
       "    <tr>\n",
       "      <th>0</th>\n",
       "      <td>user_0</td>\n",
       "      <td>laptop</td>\n",
       "      <td>2023-01-01</td>\n",
       "      <td>True</td>\n",
       "    </tr>\n",
       "    <tr>\n",
       "      <th>1</th>\n",
       "      <td>user_1</td>\n",
       "      <td>PC</td>\n",
       "      <td>2023-01-02</td>\n",
       "      <td>True</td>\n",
       "    </tr>\n",
       "    <tr>\n",
       "      <th>2</th>\n",
       "      <td>user_1</td>\n",
       "      <td>laptop</td>\n",
       "      <td>2023-01-03</td>\n",
       "      <td>True</td>\n",
       "    </tr>\n",
       "    <tr>\n",
       "      <th>3</th>\n",
       "      <td>user_1</td>\n",
       "      <td>phone</td>\n",
       "      <td>2023-01-04</td>\n",
       "      <td>True</td>\n",
       "    </tr>\n",
       "    <tr>\n",
       "      <th>4</th>\n",
       "      <td>user_2</td>\n",
       "      <td>PC</td>\n",
       "      <td>2023-01-05</td>\n",
       "      <td>False</td>\n",
       "    </tr>\n",
       "  </tbody>\n",
       "</table>\n",
       "</div>"
      ],
      "text/plain": [
       "     user  device        date  action\n",
       "0  user_0  laptop  2023-01-01    True\n",
       "1  user_1      PC  2023-01-02    True\n",
       "2  user_1  laptop  2023-01-03    True\n",
       "3  user_1   phone  2023-01-04    True\n",
       "4  user_2      PC  2023-01-05   False"
      ]
     },
     "execution_count": 6453,
     "metadata": {},
     "output_type": "execute_result"
    }
   ],
   "source": [
    "df = pd.read_csv('data/users_action.csv').drop('Unnamed: 0', axis=1)\n",
    "print(df.shape)\n",
    "df.head()"
   ]
  },
  {
   "cell_type": "code",
   "execution_count": 6454,
   "metadata": {},
   "outputs": [
    {
     "data": {
      "text/html": [
       "<div>\n",
       "<style scoped>\n",
       "    .dataframe tbody tr th:only-of-type {\n",
       "        vertical-align: middle;\n",
       "    }\n",
       "\n",
       "    .dataframe tbody tr th {\n",
       "        vertical-align: top;\n",
       "    }\n",
       "\n",
       "    .dataframe thead th {\n",
       "        text-align: right;\n",
       "    }\n",
       "</style>\n",
       "<table border=\"1\" class=\"dataframe\">\n",
       "  <thead>\n",
       "    <tr style=\"text-align: right;\">\n",
       "      <th></th>\n",
       "      <th>action_True</th>\n",
       "    </tr>\n",
       "    <tr>\n",
       "      <th>user</th>\n",
       "      <th></th>\n",
       "    </tr>\n",
       "  </thead>\n",
       "  <tbody>\n",
       "    <tr>\n",
       "      <th>user_1</th>\n",
       "      <td>3</td>\n",
       "    </tr>\n",
       "    <tr>\n",
       "      <th>user_13</th>\n",
       "      <td>0</td>\n",
       "    </tr>\n",
       "    <tr>\n",
       "      <th>user_17</th>\n",
       "      <td>2</td>\n",
       "    </tr>\n",
       "    <tr>\n",
       "      <th>user_19</th>\n",
       "      <td>3</td>\n",
       "    </tr>\n",
       "    <tr>\n",
       "      <th>user_6</th>\n",
       "      <td>2</td>\n",
       "    </tr>\n",
       "    <tr>\n",
       "      <th>user_9</th>\n",
       "      <td>3</td>\n",
       "    </tr>\n",
       "  </tbody>\n",
       "</table>\n",
       "</div>"
      ],
      "text/plain": [
       "         action_True\n",
       "user                \n",
       "user_1             3\n",
       "user_13            0\n",
       "user_17            2\n",
       "user_19            3\n",
       "user_6             2\n",
       "user_9             3"
      ]
     },
     "execution_count": 6454,
     "metadata": {},
     "output_type": "execute_result"
    }
   ],
   "source": [
    "# Получите DF, показывающий, сколько раз пользователи совершали целевое действие, зайдя в приложение со смартфона\n",
    "\n",
    "df.loc[df['device'] == 'phone'].groupby('user').agg(action_True=('action', 'sum'))"
   ]
  },
  {
   "cell_type": "code",
   "execution_count": 6455,
   "metadata": {},
   "outputs": [
    {
     "name": "stdout",
     "output_type": "stream",
     "text": [
      "(100, 3)\n"
     ]
    },
    {
     "data": {
      "text/html": [
       "<div>\n",
       "<style scoped>\n",
       "    .dataframe tbody tr th:only-of-type {\n",
       "        vertical-align: middle;\n",
       "    }\n",
       "\n",
       "    .dataframe tbody tr th {\n",
       "        vertical-align: top;\n",
       "    }\n",
       "\n",
       "    .dataframe thead th {\n",
       "        text-align: right;\n",
       "    }\n",
       "</style>\n",
       "<table border=\"1\" class=\"dataframe\">\n",
       "  <thead>\n",
       "    <tr style=\"text-align: right;\">\n",
       "      <th></th>\n",
       "      <th>client</th>\n",
       "      <th>product</th>\n",
       "      <th>price</th>\n",
       "    </tr>\n",
       "  </thead>\n",
       "  <tbody>\n",
       "    <tr>\n",
       "      <th>0</th>\n",
       "      <td>client_8</td>\n",
       "      <td>product_12</td>\n",
       "      <td>13000</td>\n",
       "    </tr>\n",
       "    <tr>\n",
       "      <th>1</th>\n",
       "      <td>client_3</td>\n",
       "      <td>product_7</td>\n",
       "      <td>8000</td>\n",
       "    </tr>\n",
       "    <tr>\n",
       "      <th>2</th>\n",
       "      <td>client_9</td>\n",
       "      <td>product_5</td>\n",
       "      <td>6000</td>\n",
       "    </tr>\n",
       "    <tr>\n",
       "      <th>3</th>\n",
       "      <td>client_5</td>\n",
       "      <td>product_0</td>\n",
       "      <td>1000</td>\n",
       "    </tr>\n",
       "    <tr>\n",
       "      <th>4</th>\n",
       "      <td>client_7</td>\n",
       "      <td>product_4</td>\n",
       "      <td>5000</td>\n",
       "    </tr>\n",
       "  </tbody>\n",
       "</table>\n",
       "</div>"
      ],
      "text/plain": [
       "     client     product  price\n",
       "0  client_8  product_12  13000\n",
       "1  client_3   product_7   8000\n",
       "2  client_9   product_5   6000\n",
       "3  client_5   product_0   1000\n",
       "4  client_7   product_4   5000"
      ]
     },
     "execution_count": 6455,
     "metadata": {},
     "output_type": "execute_result"
    }
   ],
   "source": [
    "# Подсчитайте сколько раз каждый клиент покупал \"product_3\" \n",
    "# и сколько он потратил денег на этот товар. Данные представьте в виде DF. \n",
    "# Столбец с количеством покупок назовите \"product_3\", а столбец с суммой потраченных денег \"sum_price\". \n",
    "# Результат запишите в переменную new_df.\n",
    "\n",
    "N_client = 10\n",
    "N_product = 15\n",
    "\n",
    "client = {i: f'client_{i}' for i in range(N_client)}\n",
    "product = {i: f'product_{i}' for i in range(N_product )}\n",
    "price = {i: (i+1)*1000 for i in range(N_product)}\n",
    "\n",
    "client_list = np.random.randint(0, N_client, 100)\n",
    "product_list = np.random.randint(0, N_product , 100)\n",
    "\n",
    "df = pd.DataFrame({'client': client_list,\n",
    "                   'product': product_list,\n",
    "                   'price': product_list}).replace({'client': client, 'product': product, 'price': price})\n",
    "print(df.shape)\n",
    "df.head()"
   ]
  },
  {
   "cell_type": "code",
   "execution_count": 6456,
   "metadata": {},
   "outputs": [
    {
     "data": {
      "text/plain": [
       "Index([ 0,  1,  2,  3,  4,  5,  6,  7,  8,  9, 10, 11, 12, 13, 14, 15, 16, 17,\n",
       "       18, 19, 20, 21, 22, 23, 24, 25, 26, 28, 29, 30, 31, 33, 34, 36, 37, 38,\n",
       "       39, 40, 41, 43, 44, 45, 46, 47, 48, 49, 50, 51, 53, 54, 55, 56, 57, 58,\n",
       "       59, 60, 61, 62, 63, 64, 65, 66, 67, 68, 69, 70, 71, 72, 73, 74, 75, 76,\n",
       "       77, 78, 79, 80, 81, 82, 83, 84, 85, 86, 87, 88, 89, 90, 91, 92, 93, 94,\n",
       "       95, 96, 97, 98, 99],\n",
       "      dtype='int64')"
      ]
     },
     "execution_count": 6456,
     "metadata": {},
     "output_type": "execute_result"
    }
   ],
   "source": [
    "product3_indexes_not = df.loc[~(df['product'] == 'product_3')].index\n",
    "product3_indexes_not"
   ]
  },
  {
   "cell_type": "code",
   "execution_count": 6457,
   "metadata": {},
   "outputs": [
    {
     "data": {
      "text/plain": [
       "Index([27, 32, 35, 42, 52], dtype='int64')"
      ]
     },
     "execution_count": 6457,
     "metadata": {},
     "output_type": "execute_result"
    }
   ],
   "source": [
    "product3_indexes = df.loc[(df['product'] == 'product_3')].index\n",
    "product3_indexes"
   ]
  },
  {
   "cell_type": "code",
   "execution_count": 6458,
   "metadata": {},
   "outputs": [],
   "source": [
    "df.loc[product3_indexes_not, ['product', 'price']] = [0, 0]"
   ]
  },
  {
   "cell_type": "code",
   "execution_count": 6459,
   "metadata": {},
   "outputs": [],
   "source": [
    "df.loc[product3_indexes, 'product'] = 1"
   ]
  },
  {
   "cell_type": "code",
   "execution_count": 6460,
   "metadata": {},
   "outputs": [
    {
     "data": {
      "text/plain": [
       "client    product  price\n",
       "client_6  0        0        12\n",
       "client_4  0        0        11\n",
       "client_5  0        0        11\n",
       "client_3  0        0        10\n",
       "client_7  0        0        10\n",
       "client_8  0        0        10\n",
       "client_0  0        0         9\n",
       "client_1  0        0         8\n",
       "client_2  0        0         7\n",
       "client_9  0        0         7\n",
       "client_1  1        4000      1\n",
       "client_2  1        4000      1\n",
       "client_3  1        4000      1\n",
       "client_5  1        4000      1\n",
       "client_7  1        4000      1\n",
       "Name: count, dtype: int64"
      ]
     },
     "execution_count": 6460,
     "metadata": {},
     "output_type": "execute_result"
    }
   ],
   "source": [
    "df.value_counts()"
   ]
  },
  {
   "cell_type": "code",
   "execution_count": 6461,
   "metadata": {},
   "outputs": [
    {
     "data": {
      "text/html": [
       "<div>\n",
       "<style scoped>\n",
       "    .dataframe tbody tr th:only-of-type {\n",
       "        vertical-align: middle;\n",
       "    }\n",
       "\n",
       "    .dataframe tbody tr th {\n",
       "        vertical-align: top;\n",
       "    }\n",
       "\n",
       "    .dataframe thead th {\n",
       "        text-align: right;\n",
       "    }\n",
       "</style>\n",
       "<table border=\"1\" class=\"dataframe\">\n",
       "  <thead>\n",
       "    <tr style=\"text-align: right;\">\n",
       "      <th></th>\n",
       "      <th>product3</th>\n",
       "      <th>sum_price</th>\n",
       "    </tr>\n",
       "    <tr>\n",
       "      <th>client</th>\n",
       "      <th></th>\n",
       "      <th></th>\n",
       "    </tr>\n",
       "  </thead>\n",
       "  <tbody>\n",
       "    <tr>\n",
       "      <th>client_0</th>\n",
       "      <td>0</td>\n",
       "      <td>0</td>\n",
       "    </tr>\n",
       "    <tr>\n",
       "      <th>client_1</th>\n",
       "      <td>1</td>\n",
       "      <td>4000</td>\n",
       "    </tr>\n",
       "    <tr>\n",
       "      <th>client_2</th>\n",
       "      <td>1</td>\n",
       "      <td>4000</td>\n",
       "    </tr>\n",
       "    <tr>\n",
       "      <th>client_3</th>\n",
       "      <td>1</td>\n",
       "      <td>4000</td>\n",
       "    </tr>\n",
       "    <tr>\n",
       "      <th>client_4</th>\n",
       "      <td>0</td>\n",
       "      <td>0</td>\n",
       "    </tr>\n",
       "    <tr>\n",
       "      <th>client_5</th>\n",
       "      <td>1</td>\n",
       "      <td>4000</td>\n",
       "    </tr>\n",
       "    <tr>\n",
       "      <th>client_6</th>\n",
       "      <td>0</td>\n",
       "      <td>0</td>\n",
       "    </tr>\n",
       "    <tr>\n",
       "      <th>client_7</th>\n",
       "      <td>1</td>\n",
       "      <td>4000</td>\n",
       "    </tr>\n",
       "    <tr>\n",
       "      <th>client_8</th>\n",
       "      <td>0</td>\n",
       "      <td>0</td>\n",
       "    </tr>\n",
       "    <tr>\n",
       "      <th>client_9</th>\n",
       "      <td>0</td>\n",
       "      <td>0</td>\n",
       "    </tr>\n",
       "  </tbody>\n",
       "</table>\n",
       "</div>"
      ],
      "text/plain": [
       "         product3  sum_price\n",
       "client                      \n",
       "client_0        0          0\n",
       "client_1        1       4000\n",
       "client_2        1       4000\n",
       "client_3        1       4000\n",
       "client_4        0          0\n",
       "client_5        1       4000\n",
       "client_6        0          0\n",
       "client_7        1       4000\n",
       "client_8        0          0\n",
       "client_9        0          0"
      ]
     },
     "execution_count": 6461,
     "metadata": {},
     "output_type": "execute_result"
    }
   ],
   "source": [
    "df.groupby('client').agg(product3 = ('product', 'sum'),\n",
    "                         sum_price = ('price', 'sum'))"
   ]
  },
  {
   "cell_type": "code",
   "execution_count": null,
   "metadata": {},
   "outputs": [],
   "source": []
  },
  {
   "cell_type": "code",
   "execution_count": 6462,
   "metadata": {},
   "outputs": [
    {
     "name": "stdout",
     "output_type": "stream",
     "text": [
      "(100, 3)\n"
     ]
    },
    {
     "data": {
      "text/html": [
       "<div>\n",
       "<style scoped>\n",
       "    .dataframe tbody tr th:only-of-type {\n",
       "        vertical-align: middle;\n",
       "    }\n",
       "\n",
       "    .dataframe tbody tr th {\n",
       "        vertical-align: top;\n",
       "    }\n",
       "\n",
       "    .dataframe thead th {\n",
       "        text-align: right;\n",
       "    }\n",
       "</style>\n",
       "<table border=\"1\" class=\"dataframe\">\n",
       "  <thead>\n",
       "    <tr style=\"text-align: right;\">\n",
       "      <th></th>\n",
       "      <th>client</th>\n",
       "      <th>product</th>\n",
       "      <th>price</th>\n",
       "    </tr>\n",
       "  </thead>\n",
       "  <tbody>\n",
       "    <tr>\n",
       "      <th>7</th>\n",
       "      <td>client_6</td>\n",
       "      <td>product_3</td>\n",
       "      <td>4000</td>\n",
       "    </tr>\n",
       "    <tr>\n",
       "      <th>10</th>\n",
       "      <td>client_0</td>\n",
       "      <td>product_3</td>\n",
       "      <td>4000</td>\n",
       "    </tr>\n",
       "    <tr>\n",
       "      <th>27</th>\n",
       "      <td>client_1</td>\n",
       "      <td>product_3</td>\n",
       "      <td>4000</td>\n",
       "    </tr>\n",
       "    <tr>\n",
       "      <th>69</th>\n",
       "      <td>client_6</td>\n",
       "      <td>product_3</td>\n",
       "      <td>4000</td>\n",
       "    </tr>\n",
       "    <tr>\n",
       "      <th>72</th>\n",
       "      <td>client_4</td>\n",
       "      <td>product_3</td>\n",
       "      <td>4000</td>\n",
       "    </tr>\n",
       "    <tr>\n",
       "      <th>77</th>\n",
       "      <td>client_9</td>\n",
       "      <td>product_3</td>\n",
       "      <td>4000</td>\n",
       "    </tr>\n",
       "  </tbody>\n",
       "</table>\n",
       "</div>"
      ],
      "text/plain": [
       "      client    product  price\n",
       "7   client_6  product_3   4000\n",
       "10  client_0  product_3   4000\n",
       "27  client_1  product_3   4000\n",
       "69  client_6  product_3   4000\n",
       "72  client_4  product_3   4000\n",
       "77  client_9  product_3   4000"
      ]
     },
     "execution_count": 6462,
     "metadata": {},
     "output_type": "execute_result"
    }
   ],
   "source": [
    "# Подсчитайте сколько раз каждый клиент покупал \"product_3\" \n",
    "# и сколько он потратил денег на этот товар. Данные представьте в виде DF. \n",
    "# Столбец с количеством покупок назовите \"product_3\", а столбец с суммой потраченных денег \"sum_price\". \n",
    "# Результат запишите в переменную new_df.\n",
    "\n",
    "N_client = 10\n",
    "N_product = 15\n",
    "\n",
    "client = {i: f'client_{i}' for i in range(N_client)}\n",
    "product = {i: f'product_{i}' for i in range(N_product )}\n",
    "price = {i: (i+1)*1000 for i in range(N_product)}\n",
    "\n",
    "client_list = np.random.randint(0, N_client, 100)\n",
    "product_list = np.random.randint(0, N_product , 100)\n",
    "\n",
    "df = pd.DataFrame({'client': client_list,\n",
    "                   'product': product_list,\n",
    "                   'price': product_list}).replace({'client': client, 'product': product, 'price': price})\n",
    "print(df.shape)\n",
    "df.loc[df['product'] == 'product_3']"
   ]
  },
  {
   "cell_type": "code",
   "execution_count": 6463,
   "metadata": {},
   "outputs": [
    {
     "data": {
      "text/html": [
       "<div>\n",
       "<style scoped>\n",
       "    .dataframe tbody tr th:only-of-type {\n",
       "        vertical-align: middle;\n",
       "    }\n",
       "\n",
       "    .dataframe tbody tr th {\n",
       "        vertical-align: top;\n",
       "    }\n",
       "\n",
       "    .dataframe thead th {\n",
       "        text-align: right;\n",
       "    }\n",
       "</style>\n",
       "<table border=\"1\" class=\"dataframe\">\n",
       "  <thead>\n",
       "    <tr style=\"text-align: right;\">\n",
       "      <th></th>\n",
       "      <th>product_3</th>\n",
       "      <th>sum_price</th>\n",
       "    </tr>\n",
       "    <tr>\n",
       "      <th>client</th>\n",
       "      <th></th>\n",
       "      <th></th>\n",
       "    </tr>\n",
       "  </thead>\n",
       "  <tbody>\n",
       "    <tr>\n",
       "      <th>client_0</th>\n",
       "      <td>1</td>\n",
       "      <td>4000</td>\n",
       "    </tr>\n",
       "    <tr>\n",
       "      <th>client_1</th>\n",
       "      <td>1</td>\n",
       "      <td>4000</td>\n",
       "    </tr>\n",
       "    <tr>\n",
       "      <th>client_2</th>\n",
       "      <td>0</td>\n",
       "      <td>0</td>\n",
       "    </tr>\n",
       "    <tr>\n",
       "      <th>client_3</th>\n",
       "      <td>0</td>\n",
       "      <td>0</td>\n",
       "    </tr>\n",
       "    <tr>\n",
       "      <th>client_4</th>\n",
       "      <td>1</td>\n",
       "      <td>4000</td>\n",
       "    </tr>\n",
       "    <tr>\n",
       "      <th>client_5</th>\n",
       "      <td>0</td>\n",
       "      <td>0</td>\n",
       "    </tr>\n",
       "    <tr>\n",
       "      <th>client_6</th>\n",
       "      <td>2</td>\n",
       "      <td>8000</td>\n",
       "    </tr>\n",
       "    <tr>\n",
       "      <th>client_7</th>\n",
       "      <td>0</td>\n",
       "      <td>0</td>\n",
       "    </tr>\n",
       "    <tr>\n",
       "      <th>client_8</th>\n",
       "      <td>0</td>\n",
       "      <td>0</td>\n",
       "    </tr>\n",
       "    <tr>\n",
       "      <th>client_9</th>\n",
       "      <td>1</td>\n",
       "      <td>4000</td>\n",
       "    </tr>\n",
       "  </tbody>\n",
       "</table>\n",
       "</div>"
      ],
      "text/plain": [
       "          product_3  sum_price\n",
       "client                        \n",
       "client_0          1       4000\n",
       "client_1          1       4000\n",
       "client_2          0          0\n",
       "client_3          0          0\n",
       "client_4          1       4000\n",
       "client_5          0          0\n",
       "client_6          2       8000\n",
       "client_7          0          0\n",
       "client_8          0          0\n",
       "client_9          1       4000"
      ]
     },
     "execution_count": 6463,
     "metadata": {},
     "output_type": "execute_result"
    }
   ],
   "source": [
    "def func(x):\n",
    "    return x[x['product'] == 'product_3'].agg({'product': 'count', 'price': 'sum'})\n",
    "\n",
    "df.groupby('client')[['product', 'price']].apply(func) \\\n",
    "    .rename(columns={'product': 'product_3', 'price': 'sum_price'})"
   ]
  },
  {
   "cell_type": "code",
   "execution_count": 6464,
   "metadata": {},
   "outputs": [
    {
     "name": "stderr",
     "output_type": "stream",
     "text": [
      "C:\\Users\\Pong\\AppData\\Local\\Temp\\ipykernel_1784\\825828499.py:1: DeprecationWarning: DataFrameGroupBy.apply operated on the grouping columns. This behavior is deprecated, and in a future version of pandas the grouping columns will be excluded from the operation. Either pass `include_groups=False` to exclude the groupings or explicitly select the grouping columns after groupby to silence this warning.\n",
      "  df.groupby('client').apply(lambda x: x[x['product']=='product_3'].agg({'product': 'count','price': 'sum'}))\n"
     ]
    },
    {
     "data": {
      "text/html": [
       "<div>\n",
       "<style scoped>\n",
       "    .dataframe tbody tr th:only-of-type {\n",
       "        vertical-align: middle;\n",
       "    }\n",
       "\n",
       "    .dataframe tbody tr th {\n",
       "        vertical-align: top;\n",
       "    }\n",
       "\n",
       "    .dataframe thead th {\n",
       "        text-align: right;\n",
       "    }\n",
       "</style>\n",
       "<table border=\"1\" class=\"dataframe\">\n",
       "  <thead>\n",
       "    <tr style=\"text-align: right;\">\n",
       "      <th></th>\n",
       "      <th>product</th>\n",
       "      <th>price</th>\n",
       "    </tr>\n",
       "    <tr>\n",
       "      <th>client</th>\n",
       "      <th></th>\n",
       "      <th></th>\n",
       "    </tr>\n",
       "  </thead>\n",
       "  <tbody>\n",
       "    <tr>\n",
       "      <th>client_0</th>\n",
       "      <td>1</td>\n",
       "      <td>4000</td>\n",
       "    </tr>\n",
       "    <tr>\n",
       "      <th>client_1</th>\n",
       "      <td>1</td>\n",
       "      <td>4000</td>\n",
       "    </tr>\n",
       "    <tr>\n",
       "      <th>client_2</th>\n",
       "      <td>0</td>\n",
       "      <td>0</td>\n",
       "    </tr>\n",
       "    <tr>\n",
       "      <th>client_3</th>\n",
       "      <td>0</td>\n",
       "      <td>0</td>\n",
       "    </tr>\n",
       "    <tr>\n",
       "      <th>client_4</th>\n",
       "      <td>1</td>\n",
       "      <td>4000</td>\n",
       "    </tr>\n",
       "    <tr>\n",
       "      <th>client_5</th>\n",
       "      <td>0</td>\n",
       "      <td>0</td>\n",
       "    </tr>\n",
       "    <tr>\n",
       "      <th>client_6</th>\n",
       "      <td>2</td>\n",
       "      <td>8000</td>\n",
       "    </tr>\n",
       "    <tr>\n",
       "      <th>client_7</th>\n",
       "      <td>0</td>\n",
       "      <td>0</td>\n",
       "    </tr>\n",
       "    <tr>\n",
       "      <th>client_8</th>\n",
       "      <td>0</td>\n",
       "      <td>0</td>\n",
       "    </tr>\n",
       "    <tr>\n",
       "      <th>client_9</th>\n",
       "      <td>1</td>\n",
       "      <td>4000</td>\n",
       "    </tr>\n",
       "  </tbody>\n",
       "</table>\n",
       "</div>"
      ],
      "text/plain": [
       "          product  price\n",
       "client                  \n",
       "client_0        1   4000\n",
       "client_1        1   4000\n",
       "client_2        0      0\n",
       "client_3        0      0\n",
       "client_4        1   4000\n",
       "client_5        0      0\n",
       "client_6        2   8000\n",
       "client_7        0      0\n",
       "client_8        0      0\n",
       "client_9        1   4000"
      ]
     },
     "execution_count": 6464,
     "metadata": {},
     "output_type": "execute_result"
    }
   ],
   "source": [
    "df.groupby('client').apply(lambda x: x[x['product']=='product_3'].agg({'product': 'count','price': 'sum'}))"
   ]
  },
  {
   "cell_type": "markdown",
   "metadata": {},
   "source": [
    "# 2.3 Методы apply()."
   ]
  },
  {
   "cell_type": "code",
   "execution_count": 6465,
   "metadata": {},
   "outputs": [
    {
     "data": {
      "text/plain": [
       "{'col_0': [0, 0, 0, 0, 0],\n",
       " 'col_1': [1, 2, 3, 4, 5],\n",
       " 'col_2': [2, 4, 6, 8, 10],\n",
       " 'col_3': [3, 3, 3, 3, 3],\n",
       " 'col_4': [4, 8, 12, 16, 20]}"
      ]
     },
     "execution_count": 6465,
     "metadata": {},
     "output_type": "execute_result"
    }
   ],
   "source": [
    "dict_array = {f'col_{i}': [i*1, i*2, i*3, i*4, i*5] if i !=3 else [i]*5 for i in range(5)}\n",
    "dict_array"
   ]
  },
  {
   "cell_type": "code",
   "execution_count": 6466,
   "metadata": {},
   "outputs": [
    {
     "data": {
      "text/html": [
       "<div>\n",
       "<style scoped>\n",
       "    .dataframe tbody tr th:only-of-type {\n",
       "        vertical-align: middle;\n",
       "    }\n",
       "\n",
       "    .dataframe tbody tr th {\n",
       "        vertical-align: top;\n",
       "    }\n",
       "\n",
       "    .dataframe thead th {\n",
       "        text-align: right;\n",
       "    }\n",
       "</style>\n",
       "<table border=\"1\" class=\"dataframe\">\n",
       "  <thead>\n",
       "    <tr style=\"text-align: right;\">\n",
       "      <th></th>\n",
       "      <th>col_0</th>\n",
       "      <th>col_1</th>\n",
       "      <th>col_2</th>\n",
       "      <th>col_3</th>\n",
       "      <th>col_4</th>\n",
       "    </tr>\n",
       "  </thead>\n",
       "  <tbody>\n",
       "    <tr>\n",
       "      <th>0</th>\n",
       "      <td>0</td>\n",
       "      <td>1</td>\n",
       "      <td>2</td>\n",
       "      <td>3</td>\n",
       "      <td>4</td>\n",
       "    </tr>\n",
       "    <tr>\n",
       "      <th>1</th>\n",
       "      <td>0</td>\n",
       "      <td>2</td>\n",
       "      <td>4</td>\n",
       "      <td>3</td>\n",
       "      <td>8</td>\n",
       "    </tr>\n",
       "    <tr>\n",
       "      <th>2</th>\n",
       "      <td>0</td>\n",
       "      <td>3</td>\n",
       "      <td>6</td>\n",
       "      <td>3</td>\n",
       "      <td>12</td>\n",
       "    </tr>\n",
       "    <tr>\n",
       "      <th>3</th>\n",
       "      <td>0</td>\n",
       "      <td>4</td>\n",
       "      <td>8</td>\n",
       "      <td>3</td>\n",
       "      <td>16</td>\n",
       "    </tr>\n",
       "    <tr>\n",
       "      <th>4</th>\n",
       "      <td>0</td>\n",
       "      <td>5</td>\n",
       "      <td>10</td>\n",
       "      <td>3</td>\n",
       "      <td>20</td>\n",
       "    </tr>\n",
       "  </tbody>\n",
       "</table>\n",
       "</div>"
      ],
      "text/plain": [
       "   col_0  col_1  col_2  col_3  col_4\n",
       "0      0      1      2      3      4\n",
       "1      0      2      4      3      8\n",
       "2      0      3      6      3     12\n",
       "3      0      4      8      3     16\n",
       "4      0      5     10      3     20"
      ]
     },
     "execution_count": 6466,
     "metadata": {},
     "output_type": "execute_result"
    }
   ],
   "source": [
    "df = pd.DataFrame(dict_array)\n",
    "df"
   ]
  },
  {
   "cell_type": "code",
   "execution_count": 6467,
   "metadata": {},
   "outputs": [],
   "source": [
    "# DataFrame.apply(func, axis=0, raw=False, result_type=None, agrs=(), **kwargs)\n",
    "\n",
    "# Series.apply(func, axis=0, agrs=(), **kwargs)"
   ]
  },
  {
   "cell_type": "code",
   "execution_count": 6468,
   "metadata": {},
   "outputs": [
    {
     "data": {
      "text/html": [
       "<div>\n",
       "<style scoped>\n",
       "    .dataframe tbody tr th:only-of-type {\n",
       "        vertical-align: middle;\n",
       "    }\n",
       "\n",
       "    .dataframe tbody tr th {\n",
       "        vertical-align: top;\n",
       "    }\n",
       "\n",
       "    .dataframe thead th {\n",
       "        text-align: right;\n",
       "    }\n",
       "</style>\n",
       "<table border=\"1\" class=\"dataframe\">\n",
       "  <thead>\n",
       "    <tr style=\"text-align: right;\">\n",
       "      <th></th>\n",
       "      <th>col_0</th>\n",
       "      <th>col_1</th>\n",
       "      <th>col_2</th>\n",
       "      <th>col_3</th>\n",
       "      <th>col_4</th>\n",
       "    </tr>\n",
       "  </thead>\n",
       "  <tbody>\n",
       "    <tr>\n",
       "      <th>0</th>\n",
       "      <td>0</td>\n",
       "      <td>1</td>\n",
       "      <td>0</td>\n",
       "      <td>3</td>\n",
       "      <td>4</td>\n",
       "    </tr>\n",
       "    <tr>\n",
       "      <th>1</th>\n",
       "      <td>0</td>\n",
       "      <td>2</td>\n",
       "      <td>0</td>\n",
       "      <td>3</td>\n",
       "      <td>8</td>\n",
       "    </tr>\n",
       "    <tr>\n",
       "      <th>2</th>\n",
       "      <td>0</td>\n",
       "      <td>3</td>\n",
       "      <td>0</td>\n",
       "      <td>3</td>\n",
       "      <td>12</td>\n",
       "    </tr>\n",
       "    <tr>\n",
       "      <th>3</th>\n",
       "      <td>0</td>\n",
       "      <td>4</td>\n",
       "      <td>0</td>\n",
       "      <td>3</td>\n",
       "      <td>16</td>\n",
       "    </tr>\n",
       "    <tr>\n",
       "      <th>4</th>\n",
       "      <td>0</td>\n",
       "      <td>5</td>\n",
       "      <td>0</td>\n",
       "      <td>3</td>\n",
       "      <td>20</td>\n",
       "    </tr>\n",
       "  </tbody>\n",
       "</table>\n",
       "</div>"
      ],
      "text/plain": [
       "   col_0  col_1  col_2  col_3  col_4\n",
       "0      0      1      0      3      4\n",
       "1      0      2      0      3      8\n",
       "2      0      3      0      3     12\n",
       "3      0      4      0      3     16\n",
       "4      0      5      0      3     20"
      ]
     },
     "execution_count": 6468,
     "metadata": {},
     "output_type": "execute_result"
    }
   ],
   "source": [
    "def my_func(series):\n",
    "    if series.name == 'col_2':\n",
    "        return series*0\n",
    "    return series\n",
    "\n",
    "df.apply(my_func)"
   ]
  },
  {
   "cell_type": "code",
   "execution_count": 6469,
   "metadata": {},
   "outputs": [
    {
     "data": {
      "text/html": [
       "<div>\n",
       "<style scoped>\n",
       "    .dataframe tbody tr th:only-of-type {\n",
       "        vertical-align: middle;\n",
       "    }\n",
       "\n",
       "    .dataframe tbody tr th {\n",
       "        vertical-align: top;\n",
       "    }\n",
       "\n",
       "    .dataframe thead th {\n",
       "        text-align: right;\n",
       "    }\n",
       "</style>\n",
       "<table border=\"1\" class=\"dataframe\">\n",
       "  <thead>\n",
       "    <tr style=\"text-align: right;\">\n",
       "      <th></th>\n",
       "      <th>col_0</th>\n",
       "      <th>col_1</th>\n",
       "      <th>col_2</th>\n",
       "      <th>col_3</th>\n",
       "      <th>col_4</th>\n",
       "    </tr>\n",
       "  </thead>\n",
       "  <tbody>\n",
       "    <tr>\n",
       "      <th>0</th>\n",
       "      <td>100</td>\n",
       "      <td>101</td>\n",
       "      <td>0</td>\n",
       "      <td>103</td>\n",
       "      <td>104</td>\n",
       "    </tr>\n",
       "    <tr>\n",
       "      <th>1</th>\n",
       "      <td>100</td>\n",
       "      <td>102</td>\n",
       "      <td>0</td>\n",
       "      <td>103</td>\n",
       "      <td>108</td>\n",
       "    </tr>\n",
       "    <tr>\n",
       "      <th>2</th>\n",
       "      <td>100</td>\n",
       "      <td>103</td>\n",
       "      <td>0</td>\n",
       "      <td>103</td>\n",
       "      <td>112</td>\n",
       "    </tr>\n",
       "    <tr>\n",
       "      <th>3</th>\n",
       "      <td>100</td>\n",
       "      <td>104</td>\n",
       "      <td>0</td>\n",
       "      <td>103</td>\n",
       "      <td>116</td>\n",
       "    </tr>\n",
       "    <tr>\n",
       "      <th>4</th>\n",
       "      <td>100</td>\n",
       "      <td>105</td>\n",
       "      <td>0</td>\n",
       "      <td>103</td>\n",
       "      <td>120</td>\n",
       "    </tr>\n",
       "  </tbody>\n",
       "</table>\n",
       "</div>"
      ],
      "text/plain": [
       "   col_0  col_1  col_2  col_3  col_4\n",
       "0    100    101      0    103    104\n",
       "1    100    102      0    103    108\n",
       "2    100    103      0    103    112\n",
       "3    100    104      0    103    116\n",
       "4    100    105      0    103    120"
      ]
     },
     "execution_count": 6469,
     "metadata": {},
     "output_type": "execute_result"
    }
   ],
   "source": [
    "df.apply(lambda x: x+100 if x.name != 'col_2' else x*0)"
   ]
  },
  {
   "cell_type": "code",
   "execution_count": 6470,
   "metadata": {},
   "outputs": [
    {
     "data": {
      "text/html": [
       "<div>\n",
       "<style scoped>\n",
       "    .dataframe tbody tr th:only-of-type {\n",
       "        vertical-align: middle;\n",
       "    }\n",
       "\n",
       "    .dataframe tbody tr th {\n",
       "        vertical-align: top;\n",
       "    }\n",
       "\n",
       "    .dataframe thead th {\n",
       "        text-align: right;\n",
       "    }\n",
       "</style>\n",
       "<table border=\"1\" class=\"dataframe\">\n",
       "  <thead>\n",
       "    <tr style=\"text-align: right;\">\n",
       "      <th></th>\n",
       "      <th>col_0</th>\n",
       "      <th>col_1</th>\n",
       "      <th>col_2</th>\n",
       "      <th>col_3</th>\n",
       "      <th>col_4</th>\n",
       "    </tr>\n",
       "  </thead>\n",
       "  <tbody>\n",
       "    <tr>\n",
       "      <th>0</th>\n",
       "      <td>0</td>\n",
       "      <td>1</td>\n",
       "      <td>2</td>\n",
       "      <td>3</td>\n",
       "      <td>4</td>\n",
       "    </tr>\n",
       "    <tr>\n",
       "      <th>1</th>\n",
       "      <td>0</td>\n",
       "      <td>2</td>\n",
       "      <td>4</td>\n",
       "      <td>3</td>\n",
       "      <td>8</td>\n",
       "    </tr>\n",
       "    <tr>\n",
       "      <th>2</th>\n",
       "      <td>0</td>\n",
       "      <td>3</td>\n",
       "      <td>6</td>\n",
       "      <td>3</td>\n",
       "      <td>12</td>\n",
       "    </tr>\n",
       "    <tr>\n",
       "      <th>3</th>\n",
       "      <td>0</td>\n",
       "      <td>4</td>\n",
       "      <td>8</td>\n",
       "      <td>3</td>\n",
       "      <td>16</td>\n",
       "    </tr>\n",
       "    <tr>\n",
       "      <th>4</th>\n",
       "      <td>0</td>\n",
       "      <td>5</td>\n",
       "      <td>10</td>\n",
       "      <td>3</td>\n",
       "      <td>20</td>\n",
       "    </tr>\n",
       "  </tbody>\n",
       "</table>\n",
       "</div>"
      ],
      "text/plain": [
       "   col_0  col_1  col_2  col_3  col_4\n",
       "0      0      1      2      3      4\n",
       "1      0      2      4      3      8\n",
       "2      0      3      6      3     12\n",
       "3      0      4      8      3     16\n",
       "4      0      5     10      3     20"
      ]
     },
     "execution_count": 6470,
     "metadata": {},
     "output_type": "execute_result"
    }
   ],
   "source": [
    "df"
   ]
  },
  {
   "cell_type": "code",
   "execution_count": 6471,
   "metadata": {},
   "outputs": [
    {
     "data": {
      "text/plain": [
       "col_0     0\n",
       "col_1    15\n",
       "col_2    30\n",
       "col_3    15\n",
       "col_4    60\n",
       "dtype: int64"
      ]
     },
     "execution_count": 6471,
     "metadata": {},
     "output_type": "execute_result"
    }
   ],
   "source": [
    "# raw=True - передача массива numpy вместо Series (работает быстрее)\n",
    "\n",
    "df.apply('sum', axis=0, raw=True)"
   ]
  },
  {
   "cell_type": "code",
   "execution_count": 6472,
   "metadata": {},
   "outputs": [
    {
     "data": {
      "text/html": [
       "<div>\n",
       "<style scoped>\n",
       "    .dataframe tbody tr th:only-of-type {\n",
       "        vertical-align: middle;\n",
       "    }\n",
       "\n",
       "    .dataframe tbody tr th {\n",
       "        vertical-align: top;\n",
       "    }\n",
       "\n",
       "    .dataframe thead th {\n",
       "        text-align: right;\n",
       "    }\n",
       "</style>\n",
       "<table border=\"1\" class=\"dataframe\">\n",
       "  <thead>\n",
       "    <tr style=\"text-align: right;\">\n",
       "      <th></th>\n",
       "      <th>age</th>\n",
       "      <th>name</th>\n",
       "      <th>наличие авто</th>\n",
       "    </tr>\n",
       "  </thead>\n",
       "  <tbody>\n",
       "    <tr>\n",
       "      <th>0</th>\n",
       "      <td>53</td>\n",
       "      <td>Фамилия_1 Имя_1</td>\n",
       "      <td>True</td>\n",
       "    </tr>\n",
       "    <tr>\n",
       "      <th>1</th>\n",
       "      <td>25</td>\n",
       "      <td>Фамилия_2 Имя_2 Отчество_2</td>\n",
       "      <td>True</td>\n",
       "    </tr>\n",
       "    <tr>\n",
       "      <th>2</th>\n",
       "      <td>11</td>\n",
       "      <td>Фамилия_3 Имя_3</td>\n",
       "      <td>False</td>\n",
       "    </tr>\n",
       "    <tr>\n",
       "      <th>3</th>\n",
       "      <td>18</td>\n",
       "      <td>Фамилия_4 Имя_4</td>\n",
       "      <td>True</td>\n",
       "    </tr>\n",
       "    <tr>\n",
       "      <th>4</th>\n",
       "      <td>7</td>\n",
       "      <td>Фамилия_5 Имя_5</td>\n",
       "      <td>False</td>\n",
       "    </tr>\n",
       "  </tbody>\n",
       "</table>\n",
       "</div>"
      ],
      "text/plain": [
       "   age                        name  наличие авто\n",
       "0   53             Фамилия_1 Имя_1          True\n",
       "1   25  Фамилия_2 Имя_2 Отчество_2          True\n",
       "2   11             Фамилия_3 Имя_3         False\n",
       "3   18             Фамилия_4 Имя_4          True\n",
       "4    7             Фамилия_5 Имя_5         False"
      ]
     },
     "execution_count": 6472,
     "metadata": {},
     "output_type": "execute_result"
    }
   ],
   "source": [
    "dict_array = {'age': [53, 25, 11, 18, 7],\n",
    "              'name': [f'Фамилия_{i} Имя_{i}' for i in range(1,6)],\n",
    "              'наличие авто': [True, True, False, True, False]}\n",
    "dict_array['name'][1] = 'Фамилия_2 Имя_2 Отчество_2'\n",
    "df = pd.DataFrame(dict_array)\n",
    "df"
   ]
  },
  {
   "cell_type": "code",
   "execution_count": 6473,
   "metadata": {},
   "outputs": [
    {
     "name": "stderr",
     "output_type": "stream",
     "text": [
      "C:\\Users\\Pong\\AppData\\Local\\Temp\\ipykernel_1784\\3318162724.py:4: FutureWarning: Series.__getitem__ treating keys as positions is deprecated. In a future version, integer keys will always be treated as labels (consistent with DataFrame behavior). To access a value by position, use `ser.iloc[pos]`\n",
      "  name_split = series.str.split()[0]\n"
     ]
    },
    {
     "data": {
      "text/html": [
       "<div>\n",
       "<style scoped>\n",
       "    .dataframe tbody tr th:only-of-type {\n",
       "        vertical-align: middle;\n",
       "    }\n",
       "\n",
       "    .dataframe tbody tr th {\n",
       "        vertical-align: top;\n",
       "    }\n",
       "\n",
       "    .dataframe thead th {\n",
       "        text-align: right;\n",
       "    }\n",
       "</style>\n",
       "<table border=\"1\" class=\"dataframe\">\n",
       "  <thead>\n",
       "    <tr style=\"text-align: right;\">\n",
       "      <th></th>\n",
       "      <th>0</th>\n",
       "      <th>1</th>\n",
       "      <th>2</th>\n",
       "    </tr>\n",
       "  </thead>\n",
       "  <tbody>\n",
       "    <tr>\n",
       "      <th>0</th>\n",
       "      <td>Фамилия_1</td>\n",
       "      <td>Имя_1</td>\n",
       "      <td>NaN</td>\n",
       "    </tr>\n",
       "    <tr>\n",
       "      <th>1</th>\n",
       "      <td>Фамилия_2</td>\n",
       "      <td>Имя_2</td>\n",
       "      <td>Отчество_2</td>\n",
       "    </tr>\n",
       "    <tr>\n",
       "      <th>2</th>\n",
       "      <td>Фамилия_3</td>\n",
       "      <td>Имя_3</td>\n",
       "      <td>NaN</td>\n",
       "    </tr>\n",
       "    <tr>\n",
       "      <th>3</th>\n",
       "      <td>Фамилия_4</td>\n",
       "      <td>Имя_4</td>\n",
       "      <td>NaN</td>\n",
       "    </tr>\n",
       "    <tr>\n",
       "      <th>4</th>\n",
       "      <td>Фамилия_5</td>\n",
       "      <td>Имя_5</td>\n",
       "      <td>NaN</td>\n",
       "    </tr>\n",
       "  </tbody>\n",
       "</table>\n",
       "</div>"
      ],
      "text/plain": [
       "           0      1           2\n",
       "0  Фамилия_1  Имя_1         NaN\n",
       "1  Фамилия_2  Имя_2  Отчество_2\n",
       "2  Фамилия_3  Имя_3         NaN\n",
       "3  Фамилия_4  Имя_4         NaN\n",
       "4  Фамилия_5  Имя_5         NaN"
      ]
     },
     "execution_count": 6473,
     "metadata": {},
     "output_type": "execute_result"
    }
   ],
   "source": [
    "# Добавление в df столбцов Имя, Фамилия, Отчетство\n",
    "\n",
    "def my_func(series):\n",
    "    name_split = series.str.split()[0]\n",
    "\n",
    "    if len(name_split) == 2:\n",
    "        name_split.append(np.nan)\n",
    "        \n",
    "    return name_split\n",
    "\n",
    "df[['name']].apply(my_func, axis=1, result_type='expand')"
   ]
  },
  {
   "cell_type": "code",
   "execution_count": 6474,
   "metadata": {},
   "outputs": [
    {
     "name": "stderr",
     "output_type": "stream",
     "text": [
      "C:\\Users\\Pong\\AppData\\Local\\Temp\\ipykernel_1784\\3318162724.py:4: FutureWarning: Series.__getitem__ treating keys as positions is deprecated. In a future version, integer keys will always be treated as labels (consistent with DataFrame behavior). To access a value by position, use `ser.iloc[pos]`\n",
      "  name_split = series.str.split()[0]\n"
     ]
    },
    {
     "data": {
      "text/html": [
       "<div>\n",
       "<style scoped>\n",
       "    .dataframe tbody tr th:only-of-type {\n",
       "        vertical-align: middle;\n",
       "    }\n",
       "\n",
       "    .dataframe tbody tr th {\n",
       "        vertical-align: top;\n",
       "    }\n",
       "\n",
       "    .dataframe thead th {\n",
       "        text-align: right;\n",
       "    }\n",
       "</style>\n",
       "<table border=\"1\" class=\"dataframe\">\n",
       "  <thead>\n",
       "    <tr style=\"text-align: right;\">\n",
       "      <th></th>\n",
       "      <th>age</th>\n",
       "      <th>name</th>\n",
       "      <th>наличие авто</th>\n",
       "      <th>first_name</th>\n",
       "      <th>last_name</th>\n",
       "      <th>patronymic</th>\n",
       "    </tr>\n",
       "  </thead>\n",
       "  <tbody>\n",
       "    <tr>\n",
       "      <th>0</th>\n",
       "      <td>53</td>\n",
       "      <td>Фамилия_1 Имя_1</td>\n",
       "      <td>True</td>\n",
       "      <td>Фамилия_1</td>\n",
       "      <td>Имя_1</td>\n",
       "      <td>NaN</td>\n",
       "    </tr>\n",
       "    <tr>\n",
       "      <th>1</th>\n",
       "      <td>25</td>\n",
       "      <td>Фамилия_2 Имя_2 Отчество_2</td>\n",
       "      <td>True</td>\n",
       "      <td>Фамилия_2</td>\n",
       "      <td>Имя_2</td>\n",
       "      <td>Отчество_2</td>\n",
       "    </tr>\n",
       "    <tr>\n",
       "      <th>2</th>\n",
       "      <td>11</td>\n",
       "      <td>Фамилия_3 Имя_3</td>\n",
       "      <td>False</td>\n",
       "      <td>Фамилия_3</td>\n",
       "      <td>Имя_3</td>\n",
       "      <td>NaN</td>\n",
       "    </tr>\n",
       "    <tr>\n",
       "      <th>3</th>\n",
       "      <td>18</td>\n",
       "      <td>Фамилия_4 Имя_4</td>\n",
       "      <td>True</td>\n",
       "      <td>Фамилия_4</td>\n",
       "      <td>Имя_4</td>\n",
       "      <td>NaN</td>\n",
       "    </tr>\n",
       "    <tr>\n",
       "      <th>4</th>\n",
       "      <td>7</td>\n",
       "      <td>Фамилия_5 Имя_5</td>\n",
       "      <td>False</td>\n",
       "      <td>Фамилия_5</td>\n",
       "      <td>Имя_5</td>\n",
       "      <td>NaN</td>\n",
       "    </tr>\n",
       "  </tbody>\n",
       "</table>\n",
       "</div>"
      ],
      "text/plain": [
       "   age                        name  наличие авто first_name last_name  \\\n",
       "0   53             Фамилия_1 Имя_1          True  Фамилия_1     Имя_1   \n",
       "1   25  Фамилия_2 Имя_2 Отчество_2          True  Фамилия_2     Имя_2   \n",
       "2   11             Фамилия_3 Имя_3         False  Фамилия_3     Имя_3   \n",
       "3   18             Фамилия_4 Имя_4          True  Фамилия_4     Имя_4   \n",
       "4    7             Фамилия_5 Имя_5         False  Фамилия_5     Имя_5   \n",
       "\n",
       "   patronymic  \n",
       "0         NaN  \n",
       "1  Отчество_2  \n",
       "2         NaN  \n",
       "3         NaN  \n",
       "4         NaN  "
      ]
     },
     "execution_count": 6474,
     "metadata": {},
     "output_type": "execute_result"
    }
   ],
   "source": [
    "df[['first_name', 'last_name', 'patronymic']] = df[['name']].apply(my_func, axis=1, result_type='expand')\n",
    "df"
   ]
  },
  {
   "cell_type": "code",
   "execution_count": 6475,
   "metadata": {},
   "outputs": [
    {
     "name": "stdout",
     "output_type": "stream",
     "text": [
      "0    Имя_1\n",
      "1    Имя_2\n",
      "2    Имя_3\n",
      "3    Имя_4\n",
      "4    Имя_5\n",
      "Name: name, dtype: object\n",
      "\n",
      "0           NaN\n",
      "1    Отчество_2\n",
      "2           NaN\n",
      "3           NaN\n",
      "4           NaN\n",
      "Name: name, dtype: object\n"
     ]
    }
   ],
   "source": [
    "print(df['name'].apply(lambda x: x.split()[1]))\n",
    "print()\n",
    "print(df['name'].apply(lambda x: x.split()[-1] if len(x.split())==3 else np.nan))"
   ]
  },
  {
   "cell_type": "code",
   "execution_count": 6476,
   "metadata": {},
   "outputs": [],
   "source": [
    "def my_func(series, *args, flag=False):\n",
    "    if not isinstance(series, pd.Series):\n",
    "        raise Exception(\"Передана не pandas.Series\")\n",
    "    if len(args) == 0:\n",
    "        return '---'\n",
    "    if len(args) > 3:\n",
    "        raise Exception(\"Аргументов больше 3\")\n",
    "    \n",
    "    name_split = series.str.split(' ')[0]\n",
    "    if len(name_split) == 2:\n",
    "        name_split.append(np.nan)\n",
    "        \n",
    "    N = {'Ф': 0,\n",
    "         'И': 1,\n",
    "         'О': 2}\n",
    "    res = [ name_split[N[arg]] for arg in args if arg in N ]\n",
    "    if flag:\n",
    "        res.append(f\"{'' if name_split[0] is np.nan else name_split[0]} {'' if name_split[1] is np.nan else name_split[1][0] + '.'} {'' if name_split[2] is np.nan else name_split[2][0] + '.'}\")\n",
    "    \n",
    "    return res"
   ]
  },
  {
   "cell_type": "code",
   "execution_count": 6477,
   "metadata": {},
   "outputs": [
    {
     "name": "stderr",
     "output_type": "stream",
     "text": [
      "C:\\Users\\Pong\\AppData\\Local\\Temp\\ipykernel_1784\\2143492344.py:9: FutureWarning: Series.__getitem__ treating keys as positions is deprecated. In a future version, integer keys will always be treated as labels (consistent with DataFrame behavior). To access a value by position, use `ser.iloc[pos]`\n",
      "  name_split = series.str.split(' ')[0]\n"
     ]
    },
    {
     "data": {
      "text/html": [
       "<div>\n",
       "<style scoped>\n",
       "    .dataframe tbody tr th:only-of-type {\n",
       "        vertical-align: middle;\n",
       "    }\n",
       "\n",
       "    .dataframe tbody tr th {\n",
       "        vertical-align: top;\n",
       "    }\n",
       "\n",
       "    .dataframe thead th {\n",
       "        text-align: right;\n",
       "    }\n",
       "</style>\n",
       "<table border=\"1\" class=\"dataframe\">\n",
       "  <thead>\n",
       "    <tr style=\"text-align: right;\">\n",
       "      <th></th>\n",
       "      <th>0</th>\n",
       "      <th>1</th>\n",
       "      <th>2</th>\n",
       "    </tr>\n",
       "  </thead>\n",
       "  <tbody>\n",
       "    <tr>\n",
       "      <th>0</th>\n",
       "      <td>Фамилия_1</td>\n",
       "      <td>Имя_1</td>\n",
       "      <td>Фамилия_1 И.</td>\n",
       "    </tr>\n",
       "    <tr>\n",
       "      <th>1</th>\n",
       "      <td>Фамилия_2</td>\n",
       "      <td>Имя_2</td>\n",
       "      <td>Фамилия_2 И. О.</td>\n",
       "    </tr>\n",
       "    <tr>\n",
       "      <th>2</th>\n",
       "      <td>Фамилия_3</td>\n",
       "      <td>Имя_3</td>\n",
       "      <td>Фамилия_3 И.</td>\n",
       "    </tr>\n",
       "    <tr>\n",
       "      <th>3</th>\n",
       "      <td>Фамилия_4</td>\n",
       "      <td>Имя_4</td>\n",
       "      <td>Фамилия_4 И.</td>\n",
       "    </tr>\n",
       "    <tr>\n",
       "      <th>4</th>\n",
       "      <td>Фамилия_5</td>\n",
       "      <td>Имя_5</td>\n",
       "      <td>Фамилия_5 И.</td>\n",
       "    </tr>\n",
       "  </tbody>\n",
       "</table>\n",
       "</div>"
      ],
      "text/plain": [
       "           0      1                2\n",
       "0  Фамилия_1  Имя_1    Фамилия_1 И. \n",
       "1  Фамилия_2  Имя_2  Фамилия_2 И. О.\n",
       "2  Фамилия_3  Имя_3    Фамилия_3 И. \n",
       "3  Фамилия_4  Имя_4    Фамилия_4 И. \n",
       "4  Фамилия_5  Имя_5    Фамилия_5 И. "
      ]
     },
     "execution_count": 6477,
     "metadata": {},
     "output_type": "execute_result"
    }
   ],
   "source": [
    "df[['name']].apply(my_func, axis=1, result_type='expand', args=('', 'Ф', 'И'), flag=True)"
   ]
  },
  {
   "cell_type": "code",
   "execution_count": 6478,
   "metadata": {},
   "outputs": [
    {
     "name": "stderr",
     "output_type": "stream",
     "text": [
      "C:\\Users\\Pong\\AppData\\Local\\Temp\\ipykernel_1784\\3691608679.py:2: FutureWarning: Series.__getitem__ treating keys as positions is deprecated. In a future version, integer keys will always be treated as labels (consistent with DataFrame behavior). To access a value by position, use `ser.iloc[pos]`\n",
      "  f_spl = (row.str.split()[0] + [np.NaN] * 2)[:3]\n"
     ]
    },
    {
     "data": {
      "text/html": [
       "<div>\n",
       "<style scoped>\n",
       "    .dataframe tbody tr th:only-of-type {\n",
       "        vertical-align: middle;\n",
       "    }\n",
       "\n",
       "    .dataframe tbody tr th {\n",
       "        vertical-align: top;\n",
       "    }\n",
       "\n",
       "    .dataframe thead th {\n",
       "        text-align: right;\n",
       "    }\n",
       "</style>\n",
       "<table border=\"1\" class=\"dataframe\">\n",
       "  <thead>\n",
       "    <tr style=\"text-align: right;\">\n",
       "      <th></th>\n",
       "      <th>0</th>\n",
       "      <th>1</th>\n",
       "      <th>2</th>\n",
       "    </tr>\n",
       "  </thead>\n",
       "  <tbody>\n",
       "    <tr>\n",
       "      <th>0</th>\n",
       "      <td>NaN</td>\n",
       "      <td>Имя_1</td>\n",
       "      <td>Фамилия_1 И.</td>\n",
       "    </tr>\n",
       "    <tr>\n",
       "      <th>1</th>\n",
       "      <td>Отчество_2</td>\n",
       "      <td>Имя_2</td>\n",
       "      <td>Фамилия_2 И.О.</td>\n",
       "    </tr>\n",
       "    <tr>\n",
       "      <th>2</th>\n",
       "      <td>NaN</td>\n",
       "      <td>Имя_3</td>\n",
       "      <td>Фамилия_3 И.</td>\n",
       "    </tr>\n",
       "    <tr>\n",
       "      <th>3</th>\n",
       "      <td>NaN</td>\n",
       "      <td>Имя_4</td>\n",
       "      <td>Фамилия_4 И.</td>\n",
       "    </tr>\n",
       "    <tr>\n",
       "      <th>4</th>\n",
       "      <td>NaN</td>\n",
       "      <td>Имя_5</td>\n",
       "      <td>Фамилия_5 И.</td>\n",
       "    </tr>\n",
       "  </tbody>\n",
       "</table>\n",
       "</div>"
      ],
      "text/plain": [
       "            0      1               2\n",
       "0         NaN  Имя_1    Фамилия_1 И.\n",
       "1  Отчество_2  Имя_2  Фамилия_2 И.О.\n",
       "2         NaN  Имя_3    Фамилия_3 И.\n",
       "3         NaN  Имя_4    Фамилия_4 И.\n",
       "4         NaN  Имя_5    Фамилия_5 И."
      ]
     },
     "execution_count": 6478,
     "metadata": {},
     "output_type": "execute_result"
    }
   ],
   "source": [
    "def split_fio(row, *args, **kwargs):\n",
    "    f_spl = (row.str.split()[0] + [np.NaN] * 2)[:3]\n",
    "    p_arg = dict(map(lambda x: x[::-1], enumerate('ФИО')))\n",
    "    fio = [f_spl[p_arg[arg]] for arg in args if arg in p_arg]\n",
    "    if kwargs.get('flag', False):\n",
    "        fio_ = ' '.join([f_spl[0], ''.join(f'{s[0]}.' for s in f_spl[1:] if isinstance(s, str))])\n",
    "        fio.append(fio_)\n",
    "    return fio\n",
    "\n",
    "\n",
    "df[['name']].apply(split_fio, axis=1, result_type='expand',\n",
    "                         args=('О', 'И', 'что-то'), flag=True)"
   ]
  },
  {
   "cell_type": "code",
   "execution_count": 6479,
   "metadata": {},
   "outputs": [],
   "source": [
    "# Дана функция, в которую первым аргументом передают серию данных:\n",
    "\n",
    "# def my_func(series, a, b=True, c=None):\n",
    "#     ...\n",
    "#     ...\n",
    "#     ...\n",
    "\n",
    "# Аргумент a может принимать любое значение, именованный аргумент b принимает значение True или False, а в аргумент c можно передавать только строки.\n",
    "\n",
    "# df.apply(my_func, args=(100,), b=False, c='45')\n",
    "# df.apply(my_func, args=(100,), b=False)\n",
    "\n",
    "# Первый аргумент должен быть кортежем, остальные - именные (явно заданные)"
   ]
  },
  {
   "cell_type": "code",
   "execution_count": 6480,
   "metadata": {},
   "outputs": [
    {
     "data": {
      "text/html": [
       "<div>\n",
       "<style scoped>\n",
       "    .dataframe tbody tr th:only-of-type {\n",
       "        vertical-align: middle;\n",
       "    }\n",
       "\n",
       "    .dataframe tbody tr th {\n",
       "        vertical-align: top;\n",
       "    }\n",
       "\n",
       "    .dataframe thead th {\n",
       "        text-align: right;\n",
       "    }\n",
       "</style>\n",
       "<table border=\"1\" class=\"dataframe\">\n",
       "  <thead>\n",
       "    <tr style=\"text-align: right;\">\n",
       "      <th></th>\n",
       "      <th>cities</th>\n",
       "    </tr>\n",
       "  </thead>\n",
       "  <tbody>\n",
       "    <tr>\n",
       "      <th>0</th>\n",
       "      <td>city_1</td>\n",
       "    </tr>\n",
       "    <tr>\n",
       "      <th>1</th>\n",
       "      <td>city_2</td>\n",
       "    </tr>\n",
       "    <tr>\n",
       "      <th>2</th>\n",
       "      <td>city_1</td>\n",
       "    </tr>\n",
       "    <tr>\n",
       "      <th>3</th>\n",
       "      <td>city_1</td>\n",
       "    </tr>\n",
       "    <tr>\n",
       "      <th>4</th>\n",
       "      <td>city_3</td>\n",
       "    </tr>\n",
       "  </tbody>\n",
       "</table>\n",
       "</div>"
      ],
      "text/plain": [
       "   cities\n",
       "0  city_1\n",
       "1  city_2\n",
       "2  city_1\n",
       "3  city_1\n",
       "4  city_3"
      ]
     },
     "execution_count": 6480,
     "metadata": {},
     "output_type": "execute_result"
    }
   ],
   "source": [
    "df = pd.DataFrame(['city_1', 'city_2', 'city_1', 'city_1', 'city_3'], columns=['cities'])\n",
    "df"
   ]
  },
  {
   "cell_type": "code",
   "execution_count": 6481,
   "metadata": {},
   "outputs": [
    {
     "data": {
      "text/plain": [
       "0    0\n",
       "1    1\n",
       "2    0\n",
       "3    0\n",
       "4    1\n",
       "Name: cities, dtype: int64"
      ]
     },
     "execution_count": 6481,
     "metadata": {},
     "output_type": "execute_result"
    }
   ],
   "source": [
    "df['cities'].apply(lambda x: 0 if x=='city_1' else 1)"
   ]
  },
  {
   "cell_type": "code",
   "execution_count": 6482,
   "metadata": {},
   "outputs": [
    {
     "data": {
      "text/html": [
       "<div>\n",
       "<style scoped>\n",
       "    .dataframe tbody tr th:only-of-type {\n",
       "        vertical-align: middle;\n",
       "    }\n",
       "\n",
       "    .dataframe tbody tr th {\n",
       "        vertical-align: top;\n",
       "    }\n",
       "\n",
       "    .dataframe thead th {\n",
       "        text-align: right;\n",
       "    }\n",
       "</style>\n",
       "<table border=\"1\" class=\"dataframe\">\n",
       "  <thead>\n",
       "    <tr style=\"text-align: right;\">\n",
       "      <th></th>\n",
       "      <th>кол-во жителей</th>\n",
       "      <th>city</th>\n",
       "    </tr>\n",
       "  </thead>\n",
       "  <tbody>\n",
       "    <tr>\n",
       "      <th>0</th>\n",
       "      <td>100000</td>\n",
       "      <td>Name_1</td>\n",
       "    </tr>\n",
       "    <tr>\n",
       "      <th>1</th>\n",
       "      <td>200000</td>\n",
       "      <td>Name_2</td>\n",
       "    </tr>\n",
       "    <tr>\n",
       "      <th>2</th>\n",
       "      <td>20000</td>\n",
       "      <td>Name_3</td>\n",
       "    </tr>\n",
       "    <tr>\n",
       "      <th>3</th>\n",
       "      <td>30000</td>\n",
       "      <td>Name_4</td>\n",
       "    </tr>\n",
       "    <tr>\n",
       "      <th>4</th>\n",
       "      <td>31000</td>\n",
       "      <td>Name_5</td>\n",
       "    </tr>\n",
       "  </tbody>\n",
       "</table>\n",
       "</div>"
      ],
      "text/plain": [
       "   кол-во жителей    city\n",
       "0          100000  Name_1\n",
       "1          200000  Name_2\n",
       "2           20000  Name_3\n",
       "3           30000  Name_4\n",
       "4           31000  Name_5"
      ]
     },
     "execution_count": 6482,
     "metadata": {},
     "output_type": "execute_result"
    }
   ],
   "source": [
    "# Задача\n",
    "\n",
    "df = (pd.DataFrame({'кол-во жителей': [100000, 200000, 20000, 30000, 31000], \n",
    "                    'city': ['Name_1', 'Name_2', 'Name_3', 'Name_4', 'Name_5']}))\n",
    "df"
   ]
  },
  {
   "cell_type": "code",
   "execution_count": 6483,
   "metadata": {},
   "outputs": [
    {
     "data": {
      "text/html": [
       "<div>\n",
       "<style scoped>\n",
       "    .dataframe tbody tr th:only-of-type {\n",
       "        vertical-align: middle;\n",
       "    }\n",
       "\n",
       "    .dataframe tbody tr th {\n",
       "        vertical-align: top;\n",
       "    }\n",
       "\n",
       "    .dataframe thead th {\n",
       "        text-align: right;\n",
       "    }\n",
       "</style>\n",
       "<table border=\"1\" class=\"dataframe\">\n",
       "  <thead>\n",
       "    <tr style=\"text-align: right;\">\n",
       "      <th></th>\n",
       "      <th>кол-во жителей</th>\n",
       "      <th>city</th>\n",
       "    </tr>\n",
       "  </thead>\n",
       "  <tbody>\n",
       "    <tr>\n",
       "      <th>0</th>\n",
       "      <td>100000</td>\n",
       "      <td>город Name_1</td>\n",
       "    </tr>\n",
       "    <tr>\n",
       "      <th>1</th>\n",
       "      <td>200000</td>\n",
       "      <td>город Name_2</td>\n",
       "    </tr>\n",
       "    <tr>\n",
       "      <th>2</th>\n",
       "      <td>20000</td>\n",
       "      <td>поселок городского типа Name_3</td>\n",
       "    </tr>\n",
       "    <tr>\n",
       "      <th>3</th>\n",
       "      <td>30000</td>\n",
       "      <td>поселок городского типа Name_4</td>\n",
       "    </tr>\n",
       "    <tr>\n",
       "      <th>4</th>\n",
       "      <td>31000</td>\n",
       "      <td>город Name_5</td>\n",
       "    </tr>\n",
       "  </tbody>\n",
       "</table>\n",
       "</div>"
      ],
      "text/plain": [
       "   кол-во жителей                            city\n",
       "0          100000                    город Name_1\n",
       "1          200000                    город Name_2\n",
       "2           20000  поселок городского типа Name_3\n",
       "3           30000  поселок городского типа Name_4\n",
       "4           31000                    город Name_5"
      ]
     },
     "execution_count": 6483,
     "metadata": {},
     "output_type": "execute_result"
    }
   ],
   "source": [
    "# Населенный пункт приобретает статус: \"город\" - если число жителей больше 30000; \"поселок городского типа\" - если не больше 30000. \n",
    "# Поставьте (через пробел) соответствующий статус у названия города.\n",
    "\n",
    "def get_status(series):\n",
    "    if series['кол-во жителей'] > 30000:\n",
    "        series['city'] = 'город ' + series['city']\n",
    "    else:\n",
    "        series['city'] = 'поселок городского типа ' + series['city']\n",
    "    return series[['кол-во жителей', 'city']]\n",
    "\n",
    "df.apply(get_status, axis=1)"
   ]
  },
  {
   "cell_type": "code",
   "execution_count": 6484,
   "metadata": {},
   "outputs": [
    {
     "data": {
      "text/plain": [
       "0                      город Name_1\n",
       "1                      город Name_2\n",
       "2    поселок городского типа Name_3\n",
       "3    поселок городского типа Name_4\n",
       "4                      город Name_5\n",
       "dtype: object"
      ]
     },
     "execution_count": 6484,
     "metadata": {},
     "output_type": "execute_result"
    }
   ],
   "source": [
    "df.apply(lambda x: f'город {x.iloc[1]}' if x.iloc[0] > 30000 else f'поселок городского типа {x.iloc[1]}', axis=1)"
   ]
  },
  {
   "cell_type": "code",
   "execution_count": 6485,
   "metadata": {},
   "outputs": [
    {
     "data": {
      "text/plain": [
       "0                      город Name_1\n",
       "1                      город Name_2\n",
       "2    поселок городского типа Name_3\n",
       "3    поселок городского типа Name_4\n",
       "4                      город Name_5\n",
       "dtype: object"
      ]
     },
     "execution_count": 6485,
     "metadata": {},
     "output_type": "execute_result"
    }
   ],
   "source": [
    "df[['city', 'кол-во жителей']].apply(lambda x: f\"город {x['city']}\" if x['кол-во жителей'] > 30000 else f\"поселок городского типа {x['city']}\", axis=1)"
   ]
  },
  {
   "cell_type": "code",
   "execution_count": 6486,
   "metadata": {},
   "outputs": [
    {
     "data": {
      "text/html": [
       "<div>\n",
       "<style scoped>\n",
       "    .dataframe tbody tr th:only-of-type {\n",
       "        vertical-align: middle;\n",
       "    }\n",
       "\n",
       "    .dataframe tbody tr th {\n",
       "        vertical-align: top;\n",
       "    }\n",
       "\n",
       "    .dataframe thead th {\n",
       "        text-align: right;\n",
       "    }\n",
       "</style>\n",
       "<table border=\"1\" class=\"dataframe\">\n",
       "  <thead>\n",
       "    <tr style=\"text-align: right;\">\n",
       "      <th></th>\n",
       "      <th>col_1</th>\n",
       "      <th>col_2</th>\n",
       "      <th>col_3</th>\n",
       "      <th>col_4</th>\n",
       "      <th>col_5</th>\n",
       "    </tr>\n",
       "  </thead>\n",
       "  <tbody>\n",
       "    <tr>\n",
       "      <th>0</th>\n",
       "      <td>7</td>\n",
       "      <td>6</td>\n",
       "      <td>4.0</td>\n",
       "      <td>9</td>\n",
       "      <td>2</td>\n",
       "    </tr>\n",
       "    <tr>\n",
       "      <th>1</th>\n",
       "      <td>2</td>\n",
       "      <td>6</td>\n",
       "      <td>1.0</td>\n",
       "      <td>0</td>\n",
       "      <td>6</td>\n",
       "    </tr>\n",
       "    <tr>\n",
       "      <th>2</th>\n",
       "      <td>7</td>\n",
       "      <td>1</td>\n",
       "      <td>0.0</td>\n",
       "      <td>8</td>\n",
       "      <td>3</td>\n",
       "    </tr>\n",
       "    <tr>\n",
       "      <th>3</th>\n",
       "      <td>0</td>\n",
       "      <td>4</td>\n",
       "      <td>2.0</td>\n",
       "      <td>2</td>\n",
       "      <td>9</td>\n",
       "    </tr>\n",
       "  </tbody>\n",
       "</table>\n",
       "</div>"
      ],
      "text/plain": [
       "   col_1  col_2  col_3  col_4  col_5\n",
       "0      7      6    4.0      9      2\n",
       "1      2      6    1.0      0      6\n",
       "2      7      1    0.0      8      3\n",
       "3      0      4    2.0      2      9"
      ]
     },
     "execution_count": 6486,
     "metadata": {},
     "output_type": "execute_result"
    }
   ],
   "source": [
    "#Задача\n",
    "\n",
    "dtypes = {i: j for (i, j) in zip([f'col_{i}' for i in range(1, 6)],['int64', 'int32', 'float32', 'int32', 'int64'])}\n",
    "\n",
    "df = pd.DataFrame(np.random.randint(0, 10, size=(4, 5)), columns=[f'col_{i}' for i in range(1, 6)])\n",
    "\n",
    "df = df.astype(dtypes)\n",
    "df"
   ]
  },
  {
   "cell_type": "code",
   "execution_count": 6487,
   "metadata": {},
   "outputs": [
    {
     "data": {
      "text/plain": [
       "col_1      int64\n",
       "col_2      int32\n",
       "col_3    float32\n",
       "col_4      int32\n",
       "col_5      int64\n",
       "dtype: object"
      ]
     },
     "execution_count": 6487,
     "metadata": {},
     "output_type": "execute_result"
    }
   ],
   "source": [
    "df.dtypes"
   ]
  },
  {
   "cell_type": "code",
   "execution_count": 6488,
   "metadata": {},
   "outputs": [
    {
     "data": {
      "text/plain": [
       "col_1      int32\n",
       "col_2      int32\n",
       "col_3    float32\n",
       "col_4      int32\n",
       "col_5      int32\n",
       "dtype: object"
      ]
     },
     "execution_count": 6488,
     "metadata": {},
     "output_type": "execute_result"
    }
   ],
   "source": [
    "# В столбцах с типом данных 'int64' измените тип данных на 'int32\n",
    "\n",
    "def change_type(series):\n",
    "    if series.dtype == 'int64':\n",
    "        return series.astype('int32')\n",
    "    return series.astype(series.dtype)\n",
    "\n",
    "df.apply(change_type).dtypes"
   ]
  },
  {
   "cell_type": "code",
   "execution_count": 6489,
   "metadata": {},
   "outputs": [
    {
     "data": {
      "text/plain": [
       "col_1      int32\n",
       "col_2      int32\n",
       "col_3    float32\n",
       "col_4      int32\n",
       "col_5      int32\n",
       "dtype: object"
      ]
     },
     "execution_count": 6489,
     "metadata": {},
     "output_type": "execute_result"
    }
   ],
   "source": [
    "df.apply(lambda x: x.astype('int32') if x.dtype == 'int64' else x, axis = 0).dtypes"
   ]
  },
  {
   "cell_type": "code",
   "execution_count": 6490,
   "metadata": {},
   "outputs": [
    {
     "data": {
      "text/html": [
       "<div>\n",
       "<style scoped>\n",
       "    .dataframe tbody tr th:only-of-type {\n",
       "        vertical-align: middle;\n",
       "    }\n",
       "\n",
       "    .dataframe tbody tr th {\n",
       "        vertical-align: top;\n",
       "    }\n",
       "\n",
       "    .dataframe thead th {\n",
       "        text-align: right;\n",
       "    }\n",
       "</style>\n",
       "<table border=\"1\" class=\"dataframe\">\n",
       "  <thead>\n",
       "    <tr style=\"text-align: right;\">\n",
       "      <th></th>\n",
       "      <th>year_1</th>\n",
       "      <th>year_2</th>\n",
       "      <th>col_3</th>\n",
       "      <th>year_4</th>\n",
       "      <th>col_5</th>\n",
       "      <th>year_6</th>\n",
       "    </tr>\n",
       "  </thead>\n",
       "  <tbody>\n",
       "    <tr>\n",
       "      <th>0</th>\n",
       "      <td>7</td>\n",
       "      <td>4</td>\n",
       "      <td>9</td>\n",
       "      <td>2</td>\n",
       "      <td>0</td>\n",
       "      <td>5</td>\n",
       "    </tr>\n",
       "    <tr>\n",
       "      <th>1</th>\n",
       "      <td>7</td>\n",
       "      <td>2</td>\n",
       "      <td>2</td>\n",
       "      <td>4</td>\n",
       "      <td>9</td>\n",
       "      <td>3</td>\n",
       "    </tr>\n",
       "    <tr>\n",
       "      <th>2</th>\n",
       "      <td>9</td>\n",
       "      <td>6</td>\n",
       "      <td>3</td>\n",
       "      <td>2</td>\n",
       "      <td>3</td>\n",
       "      <td>0</td>\n",
       "    </tr>\n",
       "    <tr>\n",
       "      <th>3</th>\n",
       "      <td>4</td>\n",
       "      <td>8</td>\n",
       "      <td>9</td>\n",
       "      <td>9</td>\n",
       "      <td>3</td>\n",
       "      <td>1</td>\n",
       "    </tr>\n",
       "    <tr>\n",
       "      <th>4</th>\n",
       "      <td>6</td>\n",
       "      <td>2</td>\n",
       "      <td>5</td>\n",
       "      <td>3</td>\n",
       "      <td>5</td>\n",
       "      <td>5</td>\n",
       "    </tr>\n",
       "  </tbody>\n",
       "</table>\n",
       "</div>"
      ],
      "text/plain": [
       "   year_1  year_2  col_3  year_4  col_5  year_6\n",
       "0       7       4      9       2      0       5\n",
       "1       7       2      2       4      9       3\n",
       "2       9       6      3       2      3       0\n",
       "3       4       8      9       9      3       1\n",
       "4       6       2      5       3      5       5"
      ]
     },
     "execution_count": 6490,
     "metadata": {},
     "output_type": "execute_result"
    }
   ],
   "source": [
    "# Задача\n",
    "\n",
    "df = pd.DataFrame({'year_1': np.random.randint(0, 10, size=5), \n",
    "                   'year_2': np.random.randint(0, 10, size=5), \n",
    "                   'col_3': np.random.randint(0, 10, size=5), \n",
    "                   'year_4': np.random.randint(0, 10, size=5), \n",
    "                   'col_5': np.random.randint(0, 10, size=5), \n",
    "                   'year_6': np.random.randint(0, 10, size=5)})\n",
    "df"
   ]
  },
  {
   "cell_type": "code",
   "execution_count": 6491,
   "metadata": {},
   "outputs": [
    {
     "data": {
      "text/html": [
       "<div>\n",
       "<style scoped>\n",
       "    .dataframe tbody tr th:only-of-type {\n",
       "        vertical-align: middle;\n",
       "    }\n",
       "\n",
       "    .dataframe tbody tr th {\n",
       "        vertical-align: top;\n",
       "    }\n",
       "\n",
       "    .dataframe thead th {\n",
       "        text-align: right;\n",
       "    }\n",
       "</style>\n",
       "<table border=\"1\" class=\"dataframe\">\n",
       "  <thead>\n",
       "    <tr style=\"text-align: right;\">\n",
       "      <th></th>\n",
       "      <th>year_1</th>\n",
       "      <th>year_2</th>\n",
       "      <th>col_3</th>\n",
       "      <th>year_4</th>\n",
       "      <th>col_5</th>\n",
       "      <th>year_6</th>\n",
       "    </tr>\n",
       "  </thead>\n",
       "  <tbody>\n",
       "    <tr>\n",
       "      <th>0</th>\n",
       "      <td>2007</td>\n",
       "      <td>2004</td>\n",
       "      <td>9</td>\n",
       "      <td>2002</td>\n",
       "      <td>0</td>\n",
       "      <td>2005</td>\n",
       "    </tr>\n",
       "    <tr>\n",
       "      <th>1</th>\n",
       "      <td>2007</td>\n",
       "      <td>2002</td>\n",
       "      <td>2</td>\n",
       "      <td>2004</td>\n",
       "      <td>9</td>\n",
       "      <td>2003</td>\n",
       "    </tr>\n",
       "    <tr>\n",
       "      <th>2</th>\n",
       "      <td>2009</td>\n",
       "      <td>2006</td>\n",
       "      <td>3</td>\n",
       "      <td>2002</td>\n",
       "      <td>3</td>\n",
       "      <td>2000</td>\n",
       "    </tr>\n",
       "    <tr>\n",
       "      <th>3</th>\n",
       "      <td>2004</td>\n",
       "      <td>2008</td>\n",
       "      <td>9</td>\n",
       "      <td>2009</td>\n",
       "      <td>3</td>\n",
       "      <td>2001</td>\n",
       "    </tr>\n",
       "    <tr>\n",
       "      <th>4</th>\n",
       "      <td>2006</td>\n",
       "      <td>2002</td>\n",
       "      <td>5</td>\n",
       "      <td>2003</td>\n",
       "      <td>5</td>\n",
       "      <td>2005</td>\n",
       "    </tr>\n",
       "  </tbody>\n",
       "</table>\n",
       "</div>"
      ],
      "text/plain": [
       "   year_1  year_2  col_3  year_4  col_5  year_6\n",
       "0    2007    2004      9    2002      0    2005\n",
       "1    2007    2002      2    2004      9    2003\n",
       "2    2009    2006      3    2002      3    2000\n",
       "3    2004    2008      9    2009      3    2001\n",
       "4    2006    2002      5    2003      5    2005"
      ]
     },
     "execution_count": 6491,
     "metadata": {},
     "output_type": "execute_result"
    }
   ],
   "source": [
    "# К значениям в столбцах ['year_1', 'year_2', 'year_3', 'year_4', 'year_5', 'year_6', 'year_7', 'year_8'] прибавьте 2000\n",
    "\n",
    "df.apply(lambda x: x + 2000 if x.name in ['year_1', 'year_2', 'year_3', 'year_4', 'year_5', 'year_6', 'year_7', 'year_8'] else x)"
   ]
  },
  {
   "cell_type": "code",
   "execution_count": 6492,
   "metadata": {},
   "outputs": [
    {
     "name": "stdout",
     "output_type": "stream",
     "text": [
      "(100, 4)\n"
     ]
    },
    {
     "data": {
      "text/html": [
       "<div>\n",
       "<style scoped>\n",
       "    .dataframe tbody tr th:only-of-type {\n",
       "        vertical-align: middle;\n",
       "    }\n",
       "\n",
       "    .dataframe tbody tr th {\n",
       "        vertical-align: top;\n",
       "    }\n",
       "\n",
       "    .dataframe thead th {\n",
       "        text-align: right;\n",
       "    }\n",
       "</style>\n",
       "<table border=\"1\" class=\"dataframe\">\n",
       "  <thead>\n",
       "    <tr style=\"text-align: right;\">\n",
       "      <th></th>\n",
       "      <th>product</th>\n",
       "      <th>product_price</th>\n",
       "      <th>count</th>\n",
       "      <th>buy</th>\n",
       "    </tr>\n",
       "  </thead>\n",
       "  <tbody>\n",
       "    <tr>\n",
       "      <th>0</th>\n",
       "      <td>product_9</td>\n",
       "      <td>2000</td>\n",
       "      <td>0</td>\n",
       "      <td>True</td>\n",
       "    </tr>\n",
       "    <tr>\n",
       "      <th>1</th>\n",
       "      <td>product_1</td>\n",
       "      <td>400</td>\n",
       "      <td>6</td>\n",
       "      <td>False</td>\n",
       "    </tr>\n",
       "    <tr>\n",
       "      <th>2</th>\n",
       "      <td>product_0</td>\n",
       "      <td>200</td>\n",
       "      <td>7</td>\n",
       "      <td>True</td>\n",
       "    </tr>\n",
       "    <tr>\n",
       "      <th>3</th>\n",
       "      <td>product_7</td>\n",
       "      <td>1600</td>\n",
       "      <td>7</td>\n",
       "      <td>True</td>\n",
       "    </tr>\n",
       "    <tr>\n",
       "      <th>4</th>\n",
       "      <td>product_14</td>\n",
       "      <td>3000</td>\n",
       "      <td>6</td>\n",
       "      <td>False</td>\n",
       "    </tr>\n",
       "  </tbody>\n",
       "</table>\n",
       "</div>"
      ],
      "text/plain": [
       "      product  product_price  count    buy\n",
       "0   product_9           2000      0   True\n",
       "1   product_1            400      6  False\n",
       "2   product_0            200      7   True\n",
       "3   product_7           1600      7   True\n",
       "4  product_14           3000      6  False"
      ]
     },
     "execution_count": 6492,
     "metadata": {},
     "output_type": "execute_result"
    }
   ],
   "source": [
    "# Задача\n",
    "\n",
    "N_product = 15\n",
    "\n",
    "product = {i: f'product_{i}' for i in range(N_product )}\n",
    "price = {i: (i+1)*200 for i in range(N_product)}\n",
    "\n",
    "\n",
    "product_list = np.random.randint(0, N_product, 100)\n",
    "buy_list = np.random.randint(0, 2, 100, bool)\n",
    "count_list = np.random.randint(0, 10, 100)\n",
    "\n",
    "df = pd.DataFrame({'product': product_list,\n",
    "                   'product_price': product_list,\n",
    "                   'count': count_list,\n",
    "                   'buy': buy_list}).replace({'product': product, 'product_price': price})\n",
    "print(df.shape)\n",
    "df.head()"
   ]
  },
  {
   "cell_type": "code",
   "execution_count": 6493,
   "metadata": {},
   "outputs": [
    {
     "data": {
      "text/html": [
       "<div>\n",
       "<style scoped>\n",
       "    .dataframe tbody tr th:only-of-type {\n",
       "        vertical-align: middle;\n",
       "    }\n",
       "\n",
       "    .dataframe tbody tr th {\n",
       "        vertical-align: top;\n",
       "    }\n",
       "\n",
       "    .dataframe thead th {\n",
       "        text-align: right;\n",
       "    }\n",
       "</style>\n",
       "<table border=\"1\" class=\"dataframe\">\n",
       "  <thead>\n",
       "    <tr style=\"text-align: right;\">\n",
       "      <th></th>\n",
       "      <th>product</th>\n",
       "      <th>product_price</th>\n",
       "      <th>count</th>\n",
       "      <th>buy</th>\n",
       "      <th>price</th>\n",
       "    </tr>\n",
       "  </thead>\n",
       "  <tbody>\n",
       "    <tr>\n",
       "      <th>0</th>\n",
       "      <td>product_9</td>\n",
       "      <td>2000</td>\n",
       "      <td>0</td>\n",
       "      <td>True</td>\n",
       "      <td>0.0</td>\n",
       "    </tr>\n",
       "    <tr>\n",
       "      <th>1</th>\n",
       "      <td>product_1</td>\n",
       "      <td>400</td>\n",
       "      <td>6</td>\n",
       "      <td>False</td>\n",
       "      <td>NaN</td>\n",
       "    </tr>\n",
       "    <tr>\n",
       "      <th>2</th>\n",
       "      <td>product_0</td>\n",
       "      <td>200</td>\n",
       "      <td>7</td>\n",
       "      <td>True</td>\n",
       "      <td>1400.0</td>\n",
       "    </tr>\n",
       "    <tr>\n",
       "      <th>3</th>\n",
       "      <td>product_7</td>\n",
       "      <td>1600</td>\n",
       "      <td>7</td>\n",
       "      <td>True</td>\n",
       "      <td>11200.0</td>\n",
       "    </tr>\n",
       "    <tr>\n",
       "      <th>4</th>\n",
       "      <td>product_14</td>\n",
       "      <td>3000</td>\n",
       "      <td>6</td>\n",
       "      <td>False</td>\n",
       "      <td>NaN</td>\n",
       "    </tr>\n",
       "  </tbody>\n",
       "</table>\n",
       "</div>"
      ],
      "text/plain": [
       "      product  product_price  count    buy    price\n",
       "0   product_9           2000      0   True      0.0\n",
       "1   product_1            400      6  False      NaN\n",
       "2   product_0            200      7   True   1400.0\n",
       "3   product_7           1600      7   True  11200.0\n",
       "4  product_14           3000      6  False      NaN"
      ]
     },
     "execution_count": 6493,
     "metadata": {},
     "output_type": "execute_result"
    }
   ],
   "source": [
    "# Добавьте еще один столбец 'price', который содержит сумму всей покупки, если она совершена, и np.nan, если покупка не совершена.\n",
    "\n",
    "df['price'] = df[['product_price', 'count', 'buy']].apply(lambda x: x['product_price'] * x['count'] if x['buy'] else np.nan, axis=1)\n",
    "df.head()"
   ]
  },
  {
   "cell_type": "code",
   "execution_count": 6494,
   "metadata": {},
   "outputs": [
    {
     "data": {
      "text/html": [
       "<div>\n",
       "<style scoped>\n",
       "    .dataframe tbody tr th:only-of-type {\n",
       "        vertical-align: middle;\n",
       "    }\n",
       "\n",
       "    .dataframe tbody tr th {\n",
       "        vertical-align: top;\n",
       "    }\n",
       "\n",
       "    .dataframe thead th {\n",
       "        text-align: right;\n",
       "    }\n",
       "</style>\n",
       "<table border=\"1\" class=\"dataframe\">\n",
       "  <thead>\n",
       "    <tr style=\"text-align: right;\">\n",
       "      <th></th>\n",
       "      <th>0</th>\n",
       "    </tr>\n",
       "  </thead>\n",
       "  <tbody>\n",
       "    <tr>\n",
       "      <th>0</th>\n",
       "      <td>3</td>\n",
       "    </tr>\n",
       "    <tr>\n",
       "      <th>1</th>\n",
       "      <td>5</td>\n",
       "    </tr>\n",
       "    <tr>\n",
       "      <th>2</th>\n",
       "      <td>5</td>\n",
       "    </tr>\n",
       "    <tr>\n",
       "      <th>3</th>\n",
       "      <td>3</td>\n",
       "    </tr>\n",
       "    <tr>\n",
       "      <th>4</th>\n",
       "      <td>3</td>\n",
       "    </tr>\n",
       "  </tbody>\n",
       "</table>\n",
       "</div>"
      ],
      "text/plain": [
       "   0\n",
       "0  3\n",
       "1  5\n",
       "2  5\n",
       "3  3\n",
       "4  3"
      ]
     },
     "execution_count": 6494,
     "metadata": {},
     "output_type": "execute_result"
    }
   ],
   "source": [
    "# Если цена товара меньше 1500, то в 'count' записать 5, если от 1500 до 3000 включительно, то в 'count' записать 3, а если больше 3000, то в 'count' записать 1.\n",
    "\n",
    "df[['product_price', 'count']].apply(lambda x: 5 if x['product_price'] < 1500 else 3 if (x['product_price'] >= 1500 and x['product_price'] <= 3000) else 1, axis=1).to_frame().head()"
   ]
  },
  {
   "cell_type": "code",
   "execution_count": 6495,
   "metadata": {},
   "outputs": [
    {
     "data": {
      "text/html": [
       "<div>\n",
       "<style scoped>\n",
       "    .dataframe tbody tr th:only-of-type {\n",
       "        vertical-align: middle;\n",
       "    }\n",
       "\n",
       "    .dataframe tbody tr th {\n",
       "        vertical-align: top;\n",
       "    }\n",
       "\n",
       "    .dataframe thead th {\n",
       "        text-align: right;\n",
       "    }\n",
       "</style>\n",
       "<table border=\"1\" class=\"dataframe\">\n",
       "  <thead>\n",
       "    <tr style=\"text-align: right;\">\n",
       "      <th></th>\n",
       "      <th>product_price</th>\n",
       "    </tr>\n",
       "  </thead>\n",
       "  <tbody>\n",
       "    <tr>\n",
       "      <th>0</th>\n",
       "      <td>Есть над чем подумать</td>\n",
       "    </tr>\n",
       "    <tr>\n",
       "      <th>1</th>\n",
       "      <td>Покупать</td>\n",
       "    </tr>\n",
       "    <tr>\n",
       "      <th>2</th>\n",
       "      <td>Покупать</td>\n",
       "    </tr>\n",
       "    <tr>\n",
       "      <th>3</th>\n",
       "      <td>Есть над чем подумать</td>\n",
       "    </tr>\n",
       "    <tr>\n",
       "      <th>4</th>\n",
       "      <td>Есть над чем подумать</td>\n",
       "    </tr>\n",
       "  </tbody>\n",
       "</table>\n",
       "</div>"
      ],
      "text/plain": [
       "           product_price\n",
       "0  Есть над чем подумать\n",
       "1               Покупать\n",
       "2               Покупать\n",
       "3  Есть над чем подумать\n",
       "4  Есть над чем подумать"
      ]
     },
     "execution_count": 6495,
     "metadata": {},
     "output_type": "execute_result"
    }
   ],
   "source": [
    "# Если цена товара меньше 1500, то заменить ее на строку 'Покупать', если от 1500 до 3000 включительно, то заменить на строку 'Есть над чем подумать', \n",
    "# а если больше 3000, то заменить на строку 'И думать нечего, не брать'.\n",
    "\n",
    "df['product_price'].apply(lambda x: f'Покупать' if x < 1500 else 'Есть над чем подумать' if (x >= 1500 and x <= 3000) else 'И думать нечего, не брать').to_frame().head(5)"
   ]
  },
  {
   "cell_type": "code",
   "execution_count": 6496,
   "metadata": {},
   "outputs": [
    {
     "data": {
      "text/html": [
       "<div>\n",
       "<style scoped>\n",
       "    .dataframe tbody tr th:only-of-type {\n",
       "        vertical-align: middle;\n",
       "    }\n",
       "\n",
       "    .dataframe tbody tr th {\n",
       "        vertical-align: top;\n",
       "    }\n",
       "\n",
       "    .dataframe thead th {\n",
       "        text-align: right;\n",
       "    }\n",
       "</style>\n",
       "<table border=\"1\" class=\"dataframe\">\n",
       "  <thead>\n",
       "    <tr style=\"text-align: right;\">\n",
       "      <th></th>\n",
       "      <th>product_price</th>\n",
       "    </tr>\n",
       "  </thead>\n",
       "  <tbody>\n",
       "    <tr>\n",
       "      <th>0</th>\n",
       "      <td>Есть над чем подумать</td>\n",
       "    </tr>\n",
       "    <tr>\n",
       "      <th>1</th>\n",
       "      <td>Покупать</td>\n",
       "    </tr>\n",
       "    <tr>\n",
       "      <th>2</th>\n",
       "      <td>Покупать</td>\n",
       "    </tr>\n",
       "    <tr>\n",
       "      <th>3</th>\n",
       "      <td>Есть над чем подумать</td>\n",
       "    </tr>\n",
       "    <tr>\n",
       "      <th>4</th>\n",
       "      <td>Есть над чем подумать</td>\n",
       "    </tr>\n",
       "  </tbody>\n",
       "</table>\n",
       "</div>"
      ],
      "text/plain": [
       "           product_price\n",
       "0  Есть над чем подумать\n",
       "1               Покупать\n",
       "2               Покупать\n",
       "3  Есть над чем подумать\n",
       "4  Есть над чем подумать"
      ]
     },
     "execution_count": 6496,
     "metadata": {},
     "output_type": "execute_result"
    }
   ],
   "source": [
    "df['product_price'].apply(lambda x: ['Покупать', 'Есть над чем подумать', 'И думать нечего, не брать'][(x >= 1500) + (x > 3000)]).to_frame().head()"
   ]
  },
  {
   "cell_type": "code",
   "execution_count": 6497,
   "metadata": {},
   "outputs": [
    {
     "data": {
      "text/html": [
       "<div>\n",
       "<style scoped>\n",
       "    .dataframe tbody tr th:only-of-type {\n",
       "        vertical-align: middle;\n",
       "    }\n",
       "\n",
       "    .dataframe tbody tr th {\n",
       "        vertical-align: top;\n",
       "    }\n",
       "\n",
       "    .dataframe thead th {\n",
       "        text-align: right;\n",
       "    }\n",
       "</style>\n",
       "<table border=\"1\" class=\"dataframe\">\n",
       "  <thead>\n",
       "    <tr style=\"text-align: right;\">\n",
       "      <th></th>\n",
       "      <th>buy</th>\n",
       "    </tr>\n",
       "  </thead>\n",
       "  <tbody>\n",
       "    <tr>\n",
       "      <th>0</th>\n",
       "      <td>Оплачено</td>\n",
       "    </tr>\n",
       "    <tr>\n",
       "      <th>1</th>\n",
       "      <td>Не оплачено</td>\n",
       "    </tr>\n",
       "    <tr>\n",
       "      <th>2</th>\n",
       "      <td>Оплачено</td>\n",
       "    </tr>\n",
       "    <tr>\n",
       "      <th>3</th>\n",
       "      <td>Оплачено</td>\n",
       "    </tr>\n",
       "    <tr>\n",
       "      <th>4</th>\n",
       "      <td>Не оплачено</td>\n",
       "    </tr>\n",
       "  </tbody>\n",
       "</table>\n",
       "</div>"
      ],
      "text/plain": [
       "           buy\n",
       "0     Оплачено\n",
       "1  Не оплачено\n",
       "2     Оплачено\n",
       "3     Оплачено\n",
       "4  Не оплачено"
      ]
     },
     "execution_count": 6497,
     "metadata": {},
     "output_type": "execute_result"
    }
   ],
   "source": [
    "# В столбце 'buy' значение False замените на 'Не оплачено', а значение True на 'Оплачено'.\n",
    "\n",
    "df['buy'].apply(lambda x: ['Не оплачено', 'Оплачено'][x]).to_frame().head()"
   ]
  },
  {
   "cell_type": "code",
   "execution_count": null,
   "metadata": {},
   "outputs": [],
   "source": [
    "# Реализуйте функционал, при котором можно выбирать товар для которого будет подсчитываться значение в столбце 'price'. \n",
    "# Если товар не указывать , значения в столбце 'price' будет посчитано как указано выше.\n",
    "\n",
    "# Пример:\n",
    "\n",
    "# def func(...):\n",
    "#     ...\n",
    "#     ...\n",
    "#     ...\n",
    "\n",
    "# df['price'] = df.apply(func, ..., prod='товар_1')"
   ]
  }
 ],
 "metadata": {
  "kernelspec": {
   "display_name": "base",
   "language": "python",
   "name": "python3"
  },
  "language_info": {
   "codemirror_mode": {
    "name": "ipython",
    "version": 3
   },
   "file_extension": ".py",
   "mimetype": "text/x-python",
   "name": "python",
   "nbconvert_exporter": "python",
   "pygments_lexer": "ipython3",
   "version": "3.11.10"
  }
 },
 "nbformat": 4,
 "nbformat_minor": 2
}
