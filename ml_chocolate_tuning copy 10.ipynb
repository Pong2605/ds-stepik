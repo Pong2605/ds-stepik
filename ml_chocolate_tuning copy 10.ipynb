{
 "cells": [
  {
   "cell_type": "markdown",
   "id": "9a21014b",
   "metadata": {},
   "source": [
    "<h1><b>Задача по предсказанию рейтинга шоколада"
   ]
  },
  {
   "cell_type": "markdown",
   "id": "d1ba85e3",
   "metadata": {},
   "source": [
    "<h3><b>Никнейм на Kaggle: "
   ]
  },
  {
   "cell_type": "markdown",
   "id": "e919e9b0",
   "metadata": {},
   "source": [
    "# Описание задачи"
   ]
  },
  {
   "cell_type": "code",
   "execution_count": 1,
   "id": "4b4ef540",
   "metadata": {},
   "outputs": [],
   "source": [
    "# Даны характеристики шоколадок и по ним нужно предсказать их рейтинг.\n",
    "\n",
    "# Описание данных\n",
    "# Company - компания производитель\n",
    "# Specific Bean Origin - географический регион происхождения\n",
    "# REF - параметр, определяющий момент внесения записи в базу данных (чем выше значение, тем \"свежее\" запись)\n",
    "# Review - дата публикации отзыва\n",
    "# Cocoa Percent - процентное содержание какао\n",
    "# Company Location - страна производитель\n",
    "# Rating - экспертный рейтинг\n",
    "# Bean Type - используемый сорт какао-бобов, если таковой имеется\n",
    "# Broad Bean Origin - географический регион происхождения какао-бобов\n",
    "\n",
    "# Файлы с данными\n",
    "# choco_train.csv - тренировочные данные\n",
    "# choco_test_new.csv - тестовые данные\n",
    "# choco_sample_submission.csv - пример submission"
   ]
  },
  {
   "cell_type": "markdown",
   "id": "b8029c27",
   "metadata": {},
   "source": [
    "# Импорт библиотек, константы"
   ]
  },
  {
   "cell_type": "code",
   "execution_count": 1,
   "id": "6a56350b",
   "metadata": {},
   "outputs": [],
   "source": [
    "import pandas as pd\n",
    "import numpy as np\n",
    "import matplotlib.pyplot as plt\n",
    "import seaborn as sns"
   ]
  },
  {
   "cell_type": "code",
   "execution_count": 2,
   "id": "eff28139",
   "metadata": {},
   "outputs": [],
   "source": [
    "import warnings\n",
    "warnings.filterwarnings(\"ignore\")"
   ]
  },
  {
   "cell_type": "code",
   "execution_count": 3,
   "id": "78bc245d",
   "metadata": {},
   "outputs": [],
   "source": [
    "from sklearn.preprocessing import MinMaxScaler, StandardScaler, PolynomialFeatures\n",
    "from category_encoders.ordinal import OrdinalEncoder\n",
    "from category_encoders.one_hot import OneHotEncoder\n",
    "from category_encoders.target_encoder import TargetEncoder\n",
    "from category_encoders.leave_one_out import LeaveOneOutEncoder"
   ]
  },
  {
   "cell_type": "code",
   "execution_count": 4,
   "id": "88a7517d",
   "metadata": {},
   "outputs": [],
   "source": [
    "from sklearn.linear_model import LinearRegression\n",
    "from sklearn.ensemble import RandomForestRegressor\n",
    "from catboost import CatBoostRegressor\n",
    "from xgboost import XGBRegressor\n",
    "from lightgbm import LGBMRanker, LGBMRegressor\n",
    "from sklearn.ensemble import GradientBoostingRegressor\n",
    "from sklearn.ensemble import StackingRegressor\n",
    "import optuna"
   ]
  },
  {
   "cell_type": "code",
   "execution_count": 5,
   "id": "55bbc4a3",
   "metadata": {},
   "outputs": [],
   "source": [
    "import association_metrics as am\n",
    "from sklearn.model_selection import cross_val_score, train_test_split\n",
    "from sklearn.metrics import mean_absolute_percentage_error as MAPE, mean_absolute_error as MAE, r2_score, mean_squared_error as MSE\n",
    "from scipy import stats\n",
    "\n",
    "from sklearn.pipeline import Pipeline"
   ]
  },
  {
   "cell_type": "code",
   "execution_count": 6,
   "id": "2db69993",
   "metadata": {},
   "outputs": [],
   "source": [
    "RANDOM_STATE = 42"
   ]
  },
  {
   "cell_type": "markdown",
   "id": "cac6aeca",
   "metadata": {},
   "source": [
    "# Загрузка данных"
   ]
  },
  {
   "cell_type": "code",
   "execution_count": 7,
   "id": "3c6962e2",
   "metadata": {},
   "outputs": [],
   "source": [
    "TRAIN = \"https://raw.githubusercontent.com/evgpat/edu_stepik_practical_ml/main/datasets/chocolate_train.csv\"\n",
    "TEST = \"https://raw.githubusercontent.com/evgpat/edu_stepik_practical_ml/main/datasets/chocolate_test_new.csv\"\n",
    "# TRAIN = 'data\\chocolate-rating\\chocolate_train.csv'\n",
    "# TEST = 'data\\chocolate-rating\\chocolate_test_new.csv'"
   ]
  },
  {
   "cell_type": "code",
   "execution_count": 8,
   "id": "1237b99e",
   "metadata": {},
   "outputs": [],
   "source": [
    "train_df = pd.read_csv(TRAIN)"
   ]
  },
  {
   "cell_type": "code",
   "execution_count": 9,
   "id": "531072c9",
   "metadata": {},
   "outputs": [],
   "source": [
    "test_df = pd.read_csv(TEST)"
   ]
  },
  {
   "cell_type": "markdown",
   "id": "5e49e9c7",
   "metadata": {},
   "source": [
    "# Обзор данных"
   ]
  },
  {
   "cell_type": "code",
   "execution_count": 10,
   "id": "8ab59cf6",
   "metadata": {},
   "outputs": [
    {
     "data": {
      "text/html": [
       "<div>\n",
       "<style scoped>\n",
       "    .dataframe tbody tr th:only-of-type {\n",
       "        vertical-align: middle;\n",
       "    }\n",
       "\n",
       "    .dataframe tbody tr th {\n",
       "        vertical-align: top;\n",
       "    }\n",
       "\n",
       "    .dataframe thead th {\n",
       "        text-align: right;\n",
       "    }\n",
       "</style>\n",
       "<table border=\"1\" class=\"dataframe\">\n",
       "  <thead>\n",
       "    <tr style=\"text-align: right;\">\n",
       "      <th></th>\n",
       "      <th>Company</th>\n",
       "      <th>Specific Bean Origin</th>\n",
       "      <th>REF</th>\n",
       "      <th>Review</th>\n",
       "      <th>Cocoa Percent</th>\n",
       "      <th>Company Location</th>\n",
       "      <th>Rating</th>\n",
       "      <th>Bean Type</th>\n",
       "      <th>Broad Bean Origin</th>\n",
       "    </tr>\n",
       "  </thead>\n",
       "  <tbody>\n",
       "    <tr>\n",
       "      <th>0</th>\n",
       "      <td>Willie's Cacao</td>\n",
       "      <td>Rio Caribe</td>\n",
       "      <td>457</td>\n",
       "      <td>2009</td>\n",
       "      <td>72%</td>\n",
       "      <td>U.K.</td>\n",
       "      <td>3.25</td>\n",
       "      <td>Trinitario</td>\n",
       "      <td>Venezuela</td>\n",
       "    </tr>\n",
       "    <tr>\n",
       "      <th>1</th>\n",
       "      <td>Beschle (Felchlin)</td>\n",
       "      <td>Ocumare, Premier Cru, Quizas No. 2</td>\n",
       "      <td>508</td>\n",
       "      <td>2010</td>\n",
       "      <td>72%</td>\n",
       "      <td>Switzerland</td>\n",
       "      <td>3.50</td>\n",
       "      <td></td>\n",
       "      <td>Venezuela</td>\n",
       "    </tr>\n",
       "    <tr>\n",
       "      <th>2</th>\n",
       "      <td>Dark Forest</td>\n",
       "      <td>Tanzania</td>\n",
       "      <td>1554</td>\n",
       "      <td>2015</td>\n",
       "      <td>70%</td>\n",
       "      <td>U.S.A.</td>\n",
       "      <td>3.00</td>\n",
       "      <td></td>\n",
       "      <td>Tanzania</td>\n",
       "    </tr>\n",
       "    <tr>\n",
       "      <th>3</th>\n",
       "      <td>Brasstown aka It's Chocolate</td>\n",
       "      <td>Cooproagro</td>\n",
       "      <td>1125</td>\n",
       "      <td>2013</td>\n",
       "      <td>72%</td>\n",
       "      <td>U.S.A.</td>\n",
       "      <td>3.00</td>\n",
       "      <td>Trinitario</td>\n",
       "      <td>Dominican Republic</td>\n",
       "    </tr>\n",
       "    <tr>\n",
       "      <th>4</th>\n",
       "      <td>Pralus</td>\n",
       "      <td>Java, Indonesie</td>\n",
       "      <td>32</td>\n",
       "      <td>2006</td>\n",
       "      <td>75%</td>\n",
       "      <td>France</td>\n",
       "      <td>3.50</td>\n",
       "      <td>Criollo</td>\n",
       "      <td>Indonesia</td>\n",
       "    </tr>\n",
       "  </tbody>\n",
       "</table>\n",
       "</div>"
      ],
      "text/plain": [
       "                        Company                Specific Bean Origin   REF  \\\n",
       "0                Willie's Cacao                          Rio Caribe   457   \n",
       "1            Beschle (Felchlin)  Ocumare, Premier Cru, Quizas No. 2   508   \n",
       "2                   Dark Forest                            Tanzania  1554   \n",
       "3  Brasstown aka It's Chocolate                          Cooproagro  1125   \n",
       "4                        Pralus                     Java, Indonesie    32   \n",
       "\n",
       "   Review Cocoa Percent Company Location  Rating   Bean Type  \\\n",
       "0    2009           72%             U.K.    3.25  Trinitario   \n",
       "1    2010           72%      Switzerland    3.50               \n",
       "2    2015           70%           U.S.A.    3.00               \n",
       "3    2013           72%           U.S.A.    3.00  Trinitario   \n",
       "4    2006           75%           France    3.50     Criollo   \n",
       "\n",
       "    Broad Bean Origin  \n",
       "0           Venezuela  \n",
       "1           Venezuela  \n",
       "2            Tanzania  \n",
       "3  Dominican Republic  \n",
       "4           Indonesia  "
      ]
     },
     "execution_count": 10,
     "metadata": {},
     "output_type": "execute_result"
    }
   ],
   "source": [
    "train_df.head()"
   ]
  },
  {
   "cell_type": "code",
   "execution_count": 11,
   "id": "c6103d23",
   "metadata": {},
   "outputs": [
    {
     "data": {
      "text/plain": [
       "Company                 376\n",
       "Specific Bean Origin    762\n",
       "REF                     433\n",
       "Review                   12\n",
       "Cocoa Percent            40\n",
       "Company Location         58\n",
       "Rating                   13\n",
       "Bean Type                38\n",
       "Broad Bean Origin        84\n",
       "dtype: int64"
      ]
     },
     "execution_count": 11,
     "metadata": {},
     "output_type": "execute_result"
    }
   ],
   "source": [
    "train_df.nunique()"
   ]
  },
  {
   "cell_type": "code",
   "execution_count": 12,
   "id": "007b54e4",
   "metadata": {},
   "outputs": [
    {
     "data": {
      "text/plain": [
       "(1255, 9)"
      ]
     },
     "execution_count": 12,
     "metadata": {},
     "output_type": "execute_result"
    }
   ],
   "source": [
    "train_df.shape"
   ]
  },
  {
   "cell_type": "code",
   "execution_count": 13,
   "id": "a1144077",
   "metadata": {},
   "outputs": [
    {
     "name": "stdout",
     "output_type": "stream",
     "text": [
      "<class 'pandas.core.frame.DataFrame'>\n",
      "RangeIndex: 1255 entries, 0 to 1254\n",
      "Data columns (total 9 columns):\n",
      " #   Column                Non-Null Count  Dtype  \n",
      "---  ------                --------------  -----  \n",
      " 0   Company               1255 non-null   object \n",
      " 1   Specific Bean Origin  1255 non-null   object \n",
      " 2   REF                   1255 non-null   int64  \n",
      " 3   Review                1255 non-null   int64  \n",
      " 4   Cocoa Percent         1255 non-null   object \n",
      " 5   Company Location      1255 non-null   object \n",
      " 6   Rating                1255 non-null   float64\n",
      " 7   Bean Type             1254 non-null   object \n",
      " 8   Broad Bean Origin     1254 non-null   object \n",
      "dtypes: float64(1), int64(2), object(6)\n",
      "memory usage: 88.4+ KB\n"
     ]
    }
   ],
   "source": [
    "train_df.info()"
   ]
  },
  {
   "cell_type": "code",
   "execution_count": 14,
   "id": "2b4002c3",
   "metadata": {},
   "outputs": [],
   "source": [
    "numeric_cols = train_df.select_dtypes(exclude='object').columns\n",
    "cat_cols = train_df.select_dtypes(include='object').columns"
   ]
  },
  {
   "cell_type": "code",
   "execution_count": 15,
   "id": "bc161760",
   "metadata": {},
   "outputs": [
    {
     "data": {
      "text/html": [
       "<div>\n",
       "<style scoped>\n",
       "    .dataframe tbody tr th:only-of-type {\n",
       "        vertical-align: middle;\n",
       "    }\n",
       "\n",
       "    .dataframe tbody tr th {\n",
       "        vertical-align: top;\n",
       "    }\n",
       "\n",
       "    .dataframe thead th {\n",
       "        text-align: right;\n",
       "    }\n",
       "</style>\n",
       "<table border=\"1\" class=\"dataframe\">\n",
       "  <thead>\n",
       "    <tr style=\"text-align: right;\">\n",
       "      <th></th>\n",
       "      <th>REF</th>\n",
       "      <th>Review</th>\n",
       "      <th>Rating</th>\n",
       "    </tr>\n",
       "  </thead>\n",
       "  <tbody>\n",
       "    <tr>\n",
       "      <th>count</th>\n",
       "      <td>1255.000000</td>\n",
       "      <td>1255.000000</td>\n",
       "      <td>1255.000000</td>\n",
       "    </tr>\n",
       "    <tr>\n",
       "      <th>mean</th>\n",
       "      <td>1045.152191</td>\n",
       "      <td>2012.382470</td>\n",
       "      <td>3.176494</td>\n",
       "    </tr>\n",
       "    <tr>\n",
       "      <th>std</th>\n",
       "      <td>551.284249</td>\n",
       "      <td>2.922499</td>\n",
       "      <td>0.478948</td>\n",
       "    </tr>\n",
       "    <tr>\n",
       "      <th>min</th>\n",
       "      <td>5.000000</td>\n",
       "      <td>2006.000000</td>\n",
       "      <td>1.000000</td>\n",
       "    </tr>\n",
       "    <tr>\n",
       "      <th>25%</th>\n",
       "      <td>593.000000</td>\n",
       "      <td>2010.000000</td>\n",
       "      <td>2.750000</td>\n",
       "    </tr>\n",
       "    <tr>\n",
       "      <th>50%</th>\n",
       "      <td>1077.000000</td>\n",
       "      <td>2013.000000</td>\n",
       "      <td>3.250000</td>\n",
       "    </tr>\n",
       "    <tr>\n",
       "      <th>75%</th>\n",
       "      <td>1514.000000</td>\n",
       "      <td>2015.000000</td>\n",
       "      <td>3.500000</td>\n",
       "    </tr>\n",
       "    <tr>\n",
       "      <th>max</th>\n",
       "      <td>1952.000000</td>\n",
       "      <td>2017.000000</td>\n",
       "      <td>5.000000</td>\n",
       "    </tr>\n",
       "  </tbody>\n",
       "</table>\n",
       "</div>"
      ],
      "text/plain": [
       "               REF       Review       Rating\n",
       "count  1255.000000  1255.000000  1255.000000\n",
       "mean   1045.152191  2012.382470     3.176494\n",
       "std     551.284249     2.922499     0.478948\n",
       "min       5.000000  2006.000000     1.000000\n",
       "25%     593.000000  2010.000000     2.750000\n",
       "50%    1077.000000  2013.000000     3.250000\n",
       "75%    1514.000000  2015.000000     3.500000\n",
       "max    1952.000000  2017.000000     5.000000"
      ]
     },
     "execution_count": 15,
     "metadata": {},
     "output_type": "execute_result"
    }
   ],
   "source": [
    "train_df.describe()"
   ]
  },
  {
   "cell_type": "code",
   "execution_count": 16,
   "id": "ca38a517",
   "metadata": {},
   "outputs": [
    {
     "data": {
      "text/html": [
       "<div>\n",
       "<style scoped>\n",
       "    .dataframe tbody tr th:only-of-type {\n",
       "        vertical-align: middle;\n",
       "    }\n",
       "\n",
       "    .dataframe tbody tr th {\n",
       "        vertical-align: top;\n",
       "    }\n",
       "\n",
       "    .dataframe thead th {\n",
       "        text-align: right;\n",
       "    }\n",
       "</style>\n",
       "<table border=\"1\" class=\"dataframe\">\n",
       "  <thead>\n",
       "    <tr style=\"text-align: right;\">\n",
       "      <th></th>\n",
       "      <th>Company</th>\n",
       "      <th>Specific Bean Origin</th>\n",
       "      <th>Cocoa Percent</th>\n",
       "      <th>Company Location</th>\n",
       "      <th>Bean Type</th>\n",
       "      <th>Broad Bean Origin</th>\n",
       "    </tr>\n",
       "  </thead>\n",
       "  <tbody>\n",
       "    <tr>\n",
       "      <th>count</th>\n",
       "      <td>1255</td>\n",
       "      <td>1255</td>\n",
       "      <td>1255</td>\n",
       "      <td>1255</td>\n",
       "      <td>1254</td>\n",
       "      <td>1254</td>\n",
       "    </tr>\n",
       "    <tr>\n",
       "      <th>unique</th>\n",
       "      <td>376</td>\n",
       "      <td>762</td>\n",
       "      <td>40</td>\n",
       "      <td>58</td>\n",
       "      <td>38</td>\n",
       "      <td>84</td>\n",
       "    </tr>\n",
       "    <tr>\n",
       "      <th>top</th>\n",
       "      <td>Soma</td>\n",
       "      <td>Madagascar</td>\n",
       "      <td>70%</td>\n",
       "      <td>U.S.A.</td>\n",
       "      <td></td>\n",
       "      <td>Venezuela</td>\n",
       "    </tr>\n",
       "    <tr>\n",
       "      <th>freq</th>\n",
       "      <td>35</td>\n",
       "      <td>39</td>\n",
       "      <td>461</td>\n",
       "      <td>521</td>\n",
       "      <td>628</td>\n",
       "      <td>144</td>\n",
       "    </tr>\n",
       "  </tbody>\n",
       "</table>\n",
       "</div>"
      ],
      "text/plain": [
       "       Company Specific Bean Origin Cocoa Percent Company Location Bean Type  \\\n",
       "count     1255                 1255          1255             1255      1254   \n",
       "unique     376                  762            40               58        38   \n",
       "top       Soma           Madagascar           70%           U.S.A.             \n",
       "freq        35                   39           461              521       628   \n",
       "\n",
       "       Broad Bean Origin  \n",
       "count               1254  \n",
       "unique                84  \n",
       "top            Venezuela  \n",
       "freq                 144  "
      ]
     },
     "execution_count": 16,
     "metadata": {},
     "output_type": "execute_result"
    }
   ],
   "source": [
    "train_df[cat_cols].describe()"
   ]
  },
  {
   "cell_type": "code",
   "execution_count": 17,
   "id": "a2908211",
   "metadata": {},
   "outputs": [
    {
     "data": {
      "text/plain": [
       "'\\xa0'"
      ]
     },
     "execution_count": 17,
     "metadata": {},
     "output_type": "execute_result"
    }
   ],
   "source": [
    "train_df['Bean Type'].describe().top"
   ]
  },
  {
   "cell_type": "code",
   "execution_count": 18,
   "id": "22e708c1",
   "metadata": {},
   "outputs": [
    {
     "data": {
      "text/plain": [
       "Company                   0\n",
       "Specific Bean Origin      0\n",
       "REF                       0\n",
       "Review                    0\n",
       "Cocoa Percent             0\n",
       "Company Location          0\n",
       "Rating                    0\n",
       "Bean Type               628\n",
       "Broad Bean Origin        55\n",
       "dtype: int64"
      ]
     },
     "execution_count": 18,
     "metadata": {},
     "output_type": "execute_result"
    }
   ],
   "source": [
    "(train_df == '\\xa0').sum()"
   ]
  },
  {
   "cell_type": "code",
   "execution_count": 19,
   "id": "0895f1ee",
   "metadata": {},
   "outputs": [
    {
     "data": {
      "text/plain": [
       "762"
      ]
     },
     "execution_count": 19,
     "metadata": {},
     "output_type": "execute_result"
    }
   ],
   "source": [
    "train_df['Specific Bean Origin'].nunique()"
   ]
  },
  {
   "cell_type": "code",
   "execution_count": 20,
   "id": "487896ce",
   "metadata": {},
   "outputs": [
    {
     "data": {
      "image/png": "[encoded data removed]",
      "text/plain": [
       "<Figure size 640x480 with 1 Axes>"
      ]
     },
     "metadata": {},
     "output_type": "display_data"
    }
   ],
   "source": [
    "plt.hist(train_df['Rating'], bins=12)\n",
    "plt.title('Распределение целевой переменной')\n",
    "plt.xlabel('Rating')\n",
    "plt.ylabel('Quantity')\n",
    "plt.show();"
   ]
  },
  {
   "cell_type": "code",
   "execution_count": 21,
   "id": "b441b4c6",
   "metadata": {},
   "outputs": [],
   "source": [
    "test_df = train_df[['Company', 'Rating']].groupby('Rating').agg({'Company': 'count'}).sort_values('Rating')"
   ]
  },
  {
   "cell_type": "code",
   "execution_count": 22,
   "id": "fca58dc5",
   "metadata": {},
   "outputs": [
    {
     "data": {
      "image/png": "[encoded data removed]",
      "text/plain": [
       "<Figure size 640x480 with 1 Axes>"
      ]
     },
     "metadata": {},
     "output_type": "display_data"
    }
   ],
   "source": [
    "plt.plot(test_df)\n",
    "plt.title('Распределение целевой переменной')\n",
    "plt.xlabel('Rating')\n",
    "plt.ylabel('Quantity')\n",
    "plt.show();"
   ]
  },
  {
   "cell_type": "markdown",
   "id": "f4691f14",
   "metadata": {},
   "source": [
    "Промежуточный вывод: <br>"
   ]
  },
  {
   "cell_type": "markdown",
   "id": "fb071ce5",
   "metadata": {},
   "source": [
    "# Обработка пропусков и выбросов"
   ]
  },
  {
   "cell_type": "markdown",
   "id": "379dee7a",
   "metadata": {},
   "source": [
    "## Обработка пропусков"
   ]
  },
  {
   "cell_type": "code",
   "execution_count": 23,
   "id": "83f65905",
   "metadata": {},
   "outputs": [],
   "source": [
    "train_df = train_df.replace('\\xa0', np.NaN)"
   ]
  },
  {
   "cell_type": "code",
   "execution_count": 24,
   "id": "596324b4",
   "metadata": {},
   "outputs": [
    {
     "data": {
      "text/html": [
       "<div>\n",
       "<style scoped>\n",
       "    .dataframe tbody tr th:only-of-type {\n",
       "        vertical-align: middle;\n",
       "    }\n",
       "\n",
       "    .dataframe tbody tr th {\n",
       "        vertical-align: top;\n",
       "    }\n",
       "\n",
       "    .dataframe thead th {\n",
       "        text-align: right;\n",
       "    }\n",
       "</style>\n",
       "<table border=\"1\" class=\"dataframe\">\n",
       "  <thead>\n",
       "    <tr style=\"text-align: right;\">\n",
       "      <th></th>\n",
       "      <th>Company</th>\n",
       "      <th>Specific Bean Origin</th>\n",
       "      <th>Cocoa Percent</th>\n",
       "      <th>Company Location</th>\n",
       "      <th>Bean Type</th>\n",
       "      <th>Broad Bean Origin</th>\n",
       "    </tr>\n",
       "  </thead>\n",
       "  <tbody>\n",
       "    <tr>\n",
       "      <th>count</th>\n",
       "      <td>1255</td>\n",
       "      <td>1255</td>\n",
       "      <td>1255</td>\n",
       "      <td>1255</td>\n",
       "      <td>626</td>\n",
       "      <td>1199</td>\n",
       "    </tr>\n",
       "    <tr>\n",
       "      <th>unique</th>\n",
       "      <td>376</td>\n",
       "      <td>762</td>\n",
       "      <td>40</td>\n",
       "      <td>58</td>\n",
       "      <td>37</td>\n",
       "      <td>83</td>\n",
       "    </tr>\n",
       "    <tr>\n",
       "      <th>top</th>\n",
       "      <td>Soma</td>\n",
       "      <td>Madagascar</td>\n",
       "      <td>70%</td>\n",
       "      <td>U.S.A.</td>\n",
       "      <td>Trinitario</td>\n",
       "      <td>Venezuela</td>\n",
       "    </tr>\n",
       "    <tr>\n",
       "      <th>freq</th>\n",
       "      <td>35</td>\n",
       "      <td>39</td>\n",
       "      <td>461</td>\n",
       "      <td>521</td>\n",
       "      <td>285</td>\n",
       "      <td>144</td>\n",
       "    </tr>\n",
       "  </tbody>\n",
       "</table>\n",
       "</div>"
      ],
      "text/plain": [
       "       Company Specific Bean Origin Cocoa Percent Company Location  \\\n",
       "count     1255                 1255          1255             1255   \n",
       "unique     376                  762            40               58   \n",
       "top       Soma           Madagascar           70%           U.S.A.   \n",
       "freq        35                   39           461              521   \n",
       "\n",
       "         Bean Type Broad Bean Origin  \n",
       "count          626              1199  \n",
       "unique          37                83  \n",
       "top     Trinitario         Venezuela  \n",
       "freq           285               144  "
      ]
     },
     "execution_count": 24,
     "metadata": {},
     "output_type": "execute_result"
    }
   ],
   "source": [
    "train_df[cat_cols].describe()"
   ]
  },
  {
   "cell_type": "code",
   "execution_count": 25,
   "id": "6b4f686c",
   "metadata": {},
   "outputs": [
    {
     "data": {
      "text/plain": [
       "Company                   0\n",
       "Specific Bean Origin      0\n",
       "REF                       0\n",
       "Review                    0\n",
       "Cocoa Percent             0\n",
       "Company Location          0\n",
       "Rating                    0\n",
       "Bean Type               629\n",
       "Broad Bean Origin        56\n",
       "dtype: int64"
      ]
     },
     "execution_count": 25,
     "metadata": {},
     "output_type": "execute_result"
    }
   ],
   "source": [
    "train_df.isna().sum()"
   ]
  },
  {
   "cell_type": "markdown",
   "id": "5e5d0dfd",
   "metadata": {},
   "source": [
    "## Обработка выбросов"
   ]
  },
  {
   "cell_type": "markdown",
   "id": "01a0d480",
   "metadata": {},
   "source": [
    "# Построение новых признаков"
   ]
  },
  {
   "cell_type": "code",
   "execution_count": 26,
   "id": "1a0d304f",
   "metadata": {},
   "outputs": [
    {
     "data": {
      "text/html": [
       "<div>\n",
       "<style scoped>\n",
       "    .dataframe tbody tr th:only-of-type {\n",
       "        vertical-align: middle;\n",
       "    }\n",
       "\n",
       "    .dataframe tbody tr th {\n",
       "        vertical-align: top;\n",
       "    }\n",
       "\n",
       "    .dataframe thead th {\n",
       "        text-align: right;\n",
       "    }\n",
       "</style>\n",
       "<table border=\"1\" class=\"dataframe\">\n",
       "  <thead>\n",
       "    <tr style=\"text-align: right;\">\n",
       "      <th></th>\n",
       "      <th>Company</th>\n",
       "      <th>Specific Bean Origin</th>\n",
       "      <th>REF</th>\n",
       "      <th>Review</th>\n",
       "      <th>Cocoa Percent</th>\n",
       "      <th>Company Location</th>\n",
       "      <th>Rating</th>\n",
       "      <th>Bean Type</th>\n",
       "      <th>Broad Bean Origin</th>\n",
       "    </tr>\n",
       "  </thead>\n",
       "  <tbody>\n",
       "    <tr>\n",
       "      <th>0</th>\n",
       "      <td>Willie's Cacao</td>\n",
       "      <td>Rio Caribe</td>\n",
       "      <td>457</td>\n",
       "      <td>2009</td>\n",
       "      <td>72%</td>\n",
       "      <td>U.K.</td>\n",
       "      <td>3.25</td>\n",
       "      <td>Trinitario</td>\n",
       "      <td>Venezuela</td>\n",
       "    </tr>\n",
       "    <tr>\n",
       "      <th>1</th>\n",
       "      <td>Beschle (Felchlin)</td>\n",
       "      <td>Ocumare, Premier Cru, Quizas No. 2</td>\n",
       "      <td>508</td>\n",
       "      <td>2010</td>\n",
       "      <td>72%</td>\n",
       "      <td>Switzerland</td>\n",
       "      <td>3.50</td>\n",
       "      <td>NaN</td>\n",
       "      <td>Venezuela</td>\n",
       "    </tr>\n",
       "    <tr>\n",
       "      <th>2</th>\n",
       "      <td>Dark Forest</td>\n",
       "      <td>Tanzania</td>\n",
       "      <td>1554</td>\n",
       "      <td>2015</td>\n",
       "      <td>70%</td>\n",
       "      <td>U.S.A.</td>\n",
       "      <td>3.00</td>\n",
       "      <td>NaN</td>\n",
       "      <td>Tanzania</td>\n",
       "    </tr>\n",
       "    <tr>\n",
       "      <th>3</th>\n",
       "      <td>Brasstown aka It's Chocolate</td>\n",
       "      <td>Cooproagro</td>\n",
       "      <td>1125</td>\n",
       "      <td>2013</td>\n",
       "      <td>72%</td>\n",
       "      <td>U.S.A.</td>\n",
       "      <td>3.00</td>\n",
       "      <td>Trinitario</td>\n",
       "      <td>Dominican Republic</td>\n",
       "    </tr>\n",
       "    <tr>\n",
       "      <th>4</th>\n",
       "      <td>Pralus</td>\n",
       "      <td>Java, Indonesie</td>\n",
       "      <td>32</td>\n",
       "      <td>2006</td>\n",
       "      <td>75%</td>\n",
       "      <td>France</td>\n",
       "      <td>3.50</td>\n",
       "      <td>Criollo</td>\n",
       "      <td>Indonesia</td>\n",
       "    </tr>\n",
       "  </tbody>\n",
       "</table>\n",
       "</div>"
      ],
      "text/plain": [
       "                        Company                Specific Bean Origin   REF  \\\n",
       "0                Willie's Cacao                          Rio Caribe   457   \n",
       "1            Beschle (Felchlin)  Ocumare, Premier Cru, Quizas No. 2   508   \n",
       "2                   Dark Forest                            Tanzania  1554   \n",
       "3  Brasstown aka It's Chocolate                          Cooproagro  1125   \n",
       "4                        Pralus                     Java, Indonesie    32   \n",
       "\n",
       "   Review Cocoa Percent Company Location  Rating   Bean Type  \\\n",
       "0    2009           72%             U.K.    3.25  Trinitario   \n",
       "1    2010           72%      Switzerland    3.50         NaN   \n",
       "2    2015           70%           U.S.A.    3.00         NaN   \n",
       "3    2013           72%           U.S.A.    3.00  Trinitario   \n",
       "4    2006           75%           France    3.50     Criollo   \n",
       "\n",
       "    Broad Bean Origin  \n",
       "0           Venezuela  \n",
       "1           Venezuela  \n",
       "2            Tanzania  \n",
       "3  Dominican Republic  \n",
       "4           Indonesia  "
      ]
     },
     "execution_count": 26,
     "metadata": {},
     "output_type": "execute_result"
    }
   ],
   "source": [
    "train_df.head()"
   ]
  },
  {
   "cell_type": "code",
   "execution_count": 27,
   "id": "195a48df",
   "metadata": {},
   "outputs": [],
   "source": [
    "arr = sorted(pd.cut(train_df['REF'], 12 * 2).unique())"
   ]
  },
  {
   "cell_type": "code",
   "execution_count": 28,
   "id": "11118d05",
   "metadata": {},
   "outputs": [],
   "source": [
    "train_df['REF'] = pd.cut(train_df['REF'], 12 * 2, labels=range(12 * 2))"
   ]
  },
  {
   "cell_type": "code",
   "execution_count": 29,
   "id": "de279880",
   "metadata": {},
   "outputs": [
    {
     "data": {
      "text/html": [
       "<div>\n",
       "<style scoped>\n",
       "    .dataframe tbody tr th:only-of-type {\n",
       "        vertical-align: middle;\n",
       "    }\n",
       "\n",
       "    .dataframe tbody tr th {\n",
       "        vertical-align: top;\n",
       "    }\n",
       "\n",
       "    .dataframe thead th {\n",
       "        text-align: right;\n",
       "    }\n",
       "</style>\n",
       "<table border=\"1\" class=\"dataframe\">\n",
       "  <thead>\n",
       "    <tr style=\"text-align: right;\">\n",
       "      <th></th>\n",
       "      <th>Company</th>\n",
       "      <th>Specific Bean Origin</th>\n",
       "      <th>REF</th>\n",
       "      <th>Review</th>\n",
       "      <th>Cocoa Percent</th>\n",
       "      <th>Company Location</th>\n",
       "      <th>Rating</th>\n",
       "      <th>Bean Type</th>\n",
       "      <th>Broad Bean Origin</th>\n",
       "    </tr>\n",
       "  </thead>\n",
       "  <tbody>\n",
       "    <tr>\n",
       "      <th>0</th>\n",
       "      <td>Willie's Cacao</td>\n",
       "      <td>Rio Caribe</td>\n",
       "      <td>5</td>\n",
       "      <td>2009</td>\n",
       "      <td>72%</td>\n",
       "      <td>U.K.</td>\n",
       "      <td>3.25</td>\n",
       "      <td>Trinitario</td>\n",
       "      <td>Venezuela</td>\n",
       "    </tr>\n",
       "    <tr>\n",
       "      <th>1</th>\n",
       "      <td>Beschle (Felchlin)</td>\n",
       "      <td>Ocumare, Premier Cru, Quizas No. 2</td>\n",
       "      <td>6</td>\n",
       "      <td>2010</td>\n",
       "      <td>72%</td>\n",
       "      <td>Switzerland</td>\n",
       "      <td>3.50</td>\n",
       "      <td>NaN</td>\n",
       "      <td>Venezuela</td>\n",
       "    </tr>\n",
       "    <tr>\n",
       "      <th>2</th>\n",
       "      <td>Dark Forest</td>\n",
       "      <td>Tanzania</td>\n",
       "      <td>19</td>\n",
       "      <td>2015</td>\n",
       "      <td>70%</td>\n",
       "      <td>U.S.A.</td>\n",
       "      <td>3.00</td>\n",
       "      <td>NaN</td>\n",
       "      <td>Tanzania</td>\n",
       "    </tr>\n",
       "    <tr>\n",
       "      <th>3</th>\n",
       "      <td>Brasstown aka It's Chocolate</td>\n",
       "      <td>Cooproagro</td>\n",
       "      <td>13</td>\n",
       "      <td>2013</td>\n",
       "      <td>72%</td>\n",
       "      <td>U.S.A.</td>\n",
       "      <td>3.00</td>\n",
       "      <td>Trinitario</td>\n",
       "      <td>Dominican Republic</td>\n",
       "    </tr>\n",
       "    <tr>\n",
       "      <th>4</th>\n",
       "      <td>Pralus</td>\n",
       "      <td>Java, Indonesie</td>\n",
       "      <td>0</td>\n",
       "      <td>2006</td>\n",
       "      <td>75%</td>\n",
       "      <td>France</td>\n",
       "      <td>3.50</td>\n",
       "      <td>Criollo</td>\n",
       "      <td>Indonesia</td>\n",
       "    </tr>\n",
       "  </tbody>\n",
       "</table>\n",
       "</div>"
      ],
      "text/plain": [
       "                        Company                Specific Bean Origin REF  \\\n",
       "0                Willie's Cacao                          Rio Caribe   5   \n",
       "1            Beschle (Felchlin)  Ocumare, Premier Cru, Quizas No. 2   6   \n",
       "2                   Dark Forest                            Tanzania  19   \n",
       "3  Brasstown aka It's Chocolate                          Cooproagro  13   \n",
       "4                        Pralus                     Java, Indonesie   0   \n",
       "\n",
       "   Review Cocoa Percent Company Location  Rating   Bean Type  \\\n",
       "0    2009           72%             U.K.    3.25  Trinitario   \n",
       "1    2010           72%      Switzerland    3.50         NaN   \n",
       "2    2015           70%           U.S.A.    3.00         NaN   \n",
       "3    2013           72%           U.S.A.    3.00  Trinitario   \n",
       "4    2006           75%           France    3.50     Criollo   \n",
       "\n",
       "    Broad Bean Origin  \n",
       "0           Venezuela  \n",
       "1           Venezuela  \n",
       "2            Tanzania  \n",
       "3  Dominican Republic  \n",
       "4           Indonesia  "
      ]
     },
     "execution_count": 29,
     "metadata": {},
     "output_type": "execute_result"
    }
   ],
   "source": [
    "train_df.head()"
   ]
  },
  {
   "cell_type": "code",
   "execution_count": 30,
   "id": "41adc52e",
   "metadata": {},
   "outputs": [
    {
     "data": {
      "text/html": [
       "<div>\n",
       "<style scoped>\n",
       "    .dataframe tbody tr th:only-of-type {\n",
       "        vertical-align: middle;\n",
       "    }\n",
       "\n",
       "    .dataframe tbody tr th {\n",
       "        vertical-align: top;\n",
       "    }\n",
       "\n",
       "    .dataframe thead th {\n",
       "        text-align: right;\n",
       "    }\n",
       "</style>\n",
       "<table border=\"1\" class=\"dataframe\">\n",
       "  <thead>\n",
       "    <tr style=\"text-align: right;\">\n",
       "      <th></th>\n",
       "      <th>Company</th>\n",
       "      <th>Specific Bean Origin</th>\n",
       "      <th>REF</th>\n",
       "      <th>Cocoa Percent</th>\n",
       "      <th>Company Location</th>\n",
       "      <th>Bean Type</th>\n",
       "      <th>Broad Bean Origin</th>\n",
       "      <th>Rating_cat</th>\n",
       "    </tr>\n",
       "  </thead>\n",
       "  <tbody>\n",
       "    <tr>\n",
       "      <th>Company</th>\n",
       "      <td>1.000000</td>\n",
       "      <td>0.771074</td>\n",
       "      <td>0.737806</td>\n",
       "      <td>0.631564</td>\n",
       "      <td>0.999651</td>\n",
       "      <td>0.699234</td>\n",
       "      <td>0.606780</td>\n",
       "      <td>0.592212</td>\n",
       "    </tr>\n",
       "    <tr>\n",
       "      <th>Specific Bean Origin</th>\n",
       "      <td>0.771074</td>\n",
       "      <td>1.000000</td>\n",
       "      <td>0.801503</td>\n",
       "      <td>0.772975</td>\n",
       "      <td>0.808500</td>\n",
       "      <td>0.945435</td>\n",
       "      <td>0.986510</td>\n",
       "      <td>0.758291</td>\n",
       "    </tr>\n",
       "    <tr>\n",
       "      <th>REF</th>\n",
       "      <td>0.737806</td>\n",
       "      <td>0.801503</td>\n",
       "      <td>1.000000</td>\n",
       "      <td>0.200624</td>\n",
       "      <td>0.327525</td>\n",
       "      <td>0.278307</td>\n",
       "      <td>0.300258</td>\n",
       "      <td>0.172818</td>\n",
       "    </tr>\n",
       "    <tr>\n",
       "      <th>Cocoa Percent</th>\n",
       "      <td>0.631564</td>\n",
       "      <td>0.772975</td>\n",
       "      <td>0.200624</td>\n",
       "      <td>1.000000</td>\n",
       "      <td>0.243803</td>\n",
       "      <td>0.209584</td>\n",
       "      <td>0.273609</td>\n",
       "      <td>0.238551</td>\n",
       "    </tr>\n",
       "    <tr>\n",
       "      <th>Company Location</th>\n",
       "      <td>0.999651</td>\n",
       "      <td>0.808500</td>\n",
       "      <td>0.327525</td>\n",
       "      <td>0.243803</td>\n",
       "      <td>1.000000</td>\n",
       "      <td>0.335082</td>\n",
       "      <td>0.384231</td>\n",
       "      <td>0.227523</td>\n",
       "    </tr>\n",
       "    <tr>\n",
       "      <th>Bean Type</th>\n",
       "      <td>0.699234</td>\n",
       "      <td>0.945435</td>\n",
       "      <td>0.278307</td>\n",
       "      <td>0.209584</td>\n",
       "      <td>0.335082</td>\n",
       "      <td>1.000000</td>\n",
       "      <td>0.460058</td>\n",
       "      <td>0.220318</td>\n",
       "    </tr>\n",
       "    <tr>\n",
       "      <th>Broad Bean Origin</th>\n",
       "      <td>0.606780</td>\n",
       "      <td>0.986510</td>\n",
       "      <td>0.300258</td>\n",
       "      <td>0.273609</td>\n",
       "      <td>0.384231</td>\n",
       "      <td>0.460058</td>\n",
       "      <td>1.000000</td>\n",
       "      <td>0.238467</td>\n",
       "    </tr>\n",
       "    <tr>\n",
       "      <th>Rating_cat</th>\n",
       "      <td>0.592212</td>\n",
       "      <td>0.758291</td>\n",
       "      <td>0.172818</td>\n",
       "      <td>0.238551</td>\n",
       "      <td>0.227523</td>\n",
       "      <td>0.220318</td>\n",
       "      <td>0.238467</td>\n",
       "      <td>1.000000</td>\n",
       "    </tr>\n",
       "  </tbody>\n",
       "</table>\n",
       "</div>"
      ],
      "text/plain": [
       "                       Company  Specific Bean Origin       REF  Cocoa Percent  \\\n",
       "Company               1.000000              0.771074  0.737806       0.631564   \n",
       "Specific Bean Origin  0.771074              1.000000  0.801503       0.772975   \n",
       "REF                   0.737806              0.801503  1.000000       0.200624   \n",
       "Cocoa Percent         0.631564              0.772975  0.200624       1.000000   \n",
       "Company Location      0.999651              0.808500  0.327525       0.243803   \n",
       "Bean Type             0.699234              0.945435  0.278307       0.209584   \n",
       "Broad Bean Origin     0.606780              0.986510  0.300258       0.273609   \n",
       "Rating_cat            0.592212              0.758291  0.172818       0.238551   \n",
       "\n",
       "                      Company Location  Bean Type  Broad Bean Origin  \\\n",
       "Company                       0.999651   0.699234           0.606780   \n",
       "Specific Bean Origin          0.808500   0.945435           0.986510   \n",
       "REF                           0.327525   0.278307           0.300258   \n",
       "Cocoa Percent                 0.243803   0.209584           0.273609   \n",
       "Company Location              1.000000   0.335082           0.384231   \n",
       "Bean Type                     0.335082   1.000000           0.460058   \n",
       "Broad Bean Origin             0.384231   0.460058           1.000000   \n",
       "Rating_cat                    0.227523   0.220318           0.238467   \n",
       "\n",
       "                      Rating_cat  \n",
       "Company                 0.592212  \n",
       "Specific Bean Origin    0.758291  \n",
       "REF                     0.172818  \n",
       "Cocoa Percent           0.238551  \n",
       "Company Location        0.227523  \n",
       "Bean Type               0.220318  \n",
       "Broad Bean Origin       0.238467  \n",
       "Rating_cat              1.000000  "
      ]
     },
     "execution_count": 30,
     "metadata": {},
     "output_type": "execute_result"
    }
   ],
   "source": [
    "cat_cols = train_df.select_dtypes(include='object').columns\n",
    "\n",
    "train_df[cat_cols] = train_df[cat_cols].astype('category')\n",
    "train_df['Rating_cat'] = train_df['Rating'].astype('category')\n",
    "cramersv = am.CramersV(train_df)\n",
    "cat_cor = cramersv.fit()\n",
    "cat_cor"
   ]
  },
  {
   "cell_type": "markdown",
   "id": "3c137bf9",
   "metadata": {},
   "source": [
    "Заполнение пропусков в колонках 'Bean Type' и 'Broad Bean Origin' <br> на самое часто встречающееся значения соответсвующих столбцов <br> при группировке с наиболее коррелируемыми столбцами"
   ]
  },
  {
   "cell_type": "code",
   "execution_count": 31,
   "id": "13edc072",
   "metadata": {},
   "outputs": [],
   "source": [
    "df_clean = train_df.copy()\n",
    "df_clean = df_clean.drop('Rating_cat', axis=1)\n",
    "df_clean = df_clean.apply(lambda x: x.astype('object') if x.dtype == 'category' else x)"
   ]
  },
  {
   "cell_type": "code",
   "execution_count": 32,
   "id": "5243e02c",
   "metadata": {},
   "outputs": [],
   "source": [
    "def select_top3_corr_cols(col):\n",
    "    select_df = cat_cor.drop('Rating_cat', axis=0).drop('Rating_cat', axis=1)[col].sort_values(ascending=False)\n",
    "    return select_df[1:].index.to_list()"
   ]
  },
  {
   "cell_type": "code",
   "execution_count": 33,
   "id": "3f1bb9c3",
   "metadata": {},
   "outputs": [],
   "source": [
    "def create_merged_df(col_in, col_on):\n",
    "    df_pivot = pd.pivot_table(df_clean,\n",
    "                                    index=col_on,\n",
    "                                    values=col_in,\n",
    "                                    aggfunc=lambda x: str(x.mode().values).strip(\"[\").strip(\"]\").split(',')[0].split(\"' '\")[0].strip(\"'\")) \\\n",
    "                                    .reset_index()\n",
    "    merged_df = pd.merge(df_clean, df_pivot, on=col_on, how='left')\n",
    "    return merged_df"
   ]
  },
  {
   "cell_type": "code",
   "execution_count": 34,
   "id": "dc460cc6",
   "metadata": {},
   "outputs": [],
   "source": [
    "def fill_row(row, col_in):\n",
    "    if row[f'{col_in}_x'] is np.NaN:\n",
    "        value = row[f'{col_in}_y']\n",
    "        if value != '':\n",
    "            return row[f'{col_in}_y']\n",
    "        return np.NaN\n",
    "    return row[f'{col_in}_x']"
   ]
  },
  {
   "cell_type": "code",
   "execution_count": 35,
   "id": "e77c8886",
   "metadata": {},
   "outputs": [],
   "source": [
    "def fill_rows(df_clean, col_in):\n",
    "    df_clean[f'{col_in}_x'] = df_clean.apply(lambda row: fill_row(row, col_in), axis=1)\n",
    "\n",
    "    df_clean = df_clean.drop(f'{col_in}_y', axis=1)\n",
    "    df_clean = df_clean.rename(columns={f'{col_in}_x': col_in})\n",
    "    return df_clean"
   ]
  },
  {
   "cell_type": "code",
   "execution_count": 36,
   "id": "ca42614f",
   "metadata": {},
   "outputs": [],
   "source": [
    "def cleaned_df(df_clean, col_in):\n",
    "    selected_cols = select_top3_corr_cols(col_in)\n",
    "    for col_on in selected_cols:\n",
    "        df_clean = create_merged_df(col_in, col_on)\n",
    "        df_clean = fill_rows(df_clean, col_in)\n",
    "    return df_clean"
   ]
  },
  {
   "cell_type": "code",
   "execution_count": 37,
   "id": "70d54f0c",
   "metadata": {},
   "outputs": [],
   "source": [
    "col_in = 'Bean Type'\n",
    "train_df_clean = cleaned_df(df_clean, col_in)"
   ]
  },
  {
   "cell_type": "code",
   "execution_count": 38,
   "id": "c5d909d2",
   "metadata": {},
   "outputs": [],
   "source": [
    "df_clean = train_df_clean.copy()\n",
    "col_in = 'Broad Bean Origin'\n",
    "train_df_clean = cleaned_df(df_clean, col_in)"
   ]
  },
  {
   "cell_type": "code",
   "execution_count": 39,
   "id": "5504e85b",
   "metadata": {},
   "outputs": [
    {
     "data": {
      "text/plain": [
       "Company                   0\n",
       "Specific Bean Origin      0\n",
       "REF                       0\n",
       "Review                    0\n",
       "Cocoa Percent             0\n",
       "Company Location          0\n",
       "Rating                    0\n",
       "Bean Type               629\n",
       "Broad Bean Origin        56\n",
       "Rating_cat                0\n",
       "dtype: int64"
      ]
     },
     "execution_count": 39,
     "metadata": {},
     "output_type": "execute_result"
    }
   ],
   "source": [
    "train_df.isna().sum()"
   ]
  },
  {
   "cell_type": "code",
   "execution_count": 40,
   "id": "c25921a7",
   "metadata": {},
   "outputs": [
    {
     "data": {
      "text/plain": [
       "Company                 0\n",
       "Specific Bean Origin    0\n",
       "REF                     0\n",
       "Review                  0\n",
       "Cocoa Percent           0\n",
       "Company Location        0\n",
       "Rating                  0\n",
       "Bean Type               6\n",
       "Broad Bean Origin       1\n",
       "dtype: int64"
      ]
     },
     "execution_count": 40,
     "metadata": {},
     "output_type": "execute_result"
    }
   ],
   "source": [
    "train_df_clean.isna().sum()"
   ]
  },
  {
   "cell_type": "code",
   "execution_count": 41,
   "id": "d091d324",
   "metadata": {},
   "outputs": [
    {
     "name": "stdout",
     "output_type": "stream",
     "text": [
      "set()\n",
      "set()\n"
     ]
    }
   ],
   "source": [
    "print(set(train_df_clean['Bean Type'].unique()).symmetric_difference(set(train_df['Bean Type'].unique())))\n",
    "print(set(train_df_clean['Broad Bean Origin'].unique()).symmetric_difference(set(train_df['Broad Bean Origin'].unique())))"
   ]
  },
  {
   "cell_type": "code",
   "execution_count": 42,
   "id": "c0a151d2",
   "metadata": {},
   "outputs": [
    {
     "data": {
      "text/plain": [
       "Company                  object\n",
       "Specific Bean Origin     object\n",
       "REF                      object\n",
       "Review                    int64\n",
       "Cocoa Percent            object\n",
       "Company Location         object\n",
       "Rating                  float64\n",
       "Bean Type                object\n",
       "Broad Bean Origin        object\n",
       "dtype: object"
      ]
     },
     "execution_count": 42,
     "metadata": {},
     "output_type": "execute_result"
    }
   ],
   "source": [
    "train_df_clean.dtypes"
   ]
  },
  {
   "cell_type": "code",
   "execution_count": 43,
   "id": "f9430588",
   "metadata": {},
   "outputs": [],
   "source": [
    "train_df_clean['Bean Type'] = train_df_clean['Bean Type'].fillna('Other')\n",
    "train_df_clean['Broad Bean Origin'] = train_df_clean['Broad Bean Origin'].fillna('Other')"
   ]
  },
  {
   "cell_type": "code",
   "execution_count": 44,
   "id": "7741b2de",
   "metadata": {},
   "outputs": [
    {
     "data": {
      "text/plain": [
       "Company                 0\n",
       "Specific Bean Origin    0\n",
       "REF                     0\n",
       "Review                  0\n",
       "Cocoa Percent           0\n",
       "Company Location        0\n",
       "Rating                  0\n",
       "Bean Type               0\n",
       "Broad Bean Origin       0\n",
       "dtype: int64"
      ]
     },
     "execution_count": 44,
     "metadata": {},
     "output_type": "execute_result"
    }
   ],
   "source": [
    "train_df_clean.isna().sum()"
   ]
  },
  {
   "cell_type": "code",
   "execution_count": 45,
   "id": "dcb05ed8",
   "metadata": {},
   "outputs": [
    {
     "name": "stdout",
     "output_type": "stream",
     "text": [
      "{'Other', nan}\n",
      "{nan, 'Other'}\n"
     ]
    }
   ],
   "source": [
    "print(set(train_df_clean['Bean Type'].unique()).symmetric_difference(set(train_df['Bean Type'].unique())))\n",
    "print(set(train_df_clean['Broad Bean Origin'].unique()).symmetric_difference(set(train_df['Broad Bean Origin'].unique())))"
   ]
  },
  {
   "cell_type": "code",
   "execution_count": 46,
   "id": "4e1e6f20",
   "metadata": {},
   "outputs": [
    {
     "name": "stdout",
     "output_type": "stream",
     "text": [
      "(1255, 10)\n",
      "(1255, 9)\n"
     ]
    }
   ],
   "source": [
    "print(train_df.shape)\n",
    "print(train_df_clean.shape)"
   ]
  },
  {
   "cell_type": "code",
   "execution_count": 47,
   "id": "5ed36e78",
   "metadata": {},
   "outputs": [
    {
     "data": {
      "text/html": [
       "<div>\n",
       "<style scoped>\n",
       "    .dataframe tbody tr th:only-of-type {\n",
       "        vertical-align: middle;\n",
       "    }\n",
       "\n",
       "    .dataframe tbody tr th {\n",
       "        vertical-align: top;\n",
       "    }\n",
       "\n",
       "    .dataframe thead th {\n",
       "        text-align: right;\n",
       "    }\n",
       "</style>\n",
       "<table border=\"1\" class=\"dataframe\">\n",
       "  <thead>\n",
       "    <tr style=\"text-align: right;\">\n",
       "      <th></th>\n",
       "      <th>Company</th>\n",
       "      <th>Specific Bean Origin</th>\n",
       "      <th>REF</th>\n",
       "      <th>Review</th>\n",
       "      <th>Cocoa Percent</th>\n",
       "      <th>Company Location</th>\n",
       "      <th>Rating</th>\n",
       "      <th>Bean Type</th>\n",
       "      <th>Broad Bean Origin</th>\n",
       "    </tr>\n",
       "  </thead>\n",
       "  <tbody>\n",
       "    <tr>\n",
       "      <th>0</th>\n",
       "      <td>Willie's Cacao</td>\n",
       "      <td>Rio Caribe</td>\n",
       "      <td>5</td>\n",
       "      <td>2009</td>\n",
       "      <td>72%</td>\n",
       "      <td>U.K.</td>\n",
       "      <td>3.25</td>\n",
       "      <td>Trinitario</td>\n",
       "      <td>Venezuela</td>\n",
       "    </tr>\n",
       "    <tr>\n",
       "      <th>1</th>\n",
       "      <td>Beschle (Felchlin)</td>\n",
       "      <td>Ocumare, Premier Cru, Quizas No. 2</td>\n",
       "      <td>6</td>\n",
       "      <td>2010</td>\n",
       "      <td>72%</td>\n",
       "      <td>Switzerland</td>\n",
       "      <td>3.50</td>\n",
       "      <td>Trinitario</td>\n",
       "      <td>Venezuela</td>\n",
       "    </tr>\n",
       "    <tr>\n",
       "      <th>2</th>\n",
       "      <td>Dark Forest</td>\n",
       "      <td>Tanzania</td>\n",
       "      <td>19</td>\n",
       "      <td>2015</td>\n",
       "      <td>70%</td>\n",
       "      <td>U.S.A.</td>\n",
       "      <td>3.00</td>\n",
       "      <td>Trinitario</td>\n",
       "      <td>Tanzania</td>\n",
       "    </tr>\n",
       "    <tr>\n",
       "      <th>3</th>\n",
       "      <td>Brasstown aka It's Chocolate</td>\n",
       "      <td>Cooproagro</td>\n",
       "      <td>13</td>\n",
       "      <td>2013</td>\n",
       "      <td>72%</td>\n",
       "      <td>U.S.A.</td>\n",
       "      <td>3.00</td>\n",
       "      <td>Trinitario</td>\n",
       "      <td>Dominican Republic</td>\n",
       "    </tr>\n",
       "    <tr>\n",
       "      <th>4</th>\n",
       "      <td>Pralus</td>\n",
       "      <td>Java, Indonesie</td>\n",
       "      <td>0</td>\n",
       "      <td>2006</td>\n",
       "      <td>75%</td>\n",
       "      <td>France</td>\n",
       "      <td>3.50</td>\n",
       "      <td>Criollo</td>\n",
       "      <td>Indonesia</td>\n",
       "    </tr>\n",
       "  </tbody>\n",
       "</table>\n",
       "</div>"
      ],
      "text/plain": [
       "                        Company                Specific Bean Origin REF  \\\n",
       "0                Willie's Cacao                          Rio Caribe   5   \n",
       "1            Beschle (Felchlin)  Ocumare, Premier Cru, Quizas No. 2   6   \n",
       "2                   Dark Forest                            Tanzania  19   \n",
       "3  Brasstown aka It's Chocolate                          Cooproagro  13   \n",
       "4                        Pralus                     Java, Indonesie   0   \n",
       "\n",
       "   Review Cocoa Percent Company Location  Rating   Bean Type  \\\n",
       "0    2009           72%             U.K.    3.25  Trinitario   \n",
       "1    2010           72%      Switzerland    3.50  Trinitario   \n",
       "2    2015           70%           U.S.A.    3.00  Trinitario   \n",
       "3    2013           72%           U.S.A.    3.00  Trinitario   \n",
       "4    2006           75%           France    3.50     Criollo   \n",
       "\n",
       "    Broad Bean Origin  \n",
       "0           Venezuela  \n",
       "1           Venezuela  \n",
       "2            Tanzania  \n",
       "3  Dominican Republic  \n",
       "4           Indonesia  "
      ]
     },
     "execution_count": 47,
     "metadata": {},
     "output_type": "execute_result"
    }
   ],
   "source": [
    "train_df_clean.head()"
   ]
  },
  {
   "cell_type": "code",
   "execution_count": 48,
   "id": "c804ffa7",
   "metadata": {},
   "outputs": [
    {
     "data": {
      "text/plain": [
       "Company                 376\n",
       "Specific Bean Origin    762\n",
       "REF                      24\n",
       "Review                   12\n",
       "Cocoa Percent            40\n",
       "Company Location         58\n",
       "Rating                   13\n",
       "Bean Type                38\n",
       "Broad Bean Origin        84\n",
       "dtype: int64"
      ]
     },
     "execution_count": 48,
     "metadata": {},
     "output_type": "execute_result"
    }
   ],
   "source": [
    "train_df_clean.nunique()"
   ]
  },
  {
   "cell_type": "code",
   "execution_count": 49,
   "id": "9aba4e47",
   "metadata": {},
   "outputs": [],
   "source": [
    "train_df_clean['Rating'] = train_df['Rating']\n",
    "train_df_clean['Cocoa Percent'] = train_df_clean['Cocoa Percent'].apply(lambda x: x.rstrip(' %')).astype(np.float32)"
   ]
  },
  {
   "cell_type": "code",
   "execution_count": 50,
   "id": "b6f9c8e3",
   "metadata": {},
   "outputs": [
    {
     "data": {
      "text/html": [
       "<div>\n",
       "<style scoped>\n",
       "    .dataframe tbody tr th:only-of-type {\n",
       "        vertical-align: middle;\n",
       "    }\n",
       "\n",
       "    .dataframe tbody tr th {\n",
       "        vertical-align: top;\n",
       "    }\n",
       "\n",
       "    .dataframe thead th {\n",
       "        text-align: right;\n",
       "    }\n",
       "</style>\n",
       "<table border=\"1\" class=\"dataframe\">\n",
       "  <thead>\n",
       "    <tr style=\"text-align: right;\">\n",
       "      <th></th>\n",
       "      <th>Review</th>\n",
       "      <th>Cocoa Percent</th>\n",
       "      <th>Rating</th>\n",
       "    </tr>\n",
       "  </thead>\n",
       "  <tbody>\n",
       "    <tr>\n",
       "      <th>Review</th>\n",
       "      <td>1.000000</td>\n",
       "      <td>0.045322</td>\n",
       "      <td>0.111826</td>\n",
       "    </tr>\n",
       "    <tr>\n",
       "      <th>Cocoa Percent</th>\n",
       "      <td>0.045322</td>\n",
       "      <td>1.000000</td>\n",
       "      <td>-0.172411</td>\n",
       "    </tr>\n",
       "    <tr>\n",
       "      <th>Rating</th>\n",
       "      <td>0.111826</td>\n",
       "      <td>-0.172411</td>\n",
       "      <td>1.000000</td>\n",
       "    </tr>\n",
       "  </tbody>\n",
       "</table>\n",
       "</div>"
      ],
      "text/plain": [
       "                 Review  Cocoa Percent    Rating\n",
       "Review         1.000000       0.045322  0.111826\n",
       "Cocoa Percent  0.045322       1.000000 -0.172411\n",
       "Rating         0.111826      -0.172411  1.000000"
      ]
     },
     "execution_count": 50,
     "metadata": {},
     "output_type": "execute_result"
    }
   ],
   "source": [
    "numeric_corr = train_df_clean.corr(numeric_only=True)\n",
    "numeric_corr"
   ]
  },
  {
   "cell_type": "markdown",
   "id": "db786be8",
   "metadata": {},
   "source": [
    "# Отбор признаков"
   ]
  },
  {
   "cell_type": "code",
   "execution_count": 51,
   "id": "519817e7",
   "metadata": {},
   "outputs": [
    {
     "data": {
      "text/html": [
       "<div>\n",
       "<style scoped>\n",
       "    .dataframe tbody tr th:only-of-type {\n",
       "        vertical-align: middle;\n",
       "    }\n",
       "\n",
       "    .dataframe tbody tr th {\n",
       "        vertical-align: top;\n",
       "    }\n",
       "\n",
       "    .dataframe thead th {\n",
       "        text-align: right;\n",
       "    }\n",
       "</style>\n",
       "<table border=\"1\" class=\"dataframe\">\n",
       "  <thead>\n",
       "    <tr style=\"text-align: right;\">\n",
       "      <th></th>\n",
       "      <th>Company</th>\n",
       "      <th>Specific Bean Origin</th>\n",
       "      <th>REF</th>\n",
       "      <th>Review</th>\n",
       "      <th>Cocoa Percent</th>\n",
       "      <th>Company Location</th>\n",
       "      <th>Rating</th>\n",
       "      <th>Bean Type</th>\n",
       "      <th>Broad Bean Origin</th>\n",
       "    </tr>\n",
       "  </thead>\n",
       "  <tbody>\n",
       "    <tr>\n",
       "      <th>0</th>\n",
       "      <td>Willie's Cacao</td>\n",
       "      <td>Rio Caribe</td>\n",
       "      <td>5</td>\n",
       "      <td>2009</td>\n",
       "      <td>72.0</td>\n",
       "      <td>U.K.</td>\n",
       "      <td>3.25</td>\n",
       "      <td>Trinitario</td>\n",
       "      <td>Venezuela</td>\n",
       "    </tr>\n",
       "    <tr>\n",
       "      <th>1</th>\n",
       "      <td>Beschle (Felchlin)</td>\n",
       "      <td>Ocumare, Premier Cru, Quizas No. 2</td>\n",
       "      <td>6</td>\n",
       "      <td>2010</td>\n",
       "      <td>72.0</td>\n",
       "      <td>Switzerland</td>\n",
       "      <td>3.50</td>\n",
       "      <td>Trinitario</td>\n",
       "      <td>Venezuela</td>\n",
       "    </tr>\n",
       "    <tr>\n",
       "      <th>2</th>\n",
       "      <td>Dark Forest</td>\n",
       "      <td>Tanzania</td>\n",
       "      <td>19</td>\n",
       "      <td>2015</td>\n",
       "      <td>70.0</td>\n",
       "      <td>U.S.A.</td>\n",
       "      <td>3.00</td>\n",
       "      <td>Trinitario</td>\n",
       "      <td>Tanzania</td>\n",
       "    </tr>\n",
       "    <tr>\n",
       "      <th>3</th>\n",
       "      <td>Brasstown aka It's Chocolate</td>\n",
       "      <td>Cooproagro</td>\n",
       "      <td>13</td>\n",
       "      <td>2013</td>\n",
       "      <td>72.0</td>\n",
       "      <td>U.S.A.</td>\n",
       "      <td>3.00</td>\n",
       "      <td>Trinitario</td>\n",
       "      <td>Dominican Republic</td>\n",
       "    </tr>\n",
       "    <tr>\n",
       "      <th>4</th>\n",
       "      <td>Pralus</td>\n",
       "      <td>Java, Indonesie</td>\n",
       "      <td>0</td>\n",
       "      <td>2006</td>\n",
       "      <td>75.0</td>\n",
       "      <td>France</td>\n",
       "      <td>3.50</td>\n",
       "      <td>Criollo</td>\n",
       "      <td>Indonesia</td>\n",
       "    </tr>\n",
       "  </tbody>\n",
       "</table>\n",
       "</div>"
      ],
      "text/plain": [
       "                        Company                Specific Bean Origin REF  \\\n",
       "0                Willie's Cacao                          Rio Caribe   5   \n",
       "1            Beschle (Felchlin)  Ocumare, Premier Cru, Quizas No. 2   6   \n",
       "2                   Dark Forest                            Tanzania  19   \n",
       "3  Brasstown aka It's Chocolate                          Cooproagro  13   \n",
       "4                        Pralus                     Java, Indonesie   0   \n",
       "\n",
       "   Review  Cocoa Percent Company Location  Rating   Bean Type  \\\n",
       "0    2009           72.0             U.K.    3.25  Trinitario   \n",
       "1    2010           72.0      Switzerland    3.50  Trinitario   \n",
       "2    2015           70.0           U.S.A.    3.00  Trinitario   \n",
       "3    2013           72.0           U.S.A.    3.00  Trinitario   \n",
       "4    2006           75.0           France    3.50     Criollo   \n",
       "\n",
       "    Broad Bean Origin  \n",
       "0           Venezuela  \n",
       "1           Venezuela  \n",
       "2            Tanzania  \n",
       "3  Dominican Republic  \n",
       "4           Indonesia  "
      ]
     },
     "execution_count": 51,
     "metadata": {},
     "output_type": "execute_result"
    }
   ],
   "source": [
    "train_df_clean.head()"
   ]
  },
  {
   "cell_type": "code",
   "execution_count": 52,
   "id": "5ddceaa1",
   "metadata": {},
   "outputs": [
    {
     "data": {
      "image/png": "[encoded data removed]",
      "text/plain": [
       "<Figure size 640x480 with 2 Axes>"
      ]
     },
     "metadata": {},
     "output_type": "display_data"
    }
   ],
   "source": [
    "sns.heatmap(numeric_corr, cmap='Blues', annot=True)\n",
    "plt.show();"
   ]
  },
  {
   "cell_type": "code",
   "execution_count": 53,
   "id": "04cfb02c",
   "metadata": {},
   "outputs": [
    {
     "data": {
      "text/html": [
       "<div>\n",
       "<style scoped>\n",
       "    .dataframe tbody tr th:only-of-type {\n",
       "        vertical-align: middle;\n",
       "    }\n",
       "\n",
       "    .dataframe tbody tr th {\n",
       "        vertical-align: top;\n",
       "    }\n",
       "\n",
       "    .dataframe thead th {\n",
       "        text-align: right;\n",
       "    }\n",
       "</style>\n",
       "<table border=\"1\" class=\"dataframe\">\n",
       "  <thead>\n",
       "    <tr style=\"text-align: right;\">\n",
       "      <th></th>\n",
       "      <th>Company</th>\n",
       "      <th>Specific Bean Origin</th>\n",
       "      <th>REF</th>\n",
       "      <th>Cocoa Percent</th>\n",
       "      <th>Company Location</th>\n",
       "      <th>Bean Type</th>\n",
       "      <th>Broad Bean Origin</th>\n",
       "      <th>Rating_cat</th>\n",
       "    </tr>\n",
       "  </thead>\n",
       "  <tbody>\n",
       "    <tr>\n",
       "      <th>Company</th>\n",
       "      <td>1.000000</td>\n",
       "      <td>0.771074</td>\n",
       "      <td>0.737806</td>\n",
       "      <td>0.631564</td>\n",
       "      <td>0.999651</td>\n",
       "      <td>0.699234</td>\n",
       "      <td>0.606780</td>\n",
       "      <td>0.592212</td>\n",
       "    </tr>\n",
       "    <tr>\n",
       "      <th>Specific Bean Origin</th>\n",
       "      <td>0.771074</td>\n",
       "      <td>1.000000</td>\n",
       "      <td>0.801503</td>\n",
       "      <td>0.772975</td>\n",
       "      <td>0.808500</td>\n",
       "      <td>0.945435</td>\n",
       "      <td>0.986510</td>\n",
       "      <td>0.758291</td>\n",
       "    </tr>\n",
       "    <tr>\n",
       "      <th>REF</th>\n",
       "      <td>0.737806</td>\n",
       "      <td>0.801503</td>\n",
       "      <td>1.000000</td>\n",
       "      <td>0.200624</td>\n",
       "      <td>0.327525</td>\n",
       "      <td>0.278307</td>\n",
       "      <td>0.300258</td>\n",
       "      <td>0.172818</td>\n",
       "    </tr>\n",
       "    <tr>\n",
       "      <th>Cocoa Percent</th>\n",
       "      <td>0.631564</td>\n",
       "      <td>0.772975</td>\n",
       "      <td>0.200624</td>\n",
       "      <td>1.000000</td>\n",
       "      <td>0.243803</td>\n",
       "      <td>0.209584</td>\n",
       "      <td>0.273609</td>\n",
       "      <td>0.238551</td>\n",
       "    </tr>\n",
       "    <tr>\n",
       "      <th>Company Location</th>\n",
       "      <td>0.999651</td>\n",
       "      <td>0.808500</td>\n",
       "      <td>0.327525</td>\n",
       "      <td>0.243803</td>\n",
       "      <td>1.000000</td>\n",
       "      <td>0.335082</td>\n",
       "      <td>0.384231</td>\n",
       "      <td>0.227523</td>\n",
       "    </tr>\n",
       "    <tr>\n",
       "      <th>Bean Type</th>\n",
       "      <td>0.699234</td>\n",
       "      <td>0.945435</td>\n",
       "      <td>0.278307</td>\n",
       "      <td>0.209584</td>\n",
       "      <td>0.335082</td>\n",
       "      <td>1.000000</td>\n",
       "      <td>0.460058</td>\n",
       "      <td>0.220318</td>\n",
       "    </tr>\n",
       "    <tr>\n",
       "      <th>Broad Bean Origin</th>\n",
       "      <td>0.606780</td>\n",
       "      <td>0.986510</td>\n",
       "      <td>0.300258</td>\n",
       "      <td>0.273609</td>\n",
       "      <td>0.384231</td>\n",
       "      <td>0.460058</td>\n",
       "      <td>1.000000</td>\n",
       "      <td>0.238467</td>\n",
       "    </tr>\n",
       "    <tr>\n",
       "      <th>Rating_cat</th>\n",
       "      <td>0.592212</td>\n",
       "      <td>0.758291</td>\n",
       "      <td>0.172818</td>\n",
       "      <td>0.238551</td>\n",
       "      <td>0.227523</td>\n",
       "      <td>0.220318</td>\n",
       "      <td>0.238467</td>\n",
       "      <td>1.000000</td>\n",
       "    </tr>\n",
       "  </tbody>\n",
       "</table>\n",
       "</div>"
      ],
      "text/plain": [
       "                       Company  Specific Bean Origin       REF  Cocoa Percent  \\\n",
       "Company               1.000000              0.771074  0.737806       0.631564   \n",
       "Specific Bean Origin  0.771074              1.000000  0.801503       0.772975   \n",
       "REF                   0.737806              0.801503  1.000000       0.200624   \n",
       "Cocoa Percent         0.631564              0.772975  0.200624       1.000000   \n",
       "Company Location      0.999651              0.808500  0.327525       0.243803   \n",
       "Bean Type             0.699234              0.945435  0.278307       0.209584   \n",
       "Broad Bean Origin     0.606780              0.986510  0.300258       0.273609   \n",
       "Rating_cat            0.592212              0.758291  0.172818       0.238551   \n",
       "\n",
       "                      Company Location  Bean Type  Broad Bean Origin  \\\n",
       "Company                       0.999651   0.699234           0.606780   \n",
       "Specific Bean Origin          0.808500   0.945435           0.986510   \n",
       "REF                           0.327525   0.278307           0.300258   \n",
       "Cocoa Percent                 0.243803   0.209584           0.273609   \n",
       "Company Location              1.000000   0.335082           0.384231   \n",
       "Bean Type                     0.335082   1.000000           0.460058   \n",
       "Broad Bean Origin             0.384231   0.460058           1.000000   \n",
       "Rating_cat                    0.227523   0.220318           0.238467   \n",
       "\n",
       "                      Rating_cat  \n",
       "Company                 0.592212  \n",
       "Specific Bean Origin    0.758291  \n",
       "REF                     0.172818  \n",
       "Cocoa Percent           0.238551  \n",
       "Company Location        0.227523  \n",
       "Bean Type               0.220318  \n",
       "Broad Bean Origin       0.238467  \n",
       "Rating_cat              1.000000  "
      ]
     },
     "execution_count": 53,
     "metadata": {},
     "output_type": "execute_result"
    }
   ],
   "source": [
    "cat_cor"
   ]
  },
  {
   "cell_type": "code",
   "execution_count": 54,
   "id": "c3ed4f80",
   "metadata": {},
   "outputs": [
    {
     "data": {
      "text/plain": [
       "0              U.K.\n",
       "1       Switzerland\n",
       "2            U.S.A.\n",
       "3            U.S.A.\n",
       "4            France\n",
       "           ...     \n",
       "1250           U.K.\n",
       "1251           Peru\n",
       "1252         U.S.A.\n",
       "1253         U.S.A.\n",
       "1254         U.S.A.\n",
       "Name: Company Location, Length: 1255, dtype: category\n",
       "Categories (58, object): ['Amsterdam', 'Argentina', 'Australia', 'Austria', ..., 'U.S.A.', 'Venezuela', 'Vietnam', 'Wales']"
      ]
     },
     "execution_count": 54,
     "metadata": {},
     "output_type": "execute_result"
    }
   ],
   "source": [
    "train_df['Company Location']"
   ]
  },
  {
   "cell_type": "code",
   "execution_count": 55,
   "id": "ec51f6ed",
   "metadata": {},
   "outputs": [],
   "source": [
    "train_df_clean = train_df_clean.apply(lambda x: x.astype('category') if x.dtype == 'object' else x)"
   ]
  },
  {
   "cell_type": "code",
   "execution_count": 56,
   "id": "de819598",
   "metadata": {},
   "outputs": [
    {
     "data": {
      "text/html": [
       "<div>\n",
       "<style scoped>\n",
       "    .dataframe tbody tr th:only-of-type {\n",
       "        vertical-align: middle;\n",
       "    }\n",
       "\n",
       "    .dataframe tbody tr th {\n",
       "        vertical-align: top;\n",
       "    }\n",
       "\n",
       "    .dataframe thead th {\n",
       "        text-align: right;\n",
       "    }\n",
       "</style>\n",
       "<table border=\"1\" class=\"dataframe\">\n",
       "  <thead>\n",
       "    <tr style=\"text-align: right;\">\n",
       "      <th></th>\n",
       "      <th>Company</th>\n",
       "      <th>Specific Bean Origin</th>\n",
       "      <th>REF</th>\n",
       "      <th>Review</th>\n",
       "      <th>Cocoa Percent</th>\n",
       "      <th>Company Location</th>\n",
       "      <th>Rating</th>\n",
       "      <th>Bean Type</th>\n",
       "      <th>Broad Bean Origin</th>\n",
       "      <th>Rating_cat</th>\n",
       "    </tr>\n",
       "  </thead>\n",
       "  <tbody>\n",
       "    <tr>\n",
       "      <th>0</th>\n",
       "      <td>Willie's Cacao</td>\n",
       "      <td>Rio Caribe</td>\n",
       "      <td>5</td>\n",
       "      <td>2009</td>\n",
       "      <td>72%</td>\n",
       "      <td>U.K.</td>\n",
       "      <td>3.25</td>\n",
       "      <td>Trinitario</td>\n",
       "      <td>Venezuela</td>\n",
       "      <td>3.25</td>\n",
       "    </tr>\n",
       "    <tr>\n",
       "      <th>1</th>\n",
       "      <td>Beschle (Felchlin)</td>\n",
       "      <td>Ocumare, Premier Cru, Quizas No. 2</td>\n",
       "      <td>6</td>\n",
       "      <td>2010</td>\n",
       "      <td>72%</td>\n",
       "      <td>Switzerland</td>\n",
       "      <td>3.50</td>\n",
       "      <td>NaN</td>\n",
       "      <td>Venezuela</td>\n",
       "      <td>3.50</td>\n",
       "    </tr>\n",
       "    <tr>\n",
       "      <th>2</th>\n",
       "      <td>Dark Forest</td>\n",
       "      <td>Tanzania</td>\n",
       "      <td>19</td>\n",
       "      <td>2015</td>\n",
       "      <td>70%</td>\n",
       "      <td>U.S.A.</td>\n",
       "      <td>3.00</td>\n",
       "      <td>NaN</td>\n",
       "      <td>Tanzania</td>\n",
       "      <td>3.00</td>\n",
       "    </tr>\n",
       "    <tr>\n",
       "      <th>3</th>\n",
       "      <td>Brasstown aka It's Chocolate</td>\n",
       "      <td>Cooproagro</td>\n",
       "      <td>13</td>\n",
       "      <td>2013</td>\n",
       "      <td>72%</td>\n",
       "      <td>U.S.A.</td>\n",
       "      <td>3.00</td>\n",
       "      <td>Trinitario</td>\n",
       "      <td>Dominican Republic</td>\n",
       "      <td>3.00</td>\n",
       "    </tr>\n",
       "    <tr>\n",
       "      <th>4</th>\n",
       "      <td>Pralus</td>\n",
       "      <td>Java, Indonesie</td>\n",
       "      <td>0</td>\n",
       "      <td>2006</td>\n",
       "      <td>75%</td>\n",
       "      <td>France</td>\n",
       "      <td>3.50</td>\n",
       "      <td>Criollo</td>\n",
       "      <td>Indonesia</td>\n",
       "      <td>3.50</td>\n",
       "    </tr>\n",
       "  </tbody>\n",
       "</table>\n",
       "</div>"
      ],
      "text/plain": [
       "                        Company                Specific Bean Origin REF  \\\n",
       "0                Willie's Cacao                          Rio Caribe   5   \n",
       "1            Beschle (Felchlin)  Ocumare, Premier Cru, Quizas No. 2   6   \n",
       "2                   Dark Forest                            Tanzania  19   \n",
       "3  Brasstown aka It's Chocolate                          Cooproagro  13   \n",
       "4                        Pralus                     Java, Indonesie   0   \n",
       "\n",
       "   Review Cocoa Percent Company Location  Rating   Bean Type  \\\n",
       "0    2009           72%             U.K.    3.25  Trinitario   \n",
       "1    2010           72%      Switzerland    3.50         NaN   \n",
       "2    2015           70%           U.S.A.    3.00         NaN   \n",
       "3    2013           72%           U.S.A.    3.00  Trinitario   \n",
       "4    2006           75%           France    3.50     Criollo   \n",
       "\n",
       "    Broad Bean Origin Rating_cat  \n",
       "0           Venezuela       3.25  \n",
       "1           Venezuela       3.50  \n",
       "2            Tanzania       3.00  \n",
       "3  Dominican Republic       3.00  \n",
       "4           Indonesia       3.50  "
      ]
     },
     "execution_count": 56,
     "metadata": {},
     "output_type": "execute_result"
    }
   ],
   "source": [
    "train_df.head()"
   ]
  },
  {
   "cell_type": "code",
   "execution_count": 57,
   "id": "1f5cbccb",
   "metadata": {},
   "outputs": [
    {
     "data": {
      "text/plain": [
       "Company                 376\n",
       "Specific Bean Origin    762\n",
       "REF                      24\n",
       "Review                   12\n",
       "Cocoa Percent            40\n",
       "Company Location         58\n",
       "Rating                   13\n",
       "Bean Type                38\n",
       "Broad Bean Origin        84\n",
       "dtype: int64"
      ]
     },
     "execution_count": 57,
     "metadata": {},
     "output_type": "execute_result"
    }
   ],
   "source": [
    "train_df_clean.nunique()"
   ]
  },
  {
   "cell_type": "code",
   "execution_count": 58,
   "id": "a5e9a23f",
   "metadata": {},
   "outputs": [
    {
     "data": {
      "image/png": "[encoded data removed]",
      "text/plain": [
       "<Figure size 640x480 with 2 Axes>"
      ]
     },
     "metadata": {},
     "output_type": "display_data"
    }
   ],
   "source": [
    "sns.heatmap(cat_cor, cmap='Blues', annot=True)\n",
    "plt.show();"
   ]
  },
  {
   "cell_type": "code",
   "execution_count": 59,
   "id": "27a93408",
   "metadata": {},
   "outputs": [
    {
     "data": {
      "text/html": [
       "<div>\n",
       "<style scoped>\n",
       "    .dataframe tbody tr th:only-of-type {\n",
       "        vertical-align: middle;\n",
       "    }\n",
       "\n",
       "    .dataframe tbody tr th {\n",
       "        vertical-align: top;\n",
       "    }\n",
       "\n",
       "    .dataframe thead th {\n",
       "        text-align: right;\n",
       "    }\n",
       "</style>\n",
       "<table border=\"1\" class=\"dataframe\">\n",
       "  <thead>\n",
       "    <tr style=\"text-align: right;\">\n",
       "      <th></th>\n",
       "      <th>Company</th>\n",
       "      <th>REF</th>\n",
       "      <th>Cocoa Percent</th>\n",
       "      <th>Company Location</th>\n",
       "      <th>Rating</th>\n",
       "      <th>Bean Type</th>\n",
       "      <th>Broad Bean Origin</th>\n",
       "    </tr>\n",
       "  </thead>\n",
       "  <tbody>\n",
       "    <tr>\n",
       "      <th>0</th>\n",
       "      <td>Willie's Cacao</td>\n",
       "      <td>5</td>\n",
       "      <td>72.0</td>\n",
       "      <td>U.K.</td>\n",
       "      <td>3.25</td>\n",
       "      <td>Trinitario</td>\n",
       "      <td>Venezuela</td>\n",
       "    </tr>\n",
       "    <tr>\n",
       "      <th>1</th>\n",
       "      <td>Beschle (Felchlin)</td>\n",
       "      <td>6</td>\n",
       "      <td>72.0</td>\n",
       "      <td>Switzerland</td>\n",
       "      <td>3.50</td>\n",
       "      <td>Trinitario</td>\n",
       "      <td>Venezuela</td>\n",
       "    </tr>\n",
       "    <tr>\n",
       "      <th>2</th>\n",
       "      <td>Dark Forest</td>\n",
       "      <td>19</td>\n",
       "      <td>70.0</td>\n",
       "      <td>U.S.A.</td>\n",
       "      <td>3.00</td>\n",
       "      <td>Trinitario</td>\n",
       "      <td>Tanzania</td>\n",
       "    </tr>\n",
       "    <tr>\n",
       "      <th>3</th>\n",
       "      <td>Brasstown aka It's Chocolate</td>\n",
       "      <td>13</td>\n",
       "      <td>72.0</td>\n",
       "      <td>U.S.A.</td>\n",
       "      <td>3.00</td>\n",
       "      <td>Trinitario</td>\n",
       "      <td>Dominican Republic</td>\n",
       "    </tr>\n",
       "    <tr>\n",
       "      <th>4</th>\n",
       "      <td>Pralus</td>\n",
       "      <td>0</td>\n",
       "      <td>75.0</td>\n",
       "      <td>France</td>\n",
       "      <td>3.50</td>\n",
       "      <td>Criollo</td>\n",
       "      <td>Indonesia</td>\n",
       "    </tr>\n",
       "  </tbody>\n",
       "</table>\n",
       "</div>"
      ],
      "text/plain": [
       "                        Company REF  Cocoa Percent Company Location  Rating  \\\n",
       "0                Willie's Cacao   5           72.0             U.K.    3.25   \n",
       "1            Beschle (Felchlin)   6           72.0      Switzerland    3.50   \n",
       "2                   Dark Forest  19           70.0           U.S.A.    3.00   \n",
       "3  Brasstown aka It's Chocolate  13           72.0           U.S.A.    3.00   \n",
       "4                        Pralus   0           75.0           France    3.50   \n",
       "\n",
       "    Bean Type   Broad Bean Origin  \n",
       "0  Trinitario           Venezuela  \n",
       "1  Trinitario           Venezuela  \n",
       "2  Trinitario            Tanzania  \n",
       "3  Trinitario  Dominican Republic  \n",
       "4     Criollo           Indonesia  "
      ]
     },
     "execution_count": 59,
     "metadata": {},
     "output_type": "execute_result"
    }
   ],
   "source": [
    "drop_cols = ['Specific Bean Origin', 'Review']\n",
    "train_df_clean = train_df_clean.drop(drop_cols, axis=1)\n",
    "train_df_clean.head()"
   ]
  },
  {
   "cell_type": "markdown",
   "id": "d28634f5",
   "metadata": {},
   "source": [
    "# Построение модели"
   ]
  },
  {
   "cell_type": "code",
   "execution_count": 60,
   "id": "22a6a687",
   "metadata": {},
   "outputs": [],
   "source": [
    "X = train_df_clean.drop('Rating', axis=1)\n",
    "y = train_df_clean['Rating']\n",
    "\n"
   ]
  },
  {
   "cell_type": "code",
   "execution_count": 61,
   "id": "24bb2a9e",
   "metadata": {},
   "outputs": [],
   "source": [
    "# train_df_clean.dtypes"
   ]
  },
  {
   "cell_type": "code",
   "execution_count": 62,
   "id": "d7b2cc0b",
   "metadata": {},
   "outputs": [],
   "source": [
    "cat_features = [i for i, col in enumerate(X.columns) if X[col].dtype.name in ['category', 'object']]"
   ]
  },
  {
   "cell_type": "markdown",
   "id": "085082e6",
   "metadata": {},
   "source": [
    "## Обучение и подбор гиперпараметров"
   ]
  },
  {
   "cell_type": "code",
   "execution_count": 63,
   "id": "5429db43",
   "metadata": {},
   "outputs": [
    {
     "name": "stderr",
     "output_type": "stream",
     "text": [
      "[I 2025-05-10 17:44:50,198] A new study created in memory with name: no-name-0cc0a5fc-cbea-481e-89f8-268c8771779c\n",
      "[I 2025-05-10 17:45:13,977] Trial 0 finished with value: 0.17114548973742547 and parameters: {'learning_rate': 0.0068530847817637785, 'n_estimators': 1724, 'l2_leaf_reg': 2.121233592785007, 'random_strength': 0.34114758062140593, 'bagging_temperature': 0.051508975948867164}. Best is trial 0 with value: 0.17114548973742547.\n",
      "[I 2025-05-10 17:45:30,728] Trial 1 finished with value: 0.16306900358673426 and parameters: {'learning_rate': 0.003924195072637689, 'n_estimators': 1274, 'l2_leaf_reg': 9.649977449668707, 'random_strength': 1.1100675699849727, 'bagging_temperature': 0.5200777142999923}. Best is trial 0 with value: 0.17114548973742547.\n",
      "[I 2025-05-10 17:45:51,233] Trial 2 finished with value: 0.0030332423720826527 and parameters: {'learning_rate': 1.8844048514931308e-05, 'n_estimators': 1776, 'l2_leaf_reg': 9.025571123830641, 'random_strength': 1.4032861354860138, 'bagging_temperature': 0.8838279540736319}. Best is trial 0 with value: 0.17114548973742547.\n",
      "[I 2025-05-10 17:46:07,863] Trial 3 finished with value: -0.010557233610187677 and parameters: {'learning_rate': 0.24761205647430018, 'n_estimators': 1387, 'l2_leaf_reg': 3.186067834041775, 'random_strength': 0.677373578536643, 'bagging_temperature': 0.334934199225022}. Best is trial 0 with value: 0.17114548973742547.\n",
      "[I 2025-05-10 17:46:25,527] Trial 4 finished with value: -0.03754876407045823 and parameters: {'learning_rate': 0.25275703114198333, 'n_estimators': 1461, 'l2_leaf_reg': 1.2483292808622009, 'random_strength': 1.8917067543859978, 'bagging_temperature': 0.6869647670862382}. Best is trial 0 with value: 0.17114548973742547.\n",
      "[I 2025-05-10 17:46:46,101] Trial 5 finished with value: 0.014034435229499542 and parameters: {'learning_rate': 8.695326106631076e-05, 'n_estimators': 1912, 'l2_leaf_reg': 4.522473480065097, 'random_strength': 4.675714569819787, 'bagging_temperature': 0.6230142231652676}. Best is trial 0 with value: 0.17114548973742547.\n",
      "[I 2025-05-10 17:46:59,919] Trial 6 finished with value: 0.1196345042066523 and parameters: {'learning_rate': 0.0028742235076277514, 'n_estimators': 1378, 'l2_leaf_reg': 8.435205630193476, 'random_strength': 8.951938583720333, 'bagging_temperature': 0.5226202310301993}. Best is trial 0 with value: 0.17114548973742547.\n",
      "[I 2025-05-10 17:47:14,418] Trial 7 finished with value: -0.1275821762127213 and parameters: {'learning_rate': 0.7228814765952548, 'n_estimators': 1215, 'l2_leaf_reg': 4.764846613691655, 'random_strength': 2.1540752950773436, 'bagging_temperature': 0.35639437514556904}. Best is trial 0 with value: 0.17114548973742547.\n",
      "[I 2025-05-10 17:47:34,135] Trial 8 finished with value: 0.022125425254392983 and parameters: {'learning_rate': 0.00016374084335597035, 'n_estimators': 1882, 'l2_leaf_reg': 4.2731582889524935, 'random_strength': 6.464169509594696, 'bagging_temperature': 0.03804231161470528}. Best is trial 0 with value: 0.17114548973742547.\n",
      "[I 2025-05-10 17:47:57,906] Trial 9 finished with value: 0.14116974165587917 and parameters: {'learning_rate': 0.027023739505673612, 'n_estimators': 1931, 'l2_leaf_reg': 1.919726505815982, 'random_strength': 6.011728045625137, 'bagging_temperature': 0.8885697721096134}. Best is trial 0 with value: 0.17114548973742547.\n",
      "[I 2025-05-10 17:48:15,380] Trial 10 finished with value: 0.1395392630590344 and parameters: {'learning_rate': 0.0024424194120685914, 'n_estimators': 1652, 'l2_leaf_reg': 6.8210783526264365, 'random_strength': 3.9393893918535907, 'bagging_temperature': 0.005375304608023934}. Best is trial 0 with value: 0.17114548973742547.\n",
      "[I 2025-05-10 17:48:34,180] Trial 11 finished with value: 0.1643171435765944 and parameters: {'learning_rate': 0.02462471755887845, 'n_estimators': 1629, 'l2_leaf_reg': 6.840724950692747, 'random_strength': 3.134927956159583, 'bagging_temperature': 0.2522758785624127}. Best is trial 0 with value: 0.17114548973742547.\n",
      "[I 2025-05-10 17:48:53,458] Trial 12 finished with value: 0.16985340090133796 and parameters: {'learning_rate': 0.022407697406659287, 'n_estimators': 1666, 'l2_leaf_reg': 6.662761973750848, 'random_strength': 3.3060088486959502, 'bagging_temperature': 0.20009675624262024}. Best is trial 0 with value: 0.17114548973742547.\n",
      "[I 2025-05-10 17:49:13,255] Trial 13 finished with value: 0.16564928192712894 and parameters: {'learning_rate': 0.02669671931132354, 'n_estimators': 1759, 'l2_leaf_reg': 6.775653123540141, 'random_strength': 3.086409854573682, 'bagging_temperature': 0.18027425740960507}. Best is trial 0 with value: 0.17114548973742547.\n",
      "[I 2025-05-10 17:49:30,865] Trial 14 finished with value: 0.12330347583660602 and parameters: {'learning_rate': 0.000967822315134874, 'n_estimators': 1523, 'l2_leaf_reg': 2.863375295506459, 'random_strength': 0.239616854952462, 'bagging_temperature': 0.16170793677741715}. Best is trial 0 with value: 0.17114548973742547.\n",
      "[I 2025-05-10 17:49:50,337] Trial 15 finished with value: 0.17723840546028816 and parameters: {'learning_rate': 0.012650142740230857, 'n_estimators': 1746, 'l2_leaf_reg': 5.94159841661956, 'random_strength': 6.376933384525235, 'bagging_temperature': 0.11684475625572263}. Best is trial 15 with value: 0.17723840546028816.\n",
      "[I 2025-05-10 17:50:07,915] Trial 16 finished with value: 0.0459980235649912 and parameters: {'learning_rate': 0.000427118458054928, 'n_estimators': 1760, 'l2_leaf_reg': 3.2846983447588647, 'random_strength': 8.157162740348637, 'bagging_temperature': 0.07972342358649354}. Best is trial 15 with value: 0.17723840546028816.\n",
      "[I 2025-05-10 17:50:28,148] Trial 17 finished with value: 0.17584748544839587 and parameters: {'learning_rate': 0.01017860142052186, 'n_estimators': 1836, 'l2_leaf_reg': 5.455670444009478, 'random_strength': 7.0590916661520815, 'bagging_temperature': 0.39778514350293115}. Best is trial 15 with value: 0.17723840546028816.\n",
      "[I 2025-05-10 17:50:51,334] Trial 18 finished with value: 0.07907253607910762 and parameters: {'learning_rate': 0.08417805761215898, 'n_estimators': 1993, 'l2_leaf_reg': 5.527130412225243, 'random_strength': 7.356445881310955, 'bagging_temperature': 0.3870586749142707}. Best is trial 15 with value: 0.17723840546028816.\n",
      "[I 2025-05-10 17:51:10,766] Trial 19 finished with value: 0.17713567708575728 and parameters: {'learning_rate': 0.009311565178604566, 'n_estimators': 1809, 'l2_leaf_reg': 5.825190240940692, 'random_strength': 9.588797021946624, 'bagging_temperature': 0.7516864535321905}. Best is trial 15 with value: 0.17723840546028816.\n",
      "[I 2025-05-10 17:51:25,956] Trial 20 finished with value: 0.08100463904201483 and parameters: {'learning_rate': 0.0012174361356254609, 'n_estimators': 1538, 'l2_leaf_reg': 7.692944148862448, 'random_strength': 9.010121778179178, 'bagging_temperature': 0.7748361884607061}. Best is trial 15 with value: 0.17723840546028816.\n",
      "[I 2025-05-10 17:51:44,968] Trial 21 finished with value: 0.18057922991266137 and parameters: {'learning_rate': 0.007263633077527635, 'n_estimators': 1822, 'l2_leaf_reg': 5.558603115017828, 'random_strength': 9.988686260077838, 'bagging_temperature': 0.740161631845484}. Best is trial 21 with value: 0.18057922991266137.\n",
      "[I 2025-05-10 17:52:05,789] Trial 22 finished with value: 0.09407559561004597 and parameters: {'learning_rate': 0.07511408677480624, 'n_estimators': 1822, 'l2_leaf_reg': 5.9174898091453, 'random_strength': 9.653887844058424, 'bagging_temperature': 0.9938761892749772}. Best is trial 21 with value: 0.18057922991266137.\n",
      "[I 2025-05-10 17:52:23,278] Trial 23 finished with value: 0.1817439970998392 and parameters: {'learning_rate': 0.007609637221326878, 'n_estimators': 1702, 'l2_leaf_reg': 6.0389449549109475, 'random_strength': 9.906540529723172, 'bagging_temperature': 0.6653164377316305}. Best is trial 23 with value: 0.1817439970998392.\n",
      "[I 2025-05-10 17:52:42,679] Trial 24 finished with value: 0.11028731234045179 and parameters: {'learning_rate': 0.07961927102615587, 'n_estimators': 1724, 'l2_leaf_reg': 7.541288300503377, 'random_strength': 8.165772246204783, 'bagging_temperature': 0.6137483840768765}. Best is trial 23 with value: 0.1817439970998392.\n",
      "[I 2025-05-10 17:52:57,758] Trial 25 finished with value: 0.058139061043736597 and parameters: {'learning_rate': 0.0007438926687432587, 'n_estimators': 1558, 'l2_leaf_reg': 4.892952285580166, 'random_strength': 9.960014034125262, 'bagging_temperature': 0.601525402598454}. Best is trial 23 with value: 0.1817439970998392.\n",
      "[I 2025-05-10 17:53:14,819] Trial 26 finished with value: 0.1799289852876932 and parameters: {'learning_rate': 0.005838984897349995, 'n_estimators': 1669, 'l2_leaf_reg': 3.9419056099935035, 'random_strength': 5.511250946361239, 'bagging_temperature': 0.802046571494414}. Best is trial 23 with value: 0.1817439970998392.\n",
      "[I 2025-05-10 17:53:31,765] Trial 27 finished with value: 0.03398832669307261 and parameters: {'learning_rate': 0.0002595312828056059, 'n_estimators': 1680, 'l2_leaf_reg': 3.812520439923498, 'random_strength': 5.397219348899361, 'bagging_temperature': 0.8205067219936305}. Best is trial 23 with value: 0.1817439970998392.\n",
      "[I 2025-05-10 17:53:47,230] Trial 28 finished with value: 0.10924679188084967 and parameters: {'learning_rate': 0.0017864228899727062, 'n_estimators': 1593, 'l2_leaf_reg': 3.859783616997538, 'random_strength': 8.138271179598132, 'bagging_temperature': 0.961193996290822}. Best is trial 23 with value: 0.1817439970998392.\n",
      "[I 2025-05-10 17:54:03,537] Trial 29 finished with value: 0.16110077350656646 and parameters: {'learning_rate': 0.004890237607465364, 'n_estimators': 1687, 'l2_leaf_reg': 5.155125900468059, 'random_strength': 8.85490252496249, 'bagging_temperature': 0.6958369975190244}. Best is trial 23 with value: 0.1817439970998392.\n",
      "[I 2025-05-10 17:54:19,856] Trial 30 finished with value: 0.1755228148243382 and parameters: {'learning_rate': 0.006398032417739599, 'n_estimators': 1594, 'l2_leaf_reg': 3.9245981963945504, 'random_strength': 7.478458906453068, 'bagging_temperature': 0.8361428666763491}. Best is trial 23 with value: 0.1817439970998392.\n",
      "[I 2025-05-10 17:54:38,241] Trial 31 finished with value: 0.1783478281081663 and parameters: {'learning_rate': 0.010726680284349763, 'n_estimators': 1716, 'l2_leaf_reg': 6.285270658370819, 'random_strength': 5.353633007741402, 'bagging_temperature': 0.7063551166547811}. Best is trial 23 with value: 0.1817439970998392.\n",
      "[I 2025-05-10 17:54:54,913] Trial 32 finished with value: 0.15843289996058466 and parameters: {'learning_rate': 0.004162889056316445, 'n_estimators': 1702, 'l2_leaf_reg': 6.4453652753787045, 'random_strength': 5.323224777338515, 'bagging_temperature': 0.7035095780851939}. Best is trial 23 with value: 0.1817439970998392.\n",
      "[I 2025-05-10 17:55:15,491] Trial 33 finished with value: 0.14005762475351147 and parameters: {'learning_rate': 0.04962475874572366, 'n_estimators': 1848, 'l2_leaf_reg': 7.751401440678284, 'random_strength': 4.823954653312356, 'bagging_temperature': 0.49664125171728635}. Best is trial 23 with value: 0.1817439970998392.\n",
      "[I 2025-05-10 17:55:35,053] Trial 34 finished with value: 0.17315531675080567 and parameters: {'learning_rate': 0.013809361955574218, 'n_estimators': 1796, 'l2_leaf_reg': 6.20624341595258, 'random_strength': 4.170174473601188, 'bagging_temperature': 0.9220921281185008}. Best is trial 23 with value: 0.1817439970998392.\n",
      "[I 2025-05-10 17:55:53,231] Trial 35 finished with value: 0.03580065629088558 and parameters: {'learning_rate': 0.17868677606668543, 'n_estimators': 1620, 'l2_leaf_reg': 7.389517632184109, 'random_strength': 5.753002043615372, 'bagging_temperature': 0.5540241684710032}. Best is trial 23 with value: 0.1817439970998392.\n",
      "[I 2025-05-10 17:56:07,538] Trial 36 finished with value: 0.161576723436441 and parameters: {'learning_rate': 0.0059145660095507235, 'n_estimators': 1474, 'l2_leaf_reg': 8.805829018837363, 'random_strength': 8.60328656688692, 'bagging_temperature': 0.8304233390649378}. Best is trial 23 with value: 0.1817439970998392.\n",
      "[I 2025-05-10 17:56:24,538] Trial 37 finished with value: 0.003062884506760325 and parameters: {'learning_rate': 3.178256943191701e-05, 'n_estimators': 1736, 'l2_leaf_reg': 2.794586423564189, 'random_strength': 6.847844583282953, 'bagging_temperature': 0.762655098020504}. Best is trial 23 with value: 0.1817439970998392.\n",
      "[I 2025-05-10 17:56:37,912] Trial 38 finished with value: 0.09789191934449375 and parameters: {'learning_rate': 0.0017850764749545473, 'n_estimators': 1390, 'l2_leaf_reg': 9.871677455550874, 'random_strength': 7.619743327095183, 'bagging_temperature': 0.6590407610488844}. Best is trial 23 with value: 0.1817439970998392.\n",
      "[I 2025-05-10 17:56:56,273] Trial 39 finished with value: 0.1569402831206906 and parameters: {'learning_rate': 0.003975264053364548, 'n_estimators': 1949, 'l2_leaf_reg': 5.265540586496667, 'random_strength': 9.397067066843011, 'bagging_temperature': 0.4594471240456395}. Best is trial 23 with value: 0.1817439970998392.\n",
      "[I 2025-05-10 17:57:15,985] Trial 40 finished with value: 0.07826921327392074 and parameters: {'learning_rate': 0.0004702276534504788, 'n_estimators': 1898, 'l2_leaf_reg': 4.387289650667896, 'random_strength': 2.371823569079999, 'bagging_temperature': 0.729067314623322}. Best is trial 23 with value: 0.1817439970998392.\n",
      "[I 2025-05-10 17:57:34,548] Trial 41 finished with value: 0.17126437506062273 and parameters: {'learning_rate': 0.01557704901618324, 'n_estimators': 1730, 'l2_leaf_reg': 6.110332852290593, 'random_strength': 6.514199735138394, 'bagging_temperature': 0.6600921473009361}. Best is trial 23 with value: 0.1817439970998392.\n",
      "[I 2025-05-10 17:57:55,150] Trial 42 finished with value: 0.14038075488401255 and parameters: {'learning_rate': 0.04619603800229407, 'n_estimators': 1864, 'l2_leaf_reg': 7.201558769126283, 'random_strength': 4.350250952710864, 'bagging_temperature': 0.8004711634066041}. Best is trial 23 with value: 0.1817439970998392.\n",
      "[I 2025-05-10 17:58:13,709] Trial 43 finished with value: 0.17658168325821708 and parameters: {'learning_rate': 0.010341487987002566, 'n_estimators': 1777, 'l2_leaf_reg': 8.192563727009219, 'random_strength': 6.283039762209439, 'bagging_temperature': 0.5746540229395295}. Best is trial 23 with value: 0.1817439970998392.\n",
      "[I 2025-05-10 17:58:29,845] Trial 44 finished with value: 0.14041907303029647 and parameters: {'learning_rate': 0.0027376136079165004, 'n_estimators': 1644, 'l2_leaf_reg': 4.7704480678720795, 'random_strength': 5.375057176923473, 'bagging_temperature': 0.8735790381693277}. Best is trial 23 with value: 0.1817439970998392.\n",
      "[I 2025-05-10 17:58:48,224] Trial 45 finished with value: 0.16531265138970397 and parameters: {'learning_rate': 0.018162320932363255, 'n_estimators': 1706, 'l2_leaf_reg': 1.0684733368291894, 'random_strength': 5.840765750838037, 'bagging_temperature': 0.2823074927161996}. Best is trial 23 with value: 0.1817439970998392.\n",
      "[I 2025-05-10 17:59:07,780] Trial 46 finished with value: 0.1423286358627376 and parameters: {'learning_rate': 0.03865816808952812, 'n_estimators': 1778, 'l2_leaf_reg': 5.618296022503392, 'random_strength': 3.849677372693235, 'bagging_temperature': 0.6709362966366588}. Best is trial 23 with value: 0.1817439970998392.\n",
      "[I 2025-05-10 17:59:24,981] Trial 47 finished with value: 0.17955202564942643 and parameters: {'learning_rate': 0.008047578094236778, 'n_estimators': 1651, 'l2_leaf_reg': 1.7641179984084254, 'random_strength': 4.508869563367211, 'bagging_temperature': 0.4558293736809407}. Best is trial 23 with value: 0.1817439970998392.\n",
      "[I 2025-05-10 17:59:42,148] Trial 48 finished with value: 0.17801675685604876 and parameters: {'learning_rate': 0.008152985026955835, 'n_estimators': 1561, 'l2_leaf_reg': 1.5163526516666856, 'random_strength': 1.6642246168131734, 'bagging_temperature': 0.43978756057037866}. Best is trial 23 with value: 0.1817439970998392.\n",
      "[I 2025-05-10 17:59:58,644] Trial 49 finished with value: 0.13167311507953372 and parameters: {'learning_rate': 0.001888357590417932, 'n_estimators': 1658, 'l2_leaf_reg': 2.519281682006636, 'random_strength': 4.58047103947526, 'bagging_temperature': 0.561806744102932}. Best is trial 23 with value: 0.1817439970998392.\n",
      "[I 2025-05-10 18:00:15,271] Trial 50 finished with value: -0.15438099371622505 and parameters: {'learning_rate': 0.5667025669414183, 'n_estimators': 1484, 'l2_leaf_reg': 3.3488870147570853, 'random_strength': 2.449522784389311, 'bagging_temperature': 0.5222639778316712}. Best is trial 23 with value: 0.1817439970998392.\n",
      "[I 2025-05-10 18:00:32,608] Trial 51 finished with value: 0.1761648572413196 and parameters: {'learning_rate': 0.009656185157404474, 'n_estimators': 1587, 'l2_leaf_reg': 1.613439719135556, 'random_strength': 1.5739067191102518, 'bagging_temperature': 0.4378999944406105}. Best is trial 23 with value: 0.1817439970998392.\n",
      "[I 2025-05-10 18:00:48,578] Trial 52 finished with value: 0.18114224670022602 and parameters: {'learning_rate': 0.007401812229541014, 'n_estimators': 1515, 'l2_leaf_reg': 1.7227280765099398, 'random_strength': 3.729831921265044, 'bagging_temperature': 0.3015902990542311}. Best is trial 23 with value: 0.1817439970998392.\n",
      "[I 2025-05-10 18:01:03,817] Trial 53 finished with value: 0.15391298123392141 and parameters: {'learning_rate': 0.003189999148045314, 'n_estimators': 1507, 'l2_leaf_reg': 2.130119744090628, 'random_strength': 3.3845836978618205, 'bagging_temperature': 0.31019403085623676}. Best is trial 23 with value: 0.1817439970998392.\n",
      "[I 2025-05-10 18:01:21,127] Trial 54 finished with value: 0.18099539039217047 and parameters: {'learning_rate': 0.0063113660185528395, 'n_estimators': 1623, 'l2_leaf_reg': 2.167369050511427, 'random_strength': 2.8940279150691737, 'bagging_temperature': 0.7352060650721011}. Best is trial 23 with value: 0.1817439970998392.\n",
      "[I 2025-05-10 18:01:36,745] Trial 55 finished with value: 0.15142722850771853 and parameters: {'learning_rate': 0.02962044350206564, 'n_estimators': 1430, 'l2_leaf_reg': 2.045410014974331, 'random_strength': 3.5696846467228083, 'bagging_temperature': 0.22895931479862086}. Best is trial 23 with value: 0.1817439970998392.\n",
      "[I 2025-05-10 18:01:54,942] Trial 56 finished with value: 0.17604168571345513 and parameters: {'learning_rate': 0.00598996727655501, 'n_estimators': 1634, 'l2_leaf_reg': 1.3853344153449094, 'random_strength': 0.6562386403795877, 'bagging_temperature': 0.865388441644672}. Best is trial 23 with value: 0.1817439970998392.\n",
      "[I 2025-05-10 18:02:09,840] Trial 57 finished with value: 0.15069730722904454 and parameters: {'learning_rate': 0.0027168236584606555, 'n_estimators': 1440, 'l2_leaf_reg': 2.363982361603174, 'random_strength': 2.750095495483943, 'bagging_temperature': 0.38354017739408003}. Best is trial 23 with value: 0.1817439970998392.\n",
      "[I 2025-05-10 18:02:26,797] Trial 58 finished with value: 0.12276777937316237 and parameters: {'learning_rate': 0.0009424860990158638, 'n_estimators': 1559, 'l2_leaf_reg': 1.681010664318436, 'random_strength': 1.184752921942191, 'bagging_temperature': 0.6281070162533865}. Best is trial 23 with value: 0.1817439970998392.\n",
      "[I 2025-05-10 18:02:41,257] Trial 59 finished with value: 0.16567475256683192 and parameters: {'learning_rate': 0.02010034951804255, 'n_estimators': 1324, 'l2_leaf_reg': 1.08211066991365, 'random_strength': 2.89702618516597, 'bagging_temperature': 0.7874142788377205}. Best is trial 23 with value: 0.1817439970998392.\n",
      "[I 2025-05-10 18:02:58,156] Trial 60 finished with value: 0.17994354509230048 and parameters: {'learning_rate': 0.006860405611038203, 'n_estimators': 1624, 'l2_leaf_reg': 2.8788289080263008, 'random_strength': 3.7902750294947225, 'bagging_temperature': 0.7394397383110781}. Best is trial 23 with value: 0.1817439970998392.\n",
      "[I 2025-05-10 18:03:14,928] Trial 61 finished with value: 0.18023606067160014 and parameters: {'learning_rate': 0.006913164073807712, 'n_estimators': 1618, 'l2_leaf_reg': 2.9418503720593776, 'random_strength': 3.6487787902358444, 'bagging_temperature': 0.7263147108260292}. Best is trial 23 with value: 0.1817439970998392.\n",
      "[I 2025-05-10 18:03:31,198] Trial 62 finished with value: 0.1710670634937486 and parameters: {'learning_rate': 0.004872020100183063, 'n_estimators': 1614, 'l2_leaf_reg': 3.0032664285325135, 'random_strength': 3.77127022341939, 'bagging_temperature': 0.7333510415270555}. Best is trial 23 with value: 0.1817439970998392.\n",
      "[I 2025-05-10 18:03:47,158] Trial 63 finished with value: 0.13170252542395375 and parameters: {'learning_rate': 0.0014927106886369753, 'n_estimators': 1531, 'l2_leaf_reg': 3.551365048058177, 'random_strength': 2.0055172279673137, 'bagging_temperature': 0.9228634700635103}. Best is trial 23 with value: 0.1817439970998392.\n",
      "[I 2025-05-10 18:04:04,708] Trial 64 finished with value: 0.17763518428298816 and parameters: {'learning_rate': 0.013478457750843281, 'n_estimators': 1684, 'l2_leaf_reg': 2.5768759552185863, 'random_strength': 9.95106978166621, 'bagging_temperature': 0.74453727858946}. Best is trial 23 with value: 0.1817439970998392.\n",
      "[I 2025-05-10 18:04:20,737] Trial 65 finished with value: 0.16605717446541202 and parameters: {'learning_rate': 0.004125204422542976, 'n_estimators': 1578, 'l2_leaf_reg': 4.231673546625373, 'random_strength': 2.897936933426135, 'bagging_temperature': 0.6420089635259298}. Best is trial 23 with value: 0.1817439970998392.\n",
      "[I 2025-05-10 18:04:37,420] Trial 66 finished with value: 0.18354073370089088 and parameters: {'learning_rate': 0.007023593940372516, 'n_estimators': 1612, 'l2_leaf_reg': 2.8978972585757528, 'random_strength': 4.093396333604808, 'bagging_temperature': 0.7987906746895483}. Best is trial 66 with value: 0.18354073370089088.\n",
      "[I 2025-05-10 18:04:54,760] Trial 67 finished with value: 0.15100402147324077 and parameters: {'learning_rate': 0.03302396749538611, 'n_estimators': 1622, 'l2_leaf_reg': 3.1102972767647317, 'random_strength': 4.120185677589521, 'bagging_temperature': 0.7189980929207516}. Best is trial 66 with value: 0.18354073370089088.\n",
      "[I 2025-05-10 18:05:09,154] Trial 68 finished with value: 0.13277925710121366 and parameters: {'learning_rate': 0.002366517271250132, 'n_estimators': 1503, 'l2_leaf_reg': 3.540390453011706, 'random_strength': 4.927131423606536, 'bagging_temperature': 0.7663396021869032}. Best is trial 66 with value: 0.18354073370089088.\n",
      "[I 2025-05-10 18:05:22,159] Trial 69 finished with value: 0.16962916010018636 and parameters: {'learning_rate': 0.021102412679952384, 'n_estimators': 1225, 'l2_leaf_reg': 2.3407377237408835, 'random_strength': 3.4153031845585913, 'bagging_temperature': 0.8511423098756645}. Best is trial 66 with value: 0.18354073370089088.\n",
      "[I 2025-05-10 18:05:38,079] Trial 70 finished with value: 0.18000256992651184 and parameters: {'learning_rate': 0.007556609028290548, 'n_estimators': 1544, 'l2_leaf_reg': 2.7513744658552515, 'random_strength': 3.1487157474780214, 'bagging_temperature': 0.5937977006705725}. Best is trial 66 with value: 0.18354073370089088.\n",
      "[I 2025-05-10 18:05:55,046] Trial 71 finished with value: 0.1816721666307267 and parameters: {'learning_rate': 0.008072407251229563, 'n_estimators': 1540, 'l2_leaf_reg': 2.812536651893677, 'random_strength': 3.1593069953488033, 'bagging_temperature': 0.6954362874068031}. Best is trial 66 with value: 0.18354073370089088.\n",
      "[I 2025-05-10 18:06:12,121] Trial 72 finished with value: 0.17046623593555052 and parameters: {'learning_rate': 0.013948668264673642, 'n_estimators': 1527, 'l2_leaf_reg': 1.9911503669950648, 'random_strength': 2.373724610881646, 'bagging_temperature': 0.6783384376636361}. Best is trial 66 with value: 0.18354073370089088.\n",
      "[I 2025-05-10 18:06:28,062] Trial 73 finished with value: 0.1585845934566538 and parameters: {'learning_rate': 0.0031456637684017345, 'n_estimators': 1551, 'l2_leaf_reg': 2.763607587528721, 'random_strength': 3.1278777091547134, 'bagging_temperature': 0.5973494874657825}. Best is trial 66 with value: 0.18354073370089088.\n",
      "[I 2025-05-10 18:06:44,929] Trial 74 finished with value: 0.18215594609339467 and parameters: {'learning_rate': 0.007586409447768873, 'n_estimators': 1574, 'l2_leaf_reg': 2.267376939488722, 'random_strength': 2.6366137195201187, 'bagging_temperature': 0.6907029262715068}. Best is trial 66 with value: 0.18354073370089088.\n",
      "[I 2025-05-10 18:07:01,850] Trial 75 finished with value: 0.17417978505927487 and parameters: {'learning_rate': 0.004716240131513363, 'n_estimators': 1603, 'l2_leaf_reg': 2.2871028089135805, 'random_strength': 2.739160326651986, 'bagging_temperature': 0.691540774176329}. Best is trial 66 with value: 0.18354073370089088.\n",
      "[I 2025-05-10 18:07:19,332] Trial 76 finished with value: 0.12292109886375076 and parameters: {'learning_rate': 0.06072381324763104, 'n_estimators': 1576, 'l2_leaf_reg': 5.04197513328159, 'random_strength': 3.4957648057632587, 'bagging_temperature': 0.8181712625055811}. Best is trial 66 with value: 0.18354073370089088.\n",
      "[I 2025-05-10 18:07:35,215] Trial 77 finished with value: 0.18186823173391942 and parameters: {'learning_rate': 0.01097814437703416, 'n_estimators': 1502, 'l2_leaf_reg': 6.506136135023811, 'random_strength': 4.118245473108644, 'bagging_temperature': 0.9013304576383275}. Best is trial 66 with value: 0.18354073370089088.\n",
      "[I 2025-05-10 18:07:51,147] Trial 78 finished with value: 0.06558272856226892 and parameters: {'learning_rate': 0.13340320933855612, 'n_estimators': 1442, 'l2_leaf_reg': 6.535105531446655, 'random_strength': 9.237867625392068, 'bagging_temperature': 0.8860381244432817}. Best is trial 66 with value: 0.18354073370089088.\n",
      "[I 2025-05-10 18:08:06,042] Trial 79 finished with value: 0.17762593207878472 and parameters: {'learning_rate': 0.011781047491653226, 'n_estimators': 1407, 'l2_leaf_reg': 5.783245329673229, 'random_strength': 4.10507610396264, 'bagging_temperature': 0.9182128112686614}. Best is trial 66 with value: 0.18354073370089088.\n",
      "[I 2025-05-10 18:08:22,257] Trial 80 finished with value: 0.16636233710474105 and parameters: {'learning_rate': 0.020858469320368434, 'n_estimators': 1493, 'l2_leaf_reg': 5.449564481996765, 'random_strength': 2.5580474991474627, 'bagging_temperature': 0.7990624187249851}. Best is trial 66 with value: 0.18354073370089088.\n",
      "[I 2025-05-10 18:08:37,203] Trial 81 finished with value: 0.17400277257707322 and parameters: {'learning_rate': 0.006004511549921768, 'n_estimators': 1467, 'l2_leaf_reg': 7.120633890968197, 'random_strength': 3.5961000856161043, 'bagging_temperature': 0.7645283350915208}. Best is trial 66 with value: 0.18354073370089088.\n",
      "[I 2025-05-10 18:08:52,993] Trial 82 finished with value: 0.1811675682314439 and parameters: {'learning_rate': 0.008849540584918892, 'n_estimators': 1521, 'l2_leaf_reg': 1.8131633202930664, 'random_strength': 4.3291193224534545, 'bagging_temperature': 0.6403017081562498}. Best is trial 66 with value: 0.18354073370089088.\n",
      "[I 2025-05-10 18:09:09,203] Trial 83 finished with value: 0.17444434943654286 and parameters: {'learning_rate': 0.01720432709955912, 'n_estimators': 1524, 'l2_leaf_reg': 1.8519546450950777, 'random_strength': 5.100298561383441, 'bagging_temperature': 0.6389462242027376}. Best is trial 66 with value: 0.18354073370089088.\n",
      "[I 2025-05-10 18:09:24,145] Trial 84 finished with value: 0.15652097648081928 and parameters: {'learning_rate': 0.003700111865417692, 'n_estimators': 1509, 'l2_leaf_reg': 1.4416893257129697, 'random_strength': 4.2399676455102835, 'bagging_temperature': 0.9601412154982291}. Best is trial 66 with value: 0.18354073370089088.\n",
      "[I 2025-05-10 18:09:39,289] Trial 85 finished with value: 0.17863023106586143 and parameters: {'learning_rate': 0.010902562901443593, 'n_estimators': 1452, 'l2_leaf_reg': 6.077852185884773, 'random_strength': 4.430644345133537, 'bagging_temperature': 0.7022313188641282}. Best is trial 66 with value: 0.18354073370089088.\n",
      "[I 2025-05-10 18:09:54,879] Trial 86 finished with value: 0.1351243697314564 and parameters: {'learning_rate': 0.00218011249908009, 'n_estimators': 1594, 'l2_leaf_reg': 2.1258397482423432, 'random_strength': 4.813778316520822, 'bagging_temperature': 0.657903262860193}. Best is trial 66 with value: 0.18354073370089088.\n",
      "[I 2025-05-10 18:10:11,505] Trial 87 finished with value: 0.18115340700542526 and parameters: {'learning_rate': 0.00969369477505109, 'n_estimators': 1574, 'l2_leaf_reg': 2.5644357797747297, 'random_strength': 3.2633314274510634, 'bagging_temperature': 0.5460869124567482}. Best is trial 66 with value: 0.18354073370089088.\n",
      "[I 2025-05-10 18:10:28,507] Trial 88 finished with value: 0.17764065172050478 and parameters: {'learning_rate': 0.008911208931064287, 'n_estimators': 1574, 'l2_leaf_reg': 6.89467934003746, 'random_strength': 2.0576147781082836, 'bagging_temperature': 0.5017686587248897}. Best is trial 66 with value: 0.18354073370089088.\n",
      "[I 2025-05-10 18:10:43,728] Trial 89 finished with value: 0.1779153160942869 and parameters: {'learning_rate': 0.014859167894311142, 'n_estimators': 1414, 'l2_leaf_reg': 2.5075991214488536, 'random_strength': 3.9455872705640678, 'bagging_temperature': 0.5478798197528583}. Best is trial 66 with value: 0.18354073370089088.\n",
      "[I 2025-05-10 18:10:59,858] Trial 90 finished with value: 0.15036925390050296 and parameters: {'learning_rate': 0.02763134838243983, 'n_estimators': 1476, 'l2_leaf_reg': 1.1918159483167794, 'random_strength': 3.2525192174642497, 'bagging_temperature': 0.606718259361102}. Best is trial 66 with value: 0.18354073370089088.\n",
      "[I 2025-05-10 18:11:14,262] Trial 91 finished with value: -0.00039645127657361723 and parameters: {'learning_rate': 1.139728521349244e-05, 'n_estimators': 1544, 'l2_leaf_reg': 1.8523873554845054, 'random_strength': 9.600889023779201, 'bagging_temperature': 0.6830057902613694}. Best is trial 66 with value: 0.18354073370089088.\n",
      "[I 2025-05-10 18:11:29,004] Trial 92 finished with value: 0.15942964473689028 and parameters: {'learning_rate': 0.004957129875896379, 'n_estimators': 1562, 'l2_leaf_reg': 2.267845794659851, 'random_strength': 8.579891959704543, 'bagging_temperature': 0.12753467924971928}. Best is trial 66 with value: 0.18354073370089088.\n",
      "[I 2025-05-10 18:11:44,888] Trial 93 finished with value: 0.17924821394222398 and parameters: {'learning_rate': 0.008254559090850344, 'n_estimators': 1506, 'l2_leaf_reg': 3.2851276378049183, 'random_strength': 3.019308455361535, 'bagging_temperature': 0.781416845793244}. Best is trial 66 with value: 0.18354073370089088.\n",
      "[I 2025-05-10 18:12:02,077] Trial 94 finished with value: 0.16773796484913864 and parameters: {'learning_rate': 0.0036872414601209933, 'n_estimators': 1670, 'l2_leaf_reg': 1.378539760720167, 'random_strength': 2.671091352191312, 'bagging_temperature': 0.6265272285689234}. Best is trial 66 with value: 0.18354073370089088.\n",
      "[I 2025-05-10 18:12:18,959] Trial 95 finished with value: 0.17789379109295278 and parameters: {'learning_rate': 0.01141350647964887, 'n_estimators': 1599, 'l2_leaf_reg': 5.746025110694281, 'random_strength': 4.044114537949187, 'bagging_temperature': 0.5758545058931503}. Best is trial 66 with value: 0.18354073370089088.\n",
      "[I 2025-05-10 18:12:40,075] Trial 96 finished with value: 0.177584429637072 and parameters: {'learning_rate': 0.009053322034413077, 'n_estimators': 1969, 'l2_leaf_reg': 2.562616235101661, 'random_strength': 2.2525123524324697, 'bagging_temperature': 0.6502984450821604}. Best is trial 66 with value: 0.18354073370089088.\n",
      "[I 2025-05-10 18:12:58,813] Trial 97 finished with value: 0.17239157699641308 and parameters: {'learning_rate': 0.016789799263547366, 'n_estimators': 1752, 'l2_leaf_reg': 6.330681012477561, 'random_strength': 5.1113544593347005, 'bagging_temperature': 0.7094818774069943}. Best is trial 66 with value: 0.18354073370089088.\n",
      "[I 2025-05-10 18:13:16,864] Trial 98 finished with value: 0.18006314778777818 and parameters: {'learning_rate': 0.005427188158583603, 'n_estimators': 1819, 'l2_leaf_reg': 1.6205406145309524, 'random_strength': 4.665572440439281, 'bagging_temperature': 0.5414402071836515}. Best is trial 66 with value: 0.18354073370089088.\n",
      "[I 2025-05-10 18:13:32,160] Trial 99 finished with value: 0.18216192399440567 and parameters: {'learning_rate': 0.0070759681206920165, 'n_estimators': 1487, 'l2_leaf_reg': 5.281899209475017, 'random_strength': 3.313079093628199, 'bagging_temperature': 0.7476807951494865}. Best is trial 66 with value: 0.18354073370089088.\n"
     ]
    }
   ],
   "source": [
    "def objective_catboost(trial):\n",
    "    max_depth = 4 #trial.suggest_int(\"max_depth\", 3, 5)\n",
    "    learning_rate = trial.suggest_float(\"learning_rate\", 1e-5, 1, log=True)\n",
    "    n_estimators = trial.suggest_int(\"n_estimators\", 1200, 2000)\n",
    "    l2_leaf_reg = trial.suggest_float(\"l2_leaf_reg\", 1, 10)\n",
    "    random_strength = trial.suggest_float(\"random_strength\", 0, 10)\n",
    "    bagging_temperature = trial.suggest_float(\"bagging_temperature\", 0, 1)\n",
    "    # border_count = trial.suggest_int(\"border_count\", 32, 255)\n",
    "\n",
    "    model = CatBoostRegressor(\n",
    "        cat_features=cat_features,\n",
    "        max_depth=max_depth,\n",
    "        learning_rate=learning_rate,\n",
    "        n_estimators=n_estimators,\n",
    "        l2_leaf_reg=l2_leaf_reg,\n",
    "        random_strength=random_strength,\n",
    "        bagging_temperature=bagging_temperature,\n",
    "        # border_count=border_count,\n",
    "        silent=True\n",
    "    )\n",
    "\n",
    "    score = cross_val_score(model, X, y, cv=3, scoring=\"r2\", n_jobs=-1).mean()\n",
    "    return score\n",
    "\n",
    "study = optuna.create_study(direction=\"maximize\")\n",
    "study.optimize(objective_catboost, n_trials=100)"
   ]
  },
  {
   "cell_type": "code",
   "execution_count": 64,
   "id": "adc69e57",
   "metadata": {},
   "outputs": [
    {
     "data": {
      "text/plain": [
       "<catboost.core.CatBoostRegressor at 0x18aaf6e23f0>"
      ]
     },
     "execution_count": 64,
     "metadata": {},
     "output_type": "execute_result"
    }
   ],
   "source": [
    "params = study.best_params\n",
    "model = CatBoostRegressor(\n",
    "        cat_features=cat_features,\n",
    "        max_depth=4,\n",
    "        learning_rate=params['learning_rate'],\n",
    "        n_estimators=params['n_estimators'],\n",
    "        l2_leaf_reg=params['l2_leaf_reg'],\n",
    "        random_strength=params['random_strength'],\n",
    "        bagging_temperature=params['bagging_temperature'],\n",
    "        # border_count=params['border_count'],\n",
    "        silent=True\n",
    "    )\n",
    "model.fit(X, y)"
   ]
  },
  {
   "cell_type": "code",
   "execution_count": null,
   "id": "456ef316",
   "metadata": {},
   "outputs": [],
   "source": []
  },
  {
   "cell_type": "code",
   "execution_count": 65,
   "id": "9177417c",
   "metadata": {},
   "outputs": [],
   "source": [
    "test_df = pd.read_csv(TEST)"
   ]
  },
  {
   "cell_type": "code",
   "execution_count": 66,
   "id": "e06c0daf",
   "metadata": {},
   "outputs": [],
   "source": [
    "test_df = test_df.replace('\\xa0', np.NaN)"
   ]
  },
  {
   "cell_type": "code",
   "execution_count": 67,
   "id": "d94bc09b",
   "metadata": {},
   "outputs": [
    {
     "data": {
      "text/plain": [
       "Company                   0\n",
       "Specific Bean Origin      0\n",
       "REF                       0\n",
       "Review                    0\n",
       "Cocoa Percent             0\n",
       "Company Location          0\n",
       "Bean Type               259\n",
       "Broad Bean Origin        18\n",
       "dtype: int64"
      ]
     },
     "execution_count": 67,
     "metadata": {},
     "output_type": "execute_result"
    }
   ],
   "source": [
    "test_df.isna().sum()"
   ]
  },
  {
   "cell_type": "code",
   "execution_count": 68,
   "id": "76ebb392",
   "metadata": {},
   "outputs": [
    {
     "data": {
      "text/html": [
       "<div>\n",
       "<style scoped>\n",
       "    .dataframe tbody tr th:only-of-type {\n",
       "        vertical-align: middle;\n",
       "    }\n",
       "\n",
       "    .dataframe tbody tr th {\n",
       "        vertical-align: top;\n",
       "    }\n",
       "\n",
       "    .dataframe thead th {\n",
       "        text-align: right;\n",
       "    }\n",
       "</style>\n",
       "<table border=\"1\" class=\"dataframe\">\n",
       "  <thead>\n",
       "    <tr style=\"text-align: right;\">\n",
       "      <th></th>\n",
       "      <th>Company</th>\n",
       "      <th>Specific Bean Origin</th>\n",
       "      <th>REF</th>\n",
       "      <th>Review</th>\n",
       "      <th>Cocoa Percent</th>\n",
       "      <th>Company Location</th>\n",
       "      <th>Bean Type</th>\n",
       "      <th>Broad Bean Origin</th>\n",
       "    </tr>\n",
       "  </thead>\n",
       "  <tbody>\n",
       "    <tr>\n",
       "      <th>0</th>\n",
       "      <td>Ohiyo</td>\n",
       "      <td>San Juan Estate, Gran Couva</td>\n",
       "      <td>1594</td>\n",
       "      <td>2015</td>\n",
       "      <td>70%</td>\n",
       "      <td>U.S.A.</td>\n",
       "      <td>Trinitario</td>\n",
       "      <td>Trinidad</td>\n",
       "    </tr>\n",
       "    <tr>\n",
       "      <th>1</th>\n",
       "      <td>Blanxart</td>\n",
       "      <td>Organic Dark</td>\n",
       "      <td>322</td>\n",
       "      <td>2009</td>\n",
       "      <td>72%</td>\n",
       "      <td>Spain</td>\n",
       "      <td>NaN</td>\n",
       "      <td>NaN</td>\n",
       "    </tr>\n",
       "    <tr>\n",
       "      <th>2</th>\n",
       "      <td>Brazen</td>\n",
       "      <td>Maya Mountain</td>\n",
       "      <td>1518</td>\n",
       "      <td>2015</td>\n",
       "      <td>80%</td>\n",
       "      <td>U.S.A.</td>\n",
       "      <td>Trinitario</td>\n",
       "      <td>Belize</td>\n",
       "    </tr>\n",
       "    <tr>\n",
       "      <th>3</th>\n",
       "      <td>Patric</td>\n",
       "      <td>Madagascar</td>\n",
       "      <td>439</td>\n",
       "      <td>2009</td>\n",
       "      <td>67%</td>\n",
       "      <td>U.S.A.</td>\n",
       "      <td>Trinitario</td>\n",
       "      <td>Madagascar</td>\n",
       "    </tr>\n",
       "    <tr>\n",
       "      <th>4</th>\n",
       "      <td>Potomac</td>\n",
       "      <td>Upala, Batch 12</td>\n",
       "      <td>607</td>\n",
       "      <td>2010</td>\n",
       "      <td>82%</td>\n",
       "      <td>U.S.A.</td>\n",
       "      <td>Matina</td>\n",
       "      <td>Costa Rica</td>\n",
       "    </tr>\n",
       "  </tbody>\n",
       "</table>\n",
       "</div>"
      ],
      "text/plain": [
       "    Company         Specific Bean Origin   REF  Review Cocoa Percent  \\\n",
       "0     Ohiyo  San Juan Estate, Gran Couva  1594    2015           70%   \n",
       "1  Blanxart                 Organic Dark   322    2009           72%   \n",
       "2    Brazen                Maya Mountain  1518    2015           80%   \n",
       "3    Patric                   Madagascar   439    2009           67%   \n",
       "4   Potomac              Upala, Batch 12   607    2010           82%   \n",
       "\n",
       "  Company Location   Bean Type Broad Bean Origin  \n",
       "0           U.S.A.  Trinitario          Trinidad  \n",
       "1            Spain         NaN               NaN  \n",
       "2           U.S.A.  Trinitario            Belize  \n",
       "3           U.S.A.  Trinitario        Madagascar  \n",
       "4           U.S.A.      Matina        Costa Rica  "
      ]
     },
     "execution_count": 68,
     "metadata": {},
     "output_type": "execute_result"
    }
   ],
   "source": [
    "test_df.head()"
   ]
  },
  {
   "cell_type": "code",
   "execution_count": 69,
   "id": "439f9997",
   "metadata": {},
   "outputs": [
    {
     "name": "stdout",
     "output_type": "stream",
     "text": [
      "<class 'pandas.core.frame.DataFrame'>\n",
      "RangeIndex: 540 entries, 0 to 539\n",
      "Data columns (total 8 columns):\n",
      " #   Column                Non-Null Count  Dtype \n",
      "---  ------                --------------  ----- \n",
      " 0   Company               540 non-null    object\n",
      " 1   Specific Bean Origin  540 non-null    object\n",
      " 2   REF                   540 non-null    int64 \n",
      " 3   Review                540 non-null    int64 \n",
      " 4   Cocoa Percent         540 non-null    object\n",
      " 5   Company Location      540 non-null    object\n",
      " 6   Bean Type             281 non-null    object\n",
      " 7   Broad Bean Origin     522 non-null    object\n",
      "dtypes: int64(2), object(6)\n",
      "memory usage: 33.9+ KB\n"
     ]
    }
   ],
   "source": [
    "test_df.info()"
   ]
  },
  {
   "cell_type": "code",
   "execution_count": 70,
   "id": "c5e31a5f",
   "metadata": {},
   "outputs": [],
   "source": [
    "test_df['Cocoa Percent'] = test_df['Cocoa Percent'].apply(lambda x: x.rstrip(' %')).astype(np.float32)"
   ]
  },
  {
   "cell_type": "code",
   "execution_count": 71,
   "id": "dee01581",
   "metadata": {},
   "outputs": [],
   "source": [
    "df_clean = test_df.copy()\n",
    "df_clean = df_clean.apply(lambda x: x.astype('object') if x.dtype == 'category' else x)"
   ]
  },
  {
   "cell_type": "code",
   "execution_count": 72,
   "id": "d2f826b1",
   "metadata": {},
   "outputs": [],
   "source": [
    "col_in = 'Bean Type'\n",
    "test_df_clean = cleaned_df(df_clean, col_in)"
   ]
  },
  {
   "cell_type": "code",
   "execution_count": 73,
   "id": "d659e86d",
   "metadata": {},
   "outputs": [
    {
     "data": {
      "text/plain": [
       "Company                   0\n",
       "Specific Bean Origin      0\n",
       "REF                       0\n",
       "Review                    0\n",
       "Cocoa Percent             0\n",
       "Company Location          0\n",
       "Bean Type               259\n",
       "Broad Bean Origin        18\n",
       "dtype: int64"
      ]
     },
     "execution_count": 73,
     "metadata": {},
     "output_type": "execute_result"
    }
   ],
   "source": [
    "test_df.isna().sum()"
   ]
  },
  {
   "cell_type": "code",
   "execution_count": 74,
   "id": "b8acc26e",
   "metadata": {},
   "outputs": [
    {
     "data": {
      "text/plain": [
       "Company                  0\n",
       "Specific Bean Origin     0\n",
       "REF                      0\n",
       "Review                   0\n",
       "Cocoa Percent            0\n",
       "Company Location         0\n",
       "Bean Type                8\n",
       "Broad Bean Origin       18\n",
       "dtype: int64"
      ]
     },
     "execution_count": 74,
     "metadata": {},
     "output_type": "execute_result"
    }
   ],
   "source": [
    "test_df_clean.isna().sum()"
   ]
  },
  {
   "cell_type": "code",
   "execution_count": 75,
   "id": "97169f5a",
   "metadata": {},
   "outputs": [],
   "source": [
    "df_clean = test_df_clean.copy()\n",
    "col_in = 'Broad Bean Origin'\n",
    "test_df_clean = cleaned_df(df_clean, col_in)"
   ]
  },
  {
   "cell_type": "code",
   "execution_count": 76,
   "id": "34cb0a8f",
   "metadata": {},
   "outputs": [
    {
     "data": {
      "text/plain": [
       "Company                   0\n",
       "Specific Bean Origin      0\n",
       "REF                       0\n",
       "Review                    0\n",
       "Cocoa Percent             0\n",
       "Company Location          0\n",
       "Bean Type               259\n",
       "Broad Bean Origin        18\n",
       "dtype: int64"
      ]
     },
     "execution_count": 76,
     "metadata": {},
     "output_type": "execute_result"
    }
   ],
   "source": [
    "test_df.isna().sum()"
   ]
  },
  {
   "cell_type": "code",
   "execution_count": 77,
   "id": "c16c7da9",
   "metadata": {},
   "outputs": [
    {
     "data": {
      "text/plain": [
       "Company                 0\n",
       "Specific Bean Origin    0\n",
       "REF                     0\n",
       "Review                  0\n",
       "Cocoa Percent           0\n",
       "Company Location        0\n",
       "Bean Type               8\n",
       "Broad Bean Origin       2\n",
       "dtype: int64"
      ]
     },
     "execution_count": 77,
     "metadata": {},
     "output_type": "execute_result"
    }
   ],
   "source": [
    "test_df_clean.isna().sum()"
   ]
  },
  {
   "cell_type": "code",
   "execution_count": 78,
   "id": "d09a28df",
   "metadata": {},
   "outputs": [
    {
     "name": "stdout",
     "output_type": "stream",
     "text": [
      "set()\n",
      "set()\n"
     ]
    }
   ],
   "source": [
    "print(set(test_df_clean['Bean Type'].unique()).symmetric_difference(set(test_df['Bean Type'].unique())))\n",
    "print(set(test_df_clean['Broad Bean Origin'].unique()).symmetric_difference(set(test_df['Broad Bean Origin'].unique())))"
   ]
  },
  {
   "cell_type": "code",
   "execution_count": 79,
   "id": "af875349",
   "metadata": {},
   "outputs": [],
   "source": [
    "test_df_clean = test_df_clean.fillna('Other')"
   ]
  },
  {
   "cell_type": "code",
   "execution_count": 80,
   "id": "a57719c7",
   "metadata": {},
   "outputs": [
    {
     "data": {
      "text/plain": [
       "Company                 0\n",
       "Specific Bean Origin    0\n",
       "REF                     0\n",
       "Review                  0\n",
       "Cocoa Percent           0\n",
       "Company Location        0\n",
       "Bean Type               0\n",
       "Broad Bean Origin       0\n",
       "dtype: int64"
      ]
     },
     "execution_count": 80,
     "metadata": {},
     "output_type": "execute_result"
    }
   ],
   "source": [
    "test_df_clean.isna().sum()"
   ]
  },
  {
   "cell_type": "code",
   "execution_count": 81,
   "id": "0fcd084f",
   "metadata": {},
   "outputs": [
    {
     "name": "stdout",
     "output_type": "stream",
     "text": [
      "{'Other', nan}\n",
      "{'Other', nan}\n"
     ]
    }
   ],
   "source": [
    "print(set(test_df_clean['Bean Type'].unique()).symmetric_difference(set(test_df['Bean Type'].unique())))\n",
    "print(set(test_df_clean['Broad Bean Origin'].unique()).symmetric_difference(set(test_df['Broad Bean Origin'].unique())))"
   ]
  },
  {
   "cell_type": "code",
   "execution_count": 82,
   "id": "16c096e9",
   "metadata": {},
   "outputs": [
    {
     "name": "stdout",
     "output_type": "stream",
     "text": [
      "(540, 8)\n",
      "(540, 8)\n"
     ]
    }
   ],
   "source": [
    "print(test_df.shape)\n",
    "print(test_df_clean.shape)"
   ]
  },
  {
   "cell_type": "code",
   "execution_count": 83,
   "id": "ff85aa56",
   "metadata": {},
   "outputs": [],
   "source": [
    "def REF_transform(x):\n",
    "    for n, inerval in enumerate(arr, 1):\n",
    "        if x in inerval:\n",
    "            return n"
   ]
  },
  {
   "cell_type": "code",
   "execution_count": 84,
   "id": "6c8617d6",
   "metadata": {},
   "outputs": [],
   "source": [
    "test_df_clean['REF'] = test_df_clean['REF'].apply(REF_transform)"
   ]
  },
  {
   "cell_type": "code",
   "execution_count": 85,
   "id": "1b242322",
   "metadata": {},
   "outputs": [
    {
     "data": {
      "text/html": [
       "<div>\n",
       "<style scoped>\n",
       "    .dataframe tbody tr th:only-of-type {\n",
       "        vertical-align: middle;\n",
       "    }\n",
       "\n",
       "    .dataframe tbody tr th {\n",
       "        vertical-align: top;\n",
       "    }\n",
       "\n",
       "    .dataframe thead th {\n",
       "        text-align: right;\n",
       "    }\n",
       "</style>\n",
       "<table border=\"1\" class=\"dataframe\">\n",
       "  <thead>\n",
       "    <tr style=\"text-align: right;\">\n",
       "      <th></th>\n",
       "      <th>Company</th>\n",
       "      <th>Specific Bean Origin</th>\n",
       "      <th>REF</th>\n",
       "      <th>Review</th>\n",
       "      <th>Cocoa Percent</th>\n",
       "      <th>Company Location</th>\n",
       "      <th>Bean Type</th>\n",
       "      <th>Broad Bean Origin</th>\n",
       "    </tr>\n",
       "  </thead>\n",
       "  <tbody>\n",
       "    <tr>\n",
       "      <th>0</th>\n",
       "      <td>Ohiyo</td>\n",
       "      <td>San Juan Estate, Gran Couva</td>\n",
       "      <td>20</td>\n",
       "      <td>2015</td>\n",
       "      <td>70.0</td>\n",
       "      <td>U.S.A.</td>\n",
       "      <td>Trinitario</td>\n",
       "      <td>Trinidad</td>\n",
       "    </tr>\n",
       "    <tr>\n",
       "      <th>1</th>\n",
       "      <td>Blanxart</td>\n",
       "      <td>Organic Dark</td>\n",
       "      <td>4</td>\n",
       "      <td>2009</td>\n",
       "      <td>72.0</td>\n",
       "      <td>Spain</td>\n",
       "      <td>Trinitario</td>\n",
       "      <td>Venezuela</td>\n",
       "    </tr>\n",
       "    <tr>\n",
       "      <th>2</th>\n",
       "      <td>Brazen</td>\n",
       "      <td>Maya Mountain</td>\n",
       "      <td>19</td>\n",
       "      <td>2015</td>\n",
       "      <td>80.0</td>\n",
       "      <td>U.S.A.</td>\n",
       "      <td>Trinitario</td>\n",
       "      <td>Belize</td>\n",
       "    </tr>\n",
       "    <tr>\n",
       "      <th>3</th>\n",
       "      <td>Patric</td>\n",
       "      <td>Madagascar</td>\n",
       "      <td>6</td>\n",
       "      <td>2009</td>\n",
       "      <td>67.0</td>\n",
       "      <td>U.S.A.</td>\n",
       "      <td>Trinitario</td>\n",
       "      <td>Madagascar</td>\n",
       "    </tr>\n",
       "    <tr>\n",
       "      <th>4</th>\n",
       "      <td>Potomac</td>\n",
       "      <td>Upala, Batch 12</td>\n",
       "      <td>8</td>\n",
       "      <td>2010</td>\n",
       "      <td>82.0</td>\n",
       "      <td>U.S.A.</td>\n",
       "      <td>Matina</td>\n",
       "      <td>Costa Rica</td>\n",
       "    </tr>\n",
       "  </tbody>\n",
       "</table>\n",
       "</div>"
      ],
      "text/plain": [
       "    Company         Specific Bean Origin  REF  Review  Cocoa Percent  \\\n",
       "0     Ohiyo  San Juan Estate, Gran Couva   20    2015           70.0   \n",
       "1  Blanxart                 Organic Dark    4    2009           72.0   \n",
       "2    Brazen                Maya Mountain   19    2015           80.0   \n",
       "3    Patric                   Madagascar    6    2009           67.0   \n",
       "4   Potomac              Upala, Batch 12    8    2010           82.0   \n",
       "\n",
       "  Company Location   Bean Type Broad Bean Origin  \n",
       "0           U.S.A.  Trinitario          Trinidad  \n",
       "1            Spain  Trinitario         Venezuela  \n",
       "2           U.S.A.  Trinitario            Belize  \n",
       "3           U.S.A.  Trinitario        Madagascar  \n",
       "4           U.S.A.      Matina        Costa Rica  "
      ]
     },
     "execution_count": 85,
     "metadata": {},
     "output_type": "execute_result"
    }
   ],
   "source": [
    "test_df_clean.head()"
   ]
  },
  {
   "cell_type": "code",
   "execution_count": 86,
   "id": "6ba72682",
   "metadata": {},
   "outputs": [
    {
     "data": {
      "text/plain": [
       "Company                 244\n",
       "Specific Bean Origin    385\n",
       "REF                      24\n",
       "Review                   12\n",
       "Cocoa Percent            38\n",
       "Company Location         42\n",
       "Bean Type                20\n",
       "Broad Bean Origin        60\n",
       "dtype: int64"
      ]
     },
     "execution_count": 86,
     "metadata": {},
     "output_type": "execute_result"
    }
   ],
   "source": [
    "test_df_clean.nunique()"
   ]
  },
  {
   "cell_type": "code",
   "execution_count": 87,
   "id": "86345aca",
   "metadata": {},
   "outputs": [
    {
     "data": {
      "text/html": [
       "<div>\n",
       "<style scoped>\n",
       "    .dataframe tbody tr th:only-of-type {\n",
       "        vertical-align: middle;\n",
       "    }\n",
       "\n",
       "    .dataframe tbody tr th {\n",
       "        vertical-align: top;\n",
       "    }\n",
       "\n",
       "    .dataframe thead th {\n",
       "        text-align: right;\n",
       "    }\n",
       "</style>\n",
       "<table border=\"1\" class=\"dataframe\">\n",
       "  <thead>\n",
       "    <tr style=\"text-align: right;\">\n",
       "      <th></th>\n",
       "      <th>Company</th>\n",
       "      <th>REF</th>\n",
       "      <th>Cocoa Percent</th>\n",
       "      <th>Company Location</th>\n",
       "      <th>Bean Type</th>\n",
       "      <th>Broad Bean Origin</th>\n",
       "    </tr>\n",
       "  </thead>\n",
       "  <tbody>\n",
       "    <tr>\n",
       "      <th>0</th>\n",
       "      <td>Ohiyo</td>\n",
       "      <td>20</td>\n",
       "      <td>70.0</td>\n",
       "      <td>U.S.A.</td>\n",
       "      <td>Trinitario</td>\n",
       "      <td>Trinidad</td>\n",
       "    </tr>\n",
       "    <tr>\n",
       "      <th>1</th>\n",
       "      <td>Blanxart</td>\n",
       "      <td>4</td>\n",
       "      <td>72.0</td>\n",
       "      <td>Spain</td>\n",
       "      <td>Trinitario</td>\n",
       "      <td>Venezuela</td>\n",
       "    </tr>\n",
       "    <tr>\n",
       "      <th>2</th>\n",
       "      <td>Brazen</td>\n",
       "      <td>19</td>\n",
       "      <td>80.0</td>\n",
       "      <td>U.S.A.</td>\n",
       "      <td>Trinitario</td>\n",
       "      <td>Belize</td>\n",
       "    </tr>\n",
       "    <tr>\n",
       "      <th>3</th>\n",
       "      <td>Patric</td>\n",
       "      <td>6</td>\n",
       "      <td>67.0</td>\n",
       "      <td>U.S.A.</td>\n",
       "      <td>Trinitario</td>\n",
       "      <td>Madagascar</td>\n",
       "    </tr>\n",
       "    <tr>\n",
       "      <th>4</th>\n",
       "      <td>Potomac</td>\n",
       "      <td>8</td>\n",
       "      <td>82.0</td>\n",
       "      <td>U.S.A.</td>\n",
       "      <td>Matina</td>\n",
       "      <td>Costa Rica</td>\n",
       "    </tr>\n",
       "  </tbody>\n",
       "</table>\n",
       "</div>"
      ],
      "text/plain": [
       "    Company  REF  Cocoa Percent Company Location   Bean Type Broad Bean Origin\n",
       "0     Ohiyo   20           70.0           U.S.A.  Trinitario          Trinidad\n",
       "1  Blanxart    4           72.0            Spain  Trinitario         Venezuela\n",
       "2    Brazen   19           80.0           U.S.A.  Trinitario            Belize\n",
       "3    Patric    6           67.0           U.S.A.  Trinitario        Madagascar\n",
       "4   Potomac    8           82.0           U.S.A.      Matina        Costa Rica"
      ]
     },
     "execution_count": 87,
     "metadata": {},
     "output_type": "execute_result"
    }
   ],
   "source": [
    "drop_cols = ['Specific Bean Origin', 'Review']\n",
    "test_df_clean = test_df_clean.drop(drop_cols, axis=1)\n",
    "test_df_clean.head()"
   ]
  },
  {
   "cell_type": "code",
   "execution_count": 88,
   "id": "c3dba434",
   "metadata": {},
   "outputs": [],
   "source": [
    "test_df_clean = test_df_clean.apply(lambda x: x.astype('category') if x.dtype == 'object' else x)"
   ]
  },
  {
   "cell_type": "code",
   "execution_count": 89,
   "id": "f0a3fa70",
   "metadata": {},
   "outputs": [],
   "source": [
    "y_pred = model.predict(test_df_clean)"
   ]
  },
  {
   "cell_type": "code",
   "execution_count": 90,
   "id": "fc3eb16f",
   "metadata": {},
   "outputs": [],
   "source": [
    "cleaned_test_df = pd.DataFrame()\n",
    "cleaned_test_df['id'] = np.arange(len(test_df))\n",
    "cleaned_test_df['Rating'] = y_pred\n",
    "\n",
    "cleaned_test_df[['id','Rating']].to_csv(\"choko_submission.csv\", index=False)"
   ]
  },
  {
   "cell_type": "code",
   "execution_count": null,
   "id": "f4661ea0",
   "metadata": {},
   "outputs": [],
   "source": []
  }
 ],
 "metadata": {
  "kernelspec": {
   "display_name": "base",
   "language": "python",
   "name": "python3"
  },
  "language_info": {
   "codemirror_mode": {
    "name": "ipython",
    "version": 3
   },
   "file_extension": ".py",
   "mimetype": "text/x-python",
   "name": "python",
   "nbconvert_exporter": "python",
   "pygments_lexer": "ipython3",
   "version": "3.12.3"
  }
 },
 "nbformat": 4,
 "nbformat_minor": 5
}
