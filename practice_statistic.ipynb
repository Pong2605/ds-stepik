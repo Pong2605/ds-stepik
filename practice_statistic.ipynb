{
 "cells": [
  {
   "cell_type": "code",
   "execution_count": 241,
   "metadata": {},
   "outputs": [],
   "source": [
    "import pandas as pd\n",
    "import numpy as np\n",
    "\n",
    "from scipy import stats\n",
    "\n",
    "import seaborn as sns\n",
    "import matplotlib.pyplot as plt\n",
    "%matplotlib inline"
   ]
  },
  {
   "cell_type": "markdown",
   "metadata": {},
   "source": [
    "# 1.1 Среднее, медиана и мода"
   ]
  },
  {
   "cell_type": "code",
   "execution_count": null,
   "metadata": {},
   "outputs": [],
   "source": [
    "# Создадим датафрейм с данными о росте, весе и скоре игроков\n",
    "df = pd.DataFrame({'player_number': [10, 8, 12, 22, 36, 7, 1, 20, 9, 4, 14],\n",
    "                    'height': [168, 176, 178, 191, 185, 183, 185, 179, 169, 183, 167],\n",
    "                    'weight': [76, 77, 79, 81, 82, 79, 74, 84, 73, 71, 68],\n",
    "                    'score': [95, 86, 94, 96, 95, 95, 89, 83, 99, 78, 82]})\n",
    "df"
   ]
  },
  {
   "cell_type": "code",
   "execution_count": null,
   "metadata": {},
   "outputs": [],
   "source": [
    "# Среднее\n",
    "mean_height = df.height.mean()\n",
    "# Медиана\n",
    "median_height = df.height.median()\n",
    "# Мода\n",
    "mode_height = df.height.mode()\n",
    "print(mean_height)\n",
    "print(median_height)\n",
    "print(mode_height)"
   ]
  },
  {
   "cell_type": "code",
   "execution_count": null,
   "metadata": {},
   "outputs": [],
   "source": [
    "mean = df.mean()\n",
    "print(mean)"
   ]
  },
  {
   "cell_type": "code",
   "execution_count": null,
   "metadata": {},
   "outputs": [],
   "source": [
    "weight = pd.Series([76, 77, 79, 81, 82, 79, 74, 84, 73, 71, 68])\n",
    "weight.mean()"
   ]
  },
  {
   "cell_type": "code",
   "execution_count": 246,
   "metadata": {},
   "outputs": [],
   "source": [
    "import numpy as np\n",
    "from scipy import stats"
   ]
  },
  {
   "cell_type": "code",
   "execution_count": null,
   "metadata": {},
   "outputs": [],
   "source": [
    "mean_height = np.mean(df['height'])\n",
    "median_height = np.median(df['height'])\n",
    "mode_height = stats.mode(df['height'])\n",
    "print(mean_height)\n",
    "print(median_height)\n",
    "print(mode_height)"
   ]
  },
  {
   "cell_type": "code",
   "execution_count": null,
   "metadata": {},
   "outputs": [],
   "source": [
    "def solution(A): # A - некий датафрейм\n",
    "    x = round(A['score'].median(), 1)\n",
    "    return float(x)\n",
    "\n",
    "print(solution(df))"
   ]
  },
  {
   "cell_type": "code",
   "execution_count": null,
   "metadata": {},
   "outputs": [],
   "source": [
    "# Рассчитайте среднее значение веса игроков (weight), \n",
    "# которые набрали больше 90 баллов за сезон (score). \n",
    "# Выведите полученное значение типа float на экран, округлив до 5 знаков после запятой.\n",
    "def solution(A): # A - некий датафрейм\n",
    "    x = A.query('score > 90').weight.mean().round(5)\n",
    "    return x\n",
    "\n",
    "print(solution(df))"
   ]
  },
  {
   "cell_type": "code",
   "execution_count": null,
   "metadata": {},
   "outputs": [],
   "source": [
    "x = df.weight[df.score>90].mean().round(5)\n",
    "x"
   ]
  },
  {
   "cell_type": "code",
   "execution_count": null,
   "metadata": {},
   "outputs": [],
   "source": [
    "# Рассчитайте среднее значение роста игроков (height), \n",
    "# которые весят больше 80 кг и за сезон набрали не меньше 95 баллов (score). \n",
    "# Выведите полученное значение типа float на экран, округлив до 1 знака после запятой.\n",
    "x = df['height'][(df['weight'] > 80) & (df['score'] >= 95)].mean().round(1)\n",
    "print(x)\n",
    "x = df['height'][df['weight'] > 80][df['score'] >= 95].mean().round(1)\n",
    "print(x)\n",
    "x = df.query('weight > 80 & score >= 95')['height'].mean().round(1)\n",
    "print(x)"
   ]
  },
  {
   "cell_type": "code",
   "execution_count": null,
   "metadata": {},
   "outputs": [],
   "source": [
    "def solution(A): # A - некий датафрейм\n",
    "    x = round(A.score.mode())\n",
    "    return x\n",
    "\n",
    "print(solution(df))"
   ]
  },
  {
   "cell_type": "markdown",
   "metadata": {},
   "source": [
    "# 1.2 Дисперсия и стандартное отклонение"
   ]
  },
  {
   "cell_type": "code",
   "execution_count": null,
   "metadata": {},
   "outputs": [],
   "source": [
    "df = pd.DataFrame({'Company': ['Occidental Petroleum',\n",
    "'Exxon Mobil Corporation', 'Chevron Corporation',\n",
    "'Ovintiv Inc.', 'Murphy Oil',\n",
    "'Apache Corp', 'Continental Resources',\n",
    "'PDC Energy', 'Phillips 99', 'Devon Energy Corp',\n",
    "'Canadian Natural Resources', 'Cenovus Energy', 'Enbridge', 'Husky Energy',\n",
    "'Imperial Oil', 'Irving Oil', 'Pembina Pipeline', 'Suncor Energy'],\n",
    " 'ROE': [7.35, 4.33, 3.37, 8.3, 3.97, 9.88, 9.52, 7.48, 4.76, 8.95, 9.10, 4.21,\n",
    "6.12, 7.91, 8.49, 8.72, 6.52, 4.75]})\n",
    "df"
   ]
  },
  {
   "cell_type": "code",
   "execution_count": null,
   "metadata": {},
   "outputs": [],
   "source": [
    "Var = df['ROE'].var()\n",
    "sd = df['ROE'].std()\n",
    "Var_smeshennaya = df['ROE'].var(ddof=0)\n",
    "sd_smeshennaya = df['ROE'].std(ddof=0)\n",
    "sd_smeshennaya = np.var(df['ROE'])\n",
    "Var, sd, Var_smeshennaya, sd_smeshennaya"
   ]
  },
  {
   "cell_type": "code",
   "execution_count": null,
   "metadata": {},
   "outputs": [],
   "source": [
    "Var = np.var(df['ROE'], ddof=1)\n",
    "sd = np.std(df['ROE'], ddof=1)\n",
    "Var_smeshennaya = np.var(df['ROE'])\n",
    "sd_smeshennaya = np.var(df['ROE'])\n",
    "Var, sd, Var_smeshennaya, sd_smeshennaya"
   ]
  },
  {
   "cell_type": "code",
   "execution_count": null,
   "metadata": {},
   "outputs": [],
   "source": [
    "# Рассчитайте смещенную оценку выборочной дисперсии рентабельности капитала (ROE) нефтегазовых компаний, \n",
    "# значения которых находятся в интервале от 4 до 8 процентов годовых включительно. \n",
    "# Выведите полученное значение типа float на экран, округлив до 5 знаков после запятой.\n",
    "var_smesh = np.var(df['ROE'][(4 <= df['ROE']) & (df['ROE'] <= 8)])\n",
    "var_smesh"
   ]
  },
  {
   "cell_type": "code",
   "execution_count": null,
   "metadata": {},
   "outputs": [],
   "source": [
    "# Рассчитайте несмещенную оценку стандартного отклонения рентабельности капитала (ROE) компаний из выборки df \n",
    "# за исключением компании Apache Corp. \n",
    "# Выведите полученное значение типа float на экран, округлив до 5 знаков после запятой.\n",
    "var = round(df['ROE'][~(df['Company'] == 'Apache Corp')].std(), 5)\n",
    "var"
   ]
  },
  {
   "cell_type": "markdown",
   "metadata": {},
   "source": [
    "# 1.3 Ковариация и корреляция"
   ]
  },
  {
   "cell_type": "code",
   "execution_count": 258,
   "metadata": {},
   "outputs": [],
   "source": [
    "# создаем серии данных\n",
    "NIM = pd.Series([7.6, 7.9, 8.3, 7.2, 6.9, 7.9, 7.4, 7.8, 5.9, 7.1, 6.8])\n",
    "rate = pd.Series([10, 12, 12, 8, 8, 7.5, 7.5, 7.5, 6.5, 7, 7])"
   ]
  },
  {
   "cell_type": "code",
   "execution_count": null,
   "metadata": {},
   "outputs": [],
   "source": [
    "# рассчитываем значение корреляции Пирсона между двумя сериями данных NIM и rate\n",
    "corr = stats.pearsonr(NIM,rate)\n",
    "print(corr)\n",
    "print(corr.statistic)\n",
    "print(corr.pvalue)"
   ]
  },
  {
   "cell_type": "code",
   "execution_count": null,
   "metadata": {},
   "outputs": [],
   "source": [
    "df = pd.DataFrame({'NIM': [7.6, 7.9, 8.3, 7.2, 6.9, 7.9, 7.4, 7.8, 5.9, 7.1, 6.8],\n",
    " 'rate': [10, 12, 12, 8, 8, 7.5, 7.5, 7.5, 6.5, 7, 7],\n",
    " 'GDP_growth': [2.5, 1.8, 3.1, 1.9, 2.4, 2.8, 1.0, 3.2, 2.1, 2.2, 0.5]})\n",
    "df"
   ]
  },
  {
   "cell_type": "code",
   "execution_count": null,
   "metadata": {},
   "outputs": [],
   "source": [
    "corr_matrix = df.corr().round(3)\n",
    "print(corr_matrix)"
   ]
  },
  {
   "cell_type": "code",
   "execution_count": 262,
   "metadata": {},
   "outputs": [],
   "source": [
    "# Рассчитайте значение корреляции Пирсона между двумя наборами данных А и B. \n",
    "# Выведите полученное значение типа float на экран, округлив до 5 знаков после запятой.\n",
    "A = np.array([43, 32, 42, 48, 58, 57.5, 47.5, 37.5, 56.5, 67, 47.3])\n",
    "B = np.array([12.5, 11.8, 13.1, 11.9, 12.4, 17.8, 13.3, 13.2, 12.1, 12.2, 8.5])"
   ]
  },
  {
   "cell_type": "code",
   "execution_count": null,
   "metadata": {},
   "outputs": [],
   "source": [
    "corr = stats.pearsonr(A, B)[0].round(5)\n",
    "corr"
   ]
  },
  {
   "cell_type": "markdown",
   "metadata": {},
   "source": [
    "# 1.4 Box Plot & квартили, квантили, перцентили"
   ]
  },
  {
   "cell_type": "code",
   "execution_count": null,
   "metadata": {},
   "outputs": [],
   "source": [
    "df = pd.DataFrame({'ROE': [7.4, 7.8, 5.9, 7.1, 6.8, 7.6, 7.9, 8.3, 7.2, 6.9, 7.9],\n",
    " 'COF': [6.3, 4.2, 6.2, 8.1, 8.4, 7.5, 6.5, 7.8, 6.9, 7.1, 7.2],\n",
    " 'rating': ['AAA', 'BB+', 'BB+', 'AAA', 'BBB-', 'AA', 'AAA', 'AAA', 'BBB-', 'AAA', 'BB+']})\n",
    "df"
   ]
  },
  {
   "cell_type": "code",
   "execution_count": null,
   "metadata": {},
   "outputs": [],
   "source": [
    "# список квартилей\n",
    "Q = [0.25, 0.5, 0.75]\n",
    "print(df['ROE'].quantile(0.37))\n",
    "print()\n",
    "print(df['ROE'].quantile(Q))"
   ]
  },
  {
   "cell_type": "code",
   "execution_count": null,
   "metadata": {},
   "outputs": [],
   "source": [
    "# Рассчитайте значение 0.25-квантиля выборки значений стоимости фондирования (COF) \n",
    "# для банков с кредитным рейтингом AAA (rating). \n",
    "# Выведите полученное значение типа float на экран, округлив до 1 знака после запятой.\n",
    "x = df.groupby('rating')['COF'].quantile(0.25)['AAA'].round(1)\n",
    "print(x)\n",
    "x = df[df.rating == 'AAA']['COF'].quantile(0.25).round(1)\n",
    "print(x)"
   ]
  },
  {
   "cell_type": "code",
   "execution_count": null,
   "metadata": {},
   "outputs": [],
   "source": [
    "# Рассчитайте значение 0.25-квантиля и 0.5-квантиля выборки значений стоимости фондирования (COF) \n",
    "# для банков с кредитным рейтингом ВВ+ (rating). \n",
    "# Выведите максимальное из получившихся значений типа float на экран, округлив до 1 знака после запятой.\n",
    "x = df[df.rating == 'BB+']['COF'].quantile([0.25, 0.5]).max()\n",
    "print(x)\n",
    "x = max(df.groupby('rating')['COF'].quantile(0.25)['BB+'], df.groupby('rating')['COF'].quantile()['BB+']).round(1)\n",
    "print(x)\n",
    "x = round(df.groupby('rating')['COF'].quantile([0.25, 0.5])['BB+'].max(), 1)\n",
    "print(x)"
   ]
  },
  {
   "cell_type": "code",
   "execution_count": null,
   "metadata": {},
   "outputs": [],
   "source": [
    "# Рассчитайте значение 53-го перцентиля выборки значений стоимости фондирования (COF) для всех банков. \n",
    "# Выведите полученное значение типа float на экран, округлив до 3 знаков после запятой.\n",
    "df['COF'].quantile(0.53).round(3)"
   ]
  },
  {
   "cell_type": "code",
   "execution_count": null,
   "metadata": {},
   "outputs": [],
   "source": [
    "bp = plt.boxplot(df['COF'],\n",
    "                     vert=False,  # расположение бокса (True по умолчанию)\n",
    "                     patch_artist=True,  # наполнение бокса цветом (False по умолчанию)\n",
    "                     showmeans=True, # показывать среднее (зеленый треугольник) (False по умолчанию)\n",
    "                     showfliers=True, # показывать выбросы (True по умолчанию)\n",
    "                     labels=['COF'])  # надписи\n",
    "plt.show()"
   ]
  },
  {
   "cell_type": "code",
   "execution_count": null,
   "metadata": {},
   "outputs": [],
   "source": [
    "bp = plt.boxplot([df['COF'], df['ROE']],\n",
    "                     vert=True,  # расположение бокса (True по умолчанию)\n",
    "                     patch_artist=False,  # наполнение бокса цветом (False по умолчанию)\n",
    "                     showmeans=True, # показывать среднее (False по умолчанию)\n",
    "                     showfliers=False, # показывать выбросы (True по умолчанию)\n",
    "                     labels=['COF', 'ROE'])  # надписи\n",
    "plt.show()"
   ]
  },
  {
   "cell_type": "markdown",
   "metadata": {},
   "source": [
    "# 1.5 Функции CDF, PDF, PPF, SF, ISF"
   ]
  },
  {
   "cell_type": "code",
   "execution_count": null,
   "metadata": {},
   "outputs": [],
   "source": [
    "def function1(x):\n",
    "    return [el if 0 <= el <= 5 else 0 for el in x]\n",
    "\n",
    "def function1_INT(x):\n",
    "    return [\n",
    "        0.5 * el ** 2 if 0 <= el <= 5 else (0 if el < 0 else 12.5)\n",
    "        for el in x\n",
    "    ]\n",
    "\n",
    "def function3(x):\n",
    "    return [\n",
    "        (el if el <= 2.5 else 5 - el) if 0 <= el <= 5 else 0\n",
    "        for el in x\n",
    "    ]\n",
    "\n",
    "def function3_INT(x):\n",
    "    return [\n",
    "        ((1/2)*el**2 if el <= 2.5 else 5*el - (1/2)*el**2 ) if 0 <= el <= 5 else (0 if el < 0 else 12.5)\n",
    "        for el in x\n",
    "    ]\n",
    "\n",
    "def function4(x):\n",
    "    return [\n",
    "        (2.5 if el <= 2.5 else 5 ) if 0 <= el <= 5 else 0\n",
    "        for el in x\n",
    "    ]\n",
    "\n",
    "def function4_INT(x):\n",
    "    return [\n",
    "        (2.5*el if el <= 2.5 else 5 *el) if 0 <= el <= 5 else (0 if el < 0 else 25)\n",
    "        for el in x\n",
    "    ]\n",
    "\n",
    "\n",
    "x = np.arange(-10, 10.01, 0.01)\n",
    "\n",
    "fig, axs = plt.subplots(3, 2, figsize=(5, 10))\n",
    "\n",
    "axs[0, 0].plot(x, function1(x))\n",
    "axs[0, 0].set_title('Function 1 PDF')\n",
    "\n",
    "axs[0, 1].plot(x, function1_INT(x))\n",
    "axs[0, 1].set_title('Function 1 CDF')\n",
    "\n",
    "axs[1, 0].plot(x, function3(x))\n",
    "axs[1, 0].set_title('Function 2 PDF')\n",
    "\n",
    "axs[1, 1].plot(x, function3_INT(x))\n",
    "axs[1, 1].set_title('Function 2 CDF')\n",
    "\n",
    "axs[2, 0].plot(x, function4(x))\n",
    "axs[2, 0].set_title('Function 4 PDF')\n",
    "\n",
    "axs[2, 1].plot(x, function4_INT(x))\n",
    "axs[2, 1].set_title('Function 4 CDF')\n",
    "\n",
    "plt.tight_layout()\n",
    "plt.show()"
   ]
  },
  {
   "cell_type": "markdown",
   "metadata": {},
   "source": [
    "# 2.1 CLT и нормальное распределение"
   ]
  },
  {
   "cell_type": "code",
   "execution_count": 272,
   "metadata": {},
   "outputs": [],
   "source": [
    "data = stats.norm(0,3) # Создаем нормальное распределение со средним 0 и стандартным отклонением 3\n",
    "\n",
    "x = np.linspace(-10, 10, 1000) # Создаем ось Х из 1000 значений в интервале от -10 до 10\n",
    "# x = np.arange(-10,10,0.02) # Альтернативный способ создания оси Х из 1000 значений в интервале от -10 до 10 с заданием шага(0.02)"
   ]
  },
  {
   "cell_type": "code",
   "execution_count": null,
   "metadata": {},
   "outputs": [],
   "source": [
    "# Кумулятивная функция распределения\n",
    "CDF = data.cdf(x) # Создаем функкцию CDF от значений в интервале х\n",
    "plt.plot(x, CDF) # Строим график СDF\n",
    "plt.show()"
   ]
  },
  {
   "cell_type": "code",
   "execution_count": null,
   "metadata": {},
   "outputs": [],
   "source": [
    "# Функция плотности вероятности\n",
    "PDF = data.pdf(x) # Создаем функкцию PDF от значений в интервале х\n",
    "plt.plot(x, PDF) # Строим график PDF\n",
    "plt.show()"
   ]
  },
  {
   "cell_type": "code",
   "execution_count": null,
   "metadata": {},
   "outputs": [],
   "source": [
    "# Функция выживаемости\n",
    "SF = data.sf(x) # Создаем функкцию SF от значений в интервале х\n",
    "plt.plot(x, SF) # Строим график SF\n",
    "plt.show()"
   ]
  },
  {
   "cell_type": "code",
   "execution_count": null,
   "metadata": {},
   "outputs": [],
   "source": [
    "# Квантиль-функция\n",
    "PPF = data.ppf(x) # Создаем функкцию PPF от значений в интервале х\n",
    "plt.plot(x, PPF) # Строим график PPF\n",
    "plt.show()"
   ]
  },
  {
   "cell_type": "code",
   "execution_count": null,
   "metadata": {},
   "outputs": [],
   "source": [
    "# Обратная функция SF\n",
    "ISF = data.isf(x) # Создаем функкцию ISF от значений в интервале х\n",
    "plt.plot(x, ISF) # Строим график ISF\n",
    "plt.show()"
   ]
  },
  {
   "cell_type": "code",
   "execution_count": null,
   "metadata": {},
   "outputs": [],
   "source": [
    "# Рассчитайте значение кумулятивной функции распределения в точке х = 46 для нормального распределения \n",
    "# со средним 50 и стандартным отклонением 2. \n",
    "# Выведите полученное значение типа float на экран, округлив до 5 знаков после запятой.\n",
    "mean = 50\n",
    "sd = 2\n",
    "x = 46\n",
    "x_cdf = stats.norm.cdf(x, mean, sd)\n",
    "x_cdf.round(5)\n"
   ]
  },
  {
   "cell_type": "code",
   "execution_count": null,
   "metadata": {},
   "outputs": [],
   "source": [
    "# Рассчитайте значение функции выживаемости в точке х = 34 для нормального распределения \n",
    "# со средним 30 и стандартным отклонением 4. \n",
    "# Выведите полученное значение типа float на экран, округлив до 5 знаков после запятой.\n",
    "mean = 30\n",
    "sd = 4\n",
    "x = 34\n",
    "x_sf = stats.norm.sf(x, mean, sd)\n",
    "# x_sf = 1 - stats.norm.cdf(x, mean, sd)\n",
    "x_sf.round(5)"
   ]
  },
  {
   "cell_type": "code",
   "execution_count": null,
   "metadata": {},
   "outputs": [],
   "source": [
    "# Рассчитайте значение функции плотности вероятности распределения в точке х = 12.11 для нормального распределения \n",
    "# со средним 0 и стандартным отклонением 4.54. \n",
    "# Выведите полученное значение типа float на экран, округлив до 5 знаков после запятой.\n",
    "data = stats.norm(0, 4.54)\n",
    "x_pdf = data.pdf(12.11)\n",
    "x_pdf.round(5)"
   ]
  },
  {
   "cell_type": "code",
   "execution_count": null,
   "metadata": {},
   "outputs": [],
   "source": [
    "# Рассчитайте, чему равна вероятность попадания случайной величины в интервал от -1 до 2 \n",
    "# для нормального распределения со средним 0 и стандартным отклонением 1.95. \n",
    "# Выведите полученное значение типа float на экран, округлив до 5 знаков после запятой.\n",
    "data = stats.norm(0, 1.95)\n",
    "x_probability = data.cdf(2) - data.cdf(-1)\n",
    "x_probability.round(5)"
   ]
  },
  {
   "cell_type": "code",
   "execution_count": null,
   "metadata": {},
   "outputs": [],
   "source": [
    "# Микрокредитные организации имеют значение доли проблемных кредитов (NPL) в кредитном портфеле \n",
    "# в среднем на уровне 7,45% по сектору. Стандартное отклонение равно 1.36%. \n",
    "# Считаем, что распределение является нормальным. Чему равна вероятность того, \n",
    "# что случайно выбранная микрокредитная организация будет иметь долю NPL в портфеле, не превышающую 8,99%? \n",
    "# Выведите полученное значение типа float на экран, округлив до 5 знаков после запятой.\n",
    "data = stats.norm(7.45, 1.36)\n",
    "x_probability = data.cdf(8.99)\n",
    "x_probability.round(5)"
   ]
  },
  {
   "cell_type": "code",
   "execution_count": null,
   "metadata": {},
   "outputs": [],
   "source": [
    "# В городе 876 832 зданий. Стандартное отклонение значений высоты зданий равна 5,34 метра. \n",
    "# Считаем, что распределение является нормальным. Чему равно среднее значение распределений высот зданий, \n",
    "# если 95% всех зданий имеют высоту больше 48,5 метра. \n",
    "# Выведите полученное значение типа float на экран, округлив до 2 знаков после запятой.\n",
    "n = 876832\n",
    "sd = 5.34\n",
    "x = 48.5\n",
    "a = 0.95\n",
    "z_value = stats.norm.ppf(1-a)\n",
    "# z_value = (x - mean) / sd\n",
    "mean = x - z_value * sd\n",
    "mean.round(2)"
   ]
  },
  {
   "cell_type": "code",
   "execution_count": null,
   "metadata": {},
   "outputs": [],
   "source": [
    "mu = mean\n",
    "sigma = 5.34\n",
    "\n",
    "x = np.linspace(mu - 4*sigma, mu + 4*sigma, 1000)\n",
    "y = stats.norm.pdf(x, mu, sigma)\n",
    "\n",
    "quantile_5 = stats.norm.ppf(0.05, mu, sigma)\n",
    "\n",
    "plt.figure(figsize=(10, 6))\n",
    "sns.lineplot(x=x, y=y, color='blue')\n",
    "plt.fill_between(x, y, where=(x <= quantile_5), color='red', alpha=0.5)\n",
    "\n",
    "plt.title('Нормальное распределение высот зданий')\n",
    "plt.xlabel('Высота зданий (метры)')\n",
    "plt.ylabel('Плотность вероятности')\n",
    "plt.axvline(quantile_5, color='red', linestyle='--')\n",
    "plt.text(quantile_5, max(y)*0.5, '5% квантиль\\n48.5 метра', horizontalalignment='right', color='red')\n",
    "\n",
    "plt.show();"
   ]
  },
  {
   "cell_type": "code",
   "execution_count": null,
   "metadata": {},
   "outputs": [],
   "source": [
    "# В США средний уровень годового дохода работника с высшим образованием составляет 78,97 тысяч долларов \n",
    "# со стандартным отклонением 13,23 тысяч долларов, а работника без высшего образования - 46,65 тысяч долларов \n",
    "# со стандартным отклонением 8,11 тысяч долларов. Какова вероятность того, что случайно выбранный работник \n",
    "# с высшим образованием будет иметь больший годовой доход, чем случайно выбранный работник без высшего образования? \n",
    "# Считаем, что распределения являются нормальными. Выведите полученное значение типа float на экран, округлив до 5 знаков после запятой.\n",
    "mean_he = 78.97\n",
    "sd_he = 13.23\n",
    "\n",
    "mean_withount_he = 46.65\n",
    "sd_without_he = 8.11\n",
    "\n",
    "mean = mean_he - mean_withount_he\n",
    "sd = (sd_he ** 2 + sd_without_he ** 2) ** 0.5\n",
    "salary_diff_dist = stats.norm(mean, sd)\n",
    "\n",
    "p = salary_diff_dist.sf(0)\n",
    "p.round(5)"
   ]
  },
  {
   "cell_type": "markdown",
   "metadata": {},
   "source": [
    "# 2.2 Тест Колмогорова-Смирнова"
   ]
  },
  {
   "cell_type": "code",
   "execution_count": 286,
   "metadata": {},
   "outputs": [],
   "source": [
    "from numpy.random import seed\n",
    "from numpy.random import lognormal, randn\n",
    "from scipy.stats import kstest, ks_2samp\n",
    "from statsmodels.stats.diagnostic import lilliefors"
   ]
  },
  {
   "cell_type": "code",
   "execution_count": null,
   "metadata": {},
   "outputs": [],
   "source": [
    "# инициализируем генератор псевдослучайных чисел\n",
    "seed(0)\n",
    "\n",
    "# создаем 1000 значений, имеющих логнормальное распределение со средним значением 0 и стандартным отклонением 2\n",
    "data = lognormal(0, 2, 1000)\n",
    "\n",
    "# запускаем одновыборочный тест Колмогорова-Смирнова на соответствие нашего распределения (data) нормальному распределению (norm)\n",
    "print(kstest(data, 'norm'))\n",
    "# Поскольку получившееся значение p-value < 0.01, мы можем отвергнуть нулевую гипотезу о нормальности данных."
   ]
  },
  {
   "cell_type": "code",
   "execution_count": null,
   "metadata": {},
   "outputs": [],
   "source": [
    "# инициализируем генератор псевдослучайных чисел\n",
    "seed(0)\n",
    "\n",
    "# создаем 1000 значений, имеющих стандартное нормальное распределение\n",
    "standard_normal = randn(1000)\n",
    "\n",
    "# создаем 100 значений, имеющих логнормальное распределение со средним значением 0 и стандартным отклонением 2\n",
    "log_normal = lognormal(0, 2, 1000)\n",
    "\n",
    "# запускаем двухвыборочный тест Колмогорова-Смирнова\n",
    "print(ks_2samp(standard_normal, log_normal))\n",
    "# Поскольку получившееся значение p-value < 0.01, мы можем отвергнуть нулевую гипотезу о том, что две выборки происходят из одного и того же распределения."
   ]
  },
  {
   "cell_type": "code",
   "execution_count": null,
   "metadata": {},
   "outputs": [],
   "source": [
    "# инициализируем генератор псевдослучайных чисел\n",
    "seed(0)\n",
    "\n",
    "# создаем 1000 значений, имеющих логнормальное распределение со средним значением 0 и стандартным отклонением 2\n",
    "data = lognormal(0, 2, 1000)\n",
    "\n",
    "# запускаем одновыборочный тест Колмогорова-Смирнова c поправкой Лиллиефорса\n",
    "print(lilliefors(data))\n",
    "# Поскольку получившееся значение p-value (0.00099999...) < 0.01, мы можем отвергнуть нулевую гипотезу о нормальности данных."
   ]
  },
  {
   "cell_type": "code",
   "execution_count": null,
   "metadata": {},
   "outputs": [],
   "source": [
    "# Проверьте на нормальность выборку из 1254 значений ежедневных изменения индекса S&P 500, проведя тест Колмогорова-Смирнова. \n",
    "# Выведите полученное значение статистики (statistic) Колмогорова-Смирнова на экран, округлив до 5 знаков после запятой.\n",
    "df = pd.read_csv('data\\SP_500_returns.csv', sep=';')\n",
    "df"
   ]
  },
  {
   "cell_type": "code",
   "execution_count": null,
   "metadata": {},
   "outputs": [],
   "source": [
    "statistic_ks = stats.kstest(df['Return_SP_500'], 'norm')\n",
    "statistic_ks.statistic.round(5), statistic_ks.pvalue\n",
    "# Отвергаем нулевую гипотезу о соответствии нормальному распределению"
   ]
  },
  {
   "cell_type": "markdown",
   "metadata": {},
   "source": [
    "# 2.3 Тест Шапиро-Уилка"
   ]
  },
  {
   "cell_type": "code",
   "execution_count": 292,
   "metadata": {},
   "outputs": [],
   "source": [
    "from numpy.random import poisson\n",
    "from scipy.stats import shapiro"
   ]
  },
  {
   "cell_type": "code",
   "execution_count": null,
   "metadata": {},
   "outputs": [],
   "source": [
    "# инициализируем генератор псевдослучайных чисел\n",
    "seed(0)\n",
    "\n",
    "# создаем 100 значений, имеющих распределение Пуассона с лямбдой, равной 5\n",
    "data = poisson(5, 100)\n",
    "\n",
    "# запускаем тест Шапиро-Уилка на соответствие нашего распределения (data) нормальному распределению\n",
    "print(shapiro(data))\n",
    "# Поскольку получившееся значение p-value < 0.01, мы можем отвергнуть нулевую гипотезу о нормальности данных. "
   ]
  },
  {
   "cell_type": "code",
   "execution_count": null,
   "metadata": {},
   "outputs": [],
   "source": [
    "# Проверьте на нормальность выборку из 100 значений, распределенных стандартно нормально \n",
    "# (генератор псевдослучайных чисел seed(0)). Используйте тест Шапиро-Уилка. \n",
    "# Выведите полученное значение p-value на экран.\n",
    "seed(0)\n",
    "data = np.random.normal(0, 1, 100)\n",
    "shapiro(data).pvalue"
   ]
  },
  {
   "cell_type": "code",
   "execution_count": null,
   "metadata": {},
   "outputs": [],
   "source": [
    "# Проверьте на нормальность выборку из 10 000 значений, имеющих логнормальное распределение \n",
    "# со средним значением 1 и стандартным отклонением 13.22 (генератор псевдослучайных чисел seed(0)). \n",
    "# Используйте тест Шапиро-Уилка. \n",
    "# Выведите полученное значение статистики Шапиро-Уилка (statistic) на экран, округлив до 5 знаков после запятой.\n",
    "seed(0)\n",
    "data = np.random.lognormal(1, 13.22, 10000)\n",
    "statistic_shapiro  = shapiro(data).statistic\n",
    "round(statistic_shapiro, 5)"
   ]
  },
  {
   "cell_type": "markdown",
   "metadata": {},
   "source": [
    "# 2.4 QQ plot - графический анализ"
   ]
  },
  {
   "cell_type": "code",
   "execution_count": 296,
   "metadata": {},
   "outputs": [],
   "source": [
    "import statsmodels.api as sm\n",
    "import matplotlib.pyplot as plt\n",
    "from numpy.random import lognormal, randn"
   ]
  },
  {
   "cell_type": "code",
   "execution_count": null,
   "metadata": {},
   "outputs": [],
   "source": [
    "np.random.seed(0)\n",
    "# Создаем выборку из 1000 значений, имеющих стандартное нормальное распределение\n",
    "data = randn(1000)\n",
    "\n",
    "# Строим QQ plot с reference line в виде прямой линии под 45 градусов\n",
    "fig = sm.qqplot(data, line='45')\n",
    "plt.show();"
   ]
  },
  {
   "cell_type": "code",
   "execution_count": null,
   "metadata": {},
   "outputs": [],
   "source": [
    "np.random.seed(0)\n",
    "# Создаем выборку из 1000 значений, имеющих логнормальное распределение\n",
    "data = lognormal(0, 1, 1000)\n",
    "\n",
    "# Строим QQ plot с reference line в виде прямой линии под 45 градусов\n",
    "fig = sm.qqplot(data, line='45')\n",
    "plt.show();"
   ]
  },
  {
   "cell_type": "markdown",
   "metadata": {},
   "source": [
    "# 3.1 Одновыборочный t-тест"
   ]
  },
  {
   "cell_type": "code",
   "execution_count": 299,
   "metadata": {},
   "outputs": [],
   "source": [
    "from scipy.stats import ttest_1samp"
   ]
  },
  {
   "cell_type": "code",
   "execution_count": 300,
   "metadata": {},
   "outputs": [],
   "source": [
    "sample = [7, 8, 9, 13, 10, 9, 9, 10, 9, 11, 12, 8, 9, 11, 10, 9, 10]"
   ]
  },
  {
   "cell_type": "code",
   "execution_count": null,
   "metadata": {},
   "outputs": [],
   "source": [
    "ttest_1samp(sample, 9.71)\n",
    "# pvalue сильно больше alpha = 0.05, следовательно оснований недостаточно, чтобы оттвергнуть нулевую гипотезу"
   ]
  },
  {
   "cell_type": "code",
   "execution_count": null,
   "metadata": {},
   "outputs": [],
   "source": [
    "# Проведите одновыборочный t-тест о равенстве математического ожидания генеральной совокупности значений веса мужчин \n",
    "# на острове Джерси значению 86.44. У нас есть данные по выборке, состоящей из 40 мужчин острова Джерси. \n",
    "# Выборочное среднее равно 83.55, стандартное отклонение 7.74. \n",
    "# Выведите полученное значение p-value (pvalue) на экран, округлив до 5 знаков после запятой.\n",
    "weight = np.array([100, 82, 92, 88, 78, 85, 89, 79, 61, 87, 89, 87, 89, 86, 79, 78, 78, 85, 89, 79, 61, 87, 92, 88, 78, 85, 79, 78, 78, 85, 101, 87, 89, 86, 79, 78, 78, 85, 89, 79])\n",
    "mu = 86.44\n",
    "n = 40\n",
    "m = 83.55\n",
    "sd = 7.74\n",
    "h0_pvalue = ttest_1samp(weight, mu).pvalue\n",
    "h0_pvalue.round(5)"
   ]
  },
  {
   "cell_type": "code",
   "execution_count": null,
   "metadata": {},
   "outputs": [],
   "source": [
    "n_weigth = len(weight)\n",
    "m_weight = np.mean(weight)\n",
    "sd_weight = np.std(weight, ddof=1)\n",
    "df = n -1\n",
    "m_population = 86.44\n",
    "\n",
    "tt_statisctic = (m_weight - m_population) / (sd_weight / n**0.5)\n",
    "\n",
    "pvalue = 2 * (1 - stats.t.cdf(abs(tt_statisctic), df))\n",
    "pvalue.round(5)"
   ]
  },
  {
   "cell_type": "code",
   "execution_count": null,
   "metadata": {},
   "outputs": [],
   "source": [
    "df = pd.read_csv('data\\SP_500_returns.csv', sep=';')\n",
    "df"
   ]
  },
  {
   "cell_type": "code",
   "execution_count": null,
   "metadata": {},
   "outputs": [],
   "source": [
    "# Проведите одновыборочный t-тест о равенстве математического ожидания значений изменения индекса S&P 500 значению 0.00087. \n",
    "# Известная нам выборка состоит из 1254 значений изменений индекса S&P 500. \n",
    "# Выведите полученное значение t-статистики (statistic) на экран, округлив до 5 знаков после запятой.\n",
    "\n",
    "def solution(A): # A - некий датафрейм\n",
    "    pass\n",
    "    x = ttest_1samp(A['Return_SP_500'], 0.00087).statistic\n",
    "    return x.round(5)\n",
    "\n",
    "print(solution(df))"
   ]
  },
  {
   "cell_type": "markdown",
   "metadata": {},
   "source": [
    "# 3.2 Двухвыборочный t-тест & тест Уэлча"
   ]
  },
  {
   "cell_type": "code",
   "execution_count": 306,
   "metadata": {},
   "outputs": [],
   "source": [
    "from scipy.stats import ttest_ind\n",
    "from scipy.stats import ttest_ind_from_stats\n",
    "import scipy.stats as sts"
   ]
  },
  {
   "cell_type": "code",
   "execution_count": null,
   "metadata": {},
   "outputs": [],
   "source": [
    "sample_x = [7, 8, 9, 13, 10, 9, 9, 10, 9, 11, 12, 8, 9, 11, 10, 9, 10]\n",
    "sample_y = [9, 12, 11, 11, 12, 8, 7, 9, 8, 10, 11, 10, 9, 10, 11, 9, 8]\n",
    "print(np.var(sample_x))\n",
    "print(np.var(sample_y))"
   ]
  },
  {
   "cell_type": "code",
   "execution_count": null,
   "metadata": {},
   "outputs": [],
   "source": [
    "ttest_ind(sample_x, sample_y, equal_var=True)"
   ]
  },
  {
   "cell_type": "code",
   "execution_count": null,
   "metadata": {},
   "outputs": [],
   "source": [
    "ttest_ind_from_stats(65,7,1000,72,9,1000)"
   ]
  },
  {
   "cell_type": "code",
   "execution_count": null,
   "metadata": {},
   "outputs": [],
   "source": [
    "df = pd.read_csv('data/bank_sector.csv')\n",
    "df.head()"
   ]
  },
  {
   "cell_type": "code",
   "execution_count": null,
   "metadata": {},
   "outputs": [],
   "source": [
    "# Есть две выборки значений среднегодовой доходности банковского сектора в США и Китае с 1971 по 2019 год. \n",
    "# Оцените гомогенность дисперсий. \n",
    "# Выведите отношение большей выборочной дисперсии к меньшей выборочной дисперсии на экран, округлив полученное значение до 5 знаков после запятой.\n",
    "china_sd = df['China'].var()\n",
    "us_sd = df['US'].var()\n",
    "# china_sd = np.var(df['China'], ddof=1)\n",
    "# us_sd = np.var(df['US'], ddof=1)\n",
    "x = max(china_sd, us_sd) / min(china_sd, us_sd)\n",
    "round(x, 5)"
   ]
  },
  {
   "cell_type": "code",
   "execution_count": null,
   "metadata": {},
   "outputs": [],
   "source": [
    "# Есть две выборки значений среднегодовой доходности банковского сектора в США и Китае с 1971 по 2019 год. \n",
    "# Проведите необходимый t-тест на проверку равенства средних. \n",
    "# Выведите значение p-value на экран, округлив полученное значение до 5 знаков после запятой.\n",
    "x = ttest_ind(df['US'], df['China']).pvalue\n",
    "round(x, 5)"
   ]
  },
  {
   "cell_type": "code",
   "execution_count": null,
   "metadata": {},
   "outputs": [],
   "source": [
    "df = pd.read_csv('data/research.csv')\n",
    "df.head()"
   ]
  },
  {
   "cell_type": "code",
   "execution_count": null,
   "metadata": {},
   "outputs": [],
   "source": [
    "# Университет провел исследование, чтобы выяснить, правда ли, что громкая музыка в наушниках у студентов во время экзамена \n",
    "# негативно сказывается на их результатах. Для этого во время финальных экзаменов случайным образом были отобраны 250 студентов, \n",
    "# которых случайным образом разделили на две равные выборки: тестовую и контрольную. \n",
    "# Студентам из тестовой выборки во время экзамена давали наушники и включали Led Zeppelin на полную громкость. \n",
    "# Студентам из контрольной выборки предоставили тихую аудиторию и дали прохладной водички. \n",
    "# Итоговые результаты студентов из двух выборок записаны в датафрейм (0-плохо, 50-отлично). \n",
    "# Проведите нужные статистические тесты, не забудьте проверить распределения на нормальность, а их дисперсии на гомогенность. \n",
    "# Определите на основе полученных результатов теста, можно ли отвергнуть нулевую гипотезу о том, что громкая музыка никак не мешает студентам сдавать экзамены. \n",
    "\n",
    "# Выведите значение p-value на экран, округлив полученное значение до 5 знаков после запятой.\n",
    "\n",
    "test_kstest = sts.kstest(df['test'], 'norm').pvalue\n",
    "control_kstest = sts.kstest(df['control'], 'norm').pvalue\n",
    "print(test_kstest, control_kstest)\n",
    "gomogen = sts.ttest_ind(df['test'], df['control']).pvalue\n",
    "print(round(gomogen, 5))\n"
   ]
  },
  {
   "cell_type": "code",
   "execution_count": null,
   "metadata": {},
   "outputs": [],
   "source": [
    "test_sd = df['test'].var()\n",
    "control_sd = df['control'].var()\n",
    "# china_sd = np.var(df['China'], ddof=1)\n",
    "# us_sd = np.var(df['US'], ddof=1)\n",
    "x = max(test_sd, control_sd) / min(test_sd, control_sd)\n",
    "x"
   ]
  },
  {
   "cell_type": "code",
   "execution_count": null,
   "metadata": {},
   "outputs": [],
   "source": [
    "# Проверяем нормальность распределения с помощью теста Шапиро-Уилка.\n",
    "shapiro_test_test = sts.shapiro(df['test']).pvalue\n",
    "shapiro_test_control = sts.shapiro(df['control']).pvalue\n",
    "\n",
    "print(shapiro_test_test, shapiro_test_control)\n",
    "\n",
    "# Проверяем гомогенность дисперсий с помощью теста Левена.\n",
    "levene_test = sts.levene(df['test'], df['control'])\n",
    "\n",
    "# Так как оба теста Шапиро-Уилка и тест Левена дают p-value больше 0.05,\n",
    "# мы можем предположить, что данные нормально распределены и дисперсии гомогенны.\n",
    "# Поэтому мы можем использовать двухвыборочный t-тест для сравнения средних значений двух групп.\n",
    "t_test = sts.ttest_ind(df['test'], df['control'])\n",
    "\n",
    "# Извлекаем p-value и округляем его до 5 знаков после запятой.\n",
    "print(round(t_test[1], 5))"
   ]
  },
  {
   "cell_type": "code",
   "execution_count": 317,
   "metadata": {},
   "outputs": [
    {
     "data": {
      "image/png": "[encoded data removed]",
      "text/plain": [
       "<Figure size 640x480 with 1 Axes>"
      ]
     },
     "metadata": {},
     "output_type": "display_data"
    }
   ],
   "source": [
    "plt.hist(df.test,30, color='r', alpha=0.7, label='Test')\n",
    "plt.hist(df.control,30, color='b', alpha=0.7, label='Control')\n",
    "plt.legend()\n",
    "plt.show();"
   ]
  },
  {
   "cell_type": "code",
   "execution_count": 318,
   "metadata": {},
   "outputs": [
    {
     "data": {
      "image/png": "[encoded data removed]",
      "text/plain": [
       "<Figure size 640x480 with 1 Axes>"
      ]
     },
     "metadata": {},
     "output_type": "display_data"
    }
   ],
   "source": [
    "sts.probplot(df.test, dist='norm', plot=plt)\n",
    "plt.show();"
   ]
  },
  {
   "cell_type": "code",
   "execution_count": 319,
   "metadata": {},
   "outputs": [
    {
     "data": {
      "image/png": "[encoded data removed]",
      "text/plain": [
       "<Figure size 640x480 with 1 Axes>"
      ]
     },
     "metadata": {},
     "output_type": "display_data"
    }
   ],
   "source": [
    "sts.probplot(df.control, dist='norm', plot=plt)\n",
    "plt.show();"
   ]
  },
  {
   "cell_type": "markdown",
   "metadata": {},
   "source": [
    "# Конспект по материалу"
   ]
  },
  {
   "cell_type": "markdown",
   "metadata": {},
   "source": [
    "## Среднее, медиана, мода:"
   ]
  },
  {
   "cell_type": "code",
   "execution_count": 320,
   "metadata": {},
   "outputs": [
    {
     "ename": "KeyError",
     "evalue": "'столбец'",
     "output_type": "error",
     "traceback": [
      "\u001b[1;31m---------------------------------------------------------------------------\u001b[0m",
      "\u001b[1;31mKeyError\u001b[0m                                  Traceback (most recent call last)",
      "File \u001b[1;32mc:\\Users\\kuche\\anaconda3\\Lib\\site-packages\\pandas\\core\\indexes\\base.py:3805\u001b[0m, in \u001b[0;36mIndex.get_loc\u001b[1;34m(self, key)\u001b[0m\n\u001b[0;32m   3804\u001b[0m \u001b[38;5;28;01mtry\u001b[39;00m:\n\u001b[1;32m-> 3805\u001b[0m     \u001b[38;5;28;01mreturn\u001b[39;00m \u001b[38;5;28mself\u001b[39m\u001b[38;5;241m.\u001b[39m_engine\u001b[38;5;241m.\u001b[39mget_loc(casted_key)\n\u001b[0;32m   3806\u001b[0m \u001b[38;5;28;01mexcept\u001b[39;00m \u001b[38;5;167;01mKeyError\u001b[39;00m \u001b[38;5;28;01mas\u001b[39;00m err:\n",
      "File \u001b[1;32mindex.pyx:167\u001b[0m, in \u001b[0;36mpandas._libs.index.IndexEngine.get_loc\u001b[1;34m()\u001b[0m\n",
      "File \u001b[1;32mindex.pyx:196\u001b[0m, in \u001b[0;36mpandas._libs.index.IndexEngine.get_loc\u001b[1;34m()\u001b[0m\n",
      "File \u001b[1;32mpandas\\\\_libs\\\\hashtable_class_helper.pxi:7081\u001b[0m, in \u001b[0;36mpandas._libs.hashtable.PyObjectHashTable.get_item\u001b[1;34m()\u001b[0m\n",
      "File \u001b[1;32mpandas\\\\_libs\\\\hashtable_class_helper.pxi:7089\u001b[0m, in \u001b[0;36mpandas._libs.hashtable.PyObjectHashTable.get_item\u001b[1;34m()\u001b[0m\n",
      "\u001b[1;31mKeyError\u001b[0m: 'столбец'",
      "\nThe above exception was the direct cause of the following exception:\n",
      "\u001b[1;31mKeyError\u001b[0m                                  Traceback (most recent call last)",
      "Cell \u001b[1;32mIn[320], line 4\u001b[0m\n\u001b[0;32m      1\u001b[0m \u001b[38;5;66;03m# import pandas as pd\u001b[39;00m\n\u001b[0;32m      2\u001b[0m \n\u001b[0;32m      3\u001b[0m \u001b[38;5;66;03m# Среднее\u001b[39;00m\n\u001b[1;32m----> 4\u001b[0m mean \u001b[38;5;241m=\u001b[39m df[\u001b[38;5;124m'\u001b[39m\u001b[38;5;124mстолбец\u001b[39m\u001b[38;5;124m'\u001b[39m]\u001b[38;5;241m.\u001b[39mmean()  \u001b[38;5;66;03m# на выходе число\u001b[39;00m\n\u001b[0;32m      6\u001b[0m \u001b[38;5;66;03m# Медиана\u001b[39;00m\n\u001b[0;32m      7\u001b[0m median \u001b[38;5;241m=\u001b[39m df[\u001b[38;5;124m'\u001b[39m\u001b[38;5;124mстолбец\u001b[39m\u001b[38;5;124m'\u001b[39m]\u001b[38;5;241m.\u001b[39mmedian()  \u001b[38;5;66;03m# на выходе число\u001b[39;00m\n",
      "File \u001b[1;32mc:\\Users\\kuche\\anaconda3\\Lib\\site-packages\\pandas\\core\\frame.py:4102\u001b[0m, in \u001b[0;36mDataFrame.__getitem__\u001b[1;34m(self, key)\u001b[0m\n\u001b[0;32m   4100\u001b[0m \u001b[38;5;28;01mif\u001b[39;00m \u001b[38;5;28mself\u001b[39m\u001b[38;5;241m.\u001b[39mcolumns\u001b[38;5;241m.\u001b[39mnlevels \u001b[38;5;241m>\u001b[39m \u001b[38;5;241m1\u001b[39m:\n\u001b[0;32m   4101\u001b[0m     \u001b[38;5;28;01mreturn\u001b[39;00m \u001b[38;5;28mself\u001b[39m\u001b[38;5;241m.\u001b[39m_getitem_multilevel(key)\n\u001b[1;32m-> 4102\u001b[0m indexer \u001b[38;5;241m=\u001b[39m \u001b[38;5;28mself\u001b[39m\u001b[38;5;241m.\u001b[39mcolumns\u001b[38;5;241m.\u001b[39mget_loc(key)\n\u001b[0;32m   4103\u001b[0m \u001b[38;5;28;01mif\u001b[39;00m is_integer(indexer):\n\u001b[0;32m   4104\u001b[0m     indexer \u001b[38;5;241m=\u001b[39m [indexer]\n",
      "File \u001b[1;32mc:\\Users\\kuche\\anaconda3\\Lib\\site-packages\\pandas\\core\\indexes\\base.py:3812\u001b[0m, in \u001b[0;36mIndex.get_loc\u001b[1;34m(self, key)\u001b[0m\n\u001b[0;32m   3807\u001b[0m     \u001b[38;5;28;01mif\u001b[39;00m \u001b[38;5;28misinstance\u001b[39m(casted_key, \u001b[38;5;28mslice\u001b[39m) \u001b[38;5;129;01mor\u001b[39;00m (\n\u001b[0;32m   3808\u001b[0m         \u001b[38;5;28misinstance\u001b[39m(casted_key, abc\u001b[38;5;241m.\u001b[39mIterable)\n\u001b[0;32m   3809\u001b[0m         \u001b[38;5;129;01mand\u001b[39;00m \u001b[38;5;28many\u001b[39m(\u001b[38;5;28misinstance\u001b[39m(x, \u001b[38;5;28mslice\u001b[39m) \u001b[38;5;28;01mfor\u001b[39;00m x \u001b[38;5;129;01min\u001b[39;00m casted_key)\n\u001b[0;32m   3810\u001b[0m     ):\n\u001b[0;32m   3811\u001b[0m         \u001b[38;5;28;01mraise\u001b[39;00m InvalidIndexError(key)\n\u001b[1;32m-> 3812\u001b[0m     \u001b[38;5;28;01mraise\u001b[39;00m \u001b[38;5;167;01mKeyError\u001b[39;00m(key) \u001b[38;5;28;01mfrom\u001b[39;00m \u001b[38;5;21;01merr\u001b[39;00m\n\u001b[0;32m   3813\u001b[0m \u001b[38;5;28;01mexcept\u001b[39;00m \u001b[38;5;167;01mTypeError\u001b[39;00m:\n\u001b[0;32m   3814\u001b[0m     \u001b[38;5;66;03m# If we have a listlike key, _check_indexing_error will raise\u001b[39;00m\n\u001b[0;32m   3815\u001b[0m     \u001b[38;5;66;03m#  InvalidIndexError. Otherwise we fall through and re-raise\u001b[39;00m\n\u001b[0;32m   3816\u001b[0m     \u001b[38;5;66;03m#  the TypeError.\u001b[39;00m\n\u001b[0;32m   3817\u001b[0m     \u001b[38;5;28mself\u001b[39m\u001b[38;5;241m.\u001b[39m_check_indexing_error(key)\n",
      "\u001b[1;31mKeyError\u001b[0m: 'столбец'"
     ]
    }
   ],
   "source": [
    "# import pandas as pd\n",
    "\n",
    "# Среднее\n",
    "mean = df['столбец'].mean()  # на выходе число\n",
    "\n",
    "# Медиана\n",
    "median = df['столбец'].median()  # на выходе число\n",
    "\n",
    "# Мода\n",
    "mode = df['столбец'].mode()  # на выходе серия Pandas со значениями мод\n",
    "\n",
    "\n",
    "# import numpy as np\n",
    "# from scipy import stats\n",
    "\n",
    "# Среднее\n",
    "mean = np.mean(df['столбец'])\n",
    "\n",
    "# Медиана\n",
    "median = np.median(df['столбец'])\n",
    "\n",
    "# Мода\n",
    "mode = stats.mode(df['столбец'])"
   ]
  },
  {
   "cell_type": "markdown",
   "metadata": {},
   "source": [
    "## Дисперсия, стандартное отклонение:"
   ]
  },
  {
   "cell_type": "code",
   "execution_count": null,
   "metadata": {},
   "outputs": [],
   "source": [
    "# import pandas as pd\n",
    "\n",
    "# дисперсия (по умолчанию несмещенная оценка)\n",
    "var = df['столбец'].var()\n",
    "# дисперсия (смещенная оценка)\n",
    "var = df['столбец'].var(ddof=0)\n",
    "\n",
    "\n",
    "# стандартное отклонение\n",
    "sd = df['столбец'].std()\n",
    "# дисперсия (смещенная оценка)\n",
    "var = df['столбец'].std(ddof=0)"
   ]
  },
  {
   "cell_type": "markdown",
   "metadata": {},
   "source": [
    "## Ковариация, корреляция:"
   ]
  },
  {
   "cell_type": "code",
   "execution_count": null,
   "metadata": {},
   "outputs": [],
   "source": [
    "# from scipy import stats\n",
    "\n",
    "# создаем серии данных\n",
    "A = pd.Series([7.6, 7.9, 8.3, 7.2, 6.9, 7.9, 7.4, 7.8, 5.9, 7.1, 6.8])\n",
    "B = pd.Series([10, 12, 12, 8, 8, 7.5, 7.5, 7.5, 6.5, 7, 7])\n",
    "\n",
    "# рассчитываем значение корреляции Пирсона между двумя сериями данных A и B\n",
    "corr = stats.pearsonr(A,B).statistic\n",
    "\n",
    "\n",
    "# import pandas as pd\n",
    "\n",
    "df = pd.DataFrame({'стобец_1': [7.6, 7.9, 8.3, 7.2, 6.9, 7.9, 7.4, 7.8, 5.9, 7.1, 6.8],\n",
    " 'столбец_2': [10, 12, 12, 8, 8, 7.5, 7.5, 7.5, 6.5, 7, 7],\n",
    " 'столбец_3': [2.5, 1.8, 3.1, 1.9, 2.4, 2.8, 1.0, 3.2, 2.1, 2.2, 0.5]})\n",
    "\n",
    "# создаем корреляционную матрицу\n",
    "corr_matrix = df.corr()"
   ]
  },
  {
   "cell_type": "markdown",
   "metadata": {},
   "source": [
    "## Квантили, квартили, перцентили:"
   ]
  },
  {
   "cell_type": "code",
   "execution_count": null,
   "metadata": {},
   "outputs": [],
   "source": [
    "# список квартилей, которые хотим рассчитать\n",
    "Q = [0.25, 0.5, 0.75]\n",
    "\n",
    "# рассчитываем квантили значений в столбец датафрейма\n",
    "print(df['столбец'].quantile(Q))"
   ]
  },
  {
   "cell_type": "markdown",
   "metadata": {},
   "source": [
    "## Box Plot:"
   ]
  },
  {
   "cell_type": "code",
   "execution_count": null,
   "metadata": {},
   "outputs": [],
   "source": [
    "# import matplotlib.pyplot as plt\n",
    "\n",
    "# строим один Box Plot по столбцу датафрейма\n",
    "bp = plt.boxplot(df['столбец'],\n",
    "                     vert=True,  # расположение бокса (True по умолчанию)\n",
    "                     patch_artist=False,  # наполнение бокса цветом (False по умолчанию)\n",
    "                     showmeans=True, # показывать среднее (зеленый треугольник) (False по умолчанию)\n",
    "                     showfliers=True, # показывать выбросы (True по умолчанию)\n",
    "                     labels=['столбец'])  # надписи\n",
    "plt.show()\n",
    "\n",
    "# строим несколько Box Plot по столбцам датафрейма\n",
    "bp = plt.boxplot([df['столбец_1'],df['столбец_2']]) \n",
    "plt.show()\n",
    "\n",
    "\n",
    "\n",
    "# import pandas as pd\n",
    "\n",
    "# строим несколько Box Plot по столбцам датафрейма, сгруппированным по другому столбцу\n",
    "df.boxplot(column=['столбец_1','столбец_2'], by='столбец_3', grid= False , color='black')\n",
    "plt.show()"
   ]
  },
  {
   "cell_type": "markdown",
   "metadata": {},
   "source": [
    "## Нормальное распределение:"
   ]
  },
  {
   "cell_type": "code",
   "execution_count": null,
   "metadata": {},
   "outputs": [],
   "source": [
    "# import numpy as np\n",
    "# from scipy import stats\n",
    "\n",
    "# Создаем нормальное распределение со средним 0 и стандартным отклонением 3\n",
    "data = stats.norm(0,3)\n",
    "\n",
    "x = np.linspace(-10, 10, 1000) # Создаем ось Х из 1000 значений в интервале от -10 до 10\n",
    "# x = np.arange(-10,10,0.02) # Альтернативный способ создания оси Х из 1000 значений в интервале от -10 до 10 с заданием шага(0.02)\n",
    "\n",
    "CDF = data.cdf(x) # Создаем функкцию CDF от значений в интервале х\n",
    "plt.plot(x, CDF) # Строим график СDF\n",
    "plt.show()\n",
    "\n",
    "PDF = data.pdf(x) # Создаем функкцию PDF от значений в интервале х\n",
    "plt.plot(x, PDF) # Строим график PDF\n",
    "plt.show()\n",
    "\n",
    "SF = data.sf(x) # Создаем функкцию SF от значений в интервале х\n",
    "plt.plot(x, SF) # Строим график SF\n",
    "plt.show()\n",
    "\n",
    "PPF = data.ppf(x) # Создаем функкцию PPF от значений в интервале х\n",
    "plt.plot(x, PPF) # Строим график PPF\n",
    "plt.show()\n",
    "\n",
    "ISF = data.isf(x) # Создаем функкцию ISF от значений в интервале х\n",
    "plt.plot(x, ISF) # Строим график ISF\n",
    "plt.show()"
   ]
  },
  {
   "cell_type": "markdown",
   "metadata": {},
   "source": [
    "## Тест Колмогорова-Смирнова:"
   ]
  },
  {
   "cell_type": "code",
   "execution_count": null,
   "metadata": {},
   "outputs": [],
   "source": [
    "# from numpy.random import seed\n",
    "# from numpy.random import lognormal, randn\n",
    "# from scipy.stats import kstest, ks_2samp\n",
    "\n",
    "# инициализируем генератор псевдослучайных чисел\n",
    "seed(0)\n",
    "\n",
    "# создаем 1000 значений, имеющих логнормальное распределение со средним значением 0 и стандартным отклонением 2\n",
    "data = lognormal(0, 2, 1000)\n",
    "\n",
    "# создаем 1000 значений, имеющих стандартное нормальное распределение\n",
    "standard_normal = randn(1000)\n",
    "\n",
    "# запускаем одновыборочный тест Колмогорова-Смирнова на соответствие нашего распределения (data) нормальному распределению (norm)\n",
    "print(kstest(data, 'norm'))\n",
    "\n",
    "# запускаем двухвыборочный тест Колмогорова-Смирнова\n",
    "print(ks_2samp(standard_normal, log_normal))"
   ]
  },
  {
   "cell_type": "markdown",
   "metadata": {},
   "source": [
    "## Тест Колмогорова-Смирнова с поправкой Лиллиефорса:"
   ]
  },
  {
   "cell_type": "code",
   "execution_count": null,
   "metadata": {},
   "outputs": [],
   "source": [
    "# from numpy.random import seed\n",
    "# from numpy.random import lognormal\n",
    "# from statsmodels.stats.diagnostic import lilliefors\n",
    "\n",
    "# инициализируем генератор псевдослучайных чисел\n",
    "seed(0)\n",
    "\n",
    "# создаем 1000 значений, имеющих логнормальное распределение со средним значением 0 и стандартным отклонением 2\n",
    "data = lognormal(0, 2, 1000)\n",
    "\n",
    "# запускаем одновыборочный тест Колмогорова-Смирнова c поправкой Лиллиефорса\n",
    "print(lilliefors(data))"
   ]
  },
  {
   "cell_type": "markdown",
   "metadata": {},
   "source": [
    "## Тест Шапиро-Уилка:"
   ]
  },
  {
   "cell_type": "code",
   "execution_count": null,
   "metadata": {},
   "outputs": [],
   "source": [
    "# from numpy.random import seed\n",
    "# from numpy.random import poisson\n",
    "# from scipy.stats import shapiro\n",
    "\n",
    "# инициализируем генератор псевдослучайных чисел\n",
    "seed(0)\n",
    "\n",
    "# создаем 100 значений, имеющих распределение Пуассона с лямбдой, равной 5\n",
    "data = poisson(5, 100)\n",
    "\n",
    "# запускаем тест Шапиро-Уилка на соответствие нашего распределения (data) нормальному распределению\n",
    "print(shapiro(data))"
   ]
  },
  {
   "cell_type": "markdown",
   "metadata": {},
   "source": [
    "## QQ Plot:"
   ]
  },
  {
   "cell_type": "code",
   "execution_count": null,
   "metadata": {},
   "outputs": [],
   "source": [
    "# import statsmodels.api as sm\n",
    "# import matplotlib.pyplot as plt\n",
    "# from numpy.random import lognormal, randn\n",
    "\n",
    "np.random.seed(0)\n",
    "# Создаем выборку из 1000 значений, имеющих стандартное нормальное распределение\n",
    "data = randn(1000)\n",
    "\n",
    "# Строим QQ plot с reference line в виде прямой линии под 45 градусов\n",
    "fig = sm.qqplot(data, line='45')\n",
    "plt.show()"
   ]
  },
  {
   "cell_type": "markdown",
   "metadata": {},
   "source": [
    "## t-тест:"
   ]
  },
  {
   "cell_type": "code",
   "execution_count": null,
   "metadata": {},
   "outputs": [],
   "source": [
    "# from scipy.stats import ttest_1samp, ttest_ind\n",
    "\n",
    "#создаем выборки\n",
    "sample_x = [7, 8, 9, 13, 10, 9, 9, 10, 9, 11, 12, 8, 9, 11, 10, 9, 10]\n",
    "sample_y = [9, 12, 11, 11, 12, 8, 7, 9, 8, 10, 11, 10, 9, 10, 11, 9, 8]\n",
    "\n",
    "# проводим одновыборочный t-тест на равенство среднего 9.71\n",
    "print(ttest_1samp(sample_x, 9.71))\n",
    "\n",
    "​# проводим двухвыборочный t-тест на равенство средних\n",
    "print(ttest_ind(sample_x, sample_y))\n",
    "\n",
    "​# в случае отсутствия гомогенности дисперсий (тест Уэлча)\n",
    "print(ttest_ind(sample_x, sample_y, equal_var=False))"
   ]
  }
 ],
 "metadata": {
  "kernelspec": {
   "display_name": "base",
   "language": "python",
   "name": "python3"
  },
  "language_info": {
   "codemirror_mode": {
    "name": "ipython",
    "version": 3
   },
   "file_extension": ".py",
   "mimetype": "text/x-python",
   "name": "python",
   "nbconvert_exporter": "python",
   "pygments_lexer": "ipython3",
   "version": "3.11.10"
  }
 },
 "nbformat": 4,
 "nbformat_minor": 2
}
