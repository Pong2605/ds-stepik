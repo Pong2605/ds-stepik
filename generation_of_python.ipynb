{
 "cells": [
  {
   "cell_type": "markdown",
   "metadata": {},
   "source": [
    "# Визуализация прогресса выполнения кода"
   ]
  },
  {
   "cell_type": "code",
   "execution_count": 1698,
   "metadata": {},
   "outputs": [],
   "source": [
    "# from tqdm.notebook import tqdm\n",
    "\n",
    "# import numpy as np\n",
    "\n",
    "# w, b = 2, 3\n",
    "\n",
    "# basket = ['w']*w + ['b']*b\n",
    "\n",
    "# # number of multiverse\n",
    "# n = 10**5\n",
    "\n",
    "# success = 0\n",
    "\n",
    "# for _ in tqdm(range(n)):\n",
    "#     s1, s2 = np.random.choice(w+b, size=2, replace=False)\n",
    "#     if basket[s1]==basket[s2]:\n",
    "#         success += 1\n",
    "\n",
    "# print(success/n)"
   ]
  },
  {
   "cell_type": "markdown",
   "metadata": {},
   "source": [
    "# 2.2 Команды print и input, переменные"
   ]
  },
  {
   "cell_type": "code",
   "execution_count": 1699,
   "metadata": {},
   "outputs": [
    {
     "data": {
      "text/plain": [
       "['Раз', 'Два', 'Три']"
      ]
     },
     "execution_count": 1699,
     "metadata": {},
     "output_type": "execute_result"
    }
   ],
   "source": [
    "# my_list = list(input() for _ in range(3))\n",
    "my_list = [i for i in ['Раз', 'Два', 'Три']]\n",
    "\n",
    "my_list"
   ]
  },
  {
   "cell_type": "code",
   "execution_count": 1700,
   "metadata": {},
   "outputs": [
    {
     "name": "stdout",
     "output_type": "stream",
     "text": [
      "Раз\n",
      "Два\n",
      "Три\n"
     ]
    }
   ],
   "source": [
    "print(*(elem for elem in my_list), sep='\\n')"
   ]
  },
  {
   "cell_type": "code",
   "execution_count": 1701,
   "metadata": {},
   "outputs": [
    {
     "name": "stdout",
     "output_type": "stream",
     "text": [
      "Три\n",
      "Два\n",
      "Раз\n"
     ]
    }
   ],
   "source": [
    "print(*(elem for elem in my_list[::-1]), sep='\\n')"
   ]
  },
  {
   "cell_type": "code",
   "execution_count": 1702,
   "metadata": {},
   "outputs": [
    {
     "name": "stdout",
     "output_type": "stream",
     "text": [
      "Принадлежит\n"
     ]
    }
   ],
   "source": [
    "a = 18\n",
    "a = 5\n",
    "\n",
    "print(('Не принадлежит', 'Принадлежит')[a > -1 and a < 17])"
   ]
  },
  {
   "cell_type": "code",
   "execution_count": 1703,
   "metadata": {},
   "outputs": [],
   "source": [
    "# a1, d, n = [int(input()) for _ in range(3)]"
   ]
  },
  {
   "cell_type": "code",
   "execution_count": 1704,
   "metadata": {},
   "outputs": [
    {
     "name": "stdout",
     "output_type": "stream",
     "text": [
      "7---14---21---28---35\n"
     ]
    }
   ],
   "source": [
    "# x = int(input())\n",
    "x = 7\n",
    "\n",
    "print(*[i* x for i in range (1, 6)], sep='---')"
   ]
  },
  {
   "cell_type": "code",
   "execution_count": 1705,
   "metadata": {},
   "outputs": [
    {
     "name": "stdout",
     "output_type": "stream",
     "text": [
      "29\n"
     ]
    }
   ],
   "source": [
    "a = 15 // (16 % 7)\n",
    "b = 34 % a * 5 - 29 % 5 * 2\n",
    "print(a + b)"
   ]
  },
  {
   "cell_type": "code",
   "execution_count": 1706,
   "metadata": {},
   "outputs": [
    {
     "name": "stdout",
     "output_type": "stream",
     "text": [
      "150 мин - это 2 час 30 минут.\n"
     ]
    }
   ],
   "source": [
    "m = 150\n",
    "\n",
    "print(f'{m} мин - это {m // 60} час {m % 60} минут.')"
   ]
  },
  {
   "cell_type": "code",
   "execution_count": 1707,
   "metadata": {},
   "outputs": [
    {
     "name": "stdout",
     "output_type": "stream",
     "text": [
      "1\n",
      "6\n",
      "1\n",
      "2\n",
      "3\n",
      "8\n",
      "7\n"
     ]
    }
   ],
   "source": [
    "# Цифры в числе\n",
    "\n",
    "n = 1612387\n",
    "\n",
    "arr = [n % 10**(len(str(n)) - i) // 10**(len(str(n)) - 1 - i) for i in range(len(str(n)))]\n",
    "\n",
    "print(*arr, sep='\\n')"
   ]
  },
  {
   "cell_type": "code",
   "execution_count": 1708,
   "metadata": {},
   "outputs": [
    {
     "name": "stdout",
     "output_type": "stream",
     "text": [
      "Цифра в позиции тысяч равна 2\n",
      "Цифра в позиции сотен равна 4\n",
      "Цифра в позиции десятков равна 1\n",
      "Цифра в позиции единиц равна 2\n"
     ]
    }
   ],
   "source": [
    "n = 2412\n",
    "\n",
    "a, b, c, d = [n % 10**(len(str(n)) - i) // 10**(len(str(n)) - 1 - i) for i in range(len(str(n)))]\n",
    "\n",
    "print(f'''Цифра в позиции тысяч равна {a}\n",
    "Цифра в позиции сотен равна {b}\n",
    "Цифра в позиции десятков равна {c}\n",
    "Цифра в позиции единиц равна {d}''')"
   ]
  },
  {
   "cell_type": "code",
   "execution_count": 1709,
   "metadata": {},
   "outputs": [],
   "source": [
    "# a, b, c = [int(input()) for _ in range(3)]\n",
    "\n",
    "# a,b,c"
   ]
  },
  {
   "cell_type": "markdown",
   "metadata": {},
   "source": [
    "# 4.2 Логические операции"
   ]
  },
  {
   "cell_type": "code",
   "execution_count": 1710,
   "metadata": {},
   "outputs": [
    {
     "data": {
      "text/plain": [
       "'молодость'"
      ]
     },
     "execution_count": 1710,
     "metadata": {},
     "output_type": "execute_result"
    }
   ],
   "source": [
    "# age = int(input())\n",
    "age = 24\n",
    "\n",
    "get_status = lambda x: 'детство' if x <= 13 else 'молодость' if 13 < x <= 24 else 'зрелость' if 24 < x <= 59 else 'старость'\n",
    "get_status(age)"
   ]
  },
  {
   "cell_type": "code",
   "execution_count": 1711,
   "metadata": {},
   "outputs": [
    {
     "name": "stdout",
     "output_type": "stream",
     "text": [
      "YES\n"
     ]
    }
   ],
   "source": [
    "# Даны две различные клетки шахматной доски. Напишите программу, которая определяет, может ли ладья попасть с первой клетки на вторую одним ходом. \n",
    "# Программа получает на вход четыре числа, каждое, задающие номер столбца и номер строки сначала для первой клетки, потом для второй клетки. \n",
    "# Программа должна вывести «YES», если из первой клетки ходом ладьи можно попасть во вторую, или «NO» в противном случае.\n",
    "\n",
    "# x1, y1, x2, y2 = [int(input()) for _ in range(4)]\n",
    "\n",
    "def result(x1, y1, x2, y2):\n",
    "    if ((x1 == x2) and (y1 == y2)) or not all( 1 <= item <= 8 for item in [x1, y1, x2, y2]):\n",
    "        print('NO')\n",
    "    else:\n",
    "        if ((x1 == x2) or (y1 == y2)):\n",
    "            print('YES')\n",
    "        else:\n",
    "            print('NO')\n",
    "\n",
    "x1, y1, x2, y2 = 4, 4, 3, 4\n",
    "\n",
    "result(x1, y1, x2, y2)"
   ]
  },
  {
   "cell_type": "code",
   "execution_count": 1712,
   "metadata": {},
   "outputs": [
    {
     "name": "stdout",
     "output_type": "stream",
     "text": [
      "YES\n"
     ]
    }
   ],
   "source": [
    "# Даны две различные клетки шахматной доски. Напишите программу, которая определяет, может ли король попасть с первой клетки на вторую одним ходом. \n",
    "# Программа получает на вход четыре числа, каждое, задающие номер столбца и номер строки сначала для первой клетки, потом для второй клетки. \n",
    "# Программа должна вывести «YES», если из первой клетки ходом короля можно попасть во вторую, или «NO» в противном случае.\n",
    "\n",
    "def result(x1, y1, x2, y2):\n",
    "    if ((x1 == x2) and (y1 == y2)) or not all( 1 <= item <= 8 for item in [x1, y1, x2, y2]):\n",
    "        print('NO')\n",
    "    else:\n",
    "        if abs(x2 - x1) <= 1 and abs(y2 - y1) <= 1:\n",
    "            print('YES')\n",
    "        else:\n",
    "            print('NO')\n",
    "\n",
    "x1, y1, x2, y2 = 7, 1, 8, 2\n",
    "\n",
    "result(x1, y1, x2, y2)"
   ]
  },
  {
   "cell_type": "markdown",
   "metadata": {},
   "source": [
    "# 4.3 Вложенные и каскадные условия"
   ]
  },
  {
   "cell_type": "code",
   "execution_count": 1713,
   "metadata": {},
   "outputs": [
    {
     "name": "stdout",
     "output_type": "stream",
     "text": [
      "Don't know\n"
     ]
    }
   ],
   "source": [
    "# n, k = int(input()), int(input())\n",
    "n, k = 20, 20\n",
    "\n",
    "print(\"Don't know\" if n == k else ('YES', 'NO')[n > k])"
   ]
  },
  {
   "cell_type": "code",
   "execution_count": 1714,
   "metadata": {},
   "outputs": [
    {
     "name": "stdout",
     "output_type": "stream",
     "text": [
      "Равнобедренный\n",
      "Равносторонний\n",
      "Разносторонний\n"
     ]
    }
   ],
   "source": [
    "# a, b, c = [int(input()) for _ in range(3)]\n",
    "\n",
    "def trg(a, b, c):\n",
    "    if a == b == c:\n",
    "        print('Равносторонний')\n",
    "    elif a != b != c and b != c != a:\n",
    "        print('Разносторонний')\n",
    "    else:\n",
    "        print('Равнобедренный')\n",
    "\n",
    "\n",
    "trg(145, 145, 139)\n",
    "trg(59, 59, 59)\n",
    "trg(890, 199, 700)"
   ]
  },
  {
   "cell_type": "code",
   "execution_count": 1715,
   "metadata": {},
   "outputs": [
    {
     "data": {
      "text/plain": [
       "2"
      ]
     },
     "execution_count": 1715,
     "metadata": {},
     "output_type": "execute_result"
    }
   ],
   "source": [
    "# arr = [int(input()) for _ in range(3)]\n",
    "\n",
    "arr = [1, 2, 3]\n",
    "\n",
    "for num in arr[0:3]:\n",
    "    if (num != min(arr)) and (num != max(arr)):\n",
    "        res = num\n",
    "res"
   ]
  },
  {
   "cell_type": "code",
   "execution_count": 1716,
   "metadata": {},
   "outputs": [
    {
     "name": "stdout",
     "output_type": "stream",
     "text": [
      "28\n"
     ]
    }
   ],
   "source": [
    "num_days = [30 if i in [4, 6, 9, 11] else 28 if i == 2 else 31 for i in range(1, 13)]\n",
    "months = range(1, 13)\n",
    "\n",
    "months_days = {k: v for (k, v) in zip(months, num_days)}\n",
    "\n",
    "# month_number = int(input())\n",
    "\n",
    "month_number = 2\n",
    "\n",
    "print(months_days[month_number])"
   ]
  },
  {
   "cell_type": "code",
   "execution_count": 1717,
   "metadata": {},
   "outputs": [
    {
     "data": {
      "text/plain": [
       "'Полусредний вес'"
      ]
     },
     "execution_count": 1717,
     "metadata": {},
     "output_type": "execute_result"
    }
   ],
   "source": [
    "get_cat = lambda x: 'Легкий вес' if x < 60 else 'Первый полусредний вес' if x < 64 else 'Полусредний вес' if x < 69 else 'Неопределено'\n",
    "\n",
    "m = 68\n",
    "\n",
    "get_cat(m)"
   ]
  },
  {
   "cell_type": "code",
   "execution_count": 1718,
   "metadata": {},
   "outputs": [
    {
     "data": {
      "text/plain": [
       "2.0"
      ]
     },
     "execution_count": 1718,
     "metadata": {},
     "output_type": "execute_result"
    }
   ],
   "source": [
    "# Калькулятор\n",
    "\n",
    "def calc(a, b, op):\n",
    "    if op == '+':\n",
    "        return a + b\n",
    "    elif op == '-':\n",
    "        return a - b\n",
    "    elif op == '*':\n",
    "        return a * b\n",
    "    elif op == '/':\n",
    "        if b == 0:\n",
    "            return f'На ноль делить нельзя!'\n",
    "        return a / b\n",
    "    return f'Неверная операция'\n",
    "\n",
    "# a, b = int(input()), int(input())\n",
    "# op = input()\n",
    "\n",
    "a, b = 8, 4\n",
    "op = '/'\n",
    "\n",
    "calc(a, b, op)"
   ]
  },
  {
   "cell_type": "code",
   "execution_count": 1719,
   "metadata": {},
   "outputs": [
    {
     "name": "stdout",
     "output_type": "stream",
     "text": [
      "Смешиваем ['красный', 'синий'] и получаем фиолетовый\n",
      "Смешиваем ['красный', 'желтый'] и получаем оранжевый\n",
      "Смешиваем ['желтый'] и получаем желтый\n",
      "Смешиваем ['что-то', 'синий'] и получаем ошибка цвета\n",
      "Смешиваем ['красный', 'черный'] и получаем ошибка цвета\n",
      "Смешиваем ['синий', 'желтый'] и получаем зеленый\n",
      "Смешиваем ['синий', 'желтый'] и получаем зеленый\n"
     ]
    }
   ],
   "source": [
    "# если смешать красный и синий, то получится фиолетовый;\n",
    "# если смешать красный и желтый, то получится оранжевый;\n",
    "# если смешать синий и желтый, то получится зеленый.\n",
    "\n",
    "my_dict = {'фиолетовый': {'красный', 'синий'},\n",
    "           'оранжевый': {'красный', 'желтый'},\n",
    "           'зеленый': {'синий', 'желтый'}}\n",
    "\n",
    "# color_set = {input(), input()}\n",
    "\n",
    "def get_color(colors):\n",
    "    if all([item in ('красный', 'синий', 'желтый') for item in colors]):\n",
    "        for key, val in my_dict.items():\n",
    "            if val == colors:\n",
    "                return key\n",
    "            if len(colors) == 1:\n",
    "                return list(colors)[0]\n",
    "    return f'ошибка цвета'\n",
    "\n",
    "color_set1 = {'красный', 'синий'}\n",
    "color_set2 = {'желтый', 'красный'}\n",
    "color_set3 = {'желтый', 'желтый'}\n",
    "color_set4 = {'что-то', 'синий'}\n",
    "color_set5 = {'красный', 'черный'}\n",
    "color_set6 = {'желтый', 'синий'}\n",
    "color_set7 = {'синий', 'желтый'}\n",
    "\n",
    "color_sets = []\n",
    "\n",
    "for color_set in [eval(f'color_set{i}') for i in range(1, 8)]:\n",
    "    print(f'Смешиваем {list(color_set)} и получаем {get_color(color_set)}')"
   ]
  },
  {
   "cell_type": "code",
   "execution_count": 1720,
   "metadata": {},
   "outputs": [
    {
     "name": "stdout",
     "output_type": "stream",
     "text": [
      "красный\n"
     ]
    }
   ],
   "source": [
    "# карман 0 зеленый;\n",
    "# для карманов с 1 по 10 карманы с нечетным номером имеют красный цвет, карманы с четным номером – черный;\n",
    "# для карманов с 11 по 18 карманы с нечетным номером имеют черный цвет, карманы с четным номером – красный;\n",
    "# для карманов с 19 по 28 карманы с нечетным номером имеют красный цвет, карманы с четным номером – черный;\n",
    "# для карманов с 29 по 36 карманы с нечетным номером имеют черный цвет, карманы с четным номером – красный.\n",
    "\n",
    "rol_dict = {0: 'зеленый'}\n",
    "rol_dict1 = {k: v for (k, v) in zip([i for i in range (1, 11)], [('красный', 'черный')[i % 2 == 0] for i in range (1, 11)])}\n",
    "rol_dict2 = {k: v for (k, v) in zip([i for i in range (11, 19)], [('красный', 'черный')[i % 2 == 1] for i in range (11, 19)])}\n",
    "rol_dict3 = {k: v for (k, v) in zip([i for i in range (19, 29)], [('красный', 'черный')[i % 2 == 0] for i in range (19, 29)])}\n",
    "rol_dict4 = {k: v for (k, v) in zip([i for i in range (29, 37)], [('красный', 'черный')[i % 2 == 1] for i in range (29, 37)])}\n",
    "\n",
    "rol_dict.update(rol_dict1)\n",
    "rol_dict.update(rol_dict2)\n",
    "rol_dict.update(rol_dict3)\n",
    "rol_dict.update(rol_dict4)\n",
    "\n",
    "# x = int(input())\n",
    "\n",
    "x = 5\n",
    "\n",
    "if x in range(0, 37):\n",
    "    print(rol_dict[x])\n",
    "else:\n",
    "    print('ошибка ввода')\n"
   ]
  },
  {
   "cell_type": "code",
   "execution_count": 1721,
   "metadata": {},
   "outputs": [
    {
     "name": "stdout",
     "output_type": "stream",
     "text": [
      "{4, 5, 6, 7, 8, 9, 10, 11, 12, 13, 14, 15, 16, 17, 18, 19, 20, 21, 22, 23, 24, 25, 26, 27, 28, 29, 30} {24, 25, 22, 23}\n",
      "22 25\n"
     ]
    }
   ],
   "source": [
    "# На числовой прямой даны два отрезка: [a1; b1] и [a2; b2].\n",
    "# Напишите программу, которая находит их пересечение.\n",
    "\n",
    "# a1, b1, a2, b2 = [int(input()) for _ in range(4)]\n",
    "\n",
    "a1, b1, a2, b2 = 4, 30, 22, 25\n",
    "\n",
    "line_1 = set(range(a1, b1 + 1))\n",
    "line_2 = set(range(a2, b2 + 1))\n",
    "\n",
    "print(line_1, line_2)\n",
    "\n",
    "intersection = sorted(list(line_1.intersection(line_2)))\n",
    "if len(intersection) >= 2:\n",
    "    print(intersection[0], intersection[-1])\n",
    "elif len(intersection) == 1:\n",
    "    print(intersection[0])\n",
    "else:\n",
    "    print('пустое множество')"
   ]
  },
  {
   "cell_type": "code",
   "execution_count": 1722,
   "metadata": {},
   "outputs": [
    {
     "name": "stdout",
     "output_type": "stream",
     "text": [
      "22 25\n"
     ]
    }
   ],
   "source": [
    "if min(b1, b2) < max(a1, a2): \n",
    "    print('пустое множество')\n",
    "elif min(b1, b2) == max(a1, a2):\n",
    "    print(min(b1, b2))\n",
    "else:\n",
    "    print(max(a1, a2), min(b1, b2))"
   ]
  },
  {
   "cell_type": "markdown",
   "metadata": {},
   "source": [
    "# 6.1 Числовые типы данных: int, float"
   ]
  },
  {
   "cell_type": "code",
   "execution_count": 1723,
   "metadata": {},
   "outputs": [
    {
     "name": "stdout",
     "output_type": "stream",
     "text": [
      "25.0\n",
      "25.0\n"
     ]
    }
   ],
   "source": [
    "# На вход программе подаётся число n – количество собачьих лет. Напишите программу, которая вычисляет возраст собаки в человеческих годах по следующему алгоритму: \n",
    "# в течение первых двух лет собачий год равен 10.5 человеческим годам, \n",
    "# после этого каждый год собаки равен 4 человеческим годам.\n",
    "\n",
    "n = 3\n",
    "\n",
    "if n > 2:\n",
    "    print(2 * 10.5 + 4 * (n - 2))\n",
    "else:\n",
    "    print(10.5 * n)\n",
    "\n",
    "print(min(2, n) * 10.5 + max(n - 2, 0) * 4)"
   ]
  },
  {
   "cell_type": "code",
   "execution_count": 1724,
   "metadata": {},
   "outputs": [
    {
     "data": {
      "text/plain": [
       "2"
      ]
     },
     "execution_count": 1724,
     "metadata": {},
     "output_type": "execute_result"
    }
   ],
   "source": [
    "# Дано положительное действительное число. Выведите его первую цифру после десятичной точки.\n",
    "\n",
    "# n = float(input())\n",
    "n = 459933200.23\n",
    "\n",
    "int(n * 10) - int(n) * 10"
   ]
  },
  {
   "cell_type": "code",
   "execution_count": 1725,
   "metadata": {},
   "outputs": [
    {
     "name": "stdout",
     "output_type": "stream",
     "text": [
      "Число интересное\n"
     ]
    }
   ],
   "source": [
    "# Назовём число интересным, если в нём разность максимальной и минимальной цифры равняется средней по величине цифре. \n",
    "# Напишите программу, которая определяет, интересное число или нет. \n",
    "# Если число интересное, следует вывести «Число интересное», иначе – «Число неинтересное».\n",
    "\n",
    "n = 945\n",
    "\n",
    "arr = sorted([int(i) for i in str(n)])\n",
    "\n",
    "print(('Число неинтересное', 'Число интересное')[arr[2] - arr[0] == arr[1]])"
   ]
  },
  {
   "cell_type": "markdown",
   "metadata": {},
   "source": [
    "# 6.2 Строковый тип данных"
   ]
  },
  {
   "cell_type": "code",
   "execution_count": 1726,
   "metadata": {},
   "outputs": [
    {
     "name": "stdout",
     "output_type": "stream",
     "text": [
      "Лион\n",
      "Марсель\n"
     ]
    }
   ],
   "source": [
    "# Даны названия трёх городов. Напишите программу, которая определяет самое короткое и самое длинное название города.\n",
    "# keys = [input() for _ in range(3)]\n",
    "keys = ['Париж', 'Марсель' , 'Лион']\n",
    "\n",
    "cities_dict = {len(k): k for k in keys}\n",
    "print(cities_dict.get(min(cities_dict)), cities_dict.get(max(cities_dict)), sep='\\n')"
   ]
  },
  {
   "cell_type": "code",
   "execution_count": 1727,
   "metadata": {},
   "outputs": [
    {
     "name": "stdout",
     "output_type": "stream",
     "text": [
      "Лион\n",
      "Марсель\n"
     ]
    }
   ],
   "source": [
    "# a, b, c = input(), input(), input()\n",
    "a, b, c = ['Париж', 'Марсель' , 'Лион']\n",
    "\n",
    "print(min(a, b, c, key=len ))\n",
    "print(max(a, b, c, key=len ))"
   ]
  },
  {
   "cell_type": "code",
   "execution_count": 1728,
   "metadata": {},
   "outputs": [
    {
     "name": "stdout",
     "output_type": "stream",
     "text": [
      "сидите\n",
      "нормированным\n"
     ]
    }
   ],
   "source": [
    "words = '''Без меня, ребятки Дома сидите, какие вам космосы Бабушка сказала бы Бездельники И вообще, \n",
    "         ракета летит по параболе Дома сидите, какие вам космосы Так бы и подумала И вообще, ракета летит по параболе Да это без разницы \n",
    "         Может по нормированным параметрам от множества систем принимается решение об изменении другого параметра Не об этом думать хочу в жизни есть более важные вещи, чем примеры'''\n",
    "words = [word for word in words.replace(',', '').split() if len(word) > 5]\n",
    "\n",
    "print(min(words, key=len))\n",
    "print(max(words, key=len))"
   ]
  },
  {
   "cell_type": "code",
   "execution_count": 1729,
   "metadata": {},
   "outputs": [
    {
     "name": "stdout",
     "output_type": "stream",
     "text": [
      "YES\n"
     ]
    }
   ],
   "source": [
    "# words = [len(input()) for _ in range(3)]\n",
    "\n",
    "words = [len(word) for word in ['abc', 'a', 'abcde']]\n",
    "\n",
    "min_word = min(words)\n",
    "max_word = max(words)\n",
    "midle_word = sum(words) - max_word - min_word\n",
    "\n",
    "print(('NO', 'YES')[max_word - midle_word == midle_word - min_word])"
   ]
  },
  {
   "cell_type": "code",
   "execution_count": 1730,
   "metadata": {},
   "outputs": [
    {
     "name": "stdout",
     "output_type": "stream",
     "text": [
      "YES\n"
     ]
    }
   ],
   "source": [
    "print(('NO', 'YES')['суббота' in (s := 'суббота - прекрасный день') or 'воскресенье' in s])"
   ]
  },
  {
   "cell_type": "markdown",
   "metadata": {},
   "source": [
    "# 6.3 Модуль math"
   ]
  },
  {
   "cell_type": "code",
   "execution_count": 1731,
   "metadata": {},
   "outputs": [
    {
     "name": "stdout",
     "output_type": "stream",
     "text": [
      "1.5\n",
      "1.4142135623730951\n",
      "1.3333333333333333\n",
      "1.5811388300841898\n"
     ]
    }
   ],
   "source": [
    "from math import sqrt, pow\n",
    "\n",
    "a, b = 1.0, 2.0\n",
    "\n",
    "print((a + b) / 2)\n",
    "print(sqrt(a * b))\n",
    "print(2 * a * b / (a + b))\n",
    "print(sqrt((pow(a, 2) + pow(b, 2)) / 2))"
   ]
  },
  {
   "cell_type": "code",
   "execution_count": 1732,
   "metadata": {},
   "outputs": [
    {
     "data": {
      "text/plain": [
       "1.5811388300841898"
      ]
     },
     "execution_count": 1732,
     "metadata": {},
     "output_type": "execute_result"
    }
   ],
   "source": [
    "sqrt((pow(a, 2) + pow(b, 2)) / 2)"
   ]
  },
  {
   "cell_type": "code",
   "execution_count": 1733,
   "metadata": {},
   "outputs": [
    {
     "name": "stdout",
     "output_type": "stream",
     "text": [
      "2.414213562373095\n"
     ]
    }
   ],
   "source": [
    "from math import sin, cos, tan, pow, radians\n",
    "x = 45.0\n",
    "r = radians(x)\n",
    "\n",
    "print(sin(r)+ cos(r) + pow(tan(r), 2))"
   ]
  },
  {
   "cell_type": "code",
   "execution_count": 1734,
   "metadata": {},
   "outputs": [
    {
     "name": "stdout",
     "output_type": "stream",
     "text": [
      "11\n"
     ]
    }
   ],
   "source": [
    "from math import floor, ceil\n",
    "\n",
    "# n = float(input())\n",
    "n = 5.5\n",
    "\n",
    "print(floor(n) + ceil(n))"
   ]
  },
  {
   "cell_type": "markdown",
   "metadata": {},
   "source": [
    "# 7.1 Цикл for"
   ]
  },
  {
   "cell_type": "code",
   "execution_count": 1735,
   "metadata": {},
   "outputs": [
    {
     "name": "stdout",
     "output_type": "stream",
     "text": [
      "1 120\n",
      "2 150.0\n",
      "3 187.5\n",
      "4 234.375\n"
     ]
    }
   ],
   "source": [
    "# m - стартовое количество организмов,\n",
    "# p - среднесуточное увеличение в %,\n",
    "# n - количество дней для размножения\n",
    "\n",
    "# m, p, n = [int(input() for _ in range(3))]\n",
    "m, p, n = 120, 25, 4\n",
    "\n",
    "for i in range(1, n + 1):\n",
    "    print(i, m)\n",
    "    m = m * (1 + p / 100)"
   ]
  },
  {
   "cell_type": "code",
   "execution_count": 1736,
   "metadata": {},
   "outputs": [
    {
     "name": "stdout",
     "output_type": "stream",
     "text": [
      "7\n",
      "6\n",
      "5\n",
      "4\n",
      "3\n",
      "2\n",
      "1\n"
     ]
    }
   ],
   "source": [
    "# Даны два целых числа m и n. Напишите программу, которая выводит все целые числа от m до n включительно в порядке возрастания, если m < n и наоборот.\n",
    "\n",
    "# m, n = int(input()), int(input())\n",
    "m = 7\n",
    "n = 1\n",
    "\n",
    "# list = [i for i in range((min(m, n)), max(m, n) + 1)]\n",
    "print(*sorted([i for i in range((min(m, n)), max(m, n) + 1)], reverse=(m > n)), sep='\\n')"
   ]
  },
  {
   "cell_type": "code",
   "execution_count": 1737,
   "metadata": {},
   "outputs": [
    {
     "name": "stdout",
     "output_type": "stream",
     "text": [
      "15\n",
      "17\n"
     ]
    }
   ],
   "source": [
    "# m, n = int(input()), int(input())\n",
    "\n",
    "m, n = 1, 20\n",
    "\n",
    "for i in range(m, n + 1):\n",
    "    if (i % 17 == 0) or (i // 10 == 9) or (i % 3 == 0 and i % 5 == 0):\n",
    "        print(i)"
   ]
  },
  {
   "cell_type": "code",
   "execution_count": 1738,
   "metadata": {},
   "outputs": [
    {
     "name": "stdout",
     "output_type": "stream",
     "text": [
      "0.6263831609742079\n"
     ]
    }
   ],
   "source": [
    "# a, b = int(input()), int(input())\n",
    "from math import log\n",
    "\n",
    "n = 10\n",
    "total = 0\n",
    "\n",
    "for i in range(1, n + 1):\n",
    "    total += 1 / i\n",
    "print(total - log(n))"
   ]
  },
  {
   "cell_type": "code",
   "execution_count": 1739,
   "metadata": {},
   "outputs": [
    {
     "name": "stdout",
     "output_type": "stream",
     "text": [
      "1234124121235\n",
      "124141243\n"
     ]
    }
   ],
   "source": [
    "# На вход программе подается натуральное число n, а затем n различных натуральных чисел последовательности, \n",
    "# каждое на отдельной строке. Напишите программу, которая выводит наибольшее и второе наибольшее число последовательности.\n",
    "\n",
    "# n = int(input())\n",
    "n = 4\n",
    "\n",
    "mx_1, mx_2 = 0, 0\n",
    "\n",
    "i = 0\n",
    "for _ in range(n):\n",
    "    nums = [124141243, 234, 1234124121235, 123312]\n",
    "    # num = int(input())\n",
    "    num = nums[i]\n",
    "\n",
    "    if num > mx_2:\n",
    "        if num > mx_1:\n",
    "            mx_2, mx_1 = mx_1, num\n",
    "        else:\n",
    "            mx_2 = num\n",
    "    i +=1\n",
    "\n",
    "print(mx_1, mx_2, sep='\\n')"
   ]
  },
  {
   "cell_type": "code",
   "execution_count": 1740,
   "metadata": {},
   "outputs": [],
   "source": [
    "# n = int(input)\n",
    "n = 3\n",
    "\n",
    "# print(('NO', 'YES')[all([i % 2 == 0 for i in [int(input()) for _ in range(n)]])])"
   ]
  },
  {
   "cell_type": "code",
   "execution_count": 1741,
   "metadata": {},
   "outputs": [
    {
     "name": "stdout",
     "output_type": "stream",
     "text": [
      "1 1 2 3 5 8 13 21 34 55 89 144 233 377 610 987 1597 2584 4181 6765 10946 17711 28657 46368 75025 121393 196418 317811 514229 832040 "
     ]
    }
   ],
   "source": [
    "# Фибоначи\n",
    "\n",
    "# n = int(input())\n",
    "n = 30\n",
    "\n",
    "a2 = 0\n",
    "fib = 1\n",
    "\n",
    "for i in range(n):\n",
    "    print(fib, end=' ')\n",
    "\n",
    "    # fib, a2 = a2 + fib, fib\n",
    "\n",
    "    a1 = a2\n",
    "    a2 = fib\n",
    "    fib = a1 + a2"
   ]
  },
  {
   "cell_type": "code",
   "execution_count": 1742,
   "metadata": {},
   "outputs": [
    {
     "name": "stdout",
     "output_type": "stream",
     "text": [
      "1 1 2 3 5 8 13 21 34 55 89 144 233 377 610 987 1597 2584 4181 6765 10946 17711 28657 46368 75025 121393 196418 317811 514229 832040 "
     ]
    }
   ],
   "source": [
    "# n = int(input())\n",
    "\n",
    "n = 30\n",
    "a = 1\n",
    "b = 1\n",
    "\n",
    "for i in range(n):\n",
    "    print(a, end=' ')\n",
    "    a, b = b, a + b"
   ]
  },
  {
   "cell_type": "markdown",
   "metadata": {},
   "source": [
    "# 7.4 Цикл while"
   ]
  },
  {
   "cell_type": "code",
   "execution_count": 1743,
   "metadata": {},
   "outputs": [
    {
     "name": "stdout",
     "output_type": "stream",
     "text": [
      "5 4 3 2 1 "
     ]
    }
   ],
   "source": [
    "# n = int(input())\n",
    "n = 12345\n",
    "\n",
    "while n != 0:  # пока в числе есть цифры\n",
    "    last_digit = n % 10  # получить последнюю цифру\n",
    "    # код обработки последней цифры\n",
    "    n = n // 10  # удалить последнюю цифру из числа\n",
    "    print(last_digit, end=' ')"
   ]
  },
  {
   "cell_type": "code",
   "execution_count": 1744,
   "metadata": {},
   "outputs": [
    {
     "name": "stdout",
     "output_type": "stream",
     "text": [
      "Сумма равна 49\n",
      "49 -> 24 -> 14 -> 4 -> 3 -> 2 -> 1 -> Всего 7 монет\n"
     ]
    }
   ],
   "source": [
    "# Всем известно, что ведьмак способен одолеть любых чудовищ, однако его услуги обойдутся недешево. К тому же ведьмак не принимает купюры, он принимает только чеканные монеты. \n",
    "# В мире ведьмака существуют монеты с номиналами \n",
    "# 1,5,10,25.\n",
    "# Напишите программу, которая определяет, какое минимальное количество чеканных монет нужно заплатить ведьмаку.\n",
    "\n",
    "# n = int(input())\n",
    "n = 49\n",
    "arr = [1, 5, 10, 25]\n",
    "cnt = 0\n",
    "print(f'Сумма равна {n}')\n",
    "for i in arr[::-1]:\n",
    "    while n >= i:\n",
    "        print(n, end=' -> ')\n",
    "        n -= i\n",
    "        cnt += 1\n",
    "print(f'Всего {cnt} монет')"
   ]
  },
  {
   "cell_type": "code",
   "execution_count": 1745,
   "metadata": {},
   "outputs": [
    {
     "name": "stdout",
     "output_type": "stream",
     "text": [
      "Максимальная цифра равна 8\n",
      "Минимальная цифра равна 2\n"
     ]
    }
   ],
   "source": [
    "n = 23784\n",
    "\n",
    "dmin = n % 10\n",
    "dmax = dmin\n",
    "\n",
    "while n != 0:\n",
    "    if n % 10 > dmax:\n",
    "        dmax = n % 10\n",
    "    if n % 10 < dmin:\n",
    "        dmin = n % 10\n",
    "    n //= 10\n",
    "\n",
    "print(f'''Максимальная цифра равна {dmax}\n",
    "Минимальная цифра равна {dmin}''')"
   ]
  },
  {
   "cell_type": "code",
   "execution_count": 1746,
   "metadata": {},
   "outputs": [
    {
     "name": "stdout",
     "output_type": "stream",
     "text": [
      "26\n",
      "4\n",
      "1680\n",
      "6.5\n",
      "5\n",
      "13\n"
     ]
    }
   ],
   "source": [
    "# Дано натуральное число. Напишите программу, которая вычисляет:\n",
    "\n",
    "# сумму его цифр;\n",
    "# количество цифр в нем;\n",
    "# произведение его цифр;\n",
    "# среднее арифметическое его цифр;\n",
    "# его первую цифру;\n",
    "# сумму его первой и последней цифры.\n",
    "\n",
    "n = 5678\n",
    "\n",
    "total = 0\n",
    "cnt = 0\n",
    "pd = 1\n",
    "ldigit = n % 10\n",
    "\n",
    "while n > 0:\n",
    "    fdigit = n % 10\n",
    "    total += fdigit\n",
    "    cnt += 1\n",
    "    pd *= fdigit\n",
    "    n //= 10\n",
    "print(total)\n",
    "print(cnt)\n",
    "print(pd)\n",
    "print(total / cnt)\n",
    "print(fdigit)\n",
    "print(fdigit + ldigit)"
   ]
  },
  {
   "cell_type": "code",
   "execution_count": 1747,
   "metadata": {},
   "outputs": [
    {
     "name": "stdout",
     "output_type": "stream",
     "text": [
      "6\n"
     ]
    }
   ],
   "source": [
    "# Напишите программу, которая определяет его вторую (с начала) цифру.\n",
    "\n",
    "n = 5678\n",
    "\n",
    "while n > 10:\n",
    "    digit = n % 10\n",
    "    n //= 10\n",
    "print(digit)"
   ]
  },
  {
   "cell_type": "code",
   "execution_count": 1748,
   "metadata": {},
   "outputs": [
    {
     "name": "stdout",
     "output_type": "stream",
     "text": [
      "NO\n"
     ]
    }
   ],
   "source": [
    "# n = int(input())\n",
    "n = 1231231\n",
    "\n",
    "flag = True\n",
    "\n",
    "while flag and n > 0:\n",
    "    digit1 = n % 10\n",
    "    digit2 = n % 100 - digit1\n",
    "    if digit1 != digit2:\n",
    "        flag = False\n",
    "    n //= 10\n",
    "\n",
    "print(('NO', 'YES')[flag])"
   ]
  },
  {
   "cell_type": "code",
   "execution_count": 1749,
   "metadata": {},
   "outputs": [
    {
     "name": "stdout",
     "output_type": "stream",
     "text": [
      "YES\n"
     ]
    }
   ],
   "source": [
    "# Напишите программу, которая определяет, состоит ли указанное число из одинаковых цифр.\n",
    "\n",
    "# n = int(input())\n",
    "n = 22222\n",
    "flag = True\n",
    "digit = n % 10\n",
    "\n",
    "while flag and n > 0:\n",
    "    if digit != n % 10:\n",
    "        flag = False\n",
    "    n //= 10\n",
    "print(('NO', 'YES')[flag])"
   ]
  },
  {
   "cell_type": "code",
   "execution_count": 1750,
   "metadata": {},
   "outputs": [
    {
     "name": "stdout",
     "output_type": "stream",
     "text": [
      "3 <= 3 True\n",
      "3 <= 4 True\n",
      "4 <= 4 True\n",
      "4 <= 6 True\n",
      "6 <= 7 True\n",
      "7 <= 2 False\n",
      "NO\n"
     ]
    }
   ],
   "source": [
    "# Дано натуральное число. \n",
    "# Напишите программу, которая определяет, является ли последовательность его цифр при просмотре справа налево упорядоченной по неубыванию.\n",
    "\n",
    "# n = int(input())\n",
    "n = 276443\n",
    "\n",
    "flag = True\n",
    "last_digit = n % 10\n",
    "\n",
    "while n > 0:\n",
    "    if last_digit > n % 10:\n",
    "        flag = False\n",
    "\n",
    "    print(f'{last_digit} <= {n % 10} {flag}')\n",
    "    \n",
    "    last_digit = n % 10\n",
    "    n //= 10\n",
    "    \n",
    "\n",
    "print(('NO', 'YES')[flag])"
   ]
  },
  {
   "cell_type": "markdown",
   "metadata": {},
   "source": [
    "# 7.6 break, continue и else"
   ]
  },
  {
   "cell_type": "code",
   "execution_count": 1751,
   "metadata": {},
   "outputs": [],
   "source": [
    "# break - завершение цикла,\n",
    "# continue - пропуск выполнения оставшегося кода цикла и переход к следующей итерации цикла"
   ]
  },
  {
   "cell_type": "code",
   "execution_count": 1752,
   "metadata": {},
   "outputs": [
    {
     "name": "stdout",
     "output_type": "stream",
     "text": [
      "Число 12317 содержит цифру 7\n"
     ]
    }
   ],
   "source": [
    "n = 1231721\n",
    "\n",
    "while n != 0:\n",
    "    last = n % 10\n",
    "    if last == 7:\n",
    "        print('Число', n, 'содержит цифру 7')\n",
    "        break\n",
    "    n //= 10\n",
    "else:\n",
    "    print('Число', n, 'не содержит цифру 7')"
   ]
  },
  {
   "cell_type": "code",
   "execution_count": 1753,
   "metadata": {},
   "outputs": [
    {
     "name": "stdout",
     "output_type": "stream",
     "text": [
      "5\n"
     ]
    }
   ],
   "source": [
    "# На вход программе подается число n > 1. \n",
    "# Напишите программу, которая выводит его наименьший отличный от 1 делитель.\n",
    "\n",
    "n = 123415\n",
    "\n",
    "for i in range(2, n + 1):\n",
    "    if n % i == 0:\n",
    "        print(i)\n",
    "        break"
   ]
  },
  {
   "cell_type": "code",
   "execution_count": 1754,
   "metadata": {},
   "outputs": [
    {
     "name": "stdout",
     "output_type": "stream",
     "text": [
      "1 2 3 4 10 11 12 13 14 15 16 38 39 40 41 42 43 44 45 46 47 48 49 50 51 52 53 54 55 56 57 58 59 60 61 62 63 64 65 66 67 68 69 70 71 72 73 74 75 76 77 "
     ]
    }
   ],
   "source": [
    "# На вход программе подается натуральное число n. Напишите программу, которая выводит числа от 1 до n за включительно за исключением:\n",
    "# чисел от 5 до 9 включительно;\n",
    "# чисел от 17 до 37 включительно;\n",
    "# чисел от 78 до 87 включительно.\n",
    "\n",
    "n = 80\n",
    "\n",
    "for i in range(1, n + 1):\n",
    "    if i not in range(5, 10) and i not in range(17, 38) and i not in range(78, 88):\n",
    "        print(i, end=' ')"
   ]
  },
  {
   "cell_type": "code",
   "execution_count": 1755,
   "metadata": {},
   "outputs": [
    {
     "name": "stdout",
     "output_type": "stream",
     "text": [
      "1 2 3 4 10 11 12 13 14 15 16 38 39 40 41 42 43 44 45 46 47 48 49 50 51 52 53 54 55 56 57 58 59 60 61 62 63 64 65 66 67 68 69 70 71 72 73 74 75 76 77 "
     ]
    }
   ],
   "source": [
    "n = 80\n",
    "\n",
    "for i in range(1, n + 1):\n",
    "    if i in range(5, 10) or i in range(17, 38) or i in range(78, 88):\n",
    "        continue\n",
    "    print(i, end=' ')"
   ]
  },
  {
   "cell_type": "markdown",
   "metadata": {},
   "source": [
    "# 7.8  Вложенные циклы"
   ]
  },
  {
   "cell_type": "code",
   "execution_count": 1756,
   "metadata": {},
   "outputs": [
    {
     "name": "stdout",
     "output_type": "stream",
     "text": [
      "0 : 0 : 0\n",
      "0 : 0 : 1\n",
      "0 : 0 : 2\n",
      "0 : 0 : 3\n",
      "0 : 0 : 4\n",
      "0 : 0 : 5\n",
      "0 : 0 : 6\n",
      "0 : 0 : 7\n",
      "0 : 0 : 8\n",
      "0 : 0 : 9\n",
      "0 : 0 : 10\n",
      "0 : 0 : 11\n",
      "0 : 0 : 12\n",
      "0 : 0 : 13\n",
      "0 : 0 : 14\n",
      "0 : 0 : 15\n",
      "0 : 0 : 16\n",
      "0 : 0 : 17\n",
      "0 : 0 : 18\n",
      "0 : 0 : 19\n",
      "0 : 0 : 20\n",
      "0 : 0 : 21\n",
      "0 : 0 : 22\n",
      "0 : 0 : 23\n",
      "0 : 0 : 24\n",
      "0 : 0 : 25\n",
      "0 : 0 : 26\n",
      "0 : 0 : 27\n",
      "0 : 0 : 28\n",
      "0 : 0 : 29\n",
      "0 : 0 : 30\n",
      "0 : 0 : 31\n",
      "0 : 0 : 32\n",
      "0 : 0 : 33\n",
      "0 : 0 : 34\n",
      "0 : 0 : 35\n",
      "0 : 0 : 36\n",
      "0 : 0 : 37\n",
      "0 : 0 : 38\n",
      "0 : 0 : 39\n",
      "0 : 0 : 40\n",
      "0 : 0 : 41\n",
      "0 : 0 : 42\n",
      "0 : 0 : 43\n",
      "0 : 0 : 44\n",
      "0 : 0 : 45\n",
      "0 : 0 : 46\n",
      "0 : 0 : 47\n",
      "0 : 0 : 48\n",
      "0 : 0 : 49\n",
      "0 : 0 : 50\n",
      "0 : 0 : 51\n",
      "0 : 0 : 52\n",
      "0 : 0 : 53\n",
      "0 : 0 : 54\n",
      "0 : 0 : 55\n",
      "0 : 0 : 56\n",
      "0 : 0 : 57\n",
      "0 : 0 : 58\n",
      "0 : 0 : 59\n",
      "0 : 1 : 0\n",
      "0 : 1 : 1\n",
      "0 : 1 : 2\n",
      "0 : 1 : 3\n",
      "0 : 1 : 4\n",
      "0 : 1 : 5\n",
      "0 : 1 : 6\n",
      "0 : 1 : 7\n",
      "0 : 1 : 8\n",
      "0 : 1 : 9\n",
      "0 : 1 : 10\n",
      "0 : 1 : 11\n",
      "0 : 1 : 12\n",
      "0 : 1 : 13\n",
      "0 : 1 : 14\n",
      "0 : 1 : 15\n",
      "0 : 1 : 16\n",
      "0 : 1 : 17\n",
      "0 : 1 : 18\n",
      "0 : 1 : 19\n",
      "0 : 1 : 20\n",
      "0 : 1 : 21\n",
      "0 : 1 : 22\n",
      "0 : 1 : 23\n",
      "0 : 1 : 24\n",
      "0 : 1 : 25\n",
      "0 : 1 : 26\n",
      "0 : 1 : 27\n",
      "0 : 1 : 28\n",
      "0 : 1 : 29\n",
      "0 : 1 : 30\n",
      "0 : 1 : 31\n",
      "0 : 1 : 32\n",
      "0 : 1 : 33\n",
      "0 : 1 : 34\n",
      "0 : 1 : 35\n",
      "0 : 1 : 36\n",
      "0 : 1 : 37\n",
      "0 : 1 : 38\n",
      "0 : 1 : 39\n",
      "0 : 1 : 40\n",
      "0 : 1 : 41\n",
      "0 : 1 : 42\n",
      "0 : 1 : 43\n",
      "0 : 1 : 44\n",
      "0 : 1 : 45\n",
      "0 : 1 : 46\n",
      "0 : 1 : 47\n",
      "0 : 1 : 48\n",
      "0 : 1 : 49\n",
      "0 : 1 : 50\n",
      "0 : 1 : 51\n",
      "0 : 1 : 52\n",
      "0 : 1 : 53\n",
      "0 : 1 : 54\n",
      "0 : 1 : 55\n",
      "0 : 1 : 56\n",
      "0 : 1 : 57\n",
      "0 : 1 : 58\n",
      "0 : 1 : 59\n",
      "0 : 2 : 0\n",
      "0 : 2 : 1\n",
      "0 : 2 : 2\n",
      "0 : 2 : 3\n",
      "0 : 2 : 4\n",
      "0 : 2 : 5\n",
      "0 : 2 : 6\n",
      "0 : 2 : 7\n",
      "0 : 2 : 8\n",
      "0 : 2 : 9\n",
      "0 : 2 : 10\n",
      "0 : 2 : 11\n",
      "0 : 2 : 12\n",
      "0 : 2 : 13\n",
      "0 : 2 : 14\n",
      "0 : 2 : 15\n",
      "0 : 2 : 16\n",
      "0 : 2 : 17\n",
      "0 : 2 : 18\n",
      "0 : 2 : 19\n",
      "0 : 2 : 20\n",
      "0 : 2 : 21\n",
      "0 : 2 : 22\n",
      "0 : 2 : 23\n",
      "0 : 2 : 24\n",
      "0 : 2 : 25\n",
      "0 : 2 : 26\n",
      "0 : 2 : 27\n",
      "0 : 2 : 28\n",
      "0 : 2 : 29\n",
      "0 : 2 : 30\n",
      "0 : 2 : 31\n",
      "0 : 2 : 32\n",
      "0 : 2 : 33\n",
      "0 : 2 : 34\n",
      "0 : 2 : 35\n",
      "0 : 2 : 36\n",
      "0 : 2 : 37\n",
      "0 : 2 : 38\n",
      "0 : 2 : 39\n",
      "0 : 2 : 40\n",
      "0 : 2 : 41\n",
      "0 : 2 : 42\n",
      "0 : 2 : 43\n",
      "0 : 2 : 44\n",
      "0 : 2 : 45\n",
      "0 : 2 : 46\n",
      "0 : 2 : 47\n",
      "0 : 2 : 48\n",
      "0 : 2 : 49\n",
      "0 : 2 : 50\n",
      "0 : 2 : 51\n",
      "0 : 2 : 52\n",
      "0 : 2 : 53\n",
      "0 : 2 : 54\n",
      "0 : 2 : 55\n",
      "0 : 2 : 56\n",
      "0 : 2 : 57\n",
      "0 : 2 : 58\n",
      "0 : 2 : 59\n",
      "0 : 3 : 0\n",
      "0 : 3 : 1\n",
      "0 : 3 : 2\n",
      "0 : 3 : 3\n",
      "0 : 3 : 4\n",
      "0 : 3 : 5\n",
      "0 : 3 : 6\n",
      "0 : 3 : 7\n",
      "0 : 3 : 8\n",
      "0 : 3 : 9\n",
      "0 : 3 : 10\n",
      "0 : 3 : 11\n",
      "0 : 3 : 12\n",
      "0 : 3 : 13\n",
      "0 : 3 : 14\n",
      "0 : 3 : 15\n",
      "0 : 3 : 16\n",
      "0 : 3 : 17\n",
      "0 : 3 : 18\n",
      "0 : 3 : 19\n",
      "0 : 3 : 20\n",
      "0 : 3 : 21\n",
      "0 : 3 : 22\n",
      "0 : 3 : 23\n",
      "0 : 3 : 24\n",
      "0 : 3 : 25\n",
      "0 : 3 : 26\n",
      "0 : 3 : 27\n",
      "0 : 3 : 28\n",
      "0 : 3 : 29\n",
      "0 : 3 : 30\n",
      "0 : 3 : 31\n",
      "0 : 3 : 32\n",
      "0 : 3 : 33\n",
      "0 : 3 : 34\n",
      "0 : 3 : 35\n",
      "0 : 3 : 36\n",
      "0 : 3 : 37\n",
      "0 : 3 : 38\n",
      "0 : 3 : 39\n",
      "0 : 3 : 40\n",
      "0 : 3 : 41\n",
      "0 : 3 : 42\n",
      "0 : 3 : 43\n",
      "0 : 3 : 44\n",
      "0 : 3 : 45\n",
      "0 : 3 : 46\n",
      "0 : 3 : 47\n",
      "0 : 3 : 48\n",
      "0 : 3 : 49\n",
      "0 : 3 : 50\n",
      "0 : 3 : 51\n",
      "0 : 3 : 52\n",
      "0 : 3 : 53\n",
      "0 : 3 : 54\n",
      "0 : 3 : 55\n",
      "0 : 3 : 56\n",
      "0 : 3 : 57\n",
      "0 : 3 : 58\n",
      "0 : 3 : 59\n",
      "0 : 4 : 0\n",
      "0 : 4 : 1\n",
      "0 : 4 : 2\n",
      "0 : 4 : 3\n",
      "0 : 4 : 4\n",
      "0 : 4 : 5\n",
      "0 : 4 : 6\n",
      "0 : 4 : 7\n",
      "0 : 4 : 8\n",
      "0 : 4 : 9\n",
      "0 : 4 : 10\n",
      "0 : 4 : 11\n",
      "0 : 4 : 12\n",
      "0 : 4 : 13\n",
      "0 : 4 : 14\n",
      "0 : 4 : 15\n",
      "0 : 4 : 16\n",
      "0 : 4 : 17\n",
      "0 : 4 : 18\n",
      "0 : 4 : 19\n",
      "0 : 4 : 20\n",
      "0 : 4 : 21\n",
      "0 : 4 : 22\n",
      "0 : 4 : 23\n",
      "0 : 4 : 24\n",
      "0 : 4 : 25\n",
      "0 : 4 : 26\n",
      "0 : 4 : 27\n",
      "0 : 4 : 28\n",
      "0 : 4 : 29\n",
      "0 : 4 : 30\n",
      "0 : 4 : 31\n",
      "0 : 4 : 32\n",
      "0 : 4 : 33\n",
      "0 : 4 : 34\n",
      "0 : 4 : 35\n",
      "0 : 4 : 36\n",
      "0 : 4 : 37\n",
      "0 : 4 : 38\n",
      "0 : 4 : 39\n",
      "0 : 4 : 40\n",
      "0 : 4 : 41\n",
      "0 : 4 : 42\n",
      "0 : 4 : 43\n",
      "0 : 4 : 44\n",
      "0 : 4 : 45\n",
      "0 : 4 : 46\n",
      "0 : 4 : 47\n",
      "0 : 4 : 48\n",
      "0 : 4 : 49\n",
      "0 : 4 : 50\n",
      "0 : 4 : 51\n",
      "0 : 4 : 52\n",
      "0 : 4 : 53\n",
      "0 : 4 : 54\n",
      "0 : 4 : 55\n",
      "0 : 4 : 56\n",
      "0 : 4 : 57\n",
      "0 : 4 : 58\n",
      "0 : 4 : 59\n",
      "0 : 5 : 0\n",
      "0 : 5 : 1\n",
      "0 : 5 : 2\n",
      "0 : 5 : 3\n",
      "0 : 5 : 4\n",
      "0 : 5 : 5\n",
      "0 : 5 : 6\n",
      "0 : 5 : 7\n",
      "0 : 5 : 8\n",
      "0 : 5 : 9\n",
      "0 : 5 : 10\n",
      "0 : 5 : 11\n",
      "0 : 5 : 12\n",
      "0 : 5 : 13\n",
      "0 : 5 : 14\n",
      "0 : 5 : 15\n",
      "0 : 5 : 16\n",
      "0 : 5 : 17\n",
      "0 : 5 : 18\n",
      "0 : 5 : 19\n",
      "0 : 5 : 20\n",
      "0 : 5 : 21\n",
      "0 : 5 : 22\n",
      "0 : 5 : 23\n",
      "0 : 5 : 24\n",
      "0 : 5 : 25\n",
      "0 : 5 : 26\n",
      "0 : 5 : 27\n",
      "0 : 5 : 28\n",
      "0 : 5 : 29\n",
      "0 : 5 : 30\n",
      "0 : 5 : 31\n",
      "0 : 5 : 32\n",
      "0 : 5 : 33\n",
      "0 : 5 : 34\n",
      "0 : 5 : 35\n",
      "0 : 5 : 36\n",
      "0 : 5 : 37\n",
      "0 : 5 : 38\n",
      "0 : 5 : 39\n",
      "0 : 5 : 40\n",
      "0 : 5 : 41\n",
      "0 : 5 : 42\n",
      "0 : 5 : 43\n",
      "0 : 5 : 44\n",
      "0 : 5 : 45\n",
      "0 : 5 : 46\n",
      "0 : 5 : 47\n",
      "0 : 5 : 48\n",
      "0 : 5 : 49\n",
      "0 : 5 : 50\n",
      "0 : 5 : 51\n",
      "0 : 5 : 52\n",
      "0 : 5 : 53\n",
      "0 : 5 : 54\n",
      "0 : 5 : 55\n",
      "0 : 5 : 56\n",
      "0 : 5 : 57\n",
      "0 : 5 : 58\n",
      "0 : 5 : 59\n",
      "0 : 6 : 0\n",
      "0 : 6 : 1\n",
      "0 : 6 : 2\n",
      "0 : 6 : 3\n",
      "0 : 6 : 4\n",
      "0 : 6 : 5\n",
      "0 : 6 : 6\n",
      "0 : 6 : 7\n",
      "0 : 6 : 8\n",
      "0 : 6 : 9\n",
      "0 : 6 : 10\n",
      "0 : 6 : 11\n",
      "0 : 6 : 12\n",
      "0 : 6 : 13\n",
      "0 : 6 : 14\n",
      "0 : 6 : 15\n",
      "0 : 6 : 16\n",
      "0 : 6 : 17\n",
      "0 : 6 : 18\n",
      "0 : 6 : 19\n",
      "0 : 6 : 20\n",
      "0 : 6 : 21\n",
      "0 : 6 : 22\n",
      "0 : 6 : 23\n",
      "0 : 6 : 24\n",
      "0 : 6 : 25\n",
      "0 : 6 : 26\n",
      "0 : 6 : 27\n",
      "0 : 6 : 28\n",
      "0 : 6 : 29\n",
      "0 : 6 : 30\n",
      "0 : 6 : 31\n",
      "0 : 6 : 32\n",
      "0 : 6 : 33\n",
      "0 : 6 : 34\n",
      "0 : 6 : 35\n",
      "0 : 6 : 36\n",
      "0 : 6 : 37\n",
      "0 : 6 : 38\n",
      "0 : 6 : 39\n",
      "0 : 6 : 40\n",
      "0 : 6 : 41\n",
      "0 : 6 : 42\n",
      "0 : 6 : 43\n",
      "0 : 6 : 44\n",
      "0 : 6 : 45\n",
      "0 : 6 : 46\n",
      "0 : 6 : 47\n",
      "0 : 6 : 48\n",
      "0 : 6 : 49\n",
      "0 : 6 : 50\n",
      "0 : 6 : 51\n",
      "0 : 6 : 52\n",
      "0 : 6 : 53\n",
      "0 : 6 : 54\n",
      "0 : 6 : 55\n",
      "0 : 6 : 56\n",
      "0 : 6 : 57\n",
      "0 : 6 : 58\n",
      "0 : 6 : 59\n",
      "0 : 7 : 0\n",
      "0 : 7 : 1\n",
      "0 : 7 : 2\n",
      "0 : 7 : 3\n",
      "0 : 7 : 4\n",
      "0 : 7 : 5\n",
      "0 : 7 : 6\n",
      "0 : 7 : 7\n",
      "0 : 7 : 8\n",
      "0 : 7 : 9\n",
      "0 : 7 : 10\n",
      "0 : 7 : 11\n",
      "0 : 7 : 12\n",
      "0 : 7 : 13\n",
      "0 : 7 : 14\n",
      "0 : 7 : 15\n",
      "0 : 7 : 16\n",
      "0 : 7 : 17\n",
      "0 : 7 : 18\n",
      "0 : 7 : 19\n",
      "0 : 7 : 20\n",
      "0 : 7 : 21\n",
      "0 : 7 : 22\n",
      "0 : 7 : 23\n",
      "0 : 7 : 24\n",
      "0 : 7 : 25\n",
      "0 : 7 : 26\n",
      "0 : 7 : 27\n",
      "0 : 7 : 28\n",
      "0 : 7 : 29\n",
      "0 : 7 : 30\n",
      "0 : 7 : 31\n",
      "0 : 7 : 32\n",
      "0 : 7 : 33\n",
      "0 : 7 : 34\n",
      "0 : 7 : 35\n",
      "0 : 7 : 36\n",
      "0 : 7 : 37\n",
      "0 : 7 : 38\n",
      "0 : 7 : 39\n",
      "0 : 7 : 40\n",
      "0 : 7 : 41\n",
      "0 : 7 : 42\n",
      "0 : 7 : 43\n",
      "0 : 7 : 44\n",
      "0 : 7 : 45\n",
      "0 : 7 : 46\n",
      "0 : 7 : 47\n",
      "0 : 7 : 48\n",
      "0 : 7 : 49\n",
      "0 : 7 : 50\n",
      "0 : 7 : 51\n",
      "0 : 7 : 52\n",
      "0 : 7 : 53\n",
      "0 : 7 : 54\n",
      "0 : 7 : 55\n",
      "0 : 7 : 56\n",
      "0 : 7 : 57\n",
      "0 : 7 : 58\n",
      "0 : 7 : 59\n",
      "0 : 8 : 0\n",
      "0 : 8 : 1\n",
      "0 : 8 : 2\n",
      "0 : 8 : 3\n",
      "0 : 8 : 4\n",
      "0 : 8 : 5\n",
      "0 : 8 : 6\n",
      "0 : 8 : 7\n",
      "0 : 8 : 8\n",
      "0 : 8 : 9\n",
      "0 : 8 : 10\n",
      "0 : 8 : 11\n",
      "0 : 8 : 12\n",
      "0 : 8 : 13\n",
      "0 : 8 : 14\n",
      "0 : 8 : 15\n",
      "0 : 8 : 16\n",
      "0 : 8 : 17\n",
      "0 : 8 : 18\n",
      "0 : 8 : 19\n",
      "0 : 8 : 20\n",
      "0 : 8 : 21\n",
      "0 : 8 : 22\n",
      "0 : 8 : 23\n",
      "0 : 8 : 24\n",
      "0 : 8 : 25\n",
      "0 : 8 : 26\n",
      "0 : 8 : 27\n",
      "0 : 8 : 28\n",
      "0 : 8 : 29\n",
      "0 : 8 : 30\n",
      "0 : 8 : 31\n",
      "0 : 8 : 32\n",
      "0 : 8 : 33\n",
      "0 : 8 : 34\n",
      "0 : 8 : 35\n",
      "0 : 8 : 36\n",
      "0 : 8 : 37\n",
      "0 : 8 : 38\n",
      "0 : 8 : 39\n",
      "0 : 8 : 40\n",
      "0 : 8 : 41\n",
      "0 : 8 : 42\n",
      "0 : 8 : 43\n",
      "0 : 8 : 44\n",
      "0 : 8 : 45\n",
      "0 : 8 : 46\n",
      "0 : 8 : 47\n",
      "0 : 8 : 48\n",
      "0 : 8 : 49\n",
      "0 : 8 : 50\n",
      "0 : 8 : 51\n",
      "0 : 8 : 52\n",
      "0 : 8 : 53\n",
      "0 : 8 : 54\n",
      "0 : 8 : 55\n",
      "0 : 8 : 56\n",
      "0 : 8 : 57\n",
      "0 : 8 : 58\n",
      "0 : 8 : 59\n",
      "0 : 9 : 0\n",
      "0 : 9 : 1\n",
      "0 : 9 : 2\n",
      "0 : 9 : 3\n",
      "0 : 9 : 4\n",
      "0 : 9 : 5\n",
      "0 : 9 : 6\n",
      "0 : 9 : 7\n",
      "0 : 9 : 8\n",
      "0 : 9 : 9\n",
      "0 : 9 : 10\n",
      "0 : 9 : 11\n",
      "0 : 9 : 12\n",
      "0 : 9 : 13\n",
      "0 : 9 : 14\n",
      "0 : 9 : 15\n",
      "0 : 9 : 16\n",
      "0 : 9 : 17\n",
      "0 : 9 : 18\n",
      "0 : 9 : 19\n",
      "0 : 9 : 20\n",
      "0 : 9 : 21\n",
      "0 : 9 : 22\n",
      "0 : 9 : 23\n",
      "0 : 9 : 24\n",
      "0 : 9 : 25\n",
      "0 : 9 : 26\n",
      "0 : 9 : 27\n",
      "0 : 9 : 28\n",
      "0 : 9 : 29\n",
      "0 : 9 : 30\n",
      "0 : 9 : 31\n",
      "0 : 9 : 32\n",
      "0 : 9 : 33\n",
      "0 : 9 : 34\n",
      "0 : 9 : 35\n",
      "0 : 9 : 36\n",
      "0 : 9 : 37\n",
      "0 : 9 : 38\n",
      "0 : 9 : 39\n",
      "0 : 9 : 40\n",
      "0 : 9 : 41\n",
      "0 : 9 : 42\n",
      "0 : 9 : 43\n",
      "0 : 9 : 44\n",
      "0 : 9 : 45\n",
      "0 : 9 : 46\n",
      "0 : 9 : 47\n",
      "0 : 9 : 48\n",
      "0 : 9 : 49\n",
      "0 : 9 : 50\n",
      "0 : 9 : 51\n",
      "0 : 9 : 52\n",
      "0 : 9 : 53\n",
      "0 : 9 : 54\n",
      "0 : 9 : 55\n",
      "0 : 9 : 56\n",
      "0 : 9 : 57\n",
      "0 : 9 : 58\n",
      "0 : 9 : 59\n",
      "0 : 10 : 0\n",
      "0 : 10 : 1\n",
      "0 : 10 : 2\n",
      "0 : 10 : 3\n",
      "0 : 10 : 4\n",
      "0 : 10 : 5\n",
      "0 : 10 : 6\n",
      "0 : 10 : 7\n",
      "0 : 10 : 8\n",
      "0 : 10 : 9\n",
      "0 : 10 : 10\n",
      "0 : 10 : 11\n",
      "0 : 10 : 12\n",
      "0 : 10 : 13\n",
      "0 : 10 : 14\n",
      "0 : 10 : 15\n",
      "0 : 10 : 16\n",
      "0 : 10 : 17\n",
      "0 : 10 : 18\n",
      "0 : 10 : 19\n",
      "0 : 10 : 20\n",
      "0 : 10 : 21\n",
      "0 : 10 : 22\n",
      "0 : 10 : 23\n",
      "0 : 10 : 24\n",
      "0 : 10 : 25\n",
      "0 : 10 : 26\n",
      "0 : 10 : 27\n",
      "0 : 10 : 28\n",
      "0 : 10 : 29\n",
      "0 : 10 : 30\n",
      "0 : 10 : 31\n",
      "0 : 10 : 32\n",
      "0 : 10 : 33\n",
      "0 : 10 : 34\n",
      "0 : 10 : 35\n",
      "0 : 10 : 36\n",
      "0 : 10 : 37\n",
      "0 : 10 : 38\n",
      "0 : 10 : 39\n",
      "0 : 10 : 40\n",
      "0 : 10 : 41\n",
      "0 : 10 : 42\n",
      "0 : 10 : 43\n",
      "0 : 10 : 44\n",
      "0 : 10 : 45\n",
      "0 : 10 : 46\n",
      "0 : 10 : 47\n",
      "0 : 10 : 48\n",
      "0 : 10 : 49\n",
      "0 : 10 : 50\n",
      "0 : 10 : 51\n",
      "0 : 10 : 52\n",
      "0 : 10 : 53\n",
      "0 : 10 : 54\n",
      "0 : 10 : 55\n",
      "0 : 10 : 56\n",
      "0 : 10 : 57\n",
      "0 : 10 : 58\n",
      "0 : 10 : 59\n",
      "0 : 11 : 0\n",
      "0 : 11 : 1\n",
      "0 : 11 : 2\n",
      "0 : 11 : 3\n",
      "0 : 11 : 4\n",
      "0 : 11 : 5\n",
      "0 : 11 : 6\n",
      "0 : 11 : 7\n",
      "0 : 11 : 8\n",
      "0 : 11 : 9\n",
      "0 : 11 : 10\n",
      "0 : 11 : 11\n",
      "0 : 11 : 12\n",
      "0 : 11 : 13\n",
      "0 : 11 : 14\n",
      "0 : 11 : 15\n",
      "0 : 11 : 16\n",
      "0 : 11 : 17\n",
      "0 : 11 : 18\n",
      "0 : 11 : 19\n",
      "0 : 11 : 20\n",
      "0 : 11 : 21\n",
      "0 : 11 : 22\n",
      "0 : 11 : 23\n",
      "0 : 11 : 24\n",
      "0 : 11 : 25\n",
      "0 : 11 : 26\n",
      "0 : 11 : 27\n",
      "0 : 11 : 28\n",
      "0 : 11 : 29\n",
      "0 : 11 : 30\n",
      "0 : 11 : 31\n",
      "0 : 11 : 32\n",
      "0 : 11 : 33\n",
      "0 : 11 : 34\n",
      "0 : 11 : 35\n",
      "0 : 11 : 36\n",
      "0 : 11 : 37\n",
      "0 : 11 : 38\n",
      "0 : 11 : 39\n",
      "0 : 11 : 40\n",
      "0 : 11 : 41\n",
      "0 : 11 : 42\n",
      "0 : 11 : 43\n",
      "0 : 11 : 44\n",
      "0 : 11 : 45\n",
      "0 : 11 : 46\n",
      "0 : 11 : 47\n",
      "0 : 11 : 48\n",
      "0 : 11 : 49\n",
      "0 : 11 : 50\n",
      "0 : 11 : 51\n",
      "0 : 11 : 52\n",
      "0 : 11 : 53\n",
      "0 : 11 : 54\n",
      "0 : 11 : 55\n",
      "0 : 11 : 56\n",
      "0 : 11 : 57\n",
      "0 : 11 : 58\n",
      "0 : 11 : 59\n",
      "0 : 12 : 0\n",
      "0 : 12 : 1\n",
      "0 : 12 : 2\n",
      "0 : 12 : 3\n",
      "0 : 12 : 4\n",
      "0 : 12 : 5\n",
      "0 : 12 : 6\n",
      "0 : 12 : 7\n",
      "0 : 12 : 8\n",
      "0 : 12 : 9\n",
      "0 : 12 : 10\n",
      "0 : 12 : 11\n",
      "0 : 12 : 12\n",
      "0 : 12 : 13\n",
      "0 : 12 : 14\n",
      "0 : 12 : 15\n",
      "0 : 12 : 16\n",
      "0 : 12 : 17\n",
      "0 : 12 : 18\n",
      "0 : 12 : 19\n",
      "0 : 12 : 20\n",
      "0 : 12 : 21\n",
      "0 : 12 : 22\n",
      "0 : 12 : 23\n",
      "0 : 12 : 24\n",
      "0 : 12 : 25\n",
      "0 : 12 : 26\n",
      "0 : 12 : 27\n",
      "0 : 12 : 28\n",
      "0 : 12 : 29\n",
      "0 : 12 : 30\n",
      "0 : 12 : 31\n",
      "0 : 12 : 32\n",
      "0 : 12 : 33\n",
      "0 : 12 : 34\n",
      "0 : 12 : 35\n",
      "0 : 12 : 36\n",
      "0 : 12 : 37\n",
      "0 : 12 : 38\n",
      "0 : 12 : 39\n",
      "0 : 12 : 40\n",
      "0 : 12 : 41\n",
      "0 : 12 : 42\n",
      "0 : 12 : 43\n",
      "0 : 12 : 44\n",
      "0 : 12 : 45\n",
      "0 : 12 : 46\n",
      "0 : 12 : 47\n",
      "0 : 12 : 48\n",
      "0 : 12 : 49\n",
      "0 : 12 : 50\n",
      "0 : 12 : 51\n",
      "0 : 12 : 52\n",
      "0 : 12 : 53\n",
      "0 : 12 : 54\n",
      "0 : 12 : 55\n",
      "0 : 12 : 56\n",
      "0 : 12 : 57\n",
      "0 : 12 : 58\n",
      "0 : 12 : 59\n",
      "0 : 13 : 0\n",
      "0 : 13 : 1\n",
      "0 : 13 : 2\n",
      "0 : 13 : 3\n",
      "0 : 13 : 4\n",
      "0 : 13 : 5\n",
      "0 : 13 : 6\n",
      "0 : 13 : 7\n",
      "0 : 13 : 8\n",
      "0 : 13 : 9\n",
      "0 : 13 : 10\n",
      "0 : 13 : 11\n",
      "0 : 13 : 12\n",
      "0 : 13 : 13\n",
      "0 : 13 : 14\n",
      "0 : 13 : 15\n",
      "0 : 13 : 16\n",
      "0 : 13 : 17\n",
      "0 : 13 : 18\n",
      "0 : 13 : 19\n",
      "0 : 13 : 20\n",
      "0 : 13 : 21\n",
      "0 : 13 : 22\n",
      "0 : 13 : 23\n",
      "0 : 13 : 24\n",
      "0 : 13 : 25\n",
      "0 : 13 : 26\n",
      "0 : 13 : 27\n",
      "0 : 13 : 28\n",
      "0 : 13 : 29\n",
      "0 : 13 : 30\n",
      "0 : 13 : 31\n",
      "0 : 13 : 32\n",
      "0 : 13 : 33\n",
      "0 : 13 : 34\n",
      "0 : 13 : 35\n",
      "0 : 13 : 36\n",
      "0 : 13 : 37\n",
      "0 : 13 : 38\n",
      "0 : 13 : 39\n",
      "0 : 13 : 40\n",
      "0 : 13 : 41\n",
      "0 : 13 : 42\n",
      "0 : 13 : 43\n",
      "0 : 13 : 44\n",
      "0 : 13 : 45\n",
      "0 : 13 : 46\n",
      "0 : 13 : 47\n",
      "0 : 13 : 48\n",
      "0 : 13 : 49\n",
      "0 : 13 : 50\n",
      "0 : 13 : 51\n",
      "0 : 13 : 52\n",
      "0 : 13 : 53\n",
      "0 : 13 : 54\n",
      "0 : 13 : 55\n",
      "0 : 13 : 56\n",
      "0 : 13 : 57\n",
      "0 : 13 : 58\n",
      "0 : 13 : 59\n",
      "0 : 14 : 0\n",
      "0 : 14 : 1\n",
      "0 : 14 : 2\n",
      "0 : 14 : 3\n",
      "0 : 14 : 4\n",
      "0 : 14 : 5\n",
      "0 : 14 : 6\n",
      "0 : 14 : 7\n",
      "0 : 14 : 8\n",
      "0 : 14 : 9\n",
      "0 : 14 : 10\n",
      "0 : 14 : 11\n",
      "0 : 14 : 12\n",
      "0 : 14 : 13\n",
      "0 : 14 : 14\n",
      "0 : 14 : 15\n",
      "0 : 14 : 16\n",
      "0 : 14 : 17\n",
      "0 : 14 : 18\n",
      "0 : 14 : 19\n",
      "0 : 14 : 20\n",
      "0 : 14 : 21\n",
      "0 : 14 : 22\n",
      "0 : 14 : 23\n",
      "0 : 14 : 24\n",
      "0 : 14 : 25\n",
      "0 : 14 : 26\n",
      "0 : 14 : 27\n",
      "0 : 14 : 28\n",
      "0 : 14 : 29\n",
      "0 : 14 : 30\n",
      "0 : 14 : 31\n",
      "0 : 14 : 32\n",
      "0 : 14 : 33\n",
      "0 : 14 : 34\n",
      "0 : 14 : 35\n",
      "0 : 14 : 36\n",
      "0 : 14 : 37\n",
      "0 : 14 : 38\n",
      "0 : 14 : 39\n",
      "0 : 14 : 40\n",
      "0 : 14 : 41\n",
      "0 : 14 : 42\n",
      "0 : 14 : 43\n",
      "0 : 14 : 44\n",
      "0 : 14 : 45\n",
      "0 : 14 : 46\n",
      "0 : 14 : 47\n",
      "0 : 14 : 48\n",
      "0 : 14 : 49\n",
      "0 : 14 : 50\n",
      "0 : 14 : 51\n",
      "0 : 14 : 52\n",
      "0 : 14 : 53\n",
      "0 : 14 : 54\n",
      "0 : 14 : 55\n",
      "0 : 14 : 56\n",
      "0 : 14 : 57\n",
      "0 : 14 : 58\n",
      "0 : 14 : 59\n",
      "0 : 15 : 0\n",
      "0 : 15 : 1\n",
      "0 : 15 : 2\n",
      "0 : 15 : 3\n",
      "0 : 15 : 4\n",
      "0 : 15 : 5\n",
      "0 : 15 : 6\n",
      "0 : 15 : 7\n",
      "0 : 15 : 8\n",
      "0 : 15 : 9\n",
      "0 : 15 : 10\n",
      "0 : 15 : 11\n",
      "0 : 15 : 12\n",
      "0 : 15 : 13\n",
      "0 : 15 : 14\n",
      "0 : 15 : 15\n",
      "0 : 15 : 16\n",
      "0 : 15 : 17\n",
      "0 : 15 : 18\n",
      "0 : 15 : 19\n",
      "0 : 15 : 20\n",
      "0 : 15 : 21\n",
      "0 : 15 : 22\n",
      "0 : 15 : 23\n",
      "0 : 15 : 24\n",
      "0 : 15 : 25\n",
      "0 : 15 : 26\n",
      "0 : 15 : 27\n",
      "0 : 15 : 28\n",
      "0 : 15 : 29\n",
      "0 : 15 : 30\n",
      "0 : 15 : 31\n",
      "0 : 15 : 32\n",
      "0 : 15 : 33\n",
      "0 : 15 : 34\n",
      "0 : 15 : 35\n",
      "0 : 15 : 36\n",
      "0 : 15 : 37\n",
      "0 : 15 : 38\n",
      "0 : 15 : 39\n",
      "0 : 15 : 40\n",
      "0 : 15 : 41\n",
      "0 : 15 : 42\n",
      "0 : 15 : 43\n",
      "0 : 15 : 44\n",
      "0 : 15 : 45\n",
      "0 : 15 : 46\n",
      "0 : 15 : 47\n",
      "0 : 15 : 48\n",
      "0 : 15 : 49\n",
      "0 : 15 : 50\n",
      "0 : 15 : 51\n",
      "0 : 15 : 52\n",
      "0 : 15 : 53\n",
      "0 : 15 : 54\n",
      "0 : 15 : 55\n",
      "0 : 15 : 56\n",
      "0 : 15 : 57\n",
      "0 : 15 : 58\n",
      "0 : 15 : 59\n",
      "0 : 16 : 0\n",
      "0 : 16 : 1\n",
      "0 : 16 : 2\n",
      "0 : 16 : 3\n",
      "0 : 16 : 4\n",
      "0 : 16 : 5\n",
      "0 : 16 : 6\n",
      "0 : 16 : 7\n",
      "0 : 16 : 8\n",
      "0 : 16 : 9\n",
      "0 : 16 : 10\n",
      "0 : 16 : 11\n",
      "0 : 16 : 12\n",
      "0 : 16 : 13\n",
      "0 : 16 : 14\n",
      "0 : 16 : 15\n",
      "0 : 16 : 16\n",
      "0 : 16 : 17\n",
      "0 : 16 : 18\n",
      "0 : 16 : 19\n",
      "0 : 16 : 20\n",
      "0 : 16 : 21\n",
      "0 : 16 : 22\n",
      "0 : 16 : 23\n",
      "0 : 16 : 24\n",
      "0 : 16 : 25\n",
      "0 : 16 : 26\n",
      "0 : 16 : 27\n",
      "0 : 16 : 28\n",
      "0 : 16 : 29\n",
      "0 : 16 : 30\n",
      "0 : 16 : 31\n",
      "0 : 16 : 32\n",
      "0 : 16 : 33\n",
      "0 : 16 : 34\n",
      "0 : 16 : 35\n",
      "0 : 16 : 36\n",
      "0 : 16 : 37\n",
      "0 : 16 : 38\n",
      "0 : 16 : 39\n",
      "0 : 16 : 40\n",
      "0 : 16 : 41\n",
      "0 : 16 : 42\n",
      "0 : 16 : 43\n",
      "0 : 16 : 44\n",
      "0 : 16 : 45\n",
      "0 : 16 : 46\n",
      "0 : 16 : 47\n",
      "0 : 16 : 48\n",
      "0 : 16 : 49\n",
      "0 : 16 : 50\n",
      "0 : 16 : 51\n",
      "0 : 16 : 52\n",
      "0 : 16 : 53\n",
      "0 : 16 : 54\n",
      "0 : 16 : 55\n",
      "0 : 16 : 56\n",
      "0 : 16 : 57\n",
      "0 : 16 : 58\n",
      "0 : 16 : 59\n",
      "0 : 17 : 0\n",
      "0 : 17 : 1\n",
      "0 : 17 : 2\n",
      "0 : 17 : 3\n",
      "0 : 17 : 4\n",
      "0 : 17 : 5\n",
      "0 : 17 : 6\n",
      "0 : 17 : 7\n",
      "0 : 17 : 8\n",
      "0 : 17 : 9\n",
      "0 : 17 : 10\n",
      "0 : 17 : 11\n",
      "0 : 17 : 12\n",
      "0 : 17 : 13\n",
      "0 : 17 : 14\n",
      "0 : 17 : 15\n",
      "0 : 17 : 16\n",
      "0 : 17 : 17\n",
      "0 : 17 : 18\n",
      "0 : 17 : 19\n",
      "0 : 17 : 20\n",
      "0 : 17 : 21\n",
      "0 : 17 : 22\n",
      "0 : 17 : 23\n",
      "0 : 17 : 24\n",
      "0 : 17 : 25\n",
      "0 : 17 : 26\n",
      "0 : 17 : 27\n",
      "0 : 17 : 28\n",
      "0 : 17 : 29\n",
      "0 : 17 : 30\n",
      "0 : 17 : 31\n",
      "0 : 17 : 32\n",
      "0 : 17 : 33\n",
      "0 : 17 : 34\n",
      "0 : 17 : 35\n",
      "0 : 17 : 36\n",
      "0 : 17 : 37\n",
      "0 : 17 : 38\n",
      "0 : 17 : 39\n",
      "0 : 17 : 40\n",
      "0 : 17 : 41\n",
      "0 : 17 : 42\n",
      "0 : 17 : 43\n",
      "0 : 17 : 44\n",
      "0 : 17 : 45\n",
      "0 : 17 : 46\n",
      "0 : 17 : 47\n",
      "0 : 17 : 48\n",
      "0 : 17 : 49\n",
      "0 : 17 : 50\n",
      "0 : 17 : 51\n",
      "0 : 17 : 52\n",
      "0 : 17 : 53\n",
      "0 : 17 : 54\n",
      "0 : 17 : 55\n",
      "0 : 17 : 56\n",
      "0 : 17 : 57\n",
      "0 : 17 : 58\n",
      "0 : 17 : 59\n",
      "0 : 18 : 0\n",
      "0 : 18 : 1\n",
      "0 : 18 : 2\n",
      "0 : 18 : 3\n",
      "0 : 18 : 4\n",
      "0 : 18 : 5\n",
      "0 : 18 : 6\n",
      "0 : 18 : 7\n",
      "0 : 18 : 8\n",
      "0 : 18 : 9\n",
      "0 : 18 : 10\n",
      "0 : 18 : 11\n",
      "0 : 18 : 12\n",
      "0 : 18 : 13\n",
      "0 : 18 : 14\n",
      "0 : 18 : 15\n",
      "0 : 18 : 16\n",
      "0 : 18 : 17\n",
      "0 : 18 : 18\n",
      "0 : 18 : 19\n",
      "0 : 18 : 20\n",
      "0 : 18 : 21\n",
      "0 : 18 : 22\n",
      "0 : 18 : 23\n",
      "0 : 18 : 24\n",
      "0 : 18 : 25\n",
      "0 : 18 : 26\n",
      "0 : 18 : 27\n",
      "0 : 18 : 28\n",
      "0 : 18 : 29\n",
      "0 : 18 : 30\n",
      "0 : 18 : 31\n",
      "0 : 18 : 32\n",
      "0 : 18 : 33\n",
      "0 : 18 : 34\n",
      "0 : 18 : 35\n",
      "0 : 18 : 36\n",
      "0 : 18 : 37\n",
      "0 : 18 : 38\n",
      "0 : 18 : 39\n",
      "0 : 18 : 40\n",
      "0 : 18 : 41\n",
      "0 : 18 : 42\n",
      "0 : 18 : 43\n",
      "0 : 18 : 44\n",
      "0 : 18 : 45\n",
      "0 : 18 : 46\n",
      "0 : 18 : 47\n",
      "0 : 18 : 48\n",
      "0 : 18 : 49\n",
      "0 : 18 : 50\n",
      "0 : 18 : 51\n",
      "0 : 18 : 52\n",
      "0 : 18 : 53\n",
      "0 : 18 : 54\n",
      "0 : 18 : 55\n",
      "0 : 18 : 56\n",
      "0 : 18 : 57\n",
      "0 : 18 : 58\n",
      "0 : 18 : 59\n",
      "0 : 19 : 0\n",
      "0 : 19 : 1\n",
      "0 : 19 : 2\n",
      "0 : 19 : 3\n",
      "0 : 19 : 4\n",
      "0 : 19 : 5\n",
      "0 : 19 : 6\n",
      "0 : 19 : 7\n",
      "0 : 19 : 8\n",
      "0 : 19 : 9\n",
      "0 : 19 : 10\n",
      "0 : 19 : 11\n",
      "0 : 19 : 12\n",
      "0 : 19 : 13\n",
      "0 : 19 : 14\n",
      "0 : 19 : 15\n",
      "0 : 19 : 16\n",
      "0 : 19 : 17\n",
      "0 : 19 : 18\n",
      "0 : 19 : 19\n",
      "0 : 19 : 20\n",
      "0 : 19 : 21\n",
      "0 : 19 : 22\n",
      "0 : 19 : 23\n",
      "0 : 19 : 24\n",
      "0 : 19 : 25\n",
      "0 : 19 : 26\n",
      "0 : 19 : 27\n",
      "0 : 19 : 28\n",
      "0 : 19 : 29\n",
      "0 : 19 : 30\n",
      "0 : 19 : 31\n",
      "0 : 19 : 32\n",
      "0 : 19 : 33\n",
      "0 : 19 : 34\n",
      "0 : 19 : 35\n",
      "0 : 19 : 36\n",
      "0 : 19 : 37\n",
      "0 : 19 : 38\n",
      "0 : 19 : 39\n",
      "0 : 19 : 40\n",
      "0 : 19 : 41\n",
      "0 : 19 : 42\n",
      "0 : 19 : 43\n",
      "0 : 19 : 44\n",
      "0 : 19 : 45\n",
      "0 : 19 : 46\n",
      "0 : 19 : 47\n",
      "0 : 19 : 48\n",
      "0 : 19 : 49\n",
      "0 : 19 : 50\n",
      "0 : 19 : 51\n",
      "0 : 19 : 52\n",
      "0 : 19 : 53\n",
      "0 : 19 : 54\n",
      "0 : 19 : 55\n",
      "0 : 19 : 56\n",
      "0 : 19 : 57\n",
      "0 : 19 : 58\n",
      "0 : 19 : 59\n",
      "0 : 20 : 0\n",
      "0 : 20 : 1\n",
      "0 : 20 : 2\n",
      "0 : 20 : 3\n",
      "0 : 20 : 4\n",
      "0 : 20 : 5\n",
      "0 : 20 : 6\n",
      "0 : 20 : 7\n",
      "0 : 20 : 8\n",
      "0 : 20 : 9\n",
      "0 : 20 : 10\n",
      "0 : 20 : 11\n",
      "0 : 20 : 12\n",
      "0 : 20 : 13\n",
      "0 : 20 : 14\n",
      "0 : 20 : 15\n",
      "0 : 20 : 16\n",
      "0 : 20 : 17\n",
      "0 : 20 : 18\n",
      "0 : 20 : 19\n",
      "0 : 20 : 20\n",
      "0 : 20 : 21\n",
      "0 : 20 : 22\n",
      "0 : 20 : 23\n",
      "0 : 20 : 24\n",
      "0 : 20 : 25\n",
      "0 : 20 : 26\n",
      "0 : 20 : 27\n",
      "0 : 20 : 28\n",
      "0 : 20 : 29\n",
      "0 : 20 : 30\n",
      "0 : 20 : 31\n",
      "0 : 20 : 32\n",
      "0 : 20 : 33\n",
      "0 : 20 : 34\n",
      "0 : 20 : 35\n",
      "0 : 20 : 36\n",
      "0 : 20 : 37\n",
      "0 : 20 : 38\n",
      "0 : 20 : 39\n",
      "0 : 20 : 40\n",
      "0 : 20 : 41\n",
      "0 : 20 : 42\n",
      "0 : 20 : 43\n",
      "0 : 20 : 44\n",
      "0 : 20 : 45\n",
      "0 : 20 : 46\n",
      "0 : 20 : 47\n",
      "0 : 20 : 48\n",
      "0 : 20 : 49\n",
      "0 : 20 : 50\n",
      "0 : 20 : 51\n",
      "0 : 20 : 52\n",
      "0 : 20 : 53\n",
      "0 : 20 : 54\n",
      "0 : 20 : 55\n",
      "0 : 20 : 56\n",
      "0 : 20 : 57\n",
      "0 : 20 : 58\n",
      "0 : 20 : 59\n",
      "0 : 21 : 0\n",
      "0 : 21 : 1\n",
      "0 : 21 : 2\n",
      "0 : 21 : 3\n",
      "0 : 21 : 4\n",
      "0 : 21 : 5\n",
      "0 : 21 : 6\n",
      "0 : 21 : 7\n",
      "0 : 21 : 8\n",
      "0 : 21 : 9\n",
      "0 : 21 : 10\n",
      "0 : 21 : 11\n",
      "0 : 21 : 12\n",
      "0 : 21 : 13\n",
      "0 : 21 : 14\n",
      "0 : 21 : 15\n",
      "0 : 21 : 16\n",
      "0 : 21 : 17\n",
      "0 : 21 : 18\n",
      "0 : 21 : 19\n",
      "0 : 21 : 20\n",
      "0 : 21 : 21\n",
      "0 : 21 : 22\n",
      "0 : 21 : 23\n",
      "0 : 21 : 24\n",
      "0 : 21 : 25\n",
      "0 : 21 : 26\n",
      "0 : 21 : 27\n",
      "0 : 21 : 28\n",
      "0 : 21 : 29\n",
      "0 : 21 : 30\n",
      "0 : 21 : 31\n",
      "0 : 21 : 32\n",
      "0 : 21 : 33\n",
      "0 : 21 : 34\n",
      "0 : 21 : 35\n",
      "0 : 21 : 36\n",
      "0 : 21 : 37\n",
      "0 : 21 : 38\n",
      "0 : 21 : 39\n",
      "0 : 21 : 40\n",
      "0 : 21 : 41\n",
      "0 : 21 : 42\n",
      "0 : 21 : 43\n",
      "0 : 21 : 44\n",
      "0 : 21 : 45\n",
      "0 : 21 : 46\n",
      "0 : 21 : 47\n",
      "0 : 21 : 48\n",
      "0 : 21 : 49\n",
      "0 : 21 : 50\n",
      "0 : 21 : 51\n",
      "0 : 21 : 52\n",
      "0 : 21 : 53\n",
      "0 : 21 : 54\n",
      "0 : 21 : 55\n",
      "0 : 21 : 56\n",
      "0 : 21 : 57\n",
      "0 : 21 : 58\n",
      "0 : 21 : 59\n",
      "0 : 22 : 0\n",
      "0 : 22 : 1\n",
      "0 : 22 : 2\n",
      "0 : 22 : 3\n",
      "0 : 22 : 4\n",
      "0 : 22 : 5\n",
      "0 : 22 : 6\n",
      "0 : 22 : 7\n",
      "0 : 22 : 8\n",
      "0 : 22 : 9\n",
      "0 : 22 : 10\n",
      "0 : 22 : 11\n",
      "0 : 22 : 12\n",
      "0 : 22 : 13\n",
      "0 : 22 : 14\n",
      "0 : 22 : 15\n",
      "0 : 22 : 16\n",
      "0 : 22 : 17\n",
      "0 : 22 : 18\n",
      "0 : 22 : 19\n",
      "0 : 22 : 20\n",
      "0 : 22 : 21\n",
      "0 : 22 : 22\n",
      "0 : 22 : 23\n",
      "0 : 22 : 24\n",
      "0 : 22 : 25\n",
      "0 : 22 : 26\n",
      "0 : 22 : 27\n",
      "0 : 22 : 28\n",
      "0 : 22 : 29\n",
      "0 : 22 : 30\n",
      "0 : 22 : 31\n",
      "0 : 22 : 32\n",
      "0 : 22 : 33\n",
      "0 : 22 : 34\n",
      "0 : 22 : 35\n",
      "0 : 22 : 36\n",
      "0 : 22 : 37\n",
      "0 : 22 : 38\n",
      "0 : 22 : 39\n",
      "0 : 22 : 40\n",
      "0 : 22 : 41\n",
      "0 : 22 : 42\n",
      "0 : 22 : 43\n",
      "0 : 22 : 44\n",
      "0 : 22 : 45\n",
      "0 : 22 : 46\n",
      "0 : 22 : 47\n",
      "0 : 22 : 48\n",
      "0 : 22 : 49\n",
      "0 : 22 : 50\n",
      "0 : 22 : 51\n",
      "0 : 22 : 52\n",
      "0 : 22 : 53\n",
      "0 : 22 : 54\n",
      "0 : 22 : 55\n",
      "0 : 22 : 56\n",
      "0 : 22 : 57\n",
      "0 : 22 : 58\n",
      "0 : 22 : 59\n",
      "0 : 23 : 0\n",
      "0 : 23 : 1\n",
      "0 : 23 : 2\n",
      "0 : 23 : 3\n",
      "0 : 23 : 4\n",
      "0 : 23 : 5\n",
      "0 : 23 : 6\n",
      "0 : 23 : 7\n",
      "0 : 23 : 8\n",
      "0 : 23 : 9\n",
      "0 : 23 : 10\n",
      "0 : 23 : 11\n",
      "0 : 23 : 12\n",
      "0 : 23 : 13\n",
      "0 : 23 : 14\n",
      "0 : 23 : 15\n",
      "0 : 23 : 16\n",
      "0 : 23 : 17\n",
      "0 : 23 : 18\n",
      "0 : 23 : 19\n",
      "0 : 23 : 20\n",
      "0 : 23 : 21\n",
      "0 : 23 : 22\n",
      "0 : 23 : 23\n",
      "0 : 23 : 24\n",
      "0 : 23 : 25\n",
      "0 : 23 : 26\n",
      "0 : 23 : 27\n",
      "0 : 23 : 28\n",
      "0 : 23 : 29\n",
      "0 : 23 : 30\n",
      "0 : 23 : 31\n",
      "0 : 23 : 32\n",
      "0 : 23 : 33\n",
      "0 : 23 : 34\n",
      "0 : 23 : 35\n",
      "0 : 23 : 36\n",
      "0 : 23 : 37\n",
      "0 : 23 : 38\n",
      "0 : 23 : 39\n",
      "0 : 23 : 40\n",
      "0 : 23 : 41\n",
      "0 : 23 : 42\n",
      "0 : 23 : 43\n",
      "0 : 23 : 44\n",
      "0 : 23 : 45\n",
      "0 : 23 : 46\n",
      "0 : 23 : 47\n",
      "0 : 23 : 48\n",
      "0 : 23 : 49\n",
      "0 : 23 : 50\n",
      "0 : 23 : 51\n",
      "0 : 23 : 52\n",
      "0 : 23 : 53\n",
      "0 : 23 : 54\n",
      "0 : 23 : 55\n",
      "0 : 23 : 56\n",
      "0 : 23 : 57\n",
      "0 : 23 : 58\n",
      "0 : 23 : 59\n",
      "0 : 24 : 0\n",
      "0 : 24 : 1\n",
      "0 : 24 : 2\n",
      "0 : 24 : 3\n",
      "0 : 24 : 4\n",
      "0 : 24 : 5\n",
      "0 : 24 : 6\n",
      "0 : 24 : 7\n",
      "0 : 24 : 8\n",
      "0 : 24 : 9\n",
      "0 : 24 : 10\n",
      "0 : 24 : 11\n",
      "0 : 24 : 12\n",
      "0 : 24 : 13\n",
      "0 : 24 : 14\n",
      "0 : 24 : 15\n",
      "0 : 24 : 16\n",
      "0 : 24 : 17\n",
      "0 : 24 : 18\n",
      "0 : 24 : 19\n",
      "0 : 24 : 20\n",
      "0 : 24 : 21\n",
      "0 : 24 : 22\n",
      "0 : 24 : 23\n",
      "0 : 24 : 24\n",
      "0 : 24 : 25\n",
      "0 : 24 : 26\n",
      "0 : 24 : 27\n",
      "0 : 24 : 28\n",
      "0 : 24 : 29\n",
      "0 : 24 : 30\n",
      "0 : 24 : 31\n",
      "0 : 24 : 32\n",
      "0 : 24 : 33\n",
      "0 : 24 : 34\n",
      "0 : 24 : 35\n",
      "0 : 24 : 36\n",
      "0 : 24 : 37\n",
      "0 : 24 : 38\n",
      "0 : 24 : 39\n",
      "0 : 24 : 40\n",
      "0 : 24 : 41\n",
      "0 : 24 : 42\n",
      "0 : 24 : 43\n",
      "0 : 24 : 44\n",
      "0 : 24 : 45\n",
      "0 : 24 : 46\n",
      "0 : 24 : 47\n",
      "0 : 24 : 48\n",
      "0 : 24 : 49\n",
      "0 : 24 : 50\n",
      "0 : 24 : 51\n",
      "0 : 24 : 52\n",
      "0 : 24 : 53\n",
      "0 : 24 : 54\n",
      "0 : 24 : 55\n",
      "0 : 24 : 56\n",
      "0 : 24 : 57\n",
      "0 : 24 : 58\n",
      "0 : 24 : 59\n",
      "0 : 25 : 0\n",
      "0 : 25 : 1\n",
      "0 : 25 : 2\n",
      "0 : 25 : 3\n",
      "0 : 25 : 4\n",
      "0 : 25 : 5\n",
      "0 : 25 : 6\n",
      "0 : 25 : 7\n",
      "0 : 25 : 8\n",
      "0 : 25 : 9\n",
      "0 : 25 : 10\n",
      "0 : 25 : 11\n",
      "0 : 25 : 12\n",
      "0 : 25 : 13\n",
      "0 : 25 : 14\n",
      "0 : 25 : 15\n",
      "0 : 25 : 16\n",
      "0 : 25 : 17\n",
      "0 : 25 : 18\n",
      "0 : 25 : 19\n",
      "0 : 25 : 20\n",
      "0 : 25 : 21\n",
      "0 : 25 : 22\n",
      "0 : 25 : 23\n",
      "0 : 25 : 24\n",
      "0 : 25 : 25\n",
      "0 : 25 : 26\n",
      "0 : 25 : 27\n",
      "0 : 25 : 28\n",
      "0 : 25 : 29\n",
      "0 : 25 : 30\n",
      "0 : 25 : 31\n",
      "0 : 25 : 32\n",
      "0 : 25 : 33\n",
      "0 : 25 : 34\n",
      "0 : 25 : 35\n",
      "0 : 25 : 36\n",
      "0 : 25 : 37\n",
      "0 : 25 : 38\n",
      "0 : 25 : 39\n",
      "0 : 25 : 40\n",
      "0 : 25 : 41\n",
      "0 : 25 : 42\n",
      "0 : 25 : 43\n",
      "0 : 25 : 44\n",
      "0 : 25 : 45\n",
      "0 : 25 : 46\n",
      "0 : 25 : 47\n",
      "0 : 25 : 48\n",
      "0 : 25 : 49\n",
      "0 : 25 : 50\n",
      "0 : 25 : 51\n",
      "0 : 25 : 52\n",
      "0 : 25 : 53\n",
      "0 : 25 : 54\n",
      "0 : 25 : 55\n",
      "0 : 25 : 56\n",
      "0 : 25 : 57\n",
      "0 : 25 : 58\n",
      "0 : 25 : 59\n",
      "0 : 26 : 0\n",
      "0 : 26 : 1\n",
      "0 : 26 : 2\n",
      "0 : 26 : 3\n",
      "0 : 26 : 4\n",
      "0 : 26 : 5\n",
      "0 : 26 : 6\n",
      "0 : 26 : 7\n",
      "0 : 26 : 8\n",
      "0 : 26 : 9\n",
      "0 : 26 : 10\n",
      "0 : 26 : 11\n",
      "0 : 26 : 12\n",
      "0 : 26 : 13\n",
      "0 : 26 : 14\n",
      "0 : 26 : 15\n",
      "0 : 26 : 16\n",
      "0 : 26 : 17\n",
      "0 : 26 : 18\n",
      "0 : 26 : 19\n",
      "0 : 26 : 20\n",
      "0 : 26 : 21\n",
      "0 : 26 : 22\n",
      "0 : 26 : 23\n",
      "0 : 26 : 24\n",
      "0 : 26 : 25\n",
      "0 : 26 : 26\n",
      "0 : 26 : 27\n",
      "0 : 26 : 28\n",
      "0 : 26 : 29\n",
      "0 : 26 : 30\n",
      "0 : 26 : 31\n",
      "0 : 26 : 32\n",
      "0 : 26 : 33\n",
      "0 : 26 : 34\n",
      "0 : 26 : 35\n",
      "0 : 26 : 36\n",
      "0 : 26 : 37\n",
      "0 : 26 : 38\n",
      "0 : 26 : 39\n",
      "0 : 26 : 40\n",
      "0 : 26 : 41\n",
      "0 : 26 : 42\n",
      "0 : 26 : 43\n",
      "0 : 26 : 44\n",
      "0 : 26 : 45\n",
      "0 : 26 : 46\n",
      "0 : 26 : 47\n",
      "0 : 26 : 48\n",
      "0 : 26 : 49\n",
      "0 : 26 : 50\n",
      "0 : 26 : 51\n",
      "0 : 26 : 52\n",
      "0 : 26 : 53\n",
      "0 : 26 : 54\n",
      "0 : 26 : 55\n",
      "0 : 26 : 56\n",
      "0 : 26 : 57\n",
      "0 : 26 : 58\n",
      "0 : 26 : 59\n",
      "0 : 27 : 0\n",
      "0 : 27 : 1\n",
      "0 : 27 : 2\n",
      "0 : 27 : 3\n",
      "0 : 27 : 4\n",
      "0 : 27 : 5\n",
      "0 : 27 : 6\n",
      "0 : 27 : 7\n",
      "0 : 27 : 8\n",
      "0 : 27 : 9\n",
      "0 : 27 : 10\n",
      "0 : 27 : 11\n",
      "0 : 27 : 12\n",
      "0 : 27 : 13\n",
      "0 : 27 : 14\n",
      "0 : 27 : 15\n",
      "0 : 27 : 16\n",
      "0 : 27 : 17\n",
      "0 : 27 : 18\n",
      "0 : 27 : 19\n",
      "0 : 27 : 20\n",
      "0 : 27 : 21\n",
      "0 : 27 : 22\n",
      "0 : 27 : 23\n",
      "0 : 27 : 24\n",
      "0 : 27 : 25\n",
      "0 : 27 : 26\n",
      "0 : 27 : 27\n",
      "0 : 27 : 28\n",
      "0 : 27 : 29\n",
      "0 : 27 : 30\n",
      "0 : 27 : 31\n",
      "0 : 27 : 32\n",
      "0 : 27 : 33\n",
      "0 : 27 : 34\n",
      "0 : 27 : 35\n",
      "0 : 27 : 36\n",
      "0 : 27 : 37\n",
      "0 : 27 : 38\n",
      "0 : 27 : 39\n",
      "0 : 27 : 40\n",
      "0 : 27 : 41\n",
      "0 : 27 : 42\n",
      "0 : 27 : 43\n",
      "0 : 27 : 44\n",
      "0 : 27 : 45\n",
      "0 : 27 : 46\n",
      "0 : 27 : 47\n",
      "0 : 27 : 48\n",
      "0 : 27 : 49\n",
      "0 : 27 : 50\n",
      "0 : 27 : 51\n",
      "0 : 27 : 52\n",
      "0 : 27 : 53\n",
      "0 : 27 : 54\n",
      "0 : 27 : 55\n",
      "0 : 27 : 56\n",
      "0 : 27 : 57\n",
      "0 : 27 : 58\n",
      "0 : 27 : 59\n",
      "0 : 28 : 0\n",
      "0 : 28 : 1\n",
      "0 : 28 : 2\n",
      "0 : 28 : 3\n",
      "0 : 28 : 4\n",
      "0 : 28 : 5\n",
      "0 : 28 : 6\n",
      "0 : 28 : 7\n",
      "0 : 28 : 8\n",
      "0 : 28 : 9\n",
      "0 : 28 : 10\n",
      "0 : 28 : 11\n",
      "0 : 28 : 12\n",
      "0 : 28 : 13\n",
      "0 : 28 : 14\n",
      "0 : 28 : 15\n",
      "0 : 28 : 16\n",
      "0 : 28 : 17\n",
      "0 : 28 : 18\n",
      "0 : 28 : 19\n",
      "0 : 28 : 20\n",
      "0 : 28 : 21\n",
      "0 : 28 : 22\n",
      "0 : 28 : 23\n",
      "0 : 28 : 24\n",
      "0 : 28 : 25\n",
      "0 : 28 : 26\n",
      "0 : 28 : 27\n",
      "0 : 28 : 28\n",
      "0 : 28 : 29\n",
      "0 : 28 : 30\n",
      "0 : 28 : 31\n",
      "0 : 28 : 32\n",
      "0 : 28 : 33\n",
      "0 : 28 : 34\n",
      "0 : 28 : 35\n",
      "0 : 28 : 36\n",
      "0 : 28 : 37\n",
      "0 : 28 : 38\n",
      "0 : 28 : 39\n",
      "0 : 28 : 40\n",
      "0 : 28 : 41\n",
      "0 : 28 : 42\n",
      "0 : 28 : 43\n",
      "0 : 28 : 44\n",
      "0 : 28 : 45\n",
      "0 : 28 : 46\n",
      "0 : 28 : 47\n",
      "0 : 28 : 48\n",
      "0 : 28 : 49\n",
      "0 : 28 : 50\n",
      "0 : 28 : 51\n",
      "0 : 28 : 52\n",
      "0 : 28 : 53\n",
      "0 : 28 : 54\n",
      "0 : 28 : 55\n",
      "0 : 28 : 56\n",
      "0 : 28 : 57\n",
      "0 : 28 : 58\n",
      "0 : 28 : 59\n",
      "0 : 29 : 0\n",
      "0 : 29 : 1\n",
      "0 : 29 : 2\n",
      "0 : 29 : 3\n",
      "0 : 29 : 4\n",
      "0 : 29 : 5\n",
      "0 : 29 : 6\n",
      "0 : 29 : 7\n",
      "0 : 29 : 8\n",
      "0 : 29 : 9\n",
      "0 : 29 : 10\n",
      "0 : 29 : 11\n",
      "0 : 29 : 12\n",
      "0 : 29 : 13\n",
      "0 : 29 : 14\n",
      "0 : 29 : 15\n",
      "0 : 29 : 16\n",
      "0 : 29 : 17\n",
      "0 : 29 : 18\n",
      "0 : 29 : 19\n",
      "0 : 29 : 20\n",
      "0 : 29 : 21\n",
      "0 : 29 : 22\n",
      "0 : 29 : 23\n",
      "0 : 29 : 24\n",
      "0 : 29 : 25\n",
      "0 : 29 : 26\n",
      "0 : 29 : 27\n",
      "0 : 29 : 28\n",
      "0 : 29 : 29\n",
      "0 : 29 : 30\n",
      "0 : 29 : 31\n",
      "0 : 29 : 32\n",
      "0 : 29 : 33\n",
      "0 : 29 : 34\n",
      "0 : 29 : 35\n",
      "0 : 29 : 36\n",
      "0 : 29 : 37\n",
      "0 : 29 : 38\n",
      "0 : 29 : 39\n",
      "0 : 29 : 40\n",
      "0 : 29 : 41\n",
      "0 : 29 : 42\n",
      "0 : 29 : 43\n",
      "0 : 29 : 44\n",
      "0 : 29 : 45\n",
      "0 : 29 : 46\n",
      "0 : 29 : 47\n",
      "0 : 29 : 48\n",
      "0 : 29 : 49\n",
      "0 : 29 : 50\n",
      "0 : 29 : 51\n",
      "0 : 29 : 52\n",
      "0 : 29 : 53\n",
      "0 : 29 : 54\n",
      "0 : 29 : 55\n",
      "0 : 29 : 56\n",
      "0 : 29 : 57\n",
      "0 : 29 : 58\n",
      "0 : 29 : 59\n",
      "0 : 30 : 0\n",
      "0 : 30 : 1\n",
      "0 : 30 : 2\n",
      "0 : 30 : 3\n",
      "0 : 30 : 4\n",
      "0 : 30 : 5\n",
      "0 : 30 : 6\n",
      "0 : 30 : 7\n",
      "0 : 30 : 8\n",
      "0 : 30 : 9\n",
      "0 : 30 : 10\n",
      "0 : 30 : 11\n",
      "0 : 30 : 12\n",
      "0 : 30 : 13\n",
      "0 : 30 : 14\n",
      "0 : 30 : 15\n",
      "0 : 30 : 16\n",
      "0 : 30 : 17\n",
      "0 : 30 : 18\n",
      "0 : 30 : 19\n",
      "0 : 30 : 20\n",
      "0 : 30 : 21\n",
      "0 : 30 : 22\n",
      "0 : 30 : 23\n",
      "0 : 30 : 24\n",
      "0 : 30 : 25\n",
      "0 : 30 : 26\n",
      "0 : 30 : 27\n",
      "0 : 30 : 28\n",
      "0 : 30 : 29\n",
      "0 : 30 : 30\n",
      "0 : 30 : 31\n",
      "0 : 30 : 32\n",
      "0 : 30 : 33\n",
      "0 : 30 : 34\n",
      "0 : 30 : 35\n",
      "0 : 30 : 36\n",
      "0 : 30 : 37\n",
      "0 : 30 : 38\n",
      "0 : 30 : 39\n",
      "0 : 30 : 40\n",
      "0 : 30 : 41\n",
      "0 : 30 : 42\n",
      "0 : 30 : 43\n",
      "0 : 30 : 44\n",
      "0 : 30 : 45\n",
      "0 : 30 : 46\n",
      "0 : 30 : 47\n",
      "0 : 30 : 48\n",
      "0 : 30 : 49\n",
      "0 : 30 : 50\n",
      "0 : 30 : 51\n",
      "0 : 30 : 52\n",
      "0 : 30 : 53\n",
      "0 : 30 : 54\n",
      "0 : 30 : 55\n",
      "0 : 30 : 56\n",
      "0 : 30 : 57\n",
      "0 : 30 : 58\n",
      "0 : 30 : 59\n",
      "0 : 31 : 0\n",
      "0 : 31 : 1\n",
      "0 : 31 : 2\n",
      "0 : 31 : 3\n",
      "0 : 31 : 4\n",
      "0 : 31 : 5\n",
      "0 : 31 : 6\n",
      "0 : 31 : 7\n",
      "0 : 31 : 8\n",
      "0 : 31 : 9\n",
      "0 : 31 : 10\n",
      "0 : 31 : 11\n",
      "0 : 31 : 12\n",
      "0 : 31 : 13\n",
      "0 : 31 : 14\n",
      "0 : 31 : 15\n",
      "0 : 31 : 16\n",
      "0 : 31 : 17\n",
      "0 : 31 : 18\n",
      "0 : 31 : 19\n",
      "0 : 31 : 20\n",
      "0 : 31 : 21\n",
      "0 : 31 : 22\n",
      "0 : 31 : 23\n",
      "0 : 31 : 24\n",
      "0 : 31 : 25\n",
      "0 : 31 : 26\n",
      "0 : 31 : 27\n",
      "0 : 31 : 28\n",
      "0 : 31 : 29\n",
      "0 : 31 : 30\n",
      "0 : 31 : 31\n",
      "0 : 31 : 32\n",
      "0 : 31 : 33\n",
      "0 : 31 : 34\n",
      "0 : 31 : 35\n",
      "0 : 31 : 36\n",
      "0 : 31 : 37\n",
      "0 : 31 : 38\n",
      "0 : 31 : 39\n",
      "0 : 31 : 40\n",
      "0 : 31 : 41\n",
      "0 : 31 : 42\n",
      "0 : 31 : 43\n",
      "0 : 31 : 44\n",
      "0 : 31 : 45\n",
      "0 : 31 : 46\n",
      "0 : 31 : 47\n",
      "0 : 31 : 48\n",
      "0 : 31 : 49\n",
      "0 : 31 : 50\n",
      "0 : 31 : 51\n",
      "0 : 31 : 52\n",
      "0 : 31 : 53\n",
      "0 : 31 : 54\n",
      "0 : 31 : 55\n",
      "0 : 31 : 56\n",
      "0 : 31 : 57\n",
      "0 : 31 : 58\n",
      "0 : 31 : 59\n",
      "0 : 32 : 0\n",
      "0 : 32 : 1\n",
      "0 : 32 : 2\n",
      "0 : 32 : 3\n",
      "0 : 32 : 4\n",
      "0 : 32 : 5\n",
      "0 : 32 : 6\n",
      "0 : 32 : 7\n",
      "0 : 32 : 8\n",
      "0 : 32 : 9\n",
      "0 : 32 : 10\n",
      "0 : 32 : 11\n",
      "0 : 32 : 12\n",
      "0 : 32 : 13\n",
      "0 : 32 : 14\n",
      "0 : 32 : 15\n",
      "0 : 32 : 16\n",
      "0 : 32 : 17\n",
      "0 : 32 : 18\n",
      "0 : 32 : 19\n",
      "0 : 32 : 20\n",
      "0 : 32 : 21\n",
      "0 : 32 : 22\n",
      "0 : 32 : 23\n",
      "0 : 32 : 24\n",
      "0 : 32 : 25\n",
      "0 : 32 : 26\n",
      "0 : 32 : 27\n",
      "0 : 32 : 28\n",
      "0 : 32 : 29\n",
      "0 : 32 : 30\n",
      "0 : 32 : 31\n",
      "0 : 32 : 32\n",
      "0 : 32 : 33\n",
      "0 : 32 : 34\n",
      "0 : 32 : 35\n",
      "0 : 32 : 36\n",
      "0 : 32 : 37\n",
      "0 : 32 : 38\n",
      "0 : 32 : 39\n",
      "0 : 32 : 40\n",
      "0 : 32 : 41\n",
      "0 : 32 : 42\n",
      "0 : 32 : 43\n",
      "0 : 32 : 44\n",
      "0 : 32 : 45\n",
      "0 : 32 : 46\n",
      "0 : 32 : 47\n",
      "0 : 32 : 48\n",
      "0 : 32 : 49\n",
      "0 : 32 : 50\n",
      "0 : 32 : 51\n",
      "0 : 32 : 52\n",
      "0 : 32 : 53\n",
      "0 : 32 : 54\n",
      "0 : 32 : 55\n",
      "0 : 32 : 56\n",
      "0 : 32 : 57\n",
      "0 : 32 : 58\n",
      "0 : 32 : 59\n",
      "0 : 33 : 0\n",
      "0 : 33 : 1\n",
      "0 : 33 : 2\n",
      "0 : 33 : 3\n",
      "0 : 33 : 4\n",
      "0 : 33 : 5\n",
      "0 : 33 : 6\n",
      "0 : 33 : 7\n",
      "0 : 33 : 8\n",
      "0 : 33 : 9\n",
      "0 : 33 : 10\n",
      "0 : 33 : 11\n",
      "0 : 33 : 12\n",
      "0 : 33 : 13\n",
      "0 : 33 : 14\n",
      "0 : 33 : 15\n",
      "0 : 33 : 16\n",
      "0 : 33 : 17\n",
      "0 : 33 : 18\n",
      "0 : 33 : 19\n",
      "0 : 33 : 20\n",
      "0 : 33 : 21\n",
      "0 : 33 : 22\n",
      "0 : 33 : 23\n",
      "0 : 33 : 24\n",
      "0 : 33 : 25\n",
      "0 : 33 : 26\n",
      "0 : 33 : 27\n",
      "0 : 33 : 28\n",
      "0 : 33 : 29\n",
      "0 : 33 : 30\n",
      "0 : 33 : 31\n",
      "0 : 33 : 32\n",
      "0 : 33 : 33\n",
      "0 : 33 : 34\n",
      "0 : 33 : 35\n",
      "0 : 33 : 36\n",
      "0 : 33 : 37\n",
      "0 : 33 : 38\n",
      "0 : 33 : 39\n",
      "0 : 33 : 40\n",
      "0 : 33 : 41\n",
      "0 : 33 : 42\n",
      "0 : 33 : 43\n",
      "0 : 33 : 44\n",
      "0 : 33 : 45\n",
      "0 : 33 : 46\n",
      "0 : 33 : 47\n",
      "0 : 33 : 48\n",
      "0 : 33 : 49\n",
      "0 : 33 : 50\n",
      "0 : 33 : 51\n",
      "0 : 33 : 52\n",
      "0 : 33 : 53\n",
      "0 : 33 : 54\n",
      "0 : 33 : 55\n",
      "0 : 33 : 56\n",
      "0 : 33 : 57\n",
      "0 : 33 : 58\n",
      "0 : 33 : 59\n",
      "0 : 34 : 0\n",
      "0 : 34 : 1\n",
      "0 : 34 : 2\n",
      "0 : 34 : 3\n",
      "0 : 34 : 4\n",
      "0 : 34 : 5\n",
      "0 : 34 : 6\n",
      "0 : 34 : 7\n",
      "0 : 34 : 8\n",
      "0 : 34 : 9\n",
      "0 : 34 : 10\n",
      "0 : 34 : 11\n",
      "0 : 34 : 12\n",
      "0 : 34 : 13\n",
      "0 : 34 : 14\n",
      "0 : 34 : 15\n",
      "0 : 34 : 16\n",
      "0 : 34 : 17\n",
      "0 : 34 : 18\n",
      "0 : 34 : 19\n",
      "0 : 34 : 20\n",
      "0 : 34 : 21\n",
      "0 : 34 : 22\n",
      "0 : 34 : 23\n",
      "0 : 34 : 24\n",
      "0 : 34 : 25\n",
      "0 : 34 : 26\n",
      "0 : 34 : 27\n",
      "0 : 34 : 28\n",
      "0 : 34 : 29\n",
      "0 : 34 : 30\n",
      "0 : 34 : 31\n",
      "0 : 34 : 32\n",
      "0 : 34 : 33\n",
      "0 : 34 : 34\n",
      "0 : 34 : 35\n",
      "0 : 34 : 36\n",
      "0 : 34 : 37\n",
      "0 : 34 : 38\n",
      "0 : 34 : 39\n",
      "0 : 34 : 40\n",
      "0 : 34 : 41\n",
      "0 : 34 : 42\n",
      "0 : 34 : 43\n",
      "0 : 34 : 44\n",
      "0 : 34 : 45\n",
      "0 : 34 : 46\n",
      "0 : 34 : 47\n",
      "0 : 34 : 48\n",
      "0 : 34 : 49\n",
      "0 : 34 : 50\n",
      "0 : 34 : 51\n",
      "0 : 34 : 52\n",
      "0 : 34 : 53\n",
      "0 : 34 : 54\n",
      "0 : 34 : 55\n",
      "0 : 34 : 56\n",
      "0 : 34 : 57\n",
      "0 : 34 : 58\n",
      "0 : 34 : 59\n",
      "0 : 35 : 0\n",
      "0 : 35 : 1\n",
      "0 : 35 : 2\n",
      "0 : 35 : 3\n",
      "0 : 35 : 4\n",
      "0 : 35 : 5\n",
      "0 : 35 : 6\n",
      "0 : 35 : 7\n",
      "0 : 35 : 8\n",
      "0 : 35 : 9\n",
      "0 : 35 : 10\n",
      "0 : 35 : 11\n",
      "0 : 35 : 12\n",
      "0 : 35 : 13\n",
      "0 : 35 : 14\n",
      "0 : 35 : 15\n",
      "0 : 35 : 16\n",
      "0 : 35 : 17\n",
      "0 : 35 : 18\n",
      "0 : 35 : 19\n",
      "0 : 35 : 20\n",
      "0 : 35 : 21\n",
      "0 : 35 : 22\n",
      "0 : 35 : 23\n",
      "0 : 35 : 24\n",
      "0 : 35 : 25\n",
      "0 : 35 : 26\n",
      "0 : 35 : 27\n",
      "0 : 35 : 28\n",
      "0 : 35 : 29\n",
      "0 : 35 : 30\n",
      "0 : 35 : 31\n",
      "0 : 35 : 32\n",
      "0 : 35 : 33\n",
      "0 : 35 : 34\n",
      "0 : 35 : 35\n",
      "0 : 35 : 36\n",
      "0 : 35 : 37\n",
      "0 : 35 : 38\n",
      "0 : 35 : 39\n",
      "0 : 35 : 40\n",
      "0 : 35 : 41\n",
      "0 : 35 : 42\n",
      "0 : 35 : 43\n",
      "0 : 35 : 44\n",
      "0 : 35 : 45\n",
      "0 : 35 : 46\n",
      "0 : 35 : 47\n",
      "0 : 35 : 48\n",
      "0 : 35 : 49\n",
      "0 : 35 : 50\n",
      "0 : 35 : 51\n",
      "0 : 35 : 52\n",
      "0 : 35 : 53\n",
      "0 : 35 : 54\n",
      "0 : 35 : 55\n",
      "0 : 35 : 56\n",
      "0 : 35 : 57\n",
      "0 : 35 : 58\n",
      "0 : 35 : 59\n",
      "0 : 36 : 0\n",
      "0 : 36 : 1\n",
      "0 : 36 : 2\n",
      "0 : 36 : 3\n",
      "0 : 36 : 4\n",
      "0 : 36 : 5\n",
      "0 : 36 : 6\n",
      "0 : 36 : 7\n",
      "0 : 36 : 8\n",
      "0 : 36 : 9\n",
      "0 : 36 : 10\n",
      "0 : 36 : 11\n",
      "0 : 36 : 12\n",
      "0 : 36 : 13\n",
      "0 : 36 : 14\n",
      "0 : 36 : 15\n",
      "0 : 36 : 16\n",
      "0 : 36 : 17\n",
      "0 : 36 : 18\n",
      "0 : 36 : 19\n",
      "0 : 36 : 20\n",
      "0 : 36 : 21\n",
      "0 : 36 : 22\n",
      "0 : 36 : 23\n",
      "0 : 36 : 24\n",
      "0 : 36 : 25\n",
      "0 : 36 : 26\n",
      "0 : 36 : 27\n",
      "0 : 36 : 28\n",
      "0 : 36 : 29\n",
      "0 : 36 : 30\n",
      "0 : 36 : 31\n",
      "0 : 36 : 32\n",
      "0 : 36 : 33\n",
      "0 : 36 : 34\n",
      "0 : 36 : 35\n",
      "0 : 36 : 36\n",
      "0 : 36 : 37\n",
      "0 : 36 : 38\n",
      "0 : 36 : 39\n",
      "0 : 36 : 40\n",
      "0 : 36 : 41\n",
      "0 : 36 : 42\n",
      "0 : 36 : 43\n",
      "0 : 36 : 44\n",
      "0 : 36 : 45\n",
      "0 : 36 : 46\n",
      "0 : 36 : 47\n",
      "0 : 36 : 48\n",
      "0 : 36 : 49\n",
      "0 : 36 : 50\n",
      "0 : 36 : 51\n",
      "0 : 36 : 52\n",
      "0 : 36 : 53\n",
      "0 : 36 : 54\n",
      "0 : 36 : 55\n",
      "0 : 36 : 56\n",
      "0 : 36 : 57\n",
      "0 : 36 : 58\n",
      "0 : 36 : 59\n",
      "0 : 37 : 0\n",
      "0 : 37 : 1\n",
      "0 : 37 : 2\n",
      "0 : 37 : 3\n",
      "0 : 37 : 4\n",
      "0 : 37 : 5\n",
      "0 : 37 : 6\n",
      "0 : 37 : 7\n",
      "0 : 37 : 8\n",
      "0 : 37 : 9\n",
      "0 : 37 : 10\n",
      "0 : 37 : 11\n",
      "0 : 37 : 12\n",
      "0 : 37 : 13\n",
      "0 : 37 : 14\n",
      "0 : 37 : 15\n",
      "0 : 37 : 16\n",
      "0 : 37 : 17\n",
      "0 : 37 : 18\n",
      "0 : 37 : 19\n",
      "0 : 37 : 20\n",
      "0 : 37 : 21\n",
      "0 : 37 : 22\n",
      "0 : 37 : 23\n",
      "0 : 37 : 24\n",
      "0 : 37 : 25\n",
      "0 : 37 : 26\n",
      "0 : 37 : 27\n",
      "0 : 37 : 28\n",
      "0 : 37 : 29\n",
      "0 : 37 : 30\n",
      "0 : 37 : 31\n",
      "0 : 37 : 32\n",
      "0 : 37 : 33\n",
      "0 : 37 : 34\n",
      "0 : 37 : 35\n",
      "0 : 37 : 36\n",
      "0 : 37 : 37\n",
      "0 : 37 : 38\n",
      "0 : 37 : 39\n",
      "0 : 37 : 40\n",
      "0 : 37 : 41\n",
      "0 : 37 : 42\n",
      "0 : 37 : 43\n",
      "0 : 37 : 44\n",
      "0 : 37 : 45\n",
      "0 : 37 : 46\n",
      "0 : 37 : 47\n",
      "0 : 37 : 48\n",
      "0 : 37 : 49\n",
      "0 : 37 : 50\n",
      "0 : 37 : 51\n",
      "0 : 37 : 52\n",
      "0 : 37 : 53\n",
      "0 : 37 : 54\n",
      "0 : 37 : 55\n",
      "0 : 37 : 56\n",
      "0 : 37 : 57\n",
      "0 : 37 : 58\n",
      "0 : 37 : 59\n",
      "0 : 38 : 0\n",
      "0 : 38 : 1\n",
      "0 : 38 : 2\n",
      "0 : 38 : 3\n",
      "0 : 38 : 4\n",
      "0 : 38 : 5\n",
      "0 : 38 : 6\n",
      "0 : 38 : 7\n",
      "0 : 38 : 8\n",
      "0 : 38 : 9\n",
      "0 : 38 : 10\n",
      "0 : 38 : 11\n",
      "0 : 38 : 12\n",
      "0 : 38 : 13\n",
      "0 : 38 : 14\n",
      "0 : 38 : 15\n",
      "0 : 38 : 16\n",
      "0 : 38 : 17\n",
      "0 : 38 : 18\n",
      "0 : 38 : 19\n",
      "0 : 38 : 20\n",
      "0 : 38 : 21\n",
      "0 : 38 : 22\n",
      "0 : 38 : 23\n",
      "0 : 38 : 24\n",
      "0 : 38 : 25\n",
      "0 : 38 : 26\n",
      "0 : 38 : 27\n",
      "0 : 38 : 28\n",
      "0 : 38 : 29\n",
      "0 : 38 : 30\n",
      "0 : 38 : 31\n",
      "0 : 38 : 32\n",
      "0 : 38 : 33\n",
      "0 : 38 : 34\n",
      "0 : 38 : 35\n",
      "0 : 38 : 36\n",
      "0 : 38 : 37\n",
      "0 : 38 : 38\n",
      "0 : 38 : 39\n",
      "0 : 38 : 40\n",
      "0 : 38 : 41\n",
      "0 : 38 : 42\n",
      "0 : 38 : 43\n",
      "0 : 38 : 44\n",
      "0 : 38 : 45\n",
      "0 : 38 : 46\n",
      "0 : 38 : 47\n",
      "0 : 38 : 48\n",
      "0 : 38 : 49\n",
      "0 : 38 : 50\n",
      "0 : 38 : 51\n",
      "0 : 38 : 52\n",
      "0 : 38 : 53\n",
      "0 : 38 : 54\n",
      "0 : 38 : 55\n",
      "0 : 38 : 56\n",
      "0 : 38 : 57\n",
      "0 : 38 : 58\n",
      "0 : 38 : 59\n",
      "0 : 39 : 0\n",
      "0 : 39 : 1\n",
      "0 : 39 : 2\n",
      "0 : 39 : 3\n",
      "0 : 39 : 4\n",
      "0 : 39 : 5\n",
      "0 : 39 : 6\n",
      "0 : 39 : 7\n",
      "0 : 39 : 8\n",
      "0 : 39 : 9\n",
      "0 : 39 : 10\n",
      "0 : 39 : 11\n",
      "0 : 39 : 12\n",
      "0 : 39 : 13\n",
      "0 : 39 : 14\n",
      "0 : 39 : 15\n",
      "0 : 39 : 16\n",
      "0 : 39 : 17\n",
      "0 : 39 : 18\n",
      "0 : 39 : 19\n",
      "0 : 39 : 20\n",
      "0 : 39 : 21\n",
      "0 : 39 : 22\n",
      "0 : 39 : 23\n",
      "0 : 39 : 24\n",
      "0 : 39 : 25\n",
      "0 : 39 : 26\n",
      "0 : 39 : 27\n",
      "0 : 39 : 28\n",
      "0 : 39 : 29\n",
      "0 : 39 : 30\n",
      "0 : 39 : 31\n",
      "0 : 39 : 32\n",
      "0 : 39 : 33\n",
      "0 : 39 : 34\n",
      "0 : 39 : 35\n",
      "0 : 39 : 36\n",
      "0 : 39 : 37\n",
      "0 : 39 : 38\n",
      "0 : 39 : 39\n",
      "0 : 39 : 40\n",
      "0 : 39 : 41\n",
      "0 : 39 : 42\n",
      "0 : 39 : 43\n",
      "0 : 39 : 44\n",
      "0 : 39 : 45\n",
      "0 : 39 : 46\n",
      "0 : 39 : 47\n",
      "0 : 39 : 48\n",
      "0 : 39 : 49\n",
      "0 : 39 : 50\n",
      "0 : 39 : 51\n",
      "0 : 39 : 52\n",
      "0 : 39 : 53\n",
      "0 : 39 : 54\n",
      "0 : 39 : 55\n",
      "0 : 39 : 56\n",
      "0 : 39 : 57\n",
      "0 : 39 : 58\n",
      "0 : 39 : 59\n",
      "0 : 40 : 0\n",
      "0 : 40 : 1\n",
      "0 : 40 : 2\n",
      "0 : 40 : 3\n",
      "0 : 40 : 4\n",
      "0 : 40 : 5\n",
      "0 : 40 : 6\n",
      "0 : 40 : 7\n",
      "0 : 40 : 8\n",
      "0 : 40 : 9\n",
      "0 : 40 : 10\n",
      "0 : 40 : 11\n",
      "0 : 40 : 12\n",
      "0 : 40 : 13\n",
      "0 : 40 : 14\n",
      "0 : 40 : 15\n",
      "0 : 40 : 16\n",
      "0 : 40 : 17\n",
      "0 : 40 : 18\n",
      "0 : 40 : 19\n",
      "0 : 40 : 20\n",
      "0 : 40 : 21\n",
      "0 : 40 : 22\n",
      "0 : 40 : 23\n",
      "0 : 40 : 24\n",
      "0 : 40 : 25\n",
      "0 : 40 : 26\n",
      "0 : 40 : 27\n",
      "0 : 40 : 28\n",
      "0 : 40 : 29\n",
      "0 : 40 : 30\n",
      "0 : 40 : 31\n",
      "0 : 40 : 32\n",
      "0 : 40 : 33\n",
      "0 : 40 : 34\n",
      "0 : 40 : 35\n",
      "0 : 40 : 36\n",
      "0 : 40 : 37\n",
      "0 : 40 : 38\n",
      "0 : 40 : 39\n",
      "0 : 40 : 40\n",
      "0 : 40 : 41\n",
      "0 : 40 : 42\n",
      "0 : 40 : 43\n",
      "0 : 40 : 44\n",
      "0 : 40 : 45\n",
      "0 : 40 : 46\n",
      "0 : 40 : 47\n",
      "0 : 40 : 48\n",
      "0 : 40 : 49\n",
      "0 : 40 : 50\n",
      "0 : 40 : 51\n",
      "0 : 40 : 52\n",
      "0 : 40 : 53\n",
      "0 : 40 : 54\n",
      "0 : 40 : 55\n",
      "0 : 40 : 56\n",
      "0 : 40 : 57\n",
      "0 : 40 : 58\n",
      "0 : 40 : 59\n",
      "0 : 41 : 0\n",
      "0 : 41 : 1\n",
      "0 : 41 : 2\n",
      "0 : 41 : 3\n",
      "0 : 41 : 4\n",
      "0 : 41 : 5\n",
      "0 : 41 : 6\n",
      "0 : 41 : 7\n",
      "0 : 41 : 8\n",
      "0 : 41 : 9\n",
      "0 : 41 : 10\n",
      "0 : 41 : 11\n",
      "0 : 41 : 12\n",
      "0 : 41 : 13\n",
      "0 : 41 : 14\n",
      "0 : 41 : 15\n",
      "0 : 41 : 16\n",
      "0 : 41 : 17\n",
      "0 : 41 : 18\n",
      "0 : 41 : 19\n",
      "0 : 41 : 20\n",
      "0 : 41 : 21\n",
      "0 : 41 : 22\n",
      "0 : 41 : 23\n",
      "0 : 41 : 24\n",
      "0 : 41 : 25\n",
      "0 : 41 : 26\n",
      "0 : 41 : 27\n",
      "0 : 41 : 28\n",
      "0 : 41 : 29\n",
      "0 : 41 : 30\n",
      "0 : 41 : 31\n",
      "0 : 41 : 32\n",
      "0 : 41 : 33\n",
      "0 : 41 : 34\n",
      "0 : 41 : 35\n",
      "0 : 41 : 36\n",
      "0 : 41 : 37\n",
      "0 : 41 : 38\n",
      "0 : 41 : 39\n",
      "0 : 41 : 40\n",
      "0 : 41 : 41\n",
      "0 : 41 : 42\n",
      "0 : 41 : 43\n",
      "0 : 41 : 44\n",
      "0 : 41 : 45\n",
      "0 : 41 : 46\n",
      "0 : 41 : 47\n",
      "0 : 41 : 48\n",
      "0 : 41 : 49\n",
      "0 : 41 : 50\n",
      "0 : 41 : 51\n",
      "0 : 41 : 52\n",
      "0 : 41 : 53\n",
      "0 : 41 : 54\n",
      "0 : 41 : 55\n",
      "0 : 41 : 56\n",
      "0 : 41 : 57\n",
      "0 : 41 : 58\n",
      "0 : 41 : 59\n",
      "0 : 42 : 0\n",
      "0 : 42 : 1\n",
      "0 : 42 : 2\n",
      "0 : 42 : 3\n",
      "0 : 42 : 4\n",
      "0 : 42 : 5\n",
      "0 : 42 : 6\n",
      "0 : 42 : 7\n",
      "0 : 42 : 8\n",
      "0 : 42 : 9\n",
      "0 : 42 : 10\n",
      "0 : 42 : 11\n",
      "0 : 42 : 12\n",
      "0 : 42 : 13\n",
      "0 : 42 : 14\n",
      "0 : 42 : 15\n",
      "0 : 42 : 16\n",
      "0 : 42 : 17\n",
      "0 : 42 : 18\n",
      "0 : 42 : 19\n",
      "0 : 42 : 20\n",
      "0 : 42 : 21\n",
      "0 : 42 : 22\n",
      "0 : 42 : 23\n",
      "0 : 42 : 24\n",
      "0 : 42 : 25\n",
      "0 : 42 : 26\n",
      "0 : 42 : 27\n",
      "0 : 42 : 28\n",
      "0 : 42 : 29\n",
      "0 : 42 : 30\n",
      "0 : 42 : 31\n",
      "0 : 42 : 32\n",
      "0 : 42 : 33\n",
      "0 : 42 : 34\n",
      "0 : 42 : 35\n",
      "0 : 42 : 36\n",
      "0 : 42 : 37\n",
      "0 : 42 : 38\n",
      "0 : 42 : 39\n",
      "0 : 42 : 40\n",
      "0 : 42 : 41\n",
      "0 : 42 : 42\n",
      "0 : 42 : 43\n",
      "0 : 42 : 44\n",
      "0 : 42 : 45\n",
      "0 : 42 : 46\n",
      "0 : 42 : 47\n",
      "0 : 42 : 48\n",
      "0 : 42 : 49\n",
      "0 : 42 : 50\n",
      "0 : 42 : 51\n",
      "0 : 42 : 52\n",
      "0 : 42 : 53\n",
      "0 : 42 : 54\n",
      "0 : 42 : 55\n",
      "0 : 42 : 56\n",
      "0 : 42 : 57\n",
      "0 : 42 : 58\n",
      "0 : 42 : 59\n",
      "0 : 43 : 0\n",
      "0 : 43 : 1\n",
      "0 : 43 : 2\n",
      "0 : 43 : 3\n",
      "0 : 43 : 4\n",
      "0 : 43 : 5\n",
      "0 : 43 : 6\n",
      "0 : 43 : 7\n",
      "0 : 43 : 8\n",
      "0 : 43 : 9\n",
      "0 : 43 : 10\n",
      "0 : 43 : 11\n",
      "0 : 43 : 12\n",
      "0 : 43 : 13\n",
      "0 : 43 : 14\n",
      "0 : 43 : 15\n",
      "0 : 43 : 16\n",
      "0 : 43 : 17\n",
      "0 : 43 : 18\n",
      "0 : 43 : 19\n",
      "0 : 43 : 20\n",
      "0 : 43 : 21\n",
      "0 : 43 : 22\n",
      "0 : 43 : 23\n",
      "0 : 43 : 24\n",
      "0 : 43 : 25\n",
      "0 : 43 : 26\n",
      "0 : 43 : 27\n",
      "0 : 43 : 28\n",
      "0 : 43 : 29\n",
      "0 : 43 : 30\n",
      "0 : 43 : 31\n",
      "0 : 43 : 32\n",
      "0 : 43 : 33\n",
      "0 : 43 : 34\n",
      "0 : 43 : 35\n",
      "0 : 43 : 36\n",
      "0 : 43 : 37\n",
      "0 : 43 : 38\n",
      "0 : 43 : 39\n",
      "0 : 43 : 40\n",
      "0 : 43 : 41\n",
      "0 : 43 : 42\n",
      "0 : 43 : 43\n",
      "0 : 43 : 44\n",
      "0 : 43 : 45\n",
      "0 : 43 : 46\n",
      "0 : 43 : 47\n",
      "0 : 43 : 48\n",
      "0 : 43 : 49\n",
      "0 : 43 : 50\n",
      "0 : 43 : 51\n",
      "0 : 43 : 52\n",
      "0 : 43 : 53\n",
      "0 : 43 : 54\n",
      "0 : 43 : 55\n",
      "0 : 43 : 56\n",
      "0 : 43 : 57\n",
      "0 : 43 : 58\n",
      "0 : 43 : 59\n",
      "0 : 44 : 0\n",
      "0 : 44 : 1\n",
      "0 : 44 : 2\n",
      "0 : 44 : 3\n",
      "0 : 44 : 4\n",
      "0 : 44 : 5\n",
      "0 : 44 : 6\n",
      "0 : 44 : 7\n",
      "0 : 44 : 8\n",
      "0 : 44 : 9\n",
      "0 : 44 : 10\n",
      "0 : 44 : 11\n",
      "0 : 44 : 12\n",
      "0 : 44 : 13\n",
      "0 : 44 : 14\n",
      "0 : 44 : 15\n",
      "0 : 44 : 16\n",
      "0 : 44 : 17\n",
      "0 : 44 : 18\n",
      "0 : 44 : 19\n",
      "0 : 44 : 20\n",
      "0 : 44 : 21\n",
      "0 : 44 : 22\n",
      "0 : 44 : 23\n",
      "0 : 44 : 24\n",
      "0 : 44 : 25\n",
      "0 : 44 : 26\n",
      "0 : 44 : 27\n",
      "0 : 44 : 28\n",
      "0 : 44 : 29\n",
      "0 : 44 : 30\n",
      "0 : 44 : 31\n",
      "0 : 44 : 32\n",
      "0 : 44 : 33\n",
      "0 : 44 : 34\n",
      "0 : 44 : 35\n",
      "0 : 44 : 36\n",
      "0 : 44 : 37\n",
      "0 : 44 : 38\n",
      "0 : 44 : 39\n",
      "0 : 44 : 40\n",
      "0 : 44 : 41\n",
      "0 : 44 : 42\n",
      "0 : 44 : 43\n",
      "0 : 44 : 44\n",
      "0 : 44 : 45\n",
      "0 : 44 : 46\n",
      "0 : 44 : 47\n",
      "0 : 44 : 48\n",
      "0 : 44 : 49\n",
      "0 : 44 : 50\n",
      "0 : 44 : 51\n",
      "0 : 44 : 52\n",
      "0 : 44 : 53\n",
      "0 : 44 : 54\n",
      "0 : 44 : 55\n",
      "0 : 44 : 56\n",
      "0 : 44 : 57\n",
      "0 : 44 : 58\n",
      "0 : 44 : 59\n",
      "0 : 45 : 0\n",
      "0 : 45 : 1\n",
      "0 : 45 : 2\n",
      "0 : 45 : 3\n",
      "0 : 45 : 4\n",
      "0 : 45 : 5\n",
      "0 : 45 : 6\n",
      "0 : 45 : 7\n",
      "0 : 45 : 8\n",
      "0 : 45 : 9\n",
      "0 : 45 : 10\n",
      "0 : 45 : 11\n",
      "0 : 45 : 12\n",
      "0 : 45 : 13\n",
      "0 : 45 : 14\n",
      "0 : 45 : 15\n",
      "0 : 45 : 16\n",
      "0 : 45 : 17\n",
      "0 : 45 : 18\n",
      "0 : 45 : 19\n",
      "0 : 45 : 20\n",
      "0 : 45 : 21\n",
      "0 : 45 : 22\n",
      "0 : 45 : 23\n",
      "0 : 45 : 24\n",
      "0 : 45 : 25\n",
      "0 : 45 : 26\n",
      "0 : 45 : 27\n",
      "0 : 45 : 28\n",
      "0 : 45 : 29\n",
      "0 : 45 : 30\n",
      "0 : 45 : 31\n",
      "0 : 45 : 32\n",
      "0 : 45 : 33\n",
      "0 : 45 : 34\n",
      "0 : 45 : 35\n",
      "0 : 45 : 36\n",
      "0 : 45 : 37\n",
      "0 : 45 : 38\n",
      "0 : 45 : 39\n",
      "0 : 45 : 40\n",
      "0 : 45 : 41\n",
      "0 : 45 : 42\n",
      "0 : 45 : 43\n",
      "0 : 45 : 44\n",
      "0 : 45 : 45\n",
      "0 : 45 : 46\n",
      "0 : 45 : 47\n",
      "0 : 45 : 48\n",
      "0 : 45 : 49\n",
      "0 : 45 : 50\n",
      "0 : 45 : 51\n",
      "0 : 45 : 52\n",
      "0 : 45 : 53\n",
      "0 : 45 : 54\n",
      "0 : 45 : 55\n",
      "0 : 45 : 56\n",
      "0 : 45 : 57\n",
      "0 : 45 : 58\n",
      "0 : 45 : 59\n",
      "0 : 46 : 0\n",
      "0 : 46 : 1\n",
      "0 : 46 : 2\n",
      "0 : 46 : 3\n",
      "0 : 46 : 4\n",
      "0 : 46 : 5\n",
      "0 : 46 : 6\n",
      "0 : 46 : 7\n",
      "0 : 46 : 8\n",
      "0 : 46 : 9\n",
      "0 : 46 : 10\n",
      "0 : 46 : 11\n",
      "0 : 46 : 12\n",
      "0 : 46 : 13\n",
      "0 : 46 : 14\n",
      "0 : 46 : 15\n",
      "0 : 46 : 16\n",
      "0 : 46 : 17\n",
      "0 : 46 : 18\n",
      "0 : 46 : 19\n",
      "0 : 46 : 20\n",
      "0 : 46 : 21\n",
      "0 : 46 : 22\n",
      "0 : 46 : 23\n",
      "0 : 46 : 24\n",
      "0 : 46 : 25\n",
      "0 : 46 : 26\n",
      "0 : 46 : 27\n",
      "0 : 46 : 28\n",
      "0 : 46 : 29\n",
      "0 : 46 : 30\n",
      "0 : 46 : 31\n",
      "0 : 46 : 32\n",
      "0 : 46 : 33\n",
      "0 : 46 : 34\n",
      "0 : 46 : 35\n",
      "0 : 46 : 36\n",
      "0 : 46 : 37\n",
      "0 : 46 : 38\n",
      "0 : 46 : 39\n",
      "0 : 46 : 40\n",
      "0 : 46 : 41\n",
      "0 : 46 : 42\n",
      "0 : 46 : 43\n",
      "0 : 46 : 44\n",
      "0 : 46 : 45\n",
      "0 : 46 : 46\n",
      "0 : 46 : 47\n",
      "0 : 46 : 48\n",
      "0 : 46 : 49\n",
      "0 : 46 : 50\n",
      "0 : 46 : 51\n",
      "0 : 46 : 52\n",
      "0 : 46 : 53\n",
      "0 : 46 : 54\n",
      "0 : 46 : 55\n",
      "0 : 46 : 56\n",
      "0 : 46 : 57\n",
      "0 : 46 : 58\n",
      "0 : 46 : 59\n",
      "0 : 47 : 0\n",
      "0 : 47 : 1\n",
      "0 : 47 : 2\n",
      "0 : 47 : 3\n",
      "0 : 47 : 4\n",
      "0 : 47 : 5\n",
      "0 : 47 : 6\n",
      "0 : 47 : 7\n",
      "0 : 47 : 8\n",
      "0 : 47 : 9\n",
      "0 : 47 : 10\n",
      "0 : 47 : 11\n",
      "0 : 47 : 12\n",
      "0 : 47 : 13\n",
      "0 : 47 : 14\n",
      "0 : 47 : 15\n",
      "0 : 47 : 16\n",
      "0 : 47 : 17\n",
      "0 : 47 : 18\n",
      "0 : 47 : 19\n",
      "0 : 47 : 20\n",
      "0 : 47 : 21\n",
      "0 : 47 : 22\n",
      "0 : 47 : 23\n",
      "0 : 47 : 24\n",
      "0 : 47 : 25\n",
      "0 : 47 : 26\n",
      "0 : 47 : 27\n",
      "0 : 47 : 28\n",
      "0 : 47 : 29\n",
      "0 : 47 : 30\n",
      "0 : 47 : 31\n",
      "0 : 47 : 32\n",
      "0 : 47 : 33\n",
      "0 : 47 : 34\n",
      "0 : 47 : 35\n",
      "0 : 47 : 36\n",
      "0 : 47 : 37\n",
      "0 : 47 : 38\n",
      "0 : 47 : 39\n",
      "0 : 47 : 40\n",
      "0 : 47 : 41\n",
      "0 : 47 : 42\n",
      "0 : 47 : 43\n",
      "0 : 47 : 44\n",
      "0 : 47 : 45\n",
      "0 : 47 : 46\n",
      "0 : 47 : 47\n",
      "0 : 47 : 48\n",
      "0 : 47 : 49\n",
      "0 : 47 : 50\n",
      "0 : 47 : 51\n",
      "0 : 47 : 52\n",
      "0 : 47 : 53\n",
      "0 : 47 : 54\n",
      "0 : 47 : 55\n",
      "0 : 47 : 56\n",
      "0 : 47 : 57\n",
      "0 : 47 : 58\n",
      "0 : 47 : 59\n",
      "0 : 48 : 0\n",
      "0 : 48 : 1\n",
      "0 : 48 : 2\n",
      "0 : 48 : 3\n",
      "0 : 48 : 4\n",
      "0 : 48 : 5\n",
      "0 : 48 : 6\n",
      "0 : 48 : 7\n",
      "0 : 48 : 8\n",
      "0 : 48 : 9\n",
      "0 : 48 : 10\n",
      "0 : 48 : 11\n",
      "0 : 48 : 12\n",
      "0 : 48 : 13\n",
      "0 : 48 : 14\n",
      "0 : 48 : 15\n",
      "0 : 48 : 16\n",
      "0 : 48 : 17\n",
      "0 : 48 : 18\n",
      "0 : 48 : 19\n",
      "0 : 48 : 20\n",
      "0 : 48 : 21\n",
      "0 : 48 : 22\n",
      "0 : 48 : 23\n",
      "0 : 48 : 24\n",
      "0 : 48 : 25\n",
      "0 : 48 : 26\n",
      "0 : 48 : 27\n",
      "0 : 48 : 28\n",
      "0 : 48 : 29\n",
      "0 : 48 : 30\n",
      "0 : 48 : 31\n",
      "0 : 48 : 32\n",
      "0 : 48 : 33\n",
      "0 : 48 : 34\n",
      "0 : 48 : 35\n",
      "0 : 48 : 36\n",
      "0 : 48 : 37\n",
      "0 : 48 : 38\n",
      "0 : 48 : 39\n",
      "0 : 48 : 40\n",
      "0 : 48 : 41\n",
      "0 : 48 : 42\n",
      "0 : 48 : 43\n",
      "0 : 48 : 44\n",
      "0 : 48 : 45\n",
      "0 : 48 : 46\n",
      "0 : 48 : 47\n",
      "0 : 48 : 48\n",
      "0 : 48 : 49\n",
      "0 : 48 : 50\n",
      "0 : 48 : 51\n",
      "0 : 48 : 52\n",
      "0 : 48 : 53\n",
      "0 : 48 : 54\n",
      "0 : 48 : 55\n",
      "0 : 48 : 56\n",
      "0 : 48 : 57\n",
      "0 : 48 : 58\n",
      "0 : 48 : 59\n",
      "0 : 49 : 0\n",
      "0 : 49 : 1\n",
      "0 : 49 : 2\n",
      "0 : 49 : 3\n",
      "0 : 49 : 4\n",
      "0 : 49 : 5\n",
      "0 : 49 : 6\n",
      "0 : 49 : 7\n",
      "0 : 49 : 8\n",
      "0 : 49 : 9\n",
      "0 : 49 : 10\n",
      "0 : 49 : 11\n",
      "0 : 49 : 12\n",
      "0 : 49 : 13\n",
      "0 : 49 : 14\n",
      "0 : 49 : 15\n",
      "0 : 49 : 16\n",
      "0 : 49 : 17\n",
      "0 : 49 : 18\n",
      "0 : 49 : 19\n",
      "0 : 49 : 20\n",
      "0 : 49 : 21\n",
      "0 : 49 : 22\n",
      "0 : 49 : 23\n",
      "0 : 49 : 24\n",
      "0 : 49 : 25\n",
      "0 : 49 : 26\n",
      "0 : 49 : 27\n",
      "0 : 49 : 28\n",
      "0 : 49 : 29\n",
      "0 : 49 : 30\n",
      "0 : 49 : 31\n",
      "0 : 49 : 32\n",
      "0 : 49 : 33\n",
      "0 : 49 : 34\n",
      "0 : 49 : 35\n",
      "0 : 49 : 36\n",
      "0 : 49 : 37\n",
      "0 : 49 : 38\n",
      "0 : 49 : 39\n",
      "0 : 49 : 40\n",
      "0 : 49 : 41\n",
      "0 : 49 : 42\n",
      "0 : 49 : 43\n",
      "0 : 49 : 44\n",
      "0 : 49 : 45\n",
      "0 : 49 : 46\n",
      "0 : 49 : 47\n",
      "0 : 49 : 48\n",
      "0 : 49 : 49\n",
      "0 : 49 : 50\n",
      "0 : 49 : 51\n",
      "0 : 49 : 52\n",
      "0 : 49 : 53\n",
      "0 : 49 : 54\n",
      "0 : 49 : 55\n",
      "0 : 49 : 56\n",
      "0 : 49 : 57\n",
      "0 : 49 : 58\n",
      "0 : 49 : 59\n",
      "0 : 50 : 0\n",
      "0 : 50 : 1\n",
      "0 : 50 : 2\n",
      "0 : 50 : 3\n",
      "0 : 50 : 4\n",
      "0 : 50 : 5\n",
      "0 : 50 : 6\n",
      "0 : 50 : 7\n",
      "0 : 50 : 8\n",
      "0 : 50 : 9\n",
      "0 : 50 : 10\n",
      "0 : 50 : 11\n",
      "0 : 50 : 12\n",
      "0 : 50 : 13\n",
      "0 : 50 : 14\n",
      "0 : 50 : 15\n",
      "0 : 50 : 16\n",
      "0 : 50 : 17\n",
      "0 : 50 : 18\n",
      "0 : 50 : 19\n",
      "0 : 50 : 20\n",
      "0 : 50 : 21\n",
      "0 : 50 : 22\n",
      "0 : 50 : 23\n",
      "0 : 50 : 24\n",
      "0 : 50 : 25\n",
      "0 : 50 : 26\n",
      "0 : 50 : 27\n",
      "0 : 50 : 28\n",
      "0 : 50 : 29\n",
      "0 : 50 : 30\n",
      "0 : 50 : 31\n",
      "0 : 50 : 32\n",
      "0 : 50 : 33\n",
      "0 : 50 : 34\n",
      "0 : 50 : 35\n",
      "0 : 50 : 36\n",
      "0 : 50 : 37\n",
      "0 : 50 : 38\n",
      "0 : 50 : 39\n",
      "0 : 50 : 40\n",
      "0 : 50 : 41\n",
      "0 : 50 : 42\n",
      "0 : 50 : 43\n",
      "0 : 50 : 44\n",
      "0 : 50 : 45\n",
      "0 : 50 : 46\n",
      "0 : 50 : 47\n",
      "0 : 50 : 48\n",
      "0 : 50 : 49\n",
      "0 : 50 : 50\n",
      "0 : 50 : 51\n",
      "0 : 50 : 52\n",
      "0 : 50 : 53\n",
      "0 : 50 : 54\n",
      "0 : 50 : 55\n",
      "0 : 50 : 56\n",
      "0 : 50 : 57\n",
      "0 : 50 : 58\n",
      "0 : 50 : 59\n",
      "0 : 51 : 0\n",
      "0 : 51 : 1\n",
      "0 : 51 : 2\n",
      "0 : 51 : 3\n",
      "0 : 51 : 4\n",
      "0 : 51 : 5\n",
      "0 : 51 : 6\n",
      "0 : 51 : 7\n",
      "0 : 51 : 8\n",
      "0 : 51 : 9\n",
      "0 : 51 : 10\n",
      "0 : 51 : 11\n",
      "0 : 51 : 12\n",
      "0 : 51 : 13\n",
      "0 : 51 : 14\n",
      "0 : 51 : 15\n",
      "0 : 51 : 16\n",
      "0 : 51 : 17\n",
      "0 : 51 : 18\n",
      "0 : 51 : 19\n",
      "0 : 51 : 20\n",
      "0 : 51 : 21\n",
      "0 : 51 : 22\n",
      "0 : 51 : 23\n",
      "0 : 51 : 24\n",
      "0 : 51 : 25\n",
      "0 : 51 : 26\n",
      "0 : 51 : 27\n",
      "0 : 51 : 28\n",
      "0 : 51 : 29\n",
      "0 : 51 : 30\n",
      "0 : 51 : 31\n",
      "0 : 51 : 32\n",
      "0 : 51 : 33\n",
      "0 : 51 : 34\n",
      "0 : 51 : 35\n",
      "0 : 51 : 36\n",
      "0 : 51 : 37\n",
      "0 : 51 : 38\n",
      "0 : 51 : 39\n",
      "0 : 51 : 40\n",
      "0 : 51 : 41\n",
      "0 : 51 : 42\n",
      "0 : 51 : 43\n",
      "0 : 51 : 44\n",
      "0 : 51 : 45\n",
      "0 : 51 : 46\n",
      "0 : 51 : 47\n",
      "0 : 51 : 48\n",
      "0 : 51 : 49\n",
      "0 : 51 : 50\n",
      "0 : 51 : 51\n",
      "0 : 51 : 52\n",
      "0 : 51 : 53\n",
      "0 : 51 : 54\n",
      "0 : 51 : 55\n",
      "0 : 51 : 56\n",
      "0 : 51 : 57\n",
      "0 : 51 : 58\n",
      "0 : 51 : 59\n",
      "0 : 52 : 0\n",
      "0 : 52 : 1\n",
      "0 : 52 : 2\n",
      "0 : 52 : 3\n",
      "0 : 52 : 4\n",
      "0 : 52 : 5\n",
      "0 : 52 : 6\n",
      "0 : 52 : 7\n",
      "0 : 52 : 8\n",
      "0 : 52 : 9\n",
      "0 : 52 : 10\n",
      "0 : 52 : 11\n",
      "0 : 52 : 12\n",
      "0 : 52 : 13\n",
      "0 : 52 : 14\n",
      "0 : 52 : 15\n",
      "0 : 52 : 16\n",
      "0 : 52 : 17\n",
      "0 : 52 : 18\n",
      "0 : 52 : 19\n",
      "0 : 52 : 20\n",
      "0 : 52 : 21\n",
      "0 : 52 : 22\n",
      "0 : 52 : 23\n",
      "0 : 52 : 24\n",
      "0 : 52 : 25\n",
      "0 : 52 : 26\n",
      "0 : 52 : 27\n",
      "0 : 52 : 28\n",
      "0 : 52 : 29\n",
      "0 : 52 : 30\n",
      "0 : 52 : 31\n",
      "0 : 52 : 32\n",
      "0 : 52 : 33\n",
      "0 : 52 : 34\n",
      "0 : 52 : 35\n",
      "0 : 52 : 36\n",
      "0 : 52 : 37\n",
      "0 : 52 : 38\n",
      "0 : 52 : 39\n",
      "0 : 52 : 40\n",
      "0 : 52 : 41\n",
      "0 : 52 : 42\n",
      "0 : 52 : 43\n",
      "0 : 52 : 44\n",
      "0 : 52 : 45\n",
      "0 : 52 : 46\n",
      "0 : 52 : 47\n",
      "0 : 52 : 48\n",
      "0 : 52 : 49\n",
      "0 : 52 : 50\n",
      "0 : 52 : 51\n",
      "0 : 52 : 52\n",
      "0 : 52 : 53\n",
      "0 : 52 : 54\n",
      "0 : 52 : 55\n",
      "0 : 52 : 56\n",
      "0 : 52 : 57\n",
      "0 : 52 : 58\n",
      "0 : 52 : 59\n",
      "0 : 53 : 0\n",
      "0 : 53 : 1\n",
      "0 : 53 : 2\n",
      "0 : 53 : 3\n",
      "0 : 53 : 4\n",
      "0 : 53 : 5\n",
      "0 : 53 : 6\n",
      "0 : 53 : 7\n",
      "0 : 53 : 8\n",
      "0 : 53 : 9\n",
      "0 : 53 : 10\n",
      "0 : 53 : 11\n",
      "0 : 53 : 12\n",
      "0 : 53 : 13\n",
      "0 : 53 : 14\n",
      "0 : 53 : 15\n",
      "0 : 53 : 16\n",
      "0 : 53 : 17\n",
      "0 : 53 : 18\n",
      "0 : 53 : 19\n",
      "0 : 53 : 20\n",
      "0 : 53 : 21\n",
      "0 : 53 : 22\n",
      "0 : 53 : 23\n",
      "0 : 53 : 24\n",
      "0 : 53 : 25\n",
      "0 : 53 : 26\n",
      "0 : 53 : 27\n",
      "0 : 53 : 28\n",
      "0 : 53 : 29\n",
      "0 : 53 : 30\n",
      "0 : 53 : 31\n",
      "0 : 53 : 32\n",
      "0 : 53 : 33\n",
      "0 : 53 : 34\n",
      "0 : 53 : 35\n",
      "0 : 53 : 36\n",
      "0 : 53 : 37\n",
      "0 : 53 : 38\n",
      "0 : 53 : 39\n",
      "0 : 53 : 40\n",
      "0 : 53 : 41\n",
      "0 : 53 : 42\n",
      "0 : 53 : 43\n",
      "0 : 53 : 44\n",
      "0 : 53 : 45\n",
      "0 : 53 : 46\n",
      "0 : 53 : 47\n",
      "0 : 53 : 48\n",
      "0 : 53 : 49\n",
      "0 : 53 : 50\n",
      "0 : 53 : 51\n",
      "0 : 53 : 52\n",
      "0 : 53 : 53\n",
      "0 : 53 : 54\n",
      "0 : 53 : 55\n",
      "0 : 53 : 56\n",
      "0 : 53 : 57\n",
      "0 : 53 : 58\n",
      "0 : 53 : 59\n",
      "0 : 54 : 0\n",
      "0 : 54 : 1\n",
      "0 : 54 : 2\n",
      "0 : 54 : 3\n",
      "0 : 54 : 4\n",
      "0 : 54 : 5\n",
      "0 : 54 : 6\n",
      "0 : 54 : 7\n",
      "0 : 54 : 8\n",
      "0 : 54 : 9\n",
      "0 : 54 : 10\n",
      "0 : 54 : 11\n",
      "0 : 54 : 12\n",
      "0 : 54 : 13\n",
      "0 : 54 : 14\n",
      "0 : 54 : 15\n",
      "0 : 54 : 16\n",
      "0 : 54 : 17\n",
      "0 : 54 : 18\n",
      "0 : 54 : 19\n",
      "0 : 54 : 20\n",
      "0 : 54 : 21\n",
      "0 : 54 : 22\n",
      "0 : 54 : 23\n",
      "0 : 54 : 24\n",
      "0 : 54 : 25\n",
      "0 : 54 : 26\n",
      "0 : 54 : 27\n",
      "0 : 54 : 28\n",
      "0 : 54 : 29\n",
      "0 : 54 : 30\n",
      "0 : 54 : 31\n",
      "0 : 54 : 32\n",
      "0 : 54 : 33\n",
      "0 : 54 : 34\n",
      "0 : 54 : 35\n",
      "0 : 54 : 36\n",
      "0 : 54 : 37\n",
      "0 : 54 : 38\n",
      "0 : 54 : 39\n",
      "0 : 54 : 40\n",
      "0 : 54 : 41\n",
      "0 : 54 : 42\n",
      "0 : 54 : 43\n",
      "0 : 54 : 44\n",
      "0 : 54 : 45\n",
      "0 : 54 : 46\n",
      "0 : 54 : 47\n",
      "0 : 54 : 48\n",
      "0 : 54 : 49\n",
      "0 : 54 : 50\n",
      "0 : 54 : 51\n",
      "0 : 54 : 52\n",
      "0 : 54 : 53\n",
      "0 : 54 : 54\n",
      "0 : 54 : 55\n",
      "0 : 54 : 56\n",
      "0 : 54 : 57\n",
      "0 : 54 : 58\n",
      "0 : 54 : 59\n",
      "0 : 55 : 0\n",
      "0 : 55 : 1\n",
      "0 : 55 : 2\n",
      "0 : 55 : 3\n",
      "0 : 55 : 4\n",
      "0 : 55 : 5\n",
      "0 : 55 : 6\n",
      "0 : 55 : 7\n",
      "0 : 55 : 8\n",
      "0 : 55 : 9\n",
      "0 : 55 : 10\n",
      "0 : 55 : 11\n",
      "0 : 55 : 12\n",
      "0 : 55 : 13\n",
      "0 : 55 : 14\n",
      "0 : 55 : 15\n",
      "0 : 55 : 16\n",
      "0 : 55 : 17\n",
      "0 : 55 : 18\n",
      "0 : 55 : 19\n",
      "0 : 55 : 20\n",
      "0 : 55 : 21\n",
      "0 : 55 : 22\n",
      "0 : 55 : 23\n",
      "0 : 55 : 24\n",
      "0 : 55 : 25\n",
      "0 : 55 : 26\n",
      "0 : 55 : 27\n",
      "0 : 55 : 28\n",
      "0 : 55 : 29\n",
      "0 : 55 : 30\n",
      "0 : 55 : 31\n",
      "0 : 55 : 32\n",
      "0 : 55 : 33\n",
      "0 : 55 : 34\n",
      "0 : 55 : 35\n",
      "0 : 55 : 36\n",
      "0 : 55 : 37\n",
      "0 : 55 : 38\n",
      "0 : 55 : 39\n",
      "0 : 55 : 40\n",
      "0 : 55 : 41\n",
      "0 : 55 : 42\n",
      "0 : 55 : 43\n",
      "0 : 55 : 44\n",
      "0 : 55 : 45\n",
      "0 : 55 : 46\n",
      "0 : 55 : 47\n",
      "0 : 55 : 48\n",
      "0 : 55 : 49\n",
      "0 : 55 : 50\n",
      "0 : 55 : 51\n",
      "0 : 55 : 52\n",
      "0 : 55 : 53\n",
      "0 : 55 : 54\n",
      "0 : 55 : 55\n",
      "0 : 55 : 56\n",
      "0 : 55 : 57\n",
      "0 : 55 : 58\n",
      "0 : 55 : 59\n",
      "0 : 56 : 0\n",
      "0 : 56 : 1\n",
      "0 : 56 : 2\n",
      "0 : 56 : 3\n",
      "0 : 56 : 4\n",
      "0 : 56 : 5\n",
      "0 : 56 : 6\n",
      "0 : 56 : 7\n",
      "0 : 56 : 8\n",
      "0 : 56 : 9\n",
      "0 : 56 : 10\n",
      "0 : 56 : 11\n",
      "0 : 56 : 12\n",
      "0 : 56 : 13\n",
      "0 : 56 : 14\n",
      "0 : 56 : 15\n",
      "0 : 56 : 16\n",
      "0 : 56 : 17\n",
      "0 : 56 : 18\n",
      "0 : 56 : 19\n",
      "0 : 56 : 20\n",
      "0 : 56 : 21\n",
      "0 : 56 : 22\n",
      "0 : 56 : 23\n",
      "0 : 56 : 24\n",
      "0 : 56 : 25\n",
      "0 : 56 : 26\n",
      "0 : 56 : 27\n",
      "0 : 56 : 28\n",
      "0 : 56 : 29\n",
      "0 : 56 : 30\n",
      "0 : 56 : 31\n",
      "0 : 56 : 32\n",
      "0 : 56 : 33\n",
      "0 : 56 : 34\n",
      "0 : 56 : 35\n",
      "0 : 56 : 36\n",
      "0 : 56 : 37\n",
      "0 : 56 : 38\n",
      "0 : 56 : 39\n",
      "0 : 56 : 40\n",
      "0 : 56 : 41\n",
      "0 : 56 : 42\n",
      "0 : 56 : 43\n",
      "0 : 56 : 44\n",
      "0 : 56 : 45\n",
      "0 : 56 : 46\n",
      "0 : 56 : 47\n",
      "0 : 56 : 48\n",
      "0 : 56 : 49\n",
      "0 : 56 : 50\n",
      "0 : 56 : 51\n",
      "0 : 56 : 52\n",
      "0 : 56 : 53\n",
      "0 : 56 : 54\n",
      "0 : 56 : 55\n",
      "0 : 56 : 56\n",
      "0 : 56 : 57\n",
      "0 : 56 : 58\n",
      "0 : 56 : 59\n",
      "0 : 57 : 0\n",
      "0 : 57 : 1\n",
      "0 : 57 : 2\n",
      "0 : 57 : 3\n",
      "0 : 57 : 4\n",
      "0 : 57 : 5\n",
      "0 : 57 : 6\n",
      "0 : 57 : 7\n",
      "0 : 57 : 8\n",
      "0 : 57 : 9\n",
      "0 : 57 : 10\n",
      "0 : 57 : 11\n",
      "0 : 57 : 12\n",
      "0 : 57 : 13\n",
      "0 : 57 : 14\n",
      "0 : 57 : 15\n",
      "0 : 57 : 16\n",
      "0 : 57 : 17\n",
      "0 : 57 : 18\n",
      "0 : 57 : 19\n",
      "0 : 57 : 20\n",
      "0 : 57 : 21\n",
      "0 : 57 : 22\n",
      "0 : 57 : 23\n",
      "0 : 57 : 24\n",
      "0 : 57 : 25\n",
      "0 : 57 : 26\n",
      "0 : 57 : 27\n",
      "0 : 57 : 28\n",
      "0 : 57 : 29\n",
      "0 : 57 : 30\n",
      "0 : 57 : 31\n",
      "0 : 57 : 32\n",
      "0 : 57 : 33\n",
      "0 : 57 : 34\n",
      "0 : 57 : 35\n",
      "0 : 57 : 36\n",
      "0 : 57 : 37\n",
      "0 : 57 : 38\n",
      "0 : 57 : 39\n",
      "0 : 57 : 40\n",
      "0 : 57 : 41\n",
      "0 : 57 : 42\n",
      "0 : 57 : 43\n",
      "0 : 57 : 44\n",
      "0 : 57 : 45\n",
      "0 : 57 : 46\n",
      "0 : 57 : 47\n",
      "0 : 57 : 48\n",
      "0 : 57 : 49\n",
      "0 : 57 : 50\n",
      "0 : 57 : 51\n",
      "0 : 57 : 52\n",
      "0 : 57 : 53\n",
      "0 : 57 : 54\n",
      "0 : 57 : 55\n",
      "0 : 57 : 56\n",
      "0 : 57 : 57\n",
      "0 : 57 : 58\n",
      "0 : 57 : 59\n",
      "0 : 58 : 0\n",
      "0 : 58 : 1\n",
      "0 : 58 : 2\n",
      "0 : 58 : 3\n",
      "0 : 58 : 4\n",
      "0 : 58 : 5\n",
      "0 : 58 : 6\n",
      "0 : 58 : 7\n",
      "0 : 58 : 8\n",
      "0 : 58 : 9\n",
      "0 : 58 : 10\n",
      "0 : 58 : 11\n",
      "0 : 58 : 12\n",
      "0 : 58 : 13\n",
      "0 : 58 : 14\n",
      "0 : 58 : 15\n",
      "0 : 58 : 16\n",
      "0 : 58 : 17\n",
      "0 : 58 : 18\n",
      "0 : 58 : 19\n",
      "0 : 58 : 20\n",
      "0 : 58 : 21\n",
      "0 : 58 : 22\n",
      "0 : 58 : 23\n",
      "0 : 58 : 24\n",
      "0 : 58 : 25\n",
      "0 : 58 : 26\n",
      "0 : 58 : 27\n",
      "0 : 58 : 28\n",
      "0 : 58 : 29\n",
      "0 : 58 : 30\n",
      "0 : 58 : 31\n",
      "0 : 58 : 32\n",
      "0 : 58 : 33\n",
      "0 : 58 : 34\n",
      "0 : 58 : 35\n",
      "0 : 58 : 36\n",
      "0 : 58 : 37\n",
      "0 : 58 : 38\n",
      "0 : 58 : 39\n",
      "0 : 58 : 40\n",
      "0 : 58 : 41\n",
      "0 : 58 : 42\n",
      "0 : 58 : 43\n",
      "0 : 58 : 44\n",
      "0 : 58 : 45\n",
      "0 : 58 : 46\n",
      "0 : 58 : 47\n",
      "0 : 58 : 48\n",
      "0 : 58 : 49\n",
      "0 : 58 : 50\n",
      "0 : 58 : 51\n",
      "0 : 58 : 52\n",
      "0 : 58 : 53\n",
      "0 : 58 : 54\n",
      "0 : 58 : 55\n",
      "0 : 58 : 56\n",
      "0 : 58 : 57\n",
      "0 : 58 : 58\n",
      "0 : 58 : 59\n",
      "0 : 59 : 0\n",
      "0 : 59 : 1\n",
      "0 : 59 : 2\n",
      "0 : 59 : 3\n",
      "0 : 59 : 4\n",
      "0 : 59 : 5\n",
      "0 : 59 : 6\n",
      "0 : 59 : 7\n",
      "0 : 59 : 8\n",
      "0 : 59 : 9\n",
      "0 : 59 : 10\n",
      "0 : 59 : 11\n",
      "0 : 59 : 12\n",
      "0 : 59 : 13\n",
      "0 : 59 : 14\n",
      "0 : 59 : 15\n",
      "0 : 59 : 16\n",
      "0 : 59 : 17\n",
      "0 : 59 : 18\n",
      "0 : 59 : 19\n",
      "0 : 59 : 20\n",
      "0 : 59 : 21\n",
      "0 : 59 : 22\n",
      "0 : 59 : 23\n",
      "0 : 59 : 24\n",
      "0 : 59 : 25\n",
      "0 : 59 : 26\n",
      "0 : 59 : 27\n",
      "0 : 59 : 28\n",
      "0 : 59 : 29\n",
      "0 : 59 : 30\n",
      "0 : 59 : 31\n",
      "0 : 59 : 32\n",
      "0 : 59 : 33\n",
      "0 : 59 : 34\n",
      "0 : 59 : 35\n",
      "0 : 59 : 36\n",
      "0 : 59 : 37\n",
      "0 : 59 : 38\n",
      "0 : 59 : 39\n",
      "0 : 59 : 40\n",
      "0 : 59 : 41\n",
      "0 : 59 : 42\n",
      "0 : 59 : 43\n",
      "0 : 59 : 44\n",
      "0 : 59 : 45\n",
      "0 : 59 : 46\n",
      "0 : 59 : 47\n",
      "0 : 59 : 48\n",
      "0 : 59 : 49\n",
      "0 : 59 : 50\n",
      "0 : 59 : 51\n",
      "0 : 59 : 52\n",
      "0 : 59 : 53\n",
      "0 : 59 : 54\n",
      "0 : 59 : 55\n",
      "0 : 59 : 56\n",
      "0 : 59 : 57\n",
      "0 : 59 : 58\n",
      "0 : 59 : 59\n"
     ]
    }
   ],
   "source": [
    "for hours in range(0, 1):\n",
    "    for minutes in range(60):\n",
    "        for seconds in range(60):\n",
    "            print(hours, ':', minutes, ':', seconds)"
   ]
  },
  {
   "cell_type": "code",
   "execution_count": 1757,
   "metadata": {},
   "outputs": [
    {
     "name": "stdout",
     "output_type": "stream",
     "text": [
      "1\n",
      "121\n",
      "12321\n",
      "1234321\n",
      "123454321\n"
     ]
    }
   ],
   "source": [
    "# Дано натуральное число n. Напишите программу, которая печатает численный треугольник с высотой, равной n\n",
    "\n",
    "n = 5\n",
    "\n",
    "for i in range(1, n + 1):\n",
    "    for j in range(1, i + 1):\n",
    "        print(j, end='')\n",
    "    for k in range(i - 1, 0, -1):\n",
    "        print(k, end='')\n",
    "    print()"
   ]
  },
  {
   "cell_type": "code",
   "execution_count": 1758,
   "metadata": {},
   "outputs": [
    {
     "name": "stdout",
     "output_type": "stream",
     "text": [
      "1\n",
      "121\n",
      "121321\n"
     ]
    }
   ],
   "source": [
    "n = 3\n",
    "\n",
    "for i in range(1, n + 1):\n",
    "    for j in range(1, i + 1):\n",
    "        print(j, end='')\n",
    "        for k in range(j - 1, 0, -1):\n",
    "            print(k, end='')\n",
    "    print()"
   ]
  },
  {
   "cell_type": "code",
   "execution_count": 1759,
   "metadata": {},
   "outputs": [
    {
     "name": "stdout",
     "output_type": "stream",
     "text": [
      "*\n",
      "**\n",
      "***\n",
      "****\n",
      "*****\n",
      "******\n",
      "*****\n",
      "****\n",
      "***\n",
      "**\n",
      "*\n"
     ]
    }
   ],
   "source": [
    "# Дано нечётное натуральное число n.\n",
    "# Напишите программу, которая печатает равнобедренный звездный треугольник с основанием, равным n\n",
    "\n",
    "# n = int(input())\n",
    "n = 10\n",
    "\n",
    "for i in range(1, n // 2 + 1):\n",
    "    for j in range(1, i + 1):\n",
    "        print('*', end='')\n",
    "    print()\n",
    "for i in range(n // 2 + 1, 0, -1):\n",
    "    for j in range(1, i + 1):\n",
    "        print('*', end='')\n",
    "    print()"
   ]
  },
  {
   "cell_type": "code",
   "execution_count": 1760,
   "metadata": {},
   "outputs": [
    {
     "name": "stdout",
     "output_type": "stream",
     "text": [
      "*     *\n",
      " *   * \n",
      "  * *  \n",
      "   *   \n",
      "  * *  \n",
      " *   * \n",
      "*     *\n"
     ]
    }
   ],
   "source": [
    "s = '*'\n",
    "n = 7\n",
    "\n",
    "for i in range(n):\n",
    "    for j in range(n):\n",
    "        if i == n - j - 1 or i == j:\n",
    "            print(s, end='')\n",
    "        else:\n",
    "            print(' ', end='')\n",
    "    print()"
   ]
  },
  {
   "cell_type": "code",
   "execution_count": 1761,
   "metadata": {},
   "outputs": [
    {
     "name": "stdout",
     "output_type": "stream",
     "text": [
      "56 120\n"
     ]
    }
   ],
   "source": [
    "# На вход программе подаются два натуральных числа a и b. \n",
    "# Напишите программу, которая находит натуральное число из отрезка [a;b] с максимальной суммой делителей. \n",
    "# Если чисел с максимальной суммой делителей несколько, то искомым числом является наибольшее из них. \n",
    "# Ваша программа должна выводить ответ в следующем формате:\n",
    "# <число с максимальной суммой делителей> <сумма делителей этого числа>\n",
    "\n",
    "a = 49\n",
    "b = 56\n",
    "total_max = 0\n",
    "num = 0\n",
    "\n",
    "for i in range(a, b + 1):\n",
    "    total = 0\n",
    "    for j in range(1, i + 1):\n",
    "        if i % j == 0:\n",
    "            total += j\n",
    "    if total >= total_max and i > num:\n",
    "        total_max = total\n",
    "        num = i\n",
    "print(num, total_max)"
   ]
  },
  {
   "cell_type": "code",
   "execution_count": 1762,
   "metadata": {},
   "outputs": [
    {
     "name": "stdout",
     "output_type": "stream",
     "text": [
      "1+\n",
      "2++\n",
      "3++\n",
      "4+++\n",
      "5++\n"
     ]
    }
   ],
   "source": [
    "# На вход программе подаётся натуральное число n. \n",
    "# Напишите программу, выводящую графическое изображение делимости чисел от 1 до n включительно. \n",
    "# В каждой строке надо напечатать очередное число и столько символов «+», сколько делителей у этого числа.\n",
    "\n",
    "# n = int(input())\n",
    "n = 5\n",
    "\n",
    "for i in range(1, n + 1):\n",
    "    total = 0\n",
    "    print(i, end='')\n",
    "    for j in range(1, i + 1):\n",
    "        if i % j == 0:\n",
    "            total += 1\n",
    "    print('+' * total)"
   ]
  },
  {
   "cell_type": "code",
   "execution_count": 1763,
   "metadata": {},
   "outputs": [
    {
     "name": "stdout",
     "output_type": "stream",
     "text": [
      "7\n"
     ]
    }
   ],
   "source": [
    "# На вход программе подаётся натуральное число n. Напишите программу, которая находит цифровой корень данного числа. \n",
    "# Цифровой корень числа n получается следующим образом: если сложить все цифры этого числа, \n",
    "# затем все цифры найденной суммы и повторять этот процесс до тех пор, пока в результате не будет получено однозначное число (цифра), \n",
    "# которое и называется цифровым корнем первоначального числа n.\n",
    "\n",
    "n = 952\n",
    "\n",
    "while n > 9:\n",
    "    total = 0\n",
    "    while n > 0:\n",
    "        last_digit = n % 10\n",
    "        total += last_digit\n",
    "        n //= 10\n",
    "    else:\n",
    "        n = total\n",
    "else:\n",
    "    print(n)"
   ]
  },
  {
   "cell_type": "code",
   "execution_count": 1764,
   "metadata": {},
   "outputs": [
    {
     "name": "stdout",
     "output_type": "stream",
     "text": [
      "9\n"
     ]
    }
   ],
   "source": [
    "# Сумма факториалов\n",
    "\n",
    "n = 3\n",
    "fact_sum = 0\n",
    "\n",
    "for i in range(1, n + 1):\n",
    "    fact = 1\n",
    "    for j in range(1, i + 1):\n",
    "        fact *= j\n",
    "    fact_sum += fact\n",
    "print(fact_sum)"
   ]
  },
  {
   "cell_type": "code",
   "execution_count": 1765,
   "metadata": {},
   "outputs": [
    {
     "name": "stdout",
     "output_type": "stream",
     "text": [
      "2\n",
      "3\n",
      "5\n",
      "7\n"
     ]
    }
   ],
   "source": [
    "# На вход программе подается два натуральных числа a и b (a < b). \n",
    "# Напишите программу, которая находит все простые числа от a до b включительно.\n",
    "\n",
    "a, b = 2, 9\n",
    "\n",
    "for i in range(a, b + 1):\n",
    "    count = 0\n",
    "    for j in range(1, b + 1):\n",
    "        if i % j == 0:\n",
    "            count += 1\n",
    "    if count == 2:\n",
    "        print(i)"
   ]
  },
  {
   "cell_type": "code",
   "execution_count": 1766,
   "metadata": {},
   "outputs": [
    {
     "name": "stdout",
     "output_type": "stream",
     "text": [
      "2\n",
      "3\n",
      "5\n",
      "7\n"
     ]
    }
   ],
   "source": [
    "a, b = 2, 9\n",
    "\n",
    "for i in range(a, b + 1):\n",
    "    if i == 1:\n",
    "        continue\n",
    "    \n",
    "    for j in range(2, i):\n",
    "        if i % j == 0:\n",
    "            break\n",
    "    else:\n",
    "        print(i)"
   ]
  },
  {
   "cell_type": "markdown",
   "metadata": {},
   "source": [
    "# Использование вложенных циклов при решении уравнений"
   ]
  },
  {
   "cell_type": "code",
   "execution_count": 1767,
   "metadata": {},
   "outputs": [
    {
     "name": "stdout",
     "output_type": "stream",
     "text": [
      "x = 3 y = 57\n",
      "x = 16 y = 45\n",
      "x = 29 y = 33\n",
      "x = 42 y = 21\n",
      "x = 55 y = 9\n",
      "Общее количество натуральных решений = 5\n"
     ]
    }
   ],
   "source": [
    "# Уравнение 12*x + 13*y = 777\n",
    "# x <= 64, так как при x = 65 -> 12*65 > 777. Аналогично для y, y <= 59\n",
    "\n",
    "total = 0\n",
    "for x in range(1, 65):\n",
    "    for y in range(1, 60):\n",
    "        if 12 * x + 13 * y == 777:\n",
    "            total += 1\n",
    "            print('x =', x, 'y =', y)\n",
    "print('Общее количество натуральных решений =', total)"
   ]
  },
  {
   "cell_type": "code",
   "execution_count": 1768,
   "metadata": {},
   "outputs": [
    {
     "name": "stdout",
     "output_type": "stream",
     "text": [
      "x = 18 y = 20 z = 36\n",
      "x = 18 y = 36 z = 20\n",
      "x = 20 y = 18 z = 36\n",
      "x = 20 y = 36 z = 18\n",
      "x = 36 y = 18 z = 20\n",
      "x = 36 y = 20 z = 18\n",
      "Общее количество натуральных решений = 6\n"
     ]
    }
   ],
   "source": [
    "# Найдите все решения уравнения (и их количество),  x**2 + y**2 + z**2 = 2020\n",
    "\n",
    "total = 0\n",
    "for x in range(1, 45):\n",
    "    for y in range(1, 45):\n",
    "        for z in range(1, 45):\n",
    "            if x ** 2 + y ** 2 + z ** 2 == 2020:\n",
    "                total += 1\n",
    "                print('x =', x, 'y =', y, 'z =', z)\n",
    "print('Общее количество натуральных решений =', total)"
   ]
  },
  {
   "cell_type": "code",
   "execution_count": 1769,
   "metadata": {},
   "outputs": [
    {
     "name": "stdout",
     "output_type": "stream",
     "text": [
      "2 8 80\n"
     ]
    }
   ],
   "source": [
    "# Купить 90 предметов ровно на 100 рублей\n",
    "\n",
    "for n in range(1, 100):\n",
    "    for k in range(1, 100):\n",
    "        for m in range(1, 100):\n",
    "            if 10*n + 5*k + 0.5*m == 100 and n + k + m == 90:\n",
    "                print(n, k, m)"
   ]
  },
  {
   "cell_type": "markdown",
   "metadata": {},
   "source": [
    "# 9.1  Индексация"
   ]
  },
  {
   "cell_type": "code",
   "execution_count": 1770,
   "metadata": {},
   "outputs": [
    {
     "name": "stdout",
     "output_type": "stream",
     "text": [
      "39\n",
      "w\n",
      "w\n"
     ]
    }
   ],
   "source": [
    "s = \"In 2010, someone paid 10k Bitcoin for two pizzas.\"\n",
    "\n",
    "print(s.find('w'))\n",
    "print(s[39])\n",
    "print(s[-10])"
   ]
  },
  {
   "cell_type": "markdown",
   "metadata": {},
   "source": [
    "# 9.2 Срезы"
   ]
  },
  {
   "cell_type": "code",
   "execution_count": 1771,
   "metadata": {},
   "outputs": [
    {
     "name": "stdout",
     "output_type": "stream",
     "text": [
      "gda\n"
     ]
    }
   ],
   "source": [
    "s = 'abcdefg'\n",
    "print(s[::-3])"
   ]
  },
  {
   "cell_type": "code",
   "execution_count": 1772,
   "metadata": {},
   "outputs": [
    {
     "name": "stdout",
     "output_type": "stream",
     "text": [
      "I learn pYTHON laNGUAge\n"
     ]
    }
   ],
   "source": [
    "s = 'i LEARN Python LAnguaGE'\n",
    "print(s.swapcase())"
   ]
  },
  {
   "cell_type": "markdown",
   "metadata": {},
   "source": [
    "# 9.3 Методы строк"
   ]
  },
  {
   "cell_type": "code",
   "execution_count": 1773,
   "metadata": {},
   "outputs": [
    {
     "name": "stdout",
     "output_type": "stream",
     "text": [
      "YES\n"
     ]
    }
   ],
   "source": [
    "# На вход программе подаётся строка, состоящая из имени и фамилии человека, разделённых одним пробелом. \n",
    "# Напишите программу, которая проверяет, что имя и фамилия начинаются с заглавной буквы.\n",
    "\n",
    "flag = True\n",
    "words = 'Chris Alan'\n",
    "for word in words.split():\n",
    "    if word[0] != word[0].upper():\n",
    "        flag = False\n",
    "print(('NO', 'YES')[flag])"
   ]
  },
  {
   "cell_type": "code",
   "execution_count": 1774,
   "metadata": {},
   "outputs": [
    {
     "name": "stdout",
     "output_type": "stream",
     "text": [
      "YES\n"
     ]
    }
   ],
   "source": [
    "s = 'Chris Alan'\n",
    "\n",
    "if s == s.title():\n",
    "    print(\"YES\")\n",
    "else:\n",
    "    print(\"NO\")"
   ]
  },
  {
   "cell_type": "code",
   "execution_count": 1775,
   "metadata": {},
   "outputs": [
    {
     "name": "stdout",
     "output_type": "stream",
     "text": [
      "3\n"
     ]
    }
   ],
   "source": [
    "# На вход программе подается строка. \n",
    "# Напишите программу, которая подсчитывает количество буквенных символов в нижнем регистре.\n",
    "\n",
    "s = 'abcABCD12345'\n",
    "cnt = 0\n",
    "\n",
    "for el in s:\n",
    "    if el != el.upper():\n",
    "        cnt += 1\n",
    "        \n",
    "print(cnt)"
   ]
  },
  {
   "cell_type": "code",
   "execution_count": 1776,
   "metadata": {},
   "outputs": [
    {
     "name": "stdout",
     "output_type": "stream",
     "text": [
      "3\n",
      "2\n"
     ]
    }
   ],
   "source": [
    "# Метод count()\n",
    "\n",
    "s = 'foo goo moo'\n",
    "print(s.count('oo'))\n",
    "print(s.count('oo', 0, 8))"
   ]
  },
  {
   "cell_type": "code",
   "execution_count": 1777,
   "metadata": {},
   "outputs": [
    {
     "name": "stdout",
     "output_type": "stream",
     "text": [
      "True\n",
      "False\n"
     ]
    }
   ],
   "source": [
    "# Метод startswith()\n",
    "\n",
    "s = 'foobar'\n",
    "print(s.startswith('foo'))\n",
    "print(s.startswith('baz'))"
   ]
  },
  {
   "cell_type": "code",
   "execution_count": 1778,
   "metadata": {},
   "outputs": [
    {
     "name": "stdout",
     "output_type": "stream",
     "text": [
      "True\n",
      "False\n"
     ]
    }
   ],
   "source": [
    "# Метод endswith()\n",
    "\n",
    "s = 'foobar'\n",
    "print(s.endswith('bar'))\n",
    "print(s.endswith('baz'))"
   ]
  },
  {
   "cell_type": "code",
   "execution_count": 1779,
   "metadata": {},
   "outputs": [
    {
     "name": "stdout",
     "output_type": "stream",
     "text": [
      "0\n",
      "4\n",
      "20\n",
      "-1\n",
      "\n",
      "16\n"
     ]
    }
   ],
   "source": [
    "# Методы find(), rfind()\n",
    "\n",
    "s = 'foo bar foo baz foo qux'\n",
    "print(s.find('foo'))\n",
    "print(s.find('bar'))\n",
    "print(s.find('qu'))\n",
    "print(s.find('python'))\n",
    "print()\n",
    "print(s.rfind('foo')) # ищет справа-налево"
   ]
  },
  {
   "cell_type": "code",
   "execution_count": 1780,
   "metadata": {},
   "outputs": [],
   "source": [
    "# Методы index(), rindex()\n",
    "\n",
    "# Метод index(<sub>, <start>, <end>) идентичен методу find(<sub>, <start>, <end>), за тем исключением, \n",
    "# что он вызывает ошибку ValueError: substring not found во время выполнения программы, если подстрока <sub> не найдена."
   ]
  },
  {
   "cell_type": "code",
   "execution_count": 1781,
   "metadata": {},
   "outputs": [
    {
     "name": "stdout",
     "output_type": "stream",
     "text": [
      "foo bar foo baz foo qux\n",
      "foo bar foo baz foo qux      \n",
      "     foo bar foo baz foo qux\n"
     ]
    }
   ],
   "source": [
    "# Метод strip(), lstrip() и rstrip()\n",
    "\n",
    "s = '     foo bar foo baz foo qux      '\n",
    "print(s.strip())\n",
    "print(s.lstrip())\n",
    "print(s.rstrip())"
   ]
  },
  {
   "cell_type": "code",
   "execution_count": 1782,
   "metadata": {},
   "outputs": [
    {
     "name": "stdout",
     "output_type": "stream",
     "text": [
      "grault bar grault baz foo qux\n"
     ]
    }
   ],
   "source": [
    "# Метод replace()\n",
    "\n",
    "s = 'foo bar foo baz foo qux'\n",
    "print(s.replace('foo', 'grault', 2))"
   ]
  },
  {
   "cell_type": "code",
   "execution_count": 1783,
   "metadata": {},
   "outputs": [
    {
     "name": "stdout",
     "output_type": "stream",
     "text": [
      "True\n",
      "False\n",
      "False\n"
     ]
    }
   ],
   "source": [
    "# Метод isalnum() - из букв и цифр\n",
    "# Метод isalpha() - из букв\n",
    "# Метод isdigit() - из цифр\n",
    "# Метод islower() - все в нижнем регистре\n",
    "# Метод isupper() - все в верхнем регистре\n",
    "# Метод isspace() - только из пробельных символов\n",
    "\n",
    "s = 'aabbAA111ccDDaa'\n",
    "print(s.isalnum())\n",
    "print(s.isalpha())\n",
    "print(s.isdigit())"
   ]
  },
  {
   "cell_type": "code",
   "execution_count": 1784,
   "metadata": {},
   "outputs": [
    {
     "name": "stdout",
     "output_type": "stream",
     "text": [
      "True\n"
     ]
    }
   ],
   "source": [
    "s = 'aabb!@#$11cc'\n",
    "print(s.islower())"
   ]
  },
  {
   "cell_type": "code",
   "execution_count": 1785,
   "metadata": {},
   "outputs": [
    {
     "name": "stdout",
     "output_type": "stream",
     "text": [
      "False\n"
     ]
    }
   ],
   "source": [
    "s = 'AAb!@#$11CC'\n",
    "print(s.isupper())"
   ]
  },
  {
   "cell_type": "code",
   "execution_count": 1786,
   "metadata": {},
   "outputs": [
    {
     "name": "stdout",
     "output_type": "stream",
     "text": [
      "False\n",
      "False\n"
     ]
    }
   ],
   "source": [
    "print('2024-05-19'.islower())\n",
    "print('2024-05-19'.isupper())"
   ]
  },
  {
   "cell_type": "code",
   "execution_count": 1787,
   "metadata": {},
   "outputs": [
    {
     "name": "stdout",
     "output_type": "stream",
     "text": [
      "False\n",
      "True\n"
     ]
    }
   ],
   "source": [
    "s = '    abbc    '\n",
    "print(s.isspace())\n",
    "\n",
    "s = '      '\n",
    "print(s.isspace())"
   ]
  },
  {
   "cell_type": "code",
   "execution_count": 1788,
   "metadata": {},
   "outputs": [
    {
     "data": {
      "text/plain": [
       "True"
      ]
     },
     "execution_count": 1788,
     "metadata": {},
     "output_type": "execute_result"
    }
   ],
   "source": [
    "'a' > 'A'"
   ]
  },
  {
   "cell_type": "code",
   "execution_count": 1789,
   "metadata": {},
   "outputs": [
    {
     "data": {
      "text/plain": [
       "True"
      ]
     },
     "execution_count": 1789,
     "metadata": {},
     "output_type": "execute_result"
    }
   ],
   "source": [
    "'4' < '5'"
   ]
  },
  {
   "cell_type": "code",
   "execution_count": 1790,
   "metadata": {},
   "outputs": [
    {
     "name": "stdout",
     "output_type": "stream",
     "text": [
      "11\n",
      "9\n",
      "109\n"
     ]
    }
   ],
   "source": [
    "print(max(9, 10, 11))\n",
    "print(max('9', '10', '11'))\n",
    "print(min('9', '10', '11') + max('9', '10', '11'))"
   ]
  },
  {
   "cell_type": "code",
   "execution_count": 1791,
   "metadata": {},
   "outputs": [
    {
     "name": "stdout",
     "output_type": "stream",
     "text": [
      "-3\n",
      "-1\n"
     ]
    }
   ],
   "source": [
    "# Нужно написать программу, которая выводит на экран сумму всех отрицательных чисел последовательности и максимальное отрицательное число в последовательности. \n",
    "# Если отрицательных чисел нет, требуется вывести на экран «NO» (без кавычек). Программист торопился и написал программу неправильно.\n",
    "\n",
    "my_list = [3, -1, 4, -2]\n",
    "mx = 0\n",
    "s = 0\n",
    "\n",
    "for x in my_list:\n",
    "    if x < 0:\n",
    "        s += x\n",
    "        if mx == 0 or x > mx:\n",
    "            mx = x\n",
    "if s:            \n",
    "    print(s)\n",
    "    print(mx)\n",
    "else:\n",
    "    print('NO')"
   ]
  },
  {
   "cell_type": "code",
   "execution_count": 1792,
   "metadata": {},
   "outputs": [
    {
     "data": {
      "text/plain": [
       "1346269"
      ]
     },
     "execution_count": 1792,
     "metadata": {},
     "output_type": "execute_result"
    }
   ],
   "source": [
    "fib = lambda x : 1 if x <= 2 else fib(x - 1) + fib(x - 2)\n",
    "fib(31)"
   ]
  },
  {
   "cell_type": "code",
   "execution_count": 1793,
   "metadata": {},
   "outputs": [
    {
     "name": "stdout",
     "output_type": "stream",
     "text": [
      "455667"
     ]
    }
   ],
   "source": [
    "for i in range(1, 4):\n",
    "    for j in range(3, 5):\n",
    "        print(i + j, end='')"
   ]
  },
  {
   "cell_type": "code",
   "execution_count": 1794,
   "metadata": {},
   "outputs": [
    {
     "data": {
      "text/plain": [
       "False"
      ]
     },
     "execution_count": 1794,
     "metadata": {},
     "output_type": "execute_result"
    }
   ],
   "source": [
    "s = 'asdas2d'\n",
    "\n",
    "s.isalpha()"
   ]
  },
  {
   "cell_type": "code",
   "execution_count": 1795,
   "metadata": {},
   "outputs": [
    {
     "name": "stdout",
     "output_type": "stream",
     "text": [
      "NO\n"
     ]
    }
   ],
   "source": [
    "# n = int(input())\n",
    "n = 12445\n",
    "\n",
    "max_digit = 0\n",
    "while n > 0:\n",
    "    digit = n % 10\n",
    "    if digit % 3 == 0:\n",
    "        if digit > max_digit:\n",
    "            max_digit = digit\n",
    "    n = n // 10\n",
    "if max_digit == 0:\n",
    "    print('NO')\n",
    "else:\n",
    "    print(max_digit)"
   ]
  },
  {
   "cell_type": "code",
   "execution_count": 1796,
   "metadata": {},
   "outputs": [
    {
     "name": "stdout",
     "output_type": "stream",
     "text": [
      "['Red', 'Orange', 'Yellow', 'Зеленый', 'Blue', 'Indigo', 'Фиолетовый']\n"
     ]
    }
   ],
   "source": [
    "# Элемент списка имеющий значение Green заменить на значение Зеленый, а элемент Violet на Фиолетовый. \n",
    "# Далее необходимо вывести полученный список.\n",
    "\n",
    "rainbow = ['Red', 'Orange', 'Yellow', 'Green', 'Blue', 'Indigo', 'Violet']\n",
    "rainbow[rainbow.index('Green')] = 'Зеленый'\n",
    "rainbow[rainbow.index('Violet')] = 'Фиолетовый'\n",
    "\n",
    "print(rainbow)"
   ]
  },
  {
   "cell_type": "code",
   "execution_count": 1797,
   "metadata": {},
   "outputs": [
    {
     "data": {
      "text/plain": [
       "['Red', 'Orange', 'Yellow', 'Зеленый', 'Blue', 'Indigo', 'Фиолетовый']"
      ]
     },
     "execution_count": 1797,
     "metadata": {},
     "output_type": "execute_result"
    }
   ],
   "source": [
    "rainbow = ['Red', 'Orange', 'Yellow', 'Green', 'Blue', 'Indigo', 'Violet']\n",
    "for i in range(len(rainbow)):\n",
    "    if rainbow[i] == 'Green':\n",
    "        rainbow[i] = 'Зеленый'\n",
    "    if rainbow[i] == 'Violet':\n",
    "        rainbow[i] = 'Фиолетовый'\n",
    "\n",
    "rainbow"
   ]
  },
  {
   "cell_type": "code",
   "execution_count": 1798,
   "metadata": {},
   "outputs": [
    {
     "name": "stdout",
     "output_type": "stream",
     "text": [
      "['Lahnda', 'Japanese', 'Russian', 'Portuguese', 'Bengali', 'Arabic', 'Hindi', 'English', 'Spanish', 'Chinese']\n"
     ]
    }
   ],
   "source": [
    "# Список в обратном порядке\n",
    "\n",
    "languages = ['Chinese', 'Spanish', 'English', 'Hindi', 'Arabic', 'Bengali', 'Portuguese', 'Russian', 'Japanese', 'Lahnda']\n",
    "print(languages[::-1])"
   ]
  },
  {
   "cell_type": "code",
   "execution_count": 1799,
   "metadata": {},
   "outputs": [
    {
     "name": "stdout",
     "output_type": "stream",
     "text": [
      "['Lahnda', 'Japanese', 'Russian', 'Portuguese', 'Bengali', 'Arabic', 'Hindi', 'English', 'Spanish', 'Chinese']\n"
     ]
    }
   ],
   "source": [
    "languages = ['Chinese', 'Spanish', 'English', 'Hindi', 'Arabic', 'Bengali', 'Portuguese', 'Russian', 'Japanese', 'Lahnda']\n",
    "languages.reverse()\n",
    "print(languages)"
   ]
  },
  {
   "cell_type": "code",
   "execution_count": 1800,
   "metadata": {},
   "outputs": [
    {
     "name": "stdout",
     "output_type": "stream",
     "text": [
      "[1, 2, 3, 1, 2, 3, 6, 6, 7, 8, 9, 10, 11, 12, 13]\n"
     ]
    }
   ],
   "source": [
    "numbers1 = [1, 2, 3]\n",
    "numbers2 = [6]\n",
    "numbers3 = [7, 8, 9, 10, 11, 12, 13]\n",
    "\n",
    "print(numbers1 * 2 + numbers2 * 2 + numbers3)"
   ]
  },
  {
   "cell_type": "code",
   "execution_count": 1801,
   "metadata": {},
   "outputs": [
    {
     "name": "stdout",
     "output_type": "stream",
     "text": [
      "50\n",
      "5\n",
      "[5, 7, 6, 16, 14, 2, 1, 15, 1, 9, 14, 10, 2, 1, 12, 6, 5, 14, 12, 2, 8, 14, 6, 0, 0, 12, 10, 10, 11, 1, 5, 8, 10, 10, 16, 8, 0, 1, 16, 4, 5, 12, 16, 11, 4, 10, 14, 3, 6, 2]\n",
      "NO\n",
      "[6, 3, 14, 10, 4, 11, 16, 12, 5, 4, 16, 1, 0, 8, 16, 10, 10, 8, 5, 1, 11, 10, 10, 12, 0, 0, 6, 14, 8, 2, 12, 14, 5, 6, 12, 1, 2, 10, 14, 9, 1, 15, 1, 2, 14, 16, 6, 7]\n"
     ]
    }
   ],
   "source": [
    "# Дополните приведенный код, чтобы он:\n",
    "\n",
    "# Вывел длину списка;\n",
    "# Вывел последний элемент списка;\n",
    "# Вывел список в обратном порядке (вспоминаем срезы);\n",
    "# Вывел YES, если список содержит числа 5 и 17, и NO в противном случае;\n",
    "# Вывел список с удаленными первым и последним элементами.\n",
    "\n",
    "numbers = [2, 6, 3, 14, 10, 4, 11, 16, 12, 5, 4, 16, 1, 0, 8, 16, 10, 10, 8, 5, 1, 11, 10, 10, 12, 0, 0, 6, 14, 8, 2, 12, 14, 5, 6, 12, 1, 2, 10, 14, 9, 1, 15, 1, 2, 14, 16, 6, 7, 5]\n",
    "\n",
    "print(len(numbers))\n",
    "print(numbers[-1])\n",
    "print(numbers[::-1])\n",
    "print(('NO','YES')[5 in numbers and 17 in numbers])\n",
    "print(numbers[1:-1])"
   ]
  },
  {
   "cell_type": "code",
   "execution_count": 1802,
   "metadata": {},
   "outputs": [
    {
     "name": "stdout",
     "output_type": "stream",
     "text": [
      "a\n",
      "bb\n",
      "ccc\n",
      "dddd\n",
      "eeeee\n",
      "ffffff\n",
      "ggggggg\n",
      "hhhhhhhh\n",
      "iiiiiiiii\n",
      "jjjjjjjjjj\n",
      "kkkkkkkkkkk\n",
      "llllllllllll\n",
      "mmmmmmmmmmmmm\n",
      "nnnnnnnnnnnnnn\n",
      "ooooooooooooooo\n",
      "pppppppppppppppp\n",
      "qqqqqqqqqqqqqqqqq\n",
      "rrrrrrrrrrrrrrrrrr\n",
      "sssssssssssssssssss\n",
      "tttttttttttttttttttt\n",
      "uuuuuuuuuuuuuuuuuuuuu\n",
      "vvvvvvvvvvvvvvvvvvvvvv\n",
      "wwwwwwwwwwwwwwwwwwwwwww\n",
      "xxxxxxxxxxxxxxxxxxxxxxxx\n",
      "yyyyyyyyyyyyyyyyyyyyyyyyy\n",
      "zzzzzzzzzzzzzzzzzzzzzzzzzz\n",
      "['a', 'bb', 'ccc', 'dddd', 'eeeee', 'ffffff', 'ggggggg', 'hhhhhhhh', 'iiiiiiiii', 'jjjjjjjjjj', 'kkkkkkkkkkk', 'llllllllllll', 'mmmmmmmmmmmmm', 'nnnnnnnnnnnnnn', 'ooooooooooooooo', 'pppppppppppppppp', 'qqqqqqqqqqqqqqqqq', 'rrrrrrrrrrrrrrrrrr', 'sssssssssssssssssss', 'tttttttttttttttttttt', 'uuuuuuuuuuuuuuuuuuuuu', 'vvvvvvvvvvvvvvvvvvvvvv', 'wwwwwwwwwwwwwwwwwwwwwww', 'xxxxxxxxxxxxxxxxxxxxxxxx', 'yyyyyyyyyyyyyyyyyyyyyyyyy', 'zzzzzzzzzzzzzzzzzzzzzzzzzz']\n"
     ]
    }
   ],
   "source": [
    "arr = []\n",
    "\n",
    "for i in range(ord('a'), ord('z') + 1):\n",
    "    arr.append(chr(i) * (i - ord('a') + 1))\n",
    "    print(chr(i) * (i - ord('a') + 1))\n",
    "\n",
    "print(arr)"
   ]
  },
  {
   "cell_type": "code",
   "execution_count": 1803,
   "metadata": {},
   "outputs": [
    {
     "name": "stdout",
     "output_type": "stream",
     "text": [
      "[1, 5, 25]\n"
     ]
    }
   ],
   "source": [
    "# На вход программе подается натуральное число n. \n",
    "# Напишите программу, которая создает список, состоящий из делителей введенного числа.\n",
    "\n",
    "n = 25\n",
    "arr = []\n",
    "\n",
    "for i in range(1, n + 1):\n",
    "    if n % i == 0:\n",
    "        arr.append(i)\n",
    "print(arr)"
   ]
  },
  {
   "cell_type": "code",
   "execution_count": 1804,
   "metadata": {},
   "outputs": [
    {
     "name": "stdout",
     "output_type": "stream",
     "text": [
      "[1, 5, 25]\n"
     ]
    }
   ],
   "source": [
    "n = 25\n",
    "arr = []\n",
    "\n",
    "for i in range(1, n // 2 + 1):\n",
    "    if n % i == 0:\n",
    "        arr.append(i)\n",
    "arr.append(n)\n",
    "print(arr)"
   ]
  },
  {
   "cell_type": "code",
   "execution_count": 1805,
   "metadata": {},
   "outputs": [
    {
     "name": "stdout",
     "output_type": "stream",
     "text": [
      "00:00:25\n",
      "00:00:25\n",
      "00:00:25\n"
     ]
    }
   ],
   "source": [
    "# Часы\n",
    "\n",
    "s = 129700\n",
    "\n",
    "h = n % (24 * 3600) // 3600\n",
    "m = n // 60 % 60\n",
    "s = n % 60 \n",
    "\n",
    "print(h // 10, h % 10, \":\" ,m // 10 , m % 10, \":\" ,s // 10, s % 10, sep = '')\n",
    "\n",
    "print(f'{str(h).rjust(2, \"0\")}:{str(m).rjust(2, \"0\")}:{str(s).rjust(2, \"0\")}')\n",
    "\n",
    "print(f'{h:02}:{m:02}:{s:02}')"
   ]
  },
  {
   "cell_type": "code",
   "execution_count": 1806,
   "metadata": {},
   "outputs": [
    {
     "name": "stdout",
     "output_type": "stream",
     "text": [
      "3 2 1\n",
      "36 25 14\n",
      "8.660254037844387\n"
     ]
    }
   ],
   "source": [
    "# Вводятся два трёхзначных числа. Составить из них три двузначных числа по следующему принципу: первое число состоит из цифр сотен первого и второго числа, \n",
    "# второе - из цифр десятков, третье - из единиц. Затем найти сумму полученных чисел. На экран вывести квадратный корень из вычисленной суммы.\n",
    "\n",
    "# Например, даны числа 123 и 456. Из них составляем числа 14, 25 и 36. Сумма этих чисел равна 14 + 25 + 36 = 75, квадратный корень из этого числа 8.660254037844387\n",
    "\n",
    "# a, b = int(input()), int(input())\n",
    "a, b = 123, 456\n",
    "\n",
    "f_sum = ''\n",
    "s_sum = ''\n",
    "t_sum = ''\n",
    "\n",
    "for n in [a, b]:\n",
    "    t_sum += str(n % 10)\n",
    "    s_sum += str(n % 100 // 10)\n",
    "    f_sum += str(n % 1000 // 100)\n",
    "    print(t_sum, s_sum, f_sum)\n",
    "print((int(t_sum) + int(s_sum) + int(f_sum))**0.5)"
   ]
  },
  {
   "cell_type": "code",
   "execution_count": 1807,
   "metadata": {},
   "outputs": [
    {
     "data": {
      "text/plain": [
       "'012'"
      ]
     },
     "execution_count": 1807,
     "metadata": {},
     "output_type": "execute_result"
    }
   ],
   "source": [
    "a = ''\n",
    "\n",
    "for n in range(3):\n",
    "    a += str(n)\n",
    "a"
   ]
  },
  {
   "cell_type": "code",
   "execution_count": 1808,
   "metadata": {},
   "outputs": [
    {
     "name": "stdout",
     "output_type": "stream",
     "text": [
      "31 29 27 25 23 21 "
     ]
    }
   ],
   "source": [
    "# a, b = int(input()), int(input())\n",
    "a, b = 31, 21\n",
    "\n",
    "if b > a:\n",
    "    for i in range(a, b + 1):\n",
    "        if i % 2:\n",
    "            print(i, end=' ')\n",
    "elif b < a:\n",
    "    for i in range(a, b - 1, - 1):\n",
    "        if i % 2:\n",
    "            print(i, end=' ')"
   ]
  },
  {
   "cell_type": "code",
   "execution_count": 1809,
   "metadata": {},
   "outputs": [
    {
     "data": {
      "text/plain": [
       "'dsa'"
      ]
     },
     "execution_count": 1809,
     "metadata": {},
     "output_type": "execute_result"
    }
   ],
   "source": [
    "line = 'asd'\n",
    "line[::-1]"
   ]
  },
  {
   "cell_type": "code",
   "execution_count": 1810,
   "metadata": {},
   "outputs": [
    {
     "name": "stdout",
     "output_type": "stream",
     "text": [
      "Весна\n"
     ]
    }
   ],
   "source": [
    "# Времена года по месяцу\n",
    "\n",
    "month = 5\n",
    "\n",
    "seasons = {month in (1, 2, 12): 'Зима', \n",
    "           month in (3, 4, 5): 'Весна', \n",
    "           month in (6, 7, 8): 'Лето', \n",
    "           month in (9, 10, 11): 'Осень'}\n",
    "\n",
    "print(seasons.get(True, 'Неверный номер месяца'))"
   ]
  },
  {
   "cell_type": "code",
   "execution_count": 1811,
   "metadata": {},
   "outputs": [
    {
     "name": "stdout",
     "output_type": "stream",
     "text": [
      "Нет\n",
      "Да\n"
     ]
    }
   ],
   "source": [
    "# С клавиатуры вводятся размеры кирпича A, B, C и сторона квадратного отверстия X (A, B, C, X - целые числа). \n",
    "# Определить, пройдёт ли кирпич в отверстие. Вывести ответ в формате Да/Нет.\n",
    "\n",
    "# a, b, c, x = [int(input()) for _ in range(3)]\n",
    "\n",
    "def kirpich(a, b, c, x):\n",
    "    print(('Нет', 'Да')[a < x and b < x or b < x and c < x or a < x and c < x])\n",
    "\n",
    "kirpich(8, 5, 5, 5)\n",
    "kirpich(3, 2, 5, 4)"
   ]
  },
  {
   "cell_type": "code",
   "execution_count": 1812,
   "metadata": {},
   "outputs": [
    {
     "name": "stdout",
     "output_type": "stream",
     "text": [
      "Нет\n",
      "Да\n"
     ]
    }
   ],
   "source": [
    "def kirpich(a, b, c, x):\n",
    "    v = sorted([a, b, c])[:2]\n",
    "    print(('Нет', 'Да')[v[0] < x and v[1] < x])\n",
    "\n",
    "kirpich(8, 5, 5, 5)\n",
    "kirpich(3, 2, 5, 4)"
   ]
  },
  {
   "cell_type": "code",
   "execution_count": 1813,
   "metadata": {},
   "outputs": [
    {
     "name": "stdout",
     "output_type": "stream",
     "text": [
      "True\n"
     ]
    }
   ],
   "source": [
    "def is_strings_equal(line1, line2 = None):\n",
    "    return sorted([ord(s) for s in line1]) == sorted([ord(s) for s in line2])\n",
    "\n",
    "print(is_strings_equal(\"leto\", \"etol\"))"
   ]
  },
  {
   "cell_type": "code",
   "execution_count": 1814,
   "metadata": {},
   "outputs": [
    {
     "name": "stdout",
     "output_type": "stream",
     "text": [
      "True\n",
      "True\n",
      "True\n",
      "True\n"
     ]
    }
   ],
   "source": [
    "# Напишите функцию is_strings_equal, которая принимает две строки в качестве аргументов и сравнивает их между собой. \n",
    "# Строки считаются равными, если они имеют одинаковую длину и одинаковые символы в равном количестве вне зависимости от их расположения.\n",
    "\n",
    "def is_strings_equal(line1, line2 = None):\n",
    "    return sorted([ord(s) for s in line1]) == sorted([ord(s) for s in line2])\n",
    "\n",
    "print(is_strings_equal(\"leto\", \"etol\"))\n",
    "\n",
    "def is_strings_equal_2(line1, line2 = None):\n",
    "    return sorted(line1) == sorted(line2)\n",
    "\n",
    "print(is_strings_equal_2(\"leto\", \"etol\"))\n",
    "\n",
    "def is_strings_equal_3(line1: str, line2: str):\n",
    "    return {s:line1.count(s) for s in line1} == {s:line2.count(s) for s in line2}\n",
    "\n",
    "print(is_strings_equal_3(\"leto\", \"etol\"))\n",
    "\n",
    "def is_strings_equal_4(line1: str, line2: str):\n",
    "    for s in line1:\n",
    "        if line1.count(s) != line2.count(s):\n",
    "            return False\n",
    "    return True\n",
    "\n",
    "print(is_strings_equal_4(\"leto\", \"etol\"))"
   ]
  },
  {
   "cell_type": "code",
   "execution_count": 1815,
   "metadata": {},
   "outputs": [
    {
     "name": "stdout",
     "output_type": "stream",
     "text": [
      "bmi= 26.3 Вы относитесь к группе людей с избыточной массой тела.\n"
     ]
    }
   ],
   "source": [
    "age = 31\n",
    "height = 1.7\n",
    "weight = 76\n",
    "\n",
    "if age < 10 or height <= 0 or height > 3 or weight <= 0 or weight > 500:    \n",
    "    print(\"Ошибочные входные данные\")\n",
    "else:\n",
    "    bmi = weight / height ** 2  \n",
    "    bmi = round(bmi, 2)\n",
    "    if age < 45:\n",
    "        if bmi < 18.5:\n",
    "            description = \"недостаточной массой тела.\"            \n",
    "        elif bmi < 25:\n",
    "            description = \"нормальной массой тела.\"            \n",
    "        elif bmi < 30:\n",
    "            description = \"избыточной массой тела.\"  \n",
    "        else:          \n",
    "            description = \"ожирением.\"\n",
    "    if age >= 45:\n",
    "        if bmi < 22:\n",
    "            description = \"недостаточной массой тела.\"            \n",
    "        elif bmi < 27:\n",
    "            description = \"нормальной массой тела.\"            \n",
    "        elif bmi < 32:\n",
    "            description = \"избыточной массой тела.\"  \n",
    "        else:          \n",
    "            description = \"ожирением.\"\n",
    "\n",
    "    print(\"bmi=\", bmi, \"Вы относитесь к группе людей с\", description)"
   ]
  },
  {
   "cell_type": "code",
   "execution_count": 1816,
   "metadata": {},
   "outputs": [
    {
     "name": "stdout",
     "output_type": "stream",
     "text": [
      "0.2\n"
     ]
    }
   ],
   "source": [
    "# В ящике лежат 4 белых и 2 черных носка (носки одного цвета полностью идентичны друг другу). \n",
    "# Вам было лень их раскладывать по парам и они лежат вперемешку.\n",
    "# На следующий день утром вы засунули руку в ящик и наудачу вытащили три носка (три носка однозначно позволяют выбрать цвет носков, в которых вы пойдете на работу). \n",
    "# С какой вероятностью вы пойдете на работу в черных носках?\n",
    "\n",
    "# import numpy as np\n",
    "\n",
    "# n = 100000\n",
    "\n",
    "# w = 4\n",
    "# b = 2\n",
    "\n",
    "# success = 0\n",
    "\n",
    "# basket = 'w' * w + 'b' * b\n",
    "\n",
    "# for _ in range(n):\n",
    "#     s1, s2, s3 = np.random.choice(a = w + b, size=3, replace=False)\n",
    "#     if (basket[s1] == 'b' and basket[s2] == 'b') or (basket[s2] == 'b' and basket[s3] == 'b') or (basket[s1] == 'b' and basket[s3] == 'b') \\\n",
    "#         or (basket[s1] == 'b' and basket[s2]  == 'b' and basket[s3] == 'b'):\n",
    "#         success += 1\n",
    "# print(success / n)\n",
    "\n",
    "\n",
    "b1 = 2 / 6 # Вероятность вытащить черный носок при первом вытаскивании\n",
    "b2 = 1 / 5 # Вероятность вытащить черный носок при втором вытаскивании\n",
    "\n",
    "result = b1 * b2 * 3 # Три варианта вытащить два черных носка (при первом-втором, первом-третьем, втором-третьем)\n",
    "\n",
    "print(result)"
   ]
  },
  {
   "cell_type": "code",
   "execution_count": 1817,
   "metadata": {},
   "outputs": [],
   "source": [
    "# Какая картина чаще наблюдается в подземных переходах нашей страны:\n",
    "# а) в шляпе бомжа из 4х монет две лежат орлом вверх,\n",
    "# б) в шляпе уличного музыканта из 6 монет три лежат орлом вверх?\n",
    "# Подсчитайте вероятность события из п. а) и п. б). В ответ напишите во сколько раз вероятность из п. а) больше вероятности из п. б)\n",
    "\n",
    "# # Способ 1. Симуляция процесса.\n",
    "# import numpy as np\n",
    "\n",
    "# # Найти вероятность того, что половина монет будет лежать орлом вверх.\n",
    "# # coins - число монет.\n",
    "# # numbers - число испытаний.\n",
    "# def prob(coins, numbers): \n",
    "#     success = 0 # Число успешных исходов.\n",
    "#     for _ in range(numbers): # Делаем numbers испытаний.\n",
    "#         s = np.random.choice([0, 1], size=coins) # Кидаем монеты (0 -решка, 1 - орел).\n",
    "#         # Если половина монет лежит орлом вверх - увеличить число успешных исходов.\n",
    "#         success += coins - s.sum() == coins // 2 \n",
    "#     return success / numbers # Расчитать вероятность.\n",
    "\n",
    "# probs = [prob(coins, 100000) for coins in (4, 6)]\n",
    "# print(round(probs[0] / probs[1], 2))"
   ]
  },
  {
   "cell_type": "code",
   "execution_count": 1818,
   "metadata": {},
   "outputs": [
    {
     "name": "stdout",
     "output_type": "stream",
     "text": [
      "1.2\n"
     ]
    }
   ],
   "source": [
    "# Способ 2.\n",
    "from math import factorial\n",
    "\n",
    "def C_nk(n, k): # Число сочетаний из n по k\n",
    "    return factorial(n) / (factorial(n - k) * factorial(k))\n",
    "\n",
    "# Найти вероятность того, что половина монет будет лежать орлом вверх.\n",
    "# coins - число монет.\n",
    "def prob(coins):\n",
    "    return C_nk(coins, coins // 2) / 2**coins\n",
    "\n",
    "probs = [prob(coins) for coins in (4, 6)]\n",
    "print(probs[0] / probs[1])"
   ]
  },
  {
   "cell_type": "code",
   "execution_count": 1819,
   "metadata": {},
   "outputs": [],
   "source": [
    "# Напишите программу, которая определяет, оканчивается ли год с данным номером на два нуля. \n",
    "# Если год оканчивается, то выведите «YES», иначе выведите «NO».\n",
    "\n",
    "# a, b, c, d = input()\n",
    "# print(('NO', 'YES')[int(c) == 0 and int(d) == 0])"
   ]
  },
  {
   "cell_type": "code",
   "execution_count": 1820,
   "metadata": {},
   "outputs": [],
   "source": [
    "# Заданы две клетки шахматной доски. Напишите программу, которая определяет, имеют ли указанные клетки один цвет или нет. \n",
    "# Если они покрашены в один цвет, то выведите слово «YES», а если в разные цвета, то «NO»."
   ]
  },
  {
   "cell_type": "code",
   "execution_count": 1821,
   "metadata": {},
   "outputs": [
    {
     "name": "stdout",
     "output_type": "stream",
     "text": [
      "VI ошибка\n"
     ]
    }
   ],
   "source": [
    "my_dict = {k:v for (k, v) in zip(range(1, 11), ['I', 'II', 'III', 'IV', 'V', 'VI', 'VII', 'VIII', 'IX', 'X'])}\n",
    "\n",
    "# n = int(input()\n",
    "n = 6\n",
    "print(my_dict.get(n), 'ошибка')"
   ]
  },
  {
   "cell_type": "code",
   "execution_count": 1822,
   "metadata": {},
   "outputs": [
    {
     "name": "stdout",
     "output_type": "stream",
     "text": [
      "YES\n"
     ]
    }
   ],
   "source": [
    "# если число нечётное, то вывести «YES»;\n",
    "# если число чётное в диапазоне от 2 до 5 (включительно), то вывести «NO»;\n",
    "# если число чётное в диапазоне от 6 до 20 (включительно), то вывести «YES»;\n",
    "# если число чётное и больше 20, то вывести «NO».\n",
    "\n",
    "# n = int(input())\n",
    "n  = 5\n",
    "\n",
    "print('YES' if n % 2 else ('NO', 'YES', 'NO')[sum([n >= 2, n >= 6, n > 20]) - 1])"
   ]
  },
  {
   "cell_type": "code",
   "execution_count": 1823,
   "metadata": {},
   "outputs": [
    {
     "data": {
      "text/plain": [
       "'NO'"
      ]
     },
     "execution_count": 1823,
     "metadata": {},
     "output_type": "execute_result"
    }
   ],
   "source": [
    "n = 21\n",
    "('NO', 'YES', 'NO')[sum([n >= 2, n >= 6, n > 20]) - 1]"
   ]
  },
  {
   "cell_type": "code",
   "execution_count": 1824,
   "metadata": {},
   "outputs": [
    {
     "name": "stdout",
     "output_type": "stream",
     "text": [
      "YES\n"
     ]
    }
   ],
   "source": [
    "# Даны две различные клетки шахматной доски. Напишите программу, которая определяет, может ли слон попасть с первой клетки на вторую одним ходом. \n",
    "# Программа получает на вход четыре числа от 1 до 8 каждое, задающие номер столбца и номер строки сначала для первой клетки, потом для второй клетки. \n",
    "# Программа должна вывести «YES», если из первой клетки ходом слона можно попасть во вторую, или «NO» в противном случае.\n",
    "\n",
    "# x1, y1, x2, y2 = [int(input()) for _ in range(4)]\n",
    "x1, y1, x2, y2 = 3, 3, 1, 1\n",
    "\n",
    "if abs(x2 - x1) == abs(y2 - y1):\n",
    "    print('YES')\n",
    "elif x2 == x1 or y2 == y1:\n",
    "    print('YES')\n",
    "else:\n",
    "    print('NO')"
   ]
  },
  {
   "cell_type": "code",
   "execution_count": 1825,
   "metadata": {},
   "outputs": [
    {
     "data": {
      "text/html": [
       "<div>\n",
       "<style scoped>\n",
       "    .dataframe tbody tr th:only-of-type {\n",
       "        vertical-align: middle;\n",
       "    }\n",
       "\n",
       "    .dataframe tbody tr th {\n",
       "        vertical-align: top;\n",
       "    }\n",
       "\n",
       "    .dataframe thead th {\n",
       "        text-align: right;\n",
       "    }\n",
       "</style>\n",
       "<table border=\"1\" class=\"dataframe\">\n",
       "  <thead>\n",
       "    <tr style=\"text-align: right;\">\n",
       "      <th></th>\n",
       "      <th>x</th>\n",
       "      <th>y</th>\n",
       "    </tr>\n",
       "  </thead>\n",
       "  <tbody>\n",
       "    <tr>\n",
       "      <th>x</th>\n",
       "      <td>1.0</td>\n",
       "      <td>-1.0</td>\n",
       "    </tr>\n",
       "    <tr>\n",
       "      <th>y</th>\n",
       "      <td>-1.0</td>\n",
       "      <td>1.0</td>\n",
       "    </tr>\n",
       "  </tbody>\n",
       "</table>\n",
       "</div>"
      ],
      "text/plain": [
       "     x    y\n",
       "x  1.0 -1.0\n",
       "y -1.0  1.0"
      ]
     },
     "execution_count": 1825,
     "metadata": {},
     "output_type": "execute_result"
    }
   ],
   "source": [
    "import pandas as pd\n",
    "x = [4, 5, 2, 3, 1]\n",
    "y = [2, 1, 4, 3, 5]\n",
    "\n",
    "df = pd.DataFrame({'x': x,\n",
    "                   'y': y})\n",
    "\n",
    "df.corr()"
   ]
  },
  {
   "cell_type": "code",
   "execution_count": 1826,
   "metadata": {},
   "outputs": [
    {
     "name": "stdout",
     "output_type": "stream",
     "text": [
      "72559411\n"
     ]
    }
   ],
   "source": [
    "n = 11\n",
    "\n",
    "total = 0\n",
    "\n",
    "for i in range(n):\n",
    "    total += 6 ** i\n",
    "\n",
    "print(total)"
   ]
  },
  {
   "cell_type": "code",
   "execution_count": 1827,
   "metadata": {},
   "outputs": [
    {
     "name": "stdout",
     "output_type": "stream",
     "text": [
      "{1, 2, 3, 4} {1, 3, 5}\n",
      "{1, 3}\n",
      "{1, 2, 3, 4, 5}\n",
      "{2, 4}\n",
      "4\n",
      "15\n",
      "6\n"
     ]
    }
   ],
   "source": [
    "total = 0\n",
    "my_set1 = set()\n",
    "my_set2= set()\n",
    "\n",
    "for i in range(1, 7):\n",
    "    total += i\n",
    "for i in range(1, 7):\n",
    "    if i < 5:\n",
    "        my_set1.add(i)\n",
    "    if i % 2:\n",
    "        my_set2.add(i)\n",
    "print(my_set1, my_set2)\n",
    "print(my_set1.intersection(my_set2))\n",
    "print(my_set1.union(my_set2))\n",
    "print(my_set1.difference(my_set2))\n",
    "print(sum(my_set1.intersection(my_set2)))\n",
    "print(sum(my_set1.union(my_set2)))\n",
    "print(sum(my_set1.difference(my_set2)))"
   ]
  },
  {
   "cell_type": "code",
   "execution_count": 1828,
   "metadata": {},
   "outputs": [
    {
     "name": "stdout",
     "output_type": "stream",
     "text": [
      "-1\n",
      "-9\n",
      "-1\n",
      "0\n",
      "0\n",
      "5\n",
      "4\n",
      "3\n",
      "3\n"
     ]
    }
   ],
   "source": [
    "s = [5, 4, -1, 0, 3, 0, -9, -1, 3]    # вводим в список s указанное количество чисел\n",
    "\n",
    "for i in range(3):    # запускаем 3 цикла\n",
    "    for c in s:    # переменная c принимает по порядку значения чисел из списка s\n",
    "        if (c < 0, c == 0, c > 0)[i]:    # условие срабатывает для отрицательных, затем нулей, затем положительных\n",
    "            print(c) "
   ]
  },
  {
   "cell_type": "code",
   "execution_count": 1829,
   "metadata": {},
   "outputs": [],
   "source": [
    "from math import factorial"
   ]
  },
  {
   "cell_type": "code",
   "execution_count": 1830,
   "metadata": {},
   "outputs": [
    {
     "data": {
      "text/plain": [
       "20358520.0"
      ]
     },
     "execution_count": 1830,
     "metadata": {},
     "output_type": "execute_result"
    }
   ],
   "source": [
    "n = 52\n",
    "k = 6\n",
    "C_kn = factorial(n) / (factorial(k) * factorial((n - k)))\n",
    "C_kn"
   ]
  },
  {
   "cell_type": "code",
   "execution_count": 1831,
   "metadata": {},
   "outputs": [
    {
     "name": "stdout",
     "output_type": "stream",
     "text": [
      "286.0\n",
      "286.0\n",
      "81796.0\n",
      "490776.0\n"
     ]
    }
   ],
   "source": [
    "n = 13\n",
    "k = 3\n",
    "C_kn1 = factorial(n) / (factorial(k) * factorial((n - k)))\n",
    "print(C_kn1)\n",
    "\n",
    "n = 13\n",
    "k = 3\n",
    "C_kn2 = factorial(n) / (factorial(k) * factorial((n - k)))\n",
    "print(C_kn2)\n",
    "\n",
    "C_kn = C_kn1 * C_kn2\n",
    "print(C_kn)\n",
    "\n",
    "n = 4\n",
    "k = 2\n",
    "f = factorial(n) / (factorial(k) * factorial((n - k)))\n",
    "C_kn = C_kn * f\n",
    "print(C_kn)"
   ]
  },
  {
   "cell_type": "code",
   "execution_count": 1832,
   "metadata": {},
   "outputs": [
    {
     "data": {
      "text/plain": [
       "1716.0"
      ]
     },
     "execution_count": 1832,
     "metadata": {},
     "output_type": "execute_result"
    }
   ],
   "source": [
    "n = 13\n",
    "k = 3\n",
    "C_kn = factorial(n) / (factorial(k) * factorial((n - k)))\n",
    "C_kn * f"
   ]
  },
  {
   "cell_type": "code",
   "execution_count": 1833,
   "metadata": {},
   "outputs": [
    {
     "name": "stdout",
     "output_type": "stream",
     "text": [
      "78.0\n",
      "6415578.0\n"
     ]
    }
   ],
   "source": [
    "n = 13\n",
    "k = 2\n",
    "C_kn2 = factorial(n) / (factorial(k) * factorial((n - k)))\n",
    "print(C_kn2)\n",
    "\n",
    "n = 39\n",
    "k = 4\n",
    "f = factorial(n) / (factorial(k) * factorial((n - k)))\n",
    "C_kn2 = C_kn2 * f\n",
    "print(C_kn2)"
   ]
  },
  {
   "cell_type": "code",
   "execution_count": 1834,
   "metadata": {},
   "outputs": [
    {
     "name": "stdout",
     "output_type": "stream",
     "text": [
      "13.0\n",
      "7484841.0\n"
     ]
    }
   ],
   "source": [
    "n = 13\n",
    "k = 1\n",
    "C_kn1 = factorial(n) / (factorial(k) * factorial((n - k)))\n",
    "print(C_kn1)\n",
    "\n",
    "n = 39\n",
    "k = 5\n",
    "f = factorial(n) / (factorial(k) * factorial((n - k)))\n",
    "C_kn1 = C_kn1 * f\n",
    "print(C_kn1)"
   ]
  },
  {
   "cell_type": "code",
   "execution_count": 1835,
   "metadata": {},
   "outputs": [
    {
     "name": "stdout",
     "output_type": "stream",
     "text": [
      "1.0\n",
      "3262623.0\n"
     ]
    }
   ],
   "source": [
    "n = 13\n",
    "k = 0\n",
    "C_kn0 = factorial(n) / (factorial(k) * factorial((n - k)))\n",
    "print(C_kn0)\n",
    "\n",
    "n = 39\n",
    "k = 6\n",
    "f = factorial(n) / (factorial(k) * factorial((n - k)))\n",
    "C_kn0 = C_kn0 * f\n",
    "print(C_kn0)"
   ]
  },
  {
   "cell_type": "code",
   "execution_count": 1836,
   "metadata": {},
   "outputs": [
    {
     "data": {
      "text/plain": [
       "17163042.0"
      ]
     },
     "execution_count": 1836,
     "metadata": {},
     "output_type": "execute_result"
    }
   ],
   "source": [
    "C_kn2 + C_kn1 + C_kn0"
   ]
  },
  {
   "cell_type": "code",
   "execution_count": 1837,
   "metadata": {},
   "outputs": [
    {
     "data": {
      "text/plain": [
       "6.0"
      ]
     },
     "execution_count": 1837,
     "metadata": {},
     "output_type": "execute_result"
    }
   ],
   "source": [
    "n = 3\n",
    "k = 2\n",
    "\n",
    "factorial(n) / factorial(n - k)"
   ]
  },
  {
   "cell_type": "code",
   "execution_count": 1838,
   "metadata": {},
   "outputs": [
    {
     "data": {
      "text/plain": [
       "252.0"
      ]
     },
     "execution_count": 1838,
     "metadata": {},
     "output_type": "execute_result"
    }
   ],
   "source": [
    "n = 6\n",
    "k = 5\n",
    "C_kn = factorial(n + k - 1) / (factorial(k) * factorial((n - k + k -1)))\n",
    "C_kn"
   ]
  },
  {
   "cell_type": "code",
   "execution_count": 1839,
   "metadata": {},
   "outputs": [
    {
     "data": {
      "text/plain": [
       "7380"
      ]
     },
     "execution_count": 1839,
     "metadata": {},
     "output_type": "execute_result"
    }
   ],
   "source": [
    "# Сколько чисел от 1 до 9999 (включая 1 и 9999) не имеют в своей десятичной записи одинаковых подряд идущих цифр? (к примеру, не подходят 1488, 2259, 3233)\n",
    "\n",
    "9 ** 4 + 9 ** 3 + 9 ** 2 + 9\n",
    "\n",
    "# Однозначные числа (1-9):\n",
    "# Все однозначные числа (1, 2, ..., 9) подходят. Итого: 9 чисел.\n",
    "\n",
    "# Двузначные числа (10-99):\n",
    "# Первую цифру можно выбрать из 1-9 (9 вариантов).\n",
    "# Вторую цифру можно выбрать из 0-9, исключая первую (9 вариантов).\n",
    "# Итого: 9×9=81 чисел.\n",
    "\n",
    "# Трехзначные числа (100-999):\n",
    "# Первую цифру можно выбрать из 1-9 (9 вариантов).\n",
    "# Вторую цифру можно выбрать из 0-9, исключая первую (9 вариантов).\n",
    "# Третью цифру можно выбрать из 0-9, исключая вторую (9 вариантов).\n",
    "# Итого: 9×9×9=729 чисел.\n",
    "\n",
    "# Четырехзначные числа (1000-9999):\n",
    "# Первую цифру можно выбрать из 1-9 (9 вариантов).\n",
    "# Вторую цифру можно выбрать из 0-9, исключая первую (9 вариантов).\n",
    "# Третью цифру можно выбрать из 0-9, исключая вторую (9 вариантов).\n",
    "# Четвертую цифру можно выбрать из 0-9, исключая третью (9 вариантов).\n",
    "\n",
    "# Итого: 9×9×9×9=6561 чисел.\n",
    "\n",
    "# Теперь суммируем все подходящие числа: 9+81+729+6561=7380\n"
   ]
  },
  {
   "cell_type": "code",
   "execution_count": 1840,
   "metadata": {},
   "outputs": [
    {
     "data": {
      "text/plain": [
       "{1, 3, 5, 7, 9}"
      ]
     },
     "execution_count": 1840,
     "metadata": {},
     "output_type": "execute_result"
    }
   ],
   "source": [
    "A = {1,2,3,4,5,6,7} \n",
    "B = {4,5,6,7,8,9,10}\n",
    "C = {2,4,6,8,10}\n",
    "U = {1,2,3,4,5,6,7,8,9,10}\n",
    "\n",
    "A.union(B).intersection(U.difference(C))"
   ]
  },
  {
   "cell_type": "code",
   "execution_count": 1841,
   "metadata": {},
   "outputs": [],
   "source": [
    "import numpy as np\n",
    "\n",
    "# Создайте массив arr.\n",
    "\n",
    "arr = np.arange(6).reshape(3, 2)"
   ]
  },
  {
   "cell_type": "code",
   "execution_count": 1842,
   "metadata": {},
   "outputs": [
    {
     "data": {
      "text/plain": [
       "array([[[0, 1],\n",
       "        [2, 3],\n",
       "        [4, 5]]])"
      ]
     },
     "execution_count": 1842,
     "metadata": {},
     "output_type": "execute_result"
    }
   ],
   "source": [
    "np.expand_dims(arr, axis=0)"
   ]
  },
  {
   "cell_type": "code",
   "execution_count": 1843,
   "metadata": {},
   "outputs": [
    {
     "data": {
      "text/plain": [
       "(3, 4, 2)"
      ]
     },
     "execution_count": 1843,
     "metadata": {},
     "output_type": "execute_result"
    }
   ],
   "source": [
    "# 3, 4, 2\n",
    "arr = np.array([[[1, 2], [3, 4], [5, 6], [7, 8]],\n",
    "\n",
    "                [[9, 10], [11, 12], [13, 14], [15, 16]],\n",
    "                \n",
    "                [[17, 18], [19, 20], [21, 22], [23, 24]]])\n",
    "arr.shape"
   ]
  },
  {
   "cell_type": "code",
   "execution_count": 1844,
   "metadata": {},
   "outputs": [
    {
     "name": "stdout",
     "output_type": "stream",
     "text": [
      "(3, 2)\n"
     ]
    },
    {
     "data": {
      "text/plain": [
       "array([[31, 32],\n",
       "       [33, 34],\n",
       "       [35, 36]])"
      ]
     },
     "execution_count": 1844,
     "metadata": {},
     "output_type": "execute_result"
    }
   ],
   "source": [
    "# 3, 2\n",
    "\n",
    "arr_new = np.array([[31, 32], [33, 34], [35, 36]])\n",
    "\n",
    "print(arr_new.shape)\n",
    "arr_new"
   ]
  },
  {
   "cell_type": "code",
   "execution_count": 1845,
   "metadata": {},
   "outputs": [
    {
     "name": "stdout",
     "output_type": "stream",
     "text": [
      "(3, 1, 2)\n"
     ]
    },
    {
     "data": {
      "text/plain": [
       "array([[[31, 32]],\n",
       "\n",
       "       [[33, 34]],\n",
       "\n",
       "       [[35, 36]]])"
      ]
     },
     "execution_count": 1845,
     "metadata": {},
     "output_type": "execute_result"
    }
   ],
   "source": [
    "arr_new = np.expand_dims(arr_new, axis=1)\n",
    "print(arr_new.shape)\n",
    "arr_new"
   ]
  },
  {
   "cell_type": "code",
   "execution_count": 1846,
   "metadata": {},
   "outputs": [
    {
     "name": "stdout",
     "output_type": "stream",
     "text": [
      "(3, 5, 2)\n"
     ]
    },
    {
     "data": {
      "text/plain": [
       "array([[[ 1,  2],\n",
       "        [ 3,  4],\n",
       "        [ 5,  6],\n",
       "        [ 7,  8],\n",
       "        [31, 32]],\n",
       "\n",
       "       [[ 9, 10],\n",
       "        [11, 12],\n",
       "        [13, 14],\n",
       "        [15, 16],\n",
       "        [33, 34]],\n",
       "\n",
       "       [[17, 18],\n",
       "        [19, 20],\n",
       "        [21, 22],\n",
       "        [23, 24],\n",
       "        [35, 36]]])"
      ]
     },
     "execution_count": 1846,
     "metadata": {},
     "output_type": "execute_result"
    }
   ],
   "source": [
    "arr_sum = np.hstack([arr, arr_new])\n",
    "\n",
    "print(arr_sum.shape)\n",
    "arr_sum"
   ]
  },
  {
   "cell_type": "code",
   "execution_count": 1847,
   "metadata": {},
   "outputs": [
    {
     "data": {
      "text/plain": [
       "(1, 5, 2)"
      ]
     },
     "execution_count": 1847,
     "metadata": {},
     "output_type": "execute_result"
    }
   ],
   "source": [
    "arr1, arr2, arr3 = np.array_split(arr_sum, 3, axis=0)\n",
    "arr1.shape"
   ]
  },
  {
   "cell_type": "code",
   "execution_count": 1848,
   "metadata": {},
   "outputs": [
    {
     "data": {
      "text/plain": [
       "(3, 1, 2)"
      ]
     },
     "execution_count": 1848,
     "metadata": {},
     "output_type": "execute_result"
    }
   ],
   "source": [
    "arr_new.shape"
   ]
  },
  {
   "cell_type": "code",
   "execution_count": 1849,
   "metadata": {},
   "outputs": [
    {
     "data": {
      "text/plain": [
       "(256, 256, 3)"
      ]
     },
     "execution_count": 1849,
     "metadata": {},
     "output_type": "execute_result"
    }
   ],
   "source": [
    "arr = np.empty([256, 256, 3])\n",
    "arr.shape"
   ]
  },
  {
   "cell_type": "code",
   "execution_count": 1850,
   "metadata": {},
   "outputs": [
    {
     "name": "stdout",
     "output_type": "stream",
     "text": [
      "(256, 256, 1) (256, 256, 1) (256, 256, 1)\n"
     ]
    }
   ],
   "source": [
    "arr1, arr2, arr3 = np.array_split(arr, 3, axis=2)\n",
    "print(arr1.shape, arr2.shape, arr3.shape)"
   ]
  },
  {
   "cell_type": "code",
   "execution_count": 1851,
   "metadata": {},
   "outputs": [],
   "source": [
    "arr1 = np.squeeze(arr1)\n",
    "arr2 = np.squeeze(arr2)\n",
    "arr3 = np.squeeze(arr3)\n",
    "\n",
    "arr1 = np.expand_dims(arr1, axis=0)\n",
    "arr2 = np.expand_dims(arr2, axis=0)\n",
    "arr3 = np.expand_dims(arr3, axis=0)\n"
   ]
  },
  {
   "cell_type": "code",
   "execution_count": 1852,
   "metadata": {},
   "outputs": [
    {
     "data": {
      "text/plain": [
       "(3, 256, 256)"
      ]
     },
     "execution_count": 1852,
     "metadata": {},
     "output_type": "execute_result"
    }
   ],
   "source": [
    "np.concatenate([arr1, arr2, arr3]).shape"
   ]
  },
  {
   "cell_type": "code",
   "execution_count": 1853,
   "metadata": {},
   "outputs": [
    {
     "data": {
      "text/plain": [
       "True"
      ]
     },
     "execution_count": 1853,
     "metadata": {},
     "output_type": "execute_result"
    }
   ],
   "source": [
    "s1 = 'Ab4c1$#ddd'\n",
    "s2 = 'a_b_c##DDD70'\n",
    "\n",
    "s1 = [s.lower() for s in s1 if s.isalpha()]\n",
    "s2 = [s.lower() for s in s2 if s.isalpha()]\n",
    "s1 == s2"
   ]
  },
  {
   "cell_type": "code",
   "execution_count": 1854,
   "metadata": {},
   "outputs": [
    {
     "data": {
      "text/plain": [
       "5040.0"
      ]
     },
     "execution_count": 1854,
     "metadata": {},
     "output_type": "execute_result"
    }
   ],
   "source": [
    "n = 10\n",
    "k = 4\n",
    "A_nk1 = factorial(n) / factorial(n - k)\n",
    "A_nk1"
   ]
  },
  {
   "cell_type": "code",
   "execution_count": 1855,
   "metadata": {},
   "outputs": [
    {
     "data": {
      "text/plain": [
       "12.0"
      ]
     },
     "execution_count": 1855,
     "metadata": {},
     "output_type": "execute_result"
    }
   ],
   "source": [
    "n = 4\n",
    "k = 1\n",
    "A_nk1 = factorial(n) / factorial(n - k)\n",
    "A_nk1 * 3"
   ]
  },
  {
   "cell_type": "code",
   "execution_count": 1856,
   "metadata": {},
   "outputs": [
    {
     "data": {
      "text/plain": [
       "6720.0"
      ]
     },
     "execution_count": 1856,
     "metadata": {},
     "output_type": "execute_result"
    }
   ],
   "source": [
    "n = 8\n",
    "k = 5\n",
    "A_nk2 = factorial(n) / factorial(n - k)\n",
    "A_nk2"
   ]
  },
  {
   "cell_type": "code",
   "execution_count": 1857,
   "metadata": {},
   "outputs": [
    {
     "data": {
      "text/plain": [
       "26880.0"
      ]
     },
     "execution_count": 1857,
     "metadata": {},
     "output_type": "execute_result"
    }
   ],
   "source": [
    "A_nk1 * A_nk2"
   ]
  },
  {
   "cell_type": "code",
   "execution_count": 1858,
   "metadata": {},
   "outputs": [
    {
     "data": {
      "text/plain": [
       "792.0"
      ]
     },
     "execution_count": 1858,
     "metadata": {},
     "output_type": "execute_result"
    }
   ],
   "source": [
    "n = 12\n",
    "k = 5\n",
    "C_nk1 = factorial(n) / (factorial(k) * factorial(n - k))\n",
    "C_nk1"
   ]
  },
  {
   "cell_type": "code",
   "execution_count": 1859,
   "metadata": {},
   "outputs": [
    {
     "data": {
      "text/plain": [
       "252.0"
      ]
     },
     "execution_count": 1859,
     "metadata": {},
     "output_type": "execute_result"
    }
   ],
   "source": [
    "n = 10\n",
    "k = 5\n",
    "C_nk2 = factorial(n) / (factorial(k) * factorial(n - k))\n",
    "C_nk2"
   ]
  },
  {
   "cell_type": "code",
   "execution_count": 1860,
   "metadata": {},
   "outputs": [
    {
     "data": {
      "text/plain": [
       "199584.0"
      ]
     },
     "execution_count": 1860,
     "metadata": {},
     "output_type": "execute_result"
    }
   ],
   "source": [
    "C_nk1 * C_nk2"
   ]
  },
  {
   "cell_type": "code",
   "execution_count": 1861,
   "metadata": {},
   "outputs": [
    {
     "data": {
      "text/plain": [
       "True"
      ]
     },
     "execution_count": 1861,
     "metadata": {},
     "output_type": "execute_result"
    }
   ],
   "source": [
    "password ='1221:101:22'\n",
    "\n",
    "arr = password.split(':')\n",
    "flag = True\n",
    "if len(arr) == 3:\n",
    "    if list(arr[0]) != list(arr[0])[::-1]:\n",
    "        flag = False\n",
    "\n",
    "    if int(arr[1]) <= 1 or any([int(arr[1]) % i == 0 for i in range(2, int(arr[1]) // 2 + 1)]):\n",
    "        flag = False\n",
    "\n",
    "    if int(arr[2]) % 2:\n",
    "        flag = False\n",
    "    \n",
    "else:\n",
    "    flag = False\n",
    "flag"
   ]
  },
  {
   "cell_type": "code",
   "execution_count": 1862,
   "metadata": {},
   "outputs": [
    {
     "data": {
      "text/plain": [
       "False"
      ]
     },
     "execution_count": 1862,
     "metadata": {},
     "output_type": "execute_result"
    }
   ],
   "source": [
    "n = 17\n",
    "\n",
    "any([n % i == 0 for i in range(2, n // 2 + 1)])"
   ]
  },
  {
   "cell_type": "code",
   "execution_count": 1863,
   "metadata": {},
   "outputs": [
    {
     "name": "stdout",
     "output_type": "stream",
     "text": [
      "       *\n",
      "      ***\n",
      "     *****\n",
      "    *******\n",
      "   *********\n",
      "  ***********\n",
      " *************\n",
      "***************\n"
     ]
    }
   ],
   "source": [
    "for i in range(1, 9):\n",
    "    print(' ' * (8 - i) + '*' *(i +(i - 1)))"
   ]
  },
  {
   "cell_type": "markdown",
   "metadata": {},
   "source": [
    "# Регулярное выражение"
   ]
  },
  {
   "cell_type": "code",
   "execution_count": 1864,
   "metadata": {},
   "outputs": [
    {
     "name": "stdout",
     "output_type": "stream",
     "text": [
      "Milk is white and so is glue Ghosts Are white and they say BOO\n"
     ]
    }
   ],
   "source": [
    "import re\n",
    "\n",
    "words = 'Milk is white and so is glue, Ghosts!!! Are white and they say BOO!'\n",
    "\n",
    "words_new = re.sub(r'[.,;:-?-!]', '', words)\n",
    "\n",
    "print(words_new)"
   ]
  },
  {
   "cell_type": "code",
   "execution_count": 1865,
   "metadata": {},
   "outputs": [
    {
     "data": {
      "text/plain": [
       "{'a',\n",
       " 'accident',\n",
       " 'and',\n",
       " 'died',\n",
       " 'for',\n",
       " 'freak',\n",
       " 'i',\n",
       " 'in',\n",
       " 'lightning',\n",
       " 'mother',\n",
       " 'my',\n",
       " 'photogenic',\n",
       " 'picnic',\n",
       " 'pocket',\n",
       " 'save',\n",
       " 'three',\n",
       " 'very',\n",
       " 'was',\n",
       " 'when'}"
      ]
     },
     "execution_count": 1865,
     "metadata": {},
     "output_type": "execute_result"
    }
   ],
   "source": [
    "sentence = '''My very photogenic mother died in a freak accident (picnic, lightning) when I was three, and, save for a pocket'''\n",
    "\n",
    "set(s.strip(':,.!?();').lower() for s in sentence.split())"
   ]
  },
  {
   "cell_type": "code",
   "execution_count": 1866,
   "metadata": {},
   "outputs": [
    {
     "name": "stdout",
     "output_type": "stream",
     "text": [
      "n = 5, k = 5, соч = 1.0\n",
      "n = 5, k = 4, соч = 5.0\n",
      "n = 5, k = 3, соч = 10.0\n",
      "n = 5, k = 2, соч = 10.0\n",
      "n = 5, k = 1, соч = 5.0\n"
     ]
    },
    {
     "data": {
      "text/plain": [
       "31.0"
      ]
     },
     "execution_count": 1866,
     "metadata": {},
     "output_type": "execute_result"
    }
   ],
   "source": [
    "from math import factorial\n",
    "def cnk(n, k):\n",
    "    return factorial(n) / (factorial(k) * factorial(n - k))\n",
    "\n",
    "a = 5\n",
    "total = 0\n",
    "\n",
    "for i in range(a):\n",
    "    sch = cnk(a, a - i)\n",
    "    total += sch\n",
    "    print(f'n = {a}, k = {a - i}, соч = {sch}')\n",
    "total"
   ]
  },
  {
   "cell_type": "code",
   "execution_count": 1867,
   "metadata": {},
   "outputs": [],
   "source": [
    "a = 30\n",
    "\n",
    "m = 17\n",
    "mf = 5\n",
    "f = 10\n",
    "fi = 4\n",
    "i = 13\n",
    "mi = 6\n",
    "mfi= 3\n",
    "\n",
    "mf1 = 22\n",
    "fi1 = 19\n",
    "mi1 = 24\n"
   ]
  },
  {
   "cell_type": "code",
   "execution_count": 1868,
   "metadata": {},
   "outputs": [
    {
     "name": "stdout",
     "output_type": "stream",
     "text": [
      "Россия - Москва\n",
      "Франция - Париж\n",
      "Чехия - Прага\n"
     ]
    }
   ],
   "source": [
    "capitals = {'Россия': 'Москва', 'Франция': 'Париж', 'Чехия': 'Прага'}\n",
    "\n",
    "for key, value in capitals.items():\n",
    "    print(key, '-', value)"
   ]
  },
  {
   "cell_type": "code",
   "execution_count": 1869,
   "metadata": {},
   "outputs": [],
   "source": [
    "users = [{'name': 'Todd', 'phone': '551-1414', 'email': 'todd@gmail.com'},\n",
    "         {'name': 'Helga', 'phone': '555-1618', 'email': 'helga@mail.net'},\n",
    "         {'name': 'Olivia', 'phone': '449-3141', 'email': ''},\n",
    "         {'name': 'LJ', 'phone': '555-2718', 'email': 'lj@gmail.net'},\n",
    "         {'name': 'Ruslan', 'phone': '422-145-9098', 'email': 'rus-lan.cha@yandex.ru'},\n",
    "         {'name': 'John', 'phone': '233-421-32', 'email': ''},\n",
    "         {'name': 'Lara', 'phone': '+7998-676-2532', 'email': 'g.lara89@gmail.com'},\n",
    "         {'name': 'Alina', 'phone': '+7948-799-2434', 'email': 'ali.ch.b@gmail.com'},\n",
    "         {'name': 'Robert', 'phone': '420-2011', 'email': ''},\n",
    "         {'name': 'Riyad', 'phone': '128-8890-128', 'email': 'r.mahrez@mail.net'},\n",
    "         {'name': 'Khabib', 'phone': '+7995-600-9080', 'email': 'kh.nurmag@gmail.com'},\n",
    "         {'name': 'Olga', 'phone': '6449-314-1213', 'email': ''},\n",
    "         {'name': 'Roman', 'phone': '+7459-145-8059', 'email': 'roma988@mail.ru'},\n",
    "         {'name': 'Maria', 'phone': '12-129-3148', 'email': 'm.sharapova@gmail.com'},\n",
    "         {'name': 'Fedor', 'phone': '+7445-341-0545', 'email': ''},\n",
    "         {'name': 'Tim', 'phone': '242-449-3141', 'email': 'timm.ggg@yandex.ru'}]"
   ]
  },
  {
   "cell_type": "code",
   "execution_count": 1870,
   "metadata": {},
   "outputs": [
    {
     "name": "stdout",
     "output_type": "stream",
     "text": [
      "Helga LJ Maria Riyad Ruslan\n"
     ]
    }
   ],
   "source": [
    "arr = []\n",
    "\n",
    "for some_dict in users:\n",
    "    if some_dict['phone'][-1] == '8':\n",
    "        arr.append(some_dict['name'])\n",
    "print(*sorted(arr))"
   ]
  },
  {
   "cell_type": "code",
   "execution_count": 1871,
   "metadata": {},
   "outputs": [
    {
     "name": "stdout",
     "output_type": "stream",
     "text": [
      "Fedor John Olga Olivia Robert\n"
     ]
    }
   ],
   "source": [
    "result = [user['name'] for user in users if not user.get('email')]\n",
    "\n",
    "print(*sorted(result))"
   ]
  },
  {
   "cell_type": "code",
   "execution_count": 1872,
   "metadata": {},
   "outputs": [
    {
     "name": "stdout",
     "output_type": "stream",
     "text": [
      "{'a': 400, 'b': 400, 'd': 445, 't': 853, 'c': 312, 'p': 123, 'w': 111, 'z': 999, 'e': 98, 'q': 34, 'f': 90, 'm': 230}\n"
     ]
    }
   ],
   "source": [
    "dict1 = {'a': 100, 'z': 333, 'b': 200, 'c': 300, 'd': 45, 'e': 98, 't': 76, 'q': 34, 'f': 90, 'm': 230}\n",
    "dict2 = {'a': 300, 'b': 200, 'd': 400, 't': 777, 'c': 12, 'p': 123, 'w': 111, 'z': 666}\n",
    "\n",
    "result = dict2.copy()\n",
    "\n",
    "\n",
    "for k in dict1:\n",
    "    if k in dict2:\n",
    "        result[k] = dict1[k] + dict2[k]\n",
    "    else:\n",
    "        result[k] = dict1[k]\n",
    "\n",
    "print(result)\n",
    "\n",
    "# {'a': 400, 'z': 999, 'b': 400, 'c': 312, 'd': 445, 'e': 98, 't': 853, 'q': 34, 'f': 90, 'm': 230, 'p': 123, 'w': 111}"
   ]
  },
  {
   "cell_type": "code",
   "execution_count": 1873,
   "metadata": {},
   "outputs": [
    {
     "name": "stdout",
     "output_type": "stream",
     "text": [
      "114.56.4.18\n"
     ]
    }
   ],
   "source": [
    "import random\n",
    "\n",
    "def generate_ip():\n",
    "    return '.'.join(list(str(random.randint(0, 255)) for _ in range(4)))\n",
    "        \n",
    "print(generate_ip())"
   ]
  },
  {
   "cell_type": "code",
   "execution_count": 1874,
   "metadata": {},
   "outputs": [
    {
     "name": "stdout",
     "output_type": "stream",
     "text": [
      "3.139628\n"
     ]
    }
   ],
   "source": [
    "import random\n",
    "\n",
    "n = 10**6       # количество испытаний\n",
    "S0 = 4\n",
    "k = 0\n",
    "\n",
    "for _ in range(n):\n",
    "    x = random.uniform(-1, 1)\n",
    "    y = random.uniform(-1, 1)\n",
    "\n",
    "    if x**2 + y**2 <= 1:\n",
    "        k += 1\n",
    "\n",
    "print((k / n) * S0)\n"
   ]
  },
  {
   "cell_type": "code",
   "execution_count": 1875,
   "metadata": {},
   "outputs": [
    {
     "name": "stdout",
     "output_type": "stream",
     "text": [
      "1.2\n",
      "0.4994813555186418\n",
      "0.6744739152943241\n"
     ]
    }
   ],
   "source": [
    "from decimal import *\n",
    "from math import *\n",
    "\n",
    "num1 = Decimal('1.44')\n",
    "num2 = Decimal('0.523')\n",
    "\n",
    "sq = sqrt(num1)\n",
    "\n",
    "print(sqrt(num1))\n",
    "print(sin(num2))\n",
    "print(log(num1 + num2))"
   ]
  },
  {
   "cell_type": "code",
   "execution_count": 1876,
   "metadata": {},
   "outputs": [
    {
     "name": "stdout",
     "output_type": "stream",
     "text": [
      "279.12\n",
      "9.85 9.74 9.73 9.60 9.36\n"
     ]
    }
   ],
   "source": [
    "s = '9.73 8.84 8.92 9.60 9.32 8.97 8.53 1.26 6.62 9.85 1.85 1.80 0.83 6.75 9.74 9.11 9.14 5.03 5.03 1.34 3.52 8.09 7.89 8.24 8.23 5.22 0.30 2.59 1.25 6.24 2.14 7.54 5.72 2.75 2.32 2.69 9.32 8.11 4.53 0.80 0.08 9.36 5.22 4.08 3.86 5.56 1.43 8.36 6.29 5.13'\n",
    "\n",
    "from decimal import *\n",
    "\n",
    "arr = [Decimal(i) for i in s.split()]\n",
    "\n",
    "print(sum(arr))\n",
    "print(*sorted(arr, reverse=True)[:5])"
   ]
  },
  {
   "cell_type": "code",
   "execution_count": 1877,
   "metadata": {},
   "outputs": [
    {
     "data": {
      "text/plain": [
       "Decimal('11.63913323803972992163917977')"
      ]
     },
     "execution_count": 1877,
     "metadata": {},
     "output_type": "execute_result"
    }
   ],
   "source": [
    "from decimal import Decimal as D\n",
    "\n",
    "d = D('2.2')\n",
    "\n",
    "res = D.exp(d) + D.ln(d) + D.log10(d) + D.sqrt(d)\n",
    "res"
   ]
  },
  {
   "cell_type": "code",
   "execution_count": 1878,
   "metadata": {},
   "outputs": [
    {
     "data": {
      "text/plain": [
       "'ЯАРЕЛИ'"
      ]
     },
     "execution_count": 1878,
     "metadata": {},
     "output_type": "execute_result"
    }
   ],
   "source": [
    "st1 = set('КАВАЛЕРИЯ')\n",
    "st2 = set('МЕЛИОРАЦИЯ')\n",
    "st3 = st1.intersection(st2)\n",
    "''.join(st3)"
   ]
  },
  {
   "cell_type": "code",
   "execution_count": 1879,
   "metadata": {},
   "outputs": [
    {
     "name": "stdout",
     "output_type": "stream",
     "text": [
      "68\n"
     ]
    }
   ],
   "source": [
    "n = 100\n",
    "arr = []\n",
    "\n",
    "for i in range(101):\n",
    "    if i % 5 and i % 7:\n",
    "        arr.append(i)\n",
    "\n",
    "print(len(arr))"
   ]
  },
  {
   "cell_type": "code",
   "execution_count": 1880,
   "metadata": {},
   "outputs": [
    {
     "name": "stdout",
     "output_type": "stream",
     "text": [
      "68\n"
     ]
    }
   ],
   "source": [
    "print(len([x for x in range(101) if x % 5 != 0 and x % 7 != 0]))"
   ]
  },
  {
   "cell_type": "code",
   "execution_count": 1881,
   "metadata": {},
   "outputs": [
    {
     "name": "stdout",
     "output_type": "stream",
     "text": [
      "997021/100000\n"
     ]
    }
   ],
   "source": [
    "from fractions import Fraction as F\n",
    "\n",
    "s = '0.78 4.3 9.6 3.88 7.08 5.88 0.23 4.65 2.79 0.90 4.23 2.15 3.24 8.57 0.10 8.57 1.49 5.64 3.63 8.36 1.56 6.67 1.46 5.26 4.83 7.13 1.22 1.02 7.82 9.97 5.40 9.79 9.82 2.78 2.96 0.07 1.72 7.24 7.84 9.23 1.71 6.24 5.78 5.37 0.03 9.60 8.86 2.73 5.83 6.50 0.123 0.00021'\n",
    "\n",
    "arr = [F(i) for i in s.split()]\n",
    "\n",
    "print(min(arr) + max(arr))"
   ]
  },
  {
   "cell_type": "code",
   "execution_count": 1882,
   "metadata": {},
   "outputs": [
    {
     "name": "stdout",
     "output_type": "stream",
     "text": [
      "205/144\n"
     ]
    }
   ],
   "source": [
    "from fractions import Fraction as F\n",
    "\n",
    "n = 4\n",
    "\n",
    "print(sum(list(F(f'1/{i ** 2}') for i in range(1, n + 1))))"
   ]
  },
  {
   "cell_type": "code",
   "execution_count": 1883,
   "metadata": {},
   "outputs": [
    {
     "data": {
      "text/plain": [
       "3.0"
      ]
     },
     "execution_count": 1883,
     "metadata": {},
     "output_type": "execute_result"
    }
   ],
   "source": [
    "factorial(3) / (factorial(3-1)* factorial(1))"
   ]
  },
  {
   "cell_type": "code",
   "execution_count": 1884,
   "metadata": {},
   "outputs": [
    {
     "data": {
      "text/plain": [
       "1680.0"
      ]
     },
     "execution_count": 1884,
     "metadata": {},
     "output_type": "execute_result"
    }
   ],
   "source": [
    "factorial(16) / (factorial(16-3)* factorial(3)) * 3"
   ]
  },
  {
   "cell_type": "code",
   "execution_count": 1885,
   "metadata": {},
   "outputs": [
    {
     "data": {
      "text/plain": [
       "5j"
      ]
     },
     "execution_count": 1885,
     "metadata": {},
     "output_type": "execute_result"
    }
   ],
   "source": [
    "i = (-1) ** 0.5\n",
    "z = 1 + i\n",
    "\n",
    "z**3 + z**2 + z + 1"
   ]
  },
  {
   "cell_type": "code",
   "execution_count": 1886,
   "metadata": {},
   "outputs": [
    {
     "name": "stdout",
     "output_type": "stream",
     "text": [
      "{('Parker', 'Wilson', 50): ['Hatiko'], ('Josh', 'King', 25): ['Rusty', 'Balto', 'Barry', 'Lassie'], ('John', 'Smith', 28): ['Fido'], ('Jake', 'Smirnoff', 18): ['Butch'], ('Emma', 'Wright', 18): ['Odi'], ('Hannah', 'Taylor', 40): ['Snape'], ('Martha', 'Robinson', 73): ['Horry', 'Chase'], ('Alex', 'Martinez', 65): ['Giro'], ('Simon', 'Nevel', 32): ['Zooma', 'Rocky'], ('Martha', 'Williams', 38): ['Ace']}\n",
      "{('Parker', 'Wilson', 50): ['Hatiko'], ('Josh', 'King', 25): ['Rusty', 'Balto', 'Barry', 'Lassie'], ('John', 'Smith', 28): ['Fido'], ('Jake', 'Smirnoff', 18): ['Butch'], ('Emma', 'Wright', 18): ['Odi'], ('Hannah', 'Taylor', 40): ['Snape'], ('Martha', 'Robinson', 73): ['Horry', 'Chase'], ('Alex', 'Martinez', 65): ['Giro'], ('Simon', 'Nevel', 32): ['Zooma', 'Rocky'], ('Martha', 'Williams', 38): ['Ace']}\n"
     ]
    }
   ],
   "source": [
    "pets = [('Hatiko', 'Parker', 'Wilson', 50),\n",
    "        ('Rusty', 'Josh', 'King', 25),\n",
    "        ('Fido', 'John', 'Smith', 28),\n",
    "        ('Butch', 'Jake', 'Smirnoff', 18),\n",
    "        ('Odi', 'Emma', 'Wright', 18),\n",
    "        ('Balto', 'Josh', 'King', 25),\n",
    "        ('Barry', 'Josh', 'King', 25),\n",
    "        ('Snape', 'Hannah', 'Taylor', 40),\n",
    "        ('Horry', 'Martha', 'Robinson', 73),\n",
    "        ('Giro', 'Alex', 'Martinez', 65),\n",
    "        ('Zooma', 'Simon', 'Nevel', 32),\n",
    "        ('Lassie', 'Josh', 'King', 25),\n",
    "        ('Chase', 'Martha', 'Robinson', 73),\n",
    "        ('Ace', 'Martha', 'Williams', 38),\n",
    "        ('Rocky', 'Simon', 'Nevel', 32)]\n",
    "\n",
    "result = {}\n",
    "\n",
    "for line in pets:\n",
    "    arr = []\n",
    "    temp = (line[1], line[2], line[3])\n",
    "    result.setdefault(temp, []).append(line[0])\n",
    "print(result)\n",
    "\n",
    "result = {}\n",
    "\n",
    "for line in pets:\n",
    "    temp = (line[1], line[2], line[3])\n",
    "    result[temp] = result.get(temp, []) + [line[0]]\n",
    "\n",
    "print(result)"
   ]
  },
  {
   "cell_type": "code",
   "execution_count": 1887,
   "metadata": {},
   "outputs": [
    {
     "name": "stdout",
     "output_type": "stream",
     "text": [
      "a b c a_1 a_2 d c_1 "
     ]
    }
   ],
   "source": [
    "s = 'a b c a a d c'\n",
    "\n",
    "result = {}\n",
    "\n",
    "for c in s.split():\n",
    "    result[c] = result.get(c, -1) + 1\n",
    "    print((c, f'{c}_{result[c]}')[result[c] > 0], end=' ')"
   ]
  },
  {
   "cell_type": "code",
   "execution_count": 1888,
   "metadata": {},
   "outputs": [
    {
     "name": "stdout",
     "output_type": "stream",
     "text": [
      "YES\n"
     ]
    }
   ],
   "source": [
    "s1 = 'reward'\n",
    "s2 = 'drawer'\n",
    "\n",
    "my_dict1 = {i: s1.count(i) for i in s1}\n",
    "my_dict2 = {i: s2.count(i) for i in s2}\n",
    "\n",
    "print(('NO', 'YES')[my_dict1 == my_dict2])"
   ]
  },
  {
   "cell_type": "code",
   "execution_count": 1889,
   "metadata": {},
   "outputs": [
    {
     "name": "stdout",
     "output_type": "stream",
     "text": [
      "YES\n"
     ]
    }
   ],
   "source": [
    "s1 = 'reward'\n",
    "s2 = 'drawer'\n",
    "\n",
    "dcts = ({}, {})\n",
    "for d in dcts:\n",
    "    for c in (s1, s2):\n",
    "        d[c] = d.get(c, 0) + 1\n",
    "\n",
    "print(('NO', 'YES')[dcts[0] == dcts[1]])"
   ]
  },
  {
   "cell_type": "code",
   "execution_count": 1890,
   "metadata": {},
   "outputs": [
    {
     "name": "stdout",
     "output_type": "stream",
     "text": [
      "YES\n"
     ]
    }
   ],
   "source": [
    "import re\n",
    "\n",
    "words1 = 'William Shakespeare'\n",
    "words2 = 'I am a weakish: speller,'\n",
    "\n",
    "dcts = ({}, {})\n",
    "\n",
    "for d in dcts:\n",
    "    for c in (words1, words2):\n",
    "        c = re.sub(r'[.,;:-?-!]', '', c.lower())\n",
    "        d[c] = d.get(c, 0) + 1\n",
    "\n",
    "print(('NO', 'YES')[dcts[0] == dcts[1]])\n"
   ]
  },
  {
   "cell_type": "code",
   "execution_count": 1891,
   "metadata": {},
   "outputs": [],
   "source": [
    "# n = int(input())\n",
    "\n",
    "# dct = {i[0]: i[1:] for i in [(input().split()) for _ in range(n)]}\n",
    "\n",
    "# m = int(input())\n",
    "\n",
    "# for i in range(m):\n",
    "#     s = input()\n",
    "#     for k, v in dct.items():\n",
    "#         if s in v:\n",
    "#             print(k)"
   ]
  },
  {
   "cell_type": "code",
   "execution_count": 1892,
   "metadata": {},
   "outputs": [],
   "source": [
    "# n = int(input())\n",
    "# dct = {}\n",
    "\n",
    "# for i in range(n):\n",
    "#     k, v = input().split(':')\n",
    "#     dct[k.lower()] = v.strip()\n",
    "\n",
    "# m = int(input())\n",
    "\n",
    "# for i in range(m):\n",
    "#     s = input().lower()\n",
    "#     print(dct.get(s, 'Не найдено'))\n"
   ]
  },
  {
   "cell_type": "code",
   "execution_count": 1893,
   "metadata": {},
   "outputs": [
    {
     "name": "stdout",
     "output_type": "stream",
     "text": [
      "also\n"
     ]
    }
   ],
   "source": [
    "s = '''London is the capital of Great Britain. More than six million people live in London. \n",
    "London lies on both banks of the river Thames. It is the largest city in Europe and one of \n",
    "the largest cities in the world. London is not only the capital of the country, it is also \n",
    "a very big port, one of the greatest commercial centres in the world, a university city, \n",
    "and the seat of the government of Great Britain!'''\n",
    "\n",
    "arr = re.sub(r'[.,!?:;-]', '', s).lower().split()\n",
    "arr = [word.strip('.,!?:;-') for word in s.lower().split()]\n",
    "dct = {}\n",
    "\n",
    "for i in arr:\n",
    "    dct[i] = dct.get(i, 0) + 1\n",
    "\n",
    "lst = [(value, key) for key, value in dct.items()]\n",
    "lst.sort()\n",
    "print(lst[0][1])\n"
   ]
  },
  {
   "cell_type": "code",
   "execution_count": 1894,
   "metadata": {},
   "outputs": [],
   "source": [
    "# dct, word = {}, {}\n",
    "# s = input()\n",
    "\n",
    "# for c in s:\n",
    "#     word[c] = word.get(c, 0) + 1\n",
    "\n",
    "# n = int(input())\n",
    "\n",
    "# for _ in range(n):\n",
    "#     a, b = input().split(': ')\n",
    "#     dct[int(b)] = a\n",
    "# for c in s:\n",
    "#     print(dct[word[c]], end='')"
   ]
  },
  {
   "cell_type": "markdown",
   "metadata": {},
   "source": [
    "# Вложенные словари"
   ]
  },
  {
   "cell_type": "code",
   "execution_count": 1895,
   "metadata": {},
   "outputs": [
    {
     "data": {
      "text/plain": [
       "{'emp1': {'name': 'Timur', 'job': 'Teacher'},\n",
       " 'emp2': {'name': 'Ruslan', 'job': 'Developer'},\n",
       " 'emp3': {'name': 'Rustam', 'job': 'Tester'}}"
      ]
     },
     "execution_count": 1895,
     "metadata": {},
     "output_type": "execute_result"
    }
   ],
   "source": [
    "info = {'emp1': {'name': 'Timur', 'job': 'Teacher'},\n",
    "        'emp2': {'name': 'Ruslan', 'job': 'Developer'},\n",
    "        'emp3': {'name': 'Rustam', 'job': 'Tester'}}\n",
    "\n",
    "info"
   ]
  },
  {
   "cell_type": "code",
   "execution_count": 1896,
   "metadata": {},
   "outputs": [
    {
     "data": {
      "text/plain": [
       "{'emp1': {'name': 'Timur', 'job': 'Teacher'},\n",
       " 'emp2': {'name': 'Ruslan', 'job': 'Developer'},\n",
       " 'emp3': {'name': 'Rustam', 'job': 'Tester'}}"
      ]
     },
     "execution_count": 1896,
     "metadata": {},
     "output_type": "execute_result"
    }
   ],
   "source": [
    "info = dict(emp1 = {'name': 'Timur', 'job': 'Teacher'},\n",
    "            emp2 = {'name': 'Ruslan', 'job': 'Developer'},\n",
    "            emp3 = {'name': 'Rustam', 'job': 'Tester'})\n",
    "\n",
    "info"
   ]
  },
  {
   "cell_type": "code",
   "execution_count": 1897,
   "metadata": {},
   "outputs": [
    {
     "data": {
      "text/plain": [
       "{'emp1': {'name': 'Timur', 'job': 'Teacher'},\n",
       " 'emp2': {'name': 'Ruslan', 'job': 'Developer'},\n",
       " 'emp3': {'name': 'Rustam', 'job': 'Tester'}}"
      ]
     },
     "execution_count": 1897,
     "metadata": {},
     "output_type": "execute_result"
    }
   ],
   "source": [
    "ids = ['emp1', 'emp2', 'emp3']\n",
    "\n",
    "emp_info = [{'name': 'Timur', 'job': 'Teacher'},\n",
    "            {'name': 'Ruslan', 'job': 'Developer'},\n",
    "            {'name': 'Rustam', 'job': 'Tester'}]\n",
    "\n",
    "info = dict(zip(ids, emp_info))\n",
    "\n",
    "info"
   ]
  },
  {
   "cell_type": "code",
   "execution_count": 1898,
   "metadata": {},
   "outputs": [
    {
     "name": "stdout",
     "output_type": "stream",
     "text": [
      "Timur\n",
      "Developer\n"
     ]
    }
   ],
   "source": [
    "print(info['emp1']['name'])\n",
    "print(info['emp2']['job'])"
   ]
  },
  {
   "cell_type": "code",
   "execution_count": 1899,
   "metadata": {},
   "outputs": [
    {
     "name": "stdout",
     "output_type": "stream",
     "text": [
      "Employee ID: emp1\n",
      "name: Timur\n",
      "job: Teacher\n",
      "\n",
      "Employee ID: emp2\n",
      "name: Ruslan\n",
      "job: Developer\n",
      "\n",
      "Employee ID: emp3\n",
      "name: Rustam\n",
      "job: Tester\n",
      "\n"
     ]
    }
   ],
   "source": [
    "for emp in info:\n",
    "    print('Employee ID:', emp)\n",
    "    for key in info[emp]:\n",
    "        print(key + ':', info[emp][key])\n",
    "    print()"
   ]
  },
  {
   "cell_type": "code",
   "execution_count": 1900,
   "metadata": {},
   "outputs": [
    {
     "name": "stdout",
     "output_type": "stream",
     "text": [
      "Employee ID: emp1\n",
      "name: Timur\n",
      "job: Teacher\n",
      "\n",
      "Employee ID: emp2\n",
      "name: Ruslan\n",
      "job: Developer\n",
      "\n",
      "Employee ID: emp3\n",
      "name: Rustam\n",
      "job: Tester\n",
      "\n"
     ]
    }
   ],
   "source": [
    "for emp, inf in info.items():\n",
    "    print('Employee ID:', emp)\n",
    "    for key in inf:\n",
    "        print(key + ':', inf[key])\n",
    "    print()"
   ]
  },
  {
   "cell_type": "code",
   "execution_count": 1901,
   "metadata": {},
   "outputs": [
    {
     "name": "stdout",
     "output_type": "stream",
     "text": [
      "{0: 'A', 2: 'C', 5: 'F'}\n"
     ]
    }
   ],
   "source": [
    "dict1 = {0: 'A', 1: 'B', 2: 'C', 3: 'D', 4: 'E', 5: 'F'}\n",
    "selected_keys = [0, 2, 5]\n",
    "\n",
    "dict2 = {k: dict1[k] for k in selected_keys}\n",
    "\n",
    "print(dict2)"
   ]
  },
  {
   "cell_type": "markdown",
   "metadata": {},
   "source": [
    "# Генераторы вложенных словарей"
   ]
  },
  {
   "cell_type": "code",
   "execution_count": 1902,
   "metadata": {},
   "outputs": [
    {
     "name": "stdout",
     "output_type": "stream",
     "text": [
      "{0: 0}\n",
      "{0: 0, 1: 1}\n",
      "{0: 0, 1: 1, 2: 4}\n",
      "{0: 0, 1: 1, 2: 4, 3: 9}\n",
      "{0: 0, 1: 1, 2: 4, 3: 9, 4: 16}\n"
     ]
    }
   ],
   "source": [
    "squares = {i: {j: j**2 for j in range(i + 1)} for i in range(5)}\n",
    "\n",
    "for value in squares.values():\n",
    "    print(value)"
   ]
  },
  {
   "cell_type": "code",
   "execution_count": 1903,
   "metadata": {},
   "outputs": [
    {
     "data": {
      "text/plain": [
       "{0: 1156, 1: 100, 2: 16, 3: 36}"
      ]
     },
     "execution_count": 1903,
     "metadata": {},
     "output_type": "execute_result"
    }
   ],
   "source": [
    "numbers = [34, 10, -4, 6]\n",
    "\n",
    "result = {k: v**2 for (k, v) in zip(range(len(numbers)), numbers)}\n",
    "\n",
    "result"
   ]
  },
  {
   "cell_type": "code",
   "execution_count": 1904,
   "metadata": {},
   "outputs": [
    {
     "data": {
      "text/plain": [
       "{0: 1156, 1: 100, 2: 16, 3: 36}"
      ]
     },
     "execution_count": 1904,
     "metadata": {},
     "output_type": "execute_result"
    }
   ],
   "source": [
    "numbers = [34, 10, -4, 6]\n",
    "\n",
    "result = {k: v**2 for k, v in enumerate(numbers)}\n",
    "\n",
    "result"
   ]
  },
  {
   "cell_type": "code",
   "execution_count": 1905,
   "metadata": {},
   "outputs": [
    {
     "data": {
      "text/plain": [
       "{0: 1156, 1: 100, 2: 16, 3: 36}"
      ]
     },
     "execution_count": 1905,
     "metadata": {},
     "output_type": "execute_result"
    }
   ],
   "source": [
    "numbers = [34, 10, -4, 6]\n",
    "\n",
    "result = {i: numbers[i]**2 for i in range(len(numbers))}\n",
    "\n",
    "result"
   ]
  },
  {
   "cell_type": "code",
   "execution_count": 1906,
   "metadata": {},
   "outputs": [
    {
     "data": {
      "text/plain": [
       "{'c1': 'Red',\n",
       " 'c12': 'Gold',\n",
       " 'c14': 'Amber',\n",
       " 'c17': 'Bronze',\n",
       " 'c19': 'Lilac',\n",
       " 'c20': 'Pearl',\n",
       " 'c22': 'Sand'}"
      ]
     },
     "execution_count": 1906,
     "metadata": {},
     "output_type": "execute_result"
    }
   ],
   "source": [
    "colors = {'c1': 'Red', 'c12': 'Gold', 'c13': None, 'c14': 'Amber', 'c17': 'Bronze', 'c18': None, 'c19': 'Lilac', 'c20': 'Pearl', 'c21': None, 'c22': 'Sand', 'c23': None}\n",
    "\n",
    "result = {k: v for k, v in colors.items() if v}\n",
    "result"
   ]
  },
  {
   "cell_type": "code",
   "execution_count": 1907,
   "metadata": {},
   "outputs": [
    {
     "data": {
      "text/plain": [
       "{1: 'men', 2: 'kind', 90: 'number', 0: 'sun', 34: 'book', 56: 'mountain'}"
      ]
     },
     "execution_count": 1907,
     "metadata": {},
     "output_type": "execute_result"
    }
   ],
   "source": [
    "s = '1:men 2:kind 90:number 0:sun 34:book 56:mountain'\n",
    "\n",
    "result = {int(i[0]): i[1] for i in [c.split(':') for c in s.split()]}\n",
    "result"
   ]
  },
  {
   "cell_type": "code",
   "execution_count": 1908,
   "metadata": {},
   "outputs": [
    {
     "data": {
      "text/plain": [
       "{1: [1], 6: [1, 2, 3, 6], 18: [1, 2, 3, 6, 9, 18]}"
      ]
     },
     "execution_count": 1908,
     "metadata": {},
     "output_type": "execute_result"
    }
   ],
   "source": [
    "# Найти делители\n",
    "\n",
    "numbers = [1, 6, 18]\n",
    "\n",
    "# Должно получится : result = {1: [1], 6: [1, 2, 3, 6], 18: [1, 2, 3, 6, 9, 18]}\n",
    "\n",
    "result = {k: v for (k, v) in zip(numbers, [[j for j in range(1, i + 1) if i % j == 0] for i in numbers])}\n",
    "result"
   ]
  },
  {
   "cell_type": "code",
   "execution_count": 1909,
   "metadata": {},
   "outputs": [],
   "source": [
    "words = ['yes', 'hello']\n",
    "\n",
    "# result = {'yes': [121, 101, 115], 'hello': [104, 101, 108, 108, 111]}\n",
    "\n",
    "result = {k: v for (k, v) in zip(words, [[ord(i) for i in word] for word in words])}"
   ]
  },
  {
   "cell_type": "code",
   "execution_count": 1910,
   "metadata": {},
   "outputs": [
    {
     "data": {
      "text/plain": [
       "[[121, 101, 115], [104, 101, 108, 108, 111]]"
      ]
     },
     "execution_count": 1910,
     "metadata": {},
     "output_type": "execute_result"
    }
   ],
   "source": [
    "words = ['yes', 'hello']\n",
    "[[ord(i) for i in word] for word in words]"
   ]
  },
  {
   "cell_type": "code",
   "execution_count": 1911,
   "metadata": {},
   "outputs": [
    {
     "data": {
      "text/plain": [
       "{'Soltan': (192, 68), 'Roman': (175, 70), 'Anna': (172, 67), 'Mary': (175, 69)}"
      ]
     },
     "execution_count": 1911,
     "metadata": {},
     "output_type": "execute_result"
    }
   ],
   "source": [
    "students = {'Timur': (170, 75), 'Ruslan': (180, 105), 'Soltan': (192, 68), 'Roman': (175, 70), 'Madlen': (160, 50), 'Stefani': (165, 70), 'Tom': (190, 90), 'Jerry': (180, 87), 'Anna': (172, 67), 'Scott': (168, 78), 'John': (186, 79), 'Alex': (195, 120), 'Max': (200, 110), 'Barak': (180, 89), 'Donald': (170, 80), 'Rustam': (186, 100), 'Alice': (159, 59), 'Rita': (170, 80), 'Mary': (175, 69), 'Jane': (190, 80)}\n",
    "\n",
    "result = {k: v for k, v in students.items() if v[0] > 167 and v[1] < 75}\n",
    "result"
   ]
  },
  {
   "cell_type": "code",
   "execution_count": 1912,
   "metadata": {},
   "outputs": [
    {
     "data": {
      "text/plain": [
       "{1: (2, 3),\n",
       " 4: (5, 6),\n",
       " 7: (8, 9),\n",
       " 10: (11, 12),\n",
       " 13: (14, 15),\n",
       " 16: (17, 18),\n",
       " 19: (20, 21),\n",
       " 22: (23, 24),\n",
       " 25: (26, 27),\n",
       " 28: (29, 30),\n",
       " 31: (32, 33),\n",
       " 34: (35, 36)}"
      ]
     },
     "execution_count": 1912,
     "metadata": {},
     "output_type": "execute_result"
    }
   ],
   "source": [
    "tuples = [(1, 2, 3), (4, 5, 6), (7, 8, 9), (10, 11, 12), (13, 14, 15), (16, 17, 18), (19, 20, 21), (22, 23, 24), (25, 26, 27), (28, 29, 30), (31, 32, 33), (34, 35, 36)]\n",
    "\n",
    "result = {i[0]: i[1:] for i in tuples}\n",
    "result"
   ]
  },
  {
   "cell_type": "code",
   "execution_count": 1913,
   "metadata": {},
   "outputs": [
    {
     "data": {
      "text/plain": [
       "[{'S001': {'Camila Rodriguez': 86}},\n",
       " {'S002': {'Juan Cruz': 98}},\n",
       " {'S003': {'Dan Richards': 89}},\n",
       " {'S004': {'Sam Boyle': 92}},\n",
       " {'S005': {'Batista Cesare': 45}},\n",
       " {'S006': {'Francesco Totti': 67}},\n",
       " {'S007': {'Khalid Hussain': 89}},\n",
       " {'S008': {'Ethan Hawke': 90}},\n",
       " {'S009': {'David Bowman': 100}},\n",
       " {'S010': {'James Milner': 98}},\n",
       " {'S011': {'Michael Owen': 10}},\n",
       " {'S012': {'Gary Oldman': 96}},\n",
       " {'S013': {'Tom Hardy': 93}}]"
      ]
     },
     "execution_count": 1913,
     "metadata": {},
     "output_type": "execute_result"
    }
   ],
   "source": [
    "student_ids = ['S001', 'S002', 'S003', 'S004', 'S005', 'S006', 'S007', 'S008', 'S009', 'S010', 'S011', 'S012', 'S013'] \n",
    "student_names = ['Camila Rodriguez', 'Juan Cruz', 'Dan Richards', 'Sam Boyle', 'Batista Cesare', 'Francesco Totti', 'Khalid Hussain', 'Ethan Hawke', 'David Bowman', 'James Milner', 'Michael Owen', 'Gary Oldman', 'Tom Hardy'] \n",
    "student_grades = [86, 98, 89, 92, 45, 67, 89, 90, 100, 98, 10, 96, 93]\n",
    "\n",
    "result = [{k:{k1: v1}} for k, k1, v1 in zip(student_ids, student_names, student_grades)]\n",
    "result"
   ]
  },
  {
   "cell_type": "code",
   "execution_count": 1914,
   "metadata": {},
   "outputs": [
    {
     "data": {
      "text/plain": [
       "{'C1': [10, 20, 7, 6],\n",
       " 'C2': [20, 1, 2, 3, 12],\n",
       " 'C3': [12, 20],\n",
       " 'C4': [7],\n",
       " 'C5': [2, 4, 19],\n",
       " 'C6': [4, 6, 7, 10],\n",
       " 'C7': [4, 8, 12],\n",
       " 'C8': [3, 14, 15],\n",
       " 'C9': [2, 7, 18, 18]}"
      ]
     },
     "execution_count": 1914,
     "metadata": {},
     "output_type": "execute_result"
    }
   ],
   "source": [
    "my_dict = {'C1': [10, 20, 30, 7, 6, 23, 90], 'C2': [20, 30, 40, 1, 2, 3, 90, 12], 'C3': [12, 34, 20, 21], 'C4': [22, 54, 209, 21, 7], 'C5': [2, 4, 29, 21, 19], 'C6': [4, 6, 7, 10, 55], 'C7': [4, 8, 12, 23, 42], 'C8': [3, 14, 15, 26, 48], 'C9': [2, 7, 18, 28, 18, 28]}\n",
    "\n",
    "my_dict = {k: v for k, v in zip(my_dict.keys(), [[j for j in i if j <= 20] for i in my_dict.values()])}\n",
    "\n",
    "my_dict"
   ]
  },
  {
   "cell_type": "code",
   "execution_count": 1915,
   "metadata": {},
   "outputs": [
    {
     "name": "stdout",
     "output_type": "stream",
     "text": [
      "angel.down@mail.ru\n",
      "apple.fruit@msu.edu\n",
      "beegeek.school@msu.edu\n",
      "beegeek@msu.edu\n",
      "cream.soda@hse.edu\n",
      "google@yandex.ru\n",
      "joanne@mail.ru\n",
      "joseph@nosu.edu\n",
      "larisa.mamuk@nosu.edu\n",
      "ruslan.chaika@gmail.com\n",
      "rustam.mini@gmail.com\n",
      "stepik-best@gmail.com\n",
      "surface@yandex.ru\n",
      "svetlana.gaeva@nosu.edu\n",
      "the.fame.moster@mail.ru\n",
      "timyr@nosu.edu\n",
      "tomas-henders@hse.edu\n",
      "zivert@hse.edu\n"
     ]
    }
   ],
   "source": [
    "emails = {'nosu.edu': ['timyr', 'joseph', 'svetlana.gaeva', 'larisa.mamuk'], \n",
    "          'gmail.com': ['ruslan.chaika', 'rustam.mini', 'stepik-best'], \n",
    "          'msu.edu': ['apple.fruit', 'beegeek', 'beegeek.school'], \n",
    "          'yandex.ru': ['surface', 'google'],\n",
    "          'hse.edu': ['tomas-henders', 'cream.soda', 'zivert'],\n",
    "          'mail.ru': ['angel.down', 'joanne', 'the.fame.moster']}\n",
    "\n",
    "arr = []\n",
    "\n",
    "for k, v in emails.items():\n",
    "    for c in v:\n",
    "        arr.append(c + '@' + k)\n",
    "\n",
    "print(*sorted(arr), sep='\\n')"
   ]
  },
  {
   "cell_type": "code",
   "execution_count": 1916,
   "metadata": {},
   "outputs": [
    {
     "name": "stdout",
     "output_type": "stream",
     "text": [
      "UGAC\n"
     ]
    }
   ],
   "source": [
    "d = {'A': 'U', 'C': 'G', 'G': 'C', 'T': 'A'}\n",
    "\n",
    "s = 'ACTG'\n",
    "\n",
    "print(''.join([d[c] for c in s]))"
   ]
  },
  {
   "cell_type": "code",
   "execution_count": 1917,
   "metadata": {},
   "outputs": [
    {
     "name": "stdout",
     "output_type": "stream",
     "text": [
      "1 1 1 2 1 3 1 1 1 1 2 1 "
     ]
    },
    {
     "data": {
      "text/plain": [
       "{'привет': 1,\n",
       " 'что': 3,\n",
       " 'делаешь': 1,\n",
       " 'нового': 1,\n",
       " 'с': 2,\n",
       " 'работой': 1,\n",
       " 'как': 1,\n",
       " 'там': 1,\n",
       " 'деньгами': 1}"
      ]
     },
     "execution_count": 1917,
     "metadata": {},
     "output_type": "execute_result"
    }
   ],
   "source": [
    "line = 'Привет что делаешь что нового что с работой как там с деньгами'.lower().split()\n",
    "\n",
    "dct = {}\n",
    "\n",
    "for s in line:\n",
    "    dct[s] = dct.get(s, 0) + 1\n",
    "    print(dct[s], end=' ')\n",
    "dct"
   ]
  },
  {
   "cell_type": "code",
   "execution_count": 1918,
   "metadata": {},
   "outputs": [
    {
     "data": {
      "text/plain": [
       "15"
      ]
     },
     "execution_count": 1918,
     "metadata": {},
     "output_type": "execute_result"
    }
   ],
   "source": [
    "d = {\n",
    "    1: \"AEILNORSTU\",\n",
    "    2: \"DG\",\n",
    "    3: \"BCMP\",\n",
    "    4: \"FHVWY\",\n",
    "    5: \"K\",\n",
    "    8: \"JX\",\n",
    "    10: \"QZ\"\n",
    "}\n",
    "\n",
    "line = 'FRESHENER'\n",
    "\n",
    "total = 0\n",
    "\n",
    "for s in line:\n",
    "    for k, v in d.items():\n",
    "        if s in v:\n",
    "            total += k\n",
    "\n",
    "total"
   ]
  },
  {
   "cell_type": "code",
   "execution_count": 1919,
   "metadata": {},
   "outputs": [],
   "source": [
    "# transform = {'execute': 'X', 'write': 'W', 'read': 'R'}\n",
    "# mydict = {}\n",
    "\n",
    "# for _ in range(int(input())):\n",
    "#     name, *operations = input().split()\n",
    "#     mydict[name] = operations\n",
    "    \n",
    "# for _ in range(int(input())):\n",
    "#     operation, name = input().split()\n",
    "#     if transform[operation] in mydict[name]:\n",
    "#         print('OK')\n",
    "#     else:\n",
    "#         print('Access denied')"
   ]
  },
  {
   "cell_type": "code",
   "execution_count": 1920,
   "metadata": {},
   "outputs": [
    {
     "name": "stdout",
     "output_type": "stream",
     "text": [
      "color=red&page=7&per=14\n"
     ]
    }
   ],
   "source": [
    "def build_query_string(params):\n",
    "    s = '&'.join([str(i[0]) + '=' + str(i[1]) for i in sorted(params.items())])\n",
    "    return s\n",
    "\n",
    "print(build_query_string({\"per\": 14, \"page\": 7, \"color\": \"red\"}))"
   ]
  },
  {
   "cell_type": "code",
   "execution_count": 1921,
   "metadata": {},
   "outputs": [
    {
     "name": "stdout",
     "output_type": "stream",
     "text": [
      "{'a': {1, 5}, 'b': {17, 2, 10}, 'c': {50, 100}, 'd': {777}}\n"
     ]
    }
   ],
   "source": [
    "# Объединение словарей\n",
    "\n",
    "def merge(values):\n",
    "    res = {}\n",
    "    for d in values:\n",
    "        for k, v in d.items():\n",
    "            res.setdefault(k, set()).add(v)\n",
    "    return res\n",
    "\n",
    "result = merge([{'a': 1, 'b': 2}, {'b': 10, 'c': 100}, {'a': 1, 'b': 17, 'c': 50}, {'a': 5, 'd': 777}])\n",
    "\n",
    "print(result)"
   ]
  },
  {
   "cell_type": "code",
   "execution_count": 1922,
   "metadata": {},
   "outputs": [
    {
     "data": {
      "text/plain": [
       "{'a': {1, 5}, 'b': {2, 10, 17}, 'c': {50, 100}, 'd': {777}}"
      ]
     },
     "execution_count": 1922,
     "metadata": {},
     "output_type": "execute_result"
    }
   ],
   "source": [
    "dcts = [{'a': 1, 'b': 2}, {'b': 10, 'c': 100}, {'a': 1, 'b': 17, 'c': 50}, {'a': 5, 'd': 777}]\n",
    "\n",
    "res = {}\n",
    "\n",
    "for dct in dcts:\n",
    "    for k, v in dct.items():\n",
    "        res[k] = res.get(k, set()) | {v}\n",
    "\n",
    "res"
   ]
  },
  {
   "cell_type": "markdown",
   "metadata": {},
   "source": [
    "# Заполнение многоуровневого словаря"
   ]
  },
  {
   "cell_type": "code",
   "execution_count": 1923,
   "metadata": {},
   "outputs": [],
   "source": [
    "# n = int(input())\n",
    "# dct = {}\n",
    "\n",
    "# for i in range(n):\n",
    "#     name, thing, amount = input().split()\n",
    "#     dct[name][thing] = dct.setdefault(name, {}).get(thing, 0) + int(amount) \n",
    "\n",
    "# for name, things in sorted(dct.items()):\n",
    "#     print(name + ':')\n",
    "#     for thing, amount in sorted(things.items()):\n",
    "#         print(thing, amount)\n"
   ]
  },
  {
   "cell_type": "markdown",
   "metadata": {},
   "source": [
    "# Вложенные списки, Матрицы"
   ]
  },
  {
   "cell_type": "code",
   "execution_count": 1924,
   "metadata": {},
   "outputs": [
    {
     "name": "stdout",
     "output_type": "stream",
     "text": [
      "[1]\n",
      "[1, 1]\n",
      "[1, 2, 1]\n",
      "[1, 3, 3, 1]\n",
      "[1, 4, 6, 4, 1]\n",
      "[1, 5, 10, 10, 5, 1]\n",
      "[1, 6, 15, 20, 15, 6, 1]\n",
      "\n",
      "[1, 3, 3, 1]\n"
     ]
    }
   ],
   "source": [
    "# Треугольник Паскаля\n",
    "\n",
    "n = 7   # - количество строк\n",
    "\n",
    "arr = [[0] * i for i in range(1, n + 1)]\n",
    "\n",
    "for i in range(n):\n",
    "    lst = []\n",
    "    for j in range(i + 1):\n",
    "        if i == j or j == 0:\n",
    "            arr[i][j] = 1\n",
    "        else:\n",
    "            arr[i][j] = arr[i-1][j-1] + arr[i-1][j]\n",
    "\n",
    "print(*arr, sep='\\n')\n",
    "print()\n",
    "\n",
    "m = 4   # - вывод строки под номером m\n",
    "print(arr[m - 1])"
   ]
  },
  {
   "cell_type": "code",
   "execution_count": 1925,
   "metadata": {},
   "outputs": [],
   "source": [
    "# def pascal(n):\n",
    "#     arr = [[0] * i for i in range(1, n + 1)]\n",
    "\n",
    "#     for i in range(n):\n",
    "#         lst = []\n",
    "#         for j in range(i + 1):\n",
    "#             if i == j or j == 0:\n",
    "#                 arr[i][j] = 1\n",
    "#             else:\n",
    "#                 arr[i][j] = arr[i-1][j-1] + arr[i-1][j]\n",
    "#     return arr[: (n - 1)]\n",
    "\n",
    "# n = int(input()) + 1\n",
    "\n",
    "# arr = pascal(n)\n",
    "\n",
    "# for i in arr:\n",
    "#     print(*i)"
   ]
  },
  {
   "cell_type": "code",
   "execution_count": 1926,
   "metadata": {},
   "outputs": [
    {
     "name": "stdout",
     "output_type": "stream",
     "text": [
      "[['a'], ['b', 'b'], ['a'], ['b'], ['c']]\n"
     ]
    }
   ],
   "source": [
    "# Упаковка дубликатов\n",
    "\n",
    "s = 'a b b a b c'\n",
    "\n",
    "user_input = s.split()\n",
    "# Создайте список пустой result для записи конечного результата и список temp, в котором будут храниться элементы, которые в процессе будут добавляться в список result.\n",
    "# Добавьте в список temp первый элемент из получившегося списка из input для сравнения с последующим элементом.\n",
    "# Убедитесь, что в temp хранится именно список, а не строка.\n",
    "result = []\n",
    "temp = list(user_input[0])\n",
    "# Создайте цикл от 1 до длины input'а.\n",
    "for i in range(1, len(user_input)):\n",
    "# Если элемент input'а по индексу i равно первому элементу списка temp, то в список temp добавляется этот элемент.\n",
    "    if user_input[i] == temp[0]:\n",
    "        temp.append(user_input[i])\n",
    "# Иначе добавляем в список result переменную temp, в которой на этой итерации цикла уже скопились все одинаковые символы идущие подряд.\n",
    "    else:\n",
    "        result.append(temp)\n",
    "        temp = list(user_input[i])\n",
    "# Потом вне цикла добавляем в список result последний список повторяющихся символов из temp. Они не добавились, потому что условие, которое добавило бы их в итоговый список не удовлетворилось.\n",
    "result.append(temp)\n",
    "# И выводим конечный результат.\n",
    "print(result)"
   ]
  },
  {
   "cell_type": "code",
   "execution_count": 1927,
   "metadata": {},
   "outputs": [
    {
     "data": {
      "text/plain": [
       "[['1', '2', '3', '4'], ['5', '6']]"
      ]
     },
     "execution_count": 1927,
     "metadata": {},
     "output_type": "execute_result"
    }
   ],
   "source": [
    "# Разбиение на списки по n элементов\n",
    "\n",
    "line = '1 2 3 4 5 6'.split()\n",
    "line.reverse()\n",
    "\n",
    "n = 4\n",
    "res = []\n",
    "\n",
    "while len(line) != 0:\n",
    "    arr = []\n",
    "    for i in range(n):\n",
    "        if len(line) != 0:\n",
    "            arr.append(line.pop())\n",
    "    res.append(arr)\n",
    "res\n"
   ]
  },
  {
   "cell_type": "code",
   "execution_count": 1928,
   "metadata": {},
   "outputs": [
    {
     "data": {
      "text/plain": [
       "[['1', '2', '3', '4'], ['5', '6']]"
      ]
     },
     "execution_count": 1928,
     "metadata": {},
     "output_type": "execute_result"
    }
   ],
   "source": [
    "line = '1 2 3 4 5 6'.split()\n",
    "n = 4\n",
    "\n",
    "res = [line[i: i + n] for i in range(0, len(line), n)] # срезы\n",
    "res"
   ]
  },
  {
   "cell_type": "markdown",
   "metadata": {},
   "source": [
    "# Создание копии списка"
   ]
  },
  {
   "cell_type": "code",
   "execution_count": 1929,
   "metadata": {},
   "outputs": [
    {
     "name": "stdout",
     "output_type": "stream",
     "text": [
      "[[5, 2], [3, 4]]\n",
      "[[5, 2], [3, 4]]\n"
     ]
    }
   ],
   "source": [
    "original_list = [[1, 2], [3, 4]]\n",
    "copied_list = original_list.copy()\n",
    "\n",
    "# изменяем первый элемент в скопированном списке\n",
    "copied_list[0][0] = 5\n",
    "\n",
    "print(original_list)  # выведет [[5, 2], [3, 4]]\n",
    "print(copied_list)    # выведет [[5, 2], [3, 4]]"
   ]
  },
  {
   "cell_type": "code",
   "execution_count": 1930,
   "metadata": {},
   "outputs": [
    {
     "name": "stdout",
     "output_type": "stream",
     "text": [
      "[[1, 2], [3, 4]]\n",
      "[[5, 2], [3, 4]]\n"
     ]
    }
   ],
   "source": [
    "import copy\n",
    "\n",
    "original_list = [[1, 2], [3, 4]]\n",
    "copied_list = copy.deepcopy(original_list)\n",
    "\n",
    "# изменяем первый элемент в скопированном списке\n",
    "copied_list[0][0] = 5\n",
    "\n",
    "print(original_list)  # выведет [[1, 2], [3, 4]]\n",
    "print(copied_list)    # выведет [[5, 2], [3, 4]]"
   ]
  },
  {
   "cell_type": "markdown",
   "metadata": {},
   "source": [
    "# Матрицы"
   ]
  },
  {
   "cell_type": "code",
   "execution_count": 1931,
   "metadata": {},
   "outputs": [
    {
     "name": "stdout",
     "output_type": "stream",
     "text": [
      "2 9 4 \n",
      "3 4 7 \n",
      "1 6 2 \n",
      "0 8 7 \n"
     ]
    }
   ],
   "source": [
    "rows, cols = 3, 4  # rows - количество строк, cols - количество столбцов\n",
    "\n",
    "matrix  = [[2, 3, 1, 0],\n",
    "           [9, 4, 6, 8],\n",
    "           [4, 7, 2, 7]]\n",
    "\n",
    "for i in range(cols):\n",
    "    for j in range(rows):\n",
    "        print(matrix[j][i], end=' ')\n",
    "    print()"
   ]
  },
  {
   "cell_type": "code",
   "execution_count": 1932,
   "metadata": {},
   "outputs": [
    {
     "name": "stdout",
     "output_type": "stream",
     "text": [
      "a    \n",
      "ab   \n",
      "abc**\n"
     ]
    }
   ],
   "source": [
    "print('a'.ljust(5, ' '))\n",
    "print('ab'.ljust(5, ' '))\n",
    "print('abc'.ljust(5, '*'))"
   ]
  },
  {
   "cell_type": "code",
   "execution_count": 1933,
   "metadata": {},
   "outputs": [
    {
     "name": "stdout",
     "output_type": "stream",
     "text": [
      "    a\n",
      "   ab\n",
      "**abc\n"
     ]
    }
   ],
   "source": [
    "print('a'.rjust(5, ' '))\n",
    "print('ab'.rjust(5, ' '))\n",
    "print('abc'.rjust(5, '*'))"
   ]
  },
  {
   "cell_type": "code",
   "execution_count": 1934,
   "metadata": {},
   "outputs": [
    {
     "name": "stdout",
     "output_type": "stream",
     "text": [
      "277   -930  11    0     \n",
      "9     43    6     87    \n",
      "4456  8     290   7     \n"
     ]
    }
   ],
   "source": [
    "rows, cols = 3, 4  # rows - количество строк, cols - количество столбцов\n",
    "\n",
    "matrix  = [[277, -930, 11, 0],\n",
    "           [9, 43, 6, 87],\n",
    "           [4456, 8, 290, 7]]\n",
    "\n",
    "for r in range(rows):\n",
    "    for c in range(cols):\n",
    "        print(str(matrix[r][c]).ljust(6), end='')\n",
    "    print()"
   ]
  },
  {
   "cell_type": "code",
   "execution_count": 1935,
   "metadata": {},
   "outputs": [
    {
     "name": "stdout",
     "output_type": "stream",
     "text": [
      "1 0 0 0 0 0 0 2 \n",
      "0 1 0 0 0 0 2 0 \n",
      "0 0 1 0 0 2 0 0 \n",
      "0 0 0 1 2 0 0 0 \n",
      "0 0 0 2 1 0 0 0 \n",
      "0 0 2 0 0 1 0 0 \n",
      "0 2 0 0 0 0 1 0 \n",
      "2 0 0 0 0 0 0 1 \n"
     ]
    }
   ],
   "source": [
    "# Квадратная матрица\n",
    "\n",
    "n = 8\n",
    "matrix = [[0]*n for _ in range(n)]    # создаем квадратную матрицу размером 8×8\n",
    "\n",
    "for i in range(n):                    # заполняем главную диагональ единицами, а побочную двойками\n",
    "    matrix[i][i] = 1\n",
    "    matrix[i][n-i-1] = 2\n",
    "\n",
    "for r in range(n):                    # выводим матрицу\n",
    "    for c in range(n):\n",
    "        print(matrix[r][c], end=' ')\n",
    "    print()"
   ]
  },
  {
   "cell_type": "code",
   "execution_count": 1936,
   "metadata": {},
   "outputs": [],
   "source": [
    "# Индексы i и j элементов на главной диагонали связаны соотношением i = j. \n",
    "# Индексы i и j элементов на побочной диагонали связаны соотношением i + j + 1 = n (или  j = n - i - 1), где n — размерность матрицы.\n",
    "\n",
    "# Заметим также, что:\n",
    "\n",
    "# если элемент находится выше главной диагонали, то i < j, если ниже - i > j.\n",
    "# если элемент находится выше побочной диагонали, то i + j + 1 < n, если ниже - i + j + 1 > n."
   ]
  },
  {
   "cell_type": "code",
   "execution_count": 1937,
   "metadata": {},
   "outputs": [],
   "source": [
    "# Используйте функцию print_matrix() для вывода квадратной матрицы размерности n:\n",
    "\n",
    "def print_matrix(matrix, n, width=1):\n",
    "    for r in range(n):\n",
    "        for c in range(n):\n",
    "            print(str(matrix[r][c]).ljust(width), end=' ')\n",
    "        print()"
   ]
  },
  {
   "cell_type": "code",
   "execution_count": 1938,
   "metadata": {},
   "outputs": [],
   "source": [
    "# Для считывания матрицы из n строк, заполненной числами:\n",
    "\n",
    "# n = int(input())\n",
    "# matrix = []\n",
    "# for i in range(n):\n",
    "#     temp = [int(num) for num in input().split()]\n",
    "#     matrix.append(temp)"
   ]
  },
  {
   "cell_type": "code",
   "execution_count": 1939,
   "metadata": {},
   "outputs": [],
   "source": [
    "# Заполнение матрицы по одному элементу\n",
    " \n",
    "#  n, m = int(input()), int(input())\n",
    "# matrix = [[input() for _ in range(m)] for _ in range(n)]\n",
    "\n",
    "# for row in matrix:\n",
    "#     print(*row)"
   ]
  },
  {
   "cell_type": "code",
   "execution_count": 1940,
   "metadata": {},
   "outputs": [],
   "source": [
    "# Поменять местами строки и столбцы\n",
    "\n",
    "# n, m = int(input()), int(input())\n",
    "# matrix = [[input() for _ in range(m)] for _ in range(n)]\n",
    "\n",
    "# for i in range(n):\n",
    "#     for j in range(m):\n",
    "#         print(matrix[i][j], end=' ')\n",
    "#     print()\n",
    "\n",
    "# print()\n",
    "\n",
    "# for i in range(m):\n",
    "#     for j in range(n):\n",
    "#         print(matrix[j][i], end=' ')\n",
    "#     print()"
   ]
  },
  {
   "cell_type": "code",
   "execution_count": 1941,
   "metadata": {},
   "outputs": [
    {
     "name": "stdout",
     "output_type": "stream",
     "text": [
      "[2, 3, 4]\n",
      "[6, 7, 8]\n",
      "[10, 11, 12]\n"
     ]
    }
   ],
   "source": [
    "# Сумма матриц\n",
    "\n",
    "n = 3\n",
    "m = 3\n",
    "\n",
    "A = [[i] * 3 for i in range(1, 4)]\n",
    "B = [[1, 2, 3], [4, 5, 6], [7, 8, 9]]\n",
    "C = []\n",
    "\n",
    "for i in range(n):\n",
    "    temp = []\n",
    "    for j in range(m):\n",
    "        temp.append(A[i][j] + B[i][j])\n",
    "    C.append(temp)\n",
    "\n",
    "print(*C, sep='\\n')"
   ]
  },
  {
   "cell_type": "code",
   "execution_count": 1942,
   "metadata": {},
   "outputs": [
    {
     "name": "stdout",
     "output_type": "stream",
     "text": [
      "[3, 6, 9]\n",
      "[12, 15, 18]\n",
      "[21, 24, 27]\n"
     ]
    }
   ],
   "source": [
    "# Умножение матрицы на число\n",
    "\n",
    "n = 3\n",
    "k = 3\n",
    "\n",
    "B = [[1, 2, 3], [4, 5, 6], [7, 8, 9]]\n",
    "C = []\n",
    "\n",
    "for i in range(n):\n",
    "    temp = []\n",
    "    for j in range(n):\n",
    "        temp.append(k * B[i][j])\n",
    "    C.append(temp)\n",
    "\n",
    "print(*C, sep='\\n')"
   ]
  },
  {
   "cell_type": "code",
   "execution_count": 1943,
   "metadata": {},
   "outputs": [
    {
     "name": "stdout",
     "output_type": "stream",
     "text": [
      "[12, 15, 18]\n",
      "[24, 30, 36]\n",
      "[36, 45, 54]\n"
     ]
    }
   ],
   "source": [
    "# Произведение матриц\n",
    "\n",
    "A = [[i] * 3 for i in range(1, 4)]\n",
    "B = [[1, 2, 3], [4, 5, 6], [7, 8, 9]]\n",
    "\n",
    "def matrixmult (A, B):\n",
    "    rows_A = len(A)\n",
    "    cols_A = len(A[0])\n",
    "    rows_B = len(B)\n",
    "    cols_B = len(B[0])\n",
    "\n",
    "    if cols_A != rows_B:\n",
    "      print(\"Cannot multiply the two matrices. Incorrect dimensions.\")\n",
    "\n",
    "    # Create the result matrix\n",
    "    # Dimensions would be rows_A x cols_B\n",
    "    C = [[0 for row in range(cols_B)] for col in range(rows_A)]\n",
    "\n",
    "    for i in range(rows_A):\n",
    "        for j in range(cols_B):\n",
    "            for k in range(cols_A):\n",
    "                C[i][j] += A[i][k] * B[k][j]\n",
    "    return C\n",
    "\n",
    "C = matrixmult(A, B)\n",
    "\n",
    "print(*C, sep='\\n')"
   ]
  },
  {
   "cell_type": "code",
   "execution_count": 1944,
   "metadata": {},
   "outputs": [
    {
     "name": "stdout",
     "output_type": "stream",
     "text": [
      "[-2, -2]\n",
      "[1, 2]\n"
     ]
    }
   ],
   "source": [
    "A = [[1, -1, 0],\n",
    "     [3, -4, 2]]\n",
    "B = [[1, 2],\n",
    "     [3, 4],\n",
    "     [5, 6]]\n",
    "\n",
    "def matrixmult (A, B):\n",
    "    rows_A = len(A)\n",
    "    cols_A = len(A[0])\n",
    "    rows_B = len(B)\n",
    "    cols_B = len(B[0])\n",
    "\n",
    "    if cols_A != rows_B:\n",
    "      print(\"Cannot multiply the two matrices. Incorrect dimensions.\")\n",
    "\n",
    "    # Create the result matrix\n",
    "    # Dimensions would be rows_A x cols_B\n",
    "    C = [[0 for row in range(cols_B)] for col in range(rows_A)]\n",
    "\n",
    "    for i in range(rows_A):\n",
    "        for j in range(cols_B):\n",
    "            for k in range(cols_A):\n",
    "                C[i][j] += A[i][k] * B[k][j]\n",
    "    return C\n",
    "\n",
    "C = matrixmult(A, B)\n",
    "\n",
    "print(*C, sep='\\n')"
   ]
  },
  {
   "cell_type": "code",
   "execution_count": 1945,
   "metadata": {},
   "outputs": [],
   "source": [
    "# Сумма матриц\n",
    "\n",
    "# n, m  = list(map(int, input().split()))\n",
    "\n",
    "# A = [[int(i) for i in input().split()] for _ in range(n)]\n",
    "# input()\n",
    "# B = [[int(i) for i in input().split()] for _ in range(n)]\n",
    "# C = []\n",
    "\n",
    "# for i in range(n):\n",
    "#     temp = []\n",
    "#     for j in range(m):\n",
    "#         temp.append(A[i][j] + B[i][j])\n",
    "#     C.append(temp)\n",
    "\n",
    "# for i in C:\n",
    "#     print(*i, sep=' ')"
   ]
  },
  {
   "cell_type": "code",
   "execution_count": 1946,
   "metadata": {},
   "outputs": [],
   "source": [
    "# Возведение матрицы в степень\n",
    "\n",
    "# n = int(input())\n",
    "\n",
    "# A = [[int(i) for i in input().split()] for j in range(n)]\n",
    "# B = A\n",
    "# x = int(input())\n",
    "# for _ in range(x - 1):\n",
    "#     matrix = [[0] * n for j in range(n)]\n",
    "#     for i in range(n):\n",
    "#         for q in range(n):\n",
    "#             for k in range(n):\n",
    "#                 matrix[i][q] += A[i][k] * B[k][q]\n",
    "#     A = matrix\n",
    "\n",
    "# for x in matrix:\n",
    "#     print(*x)"
   ]
  },
  {
   "cell_type": "code",
   "execution_count": 1947,
   "metadata": {},
   "outputs": [
    {
     "name": "stdout",
     "output_type": "stream",
     "text": [
      "0   0   0   0   0   0   \n",
      "0   1   2   3   4   5   \n",
      "0   2   4   6   8   10  \n",
      "0   3   6   9   12  15  \n"
     ]
    }
   ],
   "source": [
    "# Таблица умножения\n",
    "\n",
    "n = 4\n",
    "m = 6\n",
    "\n",
    "mult = [[0] * m for _ in range(n)]\n",
    "\n",
    "for i in range(n):\n",
    "    for j in range(m):\n",
    "        mult[i][j] = i * j\n",
    "        \n",
    "for i in range(n):\n",
    "    for j in range(m):\n",
    "        print(str(mult[i][j]).ljust(3), end=' ')\n",
    "    print()"
   ]
  },
  {
   "cell_type": "code",
   "execution_count": 1948,
   "metadata": {},
   "outputs": [
    {
     "name": "stdout",
     "output_type": "stream",
     "text": [
      "[1, 2, 1]\n",
      "[1, 4, 2]\n",
      "[3, 5, 5]\n",
      "[3, 5, 4]\n",
      "\n",
      "Индекс максимального элемента в матрице: 2 1\n"
     ]
    }
   ],
   "source": [
    "# На вход программе подаются два натуральных числа n и m – количество строк и столбцов в матрице, \n",
    "# затем n строк по m целых чисел в каждой, отделенных символом пробела.\n",
    "# Напишите программу, которая находит индексы (строку и столбец) первого вхождения максимального элемента.\n",
    "\n",
    "n = 4\n",
    "m = 3\n",
    "\n",
    "matrix = [[1, 2, 1], [1, 4, 2], [3, 5, 5], [3, 5, 4]]\n",
    "\n",
    "for row in matrix:\n",
    "    print(row)\n",
    "\n",
    "print()\n",
    "\n",
    "mx = max(max(matrix, key=max))\n",
    "cnt = 0\n",
    "\n",
    "for i in range(n):\n",
    "    for j in range(m):\n",
    "        if cnt < 1:\n",
    "            if matrix[i][j] == mx:\n",
    "                print('Индекс максимального элемента в матрице:', i, j)\n",
    "                cnt += 1\n",
    "                break\n"
   ]
  },
  {
   "cell_type": "code",
   "execution_count": 1949,
   "metadata": {},
   "outputs": [
    {
     "name": "stdout",
     "output_type": "stream",
     "text": [
      "2 1\n"
     ]
    }
   ],
   "source": [
    "n = 4\n",
    "m = 3\n",
    "\n",
    "matrix = [[1, 2, 1], [1, 4, 2], [3, 5, 5], [3, 5, 4]]\n",
    "\n",
    "row, col = 0, 0\n",
    "    \n",
    "for i in range(n):\n",
    "    for j in range(m):\n",
    "        if matrix[i][j] > matrix[row][col]:\n",
    "            row, col = i, j\n",
    "            \n",
    "print(row, col)"
   ]
  },
  {
   "cell_type": "code",
   "execution_count": 1950,
   "metadata": {},
   "outputs": [
    {
     "name": "stdout",
     "output_type": "stream",
     "text": [
      "[1, 2, 1]\n",
      "[1, 4, 2]\n",
      "[3, 5, 5]\n",
      "[3, 5, 4]\n",
      "\n",
      "[2, 1, 1]\n",
      "[4, 1, 2]\n",
      "[5, 3, 5]\n",
      "[5, 3, 4]\n"
     ]
    }
   ],
   "source": [
    "# На вход программе на разных строках подаются два натуральных числа n и m – количество строк и столбцов в матрице, \n",
    "# затем элементы матрицы построчно через пробел, затем натуральные числа i и j – номера столбцов, подлежащих обмену.\n",
    "# Напишите программу, которая меняет местами столбцы в матрице.\n",
    "\n",
    "n = 4\n",
    "m = 3\n",
    "\n",
    "matrix = [[1, 2, 1], [1, 4, 2], [3, 5, 5], [3, 5, 4]]\n",
    "\n",
    "for row in matrix:\n",
    "    print(row)\n",
    "\n",
    "print()\n",
    "\n",
    "i, j = 0, 1\n",
    "    \n",
    "for row in matrix:\n",
    "    row[i], row[j] = row[j], row[i]\n",
    "\n",
    "for row in matrix:\n",
    "    print(row)"
   ]
  },
  {
   "cell_type": "code",
   "execution_count": 1951,
   "metadata": {},
   "outputs": [
    {
     "name": "stdout",
     "output_type": "stream",
     "text": [
      "[0, 1, 2]\n",
      "[1, 2, 3]\n",
      "[2, 3, 4]\n",
      "YES\n"
     ]
    }
   ],
   "source": [
    "# Напишите программу, которая проверяет симметричность квадратной матрицы относительно главной диагонали.\n",
    "\n",
    "n = 3\n",
    "matrix = [[0, 1, 2], [1, 2, 3], [2, 3, 4]]\n",
    "\n",
    "# n = int(input())\n",
    "# matrix = [list(map(int, input().split())) for _ in range(n)]\n",
    "\n",
    "flag = 'YES'\n",
    "\n",
    "for row in matrix:\n",
    "    print(row)\n",
    "\n",
    "for i in range(n):\n",
    "    for j in range(i + 1, n):\n",
    "        if matrix[i][j] != matrix[j][i]:\n",
    "            flag = 'NO'\n",
    "            break\n",
    "    if flag == 'NO':\n",
    "        break\n",
    "        \n",
    "print(flag)"
   ]
  },
  {
   "cell_type": "code",
   "execution_count": 1952,
   "metadata": {},
   "outputs": [
    {
     "name": "stdout",
     "output_type": "stream",
     "text": [
      "1 2 3\n",
      "4 5 6\n",
      "7 8 9\n",
      "\n",
      "7 2 9\n",
      "4 5 6\n",
      "1 8 3\n"
     ]
    }
   ],
   "source": [
    "# Дана квадратная матрица чисел. Напишите программу, которая меняет местами элементы, стоящие на главной и побочной диагонали, \n",
    "# при этом каждый элемент должен остаться в том же столбце (то есть в каждом столбце нужно поменять местами элемент на главной диагонали и на побочной диагонали).\n",
    "\n",
    "n = 3\n",
    "matrix = [[1, 2, 3], [4, 5, 6], [7, 8, 9]]\n",
    "\n",
    "# n = int(input())\n",
    "# matrix = [list(map(int, input().split())) for _ in range(n)]\n",
    "\n",
    "for row in matrix:\n",
    "    print(*row)\n",
    "\n",
    "print()\n",
    "\n",
    "for i in range(n):\n",
    "    for j in range(n):\n",
    "        if i == j:\n",
    "            matrix[i][i], matrix[n - i - 1][i] = matrix[n - i - 1][i], matrix[i][i]\n",
    "        \n",
    "for row in matrix:\n",
    "    print(*row)"
   ]
  },
  {
   "cell_type": "code",
   "execution_count": 1953,
   "metadata": {},
   "outputs": [
    {
     "name": "stdout",
     "output_type": "stream",
     "text": [
      "1 2 3\n",
      "4 5 6\n",
      "7 8 9\n",
      "\n",
      "7 8 9 \n",
      "4 5 6 \n",
      "1 2 3 \n"
     ]
    }
   ],
   "source": [
    "# Дана квадратная матрица чисел. Напишите программу, которая зеркально отображает её элементы относительно горизонтальной оси симметрии.\n",
    "\n",
    "n = 3\n",
    "matrix = [[1, 2, 3], [4, 5, 6], [7, 8, 9]]\n",
    "\n",
    "# n = int(input())\n",
    "# matrix = [list(map(int, input().split())) for _ in range(n)]\n",
    "\n",
    "for row in matrix:\n",
    "    print(*row)\n",
    "\n",
    "print()\n",
    "\n",
    "for i in range(n):\n",
    "    for j in range(n):\n",
    "            print(matrix[- i - 1][j], end=' ')\n",
    "    print()"
   ]
  },
  {
   "cell_type": "code",
   "execution_count": 1954,
   "metadata": {},
   "outputs": [
    {
     "name": "stdout",
     "output_type": "stream",
     "text": [
      "7 8 9\n",
      "4 5 6\n",
      "1 2 3\n"
     ]
    }
   ],
   "source": [
    "n = 3\n",
    "matrix = [[1, 2, 3], [4, 5, 6], [7, 8, 9]]\n",
    "\n",
    "for i in range(n // 2):\n",
    "    matrix[i], matrix[n - i - 1] = matrix[n - i - 1], matrix[i]\n",
    "\n",
    "for row in matrix:\n",
    "    print(*row)"
   ]
  },
  {
   "cell_type": "code",
   "execution_count": 1955,
   "metadata": {},
   "outputs": [
    {
     "name": "stdout",
     "output_type": "stream",
     "text": [
      "1 2 3\n",
      "4 5 6\n",
      "7 8 9\n",
      "\n",
      "7 4 1 \n",
      "8 5 2 \n",
      "9 6 3 \n"
     ]
    }
   ],
   "source": [
    "# Напишите программу, которая поворачивает квадратную матрицу чисел на 90° по часовой стрелке.\n",
    "\n",
    "n = 3\n",
    "matrix = [[1, 2, 3], [4, 5, 6], [7, 8, 9]]\n",
    "\n",
    "# n = int(input())\n",
    "# matrix = [list(map(int, input().split())) for _ in range(n)]\n",
    "\n",
    "for row in matrix:\n",
    "    print(*row)\n",
    "\n",
    "print()\n",
    "\n",
    "for i in range(n // 2):\n",
    "    matrix[i], matrix[n - i - 1] = matrix[n - i - 1], matrix[i]\n",
    "\n",
    "for i in range(n):\n",
    "    for j in range(n):\n",
    "            print(matrix[j][i], end=' ')\n",
    "    print()"
   ]
  },
  {
   "cell_type": "code",
   "execution_count": 1956,
   "metadata": {},
   "outputs": [
    {
     "name": "stdout",
     "output_type": "stream",
     "text": [
      ". * . * . *\n",
      "* . * . * .\n",
      ". * . * . *\n",
      "* . * . * .\n"
     ]
    }
   ],
   "source": [
    "# На вход программе подаются два натуральных числа n и m. \n",
    "# Напишите программу для создания матрицы размером n×m, заполнив ее символами . и * в шахматном порядке. \n",
    "# В левом верхнем углу должна стоять точка. \n",
    "# Выведите полученную матрицу на экран, разделяя элементы пробелами.\n",
    "\n",
    "n = 4\n",
    "m = 6\n",
    "\n",
    "matrix = [[0] * m for _ in range(n)]\n",
    "\n",
    "for i in range(n):\n",
    "    for j in range(m):\n",
    "        if (i + j) % 2 != 0:\n",
    "            matrix[i][j] = '*'\n",
    "        else:\n",
    "            matrix[i][j] = '.'\n",
    "\n",
    "for row in matrix:\n",
    "    print(*row)"
   ]
  },
  {
   "cell_type": "code",
   "execution_count": 1957,
   "metadata": {},
   "outputs": [
    {
     "name": "stdout",
     "output_type": "stream",
     "text": [
      ". * . * . *\n",
      "* . * . * .\n",
      ". * . * . *\n",
      "* . * . * .\n"
     ]
    }
   ],
   "source": [
    "n = 4\n",
    "m = 6\n",
    "\n",
    "matrix = [['.'] * m for _ in range(n)]\n",
    "\n",
    "for i in range(n):\n",
    "    for j in range(1 - i % 2, m, 2):\n",
    "        matrix[i][j] = '*'\n",
    "        \n",
    "for row in matrix:\n",
    "    print(*row)"
   ]
  },
  {
   "cell_type": "code",
   "execution_count": 1958,
   "metadata": {},
   "outputs": [
    {
     "name": "stdout",
     "output_type": "stream",
     "text": [
      "0 0 0 1\n",
      "0 0 1 2\n",
      "0 1 2 2\n",
      "1 2 2 2\n"
     ]
    }
   ],
   "source": [
    "# числа на побочной диагонали равны 1;\n",
    "# числа, стоящие выше этой диагонали, равны 0;\n",
    "# числа, стоящие ниже этой диагонали, равны 2.\n",
    "\n",
    "n = 4\n",
    "\n",
    "matrix = [[0] * n for _ in range(n)]\n",
    "\n",
    "for i in range(n):\n",
    "    for j in range(n):\n",
    "        if i == n - 1 - j:\n",
    "            matrix[i][j] = 1\n",
    "        if i > n - 1 -j:\n",
    "            matrix[i][j] = 2\n",
    "\n",
    "for row in matrix:\n",
    "    print(*row)"
   ]
  },
  {
   "cell_type": "code",
   "execution_count": 1959,
   "metadata": {},
   "outputs": [
    {
     "name": "stdout",
     "output_type": "stream",
     "text": [
      "1   2   3   4   \n",
      "5   6   7   8   \n",
      "9   10  11  12  \n"
     ]
    }
   ],
   "source": [
    "# Заполнение числами от 1 до n * m построчно\n",
    "\n",
    "n, m = (3, 4)\n",
    "\n",
    "matrix = np.arange(1, n * m + 1).reshape(n, m).tolist()\n",
    "\n",
    "for i in range(n):\n",
    "    for j in range(m):\n",
    "        print(str(matrix[i][j]).ljust(3), end=' ')\n",
    "    print()"
   ]
  },
  {
   "cell_type": "code",
   "execution_count": 1960,
   "metadata": {},
   "outputs": [
    {
     "name": "stdout",
     "output_type": "stream",
     "text": [
      "1   2   3   4   \n",
      "5   6   7   8   \n",
      "9   10  11  12  \n"
     ]
    }
   ],
   "source": [
    "matrix = [[0] * m for _ in range(n)]\n",
    "\n",
    "for i in range(n):\n",
    "    for j in range(m):\n",
    "        matrix[i][j] = i * m + j + 1\n",
    "\n",
    "for i in range(n):\n",
    "    for j in range(m):\n",
    "        print(str(matrix[i][j]).ljust(3), end=' ')\n",
    "    print()"
   ]
  },
  {
   "cell_type": "code",
   "execution_count": 1961,
   "metadata": {},
   "outputs": [
    {
     "name": "stdout",
     "output_type": "stream",
     "text": [
      "1   2   3   4   \n",
      "5   6   7   8   \n",
      "9   10  11  12  \n"
     ]
    }
   ],
   "source": [
    "matrix = [list(range(m*i + 1, m*i + 1 + m)) for i in range(n)]\n",
    "\n",
    "for i in range(n):\n",
    "    for j in range(m):\n",
    "        print(str(matrix[i][j]).ljust(3), end=' ')\n",
    "    print()"
   ]
  },
  {
   "cell_type": "code",
   "execution_count": 1962,
   "metadata": {},
   "outputs": [
    {
     "name": "stdout",
     "output_type": "stream",
     "text": [
      "1   4   7   10  \n",
      "2   5   8   11  \n",
      "3   6   9   12  \n"
     ]
    }
   ],
   "source": [
    "# Заполнение числами от 1 до n * m по столбцам\n",
    "\n",
    "matrix = [[0] * m for _ in range(n)]\n",
    "\n",
    "for i in range(n):\n",
    "    for j in range(m):\n",
    "        matrix[i][j] = j * n + i + 1\n",
    "\n",
    "for i in range(n):\n",
    "    for j in range(m):\n",
    "        print(str(matrix[i][j]).ljust(3), end=' ')\n",
    "    print()"
   ]
  },
  {
   "cell_type": "code",
   "execution_count": 1963,
   "metadata": {},
   "outputs": [
    {
     "name": "stdout",
     "output_type": "stream",
     "text": [
      "1 0 0 0 1\n",
      "0 1 0 1 0\n",
      "0 0 1 0 0\n",
      "0 1 0 1 0\n",
      "1 0 0 0 1\n"
     ]
    }
   ],
   "source": [
    "# Главная и побочная дивагональ - единицы\n",
    "\n",
    "n = 5\n",
    "\n",
    "matrix = [[0] * n for _ in range(n)]\n",
    "\n",
    "for i in range(n):\n",
    "    for j in range(n):\n",
    "        if i == n - 1 - j or i == j:\n",
    "            matrix[i][j] = 1\n",
    "\n",
    "for row in matrix:\n",
    "    print(*row)"
   ]
  },
  {
   "cell_type": "code",
   "execution_count": 1964,
   "metadata": {},
   "outputs": [
    {
     "name": "stdout",
     "output_type": "stream",
     "text": [
      "1    0    0    0    1    \n",
      "0    1    0    1    0    \n",
      "0    0    1    0    0    \n",
      "0    1    0    1    0    \n",
      "1    0    0    0    1    \n"
     ]
    }
   ],
   "source": [
    "for i in range(n):\n",
    "    for j in range(n):\n",
    "        print(str(matrix[i][j]).ljust(4), end=' ')\n",
    "    print()"
   ]
  },
  {
   "cell_type": "code",
   "execution_count": 1965,
   "metadata": {},
   "outputs": [
    {
     "name": "stdout",
     "output_type": "stream",
     "text": [
      "1 1 1 1 1\n",
      "0 1 1 1 0\n",
      "0 0 1 0 0\n",
      "0 1 1 1 0\n",
      "1 1 1 1 1\n"
     ]
    }
   ],
   "source": [
    "# Главная и побочная дивагональ - единицы, выше и ниже - единицы\n",
    "\n",
    "n = 5\n",
    "\n",
    "matrix = [[0] * n for _ in range(n)]\n",
    "\n",
    "for i in range(n):\n",
    "    for j in range(n):\n",
    "        if i == n - 1 - j or i == j or i < j and i < n - 1 - j or i > j and i > n - 1 - j:\n",
    "            matrix[i][j] = 1\n",
    "\n",
    "for row in matrix:\n",
    "    print(*row)"
   ]
  },
  {
   "cell_type": "code",
   "execution_count": 1966,
   "metadata": {},
   "outputs": [
    {
     "name": "stdout",
     "output_type": "stream",
     "text": [
      "1 1\n"
     ]
    }
   ],
   "source": [
    "print(x2, y2)"
   ]
  },
  {
   "cell_type": "code",
   "execution_count": 1967,
   "metadata": {},
   "outputs": [
    {
     "name": "stdout",
     "output_type": "stream",
     "text": [
      "* . * . . . . .\n",
      ". . . * . . . .\n",
      ". N . . . . . .\n",
      ". . . * . . . .\n",
      "* . * . . . . .\n",
      ". . . . . . . .\n",
      ". . . . . . . .\n",
      ". . . . . . . .\n"
     ]
    }
   ],
   "source": [
    "# Шахматы. Ходы коня\n",
    "\n",
    "xy = 'b6'\n",
    "\n",
    "x = 'abcdefgh'.index(xy[0])\n",
    "y = '87654321'.index(xy[1])\n",
    "\n",
    "\n",
    "n = 8\n",
    "matrix = [['.'] * n for _ in range(n)]\n",
    "\n",
    "for i in range(n):\n",
    "    for j in range(n):\n",
    "        if i == y and j == x:\n",
    "            matrix[i][j] = 'N'\n",
    "            x2 = j\n",
    "            y2 = i\n",
    "            \n",
    "for i in range(n):\n",
    "    for j in range(n):\n",
    "        if (abs(x2 - j) == 2 and abs(y2 - i) == 1) or (abs(x2 - j) == 1 and abs(y2 - i) == 2):\n",
    "            matrix[i][j] = '*'\n",
    "\n",
    "for row in matrix:\n",
    "    print(*row)"
   ]
  },
  {
   "cell_type": "code",
   "execution_count": 1968,
   "metadata": {},
   "outputs": [
    {
     "name": "stdout",
     "output_type": "stream",
     "text": [
      "* - - - - - * -\n",
      "- * - - - * - -\n",
      "- - * - * - - -\n",
      "- - - S - - - -\n",
      "- - * - * - - -\n",
      "- * - - - * - -\n",
      "* - - - - - * -\n",
      "- - - - - - - *\n"
     ]
    }
   ],
   "source": [
    "# Шахматы. Ходы слона\n",
    "\n",
    "xy = 'd5'\n",
    "\n",
    "x = 'abcdefgh'.index(xy[0])\n",
    "y = '87654321'.index(xy[1])\n",
    "\n",
    "\n",
    "n = 8\n",
    "matrix = [['-'] * n for _ in range(n)]\n",
    "\n",
    "for i in range(n):\n",
    "    for j in range(n):\n",
    "        if i == y and j == x:\n",
    "            matrix[i][j] = 'S'\n",
    "            x2 = j\n",
    "            y2 = i\n",
    "            \n",
    "for i in range(n):\n",
    "    for j in range(n):\n",
    "        if abs(x2 - j) == abs(y2 - i) and not matrix[i][j] == 'S':\n",
    "            matrix[i][j] = '*'\n",
    "\n",
    "for row in matrix:\n",
    "    print(*row)"
   ]
  },
  {
   "cell_type": "code",
   "execution_count": 1969,
   "metadata": {},
   "outputs": [
    {
     "name": "stdout",
     "output_type": "stream",
     "text": [
      "* - - - - - * -\n",
      "- * - - - * - -\n",
      "- - * - * - - -\n",
      "- - - S - - - -\n",
      "- - * - * - - -\n",
      "- * - - - * - -\n",
      "* - - - - - * -\n",
      "- - - - - - - *\n"
     ]
    }
   ],
   "source": [
    "# Шахматы. Ходы слона\n",
    "\n",
    "xy = 'd5'\n",
    "\n",
    "x = 'abcdefgh'.index(xy[0])\n",
    "y = '87654321'.index(xy[1])\n",
    "\n",
    "\n",
    "n = 8\n",
    "matrix = [['-'] * n for _ in range(n)]\n",
    "\n",
    "for i in range(n):\n",
    "    for j in range(n):\n",
    "        if i == y and j == x:\n",
    "            matrix[i][j] = 'S'\n",
    "            x2 = j\n",
    "            y2 = i\n",
    "            \n",
    "for i in range(n):\n",
    "    for j in range(n):\n",
    "        if abs(x2 - j) == abs(y2 - i) and not matrix[i][j] == 'S':\n",
    "            matrix[i][j] = '*'\n",
    "\n",
    "for row in matrix:\n",
    "    print(*row)"
   ]
  },
  {
   "cell_type": "code",
   "execution_count": 1970,
   "metadata": {},
   "outputs": [
    {
     "name": "stdout",
     "output_type": "stream",
     "text": [
      "- - - + - - - -\n",
      "- - - + - - - -\n",
      "- - - + - - - -\n",
      "+ + + T + + + +\n",
      "- - - + - - - -\n",
      "- - - + - - - -\n",
      "- - - + - - - -\n",
      "- - - + - - - -\n"
     ]
    }
   ],
   "source": [
    "# Шахматы. Ходы ладьи\n",
    "\n",
    "xy = 'd5'\n",
    "\n",
    "x = 'abcdefgh'.index(xy[0])\n",
    "y = '87654321'.index(xy[1])\n",
    "\n",
    "\n",
    "n = 8\n",
    "matrix = [['-'] * n for _ in range(n)]\n",
    "\n",
    "for i in range(n):\n",
    "    for j in range(n):\n",
    "        if i == y and j == x:\n",
    "            matrix[i][j] = 'T'\n",
    "            x2 = j\n",
    "            y2 = i\n",
    "            \n",
    "for i in range(n):\n",
    "    for j in range(n):\n",
    "        if (x2 == j or y2 == i) and not matrix[i][j] == 'T':\n",
    "            matrix[i][j] = '+'\n",
    "\n",
    "for row in matrix:\n",
    "    print(*row)"
   ]
  },
  {
   "cell_type": "code",
   "execution_count": 1971,
   "metadata": {},
   "outputs": [
    {
     "name": "stdout",
     "output_type": "stream",
     "text": [
      "+ - - + - - + -\n",
      "- + - + - + - -\n",
      "- - + + + - - -\n",
      "+ + + F + + + +\n",
      "- - + + + - - -\n",
      "- + - + - + - -\n",
      "+ - - + - - + -\n",
      "- - - + - - - +\n"
     ]
    }
   ],
   "source": [
    "# Шахматы. Ходы ферзя\n",
    "\n",
    "xy = 'd5'\n",
    "\n",
    "x = 'abcdefgh'.index(xy[0])\n",
    "y = '87654321'.index(xy[1])\n",
    "\n",
    "\n",
    "n = 8\n",
    "matrix = [['-'] * n for _ in range(n)]\n",
    "\n",
    "for i in range(n):\n",
    "    for j in range(n):\n",
    "        if i == y and j == x:\n",
    "            matrix[i][j] = 'F'\n",
    "            x2 = j\n",
    "            y2 = i\n",
    "            \n",
    "for i in range(n):\n",
    "    for j in range(n):\n",
    "        if ((x2 == j or y2 == i) or abs(x2 - j) == abs(y2 - i)) and not matrix[i][j] == 'F':\n",
    "            matrix[i][j] = '+'\n",
    "\n",
    "for row in matrix:\n",
    "    print(*row)"
   ]
  },
  {
   "cell_type": "code",
   "execution_count": 1972,
   "metadata": {},
   "outputs": [
    {
     "name": "stdout",
     "output_type": "stream",
     "text": [
      "1   2   3   4   5   \n",
      "14  15  16  17  6   \n",
      "13  20  19  18  7   \n",
      "12  11  10  9   8   \n"
     ]
    }
   ],
   "source": [
    "# Заполнение спиралью\n",
    "\n",
    "n, m = 4, 5\n",
    "\n",
    "matrix = [[0] * m for i in range(n)]\n",
    "i, j, di, dj = 0, 0, 0, 1\n",
    "\n",
    "for k in range(n * m):\n",
    "    matrix[i][j] = k + 1\n",
    "    if matrix[(i + di) % n][(j + dj) % m]:\n",
    "        di, dj = dj, -di\n",
    "    i, j = i + di, j + dj\n",
    "\n",
    "for i in range(n):\n",
    "    for j in range(m):\n",
    "        print(str(matrix[i][j]).ljust(3), end=' ')\n",
    "    print()"
   ]
  },
  {
   "cell_type": "code",
   "execution_count": 1973,
   "metadata": {},
   "outputs": [
    {
     "name": "stdout",
     "output_type": "stream",
     "text": [
      "1  2  4  7  11 \n",
      "3  5  8  12 15 \n",
      "6  9  13 16 18 \n",
      "10 14 17 19 20 \n"
     ]
    }
   ],
   "source": [
    "# Заполнение матрицы по диагоналям, параллельным побочной диагонали, с приращением на от 1 до n * m\n",
    "\n",
    "n, m = 4, 5\n",
    "nm = 0\n",
    "\n",
    "matrix = [[0] * m for i in range(n)]\n",
    "\n",
    "for q in range(n*m):\n",
    "    for i in range(n):\n",
    "        for j in range(m):\n",
    "            if i + j == q:\n",
    "                nm += 1\n",
    "                matrix[i][j] = nm\n",
    "\n",
    "for i in range(n):\n",
    "    for j in range(m):\n",
    "        print(str(matrix[i][j]).ljust(3), end='')\n",
    "    print()"
   ]
  },
  {
   "cell_type": "code",
   "execution_count": 1974,
   "metadata": {},
   "outputs": [
    {
     "name": "stdout",
     "output_type": "stream",
     "text": [
      "1  2  3  4  5  \n",
      "2  3  4  5  1  \n",
      "3  4  5  1  2  \n",
      "4  5  1  2  3  \n"
     ]
    }
   ],
   "source": [
    "# Заполнение матрицы по диагоналям, параллельным побочной диагонали, одинаковыми цифрами на диагоналях с приращением на 1 в диапазоне от 1 до m\n",
    "\n",
    "n, m = 4, 5\n",
    "\n",
    "matrix = [[0] * m for i in range(n)]\n",
    "\n",
    "for i in range(n):\n",
    "    for j in range(m):\n",
    "            matrix[i][j] = (i  + j) % m + 1\n",
    "\n",
    "for i in range(n):\n",
    "    for j in range(m):\n",
    "        print(str(matrix[i][j]).ljust(3), end='')\n",
    "    print()"
   ]
  },
  {
   "cell_type": "code",
   "execution_count": 1975,
   "metadata": {},
   "outputs": [
    {
     "name": "stdout",
     "output_type": "stream",
     "text": [
      "[['1', '5', '9'], ['2', '6'], ['3', '7'], ['4', '8']]\n"
     ]
    }
   ],
   "source": [
    "# Разбиение списка на n групп\n",
    "# На вход программе подается строка текста, содержащая символы и число n. \n",
    "# Из данной строки формируется список. Напишите программу, которая разделяет список на вложенные подсписки так, \n",
    "# что  n последовательных элементов принадлежат разным подспискам.\n",
    "\n",
    "arr = '1 2 3 4 5 6 7 8 9'.split()\n",
    "n = 4\n",
    "res = []\n",
    "\n",
    "for i in range(n):\n",
    "    res.append(arr[i::n])\n",
    "    \n",
    "print(res)"
   ]
  },
  {
   "cell_type": "code",
   "execution_count": 1976,
   "metadata": {},
   "outputs": [
    {
     "name": "stdout",
     "output_type": "stream",
     "text": [
      "8\n"
     ]
    }
   ],
   "source": [
    "# Напишите программу, которая выводит максимальный элемент матрицы ниже ил на побочной диагонали.\n",
    "\n",
    "# n = int(input())\n",
    "# matrix = [list(map(int, input().split())) for _ in range(n)]\n",
    "\n",
    "n = 3\n",
    "matrix = [[9, 2, 3], [4, 5, 6], [7, 8, 6]]\n",
    "\n",
    "\n",
    "mx = matrix[n - 1][n - 1]\n",
    "    \n",
    "for i in range(n):\n",
    "    for j in range(n):\n",
    "        if i >= n - 1 - j and matrix[i][j] > mx:\n",
    "            mx = matrix[i][j]\n",
    "            \n",
    "print(mx)"
   ]
  },
  {
   "cell_type": "code",
   "execution_count": 1977,
   "metadata": {},
   "outputs": [
    {
     "name": "stdout",
     "output_type": "stream",
     "text": [
      "9 4 7 \n",
      "2 5 8 \n",
      "3 6 6 \n"
     ]
    }
   ],
   "source": [
    "# Напишите программу, которая транспонирует квадратную матрицу.\n",
    "\n",
    "n = 3\n",
    "matrix = [[9, 2, 3], [4, 5, 6], [7, 8, 6]]\n",
    "\n",
    "for i in range(n):\n",
    "    for j in range(n):\n",
    "        print(matrix[j][i], end=' ')\n",
    "    print()"
   ]
  },
  {
   "cell_type": "code",
   "execution_count": 1978,
   "metadata": {},
   "outputs": [
    {
     "name": "stdout",
     "output_type": "stream",
     "text": [
      "* . . * . . *\n",
      ". * . * . * .\n",
      ". . * * * . .\n",
      "* * * * * * *\n",
      ". . * * * . .\n",
      ". * . * . * .\n",
      "* . . * . . *\n"
     ]
    }
   ],
   "source": [
    "# Снежинка\n",
    "\n",
    "n = 7\n",
    "matrix = [['.'] * n for _ in range(n)]\n",
    "\n",
    "    \n",
    "for i in range(n):\n",
    "    for j in range(n):\n",
    "        if (i == j or i == n - 1 - j) or (i == n // 2 or j == n // 2):\n",
    "            matrix[i][j] = '*'\n",
    "\n",
    "for row in matrix:\n",
    "    print(*row)"
   ]
  },
  {
   "cell_type": "code",
   "execution_count": 1979,
   "metadata": {},
   "outputs": [
    {
     "name": "stdout",
     "output_type": "stream",
     "text": [
      "[0, 1, 2]\n",
      "[1, 2, 3]\n",
      "[2, 3, 4]\n",
      "NO\n"
     ]
    }
   ],
   "source": [
    "# Напишите программу, которая проверяет симметричность квадратной матрицы относительно побочной диагонали.\n",
    "\n",
    "n = 3\n",
    "matrix = [[0, 1, 2], [1, 2, 3], [2, 3, 4]]\n",
    "\n",
    "# n = int(input())\n",
    "# matrix = [list(map(int, input().split())) for _ in range(n)]\n",
    "\n",
    "flag = 'YES'\n",
    "\n",
    "for row in matrix:\n",
    "    print(row)\n",
    "\n",
    "for i in range(n):\n",
    "    for j in range(n):\n",
    "        if matrix[i][j] != matrix[n-1-j][n-1-i]:\n",
    "            flag = 'NO'\n",
    "            break\n",
    "    if flag == 'NO':\n",
    "        break\n",
    "        \n",
    "print(flag)"
   ]
  },
  {
   "cell_type": "code",
   "execution_count": 1980,
   "metadata": {},
   "outputs": [
    {
     "name": "stdout",
     "output_type": "stream",
     "text": [
      "0   1   2   3   4   5   6   7   \n",
      "1   0   1   2   3   4   5   6   \n",
      "2   1   0   1   2   3   4   5   \n",
      "3   2   1   0   1   2   3   4   \n",
      "4   3   2   1   0   1   2   3   \n",
      "5   4   3   2   1   0   1   2   \n",
      "6   5   4   3   2   1   0   1   \n",
      "7   6   5   4   3   2   1   0   \n"
     ]
    }
   ],
   "source": [
    "# На вход программе подается натуральное число n. \n",
    "# Напишите программу, которая создает матрицу размером n×n и заполняет её по следующему правилу:\n",
    "\n",
    "# на главной диагонали на месте каждого элемента должно стоять число 0;\n",
    "# на двух диагоналях, прилегающих к главной, – число 1;\n",
    "# на следующих двух диагоналях – число 2, и т.д.\n",
    "\n",
    "n = 8\n",
    "matrix = [[0]*n for _ in range(n)]\n",
    "\n",
    "for i in range(n):\n",
    "    for j in range(n):\n",
    "        matrix[i][j] = abs(i - j)\n",
    "\n",
    "for i in range(n):\n",
    "    for j in range(n):\n",
    "        print(str(matrix[i][j]).ljust(3), end=' ')\n",
    "    print()"
   ]
  },
  {
   "cell_type": "code",
   "execution_count": 1981,
   "metadata": {},
   "outputs": [
    {
     "name": "stdout",
     "output_type": "stream",
     "text": [
      "1 2 3\n",
      "3 1 2\n",
      "2 3 1\n",
      "YES\n"
     ]
    }
   ],
   "source": [
    "# Латинский квадрат\n",
    "# Латинским квадратом порядка n называется квадратная матрица размером n×n, \n",
    "# каждая строка и каждый столбец которой содержат все числа от 1 до n. \n",
    "# Напишите программу, которая проверяет, является ли заданная квадратная матрица латинским квадратом.\n",
    "\n",
    "n = 3\n",
    "matrix = [[1, 2, 3], [3, 1, 2], [2, 3, 1]]\n",
    "\n",
    "# n = int(input())\n",
    "# matrix = [list(map(int, input().split())) for _ in range(n)]\n",
    "\n",
    "for row in matrix:\n",
    "    print(*row)\n",
    "\n",
    "flag = 'YES'\n",
    "\n",
    "lst = list(range(1, n + 1))\n",
    "\n",
    "for row in matrix:\n",
    "    if sorted(row) != lst:\n",
    "        flag = 'NO'\n",
    "\n",
    "matrix = np.transpose(matrix)\n",
    "for row in matrix:\n",
    "    if sorted(row) != lst:\n",
    "        flag = 'NO'\n",
    "        \n",
    "print(flag)"
   ]
  },
  {
   "cell_type": "markdown",
   "metadata": {},
   "source": [
    "# Функции"
   ]
  },
  {
   "cell_type": "code",
   "execution_count": 1982,
   "metadata": {},
   "outputs": [
    {
     "name": "stdout",
     "output_type": "stream",
     "text": [
      "[[0]]\n",
      "[[0, 0, 0], [0, 0, 0], [0, 0, 0]]\n",
      "[[0, 0, 0, 0, 0], [0, 0, 0, 0, 0]]\n",
      "[[9, 9, 9, 9], [9, 9, 9, 9], [9, 9, 9, 9]]\n"
     ]
    }
   ],
   "source": [
    "def matrix(n=1, m=None, v=0):\n",
    "    if m == None:\n",
    "        m = n\n",
    "    return [[v for _ in range(m)] for _ in range(n)]\n",
    "\n",
    "print(matrix())         # матрица 1 × 1 из 0\n",
    "print(matrix(3))        # матрица 3 × 3 из 0\n",
    "print(matrix(2, 5))     # матрица 2 × 5 из 0\n",
    "print(matrix(3, 4, 9))  # матрица 3 × 4 из 9"
   ]
  },
  {
   "cell_type": "code",
   "execution_count": 1983,
   "metadata": {},
   "outputs": [
    {
     "name": "stdout",
     "output_type": "stream",
     "text": [
      "asd ['123', '2354', '12', '123']\n"
     ]
    }
   ],
   "source": [
    "s = 'asd 123 2354 12 123'.split()\n",
    "a, *b = s\n",
    "print(a, b)"
   ]
  },
  {
   "cell_type": "markdown",
   "metadata": {},
   "source": [
    "# Функции с переменным количеством аргументов"
   ]
  },
  {
   "cell_type": "code",
   "execution_count": 1984,
   "metadata": {},
   "outputs": [
    {
     "name": "stdout",
     "output_type": "stream",
     "text": [
      "('Python', 2, 'C#')\n",
      "17\n",
      "\n",
      "()\n",
      "17\n"
     ]
    }
   ],
   "source": [
    "def my_func(num, *args):\n",
    "    print(args)\n",
    "    print(num)\n",
    "\n",
    "my_func(17, 'Python', 2, 'C#')\n",
    "print()\n",
    "my_func(17)"
   ]
  },
  {
   "cell_type": "code",
   "execution_count": 1985,
   "metadata": {},
   "outputs": [
    {
     "name": "stdout",
     "output_type": "stream",
     "text": [
      "<class 'tuple'>\n",
      "10\n",
      "<class 'tuple'>\n",
      "49\n"
     ]
    }
   ],
   "source": [
    "# sum1 = sum(1, 2, 3, 4)        \n",
    "# print(sum1) - ошибка\n",
    "\n",
    "def my_sum(*args):\n",
    "    print(type(args))\n",
    "    return sum(args)\n",
    "\n",
    "print(my_sum(1, 2, 3, 4))\n",
    "print(my_sum(1, 2, *[3, 4, 5], *(7, 8, 9), 10))"
   ]
  },
  {
   "cell_type": "code",
   "execution_count": 1986,
   "metadata": {},
   "outputs": [
    {
     "name": "stdout",
     "output_type": "stream",
     "text": [
      "<class 'dict'>\n",
      "{}\n",
      "<class 'dict'>\n",
      "{'a': 1, 'b': 2}\n",
      "<class 'dict'>\n",
      "{'name': 'Timur', 'job': 'Teacher'}\n"
     ]
    }
   ],
   "source": [
    "def my_func(**kwargs):\n",
    "    print(type(kwargs))\n",
    "    print(kwargs)\n",
    "\n",
    "my_func()\n",
    "my_func(a=1, b=2)\n",
    "my_func(name='Timur', job='Teacher')   "
   ]
  },
  {
   "cell_type": "code",
   "execution_count": 1987,
   "metadata": {},
   "outputs": [
    {
     "name": "stdout",
     "output_type": "stream",
     "text": [
      "1 2\n",
      "(3, 4)\n",
      "Timur 28\n",
      "{'job': 'Teacher', 'language': 'Python'}\n",
      "\n",
      "1 2\n",
      "()\n",
      "Timur 28\n",
      "{'job': 'Teacher', 'language': 'Python'}\n",
      "\n",
      "1 2\n",
      "(3, 4)\n",
      "Gvido 17\n",
      "{'job': 'Teacher', 'language': 'Python'}\n"
     ]
    }
   ],
   "source": [
    "def my_func(a, b, *args, name='Gvido', age=17, **kwargs):\n",
    "    print(a, b)\n",
    "    print(args)\n",
    "    print(name, age)\n",
    "    print(kwargs)\n",
    "\n",
    "my_func(1, 2, 3, 4, name='Timur', age=28, job='Teacher', language='Python')\n",
    "print()\n",
    "my_func(1, 2, name='Timur', age=28, job='Teacher', language='Python')\n",
    "print()\n",
    "my_func(1, 2, 3, 4, job='Teacher', language='Python')"
   ]
  },
  {
   "cell_type": "code",
   "execution_count": 1988,
   "metadata": {},
   "outputs": [
    {
     "name": "stdout",
     "output_type": "stream",
     "text": [
      "<class 'dict'>\n",
      "{'name': 'Timur', 'age': '28', 'job': 'teacher'}\n"
     ]
    }
   ],
   "source": [
    "def my_func(**kwargs):\n",
    "    print(type(kwargs))\n",
    "    print(kwargs)\n",
    "\n",
    "info = {'name':'Timur', 'age':'28', 'job':'teacher'}\n",
    "\n",
    "my_func(**info)"
   ]
  },
  {
   "cell_type": "code",
   "execution_count": 1989,
   "metadata": {},
   "outputs": [
    {
     "name": "stdout",
     "output_type": "stream",
     "text": [
      "Имя: Меган\n",
      "Фамилия: Фокс\n",
      "Возраст: 34\n",
      "Город проживания: Ок-Ридж\n",
      "Дети: Бодхи Рансом Грин, Ноа Шэннон Грин, Джорни Ривер Грин\n",
      "{'height': 163, 'job': 'actress'}\n"
     ]
    }
   ],
   "source": [
    "def print_info(name, surname, age, city, *children, **additional_info):\n",
    "    print('Имя:', name)\n",
    "    print('Фамилия:', surname)\n",
    "    print('Возраст:', age)\n",
    "    print('Город проживания:', city)\n",
    "    if len(children) > 0:\n",
    "        print('Дети:', ', '.join(children))\n",
    "    if len(additional_info) > 0:\n",
    "        print(additional_info)\n",
    "\n",
    "children = ['Бодхи Рансом Грин', 'Ноа Шэннон Грин', 'Джорни Ривер Грин']\n",
    "additional_info = {'height':163, 'job':'actress'}\n",
    "\n",
    "print_info('Меган', 'Фокс', 34, 'Ок-Ридж', *children, **additional_info)"
   ]
  },
  {
   "cell_type": "code",
   "execution_count": 1990,
   "metadata": {},
   "outputs": [
    {
     "name": "stdout",
     "output_type": "stream",
     "text": [
      "10 20 5 1 True\n",
      "10 20 7 1 True\n",
      "10 20 10 2 False\n",
      "10 20 17 3 True\n"
     ]
    }
   ],
   "source": [
    "# Keyword-only аргументы\n",
    "def make_circle(x, y, radius, *, line_width=1, fill=True):\n",
    "    print(x, y, radius, line_width, fill)\n",
    "\n",
    "make_circle(10, 20, 5)                                     # x=10, y=20, radius=5,  line_width=1, fill=True\n",
    "make_circle(x=10, y=20, radius=7)                          # x=10, y=20, radius=7,  line_width=1, fill=True\n",
    "make_circle(10, 20, radius=10, line_width=2, fill=False)   # x=10, y=20, radius=10, line_width=2, fill=False\n",
    "make_circle(x=10, y=20, radius=17, line_width=3)           # x=10, y=20, radius=17, line_width=3, fill=True\n",
    "\n",
    "# То есть аргументы x, y и radius могут быть переданы в качестве как позиционных, так и именованных аргументов. \n",
    "# При этом аргументы line_width и fill могут быть переданы только как именованные аргументы."
   ]
  },
  {
   "cell_type": "code",
   "execution_count": 1991,
   "metadata": {},
   "outputs": [
    {
     "data": {
      "text/plain": [
       "2.0"
      ]
     },
     "execution_count": 1991,
     "metadata": {},
     "output_type": "execute_result"
    }
   ],
   "source": [
    "def mean(*args):\n",
    "    arr = [i for i in args if type(i) in [int, float]]\n",
    "    if len(arr) > 0:\n",
    "        return sum(arr) / len(arr)\n",
    "    return 0\n",
    "\n",
    "mean(1.5, True, ['stepik'], 'beegeek', 2.5, (1, 2))"
   ]
  },
  {
   "cell_type": "code",
   "execution_count": 1992,
   "metadata": {},
   "outputs": [
    {
     "data": {
      "text/plain": [
       "2.0"
      ]
     },
     "execution_count": 1992,
     "metadata": {},
     "output_type": "execute_result"
    }
   ],
   "source": [
    "def mean(*args):\n",
    "    a = [i for i in args if type(i) in (int, float)]\n",
    "    return sum(a) / len(a) if a else 0\n",
    "\n",
    "mean(1.5, True, ['stepik'], 'beegeek', 2.5, (1, 2))"
   ]
  },
  {
   "cell_type": "code",
   "execution_count": 1993,
   "metadata": {},
   "outputs": [
    {
     "name": "stdout",
     "output_type": "stream",
     "text": [
      "[1, 'a', True, '0', 7]\n"
     ]
    }
   ],
   "source": [
    "random_list = [1, 'a', 0, False, True, '0', 7, '']\n",
    "filtered_list = list(filter(None, random_list))\n",
    "print(filtered_list)"
   ]
  },
  {
   "cell_type": "code",
   "execution_count": 1994,
   "metadata": {},
   "outputs": [
    {
     "name": "stdout",
     "output_type": "stream",
     "text": [
      "['a1', 'b2', 'c3']\n"
     ]
    }
   ],
   "source": [
    "from operator import add\n",
    "\n",
    "result = list(map(add, 'abc', '1234'))\n",
    "print(result)"
   ]
  },
  {
   "cell_type": "code",
   "execution_count": 1995,
   "metadata": {},
   "outputs": [
    {
     "name": "stdout",
     "output_type": "stream",
     "text": [
      "53.3125\n"
     ]
    }
   ],
   "source": [
    "list1 = [[1, 7, 8], [9, 7, 102], [102, 106, 105], [100, 99, 98, 103], [1, 2, 3]]\n",
    "total = 0\n",
    "counter = 0\n",
    "\n",
    "print(sum([sum(lst) for lst in list1]) / sum([len(lst) for lst in list1]))\n"
   ]
  },
  {
   "cell_type": "code",
   "execution_count": 1996,
   "metadata": {},
   "outputs": [
    {
     "name": "stdout",
     "output_type": "stream",
     "text": [
      "53.3125\n"
     ]
    }
   ],
   "source": [
    "list2 = []\n",
    "for lst in list1:\n",
    "    list2.extend(lst)\n",
    "\n",
    "print(sum(list2) / len(list2))"
   ]
  },
  {
   "cell_type": "markdown",
   "metadata": {},
   "source": [
    "# 15.4 Функции как объекты"
   ]
  },
  {
   "cell_type": "code",
   "execution_count": 2147,
   "metadata": {},
   "outputs": [
    {
     "name": "stdout",
     "output_type": "stream",
     "text": [
      "Hello from function\n"
     ]
    }
   ],
   "source": [
    "def hello():\n",
    "    print('Hello from function')\n",
    "\n",
    "\n",
    "func = hello     #  присваиваем переменной func функцию hello\n",
    "func()           #  вызываем функцию"
   ]
  },
  {
   "cell_type": "code",
   "execution_count": 2148,
   "metadata": {},
   "outputs": [
    {
     "name": "stdout",
     "output_type": "stream",
     "text": [
      "3\n"
     ]
    }
   ],
   "source": [
    "def start():\n",
    "    # тело функции start\n",
    "    print('1')\n",
    "\n",
    "def stop():\n",
    "    # тело функции stop\n",
    "    print('2')\n",
    "\n",
    "def pause():\n",
    "    # тело функции pause\n",
    "    print('3')\n",
    "\n",
    "commands = {'start': start, 'stop': stop, 'pause': pause}  # словарь соответствия команда → функция\n",
    "\n",
    "command = 'pause'  # считываем название команды\n",
    "\n",
    "commands[command]()  # вызываем нужную функцию через словарь по ключу"
   ]
  },
  {
   "cell_type": "code",
   "execution_count": 2151,
   "metadata": {},
   "outputs": [
    {
     "name": "stdout",
     "output_type": "stream",
     "text": [
      "Hello from function!\n"
     ]
    }
   ],
   "source": [
    "# Функции в качестве возвращаемых значений других функций\n",
    "\n",
    "def generator():\n",
    "    def hello():\n",
    "        print('Hello from function!')\n",
    "    return hello\n",
    "\n",
    "func = generator()\n",
    "func()"
   ]
  },
  {
   "cell_type": "code",
   "execution_count": 2152,
   "metadata": {},
   "outputs": [
    {
     "name": "stdout",
     "output_type": "stream",
     "text": [
      "4\n",
      "5\n",
      "57\n"
     ]
    }
   ],
   "source": [
    "def generator_square_polynom(a, b, c):\n",
    "    def square_polynom(x):\n",
    "        return a * x**2 + b * x + c\n",
    "\n",
    "    return square_polynom\n",
    "\n",
    "f = generator_square_polynom(a=1, b=2, c=1)\n",
    "g = generator_square_polynom(a=2, b=0, c=-3)\n",
    "h = generator_square_polynom(a=-3, b=-10, c=50)\n",
    "\n",
    "print(f(1))\n",
    "print(g(2))\n",
    "print(h(-1))"
   ]
  },
  {
   "cell_type": "code",
   "execution_count": 2150,
   "metadata": {},
   "outputs": [
    {
     "data": {
      "text/plain": [
       "[(9, 1), (5, 1), (3, 2), (1, 3)]"
      ]
     },
     "execution_count": 2150,
     "metadata": {},
     "output_type": "execute_result"
    }
   ],
   "source": [
    "# Сортировка по второму элементу\n",
    "\n",
    "def second_element(x):\n",
    "    return x[1]\n",
    "\n",
    "tpl_list = [(3, 2), (9, 1), (5, 1), (1, 3)]\n",
    "\n",
    "sorted(tpl_list, key=second_element)"
   ]
  },
  {
   "cell_type": "code",
   "execution_count": 2161,
   "metadata": {},
   "outputs": [
    {
     "name": "stdout",
     "output_type": "stream",
     "text": [
      "(-9, 8, 4)\n",
      "(81, 39)\n"
     ]
    }
   ],
   "source": [
    "# Дан список numbers, содержащий кортежи чисел. \n",
    "# Напишите программу, которая с помощью встроенных функций min() и max() выводит те кортежи (каждый на отдельной строке), \n",
    "# которые имеют минимальное и максимальное среднее арифметическое значение элементов.\n",
    "\n",
    "numbers = [(10, 10, 10), (30, 45, 56), (81, 39), (1, 2, 3), (12,), (-2, -4, 100), (1, 2, 99), (89, 9, 34), \\\n",
    "           (10, 20, 30, -2), (50, 40, 50), (34, 78, 65), (-5, 90, -1, -5), (1, 2, 3, 4, 5, 6), (-9, 8, 4), (90, 1, -45, -21)]\n",
    "\n",
    "def mean_tuple(tpl):\n",
    "    return sum(tpl) / len(tpl)\n",
    "\n",
    "print(min(numbers, key=mean_tuple))\n",
    "print(max(numbers, key=mean_tuple))"
   ]
  },
  {
   "cell_type": "code",
   "execution_count": 2162,
   "metadata": {},
   "outputs": [
    {
     "name": "stdout",
     "output_type": "stream",
     "text": [
      "(-9, 8, 4)\n",
      "(81, 39)\n"
     ]
    }
   ],
   "source": [
    "print(*(func(numbers, key=mean_tuple) for func in (min, max)), sep='\\n')"
   ]
  },
  {
   "cell_type": "code",
   "execution_count": 2164,
   "metadata": {},
   "outputs": [
    {
     "name": "stdout",
     "output_type": "stream",
     "text": [
      "[(0, 0), (0, 1), (-1, 1), (2, 0), (3, 0), (-1, 3), (-3, 2), (4, 3), (3, 6), (5, 6), (-9, 1), (8, 8), (12, 0)]\n"
     ]
    }
   ],
   "source": [
    "# Напишите программу, которая сортирует список points координат точек плоскости в соответствии с расстоянием \n",
    "# от начала координат (точки (0;0)). \n",
    "# Программа должна вывести отсортированный список.\n",
    "\n",
    "points = [(-1, 1), (5, 6), (12, 0), (4, 3), (0, 1), (-3, 2), (0, 0), (-1, 3), (2, 0), (3, 0), (-9, 1), (3, 6), (8, 8)]\n",
    "\n",
    "def dist(tpl):\n",
    "    return (tpl[0] ** 2 + tpl[1] ** 2) ** 0.5\n",
    "points = sorted(points, key=dist)\n",
    "\n",
    "print(points)"
   ]
  },
  {
   "cell_type": "code",
   "execution_count": 2166,
   "metadata": {},
   "outputs": [
    {
     "name": "stdout",
     "output_type": "stream",
     "text": [
      "[(1, 2, 3), (10, 10, 10), (10, 20, 30), (12, 45, 67), (-5, 90, -1), (30, 45, 56), (50, 40, 50), (-2, -4, 100), (1, 2, 99), (34, 78, 65), (81, 80, 39), (89, 90, 34)]\n"
     ]
    }
   ],
   "source": [
    "# Дан список numbers, содержащий кортежи чисел. \n",
    "# Напишите программу, которая сортирует и выводит список numbers \n",
    "# в соответствии с суммой минимального и максимального элемента кортежа.\n",
    "\n",
    "numbers = [(10, 10, 10), (30, 45, 56), (81, 80, 39), (1, 2, 3), (12, 45, 67), (-2, -4, 100), (1, 2, 99), (89, 90, 34), (10, 20, 30), (50, 40, 50), (34, 78, 65), (-5, 90, -1)]\n",
    "\n",
    "def tpl_sum(tpl):\n",
    "    return min(tpl) + max(tpl)\n",
    "\n",
    "numbers = sorted(numbers, key=tpl_sum)\n",
    "\n",
    "print(numbers)"
   ]
  },
  {
   "cell_type": "code",
   "execution_count": 2178,
   "metadata": {},
   "outputs": [
    {
     "name": "stdout",
     "output_type": "stream",
     "text": [
      "Рустам 10 128 30\n",
      "Дима 10 130 35\n",
      "Тимур 11 135 39\n",
      "Руслан 9 140 33\n",
      "Матвей 17 168 68\n",
      "Амир 16 170 70\n",
      "Рома 16 188 100\n",
      "Петя 15 190 90\n"
     ]
    }
   ],
   "source": [
    "# Список athletes содержит сведения о спортсменах в виде кортежей: (имя, возраст, рост, вес).\n",
    "# Напишите программу сортировки списка спортсменов по указанному полю:\n",
    "\n",
    "# 1: по имени;\n",
    "# 2: по возрасту;\n",
    "# 3: по росту;\n",
    "# 4: по весу.\n",
    "\n",
    "athletes = [('Дима', 10, 130, 35), ('Тимур', 11, 135, 39), ('Руслан', 9, 140, 33), ('Рустам', 10, 128, 30), \\\n",
    "            ('Амир', 16, 170, 70), ('Рома', 16, 188, 100), ('Матвей', 17, 168, 68), ('Петя', 15, 190, 90)]\n",
    "\n",
    "n = 3\n",
    "\n",
    "def sorted_tpl(arg):\n",
    "    def comparator(tpl):\n",
    "        return tpl[arg - 1]\n",
    "    return comparator\n",
    "\n",
    "for line in sorted(athletes, key=sorted_tpl(n)):\n",
    "    print(*line)"
   ]
  },
  {
   "cell_type": "code",
   "execution_count": 2189,
   "metadata": {},
   "outputs": [
    {
     "data": {
      "text/plain": [
       "125"
      ]
     },
     "execution_count": 2189,
     "metadata": {},
     "output_type": "execute_result"
    }
   ],
   "source": [
    "# Напишите программу, которая принимает число и название функции, а выводит результат применения функции к данному числу.\n",
    "\n",
    "# Список возможных функций:\n",
    "\n",
    "# квадрат: функция принимает число и возвращает его квадрат;\n",
    "# куб: функция принимает число и возвращает его куб;\n",
    "# корень: функция принимает число и возвращает корень квадратный из этого числа;\n",
    "# модуль: функция принимает число и возвращает его модуль;\n",
    "# синус: функция принимает число (в радианах) и возвращает синус этого числа.\n",
    "\n",
    "n = 5\n",
    "function = 'куб'\n",
    "\n",
    "def square(n):\n",
    "    return n * n\n",
    "\n",
    "def cube(n):\n",
    "    return n * n * n\n",
    "\n",
    "commands = {'квадрат': square, 'куб': cube, 'корень': sqrt, 'модуль': abs, 'синус': sin}\n",
    "\n",
    "commands[function](n)"
   ]
  },
  {
   "cell_type": "code",
   "execution_count": 2196,
   "metadata": {},
   "outputs": [
    {
     "name": "stdout",
     "output_type": "stream",
     "text": [
      "125\n"
     ]
    }
   ],
   "source": [
    "from math import sqrt, sin\n",
    "\n",
    "n = 5\n",
    "function = 'куб'\n",
    "\n",
    "def pwr(p):\n",
    "  def numpower(n):\n",
    "    return n**p\n",
    "  return numpower\n",
    "\n",
    "commands = {'квадрат': pwr(2), 'куб': pwr(3), 'корень': pwr(0.5), 'модуль': abs, 'синус': sin}\n",
    "\n",
    "print(commands[function](n))"
   ]
  },
  {
   "cell_type": "code",
   "execution_count": 2177,
   "metadata": {},
   "outputs": [
    {
     "name": "stdout",
     "output_type": "stream",
     "text": [
      "Рустам 10 128 30\n",
      "Дима 10 130 35\n",
      "Тимур 11 135 39\n",
      "Руслан 9 140 33\n",
      "Матвей 17 168 68\n",
      "Амир 16 170 70\n",
      "Рома 16 188 100\n",
      "Петя 15 190 90\n"
     ]
    }
   ],
   "source": [
    "athletes = [('Дима', 10, 130, 35), ('Тимур', 11, 135, 39), ('Руслан', 9, 140, 33), ('Рустам', 10, 128, 30), \\\n",
    "            ('Амир', 16, 170, 70), ('Рома', 16, 188, 100), ('Матвей', 17, 168, 68), ('Петя', 15, 190, 90)]\n",
    "\n",
    "n = 3\n",
    "\n",
    "def comparator_i(i):\n",
    "    def comparator(pair):\n",
    "        return pair[n-1]\n",
    "    return comparator\n",
    "\n",
    "for i in sorted(athletes, key=comparator_i(n)): \n",
    "    print(*i, end='\\n')"
   ]
  },
  {
   "cell_type": "code",
   "execution_count": 2202,
   "metadata": {},
   "outputs": [
    {
     "name": "stdout",
     "output_type": "stream",
     "text": [
      "10 11 20 12 21 13 22 14 23 15 16 17 18 19\n"
     ]
    }
   ],
   "source": [
    "# На вход программе подается строка натуральных чисел. \n",
    "# Из элементов строки формируется список чисел.\n",
    "\n",
    "# Напишите программу сортировки списка чисел в порядке неубывания суммы их цифр. П\n",
    "# ри этом, если два числа имеют одинаковую сумму цифр, следует сохранить их взаиморасположение в начальном списке.\n",
    "\n",
    "s = '10 11 12 13 14 15 16 17 18 19 20 21 22 23'.split()\n",
    "\n",
    "def sort_num(num):\n",
    "    return sum([int(i) for i in num])\n",
    "print(*sorted(s, key=sort_num))\n",
    "\n",
    "\n"
   ]
  },
  {
   "cell_type": "code",
   "execution_count": 2208,
   "metadata": {},
   "outputs": [
    {
     "name": "stdout",
     "output_type": "stream",
     "text": [
      "12 111 4 14 123 7 45 90 171 79\n"
     ]
    }
   ],
   "source": [
    "# На вход программе подается строка натуральных чисел. \n",
    "# Из элементов строки формируется список чисел.\n",
    "\n",
    "# Напишите программу сортировки списка чисел в порядке неубывания суммы их цифр. \n",
    "# При этом, если у двух чисел одинаковая сумма цифр, их следует вывести в порядке неубывания.\n",
    "\n",
    "s = '111 14 79 7 4 123 90 45 12 171'.split()\n",
    "\n",
    "def sort_num(num):\n",
    "    return (sum([int(i) for i in num]), int(num))\n",
    "print(*sorted(s, key=sort_num))"
   ]
  },
  {
   "cell_type": "code",
   "execution_count": null,
   "metadata": {},
   "outputs": [],
   "source": []
  },
  {
   "cell_type": "markdown",
   "metadata": {},
   "source": [
    "# Функции any(), all(), zip(), enumerate()"
   ]
  },
  {
   "cell_type": "code",
   "execution_count": 1997,
   "metadata": {},
   "outputs": [
    {
     "name": "stdout",
     "output_type": "stream",
     "text": [
      "True\n",
      "False\n",
      "False\n",
      "False\n",
      "False\n"
     ]
    }
   ],
   "source": [
    "# all\n",
    "\n",
    "print(all([1, 2, 3]))   \n",
    "print(all([1, 2, 3, 0, 5]))\n",
    "print(all([True, 0, 1]))\n",
    "print(all(('', 'red', 'green')))\n",
    "print(all({0j, 3+4j}))"
   ]
  },
  {
   "cell_type": "code",
   "execution_count": 1998,
   "metadata": {},
   "outputs": [
    {
     "name": "stdout",
     "output_type": "stream",
     "text": [
      "False\n",
      "True\n"
     ]
    }
   ],
   "source": [
    "dict1 = {0: 'Zero', 1: 'One', 2: 'Two'}\n",
    "dict2 = {'Zero': 0, 'One': 1, 'Two': 2}\n",
    "\n",
    "print(all(dict1))\n",
    "print(all(dict2))"
   ]
  },
  {
   "cell_type": "code",
   "execution_count": 1999,
   "metadata": {},
   "outputs": [
    {
     "name": "stdout",
     "output_type": "stream",
     "text": [
      "True\n",
      "True\n",
      "True\n",
      "False\n"
     ]
    }
   ],
   "source": [
    "print(all([]))          #  передаем пустой список\n",
    "print(all(()))          #  передаем пустой кортеж\n",
    "print(all(''))          #  передаем пустую строку\n",
    "print(all([[], []]))    #  передаем список, содержащий пустые списки"
   ]
  },
  {
   "cell_type": "code",
   "execution_count": 2000,
   "metadata": {},
   "outputs": [
    {
     "name": "stdout",
     "output_type": "stream",
     "text": [
      "False\n",
      "True\n",
      "True\n",
      "True\n",
      "True\n"
     ]
    }
   ],
   "source": [
    "# any\n",
    "\n",
    "print(any([0, 0, 0]))\n",
    "print(any([0, 1, 0]))\n",
    "print(any([False, 0, 1]))\n",
    "print(any(['', [], 'green']))\n",
    "print(any({0j, 3+4j, 0.0}))"
   ]
  },
  {
   "cell_type": "code",
   "execution_count": 2001,
   "metadata": {},
   "outputs": [
    {
     "name": "stdout",
     "output_type": "stream",
     "text": [
      "[5, 4, 3, 2, 1]\n"
     ]
    }
   ],
   "source": [
    "numbers = [1, 2, 5, 3, 4]\n",
    "numbers.sort(key=lambda x: -x)\n",
    "print(numbers)"
   ]
  },
  {
   "cell_type": "code",
   "execution_count": 2002,
   "metadata": {},
   "outputs": [
    {
     "name": "stdout",
     "output_type": "stream",
     "text": [
      "Хотя бы одно число меньше или равно 10\n"
     ]
    }
   ],
   "source": [
    "# Связка с map\n",
    "\n",
    "numbers = [17, 90, 78, 56, 231, 45, 5, 89, 91, 11, 19]\n",
    "\n",
    "result = all(map(lambda x: True if x > 10 else False, numbers))\n",
    "\n",
    "if result:\n",
    "    print('Все числа больше 10')\n",
    "else:\n",
    "    print('Хотя бы одно число меньше или равно 10')"
   ]
  },
  {
   "cell_type": "code",
   "execution_count": 2003,
   "metadata": {},
   "outputs": [
    {
     "name": "stdout",
     "output_type": "stream",
     "text": [
      "Хотя бы одно число четное\n"
     ]
    }
   ],
   "source": [
    "# Хотя бы один элемент списка четное число\n",
    "\n",
    "numbers = [17, 91, 78, 55, 231, 45, 5, 89, 99, 11, 19]\n",
    "\n",
    "result = any(map(lambda x: x % 2 == 0, numbers))\n",
    "\n",
    "if result:\n",
    "    print('Хотя бы одно число четное')\n",
    "else:\n",
    "    print('Все числа нечетные')"
   ]
  },
  {
   "cell_type": "code",
   "execution_count": 2004,
   "metadata": {},
   "outputs": [
    {
     "name": "stdout",
     "output_type": "stream",
     "text": [
      "(0, 'red')\n",
      "(1, 'green')\n",
      "(2, 'blue')\n",
      "\n",
      "(100, 'red')\n",
      "(101, 'green')\n",
      "(102, 'blue')\n",
      "\n",
      "<class 'enumerate'>\n",
      "<enumerate object at 0x000001BCBF8244F0>\n",
      "[(0, 'red'), (1, 'green'), (2, 'blue')]\n"
     ]
    }
   ],
   "source": [
    "# Функция enumerate()\n",
    "\n",
    "# Встроенная функция enumerate() возвращает кортеж из индекса элемента\n",
    "# и самого элемента переданной ей последовательности (итерируемого объекта).\n",
    "\n",
    "colors = ['red', 'green', 'blue']\n",
    "\n",
    "for pair in enumerate(colors):\n",
    "    print(pair)\n",
    "\n",
    "print()\n",
    "\n",
    "colors = ['red', 'green', 'blue']\n",
    "\n",
    "for pair in enumerate(colors, start=100):\n",
    "    print(pair)\n",
    "\n",
    "# Функция enumerate() возвращает не список, а специальный объект, который называется итератором. \n",
    "# Такой объект похож на список тем, что его можно перебирать циклом for, то есть итерировать. \n",
    "# Итератор можно преобразовать в список с помощью функции list().\n",
    "\n",
    "print()\n",
    "print(type(enumerate(colors)))\n",
    "print(enumerate(colors))\n",
    "print(list(enumerate(colors)))"
   ]
  },
  {
   "cell_type": "code",
   "execution_count": 2005,
   "metadata": {},
   "outputs": [
    {
     "name": "stdout",
     "output_type": "stream",
     "text": [
      "0 red\n",
      "1 green\n",
      "2 blue\n"
     ]
    }
   ],
   "source": [
    "colors = ['red', 'green', 'blue']\n",
    "for index, item in enumerate(colors):\n",
    "    print(index, item)"
   ]
  },
  {
   "cell_type": "code",
   "execution_count": 2006,
   "metadata": {},
   "outputs": [
    {
     "name": "stdout",
     "output_type": "stream",
     "text": [
      "(1, 'one')\n",
      "(2, 'two')\n",
      "(3, 'three')\n"
     ]
    }
   ],
   "source": [
    "# Функция zip()\n",
    "# Встроенная функция zip() объединяет отдельные элементы из каждой переданной ей последовательности (итерируемого объекта) в кортежи.\n",
    "\n",
    "numbers = [1, 2, 3]\n",
    "words = ['one', 'two', 'three']\n",
    "\n",
    "for pair in zip(numbers, words):\n",
    "    print(pair)"
   ]
  },
  {
   "cell_type": "code",
   "execution_count": 2007,
   "metadata": {},
   "outputs": [
    {
     "name": "stdout",
     "output_type": "stream",
     "text": [
      "<zip object at 0x000001BCC36F7F00>\n",
      "[(1, 'one'), (2, 'two'), (3, 'three')]\n"
     ]
    }
   ],
   "source": [
    "numbers = [1, 2, 3]\n",
    "words = ['one', 'two', 'three']\n",
    "\n",
    "result = zip(numbers, words)\n",
    "\n",
    "print(result)\n",
    "print(list(result))"
   ]
  },
  {
   "cell_type": "code",
   "execution_count": 2008,
   "metadata": {},
   "outputs": [
    {
     "name": "stdout",
     "output_type": "stream",
     "text": [
      "[(1, 'one', 'I'), (2, 'two', 'II'), (3, 'three', 'III')]\n"
     ]
    }
   ],
   "source": [
    "numbers = [1, 2, 3]\n",
    "words = ['one', 'two', 'three']\n",
    "romans = ['I', 'II', 'III']\n",
    "\n",
    "result = zip(numbers, words, romans)\n",
    "print(list(result))"
   ]
  },
  {
   "cell_type": "code",
   "execution_count": 2009,
   "metadata": {},
   "outputs": [
    {
     "name": "stdout",
     "output_type": "stream",
     "text": [
      "{'name': 'Timur', 'age': 28, 'gender': 'male'}\n"
     ]
    }
   ],
   "source": [
    "keys = ['name', 'age', 'gender']\n",
    "values = ['Timur', 28, 'male']\n",
    "\n",
    "info = dict(zip(keys, values))\n",
    "print(info)"
   ]
  },
  {
   "cell_type": "code",
   "execution_count": 2010,
   "metadata": {},
   "outputs": [],
   "source": [
    "def all(iterable):\n",
    "    for item in iterable:\n",
    "       if not item:\n",
    "           return False\n",
    "    return True\n",
    "\n",
    "def any(iterable):\n",
    "    for item in iterable:\n",
    "        if item:\n",
    "            return True\n",
    "    return False"
   ]
  },
  {
   "cell_type": "code",
   "execution_count": 2011,
   "metadata": {},
   "outputs": [
    {
     "name": "stdout",
     "output_type": "stream",
     "text": [
      "0 a1 b1\n",
      "1 a2 b2\n",
      "2 a3 b3\n"
     ]
    }
   ],
   "source": [
    "list1 = ['a1', 'a2', 'a3']\n",
    "list2 = ['b1', 'b2', 'b3']\n",
    "\n",
    "for index, (item1, item2) in enumerate(zip(list1, list2)):\n",
    "    print(index, item1, item2)"
   ]
  },
  {
   "cell_type": "code",
   "execution_count": 2012,
   "metadata": {},
   "outputs": [
    {
     "name": "stdout",
     "output_type": "stream",
     "text": [
      "220\n"
     ]
    }
   ],
   "source": [
    "numbers = [10, 30, 20, 50, 40, 60, 70, 80]\n",
    "\n",
    "total = 0\n",
    "for index, number in enumerate(numbers, 1):\n",
    "    if index % 2 == 0:\n",
    "        total += number\n",
    "\n",
    "print(total)"
   ]
  },
  {
   "cell_type": "code",
   "execution_count": 2013,
   "metadata": {},
   "outputs": [
    {
     "name": "stdout",
     "output_type": "stream",
     "text": [
      "[('яблоко', '林檎', 'apple'), ('ананас', 'パイナップル', 'pineapple'), ('апельсин', 'オレンジ', 'orange'), ('хурма', '柿', 'persimmon')]\n",
      "4\n"
     ]
    }
   ],
   "source": [
    "words1 = ['яблоко', 'ананас', 'апельсин', 'хурма', 'гранат', 'мандарин', 'айва']\n",
    "words2 = ['林檎', 'パイナップル', 'オレンジ', '柿']\n",
    "words3 = ['apple', 'pineapple', 'orange', 'persimmon', 'pomegranate']\n",
    "\n",
    "print(list(zip(words1, words2, words3)))\n",
    "print(len(list(zip(words1, words2, words3))))"
   ]
  },
  {
   "cell_type": "markdown",
   "metadata": {},
   "source": [
    "# Анонимные функции (Лямбда - функции)"
   ]
  },
  {
   "cell_type": "code",
   "execution_count": null,
   "metadata": {},
   "outputs": [],
   "source": []
  },
  {
   "cell_type": "code",
   "execution_count": null,
   "metadata": {},
   "outputs": [],
   "source": []
  },
  {
   "cell_type": "markdown",
   "metadata": {},
   "source": [
    "# Работа с файлами"
   ]
  },
  {
   "cell_type": "code",
   "execution_count": 2014,
   "metadata": {},
   "outputs": [],
   "source": [
    "# Функция open()\n",
    "\n",
    "# файловая_переменная = open(имя_файла, режим_доступа)\n",
    "\n",
    "# 'r'\t    Read (чтение)       - Открыть файл только для чтения. Такой файл не может быть изменен.\n",
    "# 'w'\t    Write (запись)      - Открыть файл для записи. Если файл уже существует, стереть его содержимое. Если файл не существует, он будет создан.\n",
    "# 'a'\t    Append (добавление) - Открыть файл для записи. Данные будут добавлены в конец файла. Если файл не существует, он будет создан.\n",
    "# 'r+'\t    Read + Write        - Открыть файл для чтения и записи. В этом режиме происходит частичная перезапись содержимого файла.\n",
    "# 'x'\t    Create (создание)   - Создать новый файл. Если файл существует, произойдет ошибка.\n",
    "\n",
    "# 't'\tТекстовый режим (значение по умолчанию)\tРабота с текстовым файлом\n",
    "# 'b'\tБинарный режим\tРабота с бинарными файлами (картинки, звук и т.д.)\n",
    "\n",
    "# file = open('file.dat', 'rb')\n",
    "# file = open('file.dat', 'rt')\n",
    "\n",
    "# Кодировка\n",
    "# file = open('info.txt', 'r', encoding='utf-8')  cp1252, utf-8\n",
    "\n",
    "\n",
    "\n",
    "# Метод close()\n",
    "\n",
    "# file.close() - закрываем файл после окончания работы\n",
    "\n"
   ]
  },
  {
   "cell_type": "markdown",
   "metadata": {},
   "source": [
    "# Работа с текстовыми файлами"
   ]
  },
  {
   "cell_type": "code",
   "execution_count": 2015,
   "metadata": {},
   "outputs": [],
   "source": [
    "# read()        – читает все содержимое файла;\n",
    "# readline()    – читает одну строку из файла;\n",
    "# readlines()   – читает все содержимое файла и возвращает список строк."
   ]
  },
  {
   "cell_type": "code",
   "execution_count": 2016,
   "metadata": {},
   "outputs": [],
   "source": [
    "# На вход программе подается строка с именем текстового файла. \n",
    "# Напишите программу, которая выводит на экран его содержимое.\n",
    "\n",
    "# path = input()\n",
    "# file = open(path)\n",
    "# content = file.read()\n",
    "\n",
    "# print(content)\n",
    "\n",
    "# file.close()"
   ]
  },
  {
   "cell_type": "code",
   "execution_count": 2017,
   "metadata": {},
   "outputs": [
    {
     "name": "stdout",
     "output_type": "stream",
     "text": [
      "Иногда среднее тире называют коротким тире\n",
      "\n"
     ]
    }
   ],
   "source": [
    "# На вход программе подается строка с именем текстового файла. \n",
    "# Напишите программу, которая выводит на экран его последнюю строку.\n",
    "\n",
    "path = 'data/lines.txt'\n",
    "file = open(path)\n",
    "content = file.readlines()\n",
    "\n",
    "print(content[-1])\n",
    "\n",
    "file.close()"
   ]
  },
  {
   "cell_type": "code",
   "execution_count": 2018,
   "metadata": {},
   "outputs": [
    {
     "name": "stdout",
     "output_type": "stream",
     "text": [
      "Open a File\n",
      "\n"
     ]
    }
   ],
   "source": [
    "# Вам доступен текстовый файл lines.txt из нескольких строк. \n",
    "# Напишите программу, которая выводит на экран случайную строку из этого файла.\n",
    "\n",
    "from random import choice\n",
    "\n",
    "path = 'data/lines.txt'\n",
    "file = open(path)\n",
    "content = file.readlines()\n",
    "\n",
    "print(choice(content))\n",
    "\n",
    "file.close()"
   ]
  },
  {
   "cell_type": "code",
   "execution_count": 2019,
   "metadata": {},
   "outputs": [
    {
     "name": "stdout",
     "output_type": "stream",
     "text": [
      "491000626\n"
     ]
    }
   ],
   "source": [
    "# Вам доступен текстовый файл numbers.txt из двух строк, на каждой из них записано целое число. \n",
    "# Напишите программу, выводящую на экран сумму этих чисел.\n",
    "\n",
    "path = 'data/numbers1.txt'\n",
    "file = open(path)\n",
    "\n",
    "a, b = map(int, (file.readlines()))\n",
    "\n",
    "print(a + b)\n",
    "\n",
    "file.close()"
   ]
  },
  {
   "cell_type": "code",
   "execution_count": 2020,
   "metadata": {},
   "outputs": [
    {
     "name": "stdout",
     "output_type": "stream",
     "text": [
      "['453459384', '32242']\n",
      "453491626\n"
     ]
    }
   ],
   "source": [
    "# Вам доступен текстовый файл nums.txt. В файле записано два целых числа, они могут быть разделены символами пробела и конца строки. \n",
    "# Напишите программу, выводящую на экран сумму этих чисел.\n",
    "\n",
    "path = 'data/nums.txt'\n",
    "file = open(path)\n",
    "\n",
    "s = file.read()\n",
    "print(s.split())\n",
    "\n",
    "a, b = map(int, s.split())\n",
    "\n",
    "print(a + b)\n",
    "\n",
    "file.close()"
   ]
  },
  {
   "cell_type": "code",
   "execution_count": 2021,
   "metadata": {},
   "outputs": [
    {
     "name": "stdout",
     "output_type": "stream",
     "text": [
      "1286800\n"
     ]
    }
   ],
   "source": [
    "# Вам доступен текстовый файл prices.txt с информацией о заказе из интернет-магазина. \n",
    "# В нем каждая строка с помощью символа табуляции (\\t) разделена на три колонки:\n",
    "\n",
    "# наименование товара;\n",
    "# количество товара (целое число);\n",
    "# цена (в рублях) товара за 1 шт (целое число).\n",
    "\n",
    "# Напишите программу, выводящую на экран общую стоимость заказа.\n",
    "\n",
    "path = 'data/prices.txt'\n",
    "file = open(path)\n",
    "s = file.readlines()\n",
    "\n",
    "total = 0\n",
    "\n",
    "for line in s:\n",
    "    line = line.split()\n",
    "    total += (int(line[1])) * int(line[2])\n",
    "\n",
    "file.close()\n",
    "\n",
    "print(total)"
   ]
  },
  {
   "cell_type": "code",
   "execution_count": 2022,
   "metadata": {},
   "outputs": [
    {
     "name": "stdout",
     "output_type": "stream",
     "text": [
      "1286800\n"
     ]
    }
   ],
   "source": [
    "file = open('data/prices.txt')\n",
    "lines = map(str.split, file)\n",
    "\n",
    "total = sum(map(lambda line: int(line[1]) * int(line[2]), lines))\n",
    "\n",
    "print(total)\n",
    "\n",
    "file.close()"
   ]
  },
  {
   "cell_type": "code",
   "execution_count": 2023,
   "metadata": {},
   "outputs": [
    {
     "name": "stdout",
     "output_type": "stream",
     "text": [
      "Первая строка : \n",
      "телефон\t4\t12500\n",
      "\n",
      "Вторая строка : \n",
      "бургер\t1\t500\n",
      "\n",
      "Оставшиеся строки : \n",
      "курс\t1\t1400\n",
      "подписка\t40\t9500\n",
      "наушники\t2\t22450\n",
      "телефон\t2\t2500\n",
      "ноутбук\t5\t155000\n",
      "диван\t100\t300\n",
      "\n"
     ]
    }
   ],
   "source": [
    "file = open('data/prices.txt')\n",
    "\n",
    "line1 = file.readline()\n",
    "line2 = file.readline()\n",
    "remaining_lines = file.read()    # считывание начинается с 3 строки до конца файла\n",
    "\n",
    "file.close()\n",
    "\n",
    "print(f'Первая строка : \\n{line1}')\n",
    "print(f'Вторая строка : \\n{line2}')\n",
    "print(f'Оставшиеся строки : \\n{remaining_lines}')"
   ]
  },
  {
   "cell_type": "code",
   "execution_count": 2024,
   "metadata": {},
   "outputs": [
    {
     "name": "stdout",
     "output_type": "stream",
     "text": [
      "Первая строка : \n",
      "телефон\t4\t12500\n",
      "\n",
      "Вторая строка : \n",
      "телефон\t4\t12500\n",
      "\n"
     ]
    }
   ],
   "source": [
    "# seek(0) - задаёт позицию курсора в байтах от начала файла\n",
    "\n",
    "file = open('data/prices.txt')\n",
    "line1 = file.readline()\n",
    "file.seek(0)                # переход в начало\n",
    "line2 = file.readline()\n",
    "remaining_lines = file.read()    # считывание начинается с 3 строки до конца файла\n",
    "\n",
    "file.close()\n",
    "\n",
    "print(f'Первая строка : \\n{line1}')\n",
    "print(f'Вторая строка : \\n{line2}')"
   ]
  },
  {
   "cell_type": "code",
   "execution_count": 2025,
   "metadata": {},
   "outputs": [
    {
     "name": "stdout",
     "output_type": "stream",
     "text": [
      "0\n",
      "24\n"
     ]
    }
   ],
   "source": [
    "# tell(0) - получает позицию курсора в байтах от начала файла\n",
    "\n",
    "file = open('data/prices.txt')\n",
    "print(file.tell())\n",
    "line1 = file.readline()\n",
    "print(file.tell())\n",
    "\n",
    "file.close()"
   ]
  },
  {
   "cell_type": "markdown",
   "metadata": {},
   "source": [
    "# Менеджер контекста"
   ]
  },
  {
   "cell_type": "code",
   "execution_count": 2026,
   "metadata": {},
   "outputs": [
    {
     "name": "stdout",
     "output_type": "stream",
     "text": [
      "телефон\t4\t12500\n",
      "\n",
      "бургер\t1\t500\n",
      "\n",
      "курс\t1\t1400\n",
      "\n",
      "подписка\t40\t9500\n",
      "\n",
      "наушники\t2\t22450\n",
      "\n",
      "телефон\t2\t2500\n",
      "\n",
      "ноутбук\t5\t155000\n",
      "\n",
      "диван\t100\t300\n",
      "\n",
      "Файл закрыт\n"
     ]
    }
   ],
   "source": [
    "# По выходу из контекста ресурс автоматически освобождается, даже если при выполнении блока возникло исключение.\n",
    "# Как только закончится код, оформленный с отступами в with (аналогичные отступы в циклах или функциях), \n",
    "# это будет означать, что контекст закончился, и Python автоматически закроет файл.\n",
    "\n",
    "with open('data/prices.txt', 'r', encoding='utf-8') as file:\n",
    "    for line in file:\n",
    "        print(line)\n",
    "                          # автоматическое закрытие файла\n",
    "print('Файл закрыт')"
   ]
  },
  {
   "cell_type": "code",
   "execution_count": 2027,
   "metadata": {},
   "outputs": [
    {
     "name": "stdout",
     "output_type": "stream",
     "text": [
      "Complex is better than complicated.\n",
      "Simple is better than complex.\n",
      "Explicit is better than implicit.\n",
      "Beautiful is better than ugly.\n",
      "\n"
     ]
    }
   ],
   "source": [
    "# Вам доступен текстовый файл data.txt, в котором записаны строки текста. \n",
    "# Напишите программу, выводящую все строки данного файла в обратном порядке: \n",
    "# сначала последнюю, затем предпоследнюю и так далее.\n",
    "\n",
    "with open('data/data.txt') as f:\n",
    "    arr = [s for s in f.readlines()]\n",
    "    arr.reverse()\n",
    "    print(*arr, sep='')"
   ]
  },
  {
   "cell_type": "code",
   "execution_count": 2028,
   "metadata": {},
   "outputs": [
    {
     "name": "stdout",
     "output_type": "stream",
     "text": [
      "Complex is better than complicated.\n",
      "Simple is better than complex.\n",
      "Explicit is better than implicit.\n",
      "Beautiful is better than ugly.\n",
      "\n"
     ]
    }
   ],
   "source": [
    "with open('data/data.txt', encoding='utf-8') as file:\n",
    "    print(*file.readlines()[::-1], sep='')"
   ]
  },
  {
   "cell_type": "code",
   "execution_count": 2029,
   "metadata": {},
   "outputs": [
    {
     "name": "stdout",
     "output_type": "stream",
     "text": [
      "136\n"
     ]
    }
   ],
   "source": [
    "# Вам доступен текстовый файл lines.txt, в котором записаны строки текста. \n",
    "# Напишите программу, которая выводит наибольшую длину строки из файла.\n",
    "\n",
    "with open('data/lines.txt', 'r', encoding='utf-8') as f:\n",
    "    mx = 0\n",
    "    arr = f.readlines()\n",
    "    for s in arr:\n",
    "        len_row = len(s.strip())\n",
    "        if len_row > mx:\n",
    "            mx = len_row\n",
    "    print(mx)"
   ]
  },
  {
   "cell_type": "code",
   "execution_count": 2030,
   "metadata": {},
   "outputs": [
    {
     "name": "stdout",
     "output_type": "stream",
     "text": [
      "Python provides a wide range of built-in functions for file handling. It makes it really easy to create, update, read, and delete files.\n"
     ]
    }
   ],
   "source": [
    "# Вам доступен текстовый файл lines.txt, в котором записаны строки текста. \n",
    "# Напишите программу, которая выводит все строки наибольшей длины из файла, не меняя их порядок.\n",
    "\n",
    "with open('data\\lines.txt', 'r', encoding='utf-8') as f:\n",
    "    mx = 0\n",
    "    arr = [i.strip() for i in f.readlines()]\n",
    "    for s in arr:\n",
    "        len_row = len(s)\n",
    "        if len_row > mx:\n",
    "            mx = len_row\n",
    "    print(*[i for i in arr if len(i) == mx], sep='\\n')\n"
   ]
  },
  {
   "cell_type": "code",
   "execution_count": 2031,
   "metadata": {},
   "outputs": [
    {
     "name": "stdout",
     "output_type": "stream",
     "text": [
      "256\n",
      "78\n",
      "114\n",
      "15\n",
      "1089\n"
     ]
    }
   ],
   "source": [
    "# Вам доступен текстовый файл numbers.txt, каждая строка которого может содержать одно или несколько целых чисел, разделенных одним или несколькими пробелами.\n",
    "# Напишите программу, которая вычисляет сумму чисел в каждой строке и выводит эту сумму на экран (для каждой строки выводится сумма чисел в этой строке).\n",
    "\n",
    "with open(r'data\\numbers.txt', 'r', encoding='utf-8') as f:\n",
    "    for line in f.readlines():\n",
    "        print(sum([int(i) for i in line.split()]))\n",
    "    "
   ]
  },
  {
   "cell_type": "code",
   "execution_count": 2032,
   "metadata": {},
   "outputs": [
    {
     "name": "stdout",
     "output_type": "stream",
     "text": [
      " 123\n",
      "aaa456\n",
      "1x2y3 4 5 6\n",
      "sfsd 0 dfgfd  dfgdfg100 90 dddd\n",
      "1 2 3 4 5 6 7 8\n",
      " a2 bb45 67b12\n",
      "123456 hhhhh hjop 2\n",
      "\n"
     ]
    }
   ],
   "source": [
    "# Вам доступен текстовый файл nums.txt. В файле могут быть записаны целые неотрицательные числа и все что угодно. \n",
    "# Числом назовем последовательность одной и более цифр, идущих подряд (число всегда неотрицательно).\n",
    "# Напишите программу, которая вычисляет сумму всех чисел, записанных в файле.\n",
    "\n",
    "with open(r'data\\nums1.txt', 'r', encoding='utf-8') as f:\n",
    "    print(f.read())\n",
    "    for line in f.readlines():\n",
    "        print(sum([int(i) for i in line.split() if i.isdigit()]))"
   ]
  },
  {
   "cell_type": "code",
   "execution_count": 2033,
   "metadata": {},
   "outputs": [
    {
     "name": "stdout",
     "output_type": "stream",
     "text": [
      "124410\n"
     ]
    }
   ],
   "source": [
    "import re\n",
    "\n",
    "with open(r'data\\nums1.txt', 'r', encoding='utf-8') as f:\n",
    "    total = 0\n",
    "    arr = [re.findall(r'\\d+', line) for line in f.readlines()]\n",
    "    for n in arr:\n",
    "        for i in n:\n",
    "            total += int(i)\n",
    "    print(total)"
   ]
  },
  {
   "cell_type": "code",
   "execution_count": 2034,
   "metadata": {},
   "outputs": [
    {
     "name": "stdout",
     "output_type": "stream",
     "text": [
      "Input file contains:\n",
      "1069 letters\n",
      "229 words\n",
      "12 lines\n"
     ]
    }
   ],
   "source": [
    "# Вам доступен текстовый файл file.txt, набранный латиницей. \n",
    "# Напишите программу, которая выводит количество букв латинского алфавита, слов и строк. \n",
    "# Выведите три найденных числа в формате, приведенном в примере.\n",
    "\n",
    "with open(r'data\\file.txt', 'r', encoding='utf-8') as f:\n",
    "    lines = f.readlines()\n",
    "\n",
    "    words = []\n",
    "    for line in lines:\n",
    "        words.extend(line.split())\n",
    "\n",
    "    letters = []\n",
    "    for word in words:\n",
    "        letters.extend([i for i in word if i.isalpha()])\n",
    "        \n",
    "    print('Input file contains:')\n",
    "    print(f'{len(letters)} letters')\n",
    "    print(f'{len(words)} words')\n",
    "    print(f'{len(lines)} lines')"
   ]
  },
  {
   "cell_type": "code",
   "execution_count": 2035,
   "metadata": {},
   "outputs": [
    {
     "name": "stdout",
     "output_type": "stream",
     "text": [
      "Input file contains:\n",
      "1069 letters\n",
      "229 words\n",
      "12 lines\n"
     ]
    }
   ],
   "source": [
    "with open(r'data\\file.txt', 'r', encoding='utf-8') as f:\n",
    "    linecount = 0\n",
    "    wordcount = 0\n",
    "    lettercount = 0\n",
    "\n",
    "    for line in f:\n",
    "        linecount += 1\n",
    "        wordcount += len(line.split())\n",
    "        lettercount += len([c for c in line if c.isalpha()])\n",
    "\n",
    "print('Input file contains:')\n",
    "print(lettercount,'letters')\n",
    "print(wordcount,'words')\n",
    "print(linecount,'lines')"
   ]
  },
  {
   "cell_type": "code",
   "execution_count": 2036,
   "metadata": {},
   "outputs": [
    {
     "name": "stdout",
     "output_type": "stream",
     "text": [
      "Input file contains:\n",
      "1069 letters\n",
      "229 words\n",
      "12 lines\n"
     ]
    }
   ],
   "source": [
    "with open('data/file.txt') as f:\n",
    "    f = f.read()\n",
    "    \n",
    "    print('Input file contains:')\n",
    "    print(sum(map(str.isalpha, f)), 'letters')\n",
    "    print(len(f.split()), 'words')\n",
    "    print(f.count('\\n') + 1, 'lines')"
   ]
  },
  {
   "cell_type": "code",
   "execution_count": 2037,
   "metadata": {},
   "outputs": [
    {
     "name": "stdout",
     "output_type": "stream",
     "text": [
      "Input file contains:\n",
      "1069 letters\n",
      "229 words\n",
      "12 lines\n"
     ]
    }
   ],
   "source": [
    "with open('data/file.txt') as f:\n",
    "    \n",
    "    print('Input file contains:')\n",
    "    print(len(list(filter(lambda x: x.isalpha(), f.read()))), 'letters')\n",
    "    f.seek(0)\n",
    "    print(len(f.read().split()), 'words')\n",
    "    f.seek(0)\n",
    "    print(len(list(f.readlines())), 'lines')"
   ]
  },
  {
   "cell_type": "code",
   "execution_count": 2038,
   "metadata": {},
   "outputs": [
    {
     "name": "stdout",
     "output_type": "stream",
     "text": [
      "Emmitt Torrez\n",
      "Freddie Toth\n",
      "Enrique Trammell\n"
     ]
    }
   ],
   "source": [
    "# Random name and surname 🎲\n",
    "# Вам доступны два текстовых файла first_names.txt и last_names.txt, один с именами, другой с фамилиями.\n",
    "\n",
    "# Напишите программу, которая c помощью модуля random создает 3 случайные пары имя + фамилия, а затем выводит их, каждую на отдельной строке.\n",
    "\n",
    "import random\n",
    "\n",
    "with open('data/first_names.txt') as names, open('data/last_names.txt') as surnames:\n",
    "    names_arr = list(map(str.strip, names.readlines()))\n",
    "    surnames_arr = list(map(str.strip, surnames.readlines()))\n",
    "    [print(f'{random.choice(names_arr)} {random.choice(surnames_arr)}') for _ in range(3)]"
   ]
  },
  {
   "cell_type": "code",
   "execution_count": 2039,
   "metadata": {},
   "outputs": [
    {
     "name": "stdout",
     "output_type": "stream",
     "text": [
      "Germany\n",
      "Ghana\n",
      "Guatemala\n",
      "Greece\n",
      "Guinea\n",
      "Georgia\n",
      "Guinea-Bissau\n",
      "Gabon\n",
      "Guyana\n"
     ]
    }
   ],
   "source": [
    "# Вам доступен текстовый файл population.txt с названиями стран и численностью их населения, разделенными символом табуляции \\t.\n",
    "# Напишите программу, выводящую все страны, название которых начинается с буквы G, \n",
    "# численность населения которых больше чем 500000 человек, не меняя их порядок.\n",
    "\n",
    "with open('data/population.txt') as f:\n",
    "    \n",
    "    population = [(line.strip().split('\\t')[0], int(line.strip().split('\\t')[1])) for line in f.readlines() \n",
    "             if line.strip().split('\\t')[0].startswith('G') and int(line.strip().split('\\t')[1]) > 500000]\n",
    "    [print(i[0]) for i in population]"
   ]
  },
  {
   "cell_type": "code",
   "execution_count": 2040,
   "metadata": {},
   "outputs": [
    {
     "name": "stdout",
     "output_type": "stream",
     "text": [
      "Germany\n",
      "Ghana\n",
      "Guatemala\n",
      "Greece\n",
      "Guinea\n",
      "Georgia\n",
      "Guinea-Bissau\n",
      "Gabon\n",
      "Guyana\n"
     ]
    }
   ],
   "source": [
    "with open('data\\population.txt') as f:\n",
    "    for line in f:\n",
    "        n, p = line.split('\\t')\n",
    "        if n.startswith('G') and int(p) > 500000:\n",
    "            print(n)"
   ]
  },
  {
   "cell_type": "code",
   "execution_count": 2041,
   "metadata": {},
   "outputs": [
    {
     "name": "stdout",
     "output_type": "stream",
     "text": [
      "{'policyID': '119736', 'statecode': 'FL', 'county': 'CLAY COUNTY', 'eq_site_limit': '498960', 'hu_site_limit': '498960', 'fl_site_limit': '498960', 'fr_site_limit': '498960', 'tiv_2011': '498960', 'tiv_2012': '792148.9', 'eq_site_deductible': '0', 'hu_site_deductible': '9979.2', 'fl_site_deductible': '0', 'fr_site_deductible': '0', 'point_latitude': '30.102261', 'point_longitude': '-81.711777', 'line': 'Residential', 'construction': 'Masonry', 'point_granularity': '1'}\n",
      "{'policyID': '448094', 'statecode': 'FL', 'county': 'CLAY COUNTY', 'eq_site_limit': '1322376.3', 'hu_site_limit': '1322376.3', 'fl_site_limit': '1322376.3', 'fr_site_limit': '1322376.3', 'tiv_2011': '1322376.3', 'tiv_2012': '1438163.57', 'eq_site_deductible': '0', 'hu_site_deductible': '0', 'fl_site_deductible': '0', 'fr_site_deductible': '0', 'point_latitude': '30.063936', 'point_longitude': '-81.707664', 'line': 'Residential', 'construction': 'Masonry', 'point_granularity': '3'}\n",
      "{'policyID': '206893', 'statecode': 'FL', 'county': 'CLAY COUNTY', 'eq_site_limit': '190724.4', 'hu_site_limit': '190724.4', 'fl_site_limit': '190724.4', 'fr_site_limit': '190724.4', 'tiv_2011': '190724.4', 'tiv_2012': '192476.78', 'eq_site_deductible': '0', 'hu_site_deductible': '0', 'fl_site_deductible': '0', 'fr_site_deductible': '0', 'point_latitude': '30.089579', 'point_longitude': '-81.700455', 'line': 'Residential', 'construction': 'Wood', 'point_granularity': '1'}\n",
      "{'policyID': '333743', 'statecode': 'FL', 'county': 'CLAY COUNTY', 'eq_site_limit': '0', 'hu_site_limit': '79520.76', 'fl_site_limit': '0', 'fr_site_limit': '0', 'tiv_2011': '79520.76', 'tiv_2012': '86854.48', 'eq_site_deductible': '0', 'hu_site_deductible': '0', 'fl_site_deductible': '0', 'fr_site_deductible': '0', 'point_latitude': '30.063236', 'point_longitude': '-81.707703', 'line': 'Residential', 'construction': 'Wood', 'point_granularity': '3'}\n",
      "{'policyID': '172534', 'statecode': 'FL', 'county': 'CLAY COUNTY', 'eq_site_limit': '0', 'hu_site_limit': '254281.5', 'fl_site_limit': '0', 'fr_site_limit': '254281.5', 'tiv_2011': '254281.5', 'tiv_2012': '246144.49', 'eq_site_deductible': '0', 'hu_site_deductible': '0', 'fl_site_deductible': '0', 'fr_site_deductible': '0', 'point_latitude': '30.060614', 'point_longitude': '-81.702675', 'line': 'Residential', 'construction': 'Wood', 'point_granularity': '1'}\n",
      "{'policyID': '785275', 'statecode': 'FL', 'county': 'CLAY COUNTY', 'eq_site_limit': '0', 'hu_site_limit': '515035.62', 'fl_site_limit': '0', 'fr_site_limit': '0', 'tiv_2011': '515035.62', 'tiv_2012': '884419.17', 'eq_site_deductible': '0', 'hu_site_deductible': '0', 'fl_site_deductible': '0', 'fr_site_deductible': '0', 'point_latitude': '30.063236', 'point_longitude': '-81.707703', 'line': 'Residential', 'construction': 'Masonry', 'point_granularity': '3'}\n",
      "{'policyID': '995932', 'statecode': 'FL', 'county': 'CLAY COUNTY', 'eq_site_limit': '0', 'hu_site_limit': '19260000', 'fl_site_limit': '0', 'fr_site_limit': '0', 'tiv_2011': '19260000', 'tiv_2012': '20610000', 'eq_site_deductible': '0', 'hu_site_deductible': '0', 'fl_site_deductible': '0', 'fr_site_deductible': '0', 'point_latitude': '30.102226', 'point_longitude': '-81.713882', 'line': 'Commercial', 'construction': 'Reinforced Concrete', 'point_granularity': '1'}\n",
      "{'policyID': '223488', 'statecode': 'FL', 'county': 'CLAY COUNTY', 'eq_site_limit': '328500', 'hu_site_limit': '328500', 'fl_site_limit': '328500', 'fr_site_limit': '328500', 'tiv_2011': '328500', 'tiv_2012': '348374.25', 'eq_site_deductible': '0', 'hu_site_deductible': '16425', 'fl_site_deductible': '0', 'fr_site_deductible': '0', 'point_latitude': '30.102217', 'point_longitude': '-81.707146', 'line': 'Residential', 'construction': 'Wood', 'point_granularity': '1'}\n",
      "{'policyID': '433512', 'statecode': 'FL', 'county': 'CLAY COUNTY', 'eq_site_limit': '315000', 'hu_site_limit': '315000', 'fl_site_limit': '315000', 'fr_site_limit': '315000', 'tiv_2011': '315000', 'tiv_2012': '265821.57', 'eq_site_deductible': '0', 'hu_site_deductible': '15750', 'fl_site_deductible': '0', 'fr_site_deductible': '0', 'point_latitude': '30.118774', 'point_longitude': '-81.704613', 'line': 'Residential', 'construction': 'Wood', 'point_granularity': '1'}\n",
      "{'policyID': '142071', 'statecode': 'FL', 'county': 'CLAY COUNTY', 'eq_site_limit': '705600', 'hu_site_limit': '705600', 'fl_site_limit': '705600', 'fr_site_limit': '705600', 'tiv_2011': '705600', 'tiv_2012': '1010842.56', 'eq_site_deductible': '14112', 'hu_site_deductible': '35280', 'fl_site_deductible': '0', 'fr_site_deductible': '0', 'point_latitude': '30.100628', 'point_longitude': '-81.703751', 'line': 'Residential', 'construction': 'Masonry', 'point_granularity': '1'}\n"
     ]
    }
   ],
   "source": [
    "# Вам доступен CSV-файл data.csv, содержащий информацию в csv формате. \n",
    "# Напишите функцию read_csv() для чтения данных из этого файла. \n",
    "# Она должна возвращать список словарей, интерпретируя первую строку как имена ключей, а каждую последующую строку как значения этих ключей.\n",
    "\n",
    "def read_csv():\n",
    "    with open('data/datagp.csv') as f:\n",
    "        lst = [x.replace('\\n', '').split(',') for x in f.readlines()]\n",
    "        arr = []\n",
    "        for i in range(1, len(lst)):\n",
    "            d = {k: v for k, v in zip(lst[0], lst[i])}\n",
    "            arr.append(d)\n",
    "    return arr\n",
    "\n",
    "print(*read_csv(), sep='\\n')"
   ]
  },
  {
   "cell_type": "code",
   "execution_count": 2042,
   "metadata": {},
   "outputs": [
    {
     "name": "stdout",
     "output_type": "stream",
     "text": [
      "{'policyID': '119736', 'statecode': 'FL', 'county': 'CLAY COUNTY', 'eq_site_limit': '498960', 'hu_site_limit': '498960', 'fl_site_limit': '498960', 'fr_site_limit': '498960', 'tiv_2011': '498960', 'tiv_2012': '792148.9', 'eq_site_deductible': '0', 'hu_site_deductible': '9979.2', 'fl_site_deductible': '0', 'fr_site_deductible': '0', 'point_latitude': '30.102261', 'point_longitude': '-81.711777', 'line': 'Residential', 'construction': 'Masonry', 'point_granularity': '1'}\n",
      "{'policyID': '448094', 'statecode': 'FL', 'county': 'CLAY COUNTY', 'eq_site_limit': '1322376.3', 'hu_site_limit': '1322376.3', 'fl_site_limit': '1322376.3', 'fr_site_limit': '1322376.3', 'tiv_2011': '1322376.3', 'tiv_2012': '1438163.57', 'eq_site_deductible': '0', 'hu_site_deductible': '0', 'fl_site_deductible': '0', 'fr_site_deductible': '0', 'point_latitude': '30.063936', 'point_longitude': '-81.707664', 'line': 'Residential', 'construction': 'Masonry', 'point_granularity': '3'}\n",
      "{'policyID': '206893', 'statecode': 'FL', 'county': 'CLAY COUNTY', 'eq_site_limit': '190724.4', 'hu_site_limit': '190724.4', 'fl_site_limit': '190724.4', 'fr_site_limit': '190724.4', 'tiv_2011': '190724.4', 'tiv_2012': '192476.78', 'eq_site_deductible': '0', 'hu_site_deductible': '0', 'fl_site_deductible': '0', 'fr_site_deductible': '0', 'point_latitude': '30.089579', 'point_longitude': '-81.700455', 'line': 'Residential', 'construction': 'Wood', 'point_granularity': '1'}\n",
      "{'policyID': '333743', 'statecode': 'FL', 'county': 'CLAY COUNTY', 'eq_site_limit': '0', 'hu_site_limit': '79520.76', 'fl_site_limit': '0', 'fr_site_limit': '0', 'tiv_2011': '79520.76', 'tiv_2012': '86854.48', 'eq_site_deductible': '0', 'hu_site_deductible': '0', 'fl_site_deductible': '0', 'fr_site_deductible': '0', 'point_latitude': '30.063236', 'point_longitude': '-81.707703', 'line': 'Residential', 'construction': 'Wood', 'point_granularity': '3'}\n",
      "{'policyID': '172534', 'statecode': 'FL', 'county': 'CLAY COUNTY', 'eq_site_limit': '0', 'hu_site_limit': '254281.5', 'fl_site_limit': '0', 'fr_site_limit': '254281.5', 'tiv_2011': '254281.5', 'tiv_2012': '246144.49', 'eq_site_deductible': '0', 'hu_site_deductible': '0', 'fl_site_deductible': '0', 'fr_site_deductible': '0', 'point_latitude': '30.060614', 'point_longitude': '-81.702675', 'line': 'Residential', 'construction': 'Wood', 'point_granularity': '1'}\n",
      "{'policyID': '785275', 'statecode': 'FL', 'county': 'CLAY COUNTY', 'eq_site_limit': '0', 'hu_site_limit': '515035.62', 'fl_site_limit': '0', 'fr_site_limit': '0', 'tiv_2011': '515035.62', 'tiv_2012': '884419.17', 'eq_site_deductible': '0', 'hu_site_deductible': '0', 'fl_site_deductible': '0', 'fr_site_deductible': '0', 'point_latitude': '30.063236', 'point_longitude': '-81.707703', 'line': 'Residential', 'construction': 'Masonry', 'point_granularity': '3'}\n",
      "{'policyID': '995932', 'statecode': 'FL', 'county': 'CLAY COUNTY', 'eq_site_limit': '0', 'hu_site_limit': '19260000', 'fl_site_limit': '0', 'fr_site_limit': '0', 'tiv_2011': '19260000', 'tiv_2012': '20610000', 'eq_site_deductible': '0', 'hu_site_deductible': '0', 'fl_site_deductible': '0', 'fr_site_deductible': '0', 'point_latitude': '30.102226', 'point_longitude': '-81.713882', 'line': 'Commercial', 'construction': 'Reinforced Concrete', 'point_granularity': '1'}\n",
      "{'policyID': '223488', 'statecode': 'FL', 'county': 'CLAY COUNTY', 'eq_site_limit': '328500', 'hu_site_limit': '328500', 'fl_site_limit': '328500', 'fr_site_limit': '328500', 'tiv_2011': '328500', 'tiv_2012': '348374.25', 'eq_site_deductible': '0', 'hu_site_deductible': '16425', 'fl_site_deductible': '0', 'fr_site_deductible': '0', 'point_latitude': '30.102217', 'point_longitude': '-81.707146', 'line': 'Residential', 'construction': 'Wood', 'point_granularity': '1'}\n",
      "{'policyID': '433512', 'statecode': 'FL', 'county': 'CLAY COUNTY', 'eq_site_limit': '315000', 'hu_site_limit': '315000', 'fl_site_limit': '315000', 'fr_site_limit': '315000', 'tiv_2011': '315000', 'tiv_2012': '265821.57', 'eq_site_deductible': '0', 'hu_site_deductible': '15750', 'fl_site_deductible': '0', 'fr_site_deductible': '0', 'point_latitude': '30.118774', 'point_longitude': '-81.704613', 'line': 'Residential', 'construction': 'Wood', 'point_granularity': '1'}\n",
      "{'policyID': '142071', 'statecode': 'FL', 'county': 'CLAY COUNTY', 'eq_site_limit': '705600', 'hu_site_limit': '705600', 'fl_site_limit': '705600', 'fr_site_limit': '705600', 'tiv_2011': '705600', 'tiv_2012': '1010842.56', 'eq_site_deductible': '14112', 'hu_site_deductible': '35280', 'fl_site_deductible': '0', 'fr_site_deductible': '0', 'point_latitude': '30.100628', 'point_longitude': '-81.703751', 'line': 'Residential', 'construction': 'Masonry', 'point_granularity': '1'}\n"
     ]
    }
   ],
   "source": [
    "def read_csv():\n",
    "    with open('data/datagp.csv') as file:\n",
    "        keys = file.readline().strip().split(',')\n",
    "        return [dict(zip(keys, line.strip().split(','))) for line in file]\n",
    "    \n",
    "\n",
    "print(*read_csv(), sep='\\n')    "
   ]
  },
  {
   "cell_type": "markdown",
   "metadata": {},
   "source": [
    "# Запись данных в файл"
   ]
  },
  {
   "cell_type": "code",
   "execution_count": 2043,
   "metadata": {},
   "outputs": [],
   "source": [
    "# Файловые методы write() и writelines()\n",
    "\n",
    "# write()       – записывает переданную строку в файл\n",
    "# writelines()  – записывает переданный список строк в файл\n",
    "\n",
    "# 'r'\t    Read (чтение)       Открыть файл только для чтения. Такой файл не может быть изменен.\n",
    "# 'w'\t    Write (запись)\t    Открыть файл для записи. Если файл уже существует, то стереть его содержимое. Если файл не существует, он будет создан.\n",
    "# 'a'\t    Append (добавление)\tОткрыть файл для записи. Все записываемые в файл данные будут добавлены в его конец. Если файл не существует, то он будет создан.\n",
    "# 'r+'\t    Read + Write\t    Открыть файл для чтения и записи. В этом режиме происходит частичная перезапись содержимого файла с самого начала.\n",
    "# 'x'\t    Create (создание)\tСоздать новый файл. Если файл уже существует, произойдет ошибка."
   ]
  },
  {
   "cell_type": "code",
   "execution_count": 2044,
   "metadata": {},
   "outputs": [],
   "source": [
    "# Timur\n",
    "# Roman\n",
    "# Ruslan\n",
    "# Oleg\n",
    "\n",
    "# with open('names.txt', 'a') as file:\n",
    "#     file.write('\\n')\n",
    "#     file.write('Michael\\n')\n",
    "#     file.write('Alexander')\n",
    "\n",
    "# Timur\n",
    "# Roman\n",
    "# Ruslan\n",
    "# Oleg\n",
    "# Michael\n",
    "# Alexander"
   ]
  },
  {
   "cell_type": "code",
   "execution_count": 2045,
   "metadata": {},
   "outputs": [],
   "source": [
    "# python c#\n",
    "# c++\n",
    "# pascal\n",
    "\n",
    "# with open('words.txt', 'w') as file:\n",
    "#     file.write('delphi+')\n",
    "#     file.write('java')\n",
    "\n",
    "# delphi+java"
   ]
  },
  {
   "cell_type": "code",
   "execution_count": 2046,
   "metadata": {},
   "outputs": [],
   "source": [
    "# John Lennon\n",
    "# Bob Dylan\n",
    "# Stevie Wonder\n",
    "\n",
    "# with open('artists.txt', 'r+') as file:\n",
    "#     file.write('Mick Jagger\\n')\n",
    "#     file.write('Ace Canon\\n')\n",
    "\n",
    "# Mick Jagger\n",
    "# Ace Canon\n",
    "# Stevie Wonder"
   ]
  },
  {
   "cell_type": "code",
   "execution_count": 2047,
   "metadata": {},
   "outputs": [],
   "source": [
    "# with open('words.txt', 'w') as output:\n",
    "#     print('stepik', 'beegeek', 'iq-option', sep='*', end='+\\n', file=output)\n",
    "#     print('python', file=output)\n",
    "\n",
    "# stepik*beegeek*iq-option+\n",
    "# python"
   ]
  },
  {
   "cell_type": "code",
   "execution_count": 2048,
   "metadata": {},
   "outputs": [],
   "source": [
    "# with open('beegeek.txt', 'w') as file:\n",
    "#     file.writelines(['Добро пожаловать в Beegeek!\\n', 'Наши курсы самые лучшие! '])\n",
    "#     file.write('Позвоните нам: (916) 928-92xx')\n",
    "\n",
    "# Добро пожаловать в Beegeek!\n",
    "# Наши курсы самые лучшие! Позвоните нам: (916) 928-92xx"
   ]
  },
  {
   "cell_type": "code",
   "execution_count": 2049,
   "metadata": {},
   "outputs": [],
   "source": [
    "# Напишите программу, которая считывает строку текста и записывает её в текстовый файл output.txt.\n",
    "\n",
    "# with open('output.txt', 'w') as out:\n",
    "#     out.write(input())"
   ]
  },
  {
   "cell_type": "code",
   "execution_count": 2050,
   "metadata": {},
   "outputs": [],
   "source": [
    "# Напишите программу, записывающую в текстовый файл random.txt \n",
    "# 25 случайных чисел в диапазоне от 111 до 777 (включительно), каждое с новой строки.\n",
    "\n",
    "# import random\n",
    "\n",
    "# with open('random.txt', 'w') as out:\n",
    "#     arr = list(random.randint(111, 778) for i in range(25))\n",
    "#     out.writelines(str(s) + '\\n' for s in arr)\n",
    "\n",
    "\n",
    "# with open('random.txt','w') as out:\n",
    "#     print(*[random.randint(111, 778) for _ in range(25)], sep='\\n',file=out)"
   ]
  },
  {
   "cell_type": "code",
   "execution_count": 2051,
   "metadata": {},
   "outputs": [],
   "source": [
    "# Вам доступен текстовый файл input.txt, состоящий из нескольких строк. \n",
    "# Напишите программу для записи содержимого этого файла в файл output.txt в виде нумерованного списка, \n",
    "# где перед каждой строкой стоит ее номер, символ ) и пробел. Нумерация строк должна начинаться с 1.\n",
    "\n",
    "with open('data/input.txt', 'r', encoding='utf-8') as file, open('data/output.txt', 'w', encoding='utf-8') as out:\n",
    "    for ind, val in enumerate(file.readlines(), start=1):\n",
    "        print(f'{ind}) {val}', end='', file=out)"
   ]
  },
  {
   "cell_type": "code",
   "execution_count": 2052,
   "metadata": {},
   "outputs": [],
   "source": [
    "# Вам доступен текстовый файл class_scores.txt с оценками за итоговый тест на строках вида: \n",
    "# фамилия оценка (фамилия и оценка разделены пробелом). Оценка - целое число от 0 до 100 включительно.\n",
    "# Напишите программу для добавления 5 баллов к каждому результату теста \n",
    "# и вывода фамилий и новых результатов тестов в файл new_scores.txt.\n",
    "\n",
    "with open('data/class_scores.txt', 'r', encoding='utf-8') as file, open('data/new_scores.txt', 'w', encoding='utf-8') as out:\n",
    "    for line in file:\n",
    "        names, scores = map(lambda x: x.strip(), line.split(' '))\n",
    "        print(names, min(100, int(scores) + 5), file=out)"
   ]
  },
  {
   "cell_type": "code",
   "execution_count": 2054,
   "metadata": {},
   "outputs": [
    {
     "name": "stdout",
     "output_type": "stream",
     "text": [
      "Гуев 100\n",
      "Маргиев 100\n",
      "Чаниев 100\n",
      "Тепсикоев 99\n",
      "Левитский 85\n",
      "Габолаев 5\n",
      "Хлюстова 15\n",
      "Гергиева 90\n"
     ]
    }
   ],
   "source": [
    "with open('data/class_scores.txt', 'r', encoding='utf-8') as file:\n",
    "    for line in file:\n",
    "        names, scores = map(lambda x: x.strip(), line.split(' '))\n",
    "        print(names, min(100, int(scores) + 5))"
   ]
  },
  {
   "cell_type": "code",
   "execution_count": 2075,
   "metadata": {},
   "outputs": [],
   "source": [
    "with open('data/goats.txt', 'r', encoding='utf-8') as file , open('data/answer.txt', 'w', encoding='utf-8') as out:\n",
    "    a, b = file.read().split('\\nGOATS\\n')\n",
    "    a = a.strip('COLOURS\\n').split('\\n')\n",
    "    b = b.split('\\n')\n",
    "    d = {}\n",
    "    for i in a:\n",
    "        d[i] = b.count(i)\n",
    "    for i in d:\n",
    "        if d[i] * 100  > 7 * sum(d.values()):\n",
    "            print(i, file=out)\n"
   ]
  },
  {
   "cell_type": "code",
   "execution_count": 2071,
   "metadata": {},
   "outputs": [
    {
     "data": {
      "text/plain": [
       "{'Pink goat': 72,\n",
       " 'Green goat': 2,\n",
       " 'Black goat': 5,\n",
       " 'White goat': 8,\n",
       " 'Orange goat': 7,\n",
       " 'Red goat': 6}"
      ]
     },
     "execution_count": 2071,
     "metadata": {},
     "output_type": "execute_result"
    }
   ],
   "source": [
    "# with open('data/goats.txt') as file, open('data/answer.txt', 'w') as out:\n",
    "#     cont = file.read().split('\\n')\n",
    "#     colors, goats = cont[1:cont.index('GOATS')], cont[cont.index('GOATS')+1:]\n",
    "#     print(*sorted(filter(lambda x: goats.count(x) / len(goats) > 0.07, colors)), sep='\\n', file=out)"
   ]
  },
  {
   "cell_type": "code",
   "execution_count": 2080,
   "metadata": {},
   "outputs": [
    {
     "name": "stdout",
     "output_type": "stream",
     "text": [
      "26127$\n"
     ]
    }
   ],
   "source": [
    "# Вам доступен текстовый файл ledger.txt с данными о продажах фирмы за месяц. \n",
    "# На каждой строке файла указано, сколько клиент заплатил за товар, в долларах (целое число):\n",
    "\n",
    "with open('data/ledger.txt', 'r', encoding='utf-8') as file:\n",
    "    total = 0\n",
    "    for line in file:\n",
    "        price = int(line.strip('$'))\n",
    "        total += price\n",
    "    print(f'{total}$')"
   ]
  },
  {
   "cell_type": "code",
   "execution_count": 2085,
   "metadata": {},
   "outputs": [
    {
     "name": "stdout",
     "output_type": "stream",
     "text": [
      "19\n"
     ]
    }
   ],
   "source": [
    "# Вам доступен текстовый файл grades.txt, содержащий оценки студента за три теста в каждом из триместров. \n",
    "# Строки файла имеют вид: фамилия оценка_1 оценка_2 оценка_3.\n",
    "\n",
    "# Напишите программу для подсчета количества студентов, сдавших все три теста. \n",
    "# Тест считается сданным, если количество баллов по нему не меньше 65.\n",
    "\n",
    "with open('data/grades.txt', 'r', encoding='utf-8') as file:\n",
    "    cnt = 0\n",
    "    for line in file:\n",
    "        name, test1, test2, test3 = line.split()\n",
    "        if int(test1) >= 65 and int(test2) >= 65 and int(test3) >= 65:\n",
    "            cnt += 1\n",
    "    \n",
    "    print(cnt)"
   ]
  },
  {
   "cell_type": "code",
   "execution_count": 2093,
   "metadata": {},
   "outputs": [
    {
     "name": "stdout",
     "output_type": "stream",
     "text": [
      "responsibility\n",
      "administration\n",
      "recommendation\n",
      "transportation\n"
     ]
    }
   ],
   "source": [
    "# Вам доступен текстовый файл words.txt со словами, разделенными пробелом. \n",
    "# Напишите программу, которая находит и выводит самые длинные слова этого файла, не меняя порядка их следования.\n",
    "\n",
    "with open('data\\words.txt', 'r', encoding='utf-8') as f:\n",
    "    # print(f.read())\n",
    "    mx = 0\n",
    "    arr = [i.strip() for i in f.read().split()]\n",
    "    for s in arr:\n",
    "        len_word = len(s)\n",
    "        if len_word > mx:\n",
    "            mx = len_word\n",
    "    print(*[i for i in arr if len(i) == mx], sep='\\n')"
   ]
  },
  {
   "cell_type": "code",
   "execution_count": 2102,
   "metadata": {},
   "outputs": [
    {
     "name": "stdout",
     "output_type": "stream",
     "text": [
      "$652 $574 $143 $710 $146 $235 $390 $385 $439 $484\n"
     ]
    }
   ],
   "source": [
    "# На вход программе подается строка текста с именем текстового файла. \n",
    "# Напишите программу, выводящую на экран последние 10 строк данного файла.\n",
    "\n",
    "with open('data\\ledger.txt', 'r', encoding='utf-8') as f:\n",
    "    arr = f.read().split('\\n')\n",
    "    print(*arr[-10:])"
   ]
  },
  {
   "cell_type": "code",
   "execution_count": 2113,
   "metadata": {},
   "outputs": [],
   "source": [
    "# Вам доступен текстовый файл cyrillic.txt, содержащий текст. \n",
    "# Напишите программу для транслитерации этого файла, то есть замены кириллических символов на латинские в соответствии с предложенной таблицей. \n",
    "# Все остальные символы надо оставить без изменений. Результат транслитерации требуется записать в файл transliteration.txt.\n",
    "\n",
    "with open('data/cyrillic.txt', 'r', encoding='utf-8') as file , open('data/transliteration.txt', 'w', encoding='utf-8') as out:\n",
    "    d = {\n",
    "    'а': 'a', 'к': 'k', 'х': 'h', 'б': 'b', 'л': 'l', 'ц': 'c', 'в': 'v', 'м': 'm', 'ч': 'ch',\n",
    "    'г': 'g', 'н': 'n', 'ш': 'sh', 'д': 'd', 'о': 'o', 'щ': 'shh', 'е': 'e', 'п': 'p', 'ъ': '*',\n",
    "    'ё': 'jo', 'р': 'r', 'ы': 'y', 'ж': 'zh', 'с': 's', 'ь': \"'\", 'з': 'z', 'т': 't', 'э': 'je',\n",
    "    'и': 'i', 'у': 'u', 'ю': 'ju', 'й': 'j', 'ф': 'f', 'я': 'ya'\n",
    "    }\n",
    "    \n",
    "    for s in file.read():\n",
    "        res = d.get(s.lower(), s)\n",
    "        out.write(res if s.islower() else res.capitalize())"
   ]
  },
  {
   "cell_type": "code",
   "execution_count": 2134,
   "metadata": {},
   "outputs": [
    {
     "name": "stdout",
     "output_type": "stream",
     "text": [
      "powers\n",
      "matrix\n",
      "mean\n",
      "greet\n"
     ]
    }
   ],
   "source": [
    "with open('data/func_comments.txt', 'r', encoding='utf-8') as f:\n",
    "    s = f.readlines()\n",
    "    a = []\n",
    "    for i in range(len(s)):\n",
    "        if s[i].startswith('def') and (i == 0 or not s[i-1].startswith('#')):\n",
    "            a.append(s[i][4:s[i].index('(')])\n",
    "    if len(a) == 0:\n",
    "        print('Best Programming Team')\n",
    "    else:\n",
    "        print(*a, sep='\\n')\n"
   ]
  },
  {
   "cell_type": "code",
   "execution_count": 2146,
   "metadata": {},
   "outputs": [
    {
     "name": "stdout",
     "output_type": "stream",
     "text": [
      "******* ******** ********* ********** ********* ******** *** ************** ********** *********** *********** ********** *********** **** ******* ********* *********** *********** ******** ******* ****** ******* ********** ************* ******* *********** ******** ************* ****** ************ ************ ************** *********** ******* ******* ****** ****** ******* *********** *********** ********* *********** ********* ************ ***** ******* ****** *********** ************ ******* ******** ************ ************ *********** ********* ********* ******** *********** ******** ****** ****** *********** ******* ******** ****** ***** *********** ******** ******** ************** ************ ********* ************ ********* ******* *********** *********** ******* ****** ********* ******* ******* *********** *********** ******** ******** ****** ****** *********** *********** ************* *********** ************ ****** ************* ********* ****** ********** ******* ********* ******ering *********** ***** *********** ********* ****** ******* ************** *********** ******* *********** ************ *********** **** *********** ******** ********** ********** ******** *********** ************ *********** ************ **** ****** ****** ******* ******** ******** ****** ****** ******** ******* ****** ************ ********* *** ********** ***** ***** ****** **** ***\n"
     ]
    }
   ],
   "source": [
    "# На вход программе подается строка текста с именем текстового файла. Напишите программу, выводящую на экран содержимое этого файла, \n",
    "# но с заменой всех запрещенных слов звездочками * (количество звездочек равно количеству букв в слове).\n",
    "# Запрещенные слова, разделенные символом пробела, хранятся в текстовом файле forbidden_words.txt. \n",
    "# Гарантируется, что все слова в этом файле записаны в нижнем регистре.\n",
    "# Ваша программа прогоняется на трех файлах data.txt, stepik.txt и beegeek.txt.\n",
    "\n",
    "with open('data/forbidden_words.txt') as f:\n",
    "    forbidden_words = {word: '*' * len(word) for word in f.read().split()}\n",
    "with open('data/forbidden_words.txt') as f:\n",
    "    s = f.read()\n",
    "    s_lower = s.lower()\n",
    "for forbidden_word in forbidden_words:\n",
    "    s_lower = s_lower.replace(forbidden_word, forbidden_words[forbidden_word])\n",
    "print(*map((lambda c1, c2: '*' if c2 == '*' else c1), s, s_lower), sep='')"
   ]
  },
  {
   "cell_type": "code",
   "execution_count": 2210,
   "metadata": {},
   "outputs": [
    {
     "name": "stdout",
     "output_type": "stream",
     "text": [
      "Вася\n",
      "Маша\n",
      "Настя\n",
      "Вера\n",
      "Гриша\n",
      "Артём\n",
      "Миша\n",
      "Валера\n",
      "Костя\n",
      "Виталя\n",
      "Толян\n"
     ]
    }
   ],
   "source": [
    "with open('data/people_names.txt', encoding='utf-8') as names:\n",
    "    print(names.read())"
   ]
  },
  {
   "cell_type": "code",
   "execution_count": 2211,
   "metadata": {},
   "outputs": [
    {
     "name": "stdout",
     "output_type": "stream",
     "text": [
      "Вас\n"
     ]
    }
   ],
   "source": [
    "# Чтение первых трех символов\n",
    "\n",
    "with open('data/people_names.txt', encoding='utf-8') as names:\n",
    "    print(names.read(3))"
   ]
  },
  {
   "cell_type": "code",
   "execution_count": 2218,
   "metadata": {},
   "outputs": [
    {
     "name": "stdout",
     "output_type": "stream",
     "text": [
      "Настя\n",
      "\n",
      "Невозможно открыть файл\n"
     ]
    }
   ],
   "source": [
    "# Обработка ошибок\n",
    "\n",
    "try:\n",
    "    file = open('data/people_names.txt')\n",
    "    try:\n",
    "        s1 = file.readline()\n",
    "        s2 = file.readline()\n",
    "        s3 = file.readline()\n",
    "        print(s3)\n",
    "    finally:\n",
    "        file.close()\n",
    "except FileNotFoundError:\n",
    "    print('Невозможно открыть файл')\n",
    "except:\n",
    "    print('Ошибка при работе с файлом')\n",
    "\n",
    "try:\n",
    "    file = open('people_names.txt')\n",
    "    try:\n",
    "        s1 = file.readline()\n",
    "        s2 = file.readline()\n",
    "        s3 = file.readline()\n",
    "        print(s3)\n",
    "    finally:\n",
    "        file.close()\n",
    "except FileNotFoundError:\n",
    "    print('Невозможно открыть файл')\n",
    "except:\n",
    "    print('Ошибка при работе с файлом')"
   ]
  },
  {
   "cell_type": "code",
   "execution_count": 2224,
   "metadata": {},
   "outputs": [
    {
     "name": "stdout",
     "output_type": "stream",
     "text": [
      "Ошибка при работе с файлом\n",
      "True\n"
     ]
    }
   ],
   "source": [
    "try:\n",
    "    with open('data/people_names.txt') as file:\n",
    "        s = file.readline()\n",
    "        print(int(s))           # невозможно преобразовать, идем в блок с отловом всех исключений\n",
    "except FileNotFoundError:\n",
    "    print('Невозможно открыть файл')\n",
    "except:\n",
    "    print('Ошибка при работе с файлом')\n",
    "finally:\n",
    "    print(file.closed)          # выводим состояние файла (открыт/закрыт)\n"
   ]
  },
  {
   "cell_type": "code",
   "execution_count": 2229,
   "metadata": {},
   "outputs": [],
   "source": [
    "# Бинарный режим работы (запись)\n",
    "\n",
    "import pickle\n",
    "\n",
    "books = [\n",
    "    ('Евгений Онегин', 'Пушкин А.С.', 200),\n",
    "    ('Муму', 'Тургенев И.С', 250),\n",
    "    ('Мастер и Маргарита', 'Булгаков М.А.', 500),\n",
    "    ('Мертвые души', 'Гоголь Н.В.', 190)\n",
    "]\n",
    "\n",
    "file = open('data/binbooks.bin', 'wb')\n",
    "pickle.dump(books, file)                        # Первый аргумент: что записываем, второй аргумент: куда записываем  \n",
    "file.close()"
   ]
  },
  {
   "cell_type": "code",
   "execution_count": 2230,
   "metadata": {},
   "outputs": [
    {
     "name": "stdout",
     "output_type": "stream",
     "text": [
      "[('Евгений Онегин', 'Пушкин А.С.', 200), ('Муму', 'Тургенев И.С', 250), ('Мастер и Маргарита', 'Булгаков М.А.', 500), ('Мертвые души', 'Гоголь Н.В.', 190)]\n"
     ]
    }
   ],
   "source": [
    "# Бинарный режим работы (чтение)\n",
    "\n",
    "file = open('data/binbooks.bin', 'rb')\n",
    "bs = pickle.load(file)\n",
    "file.close()\n",
    "\n",
    "print(bs)"
   ]
  },
  {
   "cell_type": "code",
   "execution_count": 2233,
   "metadata": {},
   "outputs": [],
   "source": [
    "# Бинарный режим работы (запись)\n",
    "\n",
    "book1 = ['Евгений Онегин', 'Пушкин А.С.', 200]\n",
    "book2 = ['Муму', 'Тургенев И.С', 250]\n",
    "book3 = ['Мастер и Маргарита', 'Булгаков М.А.', 500]\n",
    "book4 = ['Мертвые души', 'Гоголь Н.В.', 190]\n",
    "\n",
    "try:\n",
    "    with open('data/binbooks2.bin', 'wb') as file:\n",
    "        pickle.dump(book1, file)\n",
    "        pickle.dump(book2, file)\n",
    "        pickle.dump(book3, file)\n",
    "        pickle.dump(book4, file)\n",
    "except:\n",
    "    print('Ошибка при работе с файлом')"
   ]
  },
  {
   "cell_type": "code",
   "execution_count": 2238,
   "metadata": {},
   "outputs": [
    {
     "name": "stdout",
     "output_type": "stream",
     "text": [
      "['Евгений Онегин', 'Пушкин А.С.', 200]\n",
      "['Муму', 'Тургенев И.С', 250]\n",
      "['Мастер и Маргарита', 'Булгаков М.А.', 500]\n",
      "['Мертвые души', 'Гоголь Н.В.', 190]\n"
     ]
    }
   ],
   "source": [
    "with open('data/binbooks2.bin', 'rb') as file:\n",
    "    b1 = pickle.load(file)\n",
    "    b2 = pickle.load(file)\n",
    "    b3 = pickle.load(file)\n",
    "    b4 = pickle.load(file)\n",
    "\n",
    "print(b1, b2, b3, b4, sep='\\n')"
   ]
  },
  {
   "cell_type": "code",
   "execution_count": 2242,
   "metadata": {},
   "outputs": [
    {
     "name": "stdout",
     "output_type": "stream",
     "text": [
      "720\n"
     ]
    }
   ],
   "source": [
    "from math import prod\n",
    "\n",
    "n = 6\n",
    "\n",
    "print(prod(range(1, n + 1)))"
   ]
  },
  {
   "cell_type": "code",
   "execution_count": null,
   "metadata": {},
   "outputs": [],
   "source": []
  }
 ],
 "metadata": {
  "kernelspec": {
   "display_name": "base",
   "language": "python",
   "name": "python3"
  },
  "language_info": {
   "codemirror_mode": {
    "name": "ipython",
    "version": 3
   },
   "file_extension": ".py",
   "mimetype": "text/x-python",
   "name": "python",
   "nbconvert_exporter": "python",
   "pygments_lexer": "ipython3",
   "version": "3.11.11"
  }
 },
 "nbformat": 4,
 "nbformat_minor": 2
}
