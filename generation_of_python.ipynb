{
 "cells": [
  {
   "cell_type": "markdown",
   "metadata": {},
   "source": [
    "# 2.2 Команды print и input, переменные"
   ]
  },
  {
   "cell_type": "code",
   "execution_count": 43,
   "metadata": {},
   "outputs": [
    {
     "data": {
      "text/plain": [
       "['Раз', 'Два', 'Три']"
      ]
     },
     "execution_count": 43,
     "metadata": {},
     "output_type": "execute_result"
    }
   ],
   "source": [
    "# my_list = list(input() for _ in range(3))\n",
    "my_list = [i for i in ['Раз', 'Два', 'Три']]\n",
    "\n",
    "my_list"
   ]
  },
  {
   "cell_type": "code",
   "execution_count": 44,
   "metadata": {},
   "outputs": [
    {
     "name": "stdout",
     "output_type": "stream",
     "text": [
      "Раз\n",
      "Два\n",
      "Три\n"
     ]
    }
   ],
   "source": [
    "print(*(elem for elem in my_list), sep='\\n')"
   ]
  },
  {
   "cell_type": "code",
   "execution_count": 45,
   "metadata": {},
   "outputs": [
    {
     "name": "stdout",
     "output_type": "stream",
     "text": [
      "Три\n",
      "Два\n",
      "Раз\n"
     ]
    }
   ],
   "source": [
    "print(*(elem for elem in my_list[::-1]), sep='\\n')"
   ]
  },
  {
   "cell_type": "code",
   "execution_count": 46,
   "metadata": {},
   "outputs": [
    {
     "name": "stdout",
     "output_type": "stream",
     "text": [
      "Принадлежит\n"
     ]
    }
   ],
   "source": [
    "a = 18\n",
    "a = 5\n",
    "\n",
    "print(('Не принадлежит', 'Принадлежит')[a > -1 and a < 17])"
   ]
  },
  {
   "cell_type": "code",
   "execution_count": 47,
   "metadata": {},
   "outputs": [],
   "source": [
    "# a1, d, n = [int(input()) for _ in range(3)]"
   ]
  },
  {
   "cell_type": "code",
   "execution_count": 48,
   "metadata": {},
   "outputs": [
    {
     "name": "stdout",
     "output_type": "stream",
     "text": [
      "7---14---21---28---35\n"
     ]
    }
   ],
   "source": [
    "# x = int(input())\n",
    "x = 7\n",
    "\n",
    "print(*[i* x for i in range (1, 6)], sep='---')"
   ]
  },
  {
   "cell_type": "code",
   "execution_count": 49,
   "metadata": {},
   "outputs": [
    {
     "name": "stdout",
     "output_type": "stream",
     "text": [
      "29\n"
     ]
    }
   ],
   "source": [
    "a = 15 // (16 % 7)\n",
    "b = 34 % a * 5 - 29 % 5 * 2\n",
    "print(a + b)"
   ]
  },
  {
   "cell_type": "code",
   "execution_count": 50,
   "metadata": {},
   "outputs": [
    {
     "name": "stdout",
     "output_type": "stream",
     "text": [
      "150 мин - это 2 час 30 минут.\n"
     ]
    }
   ],
   "source": [
    "m = 150\n",
    "\n",
    "print(f'{m} мин - это {m // 60} час {m % 60} минут.')"
   ]
  },
  {
   "cell_type": "code",
   "execution_count": 51,
   "metadata": {},
   "outputs": [
    {
     "name": "stdout",
     "output_type": "stream",
     "text": [
      "1\n",
      "6\n",
      "1\n",
      "2\n",
      "3\n",
      "8\n",
      "7\n"
     ]
    }
   ],
   "source": [
    "n = 1612387\n",
    "\n",
    "arr = [n % 10**(len(str(n)) - i) // 10**(len(str(n)) - 1 - i) for i in range(len(str(n)))]\n",
    "\n",
    "print(*arr, sep='\\n')"
   ]
  },
  {
   "cell_type": "code",
   "execution_count": 52,
   "metadata": {},
   "outputs": [
    {
     "name": "stdout",
     "output_type": "stream",
     "text": [
      "Цифра в позиции тысяч равна 2\n",
      "Цифра в позиции сотен равна 4\n",
      "Цифра в позиции десятков равна 1\n",
      "Цифра в позиции единиц равна 2\n"
     ]
    }
   ],
   "source": [
    "n = 2412\n",
    "\n",
    "a, b, c, d = [n % 10**(len(str(n)) - i) // 10**(len(str(n)) - 1 - i) for i in range(len(str(n)))]\n",
    "\n",
    "print(f'''Цифра в позиции тысяч равна {a}\n",
    "Цифра в позиции сотен равна {b}\n",
    "Цифра в позиции десятков равна {c}\n",
    "Цифра в позиции единиц равна {d}''')"
   ]
  },
  {
   "cell_type": "code",
   "execution_count": 53,
   "metadata": {},
   "outputs": [],
   "source": [
    "# a, b, c = [int(input()) for _ in range(3)]\n",
    "\n",
    "# a,b,c"
   ]
  },
  {
   "cell_type": "markdown",
   "metadata": {},
   "source": [
    "# 4.2 Логические операции"
   ]
  },
  {
   "cell_type": "code",
   "execution_count": 54,
   "metadata": {},
   "outputs": [
    {
     "data": {
      "text/plain": [
       "'молодость'"
      ]
     },
     "execution_count": 54,
     "metadata": {},
     "output_type": "execute_result"
    }
   ],
   "source": [
    "# age = int(input())\n",
    "age = 24\n",
    "\n",
    "get_status = lambda x: 'детство' if x <= 13 else 'молодость' if 13 < x <= 24 else 'зрелость' if 24 < x <= 59 else 'старость'\n",
    "get_status(age)"
   ]
  },
  {
   "cell_type": "code",
   "execution_count": 55,
   "metadata": {},
   "outputs": [
    {
     "name": "stdout",
     "output_type": "stream",
     "text": [
      "YES\n"
     ]
    }
   ],
   "source": [
    "# Даны две различные клетки шахматной доски. Напишите программу, которая определяет, может ли ладья попасть с первой клетки на вторую одним ходом. \n",
    "# Программа получает на вход четыре числа, каждое, задающие номер столбца и номер строки сначала для первой клетки, потом для второй клетки. \n",
    "# Программа должна вывести «YES», если из первой клетки ходом ладьи можно попасть во вторую, или «NO» в противном случае.\n",
    "\n",
    "# x1, y1, x2, y2 = [int(input()) for _ in range(4)]\n",
    "\n",
    "def result(x1, y1, x2, y2):\n",
    "    if ((x1 == x2) and (y1 == y2)) or not all( 1 <= item <= 8 for item in [x1, y1, x2, y2]):\n",
    "        print('NO')\n",
    "    else:\n",
    "        if ((x1 == x2) or (y1 == y2)):\n",
    "            print('YES')\n",
    "        else:\n",
    "            print('NO')\n",
    "\n",
    "x1, y1, x2, y2 = 4, 4, 3, 4\n",
    "\n",
    "result(x1, y1, x2, y2)"
   ]
  },
  {
   "cell_type": "code",
   "execution_count": 56,
   "metadata": {},
   "outputs": [
    {
     "name": "stdout",
     "output_type": "stream",
     "text": [
      "YES\n"
     ]
    }
   ],
   "source": [
    "# Даны две различные клетки шахматной доски. Напишите программу, которая определяет, может ли король попасть с первой клетки на вторую одним ходом. \n",
    "# Программа получает на вход четыре числа, каждое, задающие номер столбца и номер строки сначала для первой клетки, потом для второй клетки. \n",
    "# Программа должна вывести «YES», если из первой клетки ходом короля можно попасть во вторую, или «NO» в противном случае.\n",
    "\n",
    "def result(x1, y1, x2, y2):\n",
    "    if ((x1 == x2) and (y1 == y2)) or not all( 1 <= item <= 8 for item in [x1, y1, x2, y2]):\n",
    "        print('NO')\n",
    "    else:\n",
    "        if abs(x2 - x1) <= 1 and abs(y2 - y1) <= 1:\n",
    "            print('YES')\n",
    "        else:\n",
    "            print('NO')\n",
    "\n",
    "x1, y1, x2, y2 = 7, 1, 8, 2\n",
    "\n",
    "result(x1, y1, x2, y2)"
   ]
  },
  {
   "cell_type": "markdown",
   "metadata": {},
   "source": [
    "# 4.3 Вложенные и каскадные условия"
   ]
  },
  {
   "cell_type": "code",
   "execution_count": 57,
   "metadata": {},
   "outputs": [
    {
     "name": "stdout",
     "output_type": "stream",
     "text": [
      "Don't know\n"
     ]
    }
   ],
   "source": [
    "# n, k = int(input()), int(input())\n",
    "n, k = 20, 20\n",
    "\n",
    "print(\"Don't know\" if n == k else ('YES', 'NO')[n > k])"
   ]
  },
  {
   "cell_type": "code",
   "execution_count": 58,
   "metadata": {},
   "outputs": [
    {
     "name": "stdout",
     "output_type": "stream",
     "text": [
      "Равнобедренный\n",
      "Равносторонний\n",
      "Разносторонний\n"
     ]
    }
   ],
   "source": [
    "# a, b, c = [int(input()) for _ in range(3)]\n",
    "\n",
    "def trg(a, b, c):\n",
    "    if a == b == c:\n",
    "        print('Равносторонний')\n",
    "    elif a != b != c and b != c != a:\n",
    "        print('Разносторонний')\n",
    "    else:\n",
    "        print('Равнобедренный')\n",
    "\n",
    "\n",
    "trg(145, 145, 139)\n",
    "trg(59, 59, 59)\n",
    "trg(890, 199, 700)"
   ]
  },
  {
   "cell_type": "code",
   "execution_count": 59,
   "metadata": {},
   "outputs": [
    {
     "data": {
      "text/plain": [
       "2"
      ]
     },
     "execution_count": 59,
     "metadata": {},
     "output_type": "execute_result"
    }
   ],
   "source": [
    "# arr = [int(input()) for _ in range(3)]\n",
    "\n",
    "arr = [1, 2, 3]\n",
    "\n",
    "for num in arr[0:3]:\n",
    "    if (num != min(arr)) and (num != max(arr)):\n",
    "        res = num\n",
    "res"
   ]
  },
  {
   "cell_type": "code",
   "execution_count": 60,
   "metadata": {},
   "outputs": [
    {
     "name": "stdout",
     "output_type": "stream",
     "text": [
      "28\n"
     ]
    }
   ],
   "source": [
    "num_days = [30 if i in [4, 6, 9, 11] else 28 if i == 2 else 31 for i in range(1, 13)]\n",
    "months = range(1, 13)\n",
    "\n",
    "months_days = {k: v for (k, v) in zip(months, num_days)}\n",
    "\n",
    "# month_number = int(input())\n",
    "\n",
    "month_number = 2\n",
    "\n",
    "print(months_days[month_number])\n",
    "\n"
   ]
  },
  {
   "cell_type": "code",
   "execution_count": 61,
   "metadata": {},
   "outputs": [
    {
     "data": {
      "text/plain": [
       "'Полусредний вес'"
      ]
     },
     "execution_count": 61,
     "metadata": {},
     "output_type": "execute_result"
    }
   ],
   "source": [
    "get_cat = lambda x: 'Легкий вес' if x < 60 else 'Первый полусредний вес' if x < 64 else 'Полусредний вес' if x < 69 else 'Неопределено'\n",
    "\n",
    "m = 68\n",
    "\n",
    "get_cat(m)"
   ]
  },
  {
   "cell_type": "code",
   "execution_count": 62,
   "metadata": {},
   "outputs": [
    {
     "data": {
      "text/plain": [
       "2.0"
      ]
     },
     "execution_count": 62,
     "metadata": {},
     "output_type": "execute_result"
    }
   ],
   "source": [
    "# Калькулятор\n",
    "\n",
    "def calc(a, b, op):\n",
    "    if op == '+':\n",
    "        return a + b\n",
    "    elif op == '-':\n",
    "        return a - b\n",
    "    elif op == '*':\n",
    "        return a * b\n",
    "    elif op == '/':\n",
    "        if b == 0:\n",
    "            return f'На ноль делить нельзя!'\n",
    "        return a / b\n",
    "    return f'Неверная операция'\n",
    "\n",
    "# a, b = int(input()), int(input())\n",
    "# op = input()\n",
    "\n",
    "a, b = 8, 4\n",
    "op = '/'\n",
    "\n",
    "calc(a, b, op)"
   ]
  },
  {
   "cell_type": "code",
   "execution_count": 63,
   "metadata": {},
   "outputs": [
    {
     "name": "stdout",
     "output_type": "stream",
     "text": [
      "Смешиваем ['красный', 'синий'] и получаем фиолетовый\n",
      "Смешиваем ['красный', 'желтый'] и получаем оранжевый\n",
      "Смешиваем ['желтый'] и получаем желтый\n",
      "Смешиваем ['что-то', 'синий'] и получаем ошибка цвета\n",
      "Смешиваем ['красный', 'черный'] и получаем ошибка цвета\n",
      "Смешиваем ['желтый', 'синий'] и получаем зеленый\n",
      "Смешиваем ['желтый', 'синий'] и получаем зеленый\n"
     ]
    }
   ],
   "source": [
    "# если смешать красный и синий, то получится фиолетовый;\n",
    "# если смешать красный и желтый, то получится оранжевый;\n",
    "# если смешать синий и желтый, то получится зеленый.\n",
    "\n",
    "my_dict = {'фиолетовый': {'красный', 'синий'},\n",
    "           'оранжевый': {'красный', 'желтый'},\n",
    "           'зеленый': {'синий', 'желтый'}}\n",
    "\n",
    "# color_set = {input(), input()}\n",
    "\n",
    "def get_color(colors):\n",
    "    if all([item in ('красный', 'синий', 'желтый') for item in colors]):\n",
    "        for key, val in my_dict.items():\n",
    "            if val == colors:\n",
    "                return key\n",
    "            if len(colors) == 1:\n",
    "                return list(colors)[0]\n",
    "    return f'ошибка цвета'\n",
    "\n",
    "color_set1 = {'красный', 'синий'}\n",
    "color_set2 = {'желтый', 'красный'}\n",
    "color_set3 = {'желтый', 'желтый'}\n",
    "color_set4 = {'что-то', 'синий'}\n",
    "color_set5 = {'красный', 'черный'}\n",
    "color_set6 = {'желтый', 'синий'}\n",
    "color_set7 = {'синий', 'желтый'}\n",
    "\n",
    "color_sets = []\n",
    "\n",
    "for color_set in [eval(f'color_set{i}') for i in range(1, 8)]:\n",
    "    print(f'Смешиваем {list(color_set)} и получаем {get_color(color_set)}')"
   ]
  },
  {
   "cell_type": "code",
   "execution_count": 64,
   "metadata": {},
   "outputs": [
    {
     "name": "stdout",
     "output_type": "stream",
     "text": [
      "красный\n"
     ]
    }
   ],
   "source": [
    "# карман 0 зеленый;\n",
    "# для карманов с 1 по 10 карманы с нечетным номером имеют красный цвет, карманы с четным номером – черный;\n",
    "# для карманов с 11 по 18 карманы с нечетным номером имеют черный цвет, карманы с четным номером – красный;\n",
    "# для карманов с 19 по 28 карманы с нечетным номером имеют красный цвет, карманы с четным номером – черный;\n",
    "# для карманов с 29 по 36 карманы с нечетным номером имеют черный цвет, карманы с четным номером – красный.\n",
    "\n",
    "rol_dict = {0: 'зеленый'}\n",
    "rol_dict1 = {k: v for (k, v) in zip([i for i in range (1, 11)], [('красный', 'черный')[i % 2 == 0] for i in range (1, 11)])}\n",
    "rol_dict2 = {k: v for (k, v) in zip([i for i in range (11, 19)], [('красный', 'черный')[i % 2 == 1] for i in range (11, 19)])}\n",
    "rol_dict3 = {k: v for (k, v) in zip([i for i in range (19, 29)], [('красный', 'черный')[i % 2 == 0] for i in range (19, 29)])}\n",
    "rol_dict4 = {k: v for (k, v) in zip([i for i in range (29, 37)], [('красный', 'черный')[i % 2 == 1] for i in range (29, 37)])}\n",
    "\n",
    "rol_dict.update(rol_dict1)\n",
    "rol_dict.update(rol_dict2)\n",
    "rol_dict.update(rol_dict3)\n",
    "rol_dict.update(rol_dict4)\n",
    "\n",
    "# x = int(input())\n",
    "\n",
    "x = 5\n",
    "\n",
    "if x in range(0, 37):\n",
    "    print(rol_dict[x])\n",
    "else:\n",
    "    print('ошибка ввода')\n"
   ]
  },
  {
   "cell_type": "code",
   "execution_count": 65,
   "metadata": {},
   "outputs": [
    {
     "name": "stdout",
     "output_type": "stream",
     "text": [
      "{4, 5, 6, 7, 8, 9, 10, 11, 12, 13, 14, 15, 16, 17, 18, 19, 20, 21, 22, 23, 24, 25, 26, 27, 28, 29, 30} {24, 25, 22, 23}\n",
      "22 25\n"
     ]
    }
   ],
   "source": [
    "# На числовой прямой даны два отрезка: [a1; b1] и [a2; b2].\n",
    "# Напишите программу, которая находит их пересечение.\n",
    "\n",
    "# a1, b1, a2, b2 = [int(input()) for _ in range(4)]\n",
    "\n",
    "a1, b1, a2, b2 = 4, 30, 22, 25\n",
    "\n",
    "line_1 = set(range(a1, b1 + 1))\n",
    "line_2 = set(range(a2, b2 + 1))\n",
    "\n",
    "print(line_1, line_2)\n",
    "\n",
    "intersection = sorted(list(line_1.intersection(line_2)))\n",
    "if len(intersection) >= 2:\n",
    "    print(intersection[0], intersection[-1])\n",
    "elif len(intersection) == 1:\n",
    "    print(intersection[0])\n",
    "else:\n",
    "    print('пустое множество')"
   ]
  },
  {
   "cell_type": "code",
   "execution_count": 66,
   "metadata": {},
   "outputs": [
    {
     "name": "stdout",
     "output_type": "stream",
     "text": [
      "22 25\n"
     ]
    }
   ],
   "source": [
    "if min(b1, b2) < max(a1, a2): \n",
    "    print('пустое множество')\n",
    "elif min(b1, b2) == max(a1, a2):\n",
    "    print(min(b1, b2))\n",
    "else:\n",
    "    print(max(a1, a2), min(b1, b2))"
   ]
  },
  {
   "cell_type": "markdown",
   "metadata": {},
   "source": [
    "# 6.1 Числовые типы данных: int, float"
   ]
  },
  {
   "cell_type": "code",
   "execution_count": 67,
   "metadata": {},
   "outputs": [
    {
     "name": "stdout",
     "output_type": "stream",
     "text": [
      "25.0\n",
      "25.0\n"
     ]
    }
   ],
   "source": [
    "# На вход программе подаётся число n – количество собачьих лет. Напишите программу, которая вычисляет возраст собаки в человеческих годах по следующему алгоритму: \n",
    "# в течение первых двух лет собачий год равен 10.5 человеческим годам, \n",
    "# после этого каждый год собаки равен 4 человеческим годам.\n",
    "\n",
    "n = 3\n",
    "\n",
    "if n > 2:\n",
    "    print(2 * 10.5 + 4 * (n - 2))\n",
    "else:\n",
    "    print(10.5 * n)\n",
    "\n",
    "print(min(2, n) * 10.5 + max(n - 2, 0) * 4)"
   ]
  },
  {
   "cell_type": "code",
   "execution_count": 68,
   "metadata": {},
   "outputs": [
    {
     "data": {
      "text/plain": [
       "2"
      ]
     },
     "execution_count": 68,
     "metadata": {},
     "output_type": "execute_result"
    }
   ],
   "source": [
    "# Дано положительное действительное число. Выведите его первую цифру после десятичной точки.\n",
    "\n",
    "# n = float(input())\n",
    "n = 459933200.23\n",
    "\n",
    "int(n * 10) - int(n) * 10"
   ]
  },
  {
   "cell_type": "code",
   "execution_count": 69,
   "metadata": {},
   "outputs": [
    {
     "name": "stdout",
     "output_type": "stream",
     "text": [
      "Число интересное\n"
     ]
    }
   ],
   "source": [
    "# Назовём число интересным, если в нём разность максимальной и минимальной цифры равняется средней по величине цифре. \n",
    "# Напишите программу, которая определяет, интересное число или нет. \n",
    "# Если число интересное, следует вывести «Число интересное», иначе – «Число неинтересное».\n",
    "\n",
    "n = 945\n",
    "\n",
    "arr = sorted([int(i) for i in str(n)])\n",
    "\n",
    "print(('Число неинтересное', 'Число интересное')[arr[2] - arr[0] == arr[1]])"
   ]
  },
  {
   "cell_type": "markdown",
   "metadata": {},
   "source": [
    "# 6.2 Строковый тип данных"
   ]
  },
  {
   "cell_type": "code",
   "execution_count": 70,
   "metadata": {},
   "outputs": [
    {
     "name": "stdout",
     "output_type": "stream",
     "text": [
      "Лион\n",
      "Марсель\n"
     ]
    }
   ],
   "source": [
    "# Даны названия трёх городов. Напишите программу, которая определяет самое короткое и самое длинное название города.\n",
    "# keys = [input() for _ in range(3)]\n",
    "keys = ['Париж', 'Марсель' , 'Лион']\n",
    "\n",
    "cities_dict = {len(k): k for k in keys}\n",
    "print(cities_dict.get(min(cities_dict)), cities_dict.get(max(cities_dict)), sep='\\n')"
   ]
  },
  {
   "cell_type": "code",
   "execution_count": 71,
   "metadata": {},
   "outputs": [
    {
     "name": "stdout",
     "output_type": "stream",
     "text": [
      "Лион\n",
      "Марсель\n"
     ]
    }
   ],
   "source": [
    "# a, b, c = input(), input(), input()\n",
    "a, b, c = ['Париж', 'Марсель' , 'Лион']\n",
    "\n",
    "print(min(a, b, c, key=len ))\n",
    "print(max(a, b, c, key=len ))"
   ]
  },
  {
   "cell_type": "code",
   "execution_count": 72,
   "metadata": {},
   "outputs": [
    {
     "name": "stdout",
     "output_type": "stream",
     "text": [
      "сидите\n",
      "нормированным\n"
     ]
    }
   ],
   "source": [
    "words = '''Без меня, ребятки Дома сидите, какие вам космосы Бабушка сказала бы Бездельники И вообще, \n",
    "         ракета летит по параболе Дома сидите, какие вам космосы Так бы и подумала И вообще, ракета летит по параболе Да это без разницы \n",
    "         Может по нормированным параметрам от множества систем принимается решение об изменении другого параметра Не об этом думать хочу в жизни есть более важные вещи, чем примеры'''\n",
    "words = [word for word in words.replace(',', '').split() if len(word) > 5]\n",
    "\n",
    "print(min(words, key=len))\n",
    "print(max(words, key=len))"
   ]
  },
  {
   "cell_type": "code",
   "execution_count": 73,
   "metadata": {},
   "outputs": [
    {
     "name": "stdout",
     "output_type": "stream",
     "text": [
      "YES\n"
     ]
    }
   ],
   "source": [
    "# words = [len(input()) for _ in range(3)]\n",
    "\n",
    "words = [len(word) for word in ['abc', 'a', 'abcde']]\n",
    "\n",
    "min_word = min(words)\n",
    "max_word = max(words)\n",
    "midle_word = sum(words) - max_word - min_word\n",
    "\n",
    "print(('NO', 'YES')[max_word - midle_word == midle_word - min_word])"
   ]
  },
  {
   "cell_type": "code",
   "execution_count": 74,
   "metadata": {},
   "outputs": [
    {
     "name": "stdout",
     "output_type": "stream",
     "text": [
      "YES\n"
     ]
    }
   ],
   "source": [
    "print(('NO', 'YES')['суббота' in (s := 'суббота - прекрасный день') or 'воскресенье' in s])"
   ]
  },
  {
   "cell_type": "markdown",
   "metadata": {},
   "source": [
    "# 6.3 Модуль math"
   ]
  },
  {
   "cell_type": "code",
   "execution_count": 75,
   "metadata": {},
   "outputs": [
    {
     "name": "stdout",
     "output_type": "stream",
     "text": [
      "1.5\n",
      "1.4142135623730951\n",
      "1.3333333333333333\n",
      "1.5811388300841898\n"
     ]
    }
   ],
   "source": [
    "from math import sqrt, pow\n",
    "\n",
    "a, b = 1.0, 2.0\n",
    "\n",
    "print((a + b) / 2)\n",
    "print(sqrt(a * b))\n",
    "print(2 * a * b / (a + b))\n",
    "print(sqrt((pow(a, 2) + pow(b, 2)) / 2))"
   ]
  },
  {
   "cell_type": "code",
   "execution_count": 76,
   "metadata": {},
   "outputs": [
    {
     "data": {
      "text/plain": [
       "1.5811388300841898"
      ]
     },
     "execution_count": 76,
     "metadata": {},
     "output_type": "execute_result"
    }
   ],
   "source": [
    "sqrt((pow(a, 2) + pow(b, 2)) / 2)"
   ]
  },
  {
   "cell_type": "code",
   "execution_count": 77,
   "metadata": {},
   "outputs": [
    {
     "name": "stdout",
     "output_type": "stream",
     "text": [
      "2.414213562373095\n"
     ]
    }
   ],
   "source": [
    "from math import sin, cos, tan, pow, radians\n",
    "x = 45.0\n",
    "r = radians(x)\n",
    "\n",
    "print(sin(r)+ cos(r) + pow(tan(r), 2))"
   ]
  },
  {
   "cell_type": "code",
   "execution_count": 78,
   "metadata": {},
   "outputs": [
    {
     "name": "stdout",
     "output_type": "stream",
     "text": [
      "11\n"
     ]
    }
   ],
   "source": [
    "from math import floor, ceil\n",
    "\n",
    "# n = float(input())\n",
    "n = 5.5\n",
    "\n",
    "print(floor(n) + ceil(n))"
   ]
  },
  {
   "cell_type": "markdown",
   "metadata": {},
   "source": [
    "# 7.1 Цикл for"
   ]
  },
  {
   "cell_type": "code",
   "execution_count": 79,
   "metadata": {},
   "outputs": [
    {
     "name": "stdout",
     "output_type": "stream",
     "text": [
      "1 120\n",
      "2 150.0\n",
      "3 187.5\n",
      "4 234.375\n"
     ]
    }
   ],
   "source": [
    "# m - стартовое количество организмов,\n",
    "# p - среднесуточное увеличение в %,\n",
    "# n - количество дней для размножения\n",
    "\n",
    "# m, p, n = [int(input() for _ in range(3))]\n",
    "m, p, n = 120, 25, 4\n",
    "\n",
    "for i in range(1, n + 1):\n",
    "    print(i, m)\n",
    "    m = m * (1 + p / 100)"
   ]
  },
  {
   "cell_type": "code",
   "execution_count": 80,
   "metadata": {},
   "outputs": [
    {
     "name": "stdout",
     "output_type": "stream",
     "text": [
      "7\n",
      "6\n",
      "5\n",
      "4\n",
      "3\n",
      "2\n",
      "1\n"
     ]
    }
   ],
   "source": [
    "# Даны два целых числа m и n. Напишите программу, которая выводит все целые числа от m до n включительно в порядке возрастания, если m < n и наоборот.\n",
    "\n",
    "# m, n = int(input()), int(input())\n",
    "m = 7\n",
    "n = 1\n",
    "\n",
    "# list = [i for i in range((min(m, n)), max(m, n) + 1)]\n",
    "print(*sorted([i for i in range((min(m, n)), max(m, n) + 1)], reverse=(m > n)), sep='\\n')"
   ]
  },
  {
   "cell_type": "code",
   "execution_count": 81,
   "metadata": {},
   "outputs": [
    {
     "name": "stdout",
     "output_type": "stream",
     "text": [
      "15\n",
      "17\n"
     ]
    }
   ],
   "source": [
    "# m, n = int(input()), int(input())\n",
    "\n",
    "m, n = 1, 20\n",
    "\n",
    "for i in range(m, n + 1):\n",
    "    if (i % 17 == 0) or (i // 10 == 9) or (i % 3 == 0 and i % 5 == 0):\n",
    "        print(i)"
   ]
  },
  {
   "cell_type": "code",
   "execution_count": 82,
   "metadata": {},
   "outputs": [
    {
     "name": "stdout",
     "output_type": "stream",
     "text": [
      "0.6263831609742079\n"
     ]
    }
   ],
   "source": [
    "# a, b = int(input()), int(input())\n",
    "from math import log\n",
    "\n",
    "n = 10\n",
    "total = 0\n",
    "\n",
    "for i in range(1, n + 1):\n",
    "    total += 1 / i\n",
    "print(total - log(n))"
   ]
  },
  {
   "cell_type": "code",
   "execution_count": 83,
   "metadata": {},
   "outputs": [
    {
     "name": "stdout",
     "output_type": "stream",
     "text": [
      "1234124121235\n",
      "124141243\n"
     ]
    }
   ],
   "source": [
    "# На вход программе подается натуральное число n, а затем n различных натуральных чисел последовательности, \n",
    "# каждое на отдельной строке. Напишите программу, которая выводит наибольшее и второе наибольшее число последовательности.\n",
    "\n",
    "# n = int(input())\n",
    "n = 4\n",
    "\n",
    "mx_1, mx_2 = 0, 0\n",
    "\n",
    "i = 0\n",
    "for _ in range(n):\n",
    "    nums = [124141243, 234, 1234124121235, 123312]\n",
    "    # num = int(input())\n",
    "    num = nums[i]\n",
    "\n",
    "    if num > mx_2:\n",
    "        if num > mx_1:\n",
    "            mx_2, mx_1 = mx_1, num\n",
    "        else:\n",
    "            mx_2 = num\n",
    "    i +=1\n",
    "\n",
    "print(mx_1, mx_2, sep='\\n')"
   ]
  },
  {
   "cell_type": "code",
   "execution_count": 84,
   "metadata": {},
   "outputs": [],
   "source": [
    "# n = int(input)\n",
    "n = 3\n",
    "\n",
    "# print(('NO', 'YES')[all([i % 2 == 0 for i in [int(input()) for _ in range(n)]])])"
   ]
  },
  {
   "cell_type": "code",
   "execution_count": 85,
   "metadata": {},
   "outputs": [
    {
     "name": "stdout",
     "output_type": "stream",
     "text": [
      "1 1 2 3 5 8 13 21 34 55 89 144 233 377 610 987 1597 2584 4181 6765 10946 17711 28657 46368 75025 121393 196418 317811 514229 832040 "
     ]
    }
   ],
   "source": [
    "# Фибоначи\n",
    "\n",
    "# n = int(input())\n",
    "n = 30\n",
    "\n",
    "a2 = 0\n",
    "fib = 1\n",
    "\n",
    "for i in range(n):\n",
    "    print(fib, end=' ')\n",
    "\n",
    "    # fib, a2 = a2 + fib, fib\n",
    "\n",
    "    a1 = a2\n",
    "    a2 = fib\n",
    "    fib = a1 + a2"
   ]
  },
  {
   "cell_type": "code",
   "execution_count": 86,
   "metadata": {},
   "outputs": [
    {
     "name": "stdout",
     "output_type": "stream",
     "text": [
      "1 1 2 3 5 8 13 21 34 55 89 144 233 377 610 987 1597 2584 4181 6765 10946 17711 28657 46368 75025 121393 196418 317811 514229 832040 "
     ]
    }
   ],
   "source": [
    "# n = int(input())\n",
    "\n",
    "n = 30\n",
    "a = 1\n",
    "b = 1\n",
    "\n",
    "for i in range(n):\n",
    "    print(a, end=' ')\n",
    "    a, b = b, a + b"
   ]
  },
  {
   "cell_type": "markdown",
   "metadata": {},
   "source": [
    "# 7.4 Цикл while"
   ]
  },
  {
   "cell_type": "code",
   "execution_count": 87,
   "metadata": {},
   "outputs": [
    {
     "name": "stdout",
     "output_type": "stream",
     "text": [
      "5 4 3 2 1 "
     ]
    }
   ],
   "source": [
    "# n = int(input())\n",
    "n = 12345\n",
    "\n",
    "while n != 0:  # пока в числе есть цифры\n",
    "    last_digit = n % 10  # получить последнюю цифру\n",
    "    # код обработки последней цифры\n",
    "    n = n // 10  # удалить последнюю цифру из числа\n",
    "    print(last_digit, end=' ')"
   ]
  },
  {
   "cell_type": "code",
   "execution_count": null,
   "metadata": {},
   "outputs": [],
   "source": []
  },
  {
   "cell_type": "code",
   "execution_count": null,
   "metadata": {},
   "outputs": [],
   "source": []
  },
  {
   "cell_type": "code",
   "execution_count": null,
   "metadata": {},
   "outputs": [],
   "source": []
  },
  {
   "cell_type": "code",
   "execution_count": null,
   "metadata": {},
   "outputs": [],
   "source": []
  },
  {
   "cell_type": "code",
   "execution_count": null,
   "metadata": {},
   "outputs": [],
   "source": []
  },
  {
   "cell_type": "code",
   "execution_count": null,
   "metadata": {},
   "outputs": [],
   "source": []
  }
 ],
 "metadata": {
  "kernelspec": {
   "display_name": ".conda",
   "language": "python",
   "name": "python3"
  },
  "language_info": {
   "codemirror_mode": {
    "name": "ipython",
    "version": 3
   },
   "file_extension": ".py",
   "mimetype": "text/x-python",
   "name": "python",
   "nbconvert_exporter": "python",
   "pygments_lexer": "ipython3",
   "version": "3.12.7"
  }
 },
 "nbformat": 4,
 "nbformat_minor": 2
}
