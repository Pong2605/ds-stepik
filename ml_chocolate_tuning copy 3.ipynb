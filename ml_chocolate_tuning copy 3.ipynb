{
 "cells": [
  {
   "cell_type": "markdown",
   "id": "eff87ae6",
   "metadata": {},
   "source": [
    "## Импорт библиотек, загрузка данных"
   ]
  },
  {
   "cell_type": "code",
   "execution_count": 1,
   "id": "8b9cf5b5",
   "metadata": {},
   "outputs": [],
   "source": [
    "import pandas as pd\n",
    "import numpy as np\n",
    "import matplotlib.pyplot as plt\n",
    "from category_encoders.ordinal import OrdinalEncoder\n",
    "from category_encoders.one_hot import OneHotEncoder\n",
    "from category_encoders.target_encoder import TargetEncoder\n",
    "from category_encoders.leave_one_out import LeaveOneOutEncoder\n",
    "from sklearn.preprocessing import MinMaxScaler, StandardScaler, PolynomialFeatures\n",
    "from sklearn.pipeline import Pipeline\n",
    "import seaborn as sb\n",
    "import association_metrics as am\n",
    "from sklearn.model_selection import cross_val_score, train_test_split\n",
    "from sklearn.metrics import r2_score\n",
    "from catboost import CatBoostRegressor\n",
    "import optuna\n",
    "from sklearn.metrics import mean_absolute_percentage_error as MAPE, mean_absolute_error as MAE, r2_score, mean_squared_error as MSE\n",
    "from sklearn.linear_model import LinearRegression\n",
    "from sklearn.ensemble import RandomForestRegressor\n",
    "from xgboost import XGBRegressor\n",
    "from sklearn.ensemble import GradientBoostingRegressor"
   ]
  },
  {
   "cell_type": "code",
   "execution_count": 2,
   "id": "5b391d0d",
   "metadata": {},
   "outputs": [],
   "source": [
    "from lightgbm import LGBMRanker, LGBMRegressor"
   ]
  },
  {
   "cell_type": "code",
   "execution_count": 3,
   "id": "0dfba5fe",
   "metadata": {},
   "outputs": [],
   "source": [
    "TRAIN = \"https://raw.githubusercontent.com/evgpat/edu_stepik_practical_ml/main/datasets/chocolate_train.csv\"\n",
    "TEST = \"https://raw.githubusercontent.com/evgpat/edu_stepik_practical_ml/main/datasets/chocolate_test_new.csv\""
   ]
  },
  {
   "cell_type": "code",
   "execution_count": 4,
   "id": "0d6a5ff5",
   "metadata": {},
   "outputs": [],
   "source": [
    "data = pd.read_csv(TRAIN)"
   ]
  },
  {
   "cell_type": "markdown",
   "id": "1a9f41b6",
   "metadata": {},
   "source": [
    "## Обзор данных, подготовка к обучению"
   ]
  },
  {
   "cell_type": "code",
   "execution_count": 5,
   "id": "e6472831",
   "metadata": {},
   "outputs": [
    {
     "data": {
      "text/html": [
       "<div>\n",
       "<style scoped>\n",
       "    .dataframe tbody tr th:only-of-type {\n",
       "        vertical-align: middle;\n",
       "    }\n",
       "\n",
       "    .dataframe tbody tr th {\n",
       "        vertical-align: top;\n",
       "    }\n",
       "\n",
       "    .dataframe thead th {\n",
       "        text-align: right;\n",
       "    }\n",
       "</style>\n",
       "<table border=\"1\" class=\"dataframe\">\n",
       "  <thead>\n",
       "    <tr style=\"text-align: right;\">\n",
       "      <th></th>\n",
       "      <th>Company</th>\n",
       "      <th>Specific Bean Origin</th>\n",
       "      <th>REF</th>\n",
       "      <th>Review</th>\n",
       "      <th>Cocoa Percent</th>\n",
       "      <th>Company Location</th>\n",
       "      <th>Rating</th>\n",
       "      <th>Bean Type</th>\n",
       "      <th>Broad Bean Origin</th>\n",
       "    </tr>\n",
       "  </thead>\n",
       "  <tbody>\n",
       "    <tr>\n",
       "      <th>0</th>\n",
       "      <td>Willie's Cacao</td>\n",
       "      <td>Rio Caribe</td>\n",
       "      <td>457</td>\n",
       "      <td>2009</td>\n",
       "      <td>72%</td>\n",
       "      <td>U.K.</td>\n",
       "      <td>3.25</td>\n",
       "      <td>Trinitario</td>\n",
       "      <td>Venezuela</td>\n",
       "    </tr>\n",
       "    <tr>\n",
       "      <th>1</th>\n",
       "      <td>Beschle (Felchlin)</td>\n",
       "      <td>Ocumare, Premier Cru, Quizas No. 2</td>\n",
       "      <td>508</td>\n",
       "      <td>2010</td>\n",
       "      <td>72%</td>\n",
       "      <td>Switzerland</td>\n",
       "      <td>3.50</td>\n",
       "      <td></td>\n",
       "      <td>Venezuela</td>\n",
       "    </tr>\n",
       "    <tr>\n",
       "      <th>2</th>\n",
       "      <td>Dark Forest</td>\n",
       "      <td>Tanzania</td>\n",
       "      <td>1554</td>\n",
       "      <td>2015</td>\n",
       "      <td>70%</td>\n",
       "      <td>U.S.A.</td>\n",
       "      <td>3.00</td>\n",
       "      <td></td>\n",
       "      <td>Tanzania</td>\n",
       "    </tr>\n",
       "    <tr>\n",
       "      <th>3</th>\n",
       "      <td>Brasstown aka It's Chocolate</td>\n",
       "      <td>Cooproagro</td>\n",
       "      <td>1125</td>\n",
       "      <td>2013</td>\n",
       "      <td>72%</td>\n",
       "      <td>U.S.A.</td>\n",
       "      <td>3.00</td>\n",
       "      <td>Trinitario</td>\n",
       "      <td>Dominican Republic</td>\n",
       "    </tr>\n",
       "    <tr>\n",
       "      <th>4</th>\n",
       "      <td>Pralus</td>\n",
       "      <td>Java, Indonesie</td>\n",
       "      <td>32</td>\n",
       "      <td>2006</td>\n",
       "      <td>75%</td>\n",
       "      <td>France</td>\n",
       "      <td>3.50</td>\n",
       "      <td>Criollo</td>\n",
       "      <td>Indonesia</td>\n",
       "    </tr>\n",
       "  </tbody>\n",
       "</table>\n",
       "</div>"
      ],
      "text/plain": [
       "                        Company                Specific Bean Origin   REF  \\\n",
       "0                Willie's Cacao                          Rio Caribe   457   \n",
       "1            Beschle (Felchlin)  Ocumare, Premier Cru, Quizas No. 2   508   \n",
       "2                   Dark Forest                            Tanzania  1554   \n",
       "3  Brasstown aka It's Chocolate                          Cooproagro  1125   \n",
       "4                        Pralus                     Java, Indonesie    32   \n",
       "\n",
       "   Review Cocoa Percent Company Location  Rating   Bean Type  \\\n",
       "0    2009           72%             U.K.    3.25  Trinitario   \n",
       "1    2010           72%      Switzerland    3.50               \n",
       "2    2015           70%           U.S.A.    3.00               \n",
       "3    2013           72%           U.S.A.    3.00  Trinitario   \n",
       "4    2006           75%           France    3.50     Criollo   \n",
       "\n",
       "    Broad Bean Origin  \n",
       "0           Venezuela  \n",
       "1           Venezuela  \n",
       "2            Tanzania  \n",
       "3  Dominican Republic  \n",
       "4           Indonesia  "
      ]
     },
     "execution_count": 5,
     "metadata": {},
     "output_type": "execute_result"
    }
   ],
   "source": [
    "data.head()"
   ]
  },
  {
   "cell_type": "code",
   "execution_count": 6,
   "id": "14df3eb4",
   "metadata": {},
   "outputs": [
    {
     "name": "stdout",
     "output_type": "stream",
     "text": [
      "<class 'pandas.core.frame.DataFrame'>\n",
      "RangeIndex: 1255 entries, 0 to 1254\n",
      "Data columns (total 9 columns):\n",
      " #   Column                Non-Null Count  Dtype  \n",
      "---  ------                --------------  -----  \n",
      " 0   Company               1255 non-null   object \n",
      " 1   Specific Bean Origin  1255 non-null   object \n",
      " 2   REF                   1255 non-null   int64  \n",
      " 3   Review                1255 non-null   int64  \n",
      " 4   Cocoa Percent         1255 non-null   object \n",
      " 5   Company Location      1255 non-null   object \n",
      " 6   Rating                1255 non-null   float64\n",
      " 7   Bean Type             1254 non-null   object \n",
      " 8   Broad Bean Origin     1254 non-null   object \n",
      "dtypes: float64(1), int64(2), object(6)\n",
      "memory usage: 88.4+ KB\n"
     ]
    }
   ],
   "source": [
    "data.info()"
   ]
  },
  {
   "cell_type": "code",
   "execution_count": 7,
   "id": "c037b4d4",
   "metadata": {},
   "outputs": [
    {
     "data": {
      "text/html": [
       "<div>\n",
       "<style scoped>\n",
       "    .dataframe tbody tr th:only-of-type {\n",
       "        vertical-align: middle;\n",
       "    }\n",
       "\n",
       "    .dataframe tbody tr th {\n",
       "        vertical-align: top;\n",
       "    }\n",
       "\n",
       "    .dataframe thead th {\n",
       "        text-align: right;\n",
       "    }\n",
       "</style>\n",
       "<table border=\"1\" class=\"dataframe\">\n",
       "  <thead>\n",
       "    <tr style=\"text-align: right;\">\n",
       "      <th></th>\n",
       "      <th>Company</th>\n",
       "      <th>Specific Bean Origin</th>\n",
       "      <th>Cocoa Percent</th>\n",
       "      <th>Company Location</th>\n",
       "      <th>Bean Type</th>\n",
       "      <th>Broad Bean Origin</th>\n",
       "    </tr>\n",
       "  </thead>\n",
       "  <tbody>\n",
       "    <tr>\n",
       "      <th>count</th>\n",
       "      <td>1255</td>\n",
       "      <td>1255</td>\n",
       "      <td>1255</td>\n",
       "      <td>1255</td>\n",
       "      <td>1254</td>\n",
       "      <td>1254</td>\n",
       "    </tr>\n",
       "    <tr>\n",
       "      <th>unique</th>\n",
       "      <td>376</td>\n",
       "      <td>762</td>\n",
       "      <td>40</td>\n",
       "      <td>58</td>\n",
       "      <td>38</td>\n",
       "      <td>84</td>\n",
       "    </tr>\n",
       "    <tr>\n",
       "      <th>top</th>\n",
       "      <td>Soma</td>\n",
       "      <td>Madagascar</td>\n",
       "      <td>70%</td>\n",
       "      <td>U.S.A.</td>\n",
       "      <td></td>\n",
       "      <td>Venezuela</td>\n",
       "    </tr>\n",
       "    <tr>\n",
       "      <th>freq</th>\n",
       "      <td>35</td>\n",
       "      <td>39</td>\n",
       "      <td>461</td>\n",
       "      <td>521</td>\n",
       "      <td>628</td>\n",
       "      <td>144</td>\n",
       "    </tr>\n",
       "  </tbody>\n",
       "</table>\n",
       "</div>"
      ],
      "text/plain": [
       "       Company Specific Bean Origin Cocoa Percent Company Location Bean Type  \\\n",
       "count     1255                 1255          1255             1255      1254   \n",
       "unique     376                  762            40               58        38   \n",
       "top       Soma           Madagascar           70%           U.S.A.             \n",
       "freq        35                   39           461              521       628   \n",
       "\n",
       "       Broad Bean Origin  \n",
       "count               1254  \n",
       "unique                84  \n",
       "top            Venezuela  \n",
       "freq                 144  "
      ]
     },
     "execution_count": 7,
     "metadata": {},
     "output_type": "execute_result"
    }
   ],
   "source": [
    "data.describe(include='object')"
   ]
  },
  {
   "cell_type": "markdown",
   "id": "58428ef3",
   "metadata": {},
   "source": [
    "Удаляем все строки с пропусками"
   ]
  },
  {
   "cell_type": "code",
   "execution_count": 8,
   "id": "31b0704e",
   "metadata": {},
   "outputs": [],
   "source": [
    "data.dropna(axis=0, inplace=True)"
   ]
  },
  {
   "cell_type": "code",
   "execution_count": 9,
   "id": "958987cf",
   "metadata": {},
   "outputs": [
    {
     "data": {
      "text/plain": [
       "<Axes: >"
      ]
     },
     "execution_count": 9,
     "metadata": {},
     "output_type": "execute_result"
    },
    {
     "data": {
      "image/png": "[encoded data removed]",
      "text/plain": [
       "<Figure size 640x480 with 2 Axes>"
      ]
     },
     "metadata": {},
     "output_type": "display_data"
    }
   ],
   "source": [
    "numeric_columns = data.select_dtypes(include=['number']).columns\n",
    "categorical_columns = data.select_dtypes(exclude=['number']).columns\n",
    "sb.heatmap(data[numeric_columns].corr(), annot=True, cmap='RdYlGn')"
   ]
  },
  {
   "cell_type": "code",
   "execution_count": 10,
   "id": "9592f93e",
   "metadata": {},
   "outputs": [
    {
     "name": "stderr",
     "output_type": "stream",
     "text": [
      "c:\\Users\\kuche\\anaconda3\\Lib\\site-packages\\association_metrics\\categorical.py:100: FutureWarning: ChainedAssignmentError: behaviour will change in pandas 3.0!\n",
      "You are setting values through chained assignment. Currently this works in certain cases, but when using Copy-on-Write (which will become the default behaviour in pandas 3.0) this will never work to update the original DataFrame or Series, because the intermediate object on which we are setting values will behave as a copy.\n",
      "A typical example is when you are setting values in a column of a DataFrame, like:\n",
      "\n",
      "df[\"col\"][row_indexer] = value\n",
      "\n",
      "Use `df.loc[row_indexer, \"col\"] = values` instead, to perform the assignment in a single step and ensure this keeps updating the original `df`.\n",
      "\n",
      "See the caveats in the documentation: https://pandas.pydata.org/pandas-docs/stable/user_guide/indexing.html#returning-a-view-versus-a-copy\n",
      "\n",
      "  self.matrix[x][y] = 1\n",
      "c:\\Users\\kuche\\anaconda3\\Lib\\site-packages\\association_metrics\\categorical.py:104: FutureWarning: ChainedAssignmentError: behaviour will change in pandas 3.0!\n",
      "You are setting values through chained assignment. Currently this works in certain cases, but when using Copy-on-Write (which will become the default behaviour in pandas 3.0) this will never work to update the original DataFrame or Series, because the intermediate object on which we are setting values will behave as a copy.\n",
      "A typical example is when you are setting values in a column of a DataFrame, like:\n",
      "\n",
      "df[\"col\"][row_indexer] = value\n",
      "\n",
      "Use `df.loc[row_indexer, \"col\"] = values` instead, to perform the assignment in a single step and ensure this keeps updating the original `df`.\n",
      "\n",
      "See the caveats in the documentation: https://pandas.pydata.org/pandas-docs/stable/user_guide/indexing.html#returning-a-view-versus-a-copy\n",
      "\n",
      "  self.matrix[x][y] = value\n",
      "c:\\Users\\kuche\\anaconda3\\Lib\\site-packages\\association_metrics\\categorical.py:105: FutureWarning: ChainedAssignmentError: behaviour will change in pandas 3.0!\n",
      "You are setting values through chained assignment. Currently this works in certain cases, but when using Copy-on-Write (which will become the default behaviour in pandas 3.0) this will never work to update the original DataFrame or Series, because the intermediate object on which we are setting values will behave as a copy.\n",
      "A typical example is when you are setting values in a column of a DataFrame, like:\n",
      "\n",
      "df[\"col\"][row_indexer] = value\n",
      "\n",
      "Use `df.loc[row_indexer, \"col\"] = values` instead, to perform the assignment in a single step and ensure this keeps updating the original `df`.\n",
      "\n",
      "See the caveats in the documentation: https://pandas.pydata.org/pandas-docs/stable/user_guide/indexing.html#returning-a-view-versus-a-copy\n",
      "\n",
      "  self.matrix[y][x] = value\n",
      "c:\\Users\\kuche\\anaconda3\\Lib\\site-packages\\association_metrics\\categorical.py:104: FutureWarning: ChainedAssignmentError: behaviour will change in pandas 3.0!\n",
      "You are setting values through chained assignment. Currently this works in certain cases, but when using Copy-on-Write (which will become the default behaviour in pandas 3.0) this will never work to update the original DataFrame or Series, because the intermediate object on which we are setting values will behave as a copy.\n",
      "A typical example is when you are setting values in a column of a DataFrame, like:\n",
      "\n",
      "df[\"col\"][row_indexer] = value\n",
      "\n",
      "Use `df.loc[row_indexer, \"col\"] = values` instead, to perform the assignment in a single step and ensure this keeps updating the original `df`.\n",
      "\n",
      "See the caveats in the documentation: https://pandas.pydata.org/pandas-docs/stable/user_guide/indexing.html#returning-a-view-versus-a-copy\n",
      "\n",
      "  self.matrix[x][y] = value\n",
      "c:\\Users\\kuche\\anaconda3\\Lib\\site-packages\\association_metrics\\categorical.py:105: FutureWarning: ChainedAssignmentError: behaviour will change in pandas 3.0!\n",
      "You are setting values through chained assignment. Currently this works in certain cases, but when using Copy-on-Write (which will become the default behaviour in pandas 3.0) this will never work to update the original DataFrame or Series, because the intermediate object on which we are setting values will behave as a copy.\n",
      "A typical example is when you are setting values in a column of a DataFrame, like:\n",
      "\n",
      "df[\"col\"][row_indexer] = value\n",
      "\n",
      "Use `df.loc[row_indexer, \"col\"] = values` instead, to perform the assignment in a single step and ensure this keeps updating the original `df`.\n",
      "\n",
      "See the caveats in the documentation: https://pandas.pydata.org/pandas-docs/stable/user_guide/indexing.html#returning-a-view-versus-a-copy\n",
      "\n",
      "  self.matrix[y][x] = value\n",
      "c:\\Users\\kuche\\anaconda3\\Lib\\site-packages\\association_metrics\\categorical.py:104: FutureWarning: ChainedAssignmentError: behaviour will change in pandas 3.0!\n",
      "You are setting values through chained assignment. Currently this works in certain cases, but when using Copy-on-Write (which will become the default behaviour in pandas 3.0) this will never work to update the original DataFrame or Series, because the intermediate object on which we are setting values will behave as a copy.\n",
      "A typical example is when you are setting values in a column of a DataFrame, like:\n",
      "\n",
      "df[\"col\"][row_indexer] = value\n",
      "\n",
      "Use `df.loc[row_indexer, \"col\"] = values` instead, to perform the assignment in a single step and ensure this keeps updating the original `df`.\n",
      "\n",
      "See the caveats in the documentation: https://pandas.pydata.org/pandas-docs/stable/user_guide/indexing.html#returning-a-view-versus-a-copy\n",
      "\n",
      "  self.matrix[x][y] = value\n",
      "c:\\Users\\kuche\\anaconda3\\Lib\\site-packages\\association_metrics\\categorical.py:105: FutureWarning: ChainedAssignmentError: behaviour will change in pandas 3.0!\n",
      "You are setting values through chained assignment. Currently this works in certain cases, but when using Copy-on-Write (which will become the default behaviour in pandas 3.0) this will never work to update the original DataFrame or Series, because the intermediate object on which we are setting values will behave as a copy.\n",
      "A typical example is when you are setting values in a column of a DataFrame, like:\n",
      "\n",
      "df[\"col\"][row_indexer] = value\n",
      "\n",
      "Use `df.loc[row_indexer, \"col\"] = values` instead, to perform the assignment in a single step and ensure this keeps updating the original `df`.\n",
      "\n",
      "See the caveats in the documentation: https://pandas.pydata.org/pandas-docs/stable/user_guide/indexing.html#returning-a-view-versus-a-copy\n",
      "\n",
      "  self.matrix[y][x] = value\n",
      "c:\\Users\\kuche\\anaconda3\\Lib\\site-packages\\association_metrics\\categorical.py:104: FutureWarning: ChainedAssignmentError: behaviour will change in pandas 3.0!\n",
      "You are setting values through chained assignment. Currently this works in certain cases, but when using Copy-on-Write (which will become the default behaviour in pandas 3.0) this will never work to update the original DataFrame or Series, because the intermediate object on which we are setting values will behave as a copy.\n",
      "A typical example is when you are setting values in a column of a DataFrame, like:\n",
      "\n",
      "df[\"col\"][row_indexer] = value\n",
      "\n",
      "Use `df.loc[row_indexer, \"col\"] = values` instead, to perform the assignment in a single step and ensure this keeps updating the original `df`.\n",
      "\n",
      "See the caveats in the documentation: https://pandas.pydata.org/pandas-docs/stable/user_guide/indexing.html#returning-a-view-versus-a-copy\n",
      "\n",
      "  self.matrix[x][y] = value\n",
      "c:\\Users\\kuche\\anaconda3\\Lib\\site-packages\\association_metrics\\categorical.py:105: FutureWarning: ChainedAssignmentError: behaviour will change in pandas 3.0!\n",
      "You are setting values through chained assignment. Currently this works in certain cases, but when using Copy-on-Write (which will become the default behaviour in pandas 3.0) this will never work to update the original DataFrame or Series, because the intermediate object on which we are setting values will behave as a copy.\n",
      "A typical example is when you are setting values in a column of a DataFrame, like:\n",
      "\n",
      "df[\"col\"][row_indexer] = value\n",
      "\n",
      "Use `df.loc[row_indexer, \"col\"] = values` instead, to perform the assignment in a single step and ensure this keeps updating the original `df`.\n",
      "\n",
      "See the caveats in the documentation: https://pandas.pydata.org/pandas-docs/stable/user_guide/indexing.html#returning-a-view-versus-a-copy\n",
      "\n",
      "  self.matrix[y][x] = value\n",
      "c:\\Users\\kuche\\anaconda3\\Lib\\site-packages\\association_metrics\\categorical.py:104: FutureWarning: ChainedAssignmentError: behaviour will change in pandas 3.0!\n",
      "You are setting values through chained assignment. Currently this works in certain cases, but when using Copy-on-Write (which will become the default behaviour in pandas 3.0) this will never work to update the original DataFrame or Series, because the intermediate object on which we are setting values will behave as a copy.\n",
      "A typical example is when you are setting values in a column of a DataFrame, like:\n",
      "\n",
      "df[\"col\"][row_indexer] = value\n",
      "\n",
      "Use `df.loc[row_indexer, \"col\"] = values` instead, to perform the assignment in a single step and ensure this keeps updating the original `df`.\n",
      "\n",
      "See the caveats in the documentation: https://pandas.pydata.org/pandas-docs/stable/user_guide/indexing.html#returning-a-view-versus-a-copy\n",
      "\n",
      "  self.matrix[x][y] = value\n",
      "c:\\Users\\kuche\\anaconda3\\Lib\\site-packages\\association_metrics\\categorical.py:105: FutureWarning: ChainedAssignmentError: behaviour will change in pandas 3.0!\n",
      "You are setting values through chained assignment. Currently this works in certain cases, but when using Copy-on-Write (which will become the default behaviour in pandas 3.0) this will never work to update the original DataFrame or Series, because the intermediate object on which we are setting values will behave as a copy.\n",
      "A typical example is when you are setting values in a column of a DataFrame, like:\n",
      "\n",
      "df[\"col\"][row_indexer] = value\n",
      "\n",
      "Use `df.loc[row_indexer, \"col\"] = values` instead, to perform the assignment in a single step and ensure this keeps updating the original `df`.\n",
      "\n",
      "See the caveats in the documentation: https://pandas.pydata.org/pandas-docs/stable/user_guide/indexing.html#returning-a-view-versus-a-copy\n",
      "\n",
      "  self.matrix[y][x] = value\n",
      "c:\\Users\\kuche\\anaconda3\\Lib\\site-packages\\association_metrics\\categorical.py:100: FutureWarning: ChainedAssignmentError: behaviour will change in pandas 3.0!\n",
      "You are setting values through chained assignment. Currently this works in certain cases, but when using Copy-on-Write (which will become the default behaviour in pandas 3.0) this will never work to update the original DataFrame or Series, because the intermediate object on which we are setting values will behave as a copy.\n",
      "A typical example is when you are setting values in a column of a DataFrame, like:\n",
      "\n",
      "df[\"col\"][row_indexer] = value\n",
      "\n",
      "Use `df.loc[row_indexer, \"col\"] = values` instead, to perform the assignment in a single step and ensure this keeps updating the original `df`.\n",
      "\n",
      "See the caveats in the documentation: https://pandas.pydata.org/pandas-docs/stable/user_guide/indexing.html#returning-a-view-versus-a-copy\n",
      "\n",
      "  self.matrix[x][y] = 1\n",
      "c:\\Users\\kuche\\anaconda3\\Lib\\site-packages\\association_metrics\\categorical.py:104: FutureWarning: ChainedAssignmentError: behaviour will change in pandas 3.0!\n",
      "You are setting values through chained assignment. Currently this works in certain cases, but when using Copy-on-Write (which will become the default behaviour in pandas 3.0) this will never work to update the original DataFrame or Series, because the intermediate object on which we are setting values will behave as a copy.\n",
      "A typical example is when you are setting values in a column of a DataFrame, like:\n",
      "\n",
      "df[\"col\"][row_indexer] = value\n",
      "\n",
      "Use `df.loc[row_indexer, \"col\"] = values` instead, to perform the assignment in a single step and ensure this keeps updating the original `df`.\n",
      "\n",
      "See the caveats in the documentation: https://pandas.pydata.org/pandas-docs/stable/user_guide/indexing.html#returning-a-view-versus-a-copy\n",
      "\n",
      "  self.matrix[x][y] = value\n",
      "c:\\Users\\kuche\\anaconda3\\Lib\\site-packages\\association_metrics\\categorical.py:105: FutureWarning: ChainedAssignmentError: behaviour will change in pandas 3.0!\n",
      "You are setting values through chained assignment. Currently this works in certain cases, but when using Copy-on-Write (which will become the default behaviour in pandas 3.0) this will never work to update the original DataFrame or Series, because the intermediate object on which we are setting values will behave as a copy.\n",
      "A typical example is when you are setting values in a column of a DataFrame, like:\n",
      "\n",
      "df[\"col\"][row_indexer] = value\n",
      "\n",
      "Use `df.loc[row_indexer, \"col\"] = values` instead, to perform the assignment in a single step and ensure this keeps updating the original `df`.\n",
      "\n",
      "See the caveats in the documentation: https://pandas.pydata.org/pandas-docs/stable/user_guide/indexing.html#returning-a-view-versus-a-copy\n",
      "\n",
      "  self.matrix[y][x] = value\n",
      "c:\\Users\\kuche\\anaconda3\\Lib\\site-packages\\association_metrics\\categorical.py:104: FutureWarning: ChainedAssignmentError: behaviour will change in pandas 3.0!\n",
      "You are setting values through chained assignment. Currently this works in certain cases, but when using Copy-on-Write (which will become the default behaviour in pandas 3.0) this will never work to update the original DataFrame or Series, because the intermediate object on which we are setting values will behave as a copy.\n",
      "A typical example is when you are setting values in a column of a DataFrame, like:\n",
      "\n",
      "df[\"col\"][row_indexer] = value\n",
      "\n",
      "Use `df.loc[row_indexer, \"col\"] = values` instead, to perform the assignment in a single step and ensure this keeps updating the original `df`.\n",
      "\n",
      "See the caveats in the documentation: https://pandas.pydata.org/pandas-docs/stable/user_guide/indexing.html#returning-a-view-versus-a-copy\n",
      "\n",
      "  self.matrix[x][y] = value\n",
      "c:\\Users\\kuche\\anaconda3\\Lib\\site-packages\\association_metrics\\categorical.py:105: FutureWarning: ChainedAssignmentError: behaviour will change in pandas 3.0!\n",
      "You are setting values through chained assignment. Currently this works in certain cases, but when using Copy-on-Write (which will become the default behaviour in pandas 3.0) this will never work to update the original DataFrame or Series, because the intermediate object on which we are setting values will behave as a copy.\n",
      "A typical example is when you are setting values in a column of a DataFrame, like:\n",
      "\n",
      "df[\"col\"][row_indexer] = value\n",
      "\n",
      "Use `df.loc[row_indexer, \"col\"] = values` instead, to perform the assignment in a single step and ensure this keeps updating the original `df`.\n",
      "\n",
      "See the caveats in the documentation: https://pandas.pydata.org/pandas-docs/stable/user_guide/indexing.html#returning-a-view-versus-a-copy\n",
      "\n",
      "  self.matrix[y][x] = value\n",
      "c:\\Users\\kuche\\anaconda3\\Lib\\site-packages\\association_metrics\\categorical.py:104: FutureWarning: ChainedAssignmentError: behaviour will change in pandas 3.0!\n",
      "You are setting values through chained assignment. Currently this works in certain cases, but when using Copy-on-Write (which will become the default behaviour in pandas 3.0) this will never work to update the original DataFrame or Series, because the intermediate object on which we are setting values will behave as a copy.\n",
      "A typical example is when you are setting values in a column of a DataFrame, like:\n",
      "\n",
      "df[\"col\"][row_indexer] = value\n",
      "\n",
      "Use `df.loc[row_indexer, \"col\"] = values` instead, to perform the assignment in a single step and ensure this keeps updating the original `df`.\n",
      "\n",
      "See the caveats in the documentation: https://pandas.pydata.org/pandas-docs/stable/user_guide/indexing.html#returning-a-view-versus-a-copy\n",
      "\n",
      "  self.matrix[x][y] = value\n",
      "c:\\Users\\kuche\\anaconda3\\Lib\\site-packages\\association_metrics\\categorical.py:105: FutureWarning: ChainedAssignmentError: behaviour will change in pandas 3.0!\n",
      "You are setting values through chained assignment. Currently this works in certain cases, but when using Copy-on-Write (which will become the default behaviour in pandas 3.0) this will never work to update the original DataFrame or Series, because the intermediate object on which we are setting values will behave as a copy.\n",
      "A typical example is when you are setting values in a column of a DataFrame, like:\n",
      "\n",
      "df[\"col\"][row_indexer] = value\n",
      "\n",
      "Use `df.loc[row_indexer, \"col\"] = values` instead, to perform the assignment in a single step and ensure this keeps updating the original `df`.\n",
      "\n",
      "See the caveats in the documentation: https://pandas.pydata.org/pandas-docs/stable/user_guide/indexing.html#returning-a-view-versus-a-copy\n",
      "\n",
      "  self.matrix[y][x] = value\n",
      "c:\\Users\\kuche\\anaconda3\\Lib\\site-packages\\association_metrics\\categorical.py:104: FutureWarning: ChainedAssignmentError: behaviour will change in pandas 3.0!\n",
      "You are setting values through chained assignment. Currently this works in certain cases, but when using Copy-on-Write (which will become the default behaviour in pandas 3.0) this will never work to update the original DataFrame or Series, because the intermediate object on which we are setting values will behave as a copy.\n",
      "A typical example is when you are setting values in a column of a DataFrame, like:\n",
      "\n",
      "df[\"col\"][row_indexer] = value\n",
      "\n",
      "Use `df.loc[row_indexer, \"col\"] = values` instead, to perform the assignment in a single step and ensure this keeps updating the original `df`.\n",
      "\n",
      "See the caveats in the documentation: https://pandas.pydata.org/pandas-docs/stable/user_guide/indexing.html#returning-a-view-versus-a-copy\n",
      "\n",
      "  self.matrix[x][y] = value\n",
      "c:\\Users\\kuche\\anaconda3\\Lib\\site-packages\\association_metrics\\categorical.py:105: FutureWarning: ChainedAssignmentError: behaviour will change in pandas 3.0!\n",
      "You are setting values through chained assignment. Currently this works in certain cases, but when using Copy-on-Write (which will become the default behaviour in pandas 3.0) this will never work to update the original DataFrame or Series, because the intermediate object on which we are setting values will behave as a copy.\n",
      "A typical example is when you are setting values in a column of a DataFrame, like:\n",
      "\n",
      "df[\"col\"][row_indexer] = value\n",
      "\n",
      "Use `df.loc[row_indexer, \"col\"] = values` instead, to perform the assignment in a single step and ensure this keeps updating the original `df`.\n",
      "\n",
      "See the caveats in the documentation: https://pandas.pydata.org/pandas-docs/stable/user_guide/indexing.html#returning-a-view-versus-a-copy\n",
      "\n",
      "  self.matrix[y][x] = value\n",
      "c:\\Users\\kuche\\anaconda3\\Lib\\site-packages\\association_metrics\\categorical.py:100: FutureWarning: ChainedAssignmentError: behaviour will change in pandas 3.0!\n",
      "You are setting values through chained assignment. Currently this works in certain cases, but when using Copy-on-Write (which will become the default behaviour in pandas 3.0) this will never work to update the original DataFrame or Series, because the intermediate object on which we are setting values will behave as a copy.\n",
      "A typical example is when you are setting values in a column of a DataFrame, like:\n",
      "\n",
      "df[\"col\"][row_indexer] = value\n",
      "\n",
      "Use `df.loc[row_indexer, \"col\"] = values` instead, to perform the assignment in a single step and ensure this keeps updating the original `df`.\n",
      "\n",
      "See the caveats in the documentation: https://pandas.pydata.org/pandas-docs/stable/user_guide/indexing.html#returning-a-view-versus-a-copy\n",
      "\n",
      "  self.matrix[x][y] = 1\n",
      "c:\\Users\\kuche\\anaconda3\\Lib\\site-packages\\association_metrics\\categorical.py:104: FutureWarning: ChainedAssignmentError: behaviour will change in pandas 3.0!\n",
      "You are setting values through chained assignment. Currently this works in certain cases, but when using Copy-on-Write (which will become the default behaviour in pandas 3.0) this will never work to update the original DataFrame or Series, because the intermediate object on which we are setting values will behave as a copy.\n",
      "A typical example is when you are setting values in a column of a DataFrame, like:\n",
      "\n",
      "df[\"col\"][row_indexer] = value\n",
      "\n",
      "Use `df.loc[row_indexer, \"col\"] = values` instead, to perform the assignment in a single step and ensure this keeps updating the original `df`.\n",
      "\n",
      "See the caveats in the documentation: https://pandas.pydata.org/pandas-docs/stable/user_guide/indexing.html#returning-a-view-versus-a-copy\n",
      "\n",
      "  self.matrix[x][y] = value\n",
      "c:\\Users\\kuche\\anaconda3\\Lib\\site-packages\\association_metrics\\categorical.py:105: FutureWarning: ChainedAssignmentError: behaviour will change in pandas 3.0!\n",
      "You are setting values through chained assignment. Currently this works in certain cases, but when using Copy-on-Write (which will become the default behaviour in pandas 3.0) this will never work to update the original DataFrame or Series, because the intermediate object on which we are setting values will behave as a copy.\n",
      "A typical example is when you are setting values in a column of a DataFrame, like:\n",
      "\n",
      "df[\"col\"][row_indexer] = value\n",
      "\n",
      "Use `df.loc[row_indexer, \"col\"] = values` instead, to perform the assignment in a single step and ensure this keeps updating the original `df`.\n",
      "\n",
      "See the caveats in the documentation: https://pandas.pydata.org/pandas-docs/stable/user_guide/indexing.html#returning-a-view-versus-a-copy\n",
      "\n",
      "  self.matrix[y][x] = value\n",
      "c:\\Users\\kuche\\anaconda3\\Lib\\site-packages\\association_metrics\\categorical.py:104: FutureWarning: ChainedAssignmentError: behaviour will change in pandas 3.0!\n",
      "You are setting values through chained assignment. Currently this works in certain cases, but when using Copy-on-Write (which will become the default behaviour in pandas 3.0) this will never work to update the original DataFrame or Series, because the intermediate object on which we are setting values will behave as a copy.\n",
      "A typical example is when you are setting values in a column of a DataFrame, like:\n",
      "\n",
      "df[\"col\"][row_indexer] = value\n",
      "\n",
      "Use `df.loc[row_indexer, \"col\"] = values` instead, to perform the assignment in a single step and ensure this keeps updating the original `df`.\n",
      "\n",
      "See the caveats in the documentation: https://pandas.pydata.org/pandas-docs/stable/user_guide/indexing.html#returning-a-view-versus-a-copy\n",
      "\n",
      "  self.matrix[x][y] = value\n",
      "c:\\Users\\kuche\\anaconda3\\Lib\\site-packages\\association_metrics\\categorical.py:105: FutureWarning: ChainedAssignmentError: behaviour will change in pandas 3.0!\n",
      "You are setting values through chained assignment. Currently this works in certain cases, but when using Copy-on-Write (which will become the default behaviour in pandas 3.0) this will never work to update the original DataFrame or Series, because the intermediate object on which we are setting values will behave as a copy.\n",
      "A typical example is when you are setting values in a column of a DataFrame, like:\n",
      "\n",
      "df[\"col\"][row_indexer] = value\n",
      "\n",
      "Use `df.loc[row_indexer, \"col\"] = values` instead, to perform the assignment in a single step and ensure this keeps updating the original `df`.\n",
      "\n",
      "See the caveats in the documentation: https://pandas.pydata.org/pandas-docs/stable/user_guide/indexing.html#returning-a-view-versus-a-copy\n",
      "\n",
      "  self.matrix[y][x] = value\n",
      "c:\\Users\\kuche\\anaconda3\\Lib\\site-packages\\association_metrics\\categorical.py:104: FutureWarning: ChainedAssignmentError: behaviour will change in pandas 3.0!\n",
      "You are setting values through chained assignment. Currently this works in certain cases, but when using Copy-on-Write (which will become the default behaviour in pandas 3.0) this will never work to update the original DataFrame or Series, because the intermediate object on which we are setting values will behave as a copy.\n",
      "A typical example is when you are setting values in a column of a DataFrame, like:\n",
      "\n",
      "df[\"col\"][row_indexer] = value\n",
      "\n",
      "Use `df.loc[row_indexer, \"col\"] = values` instead, to perform the assignment in a single step and ensure this keeps updating the original `df`.\n",
      "\n",
      "See the caveats in the documentation: https://pandas.pydata.org/pandas-docs/stable/user_guide/indexing.html#returning-a-view-versus-a-copy\n",
      "\n",
      "  self.matrix[x][y] = value\n",
      "c:\\Users\\kuche\\anaconda3\\Lib\\site-packages\\association_metrics\\categorical.py:105: FutureWarning: ChainedAssignmentError: behaviour will change in pandas 3.0!\n",
      "You are setting values through chained assignment. Currently this works in certain cases, but when using Copy-on-Write (which will become the default behaviour in pandas 3.0) this will never work to update the original DataFrame or Series, because the intermediate object on which we are setting values will behave as a copy.\n",
      "A typical example is when you are setting values in a column of a DataFrame, like:\n",
      "\n",
      "df[\"col\"][row_indexer] = value\n",
      "\n",
      "Use `df.loc[row_indexer, \"col\"] = values` instead, to perform the assignment in a single step and ensure this keeps updating the original `df`.\n",
      "\n",
      "See the caveats in the documentation: https://pandas.pydata.org/pandas-docs/stable/user_guide/indexing.html#returning-a-view-versus-a-copy\n",
      "\n",
      "  self.matrix[y][x] = value\n",
      "c:\\Users\\kuche\\anaconda3\\Lib\\site-packages\\association_metrics\\categorical.py:100: FutureWarning: ChainedAssignmentError: behaviour will change in pandas 3.0!\n",
      "You are setting values through chained assignment. Currently this works in certain cases, but when using Copy-on-Write (which will become the default behaviour in pandas 3.0) this will never work to update the original DataFrame or Series, because the intermediate object on which we are setting values will behave as a copy.\n",
      "A typical example is when you are setting values in a column of a DataFrame, like:\n",
      "\n",
      "df[\"col\"][row_indexer] = value\n",
      "\n",
      "Use `df.loc[row_indexer, \"col\"] = values` instead, to perform the assignment in a single step and ensure this keeps updating the original `df`.\n",
      "\n",
      "See the caveats in the documentation: https://pandas.pydata.org/pandas-docs/stable/user_guide/indexing.html#returning-a-view-versus-a-copy\n",
      "\n",
      "  self.matrix[x][y] = 1\n",
      "c:\\Users\\kuche\\anaconda3\\Lib\\site-packages\\association_metrics\\categorical.py:104: FutureWarning: ChainedAssignmentError: behaviour will change in pandas 3.0!\n",
      "You are setting values through chained assignment. Currently this works in certain cases, but when using Copy-on-Write (which will become the default behaviour in pandas 3.0) this will never work to update the original DataFrame or Series, because the intermediate object on which we are setting values will behave as a copy.\n",
      "A typical example is when you are setting values in a column of a DataFrame, like:\n",
      "\n",
      "df[\"col\"][row_indexer] = value\n",
      "\n",
      "Use `df.loc[row_indexer, \"col\"] = values` instead, to perform the assignment in a single step and ensure this keeps updating the original `df`.\n",
      "\n",
      "See the caveats in the documentation: https://pandas.pydata.org/pandas-docs/stable/user_guide/indexing.html#returning-a-view-versus-a-copy\n",
      "\n",
      "  self.matrix[x][y] = value\n",
      "c:\\Users\\kuche\\anaconda3\\Lib\\site-packages\\association_metrics\\categorical.py:105: FutureWarning: ChainedAssignmentError: behaviour will change in pandas 3.0!\n",
      "You are setting values through chained assignment. Currently this works in certain cases, but when using Copy-on-Write (which will become the default behaviour in pandas 3.0) this will never work to update the original DataFrame or Series, because the intermediate object on which we are setting values will behave as a copy.\n",
      "A typical example is when you are setting values in a column of a DataFrame, like:\n",
      "\n",
      "df[\"col\"][row_indexer] = value\n",
      "\n",
      "Use `df.loc[row_indexer, \"col\"] = values` instead, to perform the assignment in a single step and ensure this keeps updating the original `df`.\n",
      "\n",
      "See the caveats in the documentation: https://pandas.pydata.org/pandas-docs/stable/user_guide/indexing.html#returning-a-view-versus-a-copy\n",
      "\n",
      "  self.matrix[y][x] = value\n",
      "c:\\Users\\kuche\\anaconda3\\Lib\\site-packages\\association_metrics\\categorical.py:104: FutureWarning: ChainedAssignmentError: behaviour will change in pandas 3.0!\n",
      "You are setting values through chained assignment. Currently this works in certain cases, but when using Copy-on-Write (which will become the default behaviour in pandas 3.0) this will never work to update the original DataFrame or Series, because the intermediate object on which we are setting values will behave as a copy.\n",
      "A typical example is when you are setting values in a column of a DataFrame, like:\n",
      "\n",
      "df[\"col\"][row_indexer] = value\n",
      "\n",
      "Use `df.loc[row_indexer, \"col\"] = values` instead, to perform the assignment in a single step and ensure this keeps updating the original `df`.\n",
      "\n",
      "See the caveats in the documentation: https://pandas.pydata.org/pandas-docs/stable/user_guide/indexing.html#returning-a-view-versus-a-copy\n",
      "\n",
      "  self.matrix[x][y] = value\n",
      "c:\\Users\\kuche\\anaconda3\\Lib\\site-packages\\association_metrics\\categorical.py:105: FutureWarning: ChainedAssignmentError: behaviour will change in pandas 3.0!\n",
      "You are setting values through chained assignment. Currently this works in certain cases, but when using Copy-on-Write (which will become the default behaviour in pandas 3.0) this will never work to update the original DataFrame or Series, because the intermediate object on which we are setting values will behave as a copy.\n",
      "A typical example is when you are setting values in a column of a DataFrame, like:\n",
      "\n",
      "df[\"col\"][row_indexer] = value\n",
      "\n",
      "Use `df.loc[row_indexer, \"col\"] = values` instead, to perform the assignment in a single step and ensure this keeps updating the original `df`.\n",
      "\n",
      "See the caveats in the documentation: https://pandas.pydata.org/pandas-docs/stable/user_guide/indexing.html#returning-a-view-versus-a-copy\n",
      "\n",
      "  self.matrix[y][x] = value\n",
      "c:\\Users\\kuche\\anaconda3\\Lib\\site-packages\\association_metrics\\categorical.py:100: FutureWarning: ChainedAssignmentError: behaviour will change in pandas 3.0!\n",
      "You are setting values through chained assignment. Currently this works in certain cases, but when using Copy-on-Write (which will become the default behaviour in pandas 3.0) this will never work to update the original DataFrame or Series, because the intermediate object on which we are setting values will behave as a copy.\n",
      "A typical example is when you are setting values in a column of a DataFrame, like:\n",
      "\n",
      "df[\"col\"][row_indexer] = value\n",
      "\n",
      "Use `df.loc[row_indexer, \"col\"] = values` instead, to perform the assignment in a single step and ensure this keeps updating the original `df`.\n",
      "\n",
      "See the caveats in the documentation: https://pandas.pydata.org/pandas-docs/stable/user_guide/indexing.html#returning-a-view-versus-a-copy\n",
      "\n",
      "  self.matrix[x][y] = 1\n",
      "c:\\Users\\kuche\\anaconda3\\Lib\\site-packages\\association_metrics\\categorical.py:104: FutureWarning: ChainedAssignmentError: behaviour will change in pandas 3.0!\n",
      "You are setting values through chained assignment. Currently this works in certain cases, but when using Copy-on-Write (which will become the default behaviour in pandas 3.0) this will never work to update the original DataFrame or Series, because the intermediate object on which we are setting values will behave as a copy.\n",
      "A typical example is when you are setting values in a column of a DataFrame, like:\n",
      "\n",
      "df[\"col\"][row_indexer] = value\n",
      "\n",
      "Use `df.loc[row_indexer, \"col\"] = values` instead, to perform the assignment in a single step and ensure this keeps updating the original `df`.\n",
      "\n",
      "See the caveats in the documentation: https://pandas.pydata.org/pandas-docs/stable/user_guide/indexing.html#returning-a-view-versus-a-copy\n",
      "\n",
      "  self.matrix[x][y] = value\n",
      "c:\\Users\\kuche\\anaconda3\\Lib\\site-packages\\association_metrics\\categorical.py:105: FutureWarning: ChainedAssignmentError: behaviour will change in pandas 3.0!\n",
      "You are setting values through chained assignment. Currently this works in certain cases, but when using Copy-on-Write (which will become the default behaviour in pandas 3.0) this will never work to update the original DataFrame or Series, because the intermediate object on which we are setting values will behave as a copy.\n",
      "A typical example is when you are setting values in a column of a DataFrame, like:\n",
      "\n",
      "df[\"col\"][row_indexer] = value\n",
      "\n",
      "Use `df.loc[row_indexer, \"col\"] = values` instead, to perform the assignment in a single step and ensure this keeps updating the original `df`.\n",
      "\n",
      "See the caveats in the documentation: https://pandas.pydata.org/pandas-docs/stable/user_guide/indexing.html#returning-a-view-versus-a-copy\n",
      "\n",
      "  self.matrix[y][x] = value\n",
      "c:\\Users\\kuche\\anaconda3\\Lib\\site-packages\\association_metrics\\categorical.py:100: FutureWarning: ChainedAssignmentError: behaviour will change in pandas 3.0!\n",
      "You are setting values through chained assignment. Currently this works in certain cases, but when using Copy-on-Write (which will become the default behaviour in pandas 3.0) this will never work to update the original DataFrame or Series, because the intermediate object on which we are setting values will behave as a copy.\n",
      "A typical example is when you are setting values in a column of a DataFrame, like:\n",
      "\n",
      "df[\"col\"][row_indexer] = value\n",
      "\n",
      "Use `df.loc[row_indexer, \"col\"] = values` instead, to perform the assignment in a single step and ensure this keeps updating the original `df`.\n",
      "\n",
      "See the caveats in the documentation: https://pandas.pydata.org/pandas-docs/stable/user_guide/indexing.html#returning-a-view-versus-a-copy\n",
      "\n",
      "  self.matrix[x][y] = 1\n"
     ]
    },
    {
     "data": {
      "text/html": [
       "<div>\n",
       "<style scoped>\n",
       "    .dataframe tbody tr th:only-of-type {\n",
       "        vertical-align: middle;\n",
       "    }\n",
       "\n",
       "    .dataframe tbody tr th {\n",
       "        vertical-align: top;\n",
       "    }\n",
       "\n",
       "    .dataframe thead th {\n",
       "        text-align: right;\n",
       "    }\n",
       "</style>\n",
       "<table border=\"1\" class=\"dataframe\">\n",
       "  <thead>\n",
       "    <tr style=\"text-align: right;\">\n",
       "      <th></th>\n",
       "      <th>Company</th>\n",
       "      <th>Specific Bean Origin</th>\n",
       "      <th>Cocoa Percent</th>\n",
       "      <th>Company Location</th>\n",
       "      <th>Bean Type</th>\n",
       "      <th>Broad Bean Origin</th>\n",
       "    </tr>\n",
       "  </thead>\n",
       "  <tbody>\n",
       "    <tr>\n",
       "      <th>Company</th>\n",
       "      <td>1.000000</td>\n",
       "      <td>0.771180</td>\n",
       "      <td>0.631741</td>\n",
       "      <td>0.999651</td>\n",
       "      <td>0.616975</td>\n",
       "      <td>0.607303</td>\n",
       "    </tr>\n",
       "    <tr>\n",
       "      <th>Specific Bean Origin</th>\n",
       "      <td>0.771180</td>\n",
       "      <td>1.000000</td>\n",
       "      <td>0.773074</td>\n",
       "      <td>0.808513</td>\n",
       "      <td>0.907951</td>\n",
       "      <td>0.983334</td>\n",
       "    </tr>\n",
       "    <tr>\n",
       "      <th>Cocoa Percent</th>\n",
       "      <td>0.631741</td>\n",
       "      <td>0.773074</td>\n",
       "      <td>1.000000</td>\n",
       "      <td>0.243831</td>\n",
       "      <td>0.158698</td>\n",
       "      <td>0.266361</td>\n",
       "    </tr>\n",
       "    <tr>\n",
       "      <th>Company Location</th>\n",
       "      <td>0.999651</td>\n",
       "      <td>0.808513</td>\n",
       "      <td>0.243831</td>\n",
       "      <td>1.000000</td>\n",
       "      <td>0.291667</td>\n",
       "      <td>0.383039</td>\n",
       "    </tr>\n",
       "    <tr>\n",
       "      <th>Bean Type</th>\n",
       "      <td>0.616975</td>\n",
       "      <td>0.907951</td>\n",
       "      <td>0.158698</td>\n",
       "      <td>0.291667</td>\n",
       "      <td>1.000000</td>\n",
       "      <td>0.388294</td>\n",
       "    </tr>\n",
       "    <tr>\n",
       "      <th>Broad Bean Origin</th>\n",
       "      <td>0.607303</td>\n",
       "      <td>0.983334</td>\n",
       "      <td>0.266361</td>\n",
       "      <td>0.383039</td>\n",
       "      <td>0.388294</td>\n",
       "      <td>1.000000</td>\n",
       "    </tr>\n",
       "  </tbody>\n",
       "</table>\n",
       "</div>"
      ],
      "text/plain": [
       "                       Company  Specific Bean Origin  Cocoa Percent  \\\n",
       "Company               1.000000              0.771180       0.631741   \n",
       "Specific Bean Origin  0.771180              1.000000       0.773074   \n",
       "Cocoa Percent         0.631741              0.773074       1.000000   \n",
       "Company Location      0.999651              0.808513       0.243831   \n",
       "Bean Type             0.616975              0.907951       0.158698   \n",
       "Broad Bean Origin     0.607303              0.983334       0.266361   \n",
       "\n",
       "                      Company Location  Bean Type  Broad Bean Origin  \n",
       "Company                       0.999651   0.616975           0.607303  \n",
       "Specific Bean Origin          0.808513   0.907951           0.983334  \n",
       "Cocoa Percent                 0.243831   0.158698           0.266361  \n",
       "Company Location              1.000000   0.291667           0.383039  \n",
       "Bean Type                     0.291667   1.000000           0.388294  \n",
       "Broad Bean Origin             0.383039   0.388294           1.000000  "
      ]
     },
     "execution_count": 10,
     "metadata": {},
     "output_type": "execute_result"
    }
   ],
   "source": [
    "XC = data.apply(lambda x: x.astype(\"category\") if x.dtype == \"object\" else x)\n",
    "\n",
    "cramersv = am.CramersV(XC)\n",
    "cramersv.fit()"
   ]
  },
  {
   "cell_type": "markdown",
   "id": "b4d8877c",
   "metadata": {},
   "source": [
    "Удаляем столбцы 'Company Location' и 'Review', так как они не информативны"
   ]
  },
  {
   "cell_type": "code",
   "execution_count": 11,
   "id": "ae9141cc",
   "metadata": {},
   "outputs": [],
   "source": [
    "data.drop(['Specific Bean Origin', 'Review'], axis = 1, inplace = True)"
   ]
  },
  {
   "cell_type": "code",
   "execution_count": 12,
   "id": "28c7959f",
   "metadata": {},
   "outputs": [],
   "source": [
    "numeric_columns = data.select_dtypes(include=['number']).columns\n",
    "categorical_columns = data.select_dtypes(exclude=['number']).columns"
   ]
  },
  {
   "cell_type": "code",
   "execution_count": 13,
   "id": "61353c13",
   "metadata": {},
   "outputs": [
    {
     "name": "stdout",
     "output_type": "stream",
     "text": [
      "REF\n"
     ]
    },
    {
     "data": {
      "image/png": "[encoded data removed]",
      "text/plain": [
       "<Figure size 640x480 with 1 Axes>"
      ]
     },
     "metadata": {},
     "output_type": "display_data"
    },
    {
     "name": "stdout",
     "output_type": "stream",
     "text": [
      "Rating\n"
     ]
    },
    {
     "data": {
      "image/png": "[encoded data removed]",
      "text/plain": [
       "<Figure size 640x480 with 1 Axes>"
      ]
     },
     "metadata": {},
     "output_type": "display_data"
    }
   ],
   "source": [
    "for column in numeric_columns:\n",
    "    print(column)\n",
    "    sb.boxplot(data[column])\n",
    "    plt.show()"
   ]
  },
  {
   "cell_type": "markdown",
   "id": "8cdcef1a",
   "metadata": {},
   "source": [
    "Избавляемся от выбросов в целевой переменной"
   ]
  },
  {
   "cell_type": "code",
   "execution_count": 14,
   "id": "d1719f7a",
   "metadata": {},
   "outputs": [],
   "source": [
    "data = data.loc[(data['Rating'] > 1.5) & (data['Rating'] < 5)]"
   ]
  },
  {
   "cell_type": "code",
   "execution_count": 15,
   "id": "1c3856e1",
   "metadata": {},
   "outputs": [
    {
     "name": "stdout",
     "output_type": "stream",
     "text": [
      "Company 0\n",
      "REF 0\n",
      "Cocoa Percent 0\n",
      "Company Location 0\n",
      "Rating 0\n",
      "Bean Type 621\n",
      "Broad Bean Origin 49\n"
     ]
    }
   ],
   "source": [
    "for c in data.columns:\n",
    "    print(c, len(data[data[c] == '\\xa0']))"
   ]
  },
  {
   "cell_type": "code",
   "execution_count": 16,
   "id": "e6b32b46",
   "metadata": {},
   "outputs": [],
   "source": [
    "data['Broad Bean Origin'] = data['Broad Bean Origin'].replace('\\xa0', 'Without')"
   ]
  },
  {
   "cell_type": "code",
   "execution_count": 17,
   "id": "9d09191c",
   "metadata": {},
   "outputs": [
    {
     "data": {
      "text/plain": [
       "Bean Type\n",
       "Without                     621\n",
       "Trinitario                  283\n",
       "Criollo                     104\n",
       "Forastero                    52\n",
       "Forastero (Nacional)         34\n",
       "Criollo, Trinitario          32\n",
       "Forastero (Arriba)           30\n",
       "Blend                        27\n",
       "Criollo (Porcelana)           9\n",
       "Forastero (Parazinho)         8\n",
       "Forastero (Arriba) ASS        6\n",
       "Trinitario, Criollo           3\n",
       "Nacional (Arriba)             3\n",
       "Forastero (Catongo)           2\n",
       "Criollo, Forastero            2\n",
       "Criollo (Amarru)              2\n",
       "Trinitario, Forastero         2\n",
       "Trinitario (Amelonado)        1\n",
       "Amazon mix                    1\n",
       "Trinitario, Nacional          1\n",
       "Forastero (Amelonado)         1\n",
       "Criollo (Ocumare 67)          1\n",
       "Blend-Forastero,Criollo       1\n",
       "Forastero, Trinitario         1\n",
       "Criollo (Ocumare 61)          1\n",
       "Trinitario (85% Criollo)      1\n",
       "EET                           1\n",
       "Amazon                        1\n",
       "Criollo (Wild)                1\n",
       "Matina                        1\n",
       "Criollo, +                    1\n",
       "Criollo (Ocumare)             1\n",
       "Nacional                      1\n",
       "Amazon, ICS                   1\n",
       "Criollo (Ocumare 77)          1\n",
       "Trinitario, TCGA              1\n",
       "Forastero(Arriba, CCN)        1\n",
       "Forastero (Arriba) ASSS       1\n",
       "Name: count, dtype: int64"
      ]
     },
     "execution_count": 17,
     "metadata": {},
     "output_type": "execute_result"
    }
   ],
   "source": [
    "data['Bean Type'] = data['Bean Type'].replace('\\xa0', 'Without')\n",
    "data['Bean Type'].value_counts()"
   ]
  },
  {
   "cell_type": "code",
   "execution_count": 18,
   "id": "99554789",
   "metadata": {},
   "outputs": [
    {
     "data": {
      "text/plain": [
       "Broad Bean Origin\n",
       "Venezuela               143\n",
       "Ecuador                 139\n",
       "Peru                    121\n",
       "Dominican Republic      104\n",
       "Madagascar              103\n",
       "                       ... \n",
       "Peru, Belize              1\n",
       "Principe                  1\n",
       "Venezuela, Ghana          1\n",
       "Ven.,Ecu.,Peru,Nic.       1\n",
       "Venezuela, Carribean      1\n",
       "Name: count, Length: 83, dtype: int64"
      ]
     },
     "execution_count": 18,
     "metadata": {},
     "output_type": "execute_result"
    }
   ],
   "source": [
    "data['Broad Bean Origin'].value_counts()"
   ]
  },
  {
   "cell_type": "code",
   "execution_count": 19,
   "id": "905d7948",
   "metadata": {},
   "outputs": [],
   "source": [
    "data['Broad Bean Origin'] = data['Broad Bean Origin'].replace('\\xa0', -999)"
   ]
  },
  {
   "cell_type": "code",
   "execution_count": 20,
   "id": "af811234",
   "metadata": {},
   "outputs": [],
   "source": [
    "data['Cocoa Percent'] = data['Cocoa Percent'].apply(lambda x: float(x[0:-1]))"
   ]
  },
  {
   "cell_type": "markdown",
   "id": "ad73b351",
   "metadata": {},
   "source": [
    "Заменяю столбец 'Cocoa Percent' на категориальный следующим образом\n",
    "от 90 до 100 - очень темный шоколад\n",
    "от 70 до 90 - горький\n",
    "от 53 до 70 -темный\n",
    "меньше 53 - молочный"
   ]
  },
  {
   "cell_type": "code",
   "execution_count": 21,
   "id": "f3585a9f",
   "metadata": {},
   "outputs": [],
   "source": [
    "\n",
    "data['Cocoa Percent'] = data['Cocoa Percent'].replace(np.arange(90, 100.5, 0.5), 'Ultra Dark')\n",
    "data['Cocoa Percent'] = data['Cocoa Percent'].replace(np.arange(70, 90, 0.5), 'Bitter')\n",
    "data['Cocoa Percent'] = data['Cocoa Percent'].replace(np.arange(53, 70, 0.5), 'Dark')\n",
    "data['Cocoa Percent'] = data['Cocoa Percent'].replace(np.arange(0, 53, 0.5), 'Milk')\n",
    "data = data.loc[data['Cocoa Percent'] != 'Milk']\n",
    "# Убираем молочный шоколад, так как его всего 2"
   ]
  },
  {
   "cell_type": "code",
   "execution_count": 22,
   "id": "3d726aa8",
   "metadata": {},
   "outputs": [],
   "source": [
    "data = pd.get_dummies(data, columns = ['Cocoa Percent'])"
   ]
  },
  {
   "cell_type": "code",
   "execution_count": 23,
   "id": "85e4e3e0",
   "metadata": {},
   "outputs": [],
   "source": [
    "categorical_columns = data.select_dtypes(exclude=['number']).columns"
   ]
  },
  {
   "cell_type": "markdown",
   "id": "f331e76f",
   "metadata": {},
   "source": [
    "В столбце заменяю те записи, в которых несколько стран пречислены через запятую и точку с запятой на 'Combined'"
   ]
  },
  {
   "cell_type": "code",
   "execution_count": 24,
   "id": "13f941d9",
   "metadata": {},
   "outputs": [],
   "source": [
    "data['Broad Bean Origin'] = data['Broad Bean Origin'].apply(lambda x: 'Combined' if len(x.split(\", \")) >= 2 or len(x.split(\"., \")) >= 2 else x)"
   ]
  },
  {
   "cell_type": "code",
   "execution_count": 25,
   "id": "50a23f9a",
   "metadata": {},
   "outputs": [],
   "source": [
    "arr = sorted(pd.cut(data['REF'], 12 * 2).unique())\n",
    "data['REF'] = pd.cut(data['REF'], 12 * 2, labels=range(12 * 2))"
   ]
  },
  {
   "cell_type": "markdown",
   "id": "32f3c6df",
   "metadata": {},
   "source": [
    "Выделяем матрицу объект-признак и вектор с целевой переменной"
   ]
  },
  {
   "cell_type": "code",
   "execution_count": 26,
   "id": "f74394f0",
   "metadata": {},
   "outputs": [],
   "source": [
    "X = data.drop('Rating', axis=1)\n",
    "y = data['Rating']"
   ]
  },
  {
   "cell_type": "markdown",
   "id": "336a9f10",
   "metadata": {},
   "source": [
    "## Обучение модели"
   ]
  },
  {
   "cell_type": "markdown",
   "id": "71c29282",
   "metadata": {},
   "source": [
    "Устанавливаем катбуст и обучаем его с гиперпараметрами по умолчанию на всех данных"
   ]
  },
  {
   "cell_type": "code",
   "execution_count": 27,
   "id": "0e2fc6db",
   "metadata": {},
   "outputs": [],
   "source": [
    "\n",
    "# X_train, X_val, y_train, y_val = train_test_split(X, y, test_size=0.25, random_state=RANDOM_STATE)"
   ]
  },
  {
   "cell_type": "code",
   "execution_count": 28,
   "id": "b1bf5031",
   "metadata": {},
   "outputs": [],
   "source": [
    "# train_df_clean.dtypes"
   ]
  },
  {
   "cell_type": "code",
   "execution_count": 29,
   "id": "82f4864e",
   "metadata": {},
   "outputs": [],
   "source": [
    "# cat_features = [i for i, col in enumerate(X_train.columns) if X_train[col].dtype.name in ['category', 'object']]\n",
    "\n",
    "# for col in X_train.drop(X_train.columns[cat_features], axis=1):\n",
    "#     print(col)\n",
    "#     sns.boxplot(X_train[col])\n",
    "#     plt.show()\n",
    "# print('Target')\n",
    "# sns.boxplot(y)\n",
    "# plt.show()"
   ]
  },
  {
   "cell_type": "code",
   "execution_count": 30,
   "id": "dd7825ff",
   "metadata": {},
   "outputs": [
    {
     "name": "stdout",
     "output_type": "stream",
     "text": [
      "0.4713593747860788\n",
      "0.16541610913121696\n",
      "0.5282351306282349\n",
      "0.13328486458216604\n",
      "0.48547474278556313\n",
      "0.1229414804803125\n",
      "0.4624442232974352\n",
      "0.08662553782684168\n",
      "0.4636507518930362\n",
      "0.18738729357537864\n"
     ]
    }
   ],
   "source": [
    "for RANDOM_STATE in range(50, 251, 50):\n",
    "    X_train, X_val, y_train, y_val = train_test_split(X, y, test_size=0.25, random_state=RANDOM_STATE)\n",
    "    cat_features = [i for i, col in enumerate(X_train.columns) if X_train[col].dtype.name in ['category', 'object']]\n",
    "    model = CatBoostRegressor(cat_features=cat_features)\n",
    "    model.fit(X_train, y_train, verbose=False)\n",
    "    print(model.score(X_train, y_train))\n",
    "    pred = model.predict(X_val)\n",
    "\n",
    "    print(r2_score(y_val, pred))"
   ]
  },
  {
   "cell_type": "code",
   "execution_count": 31,
   "id": "d63b9360",
   "metadata": {},
   "outputs": [
    {
     "ename": "NameError",
     "evalue": "name 'stop' is not defined",
     "output_type": "error",
     "traceback": [
      "\u001b[1;31m---------------------------------------------------------------------------\u001b[0m",
      "\u001b[1;31mNameError\u001b[0m                                 Traceback (most recent call last)",
      "Cell \u001b[1;32mIn[31], line 1\u001b[0m\n\u001b[1;32m----> 1\u001b[0m stop\n",
      "\u001b[1;31mNameError\u001b[0m: name 'stop' is not defined"
     ]
    }
   ],
   "source": [
    "stop"
   ]
  },
  {
   "cell_type": "code",
   "execution_count": null,
   "id": "aad4cb79",
   "metadata": {},
   "outputs": [
    {
     "name": "stderr",
     "output_type": "stream",
     "text": [
      "[I 2025-05-09 21:41:58,728] A new study created in memory with name: no-name-dab9bc1d-35a4-4df6-8ae1-2c02387cd312\n",
      "[I 2025-05-09 21:52:14,737] Trial 0 finished with value: 0.06936963060427696 and parameters: {'learning_rate': 0.1873779640615753, 'n_estimators': 1201, 'depth': 14}. Best is trial 0 with value: 0.06936963060427696.\n",
      "[I 2025-05-09 21:52:22,732] Trial 1 finished with value: 0.06792876272525043 and parameters: {'learning_rate': 0.0778064575119498, 'n_estimators': 268, 'depth': 7}. Best is trial 0 with value: 0.06936963060427696.\n",
      "[I 2025-05-09 21:52:36,640] Trial 2 finished with value: 0.00356720006652389 and parameters: {'learning_rate': 0.11688005603918067, 'n_estimators': 531, 'depth': 7}. Best is trial 0 with value: 0.06936963060427696.\n",
      "[I 2025-05-09 21:52:38,437] Trial 3 finished with value: 0.08537361537096921 and parameters: {'learning_rate': 0.010316898198902703, 'n_estimators': 194, 'depth': 2}. Best is trial 3 with value: 0.08537361537096921.\n",
      "[I 2025-05-09 21:52:43,465] Trial 4 finished with value: 0.11352088184920832 and parameters: {'learning_rate': 0.035366012413945686, 'n_estimators': 422, 'depth': 3}. Best is trial 4 with value: 0.11352088184920832.\n",
      "[I 2025-05-09 21:52:46,577] Trial 5 finished with value: 0.0994912358206123 and parameters: {'learning_rate': 0.126757952517501, 'n_estimators': 437, 'depth': 2}. Best is trial 4 with value: 0.11352088184920832.\n",
      "[I 2025-05-09 21:52:54,007] Trial 6 finished with value: -0.01007363199541674 and parameters: {'learning_rate': 0.2272442462969035, 'n_estimators': 408, 'depth': 6}. Best is trial 4 with value: 0.11352088184920832.\n",
      "[I 2025-05-09 21:56:57,989] Trial 7 finished with value: 0.09420547230916747 and parameters: {'learning_rate': 0.02584102826381451, 'n_estimators': 859, 'depth': 13}. Best is trial 4 with value: 0.11352088184920832.\n",
      "[I 2025-05-09 21:57:02,485] Trial 8 finished with value: 0.061532823782451396 and parameters: {'learning_rate': 0.16693155284688452, 'n_estimators': 64, 'depth': 12}. Best is trial 4 with value: 0.11352088184920832.\n",
      "[I 2025-05-09 21:57:06,876] Trial 9 finished with value: 0.08439102103514921 and parameters: {'learning_rate': 0.015796354406249113, 'n_estimators': 113, 'depth': 9}. Best is trial 4 with value: 0.11352088184920832.\n",
      "[I 2025-05-09 21:57:16,994] Trial 10 finished with value: 0.09138996052964281 and parameters: {'learning_rate': 0.041734741822459294, 'n_estimators': 788, 'depth': 4}. Best is trial 4 with value: 0.11352088184920832.\n",
      "[I 2025-05-09 21:57:21,366] Trial 11 finished with value: 0.11326257951586689 and parameters: {'learning_rate': 0.05055915509996835, 'n_estimators': 581, 'depth': 2}. Best is trial 4 with value: 0.11352088184920832.\n",
      "[I 2025-05-09 21:57:34,058] Trial 12 finished with value: 0.0848586568053122 and parameters: {'learning_rate': 0.03994369253959697, 'n_estimators': 1103, 'depth': 4}. Best is trial 4 with value: 0.11352088184920832.\n",
      "[I 2025-05-09 22:21:46,336] Trial 13 finished with value: 0.08535703562259973 and parameters: {'learning_rate': 0.06626556514315546, 'n_estimators': 615, 'depth': 16}. Best is trial 4 with value: 0.11352088184920832.\n",
      "[I 2025-05-09 22:22:01,538] Trial 14 finished with value: 0.10314620337527043 and parameters: {'learning_rate': 0.02678226040914214, 'n_estimators': 934, 'depth': 4}. Best is trial 4 with value: 0.11352088184920832.\n"
     ]
    },
    {
     "name": "stdout",
     "output_type": "stream",
     "text": [
      "FrozenTrial(number=4, state=1, values=[0.11352088184920832], datetime_start=datetime.datetime(2025, 5, 9, 21, 52, 38, 437835), datetime_complete=datetime.datetime(2025, 5, 9, 21, 52, 43, 465536), params={'learning_rate': 0.035366012413945686, 'n_estimators': 422, 'depth': 3}, user_attrs={}, system_attrs={}, intermediate_values={}, distributions={'learning_rate': FloatDistribution(high=0.3, log=True, low=0.01, step=None), 'n_estimators': IntDistribution(high=1500, log=False, low=10, step=1), 'depth': IntDistribution(high=16, log=False, low=2, step=1)}, trial_id=4, value=None)\n"
     ]
    }
   ],
   "source": [
    "def objective(trial):\n",
    "    params = {\n",
    "        'learning_rate': trial.suggest_float('learning_rate', 0.01, 0.3, log=True),\n",
    "        'n_estimators': trial.suggest_int('n_estimators', 10, 1500),\n",
    "        'max_depth': trial.suggest_int('depth', 2, 16),\n",
    "        'verbose': 0,\n",
    "        'early_stopping_rounds': 50\n",
    "    }\n",
    "\n",
    "    estimator = CatBoostRegressor(**params, cat_features=cat_features)\n",
    "    estimator.fit(X_train, y_train, eval_set=(X_val, y_val), verbose=False)\n",
    "    return cross_val_score(estimator, X_train, y_train, cv=3, scoring='r2', n_jobs=5).mean()\n",
    "\n",
    "study = optuna.create_study(direction=\"maximize\")\n",
    "study.optimize(objective, n_trials=15)\n",
    "print(study.best_trial)"
   ]
  },
  {
   "cell_type": "code",
   "execution_count": null,
   "id": "e712b364",
   "metadata": {},
   "outputs": [
    {
     "data": {
      "text/plain": [
       "0.2065745930657895"
      ]
     },
     "execution_count": 32,
     "metadata": {},
     "output_type": "execute_result"
    }
   ],
   "source": [
    "hyper_param_model = CatBoostRegressor(**study.best_params, cat_features=cat_features, verbose=False)\n",
    "hyper_param_model.fit(X_train, y_train)\n",
    "cb_test_pred = hyper_param_model.predict(X_val)\n",
    "r2_score(y_val, cb_test_pred)\n",
    "# 0.22796892470738905"
   ]
  },
  {
   "cell_type": "code",
   "execution_count": null,
   "id": "6bc4fc23",
   "metadata": {},
   "outputs": [
    {
     "data": {
      "text/plain": [
       "0.3984330430979799"
      ]
     },
     "execution_count": 33,
     "metadata": {},
     "output_type": "execute_result"
    }
   ],
   "source": [
    "cb_train_pred = hyper_param_model.predict(X_train)\n",
    "r2_score(y_train, cb_train_pred)\n",
    "# 0.3794773884333069"
   ]
  },
  {
   "cell_type": "code",
   "execution_count": null,
   "id": "275f2249",
   "metadata": {},
   "outputs": [
    {
     "data": {
      "text/plain": [
       "0.3984330430979799"
      ]
     },
     "execution_count": 34,
     "metadata": {},
     "output_type": "execute_result"
    }
   ],
   "source": [
    "hyper_param_model.score(X_train, y_train)\n",
    "# 0.3794773884333069"
   ]
  },
  {
   "cell_type": "code",
   "execution_count": null,
   "id": "a0425816",
   "metadata": {},
   "outputs": [],
   "source": [
    "cat_cols = X_train.select_dtypes(include=['object', 'category']).columns\n",
    "\n",
    "X_train[cat_cols] = X_train[cat_cols].astype('object')\n",
    "X_val[cat_cols] = X_val[cat_cols].astype('object')"
   ]
  },
  {
   "cell_type": "code",
   "execution_count": null,
   "id": "efbe9add",
   "metadata": {},
   "outputs": [
    {
     "data": {
      "text/plain": [
       "Index(['Company', 'REF', 'Company Location', 'Bean Type', 'Broad Bean Origin'], dtype='object')"
      ]
     },
     "execution_count": 41,
     "metadata": {},
     "output_type": "execute_result"
    }
   ],
   "source": [
    "cat_cols"
   ]
  },
  {
   "cell_type": "code",
   "execution_count": null,
   "id": "7e49d96e",
   "metadata": {},
   "outputs": [
    {
     "name": "stdout",
     "output_type": "stream",
     "text": [
      "1 0.13839692121278824\n",
      "2 0.07479296609331298\n",
      "3 0.12415405370680899\n",
      "4 0.0747929660933132\n",
      "5 0.13839692121278857\n",
      "6 0.12415405370680921\n",
      "7 0.1597178044686497\n",
      "8 0.15971780446864958\n",
      "9 0.05070675343879261\n"
     ]
    }
   ],
   "source": [
    "p1 = Pipeline([\n",
    "    ('encoder_',TargetEncoder(cols=cat_cols)),\n",
    "    ('scaler_', StandardScaler()),\n",
    "    ('model_', LinearRegression())\n",
    "    ])\n",
    "\n",
    "p2 = Pipeline([\n",
    "    ('encoder_',TargetEncoder(cols=cat_cols, smoothing=1)),\n",
    "    ('scaler_', StandardScaler()),\n",
    "    ('model_', LinearRegression())\n",
    "    ])\n",
    "\n",
    "p3 = Pipeline([\n",
    "    ('encoder_',TargetEncoder(cols=cat_cols, smoothing=100)),\n",
    "    ('scaler_', StandardScaler()),\n",
    "    ('model_', LinearRegression())\n",
    "    ])\n",
    "\n",
    "p4 = Pipeline([\n",
    "    ('encoder_',TargetEncoder(cols=cat_cols, smoothing=1)),\n",
    "    ('scaler_', MinMaxScaler()),\n",
    "    ('model_', LinearRegression())\n",
    "    ])\n",
    "\n",
    "p5 = Pipeline([\n",
    "    ('encoder_',TargetEncoder(cols=cat_cols, smoothing=10)),\n",
    "    ('scaler_', MinMaxScaler()),\n",
    "    ('model_', LinearRegression())\n",
    "    ])\n",
    "\n",
    "p6 = Pipeline([\n",
    "    ('encoder_',TargetEncoder(cols=cat_cols, smoothing=100)),\n",
    "    ('scaler_', MinMaxScaler()),\n",
    "    ('model_', LinearRegression())\n",
    "    ])\n",
    "\n",
    "p7 = Pipeline([\n",
    "    ('encoder_',LeaveOneOutEncoder(cols=cat_cols)),\n",
    "    ('scaler_', StandardScaler()),\n",
    "    ('model_', LinearRegression())\n",
    "    ])\n",
    "\n",
    "p8 = Pipeline([\n",
    "    ('encoder_',LeaveOneOutEncoder(cols=cat_cols)),\n",
    "    ('scaler_', MinMaxScaler()),\n",
    "    ('model_', LinearRegression())\n",
    "    ])\n",
    "\n",
    "p9 = Pipeline([\n",
    "    ('encoder_',TargetEncoder(cols=cat_cols)),\n",
    "    ('scaler_', StandardScaler()),\n",
    "    ('model_', RandomForestRegressor(n_estimators=15, n_jobs=-1))\n",
    "    ])\n",
    "\n",
    "for i, p in enumerate([p1,p2,p3,p4,p5,p6,p7,p8,p9]):\n",
    "    p.fit(X_train, y_train)\n",
    "    pred = p.predict(X_val)\n",
    "    print(i + 1, r2_score(y_val, pred))"
   ]
  },
  {
   "cell_type": "code",
   "execution_count": null,
   "id": "a3b03027",
   "metadata": {},
   "outputs": [
    {
     "name": "stdout",
     "output_type": "stream",
     "text": [
      "1 0.09226589295702448\n",
      "2 0.21430447240122819\n",
      "3 0.12483545715586497\n",
      "4 0.1559370539427204\n",
      "5 0.09226589295702448\n",
      "6 0.12438173834891086\n",
      "7 -0.06378783534130394\n",
      "8 -0.0160911878202723\n"
     ]
    }
   ],
   "source": [
    "p11 = Pipeline([\n",
    "    ('encoder_',TargetEncoder(cols=cat_cols)),\n",
    "    ('scaler_', StandardScaler()),\n",
    "    ('model_', RandomForestRegressor(n_estimators=5, max_depth=3, random_state=42))\n",
    "    ])\n",
    "\n",
    "p12 = Pipeline([\n",
    "    ('encoder_',TargetEncoder(cols=cat_cols, smoothing=1)),\n",
    "    ('scaler_', StandardScaler()),\n",
    "    ('model_', RandomForestRegressor(n_estimators=10, max_depth=4, random_state=42))\n",
    "    ])\n",
    "\n",
    "p13 = Pipeline([\n",
    "    ('encoder_',TargetEncoder(cols=cat_cols, smoothing=100)),\n",
    "    ('scaler_', StandardScaler()),\n",
    "    ('model_', RandomForestRegressor(n_estimators=15, max_depth=6, random_state=42))\n",
    "    ])\n",
    "\n",
    "p14 = Pipeline([\n",
    "    ('encoder_',TargetEncoder(cols=cat_cols, smoothing=1)),\n",
    "    ('scaler_', MinMaxScaler()),\n",
    "    ('model_', RandomForestRegressor(n_estimators=10, max_depth=3, random_state=42))\n",
    "    ])\n",
    "\n",
    "p15 = Pipeline([\n",
    "    ('encoder_',TargetEncoder(cols=cat_cols, smoothing=10)),\n",
    "    ('scaler_', MinMaxScaler()),\n",
    "    ('model_', RandomForestRegressor(n_estimators=5, max_depth=3, random_state=42))\n",
    "    ])\n",
    "\n",
    "p16 = Pipeline([\n",
    "    ('encoder_',TargetEncoder(cols=cat_cols, smoothing=100)),\n",
    "    ('scaler_', MinMaxScaler()),\n",
    "    ('model_', RandomForestRegressor(n_estimators=11, max_depth=3, random_state=42))\n",
    "    ])\n",
    "\n",
    "p17 = Pipeline([\n",
    "    ('encoder_',LeaveOneOutEncoder(cols=cat_cols)),\n",
    "    ('scaler_', StandardScaler()),\n",
    "    ('model_', RandomForestRegressor(n_estimators=20, max_depth=3, random_state=42))\n",
    "    ])\n",
    "\n",
    "p18 = Pipeline([\n",
    "    ('encoder_',LeaveOneOutEncoder(cols=cat_cols)),\n",
    "    ('scaler_', MinMaxScaler()),\n",
    "    ('model_', RandomForestRegressor(n_estimators=22, max_depth=4, random_state=42))\n",
    "    ])\n",
    "\n",
    "for i, p in enumerate([p11,p12,p13,p14,p15,p16,p17,p18]):\n",
    "    p.fit(X_train, y_train)\n",
    "    pred = p.predict(X_val)\n",
    "    print(i + 1, r2_score(y_val, pred))"
   ]
  },
  {
   "cell_type": "code",
   "execution_count": null,
   "id": "a2d08074",
   "metadata": {},
   "outputs": [
    {
     "data": {
      "text/plain": [
       "0.23052004875154097"
      ]
     },
     "execution_count": 127,
     "metadata": {},
     "output_type": "execute_result"
    }
   ],
   "source": [
    "lr_pred = p12.predict(X_val)\n",
    "\n",
    "final_pred = 0.8 * cb_test_pred + 0.2 * lr_pred\n",
    "\n",
    "r2_score(y_val, final_pred)"
   ]
  },
  {
   "cell_type": "code",
   "execution_count": null,
   "id": "c4a47e80",
   "metadata": {},
   "outputs": [],
   "source": []
  },
  {
   "cell_type": "code",
   "execution_count": null,
   "id": "6c301677",
   "metadata": {},
   "outputs": [],
   "source": []
  },
  {
   "cell_type": "markdown",
   "id": "cde13018",
   "metadata": {},
   "source": [
    "Делаю обработку и предсказания на тестовых данных"
   ]
  },
  {
   "cell_type": "code",
   "execution_count": null,
   "id": "50654c43",
   "metadata": {},
   "outputs": [],
   "source": [
    "test_data = pd.read_csv(TEST)"
   ]
  },
  {
   "cell_type": "code",
   "execution_count": null,
   "id": "11ec4028",
   "metadata": {},
   "outputs": [
    {
     "name": "stdout",
     "output_type": "stream",
     "text": [
      "Company 0\n",
      "Specific Bean Origin 0\n",
      "REF 0\n",
      "Review 0\n",
      "Cocoa Percent 0\n",
      "Company Location 0\n",
      "Bean Type 259\n",
      "Broad Bean Origin 18\n"
     ]
    }
   ],
   "source": [
    "for c in test_data.columns:\n",
    "    print(c, len(test_data[test_data[c] == '\\xa0']))"
   ]
  },
  {
   "cell_type": "code",
   "execution_count": null,
   "id": "f68155b6",
   "metadata": {},
   "outputs": [],
   "source": [
    "test_data.drop(['Specific Bean Origin', 'Review'], axis = 1, inplace = True)"
   ]
  },
  {
   "cell_type": "code",
   "execution_count": null,
   "id": "97a82cec",
   "metadata": {},
   "outputs": [],
   "source": [
    "test_data['Cocoa Percent'] = test_data['Cocoa Percent'].apply(lambda x: float(x[0:-1]))"
   ]
  },
  {
   "cell_type": "code",
   "execution_count": null,
   "id": "2ba7af7d",
   "metadata": {},
   "outputs": [],
   "source": [
    "# test_data.drop(['Company Location'], axis = 1, inplace = True)\n",
    "# test_data['Cocoa Percent'] = test_data['Cocoa Percent'].apply(lambda x: float(x[0:-1]))\n",
    "test_data['Cocoa Percent'] = test_data['Cocoa Percent'].replace(np.arange(90, 100.5, 0.5), 'Ultra Dark')\n",
    "test_data['Cocoa Percent'] = test_data['Cocoa Percent'].replace(np.arange(70, 90, 0.5), 'Bitter')\n",
    "test_data['Cocoa Percent'] = test_data['Cocoa Percent'].replace(np.arange(53, 70, 0.5), 'Dark')\n",
    "test_data['Cocoa Percent'] = test_data['Cocoa Percent'].replace(np.arange(0, 53, 0.5), 'Milk')\n"
   ]
  },
  {
   "cell_type": "code",
   "execution_count": null,
   "id": "92535eee",
   "metadata": {},
   "outputs": [],
   "source": [
    "test_data['Broad Bean Origin'] = test_data['Broad Bean Origin'].apply(lambda x: 'Combined' if len(x.split(\", \")) >= 2 or len(x.split(\"., \")) >= 2 else x)"
   ]
  },
  {
   "cell_type": "code",
   "execution_count": null,
   "id": "3fb50675",
   "metadata": {},
   "outputs": [],
   "source": [
    "test_data['Broad Bean Origin'] = test_data['Broad Bean Origin'].replace('\\xa0', 'Venezuela')"
   ]
  },
  {
   "cell_type": "code",
   "execution_count": null,
   "id": "f4b0304c",
   "metadata": {},
   "outputs": [],
   "source": [
    "def REF_transform(x):\n",
    "    for n, inerval in enumerate(arr, 1):\n",
    "        if x in inerval:\n",
    "            return n\n",
    "        \n",
    "test_data['REF'] = test_data['REF'].apply(REF_transform)"
   ]
  },
  {
   "cell_type": "code",
   "execution_count": null,
   "id": "c59eed35",
   "metadata": {},
   "outputs": [],
   "source": [
    "test_data = pd.get_dummies(test_data, columns = ['Cocoa Percent'])"
   ]
  },
  {
   "cell_type": "code",
   "execution_count": null,
   "id": "8437696b",
   "metadata": {},
   "outputs": [],
   "source": [
    "test_data = test_data.drop('Cocoa Percent_Milk', axis=1)"
   ]
  },
  {
   "cell_type": "code",
   "execution_count": null,
   "id": "28b75a39",
   "metadata": {},
   "outputs": [
    {
     "data": {
      "text/html": [
       "<div>\n",
       "<style scoped>\n",
       "    .dataframe tbody tr th:only-of-type {\n",
       "        vertical-align: middle;\n",
       "    }\n",
       "\n",
       "    .dataframe tbody tr th {\n",
       "        vertical-align: top;\n",
       "    }\n",
       "\n",
       "    .dataframe thead th {\n",
       "        text-align: right;\n",
       "    }\n",
       "</style>\n",
       "<table border=\"1\" class=\"dataframe\">\n",
       "  <thead>\n",
       "    <tr style=\"text-align: right;\">\n",
       "      <th></th>\n",
       "      <th>Company</th>\n",
       "      <th>REF</th>\n",
       "      <th>Company Location</th>\n",
       "      <th>Bean Type</th>\n",
       "      <th>Broad Bean Origin</th>\n",
       "      <th>Cocoa Percent_Bitter</th>\n",
       "      <th>Cocoa Percent_Dark</th>\n",
       "      <th>Cocoa Percent_Ultra Dark</th>\n",
       "    </tr>\n",
       "  </thead>\n",
       "  <tbody>\n",
       "    <tr>\n",
       "      <th>765</th>\n",
       "      <td>Vicuna</td>\n",
       "      <td>18</td>\n",
       "      <td>U.S.A.</td>\n",
       "      <td>Without</td>\n",
       "      <td>Bolivia</td>\n",
       "      <td>True</td>\n",
       "      <td>False</td>\n",
       "      <td>False</td>\n",
       "    </tr>\n",
       "  </tbody>\n",
       "</table>\n",
       "</div>"
      ],
      "text/plain": [
       "    Company REF Company Location Bean Type Broad Bean Origin  \\\n",
       "765  Vicuna  18           U.S.A.   Without           Bolivia   \n",
       "\n",
       "     Cocoa Percent_Bitter  Cocoa Percent_Dark  Cocoa Percent_Ultra Dark  \n",
       "765                  True               False                     False  "
      ]
     },
     "execution_count": 139,
     "metadata": {},
     "output_type": "execute_result"
    }
   ],
   "source": [
    "X_train.head(1)"
   ]
  },
  {
   "cell_type": "code",
   "execution_count": null,
   "id": "588ff766",
   "metadata": {},
   "outputs": [
    {
     "data": {
      "text/html": [
       "<div>\n",
       "<style scoped>\n",
       "    .dataframe tbody tr th:only-of-type {\n",
       "        vertical-align: middle;\n",
       "    }\n",
       "\n",
       "    .dataframe tbody tr th {\n",
       "        vertical-align: top;\n",
       "    }\n",
       "\n",
       "    .dataframe thead th {\n",
       "        text-align: right;\n",
       "    }\n",
       "</style>\n",
       "<table border=\"1\" class=\"dataframe\">\n",
       "  <thead>\n",
       "    <tr style=\"text-align: right;\">\n",
       "      <th></th>\n",
       "      <th>Company</th>\n",
       "      <th>REF</th>\n",
       "      <th>Company Location</th>\n",
       "      <th>Bean Type</th>\n",
       "      <th>Broad Bean Origin</th>\n",
       "      <th>Cocoa Percent_Bitter</th>\n",
       "      <th>Cocoa Percent_Dark</th>\n",
       "      <th>Cocoa Percent_Ultra Dark</th>\n",
       "    </tr>\n",
       "  </thead>\n",
       "  <tbody>\n",
       "    <tr>\n",
       "      <th>0</th>\n",
       "      <td>Ohiyo</td>\n",
       "      <td>20</td>\n",
       "      <td>U.S.A.</td>\n",
       "      <td>Trinitario</td>\n",
       "      <td>Trinidad</td>\n",
       "      <td>True</td>\n",
       "      <td>False</td>\n",
       "      <td>False</td>\n",
       "    </tr>\n",
       "  </tbody>\n",
       "</table>\n",
       "</div>"
      ],
      "text/plain": [
       "  Company  REF Company Location   Bean Type Broad Bean Origin  \\\n",
       "0   Ohiyo   20           U.S.A.  Trinitario          Trinidad   \n",
       "\n",
       "   Cocoa Percent_Bitter  Cocoa Percent_Dark  Cocoa Percent_Ultra Dark  \n",
       "0                  True               False                     False  "
      ]
     },
     "execution_count": 140,
     "metadata": {},
     "output_type": "execute_result"
    }
   ],
   "source": [
    "test_data.head(1)"
   ]
  },
  {
   "cell_type": "code",
   "execution_count": null,
   "id": "3e0e7b80",
   "metadata": {},
   "outputs": [],
   "source": []
  },
  {
   "cell_type": "code",
   "execution_count": null,
   "id": "0d01fa3f",
   "metadata": {},
   "outputs": [
    {
     "name": "stdout",
     "output_type": "stream",
     "text": [
      "<class 'pandas.core.frame.DataFrame'>\n",
      "RangeIndex: 540 entries, 0 to 539\n",
      "Data columns (total 8 columns):\n",
      " #   Column                    Non-Null Count  Dtype \n",
      "---  ------                    --------------  ----- \n",
      " 0   Company                   540 non-null    object\n",
      " 1   REF                       540 non-null    int64 \n",
      " 2   Company Location          540 non-null    object\n",
      " 3   Bean Type                 540 non-null    object\n",
      " 4   Broad Bean Origin         540 non-null    object\n",
      " 5   Cocoa Percent_Bitter      540 non-null    bool  \n",
      " 6   Cocoa Percent_Dark        540 non-null    bool  \n",
      " 7   Cocoa Percent_Ultra Dark  540 non-null    bool  \n",
      "dtypes: bool(3), int64(1), object(4)\n",
      "memory usage: 22.8+ KB\n"
     ]
    }
   ],
   "source": [
    "test_data.info()"
   ]
  },
  {
   "cell_type": "code",
   "execution_count": null,
   "id": "b4752fad",
   "metadata": {},
   "outputs": [],
   "source": [
    "y_pred = hyper_param_model.predict(test_data)\n",
    "lr_pred = p12.predict(test_data)\n",
    "y_pred_2 = 0.8* y_pred + 0.2 * lr_pred"
   ]
  },
  {
   "cell_type": "markdown",
   "id": "70a639a9",
   "metadata": {},
   "source": [
    "Делаем предсказание"
   ]
  },
  {
   "cell_type": "code",
   "execution_count": null,
   "id": "e69f2212",
   "metadata": {},
   "outputs": [
    {
     "name": "stdout",
     "output_type": "stream",
     "text": [
      "Company 37.59010987243796\n",
      "REF 20.66626123404656\n",
      "Company Location 10.694126674356898\n",
      "Bean Type 13.642162460257913\n",
      "Broad Bean Origin 9.524137972265784\n",
      "Cocoa Percent_Bitter 0.14277742886464145\n",
      "Cocoa Percent_Dark 1.348618727534898\n",
      "Cocoa Percent_Ultra Dark 6.391805630235385\n"
     ]
    }
   ],
   "source": [
    "for i,j in zip(hyper_param_model.feature_names_, hyper_param_model.feature_importances_):\n",
    "  print(i, j)"
   ]
  },
  {
   "cell_type": "markdown",
   "id": "7a2d13b3",
   "metadata": {},
   "source": [
    "Сохраняем предсказание в файл в нужном формате"
   ]
  },
  {
   "cell_type": "code",
   "execution_count": null,
   "id": "c43669ee",
   "metadata": {},
   "outputs": [],
   "source": [
    "test_data['id'] = np.arange(len(test_data))\n",
    "test_data['Rating'] = y_pred_2\n",
    "\n",
    "test_data[['id','Rating']].to_csv(\"choko_submission_6.csv\", index=False)"
   ]
  },
  {
   "cell_type": "code",
   "execution_count": null,
   "id": "893bad40",
   "metadata": {},
   "outputs": [],
   "source": []
  },
  {
   "cell_type": "code",
   "execution_count": null,
   "id": "02db5b60",
   "metadata": {},
   "outputs": [],
   "source": []
  }
 ],
 "metadata": {
  "kernelspec": {
   "display_name": "base",
   "language": "python",
   "name": "python3"
  },
  "language_info": {
   "codemirror_mode": {
    "name": "ipython",
    "version": 3
   },
   "file_extension": ".py",
   "mimetype": "text/x-python",
   "name": "python",
   "nbconvert_exporter": "python",
   "pygments_lexer": "ipython3",
   "version": "3.12.3"
  }
 },
 "nbformat": 4,
 "nbformat_minor": 5
}
