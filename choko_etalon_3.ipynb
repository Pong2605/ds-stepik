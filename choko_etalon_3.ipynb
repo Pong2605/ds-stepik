{
 "cells": [
  {
   "cell_type": "markdown",
   "id": "23051e99",
   "metadata": {
    "id": "6HMi8qdjx79-",
    "papermill": {
     "duration": 0.009147,
     "end_time": "2025-02-06T20:47:50.969353",
     "exception": false,
     "start_time": "2025-02-06T20:47:50.960206",
     "status": "completed"
    },
    "tags": []
   },
   "source": [
    "# уже не Baseline-решение"
   ]
  },
  {
   "cell_type": "markdown",
   "id": "0c25307f",
   "metadata": {
    "papermill": {
     "duration": 0.006999,
     "end_time": "2025-02-06T20:47:50.984154",
     "exception": false,
     "start_time": "2025-02-06T20:47:50.977155",
     "status": "completed"
    },
    "tags": []
   },
   "source": [
    "https://www.kaggle.com/artfultom"
   ]
  },
  {
   "cell_type": "markdown",
   "id": "0d694016",
   "metadata": {
    "id": "PqJfFxWo3NAh",
    "papermill": {
     "duration": 0.006944,
     "end_time": "2025-02-06T20:47:50.998285",
     "exception": false,
     "start_time": "2025-02-06T20:47:50.991341",
     "status": "completed"
    },
    "tags": []
   },
   "source": [
    "## Импорт библиотек, загрузка данных"
   ]
  },
  {
   "cell_type": "code",
   "execution_count": 1,
   "id": "6cb8a559",
   "metadata": {
    "execution": {
     "iopub.execute_input": "2025-02-06T20:47:51.014541Z",
     "iopub.status.busy": "2025-02-06T20:47:51.014195Z",
     "iopub.status.idle": "2025-02-06T20:48:02.941648Z",
     "shell.execute_reply": "2025-02-06T20:48:02.940286Z"
    },
    "papermill": {
     "duration": 11.937881,
     "end_time": "2025-02-06T20:48:02.943653",
     "exception": false,
     "start_time": "2025-02-06T20:47:51.005772",
     "status": "completed"
    },
    "tags": []
   },
   "outputs": [
    {
     "name": "stdout",
     "output_type": "stream",
     "text": [
      "Collecting association-metrics\r\n",
      "  Downloading association-metrics-0.0.1.tar.gz (3.2 kB)\r\n",
      "  Preparing metadata (setup.py) ... \u001b[?25l\u001b[?25hdone\r\n",
      "Building wheels for collected packages: association-metrics\r\n",
      "  Building wheel for association-metrics (setup.py) ... \u001b[?25l\u001b[?25hdone\r\n",
      "  Created wheel for association-metrics: filename=association_metrics-0.0.1-py3-none-any.whl size=3928 sha256=ed0eef12d5d6ca3f4df877c0fa432a2c29a6323d4d3ed297f6b279a6f1c5ffaf\r\n",
      "  Stored in directory: /root/.cache/pip/wheels/01/47/5f/4360ef6988df6f1b0c1857cab43334269110160bd97b716936\r\n",
      "Successfully built association-metrics\r\n",
      "Installing collected packages: association-metrics\r\n",
      "Successfully installed association-metrics-0.0.1\r\n",
      "Requirement already satisfied: catboost in /usr/local/lib/python3.10/dist-packages (1.2.7)\r\n",
      "Requirement already satisfied: graphviz in /usr/local/lib/python3.10/dist-packages (from catboost) (0.20.3)\r\n",
      "Requirement already satisfied: matplotlib in /usr/local/lib/python3.10/dist-packages (from catboost) (3.7.5)\r\n",
      "Requirement already satisfied: numpy<2.0,>=1.16.0 in /usr/local/lib/python3.10/dist-packages (from catboost) (1.26.4)\r\n",
      "Requirement already satisfied: pandas>=0.24 in /usr/local/lib/python3.10/dist-packages (from catboost) (2.2.2)\r\n",
      "Requirement already satisfied: scipy in /usr/local/lib/python3.10/dist-packages (from catboost) (1.13.1)\r\n",
      "Requirement already satisfied: plotly in /usr/local/lib/python3.10/dist-packages (from catboost) (5.24.1)\r\n",
      "Requirement already satisfied: six in /usr/local/lib/python3.10/dist-packages (from catboost) (1.17.0)\r\n",
      "Requirement already satisfied: mkl_fft in /usr/local/lib/python3.10/dist-packages (from numpy<2.0,>=1.16.0->catboost) (1.3.8)\r\n",
      "Requirement already satisfied: mkl_random in /usr/local/lib/python3.10/dist-packages (from numpy<2.0,>=1.16.0->catboost) (1.2.4)\r\n",
      "Requirement already satisfied: mkl_umath in /usr/local/lib/python3.10/dist-packages (from numpy<2.0,>=1.16.0->catboost) (0.1.1)\r\n",
      "Requirement already satisfied: mkl in /usr/local/lib/python3.10/dist-packages (from numpy<2.0,>=1.16.0->catboost) (2025.0.1)\r\n",
      "Requirement already satisfied: tbb4py in /usr/local/lib/python3.10/dist-packages (from numpy<2.0,>=1.16.0->catboost) (2022.0.0)\r\n",
      "Requirement already satisfied: mkl-service in /usr/local/lib/python3.10/dist-packages (from numpy<2.0,>=1.16.0->catboost) (2.4.1)\r\n",
      "Requirement already satisfied: python-dateutil>=2.8.2 in /usr/local/lib/python3.10/dist-packages (from pandas>=0.24->catboost) (2.8.2)\r\n",
      "Requirement already satisfied: pytz>=2020.1 in /usr/local/lib/python3.10/dist-packages (from pandas>=0.24->catboost) (2024.2)\r\n",
      "Requirement already satisfied: tzdata>=2022.7 in /usr/local/lib/python3.10/dist-packages (from pandas>=0.24->catboost) (2024.2)\r\n",
      "Requirement already satisfied: contourpy>=1.0.1 in /usr/local/lib/python3.10/dist-packages (from matplotlib->catboost) (1.3.1)\r\n",
      "Requirement already satisfied: cycler>=0.10 in /usr/local/lib/python3.10/dist-packages (from matplotlib->catboost) (0.12.1)\r\n",
      "Requirement already satisfied: fonttools>=4.22.0 in /usr/local/lib/python3.10/dist-packages (from matplotlib->catboost) (4.55.3)\r\n",
      "Requirement already satisfied: kiwisolver>=1.0.1 in /usr/local/lib/python3.10/dist-packages (from matplotlib->catboost) (1.4.7)\r\n",
      "Requirement already satisfied: packaging>=20.0 in /usr/local/lib/python3.10/dist-packages (from matplotlib->catboost) (24.2)\r\n",
      "Requirement already satisfied: pillow>=6.2.0 in /usr/local/lib/python3.10/dist-packages (from matplotlib->catboost) (11.0.0)\r\n",
      "Requirement already satisfied: pyparsing>=2.3.1 in /usr/local/lib/python3.10/dist-packages (from matplotlib->catboost) (3.2.0)\r\n",
      "Requirement already satisfied: tenacity>=6.2.0 in /usr/local/lib/python3.10/dist-packages (from plotly->catboost) (9.0.0)\r\n",
      "Requirement already satisfied: intel-openmp>=2024 in /usr/local/lib/python3.10/dist-packages (from mkl->numpy<2.0,>=1.16.0->catboost) (2024.2.0)\r\n",
      "Requirement already satisfied: tbb==2022.* in /usr/local/lib/python3.10/dist-packages (from mkl->numpy<2.0,>=1.16.0->catboost) (2022.0.0)\r\n",
      "Requirement already satisfied: tcmlib==1.* in /usr/local/lib/python3.10/dist-packages (from tbb==2022.*->mkl->numpy<2.0,>=1.16.0->catboost) (1.2.0)\r\n",
      "Requirement already satisfied: intel-cmplr-lib-rt in /usr/local/lib/python3.10/dist-packages (from mkl_umath->numpy<2.0,>=1.16.0->catboost) (2024.2.0)\r\n",
      "Requirement already satisfied: intel-cmplr-lib-ur==2024.2.0 in /usr/local/lib/python3.10/dist-packages (from intel-openmp>=2024->mkl->numpy<2.0,>=1.16.0->catboost) (2024.2.0)\r\n"
     ]
    }
   ],
   "source": [
    "!pip install association-metrics\n",
    "!pip install catboost"
   ]
  },
  {
   "cell_type": "code",
   "execution_count": 2,
   "id": "79dbd97d",
   "metadata": {
    "execution": {
     "iopub.execute_input": "2025-02-06T20:48:02.961348Z",
     "iopub.status.busy": "2025-02-06T20:48:02.960929Z",
     "iopub.status.idle": "2025-02-06T20:48:06.317838Z",
     "shell.execute_reply": "2025-02-06T20:48:06.316702Z"
    },
    "id": "XBVPSLy-3Gqt",
    "papermill": {
     "duration": 3.367842,
     "end_time": "2025-02-06T20:48:06.319757",
     "exception": false,
     "start_time": "2025-02-06T20:48:02.951915",
     "status": "completed"
    },
    "tags": []
   },
   "outputs": [],
   "source": [
    "import pandas as pd\n",
    "import numpy as np\n",
    "from sklearn.preprocessing import KBinsDiscretizer\n",
    "import association_metrics as am\n",
    "from catboost import CatBoostRegressor\n",
    "import matplotlib.pyplot as plt\n",
    "import seaborn as sns\n",
    "\n",
    "import warnings\n",
    "warnings.filterwarnings('ignore')"
   ]
  },
  {
   "cell_type": "code",
   "execution_count": 3,
   "id": "213c5be5",
   "metadata": {
    "execution": {
     "iopub.execute_input": "2025-02-06T20:48:06.337486Z",
     "iopub.status.busy": "2025-02-06T20:48:06.336933Z",
     "iopub.status.idle": "2025-02-06T20:48:06.341547Z",
     "shell.execute_reply": "2025-02-06T20:48:06.340525Z"
    },
    "id": "-_2mzgiX3USQ",
    "papermill": {
     "duration": 0.015281,
     "end_time": "2025-02-06T20:48:06.343253",
     "exception": false,
     "start_time": "2025-02-06T20:48:06.327972",
     "status": "completed"
    },
    "tags": []
   },
   "outputs": [],
   "source": [
    "TRAIN = \"https://raw.githubusercontent.com/evgpat/edu_stepik_practical_ml/main/datasets/chocolate_train.csv\"\n",
    "TEST = \"https://raw.githubusercontent.com/evgpat/edu_stepik_practical_ml/main/datasets/chocolate_test_new.csv\""
   ]
  },
  {
   "cell_type": "code",
   "execution_count": 4,
   "id": "61e6c2c7",
   "metadata": {
    "execution": {
     "iopub.execute_input": "2025-02-06T20:48:06.360661Z",
     "iopub.status.busy": "2025-02-06T20:48:06.360309Z",
     "iopub.status.idle": "2025-02-06T20:48:06.572160Z",
     "shell.execute_reply": "2025-02-06T20:48:06.571023Z"
    },
    "id": "-RR6A-W_3D_C",
    "papermill": {
     "duration": 0.222834,
     "end_time": "2025-02-06T20:48:06.574219",
     "exception": false,
     "start_time": "2025-02-06T20:48:06.351385",
     "status": "completed"
    },
    "tags": []
   },
   "outputs": [],
   "source": [
    "train_df = pd.read_csv(TRAIN)"
   ]
  },
  {
   "cell_type": "markdown",
   "id": "79e4881f",
   "metadata": {
    "id": "VuXd0Zvb4wrZ",
    "papermill": {
     "duration": 0.007619,
     "end_time": "2025-02-06T20:48:06.589983",
     "exception": false,
     "start_time": "2025-02-06T20:48:06.582364",
     "status": "completed"
    },
    "tags": []
   },
   "source": [
    "## Обзор данных, подготовка к обучению"
   ]
  },
  {
   "cell_type": "code",
   "execution_count": 5,
   "id": "92171767",
   "metadata": {
    "execution": {
     "iopub.execute_input": "2025-02-06T20:48:06.607076Z",
     "iopub.status.busy": "2025-02-06T20:48:06.606653Z",
     "iopub.status.idle": "2025-02-06T20:48:06.630688Z",
     "shell.execute_reply": "2025-02-06T20:48:06.629700Z"
    },
    "id": "MiVYgV1_5Qwn",
    "outputId": "52fe0c29-51ff-4fb1-b5ca-9c014819d701",
    "papermill": {
     "duration": 0.034762,
     "end_time": "2025-02-06T20:48:06.632513",
     "exception": false,
     "start_time": "2025-02-06T20:48:06.597751",
     "status": "completed"
    },
    "tags": []
   },
   "outputs": [
    {
     "data": {
      "text/html": [
       "<div>\n",
       "<style scoped>\n",
       "    .dataframe tbody tr th:only-of-type {\n",
       "        vertical-align: middle;\n",
       "    }\n",
       "\n",
       "    .dataframe tbody tr th {\n",
       "        vertical-align: top;\n",
       "    }\n",
       "\n",
       "    .dataframe thead th {\n",
       "        text-align: right;\n",
       "    }\n",
       "</style>\n",
       "<table border=\"1\" class=\"dataframe\">\n",
       "  <thead>\n",
       "    <tr style=\"text-align: right;\">\n",
       "      <th></th>\n",
       "      <th>Company</th>\n",
       "      <th>Specific Bean Origin</th>\n",
       "      <th>REF</th>\n",
       "      <th>Review</th>\n",
       "      <th>Cocoa Percent</th>\n",
       "      <th>Company Location</th>\n",
       "      <th>Rating</th>\n",
       "      <th>Bean Type</th>\n",
       "      <th>Broad Bean Origin</th>\n",
       "    </tr>\n",
       "  </thead>\n",
       "  <tbody>\n",
       "    <tr>\n",
       "      <th>0</th>\n",
       "      <td>Willie's Cacao</td>\n",
       "      <td>Rio Caribe</td>\n",
       "      <td>457</td>\n",
       "      <td>2009</td>\n",
       "      <td>72%</td>\n",
       "      <td>U.K.</td>\n",
       "      <td>3.25</td>\n",
       "      <td>Trinitario</td>\n",
       "      <td>Venezuela</td>\n",
       "    </tr>\n",
       "    <tr>\n",
       "      <th>1</th>\n",
       "      <td>Beschle (Felchlin)</td>\n",
       "      <td>Ocumare, Premier Cru, Quizas No. 2</td>\n",
       "      <td>508</td>\n",
       "      <td>2010</td>\n",
       "      <td>72%</td>\n",
       "      <td>Switzerland</td>\n",
       "      <td>3.50</td>\n",
       "      <td></td>\n",
       "      <td>Venezuela</td>\n",
       "    </tr>\n",
       "    <tr>\n",
       "      <th>2</th>\n",
       "      <td>Dark Forest</td>\n",
       "      <td>Tanzania</td>\n",
       "      <td>1554</td>\n",
       "      <td>2015</td>\n",
       "      <td>70%</td>\n",
       "      <td>U.S.A.</td>\n",
       "      <td>3.00</td>\n",
       "      <td></td>\n",
       "      <td>Tanzania</td>\n",
       "    </tr>\n",
       "    <tr>\n",
       "      <th>3</th>\n",
       "      <td>Brasstown aka It's Chocolate</td>\n",
       "      <td>Cooproagro</td>\n",
       "      <td>1125</td>\n",
       "      <td>2013</td>\n",
       "      <td>72%</td>\n",
       "      <td>U.S.A.</td>\n",
       "      <td>3.00</td>\n",
       "      <td>Trinitario</td>\n",
       "      <td>Dominican Republic</td>\n",
       "    </tr>\n",
       "    <tr>\n",
       "      <th>4</th>\n",
       "      <td>Pralus</td>\n",
       "      <td>Java, Indonesie</td>\n",
       "      <td>32</td>\n",
       "      <td>2006</td>\n",
       "      <td>75%</td>\n",
       "      <td>France</td>\n",
       "      <td>3.50</td>\n",
       "      <td>Criollo</td>\n",
       "      <td>Indonesia</td>\n",
       "    </tr>\n",
       "  </tbody>\n",
       "</table>\n",
       "</div>"
      ],
      "text/plain": [
       "                        Company                Specific Bean Origin   REF  \\\n",
       "0                Willie's Cacao                          Rio Caribe   457   \n",
       "1            Beschle (Felchlin)  Ocumare, Premier Cru, Quizas No. 2   508   \n",
       "2                   Dark Forest                            Tanzania  1554   \n",
       "3  Brasstown aka It's Chocolate                          Cooproagro  1125   \n",
       "4                        Pralus                     Java, Indonesie    32   \n",
       "\n",
       "   Review Cocoa Percent Company Location  Rating   Bean Type  \\\n",
       "0    2009           72%             U.K.    3.25  Trinitario   \n",
       "1    2010           72%      Switzerland    3.50               \n",
       "2    2015           70%           U.S.A.    3.00               \n",
       "3    2013           72%           U.S.A.    3.00  Trinitario   \n",
       "4    2006           75%           France    3.50     Criollo   \n",
       "\n",
       "    Broad Bean Origin  \n",
       "0           Venezuela  \n",
       "1           Venezuela  \n",
       "2            Tanzania  \n",
       "3  Dominican Republic  \n",
       "4           Indonesia  "
      ]
     },
     "execution_count": 5,
     "metadata": {},
     "output_type": "execute_result"
    }
   ],
   "source": [
    "train_df.head()"
   ]
  },
  {
   "cell_type": "code",
   "execution_count": 6,
   "id": "c388c7d1",
   "metadata": {
    "execution": {
     "iopub.execute_input": "2025-02-06T20:48:06.650509Z",
     "iopub.status.busy": "2025-02-06T20:48:06.650178Z",
     "iopub.status.idle": "2025-02-06T20:48:06.670824Z",
     "shell.execute_reply": "2025-02-06T20:48:06.669797Z"
    },
    "papermill": {
     "duration": 0.03159,
     "end_time": "2025-02-06T20:48:06.672507",
     "exception": false,
     "start_time": "2025-02-06T20:48:06.640917",
     "status": "completed"
    },
    "tags": []
   },
   "outputs": [
    {
     "data": {
      "text/html": [
       "<div>\n",
       "<style scoped>\n",
       "    .dataframe tbody tr th:only-of-type {\n",
       "        vertical-align: middle;\n",
       "    }\n",
       "\n",
       "    .dataframe tbody tr th {\n",
       "        vertical-align: top;\n",
       "    }\n",
       "\n",
       "    .dataframe thead th {\n",
       "        text-align: right;\n",
       "    }\n",
       "</style>\n",
       "<table border=\"1\" class=\"dataframe\">\n",
       "  <thead>\n",
       "    <tr style=\"text-align: right;\">\n",
       "      <th></th>\n",
       "      <th>REF</th>\n",
       "      <th>Review</th>\n",
       "      <th>Rating</th>\n",
       "    </tr>\n",
       "  </thead>\n",
       "  <tbody>\n",
       "    <tr>\n",
       "      <th>count</th>\n",
       "      <td>1255.000000</td>\n",
       "      <td>1255.000000</td>\n",
       "      <td>1255.000000</td>\n",
       "    </tr>\n",
       "    <tr>\n",
       "      <th>mean</th>\n",
       "      <td>1045.152191</td>\n",
       "      <td>2012.382470</td>\n",
       "      <td>3.176494</td>\n",
       "    </tr>\n",
       "    <tr>\n",
       "      <th>std</th>\n",
       "      <td>551.284249</td>\n",
       "      <td>2.922499</td>\n",
       "      <td>0.478948</td>\n",
       "    </tr>\n",
       "    <tr>\n",
       "      <th>min</th>\n",
       "      <td>5.000000</td>\n",
       "      <td>2006.000000</td>\n",
       "      <td>1.000000</td>\n",
       "    </tr>\n",
       "    <tr>\n",
       "      <th>25%</th>\n",
       "      <td>593.000000</td>\n",
       "      <td>2010.000000</td>\n",
       "      <td>2.750000</td>\n",
       "    </tr>\n",
       "    <tr>\n",
       "      <th>50%</th>\n",
       "      <td>1077.000000</td>\n",
       "      <td>2013.000000</td>\n",
       "      <td>3.250000</td>\n",
       "    </tr>\n",
       "    <tr>\n",
       "      <th>75%</th>\n",
       "      <td>1514.000000</td>\n",
       "      <td>2015.000000</td>\n",
       "      <td>3.500000</td>\n",
       "    </tr>\n",
       "    <tr>\n",
       "      <th>max</th>\n",
       "      <td>1952.000000</td>\n",
       "      <td>2017.000000</td>\n",
       "      <td>5.000000</td>\n",
       "    </tr>\n",
       "  </tbody>\n",
       "</table>\n",
       "</div>"
      ],
      "text/plain": [
       "               REF       Review       Rating\n",
       "count  1255.000000  1255.000000  1255.000000\n",
       "mean   1045.152191  2012.382470     3.176494\n",
       "std     551.284249     2.922499     0.478948\n",
       "min       5.000000  2006.000000     1.000000\n",
       "25%     593.000000  2010.000000     2.750000\n",
       "50%    1077.000000  2013.000000     3.250000\n",
       "75%    1514.000000  2015.000000     3.500000\n",
       "max    1952.000000  2017.000000     5.000000"
      ]
     },
     "execution_count": 6,
     "metadata": {},
     "output_type": "execute_result"
    }
   ],
   "source": [
    "train_df.describe()"
   ]
  },
  {
   "cell_type": "code",
   "execution_count": 7,
   "id": "78ca6a8a",
   "metadata": {
    "execution": {
     "iopub.execute_input": "2025-02-06T20:48:06.690861Z",
     "iopub.status.busy": "2025-02-06T20:48:06.690539Z",
     "iopub.status.idle": "2025-02-06T20:48:07.062549Z",
     "shell.execute_reply": "2025-02-06T20:48:07.061363Z"
    },
    "papermill": {
     "duration": 0.383335,
     "end_time": "2025-02-06T20:48:07.064486",
     "exception": false,
     "start_time": "2025-02-06T20:48:06.681151",
     "status": "completed"
    },
    "tags": []
   },
   "outputs": [
    {
     "data": {
      "image/png": "[encoded data removed]",
      "text/plain": [
       "<Figure size 800x600 with 2 Axes>"
      ]
     },
     "metadata": {},
     "output_type": "display_data"
    }
   ],
   "source": [
    "plt.figure(figsize=(8, 6))\n",
    "correlation_matrix = train_df.select_dtypes(include=['float64', 'int64']).corr()\n",
    "\n",
    "sns.heatmap(correlation_matrix, annot=True, cmap='coolwarm', center=0)\n",
    "plt.title('Корреляционная матрица')\n",
    "plt.tight_layout()\n",
    "plt.show()"
   ]
  },
  {
   "cell_type": "markdown",
   "id": "109390f4",
   "metadata": {
    "papermill": {
     "duration": 0.008821,
     "end_time": "2025-02-06T20:48:07.082421",
     "exception": false,
     "start_time": "2025-02-06T20:48:07.073600",
     "status": "completed"
    },
    "tags": []
   },
   "source": [
    "**Review или Ref я удалю позже**"
   ]
  },
  {
   "cell_type": "markdown",
   "id": "139a34a0",
   "metadata": {
    "id": "vmO4anS2yAr9",
    "papermill": {
     "duration": 0.008511,
     "end_time": "2025-02-06T20:48:07.099695",
     "exception": false,
     "start_time": "2025-02-06T20:48:07.091184",
     "status": "completed"
    },
    "tags": []
   },
   "source": [
    "Удаляем все строки с пропусками"
   ]
  },
  {
   "cell_type": "code",
   "execution_count": 8,
   "id": "65ae314d",
   "metadata": {
    "execution": {
     "iopub.execute_input": "2025-02-06T20:48:07.118998Z",
     "iopub.status.busy": "2025-02-06T20:48:07.118585Z",
     "iopub.status.idle": "2025-02-06T20:48:07.126302Z",
     "shell.execute_reply": "2025-02-06T20:48:07.125169Z"
    },
    "id": "YhykpDEprgj3",
    "papermill": {
     "duration": 0.019576,
     "end_time": "2025-02-06T20:48:07.128127",
     "exception": false,
     "start_time": "2025-02-06T20:48:07.108551",
     "status": "completed"
    },
    "tags": []
   },
   "outputs": [],
   "source": [
    "train_df.dropna(axis=0, inplace=True)"
   ]
  },
  {
   "cell_type": "markdown",
   "id": "8cf8e68d",
   "metadata": {
    "id": "LTFDmWziyFLY",
    "papermill": {
     "duration": 0.008868,
     "end_time": "2025-02-06T20:48:07.146654",
     "exception": false,
     "start_time": "2025-02-06T20:48:07.137786",
     "status": "completed"
    },
    "tags": []
   },
   "source": [
    "Выделяем матрицу объект-признак и вектор с целевой переменной"
   ]
  },
  {
   "cell_type": "code",
   "execution_count": 9,
   "id": "e78404d8",
   "metadata": {
    "execution": {
     "iopub.execute_input": "2025-02-06T20:48:07.167641Z",
     "iopub.status.busy": "2025-02-06T20:48:07.167248Z",
     "iopub.status.idle": "2025-02-06T20:48:07.175196Z",
     "shell.execute_reply": "2025-02-06T20:48:07.173994Z"
    },
    "id": "Xlfs7w8irPwX",
    "papermill": {
     "duration": 0.02084,
     "end_time": "2025-02-06T20:48:07.177243",
     "exception": false,
     "start_time": "2025-02-06T20:48:07.156403",
     "status": "completed"
    },
    "tags": []
   },
   "outputs": [],
   "source": [
    "y_train = train_df['Rating']\n",
    "X_train = train_df.drop('Rating', axis=1)"
   ]
  },
  {
   "cell_type": "markdown",
   "id": "4751e402",
   "metadata": {
    "papermill": {
     "duration": 0.008897,
     "end_time": "2025-02-06T20:48:07.195473",
     "exception": false,
     "start_time": "2025-02-06T20:48:07.186576",
     "status": "completed"
    },
    "tags": []
   },
   "source": [
    "Убираем пустые значения и преобразуем проценты в числовой столбец:"
   ]
  },
  {
   "cell_type": "code",
   "execution_count": 10,
   "id": "f3c1b32d",
   "metadata": {
    "execution": {
     "iopub.execute_input": "2025-02-06T20:48:07.214969Z",
     "iopub.status.busy": "2025-02-06T20:48:07.214615Z",
     "iopub.status.idle": "2025-02-06T20:48:07.234264Z",
     "shell.execute_reply": "2025-02-06T20:48:07.233000Z"
    },
    "papermill": {
     "duration": 0.031721,
     "end_time": "2025-02-06T20:48:07.236205",
     "exception": false,
     "start_time": "2025-02-06T20:48:07.204484",
     "status": "completed"
    },
    "tags": []
   },
   "outputs": [],
   "source": [
    "def clean(df):\n",
    "    _df = df.copy()\n",
    "    _df['Cocoa Percent_numeric'] = _df['Cocoa Percent'].str.rstrip('%').astype(float)\n",
    "    _df['Broad Bean Origin_cat'] = _df['Broad Bean Origin'].str.split(',', expand=True)[0].replace('\\xa0', np.nan)\n",
    "    _df['Bean Type_cat'] = _df['Bean Type'].str.split(r'[ ,(]', expand=True)[0].replace('\\xa0', np.nan)\n",
    "    _df['Specific Bean Origin_cat'] = _df['Specific Bean Origin'].str.split(',', expand=True)[0].replace('\\xa0', np.nan)\n",
    "    _df = _df.drop(['REF', 'Cocoa Percent', 'Bean Type', 'Broad Bean Origin', 'Specific Bean Origin'], axis=1)\n",
    "    return _df\n",
    "\n",
    "X_train_cleaned = clean(X_train)"
   ]
  },
  {
   "cell_type": "markdown",
   "id": "db9d2c57",
   "metadata": {
    "papermill": {
     "duration": 0.008768,
     "end_time": "2025-02-06T20:48:07.254117",
     "exception": false,
     "start_time": "2025-02-06T20:48:07.245349",
     "status": "completed"
    },
    "tags": []
   },
   "source": [
    "Биннинг процентов:"
   ]
  },
  {
   "cell_type": "code",
   "execution_count": 11,
   "id": "d78aab93",
   "metadata": {
    "execution": {
     "iopub.execute_input": "2025-02-06T20:48:07.273669Z",
     "iopub.status.busy": "2025-02-06T20:48:07.273291Z",
     "iopub.status.idle": "2025-02-06T20:48:07.800007Z",
     "shell.execute_reply": "2025-02-06T20:48:07.799163Z"
    },
    "papermill": {
     "duration": 0.538995,
     "end_time": "2025-02-06T20:48:07.802202",
     "exception": false,
     "start_time": "2025-02-06T20:48:07.263207",
     "status": "completed"
    },
    "tags": []
   },
   "outputs": [],
   "source": [
    "discretizer = KBinsDiscretizer(n_bins=11, encode='ordinal', strategy='kmeans', random_state=42)\n",
    "discretizer.fit(X_train_cleaned[['Cocoa Percent_numeric']])\n",
    "\n",
    "X_train_cleaned['Cocoa Percent_numeric_binned'] = discretizer.transform(X_train_cleaned[['Cocoa Percent_numeric']])\n",
    "X_train_cleaned.drop('Cocoa Percent_numeric', axis=1, inplace=True)"
   ]
  },
  {
   "cell_type": "code",
   "execution_count": 12,
   "id": "37365c24",
   "metadata": {
    "execution": {
     "iopub.execute_input": "2025-02-06T20:48:07.823518Z",
     "iopub.status.busy": "2025-02-06T20:48:07.823180Z",
     "iopub.status.idle": "2025-02-06T20:48:07.835902Z",
     "shell.execute_reply": "2025-02-06T20:48:07.834976Z"
    },
    "papermill": {
     "duration": 0.024234,
     "end_time": "2025-02-06T20:48:07.837577",
     "exception": false,
     "start_time": "2025-02-06T20:48:07.813343",
     "status": "completed"
    },
    "tags": []
   },
   "outputs": [
    {
     "data": {
      "text/plain": [
       "Cocoa Percent_numeric_binned\n",
       "4.0     520\n",
       "5.0     373\n",
       "3.0     115\n",
       "6.0      95\n",
       "2.0      57\n",
       "7.0      44\n",
       "10.0     15\n",
       "1.0      14\n",
       "9.0      10\n",
       "8.0       8\n",
       "0.0       2\n",
       "Name: count, dtype: int64"
      ]
     },
     "execution_count": 12,
     "metadata": {},
     "output_type": "execute_result"
    }
   ],
   "source": [
    "X_train_cleaned['Cocoa Percent_numeric_binned'].value_counts()"
   ]
  },
  {
   "cell_type": "code",
   "execution_count": 13,
   "id": "6f7e06d3",
   "metadata": {
    "execution": {
     "iopub.execute_input": "2025-02-06T20:48:07.857720Z",
     "iopub.status.busy": "2025-02-06T20:48:07.857304Z",
     "iopub.status.idle": "2025-02-06T20:48:08.146270Z",
     "shell.execute_reply": "2025-02-06T20:48:08.145004Z"
    },
    "papermill": {
     "duration": 0.300893,
     "end_time": "2025-02-06T20:48:08.147965",
     "exception": false,
     "start_time": "2025-02-06T20:48:07.847072",
     "status": "completed"
    },
    "tags": []
   },
   "outputs": [
    {
     "data": {
      "text/html": [
       "<div>\n",
       "<style scoped>\n",
       "    .dataframe tbody tr th:only-of-type {\n",
       "        vertical-align: middle;\n",
       "    }\n",
       "\n",
       "    .dataframe tbody tr th {\n",
       "        vertical-align: top;\n",
       "    }\n",
       "\n",
       "    .dataframe thead th {\n",
       "        text-align: right;\n",
       "    }\n",
       "</style>\n",
       "<table border=\"1\" class=\"dataframe\">\n",
       "  <thead>\n",
       "    <tr style=\"text-align: right;\">\n",
       "      <th></th>\n",
       "      <th>Company</th>\n",
       "      <th>Company Location</th>\n",
       "      <th>Broad Bean Origin_cat</th>\n",
       "      <th>Bean Type_cat</th>\n",
       "      <th>Specific Bean Origin_cat</th>\n",
       "    </tr>\n",
       "  </thead>\n",
       "  <tbody>\n",
       "    <tr>\n",
       "      <th>Company</th>\n",
       "      <td>1.000000</td>\n",
       "      <td>0.999651</td>\n",
       "      <td>0.633931</td>\n",
       "      <td>0.816914</td>\n",
       "      <td>0.653217</td>\n",
       "    </tr>\n",
       "    <tr>\n",
       "      <th>Company Location</th>\n",
       "      <td>0.999651</td>\n",
       "      <td>1.000000</td>\n",
       "      <td>0.378944</td>\n",
       "      <td>0.268613</td>\n",
       "      <td>0.735872</td>\n",
       "    </tr>\n",
       "    <tr>\n",
       "      <th>Broad Bean Origin_cat</th>\n",
       "      <td>0.633931</td>\n",
       "      <td>0.378944</td>\n",
       "      <td>1.000000</td>\n",
       "      <td>0.506266</td>\n",
       "      <td>0.976352</td>\n",
       "    </tr>\n",
       "    <tr>\n",
       "      <th>Bean Type_cat</th>\n",
       "      <td>0.816914</td>\n",
       "      <td>0.268613</td>\n",
       "      <td>0.506266</td>\n",
       "      <td>1.000000</td>\n",
       "      <td>0.871187</td>\n",
       "    </tr>\n",
       "    <tr>\n",
       "      <th>Specific Bean Origin_cat</th>\n",
       "      <td>0.653217</td>\n",
       "      <td>0.735872</td>\n",
       "      <td>0.976352</td>\n",
       "      <td>0.871187</td>\n",
       "      <td>1.000000</td>\n",
       "    </tr>\n",
       "  </tbody>\n",
       "</table>\n",
       "</div>"
      ],
      "text/plain": [
       "                           Company  Company Location  Broad Bean Origin_cat  \\\n",
       "Company                   1.000000          0.999651               0.633931   \n",
       "Company Location          0.999651          1.000000               0.378944   \n",
       "Broad Bean Origin_cat     0.633931          0.378944               1.000000   \n",
       "Bean Type_cat             0.816914          0.268613               0.506266   \n",
       "Specific Bean Origin_cat  0.653217          0.735872               0.976352   \n",
       "\n",
       "                          Bean Type_cat  Specific Bean Origin_cat  \n",
       "Company                        0.816914                  0.653217  \n",
       "Company Location               0.268613                  0.735872  \n",
       "Broad Bean Origin_cat          0.506266                  0.976352  \n",
       "Bean Type_cat                  1.000000                  0.871187  \n",
       "Specific Bean Origin_cat       0.871187                  1.000000  "
      ]
     },
     "execution_count": 13,
     "metadata": {},
     "output_type": "execute_result"
    }
   ],
   "source": [
    "XC = X_train_cleaned.apply(lambda x: x.astype(\"category\") if x.dtype == \"object\" else x)\n",
    "\n",
    "cramersv = am.CramersV(XC)\n",
    "cramersv.fit()"
   ]
  },
  {
   "cell_type": "markdown",
   "id": "7e9a000d",
   "metadata": {
    "papermill": {
     "duration": 0.009197,
     "end_time": "2025-02-06T20:48:08.166829",
     "exception": false,
     "start_time": "2025-02-06T20:48:08.157632",
     "status": "completed"
    },
    "tags": []
   },
   "source": [
    "**Признаки Broad Bean Origin_cat и Specific Bean Origin_cat сильно связаны.**"
   ]
  },
  {
   "cell_type": "code",
   "execution_count": 14,
   "id": "abc1ed04",
   "metadata": {
    "execution": {
     "iopub.execute_input": "2025-02-06T20:48:08.186888Z",
     "iopub.status.busy": "2025-02-06T20:48:08.186511Z",
     "iopub.status.idle": "2025-02-06T20:48:08.192089Z",
     "shell.execute_reply": "2025-02-06T20:48:08.191010Z"
    },
    "papermill": {
     "duration": 0.017446,
     "end_time": "2025-02-06T20:48:08.193760",
     "exception": false,
     "start_time": "2025-02-06T20:48:08.176314",
     "status": "completed"
    },
    "tags": []
   },
   "outputs": [],
   "source": [
    "X_train_cleaned.drop('Broad Bean Origin_cat', axis=1, inplace=True)"
   ]
  },
  {
   "cell_type": "code",
   "execution_count": 15,
   "id": "452eba02",
   "metadata": {
    "execution": {
     "iopub.execute_input": "2025-02-06T20:48:08.213834Z",
     "iopub.status.busy": "2025-02-06T20:48:08.213475Z",
     "iopub.status.idle": "2025-02-06T20:48:08.448426Z",
     "shell.execute_reply": "2025-02-06T20:48:08.447574Z"
    },
    "papermill": {
     "duration": 0.246963,
     "end_time": "2025-02-06T20:48:08.450198",
     "exception": false,
     "start_time": "2025-02-06T20:48:08.203235",
     "status": "completed"
    },
    "tags": []
   },
   "outputs": [],
   "source": [
    "# Заполняем пропуски\n",
    "\n",
    "X_train_cleaned['Bean Type_cat'] = X_train_cleaned.groupby(['Specific Bean Origin_cat'])['Bean Type_cat'].transform(\n",
    "    lambda x: x.fillna(x.mode().iloc[0] if not x.mode().empty else np.nan)\n",
    ")\n",
    "\n",
    "X_train_cleaned['Bean Type_cat'] = X_train_cleaned['Bean Type_cat'].fillna('UNKNOWN')"
   ]
  },
  {
   "cell_type": "code",
   "execution_count": 16,
   "id": "149a2bd4",
   "metadata": {
    "execution": {
     "iopub.execute_input": "2025-02-06T20:48:08.470992Z",
     "iopub.status.busy": "2025-02-06T20:48:08.470621Z",
     "iopub.status.idle": "2025-02-06T20:48:08.678030Z",
     "shell.execute_reply": "2025-02-06T20:48:08.676922Z"
    },
    "papermill": {
     "duration": 0.220212,
     "end_time": "2025-02-06T20:48:08.679838",
     "exception": false,
     "start_time": "2025-02-06T20:48:08.459626",
     "status": "completed"
    },
    "tags": []
   },
   "outputs": [
    {
     "data": {
      "image/png": "[encoded data removed]",
      "text/plain": [
       "<Figure size 640x480 with 1 Axes>"
      ]
     },
     "metadata": {},
     "output_type": "display_data"
    }
   ],
   "source": [
    "# Распределение целевой переменной\n",
    "plt.hist(y_train, bins=15);"
   ]
  },
  {
   "cell_type": "markdown",
   "id": "cab37cd3",
   "metadata": {
    "id": "Ni840rPy43jU",
    "papermill": {
     "duration": 0.009359,
     "end_time": "2025-02-06T20:48:08.698743",
     "exception": false,
     "start_time": "2025-02-06T20:48:08.689384",
     "status": "completed"
    },
    "tags": []
   },
   "source": [
    "## Обучение модели"
   ]
  },
  {
   "cell_type": "markdown",
   "id": "b35bda8c",
   "metadata": {
    "id": "VMj-qSISyMZG",
    "papermill": {
     "duration": 0.009354,
     "end_time": "2025-02-06T20:48:08.717684",
     "exception": false,
     "start_time": "2025-02-06T20:48:08.708330",
     "status": "completed"
    },
    "tags": []
   },
   "source": [
    "Устанавливаем катбуст и обучаем его с гиперпараметрами по умолчанию на всех данных"
   ]
  },
  {
   "cell_type": "code",
   "execution_count": 17,
   "id": "3083e1cd",
   "metadata": {
    "execution": {
     "iopub.execute_input": "2025-02-06T20:48:08.738344Z",
     "iopub.status.busy": "2025-02-06T20:48:08.737917Z",
     "iopub.status.idle": "2025-02-06T20:48:08.753124Z",
     "shell.execute_reply": "2025-02-06T20:48:08.751911Z"
    },
    "id": "G6ovzNIIq8BI",
    "outputId": "33d9a648-7dc9-4f40-fa2b-0d6c46baacf8",
    "papermill": {
     "duration": 0.02742,
     "end_time": "2025-02-06T20:48:08.754642",
     "exception": false,
     "start_time": "2025-02-06T20:48:08.727222",
     "status": "completed"
    },
    "tags": []
   },
   "outputs": [
    {
     "name": "stdout",
     "output_type": "stream",
     "text": [
      "<class 'pandas.core.frame.DataFrame'>\n",
      "Index: 1253 entries, 0 to 1254\n",
      "Data columns (total 6 columns):\n",
      " #   Column                        Non-Null Count  Dtype  \n",
      "---  ------                        --------------  -----  \n",
      " 0   Company                       1253 non-null   object \n",
      " 1   Review                        1253 non-null   int64  \n",
      " 2   Company Location              1253 non-null   object \n",
      " 3   Bean Type_cat                 1253 non-null   object \n",
      " 4   Specific Bean Origin_cat      1253 non-null   object \n",
      " 5   Cocoa Percent_numeric_binned  1253 non-null   float64\n",
      "dtypes: float64(1), int64(1), object(4)\n",
      "memory usage: 68.5+ KB\n"
     ]
    }
   ],
   "source": [
    "X_train_cleaned.info()"
   ]
  },
  {
   "cell_type": "code",
   "execution_count": 18,
   "id": "de14406d",
   "metadata": {
    "execution": {
     "iopub.execute_input": "2025-02-06T20:48:08.775086Z",
     "iopub.status.busy": "2025-02-06T20:48:08.774685Z",
     "iopub.status.idle": "2025-02-06T20:48:10.909344Z",
     "shell.execute_reply": "2025-02-06T20:48:10.908250Z"
    },
    "id": "QGV0TmU16oKZ",
    "outputId": "7a9494c0-b173-454d-cad4-776cc5aa483e",
    "papermill": {
     "duration": 2.14672,
     "end_time": "2025-02-06T20:48:10.910973",
     "exception": false,
     "start_time": "2025-02-06T20:48:08.764253",
     "status": "completed"
    },
    "tags": []
   },
   "outputs": [
    {
     "data": {
      "text/plain": [
       "<catboost.core.CatBoostRegressor at 0x7ebfeb834a60>"
      ]
     },
     "execution_count": 18,
     "metadata": {},
     "output_type": "execute_result"
    }
   ],
   "source": [
    "cat_features = [0, 2, 3, 4]\n",
    "model = CatBoostRegressor(cat_features=cat_features, verbose=False)\n",
    "model.fit(X_train_cleaned, y_train)"
   ]
  },
  {
   "cell_type": "code",
   "execution_count": 19,
   "id": "470d6b86",
   "metadata": {
    "execution": {
     "iopub.execute_input": "2025-02-06T20:48:10.932801Z",
     "iopub.status.busy": "2025-02-06T20:48:10.932475Z",
     "iopub.status.idle": "2025-02-06T20:48:10.945496Z",
     "shell.execute_reply": "2025-02-06T20:48:10.944498Z"
    },
    "id": "vlmT3XVcq-c4",
    "papermill": {
     "duration": 0.025263,
     "end_time": "2025-02-06T20:48:10.947178",
     "exception": false,
     "start_time": "2025-02-06T20:48:10.921915",
     "status": "completed"
    },
    "tags": []
   },
   "outputs": [
    {
     "data": {
      "text/plain": [
       "0.5096743166030933"
      ]
     },
     "execution_count": 19,
     "metadata": {},
     "output_type": "execute_result"
    }
   ],
   "source": [
    "model.score(X_train_cleaned, y_train)"
   ]
  },
  {
   "cell_type": "markdown",
   "id": "f33eed17",
   "metadata": {
    "id": "MMgg_SNc4_L_",
    "papermill": {
     "duration": 0.009319,
     "end_time": "2025-02-06T20:48:10.966700",
     "exception": false,
     "start_time": "2025-02-06T20:48:10.957381",
     "status": "completed"
    },
    "tags": []
   },
   "source": [
    "## Предсказание на тестовых данных"
   ]
  },
  {
   "cell_type": "markdown",
   "id": "b875f386",
   "metadata": {
    "id": "bMXSM7qlyTbk",
    "papermill": {
     "duration": 0.009225,
     "end_time": "2025-02-06T20:48:10.985586",
     "exception": false,
     "start_time": "2025-02-06T20:48:10.976361",
     "status": "completed"
    },
    "tags": []
   },
   "source": [
    "Загружаем тестовые данные"
   ]
  },
  {
   "cell_type": "code",
   "execution_count": 20,
   "id": "49d0dfc8",
   "metadata": {
    "execution": {
     "iopub.execute_input": "2025-02-06T20:48:11.006149Z",
     "iopub.status.busy": "2025-02-06T20:48:11.005737Z",
     "iopub.status.idle": "2025-02-06T20:48:11.269140Z",
     "shell.execute_reply": "2025-02-06T20:48:11.268346Z"
    },
    "id": "yKKM4gSNr1YS",
    "papermill": {
     "duration": 0.275617,
     "end_time": "2025-02-06T20:48:11.270893",
     "exception": false,
     "start_time": "2025-02-06T20:48:10.995276",
     "status": "completed"
    },
    "tags": []
   },
   "outputs": [],
   "source": [
    "test_df = pd.read_csv(TEST)"
   ]
  },
  {
   "cell_type": "code",
   "execution_count": 21,
   "id": "d25e0dfb",
   "metadata": {
    "execution": {
     "iopub.execute_input": "2025-02-06T20:48:11.291626Z",
     "iopub.status.busy": "2025-02-06T20:48:11.291300Z",
     "iopub.status.idle": "2025-02-06T20:48:11.301339Z",
     "shell.execute_reply": "2025-02-06T20:48:11.300101Z"
    },
    "id": "prhc5WB8r4Wu",
    "outputId": "37ea8558-dd23-49a2-f7a4-3c861b409caa",
    "papermill": {
     "duration": 0.022087,
     "end_time": "2025-02-06T20:48:11.302797",
     "exception": false,
     "start_time": "2025-02-06T20:48:11.280710",
     "status": "completed"
    },
    "tags": []
   },
   "outputs": [
    {
     "name": "stdout",
     "output_type": "stream",
     "text": [
      "<class 'pandas.core.frame.DataFrame'>\n",
      "RangeIndex: 540 entries, 0 to 539\n",
      "Data columns (total 8 columns):\n",
      " #   Column                Non-Null Count  Dtype \n",
      "---  ------                --------------  ----- \n",
      " 0   Company               540 non-null    object\n",
      " 1   Specific Bean Origin  540 non-null    object\n",
      " 2   REF                   540 non-null    int64 \n",
      " 3   Review                540 non-null    int64 \n",
      " 4   Cocoa Percent         540 non-null    object\n",
      " 5   Company Location      540 non-null    object\n",
      " 6   Bean Type             540 non-null    object\n",
      " 7   Broad Bean Origin     540 non-null    object\n",
      "dtypes: int64(2), object(6)\n",
      "memory usage: 33.9+ KB\n"
     ]
    }
   ],
   "source": [
    "test_df.info()"
   ]
  },
  {
   "cell_type": "code",
   "execution_count": 22,
   "id": "a2e54362",
   "metadata": {
    "execution": {
     "iopub.execute_input": "2025-02-06T20:48:11.323676Z",
     "iopub.status.busy": "2025-02-06T20:48:11.323351Z",
     "iopub.status.idle": "2025-02-06T20:48:11.338071Z",
     "shell.execute_reply": "2025-02-06T20:48:11.337035Z"
    },
    "papermill": {
     "duration": 0.027208,
     "end_time": "2025-02-06T20:48:11.339813",
     "exception": false,
     "start_time": "2025-02-06T20:48:11.312605",
     "status": "completed"
    },
    "tags": []
   },
   "outputs": [],
   "source": [
    "X_test_cleaned = clean(test_df)\n",
    "X_test_cleaned['Cocoa Percent_numeric_binned'] = discretizer.transform(X_test_cleaned[['Cocoa Percent_numeric']])\n",
    "X_test_cleaned.drop(['Broad Bean Origin_cat', 'Cocoa Percent_numeric'], axis=1, inplace=True)"
   ]
  },
  {
   "cell_type": "code",
   "execution_count": 23,
   "id": "03e06ff7",
   "metadata": {
    "execution": {
     "iopub.execute_input": "2025-02-06T20:48:11.360813Z",
     "iopub.status.busy": "2025-02-06T20:48:11.360464Z",
     "iopub.status.idle": "2025-02-06T20:48:11.500990Z",
     "shell.execute_reply": "2025-02-06T20:48:11.499900Z"
    },
    "papermill": {
     "duration": 0.153285,
     "end_time": "2025-02-06T20:48:11.503068",
     "exception": false,
     "start_time": "2025-02-06T20:48:11.349783",
     "status": "completed"
    },
    "tags": []
   },
   "outputs": [],
   "source": [
    "X_test_cleaned['Bean Type_cat'] = X_test_cleaned.groupby(['Specific Bean Origin_cat'])['Bean Type_cat'].transform(\n",
    "    lambda x: x.fillna(x.mode().iloc[0] if not x.mode().empty else np.nan)\n",
    ")\n",
    "\n",
    "X_test_cleaned['Bean Type_cat'] = X_test_cleaned['Bean Type_cat'].fillna('UNKNOWN')"
   ]
  },
  {
   "cell_type": "code",
   "execution_count": 24,
   "id": "4353ebb8",
   "metadata": {
    "execution": {
     "iopub.execute_input": "2025-02-06T20:48:11.524206Z",
     "iopub.status.busy": "2025-02-06T20:48:11.523810Z",
     "iopub.status.idle": "2025-02-06T20:48:11.534865Z",
     "shell.execute_reply": "2025-02-06T20:48:11.533641Z"
    },
    "papermill": {
     "duration": 0.023253,
     "end_time": "2025-02-06T20:48:11.536499",
     "exception": false,
     "start_time": "2025-02-06T20:48:11.513246",
     "status": "completed"
    },
    "tags": []
   },
   "outputs": [
    {
     "name": "stdout",
     "output_type": "stream",
     "text": [
      "<class 'pandas.core.frame.DataFrame'>\n",
      "RangeIndex: 540 entries, 0 to 539\n",
      "Data columns (total 6 columns):\n",
      " #   Column                        Non-Null Count  Dtype  \n",
      "---  ------                        --------------  -----  \n",
      " 0   Company                       540 non-null    object \n",
      " 1   Review                        540 non-null    int64  \n",
      " 2   Company Location              540 non-null    object \n",
      " 3   Bean Type_cat                 540 non-null    object \n",
      " 4   Specific Bean Origin_cat      540 non-null    object \n",
      " 5   Cocoa Percent_numeric_binned  540 non-null    float64\n",
      "dtypes: float64(1), int64(1), object(4)\n",
      "memory usage: 25.4+ KB\n"
     ]
    }
   ],
   "source": [
    "X_test_cleaned.info()"
   ]
  },
  {
   "cell_type": "markdown",
   "id": "c24929aa",
   "metadata": {
    "id": "UZmGeQUOyWkL",
    "papermill": {
     "duration": 0.009581,
     "end_time": "2025-02-06T20:48:11.556426",
     "exception": false,
     "start_time": "2025-02-06T20:48:11.546845",
     "status": "completed"
    },
    "tags": []
   },
   "source": [
    "Делаем предсказание"
   ]
  },
  {
   "cell_type": "code",
   "execution_count": 25,
   "id": "74a34d75",
   "metadata": {
    "execution": {
     "iopub.execute_input": "2025-02-06T20:48:11.577020Z",
     "iopub.status.busy": "2025-02-06T20:48:11.576627Z",
     "iopub.status.idle": "2025-02-06T20:48:11.584928Z",
     "shell.execute_reply": "2025-02-06T20:48:11.583887Z"
    },
    "id": "B5FVzK3KrYDM",
    "papermill": {
     "duration": 0.020296,
     "end_time": "2025-02-06T20:48:11.586494",
     "exception": false,
     "start_time": "2025-02-06T20:48:11.566198",
     "status": "completed"
    },
    "tags": []
   },
   "outputs": [],
   "source": [
    "pred = model.predict(X_test_cleaned)"
   ]
  },
  {
   "cell_type": "markdown",
   "id": "210496dc",
   "metadata": {
    "id": "ZLqUnP6IyZ7e",
    "papermill": {
     "duration": 0.009442,
     "end_time": "2025-02-06T20:48:11.606076",
     "exception": false,
     "start_time": "2025-02-06T20:48:11.596634",
     "status": "completed"
    },
    "tags": []
   },
   "source": [
    "Сохраняем предсказание в файл в нужном формате"
   ]
  },
  {
   "cell_type": "code",
   "execution_count": 26,
   "id": "05071725",
   "metadata": {
    "execution": {
     "iopub.execute_input": "2025-02-06T20:48:11.626900Z",
     "iopub.status.busy": "2025-02-06T20:48:11.626552Z",
     "iopub.status.idle": "2025-02-06T20:48:11.639599Z",
     "shell.execute_reply": "2025-02-06T20:48:11.638435Z"
    },
    "id": "2VSWIf46ycv7",
    "papermill": {
     "duration": 0.025808,
     "end_time": "2025-02-06T20:48:11.641500",
     "exception": false,
     "start_time": "2025-02-06T20:48:11.615692",
     "status": "completed"
    },
    "tags": []
   },
   "outputs": [],
   "source": [
    "test_df['id'] = np.arange(len(test_df))\n",
    "test_df['Rating'] = pred\n",
    "\n",
    "test_df[['id','Rating']].to_csv(\"submission.csv\", index=False)"
   ]
  },
  {
   "cell_type": "markdown",
   "id": "f82a8bb4",
   "metadata": {
    "papermill": {
     "duration": 0.010144,
     "end_time": "2025-02-06T20:48:11.662654",
     "exception": false,
     "start_time": "2025-02-06T20:48:11.652510",
     "status": "completed"
    },
    "tags": []
   },
   "source": [
    "Как можно было бы улучшить модель:\n",
    "- Подбором гипперпараметров\n",
    "- Попробовать масштабировать признаки"
   ]
  }
 ],
 "metadata": {
  "colab": {
   "provenance": []
  },
  "kaggle": {
   "accelerator": "none",
   "dataSources": [
    {
     "databundleVersionId": 10212782,
     "sourceId": 88944,
     "sourceType": "competition"
    }
   ],
   "dockerImageVersionId": 30839,
   "isGpuEnabled": false,
   "isInternetEnabled": true,
   "language": "python",
   "sourceType": "notebook"
  },
  "kernelspec": {
   "display_name": "Python 3",
   "language": "python",
   "name": "python3"
  },
  "language_info": {
   "codemirror_mode": {
    "name": "ipython",
    "version": 3
   },
   "file_extension": ".py",
   "mimetype": "text/x-python",
   "name": "python",
   "nbconvert_exporter": "python",
   "pygments_lexer": "ipython3",
   "version": "3.10.12"
  },
  "papermill": {
   "default_parameters": {},
   "duration": 24.296722,
   "end_time": "2025-02-06T20:48:12.493551",
   "environment_variables": {},
   "exception": null,
   "input_path": "__notebook__.ipynb",
   "output_path": "__notebook__.ipynb",
   "parameters": {},
   "start_time": "2025-02-06T20:47:48.196829",
   "version": "2.6.0"
  }
 },
 "nbformat": 4,
 "nbformat_minor": 5
}
