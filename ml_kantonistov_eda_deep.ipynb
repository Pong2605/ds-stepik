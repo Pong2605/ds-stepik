{
 "cells": [
  {
   "cell_type": "markdown",
   "id": "108c6f29",
   "metadata": {},
   "source": [
    "# Разведочный анализ данных: продолжение"
   ]
  },
  {
   "cell_type": "markdown",
   "id": "eef4eee4",
   "metadata": {},
   "source": [
    "Мы будем работать с датасетом про алмазы - в нем содержатся их различные характеристики, а также стоимость."
   ]
  },
  {
   "cell_type": "markdown",
   "id": "5050c357",
   "metadata": {},
   "source": [
    "![diamond-2.jpeg](data:image/jpeg;base64,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)"
   ]
  },
  {
   "cell_type": "markdown",
   "id": "9914747b",
   "metadata": {},
   "source": [
    "## Импорт библиотек и загрузка данных"
   ]
  },
  {
   "cell_type": "code",
   "execution_count": null,
   "id": "9e4f7794",
   "metadata": {},
   "outputs": [],
   "source": [
    "import numpy as np\n",
    "import pandas as pd\n",
    "import matplotlib.pyplot as plt\n",
    "import seaborn as sns"
   ]
  },
  {
   "cell_type": "code",
   "execution_count": null,
   "id": "bb4bfeb0",
   "metadata": {},
   "outputs": [],
   "source": [
    "DIAMONDS_DATASET = \"data/diamonds_clean.csv\""
   ]
  },
  {
   "cell_type": "code",
   "execution_count": null,
   "id": "22ab4340",
   "metadata": {},
   "outputs": [],
   "source": [
    "df = pd.read_csv(DIAMONDS_DATASET)"
   ]
  },
  {
   "cell_type": "markdown",
   "id": "3fb0b1d1",
   "metadata": {},
   "source": [
    "## Описание данных"
   ]
  },
  {
   "cell_type": "markdown",
   "id": "1d8d1740",
   "metadata": {},
   "source": [
    "* `carat` - число каратов алмаза\n",
    "* `cut` - огранка алмаза\n",
    "* `color` - цвет алмаза\n",
    "* `clarity` - прозрачность алмаза\n",
    "* `depth` - глубина алмаза\n",
    "* `table` - платформа алмаза (грань, которую можно увидеть, если смотреть на камень лицевой стороной вверх)\n",
    "* `price` - цена алмаза\n",
    "* `x` - размер алмаза по оси x\n",
    "* `y` - размер алмаза по оси y\n",
    "* `z` - размер алмаза по оси z"
   ]
  },
  {
   "cell_type": "code",
   "execution_count": null,
   "id": "c5cfe7b9",
   "metadata": {},
   "outputs": [
    {
     "data": {
      "text/html": [
       "<div>\n",
       "<style scoped>\n",
       "    .dataframe tbody tr th:only-of-type {\n",
       "        vertical-align: middle;\n",
       "    }\n",
       "\n",
       "    .dataframe tbody tr th {\n",
       "        vertical-align: top;\n",
       "    }\n",
       "\n",
       "    .dataframe thead th {\n",
       "        text-align: right;\n",
       "    }\n",
       "</style>\n",
       "<table border=\"1\" class=\"dataframe\">\n",
       "  <thead>\n",
       "    <tr style=\"text-align: right;\">\n",
       "      <th></th>\n",
       "      <th>carat</th>\n",
       "      <th>cut</th>\n",
       "      <th>color</th>\n",
       "      <th>clarity</th>\n",
       "      <th>depth</th>\n",
       "      <th>table</th>\n",
       "      <th>price</th>\n",
       "      <th>'x'</th>\n",
       "      <th>'y'</th>\n",
       "      <th>'z'</th>\n",
       "    </tr>\n",
       "  </thead>\n",
       "  <tbody>\n",
       "    <tr>\n",
       "      <th>0</th>\n",
       "      <td>0.23</td>\n",
       "      <td>Ideal</td>\n",
       "      <td>E</td>\n",
       "      <td>SI2</td>\n",
       "      <td>61.5</td>\n",
       "      <td>55.0</td>\n",
       "      <td>326.0</td>\n",
       "      <td>3.95</td>\n",
       "      <td>3.98</td>\n",
       "      <td>2.43</td>\n",
       "    </tr>\n",
       "    <tr>\n",
       "      <th>1</th>\n",
       "      <td>0.21</td>\n",
       "      <td>Premium</td>\n",
       "      <td>E</td>\n",
       "      <td>SI1</td>\n",
       "      <td>59.8</td>\n",
       "      <td>61.0</td>\n",
       "      <td>326.0</td>\n",
       "      <td>3.89</td>\n",
       "      <td>3.84</td>\n",
       "      <td>2.31</td>\n",
       "    </tr>\n",
       "    <tr>\n",
       "      <th>2</th>\n",
       "      <td>0.23</td>\n",
       "      <td>Good</td>\n",
       "      <td>E</td>\n",
       "      <td>VS1</td>\n",
       "      <td>56.9</td>\n",
       "      <td>65.0</td>\n",
       "      <td>327.0</td>\n",
       "      <td>4.05</td>\n",
       "      <td>4.07</td>\n",
       "      <td>2.31</td>\n",
       "    </tr>\n",
       "    <tr>\n",
       "      <th>3</th>\n",
       "      <td>0.29</td>\n",
       "      <td>Premium</td>\n",
       "      <td>I</td>\n",
       "      <td>VS2</td>\n",
       "      <td>62.4</td>\n",
       "      <td>58.0</td>\n",
       "      <td>334.0</td>\n",
       "      <td>4.20</td>\n",
       "      <td>4.23</td>\n",
       "      <td>2.63</td>\n",
       "    </tr>\n",
       "    <tr>\n",
       "      <th>4</th>\n",
       "      <td>0.31</td>\n",
       "      <td>Good</td>\n",
       "      <td>J</td>\n",
       "      <td>SI2</td>\n",
       "      <td>63.3</td>\n",
       "      <td>58.0</td>\n",
       "      <td>335.0</td>\n",
       "      <td>4.34</td>\n",
       "      <td>4.35</td>\n",
       "      <td>2.75</td>\n",
       "    </tr>\n",
       "  </tbody>\n",
       "</table>\n",
       "</div>"
      ],
      "text/plain": [
       "   carat      cut color clarity  depth  table  price   'x'   'y'   'z'\n",
       "0   0.23    Ideal     E     SI2   61.5   55.0  326.0  3.95  3.98  2.43\n",
       "1   0.21  Premium     E     SI1   59.8   61.0  326.0  3.89  3.84  2.31\n",
       "2   0.23     Good     E     VS1   56.9   65.0  327.0  4.05  4.07  2.31\n",
       "3   0.29  Premium     I     VS2   62.4   58.0  334.0  4.20  4.23  2.63\n",
       "4   0.31     Good     J     SI2   63.3   58.0  335.0  4.34  4.35  2.75"
      ]
     },
     "metadata": {},
     "output_type": "display_data"
    }
   ],
   "source": [
    "df.head()"
   ]
  },
  {
   "cell_type": "markdown",
   "id": "3dca247c",
   "metadata": {},
   "source": [
    "## Исследование данных"
   ]
  },
  {
   "cell_type": "markdown",
   "id": "54727137",
   "metadata": {},
   "source": [
    "Размер датасета"
   ]
  },
  {
   "cell_type": "code",
   "execution_count": null,
   "id": "65bb8955",
   "metadata": {},
   "outputs": [
    {
     "data": {
      "text/plain": [
       "(53805, 10)"
      ]
     },
     "metadata": {},
     "output_type": "display_data"
    }
   ],
   "source": [
    "df.shape"
   ]
  },
  {
   "cell_type": "markdown",
   "id": "4379b211",
   "metadata": {},
   "source": [
    "Информация о типах данных и пропусках"
   ]
  },
  {
   "cell_type": "code",
   "execution_count": null,
   "id": "65e610db",
   "metadata": {},
   "outputs": [
    {
     "name": "stdout",
     "output_type": "stream",
     "text": [
      "<class 'pandas.core.frame.DataFrame'>\n",
      "RangeIndex: 53805 entries, 0 to 53804\n",
      "Data columns (total 10 columns):\n",
      " #   Column   Non-Null Count  Dtype  \n",
      "---  ------   --------------  -----  \n",
      " 0   carat    53805 non-null  float64\n",
      " 1   cut      53805 non-null  object \n",
      " 2   color    53805 non-null  object \n",
      " 3   clarity  53805 non-null  object \n",
      " 4   depth    53805 non-null  float64\n",
      " 5   table    53805 non-null  float64\n",
      " 6   price    53805 non-null  float64\n",
      " 7   'x'      53805 non-null  float64\n",
      " 8   'y'      53805 non-null  float64\n",
      " 9   'z'      53805 non-null  float64\n",
      "dtypes: float64(7), object(3)\n",
      "memory usage: 4.1+ MB\n"
     ]
    }
   ],
   "source": [
    "df.info()"
   ]
  },
  {
   "cell_type": "markdown",
   "id": "236471ca",
   "metadata": {},
   "source": [
    "## Взаимозависимость в данных"
   ]
  },
  {
   "cell_type": "markdown",
   "id": "e8300324",
   "metadata": {},
   "source": [
    "### 1. Корреляция"
   ]
  },
  {
   "cell_type": "markdown",
   "id": "3ea04f44",
   "metadata": {},
   "source": [
    "**Корреляция Пирсона**\n",
    "\n",
    "![image.png](attachment:image.png)"
   ]
  },
  {
   "cell_type": "markdown",
   "id": "09ae33fa",
   "metadata": {},
   "source": [
    "Корреляция Пирсона - это мера линейной взаимосвязи двух числовых столбцов.\n",
    "\n",
    "* $r$\t=\tcorrelation coefficient\n",
    "* $x_{i}$\t=\tvalues of the x-variable in a sample\n",
    "* $\\bar{x}$\t=\tmean of the values of the x-variable\n",
    "* $y_{i}$\t=\tvalues of the y-variable in a sample\n",
    "* $\\bar{y}$\t=\tmean of the values of the y-variable"
   ]
  },
  {
   "cell_type": "code",
   "execution_count": null,
   "id": "941a1ad7",
   "metadata": {},
   "outputs": [
    {
     "data": {
      "image/png": "[encoded data removed]",
      "text/plain": [
       "<Figure size 640x480 with 2 Axes>"
      ]
     },
     "metadata": {},
     "output_type": "display_data"
    }
   ],
   "source": [
    "corr = df.corr(numeric_only=True) # матрица корреляций\n",
    "\n",
    "sns.heatmap(corr, cmap=\"Blues\", annot=True);"
   ]
  },
  {
   "cell_type": "markdown",
   "id": "e143c0d3",
   "metadata": {},
   "source": [
    "**Корреляция Спирмена**\n",
    "\n",
    "Коэффициент корреляции Спирмена основан на ранжировании значений переменных и измеряет степень монотонной связи между ними.\n",
    "\n",
    "Значение коэффициента корреляции Спирмена лежит в диапазоне от -1 до 1. Значение -1 означает полную отрицательную связь (чем больше одна переменная, тем меньше другая), значение 1 означает положительную связь (чем больше одна переменная, тем больше другая), а значение 0 означает отсутствие связи между переменными.\n",
    "\n",
    "Можно использовать для порядковых переменных!"
   ]
  },
  {
   "cell_type": "markdown",
   "id": "82906ef4",
   "metadata": {},
   "source": [
    "![image.png](attachment:image.png)"
   ]
  },
  {
   "cell_type": "markdown",
   "id": "fbf4042f",
   "metadata": {},
   "source": [
    "* $\\rho$\t=\tSpearman's rank correlation coefficient\n",
    "* $d_{i}$\t=\tdifference between the two ranks of each observation\n",
    "* $n$\t=\tnumber of observations\n",
    "\n",
    "[Пример расчета коэффициента корреляции Спирмена](https://statpsy.ru/spearman/primer-raschet-spearman/)"
   ]
  },
  {
   "cell_type": "code",
   "execution_count": null,
   "id": "82ac384a",
   "metadata": {},
   "outputs": [
    {
     "data": {
      "image/png": "[encoded data removed]",
      "text/plain": [
       "<Figure size 640x480 with 2 Axes>"
      ]
     },
     "metadata": {},
     "output_type": "display_data"
    }
   ],
   "source": [
    "corr = df.corr(method='spearman', numeric_only=True)\n",
    "\n",
    "sns.heatmap(corr, cmap=\"Blues\", annot=True);"
   ]
  },
  {
   "cell_type": "markdown",
   "id": "fcb700bc",
   "metadata": {},
   "source": [
    "**Корреляция Кендалла**\n",
    "\n",
    "Чаще используется для пары номинальный - номинальный признак.\n",
    "\n",
    "Похожа на корреляцию Спирмена."
   ]
  },
  {
   "cell_type": "markdown",
   "id": "3967892f",
   "metadata": {},
   "source": [
    "### Задание 1\n",
    "\n",
    "Вычислите матрицу корреляций, используя корреляцию Кендалла.\n",
    "\n",
    "С каким столбцом коррелирует в этой матрице `depth` больше всего?"
   ]
  },
  {
   "cell_type": "code",
   "execution_count": null,
   "id": "09538cbc",
   "metadata": {},
   "outputs": [
    {
     "data": {
      "image/png": "[encoded data removed]",
      "text/plain": [
       "<Figure size 640x480 with 2 Axes>"
      ]
     },
     "metadata": {},
     "output_type": "display_data"
    }
   ],
   "source": [
    "# your code here\n",
    "\n",
    "corr = df.corr(method='kendall', numeric_only=True)\n",
    "\n",
    "sns.heatmap(corr, cmap=\"Blues\", annot=True);"
   ]
  },
  {
   "cell_type": "markdown",
   "id": "92e22ac5",
   "metadata": {},
   "source": [
    "### 2. V-мера Крамера\n",
    "\n",
    "*Для измерения связи между Категориальным - Категориальным признаком*"
   ]
  },
  {
   "cell_type": "markdown",
   "id": "5deb1564",
   "metadata": {},
   "source": [
    "Для оценки степени взаимосвязи категориальных столбцов можно вычислять V-меру Крамера.\n",
    "Это вариант нормировки статистики $\\chi^2$. Статистика $\\chi^2$ - это функция, измеряющая меру взаимосвязи двух категориальных переменных.\n",
    "\n",
    "Пусть $X, Y$ - две категориальных переменных, тогда $\\chi^2$ вычисляется по формуле\n",
    "\n",
    "$$\\chi^2(X,Y)=\\sum_{i,j}\\frac{(O_{ij}-E_{ij})^2}{E_{ij}},$$\n",
    "\n",
    "где $O_{ij}$ - наблюдаемая частота события, $E_{ij}$ - ожидаемая частота события (в предположении, что величины $X$ и $Y$ независимы).\n",
    "\n",
    "Чем больше значение $\\chi^2$ - тем больше степень взаимосвязи переменных $X$ и $Y$.\n",
    "\n",
    "\n",
    "\n",
    "**Покажем на примере.**\n",
    "\n",
    "Изучим по некоторым данным зависимость факта курения и повышенного давления. По данным составим таблицу сопряженности."
   ]
  },
  {
   "cell_type": "markdown",
   "id": "4c8f0edb",
   "metadata": {},
   "source": [
    "![chi2-2.png](data:image/png;base64,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)"
   ]
  },
  {
   "cell_type": "markdown",
   "id": "ad617581",
   "metadata": {},
   "source": [
    "Вычисляем $\\chi^2$:\n",
    "\n",
    "$O_{11} = 40$\n",
    "\n",
    "$E_{11} = 70 * 72 / 150 \\approx 33.6 $ (так считается $E_{ij}$, если величины независимы)\n",
    "\n",
    "Аналогично вычисляются оставшиеся слагаемые в формуле. Получаем\n",
    "\n",
    "$\\chi^2(X,Y) = (40-33.6)^2/33.6 + (30-36.4)^2/36.4 + (32-38.4)^2/38.4 + (48-41.6)^2/41.6 = 4.396$\n",
    "\n",
    "\n",
    "\n",
    "Чем больше $\\chi^2$, тем больше взаимосвязь между признаками.\n",
    "\n",
    "В случае, если признаки независимы, то ожидаемая и наблюдаемая частоты совпадут, и $\\chi^2=0$.\n",
    "\n",
    "\n",
    "\n",
    "V-мера Крамера - это нормировка $\\chi^2$ на число значений в каждой категории:\n",
    "\n",
    "$$V = \\sqrt{\\frac{\\chi^2/n}{min(k-1,r-1)}},$$\n",
    "\n",
    "где\n",
    "\n",
    "\n",
    "$n$ - общее число наблюдений\n",
    "\n",
    "$k$ - число категорий в $X$\n",
    "\n",
    "$r$ - число категорий в $Y$\n",
    "\n",
    "\n",
    "В результате этой нормировки V-мера находится на отрезке от 0 до 1 и легко интерпретируется: *чем больше V-мера - тем больше зависимость между двумя переменными, и наоборот.*"
   ]
  },
  {
   "cell_type": "code",
   "execution_count": null,
   "id": "d25326ff",
   "metadata": {},
   "outputs": [],
   "source": [
    "# !pip install association-metrics -q"
   ]
  },
  {
   "cell_type": "code",
   "execution_count": null,
   "id": "5a1f9498",
   "metadata": {},
   "outputs": [
    {
     "name": "stderr",
     "output_type": "stream",
     "text": [
      "c:\\Users\\kuche\\anaconda3\\Lib\\site-packages\\association_metrics\\categorical.py:100: FutureWarning: ChainedAssignmentError: behaviour will change in pandas 3.0!\n",
      "You are setting values through chained assignment. Currently this works in certain cases, but when using Copy-on-Write (which will become the default behaviour in pandas 3.0) this will never work to update the original DataFrame or Series, because the intermediate object on which we are setting values will behave as a copy.\n",
      "A typical example is when you are setting values in a column of a DataFrame, like:\n",
      "\n",
      "df[\"col\"][row_indexer] = value\n",
      "\n",
      "Use `df.loc[row_indexer, \"col\"] = values` instead, to perform the assignment in a single step and ensure this keeps updating the original `df`.\n",
      "\n",
      "See the caveats in the documentation: https://pandas.pydata.org/pandas-docs/stable/user_guide/indexing.html#returning-a-view-versus-a-copy\n",
      "\n",
      "  self.matrix[x][y] = 1\n",
      "c:\\Users\\kuche\\anaconda3\\Lib\\site-packages\\association_metrics\\categorical.py:104: FutureWarning: ChainedAssignmentError: behaviour will change in pandas 3.0!\n",
      "You are setting values through chained assignment. Currently this works in certain cases, but when using Copy-on-Write (which will become the default behaviour in pandas 3.0) this will never work to update the original DataFrame or Series, because the intermediate object on which we are setting values will behave as a copy.\n",
      "A typical example is when you are setting values in a column of a DataFrame, like:\n",
      "\n",
      "df[\"col\"][row_indexer] = value\n",
      "\n",
      "Use `df.loc[row_indexer, \"col\"] = values` instead, to perform the assignment in a single step and ensure this keeps updating the original `df`.\n",
      "\n",
      "See the caveats in the documentation: https://pandas.pydata.org/pandas-docs/stable/user_guide/indexing.html#returning-a-view-versus-a-copy\n",
      "\n",
      "  self.matrix[x][y] = value\n",
      "c:\\Users\\kuche\\anaconda3\\Lib\\site-packages\\association_metrics\\categorical.py:105: FutureWarning: ChainedAssignmentError: behaviour will change in pandas 3.0!\n",
      "You are setting values through chained assignment. Currently this works in certain cases, but when using Copy-on-Write (which will become the default behaviour in pandas 3.0) this will never work to update the original DataFrame or Series, because the intermediate object on which we are setting values will behave as a copy.\n",
      "A typical example is when you are setting values in a column of a DataFrame, like:\n",
      "\n",
      "df[\"col\"][row_indexer] = value\n",
      "\n",
      "Use `df.loc[row_indexer, \"col\"] = values` instead, to perform the assignment in a single step and ensure this keeps updating the original `df`.\n",
      "\n",
      "See the caveats in the documentation: https://pandas.pydata.org/pandas-docs/stable/user_guide/indexing.html#returning-a-view-versus-a-copy\n",
      "\n",
      "  self.matrix[y][x] = value\n",
      "c:\\Users\\kuche\\anaconda3\\Lib\\site-packages\\association_metrics\\categorical.py:104: FutureWarning: ChainedAssignmentError: behaviour will change in pandas 3.0!\n",
      "You are setting values through chained assignment. Currently this works in certain cases, but when using Copy-on-Write (which will become the default behaviour in pandas 3.0) this will never work to update the original DataFrame or Series, because the intermediate object on which we are setting values will behave as a copy.\n",
      "A typical example is when you are setting values in a column of a DataFrame, like:\n",
      "\n",
      "df[\"col\"][row_indexer] = value\n",
      "\n",
      "Use `df.loc[row_indexer, \"col\"] = values` instead, to perform the assignment in a single step and ensure this keeps updating the original `df`.\n",
      "\n",
      "See the caveats in the documentation: https://pandas.pydata.org/pandas-docs/stable/user_guide/indexing.html#returning-a-view-versus-a-copy\n",
      "\n",
      "  self.matrix[x][y] = value\n",
      "c:\\Users\\kuche\\anaconda3\\Lib\\site-packages\\association_metrics\\categorical.py:105: FutureWarning: ChainedAssignmentError: behaviour will change in pandas 3.0!\n",
      "You are setting values through chained assignment. Currently this works in certain cases, but when using Copy-on-Write (which will become the default behaviour in pandas 3.0) this will never work to update the original DataFrame or Series, because the intermediate object on which we are setting values will behave as a copy.\n",
      "A typical example is when you are setting values in a column of a DataFrame, like:\n",
      "\n",
      "df[\"col\"][row_indexer] = value\n",
      "\n",
      "Use `df.loc[row_indexer, \"col\"] = values` instead, to perform the assignment in a single step and ensure this keeps updating the original `df`.\n",
      "\n",
      "See the caveats in the documentation: https://pandas.pydata.org/pandas-docs/stable/user_guide/indexing.html#returning-a-view-versus-a-copy\n",
      "\n",
      "  self.matrix[y][x] = value\n",
      "c:\\Users\\kuche\\anaconda3\\Lib\\site-packages\\association_metrics\\categorical.py:100: FutureWarning: ChainedAssignmentError: behaviour will change in pandas 3.0!\n",
      "You are setting values through chained assignment. Currently this works in certain cases, but when using Copy-on-Write (which will become the default behaviour in pandas 3.0) this will never work to update the original DataFrame or Series, because the intermediate object on which we are setting values will behave as a copy.\n",
      "A typical example is when you are setting values in a column of a DataFrame, like:\n",
      "\n",
      "df[\"col\"][row_indexer] = value\n",
      "\n",
      "Use `df.loc[row_indexer, \"col\"] = values` instead, to perform the assignment in a single step and ensure this keeps updating the original `df`.\n",
      "\n",
      "See the caveats in the documentation: https://pandas.pydata.org/pandas-docs/stable/user_guide/indexing.html#returning-a-view-versus-a-copy\n",
      "\n",
      "  self.matrix[x][y] = 1\n",
      "c:\\Users\\kuche\\anaconda3\\Lib\\site-packages\\association_metrics\\categorical.py:104: FutureWarning: ChainedAssignmentError: behaviour will change in pandas 3.0!\n",
      "You are setting values through chained assignment. Currently this works in certain cases, but when using Copy-on-Write (which will become the default behaviour in pandas 3.0) this will never work to update the original DataFrame or Series, because the intermediate object on which we are setting values will behave as a copy.\n",
      "A typical example is when you are setting values in a column of a DataFrame, like:\n",
      "\n",
      "df[\"col\"][row_indexer] = value\n",
      "\n",
      "Use `df.loc[row_indexer, \"col\"] = values` instead, to perform the assignment in a single step and ensure this keeps updating the original `df`.\n",
      "\n",
      "See the caveats in the documentation: https://pandas.pydata.org/pandas-docs/stable/user_guide/indexing.html#returning-a-view-versus-a-copy\n",
      "\n",
      "  self.matrix[x][y] = value\n",
      "c:\\Users\\kuche\\anaconda3\\Lib\\site-packages\\association_metrics\\categorical.py:105: FutureWarning: ChainedAssignmentError: behaviour will change in pandas 3.0!\n",
      "You are setting values through chained assignment. Currently this works in certain cases, but when using Copy-on-Write (which will become the default behaviour in pandas 3.0) this will never work to update the original DataFrame or Series, because the intermediate object on which we are setting values will behave as a copy.\n",
      "A typical example is when you are setting values in a column of a DataFrame, like:\n",
      "\n",
      "df[\"col\"][row_indexer] = value\n",
      "\n",
      "Use `df.loc[row_indexer, \"col\"] = values` instead, to perform the assignment in a single step and ensure this keeps updating the original `df`.\n",
      "\n",
      "See the caveats in the documentation: https://pandas.pydata.org/pandas-docs/stable/user_guide/indexing.html#returning-a-view-versus-a-copy\n",
      "\n",
      "  self.matrix[y][x] = value\n",
      "c:\\Users\\kuche\\anaconda3\\Lib\\site-packages\\association_metrics\\categorical.py:100: FutureWarning: ChainedAssignmentError: behaviour will change in pandas 3.0!\n",
      "You are setting values through chained assignment. Currently this works in certain cases, but when using Copy-on-Write (which will become the default behaviour in pandas 3.0) this will never work to update the original DataFrame or Series, because the intermediate object on which we are setting values will behave as a copy.\n",
      "A typical example is when you are setting values in a column of a DataFrame, like:\n",
      "\n",
      "df[\"col\"][row_indexer] = value\n",
      "\n",
      "Use `df.loc[row_indexer, \"col\"] = values` instead, to perform the assignment in a single step and ensure this keeps updating the original `df`.\n",
      "\n",
      "See the caveats in the documentation: https://pandas.pydata.org/pandas-docs/stable/user_guide/indexing.html#returning-a-view-versus-a-copy\n",
      "\n",
      "  self.matrix[x][y] = 1\n"
     ]
    },
    {
     "data": {
      "text/html": [
       "<div>\n",
       "<style scoped>\n",
       "    .dataframe tbody tr th:only-of-type {\n",
       "        vertical-align: middle;\n",
       "    }\n",
       "\n",
       "    .dataframe tbody tr th {\n",
       "        vertical-align: top;\n",
       "    }\n",
       "\n",
       "    .dataframe thead th {\n",
       "        text-align: right;\n",
       "    }\n",
       "</style>\n",
       "<table border=\"1\" class=\"dataframe\">\n",
       "  <thead>\n",
       "    <tr style=\"text-align: right;\">\n",
       "      <th></th>\n",
       "      <th>cut</th>\n",
       "      <th>color</th>\n",
       "      <th>clarity</th>\n",
       "    </tr>\n",
       "  </thead>\n",
       "  <tbody>\n",
       "    <tr>\n",
       "      <th>cut</th>\n",
       "      <td>1.000000</td>\n",
       "      <td>0.037724</td>\n",
       "      <td>0.142217</td>\n",
       "    </tr>\n",
       "    <tr>\n",
       "      <th>color</th>\n",
       "      <td>0.037724</td>\n",
       "      <td>1.000000</td>\n",
       "      <td>0.079487</td>\n",
       "    </tr>\n",
       "    <tr>\n",
       "      <th>clarity</th>\n",
       "      <td>0.142217</td>\n",
       "      <td>0.079487</td>\n",
       "      <td>1.000000</td>\n",
       "    </tr>\n",
       "  </tbody>\n",
       "</table>\n",
       "</div>"
      ],
      "text/plain": [
       "              cut     color   clarity\n",
       "cut      1.000000  0.037724  0.142217\n",
       "color    0.037724  1.000000  0.079487\n",
       "clarity  0.142217  0.079487  1.000000"
      ]
     },
     "metadata": {},
     "output_type": "display_data"
    }
   ],
   "source": [
    "import association_metrics as am\n",
    "\n",
    "df_cat = df.apply(lambda x: x.astype(\"category\") if x.dtype == \"object\" else x)\n",
    "\n",
    "cramersv = am.CramersV(df_cat)\n",
    "\n",
    "cramersv.fit()"
   ]
  },
  {
   "cell_type": "markdown",
   "id": "d4ca871e",
   "metadata": {},
   "source": [
    "### 3. ANOVA\n",
    "\n",
    "*Для измерения связи между Числовым - Категориальным признаком*\n",
    "\n",
    "ANOVA (англ. Analysis of Variance) - это статистический метод, используемый для сравнения средних значений между тремя и более группами. ANOVA анализирует различия между средними значениями внутри групп и между группами, чтобы определить, есть ли статистически значимые различия между ними.\n",
    "\n",
    "ANOVA основан на предположении, что переменная, которая анализируется, является нормально распределенной в каждой группе, и что дисперсия внутри групп равномерна. В результате, ANOVA проверяет, насколько различны средние значения между группами по сравнению со случайной вариацией внутри групп.\n",
    "\n",
    "ANOVA производит F-тест, который сравнивает дисперсию между группами с дисперсией внутри групп. Если различия между группами значительны по сравнению со случайной вариацией внутри групп, то F-тест покажет статистически значимый результат, указывающий на наличие различий между группами."
   ]
  },
  {
   "cell_type": "code",
   "execution_count": null,
   "id": "29df00c3",
   "metadata": {},
   "outputs": [
    {
     "name": "stdout",
     "output_type": "stream",
     "text": [
      "P-Value for Anova is:  4.3558466424602e-12\n",
      "Features are correlated\n"
     ]
    }
   ],
   "source": [
    "# Generating sample data\n",
    "import pandas as pd\n",
    "ColumnNames=['FuelType','CarPrice']\n",
    "DataValues= [\n",
    "             [  'Petrol',   2000],\n",
    "             [  'Petrol',   2100],\n",
    "             [  'Petrol',   1900],\n",
    "             [  'Petrol',   2150],\n",
    "             [  'Petrol',   2100],\n",
    "             [  'Petrol',   2200],\n",
    "             [  'Petrol',   1950],\n",
    "             [  'Diesel',   2500],\n",
    "             [  'Diesel',   2700],\n",
    "             [  'Diesel',   2900],\n",
    "             [  'Diesel',   2850],\n",
    "             [  'Diesel',   2600],\n",
    "             [  'Diesel',   2500],\n",
    "             [  'Diesel',   2700],\n",
    "             [  'CNG',   1500],\n",
    "             [  'CNG',   1400],\n",
    "             [  'CNG',   1600],\n",
    "             [  'CNG',   1650],\n",
    "             [  'CNG',   1600],\n",
    "             [  'CNG',   1500],\n",
    "             [  'CNG',   1500]\n",
    "           ]\n",
    "#Create the Data Frame\n",
    "CarData=pd.DataFrame(data=DataValues,columns=ColumnNames)\n",
    "\n",
    "########################################################\n",
    "# f_oneway() function takes the group data as input and\n",
    "# returns F-statistic and P-value\n",
    "\n",
    "from scipy.stats import f_oneway\n",
    "\n",
    "# Running the one-way anova test between CarPrice and FuelTypes\n",
    "# Assumption(H0) is that FuelType and CarPrices are NOT correlated\n",
    "\n",
    "# Finds out the Prices data for each FuelType as a list\n",
    "\n",
    "CategoryGroupLists = CarData.groupby('FuelType')['CarPrice'].apply(list)\n",
    "\n",
    "# Performing the ANOVA test\n",
    "# We accept the Assumption(H0) only when P-Value >= 0.05\n",
    "\n",
    "AnovaResults = f_oneway(*CategoryGroupLists)\n",
    "\n",
    "print('P-Value for Anova is: ', AnovaResults[1])\n",
    "\n",
    "if AnovaResults[1] >= 0.05:\n",
    "    print('Features are NOT correlated')\n",
    "else:\n",
    "    print('Features are correlated')"
   ]
  },
  {
   "cell_type": "code",
   "execution_count": null,
   "id": "4399834a",
   "metadata": {},
   "outputs": [
    {
     "data": {
      "text/html": [
       "<div>\n",
       "<style scoped>\n",
       "    .dataframe tbody tr th:only-of-type {\n",
       "        vertical-align: middle;\n",
       "    }\n",
       "\n",
       "    .dataframe tbody tr th {\n",
       "        vertical-align: top;\n",
       "    }\n",
       "\n",
       "    .dataframe thead th {\n",
       "        text-align: right;\n",
       "    }\n",
       "</style>\n",
       "<table border=\"1\" class=\"dataframe\">\n",
       "  <thead>\n",
       "    <tr style=\"text-align: right;\">\n",
       "      <th></th>\n",
       "      <th>Category</th>\n",
       "      <th>Numerical</th>\n",
       "      <th>Is correlated</th>\n",
       "    </tr>\n",
       "  </thead>\n",
       "  <tbody>\n",
       "    <tr>\n",
       "      <th>0</th>\n",
       "      <td>cut</td>\n",
       "      <td>carat</td>\n",
       "      <td>Yes</td>\n",
       "    </tr>\n",
       "    <tr>\n",
       "      <th>1</th>\n",
       "      <td>cut</td>\n",
       "      <td>depth</td>\n",
       "      <td>Yes</td>\n",
       "    </tr>\n",
       "    <tr>\n",
       "      <th>2</th>\n",
       "      <td>cut</td>\n",
       "      <td>table</td>\n",
       "      <td>Yes</td>\n",
       "    </tr>\n",
       "    <tr>\n",
       "      <th>3</th>\n",
       "      <td>cut</td>\n",
       "      <td>price</td>\n",
       "      <td>Yes</td>\n",
       "    </tr>\n",
       "    <tr>\n",
       "      <th>4</th>\n",
       "      <td>cut</td>\n",
       "      <td>'x'</td>\n",
       "      <td>Yes</td>\n",
       "    </tr>\n",
       "    <tr>\n",
       "      <th>5</th>\n",
       "      <td>cut</td>\n",
       "      <td>'y'</td>\n",
       "      <td>Yes</td>\n",
       "    </tr>\n",
       "    <tr>\n",
       "      <th>6</th>\n",
       "      <td>cut</td>\n",
       "      <td>'z'</td>\n",
       "      <td>Yes</td>\n",
       "    </tr>\n",
       "    <tr>\n",
       "      <th>7</th>\n",
       "      <td>color</td>\n",
       "      <td>carat</td>\n",
       "      <td>Yes</td>\n",
       "    </tr>\n",
       "    <tr>\n",
       "      <th>8</th>\n",
       "      <td>color</td>\n",
       "      <td>depth</td>\n",
       "      <td>Yes</td>\n",
       "    </tr>\n",
       "    <tr>\n",
       "      <th>9</th>\n",
       "      <td>color</td>\n",
       "      <td>table</td>\n",
       "      <td>Yes</td>\n",
       "    </tr>\n",
       "    <tr>\n",
       "      <th>10</th>\n",
       "      <td>color</td>\n",
       "      <td>price</td>\n",
       "      <td>Yes</td>\n",
       "    </tr>\n",
       "    <tr>\n",
       "      <th>11</th>\n",
       "      <td>color</td>\n",
       "      <td>'x'</td>\n",
       "      <td>Yes</td>\n",
       "    </tr>\n",
       "    <tr>\n",
       "      <th>12</th>\n",
       "      <td>color</td>\n",
       "      <td>'y'</td>\n",
       "      <td>Yes</td>\n",
       "    </tr>\n",
       "    <tr>\n",
       "      <th>13</th>\n",
       "      <td>color</td>\n",
       "      <td>'z'</td>\n",
       "      <td>Yes</td>\n",
       "    </tr>\n",
       "    <tr>\n",
       "      <th>14</th>\n",
       "      <td>clarity</td>\n",
       "      <td>carat</td>\n",
       "      <td>Yes</td>\n",
       "    </tr>\n",
       "    <tr>\n",
       "      <th>15</th>\n",
       "      <td>clarity</td>\n",
       "      <td>depth</td>\n",
       "      <td>Yes</td>\n",
       "    </tr>\n",
       "    <tr>\n",
       "      <th>16</th>\n",
       "      <td>clarity</td>\n",
       "      <td>table</td>\n",
       "      <td>Yes</td>\n",
       "    </tr>\n",
       "    <tr>\n",
       "      <th>17</th>\n",
       "      <td>clarity</td>\n",
       "      <td>price</td>\n",
       "      <td>Yes</td>\n",
       "    </tr>\n",
       "    <tr>\n",
       "      <th>18</th>\n",
       "      <td>clarity</td>\n",
       "      <td>'x'</td>\n",
       "      <td>Yes</td>\n",
       "    </tr>\n",
       "    <tr>\n",
       "      <th>19</th>\n",
       "      <td>clarity</td>\n",
       "      <td>'y'</td>\n",
       "      <td>Yes</td>\n",
       "    </tr>\n",
       "    <tr>\n",
       "      <th>20</th>\n",
       "      <td>clarity</td>\n",
       "      <td>'z'</td>\n",
       "      <td>Yes</td>\n",
       "    </tr>\n",
       "  </tbody>\n",
       "</table>\n",
       "</div>"
      ],
      "text/plain": [
       "   Category Numerical Is correlated\n",
       "0       cut     carat           Yes\n",
       "1       cut     depth           Yes\n",
       "2       cut     table           Yes\n",
       "3       cut     price           Yes\n",
       "4       cut       'x'           Yes\n",
       "5       cut       'y'           Yes\n",
       "6       cut       'z'           Yes\n",
       "7     color     carat           Yes\n",
       "8     color     depth           Yes\n",
       "9     color     table           Yes\n",
       "10    color     price           Yes\n",
       "11    color       'x'           Yes\n",
       "12    color       'y'           Yes\n",
       "13    color       'z'           Yes\n",
       "14  clarity     carat           Yes\n",
       "15  clarity     depth           Yes\n",
       "16  clarity     table           Yes\n",
       "17  clarity     price           Yes\n",
       "18  clarity       'x'           Yes\n",
       "19  clarity       'y'           Yes\n",
       "20  clarity       'z'           Yes"
      ]
     },
     "metadata": {},
     "output_type": "display_data"
    }
   ],
   "source": [
    "Data = []\n",
    "\n",
    "for c1 in df.columns:\n",
    "    for c2 in df.columns:\n",
    "        if df[c1].dtype == 'object' and df[c2].dtype != 'object':\n",
    "            CategoryGroupLists = df.groupby(c1)[c2].apply(list)\n",
    "            AnovaResults = f_oneway(*CategoryGroupLists)\n",
    "\n",
    "            if AnovaResults[1] >= 0.05:\n",
    "                Data.append({'Category' : c1, 'Numerical' : c2, 'Is correlated' : 'No'})\n",
    "            else:\n",
    "                Data.append({'Category' : c1, 'Numerical' : c2, 'Is correlated' : 'Yes'})\n",
    "\n",
    "AnovaRes = pd.DataFrame.from_dict(Data)\n",
    "AnovaRes"
   ]
  },
  {
   "cell_type": "markdown",
   "id": "57f1fc84",
   "metadata": {},
   "source": [
    "## Polars"
   ]
  },
  {
   "cell_type": "markdown",
   "id": "778d4ad8",
   "metadata": {},
   "source": [
    "В конце 2020 года в python стала доступна библиотека Polars.\n",
    "\n",
    "Polars - это высокопроизводительная библиотека для манипуляции и анализа данных в Python и Rust. Она была создана как альтернатива Pandas, но с учетом возможностей параллельной обработки данных на многопроцессорных системах.\n",
    "\n",
    "Одним из основных преимуществ Polars является его скорость работы с данными. Polars использует многопоточную обработку данных, что позволяет обрабатывать большие объемы данных на многопроцессорных системах в несколько раз быстрее, чем Pandas. Кроме того, Polars имеет более эффективную систему памяти, что позволяет работать с данными, которые не помещаются в оперативной памяти.\n"
   ]
  },
  {
   "cell_type": "markdown",
   "id": "a4123120",
   "metadata": {},
   "source": [
    "Хорошая [статья про сравнение Pandas и Polars](https://vc.ru/u/1389654-machine-learning/583603-pandas-vs-polars-sravnenie-sintaksisa-i-skorosti)"
   ]
  },
  {
   "cell_type": "code",
   "execution_count": null,
   "id": "e8973e57",
   "metadata": {},
   "outputs": [],
   "source": [
    "df_big = df.copy()\n",
    "\n",
    "for i in range(50):\n",
    "  df_big = pd.concat([df_big, df])\n",
    "\n",
    "df_big.to_csv(\"diamonds_big.csv\", index=False)"
   ]
  },
  {
   "cell_type": "code",
   "execution_count": null,
   "id": "ad704e9f",
   "metadata": {},
   "outputs": [
    {
     "data": {
      "text/plain": [
       "((2744055, 10), (53805, 10))"
      ]
     },
     "metadata": {},
     "output_type": "display_data"
    }
   ],
   "source": [
    "df_big.shape, df.shape"
   ]
  },
  {
   "cell_type": "code",
   "execution_count": null,
   "id": "7a631b0f",
   "metadata": {},
   "outputs": [
    {
     "name": "stdout",
     "output_type": "stream",
     "text": [
      "1.30.0\n"
     ]
    }
   ],
   "source": [
    "# !pip install polars\n",
    "\n",
    "import polars as pl\n",
    "\n",
    "print(pl.__version__)"
   ]
  },
  {
   "cell_type": "markdown",
   "id": "49da0d55",
   "metadata": {},
   "source": [
    "### Загрузка данных"
   ]
  },
  {
   "cell_type": "code",
   "execution_count": null,
   "id": "e1e17dc3",
   "metadata": {},
   "outputs": [
    {
     "name": "stdout",
     "output_type": "stream",
     "text": [
      "CPU times: total: 969 ms\n",
      "Wall time: 237 ms\n"
     ]
    }
   ],
   "source": [
    "%%time\n",
    "\n",
    "df_pl = pl.read_csv(\"diamonds_big.csv\")"
   ]
  },
  {
   "cell_type": "code",
   "execution_count": null,
   "id": "c9568af9",
   "metadata": {},
   "outputs": [
    {
     "name": "stdout",
     "output_type": "stream",
     "text": [
      "CPU times: total: 1.72 s\n",
      "Wall time: 1.8 s\n"
     ]
    }
   ],
   "source": [
    "%%time\n",
    "\n",
    "df = pd.read_csv(\"diamonds_big.csv\")"
   ]
  },
  {
   "cell_type": "markdown",
   "id": "1fa4dce2",
   "metadata": {},
   "source": [
    "### Выбор и фильтрация данных"
   ]
  },
  {
   "cell_type": "code",
   "execution_count": null,
   "id": "629375a8",
   "metadata": {},
   "outputs": [
    {
     "data": {
      "text/html": [
       "<div>\n",
       "<style scoped>\n",
       "    .dataframe tbody tr th:only-of-type {\n",
       "        vertical-align: middle;\n",
       "    }\n",
       "\n",
       "    .dataframe tbody tr th {\n",
       "        vertical-align: top;\n",
       "    }\n",
       "\n",
       "    .dataframe thead th {\n",
       "        text-align: right;\n",
       "    }\n",
       "</style>\n",
       "<table border=\"1\" class=\"dataframe\">\n",
       "  <thead>\n",
       "    <tr style=\"text-align: right;\">\n",
       "      <th></th>\n",
       "      <th>carat</th>\n",
       "      <th>cut</th>\n",
       "      <th>color</th>\n",
       "      <th>clarity</th>\n",
       "      <th>depth</th>\n",
       "      <th>table</th>\n",
       "      <th>price</th>\n",
       "      <th>'x'</th>\n",
       "      <th>'y'</th>\n",
       "      <th>'z'</th>\n",
       "    </tr>\n",
       "  </thead>\n",
       "  <tbody>\n",
       "    <tr>\n",
       "      <th>0</th>\n",
       "      <td>0.23</td>\n",
       "      <td>Ideal</td>\n",
       "      <td>E</td>\n",
       "      <td>SI2</td>\n",
       "      <td>61.5</td>\n",
       "      <td>55.0</td>\n",
       "      <td>326.0</td>\n",
       "      <td>3.95</td>\n",
       "      <td>3.98</td>\n",
       "      <td>2.43</td>\n",
       "    </tr>\n",
       "    <tr>\n",
       "      <th>1</th>\n",
       "      <td>0.21</td>\n",
       "      <td>Premium</td>\n",
       "      <td>E</td>\n",
       "      <td>SI1</td>\n",
       "      <td>59.8</td>\n",
       "      <td>61.0</td>\n",
       "      <td>326.0</td>\n",
       "      <td>3.89</td>\n",
       "      <td>3.84</td>\n",
       "      <td>2.31</td>\n",
       "    </tr>\n",
       "    <tr>\n",
       "      <th>2</th>\n",
       "      <td>0.23</td>\n",
       "      <td>Good</td>\n",
       "      <td>E</td>\n",
       "      <td>VS1</td>\n",
       "      <td>56.9</td>\n",
       "      <td>65.0</td>\n",
       "      <td>327.0</td>\n",
       "      <td>4.05</td>\n",
       "      <td>4.07</td>\n",
       "      <td>2.31</td>\n",
       "    </tr>\n",
       "    <tr>\n",
       "      <th>3</th>\n",
       "      <td>0.29</td>\n",
       "      <td>Premium</td>\n",
       "      <td>I</td>\n",
       "      <td>VS2</td>\n",
       "      <td>62.4</td>\n",
       "      <td>58.0</td>\n",
       "      <td>334.0</td>\n",
       "      <td>4.20</td>\n",
       "      <td>4.23</td>\n",
       "      <td>2.63</td>\n",
       "    </tr>\n",
       "    <tr>\n",
       "      <th>4</th>\n",
       "      <td>0.31</td>\n",
       "      <td>Good</td>\n",
       "      <td>J</td>\n",
       "      <td>SI2</td>\n",
       "      <td>63.3</td>\n",
       "      <td>58.0</td>\n",
       "      <td>335.0</td>\n",
       "      <td>4.34</td>\n",
       "      <td>4.35</td>\n",
       "      <td>2.75</td>\n",
       "    </tr>\n",
       "  </tbody>\n",
       "</table>\n",
       "</div>"
      ],
      "text/plain": [
       "   carat      cut color clarity  depth  table  price   'x'   'y'   'z'\n",
       "0   0.23    Ideal     E     SI2   61.5   55.0  326.0  3.95  3.98  2.43\n",
       "1   0.21  Premium     E     SI1   59.8   61.0  326.0  3.89  3.84  2.31\n",
       "2   0.23     Good     E     VS1   56.9   65.0  327.0  4.05  4.07  2.31\n",
       "3   0.29  Premium     I     VS2   62.4   58.0  334.0  4.20  4.23  2.63\n",
       "4   0.31     Good     J     SI2   63.3   58.0  335.0  4.34  4.35  2.75"
      ]
     },
     "metadata": {},
     "output_type": "display_data"
    }
   ],
   "source": [
    "df.head()"
   ]
  },
  {
   "cell_type": "code",
   "execution_count": null,
   "id": "325f2482",
   "metadata": {},
   "outputs": [
    {
     "name": "stdout",
     "output_type": "stream",
     "text": [
      "CPU times: total: 15.6 ms\n",
      "Wall time: 19 ms\n"
     ]
    },
    {
     "data": {
      "text/html": [
       "<div>\n",
       "<style scoped>\n",
       "    .dataframe tbody tr th:only-of-type {\n",
       "        vertical-align: middle;\n",
       "    }\n",
       "\n",
       "    .dataframe tbody tr th {\n",
       "        vertical-align: top;\n",
       "    }\n",
       "\n",
       "    .dataframe thead th {\n",
       "        text-align: right;\n",
       "    }\n",
       "</style>\n",
       "<table border=\"1\" class=\"dataframe\">\n",
       "  <thead>\n",
       "    <tr style=\"text-align: right;\">\n",
       "      <th></th>\n",
       "      <th>carat</th>\n",
       "      <th>depth</th>\n",
       "    </tr>\n",
       "  </thead>\n",
       "  <tbody>\n",
       "    <tr>\n",
       "      <th>0</th>\n",
       "      <td>0.23</td>\n",
       "      <td>61.5</td>\n",
       "    </tr>\n",
       "    <tr>\n",
       "      <th>1</th>\n",
       "      <td>0.21</td>\n",
       "      <td>59.8</td>\n",
       "    </tr>\n",
       "    <tr>\n",
       "      <th>2</th>\n",
       "      <td>0.23</td>\n",
       "      <td>56.9</td>\n",
       "    </tr>\n",
       "    <tr>\n",
       "      <th>3</th>\n",
       "      <td>0.29</td>\n",
       "      <td>62.4</td>\n",
       "    </tr>\n",
       "    <tr>\n",
       "      <th>4</th>\n",
       "      <td>0.31</td>\n",
       "      <td>63.3</td>\n",
       "    </tr>\n",
       "    <tr>\n",
       "      <th>...</th>\n",
       "      <td>...</td>\n",
       "      <td>...</td>\n",
       "    </tr>\n",
       "    <tr>\n",
       "      <th>2744050</th>\n",
       "      <td>0.72</td>\n",
       "      <td>60.8</td>\n",
       "    </tr>\n",
       "    <tr>\n",
       "      <th>2744051</th>\n",
       "      <td>0.72</td>\n",
       "      <td>63.1</td>\n",
       "    </tr>\n",
       "    <tr>\n",
       "      <th>2744052</th>\n",
       "      <td>0.70</td>\n",
       "      <td>62.8</td>\n",
       "    </tr>\n",
       "    <tr>\n",
       "      <th>2744053</th>\n",
       "      <td>0.86</td>\n",
       "      <td>61.0</td>\n",
       "    </tr>\n",
       "    <tr>\n",
       "      <th>2744054</th>\n",
       "      <td>0.75</td>\n",
       "      <td>62.2</td>\n",
       "    </tr>\n",
       "  </tbody>\n",
       "</table>\n",
       "<p>2744055 rows × 2 columns</p>\n",
       "</div>"
      ],
      "text/plain": [
       "         carat  depth\n",
       "0         0.23   61.5\n",
       "1         0.21   59.8\n",
       "2         0.23   56.9\n",
       "3         0.29   62.4\n",
       "4         0.31   63.3\n",
       "...        ...    ...\n",
       "2744050   0.72   60.8\n",
       "2744051   0.72   63.1\n",
       "2744052   0.70   62.8\n",
       "2744053   0.86   61.0\n",
       "2744054   0.75   62.2\n",
       "\n",
       "[2744055 rows x 2 columns]"
      ]
     },
     "metadata": {},
     "output_type": "display_data"
    }
   ],
   "source": [
    "%%time\n",
    "\n",
    "df[['carat', 'depth']]"
   ]
  },
  {
   "cell_type": "code",
   "execution_count": null,
   "id": "5c4b8620",
   "metadata": {},
   "outputs": [
    {
     "name": "stdout",
     "output_type": "stream",
     "text": [
      "CPU times: total: 0 ns\n",
      "Wall time: 0 ns\n"
     ]
    },
    {
     "data": {
      "text/html": [
       "<div><style>\n",
       ".dataframe > thead > tr,\n",
       ".dataframe > tbody > tr {\n",
       "  text-align: right;\n",
       "  white-space: pre-wrap;\n",
       "}\n",
       "</style>\n",
       "<small>shape: (2_744_055, 2)</small><table border=\"1\" class=\"dataframe\"><thead><tr><th>carat</th><th>depth</th></tr><tr><td>f64</td><td>f64</td></tr></thead><tbody><tr><td>0.23</td><td>61.5</td></tr><tr><td>0.21</td><td>59.8</td></tr><tr><td>0.23</td><td>56.9</td></tr><tr><td>0.29</td><td>62.4</td></tr><tr><td>0.31</td><td>63.3</td></tr><tr><td>&hellip;</td><td>&hellip;</td></tr><tr><td>0.72</td><td>60.8</td></tr><tr><td>0.72</td><td>63.1</td></tr><tr><td>0.7</td><td>62.8</td></tr><tr><td>0.86</td><td>61.0</td></tr><tr><td>0.75</td><td>62.2</td></tr></tbody></table></div>"
      ],
      "text/plain": [
       "shape: (2_744_055, 2)\n",
       "┌───────┬───────┐\n",
       "│ carat ┆ depth │\n",
       "│ ---   ┆ ---   │\n",
       "│ f64   ┆ f64   │\n",
       "╞═══════╪═══════╡\n",
       "│ 0.23  ┆ 61.5  │\n",
       "│ 0.21  ┆ 59.8  │\n",
       "│ 0.23  ┆ 56.9  │\n",
       "│ 0.29  ┆ 62.4  │\n",
       "│ 0.31  ┆ 63.3  │\n",
       "│ …     ┆ …     │\n",
       "│ 0.72  ┆ 60.8  │\n",
       "│ 0.72  ┆ 63.1  │\n",
       "│ 0.7   ┆ 62.8  │\n",
       "│ 0.86  ┆ 61.0  │\n",
       "│ 0.75  ┆ 62.2  │\n",
       "└───────┴───────┘"
      ]
     },
     "metadata": {},
     "output_type": "display_data"
    }
   ],
   "source": [
    "%%time\n",
    "\n",
    "df_pl[['carat', 'depth']]\n",
    "\n",
    "# df_pl.select(pl.col(['carat', 'depth']))"
   ]
  },
  {
   "cell_type": "code",
   "execution_count": null,
   "id": "af78a12d",
   "metadata": {},
   "outputs": [
    {
     "data": {
      "text/html": [
       "<div>\n",
       "<style scoped>\n",
       "    .dataframe tbody tr th:only-of-type {\n",
       "        vertical-align: middle;\n",
       "    }\n",
       "\n",
       "    .dataframe tbody tr th {\n",
       "        vertical-align: top;\n",
       "    }\n",
       "\n",
       "    .dataframe thead th {\n",
       "        text-align: right;\n",
       "    }\n",
       "</style>\n",
       "<table border=\"1\" class=\"dataframe\">\n",
       "  <thead>\n",
       "    <tr style=\"text-align: right;\">\n",
       "      <th></th>\n",
       "      <th>carat</th>\n",
       "      <th>cut</th>\n",
       "      <th>color</th>\n",
       "      <th>clarity</th>\n",
       "      <th>depth</th>\n",
       "      <th>table</th>\n",
       "      <th>price</th>\n",
       "      <th>'x'</th>\n",
       "      <th>'y'</th>\n",
       "      <th>'z'</th>\n",
       "    </tr>\n",
       "  </thead>\n",
       "  <tbody>\n",
       "    <tr>\n",
       "      <th>27355</th>\n",
       "      <td>5.01</td>\n",
       "      <td>Fair</td>\n",
       "      <td>J</td>\n",
       "      <td>I1</td>\n",
       "      <td>65.5</td>\n",
       "      <td>59.0</td>\n",
       "      <td>18018.0</td>\n",
       "      <td>10.74</td>\n",
       "      <td>10.54</td>\n",
       "      <td>6.98</td>\n",
       "    </tr>\n",
       "    <tr>\n",
       "      <th>81160</th>\n",
       "      <td>5.01</td>\n",
       "      <td>Fair</td>\n",
       "      <td>J</td>\n",
       "      <td>I1</td>\n",
       "      <td>65.5</td>\n",
       "      <td>59.0</td>\n",
       "      <td>18018.0</td>\n",
       "      <td>10.74</td>\n",
       "      <td>10.54</td>\n",
       "      <td>6.98</td>\n",
       "    </tr>\n",
       "    <tr>\n",
       "      <th>134965</th>\n",
       "      <td>5.01</td>\n",
       "      <td>Fair</td>\n",
       "      <td>J</td>\n",
       "      <td>I1</td>\n",
       "      <td>65.5</td>\n",
       "      <td>59.0</td>\n",
       "      <td>18018.0</td>\n",
       "      <td>10.74</td>\n",
       "      <td>10.54</td>\n",
       "      <td>6.98</td>\n",
       "    </tr>\n",
       "    <tr>\n",
       "      <th>188770</th>\n",
       "      <td>5.01</td>\n",
       "      <td>Fair</td>\n",
       "      <td>J</td>\n",
       "      <td>I1</td>\n",
       "      <td>65.5</td>\n",
       "      <td>59.0</td>\n",
       "      <td>18018.0</td>\n",
       "      <td>10.74</td>\n",
       "      <td>10.54</td>\n",
       "      <td>6.98</td>\n",
       "    </tr>\n",
       "    <tr>\n",
       "      <th>242575</th>\n",
       "      <td>5.01</td>\n",
       "      <td>Fair</td>\n",
       "      <td>J</td>\n",
       "      <td>I1</td>\n",
       "      <td>65.5</td>\n",
       "      <td>59.0</td>\n",
       "      <td>18018.0</td>\n",
       "      <td>10.74</td>\n",
       "      <td>10.54</td>\n",
       "      <td>6.98</td>\n",
       "    </tr>\n",
       "    <tr>\n",
       "      <th>296380</th>\n",
       "      <td>5.01</td>\n",
       "      <td>Fair</td>\n",
       "      <td>J</td>\n",
       "      <td>I1</td>\n",
       "      <td>65.5</td>\n",
       "      <td>59.0</td>\n",
       "      <td>18018.0</td>\n",
       "      <td>10.74</td>\n",
       "      <td>10.54</td>\n",
       "      <td>6.98</td>\n",
       "    </tr>\n",
       "    <tr>\n",
       "      <th>350185</th>\n",
       "      <td>5.01</td>\n",
       "      <td>Fair</td>\n",
       "      <td>J</td>\n",
       "      <td>I1</td>\n",
       "      <td>65.5</td>\n",
       "      <td>59.0</td>\n",
       "      <td>18018.0</td>\n",
       "      <td>10.74</td>\n",
       "      <td>10.54</td>\n",
       "      <td>6.98</td>\n",
       "    </tr>\n",
       "    <tr>\n",
       "      <th>403990</th>\n",
       "      <td>5.01</td>\n",
       "      <td>Fair</td>\n",
       "      <td>J</td>\n",
       "      <td>I1</td>\n",
       "      <td>65.5</td>\n",
       "      <td>59.0</td>\n",
       "      <td>18018.0</td>\n",
       "      <td>10.74</td>\n",
       "      <td>10.54</td>\n",
       "      <td>6.98</td>\n",
       "    </tr>\n",
       "    <tr>\n",
       "      <th>457795</th>\n",
       "      <td>5.01</td>\n",
       "      <td>Fair</td>\n",
       "      <td>J</td>\n",
       "      <td>I1</td>\n",
       "      <td>65.5</td>\n",
       "      <td>59.0</td>\n",
       "      <td>18018.0</td>\n",
       "      <td>10.74</td>\n",
       "      <td>10.54</td>\n",
       "      <td>6.98</td>\n",
       "    </tr>\n",
       "    <tr>\n",
       "      <th>511600</th>\n",
       "      <td>5.01</td>\n",
       "      <td>Fair</td>\n",
       "      <td>J</td>\n",
       "      <td>I1</td>\n",
       "      <td>65.5</td>\n",
       "      <td>59.0</td>\n",
       "      <td>18018.0</td>\n",
       "      <td>10.74</td>\n",
       "      <td>10.54</td>\n",
       "      <td>6.98</td>\n",
       "    </tr>\n",
       "    <tr>\n",
       "      <th>565405</th>\n",
       "      <td>5.01</td>\n",
       "      <td>Fair</td>\n",
       "      <td>J</td>\n",
       "      <td>I1</td>\n",
       "      <td>65.5</td>\n",
       "      <td>59.0</td>\n",
       "      <td>18018.0</td>\n",
       "      <td>10.74</td>\n",
       "      <td>10.54</td>\n",
       "      <td>6.98</td>\n",
       "    </tr>\n",
       "    <tr>\n",
       "      <th>619210</th>\n",
       "      <td>5.01</td>\n",
       "      <td>Fair</td>\n",
       "      <td>J</td>\n",
       "      <td>I1</td>\n",
       "      <td>65.5</td>\n",
       "      <td>59.0</td>\n",
       "      <td>18018.0</td>\n",
       "      <td>10.74</td>\n",
       "      <td>10.54</td>\n",
       "      <td>6.98</td>\n",
       "    </tr>\n",
       "    <tr>\n",
       "      <th>673015</th>\n",
       "      <td>5.01</td>\n",
       "      <td>Fair</td>\n",
       "      <td>J</td>\n",
       "      <td>I1</td>\n",
       "      <td>65.5</td>\n",
       "      <td>59.0</td>\n",
       "      <td>18018.0</td>\n",
       "      <td>10.74</td>\n",
       "      <td>10.54</td>\n",
       "      <td>6.98</td>\n",
       "    </tr>\n",
       "    <tr>\n",
       "      <th>726820</th>\n",
       "      <td>5.01</td>\n",
       "      <td>Fair</td>\n",
       "      <td>J</td>\n",
       "      <td>I1</td>\n",
       "      <td>65.5</td>\n",
       "      <td>59.0</td>\n",
       "      <td>18018.0</td>\n",
       "      <td>10.74</td>\n",
       "      <td>10.54</td>\n",
       "      <td>6.98</td>\n",
       "    </tr>\n",
       "    <tr>\n",
       "      <th>780625</th>\n",
       "      <td>5.01</td>\n",
       "      <td>Fair</td>\n",
       "      <td>J</td>\n",
       "      <td>I1</td>\n",
       "      <td>65.5</td>\n",
       "      <td>59.0</td>\n",
       "      <td>18018.0</td>\n",
       "      <td>10.74</td>\n",
       "      <td>10.54</td>\n",
       "      <td>6.98</td>\n",
       "    </tr>\n",
       "    <tr>\n",
       "      <th>834430</th>\n",
       "      <td>5.01</td>\n",
       "      <td>Fair</td>\n",
       "      <td>J</td>\n",
       "      <td>I1</td>\n",
       "      <td>65.5</td>\n",
       "      <td>59.0</td>\n",
       "      <td>18018.0</td>\n",
       "      <td>10.74</td>\n",
       "      <td>10.54</td>\n",
       "      <td>6.98</td>\n",
       "    </tr>\n",
       "    <tr>\n",
       "      <th>888235</th>\n",
       "      <td>5.01</td>\n",
       "      <td>Fair</td>\n",
       "      <td>J</td>\n",
       "      <td>I1</td>\n",
       "      <td>65.5</td>\n",
       "      <td>59.0</td>\n",
       "      <td>18018.0</td>\n",
       "      <td>10.74</td>\n",
       "      <td>10.54</td>\n",
       "      <td>6.98</td>\n",
       "    </tr>\n",
       "    <tr>\n",
       "      <th>942040</th>\n",
       "      <td>5.01</td>\n",
       "      <td>Fair</td>\n",
       "      <td>J</td>\n",
       "      <td>I1</td>\n",
       "      <td>65.5</td>\n",
       "      <td>59.0</td>\n",
       "      <td>18018.0</td>\n",
       "      <td>10.74</td>\n",
       "      <td>10.54</td>\n",
       "      <td>6.98</td>\n",
       "    </tr>\n",
       "    <tr>\n",
       "      <th>995845</th>\n",
       "      <td>5.01</td>\n",
       "      <td>Fair</td>\n",
       "      <td>J</td>\n",
       "      <td>I1</td>\n",
       "      <td>65.5</td>\n",
       "      <td>59.0</td>\n",
       "      <td>18018.0</td>\n",
       "      <td>10.74</td>\n",
       "      <td>10.54</td>\n",
       "      <td>6.98</td>\n",
       "    </tr>\n",
       "    <tr>\n",
       "      <th>1049650</th>\n",
       "      <td>5.01</td>\n",
       "      <td>Fair</td>\n",
       "      <td>J</td>\n",
       "      <td>I1</td>\n",
       "      <td>65.5</td>\n",
       "      <td>59.0</td>\n",
       "      <td>18018.0</td>\n",
       "      <td>10.74</td>\n",
       "      <td>10.54</td>\n",
       "      <td>6.98</td>\n",
       "    </tr>\n",
       "    <tr>\n",
       "      <th>1103455</th>\n",
       "      <td>5.01</td>\n",
       "      <td>Fair</td>\n",
       "      <td>J</td>\n",
       "      <td>I1</td>\n",
       "      <td>65.5</td>\n",
       "      <td>59.0</td>\n",
       "      <td>18018.0</td>\n",
       "      <td>10.74</td>\n",
       "      <td>10.54</td>\n",
       "      <td>6.98</td>\n",
       "    </tr>\n",
       "    <tr>\n",
       "      <th>1157260</th>\n",
       "      <td>5.01</td>\n",
       "      <td>Fair</td>\n",
       "      <td>J</td>\n",
       "      <td>I1</td>\n",
       "      <td>65.5</td>\n",
       "      <td>59.0</td>\n",
       "      <td>18018.0</td>\n",
       "      <td>10.74</td>\n",
       "      <td>10.54</td>\n",
       "      <td>6.98</td>\n",
       "    </tr>\n",
       "    <tr>\n",
       "      <th>1211065</th>\n",
       "      <td>5.01</td>\n",
       "      <td>Fair</td>\n",
       "      <td>J</td>\n",
       "      <td>I1</td>\n",
       "      <td>65.5</td>\n",
       "      <td>59.0</td>\n",
       "      <td>18018.0</td>\n",
       "      <td>10.74</td>\n",
       "      <td>10.54</td>\n",
       "      <td>6.98</td>\n",
       "    </tr>\n",
       "    <tr>\n",
       "      <th>1264870</th>\n",
       "      <td>5.01</td>\n",
       "      <td>Fair</td>\n",
       "      <td>J</td>\n",
       "      <td>I1</td>\n",
       "      <td>65.5</td>\n",
       "      <td>59.0</td>\n",
       "      <td>18018.0</td>\n",
       "      <td>10.74</td>\n",
       "      <td>10.54</td>\n",
       "      <td>6.98</td>\n",
       "    </tr>\n",
       "    <tr>\n",
       "      <th>1318675</th>\n",
       "      <td>5.01</td>\n",
       "      <td>Fair</td>\n",
       "      <td>J</td>\n",
       "      <td>I1</td>\n",
       "      <td>65.5</td>\n",
       "      <td>59.0</td>\n",
       "      <td>18018.0</td>\n",
       "      <td>10.74</td>\n",
       "      <td>10.54</td>\n",
       "      <td>6.98</td>\n",
       "    </tr>\n",
       "    <tr>\n",
       "      <th>1372480</th>\n",
       "      <td>5.01</td>\n",
       "      <td>Fair</td>\n",
       "      <td>J</td>\n",
       "      <td>I1</td>\n",
       "      <td>65.5</td>\n",
       "      <td>59.0</td>\n",
       "      <td>18018.0</td>\n",
       "      <td>10.74</td>\n",
       "      <td>10.54</td>\n",
       "      <td>6.98</td>\n",
       "    </tr>\n",
       "    <tr>\n",
       "      <th>1426285</th>\n",
       "      <td>5.01</td>\n",
       "      <td>Fair</td>\n",
       "      <td>J</td>\n",
       "      <td>I1</td>\n",
       "      <td>65.5</td>\n",
       "      <td>59.0</td>\n",
       "      <td>18018.0</td>\n",
       "      <td>10.74</td>\n",
       "      <td>10.54</td>\n",
       "      <td>6.98</td>\n",
       "    </tr>\n",
       "    <tr>\n",
       "      <th>1480090</th>\n",
       "      <td>5.01</td>\n",
       "      <td>Fair</td>\n",
       "      <td>J</td>\n",
       "      <td>I1</td>\n",
       "      <td>65.5</td>\n",
       "      <td>59.0</td>\n",
       "      <td>18018.0</td>\n",
       "      <td>10.74</td>\n",
       "      <td>10.54</td>\n",
       "      <td>6.98</td>\n",
       "    </tr>\n",
       "    <tr>\n",
       "      <th>1533895</th>\n",
       "      <td>5.01</td>\n",
       "      <td>Fair</td>\n",
       "      <td>J</td>\n",
       "      <td>I1</td>\n",
       "      <td>65.5</td>\n",
       "      <td>59.0</td>\n",
       "      <td>18018.0</td>\n",
       "      <td>10.74</td>\n",
       "      <td>10.54</td>\n",
       "      <td>6.98</td>\n",
       "    </tr>\n",
       "    <tr>\n",
       "      <th>1587700</th>\n",
       "      <td>5.01</td>\n",
       "      <td>Fair</td>\n",
       "      <td>J</td>\n",
       "      <td>I1</td>\n",
       "      <td>65.5</td>\n",
       "      <td>59.0</td>\n",
       "      <td>18018.0</td>\n",
       "      <td>10.74</td>\n",
       "      <td>10.54</td>\n",
       "      <td>6.98</td>\n",
       "    </tr>\n",
       "    <tr>\n",
       "      <th>1641505</th>\n",
       "      <td>5.01</td>\n",
       "      <td>Fair</td>\n",
       "      <td>J</td>\n",
       "      <td>I1</td>\n",
       "      <td>65.5</td>\n",
       "      <td>59.0</td>\n",
       "      <td>18018.0</td>\n",
       "      <td>10.74</td>\n",
       "      <td>10.54</td>\n",
       "      <td>6.98</td>\n",
       "    </tr>\n",
       "    <tr>\n",
       "      <th>1695310</th>\n",
       "      <td>5.01</td>\n",
       "      <td>Fair</td>\n",
       "      <td>J</td>\n",
       "      <td>I1</td>\n",
       "      <td>65.5</td>\n",
       "      <td>59.0</td>\n",
       "      <td>18018.0</td>\n",
       "      <td>10.74</td>\n",
       "      <td>10.54</td>\n",
       "      <td>6.98</td>\n",
       "    </tr>\n",
       "    <tr>\n",
       "      <th>1749115</th>\n",
       "      <td>5.01</td>\n",
       "      <td>Fair</td>\n",
       "      <td>J</td>\n",
       "      <td>I1</td>\n",
       "      <td>65.5</td>\n",
       "      <td>59.0</td>\n",
       "      <td>18018.0</td>\n",
       "      <td>10.74</td>\n",
       "      <td>10.54</td>\n",
       "      <td>6.98</td>\n",
       "    </tr>\n",
       "    <tr>\n",
       "      <th>1802920</th>\n",
       "      <td>5.01</td>\n",
       "      <td>Fair</td>\n",
       "      <td>J</td>\n",
       "      <td>I1</td>\n",
       "      <td>65.5</td>\n",
       "      <td>59.0</td>\n",
       "      <td>18018.0</td>\n",
       "      <td>10.74</td>\n",
       "      <td>10.54</td>\n",
       "      <td>6.98</td>\n",
       "    </tr>\n",
       "    <tr>\n",
       "      <th>1856725</th>\n",
       "      <td>5.01</td>\n",
       "      <td>Fair</td>\n",
       "      <td>J</td>\n",
       "      <td>I1</td>\n",
       "      <td>65.5</td>\n",
       "      <td>59.0</td>\n",
       "      <td>18018.0</td>\n",
       "      <td>10.74</td>\n",
       "      <td>10.54</td>\n",
       "      <td>6.98</td>\n",
       "    </tr>\n",
       "    <tr>\n",
       "      <th>1910530</th>\n",
       "      <td>5.01</td>\n",
       "      <td>Fair</td>\n",
       "      <td>J</td>\n",
       "      <td>I1</td>\n",
       "      <td>65.5</td>\n",
       "      <td>59.0</td>\n",
       "      <td>18018.0</td>\n",
       "      <td>10.74</td>\n",
       "      <td>10.54</td>\n",
       "      <td>6.98</td>\n",
       "    </tr>\n",
       "    <tr>\n",
       "      <th>1964335</th>\n",
       "      <td>5.01</td>\n",
       "      <td>Fair</td>\n",
       "      <td>J</td>\n",
       "      <td>I1</td>\n",
       "      <td>65.5</td>\n",
       "      <td>59.0</td>\n",
       "      <td>18018.0</td>\n",
       "      <td>10.74</td>\n",
       "      <td>10.54</td>\n",
       "      <td>6.98</td>\n",
       "    </tr>\n",
       "    <tr>\n",
       "      <th>2018140</th>\n",
       "      <td>5.01</td>\n",
       "      <td>Fair</td>\n",
       "      <td>J</td>\n",
       "      <td>I1</td>\n",
       "      <td>65.5</td>\n",
       "      <td>59.0</td>\n",
       "      <td>18018.0</td>\n",
       "      <td>10.74</td>\n",
       "      <td>10.54</td>\n",
       "      <td>6.98</td>\n",
       "    </tr>\n",
       "    <tr>\n",
       "      <th>2071945</th>\n",
       "      <td>5.01</td>\n",
       "      <td>Fair</td>\n",
       "      <td>J</td>\n",
       "      <td>I1</td>\n",
       "      <td>65.5</td>\n",
       "      <td>59.0</td>\n",
       "      <td>18018.0</td>\n",
       "      <td>10.74</td>\n",
       "      <td>10.54</td>\n",
       "      <td>6.98</td>\n",
       "    </tr>\n",
       "    <tr>\n",
       "      <th>2125750</th>\n",
       "      <td>5.01</td>\n",
       "      <td>Fair</td>\n",
       "      <td>J</td>\n",
       "      <td>I1</td>\n",
       "      <td>65.5</td>\n",
       "      <td>59.0</td>\n",
       "      <td>18018.0</td>\n",
       "      <td>10.74</td>\n",
       "      <td>10.54</td>\n",
       "      <td>6.98</td>\n",
       "    </tr>\n",
       "    <tr>\n",
       "      <th>2179555</th>\n",
       "      <td>5.01</td>\n",
       "      <td>Fair</td>\n",
       "      <td>J</td>\n",
       "      <td>I1</td>\n",
       "      <td>65.5</td>\n",
       "      <td>59.0</td>\n",
       "      <td>18018.0</td>\n",
       "      <td>10.74</td>\n",
       "      <td>10.54</td>\n",
       "      <td>6.98</td>\n",
       "    </tr>\n",
       "    <tr>\n",
       "      <th>2233360</th>\n",
       "      <td>5.01</td>\n",
       "      <td>Fair</td>\n",
       "      <td>J</td>\n",
       "      <td>I1</td>\n",
       "      <td>65.5</td>\n",
       "      <td>59.0</td>\n",
       "      <td>18018.0</td>\n",
       "      <td>10.74</td>\n",
       "      <td>10.54</td>\n",
       "      <td>6.98</td>\n",
       "    </tr>\n",
       "    <tr>\n",
       "      <th>2287165</th>\n",
       "      <td>5.01</td>\n",
       "      <td>Fair</td>\n",
       "      <td>J</td>\n",
       "      <td>I1</td>\n",
       "      <td>65.5</td>\n",
       "      <td>59.0</td>\n",
       "      <td>18018.0</td>\n",
       "      <td>10.74</td>\n",
       "      <td>10.54</td>\n",
       "      <td>6.98</td>\n",
       "    </tr>\n",
       "    <tr>\n",
       "      <th>2340970</th>\n",
       "      <td>5.01</td>\n",
       "      <td>Fair</td>\n",
       "      <td>J</td>\n",
       "      <td>I1</td>\n",
       "      <td>65.5</td>\n",
       "      <td>59.0</td>\n",
       "      <td>18018.0</td>\n",
       "      <td>10.74</td>\n",
       "      <td>10.54</td>\n",
       "      <td>6.98</td>\n",
       "    </tr>\n",
       "    <tr>\n",
       "      <th>2394775</th>\n",
       "      <td>5.01</td>\n",
       "      <td>Fair</td>\n",
       "      <td>J</td>\n",
       "      <td>I1</td>\n",
       "      <td>65.5</td>\n",
       "      <td>59.0</td>\n",
       "      <td>18018.0</td>\n",
       "      <td>10.74</td>\n",
       "      <td>10.54</td>\n",
       "      <td>6.98</td>\n",
       "    </tr>\n",
       "    <tr>\n",
       "      <th>2448580</th>\n",
       "      <td>5.01</td>\n",
       "      <td>Fair</td>\n",
       "      <td>J</td>\n",
       "      <td>I1</td>\n",
       "      <td>65.5</td>\n",
       "      <td>59.0</td>\n",
       "      <td>18018.0</td>\n",
       "      <td>10.74</td>\n",
       "      <td>10.54</td>\n",
       "      <td>6.98</td>\n",
       "    </tr>\n",
       "    <tr>\n",
       "      <th>2502385</th>\n",
       "      <td>5.01</td>\n",
       "      <td>Fair</td>\n",
       "      <td>J</td>\n",
       "      <td>I1</td>\n",
       "      <td>65.5</td>\n",
       "      <td>59.0</td>\n",
       "      <td>18018.0</td>\n",
       "      <td>10.74</td>\n",
       "      <td>10.54</td>\n",
       "      <td>6.98</td>\n",
       "    </tr>\n",
       "    <tr>\n",
       "      <th>2556190</th>\n",
       "      <td>5.01</td>\n",
       "      <td>Fair</td>\n",
       "      <td>J</td>\n",
       "      <td>I1</td>\n",
       "      <td>65.5</td>\n",
       "      <td>59.0</td>\n",
       "      <td>18018.0</td>\n",
       "      <td>10.74</td>\n",
       "      <td>10.54</td>\n",
       "      <td>6.98</td>\n",
       "    </tr>\n",
       "    <tr>\n",
       "      <th>2609995</th>\n",
       "      <td>5.01</td>\n",
       "      <td>Fair</td>\n",
       "      <td>J</td>\n",
       "      <td>I1</td>\n",
       "      <td>65.5</td>\n",
       "      <td>59.0</td>\n",
       "      <td>18018.0</td>\n",
       "      <td>10.74</td>\n",
       "      <td>10.54</td>\n",
       "      <td>6.98</td>\n",
       "    </tr>\n",
       "    <tr>\n",
       "      <th>2663800</th>\n",
       "      <td>5.01</td>\n",
       "      <td>Fair</td>\n",
       "      <td>J</td>\n",
       "      <td>I1</td>\n",
       "      <td>65.5</td>\n",
       "      <td>59.0</td>\n",
       "      <td>18018.0</td>\n",
       "      <td>10.74</td>\n",
       "      <td>10.54</td>\n",
       "      <td>6.98</td>\n",
       "    </tr>\n",
       "    <tr>\n",
       "      <th>2717605</th>\n",
       "      <td>5.01</td>\n",
       "      <td>Fair</td>\n",
       "      <td>J</td>\n",
       "      <td>I1</td>\n",
       "      <td>65.5</td>\n",
       "      <td>59.0</td>\n",
       "      <td>18018.0</td>\n",
       "      <td>10.74</td>\n",
       "      <td>10.54</td>\n",
       "      <td>6.98</td>\n",
       "    </tr>\n",
       "  </tbody>\n",
       "</table>\n",
       "</div>"
      ],
      "text/plain": [
       "         carat   cut color clarity  depth  table    price    'x'    'y'   'z'\n",
       "27355     5.01  Fair     J      I1   65.5   59.0  18018.0  10.74  10.54  6.98\n",
       "81160     5.01  Fair     J      I1   65.5   59.0  18018.0  10.74  10.54  6.98\n",
       "134965    5.01  Fair     J      I1   65.5   59.0  18018.0  10.74  10.54  6.98\n",
       "188770    5.01  Fair     J      I1   65.5   59.0  18018.0  10.74  10.54  6.98\n",
       "242575    5.01  Fair     J      I1   65.5   59.0  18018.0  10.74  10.54  6.98\n",
       "296380    5.01  Fair     J      I1   65.5   59.0  18018.0  10.74  10.54  6.98\n",
       "350185    5.01  Fair     J      I1   65.5   59.0  18018.0  10.74  10.54  6.98\n",
       "403990    5.01  Fair     J      I1   65.5   59.0  18018.0  10.74  10.54  6.98\n",
       "457795    5.01  Fair     J      I1   65.5   59.0  18018.0  10.74  10.54  6.98\n",
       "511600    5.01  Fair     J      I1   65.5   59.0  18018.0  10.74  10.54  6.98\n",
       "565405    5.01  Fair     J      I1   65.5   59.0  18018.0  10.74  10.54  6.98\n",
       "619210    5.01  Fair     J      I1   65.5   59.0  18018.0  10.74  10.54  6.98\n",
       "673015    5.01  Fair     J      I1   65.5   59.0  18018.0  10.74  10.54  6.98\n",
       "726820    5.01  Fair     J      I1   65.5   59.0  18018.0  10.74  10.54  6.98\n",
       "780625    5.01  Fair     J      I1   65.5   59.0  18018.0  10.74  10.54  6.98\n",
       "834430    5.01  Fair     J      I1   65.5   59.0  18018.0  10.74  10.54  6.98\n",
       "888235    5.01  Fair     J      I1   65.5   59.0  18018.0  10.74  10.54  6.98\n",
       "942040    5.01  Fair     J      I1   65.5   59.0  18018.0  10.74  10.54  6.98\n",
       "995845    5.01  Fair     J      I1   65.5   59.0  18018.0  10.74  10.54  6.98\n",
       "1049650   5.01  Fair     J      I1   65.5   59.0  18018.0  10.74  10.54  6.98\n",
       "1103455   5.01  Fair     J      I1   65.5   59.0  18018.0  10.74  10.54  6.98\n",
       "1157260   5.01  Fair     J      I1   65.5   59.0  18018.0  10.74  10.54  6.98\n",
       "1211065   5.01  Fair     J      I1   65.5   59.0  18018.0  10.74  10.54  6.98\n",
       "1264870   5.01  Fair     J      I1   65.5   59.0  18018.0  10.74  10.54  6.98\n",
       "1318675   5.01  Fair     J      I1   65.5   59.0  18018.0  10.74  10.54  6.98\n",
       "1372480   5.01  Fair     J      I1   65.5   59.0  18018.0  10.74  10.54  6.98\n",
       "1426285   5.01  Fair     J      I1   65.5   59.0  18018.0  10.74  10.54  6.98\n",
       "1480090   5.01  Fair     J      I1   65.5   59.0  18018.0  10.74  10.54  6.98\n",
       "1533895   5.01  Fair     J      I1   65.5   59.0  18018.0  10.74  10.54  6.98\n",
       "1587700   5.01  Fair     J      I1   65.5   59.0  18018.0  10.74  10.54  6.98\n",
       "1641505   5.01  Fair     J      I1   65.5   59.0  18018.0  10.74  10.54  6.98\n",
       "1695310   5.01  Fair     J      I1   65.5   59.0  18018.0  10.74  10.54  6.98\n",
       "1749115   5.01  Fair     J      I1   65.5   59.0  18018.0  10.74  10.54  6.98\n",
       "1802920   5.01  Fair     J      I1   65.5   59.0  18018.0  10.74  10.54  6.98\n",
       "1856725   5.01  Fair     J      I1   65.5   59.0  18018.0  10.74  10.54  6.98\n",
       "1910530   5.01  Fair     J      I1   65.5   59.0  18018.0  10.74  10.54  6.98\n",
       "1964335   5.01  Fair     J      I1   65.5   59.0  18018.0  10.74  10.54  6.98\n",
       "2018140   5.01  Fair     J      I1   65.5   59.0  18018.0  10.74  10.54  6.98\n",
       "2071945   5.01  Fair     J      I1   65.5   59.0  18018.0  10.74  10.54  6.98\n",
       "2125750   5.01  Fair     J      I1   65.5   59.0  18018.0  10.74  10.54  6.98\n",
       "2179555   5.01  Fair     J      I1   65.5   59.0  18018.0  10.74  10.54  6.98\n",
       "2233360   5.01  Fair     J      I1   65.5   59.0  18018.0  10.74  10.54  6.98\n",
       "2287165   5.01  Fair     J      I1   65.5   59.0  18018.0  10.74  10.54  6.98\n",
       "2340970   5.01  Fair     J      I1   65.5   59.0  18018.0  10.74  10.54  6.98\n",
       "2394775   5.01  Fair     J      I1   65.5   59.0  18018.0  10.74  10.54  6.98\n",
       "2448580   5.01  Fair     J      I1   65.5   59.0  18018.0  10.74  10.54  6.98\n",
       "2502385   5.01  Fair     J      I1   65.5   59.0  18018.0  10.74  10.54  6.98\n",
       "2556190   5.01  Fair     J      I1   65.5   59.0  18018.0  10.74  10.54  6.98\n",
       "2609995   5.01  Fair     J      I1   65.5   59.0  18018.0  10.74  10.54  6.98\n",
       "2663800   5.01  Fair     J      I1   65.5   59.0  18018.0  10.74  10.54  6.98\n",
       "2717605   5.01  Fair     J      I1   65.5   59.0  18018.0  10.74  10.54  6.98"
      ]
     },
     "metadata": {},
     "output_type": "display_data"
    }
   ],
   "source": [
    "# Pandas\n",
    "\n",
    "df.query('carat > 5')"
   ]
  },
  {
   "cell_type": "code",
   "execution_count": null,
   "id": "f9debcbd",
   "metadata": {},
   "outputs": [
    {
     "data": {
      "text/html": [
       "<div><style>\n",
       ".dataframe > thead > tr,\n",
       ".dataframe > tbody > tr {\n",
       "  text-align: right;\n",
       "  white-space: pre-wrap;\n",
       "}\n",
       "</style>\n",
       "<small>shape: (51, 10)</small><table border=\"1\" class=\"dataframe\"><thead><tr><th>carat</th><th>cut</th><th>color</th><th>clarity</th><th>depth</th><th>table</th><th>price</th><th>&#x27;x&#x27;</th><th>&#x27;y&#x27;</th><th>&#x27;z&#x27;</th></tr><tr><td>f64</td><td>str</td><td>str</td><td>str</td><td>f64</td><td>f64</td><td>f64</td><td>f64</td><td>f64</td><td>f64</td></tr></thead><tbody><tr><td>5.01</td><td>&quot;Fair&quot;</td><td>&quot;J&quot;</td><td>&quot;I1&quot;</td><td>65.5</td><td>59.0</td><td>18018.0</td><td>10.74</td><td>10.54</td><td>6.98</td></tr><tr><td>5.01</td><td>&quot;Fair&quot;</td><td>&quot;J&quot;</td><td>&quot;I1&quot;</td><td>65.5</td><td>59.0</td><td>18018.0</td><td>10.74</td><td>10.54</td><td>6.98</td></tr><tr><td>5.01</td><td>&quot;Fair&quot;</td><td>&quot;J&quot;</td><td>&quot;I1&quot;</td><td>65.5</td><td>59.0</td><td>18018.0</td><td>10.74</td><td>10.54</td><td>6.98</td></tr><tr><td>5.01</td><td>&quot;Fair&quot;</td><td>&quot;J&quot;</td><td>&quot;I1&quot;</td><td>65.5</td><td>59.0</td><td>18018.0</td><td>10.74</td><td>10.54</td><td>6.98</td></tr><tr><td>5.01</td><td>&quot;Fair&quot;</td><td>&quot;J&quot;</td><td>&quot;I1&quot;</td><td>65.5</td><td>59.0</td><td>18018.0</td><td>10.74</td><td>10.54</td><td>6.98</td></tr><tr><td>&hellip;</td><td>&hellip;</td><td>&hellip;</td><td>&hellip;</td><td>&hellip;</td><td>&hellip;</td><td>&hellip;</td><td>&hellip;</td><td>&hellip;</td><td>&hellip;</td></tr><tr><td>5.01</td><td>&quot;Fair&quot;</td><td>&quot;J&quot;</td><td>&quot;I1&quot;</td><td>65.5</td><td>59.0</td><td>18018.0</td><td>10.74</td><td>10.54</td><td>6.98</td></tr><tr><td>5.01</td><td>&quot;Fair&quot;</td><td>&quot;J&quot;</td><td>&quot;I1&quot;</td><td>65.5</td><td>59.0</td><td>18018.0</td><td>10.74</td><td>10.54</td><td>6.98</td></tr><tr><td>5.01</td><td>&quot;Fair&quot;</td><td>&quot;J&quot;</td><td>&quot;I1&quot;</td><td>65.5</td><td>59.0</td><td>18018.0</td><td>10.74</td><td>10.54</td><td>6.98</td></tr><tr><td>5.01</td><td>&quot;Fair&quot;</td><td>&quot;J&quot;</td><td>&quot;I1&quot;</td><td>65.5</td><td>59.0</td><td>18018.0</td><td>10.74</td><td>10.54</td><td>6.98</td></tr><tr><td>5.01</td><td>&quot;Fair&quot;</td><td>&quot;J&quot;</td><td>&quot;I1&quot;</td><td>65.5</td><td>59.0</td><td>18018.0</td><td>10.74</td><td>10.54</td><td>6.98</td></tr></tbody></table></div>"
      ],
      "text/plain": [
       "shape: (51, 10)\n",
       "┌───────┬──────┬───────┬─────────┬───┬─────────┬───────┬───────┬──────┐\n",
       "│ carat ┆ cut  ┆ color ┆ clarity ┆ … ┆ price   ┆ 'x'   ┆ 'y'   ┆ 'z'  │\n",
       "│ ---   ┆ ---  ┆ ---   ┆ ---     ┆   ┆ ---     ┆ ---   ┆ ---   ┆ ---  │\n",
       "│ f64   ┆ str  ┆ str   ┆ str     ┆   ┆ f64     ┆ f64   ┆ f64   ┆ f64  │\n",
       "╞═══════╪══════╪═══════╪═════════╪═══╪═════════╪═══════╪═══════╪══════╡\n",
       "│ 5.01  ┆ Fair ┆ J     ┆ I1      ┆ … ┆ 18018.0 ┆ 10.74 ┆ 10.54 ┆ 6.98 │\n",
       "│ 5.01  ┆ Fair ┆ J     ┆ I1      ┆ … ┆ 18018.0 ┆ 10.74 ┆ 10.54 ┆ 6.98 │\n",
       "│ 5.01  ┆ Fair ┆ J     ┆ I1      ┆ … ┆ 18018.0 ┆ 10.74 ┆ 10.54 ┆ 6.98 │\n",
       "│ 5.01  ┆ Fair ┆ J     ┆ I1      ┆ … ┆ 18018.0 ┆ 10.74 ┆ 10.54 ┆ 6.98 │\n",
       "│ 5.01  ┆ Fair ┆ J     ┆ I1      ┆ … ┆ 18018.0 ┆ 10.74 ┆ 10.54 ┆ 6.98 │\n",
       "│ …     ┆ …    ┆ …     ┆ …       ┆ … ┆ …       ┆ …     ┆ …     ┆ …    │\n",
       "│ 5.01  ┆ Fair ┆ J     ┆ I1      ┆ … ┆ 18018.0 ┆ 10.74 ┆ 10.54 ┆ 6.98 │\n",
       "│ 5.01  ┆ Fair ┆ J     ┆ I1      ┆ … ┆ 18018.0 ┆ 10.74 ┆ 10.54 ┆ 6.98 │\n",
       "│ 5.01  ┆ Fair ┆ J     ┆ I1      ┆ … ┆ 18018.0 ┆ 10.74 ┆ 10.54 ┆ 6.98 │\n",
       "│ 5.01  ┆ Fair ┆ J     ┆ I1      ┆ … ┆ 18018.0 ┆ 10.74 ┆ 10.54 ┆ 6.98 │\n",
       "│ 5.01  ┆ Fair ┆ J     ┆ I1      ┆ … ┆ 18018.0 ┆ 10.74 ┆ 10.54 ┆ 6.98 │\n",
       "└───────┴──────┴───────┴─────────┴───┴─────────┴───────┴───────┴──────┘"
      ]
     },
     "metadata": {},
     "output_type": "display_data"
    }
   ],
   "source": [
    "# Polars\n",
    "\n",
    "df_pl.filter(pl.col('carat') > 5)"
   ]
  },
  {
   "cell_type": "markdown",
   "id": "64e64a52",
   "metadata": {},
   "source": [
    "### Задание 2\n",
    "\n",
    "С помощью polars и pandas отфильтруйте таблицу, оставив в ней только строки, удовлетворяющие условиям:\n",
    "* `color` = \"J\"\n",
    "* `price` > 1000\n",
    "\n",
    "Сравните время выполнения запросов"
   ]
  },
  {
   "cell_type": "code",
   "execution_count": null,
   "id": "91ea21ab",
   "metadata": {},
   "outputs": [
    {
     "data": {
      "text/html": [
       "<div>\n",
       "<style scoped>\n",
       "    .dataframe tbody tr th:only-of-type {\n",
       "        vertical-align: middle;\n",
       "    }\n",
       "\n",
       "    .dataframe tbody tr th {\n",
       "        vertical-align: top;\n",
       "    }\n",
       "\n",
       "    .dataframe thead th {\n",
       "        text-align: right;\n",
       "    }\n",
       "</style>\n",
       "<table border=\"1\" class=\"dataframe\">\n",
       "  <thead>\n",
       "    <tr style=\"text-align: right;\">\n",
       "      <th></th>\n",
       "      <th>carat</th>\n",
       "      <th>cut</th>\n",
       "      <th>color</th>\n",
       "      <th>clarity</th>\n",
       "      <th>depth</th>\n",
       "      <th>table</th>\n",
       "      <th>price</th>\n",
       "      <th>'x'</th>\n",
       "      <th>'y'</th>\n",
       "      <th>'z'</th>\n",
       "    </tr>\n",
       "  </thead>\n",
       "  <tbody>\n",
       "    <tr>\n",
       "      <th>172</th>\n",
       "      <td>1.17</td>\n",
       "      <td>Very Good</td>\n",
       "      <td>J</td>\n",
       "      <td>I1</td>\n",
       "      <td>60.2</td>\n",
       "      <td>61.0</td>\n",
       "      <td>2774.0</td>\n",
       "      <td>6.83</td>\n",
       "      <td>6.90</td>\n",
       "      <td>4.13</td>\n",
       "    </tr>\n",
       "    <tr>\n",
       "      <th>247</th>\n",
       "      <td>1.05</td>\n",
       "      <td>Very Good</td>\n",
       "      <td>J</td>\n",
       "      <td>SI2</td>\n",
       "      <td>63.2</td>\n",
       "      <td>56.0</td>\n",
       "      <td>2789.0</td>\n",
       "      <td>6.49</td>\n",
       "      <td>6.45</td>\n",
       "      <td>4.09</td>\n",
       "    </tr>\n",
       "    <tr>\n",
       "      <th>255</th>\n",
       "      <td>1.05</td>\n",
       "      <td>Fair</td>\n",
       "      <td>J</td>\n",
       "      <td>SI2</td>\n",
       "      <td>65.8</td>\n",
       "      <td>59.0</td>\n",
       "      <td>2789.0</td>\n",
       "      <td>6.41</td>\n",
       "      <td>6.27</td>\n",
       "      <td>4.18</td>\n",
       "    </tr>\n",
       "    <tr>\n",
       "      <th>324</th>\n",
       "      <td>1.00</td>\n",
       "      <td>Premium</td>\n",
       "      <td>J</td>\n",
       "      <td>SI2</td>\n",
       "      <td>62.3</td>\n",
       "      <td>58.0</td>\n",
       "      <td>2801.0</td>\n",
       "      <td>6.45</td>\n",
       "      <td>6.34</td>\n",
       "      <td>3.98</td>\n",
       "    </tr>\n",
       "    <tr>\n",
       "      <th>366</th>\n",
       "      <td>0.93</td>\n",
       "      <td>Premium</td>\n",
       "      <td>J</td>\n",
       "      <td>SI2</td>\n",
       "      <td>61.9</td>\n",
       "      <td>57.0</td>\n",
       "      <td>2807.0</td>\n",
       "      <td>6.21</td>\n",
       "      <td>6.19</td>\n",
       "      <td>3.84</td>\n",
       "    </tr>\n",
       "    <tr>\n",
       "      <th>...</th>\n",
       "      <td>...</td>\n",
       "      <td>...</td>\n",
       "      <td>...</td>\n",
       "      <td>...</td>\n",
       "      <td>...</td>\n",
       "      <td>...</td>\n",
       "      <td>...</td>\n",
       "      <td>...</td>\n",
       "      <td>...</td>\n",
       "      <td>...</td>\n",
       "    </tr>\n",
       "    <tr>\n",
       "      <th>2743817</th>\n",
       "      <td>0.90</td>\n",
       "      <td>Good</td>\n",
       "      <td>J</td>\n",
       "      <td>SI2</td>\n",
       "      <td>63.9</td>\n",
       "      <td>56.0</td>\n",
       "      <td>2717.0</td>\n",
       "      <td>6.17</td>\n",
       "      <td>6.10</td>\n",
       "      <td>3.92</td>\n",
       "    </tr>\n",
       "    <tr>\n",
       "      <th>2743902</th>\n",
       "      <td>0.90</td>\n",
       "      <td>Good</td>\n",
       "      <td>J</td>\n",
       "      <td>SI1</td>\n",
       "      <td>63.2</td>\n",
       "      <td>60.0</td>\n",
       "      <td>2729.0</td>\n",
       "      <td>6.09</td>\n",
       "      <td>6.12</td>\n",
       "      <td>3.86</td>\n",
       "    </tr>\n",
       "    <tr>\n",
       "      <th>2743963</th>\n",
       "      <td>0.82</td>\n",
       "      <td>Ideal</td>\n",
       "      <td>J</td>\n",
       "      <td>VS2</td>\n",
       "      <td>61.6</td>\n",
       "      <td>56.0</td>\n",
       "      <td>2741.0</td>\n",
       "      <td>6.00</td>\n",
       "      <td>6.04</td>\n",
       "      <td>3.71</td>\n",
       "    </tr>\n",
       "    <tr>\n",
       "      <th>2743967</th>\n",
       "      <td>0.83</td>\n",
       "      <td>Ideal</td>\n",
       "      <td>J</td>\n",
       "      <td>VS2</td>\n",
       "      <td>62.3</td>\n",
       "      <td>55.0</td>\n",
       "      <td>2742.0</td>\n",
       "      <td>6.01</td>\n",
       "      <td>6.03</td>\n",
       "      <td>3.75</td>\n",
       "    </tr>\n",
       "    <tr>\n",
       "      <th>2744032</th>\n",
       "      <td>0.90</td>\n",
       "      <td>Very Good</td>\n",
       "      <td>J</td>\n",
       "      <td>SI1</td>\n",
       "      <td>63.2</td>\n",
       "      <td>60.0</td>\n",
       "      <td>2753.0</td>\n",
       "      <td>6.12</td>\n",
       "      <td>6.09</td>\n",
       "      <td>3.86</td>\n",
       "    </tr>\n",
       "  </tbody>\n",
       "</table>\n",
       "<p>119493 rows × 10 columns</p>\n",
       "</div>"
      ],
      "text/plain": [
       "         carat        cut color clarity  depth  table   price   'x'   'y'  \\\n",
       "172       1.17  Very Good     J      I1   60.2   61.0  2774.0  6.83  6.90   \n",
       "247       1.05  Very Good     J     SI2   63.2   56.0  2789.0  6.49  6.45   \n",
       "255       1.05       Fair     J     SI2   65.8   59.0  2789.0  6.41  6.27   \n",
       "324       1.00    Premium     J     SI2   62.3   58.0  2801.0  6.45  6.34   \n",
       "366       0.93    Premium     J     SI2   61.9   57.0  2807.0  6.21  6.19   \n",
       "...        ...        ...   ...     ...    ...    ...     ...   ...   ...   \n",
       "2743817   0.90       Good     J     SI2   63.9   56.0  2717.0  6.17  6.10   \n",
       "2743902   0.90       Good     J     SI1   63.2   60.0  2729.0  6.09  6.12   \n",
       "2743963   0.82      Ideal     J     VS2   61.6   56.0  2741.0  6.00  6.04   \n",
       "2743967   0.83      Ideal     J     VS2   62.3   55.0  2742.0  6.01  6.03   \n",
       "2744032   0.90  Very Good     J     SI1   63.2   60.0  2753.0  6.12  6.09   \n",
       "\n",
       "          'z'  \n",
       "172      4.13  \n",
       "247      4.09  \n",
       "255      4.18  \n",
       "324      3.98  \n",
       "366      3.84  \n",
       "...       ...  \n",
       "2743817  3.92  \n",
       "2743902  3.86  \n",
       "2743963  3.71  \n",
       "2743967  3.75  \n",
       "2744032  3.86  \n",
       "\n",
       "[119493 rows x 10 columns]"
      ]
     },
     "metadata": {},
     "output_type": "display_data"
    }
   ],
   "source": [
    "# your code here\n",
    "\n",
    "df[(df.color == 'J') & (df.price > 1000)]"
   ]
  },
  {
   "cell_type": "code",
   "execution_count": null,
   "id": "443fbe3b",
   "metadata": {},
   "outputs": [
    {
     "name": "stdout",
     "output_type": "stream",
     "text": [
      "CPU times: total: 31.2 ms\n",
      "Wall time: 61 ms\n"
     ]
    },
    {
     "data": {
      "text/html": [
       "<div><style>\n",
       ".dataframe > thead > tr,\n",
       ".dataframe > tbody > tr {\n",
       "  text-align: right;\n",
       "  white-space: pre-wrap;\n",
       "}\n",
       "</style>\n",
       "<small>shape: (119_493, 10)</small><table border=\"1\" class=\"dataframe\"><thead><tr><th>carat</th><th>cut</th><th>color</th><th>clarity</th><th>depth</th><th>table</th><th>price</th><th>&#x27;x&#x27;</th><th>&#x27;y&#x27;</th><th>&#x27;z&#x27;</th></tr><tr><td>f64</td><td>str</td><td>str</td><td>str</td><td>f64</td><td>f64</td><td>f64</td><td>f64</td><td>f64</td><td>f64</td></tr></thead><tbody><tr><td>1.17</td><td>&quot;Very Good&quot;</td><td>&quot;J&quot;</td><td>&quot;I1&quot;</td><td>60.2</td><td>61.0</td><td>2774.0</td><td>6.83</td><td>6.9</td><td>4.13</td></tr><tr><td>1.05</td><td>&quot;Very Good&quot;</td><td>&quot;J&quot;</td><td>&quot;SI2&quot;</td><td>63.2</td><td>56.0</td><td>2789.0</td><td>6.49</td><td>6.45</td><td>4.09</td></tr><tr><td>1.05</td><td>&quot;Fair&quot;</td><td>&quot;J&quot;</td><td>&quot;SI2&quot;</td><td>65.8</td><td>59.0</td><td>2789.0</td><td>6.41</td><td>6.27</td><td>4.18</td></tr><tr><td>1.0</td><td>&quot;Premium&quot;</td><td>&quot;J&quot;</td><td>&quot;SI2&quot;</td><td>62.3</td><td>58.0</td><td>2801.0</td><td>6.45</td><td>6.34</td><td>3.98</td></tr><tr><td>0.93</td><td>&quot;Premium&quot;</td><td>&quot;J&quot;</td><td>&quot;SI2&quot;</td><td>61.9</td><td>57.0</td><td>2807.0</td><td>6.21</td><td>6.19</td><td>3.84</td></tr><tr><td>&hellip;</td><td>&hellip;</td><td>&hellip;</td><td>&hellip;</td><td>&hellip;</td><td>&hellip;</td><td>&hellip;</td><td>&hellip;</td><td>&hellip;</td><td>&hellip;</td></tr><tr><td>0.9</td><td>&quot;Good&quot;</td><td>&quot;J&quot;</td><td>&quot;SI2&quot;</td><td>63.9</td><td>56.0</td><td>2717.0</td><td>6.17</td><td>6.1</td><td>3.92</td></tr><tr><td>0.9</td><td>&quot;Good&quot;</td><td>&quot;J&quot;</td><td>&quot;SI1&quot;</td><td>63.2</td><td>60.0</td><td>2729.0</td><td>6.09</td><td>6.12</td><td>3.86</td></tr><tr><td>0.82</td><td>&quot;Ideal&quot;</td><td>&quot;J&quot;</td><td>&quot;VS2&quot;</td><td>61.6</td><td>56.0</td><td>2741.0</td><td>6.0</td><td>6.04</td><td>3.71</td></tr><tr><td>0.83</td><td>&quot;Ideal&quot;</td><td>&quot;J&quot;</td><td>&quot;VS2&quot;</td><td>62.3</td><td>55.0</td><td>2742.0</td><td>6.01</td><td>6.03</td><td>3.75</td></tr><tr><td>0.9</td><td>&quot;Very Good&quot;</td><td>&quot;J&quot;</td><td>&quot;SI1&quot;</td><td>63.2</td><td>60.0</td><td>2753.0</td><td>6.12</td><td>6.09</td><td>3.86</td></tr></tbody></table></div>"
      ],
      "text/plain": [
       "shape: (119_493, 10)\n",
       "┌───────┬───────────┬───────┬─────────┬───┬────────┬──────┬──────┬──────┐\n",
       "│ carat ┆ cut       ┆ color ┆ clarity ┆ … ┆ price  ┆ 'x'  ┆ 'y'  ┆ 'z'  │\n",
       "│ ---   ┆ ---       ┆ ---   ┆ ---     ┆   ┆ ---    ┆ ---  ┆ ---  ┆ ---  │\n",
       "│ f64   ┆ str       ┆ str   ┆ str     ┆   ┆ f64    ┆ f64  ┆ f64  ┆ f64  │\n",
       "╞═══════╪═══════════╪═══════╪═════════╪═══╪════════╪══════╪══════╪══════╡\n",
       "│ 1.17  ┆ Very Good ┆ J     ┆ I1      ┆ … ┆ 2774.0 ┆ 6.83 ┆ 6.9  ┆ 4.13 │\n",
       "│ 1.05  ┆ Very Good ┆ J     ┆ SI2     ┆ … ┆ 2789.0 ┆ 6.49 ┆ 6.45 ┆ 4.09 │\n",
       "│ 1.05  ┆ Fair      ┆ J     ┆ SI2     ┆ … ┆ 2789.0 ┆ 6.41 ┆ 6.27 ┆ 4.18 │\n",
       "│ 1.0   ┆ Premium   ┆ J     ┆ SI2     ┆ … ┆ 2801.0 ┆ 6.45 ┆ 6.34 ┆ 3.98 │\n",
       "│ 0.93  ┆ Premium   ┆ J     ┆ SI2     ┆ … ┆ 2807.0 ┆ 6.21 ┆ 6.19 ┆ 3.84 │\n",
       "│ …     ┆ …         ┆ …     ┆ …       ┆ … ┆ …      ┆ …    ┆ …    ┆ …    │\n",
       "│ 0.9   ┆ Good      ┆ J     ┆ SI2     ┆ … ┆ 2717.0 ┆ 6.17 ┆ 6.1  ┆ 3.92 │\n",
       "│ 0.9   ┆ Good      ┆ J     ┆ SI1     ┆ … ┆ 2729.0 ┆ 6.09 ┆ 6.12 ┆ 3.86 │\n",
       "│ 0.82  ┆ Ideal     ┆ J     ┆ VS2     ┆ … ┆ 2741.0 ┆ 6.0  ┆ 6.04 ┆ 3.71 │\n",
       "│ 0.83  ┆ Ideal     ┆ J     ┆ VS2     ┆ … ┆ 2742.0 ┆ 6.01 ┆ 6.03 ┆ 3.75 │\n",
       "│ 0.9   ┆ Very Good ┆ J     ┆ SI1     ┆ … ┆ 2753.0 ┆ 6.12 ┆ 6.09 ┆ 3.86 │\n",
       "└───────┴───────────┴───────┴─────────┴───┴────────┴──────┴──────┴──────┘"
      ]
     },
     "metadata": {},
     "output_type": "display_data"
    }
   ],
   "source": [
    "%%time\n",
    "\n",
    "df_pl.filter((pl.col('color') == 'J') & (pl.col('price') > 1000))"
   ]
  },
  {
   "cell_type": "markdown",
   "id": "9207ebc7",
   "metadata": {},
   "source": [
    "### Агрегация данных"
   ]
  },
  {
   "cell_type": "code",
   "execution_count": null,
   "id": "44d00766",
   "metadata": {},
   "outputs": [
    {
     "data": {
      "text/html": [
       "<div><style>\n",
       ".dataframe > thead > tr,\n",
       ".dataframe > tbody > tr {\n",
       "  text-align: right;\n",
       "  white-space: pre-wrap;\n",
       "}\n",
       "</style>\n",
       "<small>shape: (5, 10)</small><table border=\"1\" class=\"dataframe\"><thead><tr><th>carat</th><th>cut</th><th>color</th><th>clarity</th><th>depth</th><th>table</th><th>price</th><th>&#x27;x&#x27;</th><th>&#x27;y&#x27;</th><th>&#x27;z&#x27;</th></tr><tr><td>f64</td><td>str</td><td>str</td><td>str</td><td>f64</td><td>f64</td><td>f64</td><td>f64</td><td>f64</td><td>f64</td></tr></thead><tbody><tr><td>0.23</td><td>&quot;Ideal&quot;</td><td>&quot;E&quot;</td><td>&quot;SI2&quot;</td><td>61.5</td><td>55.0</td><td>326.0</td><td>3.95</td><td>3.98</td><td>2.43</td></tr><tr><td>0.21</td><td>&quot;Premium&quot;</td><td>&quot;E&quot;</td><td>&quot;SI1&quot;</td><td>59.8</td><td>61.0</td><td>326.0</td><td>3.89</td><td>3.84</td><td>2.31</td></tr><tr><td>0.23</td><td>&quot;Good&quot;</td><td>&quot;E&quot;</td><td>&quot;VS1&quot;</td><td>56.9</td><td>65.0</td><td>327.0</td><td>4.05</td><td>4.07</td><td>2.31</td></tr><tr><td>0.29</td><td>&quot;Premium&quot;</td><td>&quot;I&quot;</td><td>&quot;VS2&quot;</td><td>62.4</td><td>58.0</td><td>334.0</td><td>4.2</td><td>4.23</td><td>2.63</td></tr><tr><td>0.31</td><td>&quot;Good&quot;</td><td>&quot;J&quot;</td><td>&quot;SI2&quot;</td><td>63.3</td><td>58.0</td><td>335.0</td><td>4.34</td><td>4.35</td><td>2.75</td></tr></tbody></table></div>"
      ],
      "text/plain": [
       "shape: (5, 10)\n",
       "┌───────┬─────────┬───────┬─────────┬───┬───────┬──────┬──────┬──────┐\n",
       "│ carat ┆ cut     ┆ color ┆ clarity ┆ … ┆ price ┆ 'x'  ┆ 'y'  ┆ 'z'  │\n",
       "│ ---   ┆ ---     ┆ ---   ┆ ---     ┆   ┆ ---   ┆ ---  ┆ ---  ┆ ---  │\n",
       "│ f64   ┆ str     ┆ str   ┆ str     ┆   ┆ f64   ┆ f64  ┆ f64  ┆ f64  │\n",
       "╞═══════╪═════════╪═══════╪═════════╪═══╪═══════╪══════╪══════╪══════╡\n",
       "│ 0.23  ┆ Ideal   ┆ E     ┆ SI2     ┆ … ┆ 326.0 ┆ 3.95 ┆ 3.98 ┆ 2.43 │\n",
       "│ 0.21  ┆ Premium ┆ E     ┆ SI1     ┆ … ┆ 326.0 ┆ 3.89 ┆ 3.84 ┆ 2.31 │\n",
       "│ 0.23  ┆ Good    ┆ E     ┆ VS1     ┆ … ┆ 327.0 ┆ 4.05 ┆ 4.07 ┆ 2.31 │\n",
       "│ 0.29  ┆ Premium ┆ I     ┆ VS2     ┆ … ┆ 334.0 ┆ 4.2  ┆ 4.23 ┆ 2.63 │\n",
       "│ 0.31  ┆ Good    ┆ J     ┆ SI2     ┆ … ┆ 335.0 ┆ 4.34 ┆ 4.35 ┆ 2.75 │\n",
       "└───────┴─────────┴───────┴─────────┴───┴───────┴──────┴──────┴──────┘"
      ]
     },
     "metadata": {},
     "output_type": "display_data"
    }
   ],
   "source": [
    "df_pl.head()"
   ]
  },
  {
   "cell_type": "code",
   "execution_count": null,
   "id": "b1f5a7cb",
   "metadata": {},
   "outputs": [
    {
     "name": "stdout",
     "output_type": "stream",
     "text": [
      "CPU times: total: 141 ms\n",
      "Wall time: 154 ms\n"
     ]
    },
    {
     "data": {
      "text/html": [
       "<div>\n",
       "<style scoped>\n",
       "    .dataframe tbody tr th:only-of-type {\n",
       "        vertical-align: middle;\n",
       "    }\n",
       "\n",
       "    .dataframe tbody tr th {\n",
       "        vertical-align: top;\n",
       "    }\n",
       "\n",
       "    .dataframe thead th {\n",
       "        text-align: right;\n",
       "    }\n",
       "</style>\n",
       "<table border=\"1\" class=\"dataframe\">\n",
       "  <thead>\n",
       "    <tr style=\"text-align: right;\">\n",
       "      <th></th>\n",
       "      <th>table</th>\n",
       "      <th>price</th>\n",
       "    </tr>\n",
       "    <tr>\n",
       "      <th>cut</th>\n",
       "      <th></th>\n",
       "      <th></th>\n",
       "    </tr>\n",
       "  </thead>\n",
       "  <tbody>\n",
       "    <tr>\n",
       "      <th>Fair</th>\n",
       "      <td>59.064205</td>\n",
       "      <td>18574.0</td>\n",
       "    </tr>\n",
       "    <tr>\n",
       "      <th>Good</th>\n",
       "      <td>58.676450</td>\n",
       "      <td>18788.0</td>\n",
       "    </tr>\n",
       "    <tr>\n",
       "      <th>Ideal</th>\n",
       "      <td>55.952779</td>\n",
       "      <td>18806.0</td>\n",
       "    </tr>\n",
       "    <tr>\n",
       "      <th>Premium</th>\n",
       "      <td>58.747643</td>\n",
       "      <td>18823.0</td>\n",
       "    </tr>\n",
       "    <tr>\n",
       "      <th>Very Good</th>\n",
       "      <td>57.955712</td>\n",
       "      <td>18818.0</td>\n",
       "    </tr>\n",
       "  </tbody>\n",
       "</table>\n",
       "</div>"
      ],
      "text/plain": [
       "               table    price\n",
       "cut                          \n",
       "Fair       59.064205  18574.0\n",
       "Good       58.676450  18788.0\n",
       "Ideal      55.952779  18806.0\n",
       "Premium    58.747643  18823.0\n",
       "Very Good  57.955712  18818.0"
      ]
     },
     "metadata": {},
     "output_type": "display_data"
    }
   ],
   "source": [
    "%%time\n",
    "\n",
    "df.groupby('cut').agg({'table' : 'mean', 'price' : 'max'})"
   ]
  },
  {
   "cell_type": "code",
   "execution_count": null,
   "id": "5391b1e1",
   "metadata": {},
   "outputs": [
    {
     "name": "stdout",
     "output_type": "stream",
     "text": [
      "CPU times: total: 234 ms\n",
      "Wall time: 57 ms\n"
     ]
    },
    {
     "data": {
      "text/html": [
       "<div><style>\n",
       ".dataframe > thead > tr,\n",
       ".dataframe > tbody > tr {\n",
       "  text-align: right;\n",
       "  white-space: pre-wrap;\n",
       "}\n",
       "</style>\n",
       "<small>shape: (5, 3)</small><table border=\"1\" class=\"dataframe\"><thead><tr><th>cut</th><th>table</th><th>price</th></tr><tr><td>str</td><td>f64</td><td>f64</td></tr></thead><tbody><tr><td>&quot;Very Good&quot;</td><td>57.955712</td><td>18818.0</td></tr><tr><td>&quot;Premium&quot;</td><td>58.747643</td><td>18823.0</td></tr><tr><td>&quot;Good&quot;</td><td>58.67645</td><td>18788.0</td></tr><tr><td>&quot;Fair&quot;</td><td>59.064205</td><td>18574.0</td></tr><tr><td>&quot;Ideal&quot;</td><td>55.952779</td><td>18806.0</td></tr></tbody></table></div>"
      ],
      "text/plain": [
       "shape: (5, 3)\n",
       "┌───────────┬───────────┬─────────┐\n",
       "│ cut       ┆ table     ┆ price   │\n",
       "│ ---       ┆ ---       ┆ ---     │\n",
       "│ str       ┆ f64       ┆ f64     │\n",
       "╞═══════════╪═══════════╪═════════╡\n",
       "│ Very Good ┆ 57.955712 ┆ 18818.0 │\n",
       "│ Premium   ┆ 58.747643 ┆ 18823.0 │\n",
       "│ Good      ┆ 58.67645  ┆ 18788.0 │\n",
       "│ Fair      ┆ 59.064205 ┆ 18574.0 │\n",
       "│ Ideal     ┆ 55.952779 ┆ 18806.0 │\n",
       "└───────────┴───────────┴─────────┘"
      ]
     },
     "metadata": {},
     "output_type": "display_data"
    }
   ],
   "source": [
    "%%time\n",
    "\n",
    "df_pl.group_by('cut').agg([pl.mean('table'), pl.max('price')])"
   ]
  },
  {
   "cell_type": "code",
   "execution_count": null,
   "id": "dd8c6a87",
   "metadata": {},
   "outputs": [],
   "source": [
    "# lazy operations\n",
    "\n",
    "q = (\n",
    "    df_pl\n",
    "    .lazy()\n",
    "    .group_by(by='cut')\n",
    "    .agg(\n",
    "        [\n",
    "            pl.col('table').mean(),\n",
    "            pl.col('price').max()\n",
    "        ]\n",
    "    )\n",
    ")"
   ]
  },
  {
   "cell_type": "code",
   "execution_count": null,
   "id": "bbea0d1f",
   "metadata": {},
   "outputs": [
    {
     "data": {
      "text/html": [
       "<div><style>\n",
       ".dataframe > thead > tr,\n",
       ".dataframe > tbody > tr {\n",
       "  text-align: right;\n",
       "  white-space: pre-wrap;\n",
       "}\n",
       "</style>\n",
       "<small>shape: (5, 3)</small><table border=\"1\" class=\"dataframe\"><thead><tr><th>by</th><th>table</th><th>price</th></tr><tr><td>str</td><td>f64</td><td>f64</td></tr></thead><tbody><tr><td>&quot;Fair&quot;</td><td>59.064205</td><td>18574.0</td></tr><tr><td>&quot;Good&quot;</td><td>58.67645</td><td>18788.0</td></tr><tr><td>&quot;Very Good&quot;</td><td>57.955712</td><td>18818.0</td></tr><tr><td>&quot;Ideal&quot;</td><td>55.952779</td><td>18806.0</td></tr><tr><td>&quot;Premium&quot;</td><td>58.747643</td><td>18823.0</td></tr></tbody></table></div>"
      ],
      "text/plain": [
       "shape: (5, 3)\n",
       "┌───────────┬───────────┬─────────┐\n",
       "│ by        ┆ table     ┆ price   │\n",
       "│ ---       ┆ ---       ┆ ---     │\n",
       "│ str       ┆ f64       ┆ f64     │\n",
       "╞═══════════╪═══════════╪═════════╡\n",
       "│ Fair      ┆ 59.064205 ┆ 18574.0 │\n",
       "│ Good      ┆ 58.67645  ┆ 18788.0 │\n",
       "│ Very Good ┆ 57.955712 ┆ 18818.0 │\n",
       "│ Ideal     ┆ 55.952779 ┆ 18806.0 │\n",
       "│ Premium   ┆ 58.747643 ┆ 18823.0 │\n",
       "└───────────┴───────────┴─────────┘"
      ]
     },
     "metadata": {},
     "output_type": "display_data"
    }
   ],
   "source": [
    "q.collect()"
   ]
  },
  {
   "cell_type": "markdown",
   "id": "1c9c92a0",
   "metadata": {},
   "source": [
    "### Задание 3\n",
    "\n",
    "Для каждого цвета (`color`) вычислите медианную стоимость алмазов и средний вес (`carat`).\n",
    "\n",
    "* Сначала напишите eager-запрос в стиле, приближенном к pandas.\n",
    "\n",
    "* Затем напишите lazy-запрос в polars-стиле. После этого выполните запрос методом collect.\n",
    "\n",
    "* Сравните время выполнения запросов.\n",
    "\n"
   ]
  },
  {
   "cell_type": "code",
   "execution_count": null,
   "id": "24905a3e",
   "metadata": {},
   "outputs": [],
   "source": [
    "import time"
   ]
  },
  {
   "cell_type": "code",
   "execution_count": null,
   "id": "12f3a26e",
   "metadata": {},
   "outputs": [
    {
     "name": "stdout",
     "output_type": "stream",
     "text": [
      "CPU times: total: 156 ms\n",
      "Wall time: 157 ms\n"
     ]
    },
    {
     "data": {
      "text/html": [
       "<div>\n",
       "<style scoped>\n",
       "    .dataframe tbody tr th:only-of-type {\n",
       "        vertical-align: middle;\n",
       "    }\n",
       "\n",
       "    .dataframe tbody tr th {\n",
       "        vertical-align: top;\n",
       "    }\n",
       "\n",
       "    .dataframe thead th {\n",
       "        text-align: right;\n",
       "    }\n",
       "</style>\n",
       "<table border=\"1\" class=\"dataframe\">\n",
       "  <thead>\n",
       "    <tr style=\"text-align: right;\">\n",
       "      <th></th>\n",
       "      <th>price</th>\n",
       "      <th>carat</th>\n",
       "    </tr>\n",
       "    <tr>\n",
       "      <th>color</th>\n",
       "      <th></th>\n",
       "      <th></th>\n",
       "    </tr>\n",
       "  </thead>\n",
       "  <tbody>\n",
       "    <tr>\n",
       "      <th>D</th>\n",
       "      <td>1842.0</td>\n",
       "      <td>0.658697</td>\n",
       "    </tr>\n",
       "    <tr>\n",
       "      <th>E</th>\n",
       "      <td>1741.0</td>\n",
       "      <td>0.657815</td>\n",
       "    </tr>\n",
       "    <tr>\n",
       "      <th>F</th>\n",
       "      <td>2345.0</td>\n",
       "      <td>0.736323</td>\n",
       "    </tr>\n",
       "    <tr>\n",
       "      <th>G</th>\n",
       "      <td>2246.0</td>\n",
       "      <td>0.770161</td>\n",
       "    </tr>\n",
       "    <tr>\n",
       "      <th>H</th>\n",
       "      <td>3453.5</td>\n",
       "      <td>0.909103</td>\n",
       "    </tr>\n",
       "    <tr>\n",
       "      <th>I</th>\n",
       "      <td>3723.0</td>\n",
       "      <td>1.020684</td>\n",
       "    </tr>\n",
       "    <tr>\n",
       "      <th>J</th>\n",
       "      <td>4234.5</td>\n",
       "      <td>1.159340</td>\n",
       "    </tr>\n",
       "  </tbody>\n",
       "</table>\n",
       "</div>"
      ],
      "text/plain": [
       "        price     carat\n",
       "color                  \n",
       "D      1842.0  0.658697\n",
       "E      1741.0  0.657815\n",
       "F      2345.0  0.736323\n",
       "G      2246.0  0.770161\n",
       "H      3453.5  0.909103\n",
       "I      3723.0  1.020684\n",
       "J      4234.5  1.159340"
      ]
     },
     "metadata": {},
     "output_type": "display_data"
    }
   ],
   "source": [
    "%%time\n",
    "\n",
    "df.groupby('color').agg({'price': 'median', 'carat': 'mean'})"
   ]
  },
  {
   "cell_type": "code",
   "execution_count": null,
   "id": "bca2951b",
   "metadata": {},
   "outputs": [
    {
     "name": "stdout",
     "output_type": "stream",
     "text": [
      "CPU times: total: 484 ms\n",
      "Wall time: 133 ms\n"
     ]
    },
    {
     "data": {
      "text/html": [
       "<div><style>\n",
       ".dataframe > thead > tr,\n",
       ".dataframe > tbody > tr {\n",
       "  text-align: right;\n",
       "  white-space: pre-wrap;\n",
       "}\n",
       "</style>\n",
       "<small>shape: (7, 3)</small><table border=\"1\" class=\"dataframe\"><thead><tr><th>color</th><th>price</th><th>carat</th></tr><tr><td>str</td><td>f64</td><td>f64</td></tr></thead><tbody><tr><td>&quot;F&quot;</td><td>2345.0</td><td>0.736323</td></tr><tr><td>&quot;I&quot;</td><td>3723.0</td><td>1.020684</td></tr><tr><td>&quot;G&quot;</td><td>2246.0</td><td>0.770161</td></tr><tr><td>&quot;H&quot;</td><td>3453.5</td><td>0.909103</td></tr><tr><td>&quot;J&quot;</td><td>4234.5</td><td>1.15934</td></tr><tr><td>&quot;E&quot;</td><td>1741.0</td><td>0.657815</td></tr><tr><td>&quot;D&quot;</td><td>1842.0</td><td>0.658697</td></tr></tbody></table></div>"
      ],
      "text/plain": [
       "shape: (7, 3)\n",
       "┌───────┬────────┬──────────┐\n",
       "│ color ┆ price  ┆ carat    │\n",
       "│ ---   ┆ ---    ┆ ---      │\n",
       "│ str   ┆ f64    ┆ f64      │\n",
       "╞═══════╪════════╪══════════╡\n",
       "│ F     ┆ 2345.0 ┆ 0.736323 │\n",
       "│ I     ┆ 3723.0 ┆ 1.020684 │\n",
       "│ G     ┆ 2246.0 ┆ 0.770161 │\n",
       "│ H     ┆ 3453.5 ┆ 0.909103 │\n",
       "│ J     ┆ 4234.5 ┆ 1.15934  │\n",
       "│ E     ┆ 1741.0 ┆ 0.657815 │\n",
       "│ D     ┆ 1842.0 ┆ 0.658697 │\n",
       "└───────┴────────┴──────────┘"
      ]
     },
     "metadata": {},
     "output_type": "display_data"
    }
   ],
   "source": [
    "%%time\n",
    "\n",
    "df_pl.group_by('color').agg([pl.median('price'), pl.mean('carat')])"
   ]
  },
  {
   "cell_type": "code",
   "execution_count": null,
   "id": "158673d4",
   "metadata": {},
   "outputs": [],
   "source": [
    "# your code here\n",
    "\n",
    "q = (\n",
    "    df_pl\n",
    "    .lazy()\n",
    "    .group_by(by='color')\n",
    "    .agg(\n",
    "        [\n",
    "            pl.col('price').median(),\n",
    "            pl.col('carat').mean()\n",
    "        ]\n",
    "    )\n",
    ")"
   ]
  },
  {
   "cell_type": "code",
   "execution_count": null,
   "id": "37765c7e",
   "metadata": {},
   "outputs": [
    {
     "name": "stdout",
     "output_type": "stream",
     "text": [
      "CPU times: total: 344 ms\n",
      "Wall time: 111 ms\n"
     ]
    },
    {
     "data": {
      "text/html": [
       "<div><style>\n",
       ".dataframe > thead > tr,\n",
       ".dataframe > tbody > tr {\n",
       "  text-align: right;\n",
       "  white-space: pre-wrap;\n",
       "}\n",
       "</style>\n",
       "<small>shape: (7, 3)</small><table border=\"1\" class=\"dataframe\"><thead><tr><th>by</th><th>price</th><th>carat</th></tr><tr><td>str</td><td>f64</td><td>f64</td></tr></thead><tbody><tr><td>&quot;I&quot;</td><td>3723.0</td><td>1.020684</td></tr><tr><td>&quot;D&quot;</td><td>1842.0</td><td>0.658697</td></tr><tr><td>&quot;F&quot;</td><td>2345.0</td><td>0.736323</td></tr><tr><td>&quot;J&quot;</td><td>4234.5</td><td>1.15934</td></tr><tr><td>&quot;H&quot;</td><td>3453.5</td><td>0.909103</td></tr><tr><td>&quot;G&quot;</td><td>2246.0</td><td>0.770161</td></tr><tr><td>&quot;E&quot;</td><td>1741.0</td><td>0.657815</td></tr></tbody></table></div>"
      ],
      "text/plain": [
       "shape: (7, 3)\n",
       "┌─────┬────────┬──────────┐\n",
       "│ by  ┆ price  ┆ carat    │\n",
       "│ --- ┆ ---    ┆ ---      │\n",
       "│ str ┆ f64    ┆ f64      │\n",
       "╞═════╪════════╪══════════╡\n",
       "│ I   ┆ 3723.0 ┆ 1.020684 │\n",
       "│ D   ┆ 1842.0 ┆ 0.658697 │\n",
       "│ F   ┆ 2345.0 ┆ 0.736323 │\n",
       "│ J   ┆ 4234.5 ┆ 1.15934  │\n",
       "│ H   ┆ 3453.5 ┆ 0.909103 │\n",
       "│ G   ┆ 2246.0 ┆ 0.770161 │\n",
       "│ E   ┆ 1741.0 ┆ 0.657815 │\n",
       "└─────┴────────┴──────────┘"
      ]
     },
     "metadata": {},
     "output_type": "display_data"
    }
   ],
   "source": [
    "%%time\n",
    "\n",
    "q.collect()"
   ]
  },
  {
   "cell_type": "markdown",
   "id": "c481013f",
   "metadata": {},
   "source": [
    "### Polars lazy-API\n",
    "\n",
    "[Документация](https://pola-rs.github.io/polars-book/user-guide/lazy/using/)\n",
    "\n",
    "With the lazy API, Polars doesn't run each query line-by-line but instead processes the full query end-to-end. To get the most out of Polars it is important that you use the lazy API because:\n",
    "\n",
    "* the lazy API allows Polars to apply automatic query optimization with the query optimizer\n",
    "\n",
    "* the lazy API allows you to work with larger than memory datasets using streaming\n",
    "\n",
    "* the lazy API can catch schema errors before processing the data"
   ]
  },
  {
   "cell_type": "code",
   "execution_count": null,
   "id": "5e9d0c95",
   "metadata": {},
   "outputs": [],
   "source": [
    "q = (\n",
    "    pl.scan_csv(\"diamonds_big.csv\")\n",
    "    .with_columns(pl.col(\"color\").str.to_lowercase())\n",
    "    .filter(pl.col(\"price\") > 1000)\n",
    ")"
   ]
  },
  {
   "cell_type": "code",
   "execution_count": null,
   "id": "8bea74be",
   "metadata": {},
   "outputs": [
    {
     "data": {
      "text/html": [
       "<h4>NAIVE QUERY PLAN</h4><p>run <b>LazyFrame.show_graph()</b> to see the optimized version</p><?xml version=\"1.0\" encoding=\"UTF-8\" standalone=\"no\"?>\r\n",
       "<!DOCTYPE svg PUBLIC \"-//W3C//DTD SVG 1.1//EN\"\r\n",
       " \"http://www.w3.org/Graphics/SVG/1.1/DTD/svg11.dtd\">\r\n",
       "<!-- Generated by graphviz version 4.0.0 (0)\r\n",
       " -->\r\n",
       "<!-- Title: polars_query Pages: 1 -->\r\n",
       "<svg width=\"292pt\" height=\"190pt\"\r\n",
       " viewBox=\"0.00 0.00 292.00 190.00\" xmlns=\"http://www.w3.org/2000/svg\" xmlns:xlink=\"http://www.w3.org/1999/xlink\">\r\n",
       "<g id=\"graph0\" class=\"graph\" transform=\"scale(1 1) rotate(0) translate(4 186)\">\r\n",
       "<title>polars_query</title>\r\n",
       "<polygon fill=\"white\" stroke=\"transparent\" points=\"-4,4 -4,-186 288,-186 288,4 -4,4\"/>\r\n",
       "<!-- p1 -->\r\n",
       "<g id=\"node1\" class=\"node\">\r\n",
       "<title>p1</title>\r\n",
       "<polygon fill=\"none\" stroke=\"black\" points=\"258.5,-182 25.5,-182 25.5,-146 258.5,-146 258.5,-182\"/>\r\n",
       "<text text-anchor=\"middle\" x=\"142\" y=\"-160.3\" font-family=\"Times New Roman,serif\" font-size=\"14.00\">FILTER BY [(col(&quot;price&quot;)) &gt; (1000.0)]</text>\r\n",
       "</g>\r\n",
       "<!-- p2 -->\r\n",
       "<g id=\"node2\" class=\"node\">\r\n",
       "<title>p2</title>\r\n",
       "<polygon fill=\"none\" stroke=\"black\" points=\"284,-110 0,-110 0,-74 284,-74 284,-110\"/>\r\n",
       "<text text-anchor=\"middle\" x=\"142\" y=\"-88.3\" font-family=\"Times New Roman,serif\" font-size=\"14.00\">WITH COLUMNS [col(&quot;color&quot;).str.lowercase()]</text>\r\n",
       "</g>\r\n",
       "<!-- p1&#45;&#45;p2 -->\r\n",
       "<g id=\"edge1\" class=\"edge\">\r\n",
       "<title>p1&#45;&#45;p2</title>\r\n",
       "<path fill=\"none\" stroke=\"black\" d=\"M142,-145.7C142,-134.85 142,-120.92 142,-110.1\"/>\r\n",
       "</g>\r\n",
       "<!-- p3 -->\r\n",
       "<g id=\"node3\" class=\"node\">\r\n",
       "<title>p3</title>\r\n",
       "<polygon fill=\"none\" stroke=\"black\" points=\"236.5,-38 47.5,-38 47.5,0 236.5,0 236.5,-38\"/>\r\n",
       "<text text-anchor=\"middle\" x=\"142\" y=\"-22.8\" font-family=\"Times New Roman,serif\" font-size=\"14.00\">Csv SCAN [diamonds_big.csv]</text>\r\n",
       "<text text-anchor=\"middle\" x=\"142\" y=\"-7.8\" font-family=\"Times New Roman,serif\" font-size=\"14.00\">π */10;</text>\r\n",
       "</g>\r\n",
       "<!-- p2&#45;&#45;p3 -->\r\n",
       "<g id=\"edge2\" class=\"edge\">\r\n",
       "<title>p2&#45;&#45;p3</title>\r\n",
       "<path fill=\"none\" stroke=\"black\" d=\"M142,-73.81C142,-62.98 142,-49.01 142,-38.02\"/>\r\n",
       "</g>\r\n",
       "</g>\r\n",
       "</svg>\r\n"
      ],
      "text/plain": [
       "<LazyFrame at 0x2B0933AC7D0>"
      ]
     },
     "metadata": {},
     "output_type": "display_data"
    }
   ],
   "source": [
    "q"
   ]
  },
  {
   "cell_type": "code",
   "execution_count": null,
   "id": "44ab36a5",
   "metadata": {},
   "outputs": [
    {
     "data": {
      "image/svg+xml": [
       "<svg xmlns=\"http://www.w3.org/2000/svg\" xmlns:xlink=\"http://www.w3.org/1999/xlink\" width=\"292pt\" height=\"133pt\" viewBox=\"0.00 0.00 292.00 133.00\">\n",
       "<g id=\"graph0\" class=\"graph\" transform=\"scale(1 1) rotate(0) translate(4 129)\">\n",
       "<title>polars_query</title>\n",
       "<polygon fill=\"white\" stroke=\"transparent\" points=\"-4,4 -4,-129 288,-129 288,4 -4,4\"/>\n",
       "<!-- p1 -->\n",
       "<g id=\"node1\" class=\"node\">\n",
       "<title>p1</title>\n",
       "<polygon fill=\"none\" stroke=\"black\" points=\"284,-125 0,-125 0,-89 284,-89 284,-125\"/>\n",
       "<text text-anchor=\"middle\" x=\"142\" y=\"-103.3\" font-family=\"Times New Roman,serif\" font-size=\"14.00\">WITH COLUMNS [col(&quot;color&quot;).str.lowercase()]</text>\n",
       "</g>\n",
       "<!-- p2 -->\n",
       "<g id=\"node2\" class=\"node\">\n",
       "<title>p2</title>\n",
       "<polygon fill=\"none\" stroke=\"black\" points=\"236.5,-53 47.5,-53 47.5,0 236.5,0 236.5,-53\"/>\n",
       "<text text-anchor=\"middle\" x=\"142\" y=\"-37.8\" font-family=\"Times New Roman,serif\" font-size=\"14.00\">Csv SCAN [diamonds_big.csv]</text>\n",
       "<text text-anchor=\"middle\" x=\"142\" y=\"-22.8\" font-family=\"Times New Roman,serif\" font-size=\"14.00\">π */10;</text>\n",
       "<text text-anchor=\"middle\" x=\"142\" y=\"-7.8\" font-family=\"Times New Roman,serif\" font-size=\"14.00\">σ [(col(&quot;price&quot;)) &gt; (1000.0)]</text>\n",
       "</g>\n",
       "<!-- p1&#45;&#45;p2 -->\n",
       "<g id=\"edge1\" class=\"edge\">\n",
       "<title>p1--p2</title>\n",
       "<path fill=\"none\" stroke=\"black\" d=\"M142,-88.97C142,-78.51 142,-64.9 142,-53.16\"/>\n",
       "</g>\n",
       "</g>\n",
       "</svg>"
      ],
      "text/plain": [
       "<IPython.core.display.SVG object>"
      ]
     },
     "metadata": {},
     "output_type": "display_data"
    }
   ],
   "source": [
    "q.show_graph()"
   ]
  },
  {
   "cell_type": "code",
   "execution_count": null,
   "id": "681ea489",
   "metadata": {},
   "outputs": [
    {
     "name": "stdout",
     "output_type": "stream",
     "text": [
      "CPU times: total: 1.03 s\n",
      "Wall time: 312 ms\n"
     ]
    },
    {
     "data": {
      "text/html": [
       "<div><style>\n",
       ".dataframe > thead > tr,\n",
       ".dataframe > tbody > tr {\n",
       "  text-align: right;\n",
       "  white-space: pre-wrap;\n",
       "}\n",
       "</style>\n",
       "<small>shape: (2_005_881, 10)</small><table border=\"1\" class=\"dataframe\"><thead><tr><th>carat</th><th>cut</th><th>color</th><th>clarity</th><th>depth</th><th>table</th><th>price</th><th>&#x27;x&#x27;</th><th>&#x27;y&#x27;</th><th>&#x27;z&#x27;</th></tr><tr><td>f64</td><td>str</td><td>str</td><td>str</td><td>f64</td><td>f64</td><td>f64</td><td>f64</td><td>f64</td><td>f64</td></tr></thead><tbody><tr><td>0.7</td><td>&quot;Ideal&quot;</td><td>&quot;e&quot;</td><td>&quot;SI1&quot;</td><td>62.5</td><td>57.0</td><td>2757.0</td><td>5.7</td><td>5.72</td><td>3.57</td></tr><tr><td>0.86</td><td>&quot;Fair&quot;</td><td>&quot;e&quot;</td><td>&quot;SI2&quot;</td><td>55.1</td><td>69.0</td><td>2757.0</td><td>6.45</td><td>6.33</td><td>3.52</td></tr><tr><td>0.7</td><td>&quot;Ideal&quot;</td><td>&quot;g&quot;</td><td>&quot;VS2&quot;</td><td>61.6</td><td>56.0</td><td>2757.0</td><td>5.7</td><td>5.67</td><td>3.5</td></tr><tr><td>0.71</td><td>&quot;Very Good&quot;</td><td>&quot;e&quot;</td><td>&quot;VS2&quot;</td><td>62.4</td><td>57.0</td><td>2759.0</td><td>5.68</td><td>5.73</td><td>3.56</td></tr><tr><td>0.78</td><td>&quot;Very Good&quot;</td><td>&quot;g&quot;</td><td>&quot;SI2&quot;</td><td>63.8</td><td>56.0</td><td>2759.0</td><td>5.81</td><td>5.85</td><td>3.72</td></tr><tr><td>&hellip;</td><td>&hellip;</td><td>&hellip;</td><td>&hellip;</td><td>&hellip;</td><td>&hellip;</td><td>&hellip;</td><td>&hellip;</td><td>&hellip;</td><td>&hellip;</td></tr><tr><td>0.72</td><td>&quot;Ideal&quot;</td><td>&quot;d&quot;</td><td>&quot;SI1&quot;</td><td>60.8</td><td>57.0</td><td>2757.0</td><td>5.75</td><td>5.76</td><td>3.5</td></tr><tr><td>0.72</td><td>&quot;Good&quot;</td><td>&quot;d&quot;</td><td>&quot;SI1&quot;</td><td>63.1</td><td>55.0</td><td>2757.0</td><td>5.69</td><td>5.75</td><td>3.61</td></tr><tr><td>0.7</td><td>&quot;Very Good&quot;</td><td>&quot;d&quot;</td><td>&quot;SI1&quot;</td><td>62.8</td><td>60.0</td><td>2757.0</td><td>5.66</td><td>5.68</td><td>3.56</td></tr><tr><td>0.86</td><td>&quot;Premium&quot;</td><td>&quot;h&quot;</td><td>&quot;SI2&quot;</td><td>61.0</td><td>58.0</td><td>2757.0</td><td>6.15</td><td>6.12</td><td>3.74</td></tr><tr><td>0.75</td><td>&quot;Ideal&quot;</td><td>&quot;d&quot;</td><td>&quot;SI2&quot;</td><td>62.2</td><td>55.0</td><td>2757.0</td><td>5.83</td><td>5.87</td><td>3.64</td></tr></tbody></table></div>"
      ],
      "text/plain": [
       "shape: (2_005_881, 10)\n",
       "┌───────┬───────────┬───────┬─────────┬───┬────────┬──────┬──────┬──────┐\n",
       "│ carat ┆ cut       ┆ color ┆ clarity ┆ … ┆ price  ┆ 'x'  ┆ 'y'  ┆ 'z'  │\n",
       "│ ---   ┆ ---       ┆ ---   ┆ ---     ┆   ┆ ---    ┆ ---  ┆ ---  ┆ ---  │\n",
       "│ f64   ┆ str       ┆ str   ┆ str     ┆   ┆ f64    ┆ f64  ┆ f64  ┆ f64  │\n",
       "╞═══════╪═══════════╪═══════╪═════════╪═══╪════════╪══════╪══════╪══════╡\n",
       "│ 0.7   ┆ Ideal     ┆ e     ┆ SI1     ┆ … ┆ 2757.0 ┆ 5.7  ┆ 5.72 ┆ 3.57 │\n",
       "│ 0.86  ┆ Fair      ┆ e     ┆ SI2     ┆ … ┆ 2757.0 ┆ 6.45 ┆ 6.33 ┆ 3.52 │\n",
       "│ 0.7   ┆ Ideal     ┆ g     ┆ VS2     ┆ … ┆ 2757.0 ┆ 5.7  ┆ 5.67 ┆ 3.5  │\n",
       "│ 0.71  ┆ Very Good ┆ e     ┆ VS2     ┆ … ┆ 2759.0 ┆ 5.68 ┆ 5.73 ┆ 3.56 │\n",
       "│ 0.78  ┆ Very Good ┆ g     ┆ SI2     ┆ … ┆ 2759.0 ┆ 5.81 ┆ 5.85 ┆ 3.72 │\n",
       "│ …     ┆ …         ┆ …     ┆ …       ┆ … ┆ …      ┆ …    ┆ …    ┆ …    │\n",
       "│ 0.72  ┆ Ideal     ┆ d     ┆ SI1     ┆ … ┆ 2757.0 ┆ 5.75 ┆ 5.76 ┆ 3.5  │\n",
       "│ 0.72  ┆ Good      ┆ d     ┆ SI1     ┆ … ┆ 2757.0 ┆ 5.69 ┆ 5.75 ┆ 3.61 │\n",
       "│ 0.7   ┆ Very Good ┆ d     ┆ SI1     ┆ … ┆ 2757.0 ┆ 5.66 ┆ 5.68 ┆ 3.56 │\n",
       "│ 0.86  ┆ Premium   ┆ h     ┆ SI2     ┆ … ┆ 2757.0 ┆ 6.15 ┆ 6.12 ┆ 3.74 │\n",
       "│ 0.75  ┆ Ideal     ┆ d     ┆ SI2     ┆ … ┆ 2757.0 ┆ 5.83 ┆ 5.87 ┆ 3.64 │\n",
       "└───────┴───────────┴───────┴─────────┴───┴────────┴──────┴──────┴──────┘"
      ]
     },
     "metadata": {},
     "output_type": "display_data"
    }
   ],
   "source": [
    "%%time\n",
    "\n",
    "q.collect()"
   ]
  },
  {
   "cell_type": "code",
   "execution_count": null,
   "id": "1b578025",
   "metadata": {},
   "outputs": [
    {
     "name": "stderr",
     "output_type": "stream",
     "text": [
      "<timed eval>:1: DeprecationWarning: the `streaming` parameter was deprecated in 1.25.0; use `engine` instead.\n",
      "<timed eval>:1: DeprecationWarning: The old streaming engine is being deprecated and will soon be replaced by the new streaming engine. Starting Polars version 1.23.0 and until the new streaming engine is released, the old streaming engine may become less usable. For people who rely on the old streaming engine, it is suggested to pin your version to before 1.23.0.\n",
      "\n",
      "More information on the new streaming engine: https://github.com/pola-rs/polars/issues/20947\n"
     ]
    },
    {
     "name": "stdout",
     "output_type": "stream",
     "text": [
      "CPU times: total: 1.08 s\n",
      "Wall time: 388 ms\n"
     ]
    },
    {
     "data": {
      "text/html": [
       "<div><style>\n",
       ".dataframe > thead > tr,\n",
       ".dataframe > tbody > tr {\n",
       "  text-align: right;\n",
       "  white-space: pre-wrap;\n",
       "}\n",
       "</style>\n",
       "<small>shape: (2_005_881, 10)</small><table border=\"1\" class=\"dataframe\"><thead><tr><th>carat</th><th>cut</th><th>color</th><th>clarity</th><th>depth</th><th>table</th><th>price</th><th>&#x27;x&#x27;</th><th>&#x27;y&#x27;</th><th>&#x27;z&#x27;</th></tr><tr><td>f64</td><td>str</td><td>str</td><td>str</td><td>f64</td><td>f64</td><td>f64</td><td>f64</td><td>f64</td><td>f64</td></tr></thead><tbody><tr><td>0.7</td><td>&quot;Ideal&quot;</td><td>&quot;e&quot;</td><td>&quot;SI1&quot;</td><td>62.5</td><td>57.0</td><td>2757.0</td><td>5.7</td><td>5.72</td><td>3.57</td></tr><tr><td>0.86</td><td>&quot;Fair&quot;</td><td>&quot;e&quot;</td><td>&quot;SI2&quot;</td><td>55.1</td><td>69.0</td><td>2757.0</td><td>6.45</td><td>6.33</td><td>3.52</td></tr><tr><td>0.7</td><td>&quot;Ideal&quot;</td><td>&quot;g&quot;</td><td>&quot;VS2&quot;</td><td>61.6</td><td>56.0</td><td>2757.0</td><td>5.7</td><td>5.67</td><td>3.5</td></tr><tr><td>0.71</td><td>&quot;Very Good&quot;</td><td>&quot;e&quot;</td><td>&quot;VS2&quot;</td><td>62.4</td><td>57.0</td><td>2759.0</td><td>5.68</td><td>5.73</td><td>3.56</td></tr><tr><td>0.78</td><td>&quot;Very Good&quot;</td><td>&quot;g&quot;</td><td>&quot;SI2&quot;</td><td>63.8</td><td>56.0</td><td>2759.0</td><td>5.81</td><td>5.85</td><td>3.72</td></tr><tr><td>&hellip;</td><td>&hellip;</td><td>&hellip;</td><td>&hellip;</td><td>&hellip;</td><td>&hellip;</td><td>&hellip;</td><td>&hellip;</td><td>&hellip;</td><td>&hellip;</td></tr><tr><td>0.72</td><td>&quot;Ideal&quot;</td><td>&quot;d&quot;</td><td>&quot;SI1&quot;</td><td>60.8</td><td>57.0</td><td>2757.0</td><td>5.75</td><td>5.76</td><td>3.5</td></tr><tr><td>0.72</td><td>&quot;Good&quot;</td><td>&quot;d&quot;</td><td>&quot;SI1&quot;</td><td>63.1</td><td>55.0</td><td>2757.0</td><td>5.69</td><td>5.75</td><td>3.61</td></tr><tr><td>0.7</td><td>&quot;Very Good&quot;</td><td>&quot;d&quot;</td><td>&quot;SI1&quot;</td><td>62.8</td><td>60.0</td><td>2757.0</td><td>5.66</td><td>5.68</td><td>3.56</td></tr><tr><td>0.86</td><td>&quot;Premium&quot;</td><td>&quot;h&quot;</td><td>&quot;SI2&quot;</td><td>61.0</td><td>58.0</td><td>2757.0</td><td>6.15</td><td>6.12</td><td>3.74</td></tr><tr><td>0.75</td><td>&quot;Ideal&quot;</td><td>&quot;d&quot;</td><td>&quot;SI2&quot;</td><td>62.2</td><td>55.0</td><td>2757.0</td><td>5.83</td><td>5.87</td><td>3.64</td></tr></tbody></table></div>"
      ],
      "text/plain": [
       "shape: (2_005_881, 10)\n",
       "┌───────┬───────────┬───────┬─────────┬───┬────────┬──────┬──────┬──────┐\n",
       "│ carat ┆ cut       ┆ color ┆ clarity ┆ … ┆ price  ┆ 'x'  ┆ 'y'  ┆ 'z'  │\n",
       "│ ---   ┆ ---       ┆ ---   ┆ ---     ┆   ┆ ---    ┆ ---  ┆ ---  ┆ ---  │\n",
       "│ f64   ┆ str       ┆ str   ┆ str     ┆   ┆ f64    ┆ f64  ┆ f64  ┆ f64  │\n",
       "╞═══════╪═══════════╪═══════╪═════════╪═══╪════════╪══════╪══════╪══════╡\n",
       "│ 0.7   ┆ Ideal     ┆ e     ┆ SI1     ┆ … ┆ 2757.0 ┆ 5.7  ┆ 5.72 ┆ 3.57 │\n",
       "│ 0.86  ┆ Fair      ┆ e     ┆ SI2     ┆ … ┆ 2757.0 ┆ 6.45 ┆ 6.33 ┆ 3.52 │\n",
       "│ 0.7   ┆ Ideal     ┆ g     ┆ VS2     ┆ … ┆ 2757.0 ┆ 5.7  ┆ 5.67 ┆ 3.5  │\n",
       "│ 0.71  ┆ Very Good ┆ e     ┆ VS2     ┆ … ┆ 2759.0 ┆ 5.68 ┆ 5.73 ┆ 3.56 │\n",
       "│ 0.78  ┆ Very Good ┆ g     ┆ SI2     ┆ … ┆ 2759.0 ┆ 5.81 ┆ 5.85 ┆ 3.72 │\n",
       "│ …     ┆ …         ┆ …     ┆ …       ┆ … ┆ …      ┆ …    ┆ …    ┆ …    │\n",
       "│ 0.72  ┆ Ideal     ┆ d     ┆ SI1     ┆ … ┆ 2757.0 ┆ 5.75 ┆ 5.76 ┆ 3.5  │\n",
       "│ 0.72  ┆ Good      ┆ d     ┆ SI1     ┆ … ┆ 2757.0 ┆ 5.69 ┆ 5.75 ┆ 3.61 │\n",
       "│ 0.7   ┆ Very Good ┆ d     ┆ SI1     ┆ … ┆ 2757.0 ┆ 5.66 ┆ 5.68 ┆ 3.56 │\n",
       "│ 0.86  ┆ Premium   ┆ h     ┆ SI2     ┆ … ┆ 2757.0 ┆ 6.15 ┆ 6.12 ┆ 3.74 │\n",
       "│ 0.75  ┆ Ideal     ┆ d     ┆ SI2     ┆ … ┆ 2757.0 ┆ 5.83 ┆ 5.87 ┆ 3.64 │\n",
       "└───────┴───────────┴───────┴─────────┴───┴────────┴──────┴──────┴──────┘"
      ]
     },
     "metadata": {},
     "output_type": "display_data"
    }
   ],
   "source": [
    "%%time\n",
    "\n",
    "q.collect(streaming=True)"
   ]
  },
  {
   "cell_type": "markdown",
   "id": "0287d7c2",
   "metadata": {},
   "source": [
    "### Заключение по Polars и Pandas\n",
    "\n",
    "Нельзя сказать, что Polars во всех запросах сильно выигрывает у Pandas, но благодаря его появлению разработчики выпустили Pandas 2.0 - версию классической библиотеки с привычным синтаксисом, но гораздо более быстрой работой.\n",
    "\n",
    "Про сравнение Pandas, Polars и Pandas 2.0 можно почитать [здесь](https://medium.com/cuenex/pandas-2-0-vs-polars-the-ultimate-battle-a378eb75d6d1)."
   ]
  },
  {
   "cell_type": "markdown",
   "id": "77d120c0",
   "metadata": {},
   "source": [
    "# Введение в машинное обучение (основные понятия)\n",
    "\n",
    "Основные понятия."
   ]
  },
  {
   "cell_type": "markdown",
   "id": "edd4bb65",
   "metadata": {},
   "source": [
    "В нашем примере мы можем попробовать предсказать стоимость алмаза по его характеристикам.\n",
    "\n",
    "* алмазы - *объекты*\n",
    "* характеристики - *признаки*\n",
    "* стоимость - *целевая переменная*"
   ]
  },
  {
   "cell_type": "markdown",
   "id": "61338e84",
   "metadata": {},
   "source": [
    "![object_feature-3.png](data:image/png;base64,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)"
   ]
  },
  {
   "cell_type": "markdown",
   "id": "80fee586",
   "metadata": {},
   "source": [
    "Модели машинного обучения - это некоторые математические правила (обычно функции), по которым модель делает прогноз.\n",
    "\n",
    "**Пример (линейная регрессия):**\n",
    "\n",
    "$price = a + b\\cdot carat + c\\cdot depth,$\n",
    "\n",
    "здесь $a,b,c$ - параметры модели (заранее мы их не знаем).\n",
    "\n",
    "*Параметры подбираются по обучающим данным так, чтобы модель ошибалась меньше всего.*"
   ]
  },
  {
   "cell_type": "markdown",
   "id": "333c100c",
   "metadata": {},
   "source": [
    "Пример плохо подобранных параметров $a, b$ модели\n",
    "$$y = a + b\\cdot x.$$\n",
    "\n",
    "На рисунке\n",
    "$$y = -30 + 7x.$$"
   ]
  },
  {
   "cell_type": "markdown",
   "id": "07b613f0",
   "metadata": {},
   "source": [
    "![LR_bad.png](data:image/png;base64,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)"
   ]
  },
  {
   "cell_type": "markdown",
   "id": "731ae5e4",
   "metadata": {},
   "source": [
    "Пример хорошо подобранных параметров:\n",
    "$$y = 0.5 + x.$$"
   ]
  },
  {
   "cell_type": "markdown",
   "id": "57b51c48",
   "metadata": {},
   "source": [
    "![LR_good.png](data:image/png;base64,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)"
   ]
  },
  {
   "cell_type": "markdown",
   "id": "dd641b70",
   "metadata": {},
   "source": [
    "Функции для построения прогнозов бывают разные:\n",
    "\n",
    "* линейные модели\n",
    "* решающие правила (если $a$, то $b$)\n",
    "* нейронные сети\n",
    "* другие модели\n",
    "\n",
    "Каждая модель хорошо работает в своих предположениях о данных, поэтому изучить распределение целевой переменной всегда очень полезно."
   ]
  },
  {
   "cell_type": "markdown",
   "id": "e10d6791",
   "metadata": {},
   "source": [
    "Обучим линейную регрессию предсказывать цену по числу карат."
   ]
  },
  {
   "cell_type": "code",
   "execution_count": null,
   "id": "b1205658",
   "metadata": {},
   "outputs": [],
   "source": [
    "X = df[['carat']] # матрица объект-признак\n",
    "y = df['price'] # целевая переменная"
   ]
  },
  {
   "cell_type": "code",
   "execution_count": null,
   "id": "ce588233",
   "metadata": {},
   "outputs": [],
   "source": [
    "from sklearn.linear_model import LinearRegression\n",
    "\n",
    "lr = LinearRegression()\n",
    "lr.fit(X, y)\n",
    "\n",
    "pred = lr.predict(X)"
   ]
  },
  {
   "cell_type": "code",
   "execution_count": null,
   "id": "0eac64f5",
   "metadata": {},
   "outputs": [
    {
     "data": {
      "text/plain": [
       "[<matplotlib.lines.Line2D at 0x2b0939c5730>]"
      ]
     },
     "metadata": {},
     "output_type": "display_data"
    },
    {
     "data": {
      "image/png": "[encoded data removed]",
      "text/plain": [
       "<Figure size 640x480 with 1 Axes>"
      ]
     },
     "metadata": {},
     "output_type": "display_data"
    }
   ],
   "source": [
    "plt.scatter(X.values, y)\n",
    "plt.plot(X.values, pred, c='red')"
   ]
  },
  {
   "cell_type": "markdown",
   "id": "32469b77",
   "metadata": {},
   "source": [
    "Вычислим ошибку модели\n",
    "\n",
    "$$MAE = \\frac1l\\sum_{i=1}^l |a(x_i)-y_i|$$"
   ]
  },
  {
   "cell_type": "code",
   "execution_count": null,
   "id": "09c214d3",
   "metadata": {},
   "outputs": [
    {
     "data": {
      "text/plain": [
       "1025.654939443918"
      ]
     },
     "metadata": {},
     "output_type": "display_data"
    }
   ],
   "source": [
    "from sklearn.metrics import mean_absolute_error\n",
    "\n",
    "mean_absolute_error(y, pred)"
   ]
  },
  {
   "cell_type": "code",
   "execution_count": null,
   "id": "5cd9828d",
   "metadata": {},
   "outputs": [
    {
     "data": {
      "text/plain": [
       "3933.562828733389"
      ]
     },
     "metadata": {},
     "output_type": "display_data"
    }
   ],
   "source": [
    "np.mean(y)"
   ]
  },
  {
   "cell_type": "markdown",
   "id": "be9d2993",
   "metadata": {},
   "source": [
    "## Анализ распределения столбцов (целевой переменной)"
   ]
  },
  {
   "cell_type": "markdown",
   "id": "cc66343e",
   "metadata": {},
   "source": [
    "![image.png](data:image/png;base64,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)"
   ]
  },
  {
   "cell_type": "markdown",
   "id": "6ecd013b",
   "metadata": {},
   "source": [
    "В основном в задачах регрессии мы ожидаем увидеть нормально распределенную целевую переменную. Многие модели заточены под нормальное распределение.\n",
    "\n",
    "Но не только в этом дело..."
   ]
  },
  {
   "cell_type": "code",
   "execution_count": null,
   "id": "ebc137b3",
   "metadata": {},
   "outputs": [
    {
     "data": {
      "image/png": "[encoded data removed]",
      "text/plain": [
       "<Figure size 640x480 with 1 Axes>"
      ]
     },
     "metadata": {},
     "output_type": "display_data"
    }
   ],
   "source": [
    "sns.histplot(data = df['price'], kde = True);"
   ]
  },
  {
   "cell_type": "code",
   "execution_count": null,
   "id": "408e7267",
   "metadata": {},
   "outputs": [
    {
     "data": {
      "image/png": "[encoded data removed]",
      "text/plain": [
       "<Figure size 640x480 with 1 Axes>"
      ]
     },
     "metadata": {},
     "output_type": "display_data"
    }
   ],
   "source": [
    "sns.histplot(data = np.log(df['price']), kde = True);"
   ]
  },
  {
   "cell_type": "markdown",
   "id": "00a70c01",
   "metadata": {},
   "source": [
    "Мы видим у распределения тяжелый хвост, который может быть трудно прогнозируем моделями (так как там мало значений).\n",
    "\n",
    "Проверим это."
   ]
  },
  {
   "cell_type": "code",
   "execution_count": null,
   "id": "f8672374",
   "metadata": {},
   "outputs": [
    {
     "data": {
      "text/plain": [
       "812.9520456475558"
      ]
     },
     "metadata": {},
     "output_type": "display_data"
    }
   ],
   "source": [
    "mean_absolute_error(y[y < 10000], pred[y < 10000])"
   ]
  },
  {
   "cell_type": "code",
   "execution_count": null,
   "id": "e8a73ac6",
   "metadata": {},
   "outputs": [
    {
     "data": {
      "text/plain": [
       "3010.432690945798"
      ]
     },
     "metadata": {},
     "output_type": "display_data"
    }
   ],
   "source": [
    "mean_absolute_error(y[y >= 10000], pred[y >= 10000])"
   ]
  },
  {
   "cell_type": "markdown",
   "id": "82d0def4",
   "metadata": {},
   "source": [
    "Действительно, ошибка на дорогих алмазах больше."
   ]
  },
  {
   "cell_type": "code",
   "execution_count": null,
   "id": "bbad8c55",
   "metadata": {},
   "outputs": [
    {
     "data": {
      "text/html": [
       "<style>#sk-container-id-1 {\n",
       "  /* Definition of color scheme common for light and dark mode */\n",
       "  --sklearn-color-text: #000;\n",
       "  --sklearn-color-text-muted: #666;\n",
       "  --sklearn-color-line: gray;\n",
       "  /* Definition of color scheme for unfitted estimators */\n",
       "  --sklearn-color-unfitted-level-0: #fff5e6;\n",
       "  --sklearn-color-unfitted-level-1: #f6e4d2;\n",
       "  --sklearn-color-unfitted-level-2: #ffe0b3;\n",
       "  --sklearn-color-unfitted-level-3: chocolate;\n",
       "  /* Definition of color scheme for fitted estimators */\n",
       "  --sklearn-color-fitted-level-0: #f0f8ff;\n",
       "  --sklearn-color-fitted-level-1: #d4ebff;\n",
       "  --sklearn-color-fitted-level-2: #b3dbfd;\n",
       "  --sklearn-color-fitted-level-3: cornflowerblue;\n",
       "\n",
       "  /* Specific color for light theme */\n",
       "  --sklearn-color-text-on-default-background: var(--sg-text-color, var(--theme-code-foreground, var(--jp-content-font-color1, black)));\n",
       "  --sklearn-color-background: var(--sg-background-color, var(--theme-background, var(--jp-layout-color0, white)));\n",
       "  --sklearn-color-border-box: var(--sg-text-color, var(--theme-code-foreground, var(--jp-content-font-color1, black)));\n",
       "  --sklearn-color-icon: #696969;\n",
       "\n",
       "  @media (prefers-color-scheme: dark) {\n",
       "    /* Redefinition of color scheme for dark theme */\n",
       "    --sklearn-color-text-on-default-background: var(--sg-text-color, var(--theme-code-foreground, var(--jp-content-font-color1, white)));\n",
       "    --sklearn-color-background: var(--sg-background-color, var(--theme-background, var(--jp-layout-color0, #111)));\n",
       "    --sklearn-color-border-box: var(--sg-text-color, var(--theme-code-foreground, var(--jp-content-font-color1, white)));\n",
       "    --sklearn-color-icon: #878787;\n",
       "  }\n",
       "}\n",
       "\n",
       "#sk-container-id-1 {\n",
       "  color: var(--sklearn-color-text);\n",
       "}\n",
       "\n",
       "#sk-container-id-1 pre {\n",
       "  padding: 0;\n",
       "}\n",
       "\n",
       "#sk-container-id-1 input.sk-hidden--visually {\n",
       "  border: 0;\n",
       "  clip: rect(1px 1px 1px 1px);\n",
       "  clip: rect(1px, 1px, 1px, 1px);\n",
       "  height: 1px;\n",
       "  margin: -1px;\n",
       "  overflow: hidden;\n",
       "  padding: 0;\n",
       "  position: absolute;\n",
       "  width: 1px;\n",
       "}\n",
       "\n",
       "#sk-container-id-1 div.sk-dashed-wrapped {\n",
       "  border: 1px dashed var(--sklearn-color-line);\n",
       "  margin: 0 0.4em 0.5em 0.4em;\n",
       "  box-sizing: border-box;\n",
       "  padding-bottom: 0.4em;\n",
       "  background-color: var(--sklearn-color-background);\n",
       "}\n",
       "\n",
       "#sk-container-id-1 div.sk-container {\n",
       "  /* jupyter's `normalize.less` sets `[hidden] { display: none; }`\n",
       "     but bootstrap.min.css set `[hidden] { display: none !important; }`\n",
       "     so we also need the `!important` here to be able to override the\n",
       "     default hidden behavior on the sphinx rendered scikit-learn.org.\n",
       "     See: https://github.com/scikit-learn/scikit-learn/issues/21755 */\n",
       "  display: inline-block !important;\n",
       "  position: relative;\n",
       "}\n",
       "\n",
       "#sk-container-id-1 div.sk-text-repr-fallback {\n",
       "  display: none;\n",
       "}\n",
       "\n",
       "div.sk-parallel-item,\n",
       "div.sk-serial,\n",
       "div.sk-item {\n",
       "  /* draw centered vertical line to link estimators */\n",
       "  background-image: linear-gradient(var(--sklearn-color-text-on-default-background), var(--sklearn-color-text-on-default-background));\n",
       "  background-size: 2px 100%;\n",
       "  background-repeat: no-repeat;\n",
       "  background-position: center center;\n",
       "}\n",
       "\n",
       "/* Parallel-specific style estimator block */\n",
       "\n",
       "#sk-container-id-1 div.sk-parallel-item::after {\n",
       "  content: \"\";\n",
       "  width: 100%;\n",
       "  border-bottom: 2px solid var(--sklearn-color-text-on-default-background);\n",
       "  flex-grow: 1;\n",
       "}\n",
       "\n",
       "#sk-container-id-1 div.sk-parallel {\n",
       "  display: flex;\n",
       "  align-items: stretch;\n",
       "  justify-content: center;\n",
       "  background-color: var(--sklearn-color-background);\n",
       "  position: relative;\n",
       "}\n",
       "\n",
       "#sk-container-id-1 div.sk-parallel-item {\n",
       "  display: flex;\n",
       "  flex-direction: column;\n",
       "}\n",
       "\n",
       "#sk-container-id-1 div.sk-parallel-item:first-child::after {\n",
       "  align-self: flex-end;\n",
       "  width: 50%;\n",
       "}\n",
       "\n",
       "#sk-container-id-1 div.sk-parallel-item:last-child::after {\n",
       "  align-self: flex-start;\n",
       "  width: 50%;\n",
       "}\n",
       "\n",
       "#sk-container-id-1 div.sk-parallel-item:only-child::after {\n",
       "  width: 0;\n",
       "}\n",
       "\n",
       "/* Serial-specific style estimator block */\n",
       "\n",
       "#sk-container-id-1 div.sk-serial {\n",
       "  display: flex;\n",
       "  flex-direction: column;\n",
       "  align-items: center;\n",
       "  background-color: var(--sklearn-color-background);\n",
       "  padding-right: 1em;\n",
       "  padding-left: 1em;\n",
       "}\n",
       "\n",
       "\n",
       "/* Toggleable style: style used for estimator/Pipeline/ColumnTransformer box that is\n",
       "clickable and can be expanded/collapsed.\n",
       "- Pipeline and ColumnTransformer use this feature and define the default style\n",
       "- Estimators will overwrite some part of the style using the `sk-estimator` class\n",
       "*/\n",
       "\n",
       "/* Pipeline and ColumnTransformer style (default) */\n",
       "\n",
       "#sk-container-id-1 div.sk-toggleable {\n",
       "  /* Default theme specific background. It is overwritten whether we have a\n",
       "  specific estimator or a Pipeline/ColumnTransformer */\n",
       "  background-color: var(--sklearn-color-background);\n",
       "}\n",
       "\n",
       "/* Toggleable label */\n",
       "#sk-container-id-1 label.sk-toggleable__label {\n",
       "  cursor: pointer;\n",
       "  display: flex;\n",
       "  width: 100%;\n",
       "  margin-bottom: 0;\n",
       "  padding: 0.5em;\n",
       "  box-sizing: border-box;\n",
       "  text-align: center;\n",
       "  align-items: start;\n",
       "  justify-content: space-between;\n",
       "  gap: 0.5em;\n",
       "}\n",
       "\n",
       "#sk-container-id-1 label.sk-toggleable__label .caption {\n",
       "  font-size: 0.6rem;\n",
       "  font-weight: lighter;\n",
       "  color: var(--sklearn-color-text-muted);\n",
       "}\n",
       "\n",
       "#sk-container-id-1 label.sk-toggleable__label-arrow:before {\n",
       "  /* Arrow on the left of the label */\n",
       "  content: \"▸\";\n",
       "  float: left;\n",
       "  margin-right: 0.25em;\n",
       "  color: var(--sklearn-color-icon);\n",
       "}\n",
       "\n",
       "#sk-container-id-1 label.sk-toggleable__label-arrow:hover:before {\n",
       "  color: var(--sklearn-color-text);\n",
       "}\n",
       "\n",
       "/* Toggleable content - dropdown */\n",
       "\n",
       "#sk-container-id-1 div.sk-toggleable__content {\n",
       "  max-height: 0;\n",
       "  max-width: 0;\n",
       "  overflow: hidden;\n",
       "  text-align: left;\n",
       "  /* unfitted */\n",
       "  background-color: var(--sklearn-color-unfitted-level-0);\n",
       "}\n",
       "\n",
       "#sk-container-id-1 div.sk-toggleable__content.fitted {\n",
       "  /* fitted */\n",
       "  background-color: var(--sklearn-color-fitted-level-0);\n",
       "}\n",
       "\n",
       "#sk-container-id-1 div.sk-toggleable__content pre {\n",
       "  margin: 0.2em;\n",
       "  border-radius: 0.25em;\n",
       "  color: var(--sklearn-color-text);\n",
       "  /* unfitted */\n",
       "  background-color: var(--sklearn-color-unfitted-level-0);\n",
       "}\n",
       "\n",
       "#sk-container-id-1 div.sk-toggleable__content.fitted pre {\n",
       "  /* unfitted */\n",
       "  background-color: var(--sklearn-color-fitted-level-0);\n",
       "}\n",
       "\n",
       "#sk-container-id-1 input.sk-toggleable__control:checked~div.sk-toggleable__content {\n",
       "  /* Expand drop-down */\n",
       "  max-height: 200px;\n",
       "  max-width: 100%;\n",
       "  overflow: auto;\n",
       "}\n",
       "\n",
       "#sk-container-id-1 input.sk-toggleable__control:checked~label.sk-toggleable__label-arrow:before {\n",
       "  content: \"▾\";\n",
       "}\n",
       "\n",
       "/* Pipeline/ColumnTransformer-specific style */\n",
       "\n",
       "#sk-container-id-1 div.sk-label input.sk-toggleable__control:checked~label.sk-toggleable__label {\n",
       "  color: var(--sklearn-color-text);\n",
       "  background-color: var(--sklearn-color-unfitted-level-2);\n",
       "}\n",
       "\n",
       "#sk-container-id-1 div.sk-label.fitted input.sk-toggleable__control:checked~label.sk-toggleable__label {\n",
       "  background-color: var(--sklearn-color-fitted-level-2);\n",
       "}\n",
       "\n",
       "/* Estimator-specific style */\n",
       "\n",
       "/* Colorize estimator box */\n",
       "#sk-container-id-1 div.sk-estimator input.sk-toggleable__control:checked~label.sk-toggleable__label {\n",
       "  /* unfitted */\n",
       "  background-color: var(--sklearn-color-unfitted-level-2);\n",
       "}\n",
       "\n",
       "#sk-container-id-1 div.sk-estimator.fitted input.sk-toggleable__control:checked~label.sk-toggleable__label {\n",
       "  /* fitted */\n",
       "  background-color: var(--sklearn-color-fitted-level-2);\n",
       "}\n",
       "\n",
       "#sk-container-id-1 div.sk-label label.sk-toggleable__label,\n",
       "#sk-container-id-1 div.sk-label label {\n",
       "  /* The background is the default theme color */\n",
       "  color: var(--sklearn-color-text-on-default-background);\n",
       "}\n",
       "\n",
       "/* On hover, darken the color of the background */\n",
       "#sk-container-id-1 div.sk-label:hover label.sk-toggleable__label {\n",
       "  color: var(--sklearn-color-text);\n",
       "  background-color: var(--sklearn-color-unfitted-level-2);\n",
       "}\n",
       "\n",
       "/* Label box, darken color on hover, fitted */\n",
       "#sk-container-id-1 div.sk-label.fitted:hover label.sk-toggleable__label.fitted {\n",
       "  color: var(--sklearn-color-text);\n",
       "  background-color: var(--sklearn-color-fitted-level-2);\n",
       "}\n",
       "\n",
       "/* Estimator label */\n",
       "\n",
       "#sk-container-id-1 div.sk-label label {\n",
       "  font-family: monospace;\n",
       "  font-weight: bold;\n",
       "  display: inline-block;\n",
       "  line-height: 1.2em;\n",
       "}\n",
       "\n",
       "#sk-container-id-1 div.sk-label-container {\n",
       "  text-align: center;\n",
       "}\n",
       "\n",
       "/* Estimator-specific */\n",
       "#sk-container-id-1 div.sk-estimator {\n",
       "  font-family: monospace;\n",
       "  border: 1px dotted var(--sklearn-color-border-box);\n",
       "  border-radius: 0.25em;\n",
       "  box-sizing: border-box;\n",
       "  margin-bottom: 0.5em;\n",
       "  /* unfitted */\n",
       "  background-color: var(--sklearn-color-unfitted-level-0);\n",
       "}\n",
       "\n",
       "#sk-container-id-1 div.sk-estimator.fitted {\n",
       "  /* fitted */\n",
       "  background-color: var(--sklearn-color-fitted-level-0);\n",
       "}\n",
       "\n",
       "/* on hover */\n",
       "#sk-container-id-1 div.sk-estimator:hover {\n",
       "  /* unfitted */\n",
       "  background-color: var(--sklearn-color-unfitted-level-2);\n",
       "}\n",
       "\n",
       "#sk-container-id-1 div.sk-estimator.fitted:hover {\n",
       "  /* fitted */\n",
       "  background-color: var(--sklearn-color-fitted-level-2);\n",
       "}\n",
       "\n",
       "/* Specification for estimator info (e.g. \"i\" and \"?\") */\n",
       "\n",
       "/* Common style for \"i\" and \"?\" */\n",
       "\n",
       ".sk-estimator-doc-link,\n",
       "a:link.sk-estimator-doc-link,\n",
       "a:visited.sk-estimator-doc-link {\n",
       "  float: right;\n",
       "  font-size: smaller;\n",
       "  line-height: 1em;\n",
       "  font-family: monospace;\n",
       "  background-color: var(--sklearn-color-background);\n",
       "  border-radius: 1em;\n",
       "  height: 1em;\n",
       "  width: 1em;\n",
       "  text-decoration: none !important;\n",
       "  margin-left: 0.5em;\n",
       "  text-align: center;\n",
       "  /* unfitted */\n",
       "  border: var(--sklearn-color-unfitted-level-1) 1pt solid;\n",
       "  color: var(--sklearn-color-unfitted-level-1);\n",
       "}\n",
       "\n",
       ".sk-estimator-doc-link.fitted,\n",
       "a:link.sk-estimator-doc-link.fitted,\n",
       "a:visited.sk-estimator-doc-link.fitted {\n",
       "  /* fitted */\n",
       "  border: var(--sklearn-color-fitted-level-1) 1pt solid;\n",
       "  color: var(--sklearn-color-fitted-level-1);\n",
       "}\n",
       "\n",
       "/* On hover */\n",
       "div.sk-estimator:hover .sk-estimator-doc-link:hover,\n",
       ".sk-estimator-doc-link:hover,\n",
       "div.sk-label-container:hover .sk-estimator-doc-link:hover,\n",
       ".sk-estimator-doc-link:hover {\n",
       "  /* unfitted */\n",
       "  background-color: var(--sklearn-color-unfitted-level-3);\n",
       "  color: var(--sklearn-color-background);\n",
       "  text-decoration: none;\n",
       "}\n",
       "\n",
       "div.sk-estimator.fitted:hover .sk-estimator-doc-link.fitted:hover,\n",
       ".sk-estimator-doc-link.fitted:hover,\n",
       "div.sk-label-container:hover .sk-estimator-doc-link.fitted:hover,\n",
       ".sk-estimator-doc-link.fitted:hover {\n",
       "  /* fitted */\n",
       "  background-color: var(--sklearn-color-fitted-level-3);\n",
       "  color: var(--sklearn-color-background);\n",
       "  text-decoration: none;\n",
       "}\n",
       "\n",
       "/* Span, style for the box shown on hovering the info icon */\n",
       ".sk-estimator-doc-link span {\n",
       "  display: none;\n",
       "  z-index: 9999;\n",
       "  position: relative;\n",
       "  font-weight: normal;\n",
       "  right: .2ex;\n",
       "  padding: .5ex;\n",
       "  margin: .5ex;\n",
       "  width: min-content;\n",
       "  min-width: 20ex;\n",
       "  max-width: 50ex;\n",
       "  color: var(--sklearn-color-text);\n",
       "  box-shadow: 2pt 2pt 4pt #999;\n",
       "  /* unfitted */\n",
       "  background: var(--sklearn-color-unfitted-level-0);\n",
       "  border: .5pt solid var(--sklearn-color-unfitted-level-3);\n",
       "}\n",
       "\n",
       ".sk-estimator-doc-link.fitted span {\n",
       "  /* fitted */\n",
       "  background: var(--sklearn-color-fitted-level-0);\n",
       "  border: var(--sklearn-color-fitted-level-3);\n",
       "}\n",
       "\n",
       ".sk-estimator-doc-link:hover span {\n",
       "  display: block;\n",
       "}\n",
       "\n",
       "/* \"?\"-specific style due to the `<a>` HTML tag */\n",
       "\n",
       "#sk-container-id-1 a.estimator_doc_link {\n",
       "  float: right;\n",
       "  font-size: 1rem;\n",
       "  line-height: 1em;\n",
       "  font-family: monospace;\n",
       "  background-color: var(--sklearn-color-background);\n",
       "  border-radius: 1rem;\n",
       "  height: 1rem;\n",
       "  width: 1rem;\n",
       "  text-decoration: none;\n",
       "  /* unfitted */\n",
       "  color: var(--sklearn-color-unfitted-level-1);\n",
       "  border: var(--sklearn-color-unfitted-level-1) 1pt solid;\n",
       "}\n",
       "\n",
       "#sk-container-id-1 a.estimator_doc_link.fitted {\n",
       "  /* fitted */\n",
       "  border: var(--sklearn-color-fitted-level-1) 1pt solid;\n",
       "  color: var(--sklearn-color-fitted-level-1);\n",
       "}\n",
       "\n",
       "/* On hover */\n",
       "#sk-container-id-1 a.estimator_doc_link:hover {\n",
       "  /* unfitted */\n",
       "  background-color: var(--sklearn-color-unfitted-level-3);\n",
       "  color: var(--sklearn-color-background);\n",
       "  text-decoration: none;\n",
       "}\n",
       "\n",
       "#sk-container-id-1 a.estimator_doc_link.fitted:hover {\n",
       "  /* fitted */\n",
       "  background-color: var(--sklearn-color-fitted-level-3);\n",
       "}\n",
       "</style><div id=\"sk-container-id-1\" class=\"sk-top-container\"><div class=\"sk-text-repr-fallback\"><pre>LinearRegression()</pre><b>In a Jupyter environment, please rerun this cell to show the HTML representation or trust the notebook. <br />On GitHub, the HTML representation is unable to render, please try loading this page with nbviewer.org.</b></div><div class=\"sk-container\" hidden><div class=\"sk-item\"><div class=\"sk-estimator fitted sk-toggleable\"><input class=\"sk-toggleable__control sk-hidden--visually\" id=\"sk-estimator-id-1\" type=\"checkbox\" checked><label for=\"sk-estimator-id-1\" class=\"sk-toggleable__label fitted sk-toggleable__label-arrow\"><div><div>LinearRegression</div></div><div><a class=\"sk-estimator-doc-link fitted\" rel=\"noreferrer\" target=\"_blank\" href=\"https://scikit-learn.org/1.6/modules/generated/sklearn.linear_model.LinearRegression.html\">?<span>Documentation for LinearRegression</span></a><span class=\"sk-estimator-doc-link fitted\">i<span>Fitted</span></span></div></label><div class=\"sk-toggleable__content fitted\"><pre>LinearRegression()</pre></div> </div></div></div></div>"
      ],
      "text/plain": [
       "LinearRegression()"
      ]
     },
     "metadata": {},
     "output_type": "display_data"
    }
   ],
   "source": [
    "X2 = df[['carat']]\n",
    "y2 = df['depth']\n",
    "\n",
    "lr = LinearRegression()\n",
    "lr.fit(X2, y2)"
   ]
  },
  {
   "cell_type": "code",
   "execution_count": null,
   "id": "b5ea4335",
   "metadata": {},
   "outputs": [
    {
     "data": {
      "text/plain": [
       "(1.0076869801160753, 61.7492798067094)"
      ]
     },
     "metadata": {},
     "output_type": "display_data"
    }
   ],
   "source": [
    "pred_depth = lr.predict(X2)\n",
    "\n",
    "mean_absolute_error(y2, pred_depth), np.mean(y2)"
   ]
  },
  {
   "cell_type": "code",
   "execution_count": null,
   "id": "808f6980",
   "metadata": {},
   "outputs": [
    {
     "data": {
      "text/plain": [
       "<Axes: xlabel='depth', ylabel='Count'>"
      ]
     },
     "metadata": {},
     "output_type": "display_data"
    },
    {
     "data": {
      "image/png": "[encoded data removed]",
      "text/plain": [
       "<Figure size 640x480 with 1 Axes>"
      ]
     },
     "metadata": {},
     "output_type": "display_data"
    }
   ],
   "source": [
    "sns.histplot(df.depth)"
   ]
  },
  {
   "cell_type": "code",
   "execution_count": null,
   "id": "b48eae7b",
   "metadata": {},
   "outputs": [
    {
     "data": {
      "text/plain": [
       "0.09287240962735806"
      ]
     },
     "metadata": {},
     "output_type": "display_data"
    }
   ],
   "source": [
    "len(y2[y2<60])/len(y2) # доля выборки"
   ]
  },
  {
   "cell_type": "code",
   "execution_count": null,
   "id": "ad9ab3c0",
   "metadata": {},
   "outputs": [
    {
     "data": {
      "text/plain": [
       "2.7813253243166556"
      ]
     },
     "metadata": {},
     "output_type": "display_data"
    }
   ],
   "source": [
    "mean_absolute_error(y2[y2<60], pred_depth[y2<60])"
   ]
  },
  {
   "cell_type": "code",
   "execution_count": null,
   "id": "608ec8fc",
   "metadata": {},
   "outputs": [
    {
     "data": {
      "text/plain": [
       "0.7785335935321996"
      ]
     },
     "metadata": {},
     "output_type": "display_data"
    }
   ],
   "source": [
    "len(y2[(y2 >= 60) & (y2 <= 63)])/len(y2) # доля выборки"
   ]
  },
  {
   "cell_type": "code",
   "execution_count": null,
   "id": "28625e78",
   "metadata": {},
   "outputs": [
    {
     "data": {
      "text/plain": [
       "0.601747185799635"
      ]
     },
     "metadata": {},
     "output_type": "display_data"
    }
   ],
   "source": [
    "mean_absolute_error(y2[(y2 >= 60) & (y2 <= 63)], pred_depth[(y2 >= 60) & (y2 <= 63)])"
   ]
  },
  {
   "cell_type": "markdown",
   "id": "b2fcd7f0",
   "metadata": {},
   "source": [
    "## Задание 4\n",
    "\n",
    "Будем решать задачу прогноза стоимости алмаза по его параметру `table`.\n",
    "\n",
    "Обучите линейную регрессию для решения этой задачи и выведите на экран ошибку MAE."
   ]
  },
  {
   "cell_type": "code",
   "execution_count": null,
   "id": "a4e928fe",
   "metadata": {},
   "outputs": [
    {
     "data": {
      "text/plain": [
       "2989.0193316169443"
      ]
     },
     "metadata": {},
     "output_type": "display_data"
    }
   ],
   "source": [
    "# your code here\n",
    "\n",
    "X4 = df[['table']]\n",
    "y4 = df['price']\n",
    "\n",
    "lr = LinearRegression()\n",
    "\n",
    "lr.fit(X4, y4)\n",
    "\n",
    "pred = lr.predict(X4)\n",
    "\n",
    "mae = mean_absolute_error(y4, pred)\n",
    "mae"
   ]
  },
  {
   "cell_type": "markdown",
   "id": "e58c0106",
   "metadata": {},
   "source": [
    "## Задание 5\n",
    "\n",
    "Сколько процентов от среднего значения `price` составляет ошибка?"
   ]
  },
  {
   "cell_type": "code",
   "execution_count": null,
   "id": "f5b762de",
   "metadata": {},
   "outputs": [
    {
     "data": {
      "text/plain": [
       "75.9875833120838"
      ]
     },
     "metadata": {},
     "output_type": "display_data"
    }
   ],
   "source": [
    "# your code here\n",
    "\n",
    "mae / df['price'].mean() * 100"
   ]
  },
  {
   "cell_type": "markdown",
   "id": "57d733b5",
   "metadata": {},
   "source": [
    "## Задание 6\n",
    "\n",
    "Вычислите ошибку MAE для алмазов маленькой и большой стоимости отдельно:\n",
    "\n",
    "* `price` < 10_000\n",
    "* `price` >= 10_000\n",
    "\n",
    "Какая из ошибок больше?\n",
    "\n",
    "Как вы думаете почему?"
   ]
  },
  {
   "cell_type": "code",
   "execution_count": null,
   "id": "4471e355",
   "metadata": {},
   "outputs": [
    {
     "name": "stdout",
     "output_type": "stream",
     "text": [
      "2279.6265327553583\n",
      "9608.520454173884\n"
     ]
    }
   ],
   "source": [
    "# your code here\n",
    "\n",
    "print(mean_absolute_error(y4[y4 < 10_000], pred[y4 < 10_000]))\n",
    "\n",
    "print(mean_absolute_error(y4[y4 >= 10_000], pred[y4 >= 10_000]))"
   ]
  }
 ],
 "metadata": {
  "kernelspec": {
   "display_name": "base",
   "language": "python",
   "name": "python3"
  },
  "language_info": {
   "name": "python",
   "version": "3.12.3"
  }
 },
 "nbformat": 4,
 "nbformat_minor": 5
}
