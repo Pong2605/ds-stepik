{
 "cells": [
  {
   "cell_type": "markdown",
   "id": "9a21014b",
   "metadata": {},
   "source": [
    "<h1><b>Задача по предсказанию рейтинга шоколада"
   ]
  },
  {
   "cell_type": "markdown",
   "id": "d1ba85e3",
   "metadata": {},
   "source": [
    "<h3><b>Никнейм на Kaggle: "
   ]
  },
  {
   "cell_type": "markdown",
   "id": "e919e9b0",
   "metadata": {},
   "source": [
    "# Описание задачи"
   ]
  },
  {
   "cell_type": "code",
   "execution_count": 1,
   "id": "4b4ef540",
   "metadata": {},
   "outputs": [],
   "source": [
    "# Даны характеристики шоколадок и по ним нужно предсказать их рейтинг.\n",
    "\n",
    "# Описание данных\n",
    "# Company - компания производитель\n",
    "# Specific Bean Origin - географический регион происхождения\n",
    "# REF - параметр, определяющий момент внесения записи в базу данных (чем выше значение, тем \"свежее\" запись)\n",
    "# Review - дата публикации отзыва\n",
    "# Cocoa Percent - процентное содержание какао\n",
    "# Company Location - страна производитель\n",
    "# Rating - экспертный рейтинг\n",
    "# Bean Type - используемый сорт какао-бобов, если таковой имеется\n",
    "# Broad Bean Origin - географический регион происхождения какао-бобов\n",
    "\n",
    "# Файлы с данными\n",
    "# choco_train.csv - тренировочные данные\n",
    "# choco_test_new.csv - тестовые данные\n",
    "# choco_sample_submission.csv - пример submission"
   ]
  },
  {
   "cell_type": "markdown",
   "id": "b8029c27",
   "metadata": {},
   "source": [
    "# Импорт библиотек, константы"
   ]
  },
  {
   "cell_type": "code",
   "execution_count": 2,
   "id": "6a56350b",
   "metadata": {},
   "outputs": [],
   "source": [
    "import pandas as pd\n",
    "import numpy as np\n",
    "import matplotlib.pyplot as plt\n",
    "import seaborn as sns"
   ]
  },
  {
   "cell_type": "code",
   "execution_count": 3,
   "id": "eff28139",
   "metadata": {},
   "outputs": [],
   "source": [
    "import warnings\n",
    "warnings.filterwarnings(\"ignore\")"
   ]
  },
  {
   "cell_type": "code",
   "execution_count": 4,
   "id": "78bc245d",
   "metadata": {},
   "outputs": [],
   "source": [
    "from sklearn.preprocessing import MinMaxScaler, StandardScaler, PolynomialFeatures\n",
    "from category_encoders.ordinal import OrdinalEncoder\n",
    "from category_encoders.one_hot import OneHotEncoder\n",
    "from category_encoders.target_encoder import TargetEncoder\n",
    "from category_encoders.leave_one_out import LeaveOneOutEncoder"
   ]
  },
  {
   "cell_type": "code",
   "execution_count": 5,
   "id": "88a7517d",
   "metadata": {},
   "outputs": [],
   "source": [
    "from sklearn.linear_model import LinearRegression\n",
    "from sklearn.ensemble import RandomForestRegressor\n",
    "from catboost import CatBoostRegressor\n",
    "from xgboost import XGBRegressor\n",
    "from lightgbm import LGBMRanker, LGBMRegressor\n",
    "from sklearn.ensemble import GradientBoostingRegressor\n",
    "from sklearn.ensemble import StackingRegressor\n",
    "import optuna"
   ]
  },
  {
   "cell_type": "code",
   "execution_count": 6,
   "id": "55bbc4a3",
   "metadata": {},
   "outputs": [],
   "source": [
    "import association_metrics as am\n",
    "from sklearn.model_selection import cross_val_score, train_test_split\n",
    "from sklearn.metrics import mean_absolute_percentage_error as MAPE, mean_absolute_error as MAE, r2_score, mean_squared_error as MSE\n",
    "from scipy import stats\n",
    "\n",
    "from sklearn.pipeline import Pipeline"
   ]
  },
  {
   "cell_type": "code",
   "execution_count": 7,
   "id": "2db69993",
   "metadata": {},
   "outputs": [],
   "source": [
    "RANDOM_STATE = 42"
   ]
  },
  {
   "cell_type": "markdown",
   "id": "bd1674e8",
   "metadata": {},
   "source": [
    "<!-- # Загрузка данных -->"
   ]
  },
  {
   "cell_type": "markdown",
   "id": "72821688",
   "metadata": {},
   "source": [
    "# Загрузка данных"
   ]
  },
  {
   "cell_type": "code",
   "execution_count": 9,
   "id": "f1f18fdb",
   "metadata": {},
   "outputs": [
    {
     "name": "stderr",
     "output_type": "stream",
     "text": [
      "<>:3: SyntaxWarning: invalid escape sequence '\\c'\n",
      "<>:4: SyntaxWarning: invalid escape sequence '\\c'\n",
      "<>:3: SyntaxWarning: invalid escape sequence '\\c'\n",
      "<>:4: SyntaxWarning: invalid escape sequence '\\c'\n",
      "C:\\Users\\kuche\\AppData\\Local\\Temp\\ipykernel_5616\\2469123148.py:3: SyntaxWarning: invalid escape sequence '\\c'\n",
      "  TRAIN = 'data\\chocolate-rating\\chocolate_train.csv'\n",
      "C:\\Users\\kuche\\AppData\\Local\\Temp\\ipykernel_5616\\2469123148.py:4: SyntaxWarning: invalid escape sequence '\\c'\n",
      "  TEST = 'data\\chocolate-rating\\chocolate_test_new.csv'\n"
     ]
    }
   ],
   "source": [
    "# TRAIN = \"https://raw.githubusercontent.com/evgpat/edu_stepik_practical_ml/main/datasets/chocolate_train.csv\"\n",
    "# TEST = \"https://raw.githubusercontent.com/evgpat/edu_stepik_practical_ml/main/datasets/chocolate_test_new.csv\"\n",
    "TRAIN = 'data\\chocolate-rating\\chocolate_train.csv'\n",
    "TEST = 'data\\chocolate-rating\\chocolate_test_new.csv'"
   ]
  },
  {
   "cell_type": "code",
   "execution_count": 10,
   "id": "a996322a",
   "metadata": {},
   "outputs": [],
   "source": [
    "train_df = pd.read_csv(TRAIN)"
   ]
  },
  {
   "cell_type": "code",
   "execution_count": 11,
   "id": "4acb1c82",
   "metadata": {},
   "outputs": [],
   "source": [
    "test_df = pd.read_csv(TEST)"
   ]
  },
  {
   "cell_type": "code",
   "execution_count": 11,
   "id": "fa3448ae",
   "metadata": {},
   "outputs": [
    {
     "data": {
      "text/plain": [
       "'\\xa0'"
      ]
     },
     "execution_count": 11,
     "metadata": {},
     "output_type": "execute_result"
    }
   ],
   "source": [
    "train_df['Bean Type'].value_counts().index[0]"
   ]
  },
  {
   "cell_type": "code",
   "execution_count": 12,
   "id": "25efa55e",
   "metadata": {},
   "outputs": [],
   "source": [
    "train_df = train_df.replace('\\xa0', np.NaN)\n",
    "test_df = test_df.replace('\\xa0', np.NaN)"
   ]
  },
  {
   "cell_type": "markdown",
   "id": "5bf024aa",
   "metadata": {},
   "source": [
    "# Обзор данных"
   ]
  },
  {
   "cell_type": "markdown",
   "id": "f0f538e7",
   "metadata": {},
   "source": [
    "Описание данных\n",
    "* Company - компания производитель\n",
    "* Specific Bean Origin - географический регион происхождения\n",
    "* REF - параметр, определяющий момент внесения записи в базу данных (чем выше значение, тем \"свежее\" запись)\n",
    "* Review - дата публикации отзыва\n",
    "* Cocoa Percent - процентное содержание какао\n",
    "* Company Location - страна производитель\n",
    "* Rating - экспертный рейтинг\n",
    "* Bean Type - используемый сорт какао-бобов, если таковой имеется\n",
    "* Broad Bean Origin - географический регион происхождения какао-бобов"
   ]
  },
  {
   "cell_type": "code",
   "execution_count": 13,
   "id": "457768b3",
   "metadata": {},
   "outputs": [
    {
     "data": {
      "text/html": [
       "<div>\n",
       "<style scoped>\n",
       "    .dataframe tbody tr th:only-of-type {\n",
       "        vertical-align: middle;\n",
       "    }\n",
       "\n",
       "    .dataframe tbody tr th {\n",
       "        vertical-align: top;\n",
       "    }\n",
       "\n",
       "    .dataframe thead th {\n",
       "        text-align: right;\n",
       "    }\n",
       "</style>\n",
       "<table border=\"1\" class=\"dataframe\">\n",
       "  <thead>\n",
       "    <tr style=\"text-align: right;\">\n",
       "      <th></th>\n",
       "      <th>Company</th>\n",
       "      <th>Specific Bean Origin</th>\n",
       "      <th>REF</th>\n",
       "      <th>Review</th>\n",
       "      <th>Cocoa Percent</th>\n",
       "      <th>Company Location</th>\n",
       "      <th>Bean Type</th>\n",
       "      <th>Broad Bean Origin</th>\n",
       "    </tr>\n",
       "  </thead>\n",
       "  <tbody>\n",
       "    <tr>\n",
       "      <th>0</th>\n",
       "      <td>Ohiyo</td>\n",
       "      <td>San Juan Estate, Gran Couva</td>\n",
       "      <td>1594</td>\n",
       "      <td>2015</td>\n",
       "      <td>70%</td>\n",
       "      <td>U.S.A.</td>\n",
       "      <td>Trinitario</td>\n",
       "      <td>Trinidad</td>\n",
       "    </tr>\n",
       "    <tr>\n",
       "      <th>1</th>\n",
       "      <td>Blanxart</td>\n",
       "      <td>Organic Dark</td>\n",
       "      <td>322</td>\n",
       "      <td>2009</td>\n",
       "      <td>72%</td>\n",
       "      <td>Spain</td>\n",
       "      <td>NaN</td>\n",
       "      <td>NaN</td>\n",
       "    </tr>\n",
       "    <tr>\n",
       "      <th>2</th>\n",
       "      <td>Brazen</td>\n",
       "      <td>Maya Mountain</td>\n",
       "      <td>1518</td>\n",
       "      <td>2015</td>\n",
       "      <td>80%</td>\n",
       "      <td>U.S.A.</td>\n",
       "      <td>Trinitario</td>\n",
       "      <td>Belize</td>\n",
       "    </tr>\n",
       "    <tr>\n",
       "      <th>3</th>\n",
       "      <td>Patric</td>\n",
       "      <td>Madagascar</td>\n",
       "      <td>439</td>\n",
       "      <td>2009</td>\n",
       "      <td>67%</td>\n",
       "      <td>U.S.A.</td>\n",
       "      <td>Trinitario</td>\n",
       "      <td>Madagascar</td>\n",
       "    </tr>\n",
       "    <tr>\n",
       "      <th>4</th>\n",
       "      <td>Potomac</td>\n",
       "      <td>Upala, Batch 12</td>\n",
       "      <td>607</td>\n",
       "      <td>2010</td>\n",
       "      <td>82%</td>\n",
       "      <td>U.S.A.</td>\n",
       "      <td>Matina</td>\n",
       "      <td>Costa Rica</td>\n",
       "    </tr>\n",
       "  </tbody>\n",
       "</table>\n",
       "</div>"
      ],
      "text/plain": [
       "    Company         Specific Bean Origin   REF  Review Cocoa Percent  \\\n",
       "0     Ohiyo  San Juan Estate, Gran Couva  1594    2015           70%   \n",
       "1  Blanxart                 Organic Dark   322    2009           72%   \n",
       "2    Brazen                Maya Mountain  1518    2015           80%   \n",
       "3    Patric                   Madagascar   439    2009           67%   \n",
       "4   Potomac              Upala, Batch 12   607    2010           82%   \n",
       "\n",
       "  Company Location   Bean Type Broad Bean Origin  \n",
       "0           U.S.A.  Trinitario          Trinidad  \n",
       "1            Spain         NaN               NaN  \n",
       "2           U.S.A.  Trinitario            Belize  \n",
       "3           U.S.A.  Trinitario        Madagascar  \n",
       "4           U.S.A.      Matina        Costa Rica  "
      ]
     },
     "execution_count": 13,
     "metadata": {},
     "output_type": "execute_result"
    }
   ],
   "source": [
    "test_df.head()"
   ]
  },
  {
   "cell_type": "code",
   "execution_count": 14,
   "id": "3ad39c84",
   "metadata": {},
   "outputs": [
    {
     "data": {
      "text/plain": [
       "Company                 244\n",
       "Specific Bean Origin    385\n",
       "REF                     338\n",
       "Review                   12\n",
       "Cocoa Percent            38\n",
       "Company Location         42\n",
       "Bean Type                19\n",
       "Broad Bean Origin        59\n",
       "dtype: int64"
      ]
     },
     "execution_count": 14,
     "metadata": {},
     "output_type": "execute_result"
    }
   ],
   "source": [
    "test_df.nunique()"
   ]
  },
  {
   "cell_type": "code",
   "execution_count": 15,
   "id": "1bf1bfd9",
   "metadata": {},
   "outputs": [
    {
     "data": {
      "text/plain": [
       "Company                 244\n",
       "Specific Bean Origin    385\n",
       "REF                     338\n",
       "Review                   12\n",
       "Cocoa Percent            38\n",
       "Company Location         42\n",
       "Bean Type                19\n",
       "Broad Bean Origin        59\n",
       "dtype: int64"
      ]
     },
     "execution_count": 15,
     "metadata": {},
     "output_type": "execute_result"
    }
   ],
   "source": [
    "test_df.nunique()"
   ]
  },
  {
   "cell_type": "code",
   "execution_count": 16,
   "id": "fc839a72",
   "metadata": {},
   "outputs": [],
   "source": [
    "# Словарь маппинга для разновидностей какао сорта\n",
    "cacao_map = {\n",
    "'Criollo': ['Criollo', 'Criollo (Porcelana)', 'Criollo (Amarru)', 'Criollo (Ocumare 77)', 'Criollo (Ocumare 67)',\n",
    "'Criollo (Ocumare 61)', 'Criollo (Ocumare)', 'Criollo (Wild)', 'Criollo, +'],\n",
    "'Trinitario': ['Trinitario', 'Trinitario (Amelonado)', 'Trinitario, TCGA', 'Trinitario (85% Criollo)'],\n",
    "'Forastero': ['Forastero', 'Forastero (Arriba)', 'Forastero (Arriba) ASS', 'Forastero (Arriba) ASSS',\n",
    "'Forastero (Nacional)', 'Forastero (Parazinho)', 'Forastero (Catongo)', 'Forastero (Amelonado)'],\n",
    "'Nacional': ['Nacional', 'Nacional (Arriba)'],\n",
    "'Amazonian': ['Amazon', 'Amazon mix', 'Amazon, ICS'],\n",
    "'Blend': ['Criollo, Trinitario', 'Trinitario, Criollo', 'Trinitario, Forastero', 'Forastero, Trinitario',\n",
    "'Trinitario, Nacional', 'Criollo, Forastero', 'Blend-Forastero,Criollo', 'Blend']\n",
    "}\n",
    "\n",
    "# Функция для маппинга типов какао\n",
    "def map_cacao_type(value):\n",
    "    for category, variants in cacao_map.items():\n",
    "        if value in variants:\n",
    "            return category\n",
    "    return value"
   ]
  },
  {
   "cell_type": "code",
   "execution_count": 17,
   "id": "052e5ec6",
   "metadata": {},
   "outputs": [],
   "source": [
    "train_df['Bean Type'] = train_df['Bean Type'].apply(map_cacao_type)\n",
    "test_df['Bean Type'] = test_df['Bean Type'].apply(map_cacao_type)"
   ]
  },
  {
   "cell_type": "code",
   "execution_count": 18,
   "id": "7d22fa0e",
   "metadata": {},
   "outputs": [],
   "source": [
    "# Словарь соответствий (дочерние -> основное). Названия регионов\n",
    "region_mapping = {\n",
    "    'Venezuela': ['Ven.', 'Ven', 'Venez', 'Venezuela/ Ghana', ],\n",
    "    'Dominican Republic': ['Domincan Republic', 'Dom. Rep', 'D.R.', 'Domin. Rep', 'Dom. Rep.', 'Dominican Rep.', 'DR'],\n",
    "    'Costa Rica': ['Cost Rica'],\n",
    "    'Ecuador': ['Ecuad.', 'Ecu.'],\n",
    "    'Nicaragua': ['Nic.'],\n",
    "    'Madagascar': ['Mad.', 'Mad'],\n",
    "    'Brazil': ['Brasil'],\n",
    "    'Mexico': ['Mex'],\n",
    "    'Guatemala': ['Guat.'],\n",
    "    'Sao Tome & Principe': ['Sao Tome', 'Principe'],\n",
    "    'Papua New Guinea': ['PNG'],\n",
    "    'Carribean': ['Carribean(DR/Jam/Tri)'],\n",
    "    'Indonesia': ['Java', 'Bali'],\n",
    "    'West Africa': ['Africa'],\n",
    "    'Trinidad': ['Trinidad-Tobago', 'Trinidad']\n",
    "}\n",
    "\n",
    "# Функция для замены названий\n",
    "def standardize_region(region):\n",
    "    for main_region, aliases in region_mapping.items():\n",
    "        if region in aliases:\n",
    "            return main_region\n",
    "    return region # Если нет в словаре, оставить как есть\n"
   ]
  },
  {
   "cell_type": "code",
   "execution_count": 19,
   "id": "6200fab2",
   "metadata": {},
   "outputs": [],
   "source": [
    "train_df['Broad Bean Origin'] = train_df['Broad Bean Origin'].apply(standardize_region)\n",
    "test_df['Broad Bean Origin'] = test_df['Broad Bean Origin'].apply(standardize_region)"
   ]
  },
  {
   "cell_type": "code",
   "execution_count": 20,
   "id": "27d0c9e7",
   "metadata": {},
   "outputs": [],
   "source": [
    "df_concat = pd.concat([train_df, test_df], axis=0)"
   ]
  },
  {
   "cell_type": "code",
   "execution_count": 21,
   "id": "43d2ff42",
   "metadata": {},
   "outputs": [],
   "source": [
    "cols_temp = ['Company', 'Specific Bean Origin',\n",
    "       'Company Location', 'Bean Type', 'Broad Bean Origin']"
   ]
  },
  {
   "cell_type": "code",
   "execution_count": 22,
   "id": "437e3db0",
   "metadata": {},
   "outputs": [
    {
     "data": {
      "text/plain": [
       "['Company',\n",
       " 'Specific Bean Origin',\n",
       " 'Company Location',\n",
       " 'Bean Type',\n",
       " 'Broad Bean Origin']"
      ]
     },
     "execution_count": 22,
     "metadata": {},
     "output_type": "execute_result"
    }
   ],
   "source": [
    "cols_temp"
   ]
  },
  {
   "cell_type": "code",
   "execution_count": 23,
   "id": "6ec69492",
   "metadata": {},
   "outputs": [
    {
     "data": {
      "text/html": [
       "<div>\n",
       "<style scoped>\n",
       "    .dataframe tbody tr th:only-of-type {\n",
       "        vertical-align: middle;\n",
       "    }\n",
       "\n",
       "    .dataframe tbody tr th {\n",
       "        vertical-align: top;\n",
       "    }\n",
       "\n",
       "    .dataframe thead th {\n",
       "        text-align: right;\n",
       "    }\n",
       "</style>\n",
       "<table border=\"1\" class=\"dataframe\">\n",
       "  <thead>\n",
       "    <tr style=\"text-align: right;\">\n",
       "      <th></th>\n",
       "      <th>Company</th>\n",
       "      <th>Specific Bean Origin</th>\n",
       "      <th>REF</th>\n",
       "      <th>Review</th>\n",
       "      <th>Cocoa Percent</th>\n",
       "      <th>Company Location</th>\n",
       "      <th>Rating</th>\n",
       "      <th>Bean Type</th>\n",
       "      <th>Broad Bean Origin</th>\n",
       "    </tr>\n",
       "  </thead>\n",
       "  <tbody>\n",
       "    <tr>\n",
       "      <th>0</th>\n",
       "      <td>Willie's Cacao</td>\n",
       "      <td>Rio Caribe</td>\n",
       "      <td>457</td>\n",
       "      <td>2009</td>\n",
       "      <td>72%</td>\n",
       "      <td>U.K.</td>\n",
       "      <td>3.25</td>\n",
       "      <td>Trinitario</td>\n",
       "      <td>Venezuela</td>\n",
       "    </tr>\n",
       "    <tr>\n",
       "      <th>1</th>\n",
       "      <td>Beschle (Felchlin)</td>\n",
       "      <td>Ocumare, Premier Cru, Quizas No. 2</td>\n",
       "      <td>508</td>\n",
       "      <td>2010</td>\n",
       "      <td>72%</td>\n",
       "      <td>Switzerland</td>\n",
       "      <td>3.50</td>\n",
       "      <td>NaN</td>\n",
       "      <td>Venezuela</td>\n",
       "    </tr>\n",
       "    <tr>\n",
       "      <th>2</th>\n",
       "      <td>Dark Forest</td>\n",
       "      <td>Tanzania</td>\n",
       "      <td>1554</td>\n",
       "      <td>2015</td>\n",
       "      <td>70%</td>\n",
       "      <td>U.S.A.</td>\n",
       "      <td>3.00</td>\n",
       "      <td>NaN</td>\n",
       "      <td>Tanzania</td>\n",
       "    </tr>\n",
       "    <tr>\n",
       "      <th>3</th>\n",
       "      <td>Brasstown aka It's Chocolate</td>\n",
       "      <td>Cooproagro</td>\n",
       "      <td>1125</td>\n",
       "      <td>2013</td>\n",
       "      <td>72%</td>\n",
       "      <td>U.S.A.</td>\n",
       "      <td>3.00</td>\n",
       "      <td>Trinitario</td>\n",
       "      <td>Dominican Republic</td>\n",
       "    </tr>\n",
       "    <tr>\n",
       "      <th>4</th>\n",
       "      <td>Pralus</td>\n",
       "      <td>Java, Indonesie</td>\n",
       "      <td>32</td>\n",
       "      <td>2006</td>\n",
       "      <td>75%</td>\n",
       "      <td>France</td>\n",
       "      <td>3.50</td>\n",
       "      <td>Criollo</td>\n",
       "      <td>Indonesia</td>\n",
       "    </tr>\n",
       "    <tr>\n",
       "      <th>...</th>\n",
       "      <td>...</td>\n",
       "      <td>...</td>\n",
       "      <td>...</td>\n",
       "      <td>...</td>\n",
       "      <td>...</td>\n",
       "      <td>...</td>\n",
       "      <td>...</td>\n",
       "      <td>...</td>\n",
       "      <td>...</td>\n",
       "    </tr>\n",
       "    <tr>\n",
       "      <th>535</th>\n",
       "      <td>Monsieur Truffe</td>\n",
       "      <td>Papaua New Guinea</td>\n",
       "      <td>1391</td>\n",
       "      <td>2014</td>\n",
       "      <td>70%</td>\n",
       "      <td>Australia</td>\n",
       "      <td>NaN</td>\n",
       "      <td>NaN</td>\n",
       "      <td>Papua New Guinea</td>\n",
       "    </tr>\n",
       "    <tr>\n",
       "      <th>536</th>\n",
       "      <td>Cacao Hunters</td>\n",
       "      <td>Macondo</td>\n",
       "      <td>1816</td>\n",
       "      <td>2016</td>\n",
       "      <td>71%</td>\n",
       "      <td>Colombia</td>\n",
       "      <td>NaN</td>\n",
       "      <td>NaN</td>\n",
       "      <td>Colombia</td>\n",
       "    </tr>\n",
       "    <tr>\n",
       "      <th>537</th>\n",
       "      <td>Bonnat</td>\n",
       "      <td>Maragnam</td>\n",
       "      <td>1038</td>\n",
       "      <td>2013</td>\n",
       "      <td>75%</td>\n",
       "      <td>France</td>\n",
       "      <td>NaN</td>\n",
       "      <td>NaN</td>\n",
       "      <td>Brazil</td>\n",
       "    </tr>\n",
       "    <tr>\n",
       "      <th>538</th>\n",
       "      <td>Altus aka Cao Artisan</td>\n",
       "      <td>Acopagro</td>\n",
       "      <td>1728</td>\n",
       "      <td>2016</td>\n",
       "      <td>60%</td>\n",
       "      <td>U.S.A.</td>\n",
       "      <td>NaN</td>\n",
       "      <td>NaN</td>\n",
       "      <td>Peru</td>\n",
       "    </tr>\n",
       "    <tr>\n",
       "      <th>539</th>\n",
       "      <td>Holy Cacao</td>\n",
       "      <td>San Martin</td>\n",
       "      <td>431</td>\n",
       "      <td>2009</td>\n",
       "      <td>70%</td>\n",
       "      <td>Israel</td>\n",
       "      <td>NaN</td>\n",
       "      <td>NaN</td>\n",
       "      <td>Peru</td>\n",
       "    </tr>\n",
       "  </tbody>\n",
       "</table>\n",
       "<p>1795 rows × 9 columns</p>\n",
       "</div>"
      ],
      "text/plain": [
       "                          Company                Specific Bean Origin   REF  \\\n",
       "0                  Willie's Cacao                          Rio Caribe   457   \n",
       "1              Beschle (Felchlin)  Ocumare, Premier Cru, Quizas No. 2   508   \n",
       "2                     Dark Forest                            Tanzania  1554   \n",
       "3    Brasstown aka It's Chocolate                          Cooproagro  1125   \n",
       "4                          Pralus                     Java, Indonesie    32   \n",
       "..                            ...                                 ...   ...   \n",
       "535               Monsieur Truffe                   Papaua New Guinea  1391   \n",
       "536                 Cacao Hunters                             Macondo  1816   \n",
       "537                        Bonnat                            Maragnam  1038   \n",
       "538         Altus aka Cao Artisan                            Acopagro  1728   \n",
       "539                    Holy Cacao                          San Martin   431   \n",
       "\n",
       "     Review Cocoa Percent Company Location  Rating   Bean Type  \\\n",
       "0      2009           72%             U.K.    3.25  Trinitario   \n",
       "1      2010           72%      Switzerland    3.50         NaN   \n",
       "2      2015           70%           U.S.A.    3.00         NaN   \n",
       "3      2013           72%           U.S.A.    3.00  Trinitario   \n",
       "4      2006           75%           France    3.50     Criollo   \n",
       "..      ...           ...              ...     ...         ...   \n",
       "535    2014           70%        Australia     NaN         NaN   \n",
       "536    2016           71%         Colombia     NaN         NaN   \n",
       "537    2013           75%           France     NaN         NaN   \n",
       "538    2016           60%           U.S.A.     NaN         NaN   \n",
       "539    2009           70%           Israel     NaN         NaN   \n",
       "\n",
       "      Broad Bean Origin  \n",
       "0             Venezuela  \n",
       "1             Venezuela  \n",
       "2              Tanzania  \n",
       "3    Dominican Republic  \n",
       "4             Indonesia  \n",
       "..                  ...  \n",
       "535    Papua New Guinea  \n",
       "536            Colombia  \n",
       "537              Brazil  \n",
       "538                Peru  \n",
       "539                Peru  \n",
       "\n",
       "[1795 rows x 9 columns]"
      ]
     },
     "execution_count": 23,
     "metadata": {},
     "output_type": "execute_result"
    }
   ],
   "source": [
    "df_concat"
   ]
  },
  {
   "cell_type": "code",
   "execution_count": 24,
   "id": "a0adab1e",
   "metadata": {},
   "outputs": [],
   "source": [
    "from association_metrics import CramersV\n",
    "\n",
    "cramer_df = df_concat[cols_temp]\n",
    "cramer_df = cramer_df.astype('category')\n",
    "\n",
    "cramer = CramersV(cramer_df)\n",
    "cramer = cramer.fit()"
   ]
  },
  {
   "cell_type": "code",
   "execution_count": 25,
   "id": "7c790210",
   "metadata": {},
   "outputs": [
    {
     "data": {
      "image/png": "[encoded data removed]",
      "text/plain": [
       "<Figure size 640x480 with 2 Axes>"
      ]
     },
     "metadata": {},
     "output_type": "display_data"
    }
   ],
   "source": [
    "import seaborn as sns\n",
    "\n",
    "sns.heatmap(cramer, cmap='Blues', annot=True);"
   ]
  },
  {
   "cell_type": "code",
   "execution_count": 26,
   "id": "f15dca69",
   "metadata": {},
   "outputs": [],
   "source": [
    "def select_top3_corr_cols(col_in):\n",
    "    select_df = cramer[col_in].sort_values(ascending=False)\n",
    "    return select_df[1:].index.to_list()"
   ]
  },
  {
   "cell_type": "code",
   "execution_count": 27,
   "id": "67babfe8",
   "metadata": {},
   "outputs": [],
   "source": [
    "def get_temp_df(col_in, col_on):\n",
    "    temp_df = df_concat.groupby(col_on)[col_in] \\\n",
    "                        .agg(lambda x: np.random.choice(x.mode()) if len(x.mode()) > 0 else np.NaN) \\\n",
    "                        .dropna().reset_index()\n",
    "    return temp_df"
   ]
  },
  {
   "cell_type": "code",
   "execution_count": 28,
   "id": "42faa541",
   "metadata": {},
   "outputs": [],
   "source": [
    "def fill_rows(row, col_on, temp_df):\n",
    "    for variants, category in temp_df.values:\n",
    "        if row[col_on] == variants:\n",
    "            return category\n",
    "    return np.NaN"
   ]
  },
  {
   "cell_type": "code",
   "execution_count": 29,
   "id": "376f081f",
   "metadata": {},
   "outputs": [
    {
     "data": {
      "text/plain": [
       "Company                   0\n",
       "Specific Bean Origin      0\n",
       "REF                       0\n",
       "Review                    0\n",
       "Cocoa Percent             0\n",
       "Company Location          0\n",
       "Rating                    0\n",
       "Bean Type               629\n",
       "Broad Bean Origin        56\n",
       "dtype: int64"
      ]
     },
     "execution_count": 29,
     "metadata": {},
     "output_type": "execute_result"
    }
   ],
   "source": [
    "train_df.isna().sum()"
   ]
  },
  {
   "cell_type": "code",
   "execution_count": 30,
   "id": "eb1f75f2",
   "metadata": {},
   "outputs": [],
   "source": [
    "def prepared_df(df, col_in):\n",
    "    selected_cols = select_top3_corr_cols(col_in)\n",
    "    print(selected_cols)\n",
    "    for col_on in selected_cols:\n",
    "        temp_df = get_temp_df(col_in, col_on)\n",
    "        df[col_in] = df.apply(lambda row: fill_rows(row, col_on, temp_df) if row[col_in] is np.NaN else row[col_in], axis=1)\n",
    "        df[col_in] = df[col_in].fillna('Other')"
   ]
  },
  {
   "cell_type": "code",
   "execution_count": 31,
   "id": "3eab375c",
   "metadata": {},
   "outputs": [
    {
     "name": "stdout",
     "output_type": "stream",
     "text": [
      "['Specific Bean Origin', 'Company', 'Broad Bean Origin', 'Company Location']\n",
      "['Specific Bean Origin', 'Company', 'Bean Type', 'Company Location']\n",
      "['Specific Bean Origin', 'Company', 'Broad Bean Origin', 'Company Location']\n",
      "['Specific Bean Origin', 'Company', 'Bean Type', 'Company Location']\n"
     ]
    }
   ],
   "source": [
    "cols_in = ['Bean Type', 'Broad Bean Origin']\n",
    "\n",
    "for col_in in cols_in:\n",
    "    prepared_df(train_df, col_in)\n",
    "\n",
    "for col_in in cols_in:\n",
    "    prepared_df(test_df, col_in)"
   ]
  },
  {
   "cell_type": "code",
   "execution_count": 32,
   "id": "b6fb1811",
   "metadata": {},
   "outputs": [
    {
     "data": {
      "text/plain": [
       "Company                 0\n",
       "Specific Bean Origin    0\n",
       "REF                     0\n",
       "Review                  0\n",
       "Cocoa Percent           0\n",
       "Company Location        0\n",
       "Rating                  0\n",
       "Bean Type               0\n",
       "Broad Bean Origin       0\n",
       "dtype: int64"
      ]
     },
     "execution_count": 32,
     "metadata": {},
     "output_type": "execute_result"
    }
   ],
   "source": [
    "train_df.isna().sum()"
   ]
  },
  {
   "cell_type": "code",
   "execution_count": 33,
   "id": "9456c635",
   "metadata": {},
   "outputs": [
    {
     "data": {
      "text/plain": [
       "('MT19937',\n",
       " array([  30819302, 1646177189,  328297483,  440169331, 3575034585,\n",
       "        2547866878,  609279898, 1578286418, 1122849914, 3637559276,\n",
       "        3209561699, 3861095740, 2693702609, 3016685802, 2368175437,\n",
       "         749682792, 1913472010, 4142160063,  268546636, 2707188004,\n",
       "        2326673686, 3775229446, 2025356914, 2131862694,  182391976,\n",
       "        1993585304, 1185169246, 2387554160, 1610024095, 3969967972,\n",
       "         925739591,  113807928, 3219773006, 3233694789, 1596513330,\n",
       "        3726764665,  617155526,   30340602, 2154133807, 2470967751,\n",
       "         896855028,  425905822,  710932210, 2844837071, 4135784476,\n",
       "        3184123437, 2226156685, 3299592620,  430538478,  472911868,\n",
       "         153603133,  769330019, 1794715862, 3474167888, 1325463709,\n",
       "         605921341,  900230175, 1326052098, 2908334836, 3969991561,\n",
       "        2457955881, 2776031858, 3363084446, 2115285747,  653736848,\n",
       "         929771344, 1141911389, 1479931130, 1497086836, 3768457789,\n",
       "        3917824664, 2537262331, 3756179189, 2158816016,   28350365,\n",
       "        4293548450, 1181694823, 3508473531, 2762355660, 1596233059,\n",
       "         739210632, 1748600546, 3353364141, 2347445011, 1483543426,\n",
       "        4135228974, 3146904460, 3219472389, 1515522421, 2065777981,\n",
       "         356187159, 3940027568,  424629159,  444798151, 3315999180,\n",
       "        4282267033, 2238928212, 1584745998, 2479659009, 3630526058,\n",
       "         289767882, 1408718228, 3367060780,  535844848, 3331834775,\n",
       "        2894168061, 1231508682,  583385114, 2965228661, 1270805773,\n",
       "        1546034459, 3562181634, 3690719292, 3127111672, 1745512464,\n",
       "        1110799322, 3391493982, 2176164513,  872058032, 2006497519,\n",
       "         945255607, 1129041431, 1201646898, 3684687415, 1586246259,\n",
       "        4264995506, 1332051599, 1589754278,  212741705, 4120674599,\n",
       "        4065542174, 3992169067, 2151452452, 1490355958,  101493190,\n",
       "         655365255, 3909643423, 3933402009,  528427602, 3641881357,\n",
       "        1554832676, 1904720803, 2716709968, 2298993943, 1240116461,\n",
       "         750768100,  602328491, 2404889592, 3593894542, 3232070310,\n",
       "        2514718462,  629751529, 3704264810,  493441525, 2008074826,\n",
       "        1888517807,  488701256,  392211364, 3988954495, 2048086580,\n",
       "        2262397566, 1507041832, 3170255852, 1669020148, 3651192952,\n",
       "        4278284770, 4183887356, 1402258371, 1309321821, 4170750899,\n",
       "        2605851647, 3017234824, 3903700786, 1147356496, 3653250557,\n",
       "        2517543390, 2206989339, 3060294003, 1287089274, 2546962551,\n",
       "        1431027123, 4160305594, 2572972737, 1063266711, 2440480705,\n",
       "         498854759, 2159833798,  898335139,  502225479, 1980865557,\n",
       "        2458933165, 1036983848, 3771475836, 1341907648, 1550965483,\n",
       "        2099155718, 2074497257, 2848357298, 1258191924, 1119720061,\n",
       "        3341239527, 1872508192, 3108465514, 3811999358, 4243119927,\n",
       "        2161235362,  992759878, 3297243159, 3756635321, 1061198491,\n",
       "         901918863, 1333839279, 2912774309,  812123964, 4077279003,\n",
       "        3459900633, 2553052123,  727553089, 1935179682, 4185215517,\n",
       "        2955508161, 2514847905, 1126331039, 4269575180, 2613798636,\n",
       "        2232705464, 2936438987, 2878098227,  826207197,  269514646,\n",
       "        1937751268, 2848125693,  804348021, 1594529860,  130030724,\n",
       "        1641768036, 2838534244, 1159864948, 2521832571, 3532359444,\n",
       "        1869659139, 2749504220, 2261184626, 2624346180,  435364551,\n",
       "         415684599, 1437133011,  712793219, 1383737470,  990912062,\n",
       "        2774161726,  225325009, 3413424032, 4179058742, 2439440237,\n",
       "        1232483198, 3403415167,  787517230, 2443063197, 1476056338,\n",
       "        2958454581, 3579308358, 1602758227,  649482377,  447871029,\n",
       "        3303286506,  853097482, 4147366156, 2204154851,  816098917,\n",
       "        2848786982, 1712669789, 3703098780, 2125884232,  184813808,\n",
       "        3716362283, 1269832836,  695464021, 2816668377,    5834150,\n",
       "          90041817, 1295555585, 1615595496,   65997392, 2040587043,\n",
       "         680101183, 2088011839,   41886368,  828617744, 2581376578,\n",
       "        2660971791, 1051932428, 3782309957, 1779448001, 3702591613,\n",
       "        3277580467,  704340095, 4104919477, 1226584079,  884846805,\n",
       "        2244597149, 1287190457, 3519460794, 2696686627, 3662293742,\n",
       "        3451009036, 2919786812,   48777239, 4179872791, 3692508070,\n",
       "        3984913064,    1050607, 1561902795, 3466904541,   73511762,\n",
       "        2951627601, 1190279206,  834714209,  781025542, 3604283658,\n",
       "        2786418022, 3207423347, 4206226486, 2225223837, 2642116559,\n",
       "        1581957132, 3955071718, 3412588687, 3568074536, 3505600938,\n",
       "        3041195031, 3436617022, 3477080596, 3234013013, 4000516815,\n",
       "         246802218,  968800077, 2692014346, 2015714182, 2346559138,\n",
       "        1744764874, 1401909801,   63697264, 3259268204, 4206754361,\n",
       "         811981579, 2165134121, 2228832358, 1151836147,  592827572,\n",
       "          95505530, 1985547654,  279680728, 3857389858, 1120740366,\n",
       "         424040441, 1028966496, 1746342033, 3838388613, 1229520503,\n",
       "        2835811459, 1175846491,  166628989,  267327367, 2391399434,\n",
       "        1876773980, 3294047100,   37603445, 1194562455, 1291121866,\n",
       "          77360895, 1339225645, 2779315868, 3937588564, 4266007101,\n",
       "        2350791990, 1272404435, 3633032562, 4095380649, 2217984347,\n",
       "        3926870284,  605086182, 1645018887,  106999912, 3860520809,\n",
       "        3301344207, 1239916260, 2558602174, 2091366340,   65089776,\n",
       "        3873043925,  695189328, 1612479640, 1998064662, 2488886365,\n",
       "        4044477177, 2596045375, 2444850296, 4178813432, 2649330806,\n",
       "        1013981827, 1384920178,  985206682, 3900424147, 2238073733,\n",
       "        3067024617, 1078360189,  551738570, 3838398874,   46218543,\n",
       "        1981474665, 2859584974, 3307585958, 1875991216, 2274434266,\n",
       "         980899711, 2657453334, 1212316380, 2865877573,  508388850,\n",
       "         855564829,  859290929, 1054625040, 3196538223,  341200901,\n",
       "        3384816601,  474614670,  961224436, 1797669234, 2327924928,\n",
       "        1339213177, 2266859906, 1780009660, 3536531874, 3619226509,\n",
       "        3337811418, 3957842131, 2417313139, 1745181182, 2594455180,\n",
       "        1007879191, 4196598362,   51780901, 3979031956,  121933200,\n",
       "         558982183, 3919765246, 1630618862, 2314771804,  995697616,\n",
       "        4122484716, 2587694594, 2915254647, 3361136839, 1801970011,\n",
       "        1601755691, 3967699743,    8511710, 4125454942,  973611108,\n",
       "         473081940, 4124710309, 2475791437, 3046364487,  717050027,\n",
       "        3653306238, 3651357208,  771416369, 2129549183,  809206756,\n",
       "        3393646906, 2729837573, 1891235608, 3829657547, 3663705587,\n",
       "        3372773459, 3985779299, 3808438056, 1498477147, 1032561832,\n",
       "         297820438, 3645747378,   83667792,  818470115, 1419284510,\n",
       "        2702783750, 1430409598,  628519218,  877326076, 1791114653,\n",
       "         358126435,  643751410, 1508117077, 3208518038, 2782354140,\n",
       "        3606614715, 2378357076, 3341295511, 2861019836,  305253178,\n",
       "        4085852440, 1369451816, 2294667705, 3618593756, 1902749343,\n",
       "        1444980520, 3826290236, 3044587235, 2613172327, 3825564026,\n",
       "        2286348058, 3143749461, 1577681631,   57987467, 1186831686,\n",
       "        1901132987, 1120239892,  949115405,  597210739, 2096894767,\n",
       "        2597067130, 2846644260, 2688099925, 3309054471, 2562272520,\n",
       "        2454277857,  198205708, 1667205596, 1000121437,  723095718,\n",
       "        3770260226, 3207071412,  568267598,  487855563,  184914862,\n",
       "        3721309482, 4157821042, 1680054908,  258378525, 2854680106,\n",
       "         116306632, 3268596218, 3686528432, 2124962780, 2715000325,\n",
       "        1551936127, 3659178849, 2036953365,  963194936,  367126825,\n",
       "         272407552, 1278951720,  536001860, 1679543443, 3275125722,\n",
       "        2611692167, 1004144316, 2709690365,  190599511, 4052617882,\n",
       "        2796836898,  298782832, 2877699946, 3405182122, 1534111713,\n",
       "        2405973472, 2452516997, 2621890485, 1694505206,   46515994,\n",
       "        2606218363, 2913579365, 3513956611, 1962634116,  464496371,\n",
       "        3965371449, 3364526172,  797460087, 1905909346, 2029300895,\n",
       "        2641984680, 1860128320, 3145900990, 2996281028, 1469843754,\n",
       "        3982323413, 4132575294, 1507209069, 2427840772, 3303724866,\n",
       "        3841897205, 1115790165, 3638718708, 2669224870, 3567656221,\n",
       "        2490092960, 1579608160, 1502894155, 1686513197, 1184038177,\n",
       "         345347892, 3484835305,  519105163,  300813410,  347916442,\n",
       "         146785943, 3328116355, 1677005825, 4123319493, 3042957175,\n",
       "         211446582, 2231013329,   27235609, 3342458097,  635895258,\n",
       "        2861285327, 1790979489, 3076955630, 3851843194, 3666949610,\n",
       "        2778806800, 2893051096, 3010217392, 3663176652], dtype=uint32),\n",
       " 496,\n",
       " 0,\n",
       " 0.0)"
      ]
     },
     "execution_count": 33,
     "metadata": {},
     "output_type": "execute_result"
    }
   ],
   "source": [
    "np.random.get_state()"
   ]
  },
  {
   "cell_type": "code",
   "execution_count": 34,
   "id": "c57738e2",
   "metadata": {},
   "outputs": [],
   "source": [
    "train_df = train_df.replace('\\xa0', np.NaN)\n",
    "train_df['Cocoa Percent'] = train_df['Cocoa Percent'].str.rstrip('%').astype(np.float16)\n",
    "train_df['Review'] = train_df['Review'].astype('object')\n",
    "\n",
    "test_df = test_df.replace('\\xa0', np.NaN)\n",
    "test_df['Cocoa Percent'] = test_df['Cocoa Percent'].str.rstrip('%').astype(np.float16)\n",
    "test_df['Review'] = test_df['Review'].astype('object')"
   ]
  },
  {
   "cell_type": "code",
   "execution_count": 35,
   "id": "9bfa9599",
   "metadata": {},
   "outputs": [
    {
     "data": {
      "text/html": [
       "<div>\n",
       "<style scoped>\n",
       "    .dataframe tbody tr th:only-of-type {\n",
       "        vertical-align: middle;\n",
       "    }\n",
       "\n",
       "    .dataframe tbody tr th {\n",
       "        vertical-align: top;\n",
       "    }\n",
       "\n",
       "    .dataframe thead th {\n",
       "        text-align: right;\n",
       "    }\n",
       "</style>\n",
       "<table border=\"1\" class=\"dataframe\">\n",
       "  <thead>\n",
       "    <tr style=\"text-align: right;\">\n",
       "      <th></th>\n",
       "      <th>Company</th>\n",
       "      <th>Specific Bean Origin</th>\n",
       "      <th>REF</th>\n",
       "      <th>Review</th>\n",
       "      <th>Cocoa Percent</th>\n",
       "      <th>Company Location</th>\n",
       "      <th>Rating</th>\n",
       "      <th>Bean Type</th>\n",
       "      <th>Broad Bean Origin</th>\n",
       "    </tr>\n",
       "  </thead>\n",
       "  <tbody>\n",
       "    <tr>\n",
       "      <th>0</th>\n",
       "      <td>Willie's Cacao</td>\n",
       "      <td>Rio Caribe</td>\n",
       "      <td>457</td>\n",
       "      <td>2009</td>\n",
       "      <td>72.0</td>\n",
       "      <td>U.K.</td>\n",
       "      <td>3.25</td>\n",
       "      <td>Trinitario</td>\n",
       "      <td>Venezuela</td>\n",
       "    </tr>\n",
       "    <tr>\n",
       "      <th>1</th>\n",
       "      <td>Beschle (Felchlin)</td>\n",
       "      <td>Ocumare, Premier Cru, Quizas No. 2</td>\n",
       "      <td>508</td>\n",
       "      <td>2010</td>\n",
       "      <td>72.0</td>\n",
       "      <td>Switzerland</td>\n",
       "      <td>3.50</td>\n",
       "      <td>Other</td>\n",
       "      <td>Venezuela</td>\n",
       "    </tr>\n",
       "    <tr>\n",
       "      <th>2</th>\n",
       "      <td>Dark Forest</td>\n",
       "      <td>Tanzania</td>\n",
       "      <td>1554</td>\n",
       "      <td>2015</td>\n",
       "      <td>70.0</td>\n",
       "      <td>U.S.A.</td>\n",
       "      <td>3.00</td>\n",
       "      <td>Criollo</td>\n",
       "      <td>Tanzania</td>\n",
       "    </tr>\n",
       "    <tr>\n",
       "      <th>3</th>\n",
       "      <td>Brasstown aka It's Chocolate</td>\n",
       "      <td>Cooproagro</td>\n",
       "      <td>1125</td>\n",
       "      <td>2013</td>\n",
       "      <td>72.0</td>\n",
       "      <td>U.S.A.</td>\n",
       "      <td>3.00</td>\n",
       "      <td>Trinitario</td>\n",
       "      <td>Dominican Republic</td>\n",
       "    </tr>\n",
       "    <tr>\n",
       "      <th>4</th>\n",
       "      <td>Pralus</td>\n",
       "      <td>Java, Indonesie</td>\n",
       "      <td>32</td>\n",
       "      <td>2006</td>\n",
       "      <td>75.0</td>\n",
       "      <td>France</td>\n",
       "      <td>3.50</td>\n",
       "      <td>Criollo</td>\n",
       "      <td>Indonesia</td>\n",
       "    </tr>\n",
       "  </tbody>\n",
       "</table>\n",
       "</div>"
      ],
      "text/plain": [
       "                        Company                Specific Bean Origin   REF  \\\n",
       "0                Willie's Cacao                          Rio Caribe   457   \n",
       "1            Beschle (Felchlin)  Ocumare, Premier Cru, Quizas No. 2   508   \n",
       "2                   Dark Forest                            Tanzania  1554   \n",
       "3  Brasstown aka It's Chocolate                          Cooproagro  1125   \n",
       "4                        Pralus                     Java, Indonesie    32   \n",
       "\n",
       "  Review  Cocoa Percent Company Location  Rating   Bean Type  \\\n",
       "0   2009           72.0             U.K.    3.25  Trinitario   \n",
       "1   2010           72.0      Switzerland    3.50       Other   \n",
       "2   2015           70.0           U.S.A.    3.00     Criollo   \n",
       "3   2013           72.0           U.S.A.    3.00  Trinitario   \n",
       "4   2006           75.0           France    3.50     Criollo   \n",
       "\n",
       "    Broad Bean Origin  \n",
       "0           Venezuela  \n",
       "1           Venezuela  \n",
       "2            Tanzania  \n",
       "3  Dominican Republic  \n",
       "4           Indonesia  "
      ]
     },
     "execution_count": 35,
     "metadata": {},
     "output_type": "execute_result"
    }
   ],
   "source": [
    "train_df.head()"
   ]
  },
  {
   "cell_type": "code",
   "execution_count": 36,
   "id": "9cb75d0f",
   "metadata": {},
   "outputs": [
    {
     "data": {
      "text/plain": [
       "Company                  object\n",
       "Specific Bean Origin     object\n",
       "REF                       int64\n",
       "Review                   object\n",
       "Cocoa Percent           float16\n",
       "Company Location         object\n",
       "Rating                  float64\n",
       "Bean Type                object\n",
       "Broad Bean Origin        object\n",
       "dtype: object"
      ]
     },
     "execution_count": 36,
     "metadata": {},
     "output_type": "execute_result"
    }
   ],
   "source": [
    "train_df.dtypes"
   ]
  },
  {
   "cell_type": "markdown",
   "id": "69c1840c",
   "metadata": {},
   "source": []
  },
  {
   "cell_type": "code",
   "execution_count": 37,
   "id": "e7b26459",
   "metadata": {},
   "outputs": [],
   "source": [
    "['Company', 'Specific Bean Origin', 'REF', 'Review', 'Cocoa Percent',\n",
    "'Company Location', 'Bean Type', 'Broad Bean Origin']\n",
    "\n",
    "cols = ['Company', 'Specific Bean Origin', 'REF', 'Review', 'Cocoa Percent',\n",
    "'Company Location', 'Bean Type', 'Broad Bean Origin']"
   ]
  },
  {
   "cell_type": "code",
   "execution_count": 38,
   "id": "b29f2f1a",
   "metadata": {},
   "outputs": [],
   "source": [
    "X = train_df[cols]\n",
    "target = train_df['Rating']\n",
    "test = test_df[cols]"
   ]
  },
  {
   "cell_type": "code",
   "execution_count": 39,
   "id": "71a945aa",
   "metadata": {},
   "outputs": [],
   "source": [
    "mm_scaler = MinMaxScaler()\n",
    "scaler = StandardScaler()\n",
    "\n",
    "X['REF'] = mm_scaler.fit_transform(X[['REF']])  \n",
    "test['REF'] = mm_scaler.transform(test[['REF']])"
   ]
  },
  {
   "cell_type": "code",
   "execution_count": 40,
   "id": "e69b1ea4",
   "metadata": {},
   "outputs": [],
   "source": [
    "mm_scaler = MinMaxScaler()\n",
    "\n",
    "X['Cocoa Percent'] = mm_scaler.fit_transform(X[['Cocoa Percent']])  \n",
    "test['Cocoa Percent'] = mm_scaler.transform(test[['Cocoa Percent']])"
   ]
  },
  {
   "cell_type": "code",
   "execution_count": 41,
   "id": "423a655a",
   "metadata": {},
   "outputs": [
    {
     "data": {
      "text/html": [
       "<div>\n",
       "<style scoped>\n",
       "    .dataframe tbody tr th:only-of-type {\n",
       "        vertical-align: middle;\n",
       "    }\n",
       "\n",
       "    .dataframe tbody tr th {\n",
       "        vertical-align: top;\n",
       "    }\n",
       "\n",
       "    .dataframe thead th {\n",
       "        text-align: right;\n",
       "    }\n",
       "</style>\n",
       "<table border=\"1\" class=\"dataframe\">\n",
       "  <thead>\n",
       "    <tr style=\"text-align: right;\">\n",
       "      <th></th>\n",
       "      <th>Company</th>\n",
       "      <th>Specific Bean Origin</th>\n",
       "      <th>REF</th>\n",
       "      <th>Review</th>\n",
       "      <th>Cocoa Percent</th>\n",
       "      <th>Company Location</th>\n",
       "      <th>Bean Type</th>\n",
       "      <th>Broad Bean Origin</th>\n",
       "    </tr>\n",
       "  </thead>\n",
       "  <tbody>\n",
       "    <tr>\n",
       "      <th>0</th>\n",
       "      <td>Willie's Cacao</td>\n",
       "      <td>Rio Caribe</td>\n",
       "      <td>0.232152</td>\n",
       "      <td>2009</td>\n",
       "      <td>0.481934</td>\n",
       "      <td>U.K.</td>\n",
       "      <td>Trinitario</td>\n",
       "      <td>Venezuela</td>\n",
       "    </tr>\n",
       "    <tr>\n",
       "      <th>1</th>\n",
       "      <td>Beschle (Felchlin)</td>\n",
       "      <td>Ocumare, Premier Cru, Quizas No. 2</td>\n",
       "      <td>0.258346</td>\n",
       "      <td>2010</td>\n",
       "      <td>0.481934</td>\n",
       "      <td>Switzerland</td>\n",
       "      <td>Other</td>\n",
       "      <td>Venezuela</td>\n",
       "    </tr>\n",
       "    <tr>\n",
       "      <th>2</th>\n",
       "      <td>Dark Forest</td>\n",
       "      <td>Tanzania</td>\n",
       "      <td>0.795583</td>\n",
       "      <td>2015</td>\n",
       "      <td>0.444824</td>\n",
       "      <td>U.S.A.</td>\n",
       "      <td>Criollo</td>\n",
       "      <td>Tanzania</td>\n",
       "    </tr>\n",
       "    <tr>\n",
       "      <th>3</th>\n",
       "      <td>Brasstown aka It's Chocolate</td>\n",
       "      <td>Cooproagro</td>\n",
       "      <td>0.575244</td>\n",
       "      <td>2013</td>\n",
       "      <td>0.481934</td>\n",
       "      <td>U.S.A.</td>\n",
       "      <td>Trinitario</td>\n",
       "      <td>Dominican Republic</td>\n",
       "    </tr>\n",
       "    <tr>\n",
       "      <th>4</th>\n",
       "      <td>Pralus</td>\n",
       "      <td>Java, Indonesie</td>\n",
       "      <td>0.013867</td>\n",
       "      <td>2006</td>\n",
       "      <td>0.537598</td>\n",
       "      <td>France</td>\n",
       "      <td>Criollo</td>\n",
       "      <td>Indonesia</td>\n",
       "    </tr>\n",
       "    <tr>\n",
       "      <th>...</th>\n",
       "      <td>...</td>\n",
       "      <td>...</td>\n",
       "      <td>...</td>\n",
       "      <td>...</td>\n",
       "      <td>...</td>\n",
       "      <td>...</td>\n",
       "      <td>...</td>\n",
       "      <td>...</td>\n",
       "    </tr>\n",
       "    <tr>\n",
       "      <th>1250</th>\n",
       "      <td>Artisan du Chocolat</td>\n",
       "      <td>Madagascar</td>\n",
       "      <td>0.183873</td>\n",
       "      <td>2009</td>\n",
       "      <td>0.630371</td>\n",
       "      <td>U.K.</td>\n",
       "      <td>Blend</td>\n",
       "      <td>Madagascar</td>\n",
       "    </tr>\n",
       "    <tr>\n",
       "      <th>1251</th>\n",
       "      <td>Marana</td>\n",
       "      <td>Cusco</td>\n",
       "      <td>0.965074</td>\n",
       "      <td>2016</td>\n",
       "      <td>0.444824</td>\n",
       "      <td>Peru</td>\n",
       "      <td>Other</td>\n",
       "      <td>Peru</td>\n",
       "    </tr>\n",
       "    <tr>\n",
       "      <th>1252</th>\n",
       "      <td>Arete</td>\n",
       "      <td>Nacional</td>\n",
       "      <td>0.785311</td>\n",
       "      <td>2015</td>\n",
       "      <td>0.407715</td>\n",
       "      <td>U.S.A.</td>\n",
       "      <td>Forastero</td>\n",
       "      <td>Peru</td>\n",
       "    </tr>\n",
       "    <tr>\n",
       "      <th>1253</th>\n",
       "      <td>Fresco</td>\n",
       "      <td>Conacado, #212, LR, SC</td>\n",
       "      <td>0.327170</td>\n",
       "      <td>2011</td>\n",
       "      <td>0.481934</td>\n",
       "      <td>U.S.A.</td>\n",
       "      <td>Other</td>\n",
       "      <td>Dominican Republic</td>\n",
       "    </tr>\n",
       "    <tr>\n",
       "      <th>1254</th>\n",
       "      <td>Zak's</td>\n",
       "      <td>Madagascar, Batch 2</td>\n",
       "      <td>0.807910</td>\n",
       "      <td>2015</td>\n",
       "      <td>0.444824</td>\n",
       "      <td>U.S.A.</td>\n",
       "      <td>Trinitario</td>\n",
       "      <td>Madagascar</td>\n",
       "    </tr>\n",
       "  </tbody>\n",
       "</table>\n",
       "<p>1255 rows × 8 columns</p>\n",
       "</div>"
      ],
      "text/plain": [
       "                           Company                Specific Bean Origin  \\\n",
       "0                   Willie's Cacao                          Rio Caribe   \n",
       "1               Beschle (Felchlin)  Ocumare, Premier Cru, Quizas No. 2   \n",
       "2                      Dark Forest                            Tanzania   \n",
       "3     Brasstown aka It's Chocolate                          Cooproagro   \n",
       "4                           Pralus                     Java, Indonesie   \n",
       "...                            ...                                 ...   \n",
       "1250           Artisan du Chocolat                          Madagascar   \n",
       "1251                        Marana                               Cusco   \n",
       "1252                         Arete                            Nacional   \n",
       "1253                        Fresco              Conacado, #212, LR, SC   \n",
       "1254                         Zak's                 Madagascar, Batch 2   \n",
       "\n",
       "           REF Review  Cocoa Percent Company Location   Bean Type  \\\n",
       "0     0.232152   2009       0.481934             U.K.  Trinitario   \n",
       "1     0.258346   2010       0.481934      Switzerland       Other   \n",
       "2     0.795583   2015       0.444824           U.S.A.     Criollo   \n",
       "3     0.575244   2013       0.481934           U.S.A.  Trinitario   \n",
       "4     0.013867   2006       0.537598           France     Criollo   \n",
       "...        ...    ...            ...              ...         ...   \n",
       "1250  0.183873   2009       0.630371             U.K.       Blend   \n",
       "1251  0.965074   2016       0.444824             Peru       Other   \n",
       "1252  0.785311   2015       0.407715           U.S.A.   Forastero   \n",
       "1253  0.327170   2011       0.481934           U.S.A.       Other   \n",
       "1254  0.807910   2015       0.444824           U.S.A.  Trinitario   \n",
       "\n",
       "       Broad Bean Origin  \n",
       "0              Venezuela  \n",
       "1              Venezuela  \n",
       "2               Tanzania  \n",
       "3     Dominican Republic  \n",
       "4              Indonesia  \n",
       "...                  ...  \n",
       "1250          Madagascar  \n",
       "1251                Peru  \n",
       "1252                Peru  \n",
       "1253  Dominican Republic  \n",
       "1254          Madagascar  \n",
       "\n",
       "[1255 rows x 8 columns]"
      ]
     },
     "execution_count": 41,
     "metadata": {},
     "output_type": "execute_result"
    }
   ],
   "source": [
    "X"
   ]
  },
  {
   "cell_type": "code",
   "execution_count": 42,
   "id": "fc32f923",
   "metadata": {},
   "outputs": [
    {
     "data": {
      "text/plain": [
       "Company                  object\n",
       "Specific Bean Origin     object\n",
       "REF                     float64\n",
       "Review                   object\n",
       "Cocoa Percent           float16\n",
       "Company Location         object\n",
       "Bean Type                object\n",
       "Broad Bean Origin        object\n",
       "dtype: object"
      ]
     },
     "execution_count": 42,
     "metadata": {},
     "output_type": "execute_result"
    }
   ],
   "source": [
    "X.dtypes"
   ]
  },
  {
   "cell_type": "code",
   "execution_count": 43,
   "id": "fb39c429",
   "metadata": {},
   "outputs": [],
   "source": [
    "cat_features = [i for i, col in enumerate(X.columns) if X[col].dtype.name in ['category', 'object']]"
   ]
  },
  {
   "cell_type": "code",
   "execution_count": 44,
   "id": "38bc0863",
   "metadata": {},
   "outputs": [],
   "source": [
    "cat_cols = [col for i, col in enumerate(X.columns) if X[col].dtype.name in ['category', 'object']]"
   ]
  },
  {
   "cell_type": "markdown",
   "id": "1376ebad",
   "metadata": {},
   "source": [
    "## Обучение и подбор гиперпараметров"
   ]
  },
  {
   "cell_type": "code",
   "execution_count": 81,
   "id": "3e083101",
   "metadata": {},
   "outputs": [
    {
     "name": "stderr",
     "output_type": "stream",
     "text": [
      "[I 2025-05-13 22:14:09,632] A new study created in memory with name: no-name-146926d6-2d1d-4f94-88d5-8d80d3b91307\n",
      "[I 2025-05-13 22:20:01,090] Trial 1 finished with value: 0.18028169771282557 and parameters: {'depth': 3, 'learning_rate': 0.0012414002040485067, 'n_estimators': 3, 'l2_leaf_reg': 3.165608302538592, 'random_strength': 4.430772269521103, 'bagging_temperature': 0.6660734597797583, 'max_leaf_nodes': 19, 'n_estimators_rf': 4, 'n_estimators_rf_f': 5}. Best is trial 1 with value: 0.18028169771282557.\n",
      "[I 2025-05-13 22:20:53,784] Trial 2 finished with value: 0.18585657087117294 and parameters: {'depth': 3, 'learning_rate': 0.001508481956313236, 'n_estimators': 2, 'l2_leaf_reg': 3.2595565421994506, 'random_strength': 6.338752715132429, 'bagging_temperature': 0.5459102905885652, 'max_leaf_nodes': 11, 'n_estimators_rf': 4, 'n_estimators_rf_f': 4}. Best is trial 2 with value: 0.18585657087117294.\n",
      "[I 2025-05-13 22:24:44,317] Trial 0 finished with value: 0.18531613500373142 and parameters: {'depth': 3, 'learning_rate': 0.022327209169480968, 'n_estimators': 3, 'l2_leaf_reg': 9.441893307295754, 'random_strength': 2.2673833235094665, 'bagging_temperature': 0.5623427887180186, 'max_leaf_nodes': 7, 'n_estimators_rf': 4, 'n_estimators_rf_f': 4}. Best is trial 2 with value: 0.18585657087117294.\n"
     ]
    }
   ],
   "source": [
    "def objective_catboost(trial):\n",
    "\n",
    "    params_cb = {\n",
    "        'depth': trial.suggest_int('depth', 3, 4, 5),  # Глубина деревьев\n",
    "        # 'max_depth': 4,\n",
    "        'learning_rate': trial.suggest_float(\"learning_rate\", 0.0005, 0.2, log=True),    # Скорость обучения\n",
    "        'n_estimators': trial.suggest_int(\"n_estimators\", 2, 3),\n",
    "        'l2_leaf_reg': trial.suggest_float(\"l2_leaf_reg\", 1, 10),   # Коэффициент L2-регуляризации\n",
    "        'random_strength': trial.suggest_float(\"random_strength\", 0, 10),   # Степень случайности\n",
    "        'bagging_temperature':  trial.suggest_float(\"bagging_temperature\", 0, 1),   # Интенсивность бэггинга\n",
    "        # 'grow_policy': 'SymmetricTree',\n",
    "        # 'border_count': trial.suggest_int(\"border_count\", 32, 255)\n",
    "        # 'iterations': trial.suggest_int('iterations', 100, 300),  # Количество итераций\n",
    "        # 'depth': trial.suggest_int('depth', 3, 4, 5),  # Глубина деревьев\n",
    "        # 'learning_rate': trial.suggest_float('learning_rate', 0.05, 0.2),  # Скорость обучения\n",
    "        # 'l2_leaf_reg': trial.suggest_float('l2_leaf_reg', 4, 8),  # Коэффициент L2-регуляризации\n",
    "        # 'loss_function': trial.suggest_categorical('loss_function', ['RMSE', 'MAE']),  # Функция потерь\n",
    "        # 'early_stopping_rounds': trial.suggest_int('early_stopping_rounds', 10, 20),  # Ранняя остановка\n",
    "        # 'border_count': trial.suggest_categorical('border_count', [32, 128]),  # Количество границ\n",
    "        # 'random_strength': trial.suggest_float('random_strength', 0.1, 10),  # Степень случайности\n",
    "        # 'bagging_temperature': trial.suggest_float('bagging_temperature', 0, 1),  # Интенсивность бэггинга\n",
    "        # 'grow_policy': trial.suggest_categorical('grow_policy', ['SymmetricTree', 'Depthwise']),    # Стратегия роста\n",
    "        # 'min_data_in_leaf': trial.suggest_int('min_data_in_leaf', 5, 15),   # Минимальное количество объектов в листе\n",
    "        # 'rsm': trial.suggest_float('rsm', 0.8, 1.0),    # Доля признаков для каждого дерева\n",
    "    }\n",
    "    params = {'learning_rate': 0.008553940111605946, 'n_estimators': 2114, 'l2_leaf_reg': 1.4163130536678312, 'random_strength': 4.287920281067569, 'bagging_temperature': 0.7916641053388684, 'grow_policy': 'SymmetricTree', 'min_data_in_leaf': 7, 'rsm': 0.9923008576207031}\n",
    "\n",
    "    params_rf = {\n",
    "        # \"n_estimators\": n_estimators,\n",
    "        # \"max_features\": max_features,\n",
    "        # \"max_depth\": max_depth,\n",
    "        # \"min_samples_split\": min_samples_split,\n",
    "        # \"min_samples_leaf\": min_samples_leaf\n",
    "        'max_depth': 4,\n",
    "        'max_leaf_nodes': trial.suggest_int('max_leaf_nodes', 1, 20),\n",
    "        'n_estimators': trial.suggest_int('n_estimators_rf', 4, 5)\n",
    "    }\n",
    "\n",
    "    params_rf_f = {\n",
    "        # \"n_estimators\": n_estimators,\n",
    "        # \"max_features\": max_features,\n",
    "        # \"max_depth\": max_depth,\n",
    "        # \"min_samples_split\": min_samples_split,\n",
    "        # \"min_samples_leaf\": min_samples_leaf\n",
    "        'max_depth': 4,\n",
    "        'max_leaf_nodes': trial.suggest_int('max_leaf_nodes', 1, 20),\n",
    "        'n_estimators': trial.suggest_int('n_estimators_rf_f', 4, 5)\n",
    "    }\n",
    "\n",
    "    rf = Pipeline([\n",
    "        ('encoder_',TargetEncoder(cols=cat_cols)),\n",
    "        ('model_', RandomForestRegressor(**params_rf, random_state=RANDOM_STATE, n_jobs=-1))\n",
    "    ])\n",
    "\n",
    "    rf_final = RandomForestRegressor(**params_rf_f, random_state=RANDOM_STATE, n_jobs=-1)\n",
    "    \n",
    "    cb = CatBoostRegressor(cat_features=cat_features, **params, silent=True)\n",
    "\n",
    "    estimators = [\n",
    "        ('rf', rf),\n",
    "        ('cb', cb)\n",
    "        ]\n",
    "\n",
    "    reg = StackingRegressor(\n",
    "        estimators=estimators,\n",
    "        final_estimator=rf_final, \n",
    "        n_jobs=-1) \n",
    "\n",
    "    score = cross_val_score(reg, X, target, cv=3, scoring=\"r2\", n_jobs=-1).mean()\n",
    "    return score\n",
    "\n",
    "study = optuna.create_study(direction=\"maximize\")\n",
    "study.optimize(objective_catboost, n_trials=3, n_jobs=-1)"
   ]
  },
  {
   "cell_type": "code",
   "execution_count": 75,
   "id": "f675b7f8",
   "metadata": {},
   "outputs": [
    {
     "data": {
      "text/plain": [
       "{'depth': 3,\n",
       " 'learning_rate': 0.01547694876687209,\n",
       " 'n_estimators': 2,\n",
       " 'l2_leaf_reg': 7.990643877719572,\n",
       " 'random_strength': 5.521575896383951,\n",
       " 'bagging_temperature': 0.17151432317876836,\n",
       " 'max_leaf_nodes': 7,\n",
       " 'n_estimators_rf': 4,\n",
       " 'n_estimators_rf_f': 5}"
      ]
     },
     "execution_count": 75,
     "metadata": {},
     "output_type": "execute_result"
    }
   ],
   "source": [
    "study.best_params"
   ]
  },
  {
   "cell_type": "code",
   "execution_count": 76,
   "id": "0dda06f2",
   "metadata": {},
   "outputs": [
    {
     "data": {
      "text/plain": [
       "{'depth': 3,\n",
       " 'learning_rate': 0.01547694876687209,\n",
       " 'n_estimators': 2,\n",
       " 'l2_leaf_reg': 7.990643877719572,\n",
       " 'random_strength': 5.521575896383951,\n",
       " 'bagging_temperature': 0.17151432317876836,\n",
       " 'max_leaf_nodes': 7,\n",
       " 'n_estimators_rf': 4,\n",
       " 'n_estimators_rf_f': 5}"
      ]
     },
     "execution_count": 76,
     "metadata": {},
     "output_type": "execute_result"
    }
   ],
   "source": [
    "study.best_trial.params"
   ]
  },
  {
   "cell_type": "markdown",
   "id": "832f82cf",
   "metadata": {},
   "source": []
  },
  {
   "cell_type": "code",
   "execution_count": 47,
   "id": "6e0dd789",
   "metadata": {},
   "outputs": [
    {
     "data": {
      "text/plain": [
       "<catboost.core.CatBoostRegressor at 0x1d270fa0aa0>"
      ]
     },
     "execution_count": 47,
     "metadata": {},
     "output_type": "execute_result"
    }
   ],
   "source": [
    "# [I 2025-05-12 15:22:30,361] Trial 156 finished with value: 0.21593551418797222 and parameters: \n",
    "# {'learning_rate': 0.010085724934530157, \n",
    "#'n_estimators': 2063, \n",
    "#'l2_leaf_reg': 1.006603127309495, \n",
    "#'random_strength': 1.4219666225791285, \n",
    "#'bagging_temperature': 0.47554294906158245}. \n",
    "# Best is trial 156 with value: 0.21593551418797222.\n",
    "\n",
    "# params = study.best_params\n",
    "params = {'learning_rate': 0.008553940111605946, 'n_estimators': 2114, 'l2_leaf_reg': 1.4163130536678312, 'random_strength': 4.287920281067569, 'bagging_temperature': 0.7916641053388684, 'grow_policy': 'SymmetricTree', 'min_data_in_leaf': 7, 'rsm': 0.9923008576207031}\n",
    "model = CatBoostRegressor(\n",
    "        cat_features=cat_features, **params,\n",
    "        silent=True\n",
    "    )\n",
    "model.fit(X, target)"
   ]
  },
  {
   "cell_type": "code",
   "execution_count": 48,
   "id": "3aa28500",
   "metadata": {},
   "outputs": [],
   "source": [
    "pred = model.predict(test)"
   ]
  },
  {
   "cell_type": "code",
   "execution_count": 49,
   "id": "b6f4ee79",
   "metadata": {},
   "outputs": [],
   "source": [
    "test = test.copy()\n",
    "result = pd.DataFrame()\n",
    "result['id'] = np.arange(len(test))\n",
    "result['Rating'] = pred\n",
    "\n",
    "result[['id','Rating']].to_csv(\"choko_submission_30.csv\", index=False)"
   ]
  },
  {
   "attachments": {
    "image.png": {
     "image/png": "[encoded data removed]"
    }
   },
   "cell_type": "markdown",
   "id": "5df1e385",
   "metadata": {},
   "source": [
    "![image.png](attachment:image.png)"
   ]
  },
  {
   "cell_type": "markdown",
   "id": "7c6c825c",
   "metadata": {},
   "source": [
    "<!-- {'learning_rate': 0.008553940111605946, 'n_estimators': 2114, 'l2_leaf_reg': 1.4163130536678312, 'random_strength': 4.287920281067569, 'bagging_temperature': 0.7916641053388684, 'grow_policy': 'SymmetricTree', 'min_data_in_leaf': 7, 'rsm': 0.9923008576207031} -->"
   ]
  },
  {
   "cell_type": "code",
   "execution_count": 50,
   "id": "686f149b",
   "metadata": {},
   "outputs": [],
   "source": [
    "# {'learning_rate': 0.008553940111605946, 'n_estimators': 2114, 'l2_leaf_reg': 1.4163130536678312, 'random_strength': 4.287920281067569, 'bagging_temperature': 0.7916641053388684, 'grow_policy': 'SymmetricTree', 'min_data_in_leaf': 7, 'rsm': 0.9923008576207031}"
   ]
  },
  {
   "cell_type": "code",
   "execution_count": 51,
   "id": "c25d179d",
   "metadata": {},
   "outputs": [
    {
     "data": {
      "text/plain": [
       "array([[3.21673561],\n",
       "       [3.05160433],\n",
       "       [3.07302186],\n",
       "       [3.59408168],\n",
       "       [3.13725256],\n",
       "       [2.85004615],\n",
       "       [3.09778085],\n",
       "       [3.22675238],\n",
       "       [3.18594012],\n",
       "       [2.81650436],\n",
       "       [3.43837435],\n",
       "       [3.14203963],\n",
       "       [3.054473  ],\n",
       "       [3.15497656],\n",
       "       [2.5979574 ],\n",
       "       [3.32149562],\n",
       "       [3.30751146],\n",
       "       [3.44177151],\n",
       "       [3.09345194],\n",
       "       [3.20681492],\n",
       "       [2.98983078],\n",
       "       [3.26074991],\n",
       "       [3.18861644],\n",
       "       [3.06761279],\n",
       "       [3.42504916],\n",
       "       [3.39472129],\n",
       "       [3.20809024],\n",
       "       [3.11744259],\n",
       "       [3.11901894],\n",
       "       [2.97818405],\n",
       "       [3.36548506],\n",
       "       [2.739822  ],\n",
       "       [3.00351799],\n",
       "       [2.96472992],\n",
       "       [2.91547234],\n",
       "       [3.35063785],\n",
       "       [3.46755138],\n",
       "       [2.85648958],\n",
       "       [3.21325058],\n",
       "       [3.13820162],\n",
       "       [2.88503185],\n",
       "       [3.37310821],\n",
       "       [3.36897732],\n",
       "       [3.35774821],\n",
       "       [3.14503075],\n",
       "       [3.48924055],\n",
       "       [3.37341785],\n",
       "       [3.44876889],\n",
       "       [3.04797282],\n",
       "       [3.24185698],\n",
       "       [2.85485773],\n",
       "       [3.09199974],\n",
       "       [3.38221632],\n",
       "       [3.28651756],\n",
       "       [3.3158011 ],\n",
       "       [2.82404139],\n",
       "       [3.39438428],\n",
       "       [2.99166401],\n",
       "       [3.37138473],\n",
       "       [3.12681326],\n",
       "       [3.16426159],\n",
       "       [3.32623047],\n",
       "       [3.10201697],\n",
       "       [3.21163139],\n",
       "       [3.28695615],\n",
       "       [2.73550276],\n",
       "       [2.93123602],\n",
       "       [3.40538456],\n",
       "       [3.40570312],\n",
       "       [3.51123801],\n",
       "       [3.10599807],\n",
       "       [3.2714801 ],\n",
       "       [3.31204874],\n",
       "       [3.54308113],\n",
       "       [3.19184327],\n",
       "       [3.06828773],\n",
       "       [3.41485242],\n",
       "       [3.06282189],\n",
       "       [3.04527982],\n",
       "       [3.3217191 ],\n",
       "       [3.34596305],\n",
       "       [2.92605005],\n",
       "       [3.20011864],\n",
       "       [2.79407651],\n",
       "       [3.10977251],\n",
       "       [3.10889511],\n",
       "       [2.9447067 ],\n",
       "       [3.17740194],\n",
       "       [3.16833068],\n",
       "       [3.46614571],\n",
       "       [3.05868898],\n",
       "       [3.41434824],\n",
       "       [3.34384971],\n",
       "       [3.40345645],\n",
       "       [2.81555328],\n",
       "       [3.33981901],\n",
       "       [3.1746235 ],\n",
       "       [3.03141423],\n",
       "       [3.01807146],\n",
       "       [3.43704089],\n",
       "       [3.15876013],\n",
       "       [3.2694107 ],\n",
       "       [3.15088232],\n",
       "       [3.19166404],\n",
       "       [3.55981125],\n",
       "       [3.14691619],\n",
       "       [3.22532008],\n",
       "       [3.17991027],\n",
       "       [3.5351209 ],\n",
       "       [3.04463948],\n",
       "       [2.57672975],\n",
       "       [3.35543988],\n",
       "       [3.10867046],\n",
       "       [3.50326968],\n",
       "       [3.12703599],\n",
       "       [3.43454829],\n",
       "       [3.43457987],\n",
       "       [3.06257572],\n",
       "       [2.97896004],\n",
       "       [2.93348804],\n",
       "       [3.16586698],\n",
       "       [3.43156407],\n",
       "       [3.0970498 ],\n",
       "       [3.15570079],\n",
       "       [3.38035478],\n",
       "       [2.83851964],\n",
       "       [3.30152329],\n",
       "       [2.77594773],\n",
       "       [3.27819816],\n",
       "       [3.0347076 ],\n",
       "       [2.97890039],\n",
       "       [3.037736  ],\n",
       "       [3.38867291],\n",
       "       [3.32225705],\n",
       "       [3.03891573],\n",
       "       [3.49456687],\n",
       "       [2.96637922],\n",
       "       [3.164049  ],\n",
       "       [3.22800596],\n",
       "       [3.40860459],\n",
       "       [3.37481682],\n",
       "       [2.89237337],\n",
       "       [3.27179448],\n",
       "       [3.34084967],\n",
       "       [3.24228249],\n",
       "       [2.98299847],\n",
       "       [2.99760422],\n",
       "       [2.91829605],\n",
       "       [3.04954038],\n",
       "       [3.20458248],\n",
       "       [3.34356259],\n",
       "       [3.03618299],\n",
       "       [2.92586262],\n",
       "       [3.41385641],\n",
       "       [2.62143034],\n",
       "       [3.32629745],\n",
       "       [3.43430295],\n",
       "       [2.95449786],\n",
       "       [3.33041274],\n",
       "       [3.57319376],\n",
       "       [3.253592  ],\n",
       "       [3.21214558],\n",
       "       [3.13881189],\n",
       "       [3.14806632],\n",
       "       [3.22477825],\n",
       "       [3.16857961],\n",
       "       [3.18636944],\n",
       "       [3.30337575],\n",
       "       [2.95757147],\n",
       "       [3.17522972],\n",
       "       [2.96933581],\n",
       "       [2.86372941],\n",
       "       [3.02921239],\n",
       "       [3.41569906],\n",
       "       [3.35325712],\n",
       "       [3.46071352],\n",
       "       [3.23043779],\n",
       "       [3.40299525],\n",
       "       [3.49949426],\n",
       "       [3.43350212],\n",
       "       [2.87483334],\n",
       "       [3.04994743],\n",
       "       [3.36670066],\n",
       "       [3.46763248],\n",
       "       [3.23650187],\n",
       "       [3.16091042],\n",
       "       [3.28815054],\n",
       "       [3.49988388],\n",
       "       [3.38199469],\n",
       "       [3.09017815],\n",
       "       [3.09543817],\n",
       "       [3.11750984],\n",
       "       [3.42109957],\n",
       "       [3.21824834],\n",
       "       [3.09929875],\n",
       "       [3.24797326],\n",
       "       [3.42578519],\n",
       "       [3.28860459],\n",
       "       [3.05544597],\n",
       "       [3.05737052],\n",
       "       [3.19556845],\n",
       "       [3.20040262],\n",
       "       [3.45147704],\n",
       "       [3.33062323],\n",
       "       [3.17178374],\n",
       "       [2.91922851],\n",
       "       [2.71100637],\n",
       "       [2.77910853],\n",
       "       [2.9639066 ],\n",
       "       [2.97134285],\n",
       "       [3.2941479 ],\n",
       "       [3.40860865],\n",
       "       [3.26827007],\n",
       "       [3.2025117 ],\n",
       "       [3.23294477],\n",
       "       [3.41276223],\n",
       "       [3.16756187],\n",
       "       [2.90118568],\n",
       "       [3.22703302],\n",
       "       [3.20480994],\n",
       "       [3.16091212],\n",
       "       [2.64408509],\n",
       "       [3.47445933],\n",
       "       [3.07364614],\n",
       "       [3.24975859],\n",
       "       [3.32204172],\n",
       "       [3.41496806],\n",
       "       [3.27959464],\n",
       "       [3.12290293],\n",
       "       [3.47691918],\n",
       "       [3.30125937],\n",
       "       [3.07564846],\n",
       "       [3.15442902],\n",
       "       [2.98962499],\n",
       "       [3.71878436],\n",
       "       [3.16313845],\n",
       "       [3.4101436 ],\n",
       "       [2.92896206],\n",
       "       [2.91904402],\n",
       "       [3.1915415 ],\n",
       "       [3.09808326],\n",
       "       [3.36754269],\n",
       "       [3.34631243],\n",
       "       [3.14372728],\n",
       "       [3.22840792],\n",
       "       [3.41112816],\n",
       "       [3.57011282],\n",
       "       [3.19625595],\n",
       "       [3.11212736],\n",
       "       [3.30034332],\n",
       "       [3.03280636],\n",
       "       [3.41237003],\n",
       "       [3.44361474],\n",
       "       [3.04012997],\n",
       "       [3.00297127],\n",
       "       [3.37514698],\n",
       "       [3.25168275],\n",
       "       [2.85663848],\n",
       "       [3.54717734],\n",
       "       [3.41680044],\n",
       "       [3.06013371],\n",
       "       [3.09208986],\n",
       "       [3.35974769],\n",
       "       [3.14391025],\n",
       "       [3.27195766],\n",
       "       [3.26693864],\n",
       "       [3.3462604 ],\n",
       "       [3.35300589],\n",
       "       [3.24931511],\n",
       "       [3.41362353],\n",
       "       [2.92540111],\n",
       "       [2.92382874],\n",
       "       [3.56297063],\n",
       "       [3.21924084],\n",
       "       [2.95874457],\n",
       "       [3.41994847],\n",
       "       [3.49308527],\n",
       "       [2.85324959],\n",
       "       [3.36918789],\n",
       "       [3.07691424],\n",
       "       [3.17418956],\n",
       "       [3.17103522],\n",
       "       [3.43660034],\n",
       "       [3.46554299],\n",
       "       [3.39395557],\n",
       "       [3.32661923],\n",
       "       [2.9267261 ],\n",
       "       [3.21763348],\n",
       "       [3.3684135 ],\n",
       "       [3.17706586],\n",
       "       [2.84701724],\n",
       "       [3.40299525],\n",
       "       [2.99115803],\n",
       "       [3.40021535],\n",
       "       [3.22483982],\n",
       "       [3.3670997 ],\n",
       "       [3.23492354],\n",
       "       [3.33409815],\n",
       "       [3.18451255],\n",
       "       [3.40394929],\n",
       "       [3.5229283 ],\n",
       "       [2.85915718],\n",
       "       [3.4652712 ],\n",
       "       [3.09589245],\n",
       "       [3.04455786],\n",
       "       [3.34558067],\n",
       "       [3.43639061],\n",
       "       [2.77472532],\n",
       "       [3.23498058],\n",
       "       [3.41332137],\n",
       "       [3.60252356],\n",
       "       [3.26771443],\n",
       "       [2.81770906],\n",
       "       [3.57279465],\n",
       "       [3.07510861],\n",
       "       [3.16797646],\n",
       "       [3.05370379],\n",
       "       [2.95829732],\n",
       "       [3.55830024],\n",
       "       [3.22074364],\n",
       "       [3.47648079],\n",
       "       [3.26382252],\n",
       "       [3.17550645],\n",
       "       [2.30456333],\n",
       "       [2.92961349],\n",
       "       [3.04390191],\n",
       "       [3.3438885 ],\n",
       "       [3.03144755],\n",
       "       [3.2222004 ],\n",
       "       [3.05756654],\n",
       "       [3.42952326],\n",
       "       [3.35007002],\n",
       "       [3.33010968],\n",
       "       [3.59896046],\n",
       "       [3.35169828],\n",
       "       [3.19667444],\n",
       "       [3.32141853],\n",
       "       [3.34164053],\n",
       "       [3.45650755],\n",
       "       [3.10241636],\n",
       "       [3.35904381],\n",
       "       [2.91215098],\n",
       "       [3.02537151],\n",
       "       [2.98749923],\n",
       "       [3.06143361],\n",
       "       [3.31545523],\n",
       "       [3.41485242],\n",
       "       [2.88653115],\n",
       "       [3.2245564 ],\n",
       "       [3.11670378],\n",
       "       [3.6045116 ],\n",
       "       [3.27953563],\n",
       "       [3.34872332],\n",
       "       [3.18472321],\n",
       "       [3.42591213],\n",
       "       [3.51410298],\n",
       "       [3.14287942],\n",
       "       [3.28310174],\n",
       "       [3.24747027],\n",
       "       [2.37737488],\n",
       "       [3.18632972],\n",
       "       [3.24732355],\n",
       "       [3.32456144],\n",
       "       [3.39850465],\n",
       "       [2.95799868],\n",
       "       [3.41622947],\n",
       "       [3.47062014],\n",
       "       [3.08004267],\n",
       "       [3.16063643],\n",
       "       [3.47218616],\n",
       "       [3.03398774],\n",
       "       [3.14095066],\n",
       "       [3.3208102 ],\n",
       "       [3.10573611],\n",
       "       [3.34244742],\n",
       "       [3.38492777],\n",
       "       [3.2473274 ],\n",
       "       [3.26020558],\n",
       "       [3.32717812],\n",
       "       [3.0628457 ],\n",
       "       [2.99050526],\n",
       "       [3.33608335],\n",
       "       [3.42660861],\n",
       "       [3.22456252],\n",
       "       [3.21292254],\n",
       "       [3.22396254],\n",
       "       [3.0280071 ],\n",
       "       [3.2715899 ],\n",
       "       [3.21067323],\n",
       "       [3.27506326],\n",
       "       [3.38050215],\n",
       "       [3.19386179],\n",
       "       [3.27431149],\n",
       "       [3.44439277],\n",
       "       [3.26785382],\n",
       "       [3.42584781],\n",
       "       [3.55830024],\n",
       "       [3.31764236],\n",
       "       [3.08659671],\n",
       "       [3.56119145],\n",
       "       [3.38575315],\n",
       "       [3.34247659],\n",
       "       [3.21881033],\n",
       "       [3.23574222],\n",
       "       [3.54842053],\n",
       "       [3.35895015],\n",
       "       [2.90600551],\n",
       "       [3.20191784],\n",
       "       [2.97588787],\n",
       "       [2.90450662],\n",
       "       [3.4125509 ],\n",
       "       [3.16205032],\n",
       "       [3.13297648],\n",
       "       [3.20468264],\n",
       "       [3.23733589],\n",
       "       [3.13200812],\n",
       "       [2.96304593],\n",
       "       [3.24367273],\n",
       "       [3.49027938],\n",
       "       [3.33546674],\n",
       "       [3.46448135],\n",
       "       [3.21991131],\n",
       "       [3.02206411],\n",
       "       [2.98072517],\n",
       "       [2.99976139],\n",
       "       [3.2256021 ],\n",
       "       [3.24084888],\n",
       "       [3.03797997],\n",
       "       [3.26258953],\n",
       "       [3.29634496],\n",
       "       [3.3034812 ],\n",
       "       [3.49970758],\n",
       "       [3.51623754],\n",
       "       [2.83136739],\n",
       "       [2.83644854],\n",
       "       [3.35230665],\n",
       "       [2.90138574],\n",
       "       [3.27078618],\n",
       "       [2.86887763],\n",
       "       [2.82836217],\n",
       "       [3.37779698],\n",
       "       [3.17958317],\n",
       "       [2.87781505],\n",
       "       [3.53818001],\n",
       "       [3.49852563],\n",
       "       [3.44735914],\n",
       "       [3.37324987],\n",
       "       [3.19200113],\n",
       "       [3.15020267],\n",
       "       [3.65969485],\n",
       "       [2.43565708],\n",
       "       [3.44205481],\n",
       "       [3.24995481],\n",
       "       [3.09812421],\n",
       "       [3.34991654],\n",
       "       [3.3215791 ],\n",
       "       [3.07372623],\n",
       "       [3.26629523],\n",
       "       [3.1755243 ],\n",
       "       [3.15477489],\n",
       "       [3.06862644],\n",
       "       [2.91809305],\n",
       "       [2.84507725],\n",
       "       [3.33660733],\n",
       "       [3.19267589],\n",
       "       [3.47715613],\n",
       "       [2.77531342],\n",
       "       [3.39299039],\n",
       "       [2.75937857],\n",
       "       [2.8904657 ],\n",
       "       [3.50901639],\n",
       "       [3.46561266],\n",
       "       [3.23272123],\n",
       "       [3.10559484],\n",
       "       [3.21516188],\n",
       "       [3.24917556],\n",
       "       [3.09122524],\n",
       "       [2.84546678],\n",
       "       [2.90322036],\n",
       "       [3.34089799],\n",
       "       [3.3789107 ],\n",
       "       [3.20218712],\n",
       "       [3.31771629],\n",
       "       [3.319401  ],\n",
       "       [3.42488388],\n",
       "       [3.13514612],\n",
       "       [3.35697902],\n",
       "       [2.94556896],\n",
       "       [2.93996306],\n",
       "       [2.85148131],\n",
       "       [3.52354087],\n",
       "       [3.14372342],\n",
       "       [3.38304077],\n",
       "       [3.20428579],\n",
       "       [3.51163638],\n",
       "       [3.19589644],\n",
       "       [2.85834884],\n",
       "       [3.24686215],\n",
       "       [3.33041274],\n",
       "       [2.84084076],\n",
       "       [3.47655471],\n",
       "       [3.29873398],\n",
       "       [3.15875728],\n",
       "       [3.24519125],\n",
       "       [3.17365503],\n",
       "       [3.37028491],\n",
       "       [3.16205032],\n",
       "       [3.00411201],\n",
       "       [3.41971765],\n",
       "       [3.0656582 ],\n",
       "       [2.89495043],\n",
       "       [3.02406005],\n",
       "       [3.02432657],\n",
       "       [3.29244886],\n",
       "       [2.97045441],\n",
       "       [3.51028959],\n",
       "       [3.26303179],\n",
       "       [2.70121519],\n",
       "       [3.38515888],\n",
       "       [3.32724586],\n",
       "       [3.35895015],\n",
       "       [3.03537501],\n",
       "       [3.20655395],\n",
       "       [3.35907601],\n",
       "       [3.55289689],\n",
       "       [3.27803111],\n",
       "       [3.24677543],\n",
       "       [3.55830024],\n",
       "       [3.37319253],\n",
       "       [3.10617977],\n",
       "       [2.66271031],\n",
       "       [3.46740151],\n",
       "       [3.15690795],\n",
       "       [3.341339  ],\n",
       "       [3.4177736 ],\n",
       "       [3.15958426],\n",
       "       [3.37516791],\n",
       "       [3.53031931],\n",
       "       [2.92600468],\n",
       "       [3.03884123]])"
      ]
     },
     "execution_count": 51,
     "metadata": {},
     "output_type": "execute_result"
    }
   ],
   "source": [
    "y_res = pd.read_csv('choko_submission_21.csv', usecols=['Rating'])\n",
    "y_res.values"
   ]
  },
  {
   "cell_type": "code",
   "execution_count": 52,
   "id": "39aaef8b",
   "metadata": {},
   "outputs": [
    {
     "data": {
      "text/plain": [
       "0.9796205887817281"
      ]
     },
     "execution_count": 52,
     "metadata": {},
     "output_type": "execute_result"
    }
   ],
   "source": [
    "r2_score(y_res, pred)\n",
    "# 0.981085852246122"
   ]
  },
  {
   "cell_type": "code",
   "execution_count": 53,
   "id": "b8ea3679",
   "metadata": {},
   "outputs": [
    {
     "data": {
      "text/plain": [
       "0.030660929745113558"
      ]
     },
     "execution_count": 53,
     "metadata": {},
     "output_type": "execute_result"
    }
   ],
   "source": [
    "MSE(y_res, pred)**0.5\n",
    "# 0.02953812284780123"
   ]
  },
  {
   "cell_type": "code",
   "execution_count": 54,
   "id": "b64dd0ba",
   "metadata": {},
   "outputs": [],
   "source": [
    "cat_cols = [col for i, col in enumerate(X.columns) if X[col].dtype.name in ['category', 'object']]"
   ]
  },
  {
   "cell_type": "code",
   "execution_count": 55,
   "id": "4b0e4ebc",
   "metadata": {},
   "outputs": [],
   "source": [
    "p1 = Pipeline([\n",
    "    ('encoder_',TargetEncoder(cols=cat_cols)),\n",
    "    ('model_', RandomForestRegressor(n_estimators=15, n_jobs=-1))\n",
    "    ])\n",
    "\n",
    "p2 = Pipeline([\n",
    "    ('encoder_',TargetEncoder(cols=cat_cols)),\n",
    "    ('model_', RandomForestRegressor(n_estimators=5, max_depth=3, random_state=42))\n",
    "    ])\n",
    "\n",
    "p3 = Pipeline([\n",
    "    ('encoder_',TargetEncoder(cols=cat_cols, smoothing=1)),\n",
    "    ('model_', RandomForestRegressor(n_estimators=10, max_depth=4, random_state=42))\n",
    "    ])\n",
    "\n",
    "p4 = Pipeline([\n",
    "    ('encoder_',TargetEncoder(cols=cat_cols, smoothing=100)),\n",
    "    ('model_', RandomForestRegressor(n_estimators=15, max_depth=6, random_state=42))\n",
    "    ])\n",
    "\n",
    "p5 = Pipeline([\n",
    "    ('encoder_',TargetEncoder(cols=cat_cols, smoothing=1)),\n",
    "    ('model_', RandomForestRegressor(n_estimators=10, max_depth=3, random_state=42))\n",
    "    ])\n",
    "\n",
    "p6 = Pipeline([\n",
    "    ('encoder_',TargetEncoder(cols=cat_cols, smoothing=10)),\n",
    "    ('model_', RandomForestRegressor(n_estimators=5, max_depth=3, random_state=42))\n",
    "    ])\n",
    "\n",
    "p7= Pipeline([\n",
    "    ('encoder_',TargetEncoder(cols=cat_cols, smoothing=100)),\n",
    "    ('model_', RandomForestRegressor(n_estimators=11, max_depth=3, random_state=42))\n",
    "    ])\n",
    "\n",
    "p8 = Pipeline([\n",
    "    ('encoder_',LeaveOneOutEncoder(cols=cat_cols)),\n",
    "    ('model_', RandomForestRegressor(n_estimators=10, max_depth=3, random_state=42))\n",
    "    ])\n",
    "\n",
    "p9 = Pipeline([\n",
    "    ('encoder_',LeaveOneOutEncoder(cols=cat_cols)),\n",
    "    ('model_', RandomForestRegressor(n_estimators=12, max_depth=4, random_state=42))\n",
    "    ])\n",
    "\n",
    "# for i, p in enumerate([p1,p2,p3,p4,p5,p6,p7,p8,p9]):\n",
    "#     p.fit(X, target)\n",
    "#     pred = p.predict(X)\n",
    "#     print(i + 1, r2_score(target, pred))"
   ]
  },
  {
   "cell_type": "code",
   "execution_count": 56,
   "id": "9a943063",
   "metadata": {},
   "outputs": [],
   "source": [
    "# for i, p in enumerate([p1,p2,p3,p4,p5,p6,p7,p8,p9]):\n",
    "\n",
    "#     estimators = [\n",
    "#         ('rf', p),\n",
    "#         ('cb', model)\n",
    "#         ]\n",
    "\n",
    "#     reg = StackingRegressor(\n",
    "#         estimators=estimators,\n",
    "#         final_estimator=RandomForestRegressor(n_estimators=10, max_depth=3, random_state=42), \n",
    "#         n_jobs=-1)\n",
    "    \n",
    "#     reg.fit(X, target)\n",
    "#     pred_stacking = reg.predict(test)\n",
    "\n",
    "#     print(i + 1, r2_score(y_res, pred_stacking))\n",
    "#     print(i + 1, MSE(y_res, pred_stacking)**0.5)\n",
    "\n",
    "# # 0.981085852246122\n",
    "# # 0.02953812284780123"
   ]
  },
  {
   "cell_type": "code",
   "execution_count": 57,
   "id": "e738001a",
   "metadata": {},
   "outputs": [
    {
     "ename": "NameError",
     "evalue": "name 'pred_stacking' is not defined",
     "output_type": "error",
     "traceback": [
      "\u001b[1;31m---------------------------------------------------------------------------\u001b[0m",
      "\u001b[1;31mNameError\u001b[0m                                 Traceback (most recent call last)",
      "Cell \u001b[1;32mIn[57], line 1\u001b[0m\n\u001b[1;32m----> 1\u001b[0m pred_stacking\n",
      "\u001b[1;31mNameError\u001b[0m: name 'pred_stacking' is not defined"
     ]
    }
   ],
   "source": [
    "pred_stacking"
   ]
  },
  {
   "cell_type": "code",
   "execution_count": null,
   "id": "471a8a46",
   "metadata": {},
   "outputs": [],
   "source": []
  },
  {
   "cell_type": "code",
   "execution_count": null,
   "id": "dd72c126",
   "metadata": {},
   "outputs": [],
   "source": [
    "y_res_1 = pd.read_csv('choko_1.csv', usecols=['Rating'])\n",
    "y_res_2 = pd.read_csv('choko_2.csv', usecols=['Rating'])\n",
    "y_res_3 = pd.read_csv('choko_3.csv', usecols=['Rating'])\n",
    "y_res_4 = pd.read_csv('choko_4.csv', usecols=['Rating'])"
   ]
  },
  {
   "cell_type": "code",
   "execution_count": null,
   "id": "877273bc",
   "metadata": {},
   "outputs": [
    {
     "name": "stdout",
     "output_type": "stream",
     "text": [
      "0.8928797110746179\n",
      "0.07029515152198088\n"
     ]
    }
   ],
   "source": [
    "print(r2_score(y_res_1, y_res_2))\n",
    "print(MSE(y_res_1, y_res_2)**0.5)"
   ]
  },
  {
   "cell_type": "code",
   "execution_count": null,
   "id": "105924bd",
   "metadata": {},
   "outputs": [
    {
     "name": "stdout",
     "output_type": "stream",
     "text": [
      "0.9664886107985455\n",
      "0.04228675676897799\n"
     ]
    }
   ],
   "source": [
    "print(r2_score(y_res_2, y_res_3))\n",
    "print(MSE(y_res_2, y_res_3)**0.5)"
   ]
  },
  {
   "cell_type": "code",
   "execution_count": null,
   "id": "760b2276",
   "metadata": {},
   "outputs": [
    {
     "name": "stdout",
     "output_type": "stream",
     "text": [
      "0.8546606786376643\n",
      "0.08188060967171977\n"
     ]
    }
   ],
   "source": [
    "print(r2_score(y_res_1, y_res_4))\n",
    "print(MSE(y_res_1, y_res_4)**0.5)"
   ]
  },
  {
   "cell_type": "code",
   "execution_count": null,
   "id": "5998005d",
   "metadata": {},
   "outputs": [
    {
     "name": "stdout",
     "output_type": "stream",
     "text": [
      "0.9784753641416901\n",
      "0.03325249832321735\n"
     ]
    }
   ],
   "source": [
    "print(r2_score(y_res_3, y_res_4))\n",
    "print(MSE(y_res_3, y_res_4)**0.5)"
   ]
  },
  {
   "cell_type": "code",
   "execution_count": null,
   "id": "045baae6",
   "metadata": {},
   "outputs": [],
   "source": [
    "pd.set_option('display.max_rows', 50)"
   ]
  },
  {
   "attachments": {
    "image.png": {
     "image/png": "[encoded data removed]"
    }
   },
   "cell_type": "markdown",
   "id": "5077363a",
   "metadata": {},
   "source": [
    "![](attachment:image.png)"
   ]
  },
  {
   "cell_type": "code",
   "execution_count": null,
   "id": "66bd456e",
   "metadata": {},
   "outputs": [
    {
     "data": {
      "text/html": [
       "<div>\n",
       "<style scoped>\n",
       "    .dataframe tbody tr th:only-of-type {\n",
       "        vertical-align: middle;\n",
       "    }\n",
       "\n",
       "    .dataframe tbody tr th {\n",
       "        vertical-align: top;\n",
       "    }\n",
       "\n",
       "    .dataframe thead th {\n",
       "        text-align: right;\n",
       "    }\n",
       "</style>\n",
       "<table border=\"1\" class=\"dataframe\">\n",
       "  <thead>\n",
       "    <tr style=\"text-align: right;\">\n",
       "      <th></th>\n",
       "      <th>Rating</th>\n",
       "      <th>Rating</th>\n",
       "      <th>Rating</th>\n",
       "      <th>Rating</th>\n",
       "      <th>0</th>\n",
       "      <th>0</th>\n",
       "      <th>mean</th>\n",
       "    </tr>\n",
       "  </thead>\n",
       "  <tbody>\n",
       "    <tr>\n",
       "      <th>0</th>\n",
       "      <td>3.216736</td>\n",
       "      <td>3.198948</td>\n",
       "      <td>3.200899</td>\n",
       "      <td>3.220348</td>\n",
       "      <td>3.196124</td>\n",
       "      <td>3.077329</td>\n",
       "      <td>3.205527</td>\n",
       "    </tr>\n",
       "    <tr>\n",
       "      <th>1</th>\n",
       "      <td>3.051604</td>\n",
       "      <td>3.066053</td>\n",
       "      <td>3.056982</td>\n",
       "      <td>3.085697</td>\n",
       "      <td>3.052862</td>\n",
       "      <td>3.027396</td>\n",
       "      <td>3.058213</td>\n",
       "    </tr>\n",
       "    <tr>\n",
       "      <th>2</th>\n",
       "      <td>3.073022</td>\n",
       "      <td>3.061750</td>\n",
       "      <td>3.017042</td>\n",
       "      <td>2.979142</td>\n",
       "      <td>3.021919</td>\n",
       "      <td>3.005363</td>\n",
       "      <td>3.050605</td>\n",
       "    </tr>\n",
       "    <tr>\n",
       "      <th>3</th>\n",
       "      <td>3.594082</td>\n",
       "      <td>3.613697</td>\n",
       "      <td>3.613866</td>\n",
       "      <td>3.611897</td>\n",
       "      <td>3.595511</td>\n",
       "      <td>3.495386</td>\n",
       "      <td>3.607215</td>\n",
       "    </tr>\n",
       "    <tr>\n",
       "      <th>4</th>\n",
       "      <td>3.137253</td>\n",
       "      <td>3.010653</td>\n",
       "      <td>2.993013</td>\n",
       "      <td>2.981210</td>\n",
       "      <td>3.119339</td>\n",
       "      <td>3.077329</td>\n",
       "      <td>3.046973</td>\n",
       "    </tr>\n",
       "    <tr>\n",
       "      <th>...</th>\n",
       "      <td>...</td>\n",
       "      <td>...</td>\n",
       "      <td>...</td>\n",
       "      <td>...</td>\n",
       "      <td>...</td>\n",
       "      <td>...</td>\n",
       "      <td>...</td>\n",
       "    </tr>\n",
       "    <tr>\n",
       "      <th>535</th>\n",
       "      <td>3.159584</td>\n",
       "      <td>3.163267</td>\n",
       "      <td>3.206149</td>\n",
       "      <td>3.215229</td>\n",
       "      <td>3.156628</td>\n",
       "      <td>3.077329</td>\n",
       "      <td>3.176334</td>\n",
       "    </tr>\n",
       "    <tr>\n",
       "      <th>536</th>\n",
       "      <td>3.375168</td>\n",
       "      <td>3.426468</td>\n",
       "      <td>3.441980</td>\n",
       "      <td>3.514062</td>\n",
       "      <td>3.393898</td>\n",
       "      <td>3.283311</td>\n",
       "      <td>3.414539</td>\n",
       "    </tr>\n",
       "    <tr>\n",
       "      <th>537</th>\n",
       "      <td>3.530319</td>\n",
       "      <td>3.475930</td>\n",
       "      <td>3.515457</td>\n",
       "      <td>3.467140</td>\n",
       "      <td>3.529068</td>\n",
       "      <td>3.515928</td>\n",
       "      <td>3.507235</td>\n",
       "    </tr>\n",
       "    <tr>\n",
       "      <th>538</th>\n",
       "      <td>2.926005</td>\n",
       "      <td>2.825503</td>\n",
       "      <td>2.764264</td>\n",
       "      <td>2.737297</td>\n",
       "      <td>2.931807</td>\n",
       "      <td>2.948654</td>\n",
       "      <td>2.838590</td>\n",
       "    </tr>\n",
       "    <tr>\n",
       "      <th>539</th>\n",
       "      <td>3.038841</td>\n",
       "      <td>2.942718</td>\n",
       "      <td>2.923336</td>\n",
       "      <td>2.881108</td>\n",
       "      <td>3.040877</td>\n",
       "      <td>3.005363</td>\n",
       "      <td>2.968298</td>\n",
       "    </tr>\n",
       "  </tbody>\n",
       "</table>\n",
       "<p>540 rows × 7 columns</p>\n",
       "</div>"
      ],
      "text/plain": [
       "       Rating    Rating    Rating    Rating         0         0      mean\n",
       "0    3.216736  3.198948  3.200899  3.220348  3.196124  3.077329  3.205527\n",
       "1    3.051604  3.066053  3.056982  3.085697  3.052862  3.027396  3.058213\n",
       "2    3.073022  3.061750  3.017042  2.979142  3.021919  3.005363  3.050605\n",
       "3    3.594082  3.613697  3.613866  3.611897  3.595511  3.495386  3.607215\n",
       "4    3.137253  3.010653  2.993013  2.981210  3.119339  3.077329  3.046973\n",
       "..        ...       ...       ...       ...       ...       ...       ...\n",
       "535  3.159584  3.163267  3.206149  3.215229  3.156628  3.077329  3.176334\n",
       "536  3.375168  3.426468  3.441980  3.514062  3.393898  3.283311  3.414539\n",
       "537  3.530319  3.475930  3.515457  3.467140  3.529068  3.515928  3.507235\n",
       "538  2.926005  2.825503  2.764264  2.737297  2.931807  2.948654  2.838590\n",
       "539  3.038841  2.942718  2.923336  2.881108  3.040877  3.005363  2.968298\n",
       "\n",
       "[540 rows x 7 columns]"
      ]
     },
     "execution_count": 332,
     "metadata": {},
     "output_type": "execute_result"
    }
   ],
   "source": [
    "df = pd.DataFrame(pd.concat([y_res_1, y_res_2, y_res_3, y_res_4, pd.DataFrame(pred), pd.DataFrame(pred_stacking)], axis=1))\n",
    "\n",
    "df['mean'] = df.iloc[:, :-3].mean(axis=1)\n",
    "df"
   ]
  },
  {
   "cell_type": "code",
   "execution_count": null,
   "id": "6edf452f",
   "metadata": {},
   "outputs": [
    {
     "data": {
      "text/plain": [
       "0.06128029790435792"
      ]
     },
     "execution_count": 333,
     "metadata": {},
     "output_type": "execute_result"
    }
   ],
   "source": [
    "MAE(df['mean'], df.iloc[:, 5])"
   ]
  },
  {
   "cell_type": "code",
   "execution_count": null,
   "id": "8fdcd5c6",
   "metadata": {},
   "outputs": [
    {
     "data": {
      "text/plain": [
       "0.05482782499270311"
      ]
     },
     "execution_count": 334,
     "metadata": {},
     "output_type": "execute_result"
    }
   ],
   "source": [
    "MAE(df.iloc[:, 0], df.iloc[:, 5])"
   ]
  },
  {
   "cell_type": "code",
   "execution_count": null,
   "id": "fa610991",
   "metadata": {},
   "outputs": [
    {
     "data": {
      "text/plain": [
       "0.05240346992068709"
      ]
     },
     "execution_count": 335,
     "metadata": {},
     "output_type": "execute_result"
    }
   ],
   "source": [
    "MAE(df.iloc[:, 0], df.iloc[:, 1])"
   ]
  },
  {
   "cell_type": "code",
   "execution_count": null,
   "id": "916fdfa6",
   "metadata": {},
   "outputs": [
    {
     "data": {
      "text/plain": [
       "0.020309222403648887"
      ]
     },
     "execution_count": 338,
     "metadata": {},
     "output_type": "execute_result"
    }
   ],
   "source": [
    "MAE(df.iloc[:, 0], df.iloc[:, -3])"
   ]
  },
  {
   "cell_type": "code",
   "execution_count": 77,
   "id": "16dfbb7d",
   "metadata": {},
   "outputs": [
    {
     "data": {
      "application/vnd.plotly.v1+json": {
       "config": {
        "plotlyServerURL": "https://plot.ly"
       },
       "data": [
        {
         "mode": "markers",
         "name": "Objective Value",
         "type": "scatter",
         "x": [
          0,
          1,
          2
         ],
         "y": [
          0.05509023693701035,
          0.03569764767501782,
          0.04860863627663351
         ]
        },
        {
         "mode": "lines",
         "name": "Best Value",
         "type": "scatter",
         "x": [
          0,
          1,
          2
         ],
         "y": [
          0.05509023693701035,
          0.05509023693701035,
          0.05509023693701035
         ]
        },
        {
         "marker": {
          "color": "#cccccc"
         },
         "mode": "markers",
         "name": "Infeasible Trial",
         "showlegend": false,
         "type": "scatter",
         "x": [],
         "y": []
        }
       ],
       "layout": {
        "template": {
         "data": {
          "bar": [
           {
            "error_x": {
             "color": "#2a3f5f"
            },
            "error_y": {
             "color": "#2a3f5f"
            },
            "marker": {
             "line": {
              "color": "#E5ECF6",
              "width": 0.5
             },
             "pattern": {
              "fillmode": "overlay",
              "size": 10,
              "solidity": 0.2
             }
            },
            "type": "bar"
           }
          ],
          "barpolar": [
           {
            "marker": {
             "line": {
              "color": "#E5ECF6",
              "width": 0.5
             },
             "pattern": {
              "fillmode": "overlay",
              "size": 10,
              "solidity": 0.2
             }
            },
            "type": "barpolar"
           }
          ],
          "carpet": [
           {
            "aaxis": {
             "endlinecolor": "#2a3f5f",
             "gridcolor": "white",
             "linecolor": "white",
             "minorgridcolor": "white",
             "startlinecolor": "#2a3f5f"
            },
            "baxis": {
             "endlinecolor": "#2a3f5f",
             "gridcolor": "white",
             "linecolor": "white",
             "minorgridcolor": "white",
             "startlinecolor": "#2a3f5f"
            },
            "type": "carpet"
           }
          ],
          "choropleth": [
           {
            "colorbar": {
             "outlinewidth": 0,
             "ticks": ""
            },
            "type": "choropleth"
           }
          ],
          "contour": [
           {
            "colorbar": {
             "outlinewidth": 0,
             "ticks": ""
            },
            "colorscale": [
             [
              0,
              "#0d0887"
             ],
             [
              0.1111111111111111,
              "#46039f"
             ],
             [
              0.2222222222222222,
              "#7201a8"
             ],
             [
              0.3333333333333333,
              "#9c179e"
             ],
             [
              0.4444444444444444,
              "#bd3786"
             ],
             [
              0.5555555555555556,
              "#d8576b"
             ],
             [
              0.6666666666666666,
              "#ed7953"
             ],
             [
              0.7777777777777778,
              "#fb9f3a"
             ],
             [
              0.8888888888888888,
              "#fdca26"
             ],
             [
              1,
              "#f0f921"
             ]
            ],
            "type": "contour"
           }
          ],
          "contourcarpet": [
           {
            "colorbar": {
             "outlinewidth": 0,
             "ticks": ""
            },
            "type": "contourcarpet"
           }
          ],
          "heatmap": [
           {
            "colorbar": {
             "outlinewidth": 0,
             "ticks": ""
            },
            "colorscale": [
             [
              0,
              "#0d0887"
             ],
             [
              0.1111111111111111,
              "#46039f"
             ],
             [
              0.2222222222222222,
              "#7201a8"
             ],
             [
              0.3333333333333333,
              "#9c179e"
             ],
             [
              0.4444444444444444,
              "#bd3786"
             ],
             [
              0.5555555555555556,
              "#d8576b"
             ],
             [
              0.6666666666666666,
              "#ed7953"
             ],
             [
              0.7777777777777778,
              "#fb9f3a"
             ],
             [
              0.8888888888888888,
              "#fdca26"
             ],
             [
              1,
              "#f0f921"
             ]
            ],
            "type": "heatmap"
           }
          ],
          "heatmapgl": [
           {
            "colorbar": {
             "outlinewidth": 0,
             "ticks": ""
            },
            "colorscale": [
             [
              0,
              "#0d0887"
             ],
             [
              0.1111111111111111,
              "#46039f"
             ],
             [
              0.2222222222222222,
              "#7201a8"
             ],
             [
              0.3333333333333333,
              "#9c179e"
             ],
             [
              0.4444444444444444,
              "#bd3786"
             ],
             [
              0.5555555555555556,
              "#d8576b"
             ],
             [
              0.6666666666666666,
              "#ed7953"
             ],
             [
              0.7777777777777778,
              "#fb9f3a"
             ],
             [
              0.8888888888888888,
              "#fdca26"
             ],
             [
              1,
              "#f0f921"
             ]
            ],
            "type": "heatmapgl"
           }
          ],
          "histogram": [
           {
            "marker": {
             "pattern": {
              "fillmode": "overlay",
              "size": 10,
              "solidity": 0.2
             }
            },
            "type": "histogram"
           }
          ],
          "histogram2d": [
           {
            "colorbar": {
             "outlinewidth": 0,
             "ticks": ""
            },
            "colorscale": [
             [
              0,
              "#0d0887"
             ],
             [
              0.1111111111111111,
              "#46039f"
             ],
             [
              0.2222222222222222,
              "#7201a8"
             ],
             [
              0.3333333333333333,
              "#9c179e"
             ],
             [
              0.4444444444444444,
              "#bd3786"
             ],
             [
              0.5555555555555556,
              "#d8576b"
             ],
             [
              0.6666666666666666,
              "#ed7953"
             ],
             [
              0.7777777777777778,
              "#fb9f3a"
             ],
             [
              0.8888888888888888,
              "#fdca26"
             ],
             [
              1,
              "#f0f921"
             ]
            ],
            "type": "histogram2d"
           }
          ],
          "histogram2dcontour": [
           {
            "colorbar": {
             "outlinewidth": 0,
             "ticks": ""
            },
            "colorscale": [
             [
              0,
              "#0d0887"
             ],
             [
              0.1111111111111111,
              "#46039f"
             ],
             [
              0.2222222222222222,
              "#7201a8"
             ],
             [
              0.3333333333333333,
              "#9c179e"
             ],
             [
              0.4444444444444444,
              "#bd3786"
             ],
             [
              0.5555555555555556,
              "#d8576b"
             ],
             [
              0.6666666666666666,
              "#ed7953"
             ],
             [
              0.7777777777777778,
              "#fb9f3a"
             ],
             [
              0.8888888888888888,
              "#fdca26"
             ],
             [
              1,
              "#f0f921"
             ]
            ],
            "type": "histogram2dcontour"
           }
          ],
          "mesh3d": [
           {
            "colorbar": {
             "outlinewidth": 0,
             "ticks": ""
            },
            "type": "mesh3d"
           }
          ],
          "parcoords": [
           {
            "line": {
             "colorbar": {
              "outlinewidth": 0,
              "ticks": ""
             }
            },
            "type": "parcoords"
           }
          ],
          "pie": [
           {
            "automargin": true,
            "type": "pie"
           }
          ],
          "scatter": [
           {
            "fillpattern": {
             "fillmode": "overlay",
             "size": 10,
             "solidity": 0.2
            },
            "type": "scatter"
           }
          ],
          "scatter3d": [
           {
            "line": {
             "colorbar": {
              "outlinewidth": 0,
              "ticks": ""
             }
            },
            "marker": {
             "colorbar": {
              "outlinewidth": 0,
              "ticks": ""
             }
            },
            "type": "scatter3d"
           }
          ],
          "scattercarpet": [
           {
            "marker": {
             "colorbar": {
              "outlinewidth": 0,
              "ticks": ""
             }
            },
            "type": "scattercarpet"
           }
          ],
          "scattergeo": [
           {
            "marker": {
             "colorbar": {
              "outlinewidth": 0,
              "ticks": ""
             }
            },
            "type": "scattergeo"
           }
          ],
          "scattergl": [
           {
            "marker": {
             "colorbar": {
              "outlinewidth": 0,
              "ticks": ""
             }
            },
            "type": "scattergl"
           }
          ],
          "scattermapbox": [
           {
            "marker": {
             "colorbar": {
              "outlinewidth": 0,
              "ticks": ""
             }
            },
            "type": "scattermapbox"
           }
          ],
          "scatterpolar": [
           {
            "marker": {
             "colorbar": {
              "outlinewidth": 0,
              "ticks": ""
             }
            },
            "type": "scatterpolar"
           }
          ],
          "scatterpolargl": [
           {
            "marker": {
             "colorbar": {
              "outlinewidth": 0,
              "ticks": ""
             }
            },
            "type": "scatterpolargl"
           }
          ],
          "scatterternary": [
           {
            "marker": {
             "colorbar": {
              "outlinewidth": 0,
              "ticks": ""
             }
            },
            "type": "scatterternary"
           }
          ],
          "surface": [
           {
            "colorbar": {
             "outlinewidth": 0,
             "ticks": ""
            },
            "colorscale": [
             [
              0,
              "#0d0887"
             ],
             [
              0.1111111111111111,
              "#46039f"
             ],
             [
              0.2222222222222222,
              "#7201a8"
             ],
             [
              0.3333333333333333,
              "#9c179e"
             ],
             [
              0.4444444444444444,
              "#bd3786"
             ],
             [
              0.5555555555555556,
              "#d8576b"
             ],
             [
              0.6666666666666666,
              "#ed7953"
             ],
             [
              0.7777777777777778,
              "#fb9f3a"
             ],
             [
              0.8888888888888888,
              "#fdca26"
             ],
             [
              1,
              "#f0f921"
             ]
            ],
            "type": "surface"
           }
          ],
          "table": [
           {
            "cells": {
             "fill": {
              "color": "#EBF0F8"
             },
             "line": {
              "color": "white"
             }
            },
            "header": {
             "fill": {
              "color": "#C8D4E3"
             },
             "line": {
              "color": "white"
             }
            },
            "type": "table"
           }
          ]
         },
         "layout": {
          "annotationdefaults": {
           "arrowcolor": "#2a3f5f",
           "arrowhead": 0,
           "arrowwidth": 1
          },
          "autotypenumbers": "strict",
          "coloraxis": {
           "colorbar": {
            "outlinewidth": 0,
            "ticks": ""
           }
          },
          "colorscale": {
           "diverging": [
            [
             0,
             "#8e0152"
            ],
            [
             0.1,
             "#c51b7d"
            ],
            [
             0.2,
             "#de77ae"
            ],
            [
             0.3,
             "#f1b6da"
            ],
            [
             0.4,
             "#fde0ef"
            ],
            [
             0.5,
             "#f7f7f7"
            ],
            [
             0.6,
             "#e6f5d0"
            ],
            [
             0.7,
             "#b8e186"
            ],
            [
             0.8,
             "#7fbc41"
            ],
            [
             0.9,
             "#4d9221"
            ],
            [
             1,
             "#276419"
            ]
           ],
           "sequential": [
            [
             0,
             "#0d0887"
            ],
            [
             0.1111111111111111,
             "#46039f"
            ],
            [
             0.2222222222222222,
             "#7201a8"
            ],
            [
             0.3333333333333333,
             "#9c179e"
            ],
            [
             0.4444444444444444,
             "#bd3786"
            ],
            [
             0.5555555555555556,
             "#d8576b"
            ],
            [
             0.6666666666666666,
             "#ed7953"
            ],
            [
             0.7777777777777778,
             "#fb9f3a"
            ],
            [
             0.8888888888888888,
             "#fdca26"
            ],
            [
             1,
             "#f0f921"
            ]
           ],
           "sequentialminus": [
            [
             0,
             "#0d0887"
            ],
            [
             0.1111111111111111,
             "#46039f"
            ],
            [
             0.2222222222222222,
             "#7201a8"
            ],
            [
             0.3333333333333333,
             "#9c179e"
            ],
            [
             0.4444444444444444,
             "#bd3786"
            ],
            [
             0.5555555555555556,
             "#d8576b"
            ],
            [
             0.6666666666666666,
             "#ed7953"
            ],
            [
             0.7777777777777778,
             "#fb9f3a"
            ],
            [
             0.8888888888888888,
             "#fdca26"
            ],
            [
             1,
             "#f0f921"
            ]
           ]
          },
          "colorway": [
           "#636efa",
           "#EF553B",
           "#00cc96",
           "#ab63fa",
           "#FFA15A",
           "#19d3f3",
           "#FF6692",
           "#B6E880",
           "#FF97FF",
           "#FECB52"
          ],
          "font": {
           "color": "#2a3f5f"
          },
          "geo": {
           "bgcolor": "white",
           "lakecolor": "white",
           "landcolor": "#E5ECF6",
           "showlakes": true,
           "showland": true,
           "subunitcolor": "white"
          },
          "hoverlabel": {
           "align": "left"
          },
          "hovermode": "closest",
          "mapbox": {
           "style": "light"
          },
          "paper_bgcolor": "white",
          "plot_bgcolor": "#E5ECF6",
          "polar": {
           "angularaxis": {
            "gridcolor": "white",
            "linecolor": "white",
            "ticks": ""
           },
           "bgcolor": "#E5ECF6",
           "radialaxis": {
            "gridcolor": "white",
            "linecolor": "white",
            "ticks": ""
           }
          },
          "scene": {
           "xaxis": {
            "backgroundcolor": "#E5ECF6",
            "gridcolor": "white",
            "gridwidth": 2,
            "linecolor": "white",
            "showbackground": true,
            "ticks": "",
            "zerolinecolor": "white"
           },
           "yaxis": {
            "backgroundcolor": "#E5ECF6",
            "gridcolor": "white",
            "gridwidth": 2,
            "linecolor": "white",
            "showbackground": true,
            "ticks": "",
            "zerolinecolor": "white"
           },
           "zaxis": {
            "backgroundcolor": "#E5ECF6",
            "gridcolor": "white",
            "gridwidth": 2,
            "linecolor": "white",
            "showbackground": true,
            "ticks": "",
            "zerolinecolor": "white"
           }
          },
          "shapedefaults": {
           "line": {
            "color": "#2a3f5f"
           }
          },
          "ternary": {
           "aaxis": {
            "gridcolor": "white",
            "linecolor": "white",
            "ticks": ""
           },
           "baxis": {
            "gridcolor": "white",
            "linecolor": "white",
            "ticks": ""
           },
           "bgcolor": "#E5ECF6",
           "caxis": {
            "gridcolor": "white",
            "linecolor": "white",
            "ticks": ""
           }
          },
          "title": {
           "x": 0.05
          },
          "xaxis": {
           "automargin": true,
           "gridcolor": "white",
           "linecolor": "white",
           "ticks": "",
           "title": {
            "standoff": 15
           },
           "zerolinecolor": "white",
           "zerolinewidth": 2
          },
          "yaxis": {
           "automargin": true,
           "gridcolor": "white",
           "linecolor": "white",
           "ticks": "",
           "title": {
            "standoff": 15
           },
           "zerolinecolor": "white",
           "zerolinewidth": 2
          }
         }
        },
        "title": {
         "text": "Optimization History Plot"
        },
        "xaxis": {
         "title": {
          "text": "Trial"
         }
        },
        "yaxis": {
         "title": {
          "text": "Objective Value"
         }
        }
       }
      }
     },
     "metadata": {},
     "output_type": "display_data"
    }
   ],
   "source": [
    "import optuna.visualization as vis\n",
    "# Plot optimization history\n",
    "vis.plot_optimization_history(study)"
   ]
  },
  {
   "cell_type": "code",
   "execution_count": 78,
   "id": "ea323443",
   "metadata": {},
   "outputs": [
    {
     "data": {
      "application/vnd.plotly.v1+json": {
       "config": {
        "plotlyServerURL": "https://plot.ly"
       },
       "data": [
        {
         "cliponaxis": false,
         "hovertemplate": [
          "depth (IntDistribution): 0.0<extra></extra>",
          "n_estimators_rf_f (IntDistribution): 0.056277512977083305<extra></extra>",
          "random_strength (FloatDistribution): 0.05743226108147871<extra></extra>",
          "n_estimators_rf (IntDistribution): 0.07136853541893841<extra></extra>",
          "l2_leaf_reg (FloatDistribution): 0.09417958917707833<extra></extra>",
          "bagging_temperature (FloatDistribution): 0.13759108469399545<extra></extra>",
          "learning_rate (FloatDistribution): 0.14101622686950133<extra></extra>",
          "max_leaf_nodes (IntDistribution): 0.16603136618725617<extra></extra>",
          "n_estimators (IntDistribution): 0.27610342359466833<extra></extra>"
         ],
         "name": "Objective Value",
         "orientation": "h",
         "text": [
          "<0.01",
          "0.06",
          "0.06",
          "0.07",
          "0.09",
          "0.14",
          "0.14",
          "0.17",
          "0.28"
         ],
         "textposition": "outside",
         "type": "bar",
         "x": [
          0,
          0.056277512977083305,
          0.05743226108147871,
          0.07136853541893841,
          0.09417958917707833,
          0.13759108469399545,
          0.14101622686950133,
          0.16603136618725617,
          0.27610342359466833
         ],
         "y": [
          "depth",
          "n_estimators_rf_f",
          "random_strength",
          "n_estimators_rf",
          "l2_leaf_reg",
          "bagging_temperature",
          "learning_rate",
          "max_leaf_nodes",
          "n_estimators"
         ]
        }
       ],
       "layout": {
        "template": {
         "data": {
          "bar": [
           {
            "error_x": {
             "color": "#2a3f5f"
            },
            "error_y": {
             "color": "#2a3f5f"
            },
            "marker": {
             "line": {
              "color": "#E5ECF6",
              "width": 0.5
             },
             "pattern": {
              "fillmode": "overlay",
              "size": 10,
              "solidity": 0.2
             }
            },
            "type": "bar"
           }
          ],
          "barpolar": [
           {
            "marker": {
             "line": {
              "color": "#E5ECF6",
              "width": 0.5
             },
             "pattern": {
              "fillmode": "overlay",
              "size": 10,
              "solidity": 0.2
             }
            },
            "type": "barpolar"
           }
          ],
          "carpet": [
           {
            "aaxis": {
             "endlinecolor": "#2a3f5f",
             "gridcolor": "white",
             "linecolor": "white",
             "minorgridcolor": "white",
             "startlinecolor": "#2a3f5f"
            },
            "baxis": {
             "endlinecolor": "#2a3f5f",
             "gridcolor": "white",
             "linecolor": "white",
             "minorgridcolor": "white",
             "startlinecolor": "#2a3f5f"
            },
            "type": "carpet"
           }
          ],
          "choropleth": [
           {
            "colorbar": {
             "outlinewidth": 0,
             "ticks": ""
            },
            "type": "choropleth"
           }
          ],
          "contour": [
           {
            "colorbar": {
             "outlinewidth": 0,
             "ticks": ""
            },
            "colorscale": [
             [
              0,
              "#0d0887"
             ],
             [
              0.1111111111111111,
              "#46039f"
             ],
             [
              0.2222222222222222,
              "#7201a8"
             ],
             [
              0.3333333333333333,
              "#9c179e"
             ],
             [
              0.4444444444444444,
              "#bd3786"
             ],
             [
              0.5555555555555556,
              "#d8576b"
             ],
             [
              0.6666666666666666,
              "#ed7953"
             ],
             [
              0.7777777777777778,
              "#fb9f3a"
             ],
             [
              0.8888888888888888,
              "#fdca26"
             ],
             [
              1,
              "#f0f921"
             ]
            ],
            "type": "contour"
           }
          ],
          "contourcarpet": [
           {
            "colorbar": {
             "outlinewidth": 0,
             "ticks": ""
            },
            "type": "contourcarpet"
           }
          ],
          "heatmap": [
           {
            "colorbar": {
             "outlinewidth": 0,
             "ticks": ""
            },
            "colorscale": [
             [
              0,
              "#0d0887"
             ],
             [
              0.1111111111111111,
              "#46039f"
             ],
             [
              0.2222222222222222,
              "#7201a8"
             ],
             [
              0.3333333333333333,
              "#9c179e"
             ],
             [
              0.4444444444444444,
              "#bd3786"
             ],
             [
              0.5555555555555556,
              "#d8576b"
             ],
             [
              0.6666666666666666,
              "#ed7953"
             ],
             [
              0.7777777777777778,
              "#fb9f3a"
             ],
             [
              0.8888888888888888,
              "#fdca26"
             ],
             [
              1,
              "#f0f921"
             ]
            ],
            "type": "heatmap"
           }
          ],
          "heatmapgl": [
           {
            "colorbar": {
             "outlinewidth": 0,
             "ticks": ""
            },
            "colorscale": [
             [
              0,
              "#0d0887"
             ],
             [
              0.1111111111111111,
              "#46039f"
             ],
             [
              0.2222222222222222,
              "#7201a8"
             ],
             [
              0.3333333333333333,
              "#9c179e"
             ],
             [
              0.4444444444444444,
              "#bd3786"
             ],
             [
              0.5555555555555556,
              "#d8576b"
             ],
             [
              0.6666666666666666,
              "#ed7953"
             ],
             [
              0.7777777777777778,
              "#fb9f3a"
             ],
             [
              0.8888888888888888,
              "#fdca26"
             ],
             [
              1,
              "#f0f921"
             ]
            ],
            "type": "heatmapgl"
           }
          ],
          "histogram": [
           {
            "marker": {
             "pattern": {
              "fillmode": "overlay",
              "size": 10,
              "solidity": 0.2
             }
            },
            "type": "histogram"
           }
          ],
          "histogram2d": [
           {
            "colorbar": {
             "outlinewidth": 0,
             "ticks": ""
            },
            "colorscale": [
             [
              0,
              "#0d0887"
             ],
             [
              0.1111111111111111,
              "#46039f"
             ],
             [
              0.2222222222222222,
              "#7201a8"
             ],
             [
              0.3333333333333333,
              "#9c179e"
             ],
             [
              0.4444444444444444,
              "#bd3786"
             ],
             [
              0.5555555555555556,
              "#d8576b"
             ],
             [
              0.6666666666666666,
              "#ed7953"
             ],
             [
              0.7777777777777778,
              "#fb9f3a"
             ],
             [
              0.8888888888888888,
              "#fdca26"
             ],
             [
              1,
              "#f0f921"
             ]
            ],
            "type": "histogram2d"
           }
          ],
          "histogram2dcontour": [
           {
            "colorbar": {
             "outlinewidth": 0,
             "ticks": ""
            },
            "colorscale": [
             [
              0,
              "#0d0887"
             ],
             [
              0.1111111111111111,
              "#46039f"
             ],
             [
              0.2222222222222222,
              "#7201a8"
             ],
             [
              0.3333333333333333,
              "#9c179e"
             ],
             [
              0.4444444444444444,
              "#bd3786"
             ],
             [
              0.5555555555555556,
              "#d8576b"
             ],
             [
              0.6666666666666666,
              "#ed7953"
             ],
             [
              0.7777777777777778,
              "#fb9f3a"
             ],
             [
              0.8888888888888888,
              "#fdca26"
             ],
             [
              1,
              "#f0f921"
             ]
            ],
            "type": "histogram2dcontour"
           }
          ],
          "mesh3d": [
           {
            "colorbar": {
             "outlinewidth": 0,
             "ticks": ""
            },
            "type": "mesh3d"
           }
          ],
          "parcoords": [
           {
            "line": {
             "colorbar": {
              "outlinewidth": 0,
              "ticks": ""
             }
            },
            "type": "parcoords"
           }
          ],
          "pie": [
           {
            "automargin": true,
            "type": "pie"
           }
          ],
          "scatter": [
           {
            "fillpattern": {
             "fillmode": "overlay",
             "size": 10,
             "solidity": 0.2
            },
            "type": "scatter"
           }
          ],
          "scatter3d": [
           {
            "line": {
             "colorbar": {
              "outlinewidth": 0,
              "ticks": ""
             }
            },
            "marker": {
             "colorbar": {
              "outlinewidth": 0,
              "ticks": ""
             }
            },
            "type": "scatter3d"
           }
          ],
          "scattercarpet": [
           {
            "marker": {
             "colorbar": {
              "outlinewidth": 0,
              "ticks": ""
             }
            },
            "type": "scattercarpet"
           }
          ],
          "scattergeo": [
           {
            "marker": {
             "colorbar": {
              "outlinewidth": 0,
              "ticks": ""
             }
            },
            "type": "scattergeo"
           }
          ],
          "scattergl": [
           {
            "marker": {
             "colorbar": {
              "outlinewidth": 0,
              "ticks": ""
             }
            },
            "type": "scattergl"
           }
          ],
          "scattermapbox": [
           {
            "marker": {
             "colorbar": {
              "outlinewidth": 0,
              "ticks": ""
             }
            },
            "type": "scattermapbox"
           }
          ],
          "scatterpolar": [
           {
            "marker": {
             "colorbar": {
              "outlinewidth": 0,
              "ticks": ""
             }
            },
            "type": "scatterpolar"
           }
          ],
          "scatterpolargl": [
           {
            "marker": {
             "colorbar": {
              "outlinewidth": 0,
              "ticks": ""
             }
            },
            "type": "scatterpolargl"
           }
          ],
          "scatterternary": [
           {
            "marker": {
             "colorbar": {
              "outlinewidth": 0,
              "ticks": ""
             }
            },
            "type": "scatterternary"
           }
          ],
          "surface": [
           {
            "colorbar": {
             "outlinewidth": 0,
             "ticks": ""
            },
            "colorscale": [
             [
              0,
              "#0d0887"
             ],
             [
              0.1111111111111111,
              "#46039f"
             ],
             [
              0.2222222222222222,
              "#7201a8"
             ],
             [
              0.3333333333333333,
              "#9c179e"
             ],
             [
              0.4444444444444444,
              "#bd3786"
             ],
             [
              0.5555555555555556,
              "#d8576b"
             ],
             [
              0.6666666666666666,
              "#ed7953"
             ],
             [
              0.7777777777777778,
              "#fb9f3a"
             ],
             [
              0.8888888888888888,
              "#fdca26"
             ],
             [
              1,
              "#f0f921"
             ]
            ],
            "type": "surface"
           }
          ],
          "table": [
           {
            "cells": {
             "fill": {
              "color": "#EBF0F8"
             },
             "line": {
              "color": "white"
             }
            },
            "header": {
             "fill": {
              "color": "#C8D4E3"
             },
             "line": {
              "color": "white"
             }
            },
            "type": "table"
           }
          ]
         },
         "layout": {
          "annotationdefaults": {
           "arrowcolor": "#2a3f5f",
           "arrowhead": 0,
           "arrowwidth": 1
          },
          "autotypenumbers": "strict",
          "coloraxis": {
           "colorbar": {
            "outlinewidth": 0,
            "ticks": ""
           }
          },
          "colorscale": {
           "diverging": [
            [
             0,
             "#8e0152"
            ],
            [
             0.1,
             "#c51b7d"
            ],
            [
             0.2,
             "#de77ae"
            ],
            [
             0.3,
             "#f1b6da"
            ],
            [
             0.4,
             "#fde0ef"
            ],
            [
             0.5,
             "#f7f7f7"
            ],
            [
             0.6,
             "#e6f5d0"
            ],
            [
             0.7,
             "#b8e186"
            ],
            [
             0.8,
             "#7fbc41"
            ],
            [
             0.9,
             "#4d9221"
            ],
            [
             1,
             "#276419"
            ]
           ],
           "sequential": [
            [
             0,
             "#0d0887"
            ],
            [
             0.1111111111111111,
             "#46039f"
            ],
            [
             0.2222222222222222,
             "#7201a8"
            ],
            [
             0.3333333333333333,
             "#9c179e"
            ],
            [
             0.4444444444444444,
             "#bd3786"
            ],
            [
             0.5555555555555556,
             "#d8576b"
            ],
            [
             0.6666666666666666,
             "#ed7953"
            ],
            [
             0.7777777777777778,
             "#fb9f3a"
            ],
            [
             0.8888888888888888,
             "#fdca26"
            ],
            [
             1,
             "#f0f921"
            ]
           ],
           "sequentialminus": [
            [
             0,
             "#0d0887"
            ],
            [
             0.1111111111111111,
             "#46039f"
            ],
            [
             0.2222222222222222,
             "#7201a8"
            ],
            [
             0.3333333333333333,
             "#9c179e"
            ],
            [
             0.4444444444444444,
             "#bd3786"
            ],
            [
             0.5555555555555556,
             "#d8576b"
            ],
            [
             0.6666666666666666,
             "#ed7953"
            ],
            [
             0.7777777777777778,
             "#fb9f3a"
            ],
            [
             0.8888888888888888,
             "#fdca26"
            ],
            [
             1,
             "#f0f921"
            ]
           ]
          },
          "colorway": [
           "#636efa",
           "#EF553B",
           "#00cc96",
           "#ab63fa",
           "#FFA15A",
           "#19d3f3",
           "#FF6692",
           "#B6E880",
           "#FF97FF",
           "#FECB52"
          ],
          "font": {
           "color": "#2a3f5f"
          },
          "geo": {
           "bgcolor": "white",
           "lakecolor": "white",
           "landcolor": "#E5ECF6",
           "showlakes": true,
           "showland": true,
           "subunitcolor": "white"
          },
          "hoverlabel": {
           "align": "left"
          },
          "hovermode": "closest",
          "mapbox": {
           "style": "light"
          },
          "paper_bgcolor": "white",
          "plot_bgcolor": "#E5ECF6",
          "polar": {
           "angularaxis": {
            "gridcolor": "white",
            "linecolor": "white",
            "ticks": ""
           },
           "bgcolor": "#E5ECF6",
           "radialaxis": {
            "gridcolor": "white",
            "linecolor": "white",
            "ticks": ""
           }
          },
          "scene": {
           "xaxis": {
            "backgroundcolor": "#E5ECF6",
            "gridcolor": "white",
            "gridwidth": 2,
            "linecolor": "white",
            "showbackground": true,
            "ticks": "",
            "zerolinecolor": "white"
           },
           "yaxis": {
            "backgroundcolor": "#E5ECF6",
            "gridcolor": "white",
            "gridwidth": 2,
            "linecolor": "white",
            "showbackground": true,
            "ticks": "",
            "zerolinecolor": "white"
           },
           "zaxis": {
            "backgroundcolor": "#E5ECF6",
            "gridcolor": "white",
            "gridwidth": 2,
            "linecolor": "white",
            "showbackground": true,
            "ticks": "",
            "zerolinecolor": "white"
           }
          },
          "shapedefaults": {
           "line": {
            "color": "#2a3f5f"
           }
          },
          "ternary": {
           "aaxis": {
            "gridcolor": "white",
            "linecolor": "white",
            "ticks": ""
           },
           "baxis": {
            "gridcolor": "white",
            "linecolor": "white",
            "ticks": ""
           },
           "bgcolor": "#E5ECF6",
           "caxis": {
            "gridcolor": "white",
            "linecolor": "white",
            "ticks": ""
           }
          },
          "title": {
           "x": 0.05
          },
          "xaxis": {
           "automargin": true,
           "gridcolor": "white",
           "linecolor": "white",
           "ticks": "",
           "title": {
            "standoff": 15
           },
           "zerolinecolor": "white",
           "zerolinewidth": 2
          },
          "yaxis": {
           "automargin": true,
           "gridcolor": "white",
           "linecolor": "white",
           "ticks": "",
           "title": {
            "standoff": 15
           },
           "zerolinecolor": "white",
           "zerolinewidth": 2
          }
         }
        },
        "title": {
         "text": "Hyperparameter Importances"
        },
        "xaxis": {
         "title": {
          "text": "Hyperparameter Importance"
         }
        },
        "yaxis": {
         "title": {
          "text": "Hyperparameter"
         }
        }
       }
      }
     },
     "metadata": {},
     "output_type": "display_data"
    }
   ],
   "source": [
    "# Plot parameter importance\n",
    "vis.plot_param_importances(study)"
   ]
  },
  {
   "cell_type": "code",
   "execution_count": 79,
   "id": "cb2aef77",
   "metadata": {},
   "outputs": [
    {
     "data": {
      "application/vnd.plotly.v1+json": {
       "config": {
        "plotlyServerURL": "https://plot.ly"
       },
       "data": [
        {
         "marker": {
          "color": [
           0,
           1,
           2
          ],
          "colorbar": {
           "title": {
            "text": "Trial"
           },
           "x": 1,
           "xpad": 40
          },
          "colorscale": [
           [
            0,
            "rgb(247,251,255)"
           ],
           [
            0.125,
            "rgb(222,235,247)"
           ],
           [
            0.25,
            "rgb(198,219,239)"
           ],
           [
            0.375,
            "rgb(158,202,225)"
           ],
           [
            0.5,
            "rgb(107,174,214)"
           ],
           [
            0.625,
            "rgb(66,146,198)"
           ],
           [
            0.75,
            "rgb(33,113,181)"
           ],
           [
            0.875,
            "rgb(8,81,156)"
           ],
           [
            1,
            "rgb(8,48,107)"
           ]
          ],
          "line": {
           "color": "Grey",
           "width": 0.5
          },
          "showscale": true
         },
         "mode": "markers",
         "name": "Feasible Trial",
         "showlegend": false,
         "type": "scatter",
         "x": [
          3,
          3,
          3
         ],
         "xaxis": "x",
         "y": [
          0.05509023693701035,
          0.03569764767501782,
          0.04860863627663351
         ],
         "yaxis": "y"
        },
        {
         "marker": {
          "color": [
           0,
           1,
           2
          ],
          "colorbar": {
           "title": {
            "text": "Trial"
           },
           "x": 1,
           "xpad": 40
          },
          "colorscale": [
           [
            0,
            "rgb(247,251,255)"
           ],
           [
            0.125,
            "rgb(222,235,247)"
           ],
           [
            0.25,
            "rgb(198,219,239)"
           ],
           [
            0.375,
            "rgb(158,202,225)"
           ],
           [
            0.5,
            "rgb(107,174,214)"
           ],
           [
            0.625,
            "rgb(66,146,198)"
           ],
           [
            0.75,
            "rgb(33,113,181)"
           ],
           [
            0.875,
            "rgb(8,81,156)"
           ],
           [
            1,
            "rgb(8,48,107)"
           ]
          ],
          "line": {
           "color": "Grey",
           "width": 0.5
          },
          "showscale": false
         },
         "mode": "markers",
         "name": "Feasible Trial",
         "showlegend": false,
         "type": "scatter",
         "x": [
          2,
          3,
          2
         ],
         "xaxis": "x2",
         "y": [
          0.05509023693701035,
          0.03569764767501782,
          0.04860863627663351
         ],
         "yaxis": "y2"
        }
       ],
       "layout": {
        "template": {
         "data": {
          "bar": [
           {
            "error_x": {
             "color": "#2a3f5f"
            },
            "error_y": {
             "color": "#2a3f5f"
            },
            "marker": {
             "line": {
              "color": "#E5ECF6",
              "width": 0.5
             },
             "pattern": {
              "fillmode": "overlay",
              "size": 10,
              "solidity": 0.2
             }
            },
            "type": "bar"
           }
          ],
          "barpolar": [
           {
            "marker": {
             "line": {
              "color": "#E5ECF6",
              "width": 0.5
             },
             "pattern": {
              "fillmode": "overlay",
              "size": 10,
              "solidity": 0.2
             }
            },
            "type": "barpolar"
           }
          ],
          "carpet": [
           {
            "aaxis": {
             "endlinecolor": "#2a3f5f",
             "gridcolor": "white",
             "linecolor": "white",
             "minorgridcolor": "white",
             "startlinecolor": "#2a3f5f"
            },
            "baxis": {
             "endlinecolor": "#2a3f5f",
             "gridcolor": "white",
             "linecolor": "white",
             "minorgridcolor": "white",
             "startlinecolor": "#2a3f5f"
            },
            "type": "carpet"
           }
          ],
          "choropleth": [
           {
            "colorbar": {
             "outlinewidth": 0,
             "ticks": ""
            },
            "type": "choropleth"
           }
          ],
          "contour": [
           {
            "colorbar": {
             "outlinewidth": 0,
             "ticks": ""
            },
            "colorscale": [
             [
              0,
              "#0d0887"
             ],
             [
              0.1111111111111111,
              "#46039f"
             ],
             [
              0.2222222222222222,
              "#7201a8"
             ],
             [
              0.3333333333333333,
              "#9c179e"
             ],
             [
              0.4444444444444444,
              "#bd3786"
             ],
             [
              0.5555555555555556,
              "#d8576b"
             ],
             [
              0.6666666666666666,
              "#ed7953"
             ],
             [
              0.7777777777777778,
              "#fb9f3a"
             ],
             [
              0.8888888888888888,
              "#fdca26"
             ],
             [
              1,
              "#f0f921"
             ]
            ],
            "type": "contour"
           }
          ],
          "contourcarpet": [
           {
            "colorbar": {
             "outlinewidth": 0,
             "ticks": ""
            },
            "type": "contourcarpet"
           }
          ],
          "heatmap": [
           {
            "colorbar": {
             "outlinewidth": 0,
             "ticks": ""
            },
            "colorscale": [
             [
              0,
              "#0d0887"
             ],
             [
              0.1111111111111111,
              "#46039f"
             ],
             [
              0.2222222222222222,
              "#7201a8"
             ],
             [
              0.3333333333333333,
              "#9c179e"
             ],
             [
              0.4444444444444444,
              "#bd3786"
             ],
             [
              0.5555555555555556,
              "#d8576b"
             ],
             [
              0.6666666666666666,
              "#ed7953"
             ],
             [
              0.7777777777777778,
              "#fb9f3a"
             ],
             [
              0.8888888888888888,
              "#fdca26"
             ],
             [
              1,
              "#f0f921"
             ]
            ],
            "type": "heatmap"
           }
          ],
          "heatmapgl": [
           {
            "colorbar": {
             "outlinewidth": 0,
             "ticks": ""
            },
            "colorscale": [
             [
              0,
              "#0d0887"
             ],
             [
              0.1111111111111111,
              "#46039f"
             ],
             [
              0.2222222222222222,
              "#7201a8"
             ],
             [
              0.3333333333333333,
              "#9c179e"
             ],
             [
              0.4444444444444444,
              "#bd3786"
             ],
             [
              0.5555555555555556,
              "#d8576b"
             ],
             [
              0.6666666666666666,
              "#ed7953"
             ],
             [
              0.7777777777777778,
              "#fb9f3a"
             ],
             [
              0.8888888888888888,
              "#fdca26"
             ],
             [
              1,
              "#f0f921"
             ]
            ],
            "type": "heatmapgl"
           }
          ],
          "histogram": [
           {
            "marker": {
             "pattern": {
              "fillmode": "overlay",
              "size": 10,
              "solidity": 0.2
             }
            },
            "type": "histogram"
           }
          ],
          "histogram2d": [
           {
            "colorbar": {
             "outlinewidth": 0,
             "ticks": ""
            },
            "colorscale": [
             [
              0,
              "#0d0887"
             ],
             [
              0.1111111111111111,
              "#46039f"
             ],
             [
              0.2222222222222222,
              "#7201a8"
             ],
             [
              0.3333333333333333,
              "#9c179e"
             ],
             [
              0.4444444444444444,
              "#bd3786"
             ],
             [
              0.5555555555555556,
              "#d8576b"
             ],
             [
              0.6666666666666666,
              "#ed7953"
             ],
             [
              0.7777777777777778,
              "#fb9f3a"
             ],
             [
              0.8888888888888888,
              "#fdca26"
             ],
             [
              1,
              "#f0f921"
             ]
            ],
            "type": "histogram2d"
           }
          ],
          "histogram2dcontour": [
           {
            "colorbar": {
             "outlinewidth": 0,
             "ticks": ""
            },
            "colorscale": [
             [
              0,
              "#0d0887"
             ],
             [
              0.1111111111111111,
              "#46039f"
             ],
             [
              0.2222222222222222,
              "#7201a8"
             ],
             [
              0.3333333333333333,
              "#9c179e"
             ],
             [
              0.4444444444444444,
              "#bd3786"
             ],
             [
              0.5555555555555556,
              "#d8576b"
             ],
             [
              0.6666666666666666,
              "#ed7953"
             ],
             [
              0.7777777777777778,
              "#fb9f3a"
             ],
             [
              0.8888888888888888,
              "#fdca26"
             ],
             [
              1,
              "#f0f921"
             ]
            ],
            "type": "histogram2dcontour"
           }
          ],
          "mesh3d": [
           {
            "colorbar": {
             "outlinewidth": 0,
             "ticks": ""
            },
            "type": "mesh3d"
           }
          ],
          "parcoords": [
           {
            "line": {
             "colorbar": {
              "outlinewidth": 0,
              "ticks": ""
             }
            },
            "type": "parcoords"
           }
          ],
          "pie": [
           {
            "automargin": true,
            "type": "pie"
           }
          ],
          "scatter": [
           {
            "fillpattern": {
             "fillmode": "overlay",
             "size": 10,
             "solidity": 0.2
            },
            "type": "scatter"
           }
          ],
          "scatter3d": [
           {
            "line": {
             "colorbar": {
              "outlinewidth": 0,
              "ticks": ""
             }
            },
            "marker": {
             "colorbar": {
              "outlinewidth": 0,
              "ticks": ""
             }
            },
            "type": "scatter3d"
           }
          ],
          "scattercarpet": [
           {
            "marker": {
             "colorbar": {
              "outlinewidth": 0,
              "ticks": ""
             }
            },
            "type": "scattercarpet"
           }
          ],
          "scattergeo": [
           {
            "marker": {
             "colorbar": {
              "outlinewidth": 0,
              "ticks": ""
             }
            },
            "type": "scattergeo"
           }
          ],
          "scattergl": [
           {
            "marker": {
             "colorbar": {
              "outlinewidth": 0,
              "ticks": ""
             }
            },
            "type": "scattergl"
           }
          ],
          "scattermapbox": [
           {
            "marker": {
             "colorbar": {
              "outlinewidth": 0,
              "ticks": ""
             }
            },
            "type": "scattermapbox"
           }
          ],
          "scatterpolar": [
           {
            "marker": {
             "colorbar": {
              "outlinewidth": 0,
              "ticks": ""
             }
            },
            "type": "scatterpolar"
           }
          ],
          "scatterpolargl": [
           {
            "marker": {
             "colorbar": {
              "outlinewidth": 0,
              "ticks": ""
             }
            },
            "type": "scatterpolargl"
           }
          ],
          "scatterternary": [
           {
            "marker": {
             "colorbar": {
              "outlinewidth": 0,
              "ticks": ""
             }
            },
            "type": "scatterternary"
           }
          ],
          "surface": [
           {
            "colorbar": {
             "outlinewidth": 0,
             "ticks": ""
            },
            "colorscale": [
             [
              0,
              "#0d0887"
             ],
             [
              0.1111111111111111,
              "#46039f"
             ],
             [
              0.2222222222222222,
              "#7201a8"
             ],
             [
              0.3333333333333333,
              "#9c179e"
             ],
             [
              0.4444444444444444,
              "#bd3786"
             ],
             [
              0.5555555555555556,
              "#d8576b"
             ],
             [
              0.6666666666666666,
              "#ed7953"
             ],
             [
              0.7777777777777778,
              "#fb9f3a"
             ],
             [
              0.8888888888888888,
              "#fdca26"
             ],
             [
              1,
              "#f0f921"
             ]
            ],
            "type": "surface"
           }
          ],
          "table": [
           {
            "cells": {
             "fill": {
              "color": "#EBF0F8"
             },
             "line": {
              "color": "white"
             }
            },
            "header": {
             "fill": {
              "color": "#C8D4E3"
             },
             "line": {
              "color": "white"
             }
            },
            "type": "table"
           }
          ]
         },
         "layout": {
          "annotationdefaults": {
           "arrowcolor": "#2a3f5f",
           "arrowhead": 0,
           "arrowwidth": 1
          },
          "autotypenumbers": "strict",
          "coloraxis": {
           "colorbar": {
            "outlinewidth": 0,
            "ticks": ""
           }
          },
          "colorscale": {
           "diverging": [
            [
             0,
             "#8e0152"
            ],
            [
             0.1,
             "#c51b7d"
            ],
            [
             0.2,
             "#de77ae"
            ],
            [
             0.3,
             "#f1b6da"
            ],
            [
             0.4,
             "#fde0ef"
            ],
            [
             0.5,
             "#f7f7f7"
            ],
            [
             0.6,
             "#e6f5d0"
            ],
            [
             0.7,
             "#b8e186"
            ],
            [
             0.8,
             "#7fbc41"
            ],
            [
             0.9,
             "#4d9221"
            ],
            [
             1,
             "#276419"
            ]
           ],
           "sequential": [
            [
             0,
             "#0d0887"
            ],
            [
             0.1111111111111111,
             "#46039f"
            ],
            [
             0.2222222222222222,
             "#7201a8"
            ],
            [
             0.3333333333333333,
             "#9c179e"
            ],
            [
             0.4444444444444444,
             "#bd3786"
            ],
            [
             0.5555555555555556,
             "#d8576b"
            ],
            [
             0.6666666666666666,
             "#ed7953"
            ],
            [
             0.7777777777777778,
             "#fb9f3a"
            ],
            [
             0.8888888888888888,
             "#fdca26"
            ],
            [
             1,
             "#f0f921"
            ]
           ],
           "sequentialminus": [
            [
             0,
             "#0d0887"
            ],
            [
             0.1111111111111111,
             "#46039f"
            ],
            [
             0.2222222222222222,
             "#7201a8"
            ],
            [
             0.3333333333333333,
             "#9c179e"
            ],
            [
             0.4444444444444444,
             "#bd3786"
            ],
            [
             0.5555555555555556,
             "#d8576b"
            ],
            [
             0.6666666666666666,
             "#ed7953"
            ],
            [
             0.7777777777777778,
             "#fb9f3a"
            ],
            [
             0.8888888888888888,
             "#fdca26"
            ],
            [
             1,
             "#f0f921"
            ]
           ]
          },
          "colorway": [
           "#636efa",
           "#EF553B",
           "#00cc96",
           "#ab63fa",
           "#FFA15A",
           "#19d3f3",
           "#FF6692",
           "#B6E880",
           "#FF97FF",
           "#FECB52"
          ],
          "font": {
           "color": "#2a3f5f"
          },
          "geo": {
           "bgcolor": "white",
           "lakecolor": "white",
           "landcolor": "#E5ECF6",
           "showlakes": true,
           "showland": true,
           "subunitcolor": "white"
          },
          "hoverlabel": {
           "align": "left"
          },
          "hovermode": "closest",
          "mapbox": {
           "style": "light"
          },
          "paper_bgcolor": "white",
          "plot_bgcolor": "#E5ECF6",
          "polar": {
           "angularaxis": {
            "gridcolor": "white",
            "linecolor": "white",
            "ticks": ""
           },
           "bgcolor": "#E5ECF6",
           "radialaxis": {
            "gridcolor": "white",
            "linecolor": "white",
            "ticks": ""
           }
          },
          "scene": {
           "xaxis": {
            "backgroundcolor": "#E5ECF6",
            "gridcolor": "white",
            "gridwidth": 2,
            "linecolor": "white",
            "showbackground": true,
            "ticks": "",
            "zerolinecolor": "white"
           },
           "yaxis": {
            "backgroundcolor": "#E5ECF6",
            "gridcolor": "white",
            "gridwidth": 2,
            "linecolor": "white",
            "showbackground": true,
            "ticks": "",
            "zerolinecolor": "white"
           },
           "zaxis": {
            "backgroundcolor": "#E5ECF6",
            "gridcolor": "white",
            "gridwidth": 2,
            "linecolor": "white",
            "showbackground": true,
            "ticks": "",
            "zerolinecolor": "white"
           }
          },
          "shapedefaults": {
           "line": {
            "color": "#2a3f5f"
           }
          },
          "ternary": {
           "aaxis": {
            "gridcolor": "white",
            "linecolor": "white",
            "ticks": ""
           },
           "baxis": {
            "gridcolor": "white",
            "linecolor": "white",
            "ticks": ""
           },
           "bgcolor": "#E5ECF6",
           "caxis": {
            "gridcolor": "white",
            "linecolor": "white",
            "ticks": ""
           }
          },
          "title": {
           "x": 0.05
          },
          "xaxis": {
           "automargin": true,
           "gridcolor": "white",
           "linecolor": "white",
           "ticks": "",
           "title": {
            "standoff": 15
           },
           "zerolinecolor": "white",
           "zerolinewidth": 2
          },
          "yaxis": {
           "automargin": true,
           "gridcolor": "white",
           "linecolor": "white",
           "ticks": "",
           "title": {
            "standoff": 15
           },
           "zerolinecolor": "white",
           "zerolinewidth": 2
          }
         }
        },
        "title": {
         "text": "Slice Plot"
        },
        "xaxis": {
         "anchor": "y",
         "domain": [
          0,
          0.45
         ],
         "title": {
          "text": "depth"
         }
        },
        "xaxis2": {
         "anchor": "y2",
         "domain": [
          0.55,
          1
         ],
         "title": {
          "text": "n_estimators"
         }
        },
        "yaxis": {
         "anchor": "x",
         "domain": [
          0,
          1
         ],
         "title": {
          "text": "Objective Value"
         }
        },
        "yaxis2": {
         "anchor": "x2",
         "domain": [
          0,
          1
         ],
         "matches": "y",
         "showticklabels": false
        }
       }
      }
     },
     "metadata": {},
     "output_type": "display_data"
    }
   ],
   "source": [
    "# Plot slice plot\n",
    "vis.plot_slice(study, params=[\"n_estimators\", \"depth\"])\n"
   ]
  },
  {
   "cell_type": "code",
   "execution_count": 80,
   "id": "daa90514",
   "metadata": {},
   "outputs": [
    {
     "data": {
      "application/vnd.plotly.v1+json": {
       "config": {
        "plotlyServerURL": "https://plot.ly"
       },
       "data": [
        {
         "dimensions": [
          {
           "label": "Objective Value",
           "range": [
            0.03569764767501782,
            0.05509023693701035
           ],
           "values": [
            0.05509023693701035,
            0.03569764767501782,
            0.04860863627663351
           ]
          },
          {
           "label": "bagging_temperature",
           "range": [
            0.022947139165526487,
            0.17151432317876836
           ],
           "values": [
            0.17151432317876836,
            0.022947139165526487,
            0.12628253986557292
           ]
          },
          {
           "label": "depth",
           "range": [
            3,
            3
           ],
           "values": [
            3,
            3,
            3
           ]
          },
          {
           "label": "l2_leaf_reg",
           "range": [
            2.638396471828324,
            7.990643877719572
           ],
           "values": [
            7.990643877719572,
            2.638396471828324,
            4.509413734347895
           ]
          },
          {
           "label": "learning_rate",
           "range": [
            -3.1254913643145987,
            -1.622256240197425
           ],
           "ticktext": [
            "0.000749",
            "0.001",
            "0.01",
            "0.0239"
           ],
           "tickvals": [
            -3.1254913643145987,
            -3,
            -2,
            -1.622256240197425
           ],
           "values": [
            -1.8103146550436235,
            -1.622256240197425,
            -3.1254913643145987
           ]
          },
          {
           "label": "max_leaf_nodes",
           "range": [
            2,
            10
           ],
           "values": [
            7,
            2,
            10
           ]
          },
          {
           "label": "n_estimators",
           "range": [
            2,
            3
           ],
           "values": [
            2,
            3,
            2
           ]
          },
          {
           "label": "n_estimators_rf",
           "range": [
            4,
            5
           ],
           "values": [
            4,
            5,
            5
           ]
          },
          {
           "label": "n_estimators_rf_f",
           "range": [
            4,
            5
           ],
           "values": [
            5,
            4,
            4
           ]
          },
          {
           "label": "random_strength",
           "range": [
            5.521575896383951,
            8.972452946636581
           ],
           "values": [
            5.521575896383951,
            6.020580406311131,
            8.972452946636581
           ]
          }
         ],
         "labelangle": 30,
         "labelside": "bottom",
         "line": {
          "color": [
           0.05509023693701035,
           0.03569764767501782,
           0.04860863627663351
          ],
          "colorbar": {
           "title": {
            "text": "Objective Value"
           }
          },
          "colorscale": [
           [
            0,
            "rgb(247,251,255)"
           ],
           [
            0.125,
            "rgb(222,235,247)"
           ],
           [
            0.25,
            "rgb(198,219,239)"
           ],
           [
            0.375,
            "rgb(158,202,225)"
           ],
           [
            0.5,
            "rgb(107,174,214)"
           ],
           [
            0.625,
            "rgb(66,146,198)"
           ],
           [
            0.75,
            "rgb(33,113,181)"
           ],
           [
            0.875,
            "rgb(8,81,156)"
           ],
           [
            1,
            "rgb(8,48,107)"
           ]
          ],
          "reversescale": false,
          "showscale": true
         },
         "type": "parcoords"
        }
       ],
       "layout": {
        "template": {
         "data": {
          "bar": [
           {
            "error_x": {
             "color": "#2a3f5f"
            },
            "error_y": {
             "color": "#2a3f5f"
            },
            "marker": {
             "line": {
              "color": "#E5ECF6",
              "width": 0.5
             },
             "pattern": {
              "fillmode": "overlay",
              "size": 10,
              "solidity": 0.2
             }
            },
            "type": "bar"
           }
          ],
          "barpolar": [
           {
            "marker": {
             "line": {
              "color": "#E5ECF6",
              "width": 0.5
             },
             "pattern": {
              "fillmode": "overlay",
              "size": 10,
              "solidity": 0.2
             }
            },
            "type": "barpolar"
           }
          ],
          "carpet": [
           {
            "aaxis": {
             "endlinecolor": "#2a3f5f",
             "gridcolor": "white",
             "linecolor": "white",
             "minorgridcolor": "white",
             "startlinecolor": "#2a3f5f"
            },
            "baxis": {
             "endlinecolor": "#2a3f5f",
             "gridcolor": "white",
             "linecolor": "white",
             "minorgridcolor": "white",
             "startlinecolor": "#2a3f5f"
            },
            "type": "carpet"
           }
          ],
          "choropleth": [
           {
            "colorbar": {
             "outlinewidth": 0,
             "ticks": ""
            },
            "type": "choropleth"
           }
          ],
          "contour": [
           {
            "colorbar": {
             "outlinewidth": 0,
             "ticks": ""
            },
            "colorscale": [
             [
              0,
              "#0d0887"
             ],
             [
              0.1111111111111111,
              "#46039f"
             ],
             [
              0.2222222222222222,
              "#7201a8"
             ],
             [
              0.3333333333333333,
              "#9c179e"
             ],
             [
              0.4444444444444444,
              "#bd3786"
             ],
             [
              0.5555555555555556,
              "#d8576b"
             ],
             [
              0.6666666666666666,
              "#ed7953"
             ],
             [
              0.7777777777777778,
              "#fb9f3a"
             ],
             [
              0.8888888888888888,
              "#fdca26"
             ],
             [
              1,
              "#f0f921"
             ]
            ],
            "type": "contour"
           }
          ],
          "contourcarpet": [
           {
            "colorbar": {
             "outlinewidth": 0,
             "ticks": ""
            },
            "type": "contourcarpet"
           }
          ],
          "heatmap": [
           {
            "colorbar": {
             "outlinewidth": 0,
             "ticks": ""
            },
            "colorscale": [
             [
              0,
              "#0d0887"
             ],
             [
              0.1111111111111111,
              "#46039f"
             ],
             [
              0.2222222222222222,
              "#7201a8"
             ],
             [
              0.3333333333333333,
              "#9c179e"
             ],
             [
              0.4444444444444444,
              "#bd3786"
             ],
             [
              0.5555555555555556,
              "#d8576b"
             ],
             [
              0.6666666666666666,
              "#ed7953"
             ],
             [
              0.7777777777777778,
              "#fb9f3a"
             ],
             [
              0.8888888888888888,
              "#fdca26"
             ],
             [
              1,
              "#f0f921"
             ]
            ],
            "type": "heatmap"
           }
          ],
          "heatmapgl": [
           {
            "colorbar": {
             "outlinewidth": 0,
             "ticks": ""
            },
            "colorscale": [
             [
              0,
              "#0d0887"
             ],
             [
              0.1111111111111111,
              "#46039f"
             ],
             [
              0.2222222222222222,
              "#7201a8"
             ],
             [
              0.3333333333333333,
              "#9c179e"
             ],
             [
              0.4444444444444444,
              "#bd3786"
             ],
             [
              0.5555555555555556,
              "#d8576b"
             ],
             [
              0.6666666666666666,
              "#ed7953"
             ],
             [
              0.7777777777777778,
              "#fb9f3a"
             ],
             [
              0.8888888888888888,
              "#fdca26"
             ],
             [
              1,
              "#f0f921"
             ]
            ],
            "type": "heatmapgl"
           }
          ],
          "histogram": [
           {
            "marker": {
             "pattern": {
              "fillmode": "overlay",
              "size": 10,
              "solidity": 0.2
             }
            },
            "type": "histogram"
           }
          ],
          "histogram2d": [
           {
            "colorbar": {
             "outlinewidth": 0,
             "ticks": ""
            },
            "colorscale": [
             [
              0,
              "#0d0887"
             ],
             [
              0.1111111111111111,
              "#46039f"
             ],
             [
              0.2222222222222222,
              "#7201a8"
             ],
             [
              0.3333333333333333,
              "#9c179e"
             ],
             [
              0.4444444444444444,
              "#bd3786"
             ],
             [
              0.5555555555555556,
              "#d8576b"
             ],
             [
              0.6666666666666666,
              "#ed7953"
             ],
             [
              0.7777777777777778,
              "#fb9f3a"
             ],
             [
              0.8888888888888888,
              "#fdca26"
             ],
             [
              1,
              "#f0f921"
             ]
            ],
            "type": "histogram2d"
           }
          ],
          "histogram2dcontour": [
           {
            "colorbar": {
             "outlinewidth": 0,
             "ticks": ""
            },
            "colorscale": [
             [
              0,
              "#0d0887"
             ],
             [
              0.1111111111111111,
              "#46039f"
             ],
             [
              0.2222222222222222,
              "#7201a8"
             ],
             [
              0.3333333333333333,
              "#9c179e"
             ],
             [
              0.4444444444444444,
              "#bd3786"
             ],
             [
              0.5555555555555556,
              "#d8576b"
             ],
             [
              0.6666666666666666,
              "#ed7953"
             ],
             [
              0.7777777777777778,
              "#fb9f3a"
             ],
             [
              0.8888888888888888,
              "#fdca26"
             ],
             [
              1,
              "#f0f921"
             ]
            ],
            "type": "histogram2dcontour"
           }
          ],
          "mesh3d": [
           {
            "colorbar": {
             "outlinewidth": 0,
             "ticks": ""
            },
            "type": "mesh3d"
           }
          ],
          "parcoords": [
           {
            "line": {
             "colorbar": {
              "outlinewidth": 0,
              "ticks": ""
             }
            },
            "type": "parcoords"
           }
          ],
          "pie": [
           {
            "automargin": true,
            "type": "pie"
           }
          ],
          "scatter": [
           {
            "fillpattern": {
             "fillmode": "overlay",
             "size": 10,
             "solidity": 0.2
            },
            "type": "scatter"
           }
          ],
          "scatter3d": [
           {
            "line": {
             "colorbar": {
              "outlinewidth": 0,
              "ticks": ""
             }
            },
            "marker": {
             "colorbar": {
              "outlinewidth": 0,
              "ticks": ""
             }
            },
            "type": "scatter3d"
           }
          ],
          "scattercarpet": [
           {
            "marker": {
             "colorbar": {
              "outlinewidth": 0,
              "ticks": ""
             }
            },
            "type": "scattercarpet"
           }
          ],
          "scattergeo": [
           {
            "marker": {
             "colorbar": {
              "outlinewidth": 0,
              "ticks": ""
             }
            },
            "type": "scattergeo"
           }
          ],
          "scattergl": [
           {
            "marker": {
             "colorbar": {
              "outlinewidth": 0,
              "ticks": ""
             }
            },
            "type": "scattergl"
           }
          ],
          "scattermapbox": [
           {
            "marker": {
             "colorbar": {
              "outlinewidth": 0,
              "ticks": ""
             }
            },
            "type": "scattermapbox"
           }
          ],
          "scatterpolar": [
           {
            "marker": {
             "colorbar": {
              "outlinewidth": 0,
              "ticks": ""
             }
            },
            "type": "scatterpolar"
           }
          ],
          "scatterpolargl": [
           {
            "marker": {
             "colorbar": {
              "outlinewidth": 0,
              "ticks": ""
             }
            },
            "type": "scatterpolargl"
           }
          ],
          "scatterternary": [
           {
            "marker": {
             "colorbar": {
              "outlinewidth": 0,
              "ticks": ""
             }
            },
            "type": "scatterternary"
           }
          ],
          "surface": [
           {
            "colorbar": {
             "outlinewidth": 0,
             "ticks": ""
            },
            "colorscale": [
             [
              0,
              "#0d0887"
             ],
             [
              0.1111111111111111,
              "#46039f"
             ],
             [
              0.2222222222222222,
              "#7201a8"
             ],
             [
              0.3333333333333333,
              "#9c179e"
             ],
             [
              0.4444444444444444,
              "#bd3786"
             ],
             [
              0.5555555555555556,
              "#d8576b"
             ],
             [
              0.6666666666666666,
              "#ed7953"
             ],
             [
              0.7777777777777778,
              "#fb9f3a"
             ],
             [
              0.8888888888888888,
              "#fdca26"
             ],
             [
              1,
              "#f0f921"
             ]
            ],
            "type": "surface"
           }
          ],
          "table": [
           {
            "cells": {
             "fill": {
              "color": "#EBF0F8"
             },
             "line": {
              "color": "white"
             }
            },
            "header": {
             "fill": {
              "color": "#C8D4E3"
             },
             "line": {
              "color": "white"
             }
            },
            "type": "table"
           }
          ]
         },
         "layout": {
          "annotationdefaults": {
           "arrowcolor": "#2a3f5f",
           "arrowhead": 0,
           "arrowwidth": 1
          },
          "autotypenumbers": "strict",
          "coloraxis": {
           "colorbar": {
            "outlinewidth": 0,
            "ticks": ""
           }
          },
          "colorscale": {
           "diverging": [
            [
             0,
             "#8e0152"
            ],
            [
             0.1,
             "#c51b7d"
            ],
            [
             0.2,
             "#de77ae"
            ],
            [
             0.3,
             "#f1b6da"
            ],
            [
             0.4,
             "#fde0ef"
            ],
            [
             0.5,
             "#f7f7f7"
            ],
            [
             0.6,
             "#e6f5d0"
            ],
            [
             0.7,
             "#b8e186"
            ],
            [
             0.8,
             "#7fbc41"
            ],
            [
             0.9,
             "#4d9221"
            ],
            [
             1,
             "#276419"
            ]
           ],
           "sequential": [
            [
             0,
             "#0d0887"
            ],
            [
             0.1111111111111111,
             "#46039f"
            ],
            [
             0.2222222222222222,
             "#7201a8"
            ],
            [
             0.3333333333333333,
             "#9c179e"
            ],
            [
             0.4444444444444444,
             "#bd3786"
            ],
            [
             0.5555555555555556,
             "#d8576b"
            ],
            [
             0.6666666666666666,
             "#ed7953"
            ],
            [
             0.7777777777777778,
             "#fb9f3a"
            ],
            [
             0.8888888888888888,
             "#fdca26"
            ],
            [
             1,
             "#f0f921"
            ]
           ],
           "sequentialminus": [
            [
             0,
             "#0d0887"
            ],
            [
             0.1111111111111111,
             "#46039f"
            ],
            [
             0.2222222222222222,
             "#7201a8"
            ],
            [
             0.3333333333333333,
             "#9c179e"
            ],
            [
             0.4444444444444444,
             "#bd3786"
            ],
            [
             0.5555555555555556,
             "#d8576b"
            ],
            [
             0.6666666666666666,
             "#ed7953"
            ],
            [
             0.7777777777777778,
             "#fb9f3a"
            ],
            [
             0.8888888888888888,
             "#fdca26"
            ],
            [
             1,
             "#f0f921"
            ]
           ]
          },
          "colorway": [
           "#636efa",
           "#EF553B",
           "#00cc96",
           "#ab63fa",
           "#FFA15A",
           "#19d3f3",
           "#FF6692",
           "#B6E880",
           "#FF97FF",
           "#FECB52"
          ],
          "font": {
           "color": "#2a3f5f"
          },
          "geo": {
           "bgcolor": "white",
           "lakecolor": "white",
           "landcolor": "#E5ECF6",
           "showlakes": true,
           "showland": true,
           "subunitcolor": "white"
          },
          "hoverlabel": {
           "align": "left"
          },
          "hovermode": "closest",
          "mapbox": {
           "style": "light"
          },
          "paper_bgcolor": "white",
          "plot_bgcolor": "#E5ECF6",
          "polar": {
           "angularaxis": {
            "gridcolor": "white",
            "linecolor": "white",
            "ticks": ""
           },
           "bgcolor": "#E5ECF6",
           "radialaxis": {
            "gridcolor": "white",
            "linecolor": "white",
            "ticks": ""
           }
          },
          "scene": {
           "xaxis": {
            "backgroundcolor": "#E5ECF6",
            "gridcolor": "white",
            "gridwidth": 2,
            "linecolor": "white",
            "showbackground": true,
            "ticks": "",
            "zerolinecolor": "white"
           },
           "yaxis": {
            "backgroundcolor": "#E5ECF6",
            "gridcolor": "white",
            "gridwidth": 2,
            "linecolor": "white",
            "showbackground": true,
            "ticks": "",
            "zerolinecolor": "white"
           },
           "zaxis": {
            "backgroundcolor": "#E5ECF6",
            "gridcolor": "white",
            "gridwidth": 2,
            "linecolor": "white",
            "showbackground": true,
            "ticks": "",
            "zerolinecolor": "white"
           }
          },
          "shapedefaults": {
           "line": {
            "color": "#2a3f5f"
           }
          },
          "ternary": {
           "aaxis": {
            "gridcolor": "white",
            "linecolor": "white",
            "ticks": ""
           },
           "baxis": {
            "gridcolor": "white",
            "linecolor": "white",
            "ticks": ""
           },
           "bgcolor": "#E5ECF6",
           "caxis": {
            "gridcolor": "white",
            "linecolor": "white",
            "ticks": ""
           }
          },
          "title": {
           "x": 0.05
          },
          "xaxis": {
           "automargin": true,
           "gridcolor": "white",
           "linecolor": "white",
           "ticks": "",
           "title": {
            "standoff": 15
           },
           "zerolinecolor": "white",
           "zerolinewidth": 2
          },
          "yaxis": {
           "automargin": true,
           "gridcolor": "white",
           "linecolor": "white",
           "ticks": "",
           "title": {
            "standoff": 15
           },
           "zerolinecolor": "white",
           "zerolinewidth": 2
          }
         }
        },
        "title": {
         "text": "Parallel Coordinate Plot"
        }
       }
      }
     },
     "metadata": {},
     "output_type": "display_data"
    }
   ],
   "source": [
    "# Plot parallel_coordinate\n",
    "vis.plot_parallel_coordinate(study)"
   ]
  },
  {
   "cell_type": "code",
   "execution_count": null,
   "id": "4da5b39a",
   "metadata": {},
   "outputs": [],
   "source": []
  },
  {
   "cell_type": "code",
   "execution_count": null,
   "id": "8edfd851",
   "metadata": {},
   "outputs": [
    {
     "data": {
      "text/html": [
       "<div>\n",
       "<style scoped>\n",
       "    .dataframe tbody tr th:only-of-type {\n",
       "        vertical-align: middle;\n",
       "    }\n",
       "\n",
       "    .dataframe tbody tr th {\n",
       "        vertical-align: top;\n",
       "    }\n",
       "\n",
       "    .dataframe thead th {\n",
       "        text-align: right;\n",
       "    }\n",
       "</style>\n",
       "<table border=\"1\" class=\"dataframe\">\n",
       "  <thead>\n",
       "    <tr style=\"text-align: right;\">\n",
       "      <th></th>\n",
       "      <th>col</th>\n",
       "    </tr>\n",
       "  </thead>\n",
       "  <tbody>\n",
       "    <tr>\n",
       "      <th>0</th>\n",
       "      <td>Ven</td>\n",
       "    </tr>\n",
       "    <tr>\n",
       "      <th>1</th>\n",
       "      <td>Venz</td>\n",
       "    </tr>\n",
       "    <tr>\n",
       "      <th>2</th>\n",
       "      <td>VeArg</td>\n",
       "    </tr>\n",
       "    <tr>\n",
       "      <th>3</th>\n",
       "      <td>AAA</td>\n",
       "    </tr>\n",
       "    <tr>\n",
       "      <th>4</th>\n",
       "      <td>AA</td>\n",
       "    </tr>\n",
       "    <tr>\n",
       "      <th>5</th>\n",
       "      <td>USA</td>\n",
       "    </tr>\n",
       "  </tbody>\n",
       "</table>\n",
       "</div>"
      ],
      "text/plain": [
       "     col\n",
       "0    Ven\n",
       "1   Venz\n",
       "2  VeArg\n",
       "3    AAA\n",
       "4     AA\n",
       "5    USA"
      ]
     },
     "metadata": {},
     "output_type": "display_data"
    }
   ],
   "source": [
    "import pandas as pd\n",
    "dct = {('Ven', 'Venz'): 'Venezuella',\n",
    "       ('Arg', 'AAA', 'AA'): 'Argen'}\n",
    "\n",
    "df = pd.DataFrame({'col': ['Ven', 'Venz', 'Ve' 'Arg', 'AAA', 'AA', 'USA']})\n",
    "df"
   ]
  },
  {
   "cell_type": "code",
   "execution_count": null,
   "id": "1bcb6fb2",
   "metadata": {},
   "outputs": [
    {
     "data": {
      "text/html": [
       "<div>\n",
       "<style scoped>\n",
       "    .dataframe tbody tr th:only-of-type {\n",
       "        vertical-align: middle;\n",
       "    }\n",
       "\n",
       "    .dataframe tbody tr th {\n",
       "        vertical-align: top;\n",
       "    }\n",
       "\n",
       "    .dataframe thead th {\n",
       "        text-align: right;\n",
       "    }\n",
       "</style>\n",
       "<table border=\"1\" class=\"dataframe\">\n",
       "  <thead>\n",
       "    <tr style=\"text-align: right;\">\n",
       "      <th></th>\n",
       "      <th>col</th>\n",
       "    </tr>\n",
       "  </thead>\n",
       "  <tbody>\n",
       "    <tr>\n",
       "      <th>0</th>\n",
       "      <td>False</td>\n",
       "    </tr>\n",
       "    <tr>\n",
       "      <th>1</th>\n",
       "      <td>False</td>\n",
       "    </tr>\n",
       "    <tr>\n",
       "      <th>2</th>\n",
       "      <td>False</td>\n",
       "    </tr>\n",
       "    <tr>\n",
       "      <th>3</th>\n",
       "      <td>False</td>\n",
       "    </tr>\n",
       "    <tr>\n",
       "      <th>4</th>\n",
       "      <td>False</td>\n",
       "    </tr>\n",
       "    <tr>\n",
       "      <th>5</th>\n",
       "      <td>False</td>\n",
       "    </tr>\n",
       "  </tbody>\n",
       "</table>\n",
       "</div>"
      ],
      "text/plain": [
       "     col\n",
       "0  False\n",
       "1  False\n",
       "2  False\n",
       "3  False\n",
       "4  False\n",
       "5  False"
      ]
     },
     "metadata": {},
     "output_type": "display_data"
    }
   ],
   "source": [
    "df['col'] = df['col'].apply(lambda x: x in dct)\n",
    "df"
   ]
  },
  {
   "cell_type": "code",
   "execution_count": 4,
   "id": "aa6c661f",
   "metadata": {},
   "outputs": [],
   "source": [
    "import pandas as pd\n",
    "import numpy as np"
   ]
  },
  {
   "cell_type": "code",
   "execution_count": 3,
   "id": "f02d3e33",
   "metadata": {},
   "outputs": [],
   "source": [
    "y_res_1 = pd.read_csv('chok1.csv', usecols=['Rating'])\n",
    "y_res_2 = pd.read_csv('chok2.csv', usecols=['Rating'])"
   ]
  },
  {
   "cell_type": "code",
   "execution_count": 7,
   "id": "82d29bd0",
   "metadata": {},
   "outputs": [
    {
     "data": {
      "text/plain": [
       "array([3.20784156, 3.05882876, 3.06738611, 3.60388957, 3.0739526 ,\n",
       "       2.73318833, 3.10508305, 3.21834825, 3.19735667, 2.7554778 ,\n",
       "       3.45570972, 3.0875602 , 3.09005873, 3.20545794, 2.59530357,\n",
       "       3.35939593, 3.29425824, 3.43557277, 3.09642508, 3.2231323 ,\n",
       "       2.99235696, 3.17310074, 3.16453013, 3.04545232, 3.44461299,\n",
       "       3.44327304, 3.1734771 , 3.13158824, 3.15980471, 2.81728559,\n",
       "       3.35356878, 2.69269243, 2.97717175, 3.00397839, 2.9140096 ,\n",
       "       3.36250772, 3.49311387, 2.87917139, 3.18773694, 3.10972447,\n",
       "       2.94185502, 3.33706244, 3.362529  , 3.39967728, 3.15135339,\n",
       "       3.50955194, 3.38575124, 3.47141031, 2.99864758, 3.23688037,\n",
       "       2.8329245 , 3.0947794 , 3.42609665, 3.29851075, 3.37316164,\n",
       "       2.80639087, 3.40634185, 3.01031458, 3.37320097, 3.17964778,\n",
       "       3.13994254, 3.3338483 , 3.12267817, 3.22951317, 3.29929277,\n",
       "       2.65760534, 2.87593239, 3.43909914, 3.39692532, 3.47038451,\n",
       "       3.09873414, 3.25891531, 3.28085563, 3.60758823, 3.21362314,\n",
       "       3.06796113, 3.46547809, 3.0666461 , 3.07019685, 3.33339231,\n",
       "       3.30269065, 2.89223329, 3.18984665, 2.85873104, 3.09004408,\n",
       "       3.12406175, 2.94340274, 3.17663154, 3.20635968, 3.51141512,\n",
       "       3.11127327, 3.41094625, 3.34443361, 3.32889124, 2.80318784,\n",
       "       3.3109174 , 3.15879197, 3.03868376, 3.0762951 , 3.44339467,\n",
       "       3.17210732, 3.27453584, 3.16512578, 3.23574582, 3.56244662,\n",
       "       3.15181033, 3.21452947, 3.19483883, 3.50440465, 3.0811527 ,\n",
       "       2.58807661, 3.38306179, 3.10196893, 3.54027854, 3.12627388,\n",
       "       3.47188576, 3.44575347, 2.9681371 , 2.97515997, 2.95051374,\n",
       "       3.16094503, 3.40445277, 3.10737356, 3.16453325, 3.36684555,\n",
       "       2.84059338, 3.28965105, 2.80352352, 3.25878828, 3.03814475,\n",
       "       2.94466838, 3.06868242, 3.39894353, 3.33638725, 3.03066169,\n",
       "       3.52085797, 2.9600593 , 3.13544041, 3.22870021, 3.40554997,\n",
       "       3.42589076, 2.95393891, 3.23271215, 3.33060606, 3.23999119,\n",
       "       3.00737019, 2.98920842, 2.88079526, 3.04296917, 3.20679258,\n",
       "       3.34581232, 3.05362372, 2.94561471, 3.46501643, 2.60492523,\n",
       "       3.32958746, 3.41999711, 3.06241707, 3.32423365, 3.61975148,\n",
       "       3.24200203, 3.20590509, 3.11164948, 3.13322778, 3.20442205,\n",
       "       3.22123988, 3.1737123 , 3.3197223 , 2.91571629, 3.13944002,\n",
       "       2.96645266, 2.89088997, 2.98297329, 3.44108363, 3.34315663,\n",
       "       3.43052179, 3.25432041, 3.40938253, 3.48650006, 3.4243471 ,\n",
       "       2.8850295 , 3.06700808, 3.36718472, 3.47771981, 3.2304174 ,\n",
       "       3.15043521, 3.20940243, 3.43394665, 3.40615085, 3.05322767,\n",
       "       3.05207232, 3.12275461, 3.468638  , 3.21083749, 3.13045513,\n",
       "       3.20412136, 3.41040942, 3.31771427, 3.06940129, 3.05651379,\n",
       "       3.19298186, 3.1881296 , 3.46192689, 3.32652196, 3.21541967,\n",
       "       2.92115912, 2.73331439, 2.7764004 , 2.90136299, 2.96338933,\n",
       "       3.30825409, 3.41456341, 3.25824739, 3.18158653, 3.24386474,\n",
       "       3.43800113, 3.16137264, 2.80081666, 3.20577852, 3.22502709,\n",
       "       3.19419024, 2.60361998, 3.49962919, 3.07571516, 3.25202545,\n",
       "       3.35484827, 3.42137549, 3.2728097 , 3.13562989, 3.45618565,\n",
       "       3.16913391, 3.01720585, 3.18009695, 2.98207224, 3.79127914,\n",
       "       3.19021657, 3.39678587, 2.83715308, 2.9103414 , 3.15894546,\n",
       "       3.08756325, 3.40104072, 3.33577727, 3.13398823, 3.21591622,\n",
       "       3.42374668, 3.57913481, 3.17120925, 3.10176863, 3.26557162,\n",
       "       3.01159115, 3.40997705, 3.50309484, 3.01315564, 2.9961915 ,\n",
       "       3.29702829, 3.2169426 , 2.80274613, 3.55036251, 3.36157874,\n",
       "       3.03800447, 3.12686982, 3.34195671, 3.14198476, 3.29513501,\n",
       "       3.27150279, 3.3717729 , 3.32904942, 3.27256529, 3.4184426 ,\n",
       "       2.88190394, 2.95128133, 3.53303079, 3.21610895, 2.97048777,\n",
       "       3.47123614, 3.518837  , 2.81935001, 3.38035822, 3.08135471,\n",
       "       3.1507832 , 3.15365692, 3.39351493, 3.50878796, 3.34529832,\n",
       "       3.34735678, 3.01061453, 3.20724515, 3.30367818, 3.20156989,\n",
       "       2.87247607, 3.40938253, 2.9813386 , 3.41551008, 3.15597812,\n",
       "       3.33665646, 3.24579402, 3.34254077, 3.15334949, 3.43165519,\n",
       "       3.51595562, 2.89548532, 3.4876845 , 3.11322462, 3.04263138,\n",
       "       3.34140967, 3.49241341, 2.71459291, 3.23378047, 3.44436301,\n",
       "       3.57953669, 3.24982707, 2.78885904, 3.56204853, 3.09729181,\n",
       "       3.15821444, 3.03980459, 2.94447036, 3.57190422, 3.21001075,\n",
       "       3.47308327, 3.24915942, 3.18267958, 2.3744321 , 2.96896012,\n",
       "       3.07422391, 3.35406309, 3.05693055, 3.20547313, 3.03590769,\n",
       "       3.46295829, 3.35045991, 3.3092628 , 3.58473699, 3.34388712,\n",
       "       3.17563103, 3.24791256, 3.3389765 , 3.44592939, 3.05873395,\n",
       "       3.36267405, 2.97464801, 2.96519479, 2.97114244, 3.03742502,\n",
       "       3.2913936 , 3.46547809, 2.89830454, 3.22528765, 3.07904204,\n",
       "       3.5907877 , 3.2274989 , 3.32425968, 3.11044564, 3.42839286,\n",
       "       3.51529862, 3.21226574, 3.25382797, 3.24431731, 2.37480621,\n",
       "       3.21972512, 3.25362564, 3.33644322, 3.42579588, 2.99047779,\n",
       "       3.41711391, 3.34783806, 3.11541642, 3.17125752, 3.48612775,\n",
       "       2.96318088, 3.17142914, 3.33933528, 3.15804212, 3.33791912,\n",
       "       3.41291462, 3.27121052, 3.24182077, 3.31677448, 3.05144795,\n",
       "       3.00358914, 3.32295692, 3.38480725, 3.19668077, 3.07166727,\n",
       "       3.21403225, 3.00024783, 3.24865458, 3.2037744 , 3.26913279,\n",
       "       3.3459402 , 3.16629115, 3.25188354, 3.43557089, 3.25756395,\n",
       "       3.45039082, 3.57190422, 3.34278594, 3.05572798, 3.52997246,\n",
       "       3.41538916, 3.34258155, 3.23926336, 3.2882854 , 3.55174301,\n",
       "       3.38714891, 2.89276823, 3.19873192, 3.01261525, 2.88738599,\n",
       "       3.43939046, 3.12449086, 3.12237131, 3.22190253, 3.25217398,\n",
       "       3.12872377, 2.98064342, 3.20918725, 3.50979599, 3.34245118,\n",
       "       3.49472137, 3.16826467, 2.99970597, 2.96545779, 3.01890566,\n",
       "       3.24879516, 3.16551755, 3.02719486, 3.30960478, 3.22273914,\n",
       "       3.26629026, 3.43725686, 3.54470671, 2.79414259, 2.87083775,\n",
       "       3.34259164, 2.98956857, 3.28135564, 2.92352139, 2.80561492,\n",
       "       3.38266841, 3.21229566, 2.97979138, 3.47910744, 3.52627518,\n",
       "       3.46986531, 3.35784011, 3.17674438, 3.16241813, 3.65151611,\n",
       "       2.40821092, 3.41099531, 3.18535974, 3.10700697, 3.33724526,\n",
       "       3.3006918 , 3.02271351, 3.22190977, 3.19489835, 3.15637606,\n",
       "       3.01774244, 2.91540979, 2.84756771, 3.37672053, 3.13249732,\n",
       "       3.50314802, 2.79878988, 3.40472641, 2.780792  , 2.93526381,\n",
       "       3.50141418, 3.4076932 , 3.26596533, 3.11444053, 3.16005649,\n",
       "       3.23247007, 3.05989193, 2.84229061, 2.84814969, 3.28693234,\n",
       "       3.46672917, 3.20203371, 3.3154455 , 3.34954055, 3.43015561,\n",
       "       3.08343097, 3.41122531, 2.96883781, 2.87741156, 2.77255092,\n",
       "       3.52376468, 3.14769981, 3.41371723, 3.16970218, 3.55912424,\n",
       "       3.19333116, 2.88394337, 3.18736854, 3.32423365, 2.87745512,\n",
       "       3.46657508, 3.42527359, 3.11194266, 3.29234566, 3.15182219,\n",
       "       3.40208468, 3.12449086, 2.97355629, 3.43477607, 3.07574256,\n",
       "       2.9059428 , 3.00498461, 2.98102775, 3.31703131, 2.96920426,\n",
       "       3.51385395, 3.29670718, 2.69999849, 3.3861809 , 3.33117776,\n",
       "       3.38714891, 3.0954349 , 3.21053631, 3.41318536, 3.57834563,\n",
       "       3.31705589, 3.24166881, 3.57190422, 3.38560808, 3.09924242,\n",
       "       2.61873772, 3.51204301, 3.14706395, 3.3361472 , 3.38587647,\n",
       "       3.16142579, 3.40081809, 3.50312441, 2.87575372, 2.99077949])"
      ]
     },
     "execution_count": 7,
     "metadata": {},
     "output_type": "execute_result"
    }
   ],
   "source": [
    "y_res_3 = np.mean([y_res_1['Rating'].values, y_res_2['Rating'].values], axis=0)\n",
    "y_res_3"
   ]
  },
  {
   "cell_type": "code",
   "execution_count": 13,
   "id": "f7d80f8f",
   "metadata": {},
   "outputs": [
    {
     "name": "stderr",
     "output_type": "stream",
     "text": [
      "<>:3: SyntaxWarning: invalid escape sequence '\\c'\n",
      "<>:4: SyntaxWarning: invalid escape sequence '\\c'\n",
      "<>:3: SyntaxWarning: invalid escape sequence '\\c'\n",
      "<>:4: SyntaxWarning: invalid escape sequence '\\c'\n",
      "C:\\Users\\kuche\\AppData\\Local\\Temp\\ipykernel_5616\\2469123148.py:3: SyntaxWarning: invalid escape sequence '\\c'\n",
      "  TRAIN = 'data\\chocolate-rating\\chocolate_train.csv'\n",
      "C:\\Users\\kuche\\AppData\\Local\\Temp\\ipykernel_5616\\2469123148.py:4: SyntaxWarning: invalid escape sequence '\\c'\n",
      "  TEST = 'data\\chocolate-rating\\chocolate_test_new.csv'\n"
     ]
    }
   ],
   "source": [
    "# TRAIN = \"https://raw.githubusercontent.com/evgpat/edu_stepik_practical_ml/main/datasets/chocolate_train.csv\"\n",
    "# TEST = \"https://raw.githubusercontent.com/evgpat/edu_stepik_practical_ml/main/datasets/chocolate_test_new.csv\"\n",
    "TRAIN = 'data\\chocolate-rating\\chocolate_train.csv'\n",
    "TEST = 'data\\chocolate-rating\\chocolate_test_new.csv'"
   ]
  },
  {
   "cell_type": "code",
   "execution_count": 14,
   "id": "d112b12f",
   "metadata": {},
   "outputs": [],
   "source": [
    "test = pd.read_csv(TEST)"
   ]
  },
  {
   "cell_type": "code",
   "execution_count": 15,
   "id": "2795073f",
   "metadata": {},
   "outputs": [],
   "source": [
    "test = test.copy()\n",
    "result = pd.DataFrame()\n",
    "result['id'] = np.arange(len(test))\n",
    "result['Rating'] = y_res_3\n",
    "\n",
    "result[['id','Rating']].to_csv(\"choko_submission_29.csv\", index=False)"
   ]
  },
  {
   "cell_type": "code",
   "execution_count": null,
   "id": "ba1e01a8",
   "metadata": {},
   "outputs": [],
   "source": [
    "df = pd.DataFrame(pd.concat([y_res_1, y_res_2, y_res_3, y_res_4, pd.DataFrame(pred), pd.DataFrame(pred_stacking)], axis=1))\n",
    "\n",
    "df['mean'] = df.iloc[:, :-3].mean(axis=1)\n",
    "df"
   ]
  },
  {
   "cell_type": "code",
   "execution_count": 16,
   "id": "e4f93296",
   "metadata": {},
   "outputs": [],
   "source": [
    "y_res_2 = pd.read_csv('choko_submission_29.csv')"
   ]
  },
  {
   "cell_type": "code",
   "execution_count": 17,
   "id": "807b42cd",
   "metadata": {},
   "outputs": [
    {
     "data": {
      "text/html": [
       "<div>\n",
       "<style scoped>\n",
       "    .dataframe tbody tr th:only-of-type {\n",
       "        vertical-align: middle;\n",
       "    }\n",
       "\n",
       "    .dataframe tbody tr th {\n",
       "        vertical-align: top;\n",
       "    }\n",
       "\n",
       "    .dataframe thead th {\n",
       "        text-align: right;\n",
       "    }\n",
       "</style>\n",
       "<table border=\"1\" class=\"dataframe\">\n",
       "  <thead>\n",
       "    <tr style=\"text-align: right;\">\n",
       "      <th></th>\n",
       "      <th>id</th>\n",
       "      <th>Rating</th>\n",
       "    </tr>\n",
       "  </thead>\n",
       "  <tbody>\n",
       "    <tr>\n",
       "      <th>0</th>\n",
       "      <td>0</td>\n",
       "      <td>3.207842</td>\n",
       "    </tr>\n",
       "    <tr>\n",
       "      <th>1</th>\n",
       "      <td>1</td>\n",
       "      <td>3.058829</td>\n",
       "    </tr>\n",
       "    <tr>\n",
       "      <th>2</th>\n",
       "      <td>2</td>\n",
       "      <td>3.067386</td>\n",
       "    </tr>\n",
       "    <tr>\n",
       "      <th>3</th>\n",
       "      <td>3</td>\n",
       "      <td>3.603890</td>\n",
       "    </tr>\n",
       "    <tr>\n",
       "      <th>4</th>\n",
       "      <td>4</td>\n",
       "      <td>3.073953</td>\n",
       "    </tr>\n",
       "    <tr>\n",
       "      <th>...</th>\n",
       "      <td>...</td>\n",
       "      <td>...</td>\n",
       "    </tr>\n",
       "    <tr>\n",
       "      <th>535</th>\n",
       "      <td>535</td>\n",
       "      <td>3.161426</td>\n",
       "    </tr>\n",
       "    <tr>\n",
       "      <th>536</th>\n",
       "      <td>536</td>\n",
       "      <td>3.400818</td>\n",
       "    </tr>\n",
       "    <tr>\n",
       "      <th>537</th>\n",
       "      <td>537</td>\n",
       "      <td>3.503124</td>\n",
       "    </tr>\n",
       "    <tr>\n",
       "      <th>538</th>\n",
       "      <td>538</td>\n",
       "      <td>2.875754</td>\n",
       "    </tr>\n",
       "    <tr>\n",
       "      <th>539</th>\n",
       "      <td>539</td>\n",
       "      <td>2.990779</td>\n",
       "    </tr>\n",
       "  </tbody>\n",
       "</table>\n",
       "<p>540 rows × 2 columns</p>\n",
       "</div>"
      ],
      "text/plain": [
       "      id    Rating\n",
       "0      0  3.207842\n",
       "1      1  3.058829\n",
       "2      2  3.067386\n",
       "3      3  3.603890\n",
       "4      4  3.073953\n",
       "..   ...       ...\n",
       "535  535  3.161426\n",
       "536  536  3.400818\n",
       "537  537  3.503124\n",
       "538  538  2.875754\n",
       "539  539  2.990779\n",
       "\n",
       "[540 rows x 2 columns]"
      ]
     },
     "execution_count": 17,
     "metadata": {},
     "output_type": "execute_result"
    }
   ],
   "source": [
    "y_res_2"
   ]
  },
  {
   "cell_type": "code",
   "execution_count": null,
   "id": "ffa17621",
   "metadata": {},
   "outputs": [],
   "source": []
  },
  {
   "cell_type": "code",
   "execution_count": null,
   "id": "dab98527",
   "metadata": {},
   "outputs": [],
   "source": []
  }
 ],
 "metadata": {
  "kernelspec": {
   "display_name": "chocolate",
   "language": "python",
   "name": "python3"
  },
  "language_info": {
   "codemirror_mode": {
    "name": "ipython",
    "version": 3
   },
   "file_extension": ".py",
   "mimetype": "text/x-python",
   "name": "python",
   "nbconvert_exporter": "python",
   "pygments_lexer": "ipython3",
   "version": "3.9.22"
  }
 },
 "nbformat": 4,
 "nbformat_minor": 5
}
