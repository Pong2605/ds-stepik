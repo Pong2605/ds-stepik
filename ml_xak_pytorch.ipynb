{
 "cells": [
  {
   "cell_type": "markdown",
   "id": "8cd00715",
   "metadata": {},
   "source": [
    "# Импорты"
   ]
  },
  {
   "cell_type": "code",
   "execution_count": 1,
   "id": "4a7cf14a",
   "metadata": {},
   "outputs": [],
   "source": [
    "import pandas as pd\n",
    "import numpy as np\n",
    "import torch\n",
    "import matplotlib.pyplot as plt"
   ]
  },
  {
   "cell_type": "code",
   "execution_count": 2,
   "id": "b878275b",
   "metadata": {},
   "outputs": [],
   "source": [
    "from IPython.display import display"
   ]
  },
  {
   "cell_type": "markdown",
   "id": "ff1107ca",
   "metadata": {},
   "source": [
    "# 2.3 Тензоры PyTorch"
   ]
  },
  {
   "cell_type": "code",
   "execution_count": 3,
   "id": "57ad5528",
   "metadata": {},
   "outputs": [
    {
     "name": "stdout",
     "output_type": "stream",
     "text": [
      "2\n"
     ]
    }
   ],
   "source": [
    "def rekurs(x):\n",
    "    if x <= 6: #если x<=6\n",
    "        return x #вернуть x\n",
    "    else: #x>6\n",
    "        return None #вернуть None(ничего)\n",
    "print(rekurs(2)) ##rekurs(x = 2) "
   ]
  },
  {
   "cell_type": "code",
   "execution_count": null,
   "id": "26a36c40",
   "metadata": {},
   "outputs": [],
   "source": []
  }
 ],
 "metadata": {
  "kernelspec": {
   "display_name": "ml",
   "language": "python",
   "name": "python3"
  },
  "language_info": {
   "codemirror_mode": {
    "name": "ipython",
    "version": 3
   },
   "file_extension": ".py",
   "mimetype": "text/x-python",
   "name": "python",
   "nbconvert_exporter": "python",
   "pygments_lexer": "ipython3",
   "version": "3.12.3"
  }
 },
 "nbformat": 4,
 "nbformat_minor": 5
}
