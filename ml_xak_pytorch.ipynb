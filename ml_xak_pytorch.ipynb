{
 "cells": [
  {
   "cell_type": "markdown",
   "id": "8cd00715",
   "metadata": {},
   "source": [
    "# Импорты"
   ]
  },
  {
   "cell_type": "code",
   "execution_count": 2,
   "id": "4a7cf14a",
   "metadata": {},
   "outputs": [],
   "source": [
    "import pandas as pd\n",
    "import numpy as np\n",
    "# import torch\n",
    "import matplotlib.pyplot as plt"
   ]
  },
  {
   "cell_type": "code",
   "execution_count": 3,
   "id": "b878275b",
   "metadata": {},
   "outputs": [],
   "source": [
    "from IPython.display import display"
   ]
  },
  {
   "cell_type": "markdown",
   "id": "ff1107ca",
   "metadata": {},
   "source": [
    "# 2.3 Тензоры PyTorch"
   ]
  },
  {
   "cell_type": "code",
   "execution_count": null,
   "id": "57ad5528",
   "metadata": {},
   "outputs": [
    {
     "name": "stdout",
     "output_type": "stream",
     "text": [
      "123321\n",
      "Хорошее число\n",
      "Хорошее число\n",
      "3\n",
      "Плохое число\n"
     ]
    }
   ],
   "source": [
    "arr = [\n",
    "123321,12,88,0,3]\n",
    "for a in arr:\n",
    "    a = str(a)\n",
    "    if a == a[::-1]:\n",
    "        if int(a) > 0 and int(a) % 3 ==0:\n",
    "          print(a)\n",
    "        else:\n",
    "          print(\"Хорошее число\")\n",
    "else:\n",
    "     print(\"Плохое число\")"
   ]
  },
  {
   "cell_type": "code",
   "execution_count": null,
   "id": "64d95327",
   "metadata": {},
   "outputs": [],
   "source": []
  }
 ],
 "metadata": {
  "kernelspec": {
   "display_name": "ml",
   "language": "python",
   "name": "python3"
  },
  "language_info": {
   "codemirror_mode": {
    "name": "ipython",
    "version": 3
   },
   "file_extension": ".py",
   "mimetype": "text/x-python",
   "name": "python",
   "nbconvert_exporter": "python",
   "pygments_lexer": "ipython3",
   "version": "3.12.3"
  }
 },
 "nbformat": 4,
 "nbformat_minor": 5
}
