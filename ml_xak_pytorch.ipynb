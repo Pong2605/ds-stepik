{
 "cells": [
  {
   "cell_type": "markdown",
   "id": "8cd00715",
   "metadata": {},
   "source": [
    "# Импорты"
   ]
  },
  {
   "cell_type": "code",
   "execution_count": 2,
   "id": "4a7cf14a",
   "metadata": {},
   "outputs": [],
   "source": [
    "import pandas as pd\n",
    "import numpy as np\n",
    "import torch\n",
    "import matplotlib.pyplot as plt"
   ]
  },
  {
   "cell_type": "code",
   "execution_count": 3,
   "id": "b878275b",
   "metadata": {},
   "outputs": [],
   "source": [
    "from IPython.display import display"
   ]
  },
  {
   "cell_type": "markdown",
   "id": "ff1107ca",
   "metadata": {},
   "source": [
    "# 2.3 Тензоры PyTorch"
   ]
  },
  {
   "cell_type": "code",
   "execution_count": 4,
   "id": "617577e8",
   "metadata": {},
   "outputs": [
    {
     "name": "stdout",
     "output_type": "stream",
     "text": [
      "tensor([1., 2., 3.])\n",
      "tensor([1, 2, 3], dtype=torch.int32)\n",
      "tensor([1, 2, 3], dtype=torch.int32)\n",
      "tensor([1, 2, 3], dtype=torch.int32)\n"
     ]
    }
   ],
   "source": [
    "data = np.array([1, 2, 3])\n",
    "\n",
    "type(data)\n",
    "\n",
    "o1 = torch.Tensor(data)\n",
    "o2 = torch.tensor(data)\n",
    "o3 = torch.as_tensor(data)\n",
    "o4 = torch.from_numpy(data)\n",
    "\n",
    "print(o1)\n",
    "print(o2)\n",
    "print(o3)\n",
    "print(o4)"
   ]
  },
  {
   "cell_type": "code",
   "execution_count": 5,
   "id": "88df4ea4",
   "metadata": {},
   "outputs": [],
   "source": [
    "# Лучшие варианты для создания тензоров в PyTorch\n",
    "\n",
    "# torch.tensor()\n",
    "# torch.as_tensor()\n",
    "\n",
    "# Вызов torch.tensor() является основным, \n",
    "# в то время как torch.as_tensor() следует использовать для повышения производительности."
   ]
  },
  {
   "cell_type": "markdown",
   "id": "d5849438",
   "metadata": {},
   "source": [
    "# 2.4 Операции с тензорами"
   ]
  },
  {
   "cell_type": "code",
   "execution_count": 6,
   "id": "c8708cb7",
   "metadata": {},
   "outputs": [
    {
     "data": {
      "text/plain": [
       "tensor([[1., 1., 1., 1.],\n",
       "        [2., 2., 2., 2.],\n",
       "        [3., 3., 3., 3.]])"
      ]
     },
     "metadata": {},
     "output_type": "display_data"
    },
    {
     "name": "stdout",
     "output_type": "stream",
     "text": [
      "tensor([[1., 1., 1., 1., 2., 2., 2., 2., 3., 3., 3., 3.]])\n",
      "torch.Size([1, 12])\n",
      "tensor([1., 1., 1., 1., 2., 2., 2., 2., 3., 3., 3., 3.])\n",
      "torch.Size([12])\n",
      "tensor([[1., 1., 1., 1., 2., 2., 2., 2., 3., 3., 3., 3.]])\n",
      "torch.Size([1, 12])\n"
     ]
    }
   ],
   "source": [
    "t = torch.tensor([\n",
    "    [1, 1, 1, 1],\n",
    "    [2, 2, 2, 2],\n",
    "    [3, 3, 3, 3]\n",
    "], dtype=torch.float32)\n",
    "display(t)\n",
    "\n",
    "print(t.reshape([1, 12]))\n",
    "print(t.reshape([1, 12]).shape)\n",
    "\n",
    "print(t.reshape([1, 12]).squeeze())\n",
    "print(t.reshape([1, 12]).squeeze().shape)\n",
    "\n",
    "print(t.reshape([1, 12]).squeeze().unsqueeze(dim=0))\n",
    "print(t.reshape([1, 12]).squeeze().unsqueeze(dim=0).shape)"
   ]
  },
  {
   "cell_type": "code",
   "execution_count": 7,
   "id": "e06626a6",
   "metadata": {},
   "outputs": [
    {
     "name": "stdout",
     "output_type": "stream",
     "text": [
      "tensor([1., 1., 1., 1., 2., 2., 2., 2., 3., 3., 3., 3.])\n",
      "tensor([1., 1., 1., 1., 2., 2., 2., 2., 3., 3., 3., 3.])\n"
     ]
    }
   ],
   "source": [
    "print(t.reshape(1, -1).squeeze())\n",
    "print(t.flatten())"
   ]
  },
  {
   "cell_type": "code",
   "execution_count": 8,
   "id": "8143b21f",
   "metadata": {},
   "outputs": [
    {
     "name": "stdout",
     "output_type": "stream",
     "text": [
      "tensor([[1, 2],\n",
      "        [3, 4],\n",
      "        [5, 6],\n",
      "        [7, 8]])\n"
     ]
    },
    {
     "data": {
      "text/plain": [
       "tensor([[1, 2, 5, 6],\n",
       "        [3, 4, 7, 8]])"
      ]
     },
     "execution_count": 8,
     "metadata": {},
     "output_type": "execute_result"
    }
   ],
   "source": [
    "t1 = torch.tensor([\n",
    "    [1, 2],\n",
    "    [3, 4]\n",
    "])\n",
    "\n",
    "t2 = torch.tensor([\n",
    "    [5, 6],\n",
    "    [7, 8]\n",
    "])\n",
    "\n",
    "print(torch.cat((t1, t2), dim=0))\n",
    "\n",
    "torch.cat((t1, t2), dim=1)"
   ]
  },
  {
   "cell_type": "code",
   "execution_count": 9,
   "id": "ac330176",
   "metadata": {},
   "outputs": [
    {
     "data": {
      "text/plain": [
       "torch.Size([3, 4, 4])"
      ]
     },
     "execution_count": 9,
     "metadata": {},
     "output_type": "execute_result"
    }
   ],
   "source": [
    "# Создание представления тензора для пакета изображений\n",
    "\n",
    "t1 = torch.tensor([\n",
    "    [1, 1, 1, 1],\n",
    "    [1, 1, 1, 1],\n",
    "    [1, 1, 1, 1],\n",
    "    [1, 1, 1, 1]\n",
    "])\n",
    "\n",
    "t2 = torch.tensor([\n",
    "    [2, 2, 2, 2],\n",
    "    [2, 2, 2, 2],\n",
    "    [2, 2, 2, 2],\n",
    "    [2, 2, 2, 2]\n",
    "])\n",
    "\n",
    "t3 = torch.tensor([\n",
    "    [3, 3, 3, 3],\n",
    "    [3, 3, 3, 3],\n",
    "    [3, 3, 3, 3],\n",
    "    [3, 3, 3, 3]\n",
    "])\n",
    "\n",
    "t = torch.stack((t1, t2, t3))\n",
    "t.shape"
   ]
  },
  {
   "cell_type": "code",
   "execution_count": 10,
   "id": "a98179c8",
   "metadata": {},
   "outputs": [
    {
     "data": {
      "text/plain": [
       "tensor([[[[1, 1, 1, 1],\n",
       "          [1, 1, 1, 1],\n",
       "          [1, 1, 1, 1],\n",
       "          [1, 1, 1, 1]]],\n",
       "\n",
       "\n",
       "        [[[2, 2, 2, 2],\n",
       "          [2, 2, 2, 2],\n",
       "          [2, 2, 2, 2],\n",
       "          [2, 2, 2, 2]]],\n",
       "\n",
       "\n",
       "        [[[3, 3, 3, 3],\n",
       "          [3, 3, 3, 3],\n",
       "          [3, 3, 3, 3],\n",
       "          [3, 3, 3, 3]]]])"
      ]
     },
     "execution_count": 10,
     "metadata": {},
     "output_type": "execute_result"
    }
   ],
   "source": [
    "t = t.reshape(3, 1, 4, 4)\n",
    "t"
   ]
  },
  {
   "cell_type": "code",
   "execution_count": 11,
   "id": "44779b82",
   "metadata": {},
   "outputs": [
    {
     "data": {
      "text/plain": [
       "tensor([[1, 1, 1, 1, 1, 1, 1, 1, 1, 1, 1, 1, 1, 1, 1, 1],\n",
       "        [2, 2, 2, 2, 2, 2, 2, 2, 2, 2, 2, 2, 2, 2, 2, 2],\n",
       "        [3, 3, 3, 3, 3, 3, 3, 3, 3, 3, 3, 3, 3, 3, 3, 3]])"
      ]
     },
     "execution_count": 11,
     "metadata": {},
     "output_type": "execute_result"
    }
   ],
   "source": [
    "# Разворачивание определенных осей тензора\n",
    "\n",
    "t.flatten(start_dim=1)"
   ]
  },
  {
   "cell_type": "code",
   "execution_count": 12,
   "id": "207f1320",
   "metadata": {},
   "outputs": [
    {
     "data": {
      "text/plain": [
       "tensor([[[1., 1.],\n",
       "         [1., 1.]],\n",
       "\n",
       "        [[2., 2.],\n",
       "         [2., 2.]],\n",
       "\n",
       "        [[3., 3.],\n",
       "         [3., 3.]]])"
      ]
     },
     "execution_count": 12,
     "metadata": {},
     "output_type": "execute_result"
    }
   ],
   "source": [
    "# Разворачивание RGB изображения\n",
    "\n",
    "r = torch.ones(1, 2, 2)\n",
    "g = torch.ones(1, 2, 2) + 1\n",
    "b = torch.ones(1, 2, 2) + 2\n",
    "\n",
    "img = torch.cat((r, g, b), dim=0)\n",
    "\n",
    "img"
   ]
  },
  {
   "cell_type": "code",
   "execution_count": 13,
   "id": "957ca1e8",
   "metadata": {},
   "outputs": [
    {
     "data": {
      "text/plain": [
       "tensor([[1., 1., 1., 1.],\n",
       "        [2., 2., 2., 2.],\n",
       "        [3., 3., 3., 3.]])"
      ]
     },
     "execution_count": 13,
     "metadata": {},
     "output_type": "execute_result"
    }
   ],
   "source": [
    "img.flatten(start_dim=1)"
   ]
  },
  {
   "cell_type": "code",
   "execution_count": null,
   "id": "b27bec42",
   "metadata": {},
   "outputs": [
    {
     "data": {
      "text/plain": [
       "(5, 1750)"
      ]
     },
     "execution_count": 16,
     "metadata": {},
     "output_type": "execute_result"
    }
   ],
   "source": [
    "# Реализуйте функцию, которая принимает тензор продаж за неделю \n",
    "# и возвращает день с максимальными продажами и общие продажи за неделю.\n",
    "\n",
    "def analyze_sales(sales):\n",
    "    max_sales_day = sales.argmax().item()\n",
    "    total_sales = sales.sum().item()\n",
    "    return max_sales_day, total_sales\n",
    "\n",
    "analyze_sales(torch.tensor([100, 200, 150, 300, 250, 400, 350]))"
   ]
  },
  {
   "cell_type": "code",
   "execution_count": 30,
   "id": "c2be76b9",
   "metadata": {},
   "outputs": [
    {
     "data": {
      "text/plain": [
       "(3, 10.801234245300293)"
      ]
     },
     "execution_count": 30,
     "metadata": {},
     "output_type": "execute_result"
    }
   ],
   "source": [
    "# Реализуйте функцию, которая принимает тензор весов спортсменов \n",
    "# и возвращает количество спортсменов с весом ниже среднего и стандартное отклонение весов.\n",
    "\n",
    "def analyze_weights(weights):\n",
    "    mean_weight = torch.mean(weights.float())\n",
    "    std_dev = torch.std(weights.float()).item()\n",
    "    count_below_average = torch.sum(weights < mean_weight).item()\n",
    "    return count_below_average, std_dev\n",
    "\n",
    "analyze_weights(torch.tensor([70, 80, 75, 85, 90, 65, 60]))"
   ]
  },
  {
   "cell_type": "code",
   "execution_count": 40,
   "id": "a040e883",
   "metadata": {},
   "outputs": [
    {
     "name": "stdout",
     "output_type": "stream",
     "text": [
      "torch.Size([3, 3])\n",
      "9\n",
      "torch.int64\n"
     ]
    }
   ],
   "source": [
    "# Создайте тензор 3x3 с целыми значениями от 0 до 10, \n",
    "# затем выведите его размерность, общее количество элементов и тип данных.\n",
    "\n",
    "tns = torch.randint(0, 11, (3, 3))\n",
    "\n",
    "print(tns.shape)\n",
    "print(tns.numel())\n",
    "print(tns.dtype)"
   ]
  },
  {
   "cell_type": "code",
   "execution_count": null,
   "id": "f16caabb",
   "metadata": {},
   "outputs": [
    {
     "data": {
      "text/plain": [
       "(tensor([28, 32, 36, 40]), tensor([ 7,  8,  9, 10]), tensor([4, 4, 4, 4]))"
      ]
     },
     "execution_count": 82,
     "metadata": {},
     "output_type": "execute_result"
    }
   ],
   "source": [
    "# Вам дан 4×4 тензор с числами от 1 до 16 (включительно). \n",
    "# Реализуйте функцию, которая вычисляет сумму, среднее \n",
    "# и стандартное отклонение по каждому столбцу (то есть вдоль первой оси).\n",
    "\n",
    "def compute_reductions(t):\n",
    "    column_sums = torch.LongTensor(np.sum(t.numpy(), axis=0))\n",
    "    column_means = torch.LongTensor(np.mean(t.numpy(), axis=0))\n",
    "    column_stds = torch.LongTensor(np.std(t.numpy(), axis=0))\n",
    "    return column_sums, column_means, column_stds\n",
    "\n",
    "compute_reductions(torch.arange(1, 17).reshape(4, 4))"
   ]
  },
  {
   "cell_type": "code",
   "execution_count": 85,
   "id": "23b04f66",
   "metadata": {},
   "outputs": [
    {
     "data": {
      "text/plain": [
       "tensor([[7, 3],\n",
       "        [6, 6]])"
      ]
     },
     "execution_count": 85,
     "metadata": {},
     "output_type": "execute_result"
    }
   ],
   "source": [
    "# Вам дан тензор размером 5×5 с целыми числами. Реализуйте функцию, \n",
    "# которая извлекает подматрицу из второго и третьего ряда и второго и третьего столбца.\n",
    "\n",
    "def extract_subtensor(t):\n",
    "    sub = t[1:3, 1:3]\n",
    "    return sub\n",
    "\n",
    "extract_subtensor(torch.randint(0, 10, (5, 5), generator=torch.manual_seed(0)))"
   ]
  },
  {
   "cell_type": "code",
   "execution_count": 122,
   "id": "e2e94ffd",
   "metadata": {},
   "outputs": [
    {
     "data": {
      "text/plain": [
       "(tensor([[4, 3, 2],\n",
       "         [1, 0, 1],\n",
       "         [2, 3, 4]]),\n",
       " tensor([0.0000, 1.0000, 1.4142, 1.7321, 2.0000]),\n",
       " tensor([[ 4,  3,  2],\n",
       "         [ 1,  0, -1],\n",
       "         [-2, -3, -4]]))"
      ]
     },
     "execution_count": 122,
     "metadata": {},
     "output_type": "execute_result"
    }
   ],
   "source": [
    "# Создайте тензор от -4 до 4 включительно (3×3). \n",
    "# Реализуйте функцию, которая возвращает: \n",
    "# (1) абсолютные значения, \n",
    "# (2) квадратные корни от положительных значений, \n",
    "# (3) отрицания всех элементов.\n",
    "\n",
    "def apply_math_ops(t):\n",
    "    abs_t = torch.abs(t)\n",
    "    sqrt_t = torch.sqrt((t[t >= 0]).float())\n",
    "    neg_t = torch.neg(t)\n",
    "    return abs_t, sqrt_t, neg_t\n",
    "\n",
    "t = torch.arange(-4, 5).reshape(3, 3)\n",
    "\n",
    "apply_math_ops(t)"
   ]
  },
  {
   "cell_type": "code",
   "execution_count": 130,
   "id": "d5fada70",
   "metadata": {},
   "outputs": [
    {
     "data": {
      "text/plain": [
       "(tensor([1, 2, 3]), tensor([1, 2, 3], device='cuda:0'))"
      ]
     },
     "execution_count": 130,
     "metadata": {},
     "output_type": "execute_result"
    }
   ],
   "source": [
    "# Создайте тензор на CPU, переместите его на GPU (если доступен) и проверьте устройство до и после перемещения.\n",
    "\n",
    "def move_to_device(t):\n",
    "    before = t\n",
    "    after = t.to('cuda')\n",
    "    return before, after\n",
    "\n",
    "a = torch.tensor([1, 2, 3])\n",
    "move_to_device(a)"
   ]
  },
  {
   "cell_type": "code",
   "execution_count": 145,
   "id": "82e1edf1",
   "metadata": {},
   "outputs": [
    {
     "data": {
      "text/plain": [
       "device(type='cpu')"
      ]
     },
     "execution_count": 145,
     "metadata": {},
     "output_type": "execute_result"
    }
   ],
   "source": [
    "t = torch.tensor([1, 2, 3])\n",
    "t.device"
   ]
  },
  {
   "cell_type": "code",
   "execution_count": 147,
   "id": "35c74a4b",
   "metadata": {},
   "outputs": [
    {
     "data": {
      "text/plain": [
       "device(type='cuda', index=0)"
      ]
     },
     "execution_count": 147,
     "metadata": {},
     "output_type": "execute_result"
    }
   ],
   "source": [
    "t = t.to(device='cuda')\n",
    "t.device"
   ]
  },
  {
   "cell_type": "markdown",
   "id": "05860a03",
   "metadata": {},
   "source": [
    "# 3.1  Работа с данными (Fashion-MNIST)"
   ]
  },
  {
   "cell_type": "code",
   "execution_count": null,
   "id": "accd0fcc",
   "metadata": {},
   "outputs": [],
   "source": [
    "# Fashion-MNIST создан как замена MNIST. Набор данных разработан так, чтобы максимально соответствовать оригинальному MNIST, но с более сложными данными.\n",
    "\n",
    "# Оба набора данных имеют по 10 классов.\n",
    "\n",
    "# MNIST — 10 классов (цифры от 0 до 9)\n",
    "# Fashion-MNIST — 10 классов"
   ]
  },
  {
   "cell_type": "markdown",
   "id": "f13321ac",
   "metadata": {},
   "source": [
    "# 3.2 Извлечение, преобразование и загрузка (ETL)"
   ]
  },
  {
   "cell_type": "code",
   "execution_count": null,
   "id": "cfe226fe",
   "metadata": {},
   "outputs": [],
   "source": [
    "import torch\n",
    "import torch.nn as nn\n",
    "import torch.optim as optim\n",
    "import torch.nn.functional as F\n",
    "import torchvision\n",
    "import torchvision.transforms as transforms\n",
    "\n",
    "# torch\tОсновной пакет PyTorch и библиотека тензоров.\n",
    "# torch.nn\tМодули и классы для создания нейронных сетей.\n",
    "# torch.optim\tСтандартные операции оптимизации, такие как SGD и Adam.\n",
    "# torch.nn.functional\tФункции для создания нейронных сетей, такие как функции потерь и свертки.\n",
    "# torchvision\tДоступ к популярным наборам данных, архитектурам моделей и преобразованиям изображений.\n",
    "# torchvision.transforms\tПреобразования для обработки изображений."
   ]
  },
  {
   "cell_type": "code",
   "execution_count": null,
   "id": "515a3603",
   "metadata": {},
   "outputs": [],
   "source": [
    "import numpy as np\n",
    "import pandas as pd\n",
    "import matplotlib.pyplot as plt\n",
    "from sklearn.metrics import confusion_matrix\n",
    "# from plotcm import plot_confusion_matrix\n",
    "import pdb # это отладчик Python\n",
    "\n",
    "torch.set_printoptions(linewidth=120) # устанавливает параметры вывода для операторов печати PyTorch"
   ]
  },
  {
   "cell_type": "code",
   "execution_count": null,
   "id": "d70ce3b2",
   "metadata": {},
   "outputs": [],
   "source": [
    "# Класс\t                        Описание\n",
    "# torch.utils.data.Dataset\t    Абстрактный класс для представления набора данных.\n",
    "# torch.utils.data.DataLoader\tОборачивает набор данных и предоставляет доступ к данным.\n",
    "\n",
    "# Чтобы создать пользовательский набор данных с использованием PyTorch, \n",
    "# мы расширяем класс Dataset, создавая подкласс, который реализует необходимые методы. \n",
    "# После этого наш новый подкласс может быть передан объекту DataLoader PyTorch."
   ]
  },
  {
   "cell_type": "markdown",
   "id": "7917396f",
   "metadata": {},
   "source": [
    "# Класс Dataset в PyTorch"
   ]
  },
  {
   "cell_type": "code",
   "execution_count": 151,
   "id": "62fa0fb8",
   "metadata": {},
   "outputs": [
    {
     "name": "stderr",
     "output_type": "stream",
     "text": [
      "100%|██████████| 26.4M/26.4M [00:06<00:00, 3.98MB/s]\n",
      "100%|██████████| 29.5k/29.5k [00:00<00:00, 772kB/s]\n",
      "100%|██████████| 4.42M/4.42M [00:01<00:00, 2.43MB/s]\n",
      "100%|██████████| 5.15k/5.15k [00:00<?, ?B/s]\n"
     ]
    }
   ],
   "source": [
    "train_set = torchvision.datasets.FashionMNIST(\n",
    "    root='./data',\n",
    "    train=True,\n",
    "    download=True,\n",
    "    transform=transforms.Compose([\n",
    "        transforms.ToTensor()\n",
    "    ])\n",
    ")"
   ]
  },
  {
   "cell_type": "code",
   "execution_count": null,
   "id": "82cb1a6e",
   "metadata": {},
   "outputs": [],
   "source": [
    "# Параметр\t    Описание\n",
    "# root\t        Местоположение на диске, где находятся данные.\n",
    "# train\t        Если набор данных является обучающим набором\n",
    "# download\t    Если данные должны быть загружены.\n",
    "# transform\t    Состав преобразований, которые должны быть выполнены над элементами набора данных."
   ]
  },
  {
   "cell_type": "markdown",
   "id": "e89b2897",
   "metadata": {},
   "source": [
    "# Класс DataLoader в PyTorch"
   ]
  },
  {
   "cell_type": "code",
   "execution_count": 152,
   "id": "36d864f7",
   "metadata": {},
   "outputs": [],
   "source": [
    "# Чтобы создать обертку DataLoader для нашего обучающего набора, мы делаем это так:\n",
    "\n",
    "train_loader = torch.utils.data.DataLoader(\n",
    "    train_set,\n",
    "    batch_size=1000,\n",
    "    shuffle=True\n",
    ")"
   ]
  },
  {
   "cell_type": "markdown",
   "id": "2d976dc3",
   "metadata": {},
   "source": [
    "# 3.3 Datasets и DataLoaders"
   ]
  },
  {
   "cell_type": "code",
   "execution_count": null,
   "id": "2decb28f",
   "metadata": {},
   "outputs": [
    {
     "data": {
      "text/plain": [
       "tensor([6000, 6000, 6000, 6000, 6000, 6000, 6000, 6000, 6000, 6000])"
      ]
     },
     "execution_count": 153,
     "metadata": {},
     "output_type": "execute_result"
    }
   ],
   "source": [
    "# количество каждой метки в наборе данных\n",
    "\n",
    "train_set.targets.bincount()"
   ]
  },
  {
   "cell_type": "code",
   "execution_count": null,
   "id": "9fdabddf",
   "metadata": {},
   "outputs": [
    {
     "data": {
      "text/plain": [
       "2"
      ]
     },
     "execution_count": 154,
     "metadata": {},
     "output_type": "execute_result"
    }
   ],
   "source": [
    "# Чтобы получить доступ к отдельному элементу из тренировочного набора, \n",
    "# мы используем функцию iter(), которая возвращает объект, представляющий поток данных.\n",
    "\n",
    "sample = next(iter(train_set))\n",
    "len(sample) # пара изображение - метка класса"
   ]
  },
  {
   "cell_type": "code",
   "execution_count": 159,
   "id": "29f1f2bb",
   "metadata": {},
   "outputs": [
    {
     "data": {
      "text/plain": [
       "(torch.Tensor, int)"
      ]
     },
     "execution_count": 159,
     "metadata": {},
     "output_type": "execute_result"
    }
   ],
   "source": [
    "image, label = sample\n",
    "\n",
    "type(image), type(label)"
   ]
  },
  {
   "cell_type": "code",
   "execution_count": 162,
   "id": "702fdce9",
   "metadata": {},
   "outputs": [
    {
     "data": {
      "text/plain": [
       "(torch.Size([1, 28, 28]), torch.Size([]))"
      ]
     },
     "execution_count": 162,
     "metadata": {},
     "output_type": "execute_result"
    }
   ],
   "source": [
    "image.shape, torch.tensor(label).shape"
   ]
  },
  {
   "cell_type": "code",
   "execution_count": 165,
   "id": "3090c198",
   "metadata": {},
   "outputs": [
    {
     "data": {
      "text/plain": [
       "torch.Size([1, 28, 28])"
      ]
     },
     "execution_count": 165,
     "metadata": {},
     "output_type": "execute_result"
    }
   ],
   "source": [
    "image.shape"
   ]
  },
  {
   "cell_type": "code",
   "execution_count": 166,
   "id": "702f9e82",
   "metadata": {},
   "outputs": [
    {
     "data": {
      "text/plain": [
       "torch.Size([28, 28])"
      ]
     },
     "execution_count": 166,
     "metadata": {},
     "output_type": "execute_result"
    }
   ],
   "source": [
    "image.squeeze().shape"
   ]
  },
  {
   "cell_type": "code",
   "execution_count": 172,
   "id": "ae9f9cbb",
   "metadata": {},
   "outputs": [
    {
     "data": {
      "text/plain": [
       "tensor(9)"
      ]
     },
     "execution_count": 172,
     "metadata": {},
     "output_type": "execute_result"
    },
    {
     "data": {
      "image/png": "[encoded data removed]",
      "text/plain": [
       "<Figure size 640x480 with 1 Axes>"
      ]
     },
     "metadata": {},
     "output_type": "display_data"
    }
   ],
   "source": [
    "# Теперь построим изображение. Мы сначала сжимаем тензор, а затем передаем его функции imshow().\n",
    "\n",
    "plt.imshow(image.squeeze(), cmap=\"gray\")\n",
    "torch.tensor(label)"
   ]
  },
  {
   "cell_type": "code",
   "execution_count": 173,
   "id": "f4385f73",
   "metadata": {},
   "outputs": [],
   "source": [
    "display_loader = torch.utils.data.DataLoader(\n",
    "    train_set, \n",
    "    batch_size=10\n",
    ")"
   ]
  },
  {
   "cell_type": "code",
   "execution_count": 174,
   "id": "48e5198c",
   "metadata": {},
   "outputs": [
    {
     "name": "stdout",
     "output_type": "stream",
     "text": [
      "len: 2\n"
     ]
    }
   ],
   "source": [
    "batch = next(iter(display_loader))\n",
    "print('len:', len(batch))"
   ]
  },
  {
   "cell_type": "code",
   "execution_count": 175,
   "id": "5a799f2f",
   "metadata": {},
   "outputs": [
    {
     "name": "stdout",
     "output_type": "stream",
     "text": [
      "types: <class 'torch.Tensor'> <class 'torch.Tensor'>\n",
      "shapes: torch.Size([10, 1, 28, 28]) torch.Size([10])\n"
     ]
    }
   ],
   "source": [
    "images, labels = batch\n",
    "\n",
    "print('types:', type(images), type(labels))\n",
    "print('shapes:', images.shape, labels.shape)"
   ]
  },
  {
   "cell_type": "code",
   "execution_count": 176,
   "id": "d3a104e9",
   "metadata": {},
   "outputs": [
    {
     "name": "stdout",
     "output_type": "stream",
     "text": [
      "labels: tensor([9, 0, 0, 3, 0, 2, 7, 2, 5, 5])\n"
     ]
    },
    {
     "data": {
      "image/png": "[encoded data removed]",
      "text/plain": [
       "<Figure size 1500x1500 with 1 Axes>"
      ]
     },
     "metadata": {},
     "output_type": "display_data"
    }
   ],
   "source": [
    "# Чтобы построить пакет изображений, мы можем использовать функцию torchvision.utils.make_grid() для создания сетки\n",
    "\n",
    "grid = torchvision.utils.make_grid(images, nrow=10)\n",
    "\n",
    "plt.figure(figsize=(15, 15))\n",
    "plt.imshow(np.transpose(grid, (1, 2, 0)))\n",
    "\n",
    "print('labels:', labels)"
   ]
  },
  {
   "cell_type": "code",
   "execution_count": 177,
   "id": "4c401171",
   "metadata": {},
   "outputs": [
    {
     "name": "stdout",
     "output_type": "stream",
     "text": [
      "labels: tensor([9, 0, 0, 3, 0, 2, 7, 2, 5, 5])\n"
     ]
    },
    {
     "data": {
      "image/png": "[encoded data removed]",
      "text/plain": [
       "<Figure size 1500x1500 with 1 Axes>"
      ]
     },
     "metadata": {},
     "output_type": "display_data"
    }
   ],
   "source": [
    "grid = torchvision.utils.make_grid(images, nrow=10)\n",
    "\n",
    "plt.figure(figsize=(15, 15))\n",
    "plt.imshow(grid.permute(1, 2, 0))\n",
    "\n",
    "print('labels:', labels)"
   ]
  },
  {
   "cell_type": "code",
   "execution_count": null,
   "id": "af8e6ce1",
   "metadata": {},
   "outputs": [
    {
     "data": {
      "image/png": "[encoded data removed]",
      "text/plain": [
       "<Figure size 5000x5000 with 20 Axes>"
      ]
     },
     "metadata": {},
     "output_type": "display_data"
    }
   ],
   "source": [
    "how_many_to_plot = 20\n",
    "\n",
    "train_loader = torch.utils.data.DataLoader(\n",
    "    train_set, batch_size=1, shuffle=True\n",
    ")\n",
    "\n",
    "plt.figure(figsize=(50, 50))\n",
    "\n",
    "for i, batch in enumerate(train_loader, start=1):\n",
    "    image, label = batch\n",
    "    plt.subplot(10, 10, i)\n",
    "    plt.imshow(image.reshape(28, 28), cmap='gray')\n",
    "    plt.axis('off')\n",
    "    plt.title(train_set.classes[label.item()], fontsize=28)\n",
    "    \n",
    "    if i >= how_many_to_plot:\n",
    "        break\n",
    "\n",
    "plt.show();"
   ]
  },
  {
   "cell_type": "markdown",
   "id": "2ee6b811",
   "metadata": {},
   "source": [
    "# 4.1 Создание нейронных сетей"
   ]
  },
  {
   "cell_type": "code",
   "execution_count": 181,
   "id": "29f4f399",
   "metadata": {},
   "outputs": [
    {
     "name": "stdout",
     "output_type": "stream",
     "text": [
      "tensor([[-0.1708]], grad_fn=<AddmmBackward0>)\n"
     ]
    }
   ],
   "source": [
    "# Чтобы строить нейронные сети в PyTorch, мы расширяем класс nn.Module. \n",
    "# Это требует использования объектно-ориентированного программирования (ООП) в Python.\n",
    "\n",
    "import torch\n",
    "import torch.nn as nn\n",
    "\n",
    "class MyModel(nn.Module):\n",
    "    def __init__(self):\n",
    "        super(MyModel, self).__init__()\n",
    "        # Определите слои здесь\n",
    "        self.layer1 = nn.Linear(in_features=10, out_features=5)\n",
    "        self.layer2 = nn.ReLU()\n",
    "        self.layer3 = nn.Linear(in_features=5, out_features=1)\n",
    "\n",
    "    def forward(self, x):\n",
    "        # Определите прямой проход\n",
    "        x = self.layer1(x)\n",
    "        x = self.layer2(x)\n",
    "        x = self.layer3(x)\n",
    "        return x\n",
    "\n",
    "# Пример использования\n",
    "model = MyModel()\n",
    "input_data = torch.randn(1, 10)\n",
    "output = model(input_data)\n",
    "print(output)"
   ]
  },
  {
   "cell_type": "code",
   "execution_count": 182,
   "id": "74807d60",
   "metadata": {},
   "outputs": [
    {
     "name": "stdout",
     "output_type": "stream",
     "text": [
      "SimpleNN(\n",
      "  (fc1): Linear(in_features=10, out_features=5, bias=True)\n",
      "  (relu): ReLU()\n",
      "  (fc2): Linear(in_features=5, out_features=2, bias=True)\n",
      ")\n"
     ]
    }
   ],
   "source": [
    "# Пример определения простой нейронной сети с использованием torch.nn\n",
    "class SimpleNN(nn.Module):\n",
    "    def __init__(self, input_size, hidden_size, output_size):\n",
    "        super(SimpleNN, self).__init__()\n",
    "        self.fc1 = nn.Linear(input_size, hidden_size)\n",
    "        self.relu = nn.ReLU()\n",
    "        self.fc2 = nn.Linear(hidden_size, output_size)\n",
    "\n",
    "    def forward(self, x):\n",
    "        out = self.fc1(x)\n",
    "        out = self.relu(out)\n",
    "        out = self.fc2(out)\n",
    "        return out\n",
    "\n",
    "# Пример использования\n",
    "input_size = 10\n",
    "hidden_size = 5\n",
    "output_size = 2\n",
    "\n",
    "model = SimpleNN(input_size, hidden_size, output_size)\n",
    "print(model)"
   ]
  },
  {
   "cell_type": "markdown",
   "id": "bc5e4050",
   "metadata": {},
   "source": [
    "# 4.2 Слои"
   ]
  },
  {
   "cell_type": "code",
   "execution_count": 183,
   "id": "14b3bb90",
   "metadata": {},
   "outputs": [],
   "source": [
    "class Network(nn.Module):\n",
    "    def __init__(self):\n",
    "        super().__init__()\n",
    "        self.conv1 = nn.Conv2d(in_channels=1, out_channels=6, kernel_size=5)\n",
    "        self.conv2 = nn.Conv2d(in_channels=6, out_channels=12, kernel_size=5)\n",
    "\n",
    "        self.fc1 = nn.Linear(in_features=12 * 4 * 4, out_features=120)\n",
    "        self.fc2 = nn.Linear(in_features=120, out_features=60)\n",
    "        self.out = nn.Linear(in_features=60, out_features=10)\n",
    "\n",
    "    def forward(self, t):\n",
    "        # implement the forward pass\n",
    "        return t"
   ]
  },
  {
   "cell_type": "code",
   "execution_count": null,
   "id": "4f56ce39",
   "metadata": {},
   "outputs": [],
   "source": [
    "# self.conv1 = nn.Conv2d(in_channels=1, out_channels=6, kernel_size=5)\n",
    "# self.conv2 = nn.Conv2d(in_channels=6, out_channels=12, kernel_size=5)\n",
    "\n",
    "# self.fc1 = nn.Linear(in_features=12 * 4 * 4, out_features=120)\n",
    "# self.fc2 = nn.Linear(in_features=120, out_features=60)\n",
    "# self.out = nn.Linear(in_features=60, out_features=10)\n",
    "\n",
    "# Слой\t    Имя параметра\t        Значение параметра\tЗначение параметра является\n",
    "# conv1\t    in_channels\t1\t        количеством цветовых каналов во входном изображении.\n",
    "# conv1\t    kernel_size\t5\t        гиперпараметром.\n",
    "# conv1\t    out_channels 6\t        гиперпараметром.\n",
    "# conv2\t    in_channels\t6           количеством out_channels в предыдущем слое.\n",
    "# conv2\t    kernel_size\t5           гиперпараметром.\n",
    "# conv2\t    out_channels 12\t        гиперпараметром (больше, чем в предыдущем сверточном слое).\n",
    "# fc1\t    in_features 12*4*4\t    длиной развернутого выхода из предыдущего слоя.\n",
    "# fc1\t    out_features 120\t    гиперпараметром.\n",
    "# fc2\t    in_features\t120\t        количеством out_features предыдущего слоя.\n",
    "# fc2\t    out_features 60\t        гиперпараметром (меньше, чем в предыдущем линейном слое).\n",
    "# out\t    in_features 60\t        количеством out_channels в предыдущем слое.\n",
    "# out\t    out_features 10\t        количеством классов предсказания."
   ]
  },
  {
   "cell_type": "code",
   "execution_count": 184,
   "id": "a98235eb",
   "metadata": {},
   "outputs": [
    {
     "name": "stdout",
     "output_type": "stream",
     "text": [
      "Привет\n",
      "Привет\n",
      "Привет\n",
      "Привет\n"
     ]
    }
   ],
   "source": [
    "i = 1\n",
    "while i < 10:\n",
    "    if i % 2 == 0:\n",
    "        print(\"Привет\")\n",
    "    i += 1"
   ]
  },
  {
   "cell_type": "code",
   "execution_count": null,
   "id": "3534f052",
   "metadata": {},
   "outputs": [],
   "source": []
  }
 ],
 "metadata": {
  "kernelspec": {
   "display_name": "ml",
   "language": "python",
   "name": "python3"
  },
  "language_info": {
   "codemirror_mode": {
    "name": "ipython",
    "version": 3
   },
   "file_extension": ".py",
   "mimetype": "text/x-python",
   "name": "python",
   "nbconvert_exporter": "python",
   "pygments_lexer": "ipython3",
   "version": "3.12.3"
  }
 },
 "nbformat": 4,
 "nbformat_minor": 5
}
