{
 "cells": [
  {
   "cell_type": "code",
   "execution_count": 1,
   "id": "35d9650c",
   "metadata": {
    "_cell_guid": "b1076dfc-b9ad-4769-8c92-a6c4dae69d19",
    "_uuid": "8f2839f25d086af736a60e9eeb907d3b93b6e0e5",
    "execution": {
     "iopub.execute_input": "2025-03-15T20:36:58.100893Z",
     "iopub.status.busy": "2025-03-15T20:36:58.100436Z",
     "iopub.status.idle": "2025-03-15T20:37:03.245655Z",
     "shell.execute_reply": "2025-03-15T20:37:03.244130Z"
    },
    "papermill": {
     "duration": 5.158593,
     "end_time": "2025-03-15T20:37:03.248506",
     "exception": false,
     "start_time": "2025-03-15T20:36:58.089913",
     "status": "completed"
    },
    "tags": []
   },
   "outputs": [
    {
     "name": "stdout",
     "output_type": "stream",
     "text": [
      "/kaggle/input/chocolate-rating-prediction-ai-edu/chocolate_train.csv\n",
      "/kaggle/input/chocolate-rating-prediction-ai-edu/choco_sample_submission.csv\n",
      "/kaggle/input/chocolate-rating-prediction-ai-edu/chocolate_test_new.csv\n"
     ]
    }
   ],
   "source": [
    "import numpy as np # linear algebra\n",
    "import pandas as pd # data processing, CSV file I/O (e.g. pd.read_csv)\n",
    "from catboost import CatBoostRegressor\n",
    "from sklearn.model_selection import train_test_split\n",
    "from sklearn.metrics import mean_squared_error\n",
    "from sklearn.ensemble import RandomForestRegressor\n",
    "import pandas as pd\n",
    "from category_encoders import TargetEncoder\n",
    "import seaborn as sns\n",
    "import matplotlib.pyplot as plt\n",
    "from sklearn.model_selection import train_test_split, GridSearchCV\n",
    "from catboost import CatBoostClassifier, Pool\n",
    "# Input data files are available in the read-only \"../input/\" directory\n",
    "# For example, running this (by clicking run or pressing Shift+Enter) will list all files under the input directory\n",
    "\n",
    "import os\n",
    "for dirname, _, filenames in os.walk('/kaggle/input'):\n",
    "    for filename in filenames:\n",
    "        print(os.path.join(dirname, filename))\n",
    "\n",
    "# You can write up to 20GB to the current directory (/kaggle/working/) that gets preserved as output when you create a version using \"Save & Run All\" \n",
    "# You can also write temporary files to /kaggle/temp/, but they won't be saved outside of the current session"
   ]
  },
  {
   "cell_type": "markdown",
   "id": "7a4f279c",
   "metadata": {
    "papermill": {
     "duration": 0.009908,
     "end_time": "2025-03-15T20:37:03.274158",
     "exception": false,
     "start_time": "2025-03-15T20:37:03.264250",
     "status": "completed"
    },
    "tags": []
   },
   "source": [
    "Никнейм в kagle: Максим Архипов"
   ]
  },
  {
   "cell_type": "code",
   "execution_count": 2,
   "id": "aea80cc9",
   "metadata": {
    "execution": {
     "iopub.execute_input": "2025-03-15T20:37:03.295431Z",
     "iopub.status.busy": "2025-03-15T20:37:03.294867Z",
     "iopub.status.idle": "2025-03-15T20:37:03.324104Z",
     "shell.execute_reply": "2025-03-15T20:37:03.323342Z"
    },
    "papermill": {
     "duration": 0.040417,
     "end_time": "2025-03-15T20:37:03.325891",
     "exception": false,
     "start_time": "2025-03-15T20:37:03.285474",
     "status": "completed"
    },
    "tags": []
   },
   "outputs": [],
   "source": [
    "df = pd.read_csv('/kaggle/input/chocolate-rating-prediction-ai-edu/chocolate_train.csv')\n",
    "df_test = pd.read_csv('/kaggle/input/chocolate-rating-prediction-ai-edu/chocolate_test_new.csv')"
   ]
  },
  {
   "cell_type": "code",
   "execution_count": 3,
   "id": "4b5c4fe3",
   "metadata": {
    "execution": {
     "iopub.execute_input": "2025-03-15T20:37:03.344153Z",
     "iopub.status.busy": "2025-03-15T20:37:03.343822Z",
     "iopub.status.idle": "2025-03-15T20:37:03.370755Z",
     "shell.execute_reply": "2025-03-15T20:37:03.369660Z"
    },
    "papermill": {
     "duration": 0.037911,
     "end_time": "2025-03-15T20:37:03.372530",
     "exception": false,
     "start_time": "2025-03-15T20:37:03.334619",
     "status": "completed"
    },
    "tags": []
   },
   "outputs": [
    {
     "data": {
      "text/html": [
       "<div>\n",
       "<style scoped>\n",
       "    .dataframe tbody tr th:only-of-type {\n",
       "        vertical-align: middle;\n",
       "    }\n",
       "\n",
       "    .dataframe tbody tr th {\n",
       "        vertical-align: top;\n",
       "    }\n",
       "\n",
       "    .dataframe thead th {\n",
       "        text-align: right;\n",
       "    }\n",
       "</style>\n",
       "<table border=\"1\" class=\"dataframe\">\n",
       "  <thead>\n",
       "    <tr style=\"text-align: right;\">\n",
       "      <th></th>\n",
       "      <th>Company</th>\n",
       "      <th>Specific Bean Origin</th>\n",
       "      <th>REF</th>\n",
       "      <th>Review</th>\n",
       "      <th>Cocoa Percent</th>\n",
       "      <th>Company Location</th>\n",
       "      <th>Rating</th>\n",
       "      <th>Bean Type</th>\n",
       "      <th>Broad Bean Origin</th>\n",
       "    </tr>\n",
       "  </thead>\n",
       "  <tbody>\n",
       "    <tr>\n",
       "      <th>0</th>\n",
       "      <td>Willie's Cacao</td>\n",
       "      <td>Rio Caribe</td>\n",
       "      <td>457</td>\n",
       "      <td>2009</td>\n",
       "      <td>72%</td>\n",
       "      <td>U.K.</td>\n",
       "      <td>3.25</td>\n",
       "      <td>Trinitario</td>\n",
       "      <td>Venezuela</td>\n",
       "    </tr>\n",
       "    <tr>\n",
       "      <th>1</th>\n",
       "      <td>Beschle (Felchlin)</td>\n",
       "      <td>Ocumare, Premier Cru, Quizas No. 2</td>\n",
       "      <td>508</td>\n",
       "      <td>2010</td>\n",
       "      <td>72%</td>\n",
       "      <td>Switzerland</td>\n",
       "      <td>3.50</td>\n",
       "      <td></td>\n",
       "      <td>Venezuela</td>\n",
       "    </tr>\n",
       "  </tbody>\n",
       "</table>\n",
       "</div>"
      ],
      "text/plain": [
       "              Company                Specific Bean Origin  REF  Review  \\\n",
       "0      Willie's Cacao                          Rio Caribe  457    2009   \n",
       "1  Beschle (Felchlin)  Ocumare, Premier Cru, Quizas No. 2  508    2010   \n",
       "\n",
       "  Cocoa Percent Company Location  Rating   Bean Type Broad Bean Origin  \n",
       "0           72%             U.K.    3.25  Trinitario         Venezuela  \n",
       "1           72%      Switzerland    3.50                     Venezuela  "
      ]
     },
     "execution_count": 3,
     "metadata": {},
     "output_type": "execute_result"
    }
   ],
   "source": [
    "df.head(2)"
   ]
  },
  {
   "cell_type": "code",
   "execution_count": 4,
   "id": "cc9f975f",
   "metadata": {
    "execution": {
     "iopub.execute_input": "2025-03-15T20:37:03.390905Z",
     "iopub.status.busy": "2025-03-15T20:37:03.390572Z",
     "iopub.status.idle": "2025-03-15T20:37:03.396922Z",
     "shell.execute_reply": "2025-03-15T20:37:03.396140Z"
    },
    "papermill": {
     "duration": 0.017226,
     "end_time": "2025-03-15T20:37:03.398449",
     "exception": false,
     "start_time": "2025-03-15T20:37:03.381223",
     "status": "completed"
    },
    "tags": []
   },
   "outputs": [],
   "source": [
    "df['Cocoa Percent'] = df['Cocoa Percent'].apply(lambda x: x[0:-1])\n",
    "df['Cocoa Percent'] = df['Cocoa Percent'].astype(float)"
   ]
  },
  {
   "cell_type": "code",
   "execution_count": 5,
   "id": "1f311445",
   "metadata": {
    "execution": {
     "iopub.execute_input": "2025-03-15T20:37:03.416758Z",
     "iopub.status.busy": "2025-03-15T20:37:03.416434Z",
     "iopub.status.idle": "2025-03-15T20:37:03.422763Z",
     "shell.execute_reply": "2025-03-15T20:37:03.421824Z"
    },
    "papermill": {
     "duration": 0.017275,
     "end_time": "2025-03-15T20:37:03.424335",
     "exception": false,
     "start_time": "2025-03-15T20:37:03.407060",
     "status": "completed"
    },
    "tags": []
   },
   "outputs": [],
   "source": [
    "df['Bean Type'] = df['Bean Type'].fillna('\\xa0')"
   ]
  },
  {
   "cell_type": "code",
   "execution_count": 6,
   "id": "40b5d562",
   "metadata": {
    "execution": {
     "iopub.execute_input": "2025-03-15T20:37:03.442498Z",
     "iopub.status.busy": "2025-03-15T20:37:03.442155Z",
     "iopub.status.idle": "2025-03-15T20:37:03.452237Z",
     "shell.execute_reply": "2025-03-15T20:37:03.451373Z"
    },
    "papermill": {
     "duration": 0.020932,
     "end_time": "2025-03-15T20:37:03.453934",
     "exception": false,
     "start_time": "2025-03-15T20:37:03.433002",
     "status": "completed"
    },
    "tags": []
   },
   "outputs": [
    {
     "data": {
      "text/plain": [
       "array(['U.K.', 'Switzerland', 'U.S.A.', 'France', 'Ecuador', 'Colombia',\n",
       "       'Canada', 'Belgium', 'Spain', 'Italy', 'New Zealand', 'Venezuela',\n",
       "       'Austria', 'Japan', 'Vietnam', 'Sweden', 'Madagascar', 'Brazil',\n",
       "       'Peru', 'Honduras', 'Fiji', 'Australia', 'Eucador', 'Ireland',\n",
       "       'Poland', 'Hungary', 'Germany', 'South Korea', 'Israel',\n",
       "       'Guatemala', 'Domincan Republic', 'Denmark', 'Grenada',\n",
       "       'Lithuania', 'Scotland', 'Argentina', 'Finland', 'Singapore',\n",
       "       'South Africa', 'Ghana', 'Chile', 'Puerto Rico', 'India',\n",
       "       'Costa Rica', 'Sao Tome', 'St. Lucia', 'Nicaragua', 'Mexico',\n",
       "       'Bolivia', 'Niacragua', 'Iceland', 'Amsterdam', 'Wales',\n",
       "       'Netherlands', 'Russia', 'Portugal', 'Suriname', 'Czech Republic'],\n",
       "      dtype=object)"
      ]
     },
     "execution_count": 6,
     "metadata": {},
     "output_type": "execute_result"
    }
   ],
   "source": [
    "df['Company Location'].unique()"
   ]
  },
  {
   "cell_type": "markdown",
   "id": "a77f80ad",
   "metadata": {
    "papermill": {
     "duration": 0.008343,
     "end_time": "2025-03-15T20:37:03.471164",
     "exception": false,
     "start_time": "2025-03-15T20:37:03.462821",
     "status": "completed"
    },
    "tags": []
   },
   "source": [
    "### Восстановим незаполненный класс Bean Type при помощи CatBoostClassifier"
   ]
  },
  {
   "cell_type": "code",
   "execution_count": 7,
   "id": "a1743728",
   "metadata": {
    "execution": {
     "iopub.execute_input": "2025-03-15T20:37:03.489297Z",
     "iopub.status.busy": "2025-03-15T20:37:03.488928Z",
     "iopub.status.idle": "2025-03-15T20:37:03.499032Z",
     "shell.execute_reply": "2025-03-15T20:37:03.498308Z"
    },
    "papermill": {
     "duration": 0.020953,
     "end_time": "2025-03-15T20:37:03.500555",
     "exception": false,
     "start_time": "2025-03-15T20:37:03.479602",
     "status": "completed"
    },
    "tags": []
   },
   "outputs": [],
   "source": [
    "from sklearn.preprocessing import LabelEncoder\n",
    "\n",
    "label_encoder = LabelEncoder()\n",
    "target_encoded = label_encoder.fit_transform(df[df['Bean Type'] !=  '\\xa0']['Bean Type'])"
   ]
  },
  {
   "cell_type": "code",
   "execution_count": 8,
   "id": "d6fcf2f1",
   "metadata": {
    "execution": {
     "iopub.execute_input": "2025-03-15T20:37:03.519004Z",
     "iopub.status.busy": "2025-03-15T20:37:03.518650Z",
     "iopub.status.idle": "2025-03-15T20:37:03.523938Z",
     "shell.execute_reply": "2025-03-15T20:37:03.522924Z"
    },
    "papermill": {
     "duration": 0.016523,
     "end_time": "2025-03-15T20:37:03.525709",
     "exception": false,
     "start_time": "2025-03-15T20:37:03.509186",
     "status": "completed"
    },
    "tags": []
   },
   "outputs": [],
   "source": [
    "df['Broad Bean Origin'] = df['Broad Bean Origin'].fillna('Madagascar')"
   ]
  },
  {
   "cell_type": "code",
   "execution_count": 9,
   "id": "b1105ede",
   "metadata": {
    "execution": {
     "iopub.execute_input": "2025-03-15T20:37:03.544209Z",
     "iopub.status.busy": "2025-03-15T20:37:03.543866Z",
     "iopub.status.idle": "2025-03-15T20:42:19.870315Z",
     "shell.execute_reply": "2025-03-15T20:42:19.869116Z"
    },
    "papermill": {
     "duration": 316.346233,
     "end_time": "2025-03-15T20:42:19.880521",
     "exception": false,
     "start_time": "2025-03-15T20:37:03.534288",
     "status": "completed"
    },
    "tags": []
   },
   "outputs": [
    {
     "data": {
      "text/plain": [
       "<catboost.core.CatBoostClassifier at 0x7e835a5f6620>"
      ]
     },
     "execution_count": 9,
     "metadata": {},
     "output_type": "execute_result"
    }
   ],
   "source": [
    "model_1 = CatBoostClassifier(verbose = 0\n",
    "                            ,cat_features = ['Company' ,'Specific Bean Origin', 'Broad Bean Origin', 'Company Location'])\n",
    "model_1.fit(df[df['Bean Type'] !=  '\\xa0'].drop(columns = ['Rating','Bean Type']), target_encoded)"
   ]
  },
  {
   "cell_type": "code",
   "execution_count": 10,
   "id": "ddd8670f",
   "metadata": {
    "execution": {
     "iopub.execute_input": "2025-03-15T20:42:19.899123Z",
     "iopub.status.busy": "2025-03-15T20:42:19.898806Z",
     "iopub.status.idle": "2025-03-15T20:42:19.904946Z",
     "shell.execute_reply": "2025-03-15T20:42:19.903927Z"
    },
    "papermill": {
     "duration": 0.0175,
     "end_time": "2025-03-15T20:42:19.906674",
     "exception": false,
     "start_time": "2025-03-15T20:42:19.889174",
     "status": "completed"
    },
    "tags": []
   },
   "outputs": [],
   "source": [
    "df_test['Cocoa Percent'] = df_test['Cocoa Percent'].apply(lambda x: x[0:-1])\n",
    "df_test['Cocoa Percent'] = df_test['Cocoa Percent'].astype(float)"
   ]
  },
  {
   "cell_type": "code",
   "execution_count": 11,
   "id": "cfcf8de0",
   "metadata": {
    "execution": {
     "iopub.execute_input": "2025-03-15T20:42:19.925702Z",
     "iopub.status.busy": "2025-03-15T20:42:19.925214Z",
     "iopub.status.idle": "2025-03-15T20:42:19.988688Z",
     "shell.execute_reply": "2025-03-15T20:42:19.987406Z"
    },
    "papermill": {
     "duration": 0.075277,
     "end_time": "2025-03-15T20:42:19.990761",
     "exception": false,
     "start_time": "2025-03-15T20:42:19.915484",
     "status": "completed"
    },
    "tags": []
   },
   "outputs": [],
   "source": [
    "y_bean = model_1.predict(df.drop(columns = ['Rating','Bean Type']))\n",
    "y_bean_test = model_1.predict(df_test.drop(columns = ['Bean Type']))"
   ]
  },
  {
   "cell_type": "code",
   "execution_count": 12,
   "id": "628dbc3c",
   "metadata": {
    "execution": {
     "iopub.execute_input": "2025-03-15T20:42:20.009980Z",
     "iopub.status.busy": "2025-03-15T20:42:20.009628Z",
     "iopub.status.idle": "2025-03-15T20:42:20.014450Z",
     "shell.execute_reply": "2025-03-15T20:42:20.013402Z"
    },
    "papermill": {
     "duration": 0.016485,
     "end_time": "2025-03-15T20:42:20.016197",
     "exception": false,
     "start_time": "2025-03-15T20:42:19.999712",
     "status": "completed"
    },
    "tags": []
   },
   "outputs": [],
   "source": [
    "df['Bean Type'] = y_bean\n",
    "df_test['Bean Type'] = y_bean_test"
   ]
  },
  {
   "cell_type": "markdown",
   "id": "c6213042",
   "metadata": {
    "papermill": {
     "duration": 0.008425,
     "end_time": "2025-03-15T20:42:20.033406",
     "exception": false,
     "start_time": "2025-03-15T20:42:20.024981",
     "status": "completed"
    },
    "tags": []
   },
   "source": [
    "### Подберем при помощи Optuna гиперпараметры"
   ]
  },
  {
   "cell_type": "code",
   "execution_count": 13,
   "id": "fe399ad2",
   "metadata": {
    "execution": {
     "iopub.execute_input": "2025-03-15T20:42:20.052161Z",
     "iopub.status.busy": "2025-03-15T20:42:20.051689Z",
     "iopub.status.idle": "2025-03-15T20:43:13.100976Z",
     "shell.execute_reply": "2025-03-15T20:43:13.099672Z"
    },
    "papermill": {
     "duration": 53.061074,
     "end_time": "2025-03-15T20:43:13.102974",
     "exception": false,
     "start_time": "2025-03-15T20:42:20.041900",
     "status": "completed"
    },
    "tags": []
   },
   "outputs": [
    {
     "name": "stderr",
     "output_type": "stream",
     "text": [
      "[I 2025-03-15 20:42:20,353] A new study created in memory with name: no-name-e35c0ea0-5ff1-4336-a613-6654e4da199f\n",
      "<ipython-input-13-e3254aee2a73>:8: FutureWarning: suggest_int() got {'step'} as positional arguments but they were expected to be given as keyword arguments.\n",
      "  'depth': trial.suggest_int('depth', 3, 4, 5),  # Глубина деревьев\n",
      "/usr/local/lib/python3.10/dist-packages/optuna/distributions.py:699: UserWarning: The distribution is specified by [3, 4] and step=5, but the range is not divisible by `step`. It will be replaced by [3, 3].\n",
      "  warnings.warn(\n",
      "[I 2025-03-15 20:42:20,791] Trial 0 finished with value: 0.19315043339466556 and parameters: {'iterations': 130, 'depth': 3, 'learning_rate': 0.08725342090410504, 'l2_leaf_reg': 5.422414682365293, 'loss_function': 'RMSE', 'early_stopping_rounds': 10, 'border_count': 128, 'random_strength': 4.150118558844666, 'bagging_temperature': 0.29923011240419417, 'grow_policy': 'Depthwise', 'min_data_in_leaf': 14, 'rsm': 0.8945152945218313}. Best is trial 0 with value: 0.19315043339466556.\n",
      "<ipython-input-13-e3254aee2a73>:8: FutureWarning: suggest_int() got {'step'} as positional arguments but they were expected to be given as keyword arguments.\n",
      "  'depth': trial.suggest_int('depth', 3, 4, 5),  # Глубина деревьев\n",
      "/usr/local/lib/python3.10/dist-packages/optuna/distributions.py:699: UserWarning: The distribution is specified by [3, 4] and step=5, but the range is not divisible by `step`. It will be replaced by [3, 3].\n",
      "  warnings.warn(\n",
      "[I 2025-03-15 20:42:21,598] Trial 1 finished with value: 0.1840454812697895 and parameters: {'iterations': 230, 'depth': 3, 'learning_rate': 0.13635163389830704, 'l2_leaf_reg': 7.046567900074626, 'loss_function': 'MAE', 'early_stopping_rounds': 19, 'border_count': 128, 'random_strength': 6.605593340223836, 'bagging_temperature': 0.4912052774921276, 'grow_policy': 'Depthwise', 'min_data_in_leaf': 6, 'rsm': 0.9723279568659694}. Best is trial 0 with value: 0.19315043339466556.\n",
      "<ipython-input-13-e3254aee2a73>:8: FutureWarning: suggest_int() got {'step'} as positional arguments but they were expected to be given as keyword arguments.\n",
      "  'depth': trial.suggest_int('depth', 3, 4, 5),  # Глубина деревьев\n",
      "/usr/local/lib/python3.10/dist-packages/optuna/distributions.py:699: UserWarning: The distribution is specified by [3, 4] and step=5, but the range is not divisible by `step`. It will be replaced by [3, 3].\n",
      "  warnings.warn(\n",
      "[I 2025-03-15 20:42:22,086] Trial 2 finished with value: 0.18845230282223877 and parameters: {'iterations': 158, 'depth': 3, 'learning_rate': 0.18850462766750148, 'l2_leaf_reg': 6.236058632256796, 'loss_function': 'RMSE', 'early_stopping_rounds': 15, 'border_count': 32, 'random_strength': 9.19944569771726, 'bagging_temperature': 0.5098352129034566, 'grow_policy': 'Depthwise', 'min_data_in_leaf': 11, 'rsm': 0.8864386648939723}. Best is trial 0 with value: 0.19315043339466556.\n",
      "<ipython-input-13-e3254aee2a73>:8: FutureWarning: suggest_int() got {'step'} as positional arguments but they were expected to be given as keyword arguments.\n",
      "  'depth': trial.suggest_int('depth', 3, 4, 5),  # Глубина деревьев\n",
      "/usr/local/lib/python3.10/dist-packages/optuna/distributions.py:699: UserWarning: The distribution is specified by [3, 4] and step=5, but the range is not divisible by `step`. It will be replaced by [3, 3].\n",
      "  warnings.warn(\n",
      "[I 2025-03-15 20:42:22,827] Trial 3 finished with value: 0.19910575416064935 and parameters: {'iterations': 270, 'depth': 3, 'learning_rate': 0.1354901091874439, 'l2_leaf_reg': 7.958698126411486, 'loss_function': 'RMSE', 'early_stopping_rounds': 17, 'border_count': 128, 'random_strength': 4.652980885716781, 'bagging_temperature': 0.4666381342004766, 'grow_policy': 'Depthwise', 'min_data_in_leaf': 14, 'rsm': 0.8703239631917438}. Best is trial 3 with value: 0.19910575416064935.\n",
      "<ipython-input-13-e3254aee2a73>:8: FutureWarning: suggest_int() got {'step'} as positional arguments but they were expected to be given as keyword arguments.\n",
      "  'depth': trial.suggest_int('depth', 3, 4, 5),  # Глубина деревьев\n",
      "/usr/local/lib/python3.10/dist-packages/optuna/distributions.py:699: UserWarning: The distribution is specified by [3, 4] and step=5, but the range is not divisible by `step`. It will be replaced by [3, 3].\n",
      "  warnings.warn(\n",
      "[I 2025-03-15 20:42:23,404] Trial 4 finished with value: 0.20372419430058888 and parameters: {'iterations': 179, 'depth': 3, 'learning_rate': 0.11168924100124669, 'l2_leaf_reg': 7.051785071638092, 'loss_function': 'RMSE', 'early_stopping_rounds': 15, 'border_count': 128, 'random_strength': 9.045820221813328, 'bagging_temperature': 0.8377602936463503, 'grow_policy': 'Depthwise', 'min_data_in_leaf': 14, 'rsm': 0.9489582391247152}. Best is trial 4 with value: 0.20372419430058888.\n",
      "<ipython-input-13-e3254aee2a73>:8: FutureWarning: suggest_int() got {'step'} as positional arguments but they were expected to be given as keyword arguments.\n",
      "  'depth': trial.suggest_int('depth', 3, 4, 5),  # Глубина деревьев\n",
      "/usr/local/lib/python3.10/dist-packages/optuna/distributions.py:699: UserWarning: The distribution is specified by [3, 4] and step=5, but the range is not divisible by `step`. It will be replaced by [3, 3].\n",
      "  warnings.warn(\n",
      "[I 2025-03-15 20:42:23,988] Trial 5 finished with value: 0.18355941803234577 and parameters: {'iterations': 168, 'depth': 3, 'learning_rate': 0.0645496824655948, 'l2_leaf_reg': 5.724836950100402, 'loss_function': 'MAE', 'early_stopping_rounds': 20, 'border_count': 32, 'random_strength': 0.30349600893149087, 'bagging_temperature': 0.6607554256354744, 'grow_policy': 'Depthwise', 'min_data_in_leaf': 14, 'rsm': 0.9062808408526688}. Best is trial 4 with value: 0.20372419430058888.\n",
      "<ipython-input-13-e3254aee2a73>:8: FutureWarning: suggest_int() got {'step'} as positional arguments but they were expected to be given as keyword arguments.\n",
      "  'depth': trial.suggest_int('depth', 3, 4, 5),  # Глубина деревьев\n",
      "/usr/local/lib/python3.10/dist-packages/optuna/distributions.py:699: UserWarning: The distribution is specified by [3, 4] and step=5, but the range is not divisible by `step`. It will be replaced by [3, 3].\n",
      "  warnings.warn(\n",
      "[I 2025-03-15 20:42:24,695] Trial 6 finished with value: 0.21197863332672584 and parameters: {'iterations': 242, 'depth': 3, 'learning_rate': 0.059354629490501624, 'l2_leaf_reg': 5.192376609839204, 'loss_function': 'RMSE', 'early_stopping_rounds': 11, 'border_count': 32, 'random_strength': 6.67845917624368, 'bagging_temperature': 0.6556118571168852, 'grow_policy': 'Depthwise', 'min_data_in_leaf': 9, 'rsm': 0.9376392200923561}. Best is trial 6 with value: 0.21197863332672584.\n",
      "<ipython-input-13-e3254aee2a73>:8: FutureWarning: suggest_int() got {'step'} as positional arguments but they were expected to be given as keyword arguments.\n",
      "  'depth': trial.suggest_int('depth', 3, 4, 5),  # Глубина деревьев\n",
      "/usr/local/lib/python3.10/dist-packages/optuna/distributions.py:699: UserWarning: The distribution is specified by [3, 4] and step=5, but the range is not divisible by `step`. It will be replaced by [3, 3].\n",
      "  warnings.warn(\n",
      "[I 2025-03-15 20:42:25,503] Trial 7 finished with value: 0.19952090413053158 and parameters: {'iterations': 273, 'depth': 3, 'learning_rate': 0.11391978705745327, 'l2_leaf_reg': 4.724030069071205, 'loss_function': 'RMSE', 'early_stopping_rounds': 16, 'border_count': 32, 'random_strength': 1.7304120992265308, 'bagging_temperature': 0.06416397401359941, 'grow_policy': 'SymmetricTree', 'min_data_in_leaf': 5, 'rsm': 0.8027865425033657}. Best is trial 6 with value: 0.21197863332672584.\n",
      "<ipython-input-13-e3254aee2a73>:8: FutureWarning: suggest_int() got {'step'} as positional arguments but they were expected to be given as keyword arguments.\n",
      "  'depth': trial.suggest_int('depth', 3, 4, 5),  # Глубина деревьев\n",
      "/usr/local/lib/python3.10/dist-packages/optuna/distributions.py:699: UserWarning: The distribution is specified by [3, 4] and step=5, but the range is not divisible by `step`. It will be replaced by [3, 3].\n",
      "  warnings.warn(\n",
      "[I 2025-03-15 20:42:26,328] Trial 8 finished with value: 0.19557691045832484 and parameters: {'iterations': 293, 'depth': 3, 'learning_rate': 0.11385537329454197, 'l2_leaf_reg': 4.874940001641851, 'loss_function': 'RMSE', 'early_stopping_rounds': 11, 'border_count': 32, 'random_strength': 6.026677036173297, 'bagging_temperature': 0.37824158658637297, 'grow_policy': 'Depthwise', 'min_data_in_leaf': 13, 'rsm': 0.8943772293047042}. Best is trial 6 with value: 0.21197863332672584.\n",
      "<ipython-input-13-e3254aee2a73>:8: FutureWarning: suggest_int() got {'step'} as positional arguments but they were expected to be given as keyword arguments.\n",
      "  'depth': trial.suggest_int('depth', 3, 4, 5),  # Глубина деревьев\n",
      "/usr/local/lib/python3.10/dist-packages/optuna/distributions.py:699: UserWarning: The distribution is specified by [3, 4] and step=5, but the range is not divisible by `step`. It will be replaced by [3, 3].\n",
      "  warnings.warn(\n",
      "[I 2025-03-15 20:42:27,178] Trial 9 finished with value: 0.20516150199568242 and parameters: {'iterations': 276, 'depth': 3, 'learning_rate': 0.12354989967253423, 'l2_leaf_reg': 5.870039836440173, 'loss_function': 'RMSE', 'early_stopping_rounds': 20, 'border_count': 32, 'random_strength': 7.833201214639051, 'bagging_temperature': 0.1275284574899015, 'grow_policy': 'SymmetricTree', 'min_data_in_leaf': 8, 'rsm': 0.9277342493871944}. Best is trial 6 with value: 0.21197863332672584.\n",
      "<ipython-input-13-e3254aee2a73>:8: FutureWarning: suggest_int() got {'step'} as positional arguments but they were expected to be given as keyword arguments.\n",
      "  'depth': trial.suggest_int('depth', 3, 4, 5),  # Глубина деревьев\n",
      "/usr/local/lib/python3.10/dist-packages/optuna/distributions.py:699: UserWarning: The distribution is specified by [3, 4] and step=5, but the range is not divisible by `step`. It will be replaced by [3, 3].\n",
      "  warnings.warn(\n",
      "[I 2025-03-15 20:42:28,017] Trial 10 finished with value: 0.17840064933492952 and parameters: {'iterations': 222, 'depth': 3, 'learning_rate': 0.05296628171062376, 'l2_leaf_reg': 4.008166529814723, 'loss_function': 'MAE', 'early_stopping_rounds': 12, 'border_count': 32, 'random_strength': 3.2698100711687066, 'bagging_temperature': 0.9978489527870905, 'grow_policy': 'SymmetricTree', 'min_data_in_leaf': 9, 'rsm': 0.9855598625663976}. Best is trial 6 with value: 0.21197863332672584.\n",
      "<ipython-input-13-e3254aee2a73>:8: FutureWarning: suggest_int() got {'step'} as positional arguments but they were expected to be given as keyword arguments.\n",
      "  'depth': trial.suggest_int('depth', 3, 4, 5),  # Глубина деревьев\n",
      "/usr/local/lib/python3.10/dist-packages/optuna/distributions.py:699: UserWarning: The distribution is specified by [3, 4] and step=5, but the range is not divisible by `step`. It will be replaced by [3, 3].\n",
      "  warnings.warn(\n",
      "[I 2025-03-15 20:42:28,808] Trial 11 finished with value: 0.1988057892628576 and parameters: {'iterations': 242, 'depth': 3, 'learning_rate': 0.17318805169521453, 'l2_leaf_reg': 6.333803408917612, 'loss_function': 'RMSE', 'early_stopping_rounds': 13, 'border_count': 32, 'random_strength': 7.622318509336872, 'bagging_temperature': 0.02399945582561136, 'grow_policy': 'SymmetricTree', 'min_data_in_leaf': 8, 'rsm': 0.9352427810558666}. Best is trial 6 with value: 0.21197863332672584.\n",
      "<ipython-input-13-e3254aee2a73>:8: FutureWarning: suggest_int() got {'step'} as positional arguments but they were expected to be given as keyword arguments.\n",
      "  'depth': trial.suggest_int('depth', 3, 4, 5),  # Глубина деревьев\n",
      "/usr/local/lib/python3.10/dist-packages/optuna/distributions.py:699: UserWarning: The distribution is specified by [3, 4] and step=5, but the range is not divisible by `step`. It will be replaced by [3, 3].\n",
      "  warnings.warn(\n",
      "[I 2025-03-15 20:42:29,638] Trial 12 finished with value: 0.19754618334883514 and parameters: {'iterations': 256, 'depth': 3, 'learning_rate': 0.1603777609424357, 'l2_leaf_reg': 5.252274451216795, 'loss_function': 'RMSE', 'early_stopping_rounds': 18, 'border_count': 32, 'random_strength': 7.5723588138566615, 'bagging_temperature': 0.23557827894941957, 'grow_policy': 'SymmetricTree', 'min_data_in_leaf': 7, 'rsm': 0.9375156954035955}. Best is trial 6 with value: 0.21197863332672584.\n",
      "<ipython-input-13-e3254aee2a73>:8: FutureWarning: suggest_int() got {'step'} as positional arguments but they were expected to be given as keyword arguments.\n",
      "  'depth': trial.suggest_int('depth', 3, 4, 5),  # Глубина деревьев\n",
      "/usr/local/lib/python3.10/dist-packages/optuna/distributions.py:699: UserWarning: The distribution is specified by [3, 4] and step=5, but the range is not divisible by `step`. It will be replaced by [3, 3].\n",
      "  warnings.warn(\n",
      "[I 2025-03-15 20:42:30,305] Trial 13 finished with value: 0.1983788342082737 and parameters: {'iterations': 207, 'depth': 3, 'learning_rate': 0.0850805873058626, 'l2_leaf_reg': 4.28787525118887, 'loss_function': 'RMSE', 'early_stopping_rounds': 13, 'border_count': 32, 'random_strength': 9.978469200209801, 'bagging_temperature': 0.6781700780089599, 'grow_policy': 'SymmetricTree', 'min_data_in_leaf': 11, 'rsm': 0.8378231114495966}. Best is trial 6 with value: 0.21197863332672584.\n",
      "<ipython-input-13-e3254aee2a73>:8: FutureWarning: suggest_int() got {'step'} as positional arguments but they were expected to be given as keyword arguments.\n",
      "  'depth': trial.suggest_int('depth', 3, 4, 5),  # Глубина деревьев\n",
      "/usr/local/lib/python3.10/dist-packages/optuna/distributions.py:699: UserWarning: The distribution is specified by [3, 4] and step=5, but the range is not divisible by `step`. It will be replaced by [3, 3].\n",
      "  warnings.warn(\n",
      "[I 2025-03-15 20:42:31,354] Trial 14 finished with value: 0.1837139473585241 and parameters: {'iterations': 300, 'depth': 3, 'learning_rate': 0.07840278706827623, 'l2_leaf_reg': 6.662749152980256, 'loss_function': 'MAE', 'early_stopping_rounds': 14, 'border_count': 32, 'random_strength': 6.178775641762937, 'bagging_temperature': 0.66456511117083, 'grow_policy': 'SymmetricTree', 'min_data_in_leaf': 10, 'rsm': 0.9230942333401088}. Best is trial 6 with value: 0.21197863332672584.\n",
      "<ipython-input-13-e3254aee2a73>:8: FutureWarning: suggest_int() got {'step'} as positional arguments but they were expected to be given as keyword arguments.\n",
      "  'depth': trial.suggest_int('depth', 3, 4, 5),  # Глубина деревьев\n",
      "/usr/local/lib/python3.10/dist-packages/optuna/distributions.py:699: UserWarning: The distribution is specified by [3, 4] and step=5, but the range is not divisible by `step`. It will be replaced by [3, 3].\n",
      "  warnings.warn(\n",
      "[I 2025-03-15 20:42:31,699] Trial 15 finished with value: 0.19908499093861565 and parameters: {'iterations': 104, 'depth': 3, 'learning_rate': 0.15322160003863947, 'l2_leaf_reg': 5.827907427785124, 'loss_function': 'RMSE', 'early_stopping_rounds': 10, 'border_count': 32, 'random_strength': 7.7565897923403835, 'bagging_temperature': 0.16586604526758647, 'grow_policy': 'SymmetricTree', 'min_data_in_leaf': 8, 'rsm': 0.956230469403285}. Best is trial 6 with value: 0.21197863332672584.\n",
      "<ipython-input-13-e3254aee2a73>:8: FutureWarning: suggest_int() got {'step'} as positional arguments but they were expected to be given as keyword arguments.\n",
      "  'depth': trial.suggest_int('depth', 3, 4, 5),  # Глубина деревьев\n",
      "/usr/local/lib/python3.10/dist-packages/optuna/distributions.py:699: UserWarning: The distribution is specified by [3, 4] and step=5, but the range is not divisible by `step`. It will be replaced by [3, 3].\n",
      "  warnings.warn(\n",
      "[I 2025-03-15 20:42:32,478] Trial 16 finished with value: 0.1861999543752093 and parameters: {'iterations': 251, 'depth': 3, 'learning_rate': 0.19906767127071393, 'l2_leaf_reg': 4.9820754460010175, 'loss_function': 'RMSE', 'early_stopping_rounds': 20, 'border_count': 32, 'random_strength': 5.3044800784696955, 'bagging_temperature': 0.8009008419143024, 'grow_policy': 'Depthwise', 'min_data_in_leaf': 10, 'rsm': 0.9989664527186353}. Best is trial 6 with value: 0.21197863332672584.\n",
      "<ipython-input-13-e3254aee2a73>:8: FutureWarning: suggest_int() got {'step'} as positional arguments but they were expected to be given as keyword arguments.\n",
      "  'depth': trial.suggest_int('depth', 3, 4, 5),  # Глубина деревьев\n",
      "/usr/local/lib/python3.10/dist-packages/optuna/distributions.py:699: UserWarning: The distribution is specified by [3, 4] and step=5, but the range is not divisible by `step`. It will be replaced by [3, 3].\n",
      "  warnings.warn(\n",
      "[I 2025-03-15 20:42:32,997] Trial 17 finished with value: 0.21034950511604525 and parameters: {'iterations': 199, 'depth': 3, 'learning_rate': 0.09957100583271432, 'l2_leaf_reg': 5.582886451763879, 'loss_function': 'RMSE', 'early_stopping_rounds': 17, 'border_count': 32, 'random_strength': 8.443591513811882, 'bagging_temperature': 0.1514935845741545, 'grow_policy': 'SymmetricTree', 'min_data_in_leaf': 7, 'rsm': 0.854267952670554}. Best is trial 6 with value: 0.21197863332672584.\n",
      "<ipython-input-13-e3254aee2a73>:8: FutureWarning: suggest_int() got {'step'} as positional arguments but they were expected to be given as keyword arguments.\n",
      "  'depth': trial.suggest_int('depth', 3, 4, 5),  # Глубина деревьев\n",
      "/usr/local/lib/python3.10/dist-packages/optuna/distributions.py:699: UserWarning: The distribution is specified by [3, 4] and step=5, but the range is not divisible by `step`. It will be replaced by [3, 3].\n",
      "  warnings.warn(\n",
      "[I 2025-03-15 20:42:33,726] Trial 18 finished with value: 0.19924644514575499 and parameters: {'iterations': 194, 'depth': 3, 'learning_rate': 0.09821493365221756, 'l2_leaf_reg': 5.361482840676721, 'loss_function': 'MAE', 'early_stopping_rounds': 17, 'border_count': 128, 'random_strength': 8.858491941778071, 'bagging_temperature': 0.3538728910316795, 'grow_policy': 'Depthwise', 'min_data_in_leaf': 5, 'rsm': 0.8483007132653579}. Best is trial 6 with value: 0.21197863332672584.\n",
      "<ipython-input-13-e3254aee2a73>:8: FutureWarning: suggest_int() got {'step'} as positional arguments but they were expected to be given as keyword arguments.\n",
      "  'depth': trial.suggest_int('depth', 3, 4, 5),  # Глубина деревьев\n",
      "/usr/local/lib/python3.10/dist-packages/optuna/distributions.py:699: UserWarning: The distribution is specified by [3, 4] and step=5, but the range is not divisible by `step`. It will be replaced by [3, 3].\n",
      "  warnings.warn(\n",
      "[I 2025-03-15 20:42:34,388] Trial 19 finished with value: 0.1952895539815512 and parameters: {'iterations': 203, 'depth': 3, 'learning_rate': 0.05139656434386669, 'l2_leaf_reg': 4.510080511599508, 'loss_function': 'RMSE', 'early_stopping_rounds': 16, 'border_count': 32, 'random_strength': 3.6482240391238197, 'bagging_temperature': 0.8076434387476645, 'grow_policy': 'SymmetricTree', 'min_data_in_leaf': 12, 'rsm': 0.8090595706707605}. Best is trial 6 with value: 0.21197863332672584.\n",
      "<ipython-input-13-e3254aee2a73>:8: FutureWarning: suggest_int() got {'step'} as positional arguments but they were expected to be given as keyword arguments.\n",
      "  'depth': trial.suggest_int('depth', 3, 4, 5),  # Глубина деревьев\n",
      "/usr/local/lib/python3.10/dist-packages/optuna/distributions.py:699: UserWarning: The distribution is specified by [3, 4] and step=5, but the range is not divisible by `step`. It will be replaced by [3, 3].\n",
      "  warnings.warn(\n",
      "[I 2025-03-15 20:42:34,913] Trial 20 finished with value: 0.19211790569949375 and parameters: {'iterations': 146, 'depth': 3, 'learning_rate': 0.06923038312397228, 'l2_leaf_reg': 7.7607532808072275, 'loss_function': 'RMSE', 'early_stopping_rounds': 12, 'border_count': 32, 'random_strength': 6.947212671962188, 'bagging_temperature': 0.5959235609274474, 'grow_policy': 'Depthwise', 'min_data_in_leaf': 7, 'rsm': 0.8599701532470791}. Best is trial 6 with value: 0.21197863332672584.\n",
      "<ipython-input-13-e3254aee2a73>:8: FutureWarning: suggest_int() got {'step'} as positional arguments but they were expected to be given as keyword arguments.\n",
      "  'depth': trial.suggest_int('depth', 3, 4, 5),  # Глубина деревьев\n",
      "/usr/local/lib/python3.10/dist-packages/optuna/distributions.py:699: UserWarning: The distribution is specified by [3, 4] and step=5, but the range is not divisible by `step`. It will be replaced by [3, 3].\n",
      "  warnings.warn(\n",
      "[I 2025-03-15 20:42:35,800] Trial 21 finished with value: 0.20737337567349137 and parameters: {'iterations': 278, 'depth': 3, 'learning_rate': 0.0953418350744871, 'l2_leaf_reg': 5.716544722999977, 'loss_function': 'RMSE', 'early_stopping_rounds': 18, 'border_count': 32, 'random_strength': 8.312989802455046, 'bagging_temperature': 0.14744679769134386, 'grow_policy': 'SymmetricTree', 'min_data_in_leaf': 8, 'rsm': 0.9149760722228754}. Best is trial 6 with value: 0.21197863332672584.\n",
      "<ipython-input-13-e3254aee2a73>:8: FutureWarning: suggest_int() got {'step'} as positional arguments but they were expected to be given as keyword arguments.\n",
      "  'depth': trial.suggest_int('depth', 3, 4, 5),  # Глубина деревьев\n",
      "/usr/local/lib/python3.10/dist-packages/optuna/distributions.py:699: UserWarning: The distribution is specified by [3, 4] and step=5, but the range is not divisible by `step`. It will be replaced by [3, 3].\n",
      "  warnings.warn(\n",
      "[I 2025-03-15 20:42:36,535] Trial 22 finished with value: 0.20250318480394316 and parameters: {'iterations': 224, 'depth': 3, 'learning_rate': 0.09763704487162958, 'l2_leaf_reg': 5.39483199836146, 'loss_function': 'RMSE', 'early_stopping_rounds': 18, 'border_count': 32, 'random_strength': 9.891858668064758, 'bagging_temperature': 0.2039004451485019, 'grow_policy': 'SymmetricTree', 'min_data_in_leaf': 9, 'rsm': 0.8751088548560266}. Best is trial 6 with value: 0.21197863332672584.\n",
      "<ipython-input-13-e3254aee2a73>:8: FutureWarning: suggest_int() got {'step'} as positional arguments but they were expected to be given as keyword arguments.\n",
      "  'depth': trial.suggest_int('depth', 3, 4, 5),  # Глубина деревьев\n",
      "/usr/local/lib/python3.10/dist-packages/optuna/distributions.py:699: UserWarning: The distribution is specified by [3, 4] and step=5, but the range is not divisible by `step`. It will be replaced by [3, 3].\n",
      "  warnings.warn(\n",
      "[I 2025-03-15 20:42:37,330] Trial 23 finished with value: 0.20842410918312315 and parameters: {'iterations': 239, 'depth': 3, 'learning_rate': 0.09846820815704738, 'l2_leaf_reg': 6.295852775209993, 'loss_function': 'RMSE', 'early_stopping_rounds': 18, 'border_count': 32, 'random_strength': 8.517507383318382, 'bagging_temperature': 0.2818422047748798, 'grow_policy': 'SymmetricTree', 'min_data_in_leaf': 7, 'rsm': 0.9093151444302131}. Best is trial 6 with value: 0.21197863332672584.\n",
      "<ipython-input-13-e3254aee2a73>:8: FutureWarning: suggest_int() got {'step'} as positional arguments but they were expected to be given as keyword arguments.\n",
      "  'depth': trial.suggest_int('depth', 3, 4, 5),  # Глубина деревьев\n",
      "/usr/local/lib/python3.10/dist-packages/optuna/distributions.py:699: UserWarning: The distribution is specified by [3, 4] and step=5, but the range is not divisible by `step`. It will be replaced by [3, 3].\n",
      "  warnings.warn(\n",
      "[I 2025-03-15 20:42:37,824] Trial 24 finished with value: 0.19552433994478313 and parameters: {'iterations': 186, 'depth': 3, 'learning_rate': 0.07048839792768921, 'l2_leaf_reg': 6.35176085437916, 'loss_function': 'RMSE', 'early_stopping_rounds': 17, 'border_count': 32, 'random_strength': 5.402701706158547, 'bagging_temperature': 0.29774887712460363, 'grow_policy': 'SymmetricTree', 'min_data_in_leaf': 6, 'rsm': 0.8314375508300432}. Best is trial 6 with value: 0.21197863332672584.\n",
      "<ipython-input-13-e3254aee2a73>:8: FutureWarning: suggest_int() got {'step'} as positional arguments but they were expected to be given as keyword arguments.\n",
      "  'depth': trial.suggest_int('depth', 3, 4, 5),  # Глубина деревьев\n",
      "/usr/local/lib/python3.10/dist-packages/optuna/distributions.py:699: UserWarning: The distribution is specified by [3, 4] and step=5, but the range is not divisible by `step`. It will be replaced by [3, 3].\n",
      "  warnings.warn(\n",
      "[I 2025-03-15 20:42:38,558] Trial 25 finished with value: 0.1924172022663908 and parameters: {'iterations': 215, 'depth': 3, 'learning_rate': 0.10765967606430023, 'l2_leaf_reg': 7.018399293203638, 'loss_function': 'RMSE', 'early_stopping_rounds': 16, 'border_count': 32, 'random_strength': 8.40339543076853, 'bagging_temperature': 0.3737637710960411, 'grow_policy': 'SymmetricTree', 'min_data_in_leaf': 7, 'rsm': 0.9603138112345501}. Best is trial 6 with value: 0.21197863332672584.\n",
      "<ipython-input-13-e3254aee2a73>:8: FutureWarning: suggest_int() got {'step'} as positional arguments but they were expected to be given as keyword arguments.\n",
      "  'depth': trial.suggest_int('depth', 3, 4, 5),  # Глубина деревьев\n",
      "/usr/local/lib/python3.10/dist-packages/optuna/distributions.py:699: UserWarning: The distribution is specified by [3, 4] and step=5, but the range is not divisible by `step`. It will be replaced by [3, 3].\n",
      "  warnings.warn(\n",
      "[I 2025-03-15 20:42:39,460] Trial 26 finished with value: 0.18703242860769884 and parameters: {'iterations': 246, 'depth': 3, 'learning_rate': 0.08196115147433287, 'l2_leaf_reg': 6.664645270158092, 'loss_function': 'MAE', 'early_stopping_rounds': 19, 'border_count': 128, 'random_strength': 7.141968601432104, 'bagging_temperature': 0.09044459568984359, 'grow_policy': 'SymmetricTree', 'min_data_in_leaf': 6, 'rsm': 0.9048916375962579}. Best is trial 6 with value: 0.21197863332672584.\n",
      "<ipython-input-13-e3254aee2a73>:8: FutureWarning: suggest_int() got {'step'} as positional arguments but they were expected to be given as keyword arguments.\n",
      "  'depth': trial.suggest_int('depth', 3, 4, 5),  # Глубина деревьев\n",
      "/usr/local/lib/python3.10/dist-packages/optuna/distributions.py:699: UserWarning: The distribution is specified by [3, 4] and step=5, but the range is not divisible by `step`. It will be replaced by [3, 3].\n",
      "  warnings.warn(\n",
      "[I 2025-03-15 20:42:40,233] Trial 27 finished with value: 0.1997558318303305 and parameters: {'iterations': 234, 'depth': 3, 'learning_rate': 0.12877466870757612, 'l2_leaf_reg': 6.082979249038072, 'loss_function': 'RMSE', 'early_stopping_rounds': 14, 'border_count': 32, 'random_strength': 6.0721985316943075, 'bagging_temperature': 0.5603401609900207, 'grow_policy': 'SymmetricTree', 'min_data_in_leaf': 9, 'rsm': 0.8784265765498036}. Best is trial 6 with value: 0.21197863332672584.\n",
      "<ipython-input-13-e3254aee2a73>:8: FutureWarning: suggest_int() got {'step'} as positional arguments but they were expected to be given as keyword arguments.\n",
      "  'depth': trial.suggest_int('depth', 3, 4, 5),  # Глубина деревьев\n",
      "/usr/local/lib/python3.10/dist-packages/optuna/distributions.py:699: UserWarning: The distribution is specified by [3, 4] and step=5, but the range is not divisible by `step`. It will be replaced by [3, 3].\n",
      "  warnings.warn(\n",
      "[I 2025-03-15 20:42:41,023] Trial 28 finished with value: 0.20605698069148348 and parameters: {'iterations': 260, 'depth': 3, 'learning_rate': 0.059873882683652783, 'l2_leaf_reg': 5.157673956041265, 'loss_function': 'RMSE', 'early_stopping_rounds': 19, 'border_count': 32, 'random_strength': 8.435612079677117, 'bagging_temperature': 0.004970871929305565, 'grow_policy': 'Depthwise', 'min_data_in_leaf': 7, 'rsm': 0.8581141882590315}. Best is trial 6 with value: 0.21197863332672584.\n",
      "<ipython-input-13-e3254aee2a73>:8: FutureWarning: suggest_int() got {'step'} as positional arguments but they were expected to be given as keyword arguments.\n",
      "  'depth': trial.suggest_int('depth', 3, 4, 5),  # Глубина деревьев\n",
      "/usr/local/lib/python3.10/dist-packages/optuna/distributions.py:699: UserWarning: The distribution is specified by [3, 4] and step=5, but the range is not divisible by `step`. It will be replaced by [3, 3].\n",
      "  warnings.warn(\n",
      "[I 2025-03-15 20:42:41,488] Trial 29 finished with value: 0.1966235247717971 and parameters: {'iterations': 130, 'depth': 3, 'learning_rate': 0.09313698983309089, 'l2_leaf_reg': 5.534581546089636, 'loss_function': 'RMSE', 'early_stopping_rounds': 17, 'border_count': 128, 'random_strength': 9.464203156056822, 'bagging_temperature': 0.2638739705471255, 'grow_policy': 'Depthwise', 'min_data_in_leaf': 10, 'rsm': 0.8238048323751475}. Best is trial 6 with value: 0.21197863332672584.\n",
      "<ipython-input-13-e3254aee2a73>:8: FutureWarning: suggest_int() got {'step'} as positional arguments but they were expected to be given as keyword arguments.\n",
      "  'depth': trial.suggest_int('depth', 3, 4, 5),  # Глубина деревьев\n",
      "/usr/local/lib/python3.10/dist-packages/optuna/distributions.py:699: UserWarning: The distribution is specified by [3, 4] and step=5, but the range is not divisible by `step`. It will be replaced by [3, 3].\n",
      "  warnings.warn(\n",
      "[I 2025-03-15 20:42:42,200] Trial 30 finished with value: 0.2021278718414015 and parameters: {'iterations': 210, 'depth': 3, 'learning_rate': 0.14661084823047404, 'l2_leaf_reg': 6.646989708257848, 'loss_function': 'RMSE', 'early_stopping_rounds': 11, 'border_count': 32, 'random_strength': 6.947558811063177, 'bagging_temperature': 0.4303874734906853, 'grow_policy': 'SymmetricTree', 'min_data_in_leaf': 6, 'rsm': 0.8969526499131494}. Best is trial 6 with value: 0.21197863332672584.\n",
      "<ipython-input-13-e3254aee2a73>:8: FutureWarning: suggest_int() got {'step'} as positional arguments but they were expected to be given as keyword arguments.\n",
      "  'depth': trial.suggest_int('depth', 3, 4, 5),  # Глубина деревьев\n",
      "/usr/local/lib/python3.10/dist-packages/optuna/distributions.py:699: UserWarning: The distribution is specified by [3, 4] and step=5, but the range is not divisible by `step`. It will be replaced by [3, 3].\n",
      "  warnings.warn(\n",
      "[I 2025-03-15 20:42:43,146] Trial 31 finished with value: 0.20169498623615503 and parameters: {'iterations': 291, 'depth': 3, 'learning_rate': 0.10399801339314137, 'l2_leaf_reg': 5.594411516257539, 'loss_function': 'RMSE', 'early_stopping_rounds': 18, 'border_count': 32, 'random_strength': 8.212438627122346, 'bagging_temperature': 0.17639753676110506, 'grow_policy': 'SymmetricTree', 'min_data_in_leaf': 8, 'rsm': 0.9159545317655474}. Best is trial 6 with value: 0.21197863332672584.\n",
      "<ipython-input-13-e3254aee2a73>:8: FutureWarning: suggest_int() got {'step'} as positional arguments but they were expected to be given as keyword arguments.\n",
      "  'depth': trial.suggest_int('depth', 3, 4, 5),  # Глубина деревьев\n",
      "/usr/local/lib/python3.10/dist-packages/optuna/distributions.py:699: UserWarning: The distribution is specified by [3, 4] and step=5, but the range is not divisible by `step`. It will be replaced by [3, 3].\n",
      "  warnings.warn(\n",
      "[I 2025-03-15 20:42:43,911] Trial 32 finished with value: 0.20830074258981476 and parameters: {'iterations': 235, 'depth': 3, 'learning_rate': 0.09059773710308651, 'l2_leaf_reg': 6.069927388169495, 'loss_function': 'RMSE', 'early_stopping_rounds': 18, 'border_count': 32, 'random_strength': 8.276249163668632, 'bagging_temperature': 0.11513806239587027, 'grow_policy': 'SymmetricTree', 'min_data_in_leaf': 9, 'rsm': 0.9147033450722185}. Best is trial 6 with value: 0.21197863332672584.\n",
      "<ipython-input-13-e3254aee2a73>:8: FutureWarning: suggest_int() got {'step'} as positional arguments but they were expected to be given as keyword arguments.\n",
      "  'depth': trial.suggest_int('depth', 3, 4, 5),  # Глубина деревьев\n",
      "/usr/local/lib/python3.10/dist-packages/optuna/distributions.py:699: UserWarning: The distribution is specified by [3, 4] and step=5, but the range is not divisible by `step`. It will be replaced by [3, 3].\n",
      "  warnings.warn(\n",
      "[I 2025-03-15 20:42:44,700] Trial 33 finished with value: 0.19807353887042378 and parameters: {'iterations': 237, 'depth': 3, 'learning_rate': 0.0765651472642396, 'l2_leaf_reg': 6.202573971745561, 'loss_function': 'RMSE', 'early_stopping_rounds': 19, 'border_count': 32, 'random_strength': 8.944733190977326, 'bagging_temperature': 0.3303527932400484, 'grow_policy': 'SymmetricTree', 'min_data_in_leaf': 9, 'rsm': 0.9438290925161708}. Best is trial 6 with value: 0.21197863332672584.\n",
      "<ipython-input-13-e3254aee2a73>:8: FutureWarning: suggest_int() got {'step'} as positional arguments but they were expected to be given as keyword arguments.\n",
      "  'depth': trial.suggest_int('depth', 3, 4, 5),  # Глубина деревьев\n",
      "/usr/local/lib/python3.10/dist-packages/optuna/distributions.py:699: UserWarning: The distribution is specified by [3, 4] and step=5, but the range is not divisible by `step`. It will be replaced by [3, 3].\n",
      "  warnings.warn(\n",
      "[I 2025-03-15 20:42:45,485] Trial 34 finished with value: 0.19926344840520663 and parameters: {'iterations': 228, 'depth': 3, 'learning_rate': 0.08640783644596814, 'l2_leaf_reg': 6.045765694727676, 'loss_function': 'RMSE', 'early_stopping_rounds': 16, 'border_count': 128, 'random_strength': 6.5304012958506075, 'bagging_temperature': 0.25551024426451446, 'grow_policy': 'SymmetricTree', 'min_data_in_leaf': 11, 'rsm': 0.8871800326300829}. Best is trial 6 with value: 0.21197863332672584.\n",
      "<ipython-input-13-e3254aee2a73>:8: FutureWarning: suggest_int() got {'step'} as positional arguments but they were expected to be given as keyword arguments.\n",
      "  'depth': trial.suggest_int('depth', 3, 4, 5),  # Глубина деревьев\n",
      "/usr/local/lib/python3.10/dist-packages/optuna/distributions.py:699: UserWarning: The distribution is specified by [3, 4] and step=5, but the range is not divisible by `step`. It will be replaced by [3, 3].\n",
      "  warnings.warn(\n",
      "[I 2025-03-15 20:42:46,112] Trial 35 finished with value: 0.20630599221490967 and parameters: {'iterations': 191, 'depth': 3, 'learning_rate': 0.1189895590866988, 'l2_leaf_reg': 6.496987202764952, 'loss_function': 'RMSE', 'early_stopping_rounds': 17, 'border_count': 32, 'random_strength': 7.344809288688278, 'bagging_temperature': 0.07133111509093715, 'grow_policy': 'Depthwise', 'min_data_in_leaf': 10, 'rsm': 0.9667551892054927}. Best is trial 6 with value: 0.21197863332672584.\n",
      "<ipython-input-13-e3254aee2a73>:8: FutureWarning: suggest_int() got {'step'} as positional arguments but they were expected to be given as keyword arguments.\n",
      "  'depth': trial.suggest_int('depth', 3, 4, 5),  # Глубина деревьев\n",
      "/usr/local/lib/python3.10/dist-packages/optuna/distributions.py:699: UserWarning: The distribution is specified by [3, 4] and step=5, but the range is not divisible by `step`. It will be replaced by [3, 3].\n",
      "  warnings.warn(\n",
      "[I 2025-03-15 20:42:46,794] Trial 36 finished with value: 0.18262315425280887 and parameters: {'iterations': 179, 'depth': 3, 'learning_rate': 0.08988238279204697, 'l2_leaf_reg': 7.2824134314383455, 'loss_function': 'MAE', 'early_stopping_rounds': 15, 'border_count': 32, 'random_strength': 9.451541335377755, 'bagging_temperature': 0.4397349595585631, 'grow_policy': 'Depthwise', 'min_data_in_leaf': 7, 'rsm': 0.9117591545901405}. Best is trial 6 with value: 0.21197863332672584.\n",
      "<ipython-input-13-e3254aee2a73>:8: FutureWarning: suggest_int() got {'step'} as positional arguments but they were expected to be given as keyword arguments.\n",
      "  'depth': trial.suggest_int('depth', 3, 4, 5),  # Глубина деревьев\n",
      "/usr/local/lib/python3.10/dist-packages/optuna/distributions.py:699: UserWarning: The distribution is specified by [3, 4] and step=5, but the range is not divisible by `step`. It will be replaced by [3, 3].\n",
      "  warnings.warn(\n",
      "[I 2025-03-15 20:42:47,678] Trial 37 finished with value: 0.1993024760367448 and parameters: {'iterations': 260, 'depth': 3, 'learning_rate': 0.10363522354153751, 'l2_leaf_reg': 5.05645814322162, 'loss_function': 'RMSE', 'early_stopping_rounds': 19, 'border_count': 128, 'random_strength': 4.797568383725534, 'bagging_temperature': 0.7250577065309409, 'grow_policy': 'SymmetricTree', 'min_data_in_leaf': 5, 'rsm': 0.9273374597237377}. Best is trial 6 with value: 0.21197863332672584.\n",
      "<ipython-input-13-e3254aee2a73>:8: FutureWarning: suggest_int() got {'step'} as positional arguments but they were expected to be given as keyword arguments.\n",
      "  'depth': trial.suggest_int('depth', 3, 4, 5),  # Глубина деревьев\n",
      "/usr/local/lib/python3.10/dist-packages/optuna/distributions.py:699: UserWarning: The distribution is specified by [3, 4] and step=5, but the range is not divisible by `step`. It will be replaced by [3, 3].\n",
      "  warnings.warn(\n",
      "[I 2025-03-15 20:42:48,346] Trial 38 finished with value: 0.1962948432928198 and parameters: {'iterations': 218, 'depth': 3, 'learning_rate': 0.1377316421476819, 'l2_leaf_reg': 5.9791547031608765, 'loss_function': 'RMSE', 'early_stopping_rounds': 18, 'border_count': 32, 'random_strength': 8.791157492081865, 'bagging_temperature': 0.5286958762694904, 'grow_policy': 'Depthwise', 'min_data_in_leaf': 15, 'rsm': 0.863686008418612}. Best is trial 6 with value: 0.21197863332672584.\n",
      "<ipython-input-13-e3254aee2a73>:8: FutureWarning: suggest_int() got {'step'} as positional arguments but they were expected to be given as keyword arguments.\n",
      "  'depth': trial.suggest_int('depth', 3, 4, 5),  # Глубина деревьев\n",
      "/usr/local/lib/python3.10/dist-packages/optuna/distributions.py:699: UserWarning: The distribution is specified by [3, 4] and step=5, but the range is not divisible by `step`. It will be replaced by [3, 3].\n",
      "  warnings.warn(\n",
      "[I 2025-03-15 20:42:49,119] Trial 39 finished with value: 0.19253272388266338 and parameters: {'iterations': 235, 'depth': 3, 'learning_rate': 0.060997615867336756, 'l2_leaf_reg': 4.794491957675643, 'loss_function': 'RMSE', 'early_stopping_rounds': 15, 'border_count': 32, 'random_strength': 6.575657629244356, 'bagging_temperature': 0.11701714464373017, 'grow_policy': 'SymmetricTree', 'min_data_in_leaf': 9, 'rsm': 0.8869624547703099}. Best is trial 6 with value: 0.21197863332672584.\n",
      "<ipython-input-13-e3254aee2a73>:8: FutureWarning: suggest_int() got {'step'} as positional arguments but they were expected to be given as keyword arguments.\n",
      "  'depth': trial.suggest_int('depth', 3, 4, 5),  # Глубина деревьев\n",
      "/usr/local/lib/python3.10/dist-packages/optuna/distributions.py:699: UserWarning: The distribution is specified by [3, 4] and step=5, but the range is not divisible by `step`. It will be replaced by [3, 3].\n",
      "  warnings.warn(\n",
      "[I 2025-03-15 20:42:49,755] Trial 40 finished with value: 0.1965424989159182 and parameters: {'iterations': 163, 'depth': 3, 'learning_rate': 0.0724312094626523, 'l2_leaf_reg': 5.5543657047676485, 'loss_function': 'MAE', 'early_stopping_rounds': 10, 'border_count': 32, 'random_strength': 8.04996249482002, 'bagging_temperature': 0.2073930534039648, 'grow_policy': 'Depthwise', 'min_data_in_leaf': 6, 'rsm': 0.9487197252055176}. Best is trial 6 with value: 0.21197863332672584.\n",
      "<ipython-input-13-e3254aee2a73>:8: FutureWarning: suggest_int() got {'step'} as positional arguments but they were expected to be given as keyword arguments.\n",
      "  'depth': trial.suggest_int('depth', 3, 4, 5),  # Глубина деревьев\n",
      "/usr/local/lib/python3.10/dist-packages/optuna/distributions.py:699: UserWarning: The distribution is specified by [3, 4] and step=5, but the range is not divisible by `step`. It will be replaced by [3, 3].\n",
      "  warnings.warn(\n",
      "[I 2025-03-15 20:42:50,661] Trial 41 finished with value: 0.20278986960379916 and parameters: {'iterations': 282, 'depth': 3, 'learning_rate': 0.09433327421032894, 'l2_leaf_reg': 5.742944700907554, 'loss_function': 'RMSE', 'early_stopping_rounds': 18, 'border_count': 32, 'random_strength': 8.55871566327563, 'bagging_temperature': 0.12296308927007082, 'grow_policy': 'SymmetricTree', 'min_data_in_leaf': 8, 'rsm': 0.9172967610488636}. Best is trial 6 with value: 0.21197863332672584.\n",
      "<ipython-input-13-e3254aee2a73>:8: FutureWarning: suggest_int() got {'step'} as positional arguments but they were expected to be given as keyword arguments.\n",
      "  'depth': trial.suggest_int('depth', 3, 4, 5),  # Глубина деревьев\n",
      "/usr/local/lib/python3.10/dist-packages/optuna/distributions.py:699: UserWarning: The distribution is specified by [3, 4] and step=5, but the range is not divisible by `step`. It will be replaced by [3, 3].\n",
      "  warnings.warn(\n",
      "[I 2025-03-15 20:42:51,636] Trial 42 finished with value: 0.21349781044869956 and parameters: {'iterations': 269, 'depth': 3, 'learning_rate': 0.11427895809496354, 'l2_leaf_reg': 5.7265185390980164, 'loss_function': 'RMSE', 'early_stopping_rounds': 17, 'border_count': 32, 'random_strength': 9.38331195710716, 'bagging_temperature': 0.154205320200352, 'grow_policy': 'SymmetricTree', 'min_data_in_leaf': 8, 'rsm': 0.9025819153533848}. Best is trial 42 with value: 0.21349781044869956.\n",
      "<ipython-input-13-e3254aee2a73>:8: FutureWarning: suggest_int() got {'step'} as positional arguments but they were expected to be given as keyword arguments.\n",
      "  'depth': trial.suggest_int('depth', 3, 4, 5),  # Глубина деревьев\n",
      "/usr/local/lib/python3.10/dist-packages/optuna/distributions.py:699: UserWarning: The distribution is specified by [3, 4] and step=5, but the range is not divisible by `step`. It will be replaced by [3, 3].\n",
      "  warnings.warn(\n",
      "[I 2025-03-15 20:42:52,525] Trial 43 finished with value: 0.2038439708138858 and parameters: {'iterations': 262, 'depth': 3, 'learning_rate': 0.12078438862892567, 'l2_leaf_reg': 6.1628680375051985, 'loss_function': 'RMSE', 'early_stopping_rounds': 17, 'border_count': 32, 'random_strength': 9.240720694451346, 'bagging_temperature': 0.05542946375677939, 'grow_policy': 'SymmetricTree', 'min_data_in_leaf': 7, 'rsm': 0.8991778883388383}. Best is trial 42 with value: 0.21349781044869956.\n",
      "<ipython-input-13-e3254aee2a73>:8: FutureWarning: suggest_int() got {'step'} as positional arguments but they were expected to be given as keyword arguments.\n",
      "  'depth': trial.suggest_int('depth', 3, 4, 5),  # Глубина деревьев\n",
      "/usr/local/lib/python3.10/dist-packages/optuna/distributions.py:699: UserWarning: The distribution is specified by [3, 4] and step=5, but the range is not divisible by `step`. It will be replaced by [3, 3].\n",
      "  warnings.warn(\n",
      "[I 2025-03-15 20:42:53,385] Trial 44 finished with value: 0.2133383194717058 and parameters: {'iterations': 245, 'depth': 3, 'learning_rate': 0.11312808820766276, 'l2_leaf_reg': 5.932833056588453, 'loss_function': 'RMSE', 'early_stopping_rounds': 16, 'border_count': 32, 'random_strength': 1.6422931179105844, 'bagging_temperature': 0.299958814338223, 'grow_policy': 'SymmetricTree', 'min_data_in_leaf': 9, 'rsm': 0.9382389991972723}. Best is trial 42 with value: 0.21349781044869956.\n",
      "<ipython-input-13-e3254aee2a73>:8: FutureWarning: suggest_int() got {'step'} as positional arguments but they were expected to be given as keyword arguments.\n",
      "  'depth': trial.suggest_int('depth', 3, 4, 5),  # Глубина деревьев\n",
      "/usr/local/lib/python3.10/dist-packages/optuna/distributions.py:699: UserWarning: The distribution is specified by [3, 4] and step=5, but the range is not divisible by `step`. It will be replaced by [3, 3].\n",
      "  warnings.warn(\n",
      "[I 2025-03-15 20:42:54,271] Trial 45 finished with value: 0.19554812253181061 and parameters: {'iterations': 268, 'depth': 3, 'learning_rate': 0.13080498680994834, 'l2_leaf_reg': 5.256157250083872, 'loss_function': 'RMSE', 'early_stopping_rounds': 16, 'border_count': 32, 'random_strength': 1.9904737242877804, 'bagging_temperature': 0.29326976257299775, 'grow_policy': 'SymmetricTree', 'min_data_in_leaf': 8, 'rsm': 0.9394664823098506}. Best is trial 42 with value: 0.21349781044869956.\n",
      "<ipython-input-13-e3254aee2a73>:8: FutureWarning: suggest_int() got {'step'} as positional arguments but they were expected to be given as keyword arguments.\n",
      "  'depth': trial.suggest_int('depth', 3, 4, 5),  # Глубина деревьев\n",
      "/usr/local/lib/python3.10/dist-packages/optuna/distributions.py:699: UserWarning: The distribution is specified by [3, 4] and step=5, but the range is not divisible by `step`. It will be replaced by [3, 3].\n",
      "  warnings.warn(\n",
      "[I 2025-03-15 20:42:55,087] Trial 46 finished with value: 0.20263932228429257 and parameters: {'iterations': 248, 'depth': 3, 'learning_rate': 0.11531103781778002, 'l2_leaf_reg': 5.87458675112184, 'loss_function': 'RMSE', 'early_stopping_rounds': 15, 'border_count': 32, 'random_strength': 0.9115731205867892, 'bagging_temperature': 0.4173295650390003, 'grow_policy': 'SymmetricTree', 'min_data_in_leaf': 10, 'rsm': 0.9316778584023321}. Best is trial 42 with value: 0.21349781044869956.\n",
      "<ipython-input-13-e3254aee2a73>:8: FutureWarning: suggest_int() got {'step'} as positional arguments but they were expected to be given as keyword arguments.\n",
      "  'depth': trial.suggest_int('depth', 3, 4, 5),  # Глубина деревьев\n",
      "/usr/local/lib/python3.10/dist-packages/optuna/distributions.py:699: UserWarning: The distribution is specified by [3, 4] and step=5, but the range is not divisible by `step`. It will be replaced by [3, 3].\n",
      "  warnings.warn(\n",
      "[I 2025-03-15 20:42:55,977] Trial 47 finished with value: 0.20614935123398428 and parameters: {'iterations': 269, 'depth': 3, 'learning_rate': 0.1097371486889032, 'l2_leaf_reg': 6.4156229005293595, 'loss_function': 'RMSE', 'early_stopping_rounds': 14, 'border_count': 32, 'random_strength': 2.2792161681253367, 'bagging_temperature': 0.21854566207844378, 'grow_policy': 'SymmetricTree', 'min_data_in_leaf': 8, 'rsm': 0.9834372586684219}. Best is trial 42 with value: 0.21349781044869956.\n",
      "<ipython-input-13-e3254aee2a73>:8: FutureWarning: suggest_int() got {'step'} as positional arguments but they were expected to be given as keyword arguments.\n",
      "  'depth': trial.suggest_int('depth', 3, 4, 5),  # Глубина деревьев\n",
      "/usr/local/lib/python3.10/dist-packages/optuna/distributions.py:699: UserWarning: The distribution is specified by [3, 4] and step=5, but the range is not divisible by `step`. It will be replaced by [3, 3].\n",
      "  warnings.warn(\n",
      "[I 2025-03-15 20:42:56,923] Trial 48 finished with value: 0.20239458708828836 and parameters: {'iterations': 284, 'depth': 3, 'learning_rate': 0.14226533688348056, 'l2_leaf_reg': 5.644988130042215, 'loss_function': 'RMSE', 'early_stopping_rounds': 17, 'border_count': 128, 'random_strength': 0.6538170118891147, 'bagging_temperature': 0.9216409520803253, 'grow_policy': 'SymmetricTree', 'min_data_in_leaf': 9, 'rsm': 0.9052277006739282}. Best is trial 42 with value: 0.21349781044869956.\n",
      "<ipython-input-13-e3254aee2a73>:8: FutureWarning: suggest_int() got {'step'} as positional arguments but they were expected to be given as keyword arguments.\n",
      "  'depth': trial.suggest_int('depth', 3, 4, 5),  # Глубина деревьев\n",
      "/usr/local/lib/python3.10/dist-packages/optuna/distributions.py:699: UserWarning: The distribution is specified by [3, 4] and step=5, but the range is not divisible by `step`. It will be replaced by [3, 3].\n",
      "  warnings.warn(\n",
      "[I 2025-03-15 20:42:57,584] Trial 49 finished with value: 0.17676565801221691 and parameters: {'iterations': 174, 'depth': 3, 'learning_rate': 0.1255653257061402, 'l2_leaf_reg': 6.870745680313881, 'loss_function': 'MAE', 'early_stopping_rounds': 16, 'border_count': 32, 'random_strength': 2.7765280389366014, 'bagging_temperature': 0.6017237659724667, 'grow_policy': 'Depthwise', 'min_data_in_leaf': 11, 'rsm': 0.9522532072328286}. Best is trial 42 with value: 0.21349781044869956.\n",
      "<ipython-input-13-e3254aee2a73>:8: FutureWarning: suggest_int() got {'step'} as positional arguments but they were expected to be given as keyword arguments.\n",
      "  'depth': trial.suggest_int('depth', 3, 4, 5),  # Глубина деревьев\n",
      "/usr/local/lib/python3.10/dist-packages/optuna/distributions.py:699: UserWarning: The distribution is specified by [3, 4] and step=5, but the range is not divisible by `step`. It will be replaced by [3, 3].\n",
      "  warnings.warn(\n",
      "[I 2025-03-15 20:42:58,404] Trial 50 finished with value: 0.2105815467978088 and parameters: {'iterations': 251, 'depth': 3, 'learning_rate': 0.17451656797779658, 'l2_leaf_reg': 5.422621477275381, 'loss_function': 'RMSE', 'early_stopping_rounds': 17, 'border_count': 32, 'random_strength': 3.9534179090439325, 'bagging_temperature': 0.4730946854967331, 'grow_policy': 'SymmetricTree', 'min_data_in_leaf': 7, 'rsm': 0.9238481701658405}. Best is trial 42 with value: 0.21349781044869956.\n",
      "<ipython-input-13-e3254aee2a73>:8: FutureWarning: suggest_int() got {'step'} as positional arguments but they were expected to be given as keyword arguments.\n",
      "  'depth': trial.suggest_int('depth', 3, 4, 5),  # Глубина деревьев\n",
      "/usr/local/lib/python3.10/dist-packages/optuna/distributions.py:699: UserWarning: The distribution is specified by [3, 4] and step=5, but the range is not divisible by `step`. It will be replaced by [3, 3].\n",
      "  warnings.warn(\n",
      "[I 2025-03-15 20:42:59,238] Trial 51 finished with value: 0.1933283588650849 and parameters: {'iterations': 251, 'depth': 3, 'learning_rate': 0.1809208206477156, 'l2_leaf_reg': 5.4198191429044105, 'loss_function': 'RMSE', 'early_stopping_rounds': 17, 'border_count': 32, 'random_strength': 1.3524881032369662, 'bagging_temperature': 0.47335819429281545, 'grow_policy': 'SymmetricTree', 'min_data_in_leaf': 7, 'rsm': 0.9317011957176792}. Best is trial 42 with value: 0.21349781044869956.\n",
      "<ipython-input-13-e3254aee2a73>:8: FutureWarning: suggest_int() got {'step'} as positional arguments but they were expected to be given as keyword arguments.\n",
      "  'depth': trial.suggest_int('depth', 3, 4, 5),  # Глубина деревьев\n",
      "/usr/local/lib/python3.10/dist-packages/optuna/distributions.py:699: UserWarning: The distribution is specified by [3, 4] and step=5, but the range is not divisible by `step`. It will be replaced by [3, 3].\n",
      "  warnings.warn(\n",
      "[I 2025-03-15 20:43:00,052] Trial 52 finished with value: 0.20528382075411497 and parameters: {'iterations': 243, 'depth': 3, 'learning_rate': 0.10339765938472198, 'l2_leaf_reg': 4.540637675073009, 'loss_function': 'RMSE', 'early_stopping_rounds': 16, 'border_count': 32, 'random_strength': 5.63187135670072, 'bagging_temperature': 0.33746541260239904, 'grow_policy': 'SymmetricTree', 'min_data_in_leaf': 6, 'rsm': 0.9221221155144921}. Best is trial 42 with value: 0.21349781044869956.\n",
      "<ipython-input-13-e3254aee2a73>:8: FutureWarning: suggest_int() got {'step'} as positional arguments but they were expected to be given as keyword arguments.\n",
      "  'depth': trial.suggest_int('depth', 3, 4, 5),  # Глубина деревьев\n",
      "/usr/local/lib/python3.10/dist-packages/optuna/distributions.py:699: UserWarning: The distribution is specified by [3, 4] and step=5, but the range is not divisible by `step`. It will be replaced by [3, 3].\n",
      "  warnings.warn(\n",
      "[I 2025-03-15 20:43:00,739] Trial 53 finished with value: 0.1981218729334097 and parameters: {'iterations': 200, 'depth': 3, 'learning_rate': 0.16542382075323714, 'l2_leaf_reg': 4.95723799694211, 'loss_function': 'RMSE', 'early_stopping_rounds': 17, 'border_count': 32, 'random_strength': 3.8495598925373806, 'bagging_temperature': 0.3939621896182546, 'grow_policy': 'SymmetricTree', 'min_data_in_leaf': 8, 'rsm': 0.8939393422094689}. Best is trial 42 with value: 0.21349781044869956.\n",
      "<ipython-input-13-e3254aee2a73>:8: FutureWarning: suggest_int() got {'step'} as positional arguments but they were expected to be given as keyword arguments.\n",
      "  'depth': trial.suggest_int('depth', 3, 4, 5),  # Глубина деревьев\n",
      "/usr/local/lib/python3.10/dist-packages/optuna/distributions.py:699: UserWarning: The distribution is specified by [3, 4] and step=5, but the range is not divisible by `step`. It will be replaced by [3, 3].\n",
      "  warnings.warn(\n",
      "[I 2025-03-15 20:43:01,572] Trial 54 finished with value: 0.19895785825611811 and parameters: {'iterations': 255, 'depth': 3, 'learning_rate': 0.19120895694171164, 'l2_leaf_reg': 5.856990735286211, 'loss_function': 'RMSE', 'early_stopping_rounds': 15, 'border_count': 32, 'random_strength': 2.888425214851982, 'bagging_temperature': 0.1626325470561658, 'grow_policy': 'SymmetricTree', 'min_data_in_leaf': 7, 'rsm': 0.9392513643652212}. Best is trial 42 with value: 0.21349781044869956.\n",
      "<ipython-input-13-e3254aee2a73>:8: FutureWarning: suggest_int() got {'step'} as positional arguments but they were expected to be given as keyword arguments.\n",
      "  'depth': trial.suggest_int('depth', 3, 4, 5),  # Глубина деревьев\n",
      "/usr/local/lib/python3.10/dist-packages/optuna/distributions.py:699: UserWarning: The distribution is specified by [3, 4] and step=5, but the range is not divisible by `step`. It will be replaced by [3, 3].\n",
      "  warnings.warn(\n",
      "[I 2025-03-15 20:43:02,324] Trial 55 finished with value: 0.19305354522819432 and parameters: {'iterations': 222, 'depth': 3, 'learning_rate': 0.11469740214559011, 'l2_leaf_reg': 5.172839933740096, 'loss_function': 'RMSE', 'early_stopping_rounds': 20, 'border_count': 32, 'random_strength': 4.73606863447693, 'bagging_temperature': 0.7244151700845456, 'grow_policy': 'SymmetricTree', 'min_data_in_leaf': 5, 'rsm': 0.9225828837816801}. Best is trial 42 with value: 0.21349781044869956.\n",
      "<ipython-input-13-e3254aee2a73>:8: FutureWarning: suggest_int() got {'step'} as positional arguments but they were expected to be given as keyword arguments.\n",
      "  'depth': trial.suggest_int('depth', 3, 4, 5),  # Глубина деревьев\n",
      "/usr/local/lib/python3.10/dist-packages/optuna/distributions.py:699: UserWarning: The distribution is specified by [3, 4] and step=5, but the range is not divisible by `step`. It will be replaced by [3, 3].\n",
      "  warnings.warn(\n",
      "[I 2025-03-15 20:43:03,205] Trial 56 finished with value: 0.19905660648759396 and parameters: {'iterations': 265, 'depth': 3, 'learning_rate': 0.1497140088939989, 'l2_leaf_reg': 5.332253238485261, 'loss_function': 'RMSE', 'early_stopping_rounds': 11, 'border_count': 32, 'random_strength': 4.451233848038331, 'bagging_temperature': 0.5057237879003473, 'grow_policy': 'SymmetricTree', 'min_data_in_leaf': 8, 'rsm': 0.8815872053607545}. Best is trial 42 with value: 0.21349781044869956.\n",
      "<ipython-input-13-e3254aee2a73>:8: FutureWarning: suggest_int() got {'step'} as positional arguments but they were expected to be given as keyword arguments.\n",
      "  'depth': trial.suggest_int('depth', 3, 4, 5),  # Глубина деревьев\n",
      "/usr/local/lib/python3.10/dist-packages/optuna/distributions.py:699: UserWarning: The distribution is specified by [3, 4] and step=5, but the range is not divisible by `step`. It will be replaced by [3, 3].\n",
      "  warnings.warn(\n",
      "[I 2025-03-15 20:43:04,047] Trial 57 finished with value: 0.20714649520059655 and parameters: {'iterations': 275, 'depth': 3, 'learning_rate': 0.10119103349248079, 'l2_leaf_reg': 5.534457303365991, 'loss_function': 'RMSE', 'early_stopping_rounds': 16, 'border_count': 32, 'random_strength': 9.817079225877666, 'bagging_temperature': 0.6122407616795122, 'grow_policy': 'Depthwise', 'min_data_in_leaf': 6, 'rsm': 0.9612516346013226}. Best is trial 42 with value: 0.21349781044869956.\n",
      "<ipython-input-13-e3254aee2a73>:8: FutureWarning: suggest_int() got {'step'} as positional arguments but they were expected to be given as keyword arguments.\n",
      "  'depth': trial.suggest_int('depth', 3, 4, 5),  # Глубина деревьев\n",
      "/usr/local/lib/python3.10/dist-packages/optuna/distributions.py:699: UserWarning: The distribution is specified by [3, 4] and step=5, but the range is not divisible by `step`. It will be replaced by [3, 3].\n",
      "  warnings.warn(\n",
      "[I 2025-03-15 20:43:04,766] Trial 58 finished with value: 0.19443917213165499 and parameters: {'iterations': 212, 'depth': 3, 'learning_rate': 0.13593799201188717, 'l2_leaf_reg': 5.729844057251881, 'loss_function': 'RMSE', 'early_stopping_rounds': 13, 'border_count': 32, 'random_strength': 7.6458573118988316, 'bagging_temperature': 0.24428472175416618, 'grow_policy': 'SymmetricTree', 'min_data_in_leaf': 9, 'rsm': 0.9453311456240707}. Best is trial 42 with value: 0.21349781044869956.\n",
      "<ipython-input-13-e3254aee2a73>:8: FutureWarning: suggest_int() got {'step'} as positional arguments but they were expected to be given as keyword arguments.\n",
      "  'depth': trial.suggest_int('depth', 3, 4, 5),  # Глубина деревьев\n",
      "/usr/local/lib/python3.10/dist-packages/optuna/distributions.py:699: UserWarning: The distribution is specified by [3, 4] and step=5, but the range is not divisible by `step`. It will be replaced by [3, 3].\n",
      "  warnings.warn(\n",
      "[I 2025-03-15 20:43:05,617] Trial 59 finished with value: 0.16811162184456543 and parameters: {'iterations': 228, 'depth': 3, 'learning_rate': 0.15968777961698055, 'l2_leaf_reg': 5.09387705906187, 'loss_function': 'MAE', 'early_stopping_rounds': 18, 'border_count': 32, 'random_strength': 5.703370556400831, 'bagging_temperature': 0.28231657909642727, 'grow_policy': 'SymmetricTree', 'min_data_in_leaf': 7, 'rsm': 0.9092839047488247}. Best is trial 42 with value: 0.21349781044869956.\n",
      "<ipython-input-13-e3254aee2a73>:8: FutureWarning: suggest_int() got {'step'} as positional arguments but they were expected to be given as keyword arguments.\n",
      "  'depth': trial.suggest_int('depth', 3, 4, 5),  # Глубина деревьев\n",
      "/usr/local/lib/python3.10/dist-packages/optuna/distributions.py:699: UserWarning: The distribution is specified by [3, 4] and step=5, but the range is not divisible by `step`. It will be replaced by [3, 3].\n",
      "  warnings.warn(\n",
      "[I 2025-03-15 20:43:06,429] Trial 60 finished with value: 0.20677220389436538 and parameters: {'iterations': 242, 'depth': 3, 'learning_rate': 0.10992319990285132, 'l2_leaf_reg': 5.900634687676651, 'loss_function': 'RMSE', 'early_stopping_rounds': 16, 'border_count': 128, 'random_strength': 4.117873356379096, 'bagging_temperature': 0.3159046659626183, 'grow_policy': 'SymmetricTree', 'min_data_in_leaf': 12, 'rsm': 0.8508092453737776}. Best is trial 42 with value: 0.21349781044869956.\n",
      "<ipython-input-13-e3254aee2a73>:8: FutureWarning: suggest_int() got {'step'} as positional arguments but they were expected to be given as keyword arguments.\n",
      "  'depth': trial.suggest_int('depth', 3, 4, 5),  # Глубина деревьев\n",
      "/usr/local/lib/python3.10/dist-packages/optuna/distributions.py:699: UserWarning: The distribution is specified by [3, 4] and step=5, but the range is not divisible by `step`. It will be replaced by [3, 3].\n",
      "  warnings.warn(\n",
      "[I 2025-03-15 20:43:07,208] Trial 61 finished with value: 0.19847881240833865 and parameters: {'iterations': 238, 'depth': 3, 'learning_rate': 0.08436330974016393, 'l2_leaf_reg': 6.216178224529486, 'loss_function': 'RMSE', 'early_stopping_rounds': 18, 'border_count': 32, 'random_strength': 8.692222317334705, 'bagging_temperature': 0.19075963094848064, 'grow_policy': 'SymmetricTree', 'min_data_in_leaf': 9, 'rsm': 0.9283341680294861}. Best is trial 42 with value: 0.21349781044869956.\n",
      "<ipython-input-13-e3254aee2a73>:8: FutureWarning: suggest_int() got {'step'} as positional arguments but they were expected to be given as keyword arguments.\n",
      "  'depth': trial.suggest_int('depth', 3, 4, 5),  # Глубина деревьев\n",
      "/usr/local/lib/python3.10/dist-packages/optuna/distributions.py:699: UserWarning: The distribution is specified by [3, 4] and step=5, but the range is not divisible by `step`. It will be replaced by [3, 3].\n",
      "  warnings.warn(\n",
      "[I 2025-03-15 20:43:08,043] Trial 62 finished with value: 0.19488393307311283 and parameters: {'iterations': 253, 'depth': 3, 'learning_rate': 0.09172824155586932, 'l2_leaf_reg': 6.490622132420208, 'loss_function': 'RMSE', 'early_stopping_rounds': 18, 'border_count': 32, 'random_strength': 7.962040998346125, 'bagging_temperature': 0.08953998959928422, 'grow_policy': 'SymmetricTree', 'min_data_in_leaf': 8, 'rsm': 0.9055355616357124}. Best is trial 42 with value: 0.21349781044869956.\n",
      "<ipython-input-13-e3254aee2a73>:8: FutureWarning: suggest_int() got {'step'} as positional arguments but they were expected to be given as keyword arguments.\n",
      "  'depth': trial.suggest_int('depth', 3, 4, 5),  # Глубина деревьев\n",
      "/usr/local/lib/python3.10/dist-packages/optuna/distributions.py:699: UserWarning: The distribution is specified by [3, 4] and step=5, but the range is not divisible by `step`. It will be replaced by [3, 3].\n",
      "  warnings.warn(\n",
      "[I 2025-03-15 20:43:08,812] Trial 63 finished with value: 0.19887759733303081 and parameters: {'iterations': 233, 'depth': 3, 'learning_rate': 0.08043396516840735, 'l2_leaf_reg': 6.000541067653451, 'loss_function': 'RMSE', 'early_stopping_rounds': 19, 'border_count': 32, 'random_strength': 0.14462518089563936, 'bagging_temperature': 0.14324122870587064, 'grow_policy': 'SymmetricTree', 'min_data_in_leaf': 10, 'rsm': 0.892423784752145}. Best is trial 42 with value: 0.21349781044869956.\n",
      "<ipython-input-13-e3254aee2a73>:8: FutureWarning: suggest_int() got {'step'} as positional arguments but they were expected to be given as keyword arguments.\n",
      "  'depth': trial.suggest_int('depth', 3, 4, 5),  # Глубина деревьев\n",
      "/usr/local/lib/python3.10/dist-packages/optuna/distributions.py:699: UserWarning: The distribution is specified by [3, 4] and step=5, but the range is not divisible by `step`. It will be replaced by [3, 3].\n",
      "  warnings.warn(\n",
      "[I 2025-03-15 20:43:09,505] Trial 64 finished with value: 0.20118688121354575 and parameters: {'iterations': 201, 'depth': 3, 'learning_rate': 0.09888965818313586, 'l2_leaf_reg': 6.119857764604495, 'loss_function': 'RMSE', 'early_stopping_rounds': 17, 'border_count': 32, 'random_strength': 9.552516518279925, 'bagging_temperature': 0.02992180575132604, 'grow_policy': 'SymmetricTree', 'min_data_in_leaf': 9, 'rsm': 0.8703635769767599}. Best is trial 42 with value: 0.21349781044869956.\n",
      "<ipython-input-13-e3254aee2a73>:8: FutureWarning: suggest_int() got {'step'} as positional arguments but they were expected to be given as keyword arguments.\n",
      "  'depth': trial.suggest_int('depth', 3, 4, 5),  # Глубина деревьев\n",
      "/usr/local/lib/python3.10/dist-packages/optuna/distributions.py:699: UserWarning: The distribution is specified by [3, 4] and step=5, but the range is not divisible by `step`. It will be replaced by [3, 3].\n",
      "  warnings.warn(\n",
      "[I 2025-03-15 20:43:10,330] Trial 65 finished with value: 0.20324752437026763 and parameters: {'iterations': 245, 'depth': 3, 'learning_rate': 0.11908006030970138, 'l2_leaf_reg': 5.439843066179141, 'loss_function': 'RMSE', 'early_stopping_rounds': 17, 'border_count': 32, 'random_strength': 9.065662257730427, 'bagging_temperature': 0.551168765357808, 'grow_policy': 'SymmetricTree', 'min_data_in_leaf': 10, 'rsm': 0.9193997011918104}. Best is trial 42 with value: 0.21349781044869956.\n",
      "<ipython-input-13-e3254aee2a73>:8: FutureWarning: suggest_int() got {'step'} as positional arguments but they were expected to be given as keyword arguments.\n",
      "  'depth': trial.suggest_int('depth', 3, 4, 5),  # Глубина деревьев\n",
      "/usr/local/lib/python3.10/dist-packages/optuna/distributions.py:699: UserWarning: The distribution is specified by [3, 4] and step=5, but the range is not divisible by `step`. It will be replaced by [3, 3].\n",
      "  warnings.warn(\n",
      "[I 2025-03-15 20:43:11,019] Trial 66 finished with value: 0.20988688339543074 and parameters: {'iterations': 217, 'depth': 3, 'learning_rate': 0.055854810242567686, 'l2_leaf_reg': 4.651136498646479, 'loss_function': 'RMSE', 'early_stopping_rounds': 19, 'border_count': 32, 'random_strength': 7.49351073732327, 'bagging_temperature': 0.10959645701351359, 'grow_policy': 'Depthwise', 'min_data_in_leaf': 7, 'rsm': 0.8119782044966951}. Best is trial 42 with value: 0.21349781044869956.\n",
      "<ipython-input-13-e3254aee2a73>:8: FutureWarning: suggest_int() got {'step'} as positional arguments but they were expected to be given as keyword arguments.\n",
      "  'depth': trial.suggest_int('depth', 3, 4, 5),  # Глубина деревьев\n",
      "/usr/local/lib/python3.10/dist-packages/optuna/distributions.py:699: UserWarning: The distribution is specified by [3, 4] and step=5, but the range is not divisible by `step`. It will be replaced by [3, 3].\n",
      "  warnings.warn(\n",
      "[I 2025-03-15 20:43:11,715] Trial 67 finished with value: 0.20448518949321604 and parameters: {'iterations': 218, 'depth': 3, 'learning_rate': 0.057024966527967444, 'l2_leaf_reg': 4.572480175411228, 'loss_function': 'RMSE', 'early_stopping_rounds': 19, 'border_count': 32, 'random_strength': 7.227712004358321, 'bagging_temperature': 0.6454398197936048, 'grow_policy': 'Depthwise', 'min_data_in_leaf': 7, 'rsm': 0.8012078520654111}. Best is trial 42 with value: 0.21349781044869956.\n",
      "<ipython-input-13-e3254aee2a73>:8: FutureWarning: suggest_int() got {'step'} as positional arguments but they were expected to be given as keyword arguments.\n",
      "  'depth': trial.suggest_int('depth', 3, 4, 5),  # Глубина деревьев\n",
      "/usr/local/lib/python3.10/dist-packages/optuna/distributions.py:699: UserWarning: The distribution is specified by [3, 4] and step=5, but the range is not divisible by `step`. It will be replaced by [3, 3].\n",
      "  warnings.warn(\n",
      "[I 2025-03-15 20:43:12,423] Trial 68 finished with value: 0.20849599796779406 and parameters: {'iterations': 225, 'depth': 3, 'learning_rate': 0.06268154499634275, 'l2_leaf_reg': 5.231592787368052, 'loss_function': 'RMSE', 'early_stopping_rounds': 19, 'border_count': 32, 'random_strength': 6.381886730863331, 'bagging_temperature': 0.3732968050362486, 'grow_policy': 'Depthwise', 'min_data_in_leaf': 6, 'rsm': 0.8128460132251178}. Best is trial 42 with value: 0.21349781044869956.\n",
      "<ipython-input-13-e3254aee2a73>:8: FutureWarning: suggest_int() got {'step'} as positional arguments but they were expected to be given as keyword arguments.\n",
      "  'depth': trial.suggest_int('depth', 3, 4, 5),  # Глубина деревьев\n",
      "/usr/local/lib/python3.10/dist-packages/optuna/distributions.py:699: UserWarning: The distribution is specified by [3, 4] and step=5, but the range is not divisible by `step`. It will be replaced by [3, 3].\n",
      "  warnings.warn(\n",
      "[I 2025-03-15 20:43:13,093] Trial 69 finished with value: 0.21177247155522297 and parameters: {'iterations': 207, 'depth': 3, 'learning_rate': 0.06608689795006367, 'l2_leaf_reg': 4.672109210131103, 'loss_function': 'RMSE', 'early_stopping_rounds': 20, 'border_count': 32, 'random_strength': 6.275921362688287, 'bagging_temperature': 0.3735554426422225, 'grow_policy': 'Depthwise', 'min_data_in_leaf': 6, 'rsm': 0.8099764080251995}. Best is trial 42 with value: 0.21349781044869956.\n"
     ]
    },
    {
     "name": "stdout",
     "output_type": "stream",
     "text": [
      "Лучшие параметры: {'iterations': 269, 'depth': 3, 'learning_rate': 0.11427895809496354, 'l2_leaf_reg': 5.7265185390980164, 'loss_function': 'RMSE', 'early_stopping_rounds': 17, 'border_count': 32, 'random_strength': 9.38331195710716, 'bagging_temperature': 0.154205320200352, 'grow_policy': 'SymmetricTree', 'min_data_in_leaf': 8, 'rsm': 0.9025819153533848}\n",
      "Лучшее значение R^2: 0.21349781044869956\n"
     ]
    }
   ],
   "source": [
    "import optuna\n",
    "from sklearn.model_selection import cross_val_score\n",
    "# Функция для оптимизации\n",
    "def objective(trial):\n",
    "    # Определение гиперпараметров для оптимизации\n",
    "    params = {\n",
    "        'iterations': trial.suggest_int('iterations', 100, 300),  # Количество итераций\n",
    "        'depth': trial.suggest_int('depth', 3, 4, 5),  # Глубина деревьев\n",
    "        'learning_rate': trial.suggest_float('learning_rate', 0.05, 0.2),  # Скорость обучения\n",
    "        'l2_leaf_reg': trial.suggest_float('l2_leaf_reg', 4, 8),  # Коэффициент L2-регуляризации\n",
    "        'loss_function': trial.suggest_categorical('loss_function', ['RMSE', 'MAE']),  # Функция потерь\n",
    "        'early_stopping_rounds': trial.suggest_int('early_stopping_rounds', 10, 20),  # Ранняя остановка\n",
    "        'border_count': trial.suggest_categorical('border_count', [32, 128]),  # Количество границ\n",
    "        'random_strength': trial.suggest_float('random_strength', 0.1, 10),  # Степень случайности\n",
    "        'bagging_temperature': trial.suggest_float('bagging_temperature', 0, 1),  # Интенсивность бэггинга\n",
    "        'grow_policy': trial.suggest_categorical('grow_policy', ['SymmetricTree', 'Depthwise']),  # Стратегия роста\n",
    "        'min_data_in_leaf': trial.suggest_int('min_data_in_leaf', 5, 15),  # Минимальное количество объектов в листе\n",
    "        'rsm': trial.suggest_float('rsm', 0.8, 1.0),  # Доля признаков для каждого дерева\n",
    "        'random_seed': 42  # Фиксированный seed для воспроизводимости\n",
    "    }\n",
    "\n",
    "    # Создание модели\n",
    "    model = CatBoostRegressor(verbose=0, \n",
    "                              cat_features = ['Company' , 'Broad Bean Origin','Specific Bean Origin',  'Company Location', 'Bean Type'], \n",
    "                              **params)\n",
    "\n",
    "    # Оценка модели с использованием кросс-валидации\n",
    "    score = cross_val_score(model,df.drop(columns = ['Rating']), df.Rating, scoring='r2', cv=3).mean()\n",
    "\n",
    "    return score\n",
    "\n",
    "# Создание исследования Optuna\n",
    "study = optuna.create_study(direction='maximize')  # Максимизация R^2\n",
    "study.optimize(objective, n_trials=70)  # Количество испытаний (trials)\n",
    "\n",
    "# Лучшие параметры\n",
    "print(f'Лучшие параметры: {study.best_params}')\n",
    "print(f'Лучшее значение R^2: {study.best_value}')"
   ]
  },
  {
   "cell_type": "code",
   "execution_count": 14,
   "id": "d738fc77",
   "metadata": {
    "execution": {
     "iopub.execute_input": "2025-03-15T20:43:13.148987Z",
     "iopub.status.busy": "2025-03-15T20:43:13.148658Z",
     "iopub.status.idle": "2025-03-15T20:43:13.567739Z",
     "shell.execute_reply": "2025-03-15T20:43:13.566757Z"
    },
    "papermill": {
     "duration": 0.446607,
     "end_time": "2025-03-15T20:43:13.569396",
     "exception": false,
     "start_time": "2025-03-15T20:43:13.122789",
     "status": "completed"
    },
    "tags": []
   },
   "outputs": [
    {
     "data": {
      "text/plain": [
       "<catboost.core.CatBoostRegressor at 0x7e835a6f58a0>"
      ]
     },
     "execution_count": 14,
     "metadata": {},
     "output_type": "execute_result"
    }
   ],
   "source": [
    "model = CatBoostRegressor(iterations=186, \n",
    "                          depth=4,\n",
    "                          learning_rate = 0.137, \n",
    "                          l2_leaf_reg = 6.8,\n",
    "                          loss_function = 'RMSE',\n",
    "                          early_stopping_rounds = 16,\n",
    "                          border_count = 32,\n",
    "                          random_strength = 5.14,\n",
    "                          grow_policy = 'Depthwise',\n",
    "                          min_data_in_leaf = 10,\n",
    "                          rsm = 0.87,\n",
    "                          #bootstrap_type = 'MVS',\n",
    "                          leaf_estimation_iterations = 6,\n",
    "                          fold_permutation_block = 138,\n",
    "                          bagging_temperature = 0.137,\n",
    "                          verbose=0, \n",
    "                          cat_features = ['Company' , 'Broad Bean Origin','Specific Bean Origin',  'Company Location', 'Bean Type'])\n",
    "model.fit(df.drop(columns = ['Rating']), df.Rating)"
   ]
  },
  {
   "cell_type": "code",
   "execution_count": 15,
   "id": "f943e37c",
   "metadata": {
    "execution": {
     "iopub.execute_input": "2025-03-15T20:43:13.604819Z",
     "iopub.status.busy": "2025-03-15T20:43:13.604485Z",
     "iopub.status.idle": "2025-03-15T20:43:13.612314Z",
     "shell.execute_reply": "2025-03-15T20:43:13.611520Z"
    },
    "papermill": {
     "duration": 0.027456,
     "end_time": "2025-03-15T20:43:13.614011",
     "exception": false,
     "start_time": "2025-03-15T20:43:13.586555",
     "status": "completed"
    },
    "tags": []
   },
   "outputs": [],
   "source": [
    "y_pred = model.predict(df_test)"
   ]
  },
  {
   "cell_type": "code",
   "execution_count": 16,
   "id": "19deda8e",
   "metadata": {
    "execution": {
     "iopub.execute_input": "2025-03-15T20:43:13.649088Z",
     "iopub.status.busy": "2025-03-15T20:43:13.648762Z",
     "iopub.status.idle": "2025-03-15T20:43:13.660496Z",
     "shell.execute_reply": "2025-03-15T20:43:13.659626Z"
    },
    "papermill": {
     "duration": 0.031017,
     "end_time": "2025-03-15T20:43:13.662132",
     "exception": false,
     "start_time": "2025-03-15T20:43:13.631115",
     "status": "completed"
    },
    "tags": []
   },
   "outputs": [],
   "source": [
    "y_test = pd.read_csv('/kaggle/input/chocolate-rating-prediction-ai-edu/choco_sample_submission.csv')\n",
    "\n",
    "y_test['Rating'] = y_pred"
   ]
  },
  {
   "cell_type": "code",
   "execution_count": 17,
   "id": "993ab828",
   "metadata": {
    "execution": {
     "iopub.execute_input": "2025-03-15T20:43:13.697289Z",
     "iopub.status.busy": "2025-03-15T20:43:13.696883Z",
     "iopub.status.idle": "2025-03-15T20:43:13.706620Z",
     "shell.execute_reply": "2025-03-15T20:43:13.705594Z"
    },
    "papermill": {
     "duration": 0.029235,
     "end_time": "2025-03-15T20:43:13.708473",
     "exception": false,
     "start_time": "2025-03-15T20:43:13.679238",
     "status": "completed"
    },
    "tags": []
   },
   "outputs": [
    {
     "data": {
      "text/html": [
       "<div>\n",
       "<style scoped>\n",
       "    .dataframe tbody tr th:only-of-type {\n",
       "        vertical-align: middle;\n",
       "    }\n",
       "\n",
       "    .dataframe tbody tr th {\n",
       "        vertical-align: top;\n",
       "    }\n",
       "\n",
       "    .dataframe thead th {\n",
       "        text-align: right;\n",
       "    }\n",
       "</style>\n",
       "<table border=\"1\" class=\"dataframe\">\n",
       "  <thead>\n",
       "    <tr style=\"text-align: right;\">\n",
       "      <th></th>\n",
       "      <th>id</th>\n",
       "      <th>Rating</th>\n",
       "    </tr>\n",
       "  </thead>\n",
       "  <tbody>\n",
       "    <tr>\n",
       "      <th>0</th>\n",
       "      <td>0</td>\n",
       "      <td>3.081859</td>\n",
       "    </tr>\n",
       "    <tr>\n",
       "      <th>1</th>\n",
       "      <td>1</td>\n",
       "      <td>3.179414</td>\n",
       "    </tr>\n",
       "    <tr>\n",
       "      <th>2</th>\n",
       "      <td>2</td>\n",
       "      <td>3.058798</td>\n",
       "    </tr>\n",
       "    <tr>\n",
       "      <th>3</th>\n",
       "      <td>3</td>\n",
       "      <td>3.610504</td>\n",
       "    </tr>\n",
       "    <tr>\n",
       "      <th>4</th>\n",
       "      <td>4</td>\n",
       "      <td>2.881786</td>\n",
       "    </tr>\n",
       "    <tr>\n",
       "      <th>...</th>\n",
       "      <td>...</td>\n",
       "      <td>...</td>\n",
       "    </tr>\n",
       "    <tr>\n",
       "      <th>535</th>\n",
       "      <td>535</td>\n",
       "      <td>3.181542</td>\n",
       "    </tr>\n",
       "    <tr>\n",
       "      <th>536</th>\n",
       "      <td>536</td>\n",
       "      <td>3.362855</td>\n",
       "    </tr>\n",
       "    <tr>\n",
       "      <th>537</th>\n",
       "      <td>537</td>\n",
       "      <td>3.491021</td>\n",
       "    </tr>\n",
       "    <tr>\n",
       "      <th>538</th>\n",
       "      <td>538</td>\n",
       "      <td>2.809349</td>\n",
       "    </tr>\n",
       "    <tr>\n",
       "      <th>539</th>\n",
       "      <td>539</td>\n",
       "      <td>3.209102</td>\n",
       "    </tr>\n",
       "  </tbody>\n",
       "</table>\n",
       "<p>540 rows × 2 columns</p>\n",
       "</div>"
      ],
      "text/plain": [
       "      id    Rating\n",
       "0      0  3.081859\n",
       "1      1  3.179414\n",
       "2      2  3.058798\n",
       "3      3  3.610504\n",
       "4      4  2.881786\n",
       "..   ...       ...\n",
       "535  535  3.181542\n",
       "536  536  3.362855\n",
       "537  537  3.491021\n",
       "538  538  2.809349\n",
       "539  539  3.209102\n",
       "\n",
       "[540 rows x 2 columns]"
      ]
     },
     "execution_count": 17,
     "metadata": {},
     "output_type": "execute_result"
    }
   ],
   "source": [
    "y_test"
   ]
  },
  {
   "cell_type": "code",
   "execution_count": 18,
   "id": "63f297c2",
   "metadata": {
    "execution": {
     "iopub.execute_input": "2025-03-15T20:43:13.744832Z",
     "iopub.status.busy": "2025-03-15T20:43:13.744468Z",
     "iopub.status.idle": "2025-03-15T20:43:13.755318Z",
     "shell.execute_reply": "2025-03-15T20:43:13.754376Z"
    },
    "papermill": {
     "duration": 0.031058,
     "end_time": "2025-03-15T20:43:13.757166",
     "exception": false,
     "start_time": "2025-03-15T20:43:13.726108",
     "status": "completed"
    },
    "tags": []
   },
   "outputs": [],
   "source": [
    "y_test.to_csv('submission6.csv', index=False)"
   ]
  },
  {
   "cell_type": "code",
   "execution_count": 19,
   "id": "0892b76c",
   "metadata": {
    "execution": {
     "iopub.execute_input": "2025-03-15T20:43:13.793773Z",
     "iopub.status.busy": "2025-03-15T20:43:13.793438Z",
     "iopub.status.idle": "2025-03-15T20:43:13.798778Z",
     "shell.execute_reply": "2025-03-15T20:43:13.797700Z"
    },
    "papermill": {
     "duration": 0.025275,
     "end_time": "2025-03-15T20:43:13.800318",
     "exception": false,
     "start_time": "2025-03-15T20:43:13.775043",
     "status": "completed"
    },
    "tags": []
   },
   "outputs": [
    {
     "name": "stdout",
     "output_type": "stream",
     "text": [
      "maksimqwe\n",
      "c3a7ae9351871c1dc6b7680bf4846c60\n"
     ]
    }
   ],
   "source": [
    "os.environ['KAGGLE_USERNAME'] = 'maksimqwe'\n",
    "os.environ['KAGGLE_KEY'] = 'c3a7ae9351871c1dc6b7680bf4846c60'\n",
    "\n",
    "# Проверка\n",
    "print(os.environ['KAGGLE_USERNAME'])\n",
    "print(os.environ['KAGGLE_KEY'])"
   ]
  },
  {
   "cell_type": "code",
   "execution_count": 20,
   "id": "3dce4f39",
   "metadata": {
    "execution": {
     "iopub.execute_input": "2025-03-15T20:43:13.835802Z",
     "iopub.status.busy": "2025-03-15T20:43:13.835467Z",
     "iopub.status.idle": "2025-03-15T20:43:15.586559Z",
     "shell.execute_reply": "2025-03-15T20:43:15.585431Z"
    },
    "papermill": {
     "duration": 1.770901,
     "end_time": "2025-03-15T20:43:15.588482",
     "exception": false,
     "start_time": "2025-03-15T20:43:13.817581",
     "status": "completed"
    },
    "tags": []
   },
   "outputs": [
    {
     "name": "stdout",
     "output_type": "stream",
     "text": [
      "Warning: Looks like you're using an outdated API Version, please consider updating (server 1.7.4.2 / client 1.6.17)\r\n",
      "100%|██████████████████████████████████████| 11.8k/11.8k [00:00<00:00, 35.7kB/s]\r\n",
      "400 - Bad Request - Submission not allowed:  Your team has used its daily Submission allowance (10) today, please try again tomorrow UTC (3.3 hours from now).\r\n"
     ]
    }
   ],
   "source": [
    "!kaggle competitions submit -c chocolate-rating-prediction-ai-edu -f submission6.csv -m \"For test\""
   ]
  },
  {
   "cell_type": "code",
   "execution_count": 21,
   "id": "2d3184fc",
   "metadata": {
    "execution": {
     "iopub.execute_input": "2025-03-15T20:43:15.624856Z",
     "iopub.status.busy": "2025-03-15T20:43:15.624486Z",
     "iopub.status.idle": "2025-03-15T20:43:15.642166Z",
     "shell.execute_reply": "2025-03-15T20:43:15.641191Z"
    },
    "papermill": {
     "duration": 0.037959,
     "end_time": "2025-03-15T20:43:15.643964",
     "exception": false,
     "start_time": "2025-03-15T20:43:15.606005",
     "status": "completed"
    },
    "tags": []
   },
   "outputs": [
    {
     "data": {
      "text/html": [
       "<div>\n",
       "<style scoped>\n",
       "    .dataframe tbody tr th:only-of-type {\n",
       "        vertical-align: middle;\n",
       "    }\n",
       "\n",
       "    .dataframe tbody tr th {\n",
       "        vertical-align: top;\n",
       "    }\n",
       "\n",
       "    .dataframe thead th {\n",
       "        text-align: right;\n",
       "    }\n",
       "</style>\n",
       "<table border=\"1\" class=\"dataframe\">\n",
       "  <thead>\n",
       "    <tr style=\"text-align: right;\">\n",
       "      <th></th>\n",
       "      <th>Feature</th>\n",
       "      <th>Importance</th>\n",
       "    </tr>\n",
       "  </thead>\n",
       "  <tbody>\n",
       "    <tr>\n",
       "      <th>0</th>\n",
       "      <td>Company</td>\n",
       "      <td>28.707229</td>\n",
       "    </tr>\n",
       "    <tr>\n",
       "      <th>4</th>\n",
       "      <td>Cocoa Percent</td>\n",
       "      <td>21.724436</td>\n",
       "    </tr>\n",
       "    <tr>\n",
       "      <th>2</th>\n",
       "      <td>REF</td>\n",
       "      <td>12.868836</td>\n",
       "    </tr>\n",
       "    <tr>\n",
       "      <th>7</th>\n",
       "      <td>Broad Bean Origin</td>\n",
       "      <td>8.705073</td>\n",
       "    </tr>\n",
       "    <tr>\n",
       "      <th>5</th>\n",
       "      <td>Company Location</td>\n",
       "      <td>8.351279</td>\n",
       "    </tr>\n",
       "    <tr>\n",
       "      <th>1</th>\n",
       "      <td>Specific Bean Origin</td>\n",
       "      <td>8.028847</td>\n",
       "    </tr>\n",
       "    <tr>\n",
       "      <th>6</th>\n",
       "      <td>Bean Type</td>\n",
       "      <td>6.758499</td>\n",
       "    </tr>\n",
       "    <tr>\n",
       "      <th>3</th>\n",
       "      <td>Review</td>\n",
       "      <td>4.855801</td>\n",
       "    </tr>\n",
       "  </tbody>\n",
       "</table>\n",
       "</div>"
      ],
      "text/plain": [
       "                Feature  Importance\n",
       "0               Company   28.707229\n",
       "4         Cocoa Percent   21.724436\n",
       "2                   REF   12.868836\n",
       "7     Broad Bean Origin    8.705073\n",
       "5      Company Location    8.351279\n",
       "1  Specific Bean Origin    8.028847\n",
       "6             Bean Type    6.758499\n",
       "3                Review    4.855801"
      ]
     },
     "execution_count": 21,
     "metadata": {},
     "output_type": "execute_result"
    }
   ],
   "source": [
    "# Получение важности признаков\n",
    "feature_importance = model.get_feature_importance()\n",
    "\n",
    "# Создание DataFrame для удобного вывода\n",
    "importance_df = pd.DataFrame({\n",
    "    'Feature': df_test.columns,\n",
    "    'Importance': feature_importance\n",
    "})\n",
    "\n",
    "# Сортировка по важности\n",
    "importance_df = importance_df.sort_values(by='Importance', ascending=False)\n",
    "\n",
    "importance_df"
   ]
  },
  {
   "cell_type": "code",
   "execution_count": 22,
   "id": "94e1850a",
   "metadata": {
    "execution": {
     "iopub.execute_input": "2025-03-15T20:43:15.680484Z",
     "iopub.status.busy": "2025-03-15T20:43:15.680099Z",
     "iopub.status.idle": "2025-03-15T20:43:15.695640Z",
     "shell.execute_reply": "2025-03-15T20:43:15.694789Z"
    },
    "papermill": {
     "duration": 0.035281,
     "end_time": "2025-03-15T20:43:15.696977",
     "exception": false,
     "start_time": "2025-03-15T20:43:15.661696",
     "status": "completed"
    },
    "tags": []
   },
   "outputs": [
    {
     "data": {
      "text/html": [
       "<div>\n",
       "<style scoped>\n",
       "    .dataframe tbody tr th:only-of-type {\n",
       "        vertical-align: middle;\n",
       "    }\n",
       "\n",
       "    .dataframe tbody tr th {\n",
       "        vertical-align: top;\n",
       "    }\n",
       "\n",
       "    .dataframe thead th {\n",
       "        text-align: right;\n",
       "    }\n",
       "</style>\n",
       "<table border=\"1\" class=\"dataframe\">\n",
       "  <thead>\n",
       "    <tr style=\"text-align: right;\">\n",
       "      <th></th>\n",
       "      <th>Company</th>\n",
       "      <th>Specific Bean Origin</th>\n",
       "      <th>REF</th>\n",
       "      <th>Review</th>\n",
       "      <th>Cocoa Percent</th>\n",
       "      <th>Company Location</th>\n",
       "      <th>Rating</th>\n",
       "      <th>Bean Type</th>\n",
       "      <th>Broad Bean Origin</th>\n",
       "    </tr>\n",
       "  </thead>\n",
       "  <tbody>\n",
       "    <tr>\n",
       "      <th>0</th>\n",
       "      <td>Willie's Cacao</td>\n",
       "      <td>Rio Caribe</td>\n",
       "      <td>457</td>\n",
       "      <td>2009</td>\n",
       "      <td>72.0</td>\n",
       "      <td>U.K.</td>\n",
       "      <td>3.25</td>\n",
       "      <td>30</td>\n",
       "      <td>Venezuela</td>\n",
       "    </tr>\n",
       "    <tr>\n",
       "      <th>1</th>\n",
       "      <td>Beschle (Felchlin)</td>\n",
       "      <td>Ocumare, Premier Cru, Quizas No. 2</td>\n",
       "      <td>508</td>\n",
       "      <td>2010</td>\n",
       "      <td>72.0</td>\n",
       "      <td>Switzerland</td>\n",
       "      <td>3.50</td>\n",
       "      <td>30</td>\n",
       "      <td>Venezuela</td>\n",
       "    </tr>\n",
       "    <tr>\n",
       "      <th>2</th>\n",
       "      <td>Dark Forest</td>\n",
       "      <td>Tanzania</td>\n",
       "      <td>1554</td>\n",
       "      <td>2015</td>\n",
       "      <td>70.0</td>\n",
       "      <td>U.S.A.</td>\n",
       "      <td>3.00</td>\n",
       "      <td>5</td>\n",
       "      <td>Tanzania</td>\n",
       "    </tr>\n",
       "    <tr>\n",
       "      <th>3</th>\n",
       "      <td>Brasstown aka It's Chocolate</td>\n",
       "      <td>Cooproagro</td>\n",
       "      <td>1125</td>\n",
       "      <td>2013</td>\n",
       "      <td>72.0</td>\n",
       "      <td>U.S.A.</td>\n",
       "      <td>3.00</td>\n",
       "      <td>30</td>\n",
       "      <td>Dominican Republic</td>\n",
       "    </tr>\n",
       "    <tr>\n",
       "      <th>4</th>\n",
       "      <td>Pralus</td>\n",
       "      <td>Java, Indonesie</td>\n",
       "      <td>32</td>\n",
       "      <td>2006</td>\n",
       "      <td>75.0</td>\n",
       "      <td>France</td>\n",
       "      <td>3.50</td>\n",
       "      <td>30</td>\n",
       "      <td>Indonesia</td>\n",
       "    </tr>\n",
       "    <tr>\n",
       "      <th>...</th>\n",
       "      <td>...</td>\n",
       "      <td>...</td>\n",
       "      <td>...</td>\n",
       "      <td>...</td>\n",
       "      <td>...</td>\n",
       "      <td>...</td>\n",
       "      <td>...</td>\n",
       "      <td>...</td>\n",
       "      <td>...</td>\n",
       "    </tr>\n",
       "    <tr>\n",
       "      <th>1250</th>\n",
       "      <td>Artisan du Chocolat</td>\n",
       "      <td>Madagascar</td>\n",
       "      <td>363</td>\n",
       "      <td>2009</td>\n",
       "      <td>80.0</td>\n",
       "      <td>U.K.</td>\n",
       "      <td>3.00</td>\n",
       "      <td>30</td>\n",
       "      <td>Madagascar</td>\n",
       "    </tr>\n",
       "    <tr>\n",
       "      <th>1251</th>\n",
       "      <td>Marana</td>\n",
       "      <td>Cusco</td>\n",
       "      <td>1884</td>\n",
       "      <td>2016</td>\n",
       "      <td>70.0</td>\n",
       "      <td>Peru</td>\n",
       "      <td>2.75</td>\n",
       "      <td>5</td>\n",
       "      <td>Peru</td>\n",
       "    </tr>\n",
       "    <tr>\n",
       "      <th>1252</th>\n",
       "      <td>Arete</td>\n",
       "      <td>Nacional</td>\n",
       "      <td>1534</td>\n",
       "      <td>2015</td>\n",
       "      <td>68.0</td>\n",
       "      <td>U.S.A.</td>\n",
       "      <td>3.50</td>\n",
       "      <td>23</td>\n",
       "      <td>Peru</td>\n",
       "    </tr>\n",
       "    <tr>\n",
       "      <th>1253</th>\n",
       "      <td>Fresco</td>\n",
       "      <td>Conacado, #212, LR, SC</td>\n",
       "      <td>642</td>\n",
       "      <td>2011</td>\n",
       "      <td>72.0</td>\n",
       "      <td>U.S.A.</td>\n",
       "      <td>3.50</td>\n",
       "      <td>30</td>\n",
       "      <td>Dominican Republic</td>\n",
       "    </tr>\n",
       "    <tr>\n",
       "      <th>1254</th>\n",
       "      <td>Zak's</td>\n",
       "      <td>Madagascar, Batch 2</td>\n",
       "      <td>1578</td>\n",
       "      <td>2015</td>\n",
       "      <td>70.0</td>\n",
       "      <td>U.S.A.</td>\n",
       "      <td>3.25</td>\n",
       "      <td>30</td>\n",
       "      <td>Madagascar</td>\n",
       "    </tr>\n",
       "  </tbody>\n",
       "</table>\n",
       "<p>1255 rows × 9 columns</p>\n",
       "</div>"
      ],
      "text/plain": [
       "                           Company                Specific Bean Origin   REF  \\\n",
       "0                   Willie's Cacao                          Rio Caribe   457   \n",
       "1               Beschle (Felchlin)  Ocumare, Premier Cru, Quizas No. 2   508   \n",
       "2                      Dark Forest                            Tanzania  1554   \n",
       "3     Brasstown aka It's Chocolate                          Cooproagro  1125   \n",
       "4                           Pralus                     Java, Indonesie    32   \n",
       "...                            ...                                 ...   ...   \n",
       "1250           Artisan du Chocolat                          Madagascar   363   \n",
       "1251                        Marana                               Cusco  1884   \n",
       "1252                         Arete                            Nacional  1534   \n",
       "1253                        Fresco              Conacado, #212, LR, SC   642   \n",
       "1254                         Zak's                 Madagascar, Batch 2  1578   \n",
       "\n",
       "      Review  Cocoa Percent Company Location  Rating  Bean Type  \\\n",
       "0       2009           72.0             U.K.    3.25         30   \n",
       "1       2010           72.0      Switzerland    3.50         30   \n",
       "2       2015           70.0           U.S.A.    3.00          5   \n",
       "3       2013           72.0           U.S.A.    3.00         30   \n",
       "4       2006           75.0           France    3.50         30   \n",
       "...      ...            ...              ...     ...        ...   \n",
       "1250    2009           80.0             U.K.    3.00         30   \n",
       "1251    2016           70.0             Peru    2.75          5   \n",
       "1252    2015           68.0           U.S.A.    3.50         23   \n",
       "1253    2011           72.0           U.S.A.    3.50         30   \n",
       "1254    2015           70.0           U.S.A.    3.25         30   \n",
       "\n",
       "       Broad Bean Origin  \n",
       "0              Venezuela  \n",
       "1              Venezuela  \n",
       "2               Tanzania  \n",
       "3     Dominican Republic  \n",
       "4              Indonesia  \n",
       "...                  ...  \n",
       "1250          Madagascar  \n",
       "1251                Peru  \n",
       "1252                Peru  \n",
       "1253  Dominican Republic  \n",
       "1254          Madagascar  \n",
       "\n",
       "[1255 rows x 9 columns]"
      ]
     },
     "execution_count": 22,
     "metadata": {},
     "output_type": "execute_result"
    }
   ],
   "source": [
    "df"
   ]
  },
  {
   "cell_type": "code",
   "execution_count": 23,
   "id": "12e79da7",
   "metadata": {
    "execution": {
     "iopub.execute_input": "2025-03-15T20:43:15.733665Z",
     "iopub.status.busy": "2025-03-15T20:43:15.733063Z",
     "iopub.status.idle": "2025-03-15T20:43:16.068928Z",
     "shell.execute_reply": "2025-03-15T20:43:16.067874Z"
    },
    "papermill": {
     "duration": 0.356134,
     "end_time": "2025-03-15T20:43:16.070850",
     "exception": false,
     "start_time": "2025-03-15T20:43:15.714716",
     "status": "completed"
    },
    "tags": []
   },
   "outputs": [
    {
     "data": {
      "image/png": "[encoded data removed]",
      "text/plain": [
       "<Figure size 1000x600 with 1 Axes>"
      ]
     },
     "metadata": {},
     "output_type": "display_data"
    }
   ],
   "source": [
    "import matplotlib.pyplot as plt\n",
    "import seaborn as sns\n",
    "\n",
    "# Визуализация\n",
    "plt.figure(figsize=(10, 6))\n",
    "sns.barplot(x='Importance', y='Feature', data=importance_df, palette='viridis')\n",
    "plt.title('Важность признаков (CatBoost)')\n",
    "plt.xlabel('Важность')\n",
    "plt.ylabel('Признак')\n",
    "plt.show()"
   ]
  },
  {
   "cell_type": "code",
   "execution_count": null,
   "id": "6a2df396",
   "metadata": {
    "papermill": {
     "duration": 0.01812,
     "end_time": "2025-03-15T20:43:16.107554",
     "exception": false,
     "start_time": "2025-03-15T20:43:16.089434",
     "status": "completed"
    },
    "tags": []
   },
   "outputs": [],
   "source": []
  },
  {
   "attachments": {
    "dd32ca4d-2821-4965-baa0-748db3467965.png": {
     "image/png": "[encoded data removed]"
    }
   },
   "cell_type": "markdown",
   "id": "95a7f4d3",
   "metadata": {
    "papermill": {
     "duration": 0.018026,
     "end_time": "2025-03-15T20:43:16.144414",
     "exception": false,
     "start_time": "2025-03-15T20:43:16.126388",
     "status": "completed"
    },
    "tags": []
   },
   "source": [
    "![Снимок экрана 2025-03-15 в 23.17.18.png](attachment:dd32ca4d-2821-4965-baa0-748db3467965.png)"
   ]
  }
 ],
 "metadata": {
  "kaggle": {
   "accelerator": "none",
   "dataSources": [
    {
     "databundleVersionId": 10212782,
     "sourceId": 88944,
     "sourceType": "competition"
    }
   ],
   "dockerImageVersionId": 30918,
   "isGpuEnabled": false,
   "isInternetEnabled": true,
   "language": "python",
   "sourceType": "notebook"
  },
  "kernelspec": {
   "display_name": "Python 3",
   "language": "python",
   "name": "python3"
  },
  "language_info": {
   "codemirror_mode": {
    "name": "ipython",
    "version": 3
   },
   "file_extension": ".py",
   "mimetype": "text/x-python",
   "name": "python",
   "nbconvert_exporter": "python",
   "pygments_lexer": "ipython3",
   "version": "3.10.12"
  },
  "papermill": {
   "default_parameters": {},
   "duration": 381.900179,
   "end_time": "2025-03-15T20:43:17.083626",
   "environment_variables": {},
   "exception": null,
   "input_path": "__notebook__.ipynb",
   "output_path": "__notebook__.ipynb",
   "parameters": {},
   "start_time": "2025-03-15T20:36:55.183447",
   "version": "2.6.0"
  }
 },
 "nbformat": 4,
 "nbformat_minor": 5
}
