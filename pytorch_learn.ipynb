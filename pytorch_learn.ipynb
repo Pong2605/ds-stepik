{
 "cells": [
  {
   "cell_type": "code",
   "execution_count": 2,
   "metadata": {},
   "outputs": [],
   "source": [
    "import torch\n",
    "import numpy as np"
   ]
  },
  {
   "cell_type": "markdown",
   "metadata": {},
   "source": [
    "# 1.3 Знакомство с Pytorch"
   ]
  },
  {
   "cell_type": "code",
   "execution_count": 3,
   "metadata": {},
   "outputs": [],
   "source": [
    "# Синтаксис PyTorch аналогичен синтаксису numpy\n",
    "\n",
    "# torch.tensor() ==> numpy.array()"
   ]
  },
  {
   "cell_type": "code",
   "execution_count": 4,
   "metadata": {},
   "outputs": [
    {
     "name": "stdout",
     "output_type": "stream",
     "text": [
      "tensor([2, 3])\n",
      "tensor([[2, 3],\n",
      "        [4, 5]], dtype=torch.int32)\n",
      "tensor([[2., 3.],\n",
      "        [4., 5.]])\n",
      "tensor([[2., 3.],\n",
      "        [4., 5.]], requires_grad=True)\n"
     ]
    }
   ],
   "source": [
    "print(torch.tensor([2, 3]))\n",
    "\n",
    "print(torch.tensor([[2, 3], [4, 5]], dtype=torch.int32))\n",
    "\n",
    "print(torch.tensor([[2, 3], [4, 5]], dtype=torch.float32))\n",
    "\n",
    "print(torch.tensor([[2, 3], [4, 5]], dtype=torch.float32, requires_grad=True))\n",
    "\n",
    "# print(torch.tensor([[2, 3], [4, 5]], dtype=torch.float32, device=torch.device('cuda:0')))\n"
   ]
  },
  {
   "cell_type": "code",
   "execution_count": 5,
   "metadata": {},
   "outputs": [
    {
     "data": {
      "text/plain": [
       "tensor([[[2., 3.],\n",
       "         [4., 5.]],\n",
       "\n",
       "        [[6., 7.],\n",
       "         [8., 9.]]], requires_grad=True)"
      ]
     },
     "metadata": {},
     "output_type": "display_data"
    },
    {
     "name": "stdout",
     "output_type": "stream",
     "text": [
      "torch.float32\n",
      "torch.Size([2, 2, 2])\n",
      "torch.Size([2, 2, 2])\n",
      "3\n",
      "tensor(2., grad_fn=<SelectBackward0>)\n",
      "<class 'torch.Tensor'>\n",
      "2.0\n",
      "<class 'float'>\n"
     ]
    }
   ],
   "source": [
    "# Свойства и методы tensor\n",
    "\n",
    "tensor = torch.tensor([[[2, 3], [4, 5]],\n",
    "                       [[6, 7], [8, 9]]], \n",
    "                       dtype=torch.float32, \n",
    "                       requires_grad=True)\n",
    "\n",
    "display(tensor)\n",
    "\n",
    "print(tensor.dtype)\n",
    "\n",
    "print(tensor.shape)\n",
    "\n",
    "print(tensor.size())\n",
    "\n",
    "print(tensor.ndim)\n",
    "\n",
    "print(tensor[0, 0, 0])\n",
    "\n",
    "print(type(tensor[0, 0, 0]))\n",
    "\n",
    "print(tensor[0, 0, 0].item())\n",
    "\n",
    "print(type(tensor[0, 0, 0].item()))"
   ]
  },
  {
   "cell_type": "code",
   "execution_count": 6,
   "metadata": {},
   "outputs": [
    {
     "name": "stdout",
     "output_type": "stream",
     "text": [
      "tensor([[[0., 0.],\n",
      "         [0., 0.],\n",
      "         [0., 0.]],\n",
      "\n",
      "        [[0., 0.],\n",
      "         [0., 0.],\n",
      "         [0., 0.]]])\n",
      "torch.float32\n",
      "tensor([[[1., 1.],\n",
      "         [1., 1.],\n",
      "         [1., 1.]],\n",
      "\n",
      "        [[1., 1.],\n",
      "         [1., 1.],\n",
      "         [1., 1.]]])\n",
      "torch.float32\n",
      "tensor([[[7, 7],\n",
      "         [7, 7],\n",
      "         [7, 7]],\n",
      "\n",
      "        [[7, 7],\n",
      "         [7, 7],\n",
      "         [7, 7]]])\n",
      "torch.int64\n"
     ]
    }
   ],
   "source": [
    "# Создание массивов разного размера\n",
    "\n",
    "tensor = torch.zeros([2, 3, 2])\n",
    "print(tensor)\n",
    "print(tensor.dtype)\n",
    "\n",
    "tensor = torch.ones([2, 3, 2])\n",
    "print(tensor)\n",
    "print(tensor.dtype)\n",
    "\n",
    "tensor = torch.full(size=[2, 3, 2], fill_value=7)\n",
    "print(tensor)\n",
    "print(tensor.dtype)"
   ]
  },
  {
   "cell_type": "code",
   "execution_count": 7,
   "metadata": {},
   "outputs": [
    {
     "name": "stdout",
     "output_type": "stream",
     "text": [
      "tensor([[0., 0., 0.],\n",
      "        [0., 0., 0.]])\n",
      "tensor([[0., 0., 0.],\n",
      "        [0., 0., 0.]])\n",
      "torch.float32\n",
      "tensor([[7., 7., 7.],\n",
      "        [7., 7., 7.]])\n",
      "torch.float32\n"
     ]
    }
   ],
   "source": [
    "tensor = torch.zeros([2, 3])\n",
    "print(tensor)\n",
    "\n",
    "\n",
    "tensor = torch.zeros_like(tensor)\n",
    "print(tensor)\n",
    "print(tensor.dtype)\n",
    "\n",
    "tensor = torch.full_like(tensor, 7)\n",
    "print(tensor)\n",
    "print(tensor.dtype)"
   ]
  },
  {
   "cell_type": "code",
   "execution_count": 8,
   "metadata": {},
   "outputs": [
    {
     "data": {
      "text/plain": [
       "tensor([2.0000, 2.5000, 3.0000, 3.5000, 4.0000, 4.5000, 5.0000, 5.5000, 6.0000,\n",
       "        6.5000, 7.0000, 7.5000, 8.0000, 8.5000, 9.0000, 9.5000])"
      ]
     },
     "execution_count": 8,
     "metadata": {},
     "output_type": "execute_result"
    }
   ],
   "source": [
    "torch.arange(2, 10, 0.5)"
   ]
  },
  {
   "cell_type": "code",
   "execution_count": 9,
   "metadata": {},
   "outputs": [
    {
     "name": "stdout",
     "output_type": "stream",
     "text": [
      "tensor([[2, 0, 0],\n",
      "        [0, 5, 0],\n",
      "        [0, 0, 7]])\n",
      "tensor([[1., 0., 0., 0., 0.],\n",
      "        [0., 1., 0., 0., 0.],\n",
      "        [0., 0., 1., 0., 0.],\n",
      "        [0., 0., 0., 1., 0.],\n",
      "        [0., 0., 0., 0., 1.]])\n",
      "tensor([[1, 0, 0],\n",
      "        [2, 3, 0],\n",
      "        [3, 4, 5]])\n"
     ]
    }
   ],
   "source": [
    "print(torch.diag(torch.tensor([2, 5, 7])))\n",
    "\n",
    "print(torch.eye(5))\n",
    "\n",
    "print(torch.tril(torch.tensor([[1, 2, 3], [2, 3, 4], [3, 4, 5]])))"
   ]
  },
  {
   "cell_type": "code",
   "execution_count": 10,
   "metadata": {},
   "outputs": [
    {
     "name": "stdout",
     "output_type": "stream",
     "text": [
      "tensor([1, 2, 3, 4])\n",
      "tensor([[1],\n",
      "        [2],\n",
      "        [3],\n",
      "        [4]])\n",
      "tensor([[1, 2],\n",
      "        [3, 4]])\n"
     ]
    }
   ],
   "source": [
    "# Изменение размера тензора\n",
    "\n",
    "tensor = torch.tensor([1, 2, 3, 4])\n",
    "print(tensor)\n",
    "\n",
    "tensor_1 = tensor.view(4, 1)\n",
    "print(tensor_1)\n",
    "\n",
    "tensor_2 = tensor.reshape([2, 2])\n",
    "print(tensor_2)"
   ]
  },
  {
   "cell_type": "code",
   "execution_count": 11,
   "metadata": {},
   "outputs": [
    {
     "name": "stdout",
     "output_type": "stream",
     "text": [
      "torch.Size([4])\n",
      "torch.Size([1, 4])\n"
     ]
    }
   ],
   "source": [
    "# Добавление осей в тензор\n",
    "\n",
    "print(tensor.shape)\n",
    "\n",
    "tensor = torch.unsqueeze(tensor, 0)\n",
    "print(tensor.shape)"
   ]
  },
  {
   "cell_type": "code",
   "execution_count": 12,
   "metadata": {},
   "outputs": [
    {
     "name": "stdout",
     "output_type": "stream",
     "text": [
      "tensor([ 5, 10, 15, 20, 25])\n"
     ]
    },
    {
     "name": "stdout",
     "output_type": "stream",
     "text": [
      "tensor([ 2,  4,  6,  8, 10])\n"
     ]
    }
   ],
   "source": [
    "# Арифметические операции\n",
    "\n",
    "tensor = torch.tensor([1, 2, 3, 4, 5])\n",
    "\n",
    "print(tensor * 5)\n",
    "\n",
    "print(tensor + torch.tensor([1, 2, 3, 4, 5]))"
   ]
  },
  {
   "cell_type": "code",
   "execution_count": 13,
   "metadata": {},
   "outputs": [
    {
     "name": "stdout",
     "output_type": "stream",
     "text": [
      "tensor(21.)\n",
      "tensor(3.5000)\n",
      "tensor(3.5000)\n"
     ]
    }
   ],
   "source": [
    "# Математические функции\n",
    "\n",
    "tensor = torch.tensor([1, 2, 3, 4, 5, 6],\n",
    "                      dtype=torch.float32)\n",
    "\n",
    "print(sum(tensor))\n",
    "\n",
    "print(torch.mean(tensor))\n",
    "\n",
    "print(tensor.mean())"
   ]
  },
  {
   "cell_type": "code",
   "execution_count": 14,
   "metadata": {},
   "outputs": [
    {
     "name": "stdout",
     "output_type": "stream",
     "text": [
      "tensor([[1., 2., 3.],\n",
      "        [4., 5., 6.]])\n",
      "tensor([[2.],\n",
      "        [5.]])\n",
      "tensor([[2.5000, 3.5000, 4.5000]])\n"
     ]
    }
   ],
   "source": [
    "tensor = torch.tensor([1, 2, 3, 4, 5, 6],\n",
    "                      dtype=torch.float32)\n",
    "\n",
    "tensor = tensor.view([2, 3])\n",
    "print(tensor)\n",
    "\n",
    "tensor_mean = tensor.mean(dim=1, keepdim=True)\n",
    "print(tensor_mean)\n",
    "\n",
    "tensor_mean = tensor.mean(dim=0, keepdim=True)\n",
    "print(tensor_mean)"
   ]
  },
  {
   "cell_type": "code",
   "execution_count": 15,
   "metadata": {},
   "outputs": [
    {
     "name": "stdout",
     "output_type": "stream",
     "text": [
      "True\n",
      "False\n"
     ]
    }
   ],
   "source": [
    "# CPU и GPU\n",
    "\n",
    "print(torch.cpu.is_available())\n",
    "print(torch.cuda.is_available()) "
   ]
  },
  {
   "cell_type": "code",
   "execution_count": 17,
   "metadata": {},
   "outputs": [
    {
     "name": "stdout",
     "output_type": "stream",
     "text": [
      "cpu\n"
     ]
    }
   ],
   "source": [
    "tensor = torch.tensor([1., 2., 3.], requires_grad=True)\n",
    "\n",
    "device = 'cuda' if torch.cuda.is_available() else 'cpu'\n",
    "\n",
    "tensor = tensor.to(device)\n",
    "\n",
    "print(tensor.device)"
   ]
  },
  {
   "cell_type": "code",
   "execution_count": 23,
   "metadata": {},
   "outputs": [
    {
     "data": {
      "text/plain": [
       "torch.Size([64, 1, 28, 28])"
      ]
     },
     "execution_count": 23,
     "metadata": {},
     "output_type": "execute_result"
    }
   ],
   "source": [
    "# Добавление оси\n",
    "\n",
    "tensor = torch.zeros((64, 28, 28))\n",
    "\n",
    "new_tensor = tensor[:, None, :, :]\n",
    "\n",
    "new_tensor.shape"
   ]
  },
  {
   "cell_type": "code",
   "execution_count": null,
   "metadata": {},
   "outputs": [],
   "source": []
  }
 ],
 "metadata": {
  "kernelspec": {
   "display_name": "base",
   "language": "python",
   "name": "python3"
  },
  "language_info": {
   "codemirror_mode": {
    "name": "ipython",
    "version": 3
   },
   "file_extension": ".py",
   "mimetype": "text/x-python",
   "name": "python",
   "nbconvert_exporter": "python",
   "pygments_lexer": "ipython3",
   "version": "3.11.11"
  }
 },
 "nbformat": 4,
 "nbformat_minor": 2
}
