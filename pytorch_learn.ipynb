{
 "cells": [
  {
   "cell_type": "code",
   "execution_count": 719,
   "metadata": {},
   "outputs": [],
   "source": [
    "import torch\n",
    "import numpy as np"
   ]
  },
  {
   "cell_type": "markdown",
   "metadata": {},
   "source": [
    "# 1 Знакомство с Pytorch"
   ]
  },
  {
   "cell_type": "code",
   "execution_count": 720,
   "metadata": {},
   "outputs": [],
   "source": [
    "# Синтаксис PyTorch аналогичен синтаксису numpy\n",
    "\n",
    "# torch.tensor() ==> numpy.array()"
   ]
  },
  {
   "cell_type": "code",
   "execution_count": 721,
   "metadata": {},
   "outputs": [
    {
     "name": "stdout",
     "output_type": "stream",
     "text": [
      "tensor([2, 3])\n",
      "tensor([[2, 3],\n",
      "        [4, 5]], dtype=torch.int32)\n",
      "tensor([[2., 3.],\n",
      "        [4., 5.]])\n",
      "tensor([[2., 3.],\n",
      "        [4., 5.]], requires_grad=True)\n"
     ]
    }
   ],
   "source": [
    "print(torch.tensor([2, 3]))\n",
    "\n",
    "print(torch.tensor([[2, 3], [4, 5]], dtype=torch.int32))\n",
    "\n",
    "print(torch.tensor([[2, 3], [4, 5]], dtype=torch.float32))\n",
    "\n",
    "print(torch.tensor([[2, 3], [4, 5]], dtype=torch.float32, requires_grad=True))\n",
    "\n",
    "# print(torch.tensor([[2, 3], [4, 5]], dtype=torch.float32, device=torch.device('cuda:0')))\n"
   ]
  },
  {
   "cell_type": "code",
   "execution_count": 722,
   "metadata": {},
   "outputs": [
    {
     "data": {
      "text/plain": [
       "tensor([[[2., 3.],\n",
       "         [4., 5.]],\n",
       "\n",
       "        [[6., 7.],\n",
       "         [8., 9.]]], requires_grad=True)"
      ]
     },
     "metadata": {},
     "output_type": "display_data"
    },
    {
     "name": "stdout",
     "output_type": "stream",
     "text": [
      "torch.float32\n",
      "torch.Size([2, 2, 2])\n",
      "torch.Size([2, 2, 2])\n",
      "3\n",
      "tensor(2., grad_fn=<SelectBackward0>)\n",
      "<class 'torch.Tensor'>\n",
      "2.0\n",
      "<class 'float'>\n"
     ]
    }
   ],
   "source": [
    "# Свойства и методы tensor\n",
    "\n",
    "tensor = torch.tensor([[[2, 3], [4, 5]],\n",
    "                       [[6, 7], [8, 9]]], \n",
    "                       dtype=torch.float32, \n",
    "                       requires_grad=True)\n",
    "\n",
    "display(tensor)\n",
    "\n",
    "print(tensor.dtype)\n",
    "\n",
    "print(tensor.shape)\n",
    "\n",
    "print(tensor.size())\n",
    "\n",
    "print(tensor.ndim)\n",
    "\n",
    "print(tensor[0, 0, 0])\n",
    "\n",
    "print(type(tensor[0, 0, 0]))\n",
    "\n",
    "print(tensor[0, 0, 0].item())\n",
    "\n",
    "print(type(tensor[0, 0, 0].item()))"
   ]
  },
  {
   "cell_type": "code",
   "execution_count": 723,
   "metadata": {},
   "outputs": [
    {
     "name": "stdout",
     "output_type": "stream",
     "text": [
      "tensor([[[0., 0.],\n",
      "         [0., 0.],\n",
      "         [0., 0.]],\n",
      "\n",
      "        [[0., 0.],\n",
      "         [0., 0.],\n",
      "         [0., 0.]]])\n",
      "torch.float32\n",
      "tensor([[[1., 1.],\n",
      "         [1., 1.],\n",
      "         [1., 1.]],\n",
      "\n",
      "        [[1., 1.],\n",
      "         [1., 1.],\n",
      "         [1., 1.]]])\n",
      "torch.float32\n",
      "tensor([[[7, 7],\n",
      "         [7, 7],\n",
      "         [7, 7]],\n",
      "\n",
      "        [[7, 7],\n",
      "         [7, 7],\n",
      "         [7, 7]]])\n",
      "torch.int64\n"
     ]
    }
   ],
   "source": [
    "# Создание массивов разного размера\n",
    "\n",
    "tensor = torch.zeros([2, 3, 2])\n",
    "print(tensor)\n",
    "print(tensor.dtype)\n",
    "\n",
    "tensor = torch.ones([2, 3, 2])\n",
    "print(tensor)\n",
    "print(tensor.dtype)\n",
    "\n",
    "tensor = torch.full(size=[2, 3, 2], fill_value=7)\n",
    "print(tensor)\n",
    "print(tensor.dtype)"
   ]
  },
  {
   "cell_type": "code",
   "execution_count": 724,
   "metadata": {},
   "outputs": [
    {
     "name": "stdout",
     "output_type": "stream",
     "text": [
      "tensor([[0., 0., 0.],\n",
      "        [0., 0., 0.]])\n",
      "tensor([[0., 0., 0.],\n",
      "        [0., 0., 0.]])\n",
      "torch.float32\n",
      "tensor([[7., 7., 7.],\n",
      "        [7., 7., 7.]])\n",
      "torch.float32\n"
     ]
    }
   ],
   "source": [
    "tensor = torch.zeros([2, 3])\n",
    "print(tensor)\n",
    "\n",
    "\n",
    "tensor = torch.zeros_like(tensor)\n",
    "print(tensor)\n",
    "print(tensor.dtype)\n",
    "\n",
    "tensor = torch.full_like(tensor, 7)\n",
    "print(tensor)\n",
    "print(tensor.dtype)"
   ]
  },
  {
   "cell_type": "code",
   "execution_count": 725,
   "metadata": {},
   "outputs": [
    {
     "data": {
      "text/plain": [
       "tensor([2.0000, 2.5000, 3.0000, 3.5000, 4.0000, 4.5000, 5.0000, 5.5000, 6.0000,\n",
       "        6.5000, 7.0000, 7.5000, 8.0000, 8.5000, 9.0000, 9.5000])"
      ]
     },
     "execution_count": 725,
     "metadata": {},
     "output_type": "execute_result"
    }
   ],
   "source": [
    "torch.arange(2, 10, 0.5)"
   ]
  },
  {
   "cell_type": "code",
   "execution_count": 726,
   "metadata": {},
   "outputs": [
    {
     "name": "stdout",
     "output_type": "stream",
     "text": [
      "tensor([[2, 0, 0],\n",
      "        [0, 5, 0],\n",
      "        [0, 0, 7]])\n",
      "tensor([[1., 0., 0., 0., 0.],\n",
      "        [0., 1., 0., 0., 0.],\n",
      "        [0., 0., 1., 0., 0.],\n",
      "        [0., 0., 0., 1., 0.],\n",
      "        [0., 0., 0., 0., 1.]])\n",
      "tensor([[1, 0, 0],\n",
      "        [2, 3, 0],\n",
      "        [3, 4, 5]])\n"
     ]
    }
   ],
   "source": [
    "print(torch.diag(torch.tensor([2, 5, 7])))\n",
    "\n",
    "print(torch.eye(5))\n",
    "\n",
    "print(torch.tril(torch.tensor([[1, 2, 3], [2, 3, 4], [3, 4, 5]])))"
   ]
  },
  {
   "cell_type": "code",
   "execution_count": 727,
   "metadata": {},
   "outputs": [
    {
     "name": "stdout",
     "output_type": "stream",
     "text": [
      "tensor([1, 2, 3, 4])\n",
      "tensor([[1],\n",
      "        [2],\n",
      "        [3],\n",
      "        [4]])\n",
      "tensor([[1, 2],\n",
      "        [3, 4]])\n"
     ]
    }
   ],
   "source": [
    "# Изменение размера тензора\n",
    "\n",
    "tensor = torch.tensor([1, 2, 3, 4])\n",
    "print(tensor)\n",
    "\n",
    "tensor_1 = tensor.view(4, 1)\n",
    "print(tensor_1)\n",
    "\n",
    "tensor_2 = tensor.reshape([2, 2])\n",
    "print(tensor_2)"
   ]
  },
  {
   "cell_type": "code",
   "execution_count": 728,
   "metadata": {},
   "outputs": [
    {
     "name": "stdout",
     "output_type": "stream",
     "text": [
      "torch.Size([4])\n",
      "torch.Size([1, 4])\n"
     ]
    }
   ],
   "source": [
    "# Добавление осей в тензор\n",
    "\n",
    "print(tensor.shape)\n",
    "\n",
    "tensor = torch.unsqueeze(tensor, 0)\n",
    "print(tensor.shape)"
   ]
  },
  {
   "cell_type": "code",
   "execution_count": 729,
   "metadata": {},
   "outputs": [
    {
     "name": "stdout",
     "output_type": "stream",
     "text": [
      "tensor([ 5, 10, 15, 20, 25])\n",
      "tensor([ 2,  4,  6,  8, 10])\n"
     ]
    }
   ],
   "source": [
    "# Арифметические операции\n",
    "\n",
    "tensor = torch.tensor([1, 2, 3, 4, 5])\n",
    "\n",
    "print(tensor * 5)\n",
    "\n",
    "print(tensor + torch.tensor([1, 2, 3, 4, 5]))"
   ]
  },
  {
   "cell_type": "code",
   "execution_count": 730,
   "metadata": {},
   "outputs": [
    {
     "name": "stdout",
     "output_type": "stream",
     "text": [
      "tensor(21.)\n",
      "tensor(3.5000)\n",
      "tensor(3.5000)\n"
     ]
    }
   ],
   "source": [
    "# Математические функции\n",
    "\n",
    "tensor = torch.tensor([1, 2, 3, 4, 5, 6],\n",
    "                      dtype=torch.float32)\n",
    "\n",
    "print(sum(tensor))\n",
    "\n",
    "print(torch.mean(tensor))\n",
    "\n",
    "print(tensor.mean())"
   ]
  },
  {
   "cell_type": "code",
   "execution_count": 731,
   "metadata": {},
   "outputs": [
    {
     "name": "stdout",
     "output_type": "stream",
     "text": [
      "tensor([[1., 2., 3.],\n",
      "        [4., 5., 6.]])\n",
      "tensor([[2.],\n",
      "        [5.]])\n",
      "tensor([[2.5000, 3.5000, 4.5000]])\n"
     ]
    }
   ],
   "source": [
    "tensor = torch.tensor([1, 2, 3, 4, 5, 6],\n",
    "                      dtype=torch.float32)\n",
    "\n",
    "tensor = tensor.view([2, 3])\n",
    "print(tensor)\n",
    "\n",
    "tensor_mean = tensor.mean(dim=1, keepdim=True)\n",
    "print(tensor_mean)\n",
    "\n",
    "tensor_mean = tensor.mean(dim=0, keepdim=True)\n",
    "print(tensor_mean)"
   ]
  },
  {
   "cell_type": "code",
   "execution_count": 732,
   "metadata": {},
   "outputs": [
    {
     "name": "stdout",
     "output_type": "stream",
     "text": [
      "True\n",
      "False\n"
     ]
    }
   ],
   "source": [
    "# CPU и GPU\n",
    "\n",
    "print(torch.cpu.is_available())\n",
    "print(torch.cuda.is_available()) "
   ]
  },
  {
   "cell_type": "code",
   "execution_count": 733,
   "metadata": {},
   "outputs": [
    {
     "name": "stdout",
     "output_type": "stream",
     "text": [
      "cpu\n"
     ]
    }
   ],
   "source": [
    "tensor = torch.tensor([1., 2., 3.], requires_grad=True)\n",
    "\n",
    "device = 'cuda' if torch.cuda.is_available() else 'cpu'\n",
    "\n",
    "tensor = tensor.to(device)\n",
    "\n",
    "print(tensor.device)"
   ]
  },
  {
   "cell_type": "code",
   "execution_count": 734,
   "metadata": {},
   "outputs": [
    {
     "data": {
      "text/plain": [
       "torch.Size([64, 1, 28, 28])"
      ]
     },
     "execution_count": 734,
     "metadata": {},
     "output_type": "execute_result"
    }
   ],
   "source": [
    "# Добавление оси\n",
    "\n",
    "tensor = torch.zeros((64, 28, 28))\n",
    "\n",
    "new_tensor = tensor[:, None, :, :]\n",
    "\n",
    "new_tensor.shape"
   ]
  },
  {
   "cell_type": "code",
   "execution_count": 735,
   "metadata": {},
   "outputs": [
    {
     "name": "stdout",
     "output_type": "stream",
     "text": [
      "tensor([ 2,  4,  6,  8, 10, 12])\n",
      "tensor([ 2,  4,  6,  8, 10, 12])\n",
      "tensor([ 2,  4,  6,  8, 10, 12])\n"
     ]
    }
   ],
   "source": [
    "# Сложение тензоров\n",
    "\n",
    "tensor_1 = torch.tensor([1, 2, 3, 4, 5, 6])\n",
    "tensor_2 = torch.tensor([1, 2, 3, 4, 5, 6])\n",
    "\n",
    "print(tensor_1 + tensor_2)\n",
    "\n",
    "print(tensor_1.add(tensor_2))\n",
    "\n",
    "print(torch.add(tensor_1, tensor_2))"
   ]
  },
  {
   "cell_type": "code",
   "execution_count": 736,
   "metadata": {},
   "outputs": [
    {
     "name": "stdout",
     "output_type": "stream",
     "text": [
      "tensor_001.shape => torch.Size([2, 2])\n",
      "tensor([[1, 1],\n",
      "        [2, 2]])\n",
      "\n",
      "tensor_002.shape => torch.Size([2, 2])\n",
      "tensor([[3, 3],\n",
      "        [4, 4]])\n",
      "\n",
      "Объединение по нулевой оси\n",
      "tensor_cat.shape => torch.Size([4, 2])\n",
      "tensor([[1, 1],\n",
      "        [2, 2],\n",
      "        [3, 3],\n",
      "        [4, 4]])\n",
      "Объединение по первой оси\n",
      "tensor_cat.shape => torch.Size([2, 5])\n",
      "tensor([[1, 1, 1, 3, 3],\n",
      "        [2, 2, 2, 4, 4]])\n"
     ]
    }
   ],
   "source": [
    "# Конкатенация тензоров\n",
    "\n",
    "tensor_001 = torch.tensor([[1, 1], [2, 2]])\n",
    "tensor_002 = torch.tensor([[3, 3], [4, 4]])\n",
    "\n",
    "tensor_cat = torch.cat([tensor_001, tensor_002])\n",
    "\n",
    "print(f\"tensor_001.shape => {tensor_001.shape}\")\n",
    "print(tensor_001, end='\\n\\n')\n",
    "print(f\"tensor_002.shape => {tensor_002.shape}\")\n",
    "print(tensor_002, end='\\n\\n')\n",
    "\n",
    "print('Объединение по нулевой оси')\n",
    "\n",
    "print(f\"tensor_cat.shape => {tensor_cat.shape}\")\n",
    "print(tensor_cat)\n",
    "\n",
    "print('Объединение по первой оси')\n",
    "\n",
    "tensor_001 = torch.tensor([[1, 1, 1], [2, 2, 2]])\n",
    "tensor_002 = torch.tensor([[3, 3], [4, 4]])\n",
    "\n",
    "tensor_cat = torch.cat([tensor_001, tensor_002], dim=1)\n",
    "\n",
    "print(f\"tensor_cat.shape => {tensor_cat.shape}\")\n",
    "print(tensor_cat)"
   ]
  },
  {
   "cell_type": "code",
   "execution_count": 737,
   "metadata": {},
   "outputs": [
    {
     "name": "stdout",
     "output_type": "stream",
     "text": [
      "Размер тензора до изменения размера => torch.Size([2, 5])\n",
      "Размер тензора после изменения размера => torch.Size([5, 2])\n"
     ]
    }
   ],
   "source": [
    "# Изменение размера тензора\n",
    "\n",
    "tensor = torch.zeros([2, 5])\n",
    "print(f\"Размер тензора до изменения размера => {tensor.shape}\")\n",
    "\n",
    "tensor = tensor.view([-1, 2])\n",
    "print(f\"Размер тензора после изменения размера => {tensor.shape}\")\n"
   ]
  },
  {
   "cell_type": "code",
   "execution_count": 738,
   "metadata": {},
   "outputs": [
    {
     "name": "stdout",
     "output_type": "stream",
     "text": [
      "tensor([1, 0])\n",
      "tensor([1, 0])\n"
     ]
    }
   ],
   "source": [
    "# Функция argmax()\n",
    "\n",
    "tensor = torch.tensor([[2, 5],\n",
    "                      [4, 1]])\n",
    "\n",
    "print(torch.argmax(tensor, dim=1))\n",
    "\n",
    "print(tensor.argmax(dim=1))"
   ]
  },
  {
   "cell_type": "code",
   "execution_count": 739,
   "metadata": {},
   "outputs": [
    {
     "name": "stdout",
     "output_type": "stream",
     "text": [
      "tensor([[False,  True],\n",
      "        [ True,  True]])\n",
      "tensor(False)\n",
      "tensor(True)\n",
      "False\n"
     ]
    }
   ],
   "source": [
    "# Сравнение тензоров\n",
    "\n",
    "tensor_001\t=\ttorch.tensor([[1, 3], [2, 2]])\n",
    "tensor_002\t=\ttorch.tensor([[3, 3], [2, 2]])\n",
    "\n",
    "tensor_equal = tensor_001 == tensor_002\n",
    "print(tensor_equal)\n",
    "\n",
    "tensor_all = torch.all(tensor_equal)\n",
    "print(tensor_all)\n",
    "\n",
    "tensor_any = torch.any(tensor_equal)\n",
    "print(tensor_any)\n",
    "\n",
    "tensor_equal = torch.equal(tensor_001, tensor_002)\n",
    "print(tensor_equal)"
   ]
  },
  {
   "cell_type": "code",
   "execution_count": 740,
   "metadata": {},
   "outputs": [
    {
     "name": "stdout",
     "output_type": "stream",
     "text": [
      "Сравнение по нулевой оси\n",
      "tensor([[ True,  True],\n",
      "        [False, False]])\n",
      "tensor([False, False])\n",
      "\n",
      "Сравнение по первой оси\n",
      "tensor([[ True,  True],\n",
      "        [False, False]])\n",
      "tensor([ True, False])\n"
     ]
    }
   ],
   "source": [
    "# Сравнение по осям\n",
    "\n",
    "print('Сравнение по нулевой оси')\n",
    "tensor_001\t=\ttorch.tensor([[3, 3], [1, 1]])\n",
    "tensor_002\t=\ttorch.tensor([[3, 3], [2, 2]])\n",
    "\n",
    "tensor_equal = tensor_001 == tensor_002\n",
    "print(tensor_equal)\n",
    "\n",
    "tensor_all = torch.all(tensor_equal, dim=0)\n",
    "print(tensor_all)\n",
    "\n",
    "print()\n",
    "\n",
    "print('Сравнение по первой оси')\n",
    "tensor_001\t=\ttorch.tensor([[3, 3], [1, 1]])\n",
    "tensor_002\t=\ttorch.tensor([[3, 3], [2, 2]])\n",
    "\n",
    "tensor_equal = tensor_001 == tensor_002\n",
    "print(tensor_equal)\n",
    "\n",
    "tensor_all = torch.all(tensor_equal, dim=1)\n",
    "print(tensor_all)"
   ]
  },
  {
   "cell_type": "code",
   "execution_count": 741,
   "metadata": {},
   "outputs": [
    {
     "name": "stdout",
     "output_type": "stream",
     "text": [
      "tensor([[3, 3],\n",
      "        [1, 1]])\n",
      "tensor([[3, 3],\n",
      "        [2, 2]])\n",
      "\n",
      "torch.Size([2, 2])\n",
      "tensor([[ True,  True],\n",
      "        [False, False]])\n",
      "\n",
      "torch.Size([2, 1])\n",
      "tensor([[ True],\n",
      "        [False]])\n"
     ]
    }
   ],
   "source": [
    "# Если нужно сохранить размерность тензора, то можно воспользоваться аргументом keepdim со значением True.\n",
    "\n",
    "tensor_001 = torch.tensor([[3, 3], [1, 1]])\n",
    "tensor_002 = torch.tensor([[3, 3], [2, 2]])\n",
    "\n",
    "tensor_equal = tensor_001 == tensor_002\n",
    "tensor_all = torch.all(tensor_equal, dim=1, keepdim=True)\n",
    "\n",
    "print(tensor_001)\n",
    "print(tensor_002, end='\\n\\n')\n",
    "\n",
    "print(tensor_equal.shape)\n",
    "print(tensor_equal, end='\\n\\n')\n",
    "\n",
    "print(tensor_all.shape)\n",
    "print(tensor_all)\n"
   ]
  },
  {
   "cell_type": "code",
   "execution_count": 742,
   "metadata": {},
   "outputs": [
    {
     "data": {
      "text/plain": [
       "torch.Size([64, 50])"
      ]
     },
     "execution_count": 742,
     "metadata": {},
     "output_type": "execute_result"
    }
   ],
   "source": [
    "# Даны два тензора и записаны в переменные tensor_1 и tensor_2. \n",
    "# Тензор tensor_1 размером 64 на 20, тензор tensor_2 размером 64 на 30. \n",
    "# Сложите два тензора, чтобы получился тензор размером 64 на 50.\n",
    "\n",
    "# Результат запишите в переменную new_tensor.\n",
    "\n",
    "# Воспользуйтесь операцией конкатенация torch.cat().\n",
    "\n",
    "tensor_1 = torch.ones([64, 20])\n",
    "tensor_2 = torch.ones([64, 30])\n",
    "\n",
    "new_tensor = torch.cat([tensor_1, tensor_2], dim=1)\n",
    "\n",
    "new_tensor.shape\n"
   ]
  },
  {
   "cell_type": "code",
   "execution_count": 743,
   "metadata": {},
   "outputs": [
    {
     "data": {
      "text/plain": [
       "tensor([1, 1, 0, 1, 0])"
      ]
     },
     "execution_count": 743,
     "metadata": {},
     "output_type": "execute_result"
    }
   ],
   "source": [
    "# Получите индексы максимальных значений на оси с индексом один.\n",
    "\n",
    "# tensor([1, 1, 0, 1, 0])\n",
    "# Результат запишите в переменную index_max_value.\n",
    "\n",
    "# Воспользуйтесь методом argmax().\n",
    "\n",
    "tensor = torch.tensor([[17, 35],\n",
    "                       [16, 24],\n",
    "                       [36, 16],\n",
    "                       [17, 22],\n",
    "                       [31, 18]])\n",
    "\n",
    "index_max_value = tensor.argmax(dim=1)\n",
    "index_max_value"
   ]
  },
  {
   "cell_type": "markdown",
   "metadata": {},
   "source": [
    "# 2  Этапы обучения."
   ]
  },
  {
   "cell_type": "markdown",
   "metadata": {},
   "source": [
    "# 2.1 Подготовка данных. Dataset и DataLoader."
   ]
  },
  {
   "cell_type": "code",
   "execution_count": 744,
   "metadata": {},
   "outputs": [],
   "source": [
    "# Импорты\n",
    "import torch\n",
    "import torchvision\n",
    "from torchvision.datasets import ImageFolder\n",
    "from torch.utils.data import Dataset, DataLoader, random_split\n",
    "\n",
    "###############################################################\n",
    "\n",
    "import os\n",
    "import json\n",
    "import numpy as np\n",
    "import matplotlib.pyplot as plt\n",
    "from PIL import Image"
   ]
  },
  {
   "cell_type": "code",
   "execution_count": 745,
   "metadata": {},
   "outputs": [],
   "source": [
    "# import struct\n",
    "# import sys\n",
    "# from array import array\n",
    "# from os import path\n",
    "# import torchvision\n",
    "# import os\n",
    "# import numpy as np\n",
    "# from PIL import Image\n",
    "\n",
    "# Создание данных для задачи классификации\n",
    "\n",
    "# MNIST_PATH = 'data/raw_mnist'\n",
    "\n",
    "# train_mnist = torchvision.datasets.MNIST(root=MNIST_PATH, train=True,  download=True)\n",
    "# test_minst  = torchvision.datasets.MNIST(root=MNIST_PATH, train=False, download=True)\n",
    "\n",
    "# def read(dataset):\n",
    "#     if dataset == 'training':\n",
    "#         path_img = MNIST_PATH + \"/MNIST/raw/train-images-idx3-ubyte\"\n",
    "#         path_lbl = MNIST_PATH + \"/MNIST/raw/train-labels-idx1-ubyte\"\n",
    "\n",
    "#     elif dataset == \"testing\":\n",
    "#         path_img = MNIST_PATH + \"/MNIST/raw/t10k-images-idx3-ubyte\"\n",
    "#         path_lbl = MNIST_PATH + \"/MNIST/raw/t10k-labels-idx1-ubyte\"\n",
    "#     else: \n",
    "#         raise Exception(\"dataset must be 'testing' or 'training'\")        \n",
    "        \n",
    "#     with open(path_lbl, 'rb' ) as f_label:\n",
    "#         _, size = struct.unpack(\">II\", f_label.read(8))\n",
    "#         lbl=array(\"b\", f_label.read())\n",
    "        \n",
    "#     with open(path_img, 'rb' ) as f_img:\n",
    "#         _, size, rows, cols = struct.unpack(\">IIII\", f_img.read(16))\n",
    "#         img=array(\"B\", f_img.read())    \n",
    "        \n",
    "#     return lbl, img, size, rows, cols    \n",
    "    \n",
    "    \n",
    "# def write_dataset(labels, data, size, rows, cols, output_dir):\n",
    "#     classes = {i: f\"class_{i}\" for i in range(10)}\n",
    "\n",
    "#     output_dirs = [\n",
    "#         path.join(output_dir, classes[i])  for i in range (10)\n",
    "#     ]\n",
    "#     for dir in output_dirs:\n",
    "#             if not path.exists(dir):\n",
    "#                 os.makedirs(dir)\n",
    "                 \n",
    "#     # write data            \n",
    "#     for(i, label) in enumerate(labels):\n",
    "#         output_filename = path.join(output_dirs[label] , str(i)+\".jpg\")\n",
    "#         #printing is too slow\n",
    "#         print(\"writing \" + output_filename)\n",
    "        \n",
    "#         with open(output_filename, \"wb\") as h:\n",
    "#             data_i = [\n",
    "#                 data[ (i * rows * cols + j * cols): (i * rows * cols + (j + 1) * cols) ]\n",
    "#                 for j in range(rows)\n",
    "#             ]\n",
    "#             data_array= np.asarray(data_i)  \n",
    "\n",
    "#             im = Image.fromarray(data_array)\n",
    "#             im.save(output_filename)\n",
    "            \n",
    "# output_path = \"data/mnist\"            \n",
    "\n",
    "# for dataset in [\"training\", \"testing\"]:\n",
    "#     write_dataset(*read(dataset), path.join(output_path, dataset))"
   ]
  },
  {
   "cell_type": "code",
   "execution_count": 746,
   "metadata": {},
   "outputs": [],
   "source": [
    "# Создание данных для задачи регрессии\n",
    "\n",
    "# if not os.path.isdir(\"dataset\"):\n",
    "#     os.mkdir(\"dataset\")\n",
    "\n",
    "# img = np.random.randint(0, 50, [100000, 64, 64], dtype=np.uint8) \n",
    "# square = np.random.randint(100, 200, [100000, 15, 15], dtype=np.uint8)\n",
    "\n",
    "# coords = np.empty([100000, 2])\n",
    "\n",
    "# data = {}\n",
    "\n",
    "# for i in range(img.shape[0]):\n",
    "\n",
    "#     x = np.random.randint(20, 44)\n",
    "#     у = np.random.randint(20, 44)\n",
    "\n",
    "#     img[i, (у - 7):(у + 8), (x - 7):(x + 8)] = square[i]\n",
    "\n",
    "#     coords[i] = [у, x]\n",
    "\n",
    "#     name_img = f'img_{i}.jpeg'\n",
    "#     path_img = os.path.join('dataset/', name_img)\n",
    "\n",
    "#     image = Image.fromarray(img[i]) \n",
    "#     image.save(path_img)\n",
    "\n",
    "#     data[name_img] = [у, x]\n",
    "\n",
    "# with open('dataset/coords.json', 'w') as f:\n",
    "#     json.dump(data, f, indent=2)\n",
    "\n",
    "# # os.rmdir('dataset/.ipynb_checkpoints')"
   ]
  },
  {
   "cell_type": "code",
   "execution_count": 747,
   "metadata": {},
   "outputs": [
    {
     "name": "stdout",
     "output_type": "stream",
     "text": [
      "Путь к папке - data/mnist/training\n",
      "    -- количество папок - 10\n",
      "    -- количество файлов - 0\n",
      "Путь к папке - data/mnist/training\\class_0\n",
      "    -- количество папок - 0\n",
      "    -- количество файлов - 5923\n",
      "Путь к папке - data/mnist/training\\class_1\n",
      "    -- количество папок - 0\n",
      "    -- количество файлов - 6742\n"
     ]
    }
   ],
   "source": [
    "# Пример работы функции walk\n",
    "\n",
    "path = 'data/mnist/training'\n",
    "\n",
    "i = 0\n",
    "for path_dir, dir_list, file_list in os.walk(path):\n",
    "    if i != 3:\n",
    "        print(f'Путь к папке - {path_dir}')\n",
    "        print(f'    -- количество папок - {len(dir_list)}')\n",
    "        print(f'    -- количество файлов - {len(file_list)}')\n",
    "        i += 1"
   ]
  },
  {
   "cell_type": "code",
   "execution_count": 748,
   "metadata": {},
   "outputs": [
    {
     "name": "stdout",
     "output_type": "stream",
     "text": [
      "Класс - training\n",
      "    -- количество файлов - 0\n",
      "Класс - class_0\n",
      "    -- количество файлов - 5923\n",
      "Класс - class_1\n",
      "    -- количество файлов - 6742\n",
      "Класс - class_2\n",
      "    -- количество файлов - 5958\n",
      "Класс - class_3\n",
      "    -- количество файлов - 6131\n",
      "Класс - class_4\n",
      "    -- количество файлов - 5842\n",
      "Класс - class_5\n",
      "    -- количество файлов - 5421\n",
      "Класс - class_6\n",
      "    -- количество файлов - 5918\n",
      "Класс - class_7\n",
      "    -- количество файлов - 6265\n",
      "Класс - class_8\n",
      "    -- количество файлов - 5851\n",
      "Класс - class_9\n",
      "    -- количество файлов - 5949\n"
     ]
    }
   ],
   "source": [
    "# Проверка сбалансированности классов\n",
    "\n",
    "path = 'data/mnist/training'\n",
    "\n",
    "for path_dir, dir_list, file_list in os.walk(path):\n",
    "    path_dir = path_dir.replace('\\\\', '/')\n",
    "    print(f'Класс - {path_dir.split(\"/\")[-1]}')\n",
    "    print(f'    -- количество файлов - {len(file_list)}')\n",
    "\n",
    "# Виден дисбаланс в классах class_1 и class_5"
   ]
  },
  {
   "cell_type": "code",
   "execution_count": 749,
   "metadata": {},
   "outputs": [
    {
     "name": "stdout",
     "output_type": "stream",
     "text": [
      "Класс - testing\n",
      "    -- количество файлов - 0\n",
      "Класс - class_0\n",
      "    -- количество файлов - 980\n",
      "Класс - class_1\n",
      "    -- количество файлов - 1135\n",
      "Класс - class_2\n",
      "    -- количество файлов - 1032\n",
      "Класс - class_3\n",
      "    -- количество файлов - 1010\n",
      "Класс - class_4\n",
      "    -- количество файлов - 982\n",
      "Класс - class_5\n",
      "    -- количество файлов - 892\n",
      "Класс - class_6\n",
      "    -- количество файлов - 958\n",
      "Класс - class_7\n",
      "    -- количество файлов - 1028\n",
      "Класс - class_8\n",
      "    -- количество файлов - 974\n",
      "Класс - class_9\n",
      "    -- количество файлов - 1009\n"
     ]
    }
   ],
   "source": [
    "# Проверка сбалансированности классов\n",
    "\n",
    "path = 'data/mnist/testing'\n",
    "\n",
    "for path_dir, dir_list, file_list in os.walk(path):\n",
    "    path_dir = path_dir.replace('\\\\', '/')\n",
    "    print(f'Класс - {path_dir.split(\"/\")[-1]}')\n",
    "    print(f'    -- количество файлов - {len(file_list)}')\n",
    "\n",
    "# Виден дисбаланс в классах class_1 и class_5"
   ]
  },
  {
   "cell_type": "code",
   "execution_count": 750,
   "metadata": {},
   "outputs": [
    {
     "data": {
      "text/plain": [
       "'data/mnist/training/class_2/1273.jpg'"
      ]
     },
     "execution_count": 750,
     "metadata": {},
     "output_type": "execute_result"
    }
   ],
   "source": [
    "# Пример работы os.path.join\n",
    "\n",
    "os.path.join(r'data\\mnist\\training\\class_2', '1273.jpg').replace('\\\\', '/')\n",
    "\n",
    "# Возвращает путь до конкретного файла"
   ]
  },
  {
   "cell_type": "markdown",
   "metadata": {},
   "source": [
    "# MNIST для задачи классификации"
   ]
  },
  {
   "cell_type": "markdown",
   "metadata": {},
   "source": [
    "## Пользовательский класс для данных"
   ]
  },
  {
   "cell_type": "code",
   "execution_count": 751,
   "metadata": {},
   "outputs": [],
   "source": [
    "class MNISTDataset(Dataset):\n",
    "    def __init__(self, path, transform=None):\n",
    "        self.path = path\n",
    "        self.transform = transform\n",
    "\n",
    "        self.len_dataset = 0 # для подсчета количества файлов в указанной папке\n",
    "        self.data_list = [] # список всех классов\n",
    "\n",
    "        for path_dir, dir_list, file_list in os.walk(path):\n",
    "            if path_dir == path:\n",
    "                self.classes = sorted(dir_list) # сортировка для удобства нумерации классов от 0 до 9\n",
    "                self.class_to_idx = {\n",
    "                    cls_name: i for i, cls_name in enumerate(self.classes) # словарь, \n",
    "                    # в котором каждому клаcсу сопоставлена его позиция в onehot-векторе\n",
    "                }\n",
    "                continue\n",
    "            \n",
    "            path_dir = path_dir.replace('\\\\', '/')\n",
    "            cls = path_dir.split(\"/\")[-1]\n",
    "\n",
    "            for name_file in file_list:\n",
    "                file_path = os.path.join(path_dir, name_file)\n",
    "                self.data_list.append((file_path, self.class_to_idx[cls])) # список с кортежами, \n",
    "                #которые состят из пути до файла и позиции в onehot-векторе для класса данного файла \n",
    "\n",
    "            self.len_dataset += len(file_list)\n",
    "\n",
    "    def __len__(self):\n",
    "        return self.len_dataset # длина датасета - главные возвращаемые параметры\n",
    "\n",
    "    def __getitem__(self, index):\n",
    "        file_path, target = self.data_list[index]\n",
    "        sample = np.array(Image.open(file_path)) # если данные не оборачивать в np.array, то на выходе будет обект PIL\n",
    "\n",
    "        if self.transform is not None:\n",
    "            sample = self.transform(sample)\n",
    "\n",
    "        return sample, target # данные и ответ к ним - главные возвращаемые параметры"
   ]
  },
  {
   "cell_type": "code",
   "execution_count": 752,
   "metadata": {},
   "outputs": [],
   "source": [
    "# Создание датасета\n",
    "\n",
    "train_data = MNISTDataset(r'data\\mnist\\training')\n",
    "test_data = MNISTDataset(r'data\\mnist\\testing')"
   ]
  },
  {
   "cell_type": "code",
   "execution_count": 753,
   "metadata": {},
   "outputs": [
    {
     "data": {
      "text/plain": [
       "['class_0',\n",
       " 'class_1',\n",
       " 'class_2',\n",
       " 'class_3',\n",
       " 'class_4',\n",
       " 'class_5',\n",
       " 'class_6',\n",
       " 'class_7',\n",
       " 'class_8',\n",
       " 'class_9']"
      ]
     },
     "execution_count": 753,
     "metadata": {},
     "output_type": "execute_result"
    }
   ],
   "source": [
    "# Проверяем качество classes\n",
    "\n",
    "train_data.classes"
   ]
  },
  {
   "cell_type": "code",
   "execution_count": 754,
   "metadata": {},
   "outputs": [
    {
     "data": {
      "text/plain": [
       "{'class_0': 0,\n",
       " 'class_1': 1,\n",
       " 'class_2': 2,\n",
       " 'class_3': 3,\n",
       " 'class_4': 4,\n",
       " 'class_5': 5,\n",
       " 'class_6': 6,\n",
       " 'class_7': 7,\n",
       " 'class_8': 8,\n",
       " 'class_9': 9}"
      ]
     },
     "execution_count": 754,
     "metadata": {},
     "output_type": "execute_result"
    }
   ],
   "source": [
    "# Проверяем свойство class_to_idx\n",
    "\n",
    "train_data.class_to_idx"
   ]
  },
  {
   "cell_type": "code",
   "execution_count": 755,
   "metadata": {},
   "outputs": [
    {
     "name": "stdout",
     "output_type": "stream",
     "text": [
      "\u001b[32mclass_0\u001b[0m => \u001b[34m[1, 0, 0, 0, 0, 0, 0, 0, 0, 0]\u001b[0m\n",
      "\u001b[32mclass_1\u001b[0m => \u001b[34m[0, 1, 0, 0, 0, 0, 0, 0, 0, 0]\u001b[0m\n",
      "\u001b[32mclass_2\u001b[0m => \u001b[34m[0, 0, 1, 0, 0, 0, 0, 0, 0, 0]\u001b[0m\n",
      "\u001b[32mclass_3\u001b[0m => \u001b[34m[0, 0, 0, 1, 0, 0, 0, 0, 0, 0]\u001b[0m\n",
      "\u001b[32mclass_4\u001b[0m => \u001b[34m[0, 0, 0, 0, 1, 0, 0, 0, 0, 0]\u001b[0m\n",
      "\u001b[32mclass_5\u001b[0m => \u001b[34m[0, 0, 0, 0, 0, 1, 0, 0, 0, 0]\u001b[0m\n",
      "\u001b[32mclass_6\u001b[0m => \u001b[34m[0, 0, 0, 0, 0, 0, 1, 0, 0, 0]\u001b[0m\n",
      "\u001b[32mclass_7\u001b[0m => \u001b[34m[0, 0, 0, 0, 0, 0, 0, 1, 0, 0]\u001b[0m\n",
      "\u001b[32mclass_8\u001b[0m => \u001b[34m[0, 0, 0, 0, 0, 0, 0, 0, 1, 0]\u001b[0m\n",
      "\u001b[32mclass_9\u001b[0m => \u001b[34m[0, 0, 0, 0, 0, 0, 0, 0, 0, 1]\u001b[0m\n"
     ]
    }
   ],
   "source": [
    "for cls, one_hot_position in train_data.class_to_idx.items():\n",
    "    one_hot_vector = [(i == one_hot_position)*1 for i in range(10)]\n",
    "    print(f\"\\033[32m{cls}\\033[0m => \\033[34m{one_hot_vector}\\033[0m\")"
   ]
  },
  {
   "cell_type": "code",
   "execution_count": 756,
   "metadata": {},
   "outputs": [
    {
     "name": "stdout",
     "output_type": "stream",
     "text": [
      "Длина тренировочных данных:  60000\n",
      "Длина тестовых данных:       10000\n"
     ]
    }
   ],
   "source": [
    "# Проверка магического метода len\n",
    "\n",
    "# train_data.__len__()\n",
    "# test_data.__len__()\n",
    "\n",
    "print(f'Длина тренировочных данных:  {len(train_data)}')\n",
    "print(f'Длина тестовых данных:       {len(test_data)}')"
   ]
  },
  {
   "cell_type": "code",
   "execution_count": 757,
   "metadata": {},
   "outputs": [
    {
     "data": {
      "text/plain": [
       "(array([[  0,   0,   2,   9,   4,   0,   0,   7,   2,   0,   0,   0,   0,\n",
       "           1,   8,   5,   0,   0,   0,   0,   0,   0,   0,   0,   0,   0,\n",
       "           0,   0],\n",
       "        [ 12,   3,   0,   0,   0,   0,   0,   0,   0,   0,   2,   3,   2,\n",
       "           0,   0,   0,   0,   0,   0,   0,   0,   0,   0,   0,   0,   0,\n",
       "           0,   0],\n",
       "        [  0,   0,   0,   0,   4,  10,   8,   3,   0,   4,   0,   0,   1,\n",
       "           0,   0,   4,   0,   0,   0,   0,   0,   0,   0,   0,   0,   0,\n",
       "           0,   0],\n",
       "        [  0,   2,   6,   1,   0,   0,   0,   0,   0,   4,   0,   0,   1,\n",
       "           0,   0,   6,   0,   0,   0,   0,   0,   0,   0,   0,   0,   0,\n",
       "           0,   0],\n",
       "        [  4,   6,   4,   0,   0,   1,   4,   4,   0,   1,   2,   3,   5,\n",
       "           0,   0,   0,   0,   0,   0,   0,   0,   0,   0,   0,   0,   0,\n",
       "           0,   0],\n",
       "        [  3,   0,   0,   3,   9,   7,   0,   0,   5,   0,   1,   3,   0,\n",
       "           1,   9,   4,   0,   0,   0,   0,   0,   0,   0,   0,   0,   0,\n",
       "           0,   0],\n",
       "        [  3,   0,   0,   2,   0,   0,   0,   7,   7,   0,   3,  11,   0,\n",
       "           0,  13,   0,   0,   0,   0,   0,   0,   0,   0,   0,   0,   0,\n",
       "           0,   0],\n",
       "        [  3,   0,   1,   4,   0,   9,  64, 125, 129, 115, 152, 171, 135,\n",
       "         125, 119,  75,   0,   0,   0,   0,   0,   0,   0,   0,   0,   0,\n",
       "           0,   0],\n",
       "        [  4,   0,  10,   0,   0, 133, 255, 248, 254, 255, 247, 250, 255,\n",
       "         252, 255, 255, 249, 255, 254, 239, 201,   3,   0,   4,   0,   0,\n",
       "           0,   0],\n",
       "        [  0,   0,   1,   2,   0,  65, 162, 209, 130, 115, 123, 202, 255,\n",
       "         250, 255, 255, 255, 233, 255, 255, 251, 185,   0,   0,   0,   0,\n",
       "           0,   0],\n",
       "        [  0,   1,   0,   0,   0,   0,  39, 106,   2,   8,   3,   5,   4,\n",
       "           6,   7,   0,   0,  73, 243, 253, 247, 198,  13,   0,   0,   0,\n",
       "           0,   0],\n",
       "        [  0,   8,   0,   0,   2,   0,   0,  10,   0,   0,   0,   4,   0,\n",
       "           0,   5,  18,   1, 134, 251, 255, 192,   3,   0,  17,   0,   0,\n",
       "           0,   0],\n",
       "        [  0,   0,   0,   2,   3,   6,   3,   0,   7,   0,   3,   9,   8,\n",
       "           5,   0,   0,  68, 245, 248, 184,  78,   0,  13,   0,   0,   0,\n",
       "           0,   0],\n",
       "        [  6,   0,   0,   7,   0,   0,  10,   6,   0,  10,  13,   0,   0,\n",
       "           4,   0,   1, 248, 255, 241,  62,   5,   0,  11,  14,   0,   0,\n",
       "           0,   0],\n",
       "        [  5,   0,   0,   0,   0,   0,   0,   1,   3,   0,   0,   4,   5,\n",
       "           0,  35, 173, 255, 250, 196,   2,   0,   8,   7,   0,   0,   0,\n",
       "           0,   0],\n",
       "        [  0,  10,   2,   0,   8,  17,   1,   0,   0,   4,   6,   0,   2,\n",
       "          11,  96, 255, 255, 185,  10,   0,   1,   0,   2,   6,   0,   0,\n",
       "           0,   0],\n",
       "        [  0,   0,   0,   0,   0,   0,   0,   0,   0,   0,   6,   0,   0,\n",
       "           3, 183, 255, 255, 116,  16,   0,   9,  15,   0,   4,   0,   0,\n",
       "           0,   0],\n",
       "        [  0,   0,   0,   0,   0,   0,   0,   0,   0,  10,   0,   1,  13,\n",
       "          79, 255, 252, 233,  14,   0,  19,   0,   0,   7,   1,   0,   0,\n",
       "           0,   0],\n",
       "        [  0,   0,   0,   0,   0,   0,   0,   0,   3,   4,   0,   9,   0,\n",
       "         233, 239, 255,  87,   0,   0,  13,   0,   0,   0,   0,   0,   0,\n",
       "           0,   0],\n",
       "        [  0,   0,   0,   0,   0,   0,   0,   0,   0,   6,   5,   0,  75,\n",
       "         255, 255, 249,   0,  13,  16,   0,   3,  12,   0,   0,   0,   0,\n",
       "           0,   0],\n",
       "        [  0,   0,   0,   0,   0,   0,   0,   0,   0,   1,   1,   0, 136,\n",
       "         246, 255, 125,  11,   0,   0,   0,   0,   3,   5,   0,   0,   0,\n",
       "           0,   0],\n",
       "        [  0,   0,   0,   0,   0,   0,   0,   0,   4,   0,   0,  16, 173,\n",
       "         255, 255,   4,  15,   0,   0,  15,   0,   0,  11,   0,   0,   0,\n",
       "           0,   0],\n",
       "        [  0,   0,   0,   0,   0,   0,   0,   0,   0,   3,   0,  11, 255,\n",
       "         244, 255,   0,   0,   5,  11,   7,   2,   0,   0,   0,   0,   0,\n",
       "           0,   0],\n",
       "        [  0,   0,   0,   0,   0,   0,   0,   0,  11,   0,  10,   0, 246,\n",
       "         255, 115,  10,   7,   3,   0,   0,   7,   0,   0,   2,   0,   0,\n",
       "           0,   0],\n",
       "        [  0,   0,   0,   0,   0,   0,   0,   0,   5,   0,  16,  58, 255,\n",
       "         255, 132,   0,   0,   0,   0,   0,   0,   0,   0,   0,   0,   0,\n",
       "           0,   0],\n",
       "        [  0,   0,   0,   0,   0,   0,   0,   0,   0,   8,   0, 129, 255,\n",
       "         238, 130,  26,   0,   0,   0,   0,   0,   0,   0,   0,   0,   0,\n",
       "           0,   0],\n",
       "        [  0,   0,   0,   0,   0,   0,   0,   0,  10,   0,  11,  10, 110,\n",
       "         255,  62,   0,   0,   0,   0,   0,   0,   0,   0,   0,   0,   0,\n",
       "           0,   0],\n",
       "        [  0,   0,   0,   0,   0,   0,   0,   0,   0,   8,   0,  11,  19,\n",
       "           0,   0,  15,   0,   0,   0,   0,   0,   0,   0,   0,   0,   0,\n",
       "           0,   0]], dtype=uint8),\n",
       " 7)"
      ]
     },
     "execution_count": 757,
     "metadata": {},
     "output_type": "execute_result"
    }
   ],
   "source": [
    "# Проверка магического метода getitem на train_data\n",
    "# Так как len = 60000, то index = 0...59999\n",
    "\n",
    "# print(train_data.__getitem__(42527))\n",
    "train_data[42527] # out: (np.array, one_hot_position)   42527 - порядковый номер картинки"
   ]
  },
  {
   "cell_type": "code",
   "execution_count": 758,
   "metadata": {},
   "outputs": [
    {
     "name": "stdout",
     "output_type": "stream",
     "text": [
      "Класс - class_7\n"
     ]
    },
    {
     "data": {
      "image/png": "[encoded data removed]",
      "text/plain": [
       "<Figure size 640x480 with 1 Axes>"
      ]
     },
     "metadata": {},
     "output_type": "display_data"
    }
   ],
   "source": [
    "img, one_hot_position = train_data[42527]\n",
    "\n",
    "cls = train_data.classes[one_hot_position]\n",
    "print(f'Класс - {cls}')\n",
    "plt.imshow(img, cmap='grey');"
   ]
  },
  {
   "cell_type": "code",
   "execution_count": 759,
   "metadata": {},
   "outputs": [
    {
     "name": "stdout",
     "output_type": "stream",
     "text": [
      "Длина тренировочных данных: 48000\n",
      "Длина валидационных данных: 12000\n",
      "Длина тестовых данных:      10000\n"
     ]
    }
   ],
   "source": [
    "# Разбиваем на тренировочный и валидационный датасеты\n",
    "\n",
    "train_data, val_data = random_split(train_data, [0.8, 0.2])\n",
    "\n",
    "print(f'Длина тренировочных данных: {len(train_data)}')\n",
    "print(f'Длина валидационных данных: {len(val_data)}')\n",
    "print(f'Длина тестовых данных:      {len(test_data)}')"
   ]
  },
  {
   "cell_type": "code",
   "execution_count": 760,
   "metadata": {},
   "outputs": [],
   "source": [
    "# Разбиваем данные на батчи\n",
    "\n",
    "train_loader = DataLoader(train_data, batch_size=16, shuffle=True) # всегда данные перемешиваем, чтобы нейронная сеть не заучила данные\n",
    "val_loader = DataLoader(val_data, batch_size=16, shuffle=False)\n",
    "test_loader = DataLoader(test_data, batch_size=16, shuffle=False)"
   ]
  },
  {
   "cell_type": "code",
   "execution_count": 761,
   "metadata": {},
   "outputs": [
    {
     "name": "stdout",
     "output_type": "stream",
     "text": [
      "Номер batch = 1\n",
      "    размер samples = torch.Size([16, 28, 28])\n",
      "    размер target = torch.Size([16])\n",
      "Номер batch = 2\n",
      "    размер samples = torch.Size([16, 28, 28])\n",
      "    размер target = torch.Size([16])\n",
      "Номер batch = 3\n",
      "    размер samples = torch.Size([16, 28, 28])\n",
      "    размер target = torch.Size([16])\n",
      "\n",
      ".................................................\n",
      "      \n",
      "Последний номер batch = 3000\n",
      "    размер samples = torch.Size([16, 28, 28])\n",
      "    размер target = torch.Size([16])\n"
     ]
    }
   ],
   "source": [
    "for i, (samples, target) in enumerate(train_loader):\n",
    "    if i < 3:\n",
    "        print(f'Номер batch = {i + 1}')\n",
    "        print(f'    размер samples = {samples.shape}')\n",
    "        print(f'    размер target = {target.shape}')\n",
    "    else:\n",
    "        break\n",
    "\n",
    "print('''\n",
    ".................................................\n",
    "      \n",
    "Последний номер batch = 3000\n",
    "    размер samples = torch.Size([16, 28, 28])\n",
    "    размер target = torch.Size([16])''')\n"
   ]
  },
  {
   "cell_type": "markdown",
   "metadata": {},
   "source": [
    "## Использование класса ImageFolder"
   ]
  },
  {
   "cell_type": "code",
   "execution_count": 762,
   "metadata": {},
   "outputs": [],
   "source": [
    "train_data = ImageFolder(root=r'data\\mnist\\training')\n",
    "test_data = ImageFolder(root=r'data\\mnist\\testing')"
   ]
  },
  {
   "cell_type": "code",
   "execution_count": 763,
   "metadata": {},
   "outputs": [
    {
     "data": {
      "text/plain": [
       "['class_0',\n",
       " 'class_1',\n",
       " 'class_2',\n",
       " 'class_3',\n",
       " 'class_4',\n",
       " 'class_5',\n",
       " 'class_6',\n",
       " 'class_7',\n",
       " 'class_8',\n",
       " 'class_9']"
      ]
     },
     "execution_count": 763,
     "metadata": {},
     "output_type": "execute_result"
    }
   ],
   "source": [
    "train_data.classes"
   ]
  },
  {
   "cell_type": "code",
   "execution_count": 764,
   "metadata": {},
   "outputs": [
    {
     "data": {
      "text/plain": [
       "{'class_0': 0,\n",
       " 'class_1': 1,\n",
       " 'class_2': 2,\n",
       " 'class_3': 3,\n",
       " 'class_4': 4,\n",
       " 'class_5': 5,\n",
       " 'class_6': 6,\n",
       " 'class_7': 7,\n",
       " 'class_8': 8,\n",
       " 'class_9': 9}"
      ]
     },
     "execution_count": 764,
     "metadata": {},
     "output_type": "execute_result"
    }
   ],
   "source": [
    "train_data.class_to_idx"
   ]
  },
  {
   "cell_type": "code",
   "execution_count": 765,
   "metadata": {},
   "outputs": [
    {
     "name": "stdout",
     "output_type": "stream",
     "text": [
      "Длина тренировочных данных:  60000\n",
      "Длина тестовых данных:       10000\n"
     ]
    }
   ],
   "source": [
    "# Проверка магического метода len\n",
    "\n",
    "print(f'Длина тренировочных данных:  {len(train_data)}')\n",
    "print(f'Длина тестовых данных:       {len(test_data)}')"
   ]
  },
  {
   "cell_type": "code",
   "execution_count": 766,
   "metadata": {},
   "outputs": [
    {
     "data": {
      "text/plain": [
       "(<PIL.Image.Image image mode=RGB size=28x28>, 7)"
      ]
     },
     "execution_count": 766,
     "metadata": {},
     "output_type": "execute_result"
    }
   ],
   "source": [
    "# Проверка магического метода getitem на train_data\n",
    "# Так как len = 60000, то index = 0...59999\n",
    "\n",
    "# print(train_data.__getitem__(42527))\n",
    "train_data[42527] # out: (PIL.Image, one_hot_position)   42527 - порядковый номер картинки"
   ]
  },
  {
   "cell_type": "code",
   "execution_count": 767,
   "metadata": {},
   "outputs": [
    {
     "name": "stdout",
     "output_type": "stream",
     "text": [
      "Класс - class_7\n"
     ]
    },
    {
     "data": {
      "image/png": "[encoded data removed]",
      "text/plain": [
       "<Figure size 640x480 with 1 Axes>"
      ]
     },
     "metadata": {},
     "output_type": "display_data"
    }
   ],
   "source": [
    "img, one_hot_position = train_data[42527]\n",
    "\n",
    "cls = train_data.classes[one_hot_position]\n",
    "print(f'Класс - {cls}')\n",
    "plt.imshow(img, cmap='grey');"
   ]
  },
  {
   "cell_type": "code",
   "execution_count": 768,
   "metadata": {},
   "outputs": [
    {
     "name": "stdout",
     "output_type": "stream",
     "text": [
      "Длина тренировочных данных: 48000\n",
      "Длина валидационных данных: 12000\n",
      "Длина тестовых данных:      10000\n"
     ]
    }
   ],
   "source": [
    "# Разбиваем на тренировочный и валидационный датасеты\n",
    "\n",
    "train_data, val_data = random_split(train_data, [0.8, 0.2])\n",
    "\n",
    "print(f'Длина тренировочных данных: {len(train_data)}')\n",
    "print(f'Длина валидационных данных: {len(val_data)}')\n",
    "print(f'Длина тестовых данных:      {len(test_data)}')"
   ]
  },
  {
   "cell_type": "code",
   "execution_count": 769,
   "metadata": {},
   "outputs": [],
   "source": [
    "# Разбиваем данные на батчи\n",
    "\n",
    "train_loader = DataLoader(train_data, batch_size=16, shuffle=True) # всегда данные перемешиваем, чтобы нейронная сеть не заучила данные\n",
    "val_loader = DataLoader(val_data, batch_size=16, shuffle=False)\n",
    "test_loader = DataLoader(test_data, batch_size=16, shuffle=False)"
   ]
  },
  {
   "cell_type": "markdown",
   "metadata": {},
   "source": [
    "# Данные для задачи регрессии"
   ]
  },
  {
   "cell_type": "code",
   "execution_count": 770,
   "metadata": {},
   "outputs": [],
   "source": [
    "# os.listdir('data/dataset')"
   ]
  },
  {
   "cell_type": "code",
   "execution_count": 771,
   "metadata": {},
   "outputs": [],
   "source": [
    "# Импортируйте класс, от которого наследуется пользовательский класс для создания датасета. Создайте пользовательский класс для создания датасета с именем MyDataset.\n",
    "\n",
    "# В классе MyDataset объявите три необходимых метода, в которых пропишите оператор pass.\n",
    "\n",
    "from torch.utils.data import Dataset, DataLoader\n",
    "\n",
    "class MyDataset(Dataset):\n",
    "    def __init__(self, path, transform=None):\n",
    "        pass\n",
    "\n",
    "    def __len__(self):\n",
    "        pass\n",
    "\n",
    "    def __getitem__(self, index):\n",
    "        pass\n"
   ]
  },
  {
   "cell_type": "markdown",
   "metadata": {},
   "source": [
    "# 2.3 Dataset Transform."
   ]
  },
  {
   "cell_type": "code",
   "execution_count": 772,
   "metadata": {},
   "outputs": [],
   "source": [
    "# Импорты\n",
    "import torch\n",
    "import torchvision\n",
    "\n",
    "from torchvision.datasets import ImageFolder\n",
    "from torch.utils.data import Dataset, DataLoader, random_split\n",
    "\n",
    "from torchvision import transforms\n",
    "\n",
    "from torchvision.transforms import v2\n",
    "\n",
    "###############################################################\n",
    "\n",
    "import os\n",
    "\n",
    "import numpy as np\n",
    "import matplotlib.pyplot as plt\n",
    "\n",
    "from PIL import Image"
   ]
  },
  {
   "cell_type": "code",
   "execution_count": 773,
   "metadata": {},
   "outputs": [
    {
     "data": {
      "image/png": "[encoded data removed]",
      "text/plain": [
       "<Figure size 640x480 with 1 Axes>"
      ]
     },
     "metadata": {},
     "output_type": "display_data"
    }
   ],
   "source": [
    "plt.axis('off')\n",
    "plt.imshow(Image.open('data/img.jpg'));"
   ]
  },
  {
   "cell_type": "code",
   "execution_count": 774,
   "metadata": {},
   "outputs": [
    {
     "name": "stdout",
     "output_type": "stream",
     "text": [
      "<class 'numpy.ndarray'>\n",
      "(718, 1529, 3) - высота, ширина, цветовые каналы\n",
      "uint8\n",
      "min = 0, max = 255\n"
     ]
    }
   ],
   "source": [
    "img = np.array(Image.open('data/img.jpg'))\n",
    "\n",
    "print(type(img))\n",
    "print(img.shape, '- высота, ширина, цветовые каналы')\n",
    "print(img.dtype)\n",
    "print(f'min = {img.min()}, max = {img.max()}')"
   ]
  },
  {
   "cell_type": "code",
   "execution_count": 775,
   "metadata": {},
   "outputs": [
    {
     "data": {
      "image/png": "[encoded data removed]",
      "text/plain": [
       "<Figure size 640x480 with 2 Axes>"
      ]
     },
     "metadata": {},
     "output_type": "display_data"
    }
   ],
   "source": [
    "img_c2 = img\n",
    "img_c0 = img.reshape([3, 718, 1529]) # неверно! необходимо использователь специальные библиотеки\n",
    "\n",
    "_, ax = plt.subplots(2, 1)\n",
    "\n",
    "ax[0].imshow(img_c2[..., 0])\n",
    "ax[1].imshow(img_c0[0, ...]);"
   ]
  },
  {
   "cell_type": "markdown",
   "metadata": {},
   "source": [
    "## Преобразование изображения при помощи transforms"
   ]
  },
  {
   "cell_type": "code",
   "execution_count": 776,
   "metadata": {},
   "outputs": [
    {
     "name": "stdout",
     "output_type": "stream",
     "text": [
      "<class 'torch.Tensor'>\n",
      "torch.Size([3, 718, 1529]) - высота, ширина, цветовые каналы\n",
      "torch.float32\n",
      "min = 0.0, max = 1.0\n"
     ]
    }
   ],
   "source": [
    "# Преобразование изображения в torch.tensor()\n",
    "\n",
    "# (PIL.image, np.array) ==> torch.tensor\n",
    "# (H, W, C) ==> (C, H, W)\n",
    "# (0, 255) ==> (0.0, 1.0)\n",
    "\n",
    "transform = transforms.ToTensor()\n",
    "\n",
    "img_ToTensor = transform(img)\n",
    "\n",
    "print(type(img_ToTensor))\n",
    "print(img_ToTensor.shape, '- высота, ширина, цветовые каналы')\n",
    "print(img_ToTensor.dtype)\n",
    "print(f'min = {img_ToTensor.min()}, max = {img_ToTensor.max()}')"
   ]
  },
  {
   "cell_type": "code",
   "execution_count": 777,
   "metadata": {},
   "outputs": [
    {
     "name": "stdout",
     "output_type": "stream",
     "text": [
      "<class 'torch.Tensor'>\n",
      "torch.Size([3, 718, 1529]) - высота, ширина, цветовые каналы\n",
      "torch.float32\n",
      "min = -1.0, max = 1.0\n"
     ]
    }
   ],
   "source": [
    "# Наормализация данных\n",
    "\n",
    "# В функцию передаются только тензоры с типом данных float\n",
    "\n",
    "transform = transforms.Normalize(mean=(0.5, 0.5, 0.5), std=(0.5, 0.5, 0.5))\n",
    "\n",
    "img_norm = transform(img_ToTensor)\n",
    "\n",
    "print(type(img_norm))\n",
    "print(img_norm.shape, '- высота, ширина, цветовые каналы')\n",
    "print(img_norm.dtype)\n",
    "print(f'min = {img_norm.min()}, max = {img_norm.max()}')"
   ]
  },
  {
   "cell_type": "code",
   "execution_count": 778,
   "metadata": {},
   "outputs": [
    {
     "name": "stdout",
     "output_type": "stream",
     "text": [
      "<class 'torch.Tensor'>\n",
      "torch.Size([3, 718, 1529]) - высота, ширина, цветовые каналы\n",
      "torch.float32\n",
      "min = -1.0, max = 1.0\n"
     ]
    }
   ],
   "source": [
    "# Класс Compose()\n",
    "\n",
    "# Для объединения трансформаций и последовательного их выполнения\n",
    "\n",
    "transform = transforms.Compose(\n",
    "    [\n",
    "        transforms.ToTensor(),\n",
    "        transforms.Normalize(mean=(0.5, 0.5, 0.5), std=(0.5, 0.5, 0.5))\n",
    "    ]\n",
    ")\n",
    "\n",
    "img = transform(Image.open('data/img.jpg'))\n",
    "\n",
    "print(type(img_norm))\n",
    "print(img_norm.shape, '- высота, ширина, цветовые каналы')\n",
    "print(img_norm.dtype)\n",
    "print(f'min = {img_norm.min()}, max = {img_norm.max()}')"
   ]
  },
  {
   "cell_type": "code",
   "execution_count": 779,
   "metadata": {},
   "outputs": [
    {
     "name": "stdout",
     "output_type": "stream",
     "text": [
      "<class 'torch.Tensor'>\n",
      "torch.Size([3, 718, 1529]) - высота, ширина, цветовые каналы\n",
      "torch.float32\n",
      "min = -1.0, max = 1.0\n"
     ]
    },
    {
     "name": "stderr",
     "output_type": "stream",
     "text": [
      "c:\\Users\\kuche\\anaconda3\\Lib\\site-packages\\torchvision\\transforms\\v2\\_deprecated.py:42: UserWarning: The transform `ToTensor()` is deprecated and will be removed in a future release. Instead, please use `v2.Compose([v2.ToImage(), v2.ToDtype(torch.float32, scale=True)])`.Output is equivalent up to float precision.\n",
      "  warnings.warn(\n"
     ]
    }
   ],
   "source": [
    "# Преобразование изображения в torch.tensor()\n",
    "\n",
    "# (PIL.image, np.array) ==> torch.tensor\n",
    "# (H, W, C) ==> (C, H, W)\n",
    "# (0, 255) ==> (0.0, 1.0)\n",
    "\n",
    "transform = v2.ToTensor()\n",
    "\n",
    "img_v2 = transform(img)\n",
    "\n",
    "print(type(img_v2))\n",
    "print(img_v2.shape, '- высота, ширина, цветовые каналы')\n",
    "print(img_v2.dtype)\n",
    "print(f'min = {img_v2.min()}, max = {img_v2.max()}')"
   ]
  },
  {
   "cell_type": "code",
   "execution_count": 780,
   "metadata": {},
   "outputs": [
    {
     "name": "stdout",
     "output_type": "stream",
     "text": [
      "<class 'torchvision.tv_tensors._image.Image'>\n",
      "torch.Size([3, 718, 1529]) - высота, ширина, цветовые каналы\n",
      "torch.float32\n",
      "min = -1.0, max = 1.0\n"
     ]
    }
   ],
   "source": [
    "# Преобразование изображения в torchvision.tv_tesor\n",
    "\n",
    "# (PIL.image, np.array) ==> torchvision.tv_tesor\n",
    "# (H, W, C) ==> (C, H, W)\n",
    "# (0, 255) ==> (0.0, 1.0)\n",
    "\n",
    "# tv_tensors то же самое, что и обычный tensors\n",
    "\n",
    "transform = v2.ToImage()\n",
    "\n",
    "img_v2 = transform(img)\n",
    "\n",
    "print(type(img_v2))\n",
    "print(img_v2.shape, '- высота, ширина, цветовые каналы')\n",
    "print(img_v2.dtype)\n",
    "print(f'min = {img_v2.min()}, max = {img_v2.max()}')\n",
    "\n",
    "# Формат dtype не изменился и гранизы остались от 0 до 255\n",
    "# Необходимо нормализовать отдельно"
   ]
  },
  {
   "cell_type": "code",
   "execution_count": 781,
   "metadata": {},
   "outputs": [
    {
     "name": "stdout",
     "output_type": "stream",
     "text": [
      "<class 'torch.Tensor'>\n",
      "torch.Size([3, 718, 1529]) - высота, ширина, цветовые каналы\n",
      "torch.float32\n",
      "min = 0.0, max = 1.0\n"
     ]
    }
   ],
   "source": [
    "# Изменение данных в V2\n",
    "\n",
    "transform = v2.ToDtype(torch.float32, scale=True) # scale=True) для скалирования 0...1\n",
    "\n",
    "img_dtype_v2 = transform(img_ToTensor)\n",
    "\n",
    "print(type(img_dtype_v2))\n",
    "print(img_dtype_v2.shape, '- высота, ширина, цветовые каналы')\n",
    "print(img_dtype_v2.dtype)\n",
    "print(f'min = {img_dtype_v2.min()}, max = {img_dtype_v2.max()}')"
   ]
  },
  {
   "cell_type": "code",
   "execution_count": 782,
   "metadata": {},
   "outputs": [
    {
     "name": "stdout",
     "output_type": "stream",
     "text": [
      "<class 'torch.Tensor'>\n",
      "torch.Size([3, 718, 1529]) - высота, ширина, цветовые каналы\n",
      "torch.float32\n",
      "min = -1.0, max = 1.0\n"
     ]
    }
   ],
   "source": [
    "# Нормализация данных в V2\n",
    "\n",
    "transform = v2.Normalize(mean=(0.5, 0.5, 0.5), std=(0.5, 0.5, 0.5))\n",
    "\n",
    "img_norm_v2 = transform(img_ToTensor)\n",
    "\n",
    "print(type(img_norm_v2))\n",
    "print(img_norm_v2.shape, '- высота, ширина, цветовые каналы')\n",
    "print(img_norm_v2.dtype)\n",
    "print(f'min = {img_norm_v2.min()}, max = {img_norm_v2.max()}')"
   ]
  },
  {
   "cell_type": "code",
   "execution_count": 783,
   "metadata": {},
   "outputs": [
    {
     "name": "stdout",
     "output_type": "stream",
     "text": [
      "<class 'torch.Tensor'>\n",
      "torch.Size([3, 718, 1529]) - высота, ширина, цветовые каналы\n",
      "torch.float32\n"
     ]
    },
    {
     "name": "stdout",
     "output_type": "stream",
     "text": [
      "min = -1.0, max = 1.0\n"
     ]
    }
   ],
   "source": [
    "# Класс Compose()\n",
    "\n",
    "# Для объединения трансформаций и последовательного их выполнения\n",
    "\n",
    "transform = transforms.Compose(\n",
    "    [\n",
    "        v2.ToImage(),\n",
    "        v2.ToDtype(torch.float32, scale=True),\n",
    "        v2.Normalize(mean=(0.5, 0.5, 0.5), std=(0.5, 0.5, 0.5))\n",
    "    ]\n",
    ")\n",
    "\n",
    "img = transform(Image.open('data/img.jpg'))\n",
    "\n",
    "print(type(img_norm))\n",
    "print(img_norm.shape, '- высота, ширина, цветовые каналы')\n",
    "print(img_norm.dtype)\n",
    "print(f'min = {img_norm.min()}, max = {img_norm.max()}')"
   ]
  },
  {
   "cell_type": "code",
   "execution_count": 784,
   "metadata": {},
   "outputs": [],
   "source": [
    "# Оптимальное приминение трансформаций (по скорости)\n",
    "\n",
    "# transform = transforms.Compose(\n",
    "#     [\n",
    "#         v2.ToImage(),\n",
    "#         v2.ToDtype(torch.uint8, scale=True),\n",
    "\n",
    "#         -- Производим различные преобазования --\n",
    "\n",
    "#         v2.ToDtype(torch.float32, scale=True),\n",
    "#         v2.Normalize(mean=(0.5, ), std=(0.5, ))\n",
    "#     ]\n",
    "# )"
   ]
  },
  {
   "cell_type": "markdown",
   "metadata": {},
   "source": [
    "## Трансформация для MNIST"
   ]
  },
  {
   "cell_type": "code",
   "execution_count": 785,
   "metadata": {},
   "outputs": [],
   "source": [
    "class MNISTDataset(Dataset):\n",
    "    def __init__(self, path, transform=None):\n",
    "        self.path = path\n",
    "        self.transform = transform\n",
    "\n",
    "        self.len_dataset = 0 # для подсчета количества файлов в указанной папке\n",
    "        self.data_list = [] # список всех классов\n",
    "\n",
    "        for path_dir, dir_list, file_list in os.walk(path):\n",
    "            if path_dir == path:\n",
    "                self.classes = sorted(dir_list) # сортировка для удобства нумерации классов от 0 до 9\n",
    "                self.class_to_idx = {\n",
    "                    cls_name: i for i, cls_name in enumerate(self.classes) # словарь, \n",
    "                    # в котором каждому клаcсу сопоставлена его позиция в onehot-векторе\n",
    "                }\n",
    "                continue\n",
    "            \n",
    "            path_dir = path_dir.replace('\\\\', '/')\n",
    "            cls = path_dir.split(\"/\")[-1]\n",
    "\n",
    "            for name_file in file_list:\n",
    "                file_path = os.path.join(path_dir, name_file)\n",
    "                self.data_list.append((file_path, self.class_to_idx[cls])) # список с кортежами, \n",
    "                #которые состят из пути до файла и позиции в onehot-векторе для класса данного файла \n",
    "\n",
    "            self.len_dataset += len(file_list)\n",
    "\n",
    "    def __len__(self):\n",
    "        return self.len_dataset # длина датасета - главные возвращаемые параметры\n",
    "\n",
    "    def __getitem__(self, index):\n",
    "        file_path, target = self.data_list[index]\n",
    "        sample = Image.open(file_path) # НЕ ИСПОЛЬЗУЕТСЯ ОБОРАЧИВАНИЯ В np.array\n",
    "\n",
    "        if self.transform is not None:\n",
    "            sample = self.transform(sample)\n",
    "\n",
    "        return sample, target # данные и ответ к ним - главные возвращаемые параметры"
   ]
  },
  {
   "cell_type": "code",
   "execution_count": 786,
   "metadata": {},
   "outputs": [],
   "source": [
    "transform = transforms.Compose(\n",
    "    [\n",
    "        transforms.ToTensor(),\n",
    "        transforms.Normalize(mean=(0.5), std=(0.5))\n",
    "    ]\n",
    ")"
   ]
  },
  {
   "cell_type": "code",
   "execution_count": 787,
   "metadata": {},
   "outputs": [],
   "source": [
    "transform_v2 = transforms.Compose(\n",
    "    [\n",
    "        v2.ToImage(),\n",
    "        v2.ToDtype(torch.float32, scale=True),\n",
    "        v2.Normalize(mean=(0.5, 0.5, 0.5), std=(0.5, 0.5, 0.5))\n",
    "    ]\n",
    ")"
   ]
  },
  {
   "cell_type": "code",
   "execution_count": 788,
   "metadata": {},
   "outputs": [],
   "source": [
    "# Разделение на тренировочную и тестовую выборку с трансформациями\n",
    "\n",
    "train_data = MNISTDataset(r'data\\mnist\\training', transform=transform)\n",
    "test_data = MNISTDataset(r'data\\mnist\\testing', transform=transform)"
   ]
  },
  {
   "cell_type": "code",
   "execution_count": 794,
   "metadata": {},
   "outputs": [
    {
     "name": "stdout",
     "output_type": "stream",
     "text": [
      "imgs:\n",
      "    <class 'torch.Tensor'>\n",
      "    torch.Size([1, 28, 28])\n",
      "    torch.float32\n",
      "min = -1.0, max = 1.0\n",
      "\n",
      "cls:\n",
      "    0\n"
     ]
    }
   ],
   "source": [
    "img, cls = test_data[2]\n",
    "\n",
    "print('imgs:')\n",
    "print(f'    {type(img)}')\n",
    "print(f'    {img.shape}')\n",
    "print(f'    {img.dtype}')\n",
    "print(f'min = {img.min()}, max = {img.max()}')\n",
    "\n",
    "print()\n",
    "\n",
    "print('cls:')\n",
    "print(f'    {cls}')"
   ]
  },
  {
   "cell_type": "code",
   "execution_count": 790,
   "metadata": {},
   "outputs": [
    {
     "name": "stdout",
     "output_type": "stream",
     "text": [
      "Длина тренировочных данных: 48000\n",
      "Длина валидационных данных: 12000\n",
      "Длина тестовых данных:      10000\n"
     ]
    }
   ],
   "source": [
    "# Разбиваем на тренировочный и валидационный датасеты\n",
    "\n",
    "train_data, val_data = random_split(train_data, [0.8, 0.2])\n",
    "\n",
    "print(f'Длина тренировочных данных: {len(train_data)}')\n",
    "print(f'Длина валидационных данных: {len(val_data)}')\n",
    "print(f'Длина тестовых данных:      {len(test_data)}')"
   ]
  },
  {
   "cell_type": "code",
   "execution_count": 791,
   "metadata": {},
   "outputs": [],
   "source": [
    "# Разбиваем данные на батчи\n",
    "\n",
    "train_loader = DataLoader(train_data, batch_size=16, shuffle=True) # всегда данные перемешиваем, чтобы нейронная сеть не заучила данные\n",
    "val_loader = DataLoader(val_data, batch_size=16, shuffle=False)\n",
    "test_loader = DataLoader(test_data, batch_size=16, shuffle=False)"
   ]
  },
  {
   "cell_type": "code",
   "execution_count": 793,
   "metadata": {},
   "outputs": [
    {
     "name": "stdout",
     "output_type": "stream",
     "text": [
      "imgs:\n",
      "    <class 'torch.Tensor'>\n",
      "    torch.Size([16, 1, 28, 28])\n",
      "    torch.float32\n",
      "min = -1.0, max = 1.0\n",
      "\n",
      "cls:\n",
      "    tensor([1, 1, 2, 2, 5, 2, 1, 0, 7, 9, 2, 2, 8, 8, 7, 2])\n",
      "    <class 'torch.Tensor'>\n",
      "    torch.Size([16])\n",
      "    torch.int64\n"
     ]
    }
   ],
   "source": [
    "imgs, cls = next(iter(train_loader))\n",
    "\n",
    "print('imgs:')\n",
    "print(f'    {type(imgs)}')\n",
    "print(f'    {imgs.shape}')\n",
    "print(f'    {imgs.dtype}')\n",
    "print(f'min = {imgs.min()}, max = {imgs.max()}')\n",
    "\n",
    "print()\n",
    "\n",
    "print('cls:')\n",
    "print(f'    {cls}')\n",
    "print(f'    {type(cls)}')\n",
    "print(f'    {cls.shape}')\n",
    "print(f'    {cls.dtype}')"
   ]
  },
  {
   "cell_type": "markdown",
   "metadata": {},
   "source": [
    "## Использование класса ImageFolder"
   ]
  },
  {
   "cell_type": "code",
   "execution_count": 801,
   "metadata": {},
   "outputs": [],
   "source": [
    "transform_v2 = transforms.Compose(\n",
    "    [\n",
    "        v2.ToImage(),\n",
    "        v2.Grayscale(),\n",
    "        v2.ToDtype(torch.float32, scale=True),\n",
    "        v2.Normalize(mean=(0.5, ), std=(0.5, ))\n",
    "    ]\n",
    ")"
   ]
  },
  {
   "cell_type": "code",
   "execution_count": 802,
   "metadata": {},
   "outputs": [],
   "source": [
    "train_data = MNISTDataset(r'data\\mnist\\training', transform=transform)\n",
    "test_data = MNISTDataset(r'data\\mnist\\testing', transform=transform)"
   ]
  },
  {
   "cell_type": "code",
   "execution_count": 803,
   "metadata": {},
   "outputs": [
    {
     "name": "stdout",
     "output_type": "stream",
     "text": [
      "imgs:\n",
      "    <class 'torch.Tensor'>\n",
      "    torch.Size([1, 28, 28])\n",
      "    torch.float32\n",
      "min = -1.0, max = 1.0\n",
      "\n",
      "cls:\n",
      "    0\n"
     ]
    }
   ],
   "source": [
    "img, cls = test_data[2]\n",
    "\n",
    "print('imgs:')\n",
    "print(f'    {type(img)}')\n",
    "print(f'    {img.shape}')\n",
    "print(f'    {img.dtype}')\n",
    "print(f'min = {img.min()}, max = {img.max()}')\n",
    "\n",
    "print()\n",
    "\n",
    "print('cls:')\n",
    "print(f'    {cls}')"
   ]
  },
  {
   "cell_type": "code",
   "execution_count": 804,
   "metadata": {},
   "outputs": [
    {
     "name": "stdout",
     "output_type": "stream",
     "text": [
      "Длина тренировочных данных: 48000\n",
      "Длина валидационных данных: 12000\n",
      "Длина тестовых данных:      10000\n"
     ]
    }
   ],
   "source": [
    "# Разбиваем на тренировочный и валидационный датасеты\n",
    "\n",
    "train_data, val_data = random_split(train_data, [0.8, 0.2])\n",
    "\n",
    "print(f'Длина тренировочных данных: {len(train_data)}')\n",
    "print(f'Длина валидационных данных: {len(val_data)}')\n",
    "print(f'Длина тестовых данных:      {len(test_data)}')"
   ]
  },
  {
   "cell_type": "code",
   "execution_count": 805,
   "metadata": {},
   "outputs": [],
   "source": [
    "# Разбиваем данные на батчи\n",
    "\n",
    "train_loader = DataLoader(train_data, batch_size=16, shuffle=True) # всегда данные перемешиваем, чтобы нейронная сеть не заучила данные\n",
    "val_loader = DataLoader(val_data, batch_size=16, shuffle=False)\n",
    "test_loader = DataLoader(test_data, batch_size=16, shuffle=False)"
   ]
  },
  {
   "cell_type": "code",
   "execution_count": 806,
   "metadata": {},
   "outputs": [
    {
     "name": "stdout",
     "output_type": "stream",
     "text": [
      "imgs:\n",
      "    <class 'torch.Tensor'>\n",
      "    torch.Size([16, 1, 28, 28])\n",
      "    torch.float32\n",
      "min = -1.0, max = 1.0\n",
      "\n",
      "cls:\n",
      "    tensor([0, 7, 8, 3, 3, 1, 2, 2, 6, 1, 6, 2, 8, 8, 7, 1])\n",
      "    <class 'torch.Tensor'>\n",
      "    torch.Size([16])\n",
      "    torch.int64\n"
     ]
    }
   ],
   "source": [
    "imgs, cls = next(iter(train_loader))\n",
    "\n",
    "print('imgs:')\n",
    "print(f'    {type(imgs)}')\n",
    "print(f'    {imgs.shape}')\n",
    "print(f'    {imgs.dtype}')\n",
    "print(f'min = {imgs.min()}, max = {imgs.max()}')\n",
    "\n",
    "print()\n",
    "\n",
    "print('cls:')\n",
    "print(f'    {cls}')\n",
    "print(f'    {type(cls)}')\n",
    "print(f'    {cls.shape}')\n",
    "print(f'    {cls.dtype}')"
   ]
  },
  {
   "cell_type": "markdown",
   "metadata": {},
   "source": [
    "## Трансформация данных для задачи регрессии"
   ]
  },
  {
   "cell_type": "code",
   "execution_count": null,
   "metadata": {},
   "outputs": [],
   "source": []
  },
  {
   "cell_type": "markdown",
   "metadata": {},
   "source": [
    "# 2.4 Функции потерь. Функции активации. Оптимизаторы ГС."
   ]
  },
  {
   "cell_type": "code",
   "execution_count": null,
   "metadata": {},
   "outputs": [],
   "source": [
    "# Функции активации\n",
    "\n",
    "# Функция активации - нелинейный переход между слоями нейронной сети.\n",
    "\n",
    "# Функции активации лежат в модуле библиотеки PyTorch torch.nn\n",
    "\n",
    "# ReLU - применяется при глубоком обучении.\n",
    "# Sigmoid - применяется в рекуррентных НС и в задачах классификации.\n",
    "# Tanh - применяется в рекуррентных НС.\n",
    "# Softmax - применяется после последнего слоя НС и в НС с архитектурой трансформер."
   ]
  },
  {
   "cell_type": "code",
   "execution_count": null,
   "metadata": {},
   "outputs": [],
   "source": [
    "# Функции потерь применяются при задаче регрессии:\n",
    "# MSELoss\n",
    "# L1Loss\n",
    "\n",
    "# MSE (Среднеквадратическая ошибка) — это наиболее часто используемая функция потерь регрессии, \n",
    "# она представляет собой сумму квадратов разностей между нашей целевой переменной и прогнозируемым значением.\n",
    "\n",
    "# Функции потерь применяются при задаче классификации:\n",
    "# BCELoss\n",
    "# CrossEntropyLoss"
   ]
  },
  {
   "cell_type": "code",
   "execution_count": 6,
   "metadata": {},
   "outputs": [],
   "source": [
    "# Функция потерь лежит в модуле библиотеки PyTorch torch.nn\n",
    "\n",
    "# Метрика - критерий для оценки качества модели.\n",
    "\n",
    "# Оптимизаторы градиентного спуска:\n",
    "# Adam\n",
    "# SGD\n",
    "# RMSprop\n",
    "\n",
    "# Оптимизаторы градиентного спуска лежат в модуле библиотеки PyTorch torch.optim"
   ]
  },
  {
   "cell_type": "markdown",
   "metadata": {},
   "source": [
    "# 2.5 Классы для создания нейронных сетей."
   ]
  },
  {
   "cell_type": "code",
   "execution_count": 9,
   "metadata": {},
   "outputs": [],
   "source": [
    "# import torch\n",
    "# import torchvision\n",
    "# import torch.nn as tn\n",
    "# import matplotlib.pyplot as plt\n",
    "# import torchvision.transforms as tt\n",
    "# import torch.utils as utils"
   ]
  },
  {
   "cell_type": "code",
   "execution_count": 10,
   "metadata": {},
   "outputs": [],
   "source": [
    "# train_data = torchvision.datasets.MNIST('./content',download=True) \n",
    "# test_data = torchvision.datasets.MNIST('./content',train=False) \n",
    "# print(train_data) \n",
    "# print(test_data)"
   ]
  },
  {
   "cell_type": "code",
   "execution_count": null,
   "metadata": {},
   "outputs": [],
   "source": []
  }
 ],
 "metadata": {
  "kernelspec": {
   "display_name": "base",
   "language": "python",
   "name": "python3"
  },
  "language_info": {
   "codemirror_mode": {
    "name": "ipython",
    "version": 3
   },
   "file_extension": ".py",
   "mimetype": "text/x-python",
   "name": "python",
   "nbconvert_exporter": "python",
   "pygments_lexer": "ipython3",
   "version": "3.11.11"
  }
 },
 "nbformat": 4,
 "nbformat_minor": 2
}
