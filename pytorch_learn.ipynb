{
 "cells": [
  {
   "cell_type": "code",
   "execution_count": 66,
   "metadata": {},
   "outputs": [],
   "source": [
    "import torch\n",
    "import numpy as np"
   ]
  },
  {
   "cell_type": "markdown",
   "metadata": {},
   "source": [
    "# 1 Знакомство с Pytorch"
   ]
  },
  {
   "cell_type": "code",
   "execution_count": 67,
   "metadata": {},
   "outputs": [],
   "source": [
    "# Синтаксис PyTorch аналогичен синтаксису numpy\n",
    "\n",
    "# torch.tensor() ==> numpy.array()"
   ]
  },
  {
   "cell_type": "code",
   "execution_count": 68,
   "metadata": {},
   "outputs": [
    {
     "name": "stdout",
     "output_type": "stream",
     "text": [
      "tensor([2, 3])\n",
      "tensor([[2, 3],\n",
      "        [4, 5]], dtype=torch.int32)\n",
      "tensor([[2., 3.],\n",
      "        [4., 5.]])\n",
      "tensor([[2., 3.],\n",
      "        [4., 5.]], requires_grad=True)\n"
     ]
    }
   ],
   "source": [
    "print(torch.tensor([2, 3]))\n",
    "\n",
    "print(torch.tensor([[2, 3], [4, 5]], dtype=torch.int32))\n",
    "\n",
    "print(torch.tensor([[2, 3], [4, 5]], dtype=torch.float32))\n",
    "\n",
    "print(torch.tensor([[2, 3], [4, 5]], dtype=torch.float32, requires_grad=True))\n",
    "\n",
    "# print(torch.tensor([[2, 3], [4, 5]], dtype=torch.float32, device=torch.device('cuda:0')))\n"
   ]
  },
  {
   "cell_type": "code",
   "execution_count": 69,
   "metadata": {},
   "outputs": [
    {
     "data": {
      "text/plain": [
       "tensor([[[2., 3.],\n",
       "         [4., 5.]],\n",
       "\n",
       "        [[6., 7.],\n",
       "         [8., 9.]]], requires_grad=True)"
      ]
     },
     "metadata": {},
     "output_type": "display_data"
    },
    {
     "name": "stdout",
     "output_type": "stream",
     "text": [
      "torch.float32\n",
      "torch.Size([2, 2, 2])\n",
      "torch.Size([2, 2, 2])\n",
      "3\n",
      "tensor(2., grad_fn=<SelectBackward0>)\n",
      "<class 'torch.Tensor'>\n",
      "2.0\n",
      "<class 'float'>\n"
     ]
    }
   ],
   "source": [
    "# Свойства и методы tensor\n",
    "\n",
    "tensor = torch.tensor([[[2, 3], [4, 5]],\n",
    "                       [[6, 7], [8, 9]]], \n",
    "                       dtype=torch.float32, \n",
    "                       requires_grad=True)\n",
    "\n",
    "display(tensor)\n",
    "\n",
    "print(tensor.dtype)\n",
    "\n",
    "print(tensor.shape)\n",
    "\n",
    "print(tensor.size())\n",
    "\n",
    "print(tensor.ndim)\n",
    "\n",
    "print(tensor[0, 0, 0])\n",
    "\n",
    "print(type(tensor[0, 0, 0]))\n",
    "\n",
    "print(tensor[0, 0, 0].item())\n",
    "\n",
    "print(type(tensor[0, 0, 0].item()))"
   ]
  },
  {
   "cell_type": "code",
   "execution_count": 70,
   "metadata": {},
   "outputs": [
    {
     "name": "stdout",
     "output_type": "stream",
     "text": [
      "tensor([[[0., 0.],\n",
      "         [0., 0.],\n",
      "         [0., 0.]],\n",
      "\n",
      "        [[0., 0.],\n",
      "         [0., 0.],\n",
      "         [0., 0.]]])\n",
      "torch.float32\n",
      "tensor([[[1., 1.],\n",
      "         [1., 1.],\n",
      "         [1., 1.]],\n",
      "\n",
      "        [[1., 1.],\n",
      "         [1., 1.],\n",
      "         [1., 1.]]])\n",
      "torch.float32\n",
      "tensor([[[7, 7],\n",
      "         [7, 7],\n",
      "         [7, 7]],\n",
      "\n",
      "        [[7, 7],\n",
      "         [7, 7],\n",
      "         [7, 7]]])\n",
      "torch.int64\n"
     ]
    }
   ],
   "source": [
    "# Создание массивов разного размера\n",
    "\n",
    "tensor = torch.zeros([2, 3, 2])\n",
    "print(tensor)\n",
    "print(tensor.dtype)\n",
    "\n",
    "tensor = torch.ones([2, 3, 2])\n",
    "print(tensor)\n",
    "print(tensor.dtype)\n",
    "\n",
    "tensor = torch.full(size=[2, 3, 2], fill_value=7)\n",
    "print(tensor)\n",
    "print(tensor.dtype)"
   ]
  },
  {
   "cell_type": "code",
   "execution_count": 71,
   "metadata": {},
   "outputs": [
    {
     "name": "stdout",
     "output_type": "stream",
     "text": [
      "tensor([[0., 0., 0.],\n",
      "        [0., 0., 0.]])\n",
      "tensor([[0., 0., 0.],\n",
      "        [0., 0., 0.]])\n",
      "torch.float32\n",
      "tensor([[7., 7., 7.],\n",
      "        [7., 7., 7.]])\n",
      "torch.float32\n"
     ]
    }
   ],
   "source": [
    "tensor = torch.zeros([2, 3])\n",
    "print(tensor)\n",
    "\n",
    "\n",
    "tensor = torch.zeros_like(tensor)\n",
    "print(tensor)\n",
    "print(tensor.dtype)\n",
    "\n",
    "tensor = torch.full_like(tensor, 7)\n",
    "print(tensor)\n",
    "print(tensor.dtype)"
   ]
  },
  {
   "cell_type": "code",
   "execution_count": 72,
   "metadata": {},
   "outputs": [
    {
     "data": {
      "text/plain": [
       "tensor([2.0000, 2.5000, 3.0000, 3.5000, 4.0000, 4.5000, 5.0000, 5.5000, 6.0000,\n",
       "        6.5000, 7.0000, 7.5000, 8.0000, 8.5000, 9.0000, 9.5000])"
      ]
     },
     "execution_count": 72,
     "metadata": {},
     "output_type": "execute_result"
    }
   ],
   "source": [
    "torch.arange(2, 10, 0.5)"
   ]
  },
  {
   "cell_type": "code",
   "execution_count": 73,
   "metadata": {},
   "outputs": [
    {
     "name": "stdout",
     "output_type": "stream",
     "text": [
      "tensor([[2, 0, 0],\n",
      "        [0, 5, 0],\n",
      "        [0, 0, 7]])\n",
      "tensor([[1., 0., 0., 0., 0.],\n",
      "        [0., 1., 0., 0., 0.],\n",
      "        [0., 0., 1., 0., 0.],\n",
      "        [0., 0., 0., 1., 0.],\n",
      "        [0., 0., 0., 0., 1.]])\n",
      "tensor([[1, 0, 0],\n",
      "        [2, 3, 0],\n",
      "        [3, 4, 5]])\n"
     ]
    }
   ],
   "source": [
    "print(torch.diag(torch.tensor([2, 5, 7])))\n",
    "\n",
    "print(torch.eye(5))\n",
    "\n",
    "print(torch.tril(torch.tensor([[1, 2, 3], [2, 3, 4], [3, 4, 5]])))"
   ]
  },
  {
   "cell_type": "code",
   "execution_count": 74,
   "metadata": {},
   "outputs": [
    {
     "name": "stdout",
     "output_type": "stream",
     "text": [
      "tensor([1, 2, 3, 4])\n",
      "tensor([[1],\n",
      "        [2],\n",
      "        [3],\n",
      "        [4]])\n",
      "tensor([[1, 2],\n",
      "        [3, 4]])\n"
     ]
    }
   ],
   "source": [
    "# Изменение размера тензора\n",
    "\n",
    "tensor = torch.tensor([1, 2, 3, 4])\n",
    "print(tensor)\n",
    "\n",
    "tensor_1 = tensor.view(4, 1)\n",
    "print(tensor_1)\n",
    "\n",
    "tensor_2 = tensor.reshape([2, 2])\n",
    "print(tensor_2)"
   ]
  },
  {
   "cell_type": "code",
   "execution_count": 75,
   "metadata": {},
   "outputs": [
    {
     "name": "stdout",
     "output_type": "stream",
     "text": [
      "torch.Size([4])\n",
      "torch.Size([1, 4])\n"
     ]
    }
   ],
   "source": [
    "# Добавление осей в тензор\n",
    "\n",
    "print(tensor.shape)\n",
    "\n",
    "tensor = torch.unsqueeze(tensor, 0)\n",
    "print(tensor.shape)"
   ]
  },
  {
   "cell_type": "code",
   "execution_count": 76,
   "metadata": {},
   "outputs": [
    {
     "name": "stdout",
     "output_type": "stream",
     "text": [
      "tensor([ 5, 10, 15, 20, 25])\n",
      "tensor([ 2,  4,  6,  8, 10])\n"
     ]
    }
   ],
   "source": [
    "# Арифметические операции\n",
    "\n",
    "tensor = torch.tensor([1, 2, 3, 4, 5])\n",
    "\n",
    "print(tensor * 5)\n",
    "\n",
    "print(tensor + torch.tensor([1, 2, 3, 4, 5]))"
   ]
  },
  {
   "cell_type": "code",
   "execution_count": 77,
   "metadata": {},
   "outputs": [
    {
     "name": "stdout",
     "output_type": "stream",
     "text": [
      "tensor(21.)\n",
      "tensor(3.5000)\n",
      "tensor(3.5000)\n"
     ]
    }
   ],
   "source": [
    "# Математические функции\n",
    "\n",
    "tensor = torch.tensor([1, 2, 3, 4, 5, 6],\n",
    "                      dtype=torch.float32)\n",
    "\n",
    "print(sum(tensor))\n",
    "\n",
    "print(torch.mean(tensor))\n",
    "\n",
    "print(tensor.mean())"
   ]
  },
  {
   "cell_type": "code",
   "execution_count": 78,
   "metadata": {},
   "outputs": [
    {
     "name": "stdout",
     "output_type": "stream",
     "text": [
      "tensor([[1., 2., 3.],\n",
      "        [4., 5., 6.]])\n",
      "tensor([[2.],\n",
      "        [5.]])\n",
      "tensor([[2.5000, 3.5000, 4.5000]])\n"
     ]
    }
   ],
   "source": [
    "tensor = torch.tensor([1, 2, 3, 4, 5, 6],\n",
    "                      dtype=torch.float32)\n",
    "\n",
    "tensor = tensor.view([2, 3])\n",
    "print(tensor)\n",
    "\n",
    "tensor_mean = tensor.mean(dim=1, keepdim=True)\n",
    "print(tensor_mean)\n",
    "\n",
    "tensor_mean = tensor.mean(dim=0, keepdim=True)\n",
    "print(tensor_mean)"
   ]
  },
  {
   "cell_type": "code",
   "execution_count": 79,
   "metadata": {},
   "outputs": [
    {
     "name": "stdout",
     "output_type": "stream",
     "text": [
      "True\n",
      "False\n"
     ]
    }
   ],
   "source": [
    "# CPU и GPU\n",
    "\n",
    "print(torch.cpu.is_available())\n",
    "print(torch.cuda.is_available()) "
   ]
  },
  {
   "cell_type": "code",
   "execution_count": 80,
   "metadata": {},
   "outputs": [
    {
     "name": "stdout",
     "output_type": "stream",
     "text": [
      "cpu\n"
     ]
    }
   ],
   "source": [
    "tensor = torch.tensor([1., 2., 3.], requires_grad=True)\n",
    "\n",
    "device = 'cuda' if torch.cuda.is_available() else 'cpu'\n",
    "\n",
    "tensor = tensor.to(device)\n",
    "\n",
    "print(tensor.device)"
   ]
  },
  {
   "cell_type": "code",
   "execution_count": 81,
   "metadata": {},
   "outputs": [
    {
     "data": {
      "text/plain": [
       "torch.Size([64, 1, 28, 28])"
      ]
     },
     "execution_count": 81,
     "metadata": {},
     "output_type": "execute_result"
    }
   ],
   "source": [
    "# Добавление оси\n",
    "\n",
    "tensor = torch.zeros((64, 28, 28))\n",
    "\n",
    "new_tensor = tensor[:, None, :, :]\n",
    "\n",
    "new_tensor.shape"
   ]
  },
  {
   "cell_type": "code",
   "execution_count": 82,
   "metadata": {},
   "outputs": [
    {
     "name": "stdout",
     "output_type": "stream",
     "text": [
      "tensor([ 2,  4,  6,  8, 10, 12])\n",
      "tensor([ 2,  4,  6,  8, 10, 12])\n",
      "tensor([ 2,  4,  6,  8, 10, 12])\n"
     ]
    }
   ],
   "source": [
    "# Сложение тензоров\n",
    "\n",
    "tensor_1 = torch.tensor([1, 2, 3, 4, 5, 6])\n",
    "tensor_2 = torch.tensor([1, 2, 3, 4, 5, 6])\n",
    "\n",
    "print(tensor_1 + tensor_2)\n",
    "\n",
    "print(tensor_1.add(tensor_2))\n",
    "\n",
    "print(torch.add(tensor_1, tensor_2))"
   ]
  },
  {
   "cell_type": "code",
   "execution_count": 83,
   "metadata": {},
   "outputs": [
    {
     "name": "stdout",
     "output_type": "stream",
     "text": [
      "tensor_001.shape => torch.Size([2, 2])\n",
      "tensor([[1, 1],\n",
      "        [2, 2]])\n",
      "\n",
      "tensor_002.shape => torch.Size([2, 2])\n",
      "tensor([[3, 3],\n",
      "        [4, 4]])\n",
      "\n",
      "Объединение по нулевой оси\n",
      "tensor_cat.shape => torch.Size([4, 2])\n",
      "tensor([[1, 1],\n",
      "        [2, 2],\n",
      "        [3, 3],\n",
      "        [4, 4]])\n",
      "Объединение по первой оси\n",
      "tensor_cat.shape => torch.Size([2, 5])\n",
      "tensor([[1, 1, 1, 3, 3],\n",
      "        [2, 2, 2, 4, 4]])\n"
     ]
    }
   ],
   "source": [
    "# Конкатенация тензоров\n",
    "\n",
    "tensor_001 = torch.tensor([[1, 1], [2, 2]])\n",
    "tensor_002 = torch.tensor([[3, 3], [4, 4]])\n",
    "\n",
    "tensor_cat = torch.cat([tensor_001, tensor_002])\n",
    "\n",
    "print(f\"tensor_001.shape => {tensor_001.shape}\")\n",
    "print(tensor_001, end='\\n\\n')\n",
    "print(f\"tensor_002.shape => {tensor_002.shape}\")\n",
    "print(tensor_002, end='\\n\\n')\n",
    "\n",
    "print('Объединение по нулевой оси')\n",
    "\n",
    "print(f\"tensor_cat.shape => {tensor_cat.shape}\")\n",
    "print(tensor_cat)\n",
    "\n",
    "print('Объединение по первой оси')\n",
    "\n",
    "tensor_001 = torch.tensor([[1, 1, 1], [2, 2, 2]])\n",
    "tensor_002 = torch.tensor([[3, 3], [4, 4]])\n",
    "\n",
    "tensor_cat = torch.cat([tensor_001, tensor_002], dim=1)\n",
    "\n",
    "print(f\"tensor_cat.shape => {tensor_cat.shape}\")\n",
    "print(tensor_cat)"
   ]
  },
  {
   "cell_type": "code",
   "execution_count": 84,
   "metadata": {},
   "outputs": [
    {
     "name": "stdout",
     "output_type": "stream",
     "text": [
      "Размер тензора до изменения размера => torch.Size([2, 5])\n",
      "Размер тензора после изменения размера => torch.Size([5, 2])\n"
     ]
    }
   ],
   "source": [
    "# Изменение размера тензора\n",
    "\n",
    "tensor = torch.zeros([2, 5])\n",
    "print(f\"Размер тензора до изменения размера => {tensor.shape}\")\n",
    "\n",
    "tensor = tensor.view([-1, 2])\n",
    "print(f\"Размер тензора после изменения размера => {tensor.shape}\")\n"
   ]
  },
  {
   "cell_type": "code",
   "execution_count": 85,
   "metadata": {},
   "outputs": [
    {
     "name": "stdout",
     "output_type": "stream",
     "text": [
      "tensor([1, 0])\n",
      "tensor([1, 0])\n"
     ]
    }
   ],
   "source": [
    "# Функция argmax()\n",
    "\n",
    "tensor = torch.tensor([[2, 5],\n",
    "                      [4, 1]])\n",
    "\n",
    "print(torch.argmax(tensor, dim=1))\n",
    "\n",
    "print(tensor.argmax(dim=1))"
   ]
  },
  {
   "cell_type": "code",
   "execution_count": 86,
   "metadata": {},
   "outputs": [
    {
     "name": "stdout",
     "output_type": "stream",
     "text": [
      "tensor([[False,  True],\n",
      "        [ True,  True]])\n",
      "tensor(False)\n",
      "tensor(True)\n",
      "False\n"
     ]
    }
   ],
   "source": [
    "# Сравнение тензоров\n",
    "\n",
    "tensor_001\t=\ttorch.tensor([[1, 3], [2, 2]])\n",
    "tensor_002\t=\ttorch.tensor([[3, 3], [2, 2]])\n",
    "\n",
    "tensor_equal = tensor_001 == tensor_002\n",
    "print(tensor_equal)\n",
    "\n",
    "tensor_all = torch.all(tensor_equal)\n",
    "print(tensor_all)\n",
    "\n",
    "tensor_any = torch.any(tensor_equal)\n",
    "print(tensor_any)\n",
    "\n",
    "tensor_equal = torch.equal(tensor_001, tensor_002)\n",
    "print(tensor_equal)"
   ]
  },
  {
   "cell_type": "code",
   "execution_count": 87,
   "metadata": {},
   "outputs": [
    {
     "name": "stdout",
     "output_type": "stream",
     "text": [
      "Сравнение по нулевой оси\n",
      "tensor([[ True,  True],\n",
      "        [False, False]])\n",
      "tensor([False, False])\n",
      "\n",
      "Сравнение по первой оси\n",
      "tensor([[ True,  True],\n",
      "        [False, False]])\n",
      "tensor([ True, False])\n"
     ]
    }
   ],
   "source": [
    "# Сравнение по осям\n",
    "\n",
    "print('Сравнение по нулевой оси')\n",
    "tensor_001\t=\ttorch.tensor([[3, 3], [1, 1]])\n",
    "tensor_002\t=\ttorch.tensor([[3, 3], [2, 2]])\n",
    "\n",
    "tensor_equal = tensor_001 == tensor_002\n",
    "print(tensor_equal)\n",
    "\n",
    "tensor_all = torch.all(tensor_equal, dim=0)\n",
    "print(tensor_all)\n",
    "\n",
    "print()\n",
    "\n",
    "print('Сравнение по первой оси')\n",
    "tensor_001\t=\ttorch.tensor([[3, 3], [1, 1]])\n",
    "tensor_002\t=\ttorch.tensor([[3, 3], [2, 2]])\n",
    "\n",
    "tensor_equal = tensor_001 == tensor_002\n",
    "print(tensor_equal)\n",
    "\n",
    "tensor_all = torch.all(tensor_equal, dim=1)\n",
    "print(tensor_all)"
   ]
  },
  {
   "cell_type": "code",
   "execution_count": 88,
   "metadata": {},
   "outputs": [
    {
     "name": "stdout",
     "output_type": "stream",
     "text": [
      "tensor([[3, 3],\n",
      "        [1, 1]])\n",
      "tensor([[3, 3],\n",
      "        [2, 2]])\n",
      "\n",
      "torch.Size([2, 2])\n",
      "tensor([[ True,  True],\n",
      "        [False, False]])\n",
      "\n",
      "torch.Size([2, 1])\n",
      "tensor([[ True],\n",
      "        [False]])\n"
     ]
    }
   ],
   "source": [
    "# Если нужно сохранить размерность тензора, то можно воспользоваться аргументом keepdim со значением True.\n",
    "\n",
    "tensor_001 = torch.tensor([[3, 3], [1, 1]])\n",
    "tensor_002 = torch.tensor([[3, 3], [2, 2]])\n",
    "\n",
    "tensor_equal = tensor_001 == tensor_002\n",
    "tensor_all = torch.all(tensor_equal, dim=1, keepdim=True)\n",
    "\n",
    "print(tensor_001)\n",
    "print(tensor_002, end='\\n\\n')\n",
    "\n",
    "print(tensor_equal.shape)\n",
    "print(tensor_equal, end='\\n\\n')\n",
    "\n",
    "print(tensor_all.shape)\n",
    "print(tensor_all)\n"
   ]
  },
  {
   "cell_type": "code",
   "execution_count": 94,
   "metadata": {},
   "outputs": [
    {
     "data": {
      "text/plain": [
       "torch.Size([64, 50])"
      ]
     },
     "execution_count": 94,
     "metadata": {},
     "output_type": "execute_result"
    }
   ],
   "source": [
    "# Даны два тензора и записаны в переменные tensor_1 и tensor_2. \n",
    "# Тензор tensor_1 размером 64 на 20, тензор tensor_2 размером 64 на 30. \n",
    "# Сложите два тензора, чтобы получился тензор размером 64 на 50.\n",
    "\n",
    "# Результат запишите в переменную new_tensor.\n",
    "\n",
    "# Воспользуйтесь операцией конкатенация torch.cat().\n",
    "\n",
    "tensor_1 = torch.ones([64, 20])\n",
    "tensor_2 = torch.ones([64, 30])\n",
    "\n",
    "new_tensor = torch.cat([tensor_1, tensor_2], dim=1)\n",
    "\n",
    "new_tensor.shape\n"
   ]
  },
  {
   "cell_type": "code",
   "execution_count": null,
   "metadata": {},
   "outputs": [],
   "source": []
  }
 ],
 "metadata": {
  "kernelspec": {
   "display_name": "base",
   "language": "python",
   "name": "python3"
  },
  "language_info": {
   "codemirror_mode": {
    "name": "ipython",
    "version": 3
   },
   "file_extension": ".py",
   "mimetype": "text/x-python",
   "name": "python",
   "nbconvert_exporter": "python",
   "pygments_lexer": "ipython3",
   "version": "3.11.10"
  }
 },
 "nbformat": 4,
 "nbformat_minor": 2
}
