{
 "cells": [
  {
   "cell_type": "markdown",
   "metadata": {},
   "source": [
    "# 1.1 Классы. Атрибуты классов. Экземпляры классов."
   ]
  },
  {
   "cell_type": "code",
   "execution_count": 281,
   "metadata": {},
   "outputs": [],
   "source": [
    "# Объект в пайтон существет до тех пор, пока к ним ведет хотя бы одна ссылка"
   ]
  },
  {
   "cell_type": "code",
   "execution_count": 282,
   "metadata": {},
   "outputs": [],
   "source": [
    "class Wallet:               # объявление класса\n",
    "    type_wal = 'electron'   # атрибут\n",
    "    pass"
   ]
  },
  {
   "cell_type": "code",
   "execution_count": 283,
   "metadata": {},
   "outputs": [
    {
     "name": "stdout",
     "output_type": "stream",
     "text": [
      "<class '__main__.Wallet'>\n",
      "electron\n",
      "electron\n"
     ]
    }
   ],
   "source": [
    "print(Wallet)\n",
    "\n",
    "print(Wallet.type_wal)\n",
    "print(getattr(Wallet, 'type_wal', None))"
   ]
  },
  {
   "cell_type": "code",
   "execution_count": 284,
   "metadata": {},
   "outputs": [
    {
     "name": "stdout",
     "output_type": "stream",
     "text": [
      "<__main__.Wallet object at 0x000001315057FB90>\n"
     ]
    }
   ],
   "source": [
    "# Создание экземляра класса\n",
    "\n",
    "wal = Wallet()\n",
    "print(wal)"
   ]
  },
  {
   "cell_type": "code",
   "execution_count": 285,
   "metadata": {},
   "outputs": [
    {
     "name": "stdout",
     "output_type": "stream",
     "text": [
      "{'__module__': '__main__', 'type_wal': 'electron', '__dict__': <attribute '__dict__' of 'Wallet' objects>, '__weakref__': <attribute '__weakref__' of 'Wallet' objects>, '__doc__': None}\n",
      "{}\n"
     ]
    }
   ],
   "source": [
    "print(Wallet.__dict__)\n",
    "print(wal.__dict__)     # у экземляра класса нет атрибутов класса"
   ]
  },
  {
   "cell_type": "code",
   "execution_count": 286,
   "metadata": {},
   "outputs": [
    {
     "name": "stdout",
     "output_type": "stream",
     "text": [
      "electron\n"
     ]
    }
   ],
   "source": [
    "print(wal.type_wal) # не найдя атрибут в экземпляре, атрибут ищется на уровень выше - в классе "
   ]
  },
  {
   "cell_type": "code",
   "execution_count": 287,
   "metadata": {},
   "outputs": [
    {
     "name": "stdout",
     "output_type": "stream",
     "text": [
      "el\n",
      "electron\n"
     ]
    }
   ],
   "source": [
    "# Изменение атрибута для экземляра класса    \n",
    "\n",
    "wal.type_wal = 'el'\n",
    "\n",
    "print(wal.type_wal)\n",
    "print(Wallet.type_wal)"
   ]
  },
  {
   "cell_type": "code",
   "execution_count": 288,
   "metadata": {},
   "outputs": [
    {
     "name": "stdout",
     "output_type": "stream",
     "text": [
      "el\n",
      "elect\n"
     ]
    }
   ],
   "source": [
    "# Изменение атрибута для экземляра класса    \n",
    "\n",
    "print(wal.type_wal)\n",
    "\n",
    "setattr(wal, 'type_wal', 'elect')\n",
    "\n",
    "print(wal.type_wal)"
   ]
  },
  {
   "cell_type": "code",
   "execution_count": 289,
   "metadata": {},
   "outputs": [
    {
     "name": "stdout",
     "output_type": "stream",
     "text": [
      "100000\n"
     ]
    }
   ],
   "source": [
    "# Создание атрибута\n",
    "\n",
    "Wallet.limit = 100_000\n",
    "\n",
    "# setattr(Wallet, 'limit', 100_000)\n",
    "\n",
    "print(Wallet.limit)"
   ]
  },
  {
   "cell_type": "code",
   "execution_count": 290,
   "metadata": {},
   "outputs": [
    {
     "name": "stdout",
     "output_type": "stream",
     "text": [
      "{'type_wal': 'elect', 'test': 123}\n"
     ]
    }
   ],
   "source": [
    "wal.test = 123\n",
    "\n",
    "print(wal.__dict__)"
   ]
  },
  {
   "cell_type": "code",
   "execution_count": 291,
   "metadata": {},
   "outputs": [
    {
     "name": "stdout",
     "output_type": "stream",
     "text": [
      "{'type_wal': 'elect'}\n"
     ]
    }
   ],
   "source": [
    "# Удаление атрибута\n",
    "\n",
    "del wal.test\n",
    "\n",
    "# delattr(wal, 'test')\n",
    "\n",
    "print(wal.__dict__)"
   ]
  },
  {
   "cell_type": "code",
   "execution_count": 292,
   "metadata": {},
   "outputs": [
    {
     "name": "stdout",
     "output_type": "stream",
     "text": [
      "{'type_wal': 'elect'}\n"
     ]
    }
   ],
   "source": [
    "print(wal.__dict__)"
   ]
  },
  {
   "cell_type": "code",
   "execution_count": 293,
   "metadata": {},
   "outputs": [
    {
     "name": "stdout",
     "output_type": "stream",
     "text": [
      "True\n",
      "False\n"
     ]
    }
   ],
   "source": [
    "# Проверка на наличие атрибута\n",
    "\n",
    "print(hasattr(wal, 'type_wal'))\n",
    "\n",
    "print(hasattr(wal, 'test'))"
   ]
  },
  {
   "cell_type": "code",
   "execution_count": 294,
   "metadata": {},
   "outputs": [],
   "source": [
    "# Вам необходимо создать класс ChuckNorris и прописать в нем атрибуты со следующими значениями:\n",
    "\n",
    "# hp - 'неограниченно'\n",
    "# ability - 'испепеляющий прищур'\n",
    "\n",
    "class ChuckNorris:\n",
    "    hp = 'неограниченно'\n",
    "    ability = 'испепеляющий прищур'"
   ]
  },
  {
   "cell_type": "code",
   "execution_count": 295,
   "metadata": {},
   "outputs": [],
   "source": [
    "# Создайте список lst в котором будет находится 666 объектов класса ChuckNorris. Выводить\n",
    "# на экран список не нужно.\n",
    "\n",
    "lst = [ChuckNorris() for _ in range(666)]"
   ]
  },
  {
   "cell_type": "markdown",
   "metadata": {},
   "source": [
    "# 1.2 Атрибуты экземпляров."
   ]
  },
  {
   "cell_type": "code",
   "execution_count": 296,
   "metadata": {},
   "outputs": [
    {
     "name": "stdout",
     "output_type": "stream",
     "text": [
      "{'__module__': '__main__', 'type_wal': 'electron', '__dict__': <attribute '__dict__' of 'Wallet' objects>, '__weakref__': <attribute '__weakref__' of 'Wallet' objects>, '__doc__': None, 'limit': 100000}\n",
      "{'money': 999}\n",
      "{}\n"
     ]
    }
   ],
   "source": [
    "wal_1 = Wallet()\n",
    "wal_2 = Wallet()\n",
    "\n",
    "setattr(wal_1, 'money', 999)\n",
    "\n",
    "print(Wallet.__dict__)\n",
    "print(wal_1.__dict__)\n",
    "print(wal_2.__dict__)"
   ]
  },
  {
   "cell_type": "code",
   "execution_count": 297,
   "metadata": {},
   "outputs": [],
   "source": [
    "delattr(wal_1, 'money')"
   ]
  },
  {
   "cell_type": "code",
   "execution_count": 298,
   "metadata": {},
   "outputs": [
    {
     "name": "stdout",
     "output_type": "stream",
     "text": [
      "500\n",
      "1000\n",
      "500\n"
     ]
    }
   ],
   "source": [
    "Wallet.money = 500\n",
    "print(wal_1.money)\n",
    "\n",
    "wal_1.money = 1000\n",
    "print(wal_1.money)\n",
    "print(Wallet.money)"
   ]
  },
  {
   "cell_type": "code",
   "execution_count": 299,
   "metadata": {},
   "outputs": [
    {
     "name": "stdout",
     "output_type": "stream",
     "text": [
      "True True False True True False True True False\n"
     ]
    }
   ],
   "source": [
    "# ам дан класс без атрибутов TumbaUmba. Вам необходимо создать функцию func, которая принимает целое число и должна вернуть список. \n",
    "# В котором будут экземпляры класса. Общее количество должно соответствовать значению аргумента функции. \n",
    "# 2/3 объектов в списке должны иметь атрибут warrior = True, остальная треть warrior = False. \n",
    "# Атрибуты объектов формируются по принципу первые 2 - warrior = True, третий объект - warrior = False и так далее. \n",
    "\n",
    "class TumbaUmba:\n",
    "    indentation = 'Тумба-Юмба'  \n",
    "\n",
    "def func(n):\n",
    "    arr = [TumbaUmba() for i in range(n)]\n",
    "    for i in range(len(arr)):\n",
    "        if (i + 1) % 3 == 0:\n",
    "            arr[i].warrior = False\n",
    "        else:\n",
    "            arr[i].warrior = True\n",
    "    return arr\n",
    "\n",
    "print(*map(lambda x: x.warrior, func(9)))"
   ]
  },
  {
   "cell_type": "code",
   "execution_count": 300,
   "metadata": {},
   "outputs": [
    {
     "name": "stdout",
     "output_type": "stream",
     "text": [
      "{'warrior': True}\n",
      "{'warrior': True}\n",
      "{'warrior': False}\n",
      "{'warrior': True}\n",
      "{'warrior': True}\n",
      "{'warrior': False}\n",
      "{'warrior': True}\n",
      "{'warrior': True}\n",
      "{'warrior': False}\n"
     ]
    }
   ],
   "source": [
    "class TumbaUmba:\n",
    "    indentation = 'Тумба-Юмба'  \n",
    "\n",
    "def func(n):\n",
    "    arr = [TumbaUmba() for i in range(n)]\n",
    "    for i in range(len(arr)):\n",
    "        if (i + 1) % 3 == 0:\n",
    "            arr[i].warrior = False\n",
    "        else:\n",
    "            arr[i].warrior = True\n",
    "    return arr\n",
    "\n",
    "arr = list(map(lambda x: x, func(9)))\n",
    "\n",
    "for item in arr:\n",
    "    print(item.__dict__)"
   ]
  },
  {
   "cell_type": "code",
   "execution_count": 301,
   "metadata": {},
   "outputs": [
    {
     "name": "stdout",
     "output_type": "stream",
     "text": [
      "True True False True True False True True False\n"
     ]
    }
   ],
   "source": [
    "class TumbaUmba:\n",
    "    indentation = 'Тумба-Юмба'  \n",
    "    def __init__(self, warrior):\n",
    "        self.warrior = bool(warrior)\n",
    "\n",
    "def func(n):\n",
    "    return [TumbaUmba(n % 3) for n in range(1, n + 1)]\n",
    "\n",
    "print(*map(lambda x: x.warrior, func(9)))"
   ]
  },
  {
   "cell_type": "code",
   "execution_count": 302,
   "metadata": {},
   "outputs": [
    {
     "name": "stdout",
     "output_type": "stream",
     "text": [
      "True True False True True False True True False\n"
     ]
    }
   ],
   "source": [
    "class TumbaUmba:\n",
    "    indentation = 'Тумба-Юмба'  \n",
    "\n",
    "def func(n):\n",
    "    is_warriors = [True, True, False]\n",
    "    arr = []\n",
    "    \n",
    "    for x in range(n):\n",
    "        person = TumbaUmba()\n",
    "        person.warrior = is_warriors[x % 3]\n",
    "        arr.append(person)\n",
    "    return arr\n",
    "\n",
    "print(*map(lambda x: x.warrior, func(9)))"
   ]
  },
  {
   "cell_type": "code",
   "execution_count": 303,
   "metadata": {},
   "outputs": [
    {
     "name": "stdout",
     "output_type": "stream",
     "text": [
      "{'__module__': '__main__', 'atr1': 1, 'atr2': 2, '__dict__': <attribute '__dict__' of 'Alphabet' objects>, '__weakref__': <attribute '__weakref__' of 'Alphabet' objects>, '__doc__': None}\n",
      "\n",
      "{'atr1': 2, 'atr2': 2, 'atr3': 3}\n",
      "\n",
      "{'atr3': 3}\n"
     ]
    }
   ],
   "source": [
    "# Вам дан экземпляр класса Alphabet. Он находится в переменной x. \n",
    "# Класс и экземпляр имеют свои собственные атрибуты. Некоторые атрибуты могут пересекаться, т.е. быть одноименными. \n",
    "# Ваша задача оставить в экземпляре только те атрибуты, которые не присутствуют в классе.\n",
    "\n",
    "class Alphabet():\n",
    "    atr1 = 1\n",
    "    atr2 = 2\n",
    "\n",
    "x = Alphabet()\n",
    "\n",
    "x.atr1 = 2\n",
    "x.atr2 = 2\n",
    "x.atr3 = 3\n",
    "\n",
    "print(Alphabet.__dict__)\n",
    "print()\n",
    "print(x.__dict__)\n",
    "print()\n",
    "\n",
    "for i in Alphabet.__dict__:\n",
    "    if i in x.__dict__:\n",
    "        delattr(x, i)\n",
    "\n",
    "print(x.__dict__)"
   ]
  },
  {
   "cell_type": "code",
   "execution_count": 304,
   "metadata": {},
   "outputs": [
    {
     "name": "stdout",
     "output_type": "stream",
     "text": [
      "{'money': 5000, 'name': 'Unknown'}\n"
     ]
    }
   ],
   "source": [
    "# 1.3 Инициализатор экземпляров.\n",
    "\n",
    "\n",
    "# Метод __init__ вызывается при создании экземляра класса и запускает некую логику\n",
    "# self - ссылка на атрибут\n",
    "\n",
    "class Wallet:\n",
    "    type_wal = 'electron'\n",
    "    limit = 100000\n",
    "\n",
    "    def __init__(self, money, name='Unknown'):\n",
    "        self.money = money\n",
    "        self.name = name\n",
    "\n",
    "\n",
    "wal_1 = Wallet(5000)\n",
    "print(wal_1.__dict__)"
   ]
  },
  {
   "cell_type": "code",
   "execution_count": 305,
   "metadata": {},
   "outputs": [
    {
     "name": "stdout",
     "output_type": "stream",
     "text": [
      "Я родился!\n"
     ]
    }
   ],
   "source": [
    "class Wallet:\n",
    "    type_wal = 'electron'\n",
    "    limit = 100000\n",
    "\n",
    "    def __init__(self, money): # убрали возможность переопределения атрибута name\n",
    "        self.money = money\n",
    "        self.name = 'Unknown'  # жестко задали значение атрибута, без возможности изменения значения\n",
    "        print('Я родился!')\n",
    "\n",
    "\n",
    "wal_1 = Wallet(5000)"
   ]
  },
  {
   "cell_type": "code",
   "execution_count": 306,
   "metadata": {},
   "outputs": [],
   "source": [
    "# Метод __del__ вызывается при уничтожении экземляра класса (при отсутсвии дальнейших ссылок на этот экземмпляр)\n",
    "\n",
    "class Wallet:\n",
    "    type_wal = 'electron'\n",
    "    limit = 100000\n",
    "\n",
    "    def __init__(self, money):\n",
    "        self.money = money\n",
    "        self.name = 'Unknown'\n",
    "\n",
    "    def __del__(self):\n",
    "        print('я сейчас пропаду!!!')\n",
    "\n",
    "\n",
    "wal_1 = Wallet(5000)"
   ]
  },
  {
   "cell_type": "code",
   "execution_count": 307,
   "metadata": {},
   "outputs": [
    {
     "name": "stdout",
     "output_type": "stream",
     "text": [
      "a b c d e f g h i j k l m n o p q r s t u v w x y z "
     ]
    }
   ],
   "source": [
    "# Вам нужно создать класс кнопки Button, инициализатор класса принимает строку(латинская буква нижнего регистра). \n",
    "# Эта буква сохраняется в атрибуте letter. Затем нужно в список lst поместить экземпляры класса. \n",
    "# В первом экземпляре атрибут будет равен 'a', во втором - 'b' и т.д. \n",
    "# Соответственно количество экземпляров класса соответствует количеству букв в алфавите.\n",
    "\n",
    "from string import ascii_lowercase\n",
    "\n",
    "class Button:\n",
    "    def __init__(self, letter):\n",
    "        self.letter = letter\n",
    "\n",
    "\n",
    "lst = [Button(s) for s in ascii_lowercase]\n",
    "\n",
    "for item in lst:\n",
    "    print(item.letter, end=' ')"
   ]
  },
  {
   "cell_type": "code",
   "execution_count": 308,
   "metadata": {},
   "outputs": [
    {
     "name": "stdout",
     "output_type": "stream",
     "text": [
      "a b c d e f g h i j k l m n o p q r s t u v w x y z "
     ]
    }
   ],
   "source": [
    "class Button:\n",
    "    def __init__(self, l):\n",
    "        self.letter = l\n",
    "    \n",
    "lst = [*map(Button, ascii_lowercase)]\n",
    "\n",
    "for item in lst:\n",
    "    print(item.letter, end=' ')"
   ]
  },
  {
   "cell_type": "code",
   "execution_count": 309,
   "metadata": {},
   "outputs": [
    {
     "name": "stdout",
     "output_type": "stream",
     "text": [
      "{'sock': 'левый'}\n",
      "{'sock': 'правый'}\n",
      "{'sock': 'левый'}\n",
      "{'sock': 'правый'}\n",
      "{'sock': 'левый'}\n",
      "{'sock': 'правый'}\n",
      "{'sock': 'левый'}\n",
      "{'sock': 'правый'}\n",
      "{'sock': 'левый'}\n",
      "{'sock': 'правый'}\n"
     ]
    }
   ],
   "source": [
    "# Вам необходимо создать класс носков Socks. \n",
    "# Необходимо при помощи инициализатора придумать механизм, \n",
    "# при котором при вызове экземпляра класса в нем прописывался атрибут sock со значением 'левый', \n",
    "# если создать еще один экземпляр, то его атрибут будет равен строке 'правый'. \n",
    "# И так попеременно, в независимости от количества экземпляров. \n",
    "# При создании экземпляра аргументы не прокидываются.\n",
    "\n",
    "class Socks:\n",
    "    def __init__(self):\n",
    "        self.sock = ('левый', 'правый')[i % 2]\n",
    "\n",
    "for i in range(10):\n",
    "    (x := Socks()), print(x.__dict__)"
   ]
  },
  {
   "cell_type": "code",
   "execution_count": 310,
   "metadata": {},
   "outputs": [
    {
     "name": "stdout",
     "output_type": "stream",
     "text": [
      "{'sock': 'левый'}\n",
      "{'sock': 'правый'}\n",
      "{'sock': 'левый'}\n",
      "{'sock': 'правый'}\n",
      "{'sock': 'левый'}\n",
      "{'sock': 'правый'}\n",
      "{'sock': 'левый'}\n",
      "{'sock': 'правый'}\n",
      "{'sock': 'левый'}\n",
      "{'sock': 'правый'}\n"
     ]
    }
   ],
   "source": [
    "class Socks:\n",
    "    cnt = 0\n",
    "\n",
    "    def __init__(self):\n",
    "        self.sock = ('левый', 'правый')[Socks.cnt % 2]\n",
    "        Socks.cnt += 1\n",
    "\n",
    "for i in range(10):\n",
    "    (x := Socks()), print(x.__dict__)"
   ]
  },
  {
   "cell_type": "code",
   "execution_count": 311,
   "metadata": {},
   "outputs": [
    {
     "name": "stdout",
     "output_type": "stream",
     "text": [
      "{'sock': 'левый'}\n",
      "{'sock': 'правый'}\n",
      "{'sock': 'левый'}\n",
      "{'sock': 'правый'}\n",
      "{'sock': 'левый'}\n",
      "{'sock': 'правый'}\n",
      "{'sock': 'левый'}\n",
      "{'sock': 'правый'}\n",
      "{'sock': 'левый'}\n",
      "{'sock': 'правый'}\n"
     ]
    }
   ],
   "source": [
    "from itertools import cycle\n",
    "\n",
    "class Socks:\n",
    "    foot = cycle(('левый', 'правый'))\n",
    "\n",
    "    def __init__(self):\n",
    "        self.sock = next(self.__class__.foot)\n",
    "\n",
    "for i in range(10):\n",
    "    (x := Socks()), print(x.__dict__)"
   ]
  },
  {
   "cell_type": "code",
   "execution_count": 312,
   "metadata": {},
   "outputs": [
    {
     "name": "stdout",
     "output_type": "stream",
     "text": [
      "{'blue': 'трактор', 'red': 'моська', 'ginger': 'бицепс'}\n",
      "{'garry': 'поттер', 'nikolai': 'Должанский', 'jora': 'цитрусовый'}\n",
      "{'noso': 'пырка', 'holodnii': 'ободок', 'korolevskii': 'сундук с сельдереем'}\n"
     ]
    }
   ],
   "source": [
    "# Вам необходимо создать класс Test, инициализатор класса принимает неограниченное количество именованных аргументов. \n",
    "# Необходимо чтобы вновь созданный экземпляр создавал свои атрибуты по принципу: \n",
    "# ключ аргумента - название атрибута, значение аргумента - значение атрибута.\n",
    "\n",
    "class Test:\n",
    "    def __init__(self, **kwargs):\n",
    "        for k,v in kwargs.items():\n",
    "            setattr(self, k, v)\n",
    "\n",
    "x = Test(blue='трактор', red='моська', ginger='бицепс')\n",
    "y = Test(garry='поттер', nikolai='Должанский', jora='цитрусовый')\n",
    "z = Test(noso='пырка', holodnii='ободок', korolevskii='сундук с сельдереем')\n",
    "print(x.__dict__, y.__dict__, z.__dict__, sep='\\n')"
   ]
  },
  {
   "cell_type": "code",
   "execution_count": 313,
   "metadata": {},
   "outputs": [
    {
     "name": "stdout",
     "output_type": "stream",
     "text": [
      "{'blue': 'трактор', 'red': 'моська', 'ginger': 'бицепс'}\n",
      "{'garry': 'поттер', 'nikolai': 'Должанский', 'jora': 'цитрусовый'}\n",
      "{'noso': 'пырка', 'holodnii': 'ободок', 'korolevskii': 'сундук с сельдереем'}\n"
     ]
    }
   ],
   "source": [
    "class Test:\n",
    "    def __init__(self, **kwargs):\n",
    "        self.__dict__.update(kwargs)\n",
    "\n",
    "x = Test(blue='трактор', red='моська', ginger='бицепс')\n",
    "y = Test(garry='поттер', nikolai='Должанский', jora='цитрусовый')\n",
    "z = Test(noso='пырка', holodnii='ободок', korolevskii='сундук с сельдереем')\n",
    "print(x.__dict__, y.__dict__, z.__dict__, sep='\\n')"
   ]
  },
  {
   "cell_type": "code",
   "execution_count": 314,
   "metadata": {},
   "outputs": [
    {
     "name": "stdout",
     "output_type": "stream",
     "text": [
      "{'ярость': 7, 'депрессия': 4, 'выпуклость': 7}\n",
      "{'ярость': 3, 'депрессия': 3, 'выпуклость': 7}\n"
     ]
    }
   ],
   "source": [
    "# Нам необходимо создать класс Human. Экземпляр класса при создании принимает в себя словарь. \n",
    "# Словарь представляет собой набор особенностей конкретного человека, ключами данного словаря является строка(особенность), \n",
    "# значение - целое число (от 1-го до 10-ти включительно), это своего рода шкала выраженности особенности. \n",
    "# Далее необходимо создать функцию func, которая принимает экземпляр класса. \n",
    "# Суть этой функции проверить есть ли в словаре данного экземпляра следующие особенности - (\"ярость\", \"депрессия\", \"безумие\"). \n",
    "# Если есть хотя бы одна из этих особенностей и ее значение превышает 3, то это значение необходимо опустить до 3, иначе ничего не делать. \n",
    "\n",
    "class Human:\n",
    "    def __init__(self, args):\n",
    "        self.atr = args\n",
    "\n",
    "def func(x):\n",
    "    d = {}\n",
    "    for k, v in x.atr.items():\n",
    "        d[k] = v\n",
    "        if k in (\"ярость\", \"депрессия\", \"безумие\") and v > 3:\n",
    "            d[k] = 3\n",
    "    x.atr = d\n",
    "            \n",
    "\n",
    "x = Human({'ярость': 7, 'депрессия': 4, 'выпуклость': 7})\n",
    "\n",
    "print(*x.__dict__.values())\n",
    "func(x)\n",
    "print(*x.__dict__.values())"
   ]
  },
  {
   "cell_type": "code",
   "execution_count": 315,
   "metadata": {},
   "outputs": [
    {
     "name": "stdout",
     "output_type": "stream",
     "text": [
      "{'ярость': 7, 'депрессия': 4, 'выпуклость': 7}\n",
      "{'ярость': 3, 'депрессия': 3, 'выпуклость': 7}\n"
     ]
    }
   ],
   "source": [
    "class Human:\n",
    "    def __init__(self, atr: dict):\n",
    "        self.atr = atr\n",
    "\n",
    "def func(x: Human):\n",
    "    for key in (\"ярость\", \"депрессия\", \"безумие\"):\n",
    "        if x.atr.get(key, 0) > 3:\n",
    "            x.atr[key] = 3\n",
    "\n",
    "x = Human({'ярость': 7, 'депрессия': 4, 'выпуклость': 7})\n",
    "\n",
    "print(*x.__dict__.values())\n",
    "func(x)\n",
    "print(*x.__dict__.values())"
   ]
  },
  {
   "cell_type": "code",
   "execution_count": 316,
   "metadata": {},
   "outputs": [
    {
     "name": "stdout",
     "output_type": "stream",
     "text": [
      "{'atr': 'пурпурный'}\n",
      "{'atr': 'не пурпурный'}\n",
      "{'atr': 'пурпурный'}\n",
      "{'atr': 'не пурпурный'}\n",
      "{'atr': 'не пурпурный'}\n",
      "{'atr': 'пурпурный'}\n",
      "{'atr': 'не пурпурный'}\n"
     ]
    }
   ],
   "source": [
    "# Ваша задача написать класс Test. Экземпляр класса принимает строку в атрибут atr. \n",
    "# Этот атрибут ожидает строку \"пурпурный\", если это так - он принимает значение. \n",
    "# Также он может принять это значение если строка похожа на это слово. Критерии схожести:\n",
    "\n",
    "#  - длина строки и набор букв идентичный\n",
    "#  - для получения слова \"пурпурный\" нужно перетасовать только одну пару букв.\n",
    "\n",
    "# Иначе атрибут atr принимает значение \"не пурпурный\". Нужно только объявить класс.\n",
    "\n",
    "class Test:\n",
    "\n",
    "    def __init__(self, atr):\n",
    "        if atr == 'пурпурный':\n",
    "             self.atr = atr\n",
    "        elif len(atr) == len('пурпурный') and set(atr) == set('пурпурный') and sum(a != b for a, b in zip(atr, 'пурпурный')) == 2:\n",
    "            self.atr = 'пурпурный'\n",
    "        else:\n",
    "            self.atr = 'не пурпурный'\n",
    "\n",
    "print(Test('пурпурный').__dict__)\n",
    "print(Test('пурпурныи').__dict__)\n",
    "print(Test('пурпурынй').__dict__)\n",
    "print(Test('ппрпурный').__dict__)\n",
    "print(Test('прупруный').__dict__)\n",
    "print(Test('йурпурнып').__dict__)\n",
    "print(Test('пурпурныйй').__dict__)"
   ]
  },
  {
   "cell_type": "code",
   "execution_count": 317,
   "metadata": {},
   "outputs": [
    {
     "name": "stdout",
     "output_type": "stream",
     "text": [
      "{'atr': 'пурпурный'}\n",
      "{'atr': 'не пурпурный'}\n",
      "{'atr': 'пурпурный'}\n",
      "{'atr': 'не пурпурный'}\n",
      "{'atr': 'не пурпурный'}\n",
      "{'atr': 'пурпурный'}\n",
      "{'atr': 'не пурпурный'}\n"
     ]
    }
   ],
   "source": [
    "class Test:\n",
    "    purple = 'пурпурный'\n",
    "\n",
    "    def __init__(self, atr: str):\n",
    "        self.atr = atr\n",
    "\n",
    "    def __setattr__(self, key: str, value: str):\n",
    "        val = self.purple\n",
    "        if sorted(self.purple) != sorted(value) or sum(a != b for a, b in zip(self.purple, value)) > 2:\n",
    "            val = f'не {val}'\n",
    "        super().__setattr__(key, val)\n",
    "\n",
    "print(Test('пурпурный').__dict__)\n",
    "print(Test('пурпурныи').__dict__)\n",
    "print(Test('пурпурынй').__dict__)\n",
    "print(Test('ппрпурный').__dict__)\n",
    "print(Test('прупруный').__dict__)\n",
    "print(Test('йурпурнып').__dict__)\n",
    "print(Test('пурпурныйй').__dict__)"
   ]
  },
  {
   "cell_type": "markdown",
   "metadata": {},
   "source": [
    "# 1.4 Методы классов."
   ]
  },
  {
   "cell_type": "code",
   "execution_count": 318,
   "metadata": {},
   "outputs": [],
   "source": [
    "class Wallet:\n",
    "\n",
    "    x = 0\n",
    "\n",
    "    def __init__(self, money: int) -> None:\n",
    "        self.money = money\n",
    "\n",
    "    def get_balance(self):\n",
    "        return self.money\n",
    "    \n",
    "    def set_balance(self, money: int) -> None:\n",
    "        self.money = money"
   ]
  },
  {
   "cell_type": "code",
   "execution_count": 319,
   "metadata": {},
   "outputs": [
    {
     "data": {
      "text/plain": [
       "1000"
      ]
     },
     "execution_count": 319,
     "metadata": {},
     "output_type": "execute_result"
    }
   ],
   "source": [
    "wal = Wallet(1000)\n",
    "wal.get_balance()"
   ]
  },
  {
   "cell_type": "code",
   "execution_count": 320,
   "metadata": {},
   "outputs": [
    {
     "data": {
      "text/plain": [
       "<__main__.Wallet at 0x131504ab2d0>"
      ]
     },
     "execution_count": 320,
     "metadata": {},
     "output_type": "execute_result"
    }
   ],
   "source": [
    "wal.set_balance(500)\n",
    "wal"
   ]
  },
  {
   "cell_type": "code",
   "execution_count": 321,
   "metadata": {},
   "outputs": [
    {
     "data": {
      "text/plain": [
       "mappingproxy({'__module__': '__main__',\n",
       "              'x': 0,\n",
       "              '__init__': <function __main__.Wallet.__init__(self, money: int) -> None>,\n",
       "              'get_balance': <function __main__.Wallet.get_balance(self)>,\n",
       "              'set_balance': <function __main__.Wallet.set_balance(self, money: int) -> None>,\n",
       "              '__dict__': <attribute '__dict__' of 'Wallet' objects>,\n",
       "              '__weakref__': <attribute '__weakref__' of 'Wallet' objects>,\n",
       "              '__doc__': None})"
      ]
     },
     "execution_count": 321,
     "metadata": {},
     "output_type": "execute_result"
    }
   ],
   "source": [
    "Wallet.__dict__"
   ]
  },
  {
   "cell_type": "code",
   "execution_count": 322,
   "metadata": {},
   "outputs": [
    {
     "name": "stdout",
     "output_type": "stream",
     "text": [
      "1000\n"
     ]
    }
   ],
   "source": [
    "wal = Wallet(1000)\n",
    "print(Wallet.get_balance(wal))"
   ]
  },
  {
   "cell_type": "code",
   "execution_count": 323,
   "metadata": {},
   "outputs": [],
   "source": [
    "# Задача: переложить деньги с одного кошелька в другой кошелек\n",
    "\n",
    "class Wallet:\n",
    "    def __init__(self, money: int, name: str = 'Uknown') -> None:\n",
    "        self.money = money\n",
    "        self.name = name\n",
    "\n",
    "    def get_balance(self) -> int:\n",
    "        return self.money\n",
    "\n",
    "    def set_balance(self, money: int) -> None:\n",
    "        self.money = money\n",
    "\n",
    "    def up_balance(self, money: int) -> None:\n",
    "        try:\n",
    "            self.money += money\n",
    "        except TypeError:\n",
    "            print('Операция невозможна')\n",
    "\n",
    "    def debit(self, money: int) -> None | int:\n",
    "        if self.money - money < 0:\n",
    "            print('Недостаточно средств')\n",
    "        else:\n",
    "            self.money -= money\n",
    "            return money"
   ]
  },
  {
   "cell_type": "code",
   "execution_count": 324,
   "metadata": {},
   "outputs": [
    {
     "name": "stdout",
     "output_type": "stream",
     "text": [
      "я сейчас пропаду!!!\n",
      "{'money': 1500, 'name': 'Рик'} {'money': 500, 'name': 'Морти'}\n"
     ]
    }
   ],
   "source": [
    "wal_1 = Wallet(1000, 'Рик')\n",
    "wal_2 = Wallet(1000, 'Морти')\n",
    "\n",
    "wal_1.up_balance(wal_2.debit(500))\n",
    "print(wal_1.__dict__, wal_2.__dict__)"
   ]
  },
  {
   "cell_type": "code",
   "execution_count": 325,
   "metadata": {},
   "outputs": [
    {
     "name": "stdout",
     "output_type": "stream",
     "text": [
      "{'money': 2000, 'name': 'Рик'} {'money': 0, 'name': 'Морти'}\n"
     ]
    }
   ],
   "source": [
    "wal_1.up_balance(wal_2.debit(500))\n",
    "print(wal_1.__dict__, wal_2.__dict__)"
   ]
  },
  {
   "cell_type": "code",
   "execution_count": 326,
   "metadata": {},
   "outputs": [
    {
     "name": "stdout",
     "output_type": "stream",
     "text": [
      "Недостаточно средств\n",
      "Операция невозможна\n",
      "{'money': 2000, 'name': 'Рик'} {'money': 0, 'name': 'Морти'}\n"
     ]
    }
   ],
   "source": [
    "wal_1.up_balance(wal_2.debit(500))\n",
    "print(wal_1.__dict__, wal_2.__dict__)"
   ]
  },
  {
   "cell_type": "code",
   "execution_count": 327,
   "metadata": {},
   "outputs": [],
   "source": [
    "# Вам необходимо создать класс Acne, экземпляры которого имеют атрибут status со значением 'активный'. \n",
    "# Вам нужно создать метод explosion без параметров, при вызове которого печатается строка:\n",
    "\n",
    "# 'Бегите, глупцы!'\n",
    "\n",
    "# А атрибут status меняет значение на строку 'уничтожен'.\n",
    "\n",
    "class Acne:\n",
    "    def __init__(self):\n",
    "        self.status = 'активный'\n",
    "\n",
    "    def explosion(self):\n",
    "        print('Бегите, глупцы!')\n",
    "        self.status = 'уничтожен'"
   ]
  },
  {
   "cell_type": "code",
   "execution_count": 328,
   "metadata": {},
   "outputs": [
    {
     "name": "stdout",
     "output_type": "stream",
     "text": [
      "{'status': 'активный'}\n",
      "Бегите, глупцы!\n",
      "{'status': 'уничтожен'}\n"
     ]
    }
   ],
   "source": [
    "ekz = Acne()\n",
    "print(ekz.__dict__)\n",
    "ekz.explosion()\n",
    "print(ekz.__dict__)"
   ]
  },
  {
   "cell_type": "code",
   "execution_count": 329,
   "metadata": {},
   "outputs": [
    {
     "name": "stdout",
     "output_type": "stream",
     "text": [
      "{'name': 'Анна'}\n",
      "Звуки сморкающегося хомячка\n",
      "Кашляющее в форточку кенгуру\n",
      "Поперхнувшаяся квасом креветка\n"
     ]
    }
   ],
   "source": [
    "# Анна - оперная певица. Она мастер с своем ремесле. \n",
    "# Для разнообразия она решила изучить новые техники вокала. \n",
    "# Вам необходимо создать класс Singer. \n",
    "# При инициализации экземпляра создается атрибут name со значением по умолчанию 'Анна'. \n",
    "\n",
    "# Также необходимо создать 3 метода без параметров:\n",
    "\n",
    "# voice_1 - при вызове в консоль выводится  \"Звуки сморкающегося хомячка\"\n",
    "# voice_2 - при вызове в консоль выводится  \"Кашляющее в форточку кенгуру\"\n",
    "# voice_3 - при вызове в консоль выводится  \"Поперхнувшаяся квасом креветка\"\n",
    "\n",
    "class Singer:\n",
    "    def __init__(self):\n",
    "        self.name = \"Анна\"\n",
    "\n",
    "    def voice_1(self):\n",
    "        print(\"Звуки сморкающегося хомячка\")\n",
    "\n",
    "    def voice_2(self):\n",
    "        print(\"Кашляющее в форточку кенгуру\")  \n",
    "\n",
    "    def voice_3(self):\n",
    "        print(\"Поперхнувшаяся квасом креветка\")\n",
    "\n",
    "anna = Singer()\n",
    "print(anna.__dict__)\n",
    "anna.voice_1()\n",
    "anna.voice_2()\n",
    "anna.voice_3()  "
   ]
  },
  {
   "cell_type": "code",
   "execution_count": 330,
   "metadata": {},
   "outputs": [
    {
     "name": "stdout",
     "output_type": "stream",
     "text": [
      "{'speed': 1}\n",
      "(3, 5)\n",
      "10\n",
      "20\n",
      "10\n",
      "100\n",
      "60\n",
      "120\n"
     ]
    }
   ],
   "source": [
    "# Вам необходимо создать класс Turtle, экземпляры класса получают при инициализации атрибут speed равный 1(м/с). \n",
    "# Лариса умеет ускоряться на некоторое время, нужно объявить метод nitro без параметров, \n",
    "# который возвращает кортеж ее скорости умноженной на 3 и времени действия ускорения равному 5(с). \n",
    "# Далее объявляем класс Track, экземпляры которого при инициализации принимают целое число, \n",
    "# которое сохраняется в качестве атрибута, этот атрибут означает дистанцию(м). \n",
    "# Далее нужно создать метод timing, который принимает экземпляр класса Turtle \n",
    "# и количество применений метода nitro при прохождении дистанций(int).\n",
    "# Этот метод должен вернуть итоговое время прохождения дистанции(int) \n",
    "# с учетом базовой скорости и количества применений ускорения.\n",
    "\n",
    "class Turtle:\n",
    "    def __init__(self):\n",
    "        self.speed = 1\n",
    "\n",
    "    def nitro(self):\n",
    "        return self.speed * 3, 5\n",
    "\n",
    "class Track:\n",
    "    def __init__(self, dist: int):\n",
    "        self.dist = dist\n",
    "\n",
    "    def timing(self, turtle, quantity):\n",
    "        nitro_speed, nitro_time = turtle.nitro()\n",
    "        if nitro_speed * nitro_time * quantity < self.dist:\n",
    "            time = (self.dist - nitro_speed * nitro_time * quantity) // turtle.speed + nitro_time * quantity\n",
    "        # если вся дистанция проходится только на нитро\n",
    "        else: \n",
    "            time = self.dist // nitro_speed\n",
    "        return time\n",
    "\n",
    "turtle = Turtle()\n",
    "print(turtle.__dict__)\n",
    "print(turtle.nitro())\n",
    "\n",
    "tr_1 = Track(30)\n",
    "print(tr_1.timing(turtle, 10))\n",
    "print(tr_1.timing(turtle, 1))\n",
    "print(tr_1.timing(turtle, 2))\n",
    "\n",
    "tr_2 = Track(150)\n",
    "print(tr_2.timing(turtle, 5))\n",
    "print(tr_2.timing(turtle, 9))\n",
    "print(tr_2.timing(turtle, 3))"
   ]
  },
  {
   "cell_type": "code",
   "execution_count": 331,
   "metadata": {},
   "outputs": [
    {
     "name": "stdout",
     "output_type": "stream",
     "text": [
      "{'capacity': 1, 'busy_memory': 0, 'data': []}\n",
      "{'capacity': 64000, 'busy_memory': 0, 'data': []}\n",
      "Емкость - 64000\n",
      "Занято памяти - 0\n",
      "Содержимое - []\n",
      "\n",
      "Емкость - 64000\n",
      "Занято памяти - 13500\n",
      "Содержимое - [('как класть.mp3', 1000), ('морда', 5000), ('красивое.jpg', 7500)]\n",
      "\n",
      "Емкость - 64000\n",
      "Занято памяти - 50000\n",
      "Содержимое - [('как класть.mp3', 1000), ('морда', 5000), ('красивое.jpg', 7500), ('фотосессия олега на дереве', 10000), ('восстание живых голубцов.mkv', 15000), ('код на бессмертие.txt', 11500)]\n",
      "\n",
      "Нехватает памяти для записи!\n",
      "Емкость - 64000\n",
      "Занято памяти - 62000\n",
      "Содержимое - [('как класть.mp3', 1000), ('морда', 5000), ('красивое.jpg', 7500), ('фотосессия олега на дереве', 10000), ('восстание живых голубцов.mkv', 15000), ('код на бессмертие.txt', 11500), ('свадьба олеси и кирилла', 5000), ('похороны кирилла.avi', 7000)]\n",
      "\n",
      "Нехватает памяти для записи!\n",
      "Емкость - 64000\n",
      "Занято памяти - 62000\n",
      "Содержимое - [('как класть.mp3', 1000), ('морда', 5000), ('красивое.jpg', 7500), ('фотосессия олега на дереве', 10000), ('восстание живых голубцов.mkv', 15000), ('код на бессмертие.txt', 11500), ('свадьба олеси и кирилла', 5000), ('похороны кирилла.avi', 7000)]\n",
      "\n"
     ]
    }
   ],
   "source": [
    "# Необходимо создать класс Flash, \n",
    "# при инициализации объекта прокидывается именованный параметр capacity равный 64000.\n",
    " \n",
    "# Также в объекте создаются атрибуты:\n",
    "\n",
    "# busy_memory(занятая память) - равная 0\n",
    "# data - равная пустому списку(здесь будет храниться записанная информация)\n",
    "\n",
    "# Необходимо создать метод record, который принимает список кортежей, в каждом из них 2 элемента: \n",
    "# первый - название файла(str), второй - объем памяти(int). \n",
    "# Этот метод должен пополнять атрибут data кортежами, если хватает свободной памяти. \n",
    "# Если запись, из-за нехватки свободной памяти, невозможна полностью или частично, то на экран выводится:\n",
    "\n",
    "# 'Нехватает памяти для записи!'\n",
    "# В конце работы метода record вызывается метод show_data. Его суть - в выводе данных объекта\n",
    "# в консоль в формате:\n",
    "\n",
    "# Емкость - ...\n",
    "# Занято памяти - ...\n",
    "# Содержимое - [(..., ...), (..., ...), ...]\n",
    "# *здесь пустая строка*\n",
    "\n",
    "class Flash:\n",
    "    def __init__(self, capacity: int = 64000):\n",
    "        self.capacity = capacity\n",
    "        self.busy_memory = 0\n",
    "        self.data = []\n",
    "\n",
    "    def record(self, files):\n",
    "        for name, size in files:\n",
    "            if self.busy_memory + size <= self.capacity:\n",
    "                self.data.append((name, size))\n",
    "                self.busy_memory += size\n",
    "            else:\n",
    "                print('Нехватает памяти для записи!')\n",
    "                break\n",
    "        self.show_data()\n",
    "\n",
    "    def show_data(self):\n",
    "        print(f'Емкость - {self.capacity}')\n",
    "        print(f'Занято памяти - {self.busy_memory}')\n",
    "        print(f'Содержимое - {self.data}')\n",
    "        print()\n",
    "        \n",
    "\n",
    "fl = Flash(1)\n",
    "print(fl.__dict__)\n",
    "fl = Flash()\n",
    "print(fl.__dict__)\n",
    "\n",
    "fl.show_data()\n",
    "fl.record([('как класть.mp3', 1000), ('морда', 5000), ('красивое.jpg', 7500)])\n",
    "fl.record([('фотосессия олега на дереве', 10000), ('восстание живых голубцов.mkv', 15000), ('код на бессмертие.txt', 11500)])\n",
    "fl.record([('свадьба олеси и кирилла', 5000), ('похороны кирилла.avi', 7000), ('рецепт бутерброда из пельменей и изюма.txt', 9000)])\n",
    "fl.record([('Белка угоняет электросамокат!!Ржака!!!.mkv', 5800), ('как замариновать лошадь', 7800)])"
   ]
  },
  {
   "cell_type": "code",
   "execution_count": 332,
   "metadata": {},
   "outputs": [
    {
     "name": "stdout",
     "output_type": "stream",
     "text": [
      "камень сильнее ножницы\n",
      "Ничья\n",
      "камень сильнее ножницы\n",
      "бумага сильнее камень\n",
      "бумага сильнее камень\n",
      "Необходимо выбрать что-то из ['камень', 'ножницы', 'бумага']\n"
     ]
    }
   ],
   "source": [
    "# Вам нужно создать класс Gestures(жесты), \n",
    "# экземпляр класса при инициализации ожидает строку и записывает ее в атрибут gest, \n",
    "# в том случае если этим словом является одно из - камень/ножницы/бумага. \n",
    "\n",
    "# Иначе на экран выведется сообщение:\n",
    "\n",
    "# Необходимо выбрать что-то из ['камень', 'ножницы', 'бумага']\n",
    "\n",
    "# Далее создаем класс Game. \n",
    "# Соответственно каждый экземпляр этого класса - это отдельная игра. \n",
    "# Также необходимо создать метод play, который принимает 2 экземпляра класса Gestures и выявляет кто победил. \n",
    "\n",
    "# Если атрибуты gest этих экземпляров разные, то выводится строка:\n",
    "\n",
    "# ... сильнее ...\n",
    "\n",
    "# На окончания слов не обращаем внимания. Т.е. на первое место этой строки ставится слово-победитель. \n",
    "# Если атрибуты равны, то возвращается 'Ничья'.\n",
    "\n",
    "class Gestures:\n",
    "    def __init__(self, gest: str = None):\n",
    "        if gest in ['камень', 'ножницы', 'бумага']:\n",
    "            self.gest = gest\n",
    "        else:\n",
    "            print(\"Необходимо выбрать что-то из ['камень', 'ножницы', 'бумага']\")\n",
    "\n",
    "class Game:\n",
    "    \n",
    "    def __init__(self):\n",
    "        self.res = 'Ничья'\n",
    "\n",
    "    def play(self, gest_1, gest_2):\n",
    "        \n",
    "        d = {'камень': 'ножницы',\n",
    "        'бумага': 'камень',\n",
    "        'ножницы': 'бумага'}\n",
    "\n",
    "        if gest_2.gest == d[gest_1.gest]:\n",
    "            self.res = f'{gest_1.gest} сильнее {gest_2.gest}'\n",
    "                \n",
    "        elif gest_1.gest == d[gest_2.gest]:\n",
    "            self.res = f'{gest_2.gest} сильнее {gest_1.gest}'\n",
    "\n",
    "        print(self.res)\n",
    "\n",
    "\n",
    "gest_1, gest_2 = Gestures('камень'), Gestures('ножницы')\n",
    "Game().play(gest_1, gest_2)\n",
    "\n",
    "gest_1, gest_2 = Gestures('бумага'), Gestures('бумага')\n",
    "Game().play(gest_1, gest_2)\n",
    "\n",
    "gest_1, gest_2 = Gestures('ножницы'), Gestures('камень')\n",
    "Game().play(gest_1, gest_2)\n",
    "\n",
    "gest_1, gest_2 = Gestures('бумага'), Gestures('камень')\n",
    "Game().play(gest_1, gest_2)\n",
    "\n",
    "gest_1, gest_2 = Gestures('бумага'), Gestures('камень')\n",
    "Game().play(gest_1, gest_2)\n",
    "\n",
    "gest_1 = Gestures('бумаг')"
   ]
  },
  {
   "cell_type": "markdown",
   "metadata": {},
   "source": [
    "# 1.5 classmethod, staticmethod"
   ]
  },
  {
   "cell_type": "code",
   "execution_count": 333,
   "metadata": {},
   "outputs": [],
   "source": [
    "# @classmethod - \n",
    "# декоратор, который применяется к методу, вызываемому преимущественно из класса. \n",
    "# Суть такого метода быть независимым от экземпляра класса, но вызов такого метода также возможен из экземпляра."
   ]
  },
  {
   "cell_type": "code",
   "execution_count": 334,
   "metadata": {},
   "outputs": [
    {
     "name": "stdout",
     "output_type": "stream",
     "text": [
      "True\n",
      "False\n",
      "{'season': 'лето'}\n"
     ]
    }
   ],
   "source": [
    "class Seasons:\n",
    "    seasons = ['весна', 'лето', 'зима', 'осень']\n",
    "\n",
    "    def __init__(self, season):\n",
    "        self.season = season if self.season_check(season) \\\n",
    "            else 'Неизвестно'\n",
    "\n",
    "    @classmethod\n",
    "    def season_check(cls, season):\n",
    "        return season.lower() in cls.seasons\n",
    "\n",
    "\n",
    "print(Seasons.season_check('Весна'))\n",
    "\n",
    "season1 = Seasons('лето')\n",
    "print(season1.season_check('леыыыыыто'))\n",
    "print(season1.__dict__)"
   ]
  },
  {
   "cell_type": "code",
   "execution_count": 335,
   "metadata": {},
   "outputs": [],
   "source": [
    "# @staticmethod\n",
    "# в логике класса может присутствовать метод, не контактирующий с атрибутами класса и экземплярами, \n",
    "# т.е. абсолютно независимый, но уместный т.к. соответствует тематике класса. \n",
    "# Эти методы называют статическими и декорируются декоратором @staticmethod, они также абсолютно независимо вызываются как из класса так и из экземпляра класса."
   ]
  },
  {
   "cell_type": "code",
   "execution_count": 336,
   "metadata": {},
   "outputs": [
    {
     "name": "stdout",
     "output_type": "stream",
     "text": [
      "Летом буду скидывать кожу как удав.\n",
      "Весна! Бабушки сбились в стаю на лавочке.\n"
     ]
    }
   ],
   "source": [
    "from random import choice\n",
    "\n",
    "\n",
    "class Seasons:\n",
    "    seasons = ['весна', 'лето', 'зима', 'осень']\n",
    "\n",
    "    def __init__(self, season):\n",
    "        self.season = season if self.season_check(season) \\\n",
    "            else 'Неизвестно'\n",
    "\n",
    "    @classmethod\n",
    "    def season_check(cls, season):\n",
    "        return season.lower() in cls.seasons\n",
    "\n",
    "    @staticmethod\n",
    "    def rand_fact():\n",
    "        lst = ['Весна! Бабушки сбились в стаю на лавочке.',\n",
    "               'Летом буду скидывать кожу как удав.',\n",
    "               'Осенью деревья ржавеют.',\n",
    "               'Зимой впаду вспячку.']\n",
    "        return choice(lst)\n",
    "\n",
    "\n",
    "print(Seasons.rand_fact())\n",
    "season2 = Seasons('лето')\n",
    "print(season2.rand_fact())"
   ]
  },
  {
   "cell_type": "code",
   "execution_count": 337,
   "metadata": {},
   "outputs": [],
   "source": [
    "# Зачем нужен декоратор @ ?\n",
    "#  Теперь из класса функция работает, а из экземпляра - нет. \n",
    "# Дело в том, что мы объявили эту функцию так же как и обычные методы, \n",
    "# а значит она будет в себя прокидывать экземпляр класса, а в объявлении мы этого не указали. \n",
    "# А значит туда прокидывается экземпляр, который в логике метода не указан(нет self). \n",
    "# Тоже самое справедливо и для методов с @classmethod"
   ]
  },
  {
   "cell_type": "code",
   "execution_count": 338,
   "metadata": {},
   "outputs": [
    {
     "name": "stdout",
     "output_type": "stream",
     "text": [
      "Файл Неподозрительный файл.vir не заражен.\n",
      "{'name': 'Неподозрительный файл.vir', 'rights': 'admin'}\n",
      "Файл Неподозрительный файл.vir заражен.\n",
      "Он отправлен в карантин.\n"
     ]
    }
   ],
   "source": [
    "# Вам необходимо создать класс File, \n",
    "# экземпляры при создании принимают один строковый аргумент, и сохраняют его в атрибуте name. \n",
    "# Также создается атрибут rights(права), равный строке 'user'. \n",
    "# Затем нужно создать метод file_infection, который меняет атрибут rights на 'admin'. \n",
    "# Изменение атрибута означает повышенные права для его запуска, многие зараженные файлы требуют запуск с повышенными правами.\n",
    "\n",
    "# Еще необходимо создать класс Antivirus. \n",
    "# Он должен иметь атрибут quarantine(карантин) равный пустому списку. \n",
    "# Там будут находится зараженные файлы. Создайте метод класса(@classmethod) file_check, \n",
    "# который принимает объект класса File, проверяет его, \n",
    "# и если он заражен отправляет в карантин и выводит сообщение:\n",
    "\n",
    "# Файл <имя файла> заражен.\n",
    "# Он отправлен в карантин.\n",
    "\n",
    "# Иначе выведется сообщение:\n",
    "\n",
    "# Файл <имя файла> не заражен.\n",
    "\n",
    "class File:\n",
    "    def __init__(self, name: str):\n",
    "        self.name = name\n",
    "        self.rights = 'user'\n",
    "    \n",
    "    def file_infection(self):\n",
    "        self.rights = 'admin'\n",
    "\n",
    "class Antivirus:\n",
    "    quarantine = []\n",
    "\n",
    "    @classmethod\n",
    "    def file_check(cls, file):\n",
    "        if file.rights == 'admin':\n",
    "            print(f'Файл {file.name} заражен.')\n",
    "            cls.quarantine.append(file.name)\n",
    "            print('Он отправлен в карантин.')\n",
    "        else:\n",
    "            print(f'Файл {file.name} не заражен.')\n",
    "\n",
    "\n",
    "Antivirus.file_check(x := File('Неподозрительный файл.vir'))\n",
    "x.rights = 'admin'\n",
    "print(x.__dict__)\n",
    "Antivirus.file_check(x)"
   ]
  },
  {
   "cell_type": "code",
   "execution_count": 339,
   "metadata": {},
   "outputs": [
    {
     "name": "stdout",
     "output_type": "stream",
     "text": [
      "True\n",
      "False\n"
     ]
    }
   ],
   "source": [
    "# Вам нужно создать 2 класса - Robot и Human. \n",
    "# Далее необходимо создать класс Examination, \n",
    "# который статическим методом identification будет проверять \n",
    "# является ли переданный в него объект экземпляром класса Robot или нет(True/False).\n",
    "\n",
    "class Human:\n",
    "    pass\n",
    "\n",
    "class Robot:\n",
    "    pass\n",
    "\n",
    "class Examination:\n",
    "    @staticmethod\n",
    "    def identification(obj):\n",
    "        return type(obj) == Robot\n",
    "\n",
    "hum, rob = Human(), Robot()\n",
    "print(Examination.identification(rob))\n",
    "print(Examination.identification(hum))"
   ]
  },
  {
   "cell_type": "code",
   "execution_count": 340,
   "metadata": {},
   "outputs": [
    {
     "name": "stdout",
     "output_type": "stream",
     "text": [
      "True\n",
      "False\n"
     ]
    }
   ],
   "source": [
    "class Robot:\n",
    "    pass\n",
    "\n",
    "class Human:\n",
    "    pass\n",
    "\n",
    "class Examination:\n",
    "    @staticmethod\n",
    "    def identification(obj):\n",
    "        return isinstance(obj, Robot)\n",
    "    \n",
    "hum, rob = Human(), Robot()\n",
    "print(Examination.identification(rob))\n",
    "print(Examination.identification(hum))"
   ]
  },
  {
   "cell_type": "code",
   "execution_count": 341,
   "metadata": {},
   "outputs": [
    {
     "name": "stdout",
     "output_type": "stream",
     "text": [
      "0 ч. 0 мин.\n",
      "0 ч. 50 мин.\n",
      "1 ч. 24 мин.\n",
      "0 ч. 58 мин.\n",
      "0 ч. 47 мин.\n",
      "0 ч. 27 мин.\n"
     ]
    }
   ],
   "source": [
    "# Вам необходимо создать класс Smartphone \n",
    "# с классовым атрибутом capacity равным 3000(емкость аккумулятора). \n",
    "# Это атрибут на который ориентируются экземпляры этого класса и создают в своем локальном пространстве такой же. \n",
    "# Также при создании экземпляры принимают целое число и записывают его в атрибут charge_level(% зарядки телефона). \n",
    "# Для того, чтобы начать \"производство\" смартфонов с другой емкостью аккумулятора, \n",
    "# в классе необходимо создать классовый метод set_capacity, \n",
    "# принимающий целое число и соответственно изменяющий классовый capacity на соответствующее значение.\n",
    "\n",
    "# Затем необходимо создать класс Charger(з/у), \n",
    "# при инициализации объекта он принимает целое число(сила тока в амперах) \n",
    "# и сохраняет его в атрибуте amperage. \n",
    "\n",
    "# Далее необходимо объявить метод time_charging, который принимает экземпляр Smartphone и рассчитывает время зарядки по формуле:\n",
    "\n",
    "# t = 1.4 * E / A\n",
    "# где t - получаемый результат в часах(рекомендую сразу привести к минутам)\n",
    "# 1.4 - необходимая константа при вычислении\n",
    "# E - незаполненная емкость аккумулятора\n",
    "# A - сила тока зарядника в миллиамперах\n",
    "\n",
    "# Результат возвращается строкой в формате:\n",
    "\n",
    "# <часы> ч. <минуты> мин.\n",
    "\n",
    "class Smartphone:\n",
    "    capacity = 3000\n",
    "\n",
    "    def __init__(self, charge_level):\n",
    "        self.charge_level = charge_level\n",
    "\n",
    "    @classmethod\n",
    "    def set_capacity(cls, capacity):\n",
    "        cls.capacity = capacity\n",
    "\n",
    "class Charger:\n",
    "    def __init__(self, amperage):\n",
    "        self.amperage = amperage\n",
    "\n",
    "    def time_charging(self, smart):\n",
    "        E = smart.capacity - smart.capacity * smart.charge_level * 0.01\n",
    "        A = self.amperage * 1000\n",
    "        t = int(60 * 1.4 * E / A)\n",
    "        return f'{t // 60} ч. {t % 60} мин.'\n",
    "\n",
    "smart = Smartphone(100)\n",
    "charg = Charger(1)\n",
    "print(charg.time_charging(smart))\n",
    "\n",
    "smart = Smartphone(80)\n",
    "charg = Charger(1)\n",
    "print(charg.time_charging(smart))\n",
    "\n",
    "Smartphone.set_capacity(5000)\n",
    "smart = Smartphone(80)\n",
    "charg = Charger(1)\n",
    "print(charg.time_charging(smart))\n",
    "\n",
    "Smartphone.set_capacity(7000)\n",
    "smart = Smartphone(80)\n",
    "charg = Charger(2)\n",
    "print(charg.time_charging(smart))\n",
    "\n",
    "smart = Smartphone(60)\n",
    "charg = Charger(5)\n",
    "print(charg.time_charging(smart))\n",
    "\n",
    "smart = Smartphone(30)\n",
    "charg = Charger(15)\n",
    "print(charg.time_charging(smart))"
   ]
  },
  {
   "cell_type": "code",
   "execution_count": 342,
   "metadata": {},
   "outputs": [
    {
     "name": "stdout",
     "output_type": "stream",
     "text": [
      "{'понедельник': {'я': 'посуда', 'Джейсон': 'стирка', 'Рыжик': 'пылесосенье'}, 'вторник': {'я': 'пищеготовка', 'Джейсон': 'устранение засоров', 'Рыжик': 'посуда'}, 'среда': {'я': 'викторины', 'Джейсон': 'организация битвы подушками', 'Рыжик': 'отвечать в степике'}, 'четверг': {'я': 'стирка', 'Джейсон': 'посуда', 'Рыжик': 'пищеготовка'}, 'пятница': {'я': 'газонокосение', 'Джейсон': 'викторины', 'Рыжик': 'организация битвы подушками'}, 'суббота': {'я': 'пищеготовка', 'Джейсон': 'пылесосенье', 'Рыжик': 'устранение засоров'}, 'воскресенье': {'я': 'посуда', 'Джейсон': 'отвечать в степике', 'Рыжик': 'викторины'}}\n",
      "\n",
      "{'я': 'посуда', 'Джейсон': 'отвечать в степике', 'Рыжик': 'викторины'}\n",
      "Данные не найдены\n",
      "{'я': 'посуда', 'Джейсон': 'отвечать в степике', 'Рыжик': 'викторины'}\n",
      "{'я': 'стирка', 'Джейсон': 'посуда', 'Рыжик': 'пищеготовка'}\n",
      "викторины\n",
      "стирка\n",
      "организация битвы подушками\n",
      "пищеготовка\n"
     ]
    }
   ],
   "source": [
    "# Вам необходимо создать класс ParseJson, который имеет 2 статических метода:\n",
    "\n",
    "# full_parse() - полностью парсит файл to-do_list.json и возвращает его содержимое\n",
    "# в виде словаря.\n",
    "\n",
    "# parse_key(key) - на основе полученных данных, этот метод по ключу(строка) получает\n",
    "# значение из словаря. Пример:\n",
    "\n",
    "# ParseJson.parse_key('суББота') ->\n",
    "# {'я': 'пищеготовка', 'Джейсон': 'пылесосенье', 'Рыжик': 'устранение засоров'}\n",
    "\n",
    "# Регистр аргумента не имеет значения. Если такого ключа нет, то возвращается:\n",
    "\n",
    "# Данные не найдены\n",
    "\n",
    "# Также в аргументе можно задать цепочку ключей вида \"key.key\", т.е. 2 ключа должны быть разделены между собой точкой. Пример:\n",
    "\n",
    "# ParseJson.parse_key('воскРесенье.рЫжик') -> викторины\n",
    "# Как видите реестр здесь также не учитывается. Если дана неправильная последовательность ключей, то также выводится:\n",
    "\n",
    "# Данные не найдены\n",
    "\n",
    "import json\n",
    "\n",
    "class ParseJson:\n",
    "    @staticmethod\n",
    "    def full_parse():\n",
    "        with open('data/to-do_list.json', 'r', encoding='utf-8') as f:\n",
    "            todo = json.load(f)\n",
    "        return todo\n",
    "\n",
    "    @staticmethod\n",
    "    def parse_key(keys):\n",
    "        kk = keys.lower().split('.')\n",
    "        if len(kk) == 1:\n",
    "            return ParseJson.full_parse().get(kk[0], 'Данные не найдены')\n",
    "        elif len(kk) == 2:\n",
    "            k1, k2 = kk[0], kk[1]\n",
    "            if k2 != 'я':\n",
    "                k2 = k2.title()\n",
    "            return ParseJson.full_parse().get(k1, 'Данные не найдены').get(k2, 'Данные не найдены')\n",
    "\n",
    "print(ParseJson.full_parse())\n",
    "print()\n",
    "print(ParseJson.parse_key('воскресенье'))\n",
    "print(ParseJson.parse_key('ВоскРесене'))\n",
    "print(ParseJson.parse_key('ВоскРесенье'))\n",
    "print(ParseJson.parse_key('четверг'))\n",
    "print(ParseJson.parse_key('воскресенье.рыжик'))\n",
    "print(ParseJson.parse_key('Четверг.я'))\n",
    "print(ParseJson.parse_key('среда.дЖейсон'))\n",
    "print(ParseJson.parse_key('вТорнИк.Я'))"
   ]
  },
  {
   "cell_type": "code",
   "execution_count": 343,
   "metadata": {},
   "outputs": [
    {
     "name": "stdout",
     "output_type": "stream",
     "text": [
      "True\n",
      "False\n",
      "True\n",
      "False\n",
      "False\n"
     ]
    }
   ],
   "source": [
    "# Вам необходимо создать класс DaySurvival, который поможет понять - возможно ли прожить этот день. У класса есть свой атрибут, равный следующему словарю:\n",
    "\n",
    "# dct = {'ветки': 10, 'крупные листья': 30, 'вода': 1.5,\n",
    "#            'обувь': 1, 'продукты': 3, 'средство самозащиты': 1}\n",
    "# в котором ключи - \n",
    "# строки, обозначающие предметы необходимые для выживания, например ветки и листья - для розжига и шалаша и т.д. \n",
    "# Значениями являются числа, т.е. необходимое количество данного предмета для проживания одного дня. \n",
    "# Также необходимо создать классовый метод(@classmethod) will_the_day_last, который принимает словарь, \n",
    "# т.е. набор предметов и их количество. Суть метода дать булевый ответ на вопрос - \n",
    "# хватит ли этих предметов с учетом их количества для проживания в течение дня на этом острове. \n",
    "# Если каких-то предметов будет не хватать или их количества метод возвращает False. Иначе True. \n",
    "# Стоит учитывать, что избыток предметов или дополнительные наименования - это преимущество, а не недостаток.\n",
    "\n",
    "class DaySurvival:\n",
    "    dct = {'ветки': 10, 'крупные листья': 30, 'вода': 1.5, 'обувь': 1, 'продукты': 3, 'средство самозащиты': 1}\n",
    "\n",
    "    @classmethod\n",
    "    def will_the_day_last(cls, items):\n",
    "        return all([items.get(k, -1) >= cls.dct.get(k) for k in cls.dct])\n",
    "    \n",
    "print(DaySurvival.will_the_day_last({'ветки': 10, 'крупные листья': 30, 'вода': 1.5,\n",
    "           'обувь': 2, 'продукты': 3, 'средство самозащиты': 1}))\n",
    "\n",
    "print(DaySurvival.will_the_day_last({'ветки': 9, 'крупные листья': 30, 'вода': 1.5,\n",
    "           'обувь': 2, 'продукты': 3, 'средство самозащиты': 1}))\n",
    "\n",
    "print(DaySurvival.will_the_day_last({'ветки': 12, 'крупные листья': 30, 'вода': 1.5,\n",
    "           'обувь': 2, 'продукты': 3, 'средство самозащиты': 1, 'шкура карася': 7}))\n",
    "\n",
    "print(DaySurvival.will_the_day_last({'ветки': 12, 'крупные листья': 30, 'вода': 1.5,\n",
    "           'обувь': 2, 'продукты': 3}))\n",
    "\n",
    "print(DaySurvival.will_the_day_last({'ветки': 15, 'крупные листья': 50, 'вода': 3.5,\n",
    "           'обувь': 5, 'продукты': 7, 'средство самозащиты': 0}))"
   ]
  },
  {
   "cell_type": "markdown",
   "metadata": {},
   "source": [
    "# 2.1 Инкапсуляция."
   ]
  },
  {
   "cell_type": "code",
   "execution_count": 344,
   "metadata": {},
   "outputs": [
    {
     "name": "stdout",
     "output_type": "stream",
     "text": [
      "Windows 11 Professional w4g4-f4b3-wd32-c45n\n"
     ]
    }
   ],
   "source": [
    "# Инкапсуляция - это процесс скрытия реализации некоторых деталей логики класса от внешних запросов\n",
    "\n",
    "# Все методы и атрибуты изначально имеют публичный статус доступа. \n",
    "# Чтобы ограничить их использование извне, перед такими методами или атрибутами прописывают нижнее подчеркивание, \n",
    "# в таком случае режим доступа меняется на защищенный\n",
    "\n",
    "# Пример (_name, _key)\n",
    "\n",
    "# При попытке образения или изменения атрибутов с подчеркиванием среда разработки предупреждает (подчеркивает)\n",
    "# Нам всё равно ничто не мешает обращаться к ним извне. Этот режим скорее некое соглашение, что если есть нижнее подчеркивание - не трогай, сломается.\n",
    "\n",
    "class Windows:\n",
    "    def __init__(self, name, key):\n",
    "        self._name = name\n",
    "        self._key = key\n",
    "\n",
    "\n",
    "win = Windows('Windows 11 Professional', 'w4g4-f4b3-wd32-c45n')\n",
    "print(win._name, win._key)"
   ]
  },
  {
   "cell_type": "code",
   "execution_count": 345,
   "metadata": {},
   "outputs": [
    {
     "name": "stdout",
     "output_type": "stream",
     "text": [
      "секретные данные\n"
     ]
    }
   ],
   "source": [
    "# Если нужен более серьёзный уровень защиты, то можно использовать приватный уровень доступа. \n",
    "# Для этого необходимо в начале имени переменной использовать двойное нижнее подчеркивание\n",
    "\n",
    "class Spy:\n",
    "    passphrase = 'ты пчела я пчеловод'\n",
    "    data = 'секретные данные'\n",
    "\n",
    "    @classmethod\n",
    "    def __get_data(cls):\n",
    "        return cls.data\n",
    "\n",
    "    def get_secret_information(self, psw):\n",
    "        if psw == self.passphrase:\n",
    "            return self.__get_data()\n",
    "        raise TypeError('Фраза неверна!')\n",
    "\n",
    "# raise - инструкция, позволяющая вызвать исключение.\n",
    "\n",
    "spy = Spy()\n",
    "print(spy.get_secret_information('ты пчела я пчеловод'))"
   ]
  },
  {
   "cell_type": "code",
   "execution_count": 346,
   "metadata": {},
   "outputs": [],
   "source": [
    "# Такой уровень доступа уже не даст напрямую обратиться к приватному методу или атрибуту:\n",
    "\n",
    "# print(Spy.__get_data())"
   ]
  },
  {
   "cell_type": "code",
   "execution_count": 347,
   "metadata": {},
   "outputs": [
    {
     "name": "stdout",
     "output_type": "stream",
     "text": [
      "{'__module__': '__main__', 'passphrase': 'ты пчела я пчеловод', 'data': 'секретные данные', '_Spy__get_data': <classmethod(<function Spy.__get_data at 0x00000131503EDC60>)>, 'get_secret_information': <function Spy.get_secret_information at 0x00000131503ED080>, '__dict__': <attribute '__dict__' of 'Spy' objects>, '__weakref__': <attribute '__weakref__' of 'Spy' objects>, '__doc__': None}\n",
      "\n",
      "секретные данные\n"
     ]
    }
   ],
   "source": [
    "# Настоящее имя приватного атрибута/метода можно узнать через __dict__ .\n",
    "\n",
    "# Обратите внимание, что приватный метод в предыдущем примере вызывается внутри логики класса, и выносить его в глобальное пространство не нужно. В этом и есть общий смысл атрибутов/методов защищенного и приватного статуса - они используются внутри класса.\n",
    "# Уровень доступа можно менять и в атрибутах экземпляров класса по тому же принципу.\n",
    "\n",
    "print(Spy.__dict__)\n",
    "\n",
    "print()\n",
    "\n",
    "# Но способ обхода приватности всё же есть:\n",
    "\n",
    "print(Spy._Spy__get_data())\n",
    "\n",
    "# Для максимального уровня защищенности необходимо использовать специальные библиотеки"
   ]
  },
  {
   "cell_type": "code",
   "execution_count": 348,
   "metadata": {},
   "outputs": [
    {
     "name": "stdout",
     "output_type": "stream",
     "text": [
      "Алена\n",
      "автономный биомодуль\n",
      "{'name': 'Швепс', '_Jellyfish__nickname': None}\n",
      "Не скажу\n",
      "автономный биомодуль\n"
     ]
    }
   ],
   "source": [
    "# Вам нужно создать класс Jellyfish, экземпляры класса принимают позиционно строку, которая сохраняется в атрибут name. \n",
    "# А также именованный параметр, по умолчанию равный None, либо принимающий строку, он будет храниться в приватном атрибуте nickname. \n",
    "# Создайте метод get_name, который возвращает имя. \n",
    "# И еще создайте метод get_nickname, принимающий экземпляр этого класса, и возвращающий nickname, \n",
    "# если имя принятого экземпляра 'Валера', иначе возвращается строка 'Не скажу'. \n",
    "\n",
    "class Jellyfish:\n",
    "    def __init__(self, name: str, nickname: str|None = None) -> None:\n",
    "        self.name = name\n",
    "        self.__nickname = nickname\n",
    "\n",
    "    def get_name(self) -> str:\n",
    "        return self.name\n",
    "    \n",
    "    def get_nickname(self, fish: 'Jellyfish') -> str:\n",
    "        if fish.name == 'Валера':\n",
    "            return self.__nickname\n",
    "        return 'Не скажу'\n",
    "\n",
    "jel_1 = Jellyfish('Алена', 'автономный биомодуль')\n",
    "print(jel_1.get_name())\n",
    "print(jel_1._Jellyfish__nickname)\n",
    "jel_2 = Jellyfish('Швепс')\n",
    "print(jel_2.__dict__)\n",
    "jel_3 = Jellyfish('Валера', 'Хрутка')\n",
    "print(jel_1.get_nickname(jel_2))\n",
    "print(jel_1.get_nickname(jel_3))"
   ]
  },
  {
   "cell_type": "code",
   "execution_count": 349,
   "metadata": {},
   "outputs": [
    {
     "name": "stdout",
     "output_type": "stream",
     "text": [
      "Алена\n",
      "автономный биомодуль\n",
      "{'name': 'Швепс', '_Jellyfish__nickname': None}\n",
      "Не скажу\n",
      "автономный биомодуль\n"
     ]
    }
   ],
   "source": [
    "class Jellyfish:\n",
    "\n",
    "    friends : list[str] = ['Валера']\n",
    "\n",
    "    def __init__(self, name: str, nickname: str|None = None) -> None:\n",
    "        self.name = name\n",
    "        self.__nickname = nickname\n",
    "\n",
    "    def get_name(self) -> str:\n",
    "        return self.name\n",
    "    \n",
    "    def get_nickname(self, fish: 'Jellyfish') -> str:\n",
    "        if self.__check_frind(fish.get_name()):\n",
    "            return self.__nickname\n",
    "        return 'Не скажу'\n",
    "    \n",
    "    @classmethod\n",
    "    def __check_frind(cls, name: str):\n",
    "        return name in cls.friends\n",
    "\n",
    "jel_1 = Jellyfish('Алена', 'автономный биомодуль')\n",
    "print(jel_1.get_name())\n",
    "print(jel_1._Jellyfish__nickname)\n",
    "jel_2 = Jellyfish('Швепс')\n",
    "print(jel_2.__dict__)\n",
    "jel_3 = Jellyfish('Валера', 'Хрутка')\n",
    "print(jel_1.get_nickname(jel_2))\n",
    "print(jel_1.get_nickname(jel_3))"
   ]
  },
  {
   "cell_type": "code",
   "execution_count": 350,
   "metadata": {},
   "outputs": [
    {
     "name": "stdout",
     "output_type": "stream",
     "text": [
      "{'_Man__superhero': True}\n",
      "True\n",
      "False\n",
      "<class '__main__.Superhero'>\n",
      "\n",
      "{'_Man__superhero': False}\n",
      "False\n",
      "True\n",
      "<class '__main__.Man'>\n"
     ]
    }
   ],
   "source": [
    "# Вам необходимо создать пустой класс Superhero. \n",
    "# Затем нужно создать класс Man, экземпляры которого принимают булевый объект, \n",
    "# и сохраняют в приватном атрибуте superhero. \n",
    "# Далее объявите метод turning_into_superhero, который должен удостовериться, \n",
    "# что \"превращение\" в супергероя возможно по атрибуту superhero. \n",
    "# В зависимости от результата метод возвращает либо экземпляр Superhero, либо сам объект.\n",
    "\n",
    "from typing import Self\n",
    "\n",
    "class Superhero:\n",
    "    pass\n",
    "\n",
    "class Man:\n",
    "    def __init__(self, superhero: bool) -> None:\n",
    "        self.__superhero = superhero\n",
    "\n",
    "    def turning_into_superhero(self) -> Superhero | Self:\n",
    "        return Superhero() if self.__superhero else Man(self)\n",
    "    \n",
    "man = Man(True)\n",
    "print(man.__dict__)\n",
    "print(isinstance(man.turning_into_superhero(), Superhero))\n",
    "print(isinstance(man.turning_into_superhero(), Man))\n",
    "print(type(man.turning_into_superhero()))\n",
    "\n",
    "print()\n",
    "\n",
    "man = Man(False)\n",
    "print(man.__dict__)\n",
    "print(isinstance(man.turning_into_superhero(), Superhero))\n",
    "print(isinstance(man.turning_into_superhero(), Man))\n",
    "print(type(man.turning_into_superhero()))\n"
   ]
  },
  {
   "cell_type": "code",
   "execution_count": 351,
   "metadata": {},
   "outputs": [
    {
     "name": "stdout",
     "output_type": "stream",
     "text": [
      "None\n",
      "None Бубузяна\n",
      "Бубузяна одноногий комар Валера\n",
      "одноногий комар Валера Енотовидная бабайка\n",
      "<bound method Reincarnation.next_prev of <class '__main__.Reincarnation'>>\n"
     ]
    }
   ],
   "source": [
    "# Создайте класс Reincarnation. \n",
    "# Класс имеет приватный атрибут __prev, который будет хранить в себе предыдущий созданный экземпляр, изначально равен None. \n",
    "# Экземпляры принимают строку и записывают в атрибут life_form, \n",
    "# а также имеют аналогичный атрибут prev(публичный), который будет брать информацию о предыдущем объекте непосредственно из класса. \n",
    "# Также в логике инициализации должен присутствовать классовый метод next_prev(cls, obj), \n",
    "# где obj - экземпляр класса, который будет сохраняться в классовом атрибуте __prev.\n",
    "\n",
    "class Reincarnation:\n",
    "    __prev = None\n",
    "\n",
    "    def __init__(self, form):\n",
    "        self.life_form = form\n",
    "        self.prev = Reincarnation.__prev\n",
    "        Reincarnation.__prev = form\n",
    "        self.next_prev(self)\n",
    "\n",
    "    @classmethod\n",
    "    def next_prev(cls, obj):\n",
    "        cls.__prev = obj\n",
    "\n",
    "print(Reincarnation._Reincarnation__prev)\n",
    "\n",
    "reincar_1 = Reincarnation('Бубузяна')\n",
    "print(reincar_1.prev, reincar_1.life_form)\n",
    "\n",
    "reincar_2 = Reincarnation('одноногий комар Валера')\n",
    "print(reincar_2.prev.life_form, reincar_2.life_form)\n",
    "\n",
    "reincar_3 = Reincarnation('Енотовидная бабайка')\n",
    "print(reincar_3.prev.life_form, reincar_3.life_form)\n",
    "\n",
    "print(Reincarnation.next_prev)"
   ]
  },
  {
   "cell_type": "code",
   "execution_count": 352,
   "metadata": {},
   "outputs": [
    {
     "name": "stdout",
     "output_type": "stream",
     "text": [
      "['corruption = True', 'iq = Да']\n",
      "['arghh = True', 'color = пескоструйный']\n"
     ]
    }
   ],
   "source": [
    "# Вам нужно создать класс PrivatDetector, который имеет статический метод get_privat_atr(obj), \n",
    "# где obj - экземпляр любого класса. Суть метода - собрать в список приватные атрибуты и их значения у экземпляра. \n",
    "\n",
    "# Информация собирается в виде строк:\n",
    "\n",
    "# ['атрибут = значение', 'атрибут = значение', ...]\n",
    "\n",
    "# Данный список возвращается.\n",
    "\n",
    "class PrivatDetector:\n",
    "\n",
    "    @staticmethod\n",
    "    def get_privat_atr(obj):\n",
    "        class_name = type(obj).__name__\n",
    "        search = f'_{class_name}__'\n",
    "        return [f'{k.split(search)[1]} = {v}' for k, v in obj.__dict__.items() if k.startswith(search)]\n",
    "\n",
    "class Policeman:\n",
    "    def __init__(self, corruption=False):\n",
    "        self.__corruption = corruption\n",
    "        self.eat = 'donut'\n",
    "        self.__iq = 'Да'\n",
    "\n",
    "\n",
    "pol = Policeman(corruption=True)\n",
    "print(PrivatDetector.get_privat_atr(pol))\n",
    "\n",
    "\n",
    "class Dinosavr:\n",
    "    def __init__(self):\n",
    "        self.__arghh = True\n",
    "        self._eat = 'Meat'\n",
    "        self.status = 'Вымер'\n",
    "        self.__color = 'пескоструйный'\n",
    "\n",
    "\n",
    "pol = Dinosavr()\n",
    "print(PrivatDetector.get_privat_atr(pol))"
   ]
  },
  {
   "cell_type": "code",
   "execution_count": 353,
   "metadata": {},
   "outputs": [
    {
     "data": {
      "text/plain": [
       "['', 'corruption']"
      ]
     },
     "execution_count": 353,
     "metadata": {},
     "output_type": "execute_result"
    }
   ],
   "source": [
    "s = '_Policeman__corruption'\n",
    "s.split('_Policeman__')"
   ]
  },
  {
   "cell_type": "code",
   "execution_count": 378,
   "metadata": {},
   "outputs": [
    {
     "name": "stdout",
     "output_type": "stream",
     "text": [
      "True\n",
      "\n",
      "порча воздуха 25 x 500 = 12500\n",
      "гадание по копчику 25 x 750 = 18750\n",
      "амулет улетности 30 x 600 = 18000\n",
      "кириешки 75 x 30 = 2250\n",
      "эликсир счастья в следующей жизни 15 x 700 = 10500\n",
      "массаж ауры 15 x 1500 = 22500\n",
      "сохранить душу на флешку 25 x 3000 = 75000\n",
      "Рагнарёк 1 x 25000 = 25000\n",
      "--------------------------------------------------\n",
      "Итого: 184500\n",
      "\n",
      "порча воздуха 5 x 500 = 2500\n",
      "гадание по копчику 25 x 750 = 18750\n",
      "амулет улетности 30 x 600 = 18000\n",
      "кириешки 75 x 30 = 2250\n",
      "эликсир счастья в следующей жизни 15 x 700 = 10500\n",
      "массаж ауры 5 x 1500 = 7500\n",
      "сохранить душу на флешку 25 x 3000 = 75000\n",
      "Рагнарёк 1 x 25000 = 25000\n",
      "--------------------------------------------------\n",
      "Итого: 159500\n"
     ]
    }
   ],
   "source": [
    "# Вам необходимо создать класс Shop. В нем создайте атрибут:\n",
    "\n",
    "# __goods = [\n",
    "#         {'название': 'порча воздуха', 'количество': 25, 'цена': 500},\n",
    "#           ...\n",
    "#           ]\n",
    "\n",
    "# В классе должен быть всего один классовый метод get_info с именованным параметром sales=False.\n",
    "\n",
    "# Если этот параметр не задан, то на экран выведется строка (статистика по товару):\n",
    "\n",
    "# порча воздуха 25 x 500 = 12500\n",
    "# гадание по копчику 25 x 750 = 18750\n",
    "# амулет улетности 30 x 600 = 18000\n",
    "# кириешки 75 x 30 = 2250\n",
    "# эликсир счастья в следующей жизни 15 x 700 = 10500\n",
    "# массаж ауры 15 x 1500 = 22500\n",
    "# сохранить душу на флешку 25 x 3000 = 75000\n",
    "# Рагнарёк 1 x 25000 = 25000\n",
    "# --------------------------------------------------\n",
    "# Итого: 184500\n",
    "\n",
    "# Параметр sales - это список со вложенными списками, внутри каждого 2 элемента: \n",
    "# 1 - название товара/услуги, 2 - проданное количество(int). \n",
    "# Соответственно в таком случае при выводе нужно учитывать проданный товар. \n",
    "# Если какой-то товар продан полностью, то строка с ним не должна появляться.\n",
    "\n",
    "class Shop:\n",
    "    __goods = [\n",
    "        {'название': 'порча воздуха', 'количество': 25, 'цена': 500},\n",
    "        {'название': 'гадание по копчику', 'количество': 25, 'цена': 750},\n",
    "        {'название': 'амулет улетности', 'количество': 30, 'цена': 600},\n",
    "        {'название': 'кириешки', 'количество': 75, 'цена': 30},\n",
    "        {'название': 'эликсир счастья в следующей жизни', 'количество': 15, 'цена': 700},\n",
    "        {'название': 'массаж ауры', 'количество': 15, 'цена': 1500},\n",
    "        {'название': 'сохранить душу на флешку', 'количество': 25, 'цена': 3000},\n",
    "        {'название': 'Рагнарёк', 'количество': 1, 'цена': 25000}\n",
    "        ]\n",
    "    \n",
    "    @classmethod\n",
    "    def print_info(cls):\n",
    "        total = 0\n",
    "        for item in cls.__goods:\n",
    "            name, amount, price = item.get('название'), item.get('количество'), item.get('цена')\n",
    "            summ = price * amount\n",
    "            total += summ\n",
    "            print(f'{name} {amount} x {price} = {summ}')\n",
    "        print('--------------------------------------------------')\n",
    "        print(f'Итого: {total}')\n",
    "\n",
    "    @classmethod\n",
    "    def get_info(cls, sales=False):\n",
    "        if sales:\n",
    "            sales_d = dict(sales)           \n",
    "            temp = []\n",
    "            for n, item in enumerate(cls.__goods):\n",
    "                if item.get('название') in sales_d:\n",
    "                    item['количество'] = item.get('количество') - sales_d[item.get('название')]\n",
    "                if item.get('количество') <= 0:\n",
    "                    cls.__goods.pop(n)\n",
    "        cls.print_info()\n",
    "\n",
    "print(hasattr(Shop, '_Shop__goods'))\n",
    "print()\n",
    "Shop.get_info()\n",
    "print()\n",
    "Shop.get_info([['порча воздуха', 20], ['массаж ауры', 10]])"
   ]
  },
  {
   "cell_type": "code",
   "execution_count": 379,
   "metadata": {},
   "outputs": [
    {
     "name": "stdout",
     "output_type": "stream",
     "text": [
      "порча воздуха 5 x 500 = 2500\n",
      "гадание по копчику 25 x 750 = 18750\n",
      "амулет улетности 30 x 600 = 18000\n",
      "кириешки 75 x 30 = 2250\n",
      "эликсир счастья в следующей жизни 15 x 700 = 10500\n",
      "массаж ауры 5 x 1500 = 7500\n",
      "сохранить душу на флешку 25 x 3000 = 75000\n",
      "Рагнарёк 0 x 25000 = 0\n",
      "--------------------------------------------------\n",
      "Итого: 134500\n",
      "\n",
      "порча воздуха 5 x 500 = 2500\n",
      "гадание по копчику 25 x 750 = 18750\n",
      "амулет улетности 30 x 600 = 18000\n",
      "кириешки 75 x 30 = 2250\n",
      "эликсир счастья в следующей жизни 15 x 700 = 10500\n",
      "массаж ауры 5 x 1500 = 7500\n",
      "сохранить душу на флешку 25 x 3000 = 75000\n",
      "--------------------------------------------------\n",
      "Итого: 134500\n",
      "\n",
      "порча воздуха 5 x 500 = 2500\n",
      "амулет улетности 30 x 600 = 18000\n",
      "кириешки 0 x 30 = 0\n",
      "эликсир счастья в следующей жизни 15 x 700 = 10500\n",
      "массаж ауры 5 x 1500 = 7500\n",
      "сохранить душу на флешку 25 x 3000 = 75000\n",
      "--------------------------------------------------\n",
      "Итого: 113500\n"
     ]
    }
   ],
   "source": [
    "Shop.get_info([['Рагнарёк', 1], ['проницательное сопенье', 2]])\n",
    "print()\n",
    "Shop.get_info([['Рагнарёк', 1], ['вечное урчание желудка', 12]])\n",
    "print()\n",
    "Shop.get_info([['гадание по копчику', 30], ['кириешки', 75]])"
   ]
  },
  {
   "cell_type": "markdown",
   "metadata": {},
   "source": [
    "# 2.2 Property."
   ]
  },
  {
   "cell_type": "code",
   "execution_count": null,
   "metadata": {},
   "outputs": [],
   "source": []
  },
  {
   "cell_type": "code",
   "execution_count": null,
   "metadata": {},
   "outputs": [],
   "source": []
  },
  {
   "cell_type": "code",
   "execution_count": null,
   "metadata": {},
   "outputs": [],
   "source": []
  },
  {
   "cell_type": "code",
   "execution_count": null,
   "metadata": {},
   "outputs": [],
   "source": []
  }
 ],
 "metadata": {
  "kernelspec": {
   "display_name": "base",
   "language": "python",
   "name": "python3"
  },
  "language_info": {
   "codemirror_mode": {
    "name": "ipython",
    "version": 3
   },
   "file_extension": ".py",
   "mimetype": "text/x-python",
   "name": "python",
   "nbconvert_exporter": "python",
   "pygments_lexer": "ipython3",
   "version": "3.11.11"
  }
 },
 "nbformat": 4,
 "nbformat_minor": 2
}
