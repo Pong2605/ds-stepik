{
 "cells": [
  {
   "cell_type": "code",
   "execution_count": 111,
   "id": "014372b3",
   "metadata": {},
   "outputs": [],
   "source": [
    "import pandas as pd\n",
    "import numpy as np\n",
    "import matplotlib.pyplot as plt"
   ]
  },
  {
   "cell_type": "markdown",
   "id": "87ceb4ff",
   "metadata": {},
   "source": [
    "# 1.1 Чтение данных из файлов"
   ]
  },
  {
   "cell_type": "code",
   "execution_count": 112,
   "id": "56578a10",
   "metadata": {},
   "outputs": [],
   "source": [
    "df_p = pd.read_csv('data/Products.csv', sep=';')\n",
    "df_c = pd.read_csv('data/Customers.csv', sep=';')\n",
    "df_o = pd.read_csv('data/Orders.csv', sep=';')\n",
    "df_od = pd.read_csv('data/Order_details.csv', sep=';')\n",
    "df_e = pd.read_excel('data/Employees.xlsx')"
   ]
  },
  {
   "cell_type": "code",
   "execution_count": 113,
   "id": "b0049eda",
   "metadata": {},
   "outputs": [
    {
     "data": {
      "text/plain": [
       "(2155, 5)"
      ]
     },
     "execution_count": 113,
     "metadata": {},
     "output_type": "execute_result"
    }
   ],
   "source": [
    "df_od.shape"
   ]
  },
  {
   "cell_type": "code",
   "execution_count": 114,
   "id": "eb036ee8",
   "metadata": {},
   "outputs": [
    {
     "data": {
      "text/html": [
       "<div>\n",
       "<style scoped>\n",
       "    .dataframe tbody tr th:only-of-type {\n",
       "        vertical-align: middle;\n",
       "    }\n",
       "\n",
       "    .dataframe tbody tr th {\n",
       "        vertical-align: top;\n",
       "    }\n",
       "\n",
       "    .dataframe thead th {\n",
       "        text-align: right;\n",
       "    }\n",
       "</style>\n",
       "<table border=\"1\" class=\"dataframe\">\n",
       "  <thead>\n",
       "    <tr style=\"text-align: right;\">\n",
       "      <th></th>\n",
       "      <th>Возраст</th>\n",
       "    </tr>\n",
       "  </thead>\n",
       "  <tbody>\n",
       "    <tr>\n",
       "      <th>0</th>\n",
       "      <td>44</td>\n",
       "    </tr>\n",
       "    <tr>\n",
       "      <th>1</th>\n",
       "      <td>35</td>\n",
       "    </tr>\n",
       "    <tr>\n",
       "      <th>2</th>\n",
       "      <td>31</td>\n",
       "    </tr>\n",
       "    <tr>\n",
       "      <th>3</th>\n",
       "      <td>38</td>\n",
       "    </tr>\n",
       "    <tr>\n",
       "      <th>4</th>\n",
       "      <td>32</td>\n",
       "    </tr>\n",
       "  </tbody>\n",
       "</table>\n",
       "</div>"
      ],
      "text/plain": [
       "   Возраст\n",
       "0       44\n",
       "1       35\n",
       "2       31\n",
       "3       38\n",
       "4       32"
      ]
     },
     "execution_count": 114,
     "metadata": {},
     "output_type": "execute_result"
    }
   ],
   "source": [
    "df_r = pd.read_excel('data/Employees.xlsx', sheet_name='Лист3')\n",
    "df_r.head()"
   ]
  },
  {
   "cell_type": "code",
   "execution_count": 115,
   "id": "87fc851f",
   "metadata": {},
   "outputs": [
    {
     "data": {
      "text/html": [
       "<div>\n",
       "<style scoped>\n",
       "    .dataframe tbody tr th:only-of-type {\n",
       "        vertical-align: middle;\n",
       "    }\n",
       "\n",
       "    .dataframe tbody tr th {\n",
       "        vertical-align: top;\n",
       "    }\n",
       "\n",
       "    .dataframe thead th {\n",
       "        text-align: right;\n",
       "    }\n",
       "</style>\n",
       "<table border=\"1\" class=\"dataframe\">\n",
       "  <thead>\n",
       "    <tr style=\"text-align: right;\">\n",
       "      <th></th>\n",
       "      <th>Возраст</th>\n",
       "    </tr>\n",
       "  </thead>\n",
       "  <tbody>\n",
       "    <tr>\n",
       "      <th>mean</th>\n",
       "      <td>42.750000</td>\n",
       "    </tr>\n",
       "    <tr>\n",
       "      <th>std</th>\n",
       "      <td>12.373228</td>\n",
       "    </tr>\n",
       "    <tr>\n",
       "      <th>50%</th>\n",
       "      <td>41.500000</td>\n",
       "    </tr>\n",
       "  </tbody>\n",
       "</table>\n",
       "</div>"
      ],
      "text/plain": [
       "        Возраст\n",
       "mean  42.750000\n",
       "std   12.373228\n",
       "50%   41.500000"
      ]
     },
     "execution_count": 115,
     "metadata": {},
     "output_type": "execute_result"
    }
   ],
   "source": [
    "df_r.describe().loc[['mean', 'std', '50%']]"
   ]
  },
  {
   "cell_type": "code",
   "execution_count": 116,
   "id": "dcd5a1ad",
   "metadata": {},
   "outputs": [
    {
     "data": {
      "text/plain": [
       "'Peter Franken'"
      ]
     },
     "execution_count": 116,
     "metadata": {},
     "output_type": "execute_result"
    }
   ],
   "source": [
    "df_c.loc[24, 'ContactName']"
   ]
  },
  {
   "cell_type": "code",
   "execution_count": 117,
   "id": "48839822",
   "metadata": {},
   "outputs": [
    {
     "data": {
      "text/html": [
       "<div>\n",
       "<style scoped>\n",
       "    .dataframe tbody tr th:only-of-type {\n",
       "        vertical-align: middle;\n",
       "    }\n",
       "\n",
       "    .dataframe tbody tr th {\n",
       "        vertical-align: top;\n",
       "    }\n",
       "\n",
       "    .dataframe thead th {\n",
       "        text-align: right;\n",
       "    }\n",
       "</style>\n",
       "<table border=\"1\" class=\"dataframe\">\n",
       "  <thead>\n",
       "    <tr style=\"text-align: right;\">\n",
       "      <th></th>\n",
       "      <th>OrderID</th>\n",
       "      <th>ProductID</th>\n",
       "      <th>UnitPrice</th>\n",
       "      <th>Quantity</th>\n",
       "      <th>Discount</th>\n",
       "    </tr>\n",
       "  </thead>\n",
       "  <tbody>\n",
       "    <tr>\n",
       "      <th>0</th>\n",
       "      <td>10248</td>\n",
       "      <td>11</td>\n",
       "      <td>14.0</td>\n",
       "      <td>12</td>\n",
       "      <td>0.0</td>\n",
       "    </tr>\n",
       "    <tr>\n",
       "      <th>1</th>\n",
       "      <td>10248</td>\n",
       "      <td>42</td>\n",
       "      <td>9.8</td>\n",
       "      <td>10</td>\n",
       "      <td>0.0</td>\n",
       "    </tr>\n",
       "    <tr>\n",
       "      <th>2</th>\n",
       "      <td>10248</td>\n",
       "      <td>72</td>\n",
       "      <td>34.8</td>\n",
       "      <td>5</td>\n",
       "      <td>0.0</td>\n",
       "    </tr>\n",
       "    <tr>\n",
       "      <th>3</th>\n",
       "      <td>10249</td>\n",
       "      <td>14</td>\n",
       "      <td>18.6</td>\n",
       "      <td>9</td>\n",
       "      <td>0.0</td>\n",
       "    </tr>\n",
       "    <tr>\n",
       "      <th>4</th>\n",
       "      <td>10249</td>\n",
       "      <td>51</td>\n",
       "      <td>42.4</td>\n",
       "      <td>40</td>\n",
       "      <td>0.0</td>\n",
       "    </tr>\n",
       "  </tbody>\n",
       "</table>\n",
       "</div>"
      ],
      "text/plain": [
       "   OrderID  ProductID  UnitPrice  Quantity  Discount\n",
       "0    10248         11       14.0        12       0.0\n",
       "1    10248         42        9.8        10       0.0\n",
       "2    10248         72       34.8         5       0.0\n",
       "3    10249         14       18.6         9       0.0\n",
       "4    10249         51       42.4        40       0.0"
      ]
     },
     "execution_count": 117,
     "metadata": {},
     "output_type": "execute_result"
    }
   ],
   "source": [
    "df_od.head()"
   ]
  },
  {
   "cell_type": "code",
   "execution_count": 118,
   "id": "fb81686c",
   "metadata": {},
   "outputs": [
    {
     "data": {
      "text/plain": [
       "17"
      ]
     },
     "execution_count": 118,
     "metadata": {},
     "output_type": "execute_result"
    }
   ],
   "source": [
    "df_c[df_c['ContactTitle'] == 'Owner'].shape[0]"
   ]
  },
  {
   "cell_type": "code",
   "execution_count": 119,
   "id": "2d686d67",
   "metadata": {},
   "outputs": [],
   "source": [
    "df_o['OrderDate'] = df_o['OrderDate'].astype('datetime64[ns]')"
   ]
  },
  {
   "cell_type": "code",
   "execution_count": 120,
   "id": "d6145248",
   "metadata": {},
   "outputs": [
    {
     "data": {
      "text/plain": [
       "488"
      ]
     },
     "execution_count": 120,
     "metadata": {},
     "output_type": "execute_result"
    }
   ],
   "source": [
    "(df_o['OrderDate'] > '1997-07-05').sum()"
   ]
  },
  {
   "cell_type": "code",
   "execution_count": 121,
   "id": "7936dc95",
   "metadata": {},
   "outputs": [
    {
     "data": {
      "text/plain": [
       "184"
      ]
     },
     "execution_count": 121,
     "metadata": {},
     "output_type": "execute_result"
    }
   ],
   "source": [
    "(df_o['Freight'] <= 10.98).sum()"
   ]
  },
  {
   "cell_type": "code",
   "execution_count": 122,
   "id": "b409b662",
   "metadata": {},
   "outputs": [
    {
     "data": {
      "text/plain": [
       "43"
      ]
     },
     "execution_count": 122,
     "metadata": {},
     "output_type": "execute_result"
    }
   ],
   "source": [
    "df_c['ContactTitle'].isin(['Sales Representative','Sales Agent','Sales Associate','Sales Manager','Assistant Sales Agent', 'Assistant Sales Representative']).sum()"
   ]
  },
  {
   "cell_type": "code",
   "execution_count": 123,
   "id": "a7e28e4d",
   "metadata": {},
   "outputs": [
    {
     "data": {
      "text/plain": [
       "16"
      ]
     },
     "execution_count": 123,
     "metadata": {},
     "output_type": "execute_result"
    }
   ],
   "source": [
    "((df_p['UnitPrice'] >= 18) & (df_p['UnitPrice'] <= 22)).sum()"
   ]
  },
  {
   "cell_type": "code",
   "execution_count": 124,
   "id": "2df5adaa",
   "metadata": {},
   "outputs": [
    {
     "data": {
      "text/plain": [
       "5"
      ]
     },
     "execution_count": 124,
     "metadata": {},
     "output_type": "execute_result"
    }
   ],
   "source": [
    "((df_o['Freight'] > 500) & (df_o['OrderDate'].dt.year == 1997)).sum()"
   ]
  },
  {
   "cell_type": "code",
   "execution_count": 125,
   "id": "b6bb94eb",
   "metadata": {},
   "outputs": [
    {
     "data": {
      "text/plain": [
       "416"
      ]
     },
     "execution_count": 125,
     "metadata": {},
     "output_type": "execute_result"
    }
   ],
   "source": [
    "((df_o['Freight'] > 500) | (df_o['OrderDate'].dt.year == 1997)).sum()"
   ]
  },
  {
   "cell_type": "code",
   "execution_count": 126,
   "id": "b20d4c06",
   "metadata": {},
   "outputs": [
    {
     "data": {
      "text/plain": [
       "10"
      ]
     },
     "execution_count": 126,
     "metadata": {},
     "output_type": "execute_result"
    }
   ],
   "source": [
    "df_c['ContactName'].apply(lambda x: x.startswith('A')).sum()\n",
    "df_c['ContactName'].str.startswith('A').sum()\n",
    "\n",
    "# 102 μs ± 3.56 μs per loop (mean ± std. dev. of 7 runs, 10,000 loops each)\n",
    "# 143 μs ± 711 ns per loop (mean ± std. dev. of 7 runs, 10,000 loops each)"
   ]
  },
  {
   "cell_type": "code",
   "execution_count": 127,
   "id": "58651848",
   "metadata": {},
   "outputs": [
    {
     "data": {
      "text/plain": [
       "2"
      ]
     },
     "execution_count": 127,
     "metadata": {},
     "output_type": "execute_result"
    }
   ],
   "source": [
    "df_c['Phone'].apply(lambda x: '5555' in x).sum()"
   ]
  },
  {
   "cell_type": "code",
   "execution_count": 128,
   "id": "e82302bc",
   "metadata": {},
   "outputs": [
    {
     "data": {
      "text/html": [
       "<div>\n",
       "<style scoped>\n",
       "    .dataframe tbody tr th:only-of-type {\n",
       "        vertical-align: middle;\n",
       "    }\n",
       "\n",
       "    .dataframe tbody tr th {\n",
       "        vertical-align: top;\n",
       "    }\n",
       "\n",
       "    .dataframe thead th {\n",
       "        text-align: right;\n",
       "    }\n",
       "</style>\n",
       "<table border=\"1\" class=\"dataframe\">\n",
       "  <thead>\n",
       "    <tr style=\"text-align: right;\">\n",
       "      <th></th>\n",
       "      <th>OrderID</th>\n",
       "      <th>CustomerID</th>\n",
       "      <th>EmployeeID</th>\n",
       "      <th>OrderDate</th>\n",
       "      <th>RequiredDate</th>\n",
       "      <th>ShippedDate</th>\n",
       "      <th>Freight</th>\n",
       "    </tr>\n",
       "  </thead>\n",
       "  <tbody>\n",
       "    <tr>\n",
       "      <th>429</th>\n",
       "      <td>10677</td>\n",
       "      <td>ANTON</td>\n",
       "      <td>1</td>\n",
       "      <td>1997-09-22</td>\n",
       "      <td>1997-10-20 00:00:00.000</td>\n",
       "      <td>1997-09-26 00:00:00.000</td>\n",
       "      <td>4.03</td>\n",
       "    </tr>\n",
       "    <tr>\n",
       "      <th>287</th>\n",
       "      <td>10535</td>\n",
       "      <td>ANTON</td>\n",
       "      <td>4</td>\n",
       "      <td>1997-05-13</td>\n",
       "      <td>1997-06-10 00:00:00.000</td>\n",
       "      <td>1997-05-21 00:00:00.000</td>\n",
       "      <td>15.64</td>\n",
       "    </tr>\n",
       "    <tr>\n",
       "      <th>434</th>\n",
       "      <td>10682</td>\n",
       "      <td>ANTON</td>\n",
       "      <td>3</td>\n",
       "      <td>1997-09-25</td>\n",
       "      <td>1997-10-23 00:00:00.000</td>\n",
       "      <td>1997-10-01 00:00:00.000</td>\n",
       "      <td>36.13</td>\n",
       "    </tr>\n",
       "    <tr>\n",
       "      <th>259</th>\n",
       "      <td>10507</td>\n",
       "      <td>ANTON</td>\n",
       "      <td>7</td>\n",
       "      <td>1997-04-15</td>\n",
       "      <td>1997-05-13 00:00:00.000</td>\n",
       "      <td>1997-04-22 00:00:00.000</td>\n",
       "      <td>47.45</td>\n",
       "    </tr>\n",
       "    <tr>\n",
       "      <th>325</th>\n",
       "      <td>10573</td>\n",
       "      <td>ANTON</td>\n",
       "      <td>7</td>\n",
       "      <td>1997-06-19</td>\n",
       "      <td>1997-07-17 00:00:00.000</td>\n",
       "      <td>1997-06-20 00:00:00.000</td>\n",
       "      <td>84.84</td>\n",
       "    </tr>\n",
       "  </tbody>\n",
       "</table>\n",
       "</div>"
      ],
      "text/plain": [
       "     OrderID CustomerID  EmployeeID  OrderDate             RequiredDate  \\\n",
       "429    10677      ANTON           1 1997-09-22  1997-10-20 00:00:00.000   \n",
       "287    10535      ANTON           4 1997-05-13  1997-06-10 00:00:00.000   \n",
       "434    10682      ANTON           3 1997-09-25  1997-10-23 00:00:00.000   \n",
       "259    10507      ANTON           7 1997-04-15  1997-05-13 00:00:00.000   \n",
       "325    10573      ANTON           7 1997-06-19  1997-07-17 00:00:00.000   \n",
       "\n",
       "                 ShippedDate  Freight  \n",
       "429  1997-09-26 00:00:00.000     4.03  \n",
       "287  1997-05-21 00:00:00.000    15.64  \n",
       "434  1997-10-01 00:00:00.000    36.13  \n",
       "259  1997-04-22 00:00:00.000    47.45  \n",
       "325  1997-06-20 00:00:00.000    84.84  "
      ]
     },
     "execution_count": 128,
     "metadata": {},
     "output_type": "execute_result"
    }
   ],
   "source": [
    "df_o[df_o['OrderDate'].dt.year == 1997].sort_values(by=['CustomerID', 'Freight'], ascending=[True, True]).loc[df_o['CustomerID'] == 'ANTON']"
   ]
  },
  {
   "cell_type": "code",
   "execution_count": 129,
   "id": "26c19152",
   "metadata": {},
   "outputs": [
    {
     "data": {
      "text/plain": [
       "CustomerID      34\n",
       "ContactName     34\n",
       "ContactTitle    34\n",
       "Phone           34\n",
       "Address         34\n",
       "dtype: int64"
      ]
     },
     "execution_count": 129,
     "metadata": {},
     "output_type": "execute_result"
    }
   ],
   "source": [
    "df_c[df_c['ContactTitle'].isin(['Owner', 'Sales Representative'])].count()"
   ]
  },
  {
   "cell_type": "code",
   "execution_count": 130,
   "id": "f13e7b7f",
   "metadata": {},
   "outputs": [
    {
     "data": {
      "text/plain": [
       "1007.62"
      ]
     },
     "execution_count": 130,
     "metadata": {},
     "output_type": "execute_result"
    }
   ],
   "source": [
    "df_o['Freight'].max() - df_o['Freight'].min()"
   ]
  },
  {
   "cell_type": "code",
   "execution_count": 131,
   "id": "747f0a60",
   "metadata": {},
   "outputs": [
    {
     "data": {
      "text/plain": [
       "776.27"
      ]
     },
     "execution_count": 131,
     "metadata": {},
     "output_type": "execute_result"
    }
   ],
   "source": [
    "df_o[df_o['OrderDate'] == '26-02-1998']['Freight'].sum()"
   ]
  },
  {
   "cell_type": "code",
   "execution_count": 132,
   "id": "9c2786fa",
   "metadata": {},
   "outputs": [
    {
     "data": {
      "text/plain": [
       "ContactTitle\n",
       "Sales Representative              17\n",
       "Owner                             17\n",
       "Marketing Manager                 12\n",
       "Sales Manager                     11\n",
       "Accounting Manager                10\n",
       "Sales Associate                    7\n",
       "Marketing Assistant                6\n",
       "Sales Agent                        5\n",
       "Order Administrator                2\n",
       "Assistant Sales Agent              2\n",
       "Assistant Sales Representative     1\n",
       "Owner/Marketing Assistant          1\n",
       "Name: count, dtype: int64"
      ]
     },
     "execution_count": 132,
     "metadata": {},
     "output_type": "execute_result"
    }
   ],
   "source": [
    "df_c['ContactTitle'].value_counts()"
   ]
  },
  {
   "cell_type": "code",
   "execution_count": 133,
   "id": "87d3658a",
   "metadata": {},
   "outputs": [
    {
     "name": "stdout",
     "output_type": "stream",
     "text": [
      "+----+--------------------------------+--------------+\n",
      "|    | ContactTitle                   |   CustomerID |\n",
      "|----+--------------------------------+--------------|\n",
      "|  0 | Accounting Manager             |           10 |\n",
      "|  1 | Assistant Sales Agent          |            2 |\n",
      "|  2 | Assistant Sales Representative |            1 |\n",
      "|  3 | Marketing Assistant            |            6 |\n",
      "|  4 | Marketing Manager              |           12 |\n",
      "|  5 | Order Administrator            |            2 |\n",
      "|  6 | Owner                          |           17 |\n",
      "|  7 | Owner/Marketing Assistant      |            1 |\n",
      "|  8 | Sales Agent                    |            5 |\n",
      "|  9 | Sales Associate                |            7 |\n",
      "| 10 | Sales Manager                  |           11 |\n",
      "| 11 | Sales Representative           |           17 |\n",
      "+----+--------------------------------+--------------+\n"
     ]
    }
   ],
   "source": [
    "from tabulate import tabulate\n",
    "df_n = df_c.groupby('ContactTitle').CustomerID.count().reset_index()\n",
    "print(tabulate(df_n, headers='keys', tablefmt='psql'))"
   ]
  },
  {
   "cell_type": "code",
   "execution_count": 134,
   "id": "2e1256cf",
   "metadata": {},
   "outputs": [
    {
     "data": {
      "text/html": [
       "<div>\n",
       "<style scoped>\n",
       "    .dataframe tbody tr th:only-of-type {\n",
       "        vertical-align: middle;\n",
       "    }\n",
       "\n",
       "    .dataframe tbody tr th {\n",
       "        vertical-align: top;\n",
       "    }\n",
       "\n",
       "    .dataframe thead th {\n",
       "        text-align: right;\n",
       "    }\n",
       "</style>\n",
       "<table border=\"1\" class=\"dataframe\">\n",
       "  <thead>\n",
       "    <tr style=\"text-align: right;\">\n",
       "      <th></th>\n",
       "      <th>OrderID</th>\n",
       "    </tr>\n",
       "    <tr>\n",
       "      <th>EmployeeID</th>\n",
       "      <th></th>\n",
       "    </tr>\n",
       "  </thead>\n",
       "  <tbody>\n",
       "    <tr>\n",
       "      <th>5</th>\n",
       "      <td>42</td>\n",
       "    </tr>\n",
       "    <tr>\n",
       "      <th>9</th>\n",
       "      <td>43</td>\n",
       "    </tr>\n",
       "    <tr>\n",
       "      <th>6</th>\n",
       "      <td>67</td>\n",
       "    </tr>\n",
       "    <tr>\n",
       "      <th>7</th>\n",
       "      <td>72</td>\n",
       "    </tr>\n",
       "    <tr>\n",
       "      <th>2</th>\n",
       "      <td>96</td>\n",
       "    </tr>\n",
       "  </tbody>\n",
       "</table>\n",
       "</div>"
      ],
      "text/plain": [
       "            OrderID\n",
       "EmployeeID         \n",
       "5                42\n",
       "9                43\n",
       "6                67\n",
       "7                72\n",
       "2                96"
      ]
     },
     "execution_count": 134,
     "metadata": {},
     "output_type": "execute_result"
    }
   ],
   "source": [
    "df_o[['EmployeeID', 'OrderID']].groupby('EmployeeID').count().sort_values('OrderID', ascending=True).head()"
   ]
  },
  {
   "cell_type": "code",
   "execution_count": 135,
   "id": "0b40f76d",
   "metadata": {},
   "outputs": [
    {
     "data": {
      "text/plain": [
       "5"
      ]
     },
     "execution_count": 135,
     "metadata": {},
     "output_type": "execute_result"
    }
   ],
   "source": [
    "df_o.groupby('EmployeeID')['OrderID'].count().idxmin()"
   ]
  },
  {
   "cell_type": "code",
   "execution_count": 136,
   "id": "3d590f5b",
   "metadata": {},
   "outputs": [
    {
     "data": {
      "text/plain": [
       "'19980226'"
      ]
     },
     "execution_count": 136,
     "metadata": {},
     "output_type": "execute_result"
    }
   ],
   "source": [
    "df_o.groupby('OrderDate')['OrderID'].count().idxmax().strftime('%Y%m%d')"
   ]
  },
  {
   "cell_type": "code",
   "execution_count": 137,
   "id": "ca340172",
   "metadata": {},
   "outputs": [
    {
     "data": {
      "text/plain": [
       "6"
      ]
     },
     "execution_count": 137,
     "metadata": {},
     "output_type": "execute_result"
    }
   ],
   "source": [
    "df_o.groupby(['EmployeeID', 'CustomerID'])['OrderID'].count().max()"
   ]
  },
  {
   "cell_type": "code",
   "execution_count": 138,
   "id": "2a92d210",
   "metadata": {},
   "outputs": [],
   "source": [
    "df_od['Discount_fact'] = df_od['UnitPrice'] * df_od['Quantity'] * df_od['Discount']"
   ]
  },
  {
   "cell_type": "code",
   "execution_count": 139,
   "id": "afd0f0ce",
   "metadata": {},
   "outputs": [],
   "source": [
    "df_od['Revenue'] = df_od['UnitPrice'] * df_od['Quantity'] - df_od['Discount_fact']"
   ]
  },
  {
   "cell_type": "code",
   "execution_count": 140,
   "id": "7b12096c",
   "metadata": {},
   "outputs": [
    {
     "data": {
      "text/html": [
       "<div>\n",
       "<style scoped>\n",
       "    .dataframe tbody tr th:only-of-type {\n",
       "        vertical-align: middle;\n",
       "    }\n",
       "\n",
       "    .dataframe tbody tr th {\n",
       "        vertical-align: top;\n",
       "    }\n",
       "\n",
       "    .dataframe thead th {\n",
       "        text-align: right;\n",
       "    }\n",
       "</style>\n",
       "<table border=\"1\" class=\"dataframe\">\n",
       "  <thead>\n",
       "    <tr style=\"text-align: right;\">\n",
       "      <th></th>\n",
       "      <th>OrderID</th>\n",
       "      <th>ProductID</th>\n",
       "      <th>UnitPrice</th>\n",
       "      <th>Quantity</th>\n",
       "      <th>Discount</th>\n",
       "      <th>Discount_fact</th>\n",
       "      <th>Revenue</th>\n",
       "    </tr>\n",
       "  </thead>\n",
       "  <tbody>\n",
       "    <tr>\n",
       "      <th>0</th>\n",
       "      <td>10248</td>\n",
       "      <td>11</td>\n",
       "      <td>14.0</td>\n",
       "      <td>12</td>\n",
       "      <td>0.0</td>\n",
       "      <td>0.0</td>\n",
       "      <td>168.0</td>\n",
       "    </tr>\n",
       "    <tr>\n",
       "      <th>1</th>\n",
       "      <td>10248</td>\n",
       "      <td>42</td>\n",
       "      <td>9.8</td>\n",
       "      <td>10</td>\n",
       "      <td>0.0</td>\n",
       "      <td>0.0</td>\n",
       "      <td>98.0</td>\n",
       "    </tr>\n",
       "    <tr>\n",
       "      <th>2</th>\n",
       "      <td>10248</td>\n",
       "      <td>72</td>\n",
       "      <td>34.8</td>\n",
       "      <td>5</td>\n",
       "      <td>0.0</td>\n",
       "      <td>0.0</td>\n",
       "      <td>174.0</td>\n",
       "    </tr>\n",
       "    <tr>\n",
       "      <th>3</th>\n",
       "      <td>10249</td>\n",
       "      <td>14</td>\n",
       "      <td>18.6</td>\n",
       "      <td>9</td>\n",
       "      <td>0.0</td>\n",
       "      <td>0.0</td>\n",
       "      <td>167.4</td>\n",
       "    </tr>\n",
       "    <tr>\n",
       "      <th>4</th>\n",
       "      <td>10249</td>\n",
       "      <td>51</td>\n",
       "      <td>42.4</td>\n",
       "      <td>40</td>\n",
       "      <td>0.0</td>\n",
       "      <td>0.0</td>\n",
       "      <td>1696.0</td>\n",
       "    </tr>\n",
       "  </tbody>\n",
       "</table>\n",
       "</div>"
      ],
      "text/plain": [
       "   OrderID  ProductID  UnitPrice  Quantity  Discount  Discount_fact  Revenue\n",
       "0    10248         11       14.0        12       0.0            0.0    168.0\n",
       "1    10248         42        9.8        10       0.0            0.0     98.0\n",
       "2    10248         72       34.8         5       0.0            0.0    174.0\n",
       "3    10249         14       18.6         9       0.0            0.0    167.4\n",
       "4    10249         51       42.4        40       0.0            0.0   1696.0"
      ]
     },
     "execution_count": 140,
     "metadata": {},
     "output_type": "execute_result"
    }
   ],
   "source": [
    "df_od.head()"
   ]
  },
  {
   "cell_type": "code",
   "execution_count": 141,
   "id": "6e325aab",
   "metadata": {},
   "outputs": [
    {
     "data": {
      "text/html": [
       "<div>\n",
       "<style scoped>\n",
       "    .dataframe tbody tr th:only-of-type {\n",
       "        vertical-align: middle;\n",
       "    }\n",
       "\n",
       "    .dataframe tbody tr th {\n",
       "        vertical-align: top;\n",
       "    }\n",
       "\n",
       "    .dataframe thead th {\n",
       "        text-align: right;\n",
       "    }\n",
       "</style>\n",
       "<table border=\"1\" class=\"dataframe\">\n",
       "  <thead>\n",
       "    <tr style=\"text-align: right;\">\n",
       "      <th></th>\n",
       "      <th>OrderID</th>\n",
       "      <th>ProductID</th>\n",
       "      <th>UnitPrice</th>\n",
       "      <th>Quantity</th>\n",
       "      <th>Discount</th>\n",
       "      <th>Discount_fact</th>\n",
       "      <th>Revenue</th>\n",
       "    </tr>\n",
       "  </thead>\n",
       "  <tbody>\n",
       "    <tr>\n",
       "      <th>1893</th>\n",
       "      <td>10981</td>\n",
       "      <td>38</td>\n",
       "      <td>263.50</td>\n",
       "      <td>60</td>\n",
       "      <td>0.00</td>\n",
       "      <td>0.00</td>\n",
       "      <td>15810.00</td>\n",
       "    </tr>\n",
       "    <tr>\n",
       "      <th>1620</th>\n",
       "      <td>10865</td>\n",
       "      <td>38</td>\n",
       "      <td>263.50</td>\n",
       "      <td>60</td>\n",
       "      <td>0.05</td>\n",
       "      <td>790.50</td>\n",
       "      <td>15019.50</td>\n",
       "    </tr>\n",
       "    <tr>\n",
       "      <th>449</th>\n",
       "      <td>10417</td>\n",
       "      <td>38</td>\n",
       "      <td>210.80</td>\n",
       "      <td>50</td>\n",
       "      <td>0.00</td>\n",
       "      <td>0.00</td>\n",
       "      <td>10540.00</td>\n",
       "    </tr>\n",
       "    <tr>\n",
       "      <th>1678</th>\n",
       "      <td>10889</td>\n",
       "      <td>38</td>\n",
       "      <td>263.50</td>\n",
       "      <td>40</td>\n",
       "      <td>0.00</td>\n",
       "      <td>0.00</td>\n",
       "      <td>10540.00</td>\n",
       "    </tr>\n",
       "    <tr>\n",
       "      <th>1698</th>\n",
       "      <td>10897</td>\n",
       "      <td>29</td>\n",
       "      <td>123.79</td>\n",
       "      <td>80</td>\n",
       "      <td>0.00</td>\n",
       "      <td>0.00</td>\n",
       "      <td>9903.20</td>\n",
       "    </tr>\n",
       "    <tr>\n",
       "      <th>...</th>\n",
       "      <td>...</td>\n",
       "      <td>...</td>\n",
       "      <td>...</td>\n",
       "      <td>...</td>\n",
       "      <td>...</td>\n",
       "      <td>...</td>\n",
       "      <td>...</td>\n",
       "    </tr>\n",
       "    <tr>\n",
       "      <th>1401</th>\n",
       "      <td>10782</td>\n",
       "      <td>31</td>\n",
       "      <td>12.50</td>\n",
       "      <td>1</td>\n",
       "      <td>0.00</td>\n",
       "      <td>0.00</td>\n",
       "      <td>12.50</td>\n",
       "    </tr>\n",
       "    <tr>\n",
       "      <th>460</th>\n",
       "      <td>10420</td>\n",
       "      <td>13</td>\n",
       "      <td>4.80</td>\n",
       "      <td>2</td>\n",
       "      <td>0.10</td>\n",
       "      <td>0.96</td>\n",
       "      <td>8.64</td>\n",
       "    </tr>\n",
       "    <tr>\n",
       "      <th>1580</th>\n",
       "      <td>10850</td>\n",
       "      <td>33</td>\n",
       "      <td>2.50</td>\n",
       "      <td>4</td>\n",
       "      <td>0.15</td>\n",
       "      <td>1.50</td>\n",
       "      <td>8.50</td>\n",
       "    </tr>\n",
       "    <tr>\n",
       "      <th>86</th>\n",
       "      <td>10281</td>\n",
       "      <td>19</td>\n",
       "      <td>7.30</td>\n",
       "      <td>1</td>\n",
       "      <td>0.00</td>\n",
       "      <td>0.00</td>\n",
       "      <td>7.30</td>\n",
       "    </tr>\n",
       "    <tr>\n",
       "      <th>569</th>\n",
       "      <td>10462</td>\n",
       "      <td>13</td>\n",
       "      <td>4.80</td>\n",
       "      <td>1</td>\n",
       "      <td>0.00</td>\n",
       "      <td>0.00</td>\n",
       "      <td>4.80</td>\n",
       "    </tr>\n",
       "  </tbody>\n",
       "</table>\n",
       "<p>2155 rows × 7 columns</p>\n",
       "</div>"
      ],
      "text/plain": [
       "      OrderID  ProductID  UnitPrice  Quantity  Discount  Discount_fact  \\\n",
       "1893    10981         38     263.50        60      0.00           0.00   \n",
       "1620    10865         38     263.50        60      0.05         790.50   \n",
       "449     10417         38     210.80        50      0.00           0.00   \n",
       "1678    10889         38     263.50        40      0.00           0.00   \n",
       "1698    10897         29     123.79        80      0.00           0.00   \n",
       "...       ...        ...        ...       ...       ...            ...   \n",
       "1401    10782         31      12.50         1      0.00           0.00   \n",
       "460     10420         13       4.80         2      0.10           0.96   \n",
       "1580    10850         33       2.50         4      0.15           1.50   \n",
       "86      10281         19       7.30         1      0.00           0.00   \n",
       "569     10462         13       4.80         1      0.00           0.00   \n",
       "\n",
       "       Revenue  \n",
       "1893  15810.00  \n",
       "1620  15019.50  \n",
       "449   10540.00  \n",
       "1678  10540.00  \n",
       "1698   9903.20  \n",
       "...        ...  \n",
       "1401     12.50  \n",
       "460       8.64  \n",
       "1580      8.50  \n",
       "86        7.30  \n",
       "569       4.80  \n",
       "\n",
       "[2155 rows x 7 columns]"
      ]
     },
     "execution_count": 141,
     "metadata": {},
     "output_type": "execute_result"
    }
   ],
   "source": [
    "df_od.sort_values('Revenue', ascending=False)"
   ]
  },
  {
   "cell_type": "code",
   "execution_count": 142,
   "id": "bde69be7",
   "metadata": {},
   "outputs": [
    {
     "data": {
      "text/plain": [
       "1893    10981\n",
       "Name: OrderID, dtype: int64"
      ]
     },
     "execution_count": 142,
     "metadata": {},
     "output_type": "execute_result"
    }
   ],
   "source": [
    "df_od[df_od['Revenue'] == df_od['Revenue'].max()]['OrderID']"
   ]
  },
  {
   "cell_type": "code",
   "execution_count": 143,
   "id": "a5f37a80",
   "metadata": {},
   "outputs": [
    {
     "data": {
      "text/html": [
       "<div>\n",
       "<style scoped>\n",
       "    .dataframe tbody tr th:only-of-type {\n",
       "        vertical-align: middle;\n",
       "    }\n",
       "\n",
       "    .dataframe tbody tr th {\n",
       "        vertical-align: top;\n",
       "    }\n",
       "\n",
       "    .dataframe thead th {\n",
       "        text-align: right;\n",
       "    }\n",
       "</style>\n",
       "<table border=\"1\" class=\"dataframe\">\n",
       "  <thead>\n",
       "    <tr style=\"text-align: right;\">\n",
       "      <th></th>\n",
       "      <th>EmployeeID</th>\n",
       "      <th>FirstName</th>\n",
       "      <th>LastName</th>\n",
       "      <th>OrderID</th>\n",
       "    </tr>\n",
       "  </thead>\n",
       "  <tbody>\n",
       "    <tr>\n",
       "      <th>0</th>\n",
       "      <td>4</td>\n",
       "      <td>Margaret</td>\n",
       "      <td>Peacock</td>\n",
       "      <td>156</td>\n",
       "    </tr>\n",
       "  </tbody>\n",
       "</table>\n",
       "</div>"
      ],
      "text/plain": [
       "   EmployeeID FirstName LastName  OrderID\n",
       "0           4  Margaret  Peacock      156"
      ]
     },
     "execution_count": 143,
     "metadata": {},
     "output_type": "execute_result"
    }
   ],
   "source": [
    "# Как зовут сотрудника, который оформил больше всего заказов за все время?\n",
    "\n",
    "temp_df = df_o.merge(df_e)\n",
    "temp_df.groupby(['EmployeeID', 'FirstName', 'LastName']).OrderID.count().sort_values(ascending=False).reset_index().head(1)"
   ]
  },
  {
   "cell_type": "code",
   "execution_count": 144,
   "id": "58f89106",
   "metadata": {},
   "outputs": [
    {
     "data": {
      "text/html": [
       "<div>\n",
       "<style scoped>\n",
       "    .dataframe tbody tr th:only-of-type {\n",
       "        vertical-align: middle;\n",
       "    }\n",
       "\n",
       "    .dataframe tbody tr th {\n",
       "        vertical-align: top;\n",
       "    }\n",
       "\n",
       "    .dataframe thead th {\n",
       "        text-align: right;\n",
       "    }\n",
       "</style>\n",
       "<table border=\"1\" class=\"dataframe\">\n",
       "  <thead>\n",
       "    <tr style=\"text-align: right;\">\n",
       "      <th></th>\n",
       "      <th>CustomerID</th>\n",
       "      <th>ContactName</th>\n",
       "      <th>ContactTitle</th>\n",
       "      <th>Phone</th>\n",
       "      <th>Address</th>\n",
       "    </tr>\n",
       "  </thead>\n",
       "  <tbody>\n",
       "    <tr>\n",
       "      <th>0</th>\n",
       "      <td>ALFKI</td>\n",
       "      <td>Maria Anders</td>\n",
       "      <td>Sales Representative</td>\n",
       "      <td>030-0074321</td>\n",
       "      <td>Obere Str. 57</td>\n",
       "    </tr>\n",
       "  </tbody>\n",
       "</table>\n",
       "</div>"
      ],
      "text/plain": [
       "  CustomerID   ContactName          ContactTitle        Phone        Address\n",
       "0      ALFKI  Maria Anders  Sales Representative  030-0074321  Obere Str. 57"
      ]
     },
     "metadata": {},
     "output_type": "display_data"
    },
    {
     "data": {
      "text/html": [
       "<div>\n",
       "<style scoped>\n",
       "    .dataframe tbody tr th:only-of-type {\n",
       "        vertical-align: middle;\n",
       "    }\n",
       "\n",
       "    .dataframe tbody tr th {\n",
       "        vertical-align: top;\n",
       "    }\n",
       "\n",
       "    .dataframe thead th {\n",
       "        text-align: right;\n",
       "    }\n",
       "</style>\n",
       "<table border=\"1\" class=\"dataframe\">\n",
       "  <thead>\n",
       "    <tr style=\"text-align: right;\">\n",
       "      <th></th>\n",
       "      <th>OrderID</th>\n",
       "      <th>CustomerID</th>\n",
       "      <th>EmployeeID</th>\n",
       "      <th>OrderDate</th>\n",
       "      <th>RequiredDate</th>\n",
       "      <th>ShippedDate</th>\n",
       "      <th>Freight</th>\n",
       "    </tr>\n",
       "  </thead>\n",
       "  <tbody>\n",
       "    <tr>\n",
       "      <th>0</th>\n",
       "      <td>10248</td>\n",
       "      <td>VINET</td>\n",
       "      <td>5</td>\n",
       "      <td>1996-07-04</td>\n",
       "      <td>1996-08-01 00:00:00.000</td>\n",
       "      <td>1996-07-16 00:00:00.000</td>\n",
       "      <td>32.38</td>\n",
       "    </tr>\n",
       "  </tbody>\n",
       "</table>\n",
       "</div>"
      ],
      "text/plain": [
       "   OrderID CustomerID  EmployeeID  OrderDate             RequiredDate  \\\n",
       "0    10248      VINET           5 1996-07-04  1996-08-01 00:00:00.000   \n",
       "\n",
       "               ShippedDate  Freight  \n",
       "0  1996-07-16 00:00:00.000    32.38  "
      ]
     },
     "metadata": {},
     "output_type": "display_data"
    },
    {
     "data": {
      "text/html": [
       "<div>\n",
       "<style scoped>\n",
       "    .dataframe tbody tr th:only-of-type {\n",
       "        vertical-align: middle;\n",
       "    }\n",
       "\n",
       "    .dataframe tbody tr th {\n",
       "        vertical-align: top;\n",
       "    }\n",
       "\n",
       "    .dataframe thead th {\n",
       "        text-align: right;\n",
       "    }\n",
       "</style>\n",
       "<table border=\"1\" class=\"dataframe\">\n",
       "  <thead>\n",
       "    <tr style=\"text-align: right;\">\n",
       "      <th></th>\n",
       "      <th>OrderID</th>\n",
       "      <th>ProductID</th>\n",
       "      <th>UnitPrice</th>\n",
       "      <th>Quantity</th>\n",
       "      <th>Discount</th>\n",
       "      <th>Discount_fact</th>\n",
       "      <th>Revenue</th>\n",
       "    </tr>\n",
       "  </thead>\n",
       "  <tbody>\n",
       "    <tr>\n",
       "      <th>0</th>\n",
       "      <td>10248</td>\n",
       "      <td>11</td>\n",
       "      <td>14.0</td>\n",
       "      <td>12</td>\n",
       "      <td>0.0</td>\n",
       "      <td>0.0</td>\n",
       "      <td>168.0</td>\n",
       "    </tr>\n",
       "  </tbody>\n",
       "</table>\n",
       "</div>"
      ],
      "text/plain": [
       "   OrderID  ProductID  UnitPrice  Quantity  Discount  Discount_fact  Revenue\n",
       "0    10248         11       14.0        12       0.0            0.0    168.0"
      ]
     },
     "metadata": {},
     "output_type": "display_data"
    }
   ],
   "source": [
    "# Как зовут клиента, который принес самую высокую чистую выручку за все время?\n",
    "display(df_c.head(1), df_o.head(1), df_od.head(1))"
   ]
  },
  {
   "cell_type": "code",
   "execution_count": 145,
   "id": "29795b33",
   "metadata": {},
   "outputs": [],
   "source": [
    "temp_df = pd.merge(df_c, df_o, on='CustomerID').merge(df_od, on='OrderID')"
   ]
  },
  {
   "cell_type": "code",
   "execution_count": 146,
   "id": "72473d82",
   "metadata": {},
   "outputs": [
    {
     "data": {
      "text/html": [
       "<div>\n",
       "<style scoped>\n",
       "    .dataframe tbody tr th:only-of-type {\n",
       "        vertical-align: middle;\n",
       "    }\n",
       "\n",
       "    .dataframe tbody tr th {\n",
       "        vertical-align: top;\n",
       "    }\n",
       "\n",
       "    .dataframe thead th {\n",
       "        text-align: right;\n",
       "    }\n",
       "</style>\n",
       "<table border=\"1\" class=\"dataframe\">\n",
       "  <thead>\n",
       "    <tr style=\"text-align: right;\">\n",
       "      <th></th>\n",
       "      <th>ContactName</th>\n",
       "      <th>Revenue</th>\n",
       "    </tr>\n",
       "  </thead>\n",
       "  <tbody>\n",
       "    <tr>\n",
       "      <th>0</th>\n",
       "      <td>Horst Kloss</td>\n",
       "      <td>110277.305</td>\n",
       "    </tr>\n",
       "  </tbody>\n",
       "</table>\n",
       "</div>"
      ],
      "text/plain": [
       "   ContactName     Revenue\n",
       "0  Horst Kloss  110277.305"
      ]
     },
     "execution_count": 146,
     "metadata": {},
     "output_type": "execute_result"
    }
   ],
   "source": [
    "temp_df[['ContactName', 'Revenue']].groupby('ContactName').sum().sort_values(by='Revenue', ascending=False).reset_index().head(1)"
   ]
  },
  {
   "cell_type": "code",
   "execution_count": 147,
   "id": "0031d13c",
   "metadata": {},
   "outputs": [
    {
     "data": {
      "text/html": [
       "<div>\n",
       "<style scoped>\n",
       "    .dataframe tbody tr th:only-of-type {\n",
       "        vertical-align: middle;\n",
       "    }\n",
       "\n",
       "    .dataframe tbody tr th {\n",
       "        vertical-align: top;\n",
       "    }\n",
       "\n",
       "    .dataframe thead th {\n",
       "        text-align: right;\n",
       "    }\n",
       "</style>\n",
       "<table border=\"1\" class=\"dataframe\">\n",
       "  <thead>\n",
       "    <tr style=\"text-align: right;\">\n",
       "      <th></th>\n",
       "      <th>ProductID</th>\n",
       "      <th>ProductName</th>\n",
       "      <th>Product_Description</th>\n",
       "      <th>UnitPrice</th>\n",
       "      <th>CategoryID</th>\n",
       "      <th>CategoryName</th>\n",
       "      <th>Category_Description</th>\n",
       "    </tr>\n",
       "  </thead>\n",
       "  <tbody>\n",
       "    <tr>\n",
       "      <th>0</th>\n",
       "      <td>1</td>\n",
       "      <td>Chai</td>\n",
       "      <td>10 boxes x 20 bags</td>\n",
       "      <td>18.0</td>\n",
       "      <td>1</td>\n",
       "      <td>Beverages</td>\n",
       "      <td>Soft drinks. coffees. teas. beers. and ales</td>\n",
       "    </tr>\n",
       "  </tbody>\n",
       "</table>\n",
       "</div>"
      ],
      "text/plain": [
       "   ProductID ProductName Product_Description  UnitPrice  CategoryID  \\\n",
       "0          1        Chai  10 boxes x 20 bags       18.0           1   \n",
       "\n",
       "  CategoryName                         Category_Description  \n",
       "0    Beverages  Soft drinks. coffees. teas. beers. and ales  "
      ]
     },
     "metadata": {},
     "output_type": "display_data"
    },
    {
     "data": {
      "text/html": [
       "<div>\n",
       "<style scoped>\n",
       "    .dataframe tbody tr th:only-of-type {\n",
       "        vertical-align: middle;\n",
       "    }\n",
       "\n",
       "    .dataframe tbody tr th {\n",
       "        vertical-align: top;\n",
       "    }\n",
       "\n",
       "    .dataframe thead th {\n",
       "        text-align: right;\n",
       "    }\n",
       "</style>\n",
       "<table border=\"1\" class=\"dataframe\">\n",
       "  <thead>\n",
       "    <tr style=\"text-align: right;\">\n",
       "      <th></th>\n",
       "      <th>OrderID</th>\n",
       "      <th>ProductID</th>\n",
       "      <th>UnitPrice</th>\n",
       "      <th>Quantity</th>\n",
       "      <th>Discount</th>\n",
       "      <th>Discount_fact</th>\n",
       "      <th>Revenue</th>\n",
       "    </tr>\n",
       "  </thead>\n",
       "  <tbody>\n",
       "    <tr>\n",
       "      <th>0</th>\n",
       "      <td>10248</td>\n",
       "      <td>11</td>\n",
       "      <td>14.0</td>\n",
       "      <td>12</td>\n",
       "      <td>0.0</td>\n",
       "      <td>0.0</td>\n",
       "      <td>168.0</td>\n",
       "    </tr>\n",
       "  </tbody>\n",
       "</table>\n",
       "</div>"
      ],
      "text/plain": [
       "   OrderID  ProductID  UnitPrice  Quantity  Discount  Discount_fact  Revenue\n",
       "0    10248         11       14.0        12       0.0            0.0    168.0"
      ]
     },
     "metadata": {},
     "output_type": "display_data"
    }
   ],
   "source": [
    "# Какая категория товаров принесла самую высокую чистую выручку?\n",
    "display(df_p.head(1), df_od.head(1))"
   ]
  },
  {
   "cell_type": "code",
   "execution_count": 148,
   "id": "df45eb4c",
   "metadata": {},
   "outputs": [
    {
     "data": {
      "text/html": [
       "<div>\n",
       "<style scoped>\n",
       "    .dataframe tbody tr th:only-of-type {\n",
       "        vertical-align: middle;\n",
       "    }\n",
       "\n",
       "    .dataframe tbody tr th {\n",
       "        vertical-align: top;\n",
       "    }\n",
       "\n",
       "    .dataframe thead th {\n",
       "        text-align: right;\n",
       "    }\n",
       "</style>\n",
       "<table border=\"1\" class=\"dataframe\">\n",
       "  <thead>\n",
       "    <tr style=\"text-align: right;\">\n",
       "      <th></th>\n",
       "      <th>CategoryName</th>\n",
       "      <th>Revenue</th>\n",
       "    </tr>\n",
       "  </thead>\n",
       "  <tbody>\n",
       "    <tr>\n",
       "      <th>0</th>\n",
       "      <td>Beverages</td>\n",
       "      <td>267868.18</td>\n",
       "    </tr>\n",
       "  </tbody>\n",
       "</table>\n",
       "</div>"
      ],
      "text/plain": [
       "  CategoryName    Revenue\n",
       "0    Beverages  267868.18"
      ]
     },
     "execution_count": 148,
     "metadata": {},
     "output_type": "execute_result"
    }
   ],
   "source": [
    "temp_df = pd.merge(df_p, df_od, on='ProductID')\n",
    "temp_df[['CategoryName', 'Revenue']].groupby('CategoryName').sum().sort_values(by='Revenue', ascending=False).reset_index().head(1)"
   ]
  },
  {
   "cell_type": "code",
   "execution_count": 149,
   "id": "e74fbafe",
   "metadata": {},
   "outputs": [
    {
     "data": {
      "text/plain": [
       "167357.225"
      ]
     },
     "execution_count": 149,
     "metadata": {},
     "output_type": "execute_result"
    }
   ],
   "source": [
    "# Какую чистую выручку принесла категория Confections?\n",
    "\n",
    "temp_df.loc[temp_df['CategoryName'] == 'Confections', 'Revenue'].sum()"
   ]
  },
  {
   "cell_type": "code",
   "execution_count": 150,
   "id": "de7ec467",
   "metadata": {},
   "outputs": [
    {
     "data": {
      "text/html": [
       "<div>\n",
       "<style scoped>\n",
       "    .dataframe tbody tr th:only-of-type {\n",
       "        vertical-align: middle;\n",
       "    }\n",
       "\n",
       "    .dataframe tbody tr th {\n",
       "        vertical-align: top;\n",
       "    }\n",
       "\n",
       "    .dataframe thead th {\n",
       "        text-align: right;\n",
       "    }\n",
       "</style>\n",
       "<table border=\"1\" class=\"dataframe\">\n",
       "  <thead>\n",
       "    <tr style=\"text-align: right;\">\n",
       "      <th></th>\n",
       "      <th>CustomerID</th>\n",
       "      <th>ContactName</th>\n",
       "      <th>ContactTitle</th>\n",
       "      <th>Phone</th>\n",
       "      <th>Address</th>\n",
       "    </tr>\n",
       "  </thead>\n",
       "  <tbody>\n",
       "    <tr>\n",
       "      <th>0</th>\n",
       "      <td>ALFKI</td>\n",
       "      <td>Maria Anders</td>\n",
       "      <td>Sales Representative</td>\n",
       "      <td>030-0074321</td>\n",
       "      <td>Obere Str. 57</td>\n",
       "    </tr>\n",
       "  </tbody>\n",
       "</table>\n",
       "</div>"
      ],
      "text/plain": [
       "  CustomerID   ContactName          ContactTitle        Phone        Address\n",
       "0      ALFKI  Maria Anders  Sales Representative  030-0074321  Obere Str. 57"
      ]
     },
     "metadata": {},
     "output_type": "display_data"
    },
    {
     "data": {
      "text/html": [
       "<div>\n",
       "<style scoped>\n",
       "    .dataframe tbody tr th:only-of-type {\n",
       "        vertical-align: middle;\n",
       "    }\n",
       "\n",
       "    .dataframe tbody tr th {\n",
       "        vertical-align: top;\n",
       "    }\n",
       "\n",
       "    .dataframe thead th {\n",
       "        text-align: right;\n",
       "    }\n",
       "</style>\n",
       "<table border=\"1\" class=\"dataframe\">\n",
       "  <thead>\n",
       "    <tr style=\"text-align: right;\">\n",
       "      <th></th>\n",
       "      <th>EmployeeID</th>\n",
       "      <th>FirstName</th>\n",
       "      <th>LastName</th>\n",
       "      <th>Title</th>\n",
       "      <th>TitleOfCourtesy</th>\n",
       "      <th>BirthDate</th>\n",
       "      <th>HireDate</th>\n",
       "      <th>Address</th>\n",
       "      <th>HomePhone</th>\n",
       "    </tr>\n",
       "  </thead>\n",
       "  <tbody>\n",
       "    <tr>\n",
       "      <th>0</th>\n",
       "      <td>1</td>\n",
       "      <td>Nancy</td>\n",
       "      <td>Davolio</td>\n",
       "      <td>Sales Representative</td>\n",
       "      <td>Ms.</td>\n",
       "      <td>1948-12-08 00:00:00.000</td>\n",
       "      <td>1992-05-01 00:00:00.000</td>\n",
       "      <td>507 - 20th Ave. E.  Apt. 2A</td>\n",
       "      <td>(206) 555-9857</td>\n",
       "    </tr>\n",
       "  </tbody>\n",
       "</table>\n",
       "</div>"
      ],
      "text/plain": [
       "   EmployeeID FirstName LastName                 Title TitleOfCourtesy  \\\n",
       "0           1     Nancy  Davolio  Sales Representative             Ms.   \n",
       "\n",
       "                 BirthDate                 HireDate  \\\n",
       "0  1948-12-08 00:00:00.000  1992-05-01 00:00:00.000   \n",
       "\n",
       "                       Address       HomePhone  \n",
       "0  507 - 20th Ave. E.  Apt. 2A  (206) 555-9857  "
      ]
     },
     "metadata": {},
     "output_type": "display_data"
    }
   ],
   "source": [
    "# C помощью метода .concat() объедините должности сотрудников и должности клиентов. Сколько человек состоят в должности Sales Representative?\n",
    "\n",
    "display(df_c.head(1), df_e.head(1))"
   ]
  },
  {
   "cell_type": "code",
   "execution_count": 151,
   "id": "965515a5",
   "metadata": {},
   "outputs": [
    {
     "data": {
      "text/plain": [
       "Sales Representative              23\n",
       "Owner                             17\n",
       "Marketing Manager                 12\n",
       "Sales Manager                     12\n",
       "Accounting Manager                10\n",
       "Sales Associate                    7\n",
       "Marketing Assistant                6\n",
       "Sales Agent                        5\n",
       "Order Administrator                2\n",
       "Assistant Sales Agent              2\n",
       "Assistant Sales Representative     1\n",
       "Owner/Marketing Assistant          1\n",
       "Vice President, Sales              1\n",
       "Inside Sales Coordinator           1\n",
       "Name: count, dtype: int64"
      ]
     },
     "execution_count": 151,
     "metadata": {},
     "output_type": "execute_result"
    }
   ],
   "source": [
    "pd.concat([df_c['ContactTitle'], df_e['Title']]).value_counts()"
   ]
  },
  {
   "cell_type": "code",
   "execution_count": 152,
   "id": "357377c2",
   "metadata": {},
   "outputs": [
    {
     "data": {
      "text/plain": [
       "OrderID    041998\n",
       "dtype: object"
      ]
     },
     "execution_count": 152,
     "metadata": {},
     "output_type": "execute_result"
    }
   ],
   "source": [
    "# В каком месяце было совершено рекордное количество заказов? Месяц запишите в формате 062022.\n",
    "\n",
    "df_o['Month_Year'] = df_o['OrderDate'].dt.strftime('%m%Y')\n",
    "df_o[['Month_Year', 'OrderID']].groupby('Month_Year').sum().idxmax()"
   ]
  },
  {
   "cell_type": "code",
   "execution_count": 153,
   "id": "1a183af4",
   "metadata": {},
   "outputs": [
    {
     "data": {
      "text/plain": [
       "5"
      ]
     },
     "execution_count": 153,
     "metadata": {},
     "output_type": "execute_result"
    }
   ],
   "source": [
    "# Сколько заказов было сделано на 43 неделе 1996 года?\n",
    "\n",
    "df_o[(df_o['OrderDate'].dt.year == 1996) & (df_o['OrderDate'].dt.isocalendar().week == 43)].shape[0]"
   ]
  },
  {
   "cell_type": "code",
   "execution_count": 154,
   "id": "720b7ca3",
   "metadata": {},
   "outputs": [
    {
     "data": {
      "text/html": [
       "<div>\n",
       "<style scoped>\n",
       "    .dataframe tbody tr th:only-of-type {\n",
       "        vertical-align: middle;\n",
       "    }\n",
       "\n",
       "    .dataframe tbody tr th {\n",
       "        vertical-align: top;\n",
       "    }\n",
       "\n",
       "    .dataframe thead th {\n",
       "        text-align: right;\n",
       "    }\n",
       "</style>\n",
       "<table border=\"1\" class=\"dataframe\">\n",
       "  <thead>\n",
       "    <tr style=\"text-align: right;\">\n",
       "      <th></th>\n",
       "      <th>OrderID</th>\n",
       "      <th>CustomerID</th>\n",
       "      <th>EmployeeID</th>\n",
       "      <th>OrderDate</th>\n",
       "      <th>RequiredDate</th>\n",
       "      <th>ShippedDate</th>\n",
       "      <th>Freight</th>\n",
       "      <th>Month_Year</th>\n",
       "    </tr>\n",
       "  </thead>\n",
       "  <tbody>\n",
       "    <tr>\n",
       "      <th>0</th>\n",
       "      <td>10248</td>\n",
       "      <td>VINET</td>\n",
       "      <td>5</td>\n",
       "      <td>1996-07-04</td>\n",
       "      <td>1996-08-01 00:00:00.000</td>\n",
       "      <td>1996-07-16 00:00:00.000</td>\n",
       "      <td>32.38</td>\n",
       "      <td>071996</td>\n",
       "    </tr>\n",
       "  </tbody>\n",
       "</table>\n",
       "</div>"
      ],
      "text/plain": [
       "   OrderID CustomerID  EmployeeID  OrderDate             RequiredDate  \\\n",
       "0    10248      VINET           5 1996-07-04  1996-08-01 00:00:00.000   \n",
       "\n",
       "               ShippedDate  Freight Month_Year  \n",
       "0  1996-07-16 00:00:00.000    32.38     071996  "
      ]
     },
     "metadata": {},
     "output_type": "display_data"
    },
    {
     "data": {
      "text/html": [
       "<div>\n",
       "<style scoped>\n",
       "    .dataframe tbody tr th:only-of-type {\n",
       "        vertical-align: middle;\n",
       "    }\n",
       "\n",
       "    .dataframe tbody tr th {\n",
       "        vertical-align: top;\n",
       "    }\n",
       "\n",
       "    .dataframe thead th {\n",
       "        text-align: right;\n",
       "    }\n",
       "</style>\n",
       "<table border=\"1\" class=\"dataframe\">\n",
       "  <thead>\n",
       "    <tr style=\"text-align: right;\">\n",
       "      <th></th>\n",
       "      <th>OrderID</th>\n",
       "      <th>ProductID</th>\n",
       "      <th>UnitPrice</th>\n",
       "      <th>Quantity</th>\n",
       "      <th>Discount</th>\n",
       "      <th>Discount_fact</th>\n",
       "      <th>Revenue</th>\n",
       "    </tr>\n",
       "  </thead>\n",
       "  <tbody>\n",
       "    <tr>\n",
       "      <th>0</th>\n",
       "      <td>10248</td>\n",
       "      <td>11</td>\n",
       "      <td>14.0</td>\n",
       "      <td>12</td>\n",
       "      <td>0.0</td>\n",
       "      <td>0.0</td>\n",
       "      <td>168.0</td>\n",
       "    </tr>\n",
       "  </tbody>\n",
       "</table>\n",
       "</div>"
      ],
      "text/plain": [
       "   OrderID  ProductID  UnitPrice  Quantity  Discount  Discount_fact  Revenue\n",
       "0    10248         11       14.0        12       0.0            0.0    168.0"
      ]
     },
     "metadata": {},
     "output_type": "display_data"
    }
   ],
   "source": [
    "# Посчитайте рекордную чистую выручку, которую сделал один сотрудник в месяц?\n",
    "display(df_o.head(1), df_od.head(1))"
   ]
  },
  {
   "cell_type": "code",
   "execution_count": 155,
   "id": "73d2a8a4",
   "metadata": {},
   "outputs": [
    {
     "data": {
      "text/plain": [
       "Revenue    30990.28\n",
       "dtype: float64"
      ]
     },
     "execution_count": 155,
     "metadata": {},
     "output_type": "execute_result"
    }
   ],
   "source": [
    "df_o['Month_Year'] = df_o['OrderDate'].dt.strftime('%m-%Y')\n",
    "temp_df = pd.merge(df_o, df_od, on='OrderID')[['Month_Year', 'EmployeeID', 'Revenue']]\n",
    "temp_df.groupby(by=['Month_Year', 'EmployeeID']).agg({'Revenue': 'sum'}).max()"
   ]
  },
  {
   "cell_type": "code",
   "execution_count": 156,
   "id": "60a9a6fe",
   "metadata": {},
   "outputs": [
    {
     "data": {
      "text/html": [
       "<div>\n",
       "<style scoped>\n",
       "    .dataframe tbody tr th:only-of-type {\n",
       "        vertical-align: middle;\n",
       "    }\n",
       "\n",
       "    .dataframe tbody tr th {\n",
       "        vertical-align: top;\n",
       "    }\n",
       "\n",
       "    .dataframe thead th {\n",
       "        text-align: right;\n",
       "    }\n",
       "</style>\n",
       "<table border=\"1\" class=\"dataframe\">\n",
       "  <thead>\n",
       "    <tr style=\"text-align: right;\">\n",
       "      <th></th>\n",
       "      <th>OrderID</th>\n",
       "      <th>CustomerID</th>\n",
       "      <th>EmployeeID</th>\n",
       "      <th>OrderDate</th>\n",
       "      <th>RequiredDate</th>\n",
       "      <th>ShippedDate</th>\n",
       "      <th>Freight</th>\n",
       "      <th>Month_Year</th>\n",
       "    </tr>\n",
       "  </thead>\n",
       "  <tbody>\n",
       "    <tr>\n",
       "      <th>0</th>\n",
       "      <td>10248</td>\n",
       "      <td>VINET</td>\n",
       "      <td>5</td>\n",
       "      <td>1996-07-04</td>\n",
       "      <td>1996-08-01 00:00:00.000</td>\n",
       "      <td>1996-07-16 00:00:00.000</td>\n",
       "      <td>32.38</td>\n",
       "      <td>07-1996</td>\n",
       "    </tr>\n",
       "  </tbody>\n",
       "</table>\n",
       "</div>"
      ],
      "text/plain": [
       "   OrderID CustomerID  EmployeeID  OrderDate             RequiredDate  \\\n",
       "0    10248      VINET           5 1996-07-04  1996-08-01 00:00:00.000   \n",
       "\n",
       "               ShippedDate  Freight Month_Year  \n",
       "0  1996-07-16 00:00:00.000    32.38    07-1996  "
      ]
     },
     "execution_count": 156,
     "metadata": {},
     "output_type": "execute_result"
    }
   ],
   "source": [
    "# С помощью метода .pivot_table() постройте сводную таблицу, \n",
    "# в которой по вертикали будут годы, а по горизонтали кварталы. \n",
    "# Посчитайте количество заказов. Сколько заказов было оформлено в 1 квартале 1998 года?\n",
    "\n",
    "df_o.head(1)"
   ]
  },
  {
   "cell_type": "code",
   "execution_count": 157,
   "id": "a3c1e79b",
   "metadata": {},
   "outputs": [
    {
     "data": {
      "text/plain": [
       "182"
      ]
     },
     "execution_count": 157,
     "metadata": {},
     "output_type": "execute_result"
    }
   ],
   "source": [
    "df_o.pivot_table(index=df_o['OrderDate'].dt.quarter, \n",
    "                 columns=df_o['OrderDate'].dt.year,\n",
    "                 values='OrderID',\n",
    "                 aggfunc='count',\n",
    "                 fill_value=0).rename_axis(None, axis=1).loc[1, 1998]"
   ]
  },
  {
   "cell_type": "code",
   "execution_count": 158,
   "id": "de88f53a",
   "metadata": {},
   "outputs": [
    {
     "data": {
      "text/html": [
       "<div>\n",
       "<style scoped>\n",
       "    .dataframe tbody tr th:only-of-type {\n",
       "        vertical-align: middle;\n",
       "    }\n",
       "\n",
       "    .dataframe tbody tr th {\n",
       "        vertical-align: top;\n",
       "    }\n",
       "\n",
       "    .dataframe thead th {\n",
       "        text-align: right;\n",
       "    }\n",
       "</style>\n",
       "<table border=\"1\" class=\"dataframe\">\n",
       "  <thead>\n",
       "    <tr style=\"text-align: right;\">\n",
       "      <th></th>\n",
       "      <th>EmployeeID</th>\n",
       "      <th>FirstName</th>\n",
       "      <th>LastName</th>\n",
       "      <th>Title</th>\n",
       "      <th>TitleOfCourtesy</th>\n",
       "      <th>BirthDate</th>\n",
       "      <th>HireDate</th>\n",
       "      <th>Address</th>\n",
       "      <th>HomePhone</th>\n",
       "    </tr>\n",
       "  </thead>\n",
       "  <tbody>\n",
       "    <tr>\n",
       "      <th>0</th>\n",
       "      <td>1</td>\n",
       "      <td>Nancy</td>\n",
       "      <td>Davolio</td>\n",
       "      <td>Sales Representative</td>\n",
       "      <td>Ms.</td>\n",
       "      <td>1948-12-08 00:00:00.000</td>\n",
       "      <td>1992-05-01 00:00:00.000</td>\n",
       "      <td>507 - 20th Ave. E.  Apt. 2A</td>\n",
       "      <td>(206) 555-9857</td>\n",
       "    </tr>\n",
       "    <tr>\n",
       "      <th>1</th>\n",
       "      <td>2</td>\n",
       "      <td>Andrew</td>\n",
       "      <td>Fuller</td>\n",
       "      <td>Vice President, Sales</td>\n",
       "      <td>Dr.</td>\n",
       "      <td>1952-02-19 00:00:00.000</td>\n",
       "      <td>1992-08-14 00:00:00.000</td>\n",
       "      <td>908 W. Capital Way</td>\n",
       "      <td>(206) 555-9482</td>\n",
       "    </tr>\n",
       "    <tr>\n",
       "      <th>2</th>\n",
       "      <td>3</td>\n",
       "      <td>Janet</td>\n",
       "      <td>Leverling</td>\n",
       "      <td>Sales Representative</td>\n",
       "      <td>Ms.</td>\n",
       "      <td>1963-08-30 00:00:00.000</td>\n",
       "      <td>1992-04-01 00:00:00.000</td>\n",
       "      <td>722 Moss Bay Blvd.</td>\n",
       "      <td>(206) 555-3412</td>\n",
       "    </tr>\n",
       "    <tr>\n",
       "      <th>3</th>\n",
       "      <td>4</td>\n",
       "      <td>Margaret</td>\n",
       "      <td>Peacock</td>\n",
       "      <td>Sales Representative</td>\n",
       "      <td>Mrs.</td>\n",
       "      <td>1937-09-19 00:00:00.000</td>\n",
       "      <td>1993-05-03 00:00:00.000</td>\n",
       "      <td>4110 Old Redmond Rd.</td>\n",
       "      <td>(206) 555-8122</td>\n",
       "    </tr>\n",
       "    <tr>\n",
       "      <th>4</th>\n",
       "      <td>5</td>\n",
       "      <td>Steven</td>\n",
       "      <td>Buchanan</td>\n",
       "      <td>Sales Manager</td>\n",
       "      <td>Mr.</td>\n",
       "      <td>1955-03-04 00:00:00.000</td>\n",
       "      <td>1993-10-17 00:00:00.000</td>\n",
       "      <td>14 Garrett Hill</td>\n",
       "      <td>(71) 555-4848</td>\n",
       "    </tr>\n",
       "  </tbody>\n",
       "</table>\n",
       "</div>"
      ],
      "text/plain": [
       "   EmployeeID FirstName   LastName                  Title TitleOfCourtesy  \\\n",
       "0           1     Nancy    Davolio   Sales Representative             Ms.   \n",
       "1           2    Andrew     Fuller  Vice President, Sales             Dr.   \n",
       "2           3     Janet  Leverling   Sales Representative             Ms.   \n",
       "3           4  Margaret    Peacock   Sales Representative            Mrs.   \n",
       "4           5    Steven   Buchanan          Sales Manager             Mr.   \n",
       "\n",
       "                 BirthDate                 HireDate  \\\n",
       "0  1948-12-08 00:00:00.000  1992-05-01 00:00:00.000   \n",
       "1  1952-02-19 00:00:00.000  1992-08-14 00:00:00.000   \n",
       "2  1963-08-30 00:00:00.000  1992-04-01 00:00:00.000   \n",
       "3  1937-09-19 00:00:00.000  1993-05-03 00:00:00.000   \n",
       "4  1955-03-04 00:00:00.000  1993-10-17 00:00:00.000   \n",
       "\n",
       "                       Address       HomePhone  \n",
       "0  507 - 20th Ave. E.  Apt. 2A  (206) 555-9857  \n",
       "1           908 W. Capital Way  (206) 555-9482  \n",
       "2           722 Moss Bay Blvd.  (206) 555-3412  \n",
       "3         4110 Old Redmond Rd.  (206) 555-8122  \n",
       "4              14 Garrett Hill   (71) 555-4848  "
      ]
     },
     "metadata": {},
     "output_type": "display_data"
    },
    {
     "data": {
      "text/html": [
       "<div>\n",
       "<style scoped>\n",
       "    .dataframe tbody tr th:only-of-type {\n",
       "        vertical-align: middle;\n",
       "    }\n",
       "\n",
       "    .dataframe tbody tr th {\n",
       "        vertical-align: top;\n",
       "    }\n",
       "\n",
       "    .dataframe thead th {\n",
       "        text-align: right;\n",
       "    }\n",
       "</style>\n",
       "<table border=\"1\" class=\"dataframe\">\n",
       "  <thead>\n",
       "    <tr style=\"text-align: right;\">\n",
       "      <th></th>\n",
       "      <th>TitleOfCourtesy</th>\n",
       "      <th>Sex</th>\n",
       "    </tr>\n",
       "  </thead>\n",
       "  <tbody>\n",
       "    <tr>\n",
       "      <th>0</th>\n",
       "      <td>Ms.</td>\n",
       "      <td>female</td>\n",
       "    </tr>\n",
       "    <tr>\n",
       "      <th>1</th>\n",
       "      <td>Dr.</td>\n",
       "      <td>male</td>\n",
       "    </tr>\n",
       "    <tr>\n",
       "      <th>2</th>\n",
       "      <td>Mrs.</td>\n",
       "      <td>female</td>\n",
       "    </tr>\n",
       "    <tr>\n",
       "      <th>3</th>\n",
       "      <td>Mr.</td>\n",
       "      <td>male</td>\n",
       "    </tr>\n",
       "  </tbody>\n",
       "</table>\n",
       "</div>"
      ],
      "text/plain": [
       "  TitleOfCourtesy     Sex\n",
       "0             Ms.  female\n",
       "1             Dr.    male\n",
       "2            Mrs.  female\n",
       "3             Mr.    male"
      ]
     },
     "metadata": {},
     "output_type": "display_data"
    }
   ],
   "source": [
    "# Присоедините к датафрейму с сотрудниками df_e датафрейм df_sex. \n",
    "# Далее в разрезе пола посчитайте количество оформленных заказов. \n",
    "# На сколько представители одного пола оформили больше заказов, чем представители другого пола? \n",
    "\n",
    "df_sex = pd.DataFrame(data=zip(*[['Ms.', 'Dr.', 'Mrs.', 'Mr.'], ['female', 'male', 'female', 'male']]), \n",
    "                      columns=['TitleOfCourtesy', 'Sex'])\n",
    "display(df_e.head(5), df_sex.head(5))"
   ]
  },
  {
   "cell_type": "code",
   "execution_count": 159,
   "id": "162f8078",
   "metadata": {},
   "outputs": [
    {
     "data": {
      "text/html": [
       "<div>\n",
       "<style scoped>\n",
       "    .dataframe tbody tr th:only-of-type {\n",
       "        vertical-align: middle;\n",
       "    }\n",
       "\n",
       "    .dataframe tbody tr th {\n",
       "        vertical-align: top;\n",
       "    }\n",
       "\n",
       "    .dataframe thead th {\n",
       "        text-align: right;\n",
       "    }\n",
       "</style>\n",
       "<table border=\"1\" class=\"dataframe\">\n",
       "  <thead>\n",
       "    <tr style=\"text-align: right;\">\n",
       "      <th></th>\n",
       "      <th>OrderID</th>\n",
       "    </tr>\n",
       "    <tr>\n",
       "      <th>Sex</th>\n",
       "      <th></th>\n",
       "    </tr>\n",
       "  </thead>\n",
       "  <tbody>\n",
       "    <tr>\n",
       "      <th>female</th>\n",
       "      <td>NaN</td>\n",
       "    </tr>\n",
       "    <tr>\n",
       "      <th>male</th>\n",
       "      <td>-276.0</td>\n",
       "    </tr>\n",
       "  </tbody>\n",
       "</table>\n",
       "</div>"
      ],
      "text/plain": [
       "        OrderID\n",
       "Sex            \n",
       "female      NaN\n",
       "male     -276.0"
      ]
     },
     "execution_count": 159,
     "metadata": {},
     "output_type": "execute_result"
    }
   ],
   "source": [
    "pd.merge(df_e, df_sex, on='TitleOfCourtesy').merge(df_o, on='EmployeeID')[['Sex', 'OrderID']].groupby('Sex').count().diff()"
   ]
  },
  {
   "cell_type": "code",
   "execution_count": 160,
   "id": "00b20d04",
   "metadata": {},
   "outputs": [
    {
     "data": {
      "text/html": [
       "<div>\n",
       "<style scoped>\n",
       "    .dataframe tbody tr th:only-of-type {\n",
       "        vertical-align: middle;\n",
       "    }\n",
       "\n",
       "    .dataframe tbody tr th {\n",
       "        vertical-align: top;\n",
       "    }\n",
       "\n",
       "    .dataframe thead th {\n",
       "        text-align: right;\n",
       "    }\n",
       "</style>\n",
       "<table border=\"1\" class=\"dataframe\">\n",
       "  <thead>\n",
       "    <tr style=\"text-align: right;\">\n",
       "      <th></th>\n",
       "      <th>OrderID</th>\n",
       "      <th>ProductID</th>\n",
       "      <th>UnitPrice</th>\n",
       "      <th>Quantity</th>\n",
       "      <th>Discount</th>\n",
       "      <th>Discount_fact</th>\n",
       "      <th>Revenue</th>\n",
       "    </tr>\n",
       "  </thead>\n",
       "  <tbody>\n",
       "    <tr>\n",
       "      <th>0</th>\n",
       "      <td>10248</td>\n",
       "      <td>11</td>\n",
       "      <td>14.0</td>\n",
       "      <td>12</td>\n",
       "      <td>0.0</td>\n",
       "      <td>0.0</td>\n",
       "      <td>168.0</td>\n",
       "    </tr>\n",
       "    <tr>\n",
       "      <th>1</th>\n",
       "      <td>10248</td>\n",
       "      <td>42</td>\n",
       "      <td>9.8</td>\n",
       "      <td>10</td>\n",
       "      <td>0.0</td>\n",
       "      <td>0.0</td>\n",
       "      <td>98.0</td>\n",
       "    </tr>\n",
       "    <tr>\n",
       "      <th>2</th>\n",
       "      <td>10248</td>\n",
       "      <td>72</td>\n",
       "      <td>34.8</td>\n",
       "      <td>5</td>\n",
       "      <td>0.0</td>\n",
       "      <td>0.0</td>\n",
       "      <td>174.0</td>\n",
       "    </tr>\n",
       "    <tr>\n",
       "      <th>3</th>\n",
       "      <td>10249</td>\n",
       "      <td>14</td>\n",
       "      <td>18.6</td>\n",
       "      <td>9</td>\n",
       "      <td>0.0</td>\n",
       "      <td>0.0</td>\n",
       "      <td>167.4</td>\n",
       "    </tr>\n",
       "    <tr>\n",
       "      <th>4</th>\n",
       "      <td>10249</td>\n",
       "      <td>51</td>\n",
       "      <td>42.4</td>\n",
       "      <td>40</td>\n",
       "      <td>0.0</td>\n",
       "      <td>0.0</td>\n",
       "      <td>1696.0</td>\n",
       "    </tr>\n",
       "  </tbody>\n",
       "</table>\n",
       "</div>"
      ],
      "text/plain": [
       "   OrderID  ProductID  UnitPrice  Quantity  Discount  Discount_fact  Revenue\n",
       "0    10248         11       14.0        12       0.0            0.0    168.0\n",
       "1    10248         42        9.8        10       0.0            0.0     98.0\n",
       "2    10248         72       34.8         5       0.0            0.0    174.0\n",
       "3    10249         14       18.6         9       0.0            0.0    167.4\n",
       "4    10249         51       42.4        40       0.0            0.0   1696.0"
      ]
     },
     "execution_count": 160,
     "metadata": {},
     "output_type": "execute_result"
    }
   ],
   "source": [
    "# Посчитайте для каждого заказа чистую выручку. \n",
    "# Затем помощью метода .cut() разбейте столбец с чистой выручкой на 5 бинов. \n",
    "# Добавьте столбец с бинами в датафрейм. \n",
    "# Далее в разрезе бинов посчитайте количество заказов. \n",
    "# Сопоставьте бин и количество заказов в бине.\n",
    "\n",
    "df_od.head()"
   ]
  },
  {
   "cell_type": "code",
   "execution_count": 161,
   "id": "50cde5e7",
   "metadata": {},
   "outputs": [],
   "source": [
    "temp_df = df_od[['OrderID', 'Revenue']].groupby('OrderID').agg({'Revenue': 'sum'}).reset_index()\n",
    "temp_df['bins_cut'] = pd.cut(temp_df['Revenue'], 5)"
   ]
  },
  {
   "cell_type": "code",
   "execution_count": 162,
   "id": "87efe545",
   "metadata": {},
   "outputs": [
    {
     "data": {
      "text/html": [
       "<div>\n",
       "<style scoped>\n",
       "    .dataframe tbody tr th:only-of-type {\n",
       "        vertical-align: middle;\n",
       "    }\n",
       "\n",
       "    .dataframe tbody tr th {\n",
       "        vertical-align: top;\n",
       "    }\n",
       "\n",
       "    .dataframe thead th {\n",
       "        text-align: right;\n",
       "    }\n",
       "</style>\n",
       "<table border=\"1\" class=\"dataframe\">\n",
       "  <thead>\n",
       "    <tr style=\"text-align: right;\">\n",
       "      <th></th>\n",
       "      <th>OrderID</th>\n",
       "      <th>Revenue</th>\n",
       "    </tr>\n",
       "    <tr>\n",
       "      <th>bins_cut</th>\n",
       "      <th></th>\n",
       "      <th></th>\n",
       "    </tr>\n",
       "  </thead>\n",
       "  <tbody>\n",
       "    <tr>\n",
       "      <th>(-3.875, 3287.5]</th>\n",
       "      <td>750</td>\n",
       "      <td>750</td>\n",
       "    </tr>\n",
       "    <tr>\n",
       "      <th>(3287.5, 6562.5]</th>\n",
       "      <td>60</td>\n",
       "      <td>60</td>\n",
       "    </tr>\n",
       "    <tr>\n",
       "      <th>(6562.5, 9837.5]</th>\n",
       "      <td>9</td>\n",
       "      <td>9</td>\n",
       "    </tr>\n",
       "    <tr>\n",
       "      <th>(9837.5, 13112.5]</th>\n",
       "      <td>9</td>\n",
       "      <td>9</td>\n",
       "    </tr>\n",
       "    <tr>\n",
       "      <th>(13112.5, 16387.5]</th>\n",
       "      <td>2</td>\n",
       "      <td>2</td>\n",
       "    </tr>\n",
       "  </tbody>\n",
       "</table>\n",
       "</div>"
      ],
      "text/plain": [
       "                    OrderID  Revenue\n",
       "bins_cut                            \n",
       "(-3.875, 3287.5]        750      750\n",
       "(3287.5, 6562.5]         60       60\n",
       "(6562.5, 9837.5]          9        9\n",
       "(9837.5, 13112.5]         9        9\n",
       "(13112.5, 16387.5]        2        2"
      ]
     },
     "execution_count": 162,
     "metadata": {},
     "output_type": "execute_result"
    }
   ],
   "source": [
    "temp_df.groupby('bins_cut', observed=False).count()"
   ]
  },
  {
   "cell_type": "code",
   "execution_count": 163,
   "id": "a12350e4",
   "metadata": {},
   "outputs": [
    {
     "data": {
      "text/html": [
       "<div>\n",
       "<style scoped>\n",
       "    .dataframe tbody tr th:only-of-type {\n",
       "        vertical-align: middle;\n",
       "    }\n",
       "\n",
       "    .dataframe tbody tr th {\n",
       "        vertical-align: top;\n",
       "    }\n",
       "\n",
       "    .dataframe thead th {\n",
       "        text-align: right;\n",
       "    }\n",
       "</style>\n",
       "<table border=\"1\" class=\"dataframe\">\n",
       "  <thead>\n",
       "    <tr style=\"text-align: right;\">\n",
       "      <th></th>\n",
       "      <th>OrderID</th>\n",
       "      <th>Revenue</th>\n",
       "    </tr>\n",
       "    <tr>\n",
       "      <th>bins_cut</th>\n",
       "      <th></th>\n",
       "      <th></th>\n",
       "    </tr>\n",
       "  </thead>\n",
       "  <tbody>\n",
       "    <tr>\n",
       "      <th>(12.499, 365.432]</th>\n",
       "      <td>166</td>\n",
       "      <td>166</td>\n",
       "    </tr>\n",
       "    <tr>\n",
       "      <th>(365.432, 721.86]</th>\n",
       "      <td>166</td>\n",
       "      <td>166</td>\n",
       "    </tr>\n",
       "    <tr>\n",
       "      <th>(721.86, 1335.78]</th>\n",
       "      <td>166</td>\n",
       "      <td>166</td>\n",
       "    </tr>\n",
       "    <tr>\n",
       "      <th>(1335.78, 2122.976]</th>\n",
       "      <td>166</td>\n",
       "      <td>166</td>\n",
       "    </tr>\n",
       "    <tr>\n",
       "      <th>(2122.976, 16387.5]</th>\n",
       "      <td>166</td>\n",
       "      <td>166</td>\n",
       "    </tr>\n",
       "  </tbody>\n",
       "</table>\n",
       "</div>"
      ],
      "text/plain": [
       "                     OrderID  Revenue\n",
       "bins_cut                             \n",
       "(12.499, 365.432]        166      166\n",
       "(365.432, 721.86]        166      166\n",
       "(721.86, 1335.78]        166      166\n",
       "(1335.78, 2122.976]      166      166\n",
       "(2122.976, 16387.5]      166      166"
      ]
     },
     "execution_count": 163,
     "metadata": {},
     "output_type": "execute_result"
    }
   ],
   "source": [
    "temp_df['bins_cut'] = pd.qcut(temp_df['Revenue'], 5)\n",
    "temp_df.groupby('bins_cut', observed=False).count()"
   ]
  },
  {
   "cell_type": "code",
   "execution_count": 164,
   "id": "8a4ee439",
   "metadata": {},
   "outputs": [
    {
     "data": {
      "image/png": "[encoded data removed]",
      "text/plain": [
       "<Figure size 640x480 with 1 Axes>"
      ]
     },
     "metadata": {},
     "output_type": "display_data"
    }
   ],
   "source": [
    "# Постройте гистограмму для столбца EmployeeID. \n",
    "# Сотрудник с каким ID оформил больше всего заказов за все время? Введите EmployeeID.\n",
    "\n",
    "plt.hist(data=df_o, x='EmployeeID', bins=df_o['EmployeeID'].nunique())\n",
    "plt.grid()\n",
    "plt.show();"
   ]
  },
  {
   "cell_type": "code",
   "execution_count": 165,
   "id": "f787978a",
   "metadata": {},
   "outputs": [
    {
     "data": {
      "image/png": "[encoded data removed]",
      "text/plain": [
       "<Figure size 640x480 with 1 Axes>"
      ]
     },
     "metadata": {},
     "output_type": "display_data"
    }
   ],
   "source": [
    "df_o.groupby('EmployeeID')['OrderID'].count().plot(kind='bar');"
   ]
  },
  {
   "cell_type": "code",
   "execution_count": 166,
   "id": "607dff7a",
   "metadata": {},
   "outputs": [
    {
     "data": {
      "text/html": [
       "<div>\n",
       "<style scoped>\n",
       "    .dataframe tbody tr th:only-of-type {\n",
       "        vertical-align: middle;\n",
       "    }\n",
       "\n",
       "    .dataframe tbody tr th {\n",
       "        vertical-align: top;\n",
       "    }\n",
       "\n",
       "    .dataframe thead th {\n",
       "        text-align: right;\n",
       "    }\n",
       "</style>\n",
       "<table border=\"1\" class=\"dataframe\">\n",
       "  <thead>\n",
       "    <tr style=\"text-align: right;\">\n",
       "      <th></th>\n",
       "      <th>OrderID</th>\n",
       "      <th>ProductID</th>\n",
       "      <th>UnitPrice</th>\n",
       "      <th>Quantity</th>\n",
       "      <th>Discount</th>\n",
       "      <th>Discount_fact</th>\n",
       "      <th>Revenue</th>\n",
       "    </tr>\n",
       "  </thead>\n",
       "  <tbody>\n",
       "    <tr>\n",
       "      <th>0</th>\n",
       "      <td>10248</td>\n",
       "      <td>11</td>\n",
       "      <td>14.0</td>\n",
       "      <td>12</td>\n",
       "      <td>0.0</td>\n",
       "      <td>0.0</td>\n",
       "      <td>168.0</td>\n",
       "    </tr>\n",
       "    <tr>\n",
       "      <th>1</th>\n",
       "      <td>10248</td>\n",
       "      <td>42</td>\n",
       "      <td>9.8</td>\n",
       "      <td>10</td>\n",
       "      <td>0.0</td>\n",
       "      <td>0.0</td>\n",
       "      <td>98.0</td>\n",
       "    </tr>\n",
       "    <tr>\n",
       "      <th>2</th>\n",
       "      <td>10248</td>\n",
       "      <td>72</td>\n",
       "      <td>34.8</td>\n",
       "      <td>5</td>\n",
       "      <td>0.0</td>\n",
       "      <td>0.0</td>\n",
       "      <td>174.0</td>\n",
       "    </tr>\n",
       "    <tr>\n",
       "      <th>3</th>\n",
       "      <td>10249</td>\n",
       "      <td>14</td>\n",
       "      <td>18.6</td>\n",
       "      <td>9</td>\n",
       "      <td>0.0</td>\n",
       "      <td>0.0</td>\n",
       "      <td>167.4</td>\n",
       "    </tr>\n",
       "    <tr>\n",
       "      <th>4</th>\n",
       "      <td>10249</td>\n",
       "      <td>51</td>\n",
       "      <td>42.4</td>\n",
       "      <td>40</td>\n",
       "      <td>0.0</td>\n",
       "      <td>0.0</td>\n",
       "      <td>1696.0</td>\n",
       "    </tr>\n",
       "  </tbody>\n",
       "</table>\n",
       "</div>"
      ],
      "text/plain": [
       "   OrderID  ProductID  UnitPrice  Quantity  Discount  Discount_fact  Revenue\n",
       "0    10248         11       14.0        12       0.0            0.0    168.0\n",
       "1    10248         42        9.8        10       0.0            0.0     98.0\n",
       "2    10248         72       34.8         5       0.0            0.0    174.0\n",
       "3    10249         14       18.6         9       0.0            0.0    167.4\n",
       "4    10249         51       42.4        40       0.0            0.0   1696.0"
      ]
     },
     "execution_count": 166,
     "metadata": {},
     "output_type": "execute_result"
    }
   ],
   "source": [
    "# Посчитайте фактическую скидку и чистую выручку для каждой строки в датафрейме df_od. \n",
    "# Затем сгруппируйте чистую выручку и фактическую скидку для каждого заказа. \n",
    "# Далее постройте scatter plot, где по вертикали расположится фактическая скидка, \n",
    "# а по горизонтали - чистая выручка. Выберите верное утверждение. \n",
    "\n",
    "df_od.head()"
   ]
  },
  {
   "cell_type": "code",
   "execution_count": 167,
   "id": "650ea77e",
   "metadata": {},
   "outputs": [
    {
     "data": {
      "image/png": "[encoded data removed]",
      "text/plain": [
       "<Figure size 640x480 with 1 Axes>"
      ]
     },
     "metadata": {},
     "output_type": "display_data"
    }
   ],
   "source": [
    "temp_df = df_od[df_od['Discount_fact'] > 0]\n",
    "temp_df = df_od[['OrderID', 'Discount_fact', 'Revenue']].groupby('OrderID').sum().reset_index()\n",
    "temp_df.plot(kind='scatter', x='Revenue', y='Discount_fact');"
   ]
  },
  {
   "cell_type": "code",
   "execution_count": 195,
   "id": "d0707385",
   "metadata": {},
   "outputs": [
    {
     "data": {
      "text/html": [
       "<div>\n",
       "<style scoped>\n",
       "    .dataframe tbody tr th:only-of-type {\n",
       "        vertical-align: middle;\n",
       "    }\n",
       "\n",
       "    .dataframe tbody tr th {\n",
       "        vertical-align: top;\n",
       "    }\n",
       "\n",
       "    .dataframe thead th {\n",
       "        text-align: right;\n",
       "    }\n",
       "</style>\n",
       "<table border=\"1\" class=\"dataframe\">\n",
       "  <thead>\n",
       "    <tr style=\"text-align: right;\">\n",
       "      <th></th>\n",
       "      <th>OrderID</th>\n",
       "      <th>CustomerID</th>\n",
       "      <th>EmployeeID</th>\n",
       "      <th>OrderDate</th>\n",
       "      <th>RequiredDate</th>\n",
       "      <th>ShippedDate</th>\n",
       "      <th>Freight</th>\n",
       "      <th>Month_Year</th>\n",
       "    </tr>\n",
       "  </thead>\n",
       "  <tbody>\n",
       "    <tr>\n",
       "      <th>0</th>\n",
       "      <td>10248</td>\n",
       "      <td>VINET</td>\n",
       "      <td>5</td>\n",
       "      <td>1996-07-04</td>\n",
       "      <td>1996-08-01 00:00:00.000</td>\n",
       "      <td>1996-07-16 00:00:00.000</td>\n",
       "      <td>32.38</td>\n",
       "      <td>07-1996</td>\n",
       "    </tr>\n",
       "  </tbody>\n",
       "</table>\n",
       "</div>"
      ],
      "text/plain": [
       "   OrderID CustomerID  EmployeeID  OrderDate             RequiredDate  \\\n",
       "0    10248      VINET           5 1996-07-04  1996-08-01 00:00:00.000   \n",
       "\n",
       "               ShippedDate  Freight Month_Year  \n",
       "0  1996-07-16 00:00:00.000    32.38    07-1996  "
      ]
     },
     "metadata": {},
     "output_type": "display_data"
    },
    {
     "data": {
      "text/html": [
       "<div>\n",
       "<style scoped>\n",
       "    .dataframe tbody tr th:only-of-type {\n",
       "        vertical-align: middle;\n",
       "    }\n",
       "\n",
       "    .dataframe tbody tr th {\n",
       "        vertical-align: top;\n",
       "    }\n",
       "\n",
       "    .dataframe thead th {\n",
       "        text-align: right;\n",
       "    }\n",
       "</style>\n",
       "<table border=\"1\" class=\"dataframe\">\n",
       "  <thead>\n",
       "    <tr style=\"text-align: right;\">\n",
       "      <th></th>\n",
       "      <th>OrderID</th>\n",
       "      <th>ProductID</th>\n",
       "      <th>UnitPrice</th>\n",
       "      <th>Quantity</th>\n",
       "      <th>Discount</th>\n",
       "      <th>Discount_fact</th>\n",
       "      <th>Revenue</th>\n",
       "    </tr>\n",
       "  </thead>\n",
       "  <tbody>\n",
       "    <tr>\n",
       "      <th>0</th>\n",
       "      <td>10248</td>\n",
       "      <td>11</td>\n",
       "      <td>14.0</td>\n",
       "      <td>12</td>\n",
       "      <td>0.0</td>\n",
       "      <td>0.0</td>\n",
       "      <td>168.0</td>\n",
       "    </tr>\n",
       "  </tbody>\n",
       "</table>\n",
       "</div>"
      ],
      "text/plain": [
       "   OrderID  ProductID  UnitPrice  Quantity  Discount  Discount_fact  Revenue\n",
       "0    10248         11       14.0        12       0.0            0.0    168.0"
      ]
     },
     "metadata": {},
     "output_type": "display_data"
    }
   ],
   "source": [
    "# Посчитайте отдельно по 1997 и по 1998 году чистую выручку в разрезе недель. \n",
    "# Запишите результаты в новые датафреймы. \n",
    "# Далее объедините их в общий датафрейм, в котором будет 3 столбца: \n",
    "# номер недели, чистая выручка 1997 год, чистая выручка 1998 год. \n",
    "# Постройте столбчатую диаграмму и выберите номера недель, на которых выручка в 1997 году была выше чем в 1998.\n",
    "\n",
    "# Примечание: Объедините датафреймы с помощью типа соединения inner, \n",
    "# чтобы в итоговый датафрейм попали только недели, по которым есть заказы и в 1997 и в 1998 году.\n",
    "\n",
    "display(df_o.head(1), df_od.head(1))"
   ]
  },
  {
   "cell_type": "code",
   "execution_count": 198,
   "id": "1e23d69e",
   "metadata": {},
   "outputs": [
    {
     "data": {
      "text/plain": [
       "(2155, 3)"
      ]
     },
     "execution_count": 198,
     "metadata": {},
     "output_type": "execute_result"
    }
   ],
   "source": [
    "temp_df = pd.merge(df_o, df_od, on='OrderID')[['OrderDate', 'Revenue']]\n",
    "temp_df['week'] = temp_df['OrderDate'].dt.isocalendar().week\n",
    "temp_df['OrderDate'] = temp_df['OrderDate'].dt.year\n",
    "temp_df_97 = temp_df[temp_df['OrderDate'] == 1997].drop('OrderDate', axis=1).rename(columns={'Revenue': 'Revenue_1997'})\n",
    "temp_df_98 = temp_df[temp_df['OrderDate'] == 1998].drop('OrderDate', axis=1).rename(columns={'Revenue': 'Revenue_1998'})\n",
    "temp_df.shape"
   ]
  },
  {
   "cell_type": "code",
   "execution_count": 199,
   "id": "76379927",
   "metadata": {},
   "outputs": [],
   "source": [
    "temp_df_97 = temp_df_97.groupby('week').agg({'Revenue_1997': 'sum'})\n",
    "temp_df_98 = temp_df_98.groupby('week').agg({'Revenue_1998': 'sum'})"
   ]
  },
  {
   "cell_type": "code",
   "execution_count": 203,
   "id": "058f8fec",
   "metadata": {},
   "outputs": [
    {
     "data": {
      "text/html": [
       "<div>\n",
       "<style scoped>\n",
       "    .dataframe tbody tr th:only-of-type {\n",
       "        vertical-align: middle;\n",
       "    }\n",
       "\n",
       "    .dataframe tbody tr th {\n",
       "        vertical-align: top;\n",
       "    }\n",
       "\n",
       "    .dataframe thead th {\n",
       "        text-align: right;\n",
       "    }\n",
       "</style>\n",
       "<table border=\"1\" class=\"dataframe\">\n",
       "  <thead>\n",
       "    <tr style=\"text-align: right;\">\n",
       "      <th></th>\n",
       "      <th>Revenue_1997</th>\n",
       "      <th>Revenue_1998</th>\n",
       "    </tr>\n",
       "    <tr>\n",
       "      <th>week</th>\n",
       "      <th></th>\n",
       "      <th></th>\n",
       "    </tr>\n",
       "  </thead>\n",
       "  <tbody>\n",
       "    <tr>\n",
       "      <th>1</th>\n",
       "      <td>24765.4375</td>\n",
       "      <td>4282.800</td>\n",
       "    </tr>\n",
       "    <tr>\n",
       "      <th>17</th>\n",
       "      <td>27895.1500</td>\n",
       "      <td>15460.625</td>\n",
       "    </tr>\n",
       "  </tbody>\n",
       "</table>\n",
       "</div>"
      ],
      "text/plain": [
       "      Revenue_1997  Revenue_1998\n",
       "week                            \n",
       "1       24765.4375      4282.800\n",
       "17      27895.1500     15460.625"
      ]
     },
     "execution_count": 203,
     "metadata": {},
     "output_type": "execute_result"
    },
    {
     "data": {
      "image/png": "[encoded data removed]",
      "text/plain": [
       "<Figure size 640x480 with 1 Axes>"
      ]
     },
     "metadata": {},
     "output_type": "display_data"
    }
   ],
   "source": [
    "temp_df = pd.merge(temp_df_97, temp_df_98, on='week')\n",
    "temp_df.plot(kind='bar')\n",
    "temp_df[temp_df['Revenue_1997'] > temp_df['Revenue_1998']]"
   ]
  },
  {
   "cell_type": "code",
   "execution_count": 204,
   "id": "ca3fc9f5",
   "metadata": {},
   "outputs": [
    {
     "data": {
      "text/html": [
       "<div>\n",
       "<style scoped>\n",
       "    .dataframe tbody tr th:only-of-type {\n",
       "        vertical-align: middle;\n",
       "    }\n",
       "\n",
       "    .dataframe tbody tr th {\n",
       "        vertical-align: top;\n",
       "    }\n",
       "\n",
       "    .dataframe thead th {\n",
       "        text-align: right;\n",
       "    }\n",
       "</style>\n",
       "<table border=\"1\" class=\"dataframe\">\n",
       "  <thead>\n",
       "    <tr style=\"text-align: right;\">\n",
       "      <th></th>\n",
       "      <th>OrderID</th>\n",
       "      <th>CustomerID</th>\n",
       "      <th>EmployeeID</th>\n",
       "      <th>OrderDate</th>\n",
       "      <th>RequiredDate</th>\n",
       "      <th>ShippedDate</th>\n",
       "      <th>Freight</th>\n",
       "      <th>Month_Year</th>\n",
       "    </tr>\n",
       "  </thead>\n",
       "  <tbody>\n",
       "    <tr>\n",
       "      <th>0</th>\n",
       "      <td>10248</td>\n",
       "      <td>VINET</td>\n",
       "      <td>5</td>\n",
       "      <td>1996-07-04</td>\n",
       "      <td>1996-08-01 00:00:00.000</td>\n",
       "      <td>1996-07-16 00:00:00.000</td>\n",
       "      <td>32.38</td>\n",
       "      <td>07-1996</td>\n",
       "    </tr>\n",
       "    <tr>\n",
       "      <th>1</th>\n",
       "      <td>10249</td>\n",
       "      <td>TOMSP</td>\n",
       "      <td>6</td>\n",
       "      <td>1996-07-05</td>\n",
       "      <td>1996-08-16 00:00:00.000</td>\n",
       "      <td>1996-07-10 00:00:00.000</td>\n",
       "      <td>11.61</td>\n",
       "      <td>07-1996</td>\n",
       "    </tr>\n",
       "    <tr>\n",
       "      <th>2</th>\n",
       "      <td>10250</td>\n",
       "      <td>HANAR</td>\n",
       "      <td>4</td>\n",
       "      <td>1996-07-08</td>\n",
       "      <td>1996-08-05 00:00:00.000</td>\n",
       "      <td>1996-07-12 00:00:00.000</td>\n",
       "      <td>65.83</td>\n",
       "      <td>07-1996</td>\n",
       "    </tr>\n",
       "    <tr>\n",
       "      <th>3</th>\n",
       "      <td>10251</td>\n",
       "      <td>VICTE</td>\n",
       "      <td>3</td>\n",
       "      <td>1996-07-08</td>\n",
       "      <td>1996-08-05 00:00:00.000</td>\n",
       "      <td>1996-07-15 00:00:00.000</td>\n",
       "      <td>41.34</td>\n",
       "      <td>07-1996</td>\n",
       "    </tr>\n",
       "    <tr>\n",
       "      <th>4</th>\n",
       "      <td>10252</td>\n",
       "      <td>SUPRD</td>\n",
       "      <td>4</td>\n",
       "      <td>1996-07-09</td>\n",
       "      <td>1996-08-06 00:00:00.000</td>\n",
       "      <td>1996-07-11 00:00:00.000</td>\n",
       "      <td>51.30</td>\n",
       "      <td>07-1996</td>\n",
       "    </tr>\n",
       "  </tbody>\n",
       "</table>\n",
       "</div>"
      ],
      "text/plain": [
       "   OrderID CustomerID  EmployeeID  OrderDate             RequiredDate  \\\n",
       "0    10248      VINET           5 1996-07-04  1996-08-01 00:00:00.000   \n",
       "1    10249      TOMSP           6 1996-07-05  1996-08-16 00:00:00.000   \n",
       "2    10250      HANAR           4 1996-07-08  1996-08-05 00:00:00.000   \n",
       "3    10251      VICTE           3 1996-07-08  1996-08-05 00:00:00.000   \n",
       "4    10252      SUPRD           4 1996-07-09  1996-08-06 00:00:00.000   \n",
       "\n",
       "               ShippedDate  Freight Month_Year  \n",
       "0  1996-07-16 00:00:00.000    32.38    07-1996  \n",
       "1  1996-07-10 00:00:00.000    11.61    07-1996  \n",
       "2  1996-07-12 00:00:00.000    65.83    07-1996  \n",
       "3  1996-07-15 00:00:00.000    41.34    07-1996  \n",
       "4  1996-07-11 00:00:00.000    51.30    07-1996  "
      ]
     },
     "execution_count": 204,
     "metadata": {},
     "output_type": "execute_result"
    }
   ],
   "source": [
    "# Для каждого клиента CustomerID посчитайте количество совершенных заказов.\n",
    "# Затем проанализируйте какое количество заказов совершают клиенты, построив box plot. \n",
    "# Выберите получившийся box plot из вариантов ниже.\n",
    "\n",
    "df_o.head()"
   ]
  },
  {
   "cell_type": "code",
   "execution_count": 211,
   "id": "1cb632d3",
   "metadata": {},
   "outputs": [
    {
     "data": {
      "text/html": [
       "<div>\n",
       "<style scoped>\n",
       "    .dataframe tbody tr th:only-of-type {\n",
       "        vertical-align: middle;\n",
       "    }\n",
       "\n",
       "    .dataframe tbody tr th {\n",
       "        vertical-align: top;\n",
       "    }\n",
       "\n",
       "    .dataframe thead th {\n",
       "        text-align: right;\n",
       "    }\n",
       "</style>\n",
       "<table border=\"1\" class=\"dataframe\">\n",
       "  <thead>\n",
       "    <tr style=\"text-align: right;\">\n",
       "      <th></th>\n",
       "      <th>CustomerID</th>\n",
       "      <th>Count_orders</th>\n",
       "    </tr>\n",
       "  </thead>\n",
       "  <tbody>\n",
       "    <tr>\n",
       "      <th>0</th>\n",
       "      <td>ALFKI</td>\n",
       "      <td>6</td>\n",
       "    </tr>\n",
       "    <tr>\n",
       "      <th>1</th>\n",
       "      <td>ANATR</td>\n",
       "      <td>4</td>\n",
       "    </tr>\n",
       "    <tr>\n",
       "      <th>2</th>\n",
       "      <td>ANTON</td>\n",
       "      <td>7</td>\n",
       "    </tr>\n",
       "    <tr>\n",
       "      <th>3</th>\n",
       "      <td>AROUT</td>\n",
       "      <td>13</td>\n",
       "    </tr>\n",
       "    <tr>\n",
       "      <th>4</th>\n",
       "      <td>BERGS</td>\n",
       "      <td>18</td>\n",
       "    </tr>\n",
       "    <tr>\n",
       "      <th>...</th>\n",
       "      <td>...</td>\n",
       "      <td>...</td>\n",
       "    </tr>\n",
       "    <tr>\n",
       "      <th>84</th>\n",
       "      <td>WARTH</td>\n",
       "      <td>15</td>\n",
       "    </tr>\n",
       "    <tr>\n",
       "      <th>85</th>\n",
       "      <td>WELLI</td>\n",
       "      <td>9</td>\n",
       "    </tr>\n",
       "    <tr>\n",
       "      <th>86</th>\n",
       "      <td>WHITC</td>\n",
       "      <td>14</td>\n",
       "    </tr>\n",
       "    <tr>\n",
       "      <th>87</th>\n",
       "      <td>WILMK</td>\n",
       "      <td>7</td>\n",
       "    </tr>\n",
       "    <tr>\n",
       "      <th>88</th>\n",
       "      <td>WOLZA</td>\n",
       "      <td>7</td>\n",
       "    </tr>\n",
       "  </tbody>\n",
       "</table>\n",
       "<p>89 rows × 2 columns</p>\n",
       "</div>"
      ],
      "text/plain": [
       "   CustomerID  Count_orders\n",
       "0       ALFKI             6\n",
       "1       ANATR             4\n",
       "2       ANTON             7\n",
       "3       AROUT            13\n",
       "4       BERGS            18\n",
       "..        ...           ...\n",
       "84      WARTH            15\n",
       "85      WELLI             9\n",
       "86      WHITC            14\n",
       "87      WILMK             7\n",
       "88      WOLZA             7\n",
       "\n",
       "[89 rows x 2 columns]"
      ]
     },
     "execution_count": 211,
     "metadata": {},
     "output_type": "execute_result"
    }
   ],
   "source": [
    "temp_df = df_o[['CustomerID', 'OrderID']].groupby('CustomerID').count().reset_index().rename(columns={'OrderID': 'Count_orders'})\n",
    "temp_df"
   ]
  },
  {
   "cell_type": "code",
   "execution_count": 212,
   "id": "8cf9934f",
   "metadata": {},
   "outputs": [
    {
     "data": {
      "image/png": "[encoded data removed]",
      "text/plain": [
       "<Figure size 640x480 with 1 Axes>"
      ]
     },
     "metadata": {},
     "output_type": "display_data"
    }
   ],
   "source": [
    "temp_df.plot(kind='box');"
   ]
  },
  {
   "cell_type": "code",
   "execution_count": null,
   "id": "323c3eef",
   "metadata": {},
   "outputs": [],
   "source": []
  },
  {
   "cell_type": "code",
   "execution_count": null,
   "id": "d78594fa",
   "metadata": {},
   "outputs": [],
   "source": []
  },
  {
   "cell_type": "code",
   "execution_count": 218,
   "id": "50271fc2",
   "metadata": {},
   "outputs": [
    {
     "data": {
      "text/plain": [
       "ContactTitle\n",
       "Sales           43\n",
       "Other           29\n",
       "Marketing       19\n",
       "Name: count, dtype: int64"
      ]
     },
     "execution_count": 218,
     "metadata": {},
     "output_type": "execute_result"
    }
   ],
   "source": [
    "def grouping_by_profession(Title):\n",
    "    if Title.count('Sales') > 0:\n",
    "        return 'Sales'\n",
    "    elif Title.count('Marketing') > 0:\n",
    "        return 'Marketing'\n",
    "    else:\n",
    "        return 'Other'\n",
    "    \n",
    "temp_df = df_c['ContactTitle'].apply(grouping_by_profession).to_frame()\n",
    "temp_df.value_counts()"
   ]
  }
 ],
 "metadata": {
  "kernelspec": {
   "display_name": "base",
   "language": "python",
   "name": "python3"
  },
  "language_info": {
   "codemirror_mode": {
    "name": "ipython",
    "version": 3
   },
   "file_extension": ".py",
   "mimetype": "text/x-python",
   "name": "python",
   "nbconvert_exporter": "python",
   "pygments_lexer": "ipython3",
   "version": "3.12.3"
  }
 },
 "nbformat": 4,
 "nbformat_minor": 5
}
