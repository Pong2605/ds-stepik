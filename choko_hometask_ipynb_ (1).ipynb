{
  "cells": [
    {
      "cell_type": "code",
      "execution_count": null,
      "metadata": {
        "id": "-q5hluAc-e11"
      },
      "outputs": [],
      "source": [
        "!pip install catboost -q\n",
        "!pip install association-metrics -q\n",
        "!pip install optuna -q"
      ]
    },
    {
      "cell_type": "code",
      "execution_count": null,
      "metadata": {
        "id": "_ZFB0ekL-qc2"
      },
      "outputs": [],
      "source": [
        "import pandas as pd\n",
        "import numpy as np\n",
        "import association_metrics as am\n",
        "import seaborn as sns\n",
        "import matplotlib.pyplot as plt\n",
        "from catboost import CatBoostRegressor\n",
        "import optuna"
      ]
    },
    {
      "cell_type": "code",
      "execution_count": null,
      "metadata": {
        "id": "V2vPTX5qDp3v"
      },
      "outputs": [],
      "source": [
        "import warnings\n",
        "\n",
        "warnings.filterwarnings(\"ignore\")"
      ]
    },
    {
      "cell_type": "code",
      "execution_count": null,
      "metadata": {
        "id": "avULaASC-k1B"
      },
      "outputs": [],
      "source": [
        "TRAIN = \"https://raw.githubusercontent.com/evgpat/edu_stepik_practical_ml/main/datasets/chocolate_train.csv\"\n",
        "TEST = \"https://raw.githubusercontent.com/evgpat/edu_stepik_practical_ml/main/datasets/chocolate_test_new.csv\""
      ]
    },
    {
      "cell_type": "code",
      "execution_count": null,
      "metadata": {
        "id": "kPE1UMbT-kzB"
      },
      "outputs": [],
      "source": [
        "train_df = pd.read_csv(TRAIN)"
      ]
    },
    {
      "cell_type": "markdown",
      "metadata": {
        "id": "-YPhkyVzzGnH"
      },
      "source": [
        "Первые шаги: анализ полученных данных"
      ]
    },
    {
      "cell_type": "code",
      "execution_count": null,
      "metadata": {
        "colab": {
          "base_uri": "https://localhost:8080/"
        },
        "id": "Kg2v7skOEFQ1",
        "outputId": "8989b22c-6955-4634-b567-6b2feba8a062"
      },
      "outputs": [
        {
          "name": "stdout",
          "output_type": "stream",
          "text": [
            "<class 'pandas.core.frame.DataFrame'>\n",
            "RangeIndex: 1255 entries, 0 to 1254\n",
            "Data columns (total 9 columns):\n",
            " #   Column                Non-Null Count  Dtype  \n",
            "---  ------                --------------  -----  \n",
            " 0   Company               1255 non-null   object \n",
            " 1   Specific Bean Origin  1255 non-null   object \n",
            " 2   REF                   1255 non-null   int64  \n",
            " 3   Review                1255 non-null   int64  \n",
            " 4   Cocoa Percent         1255 non-null   object \n",
            " 5   Company Location      1255 non-null   object \n",
            " 6   Rating                1255 non-null   float64\n",
            " 7   Bean Type             1254 non-null   object \n",
            " 8   Broad Bean Origin     1254 non-null   object \n",
            "dtypes: float64(1), int64(2), object(6)\n",
            "memory usage: 88.4+ KB\n"
          ]
        }
      ],
      "source": [
        "train_df.info()"
      ]
    },
    {
      "cell_type": "code",
      "execution_count": null,
      "metadata": {
        "colab": {
          "base_uri": "https://localhost:8080/",
          "height": 175
        },
        "id": "aCassRKcEF1h",
        "outputId": "3111b15f-6f7a-4f8c-af14-2f8d7e7cb08a"
      },
      "outputs": [
        {
          "data": {
            "application/vnd.google.colaboratory.intrinsic+json": {
              "summary": "{\n  \"name\": \"train_df\",\n  \"rows\": 4,\n  \"fields\": [\n    {\n      \"column\": \"Company\",\n      \"properties\": {\n        \"dtype\": \"string\",\n        \"num_unique_values\": 4,\n        \"samples\": [\n          376,\n          \"35\",\n          \"1255\"\n        ],\n        \"semantic_type\": \"\",\n        \"description\": \"\"\n      }\n    },\n    {\n      \"column\": \"Specific Bean Origin\",\n      \"properties\": {\n        \"dtype\": \"string\",\n        \"num_unique_values\": 4,\n        \"samples\": [\n          762,\n          \"39\",\n          \"1255\"\n        ],\n        \"semantic_type\": \"\",\n        \"description\": \"\"\n      }\n    },\n    {\n      \"column\": \"Cocoa Percent\",\n      \"properties\": {\n        \"dtype\": \"string\",\n        \"num_unique_values\": 4,\n        \"samples\": [\n          40,\n          \"461\",\n          \"1255\"\n        ],\n        \"semantic_type\": \"\",\n        \"description\": \"\"\n      }\n    },\n    {\n      \"column\": \"Company Location\",\n      \"properties\": {\n        \"dtype\": \"string\",\n        \"num_unique_values\": 4,\n        \"samples\": [\n          58,\n          \"521\",\n          \"1255\"\n        ],\n        \"semantic_type\": \"\",\n        \"description\": \"\"\n      }\n    },\n    {\n      \"column\": \"Bean Type\",\n      \"properties\": {\n        \"dtype\": \"string\",\n        \"num_unique_values\": 4,\n        \"samples\": [\n          38,\n          \"628\",\n          \"1254\"\n        ],\n        \"semantic_type\": \"\",\n        \"description\": \"\"\n      }\n    },\n    {\n      \"column\": \"Broad Bean Origin\",\n      \"properties\": {\n        \"dtype\": \"string\",\n        \"num_unique_values\": 4,\n        \"samples\": [\n          84,\n          \"144\",\n          \"1254\"\n        ],\n        \"semantic_type\": \"\",\n        \"description\": \"\"\n      }\n    }\n  ]\n}",
              "type": "dataframe"
            },
            "text/html": [
              "\n",
              "  <div id=\"df-6427fc7c-817e-44f3-afbe-92e215714d3d\" class=\"colab-df-container\">\n",
              "    <div>\n",
              "<style scoped>\n",
              "    .dataframe tbody tr th:only-of-type {\n",
              "        vertical-align: middle;\n",
              "    }\n",
              "\n",
              "    .dataframe tbody tr th {\n",
              "        vertical-align: top;\n",
              "    }\n",
              "\n",
              "    .dataframe thead th {\n",
              "        text-align: right;\n",
              "    }\n",
              "</style>\n",
              "<table border=\"1\" class=\"dataframe\">\n",
              "  <thead>\n",
              "    <tr style=\"text-align: right;\">\n",
              "      <th></th>\n",
              "      <th>Company</th>\n",
              "      <th>Specific Bean Origin</th>\n",
              "      <th>Cocoa Percent</th>\n",
              "      <th>Company Location</th>\n",
              "      <th>Bean Type</th>\n",
              "      <th>Broad Bean Origin</th>\n",
              "    </tr>\n",
              "  </thead>\n",
              "  <tbody>\n",
              "    <tr>\n",
              "      <th>count</th>\n",
              "      <td>1255</td>\n",
              "      <td>1255</td>\n",
              "      <td>1255</td>\n",
              "      <td>1255</td>\n",
              "      <td>1254</td>\n",
              "      <td>1254</td>\n",
              "    </tr>\n",
              "    <tr>\n",
              "      <th>unique</th>\n",
              "      <td>376</td>\n",
              "      <td>762</td>\n",
              "      <td>40</td>\n",
              "      <td>58</td>\n",
              "      <td>38</td>\n",
              "      <td>84</td>\n",
              "    </tr>\n",
              "    <tr>\n",
              "      <th>top</th>\n",
              "      <td>Soma</td>\n",
              "      <td>Madagascar</td>\n",
              "      <td>70%</td>\n",
              "      <td>U.S.A.</td>\n",
              "      <td></td>\n",
              "      <td>Venezuela</td>\n",
              "    </tr>\n",
              "    <tr>\n",
              "      <th>freq</th>\n",
              "      <td>35</td>\n",
              "      <td>39</td>\n",
              "      <td>461</td>\n",
              "      <td>521</td>\n",
              "      <td>628</td>\n",
              "      <td>144</td>\n",
              "    </tr>\n",
              "  </tbody>\n",
              "</table>\n",
              "</div>\n",
              "    <div class=\"colab-df-buttons\">\n",
              "\n",
              "  <div class=\"colab-df-container\">\n",
              "    <button class=\"colab-df-convert\" onclick=\"convertToInteractive('df-6427fc7c-817e-44f3-afbe-92e215714d3d')\"\n",
              "            title=\"Convert this dataframe to an interactive table.\"\n",
              "            style=\"display:none;\">\n",
              "\n",
              "  <svg xmlns=\"http://www.w3.org/2000/svg\" height=\"24px\" viewBox=\"0 -960 960 960\">\n",
              "    <path d=\"M120-120v-720h720v720H120Zm60-500h600v-160H180v160Zm220 220h160v-160H400v160Zm0 220h160v-160H400v160ZM180-400h160v-160H180v160Zm440 0h160v-160H620v160ZM180-180h160v-160H180v160Zm440 0h160v-160H620v160Z\"/>\n",
              "  </svg>\n",
              "    </button>\n",
              "\n",
              "  <style>\n",
              "    .colab-df-container {\n",
              "      display:flex;\n",
              "      gap: 12px;\n",
              "    }\n",
              "\n",
              "    .colab-df-convert {\n",
              "      background-color: #E8F0FE;\n",
              "      border: none;\n",
              "      border-radius: 50%;\n",
              "      cursor: pointer;\n",
              "      display: none;\n",
              "      fill: #1967D2;\n",
              "      height: 32px;\n",
              "      padding: 0 0 0 0;\n",
              "      width: 32px;\n",
              "    }\n",
              "\n",
              "    .colab-df-convert:hover {\n",
              "      background-color: #E2EBFA;\n",
              "      box-shadow: 0px 1px 2px rgba(60, 64, 67, 0.3), 0px 1px 3px 1px rgba(60, 64, 67, 0.15);\n",
              "      fill: #174EA6;\n",
              "    }\n",
              "\n",
              "    .colab-df-buttons div {\n",
              "      margin-bottom: 4px;\n",
              "    }\n",
              "\n",
              "    [theme=dark] .colab-df-convert {\n",
              "      background-color: #3B4455;\n",
              "      fill: #D2E3FC;\n",
              "    }\n",
              "\n",
              "    [theme=dark] .colab-df-convert:hover {\n",
              "      background-color: #434B5C;\n",
              "      box-shadow: 0px 1px 3px 1px rgba(0, 0, 0, 0.15);\n",
              "      filter: drop-shadow(0px 1px 2px rgba(0, 0, 0, 0.3));\n",
              "      fill: #FFFFFF;\n",
              "    }\n",
              "  </style>\n",
              "\n",
              "    <script>\n",
              "      const buttonEl =\n",
              "        document.querySelector('#df-6427fc7c-817e-44f3-afbe-92e215714d3d button.colab-df-convert');\n",
              "      buttonEl.style.display =\n",
              "        google.colab.kernel.accessAllowed ? 'block' : 'none';\n",
              "\n",
              "      async function convertToInteractive(key) {\n",
              "        const element = document.querySelector('#df-6427fc7c-817e-44f3-afbe-92e215714d3d');\n",
              "        const dataTable =\n",
              "          await google.colab.kernel.invokeFunction('convertToInteractive',\n",
              "                                                    [key], {});\n",
              "        if (!dataTable) return;\n",
              "\n",
              "        const docLinkHtml = 'Like what you see? Visit the ' +\n",
              "          '<a target=\"_blank\" href=https://colab.research.google.com/notebooks/data_table.ipynb>data table notebook</a>'\n",
              "          + ' to learn more about interactive tables.';\n",
              "        element.innerHTML = '';\n",
              "        dataTable['output_type'] = 'display_data';\n",
              "        await google.colab.output.renderOutput(dataTable, element);\n",
              "        const docLink = document.createElement('div');\n",
              "        docLink.innerHTML = docLinkHtml;\n",
              "        element.appendChild(docLink);\n",
              "      }\n",
              "    </script>\n",
              "  </div>\n",
              "\n",
              "\n",
              "<div id=\"df-1181e7ba-0e5a-473a-8871-f4dd3f7e15b9\">\n",
              "  <button class=\"colab-df-quickchart\" onclick=\"quickchart('df-1181e7ba-0e5a-473a-8871-f4dd3f7e15b9')\"\n",
              "            title=\"Suggest charts\"\n",
              "            style=\"display:none;\">\n",
              "\n",
              "<svg xmlns=\"http://www.w3.org/2000/svg\" height=\"24px\"viewBox=\"0 0 24 24\"\n",
              "     width=\"24px\">\n",
              "    <g>\n",
              "        <path d=\"M19 3H5c-1.1 0-2 .9-2 2v14c0 1.1.9 2 2 2h14c1.1 0 2-.9 2-2V5c0-1.1-.9-2-2-2zM9 17H7v-7h2v7zm4 0h-2V7h2v10zm4 0h-2v-4h2v4z\"/>\n",
              "    </g>\n",
              "</svg>\n",
              "  </button>\n",
              "\n",
              "<style>\n",
              "  .colab-df-quickchart {\n",
              "      --bg-color: #E8F0FE;\n",
              "      --fill-color: #1967D2;\n",
              "      --hover-bg-color: #E2EBFA;\n",
              "      --hover-fill-color: #174EA6;\n",
              "      --disabled-fill-color: #AAA;\n",
              "      --disabled-bg-color: #DDD;\n",
              "  }\n",
              "\n",
              "  [theme=dark] .colab-df-quickchart {\n",
              "      --bg-color: #3B4455;\n",
              "      --fill-color: #D2E3FC;\n",
              "      --hover-bg-color: #434B5C;\n",
              "      --hover-fill-color: #FFFFFF;\n",
              "      --disabled-bg-color: #3B4455;\n",
              "      --disabled-fill-color: #666;\n",
              "  }\n",
              "\n",
              "  .colab-df-quickchart {\n",
              "    background-color: var(--bg-color);\n",
              "    border: none;\n",
              "    border-radius: 50%;\n",
              "    cursor: pointer;\n",
              "    display: none;\n",
              "    fill: var(--fill-color);\n",
              "    height: 32px;\n",
              "    padding: 0;\n",
              "    width: 32px;\n",
              "  }\n",
              "\n",
              "  .colab-df-quickchart:hover {\n",
              "    background-color: var(--hover-bg-color);\n",
              "    box-shadow: 0 1px 2px rgba(60, 64, 67, 0.3), 0 1px 3px 1px rgba(60, 64, 67, 0.15);\n",
              "    fill: var(--button-hover-fill-color);\n",
              "  }\n",
              "\n",
              "  .colab-df-quickchart-complete:disabled,\n",
              "  .colab-df-quickchart-complete:disabled:hover {\n",
              "    background-color: var(--disabled-bg-color);\n",
              "    fill: var(--disabled-fill-color);\n",
              "    box-shadow: none;\n",
              "  }\n",
              "\n",
              "  .colab-df-spinner {\n",
              "    border: 2px solid var(--fill-color);\n",
              "    border-color: transparent;\n",
              "    border-bottom-color: var(--fill-color);\n",
              "    animation:\n",
              "      spin 1s steps(1) infinite;\n",
              "  }\n",
              "\n",
              "  @keyframes spin {\n",
              "    0% {\n",
              "      border-color: transparent;\n",
              "      border-bottom-color: var(--fill-color);\n",
              "      border-left-color: var(--fill-color);\n",
              "    }\n",
              "    20% {\n",
              "      border-color: transparent;\n",
              "      border-left-color: var(--fill-color);\n",
              "      border-top-color: var(--fill-color);\n",
              "    }\n",
              "    30% {\n",
              "      border-color: transparent;\n",
              "      border-left-color: var(--fill-color);\n",
              "      border-top-color: var(--fill-color);\n",
              "      border-right-color: var(--fill-color);\n",
              "    }\n",
              "    40% {\n",
              "      border-color: transparent;\n",
              "      border-right-color: var(--fill-color);\n",
              "      border-top-color: var(--fill-color);\n",
              "    }\n",
              "    60% {\n",
              "      border-color: transparent;\n",
              "      border-right-color: var(--fill-color);\n",
              "    }\n",
              "    80% {\n",
              "      border-color: transparent;\n",
              "      border-right-color: var(--fill-color);\n",
              "      border-bottom-color: var(--fill-color);\n",
              "    }\n",
              "    90% {\n",
              "      border-color: transparent;\n",
              "      border-bottom-color: var(--fill-color);\n",
              "    }\n",
              "  }\n",
              "</style>\n",
              "\n",
              "  <script>\n",
              "    async function quickchart(key) {\n",
              "      const quickchartButtonEl =\n",
              "        document.querySelector('#' + key + ' button');\n",
              "      quickchartButtonEl.disabled = true;  // To prevent multiple clicks.\n",
              "      quickchartButtonEl.classList.add('colab-df-spinner');\n",
              "      try {\n",
              "        const charts = await google.colab.kernel.invokeFunction(\n",
              "            'suggestCharts', [key], {});\n",
              "      } catch (error) {\n",
              "        console.error('Error during call to suggestCharts:', error);\n",
              "      }\n",
              "      quickchartButtonEl.classList.remove('colab-df-spinner');\n",
              "      quickchartButtonEl.classList.add('colab-df-quickchart-complete');\n",
              "    }\n",
              "    (() => {\n",
              "      let quickchartButtonEl =\n",
              "        document.querySelector('#df-1181e7ba-0e5a-473a-8871-f4dd3f7e15b9 button');\n",
              "      quickchartButtonEl.style.display =\n",
              "        google.colab.kernel.accessAllowed ? 'block' : 'none';\n",
              "    })();\n",
              "  </script>\n",
              "</div>\n",
              "    </div>\n",
              "  </div>\n"
            ],
            "text/plain": [
              "       Company Specific Bean Origin Cocoa Percent Company Location Bean Type  \\\n",
              "count     1255                 1255          1255             1255      1254   \n",
              "unique     376                  762            40               58        38   \n",
              "top       Soma           Madagascar           70%           U.S.A.             \n",
              "freq        35                   39           461              521       628   \n",
              "\n",
              "       Broad Bean Origin  \n",
              "count               1254  \n",
              "unique                84  \n",
              "top            Venezuela  \n",
              "freq                 144  "
            ]
          },
          "execution_count": 7,
          "metadata": {},
          "output_type": "execute_result"
        }
      ],
      "source": [
        "train_df.describe(include='object')"
      ]
    },
    {
      "cell_type": "markdown",
      "metadata": {
        "id": "4zeLNszKzRsT"
      },
      "source": [
        "Самый популярный Bean Type - \"пустой\"\n"
      ]
    },
    {
      "cell_type": "code",
      "execution_count": null,
      "metadata": {
        "colab": {
          "base_uri": "https://localhost:8080/",
          "height": 300
        },
        "id": "UbmsFwXREHzw",
        "outputId": "b63e638b-bafe-4dcb-c020-73ddc6a7e0c0"
      },
      "outputs": [
        {
          "data": {
            "application/vnd.google.colaboratory.intrinsic+json": {
              "summary": "{\n  \"name\": \"train_df\",\n  \"rows\": 8,\n  \"fields\": [\n    {\n      \"column\": \"REF\",\n      \"properties\": {\n        \"dtype\": \"number\",\n        \"std\": 609.5086304582856,\n        \"min\": 5.0,\n        \"max\": 1952.0,\n        \"num_unique_values\": 8,\n        \"samples\": [\n          1045.1521912350597,\n          1077.0,\n          1255.0\n        ],\n        \"semantic_type\": \"\",\n        \"description\": \"\"\n      }\n    },\n    {\n      \"column\": \"Review\",\n      \"properties\": {\n        \"dtype\": \"number\",\n        \"std\": 722.5030128123936,\n        \"min\": 2.922498977455637,\n        \"max\": 2017.0,\n        \"num_unique_values\": 8,\n        \"samples\": [\n          2012.382470119522,\n          2013.0,\n          1255.0\n        ],\n        \"semantic_type\": \"\",\n        \"description\": \"\"\n      }\n    },\n    {\n      \"column\": \"Rating\",\n      \"properties\": {\n        \"dtype\": \"number\",\n        \"std\": 442.74431240903056,\n        \"min\": 0.47894802129397895,\n        \"max\": 1255.0,\n        \"num_unique_values\": 8,\n        \"samples\": [\n          3.1764940239043824,\n          3.25,\n          1255.0\n        ],\n        \"semantic_type\": \"\",\n        \"description\": \"\"\n      }\n    }\n  ]\n}",
              "type": "dataframe"
            },
            "text/html": [
              "\n",
              "  <div id=\"df-d35ad79f-7d03-4d5d-8e1d-f301b1f56f5f\" class=\"colab-df-container\">\n",
              "    <div>\n",
              "<style scoped>\n",
              "    .dataframe tbody tr th:only-of-type {\n",
              "        vertical-align: middle;\n",
              "    }\n",
              "\n",
              "    .dataframe tbody tr th {\n",
              "        vertical-align: top;\n",
              "    }\n",
              "\n",
              "    .dataframe thead th {\n",
              "        text-align: right;\n",
              "    }\n",
              "</style>\n",
              "<table border=\"1\" class=\"dataframe\">\n",
              "  <thead>\n",
              "    <tr style=\"text-align: right;\">\n",
              "      <th></th>\n",
              "      <th>REF</th>\n",
              "      <th>Review</th>\n",
              "      <th>Rating</th>\n",
              "    </tr>\n",
              "  </thead>\n",
              "  <tbody>\n",
              "    <tr>\n",
              "      <th>count</th>\n",
              "      <td>1255.000000</td>\n",
              "      <td>1255.000000</td>\n",
              "      <td>1255.000000</td>\n",
              "    </tr>\n",
              "    <tr>\n",
              "      <th>mean</th>\n",
              "      <td>1045.152191</td>\n",
              "      <td>2012.382470</td>\n",
              "      <td>3.176494</td>\n",
              "    </tr>\n",
              "    <tr>\n",
              "      <th>std</th>\n",
              "      <td>551.284249</td>\n",
              "      <td>2.922499</td>\n",
              "      <td>0.478948</td>\n",
              "    </tr>\n",
              "    <tr>\n",
              "      <th>min</th>\n",
              "      <td>5.000000</td>\n",
              "      <td>2006.000000</td>\n",
              "      <td>1.000000</td>\n",
              "    </tr>\n",
              "    <tr>\n",
              "      <th>25%</th>\n",
              "      <td>593.000000</td>\n",
              "      <td>2010.000000</td>\n",
              "      <td>2.750000</td>\n",
              "    </tr>\n",
              "    <tr>\n",
              "      <th>50%</th>\n",
              "      <td>1077.000000</td>\n",
              "      <td>2013.000000</td>\n",
              "      <td>3.250000</td>\n",
              "    </tr>\n",
              "    <tr>\n",
              "      <th>75%</th>\n",
              "      <td>1514.000000</td>\n",
              "      <td>2015.000000</td>\n",
              "      <td>3.500000</td>\n",
              "    </tr>\n",
              "    <tr>\n",
              "      <th>max</th>\n",
              "      <td>1952.000000</td>\n",
              "      <td>2017.000000</td>\n",
              "      <td>5.000000</td>\n",
              "    </tr>\n",
              "  </tbody>\n",
              "</table>\n",
              "</div>\n",
              "    <div class=\"colab-df-buttons\">\n",
              "\n",
              "  <div class=\"colab-df-container\">\n",
              "    <button class=\"colab-df-convert\" onclick=\"convertToInteractive('df-d35ad79f-7d03-4d5d-8e1d-f301b1f56f5f')\"\n",
              "            title=\"Convert this dataframe to an interactive table.\"\n",
              "            style=\"display:none;\">\n",
              "\n",
              "  <svg xmlns=\"http://www.w3.org/2000/svg\" height=\"24px\" viewBox=\"0 -960 960 960\">\n",
              "    <path d=\"M120-120v-720h720v720H120Zm60-500h600v-160H180v160Zm220 220h160v-160H400v160Zm0 220h160v-160H400v160ZM180-400h160v-160H180v160Zm440 0h160v-160H620v160ZM180-180h160v-160H180v160Zm440 0h160v-160H620v160Z\"/>\n",
              "  </svg>\n",
              "    </button>\n",
              "\n",
              "  <style>\n",
              "    .colab-df-container {\n",
              "      display:flex;\n",
              "      gap: 12px;\n",
              "    }\n",
              "\n",
              "    .colab-df-convert {\n",
              "      background-color: #E8F0FE;\n",
              "      border: none;\n",
              "      border-radius: 50%;\n",
              "      cursor: pointer;\n",
              "      display: none;\n",
              "      fill: #1967D2;\n",
              "      height: 32px;\n",
              "      padding: 0 0 0 0;\n",
              "      width: 32px;\n",
              "    }\n",
              "\n",
              "    .colab-df-convert:hover {\n",
              "      background-color: #E2EBFA;\n",
              "      box-shadow: 0px 1px 2px rgba(60, 64, 67, 0.3), 0px 1px 3px 1px rgba(60, 64, 67, 0.15);\n",
              "      fill: #174EA6;\n",
              "    }\n",
              "\n",
              "    .colab-df-buttons div {\n",
              "      margin-bottom: 4px;\n",
              "    }\n",
              "\n",
              "    [theme=dark] .colab-df-convert {\n",
              "      background-color: #3B4455;\n",
              "      fill: #D2E3FC;\n",
              "    }\n",
              "\n",
              "    [theme=dark] .colab-df-convert:hover {\n",
              "      background-color: #434B5C;\n",
              "      box-shadow: 0px 1px 3px 1px rgba(0, 0, 0, 0.15);\n",
              "      filter: drop-shadow(0px 1px 2px rgba(0, 0, 0, 0.3));\n",
              "      fill: #FFFFFF;\n",
              "    }\n",
              "  </style>\n",
              "\n",
              "    <script>\n",
              "      const buttonEl =\n",
              "        document.querySelector('#df-d35ad79f-7d03-4d5d-8e1d-f301b1f56f5f button.colab-df-convert');\n",
              "      buttonEl.style.display =\n",
              "        google.colab.kernel.accessAllowed ? 'block' : 'none';\n",
              "\n",
              "      async function convertToInteractive(key) {\n",
              "        const element = document.querySelector('#df-d35ad79f-7d03-4d5d-8e1d-f301b1f56f5f');\n",
              "        const dataTable =\n",
              "          await google.colab.kernel.invokeFunction('convertToInteractive',\n",
              "                                                    [key], {});\n",
              "        if (!dataTable) return;\n",
              "\n",
              "        const docLinkHtml = 'Like what you see? Visit the ' +\n",
              "          '<a target=\"_blank\" href=https://colab.research.google.com/notebooks/data_table.ipynb>data table notebook</a>'\n",
              "          + ' to learn more about interactive tables.';\n",
              "        element.innerHTML = '';\n",
              "        dataTable['output_type'] = 'display_data';\n",
              "        await google.colab.output.renderOutput(dataTable, element);\n",
              "        const docLink = document.createElement('div');\n",
              "        docLink.innerHTML = docLinkHtml;\n",
              "        element.appendChild(docLink);\n",
              "      }\n",
              "    </script>\n",
              "  </div>\n",
              "\n",
              "\n",
              "<div id=\"df-314b20cf-eb68-4170-ac6f-c5e635a48eea\">\n",
              "  <button class=\"colab-df-quickchart\" onclick=\"quickchart('df-314b20cf-eb68-4170-ac6f-c5e635a48eea')\"\n",
              "            title=\"Suggest charts\"\n",
              "            style=\"display:none;\">\n",
              "\n",
              "<svg xmlns=\"http://www.w3.org/2000/svg\" height=\"24px\"viewBox=\"0 0 24 24\"\n",
              "     width=\"24px\">\n",
              "    <g>\n",
              "        <path d=\"M19 3H5c-1.1 0-2 .9-2 2v14c0 1.1.9 2 2 2h14c1.1 0 2-.9 2-2V5c0-1.1-.9-2-2-2zM9 17H7v-7h2v7zm4 0h-2V7h2v10zm4 0h-2v-4h2v4z\"/>\n",
              "    </g>\n",
              "</svg>\n",
              "  </button>\n",
              "\n",
              "<style>\n",
              "  .colab-df-quickchart {\n",
              "      --bg-color: #E8F0FE;\n",
              "      --fill-color: #1967D2;\n",
              "      --hover-bg-color: #E2EBFA;\n",
              "      --hover-fill-color: #174EA6;\n",
              "      --disabled-fill-color: #AAA;\n",
              "      --disabled-bg-color: #DDD;\n",
              "  }\n",
              "\n",
              "  [theme=dark] .colab-df-quickchart {\n",
              "      --bg-color: #3B4455;\n",
              "      --fill-color: #D2E3FC;\n",
              "      --hover-bg-color: #434B5C;\n",
              "      --hover-fill-color: #FFFFFF;\n",
              "      --disabled-bg-color: #3B4455;\n",
              "      --disabled-fill-color: #666;\n",
              "  }\n",
              "\n",
              "  .colab-df-quickchart {\n",
              "    background-color: var(--bg-color);\n",
              "    border: none;\n",
              "    border-radius: 50%;\n",
              "    cursor: pointer;\n",
              "    display: none;\n",
              "    fill: var(--fill-color);\n",
              "    height: 32px;\n",
              "    padding: 0;\n",
              "    width: 32px;\n",
              "  }\n",
              "\n",
              "  .colab-df-quickchart:hover {\n",
              "    background-color: var(--hover-bg-color);\n",
              "    box-shadow: 0 1px 2px rgba(60, 64, 67, 0.3), 0 1px 3px 1px rgba(60, 64, 67, 0.15);\n",
              "    fill: var(--button-hover-fill-color);\n",
              "  }\n",
              "\n",
              "  .colab-df-quickchart-complete:disabled,\n",
              "  .colab-df-quickchart-complete:disabled:hover {\n",
              "    background-color: var(--disabled-bg-color);\n",
              "    fill: var(--disabled-fill-color);\n",
              "    box-shadow: none;\n",
              "  }\n",
              "\n",
              "  .colab-df-spinner {\n",
              "    border: 2px solid var(--fill-color);\n",
              "    border-color: transparent;\n",
              "    border-bottom-color: var(--fill-color);\n",
              "    animation:\n",
              "      spin 1s steps(1) infinite;\n",
              "  }\n",
              "\n",
              "  @keyframes spin {\n",
              "    0% {\n",
              "      border-color: transparent;\n",
              "      border-bottom-color: var(--fill-color);\n",
              "      border-left-color: var(--fill-color);\n",
              "    }\n",
              "    20% {\n",
              "      border-color: transparent;\n",
              "      border-left-color: var(--fill-color);\n",
              "      border-top-color: var(--fill-color);\n",
              "    }\n",
              "    30% {\n",
              "      border-color: transparent;\n",
              "      border-left-color: var(--fill-color);\n",
              "      border-top-color: var(--fill-color);\n",
              "      border-right-color: var(--fill-color);\n",
              "    }\n",
              "    40% {\n",
              "      border-color: transparent;\n",
              "      border-right-color: var(--fill-color);\n",
              "      border-top-color: var(--fill-color);\n",
              "    }\n",
              "    60% {\n",
              "      border-color: transparent;\n",
              "      border-right-color: var(--fill-color);\n",
              "    }\n",
              "    80% {\n",
              "      border-color: transparent;\n",
              "      border-right-color: var(--fill-color);\n",
              "      border-bottom-color: var(--fill-color);\n",
              "    }\n",
              "    90% {\n",
              "      border-color: transparent;\n",
              "      border-bottom-color: var(--fill-color);\n",
              "    }\n",
              "  }\n",
              "</style>\n",
              "\n",
              "  <script>\n",
              "    async function quickchart(key) {\n",
              "      const quickchartButtonEl =\n",
              "        document.querySelector('#' + key + ' button');\n",
              "      quickchartButtonEl.disabled = true;  // To prevent multiple clicks.\n",
              "      quickchartButtonEl.classList.add('colab-df-spinner');\n",
              "      try {\n",
              "        const charts = await google.colab.kernel.invokeFunction(\n",
              "            'suggestCharts', [key], {});\n",
              "      } catch (error) {\n",
              "        console.error('Error during call to suggestCharts:', error);\n",
              "      }\n",
              "      quickchartButtonEl.classList.remove('colab-df-spinner');\n",
              "      quickchartButtonEl.classList.add('colab-df-quickchart-complete');\n",
              "    }\n",
              "    (() => {\n",
              "      let quickchartButtonEl =\n",
              "        document.querySelector('#df-314b20cf-eb68-4170-ac6f-c5e635a48eea button');\n",
              "      quickchartButtonEl.style.display =\n",
              "        google.colab.kernel.accessAllowed ? 'block' : 'none';\n",
              "    })();\n",
              "  </script>\n",
              "</div>\n",
              "    </div>\n",
              "  </div>\n"
            ],
            "text/plain": [
              "               REF       Review       Rating\n",
              "count  1255.000000  1255.000000  1255.000000\n",
              "mean   1045.152191  2012.382470     3.176494\n",
              "std     551.284249     2.922499     0.478948\n",
              "min       5.000000  2006.000000     1.000000\n",
              "25%     593.000000  2010.000000     2.750000\n",
              "50%    1077.000000  2013.000000     3.250000\n",
              "75%    1514.000000  2015.000000     3.500000\n",
              "max    1952.000000  2017.000000     5.000000"
            ]
          },
          "execution_count": 8,
          "metadata": {},
          "output_type": "execute_result"
        }
      ],
      "source": [
        "train_df.describe()"
      ]
    },
    {
      "cell_type": "code",
      "execution_count": null,
      "metadata": {
        "colab": {
          "base_uri": "https://localhost:8080/",
          "height": 424
        },
        "id": "Sing8n81-kwF",
        "outputId": "0b8be99b-9901-4630-d569-caaf45f1c2a9"
      },
      "outputs": [
        {
          "data": {
            "application/vnd.google.colaboratory.intrinsic+json": {
              "summary": "{\n  \"name\": \"train_df\",\n  \"rows\": 1255,\n  \"fields\": [\n    {\n      \"column\": \"Company\",\n      \"properties\": {\n        \"dtype\": \"category\",\n        \"num_unique_values\": 376,\n        \"samples\": [\n          \"Malmo\",\n          \"Whittakers\",\n          \"El Rey\"\n        ],\n        \"semantic_type\": \"\",\n        \"description\": \"\"\n      }\n    },\n    {\n      \"column\": \"Specific Bean Origin\",\n      \"properties\": {\n        \"dtype\": \"string\",\n        \"num_unique_values\": 762,\n        \"samples\": [\n          \"Venezuela; Barinos, Merida, Tachron\",\n          \"Akesson's, batch 4411\",\n          \"Ambanja, Sambirano Valley\"\n        ],\n        \"semantic_type\": \"\",\n        \"description\": \"\"\n      }\n    },\n    {\n      \"column\": \"REF\",\n      \"properties\": {\n        \"dtype\": \"number\",\n        \"std\": 551,\n        \"min\": 5,\n        \"max\": 1952,\n        \"num_unique_values\": 433,\n        \"samples\": [\n          1383,\n          1478,\n          56\n        ],\n        \"semantic_type\": \"\",\n        \"description\": \"\"\n      }\n    },\n    {\n      \"column\": \"Review\",\n      \"properties\": {\n        \"dtype\": \"number\",\n        \"std\": 2,\n        \"min\": 2006,\n        \"max\": 2017,\n        \"num_unique_values\": 12,\n        \"samples\": [\n          2007,\n          2012,\n          2009\n        ],\n        \"semantic_type\": \"\",\n        \"description\": \"\"\n      }\n    },\n    {\n      \"column\": \"Cocoa Percent\",\n      \"properties\": {\n        \"dtype\": \"category\",\n        \"num_unique_values\": 40,\n        \"samples\": [\n          \"91%\",\n          \"81%\",\n          \"76%\"\n        ],\n        \"semantic_type\": \"\",\n        \"description\": \"\"\n      }\n    },\n    {\n      \"column\": \"Company Location\",\n      \"properties\": {\n        \"dtype\": \"category\",\n        \"num_unique_values\": 58,\n        \"samples\": [\n          \"U.K.\",\n          \"Colombia\",\n          \"Scotland\"\n        ],\n        \"semantic_type\": \"\",\n        \"description\": \"\"\n      }\n    },\n    {\n      \"column\": \"Rating\",\n      \"properties\": {\n        \"dtype\": \"number\",\n        \"std\": 0.47894802129397895,\n        \"min\": 1.0,\n        \"max\": 5.0,\n        \"num_unique_values\": 13,\n        \"samples\": [\n          1.75,\n          2.0,\n          3.25\n        ],\n        \"semantic_type\": \"\",\n        \"description\": \"\"\n      }\n    },\n    {\n      \"column\": \"Bean Type\",\n      \"properties\": {\n        \"dtype\": \"category\",\n        \"num_unique_values\": 38,\n        \"samples\": [\n          \"Blend-Forastero,Criollo\",\n          \"Trinitario, Nacional\",\n          \"Forastero (Arriba)\"\n        ],\n        \"semantic_type\": \"\",\n        \"description\": \"\"\n      }\n    },\n    {\n      \"column\": \"Broad Bean Origin\",\n      \"properties\": {\n        \"dtype\": \"category\",\n        \"num_unique_values\": 84,\n        \"samples\": [\n          \"Indonesia, Ghana\",\n          \"Venezuela\",\n          \"Gabon\"\n        ],\n        \"semantic_type\": \"\",\n        \"description\": \"\"\n      }\n    }\n  ]\n}",
              "type": "dataframe",
              "variable_name": "train_df"
            },
            "text/html": [
              "\n",
              "  <div id=\"df-91c86543-0de2-4afb-96dc-307d2f875c3d\" class=\"colab-df-container\">\n",
              "    <div>\n",
              "<style scoped>\n",
              "    .dataframe tbody tr th:only-of-type {\n",
              "        vertical-align: middle;\n",
              "    }\n",
              "\n",
              "    .dataframe tbody tr th {\n",
              "        vertical-align: top;\n",
              "    }\n",
              "\n",
              "    .dataframe thead th {\n",
              "        text-align: right;\n",
              "    }\n",
              "</style>\n",
              "<table border=\"1\" class=\"dataframe\">\n",
              "  <thead>\n",
              "    <tr style=\"text-align: right;\">\n",
              "      <th></th>\n",
              "      <th>Company</th>\n",
              "      <th>Specific Bean Origin</th>\n",
              "      <th>REF</th>\n",
              "      <th>Review</th>\n",
              "      <th>Cocoa Percent</th>\n",
              "      <th>Company Location</th>\n",
              "      <th>Rating</th>\n",
              "      <th>Bean Type</th>\n",
              "      <th>Broad Bean Origin</th>\n",
              "    </tr>\n",
              "  </thead>\n",
              "  <tbody>\n",
              "    <tr>\n",
              "      <th>0</th>\n",
              "      <td>Willie's Cacao</td>\n",
              "      <td>Rio Caribe</td>\n",
              "      <td>457</td>\n",
              "      <td>2009</td>\n",
              "      <td>72%</td>\n",
              "      <td>U.K.</td>\n",
              "      <td>3.25</td>\n",
              "      <td>Trinitario</td>\n",
              "      <td>Venezuela</td>\n",
              "    </tr>\n",
              "    <tr>\n",
              "      <th>1</th>\n",
              "      <td>Beschle (Felchlin)</td>\n",
              "      <td>Ocumare, Premier Cru, Quizas No. 2</td>\n",
              "      <td>508</td>\n",
              "      <td>2010</td>\n",
              "      <td>72%</td>\n",
              "      <td>Switzerland</td>\n",
              "      <td>3.50</td>\n",
              "      <td></td>\n",
              "      <td>Venezuela</td>\n",
              "    </tr>\n",
              "    <tr>\n",
              "      <th>2</th>\n",
              "      <td>Dark Forest</td>\n",
              "      <td>Tanzania</td>\n",
              "      <td>1554</td>\n",
              "      <td>2015</td>\n",
              "      <td>70%</td>\n",
              "      <td>U.S.A.</td>\n",
              "      <td>3.00</td>\n",
              "      <td></td>\n",
              "      <td>Tanzania</td>\n",
              "    </tr>\n",
              "    <tr>\n",
              "      <th>3</th>\n",
              "      <td>Brasstown aka It's Chocolate</td>\n",
              "      <td>Cooproagro</td>\n",
              "      <td>1125</td>\n",
              "      <td>2013</td>\n",
              "      <td>72%</td>\n",
              "      <td>U.S.A.</td>\n",
              "      <td>3.00</td>\n",
              "      <td>Trinitario</td>\n",
              "      <td>Dominican Republic</td>\n",
              "    </tr>\n",
              "    <tr>\n",
              "      <th>4</th>\n",
              "      <td>Pralus</td>\n",
              "      <td>Java, Indonesie</td>\n",
              "      <td>32</td>\n",
              "      <td>2006</td>\n",
              "      <td>75%</td>\n",
              "      <td>France</td>\n",
              "      <td>3.50</td>\n",
              "      <td>Criollo</td>\n",
              "      <td>Indonesia</td>\n",
              "    </tr>\n",
              "    <tr>\n",
              "      <th>...</th>\n",
              "      <td>...</td>\n",
              "      <td>...</td>\n",
              "      <td>...</td>\n",
              "      <td>...</td>\n",
              "      <td>...</td>\n",
              "      <td>...</td>\n",
              "      <td>...</td>\n",
              "      <td>...</td>\n",
              "      <td>...</td>\n",
              "    </tr>\n",
              "    <tr>\n",
              "      <th>1250</th>\n",
              "      <td>Artisan du Chocolat</td>\n",
              "      <td>Madagascar</td>\n",
              "      <td>363</td>\n",
              "      <td>2009</td>\n",
              "      <td>80%</td>\n",
              "      <td>U.K.</td>\n",
              "      <td>3.00</td>\n",
              "      <td>Criollo, Trinitario</td>\n",
              "      <td>Madagascar</td>\n",
              "    </tr>\n",
              "    <tr>\n",
              "      <th>1251</th>\n",
              "      <td>Marana</td>\n",
              "      <td>Cusco</td>\n",
              "      <td>1884</td>\n",
              "      <td>2016</td>\n",
              "      <td>70%</td>\n",
              "      <td>Peru</td>\n",
              "      <td>2.75</td>\n",
              "      <td></td>\n",
              "      <td>Peru</td>\n",
              "    </tr>\n",
              "    <tr>\n",
              "      <th>1252</th>\n",
              "      <td>Arete</td>\n",
              "      <td>Nacional</td>\n",
              "      <td>1534</td>\n",
              "      <td>2015</td>\n",
              "      <td>68%</td>\n",
              "      <td>U.S.A.</td>\n",
              "      <td>3.50</td>\n",
              "      <td>Forastero (Nacional)</td>\n",
              "      <td>Peru</td>\n",
              "    </tr>\n",
              "    <tr>\n",
              "      <th>1253</th>\n",
              "      <td>Fresco</td>\n",
              "      <td>Conacado, #212, LR, SC</td>\n",
              "      <td>642</td>\n",
              "      <td>2011</td>\n",
              "      <td>72%</td>\n",
              "      <td>U.S.A.</td>\n",
              "      <td>3.50</td>\n",
              "      <td></td>\n",
              "      <td>Dominican Republic</td>\n",
              "    </tr>\n",
              "    <tr>\n",
              "      <th>1254</th>\n",
              "      <td>Zak's</td>\n",
              "      <td>Madagascar, Batch 2</td>\n",
              "      <td>1578</td>\n",
              "      <td>2015</td>\n",
              "      <td>70%</td>\n",
              "      <td>U.S.A.</td>\n",
              "      <td>3.25</td>\n",
              "      <td>Trinitario</td>\n",
              "      <td>Madagascar</td>\n",
              "    </tr>\n",
              "  </tbody>\n",
              "</table>\n",
              "<p>1255 rows × 9 columns</p>\n",
              "</div>\n",
              "    <div class=\"colab-df-buttons\">\n",
              "\n",
              "  <div class=\"colab-df-container\">\n",
              "    <button class=\"colab-df-convert\" onclick=\"convertToInteractive('df-91c86543-0de2-4afb-96dc-307d2f875c3d')\"\n",
              "            title=\"Convert this dataframe to an interactive table.\"\n",
              "            style=\"display:none;\">\n",
              "\n",
              "  <svg xmlns=\"http://www.w3.org/2000/svg\" height=\"24px\" viewBox=\"0 -960 960 960\">\n",
              "    <path d=\"M120-120v-720h720v720H120Zm60-500h600v-160H180v160Zm220 220h160v-160H400v160Zm0 220h160v-160H400v160ZM180-400h160v-160H180v160Zm440 0h160v-160H620v160ZM180-180h160v-160H180v160Zm440 0h160v-160H620v160Z\"/>\n",
              "  </svg>\n",
              "    </button>\n",
              "\n",
              "  <style>\n",
              "    .colab-df-container {\n",
              "      display:flex;\n",
              "      gap: 12px;\n",
              "    }\n",
              "\n",
              "    .colab-df-convert {\n",
              "      background-color: #E8F0FE;\n",
              "      border: none;\n",
              "      border-radius: 50%;\n",
              "      cursor: pointer;\n",
              "      display: none;\n",
              "      fill: #1967D2;\n",
              "      height: 32px;\n",
              "      padding: 0 0 0 0;\n",
              "      width: 32px;\n",
              "    }\n",
              "\n",
              "    .colab-df-convert:hover {\n",
              "      background-color: #E2EBFA;\n",
              "      box-shadow: 0px 1px 2px rgba(60, 64, 67, 0.3), 0px 1px 3px 1px rgba(60, 64, 67, 0.15);\n",
              "      fill: #174EA6;\n",
              "    }\n",
              "\n",
              "    .colab-df-buttons div {\n",
              "      margin-bottom: 4px;\n",
              "    }\n",
              "\n",
              "    [theme=dark] .colab-df-convert {\n",
              "      background-color: #3B4455;\n",
              "      fill: #D2E3FC;\n",
              "    }\n",
              "\n",
              "    [theme=dark] .colab-df-convert:hover {\n",
              "      background-color: #434B5C;\n",
              "      box-shadow: 0px 1px 3px 1px rgba(0, 0, 0, 0.15);\n",
              "      filter: drop-shadow(0px 1px 2px rgba(0, 0, 0, 0.3));\n",
              "      fill: #FFFFFF;\n",
              "    }\n",
              "  </style>\n",
              "\n",
              "    <script>\n",
              "      const buttonEl =\n",
              "        document.querySelector('#df-91c86543-0de2-4afb-96dc-307d2f875c3d button.colab-df-convert');\n",
              "      buttonEl.style.display =\n",
              "        google.colab.kernel.accessAllowed ? 'block' : 'none';\n",
              "\n",
              "      async function convertToInteractive(key) {\n",
              "        const element = document.querySelector('#df-91c86543-0de2-4afb-96dc-307d2f875c3d');\n",
              "        const dataTable =\n",
              "          await google.colab.kernel.invokeFunction('convertToInteractive',\n",
              "                                                    [key], {});\n",
              "        if (!dataTable) return;\n",
              "\n",
              "        const docLinkHtml = 'Like what you see? Visit the ' +\n",
              "          '<a target=\"_blank\" href=https://colab.research.google.com/notebooks/data_table.ipynb>data table notebook</a>'\n",
              "          + ' to learn more about interactive tables.';\n",
              "        element.innerHTML = '';\n",
              "        dataTable['output_type'] = 'display_data';\n",
              "        await google.colab.output.renderOutput(dataTable, element);\n",
              "        const docLink = document.createElement('div');\n",
              "        docLink.innerHTML = docLinkHtml;\n",
              "        element.appendChild(docLink);\n",
              "      }\n",
              "    </script>\n",
              "  </div>\n",
              "\n",
              "\n",
              "<div id=\"df-a96bd965-e350-4d19-9e07-c41b755e46f4\">\n",
              "  <button class=\"colab-df-quickchart\" onclick=\"quickchart('df-a96bd965-e350-4d19-9e07-c41b755e46f4')\"\n",
              "            title=\"Suggest charts\"\n",
              "            style=\"display:none;\">\n",
              "\n",
              "<svg xmlns=\"http://www.w3.org/2000/svg\" height=\"24px\"viewBox=\"0 0 24 24\"\n",
              "     width=\"24px\">\n",
              "    <g>\n",
              "        <path d=\"M19 3H5c-1.1 0-2 .9-2 2v14c0 1.1.9 2 2 2h14c1.1 0 2-.9 2-2V5c0-1.1-.9-2-2-2zM9 17H7v-7h2v7zm4 0h-2V7h2v10zm4 0h-2v-4h2v4z\"/>\n",
              "    </g>\n",
              "</svg>\n",
              "  </button>\n",
              "\n",
              "<style>\n",
              "  .colab-df-quickchart {\n",
              "      --bg-color: #E8F0FE;\n",
              "      --fill-color: #1967D2;\n",
              "      --hover-bg-color: #E2EBFA;\n",
              "      --hover-fill-color: #174EA6;\n",
              "      --disabled-fill-color: #AAA;\n",
              "      --disabled-bg-color: #DDD;\n",
              "  }\n",
              "\n",
              "  [theme=dark] .colab-df-quickchart {\n",
              "      --bg-color: #3B4455;\n",
              "      --fill-color: #D2E3FC;\n",
              "      --hover-bg-color: #434B5C;\n",
              "      --hover-fill-color: #FFFFFF;\n",
              "      --disabled-bg-color: #3B4455;\n",
              "      --disabled-fill-color: #666;\n",
              "  }\n",
              "\n",
              "  .colab-df-quickchart {\n",
              "    background-color: var(--bg-color);\n",
              "    border: none;\n",
              "    border-radius: 50%;\n",
              "    cursor: pointer;\n",
              "    display: none;\n",
              "    fill: var(--fill-color);\n",
              "    height: 32px;\n",
              "    padding: 0;\n",
              "    width: 32px;\n",
              "  }\n",
              "\n",
              "  .colab-df-quickchart:hover {\n",
              "    background-color: var(--hover-bg-color);\n",
              "    box-shadow: 0 1px 2px rgba(60, 64, 67, 0.3), 0 1px 3px 1px rgba(60, 64, 67, 0.15);\n",
              "    fill: var(--button-hover-fill-color);\n",
              "  }\n",
              "\n",
              "  .colab-df-quickchart-complete:disabled,\n",
              "  .colab-df-quickchart-complete:disabled:hover {\n",
              "    background-color: var(--disabled-bg-color);\n",
              "    fill: var(--disabled-fill-color);\n",
              "    box-shadow: none;\n",
              "  }\n",
              "\n",
              "  .colab-df-spinner {\n",
              "    border: 2px solid var(--fill-color);\n",
              "    border-color: transparent;\n",
              "    border-bottom-color: var(--fill-color);\n",
              "    animation:\n",
              "      spin 1s steps(1) infinite;\n",
              "  }\n",
              "\n",
              "  @keyframes spin {\n",
              "    0% {\n",
              "      border-color: transparent;\n",
              "      border-bottom-color: var(--fill-color);\n",
              "      border-left-color: var(--fill-color);\n",
              "    }\n",
              "    20% {\n",
              "      border-color: transparent;\n",
              "      border-left-color: var(--fill-color);\n",
              "      border-top-color: var(--fill-color);\n",
              "    }\n",
              "    30% {\n",
              "      border-color: transparent;\n",
              "      border-left-color: var(--fill-color);\n",
              "      border-top-color: var(--fill-color);\n",
              "      border-right-color: var(--fill-color);\n",
              "    }\n",
              "    40% {\n",
              "      border-color: transparent;\n",
              "      border-right-color: var(--fill-color);\n",
              "      border-top-color: var(--fill-color);\n",
              "    }\n",
              "    60% {\n",
              "      border-color: transparent;\n",
              "      border-right-color: var(--fill-color);\n",
              "    }\n",
              "    80% {\n",
              "      border-color: transparent;\n",
              "      border-right-color: var(--fill-color);\n",
              "      border-bottom-color: var(--fill-color);\n",
              "    }\n",
              "    90% {\n",
              "      border-color: transparent;\n",
              "      border-bottom-color: var(--fill-color);\n",
              "    }\n",
              "  }\n",
              "</style>\n",
              "\n",
              "  <script>\n",
              "    async function quickchart(key) {\n",
              "      const quickchartButtonEl =\n",
              "        document.querySelector('#' + key + ' button');\n",
              "      quickchartButtonEl.disabled = true;  // To prevent multiple clicks.\n",
              "      quickchartButtonEl.classList.add('colab-df-spinner');\n",
              "      try {\n",
              "        const charts = await google.colab.kernel.invokeFunction(\n",
              "            'suggestCharts', [key], {});\n",
              "      } catch (error) {\n",
              "        console.error('Error during call to suggestCharts:', error);\n",
              "      }\n",
              "      quickchartButtonEl.classList.remove('colab-df-spinner');\n",
              "      quickchartButtonEl.classList.add('colab-df-quickchart-complete');\n",
              "    }\n",
              "    (() => {\n",
              "      let quickchartButtonEl =\n",
              "        document.querySelector('#df-a96bd965-e350-4d19-9e07-c41b755e46f4 button');\n",
              "      quickchartButtonEl.style.display =\n",
              "        google.colab.kernel.accessAllowed ? 'block' : 'none';\n",
              "    })();\n",
              "  </script>\n",
              "</div>\n",
              "    </div>\n",
              "  </div>\n"
            ],
            "text/plain": [
              "                           Company                Specific Bean Origin   REF  \\\n",
              "0                   Willie's Cacao                          Rio Caribe   457   \n",
              "1               Beschle (Felchlin)  Ocumare, Premier Cru, Quizas No. 2   508   \n",
              "2                      Dark Forest                            Tanzania  1554   \n",
              "3     Brasstown aka It's Chocolate                          Cooproagro  1125   \n",
              "4                           Pralus                     Java, Indonesie    32   \n",
              "...                            ...                                 ...   ...   \n",
              "1250           Artisan du Chocolat                          Madagascar   363   \n",
              "1251                        Marana                               Cusco  1884   \n",
              "1252                         Arete                            Nacional  1534   \n",
              "1253                        Fresco              Conacado, #212, LR, SC   642   \n",
              "1254                         Zak's                 Madagascar, Batch 2  1578   \n",
              "\n",
              "      Review Cocoa Percent Company Location  Rating             Bean Type  \\\n",
              "0       2009           72%             U.K.    3.25            Trinitario   \n",
              "1       2010           72%      Switzerland    3.50                         \n",
              "2       2015           70%           U.S.A.    3.00                         \n",
              "3       2013           72%           U.S.A.    3.00            Trinitario   \n",
              "4       2006           75%           France    3.50               Criollo   \n",
              "...      ...           ...              ...     ...                   ...   \n",
              "1250    2009           80%             U.K.    3.00   Criollo, Trinitario   \n",
              "1251    2016           70%             Peru    2.75                         \n",
              "1252    2015           68%           U.S.A.    3.50  Forastero (Nacional)   \n",
              "1253    2011           72%           U.S.A.    3.50                         \n",
              "1254    2015           70%           U.S.A.    3.25            Trinitario   \n",
              "\n",
              "       Broad Bean Origin  \n",
              "0              Venezuela  \n",
              "1              Venezuela  \n",
              "2               Tanzania  \n",
              "3     Dominican Republic  \n",
              "4              Indonesia  \n",
              "...                  ...  \n",
              "1250          Madagascar  \n",
              "1251                Peru  \n",
              "1252                Peru  \n",
              "1253  Dominican Republic  \n",
              "1254          Madagascar  \n",
              "\n",
              "[1255 rows x 9 columns]"
            ]
          },
          "execution_count": 9,
          "metadata": {},
          "output_type": "execute_result"
        }
      ],
      "source": [
        "train_df"
      ]
    },
    {
      "cell_type": "markdown",
      "metadata": {
        "id": "bp1sTHzKzdSM"
      },
      "source": [
        "Проверим, что это за пустой символ, т.к. метод describe указал на наличие лишь одного пропуска в таблице"
      ]
    },
    {
      "cell_type": "code",
      "execution_count": null,
      "metadata": {
        "colab": {
          "base_uri": "https://localhost:8080/",
          "height": 35
        },
        "id": "Emz1tWYSzmS1",
        "outputId": "87b8d011-11af-411d-9041-63ea9f023fd0"
      },
      "outputs": [
        {
          "data": {
            "application/vnd.google.colaboratory.intrinsic+json": {
              "type": "string"
            },
            "text/plain": [
              "'\\xa0'"
            ]
          },
          "execution_count": 38,
          "metadata": {},
          "output_type": "execute_result"
        }
      ],
      "source": [
        "train_df['Bean Type'][1]"
      ]
    },
    {
      "cell_type": "markdown",
      "metadata": {
        "id": "m19kkG_BzsyQ"
      },
      "source": [
        "Проверим, встречается ли ещё такой \"пропуск\" в данных"
      ]
    },
    {
      "cell_type": "code",
      "execution_count": null,
      "metadata": {
        "colab": {
          "base_uri": "https://localhost:8080/"
        },
        "id": "5-sGajQ8Bfij",
        "outputId": "0eb149c8-f3b8-4159-d390-f0b739e7f3bd"
      },
      "outputs": [
        {
          "name": "stdout",
          "output_type": "stream",
          "text": [
            "Column \"Bean Type\" has 628 rows with \"\\xa0\" in it\n",
            "Column \"Broad Bean Origin\" has 55 rows with \"\\xa0\" in it\n"
          ]
        }
      ],
      "source": [
        "for col in train_df.columns:\n",
        "  miss = (train_df[col] == '\\xa0').sum()\n",
        "  if miss:\n",
        "    print(f'Column \"{col}\" has {miss} rows with \"\\\\xa0\" in it')"
      ]
    },
    {
      "cell_type": "markdown",
      "metadata": {
        "id": "_ggjrEKOujWy"
      },
      "source": [
        "Очень много пропусков в Bean Type, почти 50%. Удалять все строки не самый разумный вариант. Но проверим далее в нескольких тестах важность признака на целевую переменную."
      ]
    },
    {
      "cell_type": "markdown",
      "metadata": {
        "id": "5EAxvf5nz0Gc"
      },
      "source": [
        "Сравним статистики с учётом этого пропуска и без"
      ]
    },
    {
      "cell_type": "code",
      "execution_count": null,
      "metadata": {
        "colab": {
          "base_uri": "https://localhost:8080/"
        },
        "id": "Z0rDqo-0ITQa",
        "outputId": "4181e210-8fc7-47c5-c321-406b9bf9da81"
      },
      "outputs": [
        {
          "name": "stdout",
          "output_type": "stream",
          "text": [
            "count    628.000000\n",
            "mean       3.128981\n",
            "std        0.483463\n",
            "min        1.000000\n",
            "25%        2.750000\n",
            "50%        3.250000\n",
            "75%        3.500000\n",
            "max        4.000000\n",
            "Name: Rating, dtype: float64 \n",
            "\n",
            "count    627.000000\n",
            "mean       3.224083\n",
            "std        0.469971\n",
            "min        1.000000\n",
            "25%        3.000000\n",
            "50%        3.250000\n",
            "75%        3.500000\n",
            "max        5.000000\n",
            "Name: Rating, dtype: float64\n"
          ]
        }
      ],
      "source": [
        "print(train_df[train_df['Bean Type'] == '\\xa0']['Rating'].describe(), '\\n')\n",
        "print(train_df[train_df['Bean Type'] != '\\xa0']['Rating'].describe())"
      ]
    },
    {
      "cell_type": "markdown",
      "metadata": {
        "id": "JDIqcUikz4MF"
      },
      "source": [
        "Визуально посмотрим, как связаны Bean Type и целевая переменная"
      ]
    },
    {
      "cell_type": "code",
      "execution_count": null,
      "metadata": {
        "colab": {
          "base_uri": "https://localhost:8080/",
          "height": 691
        },
        "id": "u9Dj5qaMHHiw",
        "outputId": "ca3b14af-27bb-49ff-9691-5bbe9bf01889"
      },
      "outputs": [
        {
          "data": {
            "image/png": "[encoded data removed]",
            "text/plain": [
              "<Figure size 1000x600 with 1 Axes>"
            ]
          },
          "metadata": {},
          "output_type": "display_data"
        }
      ],
      "source": [
        "clean_df = train_df[train_df['Bean Type'] != '\\xa0']\n",
        "\n",
        "plt.figure(figsize=(10, 6))\n",
        "sns.boxplot(x='Bean Type', y='Rating', data=clean_df)\n",
        "plt.xticks(rotation=90)\n",
        "plt.show()"
      ]
    },
    {
      "cell_type": "markdown",
      "metadata": {
        "id": "gextwNUn0Fkj"
      },
      "source": [
        "Сгруппируем Bean Type и посмотрим на Rating"
      ]
    },
    {
      "cell_type": "code",
      "execution_count": null,
      "metadata": {
        "colab": {
          "base_uri": "https://localhost:8080/"
        },
        "id": "_Zs1G0e0KjuH",
        "outputId": "93e15baf-a49d-4ab8-b116-9beea51b904e"
      },
      "outputs": [
        {
          "name": "stdout",
          "output_type": "stream",
          "text": [
            "Bean Type\n",
            "Forastero (Arriba)          2.773438\n",
            "Forastero (Arriba) ASS      2.875000\n",
            "Matina                      3.000000\n",
            "Forastero(Arriba, CCN)      3.000000\n",
            "Trinitario (Amelonado)      3.000000\n",
            "Criollo (Ocumare)           3.000000\n",
            "Forastero, Trinitario       3.000000\n",
            "Trinitario, Forastero       3.000000\n",
            "Forastero                   3.127358\n",
            "Trinitario, Criollo         3.166667\n",
            "Criollo                     3.185096\n",
            "Forastero (Nacional)        3.191176\n",
            "Criollo (Amarru)            3.250000\n",
            "Criollo (Ocumare 61)        3.250000\n",
            "Nacional (Arriba)           3.250000\n",
            "Amazon                      3.250000\n",
            "Trinitario                  3.255263\n",
            "Criollo, Trinitario         3.257812\n",
            "Criollo (Porcelana)         3.361111\n",
            "Forastero (Catongo)         3.375000\n",
            "Blend                       3.437500\n",
            "Nacional                    3.500000\n",
            "EET                         3.500000\n",
            "Criollo, +                  3.500000\n",
            "Amazon, ICS                 3.500000\n",
            "Forastero (Arriba) ASSS     3.500000\n",
            "Forastero (Parazinho)       3.531250\n",
            "Criollo, Forastero          3.625000\n",
            "Trinitario (85% Criollo)    3.750000\n",
            "Forastero (Amelonado)       3.750000\n",
            "Criollo (Ocumare 77)        3.750000\n",
            "Blend-Forastero,Criollo     3.750000\n",
            "Trinitario, Nacional        3.750000\n",
            "Trinitario, TCGA            3.750000\n",
            "Criollo (Wild)              4.000000\n",
            "Criollo (Ocumare 67)        4.000000\n",
            "Amazon mix                  4.000000\n",
            "Name: Rating, dtype: float64\n"
          ]
        }
      ],
      "source": [
        "mean_rating_by_type = clean_df.groupby('Bean Type')['Rating'].mean().sort_values()\n",
        "print(mean_rating_by_type)"
      ]
    },
    {
      "cell_type": "markdown",
      "metadata": {
        "id": "wl71_GxV0J5u"
      },
      "source": [
        "И в конце ANOVA"
      ]
    },
    {
      "cell_type": "code",
      "execution_count": null,
      "metadata": {
        "colab": {
          "base_uri": "https://localhost:8080/"
        },
        "id": "g9PpLhd9Mi0M",
        "outputId": "0aeb1ad9-5553-4f3c-fe40-d283e8dd0085"
      },
      "outputs": [
        {
          "name": "stdout",
          "output_type": "stream",
          "text": [
            "ANOVA: p-value = 0.0004254362744941134\n"
          ]
        }
      ],
      "source": [
        "from scipy.stats import f_oneway\n",
        "\n",
        "rating_with_na = train_df[train_df['Bean Type'] == '\\xa0']['Rating']\n",
        "rating_without_na = train_df[train_df['Bean Type'] != '\\xa0']['Rating']\n",
        "\n",
        "\n",
        "f_stat, p_value_anova = f_oneway(rating_with_na, rating_without_na)\n",
        "print(f\"ANOVA: p-value = {p_value_anova}\")"
      ]
    },
    {
      "cell_type": "markdown",
      "metadata": {
        "id": "0WolENw2vAIt"
      },
      "source": [
        "Столбец Bean Type важен для целевой переменной."
      ]
    },
    {
      "cell_type": "markdown",
      "metadata": {
        "id": "qNCGa27-0O-4"
      },
      "source": [
        "Посмотрим на корреляции между категориальными и между числовыми признаками"
      ]
    },
    {
      "cell_type": "code",
      "execution_count": null,
      "metadata": {
        "colab": {
          "base_uri": "https://localhost:8080/",
          "height": 238
        },
        "id": "v8xv_liXvOVR",
        "outputId": "fd7c9924-f323-44cf-9ab8-152b77d57ee9"
      },
      "outputs": [
        {
          "data": {
            "application/vnd.google.colaboratory.intrinsic+json": {
              "summary": "{\n  \"name\": \"cramersv\",\n  \"rows\": 6,\n  \"fields\": [\n    {\n      \"column\": \"Company\",\n      \"properties\": {\n        \"dtype\": \"number\",\n        \"std\": 0.18753180784784634,\n        \"min\": 0.6038488681313752,\n        \"max\": 1.0,\n        \"num_unique_values\": 6,\n        \"samples\": [\n          1.0,\n          0.7710742919647465,\n          0.6038488681313752\n        ],\n        \"semantic_type\": \"\",\n        \"description\": \"\"\n      }\n    },\n    {\n      \"column\": \"Specific Bean Origin\",\n      \"properties\": {\n        \"dtype\": \"number\",\n        \"std\": 0.10403572145009483,\n        \"min\": 0.7710742919647465,\n        \"max\": 1.0,\n        \"num_unique_values\": 6,\n        \"samples\": [\n          0.7710742919647465,\n          1.0,\n          0.9835366187711055\n        ],\n        \"semantic_type\": \"\",\n        \"description\": \"\"\n      }\n    },\n    {\n      \"column\": \"Cocoa Percent\",\n      \"properties\": {\n        \"dtype\": \"number\",\n        \"std\": 0.3398841529498671,\n        \"min\": 0.15869987427614266,\n        \"max\": 1.0,\n        \"num_unique_values\": 6,\n        \"samples\": [\n          0.6315638492217547,\n          0.7729747736401082,\n          0.2664220995346309\n        ],\n        \"semantic_type\": \"\",\n        \"description\": \"\"\n      }\n    },\n    {\n      \"column\": \"Company Location\",\n      \"properties\": {\n        \"dtype\": \"number\",\n        \"std\": 0.35481213805387957,\n        \"min\": 0.24380284579153833,\n        \"max\": 1.0,\n        \"num_unique_values\": 6,\n        \"samples\": [\n          0.9996507875959112,\n          0.8085001293651074,\n          0.38324373268179984\n        ],\n        \"semantic_type\": \"\",\n        \"description\": \"\"\n      }\n    },\n    {\n      \"column\": \"Bean Type\",\n      \"properties\": {\n        \"dtype\": \"number\",\n        \"std\": 0.34072073117246665,\n        \"min\": 0.15869987427614266,\n        \"max\": 1.0,\n        \"num_unique_values\": 6,\n        \"samples\": [\n          0.6169279371750406,\n          0.9079537230376136,\n          0.388294065826318\n        ],\n        \"semantic_type\": \"\",\n        \"description\": \"\"\n      }\n    },\n    {\n      \"column\": \"Broad Bean Origin\",\n      \"properties\": {\n        \"dtype\": \"number\",\n        \"std\": 0.31940099706572056,\n        \"min\": 0.2664220995346309,\n        \"max\": 1.0,\n        \"num_unique_values\": 6,\n        \"samples\": [\n          0.6038488681313752,\n          0.9835366187711055,\n          1.0\n        ],\n        \"semantic_type\": \"\",\n        \"description\": \"\"\n      }\n    }\n  ]\n}",
              "type": "dataframe"
            },
            "text/html": [
              "\n",
              "  <div id=\"df-a28d692c-470c-4a9d-950c-5d19ea036176\" class=\"colab-df-container\">\n",
              "    <div>\n",
              "<style scoped>\n",
              "    .dataframe tbody tr th:only-of-type {\n",
              "        vertical-align: middle;\n",
              "    }\n",
              "\n",
              "    .dataframe tbody tr th {\n",
              "        vertical-align: top;\n",
              "    }\n",
              "\n",
              "    .dataframe thead th {\n",
              "        text-align: right;\n",
              "    }\n",
              "</style>\n",
              "<table border=\"1\" class=\"dataframe\">\n",
              "  <thead>\n",
              "    <tr style=\"text-align: right;\">\n",
              "      <th></th>\n",
              "      <th>Company</th>\n",
              "      <th>Specific Bean Origin</th>\n",
              "      <th>Cocoa Percent</th>\n",
              "      <th>Company Location</th>\n",
              "      <th>Bean Type</th>\n",
              "      <th>Broad Bean Origin</th>\n",
              "    </tr>\n",
              "  </thead>\n",
              "  <tbody>\n",
              "    <tr>\n",
              "      <th>Company</th>\n",
              "      <td>1.000000</td>\n",
              "      <td>0.771074</td>\n",
              "      <td>0.631564</td>\n",
              "      <td>0.999651</td>\n",
              "      <td>0.616928</td>\n",
              "      <td>0.603849</td>\n",
              "    </tr>\n",
              "    <tr>\n",
              "      <th>Specific Bean Origin</th>\n",
              "      <td>0.771074</td>\n",
              "      <td>1.000000</td>\n",
              "      <td>0.772975</td>\n",
              "      <td>0.808500</td>\n",
              "      <td>0.907954</td>\n",
              "      <td>0.983537</td>\n",
              "    </tr>\n",
              "    <tr>\n",
              "      <th>Cocoa Percent</th>\n",
              "      <td>0.631564</td>\n",
              "      <td>0.772975</td>\n",
              "      <td>1.000000</td>\n",
              "      <td>0.243803</td>\n",
              "      <td>0.158700</td>\n",
              "      <td>0.266422</td>\n",
              "    </tr>\n",
              "    <tr>\n",
              "      <th>Company Location</th>\n",
              "      <td>0.999651</td>\n",
              "      <td>0.808500</td>\n",
              "      <td>0.243803</td>\n",
              "      <td>1.000000</td>\n",
              "      <td>0.291639</td>\n",
              "      <td>0.383244</td>\n",
              "    </tr>\n",
              "    <tr>\n",
              "      <th>Bean Type</th>\n",
              "      <td>0.616928</td>\n",
              "      <td>0.907954</td>\n",
              "      <td>0.158700</td>\n",
              "      <td>0.291639</td>\n",
              "      <td>1.000000</td>\n",
              "      <td>0.388294</td>\n",
              "    </tr>\n",
              "    <tr>\n",
              "      <th>Broad Bean Origin</th>\n",
              "      <td>0.603849</td>\n",
              "      <td>0.983537</td>\n",
              "      <td>0.266422</td>\n",
              "      <td>0.383244</td>\n",
              "      <td>0.388294</td>\n",
              "      <td>1.000000</td>\n",
              "    </tr>\n",
              "  </tbody>\n",
              "</table>\n",
              "</div>\n",
              "    <div class=\"colab-df-buttons\">\n",
              "\n",
              "  <div class=\"colab-df-container\">\n",
              "    <button class=\"colab-df-convert\" onclick=\"convertToInteractive('df-a28d692c-470c-4a9d-950c-5d19ea036176')\"\n",
              "            title=\"Convert this dataframe to an interactive table.\"\n",
              "            style=\"display:none;\">\n",
              "\n",
              "  <svg xmlns=\"http://www.w3.org/2000/svg\" height=\"24px\" viewBox=\"0 -960 960 960\">\n",
              "    <path d=\"M120-120v-720h720v720H120Zm60-500h600v-160H180v160Zm220 220h160v-160H400v160Zm0 220h160v-160H400v160ZM180-400h160v-160H180v160Zm440 0h160v-160H620v160ZM180-180h160v-160H180v160Zm440 0h160v-160H620v160Z\"/>\n",
              "  </svg>\n",
              "    </button>\n",
              "\n",
              "  <style>\n",
              "    .colab-df-container {\n",
              "      display:flex;\n",
              "      gap: 12px;\n",
              "    }\n",
              "\n",
              "    .colab-df-convert {\n",
              "      background-color: #E8F0FE;\n",
              "      border: none;\n",
              "      border-radius: 50%;\n",
              "      cursor: pointer;\n",
              "      display: none;\n",
              "      fill: #1967D2;\n",
              "      height: 32px;\n",
              "      padding: 0 0 0 0;\n",
              "      width: 32px;\n",
              "    }\n",
              "\n",
              "    .colab-df-convert:hover {\n",
              "      background-color: #E2EBFA;\n",
              "      box-shadow: 0px 1px 2px rgba(60, 64, 67, 0.3), 0px 1px 3px 1px rgba(60, 64, 67, 0.15);\n",
              "      fill: #174EA6;\n",
              "    }\n",
              "\n",
              "    .colab-df-buttons div {\n",
              "      margin-bottom: 4px;\n",
              "    }\n",
              "\n",
              "    [theme=dark] .colab-df-convert {\n",
              "      background-color: #3B4455;\n",
              "      fill: #D2E3FC;\n",
              "    }\n",
              "\n",
              "    [theme=dark] .colab-df-convert:hover {\n",
              "      background-color: #434B5C;\n",
              "      box-shadow: 0px 1px 3px 1px rgba(0, 0, 0, 0.15);\n",
              "      filter: drop-shadow(0px 1px 2px rgba(0, 0, 0, 0.3));\n",
              "      fill: #FFFFFF;\n",
              "    }\n",
              "  </style>\n",
              "\n",
              "    <script>\n",
              "      const buttonEl =\n",
              "        document.querySelector('#df-a28d692c-470c-4a9d-950c-5d19ea036176 button.colab-df-convert');\n",
              "      buttonEl.style.display =\n",
              "        google.colab.kernel.accessAllowed ? 'block' : 'none';\n",
              "\n",
              "      async function convertToInteractive(key) {\n",
              "        const element = document.querySelector('#df-a28d692c-470c-4a9d-950c-5d19ea036176');\n",
              "        const dataTable =\n",
              "          await google.colab.kernel.invokeFunction('convertToInteractive',\n",
              "                                                    [key], {});\n",
              "        if (!dataTable) return;\n",
              "\n",
              "        const docLinkHtml = 'Like what you see? Visit the ' +\n",
              "          '<a target=\"_blank\" href=https://colab.research.google.com/notebooks/data_table.ipynb>data table notebook</a>'\n",
              "          + ' to learn more about interactive tables.';\n",
              "        element.innerHTML = '';\n",
              "        dataTable['output_type'] = 'display_data';\n",
              "        await google.colab.output.renderOutput(dataTable, element);\n",
              "        const docLink = document.createElement('div');\n",
              "        docLink.innerHTML = docLinkHtml;\n",
              "        element.appendChild(docLink);\n",
              "      }\n",
              "    </script>\n",
              "  </div>\n",
              "\n",
              "\n",
              "<div id=\"df-fc20ca45-6dd2-4465-8f72-fa0ba119d941\">\n",
              "  <button class=\"colab-df-quickchart\" onclick=\"quickchart('df-fc20ca45-6dd2-4465-8f72-fa0ba119d941')\"\n",
              "            title=\"Suggest charts\"\n",
              "            style=\"display:none;\">\n",
              "\n",
              "<svg xmlns=\"http://www.w3.org/2000/svg\" height=\"24px\"viewBox=\"0 0 24 24\"\n",
              "     width=\"24px\">\n",
              "    <g>\n",
              "        <path d=\"M19 3H5c-1.1 0-2 .9-2 2v14c0 1.1.9 2 2 2h14c1.1 0 2-.9 2-2V5c0-1.1-.9-2-2-2zM9 17H7v-7h2v7zm4 0h-2V7h2v10zm4 0h-2v-4h2v4z\"/>\n",
              "    </g>\n",
              "</svg>\n",
              "  </button>\n",
              "\n",
              "<style>\n",
              "  .colab-df-quickchart {\n",
              "      --bg-color: #E8F0FE;\n",
              "      --fill-color: #1967D2;\n",
              "      --hover-bg-color: #E2EBFA;\n",
              "      --hover-fill-color: #174EA6;\n",
              "      --disabled-fill-color: #AAA;\n",
              "      --disabled-bg-color: #DDD;\n",
              "  }\n",
              "\n",
              "  [theme=dark] .colab-df-quickchart {\n",
              "      --bg-color: #3B4455;\n",
              "      --fill-color: #D2E3FC;\n",
              "      --hover-bg-color: #434B5C;\n",
              "      --hover-fill-color: #FFFFFF;\n",
              "      --disabled-bg-color: #3B4455;\n",
              "      --disabled-fill-color: #666;\n",
              "  }\n",
              "\n",
              "  .colab-df-quickchart {\n",
              "    background-color: var(--bg-color);\n",
              "    border: none;\n",
              "    border-radius: 50%;\n",
              "    cursor: pointer;\n",
              "    display: none;\n",
              "    fill: var(--fill-color);\n",
              "    height: 32px;\n",
              "    padding: 0;\n",
              "    width: 32px;\n",
              "  }\n",
              "\n",
              "  .colab-df-quickchart:hover {\n",
              "    background-color: var(--hover-bg-color);\n",
              "    box-shadow: 0 1px 2px rgba(60, 64, 67, 0.3), 0 1px 3px 1px rgba(60, 64, 67, 0.15);\n",
              "    fill: var(--button-hover-fill-color);\n",
              "  }\n",
              "\n",
              "  .colab-df-quickchart-complete:disabled,\n",
              "  .colab-df-quickchart-complete:disabled:hover {\n",
              "    background-color: var(--disabled-bg-color);\n",
              "    fill: var(--disabled-fill-color);\n",
              "    box-shadow: none;\n",
              "  }\n",
              "\n",
              "  .colab-df-spinner {\n",
              "    border: 2px solid var(--fill-color);\n",
              "    border-color: transparent;\n",
              "    border-bottom-color: var(--fill-color);\n",
              "    animation:\n",
              "      spin 1s steps(1) infinite;\n",
              "  }\n",
              "\n",
              "  @keyframes spin {\n",
              "    0% {\n",
              "      border-color: transparent;\n",
              "      border-bottom-color: var(--fill-color);\n",
              "      border-left-color: var(--fill-color);\n",
              "    }\n",
              "    20% {\n",
              "      border-color: transparent;\n",
              "      border-left-color: var(--fill-color);\n",
              "      border-top-color: var(--fill-color);\n",
              "    }\n",
              "    30% {\n",
              "      border-color: transparent;\n",
              "      border-left-color: var(--fill-color);\n",
              "      border-top-color: var(--fill-color);\n",
              "      border-right-color: var(--fill-color);\n",
              "    }\n",
              "    40% {\n",
              "      border-color: transparent;\n",
              "      border-right-color: var(--fill-color);\n",
              "      border-top-color: var(--fill-color);\n",
              "    }\n",
              "    60% {\n",
              "      border-color: transparent;\n",
              "      border-right-color: var(--fill-color);\n",
              "    }\n",
              "    80% {\n",
              "      border-color: transparent;\n",
              "      border-right-color: var(--fill-color);\n",
              "      border-bottom-color: var(--fill-color);\n",
              "    }\n",
              "    90% {\n",
              "      border-color: transparent;\n",
              "      border-bottom-color: var(--fill-color);\n",
              "    }\n",
              "  }\n",
              "</style>\n",
              "\n",
              "  <script>\n",
              "    async function quickchart(key) {\n",
              "      const quickchartButtonEl =\n",
              "        document.querySelector('#' + key + ' button');\n",
              "      quickchartButtonEl.disabled = true;  // To prevent multiple clicks.\n",
              "      quickchartButtonEl.classList.add('colab-df-spinner');\n",
              "      try {\n",
              "        const charts = await google.colab.kernel.invokeFunction(\n",
              "            'suggestCharts', [key], {});\n",
              "      } catch (error) {\n",
              "        console.error('Error during call to suggestCharts:', error);\n",
              "      }\n",
              "      quickchartButtonEl.classList.remove('colab-df-spinner');\n",
              "      quickchartButtonEl.classList.add('colab-df-quickchart-complete');\n",
              "    }\n",
              "    (() => {\n",
              "      let quickchartButtonEl =\n",
              "        document.querySelector('#df-fc20ca45-6dd2-4465-8f72-fa0ba119d941 button');\n",
              "      quickchartButtonEl.style.display =\n",
              "        google.colab.kernel.accessAllowed ? 'block' : 'none';\n",
              "    })();\n",
              "  </script>\n",
              "</div>\n",
              "    </div>\n",
              "  </div>\n"
            ],
            "text/plain": [
              "                       Company  Specific Bean Origin  Cocoa Percent  \\\n",
              "Company               1.000000              0.771074       0.631564   \n",
              "Specific Bean Origin  0.771074              1.000000       0.772975   \n",
              "Cocoa Percent         0.631564              0.772975       1.000000   \n",
              "Company Location      0.999651              0.808500       0.243803   \n",
              "Bean Type             0.616928              0.907954       0.158700   \n",
              "Broad Bean Origin     0.603849              0.983537       0.266422   \n",
              "\n",
              "                      Company Location  Bean Type  Broad Bean Origin  \n",
              "Company                       0.999651   0.616928           0.603849  \n",
              "Specific Bean Origin          0.808500   0.907954           0.983537  \n",
              "Cocoa Percent                 0.243803   0.158700           0.266422  \n",
              "Company Location              1.000000   0.291639           0.383244  \n",
              "Bean Type                     0.291639   1.000000           0.388294  \n",
              "Broad Bean Origin             0.383244   0.388294           1.000000  "
            ]
          },
          "execution_count": 16,
          "metadata": {},
          "output_type": "execute_result"
        }
      ],
      "source": [
        "train_df = train_df.apply(\n",
        "        lambda x: x.astype(\"category\") if x.dtype == \"object\" else x)\n",
        "\n",
        "cramersv = am.CramersV(train_df)\n",
        "\n",
        "cramersv.fit()"
      ]
    },
    {
      "cell_type": "code",
      "execution_count": null,
      "metadata": {
        "colab": {
          "base_uri": "https://localhost:8080/",
          "height": 452
        },
        "id": "Hewr0NZnTCRz",
        "outputId": "eac7f0b7-25fd-4a85-e13a-217b8414a697"
      },
      "outputs": [
        {
          "data": {
            "text/plain": [
              "<Axes: >"
            ]
          },
          "execution_count": 17,
          "metadata": {},
          "output_type": "execute_result"
        },
        {
          "data": {
            "image/png": "[encoded data removed]",
            "text/plain": [
              "<Figure size 640x480 with 2 Axes>"
            ]
          },
          "metadata": {},
          "output_type": "display_data"
        }
      ],
      "source": [
        "cols = train_df.select_dtypes(exclude='category').columns\n",
        "\n",
        "corr = train_df[cols].corr()\n",
        "sns.heatmap(corr, cmap=\"Blues\", annot=True)"
      ]
    },
    {
      "cell_type": "markdown",
      "metadata": {
        "id": "VJVXyVKfvQjW"
      },
      "source": [
        "**Очистка данных**\n",
        "\n",
        "Заменяем пробел в Bean Type на missing, а в Broad Bean Origin на NA\n",
        "\n",
        "Cocoa Percent лишаем знака % и делаем эту фичу числовой\n",
        "\n",
        "Убираем Review за ненадобностью (очень высокая корреляция с REF), Specific Bean Origin также убираем, т.к. нет причин оставлять столь информативный столбец: достаточно Broad Bean Origin. В нём же заменяем строки с несколькими странами на Mixed"
      ]
    },
    {
      "cell_type": "code",
      "execution_count": null,
      "metadata": {
        "id": "CfHOnHbjbnR7"
      },
      "outputs": [],
      "source": [
        "def clean_data(df):\n",
        "  df = df.dropna()\n",
        "  df['Bean Type'] = df['Bean Type'].replace('\\xa0', 'missing')\n",
        "  df['Broad Bean Origin'] = df['Broad Bean Origin'].replace('\\xa0', 'NA')\n",
        "  df['Broad Bean Origin'] = df['Broad Bean Origin'].apply(\n",
        "    lambda x: x if x.startswith(\"St.\") or not any(char in x for char in [',', '.', ';']) else 'Mixed'\n",
        ")\n",
        "  df['Cocoa Percent'] = df['Cocoa Percent'].str.replace('%', '', regex=False).astype(\"float64\")\n",
        "  df.drop(['Review', 'Specific Bean Origin'], axis=1, inplace=True)\n",
        "  df = df.apply(lambda x: x.astype(\"category\") if x.dtype == \"object\" else x)\n",
        "  return df"
      ]
    },
    {
      "cell_type": "code",
      "execution_count": null,
      "metadata": {
        "id": "YwoEQe9tdWcq"
      },
      "outputs": [],
      "source": [
        "from sklearn.model_selection import train_test_split\n",
        "from sklearn.metrics import r2_score"
      ]
    },
    {
      "cell_type": "code",
      "execution_count": null,
      "metadata": {
        "id": "7bR3jKxRcEjl"
      },
      "outputs": [],
      "source": [
        "# Заменем временно dtype снова на object, т.к. category хоть и более быстрый, но менее гибкий: он не допускает внесение изменений в категории\n",
        "train_df = train_df.apply(lambda x: x.astype(\"object\") if x.dtype == \"category\" else x)\n",
        "\n",
        "cleaned_train_df = clean_data(train_df)"
      ]
    },
    {
      "cell_type": "code",
      "execution_count": null,
      "metadata": {
        "id": "Z11NwXTxdlb7"
      },
      "outputs": [],
      "source": [
        "X = cleaned_train_df.drop('Rating', axis=1)\n",
        "y = cleaned_train_df['Rating']\n",
        "\n",
        "Xtrain, Xval, ytrain, yval = train_test_split(X, y, test_size = .3, random_state=42)"
      ]
    },
    {
      "cell_type": "code",
      "execution_count": null,
      "metadata": {
        "colab": {
          "base_uri": "https://localhost:8080/",
          "height": 430
        },
        "id": "_NSO94LlfsCA",
        "outputId": "c2f16a10-71be-45d3-8dc9-c857ad8bcf39"
      },
      "outputs": [
        {
          "data": {
            "image/png": "[encoded data removed]",
            "text/plain": [
              "<Figure size 640x480 with 1 Axes>"
            ]
          },
          "metadata": {},
          "output_type": "display_data"
        }
      ],
      "source": [
        "plt.hist(ytrain, rwidth=1.0, edgecolor='k', bins=15);"
      ]
    },
    {
      "cell_type": "code",
      "execution_count": null,
      "metadata": {
        "colab": {
          "base_uri": "https://localhost:8080/"
        },
        "id": "e_Sh3q1XpcN5",
        "outputId": "706207f7-0ba4-4fd8-d4f0-268a08747535"
      },
      "outputs": [
        {
          "name": "stdout",
          "output_type": "stream",
          "text": [
            "<class 'pandas.core.frame.DataFrame'>\n",
            "Index: 877 entries, 66 to 1128\n",
            "Data columns (total 6 columns):\n",
            " #   Column             Non-Null Count  Dtype   \n",
            "---  ------             --------------  -----   \n",
            " 0   Company            877 non-null    category\n",
            " 1   REF                877 non-null    int64   \n",
            " 2   Cocoa Percent      877 non-null    float64 \n",
            " 3   Company Location   877 non-null    category\n",
            " 4   Bean Type          877 non-null    category\n",
            " 5   Broad Bean Origin  877 non-null    category\n",
            "dtypes: category(4), float64(1), int64(1)\n",
            "memory usage: 42.2 KB\n"
          ]
        }
      ],
      "source": [
        "Xtrain.info()"
      ]
    },
    {
      "cell_type": "markdown",
      "metadata": {
        "id": "pYpmmI6l3A5Q"
      },
      "source": [
        "Выделим категориальные фичи и визуально проанализируем их"
      ]
    },
    {
      "cell_type": "code",
      "execution_count": null,
      "metadata": {
        "colab": {
          "base_uri": "https://localhost:8080/",
          "height": 1000
        },
        "id": "dtGx-HvnfyB_",
        "outputId": "d929f158-4a71-47c8-92f6-99d89777e4c7"
      },
      "outputs": [
        {
          "name": "stdout",
          "output_type": "stream",
          "text": [
            "REF\n"
          ]
        },
        {
          "data": {
            "image/png": "[encoded data removed]",
            "text/plain": [
              "<Figure size 640x480 with 1 Axes>"
            ]
          },
          "metadata": {},
          "output_type": "display_data"
        },
        {
          "name": "stdout",
          "output_type": "stream",
          "text": [
            "Cocoa Percent\n"
          ]
        },
        {
          "data": {
            "image/png": "[encoded data removed]",
            "text/plain": [
              "<Figure size 640x480 with 1 Axes>"
            ]
          },
          "metadata": {},
          "output_type": "display_data"
        },
        {
          "name": "stdout",
          "output_type": "stream",
          "text": [
            "Target\n"
          ]
        },
        {
          "data": {
            "image/png": "[encoded data removed]",
            "text/plain": [
              "<Figure size 640x480 with 1 Axes>"
            ]
          },
          "metadata": {},
          "output_type": "display_data"
        }
      ],
      "source": [
        "cat_features = [i for i, col in enumerate(Xtrain.columns) if Xtrain[col].dtype.name in ['category', 'object']]\n",
        "\n",
        "for col in Xtrain.drop(Xtrain.columns[cat_features], axis=1):\n",
        "    print(col)\n",
        "    sns.boxplot(Xtrain[col])\n",
        "    plt.show()\n",
        "print('Target')\n",
        "sns.boxplot(y)\n",
        "plt.show()"
      ]
    },
    {
      "cell_type": "markdown",
      "metadata": {
        "id": "LcK_MkitsCN2"
      },
      "source": [
        "Несмотря на наличие выбросов у ящиков с усами, сами значения выбросов укладываются в возможное распределение"
      ]
    },
    {
      "cell_type": "markdown",
      "metadata": {
        "id": "PvcqpMEn3GWT"
      },
      "source": [
        "Зайдём с козырей: начнём обучать CatBoostRegressor сначала с гиперпараметрами по умолчанию, а затем начнём их подбор с помощью optuna"
      ]
    },
    {
      "cell_type": "code",
      "execution_count": null,
      "metadata": {
        "id": "v4P--7G5dlVT"
      },
      "outputs": [],
      "source": [
        "model = CatBoostRegressor(cat_features=cat_features)"
      ]
    },
    {
      "cell_type": "code",
      "execution_count": null,
      "metadata": {
        "colab": {
          "base_uri": "https://localhost:8080/"
        },
        "id": "wVUdjhNOdlRe",
        "outputId": "82a6f4fe-2266-40f3-e56c-b151c8439df9"
      },
      "outputs": [
        {
          "data": {
            "text/plain": [
              "<catboost.core.CatBoostRegressor at 0x780a63604dd0>"
            ]
          },
          "execution_count": 26,
          "metadata": {},
          "output_type": "execute_result"
        }
      ],
      "source": [
        "model.fit(Xtrain, ytrain, verbose=False)"
      ]
    },
    {
      "cell_type": "code",
      "execution_count": null,
      "metadata": {
        "colab": {
          "base_uri": "https://localhost:8080/"
        },
        "id": "t7riDdd5hxN2",
        "outputId": "2fb2f9da-bf46-47ea-a980-949685ce193b"
      },
      "outputs": [
        {
          "data": {
            "text/plain": [
              "0.5683524680462445"
            ]
          },
          "execution_count": 27,
          "metadata": {},
          "output_type": "execute_result"
        }
      ],
      "source": [
        "model.score(Xtrain, ytrain)"
      ]
    },
    {
      "cell_type": "code",
      "execution_count": null,
      "metadata": {
        "colab": {
          "base_uri": "https://localhost:8080/"
        },
        "id": "pgtuYlvaPFsX",
        "outputId": "409a005d-3ff4-4fa1-91db-3d366b870f05"
      },
      "outputs": [
        {
          "data": {
            "text/plain": [
              "0.10869186293870425"
            ]
          },
          "execution_count": 28,
          "metadata": {},
          "output_type": "execute_result"
        }
      ],
      "source": [
        "pred = model.predict(Xval)\n",
        "\n",
        "r2_score(yval, pred)"
      ]
    },
    {
      "cell_type": "code",
      "execution_count": null,
      "metadata": {
        "colab": {
          "base_uri": "https://localhost:8080/"
        },
        "id": "yhmmhfJWe6YD",
        "outputId": "6bc22c4c-6e9a-40dc-9f03-fb08ba0cf840"
      },
      "outputs": [
        {
          "name": "stderr",
          "output_type": "stream",
          "text": [
            "[I 2025-02-08 14:28:15,691] A new study created in memory with name: no-name-c9096abb-fb57-4952-b13e-64b7754b31f8\n",
            "[I 2025-02-08 14:28:20,448] Trial 0 finished with value: 0.13048013374024237 and parameters: {'learning_rate': 0.03110193373369352, 'n_estimators': 588, 'depth': 9}. Best is trial 0 with value: 0.13048013374024237.\n",
            "[I 2025-02-08 14:29:35,183] Trial 1 finished with value: 0.11146849753611132 and parameters: {'learning_rate': 0.011893937684847053, 'n_estimators': 238, 'depth': 14}. Best is trial 0 with value: 0.13048013374024237.\n",
            "[I 2025-02-08 14:29:37,106] Trial 2 finished with value: 0.13304952994846542 and parameters: {'learning_rate': 0.208204706149181, 'n_estimators': 697, 'depth': 11}. Best is trial 2 with value: 0.13304952994846542.\n",
            "[I 2025-02-08 14:30:46,049] Trial 3 finished with value: 0.13089117844234 and parameters: {'learning_rate': 0.013649036401518395, 'n_estimators': 631, 'depth': 13}. Best is trial 2 with value: 0.13304952994846542.\n",
            "[I 2025-02-08 14:30:49,863] Trial 4 finished with value: 0.07958692271469658 and parameters: {'learning_rate': 0.2899045158877564, 'n_estimators': 1428, 'depth': 12}. Best is trial 2 with value: 0.13304952994846542.\n",
            "[I 2025-02-08 14:31:02,018] Trial 5 finished with value: 0.10873374328430885 and parameters: {'learning_rate': 0.05628165250742908, 'n_estimators': 1112, 'depth': 12}. Best is trial 2 with value: 0.13304952994846542.\n",
            "[I 2025-02-08 14:31:03,116] Trial 6 finished with value: 0.1273468909601848 and parameters: {'learning_rate': 0.21213648363399773, 'n_estimators': 194, 'depth': 11}. Best is trial 2 with value: 0.13304952994846542.\n",
            "[I 2025-02-08 14:31:38,284] Trial 7 finished with value: 0.10407178075024004 and parameters: {'learning_rate': 0.23749192647343317, 'n_estimators': 1449, 'depth': 14}. Best is trial 2 with value: 0.13304952994846542.\n",
            "[I 2025-02-08 14:31:59,261] Trial 8 finished with value: 0.1190262591747876 and parameters: {'learning_rate': 0.0672194004720574, 'n_estimators': 1343, 'depth': 13}. Best is trial 2 with value: 0.13304952994846542.\n",
            "[I 2025-02-08 14:31:59,836] Trial 9 finished with value: 0.10462159011979588 and parameters: {'learning_rate': 0.07570081547518107, 'n_estimators': 962, 'depth': 6}. Best is trial 2 with value: 0.13304952994846542.\n",
            "[I 2025-02-08 14:31:59,976] Trial 10 finished with value: 0.11589484104584835 and parameters: {'learning_rate': 0.16372731973424956, 'n_estimators': 450, 'depth': 2}. Best is trial 2 with value: 0.13304952994846542.\n",
            "[I 2025-02-08 14:37:59,084] Trial 11 finished with value: 0.11266540233771327 and parameters: {'learning_rate': 0.019374776315045757, 'n_estimators': 832, 'depth': 16}. Best is trial 2 with value: 0.13304952994846542.\n",
            "[I 2025-02-08 14:38:00,066] Trial 12 finished with value: 0.1076596037814006 and parameters: {'learning_rate': 0.11111268304296561, 'n_estimators': 602, 'depth': 9}. Best is trial 2 with value: 0.13304952994846542.\n",
            "[I 2025-02-08 14:38:00,151] Trial 13 finished with value: 0.03470416638175389 and parameters: {'learning_rate': 0.030875775093956403, 'n_estimators': 11, 'depth': 7}. Best is trial 2 with value: 0.13304952994846542.\n",
            "[I 2025-02-08 14:51:11,579] Trial 14 finished with value: 0.12128138987606885 and parameters: {'learning_rate': 0.012380879674252533, 'n_estimators': 772, 'depth': 16}. Best is trial 2 with value: 0.13304952994846542.\n"
          ]
        },
        {
          "name": "stdout",
          "output_type": "stream",
          "text": [
            "FrozenTrial(number=2, state=1, values=[0.13304952994846542], datetime_start=datetime.datetime(2025, 2, 8, 14, 29, 35, 185048), datetime_complete=datetime.datetime(2025, 2, 8, 14, 29, 37, 106314), params={'learning_rate': 0.208204706149181, 'n_estimators': 697, 'depth': 11}, user_attrs={}, system_attrs={}, intermediate_values={}, distributions={'learning_rate': FloatDistribution(high=0.3, log=True, low=0.01, step=None), 'n_estimators': IntDistribution(high=1500, log=False, low=10, step=1), 'depth': IntDistribution(high=16, log=False, low=2, step=1)}, trial_id=2, value=None)\n"
          ]
        }
      ],
      "source": [
        "def objective(trial):\n",
        "    params = {\n",
        "        'learning_rate': trial.suggest_float('learning_rate', 0.01, 0.3, log=True),\n",
        "        'n_estimators': trial.suggest_int('n_estimators', 10, 1500),\n",
        "        'max_depth': trial.suggest_int('depth', 2, 16),\n",
        "        'verbose': 0,\n",
        "        'early_stopping_rounds': 50\n",
        "    }\n",
        "    estimator = CatBoostRegressor(**params, cat_features=cat_features)\n",
        "    estimator.fit(Xtrain, ytrain, eval_set=(Xval, yval), verbose=False,)\n",
        "    y_pred = estimator.predict(Xval)\n",
        "    return r2_score(yval, y_pred)\n",
        "\n",
        "\n",
        "study = optuna.create_study(direction=\"maximize\")\n",
        "study.optimize(objective, n_trials=15)\n",
        "print(study.best_trial)"
      ]
    },
    {
      "cell_type": "code",
      "execution_count": null,
      "metadata": {
        "colab": {
          "base_uri": "https://localhost:8080/"
        },
        "id": "Frl2CBIGe6SU",
        "outputId": "53d3bdc9-9119-477c-edbe-d8e88ecc430e"
      },
      "outputs": [
        {
          "data": {
            "text/plain": [
              "0.12086663448095858"
            ]
          },
          "execution_count": 30,
          "metadata": {},
          "output_type": "execute_result"
        }
      ],
      "source": [
        "hyper_param_model = CatBoostRegressor(**study.best_params, cat_features=cat_features, verbose=False)\n",
        "hyper_param_model.fit(Xtrain, ytrain)\n",
        "new_pred = hyper_param_model.predict(Xval)\n",
        "r2_score(yval, new_pred)"
      ]
    },
    {
      "cell_type": "code",
      "execution_count": null,
      "metadata": {
        "colab": {
          "base_uri": "https://localhost:8080/"
        },
        "id": "PnmlAem0ibav",
        "outputId": "ef39c236-f515-47c5-8226-e52069018e62"
      },
      "outputs": [
        {
          "data": {
            "text/plain": [
              "0.5297900016090413"
            ]
          },
          "execution_count": 31,
          "metadata": {},
          "output_type": "execute_result"
        }
      ],
      "source": [
        "hyper_param_model.score(Xtrain, ytrain)"
      ]
    },
    {
      "cell_type": "code",
      "execution_count": null,
      "metadata": {
        "id": "1NpTaspHibYl"
      },
      "outputs": [],
      "source": [
        "test_df = pd.read_csv(TEST)"
      ]
    },
    {
      "cell_type": "code",
      "execution_count": null,
      "metadata": {
        "colab": {
          "base_uri": "https://localhost:8080/"
        },
        "id": "Ti0FgE_DibWV",
        "outputId": "86abc7b4-4ab1-469f-aeb6-c356d885fb92"
      },
      "outputs": [
        {
          "name": "stdout",
          "output_type": "stream",
          "text": [
            "<class 'pandas.core.frame.DataFrame'>\n",
            "RangeIndex: 540 entries, 0 to 539\n",
            "Data columns (total 8 columns):\n",
            " #   Column                Non-Null Count  Dtype \n",
            "---  ------                --------------  ----- \n",
            " 0   Company               540 non-null    object\n",
            " 1   Specific Bean Origin  540 non-null    object\n",
            " 2   REF                   540 non-null    int64 \n",
            " 3   Review                540 non-null    int64 \n",
            " 4   Cocoa Percent         540 non-null    object\n",
            " 5   Company Location      540 non-null    object\n",
            " 6   Bean Type             540 non-null    object\n",
            " 7   Broad Bean Origin     540 non-null    object\n",
            "dtypes: int64(2), object(6)\n",
            "memory usage: 33.9+ KB\n"
          ]
        }
      ],
      "source": [
        "test_df.info()"
      ]
    },
    {
      "cell_type": "code",
      "execution_count": null,
      "metadata": {
        "id": "mxmSHJdPibRq"
      },
      "outputs": [],
      "source": [
        "cleaned_test_df = clean_data(test_df)"
      ]
    },
    {
      "cell_type": "code",
      "execution_count": null,
      "metadata": {
        "id": "tIkboRIQ2qM6"
      },
      "outputs": [],
      "source": [
        "pred_test = hyper_param_model.predict(cleaned_test_df)"
      ]
    },
    {
      "cell_type": "code",
      "execution_count": null,
      "metadata": {
        "id": "5CnS3Y-K2xTg"
      },
      "outputs": [],
      "source": [
        "cleaned_test_df['id'] = np.arange(len(test_df))\n",
        "cleaned_test_df['Rating'] = pred_test\n",
        "\n",
        "cleaned_test_df[['id','Rating']].to_csv(\"submission2.csv\", index=False)"
      ]
    }
  ],
  "metadata": {
    "colab": {
      "provenance": []
    },
    "kernelspec": {
      "display_name": "chocolate",
      "language": "python",
      "name": "python3"
    },
    "language_info": {
      "name": "python",
      "version": "3.9.22"
    }
  },
  "nbformat": 4,
  "nbformat_minor": 0
}
